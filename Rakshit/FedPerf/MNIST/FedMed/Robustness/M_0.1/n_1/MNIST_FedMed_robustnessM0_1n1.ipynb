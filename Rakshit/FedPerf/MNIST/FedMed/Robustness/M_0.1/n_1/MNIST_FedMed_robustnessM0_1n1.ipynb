{
  "nbformat": 4,
  "nbformat_minor": 0,
  "metadata": {
    "accelerator": "GPU",
    "colab": {
      "name": "MNIST_FedMed_robustnessM0_1n1.ipynb",
      "provenance": [],
      "collapsed_sections": [
        "z_jifdzniuhm",
        "w7NddQfAN1uk",
        "7JOrGXijO-n5"
      ],
      "machine_shape": "hm"
    },
    "kernelspec": {
      "display_name": "Python 3",
      "name": "python3"
    },
    "widgets": {
      "application/vnd.jupyter.widget-state+json": {
        "4c4fabff493e4fab852bf8ae24f910fd": {
          "model_module": "@jupyter-widgets/controls",
          "model_name": "HBoxModel",
          "state": {
            "_view_name": "HBoxView",
            "_dom_classes": [],
            "_model_name": "HBoxModel",
            "_view_module": "@jupyter-widgets/controls",
            "_model_module_version": "1.5.0",
            "_view_count": null,
            "_view_module_version": "1.5.0",
            "box_style": "",
            "layout": "IPY_MODEL_20b3c9119e814eebb89a702075b77e6e",
            "_model_module": "@jupyter-widgets/controls",
            "children": [
              "IPY_MODEL_967e2a30317646ea932a26102716e354",
              "IPY_MODEL_4220f1e3aa8a43c09655a2def1f2654a"
            ]
          }
        },
        "20b3c9119e814eebb89a702075b77e6e": {
          "model_module": "@jupyter-widgets/base",
          "model_name": "LayoutModel",
          "state": {
            "_view_name": "LayoutView",
            "grid_template_rows": null,
            "right": null,
            "justify_content": null,
            "_view_module": "@jupyter-widgets/base",
            "overflow": null,
            "_model_module_version": "1.2.0",
            "_view_count": null,
            "flex_flow": null,
            "width": null,
            "min_width": null,
            "border": null,
            "align_items": null,
            "bottom": null,
            "_model_module": "@jupyter-widgets/base",
            "top": null,
            "grid_column": null,
            "overflow_y": null,
            "overflow_x": null,
            "grid_auto_flow": null,
            "grid_area": null,
            "grid_template_columns": null,
            "flex": null,
            "_model_name": "LayoutModel",
            "justify_items": null,
            "grid_row": null,
            "max_height": null,
            "align_content": null,
            "visibility": null,
            "align_self": null,
            "height": null,
            "min_height": null,
            "padding": null,
            "grid_auto_rows": null,
            "grid_gap": null,
            "max_width": null,
            "order": null,
            "_view_module_version": "1.2.0",
            "grid_template_areas": null,
            "object_position": null,
            "object_fit": null,
            "grid_auto_columns": null,
            "margin": null,
            "display": null,
            "left": null
          }
        },
        "967e2a30317646ea932a26102716e354": {
          "model_module": "@jupyter-widgets/controls",
          "model_name": "FloatProgressModel",
          "state": {
            "_view_name": "ProgressView",
            "style": "IPY_MODEL_9ae4f119bbdd48ea923a8041f3ead03d",
            "_dom_classes": [],
            "description": "",
            "_model_name": "FloatProgressModel",
            "bar_style": "success",
            "max": 9912422,
            "_view_module": "@jupyter-widgets/controls",
            "_model_module_version": "1.5.0",
            "value": 9912422,
            "_view_count": null,
            "_view_module_version": "1.5.0",
            "orientation": "horizontal",
            "min": 0,
            "description_tooltip": null,
            "_model_module": "@jupyter-widgets/controls",
            "layout": "IPY_MODEL_3ac4a462ec444fa1a66f04f2f4f760c9"
          }
        },
        "4220f1e3aa8a43c09655a2def1f2654a": {
          "model_module": "@jupyter-widgets/controls",
          "model_name": "HTMLModel",
          "state": {
            "_view_name": "HTMLView",
            "style": "IPY_MODEL_c46c71f1bf7b43ada4fe250984f2e979",
            "_dom_classes": [],
            "description": "",
            "_model_name": "HTMLModel",
            "placeholder": "​",
            "_view_module": "@jupyter-widgets/controls",
            "_model_module_version": "1.5.0",
            "value": " 9913344/? [00:21&lt;00:00, 455466.88it/s]",
            "_view_count": null,
            "_view_module_version": "1.5.0",
            "description_tooltip": null,
            "_model_module": "@jupyter-widgets/controls",
            "layout": "IPY_MODEL_d674d2ef560e42bd9bf204721b3319ee"
          }
        },
        "9ae4f119bbdd48ea923a8041f3ead03d": {
          "model_module": "@jupyter-widgets/controls",
          "model_name": "ProgressStyleModel",
          "state": {
            "_view_name": "StyleView",
            "_model_name": "ProgressStyleModel",
            "description_width": "initial",
            "_view_module": "@jupyter-widgets/base",
            "_model_module_version": "1.5.0",
            "_view_count": null,
            "_view_module_version": "1.2.0",
            "bar_color": null,
            "_model_module": "@jupyter-widgets/controls"
          }
        },
        "3ac4a462ec444fa1a66f04f2f4f760c9": {
          "model_module": "@jupyter-widgets/base",
          "model_name": "LayoutModel",
          "state": {
            "_view_name": "LayoutView",
            "grid_template_rows": null,
            "right": null,
            "justify_content": null,
            "_view_module": "@jupyter-widgets/base",
            "overflow": null,
            "_model_module_version": "1.2.0",
            "_view_count": null,
            "flex_flow": null,
            "width": null,
            "min_width": null,
            "border": null,
            "align_items": null,
            "bottom": null,
            "_model_module": "@jupyter-widgets/base",
            "top": null,
            "grid_column": null,
            "overflow_y": null,
            "overflow_x": null,
            "grid_auto_flow": null,
            "grid_area": null,
            "grid_template_columns": null,
            "flex": null,
            "_model_name": "LayoutModel",
            "justify_items": null,
            "grid_row": null,
            "max_height": null,
            "align_content": null,
            "visibility": null,
            "align_self": null,
            "height": null,
            "min_height": null,
            "padding": null,
            "grid_auto_rows": null,
            "grid_gap": null,
            "max_width": null,
            "order": null,
            "_view_module_version": "1.2.0",
            "grid_template_areas": null,
            "object_position": null,
            "object_fit": null,
            "grid_auto_columns": null,
            "margin": null,
            "display": null,
            "left": null
          }
        },
        "c46c71f1bf7b43ada4fe250984f2e979": {
          "model_module": "@jupyter-widgets/controls",
          "model_name": "DescriptionStyleModel",
          "state": {
            "_view_name": "StyleView",
            "_model_name": "DescriptionStyleModel",
            "description_width": "",
            "_view_module": "@jupyter-widgets/base",
            "_model_module_version": "1.5.0",
            "_view_count": null,
            "_view_module_version": "1.2.0",
            "_model_module": "@jupyter-widgets/controls"
          }
        },
        "d674d2ef560e42bd9bf204721b3319ee": {
          "model_module": "@jupyter-widgets/base",
          "model_name": "LayoutModel",
          "state": {
            "_view_name": "LayoutView",
            "grid_template_rows": null,
            "right": null,
            "justify_content": null,
            "_view_module": "@jupyter-widgets/base",
            "overflow": null,
            "_model_module_version": "1.2.0",
            "_view_count": null,
            "flex_flow": null,
            "width": null,
            "min_width": null,
            "border": null,
            "align_items": null,
            "bottom": null,
            "_model_module": "@jupyter-widgets/base",
            "top": null,
            "grid_column": null,
            "overflow_y": null,
            "overflow_x": null,
            "grid_auto_flow": null,
            "grid_area": null,
            "grid_template_columns": null,
            "flex": null,
            "_model_name": "LayoutModel",
            "justify_items": null,
            "grid_row": null,
            "max_height": null,
            "align_content": null,
            "visibility": null,
            "align_self": null,
            "height": null,
            "min_height": null,
            "padding": null,
            "grid_auto_rows": null,
            "grid_gap": null,
            "max_width": null,
            "order": null,
            "_view_module_version": "1.2.0",
            "grid_template_areas": null,
            "object_position": null,
            "object_fit": null,
            "grid_auto_columns": null,
            "margin": null,
            "display": null,
            "left": null
          }
        },
        "5a701df79bf34520a6f39333b9aa7e9f": {
          "model_module": "@jupyter-widgets/controls",
          "model_name": "HBoxModel",
          "state": {
            "_view_name": "HBoxView",
            "_dom_classes": [],
            "_model_name": "HBoxModel",
            "_view_module": "@jupyter-widgets/controls",
            "_model_module_version": "1.5.0",
            "_view_count": null,
            "_view_module_version": "1.5.0",
            "box_style": "",
            "layout": "IPY_MODEL_28c798c89d984f4eb2a33eb6b1536aa7",
            "_model_module": "@jupyter-widgets/controls",
            "children": [
              "IPY_MODEL_8e858cfc94f7414791983613f06b7bdf",
              "IPY_MODEL_8f8fedd9852a47599de12e53290243dc"
            ]
          }
        },
        "28c798c89d984f4eb2a33eb6b1536aa7": {
          "model_module": "@jupyter-widgets/base",
          "model_name": "LayoutModel",
          "state": {
            "_view_name": "LayoutView",
            "grid_template_rows": null,
            "right": null,
            "justify_content": null,
            "_view_module": "@jupyter-widgets/base",
            "overflow": null,
            "_model_module_version": "1.2.0",
            "_view_count": null,
            "flex_flow": null,
            "width": null,
            "min_width": null,
            "border": null,
            "align_items": null,
            "bottom": null,
            "_model_module": "@jupyter-widgets/base",
            "top": null,
            "grid_column": null,
            "overflow_y": null,
            "overflow_x": null,
            "grid_auto_flow": null,
            "grid_area": null,
            "grid_template_columns": null,
            "flex": null,
            "_model_name": "LayoutModel",
            "justify_items": null,
            "grid_row": null,
            "max_height": null,
            "align_content": null,
            "visibility": null,
            "align_self": null,
            "height": null,
            "min_height": null,
            "padding": null,
            "grid_auto_rows": null,
            "grid_gap": null,
            "max_width": null,
            "order": null,
            "_view_module_version": "1.2.0",
            "grid_template_areas": null,
            "object_position": null,
            "object_fit": null,
            "grid_auto_columns": null,
            "margin": null,
            "display": null,
            "left": null
          }
        },
        "8e858cfc94f7414791983613f06b7bdf": {
          "model_module": "@jupyter-widgets/controls",
          "model_name": "FloatProgressModel",
          "state": {
            "_view_name": "ProgressView",
            "style": "IPY_MODEL_ee60345934a84693a72c2cb9706e1a12",
            "_dom_classes": [],
            "description": "",
            "_model_name": "FloatProgressModel",
            "bar_style": "success",
            "max": 28881,
            "_view_module": "@jupyter-widgets/controls",
            "_model_module_version": "1.5.0",
            "value": 28881,
            "_view_count": null,
            "_view_module_version": "1.5.0",
            "orientation": "horizontal",
            "min": 0,
            "description_tooltip": null,
            "_model_module": "@jupyter-widgets/controls",
            "layout": "IPY_MODEL_c6dea5666ca94309a0f7095211961fe8"
          }
        },
        "8f8fedd9852a47599de12e53290243dc": {
          "model_module": "@jupyter-widgets/controls",
          "model_name": "HTMLModel",
          "state": {
            "_view_name": "HTMLView",
            "style": "IPY_MODEL_3d3e5d88410c4d4289ac20d42e5983bc",
            "_dom_classes": [],
            "description": "",
            "_model_name": "HTMLModel",
            "placeholder": "​",
            "_view_module": "@jupyter-widgets/controls",
            "_model_module_version": "1.5.0",
            "value": " 29696/? [00:05&lt;00:00, 5599.47it/s]",
            "_view_count": null,
            "_view_module_version": "1.5.0",
            "description_tooltip": null,
            "_model_module": "@jupyter-widgets/controls",
            "layout": "IPY_MODEL_dbbca622d3804a33a32c64634c4610e3"
          }
        },
        "ee60345934a84693a72c2cb9706e1a12": {
          "model_module": "@jupyter-widgets/controls",
          "model_name": "ProgressStyleModel",
          "state": {
            "_view_name": "StyleView",
            "_model_name": "ProgressStyleModel",
            "description_width": "initial",
            "_view_module": "@jupyter-widgets/base",
            "_model_module_version": "1.5.0",
            "_view_count": null,
            "_view_module_version": "1.2.0",
            "bar_color": null,
            "_model_module": "@jupyter-widgets/controls"
          }
        },
        "c6dea5666ca94309a0f7095211961fe8": {
          "model_module": "@jupyter-widgets/base",
          "model_name": "LayoutModel",
          "state": {
            "_view_name": "LayoutView",
            "grid_template_rows": null,
            "right": null,
            "justify_content": null,
            "_view_module": "@jupyter-widgets/base",
            "overflow": null,
            "_model_module_version": "1.2.0",
            "_view_count": null,
            "flex_flow": null,
            "width": null,
            "min_width": null,
            "border": null,
            "align_items": null,
            "bottom": null,
            "_model_module": "@jupyter-widgets/base",
            "top": null,
            "grid_column": null,
            "overflow_y": null,
            "overflow_x": null,
            "grid_auto_flow": null,
            "grid_area": null,
            "grid_template_columns": null,
            "flex": null,
            "_model_name": "LayoutModel",
            "justify_items": null,
            "grid_row": null,
            "max_height": null,
            "align_content": null,
            "visibility": null,
            "align_self": null,
            "height": null,
            "min_height": null,
            "padding": null,
            "grid_auto_rows": null,
            "grid_gap": null,
            "max_width": null,
            "order": null,
            "_view_module_version": "1.2.0",
            "grid_template_areas": null,
            "object_position": null,
            "object_fit": null,
            "grid_auto_columns": null,
            "margin": null,
            "display": null,
            "left": null
          }
        },
        "3d3e5d88410c4d4289ac20d42e5983bc": {
          "model_module": "@jupyter-widgets/controls",
          "model_name": "DescriptionStyleModel",
          "state": {
            "_view_name": "StyleView",
            "_model_name": "DescriptionStyleModel",
            "description_width": "",
            "_view_module": "@jupyter-widgets/base",
            "_model_module_version": "1.5.0",
            "_view_count": null,
            "_view_module_version": "1.2.0",
            "_model_module": "@jupyter-widgets/controls"
          }
        },
        "dbbca622d3804a33a32c64634c4610e3": {
          "model_module": "@jupyter-widgets/base",
          "model_name": "LayoutModel",
          "state": {
            "_view_name": "LayoutView",
            "grid_template_rows": null,
            "right": null,
            "justify_content": null,
            "_view_module": "@jupyter-widgets/base",
            "overflow": null,
            "_model_module_version": "1.2.0",
            "_view_count": null,
            "flex_flow": null,
            "width": null,
            "min_width": null,
            "border": null,
            "align_items": null,
            "bottom": null,
            "_model_module": "@jupyter-widgets/base",
            "top": null,
            "grid_column": null,
            "overflow_y": null,
            "overflow_x": null,
            "grid_auto_flow": null,
            "grid_area": null,
            "grid_template_columns": null,
            "flex": null,
            "_model_name": "LayoutModel",
            "justify_items": null,
            "grid_row": null,
            "max_height": null,
            "align_content": null,
            "visibility": null,
            "align_self": null,
            "height": null,
            "min_height": null,
            "padding": null,
            "grid_auto_rows": null,
            "grid_gap": null,
            "max_width": null,
            "order": null,
            "_view_module_version": "1.2.0",
            "grid_template_areas": null,
            "object_position": null,
            "object_fit": null,
            "grid_auto_columns": null,
            "margin": null,
            "display": null,
            "left": null
          }
        },
        "233e55e120794b04ad7c69a604da1ddf": {
          "model_module": "@jupyter-widgets/controls",
          "model_name": "HBoxModel",
          "state": {
            "_view_name": "HBoxView",
            "_dom_classes": [],
            "_model_name": "HBoxModel",
            "_view_module": "@jupyter-widgets/controls",
            "_model_module_version": "1.5.0",
            "_view_count": null,
            "_view_module_version": "1.5.0",
            "box_style": "",
            "layout": "IPY_MODEL_a142a7127db14e26ade72d3aff74b8a4",
            "_model_module": "@jupyter-widgets/controls",
            "children": [
              "IPY_MODEL_86f3272888654a4cbe2199749ddd1c21",
              "IPY_MODEL_7e70ca6a84fd414a88d50d722209a3ed"
            ]
          }
        },
        "a142a7127db14e26ade72d3aff74b8a4": {
          "model_module": "@jupyter-widgets/base",
          "model_name": "LayoutModel",
          "state": {
            "_view_name": "LayoutView",
            "grid_template_rows": null,
            "right": null,
            "justify_content": null,
            "_view_module": "@jupyter-widgets/base",
            "overflow": null,
            "_model_module_version": "1.2.0",
            "_view_count": null,
            "flex_flow": null,
            "width": null,
            "min_width": null,
            "border": null,
            "align_items": null,
            "bottom": null,
            "_model_module": "@jupyter-widgets/base",
            "top": null,
            "grid_column": null,
            "overflow_y": null,
            "overflow_x": null,
            "grid_auto_flow": null,
            "grid_area": null,
            "grid_template_columns": null,
            "flex": null,
            "_model_name": "LayoutModel",
            "justify_items": null,
            "grid_row": null,
            "max_height": null,
            "align_content": null,
            "visibility": null,
            "align_self": null,
            "height": null,
            "min_height": null,
            "padding": null,
            "grid_auto_rows": null,
            "grid_gap": null,
            "max_width": null,
            "order": null,
            "_view_module_version": "1.2.0",
            "grid_template_areas": null,
            "object_position": null,
            "object_fit": null,
            "grid_auto_columns": null,
            "margin": null,
            "display": null,
            "left": null
          }
        },
        "86f3272888654a4cbe2199749ddd1c21": {
          "model_module": "@jupyter-widgets/controls",
          "model_name": "FloatProgressModel",
          "state": {
            "_view_name": "ProgressView",
            "style": "IPY_MODEL_6a06a44fc8b54f1e8c3a31894799b151",
            "_dom_classes": [],
            "description": "",
            "_model_name": "FloatProgressModel",
            "bar_style": "success",
            "max": 1648877,
            "_view_module": "@jupyter-widgets/controls",
            "_model_module_version": "1.5.0",
            "value": 1648877,
            "_view_count": null,
            "_view_module_version": "1.5.0",
            "orientation": "horizontal",
            "min": 0,
            "description_tooltip": null,
            "_model_module": "@jupyter-widgets/controls",
            "layout": "IPY_MODEL_7a3aab36be274b49b4fe945ccf4a67ab"
          }
        },
        "7e70ca6a84fd414a88d50d722209a3ed": {
          "model_module": "@jupyter-widgets/controls",
          "model_name": "HTMLModel",
          "state": {
            "_view_name": "HTMLView",
            "style": "IPY_MODEL_30b2eb907b52466d9df6e6e714f537f3",
            "_dom_classes": [],
            "description": "",
            "_model_name": "HTMLModel",
            "placeholder": "​",
            "_view_module": "@jupyter-widgets/controls",
            "_model_module_version": "1.5.0",
            "value": " 1649664/? [00:03&lt;00:00, 509219.48it/s]",
            "_view_count": null,
            "_view_module_version": "1.5.0",
            "description_tooltip": null,
            "_model_module": "@jupyter-widgets/controls",
            "layout": "IPY_MODEL_3013014fe1784a2383a7055b84c658d4"
          }
        },
        "6a06a44fc8b54f1e8c3a31894799b151": {
          "model_module": "@jupyter-widgets/controls",
          "model_name": "ProgressStyleModel",
          "state": {
            "_view_name": "StyleView",
            "_model_name": "ProgressStyleModel",
            "description_width": "initial",
            "_view_module": "@jupyter-widgets/base",
            "_model_module_version": "1.5.0",
            "_view_count": null,
            "_view_module_version": "1.2.0",
            "bar_color": null,
            "_model_module": "@jupyter-widgets/controls"
          }
        },
        "7a3aab36be274b49b4fe945ccf4a67ab": {
          "model_module": "@jupyter-widgets/base",
          "model_name": "LayoutModel",
          "state": {
            "_view_name": "LayoutView",
            "grid_template_rows": null,
            "right": null,
            "justify_content": null,
            "_view_module": "@jupyter-widgets/base",
            "overflow": null,
            "_model_module_version": "1.2.0",
            "_view_count": null,
            "flex_flow": null,
            "width": null,
            "min_width": null,
            "border": null,
            "align_items": null,
            "bottom": null,
            "_model_module": "@jupyter-widgets/base",
            "top": null,
            "grid_column": null,
            "overflow_y": null,
            "overflow_x": null,
            "grid_auto_flow": null,
            "grid_area": null,
            "grid_template_columns": null,
            "flex": null,
            "_model_name": "LayoutModel",
            "justify_items": null,
            "grid_row": null,
            "max_height": null,
            "align_content": null,
            "visibility": null,
            "align_self": null,
            "height": null,
            "min_height": null,
            "padding": null,
            "grid_auto_rows": null,
            "grid_gap": null,
            "max_width": null,
            "order": null,
            "_view_module_version": "1.2.0",
            "grid_template_areas": null,
            "object_position": null,
            "object_fit": null,
            "grid_auto_columns": null,
            "margin": null,
            "display": null,
            "left": null
          }
        },
        "30b2eb907b52466d9df6e6e714f537f3": {
          "model_module": "@jupyter-widgets/controls",
          "model_name": "DescriptionStyleModel",
          "state": {
            "_view_name": "StyleView",
            "_model_name": "DescriptionStyleModel",
            "description_width": "",
            "_view_module": "@jupyter-widgets/base",
            "_model_module_version": "1.5.0",
            "_view_count": null,
            "_view_module_version": "1.2.0",
            "_model_module": "@jupyter-widgets/controls"
          }
        },
        "3013014fe1784a2383a7055b84c658d4": {
          "model_module": "@jupyter-widgets/base",
          "model_name": "LayoutModel",
          "state": {
            "_view_name": "LayoutView",
            "grid_template_rows": null,
            "right": null,
            "justify_content": null,
            "_view_module": "@jupyter-widgets/base",
            "overflow": null,
            "_model_module_version": "1.2.0",
            "_view_count": null,
            "flex_flow": null,
            "width": null,
            "min_width": null,
            "border": null,
            "align_items": null,
            "bottom": null,
            "_model_module": "@jupyter-widgets/base",
            "top": null,
            "grid_column": null,
            "overflow_y": null,
            "overflow_x": null,
            "grid_auto_flow": null,
            "grid_area": null,
            "grid_template_columns": null,
            "flex": null,
            "_model_name": "LayoutModel",
            "justify_items": null,
            "grid_row": null,
            "max_height": null,
            "align_content": null,
            "visibility": null,
            "align_self": null,
            "height": null,
            "min_height": null,
            "padding": null,
            "grid_auto_rows": null,
            "grid_gap": null,
            "max_width": null,
            "order": null,
            "_view_module_version": "1.2.0",
            "grid_template_areas": null,
            "object_position": null,
            "object_fit": null,
            "grid_auto_columns": null,
            "margin": null,
            "display": null,
            "left": null
          }
        },
        "e167982bfc8648c0a005cd5ca5ba833e": {
          "model_module": "@jupyter-widgets/controls",
          "model_name": "HBoxModel",
          "state": {
            "_view_name": "HBoxView",
            "_dom_classes": [],
            "_model_name": "HBoxModel",
            "_view_module": "@jupyter-widgets/controls",
            "_model_module_version": "1.5.0",
            "_view_count": null,
            "_view_module_version": "1.5.0",
            "box_style": "",
            "layout": "IPY_MODEL_4f2d2da56b2341178b66925cca98e23a",
            "_model_module": "@jupyter-widgets/controls",
            "children": [
              "IPY_MODEL_8e7340acdd794c6ebaaba87a33133652",
              "IPY_MODEL_a4fbf8a0dae340b899116b456a6a1028"
            ]
          }
        },
        "4f2d2da56b2341178b66925cca98e23a": {
          "model_module": "@jupyter-widgets/base",
          "model_name": "LayoutModel",
          "state": {
            "_view_name": "LayoutView",
            "grid_template_rows": null,
            "right": null,
            "justify_content": null,
            "_view_module": "@jupyter-widgets/base",
            "overflow": null,
            "_model_module_version": "1.2.0",
            "_view_count": null,
            "flex_flow": null,
            "width": null,
            "min_width": null,
            "border": null,
            "align_items": null,
            "bottom": null,
            "_model_module": "@jupyter-widgets/base",
            "top": null,
            "grid_column": null,
            "overflow_y": null,
            "overflow_x": null,
            "grid_auto_flow": null,
            "grid_area": null,
            "grid_template_columns": null,
            "flex": null,
            "_model_name": "LayoutModel",
            "justify_items": null,
            "grid_row": null,
            "max_height": null,
            "align_content": null,
            "visibility": null,
            "align_self": null,
            "height": null,
            "min_height": null,
            "padding": null,
            "grid_auto_rows": null,
            "grid_gap": null,
            "max_width": null,
            "order": null,
            "_view_module_version": "1.2.0",
            "grid_template_areas": null,
            "object_position": null,
            "object_fit": null,
            "grid_auto_columns": null,
            "margin": null,
            "display": null,
            "left": null
          }
        },
        "8e7340acdd794c6ebaaba87a33133652": {
          "model_module": "@jupyter-widgets/controls",
          "model_name": "FloatProgressModel",
          "state": {
            "_view_name": "ProgressView",
            "style": "IPY_MODEL_3785a34d206143ca871e44684a2bbd50",
            "_dom_classes": [],
            "description": "",
            "_model_name": "FloatProgressModel",
            "bar_style": "success",
            "max": 4542,
            "_view_module": "@jupyter-widgets/controls",
            "_model_module_version": "1.5.0",
            "value": 4542,
            "_view_count": null,
            "_view_module_version": "1.5.0",
            "orientation": "horizontal",
            "min": 0,
            "description_tooltip": null,
            "_model_module": "@jupyter-widgets/controls",
            "layout": "IPY_MODEL_694038aeb7454109895ca5a372675432"
          }
        },
        "a4fbf8a0dae340b899116b456a6a1028": {
          "model_module": "@jupyter-widgets/controls",
          "model_name": "HTMLModel",
          "state": {
            "_view_name": "HTMLView",
            "style": "IPY_MODEL_2d01018d1469489790bff058cfd10245",
            "_dom_classes": [],
            "description": "",
            "_model_name": "HTMLModel",
            "placeholder": "​",
            "_view_module": "@jupyter-widgets/controls",
            "_model_module_version": "1.5.0",
            "value": " 5120/? [00:12&lt;00:00, 414.83it/s]",
            "_view_count": null,
            "_view_module_version": "1.5.0",
            "description_tooltip": null,
            "_model_module": "@jupyter-widgets/controls",
            "layout": "IPY_MODEL_0e989dd530894d4298e4c6ebb0a84c4a"
          }
        },
        "3785a34d206143ca871e44684a2bbd50": {
          "model_module": "@jupyter-widgets/controls",
          "model_name": "ProgressStyleModel",
          "state": {
            "_view_name": "StyleView",
            "_model_name": "ProgressStyleModel",
            "description_width": "initial",
            "_view_module": "@jupyter-widgets/base",
            "_model_module_version": "1.5.0",
            "_view_count": null,
            "_view_module_version": "1.2.0",
            "bar_color": null,
            "_model_module": "@jupyter-widgets/controls"
          }
        },
        "694038aeb7454109895ca5a372675432": {
          "model_module": "@jupyter-widgets/base",
          "model_name": "LayoutModel",
          "state": {
            "_view_name": "LayoutView",
            "grid_template_rows": null,
            "right": null,
            "justify_content": null,
            "_view_module": "@jupyter-widgets/base",
            "overflow": null,
            "_model_module_version": "1.2.0",
            "_view_count": null,
            "flex_flow": null,
            "width": null,
            "min_width": null,
            "border": null,
            "align_items": null,
            "bottom": null,
            "_model_module": "@jupyter-widgets/base",
            "top": null,
            "grid_column": null,
            "overflow_y": null,
            "overflow_x": null,
            "grid_auto_flow": null,
            "grid_area": null,
            "grid_template_columns": null,
            "flex": null,
            "_model_name": "LayoutModel",
            "justify_items": null,
            "grid_row": null,
            "max_height": null,
            "align_content": null,
            "visibility": null,
            "align_self": null,
            "height": null,
            "min_height": null,
            "padding": null,
            "grid_auto_rows": null,
            "grid_gap": null,
            "max_width": null,
            "order": null,
            "_view_module_version": "1.2.0",
            "grid_template_areas": null,
            "object_position": null,
            "object_fit": null,
            "grid_auto_columns": null,
            "margin": null,
            "display": null,
            "left": null
          }
        },
        "2d01018d1469489790bff058cfd10245": {
          "model_module": "@jupyter-widgets/controls",
          "model_name": "DescriptionStyleModel",
          "state": {
            "_view_name": "StyleView",
            "_model_name": "DescriptionStyleModel",
            "description_width": "",
            "_view_module": "@jupyter-widgets/base",
            "_model_module_version": "1.5.0",
            "_view_count": null,
            "_view_module_version": "1.2.0",
            "_model_module": "@jupyter-widgets/controls"
          }
        },
        "0e989dd530894d4298e4c6ebb0a84c4a": {
          "model_module": "@jupyter-widgets/base",
          "model_name": "LayoutModel",
          "state": {
            "_view_name": "LayoutView",
            "grid_template_rows": null,
            "right": null,
            "justify_content": null,
            "_view_module": "@jupyter-widgets/base",
            "overflow": null,
            "_model_module_version": "1.2.0",
            "_view_count": null,
            "flex_flow": null,
            "width": null,
            "min_width": null,
            "border": null,
            "align_items": null,
            "bottom": null,
            "_model_module": "@jupyter-widgets/base",
            "top": null,
            "grid_column": null,
            "overflow_y": null,
            "overflow_x": null,
            "grid_auto_flow": null,
            "grid_area": null,
            "grid_template_columns": null,
            "flex": null,
            "_model_name": "LayoutModel",
            "justify_items": null,
            "grid_row": null,
            "max_height": null,
            "align_content": null,
            "visibility": null,
            "align_self": null,
            "height": null,
            "min_height": null,
            "padding": null,
            "grid_auto_rows": null,
            "grid_gap": null,
            "max_width": null,
            "order": null,
            "_view_module_version": "1.2.0",
            "grid_template_areas": null,
            "object_position": null,
            "object_fit": null,
            "grid_auto_columns": null,
            "margin": null,
            "display": null,
            "left": null
          }
        }
      }
    }
  },
  "cells": [
    {
      "cell_type": "code",
      "metadata": {
        "id": "0iaf_Ccaq_4Y"
      },
      "source": [
        "#!pip install torchvision==0.8.0"
      ],
      "execution_count": 1,
      "outputs": []
    },
    {
      "cell_type": "code",
      "metadata": {
        "colab": {
          "base_uri": "https://localhost:8080/"
        },
        "id": "AD8zc_5Lpdcu",
        "outputId": "b9059419-fc66-4619-94f5-2e8813eb193d"
      },
      "source": [
        "from google.colab import drive\n",
        "drive.mount('/gdrive')\n",
        "%cd /gdrive"
      ],
      "execution_count": 2,
      "outputs": [
        {
          "output_type": "stream",
          "text": [
            "Mounted at /gdrive\n",
            "/gdrive\n"
          ],
          "name": "stdout"
        }
      ]
    },
    {
      "cell_type": "code",
      "metadata": {
        "colab": {
          "base_uri": "https://localhost:8080/"
        },
        "id": "DLLNM9X2JbQ8",
        "outputId": "ebdfadbb-400b-408c-952d-0ae6904f0b25"
      },
      "source": [
        "%load_ext tensorboard\n",
        "import os\n",
        "import numpy as np\n",
        "import matplotlib\n",
        "import matplotlib.pyplot as plt\n",
        "import copy\n",
        "import random\n",
        "import time\n",
        "\n",
        "import torch\n",
        "import torch.nn as nn\n",
        "import torch.nn.functional as F\n",
        "\n",
        "from torch.utils.data import Dataset, DataLoader\n",
        "from torch.utils.tensorboard import SummaryWriter\n",
        "from torchvision import transforms, utils, datasets\n",
        "from torchsummary import summary\n",
        "\n",
        "\n",
        "# Check assigned GPU\n",
        "gpu_info = !nvidia-smi\n",
        "gpu_info = '\\n'.join(gpu_info)\n",
        "if gpu_info.find('failed') >= 0:\n",
        "  print('Select the Runtime > \"Change runtime type\" menu to enable a GPU accelerator, ')\n",
        "  print('and then re-execute this cell.')\n",
        "else:\n",
        "  print(gpu_info)\n",
        "\n",
        "# set manual seed for reproducibility\n",
        "seed = 42\n",
        "\n",
        "# general reproducibility\n",
        "random.seed(seed)\n",
        "np.random.seed(seed)\n",
        "torch.manual_seed(seed)\n",
        "\n",
        "# gpu training specific\n",
        "torch.backends.cudnn.deterministic = True\n",
        "torch.backends.cudnn.benchmark = False"
      ],
      "execution_count": 3,
      "outputs": [
        {
          "output_type": "stream",
          "text": [
            "Wed Mar 31 14:25:54 2021       \n",
            "+-----------------------------------------------------------------------------+\n",
            "| NVIDIA-SMI 460.67       Driver Version: 460.32.03    CUDA Version: 11.2     |\n",
            "|-------------------------------+----------------------+----------------------+\n",
            "| GPU  Name        Persistence-M| Bus-Id        Disp.A | Volatile Uncorr. ECC |\n",
            "| Fan  Temp  Perf  Pwr:Usage/Cap|         Memory-Usage | GPU-Util  Compute M. |\n",
            "|                               |                      |               MIG M. |\n",
            "|===============================+======================+======================|\n",
            "|   0  Tesla P100-PCIE...  Off  | 00000000:00:04.0 Off |                    0 |\n",
            "| N/A   35C    P0    27W / 250W |      0MiB / 16280MiB |      0%      Default |\n",
            "|                               |                      |                  N/A |\n",
            "+-------------------------------+----------------------+----------------------+\n",
            "                                                                               \n",
            "+-----------------------------------------------------------------------------+\n",
            "| Processes:                                                                  |\n",
            "|  GPU   GI   CI        PID   Type   Process name                  GPU Memory |\n",
            "|        ID   ID                                                   Usage      |\n",
            "|=============================================================================|\n",
            "|  No running processes found                                                 |\n",
            "+-----------------------------------------------------------------------------+\n"
          ],
          "name": "stdout"
        }
      ]
    },
    {
      "cell_type": "markdown",
      "metadata": {
        "id": "NY4eWzGiL6Mj"
      },
      "source": [
        "## Load the MNIST Dataset"
      ]
    },
    {
      "cell_type": "code",
      "metadata": {
        "colab": {
          "base_uri": "https://localhost:8080/",
          "height": 52
        },
        "id": "tiaxWFmTGVBq",
        "outputId": "d170c29e-9346-48c2-e1a2-05f9b3152bae"
      },
      "source": [
        "'''\n",
        "from six.moves import urllib\n",
        "opener = urllib.request.build_opener()\n",
        "opener.addheaders = [('User-agent', 'Mozilla/5.0')]\n",
        "urllib.request.install_opener(opener)\n",
        "'''"
      ],
      "execution_count": 4,
      "outputs": [
        {
          "output_type": "execute_result",
          "data": {
            "application/vnd.google.colaboratory.intrinsic+json": {
              "type": "string"
            },
            "text/plain": [
              "\"\\nfrom six.moves import urllib\\nopener = urllib.request.build_opener()\\nopener.addheaders = [('User-agent', 'Mozilla/5.0')]\\nurllib.request.install_opener(opener)\\n\""
            ]
          },
          "metadata": {
            "tags": []
          },
          "execution_count": 4
        }
      ]
    },
    {
      "cell_type": "code",
      "metadata": {
        "colab": {
          "base_uri": "https://localhost:8080/",
          "height": 86
        },
        "id": "G649tjTXLL8F",
        "outputId": "63b16b7a-cd56-4e30-8045-e3075d8328c7"
      },
      "source": [
        "'''\n",
        "# create transforms\n",
        "# We will just convert to tensor and normalize since no special transforms are mentioned in the paper\n",
        "transforms_mnist = transforms.Compose([\n",
        "                                       transforms.ToTensor(),\n",
        "                                       transforms.Normalize((0.1307,), (0.3081,))\n",
        "                                       ])\n",
        "\n",
        "mnist_data_train = datasets.MNIST('../data/mnist/', train=True, download=True, transform=transforms_mnist)\n",
        "mnist_data_test = datasets.MNIST('../data/mnist/', train=False, download=True, transform=transforms_mnist)\n",
        "'''"
      ],
      "execution_count": 5,
      "outputs": [
        {
          "output_type": "execute_result",
          "data": {
            "application/vnd.google.colaboratory.intrinsic+json": {
              "type": "string"
            },
            "text/plain": [
              "\"\\n# create transforms\\n# We will just convert to tensor and normalize since no special transforms are mentioned in the paper\\ntransforms_mnist = transforms.Compose([\\n                                       transforms.ToTensor(),\\n                                       transforms.Normalize((0.1307,), (0.3081,))\\n                                       ])\\n\\nmnist_data_train = datasets.MNIST('../data/mnist/', train=True, download=True, transform=transforms_mnist)\\nmnist_data_test = datasets.MNIST('../data/mnist/', train=False, download=True, transform=transforms_mnist)\\n\""
            ]
          },
          "metadata": {
            "tags": []
          },
          "execution_count": 5
        }
      ]
    },
    {
      "cell_type": "code",
      "metadata": {
        "colab": {
          "base_uri": "https://localhost:8080/",
          "height": 1000,
          "referenced_widgets": [
            "4c4fabff493e4fab852bf8ae24f910fd",
            "20b3c9119e814eebb89a702075b77e6e",
            "967e2a30317646ea932a26102716e354",
            "4220f1e3aa8a43c09655a2def1f2654a",
            "9ae4f119bbdd48ea923a8041f3ead03d",
            "3ac4a462ec444fa1a66f04f2f4f760c9",
            "c46c71f1bf7b43ada4fe250984f2e979",
            "d674d2ef560e42bd9bf204721b3319ee",
            "5a701df79bf34520a6f39333b9aa7e9f",
            "28c798c89d984f4eb2a33eb6b1536aa7",
            "8e858cfc94f7414791983613f06b7bdf",
            "8f8fedd9852a47599de12e53290243dc",
            "ee60345934a84693a72c2cb9706e1a12",
            "c6dea5666ca94309a0f7095211961fe8",
            "3d3e5d88410c4d4289ac20d42e5983bc",
            "dbbca622d3804a33a32c64634c4610e3",
            "233e55e120794b04ad7c69a604da1ddf",
            "a142a7127db14e26ade72d3aff74b8a4",
            "86f3272888654a4cbe2199749ddd1c21",
            "7e70ca6a84fd414a88d50d722209a3ed",
            "6a06a44fc8b54f1e8c3a31894799b151",
            "7a3aab36be274b49b4fe945ccf4a67ab",
            "30b2eb907b52466d9df6e6e714f537f3",
            "3013014fe1784a2383a7055b84c658d4",
            "e167982bfc8648c0a005cd5ca5ba833e",
            "4f2d2da56b2341178b66925cca98e23a",
            "8e7340acdd794c6ebaaba87a33133652",
            "a4fbf8a0dae340b899116b456a6a1028",
            "3785a34d206143ca871e44684a2bbd50",
            "694038aeb7454109895ca5a372675432",
            "2d01018d1469489790bff058cfd10245",
            "0e989dd530894d4298e4c6ebb0a84c4a"
          ]
        },
        "id": "HVgZ5TetqEEP",
        "outputId": "02bd2372-d0cf-406e-a0a3-f57c546f2965"
      },
      "source": [
        "!wget www.di.ens.fr/~lelarge/MNIST.tar.gz\n",
        "!tar -zxvf MNIST.tar.gz\n",
        "\n",
        "from torchvision.datasets import MNIST\n",
        "\n",
        "transforms_mnist = transforms.Compose([\n",
        "                                       transforms.ToTensor(),\n",
        "                                       transforms.Normalize((0.1307,), (0.3081,))\n",
        "                                       ])\n",
        "\n",
        "mnist_data_train = MNIST(root = '../data/mnist/', train=True, download=True, transform=transforms_mnist)\n",
        "mnist_data_test = MNIST(root = '../data/mnist/', train=False, download=True, transform=transforms_mnist)"
      ],
      "execution_count": 6,
      "outputs": [
        {
          "output_type": "stream",
          "text": [
            "--2021-03-31 14:26:00--  http://www.di.ens.fr/~lelarge/MNIST.tar.gz\n",
            "Resolving www.di.ens.fr (www.di.ens.fr)... 129.199.99.14\n",
            "Connecting to www.di.ens.fr (www.di.ens.fr)|129.199.99.14|:80... connected.\n",
            "HTTP request sent, awaiting response... 302 Found\n",
            "Location: https://www.di.ens.fr/~lelarge/MNIST.tar.gz [following]\n",
            "--2021-03-31 14:26:01--  https://www.di.ens.fr/~lelarge/MNIST.tar.gz\n",
            "Connecting to www.di.ens.fr (www.di.ens.fr)|129.199.99.14|:443... connected.\n",
            "HTTP request sent, awaiting response... 200 OK\n",
            "Length: unspecified [application/x-gzip]\n",
            "MNIST.tar.gz: Operation not supported\n",
            "\n",
            "Cannot write to ‘MNIST.tar.gz’ (Success).\n",
            "tar (child): MNIST.tar.gz: Cannot open: No such file or directory\n",
            "tar (child): Error is not recoverable: exiting now\n",
            "tar: Child returned status 2\n",
            "tar: Error is not recoverable: exiting now\n",
            "Downloading http://yann.lecun.com/exdb/mnist/train-images-idx3-ubyte.gz\n",
            "Failed to download (trying next):\n",
            "HTTP Error 503: Service Unavailable\n",
            "\n",
            "Downloading https://ossci-datasets.s3.amazonaws.com/mnist/train-images-idx3-ubyte.gz\n",
            "Downloading https://ossci-datasets.s3.amazonaws.com/mnist/train-images-idx3-ubyte.gz to ../data/mnist/MNIST/raw/train-images-idx3-ubyte.gz\n"
          ],
          "name": "stdout"
        },
        {
          "output_type": "display_data",
          "data": {
            "application/vnd.jupyter.widget-view+json": {
              "model_id": "4c4fabff493e4fab852bf8ae24f910fd",
              "version_minor": 0,
              "version_major": 2
            },
            "text/plain": [
              "HBox(children=(FloatProgress(value=0.0, max=9912422.0), HTML(value='')))"
            ]
          },
          "metadata": {
            "tags": []
          }
        },
        {
          "output_type": "stream",
          "text": [
            "\n",
            "Extracting ../data/mnist/MNIST/raw/train-images-idx3-ubyte.gz to ../data/mnist/MNIST/raw\n",
            "\n",
            "Downloading http://yann.lecun.com/exdb/mnist/train-labels-idx1-ubyte.gz\n",
            "Failed to download (trying next):\n",
            "HTTP Error 503: Service Unavailable\n",
            "\n",
            "Downloading https://ossci-datasets.s3.amazonaws.com/mnist/train-labels-idx1-ubyte.gz\n",
            "Downloading https://ossci-datasets.s3.amazonaws.com/mnist/train-labels-idx1-ubyte.gz to ../data/mnist/MNIST/raw/train-labels-idx1-ubyte.gz\n"
          ],
          "name": "stdout"
        },
        {
          "output_type": "display_data",
          "data": {
            "application/vnd.jupyter.widget-view+json": {
              "model_id": "5a701df79bf34520a6f39333b9aa7e9f",
              "version_minor": 0,
              "version_major": 2
            },
            "text/plain": [
              "HBox(children=(FloatProgress(value=0.0, max=28881.0), HTML(value='')))"
            ]
          },
          "metadata": {
            "tags": []
          }
        },
        {
          "output_type": "stream",
          "text": [
            "\n",
            "Extracting ../data/mnist/MNIST/raw/train-labels-idx1-ubyte.gz to ../data/mnist/MNIST/raw\n",
            "\n",
            "Downloading http://yann.lecun.com/exdb/mnist/t10k-images-idx3-ubyte.gz\n",
            "Failed to download (trying next):\n",
            "HTTP Error 503: Service Unavailable\n",
            "\n",
            "Downloading https://ossci-datasets.s3.amazonaws.com/mnist/t10k-images-idx3-ubyte.gz\n",
            "Downloading https://ossci-datasets.s3.amazonaws.com/mnist/t10k-images-idx3-ubyte.gz to ../data/mnist/MNIST/raw/t10k-images-idx3-ubyte.gz\n"
          ],
          "name": "stdout"
        },
        {
          "output_type": "display_data",
          "data": {
            "application/vnd.jupyter.widget-view+json": {
              "model_id": "233e55e120794b04ad7c69a604da1ddf",
              "version_minor": 0,
              "version_major": 2
            },
            "text/plain": [
              "HBox(children=(FloatProgress(value=0.0, max=1648877.0), HTML(value='')))"
            ]
          },
          "metadata": {
            "tags": []
          }
        },
        {
          "output_type": "stream",
          "text": [
            "\n",
            "Extracting ../data/mnist/MNIST/raw/t10k-images-idx3-ubyte.gz to ../data/mnist/MNIST/raw\n",
            "\n",
            "Downloading http://yann.lecun.com/exdb/mnist/t10k-labels-idx1-ubyte.gz\n",
            "Failed to download (trying next):\n",
            "HTTP Error 503: Service Unavailable\n",
            "\n",
            "Downloading https://ossci-datasets.s3.amazonaws.com/mnist/t10k-labels-idx1-ubyte.gz\n",
            "Downloading https://ossci-datasets.s3.amazonaws.com/mnist/t10k-labels-idx1-ubyte.gz to ../data/mnist/MNIST/raw/t10k-labels-idx1-ubyte.gz\n"
          ],
          "name": "stdout"
        },
        {
          "output_type": "display_data",
          "data": {
            "application/vnd.jupyter.widget-view+json": {
              "model_id": "e167982bfc8648c0a005cd5ca5ba833e",
              "version_minor": 0,
              "version_major": 2
            },
            "text/plain": [
              "HBox(children=(FloatProgress(value=0.0, max=4542.0), HTML(value='')))"
            ]
          },
          "metadata": {
            "tags": []
          }
        },
        {
          "output_type": "stream",
          "text": [
            "\n",
            "Extracting ../data/mnist/MNIST/raw/t10k-labels-idx1-ubyte.gz to ../data/mnist/MNIST/raw\n",
            "\n",
            "Processing...\n",
            "Done!\n"
          ],
          "name": "stdout"
        },
        {
          "output_type": "stream",
          "text": [
            "/usr/local/lib/python3.7/dist-packages/torchvision/datasets/mnist.py:502: UserWarning: The given NumPy array is not writeable, and PyTorch does not support non-writeable tensors. This means you can write to the underlying (supposedly non-writeable) NumPy array using the tensor. You may want to copy the array to protect its data or make it writeable before converting it to a tensor. This type of warning will be suppressed for the rest of this program. (Triggered internally at  /pytorch/torch/csrc/utils/tensor_numpy.cpp:143.)\n",
            "  return torch.from_numpy(parsed.astype(m[2], copy=False)).view(*s)\n"
          ],
          "name": "stderr"
        }
      ]
    },
    {
      "cell_type": "code",
      "metadata": {
        "colab": {
          "base_uri": "https://localhost:8080/"
        },
        "id": "dm9usjn2vFkL",
        "outputId": "cb8eff17-008a-42c7-f532-5ce22d3cc2e7"
      },
      "source": [
        "classes = np.array(list(mnist_data_train.class_to_idx.values()))\n",
        "classes_test = np.array(list(mnist_data_test.class_to_idx.values()))\n",
        "num_classes = len(classes_test)\n",
        "print(\"Classes: {} \\tType: {}\".format(classes, type(classes)))\n",
        "print(\"Classes Test: {} \\tType: {}\".format(classes_test, type(classes)))\n"
      ],
      "execution_count": 7,
      "outputs": [
        {
          "output_type": "stream",
          "text": [
            "Classes: [0 1 2 3 4 5 6 7 8 9] \tType: <class 'numpy.ndarray'>\n",
            "Classes Test: [0 1 2 3 4 5 6 7 8 9] \tType: <class 'numpy.ndarray'>\n"
          ],
          "name": "stdout"
        }
      ]
    },
    {
      "cell_type": "code",
      "metadata": {
        "colab": {
          "base_uri": "https://localhost:8080/"
        },
        "id": "9lvJt3Ofv2SO",
        "outputId": "87ff2aa0-a094-4a79-c709-f2a90a26e2d6"
      },
      "source": [
        "print(\"Image Shape: {}\".format(mnist_data_train.data[0].size()))"
      ],
      "execution_count": 8,
      "outputs": [
        {
          "output_type": "stream",
          "text": [
            "Image Shape: torch.Size([28, 28])\n"
          ],
          "name": "stdout"
        }
      ]
    },
    {
      "cell_type": "markdown",
      "metadata": {
        "id": "jCOONkg-zV7Y"
      },
      "source": [
        "## Visualize Data"
      ]
    },
    {
      "cell_type": "code",
      "metadata": {
        "id": "R9MK03TZw6Qs"
      },
      "source": [
        "def imshow(img):\n",
        "\timg = img/2 + 0.5 #unnormalize the image\n",
        "\tplt.imshow(img, cmap='gray') # convert from tensor to image"
      ],
      "execution_count": 9,
      "outputs": []
    },
    {
      "cell_type": "code",
      "metadata": {
        "id": "gMJ0Kx4Kw-_H"
      },
      "source": [
        "def visualize(dataset):\n",
        "  figure = plt.figure(figsize=(25,4))\n",
        "  for i in range(20):\n",
        "    axis = figure.add_subplot(2, 20/2, i+1, xticks=[], yticks=[])\n",
        "    data = dataset.data[i]\n",
        "    data = data.numpy()\n",
        "\n",
        "    target = dataset.targets[i]\n",
        "    target = target.numpy()\n",
        "    imshow(data)\n",
        "    axis.set_title(target)\n"
      ],
      "execution_count": 10,
      "outputs": []
    },
    {
      "cell_type": "code",
      "metadata": {
        "colab": {
          "base_uri": "https://localhost:8080/",
          "height": 241
        },
        "id": "8bPOwKg10Ro7",
        "outputId": "79976f31-c5af-477f-8163-3e5839230b5f"
      },
      "source": [
        "visualize(mnist_data_train)"
      ],
      "execution_count": 11,
      "outputs": [
        {
          "output_type": "display_data",
          "data": {
            "image/png": "[encoded data removed]",
            "text/plain": [
              "<Figure size 1800x288 with 20 Axes>"
            ]
          },
          "metadata": {
            "tags": []
          }
        }
      ]
    },
    {
      "cell_type": "code",
      "metadata": {
        "colab": {
          "base_uri": "https://localhost:8080/",
          "height": 241
        },
        "id": "RKoh5Cf70UYu",
        "outputId": "a16b9c69-3c62-4c25-cbe4-6210b6eae0a5"
      },
      "source": [
        "visualize(mnist_data_test)"
      ],
      "execution_count": 12,
      "outputs": [
        {
          "output_type": "display_data",
          "data": {
            "image/png": "[encoded data removed]",
            "text/plain": [
              "<Figure size 1800x288 with 20 Axes>"
            ]
          },
          "metadata": {
            "tags": []
          }
        }
      ]
    },
    {
      "cell_type": "markdown",
      "metadata": {
        "id": "ctjRsETiO1qO"
      },
      "source": [
        "## Partitioning the Data (IID and non-IID)"
      ]
    },
    {
      "cell_type": "code",
      "metadata": {
        "id": "3_v8lyrgO5dD"
      },
      "source": [
        "def iid_partition(dataset, clients):\n",
        "  \"\"\"\n",
        "  I.I.D paritioning of data over clients\n",
        "  Shuffle the data\n",
        "  Split it between clients\n",
        "  \n",
        "  params:\n",
        "    - dataset (torch.utils.Dataset): Dataset containing the MNIST Images\n",
        "    - clients (int): Number of Clients to split the data between\n",
        "\n",
        "  returns:\n",
        "    - Dictionary of image indexes for each client\n",
        "  \"\"\"\n",
        "\n",
        "  num_items_per_client = int(len(dataset)/clients)\n",
        "  client_dict = {}\n",
        "  image_idxs = [i for i in range(len(dataset))]\n",
        "  #data_labels = dataset.targets.numpy()\n",
        "  #print(data_labels)\n",
        "\n",
        "  for i in range(clients):\n",
        "    x = np.random.choice(image_idxs, num_items_per_client, replace=False)\n",
        "    client_dict[i] = set(x)\n",
        "    image_idxs = list(set(image_idxs) - client_dict[i])\n",
        "  '''\n",
        "  #print(len(client_dict))\n",
        "  #random.randrange()\n",
        "  n = []\n",
        "  cli = list(range(clients))\n",
        "  for i in range(int(M*clients)):\n",
        "    new = np.random.choice(cli)\n",
        "    n.append(new)\n",
        "    cli.remove(new)\n",
        "  #n = np.random.choice(range(clients), int(0.1*clients), replace=False)\n",
        "  #n = list(n)\n",
        "  print(n)\n",
        "  for i in n:\n",
        "    j = 0\n",
        "    while j < int(W*num_items_per_client):\n",
        "      l = list(client_dict[i])\n",
        "      newl = dataset.targets[int(l[j])].item()\n",
        "      dataset.targets[int(l[j])] = torch.Tensor([(newl+1)%10])\n",
        "\n",
        "      j += 1\n",
        "\n",
        "  print(dataset.targets)\n",
        "  \n",
        "  c = 0\n",
        "  for i in dataset.targets:\n",
        "    if i == torch.Tensor([1]):\n",
        "      c += 1\n",
        "  print(c)\n",
        "  \n",
        "  '''\n",
        "  return client_dict\n"
      ],
      "execution_count": 13,
      "outputs": []
    },
    {
      "cell_type": "code",
      "metadata": {
        "id": "4zMdliGMQoSl"
      },
      "source": [
        "def non_iid_partition(dataset, clients, total_shards, shards_size, num_shards_per_client):\n",
        "  \"\"\"\n",
        "  non I.I.D parititioning of data over clients\n",
        "  Sort the data by the digit label\n",
        "  Divide the data into N shards of size S\n",
        "  Each of the clients will get X shards\n",
        "\n",
        "  params:\n",
        "    - dataset (torch.utils.Dataset): Dataset containing the MNIST Images\n",
        "    - clients (int): Number of Clients to split the data between\n",
        "    - total_shards (int): Number of shards to partition the data in\n",
        "    - shards_size (int): Size of each shard \n",
        "    - num_shards_per_client (int): Number of shards of size shards_size that each client receives\n",
        "\n",
        "  returns:\n",
        "    - Dictionary of image indexes for each client\n",
        "  \"\"\"\n",
        "  \n",
        "  shard_idxs = [i for i in range(total_shards)]\n",
        "  client_dict = {i: np.array([], dtype='int64') for i in range(clients)}\n",
        "  idxs = np.arange(len(dataset))\n",
        "  data_labels = dataset.targets.numpy()\n",
        "\n",
        "  \n",
        "  #print(data_labels)\n",
        "  # sort the labels\n",
        "  label_idxs = np.vstack((idxs, data_labels))\n",
        "  label_idxs = label_idxs[:, label_idxs[1,:].argsort()]\n",
        "  idxs = label_idxs[0,:]\n",
        "  #print(idxs)\n",
        "  #print(len(idxs))\n",
        "\n",
        "  # divide the data into total_shards of size shards_size\n",
        "  # assign num_shards_per_client to each client\n",
        "  for i in range(clients):\n",
        "    rand_set = set(np.random.choice(shard_idxs, num_shards_per_client, replace=False))\n",
        "    shard_idxs = list(set(shard_idxs) - rand_set)\n",
        "\n",
        "    for rand in rand_set:\n",
        "      client_dict[i] = np.concatenate((client_dict[i], idxs[rand*shards_size:(rand+1)*shards_size]), axis=0)\n",
        "  \n",
        "    #print(client_dict)\n",
        "  '''\n",
        "  n = []\n",
        "  cli = list(range(clients))\n",
        "  for i in range(int(0.5*clients)):\n",
        "    new = np.random.choice(cli)\n",
        "    n.append(new)\n",
        "    cli.remove(new)\n",
        "  #n = np.random.choice(range(clients), int(0.1*clients), replace=False)\n",
        "  #n = list(n)\n",
        "  print(n)\n",
        "  for i in n:\n",
        "    j = 0\n",
        "    while j < int(0.8*num_shards_per_client):\n",
        "      l = list(client_dict[i])\n",
        "      print(l)\n",
        "      newl = dataset.targets[int(l[j])].item()\n",
        "      dataset.targets[int(l[j])] = torch.Tensor([1])  #(newl+1)% 10\n",
        "\n",
        "      j += 1\n",
        "\n",
        "  print(dataset.targets)\n",
        "\n",
        "  \n",
        "  \n",
        "  M = 0.1\n",
        "  for n in range(M*K):\n",
        "    ran = random.randint(0, K)\n",
        "    for x in data_dict:\n",
        "      print(len(data_dict[x]))\n",
        "      #for i in range(0.5*len(data_dict[x])):\n",
        "\n",
        "  \n",
        "  '''\n",
        "  return client_dict\n",
        "\n",
        "\n",
        "\n"
      ],
      "execution_count": 14,
      "outputs": []
    },
    {
      "cell_type": "markdown",
      "metadata": {
        "id": "PTfxv8kFoGAy"
      },
      "source": [
        "## Models"
      ]
    },
    {
      "cell_type": "code",
      "metadata": {
        "id": "CvoDNFKbZST5"
      },
      "source": [
        "class MNIST_2NN(nn.Module):\n",
        "  \"\"\"\n",
        "  A simple multilayer-perceptron with 2-hidden layers with 200 units each\n",
        "  using ReLu activations\n",
        "\n",
        "  Total Expected Params: 199,210\n",
        "  \"\"\"\n",
        "  def __init__(self):\n",
        "    super(MNIST_2NN, self).__init__()\n",
        "\n",
        "    self.fc1 = nn.Linear(28*28, 200)\n",
        "    self.fc2 = nn.Linear(200, 200)\n",
        "    self.fc3 = nn.Linear(200, 10)\n",
        "\n",
        "  def forward(self, x):\n",
        "    x = torch.flatten(x, 1)\n",
        "    x = F.relu(self.fc1(x))\n",
        "    x = F.relu(self.fc2(x))\n",
        "    out = self.fc3(x)\n",
        "\n",
        "    return x"
      ],
      "execution_count": 15,
      "outputs": []
    },
    {
      "cell_type": "code",
      "metadata": {
        "id": "ut1hZ8x3qYPZ"
      },
      "source": [
        "class MNIST_CNN(nn.Module):\n",
        "  \"\"\"\n",
        "  CNN with two 5x5 convolution lauers(the first with 32 channels, second with 64,\n",
        "  each followed with 2x2 max pooling), a fully connected layer with 512 uunits and \n",
        "  ReLu activation, and the final Softmax output layer\n",
        "\n",
        "  Total Expected Params: 1,663,370\n",
        "  \"\"\"\n",
        "  def __init__(self):\n",
        "    super(MNIST_CNN, self).__init__()\n",
        "\n",
        "    self.conv1 = nn.Conv2d(1, 32, kernel_size=5)\n",
        "    self.conv2 = nn.Conv2d(32, 64, kernel_size=5)\n",
        "    \n",
        "    self.pool = nn.MaxPool2d(2,2)\n",
        "    self.dropout = nn.Dropout(p=0.2)\n",
        "\n",
        "    self.fc1 = nn.Linear(1024, 512)\n",
        "    self.out = nn.Linear(512, 10)\n",
        "\n",
        "  def forward(self, x):\n",
        "    x = self.pool(F.relu(self.conv1(x)))\n",
        "    x = self.pool(F.relu(self.conv2(x)))\n",
        "    x = self.dropout(x)\n",
        "    x = torch.flatten(x, 1)\n",
        "    x = F.relu(self.fc1(x))\n",
        "    x = self.out(x)\n",
        "    out = F.log_softmax(x, dim=1)\n",
        "\n",
        "    return out"
      ],
      "execution_count": 16,
      "outputs": []
    },
    {
      "cell_type": "markdown",
      "metadata": {
        "id": "uVv4HA9HuLtr"
      },
      "source": [
        "### Print Model Summaries"
      ]
    },
    {
      "cell_type": "code",
      "metadata": {
        "colab": {
          "base_uri": "https://localhost:8080/"
        },
        "id": "I5oTH710sJEt",
        "outputId": "6608b82c-e367-4d7d-a4ec-2eeb61d21e78"
      },
      "source": [
        "mnist_mlp = MNIST_2NN()\n",
        "mnist_cnn = MNIST_CNN()\n",
        "\n",
        "if torch.cuda.is_available():\n",
        "  mnist_mlp.cuda()\n",
        "  mnist_cnn.cuda()\n",
        "\n",
        "print(\"MNIST MLP SUMMARY\")\n",
        "print(summary(mnist_mlp, (28,28)))\n",
        "\n",
        "print(\"\\nMNIST CNN SUMMARY\")\n",
        "print(summary(mnist_cnn, (1, 28,28)))"
      ],
      "execution_count": 17,
      "outputs": [
        {
          "output_type": "stream",
          "text": [
            "MNIST MLP SUMMARY\n",
            "----------------------------------------------------------------\n",
            "        Layer (type)               Output Shape         Param #\n",
            "================================================================\n",
            "            Linear-1                  [-1, 200]         157,000\n",
            "            Linear-2                  [-1, 200]          40,200\n",
            "            Linear-3                   [-1, 10]           2,010\n",
            "================================================================\n",
            "Total params: 199,210\n",
            "Trainable params: 199,210\n",
            "Non-trainable params: 0\n",
            "----------------------------------------------------------------\n",
            "Input size (MB): 0.00\n",
            "Forward/backward pass size (MB): 0.00\n",
            "Params size (MB): 0.76\n",
            "Estimated Total Size (MB): 0.77\n",
            "----------------------------------------------------------------\n",
            "None\n",
            "\n",
            "MNIST CNN SUMMARY\n",
            "----------------------------------------------------------------\n",
            "        Layer (type)               Output Shape         Param #\n",
            "================================================================\n",
            "            Conv2d-1           [-1, 32, 24, 24]             832\n",
            "         MaxPool2d-2           [-1, 32, 12, 12]               0\n",
            "            Conv2d-3             [-1, 64, 8, 8]          51,264\n",
            "         MaxPool2d-4             [-1, 64, 4, 4]               0\n",
            "           Dropout-5             [-1, 64, 4, 4]               0\n",
            "            Linear-6                  [-1, 512]         524,800\n",
            "            Linear-7                   [-1, 10]           5,130\n",
            "================================================================\n",
            "Total params: 582,026\n",
            "Trainable params: 582,026\n",
            "Non-trainable params: 0\n",
            "----------------------------------------------------------------\n",
            "Input size (MB): 0.00\n",
            "Forward/backward pass size (MB): 0.23\n",
            "Params size (MB): 2.22\n",
            "Estimated Total Size (MB): 2.45\n",
            "----------------------------------------------------------------\n",
            "None\n"
          ],
          "name": "stdout"
        }
      ]
    },
    {
      "cell_type": "markdown",
      "metadata": {
        "id": "gf_8XEXa-gZ7"
      },
      "source": [
        "## Federated Median\n"
      ]
    },
    {
      "cell_type": "markdown",
      "metadata": {
        "id": "L-aNdQsQ-Kvp"
      },
      "source": [
        "### Local Training (Client Update)\n",
        "\n",
        "Local training for the model on client side"
      ]
    },
    {
      "cell_type": "code",
      "metadata": {
        "id": "HKN2vWWlZiEH"
      },
      "source": [
        "import statistics"
      ],
      "execution_count": 18,
      "outputs": []
    },
    {
      "cell_type": "code",
      "metadata": {
        "id": "oX6OsQyO-Gz7"
      },
      "source": [
        "class CustomDataset(Dataset):\n",
        "  def __init__(self, dataset, idxs):\n",
        "      self.dataset = dataset\n",
        "      self.idxs = list(idxs)\n",
        "\n",
        "  def __len__(self):\n",
        "      return len(self.idxs)\n",
        "\n",
        "  def __getitem__(self, item):\n",
        "      image, label = self.dataset[self.idxs[item]]\n",
        "      return image, label\n",
        "\n",
        "class ClientUpdate(object):\n",
        "  def __init__(self, dataset, batchSize, learning_rate, epochs, idxs):\n",
        "    self.train_loader = DataLoader(CustomDataset(dataset, idxs), batch_size=batchSize, shuffle=True)\n",
        "\n",
        "    self.learning_rate = learning_rate\n",
        "    self.epochs = epochs\n",
        "\n",
        "\n",
        "\n",
        "  def train(self, model):\n",
        "\n",
        "    criterion = nn.CrossEntropyLoss()\n",
        "    optimizer = torch.optim.SGD(model.parameters(), lr=self.learning_rate, momentum=0.5)\n",
        "    # optimizer = torch.optim.Adam(model.parameters(), lr=self.learning_rate)\n",
        "\n",
        "    e_loss = []\n",
        "    for epoch in range(1, self.epochs+1):\n",
        "\n",
        "      train_loss = 0.0\n",
        "\n",
        "      model.train()\n",
        "      for data, labels in self.train_loader:\n",
        "\n",
        "        if torch.cuda.is_available():\n",
        "          data, labels = data.cuda(), labels.cuda()\n",
        "\n",
        "        # clear the gradients\n",
        "        optimizer.zero_grad()\n",
        "        # make a forward pass\n",
        "        output = model(data)\n",
        "        # calculate the loss\n",
        "        loss = criterion(output, labels)\n",
        "        # do a backwards pass\n",
        "        loss.backward()\n",
        "        # perform a single optimization step\n",
        "        optimizer.step()\n",
        "        # update training loss\n",
        "        train_loss += loss.item()*data.size(0)\n",
        "\n",
        "      # average losses\n",
        "      train_loss = train_loss/len(self.train_loader.dataset)\n",
        "      e_loss.append(train_loss)\n",
        "\n",
        "    total_loss = sum(e_loss)/len(e_loss)\n",
        "\n",
        "    return model.state_dict(), total_loss"
      ],
      "execution_count": 19,
      "outputs": []
    },
    {
      "cell_type": "markdown",
      "metadata": {
        "id": "Ukgh1DVHE2Ds"
      },
      "source": [
        "### Server Side Training\n",
        "\n",
        "Following Algorithm 1 from the paper"
      ]
    },
    {
      "cell_type": "code",
      "metadata": {
        "id": "1NF1e33BgpeL"
      },
      "source": [
        "def training(model, rounds, batch_size, lr, ds, data_dict, C, K, E, plt_title, plt_color, M):\n",
        "  \"\"\"\n",
        "  Function implements the Federated Averaging Algorithm from the FedAvg paper.\n",
        "  Specifically, this function is used for the server side training and weight update\n",
        "\n",
        "  Params:\n",
        "    - model:           PyTorch model to train\n",
        "    - rounds:          Number of communication rounds for the client update\n",
        "    - batch_size:      Batch size for client update training\n",
        "    - lr:              Learning rate used for client update training\n",
        "    - ds:              Dataset used for training\n",
        "    - data_dict:       Type of data partition used for training (IID or non-IID)\n",
        "    - C:               Fraction of clients randomly chosen to perform computation on each round\n",
        "    - K:               Total number of clients\n",
        "    - E:               Number of training passes each client makes over its local dataset per round\n",
        "    - tb_writer_name:  Directory name to save the tensorboard logs\n",
        "  Returns:\n",
        "    - model:           Trained model on the server\n",
        "  \"\"\"\n",
        "\n",
        "  # global model weights\n",
        "  global_weights = model.state_dict()\n",
        "  num_clients = K\n",
        "  pk = np.ones(num_clients) * 1.0 / num_clients\n",
        "\n",
        "  # training loss\n",
        "  train_loss = []\n",
        "  \n",
        "  # measure time\n",
        "  start = time.time()\n",
        "\n",
        "  for curr_round in range(1, rounds+1):\n",
        "    w, local_loss = [], []\n",
        "\n",
        "    m = max(int(C*K), 1)\n",
        "    newM = max(int(M*m), 1)\n",
        "\n",
        "    S_t = np.random.choice(range(K), m, replace=False)\n",
        "    c = 0\n",
        "\n",
        "    for i in range(len(S_t)):\n",
        "      if c == newM:\n",
        "        break\n",
        "      c += 1\n",
        "      local_update = ClientUpdate(dataset=ds, batchSize=batch_size, learning_rate=lr, epochs=E, idxs=data_dict[S_t[i]])\n",
        "      weights, loss = local_update.train(model=copy.deepcopy(model))\n",
        "      \n",
        "      for k in weights.keys():\n",
        "        t = torch.Tensor(weights[k].shape).cuda()\n",
        "        t.fill_(1)\n",
        "        weights[k] = t      \n",
        "      \n",
        "      w.append(copy.deepcopy(weights))\n",
        "      local_loss.append(copy.deepcopy(loss))\n",
        "\n",
        "\n",
        "    for k in range(newM, len(S_t)):\n",
        "\n",
        "      local_update = ClientUpdate(dataset=ds, batchSize=batch_size, learning_rate=lr, epochs=E, idxs=data_dict[S_t[k]])\n",
        "      weights, loss = local_update.train(model=copy.deepcopy(model))\n",
        "      \n",
        "      w.append(copy.deepcopy(weights))\n",
        "      local_loss.append(copy.deepcopy(loss))\n",
        "\n",
        "    # updating the global weights\n",
        "    '''\n",
        "    weights_avg = copy.deepcopy(w[0])\n",
        "    for k in weights_avg.keys():\n",
        "      for i in range(1, len(w)):\n",
        "        weights_avg[k] += w[i][k]\n",
        "\n",
        "      weights_avg[k] = torch.div(weights_avg[k], len(w))\n",
        "\n",
        "    global_weights = weights_avg\n",
        "    '''\n",
        "\n",
        "    ix = 0\n",
        "    weights = []\n",
        "    new_w = w\n",
        "    for k in w[ix].keys():\n",
        "      l1 = []\n",
        "      for i in range(len(w)):\n",
        "\n",
        "          # Fixed Precision\n",
        "          x1 = w[i][k] * (10**3)\n",
        "          \n",
        "          # Flattening weight tensors to lists\n",
        "          f1 = torch.flatten(x1)\n",
        "          \n",
        "          # Converting values to int for our streaming algo \n",
        "          f1 = list(map(int, f1))\n",
        "          \n",
        "          l1.append(f1)\n",
        "          #print(len(f1))\n",
        "          \n",
        "      # Computing Median\n",
        "      j = 0\n",
        "      gl = []\n",
        "      while j < len(l1[0]):\n",
        "        nl = []\n",
        "        for i in range(len(l1)):\n",
        "          nl.append(l1[i][j])\n",
        "        m = np.median(nl)\n",
        "        gl.append(m)\n",
        "        j += 1\n",
        "\n",
        "      \n",
        "      for i in range(len(gl)):\n",
        "        gl[i] /= (10**3)\n",
        "      \n",
        "      print(len(gl))\n",
        "\n",
        "      '''\n",
        "      M = 0.01\n",
        "      n = 0.1\n",
        "\n",
        "      M_list = []\n",
        "      M_list.append(random.randint(0, len(gl)))\n",
        "      gl[M_list[0]] = n\n",
        "      \n",
        "      print(M_list)\n",
        "      print(gl)\n",
        "      '''\n",
        "      \n",
        "      \n",
        "      newar = np.asarray(gl)\n",
        "      newar = np.reshape(gl, w[0][k].size())\n",
        "      #print(newar.shape)\n",
        "      tens = torch.from_numpy(newar)\n",
        "      #print(tens)\n",
        "      weights.append(tens)\n",
        "\n",
        "\n",
        "      ix += 1\n",
        "\n",
        "    k = 0\n",
        "    coun = 0\n",
        "    for key, value in global_weights.items():\n",
        "      #print(key)\n",
        "      #print(global_weights[key].size())\n",
        "      #print(weights[k].size())\n",
        "      global_weights[key] = weights[k]\n",
        "      k += 1\n",
        "      coun += 1\n",
        "\n",
        "    # move the updated weights to our model state dict\n",
        "    model.load_state_dict(global_weights)\n",
        "\n",
        "    # loss\n",
        "    loss_avg = sum(local_loss) / len(local_loss)\n",
        "    print('Round: {}... \\tAverage Loss: {}'.format(curr_round, round(loss_avg, 3)))\n",
        "    train_loss.append(loss_avg)\n",
        "\n",
        "  end = time.time()\n",
        "  fig, ax = plt.subplots()\n",
        "  x_axis = np.arange(1, rounds+1)\n",
        "  y_axis = np.array(train_loss)\n",
        "  ax.plot(x_axis, y_axis, 'tab:'+plt_color)\n",
        "\n",
        "  ax.set(xlabel='Number of Rounds', ylabel='Train Loss',\n",
        "       title=plt_title)\n",
        "  ax.grid()\n",
        "  fig.savefig('/gdrive/My Drive/FedPerf/MNIST/FedMed/Robustness/M_0.1/n_1/' + plt_title +'.jpg', format='jpg')\n",
        "  print(\"Training Done!\")\n",
        "  print(\"Total time taken to Train: {}\".format(end-start))\n",
        "  \n",
        "  return model"
      ],
      "execution_count": 20,
      "outputs": []
    },
    {
      "cell_type": "markdown",
      "metadata": {
        "id": "tUYyb4T-uXmF"
      },
      "source": [
        "## Testing Loop"
      ]
    },
    {
      "cell_type": "code",
      "metadata": {
        "id": "uCcIZmO5uan9"
      },
      "source": [
        "def testing(model, dataset, bs, criterion, num_classes, classes):\n",
        "  #test loss \n",
        "  test_loss = 0.0\n",
        "  correct_class = list(0. for i in range(num_classes))\n",
        "  total_class = list(0. for i in range(num_classes))\n",
        "\n",
        "  test_loader = DataLoader(dataset, batch_size=bs)\n",
        "  l = len(test_loader)\n",
        "  model.eval()\n",
        "  for data, labels in test_loader:\n",
        "\n",
        "    if torch.cuda.is_available():\n",
        "      data, labels = data.cuda(), labels.cuda()\n",
        "\n",
        "    output = model(data)\n",
        "    loss = criterion(output, labels)\n",
        "    test_loss += loss.item()*data.size(0)\n",
        "\n",
        "    _, pred = torch.max(output, 1)\n",
        "\n",
        "    correct_tensor = pred.eq(labels.data.view_as(pred))\n",
        "    correct = np.squeeze(correct_tensor.numpy()) if not torch.cuda.is_available() else np.squeeze(correct_tensor.cpu().numpy())\n",
        "\n",
        "    #test accuracy for each object class\n",
        "    for i in range(num_classes):\n",
        "      label = labels.data[i]\n",
        "      correct_class[label] += correct[i].item()\n",
        "      total_class[label] += 1\n",
        "    \n",
        "  # avg test loss\n",
        "  test_loss = test_loss/len(test_loader.dataset)\n",
        "  print(\"Test Loss: {:.6f}\\n\".format(test_loss))\n",
        "\n",
        "  # print test accuracy\n",
        "  for i in range(10):\n",
        "    if total_class[i]>0:\n",
        "      print('Test Accuracy of %5s: %2d%% (%2d/%2d)' % \n",
        "            (classes[i], 100 * correct_class[i] / total_class[i],\n",
        "            np.sum(correct_class[i]), np.sum(total_class[i])))\n",
        "    else:\n",
        "      print('Test Accuracy of %5s: N/A (no training examples)' % (classes[i]))\n",
        "\n",
        "  print('\\nFinal Test  Accuracy: {:.3f} ({}/{})'.format(\n",
        "        100. * np.sum(correct_class) / np.sum(total_class),\n",
        "        np.sum(correct_class), np.sum(total_class)))"
      ],
      "execution_count": 21,
      "outputs": []
    },
    {
      "cell_type": "markdown",
      "metadata": {
        "id": "z_jifdzniuhm"
      },
      "source": [
        "# MNIST MLP on IID"
      ]
    },
    {
      "cell_type": "markdown",
      "metadata": {
        "id": "uh-te0Od2XGO"
      },
      "source": [
        "### Train"
      ]
    },
    {
      "cell_type": "code",
      "metadata": {
        "colab": {
          "background_save": true,
          "base_uri": "https://localhost:8080/"
        },
        "id": "UmpWmKOQixVV",
        "outputId": "eb49c36a-0a56-46ae-ac12-6188eb07f3ea"
      },
      "source": [
        "# number of training rounds\n",
        "rounds = 20\n",
        "# client fraction\n",
        "C = 0.5\n",
        "# number of clients\n",
        "K = 100\n",
        "# number of training passes on local dataset for each round\n",
        "E = 5\n",
        "# batch size\n",
        "batch_size = 10\n",
        "# learning Rate\n",
        "lr=0.05\n",
        "# dict containing different type of data partition\n",
        "data_dict = iid_partition(mnist_data_train, 100)\n",
        "# load model\n",
        "mnist_mlp = MNIST_2NN()\n",
        "\n",
        "if torch.cuda.is_available():\n",
        "  mnist_mlp.cuda()\n",
        "\n",
        "mnist_mlp_iid_trained = training(mnist_mlp, rounds, batch_size, lr, mnist_data_train, data_dict, C, K, E, \"MNIST MLP on IID Dataset\", \"orange\", 0.1)\n"
      ],
      "execution_count": null,
      "outputs": [
        {
          "output_type": "stream",
          "text": [
            "156800\n",
            "200\n",
            "40000\n",
            "200\n",
            "2000\n",
            "10\n",
            "Round: 1... \tAverage Loss: 0.501\n",
            "156800\n",
            "200\n",
            "40000\n",
            "200\n",
            "2000\n",
            "10\n",
            "Round: 2... \tAverage Loss: 0.173\n",
            "156800\n",
            "200\n",
            "40000\n",
            "200\n",
            "2000\n",
            "10\n",
            "Round: 3... \tAverage Loss: 0.138\n",
            "156800\n",
            "200\n",
            "40000\n",
            "200\n",
            "2000\n",
            "10\n",
            "Round: 4... \tAverage Loss: 0.113\n",
            "156800\n",
            "200\n",
            "40000\n",
            "200\n",
            "2000\n",
            "10\n",
            "Round: 5... \tAverage Loss: 0.099\n",
            "156800\n",
            "200\n",
            "40000\n",
            "200\n",
            "2000\n",
            "10\n",
            "Round: 6... \tAverage Loss: 0.089\n",
            "156800\n",
            "200\n",
            "40000\n",
            "200\n",
            "2000\n",
            "10\n",
            "Round: 7... \tAverage Loss: 0.081\n",
            "156800\n",
            "200\n",
            "40000\n",
            "200\n",
            "2000\n",
            "10\n",
            "Round: 8... \tAverage Loss: 0.076\n",
            "156800\n",
            "200\n",
            "40000\n",
            "200\n",
            "2000\n",
            "10\n",
            "Round: 9... \tAverage Loss: 0.073\n",
            "156800\n",
            "200\n",
            "40000\n",
            "200\n",
            "2000\n",
            "10\n",
            "Round: 10... \tAverage Loss: 0.069\n",
            "156800\n",
            "200\n",
            "40000\n",
            "200\n",
            "2000\n",
            "10\n",
            "Round: 11... \tAverage Loss: 0.067\n",
            "156800\n",
            "200\n",
            "40000\n",
            "200\n",
            "2000\n",
            "10\n",
            "Round: 12... \tAverage Loss: 0.063\n",
            "156800\n",
            "200\n",
            "40000\n",
            "200\n",
            "2000\n",
            "10\n",
            "Round: 13... \tAverage Loss: 0.062\n",
            "156800\n",
            "200\n",
            "40000\n",
            "200\n",
            "2000\n",
            "10\n",
            "Round: 14... \tAverage Loss: 0.064\n",
            "156800\n",
            "200\n",
            "40000\n",
            "200\n",
            "2000\n",
            "10\n",
            "Round: 15... \tAverage Loss: 0.059\n",
            "156800\n",
            "200\n",
            "40000\n",
            "200\n",
            "2000\n",
            "10\n",
            "Round: 16... \tAverage Loss: 0.059\n",
            "156800\n",
            "200\n",
            "40000\n",
            "200\n",
            "2000\n",
            "10\n",
            "Round: 17... \tAverage Loss: 0.058\n",
            "156800\n",
            "200\n",
            "40000\n",
            "200\n",
            "2000\n",
            "10\n",
            "Round: 18... \tAverage Loss: 0.057\n",
            "156800\n",
            "200\n",
            "40000\n",
            "200\n",
            "2000\n",
            "10\n",
            "Round: 19... \tAverage Loss: 0.054\n",
            "156800\n",
            "200\n",
            "40000\n",
            "200\n",
            "2000\n",
            "10\n",
            "Round: 20... \tAverage Loss: 0.053\n",
            "Training Done!\n",
            "Total time taken to Train: 3384.3713250160217\n"
          ],
          "name": "stdout"
        },
        {
          "output_type": "display_data",
          "data": {
            "image/png": "[encoded data removed]",
            "text/plain": [
              "<Figure size 432x288 with 1 Axes>"
            ]
          },
          "metadata": {
            "tags": []
          }
        }
      ]
    },
    {
      "cell_type": "markdown",
      "metadata": {
        "id": "aTBsL3-72PPd"
      },
      "source": [
        "### Test"
      ]
    },
    {
      "cell_type": "code",
      "metadata": {
        "colab": {
          "background_save": true
        },
        "id": "a9G4j5L62OrS",
        "outputId": "417b0cf4-098b-4e07-956f-d9e61322c7c8"
      },
      "source": [
        "criterion = nn.CrossEntropyLoss()\n",
        "testing(mnist_mlp_iid_trained, mnist_data_test, 128, criterion, num_classes, classes_test)"
      ],
      "execution_count": null,
      "outputs": [
        {
          "output_type": "stream",
          "text": [
            "Test Loss: 0.122823\n",
            "\n",
            "Test Accuracy of     0: 98% (75/76)\n",
            "Test Accuracy of     1: 97% (88/90)\n",
            "Test Accuracy of     2: 95% (87/91)\n",
            "Test Accuracy of     3: 97% (71/73)\n",
            "Test Accuracy of     4: 96% (86/89)\n",
            "Test Accuracy of     5: 92% (63/68)\n",
            "Test Accuracy of     6: 96% (60/62)\n",
            "Test Accuracy of     7: 95% (77/81)\n",
            "Test Accuracy of     8: 97% (75/77)\n",
            "Test Accuracy of     9: 97% (81/83)\n",
            "\n",
            "Final Test  Accuracy: 96.582 (763.0/790.0)\n"
          ],
          "name": "stdout"
        }
      ]
    },
    {
      "cell_type": "markdown",
      "metadata": {
        "id": "w7NddQfAN1uk"
      },
      "source": [
        "#MNIST MLP on Non-IID"
      ]
    },
    {
      "cell_type": "markdown",
      "metadata": {
        "id": "YjGaNhZaRgD-"
      },
      "source": [
        "##Train"
      ]
    },
    {
      "cell_type": "code",
      "metadata": {
        "colab": {
          "base_uri": "https://localhost:8080/",
          "height": 1000
        },
        "id": "uR3WgpV7l7ES",
        "outputId": "7992dac7-48ce-4bd0-dd3b-63de808ae100"
      },
      "source": [
        "# number of training rounds\n",
        "rounds = 20\n",
        "# client fraction\n",
        "C = 0.5\n",
        "# number of clients\n",
        "K = 100\n",
        "# number of training passes on local dataset for each roung\n",
        "E = 5\n",
        "# batch size\n",
        "batch_size = 10\n",
        "# learning Rate\n",
        "lr=0.05\n",
        "# dict containing different type of data partition\n",
        "data_dict = non_iid_partition(mnist_data_train, 100, 200, 300, 2)\n",
        "# load model\n",
        "mnist_mlp = MNIST_2NN()\n",
        "\n",
        "if torch.cuda.is_available():\n",
        "  mnist_mlp.cuda()\n",
        "\n",
        "mnist_mlp_non_iid_trained = training(mnist_mlp, rounds, batch_size, lr, mnist_data_train, data_dict, C, K, E, \"MNIST MLP on Non-IID Dataset\", \"green\", 0.1)"
      ],
      "execution_count": 47,
      "outputs": [
        {
          "output_type": "stream",
          "text": [
            "156800\n",
            "200\n",
            "40000\n",
            "200\n",
            "2000\n",
            "10\n",
            "Round: 1... \tAverage Loss: 0.119\n",
            "156800\n",
            "200\n",
            "40000\n",
            "200\n",
            "2000\n",
            "10\n",
            "Round: 2... \tAverage Loss: 0.075\n",
            "156800\n",
            "200\n",
            "40000\n",
            "200\n",
            "2000\n",
            "10\n",
            "Round: 3... \tAverage Loss: 0.066\n",
            "156800\n",
            "200\n",
            "40000\n",
            "200\n",
            "2000\n",
            "10\n",
            "Round: 4... \tAverage Loss: 0.062\n",
            "156800\n",
            "200\n",
            "40000\n",
            "200\n",
            "2000\n",
            "10\n",
            "Round: 5... \tAverage Loss: 0.06\n",
            "156800\n",
            "200\n",
            "40000\n",
            "200\n",
            "2000\n",
            "10\n",
            "Round: 6... \tAverage Loss: 0.053\n",
            "156800\n",
            "200\n",
            "40000\n",
            "200\n",
            "2000\n",
            "10\n",
            "Round: 7... \tAverage Loss: 0.059\n",
            "156800\n",
            "200\n",
            "40000\n",
            "200\n",
            "2000\n",
            "10\n",
            "Round: 8... \tAverage Loss: 0.061\n",
            "156800\n",
            "200\n",
            "40000\n",
            "200\n",
            "2000\n",
            "10\n",
            "Round: 9... \tAverage Loss: 0.052\n",
            "156800\n",
            "200\n",
            "40000\n",
            "200\n",
            "2000\n",
            "10\n",
            "Round: 10... \tAverage Loss: 0.051\n",
            "156800\n",
            "200\n",
            "40000\n",
            "200\n",
            "2000\n",
            "10\n",
            "Round: 11... \tAverage Loss: 0.047\n",
            "156800\n",
            "200\n",
            "40000\n",
            "200\n",
            "2000\n",
            "10\n",
            "Round: 12... \tAverage Loss: 0.051\n",
            "156800\n",
            "200\n",
            "40000\n",
            "200\n",
            "2000\n",
            "10\n",
            "Round: 13... \tAverage Loss: 0.051\n",
            "156800\n",
            "200\n",
            "40000\n",
            "200\n",
            "2000\n",
            "10\n",
            "Round: 14... \tAverage Loss: 0.058\n",
            "156800\n",
            "200\n",
            "40000\n",
            "200\n",
            "2000\n",
            "10\n",
            "Round: 15... \tAverage Loss: 0.055\n",
            "156800\n",
            "200\n",
            "40000\n",
            "200\n",
            "2000\n",
            "10\n",
            "Round: 16... \tAverage Loss: 0.046\n",
            "156800\n",
            "200\n",
            "40000\n",
            "200\n",
            "2000\n",
            "10\n",
            "Round: 17... \tAverage Loss: 0.055\n",
            "156800\n",
            "200\n",
            "40000\n",
            "200\n",
            "2000\n",
            "10\n",
            "Round: 18... \tAverage Loss: 0.052\n",
            "156800\n",
            "200\n",
            "40000\n",
            "200\n",
            "2000\n",
            "10\n",
            "Round: 19... \tAverage Loss: 0.044\n",
            "156800\n",
            "200\n",
            "40000\n",
            "200\n",
            "2000\n",
            "10\n",
            "Round: 20... \tAverage Loss: 0.055\n",
            "Training Done!\n",
            "Total time taken to Train: 3392.322267770767\n"
          ],
          "name": "stdout"
        },
        {
          "output_type": "display_data",
          "data": {
            "image/png": "[encoded data removed]",
            "text/plain": [
              "<Figure size 432x288 with 1 Axes>"
            ]
          },
          "metadata": {
            "tags": [],
            "needs_background": "light"
          }
        }
      ]
    },
    {
      "cell_type": "markdown",
      "metadata": {
        "id": "Ia4RWJDwRiIW"
      },
      "source": [
        "##Test"
      ]
    },
    {
      "cell_type": "code",
      "metadata": {
        "colab": {
          "base_uri": "https://localhost:8080/"
        },
        "id": "YPHkKmdZOFFi",
        "outputId": "879703cf-76b3-4634-9d2d-da21b3e54214"
      },
      "source": [
        "criterion = nn.CrossEntropyLoss()\n",
        "testing(mnist_mlp_non_iid_trained, mnist_data_test, 128, criterion, num_classes, classes_test)"
      ],
      "execution_count": 48,
      "outputs": [
        {
          "output_type": "stream",
          "text": [
            "Test Loss: 3.596778\n",
            "\n",
            "Test Accuracy of     0: 100% (76/76)\n",
            "Test Accuracy of     1: 98% (89/90)\n",
            "Test Accuracy of     2: 71% (65/91)\n",
            "Test Accuracy of     3: 91% (67/73)\n",
            "Test Accuracy of     4: 97% (87/89)\n",
            "Test Accuracy of     5: 39% (27/68)\n",
            "Test Accuracy of     6: 90% (56/62)\n",
            "Test Accuracy of     7: 83% (68/81)\n",
            "Test Accuracy of     8: 51% (40/77)\n",
            "Test Accuracy of     9: 20% (17/83)\n",
            "\n",
            "Final Test  Accuracy: 74.937 (592.0/790.0)\n"
          ],
          "name": "stdout"
        }
      ]
    },
    {
      "cell_type": "markdown",
      "metadata": {
        "id": "7JOrGXijO-n5"
      },
      "source": [
        "#MNIST CNN on IID"
      ]
    },
    {
      "cell_type": "markdown",
      "metadata": {
        "id": "LlfMgPCnPG24"
      },
      "source": [
        "##Train"
      ]
    },
    {
      "cell_type": "code",
      "metadata": {
        "colab": {
          "base_uri": "https://localhost:8080/",
          "height": 1000
        },
        "id": "MQnkaV-kOw7J",
        "outputId": "2b9070ca-b4e1-4a59-8d0e-1940c553dc0b"
      },
      "source": [
        "# number of training rounds\n",
        "rounds = 20\n",
        "# client fraction\n",
        "C = 0.5\n",
        "# number of clients\n",
        "K = 100\n",
        "# number of training passes on local dataset for each roung\n",
        "E = 5\n",
        "# batch size\n",
        "batch_size = 10\n",
        "# learning Rate\n",
        "lr=0.05\n",
        "# data partition dictionary\n",
        "iid_dict = iid_partition(mnist_data_train, 100)\n",
        "# load model\n",
        "mnist_cnn = MNIST_CNN()\n",
        "\n",
        "if torch.cuda.is_available():\n",
        "  mnist_cnn.cuda()\n",
        "\n",
        "mnist_cnn_iid_trained = training(mnist_cnn, rounds, batch_size, lr, mnist_data_train, iid_dict, C, K, E, \"MNIST CNN on IID Dataset\", \"orange\", 0.1)"
      ],
      "execution_count": 49,
      "outputs": [
        {
          "output_type": "stream",
          "text": [
            "800\n",
            "32\n",
            "51200\n",
            "64\n",
            "524288\n",
            "512\n",
            "5120\n",
            "10\n",
            "Round: 1... \tAverage Loss: 0.498\n",
            "800\n",
            "32\n",
            "51200\n",
            "64\n",
            "524288\n",
            "512\n",
            "5120\n",
            "10\n",
            "Round: 2... \tAverage Loss: 0.178\n",
            "800\n",
            "32\n",
            "51200\n",
            "64\n",
            "524288\n",
            "512\n",
            "5120\n",
            "10\n",
            "Round: 3... \tAverage Loss: 0.094\n",
            "800\n",
            "32\n",
            "51200\n",
            "64\n",
            "524288\n",
            "512\n",
            "5120\n",
            "10\n",
            "Round: 4... \tAverage Loss: 0.078\n",
            "800\n",
            "32\n",
            "51200\n",
            "64\n",
            "524288\n",
            "512\n",
            "5120\n",
            "10\n",
            "Round: 5... \tAverage Loss: 0.068\n",
            "800\n",
            "32\n",
            "51200\n",
            "64\n",
            "524288\n",
            "512\n",
            "5120\n",
            "10\n",
            "Round: 6... \tAverage Loss: 0.058\n",
            "800\n",
            "32\n",
            "51200\n",
            "64\n",
            "524288\n",
            "512\n",
            "5120\n",
            "10\n",
            "Round: 7... \tAverage Loss: 0.054\n",
            "800\n",
            "32\n",
            "51200\n",
            "64\n",
            "524288\n",
            "512\n",
            "5120\n",
            "10\n",
            "Round: 8... \tAverage Loss: 0.049\n",
            "800\n",
            "32\n",
            "51200\n",
            "64\n",
            "524288\n",
            "512\n",
            "5120\n",
            "10\n",
            "Round: 9... \tAverage Loss: 0.045\n",
            "800\n",
            "32\n",
            "51200\n",
            "64\n",
            "524288\n",
            "512\n",
            "5120\n",
            "10\n",
            "Round: 10... \tAverage Loss: 0.04\n",
            "800\n",
            "32\n",
            "51200\n",
            "64\n",
            "524288\n",
            "512\n",
            "5120\n",
            "10\n",
            "Round: 11... \tAverage Loss: 0.038\n",
            "800\n",
            "32\n",
            "51200\n",
            "64\n",
            "524288\n",
            "512\n",
            "5120\n",
            "10\n",
            "Round: 12... \tAverage Loss: 0.038\n",
            "800\n",
            "32\n",
            "51200\n",
            "64\n",
            "524288\n",
            "512\n",
            "5120\n",
            "10\n",
            "Round: 13... \tAverage Loss: 0.037\n",
            "800\n",
            "32\n",
            "51200\n",
            "64\n",
            "524288\n",
            "512\n",
            "5120\n",
            "10\n",
            "Round: 14... \tAverage Loss: 0.036\n",
            "800\n",
            "32\n",
            "51200\n",
            "64\n",
            "524288\n",
            "512\n",
            "5120\n",
            "10\n",
            "Round: 15... \tAverage Loss: 0.034\n",
            "800\n",
            "32\n",
            "51200\n",
            "64\n",
            "524288\n",
            "512\n",
            "5120\n",
            "10\n",
            "Round: 16... \tAverage Loss: 0.032\n",
            "800\n",
            "32\n",
            "51200\n",
            "64\n",
            "524288\n",
            "512\n",
            "5120\n",
            "10\n",
            "Round: 17... \tAverage Loss: 0.034\n",
            "800\n",
            "32\n",
            "51200\n",
            "64\n",
            "524288\n",
            "512\n",
            "5120\n",
            "10\n",
            "Round: 18... \tAverage Loss: 0.032\n",
            "800\n",
            "32\n",
            "51200\n",
            "64\n",
            "524288\n",
            "512\n",
            "5120\n",
            "10\n",
            "Round: 19... \tAverage Loss: 0.029\n",
            "800\n",
            "32\n",
            "51200\n",
            "64\n",
            "524288\n",
            "512\n",
            "5120\n",
            "10\n",
            "Round: 20... \tAverage Loss: 0.032\n",
            "Training Done!\n",
            "Total time taken to Train: 9483.33653998375\n"
          ],
          "name": "stdout"
        },
        {
          "output_type": "display_data",
          "data": {
            "image/png": "[encoded data removed]",
            "text/plain": [
              "<Figure size 432x288 with 1 Axes>"
            ]
          },
          "metadata": {
            "tags": [],
            "needs_background": "light"
          }
        }
      ]
    },
    {
      "cell_type": "markdown",
      "metadata": {
        "id": "GYz3JwpNSElQ"
      },
      "source": [
        "##Test"
      ]
    },
    {
      "cell_type": "code",
      "metadata": {
        "colab": {
          "base_uri": "https://localhost:8080/"
        },
        "id": "73iqBgD7R_gK",
        "outputId": "af43b6e3-2d6a-41fa-e769-1b92e4961136"
      },
      "source": [
        "criterion = nn.CrossEntropyLoss()\n",
        "testing(mnist_cnn_iid_trained, mnist_data_test, 128, criterion, num_classes, classes_test)"
      ],
      "execution_count": 50,
      "outputs": [
        {
          "output_type": "stream",
          "text": [
            "Test Loss: 0.038338\n",
            "\n",
            "Test Accuracy of     0: 98% (75/76)\n",
            "Test Accuracy of     1: 97% (88/90)\n",
            "Test Accuracy of     2: 100% (91/91)\n",
            "Test Accuracy of     3: 97% (71/73)\n",
            "Test Accuracy of     4: 100% (89/89)\n",
            "Test Accuracy of     5: 98% (67/68)\n",
            "Test Accuracy of     6: 98% (61/62)\n",
            "Test Accuracy of     7: 100% (81/81)\n",
            "Test Accuracy of     8: 100% (77/77)\n",
            "Test Accuracy of     9: 98% (82/83)\n",
            "\n",
            "Final Test  Accuracy: 98.987 (782.0/790.0)\n"
          ],
          "name": "stdout"
        }
      ]
    },
    {
      "cell_type": "markdown",
      "metadata": {
        "id": "fEuvtdjrXtfF"
      },
      "source": [
        "#MNIST CNN on Non-IID"
      ]
    },
    {
      "cell_type": "markdown",
      "metadata": {
        "id": "Qts5A4ebZ0qT"
      },
      "source": [
        "##Train"
      ]
    },
    {
      "cell_type": "code",
      "metadata": {
        "colab": {
          "base_uri": "https://localhost:8080/",
          "height": 1000
        },
        "id": "PuFptwHCXLBK",
        "outputId": "b4702151-58e9-479f-b70b-689d38cfae43"
      },
      "source": [
        "rounds = 20\n",
        "# client fraction\n",
        "C = 0.5\n",
        "# number of clients\n",
        "K = 100\n",
        "# number of training passes on local dataset for each roung\n",
        "E = 5\n",
        "# batch size\n",
        "batch_size = 10\n",
        "# learning Rate\n",
        "lr=0.05\n",
        "# dict containing different type of data partition\n",
        "data_dict = non_iid_partition(mnist_data_train, 100, 200, 300, 2)\n",
        "# load model\n",
        "mnist_cnn = MNIST_CNN()\n",
        "\n",
        "if torch.cuda.is_available():\n",
        "  mnist_cnn.cuda()\n",
        "\n",
        "mnist_cnn_non_iid_trained = training(mnist_cnn, rounds, batch_size, lr, mnist_data_train, data_dict, C, K, E, \"MNIST CNN on Non-IID Dataset\", \"green\", 0.1)"
      ],
      "execution_count": 22,
      "outputs": [
        {
          "output_type": "stream",
          "text": [
            "800\n",
            "32\n",
            "51200\n",
            "64\n",
            "524288\n",
            "512\n",
            "5120\n",
            "10\n",
            "Round: 1... \tAverage Loss: 0.105\n",
            "800\n",
            "32\n",
            "51200\n",
            "64\n",
            "524288\n",
            "512\n",
            "5120\n",
            "10\n",
            "Round: 2... \tAverage Loss: 0.084\n",
            "800\n",
            "32\n",
            "51200\n",
            "64\n",
            "524288\n",
            "512\n",
            "5120\n",
            "10\n",
            "Round: 3... \tAverage Loss: 0.052\n",
            "800\n",
            "32\n",
            "51200\n",
            "64\n",
            "524288\n",
            "512\n",
            "5120\n",
            "10\n",
            "Round: 4... \tAverage Loss: 0.039\n",
            "800\n",
            "32\n",
            "51200\n",
            "64\n",
            "524288\n",
            "512\n",
            "5120\n",
            "10\n",
            "Round: 5... \tAverage Loss: 0.029\n",
            "800\n",
            "32\n",
            "51200\n",
            "64\n",
            "524288\n",
            "512\n",
            "5120\n",
            "10\n",
            "Round: 6... \tAverage Loss: 0.031\n",
            "800\n",
            "32\n",
            "51200\n",
            "64\n",
            "524288\n",
            "512\n",
            "5120\n",
            "10\n",
            "Round: 7... \tAverage Loss: 0.032\n",
            "800\n",
            "32\n",
            "51200\n",
            "64\n",
            "524288\n",
            "512\n",
            "5120\n",
            "10\n",
            "Round: 8... \tAverage Loss: 0.028\n",
            "800\n",
            "32\n",
            "51200\n",
            "64\n",
            "524288\n",
            "512\n",
            "5120\n",
            "10\n",
            "Round: 9... \tAverage Loss: 0.027\n",
            "800\n",
            "32\n",
            "51200\n",
            "64\n",
            "524288\n",
            "512\n",
            "5120\n",
            "10\n",
            "Round: 10... \tAverage Loss: 0.027\n",
            "800\n",
            "32\n",
            "51200\n",
            "64\n",
            "524288\n",
            "512\n",
            "5120\n",
            "10\n",
            "Round: 11... \tAverage Loss: 0.023\n",
            "800\n",
            "32\n",
            "51200\n",
            "64\n",
            "524288\n",
            "512\n",
            "5120\n",
            "10\n",
            "Round: 12... \tAverage Loss: 0.029\n",
            "800\n",
            "32\n",
            "51200\n",
            "64\n",
            "524288\n",
            "512\n",
            "5120\n",
            "10\n",
            "Round: 13... \tAverage Loss: 0.024\n",
            "800\n",
            "32\n",
            "51200\n",
            "64\n",
            "524288\n",
            "512\n",
            "5120\n",
            "10\n",
            "Round: 14... \tAverage Loss: 0.022\n",
            "800\n",
            "32\n",
            "51200\n",
            "64\n",
            "524288\n",
            "512\n",
            "5120\n",
            "10\n",
            "Round: 15... \tAverage Loss: 0.026\n",
            "800\n",
            "32\n",
            "51200\n",
            "64\n",
            "524288\n",
            "512\n",
            "5120\n",
            "10\n",
            "Round: 16... \tAverage Loss: 0.027\n",
            "800\n",
            "32\n",
            "51200\n",
            "64\n",
            "524288\n",
            "512\n",
            "5120\n",
            "10\n",
            "Round: 17... \tAverage Loss: 0.024\n",
            "800\n",
            "32\n",
            "51200\n",
            "64\n",
            "524288\n",
            "512\n",
            "5120\n",
            "10\n",
            "Round: 18... \tAverage Loss: 0.023\n",
            "800\n",
            "32\n",
            "51200\n",
            "64\n",
            "524288\n",
            "512\n",
            "5120\n",
            "10\n",
            "Round: 19... \tAverage Loss: 0.029\n",
            "800\n",
            "32\n",
            "51200\n",
            "64\n",
            "524288\n",
            "512\n",
            "5120\n",
            "10\n",
            "Round: 20... \tAverage Loss: 0.02\n",
            "Training Done!\n",
            "Total time taken to Train: 9501.178279161453\n"
          ],
          "name": "stdout"
        },
        {
          "output_type": "display_data",
          "data": {
            "image/png": "[encoded data removed]",
            "text/plain": [
              "<Figure size 432x288 with 1 Axes>"
            ]
          },
          "metadata": {
            "tags": [],
            "needs_background": "light"
          }
        }
      ]
    },
    {
      "cell_type": "markdown",
      "metadata": {
        "id": "Vz5AZ8_zZzMr"
      },
      "source": [
        "##Test"
      ]
    },
    {
      "cell_type": "code",
      "metadata": {
        "colab": {
          "base_uri": "https://localhost:8080/"
        },
        "id": "Vzej8P--Zltk",
        "outputId": "7fffd52b-0b1a-40f7-afc7-5616f9f365b9"
      },
      "source": [
        "criterion = nn.CrossEntropyLoss()\n",
        "testing(mnist_cnn_non_iid_trained, mnist_data_test, 128, criterion, num_classes, classes_test)"
      ],
      "execution_count": 23,
      "outputs": [
        {
          "output_type": "stream",
          "text": [
            "Test Loss: 0.381669\n",
            "\n",
            "Test Accuracy of     0: 97% (74/76)\n",
            "Test Accuracy of     1: 100% (90/90)\n",
            "Test Accuracy of     2: 84% (77/91)\n",
            "Test Accuracy of     3: 95% (70/73)\n",
            "Test Accuracy of     4: 97% (87/89)\n",
            "Test Accuracy of     5: 95% (65/68)\n",
            "Test Accuracy of     6: 98% (61/62)\n",
            "Test Accuracy of     7: 97% (79/81)\n",
            "Test Accuracy of     8: 94% (73/77)\n",
            "Test Accuracy of     9: 57% (48/83)\n",
            "\n",
            "Final Test  Accuracy: 91.646 (724.0/790.0)\n"
          ],
          "name": "stdout"
        }
      ]
    },
    {
      "cell_type": "code",
      "metadata": {
        "id": "oGR_Fq6GZ3HS"
      },
      "source": [
        "."
      ],
      "execution_count": null,
      "outputs": []
    }
  ]
}