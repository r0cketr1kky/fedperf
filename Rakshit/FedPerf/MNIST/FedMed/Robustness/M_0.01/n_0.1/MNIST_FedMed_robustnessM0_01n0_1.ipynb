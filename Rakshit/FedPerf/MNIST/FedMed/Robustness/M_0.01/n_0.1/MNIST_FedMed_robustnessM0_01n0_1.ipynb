{
  "nbformat": 4,
  "nbformat_minor": 0,
  "metadata": {
    "accelerator": "GPU",
    "colab": {
      "name": "MNIST_FedMed_robustnessM0_01n0_1.ipynb",
      "provenance": [],
      "collapsed_sections": [
        "Ia4RWJDwRiIW"
      ],
      "machine_shape": "hm"
    },
    "kernelspec": {
      "display_name": "Python 3",
      "name": "python3"
    },
    "widgets": {
      "application/vnd.jupyter.widget-state+json": {
        "d95d3ebffb8b44808b31e2d1f74e5de2": {
          "model_module": "@jupyter-widgets/controls",
          "model_name": "HBoxModel",
          "state": {
            "_view_name": "HBoxView",
            "_dom_classes": [],
            "_model_name": "HBoxModel",
            "_view_module": "@jupyter-widgets/controls",
            "_model_module_version": "1.5.0",
            "_view_count": null,
            "_view_module_version": "1.5.0",
            "box_style": "",
            "layout": "IPY_MODEL_13a3e1d86ce94e1da58dbf970ddffce6",
            "_model_module": "@jupyter-widgets/controls",
            "children": [
              "IPY_MODEL_2c9f7ef8e82a41e19b82337e4c96be60",
              "IPY_MODEL_a2537c8a655a4f61b7bcb0ba8f50efeb"
            ]
          }
        },
        "13a3e1d86ce94e1da58dbf970ddffce6": {
          "model_module": "@jupyter-widgets/base",
          "model_name": "LayoutModel",
          "state": {
            "_view_name": "LayoutView",
            "grid_template_rows": null,
            "right": null,
            "justify_content": null,
            "_view_module": "@jupyter-widgets/base",
            "overflow": null,
            "_model_module_version": "1.2.0",
            "_view_count": null,
            "flex_flow": null,
            "width": null,
            "min_width": null,
            "border": null,
            "align_items": null,
            "bottom": null,
            "_model_module": "@jupyter-widgets/base",
            "top": null,
            "grid_column": null,
            "overflow_y": null,
            "overflow_x": null,
            "grid_auto_flow": null,
            "grid_area": null,
            "grid_template_columns": null,
            "flex": null,
            "_model_name": "LayoutModel",
            "justify_items": null,
            "grid_row": null,
            "max_height": null,
            "align_content": null,
            "visibility": null,
            "align_self": null,
            "height": null,
            "min_height": null,
            "padding": null,
            "grid_auto_rows": null,
            "grid_gap": null,
            "max_width": null,
            "order": null,
            "_view_module_version": "1.2.0",
            "grid_template_areas": null,
            "object_position": null,
            "object_fit": null,
            "grid_auto_columns": null,
            "margin": null,
            "display": null,
            "left": null
          }
        },
        "2c9f7ef8e82a41e19b82337e4c96be60": {
          "model_module": "@jupyter-widgets/controls",
          "model_name": "FloatProgressModel",
          "state": {
            "_view_name": "ProgressView",
            "style": "IPY_MODEL_ae5a7524dca74a4299daefb58973c48e",
            "_dom_classes": [],
            "description": "",
            "_model_name": "FloatProgressModel",
            "bar_style": "info",
            "max": 1,
            "_view_module": "@jupyter-widgets/controls",
            "_model_module_version": "1.5.0",
            "value": 1,
            "_view_count": null,
            "_view_module_version": "1.5.0",
            "orientation": "horizontal",
            "min": 0,
            "description_tooltip": null,
            "_model_module": "@jupyter-widgets/controls",
            "layout": "IPY_MODEL_4f6615cded7a4a519041ad92f3e05254"
          }
        },
        "a2537c8a655a4f61b7bcb0ba8f50efeb": {
          "model_module": "@jupyter-widgets/controls",
          "model_name": "HTMLModel",
          "state": {
            "_view_name": "HTMLView",
            "style": "IPY_MODEL_161085fe8e864a6bb4326cd54d401b00",
            "_dom_classes": [],
            "description": "",
            "_model_name": "HTMLModel",
            "placeholder": "​",
            "_view_module": "@jupyter-widgets/controls",
            "_model_module_version": "1.5.0",
            "value": " 1654784/? [01:10&lt;00:00, 31395.13it/s]",
            "_view_count": null,
            "_view_module_version": "1.5.0",
            "description_tooltip": null,
            "_model_module": "@jupyter-widgets/controls",
            "layout": "IPY_MODEL_dd91c93789634663a498b405899108de"
          }
        },
        "ae5a7524dca74a4299daefb58973c48e": {
          "model_module": "@jupyter-widgets/controls",
          "model_name": "ProgressStyleModel",
          "state": {
            "_view_name": "StyleView",
            "_model_name": "ProgressStyleModel",
            "description_width": "initial",
            "_view_module": "@jupyter-widgets/base",
            "_model_module_version": "1.5.0",
            "_view_count": null,
            "_view_module_version": "1.2.0",
            "bar_color": null,
            "_model_module": "@jupyter-widgets/controls"
          }
        },
        "4f6615cded7a4a519041ad92f3e05254": {
          "model_module": "@jupyter-widgets/base",
          "model_name": "LayoutModel",
          "state": {
            "_view_name": "LayoutView",
            "grid_template_rows": null,
            "right": null,
            "justify_content": null,
            "_view_module": "@jupyter-widgets/base",
            "overflow": null,
            "_model_module_version": "1.2.0",
            "_view_count": null,
            "flex_flow": null,
            "width": null,
            "min_width": null,
            "border": null,
            "align_items": null,
            "bottom": null,
            "_model_module": "@jupyter-widgets/base",
            "top": null,
            "grid_column": null,
            "overflow_y": null,
            "overflow_x": null,
            "grid_auto_flow": null,
            "grid_area": null,
            "grid_template_columns": null,
            "flex": null,
            "_model_name": "LayoutModel",
            "justify_items": null,
            "grid_row": null,
            "max_height": null,
            "align_content": null,
            "visibility": null,
            "align_self": null,
            "height": null,
            "min_height": null,
            "padding": null,
            "grid_auto_rows": null,
            "grid_gap": null,
            "max_width": null,
            "order": null,
            "_view_module_version": "1.2.0",
            "grid_template_areas": null,
            "object_position": null,
            "object_fit": null,
            "grid_auto_columns": null,
            "margin": null,
            "display": null,
            "left": null
          }
        },
        "161085fe8e864a6bb4326cd54d401b00": {
          "model_module": "@jupyter-widgets/controls",
          "model_name": "DescriptionStyleModel",
          "state": {
            "_view_name": "StyleView",
            "_model_name": "DescriptionStyleModel",
            "description_width": "",
            "_view_module": "@jupyter-widgets/base",
            "_model_module_version": "1.5.0",
            "_view_count": null,
            "_view_module_version": "1.2.0",
            "_model_module": "@jupyter-widgets/controls"
          }
        },
        "dd91c93789634663a498b405899108de": {
          "model_module": "@jupyter-widgets/base",
          "model_name": "LayoutModel",
          "state": {
            "_view_name": "LayoutView",
            "grid_template_rows": null,
            "right": null,
            "justify_content": null,
            "_view_module": "@jupyter-widgets/base",
            "overflow": null,
            "_model_module_version": "1.2.0",
            "_view_count": null,
            "flex_flow": null,
            "width": null,
            "min_width": null,
            "border": null,
            "align_items": null,
            "bottom": null,
            "_model_module": "@jupyter-widgets/base",
            "top": null,
            "grid_column": null,
            "overflow_y": null,
            "overflow_x": null,
            "grid_auto_flow": null,
            "grid_area": null,
            "grid_template_columns": null,
            "flex": null,
            "_model_name": "LayoutModel",
            "justify_items": null,
            "grid_row": null,
            "max_height": null,
            "align_content": null,
            "visibility": null,
            "align_self": null,
            "height": null,
            "min_height": null,
            "padding": null,
            "grid_auto_rows": null,
            "grid_gap": null,
            "max_width": null,
            "order": null,
            "_view_module_version": "1.2.0",
            "grid_template_areas": null,
            "object_position": null,
            "object_fit": null,
            "grid_auto_columns": null,
            "margin": null,
            "display": null,
            "left": null
          }
        },
        "850f321baf6f40689a7313f3b6920135": {
          "model_module": "@jupyter-widgets/controls",
          "model_name": "HBoxModel",
          "state": {
            "_view_name": "HBoxView",
            "_dom_classes": [],
            "_model_name": "HBoxModel",
            "_view_module": "@jupyter-widgets/controls",
            "_model_module_version": "1.5.0",
            "_view_count": null,
            "_view_module_version": "1.5.0",
            "box_style": "",
            "layout": "IPY_MODEL_3e9dea8669714067ab09e254f952c3a8",
            "_model_module": "@jupyter-widgets/controls",
            "children": [
              "IPY_MODEL_e4cfe0fc544a40608ed3fdd88419d055",
              "IPY_MODEL_86faedc16f8141898eadc369bf738178"
            ]
          }
        },
        "3e9dea8669714067ab09e254f952c3a8": {
          "model_module": "@jupyter-widgets/base",
          "model_name": "LayoutModel",
          "state": {
            "_view_name": "LayoutView",
            "grid_template_rows": null,
            "right": null,
            "justify_content": null,
            "_view_module": "@jupyter-widgets/base",
            "overflow": null,
            "_model_module_version": "1.2.0",
            "_view_count": null,
            "flex_flow": null,
            "width": null,
            "min_width": null,
            "border": null,
            "align_items": null,
            "bottom": null,
            "_model_module": "@jupyter-widgets/base",
            "top": null,
            "grid_column": null,
            "overflow_y": null,
            "overflow_x": null,
            "grid_auto_flow": null,
            "grid_area": null,
            "grid_template_columns": null,
            "flex": null,
            "_model_name": "LayoutModel",
            "justify_items": null,
            "grid_row": null,
            "max_height": null,
            "align_content": null,
            "visibility": null,
            "align_self": null,
            "height": null,
            "min_height": null,
            "padding": null,
            "grid_auto_rows": null,
            "grid_gap": null,
            "max_width": null,
            "order": null,
            "_view_module_version": "1.2.0",
            "grid_template_areas": null,
            "object_position": null,
            "object_fit": null,
            "grid_auto_columns": null,
            "margin": null,
            "display": null,
            "left": null
          }
        },
        "e4cfe0fc544a40608ed3fdd88419d055": {
          "model_module": "@jupyter-widgets/controls",
          "model_name": "FloatProgressModel",
          "state": {
            "_view_name": "ProgressView",
            "style": "IPY_MODEL_0f164b6f023244068c3b622f3b6fe2ab",
            "_dom_classes": [],
            "description": "  0%",
            "_model_name": "FloatProgressModel",
            "bar_style": "info",
            "max": 1,
            "_view_module": "@jupyter-widgets/controls",
            "_model_module_version": "1.5.0",
            "value": 0,
            "_view_count": null,
            "_view_module_version": "1.5.0",
            "orientation": "horizontal",
            "min": 0,
            "description_tooltip": null,
            "_model_module": "@jupyter-widgets/controls",
            "layout": "IPY_MODEL_037adf3b908849c2b3633d06d2afb857"
          }
        },
        "86faedc16f8141898eadc369bf738178": {
          "model_module": "@jupyter-widgets/controls",
          "model_name": "HTMLModel",
          "state": {
            "_view_name": "HTMLView",
            "style": "IPY_MODEL_2cbcefcc8834432ba9a29d4921b75b4f",
            "_dom_classes": [],
            "description": "",
            "_model_name": "HTMLModel",
            "placeholder": "​",
            "_view_module": "@jupyter-widgets/controls",
            "_model_module_version": "1.5.0",
            "value": " 0/4542 [00:00&lt;?, ?it/s]",
            "_view_count": null,
            "_view_module_version": "1.5.0",
            "description_tooltip": null,
            "_model_module": "@jupyter-widgets/controls",
            "layout": "IPY_MODEL_dde6c503bbdc4955ad75f79a093c5703"
          }
        },
        "0f164b6f023244068c3b622f3b6fe2ab": {
          "model_module": "@jupyter-widgets/controls",
          "model_name": "ProgressStyleModel",
          "state": {
            "_view_name": "StyleView",
            "_model_name": "ProgressStyleModel",
            "description_width": "initial",
            "_view_module": "@jupyter-widgets/base",
            "_model_module_version": "1.5.0",
            "_view_count": null,
            "_view_module_version": "1.2.0",
            "bar_color": null,
            "_model_module": "@jupyter-widgets/controls"
          }
        },
        "037adf3b908849c2b3633d06d2afb857": {
          "model_module": "@jupyter-widgets/base",
          "model_name": "LayoutModel",
          "state": {
            "_view_name": "LayoutView",
            "grid_template_rows": null,
            "right": null,
            "justify_content": null,
            "_view_module": "@jupyter-widgets/base",
            "overflow": null,
            "_model_module_version": "1.2.0",
            "_view_count": null,
            "flex_flow": null,
            "width": null,
            "min_width": null,
            "border": null,
            "align_items": null,
            "bottom": null,
            "_model_module": "@jupyter-widgets/base",
            "top": null,
            "grid_column": null,
            "overflow_y": null,
            "overflow_x": null,
            "grid_auto_flow": null,
            "grid_area": null,
            "grid_template_columns": null,
            "flex": null,
            "_model_name": "LayoutModel",
            "justify_items": null,
            "grid_row": null,
            "max_height": null,
            "align_content": null,
            "visibility": null,
            "align_self": null,
            "height": null,
            "min_height": null,
            "padding": null,
            "grid_auto_rows": null,
            "grid_gap": null,
            "max_width": null,
            "order": null,
            "_view_module_version": "1.2.0",
            "grid_template_areas": null,
            "object_position": null,
            "object_fit": null,
            "grid_auto_columns": null,
            "margin": null,
            "display": null,
            "left": null
          }
        },
        "2cbcefcc8834432ba9a29d4921b75b4f": {
          "model_module": "@jupyter-widgets/controls",
          "model_name": "DescriptionStyleModel",
          "state": {
            "_view_name": "StyleView",
            "_model_name": "DescriptionStyleModel",
            "description_width": "",
            "_view_module": "@jupyter-widgets/base",
            "_model_module_version": "1.5.0",
            "_view_count": null,
            "_view_module_version": "1.2.0",
            "_model_module": "@jupyter-widgets/controls"
          }
        },
        "dde6c503bbdc4955ad75f79a093c5703": {
          "model_module": "@jupyter-widgets/base",
          "model_name": "LayoutModel",
          "state": {
            "_view_name": "LayoutView",
            "grid_template_rows": null,
            "right": null,
            "justify_content": null,
            "_view_module": "@jupyter-widgets/base",
            "overflow": null,
            "_model_module_version": "1.2.0",
            "_view_count": null,
            "flex_flow": null,
            "width": null,
            "min_width": null,
            "border": null,
            "align_items": null,
            "bottom": null,
            "_model_module": "@jupyter-widgets/base",
            "top": null,
            "grid_column": null,
            "overflow_y": null,
            "overflow_x": null,
            "grid_auto_flow": null,
            "grid_area": null,
            "grid_template_columns": null,
            "flex": null,
            "_model_name": "LayoutModel",
            "justify_items": null,
            "grid_row": null,
            "max_height": null,
            "align_content": null,
            "visibility": null,
            "align_self": null,
            "height": null,
            "min_height": null,
            "padding": null,
            "grid_auto_rows": null,
            "grid_gap": null,
            "max_width": null,
            "order": null,
            "_view_module_version": "1.2.0",
            "grid_template_areas": null,
            "object_position": null,
            "object_fit": null,
            "grid_auto_columns": null,
            "margin": null,
            "display": null,
            "left": null
          }
        }
      }
    }
  },
  "cells": [
    {
      "cell_type": "code",
      "metadata": {
        "colab": {
          "base_uri": "https://localhost:8080/"
        },
        "id": "0iaf_Ccaq_4Y",
        "outputId": "85ef0bc6-6adf-4a11-8616-ea31f18fa2f2"
      },
      "source": [
        "!pip install torchvision==0.8.0"
      ],
      "execution_count": 1,
      "outputs": [
        {
          "output_type": "stream",
          "text": [
            "Requirement already satisfied: torchvision==0.8.0 in /usr/local/lib/python3.7/dist-packages (0.8.0)\n",
            "Requirement already satisfied: torch==1.7.0 in /usr/local/lib/python3.7/dist-packages (from torchvision==0.8.0) (1.7.0)\n",
            "Requirement already satisfied: pillow>=4.1.1 in /usr/local/lib/python3.7/dist-packages (from torchvision==0.8.0) (7.0.0)\n",
            "Requirement already satisfied: numpy in /usr/local/lib/python3.7/dist-packages (from torchvision==0.8.0) (1.19.5)\n",
            "Requirement already satisfied: typing-extensions in /usr/local/lib/python3.7/dist-packages (from torch==1.7.0->torchvision==0.8.0) (3.7.4.3)\n",
            "Requirement already satisfied: dataclasses in /usr/local/lib/python3.7/dist-packages (from torch==1.7.0->torchvision==0.8.0) (0.6)\n",
            "Requirement already satisfied: future in /usr/local/lib/python3.7/dist-packages (from torch==1.7.0->torchvision==0.8.0) (0.16.0)\n"
          ],
          "name": "stdout"
        }
      ]
    },
    {
      "cell_type": "code",
      "metadata": {
        "colab": {
          "base_uri": "https://localhost:8080/"
        },
        "id": "AD8zc_5Lpdcu",
        "outputId": "574561ec-0bb5-4c12-f805-55264969f991"
      },
      "source": [
        "from google.colab import drive\n",
        "drive.mount('/gdrive')\n",
        "%cd /gdrive"
      ],
      "execution_count": 2,
      "outputs": [
        {
          "output_type": "stream",
          "text": [
            "Drive already mounted at /gdrive; to attempt to forcibly remount, call drive.mount(\"/gdrive\", force_remount=True).\n",
            "/gdrive\n"
          ],
          "name": "stdout"
        }
      ]
    },
    {
      "cell_type": "code",
      "metadata": {
        "colab": {
          "base_uri": "https://localhost:8080/"
        },
        "id": "DLLNM9X2JbQ8",
        "outputId": "fa567db3-fc7d-48b5-9217-72d7ee0cf21d"
      },
      "source": [
        "%load_ext tensorboard\n",
        "import os\n",
        "import numpy as np\n",
        "import matplotlib\n",
        "import matplotlib.pyplot as plt\n",
        "import copy\n",
        "import random\n",
        "import time\n",
        "\n",
        "import torch\n",
        "import torch.nn as nn\n",
        "import torch.nn.functional as F\n",
        "\n",
        "from torch.utils.data import Dataset, DataLoader\n",
        "from torch.utils.tensorboard import SummaryWriter\n",
        "from torchvision import transforms, utils, datasets\n",
        "from torchsummary import summary\n",
        "\n",
        "\n",
        "# Check assigned GPU\n",
        "gpu_info = !nvidia-smi\n",
        "gpu_info = '\\n'.join(gpu_info)\n",
        "if gpu_info.find('failed') >= 0:\n",
        "  print('Select the Runtime > \"Change runtime type\" menu to enable a GPU accelerator, ')\n",
        "  print('and then re-execute this cell.')\n",
        "else:\n",
        "  print(gpu_info)\n",
        "\n",
        "# set manual seed for reproducibility\n",
        "seed = 42\n",
        "\n",
        "# general reproducibility\n",
        "random.seed(seed)\n",
        "np.random.seed(seed)\n",
        "torch.manual_seed(seed)\n",
        "\n",
        "# gpu training specific\n",
        "torch.backends.cudnn.deterministic = True\n",
        "torch.backends.cudnn.benchmark = False"
      ],
      "execution_count": 3,
      "outputs": [
        {
          "output_type": "stream",
          "text": [
            "Tue Mar 30 05:27:18 2021       \n",
            "+-----------------------------------------------------------------------------+\n",
            "| NVIDIA-SMI 460.56       Driver Version: 460.32.03    CUDA Version: 11.2     |\n",
            "|-------------------------------+----------------------+----------------------+\n",
            "| GPU  Name        Persistence-M| Bus-Id        Disp.A | Volatile Uncorr. ECC |\n",
            "| Fan  Temp  Perf  Pwr:Usage/Cap|         Memory-Usage | GPU-Util  Compute M. |\n",
            "|                               |                      |               MIG M. |\n",
            "|===============================+======================+======================|\n",
            "|   0  Tesla P100-PCIE...  Off  | 00000000:00:04.0 Off |                    0 |\n",
            "| N/A   34C    P0    27W / 250W |      0MiB / 16280MiB |      0%      Default |\n",
            "|                               |                      |                  N/A |\n",
            "+-------------------------------+----------------------+----------------------+\n",
            "                                                                               \n",
            "+-----------------------------------------------------------------------------+\n",
            "| Processes:                                                                  |\n",
            "|  GPU   GI   CI        PID   Type   Process name                  GPU Memory |\n",
            "|        ID   ID                                                   Usage      |\n",
            "|=============================================================================|\n",
            "|  No running processes found                                                 |\n",
            "+-----------------------------------------------------------------------------+\n"
          ],
          "name": "stdout"
        }
      ]
    },
    {
      "cell_type": "markdown",
      "metadata": {
        "id": "NY4eWzGiL6Mj"
      },
      "source": [
        "## Load the MNIST Dataset"
      ]
    },
    {
      "cell_type": "code",
      "metadata": {
        "colab": {
          "base_uri": "https://localhost:8080/",
          "height": 52
        },
        "id": "tiaxWFmTGVBq",
        "outputId": "3f2af3bf-5488-4c30-a02c-59d55044a375"
      },
      "source": [
        "'''\n",
        "from six.moves import urllib\n",
        "opener = urllib.request.build_opener()\n",
        "opener.addheaders = [('User-agent', 'Mozilla/5.0')]\n",
        "urllib.request.install_opener(opener)\n",
        "'''"
      ],
      "execution_count": 4,
      "outputs": [
        {
          "output_type": "execute_result",
          "data": {
            "application/vnd.google.colaboratory.intrinsic+json": {
              "type": "string"
            },
            "text/plain": [
              "\"\\nfrom six.moves import urllib\\nopener = urllib.request.build_opener()\\nopener.addheaders = [('User-agent', 'Mozilla/5.0')]\\nurllib.request.install_opener(opener)\\n\""
            ]
          },
          "metadata": {
            "tags": []
          },
          "execution_count": 4
        }
      ]
    },
    {
      "cell_type": "code",
      "metadata": {
        "colab": {
          "base_uri": "https://localhost:8080/",
          "height": 86
        },
        "id": "G649tjTXLL8F",
        "outputId": "f4a17b73-f988-43a0-e3a3-685ea4f811ef"
      },
      "source": [
        "'''\n",
        "# create transforms\n",
        "# We will just convert to tensor and normalize since no special transforms are mentioned in the paper\n",
        "transforms_mnist = transforms.Compose([\n",
        "                                       transforms.ToTensor(),\n",
        "                                       transforms.Normalize((0.1307,), (0.3081,))\n",
        "                                       ])\n",
        "\n",
        "mnist_data_train = datasets.MNIST('../data/mnist/', train=True, download=True, transform=transforms_mnist)\n",
        "mnist_data_test = datasets.MNIST('../data/mnist/', train=False, download=True, transform=transforms_mnist)\n",
        "'''"
      ],
      "execution_count": 5,
      "outputs": [
        {
          "output_type": "execute_result",
          "data": {
            "application/vnd.google.colaboratory.intrinsic+json": {
              "type": "string"
            },
            "text/plain": [
              "\"\\n# create transforms\\n# We will just convert to tensor and normalize since no special transforms are mentioned in the paper\\ntransforms_mnist = transforms.Compose([\\n                                       transforms.ToTensor(),\\n                                       transforms.Normalize((0.1307,), (0.3081,))\\n                                       ])\\n\\nmnist_data_train = datasets.MNIST('../data/mnist/', train=True, download=True, transform=transforms_mnist)\\nmnist_data_test = datasets.MNIST('../data/mnist/', train=False, download=True, transform=transforms_mnist)\\n\""
            ]
          },
          "metadata": {
            "tags": []
          },
          "execution_count": 5
        }
      ]
    },
    {
      "cell_type": "code",
      "metadata": {
        "colab": {
          "base_uri": "https://localhost:8080/",
          "height": 577,
          "referenced_widgets": [
            "d95d3ebffb8b44808b31e2d1f74e5de2",
            "13a3e1d86ce94e1da58dbf970ddffce6",
            "2c9f7ef8e82a41e19b82337e4c96be60",
            "a2537c8a655a4f61b7bcb0ba8f50efeb",
            "ae5a7524dca74a4299daefb58973c48e",
            "4f6615cded7a4a519041ad92f3e05254",
            "161085fe8e864a6bb4326cd54d401b00",
            "dd91c93789634663a498b405899108de",
            "850f321baf6f40689a7313f3b6920135",
            "3e9dea8669714067ab09e254f952c3a8",
            "e4cfe0fc544a40608ed3fdd88419d055",
            "86faedc16f8141898eadc369bf738178",
            "0f164b6f023244068c3b622f3b6fe2ab",
            "037adf3b908849c2b3633d06d2afb857",
            "2cbcefcc8834432ba9a29d4921b75b4f",
            "dde6c503bbdc4955ad75f79a093c5703"
          ]
        },
        "id": "HVgZ5TetqEEP",
        "outputId": "18401969-e342-4393-8081-3edeac328b00"
      },
      "source": [
        "!wget www.di.ens.fr/~lelarge/MNIST.tar.gz\n",
        "!tar -zxvf MNIST.tar.gz\n",
        "\n",
        "from torchvision.datasets import MNIST\n",
        "\n",
        "transforms_mnist = transforms.Compose([\n",
        "                                       transforms.ToTensor(),\n",
        "                                       transforms.Normalize((0.1307,), (0.3081,))\n",
        "                                       ])\n",
        "\n",
        "mnist_data_train = MNIST(root = '../data/mnist/', train=True, download=True, transform=transforms_mnist)\n",
        "mnist_data_test = MNIST(root = '../data/mnist/', train=False, download=True, transform=transforms_mnist)"
      ],
      "execution_count": 6,
      "outputs": [
        {
          "output_type": "stream",
          "text": [
            "--2021-03-30 05:27:20--  http://www.di.ens.fr/~lelarge/MNIST.tar.gz\n",
            "Resolving www.di.ens.fr (www.di.ens.fr)... 129.199.99.14\n",
            "Connecting to www.di.ens.fr (www.di.ens.fr)|129.199.99.14|:80... connected.\n",
            "HTTP request sent, awaiting response... 302 Found\n",
            "Location: https://www.di.ens.fr/~lelarge/MNIST.tar.gz [following]\n",
            "--2021-03-30 05:27:21--  https://www.di.ens.fr/~lelarge/MNIST.tar.gz\n",
            "Connecting to www.di.ens.fr (www.di.ens.fr)|129.199.99.14|:443... connected.\n",
            "HTTP request sent, awaiting response... 200 OK\n",
            "Length: unspecified [application/x-gzip]\n",
            "MNIST.tar.gz: Operation not supported\n",
            "\n",
            "Cannot write to ‘MNIST.tar.gz’ (Success).\n",
            "tar (child): MNIST.tar.gz: Cannot open: No such file or directory\n",
            "tar (child): Error is not recoverable: exiting now\n",
            "tar: Child returned status 2\n",
            "tar: Error is not recoverable: exiting now\n",
            "Using downloaded and verified file: ../data/mnist/MNIST/raw/train-images-idx3-ubyte.gz\n",
            "Extracting ../data/mnist/MNIST/raw/train-images-idx3-ubyte.gz to ../data/mnist/MNIST/raw\n",
            "Using downloaded and verified file: ../data/mnist/MNIST/raw/train-labels-idx1-ubyte.gz\n",
            "Extracting ../data/mnist/MNIST/raw/train-labels-idx1-ubyte.gz to ../data/mnist/MNIST/raw\n",
            "Downloading http://yann.lecun.com/exdb/mnist/t10k-images-idx3-ubyte.gz to ../data/mnist/MNIST/raw/t10k-images-idx3-ubyte.gz\n"
          ],
          "name": "stdout"
        },
        {
          "output_type": "display_data",
          "data": {
            "application/vnd.jupyter.widget-view+json": {
              "model_id": "d95d3ebffb8b44808b31e2d1f74e5de2",
              "version_minor": 0,
              "version_major": 2
            },
            "text/plain": [
              "HBox(children=(FloatProgress(value=1.0, bar_style='info', max=1.0), HTML(value='')))"
            ]
          },
          "metadata": {
            "tags": []
          }
        },
        {
          "output_type": "stream",
          "text": [
            "Extracting ../data/mnist/MNIST/raw/t10k-images-idx3-ubyte.gz to ../data/mnist/MNIST/raw\n",
            "Downloading http://yann.lecun.com/exdb/mnist/t10k-labels-idx1-ubyte.gz to ../data/mnist/MNIST/raw/t10k-labels-idx1-ubyte.gz\n"
          ],
          "name": "stdout"
        },
        {
          "output_type": "display_data",
          "data": {
            "application/vnd.jupyter.widget-view+json": {
              "model_id": "850f321baf6f40689a7313f3b6920135",
              "version_minor": 0,
              "version_major": 2
            },
            "text/plain": [
              "HBox(children=(FloatProgress(value=1.0, bar_style='info', max=1.0), HTML(value='')))"
            ]
          },
          "metadata": {
            "tags": []
          }
        },
        {
          "output_type": "stream",
          "text": [
            "Extracting ../data/mnist/MNIST/raw/t10k-labels-idx1-ubyte.gz to ../data/mnist/MNIST/raw\n",
            "Processing...\n",
            "Done!\n"
          ],
          "name": "stdout"
        },
        {
          "output_type": "stream",
          "text": [
            "/usr/local/lib/python3.7/dist-packages/torchvision/datasets/mnist.py:480: UserWarning: The given NumPy array is not writeable, and PyTorch does not support non-writeable tensors. This means you can write to the underlying (supposedly non-writeable) NumPy array using the tensor. You may want to copy the array to protect its data or make it writeable before converting it to a tensor. This type of warning will be suppressed for the rest of this program. (Triggered internally at  /pytorch/torch/csrc/utils/tensor_numpy.cpp:141.)\n",
            "  return torch.from_numpy(parsed.astype(m[2], copy=False)).view(*s)\n"
          ],
          "name": "stderr"
        }
      ]
    },
    {
      "cell_type": "code",
      "metadata": {
        "colab": {
          "base_uri": "https://localhost:8080/"
        },
        "id": "dm9usjn2vFkL",
        "outputId": "aea5dbb7-42e0-47ea-d07d-4aa334828b2e"
      },
      "source": [
        "classes = np.array(list(mnist_data_train.class_to_idx.values()))\n",
        "classes_test = np.array(list(mnist_data_test.class_to_idx.values()))\n",
        "num_classes = len(classes_test)\n",
        "print(\"Classes: {} \\tType: {}\".format(classes, type(classes)))\n",
        "print(\"Classes Test: {} \\tType: {}\".format(classes_test, type(classes)))\n"
      ],
      "execution_count": 7,
      "outputs": [
        {
          "output_type": "stream",
          "text": [
            "Classes: [0 1 2 3 4 5 6 7 8 9] \tType: <class 'numpy.ndarray'>\n",
            "Classes Test: [0 1 2 3 4 5 6 7 8 9] \tType: <class 'numpy.ndarray'>\n"
          ],
          "name": "stdout"
        }
      ]
    },
    {
      "cell_type": "code",
      "metadata": {
        "colab": {
          "base_uri": "https://localhost:8080/"
        },
        "id": "9lvJt3Ofv2SO",
        "outputId": "0e7289d9-cad8-4e7e-ab2f-b31e9dafad99"
      },
      "source": [
        "print(\"Image Shape: {}\".format(mnist_data_train.data[0].size()))"
      ],
      "execution_count": 8,
      "outputs": [
        {
          "output_type": "stream",
          "text": [
            "Image Shape: torch.Size([28, 28])\n"
          ],
          "name": "stdout"
        }
      ]
    },
    {
      "cell_type": "markdown",
      "metadata": {
        "id": "jCOONkg-zV7Y"
      },
      "source": [
        "## Visualize Data"
      ]
    },
    {
      "cell_type": "code",
      "metadata": {
        "id": "R9MK03TZw6Qs"
      },
      "source": [
        "def imshow(img):\n",
        "\timg = img/2 + 0.5 #unnormalize the image\n",
        "\tplt.imshow(img, cmap='gray') # convert from tensor to image"
      ],
      "execution_count": 9,
      "outputs": []
    },
    {
      "cell_type": "code",
      "metadata": {
        "id": "gMJ0Kx4Kw-_H"
      },
      "source": [
        "def visualize(dataset):\n",
        "  figure = plt.figure(figsize=(25,4))\n",
        "  for i in range(20):\n",
        "    axis = figure.add_subplot(2, 20/2, i+1, xticks=[], yticks=[])\n",
        "    data = dataset.data[i]\n",
        "    data = data.numpy()\n",
        "\n",
        "    target = dataset.targets[i]\n",
        "    target = target.numpy()\n",
        "    imshow(data)\n",
        "    axis.set_title(target)\n"
      ],
      "execution_count": 10,
      "outputs": []
    },
    {
      "cell_type": "code",
      "metadata": {
        "colab": {
          "base_uri": "https://localhost:8080/",
          "height": 241
        },
        "id": "8bPOwKg10Ro7",
        "outputId": "bf2bef66-0883-4edb-b02a-d3501ddcad34"
      },
      "source": [
        "visualize(mnist_data_train)"
      ],
      "execution_count": 11,
      "outputs": [
        {
          "output_type": "display_data",
          "data": {
            "image/png": "[encoded data removed]",
            "text/plain": [
              "<Figure size 1800x288 with 20 Axes>"
            ]
          },
          "metadata": {
            "tags": []
          }
        }
      ]
    },
    {
      "cell_type": "code",
      "metadata": {
        "colab": {
          "base_uri": "https://localhost:8080/",
          "height": 241
        },
        "id": "RKoh5Cf70UYu",
        "outputId": "6c1d8a4a-3c59-48ad-eebd-6b0d992074de"
      },
      "source": [
        "visualize(mnist_data_test)"
      ],
      "execution_count": 12,
      "outputs": [
        {
          "output_type": "display_data",
          "data": {
            "image/png": "[encoded data removed]",
            "text/plain": [
              "<Figure size 1800x288 with 20 Axes>"
            ]
          },
          "metadata": {
            "tags": []
          }
        }
      ]
    },
    {
      "cell_type": "markdown",
      "metadata": {
        "id": "ctjRsETiO1qO"
      },
      "source": [
        "## Partitioning the Data (IID and non-IID)"
      ]
    },
    {
      "cell_type": "code",
      "metadata": {
        "id": "3_v8lyrgO5dD"
      },
      "source": [
        "def iid_partition(dataset, clients):\n",
        "  \"\"\"\n",
        "  I.I.D paritioning of data over clients\n",
        "  Shuffle the data\n",
        "  Split it between clients\n",
        "  \n",
        "  params:\n",
        "    - dataset (torch.utils.Dataset): Dataset containing the MNIST Images\n",
        "    - clients (int): Number of Clients to split the data between\n",
        "\n",
        "  returns:\n",
        "    - Dictionary of image indexes for each client\n",
        "  \"\"\"\n",
        "\n",
        "  num_items_per_client = int(len(dataset)/clients)\n",
        "  client_dict = {}\n",
        "  image_idxs = [i for i in range(len(dataset))]\n",
        "  #data_labels = dataset.targets.numpy()\n",
        "  #print(data_labels)\n",
        "\n",
        "  for i in range(clients):\n",
        "    x = np.random.choice(image_idxs, num_items_per_client, replace=False)\n",
        "    client_dict[i] = set(x)\n",
        "    image_idxs = list(set(image_idxs) - client_dict[i])\n",
        "  '''\n",
        "  #print(len(client_dict))\n",
        "  #random.randrange()\n",
        "  n = []\n",
        "  cli = list(range(clients))\n",
        "  for i in range(int(M*clients)):\n",
        "    new = np.random.choice(cli)\n",
        "    n.append(new)\n",
        "    cli.remove(new)\n",
        "  #n = np.random.choice(range(clients), int(0.1*clients), replace=False)\n",
        "  #n = list(n)\n",
        "  print(n)\n",
        "  for i in n:\n",
        "    j = 0\n",
        "    while j < int(W*num_items_per_client):\n",
        "      l = list(client_dict[i])\n",
        "      newl = dataset.targets[int(l[j])].item()\n",
        "      dataset.targets[int(l[j])] = torch.Tensor([(newl+1)%10])\n",
        "\n",
        "      j += 1\n",
        "\n",
        "  print(dataset.targets)\n",
        "  \n",
        "  c = 0\n",
        "  for i in dataset.targets:\n",
        "    if i == torch.Tensor([1]):\n",
        "      c += 1\n",
        "  print(c)\n",
        "  \n",
        "  '''\n",
        "  return client_dict\n"
      ],
      "execution_count": 13,
      "outputs": []
    },
    {
      "cell_type": "code",
      "metadata": {
        "id": "4zMdliGMQoSl"
      },
      "source": [
        "def non_iid_partition(dataset, clients, total_shards, shards_size, num_shards_per_client):\n",
        "  \"\"\"\n",
        "  non I.I.D parititioning of data over clients\n",
        "  Sort the data by the digit label\n",
        "  Divide the data into N shards of size S\n",
        "  Each of the clients will get X shards\n",
        "\n",
        "  params:\n",
        "    - dataset (torch.utils.Dataset): Dataset containing the MNIST Images\n",
        "    - clients (int): Number of Clients to split the data between\n",
        "    - total_shards (int): Number of shards to partition the data in\n",
        "    - shards_size (int): Size of each shard \n",
        "    - num_shards_per_client (int): Number of shards of size shards_size that each client receives\n",
        "\n",
        "  returns:\n",
        "    - Dictionary of image indexes for each client\n",
        "  \"\"\"\n",
        "  \n",
        "  shard_idxs = [i for i in range(total_shards)]\n",
        "  client_dict = {i: np.array([], dtype='int64') for i in range(clients)}\n",
        "  idxs = np.arange(len(dataset))\n",
        "  data_labels = dataset.targets.numpy()\n",
        "\n",
        "  \n",
        "  #print(data_labels)\n",
        "  # sort the labels\n",
        "  label_idxs = np.vstack((idxs, data_labels))\n",
        "  label_idxs = label_idxs[:, label_idxs[1,:].argsort()]\n",
        "  idxs = label_idxs[0,:]\n",
        "  #print(idxs)\n",
        "  #print(len(idxs))\n",
        "\n",
        "  # divide the data into total_shards of size shards_size\n",
        "  # assign num_shards_per_client to each client\n",
        "  for i in range(clients):\n",
        "    rand_set = set(np.random.choice(shard_idxs, num_shards_per_client, replace=False))\n",
        "    shard_idxs = list(set(shard_idxs) - rand_set)\n",
        "\n",
        "    for rand in rand_set:\n",
        "      client_dict[i] = np.concatenate((client_dict[i], idxs[rand*shards_size:(rand+1)*shards_size]), axis=0)\n",
        "  \n",
        "    #print(client_dict)\n",
        "  '''\n",
        "  n = []\n",
        "  cli = list(range(clients))\n",
        "  for i in range(int(0.5*clients)):\n",
        "    new = np.random.choice(cli)\n",
        "    n.append(new)\n",
        "    cli.remove(new)\n",
        "  #n = np.random.choice(range(clients), int(0.1*clients), replace=False)\n",
        "  #n = list(n)\n",
        "  print(n)\n",
        "  for i in n:\n",
        "    j = 0\n",
        "    while j < int(0.8*num_shards_per_client):\n",
        "      l = list(client_dict[i])\n",
        "      print(l)\n",
        "      newl = dataset.targets[int(l[j])].item()\n",
        "      dataset.targets[int(l[j])] = torch.Tensor([1])  #(newl+1)% 10\n",
        "\n",
        "      j += 1\n",
        "\n",
        "  print(dataset.targets)\n",
        "\n",
        "  \n",
        "  \n",
        "  M = 0.1\n",
        "  for n in range(M*K):\n",
        "    ran = random.randint(0, K)\n",
        "    for x in data_dict:\n",
        "      print(len(data_dict[x]))\n",
        "      #for i in range(0.5*len(data_dict[x])):\n",
        "\n",
        "  \n",
        "  '''\n",
        "  return client_dict\n",
        "\n",
        "\n",
        "\n"
      ],
      "execution_count": 14,
      "outputs": []
    },
    {
      "cell_type": "markdown",
      "metadata": {
        "id": "PTfxv8kFoGAy"
      },
      "source": [
        "## Models"
      ]
    },
    {
      "cell_type": "code",
      "metadata": {
        "id": "CvoDNFKbZST5"
      },
      "source": [
        "class MNIST_2NN(nn.Module):\n",
        "  \"\"\"\n",
        "  A simple multilayer-perceptron with 2-hidden layers with 200 units each\n",
        "  using ReLu activations\n",
        "\n",
        "  Total Expected Params: 199,210\n",
        "  \"\"\"\n",
        "  def __init__(self):\n",
        "    super(MNIST_2NN, self).__init__()\n",
        "\n",
        "    self.fc1 = nn.Linear(28*28, 200)\n",
        "    self.fc2 = nn.Linear(200, 200)\n",
        "    self.fc3 = nn.Linear(200, 10)\n",
        "\n",
        "  def forward(self, x):\n",
        "    x = torch.flatten(x, 1)\n",
        "    x = F.relu(self.fc1(x))\n",
        "    x = F.relu(self.fc2(x))\n",
        "    out = self.fc3(x)\n",
        "\n",
        "    return x"
      ],
      "execution_count": 15,
      "outputs": []
    },
    {
      "cell_type": "code",
      "metadata": {
        "id": "ut1hZ8x3qYPZ"
      },
      "source": [
        "class MNIST_CNN(nn.Module):\n",
        "  \"\"\"\n",
        "  CNN with two 5x5 convolution lauers(the first with 32 channels, second with 64,\n",
        "  each followed with 2x2 max pooling), a fully connected layer with 512 uunits and \n",
        "  ReLu activation, and the final Softmax output layer\n",
        "\n",
        "  Total Expected Params: 1,663,370\n",
        "  \"\"\"\n",
        "  def __init__(self):\n",
        "    super(MNIST_CNN, self).__init__()\n",
        "\n",
        "    self.conv1 = nn.Conv2d(1, 32, kernel_size=5)\n",
        "    self.conv2 = nn.Conv2d(32, 64, kernel_size=5)\n",
        "    \n",
        "    self.pool = nn.MaxPool2d(2,2)\n",
        "    self.dropout = nn.Dropout(p=0.2)\n",
        "\n",
        "    self.fc1 = nn.Linear(1024, 512)\n",
        "    self.out = nn.Linear(512, 10)\n",
        "\n",
        "  def forward(self, x):\n",
        "    x = self.pool(F.relu(self.conv1(x)))\n",
        "    x = self.pool(F.relu(self.conv2(x)))\n",
        "    x = self.dropout(x)\n",
        "    x = torch.flatten(x, 1)\n",
        "    x = F.relu(self.fc1(x))\n",
        "    x = self.out(x)\n",
        "    out = F.log_softmax(x, dim=1)\n",
        "\n",
        "    return out"
      ],
      "execution_count": 16,
      "outputs": []
    },
    {
      "cell_type": "markdown",
      "metadata": {
        "id": "uVv4HA9HuLtr"
      },
      "source": [
        "### Print Model Summaries"
      ]
    },
    {
      "cell_type": "code",
      "metadata": {
        "colab": {
          "base_uri": "https://localhost:8080/"
        },
        "id": "I5oTH710sJEt",
        "outputId": "212dd942-5da0-4ce7-8b38-4264ff2d03c2"
      },
      "source": [
        "mnist_mlp = MNIST_2NN()\n",
        "mnist_cnn = MNIST_CNN()\n",
        "\n",
        "if torch.cuda.is_available():\n",
        "  mnist_mlp.cuda()\n",
        "  mnist_cnn.cuda()\n",
        "\n",
        "print(\"MNIST MLP SUMMARY\")\n",
        "print(summary(mnist_mlp, (28,28)))\n",
        "\n",
        "print(\"\\nMNIST CNN SUMMARY\")\n",
        "print(summary(mnist_cnn, (1, 28,28)))"
      ],
      "execution_count": 17,
      "outputs": [
        {
          "output_type": "stream",
          "text": [
            "MNIST MLP SUMMARY\n",
            "----------------------------------------------------------------\n",
            "        Layer (type)               Output Shape         Param #\n",
            "================================================================\n",
            "            Linear-1                  [-1, 200]         157,000\n",
            "            Linear-2                  [-1, 200]          40,200\n",
            "            Linear-3                   [-1, 10]           2,010\n",
            "================================================================\n",
            "Total params: 199,210\n",
            "Trainable params: 199,210\n",
            "Non-trainable params: 0\n",
            "----------------------------------------------------------------\n",
            "Input size (MB): 0.00\n",
            "Forward/backward pass size (MB): 0.00\n",
            "Params size (MB): 0.76\n",
            "Estimated Total Size (MB): 0.77\n",
            "----------------------------------------------------------------\n",
            "None\n",
            "\n",
            "MNIST CNN SUMMARY\n",
            "----------------------------------------------------------------\n",
            "        Layer (type)               Output Shape         Param #\n",
            "================================================================\n",
            "            Conv2d-1           [-1, 32, 24, 24]             832\n",
            "         MaxPool2d-2           [-1, 32, 12, 12]               0\n",
            "            Conv2d-3             [-1, 64, 8, 8]          51,264\n",
            "         MaxPool2d-4             [-1, 64, 4, 4]               0\n",
            "           Dropout-5             [-1, 64, 4, 4]               0\n",
            "            Linear-6                  [-1, 512]         524,800\n",
            "            Linear-7                   [-1, 10]           5,130\n",
            "================================================================\n",
            "Total params: 582,026\n",
            "Trainable params: 582,026\n",
            "Non-trainable params: 0\n",
            "----------------------------------------------------------------\n",
            "Input size (MB): 0.00\n",
            "Forward/backward pass size (MB): 0.23\n",
            "Params size (MB): 2.22\n",
            "Estimated Total Size (MB): 2.45\n",
            "----------------------------------------------------------------\n",
            "None\n"
          ],
          "name": "stdout"
        }
      ]
    },
    {
      "cell_type": "markdown",
      "metadata": {
        "id": "gf_8XEXa-gZ7"
      },
      "source": [
        "## Federated Median\n"
      ]
    },
    {
      "cell_type": "markdown",
      "metadata": {
        "id": "L-aNdQsQ-Kvp"
      },
      "source": [
        "### Local Training (Client Update)\n",
        "\n",
        "Local training for the model on client side"
      ]
    },
    {
      "cell_type": "code",
      "metadata": {
        "id": "HKN2vWWlZiEH"
      },
      "source": [
        "import statistics"
      ],
      "execution_count": 18,
      "outputs": []
    },
    {
      "cell_type": "code",
      "metadata": {
        "id": "oX6OsQyO-Gz7"
      },
      "source": [
        "class CustomDataset(Dataset):\n",
        "  def __init__(self, dataset, idxs):\n",
        "      self.dataset = dataset\n",
        "      self.idxs = list(idxs)\n",
        "\n",
        "  def __len__(self):\n",
        "      return len(self.idxs)\n",
        "\n",
        "  def __getitem__(self, item):\n",
        "      image, label = self.dataset[self.idxs[item]]\n",
        "      return image, label\n",
        "\n",
        "class ClientUpdate(object):\n",
        "  def __init__(self, dataset, batchSize, learning_rate, epochs, idxs):\n",
        "    self.train_loader = DataLoader(CustomDataset(dataset, idxs), batch_size=batchSize, shuffle=True)\n",
        "\n",
        "    self.learning_rate = learning_rate\n",
        "    self.epochs = epochs\n",
        "\n",
        "\n",
        "\n",
        "  def train(self, model):\n",
        "\n",
        "    criterion = nn.CrossEntropyLoss()\n",
        "    optimizer = torch.optim.SGD(model.parameters(), lr=self.learning_rate, momentum=0.5)\n",
        "    # optimizer = torch.optim.Adam(model.parameters(), lr=self.learning_rate)\n",
        "\n",
        "    e_loss = []\n",
        "    for epoch in range(1, self.epochs+1):\n",
        "\n",
        "      train_loss = 0.0\n",
        "\n",
        "      model.train()\n",
        "      for data, labels in self.train_loader:\n",
        "\n",
        "        if torch.cuda.is_available():\n",
        "          data, labels = data.cuda(), labels.cuda()\n",
        "\n",
        "        # clear the gradients\n",
        "        optimizer.zero_grad()\n",
        "        # make a forward pass\n",
        "        output = model(data)\n",
        "        # calculate the loss\n",
        "        loss = criterion(output, labels)\n",
        "        # do a backwards pass\n",
        "        loss.backward()\n",
        "        # perform a single optimization step\n",
        "        optimizer.step()\n",
        "        # update training loss\n",
        "        train_loss += loss.item()*data.size(0)\n",
        "\n",
        "      # average losses\n",
        "      train_loss = train_loss/len(self.train_loader.dataset)\n",
        "      e_loss.append(train_loss)\n",
        "\n",
        "    total_loss = sum(e_loss)/len(e_loss)\n",
        "\n",
        "    return model.state_dict(), total_loss"
      ],
      "execution_count": 19,
      "outputs": []
    },
    {
      "cell_type": "markdown",
      "metadata": {
        "id": "Ukgh1DVHE2Ds"
      },
      "source": [
        "### Server Side Training\n",
        "\n",
        "Following Algorithm 1 from the paper"
      ]
    },
    {
      "cell_type": "code",
      "metadata": {
        "id": "1NF1e33BgpeL"
      },
      "source": [
        "def training(model, rounds, batch_size, lr, ds, data_dict, C, K, E, plt_title, plt_color, M):\n",
        "  \"\"\"\n",
        "  Function implements the Federated Averaging Algorithm from the FedAvg paper.\n",
        "  Specifically, this function is used for the server side training and weight update\n",
        "\n",
        "  Params:\n",
        "    - model:           PyTorch model to train\n",
        "    - rounds:          Number of communication rounds for the client update\n",
        "    - batch_size:      Batch size for client update training\n",
        "    - lr:              Learning rate used for client update training\n",
        "    - ds:              Dataset used for training\n",
        "    - data_dict:       Type of data partition used for training (IID or non-IID)\n",
        "    - C:               Fraction of clients randomly chosen to perform computation on each round\n",
        "    - K:               Total number of clients\n",
        "    - E:               Number of training passes each client makes over its local dataset per round\n",
        "    - tb_writer_name:  Directory name to save the tensorboard logs\n",
        "  Returns:\n",
        "    - model:           Trained model on the server\n",
        "  \"\"\"\n",
        "\n",
        "  # global model weights\n",
        "  global_weights = model.state_dict()\n",
        "  num_clients = K\n",
        "  pk = np.ones(num_clients) * 1.0 / num_clients\n",
        "\n",
        "  # training loss\n",
        "  train_loss = []\n",
        "  \n",
        "  # measure time\n",
        "  start = time.time()\n",
        "\n",
        "  for curr_round in range(1, rounds+1):\n",
        "    w, local_loss = [], []\n",
        "\n",
        "    m = max(int(C*K), 1)\n",
        "    newM = max(int(M*m), 1)\n",
        "\n",
        "    S_t = np.random.choice(range(K), m, replace=False)\n",
        "    c = 0\n",
        "\n",
        "    for i in range(len(S_t)):\n",
        "      if c == newM:\n",
        "        break\n",
        "      c += 1\n",
        "      local_update = ClientUpdate(dataset=ds, batchSize=batch_size, learning_rate=lr, epochs=E, idxs=data_dict[S_t[i]])\n",
        "      weights, loss = local_update.train(model=copy.deepcopy(model))\n",
        "      \n",
        "      for k in weights.keys():\n",
        "        t = torch.Tensor(weights[k].shape).cuda()\n",
        "        t.fill_(0.1)\n",
        "        weights[k] = t      \n",
        "      \n",
        "      w.append(copy.deepcopy(weights))\n",
        "      local_loss.append(copy.deepcopy(loss))\n",
        "\n",
        "\n",
        "    for k in range(newM, len(S_t)):\n",
        "\n",
        "      local_update = ClientUpdate(dataset=ds, batchSize=batch_size, learning_rate=lr, epochs=E, idxs=data_dict[S_t[k]])\n",
        "      weights, loss = local_update.train(model=copy.deepcopy(model))\n",
        "      \n",
        "      w.append(copy.deepcopy(weights))\n",
        "      local_loss.append(copy.deepcopy(loss))\n",
        "\n",
        "    # updating the global weights\n",
        "    '''\n",
        "    weights_avg = copy.deepcopy(w[0])\n",
        "    for k in weights_avg.keys():\n",
        "      for i in range(1, len(w)):\n",
        "        weights_avg[k] += w[i][k]\n",
        "\n",
        "      weights_avg[k] = torch.div(weights_avg[k], len(w))\n",
        "\n",
        "    global_weights = weights_avg\n",
        "    '''\n",
        "\n",
        "    ix = 0\n",
        "    weights = []\n",
        "    new_w = w\n",
        "    for k in w[ix].keys():\n",
        "      l1 = []\n",
        "      for i in range(len(w)):\n",
        "\n",
        "          # Fixed Precision\n",
        "          x1 = w[i][k] * (10**3)\n",
        "          \n",
        "          # Flattening weight tensors to lists\n",
        "          f1 = torch.flatten(x1)\n",
        "          \n",
        "          # Converting values to int for our streaming algo \n",
        "          f1 = list(map(int, f1))\n",
        "          \n",
        "          l1.append(f1)\n",
        "          #print(len(f1))\n",
        "          \n",
        "      # Computing Median\n",
        "      j = 0\n",
        "      gl = []\n",
        "      while j < len(l1[0]):\n",
        "        nl = []\n",
        "        for i in range(len(l1)):\n",
        "          nl.append(l1[i][j])\n",
        "        m = np.median(nl)\n",
        "        gl.append(m)\n",
        "        j += 1\n",
        "\n",
        "      \n",
        "      for i in range(len(gl)):\n",
        "        gl[i] /= (10**3)\n",
        "      \n",
        "      print(len(gl))\n",
        "\n",
        "      '''\n",
        "      M = 0.01\n",
        "      n = 0.1\n",
        "\n",
        "      M_list = []\n",
        "      M_list.append(random.randint(0, len(gl)))\n",
        "      gl[M_list[0]] = n\n",
        "      \n",
        "      print(M_list)\n",
        "      print(gl)\n",
        "      '''\n",
        "      \n",
        "      \n",
        "      newar = np.asarray(gl)\n",
        "      newar = np.reshape(gl, w[0][k].size())\n",
        "      #print(newar.shape)\n",
        "      tens = torch.from_numpy(newar)\n",
        "      #print(tens)\n",
        "      weights.append(tens)\n",
        "\n",
        "\n",
        "      ix += 1\n",
        "\n",
        "    k = 0\n",
        "    coun = 0\n",
        "    for key, value in global_weights.items():\n",
        "      #print(key)\n",
        "      #print(global_weights[key].size())\n",
        "      #print(weights[k].size())\n",
        "      global_weights[key] = weights[k]\n",
        "      k += 1\n",
        "      coun += 1\n",
        "\n",
        "    # move the updated weights to our model state dict\n",
        "    model.load_state_dict(global_weights)\n",
        "\n",
        "    # loss\n",
        "    loss_avg = sum(local_loss) / len(local_loss)\n",
        "    print('Round: {}... \\tAverage Loss: {}'.format(curr_round, round(loss_avg, 3)))\n",
        "    train_loss.append(loss_avg)\n",
        "\n",
        "  end = time.time()\n",
        "  fig, ax = plt.subplots()\n",
        "  x_axis = np.arange(1, rounds+1)\n",
        "  y_axis = np.array(train_loss)\n",
        "  ax.plot(x_axis, y_axis, 'tab:'+plt_color)\n",
        "\n",
        "  ax.set(xlabel='Number of Rounds', ylabel='Train Loss',\n",
        "       title=plt_title)\n",
        "  ax.grid()\n",
        "  fig.savefig('/gdrive/My Drive/FedPerf/MNIST/FedMed/' + plt_title +'.jpg', format='jpg')\n",
        "  print(\"Training Done!\")\n",
        "  print(\"Total time taken to Train: {}\".format(end-start))\n",
        "  \n",
        "  return model"
      ],
      "execution_count": 20,
      "outputs": []
    },
    {
      "cell_type": "markdown",
      "metadata": {
        "id": "tUYyb4T-uXmF"
      },
      "source": [
        "## Testing Loop"
      ]
    },
    {
      "cell_type": "code",
      "metadata": {
        "id": "uCcIZmO5uan9"
      },
      "source": [
        "def testing(model, dataset, bs, criterion, num_classes, classes):\n",
        "  #test loss \n",
        "  test_loss = 0.0\n",
        "  correct_class = list(0. for i in range(num_classes))\n",
        "  total_class = list(0. for i in range(num_classes))\n",
        "\n",
        "  test_loader = DataLoader(dataset, batch_size=bs)\n",
        "  l = len(test_loader)\n",
        "  model.eval()\n",
        "  for data, labels in test_loader:\n",
        "\n",
        "    if torch.cuda.is_available():\n",
        "      data, labels = data.cuda(), labels.cuda()\n",
        "\n",
        "    output = model(data)\n",
        "    loss = criterion(output, labels)\n",
        "    test_loss += loss.item()*data.size(0)\n",
        "\n",
        "    _, pred = torch.max(output, 1)\n",
        "\n",
        "    correct_tensor = pred.eq(labels.data.view_as(pred))\n",
        "    correct = np.squeeze(correct_tensor.numpy()) if not torch.cuda.is_available() else np.squeeze(correct_tensor.cpu().numpy())\n",
        "\n",
        "    #test accuracy for each object class\n",
        "    for i in range(num_classes):\n",
        "      label = labels.data[i]\n",
        "      correct_class[label] += correct[i].item()\n",
        "      total_class[label] += 1\n",
        "    \n",
        "  # avg test loss\n",
        "  test_loss = test_loss/len(test_loader.dataset)\n",
        "  print(\"Test Loss: {:.6f}\\n\".format(test_loss))\n",
        "\n",
        "  # print test accuracy\n",
        "  for i in range(10):\n",
        "    if total_class[i]>0:\n",
        "      print('Test Accuracy of %5s: %2d%% (%2d/%2d)' % \n",
        "            (classes[i], 100 * correct_class[i] / total_class[i],\n",
        "            np.sum(correct_class[i]), np.sum(total_class[i])))\n",
        "    else:\n",
        "      print('Test Accuracy of %5s: N/A (no training examples)' % (classes[i]))\n",
        "\n",
        "  print('\\nFinal Test  Accuracy: {:.3f} ({}/{})'.format(\n",
        "        100. * np.sum(correct_class) / np.sum(total_class),\n",
        "        np.sum(correct_class), np.sum(total_class)))"
      ],
      "execution_count": 21,
      "outputs": []
    },
    {
      "cell_type": "markdown",
      "metadata": {
        "id": "z_jifdzniuhm"
      },
      "source": [
        "# MNIST MLP on IID"
      ]
    },
    {
      "cell_type": "markdown",
      "metadata": {
        "id": "uh-te0Od2XGO"
      },
      "source": [
        "### Train"
      ]
    },
    {
      "cell_type": "code",
      "metadata": {
        "colab": {
          "base_uri": "https://localhost:8080/",
          "height": 1000
        },
        "id": "UmpWmKOQixVV",
        "outputId": "ed5d0bde-d84a-4add-fb99-8ead297392d6"
      },
      "source": [
        "# number of training rounds\n",
        "rounds = 20\n",
        "# client fraction\n",
        "C = 0.5\n",
        "# number of clients\n",
        "K = 100\n",
        "# number of training passes on local dataset for each round\n",
        "E = 5\n",
        "# batch size\n",
        "batch_size = 10\n",
        "# learning Rate\n",
        "lr=0.05\n",
        "# dict containing different type of data partition\n",
        "data_dict = iid_partition(mnist_data_train, 100)\n",
        "# load model\n",
        "mnist_mlp = MNIST_2NN()\n",
        "\n",
        "if torch.cuda.is_available():\n",
        "  mnist_mlp.cuda()\n",
        "\n",
        "mnist_mlp_iid_trained = training(mnist_mlp, rounds, batch_size, lr, mnist_data_train, data_dict, C, K, E, \"MNIST MLP on IID Dataset\", \"orange\", 0.01)\n"
      ],
      "execution_count": null,
      "outputs": [
        {
          "output_type": "stream",
          "text": [
            "156800\n",
            "200\n",
            "40000\n",
            "200\n",
            "2000\n",
            "10\n",
            "Round: 1... \tAverage Loss: 0.724\n",
            "156800\n",
            "200\n",
            "40000\n",
            "200\n",
            "2000\n",
            "10\n",
            "Round: 2... \tAverage Loss: 0.171\n",
            "156800\n",
            "200\n",
            "40000\n",
            "200\n",
            "2000\n",
            "10\n",
            "Round: 3... \tAverage Loss: 0.128\n",
            "156800\n",
            "200\n",
            "40000\n",
            "200\n",
            "2000\n",
            "10\n",
            "Round: 4... \tAverage Loss: 0.107\n",
            "156800\n",
            "200\n",
            "40000\n",
            "200\n",
            "2000\n",
            "10\n",
            "Round: 5... \tAverage Loss: 0.09\n",
            "156800\n",
            "200\n",
            "40000\n",
            "200\n",
            "2000\n",
            "10\n",
            "Round: 6... \tAverage Loss: 0.081\n",
            "156800\n",
            "200\n",
            "40000\n",
            "200\n",
            "2000\n",
            "10\n",
            "Round: 7... \tAverage Loss: 0.076\n",
            "156800\n",
            "200\n",
            "40000\n",
            "200\n",
            "2000\n",
            "10\n",
            "Round: 8... \tAverage Loss: 0.069\n",
            "156800\n",
            "200\n",
            "40000\n",
            "200\n",
            "2000\n",
            "10\n",
            "Round: 9... \tAverage Loss: 0.065\n",
            "156800\n",
            "200\n",
            "40000\n",
            "200\n",
            "2000\n",
            "10\n",
            "Round: 10... \tAverage Loss: 0.062\n",
            "156800\n",
            "200\n",
            "40000\n",
            "200\n",
            "2000\n",
            "10\n",
            "Round: 11... \tAverage Loss: 0.062\n",
            "156800\n",
            "200\n",
            "40000\n",
            "200\n",
            "2000\n",
            "10\n",
            "Round: 12... \tAverage Loss: 0.057\n",
            "156800\n",
            "200\n",
            "40000\n",
            "200\n",
            "2000\n",
            "10\n",
            "Round: 13... \tAverage Loss: 0.054\n",
            "156800\n",
            "200\n",
            "40000\n",
            "200\n",
            "2000\n",
            "10\n",
            "Round: 14... \tAverage Loss: 0.055\n",
            "156800\n",
            "200\n",
            "40000\n",
            "200\n",
            "2000\n",
            "10\n",
            "Round: 15... \tAverage Loss: 0.051\n",
            "156800\n",
            "200\n",
            "40000\n",
            "200\n",
            "2000\n",
            "10\n",
            "Round: 16... \tAverage Loss: 0.047\n",
            "156800\n",
            "200\n",
            "40000\n",
            "200\n",
            "2000\n",
            "10\n",
            "Round: 17... \tAverage Loss: 0.049\n",
            "156800\n",
            "200\n",
            "40000\n",
            "200\n",
            "2000\n",
            "10\n",
            "Round: 18... \tAverage Loss: 0.046\n",
            "156800\n",
            "200\n",
            "40000\n",
            "200\n",
            "2000\n",
            "10\n",
            "Round: 19... \tAverage Loss: 0.043\n",
            "156800\n",
            "200\n",
            "40000\n",
            "200\n",
            "2000\n",
            "10\n",
            "Round: 20... \tAverage Loss: 0.046\n",
            "Training Done!\n",
            "Total time taken to Train: 4779.333593606949\n"
          ],
          "name": "stdout"
        },
        {
          "output_type": "display_data",
          "data": {
            "image/png": "[encoded data removed]",
            "text/plain": [
              "<Figure size 432x288 with 1 Axes>"
            ]
          },
          "metadata": {
            "tags": [],
            "needs_background": "light"
          }
        }
      ]
    },
    {
      "cell_type": "markdown",
      "metadata": {
        "id": "aTBsL3-72PPd"
      },
      "source": [
        "### Test"
      ]
    },
    {
      "cell_type": "code",
      "metadata": {
        "colab": {
          "base_uri": "https://localhost:8080/"
        },
        "id": "a9G4j5L62OrS",
        "outputId": "a06c2f5e-75f4-4c40-9c41-0b53467d66a6"
      },
      "source": [
        "criterion = nn.CrossEntropyLoss()\n",
        "testing(mnist_mlp_iid_trained, mnist_data_test, 128, criterion, num_classes, classes_test)"
      ],
      "execution_count": null,
      "outputs": [
        {
          "output_type": "stream",
          "text": [
            "Test Loss: 0.109251\n",
            "\n",
            "Test Accuracy of     0: 98% (75/76)\n",
            "Test Accuracy of     1: 97% (88/90)\n",
            "Test Accuracy of     2: 96% (88/91)\n",
            "Test Accuracy of     3: 98% (72/73)\n",
            "Test Accuracy of     4: 96% (86/89)\n",
            "Test Accuracy of     5: 92% (63/68)\n",
            "Test Accuracy of     6: 95% (59/62)\n",
            "Test Accuracy of     7: 93% (76/81)\n",
            "Test Accuracy of     8: 98% (76/77)\n",
            "Test Accuracy of     9: 98% (82/83)\n",
            "\n",
            "Final Test  Accuracy: 96.835 (765.0/790.0)\n"
          ],
          "name": "stdout"
        }
      ]
    },
    {
      "cell_type": "markdown",
      "metadata": {
        "id": "w7NddQfAN1uk"
      },
      "source": [
        "#MNIST MLP on Non-IID"
      ]
    },
    {
      "cell_type": "markdown",
      "metadata": {
        "id": "YjGaNhZaRgD-"
      },
      "source": [
        "##Train"
      ]
    },
    {
      "cell_type": "code",
      "metadata": {
        "colab": {
          "base_uri": "https://localhost:8080/",
          "height": 1000
        },
        "id": "uR3WgpV7l7ES",
        "outputId": "f7c0adef-d5aa-494e-c47a-f9489a7d1054"
      },
      "source": [
        "# number of training rounds\n",
        "rounds = 20\n",
        "# client fraction\n",
        "C = 0.5\n",
        "# number of clients\n",
        "K = 100\n",
        "# number of training passes on local dataset for each roung\n",
        "E = 5\n",
        "# batch size\n",
        "batch_size = 10\n",
        "# learning Rate\n",
        "lr=0.05\n",
        "# dict containing different type of data partition\n",
        "data_dict = non_iid_partition(mnist_data_train, 100, 200, 300, 2)\n",
        "# load model\n",
        "mnist_mlp = MNIST_2NN()\n",
        "\n",
        "if torch.cuda.is_available():\n",
        "  mnist_mlp.cuda()\n",
        "\n",
        "mnist_mlp_non_iid_trained = training(mnist_mlp, rounds, batch_size, lr, mnist_data_train, data_dict, C, K, E, \"MNIST MLP on Non-IID Dataset\", \"green\", 0.01)"
      ],
      "execution_count": 22,
      "outputs": [
        {
          "output_type": "stream",
          "text": [
            "156800\n",
            "200\n",
            "40000\n",
            "200\n",
            "2000\n",
            "10\n",
            "Round: 1... \tAverage Loss: 0.099\n",
            "156800\n",
            "200\n",
            "40000\n",
            "200\n",
            "2000\n",
            "10\n",
            "Round: 2... \tAverage Loss: 0.066\n",
            "156800\n",
            "200\n",
            "40000\n",
            "200\n",
            "2000\n",
            "10\n",
            "Round: 3... \tAverage Loss: 0.058\n",
            "156800\n",
            "200\n",
            "40000\n",
            "200\n",
            "2000\n",
            "10\n",
            "Round: 4... \tAverage Loss: 0.061\n",
            "156800\n",
            "200\n",
            "40000\n",
            "200\n",
            "2000\n",
            "10\n",
            "Round: 5... \tAverage Loss: 0.049\n",
            "156800\n",
            "200\n",
            "40000\n",
            "200\n",
            "2000\n",
            "10\n",
            "Round: 6... \tAverage Loss: 0.047\n",
            "156800\n",
            "200\n",
            "40000\n",
            "200\n",
            "2000\n",
            "10\n",
            "Round: 7... \tAverage Loss: 0.05\n",
            "156800\n",
            "200\n",
            "40000\n",
            "200\n",
            "2000\n",
            "10\n",
            "Round: 8... \tAverage Loss: 0.049\n",
            "156800\n",
            "200\n",
            "40000\n",
            "200\n",
            "2000\n",
            "10\n",
            "Round: 9... \tAverage Loss: 0.046\n",
            "156800\n",
            "200\n",
            "40000\n",
            "200\n",
            "2000\n",
            "10\n",
            "Round: 10... \tAverage Loss: 0.051\n",
            "156800\n",
            "200\n",
            "40000\n",
            "200\n",
            "2000\n",
            "10\n",
            "Round: 11... \tAverage Loss: 0.041\n",
            "156800\n",
            "200\n",
            "40000\n",
            "200\n",
            "2000\n",
            "10\n",
            "Round: 12... \tAverage Loss: 0.044\n",
            "156800\n",
            "200\n",
            "40000\n",
            "200\n",
            "2000\n",
            "10\n",
            "Round: 13... \tAverage Loss: 0.043\n",
            "156800\n",
            "200\n",
            "40000\n",
            "200\n",
            "2000\n",
            "10\n",
            "Round: 14... \tAverage Loss: 0.044\n",
            "156800\n",
            "200\n",
            "40000\n",
            "200\n",
            "2000\n",
            "10\n",
            "Round: 15... \tAverage Loss: 0.044\n",
            "156800\n",
            "200\n",
            "40000\n",
            "200\n",
            "2000\n",
            "10\n",
            "Round: 16... \tAverage Loss: 0.049\n",
            "156800\n",
            "200\n",
            "40000\n",
            "200\n",
            "2000\n",
            "10\n",
            "Round: 17... \tAverage Loss: 0.045\n",
            "156800\n",
            "200\n",
            "40000\n",
            "200\n",
            "2000\n",
            "10\n",
            "Round: 18... \tAverage Loss: 0.043\n",
            "156800\n",
            "200\n",
            "40000\n",
            "200\n",
            "2000\n",
            "10\n",
            "Round: 19... \tAverage Loss: 0.048\n",
            "156800\n",
            "200\n",
            "40000\n",
            "200\n",
            "2000\n",
            "10\n",
            "Round: 20... \tAverage Loss: 0.041\n",
            "Training Done!\n",
            "Total time taken to Train: 3713.954525947571\n"
          ],
          "name": "stdout"
        },
        {
          "output_type": "display_data",
          "data": {
            "image/png": "[encoded data removed]",
            "text/plain": [
              "<Figure size 432x288 with 1 Axes>"
            ]
          },
          "metadata": {
            "tags": [],
            "needs_background": "light"
          }
        }
      ]
    },
    {
      "cell_type": "markdown",
      "metadata": {
        "id": "Ia4RWJDwRiIW"
      },
      "source": [
        "##Test"
      ]
    },
    {
      "cell_type": "code",
      "metadata": {
        "id": "YPHkKmdZOFFi",
        "colab": {
          "base_uri": "https://localhost:8080/"
        },
        "outputId": "dc1f9de3-e3ce-4c37-de40-7b27a6181f97"
      },
      "source": [
        "criterion = nn.CrossEntropyLoss()\n",
        "testing(mnist_mlp_non_iid_trained, mnist_data_test, 128, criterion, num_classes, classes_test)"
      ],
      "execution_count": 23,
      "outputs": [
        {
          "output_type": "stream",
          "text": [
            "Test Loss: 3.816094\n",
            "\n",
            "Test Accuracy of     0: 92% (70/76)\n",
            "Test Accuracy of     1: 98% (89/90)\n",
            "Test Accuracy of     2: 67% (61/91)\n",
            "Test Accuracy of     3: 91% (67/73)\n",
            "Test Accuracy of     4: 93% (83/89)\n",
            "Test Accuracy of     5: 51% (35/68)\n",
            "Test Accuracy of     6: 95% (59/62)\n",
            "Test Accuracy of     7: 91% (74/81)\n",
            "Test Accuracy of     8: 80% (62/77)\n",
            "Test Accuracy of     9: 66% (55/83)\n",
            "\n",
            "Final Test  Accuracy: 82.911 (655.0/790.0)\n"
          ],
          "name": "stdout"
        }
      ]
    },
    {
      "cell_type": "markdown",
      "metadata": {
        "id": "7JOrGXijO-n5"
      },
      "source": [
        "#MNIST CNN on IID"
      ]
    },
    {
      "cell_type": "markdown",
      "metadata": {
        "id": "LlfMgPCnPG24"
      },
      "source": [
        "##Train"
      ]
    },
    {
      "cell_type": "code",
      "metadata": {
        "colab": {
          "base_uri": "https://localhost:8080/",
          "height": 1000
        },
        "id": "MQnkaV-kOw7J",
        "outputId": "43fdf2b0-02d2-48cd-ad72-3717b248df04"
      },
      "source": [
        "# number of training rounds\n",
        "rounds = 20\n",
        "# client fraction\n",
        "C = 0.5\n",
        "# number of clients\n",
        "K = 100\n",
        "# number of training passes on local dataset for each roung\n",
        "E = 5\n",
        "# batch size\n",
        "batch_size = 10\n",
        "# learning Rate\n",
        "lr=0.05\n",
        "# data partition dictionary\n",
        "iid_dict = iid_partition(mnist_data_train, 100)\n",
        "# load model\n",
        "mnist_cnn = MNIST_CNN()\n",
        "\n",
        "if torch.cuda.is_available():\n",
        "  mnist_cnn.cuda()\n",
        "\n",
        "mnist_cnn_iid_trained = training(mnist_cnn, rounds, batch_size, lr, mnist_data_train, iid_dict, C, K, E, \"MNIST CNN on IID Dataset\", \"orange\", 0.01)"
      ],
      "execution_count": 24,
      "outputs": [
        {
          "output_type": "stream",
          "text": [
            "800\n",
            "32\n",
            "51200\n",
            "64\n",
            "524288\n",
            "512\n",
            "5120\n",
            "10\n",
            "Round: 1... \tAverage Loss: 0.495\n",
            "800\n",
            "32\n",
            "51200\n",
            "64\n",
            "524288\n",
            "512\n",
            "5120\n",
            "10\n",
            "Round: 2... \tAverage Loss: 0.173\n",
            "800\n",
            "32\n",
            "51200\n",
            "64\n",
            "524288\n",
            "512\n",
            "5120\n",
            "10\n",
            "Round: 3... \tAverage Loss: 0.086\n",
            "800\n",
            "32\n",
            "51200\n",
            "64\n",
            "524288\n",
            "512\n",
            "5120\n",
            "10\n",
            "Round: 4... \tAverage Loss: 0.07\n",
            "800\n",
            "32\n",
            "51200\n",
            "64\n",
            "524288\n",
            "512\n",
            "5120\n",
            "10\n",
            "Round: 5... \tAverage Loss: 0.062\n",
            "800\n",
            "32\n",
            "51200\n",
            "64\n",
            "524288\n",
            "512\n",
            "5120\n",
            "10\n",
            "Round: 6... \tAverage Loss: 0.051\n",
            "800\n",
            "32\n",
            "51200\n",
            "64\n",
            "524288\n",
            "512\n",
            "5120\n",
            "10\n",
            "Round: 7... \tAverage Loss: 0.051\n",
            "800\n",
            "32\n",
            "51200\n",
            "64\n",
            "524288\n",
            "512\n",
            "5120\n",
            "10\n",
            "Round: 8... \tAverage Loss: 0.042\n",
            "800\n",
            "32\n",
            "51200\n",
            "64\n",
            "524288\n",
            "512\n",
            "5120\n",
            "10\n",
            "Round: 9... \tAverage Loss: 0.038\n",
            "800\n",
            "32\n",
            "51200\n",
            "64\n",
            "524288\n",
            "512\n",
            "5120\n",
            "10\n",
            "Round: 10... \tAverage Loss: 0.037\n",
            "800\n",
            "32\n",
            "51200\n",
            "64\n",
            "524288\n",
            "512\n",
            "5120\n",
            "10\n",
            "Round: 11... \tAverage Loss: 0.036\n",
            "800\n",
            "32\n",
            "51200\n",
            "64\n",
            "524288\n",
            "512\n",
            "5120\n",
            "10\n",
            "Round: 12... \tAverage Loss: 0.034\n",
            "800\n",
            "32\n",
            "51200\n",
            "64\n",
            "524288\n",
            "512\n",
            "5120\n",
            "10\n",
            "Round: 13... \tAverage Loss: 0.032\n",
            "800\n",
            "32\n",
            "51200\n",
            "64\n",
            "524288\n",
            "512\n",
            "5120\n",
            "10\n",
            "Round: 14... \tAverage Loss: 0.031\n",
            "800\n",
            "32\n",
            "51200\n",
            "64\n",
            "524288\n",
            "512\n",
            "5120\n",
            "10\n",
            "Round: 15... \tAverage Loss: 0.031\n",
            "800\n",
            "32\n",
            "51200\n",
            "64\n",
            "524288\n",
            "512\n",
            "5120\n",
            "10\n",
            "Round: 16... \tAverage Loss: 0.03\n",
            "800\n",
            "32\n",
            "51200\n",
            "64\n",
            "524288\n",
            "512\n",
            "5120\n",
            "10\n",
            "Round: 17... \tAverage Loss: 0.026\n",
            "800\n",
            "32\n",
            "51200\n",
            "64\n",
            "524288\n",
            "512\n",
            "5120\n",
            "10\n",
            "Round: 18... \tAverage Loss: 0.028\n",
            "800\n",
            "32\n",
            "51200\n",
            "64\n",
            "524288\n",
            "512\n",
            "5120\n",
            "10\n",
            "Round: 19... \tAverage Loss: 0.028\n",
            "800\n",
            "32\n",
            "51200\n",
            "64\n",
            "524288\n",
            "512\n",
            "5120\n",
            "10\n",
            "Round: 20... \tAverage Loss: 0.027\n",
            "Training Done!\n",
            "Total time taken to Train: 10663.860668182373\n"
          ],
          "name": "stdout"
        },
        {
          "output_type": "display_data",
          "data": {
            "image/png": "[encoded data removed]",
            "text/plain": [
              "<Figure size 432x288 with 1 Axes>"
            ]
          },
          "metadata": {
            "tags": [],
            "needs_background": "light"
          }
        }
      ]
    },
    {
      "cell_type": "markdown",
      "metadata": {
        "id": "GYz3JwpNSElQ"
      },
      "source": [
        "##Test"
      ]
    },
    {
      "cell_type": "code",
      "metadata": {
        "colab": {
          "base_uri": "https://localhost:8080/"
        },
        "id": "73iqBgD7R_gK",
        "outputId": "995b4570-1d48-4384-d785-c58133b7461c"
      },
      "source": [
        "criterion = nn.CrossEntropyLoss()\n",
        "testing(mnist_cnn_iid_trained, mnist_data_test, 128, criterion, num_classes, classes_test)"
      ],
      "execution_count": 25,
      "outputs": [
        {
          "output_type": "stream",
          "text": [
            "Test Loss: 0.034874\n",
            "\n",
            "Test Accuracy of     0: 100% (76/76)\n",
            "Test Accuracy of     1: 97% (88/90)\n",
            "Test Accuracy of     2: 100% (91/91)\n",
            "Test Accuracy of     3: 97% (71/73)\n",
            "Test Accuracy of     4: 100% (89/89)\n",
            "Test Accuracy of     5: 98% (67/68)\n",
            "Test Accuracy of     6: 98% (61/62)\n",
            "Test Accuracy of     7: 98% (80/81)\n",
            "Test Accuracy of     8: 100% (77/77)\n",
            "Test Accuracy of     9: 98% (82/83)\n",
            "\n",
            "Final Test  Accuracy: 98.987 (782.0/790.0)\n"
          ],
          "name": "stdout"
        }
      ]
    },
    {
      "cell_type": "markdown",
      "metadata": {
        "id": "fEuvtdjrXtfF"
      },
      "source": [
        "#MNIST CNN on Non-IID"
      ]
    },
    {
      "cell_type": "markdown",
      "metadata": {
        "id": "Qts5A4ebZ0qT"
      },
      "source": [
        "##Train"
      ]
    },
    {
      "cell_type": "code",
      "metadata": {
        "colab": {
          "base_uri": "https://localhost:8080/",
          "height": 1000
        },
        "id": "PuFptwHCXLBK",
        "outputId": "11ce0d8d-b949-4e5f-d0aa-013617e09841"
      },
      "source": [
        "rounds = 20\n",
        "# client fraction\n",
        "C = 0.5\n",
        "# number of clients\n",
        "K = 100\n",
        "# number of training passes on local dataset for each roung\n",
        "E = 5\n",
        "# batch size\n",
        "batch_size = 10\n",
        "# learning Rate\n",
        "lr=0.05\n",
        "# dict containing different type of data partition\n",
        "data_dict = non_iid_partition(mnist_data_train, 100, 200, 300, 2)\n",
        "# load model\n",
        "mnist_cnn = MNIST_CNN()\n",
        "\n",
        "if torch.cuda.is_available():\n",
        "  mnist_cnn.cuda()\n",
        "\n",
        "mnist_cnn_non_iid_trained = training(mnist_cnn, rounds, batch_size, lr, mnist_data_train, data_dict, C, K, E, \"MNIST CNN on Non-IID Dataset\", \"green\", 0.01)"
      ],
      "execution_count": 26,
      "outputs": [
        {
          "output_type": "stream",
          "text": [
            "800\n",
            "32\n",
            "51200\n",
            "64\n",
            "524288\n",
            "512\n",
            "5120\n",
            "10\n",
            "Round: 1... \tAverage Loss: 0.111\n",
            "800\n",
            "32\n",
            "51200\n",
            "64\n",
            "524288\n",
            "512\n",
            "5120\n",
            "10\n",
            "Round: 2... \tAverage Loss: 0.103\n",
            "800\n",
            "32\n",
            "51200\n",
            "64\n",
            "524288\n",
            "512\n",
            "5120\n",
            "10\n",
            "Round: 3... \tAverage Loss: 0.07\n",
            "800\n",
            "32\n",
            "51200\n",
            "64\n",
            "524288\n",
            "512\n",
            "5120\n",
            "10\n",
            "Round: 4... \tAverage Loss: 0.052\n",
            "800\n",
            "32\n",
            "51200\n",
            "64\n",
            "524288\n",
            "512\n",
            "5120\n",
            "10\n",
            "Round: 5... \tAverage Loss: 0.035\n",
            "800\n",
            "32\n",
            "51200\n",
            "64\n",
            "524288\n",
            "512\n",
            "5120\n",
            "10\n",
            "Round: 6... \tAverage Loss: 0.035\n",
            "800\n",
            "32\n",
            "51200\n",
            "64\n",
            "524288\n",
            "512\n",
            "5120\n",
            "10\n",
            "Round: 7... \tAverage Loss: 0.032\n",
            "800\n",
            "32\n",
            "51200\n",
            "64\n",
            "524288\n",
            "512\n",
            "5120\n",
            "10\n",
            "Round: 8... \tAverage Loss: 0.031\n",
            "800\n",
            "32\n",
            "51200\n",
            "64\n",
            "524288\n",
            "512\n",
            "5120\n",
            "10\n",
            "Round: 9... \tAverage Loss: 0.026\n",
            "800\n",
            "32\n",
            "51200\n",
            "64\n",
            "524288\n",
            "512\n",
            "5120\n",
            "10\n",
            "Round: 10... \tAverage Loss: 0.027\n",
            "800\n",
            "32\n",
            "51200\n",
            "64\n",
            "524288\n",
            "512\n",
            "5120\n",
            "10\n",
            "Round: 11... \tAverage Loss: 0.026\n",
            "800\n",
            "32\n",
            "51200\n",
            "64\n",
            "524288\n",
            "512\n",
            "5120\n",
            "10\n",
            "Round: 12... \tAverage Loss: 0.032\n",
            "800\n",
            "32\n",
            "51200\n",
            "64\n",
            "524288\n",
            "512\n",
            "5120\n",
            "10\n",
            "Round: 13... \tAverage Loss: 0.026\n",
            "800\n",
            "32\n",
            "51200\n",
            "64\n",
            "524288\n",
            "512\n",
            "5120\n",
            "10\n",
            "Round: 14... \tAverage Loss: 0.026\n",
            "800\n",
            "32\n",
            "51200\n",
            "64\n",
            "524288\n",
            "512\n",
            "5120\n",
            "10\n",
            "Round: 15... \tAverage Loss: 0.024\n",
            "800\n",
            "32\n",
            "51200\n",
            "64\n",
            "524288\n",
            "512\n",
            "5120\n",
            "10\n",
            "Round: 16... \tAverage Loss: 0.026\n",
            "800\n",
            "32\n",
            "51200\n",
            "64\n",
            "524288\n",
            "512\n",
            "5120\n",
            "10\n",
            "Round: 17... \tAverage Loss: 0.025\n",
            "800\n",
            "32\n",
            "51200\n",
            "64\n",
            "524288\n",
            "512\n",
            "5120\n",
            "10\n",
            "Round: 18... \tAverage Loss: 0.021\n",
            "800\n",
            "32\n",
            "51200\n",
            "64\n",
            "524288\n",
            "512\n",
            "5120\n",
            "10\n",
            "Round: 19... \tAverage Loss: 0.024\n",
            "800\n",
            "32\n",
            "51200\n",
            "64\n",
            "524288\n",
            "512\n",
            "5120\n",
            "10\n",
            "Round: 20... \tAverage Loss: 0.02\n",
            "Training Done!\n",
            "Total time taken to Train: 10299.106677770615\n"
          ],
          "name": "stdout"
        },
        {
          "output_type": "display_data",
          "data": {
            "image/png": "[encoded data removed]",
            "text/plain": [
              "<Figure size 432x288 with 1 Axes>"
            ]
          },
          "metadata": {
            "tags": [],
            "needs_background": "light"
          }
        }
      ]
    },
    {
      "cell_type": "markdown",
      "metadata": {
        "id": "Vz5AZ8_zZzMr"
      },
      "source": [
        "##Test"
      ]
    },
    {
      "cell_type": "code",
      "metadata": {
        "colab": {
          "base_uri": "https://localhost:8080/"
        },
        "id": "Vzej8P--Zltk",
        "outputId": "de3bb473-4a35-47ef-8333-2516dffa2dd5"
      },
      "source": [
        "criterion = nn.CrossEntropyLoss()\n",
        "testing(mnist_cnn_non_iid_trained, mnist_data_test, 128, criterion, num_classes, classes_test)"
      ],
      "execution_count": 27,
      "outputs": [
        {
          "output_type": "stream",
          "text": [
            "Test Loss: 0.573284\n",
            "\n",
            "Test Accuracy of     0: 100% (76/76)\n",
            "Test Accuracy of     1: 97% (88/90)\n",
            "Test Accuracy of     2: 87% (80/91)\n",
            "Test Accuracy of     3: 100% (73/73)\n",
            "Test Accuracy of     4: 100% (89/89)\n",
            "Test Accuracy of     5: 77% (53/68)\n",
            "Test Accuracy of     6: 98% (61/62)\n",
            "Test Accuracy of     7: 92% (75/81)\n",
            "Test Accuracy of     8: 71% (55/77)\n",
            "Test Accuracy of     9: 77% (64/83)\n",
            "\n",
            "Final Test  Accuracy: 90.380 (714.0/790.0)\n"
          ],
          "name": "stdout"
        }
      ]
    },
    {
      "cell_type": "code",
      "metadata": {
        "id": "oGR_Fq6GZ3HS"
      },
      "source": [
        ""
      ],
      "execution_count": null,
      "outputs": []
    }
  ]
}