{
  "nbformat": 4,
  "nbformat_minor": 0,
  "metadata": {
    "accelerator": "GPU",
    "colab": {
      "name": "MNIST_FedAvg_robustnessM0.1n0.1.ipynb",
      "provenance": [],
      "collapsed_sections": [],
      "machine_shape": "hm"
    },
    "kernelspec": {
      "display_name": "Python 3",
      "name": "python3"
    }
  },
  "cells": [
    {
      "cell_type": "code",
      "metadata": {
        "id": "0iaf_Ccaq_4Y"
      },
      "source": [
        "#!pip install torchvision==0.8.0"
      ],
      "execution_count": null,
      "outputs": []
    },
    {
      "cell_type": "code",
      "metadata": {
        "colab": {
          "base_uri": "https://localhost:8080/"
        },
        "id": "AD8zc_5Lpdcu",
        "outputId": "3f8febe6-80aa-4535-b024-b37c27e551d1"
      },
      "source": [
        "from google.colab import drive\n",
        "drive.mount('/gdrive')\n",
        "%cd /gdrive"
      ],
      "execution_count": null,
      "outputs": [
        {
          "output_type": "stream",
          "text": [
            "Drive already mounted at /gdrive; to attempt to forcibly remount, call drive.mount(\"/gdrive\", force_remount=True).\n",
            "/gdrive\n"
          ],
          "name": "stdout"
        }
      ]
    },
    {
      "cell_type": "code",
      "metadata": {
        "colab": {
          "base_uri": "https://localhost:8080/"
        },
        "id": "DLLNM9X2JbQ8",
        "outputId": "c5459d85-effa-4e5e-9431-69d0be30783f"
      },
      "source": [
        "%load_ext tensorboard\n",
        "import os\n",
        "import numpy as np\n",
        "import matplotlib\n",
        "import matplotlib.pyplot as plt\n",
        "import copy\n",
        "import random\n",
        "import time\n",
        "\n",
        "import torch\n",
        "import torch.nn as nn\n",
        "import torch.nn.functional as F\n",
        "\n",
        "from torch.utils.data import Dataset, DataLoader\n",
        "from torch.utils.tensorboard import SummaryWriter\n",
        "from torchvision import transforms, utils, datasets\n",
        "from torchsummary import summary\n",
        "\n",
        "\n",
        "# Check assigned GPU\n",
        "gpu_info = !nvidia-smi\n",
        "gpu_info = '\\n'.join(gpu_info)\n",
        "if gpu_info.find('failed') >= 0:\n",
        "  print('Select the Runtime > \"Change runtime type\" menu to enable a GPU accelerator, ')\n",
        "  print('and then re-execute this cell.')\n",
        "else:\n",
        "  print(gpu_info)\n",
        "\n",
        "# set manual seed for reproducibility\n",
        "seed = 42\n",
        "\n",
        "# general reproducibility\n",
        "random.seed(seed)\n",
        "np.random.seed(seed)\n",
        "torch.manual_seed(seed)\n",
        "\n",
        "# gpu training specific\n",
        "torch.backends.cudnn.deterministic = True\n",
        "torch.backends.cudnn.benchmark = False"
      ],
      "execution_count": null,
      "outputs": [
        {
          "output_type": "stream",
          "text": [
            "Thu Apr  1 08:35:27 2021       \n",
            "+-----------------------------------------------------------------------------+\n",
            "| NVIDIA-SMI 460.67       Driver Version: 460.32.03    CUDA Version: 11.2     |\n",
            "|-------------------------------+----------------------+----------------------+\n",
            "| GPU  Name        Persistence-M| Bus-Id        Disp.A | Volatile Uncorr. ECC |\n",
            "| Fan  Temp  Perf  Pwr:Usage/Cap|         Memory-Usage | GPU-Util  Compute M. |\n",
            "|                               |                      |               MIG M. |\n",
            "|===============================+======================+======================|\n",
            "|   0  Tesla P100-PCIE...  Off  | 00000000:00:04.0 Off |                    0 |\n",
            "| N/A   36C    P0    27W / 250W |      0MiB / 16280MiB |      0%      Default |\n",
            "|                               |                      |                  N/A |\n",
            "+-------------------------------+----------------------+----------------------+\n",
            "                                                                               \n",
            "+-----------------------------------------------------------------------------+\n",
            "| Processes:                                                                  |\n",
            "|  GPU   GI   CI        PID   Type   Process name                  GPU Memory |\n",
            "|        ID   ID                                                   Usage      |\n",
            "|=============================================================================|\n",
            "|  No running processes found                                                 |\n",
            "+-----------------------------------------------------------------------------+\n"
          ],
          "name": "stdout"
        }
      ]
    },
    {
      "cell_type": "markdown",
      "metadata": {
        "id": "NY4eWzGiL6Mj"
      },
      "source": [
        "## Load the MNIST Dataset"
      ]
    },
    {
      "cell_type": "code",
      "metadata": {
        "colab": {
          "base_uri": "https://localhost:8080/",
          "height": 52
        },
        "id": "tiaxWFmTGVBq",
        "outputId": "23db98ae-207a-488d-b54a-6959f15d5a2a"
      },
      "source": [
        "'''\n",
        "from six.moves import urllib\n",
        "opener = urllib.request.build_opener()\n",
        "opener.addheaders = [('User-agent', 'Mozilla/5.0')]\n",
        "urllib.request.install_opener(opener)\n",
        "'''"
      ],
      "execution_count": null,
      "outputs": [
        {
          "output_type": "execute_result",
          "data": {
            "application/vnd.google.colaboratory.intrinsic+json": {
              "type": "string"
            },
            "text/plain": [
              "\"\\nfrom six.moves import urllib\\nopener = urllib.request.build_opener()\\nopener.addheaders = [('User-agent', 'Mozilla/5.0')]\\nurllib.request.install_opener(opener)\\n\""
            ]
          },
          "metadata": {
            "tags": []
          },
          "execution_count": 4
        }
      ]
    },
    {
      "cell_type": "code",
      "metadata": {
        "colab": {
          "base_uri": "https://localhost:8080/",
          "height": 69
        },
        "id": "G649tjTXLL8F",
        "outputId": "1b11c48a-70df-47f2-da99-accc2941482d"
      },
      "source": [
        "# create transforms\n",
        "# We will just convert to tensor and normalize since no special transforms are mentioned in the paper\n",
        "'''\n",
        "transforms_mnist = transforms.Compose([\n",
        "                                       transforms.ToTensor(),\n",
        "                                       transforms.Normalize((0.1307,), (0.3081,))\n",
        "                                       ])\n",
        "\n",
        "mnist_data_train = datasets.MNIST('../data/mnist/', train=True, download=True, transform=transforms_mnist)\n",
        "mnist_data_test = datasets.MNIST('../data/mnist/', train=False, download=True, transform=transforms_mnist)\n",
        "'''"
      ],
      "execution_count": null,
      "outputs": [
        {
          "output_type": "execute_result",
          "data": {
            "application/vnd.google.colaboratory.intrinsic+json": {
              "type": "string"
            },
            "text/plain": [
              "\"\\ntransforms_mnist = transforms.Compose([\\n                                       transforms.ToTensor(),\\n                                       transforms.Normalize((0.1307,), (0.3081,))\\n                                       ])\\n\\nmnist_data_train = datasets.MNIST('../data/mnist/', train=True, download=True, transform=transforms_mnist)\\nmnist_data_test = datasets.MNIST('../data/mnist/', train=False, download=True, transform=transforms_mnist)\\n\""
            ]
          },
          "metadata": {
            "tags": []
          },
          "execution_count": 5
        }
      ]
    },
    {
      "cell_type": "code",
      "metadata": {
        "colab": {
          "base_uri": "https://localhost:8080/"
        },
        "id": "HVgZ5TetqEEP",
        "outputId": "eb021970-95c6-4031-cc46-e34a12558b8d"
      },
      "source": [
        "!wget www.di.ens.fr/~lelarge/MNIST.tar.gz\n",
        "!tar -zxvf MNIST.tar.gz\n",
        "\n",
        "from torchvision.datasets import MNIST\n",
        "\n",
        "transforms_mnist = transforms.Compose([\n",
        "                                       transforms.ToTensor(),\n",
        "                                       transforms.Normalize((0.1307,), (0.3081,))\n",
        "                                       ])\n",
        "\n",
        "mnist_data_train = MNIST(root = '../data/mnist/', train=True, download=True, transform=transforms_mnist)\n",
        "mnist_data_test = MNIST(root = '../data/mnist/', train=False, download=True, transform=transforms_mnist)"
      ],
      "execution_count": null,
      "outputs": [
        {
          "output_type": "stream",
          "text": [
            "--2021-04-01 08:35:27--  http://www.di.ens.fr/~lelarge/MNIST.tar.gz\n",
            "Resolving www.di.ens.fr (www.di.ens.fr)... 129.199.99.14\n",
            "Connecting to www.di.ens.fr (www.di.ens.fr)|129.199.99.14|:80... connected.\n",
            "HTTP request sent, awaiting response... 302 Found\n",
            "Location: https://www.di.ens.fr/~lelarge/MNIST.tar.gz [following]\n",
            "--2021-04-01 08:35:27--  https://www.di.ens.fr/~lelarge/MNIST.tar.gz\n",
            "Connecting to www.di.ens.fr (www.di.ens.fr)|129.199.99.14|:443... connected.\n",
            "HTTP request sent, awaiting response... 200 OK\n",
            "Length: unspecified [application/x-gzip]\n",
            "MNIST.tar.gz: Operation not supported\n",
            "\n",
            "Cannot write to ‘MNIST.tar.gz’ (Success).\n",
            "tar (child): MNIST.tar.gz: Cannot open: No such file or directory\n",
            "tar (child): Error is not recoverable: exiting now\n",
            "tar: Child returned status 2\n",
            "tar: Error is not recoverable: exiting now\n"
          ],
          "name": "stdout"
        }
      ]
    },
    {
      "cell_type": "code",
      "metadata": {
        "colab": {
          "base_uri": "https://localhost:8080/"
        },
        "id": "dm9usjn2vFkL",
        "outputId": "095df409-d1db-4dd3-bc9c-822694c81f6d"
      },
      "source": [
        "classes = np.array(list(mnist_data_train.class_to_idx.values()))\n",
        "classes_test = np.array(list(mnist_data_test.class_to_idx.values()))\n",
        "num_classes = len(classes_test)\n",
        "print(\"Classes: {} \\tType: {}\".format(classes, type(classes)))\n",
        "print(\"Classes Test: {} \\tType: {}\".format(classes_test, type(classes)))\n"
      ],
      "execution_count": null,
      "outputs": [
        {
          "output_type": "stream",
          "text": [
            "Classes: [0 1 2 3 4 5 6 7 8 9] \tType: <class 'numpy.ndarray'>\n",
            "Classes Test: [0 1 2 3 4 5 6 7 8 9] \tType: <class 'numpy.ndarray'>\n"
          ],
          "name": "stdout"
        }
      ]
    },
    {
      "cell_type": "code",
      "metadata": {
        "colab": {
          "base_uri": "https://localhost:8080/"
        },
        "id": "9lvJt3Ofv2SO",
        "outputId": "bf87c714-fc83-4d1d-c0e9-bb22f606e3eb"
      },
      "source": [
        "print(\"Image Shape: {}\".format(mnist_data_train.data[0].size()))"
      ],
      "execution_count": null,
      "outputs": [
        {
          "output_type": "stream",
          "text": [
            "Image Shape: torch.Size([28, 28])\n"
          ],
          "name": "stdout"
        }
      ]
    },
    {
      "cell_type": "markdown",
      "metadata": {
        "id": "jCOONkg-zV7Y"
      },
      "source": [
        "## Visualize Data"
      ]
    },
    {
      "cell_type": "code",
      "metadata": {
        "id": "R9MK03TZw6Qs"
      },
      "source": [
        "def imshow(img):\n",
        "\timg = img/2 + 0.5 #unnormalize the image\n",
        "\tplt.imshow(img, cmap='gray') # convert from tensor to image"
      ],
      "execution_count": null,
      "outputs": []
    },
    {
      "cell_type": "code",
      "metadata": {
        "id": "gMJ0Kx4Kw-_H"
      },
      "source": [
        "def visualize(dataset):\n",
        "  figure = plt.figure(figsize=(25,4))\n",
        "  for i in range(20):\n",
        "    axis = figure.add_subplot(2, 20/2, i+1, xticks=[], yticks=[])\n",
        "    data = dataset.data[i]\n",
        "    data = data.numpy()\n",
        "\n",
        "    target = dataset.targets[i]\n",
        "    target = target.numpy()\n",
        "    imshow(data)\n",
        "    axis.set_title(target)\n"
      ],
      "execution_count": null,
      "outputs": []
    },
    {
      "cell_type": "code",
      "metadata": {
        "colab": {
          "base_uri": "https://localhost:8080/",
          "height": 241
        },
        "id": "8bPOwKg10Ro7",
        "outputId": "0a332445-0d6c-4861-a55e-8dd65abc1f6e"
      },
      "source": [
        "visualize(mnist_data_train)"
      ],
      "execution_count": null,
      "outputs": [
        {
          "output_type": "display_data",
          "data": {
            "image/png": "[encoded data removed]",
            "text/plain": [
              "<Figure size 1800x288 with 20 Axes>"
            ]
          },
          "metadata": {
            "tags": []
          }
        }
      ]
    },
    {
      "cell_type": "code",
      "metadata": {
        "colab": {
          "base_uri": "https://localhost:8080/",
          "height": 241
        },
        "id": "RKoh5Cf70UYu",
        "outputId": "3fce8d46-9899-454a-e4c0-abb1e0b4c510"
      },
      "source": [
        "visualize(mnist_data_test)"
      ],
      "execution_count": null,
      "outputs": [
        {
          "output_type": "display_data",
          "data": {
            "image/png": "[encoded data removed]",
            "text/plain": [
              "<Figure size 1800x288 with 20 Axes>"
            ]
          },
          "metadata": {
            "tags": []
          }
        }
      ]
    },
    {
      "cell_type": "markdown",
      "metadata": {
        "id": "ctjRsETiO1qO"
      },
      "source": [
        "## Partitioning the Data (IID and non-IID)"
      ]
    },
    {
      "cell_type": "code",
      "metadata": {
        "id": "3_v8lyrgO5dD"
      },
      "source": [
        "def iid_partition(dataset, clients):\n",
        "  \"\"\"\n",
        "  I.I.D paritioning of data over clients\n",
        "  Shuffle the data\n",
        "  Split it between clients\n",
        "  \n",
        "  params:\n",
        "    - dataset (torch.utils.Dataset): Dataset containing the MNIST Images\n",
        "    - clients (int): Number of Clients to split the data between\n",
        "\n",
        "  returns:\n",
        "    - Dictionary of image indexes for each client\n",
        "  \"\"\"\n",
        "\n",
        "  num_items_per_client = int(len(dataset)/clients)\n",
        "  client_dict = {}\n",
        "  image_idxs = [i for i in range(len(dataset))]\n",
        "  #data_labels = dataset.targets.numpy()\n",
        "  #print(data_labels)\n",
        "\n",
        "  for i in range(clients):\n",
        "    x = np.random.choice(image_idxs, num_items_per_client, replace=False)\n",
        "    client_dict[i] = set(x)\n",
        "    image_idxs = list(set(image_idxs) - client_dict[i])\n",
        "  '''\n",
        "  #print(len(client_dict))\n",
        "  #random.randrange()\n",
        "  n = []\n",
        "  cli = list(range(clients))\n",
        "  for i in range(int(M*clients)):\n",
        "    new = np.random.choice(cli)\n",
        "    n.append(new)\n",
        "    cli.remove(new)\n",
        "  #n = np.random.choice(range(clients), int(0.1*clients), replace=False)\n",
        "  #n = list(n)\n",
        "  print(n)\n",
        "  for i in n:\n",
        "    j = 0\n",
        "    while j < int(W*num_items_per_client):\n",
        "      l = list(client_dict[i])\n",
        "      newl = dataset.targets[int(l[j])].item()\n",
        "      dataset.targets[int(l[j])] = torch.Tensor([(newl+1)%10])\n",
        "\n",
        "      j += 1\n",
        "\n",
        "  print(dataset.targets)\n",
        "  \n",
        "  c = 0\n",
        "  for i in dataset.targets:\n",
        "    if i == torch.Tensor([1]):\n",
        "      c += 1\n",
        "  print(c)\n",
        "  \n",
        "  '''\n",
        "  return client_dict\n"
      ],
      "execution_count": null,
      "outputs": []
    },
    {
      "cell_type": "code",
      "metadata": {
        "id": "4zMdliGMQoSl"
      },
      "source": [
        "def non_iid_partition(dataset, clients, total_shards, shards_size, num_shards_per_client):\n",
        "  \"\"\"\n",
        "  non I.I.D parititioning of data over clients\n",
        "  Sort the data by the digit label\n",
        "  Divide the data into N shards of size S\n",
        "  Each of the clients will get X shards\n",
        "\n",
        "  params:\n",
        "    - dataset (torch.utils.Dataset): Dataset containing the MNIST Images\n",
        "    - clients (int): Number of Clients to split the data between\n",
        "    - total_shards (int): Number of shards to partition the data in\n",
        "    - shards_size (int): Size of each shard \n",
        "    - num_shards_per_client (int): Number of shards of size shards_size that each client receives\n",
        "\n",
        "  returns:\n",
        "    - Dictionary of image indexes for each client\n",
        "  \"\"\"\n",
        "  \n",
        "  shard_idxs = [i for i in range(total_shards)]\n",
        "  client_dict = {i: np.array([], dtype='int64') for i in range(clients)}\n",
        "  idxs = np.arange(len(dataset))\n",
        "  data_labels = dataset.targets.numpy()\n",
        "\n",
        "  \n",
        "  #print(data_labels)\n",
        "  # sort the labels\n",
        "  label_idxs = np.vstack((idxs, data_labels))\n",
        "  label_idxs = label_idxs[:, label_idxs[1,:].argsort()]\n",
        "  idxs = label_idxs[0,:]\n",
        "  #print(idxs)\n",
        "  #print(len(idxs))\n",
        "\n",
        "  # divide the data into total_shards of size shards_size\n",
        "  # assign num_shards_per_client to each client\n",
        "  for i in range(clients):\n",
        "    rand_set = set(np.random.choice(shard_idxs, num_shards_per_client, replace=False))\n",
        "    shard_idxs = list(set(shard_idxs) - rand_set)\n",
        "\n",
        "    for rand in rand_set:\n",
        "      client_dict[i] = np.concatenate((client_dict[i], idxs[rand*shards_size:(rand+1)*shards_size]), axis=0)\n",
        "  \n",
        "    #print(client_dict)\n",
        "  '''\n",
        "  n = []\n",
        "  cli = list(range(clients))\n",
        "  for i in range(int(0.5*clients)):\n",
        "    new = np.random.choice(cli)\n",
        "    n.append(new)\n",
        "    cli.remove(new)\n",
        "  #n = np.random.choice(range(clients), int(0.1*clients), replace=False)\n",
        "  #n = list(n)\n",
        "  print(n)\n",
        "  for i in n:\n",
        "    j = 0\n",
        "    while j < int(0.8*num_shards_per_client):\n",
        "      l = list(client_dict[i])\n",
        "      print(l)\n",
        "      newl = dataset.targets[int(l[j])].item()\n",
        "      dataset.targets[int(l[j])] = torch.Tensor([1])  #(newl+1)% 10\n",
        "\n",
        "      j += 1\n",
        "\n",
        "  print(dataset.targets)\n",
        "\n",
        "  \n",
        "  \n",
        "  M = 0.1\n",
        "  for n in range(M*K):\n",
        "    ran = random.randint(0, K)\n",
        "    for x in data_dict:\n",
        "      print(len(data_dict[x]))\n",
        "      #for i in range(0.5*len(data_dict[x])):\n",
        "\n",
        "  \n",
        "  '''\n",
        "  return client_dict\n",
        "\n",
        "\n",
        "\n"
      ],
      "execution_count": null,
      "outputs": []
    },
    {
      "cell_type": "markdown",
      "metadata": {
        "id": "PTfxv8kFoGAy"
      },
      "source": [
        "## Models"
      ]
    },
    {
      "cell_type": "code",
      "metadata": {
        "id": "CvoDNFKbZST5"
      },
      "source": [
        "class MNIST_2NN(nn.Module):\n",
        "  \"\"\"\n",
        "  A simple multilayer-perceptron with 2-hidden layers with 200 units each\n",
        "  using ReLu activations\n",
        "\n",
        "  Total Expected Params: 199,210\n",
        "  \"\"\"\n",
        "  def __init__(self):\n",
        "    super(MNIST_2NN, self).__init__()\n",
        "\n",
        "    self.fc1 = nn.Linear(28*28, 200)\n",
        "    self.fc2 = nn.Linear(200, 200)\n",
        "    self.fc3 = nn.Linear(200, 10)\n",
        "\n",
        "  def forward(self, x):\n",
        "    x = torch.flatten(x, 1)\n",
        "    x = F.relu(self.fc1(x))\n",
        "    x = F.relu(self.fc2(x))\n",
        "    out = self.fc3(x)\n",
        "\n",
        "    return x"
      ],
      "execution_count": null,
      "outputs": []
    },
    {
      "cell_type": "code",
      "metadata": {
        "id": "ut1hZ8x3qYPZ"
      },
      "source": [
        "class MNIST_CNN(nn.Module):\n",
        "  \"\"\"\n",
        "  CNN with two 5x5 convolution lauers(the first with 32 channels, second with 64,\n",
        "  each followed with 2x2 max pooling), a fully connected layer with 512 uunits and \n",
        "  ReLu activation, and the final Softmax output layer\n",
        "\n",
        "  Total Expected Params: 1,663,370\n",
        "  \"\"\"\n",
        "  def __init__(self):\n",
        "    super(MNIST_CNN, self).__init__()\n",
        "\n",
        "    self.conv1 = nn.Conv2d(1, 32, kernel_size=5)\n",
        "    self.conv2 = nn.Conv2d(32, 64, kernel_size=5)\n",
        "    \n",
        "    self.pool = nn.MaxPool2d(2,2)\n",
        "    self.dropout = nn.Dropout(p=0.2)\n",
        "\n",
        "    self.fc1 = nn.Linear(1024, 512)\n",
        "    self.out = nn.Linear(512, 10)\n",
        "\n",
        "  def forward(self, x):\n",
        "    x = self.pool(F.relu(self.conv1(x)))\n",
        "    x = self.pool(F.relu(self.conv2(x)))\n",
        "    x = self.dropout(x)\n",
        "    x = torch.flatten(x, 1)\n",
        "    x = F.relu(self.fc1(x))\n",
        "    x = self.out(x)\n",
        "    out = F.log_softmax(x, dim=1)\n",
        "\n",
        "    return out"
      ],
      "execution_count": null,
      "outputs": []
    },
    {
      "cell_type": "markdown",
      "metadata": {
        "id": "uVv4HA9HuLtr"
      },
      "source": [
        "### Print Model Summaries"
      ]
    },
    {
      "cell_type": "code",
      "metadata": {
        "colab": {
          "base_uri": "https://localhost:8080/"
        },
        "id": "I5oTH710sJEt",
        "outputId": "e7040b1a-5c4a-48e7-ef10-49925477533f"
      },
      "source": [
        "mnist_mlp = MNIST_2NN()\n",
        "mnist_cnn = MNIST_CNN()\n",
        "\n",
        "if torch.cuda.is_available():\n",
        "  mnist_mlp.cuda()\n",
        "  mnist_cnn.cuda()\n",
        "\n",
        "print(\"MNIST MLP SUMMARY\")\n",
        "print(summary(mnist_mlp, (28,28)))\n",
        "\n",
        "print(\"\\nMNIST CNN SUMMARY\")\n",
        "print(summary(mnist_cnn, (1, 28,28)))"
      ],
      "execution_count": null,
      "outputs": [
        {
          "output_type": "stream",
          "text": [
            "MNIST MLP SUMMARY\n",
            "----------------------------------------------------------------\n",
            "        Layer (type)               Output Shape         Param #\n",
            "================================================================\n",
            "            Linear-1                  [-1, 200]         157,000\n",
            "            Linear-2                  [-1, 200]          40,200\n",
            "            Linear-3                   [-1, 10]           2,010\n",
            "================================================================\n",
            "Total params: 199,210\n",
            "Trainable params: 199,210\n",
            "Non-trainable params: 0\n",
            "----------------------------------------------------------------\n",
            "Input size (MB): 0.00\n",
            "Forward/backward pass size (MB): 0.00\n",
            "Params size (MB): 0.76\n",
            "Estimated Total Size (MB): 0.77\n",
            "----------------------------------------------------------------\n",
            "None\n",
            "\n",
            "MNIST CNN SUMMARY\n",
            "----------------------------------------------------------------\n",
            "        Layer (type)               Output Shape         Param #\n",
            "================================================================\n",
            "            Conv2d-1           [-1, 32, 24, 24]             832\n",
            "         MaxPool2d-2           [-1, 32, 12, 12]               0\n",
            "            Conv2d-3             [-1, 64, 8, 8]          51,264\n",
            "         MaxPool2d-4             [-1, 64, 4, 4]               0\n",
            "           Dropout-5             [-1, 64, 4, 4]               0\n",
            "            Linear-6                  [-1, 512]         524,800\n",
            "            Linear-7                   [-1, 10]           5,130\n",
            "================================================================\n",
            "Total params: 582,026\n",
            "Trainable params: 582,026\n",
            "Non-trainable params: 0\n",
            "----------------------------------------------------------------\n",
            "Input size (MB): 0.00\n",
            "Forward/backward pass size (MB): 0.23\n",
            "Params size (MB): 2.22\n",
            "Estimated Total Size (MB): 2.45\n",
            "----------------------------------------------------------------\n",
            "None\n"
          ],
          "name": "stdout"
        }
      ]
    },
    {
      "cell_type": "markdown",
      "metadata": {
        "id": "gf_8XEXa-gZ7"
      },
      "source": [
        "## Federated Averaging"
      ]
    },
    {
      "cell_type": "markdown",
      "metadata": {
        "id": "L-aNdQsQ-Kvp"
      },
      "source": [
        "### Local Training (Client Update)\n",
        "\n",
        "Local training for the model on client side"
      ]
    },
    {
      "cell_type": "code",
      "metadata": {
        "id": "oX6OsQyO-Gz7"
      },
      "source": [
        "class CustomDataset(Dataset):\n",
        "  def __init__(self, dataset, idxs):\n",
        "      self.dataset = dataset\n",
        "      self.idxs = list(idxs)\n",
        "\n",
        "  def __len__(self):\n",
        "      return len(self.idxs)\n",
        "\n",
        "  def __getitem__(self, item):\n",
        "      image, label = self.dataset[self.idxs[item]]\n",
        "      return image, label\n",
        "\n",
        "class ClientUpdate(object):\n",
        "  def __init__(self, dataset, batchSize, learning_rate, epochs, idxs):\n",
        "    self.train_loader = DataLoader(CustomDataset(dataset, idxs), batch_size=batchSize, shuffle=True)\n",
        "\n",
        "    self.learning_rate = learning_rate\n",
        "    self.epochs = epochs\n",
        "\n",
        "\n",
        "\n",
        "  def train(self, model):\n",
        "\n",
        "    criterion = nn.CrossEntropyLoss()\n",
        "    optimizer = torch.optim.SGD(model.parameters(), lr=self.learning_rate, momentum=0.5)\n",
        "    # optimizer = torch.optim.Adam(model.parameters(), lr=self.learning_rate)\n",
        "\n",
        "    e_loss = []\n",
        "    for epoch in range(1, self.epochs+1):\n",
        "\n",
        "      train_loss = 0.0\n",
        "\n",
        "      model.train()\n",
        "      for data, labels in self.train_loader:\n",
        "\n",
        "        if torch.cuda.is_available():\n",
        "          data, labels = data.cuda(), labels.cuda()\n",
        "\n",
        "        # clear the gradients\n",
        "        optimizer.zero_grad()\n",
        "        # make a forward pass\n",
        "        output = model(data)\n",
        "        # calculate the loss\n",
        "        loss = criterion(output, labels)\n",
        "        # do a backwards pass\n",
        "        loss.backward()\n",
        "        # perform a single optimization step\n",
        "        optimizer.step()\n",
        "        # update training loss\n",
        "        train_loss += loss.item()*data.size(0)\n",
        "\n",
        "      # average losses\n",
        "      train_loss = train_loss/len(self.train_loader.dataset)\n",
        "      e_loss.append(train_loss)\n",
        "\n",
        "    total_loss = sum(e_loss)/len(e_loss)\n",
        "\n",
        "    return model.state_dict(), total_loss"
      ],
      "execution_count": null,
      "outputs": []
    },
    {
      "cell_type": "markdown",
      "metadata": {
        "id": "Ukgh1DVHE2Ds"
      },
      "source": [
        "### Server Side Training\n",
        "\n",
        "Following Algorithm 1 from the paper"
      ]
    },
    {
      "cell_type": "code",
      "metadata": {
        "id": "1NF1e33BgpeL"
      },
      "source": [
        "def training(model, rounds, batch_size, lr, ds, data_dict, C, K, E, plt_title, plt_color, M):\n",
        "  \"\"\"\n",
        "  Function implements the Federated Averaging Algorithm from the FedAvg paper.\n",
        "  Specifically, this function is used for the server side training and weight update\n",
        "\n",
        "  Params:\n",
        "    - model:           PyTorch model to train\n",
        "    - rounds:          Number of communication rounds for the client update\n",
        "    - batch_size:      Batch size for client update training\n",
        "    - lr:              Learning rate used for client update training\n",
        "    - ds:              Dataset used for training\n",
        "    - data_dict:       Type of data partition used for training (IID or non-IID)\n",
        "    - C:               Fraction of clients randomly chosen to perform computation on each round\n",
        "    - K:               Total number of clients\n",
        "    - E:               Number of training passes each client makes over its local dataset per round\n",
        "    - tb_writer_name:  Directory name to save the tensorboard logs\n",
        "  Returns:\n",
        "    - model:           Trained model on the server\n",
        "  \"\"\"\n",
        "\n",
        "  # global model weights\n",
        "  global_weights = model.state_dict()\n",
        "\n",
        "  # training loss\n",
        "  train_loss = []\n",
        "  \n",
        "  # measure time\n",
        "  start = time.time()\n",
        "\n",
        "  for curr_round in range(1, rounds+1):\n",
        "    w, local_loss = [], []\n",
        "\n",
        "    m = max(int(C*K), 1)\n",
        "    newM = int(M*m)\n",
        "\n",
        "    S_t = np.random.choice(range(K), m, replace=False)\n",
        "    print(S_t)\n",
        "    c = 0\n",
        "\n",
        "    for i in range(len(S_t)):\n",
        "      if c == newM:\n",
        "        break\n",
        "      c += 1\n",
        "      local_update = ClientUpdate(dataset=ds, batchSize=batch_size, learning_rate=lr, epochs=E, idxs=data_dict[S_t[i]])\n",
        "      weights, loss = local_update.train(model=copy.deepcopy(model))\n",
        "      \n",
        "      for k in weights.keys():\n",
        "        t = torch.Tensor(weights[k].shape).cuda()\n",
        "        t.fill_(0.1)\n",
        "        weights[k] = t      \n",
        "      \n",
        "      w.append(copy.deepcopy(weights))\n",
        "      local_loss.append(copy.deepcopy(loss))\n",
        "\n",
        "\n",
        "    for k in range(newM, len(S_t)):\n",
        "\n",
        "      local_update = ClientUpdate(dataset=ds, batchSize=batch_size, learning_rate=lr, epochs=E, idxs=data_dict[S_t[k]])\n",
        "      weights, loss = local_update.train(model=copy.deepcopy(model))\n",
        "      \n",
        "      w.append(copy.deepcopy(weights))\n",
        "      local_loss.append(copy.deepcopy(loss))\n",
        "\n",
        "    # updating the global weights\n",
        "    weights_avg = copy.deepcopy(w[0])\n",
        "    for k in weights_avg.keys():\n",
        "      for i in range(1, len(w)):\n",
        "        weights_avg[k] += w[i][k]\n",
        "\n",
        "      weights_avg[k] = torch.div(weights_avg[k], len(w))\n",
        "\n",
        "    global_weights = weights_avg\n",
        "\n",
        "    # move the updated weights to our model state dict\n",
        "    model.load_state_dict(global_weights)\n",
        "\n",
        "    # loss\n",
        "    loss_avg = sum(local_loss) / len(local_loss)\n",
        "    print('Round: {}... \\tAverage Loss: {}'.format(curr_round, round(loss_avg, 3)))\n",
        "    train_loss.append(loss_avg)\n",
        "\n",
        "  end = time.time()\n",
        "  fig, ax = plt.subplots()\n",
        "  x_axis = np.arange(1, rounds+1)\n",
        "  y_axis = np.array(train_loss)\n",
        "  ax.plot(x_axis, y_axis, 'tab:'+plt_color)\n",
        "\n",
        "  ax.set(xlabel='Number of Rounds', ylabel='Train Loss',\n",
        "       title=plt_title)\n",
        "  ax.grid()\n",
        "  fig.savefig('/gdrive/My Drive/FedPerf/MNIST/FedAvg/Robustness/M_0.1/n_0.1/' + plt_title +'.jpg', format='jpg')\n",
        "  print(\"Training Done!\")\n",
        "  print(\"Total time taken to Train: {}\".format(end-start))\n",
        "  \n",
        "  return model"
      ],
      "execution_count": null,
      "outputs": []
    },
    {
      "cell_type": "markdown",
      "metadata": {
        "id": "tUYyb4T-uXmF"
      },
      "source": [
        "## Testing Loop"
      ]
    },
    {
      "cell_type": "code",
      "metadata": {
        "id": "uCcIZmO5uan9"
      },
      "source": [
        "def testing(model, dataset, bs, criterion, num_classes, classes):\n",
        "  #test loss \n",
        "  test_loss = 0.0\n",
        "  correct_class = list(0. for i in range(num_classes))\n",
        "  total_class = list(0. for i in range(num_classes))\n",
        "\n",
        "  test_loader = DataLoader(dataset, batch_size=bs)\n",
        "  l = len(test_loader)\n",
        "  model.eval()\n",
        "  for data, labels in test_loader:\n",
        "\n",
        "    if torch.cuda.is_available():\n",
        "      data, labels = data.cuda(), labels.cuda()\n",
        "\n",
        "    output = model(data)\n",
        "    loss = criterion(output, labels)\n",
        "    test_loss += loss.item()*data.size(0)\n",
        "\n",
        "    _, pred = torch.max(output, 1)\n",
        "\n",
        "    correct_tensor = pred.eq(labels.data.view_as(pred))\n",
        "    correct = np.squeeze(correct_tensor.numpy()) if not torch.cuda.is_available() else np.squeeze(correct_tensor.cpu().numpy())\n",
        "\n",
        "    #test accuracy for each object class\n",
        "    for i in range(num_classes):\n",
        "      label = labels.data[i]\n",
        "      correct_class[label] += correct[i].item()\n",
        "      total_class[label] += 1\n",
        "    \n",
        "  # avg test loss\n",
        "  test_loss = test_loss/len(test_loader.dataset)\n",
        "  print(\"Test Loss: {:.6f}\\n\".format(test_loss))\n",
        "\n",
        "  # print test accuracy\n",
        "  for i in range(10):\n",
        "    if total_class[i]>0:\n",
        "      print('Test Accuracy of %5s: %2d%% (%2d/%2d)' % \n",
        "            (classes[i], 100 * correct_class[i] / total_class[i],\n",
        "            np.sum(correct_class[i]), np.sum(total_class[i])))\n",
        "    else:\n",
        "      print('Test Accuracy of %5s: N/A (no training examples)' % (classes[i]))\n",
        "\n",
        "  print('\\nFinal Test  Accuracy: {:.3f} ({}/{})'.format(\n",
        "        100. * np.sum(correct_class) / np.sum(total_class),\n",
        "        np.sum(correct_class), np.sum(total_class)))"
      ],
      "execution_count": null,
      "outputs": []
    },
    {
      "cell_type": "markdown",
      "metadata": {
        "id": "z_jifdzniuhm"
      },
      "source": [
        "# MNIST MLP on IID"
      ]
    },
    {
      "cell_type": "markdown",
      "metadata": {
        "id": "uh-te0Od2XGO"
      },
      "source": [
        "### Train"
      ]
    },
    {
      "cell_type": "code",
      "metadata": {
        "colab": {
          "base_uri": "https://localhost:8080/",
          "height": 1000
        },
        "id": "UmpWmKOQixVV",
        "outputId": "db940e46-4870-4ba9-8bda-019d316cd491"
      },
      "source": [
        "# number of training rounds\n",
        "rounds = 20\n",
        "# client fraction\n",
        "C = 0.5\n",
        "# number of clients\n",
        "K = 100\n",
        "# number of training passes on local dataset for each roung\n",
        "E = 5\n",
        "# batch size\n",
        "batch_size = 10\n",
        "# learning Rate\n",
        "lr=0.05\n",
        "# dict containing different type of data partition\n",
        "data_dict = iid_partition(mnist_data_train, 100)\n",
        "# load model\n",
        "mnist_mlp = MNIST_2NN()\n",
        "\n",
        "if torch.cuda.is_available():\n",
        "  mnist_mlp.cuda()\n",
        "\n",
        "mnist_mlp_iid_trained = training(mnist_mlp, rounds, batch_size, lr, mnist_data_train, data_dict, C, K, E, \"MNIST MLP on IID Dataset\", \"orange\", 0.1)\n"
      ],
      "execution_count": null,
      "outputs": [
        {
          "output_type": "stream",
          "text": [
            "[95 31 96 19 57 80 70 59 99 84 18 92 66 90 36 32 27 85 10 87  4 20 89 26\n",
            " 52 97  0 88 40 53 54 46 44 13 86 47 64 55 39 60 37 74 25 15 81 24  3 42\n",
            " 73 69]\n",
            "Round: 1... \tAverage Loss: 0.501\n",
            "[50  8 42 71 89 11 72 74 52 56 31 75 18 39 55 33 16 45 62 54 99 17 19 96\n",
            " 41 14  5 78 60 92 34 10 12 59 36 32 43 67 80 44 90 88 20 69 30  0 68 28\n",
            " 85 87]\n",
            "Round: 2... \tAverage Loss: 0.304\n",
            "[ 7 42 89 96 25 75 17 32 83 88 51 20 45 55 18  6 34  2 64 73 10 92 63 86\n",
            " 52 44 49 72 93 68 76 70 36 47 15  8  3  1 37 78 95 81 12 56 59 28 79 69\n",
            "  0 16]\n",
            "Round: 3... \tAverage Loss: 0.294\n",
            "[18  0 68 56 27 14  5 35 82 10 79 95 86  2 65  9 26 43 96 84 75 13 87 44\n",
            " 20 74 78 92 33 39 99 70 63  3 57 49 54 24 46 15  8 58  1 76 98 72 90 52\n",
            " 93 19]\n",
            "Round: 4... \tAverage Loss: 0.281\n",
            "[69 10 31 88 29 22 46  8 18 26 91 37 64 15 70 58 16  3 86 75 73 62 79  1\n",
            " 14 39 56 32 42 95 19 74 99 49 66 30 50 23 93 85 97 17  4 94 61 71 48 35\n",
            " 24 59]\n",
            "Round: 5... \tAverage Loss: 0.287\n",
            "[31  2 82  6 42 56  7 23 38 83  0 70 11 44 93 54 61 53 95 21 46 76 48  4\n",
            " 64 19 87 55 35 67 27 72 86 37  1 50 88 90 59 91 24 99 32 79 14 62 28 74\n",
            " 45 51]\n",
            "Round: 6... \tAverage Loss: 0.273\n",
            "[11  9 20 37 82 58 74 84 41 38 22  1 34 67 56 96 44 78 21 91 87  4 72  0\n",
            " 70 27 93 53 35 30 60 88 45 81 90 28 23 42 89 83 66 47 48 25 92 18 24 97\n",
            " 85 31]\n",
            "Round: 7... \tAverage Loss: 0.273\n",
            "[76 10 36 99 65 89  0 30 79 34 22 66  4 49 68 26 51 20 95 60 19 43 32 33\n",
            " 50 53 67 42 38 63 56 14  8 91 24 27 90 71 62 55  7 81 17 64 45 37 97 39\n",
            " 28 78]\n",
            "Round: 8... \tAverage Loss: 0.273\n",
            "[ 6 41 45  5 59 54 49 53 30 42 26 60 61 89 85 84 75 88 62 70 74 86 15 29\n",
            " 66 11 50 47 38 71 72 93 76 23 25 78 63 98 24  9 36 64 91 19  4 73 99 44\n",
            " 67 69]\n",
            "Round: 9... \tAverage Loss: 0.292\n",
            "[54 65 90 44 97 82 19  8  5 29 74 23  0 50  2 49 41 93 12 99 79  7 56 53\n",
            " 55 27 33 95 25 28 42 91  9 36 15 92 86 37 46 39 87  1 26 98 94 11 43 96\n",
            " 24 72]\n",
            "Round: 10... \tAverage Loss: 0.273\n",
            "[35 61 96 90 73 10 80 30 33 34 72 26 77 39 65 45 40  5 87 43 59  8  6 14\n",
            " 97 38 63 88 41 52  0  1 44 37 98  4 99 36 13 89 62 49 86 17 21 29 57 42\n",
            " 11 84]\n",
            "Round: 11... \tAverage Loss: 0.268\n",
            "[94 20 76 26  0 11 28 71 91 78 44 14 45 92 19 17  3 24 33 86 31  1  9 42\n",
            " 82 57 54 67 72 18 32 46 23 85 40 49 10 13 75 37 38 81  5 12 97 53 52 74\n",
            " 43 16]\n",
            "Round: 12... \tAverage Loss: 0.289\n",
            "[68  1 75 95 46 15 73 56 41 11 90 40  2 20 88 63 61 89 27 66 76 55 16 30\n",
            " 96 85 59 71 74 32 35 26 34 21 93 17  8 48  0 28 84 77 38 62 94 31 36 87\n",
            " 67 23]\n",
            "Round: 13... \tAverage Loss: 0.283\n",
            "[25  7 18 13 16 99 17 74 59 88 27 43 91 95 26 30 39 87 65 97 11 42 80 98\n",
            " 94 23 56 38 54 22 55 70 81 51 92 47 35  6 93 61 85 14  5  9 12 57 46 48\n",
            " 75 71]\n",
            "Round: 14... \tAverage Loss: 0.29\n",
            "[66 92 99  1 69 12  2 30 84 78 51 71 57  9 72 43 47 26 22 44 55 53 17 19\n",
            " 97 81 11 49 82 13 46 29 70 28 31 50 42  5 24 56 60 20 79 88 48 40 16 52\n",
            " 68 95]\n",
            "Round: 15... \tAverage Loss: 0.295\n",
            "[17  7 69 81 53 58 47 46 14 43 45 77 95 18 73 56  5 41 42 68 38 23 33 35\n",
            " 22 16 74 30 13 36 82 88 15 63  4  0 62 55 64 90  3 12 44 99 86  1 54  8\n",
            " 67 40]\n",
            "Round: 16... \tAverage Loss: 0.307\n",
            "[30 89 35 17 91 55 21  1 71 86 24 22 82 31 70 14 93 18 52  9 99 41 33 23\n",
            "  8 48  0 78 44  3 73  6 53 88 16 51 46 19 95 27 49 56 94 96 98 11 39 65\n",
            " 68 76]\n",
            "Round: 17... \tAverage Loss: 0.302\n",
            "[57  6 42 27 12 56  2 81 46 55 29 93 22 43 23 54 25 41 24 98 49 15  5 26\n",
            "  0 34 40 32 96 79  4 82 19 17 95 74 97 48 76 13 58 80 14 30 62 90 60 94\n",
            " 63  3]\n",
            "Round: 18... \tAverage Loss: 0.296\n",
            "[76 97 63 56  9 48 29 18 19  7 81 26 42 68 49 28 72  3 69 95 70 16 75 20\n",
            " 22 36 91 53  8 80 35 65 73 10  0 82 71  1 25 15 67 78 74 44 89  5 40 64\n",
            " 47  4]\n",
            "Round: 19... \tAverage Loss: 0.289\n",
            "[33 67 34 78 20 69 60 18 14 37 89  5 23 64  2 97 36 79 21 76 73 15 51 10\n",
            " 44 66 96 63 94 81 39 31 90 40 65 19 68 61 48 32 87  7 28  1 86  4 26 85\n",
            " 99 74]\n",
            "Round: 20... \tAverage Loss: 0.299\n",
            "Training Done!\n",
            "Total time taken to Train: 676.8647949695587\n"
          ],
          "name": "stdout"
        },
        {
          "output_type": "display_data",
          "data": {
            "image/png": "[encoded data removed]",
            "text/plain": [
              "<Figure size 432x288 with 1 Axes>"
            ]
          },
          "metadata": {
            "tags": []
          }
        }
      ]
    },
    {
      "cell_type": "markdown",
      "metadata": {
        "id": "aTBsL3-72PPd"
      },
      "source": [
        "### Test"
      ]
    },
    {
      "cell_type": "code",
      "metadata": {
        "colab": {
          "base_uri": "https://localhost:8080/"
        },
        "id": "a9G4j5L62OrS",
        "outputId": "956f696b-bb38-4684-bb1f-04aff97c93f6"
      },
      "source": [
        "criterion = nn.CrossEntropyLoss()\n",
        "testing(mnist_mlp_iid_trained, mnist_data_test, 128, criterion, num_classes, classes_test)"
      ],
      "execution_count": null,
      "outputs": [
        {
          "output_type": "stream",
          "text": [
            "Test Loss: 0.343186\n",
            "\n",
            "Test Accuracy of     0: 96% (73/76)\n",
            "Test Accuracy of     1: 97% (88/90)\n",
            "Test Accuracy of     2: 94% (86/91)\n",
            "Test Accuracy of     3: 91% (67/73)\n",
            "Test Accuracy of     4: 94% (84/89)\n",
            "Test Accuracy of     5: 89% (61/68)\n",
            "Test Accuracy of     6: 91% (57/62)\n",
            "Test Accuracy of     7: 91% (74/81)\n",
            "Test Accuracy of     8: 97% (75/77)\n",
            "Test Accuracy of     9: 92% (77/83)\n",
            "\n",
            "Final Test  Accuracy: 93.924 (742.0/790.0)\n"
          ],
          "name": "stdout"
        }
      ]
    },
    {
      "cell_type": "markdown",
      "metadata": {
        "id": "w7NddQfAN1uk"
      },
      "source": [
        "#MNIST MLP on Non-IID"
      ]
    },
    {
      "cell_type": "markdown",
      "metadata": {
        "id": "YjGaNhZaRgD-"
      },
      "source": [
        "##Train"
      ]
    },
    {
      "cell_type": "code",
      "metadata": {
        "colab": {
          "background_save": true,
          "base_uri": "https://localhost:8080/",
          "height": 1000
        },
        "id": "uR3WgpV7l7ES",
        "outputId": "e6b2a13c-2f80-4c05-db27-b338c51e5c2b"
      },
      "source": [
        "# number of training rounds\n",
        "rounds = 20\n",
        "# client fraction\n",
        "C = 0.5\n",
        "# number of clients\n",
        "K = 100\n",
        "# number of training passes on local dataset for each roung\n",
        "E = 5\n",
        "# batch size\n",
        "batch_size = 10\n",
        "# learning Rate\n",
        "lr=0.05\n",
        "# dict containing different type of data partition\n",
        "data_dict = non_iid_partition(mnist_data_train, 100, 200, 300, 2)\n",
        "# load model\n",
        "mnist_mlp = MNIST_2NN()\n",
        "\n",
        "if torch.cuda.is_available():\n",
        "  mnist_mlp.cuda()\n",
        "\n",
        "mnist_mlp_non_iid_trained = training(mnist_mlp, rounds, batch_size, lr, mnist_data_train, data_dict, C, K, E, \"MNIST MLP on Non-IID Dataset\", \"green\", 0.1)"
      ],
      "execution_count": null,
      "outputs": [
        {
          "output_type": "stream",
          "text": [
            "[32 16 99 38  1 87 86  3 25 35 97 29 47 51 19 26 95 60  5 37 88 11 78 45\n",
            " 15 48 82 96 27 55  8  6 65 92 36 12 44 94 46 71 14 50 49 74 43 59  9 72\n",
            " 20 53]\n",
            "Round: 1... \tAverage Loss: 0.119\n",
            "[47  4 87 48 24 50 57 26 65 51 39 85 25 17  0 66  7 86 90 15 19 13 73 37\n",
            " 81 71  1 68 53 55 82 58 74 96 35 60 42 63 77 92 34  9 52  3  6 84 83 11\n",
            " 93 14]\n",
            "Round: 2... \tAverage Loss: 0.131\n",
            "[93 69 57 50 18 64 66 94 31 29 26 40 34 21 55 91 83 71  6 11 23 85 53  8\n",
            "  4 46  0 98 76 74  9 41 24 52 48 70 90 27 58 72  1 16 86 73 19 89 14 22\n",
            " 28  2]\n",
            "Round: 3... \tAverage Loss: 0.149\n",
            "[34 67 85 54 93 95 48 50  9 63 18 30 28 59 62 41  7 15  3 22 75 91 44 33\n",
            " 45 25 40 77 32 60 52 99 23 61 13 38 89 76 53  4 81 26 37  2 16 10  1 21\n",
            " 69 19]\n",
            "Round: 4... \tAverage Loss: 0.154\n",
            "[17  7 47 76 28 99 77 86 56 42 24 39 92 95 13 93 89 33 12 40 45 54 61 31\n",
            " 43 30 90 72 26 62 15 34 41 14 49 50 85  3 83 81 44 57 19 64 38 73 22  5\n",
            " 79 75]\n",
            "Round: 5... \tAverage Loss: 0.141\n",
            "[71 51 90 44  5 52  0 36 91 49 29 93 46 41  8 97 18 31 57 13 80 27 63 53\n",
            "  1 89  7 70 55 87 24 21  3 83 99 76 14 32 56 92 82 66 75 33 42 12 23 73\n",
            " 54 10]\n",
            "Round: 6... \tAverage Loss: 0.117\n",
            "[ 3 29  1  9 80 98 28 49 95 73 54 86 60 94 24 52 56 25  4 13 58 10 20 84\n",
            "  2  8 36 90 45 18 38 19 69 79 74 65  7 48 40 82 16 47 50  0 72 77 32 46\n",
            " 31 26]\n",
            "Round: 7... \tAverage Loss: 0.157\n",
            "[28 30 79 62 29 14 52 22 76 32 99 34 89 82 74  4 10 48 71 84 60 68  1 20\n",
            " 61 35 25 57 16 15 58 95 42  2 87  0 96 94 64 86  3 24 51 44  6 92 39 67\n",
            " 59 97]\n",
            "Round: 8... \tAverage Loss: 0.157\n",
            "[51 59 28 25  5  1 85 55 84 82 57 41  9 18 49 78 86 48 16 43 76 67 45 91\n",
            " 69 24 75 74 13 81 26 15 46 58 96 30 89 87 83  0 33 77 12 23 99 11  7 63\n",
            " 47 68]\n",
            "Round: 9... \tAverage Loss: 0.159\n",
            "[26 17 97 90  0 70 43  2 53 61 36 52  4 95 58 89 14 28 41  7 13 91 45 39\n",
            " 93 22 31 27 38 40 73 10 37 65 79 96 29 16 59 69 21  3 60  8 82 71  9 19\n",
            "  1 63]\n",
            "Round: 10... \tAverage Loss: 0.144\n",
            "[22 16 60  4 37 27 50 41 43  8 77 55 83 14 71 20 18 66 96 38  1  2 10 51\n",
            " 81 67 35 26 62 68  5 94 15 23 40 12 36 91 84 52 65  9 90 29 79 64  0 19\n",
            " 33 76]\n",
            "Round: 11... \tAverage Loss: 0.161\n",
            "[99 53 17  5  2 14 18 63 13 52 95 59 65 30 57 72 96 55 60 56 47 16 67 27\n",
            " 34 97 54 24 43 77 35 19 78 50 39 15 58  8 11 82 31  6 29  1  7 40 94 75\n",
            " 71 68]\n",
            "Round: 12... \tAverage Loss: 0.154\n",
            "[88 36 74 19 58 68  1 25 96  7 63  5  3 40 13 29 66 33 15 27 91 14 67 26\n",
            " 49 73 72 62 32 93 12 10 71 42 86 23 95 41 11 77 64 20 21 48 22 76 50 54\n",
            " 38 39]\n",
            "Round: 13... \tAverage Loss: 0.163\n",
            "[89 46  8  3 72 43 54 42 73 88 70 33 64 65 85 77 23 25 30 19 17 36 55 63\n",
            " 99 37 14  4 20 50 32 26  9 22 39 45  1 59 28  5 78 49 82 11 94 96 58 87\n",
            " 56 80]\n",
            "Round: 14... \tAverage Loss: 0.184\n",
            "[43 35 92 42 44 74 77 67 25 41 69 61 62 84 65 32 27 96 22 40 19 21 52 70\n",
            " 20 33 94 31 72 48 23 78 58 49 95 11 66  6 55  2 86 90  7 54  5 26 56 36\n",
            "  9 81]\n",
            "Round: 15... \tAverage Loss: 0.171\n",
            "[43  2 91 32  4 58  5 96 56 50 34 53 74 69 71  8 13 15 93 48 99 61 85 18\n",
            " 22 39 25 87 52 28 97 89 36 16 92 83 12  7 42 35 73 41 76 60 24 86 45 66\n",
            " 27 37]\n",
            "Round: 16... \tAverage Loss: 0.152\n",
            "[79 58 70 66 48 10 87 27 92 39 81 90  2 74 19 11 86 68 55 32 96 60 41 62\n",
            " 20 77 40 94 98 50 31 53 33  8 13 82 71 16 73  4 59 37 99  5 29 17 12 24\n",
            " 91 36]\n",
            "Round: 17... \tAverage Loss: 0.182\n",
            "[90 11 15 88 75 89 77 59 68 37 38 35 81 40 45 65 10 32 95 24  9 63 28 87\n",
            " 50 17 60 43 31 22 92 66 23 64 34 72 47 56  7 36 21 20  2 46 93 94 84 51\n",
            " 74 54]\n",
            "Round: 18... \tAverage Loss: 0.169\n",
            "[92  4 97 15 63 58 54 70 26  6 61 69 67 51 40 62 27 73 72 53 99 36 95  2\n",
            " 33 76 50  3 21 52 39 12 65 91 23 46 47 31 10 78 16 41 14 64 77 89 42 11\n",
            " 32 84]\n",
            "Round: 19... \tAverage Loss: 0.174\n",
            "[38 54  6 78 11 37  3 49 41 52 81 64 85  4 53 79 59 14 99 97 43 63 80 25\n",
            " 68 67 88 35 51 42 66 94 26 71  1 24 32 12  5 10 27 95 82 61 47 46 77 86\n",
            " 62 30]\n",
            "Round: 20... \tAverage Loss: 0.171\n",
            "Training Done!\n",
            "Total time taken to Train: 672.7574784755707\n"
          ],
          "name": "stdout"
        },
        {
          "output_type": "display_data",
          "data": {
            "image/png": "[encoded data removed]",
            "text/plain": [
              "<Figure size 432x288 with 1 Axes>"
            ]
          },
          "metadata": {
            "tags": []
          }
        }
      ]
    },
    {
      "cell_type": "markdown",
      "metadata": {
        "id": "Ia4RWJDwRiIW"
      },
      "source": [
        "##Test"
      ]
    },
    {
      "cell_type": "code",
      "metadata": {
        "colab": {
          "background_save": true,
          "base_uri": "https://localhost:8080/"
        },
        "id": "YPHkKmdZOFFi",
        "outputId": "2dc19d76-e825-4800-a282-211992db55fa"
      },
      "source": [
        "criterion = nn.CrossEntropyLoss()\n",
        "testing(mnist_mlp_non_iid_trained, mnist_data_test, 128, criterion, num_classes, classes_test)"
      ],
      "execution_count": null,
      "outputs": [
        {
          "output_type": "stream",
          "text": [
            "Test Loss: 1.159460\n",
            "\n",
            "Test Accuracy of     0: 94% (72/76)\n",
            "Test Accuracy of     1: 98% (89/90)\n",
            "Test Accuracy of     2: 36% (33/91)\n",
            "Test Accuracy of     3: 65% (48/73)\n",
            "Test Accuracy of     4:  4% ( 4/89)\n",
            "Test Accuracy of     5: 64% (44/68)\n",
            "Test Accuracy of     6: 79% (49/62)\n",
            "Test Accuracy of     7: 72% (59/81)\n",
            "Test Accuracy of     8: 72% (56/77)\n",
            "Test Accuracy of     9: 56% (47/83)\n",
            "\n",
            "Final Test  Accuracy: 63.418 (501.0/790.0)\n"
          ],
          "name": "stdout"
        }
      ]
    },
    {
      "cell_type": "markdown",
      "metadata": {
        "id": "7JOrGXijO-n5"
      },
      "source": [
        "#MNIST CNN on IID"
      ]
    },
    {
      "cell_type": "markdown",
      "metadata": {
        "id": "LlfMgPCnPG24"
      },
      "source": [
        "##Train"
      ]
    },
    {
      "cell_type": "code",
      "metadata": {
        "colab": {
          "base_uri": "https://localhost:8080/",
          "height": 1000
        },
        "id": "MQnkaV-kOw7J",
        "outputId": "7953d9ba-fea9-43a7-b57c-2a49e33c738c"
      },
      "source": [
        "# number of training rounds\n",
        "rounds = 20\n",
        "# client fraction\n",
        "C = 0.5\n",
        "# number of clients\n",
        "K = 100\n",
        "# number of training passes on local dataset for each roung\n",
        "E = 5\n",
        "# batch size\n",
        "batch_size = 10\n",
        "# learning Rate\n",
        "lr=0.05\n",
        "# data partition dictionary\n",
        "iid_dict = iid_partition(mnist_data_train, 100)\n",
        "# load model\n",
        "mnist_cnn = MNIST_CNN()\n",
        "\n",
        "if torch.cuda.is_available():\n",
        "  mnist_cnn.cuda()\n",
        "\n",
        "mnist_cnn_iid_trained = training(mnist_cnn, rounds, batch_size, lr, mnist_data_train, iid_dict, C, K, E, \"MNIST CNN on IID Dataset\", \"orange\", 0.1)"
      ],
      "execution_count": 26,
      "outputs": [
        {
          "output_type": "stream",
          "text": [
            "[56 55 17  4 70 45 66 91 89 71 92  3  0 16 76 67 62 44 79 74 95 51 53 28\n",
            " 15 81 10 83 36  1 20 33 73 31 48 94 39 75 99 24 59 84 12 27 88 78 82 93\n",
            " 47 86]\n",
            "Round: 1... \tAverage Loss: 0.498\n",
            "[80 31 51 44 12 75 88 36 60 10 95  0 71 43 97 81 37 28 41 90 46 93 54  8\n",
            " 82  4 91  9  3 47 17 25 63 72 70 96 20 92 79 40 77  5 53 13 98 22  7  6\n",
            " 83 89]\n",
            "Round: 2... \tAverage Loss: 5.501\n",
            "[41  1 19  4 76 45 39 52 92 62 78 18  2 22 71 87 44 99 15 82 28 64 43 91\n",
            " 48 67 63 79 40 75 56 65 16 70  7 30 23 51 14 38 68 98 81 10 46 94  9 55\n",
            "  0 73]\n",
            "Round: 3... \tAverage Loss: 2.3\n",
            "[64 77 44 97 43 27  9 82 86 22  7 52 26 25 18 99 33 71 46 55 47 73 31 56\n",
            " 89 29 57 30 65  0 20 67 37 74  8 50 17 85 94  6 11 42 96 19 75 53 41 69\n",
            " 59 72]\n",
            "Round: 4... \tAverage Loss: 2.299\n",
            "[41 19 99 12 80 73 60 71 96  0 34 91  3 66 46  9 20 15 74 14 36 50 49  2\n",
            " 70 61 43 62 98 21 72  5 83 92 37 81 55 35 29 56 76 32 53 75 84 22 17 31\n",
            "  7 58]\n",
            "Round: 5... \tAverage Loss: 2.3\n",
            "[77  1 66 44 94 56 11 65 97 57 54 96 52 88 68 24  9 21 35 99 62 61 10 50\n",
            " 70 38 72 59 25  6 43 87 78 73 12  5 15 16 32 51 33 79 13 67 92 75 17 64\n",
            "  0 42]\n",
            "Round: 6... \tAverage Loss: 2.3\n",
            "[16 96 32 37 21 13 24 95 84 45 75 66 74 99 64 19 39 72 18 36 88  2 63 25\n",
            " 49 44 34 48  1  9 10 92 42 89 57 86 78 68 73 98 87 50 14 81 94 29  0 69\n",
            " 28 61]\n",
            "Round: 7... \tAverage Loss: 2.3\n",
            "[22 23 40 13 99 97 32 95 63 48 83  9 37 18 15 68  5  2 59 58 28 52 91 51\n",
            " 80 82 72  6 33 64 39 35 56  4 79 20 44 36 49 30 89 92 46 42 25 41 87  0\n",
            " 69 76]\n",
            "Round: 8... \tAverage Loss: 2.3\n",
            "[90 43 80 83 26 59 49 69 14 55 33 77 29 70 61 17 52 76 34 15 99 74 82  9\n",
            " 57  3 93 95 62 46 35 73 18 38 75 72 13 94 51 20 22 88 31 63 30 71 44 25\n",
            " 64 36]\n",
            "Round: 9... \tAverage Loss: 22.413\n",
            "[97 36 95 82 26 58 32 46 19 57 99 96 20 66  0  2 55 76 63 53 11 50 56 54\n",
            " 62 29 85 88 33 43 40 27  1 98 69 72 52 75 23  3 48 78 18 38 68 28 41 39\n",
            " 84  5]\n",
            "Round: 10... \tAverage Loss: 2.3\n",
            "[72 39 10 64 19 80 68  9 60 44 52 71  0 96 61 82 30 69 24 34 49 84  4 77\n",
            " 17 92 28 33 23  3 15 50 97 54 38 90  1 27 91 40  7 81 59 26 93 55 70 65\n",
            " 67 87]\n",
            "Round: 11... \tAverage Loss: 2.299\n",
            "[84 64 32 66 43  7 49 22 42 99 78 89 73 12 62 86 25 47 94 31 95 57 41 77\n",
            " 63 58 16 20 48 38 36 75 82 40 79 53  8 26 71 44 39 74 85 81 21 29 92 27\n",
            " 11 60]\n",
            "Round: 12... \tAverage Loss: 2.3\n",
            "[71 76  2 52 60 77 74 78 73 95 61 29 63 23  3  7 13 98 91 84 47 56 24 99\n",
            " 22  1 45 86 18  6 42 19 34 89  8 25 14 40 83 35 94 57 59 85 30 51 39  9\n",
            " 49  4]\n",
            "Round: 13... \tAverage Loss: 2.3\n",
            "[32 72 94 23 60 95 46 63 26 73 80 79 34 18 24 25  6 41 36 50 70 28 57 81\n",
            " 67 33 53 56 39 89 97 15 88 42 65 83  0 51 78 29 30 27  8 40 92 69 16 35\n",
            " 93 22]\n",
            "Round: 14... \tAverage Loss: 244.986\n",
            "[ 2 21 65 38 17 49 40  6 90 85 32 23 71 50 18 76 52 70 94 60 46 48 54 59\n",
            " 34 89 88 97 29 79 41 45 57 96 26 11 63  5 14 83  3 68  4 35 84 30  9 87\n",
            " 77 99]\n",
            "Round: 15... \tAverage Loss: 2.299\n",
            "[14  9 63 42 23 59 17 68  8 48 92 83 80 22 73 71  2 67  6 28 96 45 88 24\n",
            " 35 26 16 62 56 72 41 40 91 69 87 54 30 89 37 52 27 38 99 78 76 77 49 15\n",
            " 60 57]\n",
            "Round: 16... \tAverage Loss: 2.299\n",
            "[50 43 62 26 88 37 36 60 49 31 61 16 69 47 81 68 77 39 59 56 18 57 66 52\n",
            " 76 89 12 41 40 73 63 45 54  2 29 28 95  8 75 92 85 35  0 44 78 32 58 83\n",
            "  9 91]\n",
            "Round: 17... \tAverage Loss: 2.299\n",
            "[97  6 95 12 40 56 32 77 44 37 46 39  1  4 70 31 22 61 86 88 13 63 51 83\n",
            " 47 19 24 49 20 96  3  2 27 60 99 10 72 71 43 57 18 90 42 48 52 38 25  5\n",
            " 33 59]\n",
            "Round: 18... \tAverage Loss: 28.62\n",
            "[ 7 14 18 32  2 27 45 36 83 74 15 31 35  5 43 81 65  0 69 55 48 98  4 39\n",
            " 95 29 24 73 82 46 12 34 77  3  9 70 23 71 51 68 61 88 58 76 13  6 86 38\n",
            " 56 85]\n",
            "Round: 19... \tAverage Loss: 2.299\n",
            "[74 72 17 58 91 75  1 94 43 18 71 56 52 66 83 61 25 81 11 64 27 51 37 21\n",
            " 55 62 40 67 20 50 84 13 48 99 32  4 47 16 28 44 14 39 10 63 42 80  6 73\n",
            " 33 35]\n",
            "Round: 20... \tAverage Loss: 382.463\n",
            "Training Done!\n",
            "Total time taken to Train: 999.9371671676636\n"
          ],
          "name": "stdout"
        },
        {
          "output_type": "display_data",
          "data": {
            "image/png": "[encoded data removed]",
            "text/plain": [
              "<Figure size 432x288 with 1 Axes>"
            ]
          },
          "metadata": {
            "tags": [],
            "needs_background": "light"
          }
        }
      ]
    },
    {
      "cell_type": "markdown",
      "metadata": {
        "id": "GYz3JwpNSElQ"
      },
      "source": [
        "##Test"
      ]
    },
    {
      "cell_type": "code",
      "metadata": {
        "id": "73iqBgD7R_gK",
        "colab": {
          "base_uri": "https://localhost:8080/"
        },
        "outputId": "1fb95d53-6093-4a26-a428-5524a06523e0"
      },
      "source": [
        "criterion = nn.CrossEntropyLoss()\n",
        "testing(mnist_cnn_iid_trained, mnist_data_test, 128, criterion, num_classes, classes_test)"
      ],
      "execution_count": 27,
      "outputs": [
        {
          "output_type": "stream",
          "text": [
            "Test Loss: 5426.643010\n",
            "\n",
            "Test Accuracy of     0:  0% ( 0/76)\n",
            "Test Accuracy of     1:  5% ( 5/90)\n",
            "Test Accuracy of     2:  0% ( 0/91)\n",
            "Test Accuracy of     3:  0% ( 0/73)\n",
            "Test Accuracy of     4:  0% ( 0/89)\n",
            "Test Accuracy of     5:  0% ( 0/68)\n",
            "Test Accuracy of     6:  0% ( 0/62)\n",
            "Test Accuracy of     7: 60% (49/81)\n",
            "Test Accuracy of     8:  0% ( 0/77)\n",
            "Test Accuracy of     9:  0% ( 0/83)\n",
            "\n",
            "Final Test  Accuracy: 6.835 (54.0/790.0)\n"
          ],
          "name": "stdout"
        }
      ]
    },
    {
      "cell_type": "code",
      "metadata": {
        "id": "cbxdgSyKD2PB"
      },
      "source": [
        ""
      ],
      "execution_count": 27,
      "outputs": []
    },
    {
      "cell_type": "markdown",
      "metadata": {
        "id": "fEuvtdjrXtfF"
      },
      "source": [
        "#MNIST CNN on Non-IID"
      ]
    },
    {
      "cell_type": "markdown",
      "metadata": {
        "id": "Qts5A4ebZ0qT"
      },
      "source": [
        "##Train"
      ]
    },
    {
      "cell_type": "code",
      "metadata": {
        "id": "PuFptwHCXLBK",
        "colab": {
          "base_uri": "https://localhost:8080/",
          "height": 1000
        },
        "outputId": "0af5bd84-8244-4f11-eda9-39e2455e901e"
      },
      "source": [
        "# number of training rounds\n",
        "rounds = 20\n",
        "# client fraction\n",
        "C = 0.5\n",
        "# number of clients\n",
        "K = 100\n",
        "# number of training passes on local dataset for each roung\n",
        "E = 5\n",
        "# batch size\n",
        "batch_size = 10\n",
        "# learning Rate\n",
        "lr=0.05\n",
        "# dict containing different type of data partition\n",
        "data_dict = non_iid_partition(mnist_data_train, 100, 200, 300, 2)\n",
        "# load model\n",
        "mnist_cnn = MNIST_CNN()\n",
        "\n",
        "if torch.cuda.is_available():\n",
        "  mnist_cnn.cuda()\n",
        "\n",
        "mnist_cnn_non_iid_trained = training(mnist_cnn, rounds, batch_size, lr, mnist_data_train, data_dict, C, K, E, \"MNIST CNN on Non-IID Dataset\", \"green\", 0.1)"
      ],
      "execution_count": 28,
      "outputs": [
        {
          "output_type": "stream",
          "text": [
            "[91 53 96 67 64 81 37 71  3 35 56 19 59 92 88 33 80 15 78 58 87  4 84 17\n",
            " 45 40 20 14 69  2 93 47 36 72 61  5 85 44 74 62 34 42 29 90 30 79 26 39\n",
            "  1 10]\n",
            "Round: 1... \tAverage Loss: 0.107\n",
            "[94 30 16 22 51 23 15 66 41 76 34 84 77 46  5 70 28 27  2 53 48 89 45 90\n",
            " 62 33 59 12 93 86 21 44  4 14 68 92 50 64 79 19 56 75 55 61 81 85 10 31\n",
            " 11  3]\n",
            "Round: 2... \tAverage Loss: 6.648\n",
            "[17 62 55 86 61 91  2  3 22 40 60 95 75  9 41 98 89 74 48 37 31 49 25 72\n",
            "  4 10 92 20 35 96 33 36 56 58 51 67 14  8 65 45 83 34 50  5 32 57 42 54\n",
            " 47 88]\n",
            "Round: 3... \tAverage Loss: 0.81\n",
            "[84 77 79  8 11 20 76 80  6 64 10 68 16 67 81 46 12  0 35 34 73 60 52 58\n",
            " 36 38 53 21 17 99 98 65 37 40 92 42  7 74 61 89 54 85 39 66  3  1 69 72\n",
            "  9 30]\n",
            "Round: 4... \tAverage Loss: 0.821\n",
            "[76 86 54 73 15  3 25 32 63  6 70 59 43 75  8 61 30 47 78 50 77 27 44 72\n",
            " 21 92 37  5 12 85 89 80  2 69 99 17 71 24 83 16  9 10 94 19  4 29  1 26\n",
            " 41 67]\n",
            "Round: 5... \tAverage Loss: 0.783\n",
            "[43 18 10 62 25  3 60 19 40 71 45 64 63  5 31 80 98 74  9 30  0 85 50 49\n",
            "  4 48 41 21 46 96 59 44 33 87 56 68 94 16 90 17 84 42 55 27 54  1 15 13\n",
            " 93 88]\n",
            "Round: 6... \tAverage Loss: 0.778\n",
            "[52  9 91 23 38 76 50 89 59 73 27 78 16 66 83 19  0 35 69 81 67 55 90 72\n",
            " 47 32 92 68 94 22 53 58 21 80  3 64 18 26 30 95 65 74 25 75 48 33  1 13\n",
            " 63 61]\n",
            "Round: 7... \tAverage Loss: 0.791\n",
            "[76 71 40  3 34 95 14 78 43 53 65 72 41 82 84 74 27 68 70 77 62 64  8 80\n",
            " 22 23 52 94 36 35 63 96 18 85 45 11 79 16 15 21  4 24  2 48  0 58 60 83\n",
            " 97 88]\n",
            "Round: 8... \tAverage Loss: 0.748\n",
            "[98 91 10 19 63  2 11 31 81 17 18 92 78 90 43 32 25 62 28 46 45 38 57 88\n",
            " 14 67 95 80  8 55 71 41 20 89 15 34 29 36 16 61 60 23 97 50  7 39 84  5\n",
            " 26 69]\n",
            "Round: 9... \tAverage Loss: 0.785\n",
            "[26 86  1 36 59  2 24 42 58 61 54 74 10 83 22 99 48 67 87  8 15 53 93 19\n",
            " 66 55 60  4 25 13 96 71 88 46 75  0 32 44 89 52 51 63 80 33 30 34 92  6\n",
            " 57 64]\n",
            "Round: 10... \tAverage Loss: 0.768\n",
            "[10 95 73 25 31 50  1 77 36 15 42 58 16  7 87  8 40 24 55 38 88 74 59 89\n",
            "  2 97 26 45 66 27 65 53 93 96 75 29 69 17 11 64 23 43 92 62  6 68 79  4\n",
            " 32 72]\n",
            "Round: 11... \tAverage Loss: 0.746\n",
            "[37 13 42 77  2  1 88  3 15 59 71 78 17 82  4 43 60 49 63  6 18 79 89 40\n",
            " 75 38 81 97 21 12 20 83 11 29 46 72 73 22 95 50 41 74 76 61 39 34 69 98\n",
            " 58 47]\n",
            "Round: 12... \tAverage Loss: 0.702\n",
            "[68 89 76 27 28 80 91 44  2 23 17  8 62 30 49 99 90 92 24 63 88 70 86 43\n",
            "  5 81 15 79 45 61 75 65 48  4 14 98 69  7 57 22 82  0 83 94 96 33 84 71\n",
            " 16 64]\n",
            "Round: 13... \tAverage Loss: 0.716\n",
            "[61 13 20 37 80 26 21 47  0  8 84 14 50 82 45 38 85  9 59 40 67 25 92 36\n",
            " 41 65 27 83 35 73 49 78 53 48 98 12 42 31 23 63 86 69  6 81  5 39 29 51\n",
            " 58 91]\n",
            "Round: 14... \tAverage Loss: 0.721\n",
            "[39 64 57  4 43 61 19 63 87 17 89 99 82 53 15 23 50  1 91 30 35 86 49 47\n",
            " 46 42 38 41 70 81  5 68 58 72 96 65  9 24 69 28 74 76 77 37 48 73 52 36\n",
            " 21 40]\n",
            "Round: 15... \tAverage Loss: 0.703\n",
            "[73 34 25 50 77 41 18 26 21 79  0  7 70 19 83 59 60 13 15 96 14 95 40 92\n",
            " 47 32 65 76 36 80 23 11 57 52 68 44 63 35 54 91 51  8 12 45 82 43 33  2\n",
            " 71 67]\n",
            "Round: 16... \tAverage Loss: 0.73\n",
            "[32  4  9 18 27 22 75 41 85 93 66 84 12 52 70 80 56 53 47 15  3 87 81 39\n",
            " 94 54 76 67 79 16 98 73 72 49 19 24 74 86 68 96 78 82 28  2 10 34 14 88\n",
            " 11 46]\n",
            "Round: 17... \tAverage Loss: 0.711\n",
            "[40 35 28 38 39  0 48 62 11 91 36 72 53 54 77 57  4 41 87 96 95 22 74 12\n",
            " 50 51 66 90  1 70 68 27  9 94 67 32 80 15 34 19 56 81 58 92  6 33  7 59\n",
            "  3 24]\n",
            "Round: 18... \tAverage Loss: 1.957\n",
            "[16 13 39 70 60  7 18 21 57 41 46 94 40 72  1 85 87 78 75 63 29 82 25 66\n",
            " 50 35 14 58 32  4 97 24  0 86  8 93 12 45 33 65 80 91 59 68 15 76  3 98\n",
            " 37 52]\n",
            "Round: 19... \tAverage Loss: 0.747\n",
            "[30 99 91 95 60 63 85 43 13 28 24 16 36  5 46 77 87 56 93 39 35 26 23 98\n",
            " 33  7 12  8 82 45 89 29  9  6 47 32 19 72 96 64 51 57 15 25 44 68 59 86\n",
            " 41 69]\n",
            "Round: 20... \tAverage Loss: 0.751\n",
            "Training Done!\n",
            "Total time taken to Train: 1003.905891418457\n"
          ],
          "name": "stdout"
        },
        {
          "output_type": "display_data",
          "data": {
            "image/png": "[encoded data removed]",
            "text/plain": [
              "<Figure size 432x288 with 1 Axes>"
            ]
          },
          "metadata": {
            "tags": [],
            "needs_background": "light"
          }
        }
      ]
    },
    {
      "cell_type": "markdown",
      "metadata": {
        "id": "Vz5AZ8_zZzMr"
      },
      "source": [
        "##Test"
      ]
    },
    {
      "cell_type": "code",
      "metadata": {
        "id": "Vzej8P--Zltk",
        "colab": {
          "base_uri": "https://localhost:8080/"
        },
        "outputId": "89034261-51aa-441d-be2b-a955e5ab61fa"
      },
      "source": [
        "criterion = nn.CrossEntropyLoss()\n",
        "testing(mnist_cnn_non_iid_trained, mnist_data_test, 128, criterion, num_classes, classes_test)"
      ],
      "execution_count": 29,
      "outputs": [
        {
          "output_type": "stream",
          "text": [
            "Test Loss: 3.255986\n",
            "\n",
            "Test Accuracy of     0:  0% ( 0/76)\n",
            "Test Accuracy of     1: 83% (75/90)\n",
            "Test Accuracy of     2:  0% ( 0/91)\n",
            "Test Accuracy of     3: 94% (69/73)\n",
            "Test Accuracy of     4:  0% ( 0/89)\n",
            "Test Accuracy of     5:  0% ( 0/68)\n",
            "Test Accuracy of     6:  0% ( 0/62)\n",
            "Test Accuracy of     7:  0% ( 0/81)\n",
            "Test Accuracy of     8:  0% ( 0/77)\n",
            "Test Accuracy of     9:  0% ( 0/83)\n",
            "\n",
            "Final Test  Accuracy: 18.228 (144.0/790.0)\n"
          ],
          "name": "stdout"
        }
      ]
    },
    {
      "cell_type": "code",
      "metadata": {
        "id": "oGR_Fq6GZ3HS"
      },
      "source": [
        ""
      ],
      "execution_count": null,
      "outputs": []
    }
  ]
}