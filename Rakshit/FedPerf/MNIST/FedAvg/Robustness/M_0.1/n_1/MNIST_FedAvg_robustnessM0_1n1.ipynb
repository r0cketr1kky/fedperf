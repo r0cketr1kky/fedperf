{
  "nbformat": 4,
  "nbformat_minor": 0,
  "metadata": {
    "colab": {
      "name": "MNIST_FedAvg_robustnessM0.1n1.ipynb",
      "provenance": [],
      "collapsed_sections": [
        "z_jifdzniuhm",
        "w7NddQfAN1uk"
      ],
      "machine_shape": "hm"
    },
    "kernelspec": {
      "name": "python3",
      "display_name": "Python 3"
    },
    "accelerator": "GPU"
  },
  "cells": [
    {
      "cell_type": "code",
      "metadata": {
        "id": "0iaf_Ccaq_4Y"
      },
      "source": [
        "#!pip install torchvision==0.8.0"
      ],
      "execution_count": 1,
      "outputs": []
    },
    {
      "cell_type": "code",
      "metadata": {
        "colab": {
          "base_uri": "https://localhost:8080/"
        },
        "id": "AD8zc_5Lpdcu",
        "outputId": "37de7ebc-5b7f-4a9e-98a3-427d15477e0c"
      },
      "source": [
        "from google.colab import drive\n",
        "drive.mount('/gdrive')\n",
        "%cd /gdrive"
      ],
      "execution_count": 2,
      "outputs": [
        {
          "output_type": "stream",
          "text": [
            "Drive already mounted at /gdrive; to attempt to forcibly remount, call drive.mount(\"/gdrive\", force_remount=True).\n",
            "/gdrive\n"
          ],
          "name": "stdout"
        }
      ]
    },
    {
      "cell_type": "code",
      "metadata": {
        "id": "DLLNM9X2JbQ8",
        "colab": {
          "base_uri": "https://localhost:8080/"
        },
        "outputId": "0c1e3d82-2cf5-4237-cbd7-fe02fddda6f2"
      },
      "source": [
        "%load_ext tensorboard\n",
        "import os\n",
        "import numpy as np\n",
        "import matplotlib\n",
        "import matplotlib.pyplot as plt\n",
        "import copy\n",
        "import random\n",
        "import time\n",
        "\n",
        "import torch\n",
        "import torch.nn as nn\n",
        "import torch.nn.functional as F\n",
        "\n",
        "from torch.utils.data import Dataset, DataLoader\n",
        "from torch.utils.tensorboard import SummaryWriter\n",
        "from torchvision import transforms, utils, datasets\n",
        "from torchsummary import summary\n",
        "\n",
        "\n",
        "# Check assigned GPU\n",
        "gpu_info = !nvidia-smi\n",
        "gpu_info = '\\n'.join(gpu_info)\n",
        "if gpu_info.find('failed') >= 0:\n",
        "  print('Select the Runtime > \"Change runtime type\" menu to enable a GPU accelerator, ')\n",
        "  print('and then re-execute this cell.')\n",
        "else:\n",
        "  print(gpu_info)\n",
        "\n",
        "# set manual seed for reproducibility\n",
        "seed = 42\n",
        "\n",
        "# general reproducibility\n",
        "random.seed(seed)\n",
        "np.random.seed(seed)\n",
        "torch.manual_seed(seed)\n",
        "\n",
        "# gpu training specific\n",
        "torch.backends.cudnn.deterministic = True\n",
        "torch.backends.cudnn.benchmark = False"
      ],
      "execution_count": 3,
      "outputs": [
        {
          "output_type": "stream",
          "text": [
            "Thu Apr  1 07:09:35 2021       \n",
            "+-----------------------------------------------------------------------------+\n",
            "| NVIDIA-SMI 460.67       Driver Version: 460.32.03    CUDA Version: 11.2     |\n",
            "|-------------------------------+----------------------+----------------------+\n",
            "| GPU  Name        Persistence-M| Bus-Id        Disp.A | Volatile Uncorr. ECC |\n",
            "| Fan  Temp  Perf  Pwr:Usage/Cap|         Memory-Usage | GPU-Util  Compute M. |\n",
            "|                               |                      |               MIG M. |\n",
            "|===============================+======================+======================|\n",
            "|   0  Tesla P100-PCIE...  Off  | 00000000:00:04.0 Off |                    0 |\n",
            "| N/A   36C    P0    27W / 250W |      0MiB / 16280MiB |      0%      Default |\n",
            "|                               |                      |                  N/A |\n",
            "+-------------------------------+----------------------+----------------------+\n",
            "                                                                               \n",
            "+-----------------------------------------------------------------------------+\n",
            "| Processes:                                                                  |\n",
            "|  GPU   GI   CI        PID   Type   Process name                  GPU Memory |\n",
            "|        ID   ID                                                   Usage      |\n",
            "|=============================================================================|\n",
            "|  No running processes found                                                 |\n",
            "+-----------------------------------------------------------------------------+\n"
          ],
          "name": "stdout"
        }
      ]
    },
    {
      "cell_type": "markdown",
      "metadata": {
        "id": "NY4eWzGiL6Mj"
      },
      "source": [
        "## Load the MNIST Dataset"
      ]
    },
    {
      "cell_type": "code",
      "metadata": {
        "id": "tiaxWFmTGVBq",
        "colab": {
          "base_uri": "https://localhost:8080/",
          "height": 52
        },
        "outputId": "b4d9c19e-78ec-46fe-f0aa-062e1f13b4e3"
      },
      "source": [
        "'''\n",
        "from six.moves import urllib\n",
        "opener = urllib.request.build_opener()\n",
        "opener.addheaders = [('User-agent', 'Mozilla/5.0')]\n",
        "urllib.request.install_opener(opener)\n",
        "'''"
      ],
      "execution_count": 4,
      "outputs": [
        {
          "output_type": "execute_result",
          "data": {
            "application/vnd.google.colaboratory.intrinsic+json": {
              "type": "string"
            },
            "text/plain": [
              "\"\\nfrom six.moves import urllib\\nopener = urllib.request.build_opener()\\nopener.addheaders = [('User-agent', 'Mozilla/5.0')]\\nurllib.request.install_opener(opener)\\n\""
            ]
          },
          "metadata": {
            "tags": []
          },
          "execution_count": 4
        }
      ]
    },
    {
      "cell_type": "code",
      "metadata": {
        "id": "G649tjTXLL8F",
        "colab": {
          "base_uri": "https://localhost:8080/",
          "height": 69
        },
        "outputId": "abd8f63f-40e9-4f4b-afe3-62f79d66c261"
      },
      "source": [
        "# create transforms\n",
        "# We will just convert to tensor and normalize since no special transforms are mentioned in the paper\n",
        "'''\n",
        "transforms_mnist = transforms.Compose([\n",
        "                                       transforms.ToTensor(),\n",
        "                                       transforms.Normalize((0.1307,), (0.3081,))\n",
        "                                       ])\n",
        "\n",
        "mnist_data_train = datasets.MNIST('../data/mnist/', train=True, download=True, transform=transforms_mnist)\n",
        "mnist_data_test = datasets.MNIST('../data/mnist/', train=False, download=True, transform=transforms_mnist)\n",
        "'''"
      ],
      "execution_count": 5,
      "outputs": [
        {
          "output_type": "execute_result",
          "data": {
            "application/vnd.google.colaboratory.intrinsic+json": {
              "type": "string"
            },
            "text/plain": [
              "\"\\ntransforms_mnist = transforms.Compose([\\n                                       transforms.ToTensor(),\\n                                       transforms.Normalize((0.1307,), (0.3081,))\\n                                       ])\\n\\nmnist_data_train = datasets.MNIST('../data/mnist/', train=True, download=True, transform=transforms_mnist)\\nmnist_data_test = datasets.MNIST('../data/mnist/', train=False, download=True, transform=transforms_mnist)\\n\""
            ]
          },
          "metadata": {
            "tags": []
          },
          "execution_count": 5
        }
      ]
    },
    {
      "cell_type": "code",
      "metadata": {
        "colab": {
          "base_uri": "https://localhost:8080/"
        },
        "id": "HVgZ5TetqEEP",
        "outputId": "3757f046-65c2-4817-e79d-43599fcad3ee"
      },
      "source": [
        "!wget www.di.ens.fr/~lelarge/MNIST.tar.gz\n",
        "!tar -zxvf MNIST.tar.gz\n",
        "\n",
        "from torchvision.datasets import MNIST\n",
        "\n",
        "transforms_mnist = transforms.Compose([\n",
        "                                       transforms.ToTensor(),\n",
        "                                       transforms.Normalize((0.1307,), (0.3081,))\n",
        "                                       ])\n",
        "\n",
        "mnist_data_train = MNIST(root = '../data/mnist/', train=True, download=True, transform=transforms_mnist)\n",
        "mnist_data_test = MNIST(root = '../data/mnist/', train=False, download=True, transform=transforms_mnist)"
      ],
      "execution_count": 6,
      "outputs": [
        {
          "output_type": "stream",
          "text": [
            "--2021-04-01 07:09:35--  http://www.di.ens.fr/~lelarge/MNIST.tar.gz\n",
            "Resolving www.di.ens.fr (www.di.ens.fr)... 129.199.99.14\n",
            "Connecting to www.di.ens.fr (www.di.ens.fr)|129.199.99.14|:80... connected.\n",
            "HTTP request sent, awaiting response... 302 Found\n",
            "Location: https://www.di.ens.fr/~lelarge/MNIST.tar.gz [following]\n",
            "--2021-04-01 07:09:35--  https://www.di.ens.fr/~lelarge/MNIST.tar.gz\n",
            "Connecting to www.di.ens.fr (www.di.ens.fr)|129.199.99.14|:443... connected.\n",
            "HTTP request sent, awaiting response... 200 OK\n",
            "Length: unspecified [application/x-gzip]\n",
            "MNIST.tar.gz: Operation not supported\n",
            "\n",
            "Cannot write to ‘MNIST.tar.gz’ (Success).\n",
            "tar (child): MNIST.tar.gz: Cannot open: No such file or directory\n",
            "tar (child): Error is not recoverable: exiting now\n",
            "tar: Child returned status 2\n",
            "tar: Error is not recoverable: exiting now\n"
          ],
          "name": "stdout"
        }
      ]
    },
    {
      "cell_type": "code",
      "metadata": {
        "id": "dm9usjn2vFkL",
        "colab": {
          "base_uri": "https://localhost:8080/"
        },
        "outputId": "2822ea78-398e-4da4-c697-a093f8c0243e"
      },
      "source": [
        "classes = np.array(list(mnist_data_train.class_to_idx.values()))\n",
        "classes_test = np.array(list(mnist_data_test.class_to_idx.values()))\n",
        "num_classes = len(classes_test)\n",
        "print(\"Classes: {} \\tType: {}\".format(classes, type(classes)))\n",
        "print(\"Classes Test: {} \\tType: {}\".format(classes_test, type(classes)))\n"
      ],
      "execution_count": 7,
      "outputs": [
        {
          "output_type": "stream",
          "text": [
            "Classes: [0 1 2 3 4 5 6 7 8 9] \tType: <class 'numpy.ndarray'>\n",
            "Classes Test: [0 1 2 3 4 5 6 7 8 9] \tType: <class 'numpy.ndarray'>\n"
          ],
          "name": "stdout"
        }
      ]
    },
    {
      "cell_type": "code",
      "metadata": {
        "id": "9lvJt3Ofv2SO",
        "colab": {
          "base_uri": "https://localhost:8080/"
        },
        "outputId": "e11ec722-ea7b-45ba-a6af-93e049e9daa6"
      },
      "source": [
        "print(\"Image Shape: {}\".format(mnist_data_train.data[0].size()))"
      ],
      "execution_count": 8,
      "outputs": [
        {
          "output_type": "stream",
          "text": [
            "Image Shape: torch.Size([28, 28])\n"
          ],
          "name": "stdout"
        }
      ]
    },
    {
      "cell_type": "markdown",
      "metadata": {
        "id": "jCOONkg-zV7Y"
      },
      "source": [
        "## Visualize Data"
      ]
    },
    {
      "cell_type": "code",
      "metadata": {
        "id": "R9MK03TZw6Qs"
      },
      "source": [
        "def imshow(img):\n",
        "\timg = img/2 + 0.5 #unnormalize the image\n",
        "\tplt.imshow(img, cmap='gray') # convert from tensor to image"
      ],
      "execution_count": 9,
      "outputs": []
    },
    {
      "cell_type": "code",
      "metadata": {
        "id": "gMJ0Kx4Kw-_H"
      },
      "source": [
        "def visualize(dataset):\n",
        "  figure = plt.figure(figsize=(25,4))\n",
        "  for i in range(20):\n",
        "    axis = figure.add_subplot(2, 20/2, i+1, xticks=[], yticks=[])\n",
        "    data = dataset.data[i]\n",
        "    data = data.numpy()\n",
        "\n",
        "    target = dataset.targets[i]\n",
        "    target = target.numpy()\n",
        "    imshow(data)\n",
        "    axis.set_title(target)\n"
      ],
      "execution_count": 10,
      "outputs": []
    },
    {
      "cell_type": "code",
      "metadata": {
        "id": "8bPOwKg10Ro7",
        "colab": {
          "base_uri": "https://localhost:8080/",
          "height": 241
        },
        "outputId": "a3fafc44-aa9b-4989-bf67-f5b2428929c7"
      },
      "source": [
        "visualize(mnist_data_train)"
      ],
      "execution_count": 11,
      "outputs": [
        {
          "output_type": "display_data",
          "data": {
            "image/png": "[encoded data removed]",
            "text/plain": [
              "<Figure size 1800x288 with 20 Axes>"
            ]
          },
          "metadata": {
            "tags": []
          }
        }
      ]
    },
    {
      "cell_type": "code",
      "metadata": {
        "id": "RKoh5Cf70UYu",
        "colab": {
          "base_uri": "https://localhost:8080/",
          "height": 241
        },
        "outputId": "33ed57e2-2ce9-4307-ffd8-a52d767ff91e"
      },
      "source": [
        "visualize(mnist_data_test)"
      ],
      "execution_count": 12,
      "outputs": [
        {
          "output_type": "display_data",
          "data": {
            "image/png": "[encoded data removed]",
            "text/plain": [
              "<Figure size 1800x288 with 20 Axes>"
            ]
          },
          "metadata": {
            "tags": []
          }
        }
      ]
    },
    {
      "cell_type": "markdown",
      "metadata": {
        "id": "ctjRsETiO1qO"
      },
      "source": [
        "## Partitioning the Data (IID and non-IID)"
      ]
    },
    {
      "cell_type": "code",
      "metadata": {
        "id": "3_v8lyrgO5dD"
      },
      "source": [
        "def iid_partition(dataset, clients):\n",
        "  \"\"\"\n",
        "  I.I.D paritioning of data over clients\n",
        "  Shuffle the data\n",
        "  Split it between clients\n",
        "  \n",
        "  params:\n",
        "    - dataset (torch.utils.Dataset): Dataset containing the MNIST Images\n",
        "    - clients (int): Number of Clients to split the data between\n",
        "\n",
        "  returns:\n",
        "    - Dictionary of image indexes for each client\n",
        "  \"\"\"\n",
        "\n",
        "  num_items_per_client = int(len(dataset)/clients)\n",
        "  client_dict = {}\n",
        "  image_idxs = [i for i in range(len(dataset))]\n",
        "  #data_labels = dataset.targets.numpy()\n",
        "  #print(data_labels)\n",
        "\n",
        "  for i in range(clients):\n",
        "    x = np.random.choice(image_idxs, num_items_per_client, replace=False)\n",
        "    client_dict[i] = set(x)\n",
        "    image_idxs = list(set(image_idxs) - client_dict[i])\n",
        "  '''\n",
        "  #print(len(client_dict))\n",
        "  #random.randrange()\n",
        "  n = []\n",
        "  cli = list(range(clients))\n",
        "  for i in range(int(M*clients)):\n",
        "    new = np.random.choice(cli)\n",
        "    n.append(new)\n",
        "    cli.remove(new)\n",
        "  #n = np.random.choice(range(clients), int(0.1*clients), replace=False)\n",
        "  #n = list(n)\n",
        "  print(n)\n",
        "  for i in n:\n",
        "    j = 0\n",
        "    while j < int(W*num_items_per_client):\n",
        "      l = list(client_dict[i])\n",
        "      newl = dataset.targets[int(l[j])].item()\n",
        "      dataset.targets[int(l[j])] = torch.Tensor([(newl+1)%10])\n",
        "\n",
        "      j += 1\n",
        "\n",
        "  print(dataset.targets)\n",
        "  \n",
        "  c = 0\n",
        "  for i in dataset.targets:\n",
        "    if i == torch.Tensor([1]):\n",
        "      c += 1\n",
        "  print(c)\n",
        "  \n",
        "  '''\n",
        "  return client_dict\n"
      ],
      "execution_count": 13,
      "outputs": []
    },
    {
      "cell_type": "code",
      "metadata": {
        "id": "4zMdliGMQoSl"
      },
      "source": [
        "def non_iid_partition(dataset, clients, total_shards, shards_size, num_shards_per_client):\n",
        "  \"\"\"\n",
        "  non I.I.D parititioning of data over clients\n",
        "  Sort the data by the digit label\n",
        "  Divide the data into N shards of size S\n",
        "  Each of the clients will get X shards\n",
        "\n",
        "  params:\n",
        "    - dataset (torch.utils.Dataset): Dataset containing the MNIST Images\n",
        "    - clients (int): Number of Clients to split the data between\n",
        "    - total_shards (int): Number of shards to partition the data in\n",
        "    - shards_size (int): Size of each shard \n",
        "    - num_shards_per_client (int): Number of shards of size shards_size that each client receives\n",
        "\n",
        "  returns:\n",
        "    - Dictionary of image indexes for each client\n",
        "  \"\"\"\n",
        "  \n",
        "  shard_idxs = [i for i in range(total_shards)]\n",
        "  client_dict = {i: np.array([], dtype='int64') for i in range(clients)}\n",
        "  idxs = np.arange(len(dataset))\n",
        "  data_labels = dataset.targets.numpy()\n",
        "\n",
        "  \n",
        "  #print(data_labels)\n",
        "  # sort the labels\n",
        "  label_idxs = np.vstack((idxs, data_labels))\n",
        "  label_idxs = label_idxs[:, label_idxs[1,:].argsort()]\n",
        "  idxs = label_idxs[0,:]\n",
        "  #print(idxs)\n",
        "  #print(len(idxs))\n",
        "\n",
        "  # divide the data into total_shards of size shards_size\n",
        "  # assign num_shards_per_client to each client\n",
        "  for i in range(clients):\n",
        "    rand_set = set(np.random.choice(shard_idxs, num_shards_per_client, replace=False))\n",
        "    shard_idxs = list(set(shard_idxs) - rand_set)\n",
        "\n",
        "    for rand in rand_set:\n",
        "      client_dict[i] = np.concatenate((client_dict[i], idxs[rand*shards_size:(rand+1)*shards_size]), axis=0)\n",
        "  \n",
        "    #print(client_dict)\n",
        "  '''\n",
        "  n = []\n",
        "  cli = list(range(clients))\n",
        "  for i in range(int(0.5*clients)):\n",
        "    new = np.random.choice(cli)\n",
        "    n.append(new)\n",
        "    cli.remove(new)\n",
        "  #n = np.random.choice(range(clients), int(0.1*clients), replace=False)\n",
        "  #n = list(n)\n",
        "  print(n)\n",
        "  for i in n:\n",
        "    j = 0\n",
        "    while j < int(0.8*num_shards_per_client):\n",
        "      l = list(client_dict[i])\n",
        "      print(l)\n",
        "      newl = dataset.targets[int(l[j])].item()\n",
        "      dataset.targets[int(l[j])] = torch.Tensor([1])  #(newl+1)% 10\n",
        "\n",
        "      j += 1\n",
        "\n",
        "  print(dataset.targets)\n",
        "\n",
        "  \n",
        "  \n",
        "  M = 0.1\n",
        "  for n in range(M*K):\n",
        "    ran = random.randint(0, K)\n",
        "    for x in data_dict:\n",
        "      print(len(data_dict[x]))\n",
        "      #for i in range(0.5*len(data_dict[x])):\n",
        "\n",
        "  \n",
        "  '''\n",
        "  return client_dict\n",
        "\n",
        "\n",
        "\n"
      ],
      "execution_count": 14,
      "outputs": []
    },
    {
      "cell_type": "markdown",
      "metadata": {
        "id": "PTfxv8kFoGAy"
      },
      "source": [
        "## Models"
      ]
    },
    {
      "cell_type": "code",
      "metadata": {
        "id": "CvoDNFKbZST5"
      },
      "source": [
        "class MNIST_2NN(nn.Module):\n",
        "  \"\"\"\n",
        "  A simple multilayer-perceptron with 2-hidden layers with 200 units each\n",
        "  using ReLu activations\n",
        "\n",
        "  Total Expected Params: 199,210\n",
        "  \"\"\"\n",
        "  def __init__(self):\n",
        "    super(MNIST_2NN, self).__init__()\n",
        "\n",
        "    self.fc1 = nn.Linear(28*28, 200)\n",
        "    self.fc2 = nn.Linear(200, 200)\n",
        "    self.fc3 = nn.Linear(200, 10)\n",
        "\n",
        "  def forward(self, x):\n",
        "    x = torch.flatten(x, 1)\n",
        "    x = F.relu(self.fc1(x))\n",
        "    x = F.relu(self.fc2(x))\n",
        "    out = self.fc3(x)\n",
        "\n",
        "    return x"
      ],
      "execution_count": 15,
      "outputs": []
    },
    {
      "cell_type": "code",
      "metadata": {
        "id": "ut1hZ8x3qYPZ"
      },
      "source": [
        "class MNIST_CNN(nn.Module):\n",
        "  \"\"\"\n",
        "  CNN with two 5x5 convolution lauers(the first with 32 channels, second with 64,\n",
        "  each followed with 2x2 max pooling), a fully connected layer with 512 uunits and \n",
        "  ReLu activation, and the final Softmax output layer\n",
        "\n",
        "  Total Expected Params: 1,663,370\n",
        "  \"\"\"\n",
        "  def __init__(self):\n",
        "    super(MNIST_CNN, self).__init__()\n",
        "\n",
        "    self.conv1 = nn.Conv2d(1, 32, kernel_size=5)\n",
        "    self.conv2 = nn.Conv2d(32, 64, kernel_size=5)\n",
        "    \n",
        "    self.pool = nn.MaxPool2d(2,2)\n",
        "    self.dropout = nn.Dropout(p=0.2)\n",
        "\n",
        "    self.fc1 = nn.Linear(1024, 512)\n",
        "    self.out = nn.Linear(512, 10)\n",
        "\n",
        "  def forward(self, x):\n",
        "    x = self.pool(F.relu(self.conv1(x)))\n",
        "    x = self.pool(F.relu(self.conv2(x)))\n",
        "    x = self.dropout(x)\n",
        "    x = torch.flatten(x, 1)\n",
        "    x = F.relu(self.fc1(x))\n",
        "    x = self.out(x)\n",
        "    out = F.log_softmax(x, dim=1)\n",
        "\n",
        "    return out"
      ],
      "execution_count": 16,
      "outputs": []
    },
    {
      "cell_type": "markdown",
      "metadata": {
        "id": "uVv4HA9HuLtr"
      },
      "source": [
        "### Print Model Summaries"
      ]
    },
    {
      "cell_type": "code",
      "metadata": {
        "id": "I5oTH710sJEt",
        "colab": {
          "base_uri": "https://localhost:8080/"
        },
        "outputId": "6d14325f-42f9-47d4-b6e3-e12bb6ff2530"
      },
      "source": [
        "mnist_mlp = MNIST_2NN()\n",
        "mnist_cnn = MNIST_CNN()\n",
        "\n",
        "if torch.cuda.is_available():\n",
        "  mnist_mlp.cuda()\n",
        "  mnist_cnn.cuda()\n",
        "\n",
        "print(\"MNIST MLP SUMMARY\")\n",
        "print(summary(mnist_mlp, (28,28)))\n",
        "\n",
        "print(\"\\nMNIST CNN SUMMARY\")\n",
        "print(summary(mnist_cnn, (1, 28,28)))"
      ],
      "execution_count": 17,
      "outputs": [
        {
          "output_type": "stream",
          "text": [
            "MNIST MLP SUMMARY\n",
            "----------------------------------------------------------------\n",
            "        Layer (type)               Output Shape         Param #\n",
            "================================================================\n",
            "            Linear-1                  [-1, 200]         157,000\n",
            "            Linear-2                  [-1, 200]          40,200\n",
            "            Linear-3                   [-1, 10]           2,010\n",
            "================================================================\n",
            "Total params: 199,210\n",
            "Trainable params: 199,210\n",
            "Non-trainable params: 0\n",
            "----------------------------------------------------------------\n",
            "Input size (MB): 0.00\n",
            "Forward/backward pass size (MB): 0.00\n",
            "Params size (MB): 0.76\n",
            "Estimated Total Size (MB): 0.77\n",
            "----------------------------------------------------------------\n",
            "None\n",
            "\n",
            "MNIST CNN SUMMARY\n",
            "----------------------------------------------------------------\n",
            "        Layer (type)               Output Shape         Param #\n",
            "================================================================\n",
            "            Conv2d-1           [-1, 32, 24, 24]             832\n",
            "         MaxPool2d-2           [-1, 32, 12, 12]               0\n",
            "            Conv2d-3             [-1, 64, 8, 8]          51,264\n",
            "         MaxPool2d-4             [-1, 64, 4, 4]               0\n",
            "           Dropout-5             [-1, 64, 4, 4]               0\n",
            "            Linear-6                  [-1, 512]         524,800\n",
            "            Linear-7                   [-1, 10]           5,130\n",
            "================================================================\n",
            "Total params: 582,026\n",
            "Trainable params: 582,026\n",
            "Non-trainable params: 0\n",
            "----------------------------------------------------------------\n",
            "Input size (MB): 0.00\n",
            "Forward/backward pass size (MB): 0.23\n",
            "Params size (MB): 2.22\n",
            "Estimated Total Size (MB): 2.45\n",
            "----------------------------------------------------------------\n",
            "None\n"
          ],
          "name": "stdout"
        }
      ]
    },
    {
      "cell_type": "markdown",
      "metadata": {
        "id": "gf_8XEXa-gZ7"
      },
      "source": [
        "## Federated Averaging"
      ]
    },
    {
      "cell_type": "markdown",
      "metadata": {
        "id": "L-aNdQsQ-Kvp"
      },
      "source": [
        "### Local Training (Client Update)\n",
        "\n",
        "Local training for the model on client side"
      ]
    },
    {
      "cell_type": "code",
      "metadata": {
        "id": "oX6OsQyO-Gz7"
      },
      "source": [
        "class CustomDataset(Dataset):\n",
        "  def __init__(self, dataset, idxs):\n",
        "      self.dataset = dataset\n",
        "      self.idxs = list(idxs)\n",
        "\n",
        "  def __len__(self):\n",
        "      return len(self.idxs)\n",
        "\n",
        "  def __getitem__(self, item):\n",
        "      image, label = self.dataset[self.idxs[item]]\n",
        "      return image, label\n",
        "\n",
        "class ClientUpdate(object):\n",
        "  def __init__(self, dataset, batchSize, learning_rate, epochs, idxs):\n",
        "    self.train_loader = DataLoader(CustomDataset(dataset, idxs), batch_size=batchSize, shuffle=True)\n",
        "\n",
        "    self.learning_rate = learning_rate\n",
        "    self.epochs = epochs\n",
        "\n",
        "\n",
        "\n",
        "  def train(self, model):\n",
        "\n",
        "    criterion = nn.CrossEntropyLoss()\n",
        "    optimizer = torch.optim.SGD(model.parameters(), lr=self.learning_rate, momentum=0.5)\n",
        "    # optimizer = torch.optim.Adam(model.parameters(), lr=self.learning_rate)\n",
        "\n",
        "    e_loss = []\n",
        "    for epoch in range(1, self.epochs+1):\n",
        "\n",
        "      train_loss = 0.0\n",
        "\n",
        "      model.train()\n",
        "      for data, labels in self.train_loader:\n",
        "\n",
        "        if torch.cuda.is_available():\n",
        "          data, labels = data.cuda(), labels.cuda()\n",
        "\n",
        "        # clear the gradients\n",
        "        optimizer.zero_grad()\n",
        "        # make a forward pass\n",
        "        output = model(data)\n",
        "        # calculate the loss\n",
        "        loss = criterion(output, labels)\n",
        "        # do a backwards pass\n",
        "        loss.backward()\n",
        "        # perform a single optimization step\n",
        "        optimizer.step()\n",
        "        # update training loss\n",
        "        train_loss += loss.item()*data.size(0)\n",
        "\n",
        "      # average losses\n",
        "      train_loss = train_loss/len(self.train_loader.dataset)\n",
        "      e_loss.append(train_loss)\n",
        "\n",
        "    total_loss = sum(e_loss)/len(e_loss)\n",
        "\n",
        "    return model.state_dict(), total_loss"
      ],
      "execution_count": 18,
      "outputs": []
    },
    {
      "cell_type": "markdown",
      "metadata": {
        "id": "Ukgh1DVHE2Ds"
      },
      "source": [
        "### Server Side Training\n",
        "\n",
        "Following Algorithm 1 from the paper"
      ]
    },
    {
      "cell_type": "code",
      "metadata": {
        "id": "1NF1e33BgpeL"
      },
      "source": [
        "def training(model, rounds, batch_size, lr, ds, data_dict, C, K, E, plt_title, plt_color, M):\n",
        "  \"\"\"\n",
        "  Function implements the Federated Averaging Algorithm from the FedAvg paper.\n",
        "  Specifically, this function is used for the server side training and weight update\n",
        "\n",
        "  Params:\n",
        "    - model:           PyTorch model to train\n",
        "    - rounds:          Number of communication rounds for the client update\n",
        "    - batch_size:      Batch size for client update training\n",
        "    - lr:              Learning rate used for client update training\n",
        "    - ds:              Dataset used for training\n",
        "    - data_dict:       Type of data partition used for training (IID or non-IID)\n",
        "    - C:               Fraction of clients randomly chosen to perform computation on each round\n",
        "    - K:               Total number of clients\n",
        "    - E:               Number of training passes each client makes over its local dataset per round\n",
        "    - tb_writer_name:  Directory name to save the tensorboard logs\n",
        "  Returns:\n",
        "    - model:           Trained model on the server\n",
        "  \"\"\"\n",
        "\n",
        "  # global model weights\n",
        "  global_weights = model.state_dict()\n",
        "\n",
        "  # training loss\n",
        "  train_loss = []\n",
        "  \n",
        "  # measure time\n",
        "  start = time.time()\n",
        "\n",
        "  for curr_round in range(1, rounds+1):\n",
        "    w, local_loss = [], []\n",
        "\n",
        "    m = max(int(C*K), 1)\n",
        "    newM = int(M*m)\n",
        "\n",
        "    S_t = np.random.choice(range(K), m, replace=False)\n",
        "    print(S_t)\n",
        "    c = 0\n",
        "\n",
        "    for i in range(len(S_t)):\n",
        "      if c == newM:\n",
        "        break\n",
        "      c += 1\n",
        "      local_update = ClientUpdate(dataset=ds, batchSize=batch_size, learning_rate=lr, epochs=E, idxs=data_dict[S_t[i]])\n",
        "      weights, loss = local_update.train(model=copy.deepcopy(model))\n",
        "      \n",
        "      for k in weights.keys():\n",
        "        t = torch.Tensor(weights[k].shape).cuda()\n",
        "        t.fill_(1)\n",
        "        weights[k] = t      \n",
        "      \n",
        "      w.append(copy.deepcopy(weights))\n",
        "      local_loss.append(copy.deepcopy(loss))\n",
        "\n",
        "\n",
        "    for k in range(newM, len(S_t)):\n",
        "\n",
        "      local_update = ClientUpdate(dataset=ds, batchSize=batch_size, learning_rate=lr, epochs=E, idxs=data_dict[S_t[k]])\n",
        "      weights, loss = local_update.train(model=copy.deepcopy(model))\n",
        "      \n",
        "      w.append(copy.deepcopy(weights))\n",
        "      local_loss.append(copy.deepcopy(loss))\n",
        "\n",
        "    # updating the global weights\n",
        "    weights_avg = copy.deepcopy(w[0])\n",
        "    for k in weights_avg.keys():\n",
        "      for i in range(1, len(w)):\n",
        "        weights_avg[k] += w[i][k]\n",
        "\n",
        "      weights_avg[k] = torch.div(weights_avg[k], len(w))\n",
        "\n",
        "    global_weights = weights_avg\n",
        "\n",
        "    # move the updated weights to our model state dict\n",
        "    model.load_state_dict(global_weights)\n",
        "\n",
        "    # loss\n",
        "    loss_avg = sum(local_loss) / len(local_loss)\n",
        "    print('Round: {}... \\tAverage Loss: {}'.format(curr_round, round(loss_avg, 3)))\n",
        "    train_loss.append(loss_avg)\n",
        "\n",
        "  end = time.time()\n",
        "  fig, ax = plt.subplots()\n",
        "  x_axis = np.arange(1, rounds+1)\n",
        "  y_axis = np.array(train_loss)\n",
        "  ax.plot(x_axis, y_axis, 'tab:'+plt_color)\n",
        "\n",
        "  ax.set(xlabel='Number of Rounds', ylabel='Train Loss',\n",
        "       title=plt_title)\n",
        "  ax.grid()\n",
        "  fig.savefig('/gdrive/My Drive/FedPerf/MNIST/FedAvg/Robustness/M_0.1/n_1/' + plt_title +'.jpg', format='jpg')\n",
        "  print(\"Training Done!\")\n",
        "  print(\"Total time taken to Train: {}\".format(end-start))\n",
        "  \n",
        "  return model"
      ],
      "execution_count": 19,
      "outputs": []
    },
    {
      "cell_type": "markdown",
      "metadata": {
        "id": "tUYyb4T-uXmF"
      },
      "source": [
        "## Testing Loop"
      ]
    },
    {
      "cell_type": "code",
      "metadata": {
        "id": "uCcIZmO5uan9"
      },
      "source": [
        "def testing(model, dataset, bs, criterion, num_classes, classes):\n",
        "  #test loss \n",
        "  test_loss = 0.0\n",
        "  correct_class = list(0. for i in range(num_classes))\n",
        "  total_class = list(0. for i in range(num_classes))\n",
        "\n",
        "  test_loader = DataLoader(dataset, batch_size=bs)\n",
        "  l = len(test_loader)\n",
        "  model.eval()\n",
        "  for data, labels in test_loader:\n",
        "\n",
        "    if torch.cuda.is_available():\n",
        "      data, labels = data.cuda(), labels.cuda()\n",
        "\n",
        "    output = model(data)\n",
        "    loss = criterion(output, labels)\n",
        "    test_loss += loss.item()*data.size(0)\n",
        "\n",
        "    _, pred = torch.max(output, 1)\n",
        "\n",
        "    correct_tensor = pred.eq(labels.data.view_as(pred))\n",
        "    correct = np.squeeze(correct_tensor.numpy()) if not torch.cuda.is_available() else np.squeeze(correct_tensor.cpu().numpy())\n",
        "\n",
        "    #test accuracy for each object class\n",
        "    for i in range(num_classes):\n",
        "      label = labels.data[i]\n",
        "      correct_class[label] += correct[i].item()\n",
        "      total_class[label] += 1\n",
        "    \n",
        "  # avg test loss\n",
        "  test_loss = test_loss/len(test_loader.dataset)\n",
        "  print(\"Test Loss: {:.6f}\\n\".format(test_loss))\n",
        "\n",
        "  # print test accuracy\n",
        "  for i in range(10):\n",
        "    if total_class[i]>0:\n",
        "      print('Test Accuracy of %5s: %2d%% (%2d/%2d)' % \n",
        "            (classes[i], 100 * correct_class[i] / total_class[i],\n",
        "            np.sum(correct_class[i]), np.sum(total_class[i])))\n",
        "    else:\n",
        "      print('Test Accuracy of %5s: N/A (no training examples)' % (classes[i]))\n",
        "\n",
        "  print('\\nFinal Test  Accuracy: {:.3f} ({}/{})'.format(\n",
        "        100. * np.sum(correct_class) / np.sum(total_class),\n",
        "        np.sum(correct_class), np.sum(total_class)))"
      ],
      "execution_count": 20,
      "outputs": []
    },
    {
      "cell_type": "markdown",
      "metadata": {
        "id": "z_jifdzniuhm"
      },
      "source": [
        "# MNIST MLP on IID"
      ]
    },
    {
      "cell_type": "markdown",
      "metadata": {
        "id": "uh-te0Od2XGO"
      },
      "source": [
        "### Train"
      ]
    },
    {
      "cell_type": "code",
      "metadata": {
        "id": "UmpWmKOQixVV",
        "colab": {
          "base_uri": "https://localhost:8080/",
          "height": 1000
        },
        "outputId": "084817ae-ac55-4518-825b-b2e71b16a3c1"
      },
      "source": [
        "# number of training rounds\n",
        "rounds = 20\n",
        "# client fraction\n",
        "C = 0.5\n",
        "# number of clients\n",
        "K = 100\n",
        "# number of training passes on local dataset for each roung\n",
        "E = 5\n",
        "# batch size\n",
        "batch_size = 10\n",
        "# learning Rate\n",
        "lr=0.05\n",
        "# dict containing different type of data partition\n",
        "data_dict = iid_partition(mnist_data_train, 100)\n",
        "# load model\n",
        "mnist_mlp = MNIST_2NN()\n",
        "\n",
        "if torch.cuda.is_available():\n",
        "  mnist_mlp.cuda()\n",
        "\n",
        "mnist_mlp_iid_trained = training(mnist_mlp, rounds, batch_size, lr, mnist_data_train, data_dict, C, K, E, \"MNIST MLP on IID Dataset\", \"orange\", 0.1)\n"
      ],
      "execution_count": 21,
      "outputs": [
        {
          "output_type": "stream",
          "text": [
            "[95 31 96 19 57 80 70 59 99 84 18 92 66 90 36 32 27 85 10 87  4 20 89 26\n",
            " 52 97  0 88 40 53 54 46 44 13 86 47 64 55 39 60 37 74 25 15 81 24  3 42\n",
            " 73 69]\n",
            "Round: 1... \tAverage Loss: 0.501\n",
            "[50  8 42 71 89 11 72 74 52 56 31 75 18 39 55 33 16 45 62 54 99 17 19 96\n",
            " 41 14  5 78 60 92 34 10 12 59 36 32 43 67 80 44 90 88 20 69 30  0 68 28\n",
            " 85 87]\n",
            "Round: 2... \tAverage Loss: 4.721\n",
            "[ 7 42 89 96 25 75 17 32 83 88 51 20 45 55 18  6 34  2 64 73 10 92 63 86\n",
            " 52 44 49 72 93 68 76 70 36 47 15  8  3  1 37 78 95 81 12 56 59 28 79 69\n",
            "  0 16]\n",
            "Round: 3... \tAverage Loss: 4.52\n",
            "[18  0 68 56 27 14  5 35 82 10 79 95 86  2 65  9 26 43 96 84 75 13 87 44\n",
            " 20 74 78 92 33 39 99 70 63  3 57 49 54 24 46 15  8 58  1 76 98 72 90 52\n",
            " 93 19]\n",
            "Round: 4... \tAverage Loss: 4.684\n",
            "[69 10 31 88 29 22 46  8 18 26 91 37 64 15 70 58 16  3 86 75 73 62 79  1\n",
            " 14 39 56 32 42 95 19 74 99 49 66 30 50 23 93 85 97 17  4 94 61 71 48 35\n",
            " 24 59]\n",
            "Round: 5... \tAverage Loss: 5.204\n",
            "[31  2 82  6 42 56  7 23 38 83  0 70 11 44 93 54 61 53 95 21 46 76 48  4\n",
            " 64 19 87 55 35 67 27 72 86 37  1 50 88 90 59 91 24 99 32 79 14 62 28 74\n",
            " 45 51]\n",
            "Round: 6... \tAverage Loss: 5.318\n",
            "[11  9 20 37 82 58 74 84 41 38 22  1 34 67 56 96 44 78 21 91 87  4 72  0\n",
            " 70 27 93 53 35 30 60 88 45 81 90 28 23 42 89 83 66 47 48 25 92 18 24 97\n",
            " 85 31]\n",
            "Round: 7... \tAverage Loss: 5.963\n",
            "[76 10 36 99 65 89  0 30 79 34 22 66  4 49 68 26 51 20 95 60 19 43 32 33\n",
            " 50 53 67 42 38 63 56 14  8 91 24 27 90 71 62 55  7 81 17 64 45 37 97 39\n",
            " 28 78]\n",
            "Round: 8... \tAverage Loss: 6.324\n",
            "[ 6 41 45  5 59 54 49 53 30 42 26 60 61 89 85 84 75 88 62 70 74 86 15 29\n",
            " 66 11 50 47 38 71 72 93 76 23 25 78 63 98 24  9 36 64 91 19  4 73 99 44\n",
            " 67 69]\n",
            "Round: 9... \tAverage Loss: 6.261\n",
            "[54 65 90 44 97 82 19  8  5 29 74 23  0 50  2 49 41 93 12 99 79  7 56 53\n",
            " 55 27 33 95 25 28 42 91  9 36 15 92 86 37 46 39 87  1 26 98 94 11 43 96\n",
            " 24 72]\n",
            "Round: 10... \tAverage Loss: 7.04\n",
            "[35 61 96 90 73 10 80 30 33 34 72 26 77 39 65 45 40  5 87 43 59  8  6 14\n",
            " 97 38 63 88 41 52  0  1 44 37 98  4 99 36 13 89 62 49 86 17 21 29 57 42\n",
            " 11 84]\n",
            "Round: 11... \tAverage Loss: 6.348\n",
            "[94 20 76 26  0 11 28 71 91 78 44 14 45 92 19 17  3 24 33 86 31  1  9 42\n",
            " 82 57 54 67 72 18 32 46 23 85 40 49 10 13 75 37 38 81  5 12 97 53 52 74\n",
            " 43 16]\n",
            "Round: 12... \tAverage Loss: 7.144\n",
            "[68  1 75 95 46 15 73 56 41 11 90 40  2 20 88 63 61 89 27 66 76 55 16 30\n",
            " 96 85 59 71 74 32 35 26 34 21 93 17  8 48  0 28 84 77 38 62 94 31 36 87\n",
            " 67 23]\n",
            "Round: 13... \tAverage Loss: 7.066\n",
            "[25  7 18 13 16 99 17 74 59 88 27 43 91 95 26 30 39 87 65 97 11 42 80 98\n",
            " 94 23 56 38 54 22 55 70 81 51 92 47 35  6 93 61 85 14  5  9 12 57 46 48\n",
            " 75 71]\n",
            "Round: 14... \tAverage Loss: 7.779\n",
            "[66 92 99  1 69 12  2 30 84 78 51 71 57  9 72 43 47 26 22 44 55 53 17 19\n",
            " 97 81 11 49 82 13 46 29 70 28 31 50 42  5 24 56 60 20 79 88 48 40 16 52\n",
            " 68 95]\n",
            "Round: 15... \tAverage Loss: 7.226\n",
            "[17  7 69 81 53 58 47 46 14 43 45 77 95 18 73 56  5 41 42 68 38 23 33 35\n",
            " 22 16 74 30 13 36 82 88 15 63  4  0 62 55 64 90  3 12 44 99 86  1 54  8\n",
            " 67 40]\n",
            "Round: 16... \tAverage Loss: 8.529\n",
            "[30 89 35 17 91 55 21  1 71 86 24 22 82 31 70 14 93 18 52  9 99 41 33 23\n",
            "  8 48  0 78 44  3 73  6 53 88 16 51 46 19 95 27 49 56 94 96 98 11 39 65\n",
            " 68 76]\n",
            "Round: 17... \tAverage Loss: 7.778\n",
            "[57  6 42 27 12 56  2 81 46 55 29 93 22 43 23 54 25 41 24 98 49 15  5 26\n",
            "  0 34 40 32 96 79  4 82 19 17 95 74 97 48 76 13 58 80 14 30 62 90 60 94\n",
            " 63  3]\n",
            "Round: 18... \tAverage Loss: 7.64\n",
            "[76 97 63 56  9 48 29 18 19  7 81 26 42 68 49 28 72  3 69 95 70 16 75 20\n",
            " 22 36 91 53  8 80 35 65 73 10  0 82 71  1 25 15 67 78 74 44 89  5 40 64\n",
            " 47  4]\n",
            "Round: 19... \tAverage Loss: 8.267\n",
            "[33 67 34 78 20 69 60 18 14 37 89  5 23 64  2 97 36 79 21 76 73 15 51 10\n",
            " 44 66 96 63 94 81 39 31 90 40 65 19 68 61 48 32 87  7 28  1 86  4 26 85\n",
            " 99 74]\n",
            "Round: 20... \tAverage Loss: 7.787\n",
            "Training Done!\n",
            "Total time taken to Train: 674.2248723506927\n"
          ],
          "name": "stdout"
        },
        {
          "output_type": "display_data",
          "data": {
            "image/png": "[encoded data removed]",
            "text/plain": [
              "<Figure size 432x288 with 1 Axes>"
            ]
          },
          "metadata": {
            "tags": [],
            "needs_background": "light"
          }
        }
      ]
    },
    {
      "cell_type": "markdown",
      "metadata": {
        "id": "aTBsL3-72PPd"
      },
      "source": [
        "### Test"
      ]
    },
    {
      "cell_type": "code",
      "metadata": {
        "id": "a9G4j5L62OrS",
        "colab": {
          "base_uri": "https://localhost:8080/"
        },
        "outputId": "c2dece43-1890-4d3b-e286-1b5cee1d6ee9"
      },
      "source": [
        "criterion = nn.CrossEntropyLoss()\n",
        "testing(mnist_mlp_iid_trained, mnist_data_test, 128, criterion, num_classes, classes_test)"
      ],
      "execution_count": 22,
      "outputs": [
        {
          "output_type": "stream",
          "text": [
            "Test Loss: 8.424709\n",
            "\n",
            "Test Accuracy of     0: 43% (33/76)\n",
            "Test Accuracy of     1: 100% (90/90)\n",
            "Test Accuracy of     2: 35% (32/91)\n",
            "Test Accuracy of     3: 10% ( 8/73)\n",
            "Test Accuracy of     4:  1% ( 1/89)\n",
            "Test Accuracy of     5:  1% ( 1/68)\n",
            "Test Accuracy of     6: 24% (15/62)\n",
            "Test Accuracy of     7:  7% ( 6/81)\n",
            "Test Accuracy of     8: 12% (10/77)\n",
            "Test Accuracy of     9:  1% ( 1/83)\n",
            "\n",
            "Final Test  Accuracy: 24.937 (197.0/790.0)\n"
          ],
          "name": "stdout"
        }
      ]
    },
    {
      "cell_type": "markdown",
      "metadata": {
        "id": "w7NddQfAN1uk"
      },
      "source": [
        "#MNIST MLP on Non-IID"
      ]
    },
    {
      "cell_type": "markdown",
      "metadata": {
        "id": "YjGaNhZaRgD-"
      },
      "source": [
        "##Train"
      ]
    },
    {
      "cell_type": "code",
      "metadata": {
        "id": "uR3WgpV7l7ES",
        "colab": {
          "base_uri": "https://localhost:8080/",
          "height": 1000
        },
        "outputId": "2c407e08-f74c-4a06-e4fd-347dfa5a9665"
      },
      "source": [
        "# number of training rounds\n",
        "rounds = 20\n",
        "# client fraction\n",
        "C = 0.5\n",
        "# number of clients\n",
        "K = 100\n",
        "# number of training passes on local dataset for each roung\n",
        "E = 5\n",
        "# batch size\n",
        "batch_size = 10\n",
        "# learning Rate\n",
        "lr=0.05\n",
        "# dict containing different type of data partition\n",
        "data_dict = non_iid_partition(mnist_data_train, 100, 200, 300, 2)\n",
        "# load model\n",
        "mnist_mlp = MNIST_2NN()\n",
        "\n",
        "if torch.cuda.is_available():\n",
        "  mnist_mlp.cuda()\n",
        "\n",
        "mnist_mlp_non_iid_trained = training(mnist_mlp, rounds, batch_size, lr, mnist_data_train, data_dict, C, K, E, \"MNIST MLP on Non-IID Dataset\", \"green\", 0.1)"
      ],
      "execution_count": 23,
      "outputs": [
        {
          "output_type": "stream",
          "text": [
            "[32 16 99 38  1 87 86  3 25 35 97 29 47 51 19 26 95 60  5 37 88 11 78 45\n",
            " 15 48 82 96 27 55  8  6 65 92 36 12 44 94 46 71 14 50 49 74 43 59  9 72\n",
            " 20 53]\n",
            "Round: 1... \tAverage Loss: 0.119\n",
            "[47  4 87 48 24 50 57 26 65 51 39 85 25 17  0 66  7 86 90 15 19 13 73 37\n",
            " 81 71  1 68 53 55 82 58 74 96 35 60 42 63 77 92 34  9 52  3  6 84 83 11\n",
            " 93 14]\n",
            "Round: 2... \tAverage Loss: 2.041\n",
            "[93 69 57 50 18 64 66 94 31 29 26 40 34 21 55 91 83 71  6 11 23 85 53  8\n",
            "  4 46  0 98 76 74  9 41 24 52 48 70 90 27 58 72  1 16 86 73 19 89 14 22\n",
            " 28  2]\n",
            "Round: 3... \tAverage Loss: 3.232\n",
            "[34 67 85 54 93 95 48 50  9 63 18 30 28 59 62 41  7 15  3 22 75 91 44 33\n",
            " 45 25 40 77 32 60 52 99 23 61 13 38 89 76 53  4 81 26 37  2 16 10  1 21\n",
            " 69 19]\n",
            "Round: 4... \tAverage Loss: 3.877\n",
            "[17  7 47 76 28 99 77 86 56 42 24 39 92 95 13 93 89 33 12 40 45 54 61 31\n",
            " 43 30 90 72 26 62 15 34 41 14 49 50 85  3 83 81 44 57 19 64 38 73 22  5\n",
            " 79 75]\n",
            "Round: 5... \tAverage Loss: 3.64\n",
            "[71 51 90 44  5 52  0 36 91 49 29 93 46 41  8 97 18 31 57 13 80 27 63 53\n",
            "  1 89  7 70 55 87 24 21  3 83 99 76 14 32 56 92 82 66 75 33 42 12 23 73\n",
            " 54 10]\n",
            "Round: 6... \tAverage Loss: 4.241\n",
            "[ 3 29  1  9 80 98 28 49 95 73 54 86 60 94 24 52 56 25  4 13 58 10 20 84\n",
            "  2  8 36 90 45 18 38 19 69 79 74 65  7 48 40 82 16 47 50  0 72 77 32 46\n",
            " 31 26]\n",
            "Round: 7... \tAverage Loss: 5.157\n",
            "[28 30 79 62 29 14 52 22 76 32 99 34 89 82 74  4 10 48 71 84 60 68  1 20\n",
            " 61 35 25 57 16 15 58 95 42  2 87  0 96 94 64 86  3 24 51 44  6 92 39 67\n",
            " 59 97]\n",
            "Round: 8... \tAverage Loss: 5.741\n",
            "[51 59 28 25  5  1 85 55 84 82 57 41  9 18 49 78 86 48 16 43 76 67 45 91\n",
            " 69 24 75 74 13 81 26 15 46 58 96 30 89 87 83  0 33 77 12 23 99 11  7 63\n",
            " 47 68]\n",
            "Round: 9... \tAverage Loss: 6.61\n",
            "[26 17 97 90  0 70 43  2 53 61 36 52  4 95 58 89 14 28 41  7 13 91 45 39\n",
            " 93 22 31 27 38 40 73 10 37 65 79 96 29 16 59 69 21  3 60  8 82 71  9 19\n",
            "  1 63]\n",
            "Round: 10... \tAverage Loss: 6.259\n",
            "[22 16 60  4 37 27 50 41 43  8 77 55 83 14 71 20 18 66 96 38  1  2 10 51\n",
            " 81 67 35 26 62 68  5 94 15 23 40 12 36 91 84 52 65  9 90 29 79 64  0 19\n",
            " 33 76]\n",
            "Round: 11... \tAverage Loss: 6.51\n",
            "[99 53 17  5  2 14 18 63 13 52 95 59 65 30 57 72 96 55 60 56 47 16 67 27\n",
            " 34 97 54 24 43 77 35 19 78 50 39 15 58  8 11 82 31  6 29  1  7 40 94 75\n",
            " 71 68]\n",
            "Round: 12... \tAverage Loss: 5.696\n",
            "[88 36 74 19 58 68  1 25 96  7 63  5  3 40 13 29 66 33 15 27 91 14 67 26\n",
            " 49 73 72 62 32 93 12 10 71 42 86 23 95 41 11 77 64 20 21 48 22 76 50 54\n",
            " 38 39]\n",
            "Round: 13... \tAverage Loss: 6.811\n",
            "[89 46  8  3 72 43 54 42 73 88 70 33 64 65 85 77 23 25 30 19 17 36 55 63\n",
            " 99 37 14  4 20 50 32 26  9 22 39 45  1 59 28  5 78 49 82 11 94 96 58 87\n",
            " 56 80]\n",
            "Round: 14... \tAverage Loss: 7.502\n",
            "[43 35 92 42 44 74 77 67 25 41 69 61 62 84 65 32 27 96 22 40 19 21 52 70\n",
            " 20 33 94 31 72 48 23 78 58 49 95 11 66  6 55  2 86 90  7 54  5 26 56 36\n",
            "  9 81]\n",
            "Round: 15... \tAverage Loss: 6.863\n",
            "[43  2 91 32  4 58  5 96 56 50 34 53 74 69 71  8 13 15 93 48 99 61 85 18\n",
            " 22 39 25 87 52 28 97 89 36 16 92 83 12  7 42 35 73 41 76 60 24 86 45 66\n",
            " 27 37]\n",
            "Round: 16... \tAverage Loss: 6.458\n",
            "[79 58 70 66 48 10 87 27 92 39 81 90  2 74 19 11 86 68 55 32 96 60 41 62\n",
            " 20 77 40 94 98 50 31 53 33  8 13 82 71 16 73  4 59 37 99  5 29 17 12 24\n",
            " 91 36]\n",
            "Round: 17... \tAverage Loss: 6.893\n",
            "[90 11 15 88 75 89 77 59 68 37 38 35 81 40 45 65 10 32 95 24  9 63 28 87\n",
            " 50 17 60 43 31 22 92 66 23 64 34 72 47 56  7 36 21 20  2 46 93 94 84 51\n",
            " 74 54]\n",
            "Round: 18... \tAverage Loss: 8.488\n",
            "[92  4 97 15 63 58 54 70 26  6 61 69 67 51 40 62 27 73 72 53 99 36 95  2\n",
            " 33 76 50  3 21 52 39 12 65 91 23 46 47 31 10 78 16 41 14 64 77 89 42 11\n",
            " 32 84]\n",
            "Round: 19... \tAverage Loss: 6.954\n",
            "[38 54  6 78 11 37  3 49 41 52 81 64 85  4 53 79 59 14 99 97 43 63 80 25\n",
            " 68 67 88 35 51 42 66 94 26 71  1 24 32 12  5 10 27 95 82 61 47 46 77 86\n",
            " 62 30]\n",
            "Round: 20... \tAverage Loss: 8.87\n",
            "Training Done!\n",
            "Total time taken to Train: 682.9022731781006\n"
          ],
          "name": "stdout"
        },
        {
          "output_type": "display_data",
          "data": {
            "image/png": "[encoded data removed]",
            "text/plain": [
              "<Figure size 432x288 with 1 Axes>"
            ]
          },
          "metadata": {
            "tags": [],
            "needs_background": "light"
          }
        }
      ]
    },
    {
      "cell_type": "markdown",
      "metadata": {
        "id": "Ia4RWJDwRiIW"
      },
      "source": [
        "##Test"
      ]
    },
    {
      "cell_type": "code",
      "metadata": {
        "colab": {
          "base_uri": "https://localhost:8080/"
        },
        "id": "YPHkKmdZOFFi",
        "outputId": "4631a2d5-5e1c-41d6-86c3-26e1c9bbad8f"
      },
      "source": [
        "criterion = nn.CrossEntropyLoss()\n",
        "testing(mnist_mlp_non_iid_trained, mnist_data_test, 128, criterion, num_classes, classes_test)"
      ],
      "execution_count": 24,
      "outputs": [
        {
          "output_type": "stream",
          "text": [
            "Test Loss: 43.604306\n",
            "\n",
            "Test Accuracy of     0: 27% (21/76)\n",
            "Test Accuracy of     1: 98% (89/90)\n",
            "Test Accuracy of     2: 39% (36/91)\n",
            "Test Accuracy of     3: 30% (22/73)\n",
            "Test Accuracy of     4:  5% ( 5/89)\n",
            "Test Accuracy of     5:  0% ( 0/68)\n",
            "Test Accuracy of     6: 30% (19/62)\n",
            "Test Accuracy of     7:  0% ( 0/81)\n",
            "Test Accuracy of     8:  7% ( 6/77)\n",
            "Test Accuracy of     9:  2% ( 2/83)\n",
            "\n",
            "Final Test  Accuracy: 25.316 (200.0/790.0)\n"
          ],
          "name": "stdout"
        }
      ]
    },
    {
      "cell_type": "markdown",
      "metadata": {
        "id": "7JOrGXijO-n5"
      },
      "source": [
        "#MNIST CNN on IID"
      ]
    },
    {
      "cell_type": "markdown",
      "metadata": {
        "id": "LlfMgPCnPG24"
      },
      "source": [
        "##Train"
      ]
    },
    {
      "cell_type": "code",
      "metadata": {
        "colab": {
          "base_uri": "https://localhost:8080/",
          "height": 1000
        },
        "id": "MQnkaV-kOw7J",
        "outputId": "8d1420cb-54f5-4101-c1d2-8e8e290c55a8"
      },
      "source": [
        "# number of training rounds\n",
        "rounds = 20\n",
        "# client fraction\n",
        "C = 0.5\n",
        "# number of clients\n",
        "K = 100\n",
        "# number of training passes on local dataset for each roung\n",
        "E = 5\n",
        "# batch size\n",
        "batch_size = 10\n",
        "# learning Rate\n",
        "lr=0.05\n",
        "# data partition dictionary\n",
        "iid_dict = iid_partition(mnist_data_train, 100)\n",
        "# load model\n",
        "mnist_cnn = MNIST_CNN()\n",
        "\n",
        "if torch.cuda.is_available():\n",
        "  mnist_cnn.cuda()\n",
        "\n",
        "mnist_cnn_iid_trained = training(mnist_cnn, rounds, batch_size, lr, mnist_data_train, iid_dict, C, K, E, \"MNIST CNN on IID Dataset\", \"orange\", 0.1)"
      ],
      "execution_count": 26,
      "outputs": [
        {
          "output_type": "stream",
          "text": [
            "[63 68 37 23 92 64 33 76 62 84 44 31 77 35 97 17 52  2 86 66 14 57 56 10\n",
            " 55 83 22 81 59  0 21 61  6 58 85 13 16  8 11 49 89 71 26 12 80 36 39 46\n",
            " 65  5]\n",
            "Round: 1... \tAverage Loss: 0.498\n",
            "[59  4 26 20 41 88 39  8 50 67 81 58 24  1 61 68 78 62 79 25 53 99 45  9\n",
            " 55 35 30 87 47 90 97 29  6 71  3 82 72 94 44 42 85 64 23 36 18 37 65 32\n",
            " 95 60]\n",
            "Round: 2... \tAverage Loss: 142.941\n",
            "[ 3 12 26 65 40 33 70 83 86 51 81 15 47 34 31  0 89 54  8 59 69 62 50 49\n",
            " 84 52 18 14 88 30 45 21 42 78 72 22 80 95 39  4 98 60 19 75 29 93  7 23\n",
            " 68  6]\n",
            "Round: 3... \tAverage Loss: 2.299\n",
            "[80 54 22 29 98 12 53 46  9 28 56 97 82 44 34 69 55 84 26 79 71 66 52  6\n",
            " 43 85 40 16 25 63 48 37 31  2 17  4 94 92 39  5 95 15 47  8 78 51 59 90\n",
            " 45 86]\n",
            "Round: 4... \tAverage Loss: 2.3\n",
            "[47 40 36  9 79 98 75 95 12 88 65 20 42 91 28 62 31 92 14 27 51 69 67 38\n",
            " 50 87 25 76 15 64 60 57  0 46 83 24 52 35 74 73  7 97  4 41 21 10 66 56\n",
            " 63 19]\n",
            "Round: 5... \tAverage Loss: 174145683591.733\n",
            "[91 37 12 44  5 82 95  1 73 52  9 22 66 40 42 71  8 20 47 78 11 93 32 54\n",
            " 62 67  6 55  0 59 10 24 28 65 38 72 57 53 64 49 97 35 17 14 39 69 90 74\n",
            " 60 27]\n",
            "Round: 6... \tAverage Loss: 183986188349.275\n",
            "[88 59 35 22 80 14  9 31 95 60 49 96 93 61 68 50  4 44 98  8 79 52 92  3\n",
            " 91 66 62 65 30 25 86  2 73  0 85 84 16 87 43 19 54 23 40 33 75 64 45  7\n",
            " 38  5]\n",
            "Round: 7... \tAverage Loss: 2.299\n",
            "[30 33  9 32 88 66 71 63 37 41 61 85 14 79 36 18 34 91 17 22 55 74 68 47\n",
            " 54 73 96 72 94 89  6 15 43 57 75 48  2 60 29 16 67  4 95 83  8 52  7 87\n",
            " 23 39]\n",
            "Round: 8... \tAverage Loss: 2.299\n",
            "[31 95 81  9 15 48 46 96 59 37 41 30 99 39 87 28 58 65 21 45  6 56 80 64\n",
            " 76 44 19 17 73 72 23 70 66 77 82  3 91 11 75 94 79 93 90 74 63 35 12 68\n",
            " 42 22]\n",
            "Round: 9... \tAverage Loss: 2.299\n",
            "[49 66 78 10 15 61 41 82 56 22 68 40 80 96 98 67 71  4 53 63 79 43 26 64\n",
            " 24 69  9 45 32 48 81 42 36 33 85 77 17 72  0 52 29 70 65 31 99 14 75 76\n",
            " 12 55]\n",
            "Round: 10... \tAverage Loss: 2.299\n",
            "[58 62 85 98 49 67 63  7 71 89 97 64  6 94 99 11 70 38  4 10 17 26 55 73\n",
            " 65 15 37 83  5 31 80 93 50 56 61  0 33 41 30 44 20  1 82 84  9 43 66 68\n",
            " 78 54]\n",
            "Round: 11... \tAverage Loss: 2.299\n",
            "[88 70 11 32 48 82 41 56 22 86 80 74 53 29 58 91 98 28 59 36 54 57 40 99\n",
            "  3 81 50 38 14 20 63  0 37  6 69 17 77  7 23 83 97 27 16 43 31 68 55 18\n",
            " 79 44]\n",
            "Round: 12... \tAverage Loss: 2.299\n",
            "[ 2 27 48  0 16 69  4 17 59 66 63 49 75 29 80 22  9 11  1  3 37 86 15 43\n",
            " 72 95 61 68 99 14 35 57 79 33  8 46 85 42 36 18 90 51 54 56 77 24 92 60\n",
            " 89 55]\n",
            "Round: 13... \tAverage Loss: 2.299\n",
            "[84 72 58 21 55 38 39 61 44 65 73 37 69 30  0 31  4  8 36 35  3 77 88 89\n",
            " 87 46 97 17 52  6 60 75  2 43 59 80 27 33 79 56 53 66 18 98 70 94 24 11\n",
            " 29 14]\n",
            "Round: 14... \tAverage Loss: 2.3\n",
            "[71 20 73 85 31 69 42 49 46 28  5 63  2 75 56 41 19 44  0 95 11 30 77 39\n",
            " 24 53 38 83  4 92 54 87 72 79 66 89 65 43 36  6 90 52 70 55  1  9 47 25\n",
            " 29 40]\n",
            "Round: 15... \tAverage Loss: 2.3\n",
            "[73 80 47 90 32 23 96 66 39 54 55 79 83 97 57 42 38 89 77 25 29 44 40 24\n",
            " 30 95  3 63 65  8 49 61 82 84 45 64 52 17 12 22 50 86 85  4 71  5 60 27\n",
            " 19 10]\n",
            "Round: 16... \tAverage Loss: 2.299\n",
            "[ 9  2 56 92 32 79  7 12 57 77 43  5 30 25 47 26 44 60 33 74 67 78  6 15\n",
            " 39 89 11 34 65 50 27 63 96 75 35 66 90 14 24 19 95 23  4 10 55 40 85 36\n",
            "  1 82]\n",
            "Round: 17... \tAverage Loss: 2.299\n",
            "[26 15 88 73 54 34 70 77 59 47 33 32 18 48 85 11 99 81 66 58 62 91 38 50\n",
            "  5 84  8 60 80 29 74 64 21 24 87 39 13 52 30 53 36 65 90 20 41 12 97 92\n",
            " 71 42]\n",
            "Round: 18... \tAverage Loss: 2.299\n",
            "[17 95 44 90 88 54 21 36 15 86 48 25 57 85 23 20 91 89 59 13 33 19 83 75\n",
            " 64 32 45 98 77 60 62 96 94  0 40 74 38 65 47 87 18 42 49 66 53 76 29 11\n",
            " 93 81]\n",
            "Round: 19... \tAverage Loss: 2.299\n",
            "[61 60 23 82 81 45 72 78 73 18 25 69 66 80 36 86  8 39  9 58 88 32 15 37\n",
            " 44 14 28 65 57 99  2 21 64 24 40 52 97 62 90 92 22 29 38  6 85 47 19 56\n",
            " 68 91]\n",
            "Round: 20... \tAverage Loss: 2.299\n",
            "Training Done!\n",
            "Total time taken to Train: 1010.5403425693512\n"
          ],
          "name": "stdout"
        },
        {
          "output_type": "display_data",
          "data": {
            "image/png": "[encoded data removed]",
            "text/plain": [
              "<Figure size 432x288 with 1 Axes>"
            ]
          },
          "metadata": {
            "tags": [],
            "needs_background": "light"
          }
        }
      ]
    },
    {
      "cell_type": "markdown",
      "metadata": {
        "id": "GYz3JwpNSElQ"
      },
      "source": [
        "##Test"
      ]
    },
    {
      "cell_type": "code",
      "metadata": {
        "colab": {
          "base_uri": "https://localhost:8080/"
        },
        "id": "73iqBgD7R_gK",
        "outputId": "1086c194-8088-4439-a249-509ad83923ff"
      },
      "source": [
        "criterion = nn.CrossEntropyLoss()\n",
        "testing(mnist_cnn_iid_trained, mnist_data_test, 128, criterion, num_classes, classes_test)"
      ],
      "execution_count": 27,
      "outputs": [
        {
          "output_type": "stream",
          "text": [
            "Test Loss: 2.301318\n",
            "\n",
            "Test Accuracy of     0:  0% ( 0/76)\n",
            "Test Accuracy of     1: 100% (90/90)\n",
            "Test Accuracy of     2:  0% ( 0/91)\n",
            "Test Accuracy of     3:  0% ( 0/73)\n",
            "Test Accuracy of     4:  0% ( 0/89)\n",
            "Test Accuracy of     5:  0% ( 0/68)\n",
            "Test Accuracy of     6:  0% ( 0/62)\n",
            "Test Accuracy of     7:  0% ( 0/81)\n",
            "Test Accuracy of     8:  0% ( 0/77)\n",
            "Test Accuracy of     9:  0% ( 0/83)\n",
            "\n",
            "Final Test  Accuracy: 11.392 (90.0/790.0)\n"
          ],
          "name": "stdout"
        }
      ]
    },
    {
      "cell_type": "code",
      "metadata": {
        "id": "cbxdgSyKD2PB"
      },
      "source": [
        ""
      ],
      "execution_count": 27,
      "outputs": []
    },
    {
      "cell_type": "markdown",
      "metadata": {
        "id": "fEuvtdjrXtfF"
      },
      "source": [
        "#MNIST CNN on Non-IID"
      ]
    },
    {
      "cell_type": "markdown",
      "metadata": {
        "id": "Qts5A4ebZ0qT"
      },
      "source": [
        "##Train"
      ]
    },
    {
      "cell_type": "code",
      "metadata": {
        "colab": {
          "base_uri": "https://localhost:8080/",
          "height": 1000
        },
        "id": "PuFptwHCXLBK",
        "outputId": "c7a6b020-b97c-4dc0-e047-eae67a82d686"
      },
      "source": [
        "# number of training rounds\n",
        "rounds = 20\n",
        "# client fraction\n",
        "C = 0.5\n",
        "# number of clients\n",
        "K = 100\n",
        "# number of training passes on local dataset for each roung\n",
        "E = 5\n",
        "# batch size\n",
        "batch_size = 10\n",
        "# learning Rate\n",
        "lr=0.05\n",
        "# dict containing different type of data partition\n",
        "data_dict = non_iid_partition(mnist_data_train, 100, 200, 300, 2)\n",
        "# load model\n",
        "mnist_cnn = MNIST_CNN()\n",
        "\n",
        "if torch.cuda.is_available():\n",
        "  mnist_cnn.cuda()\n",
        "\n",
        "mnist_cnn_non_iid_trained = training(mnist_cnn, rounds, batch_size, lr, mnist_data_train, data_dict, C, K, E, \"MNIST CNN on Non-IID Dataset\", \"green\", 0.1)"
      ],
      "execution_count": 28,
      "outputs": [
        {
          "output_type": "stream",
          "text": [
            "[20 65 12 76 81 40  5 19 95  9 55 22 64 51 45 57 10 33  2 50 54 75 28 42\n",
            "  7  0  6 58 99 27 52  3 26 63 94 90 18 77 86 91 78 96 98 48 36 59  8 15\n",
            " 24 93]\n",
            "Round: 1... \tAverage Loss: 0.118\n",
            "[10 60 32 29 67 26 51  8 38 85 80 92 42 17 81  5 12 30 79  6 77 35 90 63\n",
            " 88  1 49  7 40 73 68 78 82 54 25 39 36 94 64 72 11 96 45 86 13 62 33 15\n",
            " 46 57]\n",
            "Round: 2... \tAverage Loss: 218851.007\n",
            "[34 16 32 81 79 59 14 85  4 38 60 73 76 43 30 88 55 42 69 24 19 48 93 96\n",
            " 31 39 94 86 77  5 15 13 47 68 51 58 23  3 57 40 50 44 97  1 53 28 22 91\n",
            " 25 80]\n",
            "Round: 3... \tAverage Loss: 0.988\n",
            "[99 55 68 86 29 94 90  6 44 47 93 21 25 31 97 43 80 12 61 72 24 77  3 91\n",
            " 42 87 33  8  7 83 76 58 69 26 46 13 52 62 98 39 16 48 71 45 73  5 38 79\n",
            "  0 18]\n",
            "Round: 4... \tAverage Loss: 0.973\n",
            "[24 19  1 13 11 22 12 62 35 15 46 63 75 44 65 45  0 30 47 66  3 39 67 31\n",
            " 23 51 26 49  4 20 18 64 25  6 40 17 93 29 60 48 21 92 53 91 94 57 42 98\n",
            " 82 33]\n",
            "Round: 5... \tAverage Loss: 0.999\n",
            "[85 68 75 51 71 98 17 83 84 92 54 39 19 34 18 60 61 25 48 73 82 89 80 72\n",
            " 20 45 33 44 62 56 76 64 55 70 37 35 31 79 30 27 40  6 47 32 67 91  1 94\n",
            "  8 87]\n",
            "Round: 6... \tAverage Loss: 0.992\n",
            "[62 27 24 15 45 86 51 69  4 96  1 74 12  2 94 82 23  8  3 49 63 48 99 50\n",
            " 17 55 76 30 31 81 44 29 47 40 85 65 19 97 66 87 10 72 80 54 53 90 46 59\n",
            " 42 11]\n",
            "Round: 7... \tAverage Loss: 1.001\n",
            "[19 85 45 92 60 43 78 16 65 98  4 86 90 40 44 39 35 21 37  0 27 32 34 87\n",
            " 75 54 55 63 28  5 64 53 23 42 62 91 82 66 58 47 12 52 24 67  9 79 84 93\n",
            " 38 68]\n",
            "Round: 8... \tAverage Loss: 0.974\n",
            "[72 99 75 34 41 19 27 92  5 93  3 42 15 26 85 11 49 63 67 60 98  8 37 14\n",
            " 13 48 36  9 51 50 59 77  0 80 74 44 79 32 43 30 86  7 64  6 91 83 84 29\n",
            " 82 76]\n",
            "Round: 9... \tAverage Loss: 0.992\n",
            "[69  4 71 94 97 92 86  1 98 47 80 59 58 84  5 68 82 89 51 85 37 12 28 30\n",
            " 32 75 16 38 83 19 67 91  3 42 40 27 34 17 55 44 49 13 21 72 61 43 53 33\n",
            " 48 39]\n",
            "Round: 10... \tAverage Loss: 0.987\n",
            "[83 75 20 69 80 96 82 44 26 14 77 81 38 93 17  0 37 12 58 13 67 25  7 55\n",
            " 56 63 35 94 49 16 70  3 32 21  2 45 39 74 60 62 65 30  9 10  1 33 43 90\n",
            " 11 24]\n",
            "Round: 11... \tAverage Loss: 1.011\n",
            "[59 66 26 15 60 43 90 92 23  4 81 42 11  0 29 91 24 54 36 56 20 63  5  1\n",
            " 41 30 32 44  2 13  9 57 49 75 79 17 82 37 19 39  8 64 50 58 67 70  6 72\n",
            " 94 14]\n",
            "Round: 12... \tAverage Loss: 0.997\n",
            "[28 73 80  1 94 18 50 43 41 63 64 13  9 49 83 12 54 66 78 26 20 15 55 30\n",
            " 81 58 70 85 68 29 47 17 44 24 25 60 75 99 36 31 97  8 90 35 51 34 10 16\n",
            " 19 79]\n",
            "Round: 13... \tAverage Loss: 0.996\n",
            "[46 23 86 92 77 67 66 65 59 72 44 21 20 10  0 62  5 13 75 87 60 76 63 85\n",
            " 95  3 39 79 55 53 16  1 29 42  2 36 25 99 68 33 84 27  9 50 61 73  6 58\n",
            " 31  8]\n",
            "Round: 14... \tAverage Loss: 1.01\n",
            "[30 41 97 52 47 34 93 71 45 96 92 11 40 67  7 61 54 20 25 26 51 18 87 98\n",
            " 28 39 32 15 58 79  5  9 27 36  3 53 50  2 75 21 56 99 17  6 88 48 95 69\n",
            " 66 12]\n",
            "Round: 15... \tAverage Loss: 0.987\n",
            "[91 75 10 68  3 94  7 19 84 87 16  9 21  4 59 76 98 81 64 40 22 50 30 83\n",
            " 32 69 96 31 71 73 15 17 56 29 45 66 97 60 65 41 49 35 14 80  0 58 23 72\n",
            " 52 47]\n",
            "Round: 16... \tAverage Loss: 0.979\n",
            "[46 62 18 11 10 13 26 54 83 20 12  3 59 94 34 75 47 72 48 53 84 99  2 16\n",
            " 81 27 21 41 44 17 67  7 29 24 36 63 90 69 43 51 65 78 42 85 38 19  9  0\n",
            " 56 39]\n",
            "Round: 17... \tAverage Loss: 0.991\n",
            "[51 67 36 81 80 27 15 72 69 71 94 87 32 96 35 85 28 26 63 41 53 33  9 37\n",
            " 50 59 54 21 74 65 73 45 47 43 88 25  8 29 23 40 83 12 93 38 97  5 64 68\n",
            "  3 24]\n",
            "Round: 18... \tAverage Loss: 0.995\n",
            "[80 40 74 70 94 62 51 26  1 82 47 33 68 38 90 63 99 57 77 34  7 32 37 14\n",
            " 67 81 75 31 83 65 18 48 49 17 35 44 10 52 71 54 98 11 86 84 29 92 19 89\n",
            "  0  9]\n",
            "Round: 19... \tAverage Loss: 0.984\n",
            "[43 52 17 89 92 29 67 81 77 18 13 69 27 94 20 15 31 84 25 14 49 51 60 23\n",
            " 46 90 65 53 88 12 95 22 34 41 16 37 72 50 74 86 71 66  9  3 78 56 70 82\n",
            " 55 19]\n",
            "Round: 20... \tAverage Loss: 0.988\n",
            "Training Done!\n",
            "Total time taken to Train: 1007.8189158439636\n"
          ],
          "name": "stdout"
        },
        {
          "output_type": "display_data",
          "data": {
            "image/png": "[encoded data removed]",
            "text/plain": [
              "<Figure size 432x288 with 1 Axes>"
            ]
          },
          "metadata": {
            "tags": [],
            "needs_background": "light"
          }
        }
      ]
    },
    {
      "cell_type": "markdown",
      "metadata": {
        "id": "Vz5AZ8_zZzMr"
      },
      "source": [
        "##Test"
      ]
    },
    {
      "cell_type": "code",
      "metadata": {
        "colab": {
          "base_uri": "https://localhost:8080/"
        },
        "id": "Vzej8P--Zltk",
        "outputId": "dc3dd0ee-0883-4bbc-93d6-176f0d3568fc"
      },
      "source": [
        "criterion = nn.CrossEntropyLoss()\n",
        "testing(mnist_cnn_non_iid_trained, mnist_data_test, 128, criterion, num_classes, classes_test)"
      ],
      "execution_count": 29,
      "outputs": [
        {
          "output_type": "stream",
          "text": [
            "Test Loss: 2.311738\n",
            "\n",
            "Test Accuracy of     0:  0% ( 0/76)\n",
            "Test Accuracy of     1:  0% ( 0/90)\n",
            "Test Accuracy of     2:  0% ( 0/91)\n",
            "Test Accuracy of     3:  0% ( 0/73)\n",
            "Test Accuracy of     4: 100% (89/89)\n",
            "Test Accuracy of     5:  0% ( 0/68)\n",
            "Test Accuracy of     6:  0% ( 0/62)\n",
            "Test Accuracy of     7:  0% ( 0/81)\n",
            "Test Accuracy of     8:  0% ( 0/77)\n",
            "Test Accuracy of     9:  0% ( 0/83)\n",
            "\n",
            "Final Test  Accuracy: 11.266 (89.0/790.0)\n"
          ],
          "name": "stdout"
        }
      ]
    },
    {
      "cell_type": "code",
      "metadata": {
        "id": "oGR_Fq6GZ3HS"
      },
      "source": [
        ""
      ],
      "execution_count": null,
      "outputs": []
    }
  ]
}