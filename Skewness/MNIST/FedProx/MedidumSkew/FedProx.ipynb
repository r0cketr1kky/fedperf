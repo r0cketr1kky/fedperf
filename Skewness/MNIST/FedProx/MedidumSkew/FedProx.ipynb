{
  "nbformat": 4,
  "nbformat_minor": 0,
  "metadata": {
    "accelerator": "GPU",
    "colab": {
      "name": "FedProx.ipynb",
      "provenance": [],
      "collapsed_sections": [],
      "machine_shape": "hm"
    },
    "kernelspec": {
      "name": "python3",
      "display_name": "Python 3"
    },
    "language_info": {
      "name": "python"
    }
  },
  "cells": [
    {
      "cell_type": "markdown",
      "metadata": {
        "id": "view-in-github"
      },
      "source": [
        "<a href=\"https://colab.research.google.com/github/tushar-semwal/fedperf/blob/main/Vineeth/Local_Rounds/FedProx/FedProx.ipynb\" target=\"_parent\"><img src=\"https://colab.research.google.com/assets/colab-badge.svg\" alt=\"Open In Colab\"/></a>"
      ]
    },
    {
      "cell_type": "code",
      "metadata": {
        "id": "yKcpjZLrQQJV"
      },
      "source": [
        "%%capture output\n",
        "try:\n",
        "    from google.colab import drive\n",
        "    drive.mount('/content/drive')\n",
        "\n",
        "    import os\n",
        "    path = '/content/drive/MyDrive/Colab Notebooks/OpenMined/'\n",
        "    os.makedirs(path, exist_ok=True)\n",
        "except:\n",
        "    path = './'"
      ],
      "execution_count": 122,
      "outputs": []
    },
    {
      "cell_type": "markdown",
      "metadata": {
        "id": "-0_nKpfq2h1R"
      },
      "source": [
        "## Imports"
      ]
    },
    {
      "cell_type": "code",
      "metadata": {
        "colab": {
          "base_uri": "https://localhost:8080/"
        },
        "id": "DLLNM9X2JbQ8",
        "outputId": "fb04940b-5f90-4ff4-b8e7-214a86a8724d"
      },
      "source": [
        "%load_ext tensorboard\n",
        "import os\n",
        "import numpy as np\n",
        "import matplotlib\n",
        "import matplotlib.pyplot as plt\n",
        "import copy\n",
        "import random\n",
        "import time\n",
        "\n",
        "import torch\n",
        "import torch.nn as nn\n",
        "import torch.nn.functional as F\n",
        "\n",
        "from torch.utils.data import Dataset, DataLoader\n",
        "from torch.utils.tensorboard import SummaryWriter\n",
        "from torchvision import transforms, utils, datasets\n",
        "from torchsummary import summary\n",
        "\n",
        "\n",
        "# Check assigned GPU\n",
        "gpu_info = !nvidia-smi\n",
        "gpu_info = '\\n'.join(gpu_info)\n",
        "if gpu_info.find('failed') >= 0:\n",
        "  print('Select the Runtime > \"Change runtime type\" menu to enable a GPU accelerator, ')\n",
        "  print('and then re-execute this cell.')\n",
        "else:\n",
        "  print(gpu_info)\n",
        "\n",
        "# set manual seed for reproducibility\n",
        "seed = 42\n",
        "\n",
        "# general reproducibility\n",
        "random.seed(seed)\n",
        "np.random.seed(seed)\n",
        "torch.manual_seed(seed)\n",
        "\n",
        "# gpu training specific\n",
        "torch.backends.cudnn.deterministic = True\n",
        "torch.backends.cudnn.benchmark = False"
      ],
      "execution_count": 123,
      "outputs": [
        {
          "output_type": "stream",
          "text": [
            "The tensorboard extension is already loaded. To reload it, use:\n",
            "  %reload_ext tensorboard\n",
            "Thu Apr 22 09:50:14 2021       \n",
            "+-----------------------------------------------------------------------------+\n",
            "| NVIDIA-SMI 460.67       Driver Version: 460.32.03    CUDA Version: 11.2     |\n",
            "|-------------------------------+----------------------+----------------------+\n",
            "| GPU  Name        Persistence-M| Bus-Id        Disp.A | Volatile Uncorr. ECC |\n",
            "| Fan  Temp  Perf  Pwr:Usage/Cap|         Memory-Usage | GPU-Util  Compute M. |\n",
            "|                               |                      |               MIG M. |\n",
            "|===============================+======================+======================|\n",
            "|   0  Tesla T4            Off  | 00000000:00:04.0 Off |                    0 |\n",
            "| N/A   64C    P0    29W /  70W |   1174MiB / 15109MiB |      0%      Default |\n",
            "|                               |                      |                  N/A |\n",
            "+-------------------------------+----------------------+----------------------+\n",
            "                                                                               \n",
            "+-----------------------------------------------------------------------------+\n",
            "| Processes:                                                                  |\n",
            "|  GPU   GI   CI        PID   Type   Process name                  GPU Memory |\n",
            "|        ID   ID                                                   Usage      |\n",
            "|=============================================================================|\n",
            "+-----------------------------------------------------------------------------+\n"
          ],
          "name": "stdout"
        }
      ]
    },
    {
      "cell_type": "markdown",
      "metadata": {
        "id": "NY4eWzGiL6Mj"
      },
      "source": [
        "## Load the MNIST Dataset"
      ]
    },
    {
      "cell_type": "code",
      "metadata": {
        "id": "41lWlknqo3pI"
      },
      "source": [
        "torch.cuda.set_device('cuda:0')"
      ],
      "execution_count": 124,
      "outputs": []
    },
    {
      "cell_type": "code",
      "metadata": {
        "id": "G649tjTXLL8F"
      },
      "source": [
        "# create transforms\n",
        "# We will just convert to tensor and normalize since no special transforms are mentioned in the paper\n",
        "transforms_mnist = transforms.Compose([\n",
        "                                       transforms.ToTensor(),\n",
        "                                       transforms.Normalize((0.1307,), (0.3081,))\n",
        "                                       ])\n",
        "\n",
        "mnist_data_train = datasets.MNIST('./data/mnist/', train=True, download=True, transform=transforms_mnist)\n",
        "mnist_data_test = datasets.MNIST('../data/mnist/', train=False, download=True, transform=transforms_mnist)"
      ],
      "execution_count": 125,
      "outputs": []
    },
    {
      "cell_type": "code",
      "metadata": {
        "colab": {
          "base_uri": "https://localhost:8080/"
        },
        "id": "dm9usjn2vFkL",
        "outputId": "ff81c041-5c4f-4160-e9a9-22b1367dd70f"
      },
      "source": [
        "classes = np.array(list(mnist_data_train.class_to_idx.values()))\n",
        "classes_test = np.array(list(mnist_data_test.class_to_idx.values()))\n",
        "num_classes = len(classes_test)\n",
        "print(\"Classes: {} \\tType: {}\".format(classes, type(classes)))\n",
        "print(\"Classes Test: {} \\tType: {}\".format(classes_test, type(classes)))\n"
      ],
      "execution_count": 126,
      "outputs": [
        {
          "output_type": "stream",
          "text": [
            "Classes: [0 1 2 3 4 5 6 7 8 9] \tType: <class 'numpy.ndarray'>\n",
            "Classes Test: [0 1 2 3 4 5 6 7 8 9] \tType: <class 'numpy.ndarray'>\n"
          ],
          "name": "stdout"
        }
      ]
    },
    {
      "cell_type": "code",
      "metadata": {
        "colab": {
          "base_uri": "https://localhost:8080/"
        },
        "id": "9lvJt3Ofv2SO",
        "outputId": "0dbef986-22d3-4207-98b8-a9959959159a"
      },
      "source": [
        "print(\"Image Shape: {}\".format(mnist_data_train.data[0].size()))"
      ],
      "execution_count": 127,
      "outputs": [
        {
          "output_type": "stream",
          "text": [
            "Image Shape: torch.Size([28, 28])\n"
          ],
          "name": "stdout"
        }
      ]
    },
    {
      "cell_type": "markdown",
      "metadata": {
        "id": "jCOONkg-zV7Y"
      },
      "source": [
        "## Visualize Data"
      ]
    },
    {
      "cell_type": "code",
      "metadata": {
        "id": "R9MK03TZw6Qs"
      },
      "source": [
        "def imshow(img):\n",
        "\timg = img/2 + 0.5 #unnormalize the image\n",
        "\tplt.imshow(img, cmap='gray') # convert from tensor to image"
      ],
      "execution_count": 128,
      "outputs": []
    },
    {
      "cell_type": "code",
      "metadata": {
        "id": "gMJ0Kx4Kw-_H"
      },
      "source": [
        "def visualize(dataset):\n",
        "  figure = plt.figure(figsize=(25,4))\n",
        "  for i in range(20):\n",
        "    axis = figure.add_subplot(2, 20/2, i+1, xticks=[], yticks=[])\n",
        "    data = dataset.data[i]\n",
        "    data = data.numpy()\n",
        "\n",
        "    target = dataset.targets[i]\n",
        "    target = target.numpy()\n",
        "    imshow(data)\n",
        "    axis.set_title(target)\n"
      ],
      "execution_count": 129,
      "outputs": []
    },
    {
      "cell_type": "code",
      "metadata": {
        "colab": {
          "base_uri": "https://localhost:8080/",
          "height": 249
        },
        "id": "8bPOwKg10Ro7",
        "outputId": "cc72ecb4-8116-4445-b60a-61d6481e4012"
      },
      "source": [
        "visualize(mnist_data_train)"
      ],
      "execution_count": 130,
      "outputs": [
        {
          "output_type": "display_data",
          "data": {
            "image/png": "[encoded data removed]",
            "text/plain": [
              "<Figure size 1800x288 with 20 Axes>"
            ]
          },
          "metadata": {
            "tags": []
          }
        }
      ]
    },
    {
      "cell_type": "code",
      "metadata": {
        "colab": {
          "base_uri": "https://localhost:8080/",
          "height": 249
        },
        "id": "RKoh5Cf70UYu",
        "outputId": "0dd3cb5c-2698-4dcc-c3c1-bf1c6afc50c4"
      },
      "source": [
        "visualize(mnist_data_test)"
      ],
      "execution_count": 131,
      "outputs": [
        {
          "output_type": "display_data",
          "data": {
            "image/png": "[encoded data removed]",
            "text/plain": [
              "<Figure size 1800x288 with 20 Axes>"
            ]
          },
          "metadata": {
            "tags": []
          }
        }
      ]
    },
    {
      "cell_type": "markdown",
      "metadata": {
        "id": "ctjRsETiO1qO"
      },
      "source": [
        "## Partitioning the Data (IID and non-IID)"
      ]
    },
    {
      "cell_type": "code",
      "metadata": {
        "id": "3_v8lyrgO5dD"
      },
      "source": [
        "def iid_partition(dataset, clients):\n",
        "  \"\"\"\n",
        "  I.I.D paritioning of data over clients\n",
        "  Shuffle the data\n",
        "  Split it between clients\n",
        "  \n",
        "  params:\n",
        "    - dataset (torch.utils.Dataset): Dataset containing the MNIST Images\n",
        "    - clients (int): Number of Clients to split the data between\n",
        "\n",
        "  returns:\n",
        "    - Dictionary of image indexes for each client\n",
        "  \"\"\"\n",
        "\n",
        "  num_items_per_client = int(len(dataset)/clients)\n",
        "  client_dict = {}\n",
        "  image_idxs = [i for i in range(len(dataset))]\n",
        "\n",
        "  for i in range(clients):\n",
        "    client_dict[i] = set(np.random.choice(image_idxs, num_items_per_client, replace=False))\n",
        "    image_idxs = list(set(image_idxs) - client_dict[i])\n",
        "\n",
        "  return client_dict"
      ],
      "execution_count": 132,
      "outputs": []
    },
    {
      "cell_type": "code",
      "metadata": {
        "id": "4zMdliGMQoSl"
      },
      "source": [
        "def non_iid_partition(dataset, clients, total_shards, shards_size, num_shards_per_client):\n",
        "  \"\"\"\n",
        "  non I.I.D parititioning of data over clients\n",
        "  Sort the data by the digit label\n",
        "  Divide the data into N shards of size S\n",
        "  Each of the clients will get X shards\n",
        "\n",
        "  params:\n",
        "    - dataset (torch.utils.Dataset): Dataset containing the MNIST Images\n",
        "    - clients (int): Number of Clients to split the data between\n",
        "    - total_shards (int): Number of shards to partition the data in\n",
        "    - shards_size (int): Size of each shard \n",
        "    - num_shards_per_client (int): Number of shards of size shards_size that each client receives\n",
        "\n",
        "  returns:\n",
        "    - Dictionary of image indexes for each client\n",
        "  \"\"\"\n",
        "  \n",
        "  shard_idxs = [i for i in range(total_shards)]\n",
        "  client_dict = {i: np.array([], dtype='int64') for i in range(clients)}\n",
        "  idxs = np.arange(len(dataset))\n",
        "  data_labels = dataset.targets.numpy()\n",
        "\n",
        "  # sort the labels\n",
        "  label_idxs = np.vstack((idxs, data_labels))\n",
        "  label_idxs = label_idxs[:, label_idxs[1,:].argsort()]\n",
        "  idxs = label_idxs[0,:]\n",
        "\n",
        "  # divide the data into total_shards of size shards_size\n",
        "  # assign num_shards_per_client to each client\n",
        "  for i in range(clients):\n",
        "    rand_set = set(np.random.choice(shard_idxs, num_shards_per_client, replace=False))\n",
        "    shard_idxs = list(set(shard_idxs) - rand_set)\n",
        "\n",
        "    for rand in rand_set:\n",
        "      client_dict[i] = np.concatenate((client_dict[i], idxs[rand*shards_size:(rand+1)*shards_size]), axis=0)\n",
        "  \n",
        "  return client_dict\n",
        "\n",
        "\n",
        "\n"
      ],
      "execution_count": 133,
      "outputs": []
    },
    {
      "cell_type": "markdown",
      "metadata": {
        "id": "PTfxv8kFoGAy"
      },
      "source": [
        "## Models"
      ]
    },
    {
      "cell_type": "code",
      "metadata": {
        "id": "CvoDNFKbZST5"
      },
      "source": [
        "class MNIST_2NN(nn.Module):\n",
        "  \"\"\"\n",
        "  A simple multilayer-perceptron with 2-hidden layers with 200 units each\n",
        "  using ReLu activations\n",
        "\n",
        "  Total Expected Params: 199,210\n",
        "  \"\"\"\n",
        "  def __init__(self):\n",
        "    super(MNIST_2NN, self).__init__()\n",
        "\n",
        "    self.fc1 = nn.Linear(28*28, 200)\n",
        "    self.fc2 = nn.Linear(200, 200)\n",
        "    self.fc3 = nn.Linear(200, 10)\n",
        "\n",
        "  def forward(self, x):\n",
        "    x = torch.flatten(x, 1)\n",
        "    x = F.relu(self.fc1(x))\n",
        "    x = F.relu(self.fc2(x))\n",
        "    out = self.fc3(x)\n",
        "\n",
        "    return x"
      ],
      "execution_count": 134,
      "outputs": []
    },
    {
      "cell_type": "code",
      "metadata": {
        "id": "ut1hZ8x3qYPZ"
      },
      "source": [
        "class MNIST_CNN(nn.Module):\n",
        "  \"\"\"\n",
        "  CNN with two 5x5 convolution lauers(the first with 32 channels, second with 64,\n",
        "  each followed with 2x2 max pooling), a fully connected layer with 512 uunits and \n",
        "  ReLu activation, and the final Softmax output layer\n",
        "\n",
        "  Total Expected Params: 1,663,370\n",
        "  \"\"\"\n",
        "  def __init__(self):\n",
        "    super(MNIST_CNN, self).__init__()\n",
        "\n",
        "    self.conv1 = nn.Conv2d(1, 32, kernel_size=5)\n",
        "    self.conv2 = nn.Conv2d(32, 64, kernel_size=5)\n",
        "    \n",
        "    self.pool = nn.MaxPool2d(2,2)\n",
        "    self.dropout = nn.Dropout(p=0.2)\n",
        "\n",
        "    self.fc1 = nn.Linear(1024, 512)\n",
        "    self.out = nn.Linear(512, 10)\n",
        "\n",
        "  def forward(self, x):\n",
        "    x = self.pool(F.relu(self.conv1(x)))\n",
        "    x = self.pool(F.relu(self.conv2(x)))\n",
        "    x = self.dropout(x)\n",
        "    x = torch.flatten(x, 1)\n",
        "    x = F.relu(self.fc1(x))\n",
        "    x = self.out(x)\n",
        "    out = F.log_softmax(x, dim=1)\n",
        "\n",
        "    return out"
      ],
      "execution_count": 135,
      "outputs": []
    },
    {
      "cell_type": "markdown",
      "metadata": {
        "id": "uVv4HA9HuLtr"
      },
      "source": [
        "### Print Model Summaries"
      ]
    },
    {
      "cell_type": "code",
      "metadata": {
        "colab": {
          "base_uri": "https://localhost:8080/"
        },
        "id": "I5oTH710sJEt",
        "outputId": "af9dfaf1-6a2b-4d4d-f7e9-72cdf0f411fb"
      },
      "source": [
        "mnist_mlp = MNIST_2NN()\n",
        "mnist_cnn = MNIST_CNN()\n",
        "\n",
        "if torch.cuda.is_available():\n",
        "  mnist_mlp.cuda()\n",
        "  mnist_cnn.cuda()\n",
        "\n",
        "print(\"MNIST MLP SUMMARY\")\n",
        "print(summary(mnist_mlp, (28,28)))\n",
        "\n",
        "print(\"\\nMNIST CNN SUMMARY\")\n",
        "print(summary(mnist_cnn, (1, 28,28)))"
      ],
      "execution_count": 136,
      "outputs": [
        {
          "output_type": "stream",
          "text": [
            "MNIST MLP SUMMARY\n",
            "----------------------------------------------------------------\n",
            "        Layer (type)               Output Shape         Param #\n",
            "================================================================\n",
            "            Linear-1                  [-1, 200]         157,000\n",
            "            Linear-2                  [-1, 200]          40,200\n",
            "            Linear-3                   [-1, 10]           2,010\n",
            "================================================================\n",
            "Total params: 199,210\n",
            "Trainable params: 199,210\n",
            "Non-trainable params: 0\n",
            "----------------------------------------------------------------\n",
            "Input size (MB): 0.00\n",
            "Forward/backward pass size (MB): 0.00\n",
            "Params size (MB): 0.76\n",
            "Estimated Total Size (MB): 0.77\n",
            "----------------------------------------------------------------\n",
            "None\n",
            "\n",
            "MNIST CNN SUMMARY\n",
            "----------------------------------------------------------------\n",
            "        Layer (type)               Output Shape         Param #\n",
            "================================================================\n",
            "            Conv2d-1           [-1, 32, 24, 24]             832\n",
            "         MaxPool2d-2           [-1, 32, 12, 12]               0\n",
            "            Conv2d-3             [-1, 64, 8, 8]          51,264\n",
            "         MaxPool2d-4             [-1, 64, 4, 4]               0\n",
            "           Dropout-5             [-1, 64, 4, 4]               0\n",
            "            Linear-6                  [-1, 512]         524,800\n",
            "            Linear-7                   [-1, 10]           5,130\n",
            "================================================================\n",
            "Total params: 582,026\n",
            "Trainable params: 582,026\n",
            "Non-trainable params: 0\n",
            "----------------------------------------------------------------\n",
            "Input size (MB): 0.00\n",
            "Forward/backward pass size (MB): 0.23\n",
            "Params size (MB): 2.22\n",
            "Estimated Total Size (MB): 2.45\n",
            "----------------------------------------------------------------\n",
            "None\n"
          ],
          "name": "stdout"
        }
      ]
    },
    {
      "cell_type": "markdown",
      "metadata": {
        "id": "JYXicM_FjSv6"
      },
      "source": [
        "## FedProx"
      ]
    },
    {
      "cell_type": "markdown",
      "metadata": {
        "id": "cjGMTWxAOsf1"
      },
      "source": [
        "### Systems Heterogeneity Simulations\n",
        "\n",
        "Generate epochs for selected clients based on percentage of devices that corresponds to heterogeneity. \n",
        "\n",
        "Assign x number of epochs (chosen unifirmly at random between [1, E]) to 0%, 50% or 90% of the selected devices, respectively. Settings where 0% devices perform fewer than E epochs of work correspond to the environments without system heterogeneity, while 90% of the devices sending their partial solutions corresponds to highly heterogenous system."
      ]
    },
    {
      "cell_type": "code",
      "metadata": {
        "id": "i-WTHuT3OpFD"
      },
      "source": [
        "def GenerateLocalEpochs(percentage, size, max_epochs):\n",
        "  ''' Method generates list of epochs for selected clients\n",
        "  to replicate system heteroggeneity\n",
        "\n",
        "  Params:\n",
        "    percentage: percentage of clients to have fewer than E epochs\n",
        "    size:       total size of the list\n",
        "    max_epochs: maximum value for local epochs\n",
        "  \n",
        "  Returns:\n",
        "    List of size epochs for each Client Update\n",
        "\n",
        "  '''\n",
        "\n",
        "  # if percentage is 0 then each client runs for E epochs\n",
        "  if percentage == 0:\n",
        "      return np.array([max_epochs]*size)\n",
        "  else:\n",
        "    # get the number of clients to have fewer than E epochs\n",
        "    heterogenous_size = int((percentage/100) * size)\n",
        "\n",
        "    # generate random uniform epochs of heterogenous size between 1 and E\n",
        "    epoch_list = np.random.randint(1, max_epochs, heterogenous_size)\n",
        "\n",
        "    # the rest of the clients will have E epochs\n",
        "    remaining_size = size - heterogenous_size\n",
        "    rem_list = [max_epochs]*remaining_size\n",
        "\n",
        "    epoch_list = np.append(epoch_list, rem_list, axis=0)\n",
        "    \n",
        "    # shuffle the list and return\n",
        "    np.random.shuffle(epoch_list)\n",
        "\n",
        "    return epoch_list"
      ],
      "execution_count": 137,
      "outputs": []
    },
    {
      "cell_type": "markdown",
      "metadata": {
        "id": "gf_8XEXa-gZ7"
      },
      "source": [
        "## Federated Averaging"
      ]
    },
    {
      "cell_type": "markdown",
      "metadata": {
        "id": "L-aNdQsQ-Kvp"
      },
      "source": [
        "### Local Training (Client Update)\n",
        "\n",
        "Local training for the model on client side"
      ]
    },
    {
      "cell_type": "code",
      "metadata": {
        "id": "oX6OsQyO-Gz7"
      },
      "source": [
        "class CustomDataset(Dataset):\n",
        "  def __init__(self, dataset, idxs):\n",
        "      self.dataset = dataset\n",
        "      self.idxs = list(idxs)\n",
        "\n",
        "  def __len__(self):\n",
        "      return len(self.idxs)\n",
        "\n",
        "  def __getitem__(self, item):\n",
        "      image, label = self.dataset[self.idxs[item]]\n",
        "      return image, label\n",
        "\n",
        "\n",
        "class ClientUpdate(object):\n",
        "  def __init__(self, dataset, batchSize, learning_rate, epochs, idxs, mu, algorithm):\n",
        "    self.train_loader = DataLoader(CustomDataset(dataset, idxs), batch_size=batchSize, shuffle=True)\n",
        "    self.algorithm = algorithm\n",
        "    self.learning_rate = learning_rate\n",
        "    self.epochs = epochs\n",
        "\n",
        "  def train(self, model):\n",
        "    criterion = nn.CrossEntropyLoss()\n",
        "    proximal_criterion = nn.MSELoss(reduction='mean')\n",
        "    optimizer = torch.optim.SGD(model.parameters(), lr=self.learning_rate, momentum=0.5)\n",
        "\n",
        "    # use the weights of global model for proximal term calculation\n",
        "    global_model = copy.deepcopy(model)\n",
        "\n",
        "    # calculate local training time\n",
        "    start_time = time.time()\n",
        "\n",
        "\n",
        "    e_loss = []\n",
        "    for epoch in range(1, self.epochs+1):\n",
        "\n",
        "      train_loss = 0.0\n",
        "\n",
        "      model.train()\n",
        "      for data, labels in self.train_loader:\n",
        "\n",
        "        if torch.cuda.is_available():\n",
        "          data, labels = data.cuda(), labels.cuda()\n",
        "\n",
        "        # clear the gradients\n",
        "        optimizer.zero_grad()\n",
        "        # make a forward pass\n",
        "        output = model(data)\n",
        "\n",
        "        # calculate the loss + the proximal term\n",
        "        _, pred = torch.max(output, 1)\n",
        "\n",
        "        if self.algorithm == 'fedprox':\n",
        "          proximal_term = 0.0\n",
        "\n",
        "          # iterate through the current and global model parameters\n",
        "          for w, w_t in zip(model.parameters(), global_model.parameters()) :\n",
        "            # update the proximal term \n",
        "            #proximal_term += torch.sum(torch.abs((w-w_t)**2))\n",
        "            proximal_term += (w-w_t).norm(2)\n",
        "\n",
        "          loss = criterion(output, labels) + (mu/2)*proximal_term\n",
        "        else:\n",
        "          loss = criterion(output, labels)\n",
        "    \n",
        "        # do a backwards pass\n",
        "        loss.backward()\n",
        "        # perform a single optimization step\n",
        "        optimizer.step()\n",
        "        # update training loss\n",
        "        train_loss += loss.item()*data.size(0)\n",
        "\n",
        "      # average losses\n",
        "      train_loss = train_loss/len(self.train_loader.dataset)\n",
        "      e_loss.append(train_loss)\n",
        "\n",
        "    total_loss = sum(e_loss)/len(e_loss)\n",
        "\n",
        "    return model.state_dict(), total_loss, (time.time() - start_time)"
      ],
      "execution_count": 138,
      "outputs": []
    },
    {
      "cell_type": "markdown",
      "metadata": {
        "id": "Ukgh1DVHE2Ds"
      },
      "source": [
        "### Server Side Training\n",
        "\n",
        "Following Algorithm 1 from the paper"
      ]
    },
    {
      "cell_type": "code",
      "metadata": {
        "id": "1NF1e33BgpeL"
      },
      "source": [
        "def training(model, rounds, batch_size, lr, ds, ds_test, data_dict, C, K, E, mu, percentage, plt_title, plt_color, target_test_accuracy, algorithm=\"fedprox\"):\n",
        "  \"\"\"\n",
        "  Function implements the Federated Averaging Algorithm from the FedAvg paper.\n",
        "  Specifically, this function is used for the server side training and weight update\n",
        "\n",
        "  Params:\n",
        "    - model:           PyTorch model to train\n",
        "    - rounds:          Number of communication rounds for the client update\n",
        "    - batch_size:      Batch size for client update training\n",
        "    - lr:              Learning rate used for client update training\n",
        "    - ds:              Dataset used for training\n",
        "    - ds_test:         Dataset used for testing\n",
        "    - data_dict:       Type of data partition used for training (IID or non-IID)\n",
        "    - C:               Fraction of clients randomly chosen to perform computation on each round\n",
        "    - K:               Total number of clients\n",
        "    - E:               Number of training passes each client makes over its local dataset per round\n",
        "    - tb_writer_name:  Directory name to save the tensorboard logs\n",
        "  Returns:\n",
        "    - model:           Trained model on the server\n",
        "  \"\"\"\n",
        "\n",
        "  # global model weights\n",
        "  global_weights = model.state_dict()\n",
        "\n",
        "  # training loss\n",
        "  # train_accuracy = []\n",
        "  train_loss = []\n",
        "  test_accuracy = []\n",
        "  test_loss = []\n",
        "\n",
        "  # store last loss for convergence\n",
        "  last_loss = 0.0\n",
        "\n",
        "  # total time taken \n",
        "  total_time = 0\n",
        "  start = time.time()\n",
        "    \n",
        "  print(f\"System heterogeneity set to {percentage}% stragglers.\\n\")\n",
        "  print(f\"Picking {max(int(C*K),1 )} random clients per round.\\n\")\n",
        "\n",
        "  for curr_round in range(1, rounds+1):\n",
        "    w, local_loss, lst_local_train_time = [], [], []\n",
        "\n",
        "    m = max(int(C*K), 1)\n",
        "\n",
        "    heterogenous_epoch_list = GenerateLocalEpochs(percentage, size=m, max_epochs=E)\n",
        "    heterogenous_epoch_list = np.array(heterogenous_epoch_list)\n",
        "\n",
        "    S_t = np.random.choice(range(K), m, replace=False)\n",
        "    S_t = np.array(S_t)\n",
        "    \n",
        "    # For Federated Averaging, drop all the clients that are stragglers\n",
        "    if algorithm == 'fedavg':\n",
        "      stragglers_indices = np.argwhere(heterogenous_epoch_list < E)\n",
        "      heterogenous_epoch_list = np.delete(heterogenous_epoch_list, stragglers_indices)\n",
        "      S_t = np.delete(S_t, stragglers_indices)\n",
        "\n",
        "    for k, epoch in zip(S_t, heterogenous_epoch_list):\n",
        "      local_update = ClientUpdate(dataset=ds, batchSize=batch_size, learning_rate=lr, epochs=epoch, idxs=data_dict[k], mu=mu, algorithm=algorithm)\n",
        "      weights, loss, local_train_time = local_update.train(model=copy.deepcopy(model))\n",
        "\n",
        "      w.append(copy.deepcopy(weights))\n",
        "      local_loss.append(copy.deepcopy(loss))\n",
        "      lst_local_train_time.append(local_train_time)\n",
        "\n",
        "    # calculate time to update the global weights\n",
        "    global_start_time = time.time()\n",
        "\n",
        "    # updating the global weights\n",
        "    weights_avg = copy.deepcopy(w[0])\n",
        "    for k in weights_avg.keys():\n",
        "      for i in range(1, len(w)):\n",
        "        weights_avg[k] += w[i][k]\n",
        "\n",
        "      weights_avg[k] = torch.div(weights_avg[k], len(w))\n",
        "\n",
        "    global_weights = weights_avg\n",
        "    global_end_time = time.time()\n",
        "\n",
        "    # calculate total time \n",
        "    total_time += (global_end_time - global_start_time) + sum(lst_local_train_time)/len(lst_local_train_time)\n",
        "\n",
        "    # move the updated weights to our model state dict\n",
        "    model.load_state_dict(global_weights)\n",
        "\n",
        "    # loss\n",
        "    loss_avg = sum(local_loss) / len(local_loss)\n",
        "\n",
        "    # test accuracy\n",
        "    criterion = nn.CrossEntropyLoss()\n",
        "    test_accuracy_current, test_loss_current = testing(copy.deepcopy(model), ds_test, 128, criterion, num_classes, classes_test)\n",
        "    test_accuracy.append(test_accuracy_current)\n",
        "    test_loss.append(test_loss_current)\n",
        "\n",
        "    print(f\"Round: {curr_round}... \\tAverage Train Loss: {round(loss_avg, 3)}... \\tTest Loss: {test_loss_current}... \\tTest Accuracy: {test_accuracy_current}\")\n",
        "    train_loss.append(loss_avg)\n",
        "\n",
        "#     # break if we achieve the target test accuracy\n",
        "#     if test_accuracy_current >= target_test_accuracy:\n",
        "#       rounds = curr_round\n",
        "#       break\n",
        "\n",
        "    # # break if we achieve convergence, i.e., loss between two consecutive rounds is <0.0001\n",
        "    # if algorithm == 'fedprox' and abs(loss_avg - last_loss) < 0.0001:\n",
        "    #   rounds = curr_round\n",
        "    #   break\n",
        "    \n",
        "    # update the last loss\n",
        "    last_loss = loss_avg\n",
        "\n",
        "  end = time.time()\n",
        "\n",
        "  # plot train loss\n",
        "  fig, ax = plt.subplots()\n",
        "  x_axis = np.arange(1, rounds+1)\n",
        "  y_axis = np.array(train_loss)\n",
        "  ax.plot(x_axis, y_axis)\n",
        "\n",
        "  ax.set(xlabel='Number of Rounds', ylabel='Train Loss', title=plt_title)\n",
        "  ax.grid()\n",
        "  fig.savefig(plt_title+'_Train_loss.jpg', format='jpg')\n",
        "  plt.show()\n",
        "\n",
        "  fig, ax = plt.subplots()\n",
        "  x_axis = np.arange(1, rounds+1)\n",
        "  y_axis = np.array(test_loss)\n",
        "  ax.plot(x_axis, y_axis, 'tab:'+plt_color)\n",
        "\n",
        "  ax.set(xlabel='Number of Rounds', ylabel='Test Loss', title=plt_title)\n",
        "  ax.grid()\n",
        "  fig.savefig(plt_title+'_Test_loss.jpg', format='jpg')\n",
        "  plt.show()\n",
        "\n",
        "\n",
        "  fig, ax = plt.subplots()\n",
        "  x_axis = np.arange(1, rounds+1)\n",
        "  y_axis = np.array(test_accuracy)\n",
        "  ax.plot(x_axis, y_axis, 'tab:'+plt_color)\n",
        "\n",
        "  ax.set(xlabel='Number of Rounds', ylabel='Test Accuracy', title=plt_title)\n",
        "  ax.grid()\n",
        "  fig.savefig(plt_title+'_Test_Accuracy.jpg', format='jpg')\n",
        "  plt.show()\n",
        "  \n",
        "  print(\"Training Done!\")\n",
        "  print(\"Total time taken to Train: {}\\n\\n\".format(end-start))\n",
        "  \n",
        "  return model, train_loss, test_accuracy, test_loss"
      ],
      "execution_count": 139,
      "outputs": []
    },
    {
      "cell_type": "markdown",
      "metadata": {
        "id": "tUYyb4T-uXmF"
      },
      "source": [
        "## Testing Loop"
      ]
    },
    {
      "cell_type": "code",
      "metadata": {
        "id": "uCcIZmO5uan9"
      },
      "source": [
        "def testing(model, dataset, bs, criterion, num_classes, classes, print_info=False):\n",
        "  #test loss \n",
        "  test_loss = 0.0\n",
        "  correct_class = list(0. for i in range(num_classes))\n",
        "  total_class = list(0. for i in range(num_classes))\n",
        "\n",
        "  test_loader = DataLoader(dataset, batch_size=bs)\n",
        "  l = len(test_loader)\n",
        "  model.eval()\n",
        "  for data, labels in test_loader:\n",
        "\n",
        "    if torch.cuda.is_available():\n",
        "      data, labels = data.cuda(), labels.cuda()\n",
        "\n",
        "    output = model(data)\n",
        "    loss = criterion(output, labels)\n",
        "    test_loss += loss.item()*data.size(0)\n",
        "\n",
        "    _, pred = torch.max(output, 1)\n",
        "\n",
        "    correct_tensor = pred.eq(labels.data.view_as(pred))\n",
        "    correct = np.squeeze(correct_tensor.numpy()) if not torch.cuda.is_available() else np.squeeze(correct_tensor.cpu().numpy())\n",
        "\n",
        "    #test accuracy for each object class\n",
        "    for i in range(num_classes):\n",
        "      label = labels.data[i]\n",
        "      correct_class[label] += correct[i].item()\n",
        "      total_class[label] += 1\n",
        "    \n",
        "  # avg test loss\n",
        "  test_loss = test_loss/len(test_loader.dataset)\n",
        "  test_accuracy = 100. * np.sum(correct_class) / np.sum(total_class)\n",
        "\n",
        "  if print_info:\n",
        "    print(\"Test Loss: {:.6f}\\n\".format(test_loss))\n",
        "\n",
        "    for i in range(10):\n",
        "      if total_class[i]>0:\n",
        "        print('Test Accuracy of %5s: %2d%% (%2d/%2d)' % \n",
        "              (classes[i], 100 * correct_class[i] / total_class[i],\n",
        "              np.sum(correct_class[i]), np.sum(total_class[i])))\n",
        "      else:\n",
        "        print('Test Accuracy of %5s: N/A (no training examples)' % (classes[i]))\n",
        "\n",
        "    print('\\nFinal Test  Accuracy: {:.3f} ({}/{})'.format(\n",
        "          100. * np.sum(correct_class) / np.sum(total_class),\n",
        "          np.sum(correct_class), np.sum(total_class)))\n",
        "  \n",
        "  return test_accuracy, test_loss"
      ],
      "execution_count": 140,
      "outputs": []
    },
    {
      "cell_type": "markdown",
      "metadata": {
        "id": "Ri0FqXFeHW-V"
      },
      "source": [
        "## Logger"
      ]
    },
    {
      "cell_type": "code",
      "metadata": {
        "id": "thZm2kSiHT4v"
      },
      "source": [
        "log_dict = {}\n",
        "NUM_REPEAT = 1"
      ],
      "execution_count": 141,
      "outputs": []
    },
    {
      "cell_type": "markdown",
      "metadata": {
        "id": "4hO5oV6aXqeh"
      },
      "source": [
        "## MNIST CNN on IID"
      ]
    },
    {
      "cell_type": "markdown",
      "metadata": {
        "id": "flSQv_P4zCfx"
      },
      "source": [
        "### Train\n"
      ]
    },
    {
      "cell_type": "code",
      "metadata": {
        "id": "0ZalcKZtEseA"
      },
      "source": [
        "# train_loss_multiple_runs = [None] * NUM_REPEAT\n",
        "# test_accuracy_multiple_runs = [None] * NUM_REPEAT\n",
        "# test_loss_multiple_runs = [None] * NUM_REPEAT\n",
        "\n",
        "# for exp_num in range(NUM_REPEAT):\n",
        "#   print(\"Experiment Run Number: \", exp_num)\n",
        "\n",
        "#   # number of training rounds\n",
        "#   rounds = 50\n",
        "#   # client fraction\n",
        "#   C = 0.1\n",
        "#   # number of clients\n",
        "#   K = 100\n",
        "#   # number of training passes on local dataset for each roung\n",
        "#   E = 5\n",
        "#   # batch size\n",
        "#   batch_size = 10\n",
        "#   # learning Rate\n",
        "#   lr = 0.05\n",
        "#   # proximal term constant\n",
        "#   mu = 0.01\n",
        "#   # percentage of clients to have fewer than E epochs\n",
        "#   percentage = 50\n",
        "\n",
        "#   # target_test_accuracy\n",
        "#   target_test_accuracy=99.0\n",
        "#   # data partition dictionary\n",
        "#   iid_dict = iid_partition(mnist_data_train, 100)\n",
        "#   # load model\n",
        "#   mnist_cnn = MNIST_CNN()\n",
        "\n",
        "#   if torch.cuda.is_available():\n",
        "#     mnist_cnn.cuda()\n",
        "\n",
        "#   mnist_cnn_iid_trained, train_loss, test_accuracy, test_loss = training(mnist_cnn, rounds, batch_size, lr, mnist_data_train, mnist_data_test, iid_dict, C, K, E, mu, percentage, \"MNIST CNN on IID Dataset\", \"orange\", target_test_accuracy)\n",
        "\n",
        "#   train_loss_multiple_runs[exp_num] = train_loss\n",
        "#   test_accuracy_multiple_runs[exp_num] = test_accuracy\n",
        "#   test_loss_multiple_runs[exp_num] = test_loss"
      ],
      "execution_count": 142,
      "outputs": []
    },
    {
      "cell_type": "markdown",
      "metadata": {
        "id": "wNwC82przF6G"
      },
      "source": [
        "### Test"
      ]
    },
    {
      "cell_type": "code",
      "metadata": {
        "id": "qB97BFs9we9w",
        "colab": {
          "base_uri": "https://localhost:8080/"
        },
        "outputId": "bb96a233-8021-4f4e-fa86-76f33dea2819"
      },
      "source": [
        "criterion = nn.CrossEntropyLoss()\n",
        "acc, loss = testing(mnist_cnn_iid_trained, mnist_data_test, 128, criterion, num_classes, classes_test, True)"
      ],
      "execution_count": 143,
      "outputs": [
        {
          "output_type": "stream",
          "text": [
            "Test Loss: 0.091998\n",
            "\n",
            "Test Accuracy of     0: 97% (74/76)\n",
            "Test Accuracy of     1: 98% (89/90)\n",
            "Test Accuracy of     2: 97% (89/91)\n",
            "Test Accuracy of     3: 98% (72/73)\n",
            "Test Accuracy of     4: 100% (89/89)\n",
            "Test Accuracy of     5: 97% (66/68)\n",
            "Test Accuracy of     6: 96% (60/62)\n",
            "Test Accuracy of     7: 98% (80/81)\n",
            "Test Accuracy of     8: 98% (76/77)\n",
            "Test Accuracy of     9: 97% (81/83)\n",
            "\n",
            "Final Test  Accuracy: 98.228 (776.0/790.0)\n"
          ],
          "name": "stdout"
        }
      ]
    },
    {
      "cell_type": "code",
      "metadata": {
        "id": "gdQZEZmHHeqt"
      },
      "source": [
        "hyperparams = {'rounds': rounds,\n",
        "               'C': C,\n",
        "               'K': K,\n",
        "               'E': E,\n",
        "               'batch_size': batch_size,\n",
        "               'lr': lr,\n",
        "               'mu': mu,\n",
        "               'percentage': percentage,\n",
        "               'target_test_accuracy': target_test_accuracy,\n",
        "               }\n",
        "\n",
        "log_dict['MNIST CNN on IID'] = {'train_loss': train_loss_multiple_runs, \n",
        "                                'test_loss': test_loss_multiple_runs, \n",
        "                                'test_accuracy': test_accuracy_multiple_runs,\n",
        "                                'hyperparams': hyperparams,\n",
        "                                }"
      ],
      "execution_count": 144,
      "outputs": []
    },
    {
      "cell_type": "markdown",
      "metadata": {
        "id": "uF8MdSIUYcnl"
      },
      "source": [
        "## MNIST CNN on Non IID"
      ]
    },
    {
      "cell_type": "markdown",
      "metadata": {
        "id": "a6wXX7JW11bx"
      },
      "source": [
        "### Train\n"
      ]
    },
    {
      "cell_type": "code",
      "metadata": {
        "id": "fCD3kBCKYfBK",
        "colab": {
          "base_uri": "https://localhost:8080/",
          "height": 1000
        },
        "outputId": "cbe80df6-841d-4895-d4ef-228018d40e5a"
      },
      "source": [
        "train_loss_multiple_runs = [None] * NUM_REPEAT\n",
        "test_accuracy_multiple_runs = [None] * NUM_REPEAT\n",
        "test_loss_multiple_runs = [None] * NUM_REPEAT\n",
        "\n",
        "for exp_num in range(NUM_REPEAT):\n",
        "  print(\"Experiment Run Number: \", exp_num)\n",
        "\n",
        "  # number of training rounds\n",
        "  rounds = 50\n",
        "  # client fraction\n",
        "  C = 0.1\n",
        "  # number of clients\n",
        "  K = 100\n",
        "  # number of training passes on local dataset for each roung\n",
        "  E = 5\n",
        "  # batch size\n",
        "  batch_size = 10\n",
        "  # learning Rate\n",
        "  lr=0.05\n",
        "  # proximal term constant\n",
        "  mu = 0.01\n",
        "  # percentage of clients to have fewer than E epochs\n",
        "  percentage = 50\n",
        "  # target_test_accuracy\n",
        "  target_test_accuracy=99.0\n",
        "\n",
        "  # dict containing different type of data partition\n",
        "  data_dict = non_iid_partition(mnist_data_train, 100, 500, 120, 5)\n",
        "  # load model\n",
        "  mnist_cnn = MNIST_CNN()\n",
        "\n",
        "  if torch.cuda.is_available():\n",
        "    mnist_cnn.cuda()\n",
        "\n",
        "  mnist_cnn_non_iid_trained, train_loss, test_accuracy, test_loss = training(mnist_cnn, rounds, batch_size, lr, mnist_data_train, mnist_data_test, data_dict, C, K, E,mu, percentage, \"MNIST CNN on Non-IID Dataset\", \"green\", target_test_accuracy)\n",
        "\n",
        "  train_loss_multiple_runs[exp_num] = train_loss\n",
        "  test_accuracy_multiple_runs[exp_num] = test_accuracy\n",
        "  test_loss_multiple_runs[exp_num] = test_loss"
      ],
      "execution_count": 145,
      "outputs": [
        {
          "output_type": "stream",
          "text": [
            "Experiment Run Number:  0\n",
            "System heterogeneity set to 50% stragglers.\n",
            "\n",
            "Picking 10 random clients per round.\n",
            "\n",
            "Round: 1... \tAverage Train Loss: 0.367... \tTest Loss: 1.8523011213302611... \tTest Accuracy: 61.51898734177215\n",
            "Round: 2... \tAverage Train Loss: 0.175... \tTest Loss: 0.7315332097053527... \tTest Accuracy: 80.0\n",
            "Round: 3... \tAverage Train Loss: 0.118... \tTest Loss: 0.26132256019115446... \tTest Accuracy: 94.17721518987342\n",
            "Round: 4... \tAverage Train Loss: 0.095... \tTest Loss: 0.1867505638718605... \tTest Accuracy: 93.54430379746836\n",
            "Round: 5... \tAverage Train Loss: 0.106... \tTest Loss: 0.12835656963586808... \tTest Accuracy: 96.58227848101266\n",
            "Round: 6... \tAverage Train Loss: 0.065... \tTest Loss: 0.11345071885585785... \tTest Accuracy: 96.32911392405063\n",
            "Round: 7... \tAverage Train Loss: 0.06... \tTest Loss: 0.11988453224152326... \tTest Accuracy: 97.0886075949367\n",
            "Round: 8... \tAverage Train Loss: 0.053... \tTest Loss: 0.09432302541211247... \tTest Accuracy: 97.0886075949367\n",
            "Round: 9... \tAverage Train Loss: 0.058... \tTest Loss: 0.0734088832270354... \tTest Accuracy: 97.9746835443038\n",
            "Round: 10... \tAverage Train Loss: 0.06... \tTest Loss: 0.09120297871977091... \tTest Accuracy: 96.70886075949367\n",
            "Round: 11... \tAverage Train Loss: 0.058... \tTest Loss: 0.06876550688333809... \tTest Accuracy: 98.22784810126582\n",
            "Round: 12... \tAverage Train Loss: 0.051... \tTest Loss: 0.06623244079388678... \tTest Accuracy: 98.10126582278481\n",
            "Round: 13... \tAverage Train Loss: 0.053... \tTest Loss: 0.0635308912370354... \tTest Accuracy: 97.9746835443038\n",
            "Round: 14... \tAverage Train Loss: 0.04... \tTest Loss: 0.055616375708393756... \tTest Accuracy: 98.35443037974683\n",
            "Round: 15... \tAverage Train Loss: 0.051... \tTest Loss: 0.051665731059759856... \tTest Accuracy: 98.48101265822785\n",
            "Round: 16... \tAverage Train Loss: 0.034... \tTest Loss: 0.051256576036009936... \tTest Accuracy: 98.60759493670886\n",
            "Round: 17... \tAverage Train Loss: 0.039... \tTest Loss: 0.05249313221303746... \tTest Accuracy: 98.35443037974683\n",
            "Round: 18... \tAverage Train Loss: 0.03... \tTest Loss: 0.05450937987149227... \tTest Accuracy: 98.60759493670886\n",
            "Round: 19... \tAverage Train Loss: 0.033... \tTest Loss: 0.061083045359887185... \tTest Accuracy: 97.84810126582279\n",
            "Round: 20... \tAverage Train Loss: 0.033... \tTest Loss: 0.05266735153235495... \tTest Accuracy: 98.10126582278481\n",
            "Round: 21... \tAverage Train Loss: 0.032... \tTest Loss: 0.04475260572703555... \tTest Accuracy: 98.9873417721519\n",
            "Round: 22... \tAverage Train Loss: 0.039... \tTest Loss: 0.04318761237002909... \tTest Accuracy: 98.86075949367088\n",
            "Round: 23... \tAverage Train Loss: 0.026... \tTest Loss: 0.04211942357015796... \tTest Accuracy: 99.11392405063292\n",
            "Round: 24... \tAverage Train Loss: 0.027... \tTest Loss: 0.03977721407329664... \tTest Accuracy: 98.86075949367088\n",
            "Round: 25... \tAverage Train Loss: 0.045... \tTest Loss: 0.042367767295148226... \tTest Accuracy: 98.60759493670886\n",
            "Round: 26... \tAverage Train Loss: 0.028... \tTest Loss: 0.03831929489381146... \tTest Accuracy: 99.24050632911393\n",
            "Round: 27... \tAverage Train Loss: 0.026... \tTest Loss: 0.04194120174401905... \tTest Accuracy: 99.11392405063292\n",
            "Round: 28... \tAverage Train Loss: 0.028... \tTest Loss: 0.03992158537630457... \tTest Accuracy: 99.36708860759494\n",
            "Round: 29... \tAverage Train Loss: 0.03... \tTest Loss: 0.03585642512161285... \tTest Accuracy: 99.24050632911393\n",
            "Round: 30... \tAverage Train Loss: 0.033... \tTest Loss: 0.03521611345000565... \tTest Accuracy: 98.9873417721519\n",
            "Round: 31... \tAverage Train Loss: 0.027... \tTest Loss: 0.03779086614539847... \tTest Accuracy: 99.24050632911393\n",
            "Round: 32... \tAverage Train Loss: 0.023... \tTest Loss: 0.03726301433714107... \tTest Accuracy: 98.9873417721519\n",
            "Round: 33... \tAverage Train Loss: 0.046... \tTest Loss: 0.03535980437602848... \tTest Accuracy: 98.9873417721519\n",
            "Round: 34... \tAverage Train Loss: 0.029... \tTest Loss: 0.03470734470523894... \tTest Accuracy: 99.49367088607595\n",
            "Round: 35... \tAverage Train Loss: 0.033... \tTest Loss: 0.0348000775762368... \tTest Accuracy: 99.11392405063292\n",
            "Round: 36... \tAverage Train Loss: 0.023... \tTest Loss: 0.033312974629248496... \tTest Accuracy: 99.36708860759494\n",
            "Round: 37... \tAverage Train Loss: 0.025... \tTest Loss: 0.03385835566989845... \tTest Accuracy: 99.36708860759494\n",
            "Round: 38... \tAverage Train Loss: 0.034... \tTest Loss: 0.035396278739301484... \tTest Accuracy: 99.36708860759494\n",
            "Round: 39... \tAverage Train Loss: 0.019... \tTest Loss: 0.030725064573716373... \tTest Accuracy: 99.24050632911393\n",
            "Round: 40... \tAverage Train Loss: 0.016... \tTest Loss: 0.03173095702675637... \tTest Accuracy: 99.49367088607595\n",
            "Round: 41... \tAverage Train Loss: 0.041... \tTest Loss: 0.04467942885123193... \tTest Accuracy: 98.73417721518987\n",
            "Round: 42... \tAverage Train Loss: 0.024... \tTest Loss: 0.03664977555421647... \tTest Accuracy: 99.24050632911393\n",
            "Round: 43... \tAverage Train Loss: 0.022... \tTest Loss: 0.03261857434625272... \tTest Accuracy: 99.49367088607595\n",
            "Round: 44... \tAverage Train Loss: 0.037... \tTest Loss: 0.03984765809737146... \tTest Accuracy: 98.9873417721519\n",
            "Round: 45... \tAverage Train Loss: 0.019... \tTest Loss: 0.03448866006731987... \tTest Accuracy: 99.36708860759494\n",
            "Round: 46... \tAverage Train Loss: 0.022... \tTest Loss: 0.03088989426076878... \tTest Accuracy: 99.62025316455696\n",
            "Round: 47... \tAverage Train Loss: 0.026... \tTest Loss: 0.0308281558053568... \tTest Accuracy: 99.36708860759494\n",
            "Round: 48... \tAverage Train Loss: 0.016... \tTest Loss: 0.032488471483957254... \tTest Accuracy: 99.36708860759494\n",
            "Round: 49... \tAverage Train Loss: 0.029... \tTest Loss: 0.033440116227511314... \tTest Accuracy: 99.62025316455696\n",
            "Round: 50... \tAverage Train Loss: 0.026... \tTest Loss: 0.030196984048001467... \tTest Accuracy: 99.74683544303798\n"
          ],
          "name": "stdout"
        },
        {
          "output_type": "display_data",
          "data": {
            "image/png": "[encoded data removed]",
            "text/plain": [
              "<Figure size 432x288 with 1 Axes>"
            ]
          },
          "metadata": {
            "tags": [],
            "needs_background": "light"
          }
        },
        {
          "output_type": "display_data",
          "data": {
            "image/png": "[encoded data removed]",
            "text/plain": [
              "<Figure size 432x288 with 1 Axes>"
            ]
          },
          "metadata": {
            "tags": [],
            "needs_background": "light"
          }
        },
        {
          "output_type": "display_data",
          "data": {
            "image/png": "[encoded data removed]",
            "text/plain": [
              "<Figure size 432x288 with 1 Axes>"
            ]
          },
          "metadata": {
            "tags": [],
            "needs_background": "light"
          }
        },
        {
          "output_type": "stream",
          "text": [
            "Training Done!\n",
            "Total time taken to Train: 604.6470332145691\n",
            "\n",
            "\n"
          ],
          "name": "stdout"
        }
      ]
    },
    {
      "cell_type": "markdown",
      "metadata": {
        "id": "4C68J-Kk14dB"
      },
      "source": [
        "### Test"
      ]
    },
    {
      "cell_type": "code",
      "metadata": {
        "id": "_yQ9GiAZ15jE",
        "colab": {
          "base_uri": "https://localhost:8080/"
        },
        "outputId": "4af2af53-90ab-4359-f40f-ad02bda1452f"
      },
      "source": [
        "criterion = nn.CrossEntropyLoss()\n",
        "acc, loss = testing(mnist_cnn_non_iid_trained, mnist_data_test, 128, criterion, num_classes, classes_test, True)"
      ],
      "execution_count": 146,
      "outputs": [
        {
          "output_type": "stream",
          "text": [
            "Test Loss: 0.030197\n",
            "\n",
            "Test Accuracy of     0: 100% (76/76)\n",
            "Test Accuracy of     1: 100% (90/90)\n",
            "Test Accuracy of     2: 100% (91/91)\n",
            "Test Accuracy of     3: 98% (72/73)\n",
            "Test Accuracy of     4: 100% (89/89)\n",
            "Test Accuracy of     5: 98% (67/68)\n",
            "Test Accuracy of     6: 100% (62/62)\n",
            "Test Accuracy of     7: 100% (81/81)\n",
            "Test Accuracy of     8: 100% (77/77)\n",
            "Test Accuracy of     9: 100% (83/83)\n",
            "\n",
            "Final Test  Accuracy: 99.747 (788.0/790.0)\n"
          ],
          "name": "stdout"
        }
      ]
    },
    {
      "cell_type": "code",
      "metadata": {
        "id": "dxMcxgLhLvX-"
      },
      "source": [
        "hyperparams = {'rounds': rounds,\n",
        "               'C': C,\n",
        "               'K': K,\n",
        "               'E': E,\n",
        "               'batch_size': batch_size,\n",
        "               'lr': lr,\n",
        "               'mu': mu,\n",
        "               'percentage': percentage,\n",
        "               'target_test_accuracy': target_test_accuracy,\n",
        "               }\n",
        "\n",
        "log_dict['MNIST CNN on Non IID'] = {'train_loss': train_loss_multiple_runs, \n",
        "                                'test_loss': test_loss_multiple_runs, \n",
        "                                'test_accuracy': test_accuracy_multiple_runs,\n",
        "                                'hyperparams': hyperparams,\n",
        "                                }"
      ],
      "execution_count": 147,
      "outputs": []
    },
    {
      "cell_type": "markdown",
      "metadata": {
        "id": "z_jifdzniuhm"
      },
      "source": [
        "## MNIST MLP on IID"
      ]
    },
    {
      "cell_type": "markdown",
      "metadata": {
        "id": "uh-te0Od2XGO"
      },
      "source": [
        "### Train"
      ]
    },
    {
      "cell_type": "code",
      "metadata": {
        "id": "UmpWmKOQixVV"
      },
      "source": [
        "# train_loss_multiple_runs = [None] * NUM_REPEAT\n",
        "# test_accuracy_multiple_runs = [None] * NUM_REPEAT\n",
        "# test_loss_multiple_runs = [None] * NUM_REPEAT\n",
        "\n",
        "# for exp_num in range(NUM_REPEAT):\n",
        "#   print(\"Experiment Run Number: \", exp_num)\n",
        "\n",
        "#   # number of training rounds\n",
        "#   rounds = 50\n",
        "#   # client fraction\n",
        "#   C = 0.1\n",
        "#   # number of clients\n",
        "#   K = 100\n",
        "#   # number of training passes on local dataset for each round\n",
        "#   E = 5\n",
        "#   # batch size\n",
        "#   batch_size = 10\n",
        "#   # learning Rate\n",
        "#   lr = 0.05\n",
        "#   # proximal term constant\n",
        "#   mu = 0.01\n",
        "#   # percentage of clients to have fewer than E epochs\n",
        "#   percentage = 50\n",
        "#   # target_test_accuracy\n",
        "#   target_test_accuracy=94.0\n",
        "#   # dict containing different type of data partition\n",
        "#   data_dict = iid_partition(mnist_data_train, 100)\n",
        "#   # load model\n",
        "#   mnist_mlp = MNIST_2NN()\n",
        "\n",
        "#   if torch.cuda.is_available():\n",
        "#     mnist_mlp.cuda()\n",
        "\n",
        "#   mnist_mlp_iid_trained, train_loss, test_accuracy, test_loss = training(mnist_mlp, rounds, batch_size, lr, mnist_data_train, mnist_data_test, data_dict, C, K, E, mu, percentage, \"MNIST MLP on IID Dataset\", \"orange\", target_test_accuracy)\n",
        "  \n",
        "#   train_loss_multiple_runs[exp_num] = train_loss\n",
        "#   test_accuracy_multiple_runs[exp_num] = test_accuracy\n",
        "#   test_loss_multiple_runs[exp_num] = test_loss"
      ],
      "execution_count": 148,
      "outputs": []
    },
    {
      "cell_type": "markdown",
      "metadata": {
        "id": "aTBsL3-72PPd"
      },
      "source": [
        "### Test"
      ]
    },
    {
      "cell_type": "code",
      "metadata": {
        "id": "a9G4j5L62OrS",
        "colab": {
          "base_uri": "https://localhost:8080/"
        },
        "outputId": "c627c447-8c98-4c06-8382-a1700eec87dd"
      },
      "source": [
        "criterion = nn.CrossEntropyLoss()\n",
        "acc, loss = testing(mnist_mlp_iid_trained, mnist_data_test, 128, criterion, num_classes, classes_test, True)"
      ],
      "execution_count": 149,
      "outputs": [
        {
          "output_type": "stream",
          "text": [
            "Test Loss: 0.229407\n",
            "\n",
            "Test Accuracy of     0: 96% (73/76)\n",
            "Test Accuracy of     1: 96% (87/90)\n",
            "Test Accuracy of     2: 95% (87/91)\n",
            "Test Accuracy of     3: 94% (69/73)\n",
            "Test Accuracy of     4: 96% (86/89)\n",
            "Test Accuracy of     5: 89% (61/68)\n",
            "Test Accuracy of     6: 96% (60/62)\n",
            "Test Accuracy of     7: 93% (76/81)\n",
            "Test Accuracy of     8: 97% (75/77)\n",
            "Test Accuracy of     9: 92% (77/83)\n",
            "\n",
            "Final Test  Accuracy: 95.063 (751.0/790.0)\n"
          ],
          "name": "stdout"
        }
      ]
    },
    {
      "cell_type": "code",
      "metadata": {
        "id": "fWCdJFRCL_f2"
      },
      "source": [
        "hyperparams = {'rounds': rounds,\n",
        "               'C': C,\n",
        "               'K': K,\n",
        "               'E': E,\n",
        "               'batch_size': batch_size,\n",
        "               'lr': lr,\n",
        "               'mu': mu,\n",
        "               'percentage': percentage,\n",
        "               'target_test_accuracy': target_test_accuracy,\n",
        "               }\n",
        "\n",
        "log_dict['MNIST MLP on IID'] = {'train_loss': train_loss_multiple_runs, \n",
        "                                'test_loss': test_loss_multiple_runs, \n",
        "                                'test_accuracy': test_accuracy_multiple_runs,\n",
        "                                'hyperparams': hyperparams,\n",
        "                                }"
      ],
      "execution_count": 150,
      "outputs": []
    },
    {
      "cell_type": "markdown",
      "metadata": {
        "id": "J8jzEyO0iywz"
      },
      "source": [
        "## MNIST MLP on Non IID"
      ]
    },
    {
      "cell_type": "markdown",
      "metadata": {
        "id": "pJFepr3y2bF-"
      },
      "source": [
        "### Train"
      ]
    },
    {
      "cell_type": "code",
      "metadata": {
        "id": "EBKO44Hgi1Uh",
        "colab": {
          "base_uri": "https://localhost:8080/",
          "height": 1000
        },
        "outputId": "409cc1d7-0bee-4062-cfa0-fc14a1432c84"
      },
      "source": [
        "train_loss_multiple_runs = [None] * NUM_REPEAT\n",
        "test_accuracy_multiple_runs = [None] * NUM_REPEAT\n",
        "test_loss_multiple_runs = [None] * NUM_REPEAT\n",
        "\n",
        "for exp_num in range(NUM_REPEAT):\n",
        "  print(\"Experiment Run Number: \", exp_num)\n",
        "  \n",
        "  # number of training rounds\n",
        "  rounds = 50\n",
        "  # client fraction\n",
        "  C = 0.1\n",
        "  # number of clients\n",
        "  K = 100\n",
        "  # number of training passes on local dataset for each roung\n",
        "  E = 5\n",
        "  # batch size\n",
        "  batch_size = 10\n",
        "  # learning Rate\n",
        "  lr=0.05\n",
        "  # proximal term constant\n",
        "  mu = 0.01\n",
        "  # percentage of clients to have fewer than E epochs\n",
        "  percentage = 50\n",
        "  # target_test_accuracy\n",
        "  target_test_accuracy=94.0\n",
        "  # dict containing different type of data partition\n",
        "  data_dict = non_iid_partition(mnist_data_train, 100, 500, 120, 5)\n",
        "  # load model\n",
        "  mnist_mlp = MNIST_2NN()\n",
        "\n",
        "  if torch.cuda.is_available():\n",
        "    mnist_mlp.cuda()\n",
        "\n",
        "  mnist_mlp_non_iid_trained, train_loss, test_accuracy, test_loss = training(mnist_mlp, rounds, batch_size, lr, mnist_data_train, mnist_data_test, data_dict, C, K, E, mu, percentage, \"MNIST MLP on Non-IID Dataset\", \"green\", target_test_accuracy)\n",
        "\n",
        "  train_loss_multiple_runs[exp_num] = train_loss\n",
        "  test_accuracy_multiple_runs[exp_num] = test_accuracy\n",
        "  test_loss_multiple_runs[exp_num] = test_loss"
      ],
      "execution_count": 151,
      "outputs": [
        {
          "output_type": "stream",
          "text": [
            "Experiment Run Number:  0\n",
            "System heterogeneity set to 50% stragglers.\n",
            "\n",
            "Picking 10 random clients per round.\n",
            "\n",
            "Round: 1... \tAverage Train Loss: 0.284... \tTest Loss: 2.0231298267364504... \tTest Accuracy: 52.78481012658228\n",
            "Round: 2... \tAverage Train Loss: 0.218... \tTest Loss: 0.9773124552726745... \tTest Accuracy: 69.49367088607595\n",
            "Round: 3... \tAverage Train Loss: 0.137... \tTest Loss: 0.38018689341545103... \tTest Accuracy: 89.87341772151899\n",
            "Round: 4... \tAverage Train Loss: 0.123... \tTest Loss: 0.351110126376152... \tTest Accuracy: 88.9873417721519\n",
            "Round: 5... \tAverage Train Loss: 0.086... \tTest Loss: 0.3420517030239105... \tTest Accuracy: 87.9746835443038\n",
            "Round: 6... \tAverage Train Loss: 0.079... \tTest Loss: 0.27869078278541565... \tTest Accuracy: 90.50632911392405\n",
            "Round: 7... \tAverage Train Loss: 0.071... \tTest Loss: 0.28376058852672575... \tTest Accuracy: 90.50632911392405\n",
            "Round: 8... \tAverage Train Loss: 0.114... \tTest Loss: 0.23868588287830353... \tTest Accuracy: 92.9113924050633\n",
            "Round: 9... \tAverage Train Loss: 0.068... \tTest Loss: 0.23781537473201753... \tTest Accuracy: 92.65822784810126\n",
            "Round: 10... \tAverage Train Loss: 0.081... \tTest Loss: 0.24278620510101317... \tTest Accuracy: 92.27848101265823\n",
            "Round: 11... \tAverage Train Loss: 0.076... \tTest Loss: 0.17382170781493186... \tTest Accuracy: 94.68354430379746\n",
            "Round: 12... \tAverage Train Loss: 0.084... \tTest Loss: 0.1905571917295456... \tTest Accuracy: 93.79746835443038\n",
            "Round: 13... \tAverage Train Loss: 0.07... \tTest Loss: 0.16500269469320775... \tTest Accuracy: 94.43037974683544\n",
            "Round: 14... \tAverage Train Loss: 0.074... \tTest Loss: 0.171615653860569... \tTest Accuracy: 95.69620253164557\n",
            "Round: 15... \tAverage Train Loss: 0.067... \tTest Loss: 0.1691393243253231... \tTest Accuracy: 94.68354430379746\n",
            "Round: 16... \tAverage Train Loss: 0.056... \tTest Loss: 0.14686197226643563... \tTest Accuracy: 95.31645569620254\n",
            "Round: 17... \tAverage Train Loss: 0.038... \tTest Loss: 0.1764350439250469... \tTest Accuracy: 94.0506329113924\n",
            "Round: 18... \tAverage Train Loss: 0.034... \tTest Loss: 0.22696176557540892... \tTest Accuracy: 93.29113924050633\n",
            "Round: 19... \tAverage Train Loss: 0.054... \tTest Loss: 0.16497043808102607... \tTest Accuracy: 94.30379746835443\n",
            "Round: 20... \tAverage Train Loss: 0.044... \tTest Loss: 0.1882154464095831... \tTest Accuracy: 94.9367088607595\n",
            "Round: 21... \tAverage Train Loss: 0.046... \tTest Loss: 0.14240753876119852... \tTest Accuracy: 95.9493670886076\n",
            "Round: 22... \tAverage Train Loss: 0.046... \tTest Loss: 0.14549256915599107... \tTest Accuracy: 95.44303797468355\n",
            "Round: 23... \tAverage Train Loss: 0.047... \tTest Loss: 0.1338980795517564... \tTest Accuracy: 95.9493670886076\n",
            "Round: 24... \tAverage Train Loss: 0.033... \tTest Loss: 0.14381723675876856... \tTest Accuracy: 95.9493670886076\n",
            "Round: 25... \tAverage Train Loss: 0.036... \tTest Loss: 0.14798369399309158... \tTest Accuracy: 96.9620253164557\n",
            "Round: 26... \tAverage Train Loss: 0.039... \tTest Loss: 0.1278000130802393... \tTest Accuracy: 96.20253164556962\n",
            "Round: 27... \tAverage Train Loss: 0.078... \tTest Loss: 0.1356818118453026... \tTest Accuracy: 96.20253164556962\n",
            "Round: 28... \tAverage Train Loss: 0.038... \tTest Loss: 0.12100777160152792... \tTest Accuracy: 95.69620253164557\n",
            "Round: 29... \tAverage Train Loss: 0.046... \tTest Loss: 0.11579501968473196... \tTest Accuracy: 96.70886075949367\n",
            "Round: 30... \tAverage Train Loss: 0.056... \tTest Loss: 0.13256504501104355... \tTest Accuracy: 95.82278481012658\n",
            "Round: 31... \tAverage Train Loss: 0.045... \tTest Loss: 0.12803406283408403... \tTest Accuracy: 96.58227848101266\n",
            "Round: 32... \tAverage Train Loss: 0.044... \tTest Loss: 0.13532532567605376... \tTest Accuracy: 95.44303797468355\n",
            "Round: 33... \tAverage Train Loss: 0.053... \tTest Loss: 0.1329319782525301... \tTest Accuracy: 96.58227848101266\n",
            "Round: 34... \tAverage Train Loss: 0.037... \tTest Loss: 0.10788767012879252... \tTest Accuracy: 96.70886075949367\n",
            "Round: 35... \tAverage Train Loss: 0.04... \tTest Loss: 0.10583498604521155... \tTest Accuracy: 97.34177215189874\n",
            "Round: 36... \tAverage Train Loss: 0.043... \tTest Loss: 0.13476865416169168... \tTest Accuracy: 95.56962025316456\n",
            "Round: 37... \tAverage Train Loss: 0.046... \tTest Loss: 0.1363740928109735... \tTest Accuracy: 96.07594936708861\n",
            "Round: 38... \tAverage Train Loss: 0.039... \tTest Loss: 0.11043708309009671... \tTest Accuracy: 96.9620253164557\n",
            "Round: 39... \tAverage Train Loss: 0.032... \tTest Loss: 0.11286341399289668... \tTest Accuracy: 96.70886075949367\n",
            "Round: 40... \tAverage Train Loss: 0.04... \tTest Loss: 0.10531862882897258... \tTest Accuracy: 96.83544303797468\n",
            "Round: 41... \tAverage Train Loss: 0.028... \tTest Loss: 0.11190442019477487... \tTest Accuracy: 95.9493670886076\n",
            "Round: 42... \tAverage Train Loss: 0.036... \tTest Loss: 0.12539823379516601... \tTest Accuracy: 96.07594936708861\n",
            "Round: 43... \tAverage Train Loss: 0.033... \tTest Loss: 0.11215002663061023... \tTest Accuracy: 96.70886075949367\n",
            "Round: 44... \tAverage Train Loss: 0.044... \tTest Loss: 0.13391547940373422... \tTest Accuracy: 96.07594936708861\n",
            "Round: 45... \tAverage Train Loss: 0.032... \tTest Loss: 0.11017657709233462... \tTest Accuracy: 97.59493670886076\n",
            "Round: 46... \tAverage Train Loss: 0.03... \tTest Loss: 0.10471920781359076... \tTest Accuracy: 96.70886075949367\n",
            "Round: 47... \tAverage Train Loss: 0.044... \tTest Loss: 0.10816208279803395... \tTest Accuracy: 97.0886075949367\n",
            "Round: 48... \tAverage Train Loss: 0.024... \tTest Loss: 0.10606384230777621... \tTest Accuracy: 96.83544303797468\n",
            "Round: 49... \tAverage Train Loss: 0.05... \tTest Loss: 0.09215757636800409... \tTest Accuracy: 97.84810126582279\n",
            "Round: 50... \tAverage Train Loss: 0.025... \tTest Loss: 0.09686885179020464... \tTest Accuracy: 97.21518987341773\n"
          ],
          "name": "stdout"
        },
        {
          "output_type": "display_data",
          "data": {
            "image/png": "[encoded data removed]",
            "text/plain": [
              "<Figure size 432x288 with 1 Axes>"
            ]
          },
          "metadata": {
            "tags": [],
            "needs_background": "light"
          }
        },
        {
          "output_type": "display_data",
          "data": {
            "image/png": "[encoded data removed]",
            "text/plain": [
              "<Figure size 432x288 with 1 Axes>"
            ]
          },
          "metadata": {
            "tags": [],
            "needs_background": "light"
          }
        },
        {
          "output_type": "display_data",
          "data": {
            "image/png": "[encoded data removed]",
            "text/plain": [
              "<Figure size 432x288 with 1 Axes>"
            ]
          },
          "metadata": {
            "tags": [],
            "needs_background": "light"
          }
        },
        {
          "output_type": "stream",
          "text": [
            "Training Done!\n",
            "Total time taken to Train: 442.0889804363251\n",
            "\n",
            "\n"
          ],
          "name": "stdout"
        }
      ]
    },
    {
      "cell_type": "markdown",
      "metadata": {
        "id": "jmuQYPbF2mes"
      },
      "source": [
        "### Test"
      ]
    },
    {
      "cell_type": "code",
      "metadata": {
        "id": "0tKMlJyF2nGN",
        "colab": {
          "base_uri": "https://localhost:8080/"
        },
        "outputId": "317bbb01-5dc8-446d-971f-f4e6c54bfadf"
      },
      "source": [
        "criterion = nn.CrossEntropyLoss()\n",
        "acc, loss = testing(mnist_mlp_non_iid_trained, mnist_data_test, 128, criterion, num_classes, classes_test, True)"
      ],
      "execution_count": 152,
      "outputs": [
        {
          "output_type": "stream",
          "text": [
            "Test Loss: 0.096869\n",
            "\n",
            "Test Accuracy of     0: 97% (74/76)\n",
            "Test Accuracy of     1: 97% (88/90)\n",
            "Test Accuracy of     2: 96% (88/91)\n",
            "Test Accuracy of     3: 100% (73/73)\n",
            "Test Accuracy of     4: 97% (87/89)\n",
            "Test Accuracy of     5: 95% (65/68)\n",
            "Test Accuracy of     6: 98% (61/62)\n",
            "Test Accuracy of     7: 96% (78/81)\n",
            "Test Accuracy of     8: 98% (76/77)\n",
            "Test Accuracy of     9: 93% (78/83)\n",
            "\n",
            "Final Test  Accuracy: 97.215 (768.0/790.0)\n"
          ],
          "name": "stdout"
        }
      ]
    },
    {
      "cell_type": "code",
      "metadata": {
        "id": "1W5krYcSMQiu"
      },
      "source": [
        "hyperparams = {'rounds': rounds,\n",
        "               'C': C,\n",
        "               'K': K,\n",
        "               'E': E,\n",
        "               'batch_size': batch_size,\n",
        "               'lr': lr,\n",
        "               'mu': mu,\n",
        "               'percentage': percentage,\n",
        "               'target_test_accuracy': target_test_accuracy,\n",
        "               }\n",
        "\n",
        "log_dict['MNIST MLP on Non IID'] = {'train_loss': train_loss_multiple_runs, \n",
        "                                'test_loss': test_loss_multiple_runs, \n",
        "                                'test_accuracy': test_accuracy_multiple_runs,\n",
        "                                'hyperparams': hyperparams,\n",
        "                                }"
      ],
      "execution_count": 153,
      "outputs": []
    },
    {
      "cell_type": "markdown",
      "metadata": {
        "id": "emS_SaRAP6TZ"
      },
      "source": [
        "## Pickle Log"
      ]
    },
    {
      "cell_type": "code",
      "metadata": {
        "id": "soAN38JoP0c1"
      },
      "source": [
        "import pickle\n",
        " \n",
        "with open(path + 'FedProx_5.pkl', 'wb') as file:\n",
        "  pickle.dump(log_dict, file)"
      ],
      "execution_count": 154,
      "outputs": []
    },
    {
      "cell_type": "code",
      "metadata": {
        "id": "2UBy-JswSoCJ",
        "colab": {
          "base_uri": "https://localhost:8080/"
        },
        "outputId": "4140c60c-3c5b-4702-bc56-65cb4c94ffad"
      },
      "source": [
        "log_dict"
      ],
      "execution_count": 155,
      "outputs": [
        {
          "output_type": "execute_result",
          "data": {
            "text/plain": [
              "{'MNIST CNN on IID': {'hyperparams': {'C': 0.1,\n",
              "   'E': 5,\n",
              "   'K': 100,\n",
              "   'batch_size': 10,\n",
              "   'lr': 0.05,\n",
              "   'mu': 0.01,\n",
              "   'percentage': 50,\n",
              "   'rounds': 50,\n",
              "   'target_test_accuracy': 94.0},\n",
              "  'test_accuracy': [[24.810126582278482,\n",
              "    42.40506329113924,\n",
              "    55.822784810126585,\n",
              "    58.35443037974684,\n",
              "    74.43037974683544,\n",
              "    86.70886075949367,\n",
              "    80.0,\n",
              "    78.86075949367088,\n",
              "    78.22784810126582,\n",
              "    88.10126582278481,\n",
              "    82.9113924050633,\n",
              "    90.25316455696202,\n",
              "    88.35443037974683,\n",
              "    82.53164556962025,\n",
              "    82.9113924050633,\n",
              "    82.9113924050633,\n",
              "    80.88607594936708,\n",
              "    90.0,\n",
              "    90.63291139240506,\n",
              "    84.55696202531645,\n",
              "    86.9620253164557,\n",
              "    92.15189873417721,\n",
              "    91.39240506329114,\n",
              "    93.67088607594937,\n",
              "    93.41772151898734,\n",
              "    84.81012658227849,\n",
              "    90.63291139240506,\n",
              "    87.84810126582279,\n",
              "    92.0253164556962,\n",
              "    90.88607594936708,\n",
              "    92.78481012658227,\n",
              "    92.9113924050633,\n",
              "    94.30379746835443,\n",
              "    93.54430379746836,\n",
              "    94.0506329113924,\n",
              "    92.9113924050633,\n",
              "    92.15189873417721,\n",
              "    93.79746835443038,\n",
              "    92.9113924050633,\n",
              "    92.0253164556962,\n",
              "    92.53164556962025,\n",
              "    93.54430379746836,\n",
              "    91.0126582278481,\n",
              "    92.78481012658227,\n",
              "    93.29113924050633,\n",
              "    92.78481012658227,\n",
              "    94.17721518987342,\n",
              "    92.15189873417721,\n",
              "    94.43037974683544,\n",
              "    93.79746835443038]],\n",
              "  'test_loss': [[3.501154662704468,\n",
              "    2.098449794006348,\n",
              "    1.4048889741897583,\n",
              "    1.186260110092163,\n",
              "    0.8198858121871948,\n",
              "    0.5606962915420532,\n",
              "    0.5953369969367981,\n",
              "    0.5713811077594757,\n",
              "    0.6144353650093078,\n",
              "    0.3737515849113464,\n",
              "    0.4881696968078613,\n",
              "    0.35067420377731323,\n",
              "    0.3658447569847107,\n",
              "    0.45267198104858397,\n",
              "    0.4760658409118652,\n",
              "    0.43951735978126527,\n",
              "    0.47328005681037905,\n",
              "    0.29998170657157897,\n",
              "    0.29217908272743226,\n",
              "    0.388699321269989,\n",
              "    0.3428220664978027,\n",
              "    0.25815297060012815,\n",
              "    0.25852265753746034,\n",
              "    0.2172607382297516,\n",
              "    0.22147904789447784,\n",
              "    0.42550576810836793,\n",
              "    0.27064798607826235,\n",
              "    0.30882250480651857,\n",
              "    0.22545041859149934,\n",
              "    0.26070893712043763,\n",
              "    0.24244796303510666,\n",
              "    0.21719640135765075,\n",
              "    0.18441424570083617,\n",
              "    0.19380424721240996,\n",
              "    0.19638458198308945,\n",
              "    0.23366024324893953,\n",
              "    0.22475830100774766,\n",
              "    0.19332380542755126,\n",
              "    0.20131231566667557,\n",
              "    0.20440804203748703,\n",
              "    0.2056342448949814,\n",
              "    0.2035191529273987,\n",
              "    0.27561077251434324,\n",
              "    0.2017885092973709,\n",
              "    0.2090796652317047,\n",
              "    0.19842026114463807,\n",
              "    0.19550488225221635,\n",
              "    0.24025922374725342,\n",
              "    0.1771654335319996,\n",
              "    0.17055202847719192]],\n",
              "  'train_loss': [[0.21907735064475692,\n",
              "    0.08297030552269684,\n",
              "    0.09063418231221536,\n",
              "    0.06172632193843471,\n",
              "    0.04486943151114974,\n",
              "    0.07401855547799885,\n",
              "    0.06417477973452251,\n",
              "    0.031745177362967905,\n",
              "    0.07007905235661505,\n",
              "    0.039151259467445514,\n",
              "    0.037097963899348135,\n",
              "    0.03709716660173662,\n",
              "    0.030017626255026297,\n",
              "    0.049841939311785,\n",
              "    0.04553795212949627,\n",
              "    0.04315774185583642,\n",
              "    0.03963370247930289,\n",
              "    0.037569331327479125,\n",
              "    0.0356273052365545,\n",
              "    0.03804430291047579,\n",
              "    0.035481722165313034,\n",
              "    0.05908683643636241,\n",
              "    0.02341815003451322,\n",
              "    0.03278307173285995,\n",
              "    0.03411321969411802,\n",
              "    0.04004565623017132,\n",
              "    0.03361824459545702,\n",
              "    0.019312273359831628,\n",
              "    0.017658854924692102,\n",
              "    0.027758490408887154,\n",
              "    0.02046117128577963,\n",
              "    0.06186594947856956,\n",
              "    0.046055465494670586,\n",
              "    0.021707817753078416,\n",
              "    0.02648894914396806,\n",
              "    0.021068566054765446,\n",
              "    0.02097270577843301,\n",
              "    0.03680687833466153,\n",
              "    0.021754411200992762,\n",
              "    0.019665739643426303,\n",
              "    0.03968208100901554,\n",
              "    0.029048847660758638,\n",
              "    0.01895582753480671,\n",
              "    0.018658043589481775,\n",
              "    0.018935247327983636,\n",
              "    0.03976338811172172,\n",
              "    0.0263167471352887,\n",
              "    0.0176321815264075,\n",
              "    0.02167395672222483,\n",
              "    0.026333571231691166]]},\n",
              " 'MNIST CNN on Non IID': {'hyperparams': {'C': 0.1,\n",
              "   'E': 5,\n",
              "   'K': 100,\n",
              "   'batch_size': 10,\n",
              "   'lr': 0.05,\n",
              "   'mu': 0.01,\n",
              "   'percentage': 50,\n",
              "   'rounds': 50,\n",
              "   'target_test_accuracy': 99.0},\n",
              "  'test_accuracy': [[61.51898734177215,\n",
              "    80.0,\n",
              "    94.17721518987342,\n",
              "    93.54430379746836,\n",
              "    96.58227848101266,\n",
              "    96.32911392405063,\n",
              "    97.0886075949367,\n",
              "    97.0886075949367,\n",
              "    97.9746835443038,\n",
              "    96.70886075949367,\n",
              "    98.22784810126582,\n",
              "    98.10126582278481,\n",
              "    97.9746835443038,\n",
              "    98.35443037974683,\n",
              "    98.48101265822785,\n",
              "    98.60759493670886,\n",
              "    98.35443037974683,\n",
              "    98.60759493670886,\n",
              "    97.84810126582279,\n",
              "    98.10126582278481,\n",
              "    98.9873417721519,\n",
              "    98.86075949367088,\n",
              "    99.11392405063292,\n",
              "    98.86075949367088,\n",
              "    98.60759493670886,\n",
              "    99.24050632911393,\n",
              "    99.11392405063292,\n",
              "    99.36708860759494,\n",
              "    99.24050632911393,\n",
              "    98.9873417721519,\n",
              "    99.24050632911393,\n",
              "    98.9873417721519,\n",
              "    98.9873417721519,\n",
              "    99.49367088607595,\n",
              "    99.11392405063292,\n",
              "    99.36708860759494,\n",
              "    99.36708860759494,\n",
              "    99.36708860759494,\n",
              "    99.24050632911393,\n",
              "    99.49367088607595,\n",
              "    98.73417721518987,\n",
              "    99.24050632911393,\n",
              "    99.49367088607595,\n",
              "    98.9873417721519,\n",
              "    99.36708860759494,\n",
              "    99.62025316455696,\n",
              "    99.36708860759494,\n",
              "    99.36708860759494,\n",
              "    99.62025316455696,\n",
              "    99.74683544303798]],\n",
              "  'test_loss': [[1.8523011213302611,\n",
              "    0.7315332097053527,\n",
              "    0.26132256019115446,\n",
              "    0.1867505638718605,\n",
              "    0.12835656963586808,\n",
              "    0.11345071885585785,\n",
              "    0.11988453224152326,\n",
              "    0.09432302541211247,\n",
              "    0.0734088832270354,\n",
              "    0.09120297871977091,\n",
              "    0.06876550688333809,\n",
              "    0.06623244079388678,\n",
              "    0.0635308912370354,\n",
              "    0.055616375708393756,\n",
              "    0.051665731059759856,\n",
              "    0.051256576036009936,\n",
              "    0.05249313221303746,\n",
              "    0.05450937987149227,\n",
              "    0.061083045359887185,\n",
              "    0.05266735153235495,\n",
              "    0.04475260572703555,\n",
              "    0.04318761237002909,\n",
              "    0.04211942357015796,\n",
              "    0.03977721407329664,\n",
              "    0.042367767295148226,\n",
              "    0.03831929489381146,\n",
              "    0.04194120174401905,\n",
              "    0.03992158537630457,\n",
              "    0.03585642512161285,\n",
              "    0.03521611345000565,\n",
              "    0.03779086614539847,\n",
              "    0.03726301433714107,\n",
              "    0.03535980437602848,\n",
              "    0.03470734470523894,\n",
              "    0.0348000775762368,\n",
              "    0.033312974629248496,\n",
              "    0.03385835566989845,\n",
              "    0.035396278739301484,\n",
              "    0.030725064573716373,\n",
              "    0.03173095702675637,\n",
              "    0.04467942885123193,\n",
              "    0.03664977555421647,\n",
              "    0.03261857434625272,\n",
              "    0.03984765809737146,\n",
              "    0.03448866006731987,\n",
              "    0.03088989426076878,\n",
              "    0.0308281558053568,\n",
              "    0.032488471483957254,\n",
              "    0.033440116227511314,\n",
              "    0.030196984048001467]],\n",
              "  'train_loss': [[0.3671583858012325,\n",
              "    0.17516786665872983,\n",
              "    0.11835202963254417,\n",
              "    0.09498494754515639,\n",
              "    0.10592184525666137,\n",
              "    0.06487088210353006,\n",
              "    0.059919316556802694,\n",
              "    0.05300906258552439,\n",
              "    0.05798478863913785,\n",
              "    0.06023432610026471,\n",
              "    0.057697583625817464,\n",
              "    0.05147116378256276,\n",
              "    0.05295638271064511,\n",
              "    0.04018088068969599,\n",
              "    0.050708208829909895,\n",
              "    0.03431182763791488,\n",
              "    0.03862362544922446,\n",
              "    0.02980164488164034,\n",
              "    0.033479165079809206,\n",
              "    0.033000409257880364,\n",
              "    0.03195905046745086,\n",
              "    0.038626592774186265,\n",
              "    0.02624652662729689,\n",
              "    0.02730526005475258,\n",
              "    0.04482825121262026,\n",
              "    0.028443671706153605,\n",
              "    0.025578093421598162,\n",
              "    0.028050281951837352,\n",
              "    0.03030797493306616,\n",
              "    0.03319624217550761,\n",
              "    0.027338687550913166,\n",
              "    0.022943603162866415,\n",
              "    0.04615480256171819,\n",
              "    0.028923577828929414,\n",
              "    0.03331289122222532,\n",
              "    0.023495135318510923,\n",
              "    0.02468102346378752,\n",
              "    0.033870104071607586,\n",
              "    0.018569291099497304,\n",
              "    0.016356046952753483,\n",
              "    0.041039478417648066,\n",
              "    0.02375154968504709,\n",
              "    0.02233572460904755,\n",
              "    0.03723631425786329,\n",
              "    0.018890013753413468,\n",
              "    0.021533539337893218,\n",
              "    0.026055994685397106,\n",
              "    0.01643785041364112,\n",
              "    0.02937327445425884,\n",
              "    0.02603373596893046]]},\n",
              " 'MNIST MLP on IID': {'hyperparams': {'C': 0.1,\n",
              "   'E': 5,\n",
              "   'K': 100,\n",
              "   'batch_size': 10,\n",
              "   'lr': 0.05,\n",
              "   'mu': 0.01,\n",
              "   'percentage': 50,\n",
              "   'rounds': 50,\n",
              "   'target_test_accuracy': 99.0},\n",
              "  'test_accuracy': [[61.51898734177215,\n",
              "    80.0,\n",
              "    94.17721518987342,\n",
              "    93.54430379746836,\n",
              "    96.58227848101266,\n",
              "    96.32911392405063,\n",
              "    97.0886075949367,\n",
              "    97.0886075949367,\n",
              "    97.9746835443038,\n",
              "    96.70886075949367,\n",
              "    98.22784810126582,\n",
              "    98.10126582278481,\n",
              "    97.9746835443038,\n",
              "    98.35443037974683,\n",
              "    98.48101265822785,\n",
              "    98.60759493670886,\n",
              "    98.35443037974683,\n",
              "    98.60759493670886,\n",
              "    97.84810126582279,\n",
              "    98.10126582278481,\n",
              "    98.9873417721519,\n",
              "    98.86075949367088,\n",
              "    99.11392405063292,\n",
              "    98.86075949367088,\n",
              "    98.60759493670886,\n",
              "    99.24050632911393,\n",
              "    99.11392405063292,\n",
              "    99.36708860759494,\n",
              "    99.24050632911393,\n",
              "    98.9873417721519,\n",
              "    99.24050632911393,\n",
              "    98.9873417721519,\n",
              "    98.9873417721519,\n",
              "    99.49367088607595,\n",
              "    99.11392405063292,\n",
              "    99.36708860759494,\n",
              "    99.36708860759494,\n",
              "    99.36708860759494,\n",
              "    99.24050632911393,\n",
              "    99.49367088607595,\n",
              "    98.73417721518987,\n",
              "    99.24050632911393,\n",
              "    99.49367088607595,\n",
              "    98.9873417721519,\n",
              "    99.36708860759494,\n",
              "    99.62025316455696,\n",
              "    99.36708860759494,\n",
              "    99.36708860759494,\n",
              "    99.62025316455696,\n",
              "    99.74683544303798]],\n",
              "  'test_loss': [[1.8523011213302611,\n",
              "    0.7315332097053527,\n",
              "    0.26132256019115446,\n",
              "    0.1867505638718605,\n",
              "    0.12835656963586808,\n",
              "    0.11345071885585785,\n",
              "    0.11988453224152326,\n",
              "    0.09432302541211247,\n",
              "    0.0734088832270354,\n",
              "    0.09120297871977091,\n",
              "    0.06876550688333809,\n",
              "    0.06623244079388678,\n",
              "    0.0635308912370354,\n",
              "    0.055616375708393756,\n",
              "    0.051665731059759856,\n",
              "    0.051256576036009936,\n",
              "    0.05249313221303746,\n",
              "    0.05450937987149227,\n",
              "    0.061083045359887185,\n",
              "    0.05266735153235495,\n",
              "    0.04475260572703555,\n",
              "    0.04318761237002909,\n",
              "    0.04211942357015796,\n",
              "    0.03977721407329664,\n",
              "    0.042367767295148226,\n",
              "    0.03831929489381146,\n",
              "    0.04194120174401905,\n",
              "    0.03992158537630457,\n",
              "    0.03585642512161285,\n",
              "    0.03521611345000565,\n",
              "    0.03779086614539847,\n",
              "    0.03726301433714107,\n",
              "    0.03535980437602848,\n",
              "    0.03470734470523894,\n",
              "    0.0348000775762368,\n",
              "    0.033312974629248496,\n",
              "    0.03385835566989845,\n",
              "    0.035396278739301484,\n",
              "    0.030725064573716373,\n",
              "    0.03173095702675637,\n",
              "    0.04467942885123193,\n",
              "    0.03664977555421647,\n",
              "    0.03261857434625272,\n",
              "    0.03984765809737146,\n",
              "    0.03448866006731987,\n",
              "    0.03088989426076878,\n",
              "    0.0308281558053568,\n",
              "    0.032488471483957254,\n",
              "    0.033440116227511314,\n",
              "    0.030196984048001467]],\n",
              "  'train_loss': [[0.3671583858012325,\n",
              "    0.17516786665872983,\n",
              "    0.11835202963254417,\n",
              "    0.09498494754515639,\n",
              "    0.10592184525666137,\n",
              "    0.06487088210353006,\n",
              "    0.059919316556802694,\n",
              "    0.05300906258552439,\n",
              "    0.05798478863913785,\n",
              "    0.06023432610026471,\n",
              "    0.057697583625817464,\n",
              "    0.05147116378256276,\n",
              "    0.05295638271064511,\n",
              "    0.04018088068969599,\n",
              "    0.050708208829909895,\n",
              "    0.03431182763791488,\n",
              "    0.03862362544922446,\n",
              "    0.02980164488164034,\n",
              "    0.033479165079809206,\n",
              "    0.033000409257880364,\n",
              "    0.03195905046745086,\n",
              "    0.038626592774186265,\n",
              "    0.02624652662729689,\n",
              "    0.02730526005475258,\n",
              "    0.04482825121262026,\n",
              "    0.028443671706153605,\n",
              "    0.025578093421598162,\n",
              "    0.028050281951837352,\n",
              "    0.03030797493306616,\n",
              "    0.03319624217550761,\n",
              "    0.027338687550913166,\n",
              "    0.022943603162866415,\n",
              "    0.04615480256171819,\n",
              "    0.028923577828929414,\n",
              "    0.03331289122222532,\n",
              "    0.023495135318510923,\n",
              "    0.02468102346378752,\n",
              "    0.033870104071607586,\n",
              "    0.018569291099497304,\n",
              "    0.016356046952753483,\n",
              "    0.041039478417648066,\n",
              "    0.02375154968504709,\n",
              "    0.02233572460904755,\n",
              "    0.03723631425786329,\n",
              "    0.018890013753413468,\n",
              "    0.021533539337893218,\n",
              "    0.026055994685397106,\n",
              "    0.01643785041364112,\n",
              "    0.02937327445425884,\n",
              "    0.02603373596893046]]},\n",
              " 'MNIST MLP on Non IID': {'hyperparams': {'C': 0.1,\n",
              "   'E': 5,\n",
              "   'K': 100,\n",
              "   'batch_size': 10,\n",
              "   'lr': 0.05,\n",
              "   'mu': 0.01,\n",
              "   'percentage': 50,\n",
              "   'rounds': 50,\n",
              "   'target_test_accuracy': 94.0},\n",
              "  'test_accuracy': [[52.78481012658228,\n",
              "    69.49367088607595,\n",
              "    89.87341772151899,\n",
              "    88.9873417721519,\n",
              "    87.9746835443038,\n",
              "    90.50632911392405,\n",
              "    90.50632911392405,\n",
              "    92.9113924050633,\n",
              "    92.65822784810126,\n",
              "    92.27848101265823,\n",
              "    94.68354430379746,\n",
              "    93.79746835443038,\n",
              "    94.43037974683544,\n",
              "    95.69620253164557,\n",
              "    94.68354430379746,\n",
              "    95.31645569620254,\n",
              "    94.0506329113924,\n",
              "    93.29113924050633,\n",
              "    94.30379746835443,\n",
              "    94.9367088607595,\n",
              "    95.9493670886076,\n",
              "    95.44303797468355,\n",
              "    95.9493670886076,\n",
              "    95.9493670886076,\n",
              "    96.9620253164557,\n",
              "    96.20253164556962,\n",
              "    96.20253164556962,\n",
              "    95.69620253164557,\n",
              "    96.70886075949367,\n",
              "    95.82278481012658,\n",
              "    96.58227848101266,\n",
              "    95.44303797468355,\n",
              "    96.58227848101266,\n",
              "    96.70886075949367,\n",
              "    97.34177215189874,\n",
              "    95.56962025316456,\n",
              "    96.07594936708861,\n",
              "    96.9620253164557,\n",
              "    96.70886075949367,\n",
              "    96.83544303797468,\n",
              "    95.9493670886076,\n",
              "    96.07594936708861,\n",
              "    96.70886075949367,\n",
              "    96.07594936708861,\n",
              "    97.59493670886076,\n",
              "    96.70886075949367,\n",
              "    97.0886075949367,\n",
              "    96.83544303797468,\n",
              "    97.84810126582279,\n",
              "    97.21518987341773]],\n",
              "  'test_loss': [[2.0231298267364504,\n",
              "    0.9773124552726745,\n",
              "    0.38018689341545103,\n",
              "    0.351110126376152,\n",
              "    0.3420517030239105,\n",
              "    0.27869078278541565,\n",
              "    0.28376058852672575,\n",
              "    0.23868588287830353,\n",
              "    0.23781537473201753,\n",
              "    0.24278620510101317,\n",
              "    0.17382170781493186,\n",
              "    0.1905571917295456,\n",
              "    0.16500269469320775,\n",
              "    0.171615653860569,\n",
              "    0.1691393243253231,\n",
              "    0.14686197226643563,\n",
              "    0.1764350439250469,\n",
              "    0.22696176557540892,\n",
              "    0.16497043808102607,\n",
              "    0.1882154464095831,\n",
              "    0.14240753876119852,\n",
              "    0.14549256915599107,\n",
              "    0.1338980795517564,\n",
              "    0.14381723675876856,\n",
              "    0.14798369399309158,\n",
              "    0.1278000130802393,\n",
              "    0.1356818118453026,\n",
              "    0.12100777160152792,\n",
              "    0.11579501968473196,\n",
              "    0.13256504501104355,\n",
              "    0.12803406283408403,\n",
              "    0.13532532567605376,\n",
              "    0.1329319782525301,\n",
              "    0.10788767012879252,\n",
              "    0.10583498604521155,\n",
              "    0.13476865416169168,\n",
              "    0.1363740928109735,\n",
              "    0.11043708309009671,\n",
              "    0.11286341399289668,\n",
              "    0.10531862882897258,\n",
              "    0.11190442019477487,\n",
              "    0.12539823379516601,\n",
              "    0.11215002663061023,\n",
              "    0.13391547940373422,\n",
              "    0.11017657709233462,\n",
              "    0.10471920781359076,\n",
              "    0.10816208279803395,\n",
              "    0.10606384230777621,\n",
              "    0.09215757636800409,\n",
              "    0.09686885179020464]],\n",
              "  'train_loss': [[0.28402703726074346,\n",
              "    0.21791158050691917,\n",
              "    0.13737617472453148,\n",
              "    0.12293965532211586,\n",
              "    0.0857982729902077,\n",
              "    0.07901573999791354,\n",
              "    0.0705689508569582,\n",
              "    0.11381827853294091,\n",
              "    0.06780732164172351,\n",
              "    0.08122674366016872,\n",
              "    0.07582812059936501,\n",
              "    0.08444179940757912,\n",
              "    0.07029441182925884,\n",
              "    0.07421860447885573,\n",
              "    0.06679783762616312,\n",
              "    0.05562399374165883,\n",
              "    0.038361233688367066,\n",
              "    0.03419937281162776,\n",
              "    0.05430106900078761,\n",
              "    0.04371944577047057,\n",
              "    0.0458435933134234,\n",
              "    0.0462121713815852,\n",
              "    0.04688818902980872,\n",
              "    0.033111326909953886,\n",
              "    0.03582136767969738,\n",
              "    0.03913208290824615,\n",
              "    0.0781321106999854,\n",
              "    0.03798757004938347,\n",
              "    0.04624782248716737,\n",
              "    0.05623450179516739,\n",
              "    0.044537774518358574,\n",
              "    0.04362147896835166,\n",
              "    0.05279565330738356,\n",
              "    0.037109494834620914,\n",
              "    0.03971265630592179,\n",
              "    0.04285125545786771,\n",
              "    0.04554198833725724,\n",
              "    0.0387729210681767,\n",
              "    0.032468820865818995,\n",
              "    0.04032199028147927,\n",
              "    0.028395541768417593,\n",
              "    0.0357766842423783,\n",
              "    0.03276103760381131,\n",
              "    0.04361764540940446,\n",
              "    0.03208579540109106,\n",
              "    0.029873877367159973,\n",
              "    0.04429381954409797,\n",
              "    0.023905855325563198,\n",
              "    0.0503164217413032,\n",
              "    0.02513434975953229]]}}"
            ]
          },
          "metadata": {
            "tags": []
          },
          "execution_count": 155
        }
      ]
    },
    {
      "cell_type": "code",
      "metadata": {
        "id": "BXa1-CbFo3pX"
      },
      "source": [
        "import pickle\n",
        "\n",
        "with open(path + 'FedProx_5.pkl', 'rb') as file:\n",
        "  log_dict = pickle.load(file)"
      ],
      "execution_count": 156,
      "outputs": []
    },
    {
      "cell_type": "code",
      "metadata": {
        "id": "se_04JMaVJPg",
        "colab": {
          "base_uri": "https://localhost:8080/"
        },
        "outputId": "91d691f1-6f60-4a6b-836a-30a39fa19271"
      },
      "source": [
        "print([test_acc[-1] for test_acc in log_dict['MNIST CNN on IID']['test_accuracy']])"
      ],
      "execution_count": 157,
      "outputs": [
        {
          "output_type": "stream",
          "text": [
            "[93.79746835443038]\n"
          ],
          "name": "stdout"
        }
      ]
    },
    {
      "cell_type": "code",
      "metadata": {
        "id": "5sv0rv-G4Sqa",
        "colab": {
          "base_uri": "https://localhost:8080/"
        },
        "outputId": "524faa3f-77d0-4c1b-9e68-71b8637618d5"
      },
      "source": [
        "print([test_acc[-1] for test_acc in log_dict['MNIST CNN on Non IID']['test_accuracy']])"
      ],
      "execution_count": 158,
      "outputs": [
        {
          "output_type": "stream",
          "text": [
            "[99.74683544303798]\n"
          ],
          "name": "stdout"
        }
      ]
    },
    {
      "cell_type": "code",
      "metadata": {
        "id": "b2a2_Az-4nal",
        "colab": {
          "base_uri": "https://localhost:8080/"
        },
        "outputId": "be8d97ca-3853-4930-83f5-07b25bb283f4"
      },
      "source": [
        "print([test_acc[-1] for test_acc in log_dict['MNIST MLP on IID']['test_accuracy']])"
      ],
      "execution_count": 159,
      "outputs": [
        {
          "output_type": "stream",
          "text": [
            "[99.74683544303798]\n"
          ],
          "name": "stdout"
        }
      ]
    },
    {
      "cell_type": "code",
      "metadata": {
        "id": "YoRqZyvD4p2K",
        "colab": {
          "base_uri": "https://localhost:8080/"
        },
        "outputId": "a627f800-e7f9-4c7b-b01e-42f2fbf485a0"
      },
      "source": [
        "print([test_acc[-1] for test_acc in log_dict['MNIST MLP on Non IID']['test_accuracy']])"
      ],
      "execution_count": 160,
      "outputs": [
        {
          "output_type": "stream",
          "text": [
            "[97.21518987341773]\n"
          ],
          "name": "stdout"
        }
      ]
    },
    {
      "cell_type": "code",
      "metadata": {
        "id": "B87eGKJnAHIh",
        "colab": {
          "base_uri": "https://localhost:8080/"
        },
        "outputId": "2fe37ce9-10f5-465a-efed-44dfa7f7c0b9"
      },
      "source": [
        "output.show()"
      ],
      "execution_count": 161,
      "outputs": [
        {
          "output_type": "stream",
          "text": [
            "Drive already mounted at /content/drive; to attempt to forcibly remount, call drive.mount(\"/content/drive\", force_remount=True).\n"
          ],
          "name": "stdout"
        }
      ]
    }
  ]
}