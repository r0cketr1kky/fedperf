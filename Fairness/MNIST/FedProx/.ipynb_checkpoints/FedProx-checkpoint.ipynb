{
 "cells": [
  {
   "cell_type": "markdown",
   "metadata": {
    "colab_type": "text",
    "id": "view-in-github"
   },
   "source": [
    "<a href=\"https://colab.research.google.com/github/tushar-semwal/fedperf/blob/main/Vineeth/Fairness/FedProx/FedProx.ipynb\" target=\"_parent\"><img src=\"https://colab.research.google.com/assets/colab-badge.svg\" alt=\"Open In Colab\"/></a>"
   ]
  },
  {
   "cell_type": "code",
   "execution_count": 1,
   "metadata": {
    "id": "yKcpjZLrQQJV"
   },
   "outputs": [],
   "source": [
    "%%capture output\n",
    "try:\n",
    "    from google.colab import drive\n",
    "    drive.mount('/content/drive')\n",
    "\n",
    "    import os\n",
    "    path = '/content/drive/MyDrive/Colab Notebooks/OpenMined/'\n",
    "    os.makedirs(path, exist_ok=True)\n",
    "except:\n",
    "    path = './'"
   ]
  },
  {
   "cell_type": "markdown",
   "metadata": {
    "id": "-0_nKpfq2h1R"
   },
   "source": [
    "## Imports"
   ]
  },
  {
   "cell_type": "code",
   "execution_count": 2,
   "metadata": {
    "id": "DLLNM9X2JbQ8"
   },
   "outputs": [
    {
     "name": "stdout",
     "output_type": "stream",
     "text": [
      "Thu Apr 22 16:51:47 2021       \n",
      "+-----------------------------------------------------------------------------+\n",
      "| NVIDIA-SMI 450.51.05    Driver Version: 450.51.05    CUDA Version: 11.0     |\n",
      "|-------------------------------+----------------------+----------------------+\n",
      "| GPU  Name        Persistence-M| Bus-Id        Disp.A | Volatile Uncorr. ECC |\n",
      "| Fan  Temp  Perf  Pwr:Usage/Cap|         Memory-Usage | GPU-Util  Compute M. |\n",
      "|                               |                      |               MIG M. |\n",
      "|===============================+======================+======================|\n",
      "|   0  GeForce GTX 108...  Off  | 00000000:04:00.0 Off |                  N/A |\n",
      "| 17%   32C    P0    53W / 250W |      0MiB / 11178MiB |      0%      Default |\n",
      "|                               |                      |                  N/A |\n",
      "+-------------------------------+----------------------+----------------------+\n",
      "|   1  GeForce GTX 108...  Off  | 00000000:82:00.0 Off |                  N/A |\n",
      "| 18%   30C    P0    56W / 250W |      0MiB / 11178MiB |      2%      Default |\n",
      "|                               |                      |                  N/A |\n",
      "+-------------------------------+----------------------+----------------------+\n",
      "                                                                               \n",
      "+-----------------------------------------------------------------------------+\n",
      "| Processes:                                                                  |\n",
      "|  GPU   GI   CI        PID   Type   Process name                  GPU Memory |\n",
      "|        ID   ID                                                   Usage      |\n",
      "|=============================================================================|\n",
      "|  No running processes found                                                 |\n",
      "+-----------------------------------------------------------------------------+\n"
     ]
    }
   ],
   "source": [
    "%load_ext tensorboard\n",
    "import os\n",
    "import numpy as np\n",
    "import matplotlib\n",
    "import matplotlib.pyplot as plt\n",
    "import copy\n",
    "import random\n",
    "import time\n",
    "\n",
    "import torch\n",
    "import torch.nn as nn\n",
    "import torch.nn.functional as F\n",
    "\n",
    "from torch.utils.data import Dataset, DataLoader\n",
    "from torch.utils.tensorboard import SummaryWriter\n",
    "from torchvision import transforms, utils, datasets\n",
    "from torchsummary import summary\n",
    "\n",
    "\n",
    "# Check assigned GPU\n",
    "gpu_info = !nvidia-smi\n",
    "gpu_info = '\\n'.join(gpu_info)\n",
    "if gpu_info.find('failed') >= 0:\n",
    "  print('Select the Runtime > \"Change runtime type\" menu to enable a GPU accelerator, ')\n",
    "  print('and then re-execute this cell.')\n",
    "else:\n",
    "  print(gpu_info)\n",
    "\n",
    "# set manual seed for reproducibility\n",
    "seed = 42\n",
    "\n",
    "# general reproducibility\n",
    "random.seed(seed)\n",
    "np.random.seed(seed)\n",
    "torch.manual_seed(seed)\n",
    "\n",
    "# gpu training specific\n",
    "torch.backends.cudnn.deterministic = True\n",
    "torch.backends.cudnn.benchmark = False"
   ]
  },
  {
   "cell_type": "markdown",
   "metadata": {
    "id": "NY4eWzGiL6Mj"
   },
   "source": [
    "## Load the MNIST Dataset"
   ]
  },
  {
   "cell_type": "code",
   "execution_count": 3,
   "metadata": {
    "id": "fUKJ5mSl04Is"
   },
   "outputs": [],
   "source": [
    "torch.cuda.set_device('cuda:1')"
   ]
  },
  {
   "cell_type": "code",
   "execution_count": 11,
   "metadata": {
    "id": "G649tjTXLL8F"
   },
   "outputs": [
    {
     "name": "stdout",
     "output_type": "stream",
     "text": [
      "Using downloaded and verified file: ./data/mnist/MNIST/raw/train-images-idx3-ubyte.gz\n",
      "Extracting ./data/mnist/MNIST/raw/train-images-idx3-ubyte.gz to ./data/mnist/MNIST/raw\n",
      "Using downloaded and verified file: ./data/mnist/MNIST/raw/train-labels-idx1-ubyte.gz\n",
      "Extracting ./data/mnist/MNIST/raw/train-labels-idx1-ubyte.gz to ./data/mnist/MNIST/raw\n",
      "Downloading http://yann.lecun.com/exdb/mnist/t10k-images-idx3-ubyte.gz to ./data/mnist/MNIST/raw/t10k-images-idx3-ubyte.gz\n"
     ]
    },
    {
     "name": "stderr",
     "output_type": "stream",
     "text": [
      "100.4%"
     ]
    },
    {
     "name": "stdout",
     "output_type": "stream",
     "text": [
      "Extracting ./data/mnist/MNIST/raw/t10k-images-idx3-ubyte.gz to ./data/mnist/MNIST/raw\n",
      "Downloading http://yann.lecun.com/exdb/mnist/t10k-labels-idx1-ubyte.gz to ./data/mnist/MNIST/raw/t10k-labels-idx1-ubyte.gz\n"
     ]
    },
    {
     "name": "stderr",
     "output_type": "stream",
     "text": [
      "180.4%"
     ]
    },
    {
     "name": "stdout",
     "output_type": "stream",
     "text": [
      "Extracting ./data/mnist/MNIST/raw/t10k-labels-idx1-ubyte.gz to ./data/mnist/MNIST/raw\n",
      "Processing...\n",
      "Done!\n"
     ]
    },
    {
     "name": "stderr",
     "output_type": "stream",
     "text": [
      "/home/vineeth/anaconda3/envs/QSGD-PT/lib/python3.7/site-packages/torchvision/datasets/mnist.py:480: UserWarning: The given NumPy array is not writeable, and PyTorch does not support non-writeable tensors. This means you can write to the underlying (supposedly non-writeable) NumPy array using the tensor. You may want to copy the array to protect its data or make it writeable before converting it to a tensor. This type of warning will be suppressed for the rest of this program. (Triggered internally at  /pytorch/torch/csrc/utils/tensor_numpy.cpp:141.)\n",
      "  return torch.from_numpy(parsed.astype(m[2], copy=False)).view(*s)\n"
     ]
    }
   ],
   "source": [
    "# create transforms\n",
    "# We will just convert to tensor and normalize since no special transforms are mentioned in the paper\n",
    "transforms_mnist = transforms.Compose([\n",
    "                                       transforms.ToTensor(),\n",
    "                                       transforms.Normalize((0.1307,), (0.3081,))\n",
    "                                       ])\n",
    "\n",
    "mnist_data_train = datasets.MNIST('./data/mnist/', train=True, download=True, transform=transforms_mnist)\n",
    "mnist_data_test = datasets.MNIST('../data/mnist/', train=False, download=True, transform=transforms_mnist)"
   ]
  },
  {
   "cell_type": "code",
   "execution_count": 12,
   "metadata": {
    "id": "dm9usjn2vFkL"
   },
   "outputs": [
    {
     "name": "stdout",
     "output_type": "stream",
     "text": [
      "Classes: [0 1 2 3 4 5 6 7 8 9] \tType: <class 'numpy.ndarray'>\n",
      "Classes Test: [0 1 2 3 4 5 6 7 8 9] \tType: <class 'numpy.ndarray'>\n"
     ]
    }
   ],
   "source": [
    "classes = np.array(list(mnist_data_train.class_to_idx.values()))\n",
    "classes_test = np.array(list(mnist_data_test.class_to_idx.values()))\n",
    "num_classes = len(classes_test)\n",
    "print(\"Classes: {} \\tType: {}\".format(classes, type(classes)))\n",
    "print(\"Classes Test: {} \\tType: {}\".format(classes_test, type(classes)))\n"
   ]
  },
  {
   "cell_type": "code",
   "execution_count": 13,
   "metadata": {
    "id": "9lvJt3Ofv2SO"
   },
   "outputs": [
    {
     "name": "stdout",
     "output_type": "stream",
     "text": [
      "Image Shape: torch.Size([28, 28])\n"
     ]
    }
   ],
   "source": [
    "print(\"Image Shape: {}\".format(mnist_data_train.data[0].size()))"
   ]
  },
  {
   "cell_type": "markdown",
   "metadata": {
    "id": "jCOONkg-zV7Y"
   },
   "source": [
    "## Visualize Data"
   ]
  },
  {
   "cell_type": "code",
   "execution_count": 14,
   "metadata": {
    "id": "R9MK03TZw6Qs"
   },
   "outputs": [],
   "source": [
    "def imshow(img):\n",
    "\timg = img/2 + 0.5 #unnormalize the image\n",
    "\tplt.imshow(img, cmap='gray') # convert from tensor to image"
   ]
  },
  {
   "cell_type": "code",
   "execution_count": 15,
   "metadata": {
    "id": "gMJ0Kx4Kw-_H"
   },
   "outputs": [],
   "source": [
    "def visualize(dataset):\n",
    "  figure = plt.figure(figsize=(25,4))\n",
    "  for i in range(20):\n",
    "    axis = figure.add_subplot(2, 20/2, i+1, xticks=[], yticks=[])\n",
    "    data = dataset.data[i]\n",
    "    data = data.numpy()\n",
    "\n",
    "    target = dataset.targets[i]\n",
    "    target = target.numpy()\n",
    "    imshow(data)\n",
    "    axis.set_title(target)\n"
   ]
  },
  {
   "cell_type": "code",
   "execution_count": 16,
   "metadata": {
    "id": "8bPOwKg10Ro7"
   },
   "outputs": [
    {
     "name": "stderr",
     "output_type": "stream",
     "text": [
      "/home/vineeth/anaconda3/envs/QSGD-PT/lib/python3.7/site-packages/ipykernel_launcher.py:4: MatplotlibDeprecationWarning: Passing non-integers as three-element position specification is deprecated since 3.3 and will be removed two minor releases later.\n",
      "  after removing the cwd from sys.path.\n"
     ]
    },
    {
     "data": {
      "image/png": "[encoded data removed]",
      "text/plain": [
       "<Figure size 1800x288 with 20 Axes>"
      ]
     },
     "metadata": {},
     "output_type": "display_data"
    }
   ],
   "source": [
    "visualize(mnist_data_train)"
   ]
  },
  {
   "cell_type": "code",
   "execution_count": 17,
   "metadata": {
    "id": "RKoh5Cf70UYu"
   },
   "outputs": [
    {
     "name": "stderr",
     "output_type": "stream",
     "text": [
      "/home/vineeth/anaconda3/envs/QSGD-PT/lib/python3.7/site-packages/ipykernel_launcher.py:4: MatplotlibDeprecationWarning: Passing non-integers as three-element position specification is deprecated since 3.3 and will be removed two minor releases later.\n",
      "  after removing the cwd from sys.path.\n"
     ]
    },
    {
     "data": {
      "image/png": "[encoded data removed]",
      "text/plain": [
       "<Figure size 1800x288 with 20 Axes>"
      ]
     },
     "metadata": {},
     "output_type": "display_data"
    }
   ],
   "source": [
    "visualize(mnist_data_test)"
   ]
  },
  {
   "cell_type": "markdown",
   "metadata": {
    "id": "ctjRsETiO1qO"
   },
   "source": [
    "## Partitioning the Data (IID and non-IID)"
   ]
  },
  {
   "cell_type": "code",
   "execution_count": 18,
   "metadata": {
    "id": "3_v8lyrgO5dD"
   },
   "outputs": [],
   "source": [
    "def iid_partition(dataset, clients):\n",
    "  \"\"\"\n",
    "  I.I.D paritioning of data over clients\n",
    "  Shuffle the data\n",
    "  Split it between clients\n",
    "  \n",
    "  params:\n",
    "    - dataset (torch.utils.Dataset): Dataset containing the MNIST Images\n",
    "    - clients (int): Number of Clients to split the data between\n",
    "\n",
    "  returns:\n",
    "    - Dictionary of image indexes for each client\n",
    "  \"\"\"\n",
    "\n",
    "  num_items_per_client = int(len(dataset)/clients)\n",
    "  client_dict = {}\n",
    "  image_idxs = [i for i in range(len(dataset))]\n",
    "\n",
    "  for i in range(clients):\n",
    "    client_dict[i] = set(np.random.choice(image_idxs, num_items_per_client, replace=False))\n",
    "    image_idxs = list(set(image_idxs) - client_dict[i])\n",
    "\n",
    "  return client_dict"
   ]
  },
  {
   "cell_type": "code",
   "execution_count": 19,
   "metadata": {
    "id": "4zMdliGMQoSl"
   },
   "outputs": [],
   "source": [
    "def non_iid_partition(dataset, clients, total_shards, shards_size, num_shards_per_client):\n",
    "  \"\"\"\n",
    "  non I.I.D parititioning of data over clients\n",
    "  Sort the data by the digit label\n",
    "  Divide the data into N shards of size S\n",
    "  Each of the clients will get X shards\n",
    "\n",
    "  params:\n",
    "    - dataset (torch.utils.Dataset): Dataset containing the MNIST Images\n",
    "    - clients (int): Number of Clients to split the data between\n",
    "    - total_shards (int): Number of shards to partition the data in\n",
    "    - shards_size (int): Size of each shard \n",
    "    - num_shards_per_client (int): Number of shards of size shards_size that each client receives\n",
    "\n",
    "  returns:\n",
    "    - Dictionary of image indexes for each client\n",
    "  \"\"\"\n",
    "  \n",
    "  shard_idxs = [i for i in range(total_shards)]\n",
    "  client_dict = {i: np.array([], dtype='int64') for i in range(clients)}\n",
    "  idxs = np.arange(len(dataset))\n",
    "  data_labels = dataset.targets.numpy()\n",
    "\n",
    "  # sort the labels\n",
    "  label_idxs = np.vstack((idxs, data_labels))\n",
    "  label_idxs = label_idxs[:, label_idxs[1,:].argsort()]\n",
    "  idxs = label_idxs[0,:]\n",
    "\n",
    "  # divide the data into total_shards of size shards_size\n",
    "  # assign num_shards_per_client to each client\n",
    "  for i in range(clients):\n",
    "    rand_set = set(np.random.choice(shard_idxs, num_shards_per_client, replace=False))\n",
    "    shard_idxs = list(set(shard_idxs) - rand_set)\n",
    "\n",
    "    for rand in rand_set:\n",
    "      client_dict[i] = np.concatenate((client_dict[i], idxs[rand*shards_size:(rand+1)*shards_size]), axis=0)\n",
    "  \n",
    "  return client_dict\n",
    "\n",
    "\n",
    "\n"
   ]
  },
  {
   "cell_type": "markdown",
   "metadata": {
    "id": "PTfxv8kFoGAy"
   },
   "source": [
    "## Models"
   ]
  },
  {
   "cell_type": "code",
   "execution_count": 20,
   "metadata": {
    "id": "CvoDNFKbZST5"
   },
   "outputs": [],
   "source": [
    "class MNIST_2NN(nn.Module):\n",
    "  \"\"\"\n",
    "  A simple multilayer-perceptron with 2-hidden layers with 200 units each\n",
    "  using ReLu activations\n",
    "\n",
    "  Total Expected Params: 199,210\n",
    "  \"\"\"\n",
    "  def __init__(self):\n",
    "    super(MNIST_2NN, self).__init__()\n",
    "\n",
    "    self.fc1 = nn.Linear(28*28, 200)\n",
    "    self.fc2 = nn.Linear(200, 200)\n",
    "    self.fc3 = nn.Linear(200, 10)\n",
    "\n",
    "  def forward(self, x):\n",
    "    x = torch.flatten(x, 1)\n",
    "    x = F.relu(self.fc1(x))\n",
    "    x = F.relu(self.fc2(x))\n",
    "    out = self.fc3(x)\n",
    "\n",
    "    return x"
   ]
  },
  {
   "cell_type": "code",
   "execution_count": 21,
   "metadata": {
    "id": "ut1hZ8x3qYPZ"
   },
   "outputs": [],
   "source": [
    "class MNIST_CNN(nn.Module):\n",
    "  \"\"\"\n",
    "  CNN with two 5x5 convolution lauers(the first with 32 channels, second with 64,\n",
    "  each followed with 2x2 max pooling), a fully connected layer with 512 uunits and \n",
    "  ReLu activation, and the final Softmax output layer\n",
    "\n",
    "  Total Expected Params: 1,663,370\n",
    "  \"\"\"\n",
    "  def __init__(self):\n",
    "    super(MNIST_CNN, self).__init__()\n",
    "\n",
    "    self.conv1 = nn.Conv2d(1, 32, kernel_size=5)\n",
    "    self.conv2 = nn.Conv2d(32, 64, kernel_size=5)\n",
    "    \n",
    "    self.pool = nn.MaxPool2d(2,2)\n",
    "    self.dropout = nn.Dropout(p=0.2)\n",
    "\n",
    "    self.fc1 = nn.Linear(1024, 512)\n",
    "    self.out = nn.Linear(512, 10)\n",
    "\n",
    "  def forward(self, x):\n",
    "    x = self.pool(F.relu(self.conv1(x)))\n",
    "    x = self.pool(F.relu(self.conv2(x)))\n",
    "    x = self.dropout(x)\n",
    "    x = torch.flatten(x, 1)\n",
    "    x = F.relu(self.fc1(x))\n",
    "    x = self.out(x)\n",
    "    out = F.log_softmax(x, dim=1)\n",
    "\n",
    "    return out"
   ]
  },
  {
   "cell_type": "markdown",
   "metadata": {
    "id": "uVv4HA9HuLtr"
   },
   "source": [
    "### Print Model Summaries"
   ]
  },
  {
   "cell_type": "code",
   "execution_count": 22,
   "metadata": {
    "id": "I5oTH710sJEt"
   },
   "outputs": [
    {
     "name": "stdout",
     "output_type": "stream",
     "text": [
      "MNIST MLP SUMMARY\n",
      "----------------------------------------------------------------\n",
      "        Layer (type)               Output Shape         Param #\n",
      "================================================================\n",
      "            Linear-1                  [-1, 200]         157,000\n",
      "            Linear-2                  [-1, 200]          40,200\n",
      "            Linear-3                   [-1, 10]           2,010\n",
      "================================================================\n",
      "Total params: 199,210\n",
      "Trainable params: 199,210\n",
      "Non-trainable params: 0\n",
      "----------------------------------------------------------------\n",
      "Input size (MB): 0.00\n",
      "Forward/backward pass size (MB): 0.00\n",
      "Params size (MB): 0.76\n",
      "Estimated Total Size (MB): 0.77\n",
      "----------------------------------------------------------------\n",
      "None\n",
      "\n",
      "MNIST CNN SUMMARY\n",
      "----------------------------------------------------------------\n",
      "        Layer (type)               Output Shape         Param #\n",
      "================================================================\n",
      "            Conv2d-1           [-1, 32, 24, 24]             832\n",
      "         MaxPool2d-2           [-1, 32, 12, 12]               0\n",
      "            Conv2d-3             [-1, 64, 8, 8]          51,264\n",
      "         MaxPool2d-4             [-1, 64, 4, 4]               0\n",
      "           Dropout-5             [-1, 64, 4, 4]               0\n",
      "            Linear-6                  [-1, 512]         524,800\n",
      "            Linear-7                   [-1, 10]           5,130\n",
      "================================================================\n",
      "Total params: 582,026\n",
      "Trainable params: 582,026\n",
      "Non-trainable params: 0\n",
      "----------------------------------------------------------------\n",
      "Input size (MB): 0.00\n",
      "Forward/backward pass size (MB): 0.23\n",
      "Params size (MB): 2.22\n",
      "Estimated Total Size (MB): 2.45\n",
      "----------------------------------------------------------------\n",
      "None\n"
     ]
    }
   ],
   "source": [
    "mnist_mlp = MNIST_2NN()\n",
    "mnist_cnn = MNIST_CNN()\n",
    "\n",
    "if torch.cuda.is_available():\n",
    "  mnist_mlp.cuda()\n",
    "  mnist_cnn.cuda()\n",
    "\n",
    "print(\"MNIST MLP SUMMARY\")\n",
    "print(summary(mnist_mlp, (28,28)))\n",
    "\n",
    "print(\"\\nMNIST CNN SUMMARY\")\n",
    "print(summary(mnist_cnn, (1, 28,28)))"
   ]
  },
  {
   "cell_type": "markdown",
   "metadata": {
    "id": "JYXicM_FjSv6"
   },
   "source": [
    "## FedProx"
   ]
  },
  {
   "cell_type": "markdown",
   "metadata": {
    "id": "cjGMTWxAOsf1"
   },
   "source": [
    "### Systems Heterogeneity Simulations\n",
    "\n",
    "Generate epochs for selected clients based on percentage of devices that corresponds to heterogeneity. \n",
    "\n",
    "Assign x number of epochs (chosen unifirmly at random between [1, E]) to 0%, 50% or 90% of the selected devices, respectively. Settings where 0% devices perform fewer than E epochs of work correspond to the environments without system heterogeneity, while 90% of the devices sending their partial solutions corresponds to highly heterogenous system."
   ]
  },
  {
   "cell_type": "code",
   "execution_count": 23,
   "metadata": {
    "id": "i-WTHuT3OpFD"
   },
   "outputs": [],
   "source": [
    "def GenerateLocalEpochs(percentage, size, max_epochs):\n",
    "  ''' Method generates list of epochs for selected clients\n",
    "  to replicate system heteroggeneity\n",
    "\n",
    "  Params:\n",
    "    percentage: percentage of clients to have fewer than E epochs\n",
    "    size:       total size of the list\n",
    "    max_epochs: maximum value for local epochs\n",
    "  \n",
    "  Returns:\n",
    "    List of size epochs for each Client Update\n",
    "\n",
    "  '''\n",
    "\n",
    "  # if percentage is 0 then each client runs for E epochs\n",
    "  if percentage == 0:\n",
    "      return np.array([max_epochs]*size)\n",
    "  else:\n",
    "    # get the number of clients to have fewer than E epochs\n",
    "    heterogenous_size = int((percentage/100) * size)\n",
    "\n",
    "    # generate random uniform epochs of heterogenous size between 1 and E\n",
    "    epoch_list = np.random.randint(1, max_epochs, heterogenous_size)\n",
    "\n",
    "    # the rest of the clients will have E epochs\n",
    "    remaining_size = size - heterogenous_size\n",
    "    rem_list = [max_epochs]*remaining_size\n",
    "\n",
    "    epoch_list = np.append(epoch_list, rem_list, axis=0)\n",
    "    \n",
    "    # shuffle the list and return\n",
    "    np.random.shuffle(epoch_list)\n",
    "\n",
    "    return epoch_list"
   ]
  },
  {
   "cell_type": "markdown",
   "metadata": {
    "id": "gf_8XEXa-gZ7"
   },
   "source": [
    "## Federated Averaging"
   ]
  },
  {
   "cell_type": "markdown",
   "metadata": {
    "id": "L-aNdQsQ-Kvp"
   },
   "source": [
    "### Local Training (Client Update)\n",
    "\n",
    "Local training for the model on client side"
   ]
  },
  {
   "cell_type": "code",
   "execution_count": 24,
   "metadata": {
    "id": "oX6OsQyO-Gz7"
   },
   "outputs": [],
   "source": [
    "class CustomDataset(Dataset):\n",
    "  def __init__(self, dataset, idxs):\n",
    "      self.dataset = dataset\n",
    "      self.idxs = list(idxs)\n",
    "\n",
    "  def __len__(self):\n",
    "      return len(self.idxs)\n",
    "\n",
    "  def __getitem__(self, item):\n",
    "      image, label = self.dataset[self.idxs[item]]\n",
    "      return image, label\n",
    "\n",
    "\n",
    "class ClientUpdate(object):\n",
    "  def __init__(self, dataset, batchSize, learning_rate, epochs, idxs, mu, algorithm):\n",
    "    self.train_loader = DataLoader(CustomDataset(dataset, idxs), batch_size=batchSize, shuffle=True)\n",
    "    self.algorithm = algorithm\n",
    "    self.learning_rate = learning_rate\n",
    "    self.epochs = epochs\n",
    "\n",
    "  def train(self, model):\n",
    "    criterion = nn.CrossEntropyLoss()\n",
    "    proximal_criterion = nn.MSELoss(reduction='mean')\n",
    "    optimizer = torch.optim.SGD(model.parameters(), lr=self.learning_rate, momentum=0.5)\n",
    "\n",
    "    # use the weights of global model for proximal term calculation\n",
    "    global_model = copy.deepcopy(model)\n",
    "\n",
    "    # calculate local training time\n",
    "    start_time = time.time()\n",
    "\n",
    "    e_loss = []\n",
    "    for epoch in range(1, self.epochs+1):\n",
    "\n",
    "      train_loss = 0.0\n",
    "      model.train()\n",
    "      for data, labels in self.train_loader:\n",
    "\n",
    "        if torch.cuda.is_available():\n",
    "          data, labels = data.cuda(), labels.cuda()\n",
    "\n",
    "        # clear the gradients\n",
    "        optimizer.zero_grad()\n",
    "        # make a forward pass\n",
    "        output = model(data)\n",
    "\n",
    "        # calculate the loss + the proximal term\n",
    "        _, pred = torch.max(output, 1)\n",
    "\n",
    "        if self.algorithm == 'fedprox':\n",
    "          proximal_term = 0.0\n",
    "\n",
    "          # iterate through the current and global model parameters\n",
    "          for w, w_t in zip(model.parameters(), global_model.parameters()) :\n",
    "            # update the proximal term \n",
    "            #proximal_term += torch.sum(torch.abs((w-w_t)**2))\n",
    "            proximal_term += (w-w_t).norm(2)\n",
    "\n",
    "          loss = criterion(output, labels) + (mu/2)*proximal_term\n",
    "        else:\n",
    "          loss = criterion(output, labels)\n",
    "    \n",
    "        # do a backwards pass\n",
    "        loss.backward()\n",
    "        # perform a single optimization step\n",
    "        optimizer.step()\n",
    "        # update training loss\n",
    "        train_loss += loss.item()*data.size(0)\n",
    "\n",
    "      # average losses\n",
    "      train_loss = train_loss/len(self.train_loader.dataset)\n",
    "      e_loss.append(train_loss)\n",
    "\n",
    "    total_loss = sum(e_loss)/len(e_loss)\n",
    "\n",
    "    return model, total_loss, (time.time() - start_time)"
   ]
  },
  {
   "cell_type": "markdown",
   "metadata": {
    "id": "Ukgh1DVHE2Ds"
   },
   "source": [
    "### Server Side Training\n",
    "\n",
    "Following Algorithm 1 from the paper"
   ]
  },
  {
   "cell_type": "code",
   "execution_count": 25,
   "metadata": {
    "id": "1NF1e33BgpeL"
   },
   "outputs": [],
   "source": [
    "def training(model, rounds, batch_size, lr, ds, ds_test, data_dict, C, K, E, mu, percentage, plt_title, plt_color, target_test_accuracy, algorithm=\"fedprox\"):\n",
    "  \"\"\"\n",
    "  Function implements the Federated Averaging Algorithm from the FedAvg paper.\n",
    "  Specifically, this function is used for the server side training and weight update\n",
    "\n",
    "  Params:\n",
    "    - model:           PyTorch model to train\n",
    "    - rounds:          Number of communication rounds for the client update\n",
    "    - batch_size:      Batch size for client update training\n",
    "    - lr:              Learning rate used for client update training\n",
    "    - ds:              Dataset used for training\n",
    "    - ds_test:         Dataset used for testing\n",
    "    - data_dict:       Type of data partition used for training (IID or non-IID)\n",
    "    - C:               Fraction of clients randomly chosen to perform computation on each round\n",
    "    - K:               Total number of clients\n",
    "    - E:               Number of training passes each client makes over its local dataset per round\n",
    "    - tb_writer_name:  Directory name to save the tensorboard logs\n",
    "  Returns:\n",
    "    - model:           Trained model on the server\n",
    "  \"\"\"\n",
    "\n",
    "  # global model weights\n",
    "  global_weights = model.state_dict()\n",
    "\n",
    "  # training loss\n",
    "  # train_accuracy = []\n",
    "  train_loss = []\n",
    "  test_accuracy = []\n",
    "  test_loss = []\n",
    "\n",
    "  train_loss_clients = [[] for _ in range(K)]\n",
    "  test_accuracy_clients = [[] for _ in range(K)]\n",
    "  test_loss_clients = [[] for _ in range(K)]\n",
    "\n",
    "  # store last loss for convergence\n",
    "  last_loss = 0.0\n",
    "\n",
    "  # total time taken \n",
    "  total_time = 0\n",
    "  start = time.time()\n",
    "    \n",
    "  print(f\"System heterogeneity set to {percentage}% stragglers.\\n\")\n",
    "  print(f\"Picking {max(int(C*K),1 )} random clients per round.\\n\")\n",
    "\n",
    "  for curr_round in range(1, rounds+1):\n",
    "    w, local_loss, lst_local_train_time = [], [], []\n",
    "\n",
    "    m = max(int(C*K), 1)\n",
    "\n",
    "    heterogenous_epoch_list = GenerateLocalEpochs(percentage, size=m, max_epochs=E)\n",
    "    heterogenous_epoch_list = np.array(heterogenous_epoch_list)\n",
    "\n",
    "    S_t = np.random.choice(range(K), m, replace=False)\n",
    "    S_t = np.array(S_t)\n",
    "    \n",
    "    # For Federated Averaging, drop all the clients that are stragglers\n",
    "    if algorithm == 'fedavg':\n",
    "      stragglers_indices = np.argwhere(heterogenous_epoch_list < E)\n",
    "      heterogenous_epoch_list = np.delete(heterogenous_epoch_list, stragglers_indices)\n",
    "      S_t = np.delete(S_t, stragglers_indices)\n",
    "\n",
    "    for k, epoch in zip(S_t, heterogenous_epoch_list):\n",
    "      local_update = ClientUpdate(dataset=ds, batchSize=batch_size, learning_rate=lr, epochs=epoch, idxs=data_dict[k], mu=mu, algorithm=algorithm)\n",
    "      model, loss, local_train_time = local_update.train(model=copy.deepcopy(model))\n",
    "      test_criterion = nn.CrossEntropyLoss()\n",
    "      test_accuracy_current_client, test_loss_current_client =  testing(copy.deepcopy(model), ds_test, 128, test_criterion, num_classes, classes_test)\n",
    "    \n",
    "      weights = model.state_dict() \n",
    "      w.append(copy.deepcopy(weights))\n",
    "\n",
    "      local_loss.append(copy.deepcopy(loss))\n",
    "      train_loss_clients[k].append((curr_round, copy.deepcopy(loss)))\n",
    "      test_accuracy_clients[k].append((curr_round, test_accuracy_current_client))\n",
    "      test_loss_clients[k].append((curr_round, test_loss_current_client))\n",
    "\n",
    "      lst_local_train_time.append(local_train_time)\n",
    "\n",
    "    # calculate time to update the global weights\n",
    "    global_start_time = time.time()\n",
    "\n",
    "    # updating the global weights\n",
    "    weights_avg = copy.deepcopy(w[0])\n",
    "    for k in weights_avg.keys():\n",
    "      for i in range(1, len(w)):\n",
    "        weights_avg[k] += w[i][k]\n",
    "\n",
    "      weights_avg[k] = torch.div(weights_avg[k], len(w))\n",
    "\n",
    "    global_weights = weights_avg\n",
    "    global_end_time = time.time()\n",
    "\n",
    "    # calculate total time \n",
    "    total_time += (global_end_time - global_start_time) + sum(lst_local_train_time)/len(lst_local_train_time)\n",
    "\n",
    "    # move the updated weights to our model state dict\n",
    "    model.load_state_dict(global_weights)\n",
    "\n",
    "    # loss\n",
    "    loss_avg = sum(local_loss) / len(local_loss)\n",
    "\n",
    "    # test accuracy\n",
    "    criterion = nn.CrossEntropyLoss()\n",
    "    test_accuracy_current, test_loss_current = testing(copy.deepcopy(model), ds_test, 128, criterion, num_classes, classes_test)\n",
    "    test_accuracy.append(test_accuracy_current)\n",
    "    test_loss.append(test_loss_current)\n",
    "\n",
    "    print(f\"Round: {curr_round}... \\tAverage Train Loss: {round(loss_avg, 3)}... \\tTest Loss: {test_loss_current}... \\tTest Accuracy: {test_accuracy_current}\")\n",
    "    train_loss.append(loss_avg)\n",
    "\n",
    "    # break if we achieve the target test accuracy\n",
    "#     if test_accuracy_current >= target_test_accuracy:\n",
    "#       rounds = curr_round\n",
    "#       break\n",
    "\n",
    "    # break if we achieve convergence, i.e., loss between two consecutive rounds is <0.0001\n",
    "    if algorithm == 'fedprox' and abs(loss_avg - last_loss) < 0.0001:\n",
    "      rounds = curr_round\n",
    "      break\n",
    "    \n",
    "    # update the last loss\n",
    "    last_loss = loss_avg\n",
    "\n",
    "  end = time.time()\n",
    "\n",
    "  # plot train loss\n",
    "  fig, ax = plt.subplots()\n",
    "  x_axis = np.arange(1, rounds+1)\n",
    "  y_axis = np.array(train_loss)\n",
    "  ax.plot(x_axis, y_axis)\n",
    "\n",
    "  ax.set(xlabel='Number of Rounds', ylabel='Train Loss', title=plt_title)\n",
    "  ax.grid()\n",
    "  fig.savefig(plt_title+'_Train_loss.jpg', format='jpg')\n",
    "  plt.show()\n",
    "\n",
    "  fig, ax = plt.subplots()\n",
    "  x_axis = np.arange(1, rounds+1)\n",
    "  y_axis = np.array(test_loss)\n",
    "  ax.plot(x_axis, y_axis, 'tab:'+plt_color)\n",
    "\n",
    "  ax.set(xlabel='Number of Rounds', ylabel='Test Loss', title=plt_title)\n",
    "  ax.grid()\n",
    "  fig.savefig(plt_title+'_Test_loss.jpg', format='jpg')\n",
    "  plt.show()\n",
    "\n",
    "\n",
    "  fig, ax = plt.subplots()\n",
    "  x_axis = np.arange(1, rounds+1)\n",
    "  y_axis = np.array(test_accuracy)\n",
    "  ax.plot(x_axis, y_axis, 'tab:'+plt_color)\n",
    "\n",
    "  ax.set(xlabel='Number of Rounds', ylabel='Test Accuracy', title=plt_title)\n",
    "  ax.grid()\n",
    "  fig.savefig(plt_title+'_Test_Accuracy.jpg', format='jpg')\n",
    "  plt.show()\n",
    "  \n",
    "  print(\"Training Done!\")\n",
    "  print(\"Total time taken to Train: {}\\n\\n\".format(end-start))\n",
    "  \n",
    "  return model, train_loss, test_accuracy, test_loss, train_loss_clients, test_accuracy_clients, test_loss_clients"
   ]
  },
  {
   "cell_type": "markdown",
   "metadata": {
    "id": "tUYyb4T-uXmF"
   },
   "source": [
    "## Testing Loop"
   ]
  },
  {
   "cell_type": "code",
   "execution_count": 26,
   "metadata": {
    "id": "uCcIZmO5uan9"
   },
   "outputs": [],
   "source": [
    "def testing(model, dataset, bs, criterion, num_classes, classes, print_info=False):\n",
    "  #test loss \n",
    "  test_loss = 0.0\n",
    "  correct_class = list(0. for i in range(num_classes))\n",
    "  total_class = list(0. for i in range(num_classes))\n",
    "\n",
    "  test_loader = DataLoader(dataset, batch_size=bs)\n",
    "  l = len(test_loader)\n",
    "  model.eval()\n",
    "  for data, labels in test_loader:\n",
    "\n",
    "    if torch.cuda.is_available():\n",
    "      data, labels = data.cuda(), labels.cuda()\n",
    "\n",
    "    output = model(data)\n",
    "    loss = criterion(output, labels)\n",
    "    test_loss += loss.item()*data.size(0)\n",
    "\n",
    "    _, pred = torch.max(output, 1)\n",
    "\n",
    "    correct_tensor = pred.eq(labels.data.view_as(pred))\n",
    "    correct = np.squeeze(correct_tensor.numpy()) if not torch.cuda.is_available() else np.squeeze(correct_tensor.cpu().numpy())\n",
    "\n",
    "    #test accuracy for each object class\n",
    "    for i in range(num_classes):\n",
    "      label = labels.data[i]\n",
    "      correct_class[label] += correct[i].item()\n",
    "      total_class[label] += 1\n",
    "    \n",
    "  # avg test loss\n",
    "  test_loss = test_loss/len(test_loader.dataset)\n",
    "  test_accuracy = 100. * np.sum(correct_class) / np.sum(total_class)\n",
    "\n",
    "  if print_info:\n",
    "    print(\"Test Loss: {:.6f}\\n\".format(test_loss))\n",
    "\n",
    "    for i in range(10):\n",
    "      if total_class[i]>0:\n",
    "        print('Test Accuracy of %5s: %2d%% (%2d/%2d)' % \n",
    "              (classes[i], 100 * correct_class[i] / total_class[i],\n",
    "              np.sum(correct_class[i]), np.sum(total_class[i])))\n",
    "      else:\n",
    "        print('Test Accuracy of %5s: N/A (no training examples)' % (classes[i]))\n",
    "\n",
    "    print('\\nFinal Test  Accuracy: {:.3f} ({}/{})'.format(\n",
    "          100. * np.sum(correct_class) / np.sum(total_class),\n",
    "          np.sum(correct_class), np.sum(total_class)))\n",
    "  \n",
    "  return test_accuracy, test_loss"
   ]
  },
  {
   "cell_type": "markdown",
   "metadata": {
    "id": "Ri0FqXFeHW-V"
   },
   "source": [
    "## Logger"
   ]
  },
  {
   "cell_type": "code",
   "execution_count": 27,
   "metadata": {
    "id": "thZm2kSiHT4v"
   },
   "outputs": [],
   "source": [
    "log_dict = {}\n",
    "NUM_REPEAT = 5"
   ]
  },
  {
   "cell_type": "markdown",
   "metadata": {
    "id": "4hO5oV6aXqeh"
   },
   "source": [
    "## MNIST CNN on IID"
   ]
  },
  {
   "cell_type": "markdown",
   "metadata": {
    "id": "flSQv_P4zCfx"
   },
   "source": [
    "### Train\n"
   ]
  },
  {
   "cell_type": "code",
   "execution_count": null,
   "metadata": {
    "id": "0ZalcKZtEseA"
   },
   "outputs": [
    {
     "name": "stdout",
     "output_type": "stream",
     "text": [
      "Experiment Run Number:  0\n",
      "System heterogeneity set to 50% stragglers.\n",
      "\n",
      "Picking 10 random clients per round.\n",
      "\n",
      "Round: 1... \tAverage Train Loss: 0.181... \tTest Loss: 0.06933998598763719... \tTest Accuracy: 97.9746835443038\n"
     ]
    }
   ],
   "source": [
    "train_loss_multiple_runs = [None] * NUM_REPEAT\n",
    "test_accuracy_multiple_runs = [None] * NUM_REPEAT\n",
    "test_loss_multiple_runs = [None] * NUM_REPEAT\n",
    "train_loss_clients_multiple_runs = [None] * NUM_REPEAT\n",
    "test_accuracy_clients_multiple_runs = [None] * NUM_REPEAT\n",
    "test_loss_clients_multiple_runs = [None] * NUM_REPEAT\n",
    "\n",
    "for exp_num in range(NUM_REPEAT):\n",
    "  print(\"Experiment Run Number: \", exp_num)\n",
    "\n",
    "  # number of training rounds\n",
    "  rounds = 50\n",
    "  # client fraction\n",
    "  C = 0.1\n",
    "  # number of clients\n",
    "  K = 100\n",
    "  # number of training passes on local dataset for each roung\n",
    "  E = 5\n",
    "  # batch size\n",
    "  batch_size = 10\n",
    "  # learning Rate\n",
    "  lr = 0.05\n",
    "  # proximal term constant\n",
    "  mu = 0.01\n",
    "  # percentage of clients to have fewer than E epochs\n",
    "  percentage = 50\n",
    "\n",
    "  # target_test_accuracy\n",
    "  target_test_accuracy=99.0\n",
    "  # data partition dictionary\n",
    "  iid_dict = iid_partition(mnist_data_train, 100)\n",
    "  # load model\n",
    "  mnist_cnn = MNIST_CNN()\n",
    "\n",
    "  if torch.cuda.is_available():\n",
    "    mnist_cnn.cuda()\n",
    "\n",
    "  mnist_cnn_iid_trained, train_loss, test_accuracy, test_loss, train_loss_clients, test_accuracy_clients, test_loss_clients = training(mnist_cnn, rounds, batch_size, lr, mnist_data_train, mnist_data_test, iid_dict, C, K, E, mu, percentage, \"MNIST CNN on IID Dataset\", \"orange\", target_test_accuracy)\n",
    "\n",
    "  train_loss_multiple_runs[exp_num] = train_loss\n",
    "  test_accuracy_multiple_runs[exp_num] = test_accuracy\n",
    "  test_loss_multiple_runs[exp_num] = test_loss\n",
    "  train_loss_clients_multiple_runs[exp_num] = train_loss_clients\n",
    "  test_accuracy_clients_multiple_runs[exp_num] = test_accuracy_clients\n",
    "  test_loss_clients_multiple_runs[exp_num] = test_loss_clients"
   ]
  },
  {
   "cell_type": "markdown",
   "metadata": {
    "id": "wNwC82przF6G"
   },
   "source": [
    "### Test"
   ]
  },
  {
   "cell_type": "code",
   "execution_count": null,
   "metadata": {
    "id": "qB97BFs9we9w"
   },
   "outputs": [],
   "source": [
    "criterion = nn.CrossEntropyLoss() \n",
    "acc, loss = testing(mnist_cnn_iid_trained, mnist_data_test, 128, criterion, num_classes, classes_test, True)"
   ]
  },
  {
   "cell_type": "code",
   "execution_count": null,
   "metadata": {
    "id": "gdQZEZmHHeqt"
   },
   "outputs": [],
   "source": [
    "hyperparams = {'rounds': rounds,\n",
    "               'C': C,\n",
    "               'K': K,\n",
    "               'E': E,\n",
    "               'batch_size': batch_size,\n",
    "               'lr': lr,\n",
    "               'mu': mu,\n",
    "               'percentage': percentage,\n",
    "               'target_test_accuracy': target_test_accuracy,\n",
    "               }\n",
    "\n",
    "log_dict['MNIST CNN on IID'] = {'train_loss': train_loss_multiple_runs, \n",
    "                                'test_loss': test_loss_multiple_runs, \n",
    "                                'test_accuracy': test_accuracy_multiple_runs,\n",
    "                                'train_loss_clients': train_loss_clients_multiple_runs,\n",
    "                                'test_accuracy_clients': test_accuracy_clients_multiple_runs, \n",
    "                                'test_loss_clients': test_loss_clients_multiple_runs,\n",
    "                                'hyperparams': hyperparams,\n",
    "                                }"
   ]
  },
  {
   "cell_type": "markdown",
   "metadata": {
    "id": "uF8MdSIUYcnl"
   },
   "source": [
    "## MNIST CNN on Non IID"
   ]
  },
  {
   "cell_type": "markdown",
   "metadata": {
    "id": "a6wXX7JW11bx"
   },
   "source": [
    "### Train\n"
   ]
  },
  {
   "cell_type": "code",
   "execution_count": null,
   "metadata": {
    "id": "fCD3kBCKYfBK"
   },
   "outputs": [],
   "source": [
    "train_loss_multiple_runs = [None] * NUM_REPEAT\n",
    "test_accuracy_multiple_runs = [None] * NUM_REPEAT\n",
    "test_loss_multiple_runs = [None] * NUM_REPEAT\n",
    "train_loss_clients_multiple_runs = [None] * NUM_REPEAT\n",
    "test_accuracy_clients_multiple_runs = [None] * NUM_REPEAT\n",
    "test_loss_clients_multiple_runs = [None] * NUM_REPEAT\n",
    "\n",
    "for exp_num in range(NUM_REPEAT):\n",
    "  print(\"Experiment Run Number: \", exp_num)\n",
    "\n",
    "  # number of training rounds\n",
    "  rounds = 50\n",
    "  # client fraction\n",
    "  C = 0.1\n",
    "  # number of clients\n",
    "  K = 100\n",
    "  # number of training passes on local dataset for each roung\n",
    "  E = 5\n",
    "  # batch size\n",
    "  batch_size = 10\n",
    "  # learning Rate\n",
    "  lr=0.05\n",
    "  # proximal term constant\n",
    "  mu = 0.01\n",
    "  # percentage of clients to have fewer than E epochs\n",
    "  percentage = 50\n",
    "  # target_test_accuracy\n",
    "  target_test_accuracy=99.0\n",
    "\n",
    "  # dict containing different type of data partition\n",
    "  data_dict = non_iid_partition(mnist_data_train, 100, 200, 300, 2)\n",
    "  # load model\n",
    "  mnist_cnn = MNIST_CNN()\n",
    "\n",
    "  if torch.cuda.is_available():\n",
    "    mnist_cnn.cuda()\n",
    "\n",
    "  mnist_cnn_non_iid_trained, train_loss, test_accuracy, test_loss, train_loss_clients, test_accuracy_clients, test_loss_clients = training(mnist_cnn, rounds, batch_size, lr, mnist_data_train, mnist_data_test, data_dict, C, K, E,mu, percentage, \"MNIST CNN on Non-IID Dataset\", \"green\", target_test_accuracy)\n",
    "\n",
    "  train_loss_multiple_runs[exp_num] = train_loss\n",
    "  test_accuracy_multiple_runs[exp_num] = test_accuracy\n",
    "  test_loss_multiple_runs[exp_num] = test_loss\n",
    "  train_loss_clients_multiple_runs[exp_num] = train_loss_clients\n",
    "  test_accuracy_clients_multiple_runs[exp_num] = test_accuracy_clients\n",
    "  test_loss_clients_multiple_runs[exp_num] = test_loss_clients"
   ]
  },
  {
   "cell_type": "markdown",
   "metadata": {
    "id": "4C68J-Kk14dB"
   },
   "source": [
    "### Test"
   ]
  },
  {
   "cell_type": "code",
   "execution_count": null,
   "metadata": {
    "id": "_yQ9GiAZ15jE"
   },
   "outputs": [],
   "source": [
    "criterion = nn.CrossEntropyLoss()\n",
    "acc, loss = testing(mnist_cnn_non_iid_trained, mnist_data_test, 128, criterion, num_classes, classes_test, True)"
   ]
  },
  {
   "cell_type": "code",
   "execution_count": null,
   "metadata": {
    "id": "dxMcxgLhLvX-"
   },
   "outputs": [],
   "source": [
    "hyperparams = {'rounds': rounds,\n",
    "               'C': C,\n",
    "               'K': K,\n",
    "               'E': E,\n",
    "               'batch_size': batch_size,\n",
    "               'lr': lr,\n",
    "               'mu': mu,\n",
    "               'percentage': percentage,\n",
    "               'target_test_accuracy': target_test_accuracy,\n",
    "               }\n",
    "\n",
    "log_dict['MNIST CNN on Non IID'] = {'train_loss': train_loss_multiple_runs, \n",
    "                                'test_loss': test_loss_multiple_runs, \n",
    "                                'test_accuracy': test_accuracy_multiple_runs,\n",
    "                                'train_loss_clients': train_loss_clients_multiple_runs,\n",
    "                                'test_accuracy_clients': test_accuracy_clients_multiple_runs, \n",
    "                                'test_loss_clients': test_loss_clients_multiple_runs,\n",
    "                                'hyperparams': hyperparams,\n",
    "                                }"
   ]
  },
  {
   "cell_type": "markdown",
   "metadata": {
    "id": "z_jifdzniuhm"
   },
   "source": [
    "## MNIST MLP on IID"
   ]
  },
  {
   "cell_type": "markdown",
   "metadata": {
    "id": "uh-te0Od2XGO"
   },
   "source": [
    "### Train"
   ]
  },
  {
   "cell_type": "code",
   "execution_count": null,
   "metadata": {
    "id": "UmpWmKOQixVV"
   },
   "outputs": [],
   "source": [
    "train_loss_multiple_runs = [None] * NUM_REPEAT\n",
    "test_accuracy_multiple_runs = [None] * NUM_REPEAT\n",
    "test_loss_multiple_runs = [None] * NUM_REPEAT\n",
    "train_loss_clients_multiple_runs = [None] * NUM_REPEAT\n",
    "test_accuracy_clients_multiple_runs = [None] * NUM_REPEAT\n",
    "test_loss_clients_multiple_runs = [None] * NUM_REPEAT\n",
    "\n",
    "for exp_num in range(NUM_REPEAT):\n",
    "  print(\"Experiment Run Number: \", exp_num)\n",
    "\n",
    "  # number of training rounds\n",
    "  rounds = 50\n",
    "  # client fraction\n",
    "  C = 0.1\n",
    "  # number of clients\n",
    "  K = 100\n",
    "  # number of training passes on local dataset for each round\n",
    "  E = 5\n",
    "  # batch size\n",
    "  batch_size = 10\n",
    "  # learning Rate\n",
    "  lr = 0.05\n",
    "  # proximal term constant\n",
    "  mu = 0.01\n",
    "  # percentage of clients to have fewer than E epochs\n",
    "  percentage = 50\n",
    "  # target_test_accuracy\n",
    "  target_test_accuracy=94.0\n",
    "  # dict containing different type of data partition\n",
    "  data_dict = iid_partition(mnist_data_train, 100)\n",
    "  # load model\n",
    "  mnist_mlp = MNIST_2NN()\n",
    "\n",
    "  if torch.cuda.is_available():\n",
    "    mnist_mlp.cuda()\n",
    "\n",
    "  mnist_mlp_iid_trained, train_loss, test_accuracy, test_loss, train_loss_clients, test_accuracy_clients, test_loss_clients = training(mnist_mlp, rounds, batch_size, lr, mnist_data_train, mnist_data_test, data_dict, C, K, E, mu, percentage, \"MNIST MLP on IID Dataset\", \"orange\", target_test_accuracy)\n",
    "  \n",
    "  train_loss_multiple_runs[exp_num] = train_loss\n",
    "  test_accuracy_multiple_runs[exp_num] = test_accuracy\n",
    "  test_loss_multiple_runs[exp_num] = test_loss\n",
    "  train_loss_clients_multiple_runs[exp_num] = train_loss_clients\n",
    "  test_accuracy_clients_multiple_runs[exp_num] = test_accuracy_clients\n",
    "  test_loss_clients_multiple_runs[exp_num] = test_loss_clients"
   ]
  },
  {
   "cell_type": "markdown",
   "metadata": {
    "id": "aTBsL3-72PPd"
   },
   "source": [
    "### Test"
   ]
  },
  {
   "cell_type": "code",
   "execution_count": null,
   "metadata": {
    "id": "a9G4j5L62OrS"
   },
   "outputs": [],
   "source": [
    "criterion = nn.CrossEntropyLoss()\n",
    "acc, loss = testing(mnist_mlp_iid_trained, mnist_data_test, 128, criterion, num_classes, classes_test, True)"
   ]
  },
  {
   "cell_type": "code",
   "execution_count": null,
   "metadata": {
    "id": "fWCdJFRCL_f2"
   },
   "outputs": [],
   "source": [
    "hyperparams = {'rounds': rounds,\n",
    "               'C': C,\n",
    "               'K': K,\n",
    "               'E': E,\n",
    "               'batch_size': batch_size,\n",
    "               'lr': lr,\n",
    "               'mu': mu,\n",
    "               'percentage': percentage,\n",
    "               'target_test_accuracy': target_test_accuracy,\n",
    "               }\n",
    "\n",
    "log_dict['MNIST MLP on IID'] = {'train_loss': train_loss_multiple_runs, \n",
    "                                'test_loss': test_loss_multiple_runs, \n",
    "                                'test_accuracy': test_accuracy_multiple_runs,\n",
    "                                'train_loss_clients': train_loss_clients_multiple_runs,\n",
    "                                'test_accuracy_clients': test_accuracy_clients_multiple_runs, \n",
    "                                'test_loss_clients': test_loss_clients_multiple_runs,\n",
    "                                'hyperparams': hyperparams,\n",
    "                                }"
   ]
  },
  {
   "cell_type": "markdown",
   "metadata": {
    "id": "J8jzEyO0iywz"
   },
   "source": [
    "## MNIST MLP on Non IID"
   ]
  },
  {
   "cell_type": "markdown",
   "metadata": {
    "id": "pJFepr3y2bF-"
   },
   "source": [
    "### Train"
   ]
  },
  {
   "cell_type": "code",
   "execution_count": null,
   "metadata": {
    "id": "EBKO44Hgi1Uh"
   },
   "outputs": [],
   "source": [
    "train_loss_multiple_runs = [None] * NUM_REPEAT\n",
    "test_accuracy_multiple_runs = [None] * NUM_REPEAT\n",
    "test_loss_multiple_runs = [None] * NUM_REPEAT\n",
    "train_loss_clients_multiple_runs = [None] * NUM_REPEAT\n",
    "test_accuracy_clients_multiple_runs = [None] * NUM_REPEAT\n",
    "test_loss_clients_multiple_runs = [None] * NUM_REPEAT\n",
    "\n",
    "for exp_num in range(NUM_REPEAT):\n",
    "  print(\"Experiment Run Number: \", exp_num)\n",
    "  \n",
    "  # number of training rounds\n",
    "  rounds = 50\n",
    "  # client fraction\n",
    "  C = 0.1\n",
    "  # number of clients\n",
    "  K = 100\n",
    "  # number of training passes on local dataset for each roung\n",
    "  E = 5\n",
    "  # batch size\n",
    "  batch_size = 10\n",
    "  # learning Rate\n",
    "  lr=0.05\n",
    "  # proximal term constant\n",
    "  mu = 0.01\n",
    "  # percentage of clients to have fewer than E epochs\n",
    "  percentage = 50\n",
    "  # target_test_accuracy\n",
    "  target_test_accuracy=94.0\n",
    "  # dict containing different type of data partition\n",
    "  data_dict = non_iid_partition(mnist_data_train, 100, 200, 300, 2)\n",
    "  # load model\n",
    "  mnist_mlp = MNIST_2NN()\n",
    "\n",
    "  if torch.cuda.is_available():\n",
    "    mnist_mlp.cuda()\n",
    "\n",
    "  mnist_mlp_non_iid_trained, train_loss, test_accuracy, test_loss, train_loss_clients, test_accuracy_clients, test_loss_clients  = training(mnist_mlp, rounds, batch_size, lr, mnist_data_train, mnist_data_test, data_dict, C, K, E, mu, percentage, \"MNIST MLP on Non-IID Dataset\", \"green\", target_test_accuracy)\n",
    "\n",
    "  train_loss_multiple_runs[exp_num] = train_loss\n",
    "  test_accuracy_multiple_runs[exp_num] = test_accuracy\n",
    "  test_loss_multiple_runs[exp_num] = test_loss\n",
    "  train_loss_clients_multiple_runs[exp_num] = train_loss_clients\n",
    "  test_accuracy_clients_multiple_runs[exp_num] = test_accuracy_clients\n",
    "  test_loss_clients_multiple_runs[exp_num] = test_loss_clients"
   ]
  },
  {
   "cell_type": "markdown",
   "metadata": {
    "id": "jmuQYPbF2mes"
   },
   "source": [
    "### Test"
   ]
  },
  {
   "cell_type": "code",
   "execution_count": null,
   "metadata": {
    "id": "0tKMlJyF2nGN"
   },
   "outputs": [],
   "source": [
    "criterion = nn.CrossEntropyLoss()\n",
    "acc, loss = testing(mnist_mlp_non_iid_trained, mnist_data_test, 128, criterion, num_classes, classes_test, True)"
   ]
  },
  {
   "cell_type": "code",
   "execution_count": null,
   "metadata": {
    "id": "1W5krYcSMQiu"
   },
   "outputs": [],
   "source": [
    "hyperparams = {'rounds': rounds,\n",
    "               'C': C,\n",
    "               'K': K,\n",
    "               'E': E,\n",
    "               'batch_size': batch_size,\n",
    "               'lr': lr,\n",
    "               'mu': mu,\n",
    "               'percentage': percentage,\n",
    "               'target_test_accuracy': target_test_accuracy,\n",
    "               }\n",
    "\n",
    "log_dict['MNIST MLP on Non IID'] = {'train_loss': train_loss_multiple_runs, \n",
    "                                'test_loss': test_loss_multiple_runs, \n",
    "                                'test_accuracy': test_accuracy_multiple_runs,\n",
    "                                'train_loss_clients': train_loss_clients_multiple_runs,\n",
    "                                'test_accuracy_clients': test_accuracy_clients_multiple_runs, \n",
    "                                'test_loss_clients': test_loss_clients_multiple_runs,\n",
    "                                'hyperparams': hyperparams,\n",
    "                                }"
   ]
  },
  {
   "cell_type": "markdown",
   "metadata": {
    "id": "emS_SaRAP6TZ"
   },
   "source": [
    "## Pickle Log"
   ]
  },
  {
   "cell_type": "code",
   "execution_count": null,
   "metadata": {
    "id": "soAN38JoP0c1"
   },
   "outputs": [],
   "source": [
    "import pickle\n",
    " \n",
    "with open(path + 'Fairness_FedProx.pkl', 'wb') as file:\n",
    "  pickle.dump(log_dict, file)"
   ]
  },
  {
   "cell_type": "code",
   "execution_count": null,
   "metadata": {
    "id": "2UBy-JswSoCJ"
   },
   "outputs": [],
   "source": [
    "log_dict"
   ]
  },
  {
   "cell_type": "code",
   "execution_count": null,
   "metadata": {
    "id": "FZoYIWZI04JC"
   },
   "outputs": [],
   "source": [
    "import pickle\n",
    "\n",
    "with open(path + 'Fairness_FedProx.pkl', 'rb') as file:\n",
    "  log_dict = pickle.load(file)"
   ]
  },
  {
   "cell_type": "code",
   "execution_count": null,
   "metadata": {
    "id": "Jc2Q2hvEpIis"
   },
   "outputs": [],
   "source": [
    "for test_acc_clients_multiple_runs in log_dict['MNIST CNN on IID']['test_accuracy_clients']:\n",
    "  for test_acc_client in test_acc_clients_multiple_runs:\n",
    "    print(test_acc_client)\n",
    "\n",
    "  print(\"\\n\\nRunBreak\\n\\n\")"
   ]
  },
  {
   "cell_type": "code",
   "execution_count": null,
   "metadata": {
    "id": "zyLgiJT6rM3F"
   },
   "outputs": [],
   "source": [
    "for test_acc_clients_multiple_runs in log_dict['MNIST CNN on Non IID']['test_accuracy_clients']:\n",
    "  for test_acc_client in test_acc_clients_multiple_runs:\n",
    "    print(test_acc_client)\n",
    "\n",
    "  print(\"\\n\\nRunBreak\\n\\n\")"
   ]
  },
  {
   "cell_type": "code",
   "execution_count": null,
   "metadata": {
    "id": "7Lc5GqZcrM6g"
   },
   "outputs": [],
   "source": [
    "for test_acc_clients_multiple_runs in log_dict['MNIST MLP on IID']['test_accuracy_clients']:\n",
    "  for test_acc_client in test_acc_clients_multiple_runs:\n",
    "    print(test_acc_client)\n",
    "\n",
    "  print(\"\\n\\nRunBreak\\n\\n\")"
   ]
  },
  {
   "cell_type": "code",
   "execution_count": null,
   "metadata": {
    "id": "vZ6WMMgmrM-3"
   },
   "outputs": [],
   "source": [
    "for test_acc_clients_multiple_runs in log_dict['MNIST MLP on Non IID']['test_accuracy_clients']:\n",
    "  for test_acc_client in test_acc_clients_multiple_runs:\n",
    "    print(test_acc_client)\n",
    "\n",
    "  print(\"\\n\\nRunBreak\\n\\n\")"
   ]
  },
  {
   "cell_type": "code",
   "execution_count": null,
   "metadata": {
    "id": "B87eGKJnAHIh"
   },
   "outputs": [],
   "source": [
    "output.show()"
   ]
  },
  {
   "cell_type": "code",
   "execution_count": null,
   "metadata": {},
   "outputs": [],
   "source": []
  },
  {
   "cell_type": "code",
   "execution_count": null,
   "metadata": {},
   "outputs": [],
   "source": []
  }
 ],
 "metadata": {
  "accelerator": "GPU",
  "colab": {
   "collapsed_sections": [],
   "include_colab_link": true,
   "machine_shape": "hm",
   "name": "FedProx",
   "provenance": []
  },
  "kernelspec": {
   "display_name": "QSGD",
   "language": "python",
   "name": "qsgd"
  },
  "language_info": {
   "codemirror_mode": {
    "name": "ipython",
    "version": 3
   },
   "file_extension": ".py",
   "mimetype": "text/x-python",
   "name": "python",
   "nbconvert_exporter": "python",
   "pygments_lexer": "ipython3",
   "version": "3.7.6"
  }
 },
 "nbformat": 4,
 "nbformat_minor": 1
}
