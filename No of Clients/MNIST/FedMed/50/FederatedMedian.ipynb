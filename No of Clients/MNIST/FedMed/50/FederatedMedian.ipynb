{
  "nbformat": 4,
  "nbformat_minor": 0,
  "metadata": {
    "accelerator": "GPU",
    "colab": {
      "name": "FederatedMedian.ipynb",
      "provenance": [],
      "collapsed_sections": [],
      "machine_shape": "hm"
    },
    "kernelspec": {
      "name": "python3",
      "display_name": "Python 3"
    },
    "language_info": {
      "name": "python"
    }
  },
  "cells": [
    {
      "cell_type": "markdown",
      "metadata": {
        "id": "view-in-github"
      },
      "source": [
        "<a href=\"https://colab.research.google.com/github/tushar-semwal/fedperf/blob/main/Vineeth/Local_Rounds/FedMed/FederatedMedian.ipynb\" target=\"_parent\"><img src=\"https://colab.research.google.com/assets/colab-badge.svg\" alt=\"Open In Colab\"/></a>"
      ]
    },
    {
      "cell_type": "code",
      "metadata": {
        "id": "yKcpjZLrQQJV"
      },
      "source": [
        "%%capture output\n",
        "try:\n",
        "    from google.colab import drive\n",
        "    drive.mount('/content/drive')\n",
        "\n",
        "    import os\n",
        "    path = '/content/drive/MyDrive/Colab Notebooks/OpenMined/'\n",
        "    os.makedirs(path, exist_ok=True)\n",
        "except:\n",
        "    path = './'"
      ],
      "execution_count": 20,
      "outputs": []
    },
    {
      "cell_type": "markdown",
      "metadata": {
        "id": "-0_nKpfq2h1R"
      },
      "source": [
        "## Imports"
      ]
    },
    {
      "cell_type": "code",
      "metadata": {
        "colab": {
          "base_uri": "https://localhost:8080/"
        },
        "id": "DLLNM9X2JbQ8",
        "outputId": "7d51af49-6729-4096-be2f-cd744057170d"
      },
      "source": [
        "%load_ext tensorboard\n",
        "import os\n",
        "import numpy as np\n",
        "import matplotlib\n",
        "import matplotlib.pyplot as plt\n",
        "import copy\n",
        "import random\n",
        "import time\n",
        "\n",
        "import torch\n",
        "import torch.nn as nn\n",
        "import torch.nn.functional as F\n",
        "\n",
        "from torch.utils.data import Dataset, DataLoader\n",
        "from torch.utils.tensorboard import SummaryWriter\n",
        "from torchvision import transforms, utils, datasets\n",
        "from torchsummary import summary\n",
        "\n",
        "\n",
        "# Check assigned GPU\n",
        "gpu_info = !nvidia-smi\n",
        "gpu_info = '\\n'.join(gpu_info)\n",
        "if gpu_info.find('failed') >= 0:\n",
        "  print('Select the Runtime > \"Change runtime type\" menu to enable a GPU accelerator, ')\n",
        "  print('and then re-execute this cell.')\n",
        "else:\n",
        "  print(gpu_info)\n",
        "\n",
        "# set manual seed for reproducibility\n",
        "seed = 42\n",
        "\n",
        "# general reproducibility\n",
        "random.seed(seed)\n",
        "np.random.seed(seed)\n",
        "torch.manual_seed(seed)\n",
        "\n",
        "# gpu training specific\n",
        "torch.backends.cudnn.deterministic = True\n",
        "torch.backends.cudnn.benchmark = False"
      ],
      "execution_count": 21,
      "outputs": [
        {
          "output_type": "stream",
          "text": [
            "The tensorboard extension is already loaded. To reload it, use:\n",
            "  %reload_ext tensorboard\n",
            "Thu Apr 22 15:50:03 2021       \n",
            "+-----------------------------------------------------------------------------+\n",
            "| NVIDIA-SMI 460.67       Driver Version: 460.32.03    CUDA Version: 11.2     |\n",
            "|-------------------------------+----------------------+----------------------+\n",
            "| GPU  Name        Persistence-M| Bus-Id        Disp.A | Volatile Uncorr. ECC |\n",
            "| Fan  Temp  Perf  Pwr:Usage/Cap|         Memory-Usage | GPU-Util  Compute M. |\n",
            "|                               |                      |               MIG M. |\n",
            "|===============================+======================+======================|\n",
            "|   0  Tesla P100-PCIE...  Off  | 00000000:00:04.0 Off |                    0 |\n",
            "| N/A   46C    P0    35W / 250W |    987MiB / 16280MiB |      0%      Default |\n",
            "|                               |                      |                  N/A |\n",
            "+-------------------------------+----------------------+----------------------+\n",
            "                                                                               \n",
            "+-----------------------------------------------------------------------------+\n",
            "| Processes:                                                                  |\n",
            "|  GPU   GI   CI        PID   Type   Process name                  GPU Memory |\n",
            "|        ID   ID                                                   Usage      |\n",
            "|=============================================================================|\n",
            "+-----------------------------------------------------------------------------+\n"
          ],
          "name": "stdout"
        }
      ]
    },
    {
      "cell_type": "markdown",
      "metadata": {
        "id": "NY4eWzGiL6Mj"
      },
      "source": [
        "## Load the MNIST Dataset"
      ]
    },
    {
      "cell_type": "code",
      "metadata": {
        "id": "G649tjTXLL8F"
      },
      "source": [
        "# create transforms\n",
        "# We will just convert to tensor and normalize since no special transforms are mentioned in the paper\n",
        "transforms_mnist = transforms.Compose([\n",
        "                                       transforms.ToTensor(),\n",
        "                                       transforms.Normalize((0.1307,), (0.3081,))\n",
        "                                       ])\n",
        "\n",
        "mnist_data_train = datasets.MNIST('./data/mnist/', train=True, download=True, transform=transforms_mnist)\n",
        "mnist_data_test = datasets.MNIST('../data/mnist/', train=False, download=True, transform=transforms_mnist)"
      ],
      "execution_count": 22,
      "outputs": []
    },
    {
      "cell_type": "code",
      "metadata": {
        "colab": {
          "base_uri": "https://localhost:8080/"
        },
        "id": "dm9usjn2vFkL",
        "outputId": "d70b53ab-49ba-454e-c151-9912698bb4a1"
      },
      "source": [
        "classes = np.array(list(mnist_data_train.class_to_idx.values()))\n",
        "classes_test = np.array(list(mnist_data_test.class_to_idx.values()))\n",
        "num_classes = len(classes_test)\n",
        "print(\"Classes: {} \\tType: {}\".format(classes, type(classes)))\n",
        "print(\"Classes Test: {} \\tType: {}\".format(classes_test, type(classes)))\n"
      ],
      "execution_count": 23,
      "outputs": [
        {
          "output_type": "stream",
          "text": [
            "Classes: [0 1 2 3 4 5 6 7 8 9] \tType: <class 'numpy.ndarray'>\n",
            "Classes Test: [0 1 2 3 4 5 6 7 8 9] \tType: <class 'numpy.ndarray'>\n"
          ],
          "name": "stdout"
        }
      ]
    },
    {
      "cell_type": "code",
      "metadata": {
        "colab": {
          "base_uri": "https://localhost:8080/"
        },
        "id": "9lvJt3Ofv2SO",
        "outputId": "f437fcf9-4ccd-4871-f9cd-b622ce947641"
      },
      "source": [
        "print(\"Image Shape: {}\".format(mnist_data_train.data[0].size()))"
      ],
      "execution_count": 24,
      "outputs": [
        {
          "output_type": "stream",
          "text": [
            "Image Shape: torch.Size([28, 28])\n"
          ],
          "name": "stdout"
        }
      ]
    },
    {
      "cell_type": "markdown",
      "metadata": {
        "id": "jCOONkg-zV7Y"
      },
      "source": [
        "## Visualize Data"
      ]
    },
    {
      "cell_type": "code",
      "metadata": {
        "id": "R9MK03TZw6Qs"
      },
      "source": [
        "def imshow(img):\n",
        "\timg = img/2 + 0.5 #unnormalize the image\n",
        "\tplt.imshow(img, cmap='gray') # convert from tensor to image"
      ],
      "execution_count": 25,
      "outputs": []
    },
    {
      "cell_type": "code",
      "metadata": {
        "id": "gMJ0Kx4Kw-_H"
      },
      "source": [
        "def visualize(dataset):\n",
        "  figure = plt.figure(figsize=(25,4))\n",
        "  for i in range(20):\n",
        "    axis = figure.add_subplot(2, 20/2, i+1, xticks=[], yticks=[])\n",
        "    data = dataset.data[i]\n",
        "    data = data.numpy()\n",
        "\n",
        "    target = dataset.targets[i]\n",
        "    target = target.numpy()\n",
        "    imshow(data)\n",
        "    axis.set_title(target)\n"
      ],
      "execution_count": 26,
      "outputs": []
    },
    {
      "cell_type": "code",
      "metadata": {
        "colab": {
          "base_uri": "https://localhost:8080/",
          "height": 249
        },
        "id": "8bPOwKg10Ro7",
        "outputId": "b174a11f-babc-472b-bfca-81af0391fc2d"
      },
      "source": [
        "visualize(mnist_data_train)"
      ],
      "execution_count": 27,
      "outputs": [
        {
          "output_type": "display_data",
          "data": {
            "image/png": "[encoded data removed]",
            "text/plain": [
              "<Figure size 1800x288 with 20 Axes>"
            ]
          },
          "metadata": {
            "tags": []
          }
        }
      ]
    },
    {
      "cell_type": "code",
      "metadata": {
        "colab": {
          "base_uri": "https://localhost:8080/",
          "height": 249
        },
        "id": "RKoh5Cf70UYu",
        "outputId": "a10d3dea-dfdd-462d-edcf-49f89009be20"
      },
      "source": [
        "visualize(mnist_data_test)"
      ],
      "execution_count": 28,
      "outputs": [
        {
          "output_type": "display_data",
          "data": {
            "image/png": "[encoded data removed]",
            "text/plain": [
              "<Figure size 1800x288 with 20 Axes>"
            ]
          },
          "metadata": {
            "tags": []
          }
        }
      ]
    },
    {
      "cell_type": "markdown",
      "metadata": {
        "id": "ctjRsETiO1qO"
      },
      "source": [
        "## Partitioning the Data (IID and non-IID)"
      ]
    },
    {
      "cell_type": "code",
      "metadata": {
        "id": "3_v8lyrgO5dD"
      },
      "source": [
        "def iid_partition(dataset, clients):\n",
        "  \"\"\"\n",
        "  I.I.D paritioning of data over clients\n",
        "  Shuffle the data\n",
        "  Split it between clients\n",
        "  \n",
        "  params:\n",
        "    - dataset (torch.utils.Dataset): Dataset containing the MNIST Images\n",
        "    - clients (int): Number of Clients to split the data between\n",
        "\n",
        "  returns:\n",
        "    - Dictionary of image indexes for each client\n",
        "  \"\"\"\n",
        "\n",
        "  num_items_per_client = int(len(dataset)/clients)\n",
        "  client_dict = {}\n",
        "  image_idxs = [i for i in range(len(dataset))]\n",
        "\n",
        "  for i in range(clients):\n",
        "    client_dict[i] = set(np.random.choice(image_idxs, num_items_per_client, replace=False))\n",
        "    image_idxs = list(set(image_idxs) - client_dict[i])\n",
        "\n",
        "  return client_dict"
      ],
      "execution_count": 29,
      "outputs": []
    },
    {
      "cell_type": "code",
      "metadata": {
        "id": "4zMdliGMQoSl"
      },
      "source": [
        "def non_iid_partition(dataset, clients, total_shards, shards_size, num_shards_per_client):\n",
        "  \"\"\"\n",
        "  non I.I.D parititioning of data over clients\n",
        "  Sort the data by the digit label\n",
        "  Divide the data into N shards of size S\n",
        "  Each of the clients will get X shards\n",
        "\n",
        "  params:\n",
        "    - dataset (torch.utils.Dataset): Dataset containing the MNIST Images\n",
        "    - clients (int): Number of Clients to split the data between\n",
        "    - total_shards (int): Number of shards to partition the data in\n",
        "    - shards_size (int): Size of each shard \n",
        "    - num_shards_per_client (int): Number of shards of size shards_size that each client receives\n",
        "\n",
        "  returns:\n",
        "    - Dictionary of image indexes for each client\n",
        "  \"\"\"\n",
        "  \n",
        "  shard_idxs = [i for i in range(total_shards)]\n",
        "  client_dict = {i: np.array([], dtype='int64') for i in range(clients)}\n",
        "  idxs = np.arange(len(dataset))\n",
        "  data_labels = dataset.targets.numpy()\n",
        "\n",
        "  # sort the labels\n",
        "  label_idxs = np.vstack((idxs, data_labels))\n",
        "  label_idxs = label_idxs[:, label_idxs[1,:].argsort()]\n",
        "  idxs = label_idxs[0,:]\n",
        "\n",
        "  # divide the data into total_shards of size shards_size\n",
        "  # assign num_shards_per_client to each client\n",
        "  for i in range(clients):\n",
        "    rand_set = set(np.random.choice(shard_idxs, num_shards_per_client, replace=False))\n",
        "    shard_idxs = list(set(shard_idxs) - rand_set)\n",
        "\n",
        "    for rand in rand_set:\n",
        "      client_dict[i] = np.concatenate((client_dict[i], idxs[rand*shards_size:(rand+1)*shards_size]), axis=0)\n",
        "  \n",
        "  return client_dict\n",
        "\n",
        "\n",
        "\n"
      ],
      "execution_count": 30,
      "outputs": []
    },
    {
      "cell_type": "markdown",
      "metadata": {
        "id": "PTfxv8kFoGAy"
      },
      "source": [
        "## Models"
      ]
    },
    {
      "cell_type": "code",
      "metadata": {
        "id": "CvoDNFKbZST5"
      },
      "source": [
        "class MNIST_2NN(nn.Module):\n",
        "  \"\"\"\n",
        "  A simple multilayer-perceptron with 2-hidden layers with 200 units each\n",
        "  using ReLu activations\n",
        "\n",
        "  Total Expected Params: 199,210\n",
        "  \"\"\"\n",
        "  def __init__(self):\n",
        "    super(MNIST_2NN, self).__init__()\n",
        "\n",
        "    self.fc1 = nn.Linear(28*28, 200)\n",
        "    self.fc2 = nn.Linear(200, 200)\n",
        "    self.fc3 = nn.Linear(200, 10)\n",
        "\n",
        "  def forward(self, x):\n",
        "    x = torch.flatten(x, 1)\n",
        "    x = F.relu(self.fc1(x))\n",
        "    x = F.relu(self.fc2(x))\n",
        "    out = self.fc3(x)\n",
        "\n",
        "    return x"
      ],
      "execution_count": 31,
      "outputs": []
    },
    {
      "cell_type": "code",
      "metadata": {
        "id": "ut1hZ8x3qYPZ"
      },
      "source": [
        "class MNIST_CNN(nn.Module):\n",
        "  \"\"\"\n",
        "  CNN with two 5x5 convolution lauers(the first with 32 channels, second with 64,\n",
        "  each followed with 2x2 max pooling), a fully connected layer with 512 uunits and \n",
        "  ReLu activation, and the final Softmax output layer\n",
        "\n",
        "  Total Expected Params: 1,663,370\n",
        "  \"\"\"\n",
        "  def __init__(self):\n",
        "    super(MNIST_CNN, self).__init__()\n",
        "\n",
        "    self.conv1 = nn.Conv2d(1, 32, kernel_size=5)\n",
        "    self.conv2 = nn.Conv2d(32, 64, kernel_size=5)\n",
        "    \n",
        "    self.pool = nn.MaxPool2d(2,2)\n",
        "    self.dropout = nn.Dropout(p=0.2)\n",
        "\n",
        "    self.fc1 = nn.Linear(1024, 512)\n",
        "    self.out = nn.Linear(512, 10)\n",
        "\n",
        "  def forward(self, x):\n",
        "    x = self.pool(F.relu(self.conv1(x)))\n",
        "    x = self.pool(F.relu(self.conv2(x)))\n",
        "    x = self.dropout(x)\n",
        "    x = torch.flatten(x, 1)\n",
        "    x = F.relu(self.fc1(x))\n",
        "    x = self.out(x)\n",
        "    out = F.log_softmax(x, dim=1)\n",
        "\n",
        "    return out"
      ],
      "execution_count": 32,
      "outputs": []
    },
    {
      "cell_type": "markdown",
      "metadata": {
        "id": "uVv4HA9HuLtr"
      },
      "source": [
        "### Print Model Summaries"
      ]
    },
    {
      "cell_type": "code",
      "metadata": {
        "colab": {
          "base_uri": "https://localhost:8080/"
        },
        "id": "I5oTH710sJEt",
        "outputId": "4d386d3a-a12b-4f26-e040-f56aaf557699"
      },
      "source": [
        "mnist_mlp = MNIST_2NN()\n",
        "mnist_cnn = MNIST_CNN()\n",
        "\n",
        "if torch.cuda.is_available():\n",
        "  mnist_mlp.cuda()\n",
        "  mnist_cnn.cuda()\n",
        "\n",
        "print(\"MNIST MLP SUMMARY\")\n",
        "print(summary(mnist_mlp, (28,28)))\n",
        "\n",
        "print(\"\\nMNIST CNN SUMMARY\")\n",
        "print(summary(mnist_cnn, (1, 28,28)))"
      ],
      "execution_count": 33,
      "outputs": [
        {
          "output_type": "stream",
          "text": [
            "MNIST MLP SUMMARY\n",
            "----------------------------------------------------------------\n",
            "        Layer (type)               Output Shape         Param #\n",
            "================================================================\n",
            "            Linear-1                  [-1, 200]         157,000\n",
            "            Linear-2                  [-1, 200]          40,200\n",
            "            Linear-3                   [-1, 10]           2,010\n",
            "================================================================\n",
            "Total params: 199,210\n",
            "Trainable params: 199,210\n",
            "Non-trainable params: 0\n",
            "----------------------------------------------------------------\n",
            "Input size (MB): 0.00\n",
            "Forward/backward pass size (MB): 0.00\n",
            "Params size (MB): 0.76\n",
            "Estimated Total Size (MB): 0.77\n",
            "----------------------------------------------------------------\n",
            "None\n",
            "\n",
            "MNIST CNN SUMMARY\n",
            "----------------------------------------------------------------\n",
            "        Layer (type)               Output Shape         Param #\n",
            "================================================================\n",
            "            Conv2d-1           [-1, 32, 24, 24]             832\n",
            "         MaxPool2d-2           [-1, 32, 12, 12]               0\n",
            "            Conv2d-3             [-1, 64, 8, 8]          51,264\n",
            "         MaxPool2d-4             [-1, 64, 4, 4]               0\n",
            "           Dropout-5             [-1, 64, 4, 4]               0\n",
            "            Linear-6                  [-1, 512]         524,800\n",
            "            Linear-7                   [-1, 10]           5,130\n",
            "================================================================\n",
            "Total params: 582,026\n",
            "Trainable params: 582,026\n",
            "Non-trainable params: 0\n",
            "----------------------------------------------------------------\n",
            "Input size (MB): 0.00\n",
            "Forward/backward pass size (MB): 0.23\n",
            "Params size (MB): 2.22\n",
            "Estimated Total Size (MB): 2.45\n",
            "----------------------------------------------------------------\n",
            "None\n"
          ],
          "name": "stdout"
        }
      ]
    },
    {
      "cell_type": "markdown",
      "metadata": {
        "id": "gf_8XEXa-gZ7"
      },
      "source": [
        "## Federated Averaging"
      ]
    },
    {
      "cell_type": "markdown",
      "metadata": {
        "id": "L-aNdQsQ-Kvp"
      },
      "source": [
        "### Local Training (Client Update)\n",
        "\n",
        "Local training for the model on client side"
      ]
    },
    {
      "cell_type": "code",
      "metadata": {
        "id": "oX6OsQyO-Gz7"
      },
      "source": [
        "class CustomDataset(Dataset):\n",
        "  def __init__(self, dataset, idxs):\n",
        "      self.dataset = dataset\n",
        "      self.idxs = list(idxs)\n",
        "\n",
        "  def __len__(self):\n",
        "      return len(self.idxs)\n",
        "\n",
        "  def __getitem__(self, item):\n",
        "      image, label = self.dataset[self.idxs[item]]\n",
        "      return image, label\n",
        "\n",
        "\n",
        "class ClientUpdate(object):\n",
        "  def __init__(self, dataset, batchSize, learning_rate, epochs, idxs):\n",
        "    self.train_loader = DataLoader(CustomDataset(dataset, idxs), batch_size=batchSize, shuffle=True)\n",
        "\n",
        "    self.learning_rate = learning_rate\n",
        "    self.epochs = epochs\n",
        "\n",
        "  def train(self, model):\n",
        "    criterion = nn.CrossEntropyLoss()\n",
        "    optimizer = torch.optim.SGD(model.parameters(), lr=self.learning_rate, momentum=0.5)\n",
        "    # optimizer = torch.optim.Adam(model.parameters(), lr=self.learning_rate)\n",
        "\n",
        "    e_loss = []\n",
        "    for epoch in range(1, self.epochs+1):\n",
        "\n",
        "      train_loss = 0.0\n",
        "      model.train()\n",
        "      for data, labels in self.train_loader:\n",
        "\n",
        "        if torch.cuda.is_available():\n",
        "          data, labels = data.cuda(), labels.cuda()\n",
        "\n",
        "        # clear the gradients\n",
        "        optimizer.zero_grad()\n",
        "        # make a forward pass\n",
        "        output = model(data)\n",
        "        # calculate the loss\n",
        "        loss = criterion(output, labels)\n",
        "        # do a backwards pass\n",
        "        loss.backward()\n",
        "        # perform a single optimization step\n",
        "        optimizer.step()\n",
        "        # update training loss\n",
        "        train_loss += loss.item()*data.size(0)\n",
        "\n",
        "      # average losses\n",
        "      train_loss = train_loss/len(self.train_loader.dataset)\n",
        "      e_loss.append(train_loss)\n",
        "\n",
        "    total_loss = sum(e_loss)/len(e_loss)\n",
        "\n",
        "    return model.state_dict(), total_loss"
      ],
      "execution_count": 34,
      "outputs": []
    },
    {
      "cell_type": "markdown",
      "metadata": {
        "id": "Ukgh1DVHE2Ds"
      },
      "source": [
        "### Server Side Training\n",
        "\n",
        "Following Algorithm 1 from the paper"
      ]
    },
    {
      "cell_type": "code",
      "metadata": {
        "id": "1NF1e33BgpeL"
      },
      "source": [
        "def training(model, rounds, batch_size, lr, ds, ds_test, data_dict, C, K, E, plt_title, plt_color, M):\n",
        "  \"\"\"\n",
        "  Function implements the Federated Averaging Algorithm from the FedAvg paper.\n",
        "  Specifically, this function is used for the server side training and weight update\n",
        "\n",
        "  Params:\n",
        "    - model:           PyTorch model to train\n",
        "    - rounds:          Number of communication rounds for the client update\n",
        "    - batch_size:      Batch size for client update training\n",
        "    - lr:              Learning rate used for client update training\n",
        "    - ds:              Dataset used for training\n",
        "    - ds_test:         Dataset used for testing\n",
        "    - data_dict:       Type of data partition used for training (IID or non-IID)\n",
        "    - C:               Fraction of clients randomly chosen to perform computation on each round\n",
        "    - K:               Total number of clients\n",
        "    - E:               Number of training passes each client makes over its local dataset per round\n",
        "    - tb_writer_name:  Directory name to save the tensorboard logs\n",
        "  Returns:\n",
        "    - model:           Trained model on the server\n",
        "  \"\"\"\n",
        "\n",
        "  # global model weights\n",
        "  global_weights = model.state_dict()\n",
        "  num_clients = K\n",
        "  pk = np.ones(num_clients) * 1.0 / num_clients\n",
        "\n",
        "  # training loss\n",
        "  # train_accuracy = []\n",
        "  train_loss = []\n",
        "  test_accuracy = []\n",
        "  test_loss = []\n",
        "\n",
        "\n",
        "  # measure time\n",
        "  start = time.time()\n",
        "\n",
        "  for curr_round in range(1, rounds+1):\n",
        "    w, local_loss = [], []\n",
        "\n",
        "    m = max(int(C*K), 1)\n",
        "    newM = max(int(M*m), 1)\n",
        "    \n",
        "    c = 0\n",
        "    S_t = np.random.choice(range(K), m, replace=False)\n",
        "\n",
        "    for i in range(len(S_t)):\n",
        "      if c == newM:\n",
        "        break\n",
        "      c += 1\n",
        "\n",
        "      local_update = ClientUpdate(dataset=ds, batchSize=batch_size, learning_rate=lr, epochs=E, idxs=data_dict[S_t[i]])\n",
        "      weights, loss = local_update.train(model=copy.deepcopy(model))\n",
        "            \n",
        "      for k in weights.keys():\n",
        "        t = torch.Tensor(weights[k].shape).cuda()\n",
        "        t.fill_(0.1)\n",
        "        weights[k] = t     \n",
        "\n",
        "      w.append(copy.deepcopy(weights))\n",
        "      local_loss.append(copy.deepcopy(loss))\n",
        "\n",
        "    for k in range(newM, len(S_t)):\n",
        "      local_update = ClientUpdate(dataset=ds, batchSize=batch_size, learning_rate=lr, epochs=E, idxs=data_dict[S_t[k]])\n",
        "      weights, loss = local_update.train(model=copy.deepcopy(model))\n",
        "      \n",
        "      w.append(copy.deepcopy(weights))\n",
        "      local_loss.append(copy.deepcopy(loss))\n",
        "\n",
        "\n",
        "    ix = 0\n",
        "    weights = []\n",
        "    new_w = w\n",
        "    for k in w[ix].keys():\n",
        "      l1 = []\n",
        "      for i in range(len(w)):\n",
        "\n",
        "          # Fixed Precision\n",
        "          x1 = w[i][k] * (10**3)\n",
        "          \n",
        "          # Flattening weight tensors to lists\n",
        "          f1 = torch.flatten(x1)\n",
        "          \n",
        "          # Converting values to int for our streaming algo \n",
        "          f1 = list(map(int, f1))\n",
        "          \n",
        "          l1.append(f1)\n",
        "          #print(len(f1))\n",
        "          \n",
        "      # Computing Median\n",
        "      j = 0\n",
        "      gl = []\n",
        "      while j < len(l1[0]):\n",
        "        nl = []\n",
        "        for i in range(len(l1)):\n",
        "          nl.append(l1[i][j])\n",
        "        m = np.median(nl)\n",
        "        gl.append(m)\n",
        "        j += 1\n",
        "\n",
        "      \n",
        "      for i in range(len(gl)):\n",
        "        gl[i] /= (10**3)\n",
        "      \n",
        "      # print(len(gl))\n",
        "      \n",
        "      newar = np.asarray(gl)\n",
        "      newar = np.reshape(gl, w[0][k].size())\n",
        "      tens = torch.from_numpy(newar)\n",
        "      weights.append(tens)\n",
        "\n",
        "      ix += 1\n",
        "\n",
        "    k = 0\n",
        "    coun = 0\n",
        "    for key, value in global_weights.items():\n",
        "      global_weights[key] = weights[k]\n",
        "      k += 1\n",
        "      coun += 1\n",
        "\n",
        "    # move the updated weights to our model state dict\n",
        "    model.load_state_dict(global_weights)\n",
        "\n",
        "    # loss\n",
        "    loss_avg = sum(local_loss) / len(local_loss)\n",
        "    print('Round: {}... \\tAverage Loss: {}'.format(curr_round, round(loss_avg, 3)))\n",
        "    train_loss.append(loss_avg)\n",
        "\n",
        "    # test\n",
        "    test_criterion = nn.CrossEntropyLoss()\n",
        "    test_accuracy_current, test_loss_current =  testing(copy.deepcopy(model), ds_test, 128, test_criterion, num_classes, classes_test)\n",
        "    test_accuracy.append(test_accuracy_current)\n",
        "    test_loss.append(test_loss_current)\n",
        "\n",
        "  end = time.time()\n",
        "  \n",
        "  fig, ax = plt.subplots()\n",
        "  x_axis = np.arange(1, rounds+1)\n",
        "  y_axis = np.array(train_loss)\n",
        "  ax.plot(x_axis, y_axis, 'tab:'+plt_color)\n",
        "\n",
        "  ax.set(xlabel='Number of Rounds', ylabel='Train Loss',\n",
        "       title=plt_title)\n",
        "  ax.grid()\n",
        "  fig.savefig(plt_title+'_Train_loss.jpg', format='jpg')\n",
        "  plt.show()\n",
        "\n",
        "  fig, ax = plt.subplots()\n",
        "  x_axis = np.arange(1, rounds+1)\n",
        "  y_axis = np.array(test_loss)\n",
        "  ax.plot(x_axis, y_axis, 'tab:'+plt_color)\n",
        "\n",
        "  ax.set(xlabel='Number of Rounds', ylabel='Test Loss',\n",
        "       title=plt_title)\n",
        "  ax.grid()\n",
        "  fig.savefig(plt_title+'_Test_loss.jpg', format='jpg')\n",
        "  plt.show()\n",
        "\n",
        "  fig, ax = plt.subplots()\n",
        "  x_axis = np.arange(1, rounds+1)\n",
        "  y_axis = np.array(test_accuracy)\n",
        "  ax.plot(x_axis, y_axis, 'tab:'+plt_color)\n",
        "\n",
        "  ax.set(xlabel='Number of Rounds', ylabel='Test Accuracy',\n",
        "       title=plt_title)\n",
        "  ax.grid()\n",
        "  fig.savefig(plt_title+'_Test_Accuracy.jpg', format='jpg')\n",
        "  plt.show()\n",
        "  \n",
        "  print(\"Training Done!\")\n",
        "  print(\"Total time taken to Train: {}\\n\\n\".format(end-start))\n",
        "  \n",
        "  return model, train_loss, test_accuracy, test_loss"
      ],
      "execution_count": 35,
      "outputs": []
    },
    {
      "cell_type": "markdown",
      "metadata": {
        "id": "tUYyb4T-uXmF"
      },
      "source": [
        "## Testing Loop"
      ]
    },
    {
      "cell_type": "code",
      "metadata": {
        "id": "uCcIZmO5uan9"
      },
      "source": [
        "def testing(model, dataset, bs, criterion, num_classes, classes, print_info=False):\n",
        "  #test loss \n",
        "  test_loss = 0.0\n",
        "  correct_class = list(0. for i in range(num_classes))\n",
        "  total_class = list(0. for i in range(num_classes))\n",
        "\n",
        "  test_loader = DataLoader(dataset, batch_size=bs)\n",
        "  l = len(test_loader)\n",
        "  model.eval()\n",
        "  for data, labels in test_loader:\n",
        "\n",
        "    if torch.cuda.is_available():\n",
        "      data, labels = data.cuda(), labels.cuda()\n",
        "\n",
        "    output = model(data)\n",
        "    loss = criterion(output, labels)\n",
        "    test_loss += loss.item()*data.size(0)\n",
        "\n",
        "    _, pred = torch.max(output, 1)\n",
        "\n",
        "    correct_tensor = pred.eq(labels.data.view_as(pred))\n",
        "    correct = np.squeeze(correct_tensor.numpy()) if not torch.cuda.is_available() else np.squeeze(correct_tensor.cpu().numpy())\n",
        "\n",
        "    #test accuracy for each object class\n",
        "    for i in range(num_classes):\n",
        "      label = labels.data[i]\n",
        "      correct_class[label] += correct[i].item()\n",
        "      total_class[label] += 1\n",
        "    \n",
        "  # avg test loss\n",
        "  test_loss = test_loss/len(test_loader.dataset)\n",
        "  test_accuracy = 100. * np.sum(correct_class) / np.sum(total_class)\n",
        "\n",
        "  if print_info:\n",
        "    print(\"Test Loss: {:.6f}\\n\".format(test_loss))\n",
        "\n",
        "    for i in range(10):\n",
        "      if total_class[i]>0:\n",
        "        print('Test Accuracy of %5s: %2d%% (%2d/%2d)' % \n",
        "              (classes[i], 100 * correct_class[i] / total_class[i],\n",
        "              np.sum(correct_class[i]), np.sum(total_class[i])))\n",
        "      else:\n",
        "        print('Test Accuracy of %5s: N/A (no training examples)' % (classes[i]))\n",
        "\n",
        "    print('\\nFinal Test  Accuracy: {:.3f} ({}/{})'.format(\n",
        "          100. * np.sum(correct_class) / np.sum(total_class),\n",
        "          np.sum(correct_class), np.sum(total_class)))\n",
        "  \n",
        "  return test_accuracy, test_loss"
      ],
      "execution_count": 36,
      "outputs": []
    },
    {
      "cell_type": "markdown",
      "metadata": {
        "id": "Ri0FqXFeHW-V"
      },
      "source": [
        "## Logger"
      ]
    },
    {
      "cell_type": "code",
      "metadata": {
        "id": "thZm2kSiHT4v"
      },
      "source": [
        "log_dict = {}\n",
        "NUM_REPEAT = 1"
      ],
      "execution_count": 37,
      "outputs": []
    },
    {
      "cell_type": "markdown",
      "metadata": {
        "id": "4hO5oV6aXqeh"
      },
      "source": [
        "## MNIST CNN on IID"
      ]
    },
    {
      "cell_type": "markdown",
      "metadata": {
        "id": "flSQv_P4zCfx"
      },
      "source": [
        "### Train\n"
      ]
    },
    {
      "cell_type": "code",
      "metadata": {
        "colab": {
          "base_uri": "https://localhost:8080/",
          "height": 1000
        },
        "id": "0ZalcKZtEseA",
        "outputId": "f11d771c-7fe2-43a2-9eb7-fe40c30b745c"
      },
      "source": [
        "train_loss_multiple_runs = [None] * NUM_REPEAT\n",
        "test_accuracy_multiple_runs = [None] * NUM_REPEAT\n",
        "test_loss_multiple_runs = [None] * NUM_REPEAT\n",
        "\n",
        "for exp_num in range(NUM_REPEAT):\n",
        "  print(\"Experiment Run Number: \", exp_num)\n",
        "\n",
        "  # number of training rounds\n",
        "  rounds = 50\n",
        "  # client fraction\n",
        "  C = 0.1\n",
        "  # number of clients\n",
        "  K = 50\n",
        "  # number of training passes on local dataset for each roung\n",
        "  E = 5\n",
        "  # batch size\n",
        "  batch_size = 10\n",
        "  # learning Rate\n",
        "  lr=0.05\n",
        "  # data partition dictionary\n",
        "  iid_dict = iid_partition(mnist_data_train, 100)\n",
        "  # load model\n",
        "  mnist_cnn = MNIST_CNN()\n",
        "\n",
        "  if torch.cuda.is_available():\n",
        "    mnist_cnn.cuda()\n",
        "\n",
        "  mnist_cnn_iid_trained, train_loss, test_accuracy, test_loss = training(mnist_cnn, rounds, batch_size, lr, mnist_data_train, mnist_data_test, iid_dict, C, K, E, \"MNIST CNN on IID Dataset\", \"orange\", 0.01)\n",
        "\n",
        "  train_loss_multiple_runs[exp_num] = train_loss\n",
        "  test_accuracy_multiple_runs[exp_num] = test_accuracy\n",
        "  test_loss_multiple_runs[exp_num] = test_loss"
      ],
      "execution_count": 38,
      "outputs": [
        {
          "output_type": "stream",
          "text": [
            "Experiment Run Number:  0\n",
            "Round: 1... \tAverage Loss: 0.525\n",
            "Round: 2... \tAverage Loss: 0.165\n",
            "Round: 3... \tAverage Loss: 0.11\n",
            "Round: 4... \tAverage Loss: 0.083\n",
            "Round: 5... \tAverage Loss: 0.081\n",
            "Round: 6... \tAverage Loss: 0.075\n",
            "Round: 7... \tAverage Loss: 0.066\n",
            "Round: 8... \tAverage Loss: 0.07\n",
            "Round: 9... \tAverage Loss: 0.065\n",
            "Round: 10... \tAverage Loss: 0.066\n",
            "Round: 11... \tAverage Loss: 0.062\n",
            "Round: 12... \tAverage Loss: 0.058\n",
            "Round: 13... \tAverage Loss: 0.041\n",
            "Round: 14... \tAverage Loss: 0.059\n",
            "Round: 15... \tAverage Loss: 0.054\n",
            "Round: 16... \tAverage Loss: 0.05\n",
            "Round: 17... \tAverage Loss: 0.043\n",
            "Round: 18... \tAverage Loss: 0.038\n",
            "Round: 19... \tAverage Loss: 0.047\n",
            "Round: 20... \tAverage Loss: 0.053\n",
            "Round: 21... \tAverage Loss: 0.043\n",
            "Round: 22... \tAverage Loss: 0.04\n",
            "Round: 23... \tAverage Loss: 0.049\n",
            "Round: 24... \tAverage Loss: 0.06\n",
            "Round: 25... \tAverage Loss: 0.053\n",
            "Round: 26... \tAverage Loss: 0.041\n",
            "Round: 27... \tAverage Loss: 0.055\n",
            "Round: 28... \tAverage Loss: 0.043\n",
            "Round: 29... \tAverage Loss: 0.042\n",
            "Round: 30... \tAverage Loss: 0.043\n",
            "Round: 31... \tAverage Loss: 0.044\n",
            "Round: 32... \tAverage Loss: 0.04\n",
            "Round: 33... \tAverage Loss: 0.046\n",
            "Round: 34... \tAverage Loss: 0.045\n",
            "Round: 35... \tAverage Loss: 0.043\n",
            "Round: 36... \tAverage Loss: 0.06\n",
            "Round: 37... \tAverage Loss: 0.032\n",
            "Round: 38... \tAverage Loss: 0.036\n",
            "Round: 39... \tAverage Loss: 0.042\n",
            "Round: 40... \tAverage Loss: 0.038\n",
            "Round: 41... \tAverage Loss: 0.054\n",
            "Round: 42... \tAverage Loss: 0.039\n",
            "Round: 43... \tAverage Loss: 0.052\n",
            "Round: 44... \tAverage Loss: 0.041\n",
            "Round: 45... \tAverage Loss: 0.055\n",
            "Round: 46... \tAverage Loss: 0.054\n",
            "Round: 47... \tAverage Loss: 0.04\n",
            "Round: 48... \tAverage Loss: 0.039\n",
            "Round: 49... \tAverage Loss: 0.042\n",
            "Round: 50... \tAverage Loss: 0.039\n"
          ],
          "name": "stdout"
        },
        {
          "output_type": "display_data",
          "data": {
            "image/png": "[encoded data removed]",
            "text/plain": [
              "<Figure size 432x288 with 1 Axes>"
            ]
          },
          "metadata": {
            "tags": [],
            "needs_background": "light"
          }
        },
        {
          "output_type": "display_data",
          "data": {
            "image/png": "[encoded data removed]",
            "text/plain": [
              "<Figure size 432x288 with 1 Axes>"
            ]
          },
          "metadata": {
            "tags": [],
            "needs_background": "light"
          }
        },
        {
          "output_type": "display_data",
          "data": {
            "image/png": "[encoded data removed]",
            "text/plain": [
              "<Figure size 432x288 with 1 Axes>"
            ]
          },
          "metadata": {
            "tags": [],
            "needs_background": "light"
          }
        },
        {
          "output_type": "stream",
          "text": [
            "Training Done!\n",
            "Total time taken to Train: 4062.630266904831\n",
            "\n",
            "\n"
          ],
          "name": "stdout"
        }
      ]
    },
    {
      "cell_type": "markdown",
      "metadata": {
        "id": "wNwC82przF6G"
      },
      "source": [
        "### Test"
      ]
    },
    {
      "cell_type": "code",
      "metadata": {
        "id": "qB97BFs9we9w",
        "colab": {
          "base_uri": "https://localhost:8080/"
        },
        "outputId": "66273347-7a35-44b2-bf49-82b05634cca4"
      },
      "source": [
        "criterion = nn.CrossEntropyLoss()\n",
        "acc, loss = testing(mnist_cnn_iid_trained, mnist_data_test, 128, criterion, num_classes, classes_test, True)"
      ],
      "execution_count": 39,
      "outputs": [
        {
          "output_type": "stream",
          "text": [
            "Test Loss: 0.055657\n",
            "\n",
            "Test Accuracy of     0: 100% (76/76)\n",
            "Test Accuracy of     1: 98% (89/90)\n",
            "Test Accuracy of     2: 100% (91/91)\n",
            "Test Accuracy of     3: 98% (72/73)\n",
            "Test Accuracy of     4: 100% (89/89)\n",
            "Test Accuracy of     5: 98% (67/68)\n",
            "Test Accuracy of     6: 98% (61/62)\n",
            "Test Accuracy of     7: 100% (81/81)\n",
            "Test Accuracy of     8: 100% (77/77)\n",
            "Test Accuracy of     9: 98% (82/83)\n",
            "\n",
            "Final Test  Accuracy: 99.367 (785.0/790.0)\n"
          ],
          "name": "stdout"
        }
      ]
    },
    {
      "cell_type": "code",
      "metadata": {
        "id": "gdQZEZmHHeqt"
      },
      "source": [
        "hyperparams = {'rounds': rounds,\n",
        "               'C': C,\n",
        "               'K': K,\n",
        "               'E': E,\n",
        "               'batch_size': batch_size,\n",
        "               'lr': lr,\n",
        "               }\n",
        "\n",
        "log_dict['MNIST CNN on IID'] = {'train_loss': train_loss_multiple_runs, \n",
        "                                'test_loss': test_loss_multiple_runs, \n",
        "                                'test_accuracy': test_accuracy_multiple_runs,\n",
        "                                'hyperparams': hyperparams,\n",
        "                                }"
      ],
      "execution_count": 40,
      "outputs": []
    },
    {
      "cell_type": "markdown",
      "metadata": {
        "id": "uF8MdSIUYcnl"
      },
      "source": [
        "## MNIST CNN on Non IID"
      ]
    },
    {
      "cell_type": "markdown",
      "metadata": {
        "id": "a6wXX7JW11bx"
      },
      "source": [
        "### Train\n"
      ]
    },
    {
      "cell_type": "code",
      "metadata": {
        "id": "fCD3kBCKYfBK",
        "colab": {
          "base_uri": "https://localhost:8080/",
          "height": 1000
        },
        "outputId": "ffa507ad-6902-438a-eb85-abcca6512ff1"
      },
      "source": [
        "train_loss_multiple_runs = [None] * NUM_REPEAT\n",
        "test_accuracy_multiple_runs = [None] * NUM_REPEAT\n",
        "test_loss_multiple_runs = [None] * NUM_REPEAT\n",
        "\n",
        "for exp_num in range(NUM_REPEAT):\n",
        "  print(\"Experiment Run Number: \", exp_num)\n",
        "\n",
        "  # number of training rounds\n",
        "  rounds = 50\n",
        "  # client fraction\n",
        "  C = 0.1\n",
        "  # number of clients\n",
        "  K = 50\n",
        "  # number of training passes on local dataset for each roung\n",
        "  E = 5\n",
        "  # batch size\n",
        "  batch_size = 10\n",
        "  # learning Rate\n",
        "  lr=0.05\n",
        "  # dict containing different type of data partition\n",
        "  data_dict = non_iid_partition(mnist_data_train, 100, 200, 300, 2)\n",
        "  # load model\n",
        "  mnist_cnn = MNIST_CNN()\n",
        "\n",
        "  if torch.cuda.is_available():\n",
        "    mnist_cnn.cuda()\n",
        "\n",
        "  mnist_cnn_non_iid_trained, train_loss, test_accuracy, test_loss = training(mnist_cnn, rounds, batch_size, lr, mnist_data_train, mnist_data_test, data_dict, C, K, E, \"MNIST CNN on Non-IID Dataset\", \"green\", 0.01)\n",
        "\n",
        "  train_loss_multiple_runs[exp_num] = train_loss\n",
        "  test_accuracy_multiple_runs[exp_num] = test_accuracy\n",
        "  test_loss_multiple_runs[exp_num] = test_loss"
      ],
      "execution_count": 41,
      "outputs": [
        {
          "output_type": "stream",
          "text": [
            "Experiment Run Number:  0\n",
            "Round: 1... \tAverage Loss: 0.112\n",
            "Round: 2... \tAverage Loss: 0.074\n",
            "Round: 3... \tAverage Loss: 0.108\n",
            "Round: 4... \tAverage Loss: 0.122\n",
            "Round: 5... \tAverage Loss: 0.03\n",
            "Round: 6... \tAverage Loss: 0.059\n",
            "Round: 7... \tAverage Loss: 0.057\n",
            "Round: 8... \tAverage Loss: 0.037\n",
            "Round: 9... \tAverage Loss: 0.084\n",
            "Round: 10... \tAverage Loss: 0.093\n",
            "Round: 11... \tAverage Loss: 0.034\n",
            "Round: 12... \tAverage Loss: 0.031\n",
            "Round: 13... \tAverage Loss: 0.031\n",
            "Round: 14... \tAverage Loss: 0.059\n",
            "Round: 15... \tAverage Loss: 0.046\n",
            "Round: 16... \tAverage Loss: 0.02\n",
            "Round: 17... \tAverage Loss: 0.04\n",
            "Round: 18... \tAverage Loss: 0.025\n",
            "Round: 19... \tAverage Loss: 0.03\n",
            "Round: 20... \tAverage Loss: 0.038\n",
            "Round: 21... \tAverage Loss: 0.043\n",
            "Round: 22... \tAverage Loss: 0.022\n",
            "Round: 23... \tAverage Loss: 0.031\n",
            "Round: 24... \tAverage Loss: 0.034\n",
            "Round: 25... \tAverage Loss: 0.029\n",
            "Round: 26... \tAverage Loss: 0.032\n",
            "Round: 27... \tAverage Loss: 0.01\n",
            "Round: 28... \tAverage Loss: 0.036\n",
            "Round: 29... \tAverage Loss: 0.081\n",
            "Round: 30... \tAverage Loss: 0.051\n",
            "Round: 31... \tAverage Loss: 0.036\n",
            "Round: 32... \tAverage Loss: 0.021\n",
            "Round: 33... \tAverage Loss: 0.024\n",
            "Round: 34... \tAverage Loss: 0.037\n",
            "Round: 35... \tAverage Loss: 0.027\n",
            "Round: 36... \tAverage Loss: 0.026\n",
            "Round: 37... \tAverage Loss: 0.051\n",
            "Round: 38... \tAverage Loss: 0.043\n",
            "Round: 39... \tAverage Loss: 0.044\n",
            "Round: 40... \tAverage Loss: 0.023\n",
            "Round: 41... \tAverage Loss: 0.02\n",
            "Round: 42... \tAverage Loss: 0.029\n",
            "Round: 43... \tAverage Loss: 0.037\n",
            "Round: 44... \tAverage Loss: 0.027\n",
            "Round: 45... \tAverage Loss: 0.049\n",
            "Round: 46... \tAverage Loss: 0.014\n",
            "Round: 47... \tAverage Loss: 0.011\n",
            "Round: 48... \tAverage Loss: 0.072\n",
            "Round: 49... \tAverage Loss: 0.025\n",
            "Round: 50... \tAverage Loss: 0.01\n"
          ],
          "name": "stdout"
        },
        {
          "output_type": "display_data",
          "data": {
            "image/png": "[encoded data removed]",
            "text/plain": [
              "<Figure size 432x288 with 1 Axes>"
            ]
          },
          "metadata": {
            "tags": [],
            "needs_background": "light"
          }
        },
        {
          "output_type": "display_data",
          "data": {
            "image/png": "[encoded data removed]",
            "text/plain": [
              "<Figure size 432x288 with 1 Axes>"
            ]
          },
          "metadata": {
            "tags": [],
            "needs_background": "light"
          }
        },
        {
          "output_type": "display_data",
          "data": {
            "image/png": "[encoded data removed]",
            "text/plain": [
              "<Figure size 432x288 with 1 Axes>"
            ]
          },
          "metadata": {
            "tags": [],
            "needs_background": "light"
          }
        },
        {
          "output_type": "stream",
          "text": [
            "Training Done!\n",
            "Total time taken to Train: 4037.66658782959\n",
            "\n",
            "\n"
          ],
          "name": "stdout"
        }
      ]
    },
    {
      "cell_type": "markdown",
      "metadata": {
        "id": "4C68J-Kk14dB"
      },
      "source": [
        "### Test"
      ]
    },
    {
      "cell_type": "code",
      "metadata": {
        "id": "_yQ9GiAZ15jE",
        "colab": {
          "base_uri": "https://localhost:8080/"
        },
        "outputId": "087000a6-4cd4-49b1-b77d-3103a069b7fc"
      },
      "source": [
        "criterion = nn.CrossEntropyLoss()\n",
        "acc, loss = testing(mnist_cnn_non_iid_trained, mnist_data_test, 128, criterion, num_classes, classes_test, True)"
      ],
      "execution_count": 42,
      "outputs": [
        {
          "output_type": "stream",
          "text": [
            "Test Loss: 1.628913\n",
            "\n",
            "Test Accuracy of     0:  0% ( 0/76)\n",
            "Test Accuracy of     1: 21% (19/90)\n",
            "Test Accuracy of     2: 100% (91/91)\n",
            "Test Accuracy of     3: 61% (45/73)\n",
            "Test Accuracy of     4:  6% ( 6/89)\n",
            "Test Accuracy of     5: 98% (67/68)\n",
            "Test Accuracy of     6:  3% ( 2/62)\n",
            "Test Accuracy of     7: 75% (61/81)\n",
            "Test Accuracy of     8: 55% (43/77)\n",
            "Test Accuracy of     9: 80% (67/83)\n",
            "\n",
            "Final Test  Accuracy: 50.759 (401.0/790.0)\n"
          ],
          "name": "stdout"
        }
      ]
    },
    {
      "cell_type": "code",
      "metadata": {
        "id": "dxMcxgLhLvX-"
      },
      "source": [
        "hyperparams = {'rounds': rounds,\n",
        "               'C': C,\n",
        "               'K': K,\n",
        "               'E': E,\n",
        "               'batch_size': batch_size,\n",
        "               'lr': lr,\n",
        "               }\n",
        "\n",
        "log_dict['MNIST CNN on Non IID'] = {'train_loss': train_loss_multiple_runs, \n",
        "                                'test_loss': test_loss_multiple_runs, \n",
        "                                'test_accuracy': test_accuracy_multiple_runs,\n",
        "                                'hyperparams': hyperparams,\n",
        "                                }"
      ],
      "execution_count": 43,
      "outputs": []
    },
    {
      "cell_type": "markdown",
      "metadata": {
        "id": "z_jifdzniuhm"
      },
      "source": [
        "## MNIST MLP on IID"
      ]
    },
    {
      "cell_type": "markdown",
      "metadata": {
        "id": "uh-te0Od2XGO"
      },
      "source": [
        "### Train"
      ]
    },
    {
      "cell_type": "code",
      "metadata": {
        "id": "UmpWmKOQixVV",
        "colab": {
          "base_uri": "https://localhost:8080/",
          "height": 1000
        },
        "outputId": "aab09ff6-b0bf-41d8-8b80-95c0c4efd9d8"
      },
      "source": [
        "train_loss_multiple_runs = [None] * NUM_REPEAT\n",
        "test_accuracy_multiple_runs = [None] * NUM_REPEAT\n",
        "test_loss_multiple_runs = [None] * NUM_REPEAT\n",
        "\n",
        "for exp_num in range(NUM_REPEAT):\n",
        "  print(\"Experiment Run Number: \", exp_num)\n",
        "\n",
        "  # number of training rounds\n",
        "  rounds = 50\n",
        "  # client fraction\n",
        "  C = 0.1\n",
        "  # number of clients\n",
        "  K = 50\n",
        "  # number of training passes on local dataset for each round\n",
        "  E = 5\n",
        "  # batch size\n",
        "  batch_size = 10\n",
        "  # learning Rate\n",
        "  lr=0.05\n",
        "  # dict containing different type of data partition\n",
        "  data_dict = iid_partition(mnist_data_train, 100)\n",
        "  # load model\n",
        "  mnist_mlp = MNIST_2NN()\n",
        "\n",
        "  if torch.cuda.is_available():\n",
        "    mnist_mlp.cuda()\n",
        "\n",
        "  mnist_mlp_iid_trained, train_loss, test_accuracy, test_loss = training(mnist_mlp, rounds, batch_size, lr, mnist_data_train, mnist_data_test, data_dict, C, K, E, \"MNIST MLP on IID Dataset\", \"orange\", 0.01)\n",
        "  \n",
        "  train_loss_multiple_runs[exp_num] = train_loss\n",
        "  test_accuracy_multiple_runs[exp_num] = test_accuracy\n",
        "  test_loss_multiple_runs[exp_num] = test_loss"
      ],
      "execution_count": 44,
      "outputs": [
        {
          "output_type": "stream",
          "text": [
            "Experiment Run Number:  0\n",
            "Round: 1... \tAverage Loss: 0.543\n",
            "Round: 2... \tAverage Loss: 0.2\n",
            "Round: 3... \tAverage Loss: 0.166\n",
            "Round: 4... \tAverage Loss: 0.135\n",
            "Round: 5... \tAverage Loss: 0.114\n",
            "Round: 6... \tAverage Loss: 0.115\n",
            "Round: 7... \tAverage Loss: 0.133\n",
            "Round: 8... \tAverage Loss: 0.087\n",
            "Round: 9... \tAverage Loss: 0.107\n",
            "Round: 10... \tAverage Loss: 0.101\n",
            "Round: 11... \tAverage Loss: 0.102\n",
            "Round: 12... \tAverage Loss: 0.095\n",
            "Round: 13... \tAverage Loss: 0.072\n",
            "Round: 14... \tAverage Loss: 0.094\n",
            "Round: 15... \tAverage Loss: 0.082\n",
            "Round: 16... \tAverage Loss: 0.1\n",
            "Round: 17... \tAverage Loss: 0.11\n",
            "Round: 18... \tAverage Loss: 0.096\n",
            "Round: 19... \tAverage Loss: 0.079\n",
            "Round: 20... \tAverage Loss: 0.084\n",
            "Round: 21... \tAverage Loss: 0.075\n",
            "Round: 22... \tAverage Loss: 0.077\n",
            "Round: 23... \tAverage Loss: 0.099\n",
            "Round: 24... \tAverage Loss: 0.077\n",
            "Round: 25... \tAverage Loss: 0.092\n",
            "Round: 26... \tAverage Loss: 0.073\n",
            "Round: 27... \tAverage Loss: 0.096\n",
            "Round: 28... \tAverage Loss: 0.097\n",
            "Round: 29... \tAverage Loss: 0.105\n",
            "Round: 30... \tAverage Loss: 0.078\n",
            "Round: 31... \tAverage Loss: 0.073\n",
            "Round: 32... \tAverage Loss: 0.114\n",
            "Round: 33... \tAverage Loss: 0.088\n",
            "Round: 34... \tAverage Loss: 0.079\n",
            "Round: 35... \tAverage Loss: 0.113\n",
            "Round: 36... \tAverage Loss: 0.061\n",
            "Round: 37... \tAverage Loss: 0.083\n",
            "Round: 38... \tAverage Loss: 0.109\n",
            "Round: 39... \tAverage Loss: 0.075\n",
            "Round: 40... \tAverage Loss: 0.064\n",
            "Round: 41... \tAverage Loss: 0.089\n",
            "Round: 42... \tAverage Loss: 0.106\n",
            "Round: 43... \tAverage Loss: 0.071\n",
            "Round: 44... \tAverage Loss: 0.095\n",
            "Round: 45... \tAverage Loss: 0.068\n",
            "Round: 46... \tAverage Loss: 0.071\n",
            "Round: 47... \tAverage Loss: 0.091\n",
            "Round: 48... \tAverage Loss: 0.093\n",
            "Round: 49... \tAverage Loss: 0.083\n",
            "Round: 50... \tAverage Loss: 0.085\n"
          ],
          "name": "stdout"
        },
        {
          "output_type": "display_data",
          "data": {
            "image/png": "[encoded data removed]",
            "text/plain": [
              "<Figure size 432x288 with 1 Axes>"
            ]
          },
          "metadata": {
            "tags": [],
            "needs_background": "light"
          }
        },
        {
          "output_type": "display_data",
          "data": {
            "image/png": "[encoded data removed]",
            "text/plain": [
              "<Figure size 432x288 with 1 Axes>"
            ]
          },
          "metadata": {
            "tags": [],
            "needs_background": "light"
          }
        },
        {
          "output_type": "display_data",
          "data": {
            "image/png": "[encoded data removed]",
            "text/plain": [
              "<Figure size 432x288 with 1 Axes>"
            ]
          },
          "metadata": {
            "tags": [],
            "needs_background": "light"
          }
        },
        {
          "output_type": "stream",
          "text": [
            "Training Done!\n",
            "Total time taken to Train: 1570.7942786216736\n",
            "\n",
            "\n"
          ],
          "name": "stdout"
        }
      ]
    },
    {
      "cell_type": "markdown",
      "metadata": {
        "id": "aTBsL3-72PPd"
      },
      "source": [
        "### Test"
      ]
    },
    {
      "cell_type": "code",
      "metadata": {
        "id": "a9G4j5L62OrS",
        "colab": {
          "base_uri": "https://localhost:8080/"
        },
        "outputId": "fe1a0b54-0d23-48f4-b9da-0decc6241abf"
      },
      "source": [
        "criterion = nn.CrossEntropyLoss()\n",
        "acc, loss = testing(mnist_mlp_iid_trained, mnist_data_test, 128, criterion, num_classes, classes_test, True)"
      ],
      "execution_count": 45,
      "outputs": [
        {
          "output_type": "stream",
          "text": [
            "Test Loss: 0.197789\n",
            "\n",
            "Test Accuracy of     0: 98% (75/76)\n",
            "Test Accuracy of     1: 96% (87/90)\n",
            "Test Accuracy of     2: 95% (87/91)\n",
            "Test Accuracy of     3: 97% (71/73)\n",
            "Test Accuracy of     4: 96% (86/89)\n",
            "Test Accuracy of     5: 92% (63/68)\n",
            "Test Accuracy of     6: 96% (60/62)\n",
            "Test Accuracy of     7: 95% (77/81)\n",
            "Test Accuracy of     8: 94% (73/77)\n",
            "Test Accuracy of     9: 97% (81/83)\n",
            "\n",
            "Final Test  Accuracy: 96.203 (760.0/790.0)\n"
          ],
          "name": "stdout"
        }
      ]
    },
    {
      "cell_type": "code",
      "metadata": {
        "id": "fWCdJFRCL_f2"
      },
      "source": [
        "hyperparams = {'rounds': rounds,\n",
        "               'C': C,\n",
        "               'K': K,\n",
        "               'E': E,\n",
        "               'batch_size': batch_size,\n",
        "               'lr': lr,\n",
        "               }\n",
        "\n",
        "log_dict['MNIST MLP on IID'] = {'train_loss': train_loss_multiple_runs, \n",
        "                                'test_loss': test_loss_multiple_runs, \n",
        "                                'test_accuracy': test_accuracy_multiple_runs,\n",
        "                                'hyperparams': hyperparams,\n",
        "                                }"
      ],
      "execution_count": 46,
      "outputs": []
    },
    {
      "cell_type": "markdown",
      "metadata": {
        "id": "J8jzEyO0iywz"
      },
      "source": [
        "## MNIST MLP on Non IID"
      ]
    },
    {
      "cell_type": "markdown",
      "metadata": {
        "id": "pJFepr3y2bF-"
      },
      "source": [
        "### Train"
      ]
    },
    {
      "cell_type": "code",
      "metadata": {
        "id": "EBKO44Hgi1Uh",
        "colab": {
          "base_uri": "https://localhost:8080/",
          "height": 1000
        },
        "outputId": "688d3114-b6cd-440e-b783-ffc82c6fbbfb"
      },
      "source": [
        "train_loss_multiple_runs = [None] * NUM_REPEAT\n",
        "test_accuracy_multiple_runs = [None] * NUM_REPEAT\n",
        "test_loss_multiple_runs = [None] * NUM_REPEAT\n",
        "\n",
        "for exp_num in range(NUM_REPEAT):\n",
        "  print(\"Experiment Run Number: \", exp_num)\n",
        "  \n",
        "  # number of training rounds\n",
        "  rounds = 50\n",
        "  # client fraction\n",
        "  C = 0.1\n",
        "  # number of clients\n",
        "  K = 50\n",
        "  # number of training passes on local dataset for each roung\n",
        "  E = 5\n",
        "  # batch size\n",
        "  batch_size = 10\n",
        "  # learning Rate\n",
        "  lr=0.05\n",
        "  # dict containing different type of data partition\n",
        "  data_dict = non_iid_partition(mnist_data_train, 100, 200, 300, 2)\n",
        "  # load model\n",
        "  mnist_mlp = MNIST_2NN()\n",
        "\n",
        "  if torch.cuda.is_available():\n",
        "    mnist_mlp.cuda()\n",
        "\n",
        "  mnist_mlp_non_iid_trained, train_loss, test_accuracy, test_loss = training(mnist_mlp, rounds, batch_size, lr, mnist_data_train, mnist_data_test, data_dict, C, K, E, \"MNIST MLP on Non-IID Dataset\", \"green\", 0.01)\n",
        "\n",
        "  train_loss_multiple_runs[exp_num] = train_loss\n",
        "  test_accuracy_multiple_runs[exp_num] = test_accuracy\n",
        "  test_loss_multiple_runs[exp_num] = test_loss"
      ],
      "execution_count": 47,
      "outputs": [
        {
          "output_type": "stream",
          "text": [
            "Experiment Run Number:  0\n",
            "Round: 1... \tAverage Loss: 0.118\n",
            "Round: 2... \tAverage Loss: 0.059\n",
            "Round: 3... \tAverage Loss: 0.071\n",
            "Round: 4... \tAverage Loss: 1.12\n",
            "Round: 5... \tAverage Loss: 0.601\n",
            "Round: 6... \tAverage Loss: 0.042\n",
            "Round: 7... \tAverage Loss: 0.589\n",
            "Round: 8... \tAverage Loss: 0.897\n",
            "Round: 9... \tAverage Loss: 0.073\n",
            "Round: 10... \tAverage Loss: 0.087\n",
            "Round: 11... \tAverage Loss: 0.077\n",
            "Round: 12... \tAverage Loss: 0.043\n",
            "Round: 13... \tAverage Loss: 0.083\n",
            "Round: 14... \tAverage Loss: 0.048\n",
            "Round: 15... \tAverage Loss: 0.065\n",
            "Round: 16... \tAverage Loss: 0.134\n",
            "Round: 17... \tAverage Loss: 0.049\n",
            "Round: 18... \tAverage Loss: 0.089\n",
            "Round: 19... \tAverage Loss: 0.069\n",
            "Round: 20... \tAverage Loss: 0.036\n",
            "Round: 21... \tAverage Loss: 0.05\n",
            "Round: 22... \tAverage Loss: 0.065\n",
            "Round: 23... \tAverage Loss: 0.077\n",
            "Round: 24... \tAverage Loss: 0.083\n",
            "Round: 25... \tAverage Loss: 0.03\n",
            "Round: 26... \tAverage Loss: 0.06\n",
            "Round: 27... \tAverage Loss: 0.051\n",
            "Round: 28... \tAverage Loss: 0.039\n",
            "Round: 29... \tAverage Loss: 0.077\n",
            "Round: 30... \tAverage Loss: 0.07\n",
            "Round: 31... \tAverage Loss: 0.067\n",
            "Round: 32... \tAverage Loss: 0.056\n",
            "Round: 33... \tAverage Loss: 0.033\n",
            "Round: 34... \tAverage Loss: 0.035\n",
            "Round: 35... \tAverage Loss: 0.086\n",
            "Round: 36... \tAverage Loss: 0.017\n",
            "Round: 37... \tAverage Loss: 0.056\n",
            "Round: 38... \tAverage Loss: 0.088\n",
            "Round: 39... \tAverage Loss: 0.036\n",
            "Round: 40... \tAverage Loss: 0.02\n",
            "Round: 41... \tAverage Loss: 0.047\n",
            "Round: 42... \tAverage Loss: 0.062\n",
            "Round: 43... \tAverage Loss: 0.023\n",
            "Round: 44... \tAverage Loss: 0.064\n",
            "Round: 45... \tAverage Loss: 0.023\n",
            "Round: 46... \tAverage Loss: 0.06\n",
            "Round: 47... \tAverage Loss: 0.062\n",
            "Round: 48... \tAverage Loss: 0.069\n",
            "Round: 49... \tAverage Loss: 0.038\n",
            "Round: 50... \tAverage Loss: 0.033\n"
          ],
          "name": "stdout"
        },
        {
          "output_type": "display_data",
          "data": {
            "image/png": "[encoded data removed]",
            "text/plain": [
              "<Figure size 432x288 with 1 Axes>"
            ]
          },
          "metadata": {
            "tags": [],
            "needs_background": "light"
          }
        },
        {
          "output_type": "display_data",
          "data": {
            "image/png": "[encoded data removed]",
            "text/plain": [
              "<Figure size 432x288 with 1 Axes>"
            ]
          },
          "metadata": {
            "tags": [],
            "needs_background": "light"
          }
        },
        {
          "output_type": "display_data",
          "data": {
            "image/png": "[encoded data removed]",
            "text/plain": [
              "<Figure size 432x288 with 1 Axes>"
            ]
          },
          "metadata": {
            "tags": [],
            "needs_background": "light"
          }
        },
        {
          "output_type": "stream",
          "text": [
            "Training Done!\n",
            "Total time taken to Train: 1584.9422211647034\n",
            "\n",
            "\n"
          ],
          "name": "stdout"
        }
      ]
    },
    {
      "cell_type": "markdown",
      "metadata": {
        "id": "jmuQYPbF2mes"
      },
      "source": [
        "### Test"
      ]
    },
    {
      "cell_type": "code",
      "metadata": {
        "id": "0tKMlJyF2nGN",
        "colab": {
          "base_uri": "https://localhost:8080/"
        },
        "outputId": "ce2f605d-158d-4b6b-bacf-298cc3deb9cb"
      },
      "source": [
        "criterion = nn.CrossEntropyLoss()\n",
        "acc, loss = testing(mnist_mlp_non_iid_trained, mnist_data_test, 128, criterion, num_classes, classes_test, True)"
      ],
      "execution_count": 48,
      "outputs": [
        {
          "output_type": "stream",
          "text": [
            "Test Loss: 2.413929\n",
            "\n",
            "Test Accuracy of     0: 26% (20/76)\n",
            "Test Accuracy of     1: 90% (81/90)\n",
            "Test Accuracy of     2: 91% (83/91)\n",
            "Test Accuracy of     3:  0% ( 0/73)\n",
            "Test Accuracy of     4: 98% (88/89)\n",
            "Test Accuracy of     5: 98% (67/68)\n",
            "Test Accuracy of     6: 40% (25/62)\n",
            "Test Accuracy of     7: 62% (51/81)\n",
            "Test Accuracy of     8:  0% ( 0/77)\n",
            "Test Accuracy of     9: 67% (56/83)\n",
            "\n",
            "Final Test  Accuracy: 59.620 (471.0/790.0)\n"
          ],
          "name": "stdout"
        }
      ]
    },
    {
      "cell_type": "code",
      "metadata": {
        "id": "1W5krYcSMQiu"
      },
      "source": [
        "hyperparams = {'rounds': rounds,\n",
        "               'C': C,\n",
        "               'K': K,\n",
        "               'E': E,\n",
        "               'batch_size': batch_size,\n",
        "               'lr': lr,\n",
        "               }\n",
        "\n",
        "log_dict['MNIST MLP on Non IID'] = {'train_loss': train_loss_multiple_runs, \n",
        "                                'test_loss': test_loss_multiple_runs, \n",
        "                                'test_accuracy': test_accuracy_multiple_runs,\n",
        "                                'hyperparams': hyperparams,\n",
        "                                }"
      ],
      "execution_count": 49,
      "outputs": []
    },
    {
      "cell_type": "markdown",
      "metadata": {
        "id": "emS_SaRAP6TZ"
      },
      "source": [
        "## Pickle Log"
      ]
    },
    {
      "cell_type": "code",
      "metadata": {
        "id": "soAN38JoP0c1"
      },
      "source": [
        "import pickle\n",
        " \n",
        "with open(path + 'FedMed_k50.pkl', 'wb') as file:\n",
        "  pickle.dump(log_dict, file)"
      ],
      "execution_count": 59,
      "outputs": []
    },
    {
      "cell_type": "code",
      "metadata": {
        "id": "2UBy-JswSoCJ",
        "colab": {
          "base_uri": "https://localhost:8080/"
        },
        "outputId": "4aab8722-1cdc-47fa-ef73-2054b2def39b"
      },
      "source": [
        "log_dict"
      ],
      "execution_count": 51,
      "outputs": [
        {
          "output_type": "execute_result",
          "data": {
            "text/plain": [
              "{'MNIST CNN on IID': {'hyperparams': {'C': 0.1,\n",
              "   'E': 5,\n",
              "   'K': 50,\n",
              "   'batch_size': 10,\n",
              "   'lr': 0.05,\n",
              "   'rounds': 50},\n",
              "  'test_accuracy': [[89.11392405063292,\n",
              "    96.07594936708861,\n",
              "    96.45569620253164,\n",
              "    96.83544303797468,\n",
              "    97.46835443037975,\n",
              "    97.59493670886076,\n",
              "    98.10126582278481,\n",
              "    98.10126582278481,\n",
              "    98.22784810126582,\n",
              "    98.35443037974683,\n",
              "    98.35443037974683,\n",
              "    98.35443037974683,\n",
              "    98.60759493670886,\n",
              "    98.48101265822785,\n",
              "    98.60759493670886,\n",
              "    98.60759493670886,\n",
              "    98.60759493670886,\n",
              "    98.73417721518987,\n",
              "    98.60759493670886,\n",
              "    98.86075949367088,\n",
              "    98.9873417721519,\n",
              "    98.60759493670886,\n",
              "    98.60759493670886,\n",
              "    99.11392405063292,\n",
              "    99.24050632911393,\n",
              "    99.24050632911393,\n",
              "    99.36708860759494,\n",
              "    99.49367088607595,\n",
              "    99.36708860759494,\n",
              "    99.11392405063292,\n",
              "    98.9873417721519,\n",
              "    99.24050632911393,\n",
              "    98.9873417721519,\n",
              "    99.11392405063292,\n",
              "    98.9873417721519,\n",
              "    99.11392405063292,\n",
              "    99.11392405063292,\n",
              "    98.9873417721519,\n",
              "    98.9873417721519,\n",
              "    99.11392405063292,\n",
              "    98.73417721518987,\n",
              "    99.24050632911393,\n",
              "    99.36708860759494,\n",
              "    99.24050632911393,\n",
              "    99.24050632911393,\n",
              "    99.24050632911393,\n",
              "    98.73417721518987,\n",
              "    98.73417721518987,\n",
              "    98.86075949367088,\n",
              "    99.36708860759494]],\n",
              "  'test_loss': [[0.3971298074543476,\n",
              "    0.204111841346859,\n",
              "    0.1450844778281491,\n",
              "    0.1245965462051885,\n",
              "    0.11341436042923014,\n",
              "    0.09984013952259993,\n",
              "    0.1026954819014154,\n",
              "    0.10695837309598646,\n",
              "    0.0904968071917261,\n",
              "    0.08340543278223868,\n",
              "    0.0798021699526078,\n",
              "    0.07560948894699614,\n",
              "    0.06880438676206395,\n",
              "    0.06791505350396182,\n",
              "    0.06318593983811152,\n",
              "    0.064505956979435,\n",
              "    0.06189498079194018,\n",
              "    0.058894806146045815,\n",
              "    0.06385101822818615,\n",
              "    0.05580672478621891,\n",
              "    0.06397732538150012,\n",
              "    0.061136003684111435,\n",
              "    0.06314380142532136,\n",
              "    0.0564710943132065,\n",
              "    0.05103354050276921,\n",
              "    0.057827075714040985,\n",
              "    0.04885564563672342,\n",
              "    0.058278887986202246,\n",
              "    0.053160243391723996,\n",
              "    0.04540909902920557,\n",
              "    0.056171920870070696,\n",
              "    0.049255367312587256,\n",
              "    0.0462793707691817,\n",
              "    0.052840974959198504,\n",
              "    0.05522512260702833,\n",
              "    0.048665853996234,\n",
              "    0.05579552137737864,\n",
              "    0.05236579804965986,\n",
              "    0.04879079111769097,\n",
              "    0.05168857052404874,\n",
              "    0.06438855131291639,\n",
              "    0.05119497298091073,\n",
              "    0.047056693532561804,\n",
              "    0.051874273197371076,\n",
              "    0.04307475206746149,\n",
              "    0.04120383399866259,\n",
              "    0.054013361733399504,\n",
              "    0.05051116675690573,\n",
              "    0.05063410150907002,\n",
              "    0.055657306122031514]],\n",
              "  'train_loss': [[0.5250097654440518,\n",
              "    0.16522266330961183,\n",
              "    0.1098916112268589,\n",
              "    0.08281399854213267,\n",
              "    0.08108207296474639,\n",
              "    0.0748706207718303,\n",
              "    0.06599842358781063,\n",
              "    0.07034485107470267,\n",
              "    0.06493941745531732,\n",
              "    0.06557704842756662,\n",
              "    0.062034073746904464,\n",
              "    0.05780680073374687,\n",
              "    0.04134887253582486,\n",
              "    0.05871730360653175,\n",
              "    0.054375584753196926,\n",
              "    0.04970514947864706,\n",
              "    0.0429287292295724,\n",
              "    0.03818172632632364,\n",
              "    0.047299060417231545,\n",
              "    0.05347337005222934,\n",
              "    0.04287208942090554,\n",
              "    0.04033577093114642,\n",
              "    0.04941766163264004,\n",
              "    0.060468464237983244,\n",
              "    0.052779377185325174,\n",
              "    0.04120920018286636,\n",
              "    0.05519566483205379,\n",
              "    0.04264311582975457,\n",
              "    0.042131381404025114,\n",
              "    0.04315665416550411,\n",
              "    0.04428809375943928,\n",
              "    0.04034811284872857,\n",
              "    0.04625034213616099,\n",
              "    0.04501087520246577,\n",
              "    0.04310444734212251,\n",
              "    0.05999409648089067,\n",
              "    0.031919313935801996,\n",
              "    0.036178793691270944,\n",
              "    0.041619451937180654,\n",
              "    0.03786998689698079,\n",
              "    0.05419853012866045,\n",
              "    0.03895170452730762,\n",
              "    0.05246007235739346,\n",
              "    0.041044223607996325,\n",
              "    0.05504406517410469,\n",
              "    0.05420333676168711,\n",
              "    0.03998571879532266,\n",
              "    0.038893686761711156,\n",
              "    0.041593982373533865,\n",
              "    0.03874253157905044]]},\n",
              " 'MNIST CNN on Non IID': {'hyperparams': {'C': 0.1,\n",
              "   'E': 5,\n",
              "   'K': 50,\n",
              "   'batch_size': 10,\n",
              "   'lr': 0.05,\n",
              "   'rounds': 50},\n",
              "  'test_accuracy': [[12.405063291139241,\n",
              "    7.974683544303797,\n",
              "    12.784810126582279,\n",
              "    28.60759493670886,\n",
              "    34.30379746835443,\n",
              "    19.746835443037973,\n",
              "    18.860759493670887,\n",
              "    28.860759493670887,\n",
              "    18.10126582278481,\n",
              "    21.39240506329114,\n",
              "    36.45569620253165,\n",
              "    39.36708860759494,\n",
              "    45.69620253164557,\n",
              "    37.08860759493671,\n",
              "    57.848101265822784,\n",
              "    44.55696202531646,\n",
              "    61.51898734177215,\n",
              "    51.139240506329116,\n",
              "    42.53164556962025,\n",
              "    24.810126582278482,\n",
              "    45.949367088607595,\n",
              "    58.9873417721519,\n",
              "    41.139240506329116,\n",
              "    54.81012658227848,\n",
              "    72.0253164556962,\n",
              "    55.56962025316456,\n",
              "    51.265822784810126,\n",
              "    28.481012658227847,\n",
              "    23.164556962025316,\n",
              "    36.70886075949367,\n",
              "    31.0126582278481,\n",
              "    35.56962025316456,\n",
              "    40.63291139240506,\n",
              "    61.51898734177215,\n",
              "    40.75949367088607,\n",
              "    31.518987341772153,\n",
              "    40.88607594936709,\n",
              "    50.12658227848101,\n",
              "    45.56962025316456,\n",
              "    59.87341772151899,\n",
              "    49.11392405063291,\n",
              "    67.0886075949367,\n",
              "    61.139240506329116,\n",
              "    68.10126582278481,\n",
              "    67.46835443037975,\n",
              "    66.07594936708861,\n",
              "    61.77215189873418,\n",
              "    41.139240506329116,\n",
              "    50.50632911392405,\n",
              "    50.75949367088607]],\n",
              "  'test_loss': [[2.4332068996429443,\n",
              "    7.14640108795166,\n",
              "    5.740061841583252,\n",
              "    2.856160956954956,\n",
              "    3.336978490447998,\n",
              "    7.460964502716064,\n",
              "    4.745679033660888,\n",
              "    7.183466328430176,\n",
              "    5.420393041229248,\n",
              "    4.440966268157959,\n",
              "    2.2789894596099853,\n",
              "    4.904758944702149,\n",
              "    3.449458895492554,\n",
              "    3.6870686111450195,\n",
              "    1.9884836376190185,\n",
              "    3.306463533401489,\n",
              "    1.4361348194122314,\n",
              "    2.4852408599853515,\n",
              "    2.8093730922698974,\n",
              "    3.5813790927886964,\n",
              "    1.8660237983703614,\n",
              "    1.5996260076522828,\n",
              "    3.1730875854492187,\n",
              "    1.807588667678833,\n",
              "    0.8004045993804931,\n",
              "    1.788325988960266,\n",
              "    1.9074252830505372,\n",
              "    3.987205955505371,\n",
              "    2.4793948894500732,\n",
              "    2.3748209243774414,\n",
              "    2.958095603942871,\n",
              "    3.787764767456055,\n",
              "    2.7343408782958982,\n",
              "    1.138353900718689,\n",
              "    2.365555376815796,\n",
              "    3.1839578414916994,\n",
              "    4.842370302581787,\n",
              "    2.1198578765869143,\n",
              "    2.675411015319824,\n",
              "    1.459261642074585,\n",
              "    2.3295614601135255,\n",
              "    1.875632553100586,\n",
              "    2.3969252130508423,\n",
              "    1.927863784790039,\n",
              "    1.131519181919098,\n",
              "    1.4440476123809813,\n",
              "    1.8429820158958434,\n",
              "    2.439166463088989,\n",
              "    1.35372473487854,\n",
              "    1.6289125431060791]],\n",
              "  'train_loss': [[0.11219152075089049,\n",
              "    0.07402748297055617,\n",
              "    0.1082359580848485,\n",
              "    0.12172676530597755,\n",
              "    0.030381927328905555,\n",
              "    0.05924346492956345,\n",
              "    0.056895355935361616,\n",
              "    0.03705810567731116,\n",
              "    0.08405573549755099,\n",
              "    0.09275200180698229,\n",
              "    0.03409675367876953,\n",
              "    0.030746373237190993,\n",
              "    0.03127750460285271,\n",
              "    0.058772980253931795,\n",
              "    0.04615532814015736,\n",
              "    0.019629763693555784,\n",
              "    0.03977003622595319,\n",
              "    0.02512436140169482,\n",
              "    0.03000146093640783,\n",
              "    0.03815804132125937,\n",
              "    0.04279378167070716,\n",
              "    0.02195043763488183,\n",
              "    0.03090221670473244,\n",
              "    0.03359447854986966,\n",
              "    0.02896989764469987,\n",
              "    0.032088601055708564,\n",
              "    0.01014398220541519,\n",
              "    0.03562568463207432,\n",
              "    0.08126983344748005,\n",
              "    0.05056736959869902,\n",
              "    0.03579799295013569,\n",
              "    0.020694404278887513,\n",
              "    0.02442170652357246,\n",
              "    0.03747466743574131,\n",
              "    0.02685356678586654,\n",
              "    0.025900206705018265,\n",
              "    0.05120640229674793,\n",
              "    0.04256632992038166,\n",
              "    0.043847132622902144,\n",
              "    0.022930465414495817,\n",
              "    0.020231552920416777,\n",
              "    0.02899104423399725,\n",
              "    0.03660566146473716,\n",
              "    0.027387207027506973,\n",
              "    0.04890694391122031,\n",
              "    0.014286402366697351,\n",
              "    0.011290867574524317,\n",
              "    0.07190880257093013,\n",
              "    0.025252263125535284,\n",
              "    0.009564735331679303]]},\n",
              " 'MNIST MLP on IID': {'hyperparams': {'C': 0.1,\n",
              "   'E': 5,\n",
              "   'K': 50,\n",
              "   'batch_size': 10,\n",
              "   'lr': 0.05,\n",
              "   'rounds': 50},\n",
              "  'test_accuracy': [[90.12658227848101,\n",
              "    92.78481012658227,\n",
              "    93.16455696202532,\n",
              "    93.29113924050633,\n",
              "    93.41772151898734,\n",
              "    95.0632911392405,\n",
              "    94.9367088607595,\n",
              "    95.0632911392405,\n",
              "    94.9367088607595,\n",
              "    95.0632911392405,\n",
              "    94.81012658227849,\n",
              "    95.31645569620254,\n",
              "    95.44303797468355,\n",
              "    96.20253164556962,\n",
              "    95.0632911392405,\n",
              "    95.56962025316456,\n",
              "    95.56962025316456,\n",
              "    96.45569620253164,\n",
              "    96.20253164556962,\n",
              "    95.9493670886076,\n",
              "    96.83544303797468,\n",
              "    96.32911392405063,\n",
              "    95.9493670886076,\n",
              "    95.69620253164557,\n",
              "    96.20253164556962,\n",
              "    96.20253164556962,\n",
              "    95.9493670886076,\n",
              "    96.07594936708861,\n",
              "    96.70886075949367,\n",
              "    96.07594936708861,\n",
              "    96.32911392405063,\n",
              "    95.44303797468355,\n",
              "    96.20253164556962,\n",
              "    96.07594936708861,\n",
              "    95.56962025316456,\n",
              "    96.07594936708861,\n",
              "    96.58227848101266,\n",
              "    95.18987341772151,\n",
              "    96.45569620253164,\n",
              "    95.82278481012658,\n",
              "    96.32911392405063,\n",
              "    96.20253164556962,\n",
              "    96.45569620253164,\n",
              "    96.58227848101266,\n",
              "    96.32911392405063,\n",
              "    96.70886075949367,\n",
              "    96.07594936708861,\n",
              "    96.32911392405063,\n",
              "    96.32911392405063,\n",
              "    96.20253164556962]],\n",
              "  'test_loss': [[0.36846889996528626,\n",
              "    0.323523813021183,\n",
              "    0.29178303298056124,\n",
              "    0.27471172801628707,\n",
              "    0.26330162074901164,\n",
              "    0.2558948082791641,\n",
              "    0.2324671785186976,\n",
              "    0.24194843980967998,\n",
              "    0.21946021252050996,\n",
              "    0.21293199687786402,\n",
              "    0.20688984106034042,\n",
              "    0.19790759813524783,\n",
              "    0.19538094727322458,\n",
              "    0.1966989894066006,\n",
              "    0.19143970982581376,\n",
              "    0.1939278430708684,\n",
              "    0.18871481577032245,\n",
              "    0.17940110929021613,\n",
              "    0.17383729551844299,\n",
              "    0.18089279096061364,\n",
              "    0.19015293407253922,\n",
              "    0.19541669905893505,\n",
              "    0.1947152654028032,\n",
              "    0.19506286971550435,\n",
              "    0.19063104515876622,\n",
              "    0.19482126196817262,\n",
              "    0.1887477474715095,\n",
              "    0.19097467447901145,\n",
              "    0.18801060927901417,\n",
              "    0.1921070482137613,\n",
              "    0.1887513044450432,\n",
              "    0.19125252347192728,\n",
              "    0.18738430413529278,\n",
              "    0.1882081925842911,\n",
              "    0.20723321178797632,\n",
              "    0.19874072370724752,\n",
              "    0.20164806516619865,\n",
              "    0.19252405121065677,\n",
              "    0.19409179694529158,\n",
              "    0.18406175781590864,\n",
              "    0.19533085616258905,\n",
              "    0.1807250724385958,\n",
              "    0.1848336131250486,\n",
              "    0.19216491835042834,\n",
              "    0.19019830219913275,\n",
              "    0.19215740035274065,\n",
              "    0.1977755693051964,\n",
              "    0.2027498041232233,\n",
              "    0.20076489459974692,\n",
              "    0.19778901156637585]],\n",
              "  'train_loss': [[0.5429594229283586,\n",
              "    0.20020901282806883,\n",
              "    0.16569665253449545,\n",
              "    0.13507437783493031,\n",
              "    0.11415512650190554,\n",
              "    0.11478114962746137,\n",
              "    0.13306363979725092,\n",
              "    0.08745213248785148,\n",
              "    0.10696313506546722,\n",
              "    0.1011453479936463,\n",
              "    0.10196591499378123,\n",
              "    0.09498828182114324,\n",
              "    0.07182792425682903,\n",
              "    0.09444864252393655,\n",
              "    0.08161599670825914,\n",
              "    0.10044492164802676,\n",
              "    0.11013160675749893,\n",
              "    0.09616968532098083,\n",
              "    0.0793571539459202,\n",
              "    0.08374860099840428,\n",
              "    0.07451841966564945,\n",
              "    0.07653868662303268,\n",
              "    0.09900482596853727,\n",
              "    0.07677294360964787,\n",
              "    0.09240238801034865,\n",
              "    0.07260590915351288,\n",
              "    0.09598931458480221,\n",
              "    0.0971549179118236,\n",
              "    0.10546537083608139,\n",
              "    0.07849937865172434,\n",
              "    0.0727246126616895,\n",
              "    0.11448364755009943,\n",
              "    0.08826750875377472,\n",
              "    0.07867143728118117,\n",
              "    0.11261007932187575,\n",
              "    0.06106677017969651,\n",
              "    0.08266516709516873,\n",
              "    0.10928210418455682,\n",
              "    0.07544284433259388,\n",
              "    0.06397380138150235,\n",
              "    0.08899251719482922,\n",
              "    0.10589339927543095,\n",
              "    0.07135628232411499,\n",
              "    0.09477638569854767,\n",
              "    0.06839822025394862,\n",
              "    0.07145307603669566,\n",
              "    0.09054210858199341,\n",
              "    0.09284597177923493,\n",
              "    0.08287650378142446,\n",
              "    0.08496170694958922]]},\n",
              " 'MNIST MLP on Non IID': {'hyperparams': {'C': 0.1,\n",
              "   'E': 5,\n",
              "   'K': 50,\n",
              "   'batch_size': 10,\n",
              "   'lr': 0.05,\n",
              "   'rounds': 50},\n",
              "  'test_accuracy': [[18.734177215189874,\n",
              "    22.531645569620252,\n",
              "    29.367088607594937,\n",
              "    28.60759493670886,\n",
              "    27.59493670886076,\n",
              "    27.468354430379748,\n",
              "    16.329113924050635,\n",
              "    10.632911392405063,\n",
              "    34.936708860759495,\n",
              "    38.22784810126582,\n",
              "    33.29113924050633,\n",
              "    37.848101265822784,\n",
              "    40.25316455696203,\n",
              "    36.58227848101266,\n",
              "    36.075949367088604,\n",
              "    47.08860759493671,\n",
              "    40.25316455696203,\n",
              "    15.063291139240507,\n",
              "    30.126582278481013,\n",
              "    44.050632911392405,\n",
              "    14.810126582278482,\n",
              "    37.59493670886076,\n",
              "    18.9873417721519,\n",
              "    55.949367088607595,\n",
              "    54.177215189873415,\n",
              "    55.822784810126585,\n",
              "    56.20253164556962,\n",
              "    56.075949367088604,\n",
              "    26.835443037974684,\n",
              "    19.49367088607595,\n",
              "    59.36708860759494,\n",
              "    66.83544303797468,\n",
              "    63.924050632911396,\n",
              "    67.84810126582279,\n",
              "    68.60759493670886,\n",
              "    71.26582278481013,\n",
              "    67.21518987341773,\n",
              "    68.60759493670886,\n",
              "    53.41772151898734,\n",
              "    65.31645569620254,\n",
              "    70.88607594936708,\n",
              "    63.67088607594937,\n",
              "    61.77215189873418,\n",
              "    49.11392405063291,\n",
              "    61.139240506329116,\n",
              "    53.924050632911396,\n",
              "    45.18987341772152,\n",
              "    60.379746835443036,\n",
              "    62.278481012658226,\n",
              "    59.620253164556964]],\n",
              "  'test_loss': [[6.2834105270385745,\n",
              "    7.177427180480957,\n",
              "    4.407249800109863,\n",
              "    4.972605467224121,\n",
              "    4.445415561676025,\n",
              "    4.520237191009522,\n",
              "    7.258264270019532,\n",
              "    7.596404481506347,\n",
              "    3.3615371768951414,\n",
              "    3.166456191253662,\n",
              "    5.0108235008239745,\n",
              "    4.375716397094727,\n",
              "    3.8180592056274416,\n",
              "    3.1860273918151854,\n",
              "    3.5350540870666505,\n",
              "    3.027651558303833,\n",
              "    3.8658898651123046,\n",
              "    6.229539500427246,\n",
              "    4.278609461975098,\n",
              "    2.6017429611206055,\n",
              "    9.046733442687989,\n",
              "    4.3621723785400395,\n",
              "    6.9304704788208005,\n",
              "    2.6444085754394533,\n",
              "    2.6865632804870607,\n",
              "    2.3556149505615234,\n",
              "    2.189830327606201,\n",
              "    1.9018274589538575,\n",
              "    5.287599412536621,\n",
              "    7.239479454040527,\n",
              "    1.6246383644104003,\n",
              "    1.5088906303405762,\n",
              "    1.2040049701690674,\n",
              "    1.2349030301094055,\n",
              "    1.0867028790950775,\n",
              "    1.1074124115943909,\n",
              "    1.2329859612464904,\n",
              "    1.2498846614837646,\n",
              "    1.9984126382827758,\n",
              "    1.1420115942955018,\n",
              "    0.9887934686183929,\n",
              "    1.3850947804450988,\n",
              "    1.5720102529525757,\n",
              "    2.0783198627471924,\n",
              "    1.8162310756683349,\n",
              "    2.046736905288696,\n",
              "    2.811655158996582,\n",
              "    1.9342356332778932,\n",
              "    2.079212041091919,\n",
              "    2.413928524017334]],\n",
              "  'train_loss': [[0.11831481529975836,\n",
              "    0.059199684966617136,\n",
              "    0.07096794451210735,\n",
              "    1.1202247720595904,\n",
              "    0.6010118607049175,\n",
              "    0.041952866196870164,\n",
              "    0.5894064072794329,\n",
              "    0.8973539935936387,\n",
              "    0.07284538051666674,\n",
              "    0.08651803317742601,\n",
              "    0.0765658487942026,\n",
              "    0.043285118273220805,\n",
              "    0.0828658275311572,\n",
              "    0.04759989087465873,\n",
              "    0.06451015463436985,\n",
              "    0.13414048947761573,\n",
              "    0.04851750103250642,\n",
              "    0.08864691386893873,\n",
              "    0.06858107418839574,\n",
              "    0.03645659654845157,\n",
              "    0.0495913752488409,\n",
              "    0.0648928373998117,\n",
              "    0.07692947521256996,\n",
              "    0.08312691734068768,\n",
              "    0.029728167646023873,\n",
              "    0.060467306138856,\n",
              "    0.051102225571375934,\n",
              "    0.03924052434228729,\n",
              "    0.07656434986152945,\n",
              "    0.0703384170343803,\n",
              "    0.06670756156505826,\n",
              "    0.05569297747815218,\n",
              "    0.03281427170201641,\n",
              "    0.035085840182597014,\n",
              "    0.0864555724055743,\n",
              "    0.01745613243961861,\n",
              "    0.05637703294455204,\n",
              "    0.08837958810609756,\n",
              "    0.03648532762005112,\n",
              "    0.01997466525219252,\n",
              "    0.04685157536208121,\n",
              "    0.061772654736285626,\n",
              "    0.022654264945665716,\n",
              "    0.06447184614716062,\n",
              "    0.02346069339151419,\n",
              "    0.06015741848887869,\n",
              "    0.06199592315564743,\n",
              "    0.0686685566921194,\n",
              "    0.037947856270447784,\n",
              "    0.03315205203140606]]}}"
            ]
          },
          "metadata": {
            "tags": []
          },
          "execution_count": 51
        }
      ]
    },
    {
      "cell_type": "code",
      "metadata": {
        "id": "igaXd98pqr3N"
      },
      "source": [
        "import pickle\n",
        " \n",
        "with open(path + 'FedMed_k50.pkl', 'rb') as file:\n",
        "  log_dict = pickle.load(file)"
      ],
      "execution_count": 60,
      "outputs": []
    },
    {
      "cell_type": "code",
      "metadata": {
        "id": "se_04JMaVJPg",
        "colab": {
          "base_uri": "https://localhost:8080/"
        },
        "outputId": "d453de2c-097c-4a6d-eb12-11528ce938e9"
      },
      "source": [
        "print([t est_acc[-1] for test_acc in log_dict['MNIST CNN on IID']['test_accuracy']])"
      ],
      "execution_count": 53,
      "outputs": [
        {
          "output_type": "stream",
          "text": [
            "[99.36708860759494]\n"
          ],
          "name": "stdout"
        }
      ]
    },
    {
      "cell_type": "code",
      "metadata": {
        "id": "5sv0rv-G4Sqa",
        "colab": {
          "base_uri": "https://localhost:8080/"
        },
        "outputId": "259e16e1-aa6e-4ee1-86cd-9831e60d9fb4"
      },
      "source": [
        "print([test_acc[-1] for test_acc in log_dict['MNIST CNN on Non IID']['test_accuracy']])"
      ],
      "execution_count": 54,
      "outputs": [
        {
          "output_type": "stream",
          "text": [
            "[50.75949367088607]\n"
          ],
          "name": "stdout"
        }
      ]
    },
    {
      "cell_type": "code",
      "metadata": {
        "id": "b2a2_Az-4nal",
        "colab": {
          "base_uri": "https://localhost:8080/"
        },
        "outputId": "70c9f069-0aab-4f37-8e77-2788911dd6ae"
      },
      "source": [
        "print([test_acc[-1] for test_acc in log_dict['MNIST MLP on IID']['test_accuracy']])"
      ],
      "execution_count": 55,
      "outputs": [
        {
          "output_type": "stream",
          "text": [
            "[96.20253164556962]\n"
          ],
          "name": "stdout"
        }
      ]
    },
    {
      "cell_type": "code",
      "metadata": {
        "id": "YoRqZyvD4p2K",
        "colab": {
          "base_uri": "https://localhost:8080/"
        },
        "outputId": "450cb1fb-fcba-4cb4-ac23-91b68fc747ac"
      },
      "source": [
        "print([test_acc[-1] for test_acc in log_dict['MNIST MLP on Non IID']['test_accuracy']])"
      ],
      "execution_count": 56,
      "outputs": [
        {
          "output_type": "stream",
          "text": [
            "[59.620253164556964]\n"
          ],
          "name": "stdout"
        }
      ]
    },
    {
      "cell_type": "code",
      "metadata": {
        "id": "B87eGKJnAHIh",
        "colab": {
          "base_uri": "https://localhost:8080/"
        },
        "outputId": "c1f048c0-a09a-447b-daca-466ffa72a3cb"
      },
      "source": [
        "output.show()"
      ],
      "execution_count": 57,
      "outputs": [
        {
          "output_type": "stream",
          "text": [
            "Drive already mounted at /content/drive; to attempt to forcibly remount, call drive.mount(\"/content/drive\", force_remount=True).\n"
          ],
          "name": "stdout"
        }
      ]
    }
  ]
}