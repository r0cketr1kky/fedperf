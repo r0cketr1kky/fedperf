{
  "nbformat": 4,
  "nbformat_minor": 0,
  "metadata": {
    "colab": {
      "name": "FederatedAveraging",
      "provenance": [],
      "collapsed_sections": [
        "eaor3o2zpngq",
        "8h_ejDCsqLqE",
        "VCGAtMU8qp__"
      ],
      "toc_visible": true,
      "machine_shape": "hm",
      "include_colab_link": true
    },
    "kernelspec": {
      "name": "python3",
      "display_name": "Python 3"
    },
    "accelerator": "GPU",
    "widgets": {
      "application/vnd.jupyter.widget-state+json": {
        "91c620b69fdc434f959055f3a0082e70": {
          "model_module": "@jupyter-widgets/controls",
          "model_name": "HBoxModel",
          "state": {
            "_view_name": "HBoxView",
            "_dom_classes": [],
            "_model_name": "HBoxModel",
            "_view_module": "@jupyter-widgets/controls",
            "_model_module_version": "1.5.0",
            "_view_count": null,
            "_view_module_version": "1.5.0",
            "box_style": "",
            "layout": "IPY_MODEL_bd9bac528a8b471b93c3396b53235646",
            "_model_module": "@jupyter-widgets/controls",
            "children": [
              "IPY_MODEL_41e1351ba94540c1b69e32e0ed27a6db",
              "IPY_MODEL_ade8ad7d32af45339725f4c8feb55cd6"
            ]
          }
        },
        "bd9bac528a8b471b93c3396b53235646": {
          "model_module": "@jupyter-widgets/base",
          "model_name": "LayoutModel",
          "state": {
            "_view_name": "LayoutView",
            "grid_template_rows": null,
            "right": null,
            "justify_content": null,
            "_view_module": "@jupyter-widgets/base",
            "overflow": null,
            "_model_module_version": "1.2.0",
            "_view_count": null,
            "flex_flow": null,
            "width": null,
            "min_width": null,
            "border": null,
            "align_items": null,
            "bottom": null,
            "_model_module": "@jupyter-widgets/base",
            "top": null,
            "grid_column": null,
            "overflow_y": null,
            "overflow_x": null,
            "grid_auto_flow": null,
            "grid_area": null,
            "grid_template_columns": null,
            "flex": null,
            "_model_name": "LayoutModel",
            "justify_items": null,
            "grid_row": null,
            "max_height": null,
            "align_content": null,
            "visibility": null,
            "align_self": null,
            "height": null,
            "min_height": null,
            "padding": null,
            "grid_auto_rows": null,
            "grid_gap": null,
            "max_width": null,
            "order": null,
            "_view_module_version": "1.2.0",
            "grid_template_areas": null,
            "object_position": null,
            "object_fit": null,
            "grid_auto_columns": null,
            "margin": null,
            "display": null,
            "left": null
          }
        },
        "41e1351ba94540c1b69e32e0ed27a6db": {
          "model_module": "@jupyter-widgets/controls",
          "model_name": "FloatProgressModel",
          "state": {
            "_view_name": "ProgressView",
            "style": "IPY_MODEL_4673823c15834727a13a76cc46e9013d",
            "_dom_classes": [],
            "description": "",
            "_model_name": "FloatProgressModel",
            "bar_style": "success",
            "max": 9912422,
            "_view_module": "@jupyter-widgets/controls",
            "_model_module_version": "1.5.0",
            "value": 9912422,
            "_view_count": null,
            "_view_module_version": "1.5.0",
            "orientation": "horizontal",
            "min": 0,
            "description_tooltip": null,
            "_model_module": "@jupyter-widgets/controls",
            "layout": "IPY_MODEL_3047f549efec475097b9935d08bdf4fb"
          }
        },
        "ade8ad7d32af45339725f4c8feb55cd6": {
          "model_module": "@jupyter-widgets/controls",
          "model_name": "HTMLModel",
          "state": {
            "_view_name": "HTMLView",
            "style": "IPY_MODEL_b11f59d85d2e41bba3dd9f9cfa26e5a5",
            "_dom_classes": [],
            "description": "",
            "_model_name": "HTMLModel",
            "placeholder": "​",
            "_view_module": "@jupyter-widgets/controls",
            "_model_module_version": "1.5.0",
            "value": " 9913344/? [00:08&lt;00:00, 1209154.02it/s]",
            "_view_count": null,
            "_view_module_version": "1.5.0",
            "description_tooltip": null,
            "_model_module": "@jupyter-widgets/controls",
            "layout": "IPY_MODEL_7d7b72d5a81a4f99b3ff07860d4420fc"
          }
        },
        "4673823c15834727a13a76cc46e9013d": {
          "model_module": "@jupyter-widgets/controls",
          "model_name": "ProgressStyleModel",
          "state": {
            "_view_name": "StyleView",
            "_model_name": "ProgressStyleModel",
            "description_width": "initial",
            "_view_module": "@jupyter-widgets/base",
            "_model_module_version": "1.5.0",
            "_view_count": null,
            "_view_module_version": "1.2.0",
            "bar_color": null,
            "_model_module": "@jupyter-widgets/controls"
          }
        },
        "3047f549efec475097b9935d08bdf4fb": {
          "model_module": "@jupyter-widgets/base",
          "model_name": "LayoutModel",
          "state": {
            "_view_name": "LayoutView",
            "grid_template_rows": null,
            "right": null,
            "justify_content": null,
            "_view_module": "@jupyter-widgets/base",
            "overflow": null,
            "_model_module_version": "1.2.0",
            "_view_count": null,
            "flex_flow": null,
            "width": null,
            "min_width": null,
            "border": null,
            "align_items": null,
            "bottom": null,
            "_model_module": "@jupyter-widgets/base",
            "top": null,
            "grid_column": null,
            "overflow_y": null,
            "overflow_x": null,
            "grid_auto_flow": null,
            "grid_area": null,
            "grid_template_columns": null,
            "flex": null,
            "_model_name": "LayoutModel",
            "justify_items": null,
            "grid_row": null,
            "max_height": null,
            "align_content": null,
            "visibility": null,
            "align_self": null,
            "height": null,
            "min_height": null,
            "padding": null,
            "grid_auto_rows": null,
            "grid_gap": null,
            "max_width": null,
            "order": null,
            "_view_module_version": "1.2.0",
            "grid_template_areas": null,
            "object_position": null,
            "object_fit": null,
            "grid_auto_columns": null,
            "margin": null,
            "display": null,
            "left": null
          }
        },
        "b11f59d85d2e41bba3dd9f9cfa26e5a5": {
          "model_module": "@jupyter-widgets/controls",
          "model_name": "DescriptionStyleModel",
          "state": {
            "_view_name": "StyleView",
            "_model_name": "DescriptionStyleModel",
            "description_width": "",
            "_view_module": "@jupyter-widgets/base",
            "_model_module_version": "1.5.0",
            "_view_count": null,
            "_view_module_version": "1.2.0",
            "_model_module": "@jupyter-widgets/controls"
          }
        },
        "7d7b72d5a81a4f99b3ff07860d4420fc": {
          "model_module": "@jupyter-widgets/base",
          "model_name": "LayoutModel",
          "state": {
            "_view_name": "LayoutView",
            "grid_template_rows": null,
            "right": null,
            "justify_content": null,
            "_view_module": "@jupyter-widgets/base",
            "overflow": null,
            "_model_module_version": "1.2.0",
            "_view_count": null,
            "flex_flow": null,
            "width": null,
            "min_width": null,
            "border": null,
            "align_items": null,
            "bottom": null,
            "_model_module": "@jupyter-widgets/base",
            "top": null,
            "grid_column": null,
            "overflow_y": null,
            "overflow_x": null,
            "grid_auto_flow": null,
            "grid_area": null,
            "grid_template_columns": null,
            "flex": null,
            "_model_name": "LayoutModel",
            "justify_items": null,
            "grid_row": null,
            "max_height": null,
            "align_content": null,
            "visibility": null,
            "align_self": null,
            "height": null,
            "min_height": null,
            "padding": null,
            "grid_auto_rows": null,
            "grid_gap": null,
            "max_width": null,
            "order": null,
            "_view_module_version": "1.2.0",
            "grid_template_areas": null,
            "object_position": null,
            "object_fit": null,
            "grid_auto_columns": null,
            "margin": null,
            "display": null,
            "left": null
          }
        },
        "73dd215edc6b4438919e818638212b07": {
          "model_module": "@jupyter-widgets/controls",
          "model_name": "HBoxModel",
          "state": {
            "_view_name": "HBoxView",
            "_dom_classes": [],
            "_model_name": "HBoxModel",
            "_view_module": "@jupyter-widgets/controls",
            "_model_module_version": "1.5.0",
            "_view_count": null,
            "_view_module_version": "1.5.0",
            "box_style": "",
            "layout": "IPY_MODEL_9cdffc9bcaaa4a649daf612b0bb00ed1",
            "_model_module": "@jupyter-widgets/controls",
            "children": [
              "IPY_MODEL_63cf84b2412e4d01a3f08abcd11caa9d",
              "IPY_MODEL_dec243c3bee04565b8eae530d5079a69"
            ]
          }
        },
        "9cdffc9bcaaa4a649daf612b0bb00ed1": {
          "model_module": "@jupyter-widgets/base",
          "model_name": "LayoutModel",
          "state": {
            "_view_name": "LayoutView",
            "grid_template_rows": null,
            "right": null,
            "justify_content": null,
            "_view_module": "@jupyter-widgets/base",
            "overflow": null,
            "_model_module_version": "1.2.0",
            "_view_count": null,
            "flex_flow": null,
            "width": null,
            "min_width": null,
            "border": null,
            "align_items": null,
            "bottom": null,
            "_model_module": "@jupyter-widgets/base",
            "top": null,
            "grid_column": null,
            "overflow_y": null,
            "overflow_x": null,
            "grid_auto_flow": null,
            "grid_area": null,
            "grid_template_columns": null,
            "flex": null,
            "_model_name": "LayoutModel",
            "justify_items": null,
            "grid_row": null,
            "max_height": null,
            "align_content": null,
            "visibility": null,
            "align_self": null,
            "height": null,
            "min_height": null,
            "padding": null,
            "grid_auto_rows": null,
            "grid_gap": null,
            "max_width": null,
            "order": null,
            "_view_module_version": "1.2.0",
            "grid_template_areas": null,
            "object_position": null,
            "object_fit": null,
            "grid_auto_columns": null,
            "margin": null,
            "display": null,
            "left": null
          }
        },
        "63cf84b2412e4d01a3f08abcd11caa9d": {
          "model_module": "@jupyter-widgets/controls",
          "model_name": "FloatProgressModel",
          "state": {
            "_view_name": "ProgressView",
            "style": "IPY_MODEL_976c74885a6146dc81499213a357e440",
            "_dom_classes": [],
            "description": "",
            "_model_name": "FloatProgressModel",
            "bar_style": "success",
            "max": 28881,
            "_view_module": "@jupyter-widgets/controls",
            "_model_module_version": "1.5.0",
            "value": 28881,
            "_view_count": null,
            "_view_module_version": "1.5.0",
            "orientation": "horizontal",
            "min": 0,
            "description_tooltip": null,
            "_model_module": "@jupyter-widgets/controls",
            "layout": "IPY_MODEL_ae45cb4d0360442594286e2f83681b8d"
          }
        },
        "dec243c3bee04565b8eae530d5079a69": {
          "model_module": "@jupyter-widgets/controls",
          "model_name": "HTMLModel",
          "state": {
            "_view_name": "HTMLView",
            "style": "IPY_MODEL_7020a483339b4129821f33dbd5ab4412",
            "_dom_classes": [],
            "description": "",
            "_model_name": "HTMLModel",
            "placeholder": "​",
            "_view_module": "@jupyter-widgets/controls",
            "_model_module_version": "1.5.0",
            "value": " 29696/? [00:06&lt;00:00, 4392.36it/s]",
            "_view_count": null,
            "_view_module_version": "1.5.0",
            "description_tooltip": null,
            "_model_module": "@jupyter-widgets/controls",
            "layout": "IPY_MODEL_46ba03164a2c4b609538232136aeb1ed"
          }
        },
        "976c74885a6146dc81499213a357e440": {
          "model_module": "@jupyter-widgets/controls",
          "model_name": "ProgressStyleModel",
          "state": {
            "_view_name": "StyleView",
            "_model_name": "ProgressStyleModel",
            "description_width": "initial",
            "_view_module": "@jupyter-widgets/base",
            "_model_module_version": "1.5.0",
            "_view_count": null,
            "_view_module_version": "1.2.0",
            "bar_color": null,
            "_model_module": "@jupyter-widgets/controls"
          }
        },
        "ae45cb4d0360442594286e2f83681b8d": {
          "model_module": "@jupyter-widgets/base",
          "model_name": "LayoutModel",
          "state": {
            "_view_name": "LayoutView",
            "grid_template_rows": null,
            "right": null,
            "justify_content": null,
            "_view_module": "@jupyter-widgets/base",
            "overflow": null,
            "_model_module_version": "1.2.0",
            "_view_count": null,
            "flex_flow": null,
            "width": null,
            "min_width": null,
            "border": null,
            "align_items": null,
            "bottom": null,
            "_model_module": "@jupyter-widgets/base",
            "top": null,
            "grid_column": null,
            "overflow_y": null,
            "overflow_x": null,
            "grid_auto_flow": null,
            "grid_area": null,
            "grid_template_columns": null,
            "flex": null,
            "_model_name": "LayoutModel",
            "justify_items": null,
            "grid_row": null,
            "max_height": null,
            "align_content": null,
            "visibility": null,
            "align_self": null,
            "height": null,
            "min_height": null,
            "padding": null,
            "grid_auto_rows": null,
            "grid_gap": null,
            "max_width": null,
            "order": null,
            "_view_module_version": "1.2.0",
            "grid_template_areas": null,
            "object_position": null,
            "object_fit": null,
            "grid_auto_columns": null,
            "margin": null,
            "display": null,
            "left": null
          }
        },
        "7020a483339b4129821f33dbd5ab4412": {
          "model_module": "@jupyter-widgets/controls",
          "model_name": "DescriptionStyleModel",
          "state": {
            "_view_name": "StyleView",
            "_model_name": "DescriptionStyleModel",
            "description_width": "",
            "_view_module": "@jupyter-widgets/base",
            "_model_module_version": "1.5.0",
            "_view_count": null,
            "_view_module_version": "1.2.0",
            "_model_module": "@jupyter-widgets/controls"
          }
        },
        "46ba03164a2c4b609538232136aeb1ed": {
          "model_module": "@jupyter-widgets/base",
          "model_name": "LayoutModel",
          "state": {
            "_view_name": "LayoutView",
            "grid_template_rows": null,
            "right": null,
            "justify_content": null,
            "_view_module": "@jupyter-widgets/base",
            "overflow": null,
            "_model_module_version": "1.2.0",
            "_view_count": null,
            "flex_flow": null,
            "width": null,
            "min_width": null,
            "border": null,
            "align_items": null,
            "bottom": null,
            "_model_module": "@jupyter-widgets/base",
            "top": null,
            "grid_column": null,
            "overflow_y": null,
            "overflow_x": null,
            "grid_auto_flow": null,
            "grid_area": null,
            "grid_template_columns": null,
            "flex": null,
            "_model_name": "LayoutModel",
            "justify_items": null,
            "grid_row": null,
            "max_height": null,
            "align_content": null,
            "visibility": null,
            "align_self": null,
            "height": null,
            "min_height": null,
            "padding": null,
            "grid_auto_rows": null,
            "grid_gap": null,
            "max_width": null,
            "order": null,
            "_view_module_version": "1.2.0",
            "grid_template_areas": null,
            "object_position": null,
            "object_fit": null,
            "grid_auto_columns": null,
            "margin": null,
            "display": null,
            "left": null
          }
        },
        "d983383a63c54bc6b199862be1f5778b": {
          "model_module": "@jupyter-widgets/controls",
          "model_name": "HBoxModel",
          "state": {
            "_view_name": "HBoxView",
            "_dom_classes": [],
            "_model_name": "HBoxModel",
            "_view_module": "@jupyter-widgets/controls",
            "_model_module_version": "1.5.0",
            "_view_count": null,
            "_view_module_version": "1.5.0",
            "box_style": "",
            "layout": "IPY_MODEL_78ff6fdfeefa4799a190ef50038fa4fb",
            "_model_module": "@jupyter-widgets/controls",
            "children": [
              "IPY_MODEL_be6e0b62a86b4c2e91fabb9123a4c868",
              "IPY_MODEL_771eb1b6c7194c0d85a8b12de60cff02"
            ]
          }
        },
        "78ff6fdfeefa4799a190ef50038fa4fb": {
          "model_module": "@jupyter-widgets/base",
          "model_name": "LayoutModel",
          "state": {
            "_view_name": "LayoutView",
            "grid_template_rows": null,
            "right": null,
            "justify_content": null,
            "_view_module": "@jupyter-widgets/base",
            "overflow": null,
            "_model_module_version": "1.2.0",
            "_view_count": null,
            "flex_flow": null,
            "width": null,
            "min_width": null,
            "border": null,
            "align_items": null,
            "bottom": null,
            "_model_module": "@jupyter-widgets/base",
            "top": null,
            "grid_column": null,
            "overflow_y": null,
            "overflow_x": null,
            "grid_auto_flow": null,
            "grid_area": null,
            "grid_template_columns": null,
            "flex": null,
            "_model_name": "LayoutModel",
            "justify_items": null,
            "grid_row": null,
            "max_height": null,
            "align_content": null,
            "visibility": null,
            "align_self": null,
            "height": null,
            "min_height": null,
            "padding": null,
            "grid_auto_rows": null,
            "grid_gap": null,
            "max_width": null,
            "order": null,
            "_view_module_version": "1.2.0",
            "grid_template_areas": null,
            "object_position": null,
            "object_fit": null,
            "grid_auto_columns": null,
            "margin": null,
            "display": null,
            "left": null
          }
        },
        "be6e0b62a86b4c2e91fabb9123a4c868": {
          "model_module": "@jupyter-widgets/controls",
          "model_name": "FloatProgressModel",
          "state": {
            "_view_name": "ProgressView",
            "style": "IPY_MODEL_2360123616b44f269d3414c767757bc7",
            "_dom_classes": [],
            "description": "",
            "_model_name": "FloatProgressModel",
            "bar_style": "success",
            "max": 1648877,
            "_view_module": "@jupyter-widgets/controls",
            "_model_module_version": "1.5.0",
            "value": 1648877,
            "_view_count": null,
            "_view_module_version": "1.5.0",
            "orientation": "horizontal",
            "min": 0,
            "description_tooltip": null,
            "_model_module": "@jupyter-widgets/controls",
            "layout": "IPY_MODEL_b93fedac9ff94660b53dc6e983b8974e"
          }
        },
        "771eb1b6c7194c0d85a8b12de60cff02": {
          "model_module": "@jupyter-widgets/controls",
          "model_name": "HTMLModel",
          "state": {
            "_view_name": "HTMLView",
            "style": "IPY_MODEL_02e5ce3367e6498188d959c4cab369f6",
            "_dom_classes": [],
            "description": "",
            "_model_name": "HTMLModel",
            "placeholder": "​",
            "_view_module": "@jupyter-widgets/controls",
            "_model_module_version": "1.5.0",
            "value": " 1649664/? [00:02&lt;00:00, 762067.63it/s]",
            "_view_count": null,
            "_view_module_version": "1.5.0",
            "description_tooltip": null,
            "_model_module": "@jupyter-widgets/controls",
            "layout": "IPY_MODEL_e68ccef1fd72483785894a1d482c31d5"
          }
        },
        "2360123616b44f269d3414c767757bc7": {
          "model_module": "@jupyter-widgets/controls",
          "model_name": "ProgressStyleModel",
          "state": {
            "_view_name": "StyleView",
            "_model_name": "ProgressStyleModel",
            "description_width": "initial",
            "_view_module": "@jupyter-widgets/base",
            "_model_module_version": "1.5.0",
            "_view_count": null,
            "_view_module_version": "1.2.0",
            "bar_color": null,
            "_model_module": "@jupyter-widgets/controls"
          }
        },
        "b93fedac9ff94660b53dc6e983b8974e": {
          "model_module": "@jupyter-widgets/base",
          "model_name": "LayoutModel",
          "state": {
            "_view_name": "LayoutView",
            "grid_template_rows": null,
            "right": null,
            "justify_content": null,
            "_view_module": "@jupyter-widgets/base",
            "overflow": null,
            "_model_module_version": "1.2.0",
            "_view_count": null,
            "flex_flow": null,
            "width": null,
            "min_width": null,
            "border": null,
            "align_items": null,
            "bottom": null,
            "_model_module": "@jupyter-widgets/base",
            "top": null,
            "grid_column": null,
            "overflow_y": null,
            "overflow_x": null,
            "grid_auto_flow": null,
            "grid_area": null,
            "grid_template_columns": null,
            "flex": null,
            "_model_name": "LayoutModel",
            "justify_items": null,
            "grid_row": null,
            "max_height": null,
            "align_content": null,
            "visibility": null,
            "align_self": null,
            "height": null,
            "min_height": null,
            "padding": null,
            "grid_auto_rows": null,
            "grid_gap": null,
            "max_width": null,
            "order": null,
            "_view_module_version": "1.2.0",
            "grid_template_areas": null,
            "object_position": null,
            "object_fit": null,
            "grid_auto_columns": null,
            "margin": null,
            "display": null,
            "left": null
          }
        },
        "02e5ce3367e6498188d959c4cab369f6": {
          "model_module": "@jupyter-widgets/controls",
          "model_name": "DescriptionStyleModel",
          "state": {
            "_view_name": "StyleView",
            "_model_name": "DescriptionStyleModel",
            "description_width": "",
            "_view_module": "@jupyter-widgets/base",
            "_model_module_version": "1.5.0",
            "_view_count": null,
            "_view_module_version": "1.2.0",
            "_model_module": "@jupyter-widgets/controls"
          }
        },
        "e68ccef1fd72483785894a1d482c31d5": {
          "model_module": "@jupyter-widgets/base",
          "model_name": "LayoutModel",
          "state": {
            "_view_name": "LayoutView",
            "grid_template_rows": null,
            "right": null,
            "justify_content": null,
            "_view_module": "@jupyter-widgets/base",
            "overflow": null,
            "_model_module_version": "1.2.0",
            "_view_count": null,
            "flex_flow": null,
            "width": null,
            "min_width": null,
            "border": null,
            "align_items": null,
            "bottom": null,
            "_model_module": "@jupyter-widgets/base",
            "top": null,
            "grid_column": null,
            "overflow_y": null,
            "overflow_x": null,
            "grid_auto_flow": null,
            "grid_area": null,
            "grid_template_columns": null,
            "flex": null,
            "_model_name": "LayoutModel",
            "justify_items": null,
            "grid_row": null,
            "max_height": null,
            "align_content": null,
            "visibility": null,
            "align_self": null,
            "height": null,
            "min_height": null,
            "padding": null,
            "grid_auto_rows": null,
            "grid_gap": null,
            "max_width": null,
            "order": null,
            "_view_module_version": "1.2.0",
            "grid_template_areas": null,
            "object_position": null,
            "object_fit": null,
            "grid_auto_columns": null,
            "margin": null,
            "display": null,
            "left": null
          }
        },
        "79062cda42224e29808dce6fceef083d": {
          "model_module": "@jupyter-widgets/controls",
          "model_name": "HBoxModel",
          "state": {
            "_view_name": "HBoxView",
            "_dom_classes": [],
            "_model_name": "HBoxModel",
            "_view_module": "@jupyter-widgets/controls",
            "_model_module_version": "1.5.0",
            "_view_count": null,
            "_view_module_version": "1.5.0",
            "box_style": "",
            "layout": "IPY_MODEL_9bb701bf6f634869810f6567104c3e54",
            "_model_module": "@jupyter-widgets/controls",
            "children": [
              "IPY_MODEL_b14a2a88399c44c3b5bbc3b98afa0cdc",
              "IPY_MODEL_df984c0f2e5c4a8092a32105d72d5b92"
            ]
          }
        },
        "9bb701bf6f634869810f6567104c3e54": {
          "model_module": "@jupyter-widgets/base",
          "model_name": "LayoutModel",
          "state": {
            "_view_name": "LayoutView",
            "grid_template_rows": null,
            "right": null,
            "justify_content": null,
            "_view_module": "@jupyter-widgets/base",
            "overflow": null,
            "_model_module_version": "1.2.0",
            "_view_count": null,
            "flex_flow": null,
            "width": null,
            "min_width": null,
            "border": null,
            "align_items": null,
            "bottom": null,
            "_model_module": "@jupyter-widgets/base",
            "top": null,
            "grid_column": null,
            "overflow_y": null,
            "overflow_x": null,
            "grid_auto_flow": null,
            "grid_area": null,
            "grid_template_columns": null,
            "flex": null,
            "_model_name": "LayoutModel",
            "justify_items": null,
            "grid_row": null,
            "max_height": null,
            "align_content": null,
            "visibility": null,
            "align_self": null,
            "height": null,
            "min_height": null,
            "padding": null,
            "grid_auto_rows": null,
            "grid_gap": null,
            "max_width": null,
            "order": null,
            "_view_module_version": "1.2.0",
            "grid_template_areas": null,
            "object_position": null,
            "object_fit": null,
            "grid_auto_columns": null,
            "margin": null,
            "display": null,
            "left": null
          }
        },
        "b14a2a88399c44c3b5bbc3b98afa0cdc": {
          "model_module": "@jupyter-widgets/controls",
          "model_name": "FloatProgressModel",
          "state": {
            "_view_name": "ProgressView",
            "style": "IPY_MODEL_91cf0e690ae34610a915a17f467998db",
            "_dom_classes": [],
            "description": "",
            "_model_name": "FloatProgressModel",
            "bar_style": "success",
            "max": 4542,
            "_view_module": "@jupyter-widgets/controls",
            "_model_module_version": "1.5.0",
            "value": 4542,
            "_view_count": null,
            "_view_module_version": "1.5.0",
            "orientation": "horizontal",
            "min": 0,
            "description_tooltip": null,
            "_model_module": "@jupyter-widgets/controls",
            "layout": "IPY_MODEL_9b05c0d7bce74f2182f6b036f0288c16"
          }
        },
        "df984c0f2e5c4a8092a32105d72d5b92": {
          "model_module": "@jupyter-widgets/controls",
          "model_name": "HTMLModel",
          "state": {
            "_view_name": "HTMLView",
            "style": "IPY_MODEL_06ff5c413a9e4601ac30fdbaa756cbe6",
            "_dom_classes": [],
            "description": "",
            "_model_name": "HTMLModel",
            "placeholder": "​",
            "_view_module": "@jupyter-widgets/controls",
            "_model_module_version": "1.5.0",
            "value": " 5120/? [00:01&lt;00:00, 4155.60it/s]",
            "_view_count": null,
            "_view_module_version": "1.5.0",
            "description_tooltip": null,
            "_model_module": "@jupyter-widgets/controls",
            "layout": "IPY_MODEL_c6b7c8c5b8784fc7befa7da764c9d205"
          }
        },
        "91cf0e690ae34610a915a17f467998db": {
          "model_module": "@jupyter-widgets/controls",
          "model_name": "ProgressStyleModel",
          "state": {
            "_view_name": "StyleView",
            "_model_name": "ProgressStyleModel",
            "description_width": "initial",
            "_view_module": "@jupyter-widgets/base",
            "_model_module_version": "1.5.0",
            "_view_count": null,
            "_view_module_version": "1.2.0",
            "bar_color": null,
            "_model_module": "@jupyter-widgets/controls"
          }
        },
        "9b05c0d7bce74f2182f6b036f0288c16": {
          "model_module": "@jupyter-widgets/base",
          "model_name": "LayoutModel",
          "state": {
            "_view_name": "LayoutView",
            "grid_template_rows": null,
            "right": null,
            "justify_content": null,
            "_view_module": "@jupyter-widgets/base",
            "overflow": null,
            "_model_module_version": "1.2.0",
            "_view_count": null,
            "flex_flow": null,
            "width": null,
            "min_width": null,
            "border": null,
            "align_items": null,
            "bottom": null,
            "_model_module": "@jupyter-widgets/base",
            "top": null,
            "grid_column": null,
            "overflow_y": null,
            "overflow_x": null,
            "grid_auto_flow": null,
            "grid_area": null,
            "grid_template_columns": null,
            "flex": null,
            "_model_name": "LayoutModel",
            "justify_items": null,
            "grid_row": null,
            "max_height": null,
            "align_content": null,
            "visibility": null,
            "align_self": null,
            "height": null,
            "min_height": null,
            "padding": null,
            "grid_auto_rows": null,
            "grid_gap": null,
            "max_width": null,
            "order": null,
            "_view_module_version": "1.2.0",
            "grid_template_areas": null,
            "object_position": null,
            "object_fit": null,
            "grid_auto_columns": null,
            "margin": null,
            "display": null,
            "left": null
          }
        },
        "06ff5c413a9e4601ac30fdbaa756cbe6": {
          "model_module": "@jupyter-widgets/controls",
          "model_name": "DescriptionStyleModel",
          "state": {
            "_view_name": "StyleView",
            "_model_name": "DescriptionStyleModel",
            "description_width": "",
            "_view_module": "@jupyter-widgets/base",
            "_model_module_version": "1.5.0",
            "_view_count": null,
            "_view_module_version": "1.2.0",
            "_model_module": "@jupyter-widgets/controls"
          }
        },
        "c6b7c8c5b8784fc7befa7da764c9d205": {
          "model_module": "@jupyter-widgets/base",
          "model_name": "LayoutModel",
          "state": {
            "_view_name": "LayoutView",
            "grid_template_rows": null,
            "right": null,
            "justify_content": null,
            "_view_module": "@jupyter-widgets/base",
            "overflow": null,
            "_model_module_version": "1.2.0",
            "_view_count": null,
            "flex_flow": null,
            "width": null,
            "min_width": null,
            "border": null,
            "align_items": null,
            "bottom": null,
            "_model_module": "@jupyter-widgets/base",
            "top": null,
            "grid_column": null,
            "overflow_y": null,
            "overflow_x": null,
            "grid_auto_flow": null,
            "grid_area": null,
            "grid_template_columns": null,
            "flex": null,
            "_model_name": "LayoutModel",
            "justify_items": null,
            "grid_row": null,
            "max_height": null,
            "align_content": null,
            "visibility": null,
            "align_self": null,
            "height": null,
            "min_height": null,
            "padding": null,
            "grid_auto_rows": null,
            "grid_gap": null,
            "max_width": null,
            "order": null,
            "_view_module_version": "1.2.0",
            "grid_template_areas": null,
            "object_position": null,
            "object_fit": null,
            "grid_auto_columns": null,
            "margin": null,
            "display": null,
            "left": null
          }
        },
        "494c1eab16a644d3a72d5a15ad34f8eb": {
          "model_module": "@jupyter-widgets/controls",
          "model_name": "HBoxModel",
          "state": {
            "_view_name": "HBoxView",
            "_dom_classes": [],
            "_model_name": "HBoxModel",
            "_view_module": "@jupyter-widgets/controls",
            "_model_module_version": "1.5.0",
            "_view_count": null,
            "_view_module_version": "1.5.0",
            "box_style": "",
            "layout": "IPY_MODEL_deb3ab827c2b46e7b6441e77128904ff",
            "_model_module": "@jupyter-widgets/controls",
            "children": [
              "IPY_MODEL_ab76a6d93add415b93d5c0fb0aac7e1e",
              "IPY_MODEL_cd1aa4d410ea4193933d1d2d459b12b9"
            ]
          }
        },
        "deb3ab827c2b46e7b6441e77128904ff": {
          "model_module": "@jupyter-widgets/base",
          "model_name": "LayoutModel",
          "state": {
            "_view_name": "LayoutView",
            "grid_template_rows": null,
            "right": null,
            "justify_content": null,
            "_view_module": "@jupyter-widgets/base",
            "overflow": null,
            "_model_module_version": "1.2.0",
            "_view_count": null,
            "flex_flow": null,
            "width": null,
            "min_width": null,
            "border": null,
            "align_items": null,
            "bottom": null,
            "_model_module": "@jupyter-widgets/base",
            "top": null,
            "grid_column": null,
            "overflow_y": null,
            "overflow_x": null,
            "grid_auto_flow": null,
            "grid_area": null,
            "grid_template_columns": null,
            "flex": null,
            "_model_name": "LayoutModel",
            "justify_items": null,
            "grid_row": null,
            "max_height": null,
            "align_content": null,
            "visibility": null,
            "align_self": null,
            "height": null,
            "min_height": null,
            "padding": null,
            "grid_auto_rows": null,
            "grid_gap": null,
            "max_width": null,
            "order": null,
            "_view_module_version": "1.2.0",
            "grid_template_areas": null,
            "object_position": null,
            "object_fit": null,
            "grid_auto_columns": null,
            "margin": null,
            "display": null,
            "left": null
          }
        },
        "ab76a6d93add415b93d5c0fb0aac7e1e": {
          "model_module": "@jupyter-widgets/controls",
          "model_name": "FloatProgressModel",
          "state": {
            "_view_name": "ProgressView",
            "style": "IPY_MODEL_46151d7ea65c43f08064bef2918ce989",
            "_dom_classes": [],
            "description": "",
            "_model_name": "FloatProgressModel",
            "bar_style": "success",
            "max": 9912422,
            "_view_module": "@jupyter-widgets/controls",
            "_model_module_version": "1.5.0",
            "value": 9912422,
            "_view_count": null,
            "_view_module_version": "1.5.0",
            "orientation": "horizontal",
            "min": 0,
            "description_tooltip": null,
            "_model_module": "@jupyter-widgets/controls",
            "layout": "IPY_MODEL_f966f7cf65684036a29654e36c3180bd"
          }
        },
        "cd1aa4d410ea4193933d1d2d459b12b9": {
          "model_module": "@jupyter-widgets/controls",
          "model_name": "HTMLModel",
          "state": {
            "_view_name": "HTMLView",
            "style": "IPY_MODEL_8c39621682dd44a68dd2163daead96d5",
            "_dom_classes": [],
            "description": "",
            "_model_name": "HTMLModel",
            "placeholder": "​",
            "_view_module": "@jupyter-widgets/controls",
            "_model_module_version": "1.5.0",
            "value": " 9913344/? [00:03&lt;00:00, 2785665.48it/s]",
            "_view_count": null,
            "_view_module_version": "1.5.0",
            "description_tooltip": null,
            "_model_module": "@jupyter-widgets/controls",
            "layout": "IPY_MODEL_77571f800b264e128e8daab9065844f7"
          }
        },
        "46151d7ea65c43f08064bef2918ce989": {
          "model_module": "@jupyter-widgets/controls",
          "model_name": "ProgressStyleModel",
          "state": {
            "_view_name": "StyleView",
            "_model_name": "ProgressStyleModel",
            "description_width": "initial",
            "_view_module": "@jupyter-widgets/base",
            "_model_module_version": "1.5.0",
            "_view_count": null,
            "_view_module_version": "1.2.0",
            "bar_color": null,
            "_model_module": "@jupyter-widgets/controls"
          }
        },
        "f966f7cf65684036a29654e36c3180bd": {
          "model_module": "@jupyter-widgets/base",
          "model_name": "LayoutModel",
          "state": {
            "_view_name": "LayoutView",
            "grid_template_rows": null,
            "right": null,
            "justify_content": null,
            "_view_module": "@jupyter-widgets/base",
            "overflow": null,
            "_model_module_version": "1.2.0",
            "_view_count": null,
            "flex_flow": null,
            "width": null,
            "min_width": null,
            "border": null,
            "align_items": null,
            "bottom": null,
            "_model_module": "@jupyter-widgets/base",
            "top": null,
            "grid_column": null,
            "overflow_y": null,
            "overflow_x": null,
            "grid_auto_flow": null,
            "grid_area": null,
            "grid_template_columns": null,
            "flex": null,
            "_model_name": "LayoutModel",
            "justify_items": null,
            "grid_row": null,
            "max_height": null,
            "align_content": null,
            "visibility": null,
            "align_self": null,
            "height": null,
            "min_height": null,
            "padding": null,
            "grid_auto_rows": null,
            "grid_gap": null,
            "max_width": null,
            "order": null,
            "_view_module_version": "1.2.0",
            "grid_template_areas": null,
            "object_position": null,
            "object_fit": null,
            "grid_auto_columns": null,
            "margin": null,
            "display": null,
            "left": null
          }
        },
        "8c39621682dd44a68dd2163daead96d5": {
          "model_module": "@jupyter-widgets/controls",
          "model_name": "DescriptionStyleModel",
          "state": {
            "_view_name": "StyleView",
            "_model_name": "DescriptionStyleModel",
            "description_width": "",
            "_view_module": "@jupyter-widgets/base",
            "_model_module_version": "1.5.0",
            "_view_count": null,
            "_view_module_version": "1.2.0",
            "_model_module": "@jupyter-widgets/controls"
          }
        },
        "77571f800b264e128e8daab9065844f7": {
          "model_module": "@jupyter-widgets/base",
          "model_name": "LayoutModel",
          "state": {
            "_view_name": "LayoutView",
            "grid_template_rows": null,
            "right": null,
            "justify_content": null,
            "_view_module": "@jupyter-widgets/base",
            "overflow": null,
            "_model_module_version": "1.2.0",
            "_view_count": null,
            "flex_flow": null,
            "width": null,
            "min_width": null,
            "border": null,
            "align_items": null,
            "bottom": null,
            "_model_module": "@jupyter-widgets/base",
            "top": null,
            "grid_column": null,
            "overflow_y": null,
            "overflow_x": null,
            "grid_auto_flow": null,
            "grid_area": null,
            "grid_template_columns": null,
            "flex": null,
            "_model_name": "LayoutModel",
            "justify_items": null,
            "grid_row": null,
            "max_height": null,
            "align_content": null,
            "visibility": null,
            "align_self": null,
            "height": null,
            "min_height": null,
            "padding": null,
            "grid_auto_rows": null,
            "grid_gap": null,
            "max_width": null,
            "order": null,
            "_view_module_version": "1.2.0",
            "grid_template_areas": null,
            "object_position": null,
            "object_fit": null,
            "grid_auto_columns": null,
            "margin": null,
            "display": null,
            "left": null
          }
        },
        "821ca0673c1e471085ebaf962e472150": {
          "model_module": "@jupyter-widgets/controls",
          "model_name": "HBoxModel",
          "state": {
            "_view_name": "HBoxView",
            "_dom_classes": [],
            "_model_name": "HBoxModel",
            "_view_module": "@jupyter-widgets/controls",
            "_model_module_version": "1.5.0",
            "_view_count": null,
            "_view_module_version": "1.5.0",
            "box_style": "",
            "layout": "IPY_MODEL_d337a6c951b84205a12705693d218767",
            "_model_module": "@jupyter-widgets/controls",
            "children": [
              "IPY_MODEL_4d2e1b4fe36440f7b7c7105a68c09cc5",
              "IPY_MODEL_b2263833adbe468c97cfc8ab9a1f6a5a"
            ]
          }
        },
        "d337a6c951b84205a12705693d218767": {
          "model_module": "@jupyter-widgets/base",
          "model_name": "LayoutModel",
          "state": {
            "_view_name": "LayoutView",
            "grid_template_rows": null,
            "right": null,
            "justify_content": null,
            "_view_module": "@jupyter-widgets/base",
            "overflow": null,
            "_model_module_version": "1.2.0",
            "_view_count": null,
            "flex_flow": null,
            "width": null,
            "min_width": null,
            "border": null,
            "align_items": null,
            "bottom": null,
            "_model_module": "@jupyter-widgets/base",
            "top": null,
            "grid_column": null,
            "overflow_y": null,
            "overflow_x": null,
            "grid_auto_flow": null,
            "grid_area": null,
            "grid_template_columns": null,
            "flex": null,
            "_model_name": "LayoutModel",
            "justify_items": null,
            "grid_row": null,
            "max_height": null,
            "align_content": null,
            "visibility": null,
            "align_self": null,
            "height": null,
            "min_height": null,
            "padding": null,
            "grid_auto_rows": null,
            "grid_gap": null,
            "max_width": null,
            "order": null,
            "_view_module_version": "1.2.0",
            "grid_template_areas": null,
            "object_position": null,
            "object_fit": null,
            "grid_auto_columns": null,
            "margin": null,
            "display": null,
            "left": null
          }
        },
        "4d2e1b4fe36440f7b7c7105a68c09cc5": {
          "model_module": "@jupyter-widgets/controls",
          "model_name": "FloatProgressModel",
          "state": {
            "_view_name": "ProgressView",
            "style": "IPY_MODEL_0e1a14fa6dfe4e3295824bbc88f70700",
            "_dom_classes": [],
            "description": "",
            "_model_name": "FloatProgressModel",
            "bar_style": "success",
            "max": 28881,
            "_view_module": "@jupyter-widgets/controls",
            "_model_module_version": "1.5.0",
            "value": 28881,
            "_view_count": null,
            "_view_module_version": "1.5.0",
            "orientation": "horizontal",
            "min": 0,
            "description_tooltip": null,
            "_model_module": "@jupyter-widgets/controls",
            "layout": "IPY_MODEL_a42317f4bca945218db4db034da3fef4"
          }
        },
        "b2263833adbe468c97cfc8ab9a1f6a5a": {
          "model_module": "@jupyter-widgets/controls",
          "model_name": "HTMLModel",
          "state": {
            "_view_name": "HTMLView",
            "style": "IPY_MODEL_22171e0e724642ca8224394d6cb11089",
            "_dom_classes": [],
            "description": "",
            "_model_name": "HTMLModel",
            "placeholder": "​",
            "_view_module": "@jupyter-widgets/controls",
            "_model_module_version": "1.5.0",
            "value": " 29696/? [00:01&lt;00:00, 15340.26it/s]",
            "_view_count": null,
            "_view_module_version": "1.5.0",
            "description_tooltip": null,
            "_model_module": "@jupyter-widgets/controls",
            "layout": "IPY_MODEL_acfa86e98d66417f904a16e533b1bfe6"
          }
        },
        "0e1a14fa6dfe4e3295824bbc88f70700": {
          "model_module": "@jupyter-widgets/controls",
          "model_name": "ProgressStyleModel",
          "state": {
            "_view_name": "StyleView",
            "_model_name": "ProgressStyleModel",
            "description_width": "initial",
            "_view_module": "@jupyter-widgets/base",
            "_model_module_version": "1.5.0",
            "_view_count": null,
            "_view_module_version": "1.2.0",
            "bar_color": null,
            "_model_module": "@jupyter-widgets/controls"
          }
        },
        "a42317f4bca945218db4db034da3fef4": {
          "model_module": "@jupyter-widgets/base",
          "model_name": "LayoutModel",
          "state": {
            "_view_name": "LayoutView",
            "grid_template_rows": null,
            "right": null,
            "justify_content": null,
            "_view_module": "@jupyter-widgets/base",
            "overflow": null,
            "_model_module_version": "1.2.0",
            "_view_count": null,
            "flex_flow": null,
            "width": null,
            "min_width": null,
            "border": null,
            "align_items": null,
            "bottom": null,
            "_model_module": "@jupyter-widgets/base",
            "top": null,
            "grid_column": null,
            "overflow_y": null,
            "overflow_x": null,
            "grid_auto_flow": null,
            "grid_area": null,
            "grid_template_columns": null,
            "flex": null,
            "_model_name": "LayoutModel",
            "justify_items": null,
            "grid_row": null,
            "max_height": null,
            "align_content": null,
            "visibility": null,
            "align_self": null,
            "height": null,
            "min_height": null,
            "padding": null,
            "grid_auto_rows": null,
            "grid_gap": null,
            "max_width": null,
            "order": null,
            "_view_module_version": "1.2.0",
            "grid_template_areas": null,
            "object_position": null,
            "object_fit": null,
            "grid_auto_columns": null,
            "margin": null,
            "display": null,
            "left": null
          }
        },
        "22171e0e724642ca8224394d6cb11089": {
          "model_module": "@jupyter-widgets/controls",
          "model_name": "DescriptionStyleModel",
          "state": {
            "_view_name": "StyleView",
            "_model_name": "DescriptionStyleModel",
            "description_width": "",
            "_view_module": "@jupyter-widgets/base",
            "_model_module_version": "1.5.0",
            "_view_count": null,
            "_view_module_version": "1.2.0",
            "_model_module": "@jupyter-widgets/controls"
          }
        },
        "acfa86e98d66417f904a16e533b1bfe6": {
          "model_module": "@jupyter-widgets/base",
          "model_name": "LayoutModel",
          "state": {
            "_view_name": "LayoutView",
            "grid_template_rows": null,
            "right": null,
            "justify_content": null,
            "_view_module": "@jupyter-widgets/base",
            "overflow": null,
            "_model_module_version": "1.2.0",
            "_view_count": null,
            "flex_flow": null,
            "width": null,
            "min_width": null,
            "border": null,
            "align_items": null,
            "bottom": null,
            "_model_module": "@jupyter-widgets/base",
            "top": null,
            "grid_column": null,
            "overflow_y": null,
            "overflow_x": null,
            "grid_auto_flow": null,
            "grid_area": null,
            "grid_template_columns": null,
            "flex": null,
            "_model_name": "LayoutModel",
            "justify_items": null,
            "grid_row": null,
            "max_height": null,
            "align_content": null,
            "visibility": null,
            "align_self": null,
            "height": null,
            "min_height": null,
            "padding": null,
            "grid_auto_rows": null,
            "grid_gap": null,
            "max_width": null,
            "order": null,
            "_view_module_version": "1.2.0",
            "grid_template_areas": null,
            "object_position": null,
            "object_fit": null,
            "grid_auto_columns": null,
            "margin": null,
            "display": null,
            "left": null
          }
        },
        "d3ae3be8258648bab01d30bd50f76e91": {
          "model_module": "@jupyter-widgets/controls",
          "model_name": "HBoxModel",
          "state": {
            "_view_name": "HBoxView",
            "_dom_classes": [],
            "_model_name": "HBoxModel",
            "_view_module": "@jupyter-widgets/controls",
            "_model_module_version": "1.5.0",
            "_view_count": null,
            "_view_module_version": "1.5.0",
            "box_style": "",
            "layout": "IPY_MODEL_70fef5543293446593cf36956e3cd521",
            "_model_module": "@jupyter-widgets/controls",
            "children": [
              "IPY_MODEL_e632e9401ca64cb386aaa27268340c1c",
              "IPY_MODEL_91d0f8ddd1c840d182b6f5aabe477b01"
            ]
          }
        },
        "70fef5543293446593cf36956e3cd521": {
          "model_module": "@jupyter-widgets/base",
          "model_name": "LayoutModel",
          "state": {
            "_view_name": "LayoutView",
            "grid_template_rows": null,
            "right": null,
            "justify_content": null,
            "_view_module": "@jupyter-widgets/base",
            "overflow": null,
            "_model_module_version": "1.2.0",
            "_view_count": null,
            "flex_flow": null,
            "width": null,
            "min_width": null,
            "border": null,
            "align_items": null,
            "bottom": null,
            "_model_module": "@jupyter-widgets/base",
            "top": null,
            "grid_column": null,
            "overflow_y": null,
            "overflow_x": null,
            "grid_auto_flow": null,
            "grid_area": null,
            "grid_template_columns": null,
            "flex": null,
            "_model_name": "LayoutModel",
            "justify_items": null,
            "grid_row": null,
            "max_height": null,
            "align_content": null,
            "visibility": null,
            "align_self": null,
            "height": null,
            "min_height": null,
            "padding": null,
            "grid_auto_rows": null,
            "grid_gap": null,
            "max_width": null,
            "order": null,
            "_view_module_version": "1.2.0",
            "grid_template_areas": null,
            "object_position": null,
            "object_fit": null,
            "grid_auto_columns": null,
            "margin": null,
            "display": null,
            "left": null
          }
        },
        "e632e9401ca64cb386aaa27268340c1c": {
          "model_module": "@jupyter-widgets/controls",
          "model_name": "FloatProgressModel",
          "state": {
            "_view_name": "ProgressView",
            "style": "IPY_MODEL_7c4176a902f34e449a83934467f6085a",
            "_dom_classes": [],
            "description": "",
            "_model_name": "FloatProgressModel",
            "bar_style": "success",
            "max": 1648877,
            "_view_module": "@jupyter-widgets/controls",
            "_model_module_version": "1.5.0",
            "value": 1648877,
            "_view_count": null,
            "_view_module_version": "1.5.0",
            "orientation": "horizontal",
            "min": 0,
            "description_tooltip": null,
            "_model_module": "@jupyter-widgets/controls",
            "layout": "IPY_MODEL_a726a4dac62946be9eb4d4d644712f4d"
          }
        },
        "91d0f8ddd1c840d182b6f5aabe477b01": {
          "model_module": "@jupyter-widgets/controls",
          "model_name": "HTMLModel",
          "state": {
            "_view_name": "HTMLView",
            "style": "IPY_MODEL_aa91f53551de404fa384a935222cdbb8",
            "_dom_classes": [],
            "description": "",
            "_model_name": "HTMLModel",
            "placeholder": "​",
            "_view_module": "@jupyter-widgets/controls",
            "_model_module_version": "1.5.0",
            "value": " 1649664/? [00:00&lt;00:00, 1906574.73it/s]",
            "_view_count": null,
            "_view_module_version": "1.5.0",
            "description_tooltip": null,
            "_model_module": "@jupyter-widgets/controls",
            "layout": "IPY_MODEL_3c3593e70a0f4937b3a95ba7c092a5d2"
          }
        },
        "7c4176a902f34e449a83934467f6085a": {
          "model_module": "@jupyter-widgets/controls",
          "model_name": "ProgressStyleModel",
          "state": {
            "_view_name": "StyleView",
            "_model_name": "ProgressStyleModel",
            "description_width": "initial",
            "_view_module": "@jupyter-widgets/base",
            "_model_module_version": "1.5.0",
            "_view_count": null,
            "_view_module_version": "1.2.0",
            "bar_color": null,
            "_model_module": "@jupyter-widgets/controls"
          }
        },
        "a726a4dac62946be9eb4d4d644712f4d": {
          "model_module": "@jupyter-widgets/base",
          "model_name": "LayoutModel",
          "state": {
            "_view_name": "LayoutView",
            "grid_template_rows": null,
            "right": null,
            "justify_content": null,
            "_view_module": "@jupyter-widgets/base",
            "overflow": null,
            "_model_module_version": "1.2.0",
            "_view_count": null,
            "flex_flow": null,
            "width": null,
            "min_width": null,
            "border": null,
            "align_items": null,
            "bottom": null,
            "_model_module": "@jupyter-widgets/base",
            "top": null,
            "grid_column": null,
            "overflow_y": null,
            "overflow_x": null,
            "grid_auto_flow": null,
            "grid_area": null,
            "grid_template_columns": null,
            "flex": null,
            "_model_name": "LayoutModel",
            "justify_items": null,
            "grid_row": null,
            "max_height": null,
            "align_content": null,
            "visibility": null,
            "align_self": null,
            "height": null,
            "min_height": null,
            "padding": null,
            "grid_auto_rows": null,
            "grid_gap": null,
            "max_width": null,
            "order": null,
            "_view_module_version": "1.2.0",
            "grid_template_areas": null,
            "object_position": null,
            "object_fit": null,
            "grid_auto_columns": null,
            "margin": null,
            "display": null,
            "left": null
          }
        },
        "aa91f53551de404fa384a935222cdbb8": {
          "model_module": "@jupyter-widgets/controls",
          "model_name": "DescriptionStyleModel",
          "state": {
            "_view_name": "StyleView",
            "_model_name": "DescriptionStyleModel",
            "description_width": "",
            "_view_module": "@jupyter-widgets/base",
            "_model_module_version": "1.5.0",
            "_view_count": null,
            "_view_module_version": "1.2.0",
            "_model_module": "@jupyter-widgets/controls"
          }
        },
        "3c3593e70a0f4937b3a95ba7c092a5d2": {
          "model_module": "@jupyter-widgets/base",
          "model_name": "LayoutModel",
          "state": {
            "_view_name": "LayoutView",
            "grid_template_rows": null,
            "right": null,
            "justify_content": null,
            "_view_module": "@jupyter-widgets/base",
            "overflow": null,
            "_model_module_version": "1.2.0",
            "_view_count": null,
            "flex_flow": null,
            "width": null,
            "min_width": null,
            "border": null,
            "align_items": null,
            "bottom": null,
            "_model_module": "@jupyter-widgets/base",
            "top": null,
            "grid_column": null,
            "overflow_y": null,
            "overflow_x": null,
            "grid_auto_flow": null,
            "grid_area": null,
            "grid_template_columns": null,
            "flex": null,
            "_model_name": "LayoutModel",
            "justify_items": null,
            "grid_row": null,
            "max_height": null,
            "align_content": null,
            "visibility": null,
            "align_self": null,
            "height": null,
            "min_height": null,
            "padding": null,
            "grid_auto_rows": null,
            "grid_gap": null,
            "max_width": null,
            "order": null,
            "_view_module_version": "1.2.0",
            "grid_template_areas": null,
            "object_position": null,
            "object_fit": null,
            "grid_auto_columns": null,
            "margin": null,
            "display": null,
            "left": null
          }
        },
        "eaed226e2ebe480192aebcd85e851b12": {
          "model_module": "@jupyter-widgets/controls",
          "model_name": "HBoxModel",
          "state": {
            "_view_name": "HBoxView",
            "_dom_classes": [],
            "_model_name": "HBoxModel",
            "_view_module": "@jupyter-widgets/controls",
            "_model_module_version": "1.5.0",
            "_view_count": null,
            "_view_module_version": "1.5.0",
            "box_style": "",
            "layout": "IPY_MODEL_8d6e3086070a47d9819325429123f595",
            "_model_module": "@jupyter-widgets/controls",
            "children": [
              "IPY_MODEL_d9f2984d7af84e6ea86a26fd2b888709",
              "IPY_MODEL_610bff803f144153a39edebec64eb4e3"
            ]
          }
        },
        "8d6e3086070a47d9819325429123f595": {
          "model_module": "@jupyter-widgets/base",
          "model_name": "LayoutModel",
          "state": {
            "_view_name": "LayoutView",
            "grid_template_rows": null,
            "right": null,
            "justify_content": null,
            "_view_module": "@jupyter-widgets/base",
            "overflow": null,
            "_model_module_version": "1.2.0",
            "_view_count": null,
            "flex_flow": null,
            "width": null,
            "min_width": null,
            "border": null,
            "align_items": null,
            "bottom": null,
            "_model_module": "@jupyter-widgets/base",
            "top": null,
            "grid_column": null,
            "overflow_y": null,
            "overflow_x": null,
            "grid_auto_flow": null,
            "grid_area": null,
            "grid_template_columns": null,
            "flex": null,
            "_model_name": "LayoutModel",
            "justify_items": null,
            "grid_row": null,
            "max_height": null,
            "align_content": null,
            "visibility": null,
            "align_self": null,
            "height": null,
            "min_height": null,
            "padding": null,
            "grid_auto_rows": null,
            "grid_gap": null,
            "max_width": null,
            "order": null,
            "_view_module_version": "1.2.0",
            "grid_template_areas": null,
            "object_position": null,
            "object_fit": null,
            "grid_auto_columns": null,
            "margin": null,
            "display": null,
            "left": null
          }
        },
        "d9f2984d7af84e6ea86a26fd2b888709": {
          "model_module": "@jupyter-widgets/controls",
          "model_name": "FloatProgressModel",
          "state": {
            "_view_name": "ProgressView",
            "style": "IPY_MODEL_097c96a6395a409a9d6359d3204e920b",
            "_dom_classes": [],
            "description": "",
            "_model_name": "FloatProgressModel",
            "bar_style": "success",
            "max": 4542,
            "_view_module": "@jupyter-widgets/controls",
            "_model_module_version": "1.5.0",
            "value": 4542,
            "_view_count": null,
            "_view_module_version": "1.5.0",
            "orientation": "horizontal",
            "min": 0,
            "description_tooltip": null,
            "_model_module": "@jupyter-widgets/controls",
            "layout": "IPY_MODEL_52a0ff02809646a4bbe68768c04b96ad"
          }
        },
        "610bff803f144153a39edebec64eb4e3": {
          "model_module": "@jupyter-widgets/controls",
          "model_name": "HTMLModel",
          "state": {
            "_view_name": "HTMLView",
            "style": "IPY_MODEL_0bd461e3af4e497685ede3e6f9689023",
            "_dom_classes": [],
            "description": "",
            "_model_name": "HTMLModel",
            "placeholder": "​",
            "_view_module": "@jupyter-widgets/controls",
            "_model_module_version": "1.5.0",
            "value": " 5120/? [00:00&lt;00:00, 26106.40it/s]",
            "_view_count": null,
            "_view_module_version": "1.5.0",
            "description_tooltip": null,
            "_model_module": "@jupyter-widgets/controls",
            "layout": "IPY_MODEL_7e3a21349fd34618ab913f661fd1fe5a"
          }
        },
        "097c96a6395a409a9d6359d3204e920b": {
          "model_module": "@jupyter-widgets/controls",
          "model_name": "ProgressStyleModel",
          "state": {
            "_view_name": "StyleView",
            "_model_name": "ProgressStyleModel",
            "description_width": "initial",
            "_view_module": "@jupyter-widgets/base",
            "_model_module_version": "1.5.0",
            "_view_count": null,
            "_view_module_version": "1.2.0",
            "bar_color": null,
            "_model_module": "@jupyter-widgets/controls"
          }
        },
        "52a0ff02809646a4bbe68768c04b96ad": {
          "model_module": "@jupyter-widgets/base",
          "model_name": "LayoutModel",
          "state": {
            "_view_name": "LayoutView",
            "grid_template_rows": null,
            "right": null,
            "justify_content": null,
            "_view_module": "@jupyter-widgets/base",
            "overflow": null,
            "_model_module_version": "1.2.0",
            "_view_count": null,
            "flex_flow": null,
            "width": null,
            "min_width": null,
            "border": null,
            "align_items": null,
            "bottom": null,
            "_model_module": "@jupyter-widgets/base",
            "top": null,
            "grid_column": null,
            "overflow_y": null,
            "overflow_x": null,
            "grid_auto_flow": null,
            "grid_area": null,
            "grid_template_columns": null,
            "flex": null,
            "_model_name": "LayoutModel",
            "justify_items": null,
            "grid_row": null,
            "max_height": null,
            "align_content": null,
            "visibility": null,
            "align_self": null,
            "height": null,
            "min_height": null,
            "padding": null,
            "grid_auto_rows": null,
            "grid_gap": null,
            "max_width": null,
            "order": null,
            "_view_module_version": "1.2.0",
            "grid_template_areas": null,
            "object_position": null,
            "object_fit": null,
            "grid_auto_columns": null,
            "margin": null,
            "display": null,
            "left": null
          }
        },
        "0bd461e3af4e497685ede3e6f9689023": {
          "model_module": "@jupyter-widgets/controls",
          "model_name": "DescriptionStyleModel",
          "state": {
            "_view_name": "StyleView",
            "_model_name": "DescriptionStyleModel",
            "description_width": "",
            "_view_module": "@jupyter-widgets/base",
            "_model_module_version": "1.5.0",
            "_view_count": null,
            "_view_module_version": "1.2.0",
            "_model_module": "@jupyter-widgets/controls"
          }
        },
        "7e3a21349fd34618ab913f661fd1fe5a": {
          "model_module": "@jupyter-widgets/base",
          "model_name": "LayoutModel",
          "state": {
            "_view_name": "LayoutView",
            "grid_template_rows": null,
            "right": null,
            "justify_content": null,
            "_view_module": "@jupyter-widgets/base",
            "overflow": null,
            "_model_module_version": "1.2.0",
            "_view_count": null,
            "flex_flow": null,
            "width": null,
            "min_width": null,
            "border": null,
            "align_items": null,
            "bottom": null,
            "_model_module": "@jupyter-widgets/base",
            "top": null,
            "grid_column": null,
            "overflow_y": null,
            "overflow_x": null,
            "grid_auto_flow": null,
            "grid_area": null,
            "grid_template_columns": null,
            "flex": null,
            "_model_name": "LayoutModel",
            "justify_items": null,
            "grid_row": null,
            "max_height": null,
            "align_content": null,
            "visibility": null,
            "align_self": null,
            "height": null,
            "min_height": null,
            "padding": null,
            "grid_auto_rows": null,
            "grid_gap": null,
            "max_width": null,
            "order": null,
            "_view_module_version": "1.2.0",
            "grid_template_areas": null,
            "object_position": null,
            "object_fit": null,
            "grid_auto_columns": null,
            "margin": null,
            "display": null,
            "left": null
          }
        }
      }
    }
  },
  "cells": [
    {
      "cell_type": "markdown",
      "metadata": {
        "id": "view-in-github",
        "colab_type": "text"
      },
      "source": [
        "<a href=\"https://colab.research.google.com/github/tushar-semwal/fedperf/blob/main/Vineeth/Local_Rounds/FederatedAveraging.ipynb\" target=\"_parent\"><img src=\"https://colab.research.google.com/assets/colab-badge.svg\" alt=\"Open In Colab\"/></a>"
      ]
    },
    {
      "cell_type": "markdown",
      "metadata": {
        "id": "0EN78206m8i2"
      },
      "source": [
        "## Imports"
      ]
    },
    {
      "cell_type": "code",
      "metadata": {
        "id": "DLLNM9X2JbQ8",
        "colab": {
          "base_uri": "https://localhost:8080/"
        },
        "outputId": "497f0d66-2318-4156-a3f8-6ba573bf486a"
      },
      "source": [
        "%load_ext tensorboard\n",
        "import os\n",
        "import numpy as np\n",
        "import matplotlib\n",
        "import matplotlib.pyplot as plt\n",
        "import copy\n",
        "import random\n",
        "import time\n",
        "\n",
        "import torch\n",
        "import torch.nn as nn\n",
        "import torch.nn.functional as F\n",
        "\n",
        "from torch.utils.data import Dataset, DataLoader\n",
        "from torch.utils.tensorboard import SummaryWriter\n",
        "from torchvision import transforms, utils, datasets\n",
        "from torchsummary import summary\n",
        "\n",
        "\n",
        "# Check assigned GPU\n",
        "gpu_info = !nvidia-smi\n",
        "gpu_info = '\\n'.join(gpu_info)\n",
        "if gpu_info.find('failed') >= 0:\n",
        "  print('Select the Runtime > \"Change runtime type\" menu to enable a GPU accelerator, ')\n",
        "  print('and then re-execute this cell.')\n",
        "else:\n",
        "  print(gpu_info)\n",
        "\n",
        "# set manual seed for reproducibility\n",
        "seed = 42\n",
        "\n",
        "# general reproducibility\n",
        "random.seed(seed)\n",
        "np.random.seed(seed)\n",
        "torch.manual_seed(seed)\n",
        "\n",
        "# gpu training specific\n",
        "torch.backends.cudnn.deterministic = True\n",
        "torch.backends.cudnn.benchmark = False"
      ],
      "execution_count": null,
      "outputs": [
        {
          "output_type": "stream",
          "text": [
            "Fri Apr  2 14:26:32 2021       \n",
            "+-----------------------------------------------------------------------------+\n",
            "| NVIDIA-SMI 460.67       Driver Version: 460.32.03    CUDA Version: 11.2     |\n",
            "|-------------------------------+----------------------+----------------------+\n",
            "| GPU  Name        Persistence-M| Bus-Id        Disp.A | Volatile Uncorr. ECC |\n",
            "| Fan  Temp  Perf  Pwr:Usage/Cap|         Memory-Usage | GPU-Util  Compute M. |\n",
            "|                               |                      |               MIG M. |\n",
            "|===============================+======================+======================|\n",
            "|   0  Tesla P100-PCIE...  Off  | 00000000:00:04.0 Off |                    0 |\n",
            "| N/A   35C    P0    26W / 250W |      0MiB / 16280MiB |      0%      Default |\n",
            "|                               |                      |                  N/A |\n",
            "+-------------------------------+----------------------+----------------------+\n",
            "                                                                               \n",
            "+-----------------------------------------------------------------------------+\n",
            "| Processes:                                                                  |\n",
            "|  GPU   GI   CI        PID   Type   Process name                  GPU Memory |\n",
            "|        ID   ID                                                   Usage      |\n",
            "|=============================================================================|\n",
            "|  No running processes found                                                 |\n",
            "+-----------------------------------------------------------------------------+\n"
          ],
          "name": "stdout"
        }
      ]
    },
    {
      "cell_type": "markdown",
      "metadata": {
        "id": "NY4eWzGiL6Mj"
      },
      "source": [
        "## Load the MNIST Dataset"
      ]
    },
    {
      "cell_type": "code",
      "metadata": {
        "id": "G649tjTXLL8F",
        "colab": {
          "base_uri": "https://localhost:8080/",
          "height": 1000,
          "referenced_widgets": [
            "91c620b69fdc434f959055f3a0082e70",
            "bd9bac528a8b471b93c3396b53235646",
            "41e1351ba94540c1b69e32e0ed27a6db",
            "ade8ad7d32af45339725f4c8feb55cd6",
            "4673823c15834727a13a76cc46e9013d",
            "3047f549efec475097b9935d08bdf4fb",
            "b11f59d85d2e41bba3dd9f9cfa26e5a5",
            "7d7b72d5a81a4f99b3ff07860d4420fc",
            "73dd215edc6b4438919e818638212b07",
            "9cdffc9bcaaa4a649daf612b0bb00ed1",
            "63cf84b2412e4d01a3f08abcd11caa9d",
            "dec243c3bee04565b8eae530d5079a69",
            "976c74885a6146dc81499213a357e440",
            "ae45cb4d0360442594286e2f83681b8d",
            "7020a483339b4129821f33dbd5ab4412",
            "46ba03164a2c4b609538232136aeb1ed",
            "d983383a63c54bc6b199862be1f5778b",
            "78ff6fdfeefa4799a190ef50038fa4fb",
            "be6e0b62a86b4c2e91fabb9123a4c868",
            "771eb1b6c7194c0d85a8b12de60cff02",
            "2360123616b44f269d3414c767757bc7",
            "b93fedac9ff94660b53dc6e983b8974e",
            "02e5ce3367e6498188d959c4cab369f6",
            "e68ccef1fd72483785894a1d482c31d5",
            "79062cda42224e29808dce6fceef083d",
            "9bb701bf6f634869810f6567104c3e54",
            "b14a2a88399c44c3b5bbc3b98afa0cdc",
            "df984c0f2e5c4a8092a32105d72d5b92",
            "91cf0e690ae34610a915a17f467998db",
            "9b05c0d7bce74f2182f6b036f0288c16",
            "06ff5c413a9e4601ac30fdbaa756cbe6",
            "c6b7c8c5b8784fc7befa7da764c9d205",
            "494c1eab16a644d3a72d5a15ad34f8eb",
            "deb3ab827c2b46e7b6441e77128904ff",
            "ab76a6d93add415b93d5c0fb0aac7e1e",
            "cd1aa4d410ea4193933d1d2d459b12b9",
            "46151d7ea65c43f08064bef2918ce989",
            "f966f7cf65684036a29654e36c3180bd",
            "8c39621682dd44a68dd2163daead96d5",
            "77571f800b264e128e8daab9065844f7",
            "821ca0673c1e471085ebaf962e472150",
            "d337a6c951b84205a12705693d218767",
            "4d2e1b4fe36440f7b7c7105a68c09cc5",
            "b2263833adbe468c97cfc8ab9a1f6a5a",
            "0e1a14fa6dfe4e3295824bbc88f70700",
            "a42317f4bca945218db4db034da3fef4",
            "22171e0e724642ca8224394d6cb11089",
            "acfa86e98d66417f904a16e533b1bfe6",
            "d3ae3be8258648bab01d30bd50f76e91",
            "70fef5543293446593cf36956e3cd521",
            "e632e9401ca64cb386aaa27268340c1c",
            "91d0f8ddd1c840d182b6f5aabe477b01",
            "7c4176a902f34e449a83934467f6085a",
            "a726a4dac62946be9eb4d4d644712f4d",
            "aa91f53551de404fa384a935222cdbb8",
            "3c3593e70a0f4937b3a95ba7c092a5d2",
            "eaed226e2ebe480192aebcd85e851b12",
            "8d6e3086070a47d9819325429123f595",
            "d9f2984d7af84e6ea86a26fd2b888709",
            "610bff803f144153a39edebec64eb4e3",
            "097c96a6395a409a9d6359d3204e920b",
            "52a0ff02809646a4bbe68768c04b96ad",
            "0bd461e3af4e497685ede3e6f9689023",
            "7e3a21349fd34618ab913f661fd1fe5a"
          ]
        },
        "outputId": "aae4f028-3eff-4408-fd4d-445b65ced392"
      },
      "source": [
        "# create transforms\n",
        "# We will just convert to tensor and normalize since no special transforms are mentioned in the paper\n",
        "transforms_mnist = transforms.Compose([\n",
        "                                       transforms.ToTensor(),\n",
        "                                       transforms.Normalize((0.1307,), (0.3081,))\n",
        "                                       ])\n",
        "\n",
        "mnist_data_train = datasets.MNIST('./data/mnist/', train=True, download=True, transform=transforms_mnist)\n",
        "mnist_data_test = datasets.MNIST('../data/mnist/', train=False, download=True, transform=transforms_mnist)"
      ],
      "execution_count": null,
      "outputs": [
        {
          "output_type": "stream",
          "text": [
            "Downloading http://yann.lecun.com/exdb/mnist/train-images-idx3-ubyte.gz\n",
            "Downloading http://yann.lecun.com/exdb/mnist/train-images-idx3-ubyte.gz to ./data/mnist/MNIST/raw/train-images-idx3-ubyte.gz\n",
            "Failed to download (trying next):\n",
            "HTTP Error 503: Service Unavailable\n",
            "\n",
            "Downloading https://ossci-datasets.s3.amazonaws.com/mnist/train-images-idx3-ubyte.gz\n",
            "Downloading https://ossci-datasets.s3.amazonaws.com/mnist/train-images-idx3-ubyte.gz to ./data/mnist/MNIST/raw/train-images-idx3-ubyte.gz\n"
          ],
          "name": "stdout"
        },
        {
          "output_type": "display_data",
          "data": {
            "application/vnd.jupyter.widget-view+json": {
              "model_id": "91c620b69fdc434f959055f3a0082e70",
              "version_minor": 0,
              "version_major": 2
            },
            "text/plain": [
              "HBox(children=(FloatProgress(value=0.0, max=9912422.0), HTML(value='')))"
            ]
          },
          "metadata": {
            "tags": []
          }
        },
        {
          "output_type": "stream",
          "text": [
            "\n",
            "Extracting ./data/mnist/MNIST/raw/train-images-idx3-ubyte.gz to ./data/mnist/MNIST/raw\n",
            "\n",
            "Downloading http://yann.lecun.com/exdb/mnist/train-labels-idx1-ubyte.gz\n",
            "Downloading http://yann.lecun.com/exdb/mnist/train-labels-idx1-ubyte.gz to ./data/mnist/MNIST/raw/train-labels-idx1-ubyte.gz\n"
          ],
          "name": "stdout"
        },
        {
          "output_type": "display_data",
          "data": {
            "application/vnd.jupyter.widget-view+json": {
              "model_id": "73dd215edc6b4438919e818638212b07",
              "version_minor": 0,
              "version_major": 2
            },
            "text/plain": [
              "HBox(children=(FloatProgress(value=0.0, max=28881.0), HTML(value='')))"
            ]
          },
          "metadata": {
            "tags": []
          }
        },
        {
          "output_type": "stream",
          "text": [
            "\n",
            "Extracting ./data/mnist/MNIST/raw/train-labels-idx1-ubyte.gz to ./data/mnist/MNIST/raw\n",
            "\n",
            "Downloading http://yann.lecun.com/exdb/mnist/t10k-images-idx3-ubyte.gz\n",
            "Downloading http://yann.lecun.com/exdb/mnist/t10k-images-idx3-ubyte.gz to ./data/mnist/MNIST/raw/t10k-images-idx3-ubyte.gz\n",
            "Failed to download (trying next):\n",
            "HTTP Error 503: Service Unavailable\n",
            "\n",
            "Downloading https://ossci-datasets.s3.amazonaws.com/mnist/t10k-images-idx3-ubyte.gz\n",
            "Downloading https://ossci-datasets.s3.amazonaws.com/mnist/t10k-images-idx3-ubyte.gz to ./data/mnist/MNIST/raw/t10k-images-idx3-ubyte.gz\n"
          ],
          "name": "stdout"
        },
        {
          "output_type": "display_data",
          "data": {
            "application/vnd.jupyter.widget-view+json": {
              "model_id": "d983383a63c54bc6b199862be1f5778b",
              "version_minor": 0,
              "version_major": 2
            },
            "text/plain": [
              "HBox(children=(FloatProgress(value=0.0, max=1648877.0), HTML(value='')))"
            ]
          },
          "metadata": {
            "tags": []
          }
        },
        {
          "output_type": "stream",
          "text": [
            "\n",
            "Extracting ./data/mnist/MNIST/raw/t10k-images-idx3-ubyte.gz to ./data/mnist/MNIST/raw\n",
            "\n",
            "Downloading http://yann.lecun.com/exdb/mnist/t10k-labels-idx1-ubyte.gz\n",
            "Downloading http://yann.lecun.com/exdb/mnist/t10k-labels-idx1-ubyte.gz to ./data/mnist/MNIST/raw/t10k-labels-idx1-ubyte.gz\n"
          ],
          "name": "stdout"
        },
        {
          "output_type": "display_data",
          "data": {
            "application/vnd.jupyter.widget-view+json": {
              "model_id": "79062cda42224e29808dce6fceef083d",
              "version_minor": 0,
              "version_major": 2
            },
            "text/plain": [
              "HBox(children=(FloatProgress(value=0.0, max=4542.0), HTML(value='')))"
            ]
          },
          "metadata": {
            "tags": []
          }
        },
        {
          "output_type": "stream",
          "text": [
            "\n",
            "Extracting ./data/mnist/MNIST/raw/t10k-labels-idx1-ubyte.gz to ./data/mnist/MNIST/raw\n",
            "\n",
            "Processing...\n",
            "Done!\n",
            "Downloading http://yann.lecun.com/exdb/mnist/train-images-idx3-ubyte.gz\n"
          ],
          "name": "stdout"
        },
        {
          "output_type": "stream",
          "text": [
            "/usr/local/lib/python3.7/dist-packages/torchvision/datasets/mnist.py:502: UserWarning: The given NumPy array is not writeable, and PyTorch does not support non-writeable tensors. This means you can write to the underlying (supposedly non-writeable) NumPy array using the tensor. You may want to copy the array to protect its data or make it writeable before converting it to a tensor. This type of warning will be suppressed for the rest of this program. (Triggered internally at  /pytorch/torch/csrc/utils/tensor_numpy.cpp:143.)\n",
            "  return torch.from_numpy(parsed.astype(m[2], copy=False)).view(*s)\n"
          ],
          "name": "stderr"
        },
        {
          "output_type": "stream",
          "text": [
            "Downloading http://yann.lecun.com/exdb/mnist/train-images-idx3-ubyte.gz to ../data/mnist/MNIST/raw/train-images-idx3-ubyte.gz\n",
            "Failed to download (trying next):\n",
            "HTTP Error 503: Service Unavailable\n",
            "\n",
            "Downloading https://ossci-datasets.s3.amazonaws.com/mnist/train-images-idx3-ubyte.gz\n",
            "Downloading https://ossci-datasets.s3.amazonaws.com/mnist/train-images-idx3-ubyte.gz to ../data/mnist/MNIST/raw/train-images-idx3-ubyte.gz\n"
          ],
          "name": "stdout"
        },
        {
          "output_type": "display_data",
          "data": {
            "application/vnd.jupyter.widget-view+json": {
              "model_id": "494c1eab16a644d3a72d5a15ad34f8eb",
              "version_minor": 0,
              "version_major": 2
            },
            "text/plain": [
              "HBox(children=(FloatProgress(value=0.0, max=9912422.0), HTML(value='')))"
            ]
          },
          "metadata": {
            "tags": []
          }
        },
        {
          "output_type": "stream",
          "text": [
            "\n",
            "Extracting ../data/mnist/MNIST/raw/train-images-idx3-ubyte.gz to ../data/mnist/MNIST/raw\n",
            "\n",
            "Downloading http://yann.lecun.com/exdb/mnist/train-labels-idx1-ubyte.gz\n",
            "Downloading http://yann.lecun.com/exdb/mnist/train-labels-idx1-ubyte.gz to ../data/mnist/MNIST/raw/train-labels-idx1-ubyte.gz\n"
          ],
          "name": "stdout"
        },
        {
          "output_type": "display_data",
          "data": {
            "application/vnd.jupyter.widget-view+json": {
              "model_id": "821ca0673c1e471085ebaf962e472150",
              "version_minor": 0,
              "version_major": 2
            },
            "text/plain": [
              "HBox(children=(FloatProgress(value=0.0, max=28881.0), HTML(value='')))"
            ]
          },
          "metadata": {
            "tags": []
          }
        },
        {
          "output_type": "stream",
          "text": [
            "\n",
            "Extracting ../data/mnist/MNIST/raw/train-labels-idx1-ubyte.gz to ../data/mnist/MNIST/raw\n",
            "\n",
            "Downloading http://yann.lecun.com/exdb/mnist/t10k-images-idx3-ubyte.gz\n",
            "Downloading http://yann.lecun.com/exdb/mnist/t10k-images-idx3-ubyte.gz to ../data/mnist/MNIST/raw/t10k-images-idx3-ubyte.gz\n",
            "Failed to download (trying next):\n",
            "HTTP Error 503: Service Unavailable\n",
            "\n",
            "Downloading https://ossci-datasets.s3.amazonaws.com/mnist/t10k-images-idx3-ubyte.gz\n",
            "Downloading https://ossci-datasets.s3.amazonaws.com/mnist/t10k-images-idx3-ubyte.gz to ../data/mnist/MNIST/raw/t10k-images-idx3-ubyte.gz\n"
          ],
          "name": "stdout"
        },
        {
          "output_type": "display_data",
          "data": {
            "application/vnd.jupyter.widget-view+json": {
              "model_id": "d3ae3be8258648bab01d30bd50f76e91",
              "version_minor": 0,
              "version_major": 2
            },
            "text/plain": [
              "HBox(children=(FloatProgress(value=0.0, max=1648877.0), HTML(value='')))"
            ]
          },
          "metadata": {
            "tags": []
          }
        },
        {
          "output_type": "stream",
          "text": [
            "\n",
            "Extracting ../data/mnist/MNIST/raw/t10k-images-idx3-ubyte.gz to ../data/mnist/MNIST/raw\n",
            "\n",
            "Downloading http://yann.lecun.com/exdb/mnist/t10k-labels-idx1-ubyte.gz\n",
            "Downloading http://yann.lecun.com/exdb/mnist/t10k-labels-idx1-ubyte.gz to ../data/mnist/MNIST/raw/t10k-labels-idx1-ubyte.gz\n"
          ],
          "name": "stdout"
        },
        {
          "output_type": "display_data",
          "data": {
            "application/vnd.jupyter.widget-view+json": {
              "model_id": "eaed226e2ebe480192aebcd85e851b12",
              "version_minor": 0,
              "version_major": 2
            },
            "text/plain": [
              "HBox(children=(FloatProgress(value=0.0, max=4542.0), HTML(value='')))"
            ]
          },
          "metadata": {
            "tags": []
          }
        },
        {
          "output_type": "stream",
          "text": [
            "\n",
            "Extracting ../data/mnist/MNIST/raw/t10k-labels-idx1-ubyte.gz to ../data/mnist/MNIST/raw\n",
            "\n",
            "Processing...\n",
            "Done!\n"
          ],
          "name": "stdout"
        }
      ]
    },
    {
      "cell_type": "code",
      "metadata": {
        "id": "dm9usjn2vFkL",
        "colab": {
          "base_uri": "https://localhost:8080/"
        },
        "outputId": "248c0f2e-0584-4ad6-affd-a4cb65f7f03a"
      },
      "source": [
        "classes = np.array(list(mnist_data_train.class_to_idx.values()))\n",
        "classes_test = np.array(list(mnist_data_test.class_to_idx.values()))\n",
        "num_classes = len(classes_test)\n",
        "print(\"Classes: {} \\tType: {}\".format(classes, type(classes)))\n",
        "print(\"Classes Test: {} \\tType: {}\".format(classes_test, type(classes)))\n"
      ],
      "execution_count": null,
      "outputs": [
        {
          "output_type": "stream",
          "text": [
            "Classes: [0 1 2 3 4 5 6 7 8 9] \tType: <class 'numpy.ndarray'>\n",
            "Classes Test: [0 1 2 3 4 5 6 7 8 9] \tType: <class 'numpy.ndarray'>\n"
          ],
          "name": "stdout"
        }
      ]
    },
    {
      "cell_type": "code",
      "metadata": {
        "id": "9lvJt3Ofv2SO",
        "colab": {
          "base_uri": "https://localhost:8080/"
        },
        "outputId": "6ead711f-41aa-48c4-9126-da97e250d141"
      },
      "source": [
        "print(\"Image Shape: {}\".format(mnist_data_train.data[0].size()))"
      ],
      "execution_count": null,
      "outputs": [
        {
          "output_type": "stream",
          "text": [
            "Image Shape: torch.Size([28, 28])\n"
          ],
          "name": "stdout"
        }
      ]
    },
    {
      "cell_type": "markdown",
      "metadata": {
        "id": "jCOONkg-zV7Y"
      },
      "source": [
        "## Visualize Data"
      ]
    },
    {
      "cell_type": "code",
      "metadata": {
        "id": "R9MK03TZw6Qs"
      },
      "source": [
        "def imshow(img):\n",
        "\timg = img/2 + 0.5 #unnormalize the image\n",
        "\tplt.imshow(img, cmap='gray') # convert from tensor to image"
      ],
      "execution_count": null,
      "outputs": []
    },
    {
      "cell_type": "code",
      "metadata": {
        "id": "gMJ0Kx4Kw-_H"
      },
      "source": [
        "def visualize(dataset):\n",
        "  figure = plt.figure(figsize=(25,4))\n",
        "  for i in range(20):\n",
        "    axis = figure.add_subplot(2, 20/2, i+1, xticks=[], yticks=[])\n",
        "    data = dataset.data[i]\n",
        "    data = data.numpy()\n",
        "\n",
        "    target = dataset.targets[i]\n",
        "    target = target.numpy()\n",
        "    imshow(data)\n",
        "    axis.set_title(target)\n"
      ],
      "execution_count": null,
      "outputs": []
    },
    {
      "cell_type": "code",
      "metadata": {
        "id": "8bPOwKg10Ro7",
        "colab": {
          "base_uri": "https://localhost:8080/",
          "height": 268
        },
        "outputId": "88e06ed4-b2e7-42f3-cfa8-5414ccbea265"
      },
      "source": [
        "visualize(mnist_data_train)"
      ],
      "execution_count": null,
      "outputs": [
        {
          "output_type": "display_data",
          "data": {
            "image/png": "[encoded data removed]",
            "text/plain": [
              "<Figure size 1800x288 with 20 Axes>"
            ]
          },
          "metadata": {
            "tags": []
          }
        }
      ]
    },
    {
      "cell_type": "code",
      "metadata": {
        "id": "RKoh5Cf70UYu",
        "colab": {
          "base_uri": "https://localhost:8080/",
          "height": 268
        },
        "outputId": "b9c65ad6-ab3f-4c03-996d-32734f86e091"
      },
      "source": [
        "visualize(mnist_data_test)"
      ],
      "execution_count": null,
      "outputs": [
        {
          "output_type": "display_data",
          "data": {
            "image/png": "[encoded data removed]",
            "text/plain": [
              "<Figure size 1800x288 with 20 Axes>"
            ]
          },
          "metadata": {
            "tags": []
          }
        }
      ]
    },
    {
      "cell_type": "markdown",
      "metadata": {
        "id": "ctjRsETiO1qO"
      },
      "source": [
        "## Partitioning the Data (IID and non-IID)"
      ]
    },
    {
      "cell_type": "code",
      "metadata": {
        "id": "3_v8lyrgO5dD"
      },
      "source": [
        "def iid_partition(dataset, clients):\n",
        "  \"\"\"\n",
        "  I.I.D paritioning of data over clients\n",
        "  Shuffle the data\n",
        "  Split it between clients\n",
        "  \n",
        "  params:\n",
        "    - dataset (torch.utils.Dataset): Dataset containing the MNIST Images\n",
        "    - clients (int): Number of Clients to split the data between\n",
        "\n",
        "  returns:\n",
        "    - Dictionary of image indexes for each client\n",
        "  \"\"\"\n",
        "\n",
        "  num_items_per_client = int(len(dataset)/clients)\n",
        "  client_dict = {}\n",
        "  image_idxs = [i for i in range(len(dataset))]\n",
        "\n",
        "  for i in range(clients):\n",
        "    client_dict[i] = set(np.random.choice(image_idxs, num_items_per_client, replace=False))\n",
        "    image_idxs = list(set(image_idxs) - client_dict[i])\n",
        "\n",
        "  return client_dict"
      ],
      "execution_count": null,
      "outputs": []
    },
    {
      "cell_type": "code",
      "metadata": {
        "id": "4zMdliGMQoSl"
      },
      "source": [
        "def non_iid_partition(dataset, clients, total_shards, shards_size, num_shards_per_client):\n",
        "  \"\"\"\n",
        "  non I.I.D parititioning of data over clients\n",
        "  Sort the data by the digit label\n",
        "  Divide the data into N shards of size S\n",
        "  Each of the clients will get X shards\n",
        "\n",
        "  params:\n",
        "    - dataset (torch.utils.Dataset): Dataset containing the MNIST Images\n",
        "    - clients (int): Number of Clients to split the data between\n",
        "    - total_shards (int): Number of shards to partition the data in\n",
        "    - shards_size (int): Size of each shard \n",
        "    - num_shards_per_client (int): Number of shards of size shards_size that each client receives\n",
        "\n",
        "  returns:\n",
        "    - Dictionary of image indexes for each client\n",
        "  \"\"\"\n",
        "  \n",
        "  shard_idxs = [i for i in range(total_shards)]\n",
        "  client_dict = {i: np.array([], dtype='int64') for i in range(clients)}\n",
        "  idxs = np.arange(len(dataset))\n",
        "  data_labels = dataset.targets.numpy()\n",
        "\n",
        "  # sort the labels\n",
        "  label_idxs = np.vstack((idxs, data_labels))\n",
        "  label_idxs = label_idxs[:, label_idxs[1,:].argsort()]\n",
        "  idxs = label_idxs[0,:]\n",
        "\n",
        "  # divide the data into total_shards of size shards_size\n",
        "  # assign num_shards_per_client to each client\n",
        "  for i in range(clients):\n",
        "    rand_set = set(np.random.choice(shard_idxs, num_shards_per_client, replace=False))\n",
        "    shard_idxs = list(set(shard_idxs) - rand_set)\n",
        "\n",
        "    for rand in rand_set:\n",
        "      client_dict[i] = np.concatenate((client_dict[i], idxs[rand*shards_size:(rand+1)*shards_size]), axis=0)\n",
        "  \n",
        "  return client_dict\n",
        "\n",
        "\n",
        "\n"
      ],
      "execution_count": null,
      "outputs": []
    },
    {
      "cell_type": "markdown",
      "metadata": {
        "id": "PTfxv8kFoGAy"
      },
      "source": [
        "## Models"
      ]
    },
    {
      "cell_type": "code",
      "metadata": {
        "id": "CvoDNFKbZST5"
      },
      "source": [
        "class MNIST_2NN(nn.Module):\n",
        "  \"\"\"\n",
        "  A simple multilayer-perceptron with 2-hidden layers with 200 units each\n",
        "  using ReLu activations\n",
        "\n",
        "  Total Expected Params: 199,210\n",
        "  \"\"\"\n",
        "  def __init__(self):\n",
        "    super(MNIST_2NN, self).__init__()\n",
        "\n",
        "    self.fc1 = nn.Linear(28*28, 200)\n",
        "    self.fc2 = nn.Linear(200, 200)\n",
        "    self.fc3 = nn.Linear(200, 10)\n",
        "\n",
        "  def forward(self, x):\n",
        "    x = torch.flatten(x, 1)\n",
        "    x = F.relu(self.fc1(x))\n",
        "    x = F.relu(self.fc2(x))\n",
        "    out = self.fc3(x)\n",
        "\n",
        "    return x"
      ],
      "execution_count": null,
      "outputs": []
    },
    {
      "cell_type": "code",
      "metadata": {
        "id": "ut1hZ8x3qYPZ"
      },
      "source": [
        "class MNIST_CNN(nn.Module):\n",
        "  \"\"\"\n",
        "  CNN with two 5x5 convolution lauers(the first with 32 channels, second with 64,\n",
        "  each followed with 2x2 max pooling), a fully connected layer with 512 uunits and \n",
        "  ReLu activation, and the final Softmax output layer\n",
        "\n",
        "  Total Expected Params: 1,663,370\n",
        "  \"\"\"\n",
        "  def __init__(self):\n",
        "    super(MNIST_CNN, self).__init__()\n",
        "\n",
        "    self.conv1 = nn.Conv2d(1, 32, kernel_size=5)\n",
        "    self.conv2 = nn.Conv2d(32, 64, kernel_size=5)\n",
        "    \n",
        "    self.pool = nn.MaxPool2d(2,2)\n",
        "    self.dropout = nn.Dropout(p=0.2)\n",
        "\n",
        "    self.fc1 = nn.Linear(1024, 512)\n",
        "    self.out = nn.Linear(512, 10)\n",
        "\n",
        "  def forward(self, x):\n",
        "    x = self.pool(F.relu(self.conv1(x)))\n",
        "    x = self.pool(F.relu(self.conv2(x)))\n",
        "    x = self.dropout(x)\n",
        "    x = torch.flatten(x, 1)\n",
        "    x = F.relu(self.fc1(x))\n",
        "    x = self.out(x)\n",
        "    out = F.log_softmax(x, dim=1)\n",
        "\n",
        "    return out"
      ],
      "execution_count": null,
      "outputs": []
    },
    {
      "cell_type": "markdown",
      "metadata": {
        "id": "uVv4HA9HuLtr"
      },
      "source": [
        "### Print Model Summaries"
      ]
    },
    {
      "cell_type": "code",
      "metadata": {
        "id": "I5oTH710sJEt",
        "colab": {
          "base_uri": "https://localhost:8080/"
        },
        "outputId": "f1344ce3-2d06-4515-d099-70c6113dc544"
      },
      "source": [
        "mnist_mlp = MNIST_2NN()\n",
        "mnist_cnn = MNIST_CNN()\n",
        "\n",
        "if torch.cuda.is_available():\n",
        "  mnist_mlp.cuda()\n",
        "  mnist_cnn.cuda()\n",
        "\n",
        "print(\"MNIST MLP SUMMARY\")\n",
        "print(summary(mnist_mlp, (28,28)))\n",
        "\n",
        "print(\"\\nMNIST CNN SUMMARY\")\n",
        "print(summary(mnist_cnn, (1, 28,28)))"
      ],
      "execution_count": null,
      "outputs": [
        {
          "output_type": "stream",
          "text": [
            "MNIST MLP SUMMARY\n",
            "----------------------------------------------------------------\n",
            "        Layer (type)               Output Shape         Param #\n",
            "================================================================\n",
            "            Linear-1                  [-1, 200]         157,000\n",
            "            Linear-2                  [-1, 200]          40,200\n",
            "            Linear-3                   [-1, 10]           2,010\n",
            "================================================================\n",
            "Total params: 199,210\n",
            "Trainable params: 199,210\n",
            "Non-trainable params: 0\n",
            "----------------------------------------------------------------\n",
            "Input size (MB): 0.00\n",
            "Forward/backward pass size (MB): 0.00\n",
            "Params size (MB): 0.76\n",
            "Estimated Total Size (MB): 0.77\n",
            "----------------------------------------------------------------\n",
            "None\n",
            "\n",
            "MNIST CNN SUMMARY\n",
            "----------------------------------------------------------------\n",
            "        Layer (type)               Output Shape         Param #\n",
            "================================================================\n",
            "            Conv2d-1           [-1, 32, 24, 24]             832\n",
            "         MaxPool2d-2           [-1, 32, 12, 12]               0\n",
            "            Conv2d-3             [-1, 64, 8, 8]          51,264\n",
            "         MaxPool2d-4             [-1, 64, 4, 4]               0\n",
            "           Dropout-5             [-1, 64, 4, 4]               0\n",
            "            Linear-6                  [-1, 512]         524,800\n",
            "            Linear-7                   [-1, 10]           5,130\n",
            "================================================================\n",
            "Total params: 582,026\n",
            "Trainable params: 582,026\n",
            "Non-trainable params: 0\n",
            "----------------------------------------------------------------\n",
            "Input size (MB): 0.00\n",
            "Forward/backward pass size (MB): 0.23\n",
            "Params size (MB): 2.22\n",
            "Estimated Total Size (MB): 2.45\n",
            "----------------------------------------------------------------\n",
            "None\n"
          ],
          "name": "stdout"
        }
      ]
    },
    {
      "cell_type": "markdown",
      "metadata": {
        "id": "gf_8XEXa-gZ7"
      },
      "source": [
        "## Federated Averaging"
      ]
    },
    {
      "cell_type": "markdown",
      "metadata": {
        "id": "L-aNdQsQ-Kvp"
      },
      "source": [
        "### Local Training (Client Update)\n",
        "\n",
        "Local training for the model on client side"
      ]
    },
    {
      "cell_type": "code",
      "metadata": {
        "id": "oX6OsQyO-Gz7"
      },
      "source": [
        "class CustomDataset(Dataset):\n",
        "  def __init__(self, dataset, idxs):\n",
        "      self.dataset = dataset\n",
        "      self.idxs = list(idxs)\n",
        "\n",
        "  def __len__(self):\n",
        "      return len(self.idxs)\n",
        "\n",
        "  def __getitem__(self, item):\n",
        "      image, label = self.dataset[self.idxs[item]]\n",
        "      return image, label\n",
        "\n",
        "class ClientUpdate(object):\n",
        "  def __init__(self, dataset, batchSize, learning_rate, epochs, idxs):\n",
        "    self.train_loader = DataLoader(CustomDataset(dataset, idxs), batch_size=batchSize, shuffle=True)\n",
        "\n",
        "    self.learning_rate = learning_rate\n",
        "    self.epochs = epochs\n",
        "\n",
        "  def train(self, model):\n",
        "\n",
        "    criterion = nn.CrossEntropyLoss()\n",
        "    optimizer = torch.optim.SGD(model.parameters(), lr=self.learning_rate, momentum=0.5)\n",
        "    # optimizer = torch.optim.Adam(model.parameters(), lr=self.learning_rate)\n",
        "\n",
        "    e_loss = []\n",
        "    for epoch in range(1, self.epochs+1):\n",
        "\n",
        "      train_loss = 0.0\n",
        "\n",
        "      model.train()\n",
        "      for data, labels in self.train_loader:\n",
        "\n",
        "        if torch.cuda.is_available():\n",
        "          data, labels = data.cuda(), labels.cuda()\n",
        "\n",
        "        # clear the gradients\n",
        "        optimizer.zero_grad()\n",
        "        # make a forward pass\n",
        "        output = model(data)\n",
        "        # calculate the loss\n",
        "        loss = criterion(output, labels)\n",
        "        # do a backwards pass\n",
        "        loss.backward()\n",
        "        # perform a single optimization step\n",
        "        optimizer.step()\n",
        "        # update training loss\n",
        "        train_loss += loss.item()*data.size(0)\n",
        "\n",
        "      # average losses\n",
        "      train_loss = train_loss/len(self.train_loader.dataset)\n",
        "      e_loss.append(train_loss)\n",
        "\n",
        "    total_loss = sum(e_loss)/len(e_loss)\n",
        "\n",
        "    return model.state_dict(), total_loss"
      ],
      "execution_count": null,
      "outputs": []
    },
    {
      "cell_type": "markdown",
      "metadata": {
        "id": "Ukgh1DVHE2Ds"
      },
      "source": [
        "### Server Side Training\n",
        "\n",
        "Following Algorithm 1 from the paper"
      ]
    },
    {
      "cell_type": "code",
      "metadata": {
        "id": "1NF1e33BgpeL"
      },
      "source": [
        "def training(model, rounds, batch_size, lr, ds, data_dict, C, K, E, plt_title, plt_color):\n",
        "  \"\"\"\n",
        "  Function implements the Federated Averaging Algorithm from the FedAvg paper.\n",
        "  Specifically, this function is used for the server side training and weight update\n",
        "\n",
        "  Params:\n",
        "    - model:           PyTorch model to train\n",
        "    - rounds:          Number of communication rounds for the client update\n",
        "    - batch_size:      Batch size for client update training\n",
        "    - lr:              Learning rate used for client update training\n",
        "    - ds:              Dataset used for training\n",
        "    - data_dict:       Type of data partition used for training (IID or non-IID)\n",
        "    - C:               Fraction of clients randomly chosen to perform computation on each round\n",
        "    - K:               Total number of clients\n",
        "    - E:               Number of training passes each client makes over its local dataset per round\n",
        "    - tb_writer_name:  Directory name to save the tensorboard logs\n",
        "  Returns:\n",
        "    - model:           Trained model on the server\n",
        "  \"\"\"\n",
        "\n",
        "  # global model weights\n",
        "  global_weights = model.state_dict()\n",
        "\n",
        "  # training loss\n",
        "  train_loss = []\n",
        "  \n",
        "  # measure time\n",
        "  start = time.time()\n",
        "\n",
        "  for curr_round in range(1, rounds+1):\n",
        "    w, local_loss = [], []\n",
        "\n",
        "    m = max(int(C*K), 1)\n",
        "    \n",
        "    S_t = np.random.choice(range(K), m, replace=False)\n",
        "    for k in S_t:\n",
        "      local_update = ClientUpdate(dataset=ds, batchSize=batch_size, learning_rate=lr, epochs=E, idxs=data_dict[k])\n",
        "      weights, loss = local_update.train(model=copy.deepcopy(model))\n",
        "\n",
        "      w.append(copy.deepcopy(weights))\n",
        "      local_loss.append(copy.deepcopy(loss))\n",
        "\n",
        "    # updating the global weights\n",
        "    weights_avg = copy.deepcopy(w[0])\n",
        "    for k in weights_avg.keys():\n",
        "      for i in range(1, len(w)):\n",
        "        weights_avg[k] += w[i][k]\n",
        "\n",
        "      weights_avg[k] = torch.div(weights_avg[k], len(w))\n",
        "\n",
        "    global_weights = weights_avg\n",
        "\n",
        "    # move the updated weights to our model state dict\n",
        "    model.load_state_dict(global_weights)\n",
        "\n",
        "    # loss\n",
        "    loss_avg = sum(local_loss) / len(local_loss)\n",
        "    print('Round: {}... \\tAverage Loss: {}'.format(curr_round, round(loss_avg, 3)))\n",
        "    train_loss.append(loss_avg)\n",
        "\n",
        "  end = time.time()\n",
        "  fig, ax = plt.subplots()\n",
        "  x_axis = np.arange(1, rounds+1)\n",
        "  y_axis = np.array(train_loss)\n",
        "  ax.plot(x_axis, y_axis, 'tab:'+plt_color)\n",
        "\n",
        "  ax.set(xlabel='Number of Rounds', ylabel='Train Loss',\n",
        "       title=plt_title)\n",
        "  ax.grid()\n",
        "  fig.savefig(plt_title+'.jpg', format='jpg')\n",
        "  print(\"Training Done!\")\n",
        "  print(\"Total time taken to Train: {}\".format(end-start))\n",
        "  \n",
        "  return model"
      ],
      "execution_count": null,
      "outputs": []
    },
    {
      "cell_type": "markdown",
      "metadata": {
        "id": "tUYyb4T-uXmF"
      },
      "source": [
        "## Testing Loop"
      ]
    },
    {
      "cell_type": "code",
      "metadata": {
        "id": "uCcIZmO5uan9"
      },
      "source": [
        "def testing(model, dataset, bs, criterion, num_classes, classes):\n",
        "  #test loss \n",
        "  test_loss = 0.0\n",
        "  correct_class = list(0. for i in range(num_classes))\n",
        "  total_class = list(0. for i in range(num_classes))\n",
        "\n",
        "  test_loader = DataLoader(dataset, batch_size=bs)\n",
        "  l = len(test_loader)\n",
        "  model.eval()\n",
        "  for data, labels in test_loader:\n",
        "\n",
        "    if torch.cuda.is_available():\n",
        "      data, labels = data.cuda(), labels.cuda()\n",
        "\n",
        "    output = model(data)\n",
        "    loss = criterion(output, labels)\n",
        "    test_loss += loss.item()*data.size(0)\n",
        "\n",
        "    _, pred = torch.max(output, 1)\n",
        "\n",
        "    correct_tensor = pred.eq(labels.data.view_as(pred))\n",
        "    correct = np.squeeze(correct_tensor.numpy()) if not torch.cuda.is_available() else np.squeeze(correct_tensor.cpu().numpy())\n",
        "\n",
        "    #test accuracy for each object class\n",
        "    for i in range(num_classes):\n",
        "      label = labels.data[i]\n",
        "      correct_class[label] += correct[i].item()\n",
        "      total_class[label] += 1\n",
        "    \n",
        "  # avg test loss\n",
        "  test_loss = test_loss/len(test_loader.dataset)\n",
        "  print(\"Test Loss: {:.6f}\\n\".format(test_loss))\n",
        "\n",
        "  # print test accuracy\n",
        "  for i in range(10):\n",
        "    if total_class[i]>0:\n",
        "      print('Test Accuracy of %5s: %2d%% (%2d/%2d)' % \n",
        "            (classes[i], 100 * correct_class[i] / total_class[i],\n",
        "            np.sum(correct_class[i]), np.sum(total_class[i])))\n",
        "    else:\n",
        "      print('Test Accuracy of %5s: N/A (no training examples)' % (classes[i]))\n",
        "\n",
        "  print('\\nFinal Test  Accuracy: {:.3f} ({}/{})'.format(\n",
        "        100. * np.sum(correct_class) / np.sum(total_class),\n",
        "        np.sum(correct_class), np.sum(total_class)))"
      ],
      "execution_count": null,
      "outputs": []
    },
    {
      "cell_type": "markdown",
      "metadata": {
        "id": "-hZZ3-mPoDAv"
      },
      "source": [
        "## **CNN IID**"
      ]
    },
    {
      "cell_type": "markdown",
      "metadata": {
        "id": "4hO5oV6aXqeh"
      },
      "source": [
        "## MNIST CNN on IID Local Updates = 1"
      ]
    },
    {
      "cell_type": "markdown",
      "metadata": {
        "id": "flSQv_P4zCfx"
      },
      "source": [
        "### Train\n"
      ]
    },
    {
      "cell_type": "code",
      "metadata": {
        "id": "0ZalcKZtEseA",
        "colab": {
          "base_uri": "https://localhost:8080/",
          "height": 1000
        },
        "outputId": "81319059-5ec8-476f-b97a-7defe4bc1774"
      },
      "source": [
        "# number of training rounds\n",
        "rounds = 100\n",
        "# client fraction\n",
        "C = 0.1\n",
        "# number of clients\n",
        "K = 100\n",
        "# number of training passes on local dataset for each roung\n",
        "E = 1\n",
        "# batch size\n",
        "batch_size = 10\n",
        "# learning Rate\n",
        "lr=0.01\n",
        "# data partition dictionary\n",
        "iid_dict = iid_partition(mnist_data_train, 100)\n",
        "# load model\n",
        "mnist_cnn = MNIST_CNN()\n",
        "\n",
        "if torch.cuda.is_available():\n",
        "  mnist_cnn.cuda()\n",
        "\n",
        "mnist_cnn_iid_trained = training(mnist_cnn, rounds, batch_size, lr, mnist_data_train, iid_dict, C, K, E, \"MNIST CNN on IID Dataset Local Updates = 01\", \"orange\")"
      ],
      "execution_count": null,
      "outputs": [
        {
          "output_type": "stream",
          "text": [
            "Round: 1... \tAverage Loss: 2.002\n",
            "Round: 2... \tAverage Loss: 0.937\n",
            "Round: 3... \tAverage Loss: 0.596\n",
            "Round: 4... \tAverage Loss: 0.433\n",
            "Round: 5... \tAverage Loss: 0.352\n",
            "Round: 6... \tAverage Loss: 0.331\n",
            "Round: 7... \tAverage Loss: 0.269\n",
            "Round: 8... \tAverage Loss: 0.258\n",
            "Round: 9... \tAverage Loss: 0.241\n",
            "Round: 10... \tAverage Loss: 0.202\n",
            "Round: 11... \tAverage Loss: 0.194\n",
            "Round: 12... \tAverage Loss: 0.186\n",
            "Round: 13... \tAverage Loss: 0.178\n",
            "Round: 14... \tAverage Loss: 0.188\n",
            "Round: 15... \tAverage Loss: 0.155\n",
            "Round: 16... \tAverage Loss: 0.153\n",
            "Round: 17... \tAverage Loss: 0.158\n",
            "Round: 18... \tAverage Loss: 0.145\n",
            "Round: 19... \tAverage Loss: 0.129\n",
            "Round: 20... \tAverage Loss: 0.132\n",
            "Round: 21... \tAverage Loss: 0.131\n",
            "Round: 22... \tAverage Loss: 0.123\n",
            "Round: 23... \tAverage Loss: 0.115\n",
            "Round: 24... \tAverage Loss: 0.116\n",
            "Round: 25... \tAverage Loss: 0.111\n",
            "Round: 26... \tAverage Loss: 0.108\n",
            "Round: 27... \tAverage Loss: 0.113\n",
            "Round: 28... \tAverage Loss: 0.103\n",
            "Round: 29... \tAverage Loss: 0.112\n",
            "Round: 30... \tAverage Loss: 0.098\n",
            "Round: 31... \tAverage Loss: 0.096\n",
            "Round: 32... \tAverage Loss: 0.107\n",
            "Round: 33... \tAverage Loss: 0.096\n",
            "Round: 34... \tAverage Loss: 0.106\n",
            "Round: 35... \tAverage Loss: 0.081\n",
            "Round: 36... \tAverage Loss: 0.084\n",
            "Round: 37... \tAverage Loss: 0.085\n",
            "Round: 38... \tAverage Loss: 0.081\n",
            "Round: 39... \tAverage Loss: 0.086\n",
            "Round: 40... \tAverage Loss: 0.081\n",
            "Round: 41... \tAverage Loss: 0.074\n",
            "Round: 42... \tAverage Loss: 0.086\n",
            "Round: 43... \tAverage Loss: 0.086\n",
            "Round: 44... \tAverage Loss: 0.069\n",
            "Round: 45... \tAverage Loss: 0.091\n",
            "Round: 46... \tAverage Loss: 0.073\n",
            "Round: 47... \tAverage Loss: 0.08\n",
            "Round: 48... \tAverage Loss: 0.07\n",
            "Round: 49... \tAverage Loss: 0.072\n",
            "Round: 50... \tAverage Loss: 0.073\n",
            "Round: 51... \tAverage Loss: 0.072\n",
            "Round: 52... \tAverage Loss: 0.065\n",
            "Round: 53... \tAverage Loss: 0.082\n",
            "Round: 54... \tAverage Loss: 0.063\n",
            "Round: 55... \tAverage Loss: 0.071\n",
            "Round: 56... \tAverage Loss: 0.061\n",
            "Round: 57... \tAverage Loss: 0.057\n",
            "Round: 58... \tAverage Loss: 0.062\n",
            "Round: 59... \tAverage Loss: 0.066\n",
            "Round: 60... \tAverage Loss: 0.064\n",
            "Round: 61... \tAverage Loss: 0.063\n",
            "Round: 62... \tAverage Loss: 0.062\n",
            "Round: 63... \tAverage Loss: 0.056\n",
            "Round: 64... \tAverage Loss: 0.059\n",
            "Round: 65... \tAverage Loss: 0.06\n",
            "Round: 66... \tAverage Loss: 0.061\n",
            "Round: 67... \tAverage Loss: 0.06\n",
            "Round: 68... \tAverage Loss: 0.062\n",
            "Round: 69... \tAverage Loss: 0.062\n",
            "Round: 70... \tAverage Loss: 0.061\n",
            "Round: 71... \tAverage Loss: 0.049\n",
            "Round: 72... \tAverage Loss: 0.061\n",
            "Round: 73... \tAverage Loss: 0.054\n",
            "Round: 74... \tAverage Loss: 0.052\n",
            "Round: 75... \tAverage Loss: 0.053\n",
            "Round: 76... \tAverage Loss: 0.05\n",
            "Round: 77... \tAverage Loss: 0.063\n",
            "Round: 78... \tAverage Loss: 0.056\n",
            "Round: 79... \tAverage Loss: 0.051\n",
            "Round: 80... \tAverage Loss: 0.055\n",
            "Round: 81... \tAverage Loss: 0.052\n",
            "Round: 82... \tAverage Loss: 0.056\n",
            "Round: 83... \tAverage Loss: 0.047\n",
            "Round: 84... \tAverage Loss: 0.054\n",
            "Round: 85... \tAverage Loss: 0.053\n",
            "Round: 86... \tAverage Loss: 0.049\n",
            "Round: 87... \tAverage Loss: 0.044\n",
            "Round: 88... \tAverage Loss: 0.042\n",
            "Round: 89... \tAverage Loss: 0.046\n",
            "Round: 90... \tAverage Loss: 0.039\n",
            "Round: 91... \tAverage Loss: 0.044\n",
            "Round: 92... \tAverage Loss: 0.05\n",
            "Round: 93... \tAverage Loss: 0.051\n",
            "Round: 94... \tAverage Loss: 0.044\n",
            "Round: 95... \tAverage Loss: 0.043\n",
            "Round: 96... \tAverage Loss: 0.042\n",
            "Round: 97... \tAverage Loss: 0.045\n",
            "Round: 98... \tAverage Loss: 0.046\n",
            "Round: 99... \tAverage Loss: 0.053\n",
            "Round: 100... \tAverage Loss: 0.04\n",
            "Training Done!\n",
            "Total time taken to Train: 202.86983013153076\n"
          ],
          "name": "stdout"
        },
        {
          "output_type": "display_data",
          "data": {
            "image/png": "[encoded data removed]",
            "text/plain": [
              "<Figure size 432x288 with 1 Axes>"
            ]
          },
          "metadata": {
            "tags": [],
            "needs_background": "light"
          }
        }
      ]
    },
    {
      "cell_type": "markdown",
      "metadata": {
        "id": "wNwC82przF6G"
      },
      "source": [
        "### Test"
      ]
    },
    {
      "cell_type": "code",
      "metadata": {
        "id": "qB97BFs9we9w",
        "colab": {
          "base_uri": "https://localhost:8080/"
        },
        "outputId": "f3a54530-59d8-456c-d7da-a4bae617d704"
      },
      "source": [
        "criterion = nn.CrossEntropyLoss()\n",
        "testing(mnist_cnn_iid_trained, mnist_data_test, 128, criterion, num_classes, classes_test)"
      ],
      "execution_count": null,
      "outputs": [
        {
          "output_type": "stream",
          "text": [
            "Test Loss: 0.028602\n",
            "\n",
            "Test Accuracy of     0: 97% (74/76)\n",
            "Test Accuracy of     1: 100% (90/90)\n",
            "Test Accuracy of     2: 100% (91/91)\n",
            "Test Accuracy of     3: 97% (71/73)\n",
            "Test Accuracy of     4: 100% (89/89)\n",
            "Test Accuracy of     5: 98% (67/68)\n",
            "Test Accuracy of     6: 100% (62/62)\n",
            "Test Accuracy of     7: 98% (80/81)\n",
            "Test Accuracy of     8: 100% (77/77)\n",
            "Test Accuracy of     9: 98% (82/83)\n",
            "\n",
            "Final Test  Accuracy: 99.114 (783.0/790.0)\n"
          ],
          "name": "stdout"
        }
      ]
    },
    {
      "cell_type": "markdown",
      "metadata": {
        "id": "wHqWnGF_nXfB"
      },
      "source": [
        "## MNIST CNN on IID  Local Updates = 5"
      ]
    },
    {
      "cell_type": "markdown",
      "metadata": {
        "id": "yMLQeVecnXfj"
      },
      "source": [
        "### Train\n"
      ]
    },
    {
      "cell_type": "code",
      "metadata": {
        "id": "tQ0q8YbwnXfj",
        "colab": {
          "base_uri": "https://localhost:8080/",
          "height": 1000
        },
        "outputId": "4a620c2d-1b58-4ec3-f8d9-6b1ac6a7f803"
      },
      "source": [
        "# number of training rounds\n",
        "rounds = 100\n",
        "# client fraction\n",
        "C = 0.1\n",
        "# number of clients\n",
        "K = 100\n",
        "# number of training passes on local dataset for each roung\n",
        "E = 5\n",
        "# batch size\n",
        "batch_size = 10\n",
        "# learning Rate\n",
        "lr=0.01\n",
        "# data partition dictionary\n",
        "iid_dict = iid_partition(mnist_data_train, 100)\n",
        "# load model\n",
        "mnist_cnn = MNIST_CNN()\n",
        "\n",
        "if torch.cuda.is_available():\n",
        "  mnist_cnn.cuda()\n",
        "\n",
        "mnist_cnn_iid_trained = training(mnist_cnn, rounds, batch_size, lr, mnist_data_train, iid_dict, C, K, E, \"MNIST CNN on IID Dataset Local Updates = 05\", \"orange\")"
      ],
      "execution_count": null,
      "outputs": [
        {
          "output_type": "stream",
          "text": [
            "Round: 1... \tAverage Loss: 0.746\n",
            "Round: 2... \tAverage Loss: 0.184\n",
            "Round: 3... \tAverage Loss: 0.126\n",
            "Round: 4... \tAverage Loss: 0.089\n",
            "Round: 5... \tAverage Loss: 0.077\n",
            "Round: 6... \tAverage Loss: 0.071\n",
            "Round: 7... \tAverage Loss: 0.057\n",
            "Round: 8... \tAverage Loss: 0.056\n",
            "Round: 9... \tAverage Loss: 0.043\n",
            "Round: 10... \tAverage Loss: 0.043\n",
            "Round: 11... \tAverage Loss: 0.044\n",
            "Round: 12... \tAverage Loss: 0.039\n",
            "Round: 13... \tAverage Loss: 0.032\n",
            "Round: 14... \tAverage Loss: 0.033\n",
            "Round: 15... \tAverage Loss: 0.036\n",
            "Round: 16... \tAverage Loss: 0.033\n",
            "Round: 17... \tAverage Loss: 0.032\n",
            "Round: 18... \tAverage Loss: 0.031\n",
            "Round: 19... \tAverage Loss: 0.028\n",
            "Round: 20... \tAverage Loss: 0.027\n",
            "Round: 21... \tAverage Loss: 0.022\n",
            "Round: 22... \tAverage Loss: 0.025\n",
            "Round: 23... \tAverage Loss: 0.024\n",
            "Round: 24... \tAverage Loss: 0.025\n",
            "Round: 25... \tAverage Loss: 0.024\n",
            "Round: 26... \tAverage Loss: 0.024\n",
            "Round: 27... \tAverage Loss: 0.02\n",
            "Round: 28... \tAverage Loss: 0.023\n",
            "Round: 29... \tAverage Loss: 0.02\n",
            "Round: 30... \tAverage Loss: 0.019\n",
            "Round: 31... \tAverage Loss: 0.022\n",
            "Round: 32... \tAverage Loss: 0.02\n",
            "Round: 33... \tAverage Loss: 0.022\n",
            "Round: 34... \tAverage Loss: 0.018\n",
            "Round: 35... \tAverage Loss: 0.02\n",
            "Round: 36... \tAverage Loss: 0.014\n",
            "Round: 37... \tAverage Loss: 0.019\n",
            "Round: 38... \tAverage Loss: 0.019\n",
            "Round: 39... \tAverage Loss: 0.018\n",
            "Round: 40... \tAverage Loss: 0.014\n",
            "Round: 42... \tAverage Loss: 0.017\n",
            "Round: 43... \tAverage Loss: 0.011\n",
            "Round: 44... \tAverage Loss: 0.014\n",
            "Round: 45... \tAverage Loss: 0.013\n",
            "Round: 46... \tAverage Loss: 0.015\n",
            "Round: 47... \tAverage Loss: 0.015\n",
            "Round: 48... \tAverage Loss: 0.013\n",
            "Round: 49... \tAverage Loss: 0.019\n",
            "Round: 50... \tAverage Loss: 0.014\n",
            "Round: 51... \tAverage Loss: 0.011\n",
            "Round: 52... \tAverage Loss: 0.013\n",
            "Round: 53... \tAverage Loss: 0.015\n",
            "Round: 54... \tAverage Loss: 0.014\n",
            "Round: 55... \tAverage Loss: 0.012\n",
            "Round: 56... \tAverage Loss: 0.013\n",
            "Round: 57... \tAverage Loss: 0.011\n",
            "Round: 58... \tAverage Loss: 0.009\n",
            "Round: 59... \tAverage Loss: 0.012\n",
            "Round: 60... \tAverage Loss: 0.012\n",
            "Round: 61... \tAverage Loss: 0.016\n",
            "Round: 62... \tAverage Loss: 0.014\n",
            "Round: 63... \tAverage Loss: 0.011\n",
            "Round: 64... \tAverage Loss: 0.011\n",
            "Round: 65... \tAverage Loss: 0.01\n",
            "Round: 66... \tAverage Loss: 0.011\n",
            "Round: 67... \tAverage Loss: 0.01\n",
            "Round: 68... \tAverage Loss: 0.012\n",
            "Round: 69... \tAverage Loss: 0.01\n",
            "Round: 70... \tAverage Loss: 0.011\n",
            "Round: 71... \tAverage Loss: 0.013\n",
            "Round: 72... \tAverage Loss: 0.008\n",
            "Round: 73... \tAverage Loss: 0.008\n",
            "Round: 74... \tAverage Loss: 0.01\n",
            "Round: 75... \tAverage Loss: 0.009\n",
            "Round: 76... \tAverage Loss: 0.012\n",
            "Round: 77... \tAverage Loss: 0.012\n",
            "Round: 78... \tAverage Loss: 0.009\n",
            "Round: 79... \tAverage Loss: 0.008\n",
            "Round: 80... \tAverage Loss: 0.01\n",
            "Round: 81... \tAverage Loss: 0.011\n",
            "Round: 82... \tAverage Loss: 0.007\n",
            "Round: 83... \tAverage Loss: 0.01\n",
            "Round: 84... \tAverage Loss: 0.007\n",
            "Round: 85... \tAverage Loss: 0.01\n",
            "Round: 86... \tAverage Loss: 0.011\n",
            "Round: 87... \tAverage Loss: 0.008\n",
            "Round: 88... \tAverage Loss: 0.009\n",
            "Round: 89... \tAverage Loss: 0.008\n",
            "Round: 90... \tAverage Loss: 0.009\n",
            "Round: 91... \tAverage Loss: 0.009\n",
            "Round: 92... \tAverage Loss: 0.011\n",
            "Round: 93... \tAverage Loss: 0.01\n",
            "Round: 94... \tAverage Loss: 0.009\n",
            "Round: 95... \tAverage Loss: 0.012\n",
            "Round: 96... \tAverage Loss: 0.01\n",
            "Round: 97... \tAverage Loss: 0.008\n",
            "Round: 98... \tAverage Loss: 0.009\n",
            "Round: 99... \tAverage Loss: 0.007\n",
            "Round: 100... \tAverage Loss: 0.005\n",
            "Training Done!\n",
            "Total time taken to Train: 1007.2965545654297\n"
          ],
          "name": "stdout"
        },
        {
          "output_type": "display_data",
          "data": {
            "image/png": "[encoded data removed]",
            "text/plain": [
              "<Figure size 432x288 with 1 Axes>"
            ]
          },
          "metadata": {
            "tags": [],
            "needs_background": "light"
          }
        }
      ]
    },
    {
      "cell_type": "markdown",
      "metadata": {
        "id": "M1HHzfv-nXfk"
      },
      "source": [
        "### Test"
      ]
    },
    {
      "cell_type": "code",
      "metadata": {
        "id": "uqFJDKernXfl",
        "colab": {
          "base_uri": "https://localhost:8080/"
        },
        "outputId": "bb758ee1-daf1-4c0d-cc4c-916861b60e30"
      },
      "source": [
        "criterion = nn.CrossEntropyLoss()\n",
        "testing(mnist_cnn_iid_trained, mnist_data_test, 128, criterion, num_classes, classes_test)"
      ],
      "execution_count": null,
      "outputs": [
        {
          "output_type": "stream",
          "text": [
            "Test Loss: 0.022526\n",
            "\n",
            "Test Accuracy of     0: 100% (76/76)\n",
            "Test Accuracy of     1: 100% (90/90)\n",
            "Test Accuracy of     2: 100% (91/91)\n",
            "Test Accuracy of     3: 97% (71/73)\n",
            "Test Accuracy of     4: 100% (89/89)\n",
            "Test Accuracy of     5: 98% (67/68)\n",
            "Test Accuracy of     6: 100% (62/62)\n",
            "Test Accuracy of     7: 100% (81/81)\n",
            "Test Accuracy of     8: 100% (77/77)\n",
            "Test Accuracy of     9: 98% (82/83)\n",
            "\n",
            "Final Test  Accuracy: 99.494 (786.0/790.0)\n"
          ],
          "name": "stdout"
        }
      ]
    },
    {
      "cell_type": "markdown",
      "metadata": {
        "id": "gNv2hV3ynaDr"
      },
      "source": [
        "## MNIST CNN on IID Local Updates = 10"
      ]
    },
    {
      "cell_type": "markdown",
      "metadata": {
        "id": "jOAqu8wUnaDs"
      },
      "source": [
        "### Train\n"
      ]
    },
    {
      "cell_type": "code",
      "metadata": {
        "id": "TFse5nCknaDt",
        "colab": {
          "base_uri": "https://localhost:8080/",
          "height": 1000
        },
        "outputId": "b4e59096-e24c-4591-9247-2a3f970c5888"
      },
      "source": [
        "# number of training rounds\n",
        "rounds = 100\n",
        "# client fraction\n",
        "C = 0.1\n",
        "# number of clients\n",
        "K = 100\n",
        "# number of training passes on local dataset for each roung\n",
        "E = 10\n",
        "# batch size\n",
        "batch_size = 10\n",
        "# learning Rate\n",
        "lr=0.01\n",
        "# data partition dictionary\n",
        "iid_dict = iid_partition(mnist_data_train, 100)\n",
        "# load model\n",
        "mnist_cnn = MNIST_CNN()\n",
        "\n",
        "if torch.cuda.is_available():\n",
        "  mnist_cnn.cuda()\n",
        " \n",
        "mnist_cnn_iid_trained = training(mnist_cnn, rounds, batch_size, lr, mnist_data_train, iid_dict, C, K, E, \"MNIST CNN on IID Dataset Local Updates = 10\", \"orange\")"
      ],
      "execution_count": null,
      "outputs": [
        {
          "output_type": "stream",
          "text": [
            "Round: 1... \tAverage Loss: 0.447\n",
            "Round: 2... \tAverage Loss: 0.083\n",
            "Round: 3... \tAverage Loss: 0.056\n",
            "Round: 4... \tAverage Loss: 0.042\n",
            "Round: 5... \tAverage Loss: 0.036\n",
            "Round: 6... \tAverage Loss: 0.031\n",
            "Round: 7... \tAverage Loss: 0.03\n",
            "Round: 8... \tAverage Loss: 0.023\n",
            "Round: 9... \tAverage Loss: 0.023\n",
            "Round: 10... \tAverage Loss: 0.023\n",
            "Round: 11... \tAverage Loss: 0.022\n",
            "Round: 12... \tAverage Loss: 0.018\n",
            "Round: 13... \tAverage Loss: 0.017\n",
            "Round: 14... \tAverage Loss: 0.016\n",
            "Round: 15... \tAverage Loss: 0.014\n",
            "Round: 16... \tAverage Loss: 0.018\n",
            "Round: 17... \tAverage Loss: 0.013\n",
            "Round: 18... \tAverage Loss: 0.014\n",
            "Round: 19... \tAverage Loss: 0.011\n",
            "Round: 20... \tAverage Loss: 0.013\n",
            "Round: 21... \tAverage Loss: 0.013\n",
            "Round: 22... \tAverage Loss: 0.013\n",
            "Round: 23... \tAverage Loss: 0.011\n",
            "Round: 24... \tAverage Loss: 0.011\n",
            "Round: 25... \tAverage Loss: 0.011\n",
            "Round: 26... \tAverage Loss: 0.012\n",
            "Round: 27... \tAverage Loss: 0.01\n",
            "Round: 28... \tAverage Loss: 0.01\n",
            "Round: 29... \tAverage Loss: 0.011\n",
            "Round: 30... \tAverage Loss: 0.011\n",
            "Round: 31... \tAverage Loss: 0.009\n",
            "Round: 32... \tAverage Loss: 0.01\n",
            "Round: 33... \tAverage Loss: 0.011\n",
            "Round: 34... \tAverage Loss: 0.009\n",
            "Round: 35... \tAverage Loss: 0.007\n",
            "Round: 36... \tAverage Loss: 0.008\n",
            "Round: 37... \tAverage Loss: 0.009\n",
            "Round: 38... \tAverage Loss: 0.008\n",
            "Round: 39... \tAverage Loss: 0.009\n",
            "Round: 40... \tAverage Loss: 0.008\n",
            "Round: 41... \tAverage Loss: 0.006\n",
            "Round: 42... \tAverage Loss: 0.008\n",
            "Round: 43... \tAverage Loss: 0.008\n",
            "Round: 44... \tAverage Loss: 0.007\n",
            "Round: 45... \tAverage Loss: 0.007\n",
            "Round: 46... \tAverage Loss: 0.007\n",
            "Round: 47... \tAverage Loss: 0.007\n",
            "Round: 48... \tAverage Loss: 0.008\n",
            "Round: 49... \tAverage Loss: 0.007\n",
            "Round: 50... \tAverage Loss: 0.006\n",
            "Round: 51... \tAverage Loss: 0.008\n",
            "Round: 52... \tAverage Loss: 0.006\n",
            "Round: 53... \tAverage Loss: 0.007\n",
            "Round: 54... \tAverage Loss: 0.007\n",
            "Round: 55... \tAverage Loss: 0.007\n",
            "Round: 56... \tAverage Loss: 0.006\n",
            "Round: 57... \tAverage Loss: 0.006\n",
            "Round: 58... \tAverage Loss: 0.006\n",
            "Round: 59... \tAverage Loss: 0.006\n",
            "Round: 60... \tAverage Loss: 0.005\n",
            "Round: 61... \tAverage Loss: 0.008\n",
            "Round: 62... \tAverage Loss: 0.006\n",
            "Round: 63... \tAverage Loss: 0.005\n",
            "Round: 64... \tAverage Loss: 0.006\n",
            "Round: 65... \tAverage Loss: 0.005\n",
            "Round: 66... \tAverage Loss: 0.006\n",
            "Round: 67... \tAverage Loss: 0.006\n",
            "Round: 68... \tAverage Loss: 0.006\n",
            "Round: 69... \tAverage Loss: 0.005\n",
            "Round: 70... \tAverage Loss: 0.005\n",
            "Round: 71... \tAverage Loss: 0.005\n",
            "Round: 72... \tAverage Loss: 0.005\n",
            "Round: 73... \tAverage Loss: 0.005\n",
            "Round: 74... \tAverage Loss: 0.005\n",
            "Round: 75... \tAverage Loss: 0.005\n",
            "Round: 76... \tAverage Loss: 0.004\n",
            "Round: 77... \tAverage Loss: 0.005\n",
            "Round: 78... \tAverage Loss: 0.006\n",
            "Round: 79... \tAverage Loss: 0.005\n",
            "Round: 80... \tAverage Loss: 0.004\n",
            "Round: 81... \tAverage Loss: 0.005\n",
            "Round: 82... \tAverage Loss: 0.005\n",
            "Round: 83... \tAverage Loss: 0.005\n",
            "Round: 84... \tAverage Loss: 0.004\n",
            "Round: 85... \tAverage Loss: 0.003\n",
            "Round: 86... \tAverage Loss: 0.004\n",
            "Round: 87... \tAverage Loss: 0.005\n",
            "Round: 88... \tAverage Loss: 0.004\n",
            "Round: 89... \tAverage Loss: 0.005\n",
            "Round: 90... \tAverage Loss: 0.004\n",
            "Round: 91... \tAverage Loss: 0.004\n",
            "Round: 92... \tAverage Loss: 0.006\n",
            "Round: 93... \tAverage Loss: 0.004\n",
            "Round: 94... \tAverage Loss: 0.004\n",
            "Round: 95... \tAverage Loss: 0.004\n",
            "Round: 96... \tAverage Loss: 0.005\n",
            "Round: 97... \tAverage Loss: 0.005\n",
            "Round: 98... \tAverage Loss: 0.005\n",
            "Round: 99... \tAverage Loss: 0.003\n",
            "Round: 100... \tAverage Loss: 0.004\n",
            "Training Done!\n",
            "Total time taken to Train: 1999.6607184410095\n"
          ],
          "name": "stdout"
        },
        {
          "output_type": "display_data",
          "data": {
            "image/png": "[encoded data removed]",
            "text/plain": [
              "<Figure size 432x288 with 1 Axes>"
            ]
          },
          "metadata": {
            "tags": [],
            "needs_background": "light"
          }
        }
      ]
    },
    {
      "cell_type": "markdown",
      "metadata": {
        "id": "j3xOYGQknaDv"
      },
      "source": [
        "### Test"
      ]
    },
    {
      "cell_type": "code",
      "metadata": {
        "id": "80UMkO88naDw",
        "colab": {
          "base_uri": "https://localhost:8080/"
        },
        "outputId": "af5c1997-c8c5-44ba-bbb0-b082ad8a83f6"
      },
      "source": [
        "criterion = nn.CrossEntropyLoss() \n",
        "testing(mnist_cnn_iid_trained, mnist_data_test, 128, criterion, num_classes, classes_test)"
      ],
      "execution_count": null,
      "outputs": [
        {
          "output_type": "stream",
          "text": [
            "Test Loss: 0.026093\n",
            "\n",
            "Test Accuracy of     0: 98% (75/76)\n",
            "Test Accuracy of     1: 98% (89/90)\n",
            "Test Accuracy of     2: 100% (91/91)\n",
            "Test Accuracy of     3: 97% (71/73)\n",
            "Test Accuracy of     4: 100% (89/89)\n",
            "Test Accuracy of     5: 98% (67/68)\n",
            "Test Accuracy of     6: 100% (62/62)\n",
            "Test Accuracy of     7: 100% (81/81)\n",
            "Test Accuracy of     8: 100% (77/77)\n",
            "Test Accuracy of     9: 98% (82/83)\n",
            "\n",
            "Final Test  Accuracy: 99.241 (784.0/790.0)\n"
          ],
          "name": "stdout"
        }
      ]
    },
    {
      "cell_type": "markdown",
      "metadata": {
        "id": "8i5uwgycnc2s"
      },
      "source": [
        "## MNIST CNN on IID Local Updates = 25"
      ]
    },
    {
      "cell_type": "markdown",
      "metadata": {
        "id": "DcZjiaugnc2t"
      },
      "source": [
        "### Train\n"
      ]
    },
    {
      "cell_type": "code",
      "metadata": {
        "id": "b_T5ysFHnc2u",
        "colab": {
          "base_uri": "https://localhost:8080/",
          "height": 1000
        },
        "outputId": "bbe7f0c8-848c-45e8-fade-51133756c16c"
      },
      "source": [
        "# number of training rounds\n",
        "rounds = 100\n",
        "# client fraction\n",
        "C = 0.1\n",
        "# number of clients\n",
        "K = 100\n",
        "# number of training passes on local dataset for each roung\n",
        "E = 25\n",
        "# batch size\n",
        "batch_size = 10\n",
        "# learning Rate\n",
        "lr=0.01\n",
        "# data partition dictionary\n",
        "iid_dict = iid_partition(mnist_data_train, 100)\n",
        "# load model\n",
        "mnist_cnn = MNIST_CNN()\n",
        "\n",
        "if torch.cuda.is_available():\n",
        "  mnist_cnn.cuda()\n",
        "\n",
        "mnist_cnn_iid_trained = training(mnist_cnn, rounds, batch_size, lr, mnist_data_train, iid_dict, C, K, E, \"MNIST CNN on IID Dataset Local Updates = 25\", \"orange\")"
      ],
      "execution_count": null,
      "outputs": [
        {
          "output_type": "stream",
          "text": [
            "Round: 1... \tAverage Loss: 0.206\n",
            "Round: 2... \tAverage Loss: 0.033\n",
            "Round: 3... \tAverage Loss: 0.021\n",
            "Round: 4... \tAverage Loss: 0.018\n",
            "Round: 5... \tAverage Loss: 0.015\n",
            "Round: 6... \tAverage Loss: 0.012\n",
            "Round: 7... \tAverage Loss: 0.012\n",
            "Round: 8... \tAverage Loss: 0.011\n",
            "Round: 9... \tAverage Loss: 0.008\n",
            "Round: 10... \tAverage Loss: 0.011\n",
            "Round: 11... \tAverage Loss: 0.008\n",
            "Round: 12... \tAverage Loss: 0.008\n",
            "Round: 13... \tAverage Loss: 0.008\n",
            "Round: 14... \tAverage Loss: 0.007\n",
            "Round: 15... \tAverage Loss: 0.008\n",
            "Round: 16... \tAverage Loss: 0.006\n",
            "Round: 17... \tAverage Loss: 0.006\n",
            "Round: 18... \tAverage Loss: 0.006\n",
            "Round: 19... \tAverage Loss: 0.006\n",
            "Round: 20... \tAverage Loss: 0.006\n",
            "Round: 21... \tAverage Loss: 0.006\n",
            "Round: 22... \tAverage Loss: 0.005\n",
            "Round: 23... \tAverage Loss: 0.005\n",
            "Round: 24... \tAverage Loss: 0.005\n",
            "Round: 25... \tAverage Loss: 0.005\n",
            "Round: 26... \tAverage Loss: 0.005\n",
            "Round: 27... \tAverage Loss: 0.004\n",
            "Round: 28... \tAverage Loss: 0.004\n",
            "Round: 28... \tAverage Loss: 0.004\n",
            "Round: 29... \tAverage Loss: 0.005\n",
            "Round: 29... \tAverage Loss: 0.005\n",
            "Round: 30... \tAverage Loss: 0.005\n",
            "Round: 30... \tAverage Loss: 0.005\n",
            "Round: 31... \tAverage Loss: 0.005\n",
            "Round: 31... \tAverage Loss: 0.005\n",
            "Round: 32... \tAverage Loss: 0.004\n",
            "Round: 32... \tAverage Loss: 0.004\n",
            "Round: 33... \tAverage Loss: 0.004\n",
            "Round: 33... \tAverage Loss: 0.004\n",
            "Round: 34... \tAverage Loss: 0.004\n",
            "Round: 34... \tAverage Loss: 0.004\n",
            "Round: 35... \tAverage Loss: 0.004\n",
            "Round: 35... \tAverage Loss: 0.004\n",
            "Round: 36... \tAverage Loss: 0.003\n",
            "Round: 36... \tAverage Loss: 0.003\n",
            "Round: 37... \tAverage Loss: 0.003\n",
            "Round: 37... \tAverage Loss: 0.003\n",
            "Round: 38... \tAverage Loss: 0.004\n",
            "Round: 38... \tAverage Loss: 0.004\n",
            "Round: 39... \tAverage Loss: 0.003\n",
            "Round: 39... \tAverage Loss: 0.003\n",
            "Round: 40... \tAverage Loss: 0.003\n",
            "Round: 40... \tAverage Loss: 0.003\n",
            "Round: 41... \tAverage Loss: 0.003\n",
            "Round: 41... \tAverage Loss: 0.003\n",
            "Round: 42... \tAverage Loss: 0.004\n",
            "Round: 42... \tAverage Loss: 0.004\n",
            "Round: 43... \tAverage Loss: 0.004\n",
            "Round: 43... \tAverage Loss: 0.004\n",
            "Round: 44... \tAverage Loss: 0.003\n",
            "Round: 44... \tAverage Loss: 0.003\n",
            "Round: 45... \tAverage Loss: 0.003\n",
            "Round: 45... \tAverage Loss: 0.003\n",
            "Round: 46... \tAverage Loss: 0.003\n",
            "Round: 46... \tAverage Loss: 0.003\n",
            "Round: 47... \tAverage Loss: 0.003\n",
            "Round: 47... \tAverage Loss: 0.003\n",
            "Round: 48... \tAverage Loss: 0.004\n",
            "Round: 48... \tAverage Loss: 0.004\n",
            "Round: 49... \tAverage Loss: 0.003\n",
            "Round: 49... \tAverage Loss: 0.003\n",
            "Round: 50... \tAverage Loss: 0.003\n",
            "Round: 50... \tAverage Loss: 0.003\n",
            "Round: 51... \tAverage Loss: 0.003\n",
            "Round: 51... \tAverage Loss: 0.003\n",
            "Round: 52... \tAverage Loss: 0.002\n",
            "Round: 52... \tAverage Loss: 0.002\n",
            "Round: 53... \tAverage Loss: 0.003\n",
            "Round: 53... \tAverage Loss: 0.003\n",
            "Round: 54... \tAverage Loss: 0.003\n",
            "Round: 54... \tAverage Loss: 0.003\n",
            "Round: 55... \tAverage Loss: 0.003\n",
            "Round: 55... \tAverage Loss: 0.003\n",
            "Round: 56... \tAverage Loss: 0.003\n",
            "Round: 56... \tAverage Loss: 0.003\n",
            "Round: 57... \tAverage Loss: 0.003\n",
            "Round: 57... \tAverage Loss: 0.003\n",
            "Round: 58... \tAverage Loss: 0.003\n",
            "Round: 58... \tAverage Loss: 0.003\n",
            "Round: 59... \tAverage Loss: 0.003\n",
            "Round: 59... \tAverage Loss: 0.003\n",
            "Round: 60... \tAverage Loss: 0.003\n",
            "Round: 60... \tAverage Loss: 0.003\n",
            "Round: 61... \tAverage Loss: 0.003\n",
            "Round: 61... \tAverage Loss: 0.003\n",
            "Round: 62... \tAverage Loss: 0.002\n",
            "Round: 62... \tAverage Loss: 0.002\n",
            "Round: 63... \tAverage Loss: 0.003\n",
            "Round: 63... \tAverage Loss: 0.003\n",
            "Round: 64... \tAverage Loss: 0.003\n",
            "Round: 64... \tAverage Loss: 0.003\n",
            "Round: 65... \tAverage Loss: 0.003\n",
            "Round: 65... \tAverage Loss: 0.003\n",
            "Round: 66... \tAverage Loss: 0.002\n",
            "Round: 66... \tAverage Loss: 0.002\n",
            "Round: 67... \tAverage Loss: 0.003\n",
            "Round: 67... \tAverage Loss: 0.003\n",
            "Round: 68... \tAverage Loss: 0.003\n",
            "Round: 68... \tAverage Loss: 0.003\n",
            "Round: 69... \tAverage Loss: 0.002\n",
            "Round: 69... \tAverage Loss: 0.002\n",
            "Round: 70... \tAverage Loss: 0.002\n",
            "Round: 70... \tAverage Loss: 0.002\n",
            "Round: 71... \tAverage Loss: 0.002\n",
            "Round: 71... \tAverage Loss: 0.002\n",
            "Round: 72... \tAverage Loss: 0.002\n",
            "Round: 72... \tAverage Loss: 0.002\n",
            "Round: 73... \tAverage Loss: 0.002\n",
            "Round: 73... \tAverage Loss: 0.002\n",
            "Round: 74... \tAverage Loss: 0.002\n",
            "Round: 74... \tAverage Loss: 0.002\n",
            "Round: 75... \tAverage Loss: 0.002\n",
            "Round: 75... \tAverage Loss: 0.002\n",
            "Round: 76... \tAverage Loss: 0.002\n",
            "Round: 76... \tAverage Loss: 0.002\n",
            "Round: 77... \tAverage Loss: 0.002\n",
            "Round: 77... \tAverage Loss: 0.002\n",
            "Round: 78... \tAverage Loss: 0.001\n",
            "Round: 78... \tAverage Loss: 0.001\n",
            "Round: 79... \tAverage Loss: 0.002\n",
            "Round: 79... \tAverage Loss: 0.002\n",
            "Round: 80... \tAverage Loss: 0.002\n",
            "Round: 80... \tAverage Loss: 0.002\n",
            "Round: 81... \tAverage Loss: 0.002\n",
            "Round: 81... \tAverage Loss: 0.002\n",
            "Round: 82... \tAverage Loss: 0.002\n",
            "Round: 82... \tAverage Loss: 0.002\n",
            "Round: 83... \tAverage Loss: 0.002\n",
            "Round: 83... \tAverage Loss: 0.002\n",
            "Round: 84... \tAverage Loss: 0.002\n",
            "Round: 84... \tAverage Loss: 0.002\n",
            "Round: 85... \tAverage Loss: 0.002\n",
            "Round: 85... \tAverage Loss: 0.002\n",
            "Round: 86... \tAverage Loss: 0.002\n",
            "Round: 86... \tAverage Loss: 0.002\n",
            "Round: 87... \tAverage Loss: 0.002\n",
            "Round: 87... \tAverage Loss: 0.002\n",
            "Round: 88... \tAverage Loss: 0.002\n",
            "Round: 88... \tAverage Loss: 0.002\n",
            "Round: 89... \tAverage Loss: 0.002\n",
            "Round: 89... \tAverage Loss: 0.002\n",
            "Round: 90... \tAverage Loss: 0.002\n",
            "Round: 90... \tAverage Loss: 0.002\n",
            "Round: 91... \tAverage Loss: 0.001\n",
            "Round: 91... \tAverage Loss: 0.001\n",
            "Round: 92... \tAverage Loss: 0.002\n",
            "Round: 92... \tAverage Loss: 0.002\n",
            "Round: 93... \tAverage Loss: 0.001\n",
            "Round: 93... \tAverage Loss: 0.001\n",
            "Round: 94... \tAverage Loss: 0.002\n",
            "Round: 94... \tAverage Loss: 0.002\n",
            "Round: 95... \tAverage Loss: 0.002\n",
            "Round: 95... \tAverage Loss: 0.002\n",
            "Round: 96... \tAverage Loss: 0.002\n",
            "Round: 96... \tAverage Loss: 0.002\n",
            "Round: 97... \tAverage Loss: 0.002\n",
            "Round: 97... \tAverage Loss: 0.002\n",
            "Round: 98... \tAverage Loss: 0.002\n",
            "Round: 98... \tAverage Loss: 0.002\n",
            "Round: 99... \tAverage Loss: 0.002\n",
            "Round: 99... \tAverage Loss: 0.002\n",
            "Round: 100... \tAverage Loss: 0.002\n",
            "Training Done!\n",
            "Total time taken to Train: 5007.352886676788\n",
            "Round: 100... \tAverage Loss: 0.002\n",
            "Training Done!\n",
            "Total time taken to Train: 5007.352886676788\n"
          ],
          "name": "stdout"
        },
        {
          "output_type": "display_data",
          "data": {
            "image/png": "[encoded data removed]",
            "text/plain": [
              "<Figure size 432x288 with 1 Axes>"
            ]
          },
          "metadata": {
            "tags": [],
            "needs_background": "light"
          }
        },
        {
          "output_type": "display_data",
          "data": {
            "image/png": "[encoded data removed]",
            "text/plain": [
              "<Figure size 432x288 with 1 Axes>"
            ]
          },
          "metadata": {
            "tags": [],
            "needs_background": "light"
          }
        }
      ]
    },
    {
      "cell_type": "markdown",
      "metadata": {
        "id": "MZHCP8WBnc2w"
      },
      "source": [
        "### Test"
      ]
    },
    {
      "cell_type": "code",
      "metadata": {
        "id": "E3uyndQYnc2w",
        "colab": {
          "base_uri": "https://localhost:8080/"
        },
        "outputId": "92c60984-be3a-4bf1-ee1b-ba643624f45e"
      },
      "source": [
        "criterion = nn.CrossEntropyLoss()\n",
        "testing(mnist_cnn_iid_trained, mnist_data_test, 128, criterion, num_classes, classes_test)"
      ],
      "execution_count": null,
      "outputs": [
        {
          "output_type": "stream",
          "text": [
            "Test Loss: 0.025946\n",
            "\n",
            "Test Accuracy of     0: 100% (76/76)\n",
            "Test Accuracy of     1: 98% (89/90)\n",
            "Test Accuracy of     2: 100% (91/91)\n",
            "Test Accuracy of     3: 97% (71/73)\n",
            "Test Accuracy of     4: 100% (89/89)\n",
            "Test Accuracy of     5: 98% (67/68)\n",
            "Test Accuracy of     6: 100% (62/62)\n",
            "Test Accuracy of     7: 100% (81/81)\n",
            "Test Accuracy of     8: 100% (77/77)\n",
            "Test Accuracy of     9: 98% (82/83)\n",
            "\n",
            "Final Test  Accuracy: 99.367 (785.0/790.0)\n"
          ],
          "name": "stdout"
        }
      ]
    },
    {
      "cell_type": "markdown",
      "metadata": {
        "id": "H5ers9xin2G5"
      },
      "source": [
        "## MNIST CNN on IID Local Updates = 50"
      ]
    },
    {
      "cell_type": "markdown",
      "metadata": {
        "id": "oRZIfuDUn2HL"
      },
      "source": [
        "### Train\n"
      ]
    },
    {
      "cell_type": "code",
      "metadata": {
        "id": "8A4M_qUXn2HM",
        "colab": {
          "base_uri": "https://localhost:8080/",
          "height": 1000
        },
        "outputId": "81343168-0d71-410f-aced-d1a98c8a7918"
      },
      "source": [
        "# number of training rounds\n",
        "rounds = 100 \n",
        "# client fraction\n",
        "C = 0.1\n",
        "# number of clients\n",
        "K = 100\n",
        "# number of training passes on local dataset for each roung\n",
        "E = 50\n",
        "# batch size\n",
        "batch_size = 10\n",
        "# learning Rate\n",
        "lr=0.01\n",
        "# data partition dictionary\n",
        "iid_dict = iid_partition(mnist_data_train, 100)\n",
        "# load model\n",
        "mnist_cnn = MNIST_CNN()\n",
        "\n",
        "if torch.cuda.is_available():\n",
        "  mnist_cnn.cuda()\n",
        "\n",
        "mnist_cnn_iid_trained = training(mnist_cnn, rounds, batch_size, lr, mnist_data_train, iid_dict, C, K, E, \"MNIST CNN on IID Dataset Local Updates = 50\", \"orange\")"
      ],
      "execution_count": null,
      "outputs": [
        {
          "output_type": "stream",
          "text": [
            "Round: 1... \tAverage Loss: 0.095\n",
            "Round: 2... \tAverage Loss: 0.016\n",
            "Round: 3... \tAverage Loss: 0.011\n",
            "Round: 4... \tAverage Loss: 0.009\n",
            "Round: 5... \tAverage Loss: 0.007\n",
            "Round: 6... \tAverage Loss: 0.006\n",
            "Round: 7... \tAverage Loss: 0.005\n",
            "Round: 8... \tAverage Loss: 0.006\n",
            "Round: 9... \tAverage Loss: 0.005\n",
            "Round: 10... \tAverage Loss: 0.004\n",
            "Round: 11... \tAverage Loss: 0.004\n",
            "Round: 12... \tAverage Loss: 0.004\n",
            "Round: 13... \tAverage Loss: 0.004\n",
            "Round: 14... \tAverage Loss: 0.004\n",
            "Round: 15... \tAverage Loss: 0.003\n",
            "Round: 16... \tAverage Loss: 0.004\n",
            "Round: 17... \tAverage Loss: 0.003\n",
            "Round: 18... \tAverage Loss: 0.002\n",
            "Round: 19... \tAverage Loss: 0.004\n",
            "Round: 20... \tAverage Loss: 0.003\n",
            "Round: 21... \tAverage Loss: 0.002\n",
            "Round: 22... \tAverage Loss: 0.003\n",
            "Round: 23... \tAverage Loss: 0.003\n",
            "Round: 24... \tAverage Loss: 0.003\n",
            "Round: 25... \tAverage Loss: 0.002\n",
            "Round: 26... \tAverage Loss: 0.002\n",
            "Round: 27... \tAverage Loss: 0.002\n",
            "Round: 28... \tAverage Loss: 0.002\n",
            "Round: 29... \tAverage Loss: 0.003\n",
            "Round: 30... \tAverage Loss: 0.001\n",
            "Round: 31... \tAverage Loss: 0.002\n",
            "Round: 32... \tAverage Loss: 0.002\n",
            "Round: 33... \tAverage Loss: 0.002\n",
            "Round: 34... \tAverage Loss: 0.002\n",
            "Round: 35... \tAverage Loss: 0.002\n",
            "Round: 36... \tAverage Loss: 0.002\n",
            "Round: 37... \tAverage Loss: 0.002\n",
            "Round: 38... \tAverage Loss: 0.002\n",
            "Round: 39... \tAverage Loss: 0.002\n",
            "Round: 40... \tAverage Loss: 0.002\n",
            "Round: 41... \tAverage Loss: 0.002\n",
            "Round: 42... \tAverage Loss: 0.001\n",
            "Round: 43... \tAverage Loss: 0.002\n",
            "Round: 44... \tAverage Loss: 0.001\n",
            "Round: 45... \tAverage Loss: 0.002\n",
            "Round: 46... \tAverage Loss: 0.002\n",
            "Round: 47... \tAverage Loss: 0.001\n",
            "Round: 48... \tAverage Loss: 0.002\n",
            "Round: 49... \tAverage Loss: 0.001\n",
            "Round: 50... \tAverage Loss: 0.002\n",
            "Round: 51... \tAverage Loss: 0.002\n",
            "Round: 52... \tAverage Loss: 0.001\n",
            "Round: 53... \tAverage Loss: 0.002\n",
            "Round: 54... \tAverage Loss: 0.002\n",
            "Round: 55... \tAverage Loss: 0.002\n",
            "Round: 56... \tAverage Loss: 0.002\n",
            "Round: 57... \tAverage Loss: 0.001\n",
            "Round: 58... \tAverage Loss: 0.001\n",
            "Round: 59... \tAverage Loss: 0.001\n",
            "Round: 60... \tAverage Loss: 0.001\n",
            "Round: 61... \tAverage Loss: 0.001\n",
            "Round: 62... \tAverage Loss: 0.001\n",
            "Round: 63... \tAverage Loss: 0.001\n",
            "Round: 64... \tAverage Loss: 0.002\n",
            "Round: 65... \tAverage Loss: 0.001\n",
            "Round: 66... \tAverage Loss: 0.001\n",
            "Round: 67... \tAverage Loss: 0.001\n",
            "Round: 68... \tAverage Loss: 0.001\n",
            "Round: 69... \tAverage Loss: 0.001\n",
            "Round: 70... \tAverage Loss: 0.001\n",
            "Round: 71... \tAverage Loss: 0.001\n",
            "Round: 72... \tAverage Loss: 0.001\n",
            "Round: 73... \tAverage Loss: 0.001\n",
            "Round: 74... \tAverage Loss: 0.001\n",
            "Round: 75... \tAverage Loss: 0.001\n",
            "Round: 76... \tAverage Loss: 0.001\n",
            "Round: 77... \tAverage Loss: 0.001\n",
            "Round: 78... \tAverage Loss: 0.002\n",
            "Round: 79... \tAverage Loss: 0.001\n",
            "Round: 80... \tAverage Loss: 0.001\n",
            "Round: 81... \tAverage Loss: 0.001\n",
            "Round: 82... \tAverage Loss: 0.001\n",
            "Round: 83... \tAverage Loss: 0.001\n",
            "Round: 84... \tAverage Loss: 0.001\n",
            "Round: 85... \tAverage Loss: 0.001\n",
            "Round: 86... \tAverage Loss: 0.001\n",
            "Round: 87... \tAverage Loss: 0.001\n",
            "Round: 88... \tAverage Loss: 0.001\n",
            "Round: 89... \tAverage Loss: 0.001\n",
            "Round: 90... \tAverage Loss: 0.001\n",
            "Round: 91... \tAverage Loss: 0.001\n",
            "Round: 92... \tAverage Loss: 0.001\n",
            "Round: 93... \tAverage Loss: 0.001\n",
            "Round: 94... \tAverage Loss: 0.001\n",
            "Round: 95... \tAverage Loss: 0.001\n",
            "Round: 96... \tAverage Loss: 0.001\n",
            "Round: 97... \tAverage Loss: 0.001\n",
            "Round: 98... \tAverage Loss: 0.001\n",
            "Round: 99... \tAverage Loss: 0.001\n",
            "Round: 100... \tAverage Loss: 0.001\n",
            "Training Done!\n",
            "Total time taken to Train: 10294.914163589478\n"
          ],
          "name": "stdout"
        },
        {
          "output_type": "display_data",
          "data": {
            "image/png": "[encoded data removed]",
            "text/plain": [
              "<Figure size 432x288 with 1 Axes>"
            ]
          },
          "metadata": {
            "tags": [],
            "needs_background": "light"
          }
        }
      ]
    },
    {
      "cell_type": "markdown",
      "metadata": {
        "id": "eNSwow5In2HM"
      },
      "source": [
        "### Test"
      ]
    },
    {
      "cell_type": "code",
      "metadata": {
        "id": "ZntMhMrQn2HN",
        "colab": {
          "base_uri": "https://localhost:8080/"
        },
        "outputId": "46d09044-098f-4eac-eb90-ac18d2359061"
      },
      "source": [
        "criterion = nn.CrossEntropyLoss() \n",
        "testing(mnist_cnn_iid_trained, mnist_data_test, 128, criterion, num_classes, classes_test)"
      ],
      "execution_count": null,
      "outputs": [
        {
          "output_type": "stream",
          "text": [
            "Test Loss: 0.027200\n",
            "\n",
            "Test Accuracy of     0: 100% (76/76)\n",
            "Test Accuracy of     1: 100% (90/90)\n",
            "Test Accuracy of     2: 100% (91/91)\n",
            "Test Accuracy of     3: 97% (71/73)\n",
            "Test Accuracy of     4: 100% (89/89)\n",
            "Test Accuracy of     5: 98% (67/68)\n",
            "Test Accuracy of     6: 98% (61/62)\n",
            "Test Accuracy of     7: 100% (81/81)\n",
            "Test Accuracy of     8: 100% (77/77)\n",
            "Test Accuracy of     9: 98% (82/83)\n",
            "\n",
            "Final Test  Accuracy: 99.367 (785.0/790.0)\n"
          ],
          "name": "stdout"
        }
      ]
    },
    {
      "cell_type": "markdown",
      "metadata": {
        "id": "RWcAb7WLnuIy"
      },
      "source": [
        "## **CNN Non IID**"
      ]
    },
    {
      "cell_type": "markdown",
      "metadata": {
        "id": "uF8MdSIUYcnl"
      },
      "source": [
        "## MNIST CNN on Non IID Local Updates = 1"
      ]
    },
    {
      "cell_type": "markdown",
      "metadata": {
        "id": "a6wXX7JW11bx"
      },
      "source": [
        "### Train\n"
      ]
    },
    {
      "cell_type": "code",
      "metadata": {
        "id": "fCD3kBCKYfBK",
        "colab": {
          "base_uri": "https://localhost:8080/",
          "height": 1000
        },
        "outputId": "ed7fe1fd-78ac-4d4f-8e26-85f67db5ff2d"
      },
      "source": [
        "# number of training rounds\n",
        "rounds = 100\n",
        "# client fraction\n",
        "C = 0.1\n",
        "# number of clients\n",
        "K = 100\n",
        "# number of training passes on local dataset for each roung\n",
        "E = 1\n",
        "# batch size\n",
        "batch_size = 10\n",
        "# learning Rate\n",
        "lr=0.01\n",
        "# dict containing different type of data partition\n",
        "data_dict = non_iid_partition(mnist_data_train, 100, 200, 300, 2)\n",
        "# load model\n",
        "mnist_cnn = MNIST_CNN()\n",
        "\n",
        "if torch.cuda.is_available():\n",
        "  mnist_cnn.cuda()\n",
        "\n",
        "mnist_cnn_non_iid_trained = training(mnist_cnn, rounds, batch_size, lr, mnist_data_train, data_dict, C, K, E, \"MNIST CNN on Non-IID Dataset Local Updates = 01\", \"green\")\n"
      ],
      "execution_count": null,
      "outputs": [
        {
          "output_type": "stream",
          "text": [
            "Round: 1... \tAverage Loss: 0.422\n",
            "Round: 2... \tAverage Loss: 0.251\n",
            "Round: 3... \tAverage Loss: 0.233\n",
            "Round: 4... \tAverage Loss: 0.151\n",
            "Round: 5... \tAverage Loss: 0.147\n",
            "Round: 6... \tAverage Loss: 0.109\n",
            "Round: 7... \tAverage Loss: 0.124\n",
            "Round: 8... \tAverage Loss: 0.097\n",
            "Round: 9... \tAverage Loss: 0.111\n",
            "Round: 10... \tAverage Loss: 0.074\n",
            "Round: 11... \tAverage Loss: 0.085\n",
            "Round: 12... \tAverage Loss: 0.056\n",
            "Round: 13... \tAverage Loss: 0.063\n",
            "Round: 14... \tAverage Loss: 0.078\n",
            "Round: 15... \tAverage Loss: 0.059\n",
            "Round: 16... \tAverage Loss: 0.05\n",
            "Round: 17... \tAverage Loss: 0.111\n",
            "Round: 18... \tAverage Loss: 0.089\n",
            "Round: 19... \tAverage Loss: 0.064\n",
            "Round: 20... \tAverage Loss: 0.062\n",
            "Round: 21... \tAverage Loss: 0.058\n",
            "Round: 22... \tAverage Loss: 0.053\n",
            "Round: 23... \tAverage Loss: 0.057\n",
            "Round: 24... \tAverage Loss: 0.061\n",
            "Round: 25... \tAverage Loss: 0.06\n",
            "Round: 26... \tAverage Loss: 0.045\n",
            "Round: 27... \tAverage Loss: 0.032\n",
            "Round: 28... \tAverage Loss: 0.039\n",
            "Round: 29... \tAverage Loss: 0.046\n",
            "Round: 30... \tAverage Loss: 0.046\n",
            "Round: 31... \tAverage Loss: 0.049\n",
            "Round: 32... \tAverage Loss: 0.052\n",
            "Round: 33... \tAverage Loss: 0.048\n",
            "Round: 34... \tAverage Loss: 0.057\n",
            "Round: 35... \tAverage Loss: 0.033\n",
            "Round: 36... \tAverage Loss: 0.062\n",
            "Round: 37... \tAverage Loss: 0.04\n",
            "Round: 38... \tAverage Loss: 0.049\n",
            "Round: 39... \tAverage Loss: 0.028\n",
            "Round: 40... \tAverage Loss: 0.043\n",
            "Round: 41... \tAverage Loss: 0.041\n",
            "Round: 42... \tAverage Loss: 0.053\n",
            "Round: 43... \tAverage Loss: 0.055\n",
            "Round: 44... \tAverage Loss: 0.044\n",
            "Round: 45... \tAverage Loss: 0.039\n",
            "Round: 46... \tAverage Loss: 0.037\n",
            "Round: 47... \tAverage Loss: 0.041\n",
            "Round: 48... \tAverage Loss: 0.047\n",
            "Round: 49... \tAverage Loss: 0.041\n",
            "Round: 50... \tAverage Loss: 0.048\n",
            "Round: 51... \tAverage Loss: 0.043\n",
            "Round: 52... \tAverage Loss: 0.038\n",
            "Round: 53... \tAverage Loss: 0.039\n",
            "Round: 54... \tAverage Loss: 0.045\n",
            "Round: 55... \tAverage Loss: 0.036\n",
            "Round: 56... \tAverage Loss: 0.037\n",
            "Round: 57... \tAverage Loss: 0.02\n",
            "Round: 58... \tAverage Loss: 0.033\n",
            "Round: 59... \tAverage Loss: 0.05\n",
            "Round: 60... \tAverage Loss: 0.036\n",
            "Round: 61... \tAverage Loss: 0.032\n",
            "Round: 62... \tAverage Loss: 0.045\n",
            "Round: 63... \tAverage Loss: 0.024\n",
            "Round: 64... \tAverage Loss: 0.027\n",
            "Round: 65... \tAverage Loss: 0.03\n",
            "Round: 66... \tAverage Loss: 0.034\n",
            "Round: 67... \tAverage Loss: 0.028\n",
            "Round: 68... \tAverage Loss: 0.028\n",
            "Round: 69... \tAverage Loss: 0.033\n",
            "Round: 70... \tAverage Loss: 0.027\n",
            "Round: 71... \tAverage Loss: 0.029\n",
            "Round: 72... \tAverage Loss: 0.029\n",
            "Round: 73... \tAverage Loss: 0.018\n",
            "Round: 74... \tAverage Loss: 0.025\n",
            "Round: 75... \tAverage Loss: 0.031\n",
            "Round: 76... \tAverage Loss: 0.037\n",
            "Round: 77... \tAverage Loss: 0.028\n",
            "Round: 78... \tAverage Loss: 0.032\n",
            "Round: 79... \tAverage Loss: 0.045\n",
            "Round: 80... \tAverage Loss: 0.032\n",
            "Round: 81... \tAverage Loss: 0.022\n",
            "Round: 82... \tAverage Loss: 0.031\n",
            "Round: 83... \tAverage Loss: 0.026\n",
            "Round: 84... \tAverage Loss: 0.046\n",
            "Round: 85... \tAverage Loss: 0.026\n",
            "Round: 86... \tAverage Loss: 0.033\n",
            "Round: 87... \tAverage Loss: 0.027\n",
            "Round: 88... \tAverage Loss: 0.03\n",
            "Round: 89... \tAverage Loss: 0.028\n",
            "Round: 90... \tAverage Loss: 0.025\n",
            "Round: 91... \tAverage Loss: 0.029\n",
            "Round: 92... \tAverage Loss: 0.03\n",
            "Round: 93... \tAverage Loss: 0.02\n",
            "Round: 94... \tAverage Loss: 0.016\n",
            "Round: 95... \tAverage Loss: 0.023\n",
            "Round: 96... \tAverage Loss: 0.017\n",
            "Round: 97... \tAverage Loss: 0.033\n",
            "Round: 98... \tAverage Loss: 0.034\n",
            "Round: 99... \tAverage Loss: 0.029\n",
            "Round: 100... \tAverage Loss: 0.028\n",
            "Training Done!\n",
            "Total time taken to Train: 207.3027172088623\n"
          ],
          "name": "stdout"
        },
        {
          "output_type": "display_data",
          "data": {
            "image/png": "[encoded data removed]",
            "text/plain": [
              "<Figure size 432x288 with 1 Axes>"
            ]
          },
          "metadata": {
            "tags": [],
            "needs_background": "light"
          }
        }
      ]
    },
    {
      "cell_type": "markdown",
      "metadata": {
        "id": "4C68J-Kk14dB"
      },
      "source": [
        "### Test"
      ]
    },
    {
      "cell_type": "code",
      "metadata": {
        "id": "_yQ9GiAZ15jE",
        "colab": {
          "base_uri": "https://localhost:8080/"
        },
        "outputId": "a7f50871-7921-47bd-ef31-0d080a29ba00"
      },
      "source": [
        "criterion = nn.CrossEntropyLoss()\n",
        "testing(mnist_cnn_non_iid_trained, mnist_data_test, 128, criterion, num_classes, classes_test)"
      ],
      "execution_count": null,
      "outputs": [
        {
          "output_type": "stream",
          "text": [
            "Test Loss: 0.068638\n",
            "\n",
            "Test Accuracy of     0: 100% (76/76)\n",
            "Test Accuracy of     1: 97% (88/90)\n",
            "Test Accuracy of     2: 97% (89/91)\n",
            "Test Accuracy of     3: 95% (70/73)\n",
            "Test Accuracy of     4: 100% (89/89)\n",
            "Test Accuracy of     5: 98% (67/68)\n",
            "Test Accuracy of     6: 98% (61/62)\n",
            "Test Accuracy of     7: 92% (75/81)\n",
            "Test Accuracy of     8: 98% (76/77)\n",
            "Test Accuracy of     9: 97% (81/83)\n",
            "\n",
            "Final Test  Accuracy: 97.722 (772.0/790.0)\n"
          ],
          "name": "stdout"
        }
      ]
    },
    {
      "cell_type": "markdown",
      "metadata": {
        "id": "fuh-G7aDpVhN"
      },
      "source": [
        "## MNIST CNN on Non IID Local Updates = 5"
      ]
    },
    {
      "cell_type": "markdown",
      "metadata": {
        "id": "aONXTtYVpVhO"
      },
      "source": [
        "### Train\n"
      ]
    },
    {
      "cell_type": "code",
      "metadata": {
        "colab": {
          "base_uri": "https://localhost:8080/",
          "height": 1000
        },
        "id": "fsbNPi8PpVhO",
        "outputId": "1854308d-49b1-4b72-e84a-579672c63645"
      },
      "source": [
        "# number of training rounds\n",
        "rounds = 100\n",
        "# client fraction\n",
        "C = 0.1\n",
        "# number of clients\n",
        "K = 100\n",
        "# number of training passes on local dataset for each roung\n",
        "E = 5\n",
        "# batch size\n",
        "batch_size = 10\n",
        "# learning Rate\n",
        "lr=0.01\n",
        "# dict containing different type of data partition\n",
        "data_dict = non_iid_partition(mnist_data_train, 100, 200, 300, 2)\n",
        "# load model\n",
        "mnist_cnn = MNIST_CNN()\n",
        "\n",
        "if torch.cuda.is_available():\n",
        "  mnist_cnn.cuda()\n",
        "\n",
        "mnist_cnn_non_iid_trained = training(mnist_cnn, rounds, batch_size, lr, mnist_data_train, data_dict, C, K, E, \"MNIST CNN on Non-IID Dataset Local Updates = 05\", \"green\")\n"
      ],
      "execution_count": null,
      "outputs": [
        {
          "output_type": "stream",
          "text": [
            "Round: 1... \tAverage Loss: 0.105\n",
            "Round: 2... \tAverage Loss: 0.076\n",
            "Round: 3... \tAverage Loss: 0.061\n",
            "Round: 4... \tAverage Loss: 0.048\n",
            "Round: 5... \tAverage Loss: 0.039\n",
            "Round: 6... \tAverage Loss: 0.03\n",
            "Round: 7... \tAverage Loss: 0.035\n",
            "Round: 8... \tAverage Loss: 0.025\n",
            "Round: 9... \tAverage Loss: 0.021\n",
            "Round: 10... \tAverage Loss: 0.012\n",
            "Round: 11... \tAverage Loss: 0.03\n",
            "Round: 12... \tAverage Loss: 0.019\n",
            "Round: 13... \tAverage Loss: 0.018\n",
            "Round: 14... \tAverage Loss: 0.021\n",
            "Round: 15... \tAverage Loss: 0.012\n",
            "Round: 16... \tAverage Loss: 0.012\n",
            "Round: 17... \tAverage Loss: 0.014\n",
            "Round: 18... \tAverage Loss: 0.014\n",
            "Round: 19... \tAverage Loss: 0.015\n",
            "Round: 20... \tAverage Loss: 0.013\n",
            "Round: 21... \tAverage Loss: 0.011\n",
            "Round: 22... \tAverage Loss: 0.01\n",
            "Round: 23... \tAverage Loss: 0.012\n",
            "Round: 24... \tAverage Loss: 0.008\n",
            "Round: 25... \tAverage Loss: 0.012\n",
            "Round: 26... \tAverage Loss: 0.009\n",
            "Round: 27... \tAverage Loss: 0.007\n",
            "Round: 28... \tAverage Loss: 0.006\n",
            "Round: 29... \tAverage Loss: 0.009\n",
            "Round: 30... \tAverage Loss: 0.016\n",
            "Round: 31... \tAverage Loss: 0.006\n",
            "Round: 32... \tAverage Loss: 0.016\n",
            "Round: 33... \tAverage Loss: 0.015\n",
            "Round: 34... \tAverage Loss: 0.008\n",
            "Round: 35... \tAverage Loss: 0.012\n",
            "Round: 36... \tAverage Loss: 0.012\n",
            "Round: 37... \tAverage Loss: 0.01\n",
            "Round: 38... \tAverage Loss: 0.008\n",
            "Round: 39... \tAverage Loss: 0.011\n",
            "Round: 40... \tAverage Loss: 0.013\n",
            "Round: 41... \tAverage Loss: 0.009\n",
            "Round: 42... \tAverage Loss: 0.007\n",
            "Round: 43... \tAverage Loss: 0.01\n",
            "Round: 44... \tAverage Loss: 0.007\n",
            "Round: 45... \tAverage Loss: 0.01\n",
            "Round: 46... \tAverage Loss: 0.009\n",
            "Round: 47... \tAverage Loss: 0.011\n",
            "Round: 48... \tAverage Loss: 0.013\n",
            "Round: 49... \tAverage Loss: 0.012\n",
            "Round: 50... \tAverage Loss: 0.005\n",
            "Round: 51... \tAverage Loss: 0.008\n",
            "Round: 52... \tAverage Loss: 0.01\n",
            "Round: 53... \tAverage Loss: 0.007\n",
            "Round: 54... \tAverage Loss: 0.008\n",
            "Round: 55... \tAverage Loss: 0.007\n",
            "Round: 56... \tAverage Loss: 0.006\n",
            "Round: 57... \tAverage Loss: 0.004\n",
            "Round: 58... \tAverage Loss: 0.008\n",
            "Round: 59... \tAverage Loss: 0.006\n",
            "Round: 60... \tAverage Loss: 0.007\n",
            "Round: 61... \tAverage Loss: 0.006\n",
            "Round: 62... \tAverage Loss: 0.011\n",
            "Round: 63... \tAverage Loss: 0.007\n",
            "Round: 64... \tAverage Loss: 0.004\n",
            "Round: 65... \tAverage Loss: 0.006\n",
            "Round: 66... \tAverage Loss: 0.004\n",
            "Round: 67... \tAverage Loss: 0.01\n",
            "Round: 68... \tAverage Loss: 0.006\n",
            "Round: 69... \tAverage Loss: 0.005\n",
            "Round: 70... \tAverage Loss: 0.007\n",
            "Round: 71... \tAverage Loss: 0.008\n",
            "Round: 72... \tAverage Loss: 0.008\n",
            "Round: 73... \tAverage Loss: 0.008\n",
            "Round: 74... \tAverage Loss: 0.008\n",
            "Round: 75... \tAverage Loss: 0.006\n",
            "Round: 76... \tAverage Loss: 0.004\n",
            "Round: 77... \tAverage Loss: 0.006\n",
            "Round: 78... \tAverage Loss: 0.005\n",
            "Round: 79... \tAverage Loss: 0.01\n",
            "Round: 80... \tAverage Loss: 0.006\n",
            "Round: 81... \tAverage Loss: 0.01\n",
            "Round: 82... \tAverage Loss: 0.006\n",
            "Round: 83... \tAverage Loss: 0.005\n",
            "Round: 84... \tAverage Loss: 0.006\n",
            "Round: 85... \tAverage Loss: 0.006\n",
            "Round: 86... \tAverage Loss: 0.004\n",
            "Round: 87... \tAverage Loss: 0.007\n",
            "Round: 88... \tAverage Loss: 0.006\n",
            "Round: 89... \tAverage Loss: 0.008\n",
            "Round: 90... \tAverage Loss: 0.008\n",
            "Round: 91... \tAverage Loss: 0.007\n",
            "Round: 92... \tAverage Loss: 0.003\n",
            "Round: 93... \tAverage Loss: 0.007\n",
            "Round: 94... \tAverage Loss: 0.009\n",
            "Round: 95... \tAverage Loss: 0.006\n",
            "Round: 96... \tAverage Loss: 0.008\n",
            "Round: 97... \tAverage Loss: 0.004\n",
            "Round: 98... \tAverage Loss: 0.008\n",
            "Round: 99... \tAverage Loss: 0.003\n",
            "Round: 100... \tAverage Loss: 0.007\n",
            "Training Done!\n",
            "Total time taken to Train: 1026.1751725673676\n"
          ],
          "name": "stdout"
        },
        {
          "output_type": "display_data",
          "data": {
            "image/png": "[encoded data removed]",
            "text/plain": [
              "<Figure size 432x288 with 1 Axes>"
            ]
          },
          "metadata": {
            "tags": [],
            "needs_background": "light"
          }
        }
      ]
    },
    {
      "cell_type": "markdown",
      "metadata": {
        "id": "upCix-CkpVhO"
      },
      "source": [
        "### Test"
      ]
    },
    {
      "cell_type": "code",
      "metadata": {
        "colab": {
          "base_uri": "https://localhost:8080/"
        },
        "id": "v3C71697pVhO",
        "outputId": "196db800-4d62-47f8-a975-f59bdf4b2e34"
      },
      "source": [
        "criterion = nn.CrossEntropyLoss()\n",
        "testing(mnist_cnn_non_iid_trained, mnist_data_test, 128, criterion, num_classes, classes_test)"
      ],
      "execution_count": null,
      "outputs": [
        {
          "output_type": "stream",
          "text": [
            "Test Loss: 0.045992\n",
            "\n",
            "Test Accuracy of     0: 98% (75/76)\n",
            "Test Accuracy of     1: 96% (87/90)\n",
            "Test Accuracy of     2: 100% (91/91)\n",
            "Test Accuracy of     3: 94% (69/73)\n",
            "Test Accuracy of     4: 100% (89/89)\n",
            "Test Accuracy of     5: 98% (67/68)\n",
            "Test Accuracy of     6: 100% (62/62)\n",
            "Test Accuracy of     7: 100% (81/81)\n",
            "Test Accuracy of     8: 98% (76/77)\n",
            "Test Accuracy of     9: 98% (82/83)\n",
            "\n",
            "Final Test  Accuracy: 98.608 (779.0/790.0)\n"
          ],
          "name": "stdout"
        }
      ]
    },
    {
      "cell_type": "markdown",
      "metadata": {
        "id": "IXEzPHTfpUWL"
      },
      "source": [
        "## MNIST CNN on Non IID Local Updates = 10"
      ]
    },
    {
      "cell_type": "markdown",
      "metadata": {
        "id": "q-3s6PLtpUWN"
      },
      "source": [
        "### Train\n"
      ]
    },
    {
      "cell_type": "code",
      "metadata": {
        "colab": {
          "base_uri": "https://localhost:8080/",
          "height": 1000
        },
        "id": "uSWW5-kppUWO",
        "outputId": "ef903013-448f-4030-b444-4cb0a73d5c95"
      },
      "source": [
        "# number of training rounds\n",
        "rounds = 100\n",
        "# client fraction\n",
        "C = 0.1\n",
        "# number of clients\n",
        "K = 100\n",
        "# number of training passes on local dataset for each roung\n",
        "E = 10\n",
        "# batch size\n",
        "batch_size = 10\n",
        "# learning Rate\n",
        "lr=0.01\n",
        "# dict containing different type of data partition\n",
        "data_dict = non_iid_partition(mnist_data_train, 100, 200, 300, 2)\n",
        "# load model\n",
        "mnist_cnn = MNIST_CNN()\n",
        " \n",
        "if torch.cuda.is_available():\n",
        "  mnist_cnn.cuda()\n",
        "\n",
        "mnist_cnn_non_iid_trained = training(mnist_cnn, rounds, batch_size, lr, mnist_data_train, data_dict, C, K, E, \"MNIST CNN on Non-IID Dataset Local Updates = 10\", \"green\")\n"
      ],
      "execution_count": null,
      "outputs": [
        {
          "output_type": "stream",
          "text": [
            "Round: 1... \tAverage Loss: 0.068\n",
            "Round: 2... \tAverage Loss: 0.047\n",
            "Round: 3... \tAverage Loss: 0.026\n",
            "Round: 4... \tAverage Loss: 0.028\n",
            "Round: 5... \tAverage Loss: 0.024\n",
            "Round: 6... \tAverage Loss: 0.017\n",
            "Round: 7... \tAverage Loss: 0.008\n",
            "Round: 8... \tAverage Loss: 0.017\n",
            "Round: 9... \tAverage Loss: 0.014\n",
            "Round: 10... \tAverage Loss: 0.005\n",
            "Round: 11... \tAverage Loss: 0.008\n",
            "Round: 12... \tAverage Loss: 0.011\n",
            "Round: 13... \tAverage Loss: 0.008\n",
            "Round: 14... \tAverage Loss: 0.01\n",
            "Round: 15... \tAverage Loss: 0.008\n",
            "Round: 16... \tAverage Loss: 0.008\n",
            "Round: 17... \tAverage Loss: 0.007\n",
            "Round: 18... \tAverage Loss: 0.012\n",
            "Round: 19... \tAverage Loss: 0.008\n",
            "Round: 20... \tAverage Loss: 0.009\n",
            "Round: 21... \tAverage Loss: 0.006\n",
            "Round: 22... \tAverage Loss: 0.008\n",
            "Round: 23... \tAverage Loss: 0.006\n",
            "Round: 24... \tAverage Loss: 0.01\n",
            "Round: 25... \tAverage Loss: 0.01\n",
            "Round: 26... \tAverage Loss: 0.005\n",
            "Round: 27... \tAverage Loss: 0.006\n",
            "Round: 28... \tAverage Loss: 0.006\n",
            "Round: 29... \tAverage Loss: 0.004\n",
            "Round: 30... \tAverage Loss: 0.004\n",
            "Round: 31... \tAverage Loss: 0.007\n",
            "Round: 32... \tAverage Loss: 0.004\n",
            "Round: 33... \tAverage Loss: 0.004\n",
            "Round: 34... \tAverage Loss: 0.004\n",
            "Round: 35... \tAverage Loss: 0.005\n",
            "Round: 36... \tAverage Loss: 0.005\n",
            "Round: 37... \tAverage Loss: 0.003\n",
            "Round: 38... \tAverage Loss: 0.004\n",
            "Round: 39... \tAverage Loss: 0.003\n",
            "Round: 40... \tAverage Loss: 0.004\n",
            "Round: 41... \tAverage Loss: 0.006\n",
            "Round: 42... \tAverage Loss: 0.005\n",
            "Round: 43... \tAverage Loss: 0.006\n",
            "Round: 44... \tAverage Loss: 0.007\n",
            "Round: 45... \tAverage Loss: 0.004\n",
            "Round: 46... \tAverage Loss: 0.006\n",
            "Round: 47... \tAverage Loss: 0.003\n",
            "Round: 48... \tAverage Loss: 0.005\n",
            "Round: 49... \tAverage Loss: 0.005\n",
            "Round: 50... \tAverage Loss: 0.006\n",
            "Round: 51... \tAverage Loss: 0.006\n",
            "Round: 52... \tAverage Loss: 0.003\n",
            "Round: 53... \tAverage Loss: 0.005\n",
            "Round: 54... \tAverage Loss: 0.004\n",
            "Round: 55... \tAverage Loss: 0.003\n",
            "Round: 56... \tAverage Loss: 0.002\n",
            "Round: 57... \tAverage Loss: 0.003\n",
            "Round: 58... \tAverage Loss: 0.006\n",
            "Round: 59... \tAverage Loss: 0.004\n",
            "Round: 60... \tAverage Loss: 0.003\n",
            "Round: 61... \tAverage Loss: 0.006\n",
            "Round: 62... \tAverage Loss: 0.006\n",
            "Round: 63... \tAverage Loss: 0.004\n",
            "Round: 64... \tAverage Loss: 0.004\n",
            "Round: 65... \tAverage Loss: 0.005\n",
            "Round: 66... \tAverage Loss: 0.004\n",
            "Round: 67... \tAverage Loss: 0.003\n",
            "Round: 68... \tAverage Loss: 0.005\n",
            "Round: 69... \tAverage Loss: 0.003\n",
            "Round: 70... \tAverage Loss: 0.003\n",
            "Round: 71... \tAverage Loss: 0.002\n",
            "Round: 72... \tAverage Loss: 0.004\n",
            "Round: 73... \tAverage Loss: 0.004\n",
            "Round: 74... \tAverage Loss: 0.004\n",
            "Round: 75... \tAverage Loss: 0.003\n",
            "Round: 76... \tAverage Loss: 0.002\n",
            "Round: 77... \tAverage Loss: 0.003\n",
            "Round: 78... \tAverage Loss: 0.004\n",
            "Round: 79... \tAverage Loss: 0.002\n",
            "Round: 80... \tAverage Loss: 0.005\n",
            "Round: 81... \tAverage Loss: 0.002\n",
            "Round: 82... \tAverage Loss: 0.003\n",
            "Round: 83... \tAverage Loss: 0.002\n",
            "Round: 84... \tAverage Loss: 0.002\n",
            "Round: 85... \tAverage Loss: 0.001\n",
            "Round: 86... \tAverage Loss: 0.003\n",
            "Round: 87... \tAverage Loss: 0.003\n",
            "Round: 88... \tAverage Loss: 0.004\n",
            "Round: 89... \tAverage Loss: 0.004\n",
            "Round: 90... \tAverage Loss: 0.003\n",
            "Round: 91... \tAverage Loss: 0.002\n",
            "Round: 92... \tAverage Loss: 0.004\n",
            "Round: 93... \tAverage Loss: 0.002\n",
            "Round: 94... \tAverage Loss: 0.002\n",
            "Round: 95... \tAverage Loss: 0.003\n",
            "Round: 96... \tAverage Loss: 0.002\n",
            "Round: 97... \tAverage Loss: 0.003\n",
            "Round: 98... \tAverage Loss: 0.002\n",
            "Round: 99... \tAverage Loss: 0.002\n",
            "Round: 100... \tAverage Loss: 0.002\n",
            "Training Done!\n",
            "Total time taken to Train: 2064.9649333953857\n"
          ],
          "name": "stdout"
        },
        {
          "output_type": "display_data",
          "data": {
            "image/png": "[encoded data removed]",
            "text/plain": [
              "<Figure size 432x288 with 1 Axes>"
            ]
          },
          "metadata": {
            "tags": [],
            "needs_background": "light"
          }
        }
      ]
    },
    {
      "cell_type": "markdown",
      "metadata": {
        "id": "IX8tMkywpUWQ"
      },
      "source": [
        "### Test"
      ]
    },
    {
      "cell_type": "code",
      "metadata": {
        "colab": {
          "base_uri": "https://localhost:8080/"
        },
        "id": "41lKy59cpUWR",
        "outputId": "45b322cc-35fa-4bd6-a56b-74f9695b1393"
      },
      "source": [
        "criterion = nn.CrossEntropyLoss() \n",
        "testing(mnist_cnn_non_iid_trained, mnist_data_test, 128, criterion, num_classes, classes_test)"
      ],
      "execution_count": null,
      "outputs": [
        {
          "output_type": "stream",
          "text": [
            "Test Loss: 0.047835\n",
            "\n",
            "Test Accuracy of     0: 100% (76/76)\n",
            "Test Accuracy of     1: 98% (89/90)\n",
            "Test Accuracy of     2: 98% (90/91)\n",
            "Test Accuracy of     3: 98% (72/73)\n",
            "Test Accuracy of     4: 98% (88/89)\n",
            "Test Accuracy of     5: 98% (67/68)\n",
            "Test Accuracy of     6: 98% (61/62)\n",
            "Test Accuracy of     7: 100% (81/81)\n",
            "Test Accuracy of     8: 100% (77/77)\n",
            "Test Accuracy of     9: 95% (79/83)\n",
            "\n",
            "Final Test  Accuracy: 98.734 (780.0/790.0)\n"
          ],
          "name": "stdout"
        }
      ]
    },
    {
      "cell_type": "markdown",
      "metadata": {
        "id": "gMRdkWkdpmz2"
      },
      "source": [
        "## MNIST CNN on Non IID Local Updates = 25"
      ]
    },
    {
      "cell_type": "markdown",
      "metadata": {
        "id": "lpWtieHopm0c"
      },
      "source": [
        "### Train\n"
      ]
    },
    {
      "cell_type": "code",
      "metadata": {
        "colab": {
          "base_uri": "https://localhost:8080/",
          "height": 1000
        },
        "id": "FB6xrMHLpm0d",
        "outputId": "10569a81-1823-459d-9e51-66db85c299ba"
      },
      "source": [
        "# number of training rounds\n",
        "rounds = 100\n",
        "# client fraction\n",
        "C = 0.1\n",
        "# number of clients\n",
        "K = 100\n",
        "# number of training passes on local dataset for each roung\n",
        "E = 25\n",
        "# batch size\n",
        "batch_size = 10\n",
        "# learning Rate\n",
        "lr=0.01\n",
        "# dict containing different type of data partition\n",
        "data_dict = non_iid_partition(mnist_data_train, 100, 200, 300, 2)\n",
        "# load model\n",
        "mnist_cnn = MNIST_CNN()\n",
        "\n",
        "if torch.cuda.is_available():\n",
        "  mnist_cnn.cuda()\n",
        "\n",
        "mnist_cnn_non_iid_trained = training(mnist_cnn, rounds, batch_size, lr, mnist_data_train, data_dict, C, K, E, \"MNIST CNN on Non-IID Dataset Local Updates = 25\", \"green\")"
      ],
      "execution_count": null,
      "outputs": [
        {
          "output_type": "stream",
          "text": [
            "Round: 1... \tAverage Loss: 0.032\n",
            "Round: 2... \tAverage Loss: 0.016\n",
            "Round: 3... \tAverage Loss: 0.009\n",
            "Round: 4... \tAverage Loss: 0.012\n",
            "Round: 5... \tAverage Loss: 0.007\n",
            "Round: 6... \tAverage Loss: 0.005\n",
            "Round: 7... \tAverage Loss: 0.006\n",
            "Round: 8... \tAverage Loss: 0.005\n",
            "Round: 9... \tAverage Loss: 0.005\n",
            "Round: 10... \tAverage Loss: 0.003\n",
            "Round: 11... \tAverage Loss: 0.007\n",
            "Round: 12... \tAverage Loss: 0.004\n",
            "Round: 13... \tAverage Loss: 0.005\n",
            "Round: 14... \tAverage Loss: 0.004\n",
            "Round: 15... \tAverage Loss: 0.005\n",
            "Round: 16... \tAverage Loss: 0.004\n",
            "Round: 17... \tAverage Loss: 0.003\n",
            "Round: 18... \tAverage Loss: 0.002\n",
            "Round: 19... \tAverage Loss: 0.003\n",
            "Round: 20... \tAverage Loss: 0.002\n",
            "Round: 21... \tAverage Loss: 0.005\n",
            "Round: 22... \tAverage Loss: 0.003\n",
            "Round: 23... \tAverage Loss: 0.002\n",
            "Round: 24... \tAverage Loss: 0.003\n",
            "Round: 25... \tAverage Loss: 0.004\n",
            "Round: 26... \tAverage Loss: 0.003\n",
            "Round: 27... \tAverage Loss: 0.002\n",
            "Round: 28... \tAverage Loss: 0.003\n",
            "Round: 29... \tAverage Loss: 0.001\n",
            "Round: 30... \tAverage Loss: 0.001\n",
            "Round: 31... \tAverage Loss: 0.002\n",
            "Round: 32... \tAverage Loss: 0.003\n",
            "Round: 33... \tAverage Loss: 0.002\n",
            "Round: 34... \tAverage Loss: 0.003\n",
            "Round: 35... \tAverage Loss: 0.002\n",
            "Round: 36... \tAverage Loss: 0.003\n",
            "Round: 37... \tAverage Loss: 0.002\n",
            "Round: 38... \tAverage Loss: 0.002\n",
            "Round: 39... \tAverage Loss: 0.002\n",
            "Round: 40... \tAverage Loss: 0.002\n",
            "Round: 41... \tAverage Loss: 0.002\n",
            "Round: 42... \tAverage Loss: 0.003\n",
            "Round: 43... \tAverage Loss: 0.002\n",
            "Round: 44... \tAverage Loss: 0.002\n",
            "Round: 45... \tAverage Loss: 0.003\n",
            "Round: 46... \tAverage Loss: 0.002\n",
            "Round: 47... \tAverage Loss: 0.002\n",
            "Round: 48... \tAverage Loss: 0.002\n",
            "Round: 49... \tAverage Loss: 0.002\n",
            "Round: 50... \tAverage Loss: 0.001\n",
            "Round: 51... \tAverage Loss: 0.002\n",
            "Round: 52... \tAverage Loss: 0.001\n",
            "Round: 53... \tAverage Loss: 0.001\n",
            "Round: 54... \tAverage Loss: 0.002\n",
            "Round: 55... \tAverage Loss: 0.002\n",
            "Round: 56... \tAverage Loss: 0.002\n",
            "Round: 57... \tAverage Loss: 0.001\n",
            "Round: 58... \tAverage Loss: 0.002\n",
            "Round: 59... \tAverage Loss: 0.001\n",
            "Round: 60... \tAverage Loss: 0.001\n",
            "Round: 61... \tAverage Loss: 0.001\n",
            "Round: 62... \tAverage Loss: 0.002\n",
            "Round: 63... \tAverage Loss: 0.002\n",
            "Round: 64... \tAverage Loss: 0.001\n",
            "Round: 65... \tAverage Loss: 0.001\n",
            "Round: 66... \tAverage Loss: 0.002\n",
            "Round: 67... \tAverage Loss: 0.002\n",
            "Round: 68... \tAverage Loss: 0.001\n",
            "Round: 69... \tAverage Loss: 0.001\n",
            "Round: 70... \tAverage Loss: 0.002\n",
            "Round: 71... \tAverage Loss: 0.001\n",
            "Round: 72... \tAverage Loss: 0.001\n",
            "Round: 73... \tAverage Loss: 0.001\n",
            "Round: 74... \tAverage Loss: 0.001\n",
            "Round: 75... \tAverage Loss: 0.001\n",
            "Round: 76... \tAverage Loss: 0.001\n",
            "Round: 77... \tAverage Loss: 0.001\n",
            "Round: 78... \tAverage Loss: 0.001\n",
            "Round: 79... \tAverage Loss: 0.001\n",
            "Round: 80... \tAverage Loss: 0.001\n",
            "Round: 81... \tAverage Loss: 0.001\n",
            "Round: 82... \tAverage Loss: 0.001\n",
            "Round: 83... \tAverage Loss: 0.001\n",
            "Round: 84... \tAverage Loss: 0.001\n",
            "Round: 85... \tAverage Loss: 0.001\n",
            "Round: 86... \tAverage Loss: 0.001\n",
            "Round: 87... \tAverage Loss: 0.001\n",
            "Round: 88... \tAverage Loss: 0.001\n",
            "Round: 89... \tAverage Loss: 0.001\n",
            "Round: 90... \tAverage Loss: 0.001\n",
            "Round: 91... \tAverage Loss: 0.001\n",
            "Round: 92... \tAverage Loss: 0.001\n",
            "Round: 93... \tAverage Loss: 0.001\n",
            "Round: 94... \tAverage Loss: 0.001\n",
            "Round: 95... \tAverage Loss: 0.001\n",
            "Round: 96... \tAverage Loss: 0.001\n",
            "Round: 97... \tAverage Loss: 0.001\n",
            "Round: 98... \tAverage Loss: 0.002\n",
            "Round: 99... \tAverage Loss: 0.001\n",
            "Round: 100... \tAverage Loss: 0.001\n",
            "Training Done!\n",
            "Total time taken to Train: 5059.228768825531\n"
          ],
          "name": "stdout"
        },
        {
          "output_type": "display_data",
          "data": {
            "image/png": "[encoded data removed]",
            "text/plain": [
              "<Figure size 432x288 with 1 Axes>"
            ]
          },
          "metadata": {
            "tags": [],
            "needs_background": "light"
          }
        }
      ]
    },
    {
      "cell_type": "markdown",
      "metadata": {
        "id": "TyCffz9Upm0e"
      },
      "source": [
        "### Test"
      ]
    },
    {
      "cell_type": "code",
      "metadata": {
        "colab": {
          "base_uri": "https://localhost:8080/"
        },
        "id": "5BYgh-7Opm0f",
        "outputId": "fda8a874-45ce-4142-8848-feb6d330b8e8"
      },
      "source": [
        "criterion = nn.CrossEntropyLoss()\n",
        "testing(mnist_cnn_non_iid_trained, mnist_data_test, 128, criterion, num_classes, classes_test)"
      ],
      "execution_count": null,
      "outputs": [
        {
          "output_type": "stream",
          "text": [
            "Test Loss: 0.044411\n",
            "\n",
            "Test Accuracy of     0: 100% (76/76)\n",
            "Test Accuracy of     1: 98% (89/90)\n",
            "Test Accuracy of     2: 100% (91/91)\n",
            "Test Accuracy of     3: 97% (71/73)\n",
            "Test Accuracy of     4: 100% (89/89)\n",
            "Test Accuracy of     5: 97% (66/68)\n",
            "Test Accuracy of     6: 100% (62/62)\n",
            "Test Accuracy of     7: 100% (81/81)\n",
            "Test Accuracy of     8: 100% (77/77)\n",
            "Test Accuracy of     9: 98% (82/83)\n",
            "\n",
            "Final Test  Accuracy: 99.241 (784.0/790.0)\n"
          ],
          "name": "stdout"
        }
      ]
    },
    {
      "cell_type": "markdown",
      "metadata": {
        "id": "eaor3o2zpngq"
      },
      "source": [
        "## MNIST CNN on Non IID Local Updates = 50"
      ]
    },
    {
      "cell_type": "markdown",
      "metadata": {
        "id": "T9dEMJgxpngs"
      },
      "source": [
        "### Train\n"
      ]
    },
    {
      "cell_type": "code",
      "metadata": {
        "id": "WWFmFghvpngt"
      },
      "source": [
        "# number of training rounds\n",
        "rounds = 100\n",
        "# client fraction\n",
        "C = 0.1\n",
        "# number of clients\n",
        "K = 100\n",
        "# number of training passes on local dataset for each roung\n",
        "E = 50\n",
        "# batch size\n",
        "batch_size = 10\n",
        "# learning Rate\n",
        "lr=0.01\n",
        "# dict containing different type of data partition\n",
        "data_dict = non_iid_partition(mnist_data_train, 100, 200, 300, 2)\n",
        "# load model\n",
        "mnist_cnn = MNIST_CNN()\n",
        "\n",
        "if torch.cuda.is_available():\n",
        "  mnist_cnn.cuda()\n",
        "\n",
        "mnist_cnn_non_iid_trained = training(mnist_cnn, rounds, batch_size, lr, mnist_data_train, data_dict, C, K, E, \"MNIST CNN on Non-IID Dataset Local Updates = 50\", \"green\")\n"
      ],
      "execution_count": null,
      "outputs": []
    },
    {
      "cell_type": "markdown",
      "metadata": {
        "id": "5xr2jgNVpngv"
      },
      "source": [
        "### Test"
      ]
    },
    {
      "cell_type": "code",
      "metadata": {
        "id": "o5KznydPpngw"
      },
      "source": [
        "criterion = nn.CrossEntropyLoss()\n",
        "testing(mnist_cnn_non_iid_trained, mnist_data_test, 128, criterion, num_classes, classes_test)"
      ],
      "execution_count": null,
      "outputs": []
    },
    {
      "cell_type": "markdown",
      "metadata": {
        "id": "rCDhi8n3pJij"
      },
      "source": [
        "## **MLP IID**"
      ]
    },
    {
      "cell_type": "markdown",
      "metadata": {
        "id": "z_jifdzniuhm"
      },
      "source": [
        "## MNIST MLP on IID Local Updates = 1"
      ]
    },
    {
      "cell_type": "markdown",
      "metadata": {
        "id": "uh-te0Od2XGO"
      },
      "source": [
        "### Train"
      ]
    },
    {
      "cell_type": "code",
      "metadata": {
        "id": "UmpWmKOQixVV",
        "colab": {
          "base_uri": "https://localhost:8080/",
          "height": 1000
        },
        "outputId": "b08b4f33-58ed-4eb5-8903-3d2ea65770a7"
      },
      "source": [
        "# number of training rounds\n",
        "rounds = 100\n",
        "# client fraction\n",
        "C = 0.1\n",
        "# number of clients\n",
        "K = 100\n",
        "# number of training passes on local dataset for each round\n",
        "E = 1\n",
        "# batch size\n",
        "batch_size = 10\n",
        "# learning Rate\n",
        "lr=0.03\n",
        "# dict containing different type of data partition\n",
        "data_dict = iid_partition(mnist_data_train, 100)\n",
        "# load model\n",
        "mnist_mlp = MNIST_2NN()\n",
        "\n",
        "if torch.cuda.is_available():\n",
        "  mnist_mlp.cuda()\n",
        "\n",
        "mnist_mlp_iid_trained = training(mnist_mlp, rounds, batch_size, lr, mnist_data_train, data_dict, C, K, E, \"MNIST MLP on IID Dataset Local Updates = 01\", \"orange\")\n"
      ],
      "execution_count": null,
      "outputs": [
        {
          "output_type": "stream",
          "text": [
            "Round: 1... \tAverage Loss: 2.069\n",
            "Round: 2... \tAverage Loss: 0.622\n",
            "Round: 3... \tAverage Loss: 0.491\n",
            "Round: 4... \tAverage Loss: 0.408\n",
            "Round: 5... \tAverage Loss: 0.358\n",
            "Round: 6... \tAverage Loss: 0.331\n",
            "Round: 7... \tAverage Loss: 0.342\n",
            "Round: 8... \tAverage Loss: 0.299\n",
            "Round: 9... \tAverage Loss: 0.296\n",
            "Round: 10... \tAverage Loss: 0.28\n",
            "Round: 11... \tAverage Loss: 0.259\n",
            "Round: 12... \tAverage Loss: 0.25\n",
            "Round: 13... \tAverage Loss: 0.247\n",
            "Round: 14... \tAverage Loss: 0.225\n",
            "Round: 15... \tAverage Loss: 0.226\n",
            "Round: 16... \tAverage Loss: 0.227\n",
            "Round: 17... \tAverage Loss: 0.197\n",
            "Round: 18... \tAverage Loss: 0.2\n",
            "Round: 19... \tAverage Loss: 0.198\n",
            "Round: 20... \tAverage Loss: 0.182\n",
            "Round: 21... \tAverage Loss: 0.195\n",
            "Round: 22... \tAverage Loss: 0.18\n",
            "Round: 23... \tAverage Loss: 0.165\n",
            "Round: 24... \tAverage Loss: 0.152\n",
            "Round: 25... \tAverage Loss: 0.162\n",
            "Round: 26... \tAverage Loss: 0.159\n",
            "Round: 27... \tAverage Loss: 0.165\n",
            "Round: 28... \tAverage Loss: 0.154\n",
            "Round: 29... \tAverage Loss: 0.148\n",
            "Round: 30... \tAverage Loss: 0.138\n",
            "Round: 31... \tAverage Loss: 0.146\n",
            "Round: 32... \tAverage Loss: 0.143\n",
            "Round: 33... \tAverage Loss: 0.135\n",
            "Round: 34... \tAverage Loss: 0.121\n",
            "Round: 35... \tAverage Loss: 0.121\n",
            "Round: 36... \tAverage Loss: 0.12\n",
            "Round: 37... \tAverage Loss: 0.103\n",
            "Round: 38... \tAverage Loss: 0.108\n",
            "Round: 39... \tAverage Loss: 0.118\n",
            "Round: 40... \tAverage Loss: 0.111\n",
            "Round: 41... \tAverage Loss: 0.11\n",
            "Round: 42... \tAverage Loss: 0.114\n",
            "Round: 43... \tAverage Loss: 0.114\n",
            "Round: 44... \tAverage Loss: 0.107\n",
            "Round: 45... \tAverage Loss: 0.094\n",
            "Round: 46... \tAverage Loss: 0.101\n",
            "Round: 47... \tAverage Loss: 0.105\n",
            "Round: 48... \tAverage Loss: 0.107\n",
            "Round: 49... \tAverage Loss: 0.103\n",
            "Round: 50... \tAverage Loss: 0.113\n",
            "Round: 51... \tAverage Loss: 0.091\n",
            "Round: 52... \tAverage Loss: 0.101\n",
            "Round: 53... \tAverage Loss: 0.092\n",
            "Round: 54... \tAverage Loss: 0.092\n",
            "Round: 55... \tAverage Loss: 0.086\n",
            "Round: 56... \tAverage Loss: 0.085\n",
            "Round: 57... \tAverage Loss: 0.093\n",
            "Round: 58... \tAverage Loss: 0.097\n",
            "Round: 59... \tAverage Loss: 0.078\n",
            "Round: 60... \tAverage Loss: 0.065\n",
            "Round: 61... \tAverage Loss: 0.078\n",
            "Round: 62... \tAverage Loss: 0.076\n",
            "Round: 63... \tAverage Loss: 0.07\n",
            "Round: 64... \tAverage Loss: 0.071\n",
            "Round: 65... \tAverage Loss: 0.084\n",
            "Round: 66... \tAverage Loss: 0.08\n",
            "Round: 67... \tAverage Loss: 0.086\n",
            "Round: 68... \tAverage Loss: 0.073\n",
            "Round: 69... \tAverage Loss: 0.058\n",
            "Round: 70... \tAverage Loss: 0.092\n",
            "Round: 71... \tAverage Loss: 0.071\n",
            "Round: 72... \tAverage Loss: 0.07\n",
            "Round: 73... \tAverage Loss: 0.071\n",
            "Round: 74... \tAverage Loss: 0.075\n",
            "Round: 75... \tAverage Loss: 0.08\n",
            "Round: 76... \tAverage Loss: 0.072\n",
            "Round: 77... \tAverage Loss: 0.063\n",
            "Round: 78... \tAverage Loss: 0.081\n",
            "Round: 79... \tAverage Loss: 0.066\n",
            "Round: 80... \tAverage Loss: 0.056\n",
            "Round: 81... \tAverage Loss: 0.068\n",
            "Round: 82... \tAverage Loss: 0.082\n",
            "Round: 83... \tAverage Loss: 0.062\n",
            "Round: 84... \tAverage Loss: 0.068\n",
            "Round: 85... \tAverage Loss: 0.061\n",
            "Round: 86... \tAverage Loss: 0.059\n",
            "Round: 87... \tAverage Loss: 0.059\n",
            "Round: 88... \tAverage Loss: 0.063\n",
            "Round: 89... \tAverage Loss: 0.065\n",
            "Round: 90... \tAverage Loss: 0.06\n",
            "Round: 91... \tAverage Loss: 0.059\n",
            "Round: 92... \tAverage Loss: 0.058\n",
            "Round: 93... \tAverage Loss: 0.048\n",
            "Round: 94... \tAverage Loss: 0.057\n",
            "Round: 95... \tAverage Loss: 0.051\n",
            "Round: 96... \tAverage Loss: 0.059\n",
            "Round: 97... \tAverage Loss: 0.052\n",
            "Round: 98... \tAverage Loss: 0.053\n",
            "Round: 99... \tAverage Loss: 0.042\n",
            "Round: 100... \tAverage Loss: 0.047\n",
            "Training Done!\n",
            "Total time taken to Train: 144.70892333984375\n"
          ],
          "name": "stdout"
        },
        {
          "output_type": "display_data",
          "data": {
            "image/png": "[encoded data removed]",
            "text/plain": [
              "<Figure size 432x288 with 1 Axes>"
            ]
          },
          "metadata": {
            "tags": [],
            "needs_background": "light"
          }
        }
      ]
    },
    {
      "cell_type": "markdown",
      "metadata": {
        "id": "aTBsL3-72PPd"
      },
      "source": [
        "### Test"
      ]
    },
    {
      "cell_type": "code",
      "metadata": {
        "id": "a9G4j5L62OrS",
        "colab": {
          "base_uri": "https://localhost:8080/"
        },
        "outputId": "90968d15-61f0-4e10-89fc-67ed59060ae6"
      },
      "source": [
        "criterion = nn.CrossEntropyLoss()\n",
        "testing(mnist_mlp_iid_trained, mnist_data_test, 128, criterion, num_classes, classes_test)"
      ],
      "execution_count": null,
      "outputs": [
        {
          "output_type": "stream",
          "text": [
            "Test Loss: 0.068862\n",
            "\n",
            "Test Accuracy of     0: 98% (75/76)\n",
            "Test Accuracy of     1: 97% (88/90)\n",
            "Test Accuracy of     2: 97% (89/91)\n",
            "Test Accuracy of     3: 98% (72/73)\n",
            "Test Accuracy of     4: 97% (87/89)\n",
            "Test Accuracy of     5: 95% (65/68)\n",
            "Test Accuracy of     6: 98% (61/62)\n",
            "Test Accuracy of     7: 98% (80/81)\n",
            "Test Accuracy of     8: 100% (77/77)\n",
            "Test Accuracy of     9: 98% (82/83)\n",
            "\n",
            "Final Test  Accuracy: 98.228 (776.0/790.0)\n"
          ],
          "name": "stdout"
        }
      ]
    },
    {
      "cell_type": "markdown",
      "metadata": {
        "id": "ZLWqowmzqJnn"
      },
      "source": [
        "## MNIST MLP on IID Local Updates = 5"
      ]
    },
    {
      "cell_type": "markdown",
      "metadata": {
        "id": "YFDiUmMqqJn9"
      },
      "source": [
        "### Train"
      ]
    },
    {
      "cell_type": "code",
      "metadata": {
        "colab": {
          "base_uri": "https://localhost:8080/",
          "height": 1000
        },
        "id": "sinqKrOKqJn-",
        "outputId": "a169f26e-b7b6-4b8a-8e37-4f61e81fbf16"
      },
      "source": [
        "# number of training rounds\n",
        "rounds = 100\n",
        "# client fraction\n",
        "C = 0.1\n",
        "# number of clients\n",
        "K = 100\n",
        "# number of training passes on local dataset for each round\n",
        "E = 5\n",
        "# batch size\n",
        "batch_size = 10\n",
        "# learning Rate\n",
        "lr=0.03\n",
        "# dict containing different type of data partition\n",
        "data_dict = iid_partition(mnist_data_train, 100)\n",
        "# load model\n",
        "mnist_mlp = MNIST_2NN()\n",
        "\n",
        "if torch.cuda.is_available():\n",
        "  mnist_mlp.cuda()\n",
        "\n",
        "mnist_mlp_iid_trained = training(mnist_mlp, rounds, batch_size, lr, mnist_data_train, data_dict, C, K, E, \"MNIST MLP on IID Dataset Local Updates = 05\", \"orange\")\n"
      ],
      "execution_count": null,
      "outputs": [
        {
          "output_type": "stream",
          "text": [
            "Round: 1... \tAverage Loss: 0.522\n",
            "Round: 2... \tAverage Loss: 0.182\n",
            "Round: 3... \tAverage Loss: 0.146\n",
            "Round: 4... \tAverage Loss: 0.101\n",
            "Round: 5... \tAverage Loss: 0.099\n",
            "Round: 6... \tAverage Loss: 0.08\n",
            "Round: 7... \tAverage Loss: 0.074\n",
            "Round: 8... \tAverage Loss: 0.064\n",
            "Round: 9... \tAverage Loss: 0.06\n",
            "Round: 10... \tAverage Loss: 0.062\n",
            "Round: 11... \tAverage Loss: 0.059\n",
            "Round: 12... \tAverage Loss: 0.05\n",
            "Round: 13... \tAverage Loss: 0.049\n",
            "Round: 14... \tAverage Loss: 0.045\n",
            "Round: 15... \tAverage Loss: 0.043\n",
            "Round: 16... \tAverage Loss: 0.046\n",
            "Round: 17... \tAverage Loss: 0.045\n",
            "Round: 18... \tAverage Loss: 0.04\n",
            "Round: 19... \tAverage Loss: 0.039\n",
            "Round: 20... \tAverage Loss: 0.031\n",
            "Round: 21... \tAverage Loss: 0.034\n",
            "Round: 22... \tAverage Loss: 0.031\n",
            "Round: 23... \tAverage Loss: 0.031\n",
            "Round: 24... \tAverage Loss: 0.035\n",
            "Round: 25... \tAverage Loss: 0.035\n",
            "Round: 26... \tAverage Loss: 0.029\n",
            "Round: 27... \tAverage Loss: 0.032\n",
            "Round: 28... \tAverage Loss: 0.036\n",
            "Round: 29... \tAverage Loss: 0.025\n",
            "Round: 30... \tAverage Loss: 0.03\n",
            "Round: 31... \tAverage Loss: 0.022\n",
            "Round: 32... \tAverage Loss: 0.026\n",
            "Round: 33... \tAverage Loss: 0.025\n",
            "Round: 34... \tAverage Loss: 0.027\n",
            "Round: 35... \tAverage Loss: 0.026\n",
            "Round: 36... \tAverage Loss: 0.021\n",
            "Round: 37... \tAverage Loss: 0.025\n",
            "Round: 38... \tAverage Loss: 0.021\n",
            "Round: 39... \tAverage Loss: 0.021\n",
            "Round: 40... \tAverage Loss: 0.023\n",
            "Round: 41... \tAverage Loss: 0.02\n",
            "Round: 42... \tAverage Loss: 0.022\n",
            "Round: 43... \tAverage Loss: 0.021\n",
            "Round: 44... \tAverage Loss: 0.022\n",
            "Round: 45... \tAverage Loss: 0.023\n",
            "Round: 46... \tAverage Loss: 0.023\n",
            "Round: 47... \tAverage Loss: 0.025\n",
            "Round: 48... \tAverage Loss: 0.019\n",
            "Round: 49... \tAverage Loss: 0.019\n",
            "Round: 50... \tAverage Loss: 0.014\n",
            "Round: 51... \tAverage Loss: 0.019\n",
            "Round: 52... \tAverage Loss: 0.017\n",
            "Round: 53... \tAverage Loss: 0.018\n",
            "Round: 54... \tAverage Loss: 0.02\n",
            "Round: 55... \tAverage Loss: 0.015\n",
            "Round: 56... \tAverage Loss: 0.02\n",
            "Round: 57... \tAverage Loss: 0.015\n",
            "Round: 58... \tAverage Loss: 0.016\n",
            "Round: 59... \tAverage Loss: 0.017\n",
            "Round: 60... \tAverage Loss: 0.017\n",
            "Round: 61... \tAverage Loss: 0.013\n",
            "Round: 62... \tAverage Loss: 0.013\n",
            "Round: 63... \tAverage Loss: 0.016\n",
            "Round: 64... \tAverage Loss: 0.011\n",
            "Round: 65... \tAverage Loss: 0.011\n",
            "Round: 66... \tAverage Loss: 0.014\n",
            "Round: 67... \tAverage Loss: 0.013\n",
            "Round: 68... \tAverage Loss: 0.011\n",
            "Round: 69... \tAverage Loss: 0.014\n",
            "Round: 70... \tAverage Loss: 0.015\n",
            "Round: 71... \tAverage Loss: 0.017\n",
            "Round: 72... \tAverage Loss: 0.012\n",
            "Round: 73... \tAverage Loss: 0.02\n",
            "Round: 74... \tAverage Loss: 0.013\n",
            "Round: 75... \tAverage Loss: 0.011\n",
            "Round: 76... \tAverage Loss: 0.012\n",
            "Round: 77... \tAverage Loss: 0.013\n",
            "Round: 78... \tAverage Loss: 0.012\n",
            "Round: 79... \tAverage Loss: 0.012\n",
            "Round: 80... \tAverage Loss: 0.015\n",
            "Round: 81... \tAverage Loss: 0.018\n",
            "Round: 82... \tAverage Loss: 0.013\n",
            "Round: 83... \tAverage Loss: 0.013\n",
            "Round: 84... \tAverage Loss: 0.012\n",
            "Round: 85... \tAverage Loss: 0.013\n",
            "Round: 86... \tAverage Loss: 0.01\n",
            "Round: 87... \tAverage Loss: 0.01\n",
            "Round: 88... \tAverage Loss: 0.01\n",
            "Round: 89... \tAverage Loss: 0.011\n",
            "Round: 90... \tAverage Loss: 0.011\n",
            "Round: 91... \tAverage Loss: 0.012\n",
            "Round: 92... \tAverage Loss: 0.011\n",
            "Round: 93... \tAverage Loss: 0.016\n",
            "Round: 94... \tAverage Loss: 0.01\n",
            "Round: 95... \tAverage Loss: 0.009\n",
            "Round: 96... \tAverage Loss: 0.007\n",
            "Round: 97... \tAverage Loss: 0.008\n",
            "Round: 98... \tAverage Loss: 0.009\n",
            "Round: 99... \tAverage Loss: 0.009\n",
            "Round: 100... \tAverage Loss: 0.012\n",
            "Training Done!\n",
            "Total time taken to Train: 705.3046872615814\n"
          ],
          "name": "stdout"
        },
        {
          "output_type": "display_data",
          "data": {
            "image/png": "[encoded data removed]",
            "text/plain": [
              "<Figure size 432x288 with 1 Axes>"
            ]
          },
          "metadata": {
            "tags": [],
            "needs_background": "light"
          }
        }
      ]
    },
    {
      "cell_type": "markdown",
      "metadata": {
        "id": "89wZmBzVqJn-"
      },
      "source": [
        "### Test"
      ]
    },
    {
      "cell_type": "code",
      "metadata": {
        "colab": {
          "base_uri": "https://localhost:8080/"
        },
        "id": "OY8lWBjKqJn-",
        "outputId": "ec3000cc-44cd-43dc-b0cd-f1b4f239d0f9"
      },
      "source": [
        "criterion = nn.CrossEntropyLoss()  \n",
        "testing(mnist_mlp_iid_trained, mnist_data_test, 128, criterion, num_classes, classes_test)"
      ],
      "execution_count": null,
      "outputs": [
        {
          "output_type": "stream",
          "text": [
            "Test Loss: 0.074253\n",
            "\n",
            "Test Accuracy of     0: 98% (75/76)\n",
            "Test Accuracy of     1: 97% (88/90)\n",
            "Test Accuracy of     2: 97% (89/91)\n",
            "Test Accuracy of     3: 97% (71/73)\n",
            "Test Accuracy of     4: 97% (87/89)\n",
            "Test Accuracy of     5: 94% (64/68)\n",
            "Test Accuracy of     6: 96% (60/62)\n",
            "Test Accuracy of     7: 97% (79/81)\n",
            "Test Accuracy of     8: 98% (76/77)\n",
            "Test Accuracy of     9: 98% (82/83)\n",
            "\n",
            "Final Test  Accuracy: 97.595 (771.0/790.0)\n"
          ],
          "name": "stdout"
        }
      ]
    },
    {
      "cell_type": "markdown",
      "metadata": {
        "id": "1SApmXMFqKO0"
      },
      "source": [
        "## MNIST MLP on IID Local Updates = 10"
      ]
    },
    {
      "cell_type": "markdown",
      "metadata": {
        "id": "vznSzgiZqKO1"
      },
      "source": [
        "### Train"
      ]
    },
    {
      "cell_type": "code",
      "metadata": {
        "colab": {
          "base_uri": "https://localhost:8080/",
          "height": 1000
        },
        "id": "Ko-YkaHHqKO1",
        "outputId": "a770a17f-342d-42cf-ff5e-e2021246d2ad"
      },
      "source": [
        "# number of training rounds\n",
        "rounds = 100\n",
        "# client fraction\n",
        "C = 0.1\n",
        "# number of clients\n",
        "K = 100\n",
        "# number of training passes on local dataset for each round\n",
        "E = 10\n",
        "# batch size\n",
        "batch_size = 10\n",
        "# learning Rate\n",
        "lr=0.03\n",
        "# dict containing different type of data partition\n",
        "data_dict = iid_partition(mnist_data_train, 100)\n",
        "# load model\n",
        "mnist_mlp = MNIST_2NN()\n",
        "\n",
        "if torch.cuda.is_available():\n",
        "  mnist_mlp.cuda()\n",
        "\n",
        "mnist_mlp_iid_trained = training(mnist_mlp, rounds, batch_size, lr, mnist_data_train, data_dict, C, K, E, \"MNIST MLP on IID Dataset Local Updates = 10\", \"orange\")\n"
      ],
      "execution_count": null,
      "outputs": [
        {
          "output_type": "stream",
          "text": [
            "Round: 1... \tAverage Loss: 0.303\n",
            "Round: 2... \tAverage Loss: 0.085\n",
            "Round: 3... \tAverage Loss: 0.072\n",
            "Round: 4... \tAverage Loss: 0.05\n",
            "Round: 5... \tAverage Loss: 0.047\n",
            "Round: 6... \tAverage Loss: 0.037\n",
            "Round: 7... \tAverage Loss: 0.037\n",
            "Round: 8... \tAverage Loss: 0.035\n",
            "Round: 9... \tAverage Loss: 0.034\n",
            "Round: 10... \tAverage Loss: 0.032\n",
            "Round: 11... \tAverage Loss: 0.026\n",
            "Round: 12... \tAverage Loss: 0.028\n",
            "Round: 13... \tAverage Loss: 0.024\n",
            "Round: 14... \tAverage Loss: 0.026\n",
            "Round: 15... \tAverage Loss: 0.022\n",
            "Round: 16... \tAverage Loss: 0.02\n",
            "Round: 17... \tAverage Loss: 0.022\n",
            "Round: 18... \tAverage Loss: 0.018\n",
            "Round: 19... \tAverage Loss: 0.021\n",
            "Round: 20... \tAverage Loss: 0.018\n",
            "Round: 21... \tAverage Loss: 0.016\n",
            "Round: 22... \tAverage Loss: 0.018\n",
            "Round: 23... \tAverage Loss: 0.016\n",
            "Round: 24... \tAverage Loss: 0.017\n",
            "Round: 25... \tAverage Loss: 0.017\n",
            "Round: 26... \tAverage Loss: 0.017\n",
            "Round: 27... \tAverage Loss: 0.011\n",
            "Round: 28... \tAverage Loss: 0.013\n",
            "Round: 29... \tAverage Loss: 0.016\n",
            "Round: 30... \tAverage Loss: 0.017\n",
            "Round: 31... \tAverage Loss: 0.014\n",
            "Round: 32... \tAverage Loss: 0.012\n",
            "Round: 33... \tAverage Loss: 0.014\n",
            "Round: 34... \tAverage Loss: 0.013\n",
            "Round: 35... \tAverage Loss: 0.012\n",
            "Round: 36... \tAverage Loss: 0.013\n",
            "Round: 37... \tAverage Loss: 0.012\n",
            "Round: 38... \tAverage Loss: 0.012\n",
            "Round: 39... \tAverage Loss: 0.01\n",
            "Round: 40... \tAverage Loss: 0.015\n",
            "Round: 41... \tAverage Loss: 0.011\n",
            "Round: 42... \tAverage Loss: 0.011\n",
            "Round: 43... \tAverage Loss: 0.009\n",
            "Round: 44... \tAverage Loss: 0.01\n",
            "Round: 45... \tAverage Loss: 0.008\n",
            "Round: 46... \tAverage Loss: 0.01\n",
            "Round: 47... \tAverage Loss: 0.01\n",
            "Round: 48... \tAverage Loss: 0.011\n",
            "Round: 49... \tAverage Loss: 0.01\n",
            "Round: 50... \tAverage Loss: 0.008\n",
            "Round: 51... \tAverage Loss: 0.01\n",
            "Round: 52... \tAverage Loss: 0.01\n",
            "Round: 53... \tAverage Loss: 0.009\n",
            "Round: 54... \tAverage Loss: 0.01\n",
            "Round: 55... \tAverage Loss: 0.009\n",
            "Round: 56... \tAverage Loss: 0.009\n",
            "Round: 57... \tAverage Loss: 0.01\n",
            "Round: 58... \tAverage Loss: 0.008\n",
            "Round: 59... \tAverage Loss: 0.009\n",
            "Round: 60... \tAverage Loss: 0.007\n",
            "Round: 61... \tAverage Loss: 0.009\n",
            "Round: 62... \tAverage Loss: 0.01\n",
            "Round: 63... \tAverage Loss: 0.008\n",
            "Round: 64... \tAverage Loss: 0.008\n",
            "Round: 65... \tAverage Loss: 0.006\n",
            "Round: 66... \tAverage Loss: 0.011\n",
            "Round: 67... \tAverage Loss: 0.009\n",
            "Round: 68... \tAverage Loss: 0.008\n",
            "Round: 69... \tAverage Loss: 0.007\n",
            "Round: 70... \tAverage Loss: 0.007\n",
            "Round: 71... \tAverage Loss: 0.008\n",
            "Round: 72... \tAverage Loss: 0.008\n",
            "Round: 73... \tAverage Loss: 0.006\n",
            "Round: 74... \tAverage Loss: 0.008\n",
            "Round: 75... \tAverage Loss: 0.009\n",
            "Round: 76... \tAverage Loss: 0.007\n",
            "Round: 77... \tAverage Loss: 0.007\n",
            "Round: 78... \tAverage Loss: 0.005\n",
            "Round: 79... \tAverage Loss: 0.005\n",
            "Round: 80... \tAverage Loss: 0.007\n",
            "Round: 81... \tAverage Loss: 0.009\n",
            "Round: 82... \tAverage Loss: 0.006\n",
            "Round: 83... \tAverage Loss: 0.005\n",
            "Round: 84... \tAverage Loss: 0.006\n",
            "Round: 85... \tAverage Loss: 0.007\n",
            "Round: 86... \tAverage Loss: 0.006\n",
            "Round: 87... \tAverage Loss: 0.005\n",
            "Round: 88... \tAverage Loss: 0.004\n",
            "Round: 89... \tAverage Loss: 0.006\n",
            "Round: 90... \tAverage Loss: 0.004\n",
            "Round: 91... \tAverage Loss: 0.004\n",
            "Round: 92... \tAverage Loss: 0.007\n",
            "Round: 93... \tAverage Loss: 0.005\n",
            "Round: 94... \tAverage Loss: 0.006\n",
            "Round: 95... \tAverage Loss: 0.006\n",
            "Round: 96... \tAverage Loss: 0.004\n",
            "Round: 97... \tAverage Loss: 0.005\n",
            "Round: 98... \tAverage Loss: 0.006\n",
            "Round: 99... \tAverage Loss: 0.005\n",
            "Round: 100... \tAverage Loss: 0.004\n",
            "Training Done!\n",
            "Total time taken to Train: 1406.8350677490234\n"
          ],
          "name": "stdout"
        },
        {
          "output_type": "display_data",
          "data": {
            "image/png": "[encoded data removed]",
            "text/plain": [
              "<Figure size 432x288 with 1 Axes>"
            ]
          },
          "metadata": {
            "tags": [],
            "needs_background": "light"
          }
        }
      ]
    },
    {
      "cell_type": "markdown",
      "metadata": {
        "id": "80iwmWevqKO2"
      },
      "source": [
        "### Test"
      ]
    },
    {
      "cell_type": "code",
      "metadata": {
        "colab": {
          "base_uri": "https://localhost:8080/"
        },
        "id": "b-7jR89dqKO2",
        "outputId": "7d4c6f55-fbb0-42db-c18b-aea6e5d1ac37"
      },
      "source": [
        "criterion = nn.CrossEntropyLoss()\n",
        "testing(mnist_mlp_iid_trained, mnist_data_test, 128, criterion, num_classes, classes_test)"
      ],
      "execution_count": null,
      "outputs": [
        {
          "output_type": "stream",
          "text": [
            "Test Loss: 0.077666\n",
            "\n",
            "Test Accuracy of     0: 97% (74/76)\n",
            "Test Accuracy of     1: 98% (89/90)\n",
            "Test Accuracy of     2: 100% (91/91)\n",
            "Test Accuracy of     3: 98% (72/73)\n",
            "Test Accuracy of     4: 97% (87/89)\n",
            "Test Accuracy of     5: 98% (67/68)\n",
            "Test Accuracy of     6: 100% (62/62)\n",
            "Test Accuracy of     7: 97% (79/81)\n",
            "Test Accuracy of     8: 100% (77/77)\n",
            "Test Accuracy of     9: 97% (81/83)\n",
            "\n",
            "Final Test  Accuracy: 98.608 (779.0/790.0)\n"
          ],
          "name": "stdout"
        }
      ]
    },
    {
      "cell_type": "markdown",
      "metadata": {
        "id": "h91V39DjqLJA"
      },
      "source": [
        "## MNIST MLP on IID Local Updates = 25"
      ]
    },
    {
      "cell_type": "markdown",
      "metadata": {
        "id": "xdMNSUdCqLJB"
      },
      "source": [
        "### Train"
      ]
    },
    {
      "cell_type": "code",
      "metadata": {
        "colab": {
          "base_uri": "https://localhost:8080/",
          "height": 1000
        },
        "id": "ul-J0m31qLJB",
        "outputId": "8a34d3ca-131a-494a-9fab-cb3d248595c0"
      },
      "source": [
        "# number of training rounds\n",
        "rounds = 100\n",
        "# client fraction \n",
        "C = 0.1\n",
        "# number of clients\n",
        "K = 100\n",
        "# number of training passes on local dataset for each round\n",
        "E = 25\n",
        "# batch size\n",
        "batch_size = 10\n",
        "# learning Rate\n",
        "lr=0.03\n",
        "# dict containing different type of data partition\n",
        "data_dict = iid_partition(mnist_data_train, 100)\n",
        "# load model\n",
        "mnist_mlp = MNIST_2NN()\n",
        "\n",
        "if torch.cuda.is_available():\n",
        "  mnist_mlp.cuda()\n",
        "\n",
        "mnist_mlp_iid_trained = training(mnist_mlp, rounds, batch_size, lr, mnist_data_train, data_dict, C, K, E, \"MNIST MLP on IID Dataset Local Updates = 25\", \"orange\")\n",
        " "
      ],
      "execution_count": null,
      "outputs": [
        {
          "output_type": "stream",
          "text": [
            "Round: 1... \tAverage Loss: 0.122\n",
            "Round: 2... \tAverage Loss: 0.037\n",
            "Round: 3... \tAverage Loss: 0.03\n",
            "Round: 4... \tAverage Loss: 0.024\n",
            "Round: 5... \tAverage Loss: 0.02\n",
            "Round: 6... \tAverage Loss: 0.017\n",
            "Round: 7... \tAverage Loss: 0.015\n",
            "Round: 8... \tAverage Loss: 0.015\n",
            "Round: 9... \tAverage Loss: 0.014\n",
            "Round: 10... \tAverage Loss: 0.011\n",
            "Round: 11... \tAverage Loss: 0.011\n",
            "Round: 12... \tAverage Loss: 0.011\n",
            "Round: 13... \tAverage Loss: 0.01\n",
            "Round: 14... \tAverage Loss: 0.012\n",
            "Round: 15... \tAverage Loss: 0.01\n",
            "Round: 16... \tAverage Loss: 0.009\n",
            "Round: 17... \tAverage Loss: 0.009\n",
            "Round: 18... \tAverage Loss: 0.009\n",
            "Round: 19... \tAverage Loss: 0.009\n",
            "Round: 20... \tAverage Loss: 0.008\n",
            "Round: 21... \tAverage Loss: 0.008\n",
            "Round: 22... \tAverage Loss: 0.007\n",
            "Round: 23... \tAverage Loss: 0.006\n",
            "Round: 24... \tAverage Loss: 0.008\n",
            "Round: 25... \tAverage Loss: 0.006\n",
            "Round: 26... \tAverage Loss: 0.007\n",
            "Round: 27... \tAverage Loss: 0.007\n",
            "Round: 28... \tAverage Loss: 0.006\n",
            "Round: 29... \tAverage Loss: 0.007\n",
            "Round: 30... \tAverage Loss: 0.005\n",
            "Round: 31... \tAverage Loss: 0.006\n",
            "Round: 32... \tAverage Loss: 0.006\n",
            "Round: 33... \tAverage Loss: 0.006\n",
            "Round: 34... \tAverage Loss: 0.007\n",
            "Round: 35... \tAverage Loss: 0.005\n",
            "Round: 36... \tAverage Loss: 0.004\n",
            "Round: 37... \tAverage Loss: 0.005\n",
            "Round: 38... \tAverage Loss: 0.005\n",
            "Round: 39... \tAverage Loss: 0.005\n",
            "Round: 40... \tAverage Loss: 0.004\n",
            "Round: 41... \tAverage Loss: 0.004\n",
            "Round: 42... \tAverage Loss: 0.005\n",
            "Round: 43... \tAverage Loss: 0.005\n",
            "Round: 44... \tAverage Loss: 0.005\n",
            "Round: 45... \tAverage Loss: 0.006\n",
            "Round: 46... \tAverage Loss: 0.005\n",
            "Round: 47... \tAverage Loss: 0.006\n",
            "Round: 48... \tAverage Loss: 0.004\n",
            "Round: 49... \tAverage Loss: 0.003\n",
            "Round: 50... \tAverage Loss: 0.006\n",
            "Round: 51... \tAverage Loss: 0.004\n",
            "Round: 52... \tAverage Loss: 0.004\n",
            "Round: 53... \tAverage Loss: 0.005\n",
            "Round: 54... \tAverage Loss: 0.003\n",
            "Round: 55... \tAverage Loss: 0.004\n",
            "Round: 56... \tAverage Loss: 0.004\n",
            "Round: 57... \tAverage Loss: 0.003\n",
            "Round: 58... \tAverage Loss: 0.003\n",
            "Round: 59... \tAverage Loss: 0.004\n",
            "Round: 60... \tAverage Loss: 0.004\n",
            "Round: 61... \tAverage Loss: 0.002\n",
            "Round: 62... \tAverage Loss: 0.003\n",
            "Round: 63... \tAverage Loss: 0.003\n",
            "Round: 64... \tAverage Loss: 0.003\n",
            "Round: 65... \tAverage Loss: 0.003\n",
            "Round: 66... \tAverage Loss: 0.004\n",
            "Round: 67... \tAverage Loss: 0.003\n",
            "Round: 68... \tAverage Loss: 0.003\n",
            "Round: 70... \tAverage Loss: 0.003\n",
            "Round: 71... \tAverage Loss: 0.003\n",
            "Round: 72... \tAverage Loss: 0.003\n",
            "Round: 73... \tAverage Loss: 0.003\n",
            "Round: 74... \tAverage Loss: 0.003\n",
            "Round: 75... \tAverage Loss: 0.003\n",
            "Round: 76... \tAverage Loss: 0.002\n",
            "Round: 77... \tAverage Loss: 0.003\n",
            "Round: 78... \tAverage Loss: 0.003\n",
            "Round: 79... \tAverage Loss: 0.003\n",
            "Round: 80... \tAverage Loss: 0.002\n",
            "Round: 81... \tAverage Loss: 0.002\n",
            "Round: 82... \tAverage Loss: 0.003\n",
            "Round: 83... \tAverage Loss: 0.002\n",
            "Round: 84... \tAverage Loss: 0.003\n",
            "Round: 85... \tAverage Loss: 0.003\n",
            "Round: 86... \tAverage Loss: 0.002\n",
            "Round: 87... \tAverage Loss: 0.002\n",
            "Round: 88... \tAverage Loss: 0.002\n",
            "Round: 89... \tAverage Loss: 0.003\n",
            "Round: 90... \tAverage Loss: 0.002\n",
            "Round: 91... \tAverage Loss: 0.002\n",
            "Round: 92... \tAverage Loss: 0.002\n",
            "Round: 93... \tAverage Loss: 0.002\n",
            "Round: 94... \tAverage Loss: 0.002\n",
            "Round: 95... \tAverage Loss: 0.002\n",
            "Round: 96... \tAverage Loss: 0.002\n",
            "Round: 97... \tAverage Loss: 0.002\n",
            "Round: 98... \tAverage Loss: 0.002\n",
            "Round: 99... \tAverage Loss: 0.003\n",
            "Round: 100... \tAverage Loss: 0.002\n",
            "Training Done!\n",
            "Total time taken to Train: 3323.329957485199\n"
          ],
          "name": "stdout"
        },
        {
          "output_type": "display_data",
          "data": {
            "image/png": "[encoded data removed]",
            "text/plain": [
              "<Figure size 432x288 with 1 Axes>"
            ]
          },
          "metadata": {
            "tags": [],
            "needs_background": "light"
          }
        }
      ]
    },
    {
      "cell_type": "markdown",
      "metadata": {
        "id": "nW_Sm8nyqLJC"
      },
      "source": [
        "### Test"
      ]
    },
    {
      "cell_type": "code",
      "metadata": {
        "colab": {
          "base_uri": "https://localhost:8080/"
        },
        "id": "h7VVPASQqLJC",
        "outputId": "785b5f50-a30d-4879-e87f-9d8392771e08"
      },
      "source": [
        "criterion = nn.CrossEntropyLoss() \n",
        "testing(mnist_mlp_iid_trained, mnist_data_test, 128, criterion, num_classes, classes_test)"
      ],
      "execution_count": null,
      "outputs": [
        {
          "output_type": "stream",
          "text": [
            "Test Loss: 0.082798\n",
            "\n",
            "Test Accuracy of     0: 98% (75/76)\n",
            "Test Accuracy of     1: 98% (89/90)\n",
            "Test Accuracy of     2: 97% (89/91)\n",
            "Test Accuracy of     3: 95% (70/73)\n",
            "Test Accuracy of     4: 98% (88/89)\n",
            "Test Accuracy of     5: 97% (66/68)\n",
            "Test Accuracy of     6: 98% (61/62)\n",
            "Test Accuracy of     7: 96% (78/81)\n",
            "Test Accuracy of     8: 100% (77/77)\n",
            "Test Accuracy of     9: 98% (82/83)\n",
            "\n",
            "Final Test  Accuracy: 98.101 (775.0/790.0)\n"
          ],
          "name": "stdout"
        }
      ]
    },
    {
      "cell_type": "markdown",
      "metadata": {
        "id": "8h_ejDCsqLqE"
      },
      "source": [
        "## MNIST MLP on IID Local Updates = 50"
      ]
    },
    {
      "cell_type": "markdown",
      "metadata": {
        "id": "IXIHjpGFqLqF"
      },
      "source": [
        "### Train"
      ]
    },
    {
      "cell_type": "code",
      "metadata": {
        "id": "CJhVg0x3qLqG"
      },
      "source": [
        "# number of training rounds\n",
        "rounds = 100\n",
        "# client fraction\n",
        "C = 0.1\n",
        "# number of clients\n",
        "K = 100\n",
        "# number of training passes on local dataset for each round\n",
        "E = 50\n",
        "# batch size\n",
        "batch_size = 10\n",
        "# learning Rate\n",
        "lr=0.03\n",
        "# dict containing different type of data partition\n",
        "data_dict = iid_partition(mnist_data_train, 100)\n",
        "# load model\n",
        "mnist_mlp = MNIST_2NN()\n",
        "\n",
        "if torch.cuda.is_available():\n",
        "  mnist_mlp.cuda()\n",
        "\n",
        "mnist_mlp_iid_trained = training(mnist_mlp, rounds, batch_size, lr, mnist_data_train, data_dict, C, K, E, \"MNIST MLP on IID Dataset Local Updates = 50\", \"orange\")\n"
      ],
      "execution_count": null,
      "outputs": []
    },
    {
      "cell_type": "markdown",
      "metadata": {
        "id": "C9EKkBqEqLqH"
      },
      "source": [
        "### Test"
      ]
    },
    {
      "cell_type": "code",
      "metadata": {
        "id": "ov_-16NMqLqI"
      },
      "source": [
        "criterion = nn.CrossEntropyLoss()\n",
        "testing(mnist_mlp_iid_trained, mnist_data_test, 128, criterion, num_classes, classes_test)"
      ],
      "execution_count": null,
      "outputs": []
    },
    {
      "cell_type": "markdown",
      "metadata": {
        "id": "VvgSFQCypMFW"
      },
      "source": [
        "## **MLP Non IID**"
      ]
    },
    {
      "cell_type": "markdown",
      "metadata": {
        "id": "J8jzEyO0iywz"
      },
      "source": [
        "## MNIST MLP on Non IID Local Updates = 1"
      ]
    },
    {
      "cell_type": "markdown",
      "metadata": {
        "id": "pJFepr3y2bF-"
      },
      "source": [
        "### Train"
      ]
    },
    {
      "cell_type": "code",
      "metadata": {
        "id": "EBKO44Hgi1Uh",
        "colab": {
          "base_uri": "https://localhost:8080/",
          "height": 1000
        },
        "outputId": "00137a87-c820-4d7e-99e9-f9f171d1a1d0"
      },
      "source": [
        "# number of training rounds\n",
        "rounds = 100\n",
        "# client fraction\n",
        "C = 0.1\n",
        "# number of clients\n",
        "K = 100\n",
        "# number of training passes on local dataset for each roung\n",
        "E = 1\n",
        "# batch size\n",
        "batch_size = 10\n",
        "# learning Rate\n",
        "lr=0.05\n",
        "# dict containing different type of data partition\n",
        "data_dict = non_iid_partition(mnist_data_train, 100, 200, 300, 2)\n",
        "# load model\n",
        "mnist_mlp = MNIST_2NN()\n",
        "\n",
        "if torch.cuda.is_available():\n",
        "  mnist_mlp.cuda()\n",
        "\n",
        "mnist_mlp_non_iid_trained = training(mnist_mlp, rounds, batch_size, lr, mnist_data_train, data_dict, C, K, E, \"MNIST MLP on Non-IID Dataset Local Updates = 01\", \"green\")"
      ],
      "execution_count": null,
      "outputs": [
        {
          "output_type": "stream",
          "text": [
            "Round: 1... \tAverage Loss: 0.377\n",
            "Round: 2... \tAverage Loss: 0.221\n",
            "Round: 3... \tAverage Loss: 0.207\n",
            "Round: 4... \tAverage Loss: 0.149\n",
            "Round: 5... \tAverage Loss: 0.118\n",
            "Round: 6... \tAverage Loss: 0.176\n",
            "Round: 7... \tAverage Loss: 0.103\n",
            "Round: 8... \tAverage Loss: 0.063\n",
            "Round: 9... \tAverage Loss: 0.109\n",
            "Round: 10... \tAverage Loss: 0.084\n",
            "Round: 11... \tAverage Loss: 0.093\n",
            "Round: 12... \tAverage Loss: 0.11\n",
            "Round: 13... \tAverage Loss: 0.107\n",
            "Round: 14... \tAverage Loss: 0.092\n",
            "Round: 15... \tAverage Loss: 0.1\n",
            "Round: 16... \tAverage Loss: 0.067\n",
            "Round: 17... \tAverage Loss: 0.079\n",
            "Round: 18... \tAverage Loss: 0.081\n",
            "Round: 19... \tAverage Loss: 0.097\n",
            "Round: 20... \tAverage Loss: 0.107\n",
            "Round: 21... \tAverage Loss: 0.094\n",
            "Round: 22... \tAverage Loss: 0.073\n",
            "Round: 23... \tAverage Loss: 0.097\n",
            "Round: 24... \tAverage Loss: 0.093\n",
            "Round: 25... \tAverage Loss: 0.083\n",
            "Round: 26... \tAverage Loss: 0.094\n",
            "Round: 27... \tAverage Loss: 0.065\n",
            "Round: 28... \tAverage Loss: 0.077\n",
            "Round: 29... \tAverage Loss: 0.048\n",
            "Round: 30... \tAverage Loss: 0.067\n",
            "Round: 31... \tAverage Loss: 0.048\n",
            "Round: 32... \tAverage Loss: 0.049\n",
            "Round: 33... \tAverage Loss: 0.079\n",
            "Round: 34... \tAverage Loss: 0.073\n",
            "Round: 35... \tAverage Loss: 0.032\n",
            "Round: 36... \tAverage Loss: 0.057\n",
            "Round: 37... \tAverage Loss: 0.044\n",
            "Round: 38... \tAverage Loss: 0.072\n",
            "Round: 39... \tAverage Loss: 0.054\n",
            "Round: 40... \tAverage Loss: 0.053\n",
            "Round: 41... \tAverage Loss: 0.054\n",
            "Round: 42... \tAverage Loss: 0.083\n",
            "Round: 43... \tAverage Loss: 0.047\n",
            "Round: 44... \tAverage Loss: 0.042\n",
            "Round: 45... \tAverage Loss: 0.057\n",
            "Round: 46... \tAverage Loss: 0.04\n",
            "Round: 47... \tAverage Loss: 0.036\n",
            "Round: 48... \tAverage Loss: 0.048\n",
            "Round: 49... \tAverage Loss: 0.063\n",
            "Round: 50... \tAverage Loss: 0.041\n",
            "Round: 51... \tAverage Loss: 0.04\n",
            "Round: 52... \tAverage Loss: 0.023\n",
            "Round: 53... \tAverage Loss: 0.067\n",
            "Round: 54... \tAverage Loss: 0.025\n",
            "Round: 55... \tAverage Loss: 0.067\n",
            "Round: 56... \tAverage Loss: 0.031\n",
            "Round: 57... \tAverage Loss: 0.033\n",
            "Round: 58... \tAverage Loss: 0.056\n",
            "Round: 59... \tAverage Loss: 0.035\n",
            "Round: 60... \tAverage Loss: 0.037\n",
            "Round: 61... \tAverage Loss: 0.079\n",
            "Round: 62... \tAverage Loss: 0.035\n",
            "Round: 63... \tAverage Loss: 0.023\n",
            "Round: 64... \tAverage Loss: 0.05\n",
            "Round: 65... \tAverage Loss: 0.062\n",
            "Round: 66... \tAverage Loss: 0.058\n",
            "Round: 67... \tAverage Loss: 0.043\n",
            "Round: 68... \tAverage Loss: 0.027\n",
            "Round: 69... \tAverage Loss: 0.054\n",
            "Round: 70... \tAverage Loss: 0.04\n",
            "Round: 71... \tAverage Loss: 0.043\n",
            "Round: 72... \tAverage Loss: 0.027\n",
            "Round: 73... \tAverage Loss: 0.032\n",
            "Round: 74... \tAverage Loss: 0.026\n",
            "Round: 75... \tAverage Loss: 0.058\n",
            "Round: 76... \tAverage Loss: 0.026\n",
            "Round: 77... \tAverage Loss: 0.023\n",
            "Round: 78... \tAverage Loss: 0.048\n",
            "Round: 79... \tAverage Loss: 0.034\n",
            "Round: 80... \tAverage Loss: 0.018\n",
            "Round: 81... \tAverage Loss: 0.059\n",
            "Round: 82... \tAverage Loss: 0.029\n",
            "Round: 83... \tAverage Loss: 0.04\n",
            "Round: 84... \tAverage Loss: 0.028\n",
            "Round: 85... \tAverage Loss: 0.031\n",
            "Round: 86... \tAverage Loss: 0.046\n",
            "Round: 87... \tAverage Loss: 0.041\n",
            "Round: 88... \tAverage Loss: 0.037\n",
            "Round: 89... \tAverage Loss: 0.019\n",
            "Round: 90... \tAverage Loss: 0.021\n",
            "Round: 91... \tAverage Loss: 0.028\n",
            "Round: 92... \tAverage Loss: 0.029\n",
            "Round: 93... \tAverage Loss: 0.034\n",
            "Round: 94... \tAverage Loss: 0.034\n",
            "Round: 95... \tAverage Loss: 0.057\n",
            "Round: 96... \tAverage Loss: 0.029\n",
            "Round: 97... \tAverage Loss: 0.038\n",
            "Round: 98... \tAverage Loss: 0.04\n",
            "Round: 99... \tAverage Loss: 0.026\n",
            "Round: 100... \tAverage Loss: 0.015\n",
            "Training Done!\n",
            "Total time taken to Train: 143.56071019172668\n"
          ],
          "name": "stdout"
        },
        {
          "output_type": "display_data",
          "data": {
            "image/png": "[encoded data removed]",
            "text/plain": [
              "<Figure size 432x288 with 1 Axes>"
            ]
          },
          "metadata": {
            "tags": [],
            "needs_background": "light"
          }
        }
      ]
    },
    {
      "cell_type": "markdown",
      "metadata": {
        "id": "jmuQYPbF2mes"
      },
      "source": [
        "### Test"
      ]
    },
    {
      "cell_type": "code",
      "metadata": {
        "id": "0tKMlJyF2nGN",
        "colab": {
          "base_uri": "https://localhost:8080/"
        },
        "outputId": "b94072a0-2d14-48cc-b577-559812cfcec8"
      },
      "source": [
        "criterion = nn.CrossEntropyLoss()\n",
        "testing(mnist_mlp_non_iid_trained, mnist_data_test, 128, criterion, num_classes, classes_test)"
      ],
      "execution_count": null,
      "outputs": [
        {
          "output_type": "stream",
          "text": [
            "Test Loss: 0.179535\n",
            "\n",
            "Test Accuracy of     0: 97% (74/76)\n",
            "Test Accuracy of     1: 97% (88/90)\n",
            "Test Accuracy of     2: 91% (83/91)\n",
            "Test Accuracy of     3: 91% (67/73)\n",
            "Test Accuracy of     4: 100% (89/89)\n",
            "Test Accuracy of     5: 98% (67/68)\n",
            "Test Accuracy of     6: 96% (60/62)\n",
            "Test Accuracy of     7: 98% (80/81)\n",
            "Test Accuracy of     8: 92% (71/77)\n",
            "Test Accuracy of     9: 77% (64/83)\n",
            "\n",
            "Final Test  Accuracy: 94.051 (743.0/790.0)\n"
          ],
          "name": "stdout"
        }
      ]
    },
    {
      "cell_type": "markdown",
      "metadata": {
        "id": "W8OSIUtvqnuO"
      },
      "source": [
        "## MNIST MLP on Non IID Local Updates = 5"
      ]
    },
    {
      "cell_type": "markdown",
      "metadata": {
        "id": "qeuq92Wcqnuv"
      },
      "source": [
        "### Train"
      ]
    },
    {
      "cell_type": "code",
      "metadata": {
        "colab": {
          "base_uri": "https://localhost:8080/",
          "height": 1000
        },
        "id": "G9guk13Iqnuv",
        "outputId": "40e1802f-fa30-435a-f48d-9b3fde79ec63"
      },
      "source": [
        "# number of training rounds\n",
        "rounds = 100\n",
        "# client fraction\n",
        "C = 0.1\n",
        "# number of clients\n",
        "K = 100\n",
        "# number of training passes on local dataset for each roung\n",
        "E = 5\n",
        "# batch size\n",
        "batch_size = 10\n",
        "# learning Rate\n",
        "lr=0.05\n",
        "# dict containing different type of data partition\n",
        "data_dict = non_iid_partition(mnist_data_train, 100, 200, 300, 2)\n",
        "# load model\n",
        "mnist_mlp = MNIST_2NN()\n",
        "\n",
        "if torch.cuda.is_available():\n",
        "  mnist_mlp.cuda()\n",
        "\n",
        "mnist_mlp_non_iid_trained = training(mnist_mlp, rounds, batch_size, lr, mnist_data_train, data_dict, C, K, E, \"MNIST MLP on Non-IID Dataset Local Updates = 05\", \"green\")"
      ],
      "execution_count": null,
      "outputs": [
        {
          "output_type": "stream",
          "text": [
            "Round: 1... \tAverage Loss: 0.131\n",
            "Round: 2... \tAverage Loss: 0.071\n",
            "Round: 3... \tAverage Loss: 0.028\n",
            "Round: 4... \tAverage Loss: 0.033\n",
            "Round: 5... \tAverage Loss: 0.039\n",
            "Round: 6... \tAverage Loss: 0.018\n",
            "Round: 7... \tAverage Loss: 0.025\n",
            "Round: 8... \tAverage Loss: 0.023\n",
            "Round: 9... \tAverage Loss: 0.031\n",
            "Round: 10... \tAverage Loss: 0.016\n",
            "Round: 11... \tAverage Loss: 0.032\n",
            "Round: 12... \tAverage Loss: 0.016\n",
            "Round: 13... \tAverage Loss: 0.021\n",
            "Round: 14... \tAverage Loss: 0.016\n",
            "Round: 15... \tAverage Loss: 0.02\n",
            "Round: 16... \tAverage Loss: 0.013\n",
            "Round: 17... \tAverage Loss: 0.012\n",
            "Round: 18... \tAverage Loss: 0.014\n",
            "Round: 19... \tAverage Loss: 0.021\n",
            "Round: 20... \tAverage Loss: 0.025\n",
            "Round: 21... \tAverage Loss: 0.016\n",
            "Round: 22... \tAverage Loss: 0.023\n",
            "Round: 23... \tAverage Loss: 0.018\n",
            "Round: 24... \tAverage Loss: 0.017\n",
            "Round: 25... \tAverage Loss: 0.009\n",
            "Round: 26... \tAverage Loss: 0.012\n",
            "Round: 27... \tAverage Loss: 0.017\n",
            "Round: 28... \tAverage Loss: 0.017\n",
            "Round: 29... \tAverage Loss: 0.013\n",
            "Round: 30... \tAverage Loss: 0.012\n",
            "Round: 31... \tAverage Loss: 0.02\n",
            "Round: 32... \tAverage Loss: 0.006\n",
            "Round: 33... \tAverage Loss: 0.008\n",
            "Round: 34... \tAverage Loss: 0.018\n",
            "Round: 35... \tAverage Loss: 0.014\n",
            "Round: 36... \tAverage Loss: 0.011\n",
            "Round: 37... \tAverage Loss: 0.008\n",
            "Round: 38... \tAverage Loss: 0.014\n",
            "Round: 39... \tAverage Loss: 0.014\n",
            "Round: 40... \tAverage Loss: 0.01\n",
            "Round: 41... \tAverage Loss: 0.012\n",
            "Round: 42... \tAverage Loss: 0.011\n",
            "Round: 43... \tAverage Loss: 0.011\n",
            "Round: 44... \tAverage Loss: 0.011\n",
            "Round: 45... \tAverage Loss: 0.007\n",
            "Round: 46... \tAverage Loss: 0.004\n",
            "Round: 47... \tAverage Loss: 0.01\n",
            "Round: 48... \tAverage Loss: 0.009\n",
            "Round: 49... \tAverage Loss: 0.007\n",
            "Round: 50... \tAverage Loss: 0.009\n",
            "Round: 51... \tAverage Loss: 0.011\n",
            "Round: 52... \tAverage Loss: 0.006\n",
            "Round: 53... \tAverage Loss: 0.01\n",
            "Round: 54... \tAverage Loss: 0.013\n",
            "Round: 55... \tAverage Loss: 0.01\n",
            "Round: 56... \tAverage Loss: 0.005\n",
            "Round: 57... \tAverage Loss: 0.009\n",
            "Round: 58... \tAverage Loss: 0.013\n",
            "Round: 59... \tAverage Loss: 0.016\n",
            "Round: 60... \tAverage Loss: 0.005\n",
            "Round: 61... \tAverage Loss: 0.008\n",
            "Round: 62... \tAverage Loss: 0.008\n",
            "Round: 63... \tAverage Loss: 0.004\n",
            "Round: 64... \tAverage Loss: 0.012\n",
            "Round: 65... \tAverage Loss: 0.006\n",
            "Round: 66... \tAverage Loss: 0.004\n",
            "Round: 67... \tAverage Loss: 0.008\n",
            "Round: 68... \tAverage Loss: 0.005\n",
            "Round: 69... \tAverage Loss: 0.007\n",
            "Round: 70... \tAverage Loss: 0.005\n",
            "Round: 71... \tAverage Loss: 0.004\n",
            "Round: 72... \tAverage Loss: 0.011\n",
            "Round: 73... \tAverage Loss: 0.006\n",
            "Round: 74... \tAverage Loss: 0.01\n",
            "Round: 75... \tAverage Loss: 0.006\n",
            "Round: 76... \tAverage Loss: 0.006\n",
            "Round: 77... \tAverage Loss: 0.007\n",
            "Round: 78... \tAverage Loss: 0.005\n",
            "Round: 79... \tAverage Loss: 0.005\n",
            "Round: 80... \tAverage Loss: 0.011\n",
            "Round: 81... \tAverage Loss: 0.007\n",
            "Round: 82... \tAverage Loss: 0.006\n",
            "Round: 83... \tAverage Loss: 0.003\n",
            "Round: 84... \tAverage Loss: 0.007\n",
            "Round: 85... \tAverage Loss: 0.005\n",
            "Round: 86... \tAverage Loss: 0.004\n",
            "Round: 87... \tAverage Loss: 0.005\n",
            "Round: 88... \tAverage Loss: 0.005\n",
            "Round: 89... \tAverage Loss: 0.008\n",
            "Round: 90... \tAverage Loss: 0.003\n",
            "Round: 91... \tAverage Loss: 0.007\n",
            "Round: 92... \tAverage Loss: 0.007\n",
            "Round: 93... \tAverage Loss: 0.003\n",
            "Round: 94... \tAverage Loss: 0.006\n",
            "Round: 95... \tAverage Loss: 0.007\n",
            "Round: 96... \tAverage Loss: 0.007\n",
            "Round: 97... \tAverage Loss: 0.003\n",
            "Round: 98... \tAverage Loss: 0.006\n",
            "Round: 99... \tAverage Loss: 0.004\n",
            "Round: 100... \tAverage Loss: 0.006\n",
            "Training Done!\n",
            "Total time taken to Train: 706.5578060150146\n"
          ],
          "name": "stdout"
        },
        {
          "output_type": "display_data",
          "data": {
            "image/png": "[encoded data removed]",
            "text/plain": [
              "<Figure size 432x288 with 1 Axes>"
            ]
          },
          "metadata": {
            "tags": [],
            "needs_background": "light"
          }
        }
      ]
    },
    {
      "cell_type": "markdown",
      "metadata": {
        "id": "dgiZXcnhqnuw"
      },
      "source": [
        "### Test"
      ]
    },
    {
      "cell_type": "code",
      "metadata": {
        "colab": {
          "base_uri": "https://localhost:8080/"
        },
        "id": "u1-PjWlGqnux",
        "outputId": "95d62844-5ec2-4305-f3d4-630e3ab11472"
      },
      "source": [
        "criterion = nn.CrossEntropyLoss() \n",
        "testing(mnist_mlp_non_iid_trained, mnist_data_test, 128, criterion, num_classes, classes_test)"
      ],
      "execution_count": null,
      "outputs": [
        {
          "output_type": "stream",
          "text": [
            "Test Loss: 0.111808\n",
            "\n",
            "Test Accuracy of     0: 94% (72/76)\n",
            "Test Accuracy of     1: 97% (88/90)\n",
            "Test Accuracy of     2: 95% (87/91)\n",
            "Test Accuracy of     3: 97% (71/73)\n",
            "Test Accuracy of     4: 98% (88/89)\n",
            "Test Accuracy of     5: 91% (62/68)\n",
            "Test Accuracy of     6: 96% (60/62)\n",
            "Test Accuracy of     7: 96% (78/81)\n",
            "Test Accuracy of     8: 97% (75/77)\n",
            "Test Accuracy of     9: 93% (78/83)\n",
            "\n",
            "Final Test  Accuracy: 96.076 (759.0/790.0)\n"
          ],
          "name": "stdout"
        }
      ]
    },
    {
      "cell_type": "markdown",
      "metadata": {
        "id": "v271G5yWqoT_"
      },
      "source": [
        "## MNIST MLP on Non IID Local Updates = 10"
      ]
    },
    {
      "cell_type": "markdown",
      "metadata": {
        "id": "r9MPD8E-qoT_"
      },
      "source": [
        "### Train"
      ]
    },
    {
      "cell_type": "code",
      "metadata": {
        "colab": {
          "base_uri": "https://localhost:8080/",
          "height": 1000
        },
        "id": "-RfCQ1dbqoUA",
        "outputId": "16bbcf33-7bae-4e24-d048-83230bfeebd3"
      },
      "source": [
        "# number of training rounds\n",
        "rounds = 100\n",
        "# client fraction\n",
        "C = 0.1\n",
        "# number of clients\n",
        "K = 100\n",
        "# number of training passes on local dataset for each roung\n",
        "E = 10\n",
        "# batch size\n",
        "batch_size = 10\n",
        "# learning Rate\n",
        "lr=0.05\n",
        "# dict containing different type of data partition\n",
        "data_dict = non_iid_partition(mnist_data_train, 100, 200, 300, 2)\n",
        "# load model\n",
        "mnist_mlp = MNIST_2NN()\n",
        "\n",
        "if torch.cuda.is_available():\n",
        "  mnist_mlp.cuda()\n",
        "\n",
        "mnist_mlp_non_iid_trained = training(mnist_mlp, rounds, batch_size, lr, mnist_data_train, data_dict, C, K, E, \"MNIST MLP on Non-IID Dataset Local Updates = 10\", \"green\")"
      ],
      "execution_count": null,
      "outputs": [
        {
          "output_type": "stream",
          "text": [
            "Round: 1... \tAverage Loss: 0.064\n",
            "Round: 2... \tAverage Loss: 0.029\n",
            "Round: 3... \tAverage Loss: 0.024\n",
            "Round: 4... \tAverage Loss: 0.023\n",
            "Round: 5... \tAverage Loss: 0.016\n",
            "Round: 6... \tAverage Loss: 0.018\n",
            "Round: 7... \tAverage Loss: 0.011\n",
            "Round: 8... \tAverage Loss: 0.012\n",
            "Round: 9... \tAverage Loss: 0.009\n",
            "Round: 10... \tAverage Loss: 0.008\n",
            "Round: 11... \tAverage Loss: 0.01\n",
            "Round: 12... \tAverage Loss: 0.008\n",
            "Round: 13... \tAverage Loss: 0.009\n",
            "Round: 14... \tAverage Loss: 0.014\n",
            "Round: 15... \tAverage Loss: 0.01\n",
            "Round: 16... \tAverage Loss: 0.01\n",
            "Round: 17... \tAverage Loss: 0.009\n",
            "Round: 18... \tAverage Loss: 0.011\n",
            "Round: 19... \tAverage Loss: 0.012\n",
            "Round: 20... \tAverage Loss: 0.005\n",
            "Round: 21... \tAverage Loss: 0.016\n",
            "Round: 22... \tAverage Loss: 0.009\n",
            "Round: 23... \tAverage Loss: 0.008\n",
            "Round: 24... \tAverage Loss: 0.01\n",
            "Round: 25... \tAverage Loss: 0.011\n",
            "Round: 26... \tAverage Loss: 0.008\n",
            "Round: 27... \tAverage Loss: 0.01\n",
            "Round: 28... \tAverage Loss: 0.009\n",
            "Round: 29... \tAverage Loss: 0.005\n",
            "Round: 30... \tAverage Loss: 0.006\n",
            "Round: 31... \tAverage Loss: 0.008\n",
            "Round: 32... \tAverage Loss: 0.007\n",
            "Round: 33... \tAverage Loss: 0.006\n",
            "Round: 34... \tAverage Loss: 0.009\n",
            "Round: 35... \tAverage Loss: 0.005\n",
            "Round: 36... \tAverage Loss: 0.004\n",
            "Round: 37... \tAverage Loss: 0.009\n",
            "Round: 38... \tAverage Loss: 0.009\n",
            "Round: 39... \tAverage Loss: 0.008\n",
            "Round: 40... \tAverage Loss: 0.007\n",
            "Round: 41... \tAverage Loss: 0.003\n",
            "Round: 42... \tAverage Loss: 0.006\n",
            "Round: 43... \tAverage Loss: 0.005\n",
            "Round: 44... \tAverage Loss: 0.006\n",
            "Round: 45... \tAverage Loss: 0.006\n",
            "Round: 46... \tAverage Loss: 0.006\n",
            "Round: 47... \tAverage Loss: 0.004\n",
            "Round: 48... \tAverage Loss: 0.005\n",
            "Round: 49... \tAverage Loss: 0.003\n",
            "Round: 50... \tAverage Loss: 0.004\n",
            "Round: 51... \tAverage Loss: 0.011\n",
            "Round: 52... \tAverage Loss: 0.003\n",
            "Round: 53... \tAverage Loss: 0.004\n",
            "Round: 54... \tAverage Loss: 0.006\n",
            "Round: 55... \tAverage Loss: 0.004\n",
            "Round: 56... \tAverage Loss: 0.004\n",
            "Round: 57... \tAverage Loss: 0.003\n",
            "Round: 58... \tAverage Loss: 0.005\n",
            "Round: 59... \tAverage Loss: 0.003\n",
            "Round: 60... \tAverage Loss: 0.004\n",
            "Round: 61... \tAverage Loss: 0.009\n",
            "Round: 62... \tAverage Loss: 0.004\n",
            "Round: 63... \tAverage Loss: 0.004\n",
            "Round: 64... \tAverage Loss: 0.003\n",
            "Round: 65... \tAverage Loss: 0.004\n",
            "Round: 66... \tAverage Loss: 0.005\n",
            "Round: 67... \tAverage Loss: 0.005\n",
            "Round: 68... \tAverage Loss: 0.002\n",
            "Round: 69... \tAverage Loss: 0.004\n",
            "Round: 70... \tAverage Loss: 0.003\n",
            "Round: 71... \tAverage Loss: 0.002\n",
            "Round: 72... \tAverage Loss: 0.004\n",
            "Round: 73... \tAverage Loss: 0.003\n",
            "Round: 74... \tAverage Loss: 0.003\n",
            "Round: 75... \tAverage Loss: 0.003\n",
            "Round: 76... \tAverage Loss: 0.005\n",
            "Round: 77... \tAverage Loss: 0.004\n",
            "Round: 78... \tAverage Loss: 0.005\n",
            "Round: 79... \tAverage Loss: 0.002\n",
            "Round: 80... \tAverage Loss: 0.003\n",
            "Round: 81... \tAverage Loss: 0.006\n",
            "Round: 82... \tAverage Loss: 0.006\n",
            "Round: 83... \tAverage Loss: 0.005\n",
            "Round: 84... \tAverage Loss: 0.003\n",
            "Round: 85... \tAverage Loss: 0.003\n",
            "Round: 86... \tAverage Loss: 0.003\n",
            "Round: 87... \tAverage Loss: 0.003\n",
            "Round: 88... \tAverage Loss: 0.003\n",
            "Round: 89... \tAverage Loss: 0.004\n",
            "Round: 90... \tAverage Loss: 0.003\n",
            "Round: 91... \tAverage Loss: 0.003\n",
            "Round: 92... \tAverage Loss: 0.002\n",
            "Round: 93... \tAverage Loss: 0.003\n",
            "Round: 94... \tAverage Loss: 0.002\n",
            "Round: 95... \tAverage Loss: 0.006\n",
            "Round: 96... \tAverage Loss: 0.006\n",
            "Round: 97... \tAverage Loss: 0.001\n",
            "Round: 98... \tAverage Loss: 0.001\n",
            "Round: 99... \tAverage Loss: 0.003\n",
            "Round: 100... \tAverage Loss: 0.003\n",
            "Training Done!\n",
            "Total time taken to Train: 1403.2219457626343\n"
          ],
          "name": "stdout"
        },
        {
          "output_type": "display_data",
          "data": {
            "image/png": "[encoded data removed]",
            "text/plain": [
              "<Figure size 432x288 with 1 Axes>"
            ]
          },
          "metadata": {
            "tags": [],
            "needs_background": "light"
          }
        }
      ]
    },
    {
      "cell_type": "markdown",
      "metadata": {
        "id": "kdV_5gDgqoUA"
      },
      "source": [
        "### Test"
      ]
    },
    {
      "cell_type": "code",
      "metadata": {
        "colab": {
          "base_uri": "https://localhost:8080/"
        },
        "id": "-NrRmI9KqoUB",
        "outputId": "e905fb57-4ff6-4c21-d0e3-af8ca68dc8da"
      },
      "source": [
        "criterion = nn.CrossEntropyLoss()\n",
        "testing(mnist_mlp_non_iid_trained, mnist_data_test, 128, criterion, num_classes, classes_test)"
      ],
      "execution_count": null,
      "outputs": [
        {
          "output_type": "stream",
          "text": [
            "Test Loss: 0.162679\n",
            "\n",
            "Test Accuracy of     0: 97% (74/76)\n",
            "Test Accuracy of     1: 95% (86/90)\n",
            "Test Accuracy of     2: 86% (79/91)\n",
            "Test Accuracy of     3: 95% (70/73)\n",
            "Test Accuracy of     4: 98% (88/89)\n",
            "Test Accuracy of     5: 92% (63/68)\n",
            "Test Accuracy of     6: 90% (56/62)\n",
            "Test Accuracy of     7: 91% (74/81)\n",
            "Test Accuracy of     8: 98% (76/77)\n",
            "Test Accuracy of     9: 93% (78/83)\n",
            "\n",
            "Final Test  Accuracy: 94.177 (744.0/790.0)\n"
          ],
          "name": "stdout"
        }
      ]
    },
    {
      "cell_type": "markdown",
      "metadata": {
        "id": "I0WQkY2aqpdb"
      },
      "source": [
        "## MNIST MLP on Non IID Local Updates = 25"
      ]
    },
    {
      "cell_type": "markdown",
      "metadata": {
        "id": "jP3rSzSOqpdc"
      },
      "source": [
        "### Train"
      ]
    },
    {
      "cell_type": "code",
      "metadata": {
        "colab": {
          "base_uri": "https://localhost:8080/",
          "height": 1000
        },
        "id": "uavbj4ihqpdd",
        "outputId": "c8226c08-78e7-4016-94ba-70c67749f622"
      },
      "source": [
        "# number of training rounds\n",
        "rounds = 100\n",
        "# client fraction\n",
        "C = 0.1\n",
        "# number of clients\n",
        "K = 100\n",
        "# number of training passes on local dataset for each roung\n",
        "E = 25\n",
        "# batch size\n",
        "batch_size = 10\n",
        "# learning Rate\n",
        "lr=0.05\n",
        "# dict containing different type of data partition\n",
        "data_dict = non_iid_partition(mnist_data_train, 100, 200, 300, 2)\n",
        "# load model\n",
        "mnist_mlp = MNIST_2NN()\n",
        "\n",
        "if torch.cuda.is_available():\n",
        "  mnist_mlp.cuda()\n",
        "\n",
        "mnist_mlp_non_iid_trained = training(mnist_mlp, rounds, batch_size, lr, mnist_data_train, data_dict, C, K, E, \"MNIST MLP on Non-IID Dataset Local Updates = 25\", \"green\")"
      ],
      "execution_count": null,
      "outputs": [
        {
          "output_type": "stream",
          "text": [
            "Round: 1... \tAverage Loss: 0.017\n",
            "Round: 2... \tAverage Loss: 0.008\n",
            "Round: 3... \tAverage Loss: 0.009\n",
            "Round: 4... \tAverage Loss: 0.009\n",
            "Round: 5... \tAverage Loss: 0.006\n",
            "Round: 6... \tAverage Loss: 0.006\n",
            "Round: 7... \tAverage Loss: 0.009\n",
            "Round: 8... \tAverage Loss: 0.004\n",
            "Round: 9... \tAverage Loss: 0.004\n",
            "Round: 10... \tAverage Loss: 0.004\n",
            "Round: 11... \tAverage Loss: 0.006\n",
            "Round: 12... \tAverage Loss: 0.004\n",
            "Round: 13... \tAverage Loss: 0.005\n",
            "Round: 14... \tAverage Loss: 0.005\n",
            "Round: 15... \tAverage Loss: 0.006\n",
            "Round: 16... \tAverage Loss: 0.005\n",
            "Round: 17... \tAverage Loss: 0.003\n",
            "Round: 18... \tAverage Loss: 0.003\n",
            "Round: 19... \tAverage Loss: 0.003\n",
            "Round: 20... \tAverage Loss: 0.005\n",
            "Round: 21... \tAverage Loss: 0.003\n",
            "Round: 22... \tAverage Loss: 0.002\n",
            "Round: 23... \tAverage Loss: 0.002\n",
            "Round: 24... \tAverage Loss: 0.004\n",
            "Round: 25... \tAverage Loss: 0.004\n",
            "Round: 26... \tAverage Loss: 0.004\n",
            "Round: 27... \tAverage Loss: 0.003\n",
            "Round: 28... \tAverage Loss: 0.001\n",
            "Round: 29... \tAverage Loss: 0.003\n",
            "Round: 30... \tAverage Loss: 0.003\n",
            "Round: 31... \tAverage Loss: 0.002\n",
            "Round: 32... \tAverage Loss: 0.002\n",
            "Round: 33... \tAverage Loss: 0.003\n",
            "Round: 34... \tAverage Loss: 0.003\n",
            "Round: 35... \tAverage Loss: 0.002\n",
            "Round: 36... \tAverage Loss: 0.003\n",
            "Round: 37... \tAverage Loss: 0.002\n",
            "Round: 39... \tAverage Loss: 0.002\n",
            "Round: 40... \tAverage Loss: 0.002\n",
            "Round: 41... \tAverage Loss: 0.004\n",
            "Round: 42... \tAverage Loss: 0.002\n",
            "Round: 43... \tAverage Loss: 0.002\n",
            "Round: 44... \tAverage Loss: 0.002\n",
            "Round: 45... \tAverage Loss: 0.001\n",
            "Round: 46... \tAverage Loss: 0.002\n",
            "Round: 47... \tAverage Loss: 0.002\n",
            "Round: 48... \tAverage Loss: 0.002\n",
            "Round: 49... \tAverage Loss: 0.003\n",
            "Round: 50... \tAverage Loss: 0.002\n",
            "Round: 51... \tAverage Loss: 0.003\n",
            "Round: 52... \tAverage Loss: 0.001\n",
            "Round: 53... \tAverage Loss: 0.002\n",
            "Round: 54... \tAverage Loss: 0.001\n",
            "Round: 55... \tAverage Loss: 0.002\n",
            "Round: 56... \tAverage Loss: 0.002\n",
            "Round: 57... \tAverage Loss: 0.002\n",
            "Round: 58... \tAverage Loss: 0.001\n",
            "Round: 59... \tAverage Loss: 0.001\n",
            "Round: 60... \tAverage Loss: 0.001\n",
            "Round: 61... \tAverage Loss: 0.002\n",
            "Round: 62... \tAverage Loss: 0.002\n",
            "Round: 63... \tAverage Loss: 0.001\n",
            "Round: 64... \tAverage Loss: 0.002\n",
            "Round: 65... \tAverage Loss: 0.001\n",
            "Round: 66... \tAverage Loss: 0.002\n",
            "Round: 67... \tAverage Loss: 0.001\n",
            "Round: 68... \tAverage Loss: 0.001\n",
            "Round: 69... \tAverage Loss: 0.003\n",
            "Round: 70... \tAverage Loss: 0.001\n",
            "Round: 71... \tAverage Loss: 0.002\n",
            "Round: 72... \tAverage Loss: 0.001\n",
            "Round: 73... \tAverage Loss: 0.001\n",
            "Round: 74... \tAverage Loss: 0.002\n",
            "Round: 75... \tAverage Loss: 0.002\n",
            "Round: 76... \tAverage Loss: 0.001\n",
            "Round: 77... \tAverage Loss: 0.001\n",
            "Round: 78... \tAverage Loss: 0.001\n",
            "Round: 79... \tAverage Loss: 0.002\n",
            "Round: 80... \tAverage Loss: 0.002\n",
            "Round: 81... \tAverage Loss: 0.001\n",
            "Round: 82... \tAverage Loss: 0.002\n",
            "Round: 83... \tAverage Loss: 0.001\n",
            "Round: 84... \tAverage Loss: 0.001\n",
            "Round: 85... \tAverage Loss: 0.002\n",
            "Round: 86... \tAverage Loss: 0.001\n",
            "Round: 87... \tAverage Loss: 0.001\n",
            "Round: 88... \tAverage Loss: 0.001\n",
            "Round: 89... \tAverage Loss: 0.002\n",
            "Round: 90... \tAverage Loss: 0.002\n",
            "Round: 91... \tAverage Loss: 0.001\n",
            "Round: 92... \tAverage Loss: 0.002\n",
            "Round: 93... \tAverage Loss: 0.001\n",
            "Round: 94... \tAverage Loss: 0.001\n",
            "Round: 95... \tAverage Loss: 0.001\n",
            "Round: 96... \tAverage Loss: 0.001\n",
            "Round: 97... \tAverage Loss: 0.001\n",
            "Round: 98... \tAverage Loss: 0.001\n",
            "Round: 99... \tAverage Loss: 0.001\n",
            "Round: 100... \tAverage Loss: 0.001\n",
            "Training Done!\n",
            "Total time taken to Train: 3313.7407596111298\n"
          ],
          "name": "stdout"
        },
        {
          "output_type": "display_data",
          "data": {
            "image/png": "[encoded data removed]",
            "text/plain": [
              "<Figure size 432x288 with 1 Axes>"
            ]
          },
          "metadata": {
            "tags": [],
            "needs_background": "light"
          }
        }
      ]
    },
    {
      "cell_type": "markdown",
      "metadata": {
        "id": "G2bSUxCLqpde"
      },
      "source": [
        "### Test"
      ]
    },
    {
      "cell_type": "code",
      "metadata": {
        "colab": {
          "base_uri": "https://localhost:8080/"
        },
        "id": "_l3UR8J7qpdf",
        "outputId": "04d6a1b3-6f1a-4685-f6ff-19c82fb3b9e2"
      },
      "source": [
        "criterion = nn.CrossEntropyLoss() \n",
        "testing(mnist_mlp_non_iid_trained, mnist_data_test, 128, criterion, num_classes, classes_test)"
      ],
      "execution_count": null,
      "outputs": [
        {
          "output_type": "stream",
          "text": [
            "Test Loss: 0.135556\n",
            "\n",
            "Test Accuracy of     0: 100% (76/76)\n",
            "Test Accuracy of     1: 100% (90/90)\n",
            "Test Accuracy of     2: 95% (87/91)\n",
            "Test Accuracy of     3: 97% (71/73)\n",
            "Test Accuracy of     4: 96% (86/89)\n",
            "Test Accuracy of     5: 89% (61/68)\n",
            "Test Accuracy of     6: 96% (60/62)\n",
            "Test Accuracy of     7: 97% (79/81)\n",
            "Test Accuracy of     8: 94% (73/77)\n",
            "Test Accuracy of     9: 96% (80/83)\n",
            "\n",
            "Final Test  Accuracy: 96.582 (763.0/790.0)\n"
          ],
          "name": "stdout"
        }
      ]
    },
    {
      "cell_type": "markdown",
      "metadata": {
        "id": "VCGAtMU8qp__"
      },
      "source": [
        "## MNIST MLP on Non IID Local Updates = 50"
      ]
    },
    {
      "cell_type": "markdown",
      "metadata": {
        "id": "Rsm_nTgKqqAA"
      },
      "source": [
        "### Train"
      ]
    },
    {
      "cell_type": "code",
      "metadata": {
        "id": "smM1UncbqqAB"
      },
      "source": [
        "# number of training rounds\n",
        "rounds = 100\n",
        "# client fraction\n",
        "C = 0.1\n",
        "# number of clients\n",
        "K = 100\n",
        "# number of training passes on local dataset for each roung\n",
        "E = 50\n",
        "# batch size\n",
        "batch_size = 10\n",
        "# learning Rate\n",
        "lr=0.05\n",
        "# dict containing different type of data partition\n",
        "data_dict = non_iid_partition(mnist_data_train, 100, 200, 300, 2)\n",
        "# load model\n",
        "mnist_mlp = MNIST_2NN()\n",
        "\n",
        "if torch.cuda.is_available():\n",
        "  mnist_mlp.cuda()\n",
        "\n",
        "mnist_mlp_non_iid_trained = training(mnist_mlp, rounds, batch_size, lr, mnist_data_train, data_dict, C, K, E, \"MNIST MLP on Non-IID Dataset Local Updates = 50\", \"green\")"
      ],
      "execution_count": null,
      "outputs": []
    },
    {
      "cell_type": "markdown",
      "metadata": {
        "id": "crYx7LXxqqAD"
      },
      "source": [
        "### Test"
      ]
    },
    {
      "cell_type": "code",
      "metadata": {
        "id": "MdgLXwbhqqAE"
      },
      "source": [
        "criterion = nn.CrossEntropyLoss()\n",
        "testing(mnist_mlp_non_iid_trained, mnist_data_test, 128, criterion, num_classes, classes_test)"
      ],
      "execution_count": null,
      "outputs": []
    },
    {
      "cell_type": "markdown",
      "metadata": {
        "id": "VOx3k6Ar4kZ6"
      },
      "source": [
        "# Summary of Experiments and Results"
      ]
    },
    {
      "cell_type": "markdown",
      "metadata": {
        "id": "nkTB91Ls4qIT"
      },
      "source": [
        "I ran 4 different experiments for the Federated Averaging Paper (Linked -> [here](https://arxiv.org/pdf/1602.05629.pdf)). \n",
        "\n",
        "You can look at the training graph with the training for each experiment above.\n",
        " \n",
        "    **MNIST CNN**\n",
        "\n",
        "      - IID Parition: (Test Accuracy 99.434%)\n",
        "      - non-IID Parition: (Test Accuracy 98.734%)\n",
        "\n",
        "    **MNIST MLP**\n",
        "      - IID Parition: (Test Accuracy 97.848%)\n",
        "      - non-IID Parition: (Tes0t Accuracy 94.684%)\n",
        "\n",
        "---\n",
        "\n",
        "### Observations\n",
        "\n",
        "#### Model Architecture\n",
        "\n",
        "The first thing that I observed here was, in the paper for the CNN architecture, the authors have reported that total parameters as **1,663,370**. After my implementation, the total parameters that I got were **582,026**\n",
        "\n",
        "Authors, haven't used Dropout layers but I noticed a significant improvement in training with a single dropout layer after the second CNN layer with a drop probability of **0.2**.\n",
        "\n",
        "#### Hyperparameters\n",
        "\n",
        "Authors have reported the following hyperparameters for their CNN model \n",
        "\n",
        "    IID Partition\n",
        "      - Learning Rate: 0.215\n",
        "      - Local Epochs: 1, 5, 25, 50, 100, 200, 400\n",
        "      - Local Batch Size: 10\n",
        "      - Client Fraction: 0.1\n",
        "      - Optimizer: SGD\n",
        "\n",
        "    non-IID Partition\n",
        "        - Learning Rate: 0.1\n",
        "        - Local Epochs: 1, 5, 25, 50, 100, 200, 400\n",
        "        - Local Batch Size: 10\n",
        "        - Client Fraction: 0.1\n",
        "        - Optimizer: SGD\n",
        "\n",
        "I noted that, using the following hyperparameters, my network gets stuck in a local minima and doesn't converge. The learning rate used by the authors seems to be very high for deep learning task\n",
        "\n",
        "*The hyperparameters that worked for me on CNN are the following*\n",
        "\n",
        "    - Learning Rate: 0.01\n",
        "    - Local Epochs: 5\n",
        "    - Local Batch Size: 10\n",
        "    - Client Fraction: 0.1\n",
        "    - Optimizer: SGD\n",
        "\n",
        "\n",
        "For CNN trained on non-IID data partition, with my hyperparameters, the test accuracy can be achieved with just 50 rounds of communication instead of 100.\n",
        "\n",
        "\n",
        "For, MLP model, I noticed that with learning rate of **0.01**, the network was getting stuck in a local minima. I experimented with **0.03** and **0.05** learning rate that gave me better results on the MLP model\n",
        "---\n",
        "\n",
        "**Big thanks to https://github.com/SarodYatawatta/federated-pytorch-test for providing an easy to understand implementation of federated learning to get me started in this field.**"
      ]
    }
  ]
}