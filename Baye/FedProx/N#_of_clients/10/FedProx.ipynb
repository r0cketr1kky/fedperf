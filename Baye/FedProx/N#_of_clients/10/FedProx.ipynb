{
  "nbformat": 4,
  "nbformat_minor": 0,
  "metadata": {
    "accelerator": "GPU",
    "colab": {
      "name": "FedProx.ipynb",
      "provenance": [],
      "collapsed_sections": [],
      "machine_shape": "hm"
    },
    "kernelspec": {
      "name": "python3",
      "display_name": "Python 3"
    },
    "language_info": {
      "name": "python"
    }
  },
  "cells": [
    {
      "cell_type": "markdown",
      "metadata": {
        "id": "view-in-github"
      },
      "source": [
        "<a href=\"https://colab.research.google.com/github/tushar-semwal/fedperf/blob/main/Vineeth/Local_Rounds/FedProx/FedProx.ipynb\" target=\"_parent\"><img src=\"https://colab.research.google.com/assets/colab-badge.svg\" alt=\"Open In Colab\"/></a>"
      ]
    },
    {
      "cell_type": "code",
      "metadata": {
        "id": "yKcpjZLrQQJV"
      },
      "source": [
        "%%capture output\n",
        "try:\n",
        "    from google.colab import drive\n",
        "    drive.mount('/content/drive')\n",
        "\n",
        "    import os\n",
        "    path = '/content/drive/MyDrive/Colab Notebooks/OpenMined/'\n",
        "    os.makedirs(path, exist_ok=True)\n",
        "except:\n",
        "    path = './'"
      ],
      "execution_count": 41,
      "outputs": []
    },
    {
      "cell_type": "markdown",
      "metadata": {
        "id": "-0_nKpfq2h1R"
      },
      "source": [
        "## Imports"
      ]
    },
    {
      "cell_type": "code",
      "metadata": {
        "colab": {
          "base_uri": "https://localhost:8080/"
        },
        "id": "DLLNM9X2JbQ8",
        "outputId": "46546bb6-bcce-48bc-aa2f-d92ca9549945"
      },
      "source": [
        "%load_ext tensorboard\n",
        "import os\n",
        "import numpy as np\n",
        "import matplotlib\n",
        "import matplotlib.pyplot as plt\n",
        "import copy\n",
        "import random\n",
        "import time\n",
        "\n",
        "import torch\n",
        "import torch.nn as nn\n",
        "import torch.nn.functional as F\n",
        "\n",
        "from torch.utils.data import Dataset, DataLoader\n",
        "from torch.utils.tensorboard import SummaryWriter\n",
        "from torchvision import transforms, utils, datasets\n",
        "from torchsummary import summary\n",
        "\n",
        "\n",
        "# Check assigned GPU\n",
        "gpu_info = !nvidia-smi\n",
        "gpu_info = '\\n'.join(gpu_info)\n",
        "if gpu_info.find('failed') >= 0:\n",
        "  print('Select the Runtime > \"Change runtime type\" menu to enable a GPU accelerator, ')\n",
        "  print('and then re-execute this cell.')\n",
        "else:\n",
        "  print(gpu_info)\n",
        "\n",
        "# set manual seed for reproducibility\n",
        "seed = 42\n",
        "\n",
        "# general reproducibility\n",
        "random.seed(seed)\n",
        "np.random.seed(seed)\n",
        "torch.manual_seed(seed)\n",
        "\n",
        "# gpu training specific\n",
        "torch.backends.cudnn.deterministic = True\n",
        "torch.backends.cudnn.benchmark = False"
      ],
      "execution_count": 42,
      "outputs": [
        {
          "output_type": "stream",
          "text": [
            "The tensorboard extension is already loaded. To reload it, use:\n",
            "  %reload_ext tensorboard\n",
            "Thu Apr 22 08:49:18 2021       \n",
            "+-----------------------------------------------------------------------------+\n",
            "| NVIDIA-SMI 460.67       Driver Version: 460.32.03    CUDA Version: 11.2     |\n",
            "|-------------------------------+----------------------+----------------------+\n",
            "| GPU  Name        Persistence-M| Bus-Id        Disp.A | Volatile Uncorr. ECC |\n",
            "| Fan  Temp  Perf  Pwr:Usage/Cap|         Memory-Usage | GPU-Util  Compute M. |\n",
            "|                               |                      |               MIG M. |\n",
            "|===============================+======================+======================|\n",
            "|   0  Tesla T4            Off  | 00000000:00:04.0 Off |                    0 |\n",
            "| N/A   65C    P0    29W /  70W |   1150MiB / 15109MiB |      0%      Default |\n",
            "|                               |                      |                  N/A |\n",
            "+-------------------------------+----------------------+----------------------+\n",
            "                                                                               \n",
            "+-----------------------------------------------------------------------------+\n",
            "| Processes:                                                                  |\n",
            "|  GPU   GI   CI        PID   Type   Process name                  GPU Memory |\n",
            "|        ID   ID                                                   Usage      |\n",
            "|=============================================================================|\n",
            "+-----------------------------------------------------------------------------+\n"
          ],
          "name": "stdout"
        }
      ]
    },
    {
      "cell_type": "markdown",
      "metadata": {
        "id": "NY4eWzGiL6Mj"
      },
      "source": [
        "## Load the MNIST Dataset"
      ]
    },
    {
      "cell_type": "code",
      "metadata": {
        "id": "41lWlknqo3pI"
      },
      "source": [
        "torch.cuda.set_device('cuda:0')"
      ],
      "execution_count": 43,
      "outputs": []
    },
    {
      "cell_type": "code",
      "metadata": {
        "id": "G649tjTXLL8F"
      },
      "source": [
        "# create transforms\n",
        "# We will just convert to tensor and normalize since no special transforms are mentioned in the paper\n",
        "transforms_mnist = transforms.Compose([\n",
        "                                       transforms.ToTensor(),\n",
        "                                       transforms.Normalize((0.1307,), (0.3081,))\n",
        "                                       ])\n",
        "\n",
        "mnist_data_train = datasets.MNIST('./data/mnist/', train=True, download=True, transform=transforms_mnist)\n",
        "mnist_data_test = datasets.MNIST('../data/mnist/', train=False, download=True, transform=transforms_mnist)"
      ],
      "execution_count": 44,
      "outputs": []
    },
    {
      "cell_type": "code",
      "metadata": {
        "colab": {
          "base_uri": "https://localhost:8080/"
        },
        "id": "dm9usjn2vFkL",
        "outputId": "62a1d90e-adc2-451d-adea-171aec6dc05e"
      },
      "source": [
        "classes = np.array(list(mnist_data_train.class_to_idx.values()))\n",
        "classes_test = np.array(list(mnist_data_test.class_to_idx.values()))\n",
        "num_classes = len(classes_test)\n",
        "print(\"Classes: {} \\tType: {}\".format(classes, type(classes)))\n",
        "print(\"Classes Test: {} \\tType: {}\".format(classes_test, type(classes)))\n"
      ],
      "execution_count": 45,
      "outputs": [
        {
          "output_type": "stream",
          "text": [
            "Classes: [0 1 2 3 4 5 6 7 8 9] \tType: <class 'numpy.ndarray'>\n",
            "Classes Test: [0 1 2 3 4 5 6 7 8 9] \tType: <class 'numpy.ndarray'>\n"
          ],
          "name": "stdout"
        }
      ]
    },
    {
      "cell_type": "code",
      "metadata": {
        "colab": {
          "base_uri": "https://localhost:8080/"
        },
        "id": "9lvJt3Ofv2SO",
        "outputId": "43fd733d-c497-48d4-ae9f-39a2e625f1fe"
      },
      "source": [
        "print(\"Image Shape: {}\".format(mnist_data_train.data[0].size()))"
      ],
      "execution_count": 46,
      "outputs": [
        {
          "output_type": "stream",
          "text": [
            "Image Shape: torch.Size([28, 28])\n"
          ],
          "name": "stdout"
        }
      ]
    },
    {
      "cell_type": "markdown",
      "metadata": {
        "id": "jCOONkg-zV7Y"
      },
      "source": [
        "## Visualize Data"
      ]
    },
    {
      "cell_type": "code",
      "metadata": {
        "id": "R9MK03TZw6Qs"
      },
      "source": [
        "def imshow(img):\n",
        "\timg = img/2 + 0.5 #unnormalize the image\n",
        "\tplt.imshow(img, cmap='gray') # convert from tensor to image"
      ],
      "execution_count": 47,
      "outputs": []
    },
    {
      "cell_type": "code",
      "metadata": {
        "id": "gMJ0Kx4Kw-_H"
      },
      "source": [
        "def visualize(dataset):\n",
        "  figure = plt.figure(figsize=(25,4))\n",
        "  for i in range(20):\n",
        "    axis = figure.add_subplot(2, 20/2, i+1, xticks=[], yticks=[])\n",
        "    data = dataset.data[i]\n",
        "    data = data.numpy()\n",
        "\n",
        "    target = dataset.targets[i]\n",
        "    target = target.numpy()\n",
        "    imshow(data)\n",
        "    axis.set_title(target)\n"
      ],
      "execution_count": 48,
      "outputs": []
    },
    {
      "cell_type": "code",
      "metadata": {
        "colab": {
          "base_uri": "https://localhost:8080/",
          "height": 249
        },
        "id": "8bPOwKg10Ro7",
        "outputId": "b0a22a9e-9449-455f-f104-6b459399e516"
      },
      "source": [
        "visualize(mnist_data_train)"
      ],
      "execution_count": 49,
      "outputs": [
        {
          "output_type": "display_data",
          "data": {
            "image/png": "[encoded data removed]",
            "text/plain": [
              "<Figure size 1800x288 with 20 Axes>"
            ]
          },
          "metadata": {
            "tags": []
          }
        }
      ]
    },
    {
      "cell_type": "code",
      "metadata": {
        "colab": {
          "base_uri": "https://localhost:8080/",
          "height": 249
        },
        "id": "RKoh5Cf70UYu",
        "outputId": "ce7e8acc-d4f5-49af-89d0-1c53bf08f399"
      },
      "source": [
        "visualize(mnist_data_test)"
      ],
      "execution_count": 50,
      "outputs": [
        {
          "output_type": "display_data",
          "data": {
            "image/png": "[encoded data removed]",
            "text/plain": [
              "<Figure size 1800x288 with 20 Axes>"
            ]
          },
          "metadata": {
            "tags": []
          }
        }
      ]
    },
    {
      "cell_type": "markdown",
      "metadata": {
        "id": "ctjRsETiO1qO"
      },
      "source": [
        "## Partitioning the Data (IID and non-IID)"
      ]
    },
    {
      "cell_type": "code",
      "metadata": {
        "id": "3_v8lyrgO5dD"
      },
      "source": [
        "def iid_partition(dataset, clients):\n",
        "  \"\"\"\n",
        "  I.I.D paritioning of data over clients\n",
        "  Shuffle the data\n",
        "  Split it between clients\n",
        "  \n",
        "  params:\n",
        "    - dataset (torch.utils.Dataset): Dataset containing the MNIST Images\n",
        "    - clients (int): Number of Clients to split the data between\n",
        "\n",
        "  returns:\n",
        "    - Dictionary of image indexes for each client\n",
        "  \"\"\"\n",
        "\n",
        "  num_items_per_client = int(len(dataset)/clients)\n",
        "  client_dict = {}\n",
        "  image_idxs = [i for i in range(len(dataset))]\n",
        "\n",
        "  for i in range(clients):\n",
        "    client_dict[i] = set(np.random.choice(image_idxs, num_items_per_client, replace=False))\n",
        "    image_idxs = list(set(image_idxs) - client_dict[i])\n",
        "\n",
        "  return client_dict"
      ],
      "execution_count": 51,
      "outputs": []
    },
    {
      "cell_type": "code",
      "metadata": {
        "id": "4zMdliGMQoSl"
      },
      "source": [
        "def non_iid_partition(dataset, clients, total_shards, shards_size, num_shards_per_client):\n",
        "  \"\"\"\n",
        "  non I.I.D parititioning of data over clients\n",
        "  Sort the data by the digit label\n",
        "  Divide the data into N shards of size S\n",
        "  Each of the clients will get X shards\n",
        "\n",
        "  params:\n",
        "    - dataset (torch.utils.Dataset): Dataset containing the MNIST Images\n",
        "    - clients (int): Number of Clients to split the data between\n",
        "    - total_shards (int): Number of shards to partition the data in\n",
        "    - shards_size (int): Size of each shard \n",
        "    - num_shards_per_client (int): Number of shards of size shards_size that each client receives\n",
        "\n",
        "  returns:\n",
        "    - Dictionary of image indexes for each client\n",
        "  \"\"\"\n",
        "  \n",
        "  shard_idxs = [i for i in range(total_shards)]\n",
        "  client_dict = {i: np.array([], dtype='int64') for i in range(clients)}\n",
        "  idxs = np.arange(len(dataset))\n",
        "  data_labels = dataset.targets.numpy()\n",
        "\n",
        "  # sort the labels\n",
        "  label_idxs = np.vstack((idxs, data_labels))\n",
        "  label_idxs = label_idxs[:, label_idxs[1,:].argsort()]\n",
        "  idxs = label_idxs[0,:]\n",
        "\n",
        "  # divide the data into total_shards of size shards_size\n",
        "  # assign num_shards_per_client to each client\n",
        "  for i in range(clients):\n",
        "    rand_set = set(np.random.choice(shard_idxs, num_shards_per_client, replace=False))\n",
        "    shard_idxs = list(set(shard_idxs) - rand_set)\n",
        "\n",
        "    for rand in rand_set:\n",
        "      client_dict[i] = np.concatenate((client_dict[i], idxs[rand*shards_size:(rand+1)*shards_size]), axis=0)\n",
        "  \n",
        "  return client_dict\n",
        "\n",
        "\n",
        "\n"
      ],
      "execution_count": 52,
      "outputs": []
    },
    {
      "cell_type": "markdown",
      "metadata": {
        "id": "PTfxv8kFoGAy"
      },
      "source": [
        "## Models"
      ]
    },
    {
      "cell_type": "code",
      "metadata": {
        "id": "CvoDNFKbZST5"
      },
      "source": [
        "class MNIST_2NN(nn.Module):\n",
        "  \"\"\"\n",
        "  A simple multilayer-perceptron with 2-hidden layers with 200 units each\n",
        "  using ReLu activations\n",
        "\n",
        "  Total Expected Params: 199,210\n",
        "  \"\"\"\n",
        "  def __init__(self):\n",
        "    super(MNIST_2NN, self).__init__()\n",
        "\n",
        "    self.fc1 = nn.Linear(28*28, 200)\n",
        "    self.fc2 = nn.Linear(200, 200)\n",
        "    self.fc3 = nn.Linear(200, 10)\n",
        "\n",
        "  def forward(self, x):\n",
        "    x = torch.flatten(x, 1)\n",
        "    x = F.relu(self.fc1(x))\n",
        "    x = F.relu(self.fc2(x))\n",
        "    out = self.fc3(x)\n",
        "\n",
        "    return x"
      ],
      "execution_count": 53,
      "outputs": []
    },
    {
      "cell_type": "code",
      "metadata": {
        "id": "ut1hZ8x3qYPZ"
      },
      "source": [
        "class MNIST_CNN(nn.Module):\n",
        "  \"\"\"\n",
        "  CNN with two 5x5 convolution lauers(the first with 32 channels, second with 64,\n",
        "  each followed with 2x2 max pooling), a fully connected layer with 512 uunits and \n",
        "  ReLu activation, and the final Softmax output layer\n",
        "\n",
        "  Total Expected Params: 1,663,370\n",
        "  \"\"\"\n",
        "  def __init__(self):\n",
        "    super(MNIST_CNN, self).__init__()\n",
        "\n",
        "    self.conv1 = nn.Conv2d(1, 32, kernel_size=5)\n",
        "    self.conv2 = nn.Conv2d(32, 64, kernel_size=5)\n",
        "    \n",
        "    self.pool = nn.MaxPool2d(2,2)\n",
        "    self.dropout = nn.Dropout(p=0.2)\n",
        "\n",
        "    self.fc1 = nn.Linear(1024, 512)\n",
        "    self.out = nn.Linear(512, 10)\n",
        "\n",
        "  def forward(self, x):\n",
        "    x = self.pool(F.relu(self.conv1(x)))\n",
        "    x = self.pool(F.relu(self.conv2(x)))\n",
        "    x = self.dropout(x)\n",
        "    x = torch.flatten(x, 1)\n",
        "    x = F.relu(self.fc1(x))\n",
        "    x = self.out(x)\n",
        "    out = F.log_softmax(x, dim=1)\n",
        "\n",
        "    return out"
      ],
      "execution_count": 54,
      "outputs": []
    },
    {
      "cell_type": "markdown",
      "metadata": {
        "id": "uVv4HA9HuLtr"
      },
      "source": [
        "### Print Model Summaries"
      ]
    },
    {
      "cell_type": "code",
      "metadata": {
        "colab": {
          "base_uri": "https://localhost:8080/"
        },
        "id": "I5oTH710sJEt",
        "outputId": "32fc9e9a-2d35-434c-815b-488bc9a8fb9b"
      },
      "source": [
        "mnist_mlp = MNIST_2NN()\n",
        "mnist_cnn = MNIST_CNN()\n",
        "\n",
        "if torch.cuda.is_available():\n",
        "  mnist_mlp.cuda()\n",
        "  mnist_cnn.cuda()\n",
        "\n",
        "print(\"MNIST MLP SUMMARY\")\n",
        "print(summary(mnist_mlp, (28,28)))\n",
        "\n",
        "print(\"\\nMNIST CNN SUMMARY\")\n",
        "print(summary(mnist_cnn, (1, 28,28)))"
      ],
      "execution_count": 55,
      "outputs": [
        {
          "output_type": "stream",
          "text": [
            "MNIST MLP SUMMARY\n",
            "----------------------------------------------------------------\n",
            "        Layer (type)               Output Shape         Param #\n",
            "================================================================\n",
            "            Linear-1                  [-1, 200]         157,000\n",
            "            Linear-2                  [-1, 200]          40,200\n",
            "            Linear-3                   [-1, 10]           2,010\n",
            "================================================================\n",
            "Total params: 199,210\n",
            "Trainable params: 199,210\n",
            "Non-trainable params: 0\n",
            "----------------------------------------------------------------\n",
            "Input size (MB): 0.00\n",
            "Forward/backward pass size (MB): 0.00\n",
            "Params size (MB): 0.76\n",
            "Estimated Total Size (MB): 0.77\n",
            "----------------------------------------------------------------\n",
            "None\n",
            "\n",
            "MNIST CNN SUMMARY\n",
            "----------------------------------------------------------------\n",
            "        Layer (type)               Output Shape         Param #\n",
            "================================================================\n",
            "            Conv2d-1           [-1, 32, 24, 24]             832\n",
            "         MaxPool2d-2           [-1, 32, 12, 12]               0\n",
            "            Conv2d-3             [-1, 64, 8, 8]          51,264\n",
            "         MaxPool2d-4             [-1, 64, 4, 4]               0\n",
            "           Dropout-5             [-1, 64, 4, 4]               0\n",
            "            Linear-6                  [-1, 512]         524,800\n",
            "            Linear-7                   [-1, 10]           5,130\n",
            "================================================================\n",
            "Total params: 582,026\n",
            "Trainable params: 582,026\n",
            "Non-trainable params: 0\n",
            "----------------------------------------------------------------\n",
            "Input size (MB): 0.00\n",
            "Forward/backward pass size (MB): 0.23\n",
            "Params size (MB): 2.22\n",
            "Estimated Total Size (MB): 2.45\n",
            "----------------------------------------------------------------\n",
            "None\n"
          ],
          "name": "stdout"
        }
      ]
    },
    {
      "cell_type": "markdown",
      "metadata": {
        "id": "JYXicM_FjSv6"
      },
      "source": [
        "## FedProx"
      ]
    },
    {
      "cell_type": "markdown",
      "metadata": {
        "id": "cjGMTWxAOsf1"
      },
      "source": [
        "### Systems Heterogeneity Simulations\n",
        "\n",
        "Generate epochs for selected clients based on percentage of devices that corresponds to heterogeneity. \n",
        "\n",
        "Assign x number of epochs (chosen unifirmly at random between [1, E]) to 0%, 50% or 90% of the selected devices, respectively. Settings where 0% devices perform fewer than E epochs of work correspond to the environments without system heterogeneity, while 90% of the devices sending their partial solutions corresponds to highly heterogenous system."
      ]
    },
    {
      "cell_type": "code",
      "metadata": {
        "id": "i-WTHuT3OpFD"
      },
      "source": [
        "def GenerateLocalEpochs(percentage, size, max_epochs):\n",
        "  ''' Method generates list of epochs for selected clients\n",
        "  to replicate system heteroggeneity\n",
        "\n",
        "  Params:\n",
        "    percentage: percentage of clients to have fewer than E epochs\n",
        "    size:       total size of the list\n",
        "    max_epochs: maximum value for local epochs\n",
        "  \n",
        "  Returns:\n",
        "    List of size epochs for each Client Update\n",
        "\n",
        "  '''\n",
        "\n",
        "  # if percentage is 0 then each client runs for E epochs\n",
        "  if percentage == 0:\n",
        "      return np.array([max_epochs]*size)\n",
        "  else:\n",
        "    # get the number of clients to have fewer than E epochs\n",
        "    heterogenous_size = int((percentage/100) * size)\n",
        "\n",
        "    # generate random uniform epochs of heterogenous size between 1 and E\n",
        "    epoch_list = np.random.randint(1, max_epochs, heterogenous_size)\n",
        "\n",
        "    # the rest of the clients will have E epochs\n",
        "    remaining_size = size - heterogenous_size\n",
        "    rem_list = [max_epochs]*remaining_size\n",
        "\n",
        "    epoch_list = np.append(epoch_list, rem_list, axis=0)\n",
        "    \n",
        "    # shuffle the list and return\n",
        "    np.random.shuffle(epoch_list)\n",
        "\n",
        "    return epoch_list"
      ],
      "execution_count": 56,
      "outputs": []
    },
    {
      "cell_type": "markdown",
      "metadata": {
        "id": "gf_8XEXa-gZ7"
      },
      "source": [
        "## Federated Averaging"
      ]
    },
    {
      "cell_type": "markdown",
      "metadata": {
        "id": "L-aNdQsQ-Kvp"
      },
      "source": [
        "### Local Training (Client Update)\n",
        "\n",
        "Local training for the model on client side"
      ]
    },
    {
      "cell_type": "code",
      "metadata": {
        "id": "oX6OsQyO-Gz7"
      },
      "source": [
        "class CustomDataset(Dataset):\n",
        "  def __init__(self, dataset, idxs):\n",
        "      self.dataset = dataset\n",
        "      self.idxs = list(idxs)\n",
        "\n",
        "  def __len__(self):\n",
        "      return len(self.idxs)\n",
        "\n",
        "  def __getitem__(self, item):\n",
        "      image, label = self.dataset[self.idxs[item]]\n",
        "      return image, label\n",
        "\n",
        "\n",
        "class ClientUpdate(object):\n",
        "  def __init__(self, dataset, batchSize, learning_rate, epochs, idxs, mu, algorithm):\n",
        "    self.train_loader = DataLoader(CustomDataset(dataset, idxs), batch_size=batchSize, shuffle=True)\n",
        "    self.algorithm = algorithm\n",
        "    self.learning_rate = learning_rate\n",
        "    self.epochs = epochs\n",
        "\n",
        "  def train(self, model):\n",
        "    criterion = nn.CrossEntropyLoss()\n",
        "    proximal_criterion = nn.MSELoss(reduction='mean')\n",
        "    optimizer = torch.optim.SGD(model.parameters(), lr=self.learning_rate, momentum=0.5)\n",
        "\n",
        "    # use the weights of global model for proximal term calculation\n",
        "    global_model = copy.deepcopy(model)\n",
        "\n",
        "    # calculate local training time\n",
        "    start_time = time.time()\n",
        "\n",
        "\n",
        "    e_loss = []\n",
        "    for epoch in range(1, self.epochs+1):\n",
        "\n",
        "      train_loss = 0.0\n",
        "\n",
        "      model.train()\n",
        "      for data, labels in self.train_loader:\n",
        "\n",
        "        if torch.cuda.is_available():\n",
        "          data, labels = data.cuda(), labels.cuda()\n",
        "\n",
        "        # clear the gradients\n",
        "        optimizer.zero_grad()\n",
        "        # make a forward pass\n",
        "        output = model(data)\n",
        "\n",
        "        # calculate the loss + the proximal term\n",
        "        _, pred = torch.max(output, 1)\n",
        "\n",
        "        if self.algorithm == 'fedprox':\n",
        "          proximal_term = 0.0\n",
        "\n",
        "          # iterate through the current and global model parameters\n",
        "          for w, w_t in zip(model.parameters(), global_model.parameters()) :\n",
        "            # update the proximal term \n",
        "            #proximal_term += torch.sum(torch.abs((w-w_t)**2))\n",
        "            proximal_term += (w-w_t).norm(2)\n",
        "\n",
        "          loss = criterion(output, labels) + (mu/2)*proximal_term\n",
        "        else:\n",
        "          loss = criterion(output, labels)\n",
        "    \n",
        "        # do a backwards pass\n",
        "        loss.backward()\n",
        "        # perform a single optimization step\n",
        "        optimizer.step()\n",
        "        # update training loss\n",
        "        train_loss += loss.item()*data.size(0)\n",
        "\n",
        "      # average losses\n",
        "      train_loss = train_loss/len(self.train_loader.dataset)\n",
        "      e_loss.append(train_loss)\n",
        "\n",
        "    total_loss = sum(e_loss)/len(e_loss)\n",
        "\n",
        "    return model.state_dict(), total_loss, (time.time() - start_time)"
      ],
      "execution_count": 57,
      "outputs": []
    },
    {
      "cell_type": "markdown",
      "metadata": {
        "id": "Ukgh1DVHE2Ds"
      },
      "source": [
        "### Server Side Training\n",
        "\n",
        "Following Algorithm 1 from the paper"
      ]
    },
    {
      "cell_type": "code",
      "metadata": {
        "id": "1NF1e33BgpeL"
      },
      "source": [
        "def training(model, rounds, batch_size, lr, ds, ds_test, data_dict, C, K, E, mu, percentage, plt_title, plt_color, target_test_accuracy, algorithm=\"fedprox\"):\n",
        "  \"\"\"\n",
        "  Function implements the Federated Averaging Algorithm from the FedAvg paper.\n",
        "  Specifically, this function is used for the server side training and weight update\n",
        "\n",
        "  Params:\n",
        "    - model:           PyTorch model to train\n",
        "    - rounds:          Number of communication rounds for the client update\n",
        "    - batch_size:      Batch size for client update training\n",
        "    - lr:              Learning rate used for client update training\n",
        "    - ds:              Dataset used for training\n",
        "    - ds_test:         Dataset used for testing\n",
        "    - data_dict:       Type of data partition used for training (IID or non-IID)\n",
        "    - C:               Fraction of clients randomly chosen to perform computation on each round\n",
        "    - K:               Total number of clients\n",
        "    - E:               Number of training passes each client makes over its local dataset per round\n",
        "    - tb_writer_name:  Directory name to save the tensorboard logs\n",
        "  Returns:\n",
        "    - model:           Trained model on the server\n",
        "  \"\"\"\n",
        "\n",
        "  # global model weights\n",
        "  global_weights = model.state_dict()\n",
        "\n",
        "  # training loss\n",
        "  # train_accuracy = []\n",
        "  train_loss = []\n",
        "  test_accuracy = []\n",
        "  test_loss = []\n",
        "\n",
        "  # store last loss for convergence\n",
        "  last_loss = 0.0\n",
        "\n",
        "  # total time taken \n",
        "  total_time = 0\n",
        "  start = time.time()\n",
        "    \n",
        "  print(f\"System heterogeneity set to {percentage}% stragglers.\\n\")\n",
        "  print(f\"Picking {max(int(C*K),1 )} random clients per round.\\n\")\n",
        "\n",
        "  for curr_round in range(1, rounds+1):\n",
        "    w, local_loss, lst_local_train_time = [], [], []\n",
        "\n",
        "    m = max(int(C*K), 1)\n",
        "\n",
        "    heterogenous_epoch_list = GenerateLocalEpochs(percentage, size=m, max_epochs=E)\n",
        "    heterogenous_epoch_list = np.array(heterogenous_epoch_list)\n",
        "\n",
        "    S_t = np.random.choice(range(K), m, replace=False)\n",
        "    S_t = np.array(S_t)\n",
        "    \n",
        "    # For Federated Averaging, drop all the clients that are stragglers\n",
        "    if algorithm == 'fedavg':\n",
        "      stragglers_indices = np.argwhere(heterogenous_epoch_list < E)\n",
        "      heterogenous_epoch_list = np.delete(heterogenous_epoch_list, stragglers_indices)\n",
        "      S_t = np.delete(S_t, stragglers_indices)\n",
        "\n",
        "    for k, epoch in zip(S_t, heterogenous_epoch_list):\n",
        "      local_update = ClientUpdate(dataset=ds, batchSize=batch_size, learning_rate=lr, epochs=epoch, idxs=data_dict[k], mu=mu, algorithm=algorithm)\n",
        "      weights, loss, local_train_time = local_update.train(model=copy.deepcopy(model))\n",
        "\n",
        "      w.append(copy.deepcopy(weights))\n",
        "      local_loss.append(copy.deepcopy(loss))\n",
        "      lst_local_train_time.append(local_train_time)\n",
        "\n",
        "    # calculate time to update the global weights\n",
        "    global_start_time = time.time()\n",
        "\n",
        "    # updating the global weights\n",
        "    weights_avg = copy.deepcopy(w[0])\n",
        "    for k in weights_avg.keys():\n",
        "      for i in range(1, len(w)):\n",
        "        weights_avg[k] += w[i][k]\n",
        "\n",
        "      weights_avg[k] = torch.div(weights_avg[k], len(w))\n",
        "\n",
        "    global_weights = weights_avg\n",
        "    global_end_time = time.time()\n",
        "\n",
        "    # calculate total time \n",
        "    total_time += (global_end_time - global_start_time) + sum(lst_local_train_time)/len(lst_local_train_time)\n",
        "\n",
        "    # move the updated weights to our model state dict\n",
        "    model.load_state_dict(global_weights)\n",
        "\n",
        "    # loss\n",
        "    loss_avg = sum(local_loss) / len(local_loss)\n",
        "\n",
        "    # test accuracy\n",
        "    criterion = nn.CrossEntropyLoss()\n",
        "    test_accuracy_current, test_loss_current = testing(copy.deepcopy(model), ds_test, 128, criterion, num_classes, classes_test)\n",
        "    test_accuracy.append(test_accuracy_current)\n",
        "    test_loss.append(test_loss_current)\n",
        "\n",
        "    print(f\"Round: {curr_round}... \\tAverage Train Loss: {round(loss_avg, 3)}... \\tTest Loss: {test_loss_current}... \\tTest Accuracy: {test_accuracy_current}\")\n",
        "    train_loss.append(loss_avg)\n",
        "\n",
        "#     # break if we achieve the target test accuracy\n",
        "#     if test_accuracy_current >= target_test_accuracy:\n",
        "#       rounds = curr_round\n",
        "#       break\n",
        "\n",
        "    # # break if we achieve convergence, i.e., loss between two consecutive rounds is <0.0001\n",
        "    # if algorithm == 'fedprox' and abs(loss_avg - last_loss) < 0.0001:\n",
        "    #   rounds = curr_round\n",
        "    #   break\n",
        "    \n",
        "    # update the last loss\n",
        "    last_loss = loss_avg\n",
        "\n",
        "  end = time.time()\n",
        "\n",
        "  # plot train loss\n",
        "  fig, ax = plt.subplots()\n",
        "  x_axis = np.arange(1, rounds+1)\n",
        "  y_axis = np.array(train_loss)\n",
        "  ax.plot(x_axis, y_axis)\n",
        "\n",
        "  ax.set(xlabel='Number of Rounds', ylabel='Train Loss', title=plt_title)\n",
        "  ax.grid()\n",
        "  fig.savefig(plt_title+'_Train_loss.jpg', format='jpg')\n",
        "  plt.show()\n",
        "\n",
        "  fig, ax = plt.subplots()\n",
        "  x_axis = np.arange(1, rounds+1)\n",
        "  y_axis = np.array(test_loss)\n",
        "  ax.plot(x_axis, y_axis, 'tab:'+plt_color)\n",
        "\n",
        "  ax.set(xlabel='Number of Rounds', ylabel='Test Loss', title=plt_title)\n",
        "  ax.grid()\n",
        "  fig.savefig(plt_title+'_Test_loss.jpg', format='jpg')\n",
        "  plt.show()\n",
        "\n",
        "\n",
        "  fig, ax = plt.subplots()\n",
        "  x_axis = np.arange(1, rounds+1)\n",
        "  y_axis = np.array(test_accuracy)\n",
        "  ax.plot(x_axis, y_axis, 'tab:'+plt_color)\n",
        "\n",
        "  ax.set(xlabel='Number of Rounds', ylabel='Test Accuracy', title=plt_title)\n",
        "  ax.grid()\n",
        "  fig.savefig(plt_title+'_Test_Accuracy.jpg', format='jpg')\n",
        "  plt.show()\n",
        "  \n",
        "  print(\"Training Done!\")\n",
        "  print(\"Total time taken to Train: {}\\n\\n\".format(end-start))\n",
        "  \n",
        "  return model, train_loss, test_accuracy, test_loss"
      ],
      "execution_count": 58,
      "outputs": []
    },
    {
      "cell_type": "markdown",
      "metadata": {
        "id": "tUYyb4T-uXmF"
      },
      "source": [
        "## Testing Loop"
      ]
    },
    {
      "cell_type": "code",
      "metadata": {
        "id": "uCcIZmO5uan9"
      },
      "source": [
        "def testing(model, dataset, bs, criterion, num_classes, classes, print_info=False):\n",
        "  #test loss \n",
        "  test_loss = 0.0\n",
        "  correct_class = list(0. for i in range(num_classes))\n",
        "  total_class = list(0. for i in range(num_classes))\n",
        "\n",
        "  test_loader = DataLoader(dataset, batch_size=bs)\n",
        "  l = len(test_loader)\n",
        "  model.eval()\n",
        "  for data, labels in test_loader:\n",
        "\n",
        "    if torch.cuda.is_available():\n",
        "      data, labels = data.cuda(), labels.cuda()\n",
        "\n",
        "    output = model(data)\n",
        "    loss = criterion(output, labels)\n",
        "    test_loss += loss.item()*data.size(0)\n",
        "\n",
        "    _, pred = torch.max(output, 1)\n",
        "\n",
        "    correct_tensor = pred.eq(labels.data.view_as(pred))\n",
        "    correct = np.squeeze(correct_tensor.numpy()) if not torch.cuda.is_available() else np.squeeze(correct_tensor.cpu().numpy())\n",
        "\n",
        "    #test accuracy for each object class\n",
        "    for i in range(num_classes):\n",
        "      label = labels.data[i]\n",
        "      correct_class[label] += correct[i].item()\n",
        "      total_class[label] += 1\n",
        "    \n",
        "  # avg test loss\n",
        "  test_loss = test_loss/len(test_loader.dataset)\n",
        "  test_accuracy = 100. * np.sum(correct_class) / np.sum(total_class)\n",
        "\n",
        "  if print_info:\n",
        "    print(\"Test Loss: {:.6f}\\n\".format(test_loss))\n",
        "\n",
        "    for i in range(10):\n",
        "      if total_class[i]>0:\n",
        "        print('Test Accuracy of %5s: %2d%% (%2d/%2d)' % \n",
        "              (classes[i], 100 * correct_class[i] / total_class[i],\n",
        "              np.sum(correct_class[i]), np.sum(total_class[i])))\n",
        "      else:\n",
        "        print('Test Accuracy of %5s: N/A (no training examples)' % (classes[i]))\n",
        "\n",
        "    print('\\nFinal Test  Accuracy: {:.3f} ({}/{})'.format(\n",
        "          100. * np.sum(correct_class) / np.sum(total_class),\n",
        "          np.sum(correct_class), np.sum(total_class)))\n",
        "  \n",
        "  return test_accuracy, test_loss"
      ],
      "execution_count": 59,
      "outputs": []
    },
    {
      "cell_type": "markdown",
      "metadata": {
        "id": "Ri0FqXFeHW-V"
      },
      "source": [
        "## Logger"
      ]
    },
    {
      "cell_type": "code",
      "metadata": {
        "id": "thZm2kSiHT4v"
      },
      "source": [
        "log_dict = {}\n",
        "NUM_REPEAT = 1"
      ],
      "execution_count": 60,
      "outputs": []
    },
    {
      "cell_type": "markdown",
      "metadata": {
        "id": "4hO5oV6aXqeh"
      },
      "source": [
        "## MNIST CNN on IID"
      ]
    },
    {
      "cell_type": "markdown",
      "metadata": {
        "id": "flSQv_P4zCfx"
      },
      "source": [
        "### Train\n"
      ]
    },
    {
      "cell_type": "code",
      "metadata": {
        "colab": {
          "base_uri": "https://localhost:8080/",
          "height": 1000
        },
        "id": "0ZalcKZtEseA",
        "outputId": "66c0d0d3-998b-46e4-b6c0-1d64632fb0cc"
      },
      "source": [
        "train_loss_multiple_runs = [None] * NUM_REPEAT\n",
        "test_accuracy_multiple_runs = [None] * NUM_REPEAT\n",
        "test_loss_multiple_runs = [None] * NUM_REPEAT\n",
        "\n",
        "for exp_num in range(NUM_REPEAT):\n",
        "  print(\"Experiment Run Number: \", exp_num)\n",
        "\n",
        "  # number of training rounds\n",
        "  rounds = 50\n",
        "  # client fraction\n",
        "  C = 0.1\n",
        "  # number of clients\n",
        "  K = 10\n",
        "  # number of training passes on local dataset for each roung\n",
        "  E = 5\n",
        "  # batch size\n",
        "  batch_size = 10\n",
        "  # learning Rate\n",
        "  lr = 0.05\n",
        "  # proximal term constant\n",
        "  mu = 0.01\n",
        "  # percentage of clients to have fewer than E epochs\n",
        "  percentage = 50\n",
        "\n",
        "  # target_test_accuracy\n",
        "  target_test_accuracy=99.0\n",
        "  # data partition dictionary\n",
        "  iid_dict = iid_partition(mnist_data_train, 100)\n",
        "  # load model\n",
        "  mnist_cnn = MNIST_CNN()\n",
        "\n",
        "  if torch.cuda.is_available():\n",
        "    mnist_cnn.cuda()\n",
        "\n",
        "  mnist_cnn_iid_trained, train_loss, test_accuracy, test_loss = training(mnist_cnn, rounds, batch_size, lr, mnist_data_train, mnist_data_test, iid_dict, C, K, E, mu, percentage, \"MNIST CNN on IID Dataset\", \"orange\", target_test_accuracy)\n",
        "\n",
        "  train_loss_multiple_runs[exp_num] = train_loss\n",
        "  test_accuracy_multiple_runs[exp_num] = test_accuracy\n",
        "  test_loss_multiple_runs[exp_num] = test_loss"
      ],
      "execution_count": 61,
      "outputs": [
        {
          "output_type": "stream",
          "text": [
            "Experiment Run Number:  0\n",
            "System heterogeneity set to 50% stragglers.\n",
            "\n",
            "Picking 1 random clients per round.\n",
            "\n",
            "Round: 1... \tAverage Train Loss: 0.609... \tTest Loss: 0.25047922481298446... \tTest Accuracy: 92.15189873417721\n",
            "Round: 2... \tAverage Train Loss: 0.09... \tTest Loss: 0.22823799635916947... \tTest Accuracy: 92.78481012658227\n",
            "Round: 3... \tAverage Train Loss: 0.177... \tTest Loss: 0.1522770757317543... \tTest Accuracy: 96.07594936708861\n",
            "Round: 4... \tAverage Train Loss: 0.147... \tTest Loss: 0.14111803023130634... \tTest Accuracy: 96.58227848101266\n",
            "Round: 5... \tAverage Train Loss: 0.007... \tTest Loss: 0.130409403828418... \tTest Accuracy: 96.83544303797468\n",
            "Round: 6... \tAverage Train Loss: 0.135... \tTest Loss: 0.1143949851023499... \tTest Accuracy: 96.70886075949367\n",
            "Round: 7... \tAverage Train Loss: 0.038... \tTest Loss: 0.1141566107622697... \tTest Accuracy: 97.21518987341773\n",
            "Round: 8... \tAverage Train Loss: 0.072... \tTest Loss: 0.09645468275148741... \tTest Accuracy: 98.10126582278481\n",
            "Round: 9... \tAverage Train Loss: 0.002... \tTest Loss: 0.09719230723483051... \tTest Accuracy: 97.84810126582279\n",
            "Round: 10... \tAverage Train Loss: 0.08... \tTest Loss: 0.10437200547524844... \tTest Accuracy: 97.72151898734177\n",
            "Round: 11... \tAverage Train Loss: 0.122... \tTest Loss: 0.09178582377685233... \tTest Accuracy: 97.21518987341773\n",
            "Round: 12... \tAverage Train Loss: 0.086... \tTest Loss: 0.0909345458320342... \tTest Accuracy: 97.0886075949367\n",
            "Round: 13... \tAverage Train Loss: 0.084... \tTest Loss: 0.111716842235683... \tTest Accuracy: 97.34177215189874\n",
            "Round: 14... \tAverage Train Loss: 0.086... \tTest Loss: 0.08823336067280434... \tTest Accuracy: 98.10126582278481\n",
            "Round: 15... \tAverage Train Loss: 0.032... \tTest Loss: 0.08815424893234594... \tTest Accuracy: 96.9620253164557\n",
            "Round: 16... \tAverage Train Loss: 0.069... \tTest Loss: 0.09819265778563968... \tTest Accuracy: 97.72151898734177\n",
            "Round: 17... \tAverage Train Loss: 0.071... \tTest Loss: 0.08281209870585007... \tTest Accuracy: 97.84810126582279\n",
            "Round: 18... \tAverage Train Loss: 0.032... \tTest Loss: 0.1174591125702711... \tTest Accuracy: 97.72151898734177\n",
            "Round: 19... \tAverage Train Loss: 0.057... \tTest Loss: 0.09027517278822961... \tTest Accuracy: 97.9746835443038\n",
            "Round: 20... \tAverage Train Loss: 0.05... \tTest Loss: 0.10519487173696557... \tTest Accuracy: 97.0886075949367\n",
            "Round: 21... \tAverage Train Loss: 0.032... \tTest Loss: 0.10545990337494131... \tTest Accuracy: 98.10126582278481\n",
            "Round: 22... \tAverage Train Loss: 0.084... \tTest Loss: 0.11464143241764978... \tTest Accuracy: 97.34177215189874\n",
            "Round: 23... \tAverage Train Loss: 0.053... \tTest Loss: 0.10100808498586994... \tTest Accuracy: 97.9746835443038\n",
            "Round: 24... \tAverage Train Loss: 0.054... \tTest Loss: 0.08332525202435409... \tTest Accuracy: 97.72151898734177\n",
            "Round: 25... \tAverage Train Loss: 0.02... \tTest Loss: 0.09396618432139599... \tTest Accuracy: 97.59493670886076\n",
            "Round: 26... \tAverage Train Loss: 0.02... \tTest Loss: 0.09822279085221235... \tTest Accuracy: 97.84810126582279\n",
            "Round: 27... \tAverage Train Loss: 0.046... \tTest Loss: 0.08359644864037918... \tTest Accuracy: 98.22784810126582\n",
            "Round: 28... \tAverage Train Loss: 0.064... \tTest Loss: 0.10022407105947641... \tTest Accuracy: 97.34177215189874\n",
            "Round: 29... \tAverage Train Loss: 0.038... \tTest Loss: 0.08905050817252268... \tTest Accuracy: 97.9746835443038\n",
            "Round: 30... \tAverage Train Loss: 0.017... \tTest Loss: 0.07870604800543334... \tTest Accuracy: 97.84810126582279\n",
            "Round: 31... \tAverage Train Loss: 0.021... \tTest Loss: 0.09045273843846517... \tTest Accuracy: 97.84810126582279\n",
            "Round: 32... \tAverage Train Loss: 0.005... \tTest Loss: 0.07884047020761337... \tTest Accuracy: 98.22784810126582\n",
            "Round: 33... \tAverage Train Loss: 0.02... \tTest Loss: 0.08651967619730062... \tTest Accuracy: 98.22784810126582\n",
            "Round: 34... \tAverage Train Loss: 0.013... \tTest Loss: 0.08333695411849139... \tTest Accuracy: 97.9746835443038\n",
            "Round: 35... \tAverage Train Loss: 0.023... \tTest Loss: 0.08993834415098172... \tTest Accuracy: 98.10126582278481\n",
            "Round: 36... \tAverage Train Loss: 0.018... \tTest Loss: 0.08063974146772235... \tTest Accuracy: 98.22784810126582\n",
            "Round: 37... \tAverage Train Loss: 0.053... \tTest Loss: 0.08726968705300532... \tTest Accuracy: 98.22784810126582\n",
            "Round: 38... \tAverage Train Loss: 0.011... \tTest Loss: 0.07244877697540651... \tTest Accuracy: 98.48101265822785\n",
            "Round: 39... \tAverage Train Loss: 0.042... \tTest Loss: 0.08027501185407636... \tTest Accuracy: 98.60759493670886\n",
            "Round: 40... \tAverage Train Loss: 0.028... \tTest Loss: 0.07103011541196938... \tTest Accuracy: 98.48101265822785\n",
            "Round: 41... \tAverage Train Loss: 0.016... \tTest Loss: 0.07347217923950529... \tTest Accuracy: 98.60759493670886\n",
            "Round: 42... \tAverage Train Loss: 0.006... \tTest Loss: 0.07020177045047021... \tTest Accuracy: 98.22784810126582\n",
            "Round: 43... \tAverage Train Loss: 0.019... \tTest Loss: 0.07632207307039549... \tTest Accuracy: 98.86075949367088\n",
            "Round: 44... \tAverage Train Loss: 0.004... \tTest Loss: 0.07365099206415648... \tTest Accuracy: 98.9873417721519\n",
            "Round: 45... \tAverage Train Loss: 0.021... \tTest Loss: 0.0860653223873607... \tTest Accuracy: 98.22784810126582\n",
            "Round: 46... \tAverage Train Loss: 0.014... \tTest Loss: 0.0808234586373982... \tTest Accuracy: 98.48101265822785\n",
            "Round: 47... \tAverage Train Loss: 0.054... \tTest Loss: 0.08591679070902228... \tTest Accuracy: 98.48101265822785\n",
            "Round: 48... \tAverage Train Loss: 0.019... \tTest Loss: 0.0783652835635974... \tTest Accuracy: 98.35443037974683\n",
            "Round: 49... \tAverage Train Loss: 0.049... \tTest Loss: 0.09256649458680513... \tTest Accuracy: 97.59493670886076\n",
            "Round: 50... \tAverage Train Loss: 0.025... \tTest Loss: 0.09199838609923608... \tTest Accuracy: 98.22784810126582\n"
          ],
          "name": "stdout"
        },
        {
          "output_type": "display_data",
          "data": {
            "image/png": "[encoded data removed]",
            "text/plain": [
              "<Figure size 432x288 with 1 Axes>"
            ]
          },
          "metadata": {
            "tags": [],
            "needs_background": "light"
          }
        },
        {
          "output_type": "display_data",
          "data": {
            "image/png": "[encoded data removed]",
            "text/plain": [
              "<Figure size 432x288 with 1 Axes>"
            ]
          },
          "metadata": {
            "tags": [],
            "needs_background": "light"
          }
        },
        {
          "output_type": "display_data",
          "data": {
            "image/png": "[encoded data removed]",
            "text/plain": [
              "<Figure size 432x288 with 1 Axes>"
            ]
          },
          "metadata": {
            "tags": [],
            "needs_background": "light"
          }
        },
        {
          "output_type": "stream",
          "text": [
            "Training Done!\n",
            "Total time taken to Train: 143.59551763534546\n",
            "\n",
            "\n"
          ],
          "name": "stdout"
        }
      ]
    },
    {
      "cell_type": "markdown",
      "metadata": {
        "id": "wNwC82przF6G"
      },
      "source": [
        "### Test"
      ]
    },
    {
      "cell_type": "code",
      "metadata": {
        "id": "qB97BFs9we9w",
        "colab": {
          "base_uri": "https://localhost:8080/"
        },
        "outputId": "24806f3b-bcb8-4ec7-b1f9-e928420d27d8"
      },
      "source": [
        "criterion = nn.CrossEntropyLoss()\n",
        "acc, loss = testing(mnist_cnn_iid_trained, mnist_data_test, 128, criterion, num_classes, classes_test, True)"
      ],
      "execution_count": 62,
      "outputs": [
        {
          "output_type": "stream",
          "text": [
            "Test Loss: 0.091998\n",
            "\n",
            "Test Accuracy of     0: 97% (74/76)\n",
            "Test Accuracy of     1: 98% (89/90)\n",
            "Test Accuracy of     2: 97% (89/91)\n",
            "Test Accuracy of     3: 98% (72/73)\n",
            "Test Accuracy of     4: 100% (89/89)\n",
            "Test Accuracy of     5: 97% (66/68)\n",
            "Test Accuracy of     6: 96% (60/62)\n",
            "Test Accuracy of     7: 98% (80/81)\n",
            "Test Accuracy of     8: 98% (76/77)\n",
            "Test Accuracy of     9: 97% (81/83)\n",
            "\n",
            "Final Test  Accuracy: 98.228 (776.0/790.0)\n"
          ],
          "name": "stdout"
        }
      ]
    },
    {
      "cell_type": "code",
      "metadata": {
        "id": "gdQZEZmHHeqt"
      },
      "source": [
        "hyperparams = {'rounds': rounds,\n",
        "               'C': C,\n",
        "               'K': K,\n",
        "               'E': E,\n",
        "               'batch_size': batch_size,\n",
        "               'lr': lr,\n",
        "               'mu': mu,\n",
        "               'percentage': percentage,\n",
        "               'target_test_accuracy': target_test_accuracy,\n",
        "               }\n",
        "\n",
        "log_dict['MNIST CNN on IID'] = {'train_loss': train_loss_multiple_runs, \n",
        "                                'test_loss': test_loss_multiple_runs, \n",
        "                                'test_accuracy': test_accuracy_multiple_runs,\n",
        "                                'hyperparams': hyperparams,\n",
        "                                }"
      ],
      "execution_count": 63,
      "outputs": []
    },
    {
      "cell_type": "markdown",
      "metadata": {
        "id": "uF8MdSIUYcnl"
      },
      "source": [
        "## MNIST CNN on Non IID"
      ]
    },
    {
      "cell_type": "markdown",
      "metadata": {
        "id": "a6wXX7JW11bx"
      },
      "source": [
        "### Train\n"
      ]
    },
    {
      "cell_type": "code",
      "metadata": {
        "id": "fCD3kBCKYfBK",
        "colab": {
          "base_uri": "https://localhost:8080/",
          "height": 1000
        },
        "outputId": "f309eeff-1b16-49ee-eb79-421ae54fa3a7"
      },
      "source": [
        "train_loss_multiple_runs = [None] * NUM_REPEAT\n",
        "test_accuracy_multiple_runs = [None] * NUM_REPEAT\n",
        "test_loss_multiple_runs = [None] * NUM_REPEAT\n",
        "\n",
        "for exp_num in range(NUM_REPEAT):\n",
        "  print(\"Experiment Run Number: \", exp_num)\n",
        "\n",
        "  # number of training rounds\n",
        "  rounds = 50\n",
        "  # client fraction\n",
        "  C = 0.1\n",
        "  # number of clients\n",
        "  K = 10\n",
        "  # number of training passes on local dataset for each roung\n",
        "  E = 5\n",
        "  # batch size\n",
        "  batch_size = 10\n",
        "  # learning Rate\n",
        "  lr=0.05\n",
        "  # proximal term constant\n",
        "  mu = 0.01\n",
        "  # percentage of clients to have fewer than E epochs\n",
        "  percentage = 50\n",
        "  # target_test_accuracy\n",
        "  target_test_accuracy=99.0\n",
        "\n",
        "  # dict containing different type of data partition\n",
        "  data_dict = non_iid_partition(mnist_data_train, 100, 200, 300, 2)\n",
        "  # load model\n",
        "  mnist_cnn = MNIST_CNN()\n",
        "\n",
        "  if torch.cuda.is_available():\n",
        "    mnist_cnn.cuda()\n",
        "\n",
        "  mnist_cnn_non_iid_trained, train_loss, test_accuracy, test_loss = training(mnist_cnn, rounds, batch_size, lr, mnist_data_train, mnist_data_test, data_dict, C, K, E,mu, percentage, \"MNIST CNN on Non-IID Dataset\", \"green\", target_test_accuracy)\n",
        "\n",
        "  train_loss_multiple_runs[exp_num] = train_loss\n",
        "  test_accuracy_multiple_runs[exp_num] = test_accuracy\n",
        "  test_loss_multiple_runs[exp_num] = test_loss"
      ],
      "execution_count": 64,
      "outputs": [
        {
          "output_type": "stream",
          "text": [
            "Experiment Run Number:  0\n",
            "System heterogeneity set to 50% stragglers.\n",
            "\n",
            "Picking 1 random clients per round.\n",
            "\n",
            "Round: 1... \tAverage Train Loss: 0.079... \tTest Loss: 8.481837261962891... \tTest Accuracy: 21.518987341772153\n",
            "Round: 2... \tAverage Train Loss: 0.232... \tTest Loss: 8.366310832214355... \tTest Accuracy: 18.354430379746834\n",
            "Round: 3... \tAverage Train Loss: 0.244... \tTest Loss: 6.714540825653076... \tTest Accuracy: 29.746835443037973\n",
            "Round: 4... \tAverage Train Loss: 0.073... \tTest Loss: 10.304085012817383... \tTest Accuracy: 17.088607594936708\n",
            "Round: 5... \tAverage Train Loss: 0.106... \tTest Loss: 8.486506294250487... \tTest Accuracy: 21.645569620253166\n",
            "Round: 6... \tAverage Train Loss: 0.079... \tTest Loss: 7.336381623840332... \tTest Accuracy: 18.354430379746834\n",
            "Round: 7... \tAverage Train Loss: 0.162... \tTest Loss: 10.748537046813965... \tTest Accuracy: 19.873417721518987\n",
            "Round: 8... \tAverage Train Loss: 0.008... \tTest Loss: 9.491252461242675... \tTest Accuracy: 20.0\n",
            "Round: 9... \tAverage Train Loss: 0.134... \tTest Loss: 8.667203230285644... \tTest Accuracy: 20.253164556962027\n",
            "Round: 10... \tAverage Train Loss: 0.141... \tTest Loss: 6.936978733825684... \tTest Accuracy: 27.468354430379748\n",
            "Round: 11... \tAverage Train Loss: 0.012... \tTest Loss: 7.998024620056152... \tTest Accuracy: 26.582278481012658\n",
            "Round: 12... \tAverage Train Loss: 0.114... \tTest Loss: 5.1219513168334965... \tTest Accuracy: 29.49367088607595\n",
            "Round: 13... \tAverage Train Loss: 0.05... \tTest Loss: 7.952027215576172... \tTest Accuracy: 26.582278481012658\n",
            "Round: 14... \tAverage Train Loss: 0.006... \tTest Loss: 7.699372764587403... \tTest Accuracy: 25.189873417721518\n",
            "Round: 15... \tAverage Train Loss: 0.008... \tTest Loss: 8.700999618530274... \tTest Accuracy: 24.936708860759495\n",
            "Round: 16... \tAverage Train Loss: 0.006... \tTest Loss: 9.474780848693849... \tTest Accuracy: 23.924050632911392\n",
            "Round: 17... \tAverage Train Loss: 0.047... \tTest Loss: 6.670998118591308... \tTest Accuracy: 30.0\n",
            "Round: 18... \tAverage Train Loss: 0.007... \tTest Loss: 7.103421459960938... \tTest Accuracy: 30.632911392405063\n",
            "Round: 19... \tAverage Train Loss: 0.099... \tTest Loss: 8.708448667907716... \tTest Accuracy: 20.0\n",
            "Round: 20... \tAverage Train Loss: 0.005... \tTest Loss: 8.754748156738282... \tTest Accuracy: 20.0\n",
            "Round: 21... \tAverage Train Loss: 0.049... \tTest Loss: 5.2490110626220705... \tTest Accuracy: 28.481012658227847\n",
            "Round: 22... \tAverage Train Loss: 0.077... \tTest Loss: 7.4075935928344725... \tTest Accuracy: 22.151898734177216\n",
            "Round: 23... \tAverage Train Loss: 0.012... \tTest Loss: 8.255704783630371... \tTest Accuracy: 23.544303797468356\n",
            "Round: 24... \tAverage Train Loss: 0.062... \tTest Loss: 6.165353116607666... \tTest Accuracy: 35.063291139240505\n",
            "Round: 25... \tAverage Train Loss: 0.049... \tTest Loss: 5.086142984008789... \tTest Accuracy: 39.24050632911393\n",
            "Round: 26... \tAverage Train Loss: 0.015... \tTest Loss: 5.607066349029541... \tTest Accuracy: 37.848101265822784\n",
            "Round: 27... \tAverage Train Loss: 0.008... \tTest Loss: 5.267093939971923... \tTest Accuracy: 36.962025316455694\n",
            "Round: 28... \tAverage Train Loss: 0.0... \tTest Loss: 5.266791734313965... \tTest Accuracy: 36.962025316455694\n",
            "Round: 29... \tAverage Train Loss: 0.0... \tTest Loss: 5.424049462890625... \tTest Accuracy: 36.075949367088604\n",
            "Round: 30... \tAverage Train Loss: 0.236... \tTest Loss: 8.199040007019043... \tTest Accuracy: 30.759493670886076\n",
            "Round: 31... \tAverage Train Loss: 0.187... \tTest Loss: 3.6731438308715822... \tTest Accuracy: 42.53164556962025\n",
            "Round: 32... \tAverage Train Loss: 0.031... \tTest Loss: 5.04972216796875... \tTest Accuracy: 32.53164556962025\n",
            "Round: 33... \tAverage Train Loss: 0.061... \tTest Loss: 6.536111663818359... \tTest Accuracy: 40.12658227848101\n",
            "Round: 34... \tAverage Train Loss: 0.011... \tTest Loss: 7.743455017089844... \tTest Accuracy: 37.34177215189873\n",
            "Round: 35... \tAverage Train Loss: 0.061... \tTest Loss: 4.209106262207031... \tTest Accuracy: 32.53164556962025\n",
            "Round: 36... \tAverage Train Loss: 0.058... \tTest Loss: 5.944463994598388... \tTest Accuracy: 33.67088607594937\n",
            "Round: 37... \tAverage Train Loss: 0.075... \tTest Loss: 8.537654566955567... \tTest Accuracy: 33.29113924050633\n",
            "Round: 38... \tAverage Train Loss: 0.026... \tTest Loss: 5.960783236694336... \tTest Accuracy: 37.721518987341774\n",
            "Round: 39... \tAverage Train Loss: 0.068... \tTest Loss: 6.620385099029541... \tTest Accuracy: 36.45569620253165\n",
            "Round: 40... \tAverage Train Loss: 0.012... \tTest Loss: 8.532560052490235... \tTest Accuracy: 37.721518987341774\n",
            "Round: 41... \tAverage Train Loss: 0.093... \tTest Loss: 8.007797749328613... \tTest Accuracy: 30.632911392405063\n",
            "Round: 42... \tAverage Train Loss: 0.086... \tTest Loss: 7.064985955810547... \tTest Accuracy: 26.329113924050635\n",
            "Round: 43... \tAverage Train Loss: 0.041... \tTest Loss: 4.751485693359375... \tTest Accuracy: 38.607594936708864\n",
            "Round: 44... \tAverage Train Loss: 0.065... \tTest Loss: 6.39400152053833... \tTest Accuracy: 34.30379746835443\n",
            "Round: 45... \tAverage Train Loss: 0.07... \tTest Loss: 6.5574435676574705... \tTest Accuracy: 33.29113924050633\n",
            "Round: 46... \tAverage Train Loss: 0.133... \tTest Loss: 7.372000813293457... \tTest Accuracy: 26.582278481012658\n",
            "Round: 47... \tAverage Train Loss: 0.008... \tTest Loss: 5.681200989532471... \tTest Accuracy: 25.696202531645568\n",
            "Round: 48... \tAverage Train Loss: 0.068... \tTest Loss: 6.753291981506347... \tTest Accuracy: 24.68354430379747\n",
            "Round: 49... \tAverage Train Loss: 0.156... \tTest Loss: 4.706127285003662... \tTest Accuracy: 35.063291139240505\n",
            "Round: 50... \tAverage Train Loss: 0.065... \tTest Loss: 3.7294758277893068... \tTest Accuracy: 30.126582278481013\n"
          ],
          "name": "stdout"
        },
        {
          "output_type": "display_data",
          "data": {
            "image/png": "[encoded data removed]",
            "text/plain": [
              "<Figure size 432x288 with 1 Axes>"
            ]
          },
          "metadata": {
            "tags": [],
            "needs_background": "light"
          }
        },
        {
          "output_type": "display_data",
          "data": {
            "image/png": "[encoded data removed]",
            "text/plain": [
              "<Figure size 432x288 with 1 Axes>"
            ]
          },
          "metadata": {
            "tags": [],
            "needs_background": "light"
          }
        },
        {
          "output_type": "display_data",
          "data": {
            "image/png": "[encoded data removed]",
            "text/plain": [
              "<Figure size 432x288 with 1 Axes>"
            ]
          },
          "metadata": {
            "tags": [],
            "needs_background": "light"
          }
        },
        {
          "output_type": "stream",
          "text": [
            "Training Done!\n",
            "Total time taken to Train: 142.4464476108551\n",
            "\n",
            "\n"
          ],
          "name": "stdout"
        }
      ]
    },
    {
      "cell_type": "markdown",
      "metadata": {
        "id": "4C68J-Kk14dB"
      },
      "source": [
        "### Test"
      ]
    },
    {
      "cell_type": "code",
      "metadata": {
        "id": "_yQ9GiAZ15jE",
        "colab": {
          "base_uri": "https://localhost:8080/"
        },
        "outputId": "b604ff6c-4bb0-4563-cdb2-25ce5e1c2d91"
      },
      "source": [
        "criterion = nn.CrossEntropyLoss()\n",
        "acc, loss = testing(mnist_cnn_non_iid_trained, mnist_data_test, 128, criterion, num_classes, classes_test, True)"
      ],
      "execution_count": 65,
      "outputs": [
        {
          "output_type": "stream",
          "text": [
            "Test Loss: 3.729476\n",
            "\n",
            "Test Accuracy of     0: 21% (16/76)\n",
            "Test Accuracy of     1: 100% (90/90)\n",
            "Test Accuracy of     2:  1% ( 1/91)\n",
            "Test Accuracy of     3:  0% ( 0/73)\n",
            "Test Accuracy of     4:  0% ( 0/89)\n",
            "Test Accuracy of     5:  1% ( 1/68)\n",
            "Test Accuracy of     6: 66% (41/62)\n",
            "Test Accuracy of     7: 98% (80/81)\n",
            "Test Accuracy of     8:  0% ( 0/77)\n",
            "Test Accuracy of     9: 10% ( 9/83)\n",
            "\n",
            "Final Test  Accuracy: 30.127 (238.0/790.0)\n"
          ],
          "name": "stdout"
        }
      ]
    },
    {
      "cell_type": "code",
      "metadata": {
        "id": "dxMcxgLhLvX-"
      },
      "source": [
        "hyperparams = {'rounds': rounds,\n",
        "               'C': C,\n",
        "               'K': K,\n",
        "               'E': E,\n",
        "               'batch_size': batch_size,\n",
        "               'lr': lr,\n",
        "               'mu': mu,\n",
        "               'percentage': percentage,\n",
        "               'target_test_accuracy': target_test_accuracy,\n",
        "               }\n",
        "\n",
        "log_dict['MNIST CNN on Non IID'] = {'train_loss': train_loss_multiple_runs, \n",
        "                                'test_loss': test_loss_multiple_runs, \n",
        "                                'test_accuracy': test_accuracy_multiple_runs,\n",
        "                                'hyperparams': hyperparams,\n",
        "                                }"
      ],
      "execution_count": 66,
      "outputs": []
    },
    {
      "cell_type": "markdown",
      "metadata": {
        "id": "z_jifdzniuhm"
      },
      "source": [
        "## MNIST MLP on IID"
      ]
    },
    {
      "cell_type": "markdown",
      "metadata": {
        "id": "uh-te0Od2XGO"
      },
      "source": [
        "### Train"
      ]
    },
    {
      "cell_type": "code",
      "metadata": {
        "id": "UmpWmKOQixVV",
        "colab": {
          "base_uri": "https://localhost:8080/",
          "height": 1000
        },
        "outputId": "c4193329-377a-473e-97ed-10336bef9c4d"
      },
      "source": [
        "train_loss_multiple_runs = [None] * NUM_REPEAT\n",
        "test_accuracy_multiple_runs = [None] * NUM_REPEAT\n",
        "test_loss_multiple_runs = [None] * NUM_REPEAT\n",
        "\n",
        "for exp_num in range(NUM_REPEAT):\n",
        "  print(\"Experiment Run Number: \", exp_num)\n",
        "\n",
        "  # number of training rounds\n",
        "  rounds = 50\n",
        "  # client fraction\n",
        "  C = 0.1\n",
        "  # number of clients\n",
        "  K = 10\n",
        "  # number of training passes on local dataset for each round\n",
        "  E = 5\n",
        "  # batch size\n",
        "  batch_size = 10\n",
        "  # learning Rate\n",
        "  lr = 0.05\n",
        "  # proximal term constant\n",
        "  mu = 0.01\n",
        "  # percentage of clients to have fewer than E epochs\n",
        "  percentage = 50\n",
        "  # target_test_accuracy\n",
        "  target_test_accuracy=94.0\n",
        "  # dict containing different type of data partition\n",
        "  data_dict = iid_partition(mnist_data_train, 100)\n",
        "  # load model\n",
        "  mnist_mlp = MNIST_2NN()\n",
        "\n",
        "  if torch.cuda.is_available():\n",
        "    mnist_mlp.cuda()\n",
        "\n",
        "  mnist_mlp_iid_trained, train_loss, test_accuracy, test_loss = training(mnist_mlp, rounds, batch_size, lr, mnist_data_train, mnist_data_test, data_dict, C, K, E, mu, percentage, \"MNIST MLP on IID Dataset\", \"orange\", target_test_accuracy)\n",
        "  \n",
        "  train_loss_multiple_runs[exp_num] = train_loss\n",
        "  test_accuracy_multiple_runs[exp_num] = test_accuracy\n",
        "  test_loss_multiple_runs[exp_num] = test_loss"
      ],
      "execution_count": 67,
      "outputs": [
        {
          "output_type": "stream",
          "text": [
            "Experiment Run Number:  0\n",
            "System heterogeneity set to 50% stragglers.\n",
            "\n",
            "Picking 1 random clients per round.\n",
            "\n",
            "Round: 1... \tAverage Train Loss: 0.463... \tTest Loss: 0.5026406310796737... \tTest Accuracy: 86.58227848101266\n",
            "Round: 2... \tAverage Train Loss: 0.181... \tTest Loss: 0.37853615813851355... \tTest Accuracy: 91.39240506329114\n",
            "Round: 3... \tAverage Train Loss: 0.128... \tTest Loss: 0.3263068216323853... \tTest Accuracy: 91.13924050632912\n",
            "Round: 4... \tAverage Train Loss: 0.155... \tTest Loss: 0.27904681664183734... \tTest Accuracy: 92.27848101265823\n",
            "Round: 5... \tAverage Train Loss: 0.004... \tTest Loss: 0.2827564617097378... \tTest Accuracy: 92.65822784810126\n",
            "Round: 6... \tAverage Train Loss: 0.003... \tTest Loss: 0.28470239215493204... \tTest Accuracy: 92.78481012658227\n",
            "Round: 7... \tAverage Train Loss: 0.03... \tTest Loss: 0.2949505921509117... \tTest Accuracy: 92.40506329113924\n",
            "Round: 8... \tAverage Train Loss: 0.005... \tTest Loss: 0.2908664513906464... \tTest Accuracy: 92.27848101265823\n",
            "Round: 9... \tAverage Train Loss: 0.144... \tTest Loss: 0.270358090493083... \tTest Accuracy: 92.15189873417721\n",
            "Round: 10... \tAverage Train Loss: 0.052... \tTest Loss: 0.292227258752659... \tTest Accuracy: 92.27848101265823\n",
            "Round: 11... \tAverage Train Loss: 0.031... \tTest Loss: 0.2686467797376215... \tTest Accuracy: 93.67088607594937\n",
            "Round: 12... \tAverage Train Loss: 0.006... \tTest Loss: 0.27909654020750896... \tTest Accuracy: 93.29113924050633\n",
            "Round: 13... \tAverage Train Loss: 0.132... \tTest Loss: 0.28629831468164924... \tTest Accuracy: 92.65822784810126\n",
            "Round: 14... \tAverage Train Loss: 0.124... \tTest Loss: 0.260666715734452... \tTest Accuracy: 93.41772151898734\n",
            "Round: 15... \tAverage Train Loss: 0.108... \tTest Loss: 0.251826169282198... \tTest Accuracy: 94.55696202531645\n",
            "Round: 16... \tAverage Train Loss: 0.048... \tTest Loss: 0.24005115970671176... \tTest Accuracy: 94.30379746835443\n",
            "Round: 17... \tAverage Train Loss: 0.118... \tTest Loss: 0.23393963429592549... \tTest Accuracy: 93.16455696202532\n",
            "Round: 18... \tAverage Train Loss: 0.034... \tTest Loss: 0.2303419222043827... \tTest Accuracy: 93.67088607594937\n",
            "Round: 19... \tAverage Train Loss: 0.025... \tTest Loss: 0.23956165218362585... \tTest Accuracy: 94.30379746835443\n",
            "Round: 20... \tAverage Train Loss: 0.111... \tTest Loss: 0.2672113994628191... \tTest Accuracy: 93.16455696202532\n",
            "Round: 21... \tAverage Train Loss: 0.022... \tTest Loss: 0.23954355861870572... \tTest Accuracy: 93.29113924050633\n",
            "Round: 22... \tAverage Train Loss: 0.022... \tTest Loss: 0.23092218442596496... \tTest Accuracy: 92.9113924050633\n",
            "Round: 23... \tAverage Train Loss: 0.03... \tTest Loss: 0.24683018538616597... \tTest Accuracy: 93.16455696202532\n",
            "Round: 24... \tAverage Train Loss: 0.001... \tTest Loss: 0.24665408913195133... \tTest Accuracy: 93.29113924050633\n",
            "Round: 25... \tAverage Train Loss: 0.005... \tTest Loss: 0.24156954035144299... \tTest Accuracy: 94.43037974683544\n",
            "Round: 26... \tAverage Train Loss: 0.03... \tTest Loss: 0.24520005459785463... \tTest Accuracy: 93.54430379746836\n",
            "Round: 27... \tAverage Train Loss: 0.005... \tTest Loss: 0.2333733794581145... \tTest Accuracy: 94.0506329113924\n",
            "Round: 28... \tAverage Train Loss: 0.035... \tTest Loss: 0.22942458409965039... \tTest Accuracy: 94.68354430379746\n",
            "Round: 29... \tAverage Train Loss: 0.001... \tTest Loss: 0.22985813334323466... \tTest Accuracy: 94.68354430379746\n",
            "Round: 30... \tAverage Train Loss: 0.001... \tTest Loss: 0.23010062594348565... \tTest Accuracy: 94.55696202531645\n",
            "Round: 31... \tAverage Train Loss: 0.008... \tTest Loss: 0.21718150624940172... \tTest Accuracy: 94.55696202531645\n",
            "Round: 32... \tAverage Train Loss: 0.003... \tTest Loss: 0.21740850383667276... \tTest Accuracy: 94.81012658227849\n",
            "Round: 33... \tAverage Train Loss: 0.05... \tTest Loss: 0.2276217635370791... \tTest Accuracy: 94.81012658227849\n",
            "Round: 34... \tAverage Train Loss: 0.047... \tTest Loss: 0.23651200009984896... \tTest Accuracy: 93.29113924050633\n",
            "Round: 35... \tAverage Train Loss: 0.014... \tTest Loss: 0.24007872280082665... \tTest Accuracy: 93.92405063291139\n",
            "Round: 36... \tAverage Train Loss: 0.012... \tTest Loss: 0.23362968557481653... \tTest Accuracy: 94.0506329113924\n",
            "Round: 37... \tAverage Train Loss: 0.013... \tTest Loss: 0.23303847782025114... \tTest Accuracy: 94.43037974683544\n",
            "Round: 38... \tAverage Train Loss: 0.01... \tTest Loss: 0.2330950319306925... \tTest Accuracy: 95.0632911392405\n",
            "Round: 39... \tAverage Train Loss: 0.005... \tTest Loss: 0.23175481823931915... \tTest Accuracy: 94.81012658227849\n",
            "Round: 40... \tAverage Train Loss: 0.002... \tTest Loss: 0.23092363694324158... \tTest Accuracy: 94.68354430379746\n",
            "Round: 41... \tAverage Train Loss: 0.004... \tTest Loss: 0.2292825480110245... \tTest Accuracy: 94.81012658227849\n",
            "Round: 42... \tAverage Train Loss: 0.021... \tTest Loss: 0.24597230933642714... \tTest Accuracy: 95.18987341772151\n",
            "Round: 43... \tAverage Train Loss: 0.036... \tTest Loss: 0.24304063524722588... \tTest Accuracy: 95.31645569620254\n",
            "Round: 44... \tAverage Train Loss: 0.006... \tTest Loss: 0.2402806202363223... \tTest Accuracy: 95.56962025316456\n",
            "Round: 45... \tAverage Train Loss: 0.002... \tTest Loss: 0.23294543125315104... \tTest Accuracy: 95.44303797468355\n",
            "Round: 46... \tAverage Train Loss: 0.021... \tTest Loss: 0.23069482680112124... \tTest Accuracy: 94.81012658227849\n",
            "Round: 47... \tAverage Train Loss: 0.012... \tTest Loss: 0.2243967236207798... \tTest Accuracy: 95.56962025316456\n",
            "Round: 48... \tAverage Train Loss: 0.008... \tTest Loss: 0.22610394565134775... \tTest Accuracy: 95.31645569620254\n",
            "Round: 49... \tAverage Train Loss: 0.017... \tTest Loss: 0.22933225340975913... \tTest Accuracy: 95.0632911392405\n",
            "Round: 50... \tAverage Train Loss: 0.0... \tTest Loss: 0.2294073565147235... \tTest Accuracy: 95.0632911392405\n"
          ],
          "name": "stdout"
        },
        {
          "output_type": "display_data",
          "data": {
            "image/png": "[encoded data removed]",
            "text/plain": [
              "<Figure size 432x288 with 1 Axes>"
            ]
          },
          "metadata": {
            "tags": [],
            "needs_background": "light"
          }
        },
        {
          "output_type": "display_data",
          "data": {
            "image/png": "[encoded data removed]",
            "text/plain": [
              "<Figure size 432x288 with 1 Axes>"
            ]
          },
          "metadata": {
            "tags": [],
            "needs_background": "light"
          }
        },
        {
          "output_type": "display_data",
          "data": {
            "image/png": "[encoded data removed]",
            "text/plain": [
              "<Figure size 432x288 with 1 Axes>"
            ]
          },
          "metadata": {
            "tags": [],
            "needs_background": "light"
          }
        },
        {
          "output_type": "stream",
          "text": [
            "Training Done!\n",
            "Total time taken to Train: 118.42712378501892\n",
            "\n",
            "\n"
          ],
          "name": "stdout"
        }
      ]
    },
    {
      "cell_type": "markdown",
      "metadata": {
        "id": "aTBsL3-72PPd"
      },
      "source": [
        "### Test"
      ]
    },
    {
      "cell_type": "code",
      "metadata": {
        "id": "a9G4j5L62OrS",
        "colab": {
          "base_uri": "https://localhost:8080/"
        },
        "outputId": "b0f8b0a2-7c6d-4006-ffb9-d28a11998def"
      },
      "source": [
        "criterion = nn.CrossEntropyLoss()\n",
        "acc, loss = testing(mnist_mlp_iid_trained, mnist_data_test, 128, criterion, num_classes, classes_test, True)"
      ],
      "execution_count": 68,
      "outputs": [
        {
          "output_type": "stream",
          "text": [
            "Test Loss: 0.229407\n",
            "\n",
            "Test Accuracy of     0: 96% (73/76)\n",
            "Test Accuracy of     1: 96% (87/90)\n",
            "Test Accuracy of     2: 95% (87/91)\n",
            "Test Accuracy of     3: 94% (69/73)\n",
            "Test Accuracy of     4: 96% (86/89)\n",
            "Test Accuracy of     5: 89% (61/68)\n",
            "Test Accuracy of     6: 96% (60/62)\n",
            "Test Accuracy of     7: 93% (76/81)\n",
            "Test Accuracy of     8: 97% (75/77)\n",
            "Test Accuracy of     9: 92% (77/83)\n",
            "\n",
            "Final Test  Accuracy: 95.063 (751.0/790.0)\n"
          ],
          "name": "stdout"
        }
      ]
    },
    {
      "cell_type": "code",
      "metadata": {
        "id": "fWCdJFRCL_f2"
      },
      "source": [
        "hyperparams = {'rounds': rounds,\n",
        "               'C': C,\n",
        "               'K': K,\n",
        "               'E': E,\n",
        "               'batch_size': batch_size,\n",
        "               'lr': lr,\n",
        "               'mu': mu,\n",
        "               'percentage': percentage,\n",
        "               'target_test_accuracy': target_test_accuracy,\n",
        "               }\n",
        "\n",
        "log_dict['MNIST MLP on IID'] = {'train_loss': train_loss_multiple_runs, \n",
        "                                'test_loss': test_loss_multiple_runs, \n",
        "                                'test_accuracy': test_accuracy_multiple_runs,\n",
        "                                'hyperparams': hyperparams,\n",
        "                                }"
      ],
      "execution_count": 69,
      "outputs": []
    },
    {
      "cell_type": "markdown",
      "metadata": {
        "id": "J8jzEyO0iywz"
      },
      "source": [
        "## MNIST MLP on Non IID"
      ]
    },
    {
      "cell_type": "markdown",
      "metadata": {
        "id": "pJFepr3y2bF-"
      },
      "source": [
        "### Train"
      ]
    },
    {
      "cell_type": "code",
      "metadata": {
        "id": "EBKO44Hgi1Uh",
        "colab": {
          "base_uri": "https://localhost:8080/",
          "height": 1000
        },
        "outputId": "8febf75a-d43e-4962-f50d-d50782178c44"
      },
      "source": [
        "train_loss_multiple_runs = [None] * NUM_REPEAT\n",
        "test_accuracy_multiple_runs = [None] * NUM_REPEAT\n",
        "test_loss_multiple_runs = [None] * NUM_REPEAT\n",
        "\n",
        "for exp_num in range(NUM_REPEAT):\n",
        "  print(\"Experiment Run Number: \", exp_num)\n",
        "  \n",
        "  # number of training rounds\n",
        "  rounds = 50\n",
        "  # client fraction\n",
        "  C = 0.1\n",
        "  # number of clients\n",
        "  K = 10\n",
        "  # number of training passes on local dataset for each roung\n",
        "  E = 5\n",
        "  # batch size\n",
        "  batch_size = 10\n",
        "  # learning Rate\n",
        "  lr=0.05\n",
        "  # proximal term constant\n",
        "  mu = 0.01\n",
        "  # percentage of clients to have fewer than E epochs\n",
        "  percentage = 50\n",
        "  # target_test_accuracy\n",
        "  target_test_accuracy=94.0\n",
        "  # dict containing different type of data partition\n",
        "  data_dict = non_iid_partition(mnist_data_train, 100, 200, 300, 2)\n",
        "  # load model\n",
        "  mnist_mlp = MNIST_2NN()\n",
        "\n",
        "  if torch.cuda.is_available():\n",
        "    mnist_mlp.cuda()\n",
        "\n",
        "  mnist_mlp_non_iid_trained, train_loss, test_accuracy, test_loss = training(mnist_mlp, rounds, batch_size, lr, mnist_data_train, mnist_data_test, data_dict, C, K, E, mu, percentage, \"MNIST MLP on Non-IID Dataset\", \"green\", target_test_accuracy)\n",
        "\n",
        "  train_loss_multiple_runs[exp_num] = train_loss\n",
        "  test_accuracy_multiple_runs[exp_num] = test_accuracy\n",
        "  test_loss_multiple_runs[exp_num] = test_loss"
      ],
      "execution_count": 70,
      "outputs": [
        {
          "output_type": "stream",
          "text": [
            "Experiment Run Number:  0\n",
            "System heterogeneity set to 50% stragglers.\n",
            "\n",
            "Picking 1 random clients per round.\n",
            "\n",
            "Round: 1... \tAverage Train Loss: 0.527... \tTest Loss: 10.184195402526855... \tTest Accuracy: 20.88607594936709\n",
            "Round: 2... \tAverage Train Loss: 0.088... \tTest Loss: 10.523997299194336... \tTest Accuracy: 18.860759493670887\n",
            "Round: 3... \tAverage Train Loss: 0.194... \tTest Loss: 9.233031811523437... \tTest Accuracy: 21.0126582278481\n",
            "Round: 4... \tAverage Train Loss: 0.002... \tTest Loss: 9.935268046569824... \tTest Accuracy: 21.0126582278481\n",
            "Round: 5... \tAverage Train Loss: 0.038... \tTest Loss: 7.149461547088623... \tTest Accuracy: 21.89873417721519\n",
            "Round: 6... \tAverage Train Loss: 0.114... \tTest Loss: 6.54717862625122... \tTest Accuracy: 21.645569620253166\n",
            "Round: 7... \tAverage Train Loss: 0.171... \tTest Loss: 7.903003742980957... \tTest Accuracy: 23.670886075949365\n",
            "Round: 8... \tAverage Train Loss: 0.124... \tTest Loss: 9.660250382995606... \tTest Accuracy: 21.518987341772153\n",
            "Round: 9... \tAverage Train Loss: 0.132... \tTest Loss: 5.364433235931396... \tTest Accuracy: 37.46835443037975\n",
            "Round: 10... \tAverage Train Loss: 0.015... \tTest Loss: 4.724815800476074... \tTest Accuracy: 34.050632911392405\n",
            "Round: 11... \tAverage Train Loss: 0.059... \tTest Loss: 6.2392662857055665... \tTest Accuracy: 31.39240506329114\n",
            "Round: 12... \tAverage Train Loss: 0.036... \tTest Loss: 4.250508006286621... \tTest Accuracy: 39.11392405063291\n",
            "Round: 13... \tAverage Train Loss: 0.0... \tTest Loss: 4.250329789733887... \tTest Accuracy: 39.11392405063291\n",
            "Round: 14... \tAverage Train Loss: 0.007... \tTest Loss: 5.562347157287598... \tTest Accuracy: 34.050632911392405\n",
            "Round: 15... \tAverage Train Loss: 0.086... \tTest Loss: 6.642802947998047... \tTest Accuracy: 31.265822784810126\n",
            "Round: 16... \tAverage Train Loss: 0.001... \tTest Loss: 6.767629512023926... \tTest Accuracy: 31.139240506329113\n",
            "Round: 17... \tAverage Train Loss: 0.01... \tTest Loss: 3.964599668121338... \tTest Accuracy: 38.35443037974684\n",
            "Round: 18... \tAverage Train Loss: 0.033... \tTest Loss: 5.697316259002686... \tTest Accuracy: 41.0126582278481\n",
            "Round: 19... \tAverage Train Loss: 0.019... \tTest Loss: 5.048233136749268... \tTest Accuracy: 40.0\n",
            "Round: 20... \tAverage Train Loss: 0.029... \tTest Loss: 3.93836382522583... \tTest Accuracy: 43.79746835443038\n",
            "Round: 21... \tAverage Train Loss: 0.039... \tTest Loss: 5.011827362060547... \tTest Accuracy: 38.10126582278481\n",
            "Round: 22... \tAverage Train Loss: 0.02... \tTest Loss: 5.7298975082397465... \tTest Accuracy: 44.936708860759495\n",
            "Round: 23... \tAverage Train Loss: 0.058... \tTest Loss: 5.755895029449463... \tTest Accuracy: 37.46835443037975\n",
            "Round: 24... \tAverage Train Loss: 0.07... \tTest Loss: 7.202154827880859... \tTest Accuracy: 37.46835443037975\n",
            "Round: 25... \tAverage Train Loss: 0.033... \tTest Loss: 4.996622372436524... \tTest Accuracy: 40.379746835443036\n",
            "Round: 26... \tAverage Train Loss: 0.025... \tTest Loss: 5.1646946365356445... \tTest Accuracy: 38.10126582278481\n",
            "Round: 27... \tAverage Train Loss: 0.033... \tTest Loss: 5.069402648162842... \tTest Accuracy: 38.10126582278481\n",
            "Round: 28... \tAverage Train Loss: 0.011... \tTest Loss: 5.255240270996094... \tTest Accuracy: 39.87341772151899\n",
            "Round: 29... \tAverage Train Loss: 0.011... \tTest Loss: 4.339964659118652... \tTest Accuracy: 40.12658227848101\n",
            "Round: 30... \tAverage Train Loss: 0.011... \tTest Loss: 4.719919235229492... \tTest Accuracy: 40.63291139240506\n",
            "Round: 31... \tAverage Train Loss: 0.041... \tTest Loss: 6.144839831542969... \tTest Accuracy: 35.69620253164557\n",
            "Round: 32... \tAverage Train Loss: 0.0... \tTest Loss: 6.167598356628418... \tTest Accuracy: 35.69620253164557\n",
            "Round: 33... \tAverage Train Loss: 0.032... \tTest Loss: 4.848210829162598... \tTest Accuracy: 45.31645569620253\n",
            "Round: 34... \tAverage Train Loss: 0.013... \tTest Loss: 4.538829637145996... \tTest Accuracy: 42.151898734177216\n",
            "Round: 35... \tAverage Train Loss: 0.01... \tTest Loss: 4.403431342315674... \tTest Accuracy: 45.56962025316456\n",
            "Round: 36... \tAverage Train Loss: 0.05... \tTest Loss: 7.193407086181641... \tTest Accuracy: 37.9746835443038\n",
            "Round: 37... \tAverage Train Loss: 0.036... \tTest Loss: 6.423194491577148... \tTest Accuracy: 38.860759493670884\n",
            "Round: 38... \tAverage Train Loss: 0.018... \tTest Loss: 4.1639819427490234... \tTest Accuracy: 49.24050632911393\n",
            "Round: 39... \tAverage Train Loss: 0.026... \tTest Loss: 4.100601937866211... \tTest Accuracy: 47.721518987341774\n",
            "Round: 40... \tAverage Train Loss: 0.0... \tTest Loss: 4.099838748168946... \tTest Accuracy: 47.721518987341774\n",
            "Round: 41... \tAverage Train Loss: 0.024... \tTest Loss: 4.993749052429199... \tTest Accuracy: 45.44303797468354\n",
            "Round: 42... \tAverage Train Loss: 0.026... \tTest Loss: 5.4177423835754395... \tTest Accuracy: 46.45569620253165\n",
            "Round: 43... \tAverage Train Loss: 0.008... \tTest Loss: 4.396080693054199... \tTest Accuracy: 51.51898734177215\n",
            "Round: 44... \tAverage Train Loss: 0.003... \tTest Loss: 5.465394605255127... \tTest Accuracy: 46.58227848101266\n",
            "Round: 45... \tAverage Train Loss: 0.011... \tTest Loss: 3.7874374725341795... \tTest Accuracy: 51.51898734177215\n",
            "Round: 46... \tAverage Train Loss: 0.009... \tTest Loss: 3.7878090576171877... \tTest Accuracy: 53.29113924050633\n",
            "Round: 47... \tAverage Train Loss: 0.041... \tTest Loss: 6.548045317840576... \tTest Accuracy: 45.949367088607595\n",
            "Round: 48... \tAverage Train Loss: 0.02... \tTest Loss: 6.384213125610351... \tTest Accuracy: 45.063291139240505\n",
            "Round: 49... \tAverage Train Loss: 0.013... \tTest Loss: 5.028229221343994... \tTest Accuracy: 44.81012658227848\n",
            "Round: 50... \tAverage Train Loss: 0.045... \tTest Loss: 3.5384398956298826... \tTest Accuracy: 51.392405063291136\n"
          ],
          "name": "stdout"
        },
        {
          "output_type": "display_data",
          "data": {
            "image/png": "[encoded data removed]",
            "text/plain": [
              "<Figure size 432x288 with 1 Axes>"
            ]
          },
          "metadata": {
            "tags": [],
            "needs_background": "light"
          }
        },
        {
          "output_type": "display_data",
          "data": {
            "image/png": "[encoded data removed]",
            "text/plain": [
              "<Figure size 432x288 with 1 Axes>"
            ]
          },
          "metadata": {
            "tags": [],
            "needs_background": "light"
          }
        },
        {
          "output_type": "display_data",
          "data": {
            "image/png": "[encoded data removed]",
            "text/plain": [
              "<Figure size 432x288 with 1 Axes>"
            ]
          },
          "metadata": {
            "tags": [],
            "needs_background": "light"
          }
        },
        {
          "output_type": "stream",
          "text": [
            "Training Done!\n",
            "Total time taken to Train: 119.5622010231018\n",
            "\n",
            "\n"
          ],
          "name": "stdout"
        }
      ]
    },
    {
      "cell_type": "markdown",
      "metadata": {
        "id": "jmuQYPbF2mes"
      },
      "source": [
        "### Test"
      ]
    },
    {
      "cell_type": "code",
      "metadata": {
        "id": "0tKMlJyF2nGN",
        "colab": {
          "base_uri": "https://localhost:8080/"
        },
        "outputId": "b9d51108-4c4c-461c-f996-e778e5e3f1d3"
      },
      "source": [
        "criterion = nn.CrossEntropyLoss()\n",
        "acc, loss = testing(mnist_mlp_non_iid_trained, mnist_data_test, 128, criterion, num_classes, classes_test, True)"
      ],
      "execution_count": 71,
      "outputs": [
        {
          "output_type": "stream",
          "text": [
            "Test Loss: 3.538440\n",
            "\n",
            "Test Accuracy of     0: 100% (76/76)\n",
            "Test Accuracy of     1: 96% (87/90)\n",
            "Test Accuracy of     2: 23% (21/91)\n",
            "Test Accuracy of     3: 83% (61/73)\n",
            "Test Accuracy of     4:  0% ( 0/89)\n",
            "Test Accuracy of     5:  0% ( 0/68)\n",
            "Test Accuracy of     6: 96% (60/62)\n",
            "Test Accuracy of     7: 22% (18/81)\n",
            "Test Accuracy of     8: 54% (42/77)\n",
            "Test Accuracy of     9: 49% (41/83)\n",
            "\n",
            "Final Test  Accuracy: 51.392 (406.0/790.0)\n"
          ],
          "name": "stdout"
        }
      ]
    },
    {
      "cell_type": "code",
      "metadata": {
        "id": "1W5krYcSMQiu"
      },
      "source": [
        "hyperparams = {'rounds': rounds,\n",
        "               'C': C,\n",
        "               'K': K,\n",
        "               'E': E,\n",
        "               'batch_size': batch_size,\n",
        "               'lr': lr,\n",
        "               'mu': mu,\n",
        "               'percentage': percentage,\n",
        "               'target_test_accuracy': target_test_accuracy,\n",
        "               }\n",
        "\n",
        "log_dict['MNIST MLP on Non IID'] = {'train_loss': train_loss_multiple_runs, \n",
        "                                'test_loss': test_loss_multiple_runs, \n",
        "                                'test_accuracy': test_accuracy_multiple_runs,\n",
        "                                'hyperparams': hyperparams,\n",
        "                                }"
      ],
      "execution_count": 72,
      "outputs": []
    },
    {
      "cell_type": "markdown",
      "metadata": {
        "id": "emS_SaRAP6TZ"
      },
      "source": [
        "## Pickle Log"
      ]
    },
    {
      "cell_type": "code",
      "metadata": {
        "id": "soAN38JoP0c1"
      },
      "source": [
        "import pickle\n",
        " \n",
        "with open(path + 'Local_Round_FedProx_10.pkl', 'wb') as file:\n",
        "  pickle.dump(log_dict, file)"
      ],
      "execution_count": 73,
      "outputs": []
    },
    {
      "cell_type": "code",
      "metadata": {
        "id": "2UBy-JswSoCJ",
        "colab": {
          "base_uri": "https://localhost:8080/"
        },
        "outputId": "cd6e72e8-e596-4620-8372-6fc9f641c7dd"
      },
      "source": [
        "log_dict"
      ],
      "execution_count": 74,
      "outputs": [
        {
          "output_type": "execute_result",
          "data": {
            "text/plain": [
              "{'MNIST CNN on IID': {'hyperparams': {'C': 0.1,\n",
              "   'E': 5,\n",
              "   'K': 10,\n",
              "   'batch_size': 10,\n",
              "   'lr': 0.05,\n",
              "   'mu': 0.01,\n",
              "   'percentage': 50,\n",
              "   'rounds': 50,\n",
              "   'target_test_accuracy': 99.0},\n",
              "  'test_accuracy': [[92.15189873417721,\n",
              "    92.78481012658227,\n",
              "    96.07594936708861,\n",
              "    96.58227848101266,\n",
              "    96.83544303797468,\n",
              "    96.70886075949367,\n",
              "    97.21518987341773,\n",
              "    98.10126582278481,\n",
              "    97.84810126582279,\n",
              "    97.72151898734177,\n",
              "    97.21518987341773,\n",
              "    97.0886075949367,\n",
              "    97.34177215189874,\n",
              "    98.10126582278481,\n",
              "    96.9620253164557,\n",
              "    97.72151898734177,\n",
              "    97.84810126582279,\n",
              "    97.72151898734177,\n",
              "    97.9746835443038,\n",
              "    97.0886075949367,\n",
              "    98.10126582278481,\n",
              "    97.34177215189874,\n",
              "    97.9746835443038,\n",
              "    97.72151898734177,\n",
              "    97.59493670886076,\n",
              "    97.84810126582279,\n",
              "    98.22784810126582,\n",
              "    97.34177215189874,\n",
              "    97.9746835443038,\n",
              "    97.84810126582279,\n",
              "    97.84810126582279,\n",
              "    98.22784810126582,\n",
              "    98.22784810126582,\n",
              "    97.9746835443038,\n",
              "    98.10126582278481,\n",
              "    98.22784810126582,\n",
              "    98.22784810126582,\n",
              "    98.48101265822785,\n",
              "    98.60759493670886,\n",
              "    98.48101265822785,\n",
              "    98.60759493670886,\n",
              "    98.22784810126582,\n",
              "    98.86075949367088,\n",
              "    98.9873417721519,\n",
              "    98.22784810126582,\n",
              "    98.48101265822785,\n",
              "    98.48101265822785,\n",
              "    98.35443037974683,\n",
              "    97.59493670886076,\n",
              "    98.22784810126582]],\n",
              "  'test_loss': [[0.25047922481298446,\n",
              "    0.22823799635916947,\n",
              "    0.1522770757317543,\n",
              "    0.14111803023130634,\n",
              "    0.130409403828418,\n",
              "    0.1143949851023499,\n",
              "    0.1141566107622697,\n",
              "    0.09645468275148741,\n",
              "    0.09719230723483051,\n",
              "    0.10437200547524844,\n",
              "    0.09178582377685233,\n",
              "    0.0909345458320342,\n",
              "    0.111716842235683,\n",
              "    0.08823336067280434,\n",
              "    0.08815424893234594,\n",
              "    0.09819265778563968,\n",
              "    0.08281209870585007,\n",
              "    0.1174591125702711,\n",
              "    0.09027517278822961,\n",
              "    0.10519487173696557,\n",
              "    0.10545990337494131,\n",
              "    0.11464143241764978,\n",
              "    0.10100808498586994,\n",
              "    0.08332525202435409,\n",
              "    0.09396618432139599,\n",
              "    0.09822279085221235,\n",
              "    0.08359644864037918,\n",
              "    0.10022407105947641,\n",
              "    0.08905050817252268,\n",
              "    0.07870604800543334,\n",
              "    0.09045273843846517,\n",
              "    0.07884047020761337,\n",
              "    0.08651967619730062,\n",
              "    0.08333695411849139,\n",
              "    0.08993834415098172,\n",
              "    0.08063974146772235,\n",
              "    0.08726968705300532,\n",
              "    0.07244877697540651,\n",
              "    0.08027501185407636,\n",
              "    0.07103011541196938,\n",
              "    0.07347217923950529,\n",
              "    0.07020177045047021,\n",
              "    0.07632207307039549,\n",
              "    0.07365099206415648,\n",
              "    0.0860653223873607,\n",
              "    0.0808234586373982,\n",
              "    0.08591679070902228,\n",
              "    0.0783652835635974,\n",
              "    0.09256649458680513,\n",
              "    0.09199838609923608]],\n",
              "  'train_loss': [[0.6093144562467933,\n",
              "    0.08982435417051117,\n",
              "    0.17654315504555904,\n",
              "    0.1470695504701386,\n",
              "    0.006734921624884009,\n",
              "    0.13511806626206332,\n",
              "    0.03802776579343724,\n",
              "    0.07209037154757728,\n",
              "    0.0017000728500776556,\n",
              "    0.08040364457760008,\n",
              "    0.12197043995023704,\n",
              "    0.08573195625079279,\n",
              "    0.0844577898705999,\n",
              "    0.08607559258157077,\n",
              "    0.03167107304892246,\n",
              "    0.06942191181908129,\n",
              "    0.07149546168123683,\n",
              "    0.03200442535647502,\n",
              "    0.05714512930944693,\n",
              "    0.04958155465360809,\n",
              "    0.032219966849791795,\n",
              "    0.08360208495830496,\n",
              "    0.05263952666563758,\n",
              "    0.05407910818105545,\n",
              "    0.01994729891953208,\n",
              "    0.020474428325721116,\n",
              "    0.04573564786369388,\n",
              "    0.06406684711194732,\n",
              "    0.037687379774539904,\n",
              "    0.016654215598905467,\n",
              "    0.020562251848435457,\n",
              "    0.005071957946444551,\n",
              "    0.019847679334049722,\n",
              "    0.013200401748642131,\n",
              "    0.022800189438657983,\n",
              "    0.017577511272655784,\n",
              "    0.0532078130536441,\n",
              "    0.01094585795258657,\n",
              "    0.04226681355928122,\n",
              "    0.028292438642356497,\n",
              "    0.015894725450636426,\n",
              "    0.005583979271035181,\n",
              "    0.018640503303613516,\n",
              "    0.004144832302768009,\n",
              "    0.0214353220948639,\n",
              "    0.014013849314625685,\n",
              "    0.053567953051485054,\n",
              "    0.01899081602183287,\n",
              "    0.04860143539941068,\n",
              "    0.024802052493691915]]},\n",
              " 'MNIST CNN on Non IID': {'hyperparams': {'C': 0.1,\n",
              "   'E': 5,\n",
              "   'K': 10,\n",
              "   'batch_size': 10,\n",
              "   'lr': 0.05,\n",
              "   'mu': 0.01,\n",
              "   'percentage': 50,\n",
              "   'rounds': 50,\n",
              "   'target_test_accuracy': 99.0},\n",
              "  'test_accuracy': [[21.518987341772153,\n",
              "    18.354430379746834,\n",
              "    29.746835443037973,\n",
              "    17.088607594936708,\n",
              "    21.645569620253166,\n",
              "    18.354430379746834,\n",
              "    19.873417721518987,\n",
              "    20.0,\n",
              "    20.253164556962027,\n",
              "    27.468354430379748,\n",
              "    26.582278481012658,\n",
              "    29.49367088607595,\n",
              "    26.582278481012658,\n",
              "    25.189873417721518,\n",
              "    24.936708860759495,\n",
              "    23.924050632911392,\n",
              "    30.0,\n",
              "    30.632911392405063,\n",
              "    20.0,\n",
              "    20.0,\n",
              "    28.481012658227847,\n",
              "    22.151898734177216,\n",
              "    23.544303797468356,\n",
              "    35.063291139240505,\n",
              "    39.24050632911393,\n",
              "    37.848101265822784,\n",
              "    36.962025316455694,\n",
              "    36.962025316455694,\n",
              "    36.075949367088604,\n",
              "    30.759493670886076,\n",
              "    42.53164556962025,\n",
              "    32.53164556962025,\n",
              "    40.12658227848101,\n",
              "    37.34177215189873,\n",
              "    32.53164556962025,\n",
              "    33.67088607594937,\n",
              "    33.29113924050633,\n",
              "    37.721518987341774,\n",
              "    36.45569620253165,\n",
              "    37.721518987341774,\n",
              "    30.632911392405063,\n",
              "    26.329113924050635,\n",
              "    38.607594936708864,\n",
              "    34.30379746835443,\n",
              "    33.29113924050633,\n",
              "    26.582278481012658,\n",
              "    25.696202531645568,\n",
              "    24.68354430379747,\n",
              "    35.063291139240505,\n",
              "    30.126582278481013]],\n",
              "  'test_loss': [[8.481837261962891,\n",
              "    8.366310832214355,\n",
              "    6.714540825653076,\n",
              "    10.304085012817383,\n",
              "    8.486506294250487,\n",
              "    7.336381623840332,\n",
              "    10.748537046813965,\n",
              "    9.491252461242675,\n",
              "    8.667203230285644,\n",
              "    6.936978733825684,\n",
              "    7.998024620056152,\n",
              "    5.1219513168334965,\n",
              "    7.952027215576172,\n",
              "    7.699372764587403,\n",
              "    8.700999618530274,\n",
              "    9.474780848693849,\n",
              "    6.670998118591308,\n",
              "    7.103421459960938,\n",
              "    8.708448667907716,\n",
              "    8.754748156738282,\n",
              "    5.2490110626220705,\n",
              "    7.4075935928344725,\n",
              "    8.255704783630371,\n",
              "    6.165353116607666,\n",
              "    5.086142984008789,\n",
              "    5.607066349029541,\n",
              "    5.267093939971923,\n",
              "    5.266791734313965,\n",
              "    5.424049462890625,\n",
              "    8.199040007019043,\n",
              "    3.6731438308715822,\n",
              "    5.04972216796875,\n",
              "    6.536111663818359,\n",
              "    7.743455017089844,\n",
              "    4.209106262207031,\n",
              "    5.944463994598388,\n",
              "    8.537654566955567,\n",
              "    5.960783236694336,\n",
              "    6.620385099029541,\n",
              "    8.532560052490235,\n",
              "    8.007797749328613,\n",
              "    7.064985955810547,\n",
              "    4.751485693359375,\n",
              "    6.39400152053833,\n",
              "    6.5574435676574705,\n",
              "    7.372000813293457,\n",
              "    5.681200989532471,\n",
              "    6.753291981506347,\n",
              "    4.706127285003662,\n",
              "    3.7294758277893068]],\n",
              "  'train_loss': [[0.07877738568621376,\n",
              "    0.23185343388468027,\n",
              "    0.2441216315453251,\n",
              "    0.07332404212405284,\n",
              "    0.10632383739575743,\n",
              "    0.07928287006293736,\n",
              "    0.16208063314358392,\n",
              "    0.007832635441088013,\n",
              "    0.13426522273570302,\n",
              "    0.1413790357920031,\n",
              "    0.011711757429341864,\n",
              "    0.11391965034728249,\n",
              "    0.049800132544090346,\n",
              "    0.006196759630638553,\n",
              "    0.007521396278510414,\n",
              "    0.005771297232955768,\n",
              "    0.046986140627413985,\n",
              "    0.00725554063213849,\n",
              "    0.09940697457020481,\n",
              "    0.0053182980322966,\n",
              "    0.04870843269551793,\n",
              "    0.07650205519671241,\n",
              "    0.011757496838229901,\n",
              "    0.06190476845949888,\n",
              "    0.04913271107090016,\n",
              "    0.015176422441533454,\n",
              "    0.007751418076284154,\n",
              "    7.126177736959486e-05,\n",
              "    0.00017031661045469566,\n",
              "    0.23594025903691845,\n",
              "    0.1867458524927497,\n",
              "    0.03087975798019519,\n",
              "    0.06061330365948379,\n",
              "    0.011084041708769898,\n",
              "    0.06053247145066659,\n",
              "    0.05814075325305264,\n",
              "    0.07527854622652133,\n",
              "    0.026075853359264635,\n",
              "    0.0682262567554911,\n",
              "    0.01173435994865334,\n",
              "    0.0925051333072285,\n",
              "    0.08616183605665963,\n",
              "    0.04119965131394566,\n",
              "    0.06542063607523838,\n",
              "    0.0702024476416409,\n",
              "    0.1331673608099421,\n",
              "    0.007870341548890186,\n",
              "    0.06773908425122499,\n",
              "    0.1558300209790468,\n",
              "    0.06496457394833366]]},\n",
              " 'MNIST MLP on IID': {'hyperparams': {'C': 0.1,\n",
              "   'E': 5,\n",
              "   'K': 10,\n",
              "   'batch_size': 10,\n",
              "   'lr': 0.05,\n",
              "   'mu': 0.01,\n",
              "   'percentage': 50,\n",
              "   'rounds': 50,\n",
              "   'target_test_accuracy': 94.0},\n",
              "  'test_accuracy': [[86.58227848101266,\n",
              "    91.39240506329114,\n",
              "    91.13924050632912,\n",
              "    92.27848101265823,\n",
              "    92.65822784810126,\n",
              "    92.78481012658227,\n",
              "    92.40506329113924,\n",
              "    92.27848101265823,\n",
              "    92.15189873417721,\n",
              "    92.27848101265823,\n",
              "    93.67088607594937,\n",
              "    93.29113924050633,\n",
              "    92.65822784810126,\n",
              "    93.41772151898734,\n",
              "    94.55696202531645,\n",
              "    94.30379746835443,\n",
              "    93.16455696202532,\n",
              "    93.67088607594937,\n",
              "    94.30379746835443,\n",
              "    93.16455696202532,\n",
              "    93.29113924050633,\n",
              "    92.9113924050633,\n",
              "    93.16455696202532,\n",
              "    93.29113924050633,\n",
              "    94.43037974683544,\n",
              "    93.54430379746836,\n",
              "    94.0506329113924,\n",
              "    94.68354430379746,\n",
              "    94.68354430379746,\n",
              "    94.55696202531645,\n",
              "    94.55696202531645,\n",
              "    94.81012658227849,\n",
              "    94.81012658227849,\n",
              "    93.29113924050633,\n",
              "    93.92405063291139,\n",
              "    94.0506329113924,\n",
              "    94.43037974683544,\n",
              "    95.0632911392405,\n",
              "    94.81012658227849,\n",
              "    94.68354430379746,\n",
              "    94.81012658227849,\n",
              "    95.18987341772151,\n",
              "    95.31645569620254,\n",
              "    95.56962025316456,\n",
              "    95.44303797468355,\n",
              "    94.81012658227849,\n",
              "    95.56962025316456,\n",
              "    95.31645569620254,\n",
              "    95.0632911392405,\n",
              "    95.0632911392405]],\n",
              "  'test_loss': [[0.5026406310796737,\n",
              "    0.37853615813851355,\n",
              "    0.3263068216323853,\n",
              "    0.27904681664183734,\n",
              "    0.2827564617097378,\n",
              "    0.28470239215493204,\n",
              "    0.2949505921509117,\n",
              "    0.2908664513906464,\n",
              "    0.270358090493083,\n",
              "    0.292227258752659,\n",
              "    0.2686467797376215,\n",
              "    0.27909654020750896,\n",
              "    0.28629831468164924,\n",
              "    0.260666715734452,\n",
              "    0.251826169282198,\n",
              "    0.24005115970671176,\n",
              "    0.23393963429592549,\n",
              "    0.2303419222043827,\n",
              "    0.23956165218362585,\n",
              "    0.2672113994628191,\n",
              "    0.23954355861870572,\n",
              "    0.23092218442596496,\n",
              "    0.24683018538616597,\n",
              "    0.24665408913195133,\n",
              "    0.24156954035144299,\n",
              "    0.24520005459785463,\n",
              "    0.2333733794581145,\n",
              "    0.22942458409965039,\n",
              "    0.22985813334323466,\n",
              "    0.23010062594348565,\n",
              "    0.21718150624940172,\n",
              "    0.21740850383667276,\n",
              "    0.2276217635370791,\n",
              "    0.23651200009984896,\n",
              "    0.24007872280082665,\n",
              "    0.23362968557481653,\n",
              "    0.23303847782025114,\n",
              "    0.2330950319306925,\n",
              "    0.23175481823931915,\n",
              "    0.23092363694324158,\n",
              "    0.2292825480110245,\n",
              "    0.24597230933642714,\n",
              "    0.24304063524722588,\n",
              "    0.2402806202363223,\n",
              "    0.23294543125315104,\n",
              "    0.23069482680112124,\n",
              "    0.2243967236207798,\n",
              "    0.22610394565134775,\n",
              "    0.22933225340975913,\n",
              "    0.2294073565147235]],\n",
              "  'train_loss': [[0.46260326935599255,\n",
              "    0.18066142859558265,\n",
              "    0.12842033629616104,\n",
              "    0.1549923462824275,\n",
              "    0.0036903065386771536,\n",
              "    0.002631504189242454,\n",
              "    0.03010325653245673,\n",
              "    0.004600649319278697,\n",
              "    0.14352663742223135,\n",
              "    0.05181674305660029,\n",
              "    0.03137154686866173,\n",
              "    0.006267295052821283,\n",
              "    0.13150783530281235,\n",
              "    0.12361256225034593,\n",
              "    0.10831014915699293,\n",
              "    0.048427180442959065,\n",
              "    0.11798535221256315,\n",
              "    0.033900038815724357,\n",
              "    0.024541209753757964,\n",
              "    0.1105189023160104,\n",
              "    0.022202002968794356,\n",
              "    0.02240493805225318,\n",
              "    0.03031806367012905,\n",
              "    0.0010928691449347146,\n",
              "    0.004828834297659342,\n",
              "    0.03032127920344161,\n",
              "    0.005305419374490157,\n",
              "    0.03518419249689031,\n",
              "    0.0011334348956491642,\n",
              "    0.001086704787121562,\n",
              "    0.0075173279464555275,\n",
              "    0.003001682375712941,\n",
              "    0.05032881802782261,\n",
              "    0.04743314917834747,\n",
              "    0.014152098376071082,\n",
              "    0.012176627980079503,\n",
              "    0.012515372928852835,\n",
              "    0.009675940431964894,\n",
              "    0.004520225730229867,\n",
              "    0.0016702796487758555,\n",
              "    0.003970823096945727,\n",
              "    0.021180620648859377,\n",
              "    0.035906118874360494,\n",
              "    0.006397245878809674,\n",
              "    0.0023444208715894398,\n",
              "    0.020607719850941068,\n",
              "    0.011605261386527368,\n",
              "    0.007767811609664932,\n",
              "    0.01655428528394017,\n",
              "    0.0004409111583299818]]},\n",
              " 'MNIST MLP on Non IID': {'hyperparams': {'C': 0.1,\n",
              "   'E': 5,\n",
              "   'K': 10,\n",
              "   'batch_size': 10,\n",
              "   'lr': 0.05,\n",
              "   'mu': 0.01,\n",
              "   'percentage': 50,\n",
              "   'rounds': 50,\n",
              "   'target_test_accuracy': 94.0},\n",
              "  'test_accuracy': [[20.88607594936709,\n",
              "    18.860759493670887,\n",
              "    21.0126582278481,\n",
              "    21.0126582278481,\n",
              "    21.89873417721519,\n",
              "    21.645569620253166,\n",
              "    23.670886075949365,\n",
              "    21.518987341772153,\n",
              "    37.46835443037975,\n",
              "    34.050632911392405,\n",
              "    31.39240506329114,\n",
              "    39.11392405063291,\n",
              "    39.11392405063291,\n",
              "    34.050632911392405,\n",
              "    31.265822784810126,\n",
              "    31.139240506329113,\n",
              "    38.35443037974684,\n",
              "    41.0126582278481,\n",
              "    40.0,\n",
              "    43.79746835443038,\n",
              "    38.10126582278481,\n",
              "    44.936708860759495,\n",
              "    37.46835443037975,\n",
              "    37.46835443037975,\n",
              "    40.379746835443036,\n",
              "    38.10126582278481,\n",
              "    38.10126582278481,\n",
              "    39.87341772151899,\n",
              "    40.12658227848101,\n",
              "    40.63291139240506,\n",
              "    35.69620253164557,\n",
              "    35.69620253164557,\n",
              "    45.31645569620253,\n",
              "    42.151898734177216,\n",
              "    45.56962025316456,\n",
              "    37.9746835443038,\n",
              "    38.860759493670884,\n",
              "    49.24050632911393,\n",
              "    47.721518987341774,\n",
              "    47.721518987341774,\n",
              "    45.44303797468354,\n",
              "    46.45569620253165,\n",
              "    51.51898734177215,\n",
              "    46.58227848101266,\n",
              "    51.51898734177215,\n",
              "    53.29113924050633,\n",
              "    45.949367088607595,\n",
              "    45.063291139240505,\n",
              "    44.81012658227848,\n",
              "    51.392405063291136]],\n",
              "  'test_loss': [[10.184195402526855,\n",
              "    10.523997299194336,\n",
              "    9.233031811523437,\n",
              "    9.935268046569824,\n",
              "    7.149461547088623,\n",
              "    6.54717862625122,\n",
              "    7.903003742980957,\n",
              "    9.660250382995606,\n",
              "    5.364433235931396,\n",
              "    4.724815800476074,\n",
              "    6.2392662857055665,\n",
              "    4.250508006286621,\n",
              "    4.250329789733887,\n",
              "    5.562347157287598,\n",
              "    6.642802947998047,\n",
              "    6.767629512023926,\n",
              "    3.964599668121338,\n",
              "    5.697316259002686,\n",
              "    5.048233136749268,\n",
              "    3.93836382522583,\n",
              "    5.011827362060547,\n",
              "    5.7298975082397465,\n",
              "    5.755895029449463,\n",
              "    7.202154827880859,\n",
              "    4.996622372436524,\n",
              "    5.1646946365356445,\n",
              "    5.069402648162842,\n",
              "    5.255240270996094,\n",
              "    4.339964659118652,\n",
              "    4.719919235229492,\n",
              "    6.144839831542969,\n",
              "    6.167598356628418,\n",
              "    4.848210829162598,\n",
              "    4.538829637145996,\n",
              "    4.403431342315674,\n",
              "    7.193407086181641,\n",
              "    6.423194491577148,\n",
              "    4.1639819427490234,\n",
              "    4.100601937866211,\n",
              "    4.099838748168946,\n",
              "    4.993749052429199,\n",
              "    5.4177423835754395,\n",
              "    4.396080693054199,\n",
              "    5.465394605255127,\n",
              "    3.7874374725341795,\n",
              "    3.7878090576171877,\n",
              "    6.548045317840576,\n",
              "    6.384213125610351,\n",
              "    5.028229221343994,\n",
              "    3.5384398956298826]],\n",
              "  'train_loss': [[0.5270447983220219,\n",
              "    0.08758572629652918,\n",
              "    0.1935130635773142,\n",
              "    0.0023126732477976473,\n",
              "    0.03790941928202907,\n",
              "    0.11437157524439198,\n",
              "    0.17087049987788003,\n",
              "    0.12356671325862408,\n",
              "    0.1322743374109268,\n",
              "    0.015141208001441555,\n",
              "    0.05915436749036114,\n",
              "    0.03556120380138358,\n",
              "    0.00021111234051621368,\n",
              "    0.0065260867469241176,\n",
              "    0.08632517182268203,\n",
              "    0.0008112216137700064,\n",
              "    0.01007790200257053,\n",
              "    0.032776466542854904,\n",
              "    0.018609378943995884,\n",
              "    0.029492911500856284,\n",
              "    0.03853604912447433,\n",
              "    0.019734052193040648,\n",
              "    0.057551900167018166,\n",
              "    0.06960472716329,\n",
              "    0.033349391156807545,\n",
              "    0.02523880538841089,\n",
              "    0.032677711779251696,\n",
              "    0.010500286556780338,\n",
              "    0.010599258144614699,\n",
              "    0.011464284726728995,\n",
              "    0.04113455729559064,\n",
              "    0.0004209965290435017,\n",
              "    0.03221781083072225,\n",
              "    0.013422916374790173,\n",
              "    0.009717253142346938,\n",
              "    0.050044720200821756,\n",
              "    0.035893633322169376,\n",
              "    0.01810449524472157,\n",
              "    0.025962489068818588,\n",
              "    0.0003316835037321652,\n",
              "    0.024188434549917776,\n",
              "    0.026372702239702145,\n",
              "    0.008131494602033247,\n",
              "    0.0033002311214416595,\n",
              "    0.011447236485158406,\n",
              "    0.008946458999998868,\n",
              "    0.04149282258314391,\n",
              "    0.019616090739145876,\n",
              "    0.012706893120751678,\n",
              "    0.04516324334777892]]}}"
            ]
          },
          "metadata": {
            "tags": []
          },
          "execution_count": 74
        }
      ]
    },
    {
      "cell_type": "code",
      "metadata": {
        "id": "BXa1-CbFo3pX"
      },
      "source": [
        "import pickle\n",
        "\n",
        "with open(path + 'Local_Round_FedProx_10.pkl', 'rb') as file:\n",
        "  log_dict = pickle.load(file)"
      ],
      "execution_count": 75,
      "outputs": []
    },
    {
      "cell_type": "code",
      "metadata": {
        "id": "se_04JMaVJPg",
        "colab": {
          "base_uri": "https://localhost:8080/"
        },
        "outputId": "d48282ed-7241-4a5d-f45b-a3e4c25d561b"
      },
      "source": [
        "print([test_acc[-1] for test_acc in log_dict['MNIST CNN on IID']['test_accuracy']])"
      ],
      "execution_count": 76,
      "outputs": [
        {
          "output_type": "stream",
          "text": [
            "[98.22784810126582]\n"
          ],
          "name": "stdout"
        }
      ]
    },
    {
      "cell_type": "code",
      "metadata": {
        "id": "5sv0rv-G4Sqa",
        "colab": {
          "base_uri": "https://localhost:8080/"
        },
        "outputId": "e28aee19-803d-41e3-f16c-af3fcea78876"
      },
      "source": [
        "print([test_acc[-1] for test_acc in log_dict['MNIST CNN on Non IID']['test_accuracy']])"
      ],
      "execution_count": 77,
      "outputs": [
        {
          "output_type": "stream",
          "text": [
            "[30.126582278481013]\n"
          ],
          "name": "stdout"
        }
      ]
    },
    {
      "cell_type": "code",
      "metadata": {
        "id": "b2a2_Az-4nal",
        "colab": {
          "base_uri": "https://localhost:8080/"
        },
        "outputId": "82d608fc-dbea-4079-e864-5a0d8490f534"
      },
      "source": [
        "print([test_acc[-1] for test_acc in log_dict['MNIST MLP on IID']['test_accuracy']])"
      ],
      "execution_count": 78,
      "outputs": [
        {
          "output_type": "stream",
          "text": [
            "[95.0632911392405]\n"
          ],
          "name": "stdout"
        }
      ]
    },
    {
      "cell_type": "code",
      "metadata": {
        "id": "YoRqZyvD4p2K",
        "colab": {
          "base_uri": "https://localhost:8080/"
        },
        "outputId": "a2dcbc95-bca7-42bb-c7fd-a22a59d00868"
      },
      "source": [
        "print([test_acc[-1] for test_acc in log_dict['MNIST MLP on Non IID']['test_accuracy']])"
      ],
      "execution_count": 79,
      "outputs": [
        {
          "output_type": "stream",
          "text": [
            "[51.392405063291136]\n"
          ],
          "name": "stdout"
        }
      ]
    },
    {
      "cell_type": "code",
      "metadata": {
        "id": "B87eGKJnAHIh",
        "colab": {
          "base_uri": "https://localhost:8080/"
        },
        "outputId": "15c089e2-4179-44fb-bc8e-e086d41f6e5a"
      },
      "source": [
        "output.show()"
      ],
      "execution_count": 80,
      "outputs": [
        {
          "output_type": "stream",
          "text": [
            "Drive already mounted at /content/drive; to attempt to forcibly remount, call drive.mount(\"/content/drive\", force_remount=True).\n"
          ],
          "name": "stdout"
        }
      ]
    }
  ]
}