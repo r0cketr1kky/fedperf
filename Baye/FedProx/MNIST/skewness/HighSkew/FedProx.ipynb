{
  "nbformat": 4,
  "nbformat_minor": 0,
  "metadata": {
    "accelerator": "GPU",
    "colab": {
      "name": "FedProx.ipynb",
      "provenance": [],
      "collapsed_sections": [],
      "machine_shape": "hm"
    },
    "kernelspec": {
      "name": "python3",
      "display_name": "Python 3"
    },
    "language_info": {
      "name": "python"
    }
  },
  "cells": [
    {
      "cell_type": "markdown",
      "metadata": {
        "id": "view-in-github"
      },
      "source": [
        "<a href=\"https://colab.research.google.com/github/tushar-semwal/fedperf/blob/main/Vineeth/Local_Rounds/FedProx/FedProx.ipynb\" target=\"_parent\"><img src=\"https://colab.research.google.com/assets/colab-badge.svg\" alt=\"Open In Colab\"/></a>"
      ]
    },
    {
      "cell_type": "code",
      "metadata": {
        "id": "yKcpjZLrQQJV"
      },
      "source": [
        "%%capture output\n",
        "try:\n",
        "    from google.colab import drive\n",
        "    drive.mount('/content/drive')\n",
        "\n",
        "    import os\n",
        "    path = '/content/drive/MyDrive/Colab Notebooks/OpenMined/'\n",
        "    os.makedirs(path, exist_ok=True)\n",
        "except:\n",
        "    path = './'"
      ],
      "execution_count": 79,
      "outputs": []
    },
    {
      "cell_type": "markdown",
      "metadata": {
        "id": "-0_nKpfq2h1R"
      },
      "source": [
        "## Imports"
      ]
    },
    {
      "cell_type": "code",
      "metadata": {
        "colab": {
          "base_uri": "https://localhost:8080/"
        },
        "id": "DLLNM9X2JbQ8",
        "outputId": "35e5db48-a3ca-4a15-ffd0-e70d59b8148a"
      },
      "source": [
        "%load_ext tensorboard\n",
        "import os\n",
        "import numpy as np\n",
        "import matplotlib\n",
        "import matplotlib.pyplot as plt\n",
        "import copy\n",
        "import random\n",
        "import time\n",
        "\n",
        "import torch\n",
        "import torch.nn as nn\n",
        "import torch.nn.functional as F\n",
        "\n",
        "from torch.utils.data import Dataset, DataLoader\n",
        "from torch.utils.tensorboard import SummaryWriter\n",
        "from torchvision import transforms, utils, datasets\n",
        "from torchsummary import summary\n",
        "\n",
        "\n",
        "# Check assigned GPU\n",
        "gpu_info = !nvidia-smi\n",
        "gpu_info = '\\n'.join(gpu_info)\n",
        "if gpu_info.find('failed') >= 0:\n",
        "  print('Select the Runtime > \"Change runtime type\" menu to enable a GPU accelerator, ')\n",
        "  print('and then re-execute this cell.')\n",
        "else:\n",
        "  print(gpu_info)\n",
        "\n",
        "# set manual seed for reproducibility\n",
        "seed = 42\n",
        "\n",
        "# general reproducibility\n",
        "random.seed(seed)\n",
        "np.random.seed(seed)\n",
        "torch.manual_seed(seed)\n",
        "\n",
        "# gpu training specific\n",
        "torch.backends.cudnn.deterministic = True\n",
        "torch.backends.cudnn.benchmark = False"
      ],
      "execution_count": 80,
      "outputs": [
        {
          "output_type": "stream",
          "text": [
            "The tensorboard extension is already loaded. To reload it, use:\n",
            "  %reload_ext tensorboard\n",
            "Thu Apr 22 09:57:41 2021       \n",
            "+-----------------------------------------------------------------------------+\n",
            "| NVIDIA-SMI 460.67       Driver Version: 460.32.03    CUDA Version: 11.2     |\n",
            "|-------------------------------+----------------------+----------------------+\n",
            "| GPU  Name        Persistence-M| Bus-Id        Disp.A | Volatile Uncorr. ECC |\n",
            "| Fan  Temp  Perf  Pwr:Usage/Cap|         Memory-Usage | GPU-Util  Compute M. |\n",
            "|                               |                      |               MIG M. |\n",
            "|===============================+======================+======================|\n",
            "|   0  Tesla K80           Off  | 00000000:00:04.0 Off |                    0 |\n",
            "| N/A   39C    P0    57W / 149W |    622MiB / 11441MiB |      0%      Default |\n",
            "|                               |                      |                  N/A |\n",
            "+-------------------------------+----------------------+----------------------+\n",
            "                                                                               \n",
            "+-----------------------------------------------------------------------------+\n",
            "| Processes:                                                                  |\n",
            "|  GPU   GI   CI        PID   Type   Process name                  GPU Memory |\n",
            "|        ID   ID                                                   Usage      |\n",
            "|=============================================================================|\n",
            "+-----------------------------------------------------------------------------+\n"
          ],
          "name": "stdout"
        }
      ]
    },
    {
      "cell_type": "markdown",
      "metadata": {
        "id": "NY4eWzGiL6Mj"
      },
      "source": [
        "## Load the MNIST Dataset"
      ]
    },
    {
      "cell_type": "code",
      "metadata": {
        "id": "Ck9eSDfknLTk"
      },
      "source": [
        "torch.cuda.set_device('cuda:0')"
      ],
      "execution_count": 81,
      "outputs": []
    },
    {
      "cell_type": "code",
      "metadata": {
        "id": "G649tjTXLL8F"
      },
      "source": [
        "# create transforms\n",
        "# We will just convert to tensor and normalize since no special transforms are mentioned in the paper\n",
        "transforms_mnist = transforms.Compose([\n",
        "                                       transforms.ToTensor(),\n",
        "                                       transforms.Normalize((0.1307,), (0.3081,))\n",
        "                                       ])\n",
        "\n",
        "mnist_data_train = datasets.MNIST('./data/mnist/', train=True, download=True, transform=transforms_mnist)\n",
        "mnist_data_test = datasets.MNIST('../data/mnist/', train=False, download=True, transform=transforms_mnist)"
      ],
      "execution_count": 82,
      "outputs": []
    },
    {
      "cell_type": "code",
      "metadata": {
        "colab": {
          "base_uri": "https://localhost:8080/"
        },
        "id": "dm9usjn2vFkL",
        "outputId": "5fd6d500-6457-41ca-e7c2-4b05a2f2198e"
      },
      "source": [
        "classes = np.array(list(mnist_data_train.class_to_idx.values()))\n",
        "classes_test = np.array(list(mnist_data_test.class_to_idx.values()))\n",
        "num_classes = len(classes_test)\n",
        "print(\"Classes: {} \\tType: {}\".format(classes, type(classes)))\n",
        "print(\"Classes Test: {} \\tType: {}\".format(classes_test, type(classes)))\n"
      ],
      "execution_count": 83,
      "outputs": [
        {
          "output_type": "stream",
          "text": [
            "Classes: [0 1 2 3 4 5 6 7 8 9] \tType: <class 'numpy.ndarray'>\n",
            "Classes Test: [0 1 2 3 4 5 6 7 8 9] \tType: <class 'numpy.ndarray'>\n"
          ],
          "name": "stdout"
        }
      ]
    },
    {
      "cell_type": "code",
      "metadata": {
        "colab": {
          "base_uri": "https://localhost:8080/"
        },
        "id": "9lvJt3Ofv2SO",
        "outputId": "ebf866c2-9190-4a27-9488-c8083e674d2d"
      },
      "source": [
        "print(\"Image Shape: {}\".format(mnist_data_train.data[0].size()))"
      ],
      "execution_count": 84,
      "outputs": [
        {
          "output_type": "stream",
          "text": [
            "Image Shape: torch.Size([28, 28])\n"
          ],
          "name": "stdout"
        }
      ]
    },
    {
      "cell_type": "markdown",
      "metadata": {
        "id": "jCOONkg-zV7Y"
      },
      "source": [
        "## Visualize Data"
      ]
    },
    {
      "cell_type": "code",
      "metadata": {
        "id": "R9MK03TZw6Qs"
      },
      "source": [
        "def imshow(img):\n",
        "\timg = img/2 + 0.5 #unnormalize the image\n",
        "\tplt.imshow(img, cmap='gray') # convert from tensor to image"
      ],
      "execution_count": 85,
      "outputs": []
    },
    {
      "cell_type": "code",
      "metadata": {
        "id": "gMJ0Kx4Kw-_H"
      },
      "source": [
        "def visualize(dataset):\n",
        "  figure = plt.figure(figsize=(25,4))\n",
        "  for i in range(20):\n",
        "    axis = figure.add_subplot(2, 20/2, i+1, xticks=[], yticks=[])\n",
        "    data = dataset.data[i]\n",
        "    data = data.numpy()\n",
        "\n",
        "    target = dataset.targets[i]\n",
        "    target = target.numpy()\n",
        "    imshow(data)\n",
        "    axis.set_title(target)\n"
      ],
      "execution_count": 86,
      "outputs": []
    },
    {
      "cell_type": "code",
      "metadata": {
        "colab": {
          "base_uri": "https://localhost:8080/",
          "height": 268
        },
        "id": "8bPOwKg10Ro7",
        "outputId": "868cdc72-0718-4f79-dca2-84b3b698312e"
      },
      "source": [
        "visualize(mnist_data_train)"
      ],
      "execution_count": 87,
      "outputs": [
        {
          "output_type": "display_data",
          "data": {
            "image/png": "[encoded data removed]",
            "text/plain": [
              "<Figure size 1800x288 with 20 Axes>"
            ]
          },
          "metadata": {
            "tags": []
          }
        }
      ]
    },
    {
      "cell_type": "code",
      "metadata": {
        "colab": {
          "base_uri": "https://localhost:8080/",
          "height": 268
        },
        "id": "RKoh5Cf70UYu",
        "outputId": "146da608-fcf1-4ee1-d86c-ccf4ad9e51d6"
      },
      "source": [
        "visualize(mnist_data_test)"
      ],
      "execution_count": 88,
      "outputs": [
        {
          "output_type": "display_data",
          "data": {
            "image/png": "[encoded data removed]",
            "text/plain": [
              "<Figure size 1800x288 with 20 Axes>"
            ]
          },
          "metadata": {
            "tags": []
          }
        }
      ]
    },
    {
      "cell_type": "markdown",
      "metadata": {
        "id": "ctjRsETiO1qO"
      },
      "source": [
        "## Partitioning the Data (IID and non-IID)"
      ]
    },
    {
      "cell_type": "code",
      "metadata": {
        "id": "3_v8lyrgO5dD"
      },
      "source": [
        "def iid_partition(dataset, clients):\n",
        "  \"\"\"\n",
        "  I.I.D paritioning of data over clients\n",
        "  Shuffle the data\n",
        "  Split it between clients\n",
        "  \n",
        "  params:\n",
        "    - dataset (torch.utils.Dataset): Dataset containing the MNIST Images\n",
        "    - clients (int): Number of Clients to split the data between\n",
        "\n",
        "  returns:\n",
        "    - Dictionary of image indexes for each client\n",
        "  \"\"\"\n",
        "\n",
        "  num_items_per_client = int(len(dataset)/clients)\n",
        "  client_dict = {}\n",
        "  image_idxs = [i for i in range(len(dataset))]\n",
        "\n",
        "  for i in range(clients):\n",
        "    client_dict[i] = set(np.random.choice(image_idxs, num_items_per_client, replace=False))\n",
        "    image_idxs = list(set(image_idxs) - client_dict[i])\n",
        "\n",
        "  return client_dict"
      ],
      "execution_count": 89,
      "outputs": []
    },
    {
      "cell_type": "code",
      "metadata": {
        "id": "4zMdliGMQoSl"
      },
      "source": [
        "def non_iid_partition(dataset, clients, total_shards, shards_size, num_shards_per_client):\n",
        "  \"\"\"\n",
        "  non I.I.D parititioning of data over clients\n",
        "  Sort the data by the digit label\n",
        "  Divide the data into N shards of size S\n",
        "  Each of the clients will get X shards\n",
        "\n",
        "  params:\n",
        "    - dataset (torch.utils.Dataset): Dataset containing the MNIST Images\n",
        "    - clients (int): Number of Clients to split the data between\n",
        "    - total_shards (int): Number of shards to partition the data in\n",
        "    - shards_size (int): Size of each shard \n",
        "    - num_shards_per_client (int): Number of shards of size shards_size that each client receives\n",
        "\n",
        "  returns:\n",
        "    - Dictionary of image indexes for each client\n",
        "  \"\"\"\n",
        "  \n",
        "  shard_idxs = [i for i in range(total_shards)]\n",
        "  client_dict = {i: np.array([], dtype='int64') for i in range(clients)}\n",
        "  idxs = np.arange(len(dataset))\n",
        "  data_labels = dataset.targets.numpy()\n",
        "\n",
        "  # sort the labels\n",
        "  label_idxs = np.vstack((idxs, data_labels))\n",
        "  label_idxs = label_idxs[:, label_idxs[1,:].argsort()]\n",
        "  idxs = label_idxs[0,:]\n",
        "\n",
        "  # divide the data into total_shards of size shards_size\n",
        "  # assign num_shards_per_client to each client\n",
        "  for i in range(clients):\n",
        "    rand_set = set(np.random.choice(shard_idxs, num_shards_per_client, replace=False))\n",
        "    shard_idxs = list(set(shard_idxs) - rand_set)\n",
        "\n",
        "    for rand in rand_set:\n",
        "      client_dict[i] = np.concatenate((client_dict[i], idxs[rand*shards_size:(rand+1)*shards_size]), axis=0)\n",
        "  \n",
        "  return client_dict\n",
        "\n",
        "\n",
        "\n"
      ],
      "execution_count": 90,
      "outputs": []
    },
    {
      "cell_type": "markdown",
      "metadata": {
        "id": "PTfxv8kFoGAy"
      },
      "source": [
        "## Models"
      ]
    },
    {
      "cell_type": "code",
      "metadata": {
        "id": "CvoDNFKbZST5"
      },
      "source": [
        "class MNIST_2NN(nn.Module):\n",
        "  \"\"\"\n",
        "  A simple multilayer-perceptron with 2-hidden layers with 200 units each\n",
        "  using ReLu activations\n",
        "\n",
        "  Total Expected Params: 199,210\n",
        "  \"\"\"\n",
        "  def __init__(self):\n",
        "    super(MNIST_2NN, self).__init__()\n",
        "\n",
        "    self.fc1 = nn.Linear(28*28, 200)\n",
        "    self.fc2 = nn.Linear(200, 200)\n",
        "    self.fc3 = nn.Linear(200, 10)\n",
        "\n",
        "  def forward(self, x):\n",
        "    x = torch.flatten(x, 1)\n",
        "    x = F.relu(self.fc1(x))\n",
        "    x = F.relu(self.fc2(x))\n",
        "    out = self.fc3(x)\n",
        "\n",
        "    return x"
      ],
      "execution_count": 91,
      "outputs": []
    },
    {
      "cell_type": "code",
      "metadata": {
        "id": "ut1hZ8x3qYPZ"
      },
      "source": [
        "class MNIST_CNN(nn.Module):\n",
        "  \"\"\"\n",
        "  CNN with two 5x5 convolution lauers(the first with 32 channels, second with 64,\n",
        "  each followed with 2x2 max pooling), a fully connected layer with 512 uunits and \n",
        "  ReLu activation, and the final Softmax output layer\n",
        "\n",
        "  Total Expected Params: 1,663,370\n",
        "  \"\"\"\n",
        "  def __init__(self):\n",
        "    super(MNIST_CNN, self).__init__()\n",
        "\n",
        "    self.conv1 = nn.Conv2d(1, 32, kernel_size=5)\n",
        "    self.conv2 = nn.Conv2d(32, 64, kernel_size=5)\n",
        "    \n",
        "    self.pool = nn.MaxPool2d(2,2)\n",
        "    self.dropout = nn.Dropout(p=0.2)\n",
        "\n",
        "    self.fc1 = nn.Linear(1024, 512)\n",
        "    self.out = nn.Linear(512, 10)\n",
        "\n",
        "  def forward(self, x):\n",
        "    x = self.pool(F.relu(self.conv1(x)))\n",
        "    x = self.pool(F.relu(self.conv2(x)))\n",
        "    x = self.dropout(x)\n",
        "    x = torch.flatten(x, 1)\n",
        "    x = F.relu(self.fc1(x))\n",
        "    x = self.out(x)\n",
        "    out = F.log_softmax(x, dim=1)\n",
        "\n",
        "    return out"
      ],
      "execution_count": 92,
      "outputs": []
    },
    {
      "cell_type": "markdown",
      "metadata": {
        "id": "uVv4HA9HuLtr"
      },
      "source": [
        "### Print Model Summaries"
      ]
    },
    {
      "cell_type": "code",
      "metadata": {
        "colab": {
          "base_uri": "https://localhost:8080/"
        },
        "id": "I5oTH710sJEt",
        "outputId": "05680b3d-4ae7-4cdb-ae8b-576d3222bfff"
      },
      "source": [
        "mnist_mlp = MNIST_2NN()\n",
        "mnist_cnn = MNIST_CNN()\n",
        "\n",
        "if torch.cuda.is_available():\n",
        "  mnist_mlp.cuda()\n",
        "  mnist_cnn.cuda()\n",
        "\n",
        "print(\"MNIST MLP SUMMARY\")\n",
        "print(summary(mnist_mlp, (28,28)))\n",
        "\n",
        "print(\"\\nMNIST CNN SUMMARY\")\n",
        "print(summary(mnist_cnn, (1, 28,28)))"
      ],
      "execution_count": 93,
      "outputs": [
        {
          "output_type": "stream",
          "text": [
            "MNIST MLP SUMMARY\n",
            "----------------------------------------------------------------\n",
            "        Layer (type)               Output Shape         Param #\n",
            "================================================================\n",
            "            Linear-1                  [-1, 200]         157,000\n",
            "            Linear-2                  [-1, 200]          40,200\n",
            "            Linear-3                   [-1, 10]           2,010\n",
            "================================================================\n",
            "Total params: 199,210\n",
            "Trainable params: 199,210\n",
            "Non-trainable params: 0\n",
            "----------------------------------------------------------------\n",
            "Input size (MB): 0.00\n",
            "Forward/backward pass size (MB): 0.00\n",
            "Params size (MB): 0.76\n",
            "Estimated Total Size (MB): 0.77\n",
            "----------------------------------------------------------------\n",
            "None\n",
            "\n",
            "MNIST CNN SUMMARY\n",
            "----------------------------------------------------------------\n",
            "        Layer (type)               Output Shape         Param #\n",
            "================================================================\n",
            "            Conv2d-1           [-1, 32, 24, 24]             832\n",
            "         MaxPool2d-2           [-1, 32, 12, 12]               0\n",
            "            Conv2d-3             [-1, 64, 8, 8]          51,264\n",
            "         MaxPool2d-4             [-1, 64, 4, 4]               0\n",
            "           Dropout-5             [-1, 64, 4, 4]               0\n",
            "            Linear-6                  [-1, 512]         524,800\n",
            "            Linear-7                   [-1, 10]           5,130\n",
            "================================================================\n",
            "Total params: 582,026\n",
            "Trainable params: 582,026\n",
            "Non-trainable params: 0\n",
            "----------------------------------------------------------------\n",
            "Input size (MB): 0.00\n",
            "Forward/backward pass size (MB): 0.23\n",
            "Params size (MB): 2.22\n",
            "Estimated Total Size (MB): 2.45\n",
            "----------------------------------------------------------------\n",
            "None\n"
          ],
          "name": "stdout"
        }
      ]
    },
    {
      "cell_type": "markdown",
      "metadata": {
        "id": "JYXicM_FjSv6"
      },
      "source": [
        "## FedProx"
      ]
    },
    {
      "cell_type": "markdown",
      "metadata": {
        "id": "cjGMTWxAOsf1"
      },
      "source": [
        "### Systems Heterogeneity Simulations\n",
        "\n",
        "Generate epochs for selected clients based on percentage of devices that corresponds to heterogeneity. \n",
        "\n",
        "Assign x number of epochs (chosen unifirmly at random between [1, E]) to 0%, 50% or 90% of the selected devices, respectively. Settings where 0% devices perform fewer than E epochs of work correspond to the environments without system heterogeneity, while 90% of the devices sending their partial solutions corresponds to highly heterogenous system."
      ]
    },
    {
      "cell_type": "code",
      "metadata": {
        "id": "i-WTHuT3OpFD"
      },
      "source": [
        "def GenerateLocalEpochs(percentage, size, max_epochs):\n",
        "  ''' Method generates list of epochs for selected clients\n",
        "  to replicate system heteroggeneity\n",
        "\n",
        "  Params:\n",
        "    percentage: percentage of clients to have fewer than E epochs\n",
        "    size:       total size of the list\n",
        "    max_epochs: maximum value for local epochs\n",
        "  \n",
        "  Returns:\n",
        "    List of size epochs for each Client Update\n",
        "\n",
        "  '''\n",
        "\n",
        "  # if percentage is 0 then each client runs for E epochs\n",
        "  if percentage == 0:\n",
        "      return np.array([max_epochs]*size)\n",
        "  else:\n",
        "    # get the number of clients to have fewer than E epochs\n",
        "    heterogenous_size = int((percentage/100) * size)\n",
        "\n",
        "    # generate random uniform epochs of heterogenous size between 1 and E\n",
        "    epoch_list = np.random.randint(1, max_epochs, heterogenous_size)\n",
        "\n",
        "    # the rest of the clients will have E epochs\n",
        "    remaining_size = size - heterogenous_size\n",
        "    rem_list = [max_epochs]*remaining_size\n",
        "\n",
        "    epoch_list = np.append(epoch_list, rem_list, axis=0)\n",
        "    \n",
        "    # shuffle the list and return\n",
        "    np.random.shuffle(epoch_list)\n",
        "\n",
        "    return epoch_list"
      ],
      "execution_count": 94,
      "outputs": []
    },
    {
      "cell_type": "markdown",
      "metadata": {
        "id": "gf_8XEXa-gZ7"
      },
      "source": [
        "## Federated Averaging"
      ]
    },
    {
      "cell_type": "markdown",
      "metadata": {
        "id": "L-aNdQsQ-Kvp"
      },
      "source": [
        "### Local Training (Client Update)\n",
        "\n",
        "Local training for the model on client side"
      ]
    },
    {
      "cell_type": "code",
      "metadata": {
        "id": "oX6OsQyO-Gz7"
      },
      "source": [
        "class CustomDataset(Dataset):\n",
        "  def __init__(self, dataset, idxs):\n",
        "      self.dataset = dataset\n",
        "      self.idxs = list(idxs)\n",
        "\n",
        "  def __len__(self):\n",
        "      return len(self.idxs)\n",
        "\n",
        "  def __getitem__(self, item):\n",
        "      image, label = self.dataset[self.idxs[item]]\n",
        "      return image, label\n",
        "\n",
        "\n",
        "class ClientUpdate(object):\n",
        "  def __init__(self, dataset, batchSize, learning_rate, epochs, idxs, mu, algorithm):\n",
        "    self.train_loader = DataLoader(CustomDataset(dataset, idxs), batch_size=batchSize, shuffle=True)\n",
        "    self.algorithm = algorithm\n",
        "    self.learning_rate = learning_rate\n",
        "    self.epochs = epochs\n",
        "\n",
        "  def train(self, model):\n",
        "    criterion = nn.CrossEntropyLoss()\n",
        "    proximal_criterion = nn.MSELoss(reduction='mean')\n",
        "    optimizer = torch.optim.SGD(model.parameters(), lr=self.learning_rate, momentum=0.5)\n",
        "\n",
        "    # use the weights of global model for proximal term calculation\n",
        "    global_model = copy.deepcopy(model)\n",
        "\n",
        "    # calculate local training time\n",
        "    start_time = time.time()\n",
        "\n",
        "\n",
        "    e_loss = []\n",
        "    for epoch in range(1, self.epochs+1):\n",
        "\n",
        "      train_loss = 0.0\n",
        "\n",
        "      model.train()\n",
        "      for data, labels in self.train_loader:\n",
        "\n",
        "        if torch.cuda.is_available():\n",
        "          data, labels = data.cuda(), labels.cuda()\n",
        "\n",
        "        # clear the gradients\n",
        "        optimizer.zero_grad()\n",
        "        # make a forward pass\n",
        "        output = model(data)\n",
        "\n",
        "        # calculate the loss + the proximal term\n",
        "        _, pred = torch.max(output, 1)\n",
        "\n",
        "        if self.algorithm == 'fedprox':\n",
        "          proximal_term = 0.0\n",
        "\n",
        "          # iterate through the current and global model parameters\n",
        "          for w, w_t in zip(model.parameters(), global_model.parameters()) :\n",
        "            # update the proximal term \n",
        "            #proximal_term += torch.sum(torch.abs((w-w_t)**2))\n",
        "            proximal_term += (w-w_t).norm(2)\n",
        "\n",
        "          loss = criterion(output, labels) + (mu/2)*proximal_term\n",
        "        else:\n",
        "          loss = criterion(output, labels)\n",
        "    \n",
        "        # do a backwards pass\n",
        "        loss.backward()\n",
        "        # perform a single optimization step\n",
        "        optimizer.step()\n",
        "        # update training loss\n",
        "        train_loss += loss.item()*data.size(0)\n",
        "\n",
        "      # average losses\n",
        "      train_loss = train_loss/len(self.train_loader.dataset)\n",
        "      e_loss.append(train_loss)\n",
        "\n",
        "    total_loss = sum(e_loss)/len(e_loss)\n",
        "\n",
        "    return model.state_dict(), total_loss, (time.time() - start_time)"
      ],
      "execution_count": 95,
      "outputs": []
    },
    {
      "cell_type": "markdown",
      "metadata": {
        "id": "Ukgh1DVHE2Ds"
      },
      "source": [
        "### Server Side Training\n",
        "\n",
        "Following Algorithm 1 from the paper"
      ]
    },
    {
      "cell_type": "code",
      "metadata": {
        "id": "1NF1e33BgpeL"
      },
      "source": [
        "def training(model, rounds, batch_size, lr, ds, ds_test, data_dict, C, K, E, mu, percentage, plt_title, plt_color, target_test_accuracy, algorithm=\"fedprox\"):\n",
        "  \"\"\"\n",
        "  Function implements the Federated Averaging Algorithm from the FedAvg paper.\n",
        "  Specifically, this function is used for the server side training and weight update\n",
        "\n",
        "  Params:\n",
        "    - model:           PyTorch model to train\n",
        "    - rounds:          Number of communication rounds for the client update\n",
        "    - batch_size:      Batch size for client update training\n",
        "    - lr:              Learning rate used for client update training\n",
        "    - ds:              Dataset used for training\n",
        "    - ds_test:         Dataset used for testing\n",
        "    - data_dict:       Type of data partition used for training (IID or non-IID)\n",
        "    - C:               Fraction of clients randomly chosen to perform computation on each round\n",
        "    - K:               Total number of clients\n",
        "    - E:               Number of training passes each client makes over its local dataset per round\n",
        "    - tb_writer_name:  Directory name to save the tensorboard logs\n",
        "  Returns:\n",
        "    - model:           Trained model on the server\n",
        "  \"\"\"\n",
        "\n",
        "  # global model weights\n",
        "  global_weights = model.state_dict()\n",
        "\n",
        "  # training loss\n",
        "  # train_accuracy = []\n",
        "  train_loss = []\n",
        "  test_accuracy = []\n",
        "  test_loss = []\n",
        "\n",
        "  # store last loss for convergence\n",
        "  last_loss = 0.0\n",
        "\n",
        "  # total time taken \n",
        "  total_time = 0\n",
        "  start = time.time()\n",
        "    \n",
        "  print(f\"System heterogeneity set to {percentage}% stragglers.\\n\")\n",
        "  print(f\"Picking {max(int(C*K),1 )} random clients per round.\\n\")\n",
        "\n",
        "  for curr_round in range(1, rounds+1):\n",
        "    w, local_loss, lst_local_train_time = [], [], []\n",
        "\n",
        "    m = max(int(C*K), 1)\n",
        "\n",
        "    heterogenous_epoch_list = GenerateLocalEpochs(percentage, size=m, max_epochs=E)\n",
        "    heterogenous_epoch_list = np.array(heterogenous_epoch_list)\n",
        "\n",
        "    S_t = np.random.choice(range(K), m, replace=False)\n",
        "    S_t = np.array(S_t)\n",
        "    \n",
        "    # For Federated Averaging, drop all the clients that are stragglers\n",
        "    if algorithm == 'fedavg':\n",
        "      stragglers_indices = np.argwhere(heterogenous_epoch_list < E)\n",
        "      heterogenous_epoch_list = np.delete(heterogenous_epoch_list, stragglers_indices)\n",
        "      S_t = np.delete(S_t, stragglers_indices)\n",
        "\n",
        "    for k, epoch in zip(S_t, heterogenous_epoch_list):\n",
        "      local_update = ClientUpdate(dataset=ds, batchSize=batch_size, learning_rate=lr, epochs=epoch, idxs=data_dict[k], mu=mu, algorithm=algorithm)\n",
        "      weights, loss, local_train_time = local_update.train(model=copy.deepcopy(model))\n",
        "\n",
        "      w.append(copy.deepcopy(weights))\n",
        "      local_loss.append(copy.deepcopy(loss))\n",
        "      lst_local_train_time.append(local_train_time)\n",
        "\n",
        "    # calculate time to update the global weights\n",
        "    global_start_time = time.time()\n",
        "\n",
        "    # updating the global weights\n",
        "    weights_avg = copy.deepcopy(w[0])\n",
        "    for k in weights_avg.keys():\n",
        "      for i in range(1, len(w)):\n",
        "        weights_avg[k] += w[i][k]\n",
        "\n",
        "      weights_avg[k] = torch.div(weights_avg[k], len(w))\n",
        "\n",
        "    global_weights = weights_avg\n",
        "    global_end_time = time.time()\n",
        "\n",
        "    # calculate total time \n",
        "    total_time += (global_end_time - global_start_time) + sum(lst_local_train_time)/len(lst_local_train_time)\n",
        "\n",
        "    # move the updated weights to our model state dict\n",
        "    model.load_state_dict(global_weights)\n",
        "\n",
        "    # loss\n",
        "    loss_avg = sum(local_loss) / len(local_loss)\n",
        "\n",
        "    # test accuracy\n",
        "    criterion = nn.CrossEntropyLoss()\n",
        "    test_accuracy_current, test_loss_current = testing(copy.deepcopy(model), ds_test, 128, criterion, num_classes, classes_test)\n",
        "    test_accuracy.append(test_accuracy_current)\n",
        "    test_loss.append(test_loss_current)\n",
        "\n",
        "    print(f\"Round: {curr_round}... \\tAverage Train Loss: {round(loss_avg, 3)}... \\tTest Loss: {test_loss_current}... \\tTest Accuracy: {test_accuracy_current}\")\n",
        "    train_loss.append(loss_avg)\n",
        "\n",
        "    # # break if we achieve the target test accuracy\n",
        "    # if test_accuracy_current >= target_test_accuracy:\n",
        "    #   rounds = curr_round\n",
        "    #   break\n",
        "\n",
        "    # # break if we achieve convergence, i.e., loss between two consecutive rounds is <0.0001\n",
        "    # if algorithm == 'fedprox' and abs(loss_avg - last_loss) < 0.0001:\n",
        "    #   rounds = curr_round\n",
        "    #   break\n",
        "    \n",
        "    # update the last loss\n",
        "    last_loss = loss_avg\n",
        "\n",
        "  end = time.time()\n",
        "\n",
        "  # plot train loss\n",
        "  fig, ax = plt.subplots()\n",
        "  x_axis = np.arange(1, rounds+1)\n",
        "  y_axis = np.array(train_loss)\n",
        "  ax.plot(x_axis, y_axis)\n",
        "\n",
        "  ax.set(xlabel='Number of Rounds', ylabel='Train Loss', title=plt_title)\n",
        "  ax.grid()\n",
        "  fig.savefig(plt_title+'_Train_loss.jpg', format='jpg')\n",
        "  plt.show()\n",
        "\n",
        "  fig, ax = plt.subplots()\n",
        "  x_axis = np.arange(1, rounds+1)\n",
        "  y_axis = np.array(test_loss)\n",
        "  ax.plot(x_axis, y_axis, 'tab:'+plt_color)\n",
        "\n",
        "  ax.set(xlabel='Number of Rounds', ylabel='Test Loss', title=plt_title)\n",
        "  ax.grid()\n",
        "  fig.savefig(plt_title+'_Test_loss.jpg', format='jpg')\n",
        "  plt.show()\n",
        "\n",
        "\n",
        "  fig, ax = plt.subplots()\n",
        "  x_axis = np.arange(1, rounds+1)\n",
        "  y_axis = np.array(test_accuracy)\n",
        "  ax.plot(x_axis, y_axis, 'tab:'+plt_color)\n",
        "\n",
        "  ax.set(xlabel='Number of Rounds', ylabel='Test Accuracy', title=plt_title)\n",
        "  ax.grid()\n",
        "  fig.savefig(plt_title+'_Test_Accuracy.jpg', format='jpg')\n",
        "  plt.show()\n",
        "  \n",
        "  print(\"Training Done!\")\n",
        "  print(\"Total time taken to Train: {}\\n\\n\".format(end-start))\n",
        "  \n",
        "  return model, train_loss, test_accuracy, test_loss"
      ],
      "execution_count": 96,
      "outputs": []
    },
    {
      "cell_type": "markdown",
      "metadata": {
        "id": "tUYyb4T-uXmF"
      },
      "source": [
        "## Testing Loop"
      ]
    },
    {
      "cell_type": "code",
      "metadata": {
        "id": "uCcIZmO5uan9"
      },
      "source": [
        "def testing(model, dataset, bs, criterion, num_classes, classes, print_info=False):\n",
        "  #test loss \n",
        "  test_loss = 0.0\n",
        "  correct_class = list(0. for i in range(num_classes))\n",
        "  total_class = list(0. for i in range(num_classes))\n",
        "\n",
        "  test_loader = DataLoader(dataset, batch_size=bs)\n",
        "  l = len(test_loader)\n",
        "  model.eval()\n",
        "  for data, labels in test_loader:\n",
        "\n",
        "    if torch.cuda.is_available():\n",
        "      data, labels = data.cuda(), labels.cuda()\n",
        "\n",
        "    output = model(data)\n",
        "    loss = criterion(output, labels)\n",
        "    test_loss += loss.item()*data.size(0)\n",
        "\n",
        "    _, pred = torch.max(output, 1)\n",
        "\n",
        "    correct_tensor = pred.eq(labels.data.view_as(pred))\n",
        "    correct = np.squeeze(correct_tensor.numpy()) if not torch.cuda.is_available() else np.squeeze(correct_tensor.cpu().numpy())\n",
        "\n",
        "    #test accuracy for each object class\n",
        "    for i in range(num_classes):\n",
        "      label = labels.data[i]\n",
        "      correct_class[label] += correct[i].item()\n",
        "      total_class[label] += 1\n",
        "    \n",
        "  # avg test loss\n",
        "  test_loss = test_loss/len(test_loader.dataset)\n",
        "  test_accuracy = 100. * np.sum(correct_class) / np.sum(total_class)\n",
        "\n",
        "  if print_info:\n",
        "    print(\"Test Loss: {:.6f}\\n\".format(test_loss))\n",
        "\n",
        "    for i in range(10):\n",
        "      if total_class[i]>0:\n",
        "        print('Test Accuracy of %5s: %2d%% (%2d/%2d)' % \n",
        "              (classes[i], 100 * correct_class[i] / total_class[i],\n",
        "              np.sum(correct_class[i]), np.sum(total_class[i])))\n",
        "      else:\n",
        "        print('Test Accuracy of %5s: N/A (no training examples)' % (classes[i]))\n",
        "\n",
        "    print('\\nFinal Test  Accuracy: {:.3f} ({}/{})'.format(\n",
        "          100. * np.sum(correct_class) / np.sum(total_class),\n",
        "          np.sum(correct_class), np.sum(total_class)))\n",
        "  \n",
        "  return test_accuracy, test_loss"
      ],
      "execution_count": 97,
      "outputs": []
    },
    {
      "cell_type": "markdown",
      "metadata": {
        "id": "Ri0FqXFeHW-V"
      },
      "source": [
        "## Logger"
      ]
    },
    {
      "cell_type": "code",
      "metadata": {
        "id": "thZm2kSiHT4v"
      },
      "source": [
        "log_dict = {}\n",
        "NUM_REPEAT = 1"
      ],
      "execution_count": 98,
      "outputs": []
    },
    {
      "cell_type": "markdown",
      "metadata": {
        "id": "4hO5oV6aXqeh"
      },
      "source": [
        "## MNIST CNN on IID"
      ]
    },
    {
      "cell_type": "markdown",
      "metadata": {
        "id": "flSQv_P4zCfx"
      },
      "source": [
        "### Train\n"
      ]
    },
    {
      "cell_type": "code",
      "metadata": {
        "id": "0ZalcKZtEseA"
      },
      "source": [
        "# train_loss_multiple_runs = [None] * NUM_REPEAT\n",
        "# test_accuracy_multiple_runs = [None] * NUM_REPEAT\n",
        "# test_loss_multiple_runs = [None] * NUM_REPEAT\n",
        "\n",
        "# for exp_num in range(NUM_REPEAT):\n",
        "#   print(\"Experiment Run Number: \", exp_num)\n",
        "\n",
        "#   # number of training rounds\n",
        "#   rounds = 50\n",
        "#   # client fraction\n",
        "#   C = 0.1\n",
        "#   # number of clients\n",
        "#   K = 100\n",
        "#   # number of training passes on local dataset for each roung\n",
        "#   E = 5\n",
        "#   # batch size\n",
        "#   batch_size = 10\n",
        "#   # learning Rate\n",
        "#   lr = 0.05\n",
        "#   # proximal term constant\n",
        "#   mu = 0.01\n",
        "#   # percentage of clients to have fewer than E epochs\n",
        "#   percentage = 50\n",
        "\n",
        "#   # target_test_accuracy\n",
        "#   target_test_accuracy=99.0\n",
        "#   # data partition dictionary\n",
        "#   iid_dict = iid_partition(mnist_data_train, 100)\n",
        "#   # load model\n",
        "#   mnist_cnn = MNIST_CNN()\n",
        "\n",
        "#   if torch.cuda.is_available():\n",
        "#     mnist_cnn.cuda()\n",
        "\n",
        "#   mnist_cnn_iid_trained, train_loss, test_accuracy, test_loss = training(mnist_cnn, rounds, batch_size, lr, mnist_data_train, mnist_data_test, iid_dict, C, K, E, mu, percentage, \"MNIST CNN on IID Dataset\", \"orange\", target_test_accuracy)\n",
        "\n",
        "#   train_loss_multiple_runs[exp_num] = train_loss\n",
        "#   test_accuracy_multiple_runs[exp_num] = test_accuracy\n",
        "#   test_loss_multiple_runs[exp_num] = test_loss"
      ],
      "execution_count": 99,
      "outputs": []
    },
    {
      "cell_type": "markdown",
      "metadata": {
        "id": "wNwC82przF6G"
      },
      "source": [
        "### Test"
      ]
    },
    {
      "cell_type": "code",
      "metadata": {
        "id": "qB97BFs9we9w",
        "colab": {
          "base_uri": "https://localhost:8080/"
        },
        "outputId": "737ea74d-efc4-4d50-b1fb-eaaa58eca88f"
      },
      "source": [
        "criterion = nn.CrossEntropyLoss()\n",
        "acc, loss = testing(mnist_cnn_iid_trained, mnist_data_test, 128, criterion, num_classes, classes_test, True)"
      ],
      "execution_count": 100,
      "outputs": [
        {
          "output_type": "stream",
          "text": [
            "Test Loss: 0.024921\n",
            "\n",
            "Test Accuracy of     0: 100% (76/76)\n",
            "Test Accuracy of     1: 100% (90/90)\n",
            "Test Accuracy of     2: 100% (91/91)\n",
            "Test Accuracy of     3: 97% (71/73)\n",
            "Test Accuracy of     4: 100% (89/89)\n",
            "Test Accuracy of     5: 98% (67/68)\n",
            "Test Accuracy of     6: 100% (62/62)\n",
            "Test Accuracy of     7: 100% (81/81)\n",
            "Test Accuracy of     8: 100% (77/77)\n",
            "Test Accuracy of     9: 100% (83/83)\n",
            "\n",
            "Final Test  Accuracy: 99.620 (787.0/790.0)\n"
          ],
          "name": "stdout"
        }
      ]
    },
    {
      "cell_type": "code",
      "metadata": {
        "id": "gdQZEZmHHeqt"
      },
      "source": [
        "hyperparams = {'rounds': rounds,\n",
        "               'C': C,\n",
        "               'K': K,\n",
        "               'E': E,\n",
        "               'batch_size': batch_size,\n",
        "               'lr': lr,\n",
        "               'mu': mu,\n",
        "               'percentage': percentage,\n",
        "               'target_test_accuracy': target_test_accuracy,\n",
        "               }\n",
        "\n",
        "log_dict['MNIST CNN on IID'] = {'train_loss': train_loss_multiple_runs, \n",
        "                                'test_loss': test_loss_multiple_runs, \n",
        "                                'test_accuracy': test_accuracy_multiple_runs,\n",
        "                                'hyperparams': hyperparams,\n",
        "                                }"
      ],
      "execution_count": 101,
      "outputs": []
    },
    {
      "cell_type": "markdown",
      "metadata": {
        "id": "uF8MdSIUYcnl"
      },
      "source": [
        "## MNIST CNN on Non IID"
      ]
    },
    {
      "cell_type": "markdown",
      "metadata": {
        "id": "a6wXX7JW11bx"
      },
      "source": [
        "### Train\n"
      ]
    },
    {
      "cell_type": "code",
      "metadata": {
        "id": "fCD3kBCKYfBK",
        "colab": {
          "base_uri": "https://localhost:8080/",
          "height": 1000
        },
        "outputId": "05576450-15e8-4321-b4ba-ad9cdb0222ff"
      },
      "source": [
        "train_loss_multiple_runs = [None] * NUM_REPEAT\n",
        "test_accuracy_multiple_runs = [None] * NUM_REPEAT\n",
        "test_loss_multiple_runs = [None] * NUM_REPEAT\n",
        "\n",
        "for exp_num in range(NUM_REPEAT):\n",
        "  print(\"Experiment Run Number: \", exp_num)\n",
        "\n",
        "  # number of training rounds\n",
        "  rounds = 50\n",
        "  # client fraction\n",
        "  C = 0.1\n",
        "  # number of clients\n",
        "  K = 100\n",
        "  # number of training passes on local dataset for each roung\n",
        "  E = 5\n",
        "  # batch size\n",
        "  batch_size = 10\n",
        "  # learning Rate\n",
        "  lr=0.05\n",
        "  # proximal term constant\n",
        "  mu = 0.01\n",
        "  # percentage of clients to have fewer than E epochs\n",
        "  percentage = 50\n",
        "  # target_test_accuracy\n",
        "  target_test_accuracy=99.0\n",
        "\n",
        "  # dict containing different type of data partition\n",
        "  data_dict = non_iid_partition(mnist_data_train, 100, 1000, 60, 10)\n",
        "  # load model\n",
        "  mnist_cnn = MNIST_CNN()\n",
        "\n",
        "  if torch.cuda.is_available():\n",
        "    mnist_cnn.cuda()\n",
        "\n",
        "  mnist_cnn_non_iid_trained, train_loss, test_accuracy, test_loss = training(mnist_cnn, rounds, batch_size, lr, mnist_data_train, mnist_data_test, data_dict, C, K, E,mu, percentage, \"MNIST CNN on Non-IID Dataset\", \"green\", target_test_accuracy)\n",
        "\n",
        "  train_loss_multiple_runs[exp_num] = train_loss\n",
        "  test_accuracy_multiple_runs[exp_num] = test_accuracy\n",
        "  test_loss_multiple_runs[exp_num] = test_loss"
      ],
      "execution_count": 102,
      "outputs": [
        {
          "output_type": "stream",
          "text": [
            "Experiment Run Number:  0\n",
            "System heterogeneity set to 50% stragglers.\n",
            "\n",
            "Picking 10 random clients per round.\n",
            "\n",
            "Round: 1... \tAverage Train Loss: 0.484... \tTest Loss: 1.1446950199127197... \tTest Accuracy: 77.84810126582279\n",
            "Round: 2... \tAverage Train Loss: 0.193... \tTest Loss: 0.21377243344783783... \tTest Accuracy: 94.17721518987342\n",
            "Round: 3... \tAverage Train Loss: 0.142... \tTest Loss: 0.14224467458724976... \tTest Accuracy: 95.56962025316456\n",
            "Round: 4... \tAverage Train Loss: 0.113... \tTest Loss: 0.10023579971045256... \tTest Accuracy: 96.45569620253164\n",
            "Round: 5... \tAverage Train Loss: 0.086... \tTest Loss: 0.08368416042476892... \tTest Accuracy: 97.34177215189874\n",
            "Round: 6... \tAverage Train Loss: 0.089... \tTest Loss: 0.07072313340492546... \tTest Accuracy: 97.46835443037975\n",
            "Round: 7... \tAverage Train Loss: 0.083... \tTest Loss: 0.06844302321653813... \tTest Accuracy: 97.46835443037975\n",
            "Round: 8... \tAverage Train Loss: 0.068... \tTest Loss: 0.05995944411102682... \tTest Accuracy: 98.10126582278481\n",
            "Round: 9... \tAverage Train Loss: 0.059... \tTest Loss: 0.06056314252526499... \tTest Accuracy: 97.9746835443038\n",
            "Round: 10... \tAverage Train Loss: 0.068... \tTest Loss: 0.05227325041324366... \tTest Accuracy: 98.10126582278481\n",
            "Round: 11... \tAverage Train Loss: 0.057... \tTest Loss: 0.05780532550448552... \tTest Accuracy: 98.35443037974683\n",
            "Round: 12... \tAverage Train Loss: 0.044... \tTest Loss: 0.0499960389373824... \tTest Accuracy: 98.22784810126582\n",
            "Round: 13... \tAverage Train Loss: 0.049... \tTest Loss: 0.04794678964209743... \tTest Accuracy: 98.48101265822785\n",
            "Round: 14... \tAverage Train Loss: 0.056... \tTest Loss: 0.04386430963966995... \tTest Accuracy: 98.48101265822785\n",
            "Round: 15... \tAverage Train Loss: 0.051... \tTest Loss: 0.04619947169017978... \tTest Accuracy: 98.60759493670886\n",
            "Round: 16... \tAverage Train Loss: 0.031... \tTest Loss: 0.047134244907950054... \tTest Accuracy: 98.9873417721519\n",
            "Round: 17... \tAverage Train Loss: 0.054... \tTest Loss: 0.03890707617502194... \tTest Accuracy: 98.73417721518987\n",
            "Round: 18... \tAverage Train Loss: 0.052... \tTest Loss: 0.041449567672493866... \tTest Accuracy: 99.11392405063292\n",
            "Round: 19... \tAverage Train Loss: 0.044... \tTest Loss: 0.0426487157530617... \tTest Accuracy: 99.11392405063292\n",
            "Round: 20... \tAverage Train Loss: 0.041... \tTest Loss: 0.036312717689562124... \tTest Accuracy: 98.86075949367088\n",
            "Round: 21... \tAverage Train Loss: 0.04... \tTest Loss: 0.03384046468357556... \tTest Accuracy: 99.36708860759494\n",
            "Round: 22... \tAverage Train Loss: 0.036... \tTest Loss: 0.035133455034554936... \tTest Accuracy: 99.11392405063292\n",
            "Round: 23... \tAverage Train Loss: 0.059... \tTest Loss: 0.03260696772837546... \tTest Accuracy: 98.86075949367088\n",
            "Round: 24... \tAverage Train Loss: 0.034... \tTest Loss: 0.03207694647377357... \tTest Accuracy: 99.11392405063292\n",
            "Round: 25... \tAverage Train Loss: 0.036... \tTest Loss: 0.03272642917881021... \tTest Accuracy: 99.24050632911393\n",
            "Round: 26... \tAverage Train Loss: 0.036... \tTest Loss: 0.035706818309478694... \tTest Accuracy: 99.11392405063292\n",
            "Round: 27... \tAverage Train Loss: 0.043... \tTest Loss: 0.03389465424718801... \tTest Accuracy: 99.36708860759494\n",
            "Round: 28... \tAverage Train Loss: 0.024... \tTest Loss: 0.03259774854432908... \tTest Accuracy: 98.9873417721519\n",
            "Round: 29... \tAverage Train Loss: 0.023... \tTest Loss: 0.030810909448110033... \tTest Accuracy: 98.9873417721519\n",
            "Round: 30... \tAverage Train Loss: 0.03... \tTest Loss: 0.03343761998067494... \tTest Accuracy: 98.9873417721519\n",
            "Round: 31... \tAverage Train Loss: 0.037... \tTest Loss: 0.02991271751234308... \tTest Accuracy: 99.24050632911393\n",
            "Round: 32... \tAverage Train Loss: 0.027... \tTest Loss: 0.03006649160689558... \tTest Accuracy: 99.49367088607595\n",
            "Round: 33... \tAverage Train Loss: 0.029... \tTest Loss: 0.029806907954090276... \tTest Accuracy: 99.36708860759494\n",
            "Round: 34... \tAverage Train Loss: 0.03... \tTest Loss: 0.029479742782656103... \tTest Accuracy: 99.49367088607595\n",
            "Round: 35... \tAverage Train Loss: 0.03... \tTest Loss: 0.028750471768015994... \tTest Accuracy: 99.36708860759494\n",
            "Round: 36... \tAverage Train Loss: 0.031... \tTest Loss: 0.028641646323137683... \tTest Accuracy: 99.24050632911393\n",
            "Round: 37... \tAverage Train Loss: 0.038... \tTest Loss: 0.028700414346856995... \tTest Accuracy: 99.36708860759494\n",
            "Round: 38... \tAverage Train Loss: 0.022... \tTest Loss: 0.028929696865897858... \tTest Accuracy: 99.24050632911393\n",
            "Round: 39... \tAverage Train Loss: 0.029... \tTest Loss: 0.028626685631682632... \tTest Accuracy: 99.49367088607595\n",
            "Round: 40... \tAverage Train Loss: 0.021... \tTest Loss: 0.028134389392915182... \tTest Accuracy: 99.74683544303798\n",
            "Round: 41... \tAverage Train Loss: 0.027... \tTest Loss: 0.026997593218903056... \tTest Accuracy: 99.62025316455696\n",
            "Round: 42... \tAverage Train Loss: 0.029... \tTest Loss: 0.02803992915095878... \tTest Accuracy: 99.49367088607595\n",
            "Round: 43... \tAverage Train Loss: 0.021... \tTest Loss: 0.027147270208527335... \tTest Accuracy: 99.49367088607595\n",
            "Round: 44... \tAverage Train Loss: 0.036... \tTest Loss: 0.025944663898344152... \tTest Accuracy: 99.49367088607595\n",
            "Round: 45... \tAverage Train Loss: 0.028... \tTest Loss: 0.026155817581474547... \tTest Accuracy: 99.49367088607595\n",
            "Round: 46... \tAverage Train Loss: 0.027... \tTest Loss: 0.025149929294525645... \tTest Accuracy: 99.62025316455696\n",
            "Round: 47... \tAverage Train Loss: 0.023... \tTest Loss: 0.025916427272441797... \tTest Accuracy: 99.74683544303798\n",
            "Round: 48... \tAverage Train Loss: 0.022... \tTest Loss: 0.026551956411267747... \tTest Accuracy: 99.49367088607595\n",
            "Round: 49... \tAverage Train Loss: 0.021... \tTest Loss: 0.0286710453782478... \tTest Accuracy: 99.36708860759494\n",
            "Round: 50... \tAverage Train Loss: 0.026... \tTest Loss: 0.02633399308421067... \tTest Accuracy: 99.36708860759494\n"
          ],
          "name": "stdout"
        },
        {
          "output_type": "display_data",
          "data": {
            "image/png": "[encoded data removed]",
            "text/plain": [
              "<Figure size 432x288 with 1 Axes>"
            ]
          },
          "metadata": {
            "tags": [],
            "needs_background": "light"
          }
        },
        {
          "output_type": "display_data",
          "data": {
            "image/png": "[encoded data removed]",
            "text/plain": [
              "<Figure size 432x288 with 1 Axes>"
            ]
          },
          "metadata": {
            "tags": [],
            "needs_background": "light"
          }
        },
        {
          "output_type": "display_data",
          "data": {
            "image/png": "[encoded data removed]",
            "text/plain": [
              "<Figure size 432x288 with 1 Axes>"
            ]
          },
          "metadata": {
            "tags": [],
            "needs_background": "light"
          }
        },
        {
          "output_type": "stream",
          "text": [
            "Training Done!\n",
            "Total time taken to Train: 1168.4321780204773\n",
            "\n",
            "\n"
          ],
          "name": "stdout"
        }
      ]
    },
    {
      "cell_type": "markdown",
      "metadata": {
        "id": "4C68J-Kk14dB"
      },
      "source": [
        "### Test"
      ]
    },
    {
      "cell_type": "code",
      "metadata": {
        "id": "_yQ9GiAZ15jE",
        "colab": {
          "base_uri": "https://localhost:8080/"
        },
        "outputId": "97909393-a173-4109-ff25-18c1efab6462"
      },
      "source": [
        "criterion = nn.CrossEntropyLoss()\n",
        "acc, loss = testing(mnist_cnn_non_iid_trained, mnist_data_test, 128, criterion, num_classes, classes_test, True)"
      ],
      "execution_count": 103,
      "outputs": [
        {
          "output_type": "stream",
          "text": [
            "Test Loss: 0.026334\n",
            "\n",
            "Test Accuracy of     0: 100% (76/76)\n",
            "Test Accuracy of     1: 100% (90/90)\n",
            "Test Accuracy of     2: 100% (91/91)\n",
            "Test Accuracy of     3: 97% (71/73)\n",
            "Test Accuracy of     4: 100% (89/89)\n",
            "Test Accuracy of     5: 98% (67/68)\n",
            "Test Accuracy of     6: 98% (61/62)\n",
            "Test Accuracy of     7: 100% (81/81)\n",
            "Test Accuracy of     8: 100% (77/77)\n",
            "Test Accuracy of     9: 98% (82/83)\n",
            "\n",
            "Final Test  Accuracy: 99.367 (785.0/790.0)\n"
          ],
          "name": "stdout"
        }
      ]
    },
    {
      "cell_type": "code",
      "metadata": {
        "id": "dxMcxgLhLvX-"
      },
      "source": [
        "hyperparams = {'rounds': rounds,\n",
        "               'C': C,\n",
        "               'K': K,\n",
        "               'E': E,\n",
        "               'batch_size': batch_size,\n",
        "               'lr': lr,\n",
        "               'mu': mu,\n",
        "               'percentage': percentage,\n",
        "               'target_test_accuracy': target_test_accuracy,\n",
        "               }\n",
        "\n",
        "log_dict['MNIST CNN on Non IID'] = {'train_loss': train_loss_multiple_runs, \n",
        "                                'test_loss': test_loss_multiple_runs, \n",
        "                                'test_accuracy': test_accuracy_multiple_runs,\n",
        "                                'hyperparams': hyperparams,\n",
        "                                }"
      ],
      "execution_count": 104,
      "outputs": []
    },
    {
      "cell_type": "markdown",
      "metadata": {
        "id": "z_jifdzniuhm"
      },
      "source": [
        "## MNIST MLP on IID"
      ]
    },
    {
      "cell_type": "markdown",
      "metadata": {
        "id": "uh-te0Od2XGO"
      },
      "source": [
        "### Train"
      ]
    },
    {
      "cell_type": "code",
      "metadata": {
        "id": "UmpWmKOQixVV"
      },
      "source": [
        "# train_loss_multiple_runs = [None] * NUM_REPEAT\n",
        "# test_accuracy_multiple_runs = [None] * NUM_REPEAT\n",
        "# test_loss_multiple_runs = [None] * NUM_REPEAT\n",
        "\n",
        "# for exp_num in range(NUM_REPEAT):\n",
        "#   print(\"Experiment Run Number: \", exp_num)\n",
        "\n",
        "#   # number of training rounds\n",
        "#   rounds = 50\n",
        "#   # client fraction\n",
        "#   C = 0.1\n",
        "#   # number of clients\n",
        "#   K = 100\n",
        "#   # number of training passes on local dataset for each round\n",
        "#   E = 5\n",
        "#   # batch size\n",
        "#   batch_size = 10\n",
        "#   # learning Rate\n",
        "#   lr = 0.05\n",
        "#   # proximal term constant\n",
        "#   mu = 0.01\n",
        "#   # percentage of clients to have fewer than E epochs\n",
        "#   percentage = 50\n",
        "#   # target_test_accuracy\n",
        "#   target_test_accuracy=94.0\n",
        "#   # dict containing different type of data partition\n",
        "#   data_dict = iid_partition(mnist_data_train, 100)\n",
        "#   # load model\n",
        "#   mnist_mlp = MNIST_2NN()\n",
        "\n",
        "#   if torch.cuda.is_available():\n",
        "#     mnist_mlp.cuda()\n",
        "\n",
        "#   mnist_mlp_iid_trained, train_loss, test_accuracy, test_loss = training(mnist_mlp, rounds, batch_size, lr, mnist_data_train, mnist_data_test, data_dict, C, K, E, mu, percentage, \"MNIST MLP on IID Dataset\", \"orange\", target_test_accuracy)\n",
        "  \n",
        "#   train_loss_multiple_runs[exp_num] = train_loss\n",
        "#   test_accuracy_multiple_runs[exp_num] = test_accuracy\n",
        "#   test_loss_multiple_runs[exp_num] = test_loss"
      ],
      "execution_count": 105,
      "outputs": []
    },
    {
      "cell_type": "markdown",
      "metadata": {
        "id": "aTBsL3-72PPd"
      },
      "source": [
        "### Test"
      ]
    },
    {
      "cell_type": "code",
      "metadata": {
        "id": "a9G4j5L62OrS",
        "colab": {
          "base_uri": "https://localhost:8080/"
        },
        "outputId": "c02216bd-7af0-4dc8-955a-75f0fef34640"
      },
      "source": [
        "criterion = nn.CrossEntropyLoss()\n",
        "acc, loss = testing(mnist_mlp_iid_trained, mnist_data_test, 128, criterion, num_classes, classes_test, True)"
      ],
      "execution_count": 106,
      "outputs": [
        {
          "output_type": "stream",
          "text": [
            "Test Loss: 0.078892\n",
            "\n",
            "Test Accuracy of     0: 98% (75/76)\n",
            "Test Accuracy of     1: 97% (88/90)\n",
            "Test Accuracy of     2: 97% (89/91)\n",
            "Test Accuracy of     3: 98% (72/73)\n",
            "Test Accuracy of     4: 97% (87/89)\n",
            "Test Accuracy of     5: 94% (64/68)\n",
            "Test Accuracy of     6: 98% (61/62)\n",
            "Test Accuracy of     7: 98% (80/81)\n",
            "Test Accuracy of     8: 98% (76/77)\n",
            "Test Accuracy of     9: 97% (81/83)\n",
            "\n",
            "Final Test  Accuracy: 97.848 (773.0/790.0)\n"
          ],
          "name": "stdout"
        }
      ]
    },
    {
      "cell_type": "code",
      "metadata": {
        "id": "fWCdJFRCL_f2"
      },
      "source": [
        "hyperparams = {'rounds': rounds,\n",
        "               'C': C,\n",
        "               'K': K,\n",
        "               'E': E,\n",
        "               'batch_size': batch_size,\n",
        "               'lr': lr,\n",
        "               'mu': mu,\n",
        "               'percentage': percentage,\n",
        "               'target_test_accuracy': target_test_accuracy,\n",
        "               }\n",
        "\n",
        "log_dict['MNIST MLP on IID'] = {'train_loss': train_loss_multiple_runs, \n",
        "                                'test_loss': test_loss_multiple_runs, \n",
        "                                'test_accuracy': test_accuracy_multiple_runs,\n",
        "                                'hyperparams': hyperparams,\n",
        "                                }"
      ],
      "execution_count": 107,
      "outputs": []
    },
    {
      "cell_type": "markdown",
      "metadata": {
        "id": "J8jzEyO0iywz"
      },
      "source": [
        "## MNIST MLP on Non IID"
      ]
    },
    {
      "cell_type": "markdown",
      "metadata": {
        "id": "pJFepr3y2bF-"
      },
      "source": [
        "### Train"
      ]
    },
    {
      "cell_type": "code",
      "metadata": {
        "id": "EBKO44Hgi1Uh",
        "colab": {
          "base_uri": "https://localhost:8080/",
          "height": 1000
        },
        "outputId": "8e59c502-aba9-48aa-c3a4-4a167a81d62b"
      },
      "source": [
        "train_loss_multiple_runs = [None] * NUM_REPEAT\n",
        "test_accuracy_multiple_runs = [None] * NUM_REPEAT\n",
        "test_loss_multiple_runs = [None] * NUM_REPEAT\n",
        "\n",
        "for exp_num in range(NUM_REPEAT):\n",
        "  print(\"Experiment Run Number: \", exp_num)\n",
        "  \n",
        "  # number of training rounds\n",
        "  rounds = 50\n",
        "  # client fraction\n",
        "  C = 0.1\n",
        "  # number of clients\n",
        "  K = 100\n",
        "  # number of training passes on local dataset for each roung\n",
        "  E = 5\n",
        "  # batch size\n",
        "  batch_size = 10\n",
        "  # learning Rate\n",
        "  lr=0.05\n",
        "  # proximal term constant\n",
        "  mu = 0.01\n",
        "  # percentage of clients to have fewer than E epochs\n",
        "  percentage = 50\n",
        "  # target_test_accuracy\n",
        "  target_test_accuracy=94.0\n",
        "  # dict containing different type of data partition\n",
        "  data_dict = non_iid_partition(mnist_data_train, 100, 1000, 60, 10)\n",
        "  # load model\n",
        "  mnist_mlp = MNIST_2NN()\n",
        "\n",
        "  if torch.cuda.is_available():\n",
        "    mnist_mlp.cuda()\n",
        "\n",
        "  mnist_mlp_non_iid_trained, train_loss, test_accuracy, test_loss = training(mnist_mlp, rounds, batch_size, lr, mnist_data_train, mnist_data_test, data_dict, C, K, E, mu, percentage, \"MNIST MLP on Non-IID Dataset\", \"green\", target_test_accuracy)\n",
        "\n",
        "  train_loss_multiple_runs[exp_num] = train_loss\n",
        "  test_accuracy_multiple_runs[exp_num] = test_accuracy\n",
        "  test_loss_multiple_runs[exp_num] = test_loss"
      ],
      "execution_count": 108,
      "outputs": [
        {
          "output_type": "stream",
          "text": [
            "Experiment Run Number:  0\n",
            "System heterogeneity set to 50% stragglers.\n",
            "\n",
            "Picking 10 random clients per round.\n",
            "\n",
            "Round: 1... \tAverage Train Loss: 0.579... \tTest Loss: 0.9814260756492614... \tTest Accuracy: 69.62025316455696\n",
            "Round: 2... \tAverage Train Loss: 0.196... \tTest Loss: 0.4776805266857147... \tTest Accuracy: 84.0506329113924\n",
            "Round: 3... \tAverage Train Loss: 0.216... \tTest Loss: 0.27307143157720565... \tTest Accuracy: 91.89873417721519\n",
            "Round: 4... \tAverage Train Loss: 0.133... \tTest Loss: 0.2562059891939163... \tTest Accuracy: 92.0253164556962\n",
            "Round: 5... \tAverage Train Loss: 0.138... \tTest Loss: 0.2883696153283119... \tTest Accuracy: 91.77215189873418\n",
            "Round: 6... \tAverage Train Loss: 0.1... \tTest Loss: 0.20316774403452872... \tTest Accuracy: 94.9367088607595\n",
            "Round: 7... \tAverage Train Loss: 0.111... \tTest Loss: 0.18656787383556367... \tTest Accuracy: 94.43037974683544\n",
            "Round: 8... \tAverage Train Loss: 0.103... \tTest Loss: 0.17887079109847545... \tTest Accuracy: 95.0632911392405\n",
            "Round: 9... \tAverage Train Loss: 0.114... \tTest Loss: 0.18488612600564958... \tTest Accuracy: 94.55696202531645\n",
            "Round: 10... \tAverage Train Loss: 0.085... \tTest Loss: 0.17894350602328776... \tTest Accuracy: 94.68354430379746\n",
            "Round: 11... \tAverage Train Loss: 0.104... \tTest Loss: 0.14910017971396447... \tTest Accuracy: 95.82278481012658\n",
            "Round: 12... \tAverage Train Loss: 0.092... \tTest Loss: 0.15499982076138258... \tTest Accuracy: 94.55696202531645\n",
            "Round: 13... \tAverage Train Loss: 0.081... \tTest Loss: 0.17335970600247383... \tTest Accuracy: 94.43037974683544\n",
            "Round: 14... \tAverage Train Loss: 0.079... \tTest Loss: 0.1370302096478641... \tTest Accuracy: 95.44303797468355\n",
            "Round: 15... \tAverage Train Loss: 0.079... \tTest Loss: 0.13391799603104593... \tTest Accuracy: 96.07594936708861\n",
            "Round: 16... \tAverage Train Loss: 0.056... \tTest Loss: 0.13236715558618306... \tTest Accuracy: 96.07594936708861\n",
            "Round: 17... \tAverage Train Loss: 0.069... \tTest Loss: 0.13168337300121785... \tTest Accuracy: 96.70886075949367\n",
            "Round: 18... \tAverage Train Loss: 0.048... \tTest Loss: 0.1439570911563933... \tTest Accuracy: 95.69620253164557\n",
            "Round: 19... \tAverage Train Loss: 0.097... \tTest Loss: 0.12643762833103536... \tTest Accuracy: 96.07594936708861\n",
            "Round: 20... \tAverage Train Loss: 0.071... \tTest Loss: 0.11689721589088439... \tTest Accuracy: 96.45569620253164\n",
            "Round: 21... \tAverage Train Loss: 0.057... \tTest Loss: 0.12812441753670573... \tTest Accuracy: 95.9493670886076\n",
            "Round: 22... \tAverage Train Loss: 0.043... \tTest Loss: 0.11730814708769322... \tTest Accuracy: 96.58227848101266\n",
            "Round: 23... \tAverage Train Loss: 0.059... \tTest Loss: 0.11339815837740898... \tTest Accuracy: 96.32911392405063\n",
            "Round: 24... \tAverage Train Loss: 0.062... \tTest Loss: 0.11027854013815522... \tTest Accuracy: 96.9620253164557\n",
            "Round: 25... \tAverage Train Loss: 0.074... \tTest Loss: 0.10671326175332069... \tTest Accuracy: 97.34177215189874\n",
            "Round: 26... \tAverage Train Loss: 0.051... \tTest Loss: 0.11085983423516155... \tTest Accuracy: 96.70886075949367\n",
            "Round: 27... \tAverage Train Loss: 0.048... \tTest Loss: 0.10496080917604268... \tTest Accuracy: 97.21518987341773\n",
            "Round: 28... \tAverage Train Loss: 0.05... \tTest Loss: 0.10571764071770012... \tTest Accuracy: 96.9620253164557\n",
            "Round: 29... \tAverage Train Loss: 0.038... \tTest Loss: 0.10722583535239101... \tTest Accuracy: 97.46835443037975\n",
            "Round: 30... \tAverage Train Loss: 0.046... \tTest Loss: 0.10069458687976003... \tTest Accuracy: 96.83544303797468\n",
            "Round: 31... \tAverage Train Loss: 0.04... \tTest Loss: 0.09957507876902819... \tTest Accuracy: 97.34177215189874\n",
            "Round: 32... \tAverage Train Loss: 0.051... \tTest Loss: 0.0974165446318686... \tTest Accuracy: 96.58227848101266\n",
            "Round: 33... \tAverage Train Loss: 0.04... \tTest Loss: 0.09965226015932858... \tTest Accuracy: 97.21518987341773\n",
            "Round: 34... \tAverage Train Loss: 0.035... \tTest Loss: 0.09896523854136467... \tTest Accuracy: 97.59493670886076\n",
            "Round: 35... \tAverage Train Loss: 0.064... \tTest Loss: 0.09277976342737675... \tTest Accuracy: 97.21518987341773\n",
            "Round: 36... \tAverage Train Loss: 0.042... \tTest Loss: 0.09768258345350624... \tTest Accuracy: 96.9620253164557\n",
            "Round: 37... \tAverage Train Loss: 0.032... \tTest Loss: 0.09642044738866389... \tTest Accuracy: 97.21518987341773\n",
            "Round: 38... \tAverage Train Loss: 0.053... \tTest Loss: 0.08906490240460262... \tTest Accuracy: 97.46835443037975\n",
            "Round: 39... \tAverage Train Loss: 0.042... \tTest Loss: 0.09511072901729495... \tTest Accuracy: 97.21518987341773\n",
            "Round: 40... \tAverage Train Loss: 0.036... \tTest Loss: 0.09408236031243578... \tTest Accuracy: 97.0886075949367\n",
            "Round: 41... \tAverage Train Loss: 0.034... \tTest Loss: 0.09655607558507472... \tTest Accuracy: 96.83544303797468\n",
            "Round: 42... \tAverage Train Loss: 0.04... \tTest Loss: 0.09307204951476306... \tTest Accuracy: 96.9620253164557\n",
            "Round: 43... \tAverage Train Loss: 0.034... \tTest Loss: 0.09271778560420499... \tTest Accuracy: 97.21518987341773\n",
            "Round: 44... \tAverage Train Loss: 0.027... \tTest Loss: 0.09099438438080251... \tTest Accuracy: 97.21518987341773\n",
            "Round: 45... \tAverage Train Loss: 0.04... \tTest Loss: 0.09347634223154747... \tTest Accuracy: 97.46835443037975\n",
            "Round: 46... \tAverage Train Loss: 0.035... \tTest Loss: 0.09035373089108616... \tTest Accuracy: 97.0886075949367\n",
            "Round: 47... \tAverage Train Loss: 0.036... \tTest Loss: 0.08911183149777353... \tTest Accuracy: 97.46835443037975\n",
            "Round: 48... \tAverage Train Loss: 0.039... \tTest Loss: 0.08998919715015218... \tTest Accuracy: 96.83544303797468\n",
            "Round: 49... \tAverage Train Loss: 0.043... \tTest Loss: 0.08576981161595322... \tTest Accuracy: 96.70886075949367\n",
            "Round: 50... \tAverage Train Loss: 0.036... \tTest Loss: 0.08327658694311976... \tTest Accuracy: 97.59493670886076\n"
          ],
          "name": "stdout"
        },
        {
          "output_type": "display_data",
          "data": {
            "image/png": "[encoded data removed]",
            "text/plain": [
              "<Figure size 432x288 with 1 Axes>"
            ]
          },
          "metadata": {
            "tags": [],
            "needs_background": "light"
          }
        },
        {
          "output_type": "display_data",
          "data": {
            "image/png": "[encoded data removed]",
            "text/plain": [
              "<Figure size 432x288 with 1 Axes>"
            ]
          },
          "metadata": {
            "tags": [],
            "needs_background": "light"
          }
        },
        {
          "output_type": "display_data",
          "data": {
            "image/png": "[encoded data removed]",
            "text/plain": [
              "<Figure size 432x288 with 1 Axes>"
            ]
          },
          "metadata": {
            "tags": [],
            "needs_background": "light"
          }
        },
        {
          "output_type": "stream",
          "text": [
            "Training Done!\n",
            "Total time taken to Train: 712.9691076278687\n",
            "\n",
            "\n"
          ],
          "name": "stdout"
        }
      ]
    },
    {
      "cell_type": "markdown",
      "metadata": {
        "id": "jmuQYPbF2mes"
      },
      "source": [
        "### Test"
      ]
    },
    {
      "cell_type": "code",
      "metadata": {
        "id": "0tKMlJyF2nGN",
        "colab": {
          "base_uri": "https://localhost:8080/"
        },
        "outputId": "c67bba3b-81f5-4ef1-a014-d3b0eed5921d"
      },
      "source": [
        "criterion = nn.CrossEntropyLoss()\n",
        "acc, loss = testing(mnist_mlp_non_iid_trained, mnist_data_test, 128, criterion, num_classes, classes_test, True)"
      ],
      "execution_count": 109,
      "outputs": [
        {
          "output_type": "stream",
          "text": [
            "Test Loss: 0.083277\n",
            "\n",
            "Test Accuracy of     0: 100% (76/76)\n",
            "Test Accuracy of     1: 96% (87/90)\n",
            "Test Accuracy of     2: 96% (88/91)\n",
            "Test Accuracy of     3: 97% (71/73)\n",
            "Test Accuracy of     4: 97% (87/89)\n",
            "Test Accuracy of     5: 95% (65/68)\n",
            "Test Accuracy of     6: 98% (61/62)\n",
            "Test Accuracy of     7: 98% (80/81)\n",
            "Test Accuracy of     8: 97% (75/77)\n",
            "Test Accuracy of     9: 97% (81/83)\n",
            "\n",
            "Final Test  Accuracy: 97.595 (771.0/790.0)\n"
          ],
          "name": "stdout"
        }
      ]
    },
    {
      "cell_type": "code",
      "metadata": {
        "id": "1W5krYcSMQiu"
      },
      "source": [
        "hyperparams = {'rounds': rounds,\n",
        "               'C': C,\n",
        "               'K': K,\n",
        "               'E': E,\n",
        "               'batch_size': batch_size,\n",
        "               'lr': lr,\n",
        "               'mu': mu,\n",
        "               'percentage': percentage,\n",
        "               'target_test_accuracy': target_test_accuracy,\n",
        "               }\n",
        "\n",
        "log_dict['MNIST MLP on Non IID'] = {'train_loss': train_loss_multiple_runs, \n",
        "                                'test_loss': test_loss_multiple_runs, \n",
        "                                'test_accuracy': test_accuracy_multiple_runs,\n",
        "                                'hyperparams': hyperparams,\n",
        "                                }"
      ],
      "execution_count": 110,
      "outputs": []
    },
    {
      "cell_type": "markdown",
      "metadata": {
        "id": "emS_SaRAP6TZ"
      },
      "source": [
        "## Pickle Log"
      ]
    },
    {
      "cell_type": "code",
      "metadata": {
        "id": "soAN38JoP0c1"
      },
      "source": [
        "import pickle\n",
        " \n",
        "with open(path + 'FedProx_10shards.pkl', 'wb') as file:\n",
        "  pickle.dump(log_dict, file)"
      ],
      "execution_count": 111,
      "outputs": []
    },
    {
      "cell_type": "code",
      "metadata": {
        "id": "2UBy-JswSoCJ",
        "colab": {
          "base_uri": "https://localhost:8080/"
        },
        "outputId": "38b2283f-14cc-4c8a-d7b8-8e1393cd97b9"
      },
      "source": [
        "log_dict"
      ],
      "execution_count": 112,
      "outputs": [
        {
          "output_type": "execute_result",
          "data": {
            "text/plain": [
              "{'MNIST CNN on IID': {'hyperparams': {'C': 0.1,\n",
              "   'E': 5,\n",
              "   'K': 100,\n",
              "   'batch_size': 10,\n",
              "   'lr': 0.05,\n",
              "   'mu': 0.01,\n",
              "   'percentage': 50,\n",
              "   'rounds': 50,\n",
              "   'target_test_accuracy': 94.0},\n",
              "  'test_accuracy': [[45.56962025316456,\n",
              "    34.30379746835443,\n",
              "    54.43037974683544,\n",
              "    75.44303797468355,\n",
              "    75.69620253164557,\n",
              "    83.67088607594937,\n",
              "    76.83544303797468,\n",
              "    83.41772151898734,\n",
              "    86.83544303797468,\n",
              "    88.22784810126582,\n",
              "    85.0632911392405,\n",
              "    86.9620253164557,\n",
              "    90.12658227848101,\n",
              "    91.13924050632912,\n",
              "    91.77215189873418,\n",
              "    89.11392405063292,\n",
              "    88.86075949367088,\n",
              "    92.53164556962025,\n",
              "    88.10126582278481,\n",
              "    93.67088607594937,\n",
              "    91.64556962025317,\n",
              "    93.79746835443038,\n",
              "    92.40506329113924,\n",
              "    92.53164556962025,\n",
              "    92.27848101265823,\n",
              "    89.49367088607595,\n",
              "    92.53164556962025,\n",
              "    89.62025316455696,\n",
              "    94.68354430379746,\n",
              "    89.87341772151899,\n",
              "    93.67088607594937,\n",
              "    93.54430379746836,\n",
              "    93.54430379746836,\n",
              "    92.78481012658227,\n",
              "    93.41772151898734,\n",
              "    93.54430379746836,\n",
              "    90.50632911392405,\n",
              "    92.15189873417721,\n",
              "    93.79746835443038,\n",
              "    94.55696202531645,\n",
              "    95.69620253164557,\n",
              "    95.18987341772151,\n",
              "    94.9367088607595,\n",
              "    94.81012658227849,\n",
              "    94.81012658227849,\n",
              "    95.18987341772151,\n",
              "    94.43037974683544,\n",
              "    95.56962025316456,\n",
              "    91.77215189873418,\n",
              "    95.31645569620254]],\n",
              "  'test_loss': [[3.3119170619964597,\n",
              "    2.4182265457153322,\n",
              "    1.5550468410491944,\n",
              "    0.8896119075775146,\n",
              "    0.7504207200050353,\n",
              "    0.5463254299163819,\n",
              "    0.7377623081207275,\n",
              "    0.5403290888786316,\n",
              "    0.4117896905899048,\n",
              "    0.40052801949977873,\n",
              "    0.4566073283672333,\n",
              "    0.37554833006858823,\n",
              "    0.31586729667186736,\n",
              "    0.3040185135602951,\n",
              "    0.29889628282785413,\n",
              "    0.3468444500684738,\n",
              "    0.35153273465633395,\n",
              "    0.258166090297699,\n",
              "    0.34961891252994537,\n",
              "    0.24411699655056,\n",
              "    0.2772906148791313,\n",
              "    0.22715370646715163,\n",
              "    0.24853782856464385,\n",
              "    0.25324392285346986,\n",
              "    0.2597825007200241,\n",
              "    0.2962508676767349,\n",
              "    0.23405703473091125,\n",
              "    0.30284329142570493,\n",
              "    0.19063055070638657,\n",
              "    0.3011599862575531,\n",
              "    0.20379597737789154,\n",
              "    0.21054512763023375,\n",
              "    0.20819573134183883,\n",
              "    0.19648595595359802,\n",
              "    0.1917562083005905,\n",
              "    0.1750261023759842,\n",
              "    0.25732842395305633,\n",
              "    0.2432512961626053,\n",
              "    0.19943194593787195,\n",
              "    0.20128837258815765,\n",
              "    0.15061351585686206,\n",
              "    0.17604248507022857,\n",
              "    0.15276758945584298,\n",
              "    0.15987388584613801,\n",
              "    0.17668769721388816,\n",
              "    0.17149049553275109,\n",
              "    0.1639951910048723,\n",
              "    0.14567828891277312,\n",
              "    0.24081139369010926,\n",
              "    0.1532120913684368]],\n",
              "  'train_loss': [[0.28285343520705486,\n",
              "    0.1887888194021458,\n",
              "    0.10841776839923116,\n",
              "    0.08045710675009629,\n",
              "    0.09660956877946024,\n",
              "    0.05535670991231584,\n",
              "    0.042047846958274016,\n",
              "    0.05436456276116789,\n",
              "    0.038598174664799846,\n",
              "    0.06663279279657097,\n",
              "    0.03781102090883845,\n",
              "    0.042843124977843317,\n",
              "    0.04338000310170982,\n",
              "    0.03892860515354874,\n",
              "    0.04658495353162288,\n",
              "    0.06249411877370181,\n",
              "    0.02356606801925227,\n",
              "    0.03835650096903555,\n",
              "    0.04356812009078244,\n",
              "    0.03189558587481993,\n",
              "    0.04640967609517328,\n",
              "    0.05814713747495422,\n",
              "    0.03748851410002034,\n",
              "    0.03513605399142641,\n",
              "    0.030270909958312074,\n",
              "    0.04384835558607786,\n",
              "    0.0436932013136878,\n",
              "    0.023743015307176395,\n",
              "    0.03583279305653802,\n",
              "    0.037812297243767216,\n",
              "    0.03379254895808279,\n",
              "    0.029995986749463348,\n",
              "    0.02762515455534837,\n",
              "    0.04724272765552935,\n",
              "    0.0369138287190322,\n",
              "    0.024440774701374016,\n",
              "    0.03418027901423112,\n",
              "    0.02653498801961541,\n",
              "    0.03303583799523767,\n",
              "    0.02088331914677595,\n",
              "    0.019820537785986542,\n",
              "    0.02887618630986092,\n",
              "    0.034260314366372766,\n",
              "    0.02644777924646365,\n",
              "    0.025563191028027277,\n",
              "    0.025910758095793424,\n",
              "    0.03296490987713656,\n",
              "    0.028937863433345534,\n",
              "    0.01825011330430344,\n",
              "    0.02385519261704758]]},\n",
              " 'MNIST CNN on Non IID': {'hyperparams': {'C': 0.1,\n",
              "   'E': 5,\n",
              "   'K': 100,\n",
              "   'batch_size': 10,\n",
              "   'lr': 0.05,\n",
              "   'mu': 0.01,\n",
              "   'percentage': 50,\n",
              "   'rounds': 50,\n",
              "   'target_test_accuracy': 99.0},\n",
              "  'test_accuracy': [[77.84810126582279,\n",
              "    94.17721518987342,\n",
              "    95.56962025316456,\n",
              "    96.45569620253164,\n",
              "    97.34177215189874,\n",
              "    97.46835443037975,\n",
              "    97.46835443037975,\n",
              "    98.10126582278481,\n",
              "    97.9746835443038,\n",
              "    98.10126582278481,\n",
              "    98.35443037974683,\n",
              "    98.22784810126582,\n",
              "    98.48101265822785,\n",
              "    98.48101265822785,\n",
              "    98.60759493670886,\n",
              "    98.9873417721519,\n",
              "    98.73417721518987,\n",
              "    99.11392405063292,\n",
              "    99.11392405063292,\n",
              "    98.86075949367088,\n",
              "    99.36708860759494,\n",
              "    99.11392405063292,\n",
              "    98.86075949367088,\n",
              "    99.11392405063292,\n",
              "    99.24050632911393,\n",
              "    99.11392405063292,\n",
              "    99.36708860759494,\n",
              "    98.9873417721519,\n",
              "    98.9873417721519,\n",
              "    98.9873417721519,\n",
              "    99.24050632911393,\n",
              "    99.49367088607595,\n",
              "    99.36708860759494,\n",
              "    99.49367088607595,\n",
              "    99.36708860759494,\n",
              "    99.24050632911393,\n",
              "    99.36708860759494,\n",
              "    99.24050632911393,\n",
              "    99.49367088607595,\n",
              "    99.74683544303798,\n",
              "    99.62025316455696,\n",
              "    99.49367088607595,\n",
              "    99.49367088607595,\n",
              "    99.49367088607595,\n",
              "    99.49367088607595,\n",
              "    99.62025316455696,\n",
              "    99.74683544303798,\n",
              "    99.49367088607595,\n",
              "    99.36708860759494,\n",
              "    99.36708860759494]],\n",
              "  'test_loss': [[1.1446950199127197,\n",
              "    0.21377243344783783,\n",
              "    0.14224467458724976,\n",
              "    0.10023579971045256,\n",
              "    0.08368416042476892,\n",
              "    0.07072313340492546,\n",
              "    0.06844302321653813,\n",
              "    0.05995944411102682,\n",
              "    0.06056314252526499,\n",
              "    0.05227325041324366,\n",
              "    0.05780532550448552,\n",
              "    0.0499960389373824,\n",
              "    0.04794678964209743,\n",
              "    0.04386430963966995,\n",
              "    0.04619947169017978,\n",
              "    0.047134244907950054,\n",
              "    0.03890707617502194,\n",
              "    0.041449567672493866,\n",
              "    0.0426487157530617,\n",
              "    0.036312717689562124,\n",
              "    0.03384046468357556,\n",
              "    0.035133455034554936,\n",
              "    0.03260696772837546,\n",
              "    0.03207694647377357,\n",
              "    0.03272642917881021,\n",
              "    0.035706818309478694,\n",
              "    0.03389465424718801,\n",
              "    0.03259774854432908,\n",
              "    0.030810909448110033,\n",
              "    0.03343761998067494,\n",
              "    0.02991271751234308,\n",
              "    0.03006649160689558,\n",
              "    0.029806907954090276,\n",
              "    0.029479742782656103,\n",
              "    0.028750471768015994,\n",
              "    0.028641646323137683,\n",
              "    0.028700414346856995,\n",
              "    0.028929696865897858,\n",
              "    0.028626685631682632,\n",
              "    0.028134389392915182,\n",
              "    0.026997593218903056,\n",
              "    0.02803992915095878,\n",
              "    0.027147270208527335,\n",
              "    0.025944663898344152,\n",
              "    0.026155817581474547,\n",
              "    0.025149929294525645,\n",
              "    0.025916427272441797,\n",
              "    0.026551956411267747,\n",
              "    0.0286710453782478,\n",
              "    0.02633399308421067]],\n",
              "  'train_loss': [[0.48423954255071777,\n",
              "    0.19347843714130838,\n",
              "    0.14168546764550002,\n",
              "    0.11286910702686548,\n",
              "    0.08646432761330572,\n",
              "    0.08901106726477802,\n",
              "    0.0830782989790896,\n",
              "    0.06779274557441628,\n",
              "    0.059041922144686995,\n",
              "    0.06759803203415624,\n",
              "    0.056537060517468284,\n",
              "    0.044422284547089165,\n",
              "    0.04915328988912269,\n",
              "    0.056087625970095055,\n",
              "    0.0506581254832663,\n",
              "    0.030660498867046047,\n",
              "    0.05411129678485951,\n",
              "    0.05187677889253731,\n",
              "    0.04404302637818667,\n",
              "    0.04117235546217489,\n",
              "    0.040397743984585656,\n",
              "    0.03630666577558137,\n",
              "    0.058501245229045706,\n",
              "    0.03440667029345462,\n",
              "    0.035814813848523044,\n",
              "    0.03601811348931112,\n",
              "    0.04331302994658169,\n",
              "    0.024120782219077427,\n",
              "    0.02278970860378892,\n",
              "    0.030487556291901856,\n",
              "    0.037382249364233656,\n",
              "    0.02732094888366716,\n",
              "    0.02898027348467258,\n",
              "    0.03029009193534683,\n",
              "    0.02981042161382535,\n",
              "    0.03117945802643841,\n",
              "    0.037604837842792525,\n",
              "    0.02189074115658938,\n",
              "    0.029421853634218682,\n",
              "    0.021098278036402563,\n",
              "    0.026682592513921514,\n",
              "    0.028852854458786593,\n",
              "    0.020718182054917524,\n",
              "    0.035988260293616216,\n",
              "    0.028143510585535596,\n",
              "    0.02741261559447957,\n",
              "    0.02275015540062916,\n",
              "    0.022370333656653803,\n",
              "    0.021068177334803092,\n",
              "    0.025914209776427333]]},\n",
              " 'MNIST MLP on IID': {'hyperparams': {'C': 0.1,\n",
              "   'E': 5,\n",
              "   'K': 100,\n",
              "   'batch_size': 10,\n",
              "   'lr': 0.05,\n",
              "   'mu': 0.01,\n",
              "   'percentage': 50,\n",
              "   'rounds': 50,\n",
              "   'target_test_accuracy': 99.0},\n",
              "  'test_accuracy': [[77.84810126582279,\n",
              "    94.17721518987342,\n",
              "    95.56962025316456,\n",
              "    96.45569620253164,\n",
              "    97.34177215189874,\n",
              "    97.46835443037975,\n",
              "    97.46835443037975,\n",
              "    98.10126582278481,\n",
              "    97.9746835443038,\n",
              "    98.10126582278481,\n",
              "    98.35443037974683,\n",
              "    98.22784810126582,\n",
              "    98.48101265822785,\n",
              "    98.48101265822785,\n",
              "    98.60759493670886,\n",
              "    98.9873417721519,\n",
              "    98.73417721518987,\n",
              "    99.11392405063292,\n",
              "    99.11392405063292,\n",
              "    98.86075949367088,\n",
              "    99.36708860759494,\n",
              "    99.11392405063292,\n",
              "    98.86075949367088,\n",
              "    99.11392405063292,\n",
              "    99.24050632911393,\n",
              "    99.11392405063292,\n",
              "    99.36708860759494,\n",
              "    98.9873417721519,\n",
              "    98.9873417721519,\n",
              "    98.9873417721519,\n",
              "    99.24050632911393,\n",
              "    99.49367088607595,\n",
              "    99.36708860759494,\n",
              "    99.49367088607595,\n",
              "    99.36708860759494,\n",
              "    99.24050632911393,\n",
              "    99.36708860759494,\n",
              "    99.24050632911393,\n",
              "    99.49367088607595,\n",
              "    99.74683544303798,\n",
              "    99.62025316455696,\n",
              "    99.49367088607595,\n",
              "    99.49367088607595,\n",
              "    99.49367088607595,\n",
              "    99.49367088607595,\n",
              "    99.62025316455696,\n",
              "    99.74683544303798,\n",
              "    99.49367088607595,\n",
              "    99.36708860759494,\n",
              "    99.36708860759494]],\n",
              "  'test_loss': [[1.1446950199127197,\n",
              "    0.21377243344783783,\n",
              "    0.14224467458724976,\n",
              "    0.10023579971045256,\n",
              "    0.08368416042476892,\n",
              "    0.07072313340492546,\n",
              "    0.06844302321653813,\n",
              "    0.05995944411102682,\n",
              "    0.06056314252526499,\n",
              "    0.05227325041324366,\n",
              "    0.05780532550448552,\n",
              "    0.0499960389373824,\n",
              "    0.04794678964209743,\n",
              "    0.04386430963966995,\n",
              "    0.04619947169017978,\n",
              "    0.047134244907950054,\n",
              "    0.03890707617502194,\n",
              "    0.041449567672493866,\n",
              "    0.0426487157530617,\n",
              "    0.036312717689562124,\n",
              "    0.03384046468357556,\n",
              "    0.035133455034554936,\n",
              "    0.03260696772837546,\n",
              "    0.03207694647377357,\n",
              "    0.03272642917881021,\n",
              "    0.035706818309478694,\n",
              "    0.03389465424718801,\n",
              "    0.03259774854432908,\n",
              "    0.030810909448110033,\n",
              "    0.03343761998067494,\n",
              "    0.02991271751234308,\n",
              "    0.03006649160689558,\n",
              "    0.029806907954090276,\n",
              "    0.029479742782656103,\n",
              "    0.028750471768015994,\n",
              "    0.028641646323137683,\n",
              "    0.028700414346856995,\n",
              "    0.028929696865897858,\n",
              "    0.028626685631682632,\n",
              "    0.028134389392915182,\n",
              "    0.026997593218903056,\n",
              "    0.02803992915095878,\n",
              "    0.027147270208527335,\n",
              "    0.025944663898344152,\n",
              "    0.026155817581474547,\n",
              "    0.025149929294525645,\n",
              "    0.025916427272441797,\n",
              "    0.026551956411267747,\n",
              "    0.0286710453782478,\n",
              "    0.02633399308421067]],\n",
              "  'train_loss': [[0.48423954255071777,\n",
              "    0.19347843714130838,\n",
              "    0.14168546764550002,\n",
              "    0.11286910702686548,\n",
              "    0.08646432761330572,\n",
              "    0.08901106726477802,\n",
              "    0.0830782989790896,\n",
              "    0.06779274557441628,\n",
              "    0.059041922144686995,\n",
              "    0.06759803203415624,\n",
              "    0.056537060517468284,\n",
              "    0.044422284547089165,\n",
              "    0.04915328988912269,\n",
              "    0.056087625970095055,\n",
              "    0.0506581254832663,\n",
              "    0.030660498867046047,\n",
              "    0.05411129678485951,\n",
              "    0.05187677889253731,\n",
              "    0.04404302637818667,\n",
              "    0.04117235546217489,\n",
              "    0.040397743984585656,\n",
              "    0.03630666577558137,\n",
              "    0.058501245229045706,\n",
              "    0.03440667029345462,\n",
              "    0.035814813848523044,\n",
              "    0.03601811348931112,\n",
              "    0.04331302994658169,\n",
              "    0.024120782219077427,\n",
              "    0.02278970860378892,\n",
              "    0.030487556291901856,\n",
              "    0.037382249364233656,\n",
              "    0.02732094888366716,\n",
              "    0.02898027348467258,\n",
              "    0.03029009193534683,\n",
              "    0.02981042161382535,\n",
              "    0.03117945802643841,\n",
              "    0.037604837842792525,\n",
              "    0.02189074115658938,\n",
              "    0.029421853634218682,\n",
              "    0.021098278036402563,\n",
              "    0.026682592513921514,\n",
              "    0.028852854458786593,\n",
              "    0.020718182054917524,\n",
              "    0.035988260293616216,\n",
              "    0.028143510585535596,\n",
              "    0.02741261559447957,\n",
              "    0.02275015540062916,\n",
              "    0.022370333656653803,\n",
              "    0.021068177334803092,\n",
              "    0.025914209776427333]]},\n",
              " 'MNIST MLP on Non IID': {'hyperparams': {'C': 0.1,\n",
              "   'E': 5,\n",
              "   'K': 100,\n",
              "   'batch_size': 10,\n",
              "   'lr': 0.05,\n",
              "   'mu': 0.01,\n",
              "   'percentage': 50,\n",
              "   'rounds': 50,\n",
              "   'target_test_accuracy': 94.0},\n",
              "  'test_accuracy': [[69.62025316455696,\n",
              "    84.0506329113924,\n",
              "    91.89873417721519,\n",
              "    92.0253164556962,\n",
              "    91.77215189873418,\n",
              "    94.9367088607595,\n",
              "    94.43037974683544,\n",
              "    95.0632911392405,\n",
              "    94.55696202531645,\n",
              "    94.68354430379746,\n",
              "    95.82278481012658,\n",
              "    94.55696202531645,\n",
              "    94.43037974683544,\n",
              "    95.44303797468355,\n",
              "    96.07594936708861,\n",
              "    96.07594936708861,\n",
              "    96.70886075949367,\n",
              "    95.69620253164557,\n",
              "    96.07594936708861,\n",
              "    96.45569620253164,\n",
              "    95.9493670886076,\n",
              "    96.58227848101266,\n",
              "    96.32911392405063,\n",
              "    96.9620253164557,\n",
              "    97.34177215189874,\n",
              "    96.70886075949367,\n",
              "    97.21518987341773,\n",
              "    96.9620253164557,\n",
              "    97.46835443037975,\n",
              "    96.83544303797468,\n",
              "    97.34177215189874,\n",
              "    96.58227848101266,\n",
              "    97.21518987341773,\n",
              "    97.59493670886076,\n",
              "    97.21518987341773,\n",
              "    96.9620253164557,\n",
              "    97.21518987341773,\n",
              "    97.46835443037975,\n",
              "    97.21518987341773,\n",
              "    97.0886075949367,\n",
              "    96.83544303797468,\n",
              "    96.9620253164557,\n",
              "    97.21518987341773,\n",
              "    97.21518987341773,\n",
              "    97.46835443037975,\n",
              "    97.0886075949367,\n",
              "    97.46835443037975,\n",
              "    96.83544303797468,\n",
              "    96.70886075949367,\n",
              "    97.59493670886076]],\n",
              "  'test_loss': [[0.9814260756492614,\n",
              "    0.4776805266857147,\n",
              "    0.27307143157720565,\n",
              "    0.2562059891939163,\n",
              "    0.2883696153283119,\n",
              "    0.20316774403452872,\n",
              "    0.18656787383556367,\n",
              "    0.17887079109847545,\n",
              "    0.18488612600564958,\n",
              "    0.17894350602328776,\n",
              "    0.14910017971396447,\n",
              "    0.15499982076138258,\n",
              "    0.17335970600247383,\n",
              "    0.1370302096478641,\n",
              "    0.13391799603104593,\n",
              "    0.13236715558618306,\n",
              "    0.13168337300121785,\n",
              "    0.1439570911563933,\n",
              "    0.12643762833103536,\n",
              "    0.11689721589088439,\n",
              "    0.12812441753670573,\n",
              "    0.11730814708769322,\n",
              "    0.11339815837740898,\n",
              "    0.11027854013815522,\n",
              "    0.10671326175332069,\n",
              "    0.11085983423516155,\n",
              "    0.10496080917604268,\n",
              "    0.10571764071770012,\n",
              "    0.10722583535239101,\n",
              "    0.10069458687976003,\n",
              "    0.09957507876902819,\n",
              "    0.0974165446318686,\n",
              "    0.09965226015932858,\n",
              "    0.09896523854136467,\n",
              "    0.09277976342737675,\n",
              "    0.09768258345350624,\n",
              "    0.09642044738866389,\n",
              "    0.08906490240460262,\n",
              "    0.09511072901729495,\n",
              "    0.09408236031243578,\n",
              "    0.09655607558507472,\n",
              "    0.09307204951476306,\n",
              "    0.09271778560420499,\n",
              "    0.09099438438080251,\n",
              "    0.09347634223154747,\n",
              "    0.09035373089108616,\n",
              "    0.08911183149777353,\n",
              "    0.08998919715015218,\n",
              "    0.08576981161595322,\n",
              "    0.08327658694311976]],\n",
              "  'train_loss': [[0.5788999069754241,\n",
              "    0.19570257680738967,\n",
              "    0.21617904337790486,\n",
              "    0.13300605994160286,\n",
              "    0.13822422126773742,\n",
              "    0.09989187356195826,\n",
              "    0.1110120197379082,\n",
              "    0.10335049325826631,\n",
              "    0.11378536843161821,\n",
              "    0.08505305965882468,\n",
              "    0.1040212942919849,\n",
              "    0.09171597780416615,\n",
              "    0.08075504304623851,\n",
              "    0.07932604958047158,\n",
              "    0.07935831216961378,\n",
              "    0.056284150097409204,\n",
              "    0.06943529994115752,\n",
              "    0.047827638832806975,\n",
              "    0.09710794842142625,\n",
              "    0.07053940039900287,\n",
              "    0.05717451818187773,\n",
              "    0.043314358383827814,\n",
              "    0.05894931159738916,\n",
              "    0.061694335157679844,\n",
              "    0.07364125142898412,\n",
              "    0.05124166968000484,\n",
              "    0.04755121056828971,\n",
              "    0.05020163330205833,\n",
              "    0.03766870355665257,\n",
              "    0.045684797578154954,\n",
              "    0.0404085098923606,\n",
              "    0.05113653593465763,\n",
              "    0.03962515157083139,\n",
              "    0.03504599282847226,\n",
              "    0.06413431076725828,\n",
              "    0.041837617360213894,\n",
              "    0.032243163915700285,\n",
              "    0.0533329107410779,\n",
              "    0.0424445725963839,\n",
              "    0.03599769101206483,\n",
              "    0.03435558855877671,\n",
              "    0.04039175157819571,\n",
              "    0.03412067892178311,\n",
              "    0.026557797904598474,\n",
              "    0.03977863697512496,\n",
              "    0.034846803331983714,\n",
              "    0.03630809725881288,\n",
              "    0.03884708060231545,\n",
              "    0.043293319979986936,\n",
              "    0.03559715490821691]]}}"
            ]
          },
          "metadata": {
            "tags": []
          },
          "execution_count": 112
        }
      ]
    },
    {
      "cell_type": "code",
      "metadata": {
        "id": "lYLuF-P_nLT8"
      },
      "source": [
        "import pickle\n",
        "\n",
        "with open(path + 'FedProx_10shards.pkl', 'rb') as file:\n",
        "  log_dict = pickle.load(file)"
      ],
      "execution_count": 113,
      "outputs": []
    },
    {
      "cell_type": "code",
      "metadata": {
        "id": "se_04JMaVJPg",
        "colab": {
          "base_uri": "https://localhost:8080/"
        },
        "outputId": "c918b5b5-34ad-4ecf-8b38-13ed2b062e52"
      },
      "source": [
        "print([test_acc[-1] for test_acc in log_dict['MNIST CNN on IID']['test_accuracy']])"
      ],
      "execution_count": 114,
      "outputs": [
        {
          "output_type": "stream",
          "text": [
            "[95.31645569620254]\n"
          ],
          "name": "stdout"
        }
      ]
    },
    {
      "cell_type": "code",
      "metadata": {
        "id": "5sv0rv-G4Sqa",
        "colab": {
          "base_uri": "https://localhost:8080/"
        },
        "outputId": "240cd906-66f7-44f2-8c32-9add2826c894"
      },
      "source": [
        "print([test_acc[-1] for test_acc in log_dict['MNIST CNN on Non IID']['test_accuracy']])"
      ],
      "execution_count": 115,
      "outputs": [
        {
          "output_type": "stream",
          "text": [
            "[99.36708860759494]\n"
          ],
          "name": "stdout"
        }
      ]
    },
    {
      "cell_type": "code",
      "metadata": {
        "id": "b2a2_Az-4nal",
        "colab": {
          "base_uri": "https://localhost:8080/"
        },
        "outputId": "b08b4e8f-71fa-4c9a-af54-2e05f470cdf7"
      },
      "source": [
        "print([test_acc[-1] for test_acc in log_dict['MNIST MLP on IID']['test_accuracy']])"
      ],
      "execution_count": 116,
      "outputs": [
        {
          "output_type": "stream",
          "text": [
            "[99.36708860759494]\n"
          ],
          "name": "stdout"
        }
      ]
    },
    {
      "cell_type": "code",
      "metadata": {
        "id": "YoRqZyvD4p2K",
        "colab": {
          "base_uri": "https://localhost:8080/"
        },
        "outputId": "ea24e7f8-f7c8-4235-f6b5-30146143a831"
      },
      "source": [
        "print([test_acc[-1] for test_acc in log_dict['MNIST MLP on Non IID']['test_accuracy']])"
      ],
      "execution_count": 117,
      "outputs": [
        {
          "output_type": "stream",
          "text": [
            "[97.59493670886076]\n"
          ],
          "name": "stdout"
        }
      ]
    },
    {
      "cell_type": "code",
      "metadata": {
        "id": "B87eGKJnAHIh",
        "colab": {
          "base_uri": "https://localhost:8080/"
        },
        "outputId": "ad34def8-095e-4ccf-906a-cdf9c65e2280"
      },
      "source": [
        "output.show()"
      ],
      "execution_count": 118,
      "outputs": [
        {
          "output_type": "stream",
          "text": [
            "Drive already mounted at /content/drive; to attempt to forcibly remount, call drive.mount(\"/content/drive\", force_remount=True).\n"
          ],
          "name": "stdout"
        }
      ]
    }
  ]
}