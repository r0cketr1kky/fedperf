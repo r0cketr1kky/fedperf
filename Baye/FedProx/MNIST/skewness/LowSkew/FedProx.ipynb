{
  "nbformat": 4,
  "nbformat_minor": 0,
  "metadata": {
    "accelerator": "GPU",
    "colab": {
      "name": "FedProx.ipynb",
      "provenance": [],
      "collapsed_sections": [],
      "machine_shape": "hm"
    },
    "kernelspec": {
      "name": "python3",
      "display_name": "Python 3"
    },
    "language_info": {
      "name": "python"
    }
  },
  "cells": [
    {
      "cell_type": "markdown",
      "metadata": {
        "id": "view-in-github"
      },
      "source": [
        "<a href=\"https://colab.research.google.com/github/tushar-semwal/fedperf/blob/main/Vineeth/Local_Rounds/FedProx/FedProx.ipynb\" target=\"_parent\"><img src=\"https://colab.research.google.com/assets/colab-badge.svg\" alt=\"Open In Colab\"/></a>"
      ]
    },
    {
      "cell_type": "code",
      "metadata": {
        "id": "yKcpjZLrQQJV"
      },
      "source": [
        "%%capture output\n",
        "try:\n",
        "    from google.colab import drive\n",
        "    drive.mount('/content/drive')\n",
        "\n",
        "    import os\n",
        "    path = '/content/drive/MyDrive/Colab Notebooks/OpenMined/'\n",
        "    os.makedirs(path, exist_ok=True)\n",
        "except:\n",
        "    path = './'"
      ],
      "execution_count": 81,
      "outputs": []
    },
    {
      "cell_type": "markdown",
      "metadata": {
        "id": "-0_nKpfq2h1R"
      },
      "source": [
        "## Imports"
      ]
    },
    {
      "cell_type": "code",
      "metadata": {
        "colab": {
          "base_uri": "https://localhost:8080/"
        },
        "id": "DLLNM9X2JbQ8",
        "outputId": "75b3e79c-6734-4453-f0ba-c8319cc3c294"
      },
      "source": [
        "%load_ext tensorboard\n",
        "import os\n",
        "import numpy as np\n",
        "import matplotlib\n",
        "import matplotlib.pyplot as plt\n",
        "import copy\n",
        "import random\n",
        "import time\n",
        "\n",
        "import torch\n",
        "import torch.nn as nn\n",
        "import torch.nn.functional as F\n",
        "\n",
        "from torch.utils.data import Dataset, DataLoader\n",
        "from torch.utils.tensorboard import SummaryWriter\n",
        "from torchvision import transforms, utils, datasets\n",
        "from torchsummary import summary\n",
        "\n",
        "\n",
        "# Check assigned GPU\n",
        "gpu_info = !nvidia-smi\n",
        "gpu_info = '\\n'.join(gpu_info)\n",
        "if gpu_info.find('failed') >= 0:\n",
        "  print('Select the Runtime > \"Change runtime type\" menu to enable a GPU accelerator, ')\n",
        "  print('and then re-execute this cell.')\n",
        "else:\n",
        "  print(gpu_info)\n",
        "\n",
        "# set manual seed for reproducibility\n",
        "seed = 42\n",
        "\n",
        "# general reproducibility\n",
        "random.seed(seed)\n",
        "np.random.seed(seed)\n",
        "torch.manual_seed(seed)\n",
        "\n",
        "# gpu training specific\n",
        "torch.backends.cudnn.deterministic = True\n",
        "torch.backends.cudnn.benchmark = False"
      ],
      "execution_count": 82,
      "outputs": [
        {
          "output_type": "stream",
          "text": [
            "The tensorboard extension is already loaded. To reload it, use:\n",
            "  %reload_ext tensorboard\n",
            "Thu Apr 22 09:10:52 2021       \n",
            "+-----------------------------------------------------------------------------+\n",
            "| NVIDIA-SMI 460.67       Driver Version: 460.32.03    CUDA Version: 11.2     |\n",
            "|-------------------------------+----------------------+----------------------+\n",
            "| GPU  Name        Persistence-M| Bus-Id        Disp.A | Volatile Uncorr. ECC |\n",
            "| Fan  Temp  Perf  Pwr:Usage/Cap|         Memory-Usage | GPU-Util  Compute M. |\n",
            "|                               |                      |               MIG M. |\n",
            "|===============================+======================+======================|\n",
            "|   0  Tesla T4            Off  | 00000000:00:04.0 Off |                    0 |\n",
            "| N/A   64C    P0    29W /  70W |   1150MiB / 15109MiB |      0%      Default |\n",
            "|                               |                      |                  N/A |\n",
            "+-------------------------------+----------------------+----------------------+\n",
            "                                                                               \n",
            "+-----------------------------------------------------------------------------+\n",
            "| Processes:                                                                  |\n",
            "|  GPU   GI   CI        PID   Type   Process name                  GPU Memory |\n",
            "|        ID   ID                                                   Usage      |\n",
            "|=============================================================================|\n",
            "+-----------------------------------------------------------------------------+\n"
          ],
          "name": "stdout"
        }
      ]
    },
    {
      "cell_type": "markdown",
      "metadata": {
        "id": "NY4eWzGiL6Mj"
      },
      "source": [
        "## Load the MNIST Dataset"
      ]
    },
    {
      "cell_type": "code",
      "metadata": {
        "id": "41lWlknqo3pI"
      },
      "source": [
        "torch.cuda.set_device('cuda:0')"
      ],
      "execution_count": 83,
      "outputs": []
    },
    {
      "cell_type": "code",
      "metadata": {
        "id": "G649tjTXLL8F"
      },
      "source": [
        "# create transforms\n",
        "# We will just convert to tensor and normalize since no special transforms are mentioned in the paper\n",
        "transforms_mnist = transforms.Compose([\n",
        "                                       transforms.ToTensor(),\n",
        "                                       transforms.Normalize((0.1307,), (0.3081,))\n",
        "                                       ])\n",
        "\n",
        "mnist_data_train = datasets.MNIST('./data/mnist/', train=True, download=True, transform=transforms_mnist)\n",
        "mnist_data_test = datasets.MNIST('../data/mnist/', train=False, download=True, transform=transforms_mnist)"
      ],
      "execution_count": 84,
      "outputs": []
    },
    {
      "cell_type": "code",
      "metadata": {
        "colab": {
          "base_uri": "https://localhost:8080/"
        },
        "id": "dm9usjn2vFkL",
        "outputId": "97f929d5-0972-47dc-880c-20b184b5fd63"
      },
      "source": [
        "classes = np.array(list(mnist_data_train.class_to_idx.values()))\n",
        "classes_test = np.array(list(mnist_data_test.class_to_idx.values()))\n",
        "num_classes = len(classes_test)\n",
        "print(\"Classes: {} \\tType: {}\".format(classes, type(classes)))\n",
        "print(\"Classes Test: {} \\tType: {}\".format(classes_test, type(classes)))\n"
      ],
      "execution_count": 85,
      "outputs": [
        {
          "output_type": "stream",
          "text": [
            "Classes: [0 1 2 3 4 5 6 7 8 9] \tType: <class 'numpy.ndarray'>\n",
            "Classes Test: [0 1 2 3 4 5 6 7 8 9] \tType: <class 'numpy.ndarray'>\n"
          ],
          "name": "stdout"
        }
      ]
    },
    {
      "cell_type": "code",
      "metadata": {
        "colab": {
          "base_uri": "https://localhost:8080/"
        },
        "id": "9lvJt3Ofv2SO",
        "outputId": "340a1e72-81ec-48a7-ef5d-d7031d3ee617"
      },
      "source": [
        "print(\"Image Shape: {}\".format(mnist_data_train.data[0].size()))"
      ],
      "execution_count": 86,
      "outputs": [
        {
          "output_type": "stream",
          "text": [
            "Image Shape: torch.Size([28, 28])\n"
          ],
          "name": "stdout"
        }
      ]
    },
    {
      "cell_type": "markdown",
      "metadata": {
        "id": "jCOONkg-zV7Y"
      },
      "source": [
        "## Visualize Data"
      ]
    },
    {
      "cell_type": "code",
      "metadata": {
        "id": "R9MK03TZw6Qs"
      },
      "source": [
        "def imshow(img):\n",
        "\timg = img/2 + 0.5 #unnormalize the image\n",
        "\tplt.imshow(img, cmap='gray') # convert from tensor to image"
      ],
      "execution_count": 87,
      "outputs": []
    },
    {
      "cell_type": "code",
      "metadata": {
        "id": "gMJ0Kx4Kw-_H"
      },
      "source": [
        "def visualize(dataset):\n",
        "  figure = plt.figure(figsize=(25,4))\n",
        "  for i in range(20):\n",
        "    axis = figure.add_subplot(2, 20/2, i+1, xticks=[], yticks=[])\n",
        "    data = dataset.data[i]\n",
        "    data = data.numpy()\n",
        "\n",
        "    target = dataset.targets[i]\n",
        "    target = target.numpy()\n",
        "    imshow(data)\n",
        "    axis.set_title(target)\n"
      ],
      "execution_count": 88,
      "outputs": []
    },
    {
      "cell_type": "code",
      "metadata": {
        "colab": {
          "base_uri": "https://localhost:8080/",
          "height": 195
        },
        "id": "8bPOwKg10Ro7",
        "outputId": "5f8c4a69-6617-4fdb-d378-ed8ca0612420"
      },
      "source": [
        "visualize(mnist_data_train)"
      ],
      "execution_count": 89,
      "outputs": [
        {
          "output_type": "display_data",
          "data": {
            "image/png": "[encoded data removed]",
            "text/plain": [
              "<Figure size 1800x288 with 20 Axes>"
            ]
          },
          "metadata": {
            "tags": []
          }
        }
      ]
    },
    {
      "cell_type": "code",
      "metadata": {
        "colab": {
          "base_uri": "https://localhost:8080/",
          "height": 195
        },
        "id": "RKoh5Cf70UYu",
        "outputId": "c8bc0f0b-8631-46b5-fcb1-2008b474f82a"
      },
      "source": [
        "visualize(mnist_data_test)"
      ],
      "execution_count": 90,
      "outputs": [
        {
          "output_type": "display_data",
          "data": {
            "image/png": "[encoded data removed]",
            "text/plain": [
              "<Figure size 1800x288 with 20 Axes>"
            ]
          },
          "metadata": {
            "tags": []
          }
        }
      ]
    },
    {
      "cell_type": "markdown",
      "metadata": {
        "id": "ctjRsETiO1qO"
      },
      "source": [
        "## Partitioning the Data (IID and non-IID)"
      ]
    },
    {
      "cell_type": "code",
      "metadata": {
        "id": "3_v8lyrgO5dD"
      },
      "source": [
        "def iid_partition(dataset, clients):\n",
        "  \"\"\"\n",
        "  I.I.D paritioning of data over clients\n",
        "  Shuffle the data\n",
        "  Split it between clients\n",
        "  \n",
        "  params:\n",
        "    - dataset (torch.utils.Dataset): Dataset containing the MNIST Images\n",
        "    - clients (int): Number of Clients to split the data between\n",
        "\n",
        "  returns:\n",
        "    - Dictionary of image indexes for each client\n",
        "  \"\"\"\n",
        "\n",
        "  num_items_per_client = int(len(dataset)/clients)\n",
        "  client_dict = {}\n",
        "  image_idxs = [i for i in range(len(dataset))]\n",
        "\n",
        "  for i in range(clients):\n",
        "    client_dict[i] = set(np.random.choice(image_idxs, num_items_per_client, replace=False))\n",
        "    image_idxs = list(set(image_idxs) - client_dict[i])\n",
        "\n",
        "  return client_dict"
      ],
      "execution_count": 91,
      "outputs": []
    },
    {
      "cell_type": "code",
      "metadata": {
        "id": "4zMdliGMQoSl"
      },
      "source": [
        "def non_iid_partition(dataset, clients, total_shards, shards_size, num_shards_per_client):\n",
        "  \"\"\"\n",
        "  non I.I.D parititioning of data over clients\n",
        "  Sort the data by the digit label\n",
        "  Divide the data into N shards of size S\n",
        "  Each of the clients will get X shards\n",
        "\n",
        "  params:\n",
        "    - dataset (torch.utils.Dataset): Dataset containing the MNIST Images\n",
        "    - clients (int): Number of Clients to split the data between\n",
        "    - total_shards (int): Number of shards to partition the data in\n",
        "    - shards_size (int): Size of each shard \n",
        "    - num_shards_per_client (int): Number of shards of size shards_size that each client receives\n",
        "\n",
        "  returns:\n",
        "    - Dictionary of image indexes for each client\n",
        "  \"\"\"\n",
        "  \n",
        "  shard_idxs = [i for i in range(total_shards)]\n",
        "  client_dict = {i: np.array([], dtype='int64') for i in range(clients)}\n",
        "  idxs = np.arange(len(dataset))\n",
        "  data_labels = dataset.targets.numpy()\n",
        "\n",
        "  # sort the labels\n",
        "  label_idxs = np.vstack((idxs, data_labels))\n",
        "  label_idxs = label_idxs[:, label_idxs[1,:].argsort()]\n",
        "  idxs = label_idxs[0,:]\n",
        "\n",
        "  # divide the data into total_shards of size shards_size\n",
        "  # assign num_shards_per_client to each client\n",
        "  for i in range(clients):\n",
        "    rand_set = set(np.random.choice(shard_idxs, num_shards_per_client, replace=False))\n",
        "    shard_idxs = list(set(shard_idxs) - rand_set)\n",
        "\n",
        "    for rand in rand_set:\n",
        "      client_dict[i] = np.concatenate((client_dict[i], idxs[rand*shards_size:(rand+1)*shards_size]), axis=0)\n",
        "  \n",
        "  return client_dict\n",
        "\n",
        "\n",
        "\n"
      ],
      "execution_count": 92,
      "outputs": []
    },
    {
      "cell_type": "markdown",
      "metadata": {
        "id": "PTfxv8kFoGAy"
      },
      "source": [
        "## Models"
      ]
    },
    {
      "cell_type": "code",
      "metadata": {
        "id": "CvoDNFKbZST5"
      },
      "source": [
        "class MNIST_2NN(nn.Module):\n",
        "  \"\"\"\n",
        "  A simple multilayer-perceptron with 2-hidden layers with 200 units each\n",
        "  using ReLu activations\n",
        "\n",
        "  Total Expected Params: 199,210\n",
        "  \"\"\"\n",
        "  def __init__(self):\n",
        "    super(MNIST_2NN, self).__init__()\n",
        "\n",
        "    self.fc1 = nn.Linear(28*28, 200)\n",
        "    self.fc2 = nn.Linear(200, 200)\n",
        "    self.fc3 = nn.Linear(200, 10)\n",
        "\n",
        "  def forward(self, x):\n",
        "    x = torch.flatten(x, 1)\n",
        "    x = F.relu(self.fc1(x))\n",
        "    x = F.relu(self.fc2(x))\n",
        "    out = self.fc3(x)\n",
        "\n",
        "    return x"
      ],
      "execution_count": 93,
      "outputs": []
    },
    {
      "cell_type": "code",
      "metadata": {
        "id": "ut1hZ8x3qYPZ"
      },
      "source": [
        "class MNIST_CNN(nn.Module):\n",
        "  \"\"\"\n",
        "  CNN with two 5x5 convolution lauers(the first with 32 channels, second with 64,\n",
        "  each followed with 2x2 max pooling), a fully connected layer with 512 uunits and \n",
        "  ReLu activation, and the final Softmax output layer\n",
        "\n",
        "  Total Expected Params: 1,663,370\n",
        "  \"\"\"\n",
        "  def __init__(self):\n",
        "    super(MNIST_CNN, self).__init__()\n",
        "\n",
        "    self.conv1 = nn.Conv2d(1, 32, kernel_size=5)\n",
        "    self.conv2 = nn.Conv2d(32, 64, kernel_size=5)\n",
        "    \n",
        "    self.pool = nn.MaxPool2d(2,2)\n",
        "    self.dropout = nn.Dropout(p=0.2)\n",
        "\n",
        "    self.fc1 = nn.Linear(1024, 512)\n",
        "    self.out = nn.Linear(512, 10)\n",
        "\n",
        "  def forward(self, x):\n",
        "    x = self.pool(F.relu(self.conv1(x)))\n",
        "    x = self.pool(F.relu(self.conv2(x)))\n",
        "    x = self.dropout(x)\n",
        "    x = torch.flatten(x, 1)\n",
        "    x = F.relu(self.fc1(x))\n",
        "    x = self.out(x)\n",
        "    out = F.log_softmax(x, dim=1)\n",
        "\n",
        "    return out"
      ],
      "execution_count": 94,
      "outputs": []
    },
    {
      "cell_type": "markdown",
      "metadata": {
        "id": "uVv4HA9HuLtr"
      },
      "source": [
        "### Print Model Summaries"
      ]
    },
    {
      "cell_type": "code",
      "metadata": {
        "colab": {
          "base_uri": "https://localhost:8080/"
        },
        "id": "I5oTH710sJEt",
        "outputId": "0dcf3f47-e6ed-4ad7-8312-cba7aff1d1b9"
      },
      "source": [
        "mnist_mlp = MNIST_2NN()\n",
        "mnist_cnn = MNIST_CNN()\n",
        "\n",
        "if torch.cuda.is_available():\n",
        "  mnist_mlp.cuda()\n",
        "  mnist_cnn.cuda()\n",
        "\n",
        "print(\"MNIST MLP SUMMARY\")\n",
        "print(summary(mnist_mlp, (28,28)))\n",
        "\n",
        "print(\"\\nMNIST CNN SUMMARY\")\n",
        "print(summary(mnist_cnn, (1, 28,28)))"
      ],
      "execution_count": 95,
      "outputs": [
        {
          "output_type": "stream",
          "text": [
            "MNIST MLP SUMMARY\n",
            "----------------------------------------------------------------\n",
            "        Layer (type)               Output Shape         Param #\n",
            "================================================================\n",
            "            Linear-1                  [-1, 200]         157,000\n",
            "            Linear-2                  [-1, 200]          40,200\n",
            "            Linear-3                   [-1, 10]           2,010\n",
            "================================================================\n",
            "Total params: 199,210\n",
            "Trainable params: 199,210\n",
            "Non-trainable params: 0\n",
            "----------------------------------------------------------------\n",
            "Input size (MB): 0.00\n",
            "Forward/backward pass size (MB): 0.00\n",
            "Params size (MB): 0.76\n",
            "Estimated Total Size (MB): 0.77\n",
            "----------------------------------------------------------------\n",
            "None\n",
            "\n",
            "MNIST CNN SUMMARY\n",
            "----------------------------------------------------------------\n",
            "        Layer (type)               Output Shape         Param #\n",
            "================================================================\n",
            "            Conv2d-1           [-1, 32, 24, 24]             832\n",
            "         MaxPool2d-2           [-1, 32, 12, 12]               0\n",
            "            Conv2d-3             [-1, 64, 8, 8]          51,264\n",
            "         MaxPool2d-4             [-1, 64, 4, 4]               0\n",
            "           Dropout-5             [-1, 64, 4, 4]               0\n",
            "            Linear-6                  [-1, 512]         524,800\n",
            "            Linear-7                   [-1, 10]           5,130\n",
            "================================================================\n",
            "Total params: 582,026\n",
            "Trainable params: 582,026\n",
            "Non-trainable params: 0\n",
            "----------------------------------------------------------------\n",
            "Input size (MB): 0.00\n",
            "Forward/backward pass size (MB): 0.23\n",
            "Params size (MB): 2.22\n",
            "Estimated Total Size (MB): 2.45\n",
            "----------------------------------------------------------------\n",
            "None\n"
          ],
          "name": "stdout"
        }
      ]
    },
    {
      "cell_type": "markdown",
      "metadata": {
        "id": "JYXicM_FjSv6"
      },
      "source": [
        "## FedProx"
      ]
    },
    {
      "cell_type": "markdown",
      "metadata": {
        "id": "cjGMTWxAOsf1"
      },
      "source": [
        "### Systems Heterogeneity Simulations\n",
        "\n",
        "Generate epochs for selected clients based on percentage of devices that corresponds to heterogeneity. \n",
        "\n",
        "Assign x number of epochs (chosen unifirmly at random between [1, E]) to 0%, 50% or 90% of the selected devices, respectively. Settings where 0% devices perform fewer than E epochs of work correspond to the environments without system heterogeneity, while 90% of the devices sending their partial solutions corresponds to highly heterogenous system."
      ]
    },
    {
      "cell_type": "code",
      "metadata": {
        "id": "i-WTHuT3OpFD"
      },
      "source": [
        "def GenerateLocalEpochs(percentage, size, max_epochs):\n",
        "  ''' Method generates list of epochs for selected clients\n",
        "  to replicate system heteroggeneity\n",
        "\n",
        "  Params:\n",
        "    percentage: percentage of clients to have fewer than E epochs\n",
        "    size:       total size of the list\n",
        "    max_epochs: maximum value for local epochs\n",
        "  \n",
        "  Returns:\n",
        "    List of size epochs for each Client Update\n",
        "\n",
        "  '''\n",
        "\n",
        "  # if percentage is 0 then each client runs for E epochs\n",
        "  if percentage == 0:\n",
        "      return np.array([max_epochs]*size)\n",
        "  else:\n",
        "    # get the number of clients to have fewer than E epochs\n",
        "    heterogenous_size = int((percentage/100) * size)\n",
        "\n",
        "    # generate random uniform epochs of heterogenous size between 1 and E\n",
        "    epoch_list = np.random.randint(1, max_epochs, heterogenous_size)\n",
        "\n",
        "    # the rest of the clients will have E epochs\n",
        "    remaining_size = size - heterogenous_size\n",
        "    rem_list = [max_epochs]*remaining_size\n",
        "\n",
        "    epoch_list = np.append(epoch_list, rem_list, axis=0)\n",
        "    \n",
        "    # shuffle the list and return\n",
        "    np.random.shuffle(epoch_list)\n",
        "\n",
        "    return epoch_list"
      ],
      "execution_count": 96,
      "outputs": []
    },
    {
      "cell_type": "markdown",
      "metadata": {
        "id": "gf_8XEXa-gZ7"
      },
      "source": [
        "## Federated Averaging"
      ]
    },
    {
      "cell_type": "markdown",
      "metadata": {
        "id": "L-aNdQsQ-Kvp"
      },
      "source": [
        "### Local Training (Client Update)\n",
        "\n",
        "Local training for the model on client side"
      ]
    },
    {
      "cell_type": "code",
      "metadata": {
        "id": "oX6OsQyO-Gz7"
      },
      "source": [
        "class CustomDataset(Dataset):\n",
        "  def __init__(self, dataset, idxs):\n",
        "      self.dataset = dataset\n",
        "      self.idxs = list(idxs)\n",
        "\n",
        "  def __len__(self):\n",
        "      return len(self.idxs)\n",
        "\n",
        "  def __getitem__(self, item):\n",
        "      image, label = self.dataset[self.idxs[item]]\n",
        "      return image, label\n",
        "\n",
        "\n",
        "class ClientUpdate(object):\n",
        "  def __init__(self, dataset, batchSize, learning_rate, epochs, idxs, mu, algorithm):\n",
        "    self.train_loader = DataLoader(CustomDataset(dataset, idxs), batch_size=batchSize, shuffle=True)\n",
        "    self.algorithm = algorithm\n",
        "    self.learning_rate = learning_rate\n",
        "    self.epochs = epochs\n",
        "\n",
        "  def train(self, model):\n",
        "    criterion = nn.CrossEntropyLoss()\n",
        "    proximal_criterion = nn.MSELoss(reduction='mean')\n",
        "    optimizer = torch.optim.SGD(model.parameters(), lr=self.learning_rate, momentum=0.5)\n",
        "\n",
        "    # use the weights of global model for proximal term calculation\n",
        "    global_model = copy.deepcopy(model)\n",
        "\n",
        "    # calculate local training time\n",
        "    start_time = time.time()\n",
        "\n",
        "\n",
        "    e_loss = []\n",
        "    for epoch in range(1, self.epochs+1):\n",
        "\n",
        "      train_loss = 0.0\n",
        "\n",
        "      model.train()\n",
        "      for data, labels in self.train_loader:\n",
        "\n",
        "        if torch.cuda.is_available():\n",
        "          data, labels = data.cuda(), labels.cuda()\n",
        "\n",
        "        # clear the gradients\n",
        "        optimizer.zero_grad()\n",
        "        # make a forward pass\n",
        "        output = model(data)\n",
        "\n",
        "        # calculate the loss + the proximal term\n",
        "        _, pred = torch.max(output, 1)\n",
        "\n",
        "        if self.algorithm == 'fedprox':\n",
        "          proximal_term = 0.0\n",
        "\n",
        "          # iterate through the current and global model parameters\n",
        "          for w, w_t in zip(model.parameters(), global_model.parameters()) :\n",
        "            # update the proximal term \n",
        "            #proximal_term += torch.sum(torch.abs((w-w_t)**2))\n",
        "            proximal_term += (w-w_t).norm(2)\n",
        "\n",
        "          loss = criterion(output, labels) + (mu/2)*proximal_term\n",
        "        else:\n",
        "          loss = criterion(output, labels)\n",
        "    \n",
        "        # do a backwards pass\n",
        "        loss.backward()\n",
        "        # perform a single optimization step\n",
        "        optimizer.step()\n",
        "        # update training loss\n",
        "        train_loss += loss.item()*data.size(0)\n",
        "\n",
        "      # average losses\n",
        "      train_loss = train_loss/len(self.train_loader.dataset)\n",
        "      e_loss.append(train_loss)\n",
        "\n",
        "    total_loss = sum(e_loss)/len(e_loss)\n",
        "\n",
        "    return model.state_dict(), total_loss, (time.time() - start_time)"
      ],
      "execution_count": 97,
      "outputs": []
    },
    {
      "cell_type": "markdown",
      "metadata": {
        "id": "Ukgh1DVHE2Ds"
      },
      "source": [
        "### Server Side Training\n",
        "\n",
        "Following Algorithm 1 from the paper"
      ]
    },
    {
      "cell_type": "code",
      "metadata": {
        "id": "1NF1e33BgpeL"
      },
      "source": [
        "def training(model, rounds, batch_size, lr, ds, ds_test, data_dict, C, K, E, mu, percentage, plt_title, plt_color, target_test_accuracy, algorithm=\"fedprox\"):\n",
        "  \"\"\"\n",
        "  Function implements the Federated Averaging Algorithm from the FedAvg paper.\n",
        "  Specifically, this function is used for the server side training and weight update\n",
        "\n",
        "  Params:\n",
        "    - model:           PyTorch model to train\n",
        "    - rounds:          Number of communication rounds for the client update\n",
        "    - batch_size:      Batch size for client update training\n",
        "    - lr:              Learning rate used for client update training\n",
        "    - ds:              Dataset used for training\n",
        "    - ds_test:         Dataset used for testing\n",
        "    - data_dict:       Type of data partition used for training (IID or non-IID)\n",
        "    - C:               Fraction of clients randomly chosen to perform computation on each round\n",
        "    - K:               Total number of clients\n",
        "    - E:               Number of training passes each client makes over its local dataset per round\n",
        "    - tb_writer_name:  Directory name to save the tensorboard logs\n",
        "  Returns:\n",
        "    - model:           Trained model on the server\n",
        "  \"\"\"\n",
        "\n",
        "  # global model weights\n",
        "  global_weights = model.state_dict()\n",
        "\n",
        "  # training loss\n",
        "  # train_accuracy = []\n",
        "  train_loss = []\n",
        "  test_accuracy = []\n",
        "  test_loss = []\n",
        "\n",
        "  # store last loss for convergence\n",
        "  last_loss = 0.0\n",
        "\n",
        "  # total time taken \n",
        "  total_time = 0\n",
        "  start = time.time()\n",
        "    \n",
        "  print(f\"System heterogeneity set to {percentage}% stragglers.\\n\")\n",
        "  print(f\"Picking {max(int(C*K),1 )} random clients per round.\\n\")\n",
        "\n",
        "  for curr_round in range(1, rounds+1):\n",
        "    w, local_loss, lst_local_train_time = [], [], []\n",
        "\n",
        "    m = max(int(C*K), 1)\n",
        "\n",
        "    heterogenous_epoch_list = GenerateLocalEpochs(percentage, size=m, max_epochs=E)\n",
        "    heterogenous_epoch_list = np.array(heterogenous_epoch_list)\n",
        "\n",
        "    S_t = np.random.choice(range(K), m, replace=False)\n",
        "    S_t = np.array(S_t)\n",
        "    \n",
        "    # For Federated Averaging, drop all the clients that are stragglers\n",
        "    if algorithm == 'fedavg':\n",
        "      stragglers_indices = np.argwhere(heterogenous_epoch_list < E)\n",
        "      heterogenous_epoch_list = np.delete(heterogenous_epoch_list, stragglers_indices)\n",
        "      S_t = np.delete(S_t, stragglers_indices)\n",
        "\n",
        "    for k, epoch in zip(S_t, heterogenous_epoch_list):\n",
        "      local_update = ClientUpdate(dataset=ds, batchSize=batch_size, learning_rate=lr, epochs=epoch, idxs=data_dict[k], mu=mu, algorithm=algorithm)\n",
        "      weights, loss, local_train_time = local_update.train(model=copy.deepcopy(model))\n",
        "\n",
        "      w.append(copy.deepcopy(weights))\n",
        "      local_loss.append(copy.deepcopy(loss))\n",
        "      lst_local_train_time.append(local_train_time)\n",
        "\n",
        "    # calculate time to update the global weights\n",
        "    global_start_time = time.time()\n",
        "\n",
        "    # updating the global weights\n",
        "    weights_avg = copy.deepcopy(w[0])\n",
        "    for k in weights_avg.keys():\n",
        "      for i in range(1, len(w)):\n",
        "        weights_avg[k] += w[i][k]\n",
        "\n",
        "      weights_avg[k] = torch.div(weights_avg[k], len(w))\n",
        "\n",
        "    global_weights = weights_avg\n",
        "    global_end_time = time.time()\n",
        "\n",
        "    # calculate total time \n",
        "    total_time += (global_end_time - global_start_time) + sum(lst_local_train_time)/len(lst_local_train_time)\n",
        "\n",
        "    # move the updated weights to our model state dict\n",
        "    model.load_state_dict(global_weights)\n",
        "\n",
        "    # loss\n",
        "    loss_avg = sum(local_loss) / len(local_loss)\n",
        "\n",
        "    # test accuracy\n",
        "    criterion = nn.CrossEntropyLoss()\n",
        "    test_accuracy_current, test_loss_current = testing(copy.deepcopy(model), ds_test, 128, criterion, num_classes, classes_test)\n",
        "    test_accuracy.append(test_accuracy_current)\n",
        "    test_loss.append(test_loss_current)\n",
        "\n",
        "    print(f\"Round: {curr_round}... \\tAverage Train Loss: {round(loss_avg, 3)}... \\tTest Loss: {test_loss_current}... \\tTest Accuracy: {test_accuracy_current}\")\n",
        "    train_loss.append(loss_avg)\n",
        "\n",
        "#     # break if we achieve the target test accuracy\n",
        "#     if test_accuracy_current >= target_test_accuracy:\n",
        "#       rounds = curr_round\n",
        "#       break\n",
        "\n",
        "    # # break if we achieve convergence, i.e., loss between two consecutive rounds is <0.0001\n",
        "    # if algorithm == 'fedprox' and abs(loss_avg - last_loss) < 0.0001:\n",
        "    #   rounds = curr_round\n",
        "    #   break\n",
        "    \n",
        "    # update the last loss\n",
        "    last_loss = loss_avg\n",
        "\n",
        "  end = time.time()\n",
        "\n",
        "  # plot train loss\n",
        "  fig, ax = plt.subplots()\n",
        "  x_axis = np.arange(1, rounds+1)\n",
        "  y_axis = np.array(train_loss)\n",
        "  ax.plot(x_axis, y_axis)\n",
        "\n",
        "  ax.set(xlabel='Number of Rounds', ylabel='Train Loss', title=plt_title)\n",
        "  ax.grid()\n",
        "  fig.savefig(plt_title+'_Train_loss.jpg', format='jpg')\n",
        "  plt.show()\n",
        "\n",
        "  fig, ax = plt.subplots()\n",
        "  x_axis = np.arange(1, rounds+1)\n",
        "  y_axis = np.array(test_loss)\n",
        "  ax.plot(x_axis, y_axis, 'tab:'+plt_color)\n",
        "\n",
        "  ax.set(xlabel='Number of Rounds', ylabel='Test Loss', title=plt_title)\n",
        "  ax.grid()\n",
        "  fig.savefig(plt_title+'_Test_loss.jpg', format='jpg')\n",
        "  plt.show()\n",
        "\n",
        "\n",
        "  fig, ax = plt.subplots()\n",
        "  x_axis = np.arange(1, rounds+1)\n",
        "  y_axis = np.array(test_accuracy)\n",
        "  ax.plot(x_axis, y_axis, 'tab:'+plt_color)\n",
        "\n",
        "  ax.set(xlabel='Number of Rounds', ylabel='Test Accuracy', title=plt_title)\n",
        "  ax.grid()\n",
        "  fig.savefig(plt_title+'_Test_Accuracy.jpg', format='jpg')\n",
        "  plt.show()\n",
        "  \n",
        "  print(\"Training Done!\")\n",
        "  print(\"Total time taken to Train: {}\\n\\n\".format(end-start))\n",
        "  \n",
        "  return model, train_loss, test_accuracy, test_loss"
      ],
      "execution_count": 98,
      "outputs": []
    },
    {
      "cell_type": "markdown",
      "metadata": {
        "id": "tUYyb4T-uXmF"
      },
      "source": [
        "## Testing Loop"
      ]
    },
    {
      "cell_type": "code",
      "metadata": {
        "id": "uCcIZmO5uan9"
      },
      "source": [
        "def testing(model, dataset, bs, criterion, num_classes, classes, print_info=False):\n",
        "  #test loss \n",
        "  test_loss = 0.0\n",
        "  correct_class = list(0. for i in range(num_classes))\n",
        "  total_class = list(0. for i in range(num_classes))\n",
        "\n",
        "  test_loader = DataLoader(dataset, batch_size=bs)\n",
        "  l = len(test_loader)\n",
        "  model.eval()\n",
        "  for data, labels in test_loader:\n",
        "\n",
        "    if torch.cuda.is_available():\n",
        "      data, labels = data.cuda(), labels.cuda()\n",
        "\n",
        "    output = model(data)\n",
        "    loss = criterion(output, labels)\n",
        "    test_loss += loss.item()*data.size(0)\n",
        "\n",
        "    _, pred = torch.max(output, 1)\n",
        "\n",
        "    correct_tensor = pred.eq(labels.data.view_as(pred))\n",
        "    correct = np.squeeze(correct_tensor.numpy()) if not torch.cuda.is_available() else np.squeeze(correct_tensor.cpu().numpy())\n",
        "\n",
        "    #test accuracy for each object class\n",
        "    for i in range(num_classes):\n",
        "      label = labels.data[i]\n",
        "      correct_class[label] += correct[i].item()\n",
        "      total_class[label] += 1\n",
        "    \n",
        "  # avg test loss\n",
        "  test_loss = test_loss/len(test_loader.dataset)\n",
        "  test_accuracy = 100. * np.sum(correct_class) / np.sum(total_class)\n",
        "\n",
        "  if print_info:\n",
        "    print(\"Test Loss: {:.6f}\\n\".format(test_loss))\n",
        "\n",
        "    for i in range(10):\n",
        "      if total_class[i]>0:\n",
        "        print('Test Accuracy of %5s: %2d%% (%2d/%2d)' % \n",
        "              (classes[i], 100 * correct_class[i] / total_class[i],\n",
        "              np.sum(correct_class[i]), np.sum(total_class[i])))\n",
        "      else:\n",
        "        print('Test Accuracy of %5s: N/A (no training examples)' % (classes[i]))\n",
        "\n",
        "    print('\\nFinal Test  Accuracy: {:.3f} ({}/{})'.format(\n",
        "          100. * np.sum(correct_class) / np.sum(total_class),\n",
        "          np.sum(correct_class), np.sum(total_class)))\n",
        "  \n",
        "  return test_accuracy, test_loss"
      ],
      "execution_count": 99,
      "outputs": []
    },
    {
      "cell_type": "markdown",
      "metadata": {
        "id": "Ri0FqXFeHW-V"
      },
      "source": [
        "## Logger"
      ]
    },
    {
      "cell_type": "code",
      "metadata": {
        "id": "thZm2kSiHT4v"
      },
      "source": [
        "log_dict = {}\n",
        "NUM_REPEAT = 1"
      ],
      "execution_count": 100,
      "outputs": []
    },
    {
      "cell_type": "markdown",
      "metadata": {
        "id": "4hO5oV6aXqeh"
      },
      "source": [
        "## MNIST CNN on IID"
      ]
    },
    {
      "cell_type": "markdown",
      "metadata": {
        "id": "flSQv_P4zCfx"
      },
      "source": [
        "### Train\n"
      ]
    },
    {
      "cell_type": "code",
      "metadata": {
        "id": "0ZalcKZtEseA"
      },
      "source": [
        "# train_loss_multiple_runs = [None] * NUM_REPEAT\n",
        "# test_accuracy_multiple_runs = [None] * NUM_REPEAT\n",
        "# test_loss_multiple_runs = [None] * NUM_REPEAT\n",
        "\n",
        "# for exp_num in range(NUM_REPEAT):\n",
        "#   print(\"Experiment Run Number: \", exp_num)\n",
        "\n",
        "#   # number of training rounds\n",
        "#   rounds = 50\n",
        "#   # client fraction\n",
        "#   C = 0.1\n",
        "#   # number of clients\n",
        "#   K = 100\n",
        "#   # number of training passes on local dataset for each roung\n",
        "#   E = 5\n",
        "#   # batch size\n",
        "#   batch_size = 10\n",
        "#   # learning Rate\n",
        "#   lr = 0.05\n",
        "#   # proximal term constant\n",
        "#   mu = 0.01\n",
        "#   # percentage of clients to have fewer than E epochs\n",
        "#   percentage = 50\n",
        "\n",
        "#   # target_test_accuracy\n",
        "#   target_test_accuracy=99.0\n",
        "#   # data partition dictionary\n",
        "#   iid_dict = iid_partition(mnist_data_train, 100)\n",
        "#   # load model\n",
        "#   mnist_cnn = MNIST_CNN()\n",
        "\n",
        "#   if torch.cuda.is_available():\n",
        "#     mnist_cnn.cuda()\n",
        "\n",
        "#   mnist_cnn_iid_trained, train_loss, test_accuracy, test_loss = training(mnist_cnn, rounds, batch_size, lr, mnist_data_train, mnist_data_test, iid_dict, C, K, E, mu, percentage, \"MNIST CNN on IID Dataset\", \"orange\", target_test_accuracy)\n",
        "\n",
        "#   train_loss_multiple_runs[exp_num] = train_loss\n",
        "#   test_accuracy_multiple_runs[exp_num] = test_accuracy\n",
        "#   test_loss_multiple_runs[exp_num] = test_loss"
      ],
      "execution_count": 101,
      "outputs": []
    },
    {
      "cell_type": "markdown",
      "metadata": {
        "id": "wNwC82przF6G"
      },
      "source": [
        "### Test"
      ]
    },
    {
      "cell_type": "code",
      "metadata": {
        "id": "qB97BFs9we9w",
        "colab": {
          "base_uri": "https://localhost:8080/"
        },
        "outputId": "2933834c-ff8b-4e5a-d670-022af0537ef9"
      },
      "source": [
        "criterion = nn.CrossEntropyLoss()\n",
        "acc, loss = testing(mnist_cnn_iid_trained, mnist_data_test, 128, criterion, num_classes, classes_test, True)"
      ],
      "execution_count": 102,
      "outputs": [
        {
          "output_type": "stream",
          "text": [
            "Test Loss: 0.091998\n",
            "\n",
            "Test Accuracy of     0: 97% (74/76)\n",
            "Test Accuracy of     1: 98% (89/90)\n",
            "Test Accuracy of     2: 97% (89/91)\n",
            "Test Accuracy of     3: 98% (72/73)\n",
            "Test Accuracy of     4: 100% (89/89)\n",
            "Test Accuracy of     5: 97% (66/68)\n",
            "Test Accuracy of     6: 96% (60/62)\n",
            "Test Accuracy of     7: 98% (80/81)\n",
            "Test Accuracy of     8: 98% (76/77)\n",
            "Test Accuracy of     9: 97% (81/83)\n",
            "\n",
            "Final Test  Accuracy: 98.228 (776.0/790.0)\n"
          ],
          "name": "stdout"
        }
      ]
    },
    {
      "cell_type": "code",
      "metadata": {
        "id": "gdQZEZmHHeqt"
      },
      "source": [
        "hyperparams = {'rounds': rounds,\n",
        "               'C': C,\n",
        "               'K': K,\n",
        "               'E': E,\n",
        "               'batch_size': batch_size,\n",
        "               'lr': lr,\n",
        "               'mu': mu,\n",
        "               'percentage': percentage,\n",
        "               'target_test_accuracy': target_test_accuracy,\n",
        "               }\n",
        "\n",
        "log_dict['MNIST CNN on IID'] = {'train_loss': train_loss_multiple_runs, \n",
        "                                'test_loss': test_loss_multiple_runs, \n",
        "                                'test_accuracy': test_accuracy_multiple_runs,\n",
        "                                'hyperparams': hyperparams,\n",
        "                                }"
      ],
      "execution_count": 103,
      "outputs": []
    },
    {
      "cell_type": "markdown",
      "metadata": {
        "id": "uF8MdSIUYcnl"
      },
      "source": [
        "## MNIST CNN on Non IID"
      ]
    },
    {
      "cell_type": "markdown",
      "metadata": {
        "id": "a6wXX7JW11bx"
      },
      "source": [
        "### Train\n"
      ]
    },
    {
      "cell_type": "code",
      "metadata": {
        "id": "fCD3kBCKYfBK",
        "colab": {
          "base_uri": "https://localhost:8080/",
          "height": 1000
        },
        "outputId": "7815911c-f835-473e-f4ff-926b3e449d0c"
      },
      "source": [
        "train_loss_multiple_runs = [None] * NUM_REPEAT\n",
        "test_accuracy_multiple_runs = [None] * NUM_REPEAT\n",
        "test_loss_multiple_runs = [None] * NUM_REPEAT\n",
        "\n",
        "for exp_num in range(NUM_REPEAT):\n",
        "  print(\"Experiment Run Number: \", exp_num)\n",
        "\n",
        "  # number of training rounds\n",
        "  rounds = 50\n",
        "  # client fraction\n",
        "  C = 0.1\n",
        "  # number of clients\n",
        "  K = 100\n",
        "  # number of training passes on local dataset for each roung\n",
        "  E = 5\n",
        "  # batch size\n",
        "  batch_size = 10\n",
        "  # learning Rate\n",
        "  lr=0.05\n",
        "  # proximal term constant\n",
        "  mu = 0.01\n",
        "  # percentage of clients to have fewer than E epochs\n",
        "  percentage = 50\n",
        "  # target_test_accuracy\n",
        "  target_test_accuracy=99.0\n",
        "\n",
        "  # dict containing different type of data partition\n",
        "  data_dict = non_iid_partition(mnist_data_train, 100, 200, 300, 2)\n",
        "  # load model\n",
        "  mnist_cnn = MNIST_CNN()\n",
        "\n",
        "  if torch.cuda.is_available():\n",
        "    mnist_cnn.cuda()\n",
        "\n",
        "  mnist_cnn_non_iid_trained, train_loss, test_accuracy, test_loss = training(mnist_cnn, rounds, batch_size, lr, mnist_data_train, mnist_data_test, data_dict, C, K, E,mu, percentage, \"MNIST CNN on Non-IID Dataset\", \"green\", target_test_accuracy)\n",
        "\n",
        "  train_loss_multiple_runs[exp_num] = train_loss\n",
        "  test_accuracy_multiple_runs[exp_num] = test_accuracy\n",
        "  test_loss_multiple_runs[exp_num] = test_loss"
      ],
      "execution_count": 104,
      "outputs": [
        {
          "output_type": "stream",
          "text": [
            "Experiment Run Number:  0\n",
            "System heterogeneity set to 50% stragglers.\n",
            "\n",
            "Picking 10 random clients per round.\n",
            "\n",
            "Round: 1... \tAverage Train Loss: 0.206... \tTest Loss: 2.2393232456207275... \tTest Accuracy: 20.126582278481013\n",
            "Round: 2... \tAverage Train Loss: 0.121... \tTest Loss: 1.8308488159179688... \tTest Accuracy: 47.21518987341772\n",
            "Round: 3... \tAverage Train Loss: 0.052... \tTest Loss: 1.3781363552093506... \tTest Accuracy: 55.31645569620253\n",
            "Round: 4... \tAverage Train Loss: 0.049... \tTest Loss: 1.0962274622917176... \tTest Accuracy: 60.63291139240506\n",
            "Round: 5... \tAverage Train Loss: 0.055... \tTest Loss: 0.9561405333518982... \tTest Accuracy: 69.36708860759494\n",
            "Round: 6... \tAverage Train Loss: 0.059... \tTest Loss: 0.5463479833126068... \tTest Accuracy: 86.70886075949367\n",
            "Round: 7... \tAverage Train Loss: 0.043... \tTest Loss: 0.7256753497123718... \tTest Accuracy: 76.58227848101266\n",
            "Round: 8... \tAverage Train Loss: 0.044... \tTest Loss: 0.39319041018486023... \tTest Accuracy: 88.22784810126582\n",
            "Round: 9... \tAverage Train Loss: 0.059... \tTest Loss: 0.3583714631319046... \tTest Accuracy: 89.24050632911393\n",
            "Round: 10... \tAverage Train Loss: 0.024... \tTest Loss: 0.29513777333498004... \tTest Accuracy: 89.49367088607595\n",
            "Round: 11... \tAverage Train Loss: 0.049... \tTest Loss: 0.4725658107757568... \tTest Accuracy: 81.0126582278481\n",
            "Round: 12... \tAverage Train Loss: 0.037... \tTest Loss: 0.4617213268756866... \tTest Accuracy: 80.88607594936708\n",
            "Round: 13... \tAverage Train Loss: 0.033... \tTest Loss: 0.22713426762819292... \tTest Accuracy: 91.13924050632912\n",
            "Round: 14... \tAverage Train Loss: 0.026... \tTest Loss: 0.22308618733882904... \tTest Accuracy: 92.27848101265823\n",
            "Round: 15... \tAverage Train Loss: 0.025... \tTest Loss: 0.14820063301324846... \tTest Accuracy: 94.9367088607595\n",
            "Round: 16... \tAverage Train Loss: 0.029... \tTest Loss: 0.15554663777947425... \tTest Accuracy: 93.79746835443038\n",
            "Round: 17... \tAverage Train Loss: 0.021... \tTest Loss: 0.11959624909460545... \tTest Accuracy: 95.69620253164557\n",
            "Round: 18... \tAverage Train Loss: 0.022... \tTest Loss: 0.17618015402555465... \tTest Accuracy: 93.16455696202532\n",
            "Round: 19... \tAverage Train Loss: 0.015... \tTest Loss: 0.1366730714738369... \tTest Accuracy: 95.82278481012658\n",
            "Round: 20... \tAverage Train Loss: 0.03... \tTest Loss: 0.1315945207476616... \tTest Accuracy: 96.20253164556962\n",
            "Round: 21... \tAverage Train Loss: 0.022... \tTest Loss: 0.09827410466969014... \tTest Accuracy: 96.9620253164557\n",
            "Round: 22... \tAverage Train Loss: 0.021... \tTest Loss: 0.13119518747329711... \tTest Accuracy: 95.31645569620254\n",
            "Round: 23... \tAverage Train Loss: 0.025... \tTest Loss: 0.14251780327558516... \tTest Accuracy: 94.9367088607595\n",
            "Round: 24... \tAverage Train Loss: 0.028... \tTest Loss: 0.1223598255932331... \tTest Accuracy: 96.07594936708861\n",
            "Round: 25... \tAverage Train Loss: 0.033... \tTest Loss: 0.11740856983661652... \tTest Accuracy: 95.69620253164557\n",
            "Round: 26... \tAverage Train Loss: 0.025... \tTest Loss: 0.1233138492077589... \tTest Accuracy: 95.56962025316456\n",
            "Round: 27... \tAverage Train Loss: 0.02... \tTest Loss: 0.08552317554056645... \tTest Accuracy: 96.70886075949367\n",
            "Round: 28... \tAverage Train Loss: 0.023... \tTest Loss: 0.08115319629460573... \tTest Accuracy: 96.9620253164557\n",
            "Round: 29... \tAverage Train Loss: 0.021... \tTest Loss: 0.08391054915413261... \tTest Accuracy: 97.0886075949367\n",
            "Round: 30... \tAverage Train Loss: 0.024... \tTest Loss: 0.07823271725028753... \tTest Accuracy: 97.9746835443038\n",
            "Round: 31... \tAverage Train Loss: 0.013... \tTest Loss: 0.06778093484342099... \tTest Accuracy: 97.84810126582279\n",
            "Round: 32... \tAverage Train Loss: 0.023... \tTest Loss: 0.08918848792612552... \tTest Accuracy: 97.21518987341773\n",
            "Round: 33... \tAverage Train Loss: 0.03... \tTest Loss: 0.06544372894726694... \tTest Accuracy: 97.59493670886076\n",
            "Round: 34... \tAverage Train Loss: 0.012... \tTest Loss: 0.07909797803089022... \tTest Accuracy: 96.83544303797468\n",
            "Round: 35... \tAverage Train Loss: 0.018... \tTest Loss: 0.1017912268154323... \tTest Accuracy: 96.20253164556962\n",
            "Round: 36... \tAverage Train Loss: 0.015... \tTest Loss: 0.08363789921402931... \tTest Accuracy: 96.70886075949367\n",
            "Round: 37... \tAverage Train Loss: 0.015... \tTest Loss: 0.07690557533502579... \tTest Accuracy: 97.0886075949367\n",
            "Round: 38... \tAverage Train Loss: 0.02... \tTest Loss: 0.07557849491834641... \tTest Accuracy: 97.59493670886076\n",
            "Round: 39... \tAverage Train Loss: 0.016... \tTest Loss: 0.059384405098855494... \tTest Accuracy: 98.22784810126582\n",
            "Round: 40... \tAverage Train Loss: 0.026... \tTest Loss: 0.07372233144119382... \tTest Accuracy: 97.59493670886076\n",
            "Round: 41... \tAverage Train Loss: 0.02... \tTest Loss: 0.08776359301954507... \tTest Accuracy: 97.84810126582279\n",
            "Round: 42... \tAverage Train Loss: 0.022... \tTest Loss: 0.06448373887650669... \tTest Accuracy: 97.59493670886076\n",
            "Round: 43... \tAverage Train Loss: 0.017... \tTest Loss: 0.061995867523178455... \tTest Accuracy: 97.46835443037975\n",
            "Round: 44... \tAverage Train Loss: 0.023... \tTest Loss: 0.08569979612529278... \tTest Accuracy: 96.9620253164557\n",
            "Round: 45... \tAverage Train Loss: 0.024... \tTest Loss: 0.06075419561713934... \tTest Accuracy: 98.35443037974683\n",
            "Round: 46... \tAverage Train Loss: 0.014... \tTest Loss: 0.06910043841805309... \tTest Accuracy: 97.9746835443038\n",
            "Round: 47... \tAverage Train Loss: 0.016... \tTest Loss: 0.06022832076894119... \tTest Accuracy: 97.59493670886076\n",
            "Round: 48... \tAverage Train Loss: 0.014... \tTest Loss: 0.05088187073878944... \tTest Accuracy: 98.10126582278481\n",
            "Round: 49... \tAverage Train Loss: 0.028... \tTest Loss: 0.05462709494270385... \tTest Accuracy: 98.22784810126582\n",
            "Round: 50... \tAverage Train Loss: 0.013... \tTest Loss: 0.04952896999400109... \tTest Accuracy: 98.60759493670886\n"
          ],
          "name": "stdout"
        },
        {
          "output_type": "display_data",
          "data": {
            "image/png": "[encoded data removed]",
            "text/plain": [
              "<Figure size 432x288 with 1 Axes>"
            ]
          },
          "metadata": {
            "tags": [],
            "needs_background": "light"
          }
        },
        {
          "output_type": "display_data",
          "data": {
            "image/png": "[encoded data removed]",
            "text/plain": [
              "<Figure size 432x288 with 1 Axes>"
            ]
          },
          "metadata": {
            "tags": [],
            "needs_background": "light"
          }
        },
        {
          "output_type": "display_data",
          "data": {
            "image/png": "[encoded data removed]",
            "text/plain": [
              "<Figure size 432x288 with 1 Axes>"
            ]
          },
          "metadata": {
            "tags": [],
            "needs_background": "light"
          }
        },
        {
          "output_type": "stream",
          "text": [
            "Training Done!\n",
            "Total time taken to Train: 604.3680441379547\n",
            "\n",
            "\n"
          ],
          "name": "stdout"
        }
      ]
    },
    {
      "cell_type": "markdown",
      "metadata": {
        "id": "4C68J-Kk14dB"
      },
      "source": [
        "### Test"
      ]
    },
    {
      "cell_type": "code",
      "metadata": {
        "id": "_yQ9GiAZ15jE",
        "colab": {
          "base_uri": "https://localhost:8080/"
        },
        "outputId": "b26462d6-af60-4829-f82d-95a5141d79c9"
      },
      "source": [
        "criterion = nn.CrossEntropyLoss()\n",
        "acc, loss = testing(mnist_cnn_non_iid_trained, mnist_data_test, 128, criterion, num_classes, classes_test, True)"
      ],
      "execution_count": 105,
      "outputs": [
        {
          "output_type": "stream",
          "text": [
            "Test Loss: 0.049529\n",
            "\n",
            "Test Accuracy of     0: 100% (76/76)\n",
            "Test Accuracy of     1: 100% (90/90)\n",
            "Test Accuracy of     2: 97% (89/91)\n",
            "Test Accuracy of     3: 95% (70/73)\n",
            "Test Accuracy of     4: 98% (88/89)\n",
            "Test Accuracy of     5: 98% (67/68)\n",
            "Test Accuracy of     6: 96% (60/62)\n",
            "Test Accuracy of     7: 98% (80/81)\n",
            "Test Accuracy of     8: 100% (77/77)\n",
            "Test Accuracy of     9: 98% (82/83)\n",
            "\n",
            "Final Test  Accuracy: 98.608 (779.0/790.0)\n"
          ],
          "name": "stdout"
        }
      ]
    },
    {
      "cell_type": "code",
      "metadata": {
        "id": "dxMcxgLhLvX-"
      },
      "source": [
        "hyperparams = {'rounds': rounds,\n",
        "               'C': C,\n",
        "               'K': K,\n",
        "               'E': E,\n",
        "               'batch_size': batch_size,\n",
        "               'lr': lr,\n",
        "               'mu': mu,\n",
        "               'percentage': percentage,\n",
        "               'target_test_accuracy': target_test_accuracy,\n",
        "               }\n",
        "\n",
        "log_dict['MNIST CNN on Non IID'] = {'train_loss': train_loss_multiple_runs, \n",
        "                                'test_loss': test_loss_multiple_runs, \n",
        "                                'test_accuracy': test_accuracy_multiple_runs,\n",
        "                                'hyperparams': hyperparams,\n",
        "                                }"
      ],
      "execution_count": 106,
      "outputs": []
    },
    {
      "cell_type": "markdown",
      "metadata": {
        "id": "z_jifdzniuhm"
      },
      "source": [
        "## MNIST MLP on IID"
      ]
    },
    {
      "cell_type": "markdown",
      "metadata": {
        "id": "uh-te0Od2XGO"
      },
      "source": [
        "### Train"
      ]
    },
    {
      "cell_type": "code",
      "metadata": {
        "id": "UmpWmKOQixVV"
      },
      "source": [
        "# train_loss_multiple_runs = [None] * NUM_REPEAT\n",
        "# test_accuracy_multiple_runs = [None] * NUM_REPEAT\n",
        "# test_loss_multiple_runs = [None] * NUM_REPEAT\n",
        "\n",
        "# for exp_num in range(NUM_REPEAT):\n",
        "#   print(\"Experiment Run Number: \", exp_num)\n",
        "\n",
        "#   # number of training rounds\n",
        "#   rounds = 50\n",
        "#   # client fraction\n",
        "#   C = 0.1\n",
        "#   # number of clients\n",
        "#   K = 100\n",
        "#   # number of training passes on local dataset for each round\n",
        "#   E = 5\n",
        "#   # batch size\n",
        "#   batch_size = 10\n",
        "#   # learning Rate\n",
        "#   lr = 0.05\n",
        "#   # proximal term constant\n",
        "#   mu = 0.01\n",
        "#   # percentage of clients to have fewer than E epochs\n",
        "#   percentage = 50\n",
        "#   # target_test_accuracy\n",
        "#   target_test_accuracy=94.0\n",
        "#   # dict containing different type of data partition\n",
        "#   data_dict = iid_partition(mnist_data_train, 100)\n",
        "#   # load model\n",
        "#   mnist_mlp = MNIST_2NN()\n",
        "\n",
        "#   if torch.cuda.is_available():\n",
        "#     mnist_mlp.cuda()\n",
        "\n",
        "#   mnist_mlp_iid_trained, train_loss, test_accuracy, test_loss = training(mnist_mlp, rounds, batch_size, lr, mnist_data_train, mnist_data_test, data_dict, C, K, E, mu, percentage, \"MNIST MLP on IID Dataset\", \"orange\", target_test_accuracy)\n",
        "  \n",
        "#   train_loss_multiple_runs[exp_num] = train_loss\n",
        "#   test_accuracy_multiple_runs[exp_num] = test_accuracy\n",
        "#   test_loss_multiple_runs[exp_num] = test_loss"
      ],
      "execution_count": 107,
      "outputs": []
    },
    {
      "cell_type": "markdown",
      "metadata": {
        "id": "aTBsL3-72PPd"
      },
      "source": [
        "### Test"
      ]
    },
    {
      "cell_type": "code",
      "metadata": {
        "id": "a9G4j5L62OrS",
        "colab": {
          "base_uri": "https://localhost:8080/"
        },
        "outputId": "67aad3eb-cf1f-4d5c-cd77-cd7ed439d019"
      },
      "source": [
        "criterion = nn.CrossEntropyLoss()\n",
        "acc, loss = testing(mnist_mlp_iid_trained, mnist_data_test, 128, criterion, num_classes, classes_test, True)"
      ],
      "execution_count": 108,
      "outputs": [
        {
          "output_type": "stream",
          "text": [
            "Test Loss: 0.229407\n",
            "\n",
            "Test Accuracy of     0: 96% (73/76)\n",
            "Test Accuracy of     1: 96% (87/90)\n",
            "Test Accuracy of     2: 95% (87/91)\n",
            "Test Accuracy of     3: 94% (69/73)\n",
            "Test Accuracy of     4: 96% (86/89)\n",
            "Test Accuracy of     5: 89% (61/68)\n",
            "Test Accuracy of     6: 96% (60/62)\n",
            "Test Accuracy of     7: 93% (76/81)\n",
            "Test Accuracy of     8: 97% (75/77)\n",
            "Test Accuracy of     9: 92% (77/83)\n",
            "\n",
            "Final Test  Accuracy: 95.063 (751.0/790.0)\n"
          ],
          "name": "stdout"
        }
      ]
    },
    {
      "cell_type": "code",
      "metadata": {
        "id": "fWCdJFRCL_f2"
      },
      "source": [
        "hyperparams = {'rounds': rounds,\n",
        "               'C': C,\n",
        "               'K': K,\n",
        "               'E': E,\n",
        "               'batch_size': batch_size,\n",
        "               'lr': lr,\n",
        "               'mu': mu,\n",
        "               'percentage': percentage,\n",
        "               'target_test_accuracy': target_test_accuracy,\n",
        "               }\n",
        "\n",
        "log_dict['MNIST MLP on IID'] = {'train_loss': train_loss_multiple_runs, \n",
        "                                'test_loss': test_loss_multiple_runs, \n",
        "                                'test_accuracy': test_accuracy_multiple_runs,\n",
        "                                'hyperparams': hyperparams,\n",
        "                                }"
      ],
      "execution_count": 109,
      "outputs": []
    },
    {
      "cell_type": "markdown",
      "metadata": {
        "id": "J8jzEyO0iywz"
      },
      "source": [
        "## MNIST MLP on Non IID"
      ]
    },
    {
      "cell_type": "markdown",
      "metadata": {
        "id": "pJFepr3y2bF-"
      },
      "source": [
        "### Train"
      ]
    },
    {
      "cell_type": "code",
      "metadata": {
        "id": "EBKO44Hgi1Uh",
        "colab": {
          "base_uri": "https://localhost:8080/",
          "height": 1000
        },
        "outputId": "2e5e0771-5ee6-4ebd-f2ce-631510965c73"
      },
      "source": [
        "train_loss_multiple_runs = [None] * NUM_REPEAT\n",
        "test_accuracy_multiple_runs = [None] * NUM_REPEAT\n",
        "test_loss_multiple_runs = [None] * NUM_REPEAT\n",
        "\n",
        "for exp_num in range(NUM_REPEAT):\n",
        "  print(\"Experiment Run Number: \", exp_num)\n",
        "  \n",
        "  # number of training rounds\n",
        "  rounds = 50\n",
        "  # client fraction\n",
        "  C = 0.1\n",
        "  # number of clients\n",
        "  K = 100\n",
        "  # number of training passes on local dataset for each roung\n",
        "  E = 5\n",
        "  # batch size\n",
        "  batch_size = 10\n",
        "  # learning Rate\n",
        "  lr=0.05\n",
        "  # proximal term constant\n",
        "  mu = 0.01\n",
        "  # percentage of clients to have fewer than E epochs\n",
        "  percentage = 50\n",
        "  # target_test_accuracy\n",
        "  target_test_accuracy=94.0\n",
        "  # dict containing different type of data partition\n",
        "  data_dict = non_iid_partition(mnist_data_train, 100, 200, 300, 2)\n",
        "  # load model\n",
        "  mnist_mlp = MNIST_2NN()\n",
        "\n",
        "  if torch.cuda.is_available():\n",
        "    mnist_mlp.cuda()\n",
        "\n",
        "  mnist_mlp_non_iid_trained, train_loss, test_accuracy, test_loss = training(mnist_mlp, rounds, batch_size, lr, mnist_data_train, mnist_data_test, data_dict, C, K, E, mu, percentage, \"MNIST MLP on Non-IID Dataset\", \"green\", target_test_accuracy)\n",
        "\n",
        "  train_loss_multiple_runs[exp_num] = train_loss\n",
        "  test_accuracy_multiple_runs[exp_num] = test_accuracy\n",
        "  test_loss_multiple_runs[exp_num] = test_loss"
      ],
      "execution_count": 110,
      "outputs": [
        {
          "output_type": "stream",
          "text": [
            "Experiment Run Number:  0\n",
            "System heterogeneity set to 50% stragglers.\n",
            "\n",
            "Picking 10 random clients per round.\n",
            "\n",
            "Round: 1... \tAverage Train Loss: 0.219... \tTest Loss: 3.501154662704468... \tTest Accuracy: 24.810126582278482\n",
            "Round: 2... \tAverage Train Loss: 0.083... \tTest Loss: 2.098449794006348... \tTest Accuracy: 42.40506329113924\n",
            "Round: 3... \tAverage Train Loss: 0.091... \tTest Loss: 1.4048889741897583... \tTest Accuracy: 55.822784810126585\n",
            "Round: 4... \tAverage Train Loss: 0.062... \tTest Loss: 1.186260110092163... \tTest Accuracy: 58.35443037974684\n",
            "Round: 5... \tAverage Train Loss: 0.045... \tTest Loss: 0.8198858121871948... \tTest Accuracy: 74.43037974683544\n",
            "Round: 6... \tAverage Train Loss: 0.074... \tTest Loss: 0.5606962915420532... \tTest Accuracy: 86.70886075949367\n",
            "Round: 7... \tAverage Train Loss: 0.064... \tTest Loss: 0.5953369969367981... \tTest Accuracy: 80.0\n",
            "Round: 8... \tAverage Train Loss: 0.032... \tTest Loss: 0.5713811077594757... \tTest Accuracy: 78.86075949367088\n",
            "Round: 9... \tAverage Train Loss: 0.07... \tTest Loss: 0.6144353650093078... \tTest Accuracy: 78.22784810126582\n",
            "Round: 10... \tAverage Train Loss: 0.039... \tTest Loss: 0.3737515849113464... \tTest Accuracy: 88.10126582278481\n",
            "Round: 11... \tAverage Train Loss: 0.037... \tTest Loss: 0.4881696968078613... \tTest Accuracy: 82.9113924050633\n",
            "Round: 12... \tAverage Train Loss: 0.037... \tTest Loss: 0.35067420377731323... \tTest Accuracy: 90.25316455696202\n",
            "Round: 13... \tAverage Train Loss: 0.03... \tTest Loss: 0.3658447569847107... \tTest Accuracy: 88.35443037974683\n",
            "Round: 14... \tAverage Train Loss: 0.05... \tTest Loss: 0.45267198104858397... \tTest Accuracy: 82.53164556962025\n",
            "Round: 15... \tAverage Train Loss: 0.046... \tTest Loss: 0.4760658409118652... \tTest Accuracy: 82.9113924050633\n",
            "Round: 16... \tAverage Train Loss: 0.043... \tTest Loss: 0.43951735978126527... \tTest Accuracy: 82.9113924050633\n",
            "Round: 17... \tAverage Train Loss: 0.04... \tTest Loss: 0.47328005681037905... \tTest Accuracy: 80.88607594936708\n",
            "Round: 18... \tAverage Train Loss: 0.038... \tTest Loss: 0.29998170657157897... \tTest Accuracy: 90.0\n",
            "Round: 19... \tAverage Train Loss: 0.036... \tTest Loss: 0.29217908272743226... \tTest Accuracy: 90.63291139240506\n",
            "Round: 20... \tAverage Train Loss: 0.038... \tTest Loss: 0.388699321269989... \tTest Accuracy: 84.55696202531645\n",
            "Round: 21... \tAverage Train Loss: 0.035... \tTest Loss: 0.3428220664978027... \tTest Accuracy: 86.9620253164557\n",
            "Round: 22... \tAverage Train Loss: 0.059... \tTest Loss: 0.25815297060012815... \tTest Accuracy: 92.15189873417721\n",
            "Round: 23... \tAverage Train Loss: 0.023... \tTest Loss: 0.25852265753746034... \tTest Accuracy: 91.39240506329114\n",
            "Round: 24... \tAverage Train Loss: 0.033... \tTest Loss: 0.2172607382297516... \tTest Accuracy: 93.67088607594937\n",
            "Round: 25... \tAverage Train Loss: 0.034... \tTest Loss: 0.22147904789447784... \tTest Accuracy: 93.41772151898734\n",
            "Round: 26... \tAverage Train Loss: 0.04... \tTest Loss: 0.42550576810836793... \tTest Accuracy: 84.81012658227849\n",
            "Round: 27... \tAverage Train Loss: 0.034... \tTest Loss: 0.27064798607826235... \tTest Accuracy: 90.63291139240506\n",
            "Round: 28... \tAverage Train Loss: 0.019... \tTest Loss: 0.30882250480651857... \tTest Accuracy: 87.84810126582279\n",
            "Round: 29... \tAverage Train Loss: 0.018... \tTest Loss: 0.22545041859149934... \tTest Accuracy: 92.0253164556962\n",
            "Round: 30... \tAverage Train Loss: 0.028... \tTest Loss: 0.26070893712043763... \tTest Accuracy: 90.88607594936708\n",
            "Round: 31... \tAverage Train Loss: 0.02... \tTest Loss: 0.24244796303510666... \tTest Accuracy: 92.78481012658227\n",
            "Round: 32... \tAverage Train Loss: 0.062... \tTest Loss: 0.21719640135765075... \tTest Accuracy: 92.9113924050633\n",
            "Round: 33... \tAverage Train Loss: 0.046... \tTest Loss: 0.18441424570083617... \tTest Accuracy: 94.30379746835443\n",
            "Round: 34... \tAverage Train Loss: 0.022... \tTest Loss: 0.19380424721240996... \tTest Accuracy: 93.54430379746836\n",
            "Round: 35... \tAverage Train Loss: 0.026... \tTest Loss: 0.19638458198308945... \tTest Accuracy: 94.0506329113924\n",
            "Round: 36... \tAverage Train Loss: 0.021... \tTest Loss: 0.23366024324893953... \tTest Accuracy: 92.9113924050633\n",
            "Round: 37... \tAverage Train Loss: 0.021... \tTest Loss: 0.22475830100774766... \tTest Accuracy: 92.15189873417721\n",
            "Round: 38... \tAverage Train Loss: 0.037... \tTest Loss: 0.19332380542755126... \tTest Accuracy: 93.79746835443038\n",
            "Round: 39... \tAverage Train Loss: 0.022... \tTest Loss: 0.20131231566667557... \tTest Accuracy: 92.9113924050633\n",
            "Round: 40... \tAverage Train Loss: 0.02... \tTest Loss: 0.20440804203748703... \tTest Accuracy: 92.0253164556962\n",
            "Round: 41... \tAverage Train Loss: 0.04... \tTest Loss: 0.2056342448949814... \tTest Accuracy: 92.53164556962025\n",
            "Round: 42... \tAverage Train Loss: 0.029... \tTest Loss: 0.2035191529273987... \tTest Accuracy: 93.54430379746836\n",
            "Round: 43... \tAverage Train Loss: 0.019... \tTest Loss: 0.27561077251434324... \tTest Accuracy: 91.0126582278481\n",
            "Round: 44... \tAverage Train Loss: 0.019... \tTest Loss: 0.2017885092973709... \tTest Accuracy: 92.78481012658227\n",
            "Round: 45... \tAverage Train Loss: 0.019... \tTest Loss: 0.2090796652317047... \tTest Accuracy: 93.29113924050633\n",
            "Round: 46... \tAverage Train Loss: 0.04... \tTest Loss: 0.19842026114463807... \tTest Accuracy: 92.78481012658227\n",
            "Round: 47... \tAverage Train Loss: 0.026... \tTest Loss: 0.19550488225221635... \tTest Accuracy: 94.17721518987342\n",
            "Round: 48... \tAverage Train Loss: 0.018... \tTest Loss: 0.24025922374725342... \tTest Accuracy: 92.15189873417721\n",
            "Round: 49... \tAverage Train Loss: 0.022... \tTest Loss: 0.1771654335319996... \tTest Accuracy: 94.43037974683544\n",
            "Round: 50... \tAverage Train Loss: 0.026... \tTest Loss: 0.17055202847719192... \tTest Accuracy: 93.79746835443038\n"
          ],
          "name": "stdout"
        },
        {
          "output_type": "display_data",
          "data": {
            "image/png": "[encoded data removed]",
            "text/plain": [
              "<Figure size 432x288 with 1 Axes>"
            ]
          },
          "metadata": {
            "tags": [],
            "needs_background": "light"
          }
        },
        {
          "output_type": "display_data",
          "data": {
            "image/png": "[encoded data removed]",
            "text/plain": [
              "<Figure size 432x288 with 1 Axes>"
            ]
          },
          "metadata": {
            "tags": [],
            "needs_background": "light"
          }
        },
        {
          "output_type": "display_data",
          "data": {
            "image/png": "[encoded data removed]",
            "text/plain": [
              "<Figure size 432x288 with 1 Axes>"
            ]
          },
          "metadata": {
            "tags": [],
            "needs_background": "light"
          }
        },
        {
          "output_type": "stream",
          "text": [
            "Training Done!\n",
            "Total time taken to Train: 440.6818597316742\n",
            "\n",
            "\n"
          ],
          "name": "stdout"
        }
      ]
    },
    {
      "cell_type": "markdown",
      "metadata": {
        "id": "jmuQYPbF2mes"
      },
      "source": [
        "### Test"
      ]
    },
    {
      "cell_type": "code",
      "metadata": {
        "id": "0tKMlJyF2nGN",
        "colab": {
          "base_uri": "https://localhost:8080/"
        },
        "outputId": "d0f9bbfe-4180-4a8f-b99e-9f0507bddf36"
      },
      "source": [
        "criterion = nn.CrossEntropyLoss()\n",
        "acc, loss = testing(mnist_mlp_non_iid_trained, mnist_data_test, 128, criterion, num_classes, classes_test, True)"
      ],
      "execution_count": 111,
      "outputs": [
        {
          "output_type": "stream",
          "text": [
            "Test Loss: 0.170552\n",
            "\n",
            "Test Accuracy of     0: 90% (69/76)\n",
            "Test Accuracy of     1: 96% (87/90)\n",
            "Test Accuracy of     2: 93% (85/91)\n",
            "Test Accuracy of     3: 97% (71/73)\n",
            "Test Accuracy of     4: 96% (86/89)\n",
            "Test Accuracy of     5: 86% (59/68)\n",
            "Test Accuracy of     6: 90% (56/62)\n",
            "Test Accuracy of     7: 93% (76/81)\n",
            "Test Accuracy of     8: 96% (74/77)\n",
            "Test Accuracy of     9: 93% (78/83)\n",
            "\n",
            "Final Test  Accuracy: 93.797 (741.0/790.0)\n"
          ],
          "name": "stdout"
        }
      ]
    },
    {
      "cell_type": "code",
      "metadata": {
        "id": "1W5krYcSMQiu"
      },
      "source": [
        "hyperparams = {'rounds': rounds,\n",
        "               'C': C,\n",
        "               'K': K,\n",
        "               'E': E,\n",
        "               'batch_size': batch_size,\n",
        "               'lr': lr,\n",
        "               'mu': mu,\n",
        "               'percentage': percentage,\n",
        "               'target_test_accuracy': target_test_accuracy,\n",
        "               }\n",
        "\n",
        "log_dict['MNIST MLP on Non IID'] = {'train_loss': train_loss_multiple_runs, \n",
        "                                'test_loss': test_loss_multiple_runs, \n",
        "                                'test_accuracy': test_accuracy_multiple_runs,\n",
        "                                'hyperparams': hyperparams,\n",
        "                                }"
      ],
      "execution_count": 112,
      "outputs": []
    },
    {
      "cell_type": "markdown",
      "metadata": {
        "id": "emS_SaRAP6TZ"
      },
      "source": [
        "## Pickle Log"
      ]
    },
    {
      "cell_type": "code",
      "metadata": {
        "id": "soAN38JoP0c1"
      },
      "source": [
        "import pickle\n",
        " \n",
        "with open(path + 'FedProx_2.pkl', 'wb') as file:\n",
        "  pickle.dump(log_dict, file)"
      ],
      "execution_count": 113,
      "outputs": []
    },
    {
      "cell_type": "code",
      "metadata": {
        "id": "2UBy-JswSoCJ",
        "colab": {
          "base_uri": "https://localhost:8080/"
        },
        "outputId": "85bfc908-9127-4208-ebae-d01671f3540d"
      },
      "source": [
        "log_dict"
      ],
      "execution_count": 114,
      "outputs": [
        {
          "output_type": "execute_result",
          "data": {
            "text/plain": [
              "{'MNIST CNN on IID': {'hyperparams': {'C': 0.1,\n",
              "   'E': 5,\n",
              "   'K': 10,\n",
              "   'batch_size': 10,\n",
              "   'lr': 0.05,\n",
              "   'mu': 0.01,\n",
              "   'percentage': 50,\n",
              "   'rounds': 50,\n",
              "   'target_test_accuracy': 94.0},\n",
              "  'test_accuracy': [[20.88607594936709,\n",
              "    18.860759493670887,\n",
              "    21.0126582278481,\n",
              "    21.0126582278481,\n",
              "    21.89873417721519,\n",
              "    21.645569620253166,\n",
              "    23.670886075949365,\n",
              "    21.518987341772153,\n",
              "    37.46835443037975,\n",
              "    34.050632911392405,\n",
              "    31.39240506329114,\n",
              "    39.11392405063291,\n",
              "    39.11392405063291,\n",
              "    34.050632911392405,\n",
              "    31.265822784810126,\n",
              "    31.139240506329113,\n",
              "    38.35443037974684,\n",
              "    41.0126582278481,\n",
              "    40.0,\n",
              "    43.79746835443038,\n",
              "    38.10126582278481,\n",
              "    44.936708860759495,\n",
              "    37.46835443037975,\n",
              "    37.46835443037975,\n",
              "    40.379746835443036,\n",
              "    38.10126582278481,\n",
              "    38.10126582278481,\n",
              "    39.87341772151899,\n",
              "    40.12658227848101,\n",
              "    40.63291139240506,\n",
              "    35.69620253164557,\n",
              "    35.69620253164557,\n",
              "    45.31645569620253,\n",
              "    42.151898734177216,\n",
              "    45.56962025316456,\n",
              "    37.9746835443038,\n",
              "    38.860759493670884,\n",
              "    49.24050632911393,\n",
              "    47.721518987341774,\n",
              "    47.721518987341774,\n",
              "    45.44303797468354,\n",
              "    46.45569620253165,\n",
              "    51.51898734177215,\n",
              "    46.58227848101266,\n",
              "    51.51898734177215,\n",
              "    53.29113924050633,\n",
              "    45.949367088607595,\n",
              "    45.063291139240505,\n",
              "    44.81012658227848,\n",
              "    51.392405063291136]],\n",
              "  'test_loss': [[10.184195402526855,\n",
              "    10.523997299194336,\n",
              "    9.233031811523437,\n",
              "    9.935268046569824,\n",
              "    7.149461547088623,\n",
              "    6.54717862625122,\n",
              "    7.903003742980957,\n",
              "    9.660250382995606,\n",
              "    5.364433235931396,\n",
              "    4.724815800476074,\n",
              "    6.2392662857055665,\n",
              "    4.250508006286621,\n",
              "    4.250329789733887,\n",
              "    5.562347157287598,\n",
              "    6.642802947998047,\n",
              "    6.767629512023926,\n",
              "    3.964599668121338,\n",
              "    5.697316259002686,\n",
              "    5.048233136749268,\n",
              "    3.93836382522583,\n",
              "    5.011827362060547,\n",
              "    5.7298975082397465,\n",
              "    5.755895029449463,\n",
              "    7.202154827880859,\n",
              "    4.996622372436524,\n",
              "    5.1646946365356445,\n",
              "    5.069402648162842,\n",
              "    5.255240270996094,\n",
              "    4.339964659118652,\n",
              "    4.719919235229492,\n",
              "    6.144839831542969,\n",
              "    6.167598356628418,\n",
              "    4.848210829162598,\n",
              "    4.538829637145996,\n",
              "    4.403431342315674,\n",
              "    7.193407086181641,\n",
              "    6.423194491577148,\n",
              "    4.1639819427490234,\n",
              "    4.100601937866211,\n",
              "    4.099838748168946,\n",
              "    4.993749052429199,\n",
              "    5.4177423835754395,\n",
              "    4.396080693054199,\n",
              "    5.465394605255127,\n",
              "    3.7874374725341795,\n",
              "    3.7878090576171877,\n",
              "    6.548045317840576,\n",
              "    6.384213125610351,\n",
              "    5.028229221343994,\n",
              "    3.5384398956298826]],\n",
              "  'train_loss': [[0.5270447983220219,\n",
              "    0.08758572629652918,\n",
              "    0.1935130635773142,\n",
              "    0.0023126732477976473,\n",
              "    0.03790941928202907,\n",
              "    0.11437157524439198,\n",
              "    0.17087049987788003,\n",
              "    0.12356671325862408,\n",
              "    0.1322743374109268,\n",
              "    0.015141208001441555,\n",
              "    0.05915436749036114,\n",
              "    0.03556120380138358,\n",
              "    0.00021111234051621368,\n",
              "    0.0065260867469241176,\n",
              "    0.08632517182268203,\n",
              "    0.0008112216137700064,\n",
              "    0.01007790200257053,\n",
              "    0.032776466542854904,\n",
              "    0.018609378943995884,\n",
              "    0.029492911500856284,\n",
              "    0.03853604912447433,\n",
              "    0.019734052193040648,\n",
              "    0.057551900167018166,\n",
              "    0.06960472716329,\n",
              "    0.033349391156807545,\n",
              "    0.02523880538841089,\n",
              "    0.032677711779251696,\n",
              "    0.010500286556780338,\n",
              "    0.010599258144614699,\n",
              "    0.011464284726728995,\n",
              "    0.04113455729559064,\n",
              "    0.0004209965290435017,\n",
              "    0.03221781083072225,\n",
              "    0.013422916374790173,\n",
              "    0.009717253142346938,\n",
              "    0.050044720200821756,\n",
              "    0.035893633322169376,\n",
              "    0.01810449524472157,\n",
              "    0.025962489068818588,\n",
              "    0.0003316835037321652,\n",
              "    0.024188434549917776,\n",
              "    0.026372702239702145,\n",
              "    0.008131494602033247,\n",
              "    0.0033002311214416595,\n",
              "    0.011447236485158406,\n",
              "    0.008946458999998868,\n",
              "    0.04149282258314391,\n",
              "    0.019616090739145876,\n",
              "    0.012706893120751678,\n",
              "    0.04516324334777892]]},\n",
              " 'MNIST CNN on Non IID': {'hyperparams': {'C': 0.1,\n",
              "   'E': 5,\n",
              "   'K': 100,\n",
              "   'batch_size': 10,\n",
              "   'lr': 0.05,\n",
              "   'mu': 0.01,\n",
              "   'percentage': 50,\n",
              "   'rounds': 50,\n",
              "   'target_test_accuracy': 99.0},\n",
              "  'test_accuracy': [[20.126582278481013,\n",
              "    47.21518987341772,\n",
              "    55.31645569620253,\n",
              "    60.63291139240506,\n",
              "    69.36708860759494,\n",
              "    86.70886075949367,\n",
              "    76.58227848101266,\n",
              "    88.22784810126582,\n",
              "    89.24050632911393,\n",
              "    89.49367088607595,\n",
              "    81.0126582278481,\n",
              "    80.88607594936708,\n",
              "    91.13924050632912,\n",
              "    92.27848101265823,\n",
              "    94.9367088607595,\n",
              "    93.79746835443038,\n",
              "    95.69620253164557,\n",
              "    93.16455696202532,\n",
              "    95.82278481012658,\n",
              "    96.20253164556962,\n",
              "    96.9620253164557,\n",
              "    95.31645569620254,\n",
              "    94.9367088607595,\n",
              "    96.07594936708861,\n",
              "    95.69620253164557,\n",
              "    95.56962025316456,\n",
              "    96.70886075949367,\n",
              "    96.9620253164557,\n",
              "    97.0886075949367,\n",
              "    97.9746835443038,\n",
              "    97.84810126582279,\n",
              "    97.21518987341773,\n",
              "    97.59493670886076,\n",
              "    96.83544303797468,\n",
              "    96.20253164556962,\n",
              "    96.70886075949367,\n",
              "    97.0886075949367,\n",
              "    97.59493670886076,\n",
              "    98.22784810126582,\n",
              "    97.59493670886076,\n",
              "    97.84810126582279,\n",
              "    97.59493670886076,\n",
              "    97.46835443037975,\n",
              "    96.9620253164557,\n",
              "    98.35443037974683,\n",
              "    97.9746835443038,\n",
              "    97.59493670886076,\n",
              "    98.10126582278481,\n",
              "    98.22784810126582,\n",
              "    98.60759493670886]],\n",
              "  'test_loss': [[2.2393232456207275,\n",
              "    1.8308488159179688,\n",
              "    1.3781363552093506,\n",
              "    1.0962274622917176,\n",
              "    0.9561405333518982,\n",
              "    0.5463479833126068,\n",
              "    0.7256753497123718,\n",
              "    0.39319041018486023,\n",
              "    0.3583714631319046,\n",
              "    0.29513777333498004,\n",
              "    0.4725658107757568,\n",
              "    0.4617213268756866,\n",
              "    0.22713426762819292,\n",
              "    0.22308618733882904,\n",
              "    0.14820063301324846,\n",
              "    0.15554663777947425,\n",
              "    0.11959624909460545,\n",
              "    0.17618015402555465,\n",
              "    0.1366730714738369,\n",
              "    0.1315945207476616,\n",
              "    0.09827410466969014,\n",
              "    0.13119518747329711,\n",
              "    0.14251780327558516,\n",
              "    0.1223598255932331,\n",
              "    0.11740856983661652,\n",
              "    0.1233138492077589,\n",
              "    0.08552317554056645,\n",
              "    0.08115319629460573,\n",
              "    0.08391054915413261,\n",
              "    0.07823271725028753,\n",
              "    0.06778093484342099,\n",
              "    0.08918848792612552,\n",
              "    0.06544372894726694,\n",
              "    0.07909797803089022,\n",
              "    0.1017912268154323,\n",
              "    0.08363789921402931,\n",
              "    0.07690557533502579,\n",
              "    0.07557849491834641,\n",
              "    0.059384405098855494,\n",
              "    0.07372233144119382,\n",
              "    0.08776359301954507,\n",
              "    0.06448373887650669,\n",
              "    0.061995867523178455,\n",
              "    0.08569979612529278,\n",
              "    0.06075419561713934,\n",
              "    0.06910043841805309,\n",
              "    0.06022832076894119,\n",
              "    0.05088187073878944,\n",
              "    0.05462709494270385,\n",
              "    0.04952896999400109]],\n",
              "  'train_loss': [[0.20578563942546796,\n",
              "    0.12145587813191942,\n",
              "    0.05157135910862901,\n",
              "    0.04865864541527763,\n",
              "    0.055150051583742934,\n",
              "    0.058937734940710175,\n",
              "    0.04322185357120665,\n",
              "    0.04353430737100683,\n",
              "    0.058506434362485184,\n",
              "    0.023979760503668034,\n",
              "    0.049101120428647844,\n",
              "    0.03707312474718007,\n",
              "    0.03256142116193143,\n",
              "    0.02636095128026015,\n",
              "    0.02459734984281628,\n",
              "    0.028676341545147206,\n",
              "    0.020587270038855625,\n",
              "    0.022412397307647755,\n",
              "    0.014866165006015864,\n",
              "    0.030282991720525187,\n",
              "    0.022113480883728092,\n",
              "    0.020868370684255046,\n",
              "    0.024705115202303403,\n",
              "    0.02786362890111438,\n",
              "    0.0328359160439577,\n",
              "    0.02461092492561632,\n",
              "    0.019600574790267274,\n",
              "    0.02269655762184023,\n",
              "    0.021475177882549663,\n",
              "    0.02369022979137177,\n",
              "    0.013078987457116859,\n",
              "    0.023370132357425365,\n",
              "    0.029729023108879725,\n",
              "    0.011676906964437673,\n",
              "    0.018290324145658003,\n",
              "    0.014904350825323492,\n",
              "    0.014902376949547843,\n",
              "    0.020376557199824473,\n",
              "    0.016355399542104958,\n",
              "    0.026295748272794302,\n",
              "    0.020238388706493426,\n",
              "    0.022202002714012955,\n",
              "    0.016906013016614853,\n",
              "    0.022531364826477433,\n",
              "    0.023650458169480162,\n",
              "    0.013819707164634664,\n",
              "    0.01620344116477645,\n",
              "    0.013799928352610851,\n",
              "    0.0280607884254714,\n",
              "    0.013257706273473257]]},\n",
              " 'MNIST MLP on IID': {'hyperparams': {'C': 0.1,\n",
              "   'E': 5,\n",
              "   'K': 100,\n",
              "   'batch_size': 10,\n",
              "   'lr': 0.05,\n",
              "   'mu': 0.01,\n",
              "   'percentage': 50,\n",
              "   'rounds': 50,\n",
              "   'target_test_accuracy': 99.0},\n",
              "  'test_accuracy': [[20.126582278481013,\n",
              "    47.21518987341772,\n",
              "    55.31645569620253,\n",
              "    60.63291139240506,\n",
              "    69.36708860759494,\n",
              "    86.70886075949367,\n",
              "    76.58227848101266,\n",
              "    88.22784810126582,\n",
              "    89.24050632911393,\n",
              "    89.49367088607595,\n",
              "    81.0126582278481,\n",
              "    80.88607594936708,\n",
              "    91.13924050632912,\n",
              "    92.27848101265823,\n",
              "    94.9367088607595,\n",
              "    93.79746835443038,\n",
              "    95.69620253164557,\n",
              "    93.16455696202532,\n",
              "    95.82278481012658,\n",
              "    96.20253164556962,\n",
              "    96.9620253164557,\n",
              "    95.31645569620254,\n",
              "    94.9367088607595,\n",
              "    96.07594936708861,\n",
              "    95.69620253164557,\n",
              "    95.56962025316456,\n",
              "    96.70886075949367,\n",
              "    96.9620253164557,\n",
              "    97.0886075949367,\n",
              "    97.9746835443038,\n",
              "    97.84810126582279,\n",
              "    97.21518987341773,\n",
              "    97.59493670886076,\n",
              "    96.83544303797468,\n",
              "    96.20253164556962,\n",
              "    96.70886075949367,\n",
              "    97.0886075949367,\n",
              "    97.59493670886076,\n",
              "    98.22784810126582,\n",
              "    97.59493670886076,\n",
              "    97.84810126582279,\n",
              "    97.59493670886076,\n",
              "    97.46835443037975,\n",
              "    96.9620253164557,\n",
              "    98.35443037974683,\n",
              "    97.9746835443038,\n",
              "    97.59493670886076,\n",
              "    98.10126582278481,\n",
              "    98.22784810126582,\n",
              "    98.60759493670886]],\n",
              "  'test_loss': [[2.2393232456207275,\n",
              "    1.8308488159179688,\n",
              "    1.3781363552093506,\n",
              "    1.0962274622917176,\n",
              "    0.9561405333518982,\n",
              "    0.5463479833126068,\n",
              "    0.7256753497123718,\n",
              "    0.39319041018486023,\n",
              "    0.3583714631319046,\n",
              "    0.29513777333498004,\n",
              "    0.4725658107757568,\n",
              "    0.4617213268756866,\n",
              "    0.22713426762819292,\n",
              "    0.22308618733882904,\n",
              "    0.14820063301324846,\n",
              "    0.15554663777947425,\n",
              "    0.11959624909460545,\n",
              "    0.17618015402555465,\n",
              "    0.1366730714738369,\n",
              "    0.1315945207476616,\n",
              "    0.09827410466969014,\n",
              "    0.13119518747329711,\n",
              "    0.14251780327558516,\n",
              "    0.1223598255932331,\n",
              "    0.11740856983661652,\n",
              "    0.1233138492077589,\n",
              "    0.08552317554056645,\n",
              "    0.08115319629460573,\n",
              "    0.08391054915413261,\n",
              "    0.07823271725028753,\n",
              "    0.06778093484342099,\n",
              "    0.08918848792612552,\n",
              "    0.06544372894726694,\n",
              "    0.07909797803089022,\n",
              "    0.1017912268154323,\n",
              "    0.08363789921402931,\n",
              "    0.07690557533502579,\n",
              "    0.07557849491834641,\n",
              "    0.059384405098855494,\n",
              "    0.07372233144119382,\n",
              "    0.08776359301954507,\n",
              "    0.06448373887650669,\n",
              "    0.061995867523178455,\n",
              "    0.08569979612529278,\n",
              "    0.06075419561713934,\n",
              "    0.06910043841805309,\n",
              "    0.06022832076894119,\n",
              "    0.05088187073878944,\n",
              "    0.05462709494270385,\n",
              "    0.04952896999400109]],\n",
              "  'train_loss': [[0.20578563942546796,\n",
              "    0.12145587813191942,\n",
              "    0.05157135910862901,\n",
              "    0.04865864541527763,\n",
              "    0.055150051583742934,\n",
              "    0.058937734940710175,\n",
              "    0.04322185357120665,\n",
              "    0.04353430737100683,\n",
              "    0.058506434362485184,\n",
              "    0.023979760503668034,\n",
              "    0.049101120428647844,\n",
              "    0.03707312474718007,\n",
              "    0.03256142116193143,\n",
              "    0.02636095128026015,\n",
              "    0.02459734984281628,\n",
              "    0.028676341545147206,\n",
              "    0.020587270038855625,\n",
              "    0.022412397307647755,\n",
              "    0.014866165006015864,\n",
              "    0.030282991720525187,\n",
              "    0.022113480883728092,\n",
              "    0.020868370684255046,\n",
              "    0.024705115202303403,\n",
              "    0.02786362890111438,\n",
              "    0.0328359160439577,\n",
              "    0.02461092492561632,\n",
              "    0.019600574790267274,\n",
              "    0.02269655762184023,\n",
              "    0.021475177882549663,\n",
              "    0.02369022979137177,\n",
              "    0.013078987457116859,\n",
              "    0.023370132357425365,\n",
              "    0.029729023108879725,\n",
              "    0.011676906964437673,\n",
              "    0.018290324145658003,\n",
              "    0.014904350825323492,\n",
              "    0.014902376949547843,\n",
              "    0.020376557199824473,\n",
              "    0.016355399542104958,\n",
              "    0.026295748272794302,\n",
              "    0.020238388706493426,\n",
              "    0.022202002714012955,\n",
              "    0.016906013016614853,\n",
              "    0.022531364826477433,\n",
              "    0.023650458169480162,\n",
              "    0.013819707164634664,\n",
              "    0.01620344116477645,\n",
              "    0.013799928352610851,\n",
              "    0.0280607884254714,\n",
              "    0.013257706273473257]]},\n",
              " 'MNIST MLP on Non IID': {'hyperparams': {'C': 0.1,\n",
              "   'E': 5,\n",
              "   'K': 100,\n",
              "   'batch_size': 10,\n",
              "   'lr': 0.05,\n",
              "   'mu': 0.01,\n",
              "   'percentage': 50,\n",
              "   'rounds': 50,\n",
              "   'target_test_accuracy': 94.0},\n",
              "  'test_accuracy': [[24.810126582278482,\n",
              "    42.40506329113924,\n",
              "    55.822784810126585,\n",
              "    58.35443037974684,\n",
              "    74.43037974683544,\n",
              "    86.70886075949367,\n",
              "    80.0,\n",
              "    78.86075949367088,\n",
              "    78.22784810126582,\n",
              "    88.10126582278481,\n",
              "    82.9113924050633,\n",
              "    90.25316455696202,\n",
              "    88.35443037974683,\n",
              "    82.53164556962025,\n",
              "    82.9113924050633,\n",
              "    82.9113924050633,\n",
              "    80.88607594936708,\n",
              "    90.0,\n",
              "    90.63291139240506,\n",
              "    84.55696202531645,\n",
              "    86.9620253164557,\n",
              "    92.15189873417721,\n",
              "    91.39240506329114,\n",
              "    93.67088607594937,\n",
              "    93.41772151898734,\n",
              "    84.81012658227849,\n",
              "    90.63291139240506,\n",
              "    87.84810126582279,\n",
              "    92.0253164556962,\n",
              "    90.88607594936708,\n",
              "    92.78481012658227,\n",
              "    92.9113924050633,\n",
              "    94.30379746835443,\n",
              "    93.54430379746836,\n",
              "    94.0506329113924,\n",
              "    92.9113924050633,\n",
              "    92.15189873417721,\n",
              "    93.79746835443038,\n",
              "    92.9113924050633,\n",
              "    92.0253164556962,\n",
              "    92.53164556962025,\n",
              "    93.54430379746836,\n",
              "    91.0126582278481,\n",
              "    92.78481012658227,\n",
              "    93.29113924050633,\n",
              "    92.78481012658227,\n",
              "    94.17721518987342,\n",
              "    92.15189873417721,\n",
              "    94.43037974683544,\n",
              "    93.79746835443038]],\n",
              "  'test_loss': [[3.501154662704468,\n",
              "    2.098449794006348,\n",
              "    1.4048889741897583,\n",
              "    1.186260110092163,\n",
              "    0.8198858121871948,\n",
              "    0.5606962915420532,\n",
              "    0.5953369969367981,\n",
              "    0.5713811077594757,\n",
              "    0.6144353650093078,\n",
              "    0.3737515849113464,\n",
              "    0.4881696968078613,\n",
              "    0.35067420377731323,\n",
              "    0.3658447569847107,\n",
              "    0.45267198104858397,\n",
              "    0.4760658409118652,\n",
              "    0.43951735978126527,\n",
              "    0.47328005681037905,\n",
              "    0.29998170657157897,\n",
              "    0.29217908272743226,\n",
              "    0.388699321269989,\n",
              "    0.3428220664978027,\n",
              "    0.25815297060012815,\n",
              "    0.25852265753746034,\n",
              "    0.2172607382297516,\n",
              "    0.22147904789447784,\n",
              "    0.42550576810836793,\n",
              "    0.27064798607826235,\n",
              "    0.30882250480651857,\n",
              "    0.22545041859149934,\n",
              "    0.26070893712043763,\n",
              "    0.24244796303510666,\n",
              "    0.21719640135765075,\n",
              "    0.18441424570083617,\n",
              "    0.19380424721240996,\n",
              "    0.19638458198308945,\n",
              "    0.23366024324893953,\n",
              "    0.22475830100774766,\n",
              "    0.19332380542755126,\n",
              "    0.20131231566667557,\n",
              "    0.20440804203748703,\n",
              "    0.2056342448949814,\n",
              "    0.2035191529273987,\n",
              "    0.27561077251434324,\n",
              "    0.2017885092973709,\n",
              "    0.2090796652317047,\n",
              "    0.19842026114463807,\n",
              "    0.19550488225221635,\n",
              "    0.24025922374725342,\n",
              "    0.1771654335319996,\n",
              "    0.17055202847719192]],\n",
              "  'train_loss': [[0.21907735064475692,\n",
              "    0.08297030552269684,\n",
              "    0.09063418231221536,\n",
              "    0.06172632193843471,\n",
              "    0.04486943151114974,\n",
              "    0.07401855547799885,\n",
              "    0.06417477973452251,\n",
              "    0.031745177362967905,\n",
              "    0.07007905235661505,\n",
              "    0.039151259467445514,\n",
              "    0.037097963899348135,\n",
              "    0.03709716660173662,\n",
              "    0.030017626255026297,\n",
              "    0.049841939311785,\n",
              "    0.04553795212949627,\n",
              "    0.04315774185583642,\n",
              "    0.03963370247930289,\n",
              "    0.037569331327479125,\n",
              "    0.0356273052365545,\n",
              "    0.03804430291047579,\n",
              "    0.035481722165313034,\n",
              "    0.05908683643636241,\n",
              "    0.02341815003451322,\n",
              "    0.03278307173285995,\n",
              "    0.03411321969411802,\n",
              "    0.04004565623017132,\n",
              "    0.03361824459545702,\n",
              "    0.019312273359831628,\n",
              "    0.017658854924692102,\n",
              "    0.027758490408887154,\n",
              "    0.02046117128577963,\n",
              "    0.06186594947856956,\n",
              "    0.046055465494670586,\n",
              "    0.021707817753078416,\n",
              "    0.02648894914396806,\n",
              "    0.021068566054765446,\n",
              "    0.02097270577843301,\n",
              "    0.03680687833466153,\n",
              "    0.021754411200992762,\n",
              "    0.019665739643426303,\n",
              "    0.03968208100901554,\n",
              "    0.029048847660758638,\n",
              "    0.01895582753480671,\n",
              "    0.018658043589481775,\n",
              "    0.018935247327983636,\n",
              "    0.03976338811172172,\n",
              "    0.0263167471352887,\n",
              "    0.0176321815264075,\n",
              "    0.02167395672222483,\n",
              "    0.026333571231691166]]}}"
            ]
          },
          "metadata": {
            "tags": []
          },
          "execution_count": 114
        }
      ]
    },
    {
      "cell_type": "code",
      "metadata": {
        "id": "BXa1-CbFo3pX"
      },
      "source": [
        "import pickle\n",
        "\n",
        "with open(path + 'Round_FedProx_2.pkl', 'rb') as file:\n",
        "  log_dict = pickle.load(file)"
      ],
      "execution_count": null,
      "outputs": []
    },
    {
      "cell_type": "code",
      "metadata": {
        "id": "se_04JMaVJPg",
        "colab": {
          "base_uri": "https://localhost:8080/"
        },
        "outputId": "5f1ac87c-bd83-4800-94eb-9bae5f899014"
      },
      "source": [
        "print([test_acc[-1] for test_acc in log_dict['MNIST CNN on IID']['test_accuracy']])"
      ],
      "execution_count": 116,
      "outputs": [
        {
          "output_type": "stream",
          "text": [
            "[51.392405063291136]\n"
          ],
          "name": "stdout"
        }
      ]
    },
    {
      "cell_type": "code",
      "metadata": {
        "id": "5sv0rv-G4Sqa",
        "colab": {
          "base_uri": "https://localhost:8080/"
        },
        "outputId": "57065efc-2e58-4d7a-b212-e276e47137e2"
      },
      "source": [
        "print([test_acc[-1] for test_acc in log_dict['MNIST CNN on Non IID']['test_accuracy']])"
      ],
      "execution_count": 117,
      "outputs": [
        {
          "output_type": "stream",
          "text": [
            "[98.60759493670886]\n"
          ],
          "name": "stdout"
        }
      ]
    },
    {
      "cell_type": "code",
      "metadata": {
        "id": "b2a2_Az-4nal",
        "colab": {
          "base_uri": "https://localhost:8080/"
        },
        "outputId": "d710e10a-eeba-448a-b442-0b0cb7d920c5"
      },
      "source": [
        "print([test_acc[-1] for test_acc in log_dict['MNIST MLP on IID']['test_accuracy']])"
      ],
      "execution_count": 118,
      "outputs": [
        {
          "output_type": "stream",
          "text": [
            "[98.60759493670886]\n"
          ],
          "name": "stdout"
        }
      ]
    },
    {
      "cell_type": "code",
      "metadata": {
        "id": "YoRqZyvD4p2K",
        "colab": {
          "base_uri": "https://localhost:8080/"
        },
        "outputId": "4205cc11-4911-4870-891a-768b46db247e"
      },
      "source": [
        "print([test_acc[-1] for test_acc in log_dict['MNIST MLP on Non IID']['test_accuracy']])"
      ],
      "execution_count": 119,
      "outputs": [
        {
          "output_type": "stream",
          "text": [
            "[93.79746835443038]\n"
          ],
          "name": "stdout"
        }
      ]
    },
    {
      "cell_type": "code",
      "metadata": {
        "id": "B87eGKJnAHIh",
        "colab": {
          "base_uri": "https://localhost:8080/"
        },
        "outputId": "cb52ec37-ff76-4fd2-c9a0-a710770666d5"
      },
      "source": [
        "output.show()"
      ],
      "execution_count": 120,
      "outputs": [
        {
          "output_type": "stream",
          "text": [
            "Drive already mounted at /content/drive; to attempt to forcibly remount, call drive.mount(\"/content/drive\", force_remount=True).\n"
          ],
          "name": "stdout"
        }
      ]
    }
  ]
}