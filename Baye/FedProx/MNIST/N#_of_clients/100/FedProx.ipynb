{
  "nbformat": 4,
  "nbformat_minor": 0,
  "metadata": {
    "accelerator": "GPU",
    "colab": {
      "name": "FedProx.ipynb",
      "provenance": [],
      "collapsed_sections": [],
      "machine_shape": "hm"
    },
    "kernelspec": {
      "name": "python3",
      "display_name": "Python 3"
    },
    "language_info": {
      "name": "python"
    }
  },
  "cells": [
    {
      "cell_type": "markdown",
      "metadata": {
        "id": "view-in-github"
      },
      "source": [
        "<a href=\"https://colab.research.google.com/github/tushar-semwal/fedperf/blob/main/Vineeth/Local_Rounds/FedProx/FedProx.ipynb\" target=\"_parent\"><img src=\"https://colab.research.google.com/assets/colab-badge.svg\" alt=\"Open In Colab\"/></a>"
      ]
    },
    {
      "cell_type": "code",
      "metadata": {
        "id": "yKcpjZLrQQJV"
      },
      "source": [
        "%%capture output\n",
        "try:\n",
        "    from google.colab import drive\n",
        "    drive.mount('/content/drive')\n",
        "\n",
        "    import os\n",
        "    path = '/content/drive/MyDrive/Colab Notebooks/OpenMined/'\n",
        "    os.makedirs(path, exist_ok=True)\n",
        "except:\n",
        "    path = './'"
      ],
      "execution_count": 32,
      "outputs": []
    },
    {
      "cell_type": "markdown",
      "metadata": {
        "id": "-0_nKpfq2h1R"
      },
      "source": [
        "## Imports"
      ]
    },
    {
      "cell_type": "code",
      "metadata": {
        "colab": {
          "base_uri": "https://localhost:8080/"
        },
        "id": "DLLNM9X2JbQ8",
        "outputId": "b6af83fd-06dd-4ce2-acd4-3013d8c89f6d"
      },
      "source": [
        "%load_ext tensorboard\n",
        "import os\n",
        "import numpy as np\n",
        "import matplotlib\n",
        "import matplotlib.pyplot as plt\n",
        "import copy\n",
        "import random\n",
        "import time\n",
        "\n",
        "import torch\n",
        "import torch.nn as nn\n",
        "import torch.nn.functional as F\n",
        "\n",
        "from torch.utils.data import Dataset, DataLoader\n",
        "from torch.utils.tensorboard import SummaryWriter\n",
        "from torchvision import transforms, utils, datasets\n",
        "from torchsummary import summary\n",
        "\n",
        "\n",
        "# Check assigned GPU\n",
        "gpu_info = !nvidia-smi\n",
        "gpu_info = '\\n'.join(gpu_info)\n",
        "if gpu_info.find('failed') >= 0:\n",
        "  print('Select the Runtime > \"Change runtime type\" menu to enable a GPU accelerator, ')\n",
        "  print('and then re-execute this cell.')\n",
        "else:\n",
        "  print(gpu_info)\n",
        "\n",
        "# set manual seed for reproducibility\n",
        "seed = 42\n",
        "\n",
        "# general reproducibility\n",
        "random.seed(seed)\n",
        "np.random.seed(seed)\n",
        "torch.manual_seed(seed)\n",
        "\n",
        "# gpu training specific\n",
        "torch.backends.cudnn.deterministic = True\n",
        "torch.backends.cudnn.benchmark = False"
      ],
      "execution_count": 33,
      "outputs": [
        {
          "output_type": "stream",
          "text": [
            "The tensorboard extension is already loaded. To reload it, use:\n",
            "  %reload_ext tensorboard\n",
            "Thu Apr 22 08:18:46 2021       \n",
            "+-----------------------------------------------------------------------------+\n",
            "| NVIDIA-SMI 460.67       Driver Version: 460.32.03    CUDA Version: 11.2     |\n",
            "|-------------------------------+----------------------+----------------------+\n",
            "| GPU  Name        Persistence-M| Bus-Id        Disp.A | Volatile Uncorr. ECC |\n",
            "| Fan  Temp  Perf  Pwr:Usage/Cap|         Memory-Usage | GPU-Util  Compute M. |\n",
            "|                               |                      |               MIG M. |\n",
            "|===============================+======================+======================|\n",
            "|   0  Tesla K80           Off  | 00000000:00:04.0 Off |                    0 |\n",
            "| N/A   51C    P0    57W / 149W |    548MiB / 11441MiB |      0%      Default |\n",
            "|                               |                      |                  N/A |\n",
            "+-------------------------------+----------------------+----------------------+\n",
            "                                                                               \n",
            "+-----------------------------------------------------------------------------+\n",
            "| Processes:                                                                  |\n",
            "|  GPU   GI   CI        PID   Type   Process name                  GPU Memory |\n",
            "|        ID   ID                                                   Usage      |\n",
            "|=============================================================================|\n",
            "+-----------------------------------------------------------------------------+\n"
          ],
          "name": "stdout"
        }
      ]
    },
    {
      "cell_type": "markdown",
      "metadata": {
        "id": "NY4eWzGiL6Mj"
      },
      "source": [
        "## Load the MNIST Dataset"
      ]
    },
    {
      "cell_type": "code",
      "metadata": {
        "id": "Ck9eSDfknLTk"
      },
      "source": [
        "torch.cuda.set_device('cuda:0')"
      ],
      "execution_count": 34,
      "outputs": []
    },
    {
      "cell_type": "code",
      "metadata": {
        "id": "G649tjTXLL8F"
      },
      "source": [
        "# create transforms\n",
        "# We will just convert to tensor and normalize since no special transforms are mentioned in the paper\n",
        "transforms_mnist = transforms.Compose([\n",
        "                                       transforms.ToTensor(),\n",
        "                                       transforms.Normalize((0.1307,), (0.3081,))\n",
        "                                       ])\n",
        "\n",
        "mnist_data_train = datasets.MNIST('./data/mnist/', train=True, download=True, transform=transforms_mnist)\n",
        "mnist_data_test = datasets.MNIST('../data/mnist/', train=False, download=True, transform=transforms_mnist)"
      ],
      "execution_count": 35,
      "outputs": []
    },
    {
      "cell_type": "code",
      "metadata": {
        "colab": {
          "base_uri": "https://localhost:8080/"
        },
        "id": "dm9usjn2vFkL",
        "outputId": "b2378daa-55a8-4809-ad60-ef2a431d9ec3"
      },
      "source": [
        "classes = np.array(list(mnist_data_train.class_to_idx.values()))\n",
        "classes_test = np.array(list(mnist_data_test.class_to_idx.values()))\n",
        "num_classes = len(classes_test)\n",
        "print(\"Classes: {} \\tType: {}\".format(classes, type(classes)))\n",
        "print(\"Classes Test: {} \\tType: {}\".format(classes_test, type(classes)))\n"
      ],
      "execution_count": 36,
      "outputs": [
        {
          "output_type": "stream",
          "text": [
            "Classes: [0 1 2 3 4 5 6 7 8 9] \tType: <class 'numpy.ndarray'>\n",
            "Classes Test: [0 1 2 3 4 5 6 7 8 9] \tType: <class 'numpy.ndarray'>\n"
          ],
          "name": "stdout"
        }
      ]
    },
    {
      "cell_type": "code",
      "metadata": {
        "colab": {
          "base_uri": "https://localhost:8080/"
        },
        "id": "9lvJt3Ofv2SO",
        "outputId": "c5fd474c-a2ba-4c13-ae81-413a8af65c69"
      },
      "source": [
        "print(\"Image Shape: {}\".format(mnist_data_train.data[0].size()))"
      ],
      "execution_count": 37,
      "outputs": [
        {
          "output_type": "stream",
          "text": [
            "Image Shape: torch.Size([28, 28])\n"
          ],
          "name": "stdout"
        }
      ]
    },
    {
      "cell_type": "markdown",
      "metadata": {
        "id": "jCOONkg-zV7Y"
      },
      "source": [
        "## Visualize Data"
      ]
    },
    {
      "cell_type": "code",
      "metadata": {
        "id": "R9MK03TZw6Qs"
      },
      "source": [
        "def imshow(img):\n",
        "\timg = img/2 + 0.5 #unnormalize the image\n",
        "\tplt.imshow(img, cmap='gray') # convert from tensor to image"
      ],
      "execution_count": 38,
      "outputs": []
    },
    {
      "cell_type": "code",
      "metadata": {
        "id": "gMJ0Kx4Kw-_H"
      },
      "source": [
        "def visualize(dataset):\n",
        "  figure = plt.figure(figsize=(25,4))\n",
        "  for i in range(20):\n",
        "    axis = figure.add_subplot(2, 20/2, i+1, xticks=[], yticks=[])\n",
        "    data = dataset.data[i]\n",
        "    data = data.numpy()\n",
        "\n",
        "    target = dataset.targets[i]\n",
        "    target = target.numpy()\n",
        "    imshow(data)\n",
        "    axis.set_title(target)\n"
      ],
      "execution_count": 39,
      "outputs": []
    },
    {
      "cell_type": "code",
      "metadata": {
        "colab": {
          "base_uri": "https://localhost:8080/",
          "height": 268
        },
        "id": "8bPOwKg10Ro7",
        "outputId": "e34e01b1-6af8-4ec5-8883-c8f67c54bb10"
      },
      "source": [
        "visualize(mnist_data_train)"
      ],
      "execution_count": 40,
      "outputs": [
        {
          "output_type": "display_data",
          "data": {
            "image/png": "[encoded data removed]",
            "text/plain": [
              "<Figure size 1800x288 with 20 Axes>"
            ]
          },
          "metadata": {
            "tags": []
          }
        }
      ]
    },
    {
      "cell_type": "code",
      "metadata": {
        "colab": {
          "base_uri": "https://localhost:8080/",
          "height": 268
        },
        "id": "RKoh5Cf70UYu",
        "outputId": "97e6fc4c-7ad7-4cb5-a4a2-e6c50f481e87"
      },
      "source": [
        "visualize(mnist_data_test)"
      ],
      "execution_count": 41,
      "outputs": [
        {
          "output_type": "display_data",
          "data": {
            "image/png": "[encoded data removed]",
            "text/plain": [
              "<Figure size 1800x288 with 20 Axes>"
            ]
          },
          "metadata": {
            "tags": []
          }
        }
      ]
    },
    {
      "cell_type": "markdown",
      "metadata": {
        "id": "ctjRsETiO1qO"
      },
      "source": [
        "## Partitioning the Data (IID and non-IID)"
      ]
    },
    {
      "cell_type": "code",
      "metadata": {
        "id": "3_v8lyrgO5dD"
      },
      "source": [
        "def iid_partition(dataset, clients):\n",
        "  \"\"\"\n",
        "  I.I.D paritioning of data over clients\n",
        "  Shuffle the data\n",
        "  Split it between clients\n",
        "  \n",
        "  params:\n",
        "    - dataset (torch.utils.Dataset): Dataset containing the MNIST Images\n",
        "    - clients (int): Number of Clients to split the data between\n",
        "\n",
        "  returns:\n",
        "    - Dictionary of image indexes for each client\n",
        "  \"\"\"\n",
        "\n",
        "  num_items_per_client = int(len(dataset)/clients)\n",
        "  client_dict = {}\n",
        "  image_idxs = [i for i in range(len(dataset))]\n",
        "\n",
        "  for i in range(clients):\n",
        "    client_dict[i] = set(np.random.choice(image_idxs, num_items_per_client, replace=False))\n",
        "    image_idxs = list(set(image_idxs) - client_dict[i])\n",
        "\n",
        "  return client_dict"
      ],
      "execution_count": 42,
      "outputs": []
    },
    {
      "cell_type": "code",
      "metadata": {
        "id": "4zMdliGMQoSl"
      },
      "source": [
        "def non_iid_partition(dataset, clients, total_shards, shards_size, num_shards_per_client):\n",
        "  \"\"\"\n",
        "  non I.I.D parititioning of data over clients\n",
        "  Sort the data by the digit label\n",
        "  Divide the data into N shards of size S\n",
        "  Each of the clients will get X shards\n",
        "\n",
        "  params:\n",
        "    - dataset (torch.utils.Dataset): Dataset containing the MNIST Images\n",
        "    - clients (int): Number of Clients to split the data between\n",
        "    - total_shards (int): Number of shards to partition the data in\n",
        "    - shards_size (int): Size of each shard \n",
        "    - num_shards_per_client (int): Number of shards of size shards_size that each client receives\n",
        "\n",
        "  returns:\n",
        "    - Dictionary of image indexes for each client\n",
        "  \"\"\"\n",
        "  \n",
        "  shard_idxs = [i for i in range(total_shards)]\n",
        "  client_dict = {i: np.array([], dtype='int64') for i in range(clients)}\n",
        "  idxs = np.arange(len(dataset))\n",
        "  data_labels = dataset.targets.numpy()\n",
        "\n",
        "  # sort the labels\n",
        "  label_idxs = np.vstack((idxs, data_labels))\n",
        "  label_idxs = label_idxs[:, label_idxs[1,:].argsort()]\n",
        "  idxs = label_idxs[0,:]\n",
        "\n",
        "  # divide the data into total_shards of size shards_size\n",
        "  # assign num_shards_per_client to each client\n",
        "  for i in range(clients):\n",
        "    rand_set = set(np.random.choice(shard_idxs, num_shards_per_client, replace=False))\n",
        "    shard_idxs = list(set(shard_idxs) - rand_set)\n",
        "\n",
        "    for rand in rand_set:\n",
        "      client_dict[i] = np.concatenate((client_dict[i], idxs[rand*shards_size:(rand+1)*shards_size]), axis=0)\n",
        "  \n",
        "  return client_dict\n",
        "\n",
        "\n",
        "\n"
      ],
      "execution_count": 43,
      "outputs": []
    },
    {
      "cell_type": "markdown",
      "metadata": {
        "id": "PTfxv8kFoGAy"
      },
      "source": [
        "## Models"
      ]
    },
    {
      "cell_type": "code",
      "metadata": {
        "id": "CvoDNFKbZST5"
      },
      "source": [
        "class MNIST_2NN(nn.Module):\n",
        "  \"\"\"\n",
        "  A simple multilayer-perceptron with 2-hidden layers with 200 units each\n",
        "  using ReLu activations\n",
        "\n",
        "  Total Expected Params: 199,210\n",
        "  \"\"\"\n",
        "  def __init__(self):\n",
        "    super(MNIST_2NN, self).__init__()\n",
        "\n",
        "    self.fc1 = nn.Linear(28*28, 200)\n",
        "    self.fc2 = nn.Linear(200, 200)\n",
        "    self.fc3 = nn.Linear(200, 10)\n",
        "\n",
        "  def forward(self, x):\n",
        "    x = torch.flatten(x, 1)\n",
        "    x = F.relu(self.fc1(x))\n",
        "    x = F.relu(self.fc2(x))\n",
        "    out = self.fc3(x)\n",
        "\n",
        "    return x"
      ],
      "execution_count": 44,
      "outputs": []
    },
    {
      "cell_type": "code",
      "metadata": {
        "id": "ut1hZ8x3qYPZ"
      },
      "source": [
        "class MNIST_CNN(nn.Module):\n",
        "  \"\"\"\n",
        "  CNN with two 5x5 convolution lauers(the first with 32 channels, second with 64,\n",
        "  each followed with 2x2 max pooling), a fully connected layer with 512 uunits and \n",
        "  ReLu activation, and the final Softmax output layer\n",
        "\n",
        "  Total Expected Params: 1,663,370\n",
        "  \"\"\"\n",
        "  def __init__(self):\n",
        "    super(MNIST_CNN, self).__init__()\n",
        "\n",
        "    self.conv1 = nn.Conv2d(1, 32, kernel_size=5)\n",
        "    self.conv2 = nn.Conv2d(32, 64, kernel_size=5)\n",
        "    \n",
        "    self.pool = nn.MaxPool2d(2,2)\n",
        "    self.dropout = nn.Dropout(p=0.2)\n",
        "\n",
        "    self.fc1 = nn.Linear(1024, 512)\n",
        "    self.out = nn.Linear(512, 10)\n",
        "\n",
        "  def forward(self, x):\n",
        "    x = self.pool(F.relu(self.conv1(x)))\n",
        "    x = self.pool(F.relu(self.conv2(x)))\n",
        "    x = self.dropout(x)\n",
        "    x = torch.flatten(x, 1)\n",
        "    x = F.relu(self.fc1(x))\n",
        "    x = self.out(x)\n",
        "    out = F.log_softmax(x, dim=1)\n",
        "\n",
        "    return out"
      ],
      "execution_count": 45,
      "outputs": []
    },
    {
      "cell_type": "markdown",
      "metadata": {
        "id": "uVv4HA9HuLtr"
      },
      "source": [
        "### Print Model Summaries"
      ]
    },
    {
      "cell_type": "code",
      "metadata": {
        "colab": {
          "base_uri": "https://localhost:8080/"
        },
        "id": "I5oTH710sJEt",
        "outputId": "ba39fabc-6bda-42ec-a6b2-44325b95b35e"
      },
      "source": [
        "mnist_mlp = MNIST_2NN()\n",
        "mnist_cnn = MNIST_CNN()\n",
        "\n",
        "if torch.cuda.is_available():\n",
        "  mnist_mlp.cuda()\n",
        "  mnist_cnn.cuda()\n",
        "\n",
        "print(\"MNIST MLP SUMMARY\")\n",
        "print(summary(mnist_mlp, (28,28)))\n",
        "\n",
        "print(\"\\nMNIST CNN SUMMARY\")\n",
        "print(summary(mnist_cnn, (1, 28,28)))"
      ],
      "execution_count": 46,
      "outputs": [
        {
          "output_type": "stream",
          "text": [
            "MNIST MLP SUMMARY\n",
            "----------------------------------------------------------------\n",
            "        Layer (type)               Output Shape         Param #\n",
            "================================================================\n",
            "            Linear-1                  [-1, 200]         157,000\n",
            "            Linear-2                  [-1, 200]          40,200\n",
            "            Linear-3                   [-1, 10]           2,010\n",
            "================================================================\n",
            "Total params: 199,210\n",
            "Trainable params: 199,210\n",
            "Non-trainable params: 0\n",
            "----------------------------------------------------------------\n",
            "Input size (MB): 0.00\n",
            "Forward/backward pass size (MB): 0.00\n",
            "Params size (MB): 0.76\n",
            "Estimated Total Size (MB): 0.77\n",
            "----------------------------------------------------------------\n",
            "None\n",
            "\n",
            "MNIST CNN SUMMARY\n",
            "----------------------------------------------------------------\n",
            "        Layer (type)               Output Shape         Param #\n",
            "================================================================\n",
            "            Conv2d-1           [-1, 32, 24, 24]             832\n",
            "         MaxPool2d-2           [-1, 32, 12, 12]               0\n",
            "            Conv2d-3             [-1, 64, 8, 8]          51,264\n",
            "         MaxPool2d-4             [-1, 64, 4, 4]               0\n",
            "           Dropout-5             [-1, 64, 4, 4]               0\n",
            "            Linear-6                  [-1, 512]         524,800\n",
            "            Linear-7                   [-1, 10]           5,130\n",
            "================================================================\n",
            "Total params: 582,026\n",
            "Trainable params: 582,026\n",
            "Non-trainable params: 0\n",
            "----------------------------------------------------------------\n",
            "Input size (MB): 0.00\n",
            "Forward/backward pass size (MB): 0.23\n",
            "Params size (MB): 2.22\n",
            "Estimated Total Size (MB): 2.45\n",
            "----------------------------------------------------------------\n",
            "None\n"
          ],
          "name": "stdout"
        }
      ]
    },
    {
      "cell_type": "markdown",
      "metadata": {
        "id": "JYXicM_FjSv6"
      },
      "source": [
        "## FedProx"
      ]
    },
    {
      "cell_type": "markdown",
      "metadata": {
        "id": "cjGMTWxAOsf1"
      },
      "source": [
        "### Systems Heterogeneity Simulations\n",
        "\n",
        "Generate epochs for selected clients based on percentage of devices that corresponds to heterogeneity. \n",
        "\n",
        "Assign x number of epochs (chosen unifirmly at random between [1, E]) to 0%, 50% or 90% of the selected devices, respectively. Settings where 0% devices perform fewer than E epochs of work correspond to the environments without system heterogeneity, while 90% of the devices sending their partial solutions corresponds to highly heterogenous system."
      ]
    },
    {
      "cell_type": "code",
      "metadata": {
        "id": "i-WTHuT3OpFD"
      },
      "source": [
        "def GenerateLocalEpochs(percentage, size, max_epochs):\n",
        "  ''' Method generates list of epochs for selected clients\n",
        "  to replicate system heteroggeneity\n",
        "\n",
        "  Params:\n",
        "    percentage: percentage of clients to have fewer than E epochs\n",
        "    size:       total size of the list\n",
        "    max_epochs: maximum value for local epochs\n",
        "  \n",
        "  Returns:\n",
        "    List of size epochs for each Client Update\n",
        "\n",
        "  '''\n",
        "\n",
        "  # if percentage is 0 then each client runs for E epochs\n",
        "  if percentage == 0:\n",
        "      return np.array([max_epochs]*size)\n",
        "  else:\n",
        "    # get the number of clients to have fewer than E epochs\n",
        "    heterogenous_size = int((percentage/100) * size)\n",
        "\n",
        "    # generate random uniform epochs of heterogenous size between 1 and E\n",
        "    epoch_list = np.random.randint(1, max_epochs, heterogenous_size)\n",
        "\n",
        "    # the rest of the clients will have E epochs\n",
        "    remaining_size = size - heterogenous_size\n",
        "    rem_list = [max_epochs]*remaining_size\n",
        "\n",
        "    epoch_list = np.append(epoch_list, rem_list, axis=0)\n",
        "    \n",
        "    # shuffle the list and return\n",
        "    np.random.shuffle(epoch_list)\n",
        "\n",
        "    return epoch_list"
      ],
      "execution_count": 47,
      "outputs": []
    },
    {
      "cell_type": "markdown",
      "metadata": {
        "id": "gf_8XEXa-gZ7"
      },
      "source": [
        "## Federated Averaging"
      ]
    },
    {
      "cell_type": "markdown",
      "metadata": {
        "id": "L-aNdQsQ-Kvp"
      },
      "source": [
        "### Local Training (Client Update)\n",
        "\n",
        "Local training for the model on client side"
      ]
    },
    {
      "cell_type": "code",
      "metadata": {
        "id": "oX6OsQyO-Gz7"
      },
      "source": [
        "class CustomDataset(Dataset):\n",
        "  def __init__(self, dataset, idxs):\n",
        "      self.dataset = dataset\n",
        "      self.idxs = list(idxs)\n",
        "\n",
        "  def __len__(self):\n",
        "      return len(self.idxs)\n",
        "\n",
        "  def __getitem__(self, item):\n",
        "      image, label = self.dataset[self.idxs[item]]\n",
        "      return image, label\n",
        "\n",
        "\n",
        "class ClientUpdate(object):\n",
        "  def __init__(self, dataset, batchSize, learning_rate, epochs, idxs, mu, algorithm):\n",
        "    self.train_loader = DataLoader(CustomDataset(dataset, idxs), batch_size=batchSize, shuffle=True)\n",
        "    self.algorithm = algorithm\n",
        "    self.learning_rate = learning_rate\n",
        "    self.epochs = epochs\n",
        "\n",
        "  def train(self, model):\n",
        "    criterion = nn.CrossEntropyLoss()\n",
        "    proximal_criterion = nn.MSELoss(reduction='mean')\n",
        "    optimizer = torch.optim.SGD(model.parameters(), lr=self.learning_rate, momentum=0.5)\n",
        "\n",
        "    # use the weights of global model for proximal term calculation\n",
        "    global_model = copy.deepcopy(model)\n",
        "\n",
        "    # calculate local training time\n",
        "    start_time = time.time()\n",
        "\n",
        "\n",
        "    e_loss = []\n",
        "    for epoch in range(1, self.epochs+1):\n",
        "\n",
        "      train_loss = 0.0\n",
        "\n",
        "      model.train()\n",
        "      for data, labels in self.train_loader:\n",
        "\n",
        "        if torch.cuda.is_available():\n",
        "          data, labels = data.cuda(), labels.cuda()\n",
        "\n",
        "        # clear the gradients\n",
        "        optimizer.zero_grad()\n",
        "        # make a forward pass\n",
        "        output = model(data)\n",
        "\n",
        "        # calculate the loss + the proximal term\n",
        "        _, pred = torch.max(output, 1)\n",
        "\n",
        "        if self.algorithm == 'fedprox':\n",
        "          proximal_term = 0.0\n",
        "\n",
        "          # iterate through the current and global model parameters\n",
        "          for w, w_t in zip(model.parameters(), global_model.parameters()) :\n",
        "            # update the proximal term \n",
        "            #proximal_term += torch.sum(torch.abs((w-w_t)**2))\n",
        "            proximal_term += (w-w_t).norm(2)\n",
        "\n",
        "          loss = criterion(output, labels) + (mu/2)*proximal_term\n",
        "        else:\n",
        "          loss = criterion(output, labels)\n",
        "    \n",
        "        # do a backwards pass\n",
        "        loss.backward()\n",
        "        # perform a single optimization step\n",
        "        optimizer.step()\n",
        "        # update training loss\n",
        "        train_loss += loss.item()*data.size(0)\n",
        "\n",
        "      # average losses\n",
        "      train_loss = train_loss/len(self.train_loader.dataset)\n",
        "      e_loss.append(train_loss)\n",
        "\n",
        "    total_loss = sum(e_loss)/len(e_loss)\n",
        "\n",
        "    return model.state_dict(), total_loss, (time.time() - start_time)"
      ],
      "execution_count": 48,
      "outputs": []
    },
    {
      "cell_type": "markdown",
      "metadata": {
        "id": "Ukgh1DVHE2Ds"
      },
      "source": [
        "### Server Side Training\n",
        "\n",
        "Following Algorithm 1 from the paper"
      ]
    },
    {
      "cell_type": "code",
      "metadata": {
        "id": "1NF1e33BgpeL"
      },
      "source": [
        "def training(model, rounds, batch_size, lr, ds, ds_test, data_dict, C, K, E, mu, percentage, plt_title, plt_color, target_test_accuracy, algorithm=\"fedprox\"):\n",
        "  \"\"\"\n",
        "  Function implements the Federated Averaging Algorithm from the FedAvg paper.\n",
        "  Specifically, this function is used for the server side training and weight update\n",
        "\n",
        "  Params:\n",
        "    - model:           PyTorch model to train\n",
        "    - rounds:          Number of communication rounds for the client update\n",
        "    - batch_size:      Batch size for client update training\n",
        "    - lr:              Learning rate used for client update training\n",
        "    - ds:              Dataset used for training\n",
        "    - ds_test:         Dataset used for testing\n",
        "    - data_dict:       Type of data partition used for training (IID or non-IID)\n",
        "    - C:               Fraction of clients randomly chosen to perform computation on each round\n",
        "    - K:               Total number of clients\n",
        "    - E:               Number of training passes each client makes over its local dataset per round\n",
        "    - tb_writer_name:  Directory name to save the tensorboard logs\n",
        "  Returns:\n",
        "    - model:           Trained model on the server\n",
        "  \"\"\"\n",
        "\n",
        "  # global model weights\n",
        "  global_weights = model.state_dict()\n",
        "\n",
        "  # training loss\n",
        "  # train_accuracy = []\n",
        "  train_loss = []\n",
        "  test_accuracy = []\n",
        "  test_loss = []\n",
        "\n",
        "  # store last loss for convergence\n",
        "  last_loss = 0.0\n",
        "\n",
        "  # total time taken \n",
        "  total_time = 0\n",
        "  start = time.time()\n",
        "    \n",
        "  print(f\"System heterogeneity set to {percentage}% stragglers.\\n\")\n",
        "  print(f\"Picking {max(int(C*K),1 )} random clients per round.\\n\")\n",
        "\n",
        "  for curr_round in range(1, rounds+1):\n",
        "    w, local_loss, lst_local_train_time = [], [], []\n",
        "\n",
        "    m = max(int(C*K), 1)\n",
        "\n",
        "    heterogenous_epoch_list = GenerateLocalEpochs(percentage, size=m, max_epochs=E)\n",
        "    heterogenous_epoch_list = np.array(heterogenous_epoch_list)\n",
        "\n",
        "    S_t = np.random.choice(range(K), m, replace=False)\n",
        "    S_t = np.array(S_t)\n",
        "    \n",
        "    # For Federated Averaging, drop all the clients that are stragglers\n",
        "    if algorithm == 'fedavg':\n",
        "      stragglers_indices = np.argwhere(heterogenous_epoch_list < E)\n",
        "      heterogenous_epoch_list = np.delete(heterogenous_epoch_list, stragglers_indices)\n",
        "      S_t = np.delete(S_t, stragglers_indices)\n",
        "\n",
        "    for k, epoch in zip(S_t, heterogenous_epoch_list):\n",
        "      local_update = ClientUpdate(dataset=ds, batchSize=batch_size, learning_rate=lr, epochs=epoch, idxs=data_dict[k], mu=mu, algorithm=algorithm)\n",
        "      weights, loss, local_train_time = local_update.train(model=copy.deepcopy(model))\n",
        "\n",
        "      w.append(copy.deepcopy(weights))\n",
        "      local_loss.append(copy.deepcopy(loss))\n",
        "      lst_local_train_time.append(local_train_time)\n",
        "\n",
        "    # calculate time to update the global weights\n",
        "    global_start_time = time.time()\n",
        "\n",
        "    # updating the global weights\n",
        "    weights_avg = copy.deepcopy(w[0])\n",
        "    for k in weights_avg.keys():\n",
        "      for i in range(1, len(w)):\n",
        "        weights_avg[k] += w[i][k]\n",
        "\n",
        "      weights_avg[k] = torch.div(weights_avg[k], len(w))\n",
        "\n",
        "    global_weights = weights_avg\n",
        "    global_end_time = time.time()\n",
        "\n",
        "    # calculate total time \n",
        "    total_time += (global_end_time - global_start_time) + sum(lst_local_train_time)/len(lst_local_train_time)\n",
        "\n",
        "    # move the updated weights to our model state dict\n",
        "    model.load_state_dict(global_weights)\n",
        "\n",
        "    # loss\n",
        "    loss_avg = sum(local_loss) / len(local_loss)\n",
        "\n",
        "    # test accuracy\n",
        "    criterion = nn.CrossEntropyLoss()\n",
        "    test_accuracy_current, test_loss_current = testing(copy.deepcopy(model), ds_test, 128, criterion, num_classes, classes_test)\n",
        "    test_accuracy.append(test_accuracy_current)\n",
        "    test_loss.append(test_loss_current)\n",
        "\n",
        "    print(f\"Round: {curr_round}... \\tAverage Train Loss: {round(loss_avg, 3)}... \\tTest Loss: {test_loss_current}... \\tTest Accuracy: {test_accuracy_current}\")\n",
        "    train_loss.append(loss_avg)\n",
        "\n",
        "    # # break if we achieve the target test accuracy\n",
        "    # if test_accuracy_current >= target_test_accuracy:\n",
        "    #   rounds = curr_round\n",
        "    #   break\n",
        "\n",
        "    # # break if we achieve convergence, i.e., loss between two consecutive rounds is <0.0001\n",
        "    # if algorithm == 'fedprox' and abs(loss_avg - last_loss) < 0.0001:\n",
        "    #   rounds = curr_round\n",
        "    #   break\n",
        "    \n",
        "    # update the last loss\n",
        "    last_loss = loss_avg\n",
        "\n",
        "  end = time.time()\n",
        "\n",
        "  # plot train loss\n",
        "  fig, ax = plt.subplots()\n",
        "  x_axis = np.arange(1, rounds+1)\n",
        "  y_axis = np.array(train_loss)\n",
        "  ax.plot(x_axis, y_axis)\n",
        "\n",
        "  ax.set(xlabel='Number of Rounds', ylabel='Train Loss', title=plt_title)\n",
        "  ax.grid()\n",
        "  fig.savefig(plt_title+'_Train_loss.jpg', format='jpg')\n",
        "  plt.show()\n",
        "\n",
        "  fig, ax = plt.subplots()\n",
        "  x_axis = np.arange(1, rounds+1)\n",
        "  y_axis = np.array(test_loss)\n",
        "  ax.plot(x_axis, y_axis, 'tab:'+plt_color)\n",
        "\n",
        "  ax.set(xlabel='Number of Rounds', ylabel='Test Loss', title=plt_title)\n",
        "  ax.grid()\n",
        "  fig.savefig(plt_title+'_Test_loss.jpg', format='jpg')\n",
        "  plt.show()\n",
        "\n",
        "\n",
        "  fig, ax = plt.subplots()\n",
        "  x_axis = np.arange(1, rounds+1)\n",
        "  y_axis = np.array(test_accuracy)\n",
        "  ax.plot(x_axis, y_axis, 'tab:'+plt_color)\n",
        "\n",
        "  ax.set(xlabel='Number of Rounds', ylabel='Test Accuracy', title=plt_title)\n",
        "  ax.grid()\n",
        "  fig.savefig(plt_title+'_Test_Accuracy.jpg', format='jpg')\n",
        "  plt.show()\n",
        "  \n",
        "  print(\"Training Done!\")\n",
        "  print(\"Total time taken to Train: {}\\n\\n\".format(end-start))\n",
        "  \n",
        "  return model, train_loss, test_accuracy, test_loss"
      ],
      "execution_count": 49,
      "outputs": []
    },
    {
      "cell_type": "markdown",
      "metadata": {
        "id": "tUYyb4T-uXmF"
      },
      "source": [
        "## Testing Loop"
      ]
    },
    {
      "cell_type": "code",
      "metadata": {
        "id": "uCcIZmO5uan9"
      },
      "source": [
        "def testing(model, dataset, bs, criterion, num_classes, classes, print_info=False):\n",
        "  #test loss \n",
        "  test_loss = 0.0\n",
        "  correct_class = list(0. for i in range(num_classes))\n",
        "  total_class = list(0. for i in range(num_classes))\n",
        "\n",
        "  test_loader = DataLoader(dataset, batch_size=bs)\n",
        "  l = len(test_loader)\n",
        "  model.eval()\n",
        "  for data, labels in test_loader:\n",
        "\n",
        "    if torch.cuda.is_available():\n",
        "      data, labels = data.cuda(), labels.cuda()\n",
        "\n",
        "    output = model(data)\n",
        "    loss = criterion(output, labels)\n",
        "    test_loss += loss.item()*data.size(0)\n",
        "\n",
        "    _, pred = torch.max(output, 1)\n",
        "\n",
        "    correct_tensor = pred.eq(labels.data.view_as(pred))\n",
        "    correct = np.squeeze(correct_tensor.numpy()) if not torch.cuda.is_available() else np.squeeze(correct_tensor.cpu().numpy())\n",
        "\n",
        "    #test accuracy for each object class\n",
        "    for i in range(num_classes):\n",
        "      label = labels.data[i]\n",
        "      correct_class[label] += correct[i].item()\n",
        "      total_class[label] += 1\n",
        "    \n",
        "  # avg test loss\n",
        "  test_loss = test_loss/len(test_loader.dataset)\n",
        "  test_accuracy = 100. * np.sum(correct_class) / np.sum(total_class)\n",
        "\n",
        "  if print_info:\n",
        "    print(\"Test Loss: {:.6f}\\n\".format(test_loss))\n",
        "\n",
        "    for i in range(10):\n",
        "      if total_class[i]>0:\n",
        "        print('Test Accuracy of %5s: %2d%% (%2d/%2d)' % \n",
        "              (classes[i], 100 * correct_class[i] / total_class[i],\n",
        "              np.sum(correct_class[i]), np.sum(total_class[i])))\n",
        "      else:\n",
        "        print('Test Accuracy of %5s: N/A (no training examples)' % (classes[i]))\n",
        "\n",
        "    print('\\nFinal Test  Accuracy: {:.3f} ({}/{})'.format(\n",
        "          100. * np.sum(correct_class) / np.sum(total_class),\n",
        "          np.sum(correct_class), np.sum(total_class)))\n",
        "  \n",
        "  return test_accuracy, test_loss"
      ],
      "execution_count": 50,
      "outputs": []
    },
    {
      "cell_type": "markdown",
      "metadata": {
        "id": "Ri0FqXFeHW-V"
      },
      "source": [
        "## Logger"
      ]
    },
    {
      "cell_type": "code",
      "metadata": {
        "id": "thZm2kSiHT4v"
      },
      "source": [
        "log_dict = {}\n",
        "NUM_REPEAT = 1"
      ],
      "execution_count": 51,
      "outputs": []
    },
    {
      "cell_type": "markdown",
      "metadata": {
        "id": "4hO5oV6aXqeh"
      },
      "source": [
        "## MNIST CNN on IID"
      ]
    },
    {
      "cell_type": "markdown",
      "metadata": {
        "id": "flSQv_P4zCfx"
      },
      "source": [
        "### Train\n"
      ]
    },
    {
      "cell_type": "code",
      "metadata": {
        "colab": {
          "base_uri": "https://localhost:8080/",
          "height": 1000
        },
        "id": "0ZalcKZtEseA",
        "outputId": "0a5e1964-1a7d-4daf-9426-bff077b2ddad"
      },
      "source": [
        "train_loss_multiple_runs = [None] * NUM_REPEAT\n",
        "test_accuracy_multiple_runs = [None] * NUM_REPEAT\n",
        "test_loss_multiple_runs = [None] * NUM_REPEAT\n",
        "\n",
        "for exp_num in range(NUM_REPEAT):\n",
        "  print(\"Experiment Run Number: \", exp_num)\n",
        "\n",
        "  # number of training rounds\n",
        "  rounds = 50\n",
        "  # client fraction\n",
        "  C = 0.1\n",
        "  # number of clients\n",
        "  K = 100\n",
        "  # number of training passes on local dataset for each roung\n",
        "  E = 5\n",
        "  # batch size\n",
        "  batch_size = 10\n",
        "  # learning Rate\n",
        "  lr = 0.05\n",
        "  # proximal term constant\n",
        "  mu = 0.01\n",
        "  # percentage of clients to have fewer than E epochs\n",
        "  percentage = 50\n",
        "\n",
        "  # target_test_accuracy\n",
        "  target_test_accuracy=99.0\n",
        "  # data partition dictionary\n",
        "  iid_dict = iid_partition(mnist_data_train, 100)\n",
        "  # load model\n",
        "  mnist_cnn = MNIST_CNN()\n",
        "\n",
        "  if torch.cuda.is_available():\n",
        "    mnist_cnn.cuda()\n",
        "\n",
        "  mnist_cnn_iid_trained, train_loss, test_accuracy, test_loss = training(mnist_cnn, rounds, batch_size, lr, mnist_data_train, mnist_data_test, iid_dict, C, K, E, mu, percentage, \"MNIST CNN on IID Dataset\", \"orange\", target_test_accuracy)\n",
        "\n",
        "  train_loss_multiple_runs[exp_num] = train_loss\n",
        "  test_accuracy_multiple_runs[exp_num] = test_accuracy\n",
        "  test_loss_multiple_runs[exp_num] = test_loss"
      ],
      "execution_count": 52,
      "outputs": [
        {
          "output_type": "stream",
          "text": [
            "Experiment Run Number:  0\n",
            "System heterogeneity set to 50% stragglers.\n",
            "\n",
            "Picking 10 random clients per round.\n",
            "\n",
            "Round: 1... \tAverage Train Loss: 0.767... \tTest Loss: 0.441418595790863... \tTest Accuracy: 93.41772151898734\n",
            "Round: 2... \tAverage Train Loss: 0.228... \tTest Loss: 0.11990122444033623... \tTest Accuracy: 96.07594936708861\n",
            "Round: 3... \tAverage Train Loss: 0.148... \tTest Loss: 0.0933413944337517... \tTest Accuracy: 96.83544303797468\n",
            "Round: 4... \tAverage Train Loss: 0.139... \tTest Loss: 0.07233985740412027... \tTest Accuracy: 97.59493670886076\n",
            "Round: 5... \tAverage Train Loss: 0.09... \tTest Loss: 0.06534396432386712... \tTest Accuracy: 97.46835443037975\n",
            "Round: 6... \tAverage Train Loss: 0.09... \tTest Loss: 0.058559992309752854... \tTest Accuracy: 98.22784810126582\n",
            "Round: 7... \tAverage Train Loss: 0.079... \tTest Loss: 0.05511074099163525... \tTest Accuracy: 98.60759493670886\n",
            "Round: 8... \tAverage Train Loss: 0.081... \tTest Loss: 0.05221860137563199... \tTest Accuracy: 98.86075949367088\n",
            "Round: 9... \tAverage Train Loss: 0.069... \tTest Loss: 0.05006339020198211... \tTest Accuracy: 98.48101265822785\n",
            "Round: 10... \tAverage Train Loss: 0.076... \tTest Loss: 0.04384853823815938... \tTest Accuracy: 98.86075949367088\n",
            "Round: 11... \tAverage Train Loss: 0.057... \tTest Loss: 0.043479774891387206... \tTest Accuracy: 98.86075949367088\n",
            "Round: 12... \tAverage Train Loss: 0.058... \tTest Loss: 0.04098089656149968... \tTest Accuracy: 99.24050632911393\n",
            "Round: 13... \tAverage Train Loss: 0.052... \tTest Loss: 0.03721582296642009... \tTest Accuracy: 99.24050632911393\n",
            "Round: 14... \tAverage Train Loss: 0.046... \tTest Loss: 0.03685325569111155... \tTest Accuracy: 99.24050632911393\n",
            "Round: 15... \tAverage Train Loss: 0.054... \tTest Loss: 0.03724070063026156... \tTest Accuracy: 99.24050632911393\n",
            "Round: 16... \tAverage Train Loss: 0.05... \tTest Loss: 0.03416157916675438... \tTest Accuracy: 99.24050632911393\n",
            "Round: 17... \tAverage Train Loss: 0.053... \tTest Loss: 0.03443365083239041... \tTest Accuracy: 99.24050632911393\n",
            "Round: 18... \tAverage Train Loss: 0.048... \tTest Loss: 0.03352654376788123... \tTest Accuracy: 99.36708860759494\n",
            "Round: 19... \tAverage Train Loss: 0.042... \tTest Loss: 0.0323641606580306... \tTest Accuracy: 99.36708860759494\n",
            "Round: 20... \tAverage Train Loss: 0.052... \tTest Loss: 0.031058874005376127... \tTest Accuracy: 99.24050632911393\n",
            "Round: 21... \tAverage Train Loss: 0.036... \tTest Loss: 0.030606465268998... \tTest Accuracy: 99.24050632911393\n",
            "Round: 22... \tAverage Train Loss: 0.035... \tTest Loss: 0.030587043888935295... \tTest Accuracy: 99.36708860759494\n",
            "Round: 23... \tAverage Train Loss: 0.04... \tTest Loss: 0.029968463798408628... \tTest Accuracy: 99.36708860759494\n",
            "Round: 24... \tAverage Train Loss: 0.032... \tTest Loss: 0.028897282171840198... \tTest Accuracy: 99.36708860759494\n",
            "Round: 25... \tAverage Train Loss: 0.049... \tTest Loss: 0.028922503073950067... \tTest Accuracy: 99.36708860759494\n",
            "Round: 26... \tAverage Train Loss: 0.039... \tTest Loss: 0.028664689192583317... \tTest Accuracy: 99.36708860759494\n",
            "Round: 27... \tAverage Train Loss: 0.037... \tTest Loss: 0.027704084654879987... \tTest Accuracy: 99.36708860759494\n",
            "Round: 28... \tAverage Train Loss: 0.029... \tTest Loss: 0.028133252356016603... \tTest Accuracy: 99.36708860759494\n",
            "Round: 29... \tAverage Train Loss: 0.038... \tTest Loss: 0.026667905599810183... \tTest Accuracy: 99.49367088607595\n",
            "Round: 30... \tAverage Train Loss: 0.031... \tTest Loss: 0.027393557138860342... \tTest Accuracy: 99.49367088607595\n",
            "Round: 31... \tAverage Train Loss: 0.041... \tTest Loss: 0.027666483832306403... \tTest Accuracy: 99.36708860759494\n",
            "Round: 32... \tAverage Train Loss: 0.03... \tTest Loss: 0.027417732041870476... \tTest Accuracy: 99.36708860759494\n",
            "Round: 33... \tAverage Train Loss: 0.037... \tTest Loss: 0.027267704533544018... \tTest Accuracy: 99.49367088607595\n",
            "Round: 34... \tAverage Train Loss: 0.023... \tTest Loss: 0.027581655871664407... \tTest Accuracy: 99.49367088607595\n",
            "Round: 35... \tAverage Train Loss: 0.03... \tTest Loss: 0.027969078632010497... \tTest Accuracy: 99.36708860759494\n",
            "Round: 36... \tAverage Train Loss: 0.034... \tTest Loss: 0.025476736367779085... \tTest Accuracy: 99.36708860759494\n",
            "Round: 37... \tAverage Train Loss: 0.037... \tTest Loss: 0.025372883449544314... \tTest Accuracy: 99.36708860759494\n",
            "Round: 38... \tAverage Train Loss: 0.039... \tTest Loss: 0.025864261017757236... \tTest Accuracy: 99.11392405063292\n",
            "Round: 39... \tAverage Train Loss: 0.029... \tTest Loss: 0.025223996278006235... \tTest Accuracy: 99.36708860759494\n",
            "Round: 40... \tAverage Train Loss: 0.032... \tTest Loss: 0.025032189178626867... \tTest Accuracy: 99.49367088607595\n",
            "Round: 41... \tAverage Train Loss: 0.035... \tTest Loss: 0.026169960017829726... \tTest Accuracy: 99.24050632911393\n",
            "Round: 42... \tAverage Train Loss: 0.026... \tTest Loss: 0.02470202539662714... \tTest Accuracy: 99.49367088607595\n",
            "Round: 43... \tAverage Train Loss: 0.023... \tTest Loss: 0.02537527401148691... \tTest Accuracy: 99.49367088607595\n",
            "Round: 44... \tAverage Train Loss: 0.037... \tTest Loss: 0.025297711696370972... \tTest Accuracy: 99.36708860759494\n",
            "Round: 45... \tAverage Train Loss: 0.022... \tTest Loss: 0.024829654727003072... \tTest Accuracy: 99.49367088607595\n",
            "Round: 46... \tAverage Train Loss: 0.025... \tTest Loss: 0.025652081217960223... \tTest Accuracy: 99.36708860759494\n",
            "Round: 47... \tAverage Train Loss: 0.03... \tTest Loss: 0.02425788342330925... \tTest Accuracy: 99.49367088607595\n",
            "Round: 48... \tAverage Train Loss: 0.026... \tTest Loss: 0.024753551591615543... \tTest Accuracy: 99.49367088607595\n",
            "Round: 49... \tAverage Train Loss: 0.024... \tTest Loss: 0.02480580313109531... \tTest Accuracy: 99.49367088607595\n",
            "Round: 50... \tAverage Train Loss: 0.024... \tTest Loss: 0.024920995078023405... \tTest Accuracy: 99.62025316455696\n"
          ],
          "name": "stdout"
        },
        {
          "output_type": "display_data",
          "data": {
            "image/png": "[encoded data removed]",
            "text/plain": [
              "<Figure size 432x288 with 1 Axes>"
            ]
          },
          "metadata": {
            "tags": [],
            "needs_background": "light"
          }
        },
        {
          "output_type": "display_data",
          "data": {
            "image/png": "[encoded data removed]",
            "text/plain": [
              "<Figure size 432x288 with 1 Axes>"
            ]
          },
          "metadata": {
            "tags": [],
            "needs_background": "light"
          }
        },
        {
          "output_type": "display_data",
          "data": {
            "image/png": "[encoded data removed]",
            "text/plain": [
              "<Figure size 432x288 with 1 Axes>"
            ]
          },
          "metadata": {
            "tags": [],
            "needs_background": "light"
          }
        },
        {
          "output_type": "stream",
          "text": [
            "Training Done!\n",
            "Total time taken to Train: 1172.8193578720093\n",
            "\n",
            "\n"
          ],
          "name": "stdout"
        }
      ]
    },
    {
      "cell_type": "markdown",
      "metadata": {
        "id": "wNwC82przF6G"
      },
      "source": [
        "### Test"
      ]
    },
    {
      "cell_type": "code",
      "metadata": {
        "id": "qB97BFs9we9w",
        "colab": {
          "base_uri": "https://localhost:8080/"
        },
        "outputId": "42f4b6b3-3804-4b21-e4d7-bd030ddf533c"
      },
      "source": [
        "criterion = nn.CrossEntropyLoss()\n",
        "acc, loss = testing(mnist_cnn_iid_trained, mnist_data_test, 128, criterion, num_classes, classes_test, True)"
      ],
      "execution_count": 53,
      "outputs": [
        {
          "output_type": "stream",
          "text": [
            "Test Loss: 0.024921\n",
            "\n",
            "Test Accuracy of     0: 100% (76/76)\n",
            "Test Accuracy of     1: 100% (90/90)\n",
            "Test Accuracy of     2: 100% (91/91)\n",
            "Test Accuracy of     3: 97% (71/73)\n",
            "Test Accuracy of     4: 100% (89/89)\n",
            "Test Accuracy of     5: 98% (67/68)\n",
            "Test Accuracy of     6: 100% (62/62)\n",
            "Test Accuracy of     7: 100% (81/81)\n",
            "Test Accuracy of     8: 100% (77/77)\n",
            "Test Accuracy of     9: 100% (83/83)\n",
            "\n",
            "Final Test  Accuracy: 99.620 (787.0/790.0)\n"
          ],
          "name": "stdout"
        }
      ]
    },
    {
      "cell_type": "code",
      "metadata": {
        "id": "gdQZEZmHHeqt"
      },
      "source": [
        "hyperparams = {'rounds': rounds,\n",
        "               'C': C,\n",
        "               'K': K,\n",
        "               'E': E,\n",
        "               'batch_size': batch_size,\n",
        "               'lr': lr,\n",
        "               'mu': mu,\n",
        "               'percentage': percentage,\n",
        "               'target_test_accuracy': target_test_accuracy,\n",
        "               }\n",
        "\n",
        "log_dict['MNIST CNN on IID'] = {'train_loss': train_loss_multiple_runs, \n",
        "                                'test_loss': test_loss_multiple_runs, \n",
        "                                'test_accuracy': test_accuracy_multiple_runs,\n",
        "                                'hyperparams': hyperparams,\n",
        "                                }"
      ],
      "execution_count": 54,
      "outputs": []
    },
    {
      "cell_type": "markdown",
      "metadata": {
        "id": "uF8MdSIUYcnl"
      },
      "source": [
        "## MNIST CNN on Non IID"
      ]
    },
    {
      "cell_type": "markdown",
      "metadata": {
        "id": "a6wXX7JW11bx"
      },
      "source": [
        "### Train\n"
      ]
    },
    {
      "cell_type": "code",
      "metadata": {
        "id": "fCD3kBCKYfBK",
        "colab": {
          "base_uri": "https://localhost:8080/",
          "height": 1000
        },
        "outputId": "2f60c4e6-198e-4a06-9aaa-9d248a1da931"
      },
      "source": [
        "train_loss_multiple_runs = [None] * NUM_REPEAT\n",
        "test_accuracy_multiple_runs = [None] * NUM_REPEAT\n",
        "test_loss_multiple_runs = [None] * NUM_REPEAT\n",
        "\n",
        "for exp_num in range(NUM_REPEAT):\n",
        "  print(\"Experiment Run Number: \", exp_num)\n",
        "\n",
        "  # number of training rounds\n",
        "  rounds = 50\n",
        "  # client fraction\n",
        "  C = 0.1\n",
        "  # number of clients\n",
        "  K = 100\n",
        "  # number of training passes on local dataset for each roung\n",
        "  E = 5\n",
        "  # batch size\n",
        "  batch_size = 10\n",
        "  # learning Rate\n",
        "  lr=0.05\n",
        "  # proximal term constant\n",
        "  mu = 0.01\n",
        "  # percentage of clients to have fewer than E epochs\n",
        "  percentage = 50\n",
        "  # target_test_accuracy\n",
        "  target_test_accuracy=99.0\n",
        "\n",
        "  # dict containing different type of data partition\n",
        "  data_dict = non_iid_partition(mnist_data_train, 100, 200, 300, 2)\n",
        "  # load model\n",
        "  mnist_cnn = MNIST_CNN()\n",
        "\n",
        "  if torch.cuda.is_available():\n",
        "    mnist_cnn.cuda()\n",
        "\n",
        "  mnist_cnn_non_iid_trained, train_loss, test_accuracy, test_loss = training(mnist_cnn, rounds, batch_size, lr, mnist_data_train, mnist_data_test, data_dict, C, K, E,mu, percentage, \"MNIST CNN on Non-IID Dataset\", \"green\", target_test_accuracy)\n",
        "\n",
        "  train_loss_multiple_runs[exp_num] = train_loss\n",
        "  test_accuracy_multiple_runs[exp_num] = test_accuracy\n",
        "  test_loss_multiple_runs[exp_num] = test_loss"
      ],
      "execution_count": 55,
      "outputs": [
        {
          "output_type": "stream",
          "text": [
            "Experiment Run Number:  0\n",
            "System heterogeneity set to 50% stragglers.\n",
            "\n",
            "Picking 10 random clients per round.\n",
            "\n",
            "Round: 1... \tAverage Train Loss: 0.235... \tTest Loss: 2.246394340133667... \tTest Accuracy: 15.822784810126583\n",
            "Round: 2... \tAverage Train Loss: 0.163... \tTest Loss: 1.9903212644577026... \tTest Accuracy: 42.53164556962025\n",
            "Round: 3... \tAverage Train Loss: 0.085... \tTest Loss: 1.3342986846923828... \tTest Accuracy: 71.0126582278481\n",
            "Round: 4... \tAverage Train Loss: 0.049... \tTest Loss: 0.9390967918395996... \tTest Accuracy: 73.92405063291139\n",
            "Round: 5... \tAverage Train Loss: 0.037... \tTest Loss: 0.740554782485962... \tTest Accuracy: 79.62025316455696\n",
            "Round: 6... \tAverage Train Loss: 0.063... \tTest Loss: 0.720923327255249... \tTest Accuracy: 77.72151898734177\n",
            "Round: 7... \tAverage Train Loss: 0.042... \tTest Loss: 0.4748914103031158... \tTest Accuracy: 83.41772151898734\n",
            "Round: 8... \tAverage Train Loss: 0.087... \tTest Loss: 0.4325276798248291... \tTest Accuracy: 83.92405063291139\n",
            "Round: 9... \tAverage Train Loss: 0.041... \tTest Loss: 0.3350793989896774... \tTest Accuracy: 89.74683544303798\n",
            "Round: 10... \tAverage Train Loss: 0.039... \tTest Loss: 0.27582922887802125... \tTest Accuracy: 92.65822784810126\n",
            "Round: 11... \tAverage Train Loss: 0.035... \tTest Loss: 0.22587038975954055... \tTest Accuracy: 94.17721518987342\n",
            "Round: 12... \tAverage Train Loss: 0.022... \tTest Loss: 0.18789963505268098... \tTest Accuracy: 94.17721518987342\n",
            "Round: 13... \tAverage Train Loss: 0.023... \tTest Loss: 0.18527717185020448... \tTest Accuracy: 94.30379746835443\n",
            "Round: 14... \tAverage Train Loss: 0.027... \tTest Loss: 0.2297903311252594... \tTest Accuracy: 92.53164556962025\n",
            "Round: 15... \tAverage Train Loss: 0.03... \tTest Loss: 0.2449755323767662... \tTest Accuracy: 91.89873417721519\n",
            "Round: 16... \tAverage Train Loss: 0.034... \tTest Loss: 0.20408913195729256... \tTest Accuracy: 94.68354430379746\n",
            "Round: 17... \tAverage Train Loss: 0.029... \tTest Loss: 0.19680886868238448... \tTest Accuracy: 92.40506329113924\n",
            "Round: 18... \tAverage Train Loss: 0.028... \tTest Loss: 0.17132460651397705... \tTest Accuracy: 94.0506329113924\n",
            "Round: 19... \tAverage Train Loss: 0.029... \tTest Loss: 0.17875176951885224... \tTest Accuracy: 94.30379746835443\n",
            "Round: 20... \tAverage Train Loss: 0.043... \tTest Loss: 0.14009009936451913... \tTest Accuracy: 95.0632911392405\n",
            "Round: 21... \tAverage Train Loss: 0.019... \tTest Loss: 0.12260039331316948... \tTest Accuracy: 95.69620253164557\n",
            "Round: 22... \tAverage Train Loss: 0.026... \tTest Loss: 0.1190520400583744... \tTest Accuracy: 95.56962025316456\n",
            "Round: 23... \tAverage Train Loss: 0.034... \tTest Loss: 0.11511661354899407... \tTest Accuracy: 95.69620253164557\n",
            "Round: 24... \tAverage Train Loss: 0.037... \tTest Loss: 0.11937862624228... \tTest Accuracy: 95.9493670886076\n",
            "Round: 25... \tAverage Train Loss: 0.02... \tTest Loss: 0.1182554773747921... \tTest Accuracy: 97.34177215189874\n",
            "Round: 26... \tAverage Train Loss: 0.023... \tTest Loss: 0.10201052215099335... \tTest Accuracy: 97.0886075949367\n",
            "Round: 27... \tAverage Train Loss: 0.029... \tTest Loss: 0.13578831381201745... \tTest Accuracy: 95.0632911392405\n",
            "Round: 28... \tAverage Train Loss: 0.018... \tTest Loss: 0.08386611968167126... \tTest Accuracy: 97.34177215189874\n",
            "Round: 29... \tAverage Train Loss: 0.028... \tTest Loss: 0.08685415679365396... \tTest Accuracy: 97.34177215189874\n",
            "Round: 30... \tAverage Train Loss: 0.035... \tTest Loss: 0.09161008671820163... \tTest Accuracy: 96.83544303797468\n",
            "Round: 31... \tAverage Train Loss: 0.023... \tTest Loss: 0.09408715114220977... \tTest Accuracy: 96.58227848101266\n",
            "Round: 32... \tAverage Train Loss: 0.025... \tTest Loss: 0.10063903116174042... \tTest Accuracy: 96.58227848101266\n",
            "Round: 33... \tAverage Train Loss: 0.021... \tTest Loss: 0.09065858629047871... \tTest Accuracy: 96.83544303797468\n",
            "Round: 34... \tAverage Train Loss: 0.017... \tTest Loss: 0.08286900002099573... \tTest Accuracy: 97.84810126582279\n",
            "Round: 35... \tAverage Train Loss: 0.019... \tTest Loss: 0.06289405572693794... \tTest Accuracy: 98.22784810126582\n",
            "Round: 36... \tAverage Train Loss: 0.021... \tTest Loss: 0.06657216048594564... \tTest Accuracy: 98.73417721518987\n",
            "Round: 37... \tAverage Train Loss: 0.018... \tTest Loss: 0.060847633584588764... \tTest Accuracy: 98.48101265822785\n",
            "Round: 38... \tAverage Train Loss: 0.015... \tTest Loss: 0.07220022203624249... \tTest Accuracy: 98.22784810126582\n",
            "Round: 39... \tAverage Train Loss: 0.014... \tTest Loss: 0.07337824129126966... \tTest Accuracy: 98.48101265822785\n",
            "Round: 40... \tAverage Train Loss: 0.014... \tTest Loss: 0.07381228825226425... \tTest Accuracy: 97.21518987341773\n",
            "Round: 41... \tAverage Train Loss: 0.012... \tTest Loss: 0.08099134582411498... \tTest Accuracy: 97.0886075949367\n",
            "Round: 42... \tAverage Train Loss: 0.031... \tTest Loss: 0.07803889409154653... \tTest Accuracy: 97.46835443037975\n",
            "Round: 43... \tAverage Train Loss: 0.018... \tTest Loss: 0.06894388353042305... \tTest Accuracy: 98.22784810126582\n",
            "Round: 44... \tAverage Train Loss: 0.018... \tTest Loss: 0.06565526442676782... \tTest Accuracy: 98.48101265822785\n",
            "Round: 45... \tAverage Train Loss: 0.011... \tTest Loss: 0.06144679162688553... \tTest Accuracy: 98.73417721518987\n",
            "Round: 46... \tAverage Train Loss: 0.016... \tTest Loss: 0.06095115446392447... \tTest Accuracy: 98.22784810126582\n",
            "Round: 47... \tAverage Train Loss: 0.031... \tTest Loss: 0.09168117251545191... \tTest Accuracy: 97.21518987341773\n",
            "Round: 48... \tAverage Train Loss: 0.017... \tTest Loss: 0.06967217094227672... \tTest Accuracy: 98.10126582278481\n",
            "Round: 49... \tAverage Train Loss: 0.023... \tTest Loss: 0.11823746933341027... \tTest Accuracy: 96.32911392405063\n",
            "Round: 50... \tAverage Train Loss: 0.019... \tTest Loss: 0.07605693222917616... \tTest Accuracy: 97.84810126582279\n"
          ],
          "name": "stdout"
        },
        {
          "output_type": "display_data",
          "data": {
            "image/png": "[encoded data removed]",
            "text/plain": [
              "<Figure size 432x288 with 1 Axes>"
            ]
          },
          "metadata": {
            "tags": [],
            "needs_background": "light"
          }
        },
        {
          "output_type": "display_data",
          "data": {
            "image/png": "[encoded data removed]",
            "text/plain": [
              "<Figure size 432x288 with 1 Axes>"
            ]
          },
          "metadata": {
            "tags": [],
            "needs_background": "light"
          }
        },
        {
          "output_type": "display_data",
          "data": {
            "image/png": "[encoded data removed]",
            "text/plain": [
              "<Figure size 432x288 with 1 Axes>"
            ]
          },
          "metadata": {
            "tags": [],
            "needs_background": "light"
          }
        },
        {
          "output_type": "stream",
          "text": [
            "Training Done!\n",
            "Total time taken to Train: 1163.0462503433228\n",
            "\n",
            "\n"
          ],
          "name": "stdout"
        }
      ]
    },
    {
      "cell_type": "markdown",
      "metadata": {
        "id": "4C68J-Kk14dB"
      },
      "source": [
        "### Test"
      ]
    },
    {
      "cell_type": "code",
      "metadata": {
        "id": "_yQ9GiAZ15jE",
        "colab": {
          "base_uri": "https://localhost:8080/"
        },
        "outputId": "df7aed5d-4b26-45bb-a08a-5cbd37015c3d"
      },
      "source": [
        "criterion = nn.CrossEntropyLoss()\n",
        "acc, loss = testing(mnist_cnn_non_iid_trained, mnist_data_test, 128, criterion, num_classes, classes_test, True)"
      ],
      "execution_count": 56,
      "outputs": [
        {
          "output_type": "stream",
          "text": [
            "Test Loss: 0.076057\n",
            "\n",
            "Test Accuracy of     0: 100% (76/76)\n",
            "Test Accuracy of     1: 100% (90/90)\n",
            "Test Accuracy of     2: 100% (91/91)\n",
            "Test Accuracy of     3: 95% (70/73)\n",
            "Test Accuracy of     4: 92% (82/89)\n",
            "Test Accuracy of     5: 98% (67/68)\n",
            "Test Accuracy of     6: 98% (61/62)\n",
            "Test Accuracy of     7: 98% (80/81)\n",
            "Test Accuracy of     8: 97% (75/77)\n",
            "Test Accuracy of     9: 97% (81/83)\n",
            "\n",
            "Final Test  Accuracy: 97.848 (773.0/790.0)\n"
          ],
          "name": "stdout"
        }
      ]
    },
    {
      "cell_type": "code",
      "metadata": {
        "id": "dxMcxgLhLvX-"
      },
      "source": [
        "hyperparams = {'rounds': rounds,\n",
        "               'C': C,\n",
        "               'K': K,\n",
        "               'E': E,\n",
        "               'batch_size': batch_size,\n",
        "               'lr': lr,\n",
        "               'mu': mu,\n",
        "               'percentage': percentage,\n",
        "               'target_test_accuracy': target_test_accuracy,\n",
        "               }\n",
        "\n",
        "log_dict['MNIST CNN on Non IID'] = {'train_loss': train_loss_multiple_runs, \n",
        "                                'test_loss': test_loss_multiple_runs, \n",
        "                                'test_accuracy': test_accuracy_multiple_runs,\n",
        "                                'hyperparams': hyperparams,\n",
        "                                }"
      ],
      "execution_count": 57,
      "outputs": []
    },
    {
      "cell_type": "markdown",
      "metadata": {
        "id": "z_jifdzniuhm"
      },
      "source": [
        "## MNIST MLP on IID"
      ]
    },
    {
      "cell_type": "markdown",
      "metadata": {
        "id": "uh-te0Od2XGO"
      },
      "source": [
        "### Train"
      ]
    },
    {
      "cell_type": "code",
      "metadata": {
        "id": "UmpWmKOQixVV",
        "colab": {
          "base_uri": "https://localhost:8080/",
          "height": 1000
        },
        "outputId": "c345d29e-7eea-49c9-a273-877eac23ef4a"
      },
      "source": [
        "train_loss_multiple_runs = [None] * NUM_REPEAT\n",
        "test_accuracy_multiple_runs = [None] * NUM_REPEAT\n",
        "test_loss_multiple_runs = [None] * NUM_REPEAT\n",
        "\n",
        "for exp_num in range(NUM_REPEAT):\n",
        "  print(\"Experiment Run Number: \", exp_num)\n",
        "\n",
        "  # number of training rounds\n",
        "  rounds = 50\n",
        "  # client fraction\n",
        "  C = 0.1\n",
        "  # number of clients\n",
        "  K = 100\n",
        "  # number of training passes on local dataset for each round\n",
        "  E = 5\n",
        "  # batch size\n",
        "  batch_size = 10\n",
        "  # learning Rate\n",
        "  lr = 0.05\n",
        "  # proximal term constant\n",
        "  mu = 0.01\n",
        "  # percentage of clients to have fewer than E epochs\n",
        "  percentage = 50\n",
        "  # target_test_accuracy\n",
        "  target_test_accuracy=94.0\n",
        "  # dict containing different type of data partition\n",
        "  data_dict = iid_partition(mnist_data_train, 100)\n",
        "  # load model\n",
        "  mnist_mlp = MNIST_2NN()\n",
        "\n",
        "  if torch.cuda.is_available():\n",
        "    mnist_mlp.cuda()\n",
        "\n",
        "  mnist_mlp_iid_trained, train_loss, test_accuracy, test_loss = training(mnist_mlp, rounds, batch_size, lr, mnist_data_train, mnist_data_test, data_dict, C, K, E, mu, percentage, \"MNIST MLP on IID Dataset\", \"orange\", target_test_accuracy)\n",
        "  \n",
        "  train_loss_multiple_runs[exp_num] = train_loss\n",
        "  test_accuracy_multiple_runs[exp_num] = test_accuracy\n",
        "  test_loss_multiple_runs[exp_num] = test_loss"
      ],
      "execution_count": 58,
      "outputs": [
        {
          "output_type": "stream",
          "text": [
            "Experiment Run Number:  0\n",
            "System heterogeneity set to 50% stragglers.\n",
            "\n",
            "Picking 10 random clients per round.\n",
            "\n",
            "Round: 1... \tAverage Train Loss: 1.088... \tTest Loss: 0.3563404567837715... \tTest Accuracy: 91.64556962025317\n",
            "Round: 2... \tAverage Train Loss: 0.317... \tTest Loss: 0.2707351060152054... \tTest Accuracy: 92.9113924050633\n",
            "Round: 3... \tAverage Train Loss: 0.196... \tTest Loss: 0.23647263250946998... \tTest Accuracy: 93.79746835443038\n",
            "Round: 4... \tAverage Train Loss: 0.158... \tTest Loss: 0.20888366436511277... \tTest Accuracy: 94.0506329113924\n",
            "Round: 5... \tAverage Train Loss: 0.125... \tTest Loss: 0.18962999083474277... \tTest Accuracy: 94.43037974683544\n",
            "Round: 6... \tAverage Train Loss: 0.182... \tTest Loss: 0.1714110774204135... \tTest Accuracy: 94.68354430379746\n",
            "Round: 7... \tAverage Train Loss: 0.137... \tTest Loss: 0.15796673283427953... \tTest Accuracy: 95.44303797468355\n",
            "Round: 8... \tAverage Train Loss: 0.123... \tTest Loss: 0.15071790742948651... \tTest Accuracy: 95.9493670886076\n",
            "Round: 9... \tAverage Train Loss: 0.109... \tTest Loss: 0.14467742875218392... \tTest Accuracy: 96.07594936708861\n",
            "Round: 10... \tAverage Train Loss: 0.1... \tTest Loss: 0.1377980021327734... \tTest Accuracy: 96.32911392405063\n",
            "Round: 11... \tAverage Train Loss: 0.094... \tTest Loss: 0.1349040522657335... \tTest Accuracy: 96.07594936708861\n",
            "Round: 12... \tAverage Train Loss: 0.101... \tTest Loss: 0.12826484482735395... \tTest Accuracy: 96.07594936708861\n",
            "Round: 13... \tAverage Train Loss: 0.072... \tTest Loss: 0.12600234198980034... \tTest Accuracy: 96.07594936708861\n",
            "Round: 14... \tAverage Train Loss: 0.075... \tTest Loss: 0.12166753318719566... \tTest Accuracy: 96.45569620253164\n",
            "Round: 15... \tAverage Train Loss: 0.093... \tTest Loss: 0.11509406365826726... \tTest Accuracy: 96.20253164556962\n",
            "Round: 16... \tAverage Train Loss: 0.086... \tTest Loss: 0.11260870615337044... \tTest Accuracy: 96.32911392405063\n",
            "Round: 17... \tAverage Train Loss: 0.09... \tTest Loss: 0.11071163142099977... \tTest Accuracy: 96.45569620253164\n",
            "Round: 18... \tAverage Train Loss: 0.098... \tTest Loss: 0.10849190509319305... \tTest Accuracy: 96.70886075949367\n",
            "Round: 19... \tAverage Train Loss: 0.072... \tTest Loss: 0.10658341510407626... \tTest Accuracy: 96.83544303797468\n",
            "Round: 20... \tAverage Train Loss: 0.067... \tTest Loss: 0.10656688493676483... \tTest Accuracy: 96.83544303797468\n",
            "Round: 21... \tAverage Train Loss: 0.07... \tTest Loss: 0.10302251569330692... \tTest Accuracy: 96.83544303797468\n",
            "Round: 22... \tAverage Train Loss: 0.063... \tTest Loss: 0.10145830857604742... \tTest Accuracy: 97.21518987341773\n",
            "Round: 23... \tAverage Train Loss: 0.08... \tTest Loss: 0.10161888338811696... \tTest Accuracy: 96.9620253164557\n",
            "Round: 24... \tAverage Train Loss: 0.052... \tTest Loss: 0.0979722734009847... \tTest Accuracy: 96.9620253164557\n",
            "Round: 25... \tAverage Train Loss: 0.059... \tTest Loss: 0.09701633418872953... \tTest Accuracy: 96.83544303797468\n",
            "Round: 26... \tAverage Train Loss: 0.069... \tTest Loss: 0.09331620481405407... \tTest Accuracy: 97.34177215189874\n",
            "Round: 27... \tAverage Train Loss: 0.05... \tTest Loss: 0.09513503930214792... \tTest Accuracy: 97.21518987341773\n",
            "Round: 28... \tAverage Train Loss: 0.055... \tTest Loss: 0.09490355459339916... \tTest Accuracy: 97.21518987341773\n",
            "Round: 29... \tAverage Train Loss: 0.06... \tTest Loss: 0.09286750578396022... \tTest Accuracy: 96.9620253164557\n",
            "Round: 30... \tAverage Train Loss: 0.056... \tTest Loss: 0.09150358222164214... \tTest Accuracy: 97.21518987341773\n",
            "Round: 31... \tAverage Train Loss: 0.066... \tTest Loss: 0.09104019959270954... \tTest Accuracy: 97.34177215189874\n",
            "Round: 32... \tAverage Train Loss: 0.054... \tTest Loss: 0.09133438729979097... \tTest Accuracy: 97.21518987341773\n",
            "Round: 33... \tAverage Train Loss: 0.064... \tTest Loss: 0.08826256219781935... \tTest Accuracy: 97.59493670886076\n",
            "Round: 34... \tAverage Train Loss: 0.064... \tTest Loss: 0.0894550388155505... \tTest Accuracy: 97.34177215189874\n",
            "Round: 35... \tAverage Train Loss: 0.037... \tTest Loss: 0.08831185983950272... \tTest Accuracy: 97.34177215189874\n",
            "Round: 36... \tAverage Train Loss: 0.057... \tTest Loss: 0.08843242108961567... \tTest Accuracy: 97.46835443037975\n",
            "Round: 37... \tAverage Train Loss: 0.044... \tTest Loss: 0.0853489863840863... \tTest Accuracy: 97.46835443037975\n",
            "Round: 38... \tAverage Train Loss: 0.04... \tTest Loss: 0.08615669190417975... \tTest Accuracy: 97.46835443037975\n",
            "Round: 39... \tAverage Train Loss: 0.046... \tTest Loss: 0.08510779249761254... \tTest Accuracy: 97.34177215189874\n",
            "Round: 40... \tAverage Train Loss: 0.048... \tTest Loss: 0.0840644885535352... \tTest Accuracy: 97.46835443037975\n",
            "Round: 41... \tAverage Train Loss: 0.058... \tTest Loss: 0.08253822675868869... \tTest Accuracy: 97.9746835443038\n",
            "Round: 42... \tAverage Train Loss: 0.043... \tTest Loss: 0.08090099499532953... \tTest Accuracy: 97.84810126582279\n",
            "Round: 43... \tAverage Train Loss: 0.036... \tTest Loss: 0.08255499962707981... \tTest Accuracy: 97.84810126582279\n",
            "Round: 44... \tAverage Train Loss: 0.045... \tTest Loss: 0.08143488221191801... \tTest Accuracy: 97.59493670886076\n",
            "Round: 45... \tAverage Train Loss: 0.04... \tTest Loss: 0.08164079434219748... \tTest Accuracy: 97.72151898734177\n",
            "Round: 46... \tAverage Train Loss: 0.037... \tTest Loss: 0.0798383536586538... \tTest Accuracy: 97.72151898734177\n",
            "Round: 47... \tAverage Train Loss: 0.042... \tTest Loss: 0.07902769242832437... \tTest Accuracy: 98.10126582278481\n",
            "Round: 48... \tAverage Train Loss: 0.041... \tTest Loss: 0.0813511291072704... \tTest Accuracy: 97.84810126582279\n",
            "Round: 49... \tAverage Train Loss: 0.034... \tTest Loss: 0.08149669817867689... \tTest Accuracy: 97.84810126582279\n",
            "Round: 50... \tAverage Train Loss: 0.048... \tTest Loss: 0.07889166766353883... \tTest Accuracy: 97.84810126582279\n"
          ],
          "name": "stdout"
        },
        {
          "output_type": "display_data",
          "data": {
            "image/png": "[encoded data removed]",
            "text/plain": [
              "<Figure size 432x288 with 1 Axes>"
            ]
          },
          "metadata": {
            "tags": [],
            "needs_background": "light"
          }
        },
        {
          "output_type": "display_data",
          "data": {
            "image/png": "[encoded data removed]",
            "text/plain": [
              "<Figure size 432x288 with 1 Axes>"
            ]
          },
          "metadata": {
            "tags": [],
            "needs_background": "light"
          }
        },
        {
          "output_type": "display_data",
          "data": {
            "image/png": "[encoded data removed]",
            "text/plain": [
              "<Figure size 432x288 with 1 Axes>"
            ]
          },
          "metadata": {
            "tags": [],
            "needs_background": "light"
          }
        },
        {
          "output_type": "stream",
          "text": [
            "Training Done!\n",
            "Total time taken to Train: 703.6081058979034\n",
            "\n",
            "\n"
          ],
          "name": "stdout"
        }
      ]
    },
    {
      "cell_type": "markdown",
      "metadata": {
        "id": "aTBsL3-72PPd"
      },
      "source": [
        "### Test"
      ]
    },
    {
      "cell_type": "code",
      "metadata": {
        "id": "a9G4j5L62OrS",
        "colab": {
          "base_uri": "https://localhost:8080/"
        },
        "outputId": "31d49d34-9f58-4331-8536-05a03a2f7d53"
      },
      "source": [
        "criterion = nn.CrossEntropyLoss()\n",
        "acc, loss = testing(mnist_mlp_iid_trained, mnist_data_test, 128, criterion, num_classes, classes_test, True)"
      ],
      "execution_count": 59,
      "outputs": [
        {
          "output_type": "stream",
          "text": [
            "Test Loss: 0.078892\n",
            "\n",
            "Test Accuracy of     0: 98% (75/76)\n",
            "Test Accuracy of     1: 97% (88/90)\n",
            "Test Accuracy of     2: 97% (89/91)\n",
            "Test Accuracy of     3: 98% (72/73)\n",
            "Test Accuracy of     4: 97% (87/89)\n",
            "Test Accuracy of     5: 94% (64/68)\n",
            "Test Accuracy of     6: 98% (61/62)\n",
            "Test Accuracy of     7: 98% (80/81)\n",
            "Test Accuracy of     8: 98% (76/77)\n",
            "Test Accuracy of     9: 97% (81/83)\n",
            "\n",
            "Final Test  Accuracy: 97.848 (773.0/790.0)\n"
          ],
          "name": "stdout"
        }
      ]
    },
    {
      "cell_type": "code",
      "metadata": {
        "id": "fWCdJFRCL_f2"
      },
      "source": [
        "hyperparams = {'rounds': rounds,\n",
        "               'C': C,\n",
        "               'K': K,\n",
        "               'E': E,\n",
        "               'batch_size': batch_size,\n",
        "               'lr': lr,\n",
        "               'mu': mu,\n",
        "               'percentage': percentage,\n",
        "               'target_test_accuracy': target_test_accuracy,\n",
        "               }\n",
        "\n",
        "log_dict['MNIST MLP on IID'] = {'train_loss': train_loss_multiple_runs, \n",
        "                                'test_loss': test_loss_multiple_runs, \n",
        "                                'test_accuracy': test_accuracy_multiple_runs,\n",
        "                                'hyperparams': hyperparams,\n",
        "                                }"
      ],
      "execution_count": 60,
      "outputs": []
    },
    {
      "cell_type": "markdown",
      "metadata": {
        "id": "J8jzEyO0iywz"
      },
      "source": [
        "## MNIST MLP on Non IID"
      ]
    },
    {
      "cell_type": "markdown",
      "metadata": {
        "id": "pJFepr3y2bF-"
      },
      "source": [
        "### Train"
      ]
    },
    {
      "cell_type": "code",
      "metadata": {
        "id": "EBKO44Hgi1Uh",
        "colab": {
          "base_uri": "https://localhost:8080/",
          "height": 1000
        },
        "outputId": "fc0c874f-183c-4091-97bb-070ac18d196d"
      },
      "source": [
        "train_loss_multiple_runs = [None] * NUM_REPEAT\n",
        "test_accuracy_multiple_runs = [None] * NUM_REPEAT\n",
        "test_loss_multiple_runs = [None] * NUM_REPEAT\n",
        "\n",
        "for exp_num in range(NUM_REPEAT):\n",
        "  print(\"Experiment Run Number: \", exp_num)\n",
        "  \n",
        "  # number of training rounds\n",
        "  rounds = 50\n",
        "  # client fraction\n",
        "  C = 0.1\n",
        "  # number of clients\n",
        "  K = 100\n",
        "  # number of training passes on local dataset for each roung\n",
        "  E = 5\n",
        "  # batch size\n",
        "  batch_size = 10\n",
        "  # learning Rate\n",
        "  lr=0.05\n",
        "  # proximal term constant\n",
        "  mu = 0.01\n",
        "  # percentage of clients to have fewer than E epochs\n",
        "  percentage = 50\n",
        "  # target_test_accuracy\n",
        "  target_test_accuracy=94.0\n",
        "  # dict containing different type of data partition\n",
        "  data_dict = non_iid_partition(mnist_data_train, 100, 200, 300, 2)\n",
        "  # load model\n",
        "  mnist_mlp = MNIST_2NN()\n",
        "\n",
        "  if torch.cuda.is_available():\n",
        "    mnist_mlp.cuda()\n",
        "\n",
        "  mnist_mlp_non_iid_trained, train_loss, test_accuracy, test_loss = training(mnist_mlp, rounds, batch_size, lr, mnist_data_train, mnist_data_test, data_dict, C, K, E, mu, percentage, \"MNIST MLP on Non-IID Dataset\", \"green\", target_test_accuracy)\n",
        "\n",
        "  train_loss_multiple_runs[exp_num] = train_loss\n",
        "  test_accuracy_multiple_runs[exp_num] = test_accuracy\n",
        "  test_loss_multiple_runs[exp_num] = test_loss"
      ],
      "execution_count": 61,
      "outputs": [
        {
          "output_type": "stream",
          "text": [
            "Experiment Run Number:  0\n",
            "System heterogeneity set to 50% stragglers.\n",
            "\n",
            "Picking 10 random clients per round.\n",
            "\n",
            "Round: 1... \tAverage Train Loss: 0.283... \tTest Loss: 3.3119170619964597... \tTest Accuracy: 45.56962025316456\n",
            "Round: 2... \tAverage Train Loss: 0.189... \tTest Loss: 2.4182265457153322... \tTest Accuracy: 34.30379746835443\n",
            "Round: 3... \tAverage Train Loss: 0.108... \tTest Loss: 1.5550468410491944... \tTest Accuracy: 54.43037974683544\n",
            "Round: 4... \tAverage Train Loss: 0.08... \tTest Loss: 0.8896119075775146... \tTest Accuracy: 75.44303797468355\n",
            "Round: 5... \tAverage Train Loss: 0.097... \tTest Loss: 0.7504207200050353... \tTest Accuracy: 75.69620253164557\n",
            "Round: 6... \tAverage Train Loss: 0.055... \tTest Loss: 0.5463254299163819... \tTest Accuracy: 83.67088607594937\n",
            "Round: 7... \tAverage Train Loss: 0.042... \tTest Loss: 0.7377623081207275... \tTest Accuracy: 76.83544303797468\n",
            "Round: 8... \tAverage Train Loss: 0.054... \tTest Loss: 0.5403290888786316... \tTest Accuracy: 83.41772151898734\n",
            "Round: 9... \tAverage Train Loss: 0.039... \tTest Loss: 0.4117896905899048... \tTest Accuracy: 86.83544303797468\n",
            "Round: 10... \tAverage Train Loss: 0.067... \tTest Loss: 0.40052801949977873... \tTest Accuracy: 88.22784810126582\n",
            "Round: 11... \tAverage Train Loss: 0.038... \tTest Loss: 0.4566073283672333... \tTest Accuracy: 85.0632911392405\n",
            "Round: 12... \tAverage Train Loss: 0.043... \tTest Loss: 0.37554833006858823... \tTest Accuracy: 86.9620253164557\n",
            "Round: 13... \tAverage Train Loss: 0.043... \tTest Loss: 0.31586729667186736... \tTest Accuracy: 90.12658227848101\n",
            "Round: 14... \tAverage Train Loss: 0.039... \tTest Loss: 0.3040185135602951... \tTest Accuracy: 91.13924050632912\n",
            "Round: 15... \tAverage Train Loss: 0.047... \tTest Loss: 0.29889628282785413... \tTest Accuracy: 91.77215189873418\n",
            "Round: 16... \tAverage Train Loss: 0.062... \tTest Loss: 0.3468444500684738... \tTest Accuracy: 89.11392405063292\n",
            "Round: 17... \tAverage Train Loss: 0.024... \tTest Loss: 0.35153273465633395... \tTest Accuracy: 88.86075949367088\n",
            "Round: 18... \tAverage Train Loss: 0.038... \tTest Loss: 0.258166090297699... \tTest Accuracy: 92.53164556962025\n",
            "Round: 19... \tAverage Train Loss: 0.044... \tTest Loss: 0.34961891252994537... \tTest Accuracy: 88.10126582278481\n",
            "Round: 20... \tAverage Train Loss: 0.032... \tTest Loss: 0.24411699655056... \tTest Accuracy: 93.67088607594937\n",
            "Round: 21... \tAverage Train Loss: 0.046... \tTest Loss: 0.2772906148791313... \tTest Accuracy: 91.64556962025317\n",
            "Round: 22... \tAverage Train Loss: 0.058... \tTest Loss: 0.22715370646715163... \tTest Accuracy: 93.79746835443038\n",
            "Round: 23... \tAverage Train Loss: 0.037... \tTest Loss: 0.24853782856464385... \tTest Accuracy: 92.40506329113924\n",
            "Round: 24... \tAverage Train Loss: 0.035... \tTest Loss: 0.25324392285346986... \tTest Accuracy: 92.53164556962025\n",
            "Round: 25... \tAverage Train Loss: 0.03... \tTest Loss: 0.2597825007200241... \tTest Accuracy: 92.27848101265823\n",
            "Round: 26... \tAverage Train Loss: 0.044... \tTest Loss: 0.2962508676767349... \tTest Accuracy: 89.49367088607595\n",
            "Round: 27... \tAverage Train Loss: 0.044... \tTest Loss: 0.23405703473091125... \tTest Accuracy: 92.53164556962025\n",
            "Round: 28... \tAverage Train Loss: 0.024... \tTest Loss: 0.30284329142570493... \tTest Accuracy: 89.62025316455696\n",
            "Round: 29... \tAverage Train Loss: 0.036... \tTest Loss: 0.19063055070638657... \tTest Accuracy: 94.68354430379746\n",
            "Round: 30... \tAverage Train Loss: 0.038... \tTest Loss: 0.3011599862575531... \tTest Accuracy: 89.87341772151899\n",
            "Round: 31... \tAverage Train Loss: 0.034... \tTest Loss: 0.20379597737789154... \tTest Accuracy: 93.67088607594937\n",
            "Round: 32... \tAverage Train Loss: 0.03... \tTest Loss: 0.21054512763023375... \tTest Accuracy: 93.54430379746836\n",
            "Round: 33... \tAverage Train Loss: 0.028... \tTest Loss: 0.20819573134183883... \tTest Accuracy: 93.54430379746836\n",
            "Round: 34... \tAverage Train Loss: 0.047... \tTest Loss: 0.19648595595359802... \tTest Accuracy: 92.78481012658227\n",
            "Round: 35... \tAverage Train Loss: 0.037... \tTest Loss: 0.1917562083005905... \tTest Accuracy: 93.41772151898734\n",
            "Round: 36... \tAverage Train Loss: 0.024... \tTest Loss: 0.1750261023759842... \tTest Accuracy: 93.54430379746836\n",
            "Round: 37... \tAverage Train Loss: 0.034... \tTest Loss: 0.25732842395305633... \tTest Accuracy: 90.50632911392405\n",
            "Round: 38... \tAverage Train Loss: 0.027... \tTest Loss: 0.2432512961626053... \tTest Accuracy: 92.15189873417721\n",
            "Round: 39... \tAverage Train Loss: 0.033... \tTest Loss: 0.19943194593787195... \tTest Accuracy: 93.79746835443038\n",
            "Round: 40... \tAverage Train Loss: 0.021... \tTest Loss: 0.20128837258815765... \tTest Accuracy: 94.55696202531645\n",
            "Round: 41... \tAverage Train Loss: 0.02... \tTest Loss: 0.15061351585686206... \tTest Accuracy: 95.69620253164557\n",
            "Round: 42... \tAverage Train Loss: 0.029... \tTest Loss: 0.17604248507022857... \tTest Accuracy: 95.18987341772151\n",
            "Round: 43... \tAverage Train Loss: 0.034... \tTest Loss: 0.15276758945584298... \tTest Accuracy: 94.9367088607595\n",
            "Round: 44... \tAverage Train Loss: 0.026... \tTest Loss: 0.15987388584613801... \tTest Accuracy: 94.81012658227849\n",
            "Round: 45... \tAverage Train Loss: 0.026... \tTest Loss: 0.17668769721388816... \tTest Accuracy: 94.81012658227849\n",
            "Round: 46... \tAverage Train Loss: 0.026... \tTest Loss: 0.17149049553275109... \tTest Accuracy: 95.18987341772151\n",
            "Round: 47... \tAverage Train Loss: 0.033... \tTest Loss: 0.1639951910048723... \tTest Accuracy: 94.43037974683544\n",
            "Round: 48... \tAverage Train Loss: 0.029... \tTest Loss: 0.14567828891277312... \tTest Accuracy: 95.56962025316456\n",
            "Round: 49... \tAverage Train Loss: 0.018... \tTest Loss: 0.24081139369010926... \tTest Accuracy: 91.77215189873418\n",
            "Round: 50... \tAverage Train Loss: 0.024... \tTest Loss: 0.1532120913684368... \tTest Accuracy: 95.31645569620254\n"
          ],
          "name": "stdout"
        },
        {
          "output_type": "display_data",
          "data": {
            "image/png": "[encoded data removed]",
            "text/plain": [
              "<Figure size 432x288 with 1 Axes>"
            ]
          },
          "metadata": {
            "tags": [],
            "needs_background": "light"
          }
        },
        {
          "output_type": "display_data",
          "data": {
            "image/png": "[encoded data removed]",
            "text/plain": [
              "<Figure size 432x288 with 1 Axes>"
            ]
          },
          "metadata": {
            "tags": [],
            "needs_background": "light"
          }
        },
        {
          "output_type": "display_data",
          "data": {
            "image/png": "[encoded data removed]",
            "text/plain": [
              "<Figure size 432x288 with 1 Axes>"
            ]
          },
          "metadata": {
            "tags": [],
            "needs_background": "light"
          }
        },
        {
          "output_type": "stream",
          "text": [
            "Training Done!\n",
            "Total time taken to Train: 696.6625978946686\n",
            "\n",
            "\n"
          ],
          "name": "stdout"
        }
      ]
    },
    {
      "cell_type": "markdown",
      "metadata": {
        "id": "jmuQYPbF2mes"
      },
      "source": [
        "### Test"
      ]
    },
    {
      "cell_type": "code",
      "metadata": {
        "id": "0tKMlJyF2nGN",
        "colab": {
          "base_uri": "https://localhost:8080/"
        },
        "outputId": "7d7a8438-4b63-4123-faa8-01ec2b669511"
      },
      "source": [
        "criterion = nn.CrossEntropyLoss()\n",
        "acc, loss = testing(mnist_mlp_non_iid_trained, mnist_data_test, 128, criterion, num_classes, classes_test, True)"
      ],
      "execution_count": 62,
      "outputs": [
        {
          "output_type": "stream",
          "text": [
            "Test Loss: 0.153212\n",
            "\n",
            "Test Accuracy of     0: 98% (75/76)\n",
            "Test Accuracy of     1: 96% (87/90)\n",
            "Test Accuracy of     2: 94% (86/91)\n",
            "Test Accuracy of     3: 93% (68/73)\n",
            "Test Accuracy of     4: 96% (86/89)\n",
            "Test Accuracy of     5: 94% (64/68)\n",
            "Test Accuracy of     6: 95% (59/62)\n",
            "Test Accuracy of     7: 97% (79/81)\n",
            "Test Accuracy of     8: 98% (76/77)\n",
            "Test Accuracy of     9: 87% (73/83)\n",
            "\n",
            "Final Test  Accuracy: 95.316 (753.0/790.0)\n"
          ],
          "name": "stdout"
        }
      ]
    },
    {
      "cell_type": "code",
      "metadata": {
        "id": "1W5krYcSMQiu"
      },
      "source": [
        "hyperparams = {'rounds': rounds,\n",
        "               'C': C,\n",
        "               'K': K,\n",
        "               'E': E,\n",
        "               'batch_size': batch_size,\n",
        "               'lr': lr,\n",
        "               'mu': mu,\n",
        "               'percentage': percentage,\n",
        "               'target_test_accuracy': target_test_accuracy,\n",
        "               }\n",
        "\n",
        "log_dict['MNIST MLP on Non IID'] = {'train_loss': train_loss_multiple_runs, \n",
        "                                'test_loss': test_loss_multiple_runs, \n",
        "                                'test_accuracy': test_accuracy_multiple_runs,\n",
        "                                'hyperparams': hyperparams,\n",
        "                                }"
      ],
      "execution_count": 63,
      "outputs": []
    },
    {
      "cell_type": "markdown",
      "metadata": {
        "id": "emS_SaRAP6TZ"
      },
      "source": [
        "## Pickle Log"
      ]
    },
    {
      "cell_type": "code",
      "metadata": {
        "id": "soAN38JoP0c1"
      },
      "source": [
        "import pickle\n",
        " \n",
        "with open(path + 'FedProx_100.pkl', 'wb') as file:\n",
        "  pickle.dump(log_dict, file)"
      ],
      "execution_count": 64,
      "outputs": []
    },
    {
      "cell_type": "code",
      "metadata": {
        "id": "2UBy-JswSoCJ",
        "colab": {
          "base_uri": "https://localhost:8080/"
        },
        "outputId": "2ad55e7b-5af0-4a5c-f2ee-ca4d7fd0180f"
      },
      "source": [
        "log_dict"
      ],
      "execution_count": 65,
      "outputs": [
        {
          "output_type": "execute_result",
          "data": {
            "text/plain": [
              "{'MNIST CNN on IID': {'hyperparams': {'C': 0.1,\n",
              "   'E': 5,\n",
              "   'K': 100,\n",
              "   'batch_size': 10,\n",
              "   'lr': 0.05,\n",
              "   'mu': 0.01,\n",
              "   'percentage': 50,\n",
              "   'rounds': 50,\n",
              "   'target_test_accuracy': 99.0},\n",
              "  'test_accuracy': [[93.41772151898734,\n",
              "    96.07594936708861,\n",
              "    96.83544303797468,\n",
              "    97.59493670886076,\n",
              "    97.46835443037975,\n",
              "    98.22784810126582,\n",
              "    98.60759493670886,\n",
              "    98.86075949367088,\n",
              "    98.48101265822785,\n",
              "    98.86075949367088,\n",
              "    98.86075949367088,\n",
              "    99.24050632911393,\n",
              "    99.24050632911393,\n",
              "    99.24050632911393,\n",
              "    99.24050632911393,\n",
              "    99.24050632911393,\n",
              "    99.24050632911393,\n",
              "    99.36708860759494,\n",
              "    99.36708860759494,\n",
              "    99.24050632911393,\n",
              "    99.24050632911393,\n",
              "    99.36708860759494,\n",
              "    99.36708860759494,\n",
              "    99.36708860759494,\n",
              "    99.36708860759494,\n",
              "    99.36708860759494,\n",
              "    99.36708860759494,\n",
              "    99.36708860759494,\n",
              "    99.49367088607595,\n",
              "    99.49367088607595,\n",
              "    99.36708860759494,\n",
              "    99.36708860759494,\n",
              "    99.49367088607595,\n",
              "    99.49367088607595,\n",
              "    99.36708860759494,\n",
              "    99.36708860759494,\n",
              "    99.36708860759494,\n",
              "    99.11392405063292,\n",
              "    99.36708860759494,\n",
              "    99.49367088607595,\n",
              "    99.24050632911393,\n",
              "    99.49367088607595,\n",
              "    99.49367088607595,\n",
              "    99.36708860759494,\n",
              "    99.49367088607595,\n",
              "    99.36708860759494,\n",
              "    99.49367088607595,\n",
              "    99.49367088607595,\n",
              "    99.49367088607595,\n",
              "    99.62025316455696]],\n",
              "  'test_loss': [[0.441418595790863,\n",
              "    0.11990122444033623,\n",
              "    0.0933413944337517,\n",
              "    0.07233985740412027,\n",
              "    0.06534396432386712,\n",
              "    0.058559992309752854,\n",
              "    0.05511074099163525,\n",
              "    0.05221860137563199,\n",
              "    0.05006339020198211,\n",
              "    0.04384853823815938,\n",
              "    0.043479774891387206,\n",
              "    0.04098089656149968,\n",
              "    0.03721582296642009,\n",
              "    0.03685325569111155,\n",
              "    0.03724070063026156,\n",
              "    0.03416157916675438,\n",
              "    0.03443365083239041,\n",
              "    0.03352654376788123,\n",
              "    0.0323641606580306,\n",
              "    0.031058874005376127,\n",
              "    0.030606465268998,\n",
              "    0.030587043888935295,\n",
              "    0.029968463798408628,\n",
              "    0.028897282171840198,\n",
              "    0.028922503073950067,\n",
              "    0.028664689192583317,\n",
              "    0.027704084654879987,\n",
              "    0.028133252356016603,\n",
              "    0.026667905599810183,\n",
              "    0.027393557138860342,\n",
              "    0.027666483832306403,\n",
              "    0.027417732041870476,\n",
              "    0.027267704533544018,\n",
              "    0.027581655871664407,\n",
              "    0.027969078632010497,\n",
              "    0.025476736367779085,\n",
              "    0.025372883449544314,\n",
              "    0.025864261017757236,\n",
              "    0.025223996278006235,\n",
              "    0.025032189178626867,\n",
              "    0.026169960017829726,\n",
              "    0.02470202539662714,\n",
              "    0.02537527401148691,\n",
              "    0.025297711696370972,\n",
              "    0.024829654727003072,\n",
              "    0.025652081217960223,\n",
              "    0.02425788342330925,\n",
              "    0.024753551591615543,\n",
              "    0.02480580313109531,\n",
              "    0.024920995078023405]],\n",
              "  'train_loss': [[0.7666120088007301,\n",
              "    0.22772173659446543,\n",
              "    0.14810212806543052,\n",
              "    0.13885618124517754,\n",
              "    0.09046941679561536,\n",
              "    0.09012626876969929,\n",
              "    0.0788133741944839,\n",
              "    0.08082485944994429,\n",
              "    0.0691187015502807,\n",
              "    0.07556978879993281,\n",
              "    0.05671563805606698,\n",
              "    0.058149053368831215,\n",
              "    0.05155706966680899,\n",
              "    0.046262425328621,\n",
              "    0.05432885922643136,\n",
              "    0.050087561686414574,\n",
              "    0.0530562868282554,\n",
              "    0.047781812504656976,\n",
              "    0.042484431379639614,\n",
              "    0.05230377843774022,\n",
              "    0.035727896164998836,\n",
              "    0.03471000823780651,\n",
              "    0.04046939890289195,\n",
              "    0.032449987305959625,\n",
              "    0.0494675895374022,\n",
              "    0.03893872293512131,\n",
              "    0.036739814268482454,\n",
              "    0.029046843051692955,\n",
              "    0.03762393434964785,\n",
              "    0.031478184917690166,\n",
              "    0.04128467052643707,\n",
              "    0.02954863407240709,\n",
              "    0.03742983928301256,\n",
              "    0.022548032397817223,\n",
              "    0.030454567676630462,\n",
              "    0.034257276890984505,\n",
              "    0.036711038796092096,\n",
              "    0.03867577113883476,\n",
              "    0.028829771586892806,\n",
              "    0.03208652484114941,\n",
              "    0.03465143716162341,\n",
              "    0.025636976964560947,\n",
              "    0.022799172967937844,\n",
              "    0.03724095250440345,\n",
              "    0.02179523930426621,\n",
              "    0.025461935702900822,\n",
              "    0.03049583644115055,\n",
              "    0.025595925702375327,\n",
              "    0.023767272683759503,\n",
              "    0.024145644942821533]]},\n",
              " 'MNIST CNN on Non IID': {'hyperparams': {'C': 0.1,\n",
              "   'E': 5,\n",
              "   'K': 100,\n",
              "   'batch_size': 10,\n",
              "   'lr': 0.05,\n",
              "   'mu': 0.01,\n",
              "   'percentage': 50,\n",
              "   'rounds': 50,\n",
              "   'target_test_accuracy': 99.0},\n",
              "  'test_accuracy': [[15.822784810126583,\n",
              "    42.53164556962025,\n",
              "    71.0126582278481,\n",
              "    73.92405063291139,\n",
              "    79.62025316455696,\n",
              "    77.72151898734177,\n",
              "    83.41772151898734,\n",
              "    83.92405063291139,\n",
              "    89.74683544303798,\n",
              "    92.65822784810126,\n",
              "    94.17721518987342,\n",
              "    94.17721518987342,\n",
              "    94.30379746835443,\n",
              "    92.53164556962025,\n",
              "    91.89873417721519,\n",
              "    94.68354430379746,\n",
              "    92.40506329113924,\n",
              "    94.0506329113924,\n",
              "    94.30379746835443,\n",
              "    95.0632911392405,\n",
              "    95.69620253164557,\n",
              "    95.56962025316456,\n",
              "    95.69620253164557,\n",
              "    95.9493670886076,\n",
              "    97.34177215189874,\n",
              "    97.0886075949367,\n",
              "    95.0632911392405,\n",
              "    97.34177215189874,\n",
              "    97.34177215189874,\n",
              "    96.83544303797468,\n",
              "    96.58227848101266,\n",
              "    96.58227848101266,\n",
              "    96.83544303797468,\n",
              "    97.84810126582279,\n",
              "    98.22784810126582,\n",
              "    98.73417721518987,\n",
              "    98.48101265822785,\n",
              "    98.22784810126582,\n",
              "    98.48101265822785,\n",
              "    97.21518987341773,\n",
              "    97.0886075949367,\n",
              "    97.46835443037975,\n",
              "    98.22784810126582,\n",
              "    98.48101265822785,\n",
              "    98.73417721518987,\n",
              "    98.22784810126582,\n",
              "    97.21518987341773,\n",
              "    98.10126582278481,\n",
              "    96.32911392405063,\n",
              "    97.84810126582279]],\n",
              "  'test_loss': [[2.246394340133667,\n",
              "    1.9903212644577026,\n",
              "    1.3342986846923828,\n",
              "    0.9390967918395996,\n",
              "    0.740554782485962,\n",
              "    0.720923327255249,\n",
              "    0.4748914103031158,\n",
              "    0.4325276798248291,\n",
              "    0.3350793989896774,\n",
              "    0.27582922887802125,\n",
              "    0.22587038975954055,\n",
              "    0.18789963505268098,\n",
              "    0.18527717185020448,\n",
              "    0.2297903311252594,\n",
              "    0.2449755323767662,\n",
              "    0.20408913195729256,\n",
              "    0.19680886868238448,\n",
              "    0.17132460651397705,\n",
              "    0.17875176951885224,\n",
              "    0.14009009936451913,\n",
              "    0.12260039331316948,\n",
              "    0.1190520400583744,\n",
              "    0.11511661354899407,\n",
              "    0.11937862624228,\n",
              "    0.1182554773747921,\n",
              "    0.10201052215099335,\n",
              "    0.13578831381201745,\n",
              "    0.08386611968167126,\n",
              "    0.08685415679365396,\n",
              "    0.09161008671820163,\n",
              "    0.09408715114220977,\n",
              "    0.10063903116174042,\n",
              "    0.09065858629047871,\n",
              "    0.08286900002099573,\n",
              "    0.06289405572693794,\n",
              "    0.06657216048594564,\n",
              "    0.060847633584588764,\n",
              "    0.07220022203624249,\n",
              "    0.07337824129126966,\n",
              "    0.07381228825226425,\n",
              "    0.08099134582411498,\n",
              "    0.07803889409154653,\n",
              "    0.06894388353042305,\n",
              "    0.06565526442676782,\n",
              "    0.06144679162688553,\n",
              "    0.06095115446392447,\n",
              "    0.09168117251545191,\n",
              "    0.06967217094227672,\n",
              "    0.11823746933341027,\n",
              "    0.07605693222917616]],\n",
              "  'train_loss': [[0.23513974897237494,\n",
              "    0.16334086772377812,\n",
              "    0.08471799354837277,\n",
              "    0.0493816639744004,\n",
              "    0.037079865305839725,\n",
              "    0.0631675090066209,\n",
              "    0.04154854035737096,\n",
              "    0.08741457452593993,\n",
              "    0.04115207066346839,\n",
              "    0.038944329667137935,\n",
              "    0.03456085029743715,\n",
              "    0.021569880485877442,\n",
              "    0.02266776638024021,\n",
              "    0.02720695457448407,\n",
              "    0.029522178282062262,\n",
              "    0.03377092233007877,\n",
              "    0.02920391443318739,\n",
              "    0.027724872053523236,\n",
              "    0.029178423779434526,\n",
              "    0.043473905056352825,\n",
              "    0.01877804355463013,\n",
              "    0.02597983968572872,\n",
              "    0.033617825171095315,\n",
              "    0.03725231129441332,\n",
              "    0.0204884966737138,\n",
              "    0.02326226788675154,\n",
              "    0.02851113420084584,\n",
              "    0.01759361534050873,\n",
              "    0.02838423492831903,\n",
              "    0.03500509451310953,\n",
              "    0.023117309357534397,\n",
              "    0.025457078291555975,\n",
              "    0.021138327954337004,\n",
              "    0.01650082609060013,\n",
              "    0.018813224372951985,\n",
              "    0.02092097940925871,\n",
              "    0.01797788137513271,\n",
              "    0.015165457920772799,\n",
              "    0.013621191430188551,\n",
              "    0.014108080670587598,\n",
              "    0.01238984398506323,\n",
              "    0.031024891624537608,\n",
              "    0.017884133241745682,\n",
              "    0.017564662004588172,\n",
              "    0.011186109061327037,\n",
              "    0.01608801027581406,\n",
              "    0.030502066341757506,\n",
              "    0.017187549832538934,\n",
              "    0.023235549819277366,\n",
              "    0.01872977322653686]]},\n",
              " 'MNIST MLP on IID': {'hyperparams': {'C': 0.1,\n",
              "   'E': 5,\n",
              "   'K': 100,\n",
              "   'batch_size': 10,\n",
              "   'lr': 0.05,\n",
              "   'mu': 0.01,\n",
              "   'percentage': 50,\n",
              "   'rounds': 50,\n",
              "   'target_test_accuracy': 94.0},\n",
              "  'test_accuracy': [[91.64556962025317,\n",
              "    92.9113924050633,\n",
              "    93.79746835443038,\n",
              "    94.0506329113924,\n",
              "    94.43037974683544,\n",
              "    94.68354430379746,\n",
              "    95.44303797468355,\n",
              "    95.9493670886076,\n",
              "    96.07594936708861,\n",
              "    96.32911392405063,\n",
              "    96.07594936708861,\n",
              "    96.07594936708861,\n",
              "    96.07594936708861,\n",
              "    96.45569620253164,\n",
              "    96.20253164556962,\n",
              "    96.32911392405063,\n",
              "    96.45569620253164,\n",
              "    96.70886075949367,\n",
              "    96.83544303797468,\n",
              "    96.83544303797468,\n",
              "    96.83544303797468,\n",
              "    97.21518987341773,\n",
              "    96.9620253164557,\n",
              "    96.9620253164557,\n",
              "    96.83544303797468,\n",
              "    97.34177215189874,\n",
              "    97.21518987341773,\n",
              "    97.21518987341773,\n",
              "    96.9620253164557,\n",
              "    97.21518987341773,\n",
              "    97.34177215189874,\n",
              "    97.21518987341773,\n",
              "    97.59493670886076,\n",
              "    97.34177215189874,\n",
              "    97.34177215189874,\n",
              "    97.46835443037975,\n",
              "    97.46835443037975,\n",
              "    97.46835443037975,\n",
              "    97.34177215189874,\n",
              "    97.46835443037975,\n",
              "    97.9746835443038,\n",
              "    97.84810126582279,\n",
              "    97.84810126582279,\n",
              "    97.59493670886076,\n",
              "    97.72151898734177,\n",
              "    97.72151898734177,\n",
              "    98.10126582278481,\n",
              "    97.84810126582279,\n",
              "    97.84810126582279,\n",
              "    97.84810126582279]],\n",
              "  'test_loss': [[0.3563404567837715,\n",
              "    0.2707351060152054,\n",
              "    0.23647263250946998,\n",
              "    0.20888366436511277,\n",
              "    0.18962999083474277,\n",
              "    0.1714110774204135,\n",
              "    0.15796673283427953,\n",
              "    0.15071790742948651,\n",
              "    0.14467742875218392,\n",
              "    0.1377980021327734,\n",
              "    0.1349040522657335,\n",
              "    0.12826484482735395,\n",
              "    0.12600234198980034,\n",
              "    0.12166753318719566,\n",
              "    0.11509406365826726,\n",
              "    0.11260870615337044,\n",
              "    0.11071163142099977,\n",
              "    0.10849190509319305,\n",
              "    0.10658341510407626,\n",
              "    0.10656688493676483,\n",
              "    0.10302251569330692,\n",
              "    0.10145830857604742,\n",
              "    0.10161888338811696,\n",
              "    0.0979722734009847,\n",
              "    0.09701633418872953,\n",
              "    0.09331620481405407,\n",
              "    0.09513503930214792,\n",
              "    0.09490355459339916,\n",
              "    0.09286750578396022,\n",
              "    0.09150358222164214,\n",
              "    0.09104019959270954,\n",
              "    0.09133438729979097,\n",
              "    0.08826256219781935,\n",
              "    0.0894550388155505,\n",
              "    0.08831185983950272,\n",
              "    0.08843242108961567,\n",
              "    0.0853489863840863,\n",
              "    0.08615669190417975,\n",
              "    0.08510779249761254,\n",
              "    0.0840644885535352,\n",
              "    0.08253822675868869,\n",
              "    0.08090099499532953,\n",
              "    0.08255499962707981,\n",
              "    0.08143488221191801,\n",
              "    0.08164079434219748,\n",
              "    0.0798383536586538,\n",
              "    0.07902769242832437,\n",
              "    0.0813511291072704,\n",
              "    0.08149669817867689,\n",
              "    0.07889166766353883]],\n",
              "  'train_loss': [[1.087933261740125,\n",
              "    0.31664398618818573,\n",
              "    0.19576649387336026,\n",
              "    0.1576564379846936,\n",
              "    0.12479247218095568,\n",
              "    0.18222811855375767,\n",
              "    0.13746016645719972,\n",
              "    0.1227077039909135,\n",
              "    0.10944398473789138,\n",
              "    0.09974605003181043,\n",
              "    0.09421093111560266,\n",
              "    0.10111439799419086,\n",
              "    0.07151766448705973,\n",
              "    0.0748999203037545,\n",
              "    0.09265474964191607,\n",
              "    0.0855435401742062,\n",
              "    0.08975938327852054,\n",
              "    0.09825252326032366,\n",
              "    0.07241978834220857,\n",
              "    0.06698549394945925,\n",
              "    0.0695441576953502,\n",
              "    0.06315595439914129,\n",
              "    0.08038163303622828,\n",
              "    0.051674782342877326,\n",
              "    0.059239448447592116,\n",
              "    0.06935033803954381,\n",
              "    0.05006660179908593,\n",
              "    0.054723173463050945,\n",
              "    0.059888926956414554,\n",
              "    0.05570991122060838,\n",
              "    0.06575636340104878,\n",
              "    0.05435059235452354,\n",
              "    0.06378081238462538,\n",
              "    0.06423890102696411,\n",
              "    0.036544686479781784,\n",
              "    0.056873986480161155,\n",
              "    0.04405583830173257,\n",
              "    0.040415700280766444,\n",
              "    0.046026732731535354,\n",
              "    0.04775761669379628,\n",
              "    0.058043378360317234,\n",
              "    0.043095686443942516,\n",
              "    0.0358197312515731,\n",
              "    0.0448963340296824,\n",
              "    0.04020915392316076,\n",
              "    0.03668557299206198,\n",
              "    0.042146496544967195,\n",
              "    0.040721781967675875,\n",
              "    0.034059520174473515,\n",
              "    0.04751778144441454]]},\n",
              " 'MNIST MLP on Non IID': {'hyperparams': {'C': 0.1,\n",
              "   'E': 5,\n",
              "   'K': 100,\n",
              "   'batch_size': 10,\n",
              "   'lr': 0.05,\n",
              "   'mu': 0.01,\n",
              "   'percentage': 50,\n",
              "   'rounds': 50,\n",
              "   'target_test_accuracy': 94.0},\n",
              "  'test_accuracy': [[45.56962025316456,\n",
              "    34.30379746835443,\n",
              "    54.43037974683544,\n",
              "    75.44303797468355,\n",
              "    75.69620253164557,\n",
              "    83.67088607594937,\n",
              "    76.83544303797468,\n",
              "    83.41772151898734,\n",
              "    86.83544303797468,\n",
              "    88.22784810126582,\n",
              "    85.0632911392405,\n",
              "    86.9620253164557,\n",
              "    90.12658227848101,\n",
              "    91.13924050632912,\n",
              "    91.77215189873418,\n",
              "    89.11392405063292,\n",
              "    88.86075949367088,\n",
              "    92.53164556962025,\n",
              "    88.10126582278481,\n",
              "    93.67088607594937,\n",
              "    91.64556962025317,\n",
              "    93.79746835443038,\n",
              "    92.40506329113924,\n",
              "    92.53164556962025,\n",
              "    92.27848101265823,\n",
              "    89.49367088607595,\n",
              "    92.53164556962025,\n",
              "    89.62025316455696,\n",
              "    94.68354430379746,\n",
              "    89.87341772151899,\n",
              "    93.67088607594937,\n",
              "    93.54430379746836,\n",
              "    93.54430379746836,\n",
              "    92.78481012658227,\n",
              "    93.41772151898734,\n",
              "    93.54430379746836,\n",
              "    90.50632911392405,\n",
              "    92.15189873417721,\n",
              "    93.79746835443038,\n",
              "    94.55696202531645,\n",
              "    95.69620253164557,\n",
              "    95.18987341772151,\n",
              "    94.9367088607595,\n",
              "    94.81012658227849,\n",
              "    94.81012658227849,\n",
              "    95.18987341772151,\n",
              "    94.43037974683544,\n",
              "    95.56962025316456,\n",
              "    91.77215189873418,\n",
              "    95.31645569620254]],\n",
              "  'test_loss': [[3.3119170619964597,\n",
              "    2.4182265457153322,\n",
              "    1.5550468410491944,\n",
              "    0.8896119075775146,\n",
              "    0.7504207200050353,\n",
              "    0.5463254299163819,\n",
              "    0.7377623081207275,\n",
              "    0.5403290888786316,\n",
              "    0.4117896905899048,\n",
              "    0.40052801949977873,\n",
              "    0.4566073283672333,\n",
              "    0.37554833006858823,\n",
              "    0.31586729667186736,\n",
              "    0.3040185135602951,\n",
              "    0.29889628282785413,\n",
              "    0.3468444500684738,\n",
              "    0.35153273465633395,\n",
              "    0.258166090297699,\n",
              "    0.34961891252994537,\n",
              "    0.24411699655056,\n",
              "    0.2772906148791313,\n",
              "    0.22715370646715163,\n",
              "    0.24853782856464385,\n",
              "    0.25324392285346986,\n",
              "    0.2597825007200241,\n",
              "    0.2962508676767349,\n",
              "    0.23405703473091125,\n",
              "    0.30284329142570493,\n",
              "    0.19063055070638657,\n",
              "    0.3011599862575531,\n",
              "    0.20379597737789154,\n",
              "    0.21054512763023375,\n",
              "    0.20819573134183883,\n",
              "    0.19648595595359802,\n",
              "    0.1917562083005905,\n",
              "    0.1750261023759842,\n",
              "    0.25732842395305633,\n",
              "    0.2432512961626053,\n",
              "    0.19943194593787195,\n",
              "    0.20128837258815765,\n",
              "    0.15061351585686206,\n",
              "    0.17604248507022857,\n",
              "    0.15276758945584298,\n",
              "    0.15987388584613801,\n",
              "    0.17668769721388816,\n",
              "    0.17149049553275109,\n",
              "    0.1639951910048723,\n",
              "    0.14567828891277312,\n",
              "    0.24081139369010926,\n",
              "    0.1532120913684368]],\n",
              "  'train_loss': [[0.28285343520705486,\n",
              "    0.1887888194021458,\n",
              "    0.10841776839923116,\n",
              "    0.08045710675009629,\n",
              "    0.09660956877946024,\n",
              "    0.05535670991231584,\n",
              "    0.042047846958274016,\n",
              "    0.05436456276116789,\n",
              "    0.038598174664799846,\n",
              "    0.06663279279657097,\n",
              "    0.03781102090883845,\n",
              "    0.042843124977843317,\n",
              "    0.04338000310170982,\n",
              "    0.03892860515354874,\n",
              "    0.04658495353162288,\n",
              "    0.06249411877370181,\n",
              "    0.02356606801925227,\n",
              "    0.03835650096903555,\n",
              "    0.04356812009078244,\n",
              "    0.03189558587481993,\n",
              "    0.04640967609517328,\n",
              "    0.05814713747495422,\n",
              "    0.03748851410002034,\n",
              "    0.03513605399142641,\n",
              "    0.030270909958312074,\n",
              "    0.04384835558607786,\n",
              "    0.0436932013136878,\n",
              "    0.023743015307176395,\n",
              "    0.03583279305653802,\n",
              "    0.037812297243767216,\n",
              "    0.03379254895808279,\n",
              "    0.029995986749463348,\n",
              "    0.02762515455534837,\n",
              "    0.04724272765552935,\n",
              "    0.0369138287190322,\n",
              "    0.024440774701374016,\n",
              "    0.03418027901423112,\n",
              "    0.02653498801961541,\n",
              "    0.03303583799523767,\n",
              "    0.02088331914677595,\n",
              "    0.019820537785986542,\n",
              "    0.02887618630986092,\n",
              "    0.034260314366372766,\n",
              "    0.02644777924646365,\n",
              "    0.025563191028027277,\n",
              "    0.025910758095793424,\n",
              "    0.03296490987713656,\n",
              "    0.028937863433345534,\n",
              "    0.01825011330430344,\n",
              "    0.02385519261704758]]}}"
            ]
          },
          "metadata": {
            "tags": []
          },
          "execution_count": 65
        }
      ]
    },
    {
      "cell_type": "code",
      "metadata": {
        "id": "lYLuF-P_nLT8"
      },
      "source": [
        "import pickle\n",
        "\n",
        "with open(path + 'FedProx_100.pkl', 'rb') as file:\n",
        "  log_dict = pickle.load(file)"
      ],
      "execution_count": 66,
      "outputs": []
    },
    {
      "cell_type": "code",
      "metadata": {
        "id": "se_04JMaVJPg",
        "colab": {
          "base_uri": "https://localhost:8080/"
        },
        "outputId": "09ebdbbe-22a2-4bbd-975c-c5529fbad9ae"
      },
      "source": [
        "print([test_acc[-1] for test_acc in log_dict['MNIST CNN on IID']['test_accuracy']])"
      ],
      "execution_count": 67,
      "outputs": [
        {
          "output_type": "stream",
          "text": [
            "[99.62025316455696]\n"
          ],
          "name": "stdout"
        }
      ]
    },
    {
      "cell_type": "code",
      "metadata": {
        "id": "5sv0rv-G4Sqa",
        "colab": {
          "base_uri": "https://localhost:8080/"
        },
        "outputId": "9c98c605-f67f-45a7-f7c6-1c25b919e5d2"
      },
      "source": [
        "print([test_acc[-1] for test_acc in log_dict['MNIST CNN on Non IID']['test_accuracy']])"
      ],
      "execution_count": 68,
      "outputs": [
        {
          "output_type": "stream",
          "text": [
            "[97.84810126582279]\n"
          ],
          "name": "stdout"
        }
      ]
    },
    {
      "cell_type": "code",
      "metadata": {
        "id": "b2a2_Az-4nal",
        "colab": {
          "base_uri": "https://localhost:8080/"
        },
        "outputId": "4466ece3-9fbe-4985-a734-530a42ab0d85"
      },
      "source": [
        "print([test_acc[-1] for test_acc in log_dict['MNIST MLP on IID']['test_accuracy']])"
      ],
      "execution_count": 69,
      "outputs": [
        {
          "output_type": "stream",
          "text": [
            "[97.84810126582279]\n"
          ],
          "name": "stdout"
        }
      ]
    },
    {
      "cell_type": "code",
      "metadata": {
        "id": "YoRqZyvD4p2K",
        "colab": {
          "base_uri": "https://localhost:8080/"
        },
        "outputId": "0dffffb5-2e95-4ec3-b6b7-db8ee3aa1d2a"
      },
      "source": [
        "print([test_acc[-1] for test_acc in log_dict['MNIST MLP on Non IID']['test_accuracy']])"
      ],
      "execution_count": 70,
      "outputs": [
        {
          "output_type": "stream",
          "text": [
            "[95.31645569620254]\n"
          ],
          "name": "stdout"
        }
      ]
    },
    {
      "cell_type": "code",
      "metadata": {
        "id": "B87eGKJnAHIh",
        "colab": {
          "base_uri": "https://localhost:8080/"
        },
        "outputId": "99362c31-01f8-465f-e54d-553632172df0"
      },
      "source": [
        "output.show()"
      ],
      "execution_count": 71,
      "outputs": [
        {
          "output_type": "stream",
          "text": [
            "Drive already mounted at /content/drive; to attempt to forcibly remount, call drive.mount(\"/content/drive\", force_remount=True).\n"
          ],
          "name": "stdout"
        }
      ]
    }
  ]
}