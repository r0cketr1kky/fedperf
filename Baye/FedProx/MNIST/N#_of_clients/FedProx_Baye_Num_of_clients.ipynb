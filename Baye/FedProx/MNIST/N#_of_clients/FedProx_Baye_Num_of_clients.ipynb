{
  "nbformat": 4,
  "nbformat_minor": 0,
  "metadata": {
    "colab": {
      "name": "FedProx_Baye_Num_of_clients.ipynb",
      "provenance": [],
      "collapsed_sections": [
        "X7MesIL6AAuD",
        "a6wXX7JW11bx"
      ],
      "machine_shape": "hm"
    },
    "kernelspec": {
      "name": "python3",
      "display_name": "Python 3"
    },
    "accelerator": "GPU",
    "widgets": {
      "application/vnd.jupyter.widget-state+json": {
        "d8d37a2ac4614ca5964a4896ef339f9d": {
          "model_module": "@jupyter-widgets/controls",
          "model_name": "HBoxModel",
          "state": {
            "_view_name": "HBoxView",
            "_dom_classes": [],
            "_model_name": "HBoxModel",
            "_view_module": "@jupyter-widgets/controls",
            "_model_module_version": "1.5.0",
            "_view_count": null,
            "_view_module_version": "1.5.0",
            "box_style": "",
            "layout": "IPY_MODEL_84e95bdfb7cf4270a39c917e18f1d3fe",
            "_model_module": "@jupyter-widgets/controls",
            "children": [
              "IPY_MODEL_bcc86798c1214417bd1a68b0c9c65a0c",
              "IPY_MODEL_57ebb8c0386340a2a066b97860b4c6b2"
            ]
          }
        },
        "84e95bdfb7cf4270a39c917e18f1d3fe": {
          "model_module": "@jupyter-widgets/base",
          "model_name": "LayoutModel",
          "state": {
            "_view_name": "LayoutView",
            "grid_template_rows": null,
            "right": null,
            "justify_content": null,
            "_view_module": "@jupyter-widgets/base",
            "overflow": null,
            "_model_module_version": "1.2.0",
            "_view_count": null,
            "flex_flow": null,
            "width": null,
            "min_width": null,
            "border": null,
            "align_items": null,
            "bottom": null,
            "_model_module": "@jupyter-widgets/base",
            "top": null,
            "grid_column": null,
            "overflow_y": null,
            "overflow_x": null,
            "grid_auto_flow": null,
            "grid_area": null,
            "grid_template_columns": null,
            "flex": null,
            "_model_name": "LayoutModel",
            "justify_items": null,
            "grid_row": null,
            "max_height": null,
            "align_content": null,
            "visibility": null,
            "align_self": null,
            "height": null,
            "min_height": null,
            "padding": null,
            "grid_auto_rows": null,
            "grid_gap": null,
            "max_width": null,
            "order": null,
            "_view_module_version": "1.2.0",
            "grid_template_areas": null,
            "object_position": null,
            "object_fit": null,
            "grid_auto_columns": null,
            "margin": null,
            "display": null,
            "left": null
          }
        },
        "bcc86798c1214417bd1a68b0c9c65a0c": {
          "model_module": "@jupyter-widgets/controls",
          "model_name": "FloatProgressModel",
          "state": {
            "_view_name": "ProgressView",
            "style": "IPY_MODEL_68faf45e0f7a4a89bcf9b4ead9acd9cc",
            "_dom_classes": [],
            "description": "",
            "_model_name": "FloatProgressModel",
            "bar_style": "success",
            "max": 9912422,
            "_view_module": "@jupyter-widgets/controls",
            "_model_module_version": "1.5.0",
            "value": 9912422,
            "_view_count": null,
            "_view_module_version": "1.5.0",
            "orientation": "horizontal",
            "min": 0,
            "description_tooltip": null,
            "_model_module": "@jupyter-widgets/controls",
            "layout": "IPY_MODEL_f7445e665a394e73ba1e87be705622ff"
          }
        },
        "57ebb8c0386340a2a066b97860b4c6b2": {
          "model_module": "@jupyter-widgets/controls",
          "model_name": "HTMLModel",
          "state": {
            "_view_name": "HTMLView",
            "style": "IPY_MODEL_bf885e851e8345d4b8a1b4569ea0e567",
            "_dom_classes": [],
            "description": "",
            "_model_name": "HTMLModel",
            "placeholder": "​",
            "_view_module": "@jupyter-widgets/controls",
            "_model_module_version": "1.5.0",
            "value": " 9913344/? [00:07&lt;00:00, 1320264.33it/s]",
            "_view_count": null,
            "_view_module_version": "1.5.0",
            "description_tooltip": null,
            "_model_module": "@jupyter-widgets/controls",
            "layout": "IPY_MODEL_a1ab61488c1f484bb9604fc3b59d8d1d"
          }
        },
        "68faf45e0f7a4a89bcf9b4ead9acd9cc": {
          "model_module": "@jupyter-widgets/controls",
          "model_name": "ProgressStyleModel",
          "state": {
            "_view_name": "StyleView",
            "_model_name": "ProgressStyleModel",
            "description_width": "initial",
            "_view_module": "@jupyter-widgets/base",
            "_model_module_version": "1.5.0",
            "_view_count": null,
            "_view_module_version": "1.2.0",
            "bar_color": null,
            "_model_module": "@jupyter-widgets/controls"
          }
        },
        "f7445e665a394e73ba1e87be705622ff": {
          "model_module": "@jupyter-widgets/base",
          "model_name": "LayoutModel",
          "state": {
            "_view_name": "LayoutView",
            "grid_template_rows": null,
            "right": null,
            "justify_content": null,
            "_view_module": "@jupyter-widgets/base",
            "overflow": null,
            "_model_module_version": "1.2.0",
            "_view_count": null,
            "flex_flow": null,
            "width": null,
            "min_width": null,
            "border": null,
            "align_items": null,
            "bottom": null,
            "_model_module": "@jupyter-widgets/base",
            "top": null,
            "grid_column": null,
            "overflow_y": null,
            "overflow_x": null,
            "grid_auto_flow": null,
            "grid_area": null,
            "grid_template_columns": null,
            "flex": null,
            "_model_name": "LayoutModel",
            "justify_items": null,
            "grid_row": null,
            "max_height": null,
            "align_content": null,
            "visibility": null,
            "align_self": null,
            "height": null,
            "min_height": null,
            "padding": null,
            "grid_auto_rows": null,
            "grid_gap": null,
            "max_width": null,
            "order": null,
            "_view_module_version": "1.2.0",
            "grid_template_areas": null,
            "object_position": null,
            "object_fit": null,
            "grid_auto_columns": null,
            "margin": null,
            "display": null,
            "left": null
          }
        },
        "bf885e851e8345d4b8a1b4569ea0e567": {
          "model_module": "@jupyter-widgets/controls",
          "model_name": "DescriptionStyleModel",
          "state": {
            "_view_name": "StyleView",
            "_model_name": "DescriptionStyleModel",
            "description_width": "",
            "_view_module": "@jupyter-widgets/base",
            "_model_module_version": "1.5.0",
            "_view_count": null,
            "_view_module_version": "1.2.0",
            "_model_module": "@jupyter-widgets/controls"
          }
        },
        "a1ab61488c1f484bb9604fc3b59d8d1d": {
          "model_module": "@jupyter-widgets/base",
          "model_name": "LayoutModel",
          "state": {
            "_view_name": "LayoutView",
            "grid_template_rows": null,
            "right": null,
            "justify_content": null,
            "_view_module": "@jupyter-widgets/base",
            "overflow": null,
            "_model_module_version": "1.2.0",
            "_view_count": null,
            "flex_flow": null,
            "width": null,
            "min_width": null,
            "border": null,
            "align_items": null,
            "bottom": null,
            "_model_module": "@jupyter-widgets/base",
            "top": null,
            "grid_column": null,
            "overflow_y": null,
            "overflow_x": null,
            "grid_auto_flow": null,
            "grid_area": null,
            "grid_template_columns": null,
            "flex": null,
            "_model_name": "LayoutModel",
            "justify_items": null,
            "grid_row": null,
            "max_height": null,
            "align_content": null,
            "visibility": null,
            "align_self": null,
            "height": null,
            "min_height": null,
            "padding": null,
            "grid_auto_rows": null,
            "grid_gap": null,
            "max_width": null,
            "order": null,
            "_view_module_version": "1.2.0",
            "grid_template_areas": null,
            "object_position": null,
            "object_fit": null,
            "grid_auto_columns": null,
            "margin": null,
            "display": null,
            "left": null
          }
        },
        "cbccda7b151645ae98d2a11ac49f43e6": {
          "model_module": "@jupyter-widgets/controls",
          "model_name": "HBoxModel",
          "state": {
            "_view_name": "HBoxView",
            "_dom_classes": [],
            "_model_name": "HBoxModel",
            "_view_module": "@jupyter-widgets/controls",
            "_model_module_version": "1.5.0",
            "_view_count": null,
            "_view_module_version": "1.5.0",
            "box_style": "",
            "layout": "IPY_MODEL_dc70000b4dc0406d8b87b6239872a862",
            "_model_module": "@jupyter-widgets/controls",
            "children": [
              "IPY_MODEL_b0bac79019a442baa2f907f1baf93769",
              "IPY_MODEL_0e16941a5f6b4cec990481e80f08214b"
            ]
          }
        },
        "dc70000b4dc0406d8b87b6239872a862": {
          "model_module": "@jupyter-widgets/base",
          "model_name": "LayoutModel",
          "state": {
            "_view_name": "LayoutView",
            "grid_template_rows": null,
            "right": null,
            "justify_content": null,
            "_view_module": "@jupyter-widgets/base",
            "overflow": null,
            "_model_module_version": "1.2.0",
            "_view_count": null,
            "flex_flow": null,
            "width": null,
            "min_width": null,
            "border": null,
            "align_items": null,
            "bottom": null,
            "_model_module": "@jupyter-widgets/base",
            "top": null,
            "grid_column": null,
            "overflow_y": null,
            "overflow_x": null,
            "grid_auto_flow": null,
            "grid_area": null,
            "grid_template_columns": null,
            "flex": null,
            "_model_name": "LayoutModel",
            "justify_items": null,
            "grid_row": null,
            "max_height": null,
            "align_content": null,
            "visibility": null,
            "align_self": null,
            "height": null,
            "min_height": null,
            "padding": null,
            "grid_auto_rows": null,
            "grid_gap": null,
            "max_width": null,
            "order": null,
            "_view_module_version": "1.2.0",
            "grid_template_areas": null,
            "object_position": null,
            "object_fit": null,
            "grid_auto_columns": null,
            "margin": null,
            "display": null,
            "left": null
          }
        },
        "b0bac79019a442baa2f907f1baf93769": {
          "model_module": "@jupyter-widgets/controls",
          "model_name": "FloatProgressModel",
          "state": {
            "_view_name": "ProgressView",
            "style": "IPY_MODEL_9803edc4ed8046e8907fd72f085d23b0",
            "_dom_classes": [],
            "description": "",
            "_model_name": "FloatProgressModel",
            "bar_style": "success",
            "max": 28881,
            "_view_module": "@jupyter-widgets/controls",
            "_model_module_version": "1.5.0",
            "value": 28881,
            "_view_count": null,
            "_view_module_version": "1.5.0",
            "orientation": "horizontal",
            "min": 0,
            "description_tooltip": null,
            "_model_module": "@jupyter-widgets/controls",
            "layout": "IPY_MODEL_9227aa348fc34a158cba299c0b29204b"
          }
        },
        "0e16941a5f6b4cec990481e80f08214b": {
          "model_module": "@jupyter-widgets/controls",
          "model_name": "HTMLModel",
          "state": {
            "_view_name": "HTMLView",
            "style": "IPY_MODEL_b878c596a23945f5b6b1af9d3325772d",
            "_dom_classes": [],
            "description": "",
            "_model_name": "HTMLModel",
            "placeholder": "​",
            "_view_module": "@jupyter-widgets/controls",
            "_model_module_version": "1.5.0",
            "value": " 29696/? [00:03&lt;00:00, 9740.94it/s]",
            "_view_count": null,
            "_view_module_version": "1.5.0",
            "description_tooltip": null,
            "_model_module": "@jupyter-widgets/controls",
            "layout": "IPY_MODEL_af49c23d007942ac8c546de00f52b9f4"
          }
        },
        "9803edc4ed8046e8907fd72f085d23b0": {
          "model_module": "@jupyter-widgets/controls",
          "model_name": "ProgressStyleModel",
          "state": {
            "_view_name": "StyleView",
            "_model_name": "ProgressStyleModel",
            "description_width": "initial",
            "_view_module": "@jupyter-widgets/base",
            "_model_module_version": "1.5.0",
            "_view_count": null,
            "_view_module_version": "1.2.0",
            "bar_color": null,
            "_model_module": "@jupyter-widgets/controls"
          }
        },
        "9227aa348fc34a158cba299c0b29204b": {
          "model_module": "@jupyter-widgets/base",
          "model_name": "LayoutModel",
          "state": {
            "_view_name": "LayoutView",
            "grid_template_rows": null,
            "right": null,
            "justify_content": null,
            "_view_module": "@jupyter-widgets/base",
            "overflow": null,
            "_model_module_version": "1.2.0",
            "_view_count": null,
            "flex_flow": null,
            "width": null,
            "min_width": null,
            "border": null,
            "align_items": null,
            "bottom": null,
            "_model_module": "@jupyter-widgets/base",
            "top": null,
            "grid_column": null,
            "overflow_y": null,
            "overflow_x": null,
            "grid_auto_flow": null,
            "grid_area": null,
            "grid_template_columns": null,
            "flex": null,
            "_model_name": "LayoutModel",
            "justify_items": null,
            "grid_row": null,
            "max_height": null,
            "align_content": null,
            "visibility": null,
            "align_self": null,
            "height": null,
            "min_height": null,
            "padding": null,
            "grid_auto_rows": null,
            "grid_gap": null,
            "max_width": null,
            "order": null,
            "_view_module_version": "1.2.0",
            "grid_template_areas": null,
            "object_position": null,
            "object_fit": null,
            "grid_auto_columns": null,
            "margin": null,
            "display": null,
            "left": null
          }
        },
        "b878c596a23945f5b6b1af9d3325772d": {
          "model_module": "@jupyter-widgets/controls",
          "model_name": "DescriptionStyleModel",
          "state": {
            "_view_name": "StyleView",
            "_model_name": "DescriptionStyleModel",
            "description_width": "",
            "_view_module": "@jupyter-widgets/base",
            "_model_module_version": "1.5.0",
            "_view_count": null,
            "_view_module_version": "1.2.0",
            "_model_module": "@jupyter-widgets/controls"
          }
        },
        "af49c23d007942ac8c546de00f52b9f4": {
          "model_module": "@jupyter-widgets/base",
          "model_name": "LayoutModel",
          "state": {
            "_view_name": "LayoutView",
            "grid_template_rows": null,
            "right": null,
            "justify_content": null,
            "_view_module": "@jupyter-widgets/base",
            "overflow": null,
            "_model_module_version": "1.2.0",
            "_view_count": null,
            "flex_flow": null,
            "width": null,
            "min_width": null,
            "border": null,
            "align_items": null,
            "bottom": null,
            "_model_module": "@jupyter-widgets/base",
            "top": null,
            "grid_column": null,
            "overflow_y": null,
            "overflow_x": null,
            "grid_auto_flow": null,
            "grid_area": null,
            "grid_template_columns": null,
            "flex": null,
            "_model_name": "LayoutModel",
            "justify_items": null,
            "grid_row": null,
            "max_height": null,
            "align_content": null,
            "visibility": null,
            "align_self": null,
            "height": null,
            "min_height": null,
            "padding": null,
            "grid_auto_rows": null,
            "grid_gap": null,
            "max_width": null,
            "order": null,
            "_view_module_version": "1.2.0",
            "grid_template_areas": null,
            "object_position": null,
            "object_fit": null,
            "grid_auto_columns": null,
            "margin": null,
            "display": null,
            "left": null
          }
        },
        "4db28c2de0ed4780ae068010669dfeae": {
          "model_module": "@jupyter-widgets/controls",
          "model_name": "HBoxModel",
          "state": {
            "_view_name": "HBoxView",
            "_dom_classes": [],
            "_model_name": "HBoxModel",
            "_view_module": "@jupyter-widgets/controls",
            "_model_module_version": "1.5.0",
            "_view_count": null,
            "_view_module_version": "1.5.0",
            "box_style": "",
            "layout": "IPY_MODEL_8da0a2ecfe3947379ad69619ec207c1f",
            "_model_module": "@jupyter-widgets/controls",
            "children": [
              "IPY_MODEL_0e3f64e58e724d2f9af69f1135f7b31b",
              "IPY_MODEL_da15d9e495154fcba6839345e8040cee"
            ]
          }
        },
        "8da0a2ecfe3947379ad69619ec207c1f": {
          "model_module": "@jupyter-widgets/base",
          "model_name": "LayoutModel",
          "state": {
            "_view_name": "LayoutView",
            "grid_template_rows": null,
            "right": null,
            "justify_content": null,
            "_view_module": "@jupyter-widgets/base",
            "overflow": null,
            "_model_module_version": "1.2.0",
            "_view_count": null,
            "flex_flow": null,
            "width": null,
            "min_width": null,
            "border": null,
            "align_items": null,
            "bottom": null,
            "_model_module": "@jupyter-widgets/base",
            "top": null,
            "grid_column": null,
            "overflow_y": null,
            "overflow_x": null,
            "grid_auto_flow": null,
            "grid_area": null,
            "grid_template_columns": null,
            "flex": null,
            "_model_name": "LayoutModel",
            "justify_items": null,
            "grid_row": null,
            "max_height": null,
            "align_content": null,
            "visibility": null,
            "align_self": null,
            "height": null,
            "min_height": null,
            "padding": null,
            "grid_auto_rows": null,
            "grid_gap": null,
            "max_width": null,
            "order": null,
            "_view_module_version": "1.2.0",
            "grid_template_areas": null,
            "object_position": null,
            "object_fit": null,
            "grid_auto_columns": null,
            "margin": null,
            "display": null,
            "left": null
          }
        },
        "0e3f64e58e724d2f9af69f1135f7b31b": {
          "model_module": "@jupyter-widgets/controls",
          "model_name": "FloatProgressModel",
          "state": {
            "_view_name": "ProgressView",
            "style": "IPY_MODEL_7333a55d106b43d8aa5c9700c1e502ac",
            "_dom_classes": [],
            "description": "",
            "_model_name": "FloatProgressModel",
            "bar_style": "success",
            "max": 1648877,
            "_view_module": "@jupyter-widgets/controls",
            "_model_module_version": "1.5.0",
            "value": 1648877,
            "_view_count": null,
            "_view_module_version": "1.5.0",
            "orientation": "horizontal",
            "min": 0,
            "description_tooltip": null,
            "_model_module": "@jupyter-widgets/controls",
            "layout": "IPY_MODEL_d9f5941aee62479badb815605e176253"
          }
        },
        "da15d9e495154fcba6839345e8040cee": {
          "model_module": "@jupyter-widgets/controls",
          "model_name": "HTMLModel",
          "state": {
            "_view_name": "HTMLView",
            "style": "IPY_MODEL_4e29a8dd18b048a4a85b5088565157c0",
            "_dom_classes": [],
            "description": "",
            "_model_name": "HTMLModel",
            "placeholder": "​",
            "_view_module": "@jupyter-widgets/controls",
            "_model_module_version": "1.5.0",
            "value": " 1649664/? [00:33&lt;00:00, 48785.10it/s]",
            "_view_count": null,
            "_view_module_version": "1.5.0",
            "description_tooltip": null,
            "_model_module": "@jupyter-widgets/controls",
            "layout": "IPY_MODEL_309c726dbfec4798bde9f9d0d8662baa"
          }
        },
        "7333a55d106b43d8aa5c9700c1e502ac": {
          "model_module": "@jupyter-widgets/controls",
          "model_name": "ProgressStyleModel",
          "state": {
            "_view_name": "StyleView",
            "_model_name": "ProgressStyleModel",
            "description_width": "initial",
            "_view_module": "@jupyter-widgets/base",
            "_model_module_version": "1.5.0",
            "_view_count": null,
            "_view_module_version": "1.2.0",
            "bar_color": null,
            "_model_module": "@jupyter-widgets/controls"
          }
        },
        "d9f5941aee62479badb815605e176253": {
          "model_module": "@jupyter-widgets/base",
          "model_name": "LayoutModel",
          "state": {
            "_view_name": "LayoutView",
            "grid_template_rows": null,
            "right": null,
            "justify_content": null,
            "_view_module": "@jupyter-widgets/base",
            "overflow": null,
            "_model_module_version": "1.2.0",
            "_view_count": null,
            "flex_flow": null,
            "width": null,
            "min_width": null,
            "border": null,
            "align_items": null,
            "bottom": null,
            "_model_module": "@jupyter-widgets/base",
            "top": null,
            "grid_column": null,
            "overflow_y": null,
            "overflow_x": null,
            "grid_auto_flow": null,
            "grid_area": null,
            "grid_template_columns": null,
            "flex": null,
            "_model_name": "LayoutModel",
            "justify_items": null,
            "grid_row": null,
            "max_height": null,
            "align_content": null,
            "visibility": null,
            "align_self": null,
            "height": null,
            "min_height": null,
            "padding": null,
            "grid_auto_rows": null,
            "grid_gap": null,
            "max_width": null,
            "order": null,
            "_view_module_version": "1.2.0",
            "grid_template_areas": null,
            "object_position": null,
            "object_fit": null,
            "grid_auto_columns": null,
            "margin": null,
            "display": null,
            "left": null
          }
        },
        "4e29a8dd18b048a4a85b5088565157c0": {
          "model_module": "@jupyter-widgets/controls",
          "model_name": "DescriptionStyleModel",
          "state": {
            "_view_name": "StyleView",
            "_model_name": "DescriptionStyleModel",
            "description_width": "",
            "_view_module": "@jupyter-widgets/base",
            "_model_module_version": "1.5.0",
            "_view_count": null,
            "_view_module_version": "1.2.0",
            "_model_module": "@jupyter-widgets/controls"
          }
        },
        "309c726dbfec4798bde9f9d0d8662baa": {
          "model_module": "@jupyter-widgets/base",
          "model_name": "LayoutModel",
          "state": {
            "_view_name": "LayoutView",
            "grid_template_rows": null,
            "right": null,
            "justify_content": null,
            "_view_module": "@jupyter-widgets/base",
            "overflow": null,
            "_model_module_version": "1.2.0",
            "_view_count": null,
            "flex_flow": null,
            "width": null,
            "min_width": null,
            "border": null,
            "align_items": null,
            "bottom": null,
            "_model_module": "@jupyter-widgets/base",
            "top": null,
            "grid_column": null,
            "overflow_y": null,
            "overflow_x": null,
            "grid_auto_flow": null,
            "grid_area": null,
            "grid_template_columns": null,
            "flex": null,
            "_model_name": "LayoutModel",
            "justify_items": null,
            "grid_row": null,
            "max_height": null,
            "align_content": null,
            "visibility": null,
            "align_self": null,
            "height": null,
            "min_height": null,
            "padding": null,
            "grid_auto_rows": null,
            "grid_gap": null,
            "max_width": null,
            "order": null,
            "_view_module_version": "1.2.0",
            "grid_template_areas": null,
            "object_position": null,
            "object_fit": null,
            "grid_auto_columns": null,
            "margin": null,
            "display": null,
            "left": null
          }
        },
        "b665a92b351e462aad3350d3cb0246fe": {
          "model_module": "@jupyter-widgets/controls",
          "model_name": "HBoxModel",
          "state": {
            "_view_name": "HBoxView",
            "_dom_classes": [],
            "_model_name": "HBoxModel",
            "_view_module": "@jupyter-widgets/controls",
            "_model_module_version": "1.5.0",
            "_view_count": null,
            "_view_module_version": "1.5.0",
            "box_style": "",
            "layout": "IPY_MODEL_824465e6b81b4bd88d1e1dfdb20e649b",
            "_model_module": "@jupyter-widgets/controls",
            "children": [
              "IPY_MODEL_b40b42f4bf3a43a7b74e8f7a9ab4fb32",
              "IPY_MODEL_67349ad9300b4e74b917838962dfc54b"
            ]
          }
        },
        "824465e6b81b4bd88d1e1dfdb20e649b": {
          "model_module": "@jupyter-widgets/base",
          "model_name": "LayoutModel",
          "state": {
            "_view_name": "LayoutView",
            "grid_template_rows": null,
            "right": null,
            "justify_content": null,
            "_view_module": "@jupyter-widgets/base",
            "overflow": null,
            "_model_module_version": "1.2.0",
            "_view_count": null,
            "flex_flow": null,
            "width": null,
            "min_width": null,
            "border": null,
            "align_items": null,
            "bottom": null,
            "_model_module": "@jupyter-widgets/base",
            "top": null,
            "grid_column": null,
            "overflow_y": null,
            "overflow_x": null,
            "grid_auto_flow": null,
            "grid_area": null,
            "grid_template_columns": null,
            "flex": null,
            "_model_name": "LayoutModel",
            "justify_items": null,
            "grid_row": null,
            "max_height": null,
            "align_content": null,
            "visibility": null,
            "align_self": null,
            "height": null,
            "min_height": null,
            "padding": null,
            "grid_auto_rows": null,
            "grid_gap": null,
            "max_width": null,
            "order": null,
            "_view_module_version": "1.2.0",
            "grid_template_areas": null,
            "object_position": null,
            "object_fit": null,
            "grid_auto_columns": null,
            "margin": null,
            "display": null,
            "left": null
          }
        },
        "b40b42f4bf3a43a7b74e8f7a9ab4fb32": {
          "model_module": "@jupyter-widgets/controls",
          "model_name": "FloatProgressModel",
          "state": {
            "_view_name": "ProgressView",
            "style": "IPY_MODEL_282e2055cae9421b91fb577794f05736",
            "_dom_classes": [],
            "description": "",
            "_model_name": "FloatProgressModel",
            "bar_style": "success",
            "max": 4542,
            "_view_module": "@jupyter-widgets/controls",
            "_model_module_version": "1.5.0",
            "value": 4542,
            "_view_count": null,
            "_view_module_version": "1.5.0",
            "orientation": "horizontal",
            "min": 0,
            "description_tooltip": null,
            "_model_module": "@jupyter-widgets/controls",
            "layout": "IPY_MODEL_4e9ea40885594bf88fd3031b1f96814e"
          }
        },
        "67349ad9300b4e74b917838962dfc54b": {
          "model_module": "@jupyter-widgets/controls",
          "model_name": "HTMLModel",
          "state": {
            "_view_name": "HTMLView",
            "style": "IPY_MODEL_fab8cf5c4f8f4e7881b81353bdd56a2c",
            "_dom_classes": [],
            "description": "",
            "_model_name": "HTMLModel",
            "placeholder": "​",
            "_view_module": "@jupyter-widgets/controls",
            "_model_module_version": "1.5.0",
            "value": " 5120/? [00:06&lt;00:00, 814.82it/s]",
            "_view_count": null,
            "_view_module_version": "1.5.0",
            "description_tooltip": null,
            "_model_module": "@jupyter-widgets/controls",
            "layout": "IPY_MODEL_7c22f9b0b91c44798b4305b9f308172b"
          }
        },
        "282e2055cae9421b91fb577794f05736": {
          "model_module": "@jupyter-widgets/controls",
          "model_name": "ProgressStyleModel",
          "state": {
            "_view_name": "StyleView",
            "_model_name": "ProgressStyleModel",
            "description_width": "initial",
            "_view_module": "@jupyter-widgets/base",
            "_model_module_version": "1.5.0",
            "_view_count": null,
            "_view_module_version": "1.2.0",
            "bar_color": null,
            "_model_module": "@jupyter-widgets/controls"
          }
        },
        "4e9ea40885594bf88fd3031b1f96814e": {
          "model_module": "@jupyter-widgets/base",
          "model_name": "LayoutModel",
          "state": {
            "_view_name": "LayoutView",
            "grid_template_rows": null,
            "right": null,
            "justify_content": null,
            "_view_module": "@jupyter-widgets/base",
            "overflow": null,
            "_model_module_version": "1.2.0",
            "_view_count": null,
            "flex_flow": null,
            "width": null,
            "min_width": null,
            "border": null,
            "align_items": null,
            "bottom": null,
            "_model_module": "@jupyter-widgets/base",
            "top": null,
            "grid_column": null,
            "overflow_y": null,
            "overflow_x": null,
            "grid_auto_flow": null,
            "grid_area": null,
            "grid_template_columns": null,
            "flex": null,
            "_model_name": "LayoutModel",
            "justify_items": null,
            "grid_row": null,
            "max_height": null,
            "align_content": null,
            "visibility": null,
            "align_self": null,
            "height": null,
            "min_height": null,
            "padding": null,
            "grid_auto_rows": null,
            "grid_gap": null,
            "max_width": null,
            "order": null,
            "_view_module_version": "1.2.0",
            "grid_template_areas": null,
            "object_position": null,
            "object_fit": null,
            "grid_auto_columns": null,
            "margin": null,
            "display": null,
            "left": null
          }
        },
        "fab8cf5c4f8f4e7881b81353bdd56a2c": {
          "model_module": "@jupyter-widgets/controls",
          "model_name": "DescriptionStyleModel",
          "state": {
            "_view_name": "StyleView",
            "_model_name": "DescriptionStyleModel",
            "description_width": "",
            "_view_module": "@jupyter-widgets/base",
            "_model_module_version": "1.5.0",
            "_view_count": null,
            "_view_module_version": "1.2.0",
            "_model_module": "@jupyter-widgets/controls"
          }
        },
        "7c22f9b0b91c44798b4305b9f308172b": {
          "model_module": "@jupyter-widgets/base",
          "model_name": "LayoutModel",
          "state": {
            "_view_name": "LayoutView",
            "grid_template_rows": null,
            "right": null,
            "justify_content": null,
            "_view_module": "@jupyter-widgets/base",
            "overflow": null,
            "_model_module_version": "1.2.0",
            "_view_count": null,
            "flex_flow": null,
            "width": null,
            "min_width": null,
            "border": null,
            "align_items": null,
            "bottom": null,
            "_model_module": "@jupyter-widgets/base",
            "top": null,
            "grid_column": null,
            "overflow_y": null,
            "overflow_x": null,
            "grid_auto_flow": null,
            "grid_area": null,
            "grid_template_columns": null,
            "flex": null,
            "_model_name": "LayoutModel",
            "justify_items": null,
            "grid_row": null,
            "max_height": null,
            "align_content": null,
            "visibility": null,
            "align_self": null,
            "height": null,
            "min_height": null,
            "padding": null,
            "grid_auto_rows": null,
            "grid_gap": null,
            "max_width": null,
            "order": null,
            "_view_module_version": "1.2.0",
            "grid_template_areas": null,
            "object_position": null,
            "object_fit": null,
            "grid_auto_columns": null,
            "margin": null,
            "display": null,
            "left": null
          }
        },
        "f1fc57c487534eff9d8d1340ed129617": {
          "model_module": "@jupyter-widgets/controls",
          "model_name": "HBoxModel",
          "state": {
            "_view_name": "HBoxView",
            "_dom_classes": [],
            "_model_name": "HBoxModel",
            "_view_module": "@jupyter-widgets/controls",
            "_model_module_version": "1.5.0",
            "_view_count": null,
            "_view_module_version": "1.5.0",
            "box_style": "",
            "layout": "IPY_MODEL_6d0839dd064f4d248cbd796360b53e80",
            "_model_module": "@jupyter-widgets/controls",
            "children": [
              "IPY_MODEL_95249df13e08459ab6602f29c868a7df",
              "IPY_MODEL_efac00e006dc4c68adc9d832a8aa7ca2"
            ]
          }
        },
        "6d0839dd064f4d248cbd796360b53e80": {
          "model_module": "@jupyter-widgets/base",
          "model_name": "LayoutModel",
          "state": {
            "_view_name": "LayoutView",
            "grid_template_rows": null,
            "right": null,
            "justify_content": null,
            "_view_module": "@jupyter-widgets/base",
            "overflow": null,
            "_model_module_version": "1.2.0",
            "_view_count": null,
            "flex_flow": null,
            "width": null,
            "min_width": null,
            "border": null,
            "align_items": null,
            "bottom": null,
            "_model_module": "@jupyter-widgets/base",
            "top": null,
            "grid_column": null,
            "overflow_y": null,
            "overflow_x": null,
            "grid_auto_flow": null,
            "grid_area": null,
            "grid_template_columns": null,
            "flex": null,
            "_model_name": "LayoutModel",
            "justify_items": null,
            "grid_row": null,
            "max_height": null,
            "align_content": null,
            "visibility": null,
            "align_self": null,
            "height": null,
            "min_height": null,
            "padding": null,
            "grid_auto_rows": null,
            "grid_gap": null,
            "max_width": null,
            "order": null,
            "_view_module_version": "1.2.0",
            "grid_template_areas": null,
            "object_position": null,
            "object_fit": null,
            "grid_auto_columns": null,
            "margin": null,
            "display": null,
            "left": null
          }
        },
        "95249df13e08459ab6602f29c868a7df": {
          "model_module": "@jupyter-widgets/controls",
          "model_name": "FloatProgressModel",
          "state": {
            "_view_name": "ProgressView",
            "style": "IPY_MODEL_ba80f386683a4d25a6aaf8c898e849b2",
            "_dom_classes": [],
            "description": "",
            "_model_name": "FloatProgressModel",
            "bar_style": "success",
            "max": 9912422,
            "_view_module": "@jupyter-widgets/controls",
            "_model_module_version": "1.5.0",
            "value": 9912422,
            "_view_count": null,
            "_view_module_version": "1.5.0",
            "orientation": "horizontal",
            "min": 0,
            "description_tooltip": null,
            "_model_module": "@jupyter-widgets/controls",
            "layout": "IPY_MODEL_e3f9d4f6d0c447369ab8a6efe00b4e27"
          }
        },
        "efac00e006dc4c68adc9d832a8aa7ca2": {
          "model_module": "@jupyter-widgets/controls",
          "model_name": "HTMLModel",
          "state": {
            "_view_name": "HTMLView",
            "style": "IPY_MODEL_cebc03f2a55d470c94877cfeb23bbaeb",
            "_dom_classes": [],
            "description": "",
            "_model_name": "HTMLModel",
            "placeholder": "​",
            "_view_module": "@jupyter-widgets/controls",
            "_model_module_version": "1.5.0",
            "value": " 9913344/? [00:04&lt;00:00, 2348749.87it/s]",
            "_view_count": null,
            "_view_module_version": "1.5.0",
            "description_tooltip": null,
            "_model_module": "@jupyter-widgets/controls",
            "layout": "IPY_MODEL_d1ed238f6cae4a5d87de33d409420f8d"
          }
        },
        "ba80f386683a4d25a6aaf8c898e849b2": {
          "model_module": "@jupyter-widgets/controls",
          "model_name": "ProgressStyleModel",
          "state": {
            "_view_name": "StyleView",
            "_model_name": "ProgressStyleModel",
            "description_width": "initial",
            "_view_module": "@jupyter-widgets/base",
            "_model_module_version": "1.5.0",
            "_view_count": null,
            "_view_module_version": "1.2.0",
            "bar_color": null,
            "_model_module": "@jupyter-widgets/controls"
          }
        },
        "e3f9d4f6d0c447369ab8a6efe00b4e27": {
          "model_module": "@jupyter-widgets/base",
          "model_name": "LayoutModel",
          "state": {
            "_view_name": "LayoutView",
            "grid_template_rows": null,
            "right": null,
            "justify_content": null,
            "_view_module": "@jupyter-widgets/base",
            "overflow": null,
            "_model_module_version": "1.2.0",
            "_view_count": null,
            "flex_flow": null,
            "width": null,
            "min_width": null,
            "border": null,
            "align_items": null,
            "bottom": null,
            "_model_module": "@jupyter-widgets/base",
            "top": null,
            "grid_column": null,
            "overflow_y": null,
            "overflow_x": null,
            "grid_auto_flow": null,
            "grid_area": null,
            "grid_template_columns": null,
            "flex": null,
            "_model_name": "LayoutModel",
            "justify_items": null,
            "grid_row": null,
            "max_height": null,
            "align_content": null,
            "visibility": null,
            "align_self": null,
            "height": null,
            "min_height": null,
            "padding": null,
            "grid_auto_rows": null,
            "grid_gap": null,
            "max_width": null,
            "order": null,
            "_view_module_version": "1.2.0",
            "grid_template_areas": null,
            "object_position": null,
            "object_fit": null,
            "grid_auto_columns": null,
            "margin": null,
            "display": null,
            "left": null
          }
        },
        "cebc03f2a55d470c94877cfeb23bbaeb": {
          "model_module": "@jupyter-widgets/controls",
          "model_name": "DescriptionStyleModel",
          "state": {
            "_view_name": "StyleView",
            "_model_name": "DescriptionStyleModel",
            "description_width": "",
            "_view_module": "@jupyter-widgets/base",
            "_model_module_version": "1.5.0",
            "_view_count": null,
            "_view_module_version": "1.2.0",
            "_model_module": "@jupyter-widgets/controls"
          }
        },
        "d1ed238f6cae4a5d87de33d409420f8d": {
          "model_module": "@jupyter-widgets/base",
          "model_name": "LayoutModel",
          "state": {
            "_view_name": "LayoutView",
            "grid_template_rows": null,
            "right": null,
            "justify_content": null,
            "_view_module": "@jupyter-widgets/base",
            "overflow": null,
            "_model_module_version": "1.2.0",
            "_view_count": null,
            "flex_flow": null,
            "width": null,
            "min_width": null,
            "border": null,
            "align_items": null,
            "bottom": null,
            "_model_module": "@jupyter-widgets/base",
            "top": null,
            "grid_column": null,
            "overflow_y": null,
            "overflow_x": null,
            "grid_auto_flow": null,
            "grid_area": null,
            "grid_template_columns": null,
            "flex": null,
            "_model_name": "LayoutModel",
            "justify_items": null,
            "grid_row": null,
            "max_height": null,
            "align_content": null,
            "visibility": null,
            "align_self": null,
            "height": null,
            "min_height": null,
            "padding": null,
            "grid_auto_rows": null,
            "grid_gap": null,
            "max_width": null,
            "order": null,
            "_view_module_version": "1.2.0",
            "grid_template_areas": null,
            "object_position": null,
            "object_fit": null,
            "grid_auto_columns": null,
            "margin": null,
            "display": null,
            "left": null
          }
        },
        "686a56c49ed84a8b9773191fc27513fc": {
          "model_module": "@jupyter-widgets/controls",
          "model_name": "HBoxModel",
          "state": {
            "_view_name": "HBoxView",
            "_dom_classes": [],
            "_model_name": "HBoxModel",
            "_view_module": "@jupyter-widgets/controls",
            "_model_module_version": "1.5.0",
            "_view_count": null,
            "_view_module_version": "1.5.0",
            "box_style": "",
            "layout": "IPY_MODEL_f2ba8b7487864485be1a17ca9f5d4752",
            "_model_module": "@jupyter-widgets/controls",
            "children": [
              "IPY_MODEL_90a034e2084943919b3a29995b451c2b",
              "IPY_MODEL_bbe203ee6f9e4b57a714beb9ec6ef387"
            ]
          }
        },
        "f2ba8b7487864485be1a17ca9f5d4752": {
          "model_module": "@jupyter-widgets/base",
          "model_name": "LayoutModel",
          "state": {
            "_view_name": "LayoutView",
            "grid_template_rows": null,
            "right": null,
            "justify_content": null,
            "_view_module": "@jupyter-widgets/base",
            "overflow": null,
            "_model_module_version": "1.2.0",
            "_view_count": null,
            "flex_flow": null,
            "width": null,
            "min_width": null,
            "border": null,
            "align_items": null,
            "bottom": null,
            "_model_module": "@jupyter-widgets/base",
            "top": null,
            "grid_column": null,
            "overflow_y": null,
            "overflow_x": null,
            "grid_auto_flow": null,
            "grid_area": null,
            "grid_template_columns": null,
            "flex": null,
            "_model_name": "LayoutModel",
            "justify_items": null,
            "grid_row": null,
            "max_height": null,
            "align_content": null,
            "visibility": null,
            "align_self": null,
            "height": null,
            "min_height": null,
            "padding": null,
            "grid_auto_rows": null,
            "grid_gap": null,
            "max_width": null,
            "order": null,
            "_view_module_version": "1.2.0",
            "grid_template_areas": null,
            "object_position": null,
            "object_fit": null,
            "grid_auto_columns": null,
            "margin": null,
            "display": null,
            "left": null
          }
        },
        "90a034e2084943919b3a29995b451c2b": {
          "model_module": "@jupyter-widgets/controls",
          "model_name": "FloatProgressModel",
          "state": {
            "_view_name": "ProgressView",
            "style": "IPY_MODEL_0144c6319772411f935d385b076d66a8",
            "_dom_classes": [],
            "description": "",
            "_model_name": "FloatProgressModel",
            "bar_style": "success",
            "max": 28881,
            "_view_module": "@jupyter-widgets/controls",
            "_model_module_version": "1.5.0",
            "value": 28881,
            "_view_count": null,
            "_view_module_version": "1.5.0",
            "orientation": "horizontal",
            "min": 0,
            "description_tooltip": null,
            "_model_module": "@jupyter-widgets/controls",
            "layout": "IPY_MODEL_5c340db6de1f4c09a24002dfd2434d67"
          }
        },
        "bbe203ee6f9e4b57a714beb9ec6ef387": {
          "model_module": "@jupyter-widgets/controls",
          "model_name": "HTMLModel",
          "state": {
            "_view_name": "HTMLView",
            "style": "IPY_MODEL_cea6c7c44b5546fb8340beff5ddd3963",
            "_dom_classes": [],
            "description": "",
            "_model_name": "HTMLModel",
            "placeholder": "​",
            "_view_module": "@jupyter-widgets/controls",
            "_model_module_version": "1.5.0",
            "value": " 29696/? [00:24&lt;00:00, 1222.42it/s]",
            "_view_count": null,
            "_view_module_version": "1.5.0",
            "description_tooltip": null,
            "_model_module": "@jupyter-widgets/controls",
            "layout": "IPY_MODEL_745efed3ba8249beba502ea72806bdbd"
          }
        },
        "0144c6319772411f935d385b076d66a8": {
          "model_module": "@jupyter-widgets/controls",
          "model_name": "ProgressStyleModel",
          "state": {
            "_view_name": "StyleView",
            "_model_name": "ProgressStyleModel",
            "description_width": "initial",
            "_view_module": "@jupyter-widgets/base",
            "_model_module_version": "1.5.0",
            "_view_count": null,
            "_view_module_version": "1.2.0",
            "bar_color": null,
            "_model_module": "@jupyter-widgets/controls"
          }
        },
        "5c340db6de1f4c09a24002dfd2434d67": {
          "model_module": "@jupyter-widgets/base",
          "model_name": "LayoutModel",
          "state": {
            "_view_name": "LayoutView",
            "grid_template_rows": null,
            "right": null,
            "justify_content": null,
            "_view_module": "@jupyter-widgets/base",
            "overflow": null,
            "_model_module_version": "1.2.0",
            "_view_count": null,
            "flex_flow": null,
            "width": null,
            "min_width": null,
            "border": null,
            "align_items": null,
            "bottom": null,
            "_model_module": "@jupyter-widgets/base",
            "top": null,
            "grid_column": null,
            "overflow_y": null,
            "overflow_x": null,
            "grid_auto_flow": null,
            "grid_area": null,
            "grid_template_columns": null,
            "flex": null,
            "_model_name": "LayoutModel",
            "justify_items": null,
            "grid_row": null,
            "max_height": null,
            "align_content": null,
            "visibility": null,
            "align_self": null,
            "height": null,
            "min_height": null,
            "padding": null,
            "grid_auto_rows": null,
            "grid_gap": null,
            "max_width": null,
            "order": null,
            "_view_module_version": "1.2.0",
            "grid_template_areas": null,
            "object_position": null,
            "object_fit": null,
            "grid_auto_columns": null,
            "margin": null,
            "display": null,
            "left": null
          }
        },
        "cea6c7c44b5546fb8340beff5ddd3963": {
          "model_module": "@jupyter-widgets/controls",
          "model_name": "DescriptionStyleModel",
          "state": {
            "_view_name": "StyleView",
            "_model_name": "DescriptionStyleModel",
            "description_width": "",
            "_view_module": "@jupyter-widgets/base",
            "_model_module_version": "1.5.0",
            "_view_count": null,
            "_view_module_version": "1.2.0",
            "_model_module": "@jupyter-widgets/controls"
          }
        },
        "745efed3ba8249beba502ea72806bdbd": {
          "model_module": "@jupyter-widgets/base",
          "model_name": "LayoutModel",
          "state": {
            "_view_name": "LayoutView",
            "grid_template_rows": null,
            "right": null,
            "justify_content": null,
            "_view_module": "@jupyter-widgets/base",
            "overflow": null,
            "_model_module_version": "1.2.0",
            "_view_count": null,
            "flex_flow": null,
            "width": null,
            "min_width": null,
            "border": null,
            "align_items": null,
            "bottom": null,
            "_model_module": "@jupyter-widgets/base",
            "top": null,
            "grid_column": null,
            "overflow_y": null,
            "overflow_x": null,
            "grid_auto_flow": null,
            "grid_area": null,
            "grid_template_columns": null,
            "flex": null,
            "_model_name": "LayoutModel",
            "justify_items": null,
            "grid_row": null,
            "max_height": null,
            "align_content": null,
            "visibility": null,
            "align_self": null,
            "height": null,
            "min_height": null,
            "padding": null,
            "grid_auto_rows": null,
            "grid_gap": null,
            "max_width": null,
            "order": null,
            "_view_module_version": "1.2.0",
            "grid_template_areas": null,
            "object_position": null,
            "object_fit": null,
            "grid_auto_columns": null,
            "margin": null,
            "display": null,
            "left": null
          }
        },
        "b1973eed6bea465c9961b4fa4b014615": {
          "model_module": "@jupyter-widgets/controls",
          "model_name": "HBoxModel",
          "state": {
            "_view_name": "HBoxView",
            "_dom_classes": [],
            "_model_name": "HBoxModel",
            "_view_module": "@jupyter-widgets/controls",
            "_model_module_version": "1.5.0",
            "_view_count": null,
            "_view_module_version": "1.5.0",
            "box_style": "",
            "layout": "IPY_MODEL_095ed4df72124f9c9ecb57b5b67ccd2b",
            "_model_module": "@jupyter-widgets/controls",
            "children": [
              "IPY_MODEL_74a3b2e06fe9449f87e5f90c830bbbbf",
              "IPY_MODEL_1b5be8e2377642b4b3fd3617783a7ae1"
            ]
          }
        },
        "095ed4df72124f9c9ecb57b5b67ccd2b": {
          "model_module": "@jupyter-widgets/base",
          "model_name": "LayoutModel",
          "state": {
            "_view_name": "LayoutView",
            "grid_template_rows": null,
            "right": null,
            "justify_content": null,
            "_view_module": "@jupyter-widgets/base",
            "overflow": null,
            "_model_module_version": "1.2.0",
            "_view_count": null,
            "flex_flow": null,
            "width": null,
            "min_width": null,
            "border": null,
            "align_items": null,
            "bottom": null,
            "_model_module": "@jupyter-widgets/base",
            "top": null,
            "grid_column": null,
            "overflow_y": null,
            "overflow_x": null,
            "grid_auto_flow": null,
            "grid_area": null,
            "grid_template_columns": null,
            "flex": null,
            "_model_name": "LayoutModel",
            "justify_items": null,
            "grid_row": null,
            "max_height": null,
            "align_content": null,
            "visibility": null,
            "align_self": null,
            "height": null,
            "min_height": null,
            "padding": null,
            "grid_auto_rows": null,
            "grid_gap": null,
            "max_width": null,
            "order": null,
            "_view_module_version": "1.2.0",
            "grid_template_areas": null,
            "object_position": null,
            "object_fit": null,
            "grid_auto_columns": null,
            "margin": null,
            "display": null,
            "left": null
          }
        },
        "74a3b2e06fe9449f87e5f90c830bbbbf": {
          "model_module": "@jupyter-widgets/controls",
          "model_name": "FloatProgressModel",
          "state": {
            "_view_name": "ProgressView",
            "style": "IPY_MODEL_fea163aee8334f90b44405a54a9d8c85",
            "_dom_classes": [],
            "description": "",
            "_model_name": "FloatProgressModel",
            "bar_style": "success",
            "max": 1648877,
            "_view_module": "@jupyter-widgets/controls",
            "_model_module_version": "1.5.0",
            "value": 1648877,
            "_view_count": null,
            "_view_module_version": "1.5.0",
            "orientation": "horizontal",
            "min": 0,
            "description_tooltip": null,
            "_model_module": "@jupyter-widgets/controls",
            "layout": "IPY_MODEL_0acc7b2fc99a410ba15ebe8896438208"
          }
        },
        "1b5be8e2377642b4b3fd3617783a7ae1": {
          "model_module": "@jupyter-widgets/controls",
          "model_name": "HTMLModel",
          "state": {
            "_view_name": "HTMLView",
            "style": "IPY_MODEL_d9e619a9c1c244f2a09b252a1bc2100b",
            "_dom_classes": [],
            "description": "",
            "_model_name": "HTMLModel",
            "placeholder": "​",
            "_view_module": "@jupyter-widgets/controls",
            "_model_module_version": "1.5.0",
            "value": " 1649664/? [00:14&lt;00:00, 115872.59it/s]",
            "_view_count": null,
            "_view_module_version": "1.5.0",
            "description_tooltip": null,
            "_model_module": "@jupyter-widgets/controls",
            "layout": "IPY_MODEL_6d4af20710f84000931e4176c366a24b"
          }
        },
        "fea163aee8334f90b44405a54a9d8c85": {
          "model_module": "@jupyter-widgets/controls",
          "model_name": "ProgressStyleModel",
          "state": {
            "_view_name": "StyleView",
            "_model_name": "ProgressStyleModel",
            "description_width": "initial",
            "_view_module": "@jupyter-widgets/base",
            "_model_module_version": "1.5.0",
            "_view_count": null,
            "_view_module_version": "1.2.0",
            "bar_color": null,
            "_model_module": "@jupyter-widgets/controls"
          }
        },
        "0acc7b2fc99a410ba15ebe8896438208": {
          "model_module": "@jupyter-widgets/base",
          "model_name": "LayoutModel",
          "state": {
            "_view_name": "LayoutView",
            "grid_template_rows": null,
            "right": null,
            "justify_content": null,
            "_view_module": "@jupyter-widgets/base",
            "overflow": null,
            "_model_module_version": "1.2.0",
            "_view_count": null,
            "flex_flow": null,
            "width": null,
            "min_width": null,
            "border": null,
            "align_items": null,
            "bottom": null,
            "_model_module": "@jupyter-widgets/base",
            "top": null,
            "grid_column": null,
            "overflow_y": null,
            "overflow_x": null,
            "grid_auto_flow": null,
            "grid_area": null,
            "grid_template_columns": null,
            "flex": null,
            "_model_name": "LayoutModel",
            "justify_items": null,
            "grid_row": null,
            "max_height": null,
            "align_content": null,
            "visibility": null,
            "align_self": null,
            "height": null,
            "min_height": null,
            "padding": null,
            "grid_auto_rows": null,
            "grid_gap": null,
            "max_width": null,
            "order": null,
            "_view_module_version": "1.2.0",
            "grid_template_areas": null,
            "object_position": null,
            "object_fit": null,
            "grid_auto_columns": null,
            "margin": null,
            "display": null,
            "left": null
          }
        },
        "d9e619a9c1c244f2a09b252a1bc2100b": {
          "model_module": "@jupyter-widgets/controls",
          "model_name": "DescriptionStyleModel",
          "state": {
            "_view_name": "StyleView",
            "_model_name": "DescriptionStyleModel",
            "description_width": "",
            "_view_module": "@jupyter-widgets/base",
            "_model_module_version": "1.5.0",
            "_view_count": null,
            "_view_module_version": "1.2.0",
            "_model_module": "@jupyter-widgets/controls"
          }
        },
        "6d4af20710f84000931e4176c366a24b": {
          "model_module": "@jupyter-widgets/base",
          "model_name": "LayoutModel",
          "state": {
            "_view_name": "LayoutView",
            "grid_template_rows": null,
            "right": null,
            "justify_content": null,
            "_view_module": "@jupyter-widgets/base",
            "overflow": null,
            "_model_module_version": "1.2.0",
            "_view_count": null,
            "flex_flow": null,
            "width": null,
            "min_width": null,
            "border": null,
            "align_items": null,
            "bottom": null,
            "_model_module": "@jupyter-widgets/base",
            "top": null,
            "grid_column": null,
            "overflow_y": null,
            "overflow_x": null,
            "grid_auto_flow": null,
            "grid_area": null,
            "grid_template_columns": null,
            "flex": null,
            "_model_name": "LayoutModel",
            "justify_items": null,
            "grid_row": null,
            "max_height": null,
            "align_content": null,
            "visibility": null,
            "align_self": null,
            "height": null,
            "min_height": null,
            "padding": null,
            "grid_auto_rows": null,
            "grid_gap": null,
            "max_width": null,
            "order": null,
            "_view_module_version": "1.2.0",
            "grid_template_areas": null,
            "object_position": null,
            "object_fit": null,
            "grid_auto_columns": null,
            "margin": null,
            "display": null,
            "left": null
          }
        },
        "0dc2c782c5ea4d81b168ae701faf9e11": {
          "model_module": "@jupyter-widgets/controls",
          "model_name": "HBoxModel",
          "state": {
            "_view_name": "HBoxView",
            "_dom_classes": [],
            "_model_name": "HBoxModel",
            "_view_module": "@jupyter-widgets/controls",
            "_model_module_version": "1.5.0",
            "_view_count": null,
            "_view_module_version": "1.5.0",
            "box_style": "",
            "layout": "IPY_MODEL_a8e535c794b6496e9f510daf4c51b346",
            "_model_module": "@jupyter-widgets/controls",
            "children": [
              "IPY_MODEL_663aa0ac4bf2495c8e63fcba4626e956",
              "IPY_MODEL_45f3b4a73295475381de7c36df96e306"
            ]
          }
        },
        "a8e535c794b6496e9f510daf4c51b346": {
          "model_module": "@jupyter-widgets/base",
          "model_name": "LayoutModel",
          "state": {
            "_view_name": "LayoutView",
            "grid_template_rows": null,
            "right": null,
            "justify_content": null,
            "_view_module": "@jupyter-widgets/base",
            "overflow": null,
            "_model_module_version": "1.2.0",
            "_view_count": null,
            "flex_flow": null,
            "width": null,
            "min_width": null,
            "border": null,
            "align_items": null,
            "bottom": null,
            "_model_module": "@jupyter-widgets/base",
            "top": null,
            "grid_column": null,
            "overflow_y": null,
            "overflow_x": null,
            "grid_auto_flow": null,
            "grid_area": null,
            "grid_template_columns": null,
            "flex": null,
            "_model_name": "LayoutModel",
            "justify_items": null,
            "grid_row": null,
            "max_height": null,
            "align_content": null,
            "visibility": null,
            "align_self": null,
            "height": null,
            "min_height": null,
            "padding": null,
            "grid_auto_rows": null,
            "grid_gap": null,
            "max_width": null,
            "order": null,
            "_view_module_version": "1.2.0",
            "grid_template_areas": null,
            "object_position": null,
            "object_fit": null,
            "grid_auto_columns": null,
            "margin": null,
            "display": null,
            "left": null
          }
        },
        "663aa0ac4bf2495c8e63fcba4626e956": {
          "model_module": "@jupyter-widgets/controls",
          "model_name": "FloatProgressModel",
          "state": {
            "_view_name": "ProgressView",
            "style": "IPY_MODEL_8a540cbbfabe4385aae375bd9bea7184",
            "_dom_classes": [],
            "description": "",
            "_model_name": "FloatProgressModel",
            "bar_style": "success",
            "max": 4542,
            "_view_module": "@jupyter-widgets/controls",
            "_model_module_version": "1.5.0",
            "value": 4542,
            "_view_count": null,
            "_view_module_version": "1.5.0",
            "orientation": "horizontal",
            "min": 0,
            "description_tooltip": null,
            "_model_module": "@jupyter-widgets/controls",
            "layout": "IPY_MODEL_273136a30a894c6db7dcb737ef5156a6"
          }
        },
        "45f3b4a73295475381de7c36df96e306": {
          "model_module": "@jupyter-widgets/controls",
          "model_name": "HTMLModel",
          "state": {
            "_view_name": "HTMLView",
            "style": "IPY_MODEL_25112d595c8f489cbb342203c7e5b4e6",
            "_dom_classes": [],
            "description": "",
            "_model_name": "HTMLModel",
            "placeholder": "​",
            "_view_module": "@jupyter-widgets/controls",
            "_model_module_version": "1.5.0",
            "value": " 5120/? [00:11&lt;00:00, 464.85it/s]",
            "_view_count": null,
            "_view_module_version": "1.5.0",
            "description_tooltip": null,
            "_model_module": "@jupyter-widgets/controls",
            "layout": "IPY_MODEL_2ecd50f65f914940911a64daa292d127"
          }
        },
        "8a540cbbfabe4385aae375bd9bea7184": {
          "model_module": "@jupyter-widgets/controls",
          "model_name": "ProgressStyleModel",
          "state": {
            "_view_name": "StyleView",
            "_model_name": "ProgressStyleModel",
            "description_width": "initial",
            "_view_module": "@jupyter-widgets/base",
            "_model_module_version": "1.5.0",
            "_view_count": null,
            "_view_module_version": "1.2.0",
            "bar_color": null,
            "_model_module": "@jupyter-widgets/controls"
          }
        },
        "273136a30a894c6db7dcb737ef5156a6": {
          "model_module": "@jupyter-widgets/base",
          "model_name": "LayoutModel",
          "state": {
            "_view_name": "LayoutView",
            "grid_template_rows": null,
            "right": null,
            "justify_content": null,
            "_view_module": "@jupyter-widgets/base",
            "overflow": null,
            "_model_module_version": "1.2.0",
            "_view_count": null,
            "flex_flow": null,
            "width": null,
            "min_width": null,
            "border": null,
            "align_items": null,
            "bottom": null,
            "_model_module": "@jupyter-widgets/base",
            "top": null,
            "grid_column": null,
            "overflow_y": null,
            "overflow_x": null,
            "grid_auto_flow": null,
            "grid_area": null,
            "grid_template_columns": null,
            "flex": null,
            "_model_name": "LayoutModel",
            "justify_items": null,
            "grid_row": null,
            "max_height": null,
            "align_content": null,
            "visibility": null,
            "align_self": null,
            "height": null,
            "min_height": null,
            "padding": null,
            "grid_auto_rows": null,
            "grid_gap": null,
            "max_width": null,
            "order": null,
            "_view_module_version": "1.2.0",
            "grid_template_areas": null,
            "object_position": null,
            "object_fit": null,
            "grid_auto_columns": null,
            "margin": null,
            "display": null,
            "left": null
          }
        },
        "25112d595c8f489cbb342203c7e5b4e6": {
          "model_module": "@jupyter-widgets/controls",
          "model_name": "DescriptionStyleModel",
          "state": {
            "_view_name": "StyleView",
            "_model_name": "DescriptionStyleModel",
            "description_width": "",
            "_view_module": "@jupyter-widgets/base",
            "_model_module_version": "1.5.0",
            "_view_count": null,
            "_view_module_version": "1.2.0",
            "_model_module": "@jupyter-widgets/controls"
          }
        },
        "2ecd50f65f914940911a64daa292d127": {
          "model_module": "@jupyter-widgets/base",
          "model_name": "LayoutModel",
          "state": {
            "_view_name": "LayoutView",
            "grid_template_rows": null,
            "right": null,
            "justify_content": null,
            "_view_module": "@jupyter-widgets/base",
            "overflow": null,
            "_model_module_version": "1.2.0",
            "_view_count": null,
            "flex_flow": null,
            "width": null,
            "min_width": null,
            "border": null,
            "align_items": null,
            "bottom": null,
            "_model_module": "@jupyter-widgets/base",
            "top": null,
            "grid_column": null,
            "overflow_y": null,
            "overflow_x": null,
            "grid_auto_flow": null,
            "grid_area": null,
            "grid_template_columns": null,
            "flex": null,
            "_model_name": "LayoutModel",
            "justify_items": null,
            "grid_row": null,
            "max_height": null,
            "align_content": null,
            "visibility": null,
            "align_self": null,
            "height": null,
            "min_height": null,
            "padding": null,
            "grid_auto_rows": null,
            "grid_gap": null,
            "max_width": null,
            "order": null,
            "_view_module_version": "1.2.0",
            "grid_template_areas": null,
            "object_position": null,
            "object_fit": null,
            "grid_auto_columns": null,
            "margin": null,
            "display": null,
            "left": null
          }
        }
      }
    }
  },
  "cells": [
    {
      "cell_type": "markdown",
      "metadata": {
        "id": "1ET8d4SH-g2D"
      },
      "source": [
        "## Imports"
      ]
    },
    {
      "cell_type": "code",
      "metadata": {
        "id": "u2iSYH27XY_E",
        "colab": {
          "base_uri": "https://localhost:8080/"
        },
        "outputId": "ef7c31df-e2b5-42fa-e744-60296493379d"
      },
      "source": [
        "%load_ext tensorboard\n",
        "import os\n",
        "import numpy as np\n",
        "import matplotlib.pyplot as plt\n",
        "import copy\n",
        "import time\n",
        "import random\n",
        "\n",
        "import torch\n",
        "import torch.nn as nn\n",
        "import torch.nn.functional as F\n",
        "\n",
        "from torch.utils.data import Dataset, DataLoader\n",
        "from torch.utils.tensorboard import SummaryWriter\n",
        "from torchvision import transforms, utils, datasets\n",
        "from torchsummary import summary\n",
        "from datetime import datetime, timedelta\n",
        "\n",
        "# Check assigned GPU\n",
        "gpu_info = !nvidia-smi\n",
        "gpu_info = '\\n'.join(gpu_info)\n",
        "if gpu_info.find('failed') >= 0:\n",
        "  print('Select the Runtime > \"Change runtime type\" menu to enable a GPU accelerator, ')\n",
        "  print('and then re-execute this cell.')\n",
        "else:\n",
        "  print(gpu_info)\n",
        "\n",
        "\n",
        "# set manual seed for reproducibility\n",
        "seed = 42\n",
        "\n",
        "# general reproducibility\n",
        "random.seed(seed)\n",
        "np.random.seed(seed)\n",
        "torch.manual_seed(seed)\n",
        "\n",
        "# gpu training specific\n",
        "torch.backends.cudnn.deterministic = True\n",
        "torch.backends.cudnn.benchmark = False"
      ],
      "execution_count": 1,
      "outputs": [
        {
          "output_type": "stream",
          "text": [
            "Mon Apr  5 13:24:45 2021       \n",
            "+-----------------------------------------------------------------------------+\n",
            "| NVIDIA-SMI 460.67       Driver Version: 460.32.03    CUDA Version: 11.2     |\n",
            "|-------------------------------+----------------------+----------------------+\n",
            "| GPU  Name        Persistence-M| Bus-Id        Disp.A | Volatile Uncorr. ECC |\n",
            "| Fan  Temp  Perf  Pwr:Usage/Cap|         Memory-Usage | GPU-Util  Compute M. |\n",
            "|                               |                      |               MIG M. |\n",
            "|===============================+======================+======================|\n",
            "|   0  Tesla P100-PCIE...  Off  | 00000000:00:04.0 Off |                    0 |\n",
            "| N/A   33C    P0    27W / 250W |      0MiB / 16280MiB |      0%      Default |\n",
            "|                               |                      |                  N/A |\n",
            "+-------------------------------+----------------------+----------------------+\n",
            "                                                                               \n",
            "+-----------------------------------------------------------------------------+\n",
            "| Processes:                                                                  |\n",
            "|  GPU   GI   CI        PID   Type   Process name                  GPU Memory |\n",
            "|        ID   ID                                                   Usage      |\n",
            "|=============================================================================|\n",
            "|  No running processes found                                                 |\n",
            "+-----------------------------------------------------------------------------+\n"
          ],
          "name": "stdout"
        }
      ]
    },
    {
      "cell_type": "markdown",
      "metadata": {
        "id": "X7MesIL6AAuD"
      },
      "source": [
        "## Re-Format Time"
      ]
    },
    {
      "cell_type": "markdown",
      "metadata": {
        "id": "NY4eWzGiL6Mj"
      },
      "source": [
        "## Load the MNIST Dataset"
      ]
    },
    {
      "cell_type": "code",
      "metadata": {
        "id": "G649tjTXLL8F",
        "colab": {
          "base_uri": "https://localhost:8080/",
          "height": 1000,
          "referenced_widgets": [
            "d8d37a2ac4614ca5964a4896ef339f9d",
            "84e95bdfb7cf4270a39c917e18f1d3fe",
            "bcc86798c1214417bd1a68b0c9c65a0c",
            "57ebb8c0386340a2a066b97860b4c6b2",
            "68faf45e0f7a4a89bcf9b4ead9acd9cc",
            "f7445e665a394e73ba1e87be705622ff",
            "bf885e851e8345d4b8a1b4569ea0e567",
            "a1ab61488c1f484bb9604fc3b59d8d1d",
            "cbccda7b151645ae98d2a11ac49f43e6",
            "dc70000b4dc0406d8b87b6239872a862",
            "b0bac79019a442baa2f907f1baf93769",
            "0e16941a5f6b4cec990481e80f08214b",
            "9803edc4ed8046e8907fd72f085d23b0",
            "9227aa348fc34a158cba299c0b29204b",
            "b878c596a23945f5b6b1af9d3325772d",
            "af49c23d007942ac8c546de00f52b9f4",
            "4db28c2de0ed4780ae068010669dfeae",
            "8da0a2ecfe3947379ad69619ec207c1f",
            "0e3f64e58e724d2f9af69f1135f7b31b",
            "da15d9e495154fcba6839345e8040cee",
            "7333a55d106b43d8aa5c9700c1e502ac",
            "d9f5941aee62479badb815605e176253",
            "4e29a8dd18b048a4a85b5088565157c0",
            "309c726dbfec4798bde9f9d0d8662baa",
            "b665a92b351e462aad3350d3cb0246fe",
            "824465e6b81b4bd88d1e1dfdb20e649b",
            "b40b42f4bf3a43a7b74e8f7a9ab4fb32",
            "67349ad9300b4e74b917838962dfc54b",
            "282e2055cae9421b91fb577794f05736",
            "4e9ea40885594bf88fd3031b1f96814e",
            "fab8cf5c4f8f4e7881b81353bdd56a2c",
            "7c22f9b0b91c44798b4305b9f308172b",
            "f1fc57c487534eff9d8d1340ed129617",
            "6d0839dd064f4d248cbd796360b53e80",
            "95249df13e08459ab6602f29c868a7df",
            "efac00e006dc4c68adc9d832a8aa7ca2",
            "ba80f386683a4d25a6aaf8c898e849b2",
            "e3f9d4f6d0c447369ab8a6efe00b4e27",
            "cebc03f2a55d470c94877cfeb23bbaeb",
            "d1ed238f6cae4a5d87de33d409420f8d",
            "686a56c49ed84a8b9773191fc27513fc",
            "f2ba8b7487864485be1a17ca9f5d4752",
            "90a034e2084943919b3a29995b451c2b",
            "bbe203ee6f9e4b57a714beb9ec6ef387",
            "0144c6319772411f935d385b076d66a8",
            "5c340db6de1f4c09a24002dfd2434d67",
            "cea6c7c44b5546fb8340beff5ddd3963",
            "745efed3ba8249beba502ea72806bdbd",
            "b1973eed6bea465c9961b4fa4b014615",
            "095ed4df72124f9c9ecb57b5b67ccd2b",
            "74a3b2e06fe9449f87e5f90c830bbbbf",
            "1b5be8e2377642b4b3fd3617783a7ae1",
            "fea163aee8334f90b44405a54a9d8c85",
            "0acc7b2fc99a410ba15ebe8896438208",
            "d9e619a9c1c244f2a09b252a1bc2100b",
            "6d4af20710f84000931e4176c366a24b",
            "0dc2c782c5ea4d81b168ae701faf9e11",
            "a8e535c794b6496e9f510daf4c51b346",
            "663aa0ac4bf2495c8e63fcba4626e956",
            "45f3b4a73295475381de7c36df96e306",
            "8a540cbbfabe4385aae375bd9bea7184",
            "273136a30a894c6db7dcb737ef5156a6",
            "25112d595c8f489cbb342203c7e5b4e6",
            "2ecd50f65f914940911a64daa292d127"
          ]
        },
        "outputId": "3a46de04-aaa0-4a79-c16f-b8b8ac90cebf"
      },
      "source": [
        "# create transforms\n",
        "# We will just convert to tensor and normalize since no special transforms are mentioned in the paper\n",
        "transforms_mnist = transforms.Compose([\n",
        "                                       transforms.ToTensor(),\n",
        "                                       transforms.Normalize((0.1307,), (0.3081,))\n",
        "                                       ])\n",
        "\n",
        "mnist_data_train = datasets.MNIST('./data/mnist/', train=True, download=True, transform=transforms_mnist)\n",
        "mnist_data_test = datasets.MNIST('../data/mnist/', train=False, download=True, transform=transforms_mnist)"
      ],
      "execution_count": 3,
      "outputs": [
        {
          "output_type": "stream",
          "text": [
            "Downloading http://yann.lecun.com/exdb/mnist/train-images-idx3-ubyte.gz\n",
            "Failed to download (trying next):\n",
            "HTTP Error 503: Service Unavailable\n",
            "\n",
            "Downloading https://ossci-datasets.s3.amazonaws.com/mnist/train-images-idx3-ubyte.gz\n",
            "Downloading https://ossci-datasets.s3.amazonaws.com/mnist/train-images-idx3-ubyte.gz to ./data/mnist/MNIST/raw/train-images-idx3-ubyte.gz\n"
          ],
          "name": "stdout"
        },
        {
          "output_type": "display_data",
          "data": {
            "application/vnd.jupyter.widget-view+json": {
              "model_id": "d8d37a2ac4614ca5964a4896ef339f9d",
              "version_minor": 0,
              "version_major": 2
            },
            "text/plain": [
              "HBox(children=(FloatProgress(value=0.0, max=9912422.0), HTML(value='')))"
            ]
          },
          "metadata": {
            "tags": []
          }
        },
        {
          "output_type": "stream",
          "text": [
            "\n",
            "Extracting ./data/mnist/MNIST/raw/train-images-idx3-ubyte.gz to ./data/mnist/MNIST/raw\n",
            "\n",
            "Downloading http://yann.lecun.com/exdb/mnist/train-labels-idx1-ubyte.gz\n",
            "Failed to download (trying next):\n",
            "HTTP Error 503: Service Unavailable\n",
            "\n",
            "Downloading https://ossci-datasets.s3.amazonaws.com/mnist/train-labels-idx1-ubyte.gz\n",
            "Downloading https://ossci-datasets.s3.amazonaws.com/mnist/train-labels-idx1-ubyte.gz to ./data/mnist/MNIST/raw/train-labels-idx1-ubyte.gz\n"
          ],
          "name": "stdout"
        },
        {
          "output_type": "display_data",
          "data": {
            "application/vnd.jupyter.widget-view+json": {
              "model_id": "cbccda7b151645ae98d2a11ac49f43e6",
              "version_minor": 0,
              "version_major": 2
            },
            "text/plain": [
              "HBox(children=(FloatProgress(value=0.0, max=28881.0), HTML(value='')))"
            ]
          },
          "metadata": {
            "tags": []
          }
        },
        {
          "output_type": "stream",
          "text": [
            "\n",
            "Extracting ./data/mnist/MNIST/raw/train-labels-idx1-ubyte.gz to ./data/mnist/MNIST/raw\n",
            "\n",
            "Downloading http://yann.lecun.com/exdb/mnist/t10k-images-idx3-ubyte.gz\n",
            "Downloading http://yann.lecun.com/exdb/mnist/t10k-images-idx3-ubyte.gz to ./data/mnist/MNIST/raw/t10k-images-idx3-ubyte.gz\n",
            "Failed to download (trying next):\n",
            "HTTP Error 503: Service Unavailable\n",
            "\n",
            "Downloading https://ossci-datasets.s3.amazonaws.com/mnist/t10k-images-idx3-ubyte.gz\n",
            "Downloading https://ossci-datasets.s3.amazonaws.com/mnist/t10k-images-idx3-ubyte.gz to ./data/mnist/MNIST/raw/t10k-images-idx3-ubyte.gz\n"
          ],
          "name": "stdout"
        },
        {
          "output_type": "display_data",
          "data": {
            "application/vnd.jupyter.widget-view+json": {
              "model_id": "4db28c2de0ed4780ae068010669dfeae",
              "version_minor": 0,
              "version_major": 2
            },
            "text/plain": [
              "HBox(children=(FloatProgress(value=0.0, max=1648877.0), HTML(value='')))"
            ]
          },
          "metadata": {
            "tags": []
          }
        },
        {
          "output_type": "stream",
          "text": [
            "\n",
            "Extracting ./data/mnist/MNIST/raw/t10k-images-idx3-ubyte.gz to ./data/mnist/MNIST/raw\n",
            "\n",
            "Downloading http://yann.lecun.com/exdb/mnist/t10k-labels-idx1-ubyte.gz\n",
            "Failed to download (trying next):\n",
            "HTTP Error 503: Service Unavailable\n",
            "\n",
            "Downloading https://ossci-datasets.s3.amazonaws.com/mnist/t10k-labels-idx1-ubyte.gz\n",
            "Downloading https://ossci-datasets.s3.amazonaws.com/mnist/t10k-labels-idx1-ubyte.gz to ./data/mnist/MNIST/raw/t10k-labels-idx1-ubyte.gz\n"
          ],
          "name": "stdout"
        },
        {
          "output_type": "display_data",
          "data": {
            "application/vnd.jupyter.widget-view+json": {
              "model_id": "b665a92b351e462aad3350d3cb0246fe",
              "version_minor": 0,
              "version_major": 2
            },
            "text/plain": [
              "HBox(children=(FloatProgress(value=0.0, max=4542.0), HTML(value='')))"
            ]
          },
          "metadata": {
            "tags": []
          }
        },
        {
          "output_type": "stream",
          "text": [
            "\n",
            "Extracting ./data/mnist/MNIST/raw/t10k-labels-idx1-ubyte.gz to ./data/mnist/MNIST/raw\n",
            "\n",
            "Processing...\n",
            "Done!\n",
            "Downloading http://yann.lecun.com/exdb/mnist/train-images-idx3-ubyte.gz\n"
          ],
          "name": "stdout"
        },
        {
          "output_type": "stream",
          "text": [
            "/usr/local/lib/python3.7/dist-packages/torchvision/datasets/mnist.py:502: UserWarning: The given NumPy array is not writeable, and PyTorch does not support non-writeable tensors. This means you can write to the underlying (supposedly non-writeable) NumPy array using the tensor. You may want to copy the array to protect its data or make it writeable before converting it to a tensor. This type of warning will be suppressed for the rest of this program. (Triggered internally at  /pytorch/torch/csrc/utils/tensor_numpy.cpp:143.)\n",
            "  return torch.from_numpy(parsed.astype(m[2], copy=False)).view(*s)\n"
          ],
          "name": "stderr"
        },
        {
          "output_type": "stream",
          "text": [
            "Failed to download (trying next):\n",
            "HTTP Error 503: Service Unavailable\n",
            "\n",
            "Downloading https://ossci-datasets.s3.amazonaws.com/mnist/train-images-idx3-ubyte.gz\n",
            "Downloading https://ossci-datasets.s3.amazonaws.com/mnist/train-images-idx3-ubyte.gz to ../data/mnist/MNIST/raw/train-images-idx3-ubyte.gz\n"
          ],
          "name": "stdout"
        },
        {
          "output_type": "display_data",
          "data": {
            "application/vnd.jupyter.widget-view+json": {
              "model_id": "f1fc57c487534eff9d8d1340ed129617",
              "version_minor": 0,
              "version_major": 2
            },
            "text/plain": [
              "HBox(children=(FloatProgress(value=0.0, max=9912422.0), HTML(value='')))"
            ]
          },
          "metadata": {
            "tags": []
          }
        },
        {
          "output_type": "stream",
          "text": [
            "\n",
            "Extracting ../data/mnist/MNIST/raw/train-images-idx3-ubyte.gz to ../data/mnist/MNIST/raw\n",
            "\n",
            "Downloading http://yann.lecun.com/exdb/mnist/train-labels-idx1-ubyte.gz\n",
            "Failed to download (trying next):\n",
            "HTTP Error 503: Service Unavailable\n",
            "\n",
            "Downloading https://ossci-datasets.s3.amazonaws.com/mnist/train-labels-idx1-ubyte.gz\n",
            "Downloading https://ossci-datasets.s3.amazonaws.com/mnist/train-labels-idx1-ubyte.gz to ../data/mnist/MNIST/raw/train-labels-idx1-ubyte.gz\n"
          ],
          "name": "stdout"
        },
        {
          "output_type": "display_data",
          "data": {
            "application/vnd.jupyter.widget-view+json": {
              "model_id": "686a56c49ed84a8b9773191fc27513fc",
              "version_minor": 0,
              "version_major": 2
            },
            "text/plain": [
              "HBox(children=(FloatProgress(value=0.0, max=28881.0), HTML(value='')))"
            ]
          },
          "metadata": {
            "tags": []
          }
        },
        {
          "output_type": "stream",
          "text": [
            "\n",
            "Extracting ../data/mnist/MNIST/raw/train-labels-idx1-ubyte.gz to ../data/mnist/MNIST/raw\n",
            "\n",
            "Downloading http://yann.lecun.com/exdb/mnist/t10k-images-idx3-ubyte.gz\n",
            "Failed to download (trying next):\n",
            "HTTP Error 503: Service Unavailable\n",
            "\n",
            "Downloading https://ossci-datasets.s3.amazonaws.com/mnist/t10k-images-idx3-ubyte.gz\n",
            "Downloading https://ossci-datasets.s3.amazonaws.com/mnist/t10k-images-idx3-ubyte.gz to ../data/mnist/MNIST/raw/t10k-images-idx3-ubyte.gz\n"
          ],
          "name": "stdout"
        },
        {
          "output_type": "display_data",
          "data": {
            "application/vnd.jupyter.widget-view+json": {
              "model_id": "b1973eed6bea465c9961b4fa4b014615",
              "version_minor": 0,
              "version_major": 2
            },
            "text/plain": [
              "HBox(children=(FloatProgress(value=0.0, max=1648877.0), HTML(value='')))"
            ]
          },
          "metadata": {
            "tags": []
          }
        },
        {
          "output_type": "stream",
          "text": [
            "\n",
            "Extracting ../data/mnist/MNIST/raw/t10k-images-idx3-ubyte.gz to ../data/mnist/MNIST/raw\n",
            "\n",
            "Downloading http://yann.lecun.com/exdb/mnist/t10k-labels-idx1-ubyte.gz\n",
            "Failed to download (trying next):\n",
            "HTTP Error 503: Service Unavailable\n",
            "\n",
            "Downloading https://ossci-datasets.s3.amazonaws.com/mnist/t10k-labels-idx1-ubyte.gz\n",
            "Downloading https://ossci-datasets.s3.amazonaws.com/mnist/t10k-labels-idx1-ubyte.gz to ../data/mnist/MNIST/raw/t10k-labels-idx1-ubyte.gz\n"
          ],
          "name": "stdout"
        },
        {
          "output_type": "display_data",
          "data": {
            "application/vnd.jupyter.widget-view+json": {
              "model_id": "0dc2c782c5ea4d81b168ae701faf9e11",
              "version_minor": 0,
              "version_major": 2
            },
            "text/plain": [
              "HBox(children=(FloatProgress(value=0.0, max=4542.0), HTML(value='')))"
            ]
          },
          "metadata": {
            "tags": []
          }
        },
        {
          "output_type": "stream",
          "text": [
            "\n",
            "Extracting ../data/mnist/MNIST/raw/t10k-labels-idx1-ubyte.gz to ../data/mnist/MNIST/raw\n",
            "\n",
            "Processing...\n",
            "Done!\n"
          ],
          "name": "stdout"
        }
      ]
    },
    {
      "cell_type": "code",
      "metadata": {
        "id": "dm9usjn2vFkL",
        "colab": {
          "base_uri": "https://localhost:8080/"
        },
        "outputId": "c10b827b-6882-4fc2-c1cd-b54b37aec622"
      },
      "source": [
        "classes = np.array(list(mnist_data_train.class_to_idx.values()))\n",
        "classes_test = np.array(list(mnist_data_test.class_to_idx.values()))\n",
        "num_classes = len(classes_test)\n",
        "print(\"Classes: {} \\tType: {}\".format(classes, type(classes)))\n",
        "print(\"Classes Test: {} \\tType: {}\".format(classes_test, type(classes)))\n"
      ],
      "execution_count": 4,
      "outputs": [
        {
          "output_type": "stream",
          "text": [
            "Classes: [0 1 2 3 4 5 6 7 8 9] \tType: <class 'numpy.ndarray'>\n",
            "Classes Test: [0 1 2 3 4 5 6 7 8 9] \tType: <class 'numpy.ndarray'>\n"
          ],
          "name": "stdout"
        }
      ]
    },
    {
      "cell_type": "code",
      "metadata": {
        "id": "9lvJt3Ofv2SO",
        "colab": {
          "base_uri": "https://localhost:8080/"
        },
        "outputId": "d3f22219-c0ce-4e64-a9cb-856320ff2807"
      },
      "source": [
        "print(\"Image Shape: {}\".format(mnist_data_train.data[0].size()))"
      ],
      "execution_count": 5,
      "outputs": [
        {
          "output_type": "stream",
          "text": [
            "Image Shape: torch.Size([28, 28])\n"
          ],
          "name": "stdout"
        }
      ]
    },
    {
      "cell_type": "markdown",
      "metadata": {
        "id": "jCOONkg-zV7Y"
      },
      "source": [
        "## Visualize Data"
      ]
    },
    {
      "cell_type": "code",
      "metadata": {
        "id": "R9MK03TZw6Qs"
      },
      "source": [
        "def imshow(img):\n",
        "\timg = img/2 + 0.5 #unnormalize the image\n",
        "\tplt.imshow(img, cmap='gray') # convert from tensor to image"
      ],
      "execution_count": 6,
      "outputs": []
    },
    {
      "cell_type": "code",
      "metadata": {
        "id": "gMJ0Kx4Kw-_H"
      },
      "source": [
        "def visualize(dataset):\n",
        "  figure = plt.figure(figsize=(25,4))\n",
        "  for i in range(20):\n",
        "    axis = figure.add_subplot(2, 20/2, i+1, xticks=[], yticks=[])\n",
        "    data = dataset.data[i]\n",
        "    data = data.numpy()\n",
        "\n",
        "    target = dataset.targets[i]\n",
        "    target = target.numpy()\n",
        "    imshow(data)\n",
        "    axis.set_title(target)\n"
      ],
      "execution_count": 7,
      "outputs": []
    },
    {
      "cell_type": "code",
      "metadata": {
        "id": "8bPOwKg10Ro7",
        "colab": {
          "base_uri": "https://localhost:8080/",
          "height": 268
        },
        "outputId": "dcc7ec7b-6a67-48e8-a885-8fbbf511e4fd"
      },
      "source": [
        "visualize(mnist_data_train)"
      ],
      "execution_count": 8,
      "outputs": [
        {
          "output_type": "display_data",
          "data": {
            "image/png": "[encoded data removed]",
            "text/plain": [
              "<Figure size 1800x288 with 20 Axes>"
            ]
          },
          "metadata": {
            "tags": []
          }
        }
      ]
    },
    {
      "cell_type": "code",
      "metadata": {
        "id": "RKoh5Cf70UYu",
        "colab": {
          "base_uri": "https://localhost:8080/",
          "height": 268
        },
        "outputId": "f3beaab1-79fd-4018-a702-6a98c634d3ca"
      },
      "source": [
        "visualize(mnist_data_test)"
      ],
      "execution_count": 9,
      "outputs": [
        {
          "output_type": "display_data",
          "data": {
            "image/png": "[encoded data removed]",
            "text/plain": [
              "<Figure size 1800x288 with 20 Axes>"
            ]
          },
          "metadata": {
            "tags": []
          }
        }
      ]
    },
    {
      "cell_type": "markdown",
      "metadata": {
        "id": "ctjRsETiO1qO"
      },
      "source": [
        "## Partitioning the Data (IID and non-IID)"
      ]
    },
    {
      "cell_type": "code",
      "metadata": {
        "id": "4zMdliGMQoSl"
      },
      "source": [
        "def non_iid_partition(dataset, clients, total_shards, shards_size, num_shards_per_client):\n",
        "  \"\"\"\n",
        "  non I.I.D parititioning of data over clients\n",
        "  Sort the data by the digit label\n",
        "  Divide the data into N shards of size S\n",
        "  Each of the clients will get X shards\n",
        "\n",
        "  params:\n",
        "    - dataset (torch.utils.Dataset): Dataset containing the MNIST Images\n",
        "    - clients (int): Number of Clients to split the data between\n",
        "    - total_shards (int): Number of shards to partition the data in\n",
        "    - shards_size (int): Size of each shard \n",
        "    - num_shards_per_client (int): Number of shards of size shards_size that each client receives\n",
        "\n",
        "  returns:\n",
        "    - Dictionary of image indexes for each client\n",
        "  \"\"\"\n",
        "  \n",
        "  shard_idxs = [i for i in range(total_shards)]\n",
        "  client_dict = {i: np.array([], dtype='int64') for i in range(clients)}\n",
        "  idxs = np.arange(len(dataset))\n",
        "  data_labels = dataset.targets.numpy()\n",
        "\n",
        "  # sort the labels\n",
        "  label_idxs = np.vstack((idxs, data_labels))\n",
        "  label_idxs = label_idxs[:, label_idxs[1,:].argsort()]\n",
        "  idxs = label_idxs[0,:]\n",
        "\n",
        "  # divide the data into total_shards of size shards_size\n",
        "  # assign num_shards_per_client to each client\n",
        "  for i in range(clients):\n",
        "    rand_set = set(np.random.choice(shard_idxs, num_shards_per_client, replace=False))\n",
        "    shard_idxs = list(set(shard_idxs) - rand_set)\n",
        "\n",
        "    for rand in rand_set:\n",
        "      client_dict[i] = np.concatenate((client_dict[i], idxs[rand*shards_size:(rand+1)*shards_size]), axis=0)\n",
        "  \n",
        "  return client_dict"
      ],
      "execution_count": 10,
      "outputs": []
    },
    {
      "cell_type": "markdown",
      "metadata": {
        "id": "PTfxv8kFoGAy"
      },
      "source": [
        "## Models"
      ]
    },
    {
      "cell_type": "code",
      "metadata": {
        "id": "CvoDNFKbZST5"
      },
      "source": [
        "class MNIST_2NN(nn.Module):\n",
        "  \"\"\"\n",
        "  A simple multilayer-perceptron with 2-hidden layers with 200 units each\n",
        "  using ReLu activations\n",
        "\n",
        "  Total Expected Params: 199,210\n",
        "  \"\"\"\n",
        "  def __init__(self):\n",
        "    super(MNIST_2NN, self).__init__()\n",
        "\n",
        "    self.fc1 = nn.Linear(28*28, 200)\n",
        "    self.fc2 = nn.Linear(200, 200)\n",
        "    self.fc3 = nn.Linear(200, 10)\n",
        "\n",
        "  def forward(self, x):\n",
        "    x = torch.flatten(x, 1)\n",
        "    x = F.relu(self.fc1(x))\n",
        "    x = F.relu(self.fc2(x))\n",
        "    out = self.fc3(x)\n",
        "\n",
        "    return x"
      ],
      "execution_count": 11,
      "outputs": []
    },
    {
      "cell_type": "code",
      "metadata": {
        "id": "ut1hZ8x3qYPZ"
      },
      "source": [
        "class MNIST_CNN(nn.Module):\n",
        "  \"\"\"\n",
        "  CNN with two 5x5 convolution lauers(the first with 32 channels, second with 64,\n",
        "  each followed with 2x2 max pooling), a fully connected layer with 512 uunits and \n",
        "  ReLu activation, and the final Softmax output layer\n",
        "\n",
        "  Total Expected Params: 1,663,370\n",
        "  \"\"\"\n",
        "  def __init__(self):\n",
        "    super(MNIST_CNN, self).__init__()\n",
        "\n",
        "    self.conv1 = nn.Conv2d(1, 32, kernel_size=5)\n",
        "    self.conv2 = nn.Conv2d(32, 64, kernel_size=5)\n",
        "    \n",
        "    self.pool = nn.MaxPool2d(2,2)\n",
        "    self.dropout = nn.Dropout(p=0.2)\n",
        "\n",
        "    self.fc1 = nn.Linear(1024, 512)\n",
        "    self.out = nn.Linear(512, 10)\n",
        "\n",
        "  def forward(self, x):\n",
        "    x = self.pool(F.relu(self.conv1(x)))\n",
        "    x = self.pool(F.relu(self.conv2(x)))\n",
        "    x = self.dropout(x)\n",
        "    x = torch.flatten(x, 1)\n",
        "    x = F.relu(self.fc1(x))\n",
        "    x = self.out(x)\n",
        "    out = F.log_softmax(x, dim=1)\n",
        "\n",
        "    return out"
      ],
      "execution_count": 12,
      "outputs": []
    },
    {
      "cell_type": "markdown",
      "metadata": {
        "id": "uVv4HA9HuLtr"
      },
      "source": [
        "### Print Model Summaries"
      ]
    },
    {
      "cell_type": "code",
      "metadata": {
        "id": "I5oTH710sJEt",
        "colab": {
          "base_uri": "https://localhost:8080/"
        },
        "outputId": "355d75f2-b9e1-4e5a-844e-7dff8399eed5"
      },
      "source": [
        "mnist_mlp = MNIST_2NN()\n",
        "mnist_cnn = MNIST_CNN()\n",
        "\n",
        "if torch.cuda.is_available():\n",
        "  mnist_mlp.cuda()\n",
        "  mnist_cnn.cuda()\n",
        "\n",
        "print(\"MNIST MLP SUMMARY\")\n",
        "print(summary(mnist_mlp, (28,28)))\n",
        "\n",
        "print(\"\\nMNIST CNN SUMMARY\")\n",
        "print(summary(mnist_cnn, (1, 28,28)))"
      ],
      "execution_count": 13,
      "outputs": [
        {
          "output_type": "stream",
          "text": [
            "MNIST MLP SUMMARY\n",
            "----------------------------------------------------------------\n",
            "        Layer (type)               Output Shape         Param #\n",
            "================================================================\n",
            "            Linear-1                  [-1, 200]         157,000\n",
            "            Linear-2                  [-1, 200]          40,200\n",
            "            Linear-3                   [-1, 10]           2,010\n",
            "================================================================\n",
            "Total params: 199,210\n",
            "Trainable params: 199,210\n",
            "Non-trainable params: 0\n",
            "----------------------------------------------------------------\n",
            "Input size (MB): 0.00\n",
            "Forward/backward pass size (MB): 0.00\n",
            "Params size (MB): 0.76\n",
            "Estimated Total Size (MB): 0.77\n",
            "----------------------------------------------------------------\n",
            "None\n",
            "\n",
            "MNIST CNN SUMMARY\n",
            "----------------------------------------------------------------\n",
            "        Layer (type)               Output Shape         Param #\n",
            "================================================================\n",
            "            Conv2d-1           [-1, 32, 24, 24]             832\n",
            "         MaxPool2d-2           [-1, 32, 12, 12]               0\n",
            "            Conv2d-3             [-1, 64, 8, 8]          51,264\n",
            "         MaxPool2d-4             [-1, 64, 4, 4]               0\n",
            "           Dropout-5             [-1, 64, 4, 4]               0\n",
            "            Linear-6                  [-1, 512]         524,800\n",
            "            Linear-7                   [-1, 10]           5,130\n",
            "================================================================\n",
            "Total params: 582,026\n",
            "Trainable params: 582,026\n",
            "Non-trainable params: 0\n",
            "----------------------------------------------------------------\n",
            "Input size (MB): 0.00\n",
            "Forward/backward pass size (MB): 0.23\n",
            "Params size (MB): 2.22\n",
            "Estimated Total Size (MB): 2.45\n",
            "----------------------------------------------------------------\n",
            "None\n"
          ],
          "name": "stdout"
        }
      ]
    },
    {
      "cell_type": "markdown",
      "metadata": {
        "id": "tUYyb4T-uXmF"
      },
      "source": [
        "## Testing Loop"
      ]
    },
    {
      "cell_type": "code",
      "metadata": {
        "id": "uCcIZmO5uan9"
      },
      "source": [
        "def testing(model, dataset, bs, criterion, num_classes, classes):\n",
        "  #test loss \n",
        "  test_loss = 0.0\n",
        "  correct_class = list(0. for i in range(num_classes))\n",
        "  total_class = list(0. for i in range(num_classes))\n",
        "\n",
        "  test_loader = DataLoader(dataset, batch_size=bs)\n",
        "  l = len(test_loader)\n",
        "  model.eval()\n",
        "  for data, labels in test_loader:\n",
        "\n",
        "    if torch.cuda.is_available():\n",
        "      data, labels = data.cuda(), labels.cuda()\n",
        "\n",
        "    output = model(data)\n",
        "    loss = criterion(output, labels)\n",
        "    test_loss += loss.item()*data.size(0)\n",
        "\n",
        "    _, pred = torch.max(output, 1)\n",
        "\n",
        "    correct_tensor = pred.eq(labels.data.view_as(pred))\n",
        "    correct = np.squeeze(correct_tensor.numpy()) if not torch.cuda.is_available() else np.squeeze(correct_tensor.cpu().numpy())\n",
        "\n",
        "    #test accuracy for each object class\n",
        "    for i in range(num_classes):\n",
        "      label = labels.data[i]\n",
        "      correct_class[label] += correct[i].item()\n",
        "      total_class[label] += 1\n",
        "    \n",
        "  # avg test loss\n",
        "  test_loss = test_loss/len(test_loader.dataset)\n",
        "  # print(\"Test Loss: {:.6f}\\n\".format(test_loss))\n",
        "\n",
        "  # print test accuracy\n",
        "  # for i in range(10):\n",
        "  #   if total_class[i]>0:\n",
        "  #     print('Test Accuracy of %5s: %2d%% (%2d/%2d)' % \n",
        "  #           (classes[i], 100 * correct_class[i] / total_class[i],\n",
        "  #           np.sum(correct_class[i]), np.sum(total_class[i])))\n",
        "  #   else:\n",
        "  #     print('Test Accuracy of %5s: N/A (no training examples)' % (classes[i]))\n",
        "\n",
        "  test_accuracy = 100. * np.sum(correct_class) / np.sum(total_class)\n",
        "\n",
        "  # print('\\nFinal Test  Accuracy: {:.3f} ({}/{})'.format(\n",
        "  #       100. * np.sum(correct_class) / np.sum(total_class),\n",
        "  #       np.sum(correct_class), np.sum(total_class)))\n",
        "  return test_loss, test_accuracy"
      ],
      "execution_count": 14,
      "outputs": []
    },
    {
      "cell_type": "markdown",
      "metadata": {
        "id": "gf_8XEXa-gZ7"
      },
      "source": [
        "## FedProx"
      ]
    },
    {
      "cell_type": "markdown",
      "metadata": {
        "id": "cjGMTWxAOsf1"
      },
      "source": [
        "### Systems Heterogeneity Simulations\n",
        "\n",
        "Generate epochs for selected clients based on percentage of devices that corresponds to heterogeneity. \n",
        "\n",
        "Assign x number of epochs (chosen unifirmly at random between [1, E]) to 0%, 50% or 90% of the selected devices, respectively. Settings where 0% devices perform fewer than E epochs of work correspond to the environments without system heterogeneity, while 90% of the devices sending their partial solutions corresponds to highly heterogenous system."
      ]
    },
    {
      "cell_type": "code",
      "metadata": {
        "id": "i-WTHuT3OpFD"
      },
      "source": [
        "def GenerateLocalEpochs(percentage, size, max_epochs):\n",
        "  ''' Method generates list of epochs for selected clients\n",
        "  to replicate system heteroggeneity\n",
        "\n",
        "  Params:\n",
        "    percentage: percentage of clients to have fewer than E epochs\n",
        "    size:       total size of the list\n",
        "    max_epochs: maximum value for local epochs\n",
        "  \n",
        "  Returns:\n",
        "    List of size epochs for each Client Update\n",
        "\n",
        "  '''\n",
        "\n",
        "  # if percentage is 0 then each client runs for E epochs\n",
        "  if percentage == 0:\n",
        "      return np.array([max_epochs]*size)\n",
        "  else:\n",
        "    # get the number of clients to have fewer than E epochs\n",
        "    heterogenous_size = int((percentage/100) * size)\n",
        "\n",
        "    # generate random uniform epochs of heterogenous size between 1 and E\n",
        "    epoch_list = np.random.randint(1, max_epochs, heterogenous_size)\n",
        "\n",
        "    # the rest of the clients will have E epochs\n",
        "    remaining_size = size - heterogenous_size\n",
        "    rem_list = [max_epochs]*remaining_size\n",
        "\n",
        "    epoch_list = np.append(epoch_list, rem_list, axis=0)\n",
        "    \n",
        "    # shuffle the list and return\n",
        "    np.random.shuffle(epoch_list)\n",
        "\n",
        "    return epoch_list"
      ],
      "execution_count": 15,
      "outputs": []
    },
    {
      "cell_type": "markdown",
      "metadata": {
        "id": "L-aNdQsQ-Kvp"
      },
      "source": [
        "### Local Training (Client Update)\n",
        "\n",
        "Local training for the model on client side"
      ]
    },
    {
      "cell_type": "code",
      "metadata": {
        "id": "oX6OsQyO-Gz7"
      },
      "source": [
        "class CustomDataset(Dataset):\n",
        "  def __init__(self, dataset, idxs):\n",
        "      self.dataset = dataset\n",
        "      self.idxs = list(idxs)\n",
        "\n",
        "  def __len__(self):\n",
        "      return len(self.idxs)\n",
        "\n",
        "  def __getitem__(self, item):\n",
        "      image, label = self.dataset[self.idxs[item]]\n",
        "      return image, label\n",
        "\n",
        "class ClientUpdate(object):\n",
        "  def __init__(self, dataset, batchSize, learning_rate, epochs, idxs, mu, algorithm):\n",
        "    self.train_loader = DataLoader(CustomDataset(dataset, idxs), batch_size=batchSize, shuffle=True)\n",
        "    self.algorithm = algorithm\n",
        "    self.learning_rate = learning_rate\n",
        "    self.epochs = epochs\n",
        "\n",
        "  def train(self, model):\n",
        "    # print(\"Client training for {} epochs.\".format(self.epochs))\n",
        "    criterion = nn.CrossEntropyLoss()\n",
        "    proximal_criterion = nn.MSELoss(reduction='mean')\n",
        "    optimizer = torch.optim.SGD(model.parameters(), lr=self.learning_rate, momentum=0.5)\n",
        "\n",
        "    # use the weights of global model for proximal term calculation\n",
        "    global_model = copy.deepcopy(model)\n",
        "\n",
        "    # calculate local training time\n",
        "    start_time = time.time()\n",
        "\n",
        "\n",
        "    e_loss = []\n",
        "    for epoch in range(1, self.epochs+1):\n",
        "\n",
        "      train_loss = 0.0\n",
        "\n",
        "      model.train()\n",
        "      for data, labels in self.train_loader:\n",
        "\n",
        "        if torch.cuda.is_available():\n",
        "          data, labels = data.cuda(), labels.cuda()\n",
        "\n",
        "        # clear the gradients\n",
        "        optimizer.zero_grad()\n",
        "        # make a forward pass\n",
        "        output = model(data)\n",
        "\n",
        "        # calculate the loss + the proximal term\n",
        "        _, pred = torch.max(output, 1)\n",
        "\n",
        "        if self.algorithm == 'fedprox':\n",
        "          proximal_term = 0.0\n",
        "\n",
        "          # iterate through the current and global model parameters\n",
        "          for w, w_t in zip(model.parameters(), global_model.parameters()) :\n",
        "            # update the proximal term \n",
        "            #proximal_term += torch.sum(torch.abs((w-w_t)**2))\n",
        "            proximal_term += (w-w_t).norm(2)\n",
        "\n",
        "          loss = criterion(output, labels) + (mu/2)*proximal_term\n",
        "        else:\n",
        "          loss = criterion(output, labels)\n",
        "    \n",
        "        # do a backwards pass\n",
        "        loss.backward()\n",
        "        # perform a single optimization step\n",
        "        optimizer.step()\n",
        "        # update training loss\n",
        "        train_loss += loss.item()*data.size(0)\n",
        "\n",
        "      # average losses\n",
        "      train_loss = train_loss/len(self.train_loader.dataset)\n",
        "      e_loss.append(train_loss)\n",
        "\n",
        "    total_loss = sum(e_loss)/len(e_loss)\n",
        "\n",
        "    return model.state_dict(), total_loss, (time.time() - start_time)"
      ],
      "execution_count": 16,
      "outputs": []
    },
    {
      "cell_type": "markdown",
      "metadata": {
        "id": "Ukgh1DVHE2Ds"
      },
      "source": [
        "### Server Side Training\n",
        "\n",
        "Following Algorithm 1 from the paper"
      ]
    },
    {
      "cell_type": "code",
      "metadata": {
        "id": "1NF1e33BgpeL"
      },
      "source": [
        "def training(model, rounds, batch_size, lr, ds, data_dict, test_data_dict, C, K, E, mu, percentage, plt_title, plt_color, target_test_accuracy, algorithm=\"fedprox\"):\n",
        "  \"\"\"\n",
        "  Function implements the Federated Averaging Algorithm from the FedAvg paper.\n",
        "  Specifically, this function is used for the server side training and weight update\n",
        "\n",
        "  Params:\n",
        "    - model:           PyTorch model to train\n",
        "    - rounds:          Number of communication rounds for the client update\n",
        "    - batch_size:      Batch size for client update training\n",
        "    - lr:              Learning rate used for client update training\n",
        "    - ds:              Dataset used for training\n",
        "    - data_dict:       Type of data partition used for training (IID or non-IID)\n",
        "    - test_data_dict:  Data used for testing the model\n",
        "    - C:               Fraction of clients randomly chosen to perform computation on each round\n",
        "    - K:               Total number of clients\n",
        "    - E:               Number of training passes each client makes over its local dataset per round\n",
        "    - mu:              proximal term constant\n",
        "    - percentage:      percentage of selected client to have fewer than E epochs\n",
        "  Returns:\n",
        "    - model:           Trained model on the server\n",
        "  \"\"\"\n",
        "\n",
        "  # global model weights\n",
        "  global_weights = model.state_dict()\n",
        "\n",
        "  # training loss\n",
        "  train_loss = []\n",
        "\n",
        "  # test accuracy\n",
        "  test_acc = []\n",
        "\n",
        "  # store last loss for convergence\n",
        "  last_loss = 0.0\n",
        "\n",
        "  # total time taken \n",
        "  total_time = 0\n",
        "\n",
        "  print(f\"System heterogeneity set to {percentage}% stragglers.\\n\")\n",
        "  print(f\"Picking {max(int(C*K),1 )} random clients per round.\\n\")\n",
        "\n",
        "  for curr_round in range(1, rounds+1):\n",
        "    w, local_loss, lst_local_train_time = [], [], []\n",
        "\n",
        "    m = max(int(C*K), 1)\n",
        "\n",
        "    heterogenous_epoch_list = GenerateLocalEpochs(percentage, size=m, max_epochs=E)\n",
        "    heterogenous_epoch_list = np.array(heterogenous_epoch_list)\n",
        "\n",
        "    S_t = np.random.choice(range(K), m, replace=False)\n",
        "    S_t = np.array(S_t)\n",
        "    \n",
        "    # For Federated Averaging, drop all the clients that are stragglers\n",
        "    if algorithm == 'fedavg':\n",
        "      stragglers_indices = np.argwhere(heterogenous_epoch_list < E)\n",
        "      heterogenous_epoch_list = np.delete(heterogenous_epoch_list, stragglers_indices)\n",
        "      S_t = np.delete(S_t, stragglers_indices)\n",
        "\n",
        "    for k, epoch in zip(S_t, heterogenous_epoch_list):\n",
        "      local_update = ClientUpdate(dataset=ds, batchSize=batch_size, learning_rate=lr, epochs=epoch, idxs=data_dict[k], mu=mu, algorithm=algorithm)\n",
        "      weights, loss, local_train_time = local_update.train(model=copy.deepcopy(model))\n",
        "\n",
        "      w.append(copy.deepcopy(weights))\n",
        "      local_loss.append(copy.deepcopy(loss))\n",
        "      lst_local_train_time.append(local_train_time)\n",
        "\n",
        "    # calculate time to update the global weights\n",
        "    global_start_time = time.time()\n",
        "\n",
        "    # updating the global weights\n",
        "    weights_avg = copy.deepcopy(w[0])\n",
        "    for k in weights_avg.keys():\n",
        "      for i in range(1, len(w)):\n",
        "        weights_avg[k] += w[i][k]\n",
        "\n",
        "      weights_avg[k] = torch.div(weights_avg[k], len(w))\n",
        "\n",
        "    global_weights = weights_avg\n",
        "\n",
        "    global_end_time = time.time()\n",
        "\n",
        "    # calculate total time \n",
        "    total_time += (global_end_time - global_start_time) + sum(lst_local_train_time)/len(lst_local_train_time)\n",
        "\n",
        "    # move the updated weights to our model state dict\n",
        "    model.load_state_dict(global_weights)\n",
        "\n",
        "    # loss\n",
        "    loss_avg = sum(local_loss) / len(local_loss)\n",
        "\n",
        "    # test accuracy\n",
        "    criterion = nn.CrossEntropyLoss()\n",
        "    test_loss, test_accuracy = testing(model, test_data_dict, 128, criterion, num_classes, classes_test)\n",
        "    \n",
        "\n",
        "\n",
        "    print(f\"Round: {curr_round}... \\tAverage Train Loss: {round(loss_avg, 3)}... \\tTest Loss: {test_loss}... \\tTest Accuracy: {test_accuracy}\")\n",
        "    train_loss.append(loss_avg)\n",
        "\n",
        "    test_acc.append(test_accuracy)\n",
        "    # break if we achieve the target test accuracy\n",
        "    if test_accuracy >= target_test_accuracy:\n",
        "      rounds = curr_round\n",
        "      break\n",
        "\n",
        "    # break if we achieve convergence, i.e., loss between two consecutive rounds is <0.0001\n",
        "    if algorithm == 'fedprox' and abs(loss_avg - last_loss) < 0.0001:\n",
        "      rounds = curr_round\n",
        "      break\n",
        "    \n",
        "    # update the last loss\n",
        "    last_loss = loss_avg\n",
        "\n",
        "  # plot train loss\n",
        "  fig, ax = plt.subplots()\n",
        "  x_axis = np.arange(1, rounds+1)\n",
        "  y_axis = np.array(train_loss)\n",
        "  ax.plot(x_axis, y_axis)\n",
        "\n",
        "  ax.set(xlabel='Number of Rounds', ylabel='Train Loss',\n",
        "       title=plt_title)\n",
        "  ax.grid()\n",
        "  fig.savefig(plt_title+'.jpg', format='jpg')\n",
        "\n",
        "  # plot test accuracy\n",
        "  fig1, ax1 = plt.subplots()\n",
        "  x_axis1 = np.arange(1, rounds+1)\n",
        "  y_axis1 = np.array(test_acc)\n",
        "  ax1.plot(x_axis1, y_axis1)\n",
        "\n",
        "  ax1.set(xlabel='Number of Rounds', ylabel='Test Accuracy', title=plt_title)\n",
        "  ax1.grid()\n",
        "  fig1.savefig(plt_title+'-test.jpg', format='jpg')\n",
        "  \n",
        "  print(\"Training Done!\")\n",
        "  # print(\"Total time taken to Train: {}\".format(get_time_format(total_time)))\n",
        "\n",
        "  return model "
      ],
      "execution_count": 17,
      "outputs": []
    },
    {
      "cell_type": "markdown",
      "metadata": {
        "id": "uF8MdSIUYcnl"
      },
      "source": [
        "## MNIST CNN on Non IID"
      ]
    },
    {
      "cell_type": "markdown",
      "metadata": {
        "id": "a6wXX7JW11bx"
      },
      "source": [
        "### Train\n"
      ]
    },
    {
      "cell_type": "markdown",
      "metadata": {
        "id": "BUv5D5aVEumI"
      },
      "source": [
        "### **MNIST CNN  10 clients**\n",
        "\n",
        "\n",
        "\n"
      ]
    },
    {
      "cell_type": "code",
      "metadata": {
        "id": "fCD3kBCKYfBK",
        "colab": {
          "base_uri": "https://localhost:8080/",
          "height": 947
        },
        "outputId": "09babbd2-c24b-4fec-fbf9-3cabc4af9e3a"
      },
      "source": [
        "# number of training rounds\n",
        "rounds = 100\n",
        "# client fraction\n",
        "C = 0.1\n",
        "# number of clients\n",
        "K = 10\n",
        "# number of training passes on local dataset for each roung\n",
        "E = 20\n",
        "# batch size\n",
        "batch_size = 10\n",
        "# learning Rate\n",
        "lr=0.01\n",
        "# proximal term constant\n",
        "mu = 0.01\n",
        "# percentage of clients to have fewer than E epochs\n",
        "percentage = 0\n",
        "\n",
        "# target_test_accuracy\n",
        "target_test_accuracy=99.0\n",
        "# dict containing different type of data partition\n",
        "data_dict = non_iid_partition(mnist_data_train, 100, 200, 300, 2)\n",
        "# load model\n",
        "mnist_cnn = MNIST_CNN()\n",
        "\n",
        "if torch.cuda.is_available():\n",
        "  mnist_cnn.cuda()\n",
        "\n",
        "mnist_cnn_non_iid_trained = training(mnist_cnn, rounds, batch_size, lr, mnist_data_train, data_dict, mnist_data_test, C, K, E, mu, percentage, \"FedProx MNIST CNN on non-IID Dataset (0%)\", \"green\", target_test_accuracy)\n"
      ],
      "execution_count": null,
      "outputs": [
        {
          "output_type": "stream",
          "text": [
            "System heterogeneity set to 0% stragglers.\n",
            "\n",
            "Picking 1 random clients per round.\n",
            "\n",
            "Round: 1... \tAverage Train Loss: 0.066... \tTest Loss: 8.154506861877442... \tTest Accuracy: 20.253164556962027\n",
            "Round: 2... \tAverage Train Loss: 0.004... \tTest Loss: 8.925781465148926... \tTest Accuracy: 20.253164556962027\n",
            "Round: 3... \tAverage Train Loss: 0.049... \tTest Loss: 9.313096945190429... \tTest Accuracy: 18.354430379746834\n",
            "Round: 4... \tAverage Train Loss: 0.052... \tTest Loss: 8.027756640625... \tTest Accuracy: 21.0126582278481\n",
            "Round: 5... \tAverage Train Loss: 0.015... \tTest Loss: 10.625732675170898... \tTest Accuracy: 10.50632911392405\n",
            "Round: 6... \tAverage Train Loss: 0.016... \tTest Loss: 6.6339098182678224... \tTest Accuracy: 21.0126582278481\n",
            "Round: 7... \tAverage Train Loss: 0.033... \tTest Loss: 6.971316448974609... \tTest Accuracy: 21.139240506329113\n",
            "Round: 8... \tAverage Train Loss: 0.027... \tTest Loss: 6.221756805419922... \tTest Accuracy: 25.063291139240505\n",
            "Round: 9... \tAverage Train Loss: 0.007... \tTest Loss: 5.301174887084961... \tTest Accuracy: 27.468354430379748\n",
            "Round: 10... \tAverage Train Loss: 0.001... \tTest Loss: 5.964475402069092... \tTest Accuracy: 25.696202531645568\n",
            "Round: 11... \tAverage Train Loss: 0.018... \tTest Loss: 7.472807551574707... \tTest Accuracy: 24.050632911392405\n",
            "Round: 12... \tAverage Train Loss: 0.013... \tTest Loss: 5.1637965690612795... \tTest Accuracy: 31.265822784810126\n",
            "Round: 13... \tAverage Train Loss: 0.018... \tTest Loss: 6.492983209228516... \tTest Accuracy: 21.772151898734176\n",
            "Round: 14... \tAverage Train Loss: 0.014... \tTest Loss: 5.922566989898682... \tTest Accuracy: 29.240506329113924\n",
            "Round: 15... \tAverage Train Loss: 0.004... \tTest Loss: 4.496226085662842... \tTest Accuracy: 37.848101265822784\n",
            "Round: 16... \tAverage Train Loss: 0.001... \tTest Loss: 4.537246848297119... \tTest Accuracy: 37.34177215189873\n",
            "Round: 17... \tAverage Train Loss: 0.001... \tTest Loss: 4.4403569091796875... \tTest Accuracy: 36.835443037974684\n",
            "Training Done!\n"
          ],
          "name": "stdout"
        },
        {
          "output_type": "display_data",
          "data": {
            "image/png": "[encoded data removed]",
            "text/plain": [
              "<Figure size 432x288 with 1 Axes>"
            ]
          },
          "metadata": {
            "tags": [],
            "needs_background": "light"
          }
        },
        {
          "output_type": "display_data",
          "data": {
            "image/png": "[encoded data removed]",
            "text/plain": [
              "<Figure size 432x288 with 1 Axes>"
            ]
          },
          "metadata": {
            "tags": [],
            "needs_background": "light"
          }
        }
      ]
    },
    {
      "cell_type": "markdown",
      "metadata": {
        "id": "rrkmOAiHFIbZ"
      },
      "source": [
        "### **MNIST CNN  50 clients**\n",
        "\n",
        "\n"
      ]
    },
    {
      "cell_type": "code",
      "metadata": {
        "colab": {
          "base_uri": "https://localhost:8080/",
          "height": 1000
        },
        "id": "ybAXPUtcMm3M",
        "outputId": "031668a3-01d5-4fc0-9d3d-6f336b8bb147"
      },
      "source": [
        "# number of training rounds\n",
        "rounds = 100\n",
        "# client fraction\n",
        "C = 0.1\n",
        "# number of clients\n",
        "K = 50\n",
        "# number of training passes on local dataset for each roung\n",
        "E = 20\n",
        "# batch size\n",
        "batch_size = 10\n",
        "# learning Rate\n",
        "lr=0.01\n",
        "# proximal term constant\n",
        "mu = 0.01\n",
        "# percentage of clients to have fewer than E epochs\n",
        "percentage = 0\n",
        "\n",
        "# target_test_accuracy\n",
        "target_test_accuracy=99.0\n",
        "# dict containing different type of data partition\n",
        "data_dict = non_iid_partition(mnist_data_train, 100, 200, 300, 2)\n",
        "# load model\n",
        "mnist_cnn = MNIST_CNN()\n",
        "\n",
        "if torch.cuda.is_available():\n",
        "  mnist_cnn.cuda()\n",
        "\n",
        "mnist_cnn_non_iid_trained = training(mnist_cnn, rounds, batch_size, lr, mnist_data_train, data_dict, mnist_data_test, C, K, E, mu, percentage, \"FedProx MNIST CNN on non-IID Dataset (0%)\", \"green\", target_test_accuracy)\n"
      ],
      "execution_count": 22,
      "outputs": [
        {
          "output_type": "stream",
          "text": [
            "System heterogeneity set to 0% stragglers.\n",
            "\n",
            "Picking 5 random clients per round.\n",
            "\n",
            "Round: 1... \tAverage Train Loss: 0.046... \tTest Loss: 2.269917056655884... \tTest Accuracy: 29.746835443037973\n",
            "Round: 2... \tAverage Train Loss: 0.017... \tTest Loss: 3.340789712524414... \tTest Accuracy: 23.544303797468356\n",
            "Round: 3... \tAverage Train Loss: 0.026... \tTest Loss: 1.955803483581543... \tTest Accuracy: 38.10126582278481\n",
            "Round: 4... \tAverage Train Loss: 0.031... \tTest Loss: 1.5638021461486817... \tTest Accuracy: 55.18987341772152\n",
            "Round: 5... \tAverage Train Loss: 0.027... \tTest Loss: 1.3105642665863038... \tTest Accuracy: 65.56962025316456\n",
            "Round: 6... \tAverage Train Loss: 0.013... \tTest Loss: 0.6957640402793884... \tTest Accuracy: 79.24050632911393\n",
            "Round: 7... \tAverage Train Loss: 0.015... \tTest Loss: 0.6630096573829651... \tTest Accuracy: 75.82278481012658\n",
            "Round: 8... \tAverage Train Loss: 0.009... \tTest Loss: 0.37918852035999295... \tTest Accuracy: 88.48101265822785\n",
            "Round: 9... \tAverage Train Loss: 0.006... \tTest Loss: 0.4682823316216469... \tTest Accuracy: 84.30379746835443\n",
            "Round: 10... \tAverage Train Loss: 0.025... \tTest Loss: 0.48676445271968843... \tTest Accuracy: 83.16455696202532\n",
            "Round: 11... \tAverage Train Loss: 0.005... \tTest Loss: 0.44957142028808594... \tTest Accuracy: 86.45569620253164\n",
            "Round: 12... \tAverage Train Loss: 0.013... \tTest Loss: 0.46549711512327197... \tTest Accuracy: 85.69620253164557\n",
            "Round: 13... \tAverage Train Loss: 0.011... \tTest Loss: 0.3092314803302288... \tTest Accuracy: 90.25316455696202\n",
            "Round: 14... \tAverage Train Loss: 0.009... \tTest Loss: 0.5597498075723648... \tTest Accuracy: 82.53164556962025\n",
            "Round: 15... \tAverage Train Loss: 0.01... \tTest Loss: 0.3365752748340368... \tTest Accuracy: 87.9746835443038\n",
            "Round: 16... \tAverage Train Loss: 0.01... \tTest Loss: 0.2667935385078192... \tTest Accuracy: 91.13924050632912\n",
            "Round: 17... \tAverage Train Loss: 0.007... \tTest Loss: 0.253951826441288... \tTest Accuracy: 91.77215189873418\n",
            "Round: 18... \tAverage Train Loss: 0.007... \tTest Loss: 0.27287679970264433... \tTest Accuracy: 90.12658227848101\n",
            "Round: 19... \tAverage Train Loss: 0.006... \tTest Loss: 0.3489519569039345... \tTest Accuracy: 87.72151898734177\n",
            "Round: 20... \tAverage Train Loss: 0.01... \tTest Loss: 0.32475859253406525... \tTest Accuracy: 90.63291139240506\n",
            "Round: 21... \tAverage Train Loss: 0.007... \tTest Loss: 0.2791945204496384... \tTest Accuracy: 91.51898734177215\n",
            "Round: 22... \tAverage Train Loss: 0.008... \tTest Loss: 0.35448017912507057... \tTest Accuracy: 88.48101265822785\n",
            "Round: 23... \tAverage Train Loss: 0.011... \tTest Loss: 0.3406391413629055... \tTest Accuracy: 89.74683544303798\n",
            "Round: 24... \tAverage Train Loss: 0.011... \tTest Loss: 0.216739749866724... \tTest Accuracy: 92.53164556962025\n",
            "Round: 25... \tAverage Train Loss: 0.008... \tTest Loss: 0.2017896239593625... \tTest Accuracy: 93.92405063291139\n",
            "Round: 26... \tAverage Train Loss: 0.01... \tTest Loss: 0.25635222327150403... \tTest Accuracy: 92.0253164556962\n",
            "Round: 27... \tAverage Train Loss: 0.007... \tTest Loss: 0.39472105899453164... \tTest Accuracy: 88.10126582278481\n",
            "Round: 28... \tAverage Train Loss: 0.009... \tTest Loss: 0.13996334611065686... \tTest Accuracy: 96.58227848101266\n",
            "Round: 29... \tAverage Train Loss: 0.009... \tTest Loss: 0.3107314967155457... \tTest Accuracy: 91.13924050632912\n",
            "Round: 30... \tAverage Train Loss: 0.007... \tTest Loss: 0.18299317975491286... \tTest Accuracy: 94.55696202531645\n",
            "Round: 31... \tAverage Train Loss: 0.009... \tTest Loss: 0.12951479857861994... \tTest Accuracy: 96.07594936708861\n",
            "Round: 32... \tAverage Train Loss: 0.007... \tTest Loss: 0.1543879797592759... \tTest Accuracy: 94.68354430379746\n",
            "Round: 33... \tAverage Train Loss: 0.005... \tTest Loss: 0.24981595347523688... \tTest Accuracy: 91.0126582278481\n",
            "Round: 34... \tAverage Train Loss: 0.007... \tTest Loss: 0.2140254741270095... \tTest Accuracy: 91.89873417721519\n",
            "Round: 35... \tAverage Train Loss: 0.006... \tTest Loss: 0.23338101274110376... \tTest Accuracy: 92.78481012658227\n",
            "Round: 36... \tAverage Train Loss: 0.006... \tTest Loss: 0.1295335693873465... \tTest Accuracy: 96.07594936708861\n",
            "Round: 37... \tAverage Train Loss: 0.006... \tTest Loss: 0.19350728427041322... \tTest Accuracy: 94.17721518987342\n",
            "Round: 38... \tAverage Train Loss: 0.006... \tTest Loss: 0.12715250843497924... \tTest Accuracy: 96.9620253164557\n",
            "Training Done!\n"
          ],
          "name": "stdout"
        },
        {
          "output_type": "display_data",
          "data": {
            "image/png": "[encoded data removed]",
            "text/plain": [
              "<Figure size 432x288 with 1 Axes>"
            ]
          },
          "metadata": {
            "tags": [],
            "needs_background": "light"
          }
        },
        {
          "output_type": "display_data",
          "data": {
            "image/png": "[encoded data removed]",
            "text/plain": [
              "<Figure size 432x288 with 1 Axes>"
            ]
          },
          "metadata": {
            "tags": [],
            "needs_background": "light"
          }
        }
      ]
    },
    {
      "cell_type": "markdown",
      "metadata": {
        "id": "O_7zZv-LMsA-"
      },
      "source": [
        "###**MNIST CNN 100 clients**\n",
        "\n",
        "\n",
        "\n",
        "\n",
        "\n"
      ]
    },
    {
      "cell_type": "code",
      "metadata": {
        "colab": {
          "base_uri": "https://localhost:8080/",
          "height": 1000
        },
        "id": "CpMnkIhVEmcE",
        "outputId": "64bfd174-b988-47b3-d497-1952d2ad6ef6"
      },
      "source": [
        "# number of training rounds\n",
        "rounds = 100\n",
        "# client fraction\n",
        "C = 0.1\n",
        "# number of clients\n",
        "K = 100\n",
        "# number of training passes on local dataset for each roung\n",
        "E = 20\n",
        "# batch size\n",
        "batch_size = 10\n",
        "# learning Rate\n",
        "lr=0.01\n",
        "# proximal term constant\n",
        "mu = 0.01\n",
        "# percentage of clients to have fewer than E epochs\n",
        "percentage = 0\n",
        "\n",
        "# target_test_accuracy\n",
        "target_test_accuracy=99.0\n",
        "# dict containing different type of data partition\n",
        "data_dict = non_iid_partition(mnist_data_train, 100, 200, 300, 2)\n",
        "# load model\n",
        "mnist_cnn = MNIST_CNN()\n",
        "\n",
        "if torch.cuda.is_available():\n",
        "  mnist_cnn.cuda()\n",
        "\n",
        "mnist_cnn_non_iid_trained = training(mnist_cnn, rounds, batch_size, lr, mnist_data_train, data_dict, mnist_data_test, C, K, E, mu, percentage, \"FedProx MNIST CNN on non-IID Dataset (0%)\", \"green\", target_test_accuracy)\n"
      ],
      "execution_count": 18,
      "outputs": [
        {
          "output_type": "stream",
          "text": [
            "System heterogeneity set to 0% stragglers.\n",
            "\n",
            "Picking 10 random clients per round.\n",
            "\n",
            "Round: 1... \tAverage Train Loss: 0.051... \tTest Loss: 2.975716375732422... \tTest Accuracy: 8.60759493670886\n",
            "Round: 2... \tAverage Train Loss: 0.029... \tTest Loss: 2.0094653156280518... \tTest Accuracy: 35.31645569620253\n",
            "Round: 3... \tAverage Train Loss: 0.021... \tTest Loss: 1.9496319538116456... \tTest Accuracy: 47.08860759493671\n",
            "Round: 4... \tAverage Train Loss: 0.023... \tTest Loss: 0.908429721069336... \tTest Accuracy: 66.9620253164557\n",
            "Round: 5... \tAverage Train Loss: 0.013... \tTest Loss: 0.8011016345977783... \tTest Accuracy: 70.88607594936708\n",
            "Round: 6... \tAverage Train Loss: 0.018... \tTest Loss: 0.7569603543281556... \tTest Accuracy: 67.84810126582279\n",
            "Round: 7... \tAverage Train Loss: 0.02... \tTest Loss: 0.3866415404319763... \tTest Accuracy: 84.17721518987342\n",
            "Round: 8... \tAverage Train Loss: 0.012... \tTest Loss: 0.7068312789916992... \tTest Accuracy: 75.18987341772151\n",
            "Round: 9... \tAverage Train Loss: 0.01... \tTest Loss: 0.4184565658092499... \tTest Accuracy: 86.20253164556962\n",
            "Round: 10... \tAverage Train Loss: 0.015... \tTest Loss: 0.33137658829689026... \tTest Accuracy: 85.44303797468355\n",
            "Round: 11... \tAverage Train Loss: 0.011... \tTest Loss: 0.4519513222694397... \tTest Accuracy: 83.54430379746836\n",
            "Round: 12... \tAverage Train Loss: 0.01... \tTest Loss: 0.3969212646961212... \tTest Accuracy: 85.18987341772151\n",
            "Round: 13... \tAverage Train Loss: 0.008... \tTest Loss: 0.3690100110054016... \tTest Accuracy: 85.0632911392405\n",
            "Round: 14... \tAverage Train Loss: 0.014... \tTest Loss: 0.32859653372764586... \tTest Accuracy: 85.44303797468355\n",
            "Round: 15... \tAverage Train Loss: 0.012... \tTest Loss: 0.17418740119338036... \tTest Accuracy: 95.18987341772151\n",
            "Round: 16... \tAverage Train Loss: 0.01... \tTest Loss: 0.2438723254442215... \tTest Accuracy: 88.73417721518987\n",
            "Round: 17... \tAverage Train Loss: 0.008... \tTest Loss: 0.17392435691356659... \tTest Accuracy: 94.17721518987342\n",
            "Round: 18... \tAverage Train Loss: 0.008... \tTest Loss: 0.15734763125777246... \tTest Accuracy: 94.30379746835443\n",
            "Round: 19... \tAverage Train Loss: 0.009... \tTest Loss: 0.21134666084051132... \tTest Accuracy: 92.27848101265823\n",
            "Round: 20... \tAverage Train Loss: 0.008... \tTest Loss: 0.13556470995545386... \tTest Accuracy: 95.9493670886076\n",
            "Round: 21... \tAverage Train Loss: 0.008... \tTest Loss: 0.1546053219527006... \tTest Accuracy: 95.56962025316456\n",
            "Round: 22... \tAverage Train Loss: 0.007... \tTest Loss: 0.1465609942317009... \tTest Accuracy: 95.44303797468355\n",
            "Round: 23... \tAverage Train Loss: 0.009... \tTest Loss: 0.151643252363801... \tTest Accuracy: 95.0632911392405\n",
            "Round: 24... \tAverage Train Loss: 0.008... \tTest Loss: 0.1193170061647892... \tTest Accuracy: 96.70886075949367\n",
            "Round: 25... \tAverage Train Loss: 0.008... \tTest Loss: 0.1864014175772667... \tTest Accuracy: 92.27848101265823\n",
            "Round: 26... \tAverage Train Loss: 0.007... \tTest Loss: 0.16215727165937424... \tTest Accuracy: 92.53164556962025\n",
            "Round: 27... \tAverage Train Loss: 0.007... \tTest Loss: 0.11390675941556692... \tTest Accuracy: 96.20253164556962\n",
            "Round: 28... \tAverage Train Loss: 0.009... \tTest Loss: 0.11998942423313856... \tTest Accuracy: 96.20253164556962\n",
            "Round: 29... \tAverage Train Loss: 0.007... \tTest Loss: 0.09163668277934194... \tTest Accuracy: 97.46835443037975\n",
            "Round: 30... \tAverage Train Loss: 0.008... \tTest Loss: 0.10523692488521337... \tTest Accuracy: 95.82278481012658\n",
            "Round: 31... \tAverage Train Loss: 0.007... \tTest Loss: 0.09821769267097115... \tTest Accuracy: 97.34177215189874\n",
            "Round: 32... \tAverage Train Loss: 0.005... \tTest Loss: 0.0982724277973175... \tTest Accuracy: 96.70886075949367\n",
            "Round: 33... \tAverage Train Loss: 0.006... \tTest Loss: 0.1133631850078702... \tTest Accuracy: 96.58227848101266\n",
            "Round: 34... \tAverage Train Loss: 0.007... \tTest Loss: 0.09595512548238039... \tTest Accuracy: 96.70886075949367\n",
            "Round: 35... \tAverage Train Loss: 0.007... \tTest Loss: 0.11739534453302622... \tTest Accuracy: 95.82278481012658\n",
            "Round: 36... \tAverage Train Loss: 0.006... \tTest Loss: 0.10754947986751795... \tTest Accuracy: 96.32911392405063\n",
            "Round: 37... \tAverage Train Loss: 0.006... \tTest Loss: 0.10558454393297434... \tTest Accuracy: 96.9620253164557\n",
            "Round: 38... \tAverage Train Loss: 0.005... \tTest Loss: 0.09093285259120167... \tTest Accuracy: 97.21518987341773\n",
            "Round: 39... \tAverage Train Loss: 0.006... \tTest Loss: 0.08758988278359174... \tTest Accuracy: 97.46835443037975\n",
            "Round: 40... \tAverage Train Loss: 0.005... \tTest Loss: 0.07820062174834311... \tTest Accuracy: 97.72151898734177\n",
            "Round: 41... \tAverage Train Loss: 0.007... \tTest Loss: 0.08334433292336763... \tTest Accuracy: 97.34177215189874\n",
            "Round: 42... \tAverage Train Loss: 0.005... \tTest Loss: 0.08372490124851466... \tTest Accuracy: 96.70886075949367\n",
            "Round: 43... \tAverage Train Loss: 0.007... \tTest Loss: 0.10832662239074707... \tTest Accuracy: 95.56962025316456\n",
            "Round: 44... \tAverage Train Loss: 0.006... \tTest Loss: 0.08084964248426259... \tTest Accuracy: 97.46835443037975\n",
            "Round: 45... \tAverage Train Loss: 0.006... \tTest Loss: 0.07120582487247884... \tTest Accuracy: 98.48101265822785\n",
            "Round: 46... \tAverage Train Loss: 0.006... \tTest Loss: 0.1183045654296875... \tTest Accuracy: 96.20253164556962\n",
            "Round: 47... \tAverage Train Loss: 0.003... \tTest Loss: 0.15325313682556152... \tTest Accuracy: 94.43037974683544\n",
            "Round: 48... \tAverage Train Loss: 0.006... \tTest Loss: 0.2038495794057846... \tTest Accuracy: 92.53164556962025\n",
            "Round: 49... \tAverage Train Loss: 0.006... \tTest Loss: 0.16145010186433792... \tTest Accuracy: 94.0506329113924\n",
            "Training Done!\n"
          ],
          "name": "stdout"
        },
        {
          "output_type": "display_data",
          "data": {
            "image/png": "[encoded data removed]",
            "text/plain": [
              "<Figure size 432x288 with 1 Axes>"
            ]
          },
          "metadata": {
            "tags": [],
            "needs_background": "light"
          }
        },
        {
          "output_type": "display_data",
          "data": {
            "image/png": "[encoded data removed]",
            "text/plain": [
              "<Figure size 432x288 with 1 Axes>"
            ]
          },
          "metadata": {
            "tags": [],
            "needs_background": "light"
          }
        }
      ]
    },
    {
      "cell_type": "markdown",
      "metadata": {
        "id": "J8jzEyO0iywz"
      },
      "source": [
        "## MNIST MLP on Non IID"
      ]
    },
    {
      "cell_type": "markdown",
      "metadata": {
        "id": "pJFepr3y2bF-"
      },
      "source": [
        "### Train"
      ]
    },
    {
      "cell_type": "markdown",
      "metadata": {
        "id": "P3kZAteYB6G_"
      },
      "source": [
        "###**MNIST MLP  10 clients**\n",
        "\n"
      ]
    },
    {
      "cell_type": "code",
      "metadata": {
        "id": "EBKO44Hgi1Uh",
        "colab": {
          "base_uri": "https://localhost:8080/",
          "height": 1000
        },
        "outputId": "f51ab30d-b5f8-4a00-a539-eb3fea085666"
      },
      "source": [
        "# number of training rounds\n",
        "rounds = 100\n",
        "# client fraction\n",
        "C = 0.1\n",
        "# number of clients\n",
        "K = 10\n",
        "# number of training passes on local dataset for each roung\n",
        "E = 20\n",
        "# batch size\n",
        "batch_size = 10\n",
        "# learning Rate\n",
        "lr=0.01\n",
        "# proximal term constant\n",
        "mu = 0.01\n",
        "# percentage of clients to have fewer than E epochs\n",
        "percentage = 0\n",
        "# target_test_accuracy\n",
        "target_test_accuracy=94.0\n",
        "# dict containing different type of data partition\n",
        "data_dict = non_iid_partition(mnist_data_train, 100, 200, 300, 2)\n",
        "# load model\n",
        "mnist_mlp = MNIST_2NN()\n",
        "\n",
        "if torch.cuda.is_available():\n",
        "  mnist_mlp.cuda()\n",
        "\n",
        "mnist_mlp_non_iid_trained = training(mnist_mlp, rounds, batch_size, lr, mnist_data_train, data_dict, mnist_data_test, C, K, E, mu, percentage, \"FedProx MNIST MLP on non-IID Dataset (90%)\", \"green\", target_test_accuracy)"
      ],
      "execution_count": 26,
      "outputs": [
        {
          "output_type": "stream",
          "text": [
            "System heterogeneity set to 0% stragglers.\n",
            "\n",
            "Picking 1 random clients per round.\n",
            "\n",
            "Round: 1... \tAverage Train Loss: 0.061... \tTest Loss: 11.277280123901367... \tTest Accuracy: 18.734177215189874\n",
            "Round: 2... \tAverage Train Loss: 0.033... \tTest Loss: 11.379000196838378... \tTest Accuracy: 10.50632911392405\n",
            "Round: 3... \tAverage Train Loss: 0.019... \tTest Loss: 10.061495538330078... \tTest Accuracy: 18.734177215189874\n",
            "Round: 4... \tAverage Train Loss: 0.036... \tTest Loss: 9.263470463562012... \tTest Accuracy: 20.88607594936709\n",
            "Round: 5... \tAverage Train Loss: 0.001... \tTest Loss: 9.46797042388916... \tTest Accuracy: 20.50632911392405\n",
            "Round: 6... \tAverage Train Loss: 0.048... \tTest Loss: 8.944220808410645... \tTest Accuracy: 21.772151898734176\n",
            "Round: 7... \tAverage Train Loss: 0.007... \tTest Loss: 8.572625555419922... \tTest Accuracy: 25.443037974683545\n",
            "Round: 8... \tAverage Train Loss: 0.012... \tTest Loss: 8.059337284851074... \tTest Accuracy: 26.455696202531644\n",
            "Round: 9... \tAverage Train Loss: 0.004... \tTest Loss: 7.7430240997314455... \tTest Accuracy: 29.240506329113924\n",
            "Round: 10... \tAverage Train Loss: 0.0... \tTest Loss: 7.767086659240722... \tTest Accuracy: 29.367088607594937\n",
            "Round: 11... \tAverage Train Loss: 0.011... \tTest Loss: 8.084386628723145... \tTest Accuracy: 24.810126582278482\n",
            "Round: 12... \tAverage Train Loss: 0.008... \tTest Loss: 8.214384056091308... \tTest Accuracy: 30.126582278481013\n",
            "Round: 13... \tAverage Train Loss: 0.03... \tTest Loss: 8.373133813476562... \tTest Accuracy: 28.60759493670886\n",
            "Round: 14... \tAverage Train Loss: 0.011... \tTest Loss: 6.977904148101807... \tTest Accuracy: 31.772151898734176\n",
            "Round: 15... \tAverage Train Loss: 0.012... \tTest Loss: 7.85836725616455... \tTest Accuracy: 29.240506329113924\n",
            "Round: 16... \tAverage Train Loss: 0.011... \tTest Loss: 7.466539016723633... \tTest Accuracy: 31.772151898734176\n",
            "Round: 17... \tAverage Train Loss: 0.012... \tTest Loss: 7.993136172485351... \tTest Accuracy: 29.873417721518987\n",
            "Round: 18... \tAverage Train Loss: 0.009... \tTest Loss: 7.442147972106934... \tTest Accuracy: 32.91139240506329\n",
            "Round: 19... \tAverage Train Loss: 0.043... \tTest Loss: 6.56474019165039... \tTest Accuracy: 32.40506329113924\n",
            "Round: 20... \tAverage Train Loss: 0.018... \tTest Loss: 6.350234228515625... \tTest Accuracy: 34.177215189873415\n",
            "Round: 21... \tAverage Train Loss: 0.01... \tTest Loss: 5.339042966461181... \tTest Accuracy: 32.0253164556962\n",
            "Round: 22... \tAverage Train Loss: 0.039... \tTest Loss: 6.258284051513672... \tTest Accuracy: 30.379746835443036\n",
            "Round: 23... \tAverage Train Loss: 0.005... \tTest Loss: 6.2426879020690915... \tTest Accuracy: 32.91139240506329\n",
            "Round: 24... \tAverage Train Loss: 0.046... \tTest Loss: 5.910656090545654... \tTest Accuracy: 35.56962025316456\n",
            "Round: 25... \tAverage Train Loss: 0.015... \tTest Loss: 4.204154466247559... \tTest Accuracy: 43.924050632911396\n",
            "Round: 26... \tAverage Train Loss: 0.069... \tTest Loss: 7.138218051147461... \tTest Accuracy: 24.556962025316455\n",
            "Round: 27... \tAverage Train Loss: 0.017... \tTest Loss: 4.744278792572022... \tTest Accuracy: 36.58227848101266\n",
            "Round: 28... \tAverage Train Loss: 0.019... \tTest Loss: 3.876149878692627... \tTest Accuracy: 34.936708860759495\n",
            "Round: 29... \tAverage Train Loss: 0.016... \tTest Loss: 3.5958524223327637... \tTest Accuracy: 39.620253164556964\n",
            "Round: 30... \tAverage Train Loss: 0.003... \tTest Loss: 3.996818765258789... \tTest Accuracy: 36.835443037974684\n",
            "Round: 31... \tAverage Train Loss: 0.018... \tTest Loss: 5.188734369659424... \tTest Accuracy: 32.78481012658228\n",
            "Round: 32... \tAverage Train Loss: 0.013... \tTest Loss: 3.415429838180542... \tTest Accuracy: 41.139240506329116\n",
            "Round: 33... \tAverage Train Loss: 0.019... \tTest Loss: 3.017202792739868... \tTest Accuracy: 48.734177215189874\n",
            "Round: 34... \tAverage Train Loss: 0.01... \tTest Loss: 4.226231317901611... \tTest Accuracy: 40.379746835443036\n",
            "Round: 35... \tAverage Train Loss: 0.003... \tTest Loss: 3.6252698204040525... \tTest Accuracy: 44.30379746835443\n",
            "Round: 36... \tAverage Train Loss: 0.0... \tTest Loss: 3.628951560974121... \tTest Accuracy: 44.30379746835443\n",
            "Round: 37... \tAverage Train Loss: 0.008... \tTest Loss: 3.314547960281372... \tTest Accuracy: 43.924050632911396\n",
            "Round: 38... \tAverage Train Loss: 0.008... \tTest Loss: 2.4353091106414797... \tTest Accuracy: 55.44303797468354\n",
            "Round: 39... \tAverage Train Loss: 0.009... \tTest Loss: 3.491965952682495... \tTest Accuracy: 46.20253164556962\n",
            "Round: 40... \tAverage Train Loss: 0.006... \tTest Loss: 3.393402112579346... \tTest Accuracy: 46.58227848101266\n",
            "Round: 41... \tAverage Train Loss: 0.002... \tTest Loss: 3.6791855812072756... \tTest Accuracy: 44.68354430379747\n",
            "Round: 42... \tAverage Train Loss: 0.01... \tTest Loss: 2.5692604927062987... \tTest Accuracy: 52.278481012658226\n",
            "Round: 43... \tAverage Train Loss: 0.01... \tTest Loss: 3.151988132095337... \tTest Accuracy: 50.25316455696203\n",
            "Round: 44... \tAverage Train Loss: 0.008... \tTest Loss: 3.4062226287841795... \tTest Accuracy: 46.962025316455694\n",
            "Round: 45... \tAverage Train Loss: 0.007... \tTest Loss: 3.1043827087402343... \tTest Accuracy: 53.29113924050633\n",
            "Round: 46... \tAverage Train Loss: 0.002... \tTest Loss: 3.853660718536377... \tTest Accuracy: 48.607594936708864\n",
            "Round: 47... \tAverage Train Loss: 0.007... \tTest Loss: 3.4325496658325196... \tTest Accuracy: 51.139240506329116\n",
            "Round: 48... \tAverage Train Loss: 0.007... \tTest Loss: 3.1500041675567627... \tTest Accuracy: 52.91139240506329\n",
            "Training Done!\n"
          ],
          "name": "stdout"
        },
        {
          "output_type": "display_data",
          "data": {
            "image/png": "[encoded data removed]",
            "text/plain": [
              "<Figure size 432x288 with 1 Axes>"
            ]
          },
          "metadata": {
            "tags": [],
            "needs_background": "light"
          }
        },
        {
          "output_type": "display_data",
          "data": {
            "image/png": "[encoded data removed]",
            "text/plain": [
              "<Figure size 432x288 with 1 Axes>"
            ]
          },
          "metadata": {
            "tags": [],
            "needs_background": "light"
          }
        }
      ]
    },
    {
      "cell_type": "markdown",
      "metadata": {
        "id": "u09FJNb3DbZp"
      },
      "source": [
        "###**MNIST MLP 50 clients**\n"
      ]
    },
    {
      "cell_type": "code",
      "metadata": {
        "colab": {
          "base_uri": "https://localhost:8080/",
          "height": 1000
        },
        "id": "JOLe6gffDkMN",
        "outputId": "0b6ea2ec-942e-4935-e254-3ecf40c83ddf"
      },
      "source": [
        "# number of training rounds\n",
        "rounds = 100\n",
        "# client fraction\n",
        "C = 0.1\n",
        "# number of clients\n",
        "K = 50\n",
        "# number of training passes on local dataset for each roung\n",
        "E = 20\n",
        "# batch size\n",
        "batch_size = 10\n",
        "# learning Rate\n",
        "lr=0.01\n",
        "# proximal term constant\n",
        "mu = 0.01\n",
        "# percentage of clients to have fewer than E epochs\n",
        "percentage = 0\n",
        "# target_test_accuracy\n",
        "target_test_accuracy=94.0\n",
        "# dict containing different type of data partition\n",
        "data_dict = non_iid_partition(mnist_data_train, 100, 200, 300, 2)\n",
        "# load model\n",
        "mnist_mlp = MNIST_2NN()\n",
        "\n",
        "if torch.cuda.is_available():\n",
        "  mnist_mlp.cuda()\n",
        "\n",
        "mnist_mlp_non_iid_trained = training(mnist_mlp, rounds, batch_size, lr, mnist_data_train, data_dict, mnist_data_test, C, K, E, mu, percentage, \"FedProx MNIST MLP on non-IID Dataset (90%)\", \"green\", target_test_accuracy)"
      ],
      "execution_count": 27,
      "outputs": [
        {
          "output_type": "stream",
          "text": [
            "System heterogeneity set to 0% stragglers.\n",
            "\n",
            "Picking 5 random clients per round.\n",
            "\n",
            "Round: 1... \tAverage Train Loss: 0.065... \tTest Loss: 4.772037729644776... \tTest Accuracy: 23.037974683544302\n",
            "Round: 2... \tAverage Train Loss: 0.034... \tTest Loss: 3.6412127380371095... \tTest Accuracy: 28.227848101265824\n",
            "Round: 3... \tAverage Train Loss: 0.033... \tTest Loss: 2.605280894470215... \tTest Accuracy: 32.65822784810127\n",
            "Round: 4... \tAverage Train Loss: 0.021... \tTest Loss: 2.0213088695526125... \tTest Accuracy: 48.734177215189874\n",
            "Round: 5... \tAverage Train Loss: 0.024... \tTest Loss: 1.2012098838806153... \tTest Accuracy: 62.78481012658228\n",
            "Round: 6... \tAverage Train Loss: 0.019... \tTest Loss: 1.2472706525802613... \tTest Accuracy: 56.45569620253165\n",
            "Round: 7... \tAverage Train Loss: 0.018... \tTest Loss: 1.7886881725311279... \tTest Accuracy: 45.822784810126585\n",
            "Round: 8... \tAverage Train Loss: 0.013... \tTest Loss: 2.3011258514404296... \tTest Accuracy: 43.29113924050633\n",
            "Round: 9... \tAverage Train Loss: 0.022... \tTest Loss: 0.9611710598945618... \tTest Accuracy: 64.68354430379746\n",
            "Round: 10... \tAverage Train Loss: 0.013... \tTest Loss: 0.8323030040740966... \tTest Accuracy: 70.88607594936708\n",
            "Round: 11... \tAverage Train Loss: 0.014... \tTest Loss: 0.7936710711479187... \tTest Accuracy: 71.64556962025317\n",
            "Round: 12... \tAverage Train Loss: 0.012... \tTest Loss: 1.9956342937469482... \tTest Accuracy: 47.34177215189873\n",
            "Round: 13... \tAverage Train Loss: 0.013... \tTest Loss: 0.8468983877182007... \tTest Accuracy: 67.34177215189874\n",
            "Round: 14... \tAverage Train Loss: 0.016... \tTest Loss: 1.2621453977584838... \tTest Accuracy: 60.88607594936709\n",
            "Round: 15... \tAverage Train Loss: 0.018... \tTest Loss: 0.6301895777702331... \tTest Accuracy: 77.46835443037975\n",
            "Round: 16... \tAverage Train Loss: 0.014... \tTest Loss: 0.5954223014831543... \tTest Accuracy: 77.0886075949367\n",
            "Round: 17... \tAverage Train Loss: 0.011... \tTest Loss: 0.4163618478298187... \tTest Accuracy: 88.22784810126582\n",
            "Round: 18... \tAverage Train Loss: 0.01... \tTest Loss: 0.6207732726097107... \tTest Accuracy: 78.35443037974683\n",
            "Round: 19... \tAverage Train Loss: 0.013... \tTest Loss: 0.5913592264175415... \tTest Accuracy: 78.86075949367088\n",
            "Round: 20... \tAverage Train Loss: 0.01... \tTest Loss: 0.7614585657119751... \tTest Accuracy: 70.88607594936708\n",
            "Round: 21... \tAverage Train Loss: 0.012... \tTest Loss: 1.2581182920455933... \tTest Accuracy: 64.17721518987342\n",
            "Round: 22... \tAverage Train Loss: 0.012... \tTest Loss: 1.578316524887085... \tTest Accuracy: 61.139240506329116\n",
            "Round: 23... \tAverage Train Loss: 0.012... \tTest Loss: 0.8167441864013671... \tTest Accuracy: 77.59493670886076\n",
            "Round: 24... \tAverage Train Loss: 0.009... \tTest Loss: 0.4506119679450989... \tTest Accuracy: 81.77215189873418\n",
            "Round: 25... \tAverage Train Loss: 0.01... \tTest Loss: 0.4856678764343262... \tTest Accuracy: 81.13924050632912\n",
            "Round: 26... \tAverage Train Loss: 0.009... \tTest Loss: 0.6365802911758422... \tTest Accuracy: 76.9620253164557\n",
            "Round: 27... \tAverage Train Loss: 0.009... \tTest Loss: 0.8920015537261963... \tTest Accuracy: 71.51898734177215\n",
            "Round: 28... \tAverage Train Loss: 0.01... \tTest Loss: 0.5489726859569549... \tTest Accuracy: 79.87341772151899\n",
            "Round: 29... \tAverage Train Loss: 0.012... \tTest Loss: 0.5670063847541809... \tTest Accuracy: 82.27848101265823\n",
            "Round: 30... \tAverage Train Loss: 0.007... \tTest Loss: 0.41856657943725584... \tTest Accuracy: 84.68354430379746\n",
            "Round: 31... \tAverage Train Loss: 0.011... \tTest Loss: 0.6182649506568909... \tTest Accuracy: 79.24050632911393\n",
            "Round: 32... \tAverage Train Loss: 0.009... \tTest Loss: 0.553957834815979... \tTest Accuracy: 79.62025316455696\n",
            "Round: 33... \tAverage Train Loss: 0.009... \tTest Loss: 0.4221441683769226... \tTest Accuracy: 83.67088607594937\n",
            "Round: 34... \tAverage Train Loss: 0.01... \tTest Loss: 0.4728338111162186... \tTest Accuracy: 82.0253164556962\n",
            "Round: 35... \tAverage Train Loss: 0.008... \tTest Loss: 0.35239544789791105... \tTest Accuracy: 89.24050632911393\n",
            "Round: 36... \tAverage Train Loss: 0.009... \tTest Loss: 0.32233661024570465... \tTest Accuracy: 90.12658227848101\n",
            "Round: 37... \tAverage Train Loss: 0.007... \tTest Loss: 0.4248758728504181... \tTest Accuracy: 83.79746835443038\n",
            "Round: 38... \tAverage Train Loss: 0.007... \tTest Loss: 0.7490790577888489... \tTest Accuracy: 74.55696202531645\n",
            "Round: 39... \tAverage Train Loss: 0.008... \tTest Loss: 0.6323819637298584... \tTest Accuracy: 77.84810126582279\n",
            "Round: 40... \tAverage Train Loss: 0.007... \tTest Loss: 0.554710900402069... \tTest Accuracy: 82.78481012658227\n",
            "Round: 41... \tAverage Train Loss: 0.007... \tTest Loss: 0.819207378578186... \tTest Accuracy: 78.73417721518987\n",
            "Round: 42... \tAverage Train Loss: 0.007... \tTest Loss: 0.5229115753173829... \tTest Accuracy: 81.39240506329114\n",
            "Round: 43... \tAverage Train Loss: 0.006... \tTest Loss: 0.35184943137168884... \tTest Accuracy: 88.86075949367088\n",
            "Round: 44... \tAverage Train Loss: 0.006... \tTest Loss: 0.7690789798736573... \tTest Accuracy: 73.67088607594937\n",
            "Round: 45... \tAverage Train Loss: 0.006... \tTest Loss: 0.5125506276607513... \tTest Accuracy: 81.64556962025317\n",
            "Round: 46... \tAverage Train Loss: 0.007... \tTest Loss: 0.3904133534193039... \tTest Accuracy: 86.70886075949367\n",
            "Round: 47... \tAverage Train Loss: 0.007... \tTest Loss: 0.4365243586540222... \tTest Accuracy: 81.77215189873418\n",
            "Training Done!\n"
          ],
          "name": "stdout"
        },
        {
          "output_type": "display_data",
          "data": {
            "image/png": "[encoded data removed]",
            "text/plain": [
              "<Figure size 432x288 with 1 Axes>"
            ]
          },
          "metadata": {
            "tags": [],
            "needs_background": "light"
          }
        },
        {
          "output_type": "display_data",
          "data": {
            "image/png": "[encoded data removed]",
            "text/plain": [
              "<Figure size 432x288 with 1 Axes>"
            ]
          },
          "metadata": {
            "tags": [],
            "needs_background": "light"
          }
        }
      ]
    },
    {
      "cell_type": "markdown",
      "metadata": {
        "id": "ZEe8vf6jD04U"
      },
      "source": [
        "###**MNIST MLP  100 clients**\n"
      ]
    },
    {
      "cell_type": "code",
      "metadata": {
        "colab": {
          "base_uri": "https://localhost:8080/",
          "height": 845
        },
        "id": "d7u069iSD-m7",
        "outputId": "25748bc5-6663-4ff6-f2a3-611246702a82"
      },
      "source": [
        "# number of training rounds\n",
        "rounds = 100\n",
        "# client fraction\n",
        "C = 0.1\n",
        "# number of clients\n",
        "K = 100\n",
        "# number of training passes on local dataset for each roung\n",
        "E = 20\n",
        "# batch size\n",
        "batch_size = 10\n",
        "# learning Rate\n",
        "lr=0.01\n",
        "# proximal term constant\n",
        "mu = 0.01\n",
        "# percentage of clients to have fewer than E epochs\n",
        "percentage = 0\n",
        "# target_test_accuracy\n",
        "target_test_accuracy=94.0\n",
        "# dict containing different type of data partition\n",
        "data_dict = non_iid_partition(mnist_data_train, 100, 200, 300, 2)\n",
        "# load model\n",
        "mnist_mlp = MNIST_2NN()\n",
        "\n",
        "if torch.cuda.is_available():\n",
        "  mnist_mlp.cuda()\n",
        "\n",
        "mnist_mlp_non_iid_trained = training(mnist_mlp, rounds, batch_size, lr, mnist_data_train, data_dict, mnist_data_test, C, K, E, mu, percentage, \"FedProx MNIST MLP on non-IID Dataset (90%)\", \"green\", target_test_accuracy)"
      ],
      "execution_count": 28,
      "outputs": [
        {
          "output_type": "stream",
          "text": [
            "System heterogeneity set to 0% stragglers.\n",
            "\n",
            "Picking 10 random clients per round.\n",
            "\n",
            "Round: 1... \tAverage Train Loss: 0.058... \tTest Loss: 3.582161156463623... \tTest Accuracy: 24.936708860759495\n",
            "Round: 2... \tAverage Train Loss: 0.036... \tTest Loss: 2.737739862060547... \tTest Accuracy: 33.54430379746835\n",
            "Round: 3... \tAverage Train Loss: 0.024... \tTest Loss: 2.268880011367798... \tTest Accuracy: 37.721518987341774\n",
            "Round: 4... \tAverage Train Loss: 0.019... \tTest Loss: 1.4209910974502564... \tTest Accuracy: 50.50632911392405\n",
            "Round: 5... \tAverage Train Loss: 0.022... \tTest Loss: 1.7813081687927246... \tTest Accuracy: 46.45569620253165\n",
            "Round: 6... \tAverage Train Loss: 0.02... \tTest Loss: 1.1373892217636108... \tTest Accuracy: 66.45569620253164\n",
            "Round: 7... \tAverage Train Loss: 0.022... \tTest Loss: 0.6660212125778199... \tTest Accuracy: 77.9746835443038\n",
            "Round: 8... \tAverage Train Loss: 0.018... \tTest Loss: 0.7604314726829529... \tTest Accuracy: 71.89873417721519\n",
            "Round: 9... \tAverage Train Loss: 0.024... \tTest Loss: 0.7654506532669068... \tTest Accuracy: 73.67088607594937\n",
            "Round: 10... \tAverage Train Loss: 0.015... \tTest Loss: 0.6623626949310303... \tTest Accuracy: 76.20253164556962\n",
            "Round: 11... \tAverage Train Loss: 0.015... \tTest Loss: 0.5659452921867371... \tTest Accuracy: 78.9873417721519\n",
            "Training Done!\n"
          ],
          "name": "stdout"
        },
        {
          "output_type": "display_data",
          "data": {
            "image/png": "[encoded data removed]",
            "text/plain": [
              "<Figure size 432x288 with 1 Axes>"
            ]
          },
          "metadata": {
            "tags": [],
            "needs_background": "light"
          }
        },
        {
          "output_type": "display_data",
          "data": {
            "image/png": "[encoded data removed]",
            "text/plain": [
              "<Figure size 432x288 with 1 Axes>"
            ]
          },
          "metadata": {
            "tags": [],
            "needs_background": "light"
          }
        }
      ]
    }
  ]
}