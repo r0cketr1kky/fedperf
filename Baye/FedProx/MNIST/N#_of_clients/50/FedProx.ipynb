{
  "nbformat": 4,
  "nbformat_minor": 0,
  "metadata": {
    "accelerator": "GPU",
    "colab": {
      "name": "FedProx.ipynb",
      "provenance": [],
      "collapsed_sections": [],
      "toc_visible": true,
      "machine_shape": "hm"
    },
    "kernelspec": {
      "name": "python3",
      "display_name": "Python 3"
    },
    "widgets": {
      "application/vnd.jupyter.widget-state+json": {
        "0201fa9b92524fa0aa7648fc3d3505ab": {
          "model_module": "@jupyter-widgets/controls",
          "model_name": "HBoxModel",
          "state": {
            "_view_name": "HBoxView",
            "_dom_classes": [],
            "_model_name": "HBoxModel",
            "_view_module": "@jupyter-widgets/controls",
            "_model_module_version": "1.5.0",
            "_view_count": null,
            "_view_module_version": "1.5.0",
            "box_style": "",
            "layout": "IPY_MODEL_6d680ba0c7134644987b5e943e89b8ce",
            "_model_module": "@jupyter-widgets/controls",
            "children": [
              "IPY_MODEL_83c2befda5224a54b3e2e6f456744cf2",
              "IPY_MODEL_2afdb38c30bb4179a4eae646a7a5905b"
            ]
          }
        },
        "6d680ba0c7134644987b5e943e89b8ce": {
          "model_module": "@jupyter-widgets/base",
          "model_name": "LayoutModel",
          "state": {
            "_view_name": "LayoutView",
            "grid_template_rows": null,
            "right": null,
            "justify_content": null,
            "_view_module": "@jupyter-widgets/base",
            "overflow": null,
            "_model_module_version": "1.2.0",
            "_view_count": null,
            "flex_flow": null,
            "width": null,
            "min_width": null,
            "border": null,
            "align_items": null,
            "bottom": null,
            "_model_module": "@jupyter-widgets/base",
            "top": null,
            "grid_column": null,
            "overflow_y": null,
            "overflow_x": null,
            "grid_auto_flow": null,
            "grid_area": null,
            "grid_template_columns": null,
            "flex": null,
            "_model_name": "LayoutModel",
            "justify_items": null,
            "grid_row": null,
            "max_height": null,
            "align_content": null,
            "visibility": null,
            "align_self": null,
            "height": null,
            "min_height": null,
            "padding": null,
            "grid_auto_rows": null,
            "grid_gap": null,
            "max_width": null,
            "order": null,
            "_view_module_version": "1.2.0",
            "grid_template_areas": null,
            "object_position": null,
            "object_fit": null,
            "grid_auto_columns": null,
            "margin": null,
            "display": null,
            "left": null
          }
        },
        "83c2befda5224a54b3e2e6f456744cf2": {
          "model_module": "@jupyter-widgets/controls",
          "model_name": "FloatProgressModel",
          "state": {
            "_view_name": "ProgressView",
            "style": "IPY_MODEL_e8233b1e48f849c688c68bd6948834a9",
            "_dom_classes": [],
            "description": "",
            "_model_name": "FloatProgressModel",
            "bar_style": "success",
            "max": 9912422,
            "_view_module": "@jupyter-widgets/controls",
            "_model_module_version": "1.5.0",
            "value": 9912422,
            "_view_count": null,
            "_view_module_version": "1.5.0",
            "orientation": "horizontal",
            "min": 0,
            "description_tooltip": null,
            "_model_module": "@jupyter-widgets/controls",
            "layout": "IPY_MODEL_e9e6b3363f224336b711fa71629f34b9"
          }
        },
        "2afdb38c30bb4179a4eae646a7a5905b": {
          "model_module": "@jupyter-widgets/controls",
          "model_name": "HTMLModel",
          "state": {
            "_view_name": "HTMLView",
            "style": "IPY_MODEL_8f5afb42252e42349fd22185c9de86e2",
            "_dom_classes": [],
            "description": "",
            "_model_name": "HTMLModel",
            "placeholder": "​",
            "_view_module": "@jupyter-widgets/controls",
            "_model_module_version": "1.5.0",
            "value": " 9913344/? [00:02&lt;00:00, 3535349.85it/s]",
            "_view_count": null,
            "_view_module_version": "1.5.0",
            "description_tooltip": null,
            "_model_module": "@jupyter-widgets/controls",
            "layout": "IPY_MODEL_49263ec1cb2b41bfac38bc8b5659c9e0"
          }
        },
        "e8233b1e48f849c688c68bd6948834a9": {
          "model_module": "@jupyter-widgets/controls",
          "model_name": "ProgressStyleModel",
          "state": {
            "_view_name": "StyleView",
            "_model_name": "ProgressStyleModel",
            "description_width": "initial",
            "_view_module": "@jupyter-widgets/base",
            "_model_module_version": "1.5.0",
            "_view_count": null,
            "_view_module_version": "1.2.0",
            "bar_color": null,
            "_model_module": "@jupyter-widgets/controls"
          }
        },
        "e9e6b3363f224336b711fa71629f34b9": {
          "model_module": "@jupyter-widgets/base",
          "model_name": "LayoutModel",
          "state": {
            "_view_name": "LayoutView",
            "grid_template_rows": null,
            "right": null,
            "justify_content": null,
            "_view_module": "@jupyter-widgets/base",
            "overflow": null,
            "_model_module_version": "1.2.0",
            "_view_count": null,
            "flex_flow": null,
            "width": null,
            "min_width": null,
            "border": null,
            "align_items": null,
            "bottom": null,
            "_model_module": "@jupyter-widgets/base",
            "top": null,
            "grid_column": null,
            "overflow_y": null,
            "overflow_x": null,
            "grid_auto_flow": null,
            "grid_area": null,
            "grid_template_columns": null,
            "flex": null,
            "_model_name": "LayoutModel",
            "justify_items": null,
            "grid_row": null,
            "max_height": null,
            "align_content": null,
            "visibility": null,
            "align_self": null,
            "height": null,
            "min_height": null,
            "padding": null,
            "grid_auto_rows": null,
            "grid_gap": null,
            "max_width": null,
            "order": null,
            "_view_module_version": "1.2.0",
            "grid_template_areas": null,
            "object_position": null,
            "object_fit": null,
            "grid_auto_columns": null,
            "margin": null,
            "display": null,
            "left": null
          }
        },
        "8f5afb42252e42349fd22185c9de86e2": {
          "model_module": "@jupyter-widgets/controls",
          "model_name": "DescriptionStyleModel",
          "state": {
            "_view_name": "StyleView",
            "_model_name": "DescriptionStyleModel",
            "description_width": "",
            "_view_module": "@jupyter-widgets/base",
            "_model_module_version": "1.5.0",
            "_view_count": null,
            "_view_module_version": "1.2.0",
            "_model_module": "@jupyter-widgets/controls"
          }
        },
        "49263ec1cb2b41bfac38bc8b5659c9e0": {
          "model_module": "@jupyter-widgets/base",
          "model_name": "LayoutModel",
          "state": {
            "_view_name": "LayoutView",
            "grid_template_rows": null,
            "right": null,
            "justify_content": null,
            "_view_module": "@jupyter-widgets/base",
            "overflow": null,
            "_model_module_version": "1.2.0",
            "_view_count": null,
            "flex_flow": null,
            "width": null,
            "min_width": null,
            "border": null,
            "align_items": null,
            "bottom": null,
            "_model_module": "@jupyter-widgets/base",
            "top": null,
            "grid_column": null,
            "overflow_y": null,
            "overflow_x": null,
            "grid_auto_flow": null,
            "grid_area": null,
            "grid_template_columns": null,
            "flex": null,
            "_model_name": "LayoutModel",
            "justify_items": null,
            "grid_row": null,
            "max_height": null,
            "align_content": null,
            "visibility": null,
            "align_self": null,
            "height": null,
            "min_height": null,
            "padding": null,
            "grid_auto_rows": null,
            "grid_gap": null,
            "max_width": null,
            "order": null,
            "_view_module_version": "1.2.0",
            "grid_template_areas": null,
            "object_position": null,
            "object_fit": null,
            "grid_auto_columns": null,
            "margin": null,
            "display": null,
            "left": null
          }
        },
        "469d86eab96046b68e24a6cbd5bbcf56": {
          "model_module": "@jupyter-widgets/controls",
          "model_name": "HBoxModel",
          "state": {
            "_view_name": "HBoxView",
            "_dom_classes": [],
            "_model_name": "HBoxModel",
            "_view_module": "@jupyter-widgets/controls",
            "_model_module_version": "1.5.0",
            "_view_count": null,
            "_view_module_version": "1.5.0",
            "box_style": "",
            "layout": "IPY_MODEL_da5b979ce99740f7acecab931f35b1fd",
            "_model_module": "@jupyter-widgets/controls",
            "children": [
              "IPY_MODEL_20df4c94acdf47828889d73c74176b35",
              "IPY_MODEL_277800de1b874fdc867af543863d1d14"
            ]
          }
        },
        "da5b979ce99740f7acecab931f35b1fd": {
          "model_module": "@jupyter-widgets/base",
          "model_name": "LayoutModel",
          "state": {
            "_view_name": "LayoutView",
            "grid_template_rows": null,
            "right": null,
            "justify_content": null,
            "_view_module": "@jupyter-widgets/base",
            "overflow": null,
            "_model_module_version": "1.2.0",
            "_view_count": null,
            "flex_flow": null,
            "width": null,
            "min_width": null,
            "border": null,
            "align_items": null,
            "bottom": null,
            "_model_module": "@jupyter-widgets/base",
            "top": null,
            "grid_column": null,
            "overflow_y": null,
            "overflow_x": null,
            "grid_auto_flow": null,
            "grid_area": null,
            "grid_template_columns": null,
            "flex": null,
            "_model_name": "LayoutModel",
            "justify_items": null,
            "grid_row": null,
            "max_height": null,
            "align_content": null,
            "visibility": null,
            "align_self": null,
            "height": null,
            "min_height": null,
            "padding": null,
            "grid_auto_rows": null,
            "grid_gap": null,
            "max_width": null,
            "order": null,
            "_view_module_version": "1.2.0",
            "grid_template_areas": null,
            "object_position": null,
            "object_fit": null,
            "grid_auto_columns": null,
            "margin": null,
            "display": null,
            "left": null
          }
        },
        "20df4c94acdf47828889d73c74176b35": {
          "model_module": "@jupyter-widgets/controls",
          "model_name": "FloatProgressModel",
          "state": {
            "_view_name": "ProgressView",
            "style": "IPY_MODEL_a01d198ae2044ccd8957595afd012e95",
            "_dom_classes": [],
            "description": "",
            "_model_name": "FloatProgressModel",
            "bar_style": "success",
            "max": 28881,
            "_view_module": "@jupyter-widgets/controls",
            "_model_module_version": "1.5.0",
            "value": 28881,
            "_view_count": null,
            "_view_module_version": "1.5.0",
            "orientation": "horizontal",
            "min": 0,
            "description_tooltip": null,
            "_model_module": "@jupyter-widgets/controls",
            "layout": "IPY_MODEL_6ad52053d3c94141b34e0643288c8bee"
          }
        },
        "277800de1b874fdc867af543863d1d14": {
          "model_module": "@jupyter-widgets/controls",
          "model_name": "HTMLModel",
          "state": {
            "_view_name": "HTMLView",
            "style": "IPY_MODEL_6295cfbc9bf0453ba703e778ce37edd5",
            "_dom_classes": [],
            "description": "",
            "_model_name": "HTMLModel",
            "placeholder": "​",
            "_view_module": "@jupyter-widgets/controls",
            "_model_module_version": "1.5.0",
            "value": " 29696/? [00:00&lt;00:00, 53772.99it/s]",
            "_view_count": null,
            "_view_module_version": "1.5.0",
            "description_tooltip": null,
            "_model_module": "@jupyter-widgets/controls",
            "layout": "IPY_MODEL_82285dc241e54f9790113a06a76d22d2"
          }
        },
        "a01d198ae2044ccd8957595afd012e95": {
          "model_module": "@jupyter-widgets/controls",
          "model_name": "ProgressStyleModel",
          "state": {
            "_view_name": "StyleView",
            "_model_name": "ProgressStyleModel",
            "description_width": "initial",
            "_view_module": "@jupyter-widgets/base",
            "_model_module_version": "1.5.0",
            "_view_count": null,
            "_view_module_version": "1.2.0",
            "bar_color": null,
            "_model_module": "@jupyter-widgets/controls"
          }
        },
        "6ad52053d3c94141b34e0643288c8bee": {
          "model_module": "@jupyter-widgets/base",
          "model_name": "LayoutModel",
          "state": {
            "_view_name": "LayoutView",
            "grid_template_rows": null,
            "right": null,
            "justify_content": null,
            "_view_module": "@jupyter-widgets/base",
            "overflow": null,
            "_model_module_version": "1.2.0",
            "_view_count": null,
            "flex_flow": null,
            "width": null,
            "min_width": null,
            "border": null,
            "align_items": null,
            "bottom": null,
            "_model_module": "@jupyter-widgets/base",
            "top": null,
            "grid_column": null,
            "overflow_y": null,
            "overflow_x": null,
            "grid_auto_flow": null,
            "grid_area": null,
            "grid_template_columns": null,
            "flex": null,
            "_model_name": "LayoutModel",
            "justify_items": null,
            "grid_row": null,
            "max_height": null,
            "align_content": null,
            "visibility": null,
            "align_self": null,
            "height": null,
            "min_height": null,
            "padding": null,
            "grid_auto_rows": null,
            "grid_gap": null,
            "max_width": null,
            "order": null,
            "_view_module_version": "1.2.0",
            "grid_template_areas": null,
            "object_position": null,
            "object_fit": null,
            "grid_auto_columns": null,
            "margin": null,
            "display": null,
            "left": null
          }
        },
        "6295cfbc9bf0453ba703e778ce37edd5": {
          "model_module": "@jupyter-widgets/controls",
          "model_name": "DescriptionStyleModel",
          "state": {
            "_view_name": "StyleView",
            "_model_name": "DescriptionStyleModel",
            "description_width": "",
            "_view_module": "@jupyter-widgets/base",
            "_model_module_version": "1.5.0",
            "_view_count": null,
            "_view_module_version": "1.2.0",
            "_model_module": "@jupyter-widgets/controls"
          }
        },
        "82285dc241e54f9790113a06a76d22d2": {
          "model_module": "@jupyter-widgets/base",
          "model_name": "LayoutModel",
          "state": {
            "_view_name": "LayoutView",
            "grid_template_rows": null,
            "right": null,
            "justify_content": null,
            "_view_module": "@jupyter-widgets/base",
            "overflow": null,
            "_model_module_version": "1.2.0",
            "_view_count": null,
            "flex_flow": null,
            "width": null,
            "min_width": null,
            "border": null,
            "align_items": null,
            "bottom": null,
            "_model_module": "@jupyter-widgets/base",
            "top": null,
            "grid_column": null,
            "overflow_y": null,
            "overflow_x": null,
            "grid_auto_flow": null,
            "grid_area": null,
            "grid_template_columns": null,
            "flex": null,
            "_model_name": "LayoutModel",
            "justify_items": null,
            "grid_row": null,
            "max_height": null,
            "align_content": null,
            "visibility": null,
            "align_self": null,
            "height": null,
            "min_height": null,
            "padding": null,
            "grid_auto_rows": null,
            "grid_gap": null,
            "max_width": null,
            "order": null,
            "_view_module_version": "1.2.0",
            "grid_template_areas": null,
            "object_position": null,
            "object_fit": null,
            "grid_auto_columns": null,
            "margin": null,
            "display": null,
            "left": null
          }
        },
        "2112aeb90b1546259e223b43d5a49a12": {
          "model_module": "@jupyter-widgets/controls",
          "model_name": "HBoxModel",
          "state": {
            "_view_name": "HBoxView",
            "_dom_classes": [],
            "_model_name": "HBoxModel",
            "_view_module": "@jupyter-widgets/controls",
            "_model_module_version": "1.5.0",
            "_view_count": null,
            "_view_module_version": "1.5.0",
            "box_style": "",
            "layout": "IPY_MODEL_8d54e9d14bd94ca89ca55bb918ebcce4",
            "_model_module": "@jupyter-widgets/controls",
            "children": [
              "IPY_MODEL_fc2a37c08abd45ca9c0dc58056621821",
              "IPY_MODEL_a8ebb3d90fb7444ab3b1d49a0cc2ba0d"
            ]
          }
        },
        "8d54e9d14bd94ca89ca55bb918ebcce4": {
          "model_module": "@jupyter-widgets/base",
          "model_name": "LayoutModel",
          "state": {
            "_view_name": "LayoutView",
            "grid_template_rows": null,
            "right": null,
            "justify_content": null,
            "_view_module": "@jupyter-widgets/base",
            "overflow": null,
            "_model_module_version": "1.2.0",
            "_view_count": null,
            "flex_flow": null,
            "width": null,
            "min_width": null,
            "border": null,
            "align_items": null,
            "bottom": null,
            "_model_module": "@jupyter-widgets/base",
            "top": null,
            "grid_column": null,
            "overflow_y": null,
            "overflow_x": null,
            "grid_auto_flow": null,
            "grid_area": null,
            "grid_template_columns": null,
            "flex": null,
            "_model_name": "LayoutModel",
            "justify_items": null,
            "grid_row": null,
            "max_height": null,
            "align_content": null,
            "visibility": null,
            "align_self": null,
            "height": null,
            "min_height": null,
            "padding": null,
            "grid_auto_rows": null,
            "grid_gap": null,
            "max_width": null,
            "order": null,
            "_view_module_version": "1.2.0",
            "grid_template_areas": null,
            "object_position": null,
            "object_fit": null,
            "grid_auto_columns": null,
            "margin": null,
            "display": null,
            "left": null
          }
        },
        "fc2a37c08abd45ca9c0dc58056621821": {
          "model_module": "@jupyter-widgets/controls",
          "model_name": "FloatProgressModel",
          "state": {
            "_view_name": "ProgressView",
            "style": "IPY_MODEL_7793406e7d30435bb8d19e3436623152",
            "_dom_classes": [],
            "description": "",
            "_model_name": "FloatProgressModel",
            "bar_style": "success",
            "max": 1648877,
            "_view_module": "@jupyter-widgets/controls",
            "_model_module_version": "1.5.0",
            "value": 1648877,
            "_view_count": null,
            "_view_module_version": "1.5.0",
            "orientation": "horizontal",
            "min": 0,
            "description_tooltip": null,
            "_model_module": "@jupyter-widgets/controls",
            "layout": "IPY_MODEL_b9f64d175db140cba4b362b13b097310"
          }
        },
        "a8ebb3d90fb7444ab3b1d49a0cc2ba0d": {
          "model_module": "@jupyter-widgets/controls",
          "model_name": "HTMLModel",
          "state": {
            "_view_name": "HTMLView",
            "style": "IPY_MODEL_53f3978b7779424aa67131c49882e601",
            "_dom_classes": [],
            "description": "",
            "_model_name": "HTMLModel",
            "placeholder": "​",
            "_view_module": "@jupyter-widgets/controls",
            "_model_module_version": "1.5.0",
            "value": " 1649664/? [00:00&lt;00:00, 3953559.86it/s]",
            "_view_count": null,
            "_view_module_version": "1.5.0",
            "description_tooltip": null,
            "_model_module": "@jupyter-widgets/controls",
            "layout": "IPY_MODEL_61616b927be0416a94993bff57d10372"
          }
        },
        "7793406e7d30435bb8d19e3436623152": {
          "model_module": "@jupyter-widgets/controls",
          "model_name": "ProgressStyleModel",
          "state": {
            "_view_name": "StyleView",
            "_model_name": "ProgressStyleModel",
            "description_width": "initial",
            "_view_module": "@jupyter-widgets/base",
            "_model_module_version": "1.5.0",
            "_view_count": null,
            "_view_module_version": "1.2.0",
            "bar_color": null,
            "_model_module": "@jupyter-widgets/controls"
          }
        },
        "b9f64d175db140cba4b362b13b097310": {
          "model_module": "@jupyter-widgets/base",
          "model_name": "LayoutModel",
          "state": {
            "_view_name": "LayoutView",
            "grid_template_rows": null,
            "right": null,
            "justify_content": null,
            "_view_module": "@jupyter-widgets/base",
            "overflow": null,
            "_model_module_version": "1.2.0",
            "_view_count": null,
            "flex_flow": null,
            "width": null,
            "min_width": null,
            "border": null,
            "align_items": null,
            "bottom": null,
            "_model_module": "@jupyter-widgets/base",
            "top": null,
            "grid_column": null,
            "overflow_y": null,
            "overflow_x": null,
            "grid_auto_flow": null,
            "grid_area": null,
            "grid_template_columns": null,
            "flex": null,
            "_model_name": "LayoutModel",
            "justify_items": null,
            "grid_row": null,
            "max_height": null,
            "align_content": null,
            "visibility": null,
            "align_self": null,
            "height": null,
            "min_height": null,
            "padding": null,
            "grid_auto_rows": null,
            "grid_gap": null,
            "max_width": null,
            "order": null,
            "_view_module_version": "1.2.0",
            "grid_template_areas": null,
            "object_position": null,
            "object_fit": null,
            "grid_auto_columns": null,
            "margin": null,
            "display": null,
            "left": null
          }
        },
        "53f3978b7779424aa67131c49882e601": {
          "model_module": "@jupyter-widgets/controls",
          "model_name": "DescriptionStyleModel",
          "state": {
            "_view_name": "StyleView",
            "_model_name": "DescriptionStyleModel",
            "description_width": "",
            "_view_module": "@jupyter-widgets/base",
            "_model_module_version": "1.5.0",
            "_view_count": null,
            "_view_module_version": "1.2.0",
            "_model_module": "@jupyter-widgets/controls"
          }
        },
        "61616b927be0416a94993bff57d10372": {
          "model_module": "@jupyter-widgets/base",
          "model_name": "LayoutModel",
          "state": {
            "_view_name": "LayoutView",
            "grid_template_rows": null,
            "right": null,
            "justify_content": null,
            "_view_module": "@jupyter-widgets/base",
            "overflow": null,
            "_model_module_version": "1.2.0",
            "_view_count": null,
            "flex_flow": null,
            "width": null,
            "min_width": null,
            "border": null,
            "align_items": null,
            "bottom": null,
            "_model_module": "@jupyter-widgets/base",
            "top": null,
            "grid_column": null,
            "overflow_y": null,
            "overflow_x": null,
            "grid_auto_flow": null,
            "grid_area": null,
            "grid_template_columns": null,
            "flex": null,
            "_model_name": "LayoutModel",
            "justify_items": null,
            "grid_row": null,
            "max_height": null,
            "align_content": null,
            "visibility": null,
            "align_self": null,
            "height": null,
            "min_height": null,
            "padding": null,
            "grid_auto_rows": null,
            "grid_gap": null,
            "max_width": null,
            "order": null,
            "_view_module_version": "1.2.0",
            "grid_template_areas": null,
            "object_position": null,
            "object_fit": null,
            "grid_auto_columns": null,
            "margin": null,
            "display": null,
            "left": null
          }
        },
        "56c853e9198647a89de55a2af7c70bbf": {
          "model_module": "@jupyter-widgets/controls",
          "model_name": "HBoxModel",
          "state": {
            "_view_name": "HBoxView",
            "_dom_classes": [],
            "_model_name": "HBoxModel",
            "_view_module": "@jupyter-widgets/controls",
            "_model_module_version": "1.5.0",
            "_view_count": null,
            "_view_module_version": "1.5.0",
            "box_style": "",
            "layout": "IPY_MODEL_226a82ef6e6b4cf590c338f7c944f0c7",
            "_model_module": "@jupyter-widgets/controls",
            "children": [
              "IPY_MODEL_aee28afeac0b4da6a25e4a394cabce65",
              "IPY_MODEL_78f95a95eec944669cfdd1f2674728c2"
            ]
          }
        },
        "226a82ef6e6b4cf590c338f7c944f0c7": {
          "model_module": "@jupyter-widgets/base",
          "model_name": "LayoutModel",
          "state": {
            "_view_name": "LayoutView",
            "grid_template_rows": null,
            "right": null,
            "justify_content": null,
            "_view_module": "@jupyter-widgets/base",
            "overflow": null,
            "_model_module_version": "1.2.0",
            "_view_count": null,
            "flex_flow": null,
            "width": null,
            "min_width": null,
            "border": null,
            "align_items": null,
            "bottom": null,
            "_model_module": "@jupyter-widgets/base",
            "top": null,
            "grid_column": null,
            "overflow_y": null,
            "overflow_x": null,
            "grid_auto_flow": null,
            "grid_area": null,
            "grid_template_columns": null,
            "flex": null,
            "_model_name": "LayoutModel",
            "justify_items": null,
            "grid_row": null,
            "max_height": null,
            "align_content": null,
            "visibility": null,
            "align_self": null,
            "height": null,
            "min_height": null,
            "padding": null,
            "grid_auto_rows": null,
            "grid_gap": null,
            "max_width": null,
            "order": null,
            "_view_module_version": "1.2.0",
            "grid_template_areas": null,
            "object_position": null,
            "object_fit": null,
            "grid_auto_columns": null,
            "margin": null,
            "display": null,
            "left": null
          }
        },
        "aee28afeac0b4da6a25e4a394cabce65": {
          "model_module": "@jupyter-widgets/controls",
          "model_name": "FloatProgressModel",
          "state": {
            "_view_name": "ProgressView",
            "style": "IPY_MODEL_3cfde0d78bd04d9f9bab334fc04bdfa8",
            "_dom_classes": [],
            "description": "",
            "_model_name": "FloatProgressModel",
            "bar_style": "success",
            "max": 4542,
            "_view_module": "@jupyter-widgets/controls",
            "_model_module_version": "1.5.0",
            "value": 4542,
            "_view_count": null,
            "_view_module_version": "1.5.0",
            "orientation": "horizontal",
            "min": 0,
            "description_tooltip": null,
            "_model_module": "@jupyter-widgets/controls",
            "layout": "IPY_MODEL_9905126c7a3840d59401520319a59884"
          }
        },
        "78f95a95eec944669cfdd1f2674728c2": {
          "model_module": "@jupyter-widgets/controls",
          "model_name": "HTMLModel",
          "state": {
            "_view_name": "HTMLView",
            "style": "IPY_MODEL_47d342ce45c141f19bf6e4d6e7b2b643",
            "_dom_classes": [],
            "description": "",
            "_model_name": "HTMLModel",
            "placeholder": "​",
            "_view_module": "@jupyter-widgets/controls",
            "_model_module_version": "1.5.0",
            "value": " 5120/? [00:00&lt;00:00, 60348.17it/s]",
            "_view_count": null,
            "_view_module_version": "1.5.0",
            "description_tooltip": null,
            "_model_module": "@jupyter-widgets/controls",
            "layout": "IPY_MODEL_5b080ac2dacf4487935adf90d5dfba7e"
          }
        },
        "3cfde0d78bd04d9f9bab334fc04bdfa8": {
          "model_module": "@jupyter-widgets/controls",
          "model_name": "ProgressStyleModel",
          "state": {
            "_view_name": "StyleView",
            "_model_name": "ProgressStyleModel",
            "description_width": "initial",
            "_view_module": "@jupyter-widgets/base",
            "_model_module_version": "1.5.0",
            "_view_count": null,
            "_view_module_version": "1.2.0",
            "bar_color": null,
            "_model_module": "@jupyter-widgets/controls"
          }
        },
        "9905126c7a3840d59401520319a59884": {
          "model_module": "@jupyter-widgets/base",
          "model_name": "LayoutModel",
          "state": {
            "_view_name": "LayoutView",
            "grid_template_rows": null,
            "right": null,
            "justify_content": null,
            "_view_module": "@jupyter-widgets/base",
            "overflow": null,
            "_model_module_version": "1.2.0",
            "_view_count": null,
            "flex_flow": null,
            "width": null,
            "min_width": null,
            "border": null,
            "align_items": null,
            "bottom": null,
            "_model_module": "@jupyter-widgets/base",
            "top": null,
            "grid_column": null,
            "overflow_y": null,
            "overflow_x": null,
            "grid_auto_flow": null,
            "grid_area": null,
            "grid_template_columns": null,
            "flex": null,
            "_model_name": "LayoutModel",
            "justify_items": null,
            "grid_row": null,
            "max_height": null,
            "align_content": null,
            "visibility": null,
            "align_self": null,
            "height": null,
            "min_height": null,
            "padding": null,
            "grid_auto_rows": null,
            "grid_gap": null,
            "max_width": null,
            "order": null,
            "_view_module_version": "1.2.0",
            "grid_template_areas": null,
            "object_position": null,
            "object_fit": null,
            "grid_auto_columns": null,
            "margin": null,
            "display": null,
            "left": null
          }
        },
        "47d342ce45c141f19bf6e4d6e7b2b643": {
          "model_module": "@jupyter-widgets/controls",
          "model_name": "DescriptionStyleModel",
          "state": {
            "_view_name": "StyleView",
            "_model_name": "DescriptionStyleModel",
            "description_width": "",
            "_view_module": "@jupyter-widgets/base",
            "_model_module_version": "1.5.0",
            "_view_count": null,
            "_view_module_version": "1.2.0",
            "_model_module": "@jupyter-widgets/controls"
          }
        },
        "5b080ac2dacf4487935adf90d5dfba7e": {
          "model_module": "@jupyter-widgets/base",
          "model_name": "LayoutModel",
          "state": {
            "_view_name": "LayoutView",
            "grid_template_rows": null,
            "right": null,
            "justify_content": null,
            "_view_module": "@jupyter-widgets/base",
            "overflow": null,
            "_model_module_version": "1.2.0",
            "_view_count": null,
            "flex_flow": null,
            "width": null,
            "min_width": null,
            "border": null,
            "align_items": null,
            "bottom": null,
            "_model_module": "@jupyter-widgets/base",
            "top": null,
            "grid_column": null,
            "overflow_y": null,
            "overflow_x": null,
            "grid_auto_flow": null,
            "grid_area": null,
            "grid_template_columns": null,
            "flex": null,
            "_model_name": "LayoutModel",
            "justify_items": null,
            "grid_row": null,
            "max_height": null,
            "align_content": null,
            "visibility": null,
            "align_self": null,
            "height": null,
            "min_height": null,
            "padding": null,
            "grid_auto_rows": null,
            "grid_gap": null,
            "max_width": null,
            "order": null,
            "_view_module_version": "1.2.0",
            "grid_template_areas": null,
            "object_position": null,
            "object_fit": null,
            "grid_auto_columns": null,
            "margin": null,
            "display": null,
            "left": null
          }
        },
        "7f8712d3a4b94b488f551f6ba058e66a": {
          "model_module": "@jupyter-widgets/controls",
          "model_name": "HBoxModel",
          "state": {
            "_view_name": "HBoxView",
            "_dom_classes": [],
            "_model_name": "HBoxModel",
            "_view_module": "@jupyter-widgets/controls",
            "_model_module_version": "1.5.0",
            "_view_count": null,
            "_view_module_version": "1.5.0",
            "box_style": "",
            "layout": "IPY_MODEL_ef296b16134e4686b4fc4f440ca72560",
            "_model_module": "@jupyter-widgets/controls",
            "children": [
              "IPY_MODEL_3f4abb5bbd0f408d8fdfc651eb48be86",
              "IPY_MODEL_484c738ff3144459821e05896bb3451b"
            ]
          }
        },
        "ef296b16134e4686b4fc4f440ca72560": {
          "model_module": "@jupyter-widgets/base",
          "model_name": "LayoutModel",
          "state": {
            "_view_name": "LayoutView",
            "grid_template_rows": null,
            "right": null,
            "justify_content": null,
            "_view_module": "@jupyter-widgets/base",
            "overflow": null,
            "_model_module_version": "1.2.0",
            "_view_count": null,
            "flex_flow": null,
            "width": null,
            "min_width": null,
            "border": null,
            "align_items": null,
            "bottom": null,
            "_model_module": "@jupyter-widgets/base",
            "top": null,
            "grid_column": null,
            "overflow_y": null,
            "overflow_x": null,
            "grid_auto_flow": null,
            "grid_area": null,
            "grid_template_columns": null,
            "flex": null,
            "_model_name": "LayoutModel",
            "justify_items": null,
            "grid_row": null,
            "max_height": null,
            "align_content": null,
            "visibility": null,
            "align_self": null,
            "height": null,
            "min_height": null,
            "padding": null,
            "grid_auto_rows": null,
            "grid_gap": null,
            "max_width": null,
            "order": null,
            "_view_module_version": "1.2.0",
            "grid_template_areas": null,
            "object_position": null,
            "object_fit": null,
            "grid_auto_columns": null,
            "margin": null,
            "display": null,
            "left": null
          }
        },
        "3f4abb5bbd0f408d8fdfc651eb48be86": {
          "model_module": "@jupyter-widgets/controls",
          "model_name": "FloatProgressModel",
          "state": {
            "_view_name": "ProgressView",
            "style": "IPY_MODEL_9f70dd9698404ba789cd4aefd658a46d",
            "_dom_classes": [],
            "description": "",
            "_model_name": "FloatProgressModel",
            "bar_style": "success",
            "max": 9912422,
            "_view_module": "@jupyter-widgets/controls",
            "_model_module_version": "1.5.0",
            "value": 9912422,
            "_view_count": null,
            "_view_module_version": "1.5.0",
            "orientation": "horizontal",
            "min": 0,
            "description_tooltip": null,
            "_model_module": "@jupyter-widgets/controls",
            "layout": "IPY_MODEL_42dd429020b944358aad1c6806d05a92"
          }
        },
        "484c738ff3144459821e05896bb3451b": {
          "model_module": "@jupyter-widgets/controls",
          "model_name": "HTMLModel",
          "state": {
            "_view_name": "HTMLView",
            "style": "IPY_MODEL_e7324bb1433a462b8073c77d065112ce",
            "_dom_classes": [],
            "description": "",
            "_model_name": "HTMLModel",
            "placeholder": "​",
            "_view_module": "@jupyter-widgets/controls",
            "_model_module_version": "1.5.0",
            "value": " 9913344/? [00:00&lt;00:00, 11640465.11it/s]",
            "_view_count": null,
            "_view_module_version": "1.5.0",
            "description_tooltip": null,
            "_model_module": "@jupyter-widgets/controls",
            "layout": "IPY_MODEL_f7f08ce67087490a98cfa353f67e416e"
          }
        },
        "9f70dd9698404ba789cd4aefd658a46d": {
          "model_module": "@jupyter-widgets/controls",
          "model_name": "ProgressStyleModel",
          "state": {
            "_view_name": "StyleView",
            "_model_name": "ProgressStyleModel",
            "description_width": "initial",
            "_view_module": "@jupyter-widgets/base",
            "_model_module_version": "1.5.0",
            "_view_count": null,
            "_view_module_version": "1.2.0",
            "bar_color": null,
            "_model_module": "@jupyter-widgets/controls"
          }
        },
        "42dd429020b944358aad1c6806d05a92": {
          "model_module": "@jupyter-widgets/base",
          "model_name": "LayoutModel",
          "state": {
            "_view_name": "LayoutView",
            "grid_template_rows": null,
            "right": null,
            "justify_content": null,
            "_view_module": "@jupyter-widgets/base",
            "overflow": null,
            "_model_module_version": "1.2.0",
            "_view_count": null,
            "flex_flow": null,
            "width": null,
            "min_width": null,
            "border": null,
            "align_items": null,
            "bottom": null,
            "_model_module": "@jupyter-widgets/base",
            "top": null,
            "grid_column": null,
            "overflow_y": null,
            "overflow_x": null,
            "grid_auto_flow": null,
            "grid_area": null,
            "grid_template_columns": null,
            "flex": null,
            "_model_name": "LayoutModel",
            "justify_items": null,
            "grid_row": null,
            "max_height": null,
            "align_content": null,
            "visibility": null,
            "align_self": null,
            "height": null,
            "min_height": null,
            "padding": null,
            "grid_auto_rows": null,
            "grid_gap": null,
            "max_width": null,
            "order": null,
            "_view_module_version": "1.2.0",
            "grid_template_areas": null,
            "object_position": null,
            "object_fit": null,
            "grid_auto_columns": null,
            "margin": null,
            "display": null,
            "left": null
          }
        },
        "e7324bb1433a462b8073c77d065112ce": {
          "model_module": "@jupyter-widgets/controls",
          "model_name": "DescriptionStyleModel",
          "state": {
            "_view_name": "StyleView",
            "_model_name": "DescriptionStyleModel",
            "description_width": "",
            "_view_module": "@jupyter-widgets/base",
            "_model_module_version": "1.5.0",
            "_view_count": null,
            "_view_module_version": "1.2.0",
            "_model_module": "@jupyter-widgets/controls"
          }
        },
        "f7f08ce67087490a98cfa353f67e416e": {
          "model_module": "@jupyter-widgets/base",
          "model_name": "LayoutModel",
          "state": {
            "_view_name": "LayoutView",
            "grid_template_rows": null,
            "right": null,
            "justify_content": null,
            "_view_module": "@jupyter-widgets/base",
            "overflow": null,
            "_model_module_version": "1.2.0",
            "_view_count": null,
            "flex_flow": null,
            "width": null,
            "min_width": null,
            "border": null,
            "align_items": null,
            "bottom": null,
            "_model_module": "@jupyter-widgets/base",
            "top": null,
            "grid_column": null,
            "overflow_y": null,
            "overflow_x": null,
            "grid_auto_flow": null,
            "grid_area": null,
            "grid_template_columns": null,
            "flex": null,
            "_model_name": "LayoutModel",
            "justify_items": null,
            "grid_row": null,
            "max_height": null,
            "align_content": null,
            "visibility": null,
            "align_self": null,
            "height": null,
            "min_height": null,
            "padding": null,
            "grid_auto_rows": null,
            "grid_gap": null,
            "max_width": null,
            "order": null,
            "_view_module_version": "1.2.0",
            "grid_template_areas": null,
            "object_position": null,
            "object_fit": null,
            "grid_auto_columns": null,
            "margin": null,
            "display": null,
            "left": null
          }
        },
        "90da9c7dd70d48fcbfd26d09ccb99864": {
          "model_module": "@jupyter-widgets/controls",
          "model_name": "HBoxModel",
          "state": {
            "_view_name": "HBoxView",
            "_dom_classes": [],
            "_model_name": "HBoxModel",
            "_view_module": "@jupyter-widgets/controls",
            "_model_module_version": "1.5.0",
            "_view_count": null,
            "_view_module_version": "1.5.0",
            "box_style": "",
            "layout": "IPY_MODEL_a81b848aa2e4428fbb7d7f3f2d2c3a9d",
            "_model_module": "@jupyter-widgets/controls",
            "children": [
              "IPY_MODEL_bd6b2b0ae75f48e296a0daf803bbb5dc",
              "IPY_MODEL_b34d6674068b45b5ba60c8782b363863"
            ]
          }
        },
        "a81b848aa2e4428fbb7d7f3f2d2c3a9d": {
          "model_module": "@jupyter-widgets/base",
          "model_name": "LayoutModel",
          "state": {
            "_view_name": "LayoutView",
            "grid_template_rows": null,
            "right": null,
            "justify_content": null,
            "_view_module": "@jupyter-widgets/base",
            "overflow": null,
            "_model_module_version": "1.2.0",
            "_view_count": null,
            "flex_flow": null,
            "width": null,
            "min_width": null,
            "border": null,
            "align_items": null,
            "bottom": null,
            "_model_module": "@jupyter-widgets/base",
            "top": null,
            "grid_column": null,
            "overflow_y": null,
            "overflow_x": null,
            "grid_auto_flow": null,
            "grid_area": null,
            "grid_template_columns": null,
            "flex": null,
            "_model_name": "LayoutModel",
            "justify_items": null,
            "grid_row": null,
            "max_height": null,
            "align_content": null,
            "visibility": null,
            "align_self": null,
            "height": null,
            "min_height": null,
            "padding": null,
            "grid_auto_rows": null,
            "grid_gap": null,
            "max_width": null,
            "order": null,
            "_view_module_version": "1.2.0",
            "grid_template_areas": null,
            "object_position": null,
            "object_fit": null,
            "grid_auto_columns": null,
            "margin": null,
            "display": null,
            "left": null
          }
        },
        "bd6b2b0ae75f48e296a0daf803bbb5dc": {
          "model_module": "@jupyter-widgets/controls",
          "model_name": "FloatProgressModel",
          "state": {
            "_view_name": "ProgressView",
            "style": "IPY_MODEL_26a9504f86994e43913c57de69eb99f6",
            "_dom_classes": [],
            "description": "",
            "_model_name": "FloatProgressModel",
            "bar_style": "success",
            "max": 28881,
            "_view_module": "@jupyter-widgets/controls",
            "_model_module_version": "1.5.0",
            "value": 28881,
            "_view_count": null,
            "_view_module_version": "1.5.0",
            "orientation": "horizontal",
            "min": 0,
            "description_tooltip": null,
            "_model_module": "@jupyter-widgets/controls",
            "layout": "IPY_MODEL_d3f63d964d5d4ff399d25fd839343143"
          }
        },
        "b34d6674068b45b5ba60c8782b363863": {
          "model_module": "@jupyter-widgets/controls",
          "model_name": "HTMLModel",
          "state": {
            "_view_name": "HTMLView",
            "style": "IPY_MODEL_814026fa92eb4dba881283e577b92fee",
            "_dom_classes": [],
            "description": "",
            "_model_name": "HTMLModel",
            "placeholder": "​",
            "_view_module": "@jupyter-widgets/controls",
            "_model_module_version": "1.5.0",
            "value": " 29696/? [00:00&lt;00:00, 151985.45it/s]",
            "_view_count": null,
            "_view_module_version": "1.5.0",
            "description_tooltip": null,
            "_model_module": "@jupyter-widgets/controls",
            "layout": "IPY_MODEL_e3f9428ea1224019a9d4f8c8039d30e1"
          }
        },
        "26a9504f86994e43913c57de69eb99f6": {
          "model_module": "@jupyter-widgets/controls",
          "model_name": "ProgressStyleModel",
          "state": {
            "_view_name": "StyleView",
            "_model_name": "ProgressStyleModel",
            "description_width": "initial",
            "_view_module": "@jupyter-widgets/base",
            "_model_module_version": "1.5.0",
            "_view_count": null,
            "_view_module_version": "1.2.0",
            "bar_color": null,
            "_model_module": "@jupyter-widgets/controls"
          }
        },
        "d3f63d964d5d4ff399d25fd839343143": {
          "model_module": "@jupyter-widgets/base",
          "model_name": "LayoutModel",
          "state": {
            "_view_name": "LayoutView",
            "grid_template_rows": null,
            "right": null,
            "justify_content": null,
            "_view_module": "@jupyter-widgets/base",
            "overflow": null,
            "_model_module_version": "1.2.0",
            "_view_count": null,
            "flex_flow": null,
            "width": null,
            "min_width": null,
            "border": null,
            "align_items": null,
            "bottom": null,
            "_model_module": "@jupyter-widgets/base",
            "top": null,
            "grid_column": null,
            "overflow_y": null,
            "overflow_x": null,
            "grid_auto_flow": null,
            "grid_area": null,
            "grid_template_columns": null,
            "flex": null,
            "_model_name": "LayoutModel",
            "justify_items": null,
            "grid_row": null,
            "max_height": null,
            "align_content": null,
            "visibility": null,
            "align_self": null,
            "height": null,
            "min_height": null,
            "padding": null,
            "grid_auto_rows": null,
            "grid_gap": null,
            "max_width": null,
            "order": null,
            "_view_module_version": "1.2.0",
            "grid_template_areas": null,
            "object_position": null,
            "object_fit": null,
            "grid_auto_columns": null,
            "margin": null,
            "display": null,
            "left": null
          }
        },
        "814026fa92eb4dba881283e577b92fee": {
          "model_module": "@jupyter-widgets/controls",
          "model_name": "DescriptionStyleModel",
          "state": {
            "_view_name": "StyleView",
            "_model_name": "DescriptionStyleModel",
            "description_width": "",
            "_view_module": "@jupyter-widgets/base",
            "_model_module_version": "1.5.0",
            "_view_count": null,
            "_view_module_version": "1.2.0",
            "_model_module": "@jupyter-widgets/controls"
          }
        },
        "e3f9428ea1224019a9d4f8c8039d30e1": {
          "model_module": "@jupyter-widgets/base",
          "model_name": "LayoutModel",
          "state": {
            "_view_name": "LayoutView",
            "grid_template_rows": null,
            "right": null,
            "justify_content": null,
            "_view_module": "@jupyter-widgets/base",
            "overflow": null,
            "_model_module_version": "1.2.0",
            "_view_count": null,
            "flex_flow": null,
            "width": null,
            "min_width": null,
            "border": null,
            "align_items": null,
            "bottom": null,
            "_model_module": "@jupyter-widgets/base",
            "top": null,
            "grid_column": null,
            "overflow_y": null,
            "overflow_x": null,
            "grid_auto_flow": null,
            "grid_area": null,
            "grid_template_columns": null,
            "flex": null,
            "_model_name": "LayoutModel",
            "justify_items": null,
            "grid_row": null,
            "max_height": null,
            "align_content": null,
            "visibility": null,
            "align_self": null,
            "height": null,
            "min_height": null,
            "padding": null,
            "grid_auto_rows": null,
            "grid_gap": null,
            "max_width": null,
            "order": null,
            "_view_module_version": "1.2.0",
            "grid_template_areas": null,
            "object_position": null,
            "object_fit": null,
            "grid_auto_columns": null,
            "margin": null,
            "display": null,
            "left": null
          }
        },
        "460529dff95e410582682d1896aff15c": {
          "model_module": "@jupyter-widgets/controls",
          "model_name": "HBoxModel",
          "state": {
            "_view_name": "HBoxView",
            "_dom_classes": [],
            "_model_name": "HBoxModel",
            "_view_module": "@jupyter-widgets/controls",
            "_model_module_version": "1.5.0",
            "_view_count": null,
            "_view_module_version": "1.5.0",
            "box_style": "",
            "layout": "IPY_MODEL_b07d9aa5c83141a6a1545e8ffe1626b3",
            "_model_module": "@jupyter-widgets/controls",
            "children": [
              "IPY_MODEL_91cf85af91e14bb694742b0d7d9c6547",
              "IPY_MODEL_e3c093ac5b094ab8a58a5754a5514638"
            ]
          }
        },
        "b07d9aa5c83141a6a1545e8ffe1626b3": {
          "model_module": "@jupyter-widgets/base",
          "model_name": "LayoutModel",
          "state": {
            "_view_name": "LayoutView",
            "grid_template_rows": null,
            "right": null,
            "justify_content": null,
            "_view_module": "@jupyter-widgets/base",
            "overflow": null,
            "_model_module_version": "1.2.0",
            "_view_count": null,
            "flex_flow": null,
            "width": null,
            "min_width": null,
            "border": null,
            "align_items": null,
            "bottom": null,
            "_model_module": "@jupyter-widgets/base",
            "top": null,
            "grid_column": null,
            "overflow_y": null,
            "overflow_x": null,
            "grid_auto_flow": null,
            "grid_area": null,
            "grid_template_columns": null,
            "flex": null,
            "_model_name": "LayoutModel",
            "justify_items": null,
            "grid_row": null,
            "max_height": null,
            "align_content": null,
            "visibility": null,
            "align_self": null,
            "height": null,
            "min_height": null,
            "padding": null,
            "grid_auto_rows": null,
            "grid_gap": null,
            "max_width": null,
            "order": null,
            "_view_module_version": "1.2.0",
            "grid_template_areas": null,
            "object_position": null,
            "object_fit": null,
            "grid_auto_columns": null,
            "margin": null,
            "display": null,
            "left": null
          }
        },
        "91cf85af91e14bb694742b0d7d9c6547": {
          "model_module": "@jupyter-widgets/controls",
          "model_name": "FloatProgressModel",
          "state": {
            "_view_name": "ProgressView",
            "style": "IPY_MODEL_c59364be1a8e46ed939a10c51f618a26",
            "_dom_classes": [],
            "description": "",
            "_model_name": "FloatProgressModel",
            "bar_style": "success",
            "max": 1648877,
            "_view_module": "@jupyter-widgets/controls",
            "_model_module_version": "1.5.0",
            "value": 1648877,
            "_view_count": null,
            "_view_module_version": "1.5.0",
            "orientation": "horizontal",
            "min": 0,
            "description_tooltip": null,
            "_model_module": "@jupyter-widgets/controls",
            "layout": "IPY_MODEL_25347ec8c4244f639ee31b18efec4db3"
          }
        },
        "e3c093ac5b094ab8a58a5754a5514638": {
          "model_module": "@jupyter-widgets/controls",
          "model_name": "HTMLModel",
          "state": {
            "_view_name": "HTMLView",
            "style": "IPY_MODEL_2c61681f3d0a4790a885826dd8ce0a26",
            "_dom_classes": [],
            "description": "",
            "_model_name": "HTMLModel",
            "placeholder": "​",
            "_view_module": "@jupyter-widgets/controls",
            "_model_module_version": "1.5.0",
            "value": " 1649664/? [00:00&lt;00:00, 3306715.14it/s]",
            "_view_count": null,
            "_view_module_version": "1.5.0",
            "description_tooltip": null,
            "_model_module": "@jupyter-widgets/controls",
            "layout": "IPY_MODEL_f4f77251088841159930b17213389603"
          }
        },
        "c59364be1a8e46ed939a10c51f618a26": {
          "model_module": "@jupyter-widgets/controls",
          "model_name": "ProgressStyleModel",
          "state": {
            "_view_name": "StyleView",
            "_model_name": "ProgressStyleModel",
            "description_width": "initial",
            "_view_module": "@jupyter-widgets/base",
            "_model_module_version": "1.5.0",
            "_view_count": null,
            "_view_module_version": "1.2.0",
            "bar_color": null,
            "_model_module": "@jupyter-widgets/controls"
          }
        },
        "25347ec8c4244f639ee31b18efec4db3": {
          "model_module": "@jupyter-widgets/base",
          "model_name": "LayoutModel",
          "state": {
            "_view_name": "LayoutView",
            "grid_template_rows": null,
            "right": null,
            "justify_content": null,
            "_view_module": "@jupyter-widgets/base",
            "overflow": null,
            "_model_module_version": "1.2.0",
            "_view_count": null,
            "flex_flow": null,
            "width": null,
            "min_width": null,
            "border": null,
            "align_items": null,
            "bottom": null,
            "_model_module": "@jupyter-widgets/base",
            "top": null,
            "grid_column": null,
            "overflow_y": null,
            "overflow_x": null,
            "grid_auto_flow": null,
            "grid_area": null,
            "grid_template_columns": null,
            "flex": null,
            "_model_name": "LayoutModel",
            "justify_items": null,
            "grid_row": null,
            "max_height": null,
            "align_content": null,
            "visibility": null,
            "align_self": null,
            "height": null,
            "min_height": null,
            "padding": null,
            "grid_auto_rows": null,
            "grid_gap": null,
            "max_width": null,
            "order": null,
            "_view_module_version": "1.2.0",
            "grid_template_areas": null,
            "object_position": null,
            "object_fit": null,
            "grid_auto_columns": null,
            "margin": null,
            "display": null,
            "left": null
          }
        },
        "2c61681f3d0a4790a885826dd8ce0a26": {
          "model_module": "@jupyter-widgets/controls",
          "model_name": "DescriptionStyleModel",
          "state": {
            "_view_name": "StyleView",
            "_model_name": "DescriptionStyleModel",
            "description_width": "",
            "_view_module": "@jupyter-widgets/base",
            "_model_module_version": "1.5.0",
            "_view_count": null,
            "_view_module_version": "1.2.0",
            "_model_module": "@jupyter-widgets/controls"
          }
        },
        "f4f77251088841159930b17213389603": {
          "model_module": "@jupyter-widgets/base",
          "model_name": "LayoutModel",
          "state": {
            "_view_name": "LayoutView",
            "grid_template_rows": null,
            "right": null,
            "justify_content": null,
            "_view_module": "@jupyter-widgets/base",
            "overflow": null,
            "_model_module_version": "1.2.0",
            "_view_count": null,
            "flex_flow": null,
            "width": null,
            "min_width": null,
            "border": null,
            "align_items": null,
            "bottom": null,
            "_model_module": "@jupyter-widgets/base",
            "top": null,
            "grid_column": null,
            "overflow_y": null,
            "overflow_x": null,
            "grid_auto_flow": null,
            "grid_area": null,
            "grid_template_columns": null,
            "flex": null,
            "_model_name": "LayoutModel",
            "justify_items": null,
            "grid_row": null,
            "max_height": null,
            "align_content": null,
            "visibility": null,
            "align_self": null,
            "height": null,
            "min_height": null,
            "padding": null,
            "grid_auto_rows": null,
            "grid_gap": null,
            "max_width": null,
            "order": null,
            "_view_module_version": "1.2.0",
            "grid_template_areas": null,
            "object_position": null,
            "object_fit": null,
            "grid_auto_columns": null,
            "margin": null,
            "display": null,
            "left": null
          }
        },
        "915e0100e76e42cda2d4d9b2b18b1561": {
          "model_module": "@jupyter-widgets/controls",
          "model_name": "HBoxModel",
          "state": {
            "_view_name": "HBoxView",
            "_dom_classes": [],
            "_model_name": "HBoxModel",
            "_view_module": "@jupyter-widgets/controls",
            "_model_module_version": "1.5.0",
            "_view_count": null,
            "_view_module_version": "1.5.0",
            "box_style": "",
            "layout": "IPY_MODEL_eb37647ff66b43cd9f24944d32c6b717",
            "_model_module": "@jupyter-widgets/controls",
            "children": [
              "IPY_MODEL_dd68c4de67994e22b73b85d46ae89b3d",
              "IPY_MODEL_945f1a1b753b481f83ae291bd7ccd33b"
            ]
          }
        },
        "eb37647ff66b43cd9f24944d32c6b717": {
          "model_module": "@jupyter-widgets/base",
          "model_name": "LayoutModel",
          "state": {
            "_view_name": "LayoutView",
            "grid_template_rows": null,
            "right": null,
            "justify_content": null,
            "_view_module": "@jupyter-widgets/base",
            "overflow": null,
            "_model_module_version": "1.2.0",
            "_view_count": null,
            "flex_flow": null,
            "width": null,
            "min_width": null,
            "border": null,
            "align_items": null,
            "bottom": null,
            "_model_module": "@jupyter-widgets/base",
            "top": null,
            "grid_column": null,
            "overflow_y": null,
            "overflow_x": null,
            "grid_auto_flow": null,
            "grid_area": null,
            "grid_template_columns": null,
            "flex": null,
            "_model_name": "LayoutModel",
            "justify_items": null,
            "grid_row": null,
            "max_height": null,
            "align_content": null,
            "visibility": null,
            "align_self": null,
            "height": null,
            "min_height": null,
            "padding": null,
            "grid_auto_rows": null,
            "grid_gap": null,
            "max_width": null,
            "order": null,
            "_view_module_version": "1.2.0",
            "grid_template_areas": null,
            "object_position": null,
            "object_fit": null,
            "grid_auto_columns": null,
            "margin": null,
            "display": null,
            "left": null
          }
        },
        "dd68c4de67994e22b73b85d46ae89b3d": {
          "model_module": "@jupyter-widgets/controls",
          "model_name": "FloatProgressModel",
          "state": {
            "_view_name": "ProgressView",
            "style": "IPY_MODEL_ecf667d7cb2e4c5fb61b4e3c34780b71",
            "_dom_classes": [],
            "description": "",
            "_model_name": "FloatProgressModel",
            "bar_style": "success",
            "max": 4542,
            "_view_module": "@jupyter-widgets/controls",
            "_model_module_version": "1.5.0",
            "value": 4542,
            "_view_count": null,
            "_view_module_version": "1.5.0",
            "orientation": "horizontal",
            "min": 0,
            "description_tooltip": null,
            "_model_module": "@jupyter-widgets/controls",
            "layout": "IPY_MODEL_348b8125dd8e41a08e653e63e9f1e888"
          }
        },
        "945f1a1b753b481f83ae291bd7ccd33b": {
          "model_module": "@jupyter-widgets/controls",
          "model_name": "HTMLModel",
          "state": {
            "_view_name": "HTMLView",
            "style": "IPY_MODEL_b81006b34303432791692c6732ec8d7b",
            "_dom_classes": [],
            "description": "",
            "_model_name": "HTMLModel",
            "placeholder": "​",
            "_view_module": "@jupyter-widgets/controls",
            "_model_module_version": "1.5.0",
            "value": " 5120/? [00:00&lt;00:00, 23301.33it/s]",
            "_view_count": null,
            "_view_module_version": "1.5.0",
            "description_tooltip": null,
            "_model_module": "@jupyter-widgets/controls",
            "layout": "IPY_MODEL_8df5be26676f4c7fa229c5e7e2dfac08"
          }
        },
        "ecf667d7cb2e4c5fb61b4e3c34780b71": {
          "model_module": "@jupyter-widgets/controls",
          "model_name": "ProgressStyleModel",
          "state": {
            "_view_name": "StyleView",
            "_model_name": "ProgressStyleModel",
            "description_width": "initial",
            "_view_module": "@jupyter-widgets/base",
            "_model_module_version": "1.5.0",
            "_view_count": null,
            "_view_module_version": "1.2.0",
            "bar_color": null,
            "_model_module": "@jupyter-widgets/controls"
          }
        },
        "348b8125dd8e41a08e653e63e9f1e888": {
          "model_module": "@jupyter-widgets/base",
          "model_name": "LayoutModel",
          "state": {
            "_view_name": "LayoutView",
            "grid_template_rows": null,
            "right": null,
            "justify_content": null,
            "_view_module": "@jupyter-widgets/base",
            "overflow": null,
            "_model_module_version": "1.2.0",
            "_view_count": null,
            "flex_flow": null,
            "width": null,
            "min_width": null,
            "border": null,
            "align_items": null,
            "bottom": null,
            "_model_module": "@jupyter-widgets/base",
            "top": null,
            "grid_column": null,
            "overflow_y": null,
            "overflow_x": null,
            "grid_auto_flow": null,
            "grid_area": null,
            "grid_template_columns": null,
            "flex": null,
            "_model_name": "LayoutModel",
            "justify_items": null,
            "grid_row": null,
            "max_height": null,
            "align_content": null,
            "visibility": null,
            "align_self": null,
            "height": null,
            "min_height": null,
            "padding": null,
            "grid_auto_rows": null,
            "grid_gap": null,
            "max_width": null,
            "order": null,
            "_view_module_version": "1.2.0",
            "grid_template_areas": null,
            "object_position": null,
            "object_fit": null,
            "grid_auto_columns": null,
            "margin": null,
            "display": null,
            "left": null
          }
        },
        "b81006b34303432791692c6732ec8d7b": {
          "model_module": "@jupyter-widgets/controls",
          "model_name": "DescriptionStyleModel",
          "state": {
            "_view_name": "StyleView",
            "_model_name": "DescriptionStyleModel",
            "description_width": "",
            "_view_module": "@jupyter-widgets/base",
            "_model_module_version": "1.5.0",
            "_view_count": null,
            "_view_module_version": "1.2.0",
            "_model_module": "@jupyter-widgets/controls"
          }
        },
        "8df5be26676f4c7fa229c5e7e2dfac08": {
          "model_module": "@jupyter-widgets/base",
          "model_name": "LayoutModel",
          "state": {
            "_view_name": "LayoutView",
            "grid_template_rows": null,
            "right": null,
            "justify_content": null,
            "_view_module": "@jupyter-widgets/base",
            "overflow": null,
            "_model_module_version": "1.2.0",
            "_view_count": null,
            "flex_flow": null,
            "width": null,
            "min_width": null,
            "border": null,
            "align_items": null,
            "bottom": null,
            "_model_module": "@jupyter-widgets/base",
            "top": null,
            "grid_column": null,
            "overflow_y": null,
            "overflow_x": null,
            "grid_auto_flow": null,
            "grid_area": null,
            "grid_template_columns": null,
            "flex": null,
            "_model_name": "LayoutModel",
            "justify_items": null,
            "grid_row": null,
            "max_height": null,
            "align_content": null,
            "visibility": null,
            "align_self": null,
            "height": null,
            "min_height": null,
            "padding": null,
            "grid_auto_rows": null,
            "grid_gap": null,
            "max_width": null,
            "order": null,
            "_view_module_version": "1.2.0",
            "grid_template_areas": null,
            "object_position": null,
            "object_fit": null,
            "grid_auto_columns": null,
            "margin": null,
            "display": null,
            "left": null
          }
        }
      }
    },
    "language_info": {
      "name": "python"
    }
  },
  "cells": [
    {
      "cell_type": "markdown",
      "metadata": {
        "id": "view-in-github"
      },
      "source": [
        "<a href=\"https://colab.research.google.com/github/tushar-semwal/fedperf/blob/main/Vineeth/Local_Rounds/FedProx/FedProx.ipynb\" target=\"_parent\"><img src=\"https://colab.research.google.com/assets/colab-badge.svg\" alt=\"Open In Colab\"/></a>"
      ]
    },
    {
      "cell_type": "code",
      "metadata": {
        "colab": {
          "base_uri": "https://localhost:8080/"
        },
        "id": "yKcpjZLrQQJV",
        "outputId": "eebde3b8-134e-48e0-ade8-74fb54672f7b"
      },
      "source": [
        "%%capture output\n",
        "try:\n",
        "    from google.colab import drive\n",
        "    drive.mount('/content/drive')\n",
        "\n",
        "    import os\n",
        "    path = '/content/drive/MyDrive/Colab Notebooks/OpenMined/'\n",
        "    os.makedirs(path, exist_ok=True)\n",
        "except:\n",
        "    path = './'"
      ],
      "execution_count": 1,
      "outputs": [
        {
          "output_type": "stream",
          "text": [
            "Go to this URL in a browser: https://accounts.google.com/o/oauth2/auth?client_id=947318989803-6bn6qk8qdgf4n4g3pfee6491hc0brc4i.apps.googleusercontent.com&redirect_uri=urn%3aietf%3awg%3aoauth%3a2.0%3aoob&scope=email%20https%3a%2f%2fwww.googleapis.com%2fauth%2fdocs.test%20https%3a%2f%2fwww.googleapis.com%2fauth%2fdrive%20https%3a%2f%2fwww.googleapis.com%2fauth%2fdrive.photos.readonly%20https%3a%2f%2fwww.googleapis.com%2fauth%2fpeopleapi.readonly%20https%3a%2f%2fwww.googleapis.com%2fauth%2fdrive.activity.readonly%20https%3a%2f%2fwww.googleapis.com%2fauth%2fexperimentsandconfigs%20https%3a%2f%2fwww.googleapis.com%2fauth%2fphotos.native&response_type=code\n",
            "\n",
            "Enter your authorization code:\n",
            "4/1AY0e-g7T3PphzU2LVNMosuHaZc5TbWzFNeeb1HIw0FHCIydKAlXmY_Rt0Go\n"
          ],
          "name": "stdout"
        }
      ]
    },
    {
      "cell_type": "markdown",
      "metadata": {
        "id": "-0_nKpfq2h1R"
      },
      "source": [
        "## Imports"
      ]
    },
    {
      "cell_type": "code",
      "metadata": {
        "colab": {
          "base_uri": "https://localhost:8080/"
        },
        "id": "DLLNM9X2JbQ8",
        "outputId": "642ab1e0-10c7-49c6-a98b-82dc0ca70ca7"
      },
      "source": [
        "%load_ext tensorboard\n",
        "import os\n",
        "import numpy as np\n",
        "import matplotlib\n",
        "import matplotlib.pyplot as plt\n",
        "import copy\n",
        "import random\n",
        "import time\n",
        "\n",
        "import torch\n",
        "import torch.nn as nn\n",
        "import torch.nn.functional as F\n",
        "\n",
        "from torch.utils.data import Dataset, DataLoader\n",
        "from torch.utils.tensorboard import SummaryWriter\n",
        "from torchvision import transforms, utils, datasets\n",
        "from torchsummary import summary\n",
        "\n",
        "\n",
        "# Check assigned GPU\n",
        "gpu_info = !nvidia-smi\n",
        "gpu_info = '\\n'.join(gpu_info)\n",
        "if gpu_info.find('failed') >= 0:\n",
        "  print('Select the Runtime > \"Change runtime type\" menu to enable a GPU accelerator, ')\n",
        "  print('and then re-execute this cell.')\n",
        "else:\n",
        "  print(gpu_info)\n",
        "\n",
        "# set manual seed for reproducibility\n",
        "seed = 42\n",
        "\n",
        "# general reproducibility\n",
        "random.seed(seed)\n",
        "np.random.seed(seed)\n",
        "torch.manual_seed(seed)\n",
        "\n",
        "# gpu training specific\n",
        "torch.backends.cudnn.deterministic = True\n",
        "torch.backends.cudnn.benchmark = False"
      ],
      "execution_count": 2,
      "outputs": [
        {
          "output_type": "stream",
          "text": [
            "Thu Apr 22 08:23:17 2021       \n",
            "+-----------------------------------------------------------------------------+\n",
            "| NVIDIA-SMI 460.67       Driver Version: 460.32.03    CUDA Version: 11.2     |\n",
            "|-------------------------------+----------------------+----------------------+\n",
            "| GPU  Name        Persistence-M| Bus-Id        Disp.A | Volatile Uncorr. ECC |\n",
            "| Fan  Temp  Perf  Pwr:Usage/Cap|         Memory-Usage | GPU-Util  Compute M. |\n",
            "|                               |                      |               MIG M. |\n",
            "|===============================+======================+======================|\n",
            "|   0  Tesla T4            Off  | 00000000:00:04.0 Off |                    0 |\n",
            "| N/A   33C    P8     9W /  70W |      0MiB / 15109MiB |      0%      Default |\n",
            "|                               |                      |                  N/A |\n",
            "+-------------------------------+----------------------+----------------------+\n",
            "                                                                               \n",
            "+-----------------------------------------------------------------------------+\n",
            "| Processes:                                                                  |\n",
            "|  GPU   GI   CI        PID   Type   Process name                  GPU Memory |\n",
            "|        ID   ID                                                   Usage      |\n",
            "|=============================================================================|\n",
            "|  No running processes found                                                 |\n",
            "+-----------------------------------------------------------------------------+\n"
          ],
          "name": "stdout"
        }
      ]
    },
    {
      "cell_type": "markdown",
      "metadata": {
        "id": "NY4eWzGiL6Mj"
      },
      "source": [
        "## Load the MNIST Dataset"
      ]
    },
    {
      "cell_type": "code",
      "metadata": {
        "id": "41lWlknqo3pI"
      },
      "source": [
        "torch.cuda.set_device('cuda:0')"
      ],
      "execution_count": 3,
      "outputs": []
    },
    {
      "cell_type": "code",
      "metadata": {
        "colab": {
          "base_uri": "https://localhost:8080/",
          "height": 1000,
          "referenced_widgets": [
            "0201fa9b92524fa0aa7648fc3d3505ab",
            "6d680ba0c7134644987b5e943e89b8ce",
            "83c2befda5224a54b3e2e6f456744cf2",
            "2afdb38c30bb4179a4eae646a7a5905b",
            "e8233b1e48f849c688c68bd6948834a9",
            "e9e6b3363f224336b711fa71629f34b9",
            "8f5afb42252e42349fd22185c9de86e2",
            "49263ec1cb2b41bfac38bc8b5659c9e0",
            "469d86eab96046b68e24a6cbd5bbcf56",
            "da5b979ce99740f7acecab931f35b1fd",
            "20df4c94acdf47828889d73c74176b35",
            "277800de1b874fdc867af543863d1d14",
            "a01d198ae2044ccd8957595afd012e95",
            "6ad52053d3c94141b34e0643288c8bee",
            "6295cfbc9bf0453ba703e778ce37edd5",
            "82285dc241e54f9790113a06a76d22d2",
            "2112aeb90b1546259e223b43d5a49a12",
            "8d54e9d14bd94ca89ca55bb918ebcce4",
            "fc2a37c08abd45ca9c0dc58056621821",
            "a8ebb3d90fb7444ab3b1d49a0cc2ba0d",
            "7793406e7d30435bb8d19e3436623152",
            "b9f64d175db140cba4b362b13b097310",
            "53f3978b7779424aa67131c49882e601",
            "61616b927be0416a94993bff57d10372",
            "56c853e9198647a89de55a2af7c70bbf",
            "226a82ef6e6b4cf590c338f7c944f0c7",
            "aee28afeac0b4da6a25e4a394cabce65",
            "78f95a95eec944669cfdd1f2674728c2",
            "3cfde0d78bd04d9f9bab334fc04bdfa8",
            "9905126c7a3840d59401520319a59884",
            "47d342ce45c141f19bf6e4d6e7b2b643",
            "5b080ac2dacf4487935adf90d5dfba7e",
            "7f8712d3a4b94b488f551f6ba058e66a",
            "ef296b16134e4686b4fc4f440ca72560",
            "3f4abb5bbd0f408d8fdfc651eb48be86",
            "484c738ff3144459821e05896bb3451b",
            "9f70dd9698404ba789cd4aefd658a46d",
            "42dd429020b944358aad1c6806d05a92",
            "e7324bb1433a462b8073c77d065112ce",
            "f7f08ce67087490a98cfa353f67e416e",
            "90da9c7dd70d48fcbfd26d09ccb99864",
            "a81b848aa2e4428fbb7d7f3f2d2c3a9d",
            "bd6b2b0ae75f48e296a0daf803bbb5dc",
            "b34d6674068b45b5ba60c8782b363863",
            "26a9504f86994e43913c57de69eb99f6",
            "d3f63d964d5d4ff399d25fd839343143",
            "814026fa92eb4dba881283e577b92fee",
            "e3f9428ea1224019a9d4f8c8039d30e1",
            "460529dff95e410582682d1896aff15c",
            "b07d9aa5c83141a6a1545e8ffe1626b3",
            "91cf85af91e14bb694742b0d7d9c6547",
            "e3c093ac5b094ab8a58a5754a5514638",
            "c59364be1a8e46ed939a10c51f618a26",
            "25347ec8c4244f639ee31b18efec4db3",
            "2c61681f3d0a4790a885826dd8ce0a26",
            "f4f77251088841159930b17213389603",
            "915e0100e76e42cda2d4d9b2b18b1561",
            "eb37647ff66b43cd9f24944d32c6b717",
            "dd68c4de67994e22b73b85d46ae89b3d",
            "945f1a1b753b481f83ae291bd7ccd33b",
            "ecf667d7cb2e4c5fb61b4e3c34780b71",
            "348b8125dd8e41a08e653e63e9f1e888",
            "b81006b34303432791692c6732ec8d7b",
            "8df5be26676f4c7fa229c5e7e2dfac08"
          ]
        },
        "id": "G649tjTXLL8F",
        "outputId": "7f0a1f0a-71e3-4fd2-a359-80ade71ea75f"
      },
      "source": [
        "# create transforms\n",
        "# We will just convert to tensor and normalize since no special transforms are mentioned in the paper\n",
        "transforms_mnist = transforms.Compose([\n",
        "                                       transforms.ToTensor(),\n",
        "                                       transforms.Normalize((0.1307,), (0.3081,))\n",
        "                                       ])\n",
        "\n",
        "mnist_data_train = datasets.MNIST('./data/mnist/', train=True, download=True, transform=transforms_mnist)\n",
        "mnist_data_test = datasets.MNIST('../data/mnist/', train=False, download=True, transform=transforms_mnist)"
      ],
      "execution_count": 4,
      "outputs": [
        {
          "output_type": "stream",
          "text": [
            "Downloading http://yann.lecun.com/exdb/mnist/train-images-idx3-ubyte.gz\n",
            "Failed to download (trying next):\n",
            "HTTP Error 503: Service Unavailable\n",
            "\n",
            "Downloading https://ossci-datasets.s3.amazonaws.com/mnist/train-images-idx3-ubyte.gz\n",
            "Downloading https://ossci-datasets.s3.amazonaws.com/mnist/train-images-idx3-ubyte.gz to ./data/mnist/MNIST/raw/train-images-idx3-ubyte.gz\n"
          ],
          "name": "stdout"
        },
        {
          "output_type": "display_data",
          "data": {
            "application/vnd.jupyter.widget-view+json": {
              "model_id": "0201fa9b92524fa0aa7648fc3d3505ab",
              "version_minor": 0,
              "version_major": 2
            },
            "text/plain": [
              "HBox(children=(FloatProgress(value=0.0, max=9912422.0), HTML(value='')))"
            ]
          },
          "metadata": {
            "tags": []
          }
        },
        {
          "output_type": "stream",
          "text": [
            "\n",
            "Extracting ./data/mnist/MNIST/raw/train-images-idx3-ubyte.gz to ./data/mnist/MNIST/raw\n",
            "\n",
            "Downloading http://yann.lecun.com/exdb/mnist/train-labels-idx1-ubyte.gz\n",
            "Failed to download (trying next):\n",
            "HTTP Error 503: Service Unavailable\n",
            "\n",
            "Downloading https://ossci-datasets.s3.amazonaws.com/mnist/train-labels-idx1-ubyte.gz\n",
            "Downloading https://ossci-datasets.s3.amazonaws.com/mnist/train-labels-idx1-ubyte.gz to ./data/mnist/MNIST/raw/train-labels-idx1-ubyte.gz\n"
          ],
          "name": "stdout"
        },
        {
          "output_type": "display_data",
          "data": {
            "application/vnd.jupyter.widget-view+json": {
              "model_id": "469d86eab96046b68e24a6cbd5bbcf56",
              "version_minor": 0,
              "version_major": 2
            },
            "text/plain": [
              "HBox(children=(FloatProgress(value=0.0, max=28881.0), HTML(value='')))"
            ]
          },
          "metadata": {
            "tags": []
          }
        },
        {
          "output_type": "stream",
          "text": [
            "\n",
            "Extracting ./data/mnist/MNIST/raw/train-labels-idx1-ubyte.gz to ./data/mnist/MNIST/raw\n",
            "\n",
            "Downloading http://yann.lecun.com/exdb/mnist/t10k-images-idx3-ubyte.gz\n",
            "Failed to download (trying next):\n",
            "HTTP Error 503: Service Unavailable\n",
            "\n",
            "Downloading https://ossci-datasets.s3.amazonaws.com/mnist/t10k-images-idx3-ubyte.gz\n",
            "Downloading https://ossci-datasets.s3.amazonaws.com/mnist/t10k-images-idx3-ubyte.gz to ./data/mnist/MNIST/raw/t10k-images-idx3-ubyte.gz\n"
          ],
          "name": "stdout"
        },
        {
          "output_type": "display_data",
          "data": {
            "application/vnd.jupyter.widget-view+json": {
              "model_id": "2112aeb90b1546259e223b43d5a49a12",
              "version_minor": 0,
              "version_major": 2
            },
            "text/plain": [
              "HBox(children=(FloatProgress(value=0.0, max=1648877.0), HTML(value='')))"
            ]
          },
          "metadata": {
            "tags": []
          }
        },
        {
          "output_type": "stream",
          "text": [
            "\n",
            "Extracting ./data/mnist/MNIST/raw/t10k-images-idx3-ubyte.gz to ./data/mnist/MNIST/raw\n",
            "\n",
            "Downloading http://yann.lecun.com/exdb/mnist/t10k-labels-idx1-ubyte.gz\n",
            "Failed to download (trying next):\n",
            "HTTP Error 503: Service Unavailable\n",
            "\n",
            "Downloading https://ossci-datasets.s3.amazonaws.com/mnist/t10k-labels-idx1-ubyte.gz\n",
            "Downloading https://ossci-datasets.s3.amazonaws.com/mnist/t10k-labels-idx1-ubyte.gz to ./data/mnist/MNIST/raw/t10k-labels-idx1-ubyte.gz\n"
          ],
          "name": "stdout"
        },
        {
          "output_type": "display_data",
          "data": {
            "application/vnd.jupyter.widget-view+json": {
              "model_id": "56c853e9198647a89de55a2af7c70bbf",
              "version_minor": 0,
              "version_major": 2
            },
            "text/plain": [
              "HBox(children=(FloatProgress(value=0.0, max=4542.0), HTML(value='')))"
            ]
          },
          "metadata": {
            "tags": []
          }
        },
        {
          "output_type": "stream",
          "text": [
            "\n",
            "Extracting ./data/mnist/MNIST/raw/t10k-labels-idx1-ubyte.gz to ./data/mnist/MNIST/raw\n",
            "\n",
            "Processing...\n",
            "Done!\n",
            "Downloading http://yann.lecun.com/exdb/mnist/train-images-idx3-ubyte.gz\n"
          ],
          "name": "stdout"
        },
        {
          "output_type": "stream",
          "text": [
            "/usr/local/lib/python3.7/dist-packages/torchvision/datasets/mnist.py:502: UserWarning: The given NumPy array is not writeable, and PyTorch does not support non-writeable tensors. This means you can write to the underlying (supposedly non-writeable) NumPy array using the tensor. You may want to copy the array to protect its data or make it writeable before converting it to a tensor. This type of warning will be suppressed for the rest of this program. (Triggered internally at  /pytorch/torch/csrc/utils/tensor_numpy.cpp:143.)\n",
            "  return torch.from_numpy(parsed.astype(m[2], copy=False)).view(*s)\n"
          ],
          "name": "stderr"
        },
        {
          "output_type": "stream",
          "text": [
            "Failed to download (trying next):\n",
            "HTTP Error 503: Service Unavailable\n",
            "\n",
            "Downloading https://ossci-datasets.s3.amazonaws.com/mnist/train-images-idx3-ubyte.gz\n",
            "Downloading https://ossci-datasets.s3.amazonaws.com/mnist/train-images-idx3-ubyte.gz to ../data/mnist/MNIST/raw/train-images-idx3-ubyte.gz\n"
          ],
          "name": "stdout"
        },
        {
          "output_type": "display_data",
          "data": {
            "application/vnd.jupyter.widget-view+json": {
              "model_id": "7f8712d3a4b94b488f551f6ba058e66a",
              "version_minor": 0,
              "version_major": 2
            },
            "text/plain": [
              "HBox(children=(FloatProgress(value=0.0, max=9912422.0), HTML(value='')))"
            ]
          },
          "metadata": {
            "tags": []
          }
        },
        {
          "output_type": "stream",
          "text": [
            "\n",
            "Extracting ../data/mnist/MNIST/raw/train-images-idx3-ubyte.gz to ../data/mnist/MNIST/raw\n",
            "\n",
            "Downloading http://yann.lecun.com/exdb/mnist/train-labels-idx1-ubyte.gz\n",
            "Failed to download (trying next):\n",
            "HTTP Error 503: Service Unavailable\n",
            "\n",
            "Downloading https://ossci-datasets.s3.amazonaws.com/mnist/train-labels-idx1-ubyte.gz\n",
            "Downloading https://ossci-datasets.s3.amazonaws.com/mnist/train-labels-idx1-ubyte.gz to ../data/mnist/MNIST/raw/train-labels-idx1-ubyte.gz\n"
          ],
          "name": "stdout"
        },
        {
          "output_type": "display_data",
          "data": {
            "application/vnd.jupyter.widget-view+json": {
              "model_id": "90da9c7dd70d48fcbfd26d09ccb99864",
              "version_minor": 0,
              "version_major": 2
            },
            "text/plain": [
              "HBox(children=(FloatProgress(value=0.0, max=28881.0), HTML(value='')))"
            ]
          },
          "metadata": {
            "tags": []
          }
        },
        {
          "output_type": "stream",
          "text": [
            "\n",
            "Extracting ../data/mnist/MNIST/raw/train-labels-idx1-ubyte.gz to ../data/mnist/MNIST/raw\n",
            "\n",
            "Downloading http://yann.lecun.com/exdb/mnist/t10k-images-idx3-ubyte.gz\n",
            "Failed to download (trying next):\n",
            "HTTP Error 503: Service Unavailable\n",
            "\n",
            "Downloading https://ossci-datasets.s3.amazonaws.com/mnist/t10k-images-idx3-ubyte.gz\n",
            "Downloading https://ossci-datasets.s3.amazonaws.com/mnist/t10k-images-idx3-ubyte.gz to ../data/mnist/MNIST/raw/t10k-images-idx3-ubyte.gz\n"
          ],
          "name": "stdout"
        },
        {
          "output_type": "display_data",
          "data": {
            "application/vnd.jupyter.widget-view+json": {
              "model_id": "460529dff95e410582682d1896aff15c",
              "version_minor": 0,
              "version_major": 2
            },
            "text/plain": [
              "HBox(children=(FloatProgress(value=0.0, max=1648877.0), HTML(value='')))"
            ]
          },
          "metadata": {
            "tags": []
          }
        },
        {
          "output_type": "stream",
          "text": [
            "\n",
            "Extracting ../data/mnist/MNIST/raw/t10k-images-idx3-ubyte.gz to ../data/mnist/MNIST/raw\n",
            "\n",
            "Downloading http://yann.lecun.com/exdb/mnist/t10k-labels-idx1-ubyte.gz\n",
            "Failed to download (trying next):\n",
            "HTTP Error 503: Service Unavailable\n",
            "\n",
            "Downloading https://ossci-datasets.s3.amazonaws.com/mnist/t10k-labels-idx1-ubyte.gz\n",
            "Downloading https://ossci-datasets.s3.amazonaws.com/mnist/t10k-labels-idx1-ubyte.gz to ../data/mnist/MNIST/raw/t10k-labels-idx1-ubyte.gz\n"
          ],
          "name": "stdout"
        },
        {
          "output_type": "display_data",
          "data": {
            "application/vnd.jupyter.widget-view+json": {
              "model_id": "915e0100e76e42cda2d4d9b2b18b1561",
              "version_minor": 0,
              "version_major": 2
            },
            "text/plain": [
              "HBox(children=(FloatProgress(value=0.0, max=4542.0), HTML(value='')))"
            ]
          },
          "metadata": {
            "tags": []
          }
        },
        {
          "output_type": "stream",
          "text": [
            "\n",
            "Extracting ../data/mnist/MNIST/raw/t10k-labels-idx1-ubyte.gz to ../data/mnist/MNIST/raw\n",
            "\n",
            "Processing...\n",
            "Done!\n"
          ],
          "name": "stdout"
        }
      ]
    },
    {
      "cell_type": "code",
      "metadata": {
        "colab": {
          "base_uri": "https://localhost:8080/"
        },
        "id": "dm9usjn2vFkL",
        "outputId": "5e7a2f4a-3544-4fb8-8dc8-1fead26969ce"
      },
      "source": [
        "classes = np.array(list(mnist_data_train.class_to_idx.values()))\n",
        "classes_test = np.array(list(mnist_data_test.class_to_idx.values()))\n",
        "num_classes = len(classes_test)\n",
        "print(\"Classes: {} \\tType: {}\".format(classes, type(classes)))\n",
        "print(\"Classes Test: {} \\tType: {}\".format(classes_test, type(classes)))\n"
      ],
      "execution_count": 5,
      "outputs": [
        {
          "output_type": "stream",
          "text": [
            "Classes: [0 1 2 3 4 5 6 7 8 9] \tType: <class 'numpy.ndarray'>\n",
            "Classes Test: [0 1 2 3 4 5 6 7 8 9] \tType: <class 'numpy.ndarray'>\n"
          ],
          "name": "stdout"
        }
      ]
    },
    {
      "cell_type": "code",
      "metadata": {
        "colab": {
          "base_uri": "https://localhost:8080/"
        },
        "id": "9lvJt3Ofv2SO",
        "outputId": "f23e5a28-1649-4b35-ae4f-4ce1702343e9"
      },
      "source": [
        "print(\"Image Shape: {}\".format(mnist_data_train.data[0].size()))"
      ],
      "execution_count": 6,
      "outputs": [
        {
          "output_type": "stream",
          "text": [
            "Image Shape: torch.Size([28, 28])\n"
          ],
          "name": "stdout"
        }
      ]
    },
    {
      "cell_type": "markdown",
      "metadata": {
        "id": "jCOONkg-zV7Y"
      },
      "source": [
        "## Visualize Data"
      ]
    },
    {
      "cell_type": "code",
      "metadata": {
        "id": "R9MK03TZw6Qs"
      },
      "source": [
        "def imshow(img):\n",
        "\timg = img/2 + 0.5 #unnormalize the image\n",
        "\tplt.imshow(img, cmap='gray') # convert from tensor to image"
      ],
      "execution_count": 7,
      "outputs": []
    },
    {
      "cell_type": "code",
      "metadata": {
        "id": "gMJ0Kx4Kw-_H"
      },
      "source": [
        "def visualize(dataset):\n",
        "  figure = plt.figure(figsize=(25,4))\n",
        "  for i in range(20):\n",
        "    axis = figure.add_subplot(2, 20/2, i+1, xticks=[], yticks=[])\n",
        "    data = dataset.data[i]\n",
        "    data = data.numpy()\n",
        "\n",
        "    target = dataset.targets[i]\n",
        "    target = target.numpy()\n",
        "    imshow(data)\n",
        "    axis.set_title(target)\n"
      ],
      "execution_count": 8,
      "outputs": []
    },
    {
      "cell_type": "code",
      "metadata": {
        "colab": {
          "base_uri": "https://localhost:8080/",
          "height": 195
        },
        "id": "8bPOwKg10Ro7",
        "outputId": "efd79ca3-4bc3-431c-dc85-d17dbacd7eb3"
      },
      "source": [
        "visualize(mnist_data_train)"
      ],
      "execution_count": 9,
      "outputs": [
        {
          "output_type": "display_data",
          "data": {
            "image/png": "[encoded data removed]",
            "text/plain": [
              "<Figure size 1800x288 with 20 Axes>"
            ]
          },
          "metadata": {
            "tags": []
          }
        }
      ]
    },
    {
      "cell_type": "code",
      "metadata": {
        "colab": {
          "base_uri": "https://localhost:8080/",
          "height": 195
        },
        "id": "RKoh5Cf70UYu",
        "outputId": "eb491218-1d2d-48ac-98b1-ca63bcaecb56"
      },
      "source": [
        "visualize(mnist_data_test)"
      ],
      "execution_count": 10,
      "outputs": [
        {
          "output_type": "display_data",
          "data": {
            "image/png": "[encoded data removed]",
            "text/plain": [
              "<Figure size 1800x288 with 20 Axes>"
            ]
          },
          "metadata": {
            "tags": []
          }
        }
      ]
    },
    {
      "cell_type": "markdown",
      "metadata": {
        "id": "ctjRsETiO1qO"
      },
      "source": [
        "## Partitioning the Data (IID and non-IID)"
      ]
    },
    {
      "cell_type": "code",
      "metadata": {
        "id": "3_v8lyrgO5dD"
      },
      "source": [
        "def iid_partition(dataset, clients):\n",
        "  \"\"\"\n",
        "  I.I.D paritioning of data over clients\n",
        "  Shuffle the data\n",
        "  Split it between clients\n",
        "  \n",
        "  params:\n",
        "    - dataset (torch.utils.Dataset): Dataset containing the MNIST Images\n",
        "    - clients (int): Number of Clients to split the data between\n",
        "\n",
        "  returns:\n",
        "    - Dictionary of image indexes for each client\n",
        "  \"\"\"\n",
        "\n",
        "  num_items_per_client = int(len(dataset)/clients)\n",
        "  client_dict = {}\n",
        "  image_idxs = [i for i in range(len(dataset))]\n",
        "\n",
        "  for i in range(clients):\n",
        "    client_dict[i] = set(np.random.choice(image_idxs, num_items_per_client, replace=False))\n",
        "    image_idxs = list(set(image_idxs) - client_dict[i])\n",
        "\n",
        "  return client_dict"
      ],
      "execution_count": 11,
      "outputs": []
    },
    {
      "cell_type": "code",
      "metadata": {
        "id": "4zMdliGMQoSl"
      },
      "source": [
        "def non_iid_partition(dataset, clients, total_shards, shards_size, num_shards_per_client):\n",
        "  \"\"\"\n",
        "  non I.I.D parititioning of data over clients\n",
        "  Sort the data by the digit label\n",
        "  Divide the data into N shards of size S\n",
        "  Each of the clients will get X shards\n",
        "\n",
        "  params:\n",
        "    - dataset (torch.utils.Dataset): Dataset containing the MNIST Images\n",
        "    - clients (int): Number of Clients to split the data between\n",
        "    - total_shards (int): Number of shards to partition the data in\n",
        "    - shards_size (int): Size of each shard \n",
        "    - num_shards_per_client (int): Number of shards of size shards_size that each client receives\n",
        "\n",
        "  returns:\n",
        "    - Dictionary of image indexes for each client\n",
        "  \"\"\"\n",
        "  \n",
        "  shard_idxs = [i for i in range(total_shards)]\n",
        "  client_dict = {i: np.array([], dtype='int64') for i in range(clients)}\n",
        "  idxs = np.arange(len(dataset))\n",
        "  data_labels = dataset.targets.numpy()\n",
        "\n",
        "  # sort the labels\n",
        "  label_idxs = np.vstack((idxs, data_labels))\n",
        "  label_idxs = label_idxs[:, label_idxs[1,:].argsort()]\n",
        "  idxs = label_idxs[0,:]\n",
        "\n",
        "  # divide the data into total_shards of size shards_size\n",
        "  # assign num_shards_per_client to each client\n",
        "  for i in range(clients):\n",
        "    rand_set = set(np.random.choice(shard_idxs, num_shards_per_client, replace=False))\n",
        "    shard_idxs = list(set(shard_idxs) - rand_set)\n",
        "\n",
        "    for rand in rand_set:\n",
        "      client_dict[i] = np.concatenate((client_dict[i], idxs[rand*shards_size:(rand+1)*shards_size]), axis=0)\n",
        "  \n",
        "  return client_dict\n",
        "\n",
        "\n",
        "\n"
      ],
      "execution_count": 12,
      "outputs": []
    },
    {
      "cell_type": "markdown",
      "metadata": {
        "id": "PTfxv8kFoGAy"
      },
      "source": [
        "## Models"
      ]
    },
    {
      "cell_type": "code",
      "metadata": {
        "id": "CvoDNFKbZST5"
      },
      "source": [
        "class MNIST_2NN(nn.Module):\n",
        "  \"\"\"\n",
        "  A simple multilayer-perceptron with 2-hidden layers with 200 units each\n",
        "  using ReLu activations\n",
        "\n",
        "  Total Expected Params: 199,210\n",
        "  \"\"\"\n",
        "  def __init__(self):\n",
        "    super(MNIST_2NN, self).__init__()\n",
        "\n",
        "    self.fc1 = nn.Linear(28*28, 200)\n",
        "    self.fc2 = nn.Linear(200, 200)\n",
        "    self.fc3 = nn.Linear(200, 10)\n",
        "\n",
        "  def forward(self, x):\n",
        "    x = torch.flatten(x, 1)\n",
        "    x = F.relu(self.fc1(x))\n",
        "    x = F.relu(self.fc2(x))\n",
        "    out = self.fc3(x)\n",
        "\n",
        "    return x"
      ],
      "execution_count": 13,
      "outputs": []
    },
    {
      "cell_type": "code",
      "metadata": {
        "id": "ut1hZ8x3qYPZ"
      },
      "source": [
        "class MNIST_CNN(nn.Module):\n",
        "  \"\"\"\n",
        "  CNN with two 5x5 convolution lauers(the first with 32 channels, second with 64,\n",
        "  each followed with 2x2 max pooling), a fully connected layer with 512 uunits and \n",
        "  ReLu activation, and the final Softmax output layer\n",
        "\n",
        "  Total Expected Params: 1,663,370\n",
        "  \"\"\"\n",
        "  def __init__(self):\n",
        "    super(MNIST_CNN, self).__init__()\n",
        "\n",
        "    self.conv1 = nn.Conv2d(1, 32, kernel_size=5)\n",
        "    self.conv2 = nn.Conv2d(32, 64, kernel_size=5)\n",
        "    \n",
        "    self.pool = nn.MaxPool2d(2,2)\n",
        "    self.dropout = nn.Dropout(p=0.2)\n",
        "\n",
        "    self.fc1 = nn.Linear(1024, 512)\n",
        "    self.out = nn.Linear(512, 10)\n",
        "\n",
        "  def forward(self, x):\n",
        "    x = self.pool(F.relu(self.conv1(x)))\n",
        "    x = self.pool(F.relu(self.conv2(x)))\n",
        "    x = self.dropout(x)\n",
        "    x = torch.flatten(x, 1)\n",
        "    x = F.relu(self.fc1(x))\n",
        "    x = self.out(x)\n",
        "    out = F.log_softmax(x, dim=1)\n",
        "\n",
        "    return out"
      ],
      "execution_count": 14,
      "outputs": []
    },
    {
      "cell_type": "markdown",
      "metadata": {
        "id": "uVv4HA9HuLtr"
      },
      "source": [
        "### Print Model Summaries"
      ]
    },
    {
      "cell_type": "code",
      "metadata": {
        "colab": {
          "base_uri": "https://localhost:8080/"
        },
        "id": "I5oTH710sJEt",
        "outputId": "f76a8ea6-e124-4830-984a-fd222214420d"
      },
      "source": [
        "mnist_mlp = MNIST_2NN()\n",
        "mnist_cnn = MNIST_CNN()\n",
        "\n",
        "if torch.cuda.is_available():\n",
        "  mnist_mlp.cuda()\n",
        "  mnist_cnn.cuda()\n",
        "\n",
        "print(\"MNIST MLP SUMMARY\")\n",
        "print(summary(mnist_mlp, (28,28)))\n",
        "\n",
        "print(\"\\nMNIST CNN SUMMARY\")\n",
        "print(summary(mnist_cnn, (1, 28,28)))"
      ],
      "execution_count": 15,
      "outputs": [
        {
          "output_type": "stream",
          "text": [
            "MNIST MLP SUMMARY\n",
            "----------------------------------------------------------------\n",
            "        Layer (type)               Output Shape         Param #\n",
            "================================================================\n",
            "            Linear-1                  [-1, 200]         157,000\n",
            "            Linear-2                  [-1, 200]          40,200\n",
            "            Linear-3                   [-1, 10]           2,010\n",
            "================================================================\n",
            "Total params: 199,210\n",
            "Trainable params: 199,210\n",
            "Non-trainable params: 0\n",
            "----------------------------------------------------------------\n",
            "Input size (MB): 0.00\n",
            "Forward/backward pass size (MB): 0.00\n",
            "Params size (MB): 0.76\n",
            "Estimated Total Size (MB): 0.77\n",
            "----------------------------------------------------------------\n",
            "None\n",
            "\n",
            "MNIST CNN SUMMARY\n",
            "----------------------------------------------------------------\n",
            "        Layer (type)               Output Shape         Param #\n",
            "================================================================\n",
            "            Conv2d-1           [-1, 32, 24, 24]             832\n",
            "         MaxPool2d-2           [-1, 32, 12, 12]               0\n",
            "            Conv2d-3             [-1, 64, 8, 8]          51,264\n",
            "         MaxPool2d-4             [-1, 64, 4, 4]               0\n",
            "           Dropout-5             [-1, 64, 4, 4]               0\n",
            "            Linear-6                  [-1, 512]         524,800\n",
            "            Linear-7                   [-1, 10]           5,130\n",
            "================================================================\n",
            "Total params: 582,026\n",
            "Trainable params: 582,026\n",
            "Non-trainable params: 0\n",
            "----------------------------------------------------------------\n",
            "Input size (MB): 0.00\n",
            "Forward/backward pass size (MB): 0.23\n",
            "Params size (MB): 2.22\n",
            "Estimated Total Size (MB): 2.45\n",
            "----------------------------------------------------------------\n",
            "None\n"
          ],
          "name": "stdout"
        }
      ]
    },
    {
      "cell_type": "markdown",
      "metadata": {
        "id": "JYXicM_FjSv6"
      },
      "source": [
        "## FedProx"
      ]
    },
    {
      "cell_type": "markdown",
      "metadata": {
        "id": "cjGMTWxAOsf1"
      },
      "source": [
        "### Systems Heterogeneity Simulations\n",
        "\n",
        "Generate epochs for selected clients based on percentage of devices that corresponds to heterogeneity. \n",
        "\n",
        "Assign x number of epochs (chosen unifirmly at random between [1, E]) to 0%, 50% or 90% of the selected devices, respectively. Settings where 0% devices perform fewer than E epochs of work correspond to the environments without system heterogeneity, while 90% of the devices sending their partial solutions corresponds to highly heterogenous system."
      ]
    },
    {
      "cell_type": "code",
      "metadata": {
        "id": "i-WTHuT3OpFD"
      },
      "source": [
        "def GenerateLocalEpochs(percentage, size, max_epochs):\n",
        "  ''' Method generates list of epochs for selected clients\n",
        "  to replicate system heteroggeneity\n",
        "\n",
        "  Params:\n",
        "    percentage: percentage of clients to have fewer than E epochs\n",
        "    size:       total size of the list\n",
        "    max_epochs: maximum value for local epochs\n",
        "  \n",
        "  Returns:\n",
        "    List of size epochs for each Client Update\n",
        "\n",
        "  '''\n",
        "\n",
        "  # if percentage is 0 then each client runs for E epochs\n",
        "  if percentage == 0:\n",
        "      return np.array([max_epochs]*size)\n",
        "  else:\n",
        "    # get the number of clients to have fewer than E epochs\n",
        "    heterogenous_size = int((percentage/100) * size)\n",
        "\n",
        "    # generate random uniform epochs of heterogenous size between 1 and E\n",
        "    epoch_list = np.random.randint(1, max_epochs, heterogenous_size)\n",
        "\n",
        "    # the rest of the clients will have E epochs\n",
        "    remaining_size = size - heterogenous_size\n",
        "    rem_list = [max_epochs]*remaining_size\n",
        "\n",
        "    epoch_list = np.append(epoch_list, rem_list, axis=0)\n",
        "    \n",
        "    # shuffle the list and return\n",
        "    np.random.shuffle(epoch_list)\n",
        "\n",
        "    return epoch_list"
      ],
      "execution_count": 16,
      "outputs": []
    },
    {
      "cell_type": "markdown",
      "metadata": {
        "id": "gf_8XEXa-gZ7"
      },
      "source": [
        "## Federated Averaging"
      ]
    },
    {
      "cell_type": "markdown",
      "metadata": {
        "id": "L-aNdQsQ-Kvp"
      },
      "source": [
        "### Local Training (Client Update)\n",
        "\n",
        "Local training for the model on client side"
      ]
    },
    {
      "cell_type": "code",
      "metadata": {
        "id": "oX6OsQyO-Gz7"
      },
      "source": [
        "class CustomDataset(Dataset):\n",
        "  def __init__(self, dataset, idxs):\n",
        "      self.dataset = dataset\n",
        "      self.idxs = list(idxs)\n",
        "\n",
        "  def __len__(self):\n",
        "      return len(self.idxs)\n",
        "\n",
        "  def __getitem__(self, item):\n",
        "      image, label = self.dataset[self.idxs[item]]\n",
        "      return image, label\n",
        "\n",
        "\n",
        "class ClientUpdate(object):\n",
        "  def __init__(self, dataset, batchSize, learning_rate, epochs, idxs, mu, algorithm):\n",
        "    self.train_loader = DataLoader(CustomDataset(dataset, idxs), batch_size=batchSize, shuffle=True)\n",
        "    self.algorithm = algorithm\n",
        "    self.learning_rate = learning_rate\n",
        "    self.epochs = epochs\n",
        "\n",
        "  def train(self, model):\n",
        "    criterion = nn.CrossEntropyLoss()\n",
        "    proximal_criterion = nn.MSELoss(reduction='mean')\n",
        "    optimizer = torch.optim.SGD(model.parameters(), lr=self.learning_rate, momentum=0.5)\n",
        "\n",
        "    # use the weights of global model for proximal term calculation\n",
        "    global_model = copy.deepcopy(model)\n",
        "\n",
        "    # calculate local training time\n",
        "    start_time = time.time()\n",
        "\n",
        "\n",
        "    e_loss = []\n",
        "    for epoch in range(1, self.epochs+1):\n",
        "\n",
        "      train_loss = 0.0\n",
        "\n",
        "      model.train()\n",
        "      for data, labels in self.train_loader:\n",
        "\n",
        "        if torch.cuda.is_available():\n",
        "          data, labels = data.cuda(), labels.cuda()\n",
        "\n",
        "        # clear the gradients\n",
        "        optimizer.zero_grad()\n",
        "        # make a forward pass\n",
        "        output = model(data)\n",
        "\n",
        "        # calculate the loss + the proximal term\n",
        "        _, pred = torch.max(output, 1)\n",
        "\n",
        "        if self.algorithm == 'fedprox':\n",
        "          proximal_term = 0.0\n",
        "\n",
        "          # iterate through the current and global model parameters\n",
        "          for w, w_t in zip(model.parameters(), global_model.parameters()) :\n",
        "            # update the proximal term \n",
        "            #proximal_term += torch.sum(torch.abs((w-w_t)**2))\n",
        "            proximal_term += (w-w_t).norm(2)\n",
        "\n",
        "          loss = criterion(output, labels) + (mu/2)*proximal_term\n",
        "        else:\n",
        "          loss = criterion(output, labels)\n",
        "    \n",
        "        # do a backwards pass\n",
        "        loss.backward()\n",
        "        # perform a single optimization step\n",
        "        optimizer.step()\n",
        "        # update training loss\n",
        "        train_loss += loss.item()*data.size(0)\n",
        "\n",
        "      # average losses\n",
        "      train_loss = train_loss/len(self.train_loader.dataset)\n",
        "      e_loss.append(train_loss)\n",
        "\n",
        "    total_loss = sum(e_loss)/len(e_loss)\n",
        "\n",
        "    return model.state_dict(), total_loss, (time.time() - start_time)"
      ],
      "execution_count": 17,
      "outputs": []
    },
    {
      "cell_type": "markdown",
      "metadata": {
        "id": "Ukgh1DVHE2Ds"
      },
      "source": [
        "### Server Side Training\n",
        "\n",
        "Following Algorithm 1 from the paper"
      ]
    },
    {
      "cell_type": "code",
      "metadata": {
        "id": "1NF1e33BgpeL"
      },
      "source": [
        "def training(model, rounds, batch_size, lr, ds, ds_test, data_dict, C, K, E, mu, percentage, plt_title, plt_color, target_test_accuracy, algorithm=\"fedprox\"):\n",
        "  \"\"\"\n",
        "  Function implements the Federated Averaging Algorithm from the FedAvg paper.\n",
        "  Specifically, this function is used for the server side training and weight update\n",
        "\n",
        "  Params:\n",
        "    - model:           PyTorch model to train\n",
        "    - rounds:          Number of communication rounds for the client update\n",
        "    - batch_size:      Batch size for client update training\n",
        "    - lr:              Learning rate used for client update training\n",
        "    - ds:              Dataset used for training\n",
        "    - ds_test:         Dataset used for testing\n",
        "    - data_dict:       Type of data partition used for training (IID or non-IID)\n",
        "    - C:               Fraction of clients randomly chosen to perform computation on each round\n",
        "    - K:               Total number of clients\n",
        "    - E:               Number of training passes each client makes over its local dataset per round\n",
        "    - tb_writer_name:  Directory name to save the tensorboard logs\n",
        "  Returns:\n",
        "    - model:           Trained model on the server\n",
        "  \"\"\"\n",
        "\n",
        "  # global model weights\n",
        "  global_weights = model.state_dict()\n",
        "\n",
        "  # training loss\n",
        "  # train_accuracy = []\n",
        "  train_loss = []\n",
        "  test_accuracy = []\n",
        "  test_loss = []\n",
        "\n",
        "  # store last loss for convergence\n",
        "  last_loss = 0.0\n",
        "\n",
        "  # total time taken \n",
        "  total_time = 0\n",
        "  start = time.time()\n",
        "    \n",
        "  print(f\"System heterogeneity set to {percentage}% stragglers.\\n\")\n",
        "  print(f\"Picking {max(int(C*K),1 )} random clients per round.\\n\")\n",
        "\n",
        "  for curr_round in range(1, rounds+1):\n",
        "    w, local_loss, lst_local_train_time = [], [], []\n",
        "\n",
        "    m = max(int(C*K), 1)\n",
        "\n",
        "    heterogenous_epoch_list = GenerateLocalEpochs(percentage, size=m, max_epochs=E)\n",
        "    heterogenous_epoch_list = np.array(heterogenous_epoch_list)\n",
        "\n",
        "    S_t = np.random.choice(range(K), m, replace=False)\n",
        "    S_t = np.array(S_t)\n",
        "    \n",
        "    # For Federated Averaging, drop all the clients that are stragglers\n",
        "    if algorithm == 'fedavg':\n",
        "      stragglers_indices = np.argwhere(heterogenous_epoch_list < E)\n",
        "      heterogenous_epoch_list = np.delete(heterogenous_epoch_list, stragglers_indices)\n",
        "      S_t = np.delete(S_t, stragglers_indices)\n",
        "\n",
        "    for k, epoch in zip(S_t, heterogenous_epoch_list):\n",
        "      local_update = ClientUpdate(dataset=ds, batchSize=batch_size, learning_rate=lr, epochs=epoch, idxs=data_dict[k], mu=mu, algorithm=algorithm)\n",
        "      weights, loss, local_train_time = local_update.train(model=copy.deepcopy(model))\n",
        "\n",
        "      w.append(copy.deepcopy(weights))\n",
        "      local_loss.append(copy.deepcopy(loss))\n",
        "      lst_local_train_time.append(local_train_time)\n",
        "\n",
        "    # calculate time to update the global weights\n",
        "    global_start_time = time.time()\n",
        "\n",
        "    # updating the global weights\n",
        "    weights_avg = copy.deepcopy(w[0])\n",
        "    for k in weights_avg.keys():\n",
        "      for i in range(1, len(w)):\n",
        "        weights_avg[k] += w[i][k]\n",
        "\n",
        "      weights_avg[k] = torch.div(weights_avg[k], len(w))\n",
        "\n",
        "    global_weights = weights_avg\n",
        "    global_end_time = time.time()\n",
        "\n",
        "    # calculate total time \n",
        "    total_time += (global_end_time - global_start_time) + sum(lst_local_train_time)/len(lst_local_train_time)\n",
        "\n",
        "    # move the updated weights to our model state dict\n",
        "    model.load_state_dict(global_weights)\n",
        "\n",
        "    # loss\n",
        "    loss_avg = sum(local_loss) / len(local_loss)\n",
        "\n",
        "    # test accuracy\n",
        "    criterion = nn.CrossEntropyLoss()\n",
        "    test_accuracy_current, test_loss_current = testing(copy.deepcopy(model), ds_test, 128, criterion, num_classes, classes_test)\n",
        "    test_accuracy.append(test_accuracy_current)\n",
        "    test_loss.append(test_loss_current)\n",
        "\n",
        "    print(f\"Round: {curr_round}... \\tAverage Train Loss: {round(loss_avg, 3)}... \\tTest Loss: {test_loss_current}... \\tTest Accuracy: {test_accuracy_current}\")\n",
        "    train_loss.append(loss_avg)\n",
        "\n",
        "#     # break if we achieve the target test accuracy\n",
        "#     if test_accuracy_current >= target_test_accuracy:\n",
        "#       rounds = curr_round\n",
        "#       break\n",
        "\n",
        "    # # break if we achieve convergence, i.e., loss between two consecutive rounds is <0.0001\n",
        "    # if algorithm == 'fedprox' and abs(loss_avg - last_loss) < 0.0001:\n",
        "    #   rounds = curr_round\n",
        "    #   break\n",
        "    \n",
        "    # update the last loss\n",
        "    last_loss = loss_avg\n",
        "\n",
        "  end = time.time()\n",
        "\n",
        "  # plot train loss\n",
        "  fig, ax = plt.subplots()\n",
        "  x_axis = np.arange(1, rounds+1)\n",
        "  y_axis = np.array(train_loss)\n",
        "  ax.plot(x_axis, y_axis)\n",
        "\n",
        "  ax.set(xlabel='Number of Rounds', ylabel='Train Loss', title=plt_title)\n",
        "  ax.grid()\n",
        "  fig.savefig(plt_title+'_Train_loss.jpg', format='jpg')\n",
        "  plt.show()\n",
        "\n",
        "  fig, ax = plt.subplots()\n",
        "  x_axis = np.arange(1, rounds+1)\n",
        "  y_axis = np.array(test_loss)\n",
        "  ax.plot(x_axis, y_axis, 'tab:'+plt_color)\n",
        "\n",
        "  ax.set(xlabel='Number of Rounds', ylabel='Test Loss', title=plt_title)\n",
        "  ax.grid()\n",
        "  fig.savefig(plt_title+'_Test_loss.jpg', format='jpg')\n",
        "  plt.show()\n",
        "\n",
        "\n",
        "  fig, ax = plt.subplots()\n",
        "  x_axis = np.arange(1, rounds+1)\n",
        "  y_axis = np.array(test_accuracy)\n",
        "  ax.plot(x_axis, y_axis, 'tab:'+plt_color)\n",
        "\n",
        "  ax.set(xlabel='Number of Rounds', ylabel='Test Accuracy', title=plt_title)\n",
        "  ax.grid()\n",
        "  fig.savefig(plt_title+'_Test_Accuracy.jpg', format='jpg')\n",
        "  plt.show()\n",
        "  \n",
        "  print(\"Training Done!\")\n",
        "  print(\"Total time taken to Train: {}\\n\\n\".format(end-start))\n",
        "  \n",
        "  return model, train_loss, test_accuracy, test_loss"
      ],
      "execution_count": 18,
      "outputs": []
    },
    {
      "cell_type": "markdown",
      "metadata": {
        "id": "tUYyb4T-uXmF"
      },
      "source": [
        "## Testing Loop"
      ]
    },
    {
      "cell_type": "code",
      "metadata": {
        "id": "uCcIZmO5uan9"
      },
      "source": [
        "def testing(model, dataset, bs, criterion, num_classes, classes, print_info=False):\n",
        "  #test loss \n",
        "  test_loss = 0.0\n",
        "  correct_class = list(0. for i in range(num_classes))\n",
        "  total_class = list(0. for i in range(num_classes))\n",
        "\n",
        "  test_loader = DataLoader(dataset, batch_size=bs)\n",
        "  l = len(test_loader)\n",
        "  model.eval()\n",
        "  for data, labels in test_loader:\n",
        "\n",
        "    if torch.cuda.is_available():\n",
        "      data, labels = data.cuda(), labels.cuda()\n",
        "\n",
        "    output = model(data)\n",
        "    loss = criterion(output, labels)\n",
        "    test_loss += loss.item()*data.size(0)\n",
        "\n",
        "    _, pred = torch.max(output, 1)\n",
        "\n",
        "    correct_tensor = pred.eq(labels.data.view_as(pred))\n",
        "    correct = np.squeeze(correct_tensor.numpy()) if not torch.cuda.is_available() else np.squeeze(correct_tensor.cpu().numpy())\n",
        "\n",
        "    #test accuracy for each object class\n",
        "    for i in range(num_classes):\n",
        "      label = labels.data[i]\n",
        "      correct_class[label] += correct[i].item()\n",
        "      total_class[label] += 1\n",
        "    \n",
        "  # avg test loss\n",
        "  test_loss = test_loss/len(test_loader.dataset)\n",
        "  test_accuracy = 100. * np.sum(correct_class) / np.sum(total_class)\n",
        "\n",
        "  if print_info:\n",
        "    print(\"Test Loss: {:.6f}\\n\".format(test_loss))\n",
        "\n",
        "    for i in range(10):\n",
        "      if total_class[i]>0:\n",
        "        print('Test Accuracy of %5s: %2d%% (%2d/%2d)' % \n",
        "              (classes[i], 100 * correct_class[i] / total_class[i],\n",
        "              np.sum(correct_class[i]), np.sum(total_class[i])))\n",
        "      else:\n",
        "        print('Test Accuracy of %5s: N/A (no training examples)' % (classes[i]))\n",
        "\n",
        "    print('\\nFinal Test  Accuracy: {:.3f} ({}/{})'.format(\n",
        "          100. * np.sum(correct_class) / np.sum(total_class),\n",
        "          np.sum(correct_class), np.sum(total_class)))\n",
        "  \n",
        "  return test_accuracy, test_loss"
      ],
      "execution_count": 19,
      "outputs": []
    },
    {
      "cell_type": "markdown",
      "metadata": {
        "id": "Ri0FqXFeHW-V"
      },
      "source": [
        "## Logger"
      ]
    },
    {
      "cell_type": "code",
      "metadata": {
        "id": "thZm2kSiHT4v"
      },
      "source": [
        "log_dict = {}\n",
        "NUM_REPEAT = 1"
      ],
      "execution_count": 20,
      "outputs": []
    },
    {
      "cell_type": "markdown",
      "metadata": {
        "id": "4hO5oV6aXqeh"
      },
      "source": [
        "## MNIST CNN on IID"
      ]
    },
    {
      "cell_type": "markdown",
      "metadata": {
        "id": "flSQv_P4zCfx"
      },
      "source": [
        "### Train\n"
      ]
    },
    {
      "cell_type": "code",
      "metadata": {
        "colab": {
          "base_uri": "https://localhost:8080/",
          "height": 1000
        },
        "id": "0ZalcKZtEseA",
        "outputId": "890fce0e-935c-467e-9017-290428aa33f5"
      },
      "source": [
        "train_loss_multiple_runs = [None] * NUM_REPEAT\n",
        "test_accuracy_multiple_runs = [None] * NUM_REPEAT\n",
        "test_loss_multiple_runs = [None] * NUM_REPEAT\n",
        "\n",
        "for exp_num in range(NUM_REPEAT):\n",
        "  print(\"Experiment Run Number: \", exp_num)\n",
        "\n",
        "  # number of training rounds\n",
        "  rounds = 50\n",
        "  # client fraction\n",
        "  C = 0.1\n",
        "  # number of clients\n",
        "  K = 50\n",
        "  # number of training passes on local dataset for each roung\n",
        "  E = 5\n",
        "  # batch size\n",
        "  batch_size = 10\n",
        "  # learning Rate\n",
        "  lr = 0.05\n",
        "  # proximal term constant\n",
        "  mu = 0.01\n",
        "  # percentage of clients to have fewer than E epochs\n",
        "  percentage = 50\n",
        "\n",
        "  # target_test_accuracy\n",
        "  target_test_accuracy=99.0\n",
        "  # data partition dictionary\n",
        "  iid_dict = iid_partition(mnist_data_train, 100)\n",
        "  # load model\n",
        "  mnist_cnn = MNIST_CNN()\n",
        "\n",
        "  if torch.cuda.is_available():\n",
        "    mnist_cnn.cuda()\n",
        "\n",
        "  mnist_cnn_iid_trained, train_loss, test_accuracy, test_loss = training(mnist_cnn, rounds, batch_size, lr, mnist_data_train, mnist_data_test, iid_dict, C, K, E, mu, percentage, \"MNIST CNN on IID Dataset\", \"orange\", target_test_accuracy)\n",
        "\n",
        "  train_loss_multiple_runs[exp_num] = train_loss\n",
        "  test_accuracy_multiple_runs[exp_num] = test_accuracy\n",
        "  test_loss_multiple_runs[exp_num] = test_loss"
      ],
      "execution_count": 21,
      "outputs": [
        {
          "output_type": "stream",
          "text": [
            "Experiment Run Number:  0\n",
            "System heterogeneity set to 50% stragglers.\n",
            "\n",
            "Picking 5 random clients per round.\n",
            "\n",
            "Round: 1... \tAverage Train Loss: 0.764... \tTest Loss: 0.31467069635391237... \tTest Accuracy: 94.81012658227849\n",
            "Round: 2... \tAverage Train Loss: 0.226... \tTest Loss: 0.11354910397604108... \tTest Accuracy: 96.9620253164557\n",
            "Round: 3... \tAverage Train Loss: 0.123... \tTest Loss: 0.08611077973749488... \tTest Accuracy: 97.46835443037975\n",
            "Round: 4... \tAverage Train Loss: 0.128... \tTest Loss: 0.07775357431415468... \tTest Accuracy: 97.46835443037975\n",
            "Round: 5... \tAverage Train Loss: 0.103... \tTest Loss: 0.06904448509886861... \tTest Accuracy: 97.84810126582279\n",
            "Round: 6... \tAverage Train Loss: 0.085... \tTest Loss: 0.06048186124144122... \tTest Accuracy: 98.48101265822785\n",
            "Round: 7... \tAverage Train Loss: 0.091... \tTest Loss: 0.05098942026433069... \tTest Accuracy: 98.60759493670886\n",
            "Round: 8... \tAverage Train Loss: 0.067... \tTest Loss: 0.04913142763575888... \tTest Accuracy: 98.60759493670886\n",
            "Round: 9... \tAverage Train Loss: 0.06... \tTest Loss: 0.046282868583721576... \tTest Accuracy: 99.11392405063292\n",
            "Round: 10... \tAverage Train Loss: 0.054... \tTest Loss: 0.04454066263223649... \tTest Accuracy: 98.86075949367088\n",
            "Round: 11... \tAverage Train Loss: 0.049... \tTest Loss: 0.04354323896542628... \tTest Accuracy: 98.9873417721519\n",
            "Round: 12... \tAverage Train Loss: 0.034... \tTest Loss: 0.045472616355787615... \tTest Accuracy: 98.9873417721519\n",
            "Round: 13... \tAverage Train Loss: 0.054... \tTest Loss: 0.041140555611351735... \tTest Accuracy: 98.86075949367088\n",
            "Round: 14... \tAverage Train Loss: 0.044... \tTest Loss: 0.04799306735393766... \tTest Accuracy: 98.9873417721519\n",
            "Round: 15... \tAverage Train Loss: 0.04... \tTest Loss: 0.04280434512443753... \tTest Accuracy: 98.86075949367088\n",
            "Round: 16... \tAverage Train Loss: 0.053... \tTest Loss: 0.04088706695066794... \tTest Accuracy: 98.9873417721519\n",
            "Round: 17... \tAverage Train Loss: 0.039... \tTest Loss: 0.039791476858674284... \tTest Accuracy: 98.9873417721519\n",
            "Round: 18... \tAverage Train Loss: 0.055... \tTest Loss: 0.036658115125534824... \tTest Accuracy: 99.11392405063292\n",
            "Round: 19... \tAverage Train Loss: 0.063... \tTest Loss: 0.03599835969299311... \tTest Accuracy: 99.24050632911393\n",
            "Round: 20... \tAverage Train Loss: 0.051... \tTest Loss: 0.03288861043539946... \tTest Accuracy: 99.11392405063292\n",
            "Round: 21... \tAverage Train Loss: 0.034... \tTest Loss: 0.03478538170861138... \tTest Accuracy: 99.24050632911393\n",
            "Round: 22... \tAverage Train Loss: 0.041... \tTest Loss: 0.03465340603045333... \tTest Accuracy: 99.24050632911393\n",
            "Round: 23... \tAverage Train Loss: 0.04... \tTest Loss: 0.03340170082217592... \tTest Accuracy: 99.24050632911393\n",
            "Round: 24... \tAverage Train Loss: 0.029... \tTest Loss: 0.032827642403173374... \tTest Accuracy: 99.24050632911393\n",
            "Round: 25... \tAverage Train Loss: 0.031... \tTest Loss: 0.0371023131564154... \tTest Accuracy: 99.24050632911393\n",
            "Round: 26... \tAverage Train Loss: 0.042... \tTest Loss: 0.03553948974212981... \tTest Accuracy: 99.11392405063292\n",
            "Round: 27... \tAverage Train Loss: 0.035... \tTest Loss: 0.03493517724361736... \tTest Accuracy: 99.24050632911393\n",
            "Round: 28... \tAverage Train Loss: 0.036... \tTest Loss: 0.03354779201798228... \tTest Accuracy: 98.9873417721519\n",
            "Round: 29... \tAverage Train Loss: 0.034... \tTest Loss: 0.03422179649421014... \tTest Accuracy: 99.11392405063292\n",
            "Round: 30... \tAverage Train Loss: 0.032... \tTest Loss: 0.03460736512910807... \tTest Accuracy: 98.86075949367088\n",
            "Round: 31... \tAverage Train Loss: 0.024... \tTest Loss: 0.033732978575587914... \tTest Accuracy: 98.9873417721519\n",
            "Round: 32... \tAverage Train Loss: 0.033... \tTest Loss: 0.03523261368090753... \tTest Accuracy: 98.9873417721519\n",
            "Round: 33... \tAverage Train Loss: 0.023... \tTest Loss: 0.03454234767244634... \tTest Accuracy: 99.24050632911393\n",
            "Round: 34... \tAverage Train Loss: 0.024... \tTest Loss: 0.03299676336786651... \tTest Accuracy: 99.11392405063292\n",
            "Round: 35... \tAverage Train Loss: 0.019... \tTest Loss: 0.03318563606202988... \tTest Accuracy: 99.11392405063292\n",
            "Round: 36... \tAverage Train Loss: 0.016... \tTest Loss: 0.03468349387354392... \tTest Accuracy: 98.86075949367088\n",
            "Round: 37... \tAverage Train Loss: 0.033... \tTest Loss: 0.03455955841196992... \tTest Accuracy: 99.11392405063292\n",
            "Round: 38... \tAverage Train Loss: 0.031... \tTest Loss: 0.03498620248375664... \tTest Accuracy: 99.24050632911393\n",
            "Round: 39... \tAverage Train Loss: 0.022... \tTest Loss: 0.035264623104647765... \tTest Accuracy: 99.36708860759494\n",
            "Round: 40... \tAverage Train Loss: 0.022... \tTest Loss: 0.03479407185209675... \tTest Accuracy: 99.24050632911393\n",
            "Round: 41... \tAverage Train Loss: 0.021... \tTest Loss: 0.035249858672526536... \tTest Accuracy: 98.9873417721519\n",
            "Round: 42... \tAverage Train Loss: 0.021... \tTest Loss: 0.03256886653256879... \tTest Accuracy: 99.24050632911393\n",
            "Round: 43... \tAverage Train Loss: 0.016... \tTest Loss: 0.030960073558193836... \tTest Accuracy: 99.24050632911393\n",
            "Round: 44... \tAverage Train Loss: 0.022... \tTest Loss: 0.03241553503058549... \tTest Accuracy: 99.11392405063292\n",
            "Round: 45... \tAverage Train Loss: 0.031... \tTest Loss: 0.0384838170472387... \tTest Accuracy: 98.9873417721519\n",
            "Round: 46... \tAverage Train Loss: 0.01... \tTest Loss: 0.0355845725939962... \tTest Accuracy: 99.11392405063292\n",
            "Round: 47... \tAverage Train Loss: 0.017... \tTest Loss: 0.03739818883423359... \tTest Accuracy: 99.24050632911393\n",
            "Round: 48... \tAverage Train Loss: 0.025... \tTest Loss: 0.033540191749438876... \tTest Accuracy: 99.24050632911393\n",
            "Round: 49... \tAverage Train Loss: 0.02... \tTest Loss: 0.030608868624067146... \tTest Accuracy: 99.24050632911393\n",
            "Round: 50... \tAverage Train Loss: 0.023... \tTest Loss: 0.030338225241566215... \tTest Accuracy: 99.36708860759494\n"
          ],
          "name": "stdout"
        },
        {
          "output_type": "display_data",
          "data": {
            "image/png": "[encoded data removed]",
            "text/plain": [
              "<Figure size 432x288 with 1 Axes>"
            ]
          },
          "metadata": {
            "tags": [],
            "needs_background": "light"
          }
        },
        {
          "output_type": "display_data",
          "data": {
            "image/png": "[encoded data removed]",
            "text/plain": [
              "<Figure size 432x288 with 1 Axes>"
            ]
          },
          "metadata": {
            "tags": [],
            "needs_background": "light"
          }
        },
        {
          "output_type": "display_data",
          "data": {
            "image/png": "[encoded data removed]",
            "text/plain": [
              "<Figure size 432x288 with 1 Axes>"
            ]
          },
          "metadata": {
            "tags": [],
            "needs_background": "light"
          }
        },
        {
          "output_type": "stream",
          "text": [
            "Training Done!\n",
            "Total time taken to Train: 347.9167990684509\n",
            "\n",
            "\n"
          ],
          "name": "stdout"
        }
      ]
    },
    {
      "cell_type": "markdown",
      "metadata": {
        "id": "wNwC82przF6G"
      },
      "source": [
        "### Test"
      ]
    },
    {
      "cell_type": "code",
      "metadata": {
        "id": "qB97BFs9we9w",
        "colab": {
          "base_uri": "https://localhost:8080/"
        },
        "outputId": "467f3f49-7bd5-42fd-bcaa-d77555bc84d8"
      },
      "source": [
        "criterion = nn.CrossEntropyLoss()\n",
        "acc, loss = testing(mnist_cnn_iid_trained, mnist_data_test, 128, criterion, num_classes, classes_test, True)"
      ],
      "execution_count": 22,
      "outputs": [
        {
          "output_type": "stream",
          "text": [
            "Test Loss: 0.030338\n",
            "\n",
            "Test Accuracy of     0: 100% (76/76)\n",
            "Test Accuracy of     1: 100% (90/90)\n",
            "Test Accuracy of     2: 100% (91/91)\n",
            "Test Accuracy of     3: 97% (71/73)\n",
            "Test Accuracy of     4: 100% (89/89)\n",
            "Test Accuracy of     5: 98% (67/68)\n",
            "Test Accuracy of     6: 98% (61/62)\n",
            "Test Accuracy of     7: 100% (81/81)\n",
            "Test Accuracy of     8: 100% (77/77)\n",
            "Test Accuracy of     9: 98% (82/83)\n",
            "\n",
            "Final Test  Accuracy: 99.367 (785.0/790.0)\n"
          ],
          "name": "stdout"
        }
      ]
    },
    {
      "cell_type": "code",
      "metadata": {
        "id": "gdQZEZmHHeqt"
      },
      "source": [
        "hyperparams = {'rounds': rounds,\n",
        "               'C': C,\n",
        "               'K': K,\n",
        "               'E': E,\n",
        "               'batch_size': batch_size,\n",
        "               'lr': lr,\n",
        "               'mu': mu,\n",
        "               'percentage': percentage,\n",
        "               'target_test_accuracy': target_test_accuracy,\n",
        "               }\n",
        "\n",
        "log_dict['MNIST CNN on IID'] = {'train_loss': train_loss_multiple_runs, \n",
        "                                'test_loss': test_loss_multiple_runs, \n",
        "                                'test_accuracy': test_accuracy_multiple_runs,\n",
        "                                'hyperparams': hyperparams,\n",
        "                                }"
      ],
      "execution_count": 23,
      "outputs": []
    },
    {
      "cell_type": "markdown",
      "metadata": {
        "id": "uF8MdSIUYcnl"
      },
      "source": [
        "## MNIST CNN on Non IID"
      ]
    },
    {
      "cell_type": "markdown",
      "metadata": {
        "id": "a6wXX7JW11bx"
      },
      "source": [
        "### Train\n"
      ]
    },
    {
      "cell_type": "code",
      "metadata": {
        "id": "fCD3kBCKYfBK",
        "colab": {
          "base_uri": "https://localhost:8080/",
          "height": 1000
        },
        "outputId": "cce28579-3e67-47dc-858d-9f995107f86c"
      },
      "source": [
        "train_loss_multiple_runs = [None] * NUM_REPEAT\n",
        "test_accuracy_multiple_runs = [None] * NUM_REPEAT\n",
        "test_loss_multiple_runs = [None] * NUM_REPEAT\n",
        "\n",
        "for exp_num in range(NUM_REPEAT):\n",
        "  print(\"Experiment Run Number: \", exp_num)\n",
        "\n",
        "  # number of training rounds\n",
        "  rounds = 50\n",
        "  # client fraction\n",
        "  C = 0.1\n",
        "  # number of clients\n",
        "  K = 50\n",
        "  # number of training passes on local dataset for each roung\n",
        "  E = 5\n",
        "  # batch size\n",
        "  batch_size = 10\n",
        "  # learning Rate\n",
        "  lr=0.05\n",
        "  # proximal term constant\n",
        "  mu = 0.01\n",
        "  # percentage of clients to have fewer than E epochs\n",
        "  percentage = 50\n",
        "  # target_test_accuracy\n",
        "  target_test_accuracy=99.0\n",
        "\n",
        "  # dict containing different type of data partition\n",
        "  data_dict = non_iid_partition(mnist_data_train, 100, 200, 300, 2)\n",
        "  # load model\n",
        "  mnist_cnn = MNIST_CNN()\n",
        "\n",
        "  if torch.cuda.is_available():\n",
        "    mnist_cnn.cuda()\n",
        "\n",
        "  mnist_cnn_non_iid_trained, train_loss, test_accuracy, test_loss = training(mnist_cnn, rounds, batch_size, lr, mnist_data_train, mnist_data_test, data_dict, C, K, E,mu, percentage, \"MNIST CNN on Non-IID Dataset\", \"green\", target_test_accuracy)\n",
        "\n",
        "  train_loss_multiple_runs[exp_num] = train_loss\n",
        "  test_accuracy_multiple_runs[exp_num] = test_accuracy\n",
        "  test_loss_multiple_runs[exp_num] = test_loss"
      ],
      "execution_count": 24,
      "outputs": [
        {
          "output_type": "stream",
          "text": [
            "Experiment Run Number:  0\n",
            "System heterogeneity set to 50% stragglers.\n",
            "\n",
            "Picking 5 random clients per round.\n",
            "\n",
            "Round: 1... \tAverage Train Loss: 0.13... \tTest Loss: 2.1850946765899657... \tTest Accuracy: 31.139240506329113\n",
            "Round: 2... \tAverage Train Loss: 0.102... \tTest Loss: 1.9090087671279907... \tTest Accuracy: 29.11392405063291\n",
            "Round: 3... \tAverage Train Loss: 0.067... \tTest Loss: 1.495725365257263... \tTest Accuracy: 53.037974683544306\n",
            "Round: 4... \tAverage Train Loss: 0.111... \tTest Loss: 1.3669605827331544... \tTest Accuracy: 44.177215189873415\n",
            "Round: 5... \tAverage Train Loss: 0.065... \tTest Loss: 1.0335576393127441... \tTest Accuracy: 62.40506329113924\n",
            "Round: 6... \tAverage Train Loss: 0.065... \tTest Loss: 0.5113829599380493... \tTest Accuracy: 87.0886075949367\n",
            "Round: 7... \tAverage Train Loss: 0.044... \tTest Loss: 0.2868220208644867... \tTest Accuracy: 92.65822784810126\n",
            "Round: 8... \tAverage Train Loss: 0.044... \tTest Loss: 0.32910785593986513... \tTest Accuracy: 92.15189873417721\n",
            "Round: 9... \tAverage Train Loss: 0.029... \tTest Loss: 0.31568564536571503... \tTest Accuracy: 90.0\n",
            "Round: 10... \tAverage Train Loss: 0.024... \tTest Loss: 0.39006020164489746... \tTest Accuracy: 87.34177215189874\n",
            "Round: 11... \tAverage Train Loss: 0.034... \tTest Loss: 0.2579245178222656... \tTest Accuracy: 92.65822784810126\n",
            "Round: 12... \tAverage Train Loss: 0.019... \tTest Loss: 0.17973592439889907... \tTest Accuracy: 93.92405063291139\n",
            "Round: 13... \tAverage Train Loss: 0.017... \tTest Loss: 0.2813169974088669... \tTest Accuracy: 90.37974683544304\n",
            "Round: 14... \tAverage Train Loss: 0.035... \tTest Loss: 0.2837713146686554... \tTest Accuracy: 90.25316455696202\n",
            "Round: 15... \tAverage Train Loss: 0.048... \tTest Loss: 0.21708297006189822... \tTest Accuracy: 92.9113924050633\n",
            "Round: 16... \tAverage Train Loss: 0.021... \tTest Loss: 0.15261656147837638... \tTest Accuracy: 95.31645569620254\n",
            "Round: 17... \tAverage Train Loss: 0.031... \tTest Loss: 0.20143205330371858... \tTest Accuracy: 94.17721518987342\n",
            "Round: 18... \tAverage Train Loss: 0.031... \tTest Loss: 0.19135731753706933... \tTest Accuracy: 93.67088607594937\n",
            "Round: 19... \tAverage Train Loss: 0.017... \tTest Loss: 0.23217702481746674... \tTest Accuracy: 92.65822784810126\n",
            "Round: 20... \tAverage Train Loss: 0.027... \tTest Loss: 0.1620938045203686... \tTest Accuracy: 95.18987341772151\n",
            "Round: 21... \tAverage Train Loss: 0.025... \tTest Loss: 0.11417756282687187... \tTest Accuracy: 96.07594936708861\n",
            "Round: 22... \tAverage Train Loss: 0.031... \tTest Loss: 0.19378435932397842... \tTest Accuracy: 94.43037974683544\n",
            "Round: 23... \tAverage Train Loss: 0.021... \tTest Loss: 0.14880055549144744... \tTest Accuracy: 95.69620253164557\n",
            "Round: 24... \tAverage Train Loss: 0.022... \tTest Loss: 0.16250655170977116... \tTest Accuracy: 95.18987341772151\n",
            "Round: 25... \tAverage Train Loss: 0.037... \tTest Loss: 0.1699351861566305... \tTest Accuracy: 95.0632911392405\n",
            "Round: 26... \tAverage Train Loss: 0.048... \tTest Loss: 0.11943826349377633... \tTest Accuracy: 96.70886075949367\n",
            "Round: 27... \tAverage Train Loss: 0.024... \tTest Loss: 0.1401379175901413... \tTest Accuracy: 96.07594936708861\n",
            "Round: 28... \tAverage Train Loss: 0.012... \tTest Loss: 0.10162358794659376... \tTest Accuracy: 97.72151898734177\n",
            "Round: 29... \tAverage Train Loss: 0.03... \tTest Loss: 0.11269789057075977... \tTest Accuracy: 96.45569620253164\n",
            "Round: 30... \tAverage Train Loss: 0.029... \tTest Loss: 0.15630790007710457... \tTest Accuracy: 95.0632911392405\n",
            "Round: 31... \tAverage Train Loss: 0.03... \tTest Loss: 0.09883038541525602... \tTest Accuracy: 97.34177215189874\n",
            "Round: 32... \tAverage Train Loss: 0.024... \tTest Loss: 0.10742073930501937... \tTest Accuracy: 96.70886075949367\n",
            "Round: 33... \tAverage Train Loss: 0.012... \tTest Loss: 0.10471626099050045... \tTest Accuracy: 96.83544303797468\n",
            "Round: 34... \tAverage Train Loss: 0.017... \tTest Loss: 0.08955629301741719... \tTest Accuracy: 97.84810126582279\n",
            "Round: 35... \tAverage Train Loss: 0.017... \tTest Loss: 0.08289043962806464... \tTest Accuracy: 97.59493670886076\n",
            "Round: 36... \tAverage Train Loss: 0.022... \tTest Loss: 0.09048282796517014... \tTest Accuracy: 97.0886075949367\n",
            "Round: 37... \tAverage Train Loss: 0.022... \tTest Loss: 0.08374979220069945... \tTest Accuracy: 97.46835443037975\n",
            "Round: 38... \tAverage Train Loss: 0.009... \tTest Loss: 0.08471898831967264... \tTest Accuracy: 98.10126582278481\n",
            "Round: 39... \tAverage Train Loss: 0.031... \tTest Loss: 0.12727801103815437... \tTest Accuracy: 95.9493670886076\n",
            "Round: 40... \tAverage Train Loss: 0.026... \tTest Loss: 0.12436488320305944... \tTest Accuracy: 96.20253164556962\n",
            "Round: 41... \tAverage Train Loss: 0.057... \tTest Loss: 0.19157374930977822... \tTest Accuracy: 94.43037974683544\n",
            "Round: 42... \tAverage Train Loss: 0.021... \tTest Loss: 0.09378910818230361... \tTest Accuracy: 98.10126582278481\n",
            "Round: 43... \tAverage Train Loss: 0.016... \tTest Loss: 0.09495923862289637... \tTest Accuracy: 97.0886075949367\n",
            "Round: 44... \tAverage Train Loss: 0.017... \tTest Loss: 0.060688117856904866... \tTest Accuracy: 98.86075949367088\n",
            "Round: 45... \tAverage Train Loss: 0.024... \tTest Loss: 0.06647235905528069... \tTest Accuracy: 98.22784810126582\n",
            "Round: 46... \tAverage Train Loss: 0.02... \tTest Loss: 0.10042693693265319... \tTest Accuracy: 96.45569620253164\n",
            "Round: 47... \tAverage Train Loss: 0.016... \tTest Loss: 0.10190715240202844... \tTest Accuracy: 96.20253164556962\n",
            "Round: 48... \tAverage Train Loss: 0.018... \tTest Loss: 0.0957996073834598... \tTest Accuracy: 97.0886075949367\n",
            "Round: 49... \tAverage Train Loss: 0.011... \tTest Loss: 0.06775792019236833... \tTest Accuracy: 97.9746835443038\n",
            "Round: 50... \tAverage Train Loss: 0.027... \tTest Loss: 0.08825407298877835... \tTest Accuracy: 97.34177215189874\n"
          ],
          "name": "stdout"
        },
        {
          "output_type": "display_data",
          "data": {
            "image/png": "[encoded data removed]",
            "text/plain": [
              "<Figure size 432x288 with 1 Axes>"
            ]
          },
          "metadata": {
            "tags": [],
            "needs_background": "light"
          }
        },
        {
          "output_type": "display_data",
          "data": {
            "image/png": "[encoded data removed]",
            "text/plain": [
              "<Figure size 432x288 with 1 Axes>"
            ]
          },
          "metadata": {
            "tags": [],
            "needs_background": "light"
          }
        },
        {
          "output_type": "display_data",
          "data": {
            "image/png": "[encoded data removed]",
            "text/plain": [
              "<Figure size 432x288 with 1 Axes>"
            ]
          },
          "metadata": {
            "tags": [],
            "needs_background": "light"
          }
        },
        {
          "output_type": "stream",
          "text": [
            "Training Done!\n",
            "Total time taken to Train: 362.9500572681427\n",
            "\n",
            "\n"
          ],
          "name": "stdout"
        }
      ]
    },
    {
      "cell_type": "markdown",
      "metadata": {
        "id": "4C68J-Kk14dB"
      },
      "source": [
        "### Test"
      ]
    },
    {
      "cell_type": "code",
      "metadata": {
        "id": "_yQ9GiAZ15jE",
        "colab": {
          "base_uri": "https://localhost:8080/"
        },
        "outputId": "f3b99a1a-e888-4f4f-a006-ff52a74e2fc7"
      },
      "source": [
        "criterion = nn.CrossEntropyLoss()\n",
        "acc, loss = testing(mnist_cnn_non_iid_trained, mnist_data_test, 128, criterion, num_classes, classes_test, True)"
      ],
      "execution_count": 25,
      "outputs": [
        {
          "output_type": "stream",
          "text": [
            "Test Loss: 0.088254\n",
            "\n",
            "Test Accuracy of     0: 98% (75/76)\n",
            "Test Accuracy of     1: 96% (87/90)\n",
            "Test Accuracy of     2: 100% (91/91)\n",
            "Test Accuracy of     3: 90% (66/73)\n",
            "Test Accuracy of     4: 100% (89/89)\n",
            "Test Accuracy of     5: 98% (67/68)\n",
            "Test Accuracy of     6: 96% (60/62)\n",
            "Test Accuracy of     7: 91% (74/81)\n",
            "Test Accuracy of     8: 100% (77/77)\n",
            "Test Accuracy of     9: 100% (83/83)\n",
            "\n",
            "Final Test  Accuracy: 97.342 (769.0/790.0)\n"
          ],
          "name": "stdout"
        }
      ]
    },
    {
      "cell_type": "code",
      "metadata": {
        "id": "dxMcxgLhLvX-"
      },
      "source": [
        "hyperparams = {'rounds': rounds,\n",
        "               'C': C,\n",
        "               'K': K,\n",
        "               'E': E,\n",
        "               'batch_size': batch_size,\n",
        "               'lr': lr,\n",
        "               'mu': mu,\n",
        "               'percentage': percentage,\n",
        "               'target_test_accuracy': target_test_accuracy,\n",
        "               }\n",
        "\n",
        "log_dict['MNIST CNN on Non IID'] = {'train_loss': train_loss_multiple_runs, \n",
        "                                'test_loss': test_loss_multiple_runs, \n",
        "                                'test_accuracy': test_accuracy_multiple_runs,\n",
        "                                'hyperparams': hyperparams,\n",
        "                                }"
      ],
      "execution_count": 26,
      "outputs": []
    },
    {
      "cell_type": "markdown",
      "metadata": {
        "id": "z_jifdzniuhm"
      },
      "source": [
        "## MNIST MLP on IID"
      ]
    },
    {
      "cell_type": "markdown",
      "metadata": {
        "id": "uh-te0Od2XGO"
      },
      "source": [
        "### Train"
      ]
    },
    {
      "cell_type": "code",
      "metadata": {
        "id": "UmpWmKOQixVV",
        "colab": {
          "base_uri": "https://localhost:8080/",
          "height": 1000
        },
        "outputId": "ad73f005-0481-4bd9-d55f-f059100617e0"
      },
      "source": [
        "train_loss_multiple_runs = [None] * NUM_REPEAT\n",
        "test_accuracy_multiple_runs = [None] * NUM_REPEAT\n",
        "test_loss_multiple_runs = [None] * NUM_REPEAT\n",
        "\n",
        "for exp_num in range(NUM_REPEAT):\n",
        "  print(\"Experiment Run Number: \", exp_num)\n",
        "\n",
        "  # number of training rounds\n",
        "  rounds = 50\n",
        "  # client fraction\n",
        "  C = 0.1\n",
        "  # number of clients\n",
        "  K = 50\n",
        "  # number of training passes on local dataset for each round\n",
        "  E = 5\n",
        "  # batch size\n",
        "  batch_size = 10\n",
        "  # learning Rate\n",
        "  lr = 0.05\n",
        "  # proximal term constant\n",
        "  mu = 0.01\n",
        "  # percentage of clients to have fewer than E epochs\n",
        "  percentage = 50\n",
        "  # target_test_accuracy\n",
        "  target_test_accuracy=94.0\n",
        "  # dict containing different type of data partition\n",
        "  data_dict = iid_partition(mnist_data_train, 100)\n",
        "  # load model\n",
        "  mnist_mlp = MNIST_2NN()\n",
        "\n",
        "  if torch.cuda.is_available():\n",
        "    mnist_mlp.cuda()\n",
        "\n",
        "  mnist_mlp_iid_trained, train_loss, test_accuracy, test_loss = training(mnist_mlp, rounds, batch_size, lr, mnist_data_train, mnist_data_test, data_dict, C, K, E, mu, percentage, \"MNIST MLP on IID Dataset\", \"orange\", target_test_accuracy)\n",
        "  \n",
        "  train_loss_multiple_runs[exp_num] = train_loss\n",
        "  test_accuracy_multiple_runs[exp_num] = test_accuracy\n",
        "  test_loss_multiple_runs[exp_num] = test_loss"
      ],
      "execution_count": 27,
      "outputs": [
        {
          "output_type": "stream",
          "text": [
            "Experiment Run Number:  0\n",
            "System heterogeneity set to 50% stragglers.\n",
            "\n",
            "Picking 5 random clients per round.\n",
            "\n",
            "Round: 1... \tAverage Train Loss: 0.731... \tTest Loss: 0.3224335182666779... \tTest Accuracy: 91.13924050632912\n",
            "Round: 2... \tAverage Train Loss: 0.293... \tTest Loss: 0.2738180874824524... \tTest Accuracy: 93.29113924050633\n",
            "Round: 3... \tAverage Train Loss: 0.258... \tTest Loss: 0.2255333961814642... \tTest Accuracy: 93.92405063291139\n",
            "Round: 4... \tAverage Train Loss: 0.18... \tTest Loss: 0.21712984173446895... \tTest Accuracy: 93.67088607594937\n",
            "Round: 5... \tAverage Train Loss: 0.124... \tTest Loss: 0.20161780446320773... \tTest Accuracy: 94.55696202531645\n",
            "Round: 6... \tAverage Train Loss: 0.124... \tTest Loss: 0.17882367011755704... \tTest Accuracy: 95.56962025316456\n",
            "Round: 7... \tAverage Train Loss: 0.147... \tTest Loss: 0.1738697929263115... \tTest Accuracy: 95.69620253164557\n",
            "Round: 8... \tAverage Train Loss: 0.116... \tTest Loss: 0.16048332881741226... \tTest Accuracy: 95.82278481012658\n",
            "Round: 9... \tAverage Train Loss: 0.095... \tTest Loss: 0.15468495104983448... \tTest Accuracy: 95.56962025316456\n",
            "Round: 10... \tAverage Train Loss: 0.085... \tTest Loss: 0.15629741561114788... \tTest Accuracy: 95.18987341772151\n",
            "Round: 11... \tAverage Train Loss: 0.108... \tTest Loss: 0.14807148848380894... \tTest Accuracy: 95.31645569620254\n",
            "Round: 12... \tAverage Train Loss: 0.077... \tTest Loss: 0.13906476801037787... \tTest Accuracy: 96.07594936708861\n",
            "Round: 13... \tAverage Train Loss: 0.092... \tTest Loss: 0.13752039175219835... \tTest Accuracy: 96.07594936708861\n",
            "Round: 14... \tAverage Train Loss: 0.079... \tTest Loss: 0.1332508121084422... \tTest Accuracy: 95.69620253164557\n",
            "Round: 15... \tAverage Train Loss: 0.073... \tTest Loss: 0.1329110319521278... \tTest Accuracy: 95.82278481012658\n",
            "Round: 16... \tAverage Train Loss: 0.045... \tTest Loss: 0.12789455064460636... \tTest Accuracy: 96.20253164556962\n",
            "Round: 17... \tAverage Train Loss: 0.096... \tTest Loss: 0.12255477591976524... \tTest Accuracy: 96.45569620253164\n",
            "Round: 18... \tAverage Train Loss: 0.082... \tTest Loss: 0.12135374236479401... \tTest Accuracy: 96.70886075949367\n",
            "Round: 19... \tAverage Train Loss: 0.062... \tTest Loss: 0.11680620395168662... \tTest Accuracy: 96.83544303797468\n",
            "Round: 20... \tAverage Train Loss: 0.034... \tTest Loss: 0.1191298670919612... \tTest Accuracy: 96.58227848101266\n",
            "Round: 21... \tAverage Train Loss: 0.057... \tTest Loss: 0.11190585486507043... \tTest Accuracy: 97.34177215189874\n",
            "Round: 22... \tAverage Train Loss: 0.039... \tTest Loss: 0.1156909466303885... \tTest Accuracy: 97.0886075949367\n",
            "Round: 23... \tAverage Train Loss: 0.055... \tTest Loss: 0.11382847123248503... \tTest Accuracy: 97.0886075949367\n",
            "Round: 24... \tAverage Train Loss: 0.048... \tTest Loss: 0.11132472508773207... \tTest Accuracy: 97.34177215189874\n",
            "Round: 25... \tAverage Train Loss: 0.101... \tTest Loss: 0.10553975191377103... \tTest Accuracy: 97.34177215189874\n",
            "Round: 26... \tAverage Train Loss: 0.063... \tTest Loss: 0.10847039917800576... \tTest Accuracy: 97.21518987341773\n",
            "Round: 27... \tAverage Train Loss: 0.045... \tTest Loss: 0.10821828952729702... \tTest Accuracy: 97.0886075949367\n",
            "Round: 28... \tAverage Train Loss: 0.045... \tTest Loss: 0.11209997181519867... \tTest Accuracy: 97.21518987341773\n",
            "Round: 29... \tAverage Train Loss: 0.062... \tTest Loss: 0.11106734063532203... \tTest Accuracy: 97.46835443037975\n",
            "Round: 30... \tAverage Train Loss: 0.037... \tTest Loss: 0.10887564856046811... \tTest Accuracy: 96.70886075949367\n",
            "Round: 31... \tAverage Train Loss: 0.057... \tTest Loss: 0.11046349599356763... \tTest Accuracy: 97.34177215189874\n",
            "Round: 32... \tAverage Train Loss: 0.033... \tTest Loss: 0.11183578053098171... \tTest Accuracy: 96.9620253164557\n",
            "Round: 33... \tAverage Train Loss: 0.025... \tTest Loss: 0.11017802857770584... \tTest Accuracy: 96.9620253164557\n",
            "Round: 34... \tAverage Train Loss: 0.034... \tTest Loss: 0.10872014029631391... \tTest Accuracy: 96.9620253164557\n",
            "Round: 35... \tAverage Train Loss: 0.045... \tTest Loss: 0.10463684008717537... \tTest Accuracy: 96.9620253164557\n",
            "Round: 36... \tAverage Train Loss: 0.035... \tTest Loss: 0.10508411146481521... \tTest Accuracy: 96.83544303797468\n",
            "Round: 37... \tAverage Train Loss: 0.052... \tTest Loss: 0.10909909355212002... \tTest Accuracy: 96.83544303797468\n",
            "Round: 38... \tAverage Train Loss: 0.033... \tTest Loss: 0.10534378267307766... \tTest Accuracy: 96.58227848101266\n",
            "Round: 39... \tAverage Train Loss: 0.026... \tTest Loss: 0.10197928568492644... \tTest Accuracy: 96.9620253164557\n",
            "Round: 40... \tAverage Train Loss: 0.049... \tTest Loss: 0.09999337308658286... \tTest Accuracy: 97.0886075949367\n",
            "Round: 41... \tAverage Train Loss: 0.057... \tTest Loss: 0.10325330740977079... \tTest Accuracy: 97.0886075949367\n",
            "Round: 42... \tAverage Train Loss: 0.024... \tTest Loss: 0.10166304521877319... \tTest Accuracy: 97.46835443037975\n",
            "Round: 43... \tAverage Train Loss: 0.032... \tTest Loss: 0.10552152779749595... \tTest Accuracy: 97.0886075949367\n",
            "Round: 44... \tAverage Train Loss: 0.042... \tTest Loss: 0.10558721033341717... \tTest Accuracy: 97.21518987341773\n",
            "Round: 45... \tAverage Train Loss: 0.028... \tTest Loss: 0.10382604221626535... \tTest Accuracy: 97.34177215189874\n",
            "Round: 46... \tAverage Train Loss: 0.077... \tTest Loss: 0.1016361433078302... \tTest Accuracy: 97.34177215189874\n",
            "Round: 47... \tAverage Train Loss: 0.024... \tTest Loss: 0.09887831159364432... \tTest Accuracy: 97.21518987341773\n",
            "Round: 48... \tAverage Train Loss: 0.044... \tTest Loss: 0.09782549590170384... \tTest Accuracy: 97.34177215189874\n",
            "Round: 49... \tAverage Train Loss: 0.02... \tTest Loss: 0.09828391241058708... \tTest Accuracy: 97.59493670886076\n",
            "Round: 50... \tAverage Train Loss: 0.024... \tTest Loss: 0.09898276812708937... \tTest Accuracy: 97.72151898734177\n"
          ],
          "name": "stdout"
        },
        {
          "output_type": "display_data",
          "data": {
            "image/png": "[encoded data removed]",
            "text/plain": [
              "<Figure size 432x288 with 1 Axes>"
            ]
          },
          "metadata": {
            "tags": [],
            "needs_background": "light"
          }
        },
        {
          "output_type": "display_data",
          "data": {
            "image/png": "[encoded data removed]",
            "text/plain": [
              "<Figure size 432x288 with 1 Axes>"
            ]
          },
          "metadata": {
            "tags": [],
            "needs_background": "light"
          }
        },
        {
          "output_type": "display_data",
          "data": {
            "image/png": "[encoded data removed]",
            "text/plain": [
              "<Figure size 432x288 with 1 Axes>"
            ]
          },
          "metadata": {
            "tags": [],
            "needs_background": "light"
          }
        },
        {
          "output_type": "stream",
          "text": [
            "Training Done!\n",
            "Total time taken to Train: 266.29041051864624\n",
            "\n",
            "\n"
          ],
          "name": "stdout"
        }
      ]
    },
    {
      "cell_type": "markdown",
      "metadata": {
        "id": "aTBsL3-72PPd"
      },
      "source": [
        "### Test"
      ]
    },
    {
      "cell_type": "code",
      "metadata": {
        "id": "a9G4j5L62OrS",
        "colab": {
          "base_uri": "https://localhost:8080/"
        },
        "outputId": "459c6de3-04c1-4b92-9604-60101e4668bc"
      },
      "source": [
        "criterion = nn.CrossEntropyLoss()\n",
        "acc, loss = testing(mnist_mlp_iid_trained, mnist_data_test, 128, criterion, num_classes, classes_test, True)"
      ],
      "execution_count": 28,
      "outputs": [
        {
          "output_type": "stream",
          "text": [
            "Test Loss: 0.098983\n",
            "\n",
            "Test Accuracy of     0: 100% (76/76)\n",
            "Test Accuracy of     1: 97% (88/90)\n",
            "Test Accuracy of     2: 96% (88/91)\n",
            "Test Accuracy of     3: 97% (71/73)\n",
            "Test Accuracy of     4: 98% (88/89)\n",
            "Test Accuracy of     5: 94% (64/68)\n",
            "Test Accuracy of     6: 96% (60/62)\n",
            "Test Accuracy of     7: 97% (79/81)\n",
            "Test Accuracy of     8: 98% (76/77)\n",
            "Test Accuracy of     9: 98% (82/83)\n",
            "\n",
            "Final Test  Accuracy: 97.722 (772.0/790.0)\n"
          ],
          "name": "stdout"
        }
      ]
    },
    {
      "cell_type": "code",
      "metadata": {
        "id": "fWCdJFRCL_f2"
      },
      "source": [
        "hyperparams = {'rounds': rounds,\n",
        "               'C': C,\n",
        "               'K': K,\n",
        "               'E': E,\n",
        "               'batch_size': batch_size,\n",
        "               'lr': lr,\n",
        "               'mu': mu,\n",
        "               'percentage': percentage,\n",
        "               'target_test_accuracy': target_test_accuracy,\n",
        "               }\n",
        "\n",
        "log_dict['MNIST MLP on IID'] = {'train_loss': train_loss_multiple_runs, \n",
        "                                'test_loss': test_loss_multiple_runs, \n",
        "                                'test_accuracy': test_accuracy_multiple_runs,\n",
        "                                'hyperparams': hyperparams,\n",
        "                                }"
      ],
      "execution_count": 29,
      "outputs": []
    },
    {
      "cell_type": "markdown",
      "metadata": {
        "id": "J8jzEyO0iywz"
      },
      "source": [
        "## MNIST MLP on Non IID"
      ]
    },
    {
      "cell_type": "markdown",
      "metadata": {
        "id": "pJFepr3y2bF-"
      },
      "source": [
        "### Train"
      ]
    },
    {
      "cell_type": "code",
      "metadata": {
        "id": "EBKO44Hgi1Uh",
        "colab": {
          "base_uri": "https://localhost:8080/",
          "height": 1000
        },
        "outputId": "ddc1be65-4367-4276-ffb6-b31bb98a61a1"
      },
      "source": [
        "train_loss_multiple_runs = [None] * NUM_REPEAT\n",
        "test_accuracy_multiple_runs = [None] * NUM_REPEAT\n",
        "test_loss_multiple_runs = [None] * NUM_REPEAT\n",
        "\n",
        "for exp_num in range(NUM_REPEAT):\n",
        "  print(\"Experiment Run Number: \", exp_num)\n",
        "  \n",
        "  # number of training rounds\n",
        "  rounds = 50\n",
        "  # client fraction\n",
        "  C = 0.1\n",
        "  # number of clients\n",
        "  K = 50\n",
        "  # number of training passes on local dataset for each roung\n",
        "  E = 5\n",
        "  # batch size\n",
        "  batch_size = 10\n",
        "  # learning Rate\n",
        "  lr=0.05\n",
        "  # proximal term constant\n",
        "  mu = 0.01\n",
        "  # percentage of clients to have fewer than E epochs\n",
        "  percentage = 50\n",
        "  # target_test_accuracy\n",
        "  target_test_accuracy=94.0\n",
        "  # dict containing different type of data partition\n",
        "  data_dict = non_iid_partition(mnist_data_train, 100, 200, 300, 2)\n",
        "  # load model\n",
        "  mnist_mlp = MNIST_2NN()\n",
        "\n",
        "  if torch.cuda.is_available():\n",
        "    mnist_mlp.cuda()\n",
        "\n",
        "  mnist_mlp_non_iid_trained, train_loss, test_accuracy, test_loss = training(mnist_mlp, rounds, batch_size, lr, mnist_data_train, mnist_data_test, data_dict, C, K, E, mu, percentage, \"MNIST MLP on Non-IID Dataset\", \"green\", target_test_accuracy)\n",
        "\n",
        "  train_loss_multiple_runs[exp_num] = train_loss\n",
        "  test_accuracy_multiple_runs[exp_num] = test_accuracy\n",
        "  test_loss_multiple_runs[exp_num] = test_loss"
      ],
      "execution_count": 30,
      "outputs": [
        {
          "output_type": "stream",
          "text": [
            "Experiment Run Number:  0\n",
            "System heterogeneity set to 50% stragglers.\n",
            "\n",
            "Picking 5 random clients per round.\n",
            "\n",
            "Round: 1... \tAverage Train Loss: 0.232... \tTest Loss: 3.467641367340088... \tTest Accuracy: 23.544303797468356\n",
            "Round: 2... \tAverage Train Loss: 0.085... \tTest Loss: 3.2598842418670655... \tTest Accuracy: 31.139240506329113\n",
            "Round: 3... \tAverage Train Loss: 0.103... \tTest Loss: 1.738646688079834... \tTest Accuracy: 56.45569620253165\n",
            "Round: 4... \tAverage Train Loss: 0.077... \tTest Loss: 1.6243193681716919... \tTest Accuracy: 55.063291139240505\n",
            "Round: 5... \tAverage Train Loss: 0.049... \tTest Loss: 1.2205081113815308... \tTest Accuracy: 65.82278481012658\n",
            "Round: 6... \tAverage Train Loss: 0.024... \tTest Loss: 1.1982965021133423... \tTest Accuracy: 68.35443037974683\n",
            "Round: 7... \tAverage Train Loss: 0.036... \tTest Loss: 1.7035783283233643... \tTest Accuracy: 57.9746835443038\n",
            "Round: 8... \tAverage Train Loss: 0.054... \tTest Loss: 1.1741217136383058... \tTest Accuracy: 66.07594936708861\n",
            "Round: 9... \tAverage Train Loss: 0.054... \tTest Loss: 0.9310426766395569... \tTest Accuracy: 77.72151898734177\n",
            "Round: 10... \tAverage Train Loss: 0.036... \tTest Loss: 0.6705564950942993... \tTest Accuracy: 73.92405063291139\n",
            "Round: 11... \tAverage Train Loss: 0.055... \tTest Loss: 0.7839300611495972... \tTest Accuracy: 76.70886075949367\n",
            "Round: 12... \tAverage Train Loss: 0.022... \tTest Loss: 0.832678837966919... \tTest Accuracy: 73.41772151898734\n",
            "Round: 13... \tAverage Train Loss: 0.037... \tTest Loss: 0.441623731803894... \tTest Accuracy: 84.68354430379746\n",
            "Round: 14... \tAverage Train Loss: 0.032... \tTest Loss: 0.5118941073417663... \tTest Accuracy: 81.89873417721519\n",
            "Round: 15... \tAverage Train Loss: 0.027... \tTest Loss: 0.7054735054016114... \tTest Accuracy: 75.56962025316456\n",
            "Round: 16... \tAverage Train Loss: 0.02... \tTest Loss: 0.3425978591442108... \tTest Accuracy: 90.25316455696202\n",
            "Round: 17... \tAverage Train Loss: 0.046... \tTest Loss: 0.6161313157081604... \tTest Accuracy: 76.45569620253164\n",
            "Round: 18... \tAverage Train Loss: 0.015... \tTest Loss: 0.45192056455612184... \tTest Accuracy: 84.17721518987342\n",
            "Round: 19... \tAverage Train Loss: 0.032... \tTest Loss: 0.6445476571083069... \tTest Accuracy: 77.34177215189874\n",
            "Round: 20... \tAverage Train Loss: 0.021... \tTest Loss: 0.370147479057312... \tTest Accuracy: 87.0886075949367\n",
            "Round: 21... \tAverage Train Loss: 0.051... \tTest Loss: 0.705328109741211... \tTest Accuracy: 75.9493670886076\n",
            "Round: 22... \tAverage Train Loss: 0.021... \tTest Loss: 0.5575858503341675... \tTest Accuracy: 80.12658227848101\n",
            "Round: 23... \tAverage Train Loss: 0.015... \tTest Loss: 0.5301093367099762... \tTest Accuracy: 82.0253164556962\n",
            "Round: 24... \tAverage Train Loss: 0.036... \tTest Loss: 0.3702715230703354... \tTest Accuracy: 88.73417721518987\n",
            "Round: 25... \tAverage Train Loss: 0.058... \tTest Loss: 0.3679533819437027... \tTest Accuracy: 89.24050632911393\n",
            "Round: 26... \tAverage Train Loss: 0.026... \tTest Loss: 0.3831372131347656... \tTest Accuracy: 86.32911392405063\n",
            "Round: 27... \tAverage Train Loss: 0.019... \tTest Loss: 0.3925238072872162... \tTest Accuracy: 87.59493670886076\n",
            "Round: 28... \tAverage Train Loss: 0.019... \tTest Loss: 0.35963161730766297... \tTest Accuracy: 88.48101265822785\n",
            "Round: 29... \tAverage Train Loss: 0.02... \tTest Loss: 0.36140512392520907... \tTest Accuracy: 86.9620253164557\n",
            "Round: 30... \tAverage Train Loss: 0.036... \tTest Loss: 0.28368833866119386... \tTest Accuracy: 90.63291139240506\n",
            "Round: 31... \tAverage Train Loss: 0.018... \tTest Loss: 0.2866543630361557... \tTest Accuracy: 92.15189873417721\n",
            "Round: 32... \tAverage Train Loss: 0.041... \tTest Loss: 0.3021840378522873... \tTest Accuracy: 89.62025316455696\n",
            "Round: 33... \tAverage Train Loss: 0.049... \tTest Loss: 0.22768165756464004... \tTest Accuracy: 93.79746835443038\n",
            "Round: 34... \tAverage Train Loss: 0.031... \tTest Loss: 0.25706013736724853... \tTest Accuracy: 93.16455696202532\n",
            "Round: 35... \tAverage Train Loss: 0.033... \tTest Loss: 0.35928137974739077... \tTest Accuracy: 88.10126582278481\n",
            "Round: 36... \tAverage Train Loss: 0.029... \tTest Loss: 0.2267264353632927... \tTest Accuracy: 92.53164556962025\n",
            "Round: 37... \tAverage Train Loss: 0.023... \tTest Loss: 0.2834882628917694... \tTest Accuracy: 90.63291139240506\n",
            "Round: 38... \tAverage Train Loss: 0.016... \tTest Loss: 0.25805026919841767... \tTest Accuracy: 92.53164556962025\n",
            "Round: 39... \tAverage Train Loss: 0.014... \tTest Loss: 0.2535234038233757... \tTest Accuracy: 91.26582278481013\n",
            "Round: 40... \tAverage Train Loss: 0.015... \tTest Loss: 0.257666680765152... \tTest Accuracy: 92.15189873417721\n",
            "Round: 41... \tAverage Train Loss: 0.032... \tTest Loss: 0.28550189170837403... \tTest Accuracy: 90.25316455696202\n",
            "Round: 42... \tAverage Train Loss: 0.021... \tTest Loss: 0.3594745060443878... \tTest Accuracy: 87.21518987341773\n",
            "Round: 43... \tAverage Train Loss: 0.012... \tTest Loss: 0.3096922022342682... \tTest Accuracy: 89.62025316455696\n",
            "Round: 44... \tAverage Train Loss: 0.018... \tTest Loss: 0.31604847497940064... \tTest Accuracy: 88.86075949367088\n",
            "Round: 45... \tAverage Train Loss: 0.042... \tTest Loss: 0.40418726630210877... \tTest Accuracy: 86.45569620253164\n",
            "Round: 46... \tAverage Train Loss: 0.028... \tTest Loss: 0.34153206021785737... \tTest Accuracy: 88.86075949367088\n",
            "Round: 47... \tAverage Train Loss: 0.014... \tTest Loss: 0.3488805655002594... \tTest Accuracy: 88.60759493670886\n",
            "Round: 48... \tAverage Train Loss: 0.017... \tTest Loss: 0.33590739026069644... \tTest Accuracy: 86.9620253164557\n",
            "Round: 49... \tAverage Train Loss: 0.06... \tTest Loss: 0.2327293636202812... \tTest Accuracy: 92.9113924050633\n",
            "Round: 50... \tAverage Train Loss: 0.019... \tTest Loss: 0.258371083343029... \tTest Accuracy: 91.39240506329114\n"
          ],
          "name": "stdout"
        },
        {
          "output_type": "display_data",
          "data": {
            "image/png": "[encoded data removed]",
            "text/plain": [
              "<Figure size 432x288 with 1 Axes>"
            ]
          },
          "metadata": {
            "tags": [],
            "needs_background": "light"
          }
        },
        {
          "output_type": "display_data",
          "data": {
            "image/png": "[encoded data removed]",
            "text/plain": [
              "<Figure size 432x288 with 1 Axes>"
            ]
          },
          "metadata": {
            "tags": [],
            "needs_background": "light"
          }
        },
        {
          "output_type": "display_data",
          "data": {
            "image/png": "[encoded data removed]",
            "text/plain": [
              "<Figure size 432x288 with 1 Axes>"
            ]
          },
          "metadata": {
            "tags": [],
            "needs_background": "light"
          }
        },
        {
          "output_type": "stream",
          "text": [
            "Training Done!\n",
            "Total time taken to Train: 268.12562084198\n",
            "\n",
            "\n"
          ],
          "name": "stdout"
        }
      ]
    },
    {
      "cell_type": "markdown",
      "metadata": {
        "id": "jmuQYPbF2mes"
      },
      "source": [
        "### Test"
      ]
    },
    {
      "cell_type": "code",
      "metadata": {
        "id": "0tKMlJyF2nGN",
        "colab": {
          "base_uri": "https://localhost:8080/"
        },
        "outputId": "8e42d9df-6ed3-47b4-8b0b-af82e328f2f5"
      },
      "source": [
        "criterion = nn.CrossEntropyLoss()\n",
        "acc, loss = testing(mnist_mlp_non_iid_trained, mnist_data_test, 128, criterion, num_classes, classes_test, True)"
      ],
      "execution_count": 31,
      "outputs": [
        {
          "output_type": "stream",
          "text": [
            "Test Loss: 0.258371\n",
            "\n",
            "Test Accuracy of     0: 86% (66/76)\n",
            "Test Accuracy of     1: 87% (79/90)\n",
            "Test Accuracy of     2: 94% (86/91)\n",
            "Test Accuracy of     3: 98% (72/73)\n",
            "Test Accuracy of     4: 93% (83/89)\n",
            "Test Accuracy of     5: 85% (58/68)\n",
            "Test Accuracy of     6: 98% (61/62)\n",
            "Test Accuracy of     7: 92% (75/81)\n",
            "Test Accuracy of     8: 93% (72/77)\n",
            "Test Accuracy of     9: 84% (70/83)\n",
            "\n",
            "Final Test  Accuracy: 91.392 (722.0/790.0)\n"
          ],
          "name": "stdout"
        }
      ]
    },
    {
      "cell_type": "code",
      "metadata": {
        "id": "1W5krYcSMQiu"
      },
      "source": [
        "hyperparams = {'rounds': rounds,\n",
        "               'C': C,\n",
        "               'K': K,\n",
        "               'E': E,\n",
        "               'batch_size': batch_size,\n",
        "               'lr': lr,\n",
        "               'mu': mu,\n",
        "               'percentage': percentage,\n",
        "               'target_test_accuracy': target_test_accuracy,\n",
        "               }\n",
        "\n",
        "log_dict['MNIST MLP on Non IID'] = {'train_loss': train_loss_multiple_runs, \n",
        "                                'test_loss': test_loss_multiple_runs, \n",
        "                                'test_accuracy': test_accuracy_multiple_runs,\n",
        "                                'hyperparams': hyperparams,\n",
        "                                }"
      ],
      "execution_count": 32,
      "outputs": []
    },
    {
      "cell_type": "markdown",
      "metadata": {
        "id": "emS_SaRAP6TZ"
      },
      "source": [
        "## Pickle Log"
      ]
    },
    {
      "cell_type": "code",
      "metadata": {
        "id": "soAN38JoP0c1"
      },
      "source": [
        "import pickle\n",
        " \n",
        "with open(path + 'Local_Round_FedProx_50.pkl', 'wb') as file:\n",
        "  pickle.dump(log_dict, file)"
      ],
      "execution_count": 33,
      "outputs": []
    },
    {
      "cell_type": "code",
      "metadata": {
        "id": "2UBy-JswSoCJ",
        "colab": {
          "base_uri": "https://localhost:8080/"
        },
        "outputId": "33152da5-3323-4115-910e-0ce8fb61c3a4"
      },
      "source": [
        "log_dict"
      ],
      "execution_count": 34,
      "outputs": [
        {
          "output_type": "execute_result",
          "data": {
            "text/plain": [
              "{'MNIST CNN on IID': {'hyperparams': {'C': 0.1,\n",
              "   'E': 5,\n",
              "   'K': 50,\n",
              "   'batch_size': 10,\n",
              "   'lr': 0.05,\n",
              "   'mu': 0.01,\n",
              "   'percentage': 50,\n",
              "   'rounds': 50,\n",
              "   'target_test_accuracy': 99.0},\n",
              "  'test_accuracy': [[94.81012658227849,\n",
              "    96.9620253164557,\n",
              "    97.46835443037975,\n",
              "    97.46835443037975,\n",
              "    97.84810126582279,\n",
              "    98.48101265822785,\n",
              "    98.60759493670886,\n",
              "    98.60759493670886,\n",
              "    99.11392405063292,\n",
              "    98.86075949367088,\n",
              "    98.9873417721519,\n",
              "    98.9873417721519,\n",
              "    98.86075949367088,\n",
              "    98.9873417721519,\n",
              "    98.86075949367088,\n",
              "    98.9873417721519,\n",
              "    98.9873417721519,\n",
              "    99.11392405063292,\n",
              "    99.24050632911393,\n",
              "    99.11392405063292,\n",
              "    99.24050632911393,\n",
              "    99.24050632911393,\n",
              "    99.24050632911393,\n",
              "    99.24050632911393,\n",
              "    99.24050632911393,\n",
              "    99.11392405063292,\n",
              "    99.24050632911393,\n",
              "    98.9873417721519,\n",
              "    99.11392405063292,\n",
              "    98.86075949367088,\n",
              "    98.9873417721519,\n",
              "    98.9873417721519,\n",
              "    99.24050632911393,\n",
              "    99.11392405063292,\n",
              "    99.11392405063292,\n",
              "    98.86075949367088,\n",
              "    99.11392405063292,\n",
              "    99.24050632911393,\n",
              "    99.36708860759494,\n",
              "    99.24050632911393,\n",
              "    98.9873417721519,\n",
              "    99.24050632911393,\n",
              "    99.24050632911393,\n",
              "    99.11392405063292,\n",
              "    98.9873417721519,\n",
              "    99.11392405063292,\n",
              "    99.24050632911393,\n",
              "    99.24050632911393,\n",
              "    99.24050632911393,\n",
              "    99.36708860759494]],\n",
              "  'test_loss': [[0.31467069635391237,\n",
              "    0.11354910397604108,\n",
              "    0.08611077973749488,\n",
              "    0.07775357431415468,\n",
              "    0.06904448509886861,\n",
              "    0.06048186124144122,\n",
              "    0.05098942026433069,\n",
              "    0.04913142763575888,\n",
              "    0.046282868583721576,\n",
              "    0.04454066263223649,\n",
              "    0.04354323896542628,\n",
              "    0.045472616355787615,\n",
              "    0.041140555611351735,\n",
              "    0.04799306735393766,\n",
              "    0.04280434512443753,\n",
              "    0.04088706695066794,\n",
              "    0.039791476858674284,\n",
              "    0.036658115125534824,\n",
              "    0.03599835969299311,\n",
              "    0.03288861043539946,\n",
              "    0.03478538170861138,\n",
              "    0.03465340603045333,\n",
              "    0.03340170082217592,\n",
              "    0.032827642403173374,\n",
              "    0.0371023131564154,\n",
              "    0.03553948974212981,\n",
              "    0.03493517724361736,\n",
              "    0.03354779201798228,\n",
              "    0.03422179649421014,\n",
              "    0.03460736512910807,\n",
              "    0.033732978575587914,\n",
              "    0.03523261368090753,\n",
              "    0.03454234767244634,\n",
              "    0.03299676336786651,\n",
              "    0.03318563606202988,\n",
              "    0.03468349387354392,\n",
              "    0.03455955841196992,\n",
              "    0.03498620248375664,\n",
              "    0.035264623104647765,\n",
              "    0.03479407185209675,\n",
              "    0.035249858672526536,\n",
              "    0.03256886653256879,\n",
              "    0.030960073558193836,\n",
              "    0.03241553503058549,\n",
              "    0.0384838170472387,\n",
              "    0.0355845725939962,\n",
              "    0.03739818883423359,\n",
              "    0.033540191749438876,\n",
              "    0.030608868624067146,\n",
              "    0.030338225241566215]],\n",
              "  'train_loss': [[0.7637822513365083,\n",
              "    0.22612736312424145,\n",
              "    0.12278102030656816,\n",
              "    0.1275581064809812,\n",
              "    0.10326550615935899,\n",
              "    0.08486527755986834,\n",
              "    0.09060088287778005,\n",
              "    0.06662570433381673,\n",
              "    0.05996692952720423,\n",
              "    0.05381842200211394,\n",
              "    0.048725348953807646,\n",
              "    0.03416501813482965,\n",
              "    0.05426998513159259,\n",
              "    0.04433316242653139,\n",
              "    0.040358994942815515,\n",
              "    0.05277426093340728,\n",
              "    0.0389871699411536,\n",
              "    0.05492233937131306,\n",
              "    0.06251923561521713,\n",
              "    0.05091258679789373,\n",
              "    0.0337261393568368,\n",
              "    0.04077559277491067,\n",
              "    0.04038253182656768,\n",
              "    0.029368941485726587,\n",
              "    0.03086929792990365,\n",
              "    0.04235490540196884,\n",
              "    0.03497129365038651,\n",
              "    0.036378257520679955,\n",
              "    0.03401083925270412,\n",
              "    0.031671367287755325,\n",
              "    0.023932285458948745,\n",
              "    0.033221704882203995,\n",
              "    0.022839883203707355,\n",
              "    0.02424590477944245,\n",
              "    0.018592674004651193,\n",
              "    0.01590220355729318,\n",
              "    0.033035640732258495,\n",
              "    0.030842253925590302,\n",
              "    0.021955851731471476,\n",
              "    0.021733837785439088,\n",
              "    0.02050833781216537,\n",
              "    0.02080309446198372,\n",
              "    0.0163267540628566,\n",
              "    0.022058131334018467,\n",
              "    0.030734636799252257,\n",
              "    0.009595748890998948,\n",
              "    0.016710755271906234,\n",
              "    0.02515233193459248,\n",
              "    0.01993521849868269,\n",
              "    0.02262741050696468]]},\n",
              " 'MNIST CNN on Non IID': {'hyperparams': {'C': 0.1,\n",
              "   'E': 5,\n",
              "   'K': 50,\n",
              "   'batch_size': 10,\n",
              "   'lr': 0.05,\n",
              "   'mu': 0.01,\n",
              "   'percentage': 50,\n",
              "   'rounds': 50,\n",
              "   'target_test_accuracy': 99.0},\n",
              "  'test_accuracy': [[31.139240506329113,\n",
              "    29.11392405063291,\n",
              "    53.037974683544306,\n",
              "    44.177215189873415,\n",
              "    62.40506329113924,\n",
              "    87.0886075949367,\n",
              "    92.65822784810126,\n",
              "    92.15189873417721,\n",
              "    90.0,\n",
              "    87.34177215189874,\n",
              "    92.65822784810126,\n",
              "    93.92405063291139,\n",
              "    90.37974683544304,\n",
              "    90.25316455696202,\n",
              "    92.9113924050633,\n",
              "    95.31645569620254,\n",
              "    94.17721518987342,\n",
              "    93.67088607594937,\n",
              "    92.65822784810126,\n",
              "    95.18987341772151,\n",
              "    96.07594936708861,\n",
              "    94.43037974683544,\n",
              "    95.69620253164557,\n",
              "    95.18987341772151,\n",
              "    95.0632911392405,\n",
              "    96.70886075949367,\n",
              "    96.07594936708861,\n",
              "    97.72151898734177,\n",
              "    96.45569620253164,\n",
              "    95.0632911392405,\n",
              "    97.34177215189874,\n",
              "    96.70886075949367,\n",
              "    96.83544303797468,\n",
              "    97.84810126582279,\n",
              "    97.59493670886076,\n",
              "    97.0886075949367,\n",
              "    97.46835443037975,\n",
              "    98.10126582278481,\n",
              "    95.9493670886076,\n",
              "    96.20253164556962,\n",
              "    94.43037974683544,\n",
              "    98.10126582278481,\n",
              "    97.0886075949367,\n",
              "    98.86075949367088,\n",
              "    98.22784810126582,\n",
              "    96.45569620253164,\n",
              "    96.20253164556962,\n",
              "    97.0886075949367,\n",
              "    97.9746835443038,\n",
              "    97.34177215189874]],\n",
              "  'test_loss': [[2.1850946765899657,\n",
              "    1.9090087671279907,\n",
              "    1.495725365257263,\n",
              "    1.3669605827331544,\n",
              "    1.0335576393127441,\n",
              "    0.5113829599380493,\n",
              "    0.2868220208644867,\n",
              "    0.32910785593986513,\n",
              "    0.31568564536571503,\n",
              "    0.39006020164489746,\n",
              "    0.2579245178222656,\n",
              "    0.17973592439889907,\n",
              "    0.2813169974088669,\n",
              "    0.2837713146686554,\n",
              "    0.21708297006189822,\n",
              "    0.15261656147837638,\n",
              "    0.20143205330371858,\n",
              "    0.19135731753706933,\n",
              "    0.23217702481746674,\n",
              "    0.1620938045203686,\n",
              "    0.11417756282687187,\n",
              "    0.19378435932397842,\n",
              "    0.14880055549144744,\n",
              "    0.16250655170977116,\n",
              "    0.1699351861566305,\n",
              "    0.11943826349377633,\n",
              "    0.1401379175901413,\n",
              "    0.10162358794659376,\n",
              "    0.11269789057075977,\n",
              "    0.15630790007710457,\n",
              "    0.09883038541525602,\n",
              "    0.10742073930501937,\n",
              "    0.10471626099050045,\n",
              "    0.08955629301741719,\n",
              "    0.08289043962806464,\n",
              "    0.09048282796517014,\n",
              "    0.08374979220069945,\n",
              "    0.08471898831967264,\n",
              "    0.12727801103815437,\n",
              "    0.12436488320305944,\n",
              "    0.19157374930977822,\n",
              "    0.09378910818230361,\n",
              "    0.09495923862289637,\n",
              "    0.060688117856904866,\n",
              "    0.06647235905528069,\n",
              "    0.10042693693265319,\n",
              "    0.10190715240202844,\n",
              "    0.0957996073834598,\n",
              "    0.06775792019236833,\n",
              "    0.08825407298877835]],\n",
              "  'train_loss': [[0.13030689933492492,\n",
              "    0.10158421485115669,\n",
              "    0.0668511349376705,\n",
              "    0.1113780617982977,\n",
              "    0.0646570765208453,\n",
              "    0.0646497604919908,\n",
              "    0.043624331333984925,\n",
              "    0.04410873472724213,\n",
              "    0.02901235337244968,\n",
              "    0.023908578890272314,\n",
              "    0.03406429755879152,\n",
              "    0.018605217847015916,\n",
              "    0.017181698225826644,\n",
              "    0.035459373642147206,\n",
              "    0.04789416213653749,\n",
              "    0.021458984328511482,\n",
              "    0.03057896468757341,\n",
              "    0.030940952955693424,\n",
              "    0.016596612939067806,\n",
              "    0.026638564275888104,\n",
              "    0.024645867544381566,\n",
              "    0.030523876359738,\n",
              "    0.021417658478215647,\n",
              "    0.022290381538578204,\n",
              "    0.03708642394107301,\n",
              "    0.0483549725987638,\n",
              "    0.02380637118713154,\n",
              "    0.012325258194546527,\n",
              "    0.03039749001774989,\n",
              "    0.029472785598831257,\n",
              "    0.03030848845051757,\n",
              "    0.024188148999858335,\n",
              "    0.011941173883077378,\n",
              "    0.016500991773306547,\n",
              "    0.017276200233502702,\n",
              "    0.02224132805640046,\n",
              "    0.021579623517037055,\n",
              "    0.009267568817381593,\n",
              "    0.030572302987097323,\n",
              "    0.026102189231425453,\n",
              "    0.057298978523247765,\n",
              "    0.02135363925481215,\n",
              "    0.01634000681057417,\n",
              "    0.016814457677304745,\n",
              "    0.02375133986400518,\n",
              "    0.019804983986269994,\n",
              "    0.015579863607708832,\n",
              "    0.01767087183491741,\n",
              "    0.010689082159292108,\n",
              "    0.02731710980969365]]},\n",
              " 'MNIST MLP on IID': {'hyperparams': {'C': 0.1,\n",
              "   'E': 5,\n",
              "   'K': 50,\n",
              "   'batch_size': 10,\n",
              "   'lr': 0.05,\n",
              "   'mu': 0.01,\n",
              "   'percentage': 50,\n",
              "   'rounds': 50,\n",
              "   'target_test_accuracy': 94.0},\n",
              "  'test_accuracy': [[91.13924050632912,\n",
              "    93.29113924050633,\n",
              "    93.92405063291139,\n",
              "    93.67088607594937,\n",
              "    94.55696202531645,\n",
              "    95.56962025316456,\n",
              "    95.69620253164557,\n",
              "    95.82278481012658,\n",
              "    95.56962025316456,\n",
              "    95.18987341772151,\n",
              "    95.31645569620254,\n",
              "    96.07594936708861,\n",
              "    96.07594936708861,\n",
              "    95.69620253164557,\n",
              "    95.82278481012658,\n",
              "    96.20253164556962,\n",
              "    96.45569620253164,\n",
              "    96.70886075949367,\n",
              "    96.83544303797468,\n",
              "    96.58227848101266,\n",
              "    97.34177215189874,\n",
              "    97.0886075949367,\n",
              "    97.0886075949367,\n",
              "    97.34177215189874,\n",
              "    97.34177215189874,\n",
              "    97.21518987341773,\n",
              "    97.0886075949367,\n",
              "    97.21518987341773,\n",
              "    97.46835443037975,\n",
              "    96.70886075949367,\n",
              "    97.34177215189874,\n",
              "    96.9620253164557,\n",
              "    96.9620253164557,\n",
              "    96.9620253164557,\n",
              "    96.9620253164557,\n",
              "    96.83544303797468,\n",
              "    96.83544303797468,\n",
              "    96.58227848101266,\n",
              "    96.9620253164557,\n",
              "    97.0886075949367,\n",
              "    97.0886075949367,\n",
              "    97.46835443037975,\n",
              "    97.0886075949367,\n",
              "    97.21518987341773,\n",
              "    97.34177215189874,\n",
              "    97.34177215189874,\n",
              "    97.21518987341773,\n",
              "    97.34177215189874,\n",
              "    97.59493670886076,\n",
              "    97.72151898734177]],\n",
              "  'test_loss': [[0.3224335182666779,\n",
              "    0.2738180874824524,\n",
              "    0.2255333961814642,\n",
              "    0.21712984173446895,\n",
              "    0.20161780446320773,\n",
              "    0.17882367011755704,\n",
              "    0.1738697929263115,\n",
              "    0.16048332881741226,\n",
              "    0.15468495104983448,\n",
              "    0.15629741561114788,\n",
              "    0.14807148848380894,\n",
              "    0.13906476801037787,\n",
              "    0.13752039175219835,\n",
              "    0.1332508121084422,\n",
              "    0.1329110319521278,\n",
              "    0.12789455064460636,\n",
              "    0.12255477591976524,\n",
              "    0.12135374236479401,\n",
              "    0.11680620395168662,\n",
              "    0.1191298670919612,\n",
              "    0.11190585486507043,\n",
              "    0.1156909466303885,\n",
              "    0.11382847123248503,\n",
              "    0.11132472508773207,\n",
              "    0.10553975191377103,\n",
              "    0.10847039917800576,\n",
              "    0.10821828952729702,\n",
              "    0.11209997181519867,\n",
              "    0.11106734063532203,\n",
              "    0.10887564856046811,\n",
              "    0.11046349599356763,\n",
              "    0.11183578053098171,\n",
              "    0.11017802857770584,\n",
              "    0.10872014029631391,\n",
              "    0.10463684008717537,\n",
              "    0.10508411146481521,\n",
              "    0.10909909355212002,\n",
              "    0.10534378267307766,\n",
              "    0.10197928568492644,\n",
              "    0.09999337308658286,\n",
              "    0.10325330740977079,\n",
              "    0.10166304521877319,\n",
              "    0.10552152779749595,\n",
              "    0.10558721033341717,\n",
              "    0.10382604221626535,\n",
              "    0.1016361433078302,\n",
              "    0.09887831159364432,\n",
              "    0.09782549590170384,\n",
              "    0.09828391241058708,\n",
              "    0.09898276812708937]],\n",
              "  'train_loss': [[0.7313676722024878,\n",
              "    0.29276040303582945,\n",
              "    0.2578613753064225,\n",
              "    0.18020147536281084,\n",
              "    0.12381945035730799,\n",
              "    0.12372727755327813,\n",
              "    0.14659634327174476,\n",
              "    0.11629454131743922,\n",
              "    0.09455498201595361,\n",
              "    0.08519268643395561,\n",
              "    0.10777583548731248,\n",
              "    0.07707240999561166,\n",
              "    0.09206944926991127,\n",
              "    0.07880977074843314,\n",
              "    0.072855300710944,\n",
              "    0.04508275801352768,\n",
              "    0.09638772755289554,\n",
              "    0.08227594353132493,\n",
              "    0.062427923821546646,\n",
              "    0.03350027731182247,\n",
              "    0.05665429380017385,\n",
              "    0.039134010437652855,\n",
              "    0.05524534384654706,\n",
              "    0.047682568034069846,\n",
              "    0.10147360845631918,\n",
              "    0.06311324228336647,\n",
              "    0.04462338074179004,\n",
              "    0.04473817852832629,\n",
              "    0.062199628876366965,\n",
              "    0.03729416943515793,\n",
              "    0.05728810014546616,\n",
              "    0.0327617649754975,\n",
              "    0.024775524437990193,\n",
              "    0.03377350571071171,\n",
              "    0.044908531409397254,\n",
              "    0.03461624990929785,\n",
              "    0.05212920340656031,\n",
              "    0.0331879238582567,\n",
              "    0.026141466838566378,\n",
              "    0.0491050539431238,\n",
              "    0.057127961608833475,\n",
              "    0.023617159744394788,\n",
              "    0.032339826197942276,\n",
              "    0.04247847354674013,\n",
              "    0.028189939620526277,\n",
              "    0.0765063274816057,\n",
              "    0.024230436625997148,\n",
              "    0.04407946885899582,\n",
              "    0.019992379296933198,\n",
              "    0.023804127582892156]]},\n",
              " 'MNIST MLP on Non IID': {'hyperparams': {'C': 0.1,\n",
              "   'E': 5,\n",
              "   'K': 50,\n",
              "   'batch_size': 10,\n",
              "   'lr': 0.05,\n",
              "   'mu': 0.01,\n",
              "   'percentage': 50,\n",
              "   'rounds': 50,\n",
              "   'target_test_accuracy': 94.0},\n",
              "  'test_accuracy': [[23.544303797468356,\n",
              "    31.139240506329113,\n",
              "    56.45569620253165,\n",
              "    55.063291139240505,\n",
              "    65.82278481012658,\n",
              "    68.35443037974683,\n",
              "    57.9746835443038,\n",
              "    66.07594936708861,\n",
              "    77.72151898734177,\n",
              "    73.92405063291139,\n",
              "    76.70886075949367,\n",
              "    73.41772151898734,\n",
              "    84.68354430379746,\n",
              "    81.89873417721519,\n",
              "    75.56962025316456,\n",
              "    90.25316455696202,\n",
              "    76.45569620253164,\n",
              "    84.17721518987342,\n",
              "    77.34177215189874,\n",
              "    87.0886075949367,\n",
              "    75.9493670886076,\n",
              "    80.12658227848101,\n",
              "    82.0253164556962,\n",
              "    88.73417721518987,\n",
              "    89.24050632911393,\n",
              "    86.32911392405063,\n",
              "    87.59493670886076,\n",
              "    88.48101265822785,\n",
              "    86.9620253164557,\n",
              "    90.63291139240506,\n",
              "    92.15189873417721,\n",
              "    89.62025316455696,\n",
              "    93.79746835443038,\n",
              "    93.16455696202532,\n",
              "    88.10126582278481,\n",
              "    92.53164556962025,\n",
              "    90.63291139240506,\n",
              "    92.53164556962025,\n",
              "    91.26582278481013,\n",
              "    92.15189873417721,\n",
              "    90.25316455696202,\n",
              "    87.21518987341773,\n",
              "    89.62025316455696,\n",
              "    88.86075949367088,\n",
              "    86.45569620253164,\n",
              "    88.86075949367088,\n",
              "    88.60759493670886,\n",
              "    86.9620253164557,\n",
              "    92.9113924050633,\n",
              "    91.39240506329114]],\n",
              "  'test_loss': [[3.467641367340088,\n",
              "    3.2598842418670655,\n",
              "    1.738646688079834,\n",
              "    1.6243193681716919,\n",
              "    1.2205081113815308,\n",
              "    1.1982965021133423,\n",
              "    1.7035783283233643,\n",
              "    1.1741217136383058,\n",
              "    0.9310426766395569,\n",
              "    0.6705564950942993,\n",
              "    0.7839300611495972,\n",
              "    0.832678837966919,\n",
              "    0.441623731803894,\n",
              "    0.5118941073417663,\n",
              "    0.7054735054016114,\n",
              "    0.3425978591442108,\n",
              "    0.6161313157081604,\n",
              "    0.45192056455612184,\n",
              "    0.6445476571083069,\n",
              "    0.370147479057312,\n",
              "    0.705328109741211,\n",
              "    0.5575858503341675,\n",
              "    0.5301093367099762,\n",
              "    0.3702715230703354,\n",
              "    0.3679533819437027,\n",
              "    0.3831372131347656,\n",
              "    0.3925238072872162,\n",
              "    0.35963161730766297,\n",
              "    0.36140512392520907,\n",
              "    0.28368833866119386,\n",
              "    0.2866543630361557,\n",
              "    0.3021840378522873,\n",
              "    0.22768165756464004,\n",
              "    0.25706013736724853,\n",
              "    0.35928137974739077,\n",
              "    0.2267264353632927,\n",
              "    0.2834882628917694,\n",
              "    0.25805026919841767,\n",
              "    0.2535234038233757,\n",
              "    0.257666680765152,\n",
              "    0.28550189170837403,\n",
              "    0.3594745060443878,\n",
              "    0.3096922022342682,\n",
              "    0.31604847497940064,\n",
              "    0.40418726630210877,\n",
              "    0.34153206021785737,\n",
              "    0.3488805655002594,\n",
              "    0.33590739026069644,\n",
              "    0.2327293636202812,\n",
              "    0.258371083343029]],\n",
              "  'train_loss': [[0.2318060118102779,\n",
              "    0.08542559647446292,\n",
              "    0.10257217397106191,\n",
              "    0.07664092123275623,\n",
              "    0.04898846933638884,\n",
              "    0.02356374613278442,\n",
              "    0.036482868149617896,\n",
              "    0.05389917917634982,\n",
              "    0.05395994060928934,\n",
              "    0.036365538560733615,\n",
              "    0.0548173496122472,\n",
              "    0.022235930116174536,\n",
              "    0.03747338042278878,\n",
              "    0.03174962086768614,\n",
              "    0.027373061738597847,\n",
              "    0.02033386629152422,\n",
              "    0.04631969988459928,\n",
              "    0.01533962640613835,\n",
              "    0.03217359297740687,\n",
              "    0.02079169731406081,\n",
              "    0.05092517393216904,\n",
              "    0.021009696431147556,\n",
              "    0.015009460632844519,\n",
              "    0.03559827523104226,\n",
              "    0.05785244533807661,\n",
              "    0.025748250468090796,\n",
              "    0.018936483770453677,\n",
              "    0.01931120417929358,\n",
              "    0.020163715738492707,\n",
              "    0.03609153515441964,\n",
              "    0.017870132281651928,\n",
              "    0.04123049761316118,\n",
              "    0.048515743237027585,\n",
              "    0.031047067605890332,\n",
              "    0.033161250078274564,\n",
              "    0.02851481235420538,\n",
              "    0.02335045442474075,\n",
              "    0.016459661398859078,\n",
              "    0.014009709254372865,\n",
              "    0.014794654020755036,\n",
              "    0.03247747885492734,\n",
              "    0.021408543870784343,\n",
              "    0.01210497034342067,\n",
              "    0.01795445533008832,\n",
              "    0.04245532922632993,\n",
              "    0.028185188318525133,\n",
              "    0.013687801778161276,\n",
              "    0.016552204324044095,\n",
              "    0.06024294535350054,\n",
              "    0.01895276914164424]]}}"
            ]
          },
          "metadata": {
            "tags": []
          },
          "execution_count": 34
        }
      ]
    },
    {
      "cell_type": "code",
      "metadata": {
        "id": "BXa1-CbFo3pX"
      },
      "source": [
        "import pickle\n",
        "\n",
        "with open(path + 'Local_Round_FedProx_50.pkl', 'rb') as file:\n",
        "  log_dict = pickle.load(file)"
      ],
      "execution_count": 35,
      "outputs": []
    },
    {
      "cell_type": "code",
      "metadata": {
        "id": "se_04JMaVJPg",
        "colab": {
          "base_uri": "https://localhost:8080/"
        },
        "outputId": "0b33df9c-74f9-414b-c57c-6d785e45c06c"
      },
      "source": [
        "print([test_acc[-1] for test_acc in log_dict['MNIST CNN on IID']['test_accuracy']])"
      ],
      "execution_count": 36,
      "outputs": [
        {
          "output_type": "stream",
          "text": [
            "[99.36708860759494]\n"
          ],
          "name": "stdout"
        }
      ]
    },
    {
      "cell_type": "code",
      "metadata": {
        "id": "5sv0rv-G4Sqa",
        "colab": {
          "base_uri": "https://localhost:8080/"
        },
        "outputId": "69feae20-58c8-4efe-a7f9-f858761ddaf1"
      },
      "source": [
        "print([test_acc[-1] for test_acc in log_dict['MNIST CNN on Non IID']['test_accuracy']])"
      ],
      "execution_count": 37,
      "outputs": [
        {
          "output_type": "stream",
          "text": [
            "[97.34177215189874]\n"
          ],
          "name": "stdout"
        }
      ]
    },
    {
      "cell_type": "code",
      "metadata": {
        "id": "b2a2_Az-4nal",
        "colab": {
          "base_uri": "https://localhost:8080/"
        },
        "outputId": "a5099765-09b7-4ca1-ab4e-f74e9927fb4b"
      },
      "source": [
        "print([test_acc[-1] for test_acc in log_dict['MNIST MLP on IID']['test_accuracy']])"
      ],
      "execution_count": 38,
      "outputs": [
        {
          "output_type": "stream",
          "text": [
            "[97.72151898734177]\n"
          ],
          "name": "stdout"
        }
      ]
    },
    {
      "cell_type": "code",
      "metadata": {
        "id": "YoRqZyvD4p2K",
        "colab": {
          "base_uri": "https://localhost:8080/"
        },
        "outputId": "a1f1cfcc-800e-423e-cac7-4de4450010df"
      },
      "source": [
        "print([test_acc[-1] for test_acc in log_dict['MNIST MLP on Non IID']['test_accuracy']])"
      ],
      "execution_count": 39,
      "outputs": [
        {
          "output_type": "stream",
          "text": [
            "[91.39240506329114]\n"
          ],
          "name": "stdout"
        }
      ]
    },
    {
      "cell_type": "code",
      "metadata": {
        "id": "B87eGKJnAHIh",
        "colab": {
          "base_uri": "https://localhost:8080/"
        },
        "outputId": "adf96f2d-f301-48ce-af27-dc706cb2bff9"
      },
      "source": [
        "output.show()"
      ],
      "execution_count": 40,
      "outputs": [
        {
          "output_type": "stream",
          "text": [
            "Mounted at /content/drive\n"
          ],
          "name": "stdout"
        }
      ]
    }
  ]
}