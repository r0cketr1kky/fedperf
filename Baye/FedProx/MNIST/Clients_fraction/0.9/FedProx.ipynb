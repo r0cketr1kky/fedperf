{
  "nbformat": 4,
  "nbformat_minor": 0,
  "metadata": {
    "accelerator": "GPU",
    "colab": {
      "name": "FedProx.ipynb",
      "provenance": [],
      "collapsed_sections": [],
      "toc_visible": true,
      "machine_shape": "hm"
    },
    "kernelspec": {
      "name": "python3",
      "display_name": "Python 3"
    },
    "language_info": {
      "name": "python"
    }
  },
  "cells": [
    {
      "cell_type": "markdown",
      "metadata": {
        "id": "view-in-github"
      },
      "source": [
        "<a href=\"https://colab.research.google.com/github/tushar-semwal/fedperf/blob/main/Vineeth/Local_Rounds/FedProx/FedProx.ipynb\" target=\"_parent\"><img src=\"https://colab.research.google.com/assets/colab-badge.svg\" alt=\"Open In Colab\"/></a>"
      ]
    },
    {
      "cell_type": "code",
      "metadata": {
        "id": "yKcpjZLrQQJV"
      },
      "source": [
        "%%capture output\n",
        "try:\n",
        "    from google.colab import drive\n",
        "    drive.mount('/content/drive')\n",
        "\n",
        "    import os\n",
        "    path = '/content/drive/MyDrive/Colab Notebooks/OpenMined/'\n",
        "    os.makedirs(path, exist_ok=True)\n",
        "except:\n",
        "    path = './'"
      ],
      "execution_count": 41,
      "outputs": []
    },
    {
      "cell_type": "markdown",
      "metadata": {
        "id": "-0_nKpfq2h1R"
      },
      "source": [
        "## Imports"
      ]
    },
    {
      "cell_type": "code",
      "metadata": {
        "id": "DLLNM9X2JbQ8",
        "colab": {
          "base_uri": "https://localhost:8080/"
        },
        "outputId": "31671ef1-2835-448f-9ac9-5615955abba2"
      },
      "source": [
        "%load_ext tensorboard\n",
        "import os\n",
        "import numpy as np\n",
        "import matplotlib\n",
        "import matplotlib.pyplot as plt\n",
        "import copy\n",
        "import random\n",
        "import time\n",
        "\n",
        "import torch\n",
        "import torch.nn as nn\n",
        "import torch.nn.functional as F\n",
        "\n",
        "from torch.utils.data import Dataset, DataLoader\n",
        "from torch.utils.tensorboard import SummaryWriter\n",
        "from torchvision import transforms, utils, datasets\n",
        "from torchsummary import summary\n",
        "\n",
        "\n",
        "# Check assigned GPU\n",
        "gpu_info = !nvidia-smi\n",
        "gpu_info = '\\n'.join(gpu_info)\n",
        "if gpu_info.find('failed') >= 0:\n",
        "  print('Select the Runtime > \"Change runtime type\" menu to enable a GPU accelerator, ')\n",
        "  print('and then re-execute this cell.')\n",
        "else:\n",
        "  print(gpu_info)\n",
        "\n",
        "# set manual seed for reproducibility\n",
        "seed = 42\n",
        "\n",
        "# general reproducibility\n",
        "random.seed(seed)\n",
        "np.random.seed(seed)\n",
        "torch.manual_seed(seed)\n",
        "\n",
        "# gpu training specific\n",
        "torch.backends.cudnn.deterministic = True\n",
        "torch.backends.cudnn.benchmark = False"
      ],
      "execution_count": 42,
      "outputs": [
        {
          "output_type": "stream",
          "text": [
            "The tensorboard extension is already loaded. To reload it, use:\n",
            "  %reload_ext tensorboard\n",
            "Sat Apr 24 12:02:29 2021       \n",
            "+-----------------------------------------------------------------------------+\n",
            "| NVIDIA-SMI 465.19.01    Driver Version: 460.32.03    CUDA Version: 11.2     |\n",
            "|-------------------------------+----------------------+----------------------+\n",
            "| GPU  Name        Persistence-M| Bus-Id        Disp.A | Volatile Uncorr. ECC |\n",
            "| Fan  Temp  Perf  Pwr:Usage/Cap|         Memory-Usage | GPU-Util  Compute M. |\n",
            "|                               |                      |               MIG M. |\n",
            "|===============================+======================+======================|\n",
            "|   0  Tesla T4            Off  | 00000000:00:04.0 Off |                    0 |\n",
            "| N/A   71C    P0    33W /  70W |   1284MiB / 15109MiB |      0%      Default |\n",
            "|                               |                      |                  N/A |\n",
            "+-------------------------------+----------------------+----------------------+\n",
            "                                                                               \n",
            "+-----------------------------------------------------------------------------+\n",
            "| Processes:                                                                  |\n",
            "|  GPU   GI   CI        PID   Type   Process name                  GPU Memory |\n",
            "|        ID   ID                                                   Usage      |\n",
            "|=============================================================================|\n",
            "+-----------------------------------------------------------------------------+\n"
          ],
          "name": "stdout"
        }
      ]
    },
    {
      "cell_type": "markdown",
      "metadata": {
        "id": "NY4eWzGiL6Mj"
      },
      "source": [
        "## Load the MNIST Dataset"
      ]
    },
    {
      "cell_type": "code",
      "metadata": {
        "id": "41lWlknqo3pI"
      },
      "source": [
        "torch.cuda.set_device('cuda:0')"
      ],
      "execution_count": 43,
      "outputs": []
    },
    {
      "cell_type": "code",
      "metadata": {
        "id": "G649tjTXLL8F"
      },
      "source": [
        "# create transforms\n",
        "# We will just convert to tensor and normalize since no special transforms are mentioned in the paper\n",
        "transforms_mnist = transforms.Compose([\n",
        "                                       transforms.ToTensor(),\n",
        "                                       transforms.Normalize((0.1307,), (0.3081,))\n",
        "                                       ])\n",
        "\n",
        "mnist_data_train = datasets.MNIST('./data/mnist/', train=True, download=True, transform=transforms_mnist)\n",
        "mnist_data_test = datasets.MNIST('../data/mnist/', train=False, download=True, transform=transforms_mnist)"
      ],
      "execution_count": 44,
      "outputs": []
    },
    {
      "cell_type": "code",
      "metadata": {
        "id": "dm9usjn2vFkL",
        "colab": {
          "base_uri": "https://localhost:8080/"
        },
        "outputId": "d0ffaa33-fa92-437e-a09e-859e2ca063a5"
      },
      "source": [
        "classes = np.array(list(mnist_data_train.class_to_idx.values()))\n",
        "classes_test = np.array(list(mnist_data_test.class_to_idx.values()))\n",
        "num_classes = len(classes_test)\n",
        "print(\"Classes: {} \\tType: {}\".format(classes, type(classes)))\n",
        "print(\"Classes Test: {} \\tType: {}\".format(classes_test, type(classes)))\n"
      ],
      "execution_count": 45,
      "outputs": [
        {
          "output_type": "stream",
          "text": [
            "Classes: [0 1 2 3 4 5 6 7 8 9] \tType: <class 'numpy.ndarray'>\n",
            "Classes Test: [0 1 2 3 4 5 6 7 8 9] \tType: <class 'numpy.ndarray'>\n"
          ],
          "name": "stdout"
        }
      ]
    },
    {
      "cell_type": "code",
      "metadata": {
        "id": "9lvJt3Ofv2SO",
        "colab": {
          "base_uri": "https://localhost:8080/"
        },
        "outputId": "30e182ee-9ce4-48e8-c7cb-2605594b34a0"
      },
      "source": [
        "print(\"Image Shape: {}\".format(mnist_data_train.data[0].size()))"
      ],
      "execution_count": 46,
      "outputs": [
        {
          "output_type": "stream",
          "text": [
            "Image Shape: torch.Size([28, 28])\n"
          ],
          "name": "stdout"
        }
      ]
    },
    {
      "cell_type": "markdown",
      "metadata": {
        "id": "jCOONkg-zV7Y"
      },
      "source": [
        "## Visualize Data"
      ]
    },
    {
      "cell_type": "code",
      "metadata": {
        "id": "R9MK03TZw6Qs"
      },
      "source": [
        "def imshow(img):\n",
        "\timg = img/2 + 0.5 #unnormalize the image\n",
        "\tplt.imshow(img, cmap='gray') # convert from tensor to image"
      ],
      "execution_count": 47,
      "outputs": []
    },
    {
      "cell_type": "code",
      "metadata": {
        "id": "gMJ0Kx4Kw-_H"
      },
      "source": [
        "def visualize(dataset):\n",
        "  figure = plt.figure(figsize=(25,4))\n",
        "  for i in range(20):\n",
        "    axis = figure.add_subplot(2, 20/2, i+1, xticks=[], yticks=[])\n",
        "    data = dataset.data[i]\n",
        "    data = data.numpy()\n",
        "\n",
        "    target = dataset.targets[i]\n",
        "    target = target.numpy()\n",
        "    imshow(data)\n",
        "    axis.set_title(target)\n"
      ],
      "execution_count": 48,
      "outputs": []
    },
    {
      "cell_type": "code",
      "metadata": {
        "id": "8bPOwKg10Ro7",
        "colab": {
          "base_uri": "https://localhost:8080/",
          "height": 200
        },
        "outputId": "84b2dcf8-1bf7-4f88-83cc-5e8f43506504"
      },
      "source": [
        "visualize(mnist_data_train)"
      ],
      "execution_count": 49,
      "outputs": [
        {
          "output_type": "display_data",
          "data": {
            "image/png": "[encoded data removed]",
            "text/plain": [
              "<Figure size 1800x288 with 20 Axes>"
            ]
          },
          "metadata": {
            "tags": []
          }
        }
      ]
    },
    {
      "cell_type": "code",
      "metadata": {
        "id": "RKoh5Cf70UYu",
        "colab": {
          "base_uri": "https://localhost:8080/",
          "height": 200
        },
        "outputId": "a7f7839c-534f-45ff-f1f9-c5e900e292c9"
      },
      "source": [
        "visualize(mnist_data_test)"
      ],
      "execution_count": 50,
      "outputs": [
        {
          "output_type": "display_data",
          "data": {
            "image/png": "[encoded data removed]",
            "text/plain": [
              "<Figure size 1800x288 with 20 Axes>"
            ]
          },
          "metadata": {
            "tags": []
          }
        }
      ]
    },
    {
      "cell_type": "markdown",
      "metadata": {
        "id": "ctjRsETiO1qO"
      },
      "source": [
        "## Partitioning the Data (IID and non-IID)"
      ]
    },
    {
      "cell_type": "code",
      "metadata": {
        "id": "3_v8lyrgO5dD"
      },
      "source": [
        "def iid_partition(dataset, clients):\n",
        "  \"\"\"\n",
        "  I.I.D paritioning of data over clients\n",
        "  Shuffle the data\n",
        "  Split it between clients\n",
        "  \n",
        "  params:\n",
        "    - dataset (torch.utils.Dataset): Dataset containing the MNIST Images\n",
        "    - clients (int): Number of Clients to split the data between\n",
        "\n",
        "  returns:\n",
        "    - Dictionary of image indexes for each client\n",
        "  \"\"\"\n",
        "\n",
        "  num_items_per_client = int(len(dataset)/clients)\n",
        "  client_dict = {}\n",
        "  image_idxs = [i for i in range(len(dataset))]\n",
        "\n",
        "  for i in range(clients):\n",
        "    client_dict[i] = set(np.random.choice(image_idxs, num_items_per_client, replace=False))\n",
        "    image_idxs = list(set(image_idxs) - client_dict[i])\n",
        "\n",
        "  return client_dict"
      ],
      "execution_count": 51,
      "outputs": []
    },
    {
      "cell_type": "code",
      "metadata": {
        "id": "4zMdliGMQoSl"
      },
      "source": [
        "def non_iid_partition(dataset, clients, total_shards, shards_size, num_shards_per_client):\n",
        "  \"\"\"\n",
        "  non I.I.D parititioning of data over clients\n",
        "  Sort the data by the digit label\n",
        "  Divide the data into N shards of size S\n",
        "  Each of the clients will get X shards\n",
        "\n",
        "  params:\n",
        "    - dataset (torch.utils.Dataset): Dataset containing the MNIST Images\n",
        "    - clients (int): Number of Clients to split the data between\n",
        "    - total_shards (int): Number of shards to partition the data in\n",
        "    - shards_size (int): Size of each shard \n",
        "    - num_shards_per_client (int): Number of shards of size shards_size that each client receives\n",
        "\n",
        "  returns:\n",
        "    - Dictionary of image indexes for each client\n",
        "  \"\"\"\n",
        "  \n",
        "  shard_idxs = [i for i in range(total_shards)]\n",
        "  client_dict = {i: np.array([], dtype='int64') for i in range(clients)}\n",
        "  idxs = np.arange(len(dataset))\n",
        "  data_labels = dataset.targets.numpy()\n",
        "\n",
        "  # sort the labels\n",
        "  label_idxs = np.vstack((idxs, data_labels))\n",
        "  label_idxs = label_idxs[:, label_idxs[1,:].argsort()]\n",
        "  idxs = label_idxs[0,:]\n",
        "\n",
        "  # divide the data into total_shards of size shards_size\n",
        "  # assign num_shards_per_client to each client\n",
        "  for i in range(clients):\n",
        "    rand_set = set(np.random.choice(shard_idxs, num_shards_per_client, replace=False))\n",
        "    shard_idxs = list(set(shard_idxs) - rand_set)\n",
        "\n",
        "    for rand in rand_set:\n",
        "      client_dict[i] = np.concatenate((client_dict[i], idxs[rand*shards_size:(rand+1)*shards_size]), axis=0)\n",
        "  \n",
        "  return client_dict\n",
        "\n",
        "\n",
        "\n"
      ],
      "execution_count": 52,
      "outputs": []
    },
    {
      "cell_type": "markdown",
      "metadata": {
        "id": "PTfxv8kFoGAy"
      },
      "source": [
        "## Models"
      ]
    },
    {
      "cell_type": "code",
      "metadata": {
        "id": "CvoDNFKbZST5"
      },
      "source": [
        "class MNIST_2NN(nn.Module):\n",
        "  \"\"\"\n",
        "  A simple multilayer-perceptron with 2-hidden layers with 200 units each\n",
        "  using ReLu activations\n",
        "\n",
        "  Total Expected Params: 199,210\n",
        "  \"\"\"\n",
        "  def __init__(self):\n",
        "    super(MNIST_2NN, self).__init__()\n",
        "\n",
        "    self.fc1 = nn.Linear(28*28, 200)\n",
        "    self.fc2 = nn.Linear(200, 200)\n",
        "    self.fc3 = nn.Linear(200, 10)\n",
        "\n",
        "  def forward(self, x):\n",
        "    x = torch.flatten(x, 1)\n",
        "    x = F.relu(self.fc1(x))\n",
        "    x = F.relu(self.fc2(x))\n",
        "    out = self.fc3(x)\n",
        "\n",
        "    return x"
      ],
      "execution_count": 53,
      "outputs": []
    },
    {
      "cell_type": "code",
      "metadata": {
        "id": "ut1hZ8x3qYPZ"
      },
      "source": [
        "class MNIST_CNN(nn.Module):\n",
        "  \"\"\"\n",
        "  CNN with two 5x5 convolution lauers(the first with 32 channels, second with 64,\n",
        "  each followed with 2x2 max pooling), a fully connected layer with 512 uunits and \n",
        "  ReLu activation, and the final Softmax output layer\n",
        "\n",
        "  Total Expected Params: 1,663,370\n",
        "  \"\"\"\n",
        "  def __init__(self):\n",
        "    super(MNIST_CNN, self).__init__()\n",
        "\n",
        "    self.conv1 = nn.Conv2d(1, 32, kernel_size=5)\n",
        "    self.conv2 = nn.Conv2d(32, 64, kernel_size=5)\n",
        "    \n",
        "    self.pool = nn.MaxPool2d(2,2)\n",
        "    self.dropout = nn.Dropout(p=0.2)\n",
        "\n",
        "    self.fc1 = nn.Linear(1024, 512)\n",
        "    self.out = nn.Linear(512, 10)\n",
        "\n",
        "  def forward(self, x):\n",
        "    x = self.pool(F.relu(self.conv1(x)))\n",
        "    x = self.pool(F.relu(self.conv2(x)))\n",
        "    x = self.dropout(x)\n",
        "    x = torch.flatten(x, 1)\n",
        "    x = F.relu(self.fc1(x))\n",
        "    x = self.out(x)\n",
        "    out = F.log_softmax(x, dim=1)\n",
        "\n",
        "    return out"
      ],
      "execution_count": 54,
      "outputs": []
    },
    {
      "cell_type": "markdown",
      "metadata": {
        "id": "uVv4HA9HuLtr"
      },
      "source": [
        "### Print Model Summaries"
      ]
    },
    {
      "cell_type": "code",
      "metadata": {
        "id": "I5oTH710sJEt",
        "colab": {
          "base_uri": "https://localhost:8080/"
        },
        "outputId": "df1256dd-27d0-4ae1-ec66-3f92d08b6450"
      },
      "source": [
        "mnist_mlp = MNIST_2NN()\n",
        "mnist_cnn = MNIST_CNN()\n",
        "\n",
        "if torch.cuda.is_available():\n",
        "  mnist_mlp.cuda()\n",
        "  mnist_cnn.cuda()\n",
        "\n",
        "print(\"MNIST MLP SUMMARY\")\n",
        "print(summary(mnist_mlp, (28,28)))\n",
        "\n",
        "print(\"\\nMNIST CNN SUMMARY\")\n",
        "print(summary(mnist_cnn, (1, 28,28)))"
      ],
      "execution_count": 55,
      "outputs": [
        {
          "output_type": "stream",
          "text": [
            "MNIST MLP SUMMARY\n",
            "----------------------------------------------------------------\n",
            "        Layer (type)               Output Shape         Param #\n",
            "================================================================\n",
            "            Linear-1                  [-1, 200]         157,000\n",
            "            Linear-2                  [-1, 200]          40,200\n",
            "            Linear-3                   [-1, 10]           2,010\n",
            "================================================================\n",
            "Total params: 199,210\n",
            "Trainable params: 199,210\n",
            "Non-trainable params: 0\n",
            "----------------------------------------------------------------\n",
            "Input size (MB): 0.00\n",
            "Forward/backward pass size (MB): 0.00\n",
            "Params size (MB): 0.76\n",
            "Estimated Total Size (MB): 0.77\n",
            "----------------------------------------------------------------\n",
            "None\n",
            "\n",
            "MNIST CNN SUMMARY\n",
            "----------------------------------------------------------------\n",
            "        Layer (type)               Output Shape         Param #\n",
            "================================================================\n",
            "            Conv2d-1           [-1, 32, 24, 24]             832\n",
            "         MaxPool2d-2           [-1, 32, 12, 12]               0\n",
            "            Conv2d-3             [-1, 64, 8, 8]          51,264\n",
            "         MaxPool2d-4             [-1, 64, 4, 4]               0\n",
            "           Dropout-5             [-1, 64, 4, 4]               0\n",
            "            Linear-6                  [-1, 512]         524,800\n",
            "            Linear-7                   [-1, 10]           5,130\n",
            "================================================================\n",
            "Total params: 582,026\n",
            "Trainable params: 582,026\n",
            "Non-trainable params: 0\n",
            "----------------------------------------------------------------\n",
            "Input size (MB): 0.00\n",
            "Forward/backward pass size (MB): 0.23\n",
            "Params size (MB): 2.22\n",
            "Estimated Total Size (MB): 2.45\n",
            "----------------------------------------------------------------\n",
            "None\n"
          ],
          "name": "stdout"
        }
      ]
    },
    {
      "cell_type": "markdown",
      "metadata": {
        "id": "JYXicM_FjSv6"
      },
      "source": [
        "## FedProx"
      ]
    },
    {
      "cell_type": "markdown",
      "metadata": {
        "id": "cjGMTWxAOsf1"
      },
      "source": [
        "### Systems Heterogeneity Simulations\n",
        "\n",
        "Generate epochs for selected clients based on percentage of devices that corresponds to heterogeneity. \n",
        "\n",
        "Assign x number of epochs (chosen unifirmly at random between [1, E]) to 0%, 50% or 90% of the selected devices, respectively. Settings where 0% devices perform fewer than E epochs of work correspond to the environments without system heterogeneity, while 90% of the devices sending their partial solutions corresponds to highly heterogenous system."
      ]
    },
    {
      "cell_type": "code",
      "metadata": {
        "id": "i-WTHuT3OpFD"
      },
      "source": [
        "def GenerateLocalEpochs(percentage, size, max_epochs):\n",
        "  ''' Method generates list of epochs for selected clients\n",
        "  to replicate system heteroggeneity\n",
        "\n",
        "  Params:\n",
        "    percentage: percentage of clients to have fewer than E epochs\n",
        "    size:       total size of the list\n",
        "    max_epochs: maximum value for local epochs\n",
        "  \n",
        "  Returns:\n",
        "    List of size epochs for each Client Update\n",
        "\n",
        "  '''\n",
        "\n",
        "  # if percentage is 0 then each client runs for E epochs\n",
        "  if percentage == 0:\n",
        "      return np.array([max_epochs]*size)\n",
        "  else:\n",
        "    # get the number of clients to have fewer than E epochs\n",
        "    heterogenous_size = int((percentage/100) * size)\n",
        "\n",
        "    # generate random uniform epochs of heterogenous size between 1 and E\n",
        "    epoch_list = np.random.randint(1, max_epochs, heterogenous_size)\n",
        "\n",
        "    # the rest of the clients will have E epochs\n",
        "    remaining_size = size - heterogenous_size\n",
        "    rem_list = [max_epochs]*remaining_size\n",
        "\n",
        "    epoch_list = np.append(epoch_list, rem_list, axis=0)\n",
        "    \n",
        "    # shuffle the list and return\n",
        "    np.random.shuffle(epoch_list)\n",
        "\n",
        "    return epoch_list"
      ],
      "execution_count": 56,
      "outputs": []
    },
    {
      "cell_type": "markdown",
      "metadata": {
        "id": "gf_8XEXa-gZ7"
      },
      "source": [
        "## Federated Averaging"
      ]
    },
    {
      "cell_type": "markdown",
      "metadata": {
        "id": "L-aNdQsQ-Kvp"
      },
      "source": [
        "### Local Training (Client Update)\n",
        "\n",
        "Local training for the model on client side"
      ]
    },
    {
      "cell_type": "code",
      "metadata": {
        "id": "oX6OsQyO-Gz7"
      },
      "source": [
        "class CustomDataset(Dataset):\n",
        "  def __init__(self, dataset, idxs):\n",
        "      self.dataset = dataset\n",
        "      self.idxs = list(idxs)\n",
        "\n",
        "  def __len__(self):\n",
        "      return len(self.idxs)\n",
        "\n",
        "  def __getitem__(self, item):\n",
        "      image, label = self.dataset[self.idxs[item]]\n",
        "      return image, label\n",
        "\n",
        "\n",
        "class ClientUpdate(object):\n",
        "  def __init__(self, dataset, batchSize, learning_rate, epochs, idxs, mu, algorithm):\n",
        "    self.train_loader = DataLoader(CustomDataset(dataset, idxs), batch_size=batchSize, shuffle=True)\n",
        "    self.algorithm = algorithm\n",
        "    self.learning_rate = learning_rate\n",
        "    self.epochs = epochs\n",
        "\n",
        "  def train(self, model):\n",
        "    criterion = nn.CrossEntropyLoss()\n",
        "    proximal_criterion = nn.MSELoss(reduction='mean')\n",
        "    optimizer = torch.optim.SGD(model.parameters(), lr=self.learning_rate, momentum=0.5)\n",
        "\n",
        "    # use the weights of global model for proximal term calculation\n",
        "    global_model = copy.deepcopy(model)\n",
        "\n",
        "    # calculate local training time\n",
        "    start_time = time.time()\n",
        "\n",
        "\n",
        "    e_loss = []\n",
        "    for epoch in range(1, self.epochs+1):\n",
        "\n",
        "      train_loss = 0.0\n",
        "\n",
        "      model.train()\n",
        "      for data, labels in self.train_loader:\n",
        "\n",
        "        if torch.cuda.is_available():\n",
        "          data, labels = data.cuda(), labels.cuda()\n",
        "\n",
        "        # clear the gradients\n",
        "        optimizer.zero_grad()\n",
        "        # make a forward pass\n",
        "        output = model(data)\n",
        "\n",
        "        # calculate the loss + the proximal term\n",
        "        _, pred = torch.max(output, 1)\n",
        "\n",
        "        if self.algorithm == 'fedprox':\n",
        "          proximal_term = 0.0\n",
        "\n",
        "          # iterate through the current and global model parameters\n",
        "          for w, w_t in zip(model.parameters(), global_model.parameters()) :\n",
        "            # update the proximal term \n",
        "            #proximal_term += torch.sum(torch.abs((w-w_t)**2))\n",
        "            proximal_term += (w-w_t).norm(2)\n",
        "\n",
        "          loss = criterion(output, labels) + (mu/2)*proximal_term\n",
        "        else:\n",
        "          loss = criterion(output, labels)\n",
        "    \n",
        "        # do a backwards pass\n",
        "        loss.backward()\n",
        "        # perform a single optimization step\n",
        "        optimizer.step()\n",
        "        # update training loss\n",
        "        train_loss += loss.item()*data.size(0)\n",
        "\n",
        "      # average losses\n",
        "      train_loss = train_loss/len(self.train_loader.dataset)\n",
        "      e_loss.append(train_loss)\n",
        "\n",
        "    total_loss = sum(e_loss)/len(e_loss)\n",
        "\n",
        "    return model.state_dict(), total_loss, (time.time() - start_time)"
      ],
      "execution_count": 57,
      "outputs": []
    },
    {
      "cell_type": "markdown",
      "metadata": {
        "id": "Ukgh1DVHE2Ds"
      },
      "source": [
        "### Server Side Training\n",
        "\n",
        "Following Algorithm 1 from the paper"
      ]
    },
    {
      "cell_type": "code",
      "metadata": {
        "id": "1NF1e33BgpeL"
      },
      "source": [
        "def training(model, rounds, batch_size, lr, ds, ds_test, data_dict, C, K, E, mu, percentage, plt_title, plt_color, target_test_accuracy, algorithm=\"fedprox\"):\n",
        "  \"\"\"\n",
        "  Function implements the Federated Averaging Algorithm from the FedAvg paper.\n",
        "  Specifically, this function is used for the server side training and weight update\n",
        "\n",
        "  Params:\n",
        "    - model:           PyTorch model to train\n",
        "    - rounds:          Number of communication rounds for the client update\n",
        "    - batch_size:      Batch size for client update training\n",
        "    - lr:              Learning rate used for client update training\n",
        "    - ds:              Dataset used for training\n",
        "    - ds_test:         Dataset used for testing\n",
        "    - data_dict:       Type of data partition used for training (IID or non-IID)\n",
        "    - C:               Fraction of clients randomly chosen to perform computation on each round\n",
        "    - K:               Total number of clients\n",
        "    - E:               Number of training passes each client makes over its local dataset per round\n",
        "    - tb_writer_name:  Directory name to save the tensorboard logs\n",
        "  Returns:\n",
        "    - model:           Trained model on the server\n",
        "  \"\"\"\n",
        "\n",
        "  # global model weights\n",
        "  global_weights = model.state_dict()\n",
        "\n",
        "  # training loss\n",
        "  # train_accuracy = []\n",
        "  train_loss = []\n",
        "  test_accuracy = []\n",
        "  test_loss = []\n",
        "\n",
        "  # store last loss for convergence\n",
        "  last_loss = 0.0\n",
        "\n",
        "  # total time taken \n",
        "  total_time = 0\n",
        "  start = time.time()\n",
        "    \n",
        "  print(f\"System heterogeneity set to {percentage}% stragglers.\\n\")\n",
        "  print(f\"Picking {max(int(C*K),1 )} random clients per round.\\n\")\n",
        "\n",
        "  for curr_round in range(1, rounds+1):\n",
        "    w, local_loss, lst_local_train_time = [], [], []\n",
        "\n",
        "    m = max(int(C*K), 1)\n",
        "\n",
        "    heterogenous_epoch_list = GenerateLocalEpochs(percentage, size=m, max_epochs=E)\n",
        "    heterogenous_epoch_list = np.array(heterogenous_epoch_list)\n",
        "\n",
        "    S_t = np.random.choice(range(K), m, replace=False)\n",
        "    S_t = np.array(S_t)\n",
        "    \n",
        "    # For Federated Averaging, drop all the clients that are stragglers\n",
        "    if algorithm == 'fedavg':\n",
        "      stragglers_indices = np.argwhere(heterogenous_epoch_list < E)\n",
        "      heterogenous_epoch_list = np.delete(heterogenous_epoch_list, stragglers_indices)\n",
        "      S_t = np.delete(S_t, stragglers_indices)\n",
        "\n",
        "    for k, epoch in zip(S_t, heterogenous_epoch_list):\n",
        "      local_update = ClientUpdate(dataset=ds, batchSize=batch_size, learning_rate=lr, epochs=epoch, idxs=data_dict[k], mu=mu, algorithm=algorithm)\n",
        "      weights, loss, local_train_time = local_update.train(model=copy.deepcopy(model))\n",
        "\n",
        "      w.append(copy.deepcopy(weights))\n",
        "      local_loss.append(copy.deepcopy(loss))\n",
        "      lst_local_train_time.append(local_train_time)\n",
        "\n",
        "    # calculate time to update the global weights\n",
        "    global_start_time = time.time()\n",
        "\n",
        "    # updating the global weights\n",
        "    weights_avg = copy.deepcopy(w[0])\n",
        "    for k in weights_avg.keys():\n",
        "      for i in range(1, len(w)):\n",
        "        weights_avg[k] += w[i][k]\n",
        "\n",
        "      weights_avg[k] = torch.div(weights_avg[k], len(w))\n",
        "\n",
        "    global_weights = weights_avg\n",
        "    global_end_time = time.time()\n",
        "\n",
        "    # calculate total time \n",
        "    total_time += (global_end_time - global_start_time) + sum(lst_local_train_time)/len(lst_local_train_time)\n",
        "\n",
        "    # move the updated weights to our model state dict\n",
        "    model.load_state_dict(global_weights)\n",
        "\n",
        "    # loss\n",
        "    loss_avg = sum(local_loss) / len(local_loss)\n",
        "\n",
        "    # test accuracy\n",
        "    criterion = nn.CrossEntropyLoss()\n",
        "    test_accuracy_current, test_loss_current = testing(copy.deepcopy(model), ds_test, 128, criterion, num_classes, classes_test)\n",
        "    test_accuracy.append(test_accuracy_current)\n",
        "    test_loss.append(test_loss_current)\n",
        "\n",
        "    print(f\"Round: {curr_round}... \\tAverage Train Loss: {round(loss_avg, 3)}... \\tTest Loss: {test_loss_current}... \\tTest Accuracy: {test_accuracy_current}\")\n",
        "    train_loss.append(loss_avg)\n",
        "\n",
        "#     # break if we achieve the target test accuracy\n",
        "#     if test_accuracy_current >= target_test_accuracy:\n",
        "#       rounds = curr_round\n",
        "#       break\n",
        "\n",
        "    # # break if we achieve convergence, i.e., loss between two consecutive rounds is <0.0001\n",
        "    # if algorithm == 'fedprox' and abs(loss_avg - last_loss) < 0.0001:\n",
        "    #   rounds = curr_round\n",
        "    #   break\n",
        "    \n",
        "    # update the last loss\n",
        "    last_loss = loss_avg\n",
        "\n",
        "  end = time.time()\n",
        "\n",
        "  # plot train loss\n",
        "  fig, ax = plt.subplots()\n",
        "  x_axis = np.arange(1, rounds+1)\n",
        "  y_axis = np.array(train_loss)\n",
        "  ax.plot(x_axis, y_axis)\n",
        "\n",
        "  ax.set(xlabel='Number of Rounds', ylabel='Train Loss', title=plt_title)\n",
        "  ax.grid()\n",
        "  fig.savefig(plt_title+'_Train_loss.jpg', format='jpg')\n",
        "  plt.show()\n",
        "\n",
        "  fig, ax = plt.subplots()\n",
        "  x_axis = np.arange(1, rounds+1)\n",
        "  y_axis = np.array(test_loss)\n",
        "  ax.plot(x_axis, y_axis, 'tab:'+plt_color)\n",
        "\n",
        "  ax.set(xlabel='Number of Rounds', ylabel='Test Loss', title=plt_title)\n",
        "  ax.grid()\n",
        "  fig.savefig(plt_title+'_Test_loss.jpg', format='jpg')\n",
        "  plt.show()\n",
        "\n",
        "\n",
        "  fig, ax = plt.subplots()\n",
        "  x_axis = np.arange(1, rounds+1)\n",
        "  y_axis = np.array(test_accuracy)\n",
        "  ax.plot(x_axis, y_axis, 'tab:'+plt_color)\n",
        "\n",
        "  ax.set(xlabel='Number of Rounds', ylabel='Test Accuracy', title=plt_title)\n",
        "  ax.grid()\n",
        "  fig.savefig(plt_title+'_Test_Accuracy.jpg', format='jpg')\n",
        "  plt.show()\n",
        "  \n",
        "  print(\"Training Done!\")\n",
        "  print(\"Total time taken to Train: {}\\n\\n\".format(end-start))\n",
        "  \n",
        "  return model, train_loss, test_accuracy, test_loss"
      ],
      "execution_count": 58,
      "outputs": []
    },
    {
      "cell_type": "markdown",
      "metadata": {
        "id": "tUYyb4T-uXmF"
      },
      "source": [
        "## Testing Loop"
      ]
    },
    {
      "cell_type": "code",
      "metadata": {
        "id": "uCcIZmO5uan9"
      },
      "source": [
        "def testing(model, dataset, bs, criterion, num_classes, classes, print_info=False):\n",
        "  #test loss \n",
        "  test_loss = 0.0\n",
        "  correct_class = list(0. for i in range(num_classes))\n",
        "  total_class = list(0. for i in range(num_classes))\n",
        "\n",
        "  test_loader = DataLoader(dataset, batch_size=bs)\n",
        "  l = len(test_loader)\n",
        "  model.eval()\n",
        "  for data, labels in test_loader:\n",
        "\n",
        "    if torch.cuda.is_available():\n",
        "      data, labels = data.cuda(), labels.cuda()\n",
        "\n",
        "    output = model(data)\n",
        "    loss = criterion(output, labels)\n",
        "    test_loss += loss.item()*data.size(0)\n",
        "\n",
        "    _, pred = torch.max(output, 1)\n",
        "\n",
        "    correct_tensor = pred.eq(labels.data.view_as(pred))\n",
        "    correct = np.squeeze(correct_tensor.numpy()) if not torch.cuda.is_available() else np.squeeze(correct_tensor.cpu().numpy())\n",
        "\n",
        "    #test accuracy for each object class\n",
        "    for i in range(num_classes):\n",
        "      label = labels.data[i]\n",
        "      correct_class[label] += correct[i].item()\n",
        "      total_class[label] += 1\n",
        "    \n",
        "  # avg test loss\n",
        "  test_loss = test_loss/len(test_loader.dataset)\n",
        "  test_accuracy = 100. * np.sum(correct_class) / np.sum(total_class)\n",
        "\n",
        "  if print_info:\n",
        "    print(\"Test Loss: {:.6f}\\n\".format(test_loss))\n",
        "\n",
        "    for i in range(10):\n",
        "      if total_class[i]>0:\n",
        "        print('Test Accuracy of %5s: %2d%% (%2d/%2d)' % \n",
        "              (classes[i], 100 * correct_class[i] / total_class[i],\n",
        "              np.sum(correct_class[i]), np.sum(total_class[i])))\n",
        "      else:\n",
        "        print('Test Accuracy of %5s: N/A (no training examples)' % (classes[i]))\n",
        "\n",
        "    print('\\nFinal Test  Accuracy: {:.3f} ({}/{})'.format(\n",
        "          100. * np.sum(correct_class) / np.sum(total_class),\n",
        "          np.sum(correct_class), np.sum(total_class)))\n",
        "  \n",
        "  return test_accuracy, test_loss"
      ],
      "execution_count": 59,
      "outputs": []
    },
    {
      "cell_type": "markdown",
      "metadata": {
        "id": "Ri0FqXFeHW-V"
      },
      "source": [
        "## Logger"
      ]
    },
    {
      "cell_type": "code",
      "metadata": {
        "id": "thZm2kSiHT4v"
      },
      "source": [
        "log_dict = {}\n",
        "NUM_REPEAT = 1"
      ],
      "execution_count": 60,
      "outputs": []
    },
    {
      "cell_type": "markdown",
      "metadata": {
        "id": "4hO5oV6aXqeh"
      },
      "source": [
        "## MNIST CNN on IID"
      ]
    },
    {
      "cell_type": "markdown",
      "metadata": {
        "id": "flSQv_P4zCfx"
      },
      "source": [
        "### Train\n"
      ]
    },
    {
      "cell_type": "code",
      "metadata": {
        "id": "0ZalcKZtEseA",
        "colab": {
          "base_uri": "https://localhost:8080/",
          "height": 1000
        },
        "outputId": "7744f164-54f3-48c5-b2c8-93ac8242cdc0"
      },
      "source": [
        "train_loss_multiple_runs = [None] * NUM_REPEAT\n",
        "test_accuracy_multiple_runs = [None] * NUM_REPEAT\n",
        "test_loss_multiple_runs = [None] * NUM_REPEAT\n",
        "\n",
        "for exp_num in range(NUM_REPEAT):\n",
        "  print(\"Experiment Run Number: \", exp_num)\n",
        "\n",
        "  # number of training rounds\n",
        "  rounds = 50\n",
        "  # client fraction\n",
        "  C = 0.9\n",
        "  # number of clients\n",
        "  K = 100\n",
        "  # number of training passes on local dataset for each roung\n",
        "  E = 5\n",
        "  # batch size\n",
        "  batch_size = 10\n",
        "  # learning Rate\n",
        "  lr = 0.05\n",
        "  # proximal term constant\n",
        "  mu = 0.01\n",
        "  # percentage of clients to have fewer than E epochs\n",
        "  percentage = 50\n",
        "\n",
        "  # target_test_accuracy\n",
        "  target_test_accuracy=99.0\n",
        "  # data partition dictionary\n",
        "  iid_dict = iid_partition(mnist_data_train, 100)\n",
        "  # load model\n",
        "  mnist_cnn = MNIST_CNN()\n",
        "\n",
        "  if torch.cuda.is_available():\n",
        "    mnist_cnn.cuda()\n",
        "\n",
        "  mnist_cnn_iid_trained, train_loss, test_accuracy, test_loss = training(mnist_cnn, rounds, batch_size, lr, mnist_data_train, mnist_data_test, iid_dict, C, K, E, mu, percentage, \"MNIST CNN on IID Dataset\", \"orange\", target_test_accuracy)\n",
        "\n",
        "  train_loss_multiple_runs[exp_num] = train_loss\n",
        "  test_accuracy_multiple_runs[exp_num] = test_accuracy\n",
        "  test_loss_multiple_runs[exp_num] = test_loss"
      ],
      "execution_count": 61,
      "outputs": [
        {
          "output_type": "stream",
          "text": [
            "Experiment Run Number:  0\n",
            "System heterogeneity set to 50% stragglers.\n",
            "\n",
            "Picking 90 random clients per round.\n",
            "\n",
            "Round: 1... \tAverage Train Loss: 0.777... \tTest Loss: 0.4728694719314575... \tTest Accuracy: 93.54430379746836\n",
            "Round: 2... \tAverage Train Loss: 0.24... \tTest Loss: 0.10595247623547911... \tTest Accuracy: 96.70886075949367\n",
            "Round: 3... \tAverage Train Loss: 0.144... \tTest Loss: 0.07972730276025831... \tTest Accuracy: 96.9620253164557\n",
            "Round: 4... \tAverage Train Loss: 0.115... \tTest Loss: 0.06571214165212587... \tTest Accuracy: 97.59493670886076\n",
            "Round: 5... \tAverage Train Loss: 0.096... \tTest Loss: 0.05782889560176991... \tTest Accuracy: 97.9746835443038\n",
            "Round: 6... \tAverage Train Loss: 0.083... \tTest Loss: 0.05221650475396309... \tTest Accuracy: 98.60759493670886\n",
            "Round: 7... \tAverage Train Loss: 0.082... \tTest Loss: 0.04704525838163681... \tTest Accuracy: 98.48101265822785\n",
            "Round: 8... \tAverage Train Loss: 0.073... \tTest Loss: 0.04371374118784443... \tTest Accuracy: 99.11392405063292\n",
            "Round: 9... \tAverage Train Loss: 0.065... \tTest Loss: 0.04161446064852644... \tTest Accuracy: 99.24050632911393\n",
            "Round: 10... \tAverage Train Loss: 0.063... \tTest Loss: 0.03922182902896311... \tTest Accuracy: 99.24050632911393\n",
            "Round: 11... \tAverage Train Loss: 0.058... \tTest Loss: 0.03752281839381903... \tTest Accuracy: 99.24050632911393\n",
            "Round: 12... \tAverage Train Loss: 0.057... \tTest Loss: 0.035733349661203104... \tTest Accuracy: 99.24050632911393\n",
            "Round: 13... \tAverage Train Loss: 0.053... \tTest Loss: 0.034693809775204865... \tTest Accuracy: 99.24050632911393\n",
            "Round: 14... \tAverage Train Loss: 0.053... \tTest Loss: 0.03370636437804787... \tTest Accuracy: 99.24050632911393\n",
            "Round: 15... \tAverage Train Loss: 0.051... \tTest Loss: 0.032819816951366376... \tTest Accuracy: 99.24050632911393\n",
            "Round: 16... \tAverage Train Loss: 0.048... \tTest Loss: 0.031305318616359726... \tTest Accuracy: 99.24050632911393\n",
            "Round: 17... \tAverage Train Loss: 0.046... \tTest Loss: 0.030796104149345773... \tTest Accuracy: 99.36708860759494\n",
            "Round: 18... \tAverage Train Loss: 0.047... \tTest Loss: 0.029792634875822115... \tTest Accuracy: 99.36708860759494\n",
            "Round: 19... \tAverage Train Loss: 0.044... \tTest Loss: 0.028627677131455857... \tTest Accuracy: 99.36708860759494\n",
            "Round: 20... \tAverage Train Loss: 0.04... \tTest Loss: 0.028399804663055694... \tTest Accuracy: 99.36708860759494\n",
            "Round: 21... \tAverage Train Loss: 0.041... \tTest Loss: 0.028336181484750703... \tTest Accuracy: 99.36708860759494\n",
            "Round: 22... \tAverage Train Loss: 0.04... \tTest Loss: 0.027571053487062454... \tTest Accuracy: 99.36708860759494\n",
            "Round: 23... \tAverage Train Loss: 0.04... \tTest Loss: 0.027251243903607246... \tTest Accuracy: 99.36708860759494\n",
            "Round: 24... \tAverage Train Loss: 0.039... \tTest Loss: 0.026937977657164446... \tTest Accuracy: 99.36708860759494\n",
            "Round: 25... \tAverage Train Loss: 0.036... \tTest Loss: 0.026519245949579634... \tTest Accuracy: 99.36708860759494\n",
            "Round: 26... \tAverage Train Loss: 0.035... \tTest Loss: 0.0259249333452055... \tTest Accuracy: 99.36708860759494\n",
            "Round: 27... \tAverage Train Loss: 0.035... \tTest Loss: 0.025754197164543437... \tTest Accuracy: 99.49367088607595\n",
            "Round: 28... \tAverage Train Loss: 0.036... \tTest Loss: 0.025386046313823317... \tTest Accuracy: 99.36708860759494\n",
            "Round: 29... \tAverage Train Loss: 0.032... \tTest Loss: 0.024960606323085086... \tTest Accuracy: 99.49367088607595\n",
            "Round: 30... \tAverage Train Loss: 0.034... \tTest Loss: 0.024763872677466135... \tTest Accuracy: 99.49367088607595\n",
            "Round: 31... \tAverage Train Loss: 0.032... \tTest Loss: 0.024453704836181714... \tTest Accuracy: 99.49367088607595\n",
            "Round: 32... \tAverage Train Loss: 0.033... \tTest Loss: 0.024010320264018083... \tTest Accuracy: 99.49367088607595\n",
            "Round: 33... \tAverage Train Loss: 0.03... \tTest Loss: 0.024245581855958154... \tTest Accuracy: 99.49367088607595\n",
            "Round: 34... \tAverage Train Loss: 0.029... \tTest Loss: 0.023920297167560785... \tTest Accuracy: 99.49367088607595\n",
            "Round: 35... \tAverage Train Loss: 0.029... \tTest Loss: 0.02387036809611309... \tTest Accuracy: 99.49367088607595\n",
            "Round: 36... \tAverage Train Loss: 0.029... \tTest Loss: 0.023698533451707044... \tTest Accuracy: 99.49367088607595\n",
            "Round: 37... \tAverage Train Loss: 0.029... \tTest Loss: 0.0235159393035472... \tTest Accuracy: 99.49367088607595\n",
            "Round: 38... \tAverage Train Loss: 0.028... \tTest Loss: 0.023423066646570807... \tTest Accuracy: 99.49367088607595\n",
            "Round: 39... \tAverage Train Loss: 0.026... \tTest Loss: 0.023194413090808667... \tTest Accuracy: 99.49367088607595\n",
            "Round: 40... \tAverage Train Loss: 0.028... \tTest Loss: 0.02291905219092732... \tTest Accuracy: 99.49367088607595\n",
            "Round: 41... \tAverage Train Loss: 0.026... \tTest Loss: 0.022731158712632895... \tTest Accuracy: 99.49367088607595\n",
            "Round: 42... \tAverage Train Loss: 0.027... \tTest Loss: 0.022493678128777537... \tTest Accuracy: 99.49367088607595\n",
            "Round: 43... \tAverage Train Loss: 0.025... \tTest Loss: 0.02246447713059024... \tTest Accuracy: 99.49367088607595\n",
            "Round: 44... \tAverage Train Loss: 0.027... \tTest Loss: 0.022371956130038596... \tTest Accuracy: 99.49367088607595\n",
            "Round: 45... \tAverage Train Loss: 0.026... \tTest Loss: 0.02222248860125037... \tTest Accuracy: 99.49367088607595\n",
            "Round: 46... \tAverage Train Loss: 0.025... \tTest Loss: 0.02205560364743433... \tTest Accuracy: 99.49367088607595\n",
            "Round: 47... \tAverage Train Loss: 0.025... \tTest Loss: 0.021846925409013784... \tTest Accuracy: 99.49367088607595\n",
            "Round: 48... \tAverage Train Loss: 0.023... \tTest Loss: 0.021878687259839352... \tTest Accuracy: 99.49367088607595\n",
            "Round: 49... \tAverage Train Loss: 0.026... \tTest Loss: 0.02177787273096328... \tTest Accuracy: 99.62025316455696\n",
            "Round: 50... \tAverage Train Loss: 0.023... \tTest Loss: 0.021547216470479906... \tTest Accuracy: 99.62025316455696\n"
          ],
          "name": "stdout"
        },
        {
          "output_type": "display_data",
          "data": {
            "image/png": "[encoded data removed]",
            "text/plain": [
              "<Figure size 432x288 with 1 Axes>"
            ]
          },
          "metadata": {
            "tags": [],
            "needs_background": "light"
          }
        },
        {
          "output_type": "display_data",
          "data": {
            "image/png": "[encoded data removed]",
            "text/plain": [
              "<Figure size 432x288 with 1 Axes>"
            ]
          },
          "metadata": {
            "tags": [],
            "needs_background": "light"
          }
        },
        {
          "output_type": "display_data",
          "data": {
            "image/png": "[encoded data removed]",
            "text/plain": [
              "<Figure size 432x288 with 1 Axes>"
            ]
          },
          "metadata": {
            "tags": [],
            "needs_background": "light"
          }
        },
        {
          "output_type": "stream",
          "text": [
            "Training Done!\n",
            "Total time taken to Train: 4851.092745780945\n",
            "\n",
            "\n"
          ],
          "name": "stdout"
        }
      ]
    },
    {
      "cell_type": "markdown",
      "metadata": {
        "id": "wNwC82przF6G"
      },
      "source": [
        "### Test"
      ]
    },
    {
      "cell_type": "code",
      "metadata": {
        "id": "qB97BFs9we9w",
        "colab": {
          "base_uri": "https://localhost:8080/"
        },
        "outputId": "8722981a-7eeb-4cd3-f6be-f75aec3e2484"
      },
      "source": [
        "criterion = nn.CrossEntropyLoss()\n",
        "acc, loss = testing(mnist_cnn_iid_trained, mnist_data_test, 128, criterion, num_classes, classes_test, True)"
      ],
      "execution_count": 62,
      "outputs": [
        {
          "output_type": "stream",
          "text": [
            "Test Loss: 0.021547\n",
            "\n",
            "Test Accuracy of     0: 100% (76/76)\n",
            "Test Accuracy of     1: 100% (90/90)\n",
            "Test Accuracy of     2: 100% (91/91)\n",
            "Test Accuracy of     3: 97% (71/73)\n",
            "Test Accuracy of     4: 100% (89/89)\n",
            "Test Accuracy of     5: 98% (67/68)\n",
            "Test Accuracy of     6: 100% (62/62)\n",
            "Test Accuracy of     7: 100% (81/81)\n",
            "Test Accuracy of     8: 100% (77/77)\n",
            "Test Accuracy of     9: 100% (83/83)\n",
            "\n",
            "Final Test  Accuracy: 99.620 (787.0/790.0)\n"
          ],
          "name": "stdout"
        }
      ]
    },
    {
      "cell_type": "code",
      "metadata": {
        "id": "gdQZEZmHHeqt"
      },
      "source": [
        "hyperparams = {'rounds': rounds,\n",
        "               'C': C,\n",
        "               'K': K,\n",
        "               'E': E,\n",
        "               'batch_size': batch_size,\n",
        "               'lr': lr,\n",
        "               'mu': mu,\n",
        "               'percentage': percentage,\n",
        "               'target_test_accuracy': target_test_accuracy,\n",
        "               }\n",
        "\n",
        "log_dict['MNIST CNN on IID'] = {'train_loss': train_loss_multiple_runs, \n",
        "                                'test_loss': test_loss_multiple_runs, \n",
        "                                'test_accuracy': test_accuracy_multiple_runs,\n",
        "                                'hyperparams': hyperparams,\n",
        "                                }"
      ],
      "execution_count": 63,
      "outputs": []
    },
    {
      "cell_type": "markdown",
      "metadata": {
        "id": "uF8MdSIUYcnl"
      },
      "source": [
        "## MNIST CNN on Non IID"
      ]
    },
    {
      "cell_type": "markdown",
      "metadata": {
        "id": "a6wXX7JW11bx"
      },
      "source": [
        "### Train\n"
      ]
    },
    {
      "cell_type": "code",
      "metadata": {
        "id": "fCD3kBCKYfBK",
        "colab": {
          "base_uri": "https://localhost:8080/",
          "height": 1000
        },
        "outputId": "a05a4377-612d-40dc-a2e3-3b9c5d5d9ec8"
      },
      "source": [
        "train_loss_multiple_runs = [None] * NUM_REPEAT\n",
        "test_accuracy_multiple_runs = [None] * NUM_REPEAT\n",
        "test_loss_multiple_runs = [None] * NUM_REPEAT\n",
        "\n",
        "for exp_num in range(NUM_REPEAT):\n",
        "  print(\"Experiment Run Number: \", exp_num)\n",
        "\n",
        "  # number of training rounds\n",
        "  rounds = 50\n",
        "  # client fraction\n",
        "  C = 0.9\n",
        "  # number of clients\n",
        "  K = 100\n",
        "  # number of training passes on local dataset for each roung\n",
        "  E = 5\n",
        "  # batch size\n",
        "  batch_size = 10\n",
        "  # learning Rate\n",
        "  lr=0.05\n",
        "  # proximal term constant\n",
        "  mu = 0.01\n",
        "  # percentage of clients to have fewer than E epochs\n",
        "  percentage = 50\n",
        "  # target_test_accuracy\n",
        "  target_test_accuracy=99.0\n",
        "\n",
        "  # dict containing different type of data partition\n",
        "  data_dict = non_iid_partition(mnist_data_train, 100, 200, 300, 2)\n",
        "  # load model\n",
        "  mnist_cnn = MNIST_CNN()\n",
        "\n",
        "  if torch.cuda.is_available():\n",
        "    mnist_cnn.cuda()\n",
        "\n",
        "  mnist_cnn_non_iid_trained, train_loss, test_accuracy, test_loss = training(mnist_cnn, rounds, batch_size, lr, mnist_data_train, mnist_data_test, data_dict, C, K, E,mu, percentage, \"MNIST CNN on Non-IID Dataset\", \"green\", target_test_accuracy)\n",
        "\n",
        "  train_loss_multiple_runs[exp_num] = train_loss\n",
        "  test_accuracy_multiple_runs[exp_num] = test_accuracy\n",
        "  test_loss_multiple_runs[exp_num] = test_loss"
      ],
      "execution_count": 64,
      "outputs": [
        {
          "output_type": "stream",
          "text": [
            "Experiment Run Number:  0\n",
            "System heterogeneity set to 50% stragglers.\n",
            "\n",
            "Picking 90 random clients per round.\n",
            "\n",
            "Round: 1... \tAverage Train Loss: 0.181... \tTest Loss: 2.220987812423706... \tTest Accuracy: 38.860759493670884\n",
            "Round: 2... \tAverage Train Loss: 0.136... \tTest Loss: 1.875371176147461... \tTest Accuracy: 79.62025316455696\n",
            "Round: 3... \tAverage Train Loss: 0.076... \tTest Loss: 1.0836788633346557... \tTest Accuracy: 88.9873417721519\n",
            "Round: 4... \tAverage Train Loss: 0.055... \tTest Loss: 0.6745660373687744... \tTest Accuracy: 90.75949367088607\n",
            "Round: 5... \tAverage Train Loss: 0.05... \tTest Loss: 0.4773162147045136... \tTest Accuracy: 93.67088607594937\n",
            "Round: 6... \tAverage Train Loss: 0.042... \tTest Loss: 0.35864794974327086... \tTest Accuracy: 94.30379746835443\n",
            "Round: 7... \tAverage Train Loss: 0.036... \tTest Loss: 0.2746884248018265... \tTest Accuracy: 95.69620253164557\n",
            "Round: 8... \tAverage Train Loss: 0.039... \tTest Loss: 0.2296572071790695... \tTest Accuracy: 95.82278481012658\n",
            "Round: 9... \tAverage Train Loss: 0.04... \tTest Loss: 0.21280105147361755... \tTest Accuracy: 96.20253164556962\n",
            "Round: 10... \tAverage Train Loss: 0.031... \tTest Loss: 0.17769458575248717... \tTest Accuracy: 96.32911392405063\n",
            "Round: 11... \tAverage Train Loss: 0.033... \tTest Loss: 0.16358483856916428... \tTest Accuracy: 96.20253164556962\n",
            "Round: 12... \tAverage Train Loss: 0.03... \tTest Loss: 0.14424935479164125... \tTest Accuracy: 96.45569620253164\n",
            "Round: 13... \tAverage Train Loss: 0.032... \tTest Loss: 0.13713945791721344... \tTest Accuracy: 96.70886075949367\n",
            "Round: 14... \tAverage Train Loss: 0.028... \tTest Loss: 0.12484110697805882... \tTest Accuracy: 96.83544303797468\n",
            "Round: 15... \tAverage Train Loss: 0.027... \tTest Loss: 0.11479702734649182... \tTest Accuracy: 96.9620253164557\n",
            "Round: 16... \tAverage Train Loss: 0.028... \tTest Loss: 0.1093751492202282... \tTest Accuracy: 96.9620253164557\n",
            "Round: 17... \tAverage Train Loss: 0.027... \tTest Loss: 0.10322713344544172... \tTest Accuracy: 97.0886075949367\n",
            "Round: 18... \tAverage Train Loss: 0.026... \tTest Loss: 0.09771609351187945... \tTest Accuracy: 97.21518987341773\n",
            "Round: 19... \tAverage Train Loss: 0.024... \tTest Loss: 0.09172500340938568... \tTest Accuracy: 97.34177215189874\n",
            "Round: 20... \tAverage Train Loss: 0.025... \tTest Loss: 0.08917520855665206... \tTest Accuracy: 97.72151898734177\n",
            "Round: 21... \tAverage Train Loss: 0.027... \tTest Loss: 0.08836639851033688... \tTest Accuracy: 97.59493670886076\n",
            "Round: 22... \tAverage Train Loss: 0.024... \tTest Loss: 0.08247125208377838... \tTest Accuracy: 97.84810126582279\n",
            "Round: 23... \tAverage Train Loss: 0.024... \tTest Loss: 0.0791850555717945... \tTest Accuracy: 97.84810126582279\n",
            "Round: 24... \tAverage Train Loss: 0.021... \tTest Loss: 0.0736669895671308... \tTest Accuracy: 97.84810126582279\n",
            "Round: 25... \tAverage Train Loss: 0.024... \tTest Loss: 0.07424830597564579... \tTest Accuracy: 98.10126582278481\n",
            "Round: 26... \tAverage Train Loss: 0.021... \tTest Loss: 0.07162828562781215... \tTest Accuracy: 98.10126582278481\n",
            "Round: 27... \tAverage Train Loss: 0.021... \tTest Loss: 0.06867988089323043... \tTest Accuracy: 98.22784810126582\n",
            "Round: 28... \tAverage Train Loss: 0.021... \tTest Loss: 0.0674981161430478... \tTest Accuracy: 98.22784810126582\n",
            "Round: 29... \tAverage Train Loss: 0.02... \tTest Loss: 0.06376586383134127... \tTest Accuracy: 98.22784810126582\n",
            "Round: 30... \tAverage Train Loss: 0.021... \tTest Loss: 0.06250160856433212... \tTest Accuracy: 97.9746835443038\n",
            "Round: 31... \tAverage Train Loss: 0.022... \tTest Loss: 0.06069273652359843... \tTest Accuracy: 98.10126582278481\n",
            "Round: 32... \tAverage Train Loss: 0.018... \tTest Loss: 0.05762284593172371... \tTest Accuracy: 98.22784810126582\n",
            "Round: 33... \tAverage Train Loss: 0.02... \tTest Loss: 0.05650571678802371... \tTest Accuracy: 98.22784810126582\n",
            "Round: 34... \tAverage Train Loss: 0.02... \tTest Loss: 0.05494568941481411... \tTest Accuracy: 98.35443037974683\n",
            "Round: 35... \tAverage Train Loss: 0.018... \tTest Loss: 0.05386884479448199... \tTest Accuracy: 98.48101265822785\n",
            "Round: 36... \tAverage Train Loss: 0.019... \tTest Loss: 0.05334029128961265... \tTest Accuracy: 98.48101265822785\n",
            "Round: 37... \tAverage Train Loss: 0.018... \tTest Loss: 0.05169359227232635... \tTest Accuracy: 98.60759493670886\n",
            "Round: 38... \tAverage Train Loss: 0.018... \tTest Loss: 0.05042199040614068... \tTest Accuracy: 98.60759493670886\n",
            "Round: 39... \tAverage Train Loss: 0.017... \tTest Loss: 0.04996857342459261... \tTest Accuracy: 98.60759493670886\n",
            "Round: 40... \tAverage Train Loss: 0.017... \tTest Loss: 0.04894481225311756... \tTest Accuracy: 98.60759493670886\n",
            "Round: 41... \tAverage Train Loss: 0.018... \tTest Loss: 0.048314112028107044... \tTest Accuracy: 98.86075949367088\n",
            "Round: 42... \tAverage Train Loss: 0.018... \tTest Loss: 0.04754043111987412... \tTest Accuracy: 98.60759493670886\n",
            "Round: 43... \tAverage Train Loss: 0.017... \tTest Loss: 0.04688392953574658... \tTest Accuracy: 98.60759493670886\n",
            "Round: 44... \tAverage Train Loss: 0.016... \tTest Loss: 0.04502891083974391... \tTest Accuracy: 98.86075949367088\n",
            "Round: 45... \tAverage Train Loss: 0.016... \tTest Loss: 0.04406811066754162... \tTest Accuracy: 98.73417721518987\n",
            "Round: 46... \tAverage Train Loss: 0.015... \tTest Loss: 0.043708550122939054... \tTest Accuracy: 98.60759493670886\n",
            "Round: 47... \tAverage Train Loss: 0.016... \tTest Loss: 0.04287976759709418... \tTest Accuracy: 98.60759493670886\n",
            "Round: 48... \tAverage Train Loss: 0.016... \tTest Loss: 0.042019512127153574... \tTest Accuracy: 98.86075949367088\n",
            "Round: 49... \tAverage Train Loss: 0.014... \tTest Loss: 0.04143424637038261... \tTest Accuracy: 98.86075949367088\n",
            "Round: 50... \tAverage Train Loss: 0.015... \tTest Loss: 0.04194967774096876... \tTest Accuracy: 98.86075949367088\n"
          ],
          "name": "stdout"
        },
        {
          "output_type": "display_data",
          "data": {
            "image/png": "[encoded data removed]",
            "text/plain": [
              "<Figure size 432x288 with 1 Axes>"
            ]
          },
          "metadata": {
            "tags": [],
            "needs_background": "light"
          }
        },
        {
          "output_type": "display_data",
          "data": {
            "image/png": "[encoded data removed]",
            "text/plain": [
              "<Figure size 432x288 with 1 Axes>"
            ]
          },
          "metadata": {
            "tags": [],
            "needs_background": "light"
          }
        },
        {
          "output_type": "display_data",
          "data": {
            "image/png": "[encoded data removed]",
            "text/plain": [
              "<Figure size 432x288 with 1 Axes>"
            ]
          },
          "metadata": {
            "tags": [],
            "needs_background": "light"
          }
        },
        {
          "output_type": "stream",
          "text": [
            "Training Done!\n",
            "Total time taken to Train: 4990.625168561935\n",
            "\n",
            "\n"
          ],
          "name": "stdout"
        }
      ]
    },
    {
      "cell_type": "markdown",
      "metadata": {
        "id": "4C68J-Kk14dB"
      },
      "source": [
        "### Test"
      ]
    },
    {
      "cell_type": "code",
      "metadata": {
        "id": "_yQ9GiAZ15jE",
        "colab": {
          "base_uri": "https://localhost:8080/"
        },
        "outputId": "fdcaf99d-592d-43fc-ad29-7a9cdfa4f312"
      },
      "source": [
        "criterion = nn.CrossEntropyLoss()\n",
        "acc, loss = testing(mnist_cnn_non_iid_trained, mnist_data_test, 128, criterion, num_classes, classes_test, True)"
      ],
      "execution_count": 65,
      "outputs": [
        {
          "output_type": "stream",
          "text": [
            "Test Loss: 0.041950\n",
            "\n",
            "Test Accuracy of     0: 97% (74/76)\n",
            "Test Accuracy of     1: 100% (90/90)\n",
            "Test Accuracy of     2: 100% (91/91)\n",
            "Test Accuracy of     3: 97% (71/73)\n",
            "Test Accuracy of     4: 98% (88/89)\n",
            "Test Accuracy of     5: 98% (67/68)\n",
            "Test Accuracy of     6: 98% (61/62)\n",
            "Test Accuracy of     7: 98% (80/81)\n",
            "Test Accuracy of     8: 100% (77/77)\n",
            "Test Accuracy of     9: 98% (82/83)\n",
            "\n",
            "Final Test  Accuracy: 98.861 (781.0/790.0)\n"
          ],
          "name": "stdout"
        }
      ]
    },
    {
      "cell_type": "code",
      "metadata": {
        "id": "dxMcxgLhLvX-"
      },
      "source": [
        "hyperparams = {'rounds': rounds,\n",
        "               'C': C,\n",
        "               'K': K,\n",
        "               'E': E,\n",
        "               'batch_size': batch_size,\n",
        "               'lr': lr,\n",
        "               'mu': mu,\n",
        "               'percentage': percentage,\n",
        "               'target_test_accuracy': target_test_accuracy,\n",
        "               }\n",
        "\n",
        "log_dict['MNIST CNN on Non IID'] = {'train_loss': train_loss_multiple_runs, \n",
        "                                'test_loss': test_loss_multiple_runs, \n",
        "                                'test_accuracy': test_accuracy_multiple_runs,\n",
        "                                'hyperparams': hyperparams,\n",
        "                                }"
      ],
      "execution_count": 66,
      "outputs": []
    },
    {
      "cell_type": "markdown",
      "metadata": {
        "id": "z_jifdzniuhm"
      },
      "source": [
        "## MNIST MLP on IID"
      ]
    },
    {
      "cell_type": "markdown",
      "metadata": {
        "id": "uh-te0Od2XGO"
      },
      "source": [
        "### Train"
      ]
    },
    {
      "cell_type": "code",
      "metadata": {
        "id": "UmpWmKOQixVV",
        "colab": {
          "base_uri": "https://localhost:8080/",
          "height": 1000
        },
        "outputId": "2c84acfe-1246-4f31-ec29-548b7fc17164"
      },
      "source": [
        "train_loss_multiple_runs = [None] * NUM_REPEAT\n",
        "test_accuracy_multiple_runs = [None] * NUM_REPEAT\n",
        "test_loss_multiple_runs = [None] * NUM_REPEAT\n",
        "\n",
        "for exp_num in range(NUM_REPEAT):\n",
        "  print(\"Experiment Run Number: \", exp_num)\n",
        "\n",
        "  # number of training rounds\n",
        "  rounds = 50\n",
        "  # client fraction\n",
        "  C = 0.9\n",
        "  # number of clients\n",
        "  K = 100\n",
        "  # number of training passes on local dataset for each round\n",
        "  E = 5\n",
        "  # batch size\n",
        "  batch_size = 10\n",
        "  # learning Rate\n",
        "  lr = 0.05\n",
        "  # proximal term constant\n",
        "  mu = 0.01\n",
        "  # percentage of clients to have fewer than E epochs\n",
        "  percentage = 50\n",
        "  # target_test_accuracy\n",
        "  target_test_accuracy=94.0\n",
        "  # dict containing different type of data partition\n",
        "  data_dict = iid_partition(mnist_data_train, 100)\n",
        "  # load model\n",
        "  mnist_mlp = MNIST_2NN()\n",
        "\n",
        "  if torch.cuda.is_available():\n",
        "    mnist_mlp.cuda()\n",
        "\n",
        "  mnist_mlp_iid_trained, train_loss, test_accuracy, test_loss = training(mnist_mlp, rounds, batch_size, lr, mnist_data_train, mnist_data_test, data_dict, C, K, E, mu, percentage, \"MNIST MLP on IID Dataset\", \"orange\", target_test_accuracy)\n",
        "  \n",
        "  train_loss_multiple_runs[exp_num] = train_loss\n",
        "  test_accuracy_multiple_runs[exp_num] = test_accuracy\n",
        "  test_loss_multiple_runs[exp_num] = test_loss"
      ],
      "execution_count": 67,
      "outputs": [
        {
          "output_type": "stream",
          "text": [
            "Experiment Run Number:  0\n",
            "System heterogeneity set to 50% stragglers.\n",
            "\n",
            "Picking 90 random clients per round.\n",
            "\n",
            "Round: 1... \tAverage Train Loss: 0.981... \tTest Loss: 0.35649055855274203... \tTest Accuracy: 90.37974683544304\n",
            "Round: 2... \tAverage Train Loss: 0.273... \tTest Loss: 0.25568000934422014... \tTest Accuracy: 93.41772151898734\n",
            "Round: 3... \tAverage Train Loss: 0.212... \tTest Loss: 0.21936441533863543... \tTest Accuracy: 94.43037974683544\n",
            "Round: 4... \tAverage Train Loss: 0.174... \tTest Loss: 0.19430462203323842... \tTest Accuracy: 94.68354430379746\n",
            "Round: 5... \tAverage Train Loss: 0.156... \tTest Loss: 0.1737713628128171... \tTest Accuracy: 94.68354430379746\n",
            "Round: 6... \tAverage Train Loss: 0.132... \tTest Loss: 0.16163766304180027... \tTest Accuracy: 95.31645569620254\n",
            "Round: 7... \tAverage Train Loss: 0.131... \tTest Loss: 0.15070732349306346... \tTest Accuracy: 95.69620253164557\n",
            "Round: 8... \tAverage Train Loss: 0.119... \tTest Loss: 0.1425728899911046... \tTest Accuracy: 95.56962025316456\n",
            "Round: 9... \tAverage Train Loss: 0.115... \tTest Loss: 0.13424646738395096... \tTest Accuracy: 95.9493670886076\n",
            "Round: 10... \tAverage Train Loss: 0.105... \tTest Loss: 0.1283786965508014... \tTest Accuracy: 95.9493670886076\n",
            "Round: 11... \tAverage Train Loss: 0.091... \tTest Loss: 0.12408363038897514... \tTest Accuracy: 96.07594936708861\n",
            "Round: 12... \tAverage Train Loss: 0.093... \tTest Loss: 0.11962463210858405... \tTest Accuracy: 96.45569620253164\n",
            "Round: 13... \tAverage Train Loss: 0.085... \tTest Loss: 0.11616566190347076... \tTest Accuracy: 96.58227848101266\n",
            "Round: 14... \tAverage Train Loss: 0.085... \tTest Loss: 0.11256103032231331... \tTest Accuracy: 96.45569620253164\n",
            "Round: 15... \tAverage Train Loss: 0.079... \tTest Loss: 0.10930574562698603... \tTest Accuracy: 96.83544303797468\n",
            "Round: 16... \tAverage Train Loss: 0.076... \tTest Loss: 0.10669337178692222... \tTest Accuracy: 96.9620253164557\n",
            "Round: 17... \tAverage Train Loss: 0.074... \tTest Loss: 0.10490770579446107... \tTest Accuracy: 96.9620253164557\n",
            "Round: 18... \tAverage Train Loss: 0.075... \tTest Loss: 0.10229377133455128... \tTest Accuracy: 96.9620253164557\n",
            "Round: 19... \tAverage Train Loss: 0.07... \tTest Loss: 0.10029189125597476... \tTest Accuracy: 96.9620253164557\n",
            "Round: 20... \tAverage Train Loss: 0.068... \tTest Loss: 0.09826756354086101... \tTest Accuracy: 97.0886075949367\n",
            "Round: 21... \tAverage Train Loss: 0.067... \tTest Loss: 0.09696498244963586... \tTest Accuracy: 97.0886075949367\n",
            "Round: 22... \tAverage Train Loss: 0.064... \tTest Loss: 0.09553201403748245... \tTest Accuracy: 97.0886075949367\n",
            "Round: 23... \tAverage Train Loss: 0.062... \tTest Loss: 0.09369454968236386... \tTest Accuracy: 97.0886075949367\n",
            "Round: 24... \tAverage Train Loss: 0.064... \tTest Loss: 0.09209693708345294... \tTest Accuracy: 97.34177215189874\n",
            "Round: 25... \tAverage Train Loss: 0.062... \tTest Loss: 0.09072899142708629... \tTest Accuracy: 97.46835443037975\n",
            "Round: 26... \tAverage Train Loss: 0.054... \tTest Loss: 0.09101867051776498... \tTest Accuracy: 97.46835443037975\n",
            "Round: 27... \tAverage Train Loss: 0.055... \tTest Loss: 0.08950885763373226... \tTest Accuracy: 97.21518987341773\n",
            "Round: 28... \tAverage Train Loss: 0.055... \tTest Loss: 0.08825562403891235... \tTest Accuracy: 97.21518987341773\n",
            "Round: 29... \tAverage Train Loss: 0.054... \tTest Loss: 0.08814389257784933... \tTest Accuracy: 97.21518987341773\n",
            "Round: 30... \tAverage Train Loss: 0.051... \tTest Loss: 0.08730329572306945... \tTest Accuracy: 97.46835443037975\n",
            "Round: 31... \tAverage Train Loss: 0.052... \tTest Loss: 0.08591624396322295... \tTest Accuracy: 97.21518987341773\n",
            "Round: 32... \tAverage Train Loss: 0.054... \tTest Loss: 0.08531373044745996... \tTest Accuracy: 97.34177215189874\n",
            "Round: 33... \tAverage Train Loss: 0.047... \tTest Loss: 0.08492486272323876... \tTest Accuracy: 97.46835443037975\n",
            "Round: 34... \tAverage Train Loss: 0.048... \tTest Loss: 0.08357384568108246... \tTest Accuracy: 97.59493670886076\n",
            "Round: 35... \tAverage Train Loss: 0.048... \tTest Loss: 0.0833244398300536... \tTest Accuracy: 97.34177215189874\n",
            "Round: 36... \tAverage Train Loss: 0.048... \tTest Loss: 0.08249393644020893... \tTest Accuracy: 97.46835443037975\n",
            "Round: 37... \tAverage Train Loss: 0.045... \tTest Loss: 0.08191428620382211... \tTest Accuracy: 97.59493670886076\n",
            "Round: 38... \tAverage Train Loss: 0.044... \tTest Loss: 0.08150147880311125... \tTest Accuracy: 97.72151898734177\n",
            "Round: 39... \tAverage Train Loss: 0.044... \tTest Loss: 0.08096756639843807... \tTest Accuracy: 97.59493670886076\n",
            "Round: 40... \tAverage Train Loss: 0.042... \tTest Loss: 0.08027367538237012... \tTest Accuracy: 97.84810126582279\n",
            "Round: 41... \tAverage Train Loss: 0.045... \tTest Loss: 0.07951904947711155... \tTest Accuracy: 97.84810126582279\n",
            "Round: 42... \tAverage Train Loss: 0.043... \tTest Loss: 0.078665678144712... \tTest Accuracy: 98.10126582278481\n",
            "Round: 43... \tAverage Train Loss: 0.039... \tTest Loss: 0.07900882964008488... \tTest Accuracy: 97.84810126582279\n",
            "Round: 44... \tAverage Train Loss: 0.038... \tTest Loss: 0.07911128766839393... \tTest Accuracy: 97.84810126582279\n",
            "Round: 45... \tAverage Train Loss: 0.039... \tTest Loss: 0.07845908404458314... \tTest Accuracy: 97.72151898734177\n",
            "Round: 46... \tAverage Train Loss: 0.038... \tTest Loss: 0.07765960822016932... \tTest Accuracy: 97.84810126582279\n",
            "Round: 47... \tAverage Train Loss: 0.036... \tTest Loss: 0.07790862460371573... \tTest Accuracy: 97.84810126582279\n",
            "Round: 48... \tAverage Train Loss: 0.038... \tTest Loss: 0.0772901408192236... \tTest Accuracy: 97.84810126582279\n",
            "Round: 49... \tAverage Train Loss: 0.035... \tTest Loss: 0.07704848883841187... \tTest Accuracy: 97.84810126582279\n",
            "Round: 50... \tAverage Train Loss: 0.034... \tTest Loss: 0.07634117726250551... \tTest Accuracy: 97.84810126582279\n"
          ],
          "name": "stdout"
        },
        {
          "output_type": "display_data",
          "data": {
            "image/png": "[encoded data removed]",
            "text/plain": [
              "<Figure size 432x288 with 1 Axes>"
            ]
          },
          "metadata": {
            "tags": [],
            "needs_background": "light"
          }
        },
        {
          "output_type": "display_data",
          "data": {
            "image/png": "[encoded data removed]",
            "text/plain": [
              "<Figure size 432x288 with 1 Axes>"
            ]
          },
          "metadata": {
            "tags": [],
            "needs_background": "light"
          }
        },
        {
          "output_type": "display_data",
          "data": {
            "image/png": "[encoded data removed]",
            "text/plain": [
              "<Figure size 432x288 with 1 Axes>"
            ]
          },
          "metadata": {
            "tags": [],
            "needs_background": "light"
          }
        },
        {
          "output_type": "stream",
          "text": [
            "Training Done!\n",
            "Total time taken to Train: 3553.461055278778\n",
            "\n",
            "\n"
          ],
          "name": "stdout"
        }
      ]
    },
    {
      "cell_type": "markdown",
      "metadata": {
        "id": "aTBsL3-72PPd"
      },
      "source": [
        "### Test"
      ]
    },
    {
      "cell_type": "code",
      "metadata": {
        "id": "a9G4j5L62OrS",
        "colab": {
          "base_uri": "https://localhost:8080/"
        },
        "outputId": "dcaf7288-e029-422c-9e86-38393746df67"
      },
      "source": [
        "criterion = nn.CrossEntropyLoss()\n",
        "acc, loss = testing(mnist_mlp_iid_trained, mnist_data_test, 128, criterion, num_classes, classes_test, True)"
      ],
      "execution_count": 68,
      "outputs": [
        {
          "output_type": "stream",
          "text": [
            "Test Loss: 0.076341\n",
            "\n",
            "Test Accuracy of     0: 98% (75/76)\n",
            "Test Accuracy of     1: 97% (88/90)\n",
            "Test Accuracy of     2: 96% (88/91)\n",
            "Test Accuracy of     3: 98% (72/73)\n",
            "Test Accuracy of     4: 97% (87/89)\n",
            "Test Accuracy of     5: 97% (66/68)\n",
            "Test Accuracy of     6: 96% (60/62)\n",
            "Test Accuracy of     7: 97% (79/81)\n",
            "Test Accuracy of     8: 100% (77/77)\n",
            "Test Accuracy of     9: 97% (81/83)\n",
            "\n",
            "Final Test  Accuracy: 97.848 (773.0/790.0)\n"
          ],
          "name": "stdout"
        }
      ]
    },
    {
      "cell_type": "code",
      "metadata": {
        "id": "fWCdJFRCL_f2"
      },
      "source": [
        "hyperparams = {'rounds': rounds,\n",
        "               'C': C,\n",
        "               'K': K,\n",
        "               'E': E,\n",
        "               'batch_size': batch_size,\n",
        "               'lr': lr,\n",
        "               'mu': mu,\n",
        "               'percentage': percentage,\n",
        "               'target_test_accuracy': target_test_accuracy,\n",
        "               }\n",
        "\n",
        "log_dict['MNIST MLP on IID'] = {'train_loss': train_loss_multiple_runs, \n",
        "                                'test_loss': test_loss_multiple_runs, \n",
        "                                'test_accuracy': test_accuracy_multiple_runs,\n",
        "                                'hyperparams': hyperparams,\n",
        "                                }"
      ],
      "execution_count": 69,
      "outputs": []
    },
    {
      "cell_type": "markdown",
      "metadata": {
        "id": "J8jzEyO0iywz"
      },
      "source": [
        "## MNIST MLP on Non IID"
      ]
    },
    {
      "cell_type": "markdown",
      "metadata": {
        "id": "pJFepr3y2bF-"
      },
      "source": [
        "### Train"
      ]
    },
    {
      "cell_type": "code",
      "metadata": {
        "id": "EBKO44Hgi1Uh",
        "colab": {
          "base_uri": "https://localhost:8080/",
          "height": 1000
        },
        "outputId": "22321b8b-2290-4517-91ca-6aed82e26de4"
      },
      "source": [
        "train_loss_multiple_runs = [None] * NUM_REPEAT\n",
        "test_accuracy_multiple_runs = [None] * NUM_REPEAT\n",
        "test_loss_multiple_runs = [None] * NUM_REPEAT\n",
        "\n",
        "for exp_num in range(NUM_REPEAT):\n",
        "  print(\"Experiment Run Number: \", exp_num)\n",
        "  \n",
        "  # number of training rounds\n",
        "  rounds = 50\n",
        "  # client fraction\n",
        "  C = 0.9\n",
        "  # number of clients\n",
        "  K = 100\n",
        "  # number of training passes on local dataset for each roung\n",
        "  E = 5\n",
        "  # batch size\n",
        "  batch_size = 10\n",
        "  # learning Rate\n",
        "  lr=0.05\n",
        "  # proximal term constant\n",
        "  mu = 0.01\n",
        "  # percentage of clients to have fewer than E epochs\n",
        "  percentage = 50\n",
        "  # target_test_accuracy\n",
        "  target_test_accuracy=94.0\n",
        "  # dict containing different type of data partition\n",
        "  data_dict = non_iid_partition(mnist_data_train, 100, 200, 300, 2)\n",
        "  # load model\n",
        "  mnist_mlp = MNIST_2NN()\n",
        "\n",
        "  if torch.cuda.is_available():\n",
        "    mnist_mlp.cuda()\n",
        "\n",
        "  mnist_mlp_non_iid_trained, train_loss, test_accuracy, test_loss = training(mnist_mlp, rounds, batch_size, lr, mnist_data_train, mnist_data_test, data_dict, C, K, E, mu, percentage, \"MNIST MLP on Non-IID Dataset\", \"green\", target_test_accuracy)\n",
        "\n",
        "  train_loss_multiple_runs[exp_num] = train_loss\n",
        "  test_accuracy_multiple_runs[exp_num] = test_accuracy\n",
        "  test_loss_multiple_runs[exp_num] = test_loss"
      ],
      "execution_count": 70,
      "outputs": [
        {
          "output_type": "stream",
          "text": [
            "Experiment Run Number:  0\n",
            "System heterogeneity set to 50% stragglers.\n",
            "\n",
            "Picking 90 random clients per round.\n",
            "\n",
            "Round: 1... \tAverage Train Loss: 0.204... \tTest Loss: 3.3372332431793215... \tTest Accuracy: 63.164556962025316\n",
            "Round: 2... \tAverage Train Loss: 0.106... \tTest Loss: 1.6604577470779418... \tTest Accuracy: 77.59493670886076\n",
            "Round: 3... \tAverage Train Loss: 0.091... \tTest Loss: 0.9491326570510864... \tTest Accuracy: 84.81012658227849\n",
            "Round: 4... \tAverage Train Loss: 0.078... \tTest Loss: 0.679967012500763... \tTest Accuracy: 85.44303797468355\n",
            "Round: 5... \tAverage Train Loss: 0.068... \tTest Loss: 0.5364539153575897... \tTest Accuracy: 88.22784810126582\n",
            "Round: 6... \tAverage Train Loss: 0.061... \tTest Loss: 0.45942066547870636... \tTest Accuracy: 88.73417721518987\n",
            "Round: 7... \tAverage Train Loss: 0.06... \tTest Loss: 0.40855088884830476... \tTest Accuracy: 89.74683544303798\n",
            "Round: 8... \tAverage Train Loss: 0.056... \tTest Loss: 0.37111515707969667... \tTest Accuracy: 91.0126582278481\n",
            "Round: 9... \tAverage Train Loss: 0.052... \tTest Loss: 0.3422642122626305... \tTest Accuracy: 91.64556962025317\n",
            "Round: 10... \tAverage Train Loss: 0.049... \tTest Loss: 0.31934114097356797... \tTest Accuracy: 92.40506329113924\n",
            "Round: 11... \tAverage Train Loss: 0.049... \tTest Loss: 0.30156970393657684... \tTest Accuracy: 92.53164556962025\n",
            "Round: 12... \tAverage Train Loss: 0.047... \tTest Loss: 0.28888738179206847... \tTest Accuracy: 92.65822784810126\n",
            "Round: 13... \tAverage Train Loss: 0.042... \tTest Loss: 0.2746121946692467... \tTest Accuracy: 92.65822784810126\n",
            "Round: 14... \tAverage Train Loss: 0.044... \tTest Loss: 0.26177280353307725... \tTest Accuracy: 92.9113924050633\n",
            "Round: 15... \tAverage Train Loss: 0.039... \tTest Loss: 0.25136835058927537... \tTest Accuracy: 92.78481012658227\n",
            "Round: 16... \tAverage Train Loss: 0.041... \tTest Loss: 0.24294062039852143... \tTest Accuracy: 93.0379746835443\n",
            "Round: 17... \tAverage Train Loss: 0.039... \tTest Loss: 0.2349718832373619... \tTest Accuracy: 93.16455696202532\n",
            "Round: 18... \tAverage Train Loss: 0.038... \tTest Loss: 0.22760764076709747... \tTest Accuracy: 93.29113924050633\n",
            "Round: 19... \tAverage Train Loss: 0.039... \tTest Loss: 0.21970753450393676... \tTest Accuracy: 93.79746835443038\n",
            "Round: 20... \tAverage Train Loss: 0.042... \tTest Loss: 0.21304422073364257... \tTest Accuracy: 94.0506329113924\n",
            "Round: 21... \tAverage Train Loss: 0.036... \tTest Loss: 0.20750921343564988... \tTest Accuracy: 94.17721518987342\n",
            "Round: 22... \tAverage Train Loss: 0.034... \tTest Loss: 0.20190815507769586... \tTest Accuracy: 94.30379746835443\n",
            "Round: 23... \tAverage Train Loss: 0.037... \tTest Loss: 0.19607029411196708... \tTest Accuracy: 94.68354430379746\n",
            "Round: 24... \tAverage Train Loss: 0.033... \tTest Loss: 0.19149998546242714... \tTest Accuracy: 94.81012658227849\n",
            "Round: 25... \tAverage Train Loss: 0.03... \tTest Loss: 0.189484461915493... \tTest Accuracy: 94.68354430379746\n",
            "Round: 26... \tAverage Train Loss: 0.036... \tTest Loss: 0.18321011621952057... \tTest Accuracy: 94.68354430379746\n",
            "Round: 27... \tAverage Train Loss: 0.031... \tTest Loss: 0.1807166089773178... \tTest Accuracy: 94.30379746835443\n",
            "Round: 28... \tAverage Train Loss: 0.031... \tTest Loss: 0.1761472180008888... \tTest Accuracy: 94.9367088607595\n",
            "Round: 29... \tAverage Train Loss: 0.03... \tTest Loss: 0.17595286563038826... \tTest Accuracy: 95.31645569620254\n",
            "Round: 30... \tAverage Train Loss: 0.029... \tTest Loss: 0.17022744541168214... \tTest Accuracy: 95.18987341772151\n",
            "Round: 31... \tAverage Train Loss: 0.029... \tTest Loss: 0.16630853908061982... \tTest Accuracy: 95.31645569620254\n",
            "Round: 32... \tAverage Train Loss: 0.028... \tTest Loss: 0.16399381300210952... \tTest Accuracy: 95.44303797468355\n",
            "Round: 33... \tAverage Train Loss: 0.029... \tTest Loss: 0.1630598817050457... \tTest Accuracy: 95.18987341772151\n",
            "Round: 34... \tAverage Train Loss: 0.031... \tTest Loss: 0.1590078122138977... \tTest Accuracy: 95.18987341772151\n",
            "Round: 35... \tAverage Train Loss: 0.029... \tTest Loss: 0.15652639912962912... \tTest Accuracy: 95.18987341772151\n",
            "Round: 36... \tAverage Train Loss: 0.03... \tTest Loss: 0.15488245198726655... \tTest Accuracy: 95.44303797468355\n",
            "Round: 37... \tAverage Train Loss: 0.028... \tTest Loss: 0.1525132591366768... \tTest Accuracy: 95.69620253164557\n",
            "Round: 38... \tAverage Train Loss: 0.028... \tTest Loss: 0.15003245711922644... \tTest Accuracy: 95.31645569620254\n",
            "Round: 39... \tAverage Train Loss: 0.028... \tTest Loss: 0.14859294645786286... \tTest Accuracy: 95.9493670886076\n",
            "Round: 40... \tAverage Train Loss: 0.027... \tTest Loss: 0.14576153222918511... \tTest Accuracy: 95.82278481012658\n",
            "Round: 41... \tAverage Train Loss: 0.028... \tTest Loss: 0.14357093549966812... \tTest Accuracy: 95.44303797468355\n",
            "Round: 42... \tAverage Train Loss: 0.026... \tTest Loss: 0.14204856367707253... \tTest Accuracy: 95.56962025316456\n",
            "Round: 43... \tAverage Train Loss: 0.027... \tTest Loss: 0.13969626985788344... \tTest Accuracy: 95.44303797468355\n",
            "Round: 44... \tAverage Train Loss: 0.022... \tTest Loss: 0.13972112690806388... \tTest Accuracy: 95.82278481012658\n",
            "Round: 45... \tAverage Train Loss: 0.024... \tTest Loss: 0.13658339842557907... \tTest Accuracy: 95.56962025316456\n",
            "Round: 46... \tAverage Train Loss: 0.022... \tTest Loss: 0.13785435799360277... \tTest Accuracy: 95.56962025316456\n",
            "Round: 47... \tAverage Train Loss: 0.024... \tTest Loss: 0.13503680104911328... \tTest Accuracy: 96.07594936708861\n",
            "Round: 48... \tAverage Train Loss: 0.023... \tTest Loss: 0.13236357317864894... \tTest Accuracy: 96.07594936708861\n",
            "Round: 49... \tAverage Train Loss: 0.024... \tTest Loss: 0.13133229691684245... \tTest Accuracy: 95.69620253164557\n",
            "Round: 50... \tAverage Train Loss: 0.022... \tTest Loss: 0.13029640370309353... \tTest Accuracy: 95.9493670886076\n"
          ],
          "name": "stdout"
        },
        {
          "output_type": "display_data",
          "data": {
            "image/png": "[encoded data removed]",
            "text/plain": [
              "<Figure size 432x288 with 1 Axes>"
            ]
          },
          "metadata": {
            "tags": [],
            "needs_background": "light"
          }
        },
        {
          "output_type": "display_data",
          "data": {
            "image/png": "[encoded data removed]",
            "text/plain": [
              "<Figure size 432x288 with 1 Axes>"
            ]
          },
          "metadata": {
            "tags": [],
            "needs_background": "light"
          }
        },
        {
          "output_type": "display_data",
          "data": {
            "image/png": "[encoded data removed]",
            "text/plain": [
              "<Figure size 432x288 with 1 Axes>"
            ]
          },
          "metadata": {
            "tags": [],
            "needs_background": "light"
          }
        },
        {
          "output_type": "stream",
          "text": [
            "Training Done!\n",
            "Total time taken to Train: 3476.585467338562\n",
            "\n",
            "\n"
          ],
          "name": "stdout"
        }
      ]
    },
    {
      "cell_type": "markdown",
      "metadata": {
        "id": "jmuQYPbF2mes"
      },
      "source": [
        "### Test"
      ]
    },
    {
      "cell_type": "code",
      "metadata": {
        "id": "0tKMlJyF2nGN",
        "colab": {
          "base_uri": "https://localhost:8080/"
        },
        "outputId": "92392408-5167-42c2-e716-1fd1b62dbdcf"
      },
      "source": [
        "criterion = nn.CrossEntropyLoss()\n",
        "acc, loss = testing(mnist_mlp_non_iid_trained, mnist_data_test, 128, criterion, num_classes, classes_test, True)"
      ],
      "execution_count": 71,
      "outputs": [
        {
          "output_type": "stream",
          "text": [
            "Test Loss: 0.130296\n",
            "\n",
            "Test Accuracy of     0: 96% (73/76)\n",
            "Test Accuracy of     1: 97% (88/90)\n",
            "Test Accuracy of     2: 95% (87/91)\n",
            "Test Accuracy of     3: 97% (71/73)\n",
            "Test Accuracy of     4: 97% (87/89)\n",
            "Test Accuracy of     5: 94% (64/68)\n",
            "Test Accuracy of     6: 95% (59/62)\n",
            "Test Accuracy of     7: 92% (75/81)\n",
            "Test Accuracy of     8: 97% (75/77)\n",
            "Test Accuracy of     9: 95% (79/83)\n",
            "\n",
            "Final Test  Accuracy: 95.949 (758.0/790.0)\n"
          ],
          "name": "stdout"
        }
      ]
    },
    {
      "cell_type": "code",
      "metadata": {
        "id": "1W5krYcSMQiu"
      },
      "source": [
        "hyperparams = {'rounds': rounds,\n",
        "               'C': C,\n",
        "               'K': K,\n",
        "               'E': E,\n",
        "               'batch_size': batch_size,\n",
        "               'lr': lr,\n",
        "               'mu': mu,\n",
        "               'percentage': percentage,\n",
        "               'target_test_accuracy': target_test_accuracy,\n",
        "               }\n",
        "\n",
        "log_dict['MNIST MLP on Non IID'] = {'train_loss': train_loss_multiple_runs, \n",
        "                                'test_loss': test_loss_multiple_runs, \n",
        "                                'test_accuracy': test_accuracy_multiple_runs,\n",
        "                                'hyperparams': hyperparams,\n",
        "                                }"
      ],
      "execution_count": 72,
      "outputs": []
    },
    {
      "cell_type": "markdown",
      "metadata": {
        "id": "emS_SaRAP6TZ"
      },
      "source": [
        "## Pickle Log"
      ]
    },
    {
      "cell_type": "code",
      "metadata": {
        "id": "soAN38JoP0c1"
      },
      "source": [
        "import pickle\n",
        " \n",
        "with open(path + 'FedProx_0.9.pkl', 'wb') as file:\n",
        "  pickle.dump(log_dict, file)"
      ],
      "execution_count": 73,
      "outputs": []
    },
    {
      "cell_type": "code",
      "metadata": {
        "id": "2UBy-JswSoCJ",
        "colab": {
          "base_uri": "https://localhost:8080/"
        },
        "outputId": "8f7f450a-5de4-49ec-bacf-268f7fdc8716"
      },
      "source": [
        "log_dict"
      ],
      "execution_count": 74,
      "outputs": [
        {
          "output_type": "execute_result",
          "data": {
            "text/plain": [
              "{'MNIST CNN on IID': {'hyperparams': {'C': 0.9,\n",
              "   'E': 5,\n",
              "   'K': 100,\n",
              "   'batch_size': 10,\n",
              "   'lr': 0.05,\n",
              "   'mu': 0.01,\n",
              "   'percentage': 50,\n",
              "   'rounds': 50,\n",
              "   'target_test_accuracy': 99.0},\n",
              "  'test_accuracy': [[93.54430379746836,\n",
              "    96.70886075949367,\n",
              "    96.9620253164557,\n",
              "    97.59493670886076,\n",
              "    97.9746835443038,\n",
              "    98.60759493670886,\n",
              "    98.48101265822785,\n",
              "    99.11392405063292,\n",
              "    99.24050632911393,\n",
              "    99.24050632911393,\n",
              "    99.24050632911393,\n",
              "    99.24050632911393,\n",
              "    99.24050632911393,\n",
              "    99.24050632911393,\n",
              "    99.24050632911393,\n",
              "    99.24050632911393,\n",
              "    99.36708860759494,\n",
              "    99.36708860759494,\n",
              "    99.36708860759494,\n",
              "    99.36708860759494,\n",
              "    99.36708860759494,\n",
              "    99.36708860759494,\n",
              "    99.36708860759494,\n",
              "    99.36708860759494,\n",
              "    99.36708860759494,\n",
              "    99.36708860759494,\n",
              "    99.49367088607595,\n",
              "    99.36708860759494,\n",
              "    99.49367088607595,\n",
              "    99.49367088607595,\n",
              "    99.49367088607595,\n",
              "    99.49367088607595,\n",
              "    99.49367088607595,\n",
              "    99.49367088607595,\n",
              "    99.49367088607595,\n",
              "    99.49367088607595,\n",
              "    99.49367088607595,\n",
              "    99.49367088607595,\n",
              "    99.49367088607595,\n",
              "    99.49367088607595,\n",
              "    99.49367088607595,\n",
              "    99.49367088607595,\n",
              "    99.49367088607595,\n",
              "    99.49367088607595,\n",
              "    99.49367088607595,\n",
              "    99.49367088607595,\n",
              "    99.49367088607595,\n",
              "    99.49367088607595,\n",
              "    99.62025316455696,\n",
              "    99.62025316455696]],\n",
              "  'test_loss': [[0.4728694719314575,\n",
              "    0.10595247623547911,\n",
              "    0.07972730276025831,\n",
              "    0.06571214165212587,\n",
              "    0.05782889560176991,\n",
              "    0.05221650475396309,\n",
              "    0.04704525838163681,\n",
              "    0.04371374118784443,\n",
              "    0.04161446064852644,\n",
              "    0.03922182902896311,\n",
              "    0.03752281839381903,\n",
              "    0.035733349661203104,\n",
              "    0.034693809775204865,\n",
              "    0.03370636437804787,\n",
              "    0.032819816951366376,\n",
              "    0.031305318616359726,\n",
              "    0.030796104149345773,\n",
              "    0.029792634875822115,\n",
              "    0.028627677131455857,\n",
              "    0.028399804663055694,\n",
              "    0.028336181484750703,\n",
              "    0.027571053487062454,\n",
              "    0.027251243903607246,\n",
              "    0.026937977657164446,\n",
              "    0.026519245949579634,\n",
              "    0.0259249333452055,\n",
              "    0.025754197164543437,\n",
              "    0.025386046313823317,\n",
              "    0.024960606323085086,\n",
              "    0.024763872677466135,\n",
              "    0.024453704836181714,\n",
              "    0.024010320264018083,\n",
              "    0.024245581855958154,\n",
              "    0.023920297167560785,\n",
              "    0.02387036809611309,\n",
              "    0.023698533451707044,\n",
              "    0.0235159393035472,\n",
              "    0.023423066646570807,\n",
              "    0.023194413090808667,\n",
              "    0.02291905219092732,\n",
              "    0.022731158712632895,\n",
              "    0.022493678128777537,\n",
              "    0.02246447713059024,\n",
              "    0.022371956130038596,\n",
              "    0.02222248860125037,\n",
              "    0.02205560364743433,\n",
              "    0.021846925409013784,\n",
              "    0.021878687259839352,\n",
              "    0.02177787273096328,\n",
              "    0.021547216470479906]],\n",
              "  'train_loss': [[0.7766977229181128,\n",
              "    0.23974720354041917,\n",
              "    0.1443439634838626,\n",
              "    0.11453013986914462,\n",
              "    0.09628870820212033,\n",
              "    0.08280393944427139,\n",
              "    0.0823744126442902,\n",
              "    0.07297145799529753,\n",
              "    0.06498435341328487,\n",
              "    0.06277758479211097,\n",
              "    0.05835209927012811,\n",
              "    0.0568972167273033,\n",
              "    0.053270412371603536,\n",
              "    0.05345809317537869,\n",
              "    0.05058798838632462,\n",
              "    0.04775912493195569,\n",
              "    0.04553809678319625,\n",
              "    0.04706559372081221,\n",
              "    0.04421907748144035,\n",
              "    0.04005296126848221,\n",
              "    0.041033211087994015,\n",
              "    0.04045383218079471,\n",
              "    0.03984460685822579,\n",
              "    0.03918682468512785,\n",
              "    0.03577636268558904,\n",
              "    0.035211326385360925,\n",
              "    0.03474252565355196,\n",
              "    0.03634111584271322,\n",
              "    0.03245412071725132,\n",
              "    0.034009975519810394,\n",
              "    0.03155431340233701,\n",
              "    0.03280855615612033,\n",
              "    0.029570949571557092,\n",
              "    0.0294351827230998,\n",
              "    0.029011711151291926,\n",
              "    0.029248017597004895,\n",
              "    0.02858235464480237,\n",
              "    0.028300687152048677,\n",
              "    0.026172547076133354,\n",
              "    0.028151242896335086,\n",
              "    0.026391767262006392,\n",
              "    0.02703113942091488,\n",
              "    0.025202011303902885,\n",
              "    0.02654230291360151,\n",
              "    0.025500545777821015,\n",
              "    0.02547844913471485,\n",
              "    0.02461338324692549,\n",
              "    0.02271501381956612,\n",
              "    0.026215159017647663,\n",
              "    0.022711603571361018]]},\n",
              " 'MNIST CNN on Non IID': {'hyperparams': {'C': 0.9,\n",
              "   'E': 5,\n",
              "   'K': 100,\n",
              "   'batch_size': 10,\n",
              "   'lr': 0.05,\n",
              "   'mu': 0.01,\n",
              "   'percentage': 50,\n",
              "   'rounds': 50,\n",
              "   'target_test_accuracy': 99.0},\n",
              "  'test_accuracy': [[38.860759493670884,\n",
              "    79.62025316455696,\n",
              "    88.9873417721519,\n",
              "    90.75949367088607,\n",
              "    93.67088607594937,\n",
              "    94.30379746835443,\n",
              "    95.69620253164557,\n",
              "    95.82278481012658,\n",
              "    96.20253164556962,\n",
              "    96.32911392405063,\n",
              "    96.20253164556962,\n",
              "    96.45569620253164,\n",
              "    96.70886075949367,\n",
              "    96.83544303797468,\n",
              "    96.9620253164557,\n",
              "    96.9620253164557,\n",
              "    97.0886075949367,\n",
              "    97.21518987341773,\n",
              "    97.34177215189874,\n",
              "    97.72151898734177,\n",
              "    97.59493670886076,\n",
              "    97.84810126582279,\n",
              "    97.84810126582279,\n",
              "    97.84810126582279,\n",
              "    98.10126582278481,\n",
              "    98.10126582278481,\n",
              "    98.22784810126582,\n",
              "    98.22784810126582,\n",
              "    98.22784810126582,\n",
              "    97.9746835443038,\n",
              "    98.10126582278481,\n",
              "    98.22784810126582,\n",
              "    98.22784810126582,\n",
              "    98.35443037974683,\n",
              "    98.48101265822785,\n",
              "    98.48101265822785,\n",
              "    98.60759493670886,\n",
              "    98.60759493670886,\n",
              "    98.60759493670886,\n",
              "    98.60759493670886,\n",
              "    98.86075949367088,\n",
              "    98.60759493670886,\n",
              "    98.60759493670886,\n",
              "    98.86075949367088,\n",
              "    98.73417721518987,\n",
              "    98.60759493670886,\n",
              "    98.60759493670886,\n",
              "    98.86075949367088,\n",
              "    98.86075949367088,\n",
              "    98.86075949367088]],\n",
              "  'test_loss': [[2.220987812423706,\n",
              "    1.875371176147461,\n",
              "    1.0836788633346557,\n",
              "    0.6745660373687744,\n",
              "    0.4773162147045136,\n",
              "    0.35864794974327086,\n",
              "    0.2746884248018265,\n",
              "    0.2296572071790695,\n",
              "    0.21280105147361755,\n",
              "    0.17769458575248717,\n",
              "    0.16358483856916428,\n",
              "    0.14424935479164125,\n",
              "    0.13713945791721344,\n",
              "    0.12484110697805882,\n",
              "    0.11479702734649182,\n",
              "    0.1093751492202282,\n",
              "    0.10322713344544172,\n",
              "    0.09771609351187945,\n",
              "    0.09172500340938568,\n",
              "    0.08917520855665206,\n",
              "    0.08836639851033688,\n",
              "    0.08247125208377838,\n",
              "    0.0791850555717945,\n",
              "    0.0736669895671308,\n",
              "    0.07424830597564579,\n",
              "    0.07162828562781215,\n",
              "    0.06867988089323043,\n",
              "    0.0674981161430478,\n",
              "    0.06376586383134127,\n",
              "    0.06250160856433212,\n",
              "    0.06069273652359843,\n",
              "    0.05762284593172371,\n",
              "    0.05650571678802371,\n",
              "    0.05494568941481411,\n",
              "    0.05386884479448199,\n",
              "    0.05334029128961265,\n",
              "    0.05169359227232635,\n",
              "    0.05042199040614068,\n",
              "    0.04996857342459261,\n",
              "    0.04894481225311756,\n",
              "    0.048314112028107044,\n",
              "    0.04754043111987412,\n",
              "    0.04688392953574658,\n",
              "    0.04502891083974391,\n",
              "    0.04406811066754162,\n",
              "    0.043708550122939054,\n",
              "    0.04287976759709418,\n",
              "    0.042019512127153574,\n",
              "    0.04143424637038261,\n",
              "    0.04194967774096876]],\n",
              "  'train_loss': [[0.18092246180449692,\n",
              "    0.13638015909945406,\n",
              "    0.07581137246482168,\n",
              "    0.05459700235956992,\n",
              "    0.04965946194571934,\n",
              "    0.04160720462936414,\n",
              "    0.036450895832260834,\n",
              "    0.03935319669760424,\n",
              "    0.03960284971162594,\n",
              "    0.030905373822367316,\n",
              "    0.03334574722970567,\n",
              "    0.030316611014900113,\n",
              "    0.03167399381664235,\n",
              "    0.02828404367896427,\n",
              "    0.027496432035391077,\n",
              "    0.02814088625226523,\n",
              "    0.026649420359702268,\n",
              "    0.0264454776977985,\n",
              "    0.024498174407125598,\n",
              "    0.024592229484778436,\n",
              "    0.02702620660965144,\n",
              "    0.023955329032505603,\n",
              "    0.02396337219459626,\n",
              "    0.020628834590319053,\n",
              "    0.0236268037514133,\n",
              "    0.021483948555364306,\n",
              "    0.021149947620170865,\n",
              "    0.020921863555136772,\n",
              "    0.020258454349369855,\n",
              "    0.020589019437788344,\n",
              "    0.021893631866615675,\n",
              "    0.018356866925563174,\n",
              "    0.02006380297087584,\n",
              "    0.01973468207289145,\n",
              "    0.018334139318268647,\n",
              "    0.018762129124489144,\n",
              "    0.017843903149818763,\n",
              "    0.018140645815595623,\n",
              "    0.016707335294322775,\n",
              "    0.0173724691331231,\n",
              "    0.018407716802023855,\n",
              "    0.018381105715056092,\n",
              "    0.01689098401168636,\n",
              "    0.016264558450359838,\n",
              "    0.016124912332850478,\n",
              "    0.015065038227527916,\n",
              "    0.015966825931347014,\n",
              "    0.015562967857610747,\n",
              "    0.01427966441905408,\n",
              "    0.015468959798269724]]},\n",
              " 'MNIST MLP on IID': {'hyperparams': {'C': 0.9,\n",
              "   'E': 5,\n",
              "   'K': 100,\n",
              "   'batch_size': 10,\n",
              "   'lr': 0.05,\n",
              "   'mu': 0.01,\n",
              "   'percentage': 50,\n",
              "   'rounds': 50,\n",
              "   'target_test_accuracy': 94.0},\n",
              "  'test_accuracy': [[90.37974683544304,\n",
              "    93.41772151898734,\n",
              "    94.43037974683544,\n",
              "    94.68354430379746,\n",
              "    94.68354430379746,\n",
              "    95.31645569620254,\n",
              "    95.69620253164557,\n",
              "    95.56962025316456,\n",
              "    95.9493670886076,\n",
              "    95.9493670886076,\n",
              "    96.07594936708861,\n",
              "    96.45569620253164,\n",
              "    96.58227848101266,\n",
              "    96.45569620253164,\n",
              "    96.83544303797468,\n",
              "    96.9620253164557,\n",
              "    96.9620253164557,\n",
              "    96.9620253164557,\n",
              "    96.9620253164557,\n",
              "    97.0886075949367,\n",
              "    97.0886075949367,\n",
              "    97.0886075949367,\n",
              "    97.0886075949367,\n",
              "    97.34177215189874,\n",
              "    97.46835443037975,\n",
              "    97.46835443037975,\n",
              "    97.21518987341773,\n",
              "    97.21518987341773,\n",
              "    97.21518987341773,\n",
              "    97.46835443037975,\n",
              "    97.21518987341773,\n",
              "    97.34177215189874,\n",
              "    97.46835443037975,\n",
              "    97.59493670886076,\n",
              "    97.34177215189874,\n",
              "    97.46835443037975,\n",
              "    97.59493670886076,\n",
              "    97.72151898734177,\n",
              "    97.59493670886076,\n",
              "    97.84810126582279,\n",
              "    97.84810126582279,\n",
              "    98.10126582278481,\n",
              "    97.84810126582279,\n",
              "    97.84810126582279,\n",
              "    97.72151898734177,\n",
              "    97.84810126582279,\n",
              "    97.84810126582279,\n",
              "    97.84810126582279,\n",
              "    97.84810126582279,\n",
              "    97.84810126582279]],\n",
              "  'test_loss': [[0.35649055855274203,\n",
              "    0.25568000934422014,\n",
              "    0.21936441533863543,\n",
              "    0.19430462203323842,\n",
              "    0.1737713628128171,\n",
              "    0.16163766304180027,\n",
              "    0.15070732349306346,\n",
              "    0.1425728899911046,\n",
              "    0.13424646738395096,\n",
              "    0.1283786965508014,\n",
              "    0.12408363038897514,\n",
              "    0.11962463210858405,\n",
              "    0.11616566190347076,\n",
              "    0.11256103032231331,\n",
              "    0.10930574562698603,\n",
              "    0.10669337178692222,\n",
              "    0.10490770579446107,\n",
              "    0.10229377133455128,\n",
              "    0.10029189125597476,\n",
              "    0.09826756354086101,\n",
              "    0.09696498244963586,\n",
              "    0.09553201403748245,\n",
              "    0.09369454968236386,\n",
              "    0.09209693708345294,\n",
              "    0.09072899142708629,\n",
              "    0.09101867051776498,\n",
              "    0.08950885763373226,\n",
              "    0.08825562403891235,\n",
              "    0.08814389257784933,\n",
              "    0.08730329572306945,\n",
              "    0.08591624396322295,\n",
              "    0.08531373044745996,\n",
              "    0.08492486272323876,\n",
              "    0.08357384568108246,\n",
              "    0.0833244398300536,\n",
              "    0.08249393644020893,\n",
              "    0.08191428620382211,\n",
              "    0.08150147880311125,\n",
              "    0.08096756639843807,\n",
              "    0.08027367538237012,\n",
              "    0.07951904947711155,\n",
              "    0.078665678144712,\n",
              "    0.07900882964008488,\n",
              "    0.07911128766839393,\n",
              "    0.07845908404458314,\n",
              "    0.07765960822016932,\n",
              "    0.07790862460371573,\n",
              "    0.0772901408192236,\n",
              "    0.07704848883841187,\n",
              "    0.07634117726250551]],\n",
              "  'train_loss': [[0.981032072411218,\n",
              "    0.27251880811829765,\n",
              "    0.21170910691204375,\n",
              "    0.1737074692261499,\n",
              "    0.1561984334921531,\n",
              "    0.13236791318058133,\n",
              "    0.13105939983492224,\n",
              "    0.11867039485459277,\n",
              "    0.11505353533074604,\n",
              "    0.10476919330668026,\n",
              "    0.09098724301264478,\n",
              "    0.09289149610556675,\n",
              "    0.0854772137785475,\n",
              "    0.08487139635201905,\n",
              "    0.07924169829364998,\n",
              "    0.07622798124351954,\n",
              "    0.0736743245970505,\n",
              "    0.07500566556461666,\n",
              "    0.06996211004051804,\n",
              "    0.06837856437176094,\n",
              "    0.06729991102450031,\n",
              "    0.06419210091882961,\n",
              "    0.0617130968126731,\n",
              "    0.0636908661549305,\n",
              "    0.062288780019388264,\n",
              "    0.05438572898293138,\n",
              "    0.05460849498979081,\n",
              "    0.055393066964186125,\n",
              "    0.053520857022170444,\n",
              "    0.05136678737365828,\n",
              "    0.05234206562498755,\n",
              "    0.053751694518175665,\n",
              "    0.046617469220357526,\n",
              "    0.04844592678234124,\n",
              "    0.04758954173612856,\n",
              "    0.048216471688196,\n",
              "    0.04539114649126846,\n",
              "    0.04417268768201749,\n",
              "    0.04386001072327325,\n",
              "    0.04249983591218882,\n",
              "    0.04494579582070372,\n",
              "    0.04296756843244894,\n",
              "    0.03944718239111707,\n",
              "    0.0377497769315704,\n",
              "    0.03915100331839919,\n",
              "    0.038099679116301695,\n",
              "    0.03621709626989597,\n",
              "    0.037949312888018935,\n",
              "    0.03460247427194167,\n",
              "    0.034160576600310036]]},\n",
              " 'MNIST MLP on Non IID': {'hyperparams': {'C': 0.9,\n",
              "   'E': 5,\n",
              "   'K': 100,\n",
              "   'batch_size': 10,\n",
              "   'lr': 0.05,\n",
              "   'mu': 0.01,\n",
              "   'percentage': 50,\n",
              "   'rounds': 50,\n",
              "   'target_test_accuracy': 94.0},\n",
              "  'test_accuracy': [[63.164556962025316,\n",
              "    77.59493670886076,\n",
              "    84.81012658227849,\n",
              "    85.44303797468355,\n",
              "    88.22784810126582,\n",
              "    88.73417721518987,\n",
              "    89.74683544303798,\n",
              "    91.0126582278481,\n",
              "    91.64556962025317,\n",
              "    92.40506329113924,\n",
              "    92.53164556962025,\n",
              "    92.65822784810126,\n",
              "    92.65822784810126,\n",
              "    92.9113924050633,\n",
              "    92.78481012658227,\n",
              "    93.0379746835443,\n",
              "    93.16455696202532,\n",
              "    93.29113924050633,\n",
              "    93.79746835443038,\n",
              "    94.0506329113924,\n",
              "    94.17721518987342,\n",
              "    94.30379746835443,\n",
              "    94.68354430379746,\n",
              "    94.81012658227849,\n",
              "    94.68354430379746,\n",
              "    94.68354430379746,\n",
              "    94.30379746835443,\n",
              "    94.9367088607595,\n",
              "    95.31645569620254,\n",
              "    95.18987341772151,\n",
              "    95.31645569620254,\n",
              "    95.44303797468355,\n",
              "    95.18987341772151,\n",
              "    95.18987341772151,\n",
              "    95.18987341772151,\n",
              "    95.44303797468355,\n",
              "    95.69620253164557,\n",
              "    95.31645569620254,\n",
              "    95.9493670886076,\n",
              "    95.82278481012658,\n",
              "    95.44303797468355,\n",
              "    95.56962025316456,\n",
              "    95.44303797468355,\n",
              "    95.82278481012658,\n",
              "    95.56962025316456,\n",
              "    95.56962025316456,\n",
              "    96.07594936708861,\n",
              "    96.07594936708861,\n",
              "    95.69620253164557,\n",
              "    95.9493670886076]],\n",
              "  'test_loss': [[3.3372332431793215,\n",
              "    1.6604577470779418,\n",
              "    0.9491326570510864,\n",
              "    0.679967012500763,\n",
              "    0.5364539153575897,\n",
              "    0.45942066547870636,\n",
              "    0.40855088884830476,\n",
              "    0.37111515707969667,\n",
              "    0.3422642122626305,\n",
              "    0.31934114097356797,\n",
              "    0.30156970393657684,\n",
              "    0.28888738179206847,\n",
              "    0.2746121946692467,\n",
              "    0.26177280353307725,\n",
              "    0.25136835058927537,\n",
              "    0.24294062039852143,\n",
              "    0.2349718832373619,\n",
              "    0.22760764076709747,\n",
              "    0.21970753450393676,\n",
              "    0.21304422073364257,\n",
              "    0.20750921343564988,\n",
              "    0.20190815507769586,\n",
              "    0.19607029411196708,\n",
              "    0.19149998546242714,\n",
              "    0.189484461915493,\n",
              "    0.18321011621952057,\n",
              "    0.1807166089773178,\n",
              "    0.1761472180008888,\n",
              "    0.17595286563038826,\n",
              "    0.17022744541168214,\n",
              "    0.16630853908061982,\n",
              "    0.16399381300210952,\n",
              "    0.1630598817050457,\n",
              "    0.1590078122138977,\n",
              "    0.15652639912962912,\n",
              "    0.15488245198726655,\n",
              "    0.1525132591366768,\n",
              "    0.15003245711922644,\n",
              "    0.14859294645786286,\n",
              "    0.14576153222918511,\n",
              "    0.14357093549966812,\n",
              "    0.14204856367707253,\n",
              "    0.13969626985788344,\n",
              "    0.13972112690806388,\n",
              "    0.13658339842557907,\n",
              "    0.13785435799360277,\n",
              "    0.13503680104911328,\n",
              "    0.13236357317864894,\n",
              "    0.13133229691684245,\n",
              "    0.13029640370309353]],\n",
              "  'train_loss': [[0.20425616610215763,\n",
              "    0.10631509318344441,\n",
              "    0.09100507768226881,\n",
              "    0.07822479900306402,\n",
              "    0.0683632452061966,\n",
              "    0.061138568427770115,\n",
              "    0.05961673835013133,\n",
              "    0.05555254101900838,\n",
              "    0.05190902717549776,\n",
              "    0.048870712850194696,\n",
              "    0.04850788482016003,\n",
              "    0.04670903041221873,\n",
              "    0.04198170344206147,\n",
              "    0.043921070210165676,\n",
              "    0.03940119244874655,\n",
              "    0.0405227808130964,\n",
              "    0.03945963640867467,\n",
              "    0.037813733853033986,\n",
              "    0.0390688423245339,\n",
              "    0.041656686747823926,\n",
              "    0.0364883742177856,\n",
              "    0.033509898505815344,\n",
              "    0.037172670117518326,\n",
              "    0.03346492372422456,\n",
              "    0.03029590723225647,\n",
              "    0.03554618099495016,\n",
              "    0.03127040237225205,\n",
              "    0.030564052497235802,\n",
              "    0.0297798357326717,\n",
              "    0.0285121703776301,\n",
              "    0.029493583014635522,\n",
              "    0.028330437501436857,\n",
              "    0.02894836794015562,\n",
              "    0.030535062156321575,\n",
              "    0.029259889210621764,\n",
              "    0.029756565447738616,\n",
              "    0.027556413916198327,\n",
              "    0.027783629307797868,\n",
              "    0.028124266278194855,\n",
              "    0.02739195140327089,\n",
              "    0.028211310724663857,\n",
              "    0.026467268791033897,\n",
              "    0.02741853803005588,\n",
              "    0.02246817574756547,\n",
              "    0.024408178855483218,\n",
              "    0.022021980905063146,\n",
              "    0.02373194306777369,\n",
              "    0.02275181500292685,\n",
              "    0.0244208843870021,\n",
              "    0.022065303657455435]]}}"
            ]
          },
          "metadata": {
            "tags": []
          },
          "execution_count": 74
        }
      ]
    },
    {
      "cell_type": "code",
      "metadata": {
        "id": "BXa1-CbFo3pX"
      },
      "source": [
        "import pickle\n",
        "\n",
        "with open(path + 'FedProx_0.9.pkl', 'rb') as file:\n",
        "  log_dict = pickle.load(file)"
      ],
      "execution_count": 75,
      "outputs": []
    },
    {
      "cell_type": "code",
      "metadata": {
        "id": "se_04JMaVJPg",
        "colab": {
          "base_uri": "https://localhost:8080/"
        },
        "outputId": "9f1b4a4c-8a5c-43e1-917d-95080655144f"
      },
      "source": [
        "print([test_acc[-1] for test_acc in log_dict['MNIST CNN on IID']['test_accuracy']])"
      ],
      "execution_count": 76,
      "outputs": [
        {
          "output_type": "stream",
          "text": [
            "[99.62025316455696]\n"
          ],
          "name": "stdout"
        }
      ]
    },
    {
      "cell_type": "code",
      "metadata": {
        "id": "5sv0rv-G4Sqa",
        "colab": {
          "base_uri": "https://localhost:8080/"
        },
        "outputId": "b5d32839-2cfb-4cb0-e340-b9d13541adcd"
      },
      "source": [
        "print([test_acc[-1] for test_acc in log_dict['MNIST CNN on Non IID']['test_accuracy']])"
      ],
      "execution_count": 77,
      "outputs": [
        {
          "output_type": "stream",
          "text": [
            "[98.86075949367088]\n"
          ],
          "name": "stdout"
        }
      ]
    },
    {
      "cell_type": "code",
      "metadata": {
        "id": "b2a2_Az-4nal",
        "colab": {
          "base_uri": "https://localhost:8080/"
        },
        "outputId": "6470abf3-1c4e-457a-9682-b032cbe27d19"
      },
      "source": [
        "print([test_acc[-1] for test_acc in log_dict['MNIST MLP on IID']['test_accuracy']])"
      ],
      "execution_count": 78,
      "outputs": [
        {
          "output_type": "stream",
          "text": [
            "[97.84810126582279]\n"
          ],
          "name": "stdout"
        }
      ]
    },
    {
      "cell_type": "code",
      "metadata": {
        "id": "YoRqZyvD4p2K",
        "colab": {
          "base_uri": "https://localhost:8080/"
        },
        "outputId": "e3f2ba5c-fcd4-4cf1-b66a-d13ad7348272"
      },
      "source": [
        "print([test_acc[-1] for test_acc in log_dict['MNIST MLP on Non IID']['test_accuracy']])"
      ],
      "execution_count": 79,
      "outputs": [
        {
          "output_type": "stream",
          "text": [
            "[95.9493670886076]\n"
          ],
          "name": "stdout"
        }
      ]
    },
    {
      "cell_type": "code",
      "metadata": {
        "id": "B87eGKJnAHIh",
        "colab": {
          "base_uri": "https://localhost:8080/"
        },
        "outputId": "a6b78ebf-c0c9-47b6-cf4d-a3186fabeb11"
      },
      "source": [
        "output.show()"
      ],
      "execution_count": 80,
      "outputs": [
        {
          "output_type": "stream",
          "text": [
            "Drive already mounted at /content/drive; to attempt to forcibly remount, call drive.mount(\"/content/drive\", force_remount=True).\n"
          ],
          "name": "stdout"
        }
      ]
    }
  ]
}