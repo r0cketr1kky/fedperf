{
  "nbformat": 4,
  "nbformat_minor": 0,
  "metadata": {
    "accelerator": "GPU",
    "colab": {
      "name": "FedProx.ipynb",
      "provenance": [],
      "collapsed_sections": [],
      "machine_shape": "hm"
    },
    "kernelspec": {
      "name": "python3",
      "display_name": "Python 3"
    },
    "language_info": {
      "name": "python"
    }
  },
  "cells": [
    {
      "cell_type": "markdown",
      "metadata": {
        "id": "view-in-github"
      },
      "source": [
        "<a href=\"https://colab.research.google.com/github/tushar-semwal/fedperf/blob/main/Vineeth/Local_Rounds/FedProx/FedProx.ipynb\" target=\"_parent\"><img src=\"https://colab.research.google.com/assets/colab-badge.svg\" alt=\"Open In Colab\"/></a>"
      ]
    },
    {
      "cell_type": "code",
      "metadata": {
        "id": "yKcpjZLrQQJV"
      },
      "source": [
        "%%capture output\n",
        "try:\n",
        "    from google.colab import drive\n",
        "    drive.mount('/content/drive')\n",
        "\n",
        "    import os\n",
        "    path = '/content/drive/MyDrive/Colab Notebooks/OpenMined/'\n",
        "    os.makedirs(path, exist_ok=True)\n",
        "except:\n",
        "    path = './'"
      ],
      "execution_count": 28,
      "outputs": []
    },
    {
      "cell_type": "markdown",
      "metadata": {
        "id": "-0_nKpfq2h1R"
      },
      "source": [
        "## Imports"
      ]
    },
    {
      "cell_type": "code",
      "metadata": {
        "id": "DLLNM9X2JbQ8",
        "colab": {
          "base_uri": "https://localhost:8080/"
        },
        "outputId": "7cda681d-b5d5-4529-f95a-7e8a93f9f741"
      },
      "source": [
        "%load_ext tensorboard\n",
        "import os\n",
        "import numpy as np\n",
        "import matplotlib\n",
        "import matplotlib.pyplot as plt\n",
        "import copy\n",
        "import random\n",
        "import time\n",
        "\n",
        "import torch\n",
        "import torch.nn as nn\n",
        "import torch.nn.functional as F\n",
        "\n",
        "from torch.utils.data import Dataset, DataLoader\n",
        "from torch.utils.tensorboard import SummaryWriter\n",
        "from torchvision import transforms, utils, datasets\n",
        "from torchsummary import summary\n",
        "\n",
        "\n",
        "# Check assigned GPU\n",
        "gpu_info = !nvidia-smi\n",
        "gpu_info = '\\n'.join(gpu_info)\n",
        "if gpu_info.find('failed') >= 0:\n",
        "  print('Select the Runtime > \"Change runtime type\" menu to enable a GPU accelerator, ')\n",
        "  print('and then re-execute this cell.')\n",
        "else:\n",
        "  print(gpu_info)\n",
        "\n",
        "# set manual seed for reproducibility\n",
        "seed = 42\n",
        "\n",
        "# general reproducibility\n",
        "random.seed(seed)\n",
        "np.random.seed(seed)\n",
        "torch.manual_seed(seed)\n",
        "\n",
        "# gpu training specific\n",
        "torch.backends.cudnn.deterministic = True\n",
        "torch.backends.cudnn.benchmark = False"
      ],
      "execution_count": 29,
      "outputs": [
        {
          "output_type": "stream",
          "text": [
            "The tensorboard extension is already loaded. To reload it, use:\n",
            "  %reload_ext tensorboard\n",
            "Thu Apr 22 16:05:08 2021       \n",
            "+-----------------------------------------------------------------------------+\n",
            "| NVIDIA-SMI 460.67       Driver Version: 460.32.03    CUDA Version: 11.2     |\n",
            "|-------------------------------+----------------------+----------------------+\n",
            "| GPU  Name        Persistence-M| Bus-Id        Disp.A | Volatile Uncorr. ECC |\n",
            "| Fan  Temp  Perf  Pwr:Usage/Cap|         Memory-Usage | GPU-Util  Compute M. |\n",
            "|                               |                      |               MIG M. |\n",
            "|===============================+======================+======================|\n",
            "|   0  Tesla T4            Off  | 00000000:00:04.0 Off |                    0 |\n",
            "| N/A   76C    P0    33W /  70W |   1394MiB / 15109MiB |      0%      Default |\n",
            "|                               |                      |                  N/A |\n",
            "+-------------------------------+----------------------+----------------------+\n",
            "                                                                               \n",
            "+-----------------------------------------------------------------------------+\n",
            "| Processes:                                                                  |\n",
            "|  GPU   GI   CI        PID   Type   Process name                  GPU Memory |\n",
            "|        ID   ID                                                   Usage      |\n",
            "|=============================================================================|\n",
            "+-----------------------------------------------------------------------------+\n"
          ],
          "name": "stdout"
        }
      ]
    },
    {
      "cell_type": "markdown",
      "metadata": {
        "id": "NY4eWzGiL6Mj"
      },
      "source": [
        "## Load the MNIST Dataset"
      ]
    },
    {
      "cell_type": "code",
      "metadata": {
        "id": "41lWlknqo3pI"
      },
      "source": [
        "torch.cuda.set_device('cuda:0')"
      ],
      "execution_count": 30,
      "outputs": []
    },
    {
      "cell_type": "code",
      "metadata": {
        "id": "G649tjTXLL8F"
      },
      "source": [
        "# create transforms\n",
        "# We will just convert to tensor and normalize since no special transforms are mentioned in the paper\n",
        "transforms_mnist = transforms.Compose([\n",
        "                                       transforms.ToTensor(),\n",
        "                                       transforms.Normalize((0.1307,), (0.3081,))\n",
        "                                       ])\n",
        "\n",
        "mnist_data_train = datasets.MNIST('./data/mnist/', train=True, download=True, transform=transforms_mnist)\n",
        "mnist_data_test = datasets.MNIST('../data/mnist/', train=False, download=True, transform=transforms_mnist)"
      ],
      "execution_count": 31,
      "outputs": []
    },
    {
      "cell_type": "code",
      "metadata": {
        "id": "dm9usjn2vFkL",
        "colab": {
          "base_uri": "https://localhost:8080/"
        },
        "outputId": "acdb3152-4f9e-4e83-cbab-3b0c9e40c6ac"
      },
      "source": [
        "classes = np.array(list(mnist_data_train.class_to_idx.values()))\n",
        "classes_test = np.array(list(mnist_data_test.class_to_idx.values()))\n",
        "num_classes = len(classes_test)\n",
        "print(\"Classes: {} \\tType: {}\".format(classes, type(classes)))\n",
        "print(\"Classes Test: {} \\tType: {}\".format(classes_test, type(classes)))\n"
      ],
      "execution_count": 32,
      "outputs": [
        {
          "output_type": "stream",
          "text": [
            "Classes: [0 1 2 3 4 5 6 7 8 9] \tType: <class 'numpy.ndarray'>\n",
            "Classes Test: [0 1 2 3 4 5 6 7 8 9] \tType: <class 'numpy.ndarray'>\n"
          ],
          "name": "stdout"
        }
      ]
    },
    {
      "cell_type": "code",
      "metadata": {
        "id": "9lvJt3Ofv2SO",
        "colab": {
          "base_uri": "https://localhost:8080/"
        },
        "outputId": "2296e024-dfdc-42f6-969d-6e1c146a1259"
      },
      "source": [
        "print(\"Image Shape: {}\".format(mnist_data_train.data[0].size()))"
      ],
      "execution_count": 33,
      "outputs": [
        {
          "output_type": "stream",
          "text": [
            "Image Shape: torch.Size([28, 28])\n"
          ],
          "name": "stdout"
        }
      ]
    },
    {
      "cell_type": "markdown",
      "metadata": {
        "id": "jCOONkg-zV7Y"
      },
      "source": [
        "## Visualize Data"
      ]
    },
    {
      "cell_type": "code",
      "metadata": {
        "id": "R9MK03TZw6Qs"
      },
      "source": [
        "def imshow(img):\n",
        "\timg = img/2 + 0.5 #unnormalize the image\n",
        "\tplt.imshow(img, cmap='gray') # convert from tensor to image"
      ],
      "execution_count": 34,
      "outputs": []
    },
    {
      "cell_type": "code",
      "metadata": {
        "id": "gMJ0Kx4Kw-_H"
      },
      "source": [
        "def visualize(dataset):\n",
        "  figure = plt.figure(figsize=(25,4))\n",
        "  for i in range(20):\n",
        "    axis = figure.add_subplot(2, 20/2, i+1, xticks=[], yticks=[])\n",
        "    data = dataset.data[i]\n",
        "    data = data.numpy()\n",
        "\n",
        "    target = dataset.targets[i]\n",
        "    target = target.numpy()\n",
        "    imshow(data)\n",
        "    axis.set_title(target)\n"
      ],
      "execution_count": 35,
      "outputs": []
    },
    {
      "cell_type": "code",
      "metadata": {
        "id": "8bPOwKg10Ro7",
        "colab": {
          "base_uri": "https://localhost:8080/",
          "height": 268
        },
        "outputId": "f8b39482-667a-424f-ca88-eb120b35fa5d"
      },
      "source": [
        "visualize(mnist_data_train)"
      ],
      "execution_count": 36,
      "outputs": [
        {
          "output_type": "display_data",
          "data": {
            "image/png": "[encoded data removed]",
            "text/plain": [
              "<Figure size 1800x288 with 20 Axes>"
            ]
          },
          "metadata": {
            "tags": []
          }
        }
      ]
    },
    {
      "cell_type": "code",
      "metadata": {
        "id": "RKoh5Cf70UYu",
        "colab": {
          "base_uri": "https://localhost:8080/",
          "height": 268
        },
        "outputId": "71e86f06-9108-46ac-b689-ee998c8f898f"
      },
      "source": [
        "visualize(mnist_data_test)"
      ],
      "execution_count": 37,
      "outputs": [
        {
          "output_type": "display_data",
          "data": {
            "image/png": "[encoded data removed]",
            "text/plain": [
              "<Figure size 1800x288 with 20 Axes>"
            ]
          },
          "metadata": {
            "tags": []
          }
        }
      ]
    },
    {
      "cell_type": "markdown",
      "metadata": {
        "id": "ctjRsETiO1qO"
      },
      "source": [
        "## Partitioning the Data (IID and non-IID)"
      ]
    },
    {
      "cell_type": "code",
      "metadata": {
        "id": "3_v8lyrgO5dD"
      },
      "source": [
        "def iid_partition(dataset, clients):\n",
        "  \"\"\"\n",
        "  I.I.D paritioning of data over clients\n",
        "  Shuffle the data\n",
        "  Split it between clients\n",
        "  \n",
        "  params:\n",
        "    - dataset (torch.utils.Dataset): Dataset containing the MNIST Images\n",
        "    - clients (int): Number of Clients to split the data between\n",
        "\n",
        "  returns:\n",
        "    - Dictionary of image indexes for each client\n",
        "  \"\"\"\n",
        "\n",
        "  num_items_per_client = int(len(dataset)/clients)\n",
        "  client_dict = {}\n",
        "  image_idxs = [i for i in range(len(dataset))]\n",
        "\n",
        "  for i in range(clients):\n",
        "    client_dict[i] = set(np.random.choice(image_idxs, num_items_per_client, replace=False))\n",
        "    image_idxs = list(set(image_idxs) - client_dict[i])\n",
        "\n",
        "  return client_dict"
      ],
      "execution_count": 38,
      "outputs": []
    },
    {
      "cell_type": "code",
      "metadata": {
        "id": "4zMdliGMQoSl"
      },
      "source": [
        "def non_iid_partition(dataset, clients, total_shards, shards_size, num_shards_per_client):\n",
        "  \"\"\"\n",
        "  non I.I.D parititioning of data over clients\n",
        "  Sort the data by the digit label\n",
        "  Divide the data into N shards of size S\n",
        "  Each of the clients will get X shards\n",
        "\n",
        "  params:\n",
        "    - dataset (torch.utils.Dataset): Dataset containing the MNIST Images\n",
        "    - clients (int): Number of Clients to split the data between\n",
        "    - total_shards (int): Number of shards to partition the data in\n",
        "    - shards_size (int): Size of each shard \n",
        "    - num_shards_per_client (int): Number of shards of size shards_size that each client receives\n",
        "\n",
        "  returns:\n",
        "    - Dictionary of image indexes for each client\n",
        "  \"\"\"\n",
        "  \n",
        "  shard_idxs = [i for i in range(total_shards)]\n",
        "  client_dict = {i: np.array([], dtype='int64') for i in range(clients)}\n",
        "  idxs = np.arange(len(dataset))\n",
        "  data_labels = dataset.targets.numpy()\n",
        "\n",
        "  # sort the labels\n",
        "  label_idxs = np.vstack((idxs, data_labels))\n",
        "  label_idxs = label_idxs[:, label_idxs[1,:].argsort()]\n",
        "  idxs = label_idxs[0,:]\n",
        "\n",
        "  # divide the data into total_shards of size shards_size\n",
        "  # assign num_shards_per_client to each client\n",
        "  for i in range(clients):\n",
        "    rand_set = set(np.random.choice(shard_idxs, num_shards_per_client, replace=False))\n",
        "    shard_idxs = list(set(shard_idxs) - rand_set)\n",
        "\n",
        "    for rand in rand_set:\n",
        "      client_dict[i] = np.concatenate((client_dict[i], idxs[rand*shards_size:(rand+1)*shards_size]), axis=0)\n",
        "  \n",
        "  return client_dict\n",
        "\n",
        "\n",
        "\n"
      ],
      "execution_count": 39,
      "outputs": []
    },
    {
      "cell_type": "markdown",
      "metadata": {
        "id": "PTfxv8kFoGAy"
      },
      "source": [
        "## Models"
      ]
    },
    {
      "cell_type": "code",
      "metadata": {
        "id": "CvoDNFKbZST5"
      },
      "source": [
        "class MNIST_2NN(nn.Module):\n",
        "  \"\"\"\n",
        "  A simple multilayer-perceptron with 2-hidden layers with 200 units each\n",
        "  using ReLu activations\n",
        "\n",
        "  Total Expected Params: 199,210\n",
        "  \"\"\"\n",
        "  def __init__(self):\n",
        "    super(MNIST_2NN, self).__init__()\n",
        "\n",
        "    self.fc1 = nn.Linear(28*28, 200)\n",
        "    self.fc2 = nn.Linear(200, 200)\n",
        "    self.fc3 = nn.Linear(200, 10)\n",
        "\n",
        "  def forward(self, x):\n",
        "    x = torch.flatten(x, 1)\n",
        "    x = F.relu(self.fc1(x))\n",
        "    x = F.relu(self.fc2(x))\n",
        "    out = self.fc3(x)\n",
        "\n",
        "    return x"
      ],
      "execution_count": 40,
      "outputs": []
    },
    {
      "cell_type": "code",
      "metadata": {
        "id": "ut1hZ8x3qYPZ"
      },
      "source": [
        "class MNIST_CNN(nn.Module):\n",
        "  \"\"\"\n",
        "  CNN with two 5x5 convolution lauers(the first with 32 channels, second with 64,\n",
        "  each followed with 2x2 max pooling), a fully connected layer with 512 uunits and \n",
        "  ReLu activation, and the final Softmax output layer\n",
        "\n",
        "  Total Expected Params: 1,663,370\n",
        "  \"\"\"\n",
        "  def __init__(self):\n",
        "    super(MNIST_CNN, self).__init__()\n",
        "\n",
        "    self.conv1 = nn.Conv2d(1, 32, kernel_size=5)\n",
        "    self.conv2 = nn.Conv2d(32, 64, kernel_size=5)\n",
        "    \n",
        "    self.pool = nn.MaxPool2d(2,2)\n",
        "    self.dropout = nn.Dropout(p=0.2)\n",
        "\n",
        "    self.fc1 = nn.Linear(1024, 512)\n",
        "    self.out = nn.Linear(512, 10)\n",
        "\n",
        "  def forward(self, x):\n",
        "    x = self.pool(F.relu(self.conv1(x)))\n",
        "    x = self.pool(F.relu(self.conv2(x)))\n",
        "    x = self.dropout(x)\n",
        "    x = torch.flatten(x, 1)\n",
        "    x = F.relu(self.fc1(x))\n",
        "    x = self.out(x)\n",
        "    out = F.log_softmax(x, dim=1)\n",
        "\n",
        "    return out"
      ],
      "execution_count": 41,
      "outputs": []
    },
    {
      "cell_type": "markdown",
      "metadata": {
        "id": "uVv4HA9HuLtr"
      },
      "source": [
        "### Print Model Summaries"
      ]
    },
    {
      "cell_type": "code",
      "metadata": {
        "id": "I5oTH710sJEt",
        "colab": {
          "base_uri": "https://localhost:8080/"
        },
        "outputId": "9b49047f-2435-4df5-bd80-d3d829bdb4b3"
      },
      "source": [
        "mnist_mlp = MNIST_2NN()\n",
        "mnist_cnn = MNIST_CNN()\n",
        "\n",
        "if torch.cuda.is_available():\n",
        "  mnist_mlp.cuda()\n",
        "  mnist_cnn.cuda()\n",
        "\n",
        "print(\"MNIST MLP SUMMARY\")\n",
        "print(summary(mnist_mlp, (28,28)))\n",
        "\n",
        "print(\"\\nMNIST CNN SUMMARY\")\n",
        "print(summary(mnist_cnn, (1, 28,28)))"
      ],
      "execution_count": 42,
      "outputs": [
        {
          "output_type": "stream",
          "text": [
            "MNIST MLP SUMMARY\n",
            "----------------------------------------------------------------\n",
            "        Layer (type)               Output Shape         Param #\n",
            "================================================================\n",
            "            Linear-1                  [-1, 200]         157,000\n",
            "            Linear-2                  [-1, 200]          40,200\n",
            "            Linear-3                   [-1, 10]           2,010\n",
            "================================================================\n",
            "Total params: 199,210\n",
            "Trainable params: 199,210\n",
            "Non-trainable params: 0\n",
            "----------------------------------------------------------------\n",
            "Input size (MB): 0.00\n",
            "Forward/backward pass size (MB): 0.00\n",
            "Params size (MB): 0.76\n",
            "Estimated Total Size (MB): 0.77\n",
            "----------------------------------------------------------------\n",
            "None\n",
            "\n",
            "MNIST CNN SUMMARY\n",
            "----------------------------------------------------------------\n",
            "        Layer (type)               Output Shape         Param #\n",
            "================================================================\n",
            "            Conv2d-1           [-1, 32, 24, 24]             832\n",
            "         MaxPool2d-2           [-1, 32, 12, 12]               0\n",
            "            Conv2d-3             [-1, 64, 8, 8]          51,264\n",
            "         MaxPool2d-4             [-1, 64, 4, 4]               0\n",
            "           Dropout-5             [-1, 64, 4, 4]               0\n",
            "            Linear-6                  [-1, 512]         524,800\n",
            "            Linear-7                   [-1, 10]           5,130\n",
            "================================================================\n",
            "Total params: 582,026\n",
            "Trainable params: 582,026\n",
            "Non-trainable params: 0\n",
            "----------------------------------------------------------------\n",
            "Input size (MB): 0.00\n",
            "Forward/backward pass size (MB): 0.23\n",
            "Params size (MB): 2.22\n",
            "Estimated Total Size (MB): 2.45\n",
            "----------------------------------------------------------------\n",
            "None\n"
          ],
          "name": "stdout"
        }
      ]
    },
    {
      "cell_type": "markdown",
      "metadata": {
        "id": "JYXicM_FjSv6"
      },
      "source": [
        "## FedProx"
      ]
    },
    {
      "cell_type": "markdown",
      "metadata": {
        "id": "cjGMTWxAOsf1"
      },
      "source": [
        "### Systems Heterogeneity Simulations\n",
        "\n",
        "Generate epochs for selected clients based on percentage of devices that corresponds to heterogeneity. \n",
        "\n",
        "Assign x number of epochs (chosen unifirmly at random between [1, E]) to 0%, 50% or 90% of the selected devices, respectively. Settings where 0% devices perform fewer than E epochs of work correspond to the environments without system heterogeneity, while 90% of the devices sending their partial solutions corresponds to highly heterogenous system."
      ]
    },
    {
      "cell_type": "code",
      "metadata": {
        "id": "i-WTHuT3OpFD"
      },
      "source": [
        "def GenerateLocalEpochs(percentage, size, max_epochs):\n",
        "  ''' Method generates list of epochs for selected clients\n",
        "  to replicate system heteroggeneity\n",
        "\n",
        "  Params:\n",
        "    percentage: percentage of clients to have fewer than E epochs\n",
        "    size:       total size of the list\n",
        "    max_epochs: maximum value for local epochs\n",
        "  \n",
        "  Returns:\n",
        "    List of size epochs for each Client Update\n",
        "\n",
        "  '''\n",
        "\n",
        "  # if percentage is 0 then each client runs for E epochs\n",
        "  if percentage == 0:\n",
        "      return np.array([max_epochs]*size)\n",
        "  else:\n",
        "    # get the number of clients to have fewer than E epochs\n",
        "    heterogenous_size = int((percentage/100) * size)\n",
        "\n",
        "    # generate random uniform epochs of heterogenous size between 1 and E\n",
        "    epoch_list = np.random.randint(1, max_epochs, heterogenous_size)\n",
        "\n",
        "    # the rest of the clients will have E epochs\n",
        "    remaining_size = size - heterogenous_size\n",
        "    rem_list = [max_epochs]*remaining_size\n",
        "\n",
        "    epoch_list = np.append(epoch_list, rem_list, axis=0)\n",
        "    \n",
        "    # shuffle the list and return\n",
        "    np.random.shuffle(epoch_list)\n",
        "\n",
        "    return epoch_list"
      ],
      "execution_count": 43,
      "outputs": []
    },
    {
      "cell_type": "markdown",
      "metadata": {
        "id": "gf_8XEXa-gZ7"
      },
      "source": [
        "## Federated Averaging"
      ]
    },
    {
      "cell_type": "markdown",
      "metadata": {
        "id": "L-aNdQsQ-Kvp"
      },
      "source": [
        "### Local Training (Client Update)\n",
        "\n",
        "Local training for the model on client side"
      ]
    },
    {
      "cell_type": "code",
      "metadata": {
        "id": "oX6OsQyO-Gz7"
      },
      "source": [
        "class CustomDataset(Dataset):\n",
        "  def __init__(self, dataset, idxs):\n",
        "      self.dataset = dataset\n",
        "      self.idxs = list(idxs)\n",
        "\n",
        "  def __len__(self):\n",
        "      return len(self.idxs)\n",
        "\n",
        "  def __getitem__(self, item):\n",
        "      image, label = self.dataset[self.idxs[item]]\n",
        "      return image, label\n",
        "\n",
        "\n",
        "class ClientUpdate(object):\n",
        "  def __init__(self, dataset, batchSize, learning_rate, epochs, idxs, mu, algorithm):\n",
        "    self.train_loader = DataLoader(CustomDataset(dataset, idxs), batch_size=batchSize, shuffle=True)\n",
        "    self.algorithm = algorithm\n",
        "    self.learning_rate = learning_rate\n",
        "    self.epochs = epochs\n",
        "\n",
        "  def train(self, model):\n",
        "    criterion = nn.CrossEntropyLoss()\n",
        "    proximal_criterion = nn.MSELoss(reduction='mean')\n",
        "    optimizer = torch.optim.SGD(model.parameters(), lr=self.learning_rate, momentum=0.5)\n",
        "\n",
        "    # use the weights of global model for proximal term calculation\n",
        "    global_model = copy.deepcopy(model)\n",
        "\n",
        "    # calculate local training time\n",
        "    start_time = time.time()\n",
        "\n",
        "\n",
        "    e_loss = []\n",
        "    for epoch in range(1, self.epochs+1):\n",
        "\n",
        "      train_loss = 0.0\n",
        "\n",
        "      model.train()\n",
        "      for data, labels in self.train_loader:\n",
        "\n",
        "        if torch.cuda.is_available():\n",
        "          data, labels = data.cuda(), labels.cuda()\n",
        "\n",
        "        # clear the gradients\n",
        "        optimizer.zero_grad()\n",
        "        # make a forward pass\n",
        "        output = model(data)\n",
        "\n",
        "        # calculate the loss + the proximal term\n",
        "        _, pred = torch.max(output, 1)\n",
        "\n",
        "        if self.algorithm == 'fedprox':\n",
        "          proximal_term = 0.0\n",
        "\n",
        "          # iterate through the current and global model parameters\n",
        "          for w, w_t in zip(model.parameters(), global_model.parameters()) :\n",
        "            # update the proximal term \n",
        "            #proximal_term += torch.sum(torch.abs((w-w_t)**2))\n",
        "            proximal_term += (w-w_t).norm(2)\n",
        "\n",
        "          loss = criterion(output, labels) + (mu/2)*proximal_term\n",
        "        else:\n",
        "          loss = criterion(output, labels)\n",
        "    \n",
        "        # do a backwards pass\n",
        "        loss.backward()\n",
        "        # perform a single optimization step\n",
        "        optimizer.step()\n",
        "        # update training loss\n",
        "        train_loss += loss.item()*data.size(0)\n",
        "\n",
        "      # average losses\n",
        "      train_loss = train_loss/len(self.train_loader.dataset)\n",
        "      e_loss.append(train_loss)\n",
        "\n",
        "    total_loss = sum(e_loss)/len(e_loss)\n",
        "\n",
        "    return model.state_dict(), total_loss, (time.time() - start_time)"
      ],
      "execution_count": 44,
      "outputs": []
    },
    {
      "cell_type": "markdown",
      "metadata": {
        "id": "Ukgh1DVHE2Ds"
      },
      "source": [
        "### Server Side Training\n",
        "\n",
        "Following Algorithm 1 from the paper"
      ]
    },
    {
      "cell_type": "code",
      "metadata": {
        "id": "1NF1e33BgpeL"
      },
      "source": [
        "def training(model, rounds, batch_size, lr, ds, ds_test, data_dict, C, K, E, mu, percentage, plt_title, plt_color, target_test_accuracy, algorithm=\"fedprox\"):\n",
        "  \"\"\"\n",
        "  Function implements the Federated Averaging Algorithm from the FedAvg paper.\n",
        "  Specifically, this function is used for the server side training and weight update\n",
        "\n",
        "  Params:\n",
        "    - model:           PyTorch model to train\n",
        "    - rounds:          Number of communication rounds for the client update\n",
        "    - batch_size:      Batch size for client update training\n",
        "    - lr:              Learning rate used for client update training\n",
        "    - ds:              Dataset used for training\n",
        "    - ds_test:         Dataset used for testing\n",
        "    - data_dict:       Type of data partition used for training (IID or non-IID)\n",
        "    - C:               Fraction of clients randomly chosen to perform computation on each round\n",
        "    - K:               Total number of clients\n",
        "    - E:               Number of training passes each client makes over its local dataset per round\n",
        "    - tb_writer_name:  Directory name to save the tensorboard logs\n",
        "  Returns:\n",
        "    - model:           Trained model on the server\n",
        "  \"\"\"\n",
        "\n",
        "  # global model weights\n",
        "  global_weights = model.state_dict()\n",
        "\n",
        "  # training loss\n",
        "  # train_accuracy = []\n",
        "  train_loss = []\n",
        "  test_accuracy = []\n",
        "  test_loss = []\n",
        "\n",
        "  # store last loss for convergence\n",
        "  last_loss = 0.0\n",
        "\n",
        "  # total time taken \n",
        "  total_time = 0\n",
        "  start = time.time()\n",
        "    \n",
        "  print(f\"System heterogeneity set to {percentage}% stragglers.\\n\")\n",
        "  print(f\"Picking {max(int(C*K),1 )} random clients per round.\\n\")\n",
        "\n",
        "  for curr_round in range(1, rounds+1):\n",
        "    w, local_loss, lst_local_train_time = [], [], []\n",
        "\n",
        "    m = max(int(C*K), 1)\n",
        "\n",
        "    heterogenous_epoch_list = GenerateLocalEpochs(percentage, size=m, max_epochs=E)\n",
        "    heterogenous_epoch_list = np.array(heterogenous_epoch_list)\n",
        "\n",
        "    S_t = np.random.choice(range(K), m, replace=False)\n",
        "    S_t = np.array(S_t)\n",
        "    \n",
        "    # For Federated Averaging, drop all the clients that are stragglers\n",
        "    if algorithm == 'fedavg':\n",
        "      stragglers_indices = np.argwhere(heterogenous_epoch_list < E)\n",
        "      heterogenous_epoch_list = np.delete(heterogenous_epoch_list, stragglers_indices)\n",
        "      S_t = np.delete(S_t, stragglers_indices)\n",
        "\n",
        "    for k, epoch in zip(S_t, heterogenous_epoch_list):\n",
        "      local_update = ClientUpdate(dataset=ds, batchSize=batch_size, learning_rate=lr, epochs=epoch, idxs=data_dict[k], mu=mu, algorithm=algorithm)\n",
        "      weights, loss, local_train_time = local_update.train(model=copy.deepcopy(model))\n",
        "\n",
        "      w.append(copy.deepcopy(weights))\n",
        "      local_loss.append(copy.deepcopy(loss))\n",
        "      lst_local_train_time.append(local_train_time)\n",
        "\n",
        "    # calculate time to update the global weights\n",
        "    global_start_time = time.time()\n",
        "\n",
        "    # updating the global weights\n",
        "    weights_avg = copy.deepcopy(w[0])\n",
        "    for k in weights_avg.keys():\n",
        "      for i in range(1, len(w)):\n",
        "        weights_avg[k] += w[i][k]\n",
        "\n",
        "      weights_avg[k] = torch.div(weights_avg[k], len(w))\n",
        "\n",
        "    global_weights = weights_avg\n",
        "    global_end_time = time.time()\n",
        "\n",
        "    # calculate total time \n",
        "    total_time += (global_end_time - global_start_time) + sum(lst_local_train_time)/len(lst_local_train_time)\n",
        "\n",
        "    # move the updated weights to our model state dict\n",
        "    model.load_state_dict(global_weights)\n",
        "\n",
        "    # loss\n",
        "    loss_avg = sum(local_loss) / len(local_loss)\n",
        "\n",
        "    # test accuracy\n",
        "    criterion = nn.CrossEntropyLoss()\n",
        "    test_accuracy_current, test_loss_current = testing(copy.deepcopy(model), ds_test, 128, criterion, num_classes, classes_test)\n",
        "    test_accuracy.append(test_accuracy_current)\n",
        "    test_loss.append(test_loss_current)\n",
        "\n",
        "    print(f\"Round: {curr_round}... \\tAverage Train Loss: {round(loss_avg, 3)}... \\tTest Loss: {test_loss_current}... \\tTest Accuracy: {test_accuracy_current}\")\n",
        "    train_loss.append(loss_avg)\n",
        "\n",
        "#     # break if we achieve the target test accuracy\n",
        "#     if test_accuracy_current >= target_test_accuracy:\n",
        "#       rounds = curr_round\n",
        "#       break\n",
        "\n",
        "    # # break if we achieve convergence, i.e., loss between two consecutive rounds is <0.0001\n",
        "    # if algorithm == 'fedprox' and abs(loss_avg - last_loss) < 0.0001:\n",
        "    #   rounds = curr_round\n",
        "    #   break\n",
        "    \n",
        "    # update the last loss\n",
        "    last_loss = loss_avg\n",
        "\n",
        "  end = time.time()\n",
        "\n",
        "  # plot train loss\n",
        "  fig, ax = plt.subplots()\n",
        "  x_axis = np.arange(1, rounds+1)\n",
        "  y_axis = np.array(train_loss)\n",
        "  ax.plot(x_axis, y_axis)\n",
        "\n",
        "  ax.set(xlabel='Number of Rounds', ylabel='Train Loss', title=plt_title)\n",
        "  ax.grid()\n",
        "  fig.savefig(plt_title+'_Train_loss.jpg', format='jpg')\n",
        "  plt.show()\n",
        "\n",
        "  fig, ax = plt.subplots()\n",
        "  x_axis = np.arange(1, rounds+1)\n",
        "  y_axis = np.array(test_loss)\n",
        "  ax.plot(x_axis, y_axis, 'tab:'+plt_color)\n",
        "\n",
        "  ax.set(xlabel='Number of Rounds', ylabel='Test Loss', title=plt_title)\n",
        "  ax.grid()\n",
        "  fig.savefig(plt_title+'_Test_loss.jpg', format='jpg')\n",
        "  plt.show()\n",
        "\n",
        "\n",
        "  fig, ax = plt.subplots()\n",
        "  x_axis = np.arange(1, rounds+1)\n",
        "  y_axis = np.array(test_accuracy)\n",
        "  ax.plot(x_axis, y_axis, 'tab:'+plt_color)\n",
        "\n",
        "  ax.set(xlabel='Number of Rounds', ylabel='Test Accuracy', title=plt_title)\n",
        "  ax.grid()\n",
        "  fig.savefig(plt_title+'_Test_Accuracy.jpg', format='jpg')\n",
        "  plt.show()\n",
        "  \n",
        "  print(\"Training Done!\")\n",
        "  print(\"Total time taken to Train: {}\\n\\n\".format(end-start))\n",
        "  \n",
        "  return model, train_loss, test_accuracy, test_loss"
      ],
      "execution_count": 45,
      "outputs": []
    },
    {
      "cell_type": "markdown",
      "metadata": {
        "id": "tUYyb4T-uXmF"
      },
      "source": [
        "## Testing Loop"
      ]
    },
    {
      "cell_type": "code",
      "metadata": {
        "id": "uCcIZmO5uan9"
      },
      "source": [
        "def testing(model, dataset, bs, criterion, num_classes, classes, print_info=False):\n",
        "  #test loss \n",
        "  test_loss = 0.0\n",
        "  correct_class = list(0. for i in range(num_classes))\n",
        "  total_class = list(0. for i in range(num_classes))\n",
        "\n",
        "  test_loader = DataLoader(dataset, batch_size=bs)\n",
        "  l = len(test_loader)\n",
        "  model.eval()\n",
        "  for data, labels in test_loader:\n",
        "\n",
        "    if torch.cuda.is_available():\n",
        "      data, labels = data.cuda(), labels.cuda()\n",
        "\n",
        "    output = model(data)\n",
        "    loss = criterion(output, labels)\n",
        "    test_loss += loss.item()*data.size(0)\n",
        "\n",
        "    _, pred = torch.max(output, 1)\n",
        "\n",
        "    correct_tensor = pred.eq(labels.data.view_as(pred))\n",
        "    correct = np.squeeze(correct_tensor.numpy()) if not torch.cuda.is_available() else np.squeeze(correct_tensor.cpu().numpy())\n",
        "\n",
        "    #test accuracy for each object class\n",
        "    for i in range(num_classes):\n",
        "      label = labels.data[i]\n",
        "      correct_class[label] += correct[i].item()\n",
        "      total_class[label] += 1\n",
        "    \n",
        "  # avg test loss\n",
        "  test_loss = test_loss/len(test_loader.dataset)\n",
        "  test_accuracy = 100. * np.sum(correct_class) / np.sum(total_class)\n",
        "\n",
        "  if print_info:\n",
        "    print(\"Test Loss: {:.6f}\\n\".format(test_loss))\n",
        "\n",
        "    for i in range(10):\n",
        "      if total_class[i]>0:\n",
        "        print('Test Accuracy of %5s: %2d%% (%2d/%2d)' % \n",
        "              (classes[i], 100 * correct_class[i] / total_class[i],\n",
        "              np.sum(correct_class[i]), np.sum(total_class[i])))\n",
        "      else:\n",
        "        print('Test Accuracy of %5s: N/A (no training examples)' % (classes[i]))\n",
        "\n",
        "    print('\\nFinal Test  Accuracy: {:.3f} ({}/{})'.format(\n",
        "          100. * np.sum(correct_class) / np.sum(total_class),\n",
        "          np.sum(correct_class), np.sum(total_class)))\n",
        "  \n",
        "  return test_accuracy, test_loss"
      ],
      "execution_count": 46,
      "outputs": []
    },
    {
      "cell_type": "markdown",
      "metadata": {
        "id": "Ri0FqXFeHW-V"
      },
      "source": [
        "## Logger"
      ]
    },
    {
      "cell_type": "code",
      "metadata": {
        "id": "thZm2kSiHT4v"
      },
      "source": [
        "log_dict = {}\n",
        "NUM_REPEAT = 1"
      ],
      "execution_count": 47,
      "outputs": []
    },
    {
      "cell_type": "markdown",
      "metadata": {
        "id": "4hO5oV6aXqeh"
      },
      "source": [
        "## MNIST CNN on IID"
      ]
    },
    {
      "cell_type": "markdown",
      "metadata": {
        "id": "flSQv_P4zCfx"
      },
      "source": [
        "### Train\n"
      ]
    },
    {
      "cell_type": "code",
      "metadata": {
        "id": "0ZalcKZtEseA",
        "colab": {
          "base_uri": "https://localhost:8080/",
          "height": 1000
        },
        "outputId": "d458ea88-52be-448b-eca2-b46648864e49"
      },
      "source": [
        "train_loss_multiple_runs = [None] * NUM_REPEAT\n",
        "test_accuracy_multiple_runs = [None] * NUM_REPEAT\n",
        "test_loss_multiple_runs = [None] * NUM_REPEAT\n",
        "\n",
        "for exp_num in range(NUM_REPEAT):\n",
        "  print(\"Experiment Run Number: \", exp_num)\n",
        "\n",
        "  # number of training rounds\n",
        "  rounds = 50\n",
        "  # client fraction\n",
        "  C = 0.5\n",
        "  # number of clients\n",
        "  K = 100\n",
        "  # number of training passes on local dataset for each roung\n",
        "  E = 5\n",
        "  # batch size\n",
        "  batch_size = 10\n",
        "  # learning Rate\n",
        "  lr = 0.05\n",
        "  # proximal term constant\n",
        "  mu = 0.01\n",
        "  # percentage of clients to have fewer than E epochs\n",
        "  percentage = 50\n",
        "\n",
        "  # target_test_accuracy\n",
        "  target_test_accuracy=99.0\n",
        "  # data partition dictionary\n",
        "  iid_dict = iid_partition(mnist_data_train, 100)\n",
        "  # load model\n",
        "  mnist_cnn = MNIST_CNN()\n",
        "\n",
        "  if torch.cuda.is_available():\n",
        "    mnist_cnn.cuda()\n",
        "\n",
        "  mnist_cnn_iid_trained, train_loss, test_accuracy, test_loss = training(mnist_cnn, rounds, batch_size, lr, mnist_data_train, mnist_data_test, iid_dict, C, K, E, mu, percentage, \"MNIST CNN on IID Dataset\", \"orange\", target_test_accuracy)\n",
        "\n",
        "  train_loss_multiple_runs[exp_num] = train_loss\n",
        "  test_accuracy_multiple_runs[exp_num] = test_accuracy\n",
        "  test_loss_multiple_runs[exp_num] = test_loss"
      ],
      "execution_count": 48,
      "outputs": [
        {
          "output_type": "stream",
          "text": [
            "Experiment Run Number:  0\n",
            "System heterogeneity set to 50% stragglers.\n",
            "\n",
            "Picking 50 random clients per round.\n",
            "\n",
            "Round: 1... \tAverage Train Loss: 0.761... \tTest Loss: 0.45275948252677917... \tTest Accuracy: 93.79746835443038\n",
            "Round: 2... \tAverage Train Loss: 0.237... \tTest Loss: 0.10569021886140108... \tTest Accuracy: 96.83544303797468\n",
            "Round: 3... \tAverage Train Loss: 0.147... \tTest Loss: 0.08198669625297189... \tTest Accuracy: 96.9620253164557\n",
            "Round: 4... \tAverage Train Loss: 0.114... \tTest Loss: 0.06895263978978619... \tTest Accuracy: 97.72151898734177\n",
            "Round: 5... \tAverage Train Loss: 0.095... \tTest Loss: 0.06075377567512914... \tTest Accuracy: 97.84810126582279\n",
            "Round: 6... \tAverage Train Loss: 0.087... \tTest Loss: 0.053296928123338146... \tTest Accuracy: 98.10126582278481\n",
            "Round: 7... \tAverage Train Loss: 0.078... \tTest Loss: 0.048453418550046624... \tTest Accuracy: 98.73417721518987\n",
            "Round: 8... \tAverage Train Loss: 0.067... \tTest Loss: 0.044646549989737105... \tTest Accuracy: 98.73417721518987\n",
            "Round: 9... \tAverage Train Loss: 0.074... \tTest Loss: 0.041045588118804155... \tTest Accuracy: 98.9873417721519\n",
            "Round: 10... \tAverage Train Loss: 0.06... \tTest Loss: 0.03938220647140406... \tTest Accuracy: 99.11392405063292\n",
            "Round: 11... \tAverage Train Loss: 0.06... \tTest Loss: 0.03750496276722988... \tTest Accuracy: 99.24050632911393\n",
            "Round: 12... \tAverage Train Loss: 0.056... \tTest Loss: 0.03566612394011172... \tTest Accuracy: 99.11392405063292\n",
            "Round: 13... \tAverage Train Loss: 0.053... \tTest Loss: 0.0351157316332974... \tTest Accuracy: 99.24050632911393\n",
            "Round: 14... \tAverage Train Loss: 0.05... \tTest Loss: 0.03472506188043044... \tTest Accuracy: 99.24050632911393\n",
            "Round: 15... \tAverage Train Loss: 0.052... \tTest Loss: 0.03169868581322953... \tTest Accuracy: 99.24050632911393\n",
            "Round: 16... \tAverage Train Loss: 0.046... \tTest Loss: 0.03161985132911941... \tTest Accuracy: 99.24050632911393\n",
            "Round: 17... \tAverage Train Loss: 0.049... \tTest Loss: 0.030612747782911173... \tTest Accuracy: 99.24050632911393\n",
            "Round: 18... \tAverage Train Loss: 0.041... \tTest Loss: 0.03102423417007667... \tTest Accuracy: 99.24050632911393\n",
            "Round: 19... \tAverage Train Loss: 0.043... \tTest Loss: 0.029420769069346715... \tTest Accuracy: 99.24050632911393\n",
            "Round: 20... \tAverage Train Loss: 0.044... \tTest Loss: 0.0285168749432225... \tTest Accuracy: 99.24050632911393\n",
            "Round: 21... \tAverage Train Loss: 0.036... \tTest Loss: 0.028598200965241995... \tTest Accuracy: 99.24050632911393\n",
            "Round: 22... \tAverage Train Loss: 0.04... \tTest Loss: 0.027852012729950366... \tTest Accuracy: 99.24050632911393\n",
            "Round: 23... \tAverage Train Loss: 0.037... \tTest Loss: 0.028209525800132543... \tTest Accuracy: 99.36708860759494\n",
            "Round: 24... \tAverage Train Loss: 0.04... \tTest Loss: 0.02674267202699557... \tTest Accuracy: 99.36708860759494\n",
            "Round: 25... \tAverage Train Loss: 0.035... \tTest Loss: 0.02688584640270856... \tTest Accuracy: 99.36708860759494\n",
            "Round: 26... \tAverage Train Loss: 0.035... \tTest Loss: 0.02586177835346898... \tTest Accuracy: 99.36708860759494\n",
            "Round: 27... \tAverage Train Loss: 0.037... \tTest Loss: 0.026075803891487885... \tTest Accuracy: 99.36708860759494\n",
            "Round: 28... \tAverage Train Loss: 0.034... \tTest Loss: 0.025582158400915794... \tTest Accuracy: 99.36708860759494\n",
            "Round: 29... \tAverage Train Loss: 0.032... \tTest Loss: 0.025621917245109215... \tTest Accuracy: 99.36708860759494\n",
            "Round: 30... \tAverage Train Loss: 0.033... \tTest Loss: 0.024913198311286397... \tTest Accuracy: 99.36708860759494\n",
            "Round: 31... \tAverage Train Loss: 0.033... \tTest Loss: 0.02451670071503904... \tTest Accuracy: 99.36708860759494\n",
            "Round: 32... \tAverage Train Loss: 0.034... \tTest Loss: 0.02435107273593312... \tTest Accuracy: 99.36708860759494\n",
            "Round: 33... \tAverage Train Loss: 0.03... \tTest Loss: 0.024329011100788195... \tTest Accuracy: 99.36708860759494\n",
            "Round: 34... \tAverage Train Loss: 0.031... \tTest Loss: 0.024236780658137287... \tTest Accuracy: 99.36708860759494\n",
            "Round: 35... \tAverage Train Loss: 0.032... \tTest Loss: 0.024410913862171583... \tTest Accuracy: 99.36708860759494\n",
            "Round: 36... \tAverage Train Loss: 0.031... \tTest Loss: 0.02398874916662753... \tTest Accuracy: 99.36708860759494\n",
            "Round: 37... \tAverage Train Loss: 0.027... \tTest Loss: 0.023716334821221242... \tTest Accuracy: 99.49367088607595\n",
            "Round: 38... \tAverage Train Loss: 0.027... \tTest Loss: 0.0238447135010676... \tTest Accuracy: 99.36708860759494\n",
            "Round: 39... \tAverage Train Loss: 0.027... \tTest Loss: 0.023270743688788207... \tTest Accuracy: 99.49367088607595\n",
            "Round: 40... \tAverage Train Loss: 0.027... \tTest Loss: 0.023567295047455993... \tTest Accuracy: 99.36708860759494\n",
            "Round: 41... \tAverage Train Loss: 0.028... \tTest Loss: 0.023060426576604367... \tTest Accuracy: 99.49367088607595\n",
            "Round: 42... \tAverage Train Loss: 0.026... \tTest Loss: 0.022838563638007327... \tTest Accuracy: 99.49367088607595\n",
            "Round: 43... \tAverage Train Loss: 0.024... \tTest Loss: 0.02307369479216868... \tTest Accuracy: 99.49367088607595\n",
            "Round: 44... \tAverage Train Loss: 0.022... \tTest Loss: 0.02246879423634091... \tTest Accuracy: 99.49367088607595\n",
            "Round: 45... \tAverage Train Loss: 0.027... \tTest Loss: 0.02271518770905095... \tTest Accuracy: 99.49367088607595\n",
            "Round: 46... \tAverage Train Loss: 0.025... \tTest Loss: 0.022871122532755545... \tTest Accuracy: 99.62025316455696\n",
            "Round: 47... \tAverage Train Loss: 0.029... \tTest Loss: 0.022361227207162302... \tTest Accuracy: 99.62025316455696\n",
            "Round: 48... \tAverage Train Loss: 0.024... \tTest Loss: 0.02174334893952473... \tTest Accuracy: 99.62025316455696\n",
            "Round: 49... \tAverage Train Loss: 0.023... \tTest Loss: 0.021911292968402267... \tTest Accuracy: 99.62025316455696\n",
            "Round: 50... \tAverage Train Loss: 0.023... \tTest Loss: 0.02206335125920523... \tTest Accuracy: 99.62025316455696\n"
          ],
          "name": "stdout"
        },
        {
          "output_type": "display_data",
          "data": {
            "image/png": "[encoded data removed]",
            "text/plain": [
              "<Figure size 432x288 with 1 Axes>"
            ]
          },
          "metadata": {
            "tags": [],
            "needs_background": "light"
          }
        },
        {
          "output_type": "display_data",
          "data": {
            "image/png": "[encoded data removed]",
            "text/plain": [
              "<Figure size 432x288 with 1 Axes>"
            ]
          },
          "metadata": {
            "tags": [],
            "needs_background": "light"
          }
        },
        {
          "output_type": "display_data",
          "data": {
            "image/png": "[encoded data removed]",
            "text/plain": [
              "<Figure size 432x288 with 1 Axes>"
            ]
          },
          "metadata": {
            "tags": [],
            "needs_background": "light"
          }
        },
        {
          "output_type": "stream",
          "text": [
            "Training Done!\n",
            "Total time taken to Train: 2728.427850484848\n",
            "\n",
            "\n"
          ],
          "name": "stdout"
        }
      ]
    },
    {
      "cell_type": "markdown",
      "metadata": {
        "id": "wNwC82przF6G"
      },
      "source": [
        "### Test"
      ]
    },
    {
      "cell_type": "code",
      "metadata": {
        "id": "qB97BFs9we9w",
        "colab": {
          "base_uri": "https://localhost:8080/"
        },
        "outputId": "858ad22f-8d7e-4e09-e459-f2ac21e0643e"
      },
      "source": [
        "criterion = nn.CrossEntropyLoss()\n",
        "acc, loss = testing(mnist_cnn_iid_trained, mnist_data_test, 128, criterion, num_classes, classes_test, True)"
      ],
      "execution_count": 49,
      "outputs": [
        {
          "output_type": "stream",
          "text": [
            "Test Loss: 0.022063\n",
            "\n",
            "Test Accuracy of     0: 100% (76/76)\n",
            "Test Accuracy of     1: 100% (90/90)\n",
            "Test Accuracy of     2: 100% (91/91)\n",
            "Test Accuracy of     3: 97% (71/73)\n",
            "Test Accuracy of     4: 100% (89/89)\n",
            "Test Accuracy of     5: 98% (67/68)\n",
            "Test Accuracy of     6: 100% (62/62)\n",
            "Test Accuracy of     7: 100% (81/81)\n",
            "Test Accuracy of     8: 100% (77/77)\n",
            "Test Accuracy of     9: 100% (83/83)\n",
            "\n",
            "Final Test  Accuracy: 99.620 (787.0/790.0)\n"
          ],
          "name": "stdout"
        }
      ]
    },
    {
      "cell_type": "code",
      "metadata": {
        "id": "gdQZEZmHHeqt"
      },
      "source": [
        "hyperparams = {'rounds': rounds,\n",
        "               'C': C,\n",
        "               'K': K,\n",
        "               'E': E,\n",
        "               'batch_size': batch_size,\n",
        "               'lr': lr,\n",
        "               'mu': mu,\n",
        "               'percentage': percentage,\n",
        "               'target_test_accuracy': target_test_accuracy,\n",
        "               }\n",
        "\n",
        "log_dict['MNIST CNN on IID'] = {'train_loss': train_loss_multiple_runs, \n",
        "                                'test_loss': test_loss_multiple_runs, \n",
        "                                'test_accuracy': test_accuracy_multiple_runs,\n",
        "                                'hyperparams': hyperparams,\n",
        "                                }"
      ],
      "execution_count": 50,
      "outputs": []
    },
    {
      "cell_type": "markdown",
      "metadata": {
        "id": "uF8MdSIUYcnl"
      },
      "source": [
        "## MNIST CNN on Non IID"
      ]
    },
    {
      "cell_type": "markdown",
      "metadata": {
        "id": "a6wXX7JW11bx"
      },
      "source": [
        "### Train\n"
      ]
    },
    {
      "cell_type": "code",
      "metadata": {
        "id": "fCD3kBCKYfBK",
        "colab": {
          "base_uri": "https://localhost:8080/",
          "height": 1000
        },
        "outputId": "d230bc23-c4d2-4db9-b992-d627c3591441"
      },
      "source": [
        "train_loss_multiple_runs = [None] * NUM_REPEAT\n",
        "test_accuracy_multiple_runs = [None] * NUM_REPEAT\n",
        "test_loss_multiple_runs = [None] * NUM_REPEAT\n",
        "\n",
        "for exp_num in range(NUM_REPEAT):\n",
        "  print(\"Experiment Run Number: \", exp_num)\n",
        "\n",
        "  # number of training rounds\n",
        "  rounds = 50\n",
        "  # client fraction\n",
        "  C = 0.5\n",
        "  # number of clients\n",
        "  K = 100\n",
        "  # number of training passes on local dataset for each roung\n",
        "  E = 5\n",
        "  # batch size\n",
        "  batch_size = 10\n",
        "  # learning Rate\n",
        "  lr=0.05\n",
        "  # proximal term constant\n",
        "  mu = 0.01\n",
        "  # percentage of clients to have fewer than E epochs\n",
        "  percentage = 50\n",
        "  # target_test_accuracy\n",
        "  target_test_accuracy=99.0\n",
        "\n",
        "  # dict containing different type of data partition\n",
        "  data_dict = non_iid_partition(mnist_data_train, 100, 200, 300, 2)\n",
        "  # load model\n",
        "  mnist_cnn = MNIST_CNN()\n",
        "\n",
        "  if torch.cuda.is_available():\n",
        "    mnist_cnn.cuda()\n",
        "\n",
        "  mnist_cnn_non_iid_trained, train_loss, test_accuracy, test_loss = training(mnist_cnn, rounds, batch_size, lr, mnist_data_train, mnist_data_test, data_dict, C, K, E,mu, percentage, \"MNIST CNN on Non-IID Dataset\", \"green\", target_test_accuracy)\n",
        "\n",
        "  train_loss_multiple_runs[exp_num] = train_loss\n",
        "  test_accuracy_multiple_runs[exp_num] = test_accuracy\n",
        "  test_loss_multiple_runs[exp_num] = test_loss"
      ],
      "execution_count": 51,
      "outputs": [
        {
          "output_type": "stream",
          "text": [
            "Experiment Run Number:  0\n",
            "System heterogeneity set to 50% stragglers.\n",
            "\n",
            "Picking 50 random clients per round.\n",
            "\n",
            "Round: 1... \tAverage Train Loss: 0.26... \tTest Loss: 2.293298568725586... \tTest Accuracy: 12.91139240506329\n",
            "Round: 2... \tAverage Train Loss: 0.192... \tTest Loss: 1.9979575786590575... \tTest Accuracy: 68.48101265822785\n",
            "Round: 3... \tAverage Train Loss: 0.103... \tTest Loss: 1.2590731269836426... \tTest Accuracy: 77.34177215189874\n",
            "Round: 4... \tAverage Train Loss: 0.07... \tTest Loss: 0.7254621858596801... \tTest Accuracy: 79.87341772151899\n",
            "Round: 5... \tAverage Train Loss: 0.055... \tTest Loss: 0.5105707557678223... \tTest Accuracy: 87.34177215189874\n",
            "Round: 6... \tAverage Train Loss: 0.056... \tTest Loss: 0.38939649987220765... \tTest Accuracy: 89.74683544303798\n",
            "Round: 7... \tAverage Train Loss: 0.048... \tTest Loss: 0.3038130709171295... \tTest Accuracy: 93.54430379746836\n",
            "Round: 8... \tAverage Train Loss: 0.037... \tTest Loss: 0.24838102564811707... \tTest Accuracy: 93.16455696202532\n",
            "Round: 9... \tAverage Train Loss: 0.046... \tTest Loss: 0.24282027683258056... \tTest Accuracy: 93.29113924050633\n",
            "Round: 10... \tAverage Train Loss: 0.042... \tTest Loss: 0.19407267642021178... \tTest Accuracy: 96.07594936708861\n",
            "Round: 11... \tAverage Train Loss: 0.042... \tTest Loss: 0.16845223413705826... \tTest Accuracy: 96.58227848101266\n",
            "Round: 12... \tAverage Train Loss: 0.037... \tTest Loss: 0.15379144250154494... \tTest Accuracy: 96.45569620253164\n",
            "Round: 13... \tAverage Train Loss: 0.03... \tTest Loss: 0.14828539685606956... \tTest Accuracy: 96.32911392405063\n",
            "Round: 14... \tAverage Train Loss: 0.038... \tTest Loss: 0.13521866327226162... \tTest Accuracy: 97.0886075949367\n",
            "Round: 15... \tAverage Train Loss: 0.039... \tTest Loss: 0.13400132676959037... \tTest Accuracy: 96.70886075949367\n",
            "Round: 16... \tAverage Train Loss: 0.035... \tTest Loss: 0.13660691826939583... \tTest Accuracy: 96.32911392405063\n",
            "Round: 17... \tAverage Train Loss: 0.031... \tTest Loss: 0.11360752230882645... \tTest Accuracy: 96.83544303797468\n",
            "Round: 18... \tAverage Train Loss: 0.031... \tTest Loss: 0.11307680051028729... \tTest Accuracy: 96.9620253164557\n",
            "Round: 19... \tAverage Train Loss: 0.029... \tTest Loss: 0.09932765581607819... \tTest Accuracy: 97.34177215189874\n",
            "Round: 20... \tAverage Train Loss: 0.033... \tTest Loss: 0.10877173946201801... \tTest Accuracy: 96.58227848101266\n",
            "Round: 21... \tAverage Train Loss: 0.028... \tTest Loss: 0.09339759145230055... \tTest Accuracy: 97.72151898734177\n",
            "Round: 22... \tAverage Train Loss: 0.032... \tTest Loss: 0.0912778474509716... \tTest Accuracy: 97.59493670886076\n",
            "Round: 23... \tAverage Train Loss: 0.022... \tTest Loss: 0.08570778117477894... \tTest Accuracy: 97.34177215189874\n",
            "Round: 24... \tAverage Train Loss: 0.034... \tTest Loss: 0.08531074523031712... \tTest Accuracy: 97.72151898734177\n",
            "Round: 25... \tAverage Train Loss: 0.024... \tTest Loss: 0.07896766798198224... \tTest Accuracy: 97.9746835443038\n",
            "Round: 26... \tAverage Train Loss: 0.03... \tTest Loss: 0.07893666458576917... \tTest Accuracy: 98.10126582278481\n",
            "Round: 27... \tAverage Train Loss: 0.025... \tTest Loss: 0.07280774344801903... \tTest Accuracy: 97.9746835443038\n",
            "Round: 28... \tAverage Train Loss: 0.024... \tTest Loss: 0.06874088868945837... \tTest Accuracy: 98.22784810126582\n",
            "Round: 29... \tAverage Train Loss: 0.023... \tTest Loss: 0.06596733350977302... \tTest Accuracy: 98.35443037974683\n",
            "Round: 30... \tAverage Train Loss: 0.023... \tTest Loss: 0.06520128507763147... \tTest Accuracy: 98.60759493670886\n",
            "Round: 31... \tAverage Train Loss: 0.025... \tTest Loss: 0.06434659496992827... \tTest Accuracy: 98.10126582278481\n",
            "Round: 32... \tAverage Train Loss: 0.026... \tTest Loss: 0.06351736204773188... \tTest Accuracy: 98.10126582278481\n",
            "Round: 33... \tAverage Train Loss: 0.025... \tTest Loss: 0.06346581178456545... \tTest Accuracy: 98.48101265822785\n",
            "Round: 34... \tAverage Train Loss: 0.023... \tTest Loss: 0.061431738662719726... \tTest Accuracy: 98.22784810126582\n",
            "Round: 35... \tAverage Train Loss: 0.026... \tTest Loss: 0.05917192226648331... \tTest Accuracy: 98.73417721518987\n",
            "Round: 36... \tAverage Train Loss: 0.026... \tTest Loss: 0.062465494419634345... \tTest Accuracy: 98.48101265822785\n",
            "Round: 37... \tAverage Train Loss: 0.026... \tTest Loss: 0.05852467040196061... \tTest Accuracy: 98.48101265822785\n",
            "Round: 38... \tAverage Train Loss: 0.023... \tTest Loss: 0.05548714199177921... \tTest Accuracy: 98.60759493670886\n",
            "Round: 39... \tAverage Train Loss: 0.021... \tTest Loss: 0.05514781784601509... \tTest Accuracy: 98.9873417721519\n",
            "Round: 40... \tAverage Train Loss: 0.022... \tTest Loss: 0.05523271424546838... \tTest Accuracy: 98.48101265822785\n",
            "Round: 41... \tAverage Train Loss: 0.02... \tTest Loss: 0.05355761194750667... \tTest Accuracy: 98.73417721518987\n",
            "Round: 42... \tAverage Train Loss: 0.02... \tTest Loss: 0.0511172268345952... \tTest Accuracy: 98.35443037974683\n",
            "Round: 43... \tAverage Train Loss: 0.02... \tTest Loss: 0.04880906828306615... \tTest Accuracy: 98.86075949367088\n",
            "Round: 44... \tAverage Train Loss: 0.019... \tTest Loss: 0.04862093359231949... \tTest Accuracy: 98.86075949367088\n",
            "Round: 45... \tAverage Train Loss: 0.022... \tTest Loss: 0.046962376940995455... \tTest Accuracy: 98.86075949367088\n",
            "Round: 46... \tAverage Train Loss: 0.02... \tTest Loss: 0.04708605963103473... \tTest Accuracy: 98.60759493670886\n",
            "Round: 47... \tAverage Train Loss: 0.019... \tTest Loss: 0.048466779101081194... \tTest Accuracy: 98.73417721518987\n",
            "Round: 48... \tAverage Train Loss: 0.021... \tTest Loss: 0.04763667242713272... \tTest Accuracy: 98.9873417721519\n",
            "Round: 49... \tAverage Train Loss: 0.019... \tTest Loss: 0.045608493541553614... \tTest Accuracy: 99.24050632911393\n",
            "Round: 50... \tAverage Train Loss: 0.018... \tTest Loss: 0.043855332066863775... \tTest Accuracy: 99.11392405063292\n"
          ],
          "name": "stdout"
        },
        {
          "output_type": "display_data",
          "data": {
            "image/png": "[encoded data removed]",
            "text/plain": [
              "<Figure size 432x288 with 1 Axes>"
            ]
          },
          "metadata": {
            "tags": [],
            "needs_background": "light"
          }
        },
        {
          "output_type": "display_data",
          "data": {
            "image/png": "[encoded data removed]",
            "text/plain": [
              "<Figure size 432x288 with 1 Axes>"
            ]
          },
          "metadata": {
            "tags": [],
            "needs_background": "light"
          }
        },
        {
          "output_type": "display_data",
          "data": {
            "image/png": "[encoded data removed]",
            "text/plain": [
              "<Figure size 432x288 with 1 Axes>"
            ]
          },
          "metadata": {
            "tags": [],
            "needs_background": "light"
          }
        },
        {
          "output_type": "stream",
          "text": [
            "Training Done!\n",
            "Total time taken to Train: 2732.620053768158\n",
            "\n",
            "\n"
          ],
          "name": "stdout"
        }
      ]
    },
    {
      "cell_type": "markdown",
      "metadata": {
        "id": "4C68J-Kk14dB"
      },
      "source": [
        "### Test"
      ]
    },
    {
      "cell_type": "code",
      "metadata": {
        "id": "_yQ9GiAZ15jE",
        "colab": {
          "base_uri": "https://localhost:8080/"
        },
        "outputId": "3a1a335d-36d3-4896-c159-d89dc5cd78aa"
      },
      "source": [
        "criterion = nn.CrossEntropyLoss()\n",
        "acc, loss = testing(mnist_cnn_non_iid_trained, mnist_data_test, 128, criterion, num_classes, classes_test, True)"
      ],
      "execution_count": 52,
      "outputs": [
        {
          "output_type": "stream",
          "text": [
            "Test Loss: 0.043855\n",
            "\n",
            "Test Accuracy of     0: 98% (75/76)\n",
            "Test Accuracy of     1: 98% (89/90)\n",
            "Test Accuracy of     2: 98% (90/91)\n",
            "Test Accuracy of     3: 100% (73/73)\n",
            "Test Accuracy of     4: 100% (89/89)\n",
            "Test Accuracy of     5: 98% (67/68)\n",
            "Test Accuracy of     6: 100% (62/62)\n",
            "Test Accuracy of     7: 98% (80/81)\n",
            "Test Accuracy of     8: 100% (77/77)\n",
            "Test Accuracy of     9: 97% (81/83)\n",
            "\n",
            "Final Test  Accuracy: 99.114 (783.0/790.0)\n"
          ],
          "name": "stdout"
        }
      ]
    },
    {
      "cell_type": "code",
      "metadata": {
        "id": "dxMcxgLhLvX-"
      },
      "source": [
        "hyperparams = {'rounds': rounds,\n",
        "               'C': C,\n",
        "               'K': K,\n",
        "               'E': E,\n",
        "               'batch_size': batch_size,\n",
        "               'lr': lr,\n",
        "               'mu': mu,\n",
        "               'percentage': percentage,\n",
        "               'target_test_accuracy': target_test_accuracy,\n",
        "               }\n",
        "\n",
        "log_dict['MNIST CNN on Non IID'] = {'train_loss': train_loss_multiple_runs, \n",
        "                                'test_loss': test_loss_multiple_runs, \n",
        "                                'test_accuracy': test_accuracy_multiple_runs,\n",
        "                                'hyperparams': hyperparams,\n",
        "                                }"
      ],
      "execution_count": 53,
      "outputs": []
    },
    {
      "cell_type": "markdown",
      "metadata": {
        "id": "z_jifdzniuhm"
      },
      "source": [
        "## MNIST MLP on IID"
      ]
    },
    {
      "cell_type": "markdown",
      "metadata": {
        "id": "uh-te0Od2XGO"
      },
      "source": [
        "### Train"
      ]
    },
    {
      "cell_type": "code",
      "metadata": {
        "id": "UmpWmKOQixVV",
        "colab": {
          "base_uri": "https://localhost:8080/",
          "height": 1000
        },
        "outputId": "122c133d-4a5a-4a3a-f8d1-e71795bb69dd"
      },
      "source": [
        "train_loss_multiple_runs = [None] * NUM_REPEAT\n",
        "test_accuracy_multiple_runs = [None] * NUM_REPEAT\n",
        "test_loss_multiple_runs = [None] * NUM_REPEAT\n",
        "\n",
        "for exp_num in range(NUM_REPEAT):\n",
        "  print(\"Experiment Run Number: \", exp_num)\n",
        "\n",
        "  # number of training rounds\n",
        "  rounds = 50\n",
        "  # client fraction\n",
        "  C = 0.5\n",
        "  # number of clients\n",
        "  K = 100\n",
        "  # number of training passes on local dataset for each round\n",
        "  E = 5\n",
        "  # batch size\n",
        "  batch_size = 10\n",
        "  # learning Rate\n",
        "  lr = 0.05\n",
        "  # proximal term constant\n",
        "  mu = 0.01\n",
        "  # percentage of clients to have fewer than E epochs\n",
        "  percentage = 50\n",
        "  # target_test_accuracy\n",
        "  target_test_accuracy=94.0\n",
        "  # dict containing different type of data partition\n",
        "  data_dict = iid_partition(mnist_data_train, 100)\n",
        "  # load model\n",
        "  mnist_mlp = MNIST_2NN()\n",
        "\n",
        "  if torch.cuda.is_available():\n",
        "    mnist_mlp.cuda()\n",
        "\n",
        "  mnist_mlp_iid_trained, train_loss, test_accuracy, test_loss = training(mnist_mlp, rounds, batch_size, lr, mnist_data_train, mnist_data_test, data_dict, C, K, E, mu, percentage, \"MNIST MLP on IID Dataset\", \"orange\", target_test_accuracy)\n",
        "  \n",
        "  train_loss_multiple_runs[exp_num] = train_loss\n",
        "  test_accuracy_multiple_runs[exp_num] = test_accuracy\n",
        "  test_loss_multiple_runs[exp_num] = test_loss"
      ],
      "execution_count": 54,
      "outputs": [
        {
          "output_type": "stream",
          "text": [
            "Experiment Run Number:  0\n",
            "System heterogeneity set to 50% stragglers.\n",
            "\n",
            "Picking 50 random clients per round.\n",
            "\n",
            "Round: 1... \tAverage Train Loss: 0.961... \tTest Loss: 0.3236479414701462... \tTest Accuracy: 91.51898734177215\n",
            "Round: 2... \tAverage Train Loss: 0.282... \tTest Loss: 0.2518650623261929... \tTest Accuracy: 93.67088607594937\n",
            "Round: 3... \tAverage Train Loss: 0.216... \tTest Loss: 0.216462937040627... \tTest Accuracy: 94.68354430379746\n",
            "Round: 4... \tAverage Train Loss: 0.164... \tTest Loss: 0.19238894037604332... \tTest Accuracy: 94.81012658227849\n",
            "Round: 5... \tAverage Train Loss: 0.154... \tTest Loss: 0.17550313051715494... \tTest Accuracy: 95.0632911392405\n",
            "Round: 6... \tAverage Train Loss: 0.143... \tTest Loss: 0.16037052291855217... \tTest Accuracy: 95.44303797468355\n",
            "Round: 7... \tAverage Train Loss: 0.12... \tTest Loss: 0.1507078780569136... \tTest Accuracy: 95.69620253164557\n",
            "Round: 8... \tAverage Train Loss: 0.126... \tTest Loss: 0.14205180056653915... \tTest Accuracy: 96.07594936708861\n",
            "Round: 9... \tAverage Train Loss: 0.111... \tTest Loss: 0.13521311206668615... \tTest Accuracy: 96.07594936708861\n",
            "Round: 10... \tAverage Train Loss: 0.095... \tTest Loss: 0.1306249647486955... \tTest Accuracy: 96.20253164556962\n",
            "Round: 11... \tAverage Train Loss: 0.103... \tTest Loss: 0.125014948643744... \tTest Accuracy: 96.07594936708861\n",
            "Round: 12... \tAverage Train Loss: 0.091... \tTest Loss: 0.12064832457304... \tTest Accuracy: 96.07594936708861\n",
            "Round: 13... \tAverage Train Loss: 0.086... \tTest Loss: 0.11666918182224036... \tTest Accuracy: 96.20253164556962\n",
            "Round: 14... \tAverage Train Loss: 0.088... \tTest Loss: 0.11253211028147489... \tTest Accuracy: 96.20253164556962\n",
            "Round: 15... \tAverage Train Loss: 0.082... \tTest Loss: 0.10936436625197529... \tTest Accuracy: 96.32911392405063\n",
            "Round: 16... \tAverage Train Loss: 0.08... \tTest Loss: 0.10693067125547677... \tTest Accuracy: 96.20253164556962\n",
            "Round: 17... \tAverage Train Loss: 0.072... \tTest Loss: 0.1045453614398837... \tTest Accuracy: 96.32911392405063\n",
            "Round: 18... \tAverage Train Loss: 0.065... \tTest Loss: 0.10197427815943956... \tTest Accuracy: 96.32911392405063\n",
            "Round: 19... \tAverage Train Loss: 0.067... \tTest Loss: 0.099960020038113... \tTest Accuracy: 96.32911392405063\n",
            "Round: 20... \tAverage Train Loss: 0.064... \tTest Loss: 0.09794391744807363... \tTest Accuracy: 96.45569620253164\n",
            "Round: 21... \tAverage Train Loss: 0.066... \tTest Loss: 0.09559191774576903... \tTest Accuracy: 96.45569620253164\n",
            "Round: 22... \tAverage Train Loss: 0.073... \tTest Loss: 0.0935684623496607... \tTest Accuracy: 96.83544303797468\n",
            "Round: 23... \tAverage Train Loss: 0.051... \tTest Loss: 0.09319510230794549... \tTest Accuracy: 96.58227848101266\n",
            "Round: 24... \tAverage Train Loss: 0.059... \tTest Loss: 0.09250030866581947... \tTest Accuracy: 96.83544303797468\n",
            "Round: 25... \tAverage Train Loss: 0.061... \tTest Loss: 0.09090410557482391... \tTest Accuracy: 96.83544303797468\n",
            "Round: 26... \tAverage Train Loss: 0.064... \tTest Loss: 0.08935157974343746... \tTest Accuracy: 96.83544303797468\n",
            "Round: 27... \tAverage Train Loss: 0.058... \tTest Loss: 0.08871028044717387... \tTest Accuracy: 96.70886075949367\n",
            "Round: 28... \tAverage Train Loss: 0.049... \tTest Loss: 0.08768080652607604... \tTest Accuracy: 96.70886075949367\n",
            "Round: 29... \tAverage Train Loss: 0.052... \tTest Loss: 0.08718969032168389... \tTest Accuracy: 96.9620253164557\n",
            "Round: 30... \tAverage Train Loss: 0.053... \tTest Loss: 0.08619496582737192... \tTest Accuracy: 96.83544303797468\n",
            "Round: 31... \tAverage Train Loss: 0.045... \tTest Loss: 0.08585528727686033... \tTest Accuracy: 97.0886075949367\n",
            "Round: 32... \tAverage Train Loss: 0.052... \tTest Loss: 0.08435193181140348... \tTest Accuracy: 96.83544303797468\n",
            "Round: 33... \tAverage Train Loss: 0.049... \tTest Loss: 0.08336979629518464... \tTest Accuracy: 96.9620253164557\n",
            "Round: 34... \tAverage Train Loss: 0.047... \tTest Loss: 0.0827356642127037... \tTest Accuracy: 96.83544303797468\n",
            "Round: 35... \tAverage Train Loss: 0.044... \tTest Loss: 0.08340612297495827... \tTest Accuracy: 96.83544303797468\n",
            "Round: 36... \tAverage Train Loss: 0.046... \tTest Loss: 0.08223191791153513... \tTest Accuracy: 97.0886075949367\n",
            "Round: 37... \tAverage Train Loss: 0.044... \tTest Loss: 0.08137477631219663... \tTest Accuracy: 96.9620253164557\n",
            "Round: 38... \tAverage Train Loss: 0.042... \tTest Loss: 0.08131144457003102... \tTest Accuracy: 97.21518987341773\n",
            "Round: 39... \tAverage Train Loss: 0.05... \tTest Loss: 0.08055148138287477... \tTest Accuracy: 97.21518987341773\n",
            "Round: 40... \tAverage Train Loss: 0.04... \tTest Loss: 0.07886894156257622... \tTest Accuracy: 97.34177215189874\n",
            "Round: 41... \tAverage Train Loss: 0.042... \tTest Loss: 0.07882607015129178... \tTest Accuracy: 97.21518987341773\n",
            "Round: 42... \tAverage Train Loss: 0.04... \tTest Loss: 0.07905406972360797... \tTest Accuracy: 97.59493670886076\n",
            "Round: 43... \tAverage Train Loss: 0.038... \tTest Loss: 0.07830914426101372... \tTest Accuracy: 97.34177215189874\n",
            "Round: 44... \tAverage Train Loss: 0.038... \tTest Loss: 0.07775244428538718... \tTest Accuracy: 97.59493670886076\n",
            "Round: 45... \tAverage Train Loss: 0.037... \tTest Loss: 0.07767848352659494... \tTest Accuracy: 97.46835443037975\n",
            "Round: 46... \tAverage Train Loss: 0.038... \tTest Loss: 0.07759729708302766... \tTest Accuracy: 97.21518987341773\n",
            "Round: 47... \tAverage Train Loss: 0.039... \tTest Loss: 0.07694336570221931... \tTest Accuracy: 97.21518987341773\n",
            "Round: 48... \tAverage Train Loss: 0.037... \tTest Loss: 0.0766400557161076... \tTest Accuracy: 97.59493670886076\n",
            "Round: 49... \tAverage Train Loss: 0.037... \tTest Loss: 0.07691852962789125... \tTest Accuracy: 97.59493670886076\n",
            "Round: 50... \tAverage Train Loss: 0.036... \tTest Loss: 0.0761037168121431... \tTest Accuracy: 97.59493670886076\n"
          ],
          "name": "stdout"
        },
        {
          "output_type": "display_data",
          "data": {
            "image/png": "[encoded data removed]",
            "text/plain": [
              "<Figure size 432x288 with 1 Axes>"
            ]
          },
          "metadata": {
            "tags": [],
            "needs_background": "light"
          }
        },
        {
          "output_type": "display_data",
          "data": {
            "image/png": "[encoded data removed]",
            "text/plain": [
              "<Figure size 432x288 with 1 Axes>"
            ]
          },
          "metadata": {
            "tags": [],
            "needs_background": "light"
          }
        },
        {
          "output_type": "display_data",
          "data": {
            "image/png": "[encoded data removed]",
            "text/plain": [
              "<Figure size 432x288 with 1 Axes>"
            ]
          },
          "metadata": {
            "tags": [],
            "needs_background": "light"
          }
        },
        {
          "output_type": "stream",
          "text": [
            "Training Done!\n",
            "Total time taken to Train: 1951.3243701457977\n",
            "\n",
            "\n"
          ],
          "name": "stdout"
        }
      ]
    },
    {
      "cell_type": "markdown",
      "metadata": {
        "id": "aTBsL3-72PPd"
      },
      "source": [
        "### Test"
      ]
    },
    {
      "cell_type": "code",
      "metadata": {
        "id": "a9G4j5L62OrS",
        "colab": {
          "base_uri": "https://localhost:8080/"
        },
        "outputId": "bedf5124-31c8-4c8e-88ee-a6bb6ef3f34d"
      },
      "source": [
        "criterion = nn.CrossEntropyLoss()\n",
        "acc, loss = testing(mnist_mlp_iid_trained, mnist_data_test, 128, criterion, num_classes, classes_test, True)"
      ],
      "execution_count": 55,
      "outputs": [
        {
          "output_type": "stream",
          "text": [
            "Test Loss: 0.076104\n",
            "\n",
            "Test Accuracy of     0: 98% (75/76)\n",
            "Test Accuracy of     1: 97% (88/90)\n",
            "Test Accuracy of     2: 97% (89/91)\n",
            "Test Accuracy of     3: 98% (72/73)\n",
            "Test Accuracy of     4: 96% (86/89)\n",
            "Test Accuracy of     5: 94% (64/68)\n",
            "Test Accuracy of     6: 96% (60/62)\n",
            "Test Accuracy of     7: 97% (79/81)\n",
            "Test Accuracy of     8: 100% (77/77)\n",
            "Test Accuracy of     9: 97% (81/83)\n",
            "\n",
            "Final Test  Accuracy: 97.595 (771.0/790.0)\n"
          ],
          "name": "stdout"
        }
      ]
    },
    {
      "cell_type": "code",
      "metadata": {
        "id": "fWCdJFRCL_f2"
      },
      "source": [
        "hyperparams = {'rounds': rounds,\n",
        "               'C': C,\n",
        "               'K': K,\n",
        "               'E': E,\n",
        "               'batch_size': batch_size,\n",
        "               'lr': lr,\n",
        "               'mu': mu,\n",
        "               'percentage': percentage,\n",
        "               'target_test_accuracy': target_test_accuracy,\n",
        "               }\n",
        "\n",
        "log_dict['MNIST MLP on IID'] = {'train_loss': train_loss_multiple_runs, \n",
        "                                'test_loss': test_loss_multiple_runs, \n",
        "                                'test_accuracy': test_accuracy_multiple_runs,\n",
        "                                'hyperparams': hyperparams,\n",
        "                                }"
      ],
      "execution_count": 56,
      "outputs": []
    },
    {
      "cell_type": "markdown",
      "metadata": {
        "id": "J8jzEyO0iywz"
      },
      "source": [
        "## MNIST MLP on Non IID"
      ]
    },
    {
      "cell_type": "markdown",
      "metadata": {
        "id": "pJFepr3y2bF-"
      },
      "source": [
        "### Train"
      ]
    },
    {
      "cell_type": "code",
      "metadata": {
        "id": "EBKO44Hgi1Uh",
        "colab": {
          "base_uri": "https://localhost:8080/",
          "height": 1000
        },
        "outputId": "6a799d9f-1ef5-4593-efc9-292f0a5a47bb"
      },
      "source": [
        "train_loss_multiple_runs = [None] * NUM_REPEAT\n",
        "test_accuracy_multiple_runs = [None] * NUM_REPEAT\n",
        "test_loss_multiple_runs = [None] * NUM_REPEAT\n",
        "\n",
        "for exp_num in range(NUM_REPEAT):\n",
        "  print(\"Experiment Run Number: \", exp_num)\n",
        "  \n",
        "  # number of training rounds\n",
        "  rounds = 50\n",
        "  # client fraction\n",
        "  C = 0.5\n",
        "  # number of clients\n",
        "  K = 100\n",
        "  # number of training passes on local dataset for each roung\n",
        "  E = 5\n",
        "  # batch size\n",
        "  batch_size = 10\n",
        "  # learning Rate\n",
        "  lr=0.05\n",
        "  # proximal term constant\n",
        "  mu = 0.01\n",
        "  # percentage of clients to have fewer than E epochs\n",
        "  percentage = 50\n",
        "  # target_test_accuracy\n",
        "  target_test_accuracy=94.0\n",
        "  # dict containing different type of data partition\n",
        "  data_dict = non_iid_partition(mnist_data_train, 100, 200, 300, 2)\n",
        "  # load model\n",
        "  mnist_mlp = MNIST_2NN()\n",
        "\n",
        "  if torch.cuda.is_available():\n",
        "    mnist_mlp.cuda()\n",
        "\n",
        "  mnist_mlp_non_iid_trained, train_loss, test_accuracy, test_loss = training(mnist_mlp, rounds, batch_size, lr, mnist_data_train, mnist_data_test, data_dict, C, K, E, mu, percentage, \"MNIST MLP on Non-IID Dataset\", \"green\", target_test_accuracy)\n",
        "\n",
        "  train_loss_multiple_runs[exp_num] = train_loss\n",
        "  test_accuracy_multiple_runs[exp_num] = test_accuracy\n",
        "  test_loss_multiple_runs[exp_num] = test_loss"
      ],
      "execution_count": 57,
      "outputs": [
        {
          "output_type": "stream",
          "text": [
            "Experiment Run Number:  0\n",
            "System heterogeneity set to 50% stragglers.\n",
            "\n",
            "Picking 50 random clients per round.\n",
            "\n",
            "Round: 1... \tAverage Train Loss: 0.172... \tTest Loss: 3.2994082427978517... \tTest Accuracy: 35.949367088607595\n",
            "Round: 2... \tAverage Train Loss: 0.109... \tTest Loss: 1.6957382791519164... \tTest Accuracy: 62.151898734177216\n",
            "Round: 3... \tAverage Train Loss: 0.077... \tTest Loss: 1.0074146125793457... \tTest Accuracy: 76.32911392405063\n",
            "Round: 4... \tAverage Train Loss: 0.067... \tTest Loss: 0.7575950387001038... \tTest Accuracy: 79.24050632911393\n",
            "Round: 5... \tAverage Train Loss: 0.059... \tTest Loss: 0.6234578824996948... \tTest Accuracy: 84.17721518987342\n",
            "Round: 6... \tAverage Train Loss: 0.054... \tTest Loss: 0.5026281457901001... \tTest Accuracy: 87.0886075949367\n",
            "Round: 7... \tAverage Train Loss: 0.068... \tTest Loss: 0.42713175454139707... \tTest Accuracy: 89.87341772151899\n",
            "Round: 8... \tAverage Train Loss: 0.05... \tTest Loss: 0.3971312116622925... \tTest Accuracy: 90.88607594936708\n",
            "Round: 9... \tAverage Train Loss: 0.055... \tTest Loss: 0.36114371235370635... \tTest Accuracy: 90.75949367088607\n",
            "Round: 10... \tAverage Train Loss: 0.046... \tTest Loss: 0.34572238030433655... \tTest Accuracy: 89.49367088607595\n",
            "Round: 11... \tAverage Train Loss: 0.047... \tTest Loss: 0.30368803589344023... \tTest Accuracy: 92.65822784810126\n",
            "Round: 12... \tAverage Train Loss: 0.056... \tTest Loss: 0.30078910403251646... \tTest Accuracy: 92.0253164556962\n",
            "Round: 13... \tAverage Train Loss: 0.051... \tTest Loss: 0.291691849219799... \tTest Accuracy: 92.40506329113924\n",
            "Round: 14... \tAverage Train Loss: 0.042... \tTest Loss: 0.28489508081674575... \tTest Accuracy: 93.0379746835443\n",
            "Round: 15... \tAverage Train Loss: 0.041... \tTest Loss: 0.27307733290195463... \tTest Accuracy: 93.92405063291139\n",
            "Round: 16... \tAverage Train Loss: 0.039... \tTest Loss: 0.26620873671770096... \tTest Accuracy: 92.40506329113924\n",
            "Round: 17... \tAverage Train Loss: 0.034... \tTest Loss: 0.2501204391002655... \tTest Accuracy: 92.53164556962025\n",
            "Round: 18... \tAverage Train Loss: 0.037... \tTest Loss: 0.23701156820058822... \tTest Accuracy: 93.54430379746836\n",
            "Round: 19... \tAverage Train Loss: 0.036... \tTest Loss: 0.24058360718488694... \tTest Accuracy: 93.29113924050633\n",
            "Round: 20... \tAverage Train Loss: 0.033... \tTest Loss: 0.23422253919839858... \tTest Accuracy: 93.67088607594937\n",
            "Round: 21... \tAverage Train Loss: 0.034... \tTest Loss: 0.24476608905792235... \tTest Accuracy: 92.65822784810126\n",
            "Round: 22... \tAverage Train Loss: 0.032... \tTest Loss: 0.23629571657180787... \tTest Accuracy: 92.27848101265823\n",
            "Round: 23... \tAverage Train Loss: 0.033... \tTest Loss: 0.22336744606494904... \tTest Accuracy: 93.16455696202532\n",
            "Round: 24... \tAverage Train Loss: 0.033... \tTest Loss: 0.20328988395929337... \tTest Accuracy: 93.54430379746836\n",
            "Round: 25... \tAverage Train Loss: 0.03... \tTest Loss: 0.19665176030397416... \tTest Accuracy: 94.30379746835443\n",
            "Round: 26... \tAverage Train Loss: 0.031... \tTest Loss: 0.1972474058330059... \tTest Accuracy: 94.68354430379746\n",
            "Round: 27... \tAverage Train Loss: 0.027... \tTest Loss: 0.19048366491794586... \tTest Accuracy: 94.81012658227849\n",
            "Round: 28... \tAverage Train Loss: 0.029... \tTest Loss: 0.19914643677473068... \tTest Accuracy: 94.0506329113924\n",
            "Round: 29... \tAverage Train Loss: 0.029... \tTest Loss: 0.18545385044813156... \tTest Accuracy: 94.81012658227849\n",
            "Round: 30... \tAverage Train Loss: 0.028... \tTest Loss: 0.18669557952880858... \tTest Accuracy: 94.43037974683544\n",
            "Round: 31... \tAverage Train Loss: 0.035... \tTest Loss: 0.18622565526962281... \tTest Accuracy: 94.30379746835443\n",
            "Round: 32... \tAverage Train Loss: 0.027... \tTest Loss: 0.17956861256361006... \tTest Accuracy: 95.0632911392405\n",
            "Round: 33... \tAverage Train Loss: 0.027... \tTest Loss: 0.17882689424157142... \tTest Accuracy: 94.9367088607595\n",
            "Round: 34... \tAverage Train Loss: 0.023... \tTest Loss: 0.17128131001591682... \tTest Accuracy: 94.81012658227849\n",
            "Round: 35... \tAverage Train Loss: 0.028... \tTest Loss: 0.16917434428930284... \tTest Accuracy: 94.81012658227849\n",
            "Round: 36... \tAverage Train Loss: 0.03... \tTest Loss: 0.17067303855419158... \tTest Accuracy: 95.31645569620254\n",
            "Round: 37... \tAverage Train Loss: 0.025... \tTest Loss: 0.16905991107821464... \tTest Accuracy: 94.81012658227849\n",
            "Round: 38... \tAverage Train Loss: 0.028... \tTest Loss: 0.15649301339387894... \tTest Accuracy: 96.07594936708861\n",
            "Round: 39... \tAverage Train Loss: 0.02... \tTest Loss: 0.15568237286806105... \tTest Accuracy: 95.56962025316456\n",
            "Round: 40... \tAverage Train Loss: 0.024... \tTest Loss: 0.15159402601122857... \tTest Accuracy: 95.82278481012658\n",
            "Round: 41... \tAverage Train Loss: 0.024... \tTest Loss: 0.15360726323723792... \tTest Accuracy: 95.69620253164557\n",
            "Round: 42... \tAverage Train Loss: 0.025... \tTest Loss: 0.1491542725145817... \tTest Accuracy: 96.32911392405063\n",
            "Round: 43... \tAverage Train Loss: 0.024... \tTest Loss: 0.14980328753590583... \tTest Accuracy: 96.32911392405063\n",
            "Round: 44... \tAverage Train Loss: 0.022... \tTest Loss: 0.1439027275621891... \tTest Accuracy: 95.9493670886076\n",
            "Round: 45... \tAverage Train Loss: 0.02... \tTest Loss: 0.14212426958084107... \tTest Accuracy: 95.9493670886076\n",
            "Round: 46... \tAverage Train Loss: 0.019... \tTest Loss: 0.1465649843096733... \tTest Accuracy: 95.9493670886076\n",
            "Round: 47... \tAverage Train Loss: 0.02... \tTest Loss: 0.1461834306061268... \tTest Accuracy: 96.07594936708861\n",
            "Round: 48... \tAverage Train Loss: 0.022... \tTest Loss: 0.14425265977978707... \tTest Accuracy: 96.70886075949367\n",
            "Round: 49... \tAverage Train Loss: 0.023... \tTest Loss: 0.13852386635243893... \tTest Accuracy: 96.45569620253164\n",
            "Round: 50... \tAverage Train Loss: 0.022... \tTest Loss: 0.1405311691045761... \tTest Accuracy: 96.20253164556962\n"
          ],
          "name": "stdout"
        },
        {
          "output_type": "display_data",
          "data": {
            "image/png": "[encoded data removed]",
            "text/plain": [
              "<Figure size 432x288 with 1 Axes>"
            ]
          },
          "metadata": {
            "tags": [],
            "needs_background": "light"
          }
        },
        {
          "output_type": "display_data",
          "data": {
            "image/png": "[encoded data removed]",
            "text/plain": [
              "<Figure size 432x288 with 1 Axes>"
            ]
          },
          "metadata": {
            "tags": [],
            "needs_background": "light"
          }
        },
        {
          "output_type": "display_data",
          "data": {
            "image/png": "[encoded data removed]",
            "text/plain": [
              "<Figure size 432x288 with 1 Axes>"
            ]
          },
          "metadata": {
            "tags": [],
            "needs_background": "light"
          }
        },
        {
          "output_type": "stream",
          "text": [
            "Training Done!\n",
            "Total time taken to Train: 1982.404292345047\n",
            "\n",
            "\n"
          ],
          "name": "stdout"
        }
      ]
    },
    {
      "cell_type": "markdown",
      "metadata": {
        "id": "jmuQYPbF2mes"
      },
      "source": [
        "### Test"
      ]
    },
    {
      "cell_type": "code",
      "metadata": {
        "id": "0tKMlJyF2nGN",
        "colab": {
          "base_uri": "https://localhost:8080/"
        },
        "outputId": "6b0dab0b-5696-48f8-b3e7-232496d3425e"
      },
      "source": [
        "criterion = nn.CrossEntropyLoss()\n",
        "acc, loss = testing(mnist_mlp_non_iid_trained, mnist_data_test, 128, criterion, num_classes, classes_test, True)"
      ],
      "execution_count": 58,
      "outputs": [
        {
          "output_type": "stream",
          "text": [
            "Test Loss: 0.140531\n",
            "\n",
            "Test Accuracy of     0: 96% (73/76)\n",
            "Test Accuracy of     1: 97% (88/90)\n",
            "Test Accuracy of     2: 92% (84/91)\n",
            "Test Accuracy of     3: 94% (69/73)\n",
            "Test Accuracy of     4: 97% (87/89)\n",
            "Test Accuracy of     5: 92% (63/68)\n",
            "Test Accuracy of     6: 96% (60/62)\n",
            "Test Accuracy of     7: 97% (79/81)\n",
            "Test Accuracy of     8: 97% (75/77)\n",
            "Test Accuracy of     9: 98% (82/83)\n",
            "\n",
            "Final Test  Accuracy: 96.203 (760.0/790.0)\n"
          ],
          "name": "stdout"
        }
      ]
    },
    {
      "cell_type": "code",
      "metadata": {
        "id": "1W5krYcSMQiu"
      },
      "source": [
        "hyperparams = {'rounds': rounds,\n",
        "               'C': C,\n",
        "               'K': K,\n",
        "               'E': E,\n",
        "               'batch_size': batch_size,\n",
        "               'lr': lr,\n",
        "               'mu': mu,\n",
        "               'percentage': percentage,\n",
        "               'target_test_accuracy': target_test_accuracy,\n",
        "               }\n",
        "\n",
        "log_dict['MNIST MLP on Non IID'] = {'train_loss': train_loss_multiple_runs, \n",
        "                                'test_loss': test_loss_multiple_runs, \n",
        "                                'test_accuracy': test_accuracy_multiple_runs,\n",
        "                                'hyperparams': hyperparams,\n",
        "                                }"
      ],
      "execution_count": 59,
      "outputs": []
    },
    {
      "cell_type": "markdown",
      "metadata": {
        "id": "emS_SaRAP6TZ"
      },
      "source": [
        "## Pickle Log"
      ]
    },
    {
      "cell_type": "code",
      "metadata": {
        "id": "soAN38JoP0c1"
      },
      "source": [
        "import pickle\n",
        " \n",
        "with open(path + 'FedProx_0.5.pkl', 'wb') as file:\n",
        "  pickle.dump(log_dict, file)"
      ],
      "execution_count": 60,
      "outputs": []
    },
    {
      "cell_type": "code",
      "metadata": {
        "id": "2UBy-JswSoCJ",
        "colab": {
          "base_uri": "https://localhost:8080/"
        },
        "outputId": "3f479a57-abc7-413b-cedd-74752c36d591"
      },
      "source": [
        "log_dict"
      ],
      "execution_count": 61,
      "outputs": [
        {
          "output_type": "execute_result",
          "data": {
            "text/plain": [
              "{'MNIST CNN on IID': {'hyperparams': {'C': 0.5,\n",
              "   'E': 5,\n",
              "   'K': 100,\n",
              "   'batch_size': 10,\n",
              "   'lr': 0.05,\n",
              "   'mu': 0.01,\n",
              "   'percentage': 50,\n",
              "   'rounds': 50,\n",
              "   'target_test_accuracy': 99.0},\n",
              "  'test_accuracy': [[93.79746835443038,\n",
              "    96.83544303797468,\n",
              "    96.9620253164557,\n",
              "    97.72151898734177,\n",
              "    97.84810126582279,\n",
              "    98.10126582278481,\n",
              "    98.73417721518987,\n",
              "    98.73417721518987,\n",
              "    98.9873417721519,\n",
              "    99.11392405063292,\n",
              "    99.24050632911393,\n",
              "    99.11392405063292,\n",
              "    99.24050632911393,\n",
              "    99.24050632911393,\n",
              "    99.24050632911393,\n",
              "    99.24050632911393,\n",
              "    99.24050632911393,\n",
              "    99.24050632911393,\n",
              "    99.24050632911393,\n",
              "    99.24050632911393,\n",
              "    99.24050632911393,\n",
              "    99.24050632911393,\n",
              "    99.36708860759494,\n",
              "    99.36708860759494,\n",
              "    99.36708860759494,\n",
              "    99.36708860759494,\n",
              "    99.36708860759494,\n",
              "    99.36708860759494,\n",
              "    99.36708860759494,\n",
              "    99.36708860759494,\n",
              "    99.36708860759494,\n",
              "    99.36708860759494,\n",
              "    99.36708860759494,\n",
              "    99.36708860759494,\n",
              "    99.36708860759494,\n",
              "    99.36708860759494,\n",
              "    99.49367088607595,\n",
              "    99.36708860759494,\n",
              "    99.49367088607595,\n",
              "    99.36708860759494,\n",
              "    99.49367088607595,\n",
              "    99.49367088607595,\n",
              "    99.49367088607595,\n",
              "    99.49367088607595,\n",
              "    99.49367088607595,\n",
              "    99.62025316455696,\n",
              "    99.62025316455696,\n",
              "    99.62025316455696,\n",
              "    99.62025316455696,\n",
              "    99.62025316455696]],\n",
              "  'test_loss': [[0.45275948252677917,\n",
              "    0.10569021886140108,\n",
              "    0.08198669625297189,\n",
              "    0.06895263978978619,\n",
              "    0.06075377567512914,\n",
              "    0.053296928123338146,\n",
              "    0.048453418550046624,\n",
              "    0.044646549989737105,\n",
              "    0.041045588118804155,\n",
              "    0.03938220647140406,\n",
              "    0.03750496276722988,\n",
              "    0.03566612394011172,\n",
              "    0.0351157316332974,\n",
              "    0.03472506188043044,\n",
              "    0.03169868581322953,\n",
              "    0.03161985132911941,\n",
              "    0.030612747782911173,\n",
              "    0.03102423417007667,\n",
              "    0.029420769069346715,\n",
              "    0.0285168749432225,\n",
              "    0.028598200965241995,\n",
              "    0.027852012729950366,\n",
              "    0.028209525800132543,\n",
              "    0.02674267202699557,\n",
              "    0.02688584640270856,\n",
              "    0.02586177835346898,\n",
              "    0.026075803891487885,\n",
              "    0.025582158400915794,\n",
              "    0.025621917245109215,\n",
              "    0.024913198311286397,\n",
              "    0.02451670071503904,\n",
              "    0.02435107273593312,\n",
              "    0.024329011100788195,\n",
              "    0.024236780658137287,\n",
              "    0.024410913862171583,\n",
              "    0.02398874916662753,\n",
              "    0.023716334821221242,\n",
              "    0.0238447135010676,\n",
              "    0.023270743688788207,\n",
              "    0.023567295047455993,\n",
              "    0.023060426576604367,\n",
              "    0.022838563638007327,\n",
              "    0.02307369479216868,\n",
              "    0.02246879423634091,\n",
              "    0.02271518770905095,\n",
              "    0.022871122532755545,\n",
              "    0.022361227207162302,\n",
              "    0.02174334893952473,\n",
              "    0.021911292968402267,\n",
              "    0.02206335125920523]],\n",
              "  'train_loss': [[0.7614790848557527,\n",
              "    0.23662697331079602,\n",
              "    0.14681285745102607,\n",
              "    0.11392748271688861,\n",
              "    0.09502976240289202,\n",
              "    0.08683704410243637,\n",
              "    0.07759879083942256,\n",
              "    0.06706490234794277,\n",
              "    0.07361000338477364,\n",
              "    0.06026288544197777,\n",
              "    0.059787293660093804,\n",
              "    0.05627979194740547,\n",
              "    0.053032551781065446,\n",
              "    0.05003519564379624,\n",
              "    0.05249886599600039,\n",
              "    0.0459732825104647,\n",
              "    0.04883107045865962,\n",
              "    0.04050625011820646,\n",
              "    0.04270430119422533,\n",
              "    0.04404359020470644,\n",
              "    0.03567650338759516,\n",
              "    0.039981045746574184,\n",
              "    0.036596132598714456,\n",
              "    0.0398683086000679,\n",
              "    0.034619562963025444,\n",
              "    0.034924152025669654,\n",
              "    0.037496736525104504,\n",
              "    0.03400711121636956,\n",
              "    0.03238458321804799,\n",
              "    0.033230223925440595,\n",
              "    0.03288252620203737,\n",
              "    0.0344074576997237,\n",
              "    0.030136034728327953,\n",
              "    0.03134389219276118,\n",
              "    0.032203272159129506,\n",
              "    0.030664820913272967,\n",
              "    0.02656891291346572,\n",
              "    0.026551599461520824,\n",
              "    0.027151697691767215,\n",
              "    0.02717310048035818,\n",
              "    0.02845800515380908,\n",
              "    0.026186354441370935,\n",
              "    0.024129174614098657,\n",
              "    0.021627659969928527,\n",
              "    0.026896795284582994,\n",
              "    0.02480074967274316,\n",
              "    0.028528509852263927,\n",
              "    0.02440469508631744,\n",
              "    0.023376111606187876,\n",
              "    0.023426207558616564]]},\n",
              " 'MNIST CNN on Non IID': {'hyperparams': {'C': 0.5,\n",
              "   'E': 5,\n",
              "   'K': 100,\n",
              "   'batch_size': 10,\n",
              "   'lr': 0.05,\n",
              "   'mu': 0.01,\n",
              "   'percentage': 50,\n",
              "   'rounds': 50,\n",
              "   'target_test_accuracy': 99.0},\n",
              "  'test_accuracy': [[12.91139240506329,\n",
              "    68.48101265822785,\n",
              "    77.34177215189874,\n",
              "    79.87341772151899,\n",
              "    87.34177215189874,\n",
              "    89.74683544303798,\n",
              "    93.54430379746836,\n",
              "    93.16455696202532,\n",
              "    93.29113924050633,\n",
              "    96.07594936708861,\n",
              "    96.58227848101266,\n",
              "    96.45569620253164,\n",
              "    96.32911392405063,\n",
              "    97.0886075949367,\n",
              "    96.70886075949367,\n",
              "    96.32911392405063,\n",
              "    96.83544303797468,\n",
              "    96.9620253164557,\n",
              "    97.34177215189874,\n",
              "    96.58227848101266,\n",
              "    97.72151898734177,\n",
              "    97.59493670886076,\n",
              "    97.34177215189874,\n",
              "    97.72151898734177,\n",
              "    97.9746835443038,\n",
              "    98.10126582278481,\n",
              "    97.9746835443038,\n",
              "    98.22784810126582,\n",
              "    98.35443037974683,\n",
              "    98.60759493670886,\n",
              "    98.10126582278481,\n",
              "    98.10126582278481,\n",
              "    98.48101265822785,\n",
              "    98.22784810126582,\n",
              "    98.73417721518987,\n",
              "    98.48101265822785,\n",
              "    98.48101265822785,\n",
              "    98.60759493670886,\n",
              "    98.9873417721519,\n",
              "    98.48101265822785,\n",
              "    98.73417721518987,\n",
              "    98.35443037974683,\n",
              "    98.86075949367088,\n",
              "    98.86075949367088,\n",
              "    98.86075949367088,\n",
              "    98.60759493670886,\n",
              "    98.73417721518987,\n",
              "    98.9873417721519,\n",
              "    99.24050632911393,\n",
              "    99.11392405063292]],\n",
              "  'test_loss': [[2.293298568725586,\n",
              "    1.9979575786590575,\n",
              "    1.2590731269836426,\n",
              "    0.7254621858596801,\n",
              "    0.5105707557678223,\n",
              "    0.38939649987220765,\n",
              "    0.3038130709171295,\n",
              "    0.24838102564811707,\n",
              "    0.24282027683258056,\n",
              "    0.19407267642021178,\n",
              "    0.16845223413705826,\n",
              "    0.15379144250154494,\n",
              "    0.14828539685606956,\n",
              "    0.13521866327226162,\n",
              "    0.13400132676959037,\n",
              "    0.13660691826939583,\n",
              "    0.11360752230882645,\n",
              "    0.11307680051028729,\n",
              "    0.09932765581607819,\n",
              "    0.10877173946201801,\n",
              "    0.09339759145230055,\n",
              "    0.0912778474509716,\n",
              "    0.08570778117477894,\n",
              "    0.08531074523031712,\n",
              "    0.07896766798198224,\n",
              "    0.07893666458576917,\n",
              "    0.07280774344801903,\n",
              "    0.06874088868945837,\n",
              "    0.06596733350977302,\n",
              "    0.06520128507763147,\n",
              "    0.06434659496992827,\n",
              "    0.06351736204773188,\n",
              "    0.06346581178456545,\n",
              "    0.061431738662719726,\n",
              "    0.05917192226648331,\n",
              "    0.062465494419634345,\n",
              "    0.05852467040196061,\n",
              "    0.05548714199177921,\n",
              "    0.05514781784601509,\n",
              "    0.05523271424546838,\n",
              "    0.05355761194750667,\n",
              "    0.0511172268345952,\n",
              "    0.04880906828306615,\n",
              "    0.04862093359231949,\n",
              "    0.046962376940995455,\n",
              "    0.04708605963103473,\n",
              "    0.048466779101081194,\n",
              "    0.04763667242713272,\n",
              "    0.045608493541553614,\n",
              "    0.043855332066863775]],\n",
              "  'train_loss': [[0.260177155388633,\n",
              "    0.1917630204011169,\n",
              "    0.10265550231945492,\n",
              "    0.07019002031798012,\n",
              "    0.05529636717227339,\n",
              "    0.0557608518574956,\n",
              "    0.048368203398321444,\n",
              "    0.0372535022518701,\n",
              "    0.04637403179554837,\n",
              "    0.04244278014962457,\n",
              "    0.04151754594591007,\n",
              "    0.036691592198068335,\n",
              "    0.03009974623411351,\n",
              "    0.03797852469849555,\n",
              "    0.039078946414981816,\n",
              "    0.035338204498389834,\n",
              "    0.030509601568337538,\n",
              "    0.031014189259521662,\n",
              "    0.028797194427570016,\n",
              "    0.03286893128282778,\n",
              "    0.028448256750671943,\n",
              "    0.03164171512085271,\n",
              "    0.021806897281674252,\n",
              "    0.033585829961220996,\n",
              "    0.02360552310362431,\n",
              "    0.030298360639937322,\n",
              "    0.0250215510970874,\n",
              "    0.023983827442992735,\n",
              "    0.02283781321099765,\n",
              "    0.02315442466979019,\n",
              "    0.024737702371467857,\n",
              "    0.025793822276791452,\n",
              "    0.025336186998389253,\n",
              "    0.0228775440360717,\n",
              "    0.026114656253156454,\n",
              "    0.025737438940558226,\n",
              "    0.025580475579647793,\n",
              "    0.022696808462785295,\n",
              "    0.02056182236508272,\n",
              "    0.022238469010165948,\n",
              "    0.020069263015794824,\n",
              "    0.019817576106757044,\n",
              "    0.019543505677778742,\n",
              "    0.019112930268475447,\n",
              "    0.02184733247218278,\n",
              "    0.02000241222910182,\n",
              "    0.01911422304888579,\n",
              "    0.020996770831601074,\n",
              "    0.018526865140832446,\n",
              "    0.017811542521338396]]},\n",
              " 'MNIST MLP on IID': {'hyperparams': {'C': 0.5,\n",
              "   'E': 5,\n",
              "   'K': 100,\n",
              "   'batch_size': 10,\n",
              "   'lr': 0.05,\n",
              "   'mu': 0.01,\n",
              "   'percentage': 50,\n",
              "   'rounds': 50,\n",
              "   'target_test_accuracy': 94.0},\n",
              "  'test_accuracy': [[91.51898734177215,\n",
              "    93.67088607594937,\n",
              "    94.68354430379746,\n",
              "    94.81012658227849,\n",
              "    95.0632911392405,\n",
              "    95.44303797468355,\n",
              "    95.69620253164557,\n",
              "    96.07594936708861,\n",
              "    96.07594936708861,\n",
              "    96.20253164556962,\n",
              "    96.07594936708861,\n",
              "    96.07594936708861,\n",
              "    96.20253164556962,\n",
              "    96.20253164556962,\n",
              "    96.32911392405063,\n",
              "    96.20253164556962,\n",
              "    96.32911392405063,\n",
              "    96.32911392405063,\n",
              "    96.32911392405063,\n",
              "    96.45569620253164,\n",
              "    96.45569620253164,\n",
              "    96.83544303797468,\n",
              "    96.58227848101266,\n",
              "    96.83544303797468,\n",
              "    96.83544303797468,\n",
              "    96.83544303797468,\n",
              "    96.70886075949367,\n",
              "    96.70886075949367,\n",
              "    96.9620253164557,\n",
              "    96.83544303797468,\n",
              "    97.0886075949367,\n",
              "    96.83544303797468,\n",
              "    96.9620253164557,\n",
              "    96.83544303797468,\n",
              "    96.83544303797468,\n",
              "    97.0886075949367,\n",
              "    96.9620253164557,\n",
              "    97.21518987341773,\n",
              "    97.21518987341773,\n",
              "    97.34177215189874,\n",
              "    97.21518987341773,\n",
              "    97.59493670886076,\n",
              "    97.34177215189874,\n",
              "    97.59493670886076,\n",
              "    97.46835443037975,\n",
              "    97.21518987341773,\n",
              "    97.21518987341773,\n",
              "    97.59493670886076,\n",
              "    97.59493670886076,\n",
              "    97.59493670886076]],\n",
              "  'test_loss': [[0.3236479414701462,\n",
              "    0.2518650623261929,\n",
              "    0.216462937040627,\n",
              "    0.19238894037604332,\n",
              "    0.17550313051715494,\n",
              "    0.16037052291855217,\n",
              "    0.1507078780569136,\n",
              "    0.14205180056653915,\n",
              "    0.13521311206668615,\n",
              "    0.1306249647486955,\n",
              "    0.125014948643744,\n",
              "    0.12064832457304,\n",
              "    0.11666918182224036,\n",
              "    0.11253211028147489,\n",
              "    0.10936436625197529,\n",
              "    0.10693067125547677,\n",
              "    0.1045453614398837,\n",
              "    0.10197427815943956,\n",
              "    0.099960020038113,\n",
              "    0.09794391744807363,\n",
              "    0.09559191774576903,\n",
              "    0.0935684623496607,\n",
              "    0.09319510230794549,\n",
              "    0.09250030866581947,\n",
              "    0.09090410557482391,\n",
              "    0.08935157974343746,\n",
              "    0.08871028044717387,\n",
              "    0.08768080652607604,\n",
              "    0.08718969032168389,\n",
              "    0.08619496582737192,\n",
              "    0.08585528727686033,\n",
              "    0.08435193181140348,\n",
              "    0.08336979629518464,\n",
              "    0.0827356642127037,\n",
              "    0.08340612297495827,\n",
              "    0.08223191791153513,\n",
              "    0.08137477631219663,\n",
              "    0.08131144457003102,\n",
              "    0.08055148138287477,\n",
              "    0.07886894156257622,\n",
              "    0.07882607015129178,\n",
              "    0.07905406972360797,\n",
              "    0.07830914426101372,\n",
              "    0.07775244428538718,\n",
              "    0.07767848352659494,\n",
              "    0.07759729708302766,\n",
              "    0.07694336570221931,\n",
              "    0.0766400557161076,\n",
              "    0.07691852962789125,\n",
              "    0.0761037168121431]],\n",
              "  'train_loss': [[0.9612713794545372,\n",
              "    0.28249808575553415,\n",
              "    0.21562346928007387,\n",
              "    0.16417937225870613,\n",
              "    0.15445398084790082,\n",
              "    0.14303671793347583,\n",
              "    0.11974592604071205,\n",
              "    0.1257837440047749,\n",
              "    0.11121272070738229,\n",
              "    0.09486344565391709,\n",
              "    0.10335619741418635,\n",
              "    0.09116610686163637,\n",
              "    0.0857789471243841,\n",
              "    0.08803094302349258,\n",
              "    0.08234151065366614,\n",
              "    0.07973398657133561,\n",
              "    0.07216830571399768,\n",
              "    0.06476356704234978,\n",
              "    0.06683834777904235,\n",
              "    0.06351521795718396,\n",
              "    0.06625782620067443,\n",
              "    0.07296524167309883,\n",
              "    0.050571060243790045,\n",
              "    0.05931965094471063,\n",
              "    0.06098473953390673,\n",
              "    0.06408950874622242,\n",
              "    0.05827063975970871,\n",
              "    0.04896678689713367,\n",
              "    0.0516829071511554,\n",
              "    0.053277836336407036,\n",
              "    0.044854167315261054,\n",
              "    0.05210258458548786,\n",
              "    0.049234855672210906,\n",
              "    0.047147995576047395,\n",
              "    0.043746985934961916,\n",
              "    0.04598724220558062,\n",
              "    0.04375751176140238,\n",
              "    0.042328969877721306,\n",
              "    0.05043510452182092,\n",
              "    0.04033951331220889,\n",
              "    0.04152757773290288,\n",
              "    0.0404828583543429,\n",
              "    0.03820257347673923,\n",
              "    0.037538065468583307,\n",
              "    0.03702940757762462,\n",
              "    0.0377225571008944,\n",
              "    0.03919110866828978,\n",
              "    0.03748495073207743,\n",
              "    0.03653523662506082,\n",
              "    0.03606756122330975]]},\n",
              " 'MNIST MLP on Non IID': {'hyperparams': {'C': 0.5,\n",
              "   'E': 5,\n",
              "   'K': 100,\n",
              "   'batch_size': 10,\n",
              "   'lr': 0.05,\n",
              "   'mu': 0.01,\n",
              "   'percentage': 50,\n",
              "   'rounds': 50,\n",
              "   'target_test_accuracy': 94.0},\n",
              "  'test_accuracy': [[35.949367088607595,\n",
              "    62.151898734177216,\n",
              "    76.32911392405063,\n",
              "    79.24050632911393,\n",
              "    84.17721518987342,\n",
              "    87.0886075949367,\n",
              "    89.87341772151899,\n",
              "    90.88607594936708,\n",
              "    90.75949367088607,\n",
              "    89.49367088607595,\n",
              "    92.65822784810126,\n",
              "    92.0253164556962,\n",
              "    92.40506329113924,\n",
              "    93.0379746835443,\n",
              "    93.92405063291139,\n",
              "    92.40506329113924,\n",
              "    92.53164556962025,\n",
              "    93.54430379746836,\n",
              "    93.29113924050633,\n",
              "    93.67088607594937,\n",
              "    92.65822784810126,\n",
              "    92.27848101265823,\n",
              "    93.16455696202532,\n",
              "    93.54430379746836,\n",
              "    94.30379746835443,\n",
              "    94.68354430379746,\n",
              "    94.81012658227849,\n",
              "    94.0506329113924,\n",
              "    94.81012658227849,\n",
              "    94.43037974683544,\n",
              "    94.30379746835443,\n",
              "    95.0632911392405,\n",
              "    94.9367088607595,\n",
              "    94.81012658227849,\n",
              "    94.81012658227849,\n",
              "    95.31645569620254,\n",
              "    94.81012658227849,\n",
              "    96.07594936708861,\n",
              "    95.56962025316456,\n",
              "    95.82278481012658,\n",
              "    95.69620253164557,\n",
              "    96.32911392405063,\n",
              "    96.32911392405063,\n",
              "    95.9493670886076,\n",
              "    95.9493670886076,\n",
              "    95.9493670886076,\n",
              "    96.07594936708861,\n",
              "    96.70886075949367,\n",
              "    96.45569620253164,\n",
              "    96.20253164556962]],\n",
              "  'test_loss': [[3.2994082427978517,\n",
              "    1.6957382791519164,\n",
              "    1.0074146125793457,\n",
              "    0.7575950387001038,\n",
              "    0.6234578824996948,\n",
              "    0.5026281457901001,\n",
              "    0.42713175454139707,\n",
              "    0.3971312116622925,\n",
              "    0.36114371235370635,\n",
              "    0.34572238030433655,\n",
              "    0.30368803589344023,\n",
              "    0.30078910403251646,\n",
              "    0.291691849219799,\n",
              "    0.28489508081674575,\n",
              "    0.27307733290195463,\n",
              "    0.26620873671770096,\n",
              "    0.2501204391002655,\n",
              "    0.23701156820058822,\n",
              "    0.24058360718488694,\n",
              "    0.23422253919839858,\n",
              "    0.24476608905792235,\n",
              "    0.23629571657180787,\n",
              "    0.22336744606494904,\n",
              "    0.20328988395929337,\n",
              "    0.19665176030397416,\n",
              "    0.1972474058330059,\n",
              "    0.19048366491794586,\n",
              "    0.19914643677473068,\n",
              "    0.18545385044813156,\n",
              "    0.18669557952880858,\n",
              "    0.18622565526962281,\n",
              "    0.17956861256361006,\n",
              "    0.17882689424157142,\n",
              "    0.17128131001591682,\n",
              "    0.16917434428930284,\n",
              "    0.17067303855419158,\n",
              "    0.16905991107821464,\n",
              "    0.15649301339387894,\n",
              "    0.15568237286806105,\n",
              "    0.15159402601122857,\n",
              "    0.15360726323723792,\n",
              "    0.1491542725145817,\n",
              "    0.14980328753590583,\n",
              "    0.1439027275621891,\n",
              "    0.14212426958084107,\n",
              "    0.1465649843096733,\n",
              "    0.1461834306061268,\n",
              "    0.14425265977978707,\n",
              "    0.13852386635243893,\n",
              "    0.1405311691045761]],\n",
              "  'train_loss': [[0.1721662020475604,\n",
              "    0.10856823923907037,\n",
              "    0.07651492499379287,\n",
              "    0.06745679218055059,\n",
              "    0.05889304036819119,\n",
              "    0.054189954065871675,\n",
              "    0.06838826439257764,\n",
              "    0.0503351152734443,\n",
              "    0.055253188006587635,\n",
              "    0.04600735668630028,\n",
              "    0.04657178885207459,\n",
              "    0.05584274275690938,\n",
              "    0.05083051066370681,\n",
              "    0.0421266744133887,\n",
              "    0.040602889891764304,\n",
              "    0.03901904943694697,\n",
              "    0.033506877300563634,\n",
              "    0.03715144854534883,\n",
              "    0.03594543933227476,\n",
              "    0.032814879215221554,\n",
              "    0.03393799177698222,\n",
              "    0.03168162544003895,\n",
              "    0.032948861393899034,\n",
              "    0.032807705532640424,\n",
              "    0.030108201340377692,\n",
              "    0.031365204600455596,\n",
              "    0.027243602938574953,\n",
              "    0.029284212598654755,\n",
              "    0.02924835831952127,\n",
              "    0.028094995369493142,\n",
              "    0.03518772041366513,\n",
              "    0.026761160671623006,\n",
              "    0.027347367855076063,\n",
              "    0.022725354822282676,\n",
              "    0.028137211482669233,\n",
              "    0.02977916738544074,\n",
              "    0.024704075964577746,\n",
              "    0.028049769130389254,\n",
              "    0.020111698669108512,\n",
              "    0.023882619037498564,\n",
              "    0.024044907754439765,\n",
              "    0.024988816264014328,\n",
              "    0.023861430426230394,\n",
              "    0.02163230805010276,\n",
              "    0.0202756902569491,\n",
              "    0.019452200998186085,\n",
              "    0.01971080050387795,\n",
              "    0.022182658769446424,\n",
              "    0.022618032092678656,\n",
              "    0.022130001647913983]]}}"
            ]
          },
          "metadata": {
            "tags": []
          },
          "execution_count": 61
        }
      ]
    },
    {
      "cell_type": "code",
      "metadata": {
        "id": "BXa1-CbFo3pX"
      },
      "source": [
        "import pickle\n",
        "\n",
        "with open(path + 'FedProx_0.5.pkl', 'rb') as file:\n",
        "  log_dict = pickle.load(file)"
      ],
      "execution_count": 62,
      "outputs": []
    },
    {
      "cell_type": "code",
      "metadata": {
        "id": "se_04JMaVJPg",
        "colab": {
          "base_uri": "https://localhost:8080/"
        },
        "outputId": "dfc109c9-6757-4047-d426-bcc96f5cfc52"
      },
      "source": [
        "print([test_acc[-1] for test_acc in log_dict['MNIST CNN on IID']['test_accuracy']])"
      ],
      "execution_count": 63,
      "outputs": [
        {
          "output_type": "stream",
          "text": [
            "[99.62025316455696]\n"
          ],
          "name": "stdout"
        }
      ]
    },
    {
      "cell_type": "code",
      "metadata": {
        "id": "5sv0rv-G4Sqa",
        "colab": {
          "base_uri": "https://localhost:8080/"
        },
        "outputId": "bf2810f0-fb73-4ce3-9949-0e5aeef39b71"
      },
      "source": [
        "print([test_acc[-1] for test_acc in log_dict['MNIST CNN on Non IID']['test_accuracy']])"
      ],
      "execution_count": 64,
      "outputs": [
        {
          "output_type": "stream",
          "text": [
            "[99.11392405063292]\n"
          ],
          "name": "stdout"
        }
      ]
    },
    {
      "cell_type": "code",
      "metadata": {
        "id": "b2a2_Az-4nal",
        "colab": {
          "base_uri": "https://localhost:8080/"
        },
        "outputId": "252fb1b1-caef-456a-b77b-b2d4cf3c9b00"
      },
      "source": [
        "print([test_acc[-1] for test_acc in log_dict['MNIST MLP on IID']['test_accuracy']])"
      ],
      "execution_count": 65,
      "outputs": [
        {
          "output_type": "stream",
          "text": [
            "[97.59493670886076]\n"
          ],
          "name": "stdout"
        }
      ]
    },
    {
      "cell_type": "code",
      "metadata": {
        "id": "YoRqZyvD4p2K",
        "colab": {
          "base_uri": "https://localhost:8080/"
        },
        "outputId": "10962eaa-0042-4a10-c1c9-46fd32cb3407"
      },
      "source": [
        "print([test_acc[-1] for test_acc in log_dict['MNIST MLP on Non IID']['test_accuracy']])"
      ],
      "execution_count": 66,
      "outputs": [
        {
          "output_type": "stream",
          "text": [
            "[96.20253164556962]\n"
          ],
          "name": "stdout"
        }
      ]
    },
    {
      "cell_type": "code",
      "metadata": {
        "id": "B87eGKJnAHIh",
        "colab": {
          "base_uri": "https://localhost:8080/"
        },
        "outputId": "a1e53bbc-1c92-4001-b866-9126c236ce7d"
      },
      "source": [
        "output.show()"
      ],
      "execution_count": 67,
      "outputs": [
        {
          "output_type": "stream",
          "text": [
            "Drive already mounted at /content/drive; to attempt to forcibly remount, call drive.mount(\"/content/drive\", force_remount=True).\n"
          ],
          "name": "stdout"
        }
      ]
    }
  ]
}