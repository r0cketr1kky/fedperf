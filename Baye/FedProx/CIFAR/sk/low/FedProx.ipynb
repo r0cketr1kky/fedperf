{
  "nbformat": 4,
  "nbformat_minor": 0,
  "metadata": {
    "accelerator": "GPU",
    "colab": {
      "name": "FedProx.ipynb",
      "provenance": [],
      "collapsed_sections": [],
      "machine_shape": "hm"
    },
    "kernelspec": {
      "name": "python3",
      "display_name": "Python 3"
    },
    "language_info": {
      "name": "python"
    }
  },
  "cells": [
    {
      "cell_type": "markdown",
      "metadata": {
        "id": "view-in-github"
      },
      "source": [
        "<a href=\"https://colab.research.google.com/github/tushar-semwal/fedperf/blob/main/Vineeth/FedAvg_CIFAR.ipynb\" target=\"_parent\"><img src=\"https://colab.research.google.com/assets/colab-badge.svg\" alt=\"Open In Colab\"/></a>"
      ]
    },
    {
      "cell_type": "code",
      "metadata": {
        "id": "yKcpjZLrQQJV"
      },
      "source": [
        "%%capture output\n",
        "try:\n",
        "    from google.colab import drive\n",
        "    drive.mount('/content/drive')\n",
        "\n",
        "    import os\n",
        "    path = '/content/drive/MyDrive/Colab Notebooks/OpenMined/'\n",
        "    os.makedirs(path, exist_ok=True)\n",
        "except:\n",
        "    path = './'"
      ],
      "execution_count": 1,
      "outputs": []
    },
    {
      "cell_type": "markdown",
      "metadata": {
        "id": "-0_nKpfq2h1R"
      },
      "source": [
        "## Imports"
      ]
    },
    {
      "cell_type": "code",
      "metadata": {
        "id": "DLLNM9X2JbQ8",
        "colab": {
          "base_uri": "https://localhost:8080/"
        },
        "outputId": "9ff9819f-6b71-4bc9-cf48-abaad4ad628c"
      },
      "source": [
        "%load_ext tensorboard\n",
        "import os\n",
        "import numpy as np\n",
        "import matplotlib\n",
        "import matplotlib.pyplot as plt\n",
        "import copy\n",
        "import random\n",
        "import time\n",
        "\n",
        "import torch\n",
        "import torch.nn as nn\n",
        "import torch.nn.functional as F\n",
        "\n",
        "from torch.utils.data import Dataset, DataLoader\n",
        "from torch.utils.tensorboard import SummaryWriter\n",
        "from torchvision import transforms, utils, datasets\n",
        "from torchsummary import summary\n",
        "\n",
        "\n",
        "# Check assigned GPU\n",
        "gpu_info = !nvidia-smi\n",
        "gpu_info = '\\n'.join(gpu_info)\n",
        "if gpu_info.find('failed') >= 0:\n",
        "  print('Select the Runtime > \"Change runtime type\" menu to enable a GPU accelerator, ')\n",
        "  print('and then re-execute this cell.')\n",
        "else:\n",
        "  print(gpu_info)\n",
        "\n",
        "# set manual seed for reproducibility\n",
        "seed = 42\n",
        "\n",
        "# general reproducibility\n",
        "random.seed(seed)\n",
        "np.random.seed(seed)\n",
        "torch.manual_seed(seed)\n",
        "\n",
        "# gpu training specific\n",
        "torch.backends.cudnn.deterministic = True\n",
        "torch.backends.cudnn.benchmark = False"
      ],
      "execution_count": 2,
      "outputs": [
        {
          "output_type": "stream",
          "text": [
            "Tue Apr 27 14:35:32 2021       \n",
            "+-----------------------------------------------------------------------------+\n",
            "| NVIDIA-SMI 465.19.01    Driver Version: 460.32.03    CUDA Version: 11.2     |\n",
            "|-------------------------------+----------------------+----------------------+\n",
            "| GPU  Name        Persistence-M| Bus-Id        Disp.A | Volatile Uncorr. ECC |\n",
            "| Fan  Temp  Perf  Pwr:Usage/Cap|         Memory-Usage | GPU-Util  Compute M. |\n",
            "|                               |                      |               MIG M. |\n",
            "|===============================+======================+======================|\n",
            "|   0  Tesla K80           Off  | 00000000:00:04.0 Off |                    0 |\n",
            "| N/A   59C    P0    70W / 149W |      0MiB / 11441MiB |      0%      Default |\n",
            "|                               |                      |                  N/A |\n",
            "+-------------------------------+----------------------+----------------------+\n",
            "                                                                               \n",
            "+-----------------------------------------------------------------------------+\n",
            "| Processes:                                                                  |\n",
            "|  GPU   GI   CI        PID   Type   Process name                  GPU Memory |\n",
            "|        ID   ID                                                   Usage      |\n",
            "|=============================================================================|\n",
            "|  No running processes found                                                 |\n",
            "+-----------------------------------------------------------------------------+\n"
          ],
          "name": "stdout"
        }
      ]
    },
    {
      "cell_type": "markdown",
      "metadata": {
        "id": "NY4eWzGiL6Mj"
      },
      "source": [
        "## Load the CIFAR Dataset"
      ]
    },
    {
      "cell_type": "code",
      "metadata": {
        "id": "Nc-HQXANvV_u"
      },
      "source": [
        "# torch.cuda.set_device('cuda:1')"
      ],
      "execution_count": 3,
      "outputs": []
    },
    {
      "cell_type": "code",
      "metadata": {
        "id": "G649tjTXLL8F",
        "colab": {
          "base_uri": "https://localhost:8080/"
        },
        "outputId": "3b9295ed-3f4e-4c21-ecce-b746b59c8dfb"
      },
      "source": [
        "# create transforms\n",
        "# We will just convert to tensor and normalize since no special transforms are mentioned in the paper\n",
        "transform_train = transforms.Compose([\n",
        "    transforms.RandomCrop(32, padding=4),\n",
        "    transforms.RandomHorizontalFlip(),\n",
        "    transforms.ToTensor(),\n",
        "    transforms.Normalize((0.4914, 0.4822, 0.4465), (0.2023, 0.1994, 0.2010)),\n",
        "])\n",
        "\n",
        "# Normalize the test set same as training set without augmentation\n",
        "transform_test = transforms.Compose([\n",
        "    transforms.ToTensor(),\n",
        "    transforms.Normalize((0.4914, 0.4822, 0.4465), (0.2023, 0.1994, 0.2010)),\n",
        "])\n",
        "\n",
        "cifar_data_train = datasets.CIFAR10('../data/cifar10/', train=True, download=True, transform=transform_train)\n",
        "cifar_data_test = datasets.CIFAR10('../data/cifar10/', train=False, download=True, transform=transform_test)"
      ],
      "execution_count": 4,
      "outputs": [
        {
          "output_type": "stream",
          "text": [
            "Files already downloaded and verified\n",
            "Files already downloaded and verified\n"
          ],
          "name": "stdout"
        }
      ]
    },
    {
      "cell_type": "code",
      "metadata": {
        "id": "pOtLLX66b1Ad",
        "colab": {
          "base_uri": "https://localhost:8080/"
        },
        "outputId": "5521af5d-5132-4e2b-8faa-3ff428cf38bc"
      },
      "source": [
        "classes = np.array(list(cifar_data_train.class_to_idx.values()))\n",
        "classes_test = np.array(list(cifar_data_test.class_to_idx.values()))\n",
        "num_classes = len(classes_test)\n",
        "print(\"Classes: {} \\tType: {}\".format(classes, type(classes)))\n",
        "print(\"Classes Test: {} \\tType: {}\".format(classes_test, type(classes)))\n"
      ],
      "execution_count": 5,
      "outputs": [
        {
          "output_type": "stream",
          "text": [
            "Classes: [0 1 2 3 4 5 6 7 8 9] \tType: <class 'numpy.ndarray'>\n",
            "Classes Test: [0 1 2 3 4 5 6 7 8 9] \tType: <class 'numpy.ndarray'>\n"
          ],
          "name": "stdout"
        }
      ]
    },
    {
      "cell_type": "code",
      "metadata": {
        "id": "wa4TJs-AVJ2O",
        "colab": {
          "base_uri": "https://localhost:8080/"
        },
        "outputId": "2df220ac-0f41-4aac-c1de-9ac4f11c18c7"
      },
      "source": [
        "print(\"Image Shape: {}\".format(cifar_data_train.data[0].shape))"
      ],
      "execution_count": 6,
      "outputs": [
        {
          "output_type": "stream",
          "text": [
            "Image Shape: (32, 32, 3)\n"
          ],
          "name": "stdout"
        }
      ]
    },
    {
      "cell_type": "markdown",
      "metadata": {
        "id": "jCOONkg-zV7Y"
      },
      "source": [
        "## Visualize Data"
      ]
    },
    {
      "cell_type": "code",
      "metadata": {
        "id": "R9MK03TZw6Qs"
      },
      "source": [
        "def imshow(img):\n",
        "\t#img = img/2 + 0.5 #unnormalize the image\n",
        "\tplt.imshow(img, cmap='hsv') # convert from tensor to image"
      ],
      "execution_count": 7,
      "outputs": []
    },
    {
      "cell_type": "code",
      "metadata": {
        "id": "gMJ0Kx4Kw-_H"
      },
      "source": [
        "def visualize(dataset):\n",
        "  figure = plt.figure(figsize=(25,4))\n",
        "  for i in range(20):\n",
        "    axis = figure.add_subplot(2, 20/2, i+1, xticks=[], yticks=[])\n",
        "    data = dataset.data[i]\n",
        "    #data = data.numpy()\n",
        "\n",
        "    target = dataset.targets[i]\n",
        "    #target = target.numpy()\n",
        "    imshow(data)\n",
        "    axis.set_title(target)\n"
      ],
      "execution_count": 8,
      "outputs": []
    },
    {
      "cell_type": "code",
      "metadata": {
        "id": "8bPOwKg10Ro7",
        "colab": {
          "base_uri": "https://localhost:8080/",
          "height": 268
        },
        "outputId": "bb6fab8a-1d53-4750-8a46-0773a9f66e1a"
      },
      "source": [
        "visualize(cifar_data_train)"
      ],
      "execution_count": 9,
      "outputs": [
        {
          "output_type": "display_data",
          "data": {
            "image/png": "[encoded data removed]",
            "text/plain": [
              "<Figure size 1800x288 with 20 Axes>"
            ]
          },
          "metadata": {
            "tags": []
          }
        }
      ]
    },
    {
      "cell_type": "code",
      "metadata": {
        "id": "RKoh5Cf70UYu",
        "colab": {
          "base_uri": "https://localhost:8080/",
          "height": 268
        },
        "outputId": "48becdf7-74c2-412b-99b0-e7bcc2b6ead8"
      },
      "source": [
        "visualize(cifar_data_test)"
      ],
      "execution_count": 10,
      "outputs": [
        {
          "output_type": "display_data",
          "data": {
            "image/png": "[encoded data removed]",
            "text/plain": [
              "<Figure size 1800x288 with 20 Axes>"
            ]
          },
          "metadata": {
            "tags": []
          }
        }
      ]
    },
    {
      "cell_type": "markdown",
      "metadata": {
        "id": "ctjRsETiO1qO"
      },
      "source": [
        "## Partitioning the Data (IID and non-IID)"
      ]
    },
    {
      "cell_type": "code",
      "metadata": {
        "id": "3_v8lyrgO5dD"
      },
      "source": [
        "def iid_partition(dataset, clients):\n",
        "  \"\"\"\n",
        "  I.I.D paritioning of data over clients\n",
        "  Shuffle the data\n",
        "  Split it between clients\n",
        "  \n",
        "  params:\n",
        "    - dataset (torch.utils.Dataset): Dataset containing the CIFAR Images\n",
        "    - clients (int): Number of Clients to split the data between\n",
        "\n",
        "  returns:\n",
        "    - Dictionary of image indexes for each client\n",
        "  \"\"\"\n",
        "\n",
        "  num_items_per_client = int(len(dataset)/clients)\n",
        "  client_dict = {}\n",
        "  image_idxs = [i for i in range(len(dataset))]\n",
        "\n",
        "  for i in range(clients):\n",
        "    client_dict[i] = set(np.random.choice(image_idxs, num_items_per_client, replace=False))\n",
        "    image_idxs = list(set(image_idxs) - client_dict[i])\n",
        "\n",
        "  return client_dict"
      ],
      "execution_count": 11,
      "outputs": []
    },
    {
      "cell_type": "code",
      "metadata": {
        "id": "4zMdliGMQoSl"
      },
      "source": [
        "def non_iid_partition(dataset, clients, total_shards, shards_size, num_shards_per_client):\n",
        "  \"\"\"\n",
        "  non I.I.D parititioning of data over clients\n",
        "  Sort the data by the digit label\n",
        "  Divide the data into N shards of size S\n",
        "  Each of the clients will get X shards\n",
        "\n",
        "  params:\n",
        "    - dataset (torch.utils.Dataset): Dataset containing the CIFAR Images\n",
        "    - clients (int): Number of Clients to split the data between\n",
        "    - total_shards (int): Number of shards to partition the data in\n",
        "    - shards_size (int): Size of each shard \n",
        "    - num_shards_per_client (int): Number of shards of size shards_size that each client receives\n",
        "\n",
        "  returns:\n",
        "    - Dictionary of image indexes for each client\n",
        "  \"\"\"\n",
        "  \n",
        "  shard_idxs = [i for i in range(total_shards)]\n",
        "  client_dict = {i: np.array([], dtype='int64') for i in range(clients)}\n",
        "  idxs = np.arange(len(dataset))\n",
        "  data_labels = np.array(dataset.targets)\n",
        "\n",
        "  # sort the labels\n",
        "  label_idxs = np.vstack((idxs, data_labels))\n",
        "  label_idxs = label_idxs[:, label_idxs[1,:].argsort()]\n",
        "  idxs = label_idxs[0,:]\n",
        "\n",
        "  # divide the data into total_shards of size shards_size\n",
        "  # assign num_shards_per_client to each client\n",
        "  for i in range(clients):\n",
        "    rand_set = set(np.random.choice(shard_idxs, num_shards_per_client, replace=False))\n",
        "    shard_idxs = list(set(shard_idxs) - rand_set)\n",
        "\n",
        "    for rand in rand_set:\n",
        "      client_dict[i] = np.concatenate((client_dict[i], idxs[rand*shards_size:(rand+1)*shards_size]), axis=0)\n",
        "  \n",
        "  return client_dict\n",
        "\n",
        "\n",
        "\n"
      ],
      "execution_count": 12,
      "outputs": []
    },
    {
      "cell_type": "markdown",
      "metadata": {
        "id": "EUP_bcedcLwB"
      },
      "source": [
        "## Models"
      ]
    },
    {
      "cell_type": "code",
      "metadata": {
        "id": "CvoDNFKbZST5"
      },
      "source": [
        "class CIFAR_MLP(nn.Module):\n",
        "  def __init__(self):\n",
        "    super(CIFAR_MLP, self).__init__()\n",
        "    self.fc1 = nn.Linear(3 * 32 * 32, 2634)\n",
        "    self.fc2 = nn.Linear(2634, 2196) \n",
        "    self.fc3 = nn.Linear(2196, 1758)\n",
        "    self.fc4 = nn.Linear(1758, 1320)\n",
        "    self.fc5 = nn.Linear(1320, 882)\n",
        "    self.fc6 = nn.Linear(882, 444) \n",
        "    self.fc7 = nn.Linear(444, 10) \n",
        "\n",
        "  def forward(self, x):\n",
        "    x = x.view(-1, 3 * 32 * 32)\n",
        "    x = F.relu(self.fc1(x))\n",
        "    x = F.relu(self.fc2(x))\n",
        "    x = F.relu(self.fc3(x))\n",
        "    x = F.relu(self.fc4(x))\n",
        "    x = F.relu(self.fc5(x))\n",
        "    x = F.relu(self.fc6(x))\n",
        "\n",
        "    x = self.fc7(x)\n",
        "    return x"
      ],
      "execution_count": 13,
      "outputs": []
    },
    {
      "cell_type": "code",
      "metadata": {
        "id": "ut1hZ8x3qYPZ"
      },
      "source": [
        "class CIFAR_CNN(nn.Module):\n",
        "  def __init__(self):\n",
        "    super(CIFAR_CNN, self).__init__()\n",
        "\n",
        "    self.conv_layer = nn.Sequential(\n",
        "      nn.Conv2d(in_channels=3, out_channels=32, kernel_size=3, padding=1),\n",
        "      nn.BatchNorm2d(32),\n",
        "      nn.ReLU(inplace=True),\n",
        "      nn.Conv2d(in_channels=32, out_channels=64, kernel_size=3, padding=1),\n",
        "      nn.ReLU(inplace=True),\n",
        "      nn.MaxPool2d(kernel_size=2, stride=2),\n",
        "\n",
        "      nn.Conv2d(in_channels=64, out_channels=128, kernel_size=3, padding=1),\n",
        "      nn.BatchNorm2d(128),\n",
        "      nn.ReLU(inplace=True),\n",
        "      nn.Conv2d(in_channels=128, out_channels=128, kernel_size=3, padding=1),\n",
        "      nn.ReLU(inplace=True),\n",
        "      nn.MaxPool2d(kernel_size=2, stride=2),\n",
        "      nn.Dropout2d(p=0.05),\n",
        "\n",
        "      nn.Conv2d(in_channels=128, out_channels=256, kernel_size=3, padding=1),\n",
        "      nn.BatchNorm2d(256),\n",
        "      nn.ReLU(inplace=True),\n",
        "      nn.Conv2d(in_channels=256, out_channels=256, kernel_size=3, padding=1),\n",
        "      nn.ReLU(inplace=True),\n",
        "      nn.MaxPool2d(kernel_size=2, stride=2),\n",
        "    )\n",
        "\n",
        "    self.fc_layer = nn.Sequential(\n",
        "      nn.Dropout(p=0.1),\n",
        "      nn.Linear(4096, 1024),\n",
        "      nn.ReLU(inplace=True),\n",
        "      nn.Linear(1024, 512),\n",
        "      nn.ReLU(inplace=True),\n",
        "      nn.Dropout(p=0.1),\n",
        "      nn.Linear(512, 10)\n",
        "    )\n",
        "\n",
        "\n",
        "  def forward(self, x):      \n",
        "    # conv layers\n",
        "    x = self.conv_layer(x)\n",
        "    \n",
        "    # flatten\n",
        "    x = x.view(x.size(0), -1)\n",
        "    \n",
        "    # fc layer\n",
        "    x = self.fc_layer(x)\n",
        "\n",
        "    return x"
      ],
      "execution_count": 14,
      "outputs": []
    },
    {
      "cell_type": "markdown",
      "metadata": {
        "id": "uVv4HA9HuLtr"
      },
      "source": [
        "### Print Model Summaries"
      ]
    },
    {
      "cell_type": "code",
      "metadata": {
        "id": "-H2jR2-Id4AA",
        "colab": {
          "base_uri": "https://localhost:8080/"
        },
        "outputId": "645c252d-5610-4e9e-dc2c-359d57c5959f"
      },
      "source": [
        "cifar_mlp = CIFAR_MLP()\n",
        "cifar_cnn = CIFAR_CNN()\n",
        "\n",
        "if torch.cuda.is_available():\n",
        "  cifar_mlp.cuda()\n",
        "  cifar_cnn.cuda()\n",
        "\n",
        "print(\"CIFAR MLP SUMMARY\")\n",
        "print(summary(cifar_mlp, (32,32,3)))\n",
        "\n",
        "print(\"\\nCIFAR CNN SUMMARY\")\n",
        "print(summary(cifar_cnn, (3, 32,32)))"
      ],
      "execution_count": 15,
      "outputs": [
        {
          "output_type": "stream",
          "text": [
            "CIFAR MLP SUMMARY\n",
            "----------------------------------------------------------------\n",
            "        Layer (type)               Output Shape         Param #\n",
            "================================================================\n",
            "            Linear-1                 [-1, 2634]       8,094,282\n",
            "            Linear-2                 [-1, 2196]       5,786,460\n",
            "            Linear-3                 [-1, 1758]       3,862,326\n",
            "            Linear-4                 [-1, 1320]       2,321,880\n",
            "            Linear-5                  [-1, 882]       1,165,122\n",
            "            Linear-6                  [-1, 444]         392,052\n",
            "            Linear-7                   [-1, 10]           4,450\n",
            "================================================================\n",
            "Total params: 21,626,572\n",
            "Trainable params: 21,626,572\n",
            "Non-trainable params: 0\n",
            "----------------------------------------------------------------\n",
            "Input size (MB): 0.01\n",
            "Forward/backward pass size (MB): 0.07\n",
            "Params size (MB): 82.50\n",
            "Estimated Total Size (MB): 82.58\n",
            "----------------------------------------------------------------\n",
            "None\n",
            "\n",
            "CIFAR CNN SUMMARY\n",
            "----------------------------------------------------------------\n",
            "        Layer (type)               Output Shape         Param #\n",
            "================================================================\n",
            "            Conv2d-1           [-1, 32, 32, 32]             896\n",
            "       BatchNorm2d-2           [-1, 32, 32, 32]              64\n",
            "              ReLU-3           [-1, 32, 32, 32]               0\n",
            "            Conv2d-4           [-1, 64, 32, 32]          18,496\n",
            "              ReLU-5           [-1, 64, 32, 32]               0\n",
            "         MaxPool2d-6           [-1, 64, 16, 16]               0\n",
            "            Conv2d-7          [-1, 128, 16, 16]          73,856\n",
            "       BatchNorm2d-8          [-1, 128, 16, 16]             256\n",
            "              ReLU-9          [-1, 128, 16, 16]               0\n",
            "           Conv2d-10          [-1, 128, 16, 16]         147,584\n",
            "             ReLU-11          [-1, 128, 16, 16]               0\n",
            "        MaxPool2d-12            [-1, 128, 8, 8]               0\n",
            "        Dropout2d-13            [-1, 128, 8, 8]               0\n",
            "           Conv2d-14            [-1, 256, 8, 8]         295,168\n",
            "      BatchNorm2d-15            [-1, 256, 8, 8]             512\n",
            "             ReLU-16            [-1, 256, 8, 8]               0\n",
            "           Conv2d-17            [-1, 256, 8, 8]         590,080\n",
            "             ReLU-18            [-1, 256, 8, 8]               0\n",
            "        MaxPool2d-19            [-1, 256, 4, 4]               0\n",
            "          Dropout-20                 [-1, 4096]               0\n",
            "           Linear-21                 [-1, 1024]       4,195,328\n",
            "             ReLU-22                 [-1, 1024]               0\n",
            "           Linear-23                  [-1, 512]         524,800\n",
            "             ReLU-24                  [-1, 512]               0\n",
            "          Dropout-25                  [-1, 512]               0\n",
            "           Linear-26                   [-1, 10]           5,130\n",
            "================================================================\n",
            "Total params: 5,852,170\n",
            "Trainable params: 5,852,170\n",
            "Non-trainable params: 0\n",
            "----------------------------------------------------------------\n",
            "Input size (MB): 0.01\n",
            "Forward/backward pass size (MB): 3.96\n",
            "Params size (MB): 22.32\n",
            "Estimated Total Size (MB): 26.30\n",
            "----------------------------------------------------------------\n",
            "None\n"
          ],
          "name": "stdout"
        }
      ]
    },
    {
      "cell_type": "markdown",
      "metadata": {
        "id": "gf_8XEXa-gZ7"
      },
      "source": [
        "## FedProx"
      ]
    },
    {
      "cell_type": "markdown",
      "metadata": {
        "id": "XOchMapqvV_7"
      },
      "source": [
        "### Systems Heterogeneity Simulations\n",
        "\n",
        "Generate epochs for selected clients based on percentage of devices that corresponds to heterogeneity. \n",
        "\n",
        "Assign x number of epochs (chosen unifirmly at random between [1, E]) to 0%, 50% or 90% of the selected devices, respectively. Settings where 0% devices perform fewer than E epochs of work correspond to the environments without system heterogeneity, while 90% of the devices sending their partial solutions corresponds to highly heterogenous system."
      ]
    },
    {
      "cell_type": "code",
      "metadata": {
        "id": "qRQZRPaZvV_7"
      },
      "source": [
        "def GenerateLocalEpochs(percentage, size, max_epochs):\n",
        "  ''' Method generates list of epochs for selected clients\n",
        "  to replicate system heteroggeneity\n",
        "\n",
        "  Params:\n",
        "    percentage: percentage of clients to have fewer than E epochs\n",
        "    size:       total size of the list\n",
        "    max_epochs: maximum value for local epochs\n",
        "  \n",
        "  Returns:\n",
        "    List of size epochs for each Client Update\n",
        "\n",
        "  '''\n",
        "\n",
        "  # if percentage is 0 then each client runs for E epochs\n",
        "  if percentage == 0:\n",
        "      return np.array([max_epochs]*size)\n",
        "  else:\n",
        "    # get the number of clients to have fewer than E epochs\n",
        "    heterogenous_size = int((percentage/100) * size)\n",
        "\n",
        "    # generate random uniform epochs of heterogenous size between 1 and E\n",
        "    epoch_list = np.random.randint(1, max_epochs, heterogenous_size)\n",
        "\n",
        "    # the rest of the clients will have E epochs\n",
        "    remaining_size = size - heterogenous_size\n",
        "    rem_list = [max_epochs]*remaining_size\n",
        "\n",
        "    epoch_list = np.append(epoch_list, rem_list, axis=0)\n",
        "    \n",
        "    # shuffle the list and return\n",
        "    np.random.shuffle(epoch_list)\n",
        "\n",
        "    return epoch_list"
      ],
      "execution_count": 16,
      "outputs": []
    },
    {
      "cell_type": "markdown",
      "metadata": {
        "id": "hGqruzfzvV_8"
      },
      "source": [
        "## Federated Averaging"
      ]
    },
    {
      "cell_type": "markdown",
      "metadata": {
        "id": "L-aNdQsQ-Kvp"
      },
      "source": [
        "### Local Training (Client Update)\n",
        "\n",
        "Local training for the model on client side"
      ]
    },
    {
      "cell_type": "code",
      "metadata": {
        "id": "oX6OsQyO-Gz7"
      },
      "source": [
        "class CustomDataset(Dataset):\n",
        "  def __init__(self, dataset, idxs):\n",
        "      self.dataset = dataset\n",
        "      self.idxs = list(idxs)\n",
        "\n",
        "  def __len__(self):\n",
        "      return len(self.idxs)\n",
        "\n",
        "  def __getitem__(self, item):\n",
        "      image, label = self.dataset[self.idxs[item]]\n",
        "      return image, label\n",
        "\n",
        "\n",
        "class ClientUpdate(object):\n",
        "  def __init__(self, dataset, batchSize, learning_rate, epochs, idxs, mu, algorithm):\n",
        "    self.train_loader = DataLoader(CustomDataset(dataset, idxs), batch_size=batchSize, shuffle=True)\n",
        "    self.algorithm = algorithm\n",
        "    self.learning_rate = learning_rate\n",
        "    self.epochs = epochs\n",
        "\n",
        "  def train(self, model):\n",
        "    criterion = nn.CrossEntropyLoss()\n",
        "    proximal_criterion = nn.MSELoss(reduction='mean')\n",
        "    optimizer = torch.optim.SGD(model.parameters(), lr=self.learning_rate, momentum=0.5)\n",
        "\n",
        "    # use the weights of global model for proximal term calculation\n",
        "    global_model = copy.deepcopy(model)\n",
        "\n",
        "    # calculate local training time\n",
        "    start_time = time.time()\n",
        "\n",
        "\n",
        "    e_loss = []\n",
        "    for epoch in range(1, self.epochs+1):\n",
        "\n",
        "      train_loss = 0.0\n",
        "\n",
        "      model.train()\n",
        "      for data, labels in self.train_loader:\n",
        "\n",
        "        if torch.cuda.is_available():\n",
        "          data, labels = data.cuda(), labels.cuda()\n",
        "\n",
        "        # clear the gradients\n",
        "        optimizer.zero_grad()\n",
        "        # make a forward pass\n",
        "        output = model(data)\n",
        "\n",
        "        # calculate the loss + the proximal term\n",
        "        _, pred = torch.max(output, 1)\n",
        "\n",
        "        if self.algorithm == 'fedprox':\n",
        "          proximal_term = 0.0\n",
        "\n",
        "          # iterate through the current and global model parameters\n",
        "          for w, w_t in zip(model.parameters(), global_model.parameters()) :\n",
        "            # update the proximal term \n",
        "            #proximal_term += torch.sum(torch.abs((w-w_t)**2))\n",
        "            proximal_term += (w-w_t).norm(2)\n",
        "\n",
        "          loss = criterion(output, labels) + (mu/2)*proximal_term\n",
        "        else:\n",
        "          loss = criterion(output, labels)\n",
        "    \n",
        "        # do a backwards pass\n",
        "        loss.backward()\n",
        "        # perform a single optimization step\n",
        "        optimizer.step()\n",
        "        # update training loss\n",
        "        train_loss += loss.item()*data.size(0)\n",
        "\n",
        "      # average losses\n",
        "      train_loss = train_loss/len(self.train_loader.dataset)\n",
        "      e_loss.append(train_loss)\n",
        "\n",
        "    total_loss = sum(e_loss)/len(e_loss)\n",
        "\n",
        "    return model.state_dict(), total_loss, (time.time() - start_time)"
      ],
      "execution_count": 17,
      "outputs": []
    },
    {
      "cell_type": "markdown",
      "metadata": {
        "id": "Ukgh1DVHE2Ds"
      },
      "source": [
        "### Server Side Training\n",
        "\n",
        "Following Algorithm 1 from the paper"
      ]
    },
    {
      "cell_type": "code",
      "metadata": {
        "id": "1NF1e33BgpeL"
      },
      "source": [
        "def training(model, rounds, batch_size, lr, ds, ds_test, data_dict, C, K, E, mu, percentage, plt_title, plt_color, target_test_accuracy, algorithm=\"fedprox\"):\n",
        "  \"\"\"\n",
        "  Function implements the Federated Averaging Algorithm from the FedAvg paper.\n",
        "  Specifically, this function is used for the server side training and weight update\n",
        "\n",
        "  Params:\n",
        "    - model:           PyTorch model to train\n",
        "    - rounds:          Number of communication rounds for the client update\n",
        "    - batch_size:      Batch size for client update training\n",
        "    - lr:              Learning rate used for client update training\n",
        "    - ds:              Dataset used for training\n",
        "    - ds_test:         Dataset used for testing\n",
        "    - data_dict:       Type of data partition used for training (IID or non-IID)\n",
        "    - C:               Fraction of clients randomly chosen to perform computation on each round\n",
        "    - K:               Total number of clients\n",
        "    - E:               Number of training passes each client makes over its local dataset per round\n",
        "    - tb_writer_name:  Directory name to save the tensorboard logs\n",
        "  Returns:\n",
        "    - model:           Trained model on the server\n",
        "  \"\"\"\n",
        "\n",
        "  # global model weights\n",
        "  global_weights = model.state_dict()\n",
        "\n",
        "  # training loss\n",
        "  # train_accuracy = []\n",
        "  train_loss = []\n",
        "  test_accuracy = []\n",
        "  test_loss = []\n",
        "\n",
        "  # store last loss for convergence\n",
        "  last_loss = 0.0\n",
        "\n",
        "  # total time taken \n",
        "  total_time = 0\n",
        "  start = time.time()\n",
        "\n",
        "  print(f\"System heterogeneity set to {percentage}% stragglers.\\n\")\n",
        "  print(f\"Picking {max(int(C*K),1 )} random clients per round.\\n\")\n",
        "\n",
        "  for curr_round in range(1, rounds+1):\n",
        "    w, local_loss, lst_local_train_time = [], [], []\n",
        "\n",
        "    m = max(int(C*K), 1)\n",
        "\n",
        "    heterogenous_epoch_list = GenerateLocalEpochs(percentage, size=m, max_epochs=E)\n",
        "    heterogenous_epoch_list = np.array(heterogenous_epoch_list)\n",
        "\n",
        "    S_t = np.random.choice(range(K), m, replace=False)\n",
        "    S_t = np.array(S_t)\n",
        "    \n",
        "    # For Federated Averaging, drop all the clients that are stragglers\n",
        "    if algorithm == 'fedavg':\n",
        "      stragglers_indices = np.argwhere(heterogenous_epoch_list < E)\n",
        "      heterogenous_epoch_list = np.delete(heterogenous_epoch_list, stragglers_indices)\n",
        "      S_t = np.delete(S_t, stragglers_indices)\n",
        "\n",
        "    for k, epoch in zip(S_t, heterogenous_epoch_list):\n",
        "      local_update = ClientUpdate(dataset=ds, batchSize=batch_size, learning_rate=lr, epochs=epoch, idxs=data_dict[k], mu=mu, algorithm=algorithm)\n",
        "      weights, loss, local_train_time = local_update.train(model=copy.deepcopy(model))\n",
        "\n",
        "      w.append(copy.deepcopy(weights))\n",
        "      local_loss.append(copy.deepcopy(loss))\n",
        "      lst_local_train_time.append(local_train_time)\n",
        "\n",
        "    # calculate time to update the global weights\n",
        "    global_start_time = time.time()\n",
        "\n",
        "    # updating the global weights\n",
        "    weights_avg = copy.deepcopy(w[0])\n",
        "    for k in weights_avg.keys():\n",
        "      for i in range(1, len(w)):\n",
        "        weights_avg[k] += w[i][k]\n",
        "\n",
        "      weights_avg[k] = torch.div(weights_avg[k], len(w))\n",
        "\n",
        "    global_weights = weights_avg\n",
        "    global_end_time = time.time()\n",
        "\n",
        "    # calculate total time \n",
        "    total_time += (global_end_time - global_start_time) + sum(lst_local_train_time)/len(lst_local_train_time)\n",
        "\n",
        "    # move the updated weights to our model state dict\n",
        "    model.load_state_dict(global_weights)\n",
        "\n",
        "    # loss\n",
        "    loss_avg = sum(local_loss) / len(local_loss)\n",
        "\n",
        "    # test accuracy\n",
        "    criterion = nn.CrossEntropyLoss()\n",
        "    test_accuracy_current, test_loss_current = testing(copy.deepcopy(model), ds_test, 128, criterion, num_classes, classes_test)\n",
        "    test_accuracy.append(test_accuracy_current)\n",
        "    test_loss.append(test_loss_current)\n",
        "\n",
        "    print(f\"Round: {curr_round}... \\tAverage Train Loss: {round(loss_avg, 3)}... \\tTest Loss: {test_loss_current}... \\tTest Accuracy: {test_accuracy_current}\")\n",
        "    train_loss.append(loss_avg)\n",
        "\n",
        "    # break if we achieve the target test accuracy\n",
        "#     if test_accuracy_current >= target_test_accuracy:\n",
        "#       rounds = curr_round\n",
        "#       break\n",
        "\n",
        "    # break if we achieve convergence, i.e., loss between two consecutive rounds is <0.0001\n",
        "    if algorithm == 'fedprox' and abs(loss_avg - last_loss) < 0.0001:\n",
        "      rounds = curr_round\n",
        "      break\n",
        "    \n",
        "    # update the last loss\n",
        "    last_loss = loss_avg\n",
        "\n",
        "  end = time.time()\n",
        "  # plot train loss\n",
        "  fig, ax = plt.subplots()\n",
        "  x_axis = np.arange(1, rounds+1)\n",
        "  y_axis = np.array(train_loss)\n",
        "  ax.plot(x_axis, y_axis)\n",
        "\n",
        "  ax.set(xlabel='Number of Rounds', ylabel='Train Loss', title=plt_title)\n",
        "  ax.grid()\n",
        "  fig.savefig(plt_title+'_Train_loss.jpg', format='jpg')\n",
        "  plt.show()\n",
        "\n",
        "  fig, ax = plt.subplots()\n",
        "  x_axis = np.arange(1, rounds+1)\n",
        "  y_axis = np.array(test_loss)\n",
        "  ax.plot(x_axis, y_axis, 'tab:'+plt_color)\n",
        "\n",
        "  ax.set(xlabel='Number of Rounds', ylabel='Test Loss', title=plt_title)\n",
        "  ax.grid()\n",
        "  fig.savefig(plt_title+'_Test_loss.jpg', format='jpg')\n",
        "  plt.show()\n",
        "\n",
        "\n",
        "  fig, ax = plt.subplots()\n",
        "  x_axis = np.arange(1, rounds+1)\n",
        "  y_axis = np.array(test_accuracy)\n",
        "  ax.plot(x_axis, y_axis, 'tab:'+plt_color)\n",
        "\n",
        "  ax.set(xlabel='Number of Rounds', ylabel='Test Accuracy', title=plt_title)\n",
        "  ax.grid()\n",
        "  fig.savefig(plt_title+'_Test_Accuracy.jpg', format='jpg')\n",
        "  plt.show()\n",
        "  \n",
        "  print(\"Training Done!\")\n",
        "  print(\"Total time taken to Train: {}\\n\\n\".format(end-start))\n",
        "  \n",
        "  return model, train_loss, test_accuracy, test_loss"
      ],
      "execution_count": 18,
      "outputs": []
    },
    {
      "cell_type": "markdown",
      "metadata": {
        "id": "tUYyb4T-uXmF"
      },
      "source": [
        "## Testing Loop"
      ]
    },
    {
      "cell_type": "code",
      "metadata": {
        "id": "uCcIZmO5uan9"
      },
      "source": [
        "def testing(model, dataset, bs, criterion, num_classes, classes, print_info=False):\n",
        "  #test loss \n",
        "  test_loss = 0.0\n",
        "  correct_class = list(0. for i in range(num_classes))\n",
        "  total_class = list(0. for i in range(num_classes))\n",
        "\n",
        "  test_loader = DataLoader(dataset, batch_size=bs)\n",
        "  l = len(test_loader)\n",
        "  model.eval()\n",
        "  for data, labels in test_loader:\n",
        "\n",
        "    if torch.cuda.is_available():\n",
        "      data, labels = data.cuda(), labels.cuda()\n",
        "\n",
        "    output = model(data)\n",
        "    loss = criterion(output, labels)\n",
        "    test_loss += loss.item()*data.size(0)\n",
        "\n",
        "    _, pred = torch.max(output, 1)\n",
        "\n",
        "    correct_tensor = pred.eq(labels.data.view_as(pred))\n",
        "    correct = np.squeeze(correct_tensor.numpy()) if not torch.cuda.is_available() else np.squeeze(correct_tensor.cpu().numpy())\n",
        "\n",
        "    #test accuracy for each object class\n",
        "    for i in range(num_classes):\n",
        "      label = labels.data[i]\n",
        "      correct_class[label] += correct[i].item()\n",
        "      total_class[label] += 1\n",
        "    \n",
        "  # avg test loss\n",
        "  test_loss = test_loss/len(test_loader.dataset)\n",
        "  test_accuracy = 100. * np.sum(correct_class) / np.sum(total_class)\n",
        "\n",
        "  if print_info:\n",
        "    print(\"Test Loss: {:.6f}\\n\".format(test_loss))\n",
        "\n",
        "    for i in range(10):\n",
        "      if total_class[i]>0:\n",
        "        print('Test Accuracy of %5s: %2d%% (%2d/%2d)' % \n",
        "              (classes[i], 100 * correct_class[i] / total_class[i],\n",
        "              np.sum(correct_class[i]), np.sum(total_class[i])))\n",
        "      else:\n",
        "        print('Test Accuracy of %5s: N/A (no training examples)' % (classes[i]))\n",
        "\n",
        "    print('\\nFinal Test  Accuracy: {:.3f} ({}/{})'.format(\n",
        "          100. * np.sum(correct_class) / np.sum(total_class),\n",
        "          np.sum(correct_class), np.sum(total_class)))\n",
        "  \n",
        "  return test_accuracy, test_loss"
      ],
      "execution_count": 19,
      "outputs": []
    },
    {
      "cell_type": "markdown",
      "metadata": {
        "id": "Ri0FqXFeHW-V"
      },
      "source": [
        "## Logger"
      ]
    },
    {
      "cell_type": "code",
      "metadata": {
        "id": "cMBtx9P5c1V_"
      },
      "source": [
        "log_dict = {}\n",
        "NUM_REPEAT = 1"
      ],
      "execution_count": 20,
      "outputs": []
    },
    {
      "cell_type": "markdown",
      "metadata": {
        "id": "4hO5oV6aXqeh"
      },
      "source": [
        "## CIFAR CNN on IID"
      ]
    },
    {
      "cell_type": "markdown",
      "metadata": {
        "id": "flSQv_P4zCfx"
      },
      "source": [
        "### Train\n"
      ]
    },
    {
      "cell_type": "code",
      "metadata": {
        "id": "0ZalcKZtEseA",
        "colab": {
          "base_uri": "https://localhost:8080/",
          "height": 1000
        },
        "outputId": "bbbc44ce-3ff7-44c4-f983-a5f36200eb4c"
      },
      "source": [
        "train_loss_multiple_runs = [None] * NUM_REPEAT\n",
        "test_accuracy_multiple_runs = [None] * NUM_REPEAT\n",
        "test_loss_multiple_runs = [None] * NUM_REPEAT\n",
        "\n",
        "for exp_num in range(NUM_REPEAT):\n",
        "  print(\"Experiment Run Number: \", exp_num)\n",
        "\n",
        "  # number of training rounds\n",
        "  rounds = 50\n",
        "  # client fraction\n",
        "  C = 0.1\n",
        "  # number of clients\n",
        "  K = 100\n",
        "  # number of training passes on local dataset for each roung\n",
        "  E = 5\n",
        "  # batch size\n",
        "  batch_size = 10\n",
        "  # learning Rate\n",
        "  lr=0.05\n",
        "  # proximal term constant\n",
        "  mu = 0.01\n",
        "  # percentage of clients to have fewer than E epochs\n",
        "  percentage = 50\n",
        "\n",
        "  # target_test_accuracy\n",
        "  target_test_accuracy=80.0\n",
        "  # data partition dictionary\n",
        "  iid_dict = iid_partition(cifar_data_train, 100)\n",
        "  # load model\n",
        "  cifar_cnn = CIFAR_CNN()\n",
        "\n",
        "  if torch.cuda.is_available():\n",
        "    cifar_cnn.cuda()\n",
        "\n",
        "  cifar_cnn_iid_trained, train_loss, test_accuracy, test_loss = training(cifar_cnn, rounds, batch_size, lr, cifar_data_train, cifar_data_test, iid_dict, C, K, E, mu, percentage, \"CIFAR CNN on IID Dataset\", \"orange\", target_test_accuracy)\n",
        "\n",
        "  train_loss_multiple_runs[exp_num] = train_loss\n",
        "  test_accuracy_multiple_runs[exp_num] = test_accuracy\n",
        "  test_loss_multiple_runs[exp_num] = test_loss\n",
        "        \n",
        "  del cifar_cnn_iid_trained\n",
        "  torch.cuda.empty_cache()"
      ],
      "execution_count": 21,
      "outputs": [
        {
          "output_type": "stream",
          "text": [
            "Experiment Run Number:  0\n",
            "System heterogeneity set to 50% stragglers.\n",
            "\n",
            "Picking 10 random clients per round.\n",
            "\n",
            "Round: 1... \tAverage Train Loss: 2.196... \tTest Loss: 2.2694858821868897... \tTest Accuracy: 12.91139240506329\n",
            "Round: 2... \tAverage Train Loss: 2.07... \tTest Loss: 1.9600988430023194... \tTest Accuracy: 29.240506329113924\n",
            "Round: 3... \tAverage Train Loss: 1.959... \tTest Loss: 1.744533491897583... \tTest Accuracy: 37.848101265822784\n",
            "Round: 4... \tAverage Train Loss: 1.909... \tTest Loss: 1.6831635299682617... \tTest Accuracy: 39.74683544303797\n",
            "Round: 5... \tAverage Train Loss: 1.845... \tTest Loss: 1.6113636081695557... \tTest Accuracy: 41.139240506329116\n",
            "Round: 6... \tAverage Train Loss: 1.795... \tTest Loss: 1.5587335027694702... \tTest Accuracy: 43.924050632911396\n",
            "Round: 7... \tAverage Train Loss: 1.728... \tTest Loss: 1.480362071800232... \tTest Accuracy: 46.835443037974684\n",
            "Round: 8... \tAverage Train Loss: 1.683... \tTest Loss: 1.4322663375854492... \tTest Accuracy: 49.49367088607595\n",
            "Round: 9... \tAverage Train Loss: 1.629... \tTest Loss: 1.3716419591903686... \tTest Accuracy: 48.9873417721519\n",
            "Round: 10... \tAverage Train Loss: 1.567... \tTest Loss: 1.3160862438201903... \tTest Accuracy: 52.0253164556962\n",
            "Round: 11... \tAverage Train Loss: 1.545... \tTest Loss: 1.2656893369674682... \tTest Accuracy: 53.67088607594937\n",
            "Round: 12... \tAverage Train Loss: 1.484... \tTest Loss: 1.2434374532699586... \tTest Accuracy: 54.936708860759495\n",
            "Round: 13... \tAverage Train Loss: 1.442... \tTest Loss: 1.199847130393982... \tTest Accuracy: 56.32911392405063\n",
            "Round: 14... \tAverage Train Loss: 1.38... \tTest Loss: 1.1583557161331177... \tTest Accuracy: 54.68354430379747\n",
            "Round: 15... \tAverage Train Loss: 1.36... \tTest Loss: 1.1128852994918823... \tTest Accuracy: 58.48101265822785\n",
            "Round: 16... \tAverage Train Loss: 1.338... \tTest Loss: 1.1062361450195313... \tTest Accuracy: 59.36708860759494\n",
            "Round: 17... \tAverage Train Loss: 1.309... \tTest Loss: 1.056713465309143... \tTest Accuracy: 61.89873417721519\n",
            "Round: 18... \tAverage Train Loss: 1.287... \tTest Loss: 1.0291210485458373... \tTest Accuracy: 61.64556962025316\n",
            "Round: 19... \tAverage Train Loss: 1.262... \tTest Loss: 1.017135880470276... \tTest Accuracy: 61.265822784810126\n",
            "Round: 20... \tAverage Train Loss: 1.228... \tTest Loss: 0.9864488013267517... \tTest Accuracy: 63.037974683544306\n",
            "Round: 21... \tAverage Train Loss: 1.184... \tTest Loss: 0.9533173000335693... \tTest Accuracy: 65.0632911392405\n",
            "Round: 22... \tAverage Train Loss: 1.149... \tTest Loss: 0.9347820714950561... \tTest Accuracy: 65.9493670886076\n",
            "Round: 23... \tAverage Train Loss: 1.13... \tTest Loss: 0.9099615424156189... \tTest Accuracy: 67.21518987341773\n",
            "Round: 24... \tAverage Train Loss: 1.092... \tTest Loss: 0.8867146579742432... \tTest Accuracy: 66.45569620253164\n",
            "Round: 25... \tAverage Train Loss: 1.031... \tTest Loss: 0.8756950963020325... \tTest Accuracy: 69.62025316455696\n",
            "Round: 26... \tAverage Train Loss: 1.045... \tTest Loss: 0.8729424746513367... \tTest Accuracy: 69.74683544303798\n",
            "Round: 27... \tAverage Train Loss: 0.981... \tTest Loss: 0.8365834746360779... \tTest Accuracy: 70.88607594936708\n",
            "Round: 28... \tAverage Train Loss: 0.98... \tTest Loss: 0.8242385434150696... \tTest Accuracy: 71.26582278481013\n",
            "Round: 29... \tAverage Train Loss: 0.96... \tTest Loss: 0.8030374431610108... \tTest Accuracy: 72.0253164556962\n",
            "Round: 30... \tAverage Train Loss: 0.961... \tTest Loss: 0.7989301451683044... \tTest Accuracy: 72.0253164556962\n",
            "Round: 31... \tAverage Train Loss: 0.89... \tTest Loss: 0.7751005209922791... \tTest Accuracy: 73.41772151898734\n",
            "Round: 32... \tAverage Train Loss: 0.905... \tTest Loss: 0.7695274837493896... \tTest Accuracy: 73.41772151898734\n",
            "Round: 33... \tAverage Train Loss: 0.875... \tTest Loss: 0.7469799796104432... \tTest Accuracy: 73.16455696202532\n",
            "Round: 34... \tAverage Train Loss: 0.858... \tTest Loss: 0.7411096567153931... \tTest Accuracy: 74.17721518987342\n",
            "Round: 35... \tAverage Train Loss: 0.861... \tTest Loss: 0.7335412578582764... \tTest Accuracy: 73.29113924050633\n",
            "Round: 36... \tAverage Train Loss: 0.828... \tTest Loss: 0.7211386511802673... \tTest Accuracy: 74.30379746835443\n",
            "Round: 37... \tAverage Train Loss: 0.816... \tTest Loss: 0.7018151412010193... \tTest Accuracy: 75.69620253164557\n",
            "Round: 38... \tAverage Train Loss: 0.76... \tTest Loss: 0.6869558089256287... \tTest Accuracy: 75.56962025316456\n",
            "Round: 39... \tAverage Train Loss: 0.778... \tTest Loss: 0.6810766592025757... \tTest Accuracy: 76.20253164556962\n",
            "Round: 40... \tAverage Train Loss: 0.781... \tTest Loss: 0.6689409076213837... \tTest Accuracy: 75.31645569620254\n",
            "Round: 41... \tAverage Train Loss: 0.732... \tTest Loss: 0.661917255783081... \tTest Accuracy: 76.83544303797468\n",
            "Round: 42... \tAverage Train Loss: 0.747... \tTest Loss: 0.6659858508110046... \tTest Accuracy: 76.45569620253164\n",
            "Round: 43... \tAverage Train Loss: 0.718... \tTest Loss: 0.6667215934753418... \tTest Accuracy: 75.69620253164557\n",
            "Round: 44... \tAverage Train Loss: 0.759... \tTest Loss: 0.6373795604228973... \tTest Accuracy: 75.18987341772151\n",
            "Round: 45... \tAverage Train Loss: 0.719... \tTest Loss: 0.6382140902519227... \tTest Accuracy: 77.0886075949367\n",
            "Round: 46... \tAverage Train Loss: 0.679... \tTest Loss: 0.6286144188404084... \tTest Accuracy: 77.46835443037975\n",
            "Round: 47... \tAverage Train Loss: 0.643... \tTest Loss: 0.6385035430908204... \tTest Accuracy: 77.34177215189874\n",
            "Round: 48... \tAverage Train Loss: 0.673... \tTest Loss: 0.6265602502346039... \tTest Accuracy: 78.22784810126582\n",
            "Round: 49... \tAverage Train Loss: 0.684... \tTest Loss: 0.6041256880283356... \tTest Accuracy: 79.36708860759494\n",
            "Round: 50... \tAverage Train Loss: 0.684... \tTest Loss: 0.5955628905296325... \tTest Accuracy: 79.36708860759494\n"
          ],
          "name": "stdout"
        },
        {
          "output_type": "display_data",
          "data": {
            "image/png": "[encoded data removed]",
            "text/plain": [
              "<Figure size 432x288 with 1 Axes>"
            ]
          },
          "metadata": {
            "tags": [],
            "needs_background": "light"
          }
        },
        {
          "output_type": "display_data",
          "data": {
            "image/png": "[encoded data removed]",
            "text/plain": [
              "<Figure size 432x288 with 1 Axes>"
            ]
          },
          "metadata": {
            "tags": [],
            "needs_background": "light"
          }
        },
        {
          "output_type": "display_data",
          "data": {
            "image/png": "[encoded data removed]",
            "text/plain": [
              "<Figure size 432x288 with 1 Axes>"
            ]
          },
          "metadata": {
            "tags": [],
            "needs_background": "light"
          }
        },
        {
          "output_type": "stream",
          "text": [
            "Training Done!\n",
            "Total time taken to Train: 2588.676179409027\n",
            "\n",
            "\n"
          ],
          "name": "stdout"
        }
      ]
    },
    {
      "cell_type": "markdown",
      "metadata": {
        "id": "wNwC82przF6G"
      },
      "source": [
        "### Test"
      ]
    },
    {
      "cell_type": "code",
      "metadata": {
        "id": "qB97BFs9we9w"
      },
      "source": [
        "# criterion = nn.CrossEntropyLoss()\n",
        "# acc, loss = testing(cifar_cnn_iid_trained, cifar_data_test, 128, criterion, num_classes, classes_test, True)"
      ],
      "execution_count": 22,
      "outputs": []
    },
    {
      "cell_type": "code",
      "metadata": {
        "id": "gdQZEZmHHeqt"
      },
      "source": [
        "hyperparams = {'rounds': rounds,\n",
        "               'C': C,\n",
        "               'K': K,\n",
        "               'E': E,\n",
        "               'batch_size': batch_size,\n",
        "               'lr': lr,\n",
        "               'mu': mu,\n",
        "               'percentage': percentage,\n",
        "               'target_test_accuracy': target_test_accuracy,\n",
        "               }\n",
        "\n",
        "log_dict['CIFAR CNN on IID'] = {'train_loss': train_loss_multiple_runs, \n",
        "                                'test_loss': test_loss_multiple_runs, \n",
        "                                'test_accuracy': test_accuracy_multiple_runs,\n",
        "                                'hyperparams': hyperparams,\n",
        "                                }"
      ],
      "execution_count": 23,
      "outputs": []
    },
    {
      "cell_type": "markdown",
      "metadata": {
        "id": "uF8MdSIUYcnl"
      },
      "source": [
        "## CIFAR CNN on Non IID"
      ]
    },
    {
      "cell_type": "markdown",
      "metadata": {
        "id": "a6wXX7JW11bx"
      },
      "source": [
        "### Train\n"
      ]
    },
    {
      "cell_type": "code",
      "metadata": {
        "id": "fCD3kBCKYfBK",
        "colab": {
          "base_uri": "https://localhost:8080/",
          "height": 1000
        },
        "outputId": "1845965f-0d40-4499-d70f-14b2be3e9d55"
      },
      "source": [
        "train_loss_multiple_runs = [None] * NUM_REPEAT\n",
        "test_accuracy_multiple_runs = [None] * NUM_REPEAT\n",
        "test_loss_multiple_runs = [None] * NUM_REPEAT\n",
        "\n",
        "for exp_num in range(NUM_REPEAT):\n",
        "  print(\"Experiment Run Number: \", exp_num)\n",
        "\n",
        "  # number of training rounds\n",
        "  rounds = 50\n",
        "  # client fraction\n",
        "  C = 0.1\n",
        "  # number of clients\n",
        "  K = 100\n",
        "  # number of training passes on local dataset for each roung\n",
        "  E = 5\n",
        "  # batch size\n",
        "  batch_size = 10\n",
        "  # learning Rate\n",
        "  lr=0.05\n",
        "  # proximal term constant\n",
        "  mu = 0.01\n",
        "  # percentage of clients to have fewer than E epochs\n",
        "  percentage = 50\n",
        "  # target_test_accuracy\n",
        "  target_test_accuracy=80.0\n",
        "\n",
        "  # dict containing different type of data partition\n",
        "  data_dict = non_iid_partition(cifar_data_train, 100, 200, 250, 2)\n",
        "  # load model\n",
        "  cifar_cnn = CIFAR_CNN()\n",
        "\n",
        "  if torch.cuda.is_available():\n",
        "    cifar_cnn.cuda()\n",
        " \n",
        "  cifar_cnn_non_iid_trained, train_loss, test_accuracy, test_loss = training(cifar_cnn, rounds, batch_size, lr, cifar_data_train, cifar_data_test, data_dict, C, K, E, mu, percentage, \"CIFAR CNN on Non-IID Dataset\", \"green\", target_test_accuracy)\n",
        "\n",
        "  train_loss_multiple_runs[exp_num] = train_loss\n",
        "  test_accuracy_multiple_runs[exp_num] = test_accuracy\n",
        "  test_loss_multiple_runs[exp_num] = test_loss\n",
        "\n",
        "  del cifar_cnn_non_iid_trained\n",
        "  torch.cuda.empty_cache()"
      ],
      "execution_count": 24,
      "outputs": [
        {
          "output_type": "stream",
          "text": [
            "Experiment Run Number:  0\n",
            "System heterogeneity set to 50% stragglers.\n",
            "\n",
            "Picking 10 random clients per round.\n",
            "\n",
            "Round: 1... \tAverage Train Loss: 0.631... \tTest Loss: 2.3131265205383302... \tTest Accuracy: 9.873417721518987\n",
            "Round: 2... \tAverage Train Loss: 0.686... \tTest Loss: 2.3097647258758545... \tTest Accuracy: 9.873417721518987\n",
            "Round: 3... \tAverage Train Loss: 0.705... \tTest Loss: 2.2952599029541014... \tTest Accuracy: 9.873417721518987\n",
            "Round: 4... \tAverage Train Loss: 0.524... \tTest Loss: 2.251291898345947... \tTest Accuracy: 15.569620253164556\n",
            "Round: 5... \tAverage Train Loss: 0.561... \tTest Loss: 2.2147724369049073... \tTest Accuracy: 21.39240506329114\n",
            "Round: 6... \tAverage Train Loss: 0.513... \tTest Loss: 2.158791097640991... \tTest Accuracy: 21.518987341772153\n",
            "Round: 7... \tAverage Train Loss: 0.564... \tTest Loss: 2.1513923862457274... \tTest Accuracy: 20.88607594936709\n",
            "Round: 8... \tAverage Train Loss: 0.547... \tTest Loss: 2.034435753440857... \tTest Accuracy: 21.89873417721519\n",
            "Round: 9... \tAverage Train Loss: 0.466... \tTest Loss: 2.012986654281616... \tTest Accuracy: 26.075949367088608\n",
            "Round: 10... \tAverage Train Loss: 0.485... \tTest Loss: 2.081910729598999... \tTest Accuracy: 24.810126582278482\n",
            "Round: 11... \tAverage Train Loss: 0.518... \tTest Loss: 2.0105401767730715... \tTest Accuracy: 26.70886075949367\n",
            "Round: 12... \tAverage Train Loss: 0.453... \tTest Loss: 1.7484715202331542... \tTest Accuracy: 39.11392405063291\n",
            "Round: 13... \tAverage Train Loss: 0.364... \tTest Loss: 1.68449370803833... \tTest Accuracy: 36.962025316455694\n",
            "Round: 14... \tAverage Train Loss: 0.556... \tTest Loss: 2.153650096130371... \tTest Accuracy: 24.303797468354432\n",
            "Round: 15... \tAverage Train Loss: 0.445... \tTest Loss: 1.869561358642578... \tTest Accuracy: 30.126582278481013\n",
            "Round: 16... \tAverage Train Loss: 0.466... \tTest Loss: 1.7538074993133546... \tTest Accuracy: 35.69620253164557\n",
            "Round: 17... \tAverage Train Loss: 0.478... \tTest Loss: 1.7632885389328004... \tTest Accuracy: 34.30379746835443\n",
            "Round: 18... \tAverage Train Loss: 0.392... \tTest Loss: 1.8592770114898682... \tTest Accuracy: 32.0253164556962\n",
            "Round: 19... \tAverage Train Loss: 0.411... \tTest Loss: 1.6496485506057739... \tTest Accuracy: 39.87341772151899\n",
            "Round: 20... \tAverage Train Loss: 0.515... \tTest Loss: 1.8098002019882202... \tTest Accuracy: 33.037974683544306\n",
            "Round: 21... \tAverage Train Loss: 0.29... \tTest Loss: 1.6008189641952515... \tTest Accuracy: 40.88607594936709\n",
            "Round: 22... \tAverage Train Loss: 0.322... \tTest Loss: 1.5985825614929199... \tTest Accuracy: 39.24050632911393\n",
            "Round: 23... \tAverage Train Loss: 0.397... \tTest Loss: 1.5497510372161865... \tTest Accuracy: 44.43037974683544\n",
            "Round: 24... \tAverage Train Loss: 0.28... \tTest Loss: 1.8372508655548097... \tTest Accuracy: 36.835443037974684\n",
            "Round: 25... \tAverage Train Loss: 0.4... \tTest Loss: 1.523929605102539... \tTest Accuracy: 44.43037974683544\n",
            "Round: 26... \tAverage Train Loss: 0.419... \tTest Loss: 1.572167586517334... \tTest Accuracy: 42.65822784810127\n",
            "Round: 27... \tAverage Train Loss: 0.362... \tTest Loss: 1.4425521627426148... \tTest Accuracy: 47.21518987341772\n",
            "Round: 28... \tAverage Train Loss: 0.316... \tTest Loss: 1.6143596767425537... \tTest Accuracy: 39.49367088607595\n",
            "Round: 29... \tAverage Train Loss: 0.442... \tTest Loss: 1.438982077407837... \tTest Accuracy: 47.08860759493671\n",
            "Round: 30... \tAverage Train Loss: 0.309... \tTest Loss: 1.8924354034423827... \tTest Accuracy: 40.0\n",
            "Round: 31... \tAverage Train Loss: 0.273... \tTest Loss: 1.368569864845276... \tTest Accuracy: 49.11392405063291\n",
            "Round: 32... \tAverage Train Loss: 0.38... \tTest Loss: 1.6342550941467284... \tTest Accuracy: 37.848101265822784\n",
            "Round: 33... \tAverage Train Loss: 0.371... \tTest Loss: 1.32817516746521... \tTest Accuracy: 52.53164556962025\n",
            "Round: 34... \tAverage Train Loss: 0.301... \tTest Loss: 1.5857422731399535... \tTest Accuracy: 44.55696202531646\n",
            "Round: 35... \tAverage Train Loss: 0.356... \tTest Loss: 1.443281637954712... \tTest Accuracy: 46.45569620253165\n",
            "Round: 36... \tAverage Train Loss: 0.405... \tTest Loss: 1.6572074508666992... \tTest Accuracy: 40.379746835443036\n",
            "Round: 37... \tAverage Train Loss: 0.356... \tTest Loss: 1.3025137823104858... \tTest Accuracy: 49.620253164556964\n",
            "Round: 38... \tAverage Train Loss: 0.265... \tTest Loss: 1.2746554162979127... \tTest Accuracy: 49.620253164556964\n",
            "Round: 39... \tAverage Train Loss: 0.411... \tTest Loss: 1.36698276386261... \tTest Accuracy: 48.48101265822785\n",
            "Round: 40... \tAverage Train Loss: 0.29... \tTest Loss: 1.2839227170944214... \tTest Accuracy: 53.164556962025316\n",
            "Round: 41... \tAverage Train Loss: 0.256... \tTest Loss: 1.1764636203765868... \tTest Accuracy: 56.70886075949367\n",
            "Round: 42... \tAverage Train Loss: 0.29... \tTest Loss: 1.4327839443206787... \tTest Accuracy: 47.46835443037975\n",
            "Round: 43... \tAverage Train Loss: 0.364... \tTest Loss: 1.506028260231018... \tTest Accuracy: 44.43037974683544\n",
            "Round: 44... \tAverage Train Loss: 0.324... \tTest Loss: 1.378275343132019... \tTest Accuracy: 50.50632911392405\n",
            "Round: 45... \tAverage Train Loss: 0.243... \tTest Loss: 1.4351121448516846... \tTest Accuracy: 46.58227848101266\n",
            "Round: 46... \tAverage Train Loss: 0.304... \tTest Loss: 1.3460787719726564... \tTest Accuracy: 49.74683544303797\n",
            "Round: 47... \tAverage Train Loss: 0.308... \tTest Loss: 1.2807590959548951... \tTest Accuracy: 56.70886075949367\n",
            "Round: 48... \tAverage Train Loss: 0.218... \tTest Loss: 1.266895401763916... \tTest Accuracy: 56.32911392405063\n",
            "Round: 49... \tAverage Train Loss: 0.194... \tTest Loss: 1.2111284837722778... \tTest Accuracy: 53.924050632911396\n",
            "Round: 50... \tAverage Train Loss: 0.324... \tTest Loss: 1.358052326965332... \tTest Accuracy: 48.860759493670884\n"
          ],
          "name": "stdout"
        },
        {
          "output_type": "display_data",
          "data": {
            "image/png": "[encoded data removed]",
            "text/plain": [
              "<Figure size 432x288 with 1 Axes>"
            ]
          },
          "metadata": {
            "tags": [],
            "needs_background": "light"
          }
        },
        {
          "output_type": "display_data",
          "data": {
            "image/png": "[encoded data removed]",
            "text/plain": [
              "<Figure size 432x288 with 1 Axes>"
            ]
          },
          "metadata": {
            "tags": [],
            "needs_background": "light"
          }
        },
        {
          "output_type": "display_data",
          "data": {
            "image/png": "[encoded data removed]",
            "text/plain": [
              "<Figure size 432x288 with 1 Axes>"
            ]
          },
          "metadata": {
            "tags": [],
            "needs_background": "light"
          }
        },
        {
          "output_type": "stream",
          "text": [
            "Training Done!\n",
            "Total time taken to Train: 2613.2864480018616\n",
            "\n",
            "\n"
          ],
          "name": "stdout"
        }
      ]
    },
    {
      "cell_type": "markdown",
      "metadata": {
        "id": "4C68J-Kk14dB"
      },
      "source": [
        "### Test"
      ]
    },
    {
      "cell_type": "code",
      "metadata": {
        "id": "_yQ9GiAZ15jE"
      },
      "source": [
        "# criterion = nn.CrossEntropyLoss()\n",
        "# acc, loss = testing(cifar_cnn_non_iid_trained, cifar_data_test, 128, criterion, num_classes, classes_test, True)"
      ],
      "execution_count": 25,
      "outputs": []
    },
    {
      "cell_type": "code",
      "metadata": {
        "id": "dxMcxgLhLvX-"
      },
      "source": [
        "hyperparams = {'rounds': rounds,\n",
        "               'C': C,\n",
        "               'K': K,\n",
        "               'E': E,\n",
        "               'batch_size': batch_size,\n",
        "               'lr': lr,\n",
        "               'mu': mu,\n",
        "               'percentage': percentage,\n",
        "               'target_test_accuracy': target_test_accuracy,\n",
        "               }\n",
        "\n",
        "log_dict['CIFAR CNN on Non IID'] = {'train_loss': train_loss_multiple_runs, \n",
        "                                'test_loss': test_loss_multiple_runs, \n",
        "                                'test_accuracy': test_accuracy_multiple_runs,\n",
        "                                'hyperparams': hyperparams,\n",
        "                                }"
      ],
      "execution_count": 26,
      "outputs": []
    },
    {
      "cell_type": "markdown",
      "metadata": {
        "id": "ptMieSimVxid"
      },
      "source": [
        "## CIFAR MLP on IID"
      ]
    },
    {
      "cell_type": "markdown",
      "metadata": {
        "id": "mz3f_fOxVxie"
      },
      "source": [
        "### Train"
      ]
    },
    {
      "cell_type": "code",
      "metadata": {
        "id": "5ZGAZPhtVxie"
      },
      "source": [
        "# train_loss_multiple_runs = [None] * NUM_REPEAT\n",
        "# test_accuracy_multiple_runs = [None] * NUM_REPEAT\n",
        "# test_loss_multiple_runs = [None] * NUM_REPEAT\n",
        "\n",
        "# for exp_num in range(NUM_REPEAT):\n",
        "#   print(\"Experiment Run Number: \", exp_num)\n",
        "\n",
        "#   # number of training rounds\n",
        "#   rounds = 50\n",
        "#   # client fraction\n",
        "#   C = 0.1\n",
        "#   # number of clients\n",
        "#   K = 100\n",
        "#   # number of training passes on local dataset for each round\n",
        "#   E = 5\n",
        "#   # batch size\n",
        "#   batch_size = 10\n",
        "#   # learning Rate\n",
        "#   lr=0.05\n",
        "#   # proximal term constant\n",
        "#   mu = 0.01\n",
        "#   # percentage of clients to have fewer than E epochs\n",
        "#   percentage = 50\n",
        "#   # target_test_accuracy\n",
        "#   target_test_accuracy=50.0\n",
        "\n",
        "#   # dict containing different type of data partition\n",
        "#   data_dict = iid_partition(cifar_data_train, 100)\n",
        "#   # load model\n",
        "#   cifar_mlp = CIFAR_MLP()\n",
        "\n",
        "#   if torch.cuda.is_available():\n",
        "#     cifar_mlp.cuda()\n",
        "\n",
        "#   cifar_mlp_iid_trained, train_loss, test_accuracy, test_loss = training(cifar_mlp, rounds, batch_size, lr, cifar_data_train, cifar_data_test, data_dict, C, K, E, mu, percentage, \"CIFAR MLP on IID Dataset\", \"orange\", target_test_accuracy)\n",
        "  \n",
        "#   train_loss_multiple_runs[exp_num] = train_loss\n",
        "#   test_accuracy_multiple_runs[exp_num] = test_accuracy\n",
        "#   test_loss_multiple_runs[exp_num] = test_loss\n",
        "\n",
        "#   del cifar_mlp_iid_trained\n",
        "#   torch.cuda.empty_cache()"
      ],
      "execution_count": 27,
      "outputs": []
    },
    {
      "cell_type": "markdown",
      "metadata": {
        "id": "aTBsL3-72PPd"
      },
      "source": [
        "### Test"
      ]
    },
    {
      "cell_type": "code",
      "metadata": {
        "id": "a9G4j5L62OrS"
      },
      "source": [
        "# criterion = nn.CrossEntropyLoss()\n",
        "# acc, loss = testing(cifar_mlp_iid_trained, cifar_data_test, 128, criterion, num_classes, classes_test, True)"
      ],
      "execution_count": 28,
      "outputs": []
    },
    {
      "cell_type": "code",
      "metadata": {
        "id": "fWCdJFRCL_f2"
      },
      "source": [
        "# hyperparams = {'rounds': rounds,\n",
        "#                'C': C,\n",
        "#                'K': K,\n",
        "#                'E': E,\n",
        "#                'batch_size': batch_size,\n",
        "#                'lr': lr,\n",
        "#                'mu': mu,\n",
        "#                'percentage': percentage,\n",
        "#                'target_test_accuracy': target_test_accuracy,\n",
        "#                }\n",
        "\n",
        "# log_dict['CIFAR MLP on IID'] = {'train_loss': train_loss_multiple_runs, \n",
        "#                                 'test_loss': test_loss_multiple_runs, \n",
        "#                                 'test_accuracy': test_accuracy_multiple_runs,\n",
        "#                                 'hyperparams': hyperparams,\n",
        "#                                 }"
      ],
      "execution_count": 29,
      "outputs": []
    },
    {
      "cell_type": "markdown",
      "metadata": {
        "id": "J8jzEyO0iywz"
      },
      "source": [
        "## CIFAR MLP on Non IID"
      ]
    },
    {
      "cell_type": "markdown",
      "metadata": {
        "id": "pJFepr3y2bF-"
      },
      "source": [
        "### Train"
      ]
    },
    {
      "cell_type": "code",
      "metadata": {
        "id": "EBKO44Hgi1Uh"
      },
      "source": [
        "# train_loss_multiple_runs = [None] * NUM_REPEAT\n",
        "# test_accuracy_multiple_runs = [None] * NUM_REPEAT\n",
        "# test_loss_multiple_runs = [None] * NUM_REPEAT\n",
        "\n",
        "# for exp_num in range(NUM_REPEAT):\n",
        "#   print(\"Experiment Run Number: \", exp_num)\n",
        "  \n",
        "#   # number of training rounds\n",
        "#   rounds = 50\n",
        "#   # client fraction\n",
        "#   C = 0.1\n",
        "#   # number of clients\n",
        "#   K = 100\n",
        "#   # number of training passes on local dataset for each roung\n",
        "#   E = 5\n",
        "#   # batch size\n",
        "#   batch_size = 10\n",
        "#   # learning Rate\n",
        "#   lr=0.05\n",
        "#   # proximal term constant\n",
        "#   mu = 0.01\n",
        "#   # percentage of clients to have fewer than E epochs\n",
        "#   percentage = 50\n",
        "#   # target_test_accuracy\n",
        "#   target_test_accuracy=50.0\n",
        "\n",
        "#   # dict containing different type of data partition\n",
        "#   data_dict = non_iid_partition(cifar_data_train, 100, 200, 250, 2)\n",
        "#   # load model\n",
        "#   cifar_mlp = CIFAR_MLP()\n",
        "\n",
        "#   if torch.cuda.is_available():\n",
        "#     cifar_mlp.cuda()\n",
        "\n",
        "#   cifar_mlp_non_iid_trained, train_loss, test_accuracy, test_loss = training(cifar_mlp, rounds, batch_size, lr, cifar_data_train, cifar_data_test, data_dict, C, K, E, mu, percentage, \"CIFAR MLP on Non-IID Dataset\", \"green\", target_test_accuracy)\n",
        "\n",
        "#   train_loss_multiple_runs[exp_num] = train_loss\n",
        "#   test_accuracy_multiple_runs[exp_num] = test_accuracy\n",
        "#   test_loss_multiple_runs[exp_num] = test_loss\n",
        "\n",
        "#   del cifar_mlp_non_iid_trained\n",
        "#   torch.cuda.empty_cache()"
      ],
      "execution_count": 30,
      "outputs": []
    },
    {
      "cell_type": "markdown",
      "metadata": {
        "id": "jmuQYPbF2mes"
      },
      "source": [
        "### Test"
      ]
    },
    {
      "cell_type": "code",
      "metadata": {
        "id": "0tKMlJyF2nGN"
      },
      "source": [
        "# criterion = nn.CrossEntropyLoss()\n",
        "# acc, loss = testing(cifar_mlp_non_iid_trained, cifar_data_test, 128, criterion, num_classes, classes_test, True)"
      ],
      "execution_count": 31,
      "outputs": []
    },
    {
      "cell_type": "code",
      "metadata": {
        "id": "1W5krYcSMQiu"
      },
      "source": [
        "# hyperparams = {'rounds': rounds,\n",
        "#                'C': C,\n",
        "#                'K': K,\n",
        "#                'E': E,\n",
        "#                'batch_size': batch_size,\n",
        "#                'lr': lr,\n",
        "#                'mu': mu,\n",
        "#                'percentage': percentage,\n",
        "#                'target_test_accuracy': target_test_accuracy,\n",
        "#                }\n",
        "\n",
        "# log_dict['CIFAR MLP on Non IID'] = {'train_loss': train_loss_multiple_runs, \n",
        "#                                 'test_loss': test_loss_multiple_runs, \n",
        "#                                 'test_accuracy': test_accuracy_multiple_runs,\n",
        "#                                 'hyperparams': hyperparams,\n",
        "#                                 }"
      ],
      "execution_count": 32,
      "outputs": []
    },
    {
      "cell_type": "markdown",
      "metadata": {
        "id": "emS_SaRAP6TZ"
      },
      "source": [
        "## Pickle Log"
      ]
    },
    {
      "cell_type": "code",
      "metadata": {
        "id": "soAN38JoP0c1"
      },
      "source": [
        "import pickle\n",
        "\n",
        "with open(path + 'Local_Round_FedProx_5.pkl', 'wb') as file:\n",
        "  pickle.dump(log_dict, file)"
      ],
      "execution_count": 33,
      "outputs": []
    },
    {
      "cell_type": "code",
      "metadata": {
        "id": "2UBy-JswSoCJ",
        "colab": {
          "base_uri": "https://localhost:8080/"
        },
        "outputId": "7ca0f2d8-b183-45a2-818f-c84bae8d3d08"
      },
      "source": [
        "log_dict"
      ],
      "execution_count": 34,
      "outputs": [
        {
          "output_type": "execute_result",
          "data": {
            "text/plain": [
              "{'CIFAR CNN on IID': {'hyperparams': {'C': 0.1,\n",
              "   'E': 5,\n",
              "   'K': 100,\n",
              "   'batch_size': 10,\n",
              "   'lr': 0.05,\n",
              "   'mu': 0.01,\n",
              "   'percentage': 50,\n",
              "   'rounds': 50,\n",
              "   'target_test_accuracy': 80.0},\n",
              "  'test_accuracy': [[12.91139240506329,\n",
              "    29.240506329113924,\n",
              "    37.848101265822784,\n",
              "    39.74683544303797,\n",
              "    41.139240506329116,\n",
              "    43.924050632911396,\n",
              "    46.835443037974684,\n",
              "    49.49367088607595,\n",
              "    48.9873417721519,\n",
              "    52.0253164556962,\n",
              "    53.67088607594937,\n",
              "    54.936708860759495,\n",
              "    56.32911392405063,\n",
              "    54.68354430379747,\n",
              "    58.48101265822785,\n",
              "    59.36708860759494,\n",
              "    61.89873417721519,\n",
              "    61.64556962025316,\n",
              "    61.265822784810126,\n",
              "    63.037974683544306,\n",
              "    65.0632911392405,\n",
              "    65.9493670886076,\n",
              "    67.21518987341773,\n",
              "    66.45569620253164,\n",
              "    69.62025316455696,\n",
              "    69.74683544303798,\n",
              "    70.88607594936708,\n",
              "    71.26582278481013,\n",
              "    72.0253164556962,\n",
              "    72.0253164556962,\n",
              "    73.41772151898734,\n",
              "    73.41772151898734,\n",
              "    73.16455696202532,\n",
              "    74.17721518987342,\n",
              "    73.29113924050633,\n",
              "    74.30379746835443,\n",
              "    75.69620253164557,\n",
              "    75.56962025316456,\n",
              "    76.20253164556962,\n",
              "    75.31645569620254,\n",
              "    76.83544303797468,\n",
              "    76.45569620253164,\n",
              "    75.69620253164557,\n",
              "    75.18987341772151,\n",
              "    77.0886075949367,\n",
              "    77.46835443037975,\n",
              "    77.34177215189874,\n",
              "    78.22784810126582,\n",
              "    79.36708860759494,\n",
              "    79.36708860759494]],\n",
              "  'test_loss': [[2.2694858821868897,\n",
              "    1.9600988430023194,\n",
              "    1.744533491897583,\n",
              "    1.6831635299682617,\n",
              "    1.6113636081695557,\n",
              "    1.5587335027694702,\n",
              "    1.480362071800232,\n",
              "    1.4322663375854492,\n",
              "    1.3716419591903686,\n",
              "    1.3160862438201903,\n",
              "    1.2656893369674682,\n",
              "    1.2434374532699586,\n",
              "    1.199847130393982,\n",
              "    1.1583557161331177,\n",
              "    1.1128852994918823,\n",
              "    1.1062361450195313,\n",
              "    1.056713465309143,\n",
              "    1.0291210485458373,\n",
              "    1.017135880470276,\n",
              "    0.9864488013267517,\n",
              "    0.9533173000335693,\n",
              "    0.9347820714950561,\n",
              "    0.9099615424156189,\n",
              "    0.8867146579742432,\n",
              "    0.8756950963020325,\n",
              "    0.8729424746513367,\n",
              "    0.8365834746360779,\n",
              "    0.8242385434150696,\n",
              "    0.8030374431610108,\n",
              "    0.7989301451683044,\n",
              "    0.7751005209922791,\n",
              "    0.7695274837493896,\n",
              "    0.7469799796104432,\n",
              "    0.7411096567153931,\n",
              "    0.7335412578582764,\n",
              "    0.7211386511802673,\n",
              "    0.7018151412010193,\n",
              "    0.6869558089256287,\n",
              "    0.6810766592025757,\n",
              "    0.6689409076213837,\n",
              "    0.661917255783081,\n",
              "    0.6659858508110046,\n",
              "    0.6667215934753418,\n",
              "    0.6373795604228973,\n",
              "    0.6382140902519227,\n",
              "    0.6286144188404084,\n",
              "    0.6385035430908204,\n",
              "    0.6265602502346039,\n",
              "    0.6041256880283356,\n",
              "    0.5955628905296325]],\n",
              "  'train_loss': [[2.1964854877670605,\n",
              "    2.0699852325558665,\n",
              "    1.9589116619825362,\n",
              "    1.9089193916559222,\n",
              "    1.8449015550851822,\n",
              "    1.7946233510414757,\n",
              "    1.7280286852161086,\n",
              "    1.6831641866465408,\n",
              "    1.629429289621115,\n",
              "    1.5668534554243085,\n",
              "    1.5454634189188479,\n",
              "    1.4836975543896356,\n",
              "    1.4417675186336039,\n",
              "    1.3801566296517849,\n",
              "    1.3599393582661947,\n",
              "    1.3378982754190765,\n",
              "    1.3094134585897126,\n",
              "    1.287087943301598,\n",
              "    1.2617442058980466,\n",
              "    1.2280369899213315,\n",
              "    1.1842702063143256,\n",
              "    1.1489509757071732,\n",
              "    1.130396985268593,\n",
              "    1.0924515583197274,\n",
              "    1.0308061054011186,\n",
              "    1.0446212709387142,\n",
              "    0.9806007124116023,\n",
              "    0.9800499768286943,\n",
              "    0.9601865167319774,\n",
              "    0.9608865870684387,\n",
              "    0.8896318749234082,\n",
              "    0.9046610042273999,\n",
              "    0.8753841926515102,\n",
              "    0.8575600544914602,\n",
              "    0.8611724124054113,\n",
              "    0.828376278317968,\n",
              "    0.8162481276591619,\n",
              "    0.7604183529724677,\n",
              "    0.7782790708512068,\n",
              "    0.7807429128542542,\n",
              "    0.731785979395608,\n",
              "    0.7465651182909807,\n",
              "    0.7183042298351726,\n",
              "    0.7589322442933918,\n",
              "    0.718738402429223,\n",
              "    0.6792156930454075,\n",
              "    0.643055449676762,\n",
              "    0.67298015472653,\n",
              "    0.6841332914359868,\n",
              "    0.6838703643709422]]},\n",
              " 'CIFAR CNN on Non IID': {'hyperparams': {'C': 0.1,\n",
              "   'E': 5,\n",
              "   'K': 100,\n",
              "   'batch_size': 10,\n",
              "   'lr': 0.05,\n",
              "   'mu': 0.01,\n",
              "   'percentage': 50,\n",
              "   'rounds': 50,\n",
              "   'target_test_accuracy': 80.0},\n",
              "  'test_accuracy': [[9.873417721518987,\n",
              "    9.873417721518987,\n",
              "    9.873417721518987,\n",
              "    15.569620253164556,\n",
              "    21.39240506329114,\n",
              "    21.518987341772153,\n",
              "    20.88607594936709,\n",
              "    21.89873417721519,\n",
              "    26.075949367088608,\n",
              "    24.810126582278482,\n",
              "    26.70886075949367,\n",
              "    39.11392405063291,\n",
              "    36.962025316455694,\n",
              "    24.303797468354432,\n",
              "    30.126582278481013,\n",
              "    35.69620253164557,\n",
              "    34.30379746835443,\n",
              "    32.0253164556962,\n",
              "    39.87341772151899,\n",
              "    33.037974683544306,\n",
              "    40.88607594936709,\n",
              "    39.24050632911393,\n",
              "    44.43037974683544,\n",
              "    36.835443037974684,\n",
              "    44.43037974683544,\n",
              "    42.65822784810127,\n",
              "    47.21518987341772,\n",
              "    39.49367088607595,\n",
              "    47.08860759493671,\n",
              "    40.0,\n",
              "    49.11392405063291,\n",
              "    37.848101265822784,\n",
              "    52.53164556962025,\n",
              "    44.55696202531646,\n",
              "    46.45569620253165,\n",
              "    40.379746835443036,\n",
              "    49.620253164556964,\n",
              "    49.620253164556964,\n",
              "    48.48101265822785,\n",
              "    53.164556962025316,\n",
              "    56.70886075949367,\n",
              "    47.46835443037975,\n",
              "    44.43037974683544,\n",
              "    50.50632911392405,\n",
              "    46.58227848101266,\n",
              "    49.74683544303797,\n",
              "    56.70886075949367,\n",
              "    56.32911392405063,\n",
              "    53.924050632911396,\n",
              "    48.860759493670884]],\n",
              "  'test_loss': [[2.3131265205383302,\n",
              "    2.3097647258758545,\n",
              "    2.2952599029541014,\n",
              "    2.251291898345947,\n",
              "    2.2147724369049073,\n",
              "    2.158791097640991,\n",
              "    2.1513923862457274,\n",
              "    2.034435753440857,\n",
              "    2.012986654281616,\n",
              "    2.081910729598999,\n",
              "    2.0105401767730715,\n",
              "    1.7484715202331542,\n",
              "    1.68449370803833,\n",
              "    2.153650096130371,\n",
              "    1.869561358642578,\n",
              "    1.7538074993133546,\n",
              "    1.7632885389328004,\n",
              "    1.8592770114898682,\n",
              "    1.6496485506057739,\n",
              "    1.8098002019882202,\n",
              "    1.6008189641952515,\n",
              "    1.5985825614929199,\n",
              "    1.5497510372161865,\n",
              "    1.8372508655548097,\n",
              "    1.523929605102539,\n",
              "    1.572167586517334,\n",
              "    1.4425521627426148,\n",
              "    1.6143596767425537,\n",
              "    1.438982077407837,\n",
              "    1.8924354034423827,\n",
              "    1.368569864845276,\n",
              "    1.6342550941467284,\n",
              "    1.32817516746521,\n",
              "    1.5857422731399535,\n",
              "    1.443281637954712,\n",
              "    1.6572074508666992,\n",
              "    1.3025137823104858,\n",
              "    1.2746554162979127,\n",
              "    1.36698276386261,\n",
              "    1.2839227170944214,\n",
              "    1.1764636203765868,\n",
              "    1.4327839443206787,\n",
              "    1.506028260231018,\n",
              "    1.378275343132019,\n",
              "    1.4351121448516846,\n",
              "    1.3460787719726564,\n",
              "    1.2807590959548951,\n",
              "    1.266895401763916,\n",
              "    1.2111284837722778,\n",
              "    1.358052326965332]],\n",
              "  'train_loss': [[0.6310466402046382,\n",
              "    0.6859125446972125,\n",
              "    0.7052795030782619,\n",
              "    0.5238605200422306,\n",
              "    0.561098197055608,\n",
              "    0.512653247015054,\n",
              "    0.5635969825260341,\n",
              "    0.546882862609749,\n",
              "    0.46550936575457447,\n",
              "    0.4845584749944508,\n",
              "    0.5178012902701894,\n",
              "    0.45271808166609456,\n",
              "    0.36373777294233445,\n",
              "    0.5557331285839279,\n",
              "    0.44526195013572767,\n",
              "    0.4664229935670893,\n",
              "    0.47781412666228906,\n",
              "    0.3921301486620059,\n",
              "    0.41127069117066756,\n",
              "    0.5153599653308591,\n",
              "    0.2899108975764364,\n",
              "    0.322263213640886,\n",
              "    0.39709556816567976,\n",
              "    0.2799447413327173,\n",
              "    0.4001194163370877,\n",
              "    0.4192726657062769,\n",
              "    0.3624213708084076,\n",
              "    0.31649459602646524,\n",
              "    0.44247381477951997,\n",
              "    0.3090906530460653,\n",
              "    0.27253959954716267,\n",
              "    0.3797978518813848,\n",
              "    0.3705303443352381,\n",
              "    0.30057287544639155,\n",
              "    0.35575315319821244,\n",
              "    0.40469633713165915,\n",
              "    0.35584679830285404,\n",
              "    0.26499702192644276,\n",
              "    0.4111106553527216,\n",
              "    0.29010797508011266,\n",
              "    0.25610112495422366,\n",
              "    0.2900106415387243,\n",
              "    0.3635910034528002,\n",
              "    0.32353750057841346,\n",
              "    0.2432508799637358,\n",
              "    0.30363434764693176,\n",
              "    0.3084924468822777,\n",
              "    0.2179034704048186,\n",
              "    0.19417158733131362,\n",
              "    0.32406487403201556]]}}"
            ]
          },
          "metadata": {
            "tags": []
          },
          "execution_count": 34
        }
      ]
    },
    {
      "cell_type": "code",
      "metadata": {
        "id": "x1r1hcqMUCeZ"
      },
      "source": [
        "import pickle\n",
        "\n",
        "with open(path + 'Local_Round_FedProx_5.pkl', 'rb') as file:\n",
        "  log_dict = pickle.load(file)"
      ],
      "execution_count": 35,
      "outputs": []
    },
    {
      "cell_type": "code",
      "metadata": {
        "id": "se_04JMaVJPg",
        "colab": {
          "base_uri": "https://localhost:8080/"
        },
        "outputId": "d14aeab1-70de-4e10-8658-6e743654a0a7"
      },
      "source": [
        "print([test_acc[-1] for test_acc in log_dict['CIFAR CNN on IID']['test_accuracy']])"
      ],
      "execution_count": 36,
      "outputs": [
        {
          "output_type": "stream",
          "text": [
            "[79.36708860759494]\n"
          ],
          "name": "stdout"
        }
      ]
    },
    {
      "cell_type": "code",
      "metadata": {
        "id": "5sv0rv-G4Sqa",
        "colab": {
          "base_uri": "https://localhost:8080/"
        },
        "outputId": "d766f1f3-4fcd-4a87-c0da-02598e214c41"
      },
      "source": [
        "print([test_acc[-1] for test_acc in log_dict['CIFAR CNN on Non IID']['test_accuracy']])"
      ],
      "execution_count": 37,
      "outputs": [
        {
          "output_type": "stream",
          "text": [
            "[48.860759493670884]\n"
          ],
          "name": "stdout"
        }
      ]
    },
    {
      "cell_type": "code",
      "metadata": {
        "id": "b2a2_Az-4nal"
      },
      "source": [
        "# print([test_acc[-1] for test_acc in log_dict['CIFAR MLP on IID']['test_accuracy']])"
      ],
      "execution_count": 38,
      "outputs": []
    },
    {
      "cell_type": "code",
      "metadata": {
        "id": "YoRqZyvD4p2K"
      },
      "source": [
        "# print([test_acc[-1] for test_acc in log_dict['CIFAR MLP on Non IID']['test_accuracy']])"
      ],
      "execution_count": 39,
      "outputs": []
    },
    {
      "cell_type": "code",
      "metadata": {
        "id": "mkG1kQdmVzbJ"
      },
      "source": [
        ""
      ],
      "execution_count": 39,
      "outputs": []
    }
  ]
}