{
  "nbformat": 4,
  "nbformat_minor": 0,
  "metadata": {
    "accelerator": "GPU",
    "colab": {
      "name": "FedProx.ipynb",
      "provenance": [],
      "collapsed_sections": [],
      "machine_shape": "hm"
    },
    "kernelspec": {
      "name": "python3",
      "display_name": "Python 3"
    },
    "language_info": {
      "name": "python"
<<<<<<< HEAD
    },
    "widgets": {
      "application/vnd.jupyter.widget-state+json": {
        "72a0000e6a804162b1652176baa18e1e": {
          "model_module": "@jupyter-widgets/controls",
          "model_name": "HBoxModel",
          "state": {
            "_view_name": "HBoxView",
            "_dom_classes": [],
            "_model_name": "HBoxModel",
            "_view_module": "@jupyter-widgets/controls",
            "_model_module_version": "1.5.0",
            "_view_count": null,
            "_view_module_version": "1.5.0",
            "box_style": "",
            "layout": "IPY_MODEL_fb3ecfcb2b16496b86d66c7dc70e305a",
            "_model_module": "@jupyter-widgets/controls",
            "children": [
              "IPY_MODEL_43932ed5b001452c806edd91135ef2f9",
              "IPY_MODEL_51c9e8dea1ee4372b26064d86befca6d"
            ]
          }
        },
        "fb3ecfcb2b16496b86d66c7dc70e305a": {
          "model_module": "@jupyter-widgets/base",
          "model_name": "LayoutModel",
          "state": {
            "_view_name": "LayoutView",
            "grid_template_rows": null,
            "right": null,
            "justify_content": null,
            "_view_module": "@jupyter-widgets/base",
            "overflow": null,
            "_model_module_version": "1.2.0",
            "_view_count": null,
            "flex_flow": null,
            "width": null,
            "min_width": null,
            "border": null,
            "align_items": null,
            "bottom": null,
            "_model_module": "@jupyter-widgets/base",
            "top": null,
            "grid_column": null,
            "overflow_y": null,
            "overflow_x": null,
            "grid_auto_flow": null,
            "grid_area": null,
            "grid_template_columns": null,
            "flex": null,
            "_model_name": "LayoutModel",
            "justify_items": null,
            "grid_row": null,
            "max_height": null,
            "align_content": null,
            "visibility": null,
            "align_self": null,
            "height": null,
            "min_height": null,
            "padding": null,
            "grid_auto_rows": null,
            "grid_gap": null,
            "max_width": null,
            "order": null,
            "_view_module_version": "1.2.0",
            "grid_template_areas": null,
            "object_position": null,
            "object_fit": null,
            "grid_auto_columns": null,
            "margin": null,
            "display": null,
            "left": null
          }
        },
        "43932ed5b001452c806edd91135ef2f9": {
          "model_module": "@jupyter-widgets/controls",
          "model_name": "FloatProgressModel",
          "state": {
            "_view_name": "ProgressView",
            "style": "IPY_MODEL_9d5473443a584642927472d9c464e203",
            "_dom_classes": [],
            "description": "",
            "_model_name": "FloatProgressModel",
            "bar_style": "success",
            "max": 170498071,
            "_view_module": "@jupyter-widgets/controls",
            "_model_module_version": "1.5.0",
            "value": 170498071,
            "_view_count": null,
            "_view_module_version": "1.5.0",
            "orientation": "horizontal",
            "min": 0,
            "description_tooltip": null,
            "_model_module": "@jupyter-widgets/controls",
            "layout": "IPY_MODEL_2030dc60bcb54892b2e51b2142a4f010"
          }
        },
        "51c9e8dea1ee4372b26064d86befca6d": {
          "model_module": "@jupyter-widgets/controls",
          "model_name": "HTMLModel",
          "state": {
            "_view_name": "HTMLView",
            "style": "IPY_MODEL_e1292d4e25194742ba48dbd480e7e1f8",
            "_dom_classes": [],
            "description": "",
            "_model_name": "HTMLModel",
            "placeholder": "​",
            "_view_module": "@jupyter-widgets/controls",
            "_model_module_version": "1.5.0",
            "value": " 170499072/? [00:09&lt;00:00, 17082279.72it/s]",
            "_view_count": null,
            "_view_module_version": "1.5.0",
            "description_tooltip": null,
            "_model_module": "@jupyter-widgets/controls",
            "layout": "IPY_MODEL_47ecec4a8e574c7e9dcce1ab40cb85a8"
          }
        },
        "9d5473443a584642927472d9c464e203": {
          "model_module": "@jupyter-widgets/controls",
          "model_name": "ProgressStyleModel",
          "state": {
            "_view_name": "StyleView",
            "_model_name": "ProgressStyleModel",
            "description_width": "initial",
            "_view_module": "@jupyter-widgets/base",
            "_model_module_version": "1.5.0",
            "_view_count": null,
            "_view_module_version": "1.2.0",
            "bar_color": null,
            "_model_module": "@jupyter-widgets/controls"
          }
        },
        "2030dc60bcb54892b2e51b2142a4f010": {
          "model_module": "@jupyter-widgets/base",
          "model_name": "LayoutModel",
          "state": {
            "_view_name": "LayoutView",
            "grid_template_rows": null,
            "right": null,
            "justify_content": null,
            "_view_module": "@jupyter-widgets/base",
            "overflow": null,
            "_model_module_version": "1.2.0",
            "_view_count": null,
            "flex_flow": null,
            "width": null,
            "min_width": null,
            "border": null,
            "align_items": null,
            "bottom": null,
            "_model_module": "@jupyter-widgets/base",
            "top": null,
            "grid_column": null,
            "overflow_y": null,
            "overflow_x": null,
            "grid_auto_flow": null,
            "grid_area": null,
            "grid_template_columns": null,
            "flex": null,
            "_model_name": "LayoutModel",
            "justify_items": null,
            "grid_row": null,
            "max_height": null,
            "align_content": null,
            "visibility": null,
            "align_self": null,
            "height": null,
            "min_height": null,
            "padding": null,
            "grid_auto_rows": null,
            "grid_gap": null,
            "max_width": null,
            "order": null,
            "_view_module_version": "1.2.0",
            "grid_template_areas": null,
            "object_position": null,
            "object_fit": null,
            "grid_auto_columns": null,
            "margin": null,
            "display": null,
            "left": null
          }
        },
        "e1292d4e25194742ba48dbd480e7e1f8": {
          "model_module": "@jupyter-widgets/controls",
          "model_name": "DescriptionStyleModel",
          "state": {
            "_view_name": "StyleView",
            "_model_name": "DescriptionStyleModel",
            "description_width": "",
            "_view_module": "@jupyter-widgets/base",
            "_model_module_version": "1.5.0",
            "_view_count": null,
            "_view_module_version": "1.2.0",
            "_model_module": "@jupyter-widgets/controls"
          }
        },
        "47ecec4a8e574c7e9dcce1ab40cb85a8": {
          "model_module": "@jupyter-widgets/base",
          "model_name": "LayoutModel",
          "state": {
            "_view_name": "LayoutView",
            "grid_template_rows": null,
            "right": null,
            "justify_content": null,
            "_view_module": "@jupyter-widgets/base",
            "overflow": null,
            "_model_module_version": "1.2.0",
            "_view_count": null,
            "flex_flow": null,
            "width": null,
            "min_width": null,
            "border": null,
            "align_items": null,
            "bottom": null,
            "_model_module": "@jupyter-widgets/base",
            "top": null,
            "grid_column": null,
            "overflow_y": null,
            "overflow_x": null,
            "grid_auto_flow": null,
            "grid_area": null,
            "grid_template_columns": null,
            "flex": null,
            "_model_name": "LayoutModel",
            "justify_items": null,
            "grid_row": null,
            "max_height": null,
            "align_content": null,
            "visibility": null,
            "align_self": null,
            "height": null,
            "min_height": null,
            "padding": null,
            "grid_auto_rows": null,
            "grid_gap": null,
            "max_width": null,
            "order": null,
            "_view_module_version": "1.2.0",
            "grid_template_areas": null,
            "object_position": null,
            "object_fit": null,
            "grid_auto_columns": null,
            "margin": null,
            "display": null,
            "left": null
          }
        }
      }
=======
>>>>>>> 3e40152c547c99995bfcbe0d16b86f0869affe1f
    }
  },
  "cells": [
    {
      "cell_type": "markdown",
      "metadata": {
        "id": "view-in-github"
      },
      "source": [
        "<a href=\"https://colab.research.google.com/github/tushar-semwal/fedperf/blob/main/Vineeth/FedAvg_CIFAR.ipynb\" target=\"_parent\"><img src=\"https://colab.research.google.com/assets/colab-badge.svg\" alt=\"Open In Colab\"/></a>"
      ]
    },
    {
      "cell_type": "code",
      "metadata": {
<<<<<<< HEAD
        "id": "yKcpjZLrQQJV",
        "colab": {
          "base_uri": "https://localhost:8080/"
        },
        "outputId": "fb346910-611a-4bf8-c0b0-8c6cd54e0e12"
=======
        "id": "yKcpjZLrQQJV"
>>>>>>> 3e40152c547c99995bfcbe0d16b86f0869affe1f
      },
      "source": [
        "%%capture output\n",
        "try:\n",
        "    from google.colab import drive\n",
        "    drive.mount('/content/drive')\n",
        "\n",
        "    import os\n",
        "    path = '/content/drive/MyDrive/Colab Notebooks/OpenMined/'\n",
        "    os.makedirs(path, exist_ok=True)\n",
        "except:\n",
        "    path = './'"
      ],
<<<<<<< HEAD
      "execution_count": 1,
      "outputs": [
        {
          "output_type": "stream",
          "text": [
            "Go to this URL in a browser: https://accounts.google.com/o/oauth2/auth?client_id=947318989803-6bn6qk8qdgf4n4g3pfee6491hc0brc4i.apps.googleusercontent.com&redirect_uri=urn%3aietf%3awg%3aoauth%3a2.0%3aoob&scope=email%20https%3a%2f%2fwww.googleapis.com%2fauth%2fdocs.test%20https%3a%2f%2fwww.googleapis.com%2fauth%2fdrive%20https%3a%2f%2fwww.googleapis.com%2fauth%2fdrive.photos.readonly%20https%3a%2f%2fwww.googleapis.com%2fauth%2fpeopleapi.readonly%20https%3a%2f%2fwww.googleapis.com%2fauth%2fdrive.activity.readonly%20https%3a%2f%2fwww.googleapis.com%2fauth%2fexperimentsandconfigs%20https%3a%2f%2fwww.googleapis.com%2fauth%2fphotos.native&response_type=code\n",
            "\n",
            "Enter your authorization code:\n",
            "4/1AY0e-g7RCd-9lRr0cti6uLS2xDFy5tJ3LqWj96p_ofUuK0SnBxieBkGnOH0\n"
          ],
          "name": "stdout"
        }
      ]
=======
      "execution_count": 42,
      "outputs": []
>>>>>>> 3e40152c547c99995bfcbe0d16b86f0869affe1f
    },
    {
      "cell_type": "markdown",
      "metadata": {
        "id": "-0_nKpfq2h1R"
      },
      "source": [
        "## Imports"
      ]
    },
    {
      "cell_type": "code",
      "metadata": {
        "id": "DLLNM9X2JbQ8",
        "colab": {
          "base_uri": "https://localhost:8080/"
        },
<<<<<<< HEAD
        "outputId": "a758a3f2-698a-4931-d9a6-41d18a55ce89"
=======
        "outputId": "48475bff-87a0-41cc-916e-71f9f25087de"
>>>>>>> 3e40152c547c99995bfcbe0d16b86f0869affe1f
      },
      "source": [
        "%load_ext tensorboard\n",
        "import os\n",
        "import numpy as np\n",
        "import matplotlib\n",
        "import matplotlib.pyplot as plt\n",
        "import copy\n",
        "import random\n",
        "import time\n",
        "\n",
        "import torch\n",
        "import torch.nn as nn\n",
        "import torch.nn.functional as F\n",
        "\n",
        "from torch.utils.data import Dataset, DataLoader\n",
        "from torch.utils.tensorboard import SummaryWriter\n",
        "from torchvision import transforms, utils, datasets\n",
        "from torchsummary import summary\n",
        "\n",
        "\n",
        "# Check assigned GPU\n",
        "gpu_info = !nvidia-smi\n",
        "gpu_info = '\\n'.join(gpu_info)\n",
        "if gpu_info.find('failed') >= 0:\n",
        "  print('Select the Runtime > \"Change runtime type\" menu to enable a GPU accelerator, ')\n",
        "  print('and then re-execute this cell.')\n",
        "else:\n",
        "  print(gpu_info)\n",
        "\n",
        "# set manual seed for reproducibility\n",
        "seed = 42\n",
        "\n",
        "# general reproducibility\n",
        "random.seed(seed)\n",
        "np.random.seed(seed)\n",
        "torch.manual_seed(seed)\n",
        "\n",
        "# gpu training specific\n",
        "torch.backends.cudnn.deterministic = True\n",
        "torch.backends.cudnn.benchmark = False"
      ],
<<<<<<< HEAD
      "execution_count": 2,
=======
      "execution_count": 43,
>>>>>>> 3e40152c547c99995bfcbe0d16b86f0869affe1f
      "outputs": [
        {
          "output_type": "stream",
          "text": [
<<<<<<< HEAD
            "Wed Apr 28 10:14:31 2021       \n",
=======
            "The tensorboard extension is already loaded. To reload it, use:\n",
            "  %reload_ext tensorboard\n",
            "Wed Apr 28 17:23:23 2021       \n",
>>>>>>> 3e40152c547c99995bfcbe0d16b86f0869affe1f
            "+-----------------------------------------------------------------------------+\n",
            "| NVIDIA-SMI 465.19.01    Driver Version: 460.32.03    CUDA Version: 11.2     |\n",
            "|-------------------------------+----------------------+----------------------+\n",
            "| GPU  Name        Persistence-M| Bus-Id        Disp.A | Volatile Uncorr. ECC |\n",
            "| Fan  Temp  Perf  Pwr:Usage/Cap|         Memory-Usage | GPU-Util  Compute M. |\n",
            "|                               |                      |               MIG M. |\n",
            "|===============================+======================+======================|\n",
<<<<<<< HEAD
            "|   0  Tesla K80           Off  | 00000000:00:04.0 Off |                    0 |\n",
            "| N/A   35C    P8    27W / 149W |      0MiB / 11441MiB |      0%      Default |\n",
=======
            "|   0  Tesla T4            Off  | 00000000:00:04.0 Off |                    0 |\n",
            "| N/A   73C    P0    31W /  70W |   1166MiB / 15109MiB |      0%      Default |\n",
>>>>>>> 3e40152c547c99995bfcbe0d16b86f0869affe1f
            "|                               |                      |                  N/A |\n",
            "+-------------------------------+----------------------+----------------------+\n",
            "                                                                               \n",
            "+-----------------------------------------------------------------------------+\n",
            "| Processes:                                                                  |\n",
            "|  GPU   GI   CI        PID   Type   Process name                  GPU Memory |\n",
            "|        ID   ID                                                   Usage      |\n",
            "|=============================================================================|\n",
<<<<<<< HEAD
            "|  No running processes found                                                 |\n",
=======
>>>>>>> 3e40152c547c99995bfcbe0d16b86f0869affe1f
            "+-----------------------------------------------------------------------------+\n"
          ],
          "name": "stdout"
        }
      ]
    },
    {
      "cell_type": "markdown",
      "metadata": {
        "id": "NY4eWzGiL6Mj"
      },
      "source": [
        "## Load the CIFAR Dataset"
      ]
    },
    {
      "cell_type": "code",
      "metadata": {
        "id": "Nc-HQXANvV_u"
      },
      "source": [
        "# torch.cuda.set_device('cuda:1')"
      ],
<<<<<<< HEAD
      "execution_count": 3,
=======
      "execution_count": 44,
>>>>>>> 3e40152c547c99995bfcbe0d16b86f0869affe1f
      "outputs": []
    },
    {
      "cell_type": "code",
      "metadata": {
        "id": "G649tjTXLL8F",
        "colab": {
<<<<<<< HEAD
          "base_uri": "https://localhost:8080/",
          "height": 137,
          "referenced_widgets": [
            "72a0000e6a804162b1652176baa18e1e",
            "fb3ecfcb2b16496b86d66c7dc70e305a",
            "43932ed5b001452c806edd91135ef2f9",
            "51c9e8dea1ee4372b26064d86befca6d",
            "9d5473443a584642927472d9c464e203",
            "2030dc60bcb54892b2e51b2142a4f010",
            "e1292d4e25194742ba48dbd480e7e1f8",
            "47ecec4a8e574c7e9dcce1ab40cb85a8"
          ]
        },
        "outputId": "0a37a21d-c088-402b-cc1e-951e279bad9b"
=======
          "base_uri": "https://localhost:8080/"
        },
        "outputId": "39850d64-8106-41e4-d856-84e1a985dffb"
>>>>>>> 3e40152c547c99995bfcbe0d16b86f0869affe1f
      },
      "source": [
        "# create transforms\n",
        "# We will just convert to tensor and normalize since no special transforms are mentioned in the paper\n",
        "transform_train = transforms.Compose([\n",
        "    transforms.RandomCrop(32, padding=4),\n",
        "    transforms.RandomHorizontalFlip(),\n",
        "    transforms.ToTensor(),\n",
        "    transforms.Normalize((0.4914, 0.4822, 0.4465), (0.2023, 0.1994, 0.2010)),\n",
        "])\n",
        "\n",
        "# Normalize the test set same as training set without augmentation\n",
        "transform_test = transforms.Compose([\n",
        "    transforms.ToTensor(),\n",
        "    transforms.Normalize((0.4914, 0.4822, 0.4465), (0.2023, 0.1994, 0.2010)),\n",
        "])\n",
        "\n",
        "cifar_data_train = datasets.CIFAR10('../data/cifar10/', train=True, download=True, transform=transform_train)\n",
        "cifar_data_test = datasets.CIFAR10('../data/cifar10/', train=False, download=True, transform=transform_test)"
      ],
<<<<<<< HEAD
      "execution_count": 4,
=======
      "execution_count": 45,
>>>>>>> 3e40152c547c99995bfcbe0d16b86f0869affe1f
      "outputs": [
        {
          "output_type": "stream",
          "text": [
<<<<<<< HEAD
            "Downloading https://www.cs.toronto.edu/~kriz/cifar-10-python.tar.gz to ../data/cifar10/cifar-10-python.tar.gz\n"
          ],
          "name": "stdout"
        },
        {
          "output_type": "display_data",
          "data": {
            "application/vnd.jupyter.widget-view+json": {
              "model_id": "72a0000e6a804162b1652176baa18e1e",
              "version_minor": 0,
              "version_major": 2
            },
            "text/plain": [
              "HBox(children=(FloatProgress(value=0.0, max=170498071.0), HTML(value='')))"
            ]
          },
          "metadata": {
            "tags": []
          }
        },
        {
          "output_type": "stream",
          "text": [
            "\n",
            "Extracting ../data/cifar10/cifar-10-python.tar.gz to ../data/cifar10/\n",
=======
            "Files already downloaded and verified\n",
>>>>>>> 3e40152c547c99995bfcbe0d16b86f0869affe1f
            "Files already downloaded and verified\n"
          ],
          "name": "stdout"
        }
      ]
    },
    {
      "cell_type": "code",
      "metadata": {
        "id": "pOtLLX66b1Ad",
        "colab": {
          "base_uri": "https://localhost:8080/"
        },
<<<<<<< HEAD
        "outputId": "00c2cac6-39ad-4565-9e4d-8d374f1d83f7"
=======
        "outputId": "1bf977e1-9092-4bc0-f5d3-a9026cce5f5c"
>>>>>>> 3e40152c547c99995bfcbe0d16b86f0869affe1f
      },
      "source": [
        "classes = np.array(list(cifar_data_train.class_to_idx.values()))\n",
        "classes_test = np.array(list(cifar_data_test.class_to_idx.values()))\n",
        "num_classes = len(classes_test)\n",
        "print(\"Classes: {} \\tType: {}\".format(classes, type(classes)))\n",
        "print(\"Classes Test: {} \\tType: {}\".format(classes_test, type(classes)))\n"
      ],
<<<<<<< HEAD
      "execution_count": 5,
=======
      "execution_count": 46,
>>>>>>> 3e40152c547c99995bfcbe0d16b86f0869affe1f
      "outputs": [
        {
          "output_type": "stream",
          "text": [
            "Classes: [0 1 2 3 4 5 6 7 8 9] \tType: <class 'numpy.ndarray'>\n",
            "Classes Test: [0 1 2 3 4 5 6 7 8 9] \tType: <class 'numpy.ndarray'>\n"
          ],
          "name": "stdout"
        }
      ]
    },
    {
      "cell_type": "code",
      "metadata": {
        "id": "wa4TJs-AVJ2O",
        "colab": {
          "base_uri": "https://localhost:8080/"
        },
<<<<<<< HEAD
        "outputId": "0abfa152-a3f6-461b-b6b1-1a0532deea73"
=======
        "outputId": "51a3b3ff-9456-48c5-fdc5-52ecb0eb0c48"
>>>>>>> 3e40152c547c99995bfcbe0d16b86f0869affe1f
      },
      "source": [
        "print(\"Image Shape: {}\".format(cifar_data_train.data[0].shape))"
      ],
<<<<<<< HEAD
      "execution_count": 6,
=======
      "execution_count": 47,
>>>>>>> 3e40152c547c99995bfcbe0d16b86f0869affe1f
      "outputs": [
        {
          "output_type": "stream",
          "text": [
            "Image Shape: (32, 32, 3)\n"
          ],
          "name": "stdout"
        }
      ]
    },
    {
      "cell_type": "markdown",
      "metadata": {
        "id": "jCOONkg-zV7Y"
      },
      "source": [
        "## Visualize Data"
      ]
    },
    {
      "cell_type": "code",
      "metadata": {
        "id": "R9MK03TZw6Qs"
      },
      "source": [
        "def imshow(img):\n",
        "\t#img = img/2 + 0.5 #unnormalize the image\n",
        "\tplt.imshow(img, cmap='hsv') # convert from tensor to image"
      ],
<<<<<<< HEAD
      "execution_count": 7,
=======
      "execution_count": 48,
>>>>>>> 3e40152c547c99995bfcbe0d16b86f0869affe1f
      "outputs": []
    },
    {
      "cell_type": "code",
      "metadata": {
        "id": "gMJ0Kx4Kw-_H"
      },
      "source": [
        "def visualize(dataset):\n",
        "  figure = plt.figure(figsize=(25,4))\n",
        "  for i in range(20):\n",
        "    axis = figure.add_subplot(2, 20/2, i+1, xticks=[], yticks=[])\n",
        "    data = dataset.data[i]\n",
        "    #data = data.numpy()\n",
        "\n",
        "    target = dataset.targets[i]\n",
        "    #target = target.numpy()\n",
        "    imshow(data)\n",
        "    axis.set_title(target)\n"
      ],
<<<<<<< HEAD
      "execution_count": 8,
=======
      "execution_count": 49,
>>>>>>> 3e40152c547c99995bfcbe0d16b86f0869affe1f
      "outputs": []
    },
    {
      "cell_type": "code",
      "metadata": {
        "id": "8bPOwKg10Ro7",
        "colab": {
          "base_uri": "https://localhost:8080/",
<<<<<<< HEAD
          "height": 130
        },
        "outputId": "51aba34b-8049-49ed-b72f-0d1e792d8f34"
=======
          "height": 257
        },
        "outputId": "1994bb52-96e7-41c8-dc9b-62eb5694759e"
>>>>>>> 3e40152c547c99995bfcbe0d16b86f0869affe1f
      },
      "source": [
        "visualize(cifar_data_train)"
      ],
<<<<<<< HEAD
      "execution_count": 9,
=======
      "execution_count": 50,
>>>>>>> 3e40152c547c99995bfcbe0d16b86f0869affe1f
      "outputs": [
        {
          "output_type": "display_data",
          "data": {
            "image/png": "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\n",
            "text/plain": [
              "<Figure size 1800x288 with 20 Axes>"
            ]
          },
          "metadata": {
            "tags": []
          }
        }
      ]
    },
    {
      "cell_type": "code",
      "metadata": {
        "id": "RKoh5Cf70UYu",
        "colab": {
          "base_uri": "https://localhost:8080/",
<<<<<<< HEAD
          "height": 130
        },
        "outputId": "65e420fc-f3c6-4f3c-9928-9da1fcc3bd8b"
=======
          "height": 257
        },
        "outputId": "bee736a8-8aed-460b-fcac-9bac66a6f592"
>>>>>>> 3e40152c547c99995bfcbe0d16b86f0869affe1f
      },
      "source": [
        "visualize(cifar_data_test)"
      ],
<<<<<<< HEAD
      "execution_count": 10,
=======
      "execution_count": 51,
>>>>>>> 3e40152c547c99995bfcbe0d16b86f0869affe1f
      "outputs": [
        {
          "output_type": "display_data",
          "data": {
            "image/png": "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\n",
            "text/plain": [
              "<Figure size 1800x288 with 20 Axes>"
            ]
          },
          "metadata": {
            "tags": []
          }
        }
      ]
    },
    {
      "cell_type": "markdown",
      "metadata": {
        "id": "ctjRsETiO1qO"
      },
      "source": [
        "## Partitioning the Data (IID and non-IID)"
      ]
    },
    {
      "cell_type": "code",
      "metadata": {
        "id": "3_v8lyrgO5dD"
      },
      "source": [
        "def iid_partition(dataset, clients):\n",
        "  \"\"\"\n",
        "  I.I.D paritioning of data over clients\n",
        "  Shuffle the data\n",
        "  Split it between clients\n",
        "  \n",
        "  params:\n",
        "    - dataset (torch.utils.Dataset): Dataset containing the CIFAR Images\n",
        "    - clients (int): Number of Clients to split the data between\n",
        "\n",
        "  returns:\n",
        "    - Dictionary of image indexes for each client\n",
        "  \"\"\"\n",
        "\n",
        "  num_items_per_client = int(len(dataset)/clients)\n",
        "  client_dict = {}\n",
        "  image_idxs = [i for i in range(len(dataset))]\n",
        "\n",
        "  for i in range(clients):\n",
        "    client_dict[i] = set(np.random.choice(image_idxs, num_items_per_client, replace=False))\n",
        "    image_idxs = list(set(image_idxs) - client_dict[i])\n",
        "\n",
        "  return client_dict"
      ],
<<<<<<< HEAD
      "execution_count": 11,
=======
      "execution_count": 52,
>>>>>>> 3e40152c547c99995bfcbe0d16b86f0869affe1f
      "outputs": []
    },
    {
      "cell_type": "code",
      "metadata": {
        "id": "4zMdliGMQoSl"
      },
      "source": [
        "def non_iid_partition(dataset, clients, total_shards, shards_size, num_shards_per_client):\n",
        "  \"\"\"\n",
        "  non I.I.D parititioning of data over clients\n",
        "  Sort the data by the digit label\n",
        "  Divide the data into N shards of size S\n",
        "  Each of the clients will get X shards\n",
        "\n",
        "  params:\n",
        "    - dataset (torch.utils.Dataset): Dataset containing the CIFAR Images\n",
        "    - clients (int): Number of Clients to split the data between\n",
        "    - total_shards (int): Number of shards to partition the data in\n",
        "    - shards_size (int): Size of each shard \n",
        "    - num_shards_per_client (int): Number of shards of size shards_size that each client receives\n",
        "\n",
        "  returns:\n",
        "    - Dictionary of image indexes for each client\n",
        "  \"\"\"\n",
        "  \n",
        "  shard_idxs = [i for i in range(total_shards)]\n",
        "  client_dict = {i: np.array([], dtype='int64') for i in range(clients)}\n",
        "  idxs = np.arange(len(dataset))\n",
        "  data_labels = np.array(dataset.targets)\n",
        "\n",
        "  # sort the labels\n",
        "  label_idxs = np.vstack((idxs, data_labels))\n",
        "  label_idxs = label_idxs[:, label_idxs[1,:].argsort()]\n",
        "  idxs = label_idxs[0,:]\n",
        "\n",
        "  # divide the data into total_shards of size shards_size\n",
        "  # assign num_shards_per_client to each client\n",
        "  for i in range(clients):\n",
        "    rand_set = set(np.random.choice(shard_idxs, num_shards_per_client, replace=False))\n",
        "    shard_idxs = list(set(shard_idxs) - rand_set)\n",
        "\n",
        "    for rand in rand_set:\n",
        "      client_dict[i] = np.concatenate((client_dict[i], idxs[rand*shards_size:(rand+1)*shards_size]), axis=0)\n",
        "  \n",
        "  return client_dict\n",
        "\n",
        "\n",
        "\n"
      ],
<<<<<<< HEAD
      "execution_count": 12,
=======
      "execution_count": 53,
>>>>>>> 3e40152c547c99995bfcbe0d16b86f0869affe1f
      "outputs": []
    },
    {
      "cell_type": "markdown",
      "metadata": {
        "id": "EUP_bcedcLwB"
      },
      "source": [
        "## Models"
      ]
    },
    {
      "cell_type": "code",
      "metadata": {
        "id": "CvoDNFKbZST5"
      },
      "source": [
        "class CIFAR_MLP(nn.Module):\n",
        "  def __init__(self):\n",
        "    super(CIFAR_MLP, self).__init__()\n",
        "    self.fc1 = nn.Linear(3 * 32 * 32, 2634)\n",
        "    self.fc2 = nn.Linear(2634, 2196) \n",
        "    self.fc3 = nn.Linear(2196, 1758)\n",
        "    self.fc4 = nn.Linear(1758, 1320)\n",
        "    self.fc5 = nn.Linear(1320, 882)\n",
        "    self.fc6 = nn.Linear(882, 444) \n",
        "    self.fc7 = nn.Linear(444, 10) \n",
        "\n",
        "  def forward(self, x):\n",
        "    x = x.view(-1, 3 * 32 * 32)\n",
        "    x = F.relu(self.fc1(x))\n",
        "    x = F.relu(self.fc2(x))\n",
        "    x = F.relu(self.fc3(x))\n",
        "    x = F.relu(self.fc4(x))\n",
        "    x = F.relu(self.fc5(x))\n",
        "    x = F.relu(self.fc6(x))\n",
        "\n",
        "    x = self.fc7(x)\n",
        "    return x"
      ],
<<<<<<< HEAD
      "execution_count": 13,
=======
      "execution_count": 54,
>>>>>>> 3e40152c547c99995bfcbe0d16b86f0869affe1f
      "outputs": []
    },
    {
      "cell_type": "code",
      "metadata": {
        "id": "ut1hZ8x3qYPZ"
      },
      "source": [
        "class CIFAR_CNN(nn.Module):\n",
        "  def __init__(self):\n",
        "    super(CIFAR_CNN, self).__init__()\n",
        "\n",
        "    self.conv_layer = nn.Sequential(\n",
        "      nn.Conv2d(in_channels=3, out_channels=32, kernel_size=3, padding=1),\n",
        "      nn.BatchNorm2d(32),\n",
        "      nn.ReLU(inplace=True),\n",
        "      nn.Conv2d(in_channels=32, out_channels=64, kernel_size=3, padding=1),\n",
        "      nn.ReLU(inplace=True),\n",
        "      nn.MaxPool2d(kernel_size=2, stride=2),\n",
        "\n",
        "      nn.Conv2d(in_channels=64, out_channels=128, kernel_size=3, padding=1),\n",
        "      nn.BatchNorm2d(128),\n",
        "      nn.ReLU(inplace=True),\n",
        "      nn.Conv2d(in_channels=128, out_channels=128, kernel_size=3, padding=1),\n",
        "      nn.ReLU(inplace=True),\n",
        "      nn.MaxPool2d(kernel_size=2, stride=2),\n",
        "      nn.Dropout2d(p=0.05),\n",
        "\n",
        "      nn.Conv2d(in_channels=128, out_channels=256, kernel_size=3, padding=1),\n",
        "      nn.BatchNorm2d(256),\n",
        "      nn.ReLU(inplace=True),\n",
        "      nn.Conv2d(in_channels=256, out_channels=256, kernel_size=3, padding=1),\n",
        "      nn.ReLU(inplace=True),\n",
        "      nn.MaxPool2d(kernel_size=2, stride=2),\n",
        "    )\n",
        "\n",
        "    self.fc_layer = nn.Sequential(\n",
        "      nn.Dropout(p=0.1),\n",
        "      nn.Linear(4096, 1024),\n",
        "      nn.ReLU(inplace=True),\n",
        "      nn.Linear(1024, 512),\n",
        "      nn.ReLU(inplace=True),\n",
        "      nn.Dropout(p=0.1),\n",
        "      nn.Linear(512, 10)\n",
        "    )\n",
        "\n",
        "\n",
        "  def forward(self, x):      \n",
        "    # conv layers\n",
        "    x = self.conv_layer(x)\n",
        "    \n",
        "    # flatten\n",
        "    x = x.view(x.size(0), -1)\n",
        "    \n",
        "    # fc layer\n",
        "    x = self.fc_layer(x)\n",
        "\n",
        "    return x"
      ],
<<<<<<< HEAD
      "execution_count": 14,
=======
      "execution_count": 55,
>>>>>>> 3e40152c547c99995bfcbe0d16b86f0869affe1f
      "outputs": []
    },
    {
      "cell_type": "markdown",
      "metadata": {
        "id": "uVv4HA9HuLtr"
      },
      "source": [
        "### Print Model Summaries"
      ]
    },
    {
      "cell_type": "code",
      "metadata": {
        "id": "-H2jR2-Id4AA",
        "colab": {
          "base_uri": "https://localhost:8080/"
        },
<<<<<<< HEAD
        "outputId": "5cad790e-e245-4415-f1eb-69ad18b16ccd"
=======
        "outputId": "b3491b64-6c5b-4d33-d598-b42463cbbb9b"
>>>>>>> 3e40152c547c99995bfcbe0d16b86f0869affe1f
      },
      "source": [
        "cifar_mlp = CIFAR_MLP()\n",
        "cifar_cnn = CIFAR_CNN()\n",
        "\n",
        "if torch.cuda.is_available():\n",
        "  cifar_mlp.cuda()\n",
        "  cifar_cnn.cuda()\n",
        "\n",
        "print(\"CIFAR MLP SUMMARY\")\n",
        "print(summary(cifar_mlp, (32,32,3)))\n",
        "\n",
        "print(\"\\nCIFAR CNN SUMMARY\")\n",
        "print(summary(cifar_cnn, (3, 32,32)))"
      ],
<<<<<<< HEAD
      "execution_count": 15,
=======
      "execution_count": 56,
>>>>>>> 3e40152c547c99995bfcbe0d16b86f0869affe1f
      "outputs": [
        {
          "output_type": "stream",
          "text": [
            "CIFAR MLP SUMMARY\n",
            "----------------------------------------------------------------\n",
            "        Layer (type)               Output Shape         Param #\n",
            "================================================================\n",
            "            Linear-1                 [-1, 2634]       8,094,282\n",
            "            Linear-2                 [-1, 2196]       5,786,460\n",
            "            Linear-3                 [-1, 1758]       3,862,326\n",
            "            Linear-4                 [-1, 1320]       2,321,880\n",
            "            Linear-5                  [-1, 882]       1,165,122\n",
            "            Linear-6                  [-1, 444]         392,052\n",
            "            Linear-7                   [-1, 10]           4,450\n",
            "================================================================\n",
            "Total params: 21,626,572\n",
            "Trainable params: 21,626,572\n",
            "Non-trainable params: 0\n",
            "----------------------------------------------------------------\n",
            "Input size (MB): 0.01\n",
            "Forward/backward pass size (MB): 0.07\n",
            "Params size (MB): 82.50\n",
            "Estimated Total Size (MB): 82.58\n",
            "----------------------------------------------------------------\n",
            "None\n",
            "\n",
            "CIFAR CNN SUMMARY\n",
            "----------------------------------------------------------------\n",
            "        Layer (type)               Output Shape         Param #\n",
            "================================================================\n",
            "            Conv2d-1           [-1, 32, 32, 32]             896\n",
            "       BatchNorm2d-2           [-1, 32, 32, 32]              64\n",
            "              ReLU-3           [-1, 32, 32, 32]               0\n",
            "            Conv2d-4           [-1, 64, 32, 32]          18,496\n",
            "              ReLU-5           [-1, 64, 32, 32]               0\n",
            "         MaxPool2d-6           [-1, 64, 16, 16]               0\n",
            "            Conv2d-7          [-1, 128, 16, 16]          73,856\n",
            "       BatchNorm2d-8          [-1, 128, 16, 16]             256\n",
            "              ReLU-9          [-1, 128, 16, 16]               0\n",
            "           Conv2d-10          [-1, 128, 16, 16]         147,584\n",
            "             ReLU-11          [-1, 128, 16, 16]               0\n",
            "        MaxPool2d-12            [-1, 128, 8, 8]               0\n",
            "        Dropout2d-13            [-1, 128, 8, 8]               0\n",
            "           Conv2d-14            [-1, 256, 8, 8]         295,168\n",
            "      BatchNorm2d-15            [-1, 256, 8, 8]             512\n",
            "             ReLU-16            [-1, 256, 8, 8]               0\n",
            "           Conv2d-17            [-1, 256, 8, 8]         590,080\n",
            "             ReLU-18            [-1, 256, 8, 8]               0\n",
            "        MaxPool2d-19            [-1, 256, 4, 4]               0\n",
            "          Dropout-20                 [-1, 4096]               0\n",
            "           Linear-21                 [-1, 1024]       4,195,328\n",
            "             ReLU-22                 [-1, 1024]               0\n",
            "           Linear-23                  [-1, 512]         524,800\n",
            "             ReLU-24                  [-1, 512]               0\n",
            "          Dropout-25                  [-1, 512]               0\n",
            "           Linear-26                   [-1, 10]           5,130\n",
            "================================================================\n",
            "Total params: 5,852,170\n",
            "Trainable params: 5,852,170\n",
            "Non-trainable params: 0\n",
            "----------------------------------------------------------------\n",
            "Input size (MB): 0.01\n",
            "Forward/backward pass size (MB): 3.96\n",
            "Params size (MB): 22.32\n",
            "Estimated Total Size (MB): 26.30\n",
            "----------------------------------------------------------------\n",
            "None\n"
          ],
          "name": "stdout"
        }
      ]
    },
    {
      "cell_type": "markdown",
      "metadata": {
        "id": "gf_8XEXa-gZ7"
      },
      "source": [
        "## FedProx"
      ]
    },
    {
      "cell_type": "markdown",
      "metadata": {
        "id": "XOchMapqvV_7"
      },
      "source": [
        "### Systems Heterogeneity Simulations\n",
        "\n",
        "Generate epochs for selected clients based on percentage of devices that corresponds to heterogeneity. \n",
        "\n",
        "Assign x number of epochs (chosen unifirmly at random between [1, E]) to 0%, 50% or 90% of the selected devices, respectively. Settings where 0% devices perform fewer than E epochs of work correspond to the environments without system heterogeneity, while 90% of the devices sending their partial solutions corresponds to highly heterogenous system."
      ]
    },
    {
      "cell_type": "code",
      "metadata": {
        "id": "qRQZRPaZvV_7"
      },
      "source": [
        "def GenerateLocalEpochs(percentage, size, max_epochs):\n",
        "  ''' Method generates list of epochs for selected clients\n",
        "  to replicate system heteroggeneity\n",
        "\n",
        "  Params:\n",
        "    percentage: percentage of clients to have fewer than E epochs\n",
        "    size:       total size of the list\n",
        "    max_epochs: maximum value for local epochs\n",
        "  \n",
        "  Returns:\n",
        "    List of size epochs for each Client Update\n",
        "\n",
        "  '''\n",
        "\n",
        "  # if percentage is 0 then each client runs for E epochs\n",
        "  if percentage == 0:\n",
        "      return np.array([max_epochs]*size)\n",
        "  else:\n",
        "    # get the number of clients to have fewer than E epochs\n",
        "    heterogenous_size = int((percentage/100) * size)\n",
        "\n",
        "    # generate random uniform epochs of heterogenous size between 1 and E\n",
        "    epoch_list = np.random.randint(1, max_epochs, heterogenous_size)\n",
        "\n",
        "    # the rest of the clients will have E epochs\n",
        "    remaining_size = size - heterogenous_size\n",
        "    rem_list = [max_epochs]*remaining_size\n",
        "\n",
        "    epoch_list = np.append(epoch_list, rem_list, axis=0)\n",
        "    \n",
        "    # shuffle the list and return\n",
        "    np.random.shuffle(epoch_list)\n",
        "\n",
        "    return epoch_list"
      ],
<<<<<<< HEAD
      "execution_count": 16,
=======
      "execution_count": 57,
>>>>>>> 3e40152c547c99995bfcbe0d16b86f0869affe1f
      "outputs": []
    },
    {
      "cell_type": "markdown",
      "metadata": {
        "id": "hGqruzfzvV_8"
      },
      "source": [
        "## Federated Averaging"
      ]
    },
    {
      "cell_type": "markdown",
      "metadata": {
        "id": "L-aNdQsQ-Kvp"
      },
      "source": [
        "### Local Training (Client Update)\n",
        "\n",
        "Local training for the model on client side"
      ]
    },
    {
      "cell_type": "code",
      "metadata": {
        "id": "oX6OsQyO-Gz7"
      },
      "source": [
        "class CustomDataset(Dataset):\n",
        "  def __init__(self, dataset, idxs):\n",
        "      self.dataset = dataset\n",
        "      self.idxs = list(idxs)\n",
        "\n",
        "  def __len__(self):\n",
        "      return len(self.idxs)\n",
        "\n",
        "  def __getitem__(self, item):\n",
        "      image, label = self.dataset[self.idxs[item]]\n",
        "      return image, label\n",
        "\n",
        "\n",
        "class ClientUpdate(object):\n",
        "  def __init__(self, dataset, batchSize, learning_rate, epochs, idxs, mu, algorithm):\n",
        "    self.train_loader = DataLoader(CustomDataset(dataset, idxs), batch_size=batchSize, shuffle=True)\n",
        "    self.algorithm = algorithm\n",
        "    self.learning_rate = learning_rate\n",
        "    self.epochs = epochs\n",
        "\n",
        "  def train(self, model):\n",
        "    criterion = nn.CrossEntropyLoss()\n",
        "    proximal_criterion = nn.MSELoss(reduction='mean')\n",
        "    optimizer = torch.optim.SGD(model.parameters(), lr=self.learning_rate, momentum=0.5)\n",
        "\n",
        "    # use the weights of global model for proximal term calculation\n",
        "    global_model = copy.deepcopy(model)\n",
        "\n",
        "    # calculate local training time\n",
        "    start_time = time.time()\n",
        "\n",
        "\n",
        "    e_loss = []\n",
        "    for epoch in range(1, self.epochs+1):\n",
        "\n",
        "      train_loss = 0.0\n",
        "\n",
        "      model.train()\n",
        "      for data, labels in self.train_loader:\n",
        "\n",
        "        if torch.cuda.is_available():\n",
        "          data, labels = data.cuda(), labels.cuda()\n",
        "\n",
        "        # clear the gradients\n",
        "        optimizer.zero_grad()\n",
        "        # make a forward pass\n",
        "        output = model(data)\n",
        "\n",
        "        # calculate the loss + the proximal term\n",
        "        _, pred = torch.max(output, 1)\n",
        "\n",
        "        if self.algorithm == 'fedprox':\n",
        "          proximal_term = 0.0\n",
        "\n",
        "          # iterate through the current and global model parameters\n",
        "          for w, w_t in zip(model.parameters(), global_model.parameters()) :\n",
        "            # update the proximal term \n",
        "            #proximal_term += torch.sum(torch.abs((w-w_t)**2))\n",
        "            proximal_term += (w-w_t).norm(2)\n",
        "\n",
        "          loss = criterion(output, labels) + (mu/2)*proximal_term\n",
        "        else:\n",
        "          loss = criterion(output, labels)\n",
        "    \n",
        "        # do a backwards pass\n",
        "        loss.backward()\n",
        "        # perform a single optimization step\n",
        "        optimizer.step()\n",
        "        # update training loss\n",
        "        train_loss += loss.item()*data.size(0)\n",
        "\n",
        "      # average losses\n",
        "      train_loss = train_loss/len(self.train_loader.dataset)\n",
        "      e_loss.append(train_loss)\n",
        "\n",
        "    total_loss = sum(e_loss)/len(e_loss)\n",
        "\n",
        "    return model.state_dict(), total_loss, (time.time() - start_time)"
      ],
<<<<<<< HEAD
      "execution_count": 17,
=======
      "execution_count": 58,
>>>>>>> 3e40152c547c99995bfcbe0d16b86f0869affe1f
      "outputs": []
    },
    {
      "cell_type": "markdown",
      "metadata": {
        "id": "Ukgh1DVHE2Ds"
      },
      "source": [
        "### Server Side Training\n",
        "\n",
        "Following Algorithm 1 from the paper"
      ]
    },
    {
      "cell_type": "code",
      "metadata": {
        "id": "1NF1e33BgpeL"
      },
      "source": [
        "def training(model, rounds, batch_size, lr, ds, ds_test, data_dict, C, K, E, mu, percentage, plt_title, plt_color, target_test_accuracy, algorithm=\"fedprox\"):\n",
        "  \"\"\"\n",
        "  Function implements the Federated Averaging Algorithm from the FedAvg paper.\n",
        "  Specifically, this function is used for the server side training and weight update\n",
        "\n",
        "  Params:\n",
        "    - model:           PyTorch model to train\n",
        "    - rounds:          Number of communication rounds for the client update\n",
        "    - batch_size:      Batch size for client update training\n",
        "    - lr:              Learning rate used for client update training\n",
        "    - ds:              Dataset used for training\n",
        "    - ds_test:         Dataset used for testing\n",
        "    - data_dict:       Type of data partition used for training (IID or non-IID)\n",
        "    - C:               Fraction of clients randomly chosen to perform computation on each round\n",
        "    - K:               Total number of clients\n",
        "    - E:               Number of training passes each client makes over its local dataset per round\n",
        "    - tb_writer_name:  Directory name to save the tensorboard logs\n",
        "  Returns:\n",
        "    - model:           Trained model on the server\n",
        "  \"\"\"\n",
        "\n",
        "  # global model weights\n",
        "  global_weights = model.state_dict()\n",
        "\n",
        "  # training loss\n",
        "  # train_accuracy = []\n",
        "  train_loss = []\n",
        "  test_accuracy = []\n",
        "  test_loss = []\n",
        "\n",
        "  # store last loss for convergence\n",
        "  last_loss = 0.0\n",
        "\n",
        "  # total time taken \n",
        "  total_time = 0\n",
        "  start = time.time()\n",
        "\n",
        "  print(f\"System heterogeneity set to {percentage}% stragglers.\\n\")\n",
        "  print(f\"Picking {max(int(C*K),1 )} random clients per round.\\n\")\n",
        "\n",
        "  for curr_round in range(1, rounds+1):\n",
        "    w, local_loss, lst_local_train_time = [], [], []\n",
        "\n",
        "    m = max(int(C*K), 1)\n",
        "\n",
        "    heterogenous_epoch_list = GenerateLocalEpochs(percentage, size=m, max_epochs=E)\n",
        "    heterogenous_epoch_list = np.array(heterogenous_epoch_list)\n",
        "\n",
        "    S_t = np.random.choice(range(K), m, replace=False)\n",
        "    S_t = np.array(S_t)\n",
        "    \n",
        "    # For Federated Averaging, drop all the clients that are stragglers\n",
        "    if algorithm == 'fedavg':\n",
        "      stragglers_indices = np.argwhere(heterogenous_epoch_list < E)\n",
        "      heterogenous_epoch_list = np.delete(heterogenous_epoch_list, stragglers_indices)\n",
        "      S_t = np.delete(S_t, stragglers_indices)\n",
        "\n",
        "    for k, epoch in zip(S_t, heterogenous_epoch_list):\n",
        "      local_update = ClientUpdate(dataset=ds, batchSize=batch_size, learning_rate=lr, epochs=epoch, idxs=data_dict[k], mu=mu, algorithm=algorithm)\n",
        "      weights, loss, local_train_time = local_update.train(model=copy.deepcopy(model))\n",
        "\n",
        "      w.append(copy.deepcopy(weights))\n",
        "      local_loss.append(copy.deepcopy(loss))\n",
        "      lst_local_train_time.append(local_train_time)\n",
        "\n",
        "    # calculate time to update the global weights\n",
        "    global_start_time = time.time()\n",
        "\n",
        "    # updating the global weights\n",
        "    weights_avg = copy.deepcopy(w[0])\n",
        "    for k in weights_avg.keys():\n",
        "      for i in range(1, len(w)):\n",
        "        weights_avg[k] += w[i][k]\n",
        "\n",
        "      weights_avg[k] = torch.div(weights_avg[k], len(w))\n",
        "\n",
        "    global_weights = weights_avg\n",
        "    global_end_time = time.time()\n",
        "\n",
        "    # calculate total time \n",
        "    total_time += (global_end_time - global_start_time) + sum(lst_local_train_time)/len(lst_local_train_time)\n",
        "\n",
        "    # move the updated weights to our model state dict\n",
        "    model.load_state_dict(global_weights)\n",
        "\n",
        "    # loss\n",
        "    loss_avg = sum(local_loss) / len(local_loss)\n",
        "\n",
        "    # test accuracy\n",
        "    criterion = nn.CrossEntropyLoss()\n",
        "    test_accuracy_current, test_loss_current = testing(copy.deepcopy(model), ds_test, 128, criterion, num_classes, classes_test)\n",
        "    test_accuracy.append(test_accuracy_current)\n",
        "    test_loss.append(test_loss_current)\n",
        "\n",
        "    print(f\"Round: {curr_round}... \\tAverage Train Loss: {round(loss_avg, 3)}... \\tTest Loss: {test_loss_current}... \\tTest Accuracy: {test_accuracy_current}\")\n",
        "    train_loss.append(loss_avg)\n",
        "\n",
        "    # break if we achieve the target test accuracy\n",
        "#     if test_accuracy_current >= target_test_accuracy:\n",
        "#       rounds = curr_round\n",
        "#       break\n",
        "\n",
        "    # break if we achieve convergence, i.e., loss between two consecutive rounds is <0.0001\n",
        "    if algorithm == 'fedprox' and abs(loss_avg - last_loss) < 0.0001:\n",
        "      rounds = curr_round\n",
        "      break\n",
        "    \n",
        "    # update the last loss\n",
        "    last_loss = loss_avg\n",
        "\n",
        "  end = time.time()\n",
        "  # plot train loss\n",
        "  fig, ax = plt.subplots()\n",
        "  x_axis = np.arange(1, rounds+1)\n",
        "  y_axis = np.array(train_loss)\n",
        "  ax.plot(x_axis, y_axis)\n",
        "\n",
        "  ax.set(xlabel='Number of Rounds', ylabel='Train Loss', title=plt_title)\n",
        "  ax.grid()\n",
        "  fig.savefig(plt_title+'_Train_loss.jpg', format='jpg')\n",
        "  plt.show()\n",
        "\n",
        "  fig, ax = plt.subplots()\n",
        "  x_axis = np.arange(1, rounds+1)\n",
        "  y_axis = np.array(test_loss)\n",
        "  ax.plot(x_axis, y_axis, 'tab:'+plt_color)\n",
        "\n",
        "  ax.set(xlabel='Number of Rounds', ylabel='Test Loss', title=plt_title)\n",
        "  ax.grid()\n",
        "  fig.savefig(plt_title+'_Test_loss.jpg', format='jpg')\n",
        "  plt.show()\n",
        "\n",
        "\n",
        "  fig, ax = plt.subplots()\n",
        "  x_axis = np.arange(1, rounds+1)\n",
        "  y_axis = np.array(test_accuracy)\n",
        "  ax.plot(x_axis, y_axis, 'tab:'+plt_color)\n",
        "\n",
        "  ax.set(xlabel='Number of Rounds', ylabel='Test Accuracy', title=plt_title)\n",
        "  ax.grid()\n",
        "  fig.savefig(plt_title+'_Test_Accuracy.jpg', format='jpg')\n",
        "  plt.show()\n",
        "  \n",
        "  print(\"Training Done!\")\n",
        "  print(\"Total time taken to Train: {}\\n\\n\".format(end-start))\n",
        "  \n",
        "  return model, train_loss, test_accuracy, test_loss"
      ],
<<<<<<< HEAD
      "execution_count": 18,
=======
      "execution_count": 59,
>>>>>>> 3e40152c547c99995bfcbe0d16b86f0869affe1f
      "outputs": []
    },
    {
      "cell_type": "markdown",
      "metadata": {
        "id": "tUYyb4T-uXmF"
      },
      "source": [
        "## Testing Loop"
      ]
    },
    {
      "cell_type": "code",
      "metadata": {
        "id": "uCcIZmO5uan9"
      },
      "source": [
        "def testing(model, dataset, bs, criterion, num_classes, classes, print_info=False):\n",
        "  #test loss \n",
        "  test_loss = 0.0\n",
        "  correct_class = list(0. for i in range(num_classes))\n",
        "  total_class = list(0. for i in range(num_classes))\n",
        "\n",
        "  test_loader = DataLoader(dataset, batch_size=bs)\n",
        "  l = len(test_loader)\n",
        "  model.eval()\n",
        "  for data, labels in test_loader:\n",
        "\n",
        "    if torch.cuda.is_available():\n",
        "      data, labels = data.cuda(), labels.cuda()\n",
        "\n",
        "    output = model(data)\n",
        "    loss = criterion(output, labels)\n",
        "    test_loss += loss.item()*data.size(0)\n",
        "\n",
        "    _, pred = torch.max(output, 1)\n",
        "\n",
        "    correct_tensor = pred.eq(labels.data.view_as(pred))\n",
        "    correct = np.squeeze(correct_tensor.numpy()) if not torch.cuda.is_available() else np.squeeze(correct_tensor.cpu().numpy())\n",
        "\n",
        "    #test accuracy for each object class\n",
        "    for i in range(num_classes):\n",
        "      label = labels.data[i]\n",
        "      correct_class[label] += correct[i].item()\n",
        "      total_class[label] += 1\n",
        "    \n",
        "  # avg test loss\n",
        "  test_loss = test_loss/len(test_loader.dataset)\n",
        "  test_accuracy = 100. * np.sum(correct_class) / np.sum(total_class)\n",
        "\n",
        "  if print_info:\n",
        "    print(\"Test Loss: {:.6f}\\n\".format(test_loss))\n",
        "\n",
        "    for i in range(10):\n",
        "      if total_class[i]>0:\n",
        "        print('Test Accuracy of %5s: %2d%% (%2d/%2d)' % \n",
        "              (classes[i], 100 * correct_class[i] / total_class[i],\n",
        "              np.sum(correct_class[i]), np.sum(total_class[i])))\n",
        "      else:\n",
        "        print('Test Accuracy of %5s: N/A (no training examples)' % (classes[i]))\n",
        "\n",
        "    print('\\nFinal Test  Accuracy: {:.3f} ({}/{})'.format(\n",
        "          100. * np.sum(correct_class) / np.sum(total_class),\n",
        "          np.sum(correct_class), np.sum(total_class)))\n",
        "  \n",
        "  return test_accuracy, test_loss"
      ],
<<<<<<< HEAD
      "execution_count": 19,
=======
      "execution_count": 60,
>>>>>>> 3e40152c547c99995bfcbe0d16b86f0869affe1f
      "outputs": []
    },
    {
      "cell_type": "markdown",
      "metadata": {
        "id": "Ri0FqXFeHW-V"
      },
      "source": [
        "## Logger"
      ]
    },
    {
      "cell_type": "code",
      "metadata": {
        "id": "cMBtx9P5c1V_"
      },
      "source": [
        "log_dict = {}\n",
        "NUM_REPEAT = 1"
      ],
<<<<<<< HEAD
      "execution_count": 20,
=======
      "execution_count": 61,
>>>>>>> 3e40152c547c99995bfcbe0d16b86f0869affe1f
      "outputs": []
    },
    {
      "cell_type": "markdown",
      "metadata": {
        "id": "4hO5oV6aXqeh"
      },
      "source": [
        "## CIFAR CNN on IID"
      ]
    },
    {
      "cell_type": "markdown",
      "metadata": {
        "id": "flSQv_P4zCfx"
      },
      "source": [
        "### Train\n"
      ]
    },
    {
      "cell_type": "code",
      "metadata": {
        "id": "0ZalcKZtEseA",
        "colab": {
          "base_uri": "https://localhost:8080/",
          "height": 1000
        },
<<<<<<< HEAD
        "outputId": "081730a9-4d5b-412f-f414-5e6127f1f02c"
=======
        "outputId": "74c65805-c64e-460d-b5fa-924a88beaa4d"
>>>>>>> 3e40152c547c99995bfcbe0d16b86f0869affe1f
      },
      "source": [
        "train_loss_multiple_runs = [None] * NUM_REPEAT\n",
        "test_accuracy_multiple_runs = [None] * NUM_REPEAT\n",
        "test_loss_multiple_runs = [None] * NUM_REPEAT\n",
        "\n",
        "for exp_num in range(NUM_REPEAT):\n",
        "  print(\"Experiment Run Number: \", exp_num)\n",
        "\n",
        "  # number of training rounds\n",
        "  rounds = 50\n",
        "  # client fraction\n",
        "  C = 0.1\n",
        "  # number of clients\n",
        "  K = 10\n",
        "  # number of training passes on local dataset for each roung\n",
        "  E = 5\n",
        "  # batch size\n",
        "  batch_size = 10\n",
        "  # learning Rate\n",
        "  lr=0.05\n",
        "  # proximal term constant\n",
        "  mu = 0.01\n",
        "  # percentage of clients to have fewer than E epochs\n",
        "  percentage = 50\n",
        "\n",
        "  # target_test_accuracy\n",
        "  target_test_accuracy=80.0\n",
        "  # data partition dictionary\n",
        "  iid_dict = iid_partition(cifar_data_train, 10)\n",
        "  # load model\n",
        "  cifar_cnn = CIFAR_CNN()\n",
        "\n",
        "  if torch.cuda.is_available():\n",
        "    cifar_cnn.cuda()\n",
        "\n",
        "  cifar_cnn_iid_trained, train_loss, test_accuracy, test_loss = training(cifar_cnn, rounds, batch_size, lr, cifar_data_train, cifar_data_test, iid_dict, C, K, E, mu, percentage, \"CIFAR CNN on IID Dataset\", \"orange\", target_test_accuracy)\n",
        "\n",
        "  train_loss_multiple_runs[exp_num] = train_loss\n",
        "  test_accuracy_multiple_runs[exp_num] = test_accuracy\n",
        "  test_loss_multiple_runs[exp_num] = test_loss\n",
        "        \n",
        "  del cifar_cnn_iid_trained\n",
        "  torch.cuda.empty_cache()"
      ],
<<<<<<< HEAD
      "execution_count": 21,
=======
      "execution_count": 62,
>>>>>>> 3e40152c547c99995bfcbe0d16b86f0869affe1f
      "outputs": [
        {
          "output_type": "stream",
          "text": [
            "Experiment Run Number:  0\n",
            "System heterogeneity set to 50% stragglers.\n",
            "\n",
            "Picking 1 random clients per round.\n",
            "\n",
<<<<<<< HEAD
            "Round: 1... \tAverage Train Loss: 1.942... \tTest Loss: 1.501409993171692... \tTest Accuracy: 44.050632911392405\n",
            "Round: 2... \tAverage Train Loss: 1.61... \tTest Loss: 1.3356209199905396... \tTest Accuracy: 52.53164556962025\n",
            "Round: 3... \tAverage Train Loss: 1.408... \tTest Loss: 1.1702637371063231... \tTest Accuracy: 57.59493670886076\n",
            "Round: 4... \tAverage Train Loss: 1.298... \tTest Loss: 1.0913564249038696... \tTest Accuracy: 61.51898734177215\n",
            "Round: 5... \tAverage Train Loss: 1.186... \tTest Loss: 0.9794953653335571... \tTest Accuracy: 65.0632911392405\n",
            "Round: 6... \tAverage Train Loss: 1.054... \tTest Loss: 1.016149980545044... \tTest Accuracy: 65.31645569620254\n",
            "Round: 7... \tAverage Train Loss: 0.908... \tTest Loss: 0.8565704649925232... \tTest Accuracy: 70.88607594936708\n",
            "Round: 8... \tAverage Train Loss: 1.016... \tTest Loss: 0.8246897562026978... \tTest Accuracy: 73.67088607594937\n",
            "Round: 9... \tAverage Train Loss: 0.95... \tTest Loss: 0.830164898777008... \tTest Accuracy: 72.53164556962025\n",
            "Round: 10... \tAverage Train Loss: 0.794... \tTest Loss: 0.7589890178203583... \tTest Accuracy: 76.9620253164557\n",
            "Round: 11... \tAverage Train Loss: 0.812... \tTest Loss: 0.7832620588302612... \tTest Accuracy: 76.58227848101266\n",
            "Round: 12... \tAverage Train Loss: 0.671... \tTest Loss: 0.7817481715202331... \tTest Accuracy: 77.72151898734177\n",
            "Round: 13... \tAverage Train Loss: 0.868... \tTest Loss: 0.6715473958969116... \tTest Accuracy: 77.59493670886076\n",
            "Round: 14... \tAverage Train Loss: 0.829... \tTest Loss: 0.6415856204509736... \tTest Accuracy: 79.11392405063292\n",
            "Round: 15... \tAverage Train Loss: 0.805... \tTest Loss: 0.6111018186092376... \tTest Accuracy: 79.36708860759494\n",
            "Round: 16... \tAverage Train Loss: 0.682... \tTest Loss: 0.6043871228218078... \tTest Accuracy: 80.50632911392405\n",
            "Round: 17... \tAverage Train Loss: 0.608... \tTest Loss: 0.679392171239853... \tTest Accuracy: 80.25316455696202\n",
            "Round: 18... \tAverage Train Loss: 0.581... \tTest Loss: 0.6431717640399933... \tTest Accuracy: 80.0\n",
            "Round: 19... \tAverage Train Loss: 0.683... \tTest Loss: 0.6062660070419311... \tTest Accuracy: 80.50632911392405\n",
            "Round: 20... \tAverage Train Loss: 0.527... \tTest Loss: 0.6428670620441437... \tTest Accuracy: 80.0\n",
            "Round: 21... \tAverage Train Loss: 0.718... \tTest Loss: 0.6137598243236542... \tTest Accuracy: 81.0126582278481\n",
            "Round: 22... \tAverage Train Loss: 0.702... \tTest Loss: 0.5858514658927918... \tTest Accuracy: 83.0379746835443\n",
            "Round: 23... \tAverage Train Loss: 0.65... \tTest Loss: 0.5908709032058715... \tTest Accuracy: 82.53164556962025\n",
            "Round: 24... \tAverage Train Loss: 0.468... \tTest Loss: 0.6347810186862946... \tTest Accuracy: 81.13924050632912\n",
            "Round: 25... \tAverage Train Loss: 0.538... \tTest Loss: 0.5892322388648987... \tTest Accuracy: 85.0632911392405\n",
            "Round: 26... \tAverage Train Loss: 0.562... \tTest Loss: 0.623424195241928... \tTest Accuracy: 84.68354430379746\n",
            "Round: 27... \tAverage Train Loss: 0.645... \tTest Loss: 0.5516244178056717... \tTest Accuracy: 82.78481012658227\n",
            "Round: 28... \tAverage Train Loss: 0.641... \tTest Loss: 0.5270462760210037... \tTest Accuracy: 83.67088607594937\n",
            "Round: 29... \tAverage Train Loss: 0.571... \tTest Loss: 0.5602428878068924... \tTest Accuracy: 84.0506329113924\n",
            "Round: 30... \tAverage Train Loss: 0.483... \tTest Loss: 0.5876613351345062... \tTest Accuracy: 84.81012658227849\n",
            "Round: 31... \tAverage Train Loss: 0.656... \tTest Loss: 0.5034469086170197... \tTest Accuracy: 85.56962025316456\n",
            "Round: 32... \tAverage Train Loss: 0.492... \tTest Loss: 0.5316584866523743... \tTest Accuracy: 86.07594936708861\n",
            "Round: 33... \tAverage Train Loss: 0.549... \tTest Loss: 0.5314553678512574... \tTest Accuracy: 84.17721518987342\n",
            "Round: 34... \tAverage Train Loss: 0.534... \tTest Loss: 0.5263837769031524... \tTest Accuracy: 85.0632911392405\n",
            "Round: 35... \tAverage Train Loss: 0.612... \tTest Loss: 0.5191655459403992... \tTest Accuracy: 85.18987341772151\n",
            "Round: 36... \tAverage Train Loss: 0.518... \tTest Loss: 0.5570902034759522... \tTest Accuracy: 83.0379746835443\n",
            "Round: 37... \tAverage Train Loss: 0.562... \tTest Loss: 0.48032669277191165... \tTest Accuracy: 87.59493670886076\n",
            "Round: 38... \tAverage Train Loss: 0.484... \tTest Loss: 0.5442877617835998... \tTest Accuracy: 86.07594936708861\n",
            "Round: 39... \tAverage Train Loss: 0.452... \tTest Loss: 0.5478535956382752... \tTest Accuracy: 84.81012658227849\n",
            "Round: 40... \tAverage Train Loss: 0.474... \tTest Loss: 0.5587418911933899... \tTest Accuracy: 85.9493670886076\n",
            "Round: 41... \tAverage Train Loss: 0.433... \tTest Loss: 0.5488017916679382... \tTest Accuracy: 85.69620253164557\n",
            "Round: 42... \tAverage Train Loss: 0.397... \tTest Loss: 0.5872656929969787... \tTest Accuracy: 84.55696202531645\n",
            "Round: 43... \tAverage Train Loss: 0.499... \tTest Loss: 0.5475386619567871... \tTest Accuracy: 84.68354430379746\n",
            "Round: 44... \tAverage Train Loss: 0.431... \tTest Loss: 0.6369686146736145... \tTest Accuracy: 84.30379746835443\n",
            "Round: 45... \tAverage Train Loss: 0.349... \tTest Loss: 0.6558998223304748... \tTest Accuracy: 83.79746835443038\n",
            "Round: 46... \tAverage Train Loss: 0.425... \tTest Loss: 0.5747833076477051... \tTest Accuracy: 85.0632911392405\n",
            "Round: 47... \tAverage Train Loss: 0.338... \tTest Loss: 0.6014581605911254... \tTest Accuracy: 86.70886075949367\n",
            "Round: 48... \tAverage Train Loss: 0.618... \tTest Loss: 0.5765082160949707... \tTest Accuracy: 83.79746835443038\n",
            "Round: 49... \tAverage Train Loss: 0.372... \tTest Loss: 0.5663888362884522... \tTest Accuracy: 86.32911392405063\n",
            "Round: 50... \tAverage Train Loss: 0.427... \tTest Loss: 0.6310242452144623... \tTest Accuracy: 82.40506329113924\n"
=======
            "Round: 1... \tAverage Train Loss: 1.931... \tTest Loss: 1.4811292486190797... \tTest Accuracy: 46.45569620253165\n",
            "Round: 2... \tAverage Train Loss: 1.59... \tTest Loss: 1.3874917030334473... \tTest Accuracy: 49.36708860759494\n",
            "Round: 3... \tAverage Train Loss: 1.386... \tTest Loss: 1.0935409852981568... \tTest Accuracy: 59.24050632911393\n",
            "Round: 4... \tAverage Train Loss: 1.273... \tTest Loss: 0.9970596485137939... \tTest Accuracy: 63.67088607594937\n",
            "Round: 5... \tAverage Train Loss: 1.17... \tTest Loss: 0.854034699344635... \tTest Accuracy: 69.62025316455696\n",
            "Round: 6... \tAverage Train Loss: 1.028... \tTest Loss: 0.9183138939857483... \tTest Accuracy: 66.83544303797468\n",
            "Round: 7... \tAverage Train Loss: 0.875... \tTest Loss: 0.9115681597709656... \tTest Accuracy: 71.64556962025317\n",
            "Round: 8... \tAverage Train Loss: 1.004... \tTest Loss: 0.8742634136199952... \tTest Accuracy: 70.25316455696202\n",
            "Round: 9... \tAverage Train Loss: 0.927... \tTest Loss: 0.8090478878974915... \tTest Accuracy: 71.64556962025317\n",
            "Round: 10... \tAverage Train Loss: 0.77... \tTest Loss: 0.754944082069397... \tTest Accuracy: 75.82278481012658\n",
            "Round: 11... \tAverage Train Loss: 0.794... \tTest Loss: 0.7181947794914245... \tTest Accuracy: 79.36708860759494\n",
            "Round: 12... \tAverage Train Loss: 0.651... \tTest Loss: 0.8010554789066314... \tTest Accuracy: 75.44303797468355\n",
            "Round: 13... \tAverage Train Loss: 0.852... \tTest Loss: 0.8143136595249176... \tTest Accuracy: 74.43037974683544\n",
            "Round: 14... \tAverage Train Loss: 0.809... \tTest Loss: 0.6284512924194336... \tTest Accuracy: 80.0\n",
            "Round: 15... \tAverage Train Loss: 0.794... \tTest Loss: 0.6162597867488862... \tTest Accuracy: 80.37974683544304\n",
            "Round: 16... \tAverage Train Loss: 0.675... \tTest Loss: 0.6188811852455139... \tTest Accuracy: 81.13924050632912\n",
            "Round: 17... \tAverage Train Loss: 0.599... \tTest Loss: 0.6748281374454498... \tTest Accuracy: 80.12658227848101\n",
            "Round: 18... \tAverage Train Loss: 0.578... \tTest Loss: 0.6260034808158874... \tTest Accuracy: 81.89873417721519\n",
            "Round: 19... \tAverage Train Loss: 0.682... \tTest Loss: 0.6114950277328491... \tTest Accuracy: 80.75949367088607\n",
            "Round: 20... \tAverage Train Loss: 0.529... \tTest Loss: 0.6872152107238769... \tTest Accuracy: 83.54430379746836\n",
            "Round: 21... \tAverage Train Loss: 0.714... \tTest Loss: 0.5782120419502258... \tTest Accuracy: 83.29113924050633\n",
            "Round: 22... \tAverage Train Loss: 0.69... \tTest Loss: 0.5495187237739563... \tTest Accuracy: 84.17721518987342\n",
            "Round: 23... \tAverage Train Loss: 0.634... \tTest Loss: 0.5621470603942871... \tTest Accuracy: 82.78481012658227\n",
            "Round: 24... \tAverage Train Loss: 0.452... \tTest Loss: 0.596465472650528... \tTest Accuracy: 81.13924050632912\n",
            "Round: 25... \tAverage Train Loss: 0.528... \tTest Loss: 0.6179925562381744... \tTest Accuracy: 81.51898734177215\n",
            "Round: 26... \tAverage Train Loss: 0.549... \tTest Loss: 0.6646777946472168... \tTest Accuracy: 82.0253164556962\n",
            "Round: 27... \tAverage Train Loss: 0.64... \tTest Loss: 0.5508563669204712... \tTest Accuracy: 84.55696202531645\n",
            "Round: 28... \tAverage Train Loss: 0.645... \tTest Loss: 0.492779195022583... \tTest Accuracy: 85.18987341772151\n",
            "Round: 29... \tAverage Train Loss: 0.58... \tTest Loss: 0.5553602383613586... \tTest Accuracy: 84.68354430379746\n",
            "Round: 30... \tAverage Train Loss: 0.467... \tTest Loss: 0.5738391177654266... \tTest Accuracy: 84.17721518987342\n",
            "Round: 31... \tAverage Train Loss: 0.645... \tTest Loss: 0.5203422691345215... \tTest Accuracy: 83.92405063291139\n",
            "Round: 32... \tAverage Train Loss: 0.483... \tTest Loss: 0.5838972387075424... \tTest Accuracy: 82.9113924050633\n",
            "Round: 33... \tAverage Train Loss: 0.539... \tTest Loss: 0.5311276539802551... \tTest Accuracy: 83.67088607594937\n",
            "Round: 34... \tAverage Train Loss: 0.533... \tTest Loss: 0.5399862497806549... \tTest Accuracy: 84.30379746835443\n",
            "Round: 35... \tAverage Train Loss: 0.62... \tTest Loss: 0.5226626616001129... \tTest Accuracy: 83.41772151898734\n",
            "Round: 36... \tAverage Train Loss: 0.504... \tTest Loss: 0.5458772799491882... \tTest Accuracy: 84.68354430379746\n",
            "Round: 37... \tAverage Train Loss: 0.536... \tTest Loss: 0.4932831223487854... \tTest Accuracy: 85.18987341772151\n",
            "Round: 38... \tAverage Train Loss: 0.469... \tTest Loss: 0.5112625802516937... \tTest Accuracy: 85.82278481012658\n",
            "Round: 39... \tAverage Train Loss: 0.45... \tTest Loss: 0.520256826877594... \tTest Accuracy: 84.68354430379746\n",
            "Round: 40... \tAverage Train Loss: 0.471... \tTest Loss: 0.5594143210411072... \tTest Accuracy: 84.55696202531645\n",
            "Round: 41... \tAverage Train Loss: 0.414... \tTest Loss: 0.5570014238357544... \tTest Accuracy: 85.31645569620254\n",
            "Round: 42... \tAverage Train Loss: 0.377... \tTest Loss: 0.5749411586761475... \tTest Accuracy: 85.56962025316456\n",
            "Round: 43... \tAverage Train Loss: 0.479... \tTest Loss: 0.5593297088623047... \tTest Accuracy: 85.56962025316456\n",
            "Round: 44... \tAverage Train Loss: 0.429... \tTest Loss: 0.5173444573402405... \tTest Accuracy: 85.31645569620254\n",
            "Round: 45... \tAverage Train Loss: 0.331... \tTest Loss: 0.6139231636047363... \tTest Accuracy: 84.68354430379746\n",
            "Round: 46... \tAverage Train Loss: 0.425... \tTest Loss: 0.523433861732483... \tTest Accuracy: 85.82278481012658\n",
            "Round: 47... \tAverage Train Loss: 0.327... \tTest Loss: 0.5783673898696899... \tTest Accuracy: 85.44303797468355\n",
            "Round: 48... \tAverage Train Loss: 0.612... \tTest Loss: 0.4883484297275543... \tTest Accuracy: 85.31645569620254\n",
            "Round: 49... \tAverage Train Loss: 0.357... \tTest Loss: 0.5900749435424805... \tTest Accuracy: 85.9493670886076\n",
            "Round: 50... \tAverage Train Loss: 0.417... \tTest Loss: 0.5849405180931091... \tTest Accuracy: 84.55696202531645\n"
>>>>>>> 3e40152c547c99995bfcbe0d16b86f0869affe1f
          ],
          "name": "stdout"
        },
        {
          "output_type": "display_data",
          "data": {
<<<<<<< HEAD
            "image/png": "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\n",
=======
            "image/png": "iVBORw0KGgoAAAANSUhEUgAAAYIAAAEWCAYAAABrDZDcAAAABHNCSVQICAgIfAhkiAAAAAlwSFlzAAALEgAACxIB0t1+/AAAADh0RVh0U29mdHdhcmUAbWF0cGxvdGxpYiB2ZXJzaW9uMy4yLjIsIGh0dHA6Ly9tYXRwbG90bGliLm9yZy+WH4yJAAAgAElEQVR4nO3dd3gU19X48e9RQ4CEQBIIEAKJXg0G0Uyx5N5iHJfEJe42cYv9xil2fk4cl9dv4jhxqu2YuMeF2HHDHRdEMb33juigQhGSUD+/P2aEFyHtqq1W0p7P8+iRdubOzLlC7Nm59869oqoYY4wJXiGBDsAYY0xgWSIwxpggZ4nAGGOCnCUCY4wJcpYIjDEmyFkiMMaYIGeJwBhjgpwlAuOViFwrIktFJF9E9ovIZyIy0d33iIi87lFWRaTALZsvIkc89qW5+x+ocv5kd3vlMZki8qCPmERE7hWRte719ojIOyIyzN3/invOMR7H9BUR9XidISJFIpLkse0cEclswK+rVtzfxZ4qsdzmsa/C4/exR0TeFpHRXs5X9Xd4UEQ+FpFz6xDTTSIyr2E1az7XMXVjicDUSETuB/4C/B+QAPQEngWmeDlsuKpGuV8dPbbfCBwCbqjhuI6qGgVcCfzGx5vYX4H7gHuBWKA/8AFwsUeZQ8D/ejkHQAHwGx9lAmGf+7uIBsYBG4G5InK2j+Mqf4fDgS+B90XkJr9GaloHVbUv+zrlC4gB8oGrvJR5BHjd47UCfasp1x44BlwNlACpHvuS3ePCPLYtBn5RwzX7AeXAGC9xvQI8DRwAznS39XX+3E+UyQB+68bVx912DpDp5bxnAEuAo+73M6qc73HgW/ecM4H4Gs6TBuypcuxt1e3zKPMPYGkN5zvld+hu/zlwEAhxXz8IbHPjWw98390+CChyf6/5wBF3+8XACiAP2A084nHuSOB1IBc44v4+Ejz+dl4E9gN7cRJyaE3Xsa/Af9kdganJeJz/7O83wrkux/mP/w7wBc7dQbVEZBwwFNhaQ5Gzcd4oF/u4ZiHOncwTXsrsBf4FPOrjXIhILPAJ8DcgDifRfCIicR7FrgVuBroAEThvxI3lPWCkiLSv4zFdgAHu623AJJw36keB10Wkm6puAO4AFujJd3IFOHdwHXGSwp0icpm770b3PEk4v487gOPuvleAMpzkezpwHk6iq+k6JsAsEZiaxAE5qlpWx+OWi8gR9+tv7rYbgf+oajnwJnC1iIRXOS5HRI4DC3Canz7wEtf+WsbyPNBTRC70UuZ3wPdEZIiPc10MbFHVf6tqmaq+hdNk8z2PMi+r6mZVPQ68DYyoZZy1sQ8QnDfluhwDTvMZqvqOqu5T1QpV/Q+wBRhT08GqmqGqa9zyq4G3gDPd3aU4/xZ9VbVcVZepap6IJAAXAf+jqgWqmgX8Gedu0DRTlghMTXKBeBEJq+NxI1W1o/t1r9sZmw684e7/EOdO4+Iqx8UDUcDPcJpHqiYKz7i61SYQVS3Gaa553EuZbJxml8d8nK47sLPKtp1AosfrAx4/F+LUp7Ek4jT/HPFVsMox4PSXICI3iMjKykSNc+cVX9PBIjJWRGaJSLaIHMX5NF9Z/t84d3fTRWSfiPzBTe69cP7t9ntc53mcOxPTTFkiMDVZABQDl/kq6MP1OH9nH4nIAWA7TiI4pXnI/WT5NE478l01nO9roIeIpNby+i/jfIq+3EuZp3CS1SgvZfbhvMl56onTvNQUvg8sV9WCOh6TBWwSkV44zWD3AHFus8xanLsMcJJMVW8CM4AkVY0B/llZXlVLVfVRVR2M03dyCU4z0m6cv5t4jw8EHVS18o7LpjtuhiwRmGqp6lHgYeAZEblMRNqJSLiIXCgif6jDqW7EaY8e4fF1BXBRlfZ1T78HfikikdXEtQWn6egtd6hlhIhEisjV1Q07dZu2fgs8UHWfR5kjwJ+AX3qpx6dAf3c4bZiI/BAYDHzs5ZgGcYfJJorIb4HbgP9Xy+MSROQenHr/SlUrcDrsFch2y9yMc0dQ6SBOgo3w2BYNHFLVInco7rUe10gXkWEiEorTmVwKVKjqfpyO8j+JSAcRCRGRPiJyppfrmACzRGBqpKp/Au4Hfo3zBrIb5xNlTe33J3E7fnsBz6jqAY+vGTidwdfUcOgnwGHg9hr234vTnPMMTlPJNpxPvx/VUP4tfPcr/BVnNEu1VDUX51Pvz3Cap34JXKKqOT7OWx/dRSQfp4N9CTAMSFPVmT6OOyIiBcAanHb6q1T1JTf+9TjJbgHOm/EwnBFOlb4B1gEHRKSyTncBj4nIMZwPBW97lO8K/BcnCWwAZuM0F4FzZxCBMzLpsFuusjmvuuuYABNVu1MzxphgZncExhgT5CwRGGNMkLNEYIwxQc5viUBEktwxyOtFZJ2I3FdNGRGRv4nIVhFZLSIj/RWPMcaY6tX1YaG6KAN+pqrLRSQaWCYiX7qjFypdiDN3TD9gLPCc+71G8fHxmpyc7PXCBQUFtG9flyfxWwerd/AJ1rpbvetu2bJlOaraubp9fksE7nji/e7Px0RkA86Tjp6JYArwmjpDlxaKSEd37pMah/olJyezdOlSr9fOyMggLS2toVVocazewSdY6271rjsRqfpk/Hf7mmL4qIgkA3OAoaqa57H9Y+D3qjrPff018ICqLq1y/FRgKkBCQsKo6dOne71efn4+UVGN+XR/y2D1Dj7BWnerd92lp6cvU9Vqn8j3Z9MQACISBbyLMwlVnq/y1VHVacA0gNTUVPWVEe3TQnAJ1npD8Nbd6t24/DpqyJ2E6l3gDVV9r5oie3Gmsa3Ug6abu8UYYwz+HTUkOItTbHAnEqvODOAGd/TQOOCot/4BY4wxjc+fTUMTcGaeXCMiK91t/w9nxkZU9Z84E3ldhDPvTCHOoh7GGGOakD9HDc3juyluayqjwN3+isEYY4xv9mSxMcYEuaBJBBsP5PH7zzaSV1Qa6FCMMaZZCZpEsPvQcf45exvbsvIDHYoxxjQrQZMIUuKdx7Izc+uy0p8xxrR+QZMIesa2I0RgR7YlAmOM8RQ0iSAiLIQendqxPccSgTHGeAqaRABO89AOSwTGGHOSoEwEtk6zMcZ8J6gSQe/O7SksKSf7WHGgQzHGmGYjqBJB5cgh6ycwxpjvBFUiSI5zEoH1ExhjzHeCKhF079iWiLAQSwTGGOMhqBJBaIiQHNeO7fYsgTHGnBBUiQCcfgJ7utgYY74ThIkgip25BZRX2BBSY4wB/65Q9pKIZInI2hr2x4jIRyKySkTWiUiTLEqTEt+O0nJl7+HjTXE5Y4xp9vx5R/AKcIGX/XcD61V1OJAG/ElEIvwYD+DcEQBsz7FZSI0xBvyYCFR1DnDIWxEg2l3bOMotW+aveCpVPktgI4eMMcYh/pxuQUSSgY9VdWg1+6JxFq8fCEQDP1TVT2o4z1RgKkBCQsKo6dOne71ufn4+UVFR1e5TVe76upAzuodx/eA2ta9MC+Ct3q1ZsNYbgrfuVu+6S09PX6aqqdXt8+fi9b6cD6wEzgL6AF+KyFxVzataUFWnAdMAUlNTNS0tzeuJMzIy8Fam37p5lLQJJy1tbL2Db4581bu1CtZ6Q/DW3erduAI5auhm4D11bAV24Nwd+F1ynM1CaowxlQKZCHYBZwOISAIwANjeFBdOiW/P3iPHKSotb4rLGWNMs+a3piEReQtnNFC8iOwBfguEA6jqP4HHgVdEZA0gwAOqmuOveDz17tweVdh1qJD+CdFNcUljjGm2/JYIVPUaH/v3Aef56/reeI4cskRgjAl2QfdkMUCyDSE1xpgTgjIRdIgMJz4qwhayN8YYgjQRgK1fbIwxlYI6EdhKZcYYE9SJIIqc/GKOFZUGOhRjjAmoIE4ETodxZk5hgCMxxpjACvpEYLOQGmOCXdAmgl5x7RCxIaTGGBO0iSAyPJTuMW0tERhjgl7QJgJwppqwRGCMCXZBnQgqnyXw55oMxhjT3AV1IkiOa8+xojJyC0oCHYoxxgRMUCeClM4255AxxgR1IuhdOfmczTlkjAliQZ0IEju2JTxUbKoJY0xQC+pEEBYaQs/YdmRaIjDGBDG/JQIReUlEskRkrZcyaSKyUkTWichsf8Xijc1CaowJdv68I3gFuKCmnSLSEXgWuFRVhwBX+TGWGqXEt2dHbgEVFTaE1BgTnPyWCFR1DnDIS5FrgfdUdZdbPstfsXiTEh9FSVkF+44eD8TljTEm4MSfD1OJSDLwsaoOrWbfX3AWsx8CRAN/VdXXajjPVGAqQEJCwqjp06d7vW5+fj5RUVG1inFDbjlPLini56mRDI0PrdUxzVVd6t2aBGu9IXjrbvWuu/T09GWqmlrtTlX12xeQDKytYd8/gIVAeyAe2AL093XOUaNGqS+zZs3yWaZSVl6R9nrgY31+9tZaH9Nc1aXerUmw1ls1eOtu9a47YKnW8L4ayFFDe4AvVLVAVXOAOcDwpg6ic3Qbese3Z9F2b61YxhjTegUyEXwITBSRMBFpB4wFNgQikLG9Y1mceYhy6zA2xgQhfw4ffQtYAAwQkT0icquI3CEidwCo6gbgc2A1sBh4QVVrHGrqT2NT4jhWVMaG/XmBuLwxxgRUmL9OrKrX1KLMU8BT/oqhtsb2jgVg4fZchibGBDgaY4xpWkH9ZHGlbjFt6RXXjkU7rJ/AGBN8LBG4xqXEsXjHIXuwzBgTdCwRuMb2juXo8VI2HjgW6FCMMaZJWSJwje0dBzj9BMYYE0wsEbgSO7YlKbYti3ZYIjDGBBdLBB7GpsSxyPoJjDFBxhKBh3G94zhSWMrmLOsnMMYED0sEHsamOM8T2HQTxphgYonAQ1JsOxI7trUOY2NMULFEUMXY3rEs2nGocoZUY4xp9SwRVDEuJY5DBSVsycoPdCjGGNMkLBFUMc59nmCRNQ8ZY4KEJYIqkmLb0i0mkoXWYWyMCRKWCKoQEcb1jmPRjlzrJzDGBAVLBNUYmxJLTn4J27ILAh2KMcb4nSWCati8Q8aYYOLPFcpeEpEsEfG66piIjBaRMhG50l+x1FVyXDsSOrSx9QmMMUHBn3cErwAXeCsgIqHAk8BMP8ZRZyLC2JQ4Fm63fgJjTOvnt0SgqnMAXx+pfwK8C2T5K476Gtc7juxjxezIsX4CY0zr5rc1i30RkUTg+0A6MNpH2anAVICEhAQyMjK8njs/P99nGZ/x5VcA8NrnC0hLCm/QuZpKY9S7JQrWekPw1t3q3bgClgiAvwAPqGqFiHgtqKrTgGkAqampmpaW5rV8RkYGvsr4oqr8bc03bC+N5pG0MQ06V1NpjHq3RMFabwjeulu9G1cgRw2lAtNFJBO4EnhWRC4LYDwnERGuHdOTOZuz2XzQpqU2xrReAUsEqpqiqsmqmgz8F7hLVT8IVDzVuW5cL9qEhfDSvB2BDsUYY/zGn8NH3wIWAANEZI+I3Coid4jIHf66ZmOLbR/BFaN68N6KveTkFwc6HGOM8Qu/9RGo6jV1KHuTv+JoqFsmpPDmol28vnAn/3NO/0CHY4wxjc6eLPahb5cozhrYhX8v2ElRaXmgwzHGmEZniaAWbpuYQm5BCTNW7gt0KMYY0+gsEdTC+D5xDOrWgRfmbbcnjY0xrY4lgloQEW6bmMLmg/nM3ZIT6HCMMaZR+UwEItJHRNq4P6eJyL0i0tH/oTUv3xvenS7RbXjBhpIaY1qZ2twRvAuUi0hfnKd7k4A3/RpVMxQRFsKNZyQzZ3M2mw7YA2bGmNajNomgQlXLcOYF+ruq/gLo5t+wmqdrx/QkMtweMDPGtC61SQSlInINcCPwsbutZczC1sg6tY/gylE9eH+lPWBmjGk9apMIbgbGA0+o6g4RSQH+7d+wmq9bJqRQUlbB6wt3BjoUY4xpFD4TgaquV9V7VfUtEekERKvqk00QW7PUu3MU5wzqwqvzMykoLgt0OMYY02C1GTWUISIdRCQWWA78S0Se9n9ozdfd6X05XFjKG4vsrsAY0/LVpmkoRlXzgMuB11R1LHCOf8Nq3k7v2YlJ/eKZNmc7x0ts2gljTMtWm0QQJiLdgB/wXWdx0Lv37H7k5Jfw1uJdgQ7FGGMapDaJ4DHgC2Cbqi4Rkd7AFv+G1fyNTo5lXO9Ynp+zzSajM8a0aLXpLH5HVU9T1Tvd19tV9Qr/h9b83XtWPw7mFfPO0t2BDsUYY+qtNp3FPUTkfRHJcr/eFZEetTjuJbf82hr2Xyciq0VkjYjMF5Hh9alAII3vE8eoXp14LmMbJWUVgQ7HGGPqpTZNQy8DM4Du7tdH7jZfXgEu8LJ/B3Cmqg4DHsddnL4lERHuPbsf+44W8e7yPYEOxxhj6qU2iaCzqr6sqmXu1ytAZ18Hqeoc4JCX/fNV9bD7ciHg8y6jOZrcL57hPWJ4NmMrpeV2V2CMaXnE1/z6IvI1zh3AW+6ma4CbVfVsnycXSQY+VtWhPsr9HBioqrfVsH8qMBUgISFh1PTp071eNz8/n6ioKF/hNZoVWWX8dXkxtw2LYGJi4GbfaOp6NxfBWm8I3rpbvesuPT19maqmVrtTVb1+Ab1wmoaygSzgAyDJ13HuscnAWh9l0oENQFxtzjlq1Cj1ZdasWT7LNKaKigq98C9zNO2pWVpWXtGk1/bU1PVuLoK13qrBW3erd90BS7WG99XajBraqaqXqmpnVe2iqpcB99UrJVUhIqcBLwBTVDW3Mc4ZCE5fQV925BTw8WpbztIY07LUd4WyHzT0wiLSE3gPuF5VNzf0fIF23uCuDEiI5u/fbLXlLI0xLUp9E4H4LCDyFrAAGCAie0TkVhG5Q0TucIs8DMQBz4rIShFZWs9YmoWQEOH2yb3ZmpXP8l2HfR9gjDHNRFhNO9xJ5qrdRS0Sgape42P/bUC1ncMt1QVDu/LQ+2v4YMU+RvWq6ddnjDHNS42JAFgGKNW/6Zf4J5yWLapNGOcMTuCTNft5+HuDCQ+t7w2XMcY0nRoTgaqmNGUgrcVlIxL5ZPV+5m3JIX1gl0CHY4wxPtlH1kZ2Zv/OxLQN58OVewMdijHG1IolgkYWERbCRcO6MXP9QQpLbAUzY0zzZ4nAD6aM6E5hSTlfrj8Y6FCMMcanWiUCEQkVke4i0rPyy9+BtWRjkmPpFhPJhyvt4TJjTPPnbdQQACLyE+C3wEGgclY1BU7zY1wtWkiIcOnw7rw4bweHCkqIbR8R6JCMMaZGtbkjuA8YoKpDVHWY+2VJwIcpIxIpq1A+WbM/0KEYY4xXtUkEu4Gj/g6ktRnULZp+XaKYYaOHjDHNnM+mIWA7kCEinwDFlRtV9Wm/RdUKiAiXnZ7IU19sYs/hQnp0ahfokIwxplq1uSPYBXwJRADRHl/Gh0uHdwdgxirrNDbGNF8+7whU9dGmCKQ1Soptx6henZixch93pfUNdDjGGFOtGu8IROQv7vePRGRG1a+mC7FlmzKiOxsPHGPjgbxAh2KMMdXydkfwb/f7H5sikNbq4mHdePSj9Xy4ch8DL+gQ6HCMMeYU3iadW+Z+n9104bQ+cVFtmNQvnhkr9/GL8wYQEuJzBm9jjGlSPjuLRaSfiPxXRNaLyPbKr6YIrrW4bEQie48ctwVrjDHNUm1GDb0MPAeU4Sw0/xrwuq+DROQlEckSkbU17BcR+ZuIbBWR1SIysi6BtyTnDE4gIizEHi4zxjRLtUkEbVX1a0DchewfAS6uxXGvABd42X8h0M/9moqTbFqlqDZhnNm/M5+tOUBFRe3WMz5aWEpRabmfIzPGmNolgmIRCQG2iMg9IvJ9IMrXQao6BzjkpcgU4DV1LAQ6iki3WkXdAl08rBsH8opYsdt381B5hXLpM/O48aXFtU4cxhhTX6Lq/Y1GREYDG4COwONAB+Ap983b17HJwMeqOrSafR8Dv1fVee7rr4EHVPWURexFZCrOXQMJCQmjpk+f7vW6+fn5REX5zFVN6niZ8pOvCzm7ZxjXDGrjtezq7DKeXuY8xH394AjO7hleq2s0x3o3hWCtNwRv3a3edZeenr5MVVOr2+f1gTIRCQV+qKo/B/KBm+sVQQOp6jRgGkBqaqqmpaV5LZ+RkYGvMoGQtncJa/bl8dzkM72OHpr+72XEtj/EoG7RvLv1CFMvmUBSrO8pKpprvf0tWOsNwVt3q3fj8vZAWZiqlgMTG/2qjr1AksfrHu62VuuiYd3Yd7SIlXuO1Fgm+1gxX204yBUjE3nyitMQ4P+9vwZfd27GGFNf3voIFrvfV7hPE18vIpdXfjXCtWcAN7ijh8YBR1W1VQ+rOWdwAhGhIXzmZfTQu8v3UFah/HB0T3p0aseDFw5k7pYc3lm6pwkjNcYEk9p0FkcCucBZwCXA99zvXonIW8ACYICI7BGRW0XkDhG5wy3yKc7MpluBfwF31SP+FqVDZDiT+sXz6ZoD1X7CV1X+s2Q3o5M70beL0w543dhejEmJ5fFP1nMwr6ipQzbGBAFvfQRdROR+YC3OimSejdo+2ylU9Rof+xW4uzZBtiYXDuvG1xuzWLXnKCOSOp60b9GOQ+zIKeCe9O8mqAsJEZ684jQu+MscHnp/Df+6IRURezrZGNN4vN0RhOIME43CmXY6qsqXqYdzBycQHip8Wk3z0PTFu4iODOOiYSePok2Jb8/PzxvAVxuybEprY0yj83ZHsF9VH2uySIJETNtwJvaN59M1+/nVhQNPfLo/WljKp2sP8MPUJNpGhJ5y3C0TU/h4zX4embGOCX3jiY/yPgTVGGNqy9sdgbU/+MlFw7qx5/Bx1uz9bgXQ91fsoaSsgh+OTqr2mNAQ4akrT6OguJzHP17fVKEaY4KAt0RwdpNFEWTOHZxAWIicmHtIVZm+ZDfDEmMYmhhT43H9E6K5YXwvPlm9nyOFJU0VrjGmlasxEaiqt+khTAN0bBfBhL7xfOaOHlq15ygbDxzj6jHV3w14+t7w7pRVKF9tyGqCSI0xwaA2w0eNH1w8rBu7DhWybl8e0xfvom146Ik1jr05rUcM3WMi+XztgSaI0hgTDCwRBMh5Q5zmoXeW7mbGqn1cclo3oiN9zykkIpw/tCtztmSTX1zWBJEaY1o7SwQB0rFdBOP7xPHawp0UlpTXqlmo0gVDulJSVsGsjdY8ZIxpOEsEAXTxsG6oQr8uUYzs2anWx6UmxxIfFcHn66x5yBjTcJYIAuj8IV2JjgzjpgnJdXpaODREOHdwV2ZtzLLFa4wxDWaJIIA6tY9gyUPncO2YnnU+9sKhXSksKWfulhw/RGaMCSaWCAIsMjy0XnMHjesdR4fIMD5b2/gTtq7YdZjlu3yvpGaMaR0sEbRQEWEhnDM4ga/WH6S0vKLRzquq3PPmCq58bj6vzs9stPMaY5ovSwQt2IVDu5FXVMaCbbmNds49h4+z98hxukRH8tsZ63j4w7WUNWKiMcY0P5YIWrBJ/eJpFxHaqKOHKpPKK7eM5vZJKby2YCe3vLqUvKLSRruGMaZ58WsiEJELRGSTiGwVkQer2d9TRGaJyAoRWS0iF/kzntYmMjyU9IFdmLnuAOUVjbOU5cLtucS1j2BAQjQPXTyY318+jPlbc7ji2fnsyi1slGsYY5oXvyUCd+H7Z4ALgcHANSIyuEqxXwNvq+rpwNXAs/6Kp7W6YEhXcvJLWLaz4Z27qsqC7bmM6x13ogP76jE9ee2WMRzMK+KyZ7/l2605tn6yMa2MP+8IxgBbVXW7qpYA04EpVcoo0MH9OQawVVfqKH1gFyLCQhpl9NCuQ4XsP1rEuD5xJ20/o288H9w9gZi24Vz3wiImPjmLRz9ax/xtOdZ/YEwr4G1hmoZKBHZ7vN4DjK1S5hFgpoj8BGgPnOPHeFqlqDZhTO4XzxdrDzB53Kl5vaSsgnX7nGUxfQ1TXbjd6R8Y3zv2lH29O0cx454JfLpmP1+uP8gbi3bx8reZxLQN5+yBXZhyeiJn9u/cOJUyxjQp8ddtvohcCVygqre5r68HxqrqPR5l7ndj+JOIjAdeBIaqakWVc00FpgIkJCSMmj59utdr5+fnExUVPKtpzttbygtrSvjFcGVIN6fex8uU2bvLmLmzlENFyl3D2zCmm/e8//yqItblVvDX9LY+k0ZxmbI2t5zlB8tZmV1GQSn8emwkfTudurqavwXbv7enYK271bvu0tPTl6lqanX7/HlHsBfwnEmth7vN063ABQCqukBEIoF44KTZ1FR1GjANIDU1VdPS0rxeOCMjA19lWpMRhSW8su4r1ueFc9XF43h5fiavL9zJsaIyxvWOZVt2AZuKY/hl2ugaz6GqPDj/GyYP7ER6+shaXfd893tBcRnjfvc1q4piuS3t9EaoUd0E27+3p2Ctu9W7cfmzj2AJ0E9EUkQkAqczeEaVMrtwV0ITkUFAJJDtx5hapcqZTL/ZXcrEJ2fxz9nbmNTPadefPnU8l5+eyOzN2RwqqHlVs8zcQg7kFTGud1yNZWrSvk0YV41K4rM1+8nKK2pIVYwxAeC3RKCqZcA9wBfABpzRQetE5DERudQt9jPgdhFZBbwF3KQ2JKVerkpNorwCrkrtwayfpfHsdaMYkdQRgCkjEimr0BNLY1bnRP9An7onAoAbxveiXJU3Fu2q1/HGmMDxZ9MQqvop8GmVbQ97/LwemODPGILFpcO70+HwZtLShp2yb1C3aPonRPHhir1cP65Xtccv2JZL5+g29I5vX6/rJ8e3J61/Z95cvIu70/sSEWbPKhrTUtj/1iAgIkwZkcjSnYfZfejUh8JUlYXbcxnv8fxAfdxwRjLZx4r9MhGeMcZ/LBEEiSkjnPWQZ6w69VGNHTkFZB0rrlf/gKcz+3UmJb69TVZnTAtjiSBI9OjUjtHJnfhgxd5Tngxe4PYPjKvm+YG6CAkRrh/Xi+W7jrBmz9EGncsY03QsEQSRKSMS2ZKVz4b9x07avnD7IRI6tCGlnv0Dnq5M7UG7iFBesbsCY1oMSwRB5KJh3QgLET5c+d3jHKrKgm0nzy/UEB0iw7l8ZCIfrd5Hbn5xg89XX6rKjFX72HzwmO/CxgQ5SwRBJLZ9BGf278yMVfuocGcr3ZZdQE5+MeMb2D/g6cbxyZSUVTB9yW7fhf1k3b487n1rBef9eQ63v7bUVlwzxt4if0oAACAASURBVAtLBEFmyumJ7D9axKIdhwDP/oHGSwT9EqKZ0DeONxbuDNikdJVrOf94cm+WZB7i8mfnc/W0BczenG2zpxpThSWCIHPuoATaR4QyY5XTPLRwey5dO0TSK65do17nxvHJ7DtaxJfrDzbqeWtr7pZsBnaN5lcXDeLbB87i1xcPIjOnkBtfWswlf5/HksxDAYnLmObIEkGQaRsRyvlDuvLJ6v0UlZazaHsu4/s0Tv+Ap7MHJZDYsS2vLshslPPtzC3go2qGvlansKSMpZmHmezOhtq+TRi3TerN7F+m8YcrTuPo8VJuemmxjWwyxmWJIAhNOT2RvKIyXpy3g5z8kgYPG61OaIhw/fheLNx+iHX7Gv6G++C7a/jJWyvYf/S4z7KLdhyipLyCSf3iT9reJiyUH4xO4t07z6BjuwhuenkxmTkFDY7NmJbOEkEQmtAnjvioCP7+zRYAxveO93FE/Vw9OomO7cL59QdrG7SU5tLMQyf6Mj5b43t95rmbc2gTFsLo5OoTXEKHSF67dQwVqtzw0mKyjtlEeSa4WSIIQmGhIVxyWneKSivoHhNJUmxbv1ynY7sIHr10CCt2HeGleTvqfZ6/fbOV2PYR9O0SxadeJs6rNHdLNmNSYokMr3lthD6do3jpptFkHyvm5peXcKyotN7xGdPSWSIIUpVTTjTW8wM1uXR4d84dnMAfZ25iW3Z+nY9ftfsIczZnc9ukFKYM787SnYc5cLTmT/D7jx5nS1Y+k/v5Xi3t9J6dePZHI9l04Bh3vL6M4rLyOsfXWFTVRjOZgLFEEKRGJHXkzrQ+3DQh2a/XERGeuGwokeGh/PK/q+vcRPT3b7YS0zac68f14sJh3QD43MukdpXDRif1r11zV/qALjx5xWl8uzWX+99edeL5Cn9Zu/coz8zaym8/XMudry/jiufmM/HJbxjwm8+Z8sy3Db4zKa9QrnhuPu8t39NIEZtgYIkgSIkID1wwkNN6dPT7tbp0iOS33xvMsp2H6zT1xPp9eXy14SA3T0gmOjKcvl2iGJAQzade+gnmbsmhc3QbBiRE1/o6V4zqwYMXDuST1fv5wxeban1cXWUfK+aHzy/gqS828d6KvWw+eIyI0BBSe3XimtFJrNuXxwPvrm7QncGqPUdYtvOwrQth6sSv6xEYU+n7pyfyyer9PPXFRs4a2KVW8xo9M2srUW3CuPmMlBPbLhrWjb98vZmsvCK6dIg8qXxFhTJvSzbpA7vUubnrx5N7s25fHv9ekMnPzutPeGjjf0b669ebKSqr4MufTqZfNYmqe8e2/O6zjbz0bSa3Tkyp5gy+ZWxyFvhbvusw2ceK6RzdpkExm+Dg1zsCEblARDaJyFYRebCGMj8QkfUisk5E3vRnPCZwRIQnvj+M8NAQHvjvap9NMFuzjvHp2v3ceEYvYtqFn9h+0bCuqMLn6069K1i3L4/DhaW16h+oLr6Lh3WjoKSc5TsbfzqKrVn5vLV4N9eN7VltEgCYOrk35w1O4HefbmBpPR94m70pi87RbVCFrzf452G+rGNFXPXP+azafcQv5zdNz2+JQERCgWeAC4HBwDUiMrhKmX7Ar4AJqjoE+B9/xWMCr2tMJA9fMpjFmYd4bUGm17LPzNpGZFgot0w4+ZNxv4Ro+nWJ4pPVp/YTzNnifBqe0Ld+w2HP6BtHaIicOE9j+v1nG2kbHsp9Z/ersYyI8NRVw0ns1Ja731xOTh0n7cvNL2b13qNcP64XSbFtmemnp7qf+nwTSzIPnxh+bOpuwbZczvpjBnnNZLSaP+8IxgBbVXW7qpYA04EpVcrcDjyjqocBVDXLj/GYZuDKUT1IG9CZJz/fxJYaZgbNzCngw5V7+dG4nsRFndq0cdGwbizOPET2sZPfKOduyWZQtw71bg7pEBnOyJ4dmbM5p17H12TBtly+2nCQO9P6VFsfTzFtw3nuulEcKSzl3rdW1Klzfc6WbFQhbUBnzhvclXlbc8gvLmto+CdZtfsI7yzbQ0KHNny9MYsd9kBevWRszmJ7TgGrdzePp9v92UeQCHhOP7kHGFulTH8AEfkWCAUeUdXPq55IRKYCUwESEhLIyMjweuH8/HyfZVqjllLvS7tVsHhbOef9eQ4juoRyds8wBseFEuK267+0tpgQgSFhB8jIOPWzQeeiClTh7+/P4aye4eTn5/P5V7NYsqOQ85LDG/Q7SAov4f3MUmbMnEWHiIYPq61Q5bEFRcRGCv0qdpORUbvRPD8aGMaLa3O574UvubJ/RI3lPP/N315VRHQE5GxZQeeSCkrKKnju/QxGd22c/+YVqjyxsIgOEcJPh4fw0Dz437fncf3gpu+HaCl/6zVZsM4ZAv3h3OWU7a3537cqf9U70J3FYUA/IA3oAcwRkWGqelLjo6pOA6YBpKamalpamteTZmRk4KtMa9SS6j123HHeWLiT/yzZzR+XFtMrrh0/GtuT8X3imD/zW64b24vLzh9a7bGqysubZ7OlKJLH0saRkZFBRddBlOtSrjtrJBP71f9J6Y59jvDelm/RLv1JG5FY7/NU+mDFXjLzVvL0D4Zz3sgetT4uDcj/72r+s3Q33580nLMHJVRbrvLfvKJCuX/uV5wzpCtnpY9gcnkFz6/9ir3E8Yu00xtcD4D3V+xh29FVPHXlaVyVmsTigpV8vvYAT988gZi24b5P0Iha0t96dR6c/zVQTmFkPGlpI2t9nL/q7c+mob1AksfrHu42T3uAGapaqqo7gM04icG0cokd2/LLCwYy/1dn8derR9Alug1PfLqBS/4+DxH48Zl9ajy2smN30Y7cE+3oc7c400qkJndqUFzDEmPo2C6c2Zsb3k9QVFrOU19sYkj3DlxWj6Ty6JQhDO7WgfvfXsXhghKvZVfvPcqhghLSBjgd5WGhIZw9KIFvNmZR2ghTgRcUl/H7zzYyvEcMV7gJ7ZYJKRSWlPN2ANedaImOFpZyIM+5I1i7t3k0DfkzESwB+olIiohEAFcDM6qU+QDnww8iEo/TVLTdjzGZZqZNWChTRiTyzh1n8Nl9k7hhfC8eumgQ3Tt6n/biwmHdqFD4wh09NHdLDmN7x3mdVqI2QkOEiX3jmbslp8FP+r4yP5O9R47z0EWDCAmpezNTZHgof/rBcI4eL+XNxd6fC8jYlIUITPIYMXXe4ATyispYvKPhU24/M2srB/OK+e2lQ07UZWhiDGNSYnllfmbA1p1oiTYeyANgTEosO3MLOXo88B3GfksEqloG3AN8AWwA3lbVdSLymIhc6hb7AsgVkfXALOAXqprrr5hM8zaoWwcemzKUmyb4HkM/sGs0vePb89maA+Qer2BrVj6TG9Ak5Gly/85kHytm44H6L3N5qKCEZ77ZylkDu3BGPUcxgfM7mdQvnlfmZ3qdAiNjUzbDe3Qktv137c2T+nUmMjyEmdUMta2LXbmFvDB3B5efnsjIniffcd0yIYW9R44HbN2JlmiTO0jiSvfOqjFm520ovz5HoKqfqmp/Ve2jqk+42x5W1Rnuz6qq96vqYFUdpqrT/RmPaT1EhIuGdWPB9lwW7XdGxkyqx/MD1al8DmFOA5qH/vb1FgpKyvjVhQMbHM/tk3qTfayYGSurX4/hUEEJq/YcOdEsVKltRCiT+3Vm5vqDDbq7+d9P1hMWKjxQTV3OHZxAUmxbXvq2/pMKBpsN+48R0zacswd1AWDd3rwAR2RTTJgW7MJhXSmvUGZsK6VLdBv6J0Q1ynm7xkQyICG6zs8TFJeV8+HKvVz1z/m8Mj+TH46u+eGxupjUL56BXaN5cd6Oat/Q554YNtrllH3nDk5g/9Ei1tbzzWbelhxmrj/I3el9SajyJDc4TWk3nZHCkszDrN5jD5jVxqYDeQzoGk1cVBu6x0Syphn0EwR61JAx9Ta4WweS49qRmVvIxf06N+osqpP6xfPagp0UlpTRLsL7f5Pdhwp5c/Eu3l6ym9yCEnrGtuNXFw7kxjOSGyUWEeHWiSn84r+rmbsl58TKa5Vmb8qmU7twhiXGnHLs2YMSCBGYuf4Aw3qcuh/gz19u5j9LdpMQE0mPTm3p0bGt871TO3732QZ6xrbzOuXFD1J78OcvN/Pyt5n8+YcjTtmvqny65gBtwkI4Z3D1o5+Chaqy+WA+V4x0Bg8MSYxhbWtvGjLGnyqbhwAm13K20dqa3L8zJeUVLNpec0froYISbnt1CZOfmsXzs7cxslcnXr1lDBk/T+PHZ/ZpcMe1p0tHdKdzdBv+NffksRQVqszenM3k/p0JraZDOrZ9BKOTY2tsw//XnO389est9O7cng6RYazfl8fL32bymw/XcfMrS9h8MJ+HLh7ktS7RkeFcldqDj1fv42DeyVOE78gp4EcvLuLuN5dzx+vLWLYzuNeK3nP4OPnFZQzo2gFwRqntyClo9Af/6sruCEyLdu3YnizbmEn6wFObRRpiTEosbcJCmL05u8Zz/+aDtczZnMNP0vty9ZiePkc6NUSbsFBuOiOZp77YxIb9eQzq5ryR7MyrINdj2Gh1zhvSlcc/Xs/O3AJ6xX032d8HK/byxKcbuHhYN/52zeknEklFhZKTX8zuw8cpKatgfJ84n/HddEYyr8zP5PWFO/nZeQMoLivn+dnb+cesrbQJDeE3lwzm1fmZ3PPmCj65d9JJndrBpHIAwoCuTpPh0MQOqDoz7Y5JafwlY2vL7ghMi9ajUzvuHBFJh8jGfaApMjyUsb3jmFtDP8Fna/bzyZr93HdOP+4/b4Bfk0Cl68b2pG14KC/M/a5jdnV2OSJ4nWjvPLc5xvOuYM7mbH7+zirG9Y7l6R8OP+luIiRE6NIhklG9OtUqCQD0imvPOYMSeGPRLmZvzuaiv87l6S83c97gBL7+2ZncOjGFZ68bSW5+CT/9z0q/r/vQXG1yh45+lwic5rpAP09gicCYGkzuF8+27AL2Hjl+0vZDBSX85sO1DE3swNTJvZssno7tIrgqtQczVu090QSzJqec0xJjvM5hlBTbjkHdOjBznZMIVu85wh2vL6NfQjTTbkilTVjjNGHdMiGFQwUl3PjSYorLKnj55tH849qRJ6YLH5oYw8PfG8zszdk8N3tbo1yzpdl44BhJsW2JauM0xnSJjqRLdBtLBMY0V2f2r34Y6aMfrePo8VKeunK4X9Yt8OaWCSmUVSivzs/kSGEJ245UcGY1o4WqOndwAkt3HmLZzsPc/PISYttH8OrNoxv1Tmpc71iuHp3E3el9+PKnZ5JeTVzXje3JpcO786eZm1iwLfgeGdp04BgDEjqctG1YM+gwtkRgTA36domia4fIkxLBl+sP8uHKfdyd3vdEO31TSo5vz3mDnSaYmesOonyXsLw5b3ACFQrX/GshCrx2y5hTFvZpKBHh91ecxi/OH0jbiOrvMkSE/7t8GMnx7bl3+gqyjtW8/nRrU1xWzvacAgZ2PXlI8ZDEGLZm5VNYErgOY0sExtRARJjcP555W3MoK6/gaGEpD72/hoFdo7krrW/A4rp9Um+OHi/liU830D7cWX/alyHdO5DYsS2hIrx4Yyq9OzfOMxf1EdUmjGevG8mxolLue2tlndexbiy7DxUybc42SsqaZnqMrVn5lFfoif6BSsMSY6hQ50GzQLFEYIwXk/t35lhRGav2HOGxj9eTW1DCH68aTkRY4P7rjOrViRFJHTl6vJShcaHVDhutSkT41w2pvH/3GZzes2ET8zWGgV078PiUoSzYnsvvP9tQ6zfj9fvy+P1nG9mX3/A374c/XMv/fbqRu99c3iTJYJM7YqjqHcHQROfOMpD9BDZ81BgvJvaNJ0Tgyc83sXjHIe5J73tipEegiAhTJ/fmrjeWc1rn2nf0Du7e9E1Z3lyVmsTSzMP8a+4O3l2+l++fnsgPUpNO+cRcWl7BF+sO8Or8TJZkOsuIxkYKZ00qomtM/Zq3Vu85wqxN2Yxxn7G4641lPHPdyEbrOK/OpgPHiAgNOWW97q4dIolrHxHQRGB3BMZ40bFdBKf16MjiHYfonxDFT84OXJOQpwuHduW1W8YwvnvL/iz3u8uH8fLNoxmbEstrCzI5/y9zmPLMt7yxaCc7cgr429dbmPjkN9zz5goO5hXz64sH8ebtYyksVW56eTHH6rnU49++3kpM23BevCmVx6YM4asNWdz1+nKvE/s11IYDx+jbJYqwKgMMRIShiTEBnWqiZf8VGdMEzh7YhdV7jvCHK4f79RNjXTj9F53J2Nd402oEQkiIkD6gC+kDupCbX8wHK/fx9pLdPPT+2hNlzuzfmd9d3osz+3c50Qx2z+lt+MvyfO58fTkv3TS6Tk11a/ce5asNB7n/3P5ER4Zzw/hkRITffLCWO19fznM/8s+dwaYDeUzoU/0T8EMTOzBvaw5FpeWN+kR6bVkiMMaH2yf35pLh3U+5pTeNKy6qDbdOTOGWCcms2XuUxTsOcdbALtV2bA+ND+N3lw/gF/9dzYPvreZPVw2v9VxT//hmK9GRYSfNBXX9uF6ECDz0/lru+PcynvvRqEZ9Qz5SWMLBvOJTmr0qDUuMobxC2XjgWK06/xubNQ0Z40NkeKglgSYkIpzWoyO3TertdXTTValJ3H9uf95bvpenv9xcq3NvPJDH5+sOcPOElFOW17xubC/+7/vDmLUpmx//e1mjNhNVTi0xsIYhx0O6B/YJY0sExpgW6ydn9eXq0Un8/ZutvLnI+ypuAH//ZitRbcK4ZUJytfuvHduT310+jNmbs/n3gp21juPxj9czbU7NT0tv3O9MLVF1xFClHp3a0rFduNdEcLzEf/0Xfk0EInKBiGwSka0i8qCXcleIiIpIqj/jMca0LiLC/142lPQBnfn1B2v4dM3+GstuOXiMT9fs58YzetGxXc2T3l0zpicT+sbxXMY2CmoxK+iSzEO8OG8Hf/xiM/uqTEdSadPBY3RsF06X6OqnAhERhnav+QnjvKJSLv3HPD7Z7n3t6vryWyIQkVDgGeBCYDBwjYgMrqZcNHAfsMhfsRhjWq+w0BD+ce1Ihid15K43lvPYR+urfS7g799spW14KLdO9D0/1P3nDiC3oIRXF2R6Laeq/O7TDcS7cz39/Zut1ZbbeOAYAxKivfZjDE2MYdOBY6fEXlZewT1vrmBHTgG9Y/zTkezPO4IxwFZV3a6qJcB0YEo15R4HngSC51lzY0yjat8mjOlTx3HTGcm89O0OrvznfHbmFpzYvzUrn49W7+P68b1qNQX2qF6dSB/QmednbyfPyxDVmesPsnzXEX5+Xn+uGZPEO0t3n3RdcKb13nzgWI3NQpWGJnagtFzZfPDkJ4z/95MNzNmczeOXDWVQnH8SgT9HDSUCuz1e7wHGehYQkZFAkqp+IiK/qOlEIjIVmAqQkJBARkaG1wvn5+f7LNMaWb2DT7DWvaZ6p3WA6NPb8NLao5z/dAY3D23D2G5hTFtdTHgIDAk5QEZG9Yv0VHVmbDmzNpXy8OuzuKzvqcmjvEJ55NvjdGsvdM7fRmQb5S2UX70xj6mnfdcElFVYQUFJOZK3n4yMnBqvV1jo3Am8+81icpKcjuxvdpXy2voSzu8VRrfC7X779w7Y8FERCQGeBm7yVVZVpwHTAFJTUzUtLc1r+YyMDHyVaY2s3sEnWOvurd5pwNXnH+fet1bw3KrD7CWOhfv3cevEFC49/5TWaa8W5i3j6605PHLtGaf0K0xfvIv9BWt4/vpRnD2kKwAbKjYwbe52Hv3hGSfWq5657gCwjEvPTGWkl+k9VJXHF8+kJKoraWnD+HZrDm/MXEz6gM48e+NoQkPEb//e/mwa2gskebzu4W6rFA0MBTJEJBMYB8ywDmNjTEMldmzL9KnjuCutDzNW7SM8NITb67F2xE/P7U9+SRnT5py8ROjxknL+/NVmRvXqdGLhH4A7zuxD+4gw/vzVd8NZK+cY6p/gvWnouw7jPLZn53Pn68vo2znqpNXj/MWfiWAJ0E9EUkQkArgamFG5U1WPqmq8qiarajKwELhUVZf6MSZjTJAIDw3hlxcM5O0fj2faDal0ia77vEQDukbzvdO68/K3meTkF5/Y/vL8HRzMK+bBCwee1AHcqX0Et0xM4dM1B04MBa26GI03QxM7sGF/Hre+upTw0BBeuDGV6EZefa86fksEqloG3AN8AWwA3lbVdSLymIhc6q/rGmOMpzEpsbVas6Em953Tj+Kycv6Z4TwncLighOcytnHOoARGJ5+6zvBtk5yH1Sofctt4II+BXWs34d/QxBhKyirYe/g4z18/iqTYdvWOuy78+hyBqn6qqv1VtY+qPuFue1hVZ1RTNs3uBowxzU2fzlFcPrIH/164k4N5RTwzaysFxWX88oIB1ZbvEBnOj8/szTcbs5i/LYfM3EKfI4YqjUmJpWO7cJ68chip1SQZf7Eni40xxof7zu5HeYXymw/W8tqCnVw5qofXNv+bzkgmPiqCX7yzutrFaGrSLaYtK35zLt8/vUdjhV4rlgiMMcaHpNh2/GB0EjPXH0TE6UT2pl1EGHel9WWv+6Rxbe8IgFpPnteYLBEYY0wt/OSsvrSLCOW2SSl0i2nrs/y1Y3vSLSaSiLAQkuOa96SFNg21McbUQreYtsx74Cw6tq3dKJ7I8FD+eNVwNh88dspiNM2NJQJjjKml2kxP4WlC33gm9K1+MZrmpHmnKWOMMX5nicAYY4KcJQJjjAlylgiMMSbIWSIwxpggZ4nAGGOCnCUCY4wJcpYIjDEmyImqBjqGOhGRbGCnj2LxQM1rwrVeVu/gE6x1t3rXXS9VrXY+7haXCGpDRJaqatCtdGb1Dj7BWnerd+OypiFjjAlylgiMMSbItdZEMC3QAQSI1Tv4BGvdrd6NqFX2ERhjjKm91npHYIwxppYsERhjTJBrdYlARC4QkU0islVEHgx0PP4iIi+JSJaIrPXYFisiX4rIFvd7p0DG6A8ikiQis0RkvYisE5H73O2tuu4iEikii0VklVvvR93tKSKyyP17/4+I1G3llBZCREJFZIWIfOy+bvX1FpFMEVkjIitFZKm7zS9/560qEYhIKPAMcCEwGLhGRAYHNiq/eQW4oMq2B4GvVbUf8LX7urUpA36mqoOBccDd7r9xa697MXCWqg4HRgAXiMg44Engz6raFzgM3BrAGP3pPmCDx+tgqXe6qo7weHbAL3/nrSoRAGOAraq6XVVLgOnAlADH5BeqOgc4VGXzFOBV9+dXgcuaNKgmoKr7VXW5+/MxnDeHRFp53dWR774Md78UOAv4r7u91dUbQER6ABcDL7ivhSCodw388nfe2hJBIrDb4/Ued1uwSFDV/e7PB4CEQAbjbyKSDJwOLCII6u42j6wEsoAvgW3AEVUtc4u01r/3vwC/BCrc13EER70VmCkiy0RkqrvNL3/ntnh9K6WqKiKtdmywiEQB7wL/o6p5zodER2utu6qWAyNEpCPwPjAwwCH5nYhcAmSp6jIRSQt0PE1soqruFZEuwJcistFzZ2P+nbe2O4K9QJLH6x7utmBxUES6AbjfswIcj1+ISDhOEnhDVd9zNwdF3QFU9QgwCxgPdBSRyg90rfHvfQJwqYhk4jT1ngX8ldZfb1R1r/s9Cyfxj8FPf+etLREsAfq5IwoigKuBGQGOqSnNAG50f74R+DCAsfiF2z78IrBBVZ/22NWq6y4ind07AUSkLXAuTv/ILOBKt1irq7eq/kpVe6hqMs7/529U9Tpaeb1FpL2IRFf+DJwHrMVPf+et7sliEbkIp00xFHhJVZ8IcEh+ISJvAWk409IeBH4LfAC8DfTEmar7B6patUO5RRORicBcYA3ftRn/P5x+glZbdxE5DadzMBTnA9zbqvqYiPTG+aQcC6wAfqSqxYGL1H/cpqGfq+olrb3ebv3ed1+GAW+q6hMiEocf/s5bXSIwxhhTN62tacgYY0wdWSIwxpggZ4nAGGOCnCUCY4wJcpYIjDEmyFkiMM2SiKiI/Mnj9c9F5JFGOvcrInKl75INvs5VIrJBRGZV2Z4sIsfdWSXXi8hr7kNy/ozlERH5uT+vYVouSwSmuSoGLheR+EAH4snjadbauBW4XVXTq9m3TVVHAMNwnoz9QWPEZ0x9WCIwzVUZzvqsP626o+onehHJd7+nichsEflQRLaLyO9F5Dp3Hv81ItLH4zTniMhSEdnszmdTOanbUyKyRERWi8iPPc47V0RmAOurieca9/xrReRJd9vDwETgRRF5qqZKuvMHLcadNE1Eznbn3V8jzpoTbdztmZVJUURSRSTD/fkRt1yGW+d7PeJ6yK3fPGCAx/Z73TuR1SIy3ds/ggkONumcac6eAVaLyB/qcMxwYBDOFN3bgRdUdYw4C9j8BPgft1wyztwtfYBZItIXuAE4qqqj3Tfgb0Vkplt+JDBUVXd4XkxEuuPMjT8KZ178mSJymfvU71k4T8IurSlYEYkExgL3uT+/ApytqptF5DXgTpwn5b0ZCKQD0cAmEXkOOA1nSoYROP/PlwPL3PIPAimqWlw5bYUJbnZHYJotVc0DXgPu9VXWwxJ3zYJinGmaK9/I1+C8+Vd6W1UrVHULTsIYiDOfyw3uVM+LcKY77ueWX1w1CbhGAxmqmu1Oi/wGMLkWcfZxr3MQ2K+qq3E+te9Q1c1umVdrea5PVLVYVXNwJiFLACYB76tqoft79JxzazXwhoj8COfOywQ5SwSmufsLTlt7e49tZbh/uyISAnguU+g530yFx+sKTr4Drjq3igIC/MRdEWqEqqaoamUiKWhQLU5V2UfQBxglIpf6KH+izkBklX2edS7H953+xTh3WyOBJXXs9zCtkCUC06y5E2q9zclLEWbiNMUAXIqzWlddXSUiIW6/QW9gE/AFcGflCB4R6e/O/OjNYuBMEYkXZ6nUa4DZtQ3C/RT/IPArN4Zkt5kK4HqPc2XyXZ2vqMWp5wCXiUhbdxbL78GJxJmkKFVqcwAAALpJREFUqrOAB4AYIKq28ZrWyRKBaQn+hDPLaqV/4bz5rsKZk78+n9Z34byJfwbcoapFOEshrgeWi8ha4Hl8fLp2V4t6EGda5FXAMlWt69TAHwDtcJqZbgbeEZHK2VX/6ZZ5FPirOIuYl/s6obuc53/cmD7DmaIdnNlLX3fPvwL4m7u+gQliNvuoMcYEObsjMMaYIGeJwBhjgpwlAmOMCXKWCIwxJshZIjDGmCBnicAYY4KcJQJjjAly/x/ofsyX+3y+KAAAAABJRU5ErkJggg==\n",
>>>>>>> 3e40152c547c99995bfcbe0d16b86f0869affe1f
            "text/plain": [
              "<Figure size 432x288 with 1 Axes>"
            ]
          },
          "metadata": {
            "tags": [],
            "needs_background": "light"
          }
        },
        {
          "output_type": "display_data",
          "data": {
<<<<<<< HEAD
            "image/png": "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\n",
=======
            "image/png": "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\n",
>>>>>>> 3e40152c547c99995bfcbe0d16b86f0869affe1f
            "text/plain": [
              "<Figure size 432x288 with 1 Axes>"
            ]
          },
          "metadata": {
            "tags": [],
            "needs_background": "light"
          }
        },
        {
          "output_type": "display_data",
          "data": {
<<<<<<< HEAD
            "image/png": "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\n",
=======
            "image/png": "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\n",
>>>>>>> 3e40152c547c99995bfcbe0d16b86f0869affe1f
            "text/plain": [
              "<Figure size 432x288 with 1 Axes>"
            ]
          },
          "metadata": {
            "tags": [],
            "needs_background": "light"
          }
        },
        {
          "output_type": "stream",
          "text": [
            "Training Done!\n",
<<<<<<< HEAD
            "Total time taken to Train: 3335.272396802902\n",
=======
            "Total time taken to Train: 1579.3610544204712\n",
>>>>>>> 3e40152c547c99995bfcbe0d16b86f0869affe1f
            "\n",
            "\n"
          ],
          "name": "stdout"
        }
      ]
    },
    {
      "cell_type": "markdown",
      "metadata": {
        "id": "wNwC82przF6G"
      },
      "source": [
        "### Test"
      ]
    },
    {
      "cell_type": "code",
      "metadata": {
        "id": "qB97BFs9we9w"
      },
      "source": [
        "# criterion = nn.CrossEntropyLoss()\n",
        "# acc, loss = testing(cifar_cnn_iid_trained, cifar_data_test, 128, criterion, num_classes, classes_test, True)"
      ],
<<<<<<< HEAD
      "execution_count": 22,
=======
      "execution_count": 63,
>>>>>>> 3e40152c547c99995bfcbe0d16b86f0869affe1f
      "outputs": []
    },
    {
      "cell_type": "code",
      "metadata": {
        "id": "gdQZEZmHHeqt"
      },
      "source": [
        "hyperparams = {'rounds': rounds,\n",
        "               'C': C,\n",
        "               'K': K,\n",
        "               'E': E,\n",
        "               'batch_size': batch_size,\n",
        "               'lr': lr,\n",
        "               'mu': mu,\n",
        "               'percentage': percentage,\n",
        "               'target_test_accuracy': target_test_accuracy,\n",
        "               }\n",
        "\n",
        "log_dict['CIFAR CNN on IID'] = {'train_loss': train_loss_multiple_runs, \n",
        "                                'test_loss': test_loss_multiple_runs, \n",
        "                                'test_accuracy': test_accuracy_multiple_runs,\n",
        "                                'hyperparams': hyperparams,\n",
        "                                }"
      ],
<<<<<<< HEAD
      "execution_count": 23,
=======
      "execution_count": 64,
>>>>>>> 3e40152c547c99995bfcbe0d16b86f0869affe1f
      "outputs": []
    },
    {
      "cell_type": "markdown",
      "metadata": {
        "id": "uF8MdSIUYcnl"
      },
      "source": [
        "## CIFAR CNN on Non IID"
      ]
    },
    {
      "cell_type": "markdown",
      "metadata": {
        "id": "a6wXX7JW11bx"
      },
      "source": [
        "### Train\n"
      ]
    },
    {
      "cell_type": "code",
      "metadata": {
        "id": "fCD3kBCKYfBK",
        "colab": {
          "base_uri": "https://localhost:8080/",
          "height": 1000
        },
<<<<<<< HEAD
        "outputId": "2a29f7c3-1ba1-4068-e80c-d946f6fa58d4"
=======
        "outputId": "3be6b815-1f26-42f9-d397-02a6f9b3d10b"
>>>>>>> 3e40152c547c99995bfcbe0d16b86f0869affe1f
      },
      "source": [
        "train_loss_multiple_runs = [None] * NUM_REPEAT\n",
        "test_accuracy_multiple_runs = [None] * NUM_REPEAT\n",
        "test_loss_multiple_runs = [None] * NUM_REPEAT\n",
        "\n",
        "for exp_num in range(NUM_REPEAT):\n",
        "  print(\"Experiment Run Number: \", exp_num)\n",
        "\n",
        "  # number of training rounds\n",
        "  rounds = 50\n",
        "  # client fraction\n",
        "  C = 0.1\n",
        "  # number of clients\n",
        "  K = 10\n",
        "  # number of training passes on local dataset for each roung\n",
        "  E = 5\n",
        "  # batch size\n",
        "  batch_size = 10\n",
        "  # learning Rate\n",
        "  lr=0.05\n",
        "  # proximal term constant\n",
        "  mu = 0.01\n",
        "  # percentage of clients to have fewer than E epochs\n",
        "  percentage = 50\n",
        "  # target_test_accuracy\n",
        "  target_test_accuracy=80.0\n",
        "\n",
        "  # dict containing different type of data partition\n",
        "  data_dict = non_iid_partition(cifar_data_train, 10, 20, 2500, 2)\n",
        "  # load model\n",
        "  cifar_cnn = CIFAR_CNN()\n",
        "\n",
        "  if torch.cuda.is_available():\n",
        "    cifar_cnn.cuda()\n",
        " \n",
        "  cifar_cnn_non_iid_trained, train_loss, test_accuracy, test_loss = training(cifar_cnn, rounds, batch_size, lr, cifar_data_train, cifar_data_test, data_dict, C, K, E, mu, percentage, \"CIFAR CNN on Non-IID Dataset\", \"green\", target_test_accuracy)\n",
        "\n",
        "  train_loss_multiple_runs[exp_num] = train_loss\n",
        "  test_accuracy_multiple_runs[exp_num] = test_accuracy\n",
        "  test_loss_multiple_runs[exp_num] = test_loss\n",
        "\n",
        "  del cifar_cnn_non_iid_trained\n",
        "  torch.cuda.empty_cache()"
      ],
<<<<<<< HEAD
      "execution_count": 24,
=======
      "execution_count": 65,
>>>>>>> 3e40152c547c99995bfcbe0d16b86f0869affe1f
      "outputs": [
        {
          "output_type": "stream",
          "text": [
            "Experiment Run Number:  0\n",
            "System heterogeneity set to 50% stragglers.\n",
            "\n",
            "Picking 1 random clients per round.\n",
            "\n",
<<<<<<< HEAD
            "Round: 1... \tAverage Train Loss: 0.335... \tTest Loss: 10.708294845581054... \tTest Accuracy: 20.126582278481013\n",
            "Round: 2... \tAverage Train Loss: 0.339... \tTest Loss: 10.773207200622558... \tTest Accuracy: 18.10126582278481\n",
            "Round: 3... \tAverage Train Loss: 0.233... \tTest Loss: 10.818604995727538... \tTest Accuracy: 20.379746835443036\n",
            "Round: 4... \tAverage Train Loss: 0.14... \tTest Loss: 10.980284320068359... \tTest Accuracy: 20.88607594936709\n",
            "Round: 5... \tAverage Train Loss: 0.228... \tTest Loss: 10.383856381225586... \tTest Accuracy: 20.50632911392405\n",
            "Round: 6... \tAverage Train Loss: 0.2... \tTest Loss: 12.621007141113282... \tTest Accuracy: 18.10126582278481\n",
            "Round: 7... \tAverage Train Loss: 0.153... \tTest Loss: 11.835154821777344... \tTest Accuracy: 20.379746835443036\n",
            "Round: 8... \tAverage Train Loss: 0.241... \tTest Loss: 9.264750315093995... \tTest Accuracy: 20.253164556962027\n",
            "Round: 9... \tAverage Train Loss: 0.171... \tTest Loss: 8.871981217956543... \tTest Accuracy: 17.72151898734177\n",
            "Round: 10... \tAverage Train Loss: 0.146... \tTest Loss: 7.771047450256348... \tTest Accuracy: 20.759493670886076\n",
            "Round: 11... \tAverage Train Loss: 0.514... \tTest Loss: 8.550190567016601... \tTest Accuracy: 19.11392405063291\n",
            "Round: 12... \tAverage Train Loss: 0.566... \tTest Loss: 8.918108340454102... \tTest Accuracy: 16.962025316455698\n",
            "Round: 13... \tAverage Train Loss: 0.184... \tTest Loss: 11.747593789672852... \tTest Accuracy: 18.354430379746834\n",
            "Round: 14... \tAverage Train Loss: 0.156... \tTest Loss: 11.353521592712402... \tTest Accuracy: 20.50632911392405\n",
            "Round: 15... \tAverage Train Loss: 0.109... \tTest Loss: 12.162336032104491... \tTest Accuracy: 20.759493670886076\n",
            "Round: 16... \tAverage Train Loss: 0.185... \tTest Loss: 10.043395417785645... \tTest Accuracy: 20.379746835443036\n",
            "Round: 17... \tAverage Train Loss: 0.419... \tTest Loss: 8.693208668518066... \tTest Accuracy: 17.974683544303797\n",
            "Round: 18... \tAverage Train Loss: 0.417... \tTest Loss: 11.814338650512695... \tTest Accuracy: 17.974683544303797\n",
            "Round: 19... \tAverage Train Loss: 0.128... \tTest Loss: 12.324102110290527... \tTest Accuracy: 20.379746835443036\n",
            "Round: 20... \tAverage Train Loss: 0.304... \tTest Loss: 10.947664854431153... \tTest Accuracy: 18.227848101265824\n",
            "Round: 21... \tAverage Train Loss: 0.283... \tTest Loss: 9.913231321716308... \tTest Accuracy: 18.10126582278481\n",
            "Round: 22... \tAverage Train Loss: 0.15... \tTest Loss: 14.88864800415039... \tTest Accuracy: 20.632911392405063\n",
            "Round: 23... \tAverage Train Loss: 0.128... \tTest Loss: 12.518460795593262... \tTest Accuracy: 20.759493670886076\n",
            "Round: 24... \tAverage Train Loss: 0.176... \tTest Loss: 11.500789530944823... \tTest Accuracy: 18.481012658227847\n",
            "Round: 25... \tAverage Train Loss: 0.259... \tTest Loss: 9.169320637512207... \tTest Accuracy: 18.734177215189874\n",
            "Round: 26... \tAverage Train Loss: 0.13... \tTest Loss: 12.954272326660156... \tTest Accuracy: 20.88607594936709\n",
            "Round: 27... \tAverage Train Loss: 0.396... \tTest Loss: 8.592369987487793... \tTest Accuracy: 20.50632911392405\n",
            "Round: 28... \tAverage Train Loss: 0.147... \tTest Loss: 12.108358988952636... \tTest Accuracy: 18.227848101265824\n",
            "Round: 29... \tAverage Train Loss: 0.12... \tTest Loss: 11.679709530639649... \tTest Accuracy: 20.88607594936709\n",
            "Round: 30... \tAverage Train Loss: 0.129... \tTest Loss: 14.063132452392578... \tTest Accuracy: 18.10126582278481\n",
            "Round: 31... \tAverage Train Loss: 0.137... \tTest Loss: 14.181064086914063... \tTest Accuracy: 20.759493670886076\n",
            "Round: 32... \tAverage Train Loss: 0.098... \tTest Loss: 12.939449711608887... \tTest Accuracy: 20.50632911392405\n",
            "Round: 33... \tAverage Train Loss: 0.097... \tTest Loss: 19.108103442382813... \tTest Accuracy: 20.759493670886076\n",
            "Round: 34... \tAverage Train Loss: 0.244... \tTest Loss: 10.022336814117432... \tTest Accuracy: 18.60759493670886\n",
            "Round: 35... \tAverage Train Loss: 0.126... \tTest Loss: 12.155958998107911... \tTest Accuracy: 18.10126582278481\n",
            "Round: 36... \tAverage Train Loss: 0.082... \tTest Loss: 12.065604020690918... \tTest Accuracy: 18.10126582278481\n",
            "Round: 37... \tAverage Train Loss: 0.322... \tTest Loss: 10.483758059692383... \tTest Accuracy: 18.354430379746834\n",
            "Round: 38... \tAverage Train Loss: 0.118... \tTest Loss: 14.18184608001709... \tTest Accuracy: 18.481012658227847\n",
            "Round: 39... \tAverage Train Loss: 0.058... \tTest Loss: 13.271783750915528... \tTest Accuracy: 18.481012658227847\n",
            "Round: 40... \tAverage Train Loss: 0.047... \tTest Loss: 15.835289895629883... \tTest Accuracy: 18.481012658227847\n",
            "Round: 41... \tAverage Train Loss: 0.107... \tTest Loss: 9.338985083007813... \tTest Accuracy: 20.88607594936709\n",
            "Round: 42... \tAverage Train Loss: 0.09... \tTest Loss: 16.979568562316896... \tTest Accuracy: 21.0126582278481\n",
            "Round: 43... \tAverage Train Loss: 0.083... \tTest Loss: 9.556867822265625... \tTest Accuracy: 23.037974683544302\n",
            "Round: 44... \tAverage Train Loss: 0.087... \tTest Loss: 14.478725682067871... \tTest Accuracy: 18.481012658227847\n",
            "Round: 45... \tAverage Train Loss: 0.28... \tTest Loss: 12.108503106689453... \tTest Accuracy: 18.481012658227847\n",
            "Round: 46... \tAverage Train Loss: 0.079... \tTest Loss: 10.388011665344239... \tTest Accuracy: 20.88607594936709\n",
            "Round: 47... \tAverage Train Loss: 0.435... \tTest Loss: 9.108601715087891... \tTest Accuracy: 18.227848101265824\n",
            "Round: 48... \tAverage Train Loss: 0.089... \tTest Loss: 10.592008946228027... \tTest Accuracy: 20.88607594936709\n",
            "Round: 49... \tAverage Train Loss: 0.091... \tTest Loss: 11.986929554748535... \tTest Accuracy: 20.88607594936709\n",
            "Round: 50... \tAverage Train Loss: 0.111... \tTest Loss: 14.43307314453125... \tTest Accuracy: 18.60759493670886\n"
=======
            "Round: 1... \tAverage Train Loss: 0.331... \tTest Loss: 9.93376708984375... \tTest Accuracy: 20.379746835443036\n",
            "Round: 2... \tAverage Train Loss: 0.336... \tTest Loss: 10.320378109741212... \tTest Accuracy: 17.848101265822784\n",
            "Round: 3... \tAverage Train Loss: 0.231... \tTest Loss: 9.394373434448243... \tTest Accuracy: 20.50632911392405\n",
            "Round: 4... \tAverage Train Loss: 0.142... \tTest Loss: 9.670521308898925... \tTest Accuracy: 20.88607594936709\n",
            "Round: 5... \tAverage Train Loss: 0.218... \tTest Loss: 10.411701348876953... \tTest Accuracy: 20.379746835443036\n",
            "Round: 6... \tAverage Train Loss: 0.201... \tTest Loss: 11.14322247467041... \tTest Accuracy: 18.481012658227847\n",
            "Round: 7... \tAverage Train Loss: 0.154... \tTest Loss: 11.089978265380859... \tTest Accuracy: 20.253164556962027\n",
            "Round: 8... \tAverage Train Loss: 0.221... \tTest Loss: 9.936090141296386... \tTest Accuracy: 20.0\n",
            "Round: 9... \tAverage Train Loss: 0.164... \tTest Loss: 10.610183772277832... \tTest Accuracy: 18.10126582278481\n",
            "Round: 10... \tAverage Train Loss: 0.155... \tTest Loss: 9.207599108886718... \tTest Accuracy: 20.88607594936709\n",
            "Round: 11... \tAverage Train Loss: 0.517... \tTest Loss: 7.348071852111817... \tTest Accuracy: 20.0\n",
            "Round: 12... \tAverage Train Loss: 0.567... \tTest Loss: 8.951990930175782... \tTest Accuracy: 17.088607594936708\n",
            "Round: 13... \tAverage Train Loss: 0.191... \tTest Loss: 13.60112989501953... \tTest Accuracy: 18.354430379746834\n",
            "Round: 14... \tAverage Train Loss: 0.164... \tTest Loss: 12.005170391845704... \tTest Accuracy: 20.632911392405063\n",
            "Round: 15... \tAverage Train Loss: 0.113... \tTest Loss: 11.46722128753662... \tTest Accuracy: 20.88607594936709\n",
            "Round: 16... \tAverage Train Loss: 0.195... \tTest Loss: 11.337754389953613... \tTest Accuracy: 20.379746835443036\n",
            "Round: 17... \tAverage Train Loss: 0.411... \tTest Loss: 8.505510578918457... \tTest Accuracy: 17.72151898734177\n",
            "Round: 18... \tAverage Train Loss: 0.422... \tTest Loss: 8.267142051696778... \tTest Accuracy: 18.227848101265824\n",
            "Round: 19... \tAverage Train Loss: 0.131... \tTest Loss: 11.224089936828614... \tTest Accuracy: 20.379746835443036\n",
            "Round: 20... \tAverage Train Loss: 0.306... \tTest Loss: 10.257497422790527... \tTest Accuracy: 18.354430379746834\n",
            "Round: 21... \tAverage Train Loss: 0.304... \tTest Loss: 8.186405909729004... \tTest Accuracy: 17.974683544303797\n",
            "Round: 22... \tAverage Train Loss: 0.144... \tTest Loss: 12.943990299987792... \tTest Accuracy: 20.379746835443036\n",
            "Round: 23... \tAverage Train Loss: 0.116... \tTest Loss: 10.376945336914062... \tTest Accuracy: 20.759493670886076\n",
            "Round: 24... \tAverage Train Loss: 0.162... \tTest Loss: 9.635588609313965... \tTest Accuracy: 18.481012658227847\n",
            "Round: 25... \tAverage Train Loss: 0.249... \tTest Loss: 10.691518501281738... \tTest Accuracy: 18.481012658227847\n",
            "Round: 26... \tAverage Train Loss: 0.142... \tTest Loss: 11.623980177307129... \tTest Accuracy: 20.88607594936709\n",
            "Round: 27... \tAverage Train Loss: 0.395... \tTest Loss: 8.600925886535645... \tTest Accuracy: 20.126582278481013\n",
            "Round: 28... \tAverage Train Loss: 0.149... \tTest Loss: 11.102799494934082... \tTest Accuracy: 17.974683544303797\n",
            "Round: 29... \tAverage Train Loss: 0.109... \tTest Loss: 8.79064931564331... \tTest Accuracy: 20.759493670886076\n",
            "Round: 30... \tAverage Train Loss: 0.11... \tTest Loss: 11.294598194885253... \tTest Accuracy: 18.10126582278481\n",
            "Round: 31... \tAverage Train Loss: 0.121... \tTest Loss: 13.934569439697265... \tTest Accuracy: 20.632911392405063\n",
            "Round: 32... \tAverage Train Loss: 0.096... \tTest Loss: 11.62286431274414... \tTest Accuracy: 20.253164556962027\n",
            "Round: 33... \tAverage Train Loss: 0.098... \tTest Loss: 18.12666665344238... \tTest Accuracy: 20.632911392405063\n",
            "Round: 34... \tAverage Train Loss: 0.243... \tTest Loss: 11.535168544006348... \tTest Accuracy: 18.60759493670886\n",
            "Round: 35... \tAverage Train Loss: 0.139... \tTest Loss: 12.724911010742188... \tTest Accuracy: 18.354430379746834\n",
            "Round: 36... \tAverage Train Loss: 0.084... \tTest Loss: 12.717019021606445... \tTest Accuracy: 18.227848101265824\n",
            "Round: 37... \tAverage Train Loss: 0.322... \tTest Loss: 9.827196356201172... \tTest Accuracy: 18.227848101265824\n",
            "Round: 38... \tAverage Train Loss: 0.124... \tTest Loss: 12.99382082672119... \tTest Accuracy: 18.354430379746834\n",
            "Round: 39... \tAverage Train Loss: 0.063... \tTest Loss: 14.519874920654297... \tTest Accuracy: 18.227848101265824\n",
            "Round: 40... \tAverage Train Loss: 0.049... \tTest Loss: 15.002788833618164... \tTest Accuracy: 18.354430379746834\n",
            "Round: 41... \tAverage Train Loss: 0.107... \tTest Loss: 8.615191203308106... \tTest Accuracy: 20.632911392405063\n",
            "Round: 42... \tAverage Train Loss: 0.097... \tTest Loss: 15.08747917175293... \tTest Accuracy: 21.645569620253166\n",
            "Round: 43... \tAverage Train Loss: 0.077... \tTest Loss: 10.89198016281128... \tTest Accuracy: 20.759493670886076\n",
            "Round: 44... \tAverage Train Loss: 0.092... \tTest Loss: 12.499895236206054... \tTest Accuracy: 19.49367088607595\n",
            "Round: 45... \tAverage Train Loss: 0.288... \tTest Loss: 12.195462518310547... \tTest Accuracy: 18.60759493670886\n",
            "Round: 46... \tAverage Train Loss: 0.084... \tTest Loss: 10.888250959014892... \tTest Accuracy: 21.0126582278481\n",
            "Round: 47... \tAverage Train Loss: 0.422... \tTest Loss: 8.464678570556641... \tTest Accuracy: 18.481012658227847\n",
            "Round: 48... \tAverage Train Loss: 0.091... \tTest Loss: 8.16167242126465... \tTest Accuracy: 21.89873417721519\n",
            "Round: 49... \tAverage Train Loss: 0.088... \tTest Loss: 11.51330281677246... \tTest Accuracy: 21.0126582278481\n",
            "Round: 50... \tAverage Train Loss: 0.122... \tTest Loss: 17.008075245666504... \tTest Accuracy: 18.354430379746834\n"
>>>>>>> 3e40152c547c99995bfcbe0d16b86f0869affe1f
          ],
          "name": "stdout"
        },
        {
          "output_type": "display_data",
          "data": {
<<<<<<< HEAD
            "image/png": "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\n",
=======
            "image/png": "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\n",
>>>>>>> 3e40152c547c99995bfcbe0d16b86f0869affe1f
            "text/plain": [
              "<Figure size 432x288 with 1 Axes>"
            ]
          },
          "metadata": {
            "tags": [],
            "needs_background": "light"
          }
        },
        {
          "output_type": "display_data",
          "data": {
<<<<<<< HEAD
            "image/png": "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\n",
=======
            "image/png": "iVBORw0KGgoAAAANSUhEUgAAAX4AAAEWCAYAAABhffzLAAAABHNCSVQICAgIfAhkiAAAAAlwSFlzAAALEgAACxIB0t1+/AAAADh0RVh0U29mdHdhcmUAbWF0cGxvdGxpYiB2ZXJzaW9uMy4yLjIsIGh0dHA6Ly9tYXRwbG90bGliLm9yZy+WH4yJAAAgAElEQVR4nOy9eXwc1Znv/T29aOlurZatxbIsL9jYFkswmCXgmEAggZCQmZu8kM0hmXDfmblDJmQuk8nMkMnNJENys8wwCcmQN8QEGCAbCUvYsTEQNhswlm1s412y9rU39XreP6qr3ZJ6qW71qj7fz0cfW1Wnqk6ppV899ZxnEVJKFAqFQlE+mAo9AYVCoVDkFyX8CoVCUWYo4VcoFIoyQwm/QqFQlBlK+BUKhaLMUMKvUCgUZYYSfoVCoSgzlPDPY4QQnxRC7BBCuIQQfUKIx4UQF0f2/YsQ4t6YsVII4Y6MdQkhxmP2bYrs//sZ5++MbNePOSqE+GqKOQkhxE1CiO7I9XqEEL8WQpwR2b8lcs4NMcesFELImO+3CSGmhBBLYrZdLoQ4OocflyFifhZ3zNj+ohDiczm4nv4ztkS+3yKE+NcZ+/Sf/4AQ4lEhxAdSnDP2sx4RQjwrhPh/0pjTJiFEz9zurHiuU44o4Z+nCCFuBv4d+DbQDHQAdwAfTXLYWVJKR+SrPmb7ZmAU+GyC4+qllA7gfwD/nEJ4/gP4EnAT0AisAn4PXB0zZhT41yTnAHAD/5xiTK5wA58RQnQW6Poz0X/+ZwFPAw8ZeAidFTlmNbAF+JEQ4us5naWiaFDCPw8RQtQB/wf4aynl76SUbillQEr5iJTyf6d5LjuaoP81cJoQ4txEY6WUO4A9wNkJznVa5DzXSymfk1L6pJQeKeV9UsrbYobeDZwphHhfkqndDlwvhFhh8D4uEkK8LoSYiPx7Ucy+bUKIbwohXhJCOIUQTwkhmpKcbhxNLOMKpRDCJIT4JyHEMSHEoBDil5HPJNZK3yyEOC6EGBZC/KORe0iFlLJfSvkfwL8A3xFCpPz7llIOSynvAf4S+AchxILIPG8QQuyL/DwOCyH+Z2S7HXgcaIt502gTQmwQQrwshBiPvF3+SAhRETlGCCF+GPlZTAohdgshuiL7KoUQ34v8LAaEED8VQlQnuk42fk4KJfzzlQuBKuChLJzrzwAX8GvgSTTrPy5CiAuALuDdBEMuA3qklK+luKYH7U3lW0nG9AI/A76R4lwIIRqBx9AeFguAHwCP6SIX4ZPADcAioAL4uxSn/Rbw50KI1XH2fS7ydSmwHHAAP5ox5mI0a/sy4FYhxJpU95EGv0O7j3hzS8QfAAugu9gGgQ8DtWg/lx8KIc6RUrqBDwEnY94OTwIh4MtAE9rv32XAX0XOdQWwEe3trg74BDAS2XdbZPvZwEpgMXBrkusosoAS/vnJAmBYShlM87g3IhbbuBDi9si2zcCDUsoQ8N/AdUII64zjhoUQXuBlNHfS75PMq8/gXP4L6BBCfCjJmH8DrhFCrEtxrquBg1LKe6SUQSnl/cA7wDUxY34hpTwgpfQCvyLBW4uOlLIf+Cnam9VMPgX8QEp5WErpAv4B7edmiRnzDSmlV0q5C9iF5qbJFrpANho9QEoZAIb1Y6SUj0kpD0mN54GngEuSHL9TSvlK5Od7FO3z09/YAkANcDogpJT7pJR9QggB3Ah8WUo5KqV0oj3wr0vnZhXpo4R/fjICNM0QGiOcI6Wsj3zdFFk8vRS4L7L/D2hvElfPOK4Jzar9CrAJmPlgiJ1Xq5GJSCl9wDcjX4nGDKFZ0vHEN5Y24NiMbcfQrEud/pj/e9DuJxXfAa4UQswU7ZnXO4ZmTTenul6MW8MlhOgwMId46Pc1avSAyMN8oX6MEOJDQohXhBCjQlvovwrtc050/KrIwnK/EGISTcCbAKSUz6F9Tj8GBoUQdwohaiPXswE7dYMDeCKyXZFDlPDPT14GfMC1czzPZ9B+Rx4RQvQDh9GEf5a7R0oZklL+AJji1Cv+TJ4F2pOtE8zgF0A9mrspEf8X7eG0PsmYk8DSGds60NxFGSOlHEFbQJ/5cJp5vQ4gCAwYOKcj5ut4hlP7GJqrZn8ax3w0MsfXhBCVwG+B7wHNkYX+PwJCn2ac43+C9hZ1mpSyFvhazHiklLdLKdcDa9FcO/8b7Q3DC6yLMTjqIovOia6jyAJK+OchUsoJ4Fbgx0KIa4UQNiGENWLFfTeNU21G86GfHfP158BVM/zjsdwG3CKEqIozr4NorqD7I6F6FUKIKiHEdSJOGGjEVfV14O9n7osZMw58H7glyX38EVgltPBWi9BCF9cCjyY5xig/AC4CYn309wNfFkIsE0I40KzfBzNwvaWFEKJZCPG/0H5m/yClDBs4plEI8Sk0a/w7kYdZBVAJDAHBiLvtipjDBoAF+oJ1hBpgEnAJIU5HWyzWr3GeEOL8yFuFG804CEfm9zO09YNFkbGLhRBXJrmOIgso4Z+nSCm/D9wM/BPaH/AJ4H+R2P8+jchC7VLgx5FoEf3rYbTF2+sTHPoYMAZ8McH+mzj12j8OHEKzUB9JMP5+Uq8L/Afa4mJcImL2YTRX1AjaQ+LDUsrhFOdNiZRyEvgu0/3pdwH3ANuBI2hC9zdzvVYSxoUQbmA3mkvm41LKu1Ics0sI4UL7LP8Czc9+K0DE134T2lrHGNrC98P6gVLKd9A+l8MRF00b2mL4JwEnmpg/GHOt2si2MTS31wjamxpoD/V3gVciLqJniCxKJ7iOIgsI1YhFoVAoygtl8SsUCkWZoYRfoVAoygwl/AqFQlFmKOFXKBSKMiPdBJ+C0NTUJDs7O5OOcbvd2O32/EyoiFD3XV6o+y4/5nLvO3fuHJZSzkqIKwnh7+zsZMeOHUnHbNu2jU2bNuVnQkWEuu/yQt13+TGXexdCzMxYB5SrR6FQKMoOJfwKhUJRZijhVygUijJDCb9CoVCUGUr4FQqFosxQwq9QKBRlhhJ+hUKhKDNyJvxCiLsizZW7Y7adHenq85YQYocQYkOycygUitzwxsAb7B9Np0+LYj6RS4t/C/DBGdu+i9Zr9Gy0RiHpNAVRKBRZ4l9f/Vd+/NaPCz0NRYHImfBLKbczu+enRGvKAFDHqabQCoUijzj9Tpx+Z6GnoSgQ+S7Z8LfAk0KI76E9dC7K8/UVCgXgDrhxB9yFnoaiQOS0A5cQohN4VErZFfn+duB5KeVvhRCfAG6UUl6e4NgbgRsBmpub1z/wwANJr+VyuXA4HEnHzEfUfZcX2bhvKSVfOv4lmixN3Lr41izNLLeU6+cNc7v3Sy+9dKeU8txZO6SUOfsCOoHumO8nOPWwEcCkkfOsX79epmLr1q0px8xH1H2XF9m4b0/AI7u2dMlND26a+4TyRLl+3lLO7d6BHTKOpuY7nPMk8L7I/98PHMzz9RWKskd38ShXT/mSMx+/EOJ+YBPQJIToAb4OfBH4DyGEBZgi4spRKBT5Qxd8b9BLKBzCbDIXeEaKfJMz4ZdSXp9g1/pcXVOhUKQm1tL3BD3UVNQUcDaKQqAydxWKMiNW+JW7pzxRwq9QlBnTLP6Ap4AzURQKJfwKRZmhLH6FEn6FosyYJvxBJfzliBJ+haLMmCb8fiX85YgSfoWizFAWv0IJv0JRZigfv0IJv0JRZrgDbuor66P/V5QfSvgVijLDHXDTUNWAWZhVOGeZooRfoSgz3EE3DqsDm9WmLP4yRQm/QlFmuP1ubFYbdqsdV8BV6OkoCoASfoWizHAH3dgtduwWu3L1FDFhGSYswzk5txJ+haLM8AQ8OCoc2CvsytVTxOwd2cvZvzybPd49WT+3En6FosxwBVzYLDbsFruK4y9iJv2TSCSVojLr51bCr1CUGe6AG7vVjt2qXD3FjNPvBMBmsmX93Er4FYoywh/yEwwHcVSoqJ5ix+XXFt6rTdVZP7cSfoWijNCjeGwWFdVT7OgWvxJ+hUIxJ3QLP9bVo/XkVhQbk/5JTMKkfPwKhWJu6D59h9WB3WonJEP4Qr4Cz0oRD6fficPqQAiR9XMr4VcoyoioqyeSwAWqXk+x4gq4ctYPWQm/QlFGzHT1gGq/WKw4/U5qK2pzcm4l/ApFGTHN1WOJWPwqlr8ocfqdyuJXKBRzJ9bVY7Nq8eHK1VOcTPoncVgdOTm3En6FooyI5+pRwl+cKItfoVBkBd3Vo8fxgxL+YkUt7ioUiqzgCriotlRjNpmV8BcxwXAQd8CtFncVCsXc0ev0AEr4ixj9M3FUKB+/QqGYI56AJ7pgaLPYotsUxcWkfxKg9Fw9Qoi7hBCDQojuGdv/RgjxjhBijxDiu7m6vkKhmI0r4IpG85hNZqot1criL0L0Am0lJ/zAFuCDsRuEEJcCHwXOklKuA76Xw+srFIoZxLp6QLP6VaG24kMv0FZyPn4p5XZgdMbmvwRuk1L6ImMGc3V9hUIxG0/QM034VU3+4kQX/lxZ/JacnDUxq4BLhBDfAqaAv5NSvh5voBDiRuBGgObmZrZt25b0xC6XK+WY+Yi67/Jirvc9PDmMw+eInkP6JMcHjhf9z7LcPu/XXZosdu/spspXlfV7z7fwW4BG4ALgPOBXQojlMk5dWCnlncCdAOeee67ctGlT0hNv27aNVGPmI+q+y4u53vfXH/w6yxcvZ9OF2jnufuJuJLLof5bl9nkf33McRuADGz/Amy+/mfV7z3dUTw/wO6nxGhAGmvI8B4WibHEH3NgrlKun2NHXXeZLyYbfA5cCCCFWARXAcJ7noFCUJYFwAF/IFy3OBqj2i0WKXovfbDLn5Pw5c/UIIe4HNgFNQoge4OvAXcBdkRBPP7A5nptHoVBkH92yn7m4q6J6io9J/2TOFnYhh8Ivpbw+wa5P5+qaCoUiMbEF2nTsFuXqKUacfmfOsnZBZe4qFGWDbtlPE/4KO1OhKYLhYKGmpYiDK+Cixpo7i18Jv0JRJsR19UT8/Z6gsvqLiVx23wIl/ApF2RDX1aPaLxYluazFD0r4FYqyIa6rR1XoLEom/ZPKx69QKOZOPFePar9YfIRlGHfArSx+hUIxd5K5elRIZ/HgCXgIy7Dy8SsUirmTzNWjfPzFQ64LtIESfoWibPAEPFSaK7GYTqXvKB9/8ZHrJiyghF+hKBtm1uIHJfzFiG7x56pODyjhVyjKBlfAlVD4VRx/8aC75JSPX6FQzBlPwDNL+CtMFViEZd5Z/He8dQcv9LxQ6GlkhPLxKxSKrOEOznb1CCGwWW3RHq/FiJSSseBYWsfcs/ceHj/yeI5mlFuUj1+hUGSNeD5+iNTkL2JXz8+7f86tvbfS5+ozNF5KiTvgZsyX3sOiWIj6+FUCl0KhmCvugHtaLX4du9VetK6ePcN7+PGbPwZgyDtk6Bhv0ItEMjZVmsLv8ruotlRjNVlzdg0l/ApFmTCz+5ZOsQq/N+jlqy98FYT2vdEkM/1eSlX4nQFnTitzghJ+haJsSGbxF2MC1/d3fJ+jk0e5ef3NgPGQU/0BUcqunlz690EJv0JRFoTCIbxBb0Iff7FZ/Nt7tvPg/gfZvHYzly65FDAu/PpDzBv0MhWcytkcc0Wuu2+BEn6FoizQF2/jCb/NYsMdLB7hH50a5daXbuW0htO46ZyboolM6Vr8UJruHmXxKxSKrBCvQJuO3WrH7S8O4ZdS8i9/+hcm/ZPcdsltVJgr0s4ujh1Xiu4el9+V04geUMKvUJQFKYU/6EZKme9pzeKhdx9i64mtfOmcL7GqYRUAVrMVC5a0F3ehdC3+XGbtghJ+haIsSCX8YRlmKlRYf/jxyePc9tptnN9yPp9Z+5lp+6pMVYYXoGOFf3RqNKtzzDVSSuXqUSgU2SGV8MeOKRS/3PtLAP714n/FJKZLU5Wpqiwsfm/QS1AGlfArFIq5Y0T4Cx3S+dbgW5y98Gxa7C2z9lWJKsPrEO6AG5MwYREWxn3j2Z5mTtEfbrmszAlK+BWKsiCZ8BdD+0V3wM3B8YOcufDMuPsrTZWGI4/00hR1lXUl5+rRyzXk2sdvST1EoVCUOkYs/kK2X+we7iYsw5y18Ky4+6tMVYYLyenC77A6Ss7Vk4/KnKAsfoWiLEgq/JbCu3p2De0CSGzxi0rDheT0DOXGqsaSc/XkozInKOFXKMoCd8CN1WSlwlwxa59ev6eQrp63h95mWd0y6irr4u6vNlWnZ/FX2KmvrC85V49+j0r4FQrFnElUkhlOWfyFyt6VUvL20NsJ3TwQ8fGnkcBlt9hpqGoouQSuknf1CCHuEkIMCiG64+z7ihBCCiGacnV9hUJxiqTCX+ConuPO44z5xpIKf5WoYio0RTAcTHk+/V4bqxqZ9E0aOqZYcAZKXPiBLcAHZ24UQiwBrgCO5/DaCoUihmTCX+ionlT+fdAWd8HYHPVOY/WV9UgkE76J7Ew0D0z6J6kwVVBprszpdXIm/FLK7UA8B9sPgVuAwueHKxRlQry2izomYaLaUl2wqJ5dg7uwW+2sqFuRcEyV0ITfyFuJ23/K4ofSSuLKR9Yu5DmcUwjxUaBXSrlLCJFq7I3AjQDNzc1s27Yt6XiXy5VyzHxE3Xd5Ee++/WE/T08+zeW1l1Npim8p9o30YTfZE/7MrNLKu8ffZZs7/v5c8tLJl2g3t/PC9iTN0f3aP1v/tJW2iraEw6SUuAIuRk6OcGz0mHbMq1vpqerJ5pRzxuGhw5iD5mmfUy5+1/Mm/EIIG/A1NDdPSqSUdwJ3Apx77rly06ZNScdv27aNVGPmI+q+y4t49729ZztPPPsEV7znCjYt3RT3uB/8/gd0NHSw6X3x9zc+1EhdY13C/bnCE/DQd38fX1zzRTa9J/G19z6+F1yw9uy1nL3o7ITjvEEv8j7JmpVruHjxxfzokR+x9PSlbOpMfO5i4oGnH6DZ3zztM87F73o+o3pWAMuAXUKIo0A78IYQYnZ+tkKhMEyPU7Nmj00eSzgmmY8fND9/IXz8qRK3dHRXT6o5xuYrKFdPYlIKvxDiu0KIWiGEVQjxrBBiSAjx6XQvJKXcLaVcJKXslFJ2Aj3AOVLK/gzmrVAoIvS6eoHUwm+z2BLuL1QXLiMLu3BqcTfVOkSs8NdX1QOlVZM/H923wJjFf4WUchL4MHAUWAn871QHCSHuB14GVgsheoQQX5jLRBUKRXxSCb+UEk/Ak9Tit1vshjNjs8muoV101nYmTNzS0YU/1eKu/mCwW+1YTVZqrDUlZfG7Aq6iWdzVx1wN/FpKOZFqYRZASnl9iv2dBq6tUChSkEr4vUEvEpm04mMhXD164tbG9o0px+qunlQWv/5g0O+1oaqhpITf6XdSYy0Oi/9RIcQ7wHrgWSHEQqD0OhgrkvL4kccZ8Y4UehqKDOh19mIWZkanRqOZn7HoYqnH68ejEK6eE84TWuLWouT+fSAarZSOjx8oqexdX8iHL+QrDlePlPKrwEXAuVLKAOAGPprriSnyx6R/klu238I9e+8p9FQUaTLpn8QZcEYXR49Pzs6LTFagTacQwq/791Mt7AKYhZkqc1XKOc58yDVUlo7Fn69yDWBscffjQEBKGRJC/BNwL5A4kFZRcoxPaRUMdw/vLvBMFOnS69TcPBe2XQjA0cmjs8bMdH/Ew2614wv58lreYNdQ6sStWGxW27x29RSV8AP/LKV0CiEuBi4Hfg78JLfTUuQTvXTtnpE9hMKhAs9GkQ66f/+C1gsQiLgWv1FXD+S3bMOuoV2c0XQGZpPZ0HiH1WHY4p/p6imGRvKpyFdlTjAm/LoSXA3cKaV8DJhd21VRsujC7w6441qMiuJFF/5ldctotbfG/fyMunogf4XaPAEPB8YOpAzjjMWIO8odcCMQVFuqAc3VEwgHCt5P2AjFZvH3CiH+C/h/gD8KISoNHqcoEWKLWL099HYBZ6JIlx5nDzXWGuoq61hauzSpjz9VVE/s2FyzZ2SPocStWIwIvx62qkceNlQ1AKWRxDUZiDRhKZKonk8ATwJXSinHgUYMxPErSgdd+C0mC93Ds6poK4qYXlcvi2sWA9BR28GxyWOz3Bq6WCZ19Vjy234xnYVdHaOuntj7jAp/CUT2FJXFL6X0AIeAK4UQ/wtYJKV8KuczU+SNcd84AsF7Fr1HLfCWGL2uXhY7NOHvrO3EGXDOErlidPXsGjSWuBWLkVwDd8A97c2mobJ0LP6i8vELIb4E3AcsinzdK4T4m1xPTJE/JnwT1FTUcNbCszg4dpCpoErTKAWklJx0naTNoQXZddR2ALMTudwBdzQcMhHRxd08dOGSUrJraFda1j4Ys/hn1iTSLf5SaMHo9DuxCEt0fSKXGHH1fAE4X0p5q5TyVuAC4Iu5nZYin0z4JqivrOeMpjMIyiDvjL5T6CkpDDAyNcJUaGqaxQ/xhd9mtZEs4z6fUT3pJG7FYrfaU/bdnSn8eqG2Umi6PumfxFHhSPo5ZQsjwi84FdlD5P+5n5kib4z7xqPCDyqev1TQI3raHe0AtDnasAhLXOFP5uaB/Ap/tDBbk/GIHtDm6A/7CYQCCcfMvNdqSzUVpoqScPXkqzInGKvV8wvgVSHEQ5Hvr0WL5VfMEyb8EzRWNbLQtpBmWzO7h5TwlwJ68pZu8VtMFtpr2mcJvyfoSRrRA/n18euJWyvrV6Z1nKNCuwd3wE29uT7umJnCL4SgoaqhJFw9+SrQBsYWd38A3IDWRnE08v9f5Xheijyiu3pAK487Hy3+p489Pe/WLnSLX/fxw6nInlhcflfSiB6ACnMFFpMlLxb/O6PvsKZxjeHELR29rHSydYh4bzeNVY0l4erJp8VvKB5fSvmGlPL2yNebwCs5npcij8QKf1dTFz2unpJ4NTbK8cnj3LztZh4/8nihp5JVel29NFY1ThP1pbVLOeE8QViGo9vcQXc0XDMZdqs9L+Gc/e7+aQ8ro+gWfyI/f6Ly0/WV9SXx+5yvypyQeSKW8vHPEwLhAK6Ai9rKWoB56ecfmdKqjh53zk5uKmViQzl1Oms78Qa9DHoGo9s8AU9UNJPhsDpy7uoJhUMMe4dptjWnfaz+8Er0VuIL+QjK4CzhLxVXT76asEDmwl/8hS8UhtCTt3SLf92CdZiEaV4lcun3qLconC/EE349pDM2g9cVcCXtvqWTj5r8o1OjhGSIRbZFaR9rr0gu/InyFZSrZzYJF3eFEP9JfIEXQPyVFUXJMenT0sTrKrREGpvVxvK65fPK4teFX/eJzwdC4RB97j6uWHrFtO16SOfRyaNsaN0AGIvqAc2iTuQ/d/qdPHr4UQCsJuupL7MVu9XO+S3nG/LZD3gGAHJi8ScS/vrKelwBF/6QnwpzcZYZC4aDeIPewgs/sCPDfYoSQreEdIsfNHfP1hNbkVLmJaY418xHi3/QM0gwHIyWa9BZZFtEpbkyusBrpO2ijt1qZ9I/GXffA+88wO1v3p7w2NsvvZ1LOy5NeQ1d+BfZ07f4Y6N64pFI+GPr9TTb03/g5IN8Zu1CEuGXUt6dlxkoCoou/HVVp1Lnz1h4Bg+9+xA9zh6W1C4p1NSyhn6PY74xXH6XIX93sdPj0h5iM109JmGio7Yj6uqZCk0RkiFDwm+z2uhz98Xd90LvC6xpXMNPP/BTAqEAgbD2Nemf5NN//LTh9ZMB9xwsfmvyekLJXD2g/R4Uq/Dns04PGIvjV8xjdGtYd/XA9AXe+SD8sVZsr6uX1Y2rCzib7DAzeSuWpTVLeXf8XcBYnR6dRFE9E74Jdg3t4gtdX4iKqI6UErvVnvCBMZNBzyAWYZl1HiPo6xSJFqATVSHV32aLeYE3n5U5QZVXLntmLu4CrKxfSZW5at74+Sd8E4hIINp8cfecdJ1EIGixt8zat7R2KT2uHoLhYFQkjQp/PFF9ue9lwjLMJe2XzNonhKDV3kqfy7jwL7QtxCTSlx6zyUy1pTqlxT8zZ0F/yCQL6fSFfBwaP5T2nLJFvl09Roq0vdfINkVpMu4bxyIs04TBYrKwdsHaeSX8nXWdwCkXSanT6+plkW1R3MXKpbVLCYaD9Ln6ZnWkSobdascT9Mwq6/xS70vUVNRE3wRn0mJvMWzxD3gGMnLzxM4xkY8/eq+WBD7+JKWZ79p9F9f+4Vru6r6rIN268u3qMfLY/U+D2xQlyIR/gtrK2lmLuF1NXewb2UcgnLguSqkw4Z9gSc0Saipq5o3F3+PsmeXf11lauxSAY85jabt6wjKMN+iNbpNS8lLvS1zUdhEWU3zPcKu9lX53v6F5D3oGMwrl1ElWoTPab3fGGk5tRS0CkdTif2PwDUzCxA93/pDvvv7daQlw+UAX/tqK2rxcL6HwCyEuFEJ8BVgohLg55utfgPRyrRVFS2zWbixnNJ2BP+zn4NjBAswqu0z4JqirqKPd0T6vLP72mtn+fZhentlIo3Ud3VL2BE+5e/aP7WfIO8TFiy9OeFyrvZUx39i0B0Y8pJQMeAbmJPzJsov1UNSZZY3NJnPS7N2wDLNneA8fW/kxPr3m09y7715u2X4L/pA/43mmi74Ola/Ag2QWfwXgQFsAron5mgT+R+6npsgHemXOmZyxMLLAOw8Ktk34JqirrKO9pn1eWPz+kJ9Bz2BCi39B1QIcVgfHJo8ZarSuE6/94ou9LwIkFX59nSGV1e8MOPEGvXHXJYySaB0CIjWJLLa46wd60/V4HJs8hjPg5KyFZ3HLebfwlfVf4cmjT/KXz/xl1BLPNU6/E4Ew9GaWDRIKv5TyeSnlN4ALpJTfiPz/m8D/J6UsfTNQAWiiqJdriKXN3kZjVWPJ+/n1khR1lZrFf9J1Mu+v8dmmz92HRCYUfiFEtFhbuq4emB4u+UKPFsbZVN2U8LhWe2t0XskYdGtlJHJl8SerQprM4tez1LuauhBC8Lmuz/Hti7/NGwNvcMMTNzDkGcp4vkZxBbQw40wWvTPByFX+TQhRK4SwA93AXiGE6rk7T0hk8Qsh6GrqKvnSDbrFplv8/rA/L3/IuUQvx5ys0NnS2qXpu3pmlGae9E+ya2hXUmsfoNWhCX8qi1+vH5Szxd0kVUgbqxoTCv/u4d1UW6pZXrc8uu2aFdfwo8t+xHHncT7z+Gei0W+5wul35s2/D8aEf62UchKtDv/jwHtrLxcAACAASURBVDLgM6kOEkLcJYQYFEJ0x2z7v0KId4QQbwshHhJCqNIPBSaRjx80C+jwxOGUXY+KmWiCWsTHD6Uf2dPrThzDr7O0dil97j5GfaMIhKF2fvrDQRfWV06+QkiGeO/i5EF8i2yLEIiUFn80a3eOFn/CzN2gO+EDLpmrp3u4m3UL1s0qOfHexe/lP9//n/S6etl2YlvGczZCPgu0gTHhtwohrGjC/7CUMoCxIm1bgA/O2PY00CWlPBM4APxDGnNVZJmp4BS+kC9hw+szm85EItkzsifPM8se0VpElXXR8gal7ufvdfZiMVmSCujS2qWEZZgDowdStl3Umenjf+nkS9RYa1L2xrWarCy0LUwZy58t4U/o6klSmqK+sp4J38QsN58/5Oed0XcShqqe13IejVWNvNb/WsZzNoLT7zT0VpYtjAj/fwFHATuwXQixFG2BNylSyu1ojVtitz0lpQxGvn0FSGyyKHJO1BpOIPxdTV1AaZdojk1Qa7O3IRClb/G7emm1tyYtira0Rgvp3Duy1/CCYWz7RSklL/a+yAVtFyQM44zFSEjngGeAxqrGORVKc1gdBMPBuBE3rkByV09IhqKGgM6BsQMEwgHWNa2Le5xJmDiv5Txe6Xslp/H9Ln/+um+BsQ5ct0spF0spr5Iax4DU1ZhS83k015GiQMTL2o2lrrKOztpOnjr6FKFwKO6YYmfCr91jbWUtVrOVFntL1EdeqsQrxzwTPaRzzDeWtvB7Ah4OjB1g0DPIJYtnZ+vGo9Xemnpxd44x/LFzjGf1ewKJF3cTJXHpRk0iix9gQ8sGBj2DszqbZZN8lmQGA7V6hBDNwLeBNinlh4QQa4ELmUPfXSHEPwJB4L4kY24EbgRobm5m27ZtSc/pcrlSjpmPzOW+D0wdAODIviNsOxL/HO+reB93D9/NNx/9JptqN2U2yRxg9L53Tu4EYPfruzlkOoQj6GBP756S/V1xuVwcGTvCmbYzU96Dw+TAFXYR8oYM3a/uBtnz7h4OHtIC90zHTGzrTX1sYCzASedJntv6XMLIlMMDh6mz1GX0s9c/7xOuEwA898JzNFmnRxqNecYYHxyPe/7jXq2I3HMvP8eKqhXR7c8MP0ONqYb9r+/ngDgQ99oioLnJ7t1+LxfXJF/ozpQxzxiTg5Nx554TbZNSJv1Cs8o/AeyKfG8Bdqc6LjK2E+iese1zwMuAzcg5pJSsX79epmLr1q0px8xH5nLfTx55UnZt6ZLvjLyTcEw4HJb/86n/KTfcu0H2ufoyvla2MXrft79xuzzz7jNlKBySUkr5zy/+s7z0wUtzOLPc8sSzT8iuLV3yzl13phz76cc+Lbu2dMkvPPkFw+ffcO8Gedurt8nPPf45+ed/+HPDx9239z7ZtaVLDnmGEo655P5L5Df+9A3D54xF/7yfOfqM7NrSJfeN7Js15uxfni1/uOOHcY/fO7xXdm3pks8cfWba9o889BH518/8ddJrh8NhefmvL5df3vrljOaeilA4JM/Ycob80Zs/irt/Ln/jwA4ZR1OTZe7qbwNNUspfAeHIgyIIZPTeL4T4IHAL8BEpZW57vClSortBErl6QAvr/KcL/omwDPPtV7+dr6lljQnfBLUVtVErdLFjMUPeoZRZpsXKaFBbNkvl6oFT7h4j/XZ1HFYHg55B3hp8K2UYZyx6LH8iP78/5GfMNzZnV4/uw58ZaeYP+QmGZ7dd1Inn6nH6nRyZOBJdy0qEEIINLRt4vf/1nOSAuANuJDJvlTkhuY9fX8Z2CyEWEInkEUJcAKQMahVC3I9m2a8WQvQIIb4A/Agt+/dpIcRbQoifzmn2ijkRLcmcYHFXp72mnb86+6/YemIrzx57Nh9TyxqTvslpDza9zMFJ18lCTWlOjAS1/sEzG7DEQ+/GlU42qM1q46WTLxGUwfSE35E8iSsbMfxwKuQ0tqwEkDJDObYZi87ekb1IZFL/vs4FrRcw7hvPSQmTfBdog+TCr8d/3Qw8DKwQQrwE/BL4m1QnllJeL6VslVJapZTtUsqfSylXSimXSCnPjnz9v3O/BUWmjE+NU2WuospSlXLsp9d+mtUNq/n2a98uqbh+vQidji78pdqGMSr86Vj8aQi/HifvsDo4a1HyMM5Yotm7CUI659Jyceb8YLbFn6gWv06luRKbxTatJr++sJvK4gctrBPglb5X0p90CvJdoA2SC/9CIcTNwCbgIeC7aP7+nwGX535qilwz4Z9Iae3rWE1Wvn7h1xnyDCVtwVdsjPvGpzWZ0ZOeTjhPZPU6UsppDc5zxUhwhGpLNQuqFqQcm4nFr4+9sO1CrCar4eNqK2qptlSntPizFdUzszewkb4DDVUN05qudw9301HTYehvoMXeQmdtZ07i+fUCbcVi8ZvRirTVoMXwWyLbbJFtihJn3DduWPhBK9x2/enX88A7D7BraFcOZ5Y99AJtOo1VjVRbqrOexPX0sae5+qGreXfs3ayedyYjwREtH8FAQtaSmiVUW6rTElvdVfLetvRabugNWRL5+KOunjm2Poz23fVPF34jfQcaKhumuXp2D+82ZO3rnN96Pjv6d2S9VLlu8eezJWiycM4+KeX/ydtMFHknWbmGRNx0zk08e/xZvvHyN3jwww+mZRUWgpk+fiEEix2Ls57E9dC7DwFwdPIoKxtWZvXcsYwER1jeuDz1QDQRf+ijD7GweqHh8+vCmapMQzySxfL3u/uptlTPOTtVLz0x0+I3UoyuoaqBYe8woPX+HfQMGvLv62xo2cCD+x9kz/Aezl50drpTT4j+0CoWiz+1SaEoaWZaw0awW+187fyvcXDsID/d9VOC4WDqgwpEMBzEGXDOqj6a7fLMw95hXj75MpC6UNlcGQ2OGvLv6yx2LE4rU/a9be/lYys/llHp5GSduAY9gzTbmg29qSTDJExa2YYEPn6jrp7ukVMVOY2i+/mz7e7RgyyKxcd/Wd5moSgI6bp6dN7f8X6uWHoFd759J1f+5kr+443/yGlWY6bovtNYHz9ofv5eV2/WUvAfP/I4IRnCJEzRRcxcMOGbwCu9CRuwZINrVlzD/3lvZi/6rfZWRqdGmQpOzdo315aLsdgtswu1GRL+GFdP93A3FmHh9MbTDV+3oaqB0xtP57W+7Ar/sHcYq8laHMIvpSzelvSKOSOlnOUGSYfbNt7Gv2/6d9YsWMNd3Xfx4Yc+zObHN/PQwYcSNsrIN4nCVdtr2vEGvdMiPObCI4ceYU3jGtod7Tm1+PVIpHQs/nyih3TGe/hlo1yDjr0iQ+GvamAqNIUn4GH38G5OazjNUERbLBtaNvDm4JtxH26ZMuQZ0iqczvFtKB3yU/VfUXS4A26CMjjLGjaK1WTlsqWX8aPLfsTT/+Np/vacv2V0apRb/3QrV/72yqIQ/4TCn8XyzIfGD7FvdB/XrLiGFntLeQt/goYsYRlmyDM054VdnWQWv82SuNNYY1UjAKNTo+wd3puWf1/n/Nbz8Yf9WQ1uGPQOprUOkw2U8JcpqSpzpsMi2yK+cMYXePjah/nqhq8y7hvnuDP3oY2p0F09M99qdFdJNvz8jxx6BLMw86FlH6LF3pJTV49eXM5I8lYh0NcFZsbyj06NEpTBnFv81ZbqpBVL9d+Dt4bewhlwpuXf11nfvB6zMPNq36tpH5uIIc8QC21K+BV5IFVlzkwQQnBm05lA4kSedPjBjh9w+xuZ5wxELf4ZbzV656q5JnGFZZjHjjzGhW0X0lTdRLOtmUHPYM4qmfa4erCZbHn1BadDs60ZgZj11pONOvyxOKyOWdU53QF3ynwFPXt3e892IHlFzkTYrXa6mrp4tT/Lwq8s/vnBgHuA3x38Ha/3v86wdzintbwzwWi5hnTR/bwn3XMvifDM8We4Z+89GbuN9LeamVE91ZZqFlYvnLPFv6N/B/3ufq5Zfg2gWbwhGYqGDGabE84TNFkS974tNBXmCpqqm2a5evReuy22zJusxxKvC5eebZwM3dXzUu9L2Cw2ltUty+j6G1o2sGd4T1Yy2L1BL86AM+8Wf+oOC4qM+Nar32Lria3R72srallWt4xldcs4vfF0rlt9XdLX0lyji2I2LX6ABVULqDBVzNnXHZZhBtwD+MN+tp7YytXLr077HBO+CUzCFDc+Ohux/I8cfgS71c6lHVp7Ct3V0e/pN+TPvv+d+1lau5SL2i4ydL1iF36IH8ufbYs/kfAnqtOjU1+l/a5P+ic5r+W8jP/+Lmi9gJ/t/hlvDL7BxvaNGZ1DZ9ijGQnZ+tkYRVn8OeDw+GG2ntjKZ9Z+hv+6/L/4+/P+ng92fpAKcwXbe7Zz22u35aTmRzpk08cfixCCVkfrnIugjU6N4g9rXZb+eOSPGZ1jZmXOWOYay+8Nenn62NNc3nF5NKlID1cccKf280spuf2N2/nvff9t6HrBcJA+V1/RC3+8Be5BzyAWYYla3HNFF/7Yt2gjFn+NtSbaTaxrQfr+fZ2zFp1FhakiK37+Qa/2NpRvV4+y+HPAlj1bqDJX8Rdn/AWNVY1ctPiURTcVnOKSBy5he8/2jLIjs0VsZ6psY6QbUyp08VxWt4w/9f6J8anxqMVmlGS1iNpr2nns8GMEQgGs5vSzj7ed2IY74OaaFddEt0UtfgNvOxO+CVwBl+H8h353P0EZZKElvwKRLq32Vp7veR4pZTQ8ccAzQJOtKWtvuHarnZAM4Qv5ouGY7oA76mZMhBCChsoGhrxDGS3s6lSaK3nPovdkRfiHPEOAsvhLngH3AI8cfoRrV14b18KpslRxfuv50T+OQjHhm8BhdeSk5EKbo23Owq+L5w3rbiAogzx17Km0zzHhm0gYrtruaEciM57nI4ceodnWHM3mhFOFyvo9qYVfLxLX4+wxlP2sj19gTV2crZC0OlrxhXzT6t4PeAayKmy6ZR+7wOsKuAwVo9ONh0wWdmM5v/V89o/tn1b7JxP0GkYqqqfEuW/ffUgp2bxuc8IxG9s30uvq5cjEkTzObDqZlGswSou9hWHvML6QL+Nz6IL8viXvY3nd8ozcPRO+iYRvNHMJ6Rz2DvOnk3/i6uVXT3MjCSFotjUbcvXoQh6UQUNuMX09ohRcPTA9ll8v15AtYnsD6yTrtxtLY2UjC6oWZFSSIpYNrRuAuZdvGPIOUWWuymsTFlDCn1Um/ZP86sCvuKLziqRp9XoDaz2srBBkWq7BCG12LVzSiAAmot/dT6W5kobKBq5adhU7B3amvWCcrAidngSVyQLvE0eeICRD0WieWJrtzYYs/tjrGnH3nHCewGqyUm/O7mJ8tol24nKd+hnkSvhjLX4ji7sAn133Wb5y7lfmnCW7dsFazMLM/tH9czrPoGeQpuqmvGbtghL+rPKr/b/CHXBzw7obko5rdbRyWsNpbO8tnPBnUpnTKPof/1xCOvs9/bTYWxBC8KFlHwK0mjjpkMzHv8i2CKvJmpHF/+jhR1nTuCZuFc4Wm7Hs3RPOE9FFYSPC3+PsYbFjccJG5sXCzOxdl9+FO+DOqqsnWpM/EtkTCAXwh/2GLP6N7RunrctkitVkpdXeOueQ4CHvUN79+6CEP2v4Qj7u23cfF7VdxJoFa1KO37h4I28OvBmtxZ1vcunqibbhm0MSV7+7P/o63lHbwRlNZ6Ql/MFwEKffmdDHbxKmjEI6D08cZs/IHj68/MNx9zfbmxn2Dqf0259wnmBN4xocVodh4c9lcbZsUV9ZT5W5Kir82Wq5GIsu8LrwG6nTkws6ajvmnKFeiKxdUMKfNR459AjD3mFu6Epu7eu8b8n7CMogfzr5pxzPLD4zO1NlkxZbCwIxpwXePnfftISfq5Zdxb7RfRweP2zo+Gg7uyRRS5mEdD52+DFMwsRVy6+Ku7/F3kJYhlMmcelCvrR2aUrhl1JywnmCJTVL0pprIRBCTCvPrLu9smnVRhuuR1w9em3+ZHV6csGSmiUcnzw+pyCNIW/+s3ZBCX9WCIVD3L3nbtYuWMv5LecbOubMpjOpq6wz5Oe/d++9vN7/+lynGSUUDuH0O9MOjzSK1WxlYfXCjGP5g+Egw97haQtwV3ZeiUmYDC/yGslMbne0p23xP3PsGc5tPpem6viLrPrDKpm7xxfyMegZZEnNEjpqO1IKvx76qReXK3ZiO3Flq/NWLNGG65HFXT2DNp8drAA6ajpwBpzR37V0cQfcWXeDGUUJfxbYemIrRyePckPXDYYXacwmM+9tey8v9r5IWIYTjts3so/vvP4d7nz7zmxNF6ffiUTmzMcPmrsnU4t/yDNEWIaj/mLQwt3OazmPx488bsjC0vMUkt1je007Tr/xP9zD44c5PHGYyzoSt6rQBS7ZAm+vsxeJpL2mnc7aTvrcfUkjoPQIoFKw+GH6Z5+tXruxzFzc9QQj/XYt+XX16J9Hpv2b9Rh+5eopQaSU3NV9F+2Odj7Q8YG0jt3YvpHRqVG6h7sTjvnJrp8AsGtoV9Z6fUZr2OSw2FebPfNYfv24mSF3Vy+7muPO4+wZ2ZPyHIkKtMWSbnnmZ48/C5BU+PU5J4to0q+nW/wSyYnJxOKhC0sp+PjhVDivP+RnwD1AfWU9lebKrJ2/2lKNSZiilr7+r5GonmzSUdsBkLGff8gbSd6qVhZ/ybFjYAe7h3fzuXWfSzsz8eLFF2MSpoTunr0je9l6YitrF6zFG/Tyzsg72Zhyzur0xNLi0KJbkr3NJEJ3E8wU/suWXobVZOWxw4+lPIchV0+asfzPHH+GMxeemdRtUWOtwWaxJXX1RIXcoVn8AMecid09+oOiVIRff1PT+9pmc2EXtHUEu8UetfR1H/9c+/mmS3tNOwKRsfDrb0NNtvznZijhnyO/6P4FjVWNfHTlR9M+tq6yjrMWnpVQ+H/y1k+oqajhO5d8B4CdAzvnNFedRHXqs0mbvY1AOMCIdyTtY3U3yUzhr62o5ZLFl/Dk0SdTPlCMCL8ey2+kPPNJ10n2juzl8o7Lk47TFzdTCb/NYqOxqjFqNSbz859wnmBh9cJo+GexExvSme2sXR2b1Ra19HVff76jeirNlTTbm5O+rSUjWq5BWfz5wR/ys29k35zPc3DsIC/0vsD1p1+fdgs3nY3tG9k3ui/6S6CzZ2QP23q2sXntZjrrOums7cya8OeqQFssc4nl73P1UVNRE/cP+arlVzHkHeLg1MGk55jwTyAQcStz6jgqHCyyLTK0cG7EzaPTbGtO2pClx9nDkpolCCGorailsaqR45OJrcZSCeXUmSn82VzY1XFYHVGLX38A2CvyK/yguesy9fEPegeptlTn/YEFZSj8oXCIr2z7Cp949BPsHto9p3Nt2bOFaks1162+LuNz6GVdX+h9Ydr2n7z1E2oravnUmk8BWuefnYM7M3KdzGR8Kg/CP4dYfj15Kx7va38fNouNnZ7kD0G9XEOqhKePr/o4L/a+yLtj7yYd98yxZ1jVsCpqoSfDiMUfK+QdNR0cnTyadHypLOzCqQXu487jjE6N5sTit1vtUcEvVDgnaJ9dxj7+AvTa1Skr4ZdS8m+v/RvberZhEiYePvRwxucacA/wxyN/5NqV184pLPK0+tNosbfw/Inno9u6h7t5vud5Nq/bHA1RW9+8HqffycGx5JauESb8ievUZwu9bEMmC7wD7oFpET2xVFmqeH/H+3nb83bS6B6jeQrXrb6Oaks1W/ZsSThm2DvMm4NvpnTz6OiLm4HQ7MX4sAxHLX6dpbVLE1r8euhnKVn8leZKFlQtiBpW2fbxQ6Q0c0Tw3X43VeaqaMnlfLKkZgmjU6MZNWUpVAw/lJnw373nbh7c/yA3rLuBK5ZeweNHH4/7x2mE+/bdR1iG+ezaz85pTkIINi7eyMt9L+MPafXnf7LrJ9RV1vHJ0z8ZHXdO8zkAvDH4xpyuB8nr1GcLR4WDGmtNRrH8M5O3ZnJG0xm4w+6kSVKTvklDbzT1VfVcu/JaHjvyWMJInOeOP4dEctnS1G4e0IROIqNRG7EMeYbwh/2zhH/IOzSruQho6w8SWTIx/Dqt9lbeHn4byI3wOyocuP0R4Q+mbruYK/Q3wEzcPYXK2oUcCr8Q4i4hxKAQojtmW6MQ4mkhxMHIvw25uv5MnjjyBN/f+X2u7LySv13/t1yz4homfBOzXCxGcPld/PrAr/nA0g9kxRLb2L4Rb9CrRQgN7WZ7z3Y2r908LSGlzd5Gi70lK37+cd94Thd2dVodrWkXVvMGvYz7xpNWT1xRvwKAQxOHEo5JVplzJp9d+1nCMsx979wXd/+zx5+lo6aD0+pPM3S+ZHX5YyN6dJbWLgWIa/XrEUel5OoB7bPXH2Q5Wdy12E5l7hrot5srOmoyC+mUUjMMCrGwC7m1+LcAH5yx7avAs1LK04BnI9/nnJ0DO/nai1/jnEXn8K2Lv4VJmLio7SIaqxp55NAjaZ/vNwd+gyvgSlmMzSgbWjdQaa7khZ4XuGPXHdRX1vPJNZ+cNkYIofn5B3bOuY5/OqI4F9rsbWkv7upWtyHhH08i/H7jRejaa9r5wNIP8Ov9v571yj7hm+C1vte4bOllhn2xyYQ/NoZfRxf+eJE9pZa8pRP7+eVC+B0Vjmg0TyGFXzf80rX4XQEX3qB3/ln8UsrtwOiMzR8F7o78/27g2lxdX+fwxGFueu4mFjsWc/v7b48mklhMFq5adhXberallXIdCAW4Z989nNdyHuua1mVljtWWas5rOY8/HPoDL/a+yOZ1m+P+Iq9vXs+wd3jOhaFyWZkzlhZ7S9qLu4mSt2JZULUAm8mWtG5PsiYs8bhh3Q24Ai5+e/C307Zv79lOUAbTSs6LtmCME9lzwnkCszDT4jh1f7qoxxP+HmcP1ZbqrLUtzBf6Gk21pToniYI2iw13UGu/WEjht1vtLKhakLbwR7N2C+Tjz/dqSLOUUleCfiCh808IcSNwI0BzczPbtm1LemKXyzVrzGRoku/3fV9rjOLYzJsvvzltf5u/jWA4yH8+9Z9cXHOxoRt41fUqg55B/szxZynnlA6t3lZe9L+I3WSnfag97rlDgRAA//38f3NhzYVA/PtOxcDEADW+mqzOPx7eCS/OgJPHn3ucapOxGPRXXFov4mO7j+F+Z7bPW2ehaSFvHHuDbb5ts/aFZRin38lY31ha93ha5Wn8/M2f0z7YjlloyXgPDD5Avbmeoe4htgnj56oSVew8sJNlw8umbd85tJN6cz0vbX9p2vZ6cz2vHnyV1WOrp21/a/AtGkQDzz+vLf5n8nkXghGPlr/hwBGd+1yYed+DE4OEZZintj7FwOgA9Zb6gv1c6mQdbx9/m21+49ff79Xq+Pce6GXb8eTH5eQzl1Lm7AvoBLpjvh+fsX/MyHnWr18vU7F169ZZ2255/hZ53r3nye6h7rjHhMNhee3vr5WfeuxTKc+vj//YHz4mr/39tTIcDhs6xignnSfl2b88W/5i9y+SXv+S+y+RX3vha9Ft8e47FRvu3SBve/W2DGaZHo8fflx2bemS+0f3Gz7mjrfukF1buqQv6Es67ou/+aLc+MDGuPvGvGOya0uXvHfvvWnN9/kTz8uuLV3y4XcfllJK6fa75fp71stvv/LttM4jpZTX/v5aedOzN83a/slHPyn/4sm/mLX98098Xn7ysU/O2v7Rhz4qv/Tcl6LfZ/J5F4LuoW7ZtaVLfv6Jz2flfDPv+4F9D8iuLV1y0D0oP/TbD8lbnr8lK9fJhK+98DX5/l+9P61jHn73Ydm1pUsenTiacuxcPnNgh4yjqfmO6hkQQrQCRP4dzOXFvnb+17jjsjsSumSEEFyz4hp2De1KmkCj89LJlzg4dpDN6zZnPfa21dHKE3/2RNKWjbF+/kwJhAJ4gp68Le6CsebjOgPuAZqqm6gwVyQd12JtYXRqlNGpmd7EUwXa0s1TuHjxxayoW8GWPVuQUvLSyZfwhXxcvtRYGGcszbb4nbgSxeTHq9IZlmF6XD0lF9EDp1x1uao8qSdruQKugrp6QHPVDXoGmQpOGT4m2mu3TMI5HwZ0ZdsM/CGXF6urrOPclnOTjrl62dUIBI8cTr3Iu6V7C4uqF3H1squzNcVpNNubUz5Q1jevp9fVm3a0jI6RqpXZQo/lTyekM1Uop06rVXuoxPPzGynQFg+TMLF53WYOjB3g5ZMv88yxZ2iobOA9i96T1nlAE76Z4aEuv4sx31jcSLDO2k4mfBPR5DrQ/MC+kK/kFnYBGqu03rb6Qny2iS3N7A64816nJxY9sied3g7D3mEcVkfeC8vp5DKc837gZWC1EKJHCPEF4DbgA0KIg8Dlke8LSrO9mfNbz+eRQ48kjZbZO7KXV/tf5VNrP4XVbM3jDKezvnk9kHndnnxk7eosqF6A1WRNK7IntvNWMlqs2pjDE7OFfy4lKa5efjULqxfys90/Y3vPdi7tuDSjxKBmezMjUyPR3AyIH9GjE43siSnWVmrF2WIRQvCHa//A5rWJ32Dngm7hT/gm8IV8BRNQyKxK56BnsGARPZDbqJ7rpZStUkqrlLJdSvlzKeWIlPIyKeVpUsrLpZSz39MLwEdWfIReVy9vDr6ZcMxd3Xdht9r5+KqP53Fms1nVsAqH1ZG58OehTo+OSZi08gUuY28nUkrDwl9vrsdmscUN6TRSoC0RFeYKPrXmU+wY2IEr4DJUmyce+ltLbGRPstDMqHjEuBxLNZRTp66yLmdGki78+s+30K4eSC+ks5Ax/FBmmbuJuKzjMqot1XFLOARCAb758jd58uiTXLf6upyWOTCC2WTm7EVn88ZAZhm8+XT1QHqx/JP+STxBjyHhF0Kwon5F3CSuuVYf/fjqj2Oz2LBb7VzQekFG59Dr1cS6e+Ilb+kscSzBJEzTavb0OHswCVN0rURxCl3o9ezoQrp66irrqKusS0v4Bz2DBSnHrKOEH63E6+Udl/PU0aemdUIanRrli09/kV8d+BU3TU4ZdwAAFBJJREFUrLuBv3nP3xRwlqdY37yeQxOH4i5spmIu1nAmpBPLn6gOfyKW1S1L6OMXiIzFoLailn+84B+5ef3NKReZExFN4opZ4O1x9tBQ2RC3RaDVbKXN3jbL4m+1t2I1Fc61WKzowq8vkhbS1QPag9tIgAhEsnY9yuIvCq5ZcQ3OgJNtJ7YB8M7oO1z36HV0D3fzb5f8Gzefe3PajVZyxbnN2oL1mwOJXVOJyEcTlljaHG0MeYcM1UTSX9sTFWibyYr6FQx5h6IWvs64b5yaipo5fV4fWfERPrH6ExkfH6/37syqnDNZWje98XqplWPOJ/pDXX+jKqTFD7CkdolhH/+kfxJ/2D8/ffylxoaWDSyqXsQjhx7hyaNP8tnHP0tIhrj7g3fz4eUfLvT0prFuwToqzZXsGNiR9rETvgmsJmvemnq02luRyKQ9aHX0NwOjFv+KOi1iZKbVP+GbyNsbTSJsVhs1FTWzXD1Jhb9GE349yKDH1VOy/v1cU2muxCzMDHo1i7+QPn7QInv63H2GDJxoKKcS/sJjNpm5esXVbO/Zzt89/3esaljFA1c/kLWyDNnEarZy5sIzM1rg1UUxXzXA04nl7/f0YxEWFlQtMHTu5fXLgdmRPRP+9Mo15IoWe0v0gRcIB+h39ycV8qW1S/EEPQx7h3EH3IxOjZZkDH8+EEJgt9qLxtXTUdtBWIYNrWcVsvOWjhL+GK5deS1Wk5VrV17LXVfeVdAncirWN69n/9h+vGFvWsflqzKnTjqx/P3ufprtzYZdNG32NqrMVbMieyZ9k9RVFYHw207F8ve7+gnJUFIhjy3WVuoRPfnAbrVHW3sW2tUTrdJpwM+vL0gXUl/y37mgiFlet5wXr3+xJHqbrm9eT1iGOeI7ktZx+XaD6NEtRiyhPndfWrXbzSYzy+qWzYrsmfBNFIVgNtub2TOyBzAWmhkr/PpnVAz3UazYrXYkMvr/QqK78Iz4+aPCX6CsXVAW/yxKQfQBzmw6E4uw8O5U8paBMzHamSpbVJoraapuMubqMRjDH0u8yJ5x33jBffygWfyjU6P4Qr6kyVs6egTPMecpi18t7iYmVuwL7epZULUAm8VmKKRz0DNITUVNxn26s4ES/hLFZrWxdsFaDvkS16SPx4RvYk6tIjOhzd6W0tUTlmEGPIlbLiZiRf0K+tx90aYfoXAIp99ZHMIfeYgNuAc44TxBhaki6eu92WRmSc0Sjk0co8fZQ31lfcHzRooZ3b1Taa4seMirEIKO2g5jrp4Ch3KCEv6Spqupix5/j+EG7FLKgkS8pGo+DjDiHSEYDqZt8euRPUcmNJeXK+BCIvO6jpEI3c3V7+6PRvSkanfZUas17y61BuuFQLf4C+3m0VlSs8SYxe8tbLkGUMJf0qxuXI1f+g0Xh/IGvfjD/rxHvLQ52uhz9yWthZRu8paOHtmjL/DqCWq5aP6RLrFlG2Y2WE9EZ20nxyePc9x5XEX0pKAYhb/H1UMoHEo6bsgzlLOqpUZRwl/CrGpYBcCBsQOGxs+1lEGmtNhb8IV8jEyNJByjhz2m6+pZUrMEi8kSDenMZy2iVMSz+FPRUduBP+yn19Wr/PspKDbh76jpIBgOJs1ZCcswQ96hgi7sghL+kmZl/UoEgv1j+w2Nz3fWro4e0pnM3ZNu8paOxWShs7YzusCb75IUyai2VFNXWce+0X14gh7DFr+OcvUkp+iEP06hvZmM+8YJhoPK1aPInCpLFYssizgwaszi1xNH8r6460gdy9/v6c+4P2tssbZoE5YiSOACzd2zo1/LsDYi5Ho8OKiInlToi7vFIvxGqnRGk7eUq0cxF9oq2gxb/HtH9gKnXET5Qrfi9Ubq8dBDOTPJKF5et5weZw9TwamoxV8Mi7ug3fuYbwyIX5VzJotsi6IhxcriT44ewmm3FIfwL7ItotJcmVz4iyCGH5TwlzyLKxbT6+rF5XelHNs93M2yumV5DxGsrajFbrUnFf4B94ChzlvxWF6/HInk6OTRqPAXSxiknpAmECyuWZxyvBCCjpoOKkwVBbcKi52oxV9RHMJvEibaHe1JXT26xa9cPYo5sdiqicnB8YNJx0kp2T28mzOazsjHtKYhhKDV3prU1dPn7kvbv6+jh3QeGj/EhG9izpU5s0ls79lKc6WhY9YuWMuqhlUpQz/LHb28dbFY/JC6Smehe+3qqJINJc7iCk3494/uT9obts/dx8jUCF1NXfma2jRa7a0JF3cDoQDD3uG0I3p0ltYuxSzMmvAXSYE2HV340/HX/8P5/0AgnLrKY7ljs0RcPUXi4wdtjeaVk68gpYzrthzyDlFfWZ9xn4dsoUyKEqfeXE9tRW1KP//u4d0ABbH4QVvgTVSvZ9A7iERmbPFXmCtYUrOEwxOHtczkIvHvwylXTzr++kwXucuNqMVfZMI/FZqK+vJnUuheuzpK+EscIQSrGlaljOXvHu7GarKyumF1nmY2nRZ7CxO+CTwBz6x9eiinHveeCSvqV3B44rBWmbMIQjl1oha/SsbKOvoDPt9RaslYUqs94BP5+YuhXAMo4Z8XrG5czcGxg0lLN+we3s2axjU5a36dCj2WP94Cb6bJW7Esr1vO8cnjDHmHqK0sHmu5vaadz3d9nquWXVXoqcw7Wuwt3HHZHVyx9IpCTyVKqpDOYijXAEr45wWrG1bjDXoT/rIFw0H2juwtmH8fTvm479l7z7S+xpB5uYZYltcvJyRD9Ln7isrHbxImvrz+y1FLUJFdLmm/pKBVLmfSam/FIixx/xbDMsyId6TgC7ughH9ekKp0w+GJw3iD3oIK/xlNZ/CpNZ/itwd/y3WPXsf+0VNrEv3ufuoq6+ZUEluP7IHievVXlBcWk4UV9Sv43cHfsW9k37R9o1OjhGRIWfyK7LCifgUmYZomprF0D3cDhVvYBW0t4qsbvsodl93BuG+c6x+7nrv33E1Yhul398/JzQPQWdeJQIuiKCaLX1F+fHfjd6kwV3DDkzfw8smXo9uLoeWijhL+eUCVpYrO2s6EFv/u4d3UVNREa4kUkkvaL+G3H/ktlyy+hO/t+B5ffOqLHBo/lHHylk61pZrFDi20tZgWdxXlx/L65dzzoXtoc7TxV8/+FY8dfgwojpaLOkr45wnJInu6h7vpWtBVNAlBjVWN/Pul/843LvoGu4d30+PqmVNEj86Kes3do4RfUWia7c1s+eAW3rPoPXz1ha+ypXsLAx6t/3IxZGQXhxIo5szqxtX0unpx+p3TtnuDXg6OHSyofz8eQgj+7LQ/4zfX/IYrO6/kys4r53xOvTa/ioFXFAO1FbX89PKfcmXnlXx/5/f52ds/A2BB9YICz0xl7s4b9AXeg2MHOaf5nOj2d0bfISRDBfXvJ6OjtoPvve97WTnX2sa1CERaDdsVilxSYa7guxu/y8Lqhdy7714aqxoL3iYSCiT8QogvA38BSGA3cIOUcqoQc5kv6MK/f2z/NOHfPaRl7BabxZ8Lrui8gpX1K2l1zG2hWKHIJiZh4pbzbqGjtoNJ32ShpwMUQPiFEIuBm4C1UkqvEOJXwHXAlnzPZT7RbGumrrJuVmRP93A3LfaWolhQyjUmYWJlw8pCT0OhmIUQgutPv77Q04hSKB+/BagWQlgAG5C4bKPCEEIIVjdoGbyxFKoip0KhKF7ybvFLKXuFEN8DjgNe4Ckp5VMzxwkhbgRuBGhubmbbtm1Jz+tyuVKOmY/E3rfNbeMt11s8t/U5TMKEM+Skx9XDesv6efezUZ93eVGu9w05uncpZV6/gAbgOWAhYAV+D3w62THr16+Xqdi6dWvKMfOR2Pv+3YHfya4tXfLoxFEppZTPn3hedm3pkq/1vVag2eUO9XmXF+V631LO7d6BHTKOphbC1XM5cERKOSSlDAC/Ay4qwDzmHasbtcqbup+/e7gbkzCxbsG6Qk5LoVAUGYUQ/uPABUIIm9A6FVwG7EtxjMIAK+pXYBbmaG3+3cO7WV63PNqbVKFQKKAAwi+lfBX4DfAGWiinCbgz3/OYj1SaK6OlG6SUdA93q4VdhUIxi4LE8Uspvw58vRDXnu+salzFrsFd9Lh6GPeNl0X8vkKhSA9VsmGesaphFSfdJ6NVAZXFr1AoZqKEf56ht1b83cHfUWmuVAlNCoViFkr45xl6ZM+ekT1aq8UiqAuiUCiKCyX884yF1QujTaiVf1/x/7d3/7FW13Ucx58vScVEQ4VYCQVeMWKFN3+QLSrAapSGrNDFNF1z/WBNsMUKaytsc8ucpW2uX+qARSn9QFnNBbOLWn/wW34EgYr0gxHoysx+3Aa8++PzOfr1Bt574577Pef7fT02ds73c758z/sN3/s+3/M597w/Zkfjwl8xjdYNAJNGTio5GjNrRS78FTT+jPGAr/jN7Ojcj7+CZp83m9NPPp3Rw0aXHYqZtSAX/grqGN7B3OFzyw7DzFqUp3rMzGrGhd/MrGZc+M3MasaF38ysZlz4zcxqxoXfzKxmXPjNzGrGhd/MrGaU1uNtbZKeAX7fy24jgGcHIZxW47zrxXnXz/Hk/saIGNlzsC0Kf19I2hARF5Udx2Bz3vXivOunGbl7qsfMrGZc+M3MaqZKhf97ZQdQEuddL867fgY898rM8ZuZWd9U6YrfzMz6wIXfzKxm2r7wS5ohaZekJyUtLDueZpJ0r6SDkrYXxs6UtFrSE/n2jDJjbAZJYyR1Sdoh6beS5ufxSucuaaikdZK25LxvzuPjJK3N5/z9kk4qO9ZmkDRE0mZJP8/blc9b0l5J2yQ9LmlDHhvw87ytC7+kIcBdwAeAicAcSRPLjaqpFgMzeowtBB6OiPHAw3m7ag4Bn4uIicAlwGfy/3PVc+8GpkfE+UAnMEPSJcCtwDcj4lzgr8D1JcbYTPOBnYXtuuQ9LSI6C7+7P+DneVsXfmAy8GRE7ImI/wD3AVeUHFPTRMSjwF96DF8BLMn3lwCzBjWoQRAR+yNiU77/d1IxOJuK5x7JC3nzxPwngOnAT/J45fIGkDQauAy4O2+LGuR9DAN+nrd74T8b+GNh+095rE5GRcT+fP/PwKgyg2k2SWOBtwFrqUHuebrjceAgsBp4CnguIg7lXap6zt8BfB44krfPoh55B7BK0kZJn8xjA36ee7H1ComIkFTZ38+VNAz4KXBjRDyfLgKTquYeEYeBTknDgRXAhJJDajpJlwMHI2KjpKllxzPIpkTEPkmvBVZL+l3xwYE6z9v9in8fMKawPTqP1ckBSa8DyLcHS46nKSSdSCr6yyLiZ3m4FrkDRMRzQBfwDmC4pMZFWxXP+XcCMyXtJU3fTgfupPp5ExH78u1B0gv9ZJpwnrd74V8PjM+f9p8EfBRYWXJMg20lcF2+fx3wYImxNEWe370H2BkR3yg8VOncJY3MV/pIOgV4H+nzjS5gdt6tcnlHxE0RMToixpJ+pn8VEVdT8bwlnSrptMZ94P3Adppwnrf9N3clfZA0HzgEuDcibik5pKaR9CNgKqlN6wHgK8ADwHLgDaTW1VdFRM8PgNuapCnAY8A2Xprz/SJpnr+yuUuaRPowbwjpIm15RHxV0jmkK+Ezgc3ANRHRXV6kzZOnehZExOVVzzvntyJvvgr4YUTcIuksBvg8b/vCb2Zm/dPuUz1mZtZPLvxmZjXjwm9mVjMu/GZmNePCb2ZWMy781jIkhaTbC9sLJC0aoGMvljS79z2P+3mulLRTUleP8bGS/pW7Lu6QtDR/Ka2ZsSyStKCZz2HtyYXfWkk38GFJI8oOpKjwbdG+uB74RERMO8pjT0VEJ/BW0jdPrxqI+Mz6y4XfWskh0vqin+35QM8rdkkv5Nupkh6R9KCkPZK+Junq3Md+m6SOwmHeK2mDpN25H0yjCdptktZL2irpU4XjPiZpJbDjKPHMycffLunWPPZlYApwj6TbjpVk7r+zjtxkTNKlue/8NqU1F07O43sbL4KSLpK0Jt9flPdbk3OeV4jrSzm/XwNvKozPy+80tkq675X+E6z63KTNWs1dwFZJX+/H3zkfeDOpZfUe4O6ImKy0YMsNwI15v7Gk3icdQJekc4Frgb9FxMW54P5G0qq8/wXAWyLi6eKTSXo9qTf8haS+8Kskzcrfqp1O+qbphmMFK2ko8HZgfr6/GLg0InZLWgrMJX0b/ZVMAKYBpwG7JH0bmERqcdBJ+tneBGzM+y8ExkVEd6MNhNWXr/itpUTE88BSYF5v+xaszz37u0ltixuFexup2Dcsj4gjEfEE6QViAqkfyrW59fFaUvvf8Xn/dT2LfnYxsCYinsltgpcB7+5DnB35eQ4A+yNiK+mq/OmI2J33WdLHY/0iIroj4llS065RwLuAFRHxz/zvWOxbtRVYJuka0jsrqzEXfmtFd5Dmyk8tjB0in6+STgCKy+4V+7UcKWwf4eXvanv2JwlAwA15xaPOiBgXEY0Xjn8cVxb/qzHH3wFcKGlmL/u/mDMwtMdjxZwP0/u798tI76YuANb383MLqxgXfms5uQHVcl6+tN5e0tQKwEzSalT9daWkE/K8/znALuCXwNzGb9hIOi93Rnwl64D3SBqhtPznHOCRvgaRr9IXAjflGMbmaSeAjxWOtZeXcv5IHw79KDBL0im5y+OH4MUXyjER0QV8AXgNMKyv8Vr1uPBbq7qd1IW04fukYruF1JP+/7ka/wOpaD8EfDoi/k1a2m8HsElpEfvv0svVc14NaSGpTfAWYGNE9LdV7gPAq0nTRh8Hfiyp0X30O3mfm4E7lRbdPtzbAfPylPfnmB4itS2H1N3zB/n4m4Fv5f7+VlPuzmlmVjO+4jczqxkXfjOzmnHhNzOrGRd+M7OaceE3M6sZF34zs5px4Tczq5n/AipxOQ1BPNzIAAAAAElFTkSuQmCC\n",
>>>>>>> 3e40152c547c99995bfcbe0d16b86f0869affe1f
            "text/plain": [
              "<Figure size 432x288 with 1 Axes>"
            ]
          },
          "metadata": {
            "tags": [],
            "needs_background": "light"
          }
        },
        {
          "output_type": "display_data",
          "data": {
<<<<<<< HEAD
            "image/png": "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\n",
=======
            "image/png": "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\n",
>>>>>>> 3e40152c547c99995bfcbe0d16b86f0869affe1f
            "text/plain": [
              "<Figure size 432x288 with 1 Axes>"
            ]
          },
          "metadata": {
            "tags": [],
            "needs_background": "light"
          }
        },
        {
          "output_type": "stream",
          "text": [
            "Training Done!\n",
<<<<<<< HEAD
            "Total time taken to Train: 3347.555630683899\n",
=======
            "Total time taken to Train: 1568.568644285202\n",
>>>>>>> 3e40152c547c99995bfcbe0d16b86f0869affe1f
            "\n",
            "\n"
          ],
          "name": "stdout"
        }
      ]
    },
    {
      "cell_type": "markdown",
      "metadata": {
        "id": "4C68J-Kk14dB"
      },
      "source": [
        "### Test"
      ]
    },
    {
      "cell_type": "code",
      "metadata": {
        "id": "_yQ9GiAZ15jE"
      },
      "source": [
        "# criterion = nn.CrossEntropyLoss()\n",
        "# acc, loss = testing(cifar_cnn_non_iid_trained, cifar_data_test, 128, criterion, num_classes, classes_test, True)"
      ],
<<<<<<< HEAD
      "execution_count": 25,
=======
      "execution_count": 66,
>>>>>>> 3e40152c547c99995bfcbe0d16b86f0869affe1f
      "outputs": []
    },
    {
      "cell_type": "code",
      "metadata": {
        "id": "dxMcxgLhLvX-"
      },
      "source": [
        "hyperparams = {'rounds': rounds,\n",
        "               'C': C,\n",
        "               'K': K,\n",
        "               'E': E,\n",
        "               'batch_size': batch_size,\n",
        "               'lr': lr,\n",
        "               'mu': mu,\n",
        "               'percentage': percentage,\n",
        "               'target_test_accuracy': target_test_accuracy,\n",
        "               }\n",
        "\n",
        "log_dict['CIFAR CNN on Non IID'] = {'train_loss': train_loss_multiple_runs, \n",
        "                                'test_loss': test_loss_multiple_runs, \n",
        "                                'test_accuracy': test_accuracy_multiple_runs,\n",
        "                                'hyperparams': hyperparams,\n",
        "                                }"
      ],
<<<<<<< HEAD
      "execution_count": 26,
=======
      "execution_count": 67,
>>>>>>> 3e40152c547c99995bfcbe0d16b86f0869affe1f
      "outputs": []
    },
    {
      "cell_type": "markdown",
      "metadata": {
        "id": "ptMieSimVxid"
      },
      "source": [
        "## CIFAR MLP on IID"
      ]
    },
    {
      "cell_type": "markdown",
      "metadata": {
        "id": "mz3f_fOxVxie"
      },
      "source": [
        "### Train"
      ]
    },
    {
      "cell_type": "code",
      "metadata": {
        "id": "5ZGAZPhtVxie"
      },
      "source": [
        "# train_loss_multiple_runs = [None] * NUM_REPEAT\n",
        "# test_accuracy_multiple_runs = [None] * NUM_REPEAT\n",
        "# test_loss_multiple_runs = [None] * NUM_REPEAT\n",
        "\n",
        "# for exp_num in range(NUM_REPEAT):\n",
        "#   print(\"Experiment Run Number: \", exp_num)\n",
        "\n",
        "#   # number of training rounds\n",
        "#   rounds = 50\n",
        "#   # client fraction\n",
        "#   C = 0.1\n",
        "#   # number of clients\n",
        "#   K = 100\n",
        "#   # number of training passes on local dataset for each round\n",
        "#   E = 5\n",
        "#   # batch size\n",
        "#   batch_size = 10\n",
        "#   # learning Rate\n",
        "#   lr=0.05\n",
        "#   # proximal term constant\n",
        "#   mu = 0.01\n",
        "#   # percentage of clients to have fewer than E epochs\n",
        "#   percentage = 50\n",
        "#   # target_test_accuracy\n",
        "#   target_test_accuracy=50.0\n",
        "\n",
        "#   # dict containing different type of data partition\n",
        "#   data_dict = iid_partition(cifar_data_train, 100)\n",
        "#   # load model\n",
        "#   cifar_mlp = CIFAR_MLP()\n",
        "\n",
        "#   if torch.cuda.is_available():\n",
        "#     cifar_mlp.cuda()\n",
        "\n",
        "#   cifar_mlp_iid_trained, train_loss, test_accuracy, test_loss = training(cifar_mlp, rounds, batch_size, lr, cifar_data_train, cifar_data_test, data_dict, C, K, E, mu, percentage, \"CIFAR MLP on IID Dataset\", \"orange\", target_test_accuracy)\n",
        "  \n",
        "#   train_loss_multiple_runs[exp_num] = train_loss\n",
        "#   test_accuracy_multiple_runs[exp_num] = test_accuracy\n",
        "#   test_loss_multiple_runs[exp_num] = test_loss\n",
        "\n",
        "#   del cifar_mlp_iid_trained\n",
        "#   torch.cuda.empty_cache()"
      ],
<<<<<<< HEAD
      "execution_count": 27,
=======
      "execution_count": 68,
>>>>>>> 3e40152c547c99995bfcbe0d16b86f0869affe1f
      "outputs": []
    },
    {
      "cell_type": "markdown",
      "metadata": {
        "id": "aTBsL3-72PPd"
      },
      "source": [
        "### Test"
      ]
    },
    {
      "cell_type": "code",
      "metadata": {
        "id": "a9G4j5L62OrS"
      },
      "source": [
        "# criterion = nn.CrossEntropyLoss()\n",
        "# acc, loss = testing(cifar_mlp_iid_trained, cifar_data_test, 128, criterion, num_classes, classes_test, True)"
      ],
<<<<<<< HEAD
      "execution_count": 28,
=======
      "execution_count": 69,
>>>>>>> 3e40152c547c99995bfcbe0d16b86f0869affe1f
      "outputs": []
    },
    {
      "cell_type": "code",
      "metadata": {
        "id": "fWCdJFRCL_f2"
      },
      "source": [
        "# hyperparams = {'rounds': rounds,\n",
        "#                'C': C,\n",
        "#                'K': K,\n",
        "#                'E': E,\n",
        "#                'batch_size': batch_size,\n",
        "#                'lr': lr,\n",
        "#                'mu': mu,\n",
        "#                'percentage': percentage,\n",
        "#                'target_test_accuracy': target_test_accuracy,\n",
        "#                }\n",
        "\n",
        "# log_dict['CIFAR MLP on IID'] = {'train_loss': train_loss_multiple_runs, \n",
        "#                                 'test_loss': test_loss_multiple_runs, \n",
        "#                                 'test_accuracy': test_accuracy_multiple_runs,\n",
        "#                                 'hyperparams': hyperparams,\n",
        "#                                 }"
      ],
<<<<<<< HEAD
      "execution_count": 29,
=======
      "execution_count": 70,
>>>>>>> 3e40152c547c99995bfcbe0d16b86f0869affe1f
      "outputs": []
    },
    {
      "cell_type": "markdown",
      "metadata": {
        "id": "J8jzEyO0iywz"
      },
      "source": [
        "## CIFAR MLP on Non IID"
      ]
    },
    {
      "cell_type": "markdown",
      "metadata": {
        "id": "pJFepr3y2bF-"
      },
      "source": [
        "### Train"
      ]
    },
    {
      "cell_type": "code",
      "metadata": {
        "id": "EBKO44Hgi1Uh"
      },
      "source": [
        "# train_loss_multiple_runs = [None] * NUM_REPEAT\n",
        "# test_accuracy_multiple_runs = [None] * NUM_REPEAT\n",
        "# test_loss_multiple_runs = [None] * NUM_REPEAT\n",
        "\n",
        "# for exp_num in range(NUM_REPEAT):\n",
        "#   print(\"Experiment Run Number: \", exp_num)\n",
        "  \n",
        "#   # number of training rounds\n",
        "#   rounds = 50\n",
        "#   # client fraction\n",
        "#   C = 0.1\n",
        "#   # number of clients\n",
        "#   K = 100\n",
        "#   # number of training passes on local dataset for each roung\n",
        "#   E = 5\n",
        "#   # batch size\n",
        "#   batch_size = 10\n",
        "#   # learning Rate\n",
        "#   lr=0.05\n",
        "#   # proximal term constant\n",
        "#   mu = 0.01\n",
        "#   # percentage of clients to have fewer than E epochs\n",
        "#   percentage = 50\n",
        "#   # target_test_accuracy\n",
        "#   target_test_accuracy=50.0\n",
        "\n",
        "#   # dict containing different type of data partition\n",
        "#   data_dict = non_iid_partition(cifar_data_train, 100, 200, 250, 2)\n",
        "#   # load model\n",
        "#   cifar_mlp = CIFAR_MLP()\n",
        "\n",
        "#   if torch.cuda.is_available():\n",
        "#     cifar_mlp.cuda()\n",
        "\n",
        "#   cifar_mlp_non_iid_trained, train_loss, test_accuracy, test_loss = training(cifar_mlp, rounds, batch_size, lr, cifar_data_train, cifar_data_test, data_dict, C, K, E, mu, percentage, \"CIFAR MLP on Non-IID Dataset\", \"green\", target_test_accuracy)\n",
        "\n",
        "#   train_loss_multiple_runs[exp_num] = train_loss\n",
        "#   test_accuracy_multiple_runs[exp_num] = test_accuracy\n",
        "#   test_loss_multiple_runs[exp_num] = test_loss\n",
        "\n",
        "#   del cifar_mlp_non_iid_trained\n",
        "#   torch.cuda.empty_cache()"
      ],
<<<<<<< HEAD
      "execution_count": 30,
=======
      "execution_count": 71,
>>>>>>> 3e40152c547c99995bfcbe0d16b86f0869affe1f
      "outputs": []
    },
    {
      "cell_type": "markdown",
      "metadata": {
        "id": "jmuQYPbF2mes"
      },
      "source": [
        "### Test"
      ]
    },
    {
      "cell_type": "code",
      "metadata": {
        "id": "0tKMlJyF2nGN"
      },
      "source": [
        "# criterion = nn.CrossEntropyLoss()\n",
        "# acc, loss = testing(cifar_mlp_non_iid_trained, cifar_data_test, 128, criterion, num_classes, classes_test, True)"
      ],
<<<<<<< HEAD
      "execution_count": 31,
=======
      "execution_count": 72,
>>>>>>> 3e40152c547c99995bfcbe0d16b86f0869affe1f
      "outputs": []
    },
    {
      "cell_type": "code",
      "metadata": {
        "id": "1W5krYcSMQiu"
      },
      "source": [
        "# hyperparams = {'rounds': rounds,\n",
        "#                'C': C,\n",
        "#                'K': K,\n",
        "#                'E': E,\n",
        "#                'batch_size': batch_size,\n",
        "#                'lr': lr,\n",
        "#                'mu': mu,\n",
        "#                'percentage': percentage,\n",
        "#                'target_test_accuracy': target_test_accuracy,\n",
        "#                }\n",
        "\n",
        "# log_dict['CIFAR MLP on Non IID'] = {'train_loss': train_loss_multiple_runs, \n",
        "#                                 'test_loss': test_loss_multiple_runs, \n",
        "#                                 'test_accuracy': test_accuracy_multiple_runs,\n",
        "#                                 'hyperparams': hyperparams,\n",
        "#                                 }"
      ],
<<<<<<< HEAD
      "execution_count": 32,
=======
      "execution_count": 73,
>>>>>>> 3e40152c547c99995bfcbe0d16b86f0869affe1f
      "outputs": []
    },
    {
      "cell_type": "markdown",
      "metadata": {
        "id": "emS_SaRAP6TZ"
      },
      "source": [
        "## Pickle Log"
      ]
    },
    {
      "cell_type": "code",
      "metadata": {
        "id": "soAN38JoP0c1"
      },
      "source": [
        "import pickle\n",
        "\n",
<<<<<<< HEAD
        "with open(path + 'Local_Round_FedProx_5.pkl', 'wb') as file:\n",
        "  pickle.dump(log_dict, file)"
      ],
      "execution_count": 40,
=======
        "with open(path + 'FedProx0.5.pkl', 'wb') as file:\n",
        "  pickle.dump(log_dict, file)"
      ],
      "execution_count": 74,
>>>>>>> 3e40152c547c99995bfcbe0d16b86f0869affe1f
      "outputs": []
    },
    {
      "cell_type": "code",
      "metadata": {
        "id": "2UBy-JswSoCJ",
        "colab": {
          "base_uri": "https://localhost:8080/"
        },
<<<<<<< HEAD
        "outputId": "3fd17945-058e-43c2-fcec-f7ef927322cb"
=======
        "outputId": "2e852649-d715-47f9-e080-7957a5230f9b"
>>>>>>> 3e40152c547c99995bfcbe0d16b86f0869affe1f
      },
      "source": [
        "log_dict"
      ],
<<<<<<< HEAD
      "execution_count": 34,
=======
      "execution_count": 75,
>>>>>>> 3e40152c547c99995bfcbe0d16b86f0869affe1f
      "outputs": [
        {
          "output_type": "execute_result",
          "data": {
            "text/plain": [
              "{'CIFAR CNN on IID': {'hyperparams': {'C': 0.1,\n",
              "   'E': 5,\n",
              "   'K': 10,\n",
              "   'batch_size': 10,\n",
              "   'lr': 0.05,\n",
              "   'mu': 0.01,\n",
              "   'percentage': 50,\n",
              "   'rounds': 50,\n",
              "   'target_test_accuracy': 80.0},\n",
<<<<<<< HEAD
              "  'test_accuracy': [[44.050632911392405,\n",
              "    52.53164556962025,\n",
              "    57.59493670886076,\n",
              "    61.51898734177215,\n",
              "    65.0632911392405,\n",
              "    65.31645569620254,\n",
              "    70.88607594936708,\n",
              "    73.67088607594937,\n",
              "    72.53164556962025,\n",
              "    76.9620253164557,\n",
              "    76.58227848101266,\n",
              "    77.72151898734177,\n",
              "    77.59493670886076,\n",
              "    79.11392405063292,\n",
              "    79.36708860759494,\n",
              "    80.50632911392405,\n",
              "    80.25316455696202,\n",
              "    80.0,\n",
              "    80.50632911392405,\n",
              "    80.0,\n",
              "    81.0126582278481,\n",
              "    83.0379746835443,\n",
              "    82.53164556962025,\n",
              "    81.13924050632912,\n",
              "    85.0632911392405,\n",
              "    84.68354430379746,\n",
              "    82.78481012658227,\n",
              "    83.67088607594937,\n",
              "    84.0506329113924,\n",
              "    84.81012658227849,\n",
              "    85.56962025316456,\n",
              "    86.07594936708861,\n",
              "    84.17721518987342,\n",
              "    85.0632911392405,\n",
              "    85.18987341772151,\n",
              "    83.0379746835443,\n",
              "    87.59493670886076,\n",
              "    86.07594936708861,\n",
              "    84.81012658227849,\n",
              "    85.9493670886076,\n",
              "    85.69620253164557,\n",
              "    84.55696202531645,\n",
              "    84.68354430379746,\n",
              "    84.30379746835443,\n",
              "    83.79746835443038,\n",
              "    85.0632911392405,\n",
              "    86.70886075949367,\n",
              "    83.79746835443038,\n",
              "    86.32911392405063,\n",
              "    82.40506329113924]],\n",
              "  'test_loss': [[1.501409993171692,\n",
              "    1.3356209199905396,\n",
              "    1.1702637371063231,\n",
              "    1.0913564249038696,\n",
              "    0.9794953653335571,\n",
              "    1.016149980545044,\n",
              "    0.8565704649925232,\n",
              "    0.8246897562026978,\n",
              "    0.830164898777008,\n",
              "    0.7589890178203583,\n",
              "    0.7832620588302612,\n",
              "    0.7817481715202331,\n",
              "    0.6715473958969116,\n",
              "    0.6415856204509736,\n",
              "    0.6111018186092376,\n",
              "    0.6043871228218078,\n",
              "    0.679392171239853,\n",
              "    0.6431717640399933,\n",
              "    0.6062660070419311,\n",
              "    0.6428670620441437,\n",
              "    0.6137598243236542,\n",
              "    0.5858514658927918,\n",
              "    0.5908709032058715,\n",
              "    0.6347810186862946,\n",
              "    0.5892322388648987,\n",
              "    0.623424195241928,\n",
              "    0.5516244178056717,\n",
              "    0.5270462760210037,\n",
              "    0.5602428878068924,\n",
              "    0.5876613351345062,\n",
              "    0.5034469086170197,\n",
              "    0.5316584866523743,\n",
              "    0.5314553678512574,\n",
              "    0.5263837769031524,\n",
              "    0.5191655459403992,\n",
              "    0.5570902034759522,\n",
              "    0.48032669277191165,\n",
              "    0.5442877617835998,\n",
              "    0.5478535956382752,\n",
              "    0.5587418911933899,\n",
              "    0.5488017916679382,\n",
              "    0.5872656929969787,\n",
              "    0.5475386619567871,\n",
              "    0.6369686146736145,\n",
              "    0.6558998223304748,\n",
              "    0.5747833076477051,\n",
              "    0.6014581605911254,\n",
              "    0.5765082160949707,\n",
              "    0.5663888362884522,\n",
              "    0.6310242452144623]],\n",
              "  'train_loss': [[1.9421156935214998,\n",
              "    1.6104269437789918,\n",
              "    1.407806970977783,\n",
              "    1.2978998039484024,\n",
              "    1.1855741857647897,\n",
              "    1.0539311767041684,\n",
              "    0.908189353504777,\n",
              "    1.016237188231945,\n",
              "    0.9495134169816971,\n",
              "    0.7939321431592108,\n",
              "    0.8123492295742036,\n",
              "    0.6714404201686383,\n",
              "    0.8684970429182053,\n",
              "    0.8285349177718162,\n",
              "    0.8049669248878957,\n",
              "    0.6819033103376627,\n",
              "    0.6080633343189954,\n",
              "    0.5813848166137934,\n",
              "    0.6827049893289805,\n",
              "    0.5268908699393273,\n",
              "    0.7182003767520189,\n",
              "    0.7016039997205139,\n",
              "    0.6498583798140287,\n",
              "    0.4684749456301332,\n",
              "    0.5377325408183038,\n",
              "    0.5616063817381858,\n",
              "    0.6453905628591776,\n",
              "    0.6414919584423304,\n",
              "    0.5708721581101418,\n",
              "    0.4827775683045387,\n",
              "    0.6562913865983486,\n",
              "    0.4921538007870317,\n",
              "    0.5486221603155137,\n",
              "    0.533788731110096,\n",
              "    0.6124374763607979,\n",
              "    0.5184023102715611,\n",
              "    0.5618304855227472,\n",
              "    0.4842984968453646,\n",
              "    0.45158207823336116,\n",
              "    0.47412190785408026,\n",
              "    0.43285394744277,\n",
              "    0.3971217673078179,\n",
              "    0.49901081118062135,\n",
              "    0.4307062983885407,\n",
              "    0.3491650517478585,\n",
              "    0.4249431362651288,\n",
              "    0.33798615005910404,\n",
              "    0.6180802557438613,\n",
              "    0.3717417771205306,\n",
              "    0.42684392084777356]]},\n",
=======
              "  'test_accuracy': [[46.45569620253165,\n",
              "    49.36708860759494,\n",
              "    59.24050632911393,\n",
              "    63.67088607594937,\n",
              "    69.62025316455696,\n",
              "    66.83544303797468,\n",
              "    71.64556962025317,\n",
              "    70.25316455696202,\n",
              "    71.64556962025317,\n",
              "    75.82278481012658,\n",
              "    79.36708860759494,\n",
              "    75.44303797468355,\n",
              "    74.43037974683544,\n",
              "    80.0,\n",
              "    80.37974683544304,\n",
              "    81.13924050632912,\n",
              "    80.12658227848101,\n",
              "    81.89873417721519,\n",
              "    80.75949367088607,\n",
              "    83.54430379746836,\n",
              "    83.29113924050633,\n",
              "    84.17721518987342,\n",
              "    82.78481012658227,\n",
              "    81.13924050632912,\n",
              "    81.51898734177215,\n",
              "    82.0253164556962,\n",
              "    84.55696202531645,\n",
              "    85.18987341772151,\n",
              "    84.68354430379746,\n",
              "    84.17721518987342,\n",
              "    83.92405063291139,\n",
              "    82.9113924050633,\n",
              "    83.67088607594937,\n",
              "    84.30379746835443,\n",
              "    83.41772151898734,\n",
              "    84.68354430379746,\n",
              "    85.18987341772151,\n",
              "    85.82278481012658,\n",
              "    84.68354430379746,\n",
              "    84.55696202531645,\n",
              "    85.31645569620254,\n",
              "    85.56962025316456,\n",
              "    85.56962025316456,\n",
              "    85.31645569620254,\n",
              "    84.68354430379746,\n",
              "    85.82278481012658,\n",
              "    85.44303797468355,\n",
              "    85.31645569620254,\n",
              "    85.9493670886076,\n",
              "    84.55696202531645]],\n",
              "  'test_loss': [[1.4811292486190797,\n",
              "    1.3874917030334473,\n",
              "    1.0935409852981568,\n",
              "    0.9970596485137939,\n",
              "    0.854034699344635,\n",
              "    0.9183138939857483,\n",
              "    0.9115681597709656,\n",
              "    0.8742634136199952,\n",
              "    0.8090478878974915,\n",
              "    0.754944082069397,\n",
              "    0.7181947794914245,\n",
              "    0.8010554789066314,\n",
              "    0.8143136595249176,\n",
              "    0.6284512924194336,\n",
              "    0.6162597867488862,\n",
              "    0.6188811852455139,\n",
              "    0.6748281374454498,\n",
              "    0.6260034808158874,\n",
              "    0.6114950277328491,\n",
              "    0.6872152107238769,\n",
              "    0.5782120419502258,\n",
              "    0.5495187237739563,\n",
              "    0.5621470603942871,\n",
              "    0.596465472650528,\n",
              "    0.6179925562381744,\n",
              "    0.6646777946472168,\n",
              "    0.5508563669204712,\n",
              "    0.492779195022583,\n",
              "    0.5553602383613586,\n",
              "    0.5738391177654266,\n",
              "    0.5203422691345215,\n",
              "    0.5838972387075424,\n",
              "    0.5311276539802551,\n",
              "    0.5399862497806549,\n",
              "    0.5226626616001129,\n",
              "    0.5458772799491882,\n",
              "    0.4932831223487854,\n",
              "    0.5112625802516937,\n",
              "    0.520256826877594,\n",
              "    0.5594143210411072,\n",
              "    0.5570014238357544,\n",
              "    0.5749411586761475,\n",
              "    0.5593297088623047,\n",
              "    0.5173444573402405,\n",
              "    0.6139231636047363,\n",
              "    0.523433861732483,\n",
              "    0.5783673898696899,\n",
              "    0.4883484297275543,\n",
              "    0.5900749435424805,\n",
              "    0.5849405180931091]],\n",
              "  'train_loss': [[1.931222385382652,\n",
              "    1.5899143423557283,\n",
              "    1.3864458107829094,\n",
              "    1.2731661595106125,\n",
              "    1.1702313371539117,\n",
              "    1.0276558411359786,\n",
              "    0.8753440627634526,\n",
              "    1.00362198638916,\n",
              "    0.9267400831341744,\n",
              "    0.7703240304291248,\n",
              "    0.7935171721935271,\n",
              "    0.651459028685093,\n",
              "    0.8518195812761784,\n",
              "    0.80931750959754,\n",
              "    0.7936832786321639,\n",
              "    0.675021983781457,\n",
              "    0.5989563049718737,\n",
              "    0.5781168349251151,\n",
              "    0.6816548679798842,\n",
              "    0.5292520958572625,\n",
              "    0.7138041048824788,\n",
              "    0.690081511155516,\n",
              "    0.6342693217664958,\n",
              "    0.4521184004917741,\n",
              "    0.5284496024057269,\n",
              "    0.5491581527486444,\n",
              "    0.6401956991672517,\n",
              "    0.6451706642508507,\n",
              "    0.5796981135532261,\n",
              "    0.46747312079221015,\n",
              "    0.6446295140922069,\n",
              "    0.48305857534259555,\n",
              "    0.5390101026222109,\n",
              "    0.5327697966247796,\n",
              "    0.6195682011127472,\n",
              "    0.5044446633636952,\n",
              "    0.535887207493186,\n",
              "    0.46942123510241507,\n",
              "    0.45008986692726616,\n",
              "    0.4714167744785547,\n",
              "    0.41433364542275675,\n",
              "    0.3770506116792559,\n",
              "    0.4794047405585647,\n",
              "    0.42930453131645924,\n",
              "    0.33116547464281326,\n",
              "    0.4245680071443319,\n",
              "    0.32717262245118617,\n",
              "    0.6124426439613103,\n",
              "    0.3566830227032304,\n",
              "    0.4168102005526423]]},\n",
>>>>>>> 3e40152c547c99995bfcbe0d16b86f0869affe1f
              " 'CIFAR CNN on Non IID': {'hyperparams': {'C': 0.1,\n",
              "   'E': 5,\n",
              "   'K': 10,\n",
              "   'batch_size': 10,\n",
              "   'lr': 0.05,\n",
              "   'mu': 0.01,\n",
              "   'percentage': 50,\n",
              "   'rounds': 50,\n",
              "   'target_test_accuracy': 80.0},\n",
<<<<<<< HEAD
              "  'test_accuracy': [[20.126582278481013,\n",
              "    18.10126582278481,\n",
              "    20.379746835443036,\n",
              "    20.88607594936709,\n",
              "    20.50632911392405,\n",
              "    18.10126582278481,\n",
              "    20.379746835443036,\n",
              "    20.253164556962027,\n",
              "    17.72151898734177,\n",
              "    20.759493670886076,\n",
              "    19.11392405063291,\n",
              "    16.962025316455698,\n",
              "    18.354430379746834,\n",
              "    20.50632911392405,\n",
              "    20.759493670886076,\n",
              "    20.379746835443036,\n",
              "    17.974683544303797,\n",
              "    17.974683544303797,\n",
              "    20.379746835443036,\n",
              "    18.227848101265824,\n",
              "    18.10126582278481,\n",
              "    20.632911392405063,\n",
              "    20.759493670886076,\n",
              "    18.481012658227847,\n",
              "    18.734177215189874,\n",
              "    20.88607594936709,\n",
              "    20.50632911392405,\n",
              "    18.227848101265824,\n",
              "    20.88607594936709,\n",
              "    18.10126582278481,\n",
              "    20.759493670886076,\n",
              "    20.50632911392405,\n",
              "    20.759493670886076,\n",
              "    18.60759493670886,\n",
              "    18.10126582278481,\n",
              "    18.10126582278481,\n",
              "    18.354430379746834,\n",
              "    18.481012658227847,\n",
              "    18.481012658227847,\n",
              "    18.481012658227847,\n",
              "    20.88607594936709,\n",
              "    21.0126582278481,\n",
              "    23.037974683544302,\n",
              "    18.481012658227847,\n",
              "    18.481012658227847,\n",
              "    20.88607594936709,\n",
              "    18.227848101265824,\n",
              "    20.88607594936709,\n",
              "    20.88607594936709,\n",
              "    18.60759493670886]],\n",
              "  'test_loss': [[10.708294845581054,\n",
              "    10.773207200622558,\n",
              "    10.818604995727538,\n",
              "    10.980284320068359,\n",
              "    10.383856381225586,\n",
              "    12.621007141113282,\n",
              "    11.835154821777344,\n",
              "    9.264750315093995,\n",
              "    8.871981217956543,\n",
              "    7.771047450256348,\n",
              "    8.550190567016601,\n",
              "    8.918108340454102,\n",
              "    11.747593789672852,\n",
              "    11.353521592712402,\n",
              "    12.162336032104491,\n",
              "    10.043395417785645,\n",
              "    8.693208668518066,\n",
              "    11.814338650512695,\n",
              "    12.324102110290527,\n",
              "    10.947664854431153,\n",
              "    9.913231321716308,\n",
              "    14.88864800415039,\n",
              "    12.518460795593262,\n",
              "    11.500789530944823,\n",
              "    9.169320637512207,\n",
              "    12.954272326660156,\n",
              "    8.592369987487793,\n",
              "    12.108358988952636,\n",
              "    11.679709530639649,\n",
              "    14.063132452392578,\n",
              "    14.181064086914063,\n",
              "    12.939449711608887,\n",
              "    19.108103442382813,\n",
              "    10.022336814117432,\n",
              "    12.155958998107911,\n",
              "    12.065604020690918,\n",
              "    10.483758059692383,\n",
              "    14.18184608001709,\n",
              "    13.271783750915528,\n",
              "    15.835289895629883,\n",
              "    9.338985083007813,\n",
              "    16.979568562316896,\n",
              "    9.556867822265625,\n",
              "    14.478725682067871,\n",
              "    12.108503106689453,\n",
              "    10.388011665344239,\n",
              "    9.108601715087891,\n",
              "    10.592008946228027,\n",
              "    11.986929554748535,\n",
              "    14.43307314453125]],\n",
              "  'train_loss': [[0.3352039129734039,\n",
              "    0.33942367478013036,\n",
              "    0.23349610310792923,\n",
              "    0.13964049415625632,\n",
              "    0.22775156341195107,\n",
              "    0.19952659182846544,\n",
              "    0.1534322757422924,\n",
              "    0.2409205736458301,\n",
              "    0.17087193770408632,\n",
              "    0.14590021581500767,\n",
              "    0.5141435890674592,\n",
              "    0.5663732240557671,\n",
              "    0.18385015691816806,\n",
              "    0.15637283806800842,\n",
              "    0.1094642370738089,\n",
              "    0.18540424896180627,\n",
              "    0.418957106551528,\n",
              "    0.4171403959989548,\n",
              "    0.1281459847316146,\n",
              "    0.3039824494361877,\n",
              "    0.2830219611406326,\n",
              "    0.14963167546987535,\n",
              "    0.12761770739555361,\n",
              "    0.1759015595406294,\n",
              "    0.2586835179895163,\n",
              "    0.12982939988672731,\n",
              "    0.39616994819641116,\n",
              "    0.14683299272656442,\n",
              "    0.12042754567861558,\n",
              "    0.12928665847182272,\n",
              "    0.13664138410389423,\n",
              "    0.09824889350384473,\n",
              "    0.09685996589958669,\n",
              "    0.24429201489686964,\n",
              "    0.12601662081778048,\n",
              "    0.08187396727558226,\n",
              "    0.3218119502454996,\n",
              "    0.11790796634554863,\n",
              "    0.05760854898912367,\n",
              "    0.0472221830772236,\n",
              "    0.1066680241405964,\n",
              "    0.0902509739741683,\n",
              "    0.0831292931586504,\n",
              "    0.08683044053763152,\n",
              "    0.28003991592526434,\n",
              "    0.07894315364509821,\n",
              "    0.43467630033493043,\n",
              "    0.08935197503566743,\n",
              "    0.09129211629927159,\n",
              "    0.11064646879732609]]}}"
=======
              "  'test_accuracy': [[20.379746835443036,\n",
              "    17.848101265822784,\n",
              "    20.50632911392405,\n",
              "    20.88607594936709,\n",
              "    20.379746835443036,\n",
              "    18.481012658227847,\n",
              "    20.253164556962027,\n",
              "    20.0,\n",
              "    18.10126582278481,\n",
              "    20.88607594936709,\n",
              "    20.0,\n",
              "    17.088607594936708,\n",
              "    18.354430379746834,\n",
              "    20.632911392405063,\n",
              "    20.88607594936709,\n",
              "    20.379746835443036,\n",
              "    17.72151898734177,\n",
              "    18.227848101265824,\n",
              "    20.379746835443036,\n",
              "    18.354430379746834,\n",
              "    17.974683544303797,\n",
              "    20.379746835443036,\n",
              "    20.759493670886076,\n",
              "    18.481012658227847,\n",
              "    18.481012658227847,\n",
              "    20.88607594936709,\n",
              "    20.126582278481013,\n",
              "    17.974683544303797,\n",
              "    20.759493670886076,\n",
              "    18.10126582278481,\n",
              "    20.632911392405063,\n",
              "    20.253164556962027,\n",
              "    20.632911392405063,\n",
              "    18.60759493670886,\n",
              "    18.354430379746834,\n",
              "    18.227848101265824,\n",
              "    18.227848101265824,\n",
              "    18.354430379746834,\n",
              "    18.227848101265824,\n",
              "    18.354430379746834,\n",
              "    20.632911392405063,\n",
              "    21.645569620253166,\n",
              "    20.759493670886076,\n",
              "    19.49367088607595,\n",
              "    18.60759493670886,\n",
              "    21.0126582278481,\n",
              "    18.481012658227847,\n",
              "    21.89873417721519,\n",
              "    21.0126582278481,\n",
              "    18.354430379746834]],\n",
              "  'test_loss': [[9.93376708984375,\n",
              "    10.320378109741212,\n",
              "    9.394373434448243,\n",
              "    9.670521308898925,\n",
              "    10.411701348876953,\n",
              "    11.14322247467041,\n",
              "    11.089978265380859,\n",
              "    9.936090141296386,\n",
              "    10.610183772277832,\n",
              "    9.207599108886718,\n",
              "    7.348071852111817,\n",
              "    8.951990930175782,\n",
              "    13.60112989501953,\n",
              "    12.005170391845704,\n",
              "    11.46722128753662,\n",
              "    11.337754389953613,\n",
              "    8.505510578918457,\n",
              "    8.267142051696778,\n",
              "    11.224089936828614,\n",
              "    10.257497422790527,\n",
              "    8.186405909729004,\n",
              "    12.943990299987792,\n",
              "    10.376945336914062,\n",
              "    9.635588609313965,\n",
              "    10.691518501281738,\n",
              "    11.623980177307129,\n",
              "    8.600925886535645,\n",
              "    11.102799494934082,\n",
              "    8.79064931564331,\n",
              "    11.294598194885253,\n",
              "    13.934569439697265,\n",
              "    11.62286431274414,\n",
              "    18.12666665344238,\n",
              "    11.535168544006348,\n",
              "    12.724911010742188,\n",
              "    12.717019021606445,\n",
              "    9.827196356201172,\n",
              "    12.99382082672119,\n",
              "    14.519874920654297,\n",
              "    15.002788833618164,\n",
              "    8.615191203308106,\n",
              "    15.08747917175293,\n",
              "    10.89198016281128,\n",
              "    12.499895236206054,\n",
              "    12.195462518310547,\n",
              "    10.888250959014892,\n",
              "    8.464678570556641,\n",
              "    8.16167242126465,\n",
              "    11.51330281677246,\n",
              "    17.008075245666504]],\n",
              "  'train_loss': [[0.3313603613957763,\n",
              "    0.33615912069082265,\n",
              "    0.23072646982669828,\n",
              "    0.14206085236780347,\n",
              "    0.2180412290543318,\n",
              "    0.20112453186959028,\n",
              "    0.15382441933751106,\n",
              "    0.22100165908932684,\n",
              "    0.16424306159913543,\n",
              "    0.15544382931590078,\n",
              "    0.5172897757440805,\n",
              "    0.5666911786913872,\n",
              "    0.19089095588624477,\n",
              "    0.1639588444292545,\n",
              "    0.11347381791174412,\n",
              "    0.19531031594276427,\n",
              "    0.410807810536027,\n",
              "    0.42197431015670306,\n",
              "    0.13066005276590584,\n",
              "    0.30638239980190995,\n",
              "    0.3043750191807747,\n",
              "    0.1437291145056486,\n",
              "    0.11612252696156503,\n",
              "    0.16240529088675976,\n",
              "    0.24927294473946096,\n",
              "    0.14159825840890408,\n",
              "    0.39540353342592716,\n",
              "    0.14864832996428012,\n",
              "    0.10896280331909658,\n",
              "    0.10960541424751283,\n",
              "    0.12117203524410725,\n",
              "    0.09581844885647298,\n",
              "    0.09781806571632623,\n",
              "    0.24342798852324488,\n",
              "    0.13862242527604102,\n",
              "    0.08432316234633326,\n",
              "    0.32238219695091247,\n",
              "    0.12432138768732548,\n",
              "    0.06292332426682115,\n",
              "    0.04895601128535345,\n",
              "    0.10688062996417284,\n",
              "    0.09689674506932497,\n",
              "    0.07723842260539532,\n",
              "    0.09203189134299754,\n",
              "    0.2879110523492098,\n",
              "    0.08411356033533811,\n",
              "    0.4220945946633816,\n",
              "    0.09064794788509609,\n",
              "    0.08791053024530411,\n",
              "    0.12201698446273804]]}}"
>>>>>>> 3e40152c547c99995bfcbe0d16b86f0869affe1f
            ]
          },
          "metadata": {
            "tags": []
          },
<<<<<<< HEAD
          "execution_count": 34
=======
          "execution_count": 75
>>>>>>> 3e40152c547c99995bfcbe0d16b86f0869affe1f
        }
      ]
    },
    {
      "cell_type": "code",
      "metadata": {
        "id": "x1r1hcqMUCeZ"
      },
      "source": [
        "import pickle\n",
        "\n",
<<<<<<< HEAD
        "with open(path + 'Local_Round_FedProx_5.pkl', 'rb') as file:\n",
        "  log_dict = pickle.load(file)"
      ],
      "execution_count": 35,
=======
        "with open(path + 'FedProx0.5.pkl', 'rb') as file:\n",
        "  log_dict = pickle.load(file)"
      ],
      "execution_count": 76,
>>>>>>> 3e40152c547c99995bfcbe0d16b86f0869affe1f
      "outputs": []
    },
    {
      "cell_type": "code",
      "metadata": {
        "id": "se_04JMaVJPg",
        "colab": {
          "base_uri": "https://localhost:8080/"
        },
<<<<<<< HEAD
        "outputId": "9010c614-77bb-445d-c235-3d03062296ae"
=======
        "outputId": "7fbf4135-bde6-4c24-bd5b-aa0e560a3ed9"
>>>>>>> 3e40152c547c99995bfcbe0d16b86f0869affe1f
      },
      "source": [
        "print([test_acc[-1] for test_acc in log_dict['CIFAR CNN on IID']['test_accuracy']])"
      ],
<<<<<<< HEAD
      "execution_count": 36,
=======
      "execution_count": 77,
>>>>>>> 3e40152c547c99995bfcbe0d16b86f0869affe1f
      "outputs": [
        {
          "output_type": "stream",
          "text": [
<<<<<<< HEAD
            "[82.40506329113924]\n"
=======
            "[84.55696202531645]\n"
>>>>>>> 3e40152c547c99995bfcbe0d16b86f0869affe1f
          ],
          "name": "stdout"
        }
      ]
    },
    {
      "cell_type": "code",
      "metadata": {
        "id": "5sv0rv-G4Sqa",
        "colab": {
          "base_uri": "https://localhost:8080/"
        },
<<<<<<< HEAD
        "outputId": "22e11868-fbf6-4e23-be9e-753a19fb2f70"
=======
        "outputId": "05858ae0-7cb3-4676-ad24-5e0332eb3912"
>>>>>>> 3e40152c547c99995bfcbe0d16b86f0869affe1f
      },
      "source": [
        "print([test_acc[-1] for test_acc in log_dict['CIFAR CNN on Non IID']['test_accuracy']])"
      ],
<<<<<<< HEAD
      "execution_count": 37,
=======
      "execution_count": 78,
>>>>>>> 3e40152c547c99995bfcbe0d16b86f0869affe1f
      "outputs": [
        {
          "output_type": "stream",
          "text": [
<<<<<<< HEAD
            "[18.60759493670886]\n"
=======
            "[18.354430379746834]\n"
>>>>>>> 3e40152c547c99995bfcbe0d16b86f0869affe1f
          ],
          "name": "stdout"
        }
      ]
    },
    {
      "cell_type": "code",
      "metadata": {
        "id": "b2a2_Az-4nal"
      },
      "source": [
        "# print([test_acc[-1] for test_acc in log_dict['CIFAR MLP on IID']['test_accuracy']])"
      ],
<<<<<<< HEAD
      "execution_count": 38,
=======
      "execution_count": 79,
>>>>>>> 3e40152c547c99995bfcbe0d16b86f0869affe1f
      "outputs": []
    },
    {
      "cell_type": "code",
      "metadata": {
        "id": "YoRqZyvD4p2K"
      },
      "source": [
        "# print([test_acc[-1] for test_acc in log_dict['CIFAR MLP on Non IID']['test_accuracy']])"
      ],
<<<<<<< HEAD
      "execution_count": 39,
=======
      "execution_count": 80,
>>>>>>> 3e40152c547c99995bfcbe0d16b86f0869affe1f
      "outputs": []
    },
    {
      "cell_type": "code",
      "metadata": {
<<<<<<< HEAD
        "id": "mkG1kQdmVzbJ"
=======
        "id": "mkG1kQdmVzbJ",
        "colab": {
          "base_uri": "https://localhost:8080/",
          "height": 165
        },
        "outputId": "6932cc7f-8137-4f07-83f0-0093182eb306"
>>>>>>> 3e40152c547c99995bfcbe0d16b86f0869affe1f
      },
      "source": [
        "while True:pass"
      ],
<<<<<<< HEAD
      "execution_count": 39,
      "outputs": []
=======
      "execution_count": 81,
      "outputs": [
        {
          "output_type": "error",
          "ename": "KeyboardInterrupt",
          "evalue": "ignored",
          "traceback": [
            "\u001b[0;31m---------------------------------------------------------------------------\u001b[0m",
            "\u001b[0;31mKeyboardInterrupt\u001b[0m                         Traceback (most recent call last)",
            "\u001b[0;32m<ipython-input-81-534b7a74019f>\u001b[0m in \u001b[0;36m<module>\u001b[0;34m()\u001b[0m\n\u001b[0;32m----> 1\u001b[0;31m \u001b[0;32mwhile\u001b[0m \u001b[0;32mTrue\u001b[0m\u001b[0;34m:\u001b[0m\u001b[0;32mpass\u001b[0m\u001b[0;34m\u001b[0m\u001b[0;34m\u001b[0m\u001b[0m\n\u001b[0m",
            "\u001b[0;31mKeyboardInterrupt\u001b[0m: "
          ]
        }
      ]
>>>>>>> 3e40152c547c99995bfcbe0d16b86f0869affe1f
    }
  ]
}