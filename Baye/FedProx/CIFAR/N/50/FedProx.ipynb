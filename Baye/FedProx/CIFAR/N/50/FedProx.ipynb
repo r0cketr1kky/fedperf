{
  "nbformat": 4,
  "nbformat_minor": 0,
  "metadata": {
    "accelerator": "GPU",
    "colab": {
      "name": "FedProx.ipynb",
      "provenance": [],
      "collapsed_sections": [],
      "machine_shape": "hm"
    },
    "kernelspec": {
      "name": "python3",
      "display_name": "Python 3"
    },
    "language_info": {
      "name": "python"
    }
  },
  "cells": [
    {
      "cell_type": "markdown",
      "metadata": {
        "id": "view-in-github"
      },
      "source": [
        "<a href=\"https://colab.research.google.com/github/tushar-semwal/fedperf/blob/main/Vineeth/FedAvg_CIFAR.ipynb\" target=\"_parent\"><img src=\"https://colab.research.google.com/assets/colab-badge.svg\" alt=\"Open In Colab\"/></a>"
      ]
    },
    {
      "cell_type": "code",
      "metadata": {
        "id": "yKcpjZLrQQJV"
      },
      "source": [
        "%%capture output\n",
        "try:\n",
        "    from google.colab import drive\n",
        "    drive.mount('/content/drive')\n",
        "\n",
        "    import os\n",
        "    path = '/content/drive/MyDrive/Colab Notebooks/OpenMined/'\n",
        "    os.makedirs(path, exist_ok=True)\n",
        "except:\n",
        "    path = './'"
      ],
      "execution_count": 67,
      "outputs": []
    },
    {
      "cell_type": "markdown",
      "metadata": {
        "id": "-0_nKpfq2h1R"
      },
      "source": [
        "## Imports"
      ]
    },
    {
      "cell_type": "code",
      "metadata": {
        "id": "DLLNM9X2JbQ8",
        "colab": {
          "base_uri": "https://localhost:8080/"
        },
        "outputId": "9b7c589b-4156-444a-b6b8-149b2f222a2f"
      },
      "source": [
        "%load_ext tensorboard\n",
        "import os\n",
        "import numpy as np\n",
        "import matplotlib\n",
        "import matplotlib.pyplot as plt\n",
        "import copy\n",
        "import random\n",
        "import time\n",
        "\n",
        "import torch\n",
        "import torch.nn as nn\n",
        "import torch.nn.functional as F\n",
        "\n",
        "from torch.utils.data import Dataset, DataLoader\n",
        "from torch.utils.tensorboard import SummaryWriter\n",
        "from torchvision import transforms, utils, datasets\n",
        "from torchsummary import summary\n",
        "\n",
        "\n",
        "# Check assigned GPU\n",
        "gpu_info = !nvidia-smi\n",
        "gpu_info = '\\n'.join(gpu_info)\n",
        "if gpu_info.find('failed') >= 0:\n",
        "  print('Select the Runtime > \"Change runtime type\" menu to enable a GPU accelerator, ')\n",
        "  print('and then re-execute this cell.')\n",
        "else:\n",
        "  print(gpu_info)\n",
        "\n",
        "# set manual seed for reproducibility\n",
        "seed = 42\n",
        "\n",
        "# general reproducibility\n",
        "random.seed(seed)\n",
        "np.random.seed(seed)\n",
        "torch.manual_seed(seed)\n",
        "\n",
        "# gpu training specific\n",
        "torch.backends.cudnn.deterministic = True\n",
        "torch.backends.cudnn.benchmark = False"
      ],
      "execution_count": 68,
      "outputs": [
        {
          "output_type": "stream",
          "text": [
            "The tensorboard extension is already loaded. To reload it, use:\n",
            "  %reload_ext tensorboard\n",
            "Tue Apr 27 16:17:19 2021       \n",
            "+-----------------------------------------------------------------------------+\n",
            "| NVIDIA-SMI 465.19.01    Driver Version: 460.32.03    CUDA Version: 11.2     |\n",
            "|-------------------------------+----------------------+----------------------+\n",
            "| GPU  Name        Persistence-M| Bus-Id        Disp.A | Volatile Uncorr. ECC |\n",
            "| Fan  Temp  Perf  Pwr:Usage/Cap|         Memory-Usage | GPU-Util  Compute M. |\n",
            "|                               |                      |               MIG M. |\n",
            "|===============================+======================+======================|\n",
            "|   0  Tesla K80           Off  | 00000000:00:04.0 Off |                    0 |\n",
            "| N/A   55C    P0    60W / 149W |   1252MiB / 11441MiB |      0%      Default |\n",
            "|                               |                      |                  N/A |\n",
            "+-------------------------------+----------------------+----------------------+\n",
            "                                                                               \n",
            "+-----------------------------------------------------------------------------+\n",
            "| Processes:                                                                  |\n",
            "|  GPU   GI   CI        PID   Type   Process name                  GPU Memory |\n",
            "|        ID   ID                                                   Usage      |\n",
            "|=============================================================================|\n",
            "+-----------------------------------------------------------------------------+\n"
          ],
          "name": "stdout"
        }
      ]
    },
    {
      "cell_type": "markdown",
      "metadata": {
        "id": "NY4eWzGiL6Mj"
      },
      "source": [
        "## Load the CIFAR Dataset"
      ]
    },
    {
      "cell_type": "code",
      "metadata": {
        "id": "Nc-HQXANvV_u"
      },
      "source": [
        "# torch.cuda.set_device('cuda:1')"
      ],
      "execution_count": 69,
      "outputs": []
    },
    {
      "cell_type": "code",
      "metadata": {
        "id": "G649tjTXLL8F",
        "colab": {
          "base_uri": "https://localhost:8080/"
        },
        "outputId": "ca5ae23b-0884-43a7-ddd3-84dc5a00669c"
      },
      "source": [
        "# create transforms\n",
        "# We will just convert to tensor and normalize since no special transforms are mentioned in the paper\n",
        "transform_train = transforms.Compose([\n",
        "    transforms.RandomCrop(32, padding=4),\n",
        "    transforms.RandomHorizontalFlip(),\n",
        "    transforms.ToTensor(),\n",
        "    transforms.Normalize((0.4914, 0.4822, 0.4465), (0.2023, 0.1994, 0.2010)),\n",
        "])\n",
        "\n",
        "# Normalize the test set same as training set without augmentation\n",
        "transform_test = transforms.Compose([\n",
        "    transforms.ToTensor(),\n",
        "    transforms.Normalize((0.4914, 0.4822, 0.4465), (0.2023, 0.1994, 0.2010)),\n",
        "])\n",
        "\n",
        "cifar_data_train = datasets.CIFAR10('../data/cifar10/', train=True, download=True, transform=transform_train)\n",
        "cifar_data_test = datasets.CIFAR10('../data/cifar10/', train=False, download=True, transform=transform_test)"
      ],
      "execution_count": 70,
      "outputs": [
        {
          "output_type": "stream",
          "text": [
            "Files already downloaded and verified\n",
            "Files already downloaded and verified\n"
          ],
          "name": "stdout"
        }
      ]
    },
    {
      "cell_type": "code",
      "metadata": {
        "id": "pOtLLX66b1Ad",
        "colab": {
          "base_uri": "https://localhost:8080/"
        },
        "outputId": "1b98b63f-7769-4195-8df8-856e84f8bcce"
      },
      "source": [
        "classes = np.array(list(cifar_data_train.class_to_idx.values()))\n",
        "classes_test = np.array(list(cifar_data_test.class_to_idx.values()))\n",
        "num_classes = len(classes_test)\n",
        "print(\"Classes: {} \\tType: {}\".format(classes, type(classes)))\n",
        "print(\"Classes Test: {} \\tType: {}\".format(classes_test, type(classes)))\n"
      ],
      "execution_count": 71,
      "outputs": [
        {
          "output_type": "stream",
          "text": [
            "Classes: [0 1 2 3 4 5 6 7 8 9] \tType: <class 'numpy.ndarray'>\n",
            "Classes Test: [0 1 2 3 4 5 6 7 8 9] \tType: <class 'numpy.ndarray'>\n"
          ],
          "name": "stdout"
        }
      ]
    },
    {
      "cell_type": "code",
      "metadata": {
        "id": "wa4TJs-AVJ2O",
        "colab": {
          "base_uri": "https://localhost:8080/"
        },
        "outputId": "caabaad2-ec32-450c-cd7a-0da105354a7b"
      },
      "source": [
        "print(\"Image Shape: {}\".format(cifar_data_train.data[0].shape))"
      ],
      "execution_count": 72,
      "outputs": [
        {
          "output_type": "stream",
          "text": [
            "Image Shape: (32, 32, 3)\n"
          ],
          "name": "stdout"
        }
      ]
    },
    {
      "cell_type": "markdown",
      "metadata": {
        "id": "jCOONkg-zV7Y"
      },
      "source": [
        "## Visualize Data"
      ]
    },
    {
      "cell_type": "code",
      "metadata": {
        "id": "R9MK03TZw6Qs"
      },
      "source": [
        "def imshow(img):\n",
        "\t#img = img/2 + 0.5 #unnormalize the image\n",
        "\tplt.imshow(img, cmap='hsv') # convert from tensor to image"
      ],
      "execution_count": 73,
      "outputs": []
    },
    {
      "cell_type": "code",
      "metadata": {
        "id": "gMJ0Kx4Kw-_H"
      },
      "source": [
        "def visualize(dataset):\n",
        "  figure = plt.figure(figsize=(25,4))\n",
        "  for i in range(20):\n",
        "    axis = figure.add_subplot(2, 20/2, i+1, xticks=[], yticks=[])\n",
        "    data = dataset.data[i]\n",
        "    #data = data.numpy()\n",
        "\n",
        "    target = dataset.targets[i]\n",
        "    #target = target.numpy()\n",
        "    imshow(data)\n",
        "    axis.set_title(target)\n"
      ],
      "execution_count": 74,
      "outputs": []
    },
    {
      "cell_type": "code",
      "metadata": {
        "id": "8bPOwKg10Ro7",
        "colab": {
          "base_uri": "https://localhost:8080/",
          "height": 268
        },
        "outputId": "a40d3d00-fe2a-41fc-cd76-c71caf7abee6"
      },
      "source": [
        "visualize(cifar_data_train)"
      ],
      "execution_count": 75,
      "outputs": [
        {
          "output_type": "display_data",
          "data": {
            "image/png": "[encoded data removed]",
            "text/plain": [
              "<Figure size 1800x288 with 20 Axes>"
            ]
          },
          "metadata": {
            "tags": []
          }
        }
      ]
    },
    {
      "cell_type": "code",
      "metadata": {
        "id": "RKoh5Cf70UYu",
        "colab": {
          "base_uri": "https://localhost:8080/",
          "height": 268
        },
        "outputId": "dfb2b4e6-1308-4e42-d117-8dbad4ddb79c"
      },
      "source": [
        "visualize(cifar_data_test)"
      ],
      "execution_count": 76,
      "outputs": [
        {
          "output_type": "display_data",
          "data": {
            "image/png": "[encoded data removed]",
            "text/plain": [
              "<Figure size 1800x288 with 20 Axes>"
            ]
          },
          "metadata": {
            "tags": []
          }
        }
      ]
    },
    {
      "cell_type": "markdown",
      "metadata": {
        "id": "ctjRsETiO1qO"
      },
      "source": [
        "## Partitioning the Data (IID and non-IID)"
      ]
    },
    {
      "cell_type": "code",
      "metadata": {
        "id": "3_v8lyrgO5dD"
      },
      "source": [
        "def iid_partition(dataset, clients):\n",
        "  \"\"\"\n",
        "  I.I.D paritioning of data over clients\n",
        "  Shuffle the data\n",
        "  Split it between clients\n",
        "  \n",
        "  params:\n",
        "    - dataset (torch.utils.Dataset): Dataset containing the CIFAR Images\n",
        "    - clients (int): Number of Clients to split the data between\n",
        "\n",
        "  returns:\n",
        "    - Dictionary of image indexes for each client\n",
        "  \"\"\"\n",
        "\n",
        "  num_items_per_client = int(len(dataset)/clients)\n",
        "  client_dict = {}\n",
        "  image_idxs = [i for i in range(len(dataset))]\n",
        "\n",
        "  for i in range(clients):\n",
        "    client_dict[i] = set(np.random.choice(image_idxs, num_items_per_client, replace=False))\n",
        "    image_idxs = list(set(image_idxs) - client_dict[i])\n",
        "\n",
        "  return client_dict"
      ],
      "execution_count": 77,
      "outputs": []
    },
    {
      "cell_type": "code",
      "metadata": {
        "id": "4zMdliGMQoSl"
      },
      "source": [
        "def non_iid_partition(dataset, clients, total_shards, shards_size, num_shards_per_client):\n",
        "  \"\"\"\n",
        "  non I.I.D parititioning of data over clients\n",
        "  Sort the data by the digit label\n",
        "  Divide the data into N shards of size S\n",
        "  Each of the clients will get X shards\n",
        "\n",
        "  params:\n",
        "    - dataset (torch.utils.Dataset): Dataset containing the CIFAR Images\n",
        "    - clients (int): Number of Clients to split the data between\n",
        "    - total_shards (int): Number of shards to partition the data in\n",
        "    - shards_size (int): Size of each shard \n",
        "    - num_shards_per_client (int): Number of shards of size shards_size that each client receives\n",
        "\n",
        "  returns:\n",
        "    - Dictionary of image indexes for each client\n",
        "  \"\"\"\n",
        "  \n",
        "  shard_idxs = [i for i in range(total_shards)]\n",
        "  client_dict = {i: np.array([], dtype='int64') for i in range(clients)}\n",
        "  idxs = np.arange(len(dataset))\n",
        "  data_labels = np.array(dataset.targets)\n",
        "\n",
        "  # sort the labels\n",
        "  label_idxs = np.vstack((idxs, data_labels))\n",
        "  label_idxs = label_idxs[:, label_idxs[1,:].argsort()]\n",
        "  idxs = label_idxs[0,:]\n",
        "\n",
        "  # divide the data into total_shards of size shards_size\n",
        "  # assign num_shards_per_client to each client\n",
        "  for i in range(clients):\n",
        "    rand_set = set(np.random.choice(shard_idxs, num_shards_per_client, replace=False))\n",
        "    shard_idxs = list(set(shard_idxs) - rand_set)\n",
        "\n",
        "    for rand in rand_set:\n",
        "      client_dict[i] = np.concatenate((client_dict[i], idxs[rand*shards_size:(rand+1)*shards_size]), axis=0)\n",
        "  \n",
        "  return client_dict\n",
        "\n",
        "\n",
        "\n"
      ],
      "execution_count": 78,
      "outputs": []
    },
    {
      "cell_type": "markdown",
      "metadata": {
        "id": "EUP_bcedcLwB"
      },
      "source": [
        "## Models"
      ]
    },
    {
      "cell_type": "code",
      "metadata": {
        "id": "CvoDNFKbZST5"
      },
      "source": [
        "class CIFAR_MLP(nn.Module):\n",
        "  def __init__(self):\n",
        "    super(CIFAR_MLP, self).__init__()\n",
        "    self.fc1 = nn.Linear(3 * 32 * 32, 2634)\n",
        "    self.fc2 = nn.Linear(2634, 2196) \n",
        "    self.fc3 = nn.Linear(2196, 1758)\n",
        "    self.fc4 = nn.Linear(1758, 1320)\n",
        "    self.fc5 = nn.Linear(1320, 882)\n",
        "    self.fc6 = nn.Linear(882, 444) \n",
        "    self.fc7 = nn.Linear(444, 10) \n",
        "\n",
        "  def forward(self, x):\n",
        "    x = x.view(-1, 3 * 32 * 32)\n",
        "    x = F.relu(self.fc1(x))\n",
        "    x = F.relu(self.fc2(x))\n",
        "    x = F.relu(self.fc3(x))\n",
        "    x = F.relu(self.fc4(x))\n",
        "    x = F.relu(self.fc5(x))\n",
        "    x = F.relu(self.fc6(x))\n",
        "\n",
        "    x = self.fc7(x)\n",
        "    return x"
      ],
      "execution_count": 79,
      "outputs": []
    },
    {
      "cell_type": "code",
      "metadata": {
        "id": "ut1hZ8x3qYPZ"
      },
      "source": [
        "class CIFAR_CNN(nn.Module):\n",
        "  def __init__(self):\n",
        "    super(CIFAR_CNN, self).__init__()\n",
        "\n",
        "    self.conv_layer = nn.Sequential(\n",
        "      nn.Conv2d(in_channels=3, out_channels=32, kernel_size=3, padding=1),\n",
        "      nn.BatchNorm2d(32),\n",
        "      nn.ReLU(inplace=True),\n",
        "      nn.Conv2d(in_channels=32, out_channels=64, kernel_size=3, padding=1),\n",
        "      nn.ReLU(inplace=True),\n",
        "      nn.MaxPool2d(kernel_size=2, stride=2),\n",
        "\n",
        "      nn.Conv2d(in_channels=64, out_channels=128, kernel_size=3, padding=1),\n",
        "      nn.BatchNorm2d(128),\n",
        "      nn.ReLU(inplace=True),\n",
        "      nn.Conv2d(in_channels=128, out_channels=128, kernel_size=3, padding=1),\n",
        "      nn.ReLU(inplace=True),\n",
        "      nn.MaxPool2d(kernel_size=2, stride=2),\n",
        "      nn.Dropout2d(p=0.05),\n",
        "\n",
        "      nn.Conv2d(in_channels=128, out_channels=256, kernel_size=3, padding=1),\n",
        "      nn.BatchNorm2d(256),\n",
        "      nn.ReLU(inplace=True),\n",
        "      nn.Conv2d(in_channels=256, out_channels=256, kernel_size=3, padding=1),\n",
        "      nn.ReLU(inplace=True),\n",
        "      nn.MaxPool2d(kernel_size=2, stride=2),\n",
        "    )\n",
        "\n",
        "    self.fc_layer = nn.Sequential(\n",
        "      nn.Dropout(p=0.1),\n",
        "      nn.Linear(4096, 1024),\n",
        "      nn.ReLU(inplace=True),\n",
        "      nn.Linear(1024, 512),\n",
        "      nn.ReLU(inplace=True),\n",
        "      nn.Dropout(p=0.1),\n",
        "      nn.Linear(512, 10)\n",
        "    )\n",
        "\n",
        "\n",
        "  def forward(self, x):      \n",
        "    # conv layers\n",
        "    x = self.conv_layer(x)\n",
        "    \n",
        "    # flatten\n",
        "    x = x.view(x.size(0), -1)\n",
        "    \n",
        "    # fc layer\n",
        "    x = self.fc_layer(x)\n",
        "\n",
        "    return x"
      ],
      "execution_count": 80,
      "outputs": []
    },
    {
      "cell_type": "markdown",
      "metadata": {
        "id": "uVv4HA9HuLtr"
      },
      "source": [
        "### Print Model Summaries"
      ]
    },
    {
      "cell_type": "code",
      "metadata": {
        "id": "-H2jR2-Id4AA",
        "colab": {
          "base_uri": "https://localhost:8080/"
        },
        "outputId": "fc051e6f-0d09-4062-84c8-c254ea6436f6"
      },
      "source": [
        "cifar_mlp = CIFAR_MLP()\n",
        "cifar_cnn = CIFAR_CNN()\n",
        "\n",
        "if torch.cuda.is_available():\n",
        "  cifar_mlp.cuda()\n",
        "  cifar_cnn.cuda()\n",
        "\n",
        "print(\"CIFAR MLP SUMMARY\")\n",
        "print(summary(cifar_mlp, (32,32,3)))\n",
        "\n",
        "print(\"\\nCIFAR CNN SUMMARY\")\n",
        "print(summary(cifar_cnn, (3, 32,32)))"
      ],
      "execution_count": 81,
      "outputs": [
        {
          "output_type": "stream",
          "text": [
            "CIFAR MLP SUMMARY\n",
            "----------------------------------------------------------------\n",
            "        Layer (type)               Output Shape         Param #\n",
            "================================================================\n",
            "            Linear-1                 [-1, 2634]       8,094,282\n",
            "            Linear-2                 [-1, 2196]       5,786,460\n",
            "            Linear-3                 [-1, 1758]       3,862,326\n",
            "            Linear-4                 [-1, 1320]       2,321,880\n",
            "            Linear-5                  [-1, 882]       1,165,122\n",
            "            Linear-6                  [-1, 444]         392,052\n",
            "            Linear-7                   [-1, 10]           4,450\n",
            "================================================================\n",
            "Total params: 21,626,572\n",
            "Trainable params: 21,626,572\n",
            "Non-trainable params: 0\n",
            "----------------------------------------------------------------\n",
            "Input size (MB): 0.01\n",
            "Forward/backward pass size (MB): 0.07\n",
            "Params size (MB): 82.50\n",
            "Estimated Total Size (MB): 82.58\n",
            "----------------------------------------------------------------\n",
            "None\n",
            "\n",
            "CIFAR CNN SUMMARY\n",
            "----------------------------------------------------------------\n",
            "        Layer (type)               Output Shape         Param #\n",
            "================================================================\n",
            "            Conv2d-1           [-1, 32, 32, 32]             896\n",
            "       BatchNorm2d-2           [-1, 32, 32, 32]              64\n",
            "              ReLU-3           [-1, 32, 32, 32]               0\n",
            "            Conv2d-4           [-1, 64, 32, 32]          18,496\n",
            "              ReLU-5           [-1, 64, 32, 32]               0\n",
            "         MaxPool2d-6           [-1, 64, 16, 16]               0\n",
            "            Conv2d-7          [-1, 128, 16, 16]          73,856\n",
            "       BatchNorm2d-8          [-1, 128, 16, 16]             256\n",
            "              ReLU-9          [-1, 128, 16, 16]               0\n",
            "           Conv2d-10          [-1, 128, 16, 16]         147,584\n",
            "             ReLU-11          [-1, 128, 16, 16]               0\n",
            "        MaxPool2d-12            [-1, 128, 8, 8]               0\n",
            "        Dropout2d-13            [-1, 128, 8, 8]               0\n",
            "           Conv2d-14            [-1, 256, 8, 8]         295,168\n",
            "      BatchNorm2d-15            [-1, 256, 8, 8]             512\n",
            "             ReLU-16            [-1, 256, 8, 8]               0\n",
            "           Conv2d-17            [-1, 256, 8, 8]         590,080\n",
            "             ReLU-18            [-1, 256, 8, 8]               0\n",
            "        MaxPool2d-19            [-1, 256, 4, 4]               0\n",
            "          Dropout-20                 [-1, 4096]               0\n",
            "           Linear-21                 [-1, 1024]       4,195,328\n",
            "             ReLU-22                 [-1, 1024]               0\n",
            "           Linear-23                  [-1, 512]         524,800\n",
            "             ReLU-24                  [-1, 512]               0\n",
            "          Dropout-25                  [-1, 512]               0\n",
            "           Linear-26                   [-1, 10]           5,130\n",
            "================================================================\n",
            "Total params: 5,852,170\n",
            "Trainable params: 5,852,170\n",
            "Non-trainable params: 0\n",
            "----------------------------------------------------------------\n",
            "Input size (MB): 0.01\n",
            "Forward/backward pass size (MB): 3.96\n",
            "Params size (MB): 22.32\n",
            "Estimated Total Size (MB): 26.30\n",
            "----------------------------------------------------------------\n",
            "None\n"
          ],
          "name": "stdout"
        }
      ]
    },
    {
      "cell_type": "markdown",
      "metadata": {
        "id": "gf_8XEXa-gZ7"
      },
      "source": [
        "## FedProx"
      ]
    },
    {
      "cell_type": "markdown",
      "metadata": {
        "id": "XOchMapqvV_7"
      },
      "source": [
        "### Systems Heterogeneity Simulations\n",
        "\n",
        "Generate epochs for selected clients based on percentage of devices that corresponds to heterogeneity. \n",
        "\n",
        "Assign x number of epochs (chosen unifirmly at random between [1, E]) to 0%, 50% or 90% of the selected devices, respectively. Settings where 0% devices perform fewer than E epochs of work correspond to the environments without system heterogeneity, while 90% of the devices sending their partial solutions corresponds to highly heterogenous system."
      ]
    },
    {
      "cell_type": "code",
      "metadata": {
        "id": "qRQZRPaZvV_7"
      },
      "source": [
        "def GenerateLocalEpochs(percentage, size, max_epochs):\n",
        "  ''' Method generates list of epochs for selected clients\n",
        "  to replicate system heteroggeneity\n",
        "\n",
        "  Params:\n",
        "    percentage: percentage of clients to have fewer than E epochs\n",
        "    size:       total size of the list\n",
        "    max_epochs: maximum value for local epochs\n",
        "  \n",
        "  Returns:\n",
        "    List of size epochs for each Client Update\n",
        "\n",
        "  '''\n",
        "\n",
        "  # if percentage is 0 then each client runs for E epochs\n",
        "  if percentage == 0:\n",
        "      return np.array([max_epochs]*size)\n",
        "  else:\n",
        "    # get the number of clients to have fewer than E epochs\n",
        "    heterogenous_size = int((percentage/100) * size)\n",
        "\n",
        "    # generate random uniform epochs of heterogenous size between 1 and E\n",
        "    epoch_list = np.random.randint(1, max_epochs, heterogenous_size)\n",
        "\n",
        "    # the rest of the clients will have E epochs\n",
        "    remaining_size = size - heterogenous_size\n",
        "    rem_list = [max_epochs]*remaining_size\n",
        "\n",
        "    epoch_list = np.append(epoch_list, rem_list, axis=0)\n",
        "    \n",
        "    # shuffle the list and return\n",
        "    np.random.shuffle(epoch_list)\n",
        "\n",
        "    return epoch_list"
      ],
      "execution_count": 82,
      "outputs": []
    },
    {
      "cell_type": "markdown",
      "metadata": {
        "id": "hGqruzfzvV_8"
      },
      "source": [
        "## Federated Averaging"
      ]
    },
    {
      "cell_type": "markdown",
      "metadata": {
        "id": "L-aNdQsQ-Kvp"
      },
      "source": [
        "### Local Training (Client Update)\n",
        "\n",
        "Local training for the model on client side"
      ]
    },
    {
      "cell_type": "code",
      "metadata": {
        "id": "oX6OsQyO-Gz7"
      },
      "source": [
        "class CustomDataset(Dataset):\n",
        "  def __init__(self, dataset, idxs):\n",
        "      self.dataset = dataset\n",
        "      self.idxs = list(idxs)\n",
        "\n",
        "  def __len__(self):\n",
        "      return len(self.idxs)\n",
        "\n",
        "  def __getitem__(self, item):\n",
        "      image, label = self.dataset[self.idxs[item]]\n",
        "      return image, label\n",
        "\n",
        "\n",
        "class ClientUpdate(object):\n",
        "  def __init__(self, dataset, batchSize, learning_rate, epochs, idxs, mu, algorithm):\n",
        "    self.train_loader = DataLoader(CustomDataset(dataset, idxs), batch_size=batchSize, shuffle=True)\n",
        "    self.algorithm = algorithm\n",
        "    self.learning_rate = learning_rate\n",
        "    self.epochs = epochs\n",
        "\n",
        "  def train(self, model):\n",
        "    criterion = nn.CrossEntropyLoss()\n",
        "    proximal_criterion = nn.MSELoss(reduction='mean')\n",
        "    optimizer = torch.optim.SGD(model.parameters(), lr=self.learning_rate, momentum=0.5)\n",
        "\n",
        "    # use the weights of global model for proximal term calculation\n",
        "    global_model = copy.deepcopy(model)\n",
        "\n",
        "    # calculate local training time\n",
        "    start_time = time.time()\n",
        "\n",
        "\n",
        "    e_loss = []\n",
        "    for epoch in range(1, self.epochs+1):\n",
        "\n",
        "      train_loss = 0.0\n",
        "\n",
        "      model.train()\n",
        "      for data, labels in self.train_loader:\n",
        "\n",
        "        if torch.cuda.is_available():\n",
        "          data, labels = data.cuda(), labels.cuda()\n",
        "\n",
        "        # clear the gradients\n",
        "        optimizer.zero_grad()\n",
        "        # make a forward pass\n",
        "        output = model(data)\n",
        "\n",
        "        # calculate the loss + the proximal term\n",
        "        _, pred = torch.max(output, 1)\n",
        "\n",
        "        if self.algorithm == 'fedprox':\n",
        "          proximal_term = 0.0\n",
        "\n",
        "          # iterate through the current and global model parameters\n",
        "          for w, w_t in zip(model.parameters(), global_model.parameters()) :\n",
        "            # update the proximal term \n",
        "            #proximal_term += torch.sum(torch.abs((w-w_t)**2))\n",
        "            proximal_term += (w-w_t).norm(2)\n",
        "\n",
        "          loss = criterion(output, labels) + (mu/2)*proximal_term\n",
        "        else:\n",
        "          loss = criterion(output, labels)\n",
        "    \n",
        "        # do a backwards pass\n",
        "        loss.backward()\n",
        "        # perform a single optimization step\n",
        "        optimizer.step()\n",
        "        # update training loss\n",
        "        train_loss += loss.item()*data.size(0)\n",
        "\n",
        "      # average losses\n",
        "      train_loss = train_loss/len(self.train_loader.dataset)\n",
        "      e_loss.append(train_loss)\n",
        "\n",
        "    total_loss = sum(e_loss)/len(e_loss)\n",
        "\n",
        "    return model.state_dict(), total_loss, (time.time() - start_time)"
      ],
      "execution_count": 83,
      "outputs": []
    },
    {
      "cell_type": "markdown",
      "metadata": {
        "id": "Ukgh1DVHE2Ds"
      },
      "source": [
        "### Server Side Training\n",
        "\n",
        "Following Algorithm 1 from the paper"
      ]
    },
    {
      "cell_type": "code",
      "metadata": {
        "id": "1NF1e33BgpeL"
      },
      "source": [
        "def training(model, rounds, batch_size, lr, ds, ds_test, data_dict, C, K, E, mu, percentage, plt_title, plt_color, target_test_accuracy, algorithm=\"fedprox\"):\n",
        "  \"\"\"\n",
        "  Function implements the Federated Averaging Algorithm from the FedAvg paper.\n",
        "  Specifically, this function is used for the server side training and weight update\n",
        "\n",
        "  Params:\n",
        "    - model:           PyTorch model to train\n",
        "    - rounds:          Number of communication rounds for the client update\n",
        "    - batch_size:      Batch size for client update training\n",
        "    - lr:              Learning rate used for client update training\n",
        "    - ds:              Dataset used for training\n",
        "    - ds_test:         Dataset used for testing\n",
        "    - data_dict:       Type of data partition used for training (IID or non-IID)\n",
        "    - C:               Fraction of clients randomly chosen to perform computation on each round\n",
        "    - K:               Total number of clients\n",
        "    - E:               Number of training passes each client makes over its local dataset per round\n",
        "    - tb_writer_name:  Directory name to save the tensorboard logs\n",
        "  Returns:\n",
        "    - model:           Trained model on the server\n",
        "  \"\"\"\n",
        "\n",
        "  # global model weights\n",
        "  global_weights = model.state_dict()\n",
        "\n",
        "  # training loss\n",
        "  # train_accuracy = []\n",
        "  train_loss = []\n",
        "  test_accuracy = []\n",
        "  test_loss = []\n",
        "\n",
        "  # store last loss for convergence\n",
        "  last_loss = 0.0\n",
        "\n",
        "  # total time taken \n",
        "  total_time = 0\n",
        "  start = time.time()\n",
        "\n",
        "  print(f\"System heterogeneity set to {percentage}% stragglers.\\n\")\n",
        "  print(f\"Picking {max(int(C*K),1 )} random clients per round.\\n\")\n",
        "\n",
        "  for curr_round in range(1, rounds+1):\n",
        "    w, local_loss, lst_local_train_time = [], [], []\n",
        "\n",
        "    m = max(int(C*K), 1)\n",
        "\n",
        "    heterogenous_epoch_list = GenerateLocalEpochs(percentage, size=m, max_epochs=E)\n",
        "    heterogenous_epoch_list = np.array(heterogenous_epoch_list)\n",
        "\n",
        "    S_t = np.random.choice(range(K), m, replace=False)\n",
        "    S_t = np.array(S_t)\n",
        "    \n",
        "    # For Federated Averaging, drop all the clients that are stragglers\n",
        "    if algorithm == 'fedavg':\n",
        "      stragglers_indices = np.argwhere(heterogenous_epoch_list < E)\n",
        "      heterogenous_epoch_list = np.delete(heterogenous_epoch_list, stragglers_indices)\n",
        "      S_t = np.delete(S_t, stragglers_indices)\n",
        "\n",
        "    for k, epoch in zip(S_t, heterogenous_epoch_list):\n",
        "      local_update = ClientUpdate(dataset=ds, batchSize=batch_size, learning_rate=lr, epochs=epoch, idxs=data_dict[k], mu=mu, algorithm=algorithm)\n",
        "      weights, loss, local_train_time = local_update.train(model=copy.deepcopy(model))\n",
        "\n",
        "      w.append(copy.deepcopy(weights))\n",
        "      local_loss.append(copy.deepcopy(loss))\n",
        "      lst_local_train_time.append(local_train_time)\n",
        "\n",
        "    # calculate time to update the global weights\n",
        "    global_start_time = time.time()\n",
        "\n",
        "    # updating the global weights\n",
        "    weights_avg = copy.deepcopy(w[0])\n",
        "    for k in weights_avg.keys():\n",
        "      for i in range(1, len(w)):\n",
        "        weights_avg[k] += w[i][k]\n",
        "\n",
        "      weights_avg[k] = torch.div(weights_avg[k], len(w))\n",
        "\n",
        "    global_weights = weights_avg\n",
        "    global_end_time = time.time()\n",
        "\n",
        "    # calculate total time \n",
        "    total_time += (global_end_time - global_start_time) + sum(lst_local_train_time)/len(lst_local_train_time)\n",
        "\n",
        "    # move the updated weights to our model state dict\n",
        "    model.load_state_dict(global_weights)\n",
        "\n",
        "    # loss\n",
        "    loss_avg = sum(local_loss) / len(local_loss)\n",
        "\n",
        "    # test accuracy\n",
        "    criterion = nn.CrossEntropyLoss()\n",
        "    test_accuracy_current, test_loss_current = testing(copy.deepcopy(model), ds_test, 128, criterion, num_classes, classes_test)\n",
        "    test_accuracy.append(test_accuracy_current)\n",
        "    test_loss.append(test_loss_current)\n",
        "\n",
        "    print(f\"Round: {curr_round}... \\tAverage Train Loss: {round(loss_avg, 3)}... \\tTest Loss: {test_loss_current}... \\tTest Accuracy: {test_accuracy_current}\")\n",
        "    train_loss.append(loss_avg)\n",
        "\n",
        "    # break if we achieve the target test accuracy\n",
        "#     if test_accuracy_current >= target_test_accuracy:\n",
        "#       rounds = curr_round\n",
        "#       break\n",
        "\n",
        "    # break if we achieve convergence, i.e., loss between two consecutive rounds is <0.0001\n",
        "    if algorithm == 'fedprox' and abs(loss_avg - last_loss) < 0.0001:\n",
        "      rounds = curr_round\n",
        "      break\n",
        "    \n",
        "    # update the last loss\n",
        "    last_loss = loss_avg\n",
        "\n",
        "  end = time.time()\n",
        "  # plot train loss\n",
        "  fig, ax = plt.subplots()\n",
        "  x_axis = np.arange(1, rounds+1)\n",
        "  y_axis = np.array(train_loss)\n",
        "  ax.plot(x_axis, y_axis)\n",
        "\n",
        "  ax.set(xlabel='Number of Rounds', ylabel='Train Loss', title=plt_title)\n",
        "  ax.grid()\n",
        "  fig.savefig(plt_title+'_Train_loss.jpg', format='jpg')\n",
        "  plt.show()\n",
        "\n",
        "  fig, ax = plt.subplots()\n",
        "  x_axis = np.arange(1, rounds+1)\n",
        "  y_axis = np.array(test_loss)\n",
        "  ax.plot(x_axis, y_axis, 'tab:'+plt_color)\n",
        "\n",
        "  ax.set(xlabel='Number of Rounds', ylabel='Test Loss', title=plt_title)\n",
        "  ax.grid()\n",
        "  fig.savefig(plt_title+'_Test_loss.jpg', format='jpg')\n",
        "  plt.show()\n",
        "\n",
        "\n",
        "  fig, ax = plt.subplots()\n",
        "  x_axis = np.arange(1, rounds+1)\n",
        "  y_axis = np.array(test_accuracy)\n",
        "  ax.plot(x_axis, y_axis, 'tab:'+plt_color)\n",
        "\n",
        "  ax.set(xlabel='Number of Rounds', ylabel='Test Accuracy', title=plt_title)\n",
        "  ax.grid()\n",
        "  fig.savefig(plt_title+'_Test_Accuracy.jpg', format='jpg')\n",
        "  plt.show()\n",
        "  \n",
        "  print(\"Training Done!\")\n",
        "  print(\"Total time taken to Train: {}\\n\\n\".format(end-start))\n",
        "  \n",
        "  return model, train_loss, test_accuracy, test_loss"
      ],
      "execution_count": 84,
      "outputs": []
    },
    {
      "cell_type": "markdown",
      "metadata": {
        "id": "tUYyb4T-uXmF"
      },
      "source": [
        "## Testing Loop"
      ]
    },
    {
      "cell_type": "code",
      "metadata": {
        "id": "uCcIZmO5uan9"
      },
      "source": [
        "def testing(model, dataset, bs, criterion, num_classes, classes, print_info=False):\n",
        "  #test loss \n",
        "  test_loss = 0.0\n",
        "  correct_class = list(0. for i in range(num_classes))\n",
        "  total_class = list(0. for i in range(num_classes))\n",
        "\n",
        "  test_loader = DataLoader(dataset, batch_size=bs)\n",
        "  l = len(test_loader)\n",
        "  model.eval()\n",
        "  for data, labels in test_loader:\n",
        "\n",
        "    if torch.cuda.is_available():\n",
        "      data, labels = data.cuda(), labels.cuda()\n",
        "\n",
        "    output = model(data)\n",
        "    loss = criterion(output, labels)\n",
        "    test_loss += loss.item()*data.size(0)\n",
        "\n",
        "    _, pred = torch.max(output, 1)\n",
        "\n",
        "    correct_tensor = pred.eq(labels.data.view_as(pred))\n",
        "    correct = np.squeeze(correct_tensor.numpy()) if not torch.cuda.is_available() else np.squeeze(correct_tensor.cpu().numpy())\n",
        "\n",
        "    #test accuracy for each object class\n",
        "    for i in range(num_classes):\n",
        "      label = labels.data[i]\n",
        "      correct_class[label] += correct[i].item()\n",
        "      total_class[label] += 1\n",
        "    \n",
        "  # avg test loss\n",
        "  test_loss = test_loss/len(test_loader.dataset)\n",
        "  test_accuracy = 100. * np.sum(correct_class) / np.sum(total_class)\n",
        "\n",
        "  if print_info:\n",
        "    print(\"Test Loss: {:.6f}\\n\".format(test_loss))\n",
        "\n",
        "    for i in range(10):\n",
        "      if total_class[i]>0:\n",
        "        print('Test Accuracy of %5s: %2d%% (%2d/%2d)' % \n",
        "              (classes[i], 100 * correct_class[i] / total_class[i],\n",
        "              np.sum(correct_class[i]), np.sum(total_class[i])))\n",
        "      else:\n",
        "        print('Test Accuracy of %5s: N/A (no training examples)' % (classes[i]))\n",
        "\n",
        "    print('\\nFinal Test  Accuracy: {:.3f} ({}/{})'.format(\n",
        "          100. * np.sum(correct_class) / np.sum(total_class),\n",
        "          np.sum(correct_class), np.sum(total_class)))\n",
        "  \n",
        "  return test_accuracy, test_loss"
      ],
      "execution_count": 85,
      "outputs": []
    },
    {
      "cell_type": "markdown",
      "metadata": {
        "id": "Ri0FqXFeHW-V"
      },
      "source": [
        "## Logger"
      ]
    },
    {
      "cell_type": "code",
      "metadata": {
        "id": "cMBtx9P5c1V_"
      },
      "source": [
        "log_dict = {}\n",
        "NUM_REPEAT = 1"
      ],
      "execution_count": 86,
      "outputs": []
    },
    {
      "cell_type": "markdown",
      "metadata": {
        "id": "4hO5oV6aXqeh"
      },
      "source": [
        "## CIFAR CNN on IID"
      ]
    },
    {
      "cell_type": "markdown",
      "metadata": {
        "id": "flSQv_P4zCfx"
      },
      "source": [
        "### Train\n"
      ]
    },
    {
      "cell_type": "code",
      "metadata": {
        "id": "0ZalcKZtEseA",
        "colab": {
          "base_uri": "https://localhost:8080/",
          "height": 1000
        },
        "outputId": "a2d285a2-9d23-46a0-9223-3883d48788b0"
      },
      "source": [
        "train_loss_multiple_runs = [None] * NUM_REPEAT\n",
        "test_accuracy_multiple_runs = [None] * NUM_REPEAT\n",
        "test_loss_multiple_runs = [None] * NUM_REPEAT\n",
        "\n",
        "for exp_num in range(NUM_REPEAT):\n",
        "  print(\"Experiment Run Number: \", exp_num)\n",
        "\n",
        "  # number of training rounds\n",
        "  rounds = 50\n",
        "  # client fraction\n",
        "  C = 0.1\n",
        "  # number of clients\n",
        "  K = 50\n",
        "  # number of training passes on local dataset for each roung\n",
        "  E = 5\n",
        "  # batch size\n",
        "  batch_size = 10\n",
        "  # learning Rate\n",
        "  lr=0.05\n",
        "  # proximal term constant\n",
        "  mu = 0.01\n",
        "  # percentage of clients to have fewer than E epochs\n",
        "  percentage = 50\n",
        "\n",
        "  # target_test_accuracy\n",
        "  target_test_accuracy=80.0\n",
        "  # data partition dictionary\n",
        "  iid_dict = iid_partition(cifar_data_train, 50)\n",
        "  # load model\n",
        "  cifar_cnn = CIFAR_CNN()\n",
        "\n",
        "  if torch.cuda.is_available():\n",
        "    cifar_cnn.cuda()\n",
        "\n",
        "  cifar_cnn_iid_trained, train_loss, test_accuracy, test_loss = training(cifar_cnn, rounds, batch_size, lr, cifar_data_train, cifar_data_test, iid_dict, C, K, E, mu, percentage, \"CIFAR CNN on IID Dataset\", \"orange\", target_test_accuracy)\n",
        "\n",
        "  train_loss_multiple_runs[exp_num] = train_loss\n",
        "  test_accuracy_multiple_runs[exp_num] = test_accuracy\n",
        "  test_loss_multiple_runs[exp_num] = test_loss\n",
        "        \n",
        "  del cifar_cnn_iid_trained\n",
        "  torch.cuda.empty_cache()"
      ],
      "execution_count": 87,
      "outputs": [
        {
          "output_type": "stream",
          "text": [
            "Experiment Run Number:  0\n",
            "System heterogeneity set to 50% stragglers.\n",
            "\n",
            "Picking 5 random clients per round.\n",
            "\n",
            "Round: 1... \tAverage Train Loss: 2.134... \tTest Loss: 2.2290009517669676... \tTest Accuracy: 16.70886075949367\n",
            "Round: 2... \tAverage Train Loss: 2.007... \tTest Loss: 1.8655935356140136... \tTest Accuracy: 37.21518987341772\n",
            "Round: 3... \tAverage Train Loss: 1.882... \tTest Loss: 1.6606504810333251... \tTest Accuracy: 42.40506329113924\n",
            "Round: 4... \tAverage Train Loss: 1.793... \tTest Loss: 1.5622839416503906... \tTest Accuracy: 47.34177215189873\n",
            "Round: 5... \tAverage Train Loss: 1.711... \tTest Loss: 1.4350650018692017... \tTest Accuracy: 48.35443037974684\n",
            "Round: 6... \tAverage Train Loss: 1.636... \tTest Loss: 1.3328593645095825... \tTest Accuracy: 53.54430379746835\n",
            "Round: 7... \tAverage Train Loss: 1.551... \tTest Loss: 1.2610143411636352... \tTest Accuracy: 52.65822784810127\n",
            "Round: 8... \tAverage Train Loss: 1.486... \tTest Loss: 1.2188109298706056... \tTest Accuracy: 54.30379746835443\n",
            "Round: 9... \tAverage Train Loss: 1.424... \tTest Loss: 1.1415535814285278... \tTest Accuracy: 57.9746835443038\n",
            "Round: 10... \tAverage Train Loss: 1.352... \tTest Loss: 1.0945418434143066... \tTest Accuracy: 61.139240506329116\n",
            "Round: 11... \tAverage Train Loss: 1.321... \tTest Loss: 1.0524811866760253... \tTest Accuracy: 63.164556962025316\n",
            "Round: 12... \tAverage Train Loss: 1.248... \tTest Loss: 0.9975681282043457... \tTest Accuracy: 64.17721518987342\n",
            "Round: 13... \tAverage Train Loss: 1.194... \tTest Loss: 0.9339404951095581... \tTest Accuracy: 68.35443037974683\n",
            "Round: 14... \tAverage Train Loss: 1.134... \tTest Loss: 0.9024768878936767... \tTest Accuracy: 68.48101265822785\n",
            "Round: 15... \tAverage Train Loss: 1.11... \tTest Loss: 0.8694025228500366... \tTest Accuracy: 70.63291139240506\n",
            "Round: 16... \tAverage Train Loss: 1.06... \tTest Loss: 0.8632863890647888... \tTest Accuracy: 67.72151898734177\n",
            "Round: 17... \tAverage Train Loss: 1.026... \tTest Loss: 0.8123973484039306... \tTest Accuracy: 71.0126582278481\n",
            "Round: 18... \tAverage Train Loss: 0.997... \tTest Loss: 0.8025784119606018... \tTest Accuracy: 70.75949367088607\n",
            "Round: 19... \tAverage Train Loss: 0.983... \tTest Loss: 0.7553105506896972... \tTest Accuracy: 73.79746835443038\n",
            "Round: 20... \tAverage Train Loss: 0.938... \tTest Loss: 0.742501438331604... \tTest Accuracy: 74.68354430379746\n",
            "Round: 21... \tAverage Train Loss: 0.881... \tTest Loss: 0.7442561724662781... \tTest Accuracy: 74.30379746835443\n",
            "Round: 22... \tAverage Train Loss: 0.888... \tTest Loss: 0.7088951622962951... \tTest Accuracy: 75.0632911392405\n",
            "Round: 23... \tAverage Train Loss: 0.832... \tTest Loss: 0.7091843688964844... \tTest Accuracy: 75.82278481012658\n",
            "Round: 24... \tAverage Train Loss: 0.811... \tTest Loss: 0.689161008644104... \tTest Accuracy: 76.70886075949367\n",
            "Round: 25... \tAverage Train Loss: 0.861... \tTest Loss: 0.6583169907569886... \tTest Accuracy: 77.59493670886076\n",
            "Round: 26... \tAverage Train Loss: 0.815... \tTest Loss: 0.6569621948719024... \tTest Accuracy: 77.46835443037975\n",
            "Round: 27... \tAverage Train Loss: 0.771... \tTest Loss: 0.6586088012218475... \tTest Accuracy: 77.46835443037975\n",
            "Round: 28... \tAverage Train Loss: 0.751... \tTest Loss: 0.6308983984470368... \tTest Accuracy: 78.86075949367088\n",
            "Round: 29... \tAverage Train Loss: 0.747... \tTest Loss: 0.6432007413864136... \tTest Accuracy: 78.22784810126582\n",
            "Round: 30... \tAverage Train Loss: 0.713... \tTest Loss: 0.6128626096725464... \tTest Accuracy: 79.87341772151899\n",
            "Round: 31... \tAverage Train Loss: 0.683... \tTest Loss: 0.6050321502685547... \tTest Accuracy: 81.26582278481013\n",
            "Round: 32... \tAverage Train Loss: 0.703... \tTest Loss: 0.5866484844207763... \tTest Accuracy: 81.51898734177215\n",
            "Round: 33... \tAverage Train Loss: 0.648... \tTest Loss: 0.6092659794807435... \tTest Accuracy: 79.24050632911393\n",
            "Round: 34... \tAverage Train Loss: 0.704... \tTest Loss: 0.5799603420734406... \tTest Accuracy: 80.63291139240506\n",
            "Round: 35... \tAverage Train Loss: 0.666... \tTest Loss: 0.5703193603515625... \tTest Accuracy: 80.50632911392405\n",
            "Round: 36... \tAverage Train Loss: 0.67... \tTest Loss: 0.564678839635849... \tTest Accuracy: 82.53164556962025\n",
            "Round: 37... \tAverage Train Loss: 0.631... \tTest Loss: 0.5444835985183716... \tTest Accuracy: 82.9113924050633\n",
            "Round: 38... \tAverage Train Loss: 0.631... \tTest Loss: 0.5539858916759491... \tTest Accuracy: 83.0379746835443\n",
            "Round: 39... \tAverage Train Loss: 0.59... \tTest Loss: 0.5442650665283203... \tTest Accuracy: 83.92405063291139\n",
            "Round: 40... \tAverage Train Loss: 0.604... \tTest Loss: 0.5439894257068634... \tTest Accuracy: 82.15189873417721\n",
            "Round: 41... \tAverage Train Loss: 0.55... \tTest Loss: 0.5420540923595428... \tTest Accuracy: 83.0379746835443\n",
            "Round: 42... \tAverage Train Loss: 0.604... \tTest Loss: 0.5364448966503144... \tTest Accuracy: 82.9113924050633\n",
            "Round: 43... \tAverage Train Loss: 0.548... \tTest Loss: 0.5425115228176117... \tTest Accuracy: 83.54430379746836\n",
            "Round: 44... \tAverage Train Loss: 0.561... \tTest Loss: 0.5316716400146484... \tTest Accuracy: 82.9113924050633\n",
            "Round: 45... \tAverage Train Loss: 0.53... \tTest Loss: 0.5297232322692871... \tTest Accuracy: 83.41772151898734\n",
            "Round: 46... \tAverage Train Loss: 0.525... \tTest Loss: 0.5243049829006196... \tTest Accuracy: 83.16455696202532\n",
            "Round: 47... \tAverage Train Loss: 0.575... \tTest Loss: 0.5118218794822693... \tTest Accuracy: 81.89873417721519\n",
            "Round: 48... \tAverage Train Loss: 0.467... \tTest Loss: 0.5246028803348541... \tTest Accuracy: 82.53164556962025\n",
            "Round: 49... \tAverage Train Loss: 0.561... \tTest Loss: 0.5021601944446564... \tTest Accuracy: 82.53164556962025\n",
            "Round: 50... \tAverage Train Loss: 0.49... \tTest Loss: 0.5176024388313294... \tTest Accuracy: 83.0379746835443\n"
          ],
          "name": "stdout"
        },
        {
          "output_type": "display_data",
          "data": {
            "image/png": "[encoded data removed]",
            "text/plain": [
              "<Figure size 432x288 with 1 Axes>"
            ]
          },
          "metadata": {
            "tags": [],
            "needs_background": "light"
          }
        },
        {
          "output_type": "display_data",
          "data": {
            "image/png": "[encoded data removed]",
            "text/plain": [
              "<Figure size 432x288 with 1 Axes>"
            ]
          },
          "metadata": {
            "tags": [],
            "needs_background": "light"
          }
        },
        {
          "output_type": "display_data",
          "data": {
            "image/png": "[encoded data removed]",
            "text/plain": [
              "<Figure size 432x288 with 1 Axes>"
            ]
          },
          "metadata": {
            "tags": [],
            "needs_background": "light"
          }
        },
        {
          "output_type": "stream",
          "text": [
            "Training Done!\n",
            "Total time taken to Train: 2713.677558898926\n",
            "\n",
            "\n"
          ],
          "name": "stdout"
        }
      ]
    },
    {
      "cell_type": "markdown",
      "metadata": {
        "id": "wNwC82przF6G"
      },
      "source": [
        "### Test"
      ]
    },
    {
      "cell_type": "code",
      "metadata": {
        "id": "qB97BFs9we9w"
      },
      "source": [
        "# criterion = nn.CrossEntropyLoss()\n",
        "# acc, loss = testing(cifar_cnn_iid_trained, cifar_data_test, 128, criterion, num_classes, classes_test, True)"
      ],
      "execution_count": 88,
      "outputs": []
    },
    {
      "cell_type": "code",
      "metadata": {
        "id": "gdQZEZmHHeqt"
      },
      "source": [
        "hyperparams = {'rounds': rounds,\n",
        "               'C': C,\n",
        "               'K': K,\n",
        "               'E': E,\n",
        "               'batch_size': batch_size,\n",
        "               'lr': lr,\n",
        "               'mu': mu,\n",
        "               'percentage': percentage,\n",
        "               'target_test_accuracy': target_test_accuracy,\n",
        "               }\n",
        "\n",
        "log_dict['CIFAR CNN on IID'] = {'train_loss': train_loss_multiple_runs, \n",
        "                                'test_loss': test_loss_multiple_runs, \n",
        "                                'test_accuracy': test_accuracy_multiple_runs,\n",
        "                                'hyperparams': hyperparams,\n",
        "                                }"
      ],
      "execution_count": 89,
      "outputs": []
    },
    {
      "cell_type": "markdown",
      "metadata": {
        "id": "uF8MdSIUYcnl"
      },
      "source": [
        "## CIFAR CNN on Non IID"
      ]
    },
    {
      "cell_type": "markdown",
      "metadata": {
        "id": "a6wXX7JW11bx"
      },
      "source": [
        "### Train\n"
      ]
    },
    {
      "cell_type": "code",
      "metadata": {
        "id": "fCD3kBCKYfBK",
        "colab": {
          "base_uri": "https://localhost:8080/",
          "height": 1000
        },
        "outputId": "55f14adc-5660-4c1a-d68e-bedc9f34c652"
      },
      "source": [
        "train_loss_multiple_runs = [None] * NUM_REPEAT\n",
        "test_accuracy_multiple_runs = [None] * NUM_REPEAT\n",
        "test_loss_multiple_runs = [None] * NUM_REPEAT\n",
        "\n",
        "for exp_num in range(NUM_REPEAT):\n",
        "  print(\"Experiment Run Number: \", exp_num)\n",
        "\n",
        "  # number of training rounds\n",
        "  rounds = 50\n",
        "  # client fraction\n",
        "  C = 0.1\n",
        "  # number of clients\n",
        "  K = 50\n",
        "  # number of training passes on local dataset for each roung\n",
        "  E = 5\n",
        "  # batch size\n",
        "  batch_size = 10\n",
        "  # learning Rate\n",
        "  lr=0.05\n",
        "  # proximal term constant\n",
        "  mu = 0.01\n",
        "  # percentage of clients to have fewer than E epochs\n",
        "  percentage = 50\n",
        "  # target_test_accuracy\n",
        "  target_test_accuracy=80.0\n",
        "\n",
        "  # dict containing different type of data partition\n",
        "  data_dict = non_iid_partition(cifar_data_train, 50, 100, 500, 2)\n",
        "  #100, 500, 100, 5\n",
        "  # load model\n",
        "  cifar_cnn = CIFAR_CNN()\n",
        "\n",
        "  if torch.cuda.is_available():\n",
        "    cifar_cnn.cuda()\n",
        " \n",
        "  cifar_cnn_non_iid_trained, train_loss, test_accuracy, test_loss = training(cifar_cnn, rounds, batch_size, lr, cifar_data_train, cifar_data_test, data_dict, C, K, E, mu, percentage, \"CIFAR CNN on Non-IID Dataset\", \"green\", target_test_accuracy)\n",
        "\n",
        "  train_loss_multiple_runs[exp_num] = train_loss\n",
        "  test_accuracy_multiple_runs[exp_num] = test_accuracy\n",
        "  test_loss_multiple_runs[exp_num] = test_loss\n",
        "\n",
        "  del cifar_cnn_non_iid_trained\n",
        "  torch.cuda.empty_cache()"
      ],
      "execution_count": 90,
      "outputs": [
        {
          "output_type": "stream",
          "text": [
            "Experiment Run Number:  0\n",
            "System heterogeneity set to 50% stragglers.\n",
            "\n",
            "Picking 5 random clients per round.\n",
            "\n",
            "Round: 1... \tAverage Train Loss: 0.674... \tTest Loss: 2.353547975540161... \tTest Accuracy: 9.113924050632912\n",
            "Round: 2... \tAverage Train Loss: 0.625... \tTest Loss: 2.3107547702789306... \tTest Accuracy: 16.835443037974684\n",
            "Round: 3... \tAverage Train Loss: 0.483... \tTest Loss: 2.3368392391204833... \tTest Accuracy: 16.455696202531644\n",
            "Round: 4... \tAverage Train Loss: 0.514... \tTest Loss: 2.599564877700806... \tTest Accuracy: 15.822784810126583\n",
            "Round: 5... \tAverage Train Loss: 0.492... \tTest Loss: 2.3343403060913084... \tTest Accuracy: 15.949367088607595\n",
            "Round: 6... \tAverage Train Loss: 0.357... \tTest Loss: 2.2080373374938964... \tTest Accuracy: 29.240506329113924\n",
            "Round: 7... \tAverage Train Loss: 0.542... \tTest Loss: 2.1706546569824217... \tTest Accuracy: 26.20253164556962\n",
            "Round: 8... \tAverage Train Loss: 0.477... \tTest Loss: 2.7388474857330323... \tTest Accuracy: 23.037974683544302\n",
            "Round: 9... \tAverage Train Loss: 0.375... \tTest Loss: 3.563627185821533... \tTest Accuracy: 22.658227848101266\n",
            "Round: 10... \tAverage Train Loss: 0.346... \tTest Loss: 2.3707537212371825... \tTest Accuracy: 19.873417721518987\n",
            "Round: 11... \tAverage Train Loss: 0.562... \tTest Loss: 2.0001507209777833... \tTest Accuracy: 28.860759493670887\n",
            "Round: 12... \tAverage Train Loss: 0.327... \tTest Loss: 1.8541493144989014... \tTest Accuracy: 32.151898734177216\n",
            "Round: 13... \tAverage Train Loss: 0.41... \tTest Loss: 1.770127724456787... \tTest Accuracy: 36.075949367088604\n",
            "Round: 14... \tAverage Train Loss: 0.348... \tTest Loss: 2.270111513519287... \tTest Accuracy: 30.88607594936709\n",
            "Round: 15... \tAverage Train Loss: 0.314... \tTest Loss: 1.6485016223907472... \tTest Accuracy: 40.25316455696203\n",
            "Round: 16... \tAverage Train Loss: 0.347... \tTest Loss: 1.691021629333496... \tTest Accuracy: 42.0253164556962\n",
            "Round: 17... \tAverage Train Loss: 0.328... \tTest Loss: 1.8254557933807374... \tTest Accuracy: 37.21518987341772\n",
            "Round: 18... \tAverage Train Loss: 0.288... \tTest Loss: 1.7166296188354493... \tTest Accuracy: 39.620253164556964\n",
            "Round: 19... \tAverage Train Loss: 0.37... \tTest Loss: 2.0377188758850098... \tTest Accuracy: 32.53164556962025\n",
            "Round: 20... \tAverage Train Loss: 0.268... \tTest Loss: 2.0018570224761962... \tTest Accuracy: 36.70886075949367\n",
            "Round: 21... \tAverage Train Loss: 0.281... \tTest Loss: 2.1538510246276856... \tTest Accuracy: 33.29113924050633\n",
            "Round: 22... \tAverage Train Loss: 0.147... \tTest Loss: 1.7336135147094727... \tTest Accuracy: 43.41772151898734\n",
            "Round: 23... \tAverage Train Loss: 0.311... \tTest Loss: 1.5159946620941163... \tTest Accuracy: 49.87341772151899\n",
            "Round: 24... \tAverage Train Loss: 0.341... \tTest Loss: 1.544833103942871... \tTest Accuracy: 46.962025316455694\n",
            "Round: 25... \tAverage Train Loss: 0.42... \tTest Loss: 1.5409272190093994... \tTest Accuracy: 46.58227848101266\n",
            "Round: 26... \tAverage Train Loss: 0.319... \tTest Loss: 1.7093428089141847... \tTest Accuracy: 46.075949367088604\n",
            "Round: 27... \tAverage Train Loss: 0.315... \tTest Loss: 1.5864852067947388... \tTest Accuracy: 44.81012658227848\n",
            "Round: 28... \tAverage Train Loss: 0.235... \tTest Loss: 1.8457666244506836... \tTest Accuracy: 45.063291139240505\n",
            "Round: 29... \tAverage Train Loss: 0.217... \tTest Loss: 1.5499837482452392... \tTest Accuracy: 47.59493670886076\n",
            "Round: 30... \tAverage Train Loss: 0.264... \tTest Loss: 1.2832841348648072... \tTest Accuracy: 56.835443037974684\n",
            "Round: 31... \tAverage Train Loss: 0.317... \tTest Loss: 1.3640716228485108... \tTest Accuracy: 49.87341772151899\n",
            "Round: 32... \tAverage Train Loss: 0.294... \tTest Loss: 1.3051798440933227... \tTest Accuracy: 54.30379746835443\n",
            "Round: 33... \tAverage Train Loss: 0.202... \tTest Loss: 1.845700468826294... \tTest Accuracy: 42.53164556962025\n",
            "Round: 34... \tAverage Train Loss: 0.241... \tTest Loss: 1.8949790580749513... \tTest Accuracy: 44.30379746835443\n",
            "Round: 35... \tAverage Train Loss: 0.251... \tTest Loss: 1.3379152864456176... \tTest Accuracy: 51.77215189873418\n",
            "Round: 36... \tAverage Train Loss: 0.217... \tTest Loss: 1.5406180809020995... \tTest Accuracy: 50.379746835443036\n",
            "Round: 37... \tAverage Train Loss: 0.235... \tTest Loss: 1.794373627281189... \tTest Accuracy: 43.164556962025316\n",
            "Round: 38... \tAverage Train Loss: 0.194... \tTest Loss: 2.063014786911011... \tTest Accuracy: 42.91139240506329\n",
            "Round: 39... \tAverage Train Loss: 0.197... \tTest Loss: 1.296876449394226... \tTest Accuracy: 54.55696202531646\n",
            "Round: 40... \tAverage Train Loss: 0.197... \tTest Loss: 1.3149935857772828... \tTest Accuracy: 54.55696202531646\n",
            "Round: 41... \tAverage Train Loss: 0.252... \tTest Loss: 1.278838109779358... \tTest Accuracy: 52.151898734177216\n",
            "Round: 42... \tAverage Train Loss: 0.205... \tTest Loss: 1.4206103607177734... \tTest Accuracy: 54.30379746835443\n",
            "Round: 43... \tAverage Train Loss: 0.299... \tTest Loss: 1.117966251182556... \tTest Accuracy: 59.87341772151899\n",
            "Round: 44... \tAverage Train Loss: 0.314... \tTest Loss: 1.4027264028549193... \tTest Accuracy: 48.9873417721519\n",
            "Round: 45... \tAverage Train Loss: 0.237... \tTest Loss: 1.47595970287323... \tTest Accuracy: 51.51898734177215\n",
            "Round: 46... \tAverage Train Loss: 0.206... \tTest Loss: 1.44498617477417... \tTest Accuracy: 52.151898734177216\n",
            "Round: 47... \tAverage Train Loss: 0.231... \tTest Loss: 2.1398587474823... \tTest Accuracy: 39.87341772151899\n",
            "Round: 48... \tAverage Train Loss: 0.18... \tTest Loss: 1.3897540906906127... \tTest Accuracy: 54.43037974683544\n",
            "Round: 49... \tAverage Train Loss: 0.286... \tTest Loss: 1.0236526237487793... \tTest Accuracy: 64.17721518987342\n",
            "Round: 50... \tAverage Train Loss: 0.229... \tTest Loss: 1.1215022258758545... \tTest Accuracy: 65.0632911392405\n"
          ],
          "name": "stdout"
        },
        {
          "output_type": "display_data",
          "data": {
            "image/png": "[encoded data removed]",
            "text/plain": [
              "<Figure size 432x288 with 1 Axes>"
            ]
          },
          "metadata": {
            "tags": [],
            "needs_background": "light"
          }
        },
        {
          "output_type": "display_data",
          "data": {
            "image/png": "[encoded data removed]",
            "text/plain": [
              "<Figure size 432x288 with 1 Axes>"
            ]
          },
          "metadata": {
            "tags": [],
            "needs_background": "light"
          }
        },
        {
          "output_type": "display_data",
          "data": {
            "image/png": "[encoded data removed]",
            "text/plain": [
              "<Figure size 432x288 with 1 Axes>"
            ]
          },
          "metadata": {
            "tags": [],
            "needs_background": "light"
          }
        },
        {
          "output_type": "stream",
          "text": [
            "Training Done!\n",
            "Total time taken to Train: 2778.783209323883\n",
            "\n",
            "\n"
          ],
          "name": "stdout"
        }
      ]
    },
    {
      "cell_type": "markdown",
      "metadata": {
        "id": "4C68J-Kk14dB"
      },
      "source": [
        "### Test"
      ]
    },
    {
      "cell_type": "code",
      "metadata": {
        "id": "_yQ9GiAZ15jE"
      },
      "source": [
        "# criterion = nn.CrossEntropyLoss()\n",
        "# acc, loss = testing(cifar_cnn_non_iid_trained, cifar_data_test, 128, criterion, num_classes, classes_test, True)"
      ],
      "execution_count": 91,
      "outputs": []
    },
    {
      "cell_type": "code",
      "metadata": {
        "id": "dxMcxgLhLvX-"
      },
      "source": [
        "hyperparams = {'rounds': rounds,\n",
        "               'C': C,\n",
        "               'K': K,\n",
        "               'E': E,\n",
        "               'batch_size': batch_size,\n",
        "               'lr': lr,\n",
        "               'mu': mu,\n",
        "               'percentage': percentage,\n",
        "               'target_test_accuracy': target_test_accuracy,\n",
        "               }\n",
        "\n",
        "log_dict['CIFAR CNN on Non IID'] = {'train_loss': train_loss_multiple_runs, \n",
        "                                'test_loss': test_loss_multiple_runs, \n",
        "                                'test_accuracy': test_accuracy_multiple_runs,\n",
        "                                'hyperparams': hyperparams,\n",
        "                                }"
      ],
      "execution_count": 92,
      "outputs": []
    },
    {
      "cell_type": "markdown",
      "metadata": {
        "id": "ptMieSimVxid"
      },
      "source": [
        "## CIFAR MLP on IID"
      ]
    },
    {
      "cell_type": "markdown",
      "metadata": {
        "id": "mz3f_fOxVxie"
      },
      "source": [
        "### Train"
      ]
    },
    {
      "cell_type": "code",
      "metadata": {
        "id": "5ZGAZPhtVxie"
      },
      "source": [
        "# train_loss_multiple_runs = [None] * NUM_REPEAT\n",
        "# test_accuracy_multiple_runs = [None] * NUM_REPEAT\n",
        "# test_loss_multiple_runs = [None] * NUM_REPEAT\n",
        "\n",
        "# for exp_num in range(NUM_REPEAT):\n",
        "#   print(\"Experiment Run Number: \", exp_num)\n",
        "\n",
        "#   # number of training rounds\n",
        "#   rounds = 50\n",
        "#   # client fraction\n",
        "#   C = 0.1\n",
        "#   # number of clients\n",
        "#   K = 100\n",
        "#   # number of training passes on local dataset for each round\n",
        "#   E = 5\n",
        "#   # batch size\n",
        "#   batch_size = 10\n",
        "#   # learning Rate\n",
        "#   lr=0.05\n",
        "#   # proximal term constant\n",
        "#   mu = 0.01\n",
        "#   # percentage of clients to have fewer than E epochs\n",
        "#   percentage = 50\n",
        "#   # target_test_accuracy\n",
        "#   target_test_accuracy=50.0\n",
        "\n",
        "#   # dict containing different type of data partition\n",
        "#   data_dict = iid_partition(cifar_data_train, 100)\n",
        "#   # load model\n",
        "#   cifar_mlp = CIFAR_MLP()\n",
        "\n",
        "#   if torch.cuda.is_available():\n",
        "#     cifar_mlp.cuda()\n",
        "\n",
        "#   cifar_mlp_iid_trained, train_loss, test_accuracy, test_loss = training(cifar_mlp, rounds, batch_size, lr, cifar_data_train, cifar_data_test, data_dict, C, K, E, mu, percentage, \"CIFAR MLP on IID Dataset\", \"orange\", target_test_accuracy)\n",
        "  \n",
        "#   train_loss_multiple_runs[exp_num] = train_loss\n",
        "#   test_accuracy_multiple_runs[exp_num] = test_accuracy\n",
        "#   test_loss_multiple_runs[exp_num] = test_loss\n",
        "\n",
        "#   del cifar_mlp_iid_trained\n",
        "#   torch.cuda.empty_cache()"
      ],
      "execution_count": 93,
      "outputs": []
    },
    {
      "cell_type": "markdown",
      "metadata": {
        "id": "aTBsL3-72PPd"
      },
      "source": [
        "### Test"
      ]
    },
    {
      "cell_type": "code",
      "metadata": {
        "id": "a9G4j5L62OrS"
      },
      "source": [
        "# criterion = nn.CrossEntropyLoss()\n",
        "# acc, loss = testing(cifar_mlp_iid_trained, cifar_data_test, 128, criterion, num_classes, classes_test, True)"
      ],
      "execution_count": 94,
      "outputs": []
    },
    {
      "cell_type": "code",
      "metadata": {
        "id": "fWCdJFRCL_f2"
      },
      "source": [
        "# hyperparams = {'rounds': rounds,\n",
        "#                'C': C,\n",
        "#                'K': K,\n",
        "#                'E': E,\n",
        "#                'batch_size': batch_size,\n",
        "#                'lr': lr,\n",
        "#                'mu': mu,\n",
        "#                'percentage': percentage,\n",
        "#                'target_test_accuracy': target_test_accuracy,\n",
        "#                }\n",
        "\n",
        "# log_dict['CIFAR MLP on IID'] = {'train_loss': train_loss_multiple_runs, \n",
        "#                                 'test_loss': test_loss_multiple_runs, \n",
        "#                                 'test_accuracy': test_accuracy_multiple_runs,\n",
        "#                                 'hyperparams': hyperparams,\n",
        "#                                 }"
      ],
      "execution_count": 95,
      "outputs": []
    },
    {
      "cell_type": "markdown",
      "metadata": {
        "id": "J8jzEyO0iywz"
      },
      "source": [
        "## CIFAR MLP on Non IID"
      ]
    },
    {
      "cell_type": "markdown",
      "metadata": {
        "id": "pJFepr3y2bF-"
      },
      "source": [
        "### Train"
      ]
    },
    {
      "cell_type": "code",
      "metadata": {
        "id": "EBKO44Hgi1Uh"
      },
      "source": [
        "# train_loss_multiple_runs = [None] * NUM_REPEAT\n",
        "# test_accuracy_multiple_runs = [None] * NUM_REPEAT\n",
        "# test_loss_multiple_runs = [None] * NUM_REPEAT\n",
        "\n",
        "# for exp_num in range(NUM_REPEAT):\n",
        "#   print(\"Experiment Run Number: \", exp_num)\n",
        "  \n",
        "#   # number of training rounds\n",
        "#   rounds = 50\n",
        "#   # client fraction\n",
        "#   C = 0.1\n",
        "#   # number of clients\n",
        "#   K = 100\n",
        "#   # number of training passes on local dataset for each roung\n",
        "#   E = 5\n",
        "#   # batch size\n",
        "#   batch_size = 10\n",
        "#   # learning Rate\n",
        "#   lr=0.05\n",
        "#   # proximal term constant\n",
        "#   mu = 0.01\n",
        "#   # percentage of clients to have fewer than E epochs\n",
        "#   percentage = 50\n",
        "#   # target_test_accuracy\n",
        "#   target_test_accuracy=50.0\n",
        "\n",
        "#   # dict containing different type of data partition\n",
        "#   data_dict = non_iid_partition(cifar_data_train, 100, 200, 250, 2)\n",
        "#   # load model\n",
        "#   cifar_mlp = CIFAR_MLP()\n",
        "\n",
        "#   if torch.cuda.is_available():\n",
        "#     cifar_mlp.cuda()\n",
        "\n",
        "#   cifar_mlp_non_iid_trained, train_loss, test_accuracy, test_loss = training(cifar_mlp, rounds, batch_size, lr, cifar_data_train, cifar_data_test, data_dict, C, K, E, mu, percentage, \"CIFAR MLP on Non-IID Dataset\", \"green\", target_test_accuracy)\n",
        "\n",
        "#   train_loss_multiple_runs[exp_num] = train_loss\n",
        "#   test_accuracy_multiple_runs[exp_num] = test_accuracy\n",
        "#   test_loss_multiple_runs[exp_num] = test_loss\n",
        "\n",
        "#   del cifar_mlp_non_iid_trained\n",
        "#   torch.cuda.empty_cache()"
      ],
      "execution_count": 96,
      "outputs": []
    },
    {
      "cell_type": "markdown",
      "metadata": {
        "id": "jmuQYPbF2mes"
      },
      "source": [
        "### Test"
      ]
    },
    {
      "cell_type": "code",
      "metadata": {
        "id": "0tKMlJyF2nGN"
      },
      "source": [
        "# criterion = nn.CrossEntropyLoss()\n",
        "# acc, loss = testing(cifar_mlp_non_iid_trained, cifar_data_test, 128, criterion, num_classes, classes_test, True)"
      ],
      "execution_count": 97,
      "outputs": []
    },
    {
      "cell_type": "code",
      "metadata": {
        "id": "1W5krYcSMQiu"
      },
      "source": [
        "# hyperparams = {'rounds': rounds,\n",
        "#                'C': C,\n",
        "#                'K': K,\n",
        "#                'E': E,\n",
        "#                'batch_size': batch_size,\n",
        "#                'lr': lr,\n",
        "#                'mu': mu,\n",
        "#                'percentage': percentage,\n",
        "#                'target_test_accuracy': target_test_accuracy,\n",
        "#                }\n",
        "\n",
        "# log_dict['CIFAR MLP on Non IID'] = {'train_loss': train_loss_multiple_runs, \n",
        "#                                 'test_loss': test_loss_multiple_runs, \n",
        "#                                 'test_accuracy': test_accuracy_multiple_runs,\n",
        "#                                 'hyperparams': hyperparams,\n",
        "#                                 }"
      ],
      "execution_count": 98,
      "outputs": []
    },
    {
      "cell_type": "markdown",
      "metadata": {
        "id": "emS_SaRAP6TZ"
      },
      "source": [
        "## Pickle Log"
      ]
    },
    {
      "cell_type": "code",
      "metadata": {
        "id": "soAN38JoP0c1"
      },
      "source": [
        "import pickle\n",
        "\n",
        "with open(path + 'FedProx0.5.pkl', 'wb') as file:\n",
        "  pickle.dump(log_dict, file)"
      ],
      "execution_count": 99,
      "outputs": []
    },
    {
      "cell_type": "code",
      "metadata": {
        "id": "2UBy-JswSoCJ",
        "colab": {
          "base_uri": "https://localhost:8080/"
        },
        "outputId": "8bbb3c6d-e999-4ac1-f792-7de17f30dc21"
      },
      "source": [
        "log_dict"
      ],
      "execution_count": 100,
      "outputs": [
        {
          "output_type": "execute_result",
          "data": {
            "text/plain": [
              "{'CIFAR CNN on IID': {'hyperparams': {'C': 0.1,\n",
              "   'E': 5,\n",
              "   'K': 50,\n",
              "   'batch_size': 10,\n",
              "   'lr': 0.05,\n",
              "   'mu': 0.01,\n",
              "   'percentage': 50,\n",
              "   'rounds': 50,\n",
              "   'target_test_accuracy': 80.0},\n",
              "  'test_accuracy': [[16.70886075949367,\n",
              "    37.21518987341772,\n",
              "    42.40506329113924,\n",
              "    47.34177215189873,\n",
              "    48.35443037974684,\n",
              "    53.54430379746835,\n",
              "    52.65822784810127,\n",
              "    54.30379746835443,\n",
              "    57.9746835443038,\n",
              "    61.139240506329116,\n",
              "    63.164556962025316,\n",
              "    64.17721518987342,\n",
              "    68.35443037974683,\n",
              "    68.48101265822785,\n",
              "    70.63291139240506,\n",
              "    67.72151898734177,\n",
              "    71.0126582278481,\n",
              "    70.75949367088607,\n",
              "    73.79746835443038,\n",
              "    74.68354430379746,\n",
              "    74.30379746835443,\n",
              "    75.0632911392405,\n",
              "    75.82278481012658,\n",
              "    76.70886075949367,\n",
              "    77.59493670886076,\n",
              "    77.46835443037975,\n",
              "    77.46835443037975,\n",
              "    78.86075949367088,\n",
              "    78.22784810126582,\n",
              "    79.87341772151899,\n",
              "    81.26582278481013,\n",
              "    81.51898734177215,\n",
              "    79.24050632911393,\n",
              "    80.63291139240506,\n",
              "    80.50632911392405,\n",
              "    82.53164556962025,\n",
              "    82.9113924050633,\n",
              "    83.0379746835443,\n",
              "    83.92405063291139,\n",
              "    82.15189873417721,\n",
              "    83.0379746835443,\n",
              "    82.9113924050633,\n",
              "    83.54430379746836,\n",
              "    82.9113924050633,\n",
              "    83.41772151898734,\n",
              "    83.16455696202532,\n",
              "    81.89873417721519,\n",
              "    82.53164556962025,\n",
              "    82.53164556962025,\n",
              "    83.0379746835443]],\n",
              "  'test_loss': [[2.2290009517669676,\n",
              "    1.8655935356140136,\n",
              "    1.6606504810333251,\n",
              "    1.5622839416503906,\n",
              "    1.4350650018692017,\n",
              "    1.3328593645095825,\n",
              "    1.2610143411636352,\n",
              "    1.2188109298706056,\n",
              "    1.1415535814285278,\n",
              "    1.0945418434143066,\n",
              "    1.0524811866760253,\n",
              "    0.9975681282043457,\n",
              "    0.9339404951095581,\n",
              "    0.9024768878936767,\n",
              "    0.8694025228500366,\n",
              "    0.8632863890647888,\n",
              "    0.8123973484039306,\n",
              "    0.8025784119606018,\n",
              "    0.7553105506896972,\n",
              "    0.742501438331604,\n",
              "    0.7442561724662781,\n",
              "    0.7088951622962951,\n",
              "    0.7091843688964844,\n",
              "    0.689161008644104,\n",
              "    0.6583169907569886,\n",
              "    0.6569621948719024,\n",
              "    0.6586088012218475,\n",
              "    0.6308983984470368,\n",
              "    0.6432007413864136,\n",
              "    0.6128626096725464,\n",
              "    0.6050321502685547,\n",
              "    0.5866484844207763,\n",
              "    0.6092659794807435,\n",
              "    0.5799603420734406,\n",
              "    0.5703193603515625,\n",
              "    0.564678839635849,\n",
              "    0.5444835985183716,\n",
              "    0.5539858916759491,\n",
              "    0.5442650665283203,\n",
              "    0.5439894257068634,\n",
              "    0.5420540923595428,\n",
              "    0.5364448966503144,\n",
              "    0.5425115228176117,\n",
              "    0.5316716400146484,\n",
              "    0.5297232322692871,\n",
              "    0.5243049829006196,\n",
              "    0.5118218794822693,\n",
              "    0.5246028803348541,\n",
              "    0.5021601944446564,\n",
              "    0.5176024388313294]],\n",
              "  'train_loss': [[2.134438843456904,\n",
              "    2.007313640093803,\n",
              "    1.8822468986511232,\n",
              "    1.793246124625206,\n",
              "    1.7110915571987628,\n",
              "    1.6364483720123766,\n",
              "    1.5511953992307184,\n",
              "    1.4855818083643912,\n",
              "    1.4244853816866876,\n",
              "    1.3523655549824238,\n",
              "    1.3209110913038256,\n",
              "    1.2480922435969115,\n",
              "    1.1941557842294372,\n",
              "    1.1343414265255134,\n",
              "    1.1097066864103078,\n",
              "    1.0600835325539113,\n",
              "    1.0263932407289744,\n",
              "    0.9969669758260249,\n",
              "    0.98321588742733,\n",
              "    0.9383735196769238,\n",
              "    0.8811458541244267,\n",
              "    0.8884884367972612,\n",
              "    0.832185943966359,\n",
              "    0.8108607938937842,\n",
              "    0.8609360219697159,\n",
              "    0.8146540547966957,\n",
              "    0.7712016705542803,\n",
              "    0.7507216467186809,\n",
              "    0.7469483987947305,\n",
              "    0.7133668538808824,\n",
              "    0.6830227027545372,\n",
              "    0.7034348103433847,\n",
              "    0.6480251352831721,\n",
              "    0.7036156541019678,\n",
              "    0.6659940519571305,\n",
              "    0.6695689165741205,\n",
              "    0.6314478429228066,\n",
              "    0.6305772189753751,\n",
              "    0.5896176180720328,\n",
              "    0.6043965630985797,\n",
              "    0.5498537260271609,\n",
              "    0.6038369006748001,\n",
              "    0.5482696932844818,\n",
              "    0.5610376276185114,\n",
              "    0.5304760293141008,\n",
              "    0.5252087121158839,\n",
              "    0.5750265220597386,\n",
              "    0.4674340548917651,\n",
              "    0.5609953330755234,\n",
              "    0.48959380722343926]]},\n",
              " 'CIFAR CNN on Non IID': {'hyperparams': {'C': 0.1,\n",
              "   'E': 5,\n",
              "   'K': 50,\n",
              "   'batch_size': 10,\n",
              "   'lr': 0.05,\n",
              "   'mu': 0.01,\n",
              "   'percentage': 50,\n",
              "   'rounds': 50,\n",
              "   'target_test_accuracy': 80.0},\n",
              "  'test_accuracy': [[9.113924050632912,\n",
              "    16.835443037974684,\n",
              "    16.455696202531644,\n",
              "    15.822784810126583,\n",
              "    15.949367088607595,\n",
              "    29.240506329113924,\n",
              "    26.20253164556962,\n",
              "    23.037974683544302,\n",
              "    22.658227848101266,\n",
              "    19.873417721518987,\n",
              "    28.860759493670887,\n",
              "    32.151898734177216,\n",
              "    36.075949367088604,\n",
              "    30.88607594936709,\n",
              "    40.25316455696203,\n",
              "    42.0253164556962,\n",
              "    37.21518987341772,\n",
              "    39.620253164556964,\n",
              "    32.53164556962025,\n",
              "    36.70886075949367,\n",
              "    33.29113924050633,\n",
              "    43.41772151898734,\n",
              "    49.87341772151899,\n",
              "    46.962025316455694,\n",
              "    46.58227848101266,\n",
              "    46.075949367088604,\n",
              "    44.81012658227848,\n",
              "    45.063291139240505,\n",
              "    47.59493670886076,\n",
              "    56.835443037974684,\n",
              "    49.87341772151899,\n",
              "    54.30379746835443,\n",
              "    42.53164556962025,\n",
              "    44.30379746835443,\n",
              "    51.77215189873418,\n",
              "    50.379746835443036,\n",
              "    43.164556962025316,\n",
              "    42.91139240506329,\n",
              "    54.55696202531646,\n",
              "    54.55696202531646,\n",
              "    52.151898734177216,\n",
              "    54.30379746835443,\n",
              "    59.87341772151899,\n",
              "    48.9873417721519,\n",
              "    51.51898734177215,\n",
              "    52.151898734177216,\n",
              "    39.87341772151899,\n",
              "    54.43037974683544,\n",
              "    64.17721518987342,\n",
              "    65.0632911392405]],\n",
              "  'test_loss': [[2.353547975540161,\n",
              "    2.3107547702789306,\n",
              "    2.3368392391204833,\n",
              "    2.599564877700806,\n",
              "    2.3343403060913084,\n",
              "    2.2080373374938964,\n",
              "    2.1706546569824217,\n",
              "    2.7388474857330323,\n",
              "    3.563627185821533,\n",
              "    2.3707537212371825,\n",
              "    2.0001507209777833,\n",
              "    1.8541493144989014,\n",
              "    1.770127724456787,\n",
              "    2.270111513519287,\n",
              "    1.6485016223907472,\n",
              "    1.691021629333496,\n",
              "    1.8254557933807374,\n",
              "    1.7166296188354493,\n",
              "    2.0377188758850098,\n",
              "    2.0018570224761962,\n",
              "    2.1538510246276856,\n",
              "    1.7336135147094727,\n",
              "    1.5159946620941163,\n",
              "    1.544833103942871,\n",
              "    1.5409272190093994,\n",
              "    1.7093428089141847,\n",
              "    1.5864852067947388,\n",
              "    1.8457666244506836,\n",
              "    1.5499837482452392,\n",
              "    1.2832841348648072,\n",
              "    1.3640716228485108,\n",
              "    1.3051798440933227,\n",
              "    1.845700468826294,\n",
              "    1.8949790580749513,\n",
              "    1.3379152864456176,\n",
              "    1.5406180809020995,\n",
              "    1.794373627281189,\n",
              "    2.063014786911011,\n",
              "    1.296876449394226,\n",
              "    1.3149935857772828,\n",
              "    1.278838109779358,\n",
              "    1.4206103607177734,\n",
              "    1.117966251182556,\n",
              "    1.4027264028549193,\n",
              "    1.47595970287323,\n",
              "    1.44498617477417,\n",
              "    2.1398587474823,\n",
              "    1.3897540906906127,\n",
              "    1.0236526237487793,\n",
              "    1.1215022258758545]],\n",
              "  'train_loss': [[0.6739395222825308,\n",
              "    0.6245597754307092,\n",
              "    0.48309828365296126,\n",
              "    0.5135703585932653,\n",
              "    0.49219033412635327,\n",
              "    0.3565289245096346,\n",
              "    0.5420803902938962,\n",
              "    0.4767835853815079,\n",
              "    0.3747402404158066,\n",
              "    0.34631096981440984,\n",
              "    0.5620481434304267,\n",
              "    0.3271180082874993,\n",
              "    0.40977256538048384,\n",
              "    0.34825379278752955,\n",
              "    0.3137867630173763,\n",
              "    0.34681911949142813,\n",
              "    0.32765526114851234,\n",
              "    0.28771163959726687,\n",
              "    0.370467387919873,\n",
              "    0.26793327832724895,\n",
              "    0.28091247264246144,\n",
              "    0.1465785489236315,\n",
              "    0.3114868463845303,\n",
              "    0.3407561221939822,\n",
              "    0.4195656682789326,\n",
              "    0.3191781319620709,\n",
              "    0.3152826586882273,\n",
              "    0.23475356091093272,\n",
              "    0.217220811708644,\n",
              "    0.26419489447362726,\n",
              "    0.316721532234177,\n",
              "    0.2935647943081955,\n",
              "    0.20193784870728848,\n",
              "    0.24086581996567552,\n",
              "    0.2510500905506313,\n",
              "    0.2166650485973805,\n",
              "    0.23482565331701194,\n",
              "    0.1939479206395646,\n",
              "    0.19671249185465278,\n",
              "    0.19749655437711625,\n",
              "    0.2521635795451701,\n",
              "    0.20451491482394438,\n",
              "    0.29895149104073643,\n",
              "    0.3144791719518602,\n",
              "    0.23741366683468224,\n",
              "    0.20644152955673634,\n",
              "    0.23100594487984977,\n",
              "    0.1795864586301148,\n",
              "    0.2859864371182397,\n",
              "    0.22886701227184386]]}}"
            ]
          },
          "metadata": {
            "tags": []
          },
          "execution_count": 100
        }
      ]
    },
    {
      "cell_type": "code",
      "metadata": {
        "id": "x1r1hcqMUCeZ"
      },
      "source": [
        "import pickle\n",
        "\n",
        "with open(path + 'FedProx0.5.pkl', 'rb') as file:\n",
        "  log_dict = pickle.load(file)"
      ],
      "execution_count": 101,
      "outputs": []
    },
    {
      "cell_type": "code",
      "metadata": {
        "id": "se_04JMaVJPg",
        "colab": {
          "base_uri": "https://localhost:8080/"
        },
        "outputId": "59fdd1a8-f759-4093-833e-315eeb4cbe78"
      },
      "source": [
        "print([test_acc[-1] for test_acc in log_dict['CIFAR CNN on IID']['test_accuracy']])"
      ],
      "execution_count": 102,
      "outputs": [
        {
          "output_type": "stream",
          "text": [
            "[83.0379746835443]\n"
          ],
          "name": "stdout"
        }
      ]
    },
    {
      "cell_type": "code",
      "metadata": {
        "id": "5sv0rv-G4Sqa",
        "colab": {
          "base_uri": "https://localhost:8080/"
        },
        "outputId": "37c2d387-4d66-45c7-b5ce-52378e56146f"
      },
      "source": [
        "print([test_acc[-1] for test_acc in log_dict['CIFAR CNN on Non IID']['test_accuracy']])"
      ],
      "execution_count": 103,
      "outputs": [
        {
          "output_type": "stream",
          "text": [
            "[65.0632911392405]\n"
          ],
          "name": "stdout"
        }
      ]
    },
    {
      "cell_type": "code",
      "metadata": {
        "id": "b2a2_Az-4nal"
      },
      "source": [
        "# print([test_acc[-1] for test_acc in log_dict['CIFAR MLP on IID']['test_accuracy']])"
      ],
      "execution_count": 104,
      "outputs": []
    },
    {
      "cell_type": "code",
      "metadata": {
        "id": "YoRqZyvD4p2K"
      },
      "source": [
        "# print([test_acc[-1] for test_acc in log_dict['CIFAR MLP on Non IID']['test_accuracy']])"
      ],
      "execution_count": 105,
      "outputs": []
    },
    {
      "cell_type": "code",
      "metadata": {
        "id": "mkG1kQdmVzbJ"
      },
      "source": [
        ""
      ],
      "execution_count": 105,
      "outputs": []
    }
  ]
}