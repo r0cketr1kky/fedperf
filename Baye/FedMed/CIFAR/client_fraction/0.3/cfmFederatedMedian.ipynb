{
  "nbformat": 4,
  "nbformat_minor": 0,
  "metadata": {
    "accelerator": "GPU",
    "colab": {
      "name": "cfmFederatedMedian.ipynb",
      "provenance": [],
      "collapsed_sections": [],
      "machine_shape": "hm"
    },
    "kernelspec": {
      "name": "python3",
      "display_name": "Python 3"
    },
    "language_info": {
      "name": "python"
    },
    "widgets": {
      "application/vnd.jupyter.widget-state+json": {
        "affa38a8a6f846aa9ca1b9ba7ac695f1": {
          "model_module": "@jupyter-widgets/controls",
          "model_name": "HBoxModel",
          "state": {
            "_view_name": "HBoxView",
            "_dom_classes": [],
            "_model_name": "HBoxModel",
            "_view_module": "@jupyter-widgets/controls",
            "_model_module_version": "1.5.0",
            "_view_count": null,
            "_view_module_version": "1.5.0",
            "box_style": "",
            "layout": "IPY_MODEL_02112712571346718265bdd9b3bea23b",
            "_model_module": "@jupyter-widgets/controls",
            "children": [
              "IPY_MODEL_c296b350f495442aa0bea426a3c4de9c",
              "IPY_MODEL_12b4378f535546e4afd66db5c39f3474"
            ]
          }
        },
        "02112712571346718265bdd9b3bea23b": {
          "model_module": "@jupyter-widgets/base",
          "model_name": "LayoutModel",
          "state": {
            "_view_name": "LayoutView",
            "grid_template_rows": null,
            "right": null,
            "justify_content": null,
            "_view_module": "@jupyter-widgets/base",
            "overflow": null,
            "_model_module_version": "1.2.0",
            "_view_count": null,
            "flex_flow": null,
            "width": null,
            "min_width": null,
            "border": null,
            "align_items": null,
            "bottom": null,
            "_model_module": "@jupyter-widgets/base",
            "top": null,
            "grid_column": null,
            "overflow_y": null,
            "overflow_x": null,
            "grid_auto_flow": null,
            "grid_area": null,
            "grid_template_columns": null,
            "flex": null,
            "_model_name": "LayoutModel",
            "justify_items": null,
            "grid_row": null,
            "max_height": null,
            "align_content": null,
            "visibility": null,
            "align_self": null,
            "height": null,
            "min_height": null,
            "padding": null,
            "grid_auto_rows": null,
            "grid_gap": null,
            "max_width": null,
            "order": null,
            "_view_module_version": "1.2.0",
            "grid_template_areas": null,
            "object_position": null,
            "object_fit": null,
            "grid_auto_columns": null,
            "margin": null,
            "display": null,
            "left": null
          }
        },
        "c296b350f495442aa0bea426a3c4de9c": {
          "model_module": "@jupyter-widgets/controls",
          "model_name": "FloatProgressModel",
          "state": {
            "_view_name": "ProgressView",
            "style": "IPY_MODEL_8ae04dd631e24805ac8757af9b11f1d9",
            "_dom_classes": [],
            "description": "",
            "_model_name": "FloatProgressModel",
            "bar_style": "success",
            "max": 170498071,
            "_view_module": "@jupyter-widgets/controls",
            "_model_module_version": "1.5.0",
            "value": 170498071,
            "_view_count": null,
            "_view_module_version": "1.5.0",
            "orientation": "horizontal",
            "min": 0,
            "description_tooltip": null,
            "_model_module": "@jupyter-widgets/controls",
            "layout": "IPY_MODEL_03dfae4232654cda8daee28d36b02687"
          }
        },
        "12b4378f535546e4afd66db5c39f3474": {
          "model_module": "@jupyter-widgets/controls",
          "model_name": "HTMLModel",
          "state": {
            "_view_name": "HTMLView",
            "style": "IPY_MODEL_46284f1ae3294bfc92fed3b0a1d167b3",
            "_dom_classes": [],
            "description": "",
            "_model_name": "HTMLModel",
            "placeholder": "​",
            "_view_module": "@jupyter-widgets/controls",
            "_model_module_version": "1.5.0",
            "value": " 170499072/? [00:07&lt;00:00, 22591777.58it/s]",
            "_view_count": null,
            "_view_module_version": "1.5.0",
            "description_tooltip": null,
            "_model_module": "@jupyter-widgets/controls",
            "layout": "IPY_MODEL_4b905e987f6e420f9aba4bf5036adb72"
          }
        },
        "8ae04dd631e24805ac8757af9b11f1d9": {
          "model_module": "@jupyter-widgets/controls",
          "model_name": "ProgressStyleModel",
          "state": {
            "_view_name": "StyleView",
            "_model_name": "ProgressStyleModel",
            "description_width": "initial",
            "_view_module": "@jupyter-widgets/base",
            "_model_module_version": "1.5.0",
            "_view_count": null,
            "_view_module_version": "1.2.0",
            "bar_color": null,
            "_model_module": "@jupyter-widgets/controls"
          }
        },
        "03dfae4232654cda8daee28d36b02687": {
          "model_module": "@jupyter-widgets/base",
          "model_name": "LayoutModel",
          "state": {
            "_view_name": "LayoutView",
            "grid_template_rows": null,
            "right": null,
            "justify_content": null,
            "_view_module": "@jupyter-widgets/base",
            "overflow": null,
            "_model_module_version": "1.2.0",
            "_view_count": null,
            "flex_flow": null,
            "width": null,
            "min_width": null,
            "border": null,
            "align_items": null,
            "bottom": null,
            "_model_module": "@jupyter-widgets/base",
            "top": null,
            "grid_column": null,
            "overflow_y": null,
            "overflow_x": null,
            "grid_auto_flow": null,
            "grid_area": null,
            "grid_template_columns": null,
            "flex": null,
            "_model_name": "LayoutModel",
            "justify_items": null,
            "grid_row": null,
            "max_height": null,
            "align_content": null,
            "visibility": null,
            "align_self": null,
            "height": null,
            "min_height": null,
            "padding": null,
            "grid_auto_rows": null,
            "grid_gap": null,
            "max_width": null,
            "order": null,
            "_view_module_version": "1.2.0",
            "grid_template_areas": null,
            "object_position": null,
            "object_fit": null,
            "grid_auto_columns": null,
            "margin": null,
            "display": null,
            "left": null
          }
        },
        "46284f1ae3294bfc92fed3b0a1d167b3": {
          "model_module": "@jupyter-widgets/controls",
          "model_name": "DescriptionStyleModel",
          "state": {
            "_view_name": "StyleView",
            "_model_name": "DescriptionStyleModel",
            "description_width": "",
            "_view_module": "@jupyter-widgets/base",
            "_model_module_version": "1.5.0",
            "_view_count": null,
            "_view_module_version": "1.2.0",
            "_model_module": "@jupyter-widgets/controls"
          }
        },
        "4b905e987f6e420f9aba4bf5036adb72": {
          "model_module": "@jupyter-widgets/base",
          "model_name": "LayoutModel",
          "state": {
            "_view_name": "LayoutView",
            "grid_template_rows": null,
            "right": null,
            "justify_content": null,
            "_view_module": "@jupyter-widgets/base",
            "overflow": null,
            "_model_module_version": "1.2.0",
            "_view_count": null,
            "flex_flow": null,
            "width": null,
            "min_width": null,
            "border": null,
            "align_items": null,
            "bottom": null,
            "_model_module": "@jupyter-widgets/base",
            "top": null,
            "grid_column": null,
            "overflow_y": null,
            "overflow_x": null,
            "grid_auto_flow": null,
            "grid_area": null,
            "grid_template_columns": null,
            "flex": null,
            "_model_name": "LayoutModel",
            "justify_items": null,
            "grid_row": null,
            "max_height": null,
            "align_content": null,
            "visibility": null,
            "align_self": null,
            "height": null,
            "min_height": null,
            "padding": null,
            "grid_auto_rows": null,
            "grid_gap": null,
            "max_width": null,
            "order": null,
            "_view_module_version": "1.2.0",
            "grid_template_areas": null,
            "object_position": null,
            "object_fit": null,
            "grid_auto_columns": null,
            "margin": null,
            "display": null,
            "left": null
          }
        }
      }
    }
  },
  "cells": [
    {
      "cell_type": "markdown",
      "metadata": {
        "id": "view-in-github"
      },
      "source": [
        "<a href=\"https://colab.research.google.com/github/tushar-semwal/fedperf/blob/main/Vineeth/FedAvg_CIFAR.ipynb\" target=\"_parent\"><img src=\"https://colab.research.google.com/assets/colab-badge.svg\" alt=\"Open In Colab\"/></a>"
      ]
    },
    {
      "cell_type": "code",
      "metadata": {
        "id": "yKcpjZLrQQJV",
        "colab": {
          "base_uri": "https://localhost:8080/"
        },
        "outputId": "4447771f-6a4d-463b-d528-90489bdb103a"
      },
      "source": [
        "%%capture output\n",
        "try:\n",
        "    from google.colab import drive\n",
        "    drive.mount('/content/drive')\n",
        "\n",
        "    import os\n",
        "    path = '/content/drive/MyDrive/Colab Notebooks/OpenMined/'\n",
        "    os.makedirs(path, exist_ok=True)\n",
        "except:\n",
        "    path = './'\n",
        "    %%capture output"
      ],
      "execution_count": 1,
      "outputs": [
        {
          "output_type": "stream",
          "text": [
            "Go to this URL in a browser: https://accounts.google.com/o/oauth2/auth?client_id=947318989803-6bn6qk8qdgf4n4g3pfee6491hc0brc4i.apps.googleusercontent.com&redirect_uri=urn%3aietf%3awg%3aoauth%3a2.0%3aoob&scope=email%20https%3a%2f%2fwww.googleapis.com%2fauth%2fdocs.test%20https%3a%2f%2fwww.googleapis.com%2fauth%2fdrive%20https%3a%2f%2fwww.googleapis.com%2fauth%2fdrive.photos.readonly%20https%3a%2f%2fwww.googleapis.com%2fauth%2fpeopleapi.readonly%20https%3a%2f%2fwww.googleapis.com%2fauth%2fdrive.activity.readonly%20https%3a%2f%2fwww.googleapis.com%2fauth%2fexperimentsandconfigs%20https%3a%2f%2fwww.googleapis.com%2fauth%2fphotos.native&response_type=code\n",
            "\n",
            "Enter your authorization code:\n",
            "4/1AY0e-g6CNVuZxWMlpdVxNtrLANZ987jJhZY8O6_z6t142t_W9ugHE4LpZbM\n"
          ],
          "name": "stdout"
        }
      ]
    },
    {
      "cell_type": "markdown",
      "metadata": {
        "id": "-0_nKpfq2h1R"
      },
      "source": [
        "## Imports"
      ]
    },
    {
      "cell_type": "code",
      "metadata": {
        "id": "DLLNM9X2JbQ8",
        "colab": {
          "base_uri": "https://localhost:8080/"
        },
        "outputId": "c1951791-5678-4334-b577-ac7bac765ef0"
      },
      "source": [
        "%load_ext tensorboard\n",
        "import os\n",
        "import numpy as np\n",
        "import matplotlib\n",
        "import matplotlib.pyplot as plt\n",
        "import copy\n",
        "import random\n",
        "import time\n",
        "\n",
        "import torch\n",
        "import torch.nn as nn\n",
        "import torch.nn.functional as F\n",
        "\n",
        "from torch.utils.data import Dataset, DataLoader\n",
        "from torch.utils.tensorboard import SummaryWriter\n",
        "from torchvision import transforms, utils, datasets\n",
        "from torchsummary import summary\n",
        "\n",
        "\n",
        "# Check assigned GPU\n",
        "gpu_info = !nvidia-smi\n",
        "gpu_info = '\\n'.join(gpu_info)\n",
        "if gpu_info.find('failed') >= 0:\n",
        "  print('Select the Runtime > \"Change runtime type\" menu to enable a GPU accelerator, ')\n",
        "  print('and then re-execute this cell.')\n",
        "else:\n",
        "  print(gpu_info)\n",
        "\n",
        "# set manual seed for reproducibility\n",
        "seed = 42\n",
        "\n",
        "# general reproducibility\n",
        "random.seed(seed)\n",
        "np.random.seed(seed)\n",
        "torch.manual_seed(seed)\n",
        "\n",
        "# gpu training specific\n",
        "torch.backends.cudnn.deterministic = True\n",
        "torch.backends.cudnn.benchmark = False"
      ],
      "execution_count": 2,
      "outputs": [
        {
          "output_type": "stream",
          "text": [
            "Tue May  4 06:28:24 2021       \n",
            "+-----------------------------------------------------------------------------+\n",
            "| NVIDIA-SMI 465.19.01    Driver Version: 460.32.03    CUDA Version: 11.2     |\n",
            "|-------------------------------+----------------------+----------------------+\n",
            "| GPU  Name        Persistence-M| Bus-Id        Disp.A | Volatile Uncorr. ECC |\n",
            "| Fan  Temp  Perf  Pwr:Usage/Cap|         Memory-Usage | GPU-Util  Compute M. |\n",
            "|                               |                      |               MIG M. |\n",
            "|===============================+======================+======================|\n",
            "|   0  Tesla P100-PCIE...  Off  | 00000000:00:04.0 Off |                    0 |\n",
            "| N/A   36C    P0    27W / 250W |      0MiB / 16280MiB |      0%      Default |\n",
            "|                               |                      |                  N/A |\n",
            "+-------------------------------+----------------------+----------------------+\n",
            "                                                                               \n",
            "+-----------------------------------------------------------------------------+\n",
            "| Processes:                                                                  |\n",
            "|  GPU   GI   CI        PID   Type   Process name                  GPU Memory |\n",
            "|        ID   ID                                                   Usage      |\n",
            "|=============================================================================|\n",
            "|  No running processes found                                                 |\n",
            "+-----------------------------------------------------------------------------+\n"
          ],
          "name": "stdout"
        }
      ]
    },
    {
      "cell_type": "markdown",
      "metadata": {
        "id": "NY4eWzGiL6Mj"
      },
      "source": [
        "## Load the CIFAR Dataset"
      ]
    },
    {
      "cell_type": "code",
      "metadata": {
        "id": "_U2SDLIqiJoQ"
      },
      "source": [
        "torch.cuda.set_device('cuda:0')"
      ],
      "execution_count": 3,
      "outputs": []
    },
    {
      "cell_type": "code",
      "metadata": {
        "id": "G649tjTXLL8F",
        "colab": {
          "base_uri": "https://localhost:8080/",
          "height": 118,
          "referenced_widgets": [
            "affa38a8a6f846aa9ca1b9ba7ac695f1",
            "02112712571346718265bdd9b3bea23b",
            "c296b350f495442aa0bea426a3c4de9c",
            "12b4378f535546e4afd66db5c39f3474",
            "8ae04dd631e24805ac8757af9b11f1d9",
            "03dfae4232654cda8daee28d36b02687",
            "46284f1ae3294bfc92fed3b0a1d167b3",
            "4b905e987f6e420f9aba4bf5036adb72"
          ]
        },
        "outputId": "2f0a480a-77e3-4492-95b9-44c4578d91ed"
      },
      "source": [
        "# create transforms\n",
        "# We will just convert to tensor and normalize since no special transforms are mentioned in the paper\n",
        "transform_train = transforms.Compose([\n",
        "    transforms.RandomCrop(32, padding=4),\n",
        "    transforms.RandomHorizontalFlip(),\n",
        "    transforms.ToTensor(),\n",
        "    transforms.Normalize((0.4914, 0.4822, 0.4465), (0.2023, 0.1994, 0.2010)),\n",
        "])\n",
        "\n",
        "# Normalize the test set same as training set without augmentation\n",
        "transform_test = transforms.Compose([\n",
        "    transforms.ToTensor(),\n",
        "    transforms.Normalize((0.4914, 0.4822, 0.4465), (0.2023, 0.1994, 0.2010)),\n",
        "])\n",
        "\n",
        "cifar_data_train = datasets.CIFAR10('../data/cifar10/', train=True, download=True, transform=transform_train)\n",
        "cifar_data_test = datasets.CIFAR10('../data/cifar10/', train=False, download=True, transform=transform_test)"
      ],
      "execution_count": 4,
      "outputs": [
        {
          "output_type": "stream",
          "text": [
            "Downloading https://www.cs.toronto.edu/~kriz/cifar-10-python.tar.gz to ../data/cifar10/cifar-10-python.tar.gz\n"
          ],
          "name": "stdout"
        },
        {
          "output_type": "display_data",
          "data": {
            "application/vnd.jupyter.widget-view+json": {
              "model_id": "affa38a8a6f846aa9ca1b9ba7ac695f1",
              "version_minor": 0,
              "version_major": 2
            },
            "text/plain": [
              "HBox(children=(FloatProgress(value=0.0, max=170498071.0), HTML(value='')))"
            ]
          },
          "metadata": {
            "tags": []
          }
        },
        {
          "output_type": "stream",
          "text": [
            "\n",
            "Extracting ../data/cifar10/cifar-10-python.tar.gz to ../data/cifar10/\n",
            "Files already downloaded and verified\n"
          ],
          "name": "stdout"
        }
      ]
    },
    {
      "cell_type": "code",
      "metadata": {
        "id": "pOtLLX66b1Ad",
        "colab": {
          "base_uri": "https://localhost:8080/"
        },
        "outputId": "6d7edab5-55ce-4477-9678-7ef8cd64872c"
      },
      "source": [
        "classes = np.array(list(cifar_data_train.class_to_idx.values()))\n",
        "classes_test = np.array(list(cifar_data_test.class_to_idx.values()))\n",
        "num_classes = len(classes_test)\n",
        "print(\"Classes: {} \\tType: {}\".format(classes, type(classes)))\n",
        "print(\"Classes Test: {} \\tType: {}\".format(classes_test, type(classes)))\n"
      ],
      "execution_count": 5,
      "outputs": [
        {
          "output_type": "stream",
          "text": [
            "Classes: [0 1 2 3 4 5 6 7 8 9] \tType: <class 'numpy.ndarray'>\n",
            "Classes Test: [0 1 2 3 4 5 6 7 8 9] \tType: <class 'numpy.ndarray'>\n"
          ],
          "name": "stdout"
        }
      ]
    },
    {
      "cell_type": "code",
      "metadata": {
        "id": "wa4TJs-AVJ2O",
        "colab": {
          "base_uri": "https://localhost:8080/"
        },
        "outputId": "e55cea9b-0f74-43f2-dbb2-61118648b34d"
      },
      "source": [
        "print(\"Image Shape: {}\".format(cifar_data_train.data[0].shape))"
      ],
      "execution_count": 6,
      "outputs": [
        {
          "output_type": "stream",
          "text": [
            "Image Shape: (32, 32, 3)\n"
          ],
          "name": "stdout"
        }
      ]
    },
    {
      "cell_type": "markdown",
      "metadata": {
        "id": "jCOONkg-zV7Y"
      },
      "source": [
        "## Visualize Data"
      ]
    },
    {
      "cell_type": "code",
      "metadata": {
        "id": "R9MK03TZw6Qs"
      },
      "source": [
        "def imshow(img):\n",
        "\t#img = img/2 + 0.5 #unnormalize the image\n",
        "\tplt.imshow(img, cmap='hsv') # convert from tensor to image"
      ],
      "execution_count": 7,
      "outputs": []
    },
    {
      "cell_type": "code",
      "metadata": {
        "id": "gMJ0Kx4Kw-_H"
      },
      "source": [
        "def visualize(dataset):\n",
        "  figure = plt.figure(figsize=(25,4))\n",
        "  for i in range(20):\n",
        "    axis = figure.add_subplot(2, 20/2, i+1, xticks=[], yticks=[])\n",
        "    data = dataset.data[i]\n",
        "    #data = data.numpy()\n",
        "\n",
        "    target = dataset.targets[i]\n",
        "    #target = target.numpy()\n",
        "    imshow(data)\n",
        "    axis.set_title(target)\n"
      ],
      "execution_count": 8,
      "outputs": []
    },
    {
      "cell_type": "code",
      "metadata": {
        "id": "8bPOwKg10Ro7",
        "colab": {
          "base_uri": "https://localhost:8080/",
          "height": 268
        },
        "outputId": "31a47001-0b06-4e4d-996d-2a5a5ef790b6"
      },
      "source": [
        "visualize(cifar_data_train)"
      ],
      "execution_count": 9,
      "outputs": [
        {
          "output_type": "display_data",
          "data": {
            "image/png": "[encoded data removed]",
            "text/plain": [
              "<Figure size 1800x288 with 20 Axes>"
            ]
          },
          "metadata": {
            "tags": []
          }
        }
      ]
    },
    {
      "cell_type": "code",
      "metadata": {
        "id": "RKoh5Cf70UYu",
        "colab": {
          "base_uri": "https://localhost:8080/",
          "height": 268
        },
        "outputId": "d4d5cfc3-2478-49db-ac91-0b2b0dbdb614"
      },
      "source": [
        "visualize(cifar_data_test)"
      ],
      "execution_count": 10,
      "outputs": [
        {
          "output_type": "display_data",
          "data": {
            "image/png": "[encoded data removed]",
            "text/plain": [
              "<Figure size 1800x288 with 20 Axes>"
            ]
          },
          "metadata": {
            "tags": []
          }
        }
      ]
    },
    {
      "cell_type": "markdown",
      "metadata": {
        "id": "ctjRsETiO1qO"
      },
      "source": [
        "## Partitioning the Data (IID and non-IID)"
      ]
    },
    {
      "cell_type": "code",
      "metadata": {
        "id": "3_v8lyrgO5dD"
      },
      "source": [
        "def iid_partition(dataset, clients):\n",
        "  \"\"\"\n",
        "  I.I.D paritioning of data over clients\n",
        "  Shuffle the data\n",
        "  Split it between clients\n",
        "  \n",
        "  params:\n",
        "    - dataset (torch.utils.Dataset): Dataset containing the CIFAR Images\n",
        "    - clients (int): Number of Clients to split the data between\n",
        "\n",
        "  returns:\n",
        "    - Dictionary of image indexes for each client\n",
        "  \"\"\"\n",
        "\n",
        "  num_items_per_client = int(len(dataset)/clients)\n",
        "  client_dict = {}\n",
        "  image_idxs = [i for i in range(len(dataset))]\n",
        "\n",
        "  for i in range(clients):\n",
        "    client_dict[i] = set(np.random.choice(image_idxs, num_items_per_client, replace=False))\n",
        "    image_idxs = list(set(image_idxs) - client_dict[i])\n",
        "\n",
        "  return client_dict"
      ],
      "execution_count": 11,
      "outputs": []
    },
    {
      "cell_type": "code",
      "metadata": {
        "id": "4zMdliGMQoSl"
      },
      "source": [
        "def non_iid_partition(dataset, clients, total_shards, shards_size, num_shards_per_client):\n",
        "  \"\"\"\n",
        "  non I.I.D parititioning of data over clients\n",
        "  Sort the data by the digit label\n",
        "  Divide the data into N shards of size S\n",
        "  Each of the clients will get X shards\n",
        "\n",
        "  params:\n",
        "    - dataset (torch.utils.Dataset): Dataset containing the CIFAR Images\n",
        "    - clients (int): Number of Clients to split the data between\n",
        "    - total_shards (int): Number of shards to partition the data in\n",
        "    - shards_size (int): Size of each shard \n",
        "    - num_shards_per_client (int): Number of shards of size shards_size that each client receives\n",
        "\n",
        "  returns:\n",
        "    - Dictionary of image indexes for each client\n",
        "  \"\"\"\n",
        "  \n",
        "  shard_idxs = [i for i in range(total_shards)]\n",
        "  client_dict = {i: np.array([], dtype='int64') for i in range(clients)}\n",
        "  idxs = np.arange(len(dataset))\n",
        "  data_labels = np.array(dataset.targets)\n",
        "\n",
        "  # sort the labels\n",
        "  label_idxs = np.vstack((idxs, data_labels))\n",
        "  label_idxs = label_idxs[:, label_idxs[1,:].argsort()]\n",
        "  idxs = label_idxs[0,:]\n",
        "\n",
        "  # divide the data into total_shards of size shards_size\n",
        "  # assign num_shards_per_client to each client\n",
        "  for i in range(clients):\n",
        "    rand_set = set(np.random.choice(shard_idxs, num_shards_per_client, replace=False))\n",
        "    shard_idxs = list(set(shard_idxs) - rand_set)\n",
        "\n",
        "    for rand in rand_set:\n",
        "      client_dict[i] = np.concatenate((client_dict[i], idxs[rand*shards_size:(rand+1)*shards_size]), axis=0)\n",
        "  \n",
        "  return client_dict\n",
        "\n",
        "\n",
        "\n"
      ],
      "execution_count": 12,
      "outputs": []
    },
    {
      "cell_type": "markdown",
      "metadata": {
        "id": "EUP_bcedcLwB"
      },
      "source": [
        "## Models"
      ]
    },
    {
      "cell_type": "code",
      "metadata": {
        "id": "CvoDNFKbZST5"
      },
      "source": [
        "class CIFAR_MLP(nn.Module):\n",
        "  def __init__(self):\n",
        "    super(CIFAR_MLP, self).__init__()\n",
        "    self.fc1 = nn.Linear(3 * 32 * 32, 2634)\n",
        "    self.fc2 = nn.Linear(2634, 2196) \n",
        "    self.fc3 = nn.Linear(2196, 1758)\n",
        "    self.fc4 = nn.Linear(1758, 1320)\n",
        "    self.fc5 = nn.Linear(1320, 882)\n",
        "    self.fc6 = nn.Linear(882, 444) \n",
        "    self.fc7 = nn.Linear(444, 10) \n",
        "\n",
        "  def forward(self, x):\n",
        "    x = x.view(-1, 3 * 32 * 32)\n",
        "    x = F.relu(self.fc1(x))\n",
        "    x = F.relu(self.fc2(x))\n",
        "    x = F.relu(self.fc3(x))\n",
        "    x = F.relu(self.fc4(x))\n",
        "    x = F.relu(self.fc5(x))\n",
        "    x = F.relu(self.fc6(x))\n",
        "\n",
        "    x = self.fc7(x)\n",
        "    return x"
      ],
      "execution_count": 13,
      "outputs": []
    },
    {
      "cell_type": "code",
      "metadata": {
        "id": "ut1hZ8x3qYPZ"
      },
      "source": [
        "class CIFAR_CNN(nn.Module):\n",
        "  def __init__(self):\n",
        "    super(CIFAR_CNN, self).__init__()\n",
        "\n",
        "    self.conv_layer = nn.Sequential(\n",
        "      nn.Conv2d(in_channels=3, out_channels=32, kernel_size=3, padding=1),\n",
        "      nn.BatchNorm2d(32),\n",
        "      nn.ReLU(inplace=True),\n",
        "      nn.Conv2d(in_channels=32, out_channels=64, kernel_size=3, padding=1),\n",
        "      nn.ReLU(inplace=True),\n",
        "      nn.MaxPool2d(kernel_size=2, stride=2),\n",
        "\n",
        "      nn.Conv2d(in_channels=64, out_channels=128, kernel_size=3, padding=1),\n",
        "      nn.BatchNorm2d(128),\n",
        "      nn.ReLU(inplace=True),\n",
        "      nn.Conv2d(in_channels=128, out_channels=128, kernel_size=3, padding=1),\n",
        "      nn.ReLU(inplace=True),\n",
        "      nn.MaxPool2d(kernel_size=2, stride=2),\n",
        "      nn.Dropout2d(p=0.05),\n",
        "\n",
        "      nn.Conv2d(in_channels=128, out_channels=256, kernel_size=3, padding=1),\n",
        "      nn.BatchNorm2d(256),\n",
        "      nn.ReLU(inplace=True),\n",
        "      nn.Conv2d(in_channels=256, out_channels=256, kernel_size=3, padding=1),\n",
        "      nn.ReLU(inplace=True),\n",
        "      nn.MaxPool2d(kernel_size=2, stride=2),\n",
        "    )\n",
        "\n",
        "    self.fc_layer = nn.Sequential(\n",
        "      nn.Dropout(p=0.1),\n",
        "      nn.Linear(4096, 1024),\n",
        "      nn.ReLU(inplace=True),\n",
        "      nn.Linear(1024, 512),\n",
        "      nn.ReLU(inplace=True),\n",
        "      nn.Dropout(p=0.1),\n",
        "      nn.Linear(512, 10)\n",
        "    )\n",
        "\n",
        "\n",
        "  def forward(self, x):      \n",
        "    # conv layers\n",
        "    x = self.conv_layer(x)\n",
        "    \n",
        "    # flatten\n",
        "    x = x.view(x.size(0), -1)\n",
        "    \n",
        "    # fc layer\n",
        "    x = self.fc_layer(x)\n",
        "\n",
        "    return x"
      ],
      "execution_count": 14,
      "outputs": []
    },
    {
      "cell_type": "markdown",
      "metadata": {
        "id": "uVv4HA9HuLtr"
      },
      "source": [
        "### Print Model Summaries"
      ]
    },
    {
      "cell_type": "code",
      "metadata": {
        "id": "-H2jR2-Id4AA",
        "colab": {
          "base_uri": "https://localhost:8080/"
        },
        "outputId": "b0243ff6-cc7f-4f7f-c307-ef7f8e278799"
      },
      "source": [
        "cifar_mlp = CIFAR_MLP()\n",
        "cifar_cnn = CIFAR_CNN()\n",
        "\n",
        "if torch.cuda.is_available():\n",
        "  cifar_mlp.cuda()\n",
        "  cifar_cnn.cuda()\n",
        "\n",
        "print(\"CIFAR MLP SUMMARY\")\n",
        "print(summary(cifar_mlp, (32,32,3)))\n",
        "\n",
        "print(\"\\nCIFAR CNN SUMMARY\")\n",
        "print(summary(cifar_cnn, (3, 32,32)))"
      ],
      "execution_count": 15,
      "outputs": [
        {
          "output_type": "stream",
          "text": [
            "CIFAR MLP SUMMARY\n",
            "----------------------------------------------------------------\n",
            "        Layer (type)               Output Shape         Param #\n",
            "================================================================\n",
            "            Linear-1                 [-1, 2634]       8,094,282\n",
            "            Linear-2                 [-1, 2196]       5,786,460\n",
            "            Linear-3                 [-1, 1758]       3,862,326\n",
            "            Linear-4                 [-1, 1320]       2,321,880\n",
            "            Linear-5                  [-1, 882]       1,165,122\n",
            "            Linear-6                  [-1, 444]         392,052\n",
            "            Linear-7                   [-1, 10]           4,450\n",
            "================================================================\n",
            "Total params: 21,626,572\n",
            "Trainable params: 21,626,572\n",
            "Non-trainable params: 0\n",
            "----------------------------------------------------------------\n",
            "Input size (MB): 0.01\n",
            "Forward/backward pass size (MB): 0.07\n",
            "Params size (MB): 82.50\n",
            "Estimated Total Size (MB): 82.58\n",
            "----------------------------------------------------------------\n",
            "None\n",
            "\n",
            "CIFAR CNN SUMMARY\n",
            "----------------------------------------------------------------\n",
            "        Layer (type)               Output Shape         Param #\n",
            "================================================================\n",
            "            Conv2d-1           [-1, 32, 32, 32]             896\n",
            "       BatchNorm2d-2           [-1, 32, 32, 32]              64\n",
            "              ReLU-3           [-1, 32, 32, 32]               0\n",
            "            Conv2d-4           [-1, 64, 32, 32]          18,496\n",
            "              ReLU-5           [-1, 64, 32, 32]               0\n",
            "         MaxPool2d-6           [-1, 64, 16, 16]               0\n",
            "            Conv2d-7          [-1, 128, 16, 16]          73,856\n",
            "       BatchNorm2d-8          [-1, 128, 16, 16]             256\n",
            "              ReLU-9          [-1, 128, 16, 16]               0\n",
            "           Conv2d-10          [-1, 128, 16, 16]         147,584\n",
            "             ReLU-11          [-1, 128, 16, 16]               0\n",
            "        MaxPool2d-12            [-1, 128, 8, 8]               0\n",
            "        Dropout2d-13            [-1, 128, 8, 8]               0\n",
            "           Conv2d-14            [-1, 256, 8, 8]         295,168\n",
            "      BatchNorm2d-15            [-1, 256, 8, 8]             512\n",
            "             ReLU-16            [-1, 256, 8, 8]               0\n",
            "           Conv2d-17            [-1, 256, 8, 8]         590,080\n",
            "             ReLU-18            [-1, 256, 8, 8]               0\n",
            "        MaxPool2d-19            [-1, 256, 4, 4]               0\n",
            "          Dropout-20                 [-1, 4096]               0\n",
            "           Linear-21                 [-1, 1024]       4,195,328\n",
            "             ReLU-22                 [-1, 1024]               0\n",
            "           Linear-23                  [-1, 512]         524,800\n",
            "             ReLU-24                  [-1, 512]               0\n",
            "          Dropout-25                  [-1, 512]               0\n",
            "           Linear-26                   [-1, 10]           5,130\n",
            "================================================================\n",
            "Total params: 5,852,170\n",
            "Trainable params: 5,852,170\n",
            "Non-trainable params: 0\n",
            "----------------------------------------------------------------\n",
            "Input size (MB): 0.01\n",
            "Forward/backward pass size (MB): 3.96\n",
            "Params size (MB): 22.32\n",
            "Estimated Total Size (MB): 26.30\n",
            "----------------------------------------------------------------\n",
            "None\n"
          ],
          "name": "stdout"
        }
      ]
    },
    {
      "cell_type": "markdown",
      "metadata": {
        "id": "gf_8XEXa-gZ7"
      },
      "source": [
        "## Federated Averaging"
      ]
    },
    {
      "cell_type": "markdown",
      "metadata": {
        "id": "L-aNdQsQ-Kvp"
      },
      "source": [
        "### Local Training (Client Update)\n",
        "\n",
        "Local training for the model on client side"
      ]
    },
    {
      "cell_type": "code",
      "metadata": {
        "id": "oX6OsQyO-Gz7"
      },
      "source": [
        "class CustomDataset(Dataset):\n",
        "  def __init__(self, dataset, idxs):\n",
        "      self.dataset = dataset\n",
        "      self.idxs = list(idxs)\n",
        "\n",
        "  def __len__(self):\n",
        "      return len(self.idxs)\n",
        "\n",
        "  def __getitem__(self, item):\n",
        "      image, label = self.dataset[self.idxs[item]]\n",
        "      return image, label\n",
        "\n",
        "\n",
        "class ClientUpdate(object):\n",
        "  def __init__(self, dataset, batchSize, learning_rate, epochs, idxs):\n",
        "    self.train_loader = DataLoader(CustomDataset(dataset, idxs), batch_size=batchSize, shuffle=True)\n",
        "\n",
        "    self.learning_rate = learning_rate\n",
        "    self.epochs = epochs\n",
        "\n",
        "  def train(self, model):\n",
        "    criterion = nn.CrossEntropyLoss()\n",
        "    optimizer = torch.optim.SGD(model.parameters(), lr=self.learning_rate, momentum=0.5)\n",
        "    # optimizer = torch.optim.Adam(model.parameters(), lr=self.learning_rate)\n",
        "\n",
        "    e_loss = []\n",
        "    for epoch in range(1, self.epochs+1):\n",
        "\n",
        "      train_loss = 0.0\n",
        "      model.train()\n",
        "      for data, labels in self.train_loader:\n",
        "\n",
        "        if torch.cuda.is_available():\n",
        "          data, labels = data.cuda(), labels.cuda()\n",
        "\n",
        "        # clear the gradients\n",
        "        optimizer.zero_grad()\n",
        "        # make a forward pass\n",
        "        output = model(data)\n",
        "        # calculate the loss\n",
        "        loss = criterion(output, labels)\n",
        "        # do a backwards pass\n",
        "        loss.backward()\n",
        "        # perform a single optimization step\n",
        "        optimizer.step()\n",
        "        # update training loss\n",
        "        train_loss += loss.item()*data.size(0)\n",
        "\n",
        "      # average losses\n",
        "      train_loss = train_loss/len(self.train_loader.dataset)\n",
        "      e_loss.append(train_loss)\n",
        "\n",
        "    total_loss = sum(e_loss)/len(e_loss)\n",
        "\n",
        "    return model.state_dict(), total_loss"
      ],
      "execution_count": 16,
      "outputs": []
    },
    {
      "cell_type": "markdown",
      "metadata": {
        "id": "Ukgh1DVHE2Ds"
      },
      "source": [
        "### Server Side Training\n",
        "\n",
        "Following Algorithm 1 from the paper"
      ]
    },
    {
      "cell_type": "code",
      "metadata": {
        "id": "1NF1e33BgpeL"
      },
      "source": [
        "def training(model, rounds, batch_size, lr, ds, ds_test, data_dict, C, K, E, plt_title, plt_color, M):\n",
        "  \"\"\"\n",
        "  Function implements the Federated Averaging Algorithm from the FedAvg paper.\n",
        "  Specifically, this function is used for the server side training and weight update\n",
        "\n",
        "  Params:\n",
        "    - model:           PyTorch model to train\n",
        "    - rounds:          Number of communication rounds for the client update\n",
        "    - batch_size:      Batch size for client update training\n",
        "    - lr:              Learning rate used for client update training\n",
        "    - ds:              Dataset used for training\n",
        "    - ds_test:         Dataset used for testing\n",
        "    - data_dict:       Type of data partition used for training (IID or non-IID)\n",
        "    - C:               Fraction of clients randomly chosen to perform computation on each round\n",
        "    - K:               Total number of clients\n",
        "    - E:               Number of training passes each client makes over its local dataset per round\n",
        "    - tb_writer_name:  Directory name to save the tensorboard logs\n",
        "  Returns:\n",
        "    - model:           Trained model on the server\n",
        "  \"\"\"\n",
        "\n",
        "  # global model weights\n",
        "  global_weights = model.state_dict()\n",
        "  num_clients = K\n",
        "  pk = np.ones(num_clients) * 1.0 / num_clients\n",
        "\n",
        "  # training loss\n",
        "  # train_accuracy = []\n",
        "  train_loss = []\n",
        "  test_accuracy = []\n",
        "  test_loss = []\n",
        "\n",
        "\n",
        "  # measure time\n",
        "  start = time.time()\n",
        "\n",
        "  for curr_round in range(1, rounds+1):\n",
        "    w, local_loss = [], []\n",
        "\n",
        "    m = max(int(C*K), 1)\n",
        "    newM = max(int(M*m), 1)\n",
        "    \n",
        "    c = 0\n",
        "    S_t = np.random.choice(range(K), m, replace=False)\n",
        "\n",
        "    for i in range(len(S_t)):\n",
        "      if c == newM:\n",
        "        break\n",
        "      c += 1\n",
        "\n",
        "      local_update = ClientUpdate(dataset=ds, batchSize=batch_size, learning_rate=lr, epochs=E, idxs=data_dict[S_t[i]])\n",
        "      weights, loss = local_update.train(model=copy.deepcopy(model))\n",
        "            \n",
        "      for k in weights.keys():\n",
        "        t = torch.Tensor(weights[k].shape).cuda()\n",
        "        t.fill_(0.1)\n",
        "        weights[k] = t     \n",
        "\n",
        "      w.append(copy.deepcopy(weights))\n",
        "      local_loss.append(copy.deepcopy(loss))\n",
        "\n",
        "    for k in range(newM, len(S_t)):\n",
        "      local_update = ClientUpdate(dataset=ds, batchSize=batch_size, learning_rate=lr, epochs=E, idxs=data_dict[S_t[k]])\n",
        "      weights, loss = local_update.train(model=copy.deepcopy(model))\n",
        "      \n",
        "      w.append(copy.deepcopy(weights))\n",
        "      local_loss.append(copy.deepcopy(loss))\n",
        "\n",
        "    target = copy.deepcopy(w[0]);\n",
        "    weights_med = copy.deepcopy(w[0]);\n",
        "    for k in weights_med.keys():\n",
        "      tmp = copy.deepcopy(torch.median(torch.stack([w[i][k].data for i in range(0, len(w))]), dim=0))[0]\n",
        "      \n",
        "      target[k].data = tmp    \n",
        "\n",
        "    global_weights = target\n",
        "    \n",
        "    # move the updated weights to our model state dict\n",
        "    model.load_state_dict(global_weights)\n",
        "\n",
        "    # loss\n",
        "    loss_avg = sum(local_loss) / len(local_loss)\n",
        "    print('Round: {}... \\tAverage Loss: {}'.format(curr_round, round(loss_avg, 3)))\n",
        "    train_loss.append(loss_avg)\n",
        "\n",
        "    # test\n",
        "    test_criterion = nn.CrossEntropyLoss()\n",
        "    test_accuracy_current, test_loss_current =  testing(copy.deepcopy(model), ds_test, 128, test_criterion, num_classes, classes_test)\n",
        "    test_accuracy.append(test_accuracy_current)\n",
        "    test_loss.append(test_loss_current)\n",
        "\n",
        "  end = time.time()\n",
        "  \n",
        "  fig, ax = plt.subplots()\n",
        "  x_axis = np.arange(1, rounds+1)\n",
        "  y_axis = np.array(train_loss)\n",
        "  ax.plot(x_axis, y_axis, 'tab:'+plt_color)\n",
        "\n",
        "  ax.set(xlabel='Number of Rounds', ylabel='Train Loss',\n",
        "       title=plt_title)\n",
        "  ax.grid()\n",
        "  fig.savefig(plt_title+'_Train_loss.jpg', format='jpg')\n",
        "  plt.show()\n",
        "\n",
        "  fig, ax = plt.subplots()\n",
        "  x_axis = np.arange(1, rounds+1)\n",
        "  y_axis = np.array(test_loss)\n",
        "  ax.plot(x_axis, y_axis, 'tab:'+plt_color)\n",
        "\n",
        "  ax.set(xlabel='Number of Rounds', ylabel='Test Loss',\n",
        "       title=plt_title)\n",
        "  ax.grid()\n",
        "  fig.savefig(plt_title+'_Test_loss.jpg', format='jpg')\n",
        "  plt.show()\n",
        "\n",
        "  fig, ax = plt.subplots()\n",
        "  x_axis = np.arange(1, rounds+1)\n",
        "  y_axis = np.array(test_accuracy)\n",
        "  ax.plot(x_axis, y_axis, 'tab:'+plt_color)\n",
        "\n",
        "  ax.set(xlabel='Number of Rounds', ylabel='Test Accuracy',\n",
        "       title=plt_title)\n",
        "  ax.grid()\n",
        "  fig.savefig(plt_title+'_Test_Accuracy.jpg', format='jpg')\n",
        "  plt.show()\n",
        "  \n",
        "  print(\"Training Done!\")\n",
        "  print(\"Total time taken to Train: {}\\n\\n\".format(end-start))\n",
        "  \n",
        "  return model, train_loss, test_accuracy, test_loss"
      ],
      "execution_count": 17,
      "outputs": []
    },
    {
      "cell_type": "markdown",
      "metadata": {
        "id": "tUYyb4T-uXmF"
      },
      "source": [
        "## Testing Loop"
      ]
    },
    {
      "cell_type": "code",
      "metadata": {
        "id": "uCcIZmO5uan9"
      },
      "source": [
        "def testing(model, dataset, bs, criterion, num_classes, classes, print_info=False):\n",
        "  #test loss \n",
        "  test_loss = 0.0\n",
        "  correct_class = list(0. for i in range(num_classes))\n",
        "  total_class = list(0. for i in range(num_classes))\n",
        "\n",
        "  test_loader = DataLoader(dataset, batch_size=bs)\n",
        "  l = len(test_loader)\n",
        "  model.eval()\n",
        "  for data, labels in test_loader:\n",
        "\n",
        "    if torch.cuda.is_available():\n",
        "      data, labels = data.cuda(), labels.cuda()\n",
        "\n",
        "    output = model(data)\n",
        "    loss = criterion(output, labels)\n",
        "    test_loss += loss.item()*data.size(0)\n",
        "\n",
        "    _, pred = torch.max(output, 1)\n",
        "\n",
        "    correct_tensor = pred.eq(labels.data.view_as(pred))\n",
        "    correct = np.squeeze(correct_tensor.numpy()) if not torch.cuda.is_available() else np.squeeze(correct_tensor.cpu().numpy())\n",
        "\n",
        "    #test accuracy for each object class\n",
        "    for i in range(num_classes):\n",
        "      label = labels.data[i]\n",
        "      correct_class[label] += correct[i].item()\n",
        "      total_class[label] += 1\n",
        "    \n",
        "  # avg test loss\n",
        "  test_loss = test_loss/len(test_loader.dataset)\n",
        "  test_accuracy = 100. * np.sum(correct_class) / np.sum(total_class)\n",
        "\n",
        "  if print_info:\n",
        "    print(\"Test Loss: {:.6f}\\n\".format(test_loss))\n",
        "\n",
        "    for i in range(10):\n",
        "      if total_class[i]>0:\n",
        "        print('Test Accuracy of %5s: %2d%% (%2d/%2d)' % \n",
        "              (classes[i], 100 * correct_class[i] / total_class[i],\n",
        "              np.sum(correct_class[i]), np.sum(total_class[i])))\n",
        "      else:\n",
        "        print('Test Accuracy of %5s: N/A (no training examples)' % (classes[i]))\n",
        "\n",
        "    print('\\nFinal Test  Accuracy: {:.3f} ({}/{})'.format(\n",
        "          100. * np.sum(correct_class) / np.sum(total_class),\n",
        "          np.sum(correct_class), np.sum(total_class)))\n",
        "  \n",
        "  return test_accuracy, test_loss"
      ],
      "execution_count": 18,
      "outputs": []
    },
    {
      "cell_type": "markdown",
      "metadata": {
        "id": "Ri0FqXFeHW-V"
      },
      "source": [
        "## Logger"
      ]
    },
    {
      "cell_type": "code",
      "metadata": {
        "id": "cMBtx9P5c1V_"
      },
      "source": [
        "log_dict = {}\n",
        "NUM_REPEAT = 2"
      ],
      "execution_count": 19,
      "outputs": []
    },
    {
      "cell_type": "markdown",
      "metadata": {
        "id": "4hO5oV6aXqeh"
      },
      "source": [
        "## CIFAR CNN on IID"
      ]
    },
    {
      "cell_type": "markdown",
      "metadata": {
        "id": "flSQv_P4zCfx"
      },
      "source": [
        "### Train\n"
      ]
    },
    {
      "cell_type": "code",
      "metadata": {
        "id": "0ZalcKZtEseA",
        "colab": {
          "base_uri": "https://localhost:8080/",
          "height": 1000
        },
        "outputId": "82ffb9b8-5025-4fd7-a2af-b73bafa9450c"
      },
      "source": [
        "train_loss_multiple_runs = [None] * NUM_REPEAT\n",
        "test_accuracy_multiple_runs = [None] * NUM_REPEAT\n",
        "test_loss_multiple_runs = [None] * NUM_REPEAT\n",
        "\n",
        "for exp_num in range(NUM_REPEAT):\n",
        "  print(\"Experiment Run Number: \", exp_num)\n",
        "\n",
        "  # number of training rounds\n",
        "  rounds = 50\n",
        "  # client fraction\n",
        "  C = 0.3\n",
        "  # number of clients\n",
        "  K = 100\n",
        "  # number of training passes on local dataset for each roung\n",
        "  E = 5\n",
        "  # batch size\n",
        "  batch_size = 10\n",
        "  # learning Rate\n",
        "  lr=0.05\n",
        "  # data partition dictionary\n",
        "  iid_dict = iid_partition(cifar_data_train, 100)\n",
        "  # load model\n",
        "  cifar_cnn = CIFAR_CNN()\n",
        "\n",
        "  if torch.cuda.is_available():\n",
        "    cifar_cnn.cuda()\n",
        "\n",
        "  cifar_cnn_iid_trained, train_loss, test_accuracy, test_loss = training(cifar_cnn, rounds, batch_size, lr, cifar_data_train, cifar_data_test, iid_dict, C, K, E, \"CIFAR CNN on IID Dataset\", \"orange\", 0.01)\n",
        "\n",
        "  train_loss_multiple_runs[exp_num] = train_loss\n",
        "  test_accuracy_multiple_runs[exp_num] = test_accuracy\n",
        "  test_loss_multiple_runs[exp_num] = test_loss\n",
        "\n",
        "  del cifar_cnn_iid_trained\n",
        "  torch.cuda.empty_cache()"
      ],
      "execution_count": 20,
      "outputs": [
        {
          "output_type": "stream",
          "text": [
            "Experiment Run Number:  0\n",
            "Round: 1... \tAverage Loss: 2.13\n",
            "Round: 2... \tAverage Loss: 2.022\n",
            "Round: 3... \tAverage Loss: 1.915\n",
            "Round: 4... \tAverage Loss: 1.824\n",
            "Round: 5... \tAverage Loss: 1.734\n",
            "Round: 6... \tAverage Loss: 1.672\n",
            "Round: 7... \tAverage Loss: 1.603\n",
            "Round: 8... \tAverage Loss: 1.546\n",
            "Round: 9... \tAverage Loss: 1.484\n",
            "Round: 10... \tAverage Loss: 1.419\n",
            "Round: 11... \tAverage Loss: 1.37\n",
            "Round: 12... \tAverage Loss: 1.324\n",
            "Round: 13... \tAverage Loss: 1.276\n",
            "Round: 14... \tAverage Loss: 1.218\n",
            "Round: 15... \tAverage Loss: 1.163\n",
            "Round: 16... \tAverage Loss: 1.127\n",
            "Round: 17... \tAverage Loss: 1.078\n",
            "Round: 18... \tAverage Loss: 1.036\n",
            "Round: 19... \tAverage Loss: 1.013\n",
            "Round: 20... \tAverage Loss: 0.972\n",
            "Round: 21... \tAverage Loss: 0.956\n",
            "Round: 22... \tAverage Loss: 0.908\n",
            "Round: 23... \tAverage Loss: 0.881\n",
            "Round: 24... \tAverage Loss: 0.847\n",
            "Round: 25... \tAverage Loss: 0.812\n",
            "Round: 26... \tAverage Loss: 0.787\n",
            "Round: 27... \tAverage Loss: 0.755\n",
            "Round: 28... \tAverage Loss: 0.74\n",
            "Round: 29... \tAverage Loss: 0.719\n",
            "Round: 30... \tAverage Loss: 0.698\n",
            "Round: 31... \tAverage Loss: 0.69\n",
            "Round: 32... \tAverage Loss: 0.651\n",
            "Round: 33... \tAverage Loss: 0.652\n",
            "Round: 34... \tAverage Loss: 0.622\n",
            "Round: 35... \tAverage Loss: 0.607\n",
            "Round: 36... \tAverage Loss: 0.613\n",
            "Round: 37... \tAverage Loss: 0.584\n",
            "Round: 38... \tAverage Loss: 0.569\n",
            "Round: 39... \tAverage Loss: 0.565\n",
            "Round: 40... \tAverage Loss: 0.561\n",
            "Round: 41... \tAverage Loss: 0.548\n",
            "Round: 42... \tAverage Loss: 0.524\n",
            "Round: 43... \tAverage Loss: 0.51\n",
            "Round: 44... \tAverage Loss: 0.515\n",
            "Round: 45... \tAverage Loss: 0.498\n",
            "Round: 46... \tAverage Loss: 0.492\n",
            "Round: 47... \tAverage Loss: 0.479\n",
            "Round: 48... \tAverage Loss: 0.471\n",
            "Round: 49... \tAverage Loss: 0.46\n",
            "Round: 50... \tAverage Loss: 0.454\n"
          ],
          "name": "stdout"
        },
        {
          "output_type": "display_data",
          "data": {
            "image/png": "[encoded data removed]",
            "text/plain": [
              "<Figure size 432x288 with 1 Axes>"
            ]
          },
          "metadata": {
            "tags": [],
            "needs_background": "light"
          }
        },
        {
          "output_type": "display_data",
          "data": {
            "image/png": "[encoded data removed]",
            "text/plain": [
              "<Figure size 432x288 with 1 Axes>"
            ]
          },
          "metadata": {
            "tags": [],
            "needs_background": "light"
          }
        },
        {
          "output_type": "display_data",
          "data": {
            "image/png": "[encoded data removed]",
            "text/plain": [
              "<Figure size 432x288 with 1 Axes>"
            ]
          },
          "metadata": {
            "tags": [],
            "needs_background": "light"
          }
        },
        {
          "output_type": "stream",
          "text": [
            "Training Done!\n",
            "Total time taken to Train: 3675.37544798851\n",
            "\n",
            "\n",
            "Experiment Run Number:  1\n",
            "Round: 1... \tAverage Loss: 2.119\n",
            "Round: 2... \tAverage Loss: 2.026\n",
            "Round: 3... \tAverage Loss: 1.929\n",
            "Round: 4... \tAverage Loss: 1.839\n",
            "Round: 5... \tAverage Loss: 1.77\n",
            "Round: 6... \tAverage Loss: 1.695\n",
            "Round: 7... \tAverage Loss: 1.626\n",
            "Round: 8... \tAverage Loss: 1.567\n",
            "Round: 9... \tAverage Loss: 1.5\n",
            "Round: 10... \tAverage Loss: 1.445\n",
            "Round: 11... \tAverage Loss: 1.398\n",
            "Round: 12... \tAverage Loss: 1.336\n",
            "Round: 13... \tAverage Loss: 1.29\n",
            "Round: 14... \tAverage Loss: 1.233\n",
            "Round: 15... \tAverage Loss: 1.187\n",
            "Round: 16... \tAverage Loss: 1.14\n",
            "Round: 17... \tAverage Loss: 1.089\n",
            "Round: 18... \tAverage Loss: 1.063\n",
            "Round: 19... \tAverage Loss: 1.004\n",
            "Round: 20... \tAverage Loss: 0.981\n",
            "Round: 21... \tAverage Loss: 0.947\n",
            "Round: 22... \tAverage Loss: 0.91\n",
            "Round: 23... \tAverage Loss: 0.886\n",
            "Round: 24... \tAverage Loss: 0.853\n",
            "Round: 25... \tAverage Loss: 0.823\n",
            "Round: 26... \tAverage Loss: 0.804\n",
            "Round: 27... \tAverage Loss: 0.776\n",
            "Round: 28... \tAverage Loss: 0.757\n",
            "Round: 29... \tAverage Loss: 0.751\n",
            "Round: 30... \tAverage Loss: 0.718\n",
            "Round: 31... \tAverage Loss: 0.691\n",
            "Round: 32... \tAverage Loss: 0.685\n",
            "Round: 33... \tAverage Loss: 0.654\n",
            "Round: 34... \tAverage Loss: 0.649\n",
            "Round: 35... \tAverage Loss: 0.626\n",
            "Round: 36... \tAverage Loss: 0.622\n",
            "Round: 37... \tAverage Loss: 0.602\n",
            "Round: 38... \tAverage Loss: 0.587\n",
            "Round: 39... \tAverage Loss: 0.579\n",
            "Round: 40... \tAverage Loss: 0.554\n",
            "Round: 41... \tAverage Loss: 0.545\n",
            "Round: 42... \tAverage Loss: 0.555\n",
            "Round: 43... \tAverage Loss: 0.532\n",
            "Round: 44... \tAverage Loss: 0.517\n",
            "Round: 45... \tAverage Loss: 0.513\n",
            "Round: 46... \tAverage Loss: 0.5\n",
            "Round: 47... \tAverage Loss: 0.501\n",
            "Round: 48... \tAverage Loss: 0.476\n",
            "Round: 49... \tAverage Loss: 0.48\n",
            "Round: 50... \tAverage Loss: 0.47\n"
          ],
          "name": "stdout"
        },
        {
          "output_type": "display_data",
          "data": {
            "image/png": "[encoded data removed]",
            "text/plain": [
              "<Figure size 432x288 with 1 Axes>"
            ]
          },
          "metadata": {
            "tags": [],
            "needs_background": "light"
          }
        },
        {
          "output_type": "display_data",
          "data": {
            "image/png": "[encoded data removed]",
            "text/plain": [
              "<Figure size 432x288 with 1 Axes>"
            ]
          },
          "metadata": {
            "tags": [],
            "needs_background": "light"
          }
        },
        {
          "output_type": "display_data",
          "data": {
            "image/png": "[encoded data removed]",
            "text/plain": [
              "<Figure size 432x288 with 1 Axes>"
            ]
          },
          "metadata": {
            "tags": [],
            "needs_background": "light"
          }
        },
        {
          "output_type": "stream",
          "text": [
            "Training Done!\n",
            "Total time taken to Train: 3670.7251029014587\n",
            "\n",
            "\n"
          ],
          "name": "stdout"
        }
      ]
    },
    {
      "cell_type": "markdown",
      "metadata": {
        "id": "wNwC82przF6G"
      },
      "source": [
        "### Test"
      ]
    },
    {
      "cell_type": "code",
      "metadata": {
        "id": "qB97BFs9we9w"
      },
      "source": [
        "# criterion = nn.CrossEntropyLoss()\n",
        "# acc, loss = testing(cifar_cnn_iid_trained, cifar_data_test, 128, criterion, num_classes, classes_test, True)"
      ],
      "execution_count": 21,
      "outputs": []
    },
    {
      "cell_type": "code",
      "metadata": {
        "id": "gdQZEZmHHeqt"
      },
      "source": [
        "hyperparams = {'rounds': rounds,\n",
        "               'C': C,\n",
        "               'K': K,\n",
        "               'E': E,\n",
        "               'batch_size': batch_size,\n",
        "               'lr': lr,\n",
        "               }\n",
        "\n",
        "log_dict['CIFAR CNN on IID'] = {'train_loss': train_loss_multiple_runs, \n",
        "                                'test_loss': test_loss_multiple_runs, \n",
        "                                'test_accuracy': test_accuracy_multiple_runs,\n",
        "                                'hyperparams': hyperparams,\n",
        "                                }"
      ],
      "execution_count": 22,
      "outputs": []
    },
    {
      "cell_type": "markdown",
      "metadata": {
        "id": "uF8MdSIUYcnl"
      },
      "source": [
        "## CIFAR CNN on Non IID"
      ]
    },
    {
      "cell_type": "markdown",
      "metadata": {
        "id": "a6wXX7JW11bx"
      },
      "source": [
        "### Train\n"
      ]
    },
    {
      "cell_type": "code",
      "metadata": {
        "id": "fCD3kBCKYfBK",
        "colab": {
          "base_uri": "https://localhost:8080/",
          "height": 1000
        },
        "outputId": "0ddf5731-52d7-431d-a6b6-f274e09d8f55"
      },
      "source": [
        "train_loss_multiple_runs = [None] * NUM_REPEAT\n",
        "test_accuracy_multiple_runs = [None] * NUM_REPEAT\n",
        "test_loss_multiple_runs = [None] * NUM_REPEAT\n",
        "\n",
        "for exp_num in range(NUM_REPEAT):\n",
        "  print(\"Experiment Run Number: \", exp_num)\n",
        "\n",
        "  # number of training rounds\n",
        "  rounds = 50\n",
        "  # client fraction\n",
        "  C = 0.3\n",
        "  # number of clients\n",
        "  K = 100\n",
        "  # number of training passes on local dataset for each roung\n",
        "  E = 5\n",
        "  # batch size\n",
        "  batch_size = 10\n",
        "  # learning Rate\n",
        "  lr=0.05\n",
        "  # dict containing different type of data partition\n",
        "  data_dict = non_iid_partition(cifar_data_train, 100, 200, 250, 2)\n",
        "  # load model\n",
        "  cifar_cnn = CIFAR_CNN()\n",
        "\n",
        "  if torch.cuda.is_available():\n",
        "    cifar_cnn.cuda()\n",
        " \n",
        "  cifar_cnn_non_iid_trained, train_loss, test_accuracy, test_loss = training(cifar_cnn, rounds, batch_size, lr, cifar_data_train, cifar_data_test, data_dict, C, K, E, \"CIFAR CNN on Non-IID Dataset\", \"green\", 0.01)\n",
        "\n",
        "  train_loss_multiple_runs[exp_num] = train_loss\n",
        "  test_accuracy_multiple_runs[exp_num] = test_accuracy\n",
        "  test_loss_multiple_runs[exp_num] = test_loss\n",
        "\n",
        "  del cifar_cnn_non_iid_trained\n",
        "  torch.cuda.empty_cache()"
      ],
      "execution_count": 23,
      "outputs": [
        {
          "output_type": "stream",
          "text": [
            "Experiment Run Number:  0\n",
            "Round: 1... \tAverage Loss: 0.624\n",
            "Round: 2... \tAverage Loss: 0.593\n",
            "Round: 3... \tAverage Loss: 0.59\n",
            "Round: 4... \tAverage Loss: 0.474\n",
            "Round: 5... \tAverage Loss: 0.498\n",
            "Round: 6... \tAverage Loss: 0.477\n",
            "Round: 7... \tAverage Loss: 0.466\n",
            "Round: 8... \tAverage Loss: 0.433\n",
            "Round: 9... \tAverage Loss: 0.393\n",
            "Round: 10... \tAverage Loss: 0.394\n",
            "Round: 11... \tAverage Loss: 0.435\n",
            "Round: 12... \tAverage Loss: 0.388\n",
            "Round: 13... \tAverage Loss: 0.428\n",
            "Round: 14... \tAverage Loss: 0.38\n",
            "Round: 15... \tAverage Loss: 0.401\n",
            "Round: 16... \tAverage Loss: 0.274\n",
            "Round: 17... \tAverage Loss: 0.332\n",
            "Round: 18... \tAverage Loss: 0.385\n",
            "Round: 19... \tAverage Loss: 0.343\n",
            "Round: 20... \tAverage Loss: 0.386\n",
            "Round: 21... \tAverage Loss: 0.323\n",
            "Round: 22... \tAverage Loss: 0.339\n",
            "Round: 23... \tAverage Loss: 0.345\n",
            "Round: 24... \tAverage Loss: 0.332\n",
            "Round: 25... \tAverage Loss: 0.306\n",
            "Round: 26... \tAverage Loss: 0.299\n",
            "Round: 27... \tAverage Loss: 0.325\n",
            "Round: 28... \tAverage Loss: 0.348\n",
            "Round: 29... \tAverage Loss: 0.296\n",
            "Round: 30... \tAverage Loss: 0.282\n",
            "Round: 31... \tAverage Loss: 0.306\n",
            "Round: 32... \tAverage Loss: 0.256\n",
            "Round: 33... \tAverage Loss: 0.266\n",
            "Round: 34... \tAverage Loss: 0.261\n",
            "Round: 35... \tAverage Loss: 0.295\n",
            "Round: 36... \tAverage Loss: 0.219\n",
            "Round: 37... \tAverage Loss: 0.215\n",
            "Round: 38... \tAverage Loss: 0.221\n",
            "Round: 39... \tAverage Loss: 0.23\n",
            "Round: 40... \tAverage Loss: 0.258\n",
            "Round: 41... \tAverage Loss: 0.274\n",
            "Round: 42... \tAverage Loss: 0.242\n",
            "Round: 43... \tAverage Loss: 0.214\n",
            "Round: 44... \tAverage Loss: 0.219\n",
            "Round: 45... \tAverage Loss: 0.25\n",
            "Round: 46... \tAverage Loss: 0.258\n",
            "Round: 47... \tAverage Loss: 0.264\n",
            "Round: 48... \tAverage Loss: 0.27\n",
            "Round: 49... \tAverage Loss: 0.246\n",
            "Round: 50... \tAverage Loss: 0.263\n"
          ],
          "name": "stdout"
        },
        {
          "output_type": "display_data",
          "data": {
            "image/png": "[encoded data removed]",
            "text/plain": [
              "<Figure size 432x288 with 1 Axes>"
            ]
          },
          "metadata": {
            "tags": [],
            "needs_background": "light"
          }
        },
        {
          "output_type": "display_data",
          "data": {
            "image/png": "[encoded data removed]",
            "text/plain": [
              "<Figure size 432x288 with 1 Axes>"
            ]
          },
          "metadata": {
            "tags": [],
            "needs_background": "light"
          }
        },
        {
          "output_type": "display_data",
          "data": {
            "image/png": "[encoded data removed]",
            "text/plain": [
              "<Figure size 432x288 with 1 Axes>"
            ]
          },
          "metadata": {
            "tags": [],
            "needs_background": "light"
          }
        },
        {
          "output_type": "stream",
          "text": [
            "Training Done!\n",
            "Total time taken to Train: 3651.135891675949\n",
            "\n",
            "\n",
            "Experiment Run Number:  1\n",
            "Round: 1... \tAverage Loss: 0.575\n",
            "Round: 2... \tAverage Loss: 0.587\n",
            "Round: 3... \tAverage Loss: 0.579\n",
            "Round: 4... \tAverage Loss: 0.466\n",
            "Round: 5... \tAverage Loss: 0.468\n",
            "Round: 6... \tAverage Loss: 0.454\n",
            "Round: 7... \tAverage Loss: 0.457\n",
            "Round: 8... \tAverage Loss: 0.395\n",
            "Round: 9... \tAverage Loss: 0.393\n",
            "Round: 10... \tAverage Loss: 0.305\n",
            "Round: 11... \tAverage Loss: 0.469\n",
            "Round: 12... \tAverage Loss: 0.414\n",
            "Round: 13... \tAverage Loss: 0.339\n",
            "Round: 14... \tAverage Loss: 0.394\n",
            "Round: 15... \tAverage Loss: 0.38\n",
            "Round: 16... \tAverage Loss: 0.343\n",
            "Round: 17... \tAverage Loss: 0.393\n",
            "Round: 18... \tAverage Loss: 0.322\n",
            "Round: 19... \tAverage Loss: 0.359\n",
            "Round: 20... \tAverage Loss: 0.283\n",
            "Round: 21... \tAverage Loss: 0.288\n",
            "Round: 22... \tAverage Loss: 0.333\n",
            "Round: 23... \tAverage Loss: 0.337\n",
            "Round: 24... \tAverage Loss: 0.284\n",
            "Round: 25... \tAverage Loss: 0.338\n",
            "Round: 26... \tAverage Loss: 0.278\n",
            "Round: 27... \tAverage Loss: 0.263\n",
            "Round: 28... \tAverage Loss: 0.323\n",
            "Round: 29... \tAverage Loss: 0.31\n",
            "Round: 30... \tAverage Loss: 0.269\n",
            "Round: 31... \tAverage Loss: 0.292\n",
            "Round: 32... \tAverage Loss: 0.274\n",
            "Round: 33... \tAverage Loss: 0.298\n",
            "Round: 34... \tAverage Loss: 0.285\n",
            "Round: 35... \tAverage Loss: 0.285\n",
            "Round: 36... \tAverage Loss: 0.295\n",
            "Round: 37... \tAverage Loss: 0.198\n",
            "Round: 38... \tAverage Loss: 0.284\n",
            "Round: 39... \tAverage Loss: 0.255\n",
            "Round: 40... \tAverage Loss: 0.325\n",
            "Round: 41... \tAverage Loss: 0.232\n",
            "Round: 42... \tAverage Loss: 0.282\n",
            "Round: 43... \tAverage Loss: 0.224\n",
            "Round: 44... \tAverage Loss: 0.254\n",
            "Round: 45... \tAverage Loss: 0.246\n",
            "Round: 46... \tAverage Loss: 0.242\n",
            "Round: 47... \tAverage Loss: 0.266\n",
            "Round: 48... \tAverage Loss: 0.239\n",
            "Round: 49... \tAverage Loss: 0.199\n",
            "Round: 50... \tAverage Loss: 0.226\n"
          ],
          "name": "stdout"
        },
        {
          "output_type": "display_data",
          "data": {
            "image/png": "[encoded data removed]",
            "text/plain": [
              "<Figure size 432x288 with 1 Axes>"
            ]
          },
          "metadata": {
            "tags": [],
            "needs_background": "light"
          }
        },
        {
          "output_type": "display_data",
          "data": {
            "image/png": "[encoded data removed]",
            "text/plain": [
              "<Figure size 432x288 with 1 Axes>"
            ]
          },
          "metadata": {
            "tags": [],
            "needs_background": "light"
          }
        },
        {
          "output_type": "display_data",
          "data": {
            "image/png": "[encoded data removed]",
            "text/plain": [
              "<Figure size 432x288 with 1 Axes>"
            ]
          },
          "metadata": {
            "tags": [],
            "needs_background": "light"
          }
        },
        {
          "output_type": "stream",
          "text": [
            "Training Done!\n",
            "Total time taken to Train: 3690.583430290222\n",
            "\n",
            "\n"
          ],
          "name": "stdout"
        }
      ]
    },
    {
      "cell_type": "markdown",
      "metadata": {
        "id": "4C68J-Kk14dB"
      },
      "source": [
        "### Test"
      ]
    },
    {
      "cell_type": "code",
      "metadata": {
        "id": "_yQ9GiAZ15jE"
      },
      "source": [
        "# criterion = nn.CrossEntropyLoss()\n",
        "# acc, loss = testing(cifar_cnn_non_iid_trained, cifar_data_test, 128, criterion, num_classes, classes_test, True)"
      ],
      "execution_count": 24,
      "outputs": []
    },
    {
      "cell_type": "code",
      "metadata": {
        "id": "dxMcxgLhLvX-"
      },
      "source": [
        "hyperparams = {'rounds': rounds,\n",
        "               'C': C,\n",
        "               'K': K,\n",
        "               'E': E,\n",
        "               'batch_size': batch_size,\n",
        "               'lr': lr,\n",
        "               }\n",
        "\n",
        "log_dict['CIFAR CNN on Non IID'] = {'train_loss': train_loss_multiple_runs, \n",
        "                                'test_loss': test_loss_multiple_runs, \n",
        "                                'test_accuracy': test_accuracy_multiple_runs,\n",
        "                                'hyperparams': hyperparams,\n",
        "                                }"
      ],
      "execution_count": 25,
      "outputs": []
    },
    {
      "cell_type": "markdown",
      "metadata": {
        "id": "ptMieSimVxid"
      },
      "source": [
        "## CIFAR MLP on IID"
      ]
    },
    {
      "cell_type": "markdown",
      "metadata": {
        "id": "mz3f_fOxVxie"
      },
      "source": [
        "### Train"
      ]
    },
    {
      "cell_type": "code",
      "metadata": {
        "id": "5ZGAZPhtVxie"
      },
      "source": [
        "# train_loss_multiple_runs = [None] * NUM_REPEAT\n",
        "# test_accuracy_multiple_runs = [None] * NUM_REPEAT\n",
        "# test_loss_multiple_runs = [None] * NUM_REPEAT\n",
        "\n",
        "# for exp_num in range(NUM_REPEAT):\n",
        "#   print(\"Experiment Run Number: \", exp_num)\n",
        "\n",
        "#   # number of training rounds\n",
        "#   rounds = 50\n",
        "#   # client fraction\n",
        "#   C = 0.1\n",
        "#   # number of clients\n",
        "#   K = 100\n",
        "#   # number of training passes on local dataset for each round\n",
        "#   E = 5\n",
        "#   # batch size\n",
        "#   batch_size = 10\n",
        "#   # learning Rate\n",
        "#   lr=0.05\n",
        "#   # dict containing different type of data partition\n",
        "#   data_dict = iid_partition(cifar_data_train, 100)\n",
        "#   # load model\n",
        "#   cifar_mlp = CIFAR_MLP()\n",
        "\n",
        "#   if torch.cuda.is_available():\n",
        "#     cifar_mlp.cuda()\n",
        "\n",
        "#   cifar_mlp_iid_trained, train_loss, test_accuracy, test_loss = training(cifar_mlp, rounds, batch_size, lr, cifar_data_train, cifar_data_test, data_dict, C, K, E, \"CIFAR MLP on IID Dataset\", \"orange\", 0.01)\n",
        "  \n",
        "#   train_loss_multiple_runs[exp_num] = train_loss\n",
        "#   test_accuracy_multiple_runs[exp_num] = test_accuracy\n",
        "#   test_loss_multiple_runs[exp_num] = test_loss\n",
        "\n",
        "#   del cifar_mlp_iid_trained\n",
        "#   torch.cuda.empty_cache()"
      ],
      "execution_count": 26,
      "outputs": []
    },
    {
      "cell_type": "markdown",
      "metadata": {
        "id": "aTBsL3-72PPd"
      },
      "source": [
        "### Test"
      ]
    },
    {
      "cell_type": "code",
      "metadata": {
        "id": "a9G4j5L62OrS"
      },
      "source": [
        "# criterion = nn.CrossEntropyLoss()\n",
        "# acc, loss = testing(cifar_mlp_iid_trained, cifar_data_test, 128, criterion, num_classes, classes_test, True)"
      ],
      "execution_count": 27,
      "outputs": []
    },
    {
      "cell_type": "code",
      "metadata": {
        "id": "fWCdJFRCL_f2"
      },
      "source": [
        "# hyperparams = {'rounds': rounds,\n",
        "#                'C': C,\n",
        "#                'K': K,\n",
        "#                'E': E,\n",
        "#                'batch_size': batch_size,\n",
        "#                'lr': lr,\n",
        "#                }\n",
        "\n",
        "# log_dict['CIFAR MLP on IID'] = {'train_loss': train_loss_multiple_runs, \n",
        "#                                 'test_loss': test_loss_multiple_runs, \n",
        "#                                 'test_accuracy': test_accuracy_multiple_runs,\n",
        "#                                 'hyperparams': hyperparams,\n",
        "#                                 }"
      ],
      "execution_count": 28,
      "outputs": []
    },
    {
      "cell_type": "markdown",
      "metadata": {
        "id": "J8jzEyO0iywz"
      },
      "source": [
        "## CIFAR MLP on Non IID"
      ]
    },
    {
      "cell_type": "markdown",
      "metadata": {
        "id": "pJFepr3y2bF-"
      },
      "source": [
        "### Train"
      ]
    },
    {
      "cell_type": "code",
      "metadata": {
        "id": "EBKO44Hgi1Uh"
      },
      "source": [
        "# train_loss_multiple_runs = [None] * NUM_REPEAT\n",
        "# test_accuracy_multiple_runs = [None] * NUM_REPEAT\n",
        "# test_loss_multiple_runs = [None] * NUM_REPEAT\n",
        "\n",
        "# for exp_num in range(NUM_REPEAT):\n",
        "#   print(\"Experiment Run Number: \", exp_num)\n",
        "  \n",
        "#   # number of training rounds\n",
        "#   rounds = 50\n",
        "#   # client fraction\n",
        "#   C = 0.1\n",
        "#   # number of clients\n",
        "#   K = 100\n",
        "#   # number of training passes on local dataset for each roung\n",
        "#   E = 5\n",
        "#   # batch size\n",
        "#   batch_size = 10\n",
        "#   # learning Rate\n",
        "#   lr=0.05\n",
        "#   # dict containing different type of data partition\n",
        "#   data_dict = non_iid_partition(cifar_data_train, 100, 200, 250, 2)\n",
        "#   # load model\n",
        "#   cifar_mlp = CIFAR_MLP()\n",
        "\n",
        "#   if torch.cuda.is_available():\n",
        "#     cifar_mlp.cuda()\n",
        "\n",
        "#   cifar_mlp_non_iid_trained, train_loss, test_accuracy, test_loss = training(cifar_mlp, rounds, batch_size, lr, cifar_data_train, cifar_data_test, data_dict, C, K, E, \"CIFAR MLP on Non-IID Dataset\", \"green\", 0.01)\n",
        "\n",
        "#   train_loss_multiple_runs[exp_num] = train_loss\n",
        "#   test_accuracy_multiple_runs[exp_num] = test_accuracy\n",
        "#   test_loss_multiple_runs[exp_num] = test_loss\n",
        "    \n",
        "#   del cifar_mlp_iid_trained\n",
        "#   torch.cuda.empty_cache()"
      ],
      "execution_count": 29,
      "outputs": []
    },
    {
      "cell_type": "markdown",
      "metadata": {
        "id": "jmuQYPbF2mes"
      },
      "source": [
        "### Test"
      ]
    },
    {
      "cell_type": "code",
      "metadata": {
        "id": "0tKMlJyF2nGN"
      },
      "source": [
        "# criterion = nn.CrossEntropyLoss()\n",
        "# acc, loss = testing(cifar_mlp_non_iid_trained, cifar_data_test, 128, criterion, num_classes, classes_test, True)"
      ],
      "execution_count": 30,
      "outputs": []
    },
    {
      "cell_type": "code",
      "metadata": {
        "id": "1W5krYcSMQiu"
      },
      "source": [
        "# hyperparams = {'rounds': rounds,\n",
        "#                'C': C,\n",
        "#                'K': K,\n",
        "#                'E': E,\n",
        "#                'batch_size': batch_size,\n",
        "#                'lr': lr,\n",
        "#                }\n",
        "\n",
        "# log_dict['CIFAR MLP on Non IID'] = {'train_loss': train_loss_multiple_runs, \n",
        "#                                 'test_loss': test_loss_multiple_runs, \n",
        "#                                 'test_accuracy': test_accuracy_multiple_runs,\n",
        "#                                 'hyperparams': hyperparams,\n",
        "#                                 }"
      ],
      "execution_count": 31,
      "outputs": []
    },
    {
      "cell_type": "markdown",
      "metadata": {
        "id": "emS_SaRAP6TZ"
      },
      "source": [
        "## Pickle Log"
      ]
    },
    {
      "cell_type": "code",
      "metadata": {
        "id": "soAN38JoP0c1"
      },
      "source": [
        "import pickle\n",
        "\n",
        "with open(path + 'cfmFedMed_0.3.pkl', 'wb') as file:\n",
        "  pickle.dump(log_dict, file)"
      ],
      "execution_count": 32,
      "outputs": []
    },
    {
      "cell_type": "code",
      "metadata": {
        "id": "2UBy-JswSoCJ",
        "colab": {
          "base_uri": "https://localhost:8080/"
        },
        "outputId": "e7c9b8a3-7650-4231-f647-cd6639614e0b"
      },
      "source": [
        "log_dict"
      ],
      "execution_count": 33,
      "outputs": [
        {
          "output_type": "execute_result",
          "data": {
            "text/plain": [
              "{'CIFAR CNN on IID': {'hyperparams': {'C': 0.3,\n",
              "   'E': 5,\n",
              "   'K': 100,\n",
              "   'batch_size': 10,\n",
              "   'lr': 0.05,\n",
              "   'rounds': 50},\n",
              "  'test_accuracy': [[10.126582278481013,\n",
              "    23.417721518987342,\n",
              "    37.34177215189873,\n",
              "    41.77215189873418,\n",
              "    44.43037974683544,\n",
              "    47.34177215189873,\n",
              "    50.25316455696203,\n",
              "    50.75949367088607,\n",
              "    53.037974683544306,\n",
              "    54.43037974683544,\n",
              "    57.21518987341772,\n",
              "    58.734177215189874,\n",
              "    60.63291139240506,\n",
              "    61.139240506329116,\n",
              "    61.51898734177215,\n",
              "    64.68354430379746,\n",
              "    66.45569620253164,\n",
              "    68.22784810126582,\n",
              "    68.9873417721519,\n",
              "    68.86075949367088,\n",
              "    70.37974683544304,\n",
              "    70.75949367088607,\n",
              "    71.77215189873418,\n",
              "    72.78481012658227,\n",
              "    73.92405063291139,\n",
              "    73.67088607594937,\n",
              "    74.0506329113924,\n",
              "    75.18987341772151,\n",
              "    76.32911392405063,\n",
              "    75.31645569620254,\n",
              "    76.20253164556962,\n",
              "    76.32911392405063,\n",
              "    77.46835443037975,\n",
              "    77.84810126582279,\n",
              "    78.73417721518987,\n",
              "    78.73417721518987,\n",
              "    78.22784810126582,\n",
              "    78.73417721518987,\n",
              "    78.73417721518987,\n",
              "    79.11392405063292,\n",
              "    78.9873417721519,\n",
              "    79.11392405063292,\n",
              "    80.63291139240506,\n",
              "    80.37974683544304,\n",
              "    80.88607594936708,\n",
              "    80.75949367088607,\n",
              "    81.89873417721519,\n",
              "    82.40506329113924,\n",
              "    80.88607594936708,\n",
              "    81.89873417721519],\n",
              "   [10.126582278481013,\n",
              "    31.89873417721519,\n",
              "    37.21518987341772,\n",
              "    38.860759493670884,\n",
              "    43.164556962025316,\n",
              "    46.70886075949367,\n",
              "    49.49367088607595,\n",
              "    52.151898734177216,\n",
              "    52.91139240506329,\n",
              "    54.936708860759495,\n",
              "    56.20253164556962,\n",
              "    58.48101265822785,\n",
              "    58.860759493670884,\n",
              "    62.151898734177216,\n",
              "    63.54430379746835,\n",
              "    64.55696202531645,\n",
              "    64.30379746835443,\n",
              "    68.10126582278481,\n",
              "    67.72151898734177,\n",
              "    68.73417721518987,\n",
              "    69.36708860759494,\n",
              "    70.75949367088607,\n",
              "    71.26582278481013,\n",
              "    71.51898734177215,\n",
              "    71.39240506329114,\n",
              "    72.15189873417721,\n",
              "    73.67088607594937,\n",
              "    75.31645569620254,\n",
              "    74.17721518987342,\n",
              "    74.17721518987342,\n",
              "    74.43037974683544,\n",
              "    73.0379746835443,\n",
              "    75.9493670886076,\n",
              "    76.58227848101266,\n",
              "    76.07594936708861,\n",
              "    76.58227848101266,\n",
              "    76.32911392405063,\n",
              "    76.45569620253164,\n",
              "    77.84810126582279,\n",
              "    78.48101265822785,\n",
              "    79.11392405063292,\n",
              "    80.0,\n",
              "    80.63291139240506,\n",
              "    80.37974683544304,\n",
              "    80.75949367088607,\n",
              "    80.88607594936708,\n",
              "    81.26582278481013,\n",
              "    82.0253164556962,\n",
              "    82.40506329113924,\n",
              "    82.53164556962025]],\n",
              "  'test_loss': [[2.291800065994263,\n",
              "    2.0338466133117676,\n",
              "    1.8077909772872924,\n",
              "    1.6583158967971803,\n",
              "    1.5725169960021972,\n",
              "    1.4827973037719726,\n",
              "    1.398439169883728,\n",
              "    1.349125870704651,\n",
              "    1.2866651245117187,\n",
              "    1.238911190032959,\n",
              "    1.188936781692505,\n",
              "    1.1482001556396484,\n",
              "    1.0881763011932373,\n",
              "    1.0666973421096801,\n",
              "    1.0483299489974975,\n",
              "    0.9911286987304687,\n",
              "    0.9607801494598389,\n",
              "    0.9442592164993286,\n",
              "    0.9102103465080261,\n",
              "    0.8907465134620667,\n",
              "    0.8562427475929261,\n",
              "    0.8355444054603577,\n",
              "    0.8223340985298156,\n",
              "    0.8020204936027527,\n",
              "    0.7903308640480041,\n",
              "    0.7667875062942505,\n",
              "    0.774582750415802,\n",
              "    0.7524536551475525,\n",
              "    0.7234145001411438,\n",
              "    0.7163225758552552,\n",
              "    0.696765417098999,\n",
              "    0.6855022330284118,\n",
              "    0.6791982011795044,\n",
              "    0.6755708048820496,\n",
              "    0.6584880136489868,\n",
              "    0.6577093636512756,\n",
              "    0.643153274822235,\n",
              "    0.6366876538276672,\n",
              "    0.629778545665741,\n",
              "    0.6225871196746826,\n",
              "    0.619083489894867,\n",
              "    0.6073263684272766,\n",
              "    0.6082223883628846,\n",
              "    0.5988056847572326,\n",
              "    0.5898243500709534,\n",
              "    0.583861439037323,\n",
              "    0.5768676300048828,\n",
              "    0.5738375576972962,\n",
              "    0.5800766647338867,\n",
              "    0.5676157319545746],\n",
              "   [2.2846398345947265,\n",
              "    2.0168317239761353,\n",
              "    1.831719076538086,\n",
              "    1.6978557336807252,\n",
              "    1.6114525621414184,\n",
              "    1.5101945178985596,\n",
              "    1.4357322031021118,\n",
              "    1.3730111095428468,\n",
              "    1.319651880645752,\n",
              "    1.2731528873443603,\n",
              "    1.2133914852142333,\n",
              "    1.1544763381958008,\n",
              "    1.1212180000305176,\n",
              "    1.0700972848892212,\n",
              "    1.041200428199768,\n",
              "    1.0105261838912964,\n",
              "    0.9730326048851013,\n",
              "    0.9379581128120422,\n",
              "    0.9149583993911743,\n",
              "    0.8986634899139404,\n",
              "    0.8746962827682495,\n",
              "    0.8647995794296265,\n",
              "    0.841019874572754,\n",
              "    0.8236030654907227,\n",
              "    0.8170504759788513,\n",
              "    0.7903095993041992,\n",
              "    0.7828745992660523,\n",
              "    0.7695910417556763,\n",
              "    0.7519682085037231,\n",
              "    0.7512778623580932,\n",
              "    0.7395827006340027,\n",
              "    0.7242652258872986,\n",
              "    0.7204313623428344,\n",
              "    0.703860624217987,\n",
              "    0.6881252375602722,\n",
              "    0.6810820865631103,\n",
              "    0.6730710613250732,\n",
              "    0.6637727608680725,\n",
              "    0.65627827501297,\n",
              "    0.6527917561531067,\n",
              "    0.6352867702484131,\n",
              "    0.6340122001647949,\n",
              "    0.6243238614082336,\n",
              "    0.6230971653938293,\n",
              "    0.6169500842094421,\n",
              "    0.6130086573600769,\n",
              "    0.6005565014839173,\n",
              "    0.5918708749771118,\n",
              "    0.5925774523735047,\n",
              "    0.5891798649787903]],\n",
              "  'train_loss': [[2.130213669522603,\n",
              "    2.021815664752325,\n",
              "    1.9152475899696353,\n",
              "    1.8244461038033166,\n",
              "    1.7338689894596735,\n",
              "    1.6716362040917077,\n",
              "    1.602896485463778,\n",
              "    1.5458253346761068,\n",
              "    1.4840434656302135,\n",
              "    1.418750245920817,\n",
              "    1.3698498054862023,\n",
              "    1.3240005488912263,\n",
              "    1.2756562793016433,\n",
              "    1.2181164146463075,\n",
              "    1.1630577690660955,\n",
              "    1.1267269539316493,\n",
              "    1.0778364854872224,\n",
              "    1.0359335461626449,\n",
              "    1.0130606291900082,\n",
              "    0.9723146458218496,\n",
              "    0.9559954575459165,\n",
              "    0.9078079221665861,\n",
              "    0.8814195298910141,\n",
              "    0.8466522158846259,\n",
              "    0.811995747306943,\n",
              "    0.7873573928922415,\n",
              "    0.7551987601305047,\n",
              "    0.7401230391308664,\n",
              "    0.7190975526884197,\n",
              "    0.6977627893074728,\n",
              "    0.689752541478475,\n",
              "    0.6505770392552019,\n",
              "    0.6519028734301529,\n",
              "    0.62169319736138,\n",
              "    0.6069190528179208,\n",
              "    0.613233973855898,\n",
              "    0.5839455087974046,\n",
              "    0.5687691527771453,\n",
              "    0.5645361067534735,\n",
              "    0.5611390943338475,\n",
              "    0.547716992576141,\n",
              "    0.5243827279770126,\n",
              "    0.5102096747760351,\n",
              "    0.5151247080589333,\n",
              "    0.498118683937254,\n",
              "    0.49240979307827865,\n",
              "    0.47924436056092384,\n",
              "    0.47136370718727516,\n",
              "    0.4604157522746439,\n",
              "    0.45406224025028463],\n",
              "   [2.1188970175425212,\n",
              "    2.0262738226890558,\n",
              "    1.9288157544453939,\n",
              "    1.8387279264291128,\n",
              "    1.7698681383927668,\n",
              "    1.6950621059258781,\n",
              "    1.6257371138970058,\n",
              "    1.567057698202133,\n",
              "    1.5001497054258979,\n",
              "    1.4451555798967681,\n",
              "    1.3979580863952636,\n",
              "    1.3360014298955598,\n",
              "    1.2902357014338177,\n",
              "    1.2327367669939997,\n",
              "    1.186994362501303,\n",
              "    1.1401533048729104,\n",
              "    1.088687494215369,\n",
              "    1.063338711076975,\n",
              "    1.0035657824079196,\n",
              "    0.9808091746926308,\n",
              "    0.9466245753824711,\n",
              "    0.9103930913905302,\n",
              "    0.8864189733674129,\n",
              "    0.8532837324450412,\n",
              "    0.8232654823735357,\n",
              "    0.8041265729347863,\n",
              "    0.7759906111141046,\n",
              "    0.7565699791659912,\n",
              "    0.7510915943711998,\n",
              "    0.7176569962712627,\n",
              "    0.6905811490979047,\n",
              "    0.6850851455956697,\n",
              "    0.6541999803842046,\n",
              "    0.649215568177402,\n",
              "    0.6264493475232273,\n",
              "    0.6224046594858169,\n",
              "    0.601974257940799,\n",
              "    0.5867218471091241,\n",
              "    0.5791428149498998,\n",
              "    0.553930585905537,\n",
              "    0.5448248224712908,\n",
              "    0.554515385416771,\n",
              "    0.5318373686304937,\n",
              "    0.517161663437138,\n",
              "    0.5133752561470184,\n",
              "    0.4995888587305324,\n",
              "    0.5011874584988381,\n",
              "    0.47574814190585163,\n",
              "    0.4800707761874422,\n",
              "    0.47017187344081085]]},\n",
              " 'CIFAR CNN on Non IID': {'hyperparams': {'C': 0.3,\n",
              "   'E': 5,\n",
              "   'K': 100,\n",
              "   'batch_size': 10,\n",
              "   'lr': 0.05,\n",
              "   'rounds': 50},\n",
              "  'test_accuracy': [[9.873417721518987,\n",
              "    13.670886075949367,\n",
              "    9.873417721518987,\n",
              "    14.177215189873417,\n",
              "    10.253164556962025,\n",
              "    14.177215189873417,\n",
              "    16.075949367088608,\n",
              "    20.379746835443036,\n",
              "    19.873417721518987,\n",
              "    22.911392405063292,\n",
              "    11.645569620253164,\n",
              "    23.79746835443038,\n",
              "    27.341772151898734,\n",
              "    25.189873417721518,\n",
              "    24.936708860759495,\n",
              "    19.873417721518987,\n",
              "    28.481012658227847,\n",
              "    26.455696202531644,\n",
              "    28.9873417721519,\n",
              "    33.79746835443038,\n",
              "    32.91139240506329,\n",
              "    33.54430379746835,\n",
              "    36.20253164556962,\n",
              "    33.924050632911396,\n",
              "    33.79746835443038,\n",
              "    36.075949367088604,\n",
              "    38.860759493670884,\n",
              "    29.367088607594937,\n",
              "    33.29113924050633,\n",
              "    38.734177215189874,\n",
              "    35.949367088607595,\n",
              "    37.848101265822784,\n",
              "    43.924050632911396,\n",
              "    45.56962025316456,\n",
              "    41.89873417721519,\n",
              "    40.88607594936709,\n",
              "    40.0,\n",
              "    38.734177215189874,\n",
              "    35.18987341772152,\n",
              "    38.860759493670884,\n",
              "    45.18987341772152,\n",
              "    40.75949367088607,\n",
              "    44.30379746835443,\n",
              "    38.734177215189874,\n",
              "    43.41772151898734,\n",
              "    46.075949367088604,\n",
              "    46.58227848101266,\n",
              "    45.18987341772152,\n",
              "    40.0,\n",
              "    43.79746835443038],\n",
              "   [10.886075949367088,\n",
              "    10.886075949367088,\n",
              "    10.379746835443038,\n",
              "    16.835443037974684,\n",
              "    16.962025316455698,\n",
              "    20.379746835443036,\n",
              "    17.088607594936708,\n",
              "    14.30379746835443,\n",
              "    15.569620253164556,\n",
              "    22.658227848101266,\n",
              "    19.240506329113924,\n",
              "    23.924050632911392,\n",
              "    29.873417721518987,\n",
              "    18.10126582278481,\n",
              "    23.29113924050633,\n",
              "    20.88607594936709,\n",
              "    21.518987341772153,\n",
              "    23.037974683544302,\n",
              "    26.20253164556962,\n",
              "    22.911392405063292,\n",
              "    20.126582278481013,\n",
              "    24.17721518987342,\n",
              "    24.810126582278482,\n",
              "    27.21518987341772,\n",
              "    24.303797468354432,\n",
              "    23.037974683544302,\n",
              "    31.518987341772153,\n",
              "    24.68354430379747,\n",
              "    31.39240506329114,\n",
              "    28.860759493670887,\n",
              "    26.075949367088608,\n",
              "    25.696202531645568,\n",
              "    27.21518987341772,\n",
              "    33.164556962025316,\n",
              "    25.82278481012658,\n",
              "    29.620253164556964,\n",
              "    29.620253164556964,\n",
              "    35.44303797468354,\n",
              "    32.91139240506329,\n",
              "    32.91139240506329,\n",
              "    40.75949367088607,\n",
              "    37.21518987341772,\n",
              "    26.075949367088608,\n",
              "    38.10126582278481,\n",
              "    30.759493670886076,\n",
              "    40.12658227848101,\n",
              "    40.25316455696203,\n",
              "    36.70886075949367,\n",
              "    40.25316455696203,\n",
              "    47.721518987341774]],\n",
              "  'test_loss': [[2.303082451629639,\n",
              "    2.3030910827636717,\n",
              "    2.301878982543945,\n",
              "    2.300730573654175,\n",
              "    2.2847368995666506,\n",
              "    2.254550270843506,\n",
              "    2.226887933349609,\n",
              "    2.18956923828125,\n",
              "    2.165005139541626,\n",
              "    2.1482050422668455,\n",
              "    2.1681815643310545,\n",
              "    2.1134302864074708,\n",
              "    2.122821122741699,\n",
              "    2.1177675590515137,\n",
              "    2.111663369369507,\n",
              "    2.0919348049163817,\n",
              "    2.0613763832092284,\n",
              "    2.099881267929077,\n",
              "    2.078351788139343,\n",
              "    2.0833687362670896,\n",
              "    2.0483917812347414,\n",
              "    2.0573632160186768,\n",
              "    2.048768552017212,\n",
              "    2.037603754425049,\n",
              "    2.005102550697327,\n",
              "    1.9923288471221925,\n",
              "    2.0007232013702394,\n",
              "    2.021008253097534,\n",
              "    1.9890926971435547,\n",
              "    1.9796975364685059,\n",
              "    1.9783174299240112,\n",
              "    1.9457657402038575,\n",
              "    1.9302285680770874,\n",
              "    1.9252675258636474,\n",
              "    1.9510290241241455,\n",
              "    1.9027126232147218,\n",
              "    1.8837638313293457,\n",
              "    1.8972010009765625,\n",
              "    1.9285502727508546,\n",
              "    1.9004784790039062,\n",
              "    1.8989918846130371,\n",
              "    1.9076570817947387,\n",
              "    1.895221958732605,\n",
              "    1.906919669342041,\n",
              "    1.8772265771865844,\n",
              "    1.849266219520569,\n",
              "    1.8718989658355714,\n",
              "    1.8460988817214965,\n",
              "    1.8481300115585326,\n",
              "    1.8786045211791993],\n",
              "   [2.3027902946472167,\n",
              "    2.3025396118164063,\n",
              "    2.2930767211914063,\n",
              "    2.274396138381958,\n",
              "    2.2444262493133547,\n",
              "    2.2241372772216796,\n",
              "    2.215844873046875,\n",
              "    2.202522283554077,\n",
              "    2.186707333755493,\n",
              "    2.1458737297058104,\n",
              "    2.1909995319366455,\n",
              "    2.182517432022095,\n",
              "    2.1581761878967285,\n",
              "    2.170808194732666,\n",
              "    2.1658492790222166,\n",
              "    2.155506541442871,\n",
              "    2.1730362716674803,\n",
              "    2.1479029861450196,\n",
              "    2.1486972358703613,\n",
              "    2.1231787239074706,\n",
              "    2.120992715072632,\n",
              "    2.1378122344970705,\n",
              "    2.1360862636566162,\n",
              "    2.107421204376221,\n",
              "    2.145398690032959,\n",
              "    2.1241509845733644,\n",
              "    2.0980632076263426,\n",
              "    2.1051442859649656,\n",
              "    2.098807838058472,\n",
              "    2.0989313159942626,\n",
              "    2.0966228378295897,\n",
              "    2.096507117462158,\n",
              "    2.094322842788696,\n",
              "    2.063730992889404,\n",
              "    2.0413094902038575,\n",
              "    2.0678893302917483,\n",
              "    2.056892309188843,\n",
              "    2.061618704223633,\n",
              "    2.0466948806762697,\n",
              "    2.0496836418151854,\n",
              "    2.006931209945679,\n",
              "    2.022855219268799,\n",
              "    2.0342774311065672,\n",
              "    1.9883641731262207,\n",
              "    2.0060083854675295,\n",
              "    1.9930155941009522,\n",
              "    1.9905457843780519,\n",
              "    1.9890742786407472,\n",
              "    1.9500401405334473,\n",
              "    1.9343943229675293]],\n",
              "  'train_loss': [[0.6240325877433369,\n",
              "    0.5925384851126814,\n",
              "    0.5904459892441146,\n",
              "    0.47392194380574726,\n",
              "    0.4980471768121441,\n",
              "    0.47689449016181656,\n",
              "    0.46564125720604704,\n",
              "    0.4325780642666293,\n",
              "    0.3934052028439356,\n",
              "    0.39360394325764486,\n",
              "    0.4353744185649903,\n",
              "    0.38792642019712864,\n",
              "    0.4279201554133266,\n",
              "    0.3801311549336454,\n",
              "    0.401372089244791,\n",
              "    0.2742434708860669,\n",
              "    0.33203575545228387,\n",
              "    0.38548690156448945,\n",
              "    0.3430843998608672,\n",
              "    0.38626674257586324,\n",
              "    0.3229911234397513,\n",
              "    0.33926298025963325,\n",
              "    0.3450902204391791,\n",
              "    0.33225301774413596,\n",
              "    0.30616020646520237,\n",
              "    0.2986134558714253,\n",
              "    0.3254443120968612,\n",
              "    0.3484726544980431,\n",
              "    0.29555231924060626,\n",
              "    0.2818690376661988,\n",
              "    0.3058986965523477,\n",
              "    0.2559192902124169,\n",
              "    0.2660096558756955,\n",
              "    0.2613416299618851,\n",
              "    0.29484388965443703,\n",
              "    0.21909928014183916,\n",
              "    0.21508408131841775,\n",
              "    0.22065358350563477,\n",
              "    0.23021746009435334,\n",
              "    0.25756915513095324,\n",
              "    0.2738230169751648,\n",
              "    0.2417537390949341,\n",
              "    0.21363354242483298,\n",
              "    0.21875551323590697,\n",
              "    0.24992293095565685,\n",
              "    0.2578016366734863,\n",
              "    0.2640865237530728,\n",
              "    0.26989286043298527,\n",
              "    0.24588371764655934,\n",
              "    0.2629355750277962],\n",
              "   [0.5745452990573424,\n",
              "    0.5870543233213403,\n",
              "    0.5791840819589639,\n",
              "    0.46595239477760875,\n",
              "    0.4679449736095707,\n",
              "    0.4539807921365643,\n",
              "    0.45748749745608047,\n",
              "    0.3954700656055393,\n",
              "    0.39349029063213625,\n",
              "    0.30520119610166313,\n",
              "    0.4694846985379042,\n",
              "    0.4139623614196172,\n",
              "    0.33946562715965656,\n",
              "    0.39434295399058694,\n",
              "    0.3804116072688884,\n",
              "    0.3432032205230613,\n",
              "    0.3928378626628024,\n",
              "    0.3221205030575434,\n",
              "    0.35875956863472397,\n",
              "    0.2834203000586027,\n",
              "    0.2884890094100483,\n",
              "    0.3325325765999019,\n",
              "    0.3369970344210334,\n",
              "    0.28393758199785224,\n",
              "    0.3380287590187967,\n",
              "    0.2778201213699834,\n",
              "    0.2626967415391795,\n",
              "    0.32290007357878775,\n",
              "    0.3099815711642905,\n",
              "    0.2688162997463852,\n",
              "    0.29223273181901105,\n",
              "    0.27448684686719915,\n",
              "    0.29792590425429805,\n",
              "    0.28545075706661194,\n",
              "    0.28514367260970575,\n",
              "    0.29503661121415126,\n",
              "    0.19841397383252377,\n",
              "    0.2842263781904169,\n",
              "    0.25536370801484154,\n",
              "    0.32463241309273033,\n",
              "    0.2322061541226916,\n",
              "    0.2819870431916657,\n",
              "    0.22425874284502323,\n",
              "    0.25385840581448105,\n",
              "    0.24551085341429799,\n",
              "    0.24223456161256268,\n",
              "    0.26553292405577933,\n",
              "    0.23944868699134722,\n",
              "    0.19934283037088163,\n",
              "    0.22564545314281198]]}}"
            ]
          },
          "metadata": {
            "tags": []
          },
          "execution_count": 33
        }
      ]
    },
    {
      "cell_type": "code",
      "metadata": {
        "id": "x1r1hcqMUCeZ"
      },
      "source": [
        "import pickle\n",
        "\n",
        "with open(path + 'cfmFedMed_0.3.pkl', 'rb') as file:\n",
        "  log_dict = pickle.load(file)"
      ],
      "execution_count": 34,
      "outputs": []
    },
    {
      "cell_type": "code",
      "metadata": {
        "id": "se_04JMaVJPg",
        "colab": {
          "base_uri": "https://localhost:8080/"
        },
        "outputId": "8af8e8af-ccbf-4fb5-da81-80d28730f432"
      },
      "source": [
        "print([test_acc[-1] for test_acc in log_dict['CIFAR CNN on IID']['test_accuracy']])"
      ],
      "execution_count": 35,
      "outputs": [
        {
          "output_type": "stream",
          "text": [
            "[81.89873417721519, 82.53164556962025]\n"
          ],
          "name": "stdout"
        }
      ]
    },
    {
      "cell_type": "code",
      "metadata": {
        "id": "5sv0rv-G4Sqa",
        "colab": {
          "base_uri": "https://localhost:8080/"
        },
        "outputId": "a75eeaf3-d776-4b20-83d0-c6eca6267df5"
      },
      "source": [
        "print([test_acc[-1] for test_acc in log_dict['CIFAR CNN on Non IID']['test_accuracy']])"
      ],
      "execution_count": 36,
      "outputs": [
        {
          "output_type": "stream",
          "text": [
            "[43.79746835443038, 47.721518987341774]\n"
          ],
          "name": "stdout"
        }
      ]
    },
    {
      "cell_type": "code",
      "metadata": {
        "id": "b2a2_Az-4nal"
      },
      "source": [
        "# print([test_acc[-1] for test_acc in log_dict['CIFAR MLP on IID']['test_accuracy']])"
      ],
      "execution_count": 37,
      "outputs": []
    },
    {
      "cell_type": "code",
      "metadata": {
        "id": "YoRqZyvD4p2K"
      },
      "source": [
        "# print([test_acc[-1] for test_acc in log_dict['CIFAR MLP on Non IID']['test_accuracy']])"
      ],
      "execution_count": 38,
      "outputs": []
    },
    {
      "cell_type": "code",
      "metadata": {
        "id": "mkG1kQdmVzbJ"
      },
      "source": [
        ""
      ],
      "execution_count": 38,
      "outputs": []
    }
  ]
}