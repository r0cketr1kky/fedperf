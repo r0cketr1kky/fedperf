{
  "nbformat": 4,
  "nbformat_minor": 0,
  "metadata": {
    "accelerator": "GPU",
    "colab": {
      "name": "Copy of FederatedMedian.ipynb",
      "provenance": [],
      "collapsed_sections": [],
      "machine_shape": "hm"
    },
    "kernelspec": {
      "name": "python3",
      "display_name": "Python 3"
    },
    "language_info": {
      "name": "python"
    }
  },
  "cells": [
    {
      "cell_type": "markdown",
      "metadata": {
        "id": "view-in-github"
      },
      "source": [
        "<a href=\"https://colab.research.google.com/github/tushar-semwal/fedperf/blob/main/Vineeth/Local_Rounds/FedMed/FederatedMedian.ipynb\" target=\"_parent\"><img src=\"https://colab.research.google.com/assets/colab-badge.svg\" alt=\"Open In Colab\"/></a>"
      ]
    },
    {
      "cell_type": "code",
      "metadata": {
        "id": "yKcpjZLrQQJV"
      },
      "source": [
        "%%capture output\n",
        "try:\n",
        "    from google.colab import drive\n",
        "    drive.mount('/content/drive')\n",
        "\n",
        "    import os\n",
        "    path = '/content/drive/MyDrive/Colab Notebooks/OpenMined/'\n",
        "    os.makedirs(path, exist_ok=True)\n",
        "except:\n",
        "    path = './'"
      ],
      "execution_count": 39,
      "outputs": []
    },
    {
      "cell_type": "markdown",
      "metadata": {
        "id": "-0_nKpfq2h1R"
      },
      "source": [
        "## Imports"
      ]
    },
    {
      "cell_type": "code",
      "metadata": {
        "colab": {
          "base_uri": "https://localhost:8080/"
        },
        "id": "DLLNM9X2JbQ8",
        "outputId": "29741516-2044-495b-e6fd-01a192b376b1"
      },
      "source": [
        "%load_ext tensorboard\n",
        "import os\n",
        "import numpy as np\n",
        "import matplotlib\n",
        "import matplotlib.pyplot as plt\n",
        "import copy\n",
        "import random\n",
        "import time\n",
        "\n",
        "import torch\n",
        "import torch.nn as nn\n",
        "import torch.nn.functional as F\n",
        "\n",
        "from torch.utils.data import Dataset, DataLoader\n",
        "from torch.utils.tensorboard import SummaryWriter\n",
        "from torchvision import transforms, utils, datasets\n",
        "from torchsummary import summary\n",
        "\n",
        "\n",
        "# Check assigned GPU\n",
        "gpu_info = !nvidia-smi\n",
        "gpu_info = '\\n'.join(gpu_info)\n",
        "if gpu_info.find('failed') >= 0:\n",
        "  print('Select the Runtime > \"Change runtime type\" menu to enable a GPU accelerator, ')\n",
        "  print('and then re-execute this cell.')\n",
        "else:\n",
        "  print(gpu_info)\n",
        "\n",
        "# set manual seed for reproducibility\n",
        "seed = 42\n",
        "\n",
        "# general reproducibility\n",
        "random.seed(seed)\n",
        "np.random.seed(seed)\n",
        "torch.manual_seed(seed)\n",
        "\n",
        "# gpu training specific\n",
        "torch.backends.cudnn.deterministic = True\n",
        "torch.backends.cudnn.benchmark = False"
      ],
      "execution_count": 40,
      "outputs": [
        {
          "output_type": "stream",
          "text": [
            "The tensorboard extension is already loaded. To reload it, use:\n",
            "  %reload_ext tensorboard\n",
            "Fri Apr 23 13:01:21 2021       \n",
            "+-----------------------------------------------------------------------------+\n",
            "| NVIDIA-SMI 465.19.01    Driver Version: 460.32.03    CUDA Version: 11.2     |\n",
            "|-------------------------------+----------------------+----------------------+\n",
            "| GPU  Name        Persistence-M| Bus-Id        Disp.A | Volatile Uncorr. ECC |\n",
            "| Fan  Temp  Perf  Pwr:Usage/Cap|         Memory-Usage | GPU-Util  Compute M. |\n",
            "|                               |                      |               MIG M. |\n",
            "|===============================+======================+======================|\n",
            "|   0  Tesla T4            Off  | 00000000:00:04.0 Off |                    0 |\n",
            "| N/A   77C    P0    34W /  70W |   1178MiB / 15109MiB |      0%      Default |\n",
            "|                               |                      |                  N/A |\n",
            "+-------------------------------+----------------------+----------------------+\n",
            "                                                                               \n",
            "+-----------------------------------------------------------------------------+\n",
            "| Processes:                                                                  |\n",
            "|  GPU   GI   CI        PID   Type   Process name                  GPU Memory |\n",
            "|        ID   ID                                                   Usage      |\n",
            "|=============================================================================|\n",
            "+-----------------------------------------------------------------------------+\n"
          ],
          "name": "stdout"
        }
      ]
    },
    {
      "cell_type": "markdown",
      "metadata": {
        "id": "NY4eWzGiL6Mj"
      },
      "source": [
        "## Load the MNIST Dataset"
      ]
    },
    {
      "cell_type": "code",
      "metadata": {
        "id": "G649tjTXLL8F"
      },
      "source": [
        "# create transforms\n",
        "# We will just convert to tensor and normalize since no special transforms are mentioned in the paper\n",
        "transforms_mnist = transforms.Compose([\n",
        "                                       transforms.ToTensor(),\n",
        "                                       transforms.Normalize((0.1307,), (0.3081,))\n",
        "                                       ])\n",
        "\n",
        "mnist_data_train = datasets.MNIST('./data/mnist/', train=True, download=True, transform=transforms_mnist)\n",
        "mnist_data_test = datasets.MNIST('../data/mnist/', train=False, download=True, transform=transforms_mnist)"
      ],
      "execution_count": 41,
      "outputs": []
    },
    {
      "cell_type": "code",
      "metadata": {
        "colab": {
          "base_uri": "https://localhost:8080/"
        },
        "id": "dm9usjn2vFkL",
        "outputId": "1b54aa3e-fb3f-4b07-8a9f-c099a6164a57"
      },
      "source": [
        "classes = np.array(list(mnist_data_train.class_to_idx.values()))\n",
        "classes_test = np.array(list(mnist_data_test.class_to_idx.values()))\n",
        "num_classes = len(classes_test)\n",
        "print(\"Classes: {} \\tType: {}\".format(classes, type(classes)))\n",
        "print(\"Classes Test: {} \\tType: {}\".format(classes_test, type(classes)))\n"
      ],
      "execution_count": 42,
      "outputs": [
        {
          "output_type": "stream",
          "text": [
            "Classes: [0 1 2 3 4 5 6 7 8 9] \tType: <class 'numpy.ndarray'>\n",
            "Classes Test: [0 1 2 3 4 5 6 7 8 9] \tType: <class 'numpy.ndarray'>\n"
          ],
          "name": "stdout"
        }
      ]
    },
    {
      "cell_type": "code",
      "metadata": {
        "colab": {
          "base_uri": "https://localhost:8080/"
        },
        "id": "9lvJt3Ofv2SO",
        "outputId": "717bd689-b426-48f4-ba7b-282b8da8fce2"
      },
      "source": [
        "print(\"Image Shape: {}\".format(mnist_data_train.data[0].size()))"
      ],
      "execution_count": 43,
      "outputs": [
        {
          "output_type": "stream",
          "text": [
            "Image Shape: torch.Size([28, 28])\n"
          ],
          "name": "stdout"
        }
      ]
    },
    {
      "cell_type": "markdown",
      "metadata": {
        "id": "jCOONkg-zV7Y"
      },
      "source": [
        "## Visualize Data"
      ]
    },
    {
      "cell_type": "code",
      "metadata": {
        "id": "R9MK03TZw6Qs"
      },
      "source": [
        "def imshow(img):\n",
        "\timg = img/2 + 0.5 #unnormalize the image\n",
        "\tplt.imshow(img, cmap='gray') # convert from tensor to image"
      ],
      "execution_count": 44,
      "outputs": []
    },
    {
      "cell_type": "code",
      "metadata": {
        "id": "gMJ0Kx4Kw-_H"
      },
      "source": [
        "def visualize(dataset):\n",
        "  figure = plt.figure(figsize=(25,4))\n",
        "  for i in range(20):\n",
        "    axis = figure.add_subplot(2, 20/2, i+1, xticks=[], yticks=[])\n",
        "    data = dataset.data[i]\n",
        "    data = data.numpy()\n",
        "\n",
        "    target = dataset.targets[i]\n",
        "    target = target.numpy()\n",
        "    imshow(data)\n",
        "    axis.set_title(target)\n"
      ],
      "execution_count": 45,
      "outputs": []
    },
    {
      "cell_type": "code",
      "metadata": {
        "colab": {
          "base_uri": "https://localhost:8080/",
          "height": 257
        },
        "id": "8bPOwKg10Ro7",
        "outputId": "3c12be64-edb3-4017-c98f-698d0959169f"
      },
      "source": [
        "visualize(mnist_data_train)"
      ],
      "execution_count": 46,
      "outputs": [
        {
          "output_type": "display_data",
          "data": {
            "image/png": "[encoded data removed]",
            "text/plain": [
              "<Figure size 1800x288 with 20 Axes>"
            ]
          },
          "metadata": {
            "tags": []
          }
        }
      ]
    },
    {
      "cell_type": "code",
      "metadata": {
        "colab": {
          "base_uri": "https://localhost:8080/",
          "height": 257
        },
        "id": "RKoh5Cf70UYu",
        "outputId": "a71a5a88-dfc0-465e-d64b-29ba4ee0f181"
      },
      "source": [
        "visualize(mnist_data_test)"
      ],
      "execution_count": 47,
      "outputs": [
        {
          "output_type": "display_data",
          "data": {
            "image/png": "[encoded data removed]",
            "text/plain": [
              "<Figure size 1800x288 with 20 Axes>"
            ]
          },
          "metadata": {
            "tags": []
          }
        }
      ]
    },
    {
      "cell_type": "markdown",
      "metadata": {
        "id": "ctjRsETiO1qO"
      },
      "source": [
        "## Partitioning the Data (IID and non-IID)"
      ]
    },
    {
      "cell_type": "code",
      "metadata": {
        "id": "3_v8lyrgO5dD"
      },
      "source": [
        "def iid_partition(dataset, clients):\n",
        "  \"\"\"\n",
        "  I.I.D paritioning of data over clients\n",
        "  Shuffle the data\n",
        "  Split it between clients\n",
        "  \n",
        "  params:\n",
        "    - dataset (torch.utils.Dataset): Dataset containing the MNIST Images\n",
        "    - clients (int): Number of Clients to split the data between\n",
        "\n",
        "  returns:\n",
        "    - Dictionary of image indexes for each client\n",
        "  \"\"\"\n",
        "\n",
        "  num_items_per_client = int(len(dataset)/clients)\n",
        "  client_dict = {}\n",
        "  image_idxs = [i for i in range(len(dataset))]\n",
        "\n",
        "  for i in range(clients):\n",
        "    client_dict[i] = set(np.random.choice(image_idxs, num_items_per_client, replace=False))\n",
        "    image_idxs = list(set(image_idxs) - client_dict[i])\n",
        "\n",
        "  return client_dict"
      ],
      "execution_count": 48,
      "outputs": []
    },
    {
      "cell_type": "code",
      "metadata": {
        "id": "4zMdliGMQoSl"
      },
      "source": [
        "def non_iid_partition(dataset, clients, total_shards, shards_size, num_shards_per_client):\n",
        "  \"\"\"\n",
        "  non I.I.D parititioning of data over clients\n",
        "  Sort the data by the digit label\n",
        "  Divide the data into N shards of size S\n",
        "  Each of the clients will get X shards\n",
        "\n",
        "  params:\n",
        "    - dataset (torch.utils.Dataset): Dataset containing the MNIST Images\n",
        "    - clients (int): Number of Clients to split the data between\n",
        "    - total_shards (int): Number of shards to partition the data in\n",
        "    - shards_size (int): Size of each shard \n",
        "    - num_shards_per_client (int): Number of shards of size shards_size that each client receives\n",
        "\n",
        "  returns:\n",
        "    - Dictionary of image indexes for each client\n",
        "  \"\"\"\n",
        "  \n",
        "  shard_idxs = [i for i in range(total_shards)]\n",
        "  client_dict = {i: np.array([], dtype='int64') for i in range(clients)}\n",
        "  idxs = np.arange(len(dataset))\n",
        "  data_labels = dataset.targets.numpy()\n",
        "\n",
        "  # sort the labels\n",
        "  label_idxs = np.vstack((idxs, data_labels))\n",
        "  label_idxs = label_idxs[:, label_idxs[1,:].argsort()]\n",
        "  idxs = label_idxs[0,:]\n",
        "\n",
        "  # divide the data into total_shards of size shards_size\n",
        "  # assign num_shards_per_client to each client\n",
        "  for i in range(clients):\n",
        "    rand_set = set(np.random.choice(shard_idxs, num_shards_per_client, replace=False))\n",
        "    shard_idxs = list(set(shard_idxs) - rand_set)\n",
        "\n",
        "    for rand in rand_set:\n",
        "      client_dict[i] = np.concatenate((client_dict[i], idxs[rand*shards_size:(rand+1)*shards_size]), axis=0)\n",
        "  \n",
        "  return client_dict\n",
        "\n",
        "\n",
        "\n"
      ],
      "execution_count": 49,
      "outputs": []
    },
    {
      "cell_type": "markdown",
      "metadata": {
        "id": "PTfxv8kFoGAy"
      },
      "source": [
        "## Models"
      ]
    },
    {
      "cell_type": "code",
      "metadata": {
        "id": "CvoDNFKbZST5"
      },
      "source": [
        "class MNIST_2NN(nn.Module):\n",
        "  \"\"\"\n",
        "  A simple multilayer-perceptron with 2-hidden layers with 200 units each\n",
        "  using ReLu activations\n",
        "\n",
        "  Total Expected Params: 199,210\n",
        "  \"\"\"\n",
        "  def __init__(self):\n",
        "    super(MNIST_2NN, self).__init__()\n",
        "\n",
        "    self.fc1 = nn.Linear(28*28, 200)\n",
        "    self.fc2 = nn.Linear(200, 200)\n",
        "    self.fc3 = nn.Linear(200, 10)\n",
        "\n",
        "  def forward(self, x):\n",
        "    x = torch.flatten(x, 1)\n",
        "    x = F.relu(self.fc1(x))\n",
        "    x = F.relu(self.fc2(x))\n",
        "    out = self.fc3(x)\n",
        "\n",
        "    return x"
      ],
      "execution_count": 50,
      "outputs": []
    },
    {
      "cell_type": "code",
      "metadata": {
        "id": "ut1hZ8x3qYPZ"
      },
      "source": [
        "class MNIST_CNN(nn.Module):\n",
        "  \"\"\"\n",
        "  CNN with two 5x5 convolution lauers(the first with 32 channels, second with 64,\n",
        "  each followed with 2x2 max pooling), a fully connected layer with 512 uunits and \n",
        "  ReLu activation, and the final Softmax output layer\n",
        "\n",
        "  Total Expected Params: 1,663,370\n",
        "  \"\"\"\n",
        "  def __init__(self):\n",
        "    super(MNIST_CNN, self).__init__()\n",
        "\n",
        "    self.conv1 = nn.Conv2d(1, 32, kernel_size=5)\n",
        "    self.conv2 = nn.Conv2d(32, 64, kernel_size=5)\n",
        "    \n",
        "    self.pool = nn.MaxPool2d(2,2)\n",
        "    self.dropout = nn.Dropout(p=0.2)\n",
        "\n",
        "    self.fc1 = nn.Linear(1024, 512)\n",
        "    self.out = nn.Linear(512, 10)\n",
        "\n",
        "  def forward(self, x):\n",
        "    x = self.pool(F.relu(self.conv1(x)))\n",
        "    x = self.pool(F.relu(self.conv2(x)))\n",
        "    x = self.dropout(x)\n",
        "    x = torch.flatten(x, 1)\n",
        "    x = F.relu(self.fc1(x))\n",
        "    x = self.out(x)\n",
        "    out = F.log_softmax(x, dim=1)\n",
        "\n",
        "    return out"
      ],
      "execution_count": 51,
      "outputs": []
    },
    {
      "cell_type": "markdown",
      "metadata": {
        "id": "uVv4HA9HuLtr"
      },
      "source": [
        "### Print Model Summaries"
      ]
    },
    {
      "cell_type": "code",
      "metadata": {
        "colab": {
          "base_uri": "https://localhost:8080/"
        },
        "id": "I5oTH710sJEt",
        "outputId": "3a6a16d4-68a6-4210-dfde-fa7bf5076995"
      },
      "source": [
        "mnist_mlp = MNIST_2NN()\n",
        "mnist_cnn = MNIST_CNN()\n",
        "\n",
        "if torch.cuda.is_available():\n",
        "  mnist_mlp.cuda()\n",
        "  mnist_cnn.cuda()\n",
        "\n",
        "print(\"MNIST MLP SUMMARY\")\n",
        "print(summary(mnist_mlp, (28,28)))\n",
        "\n",
        "print(\"\\nMNIST CNN SUMMARY\")\n",
        "print(summary(mnist_cnn, (1, 28,28)))"
      ],
      "execution_count": 52,
      "outputs": [
        {
          "output_type": "stream",
          "text": [
            "MNIST MLP SUMMARY\n",
            "----------------------------------------------------------------\n",
            "        Layer (type)               Output Shape         Param #\n",
            "================================================================\n",
            "            Linear-1                  [-1, 200]         157,000\n",
            "            Linear-2                  [-1, 200]          40,200\n",
            "            Linear-3                   [-1, 10]           2,010\n",
            "================================================================\n",
            "Total params: 199,210\n",
            "Trainable params: 199,210\n",
            "Non-trainable params: 0\n",
            "----------------------------------------------------------------\n",
            "Input size (MB): 0.00\n",
            "Forward/backward pass size (MB): 0.00\n",
            "Params size (MB): 0.76\n",
            "Estimated Total Size (MB): 0.77\n",
            "----------------------------------------------------------------\n",
            "None\n",
            "\n",
            "MNIST CNN SUMMARY\n",
            "----------------------------------------------------------------\n",
            "        Layer (type)               Output Shape         Param #\n",
            "================================================================\n",
            "            Conv2d-1           [-1, 32, 24, 24]             832\n",
            "         MaxPool2d-2           [-1, 32, 12, 12]               0\n",
            "            Conv2d-3             [-1, 64, 8, 8]          51,264\n",
            "         MaxPool2d-4             [-1, 64, 4, 4]               0\n",
            "           Dropout-5             [-1, 64, 4, 4]               0\n",
            "            Linear-6                  [-1, 512]         524,800\n",
            "            Linear-7                   [-1, 10]           5,130\n",
            "================================================================\n",
            "Total params: 582,026\n",
            "Trainable params: 582,026\n",
            "Non-trainable params: 0\n",
            "----------------------------------------------------------------\n",
            "Input size (MB): 0.00\n",
            "Forward/backward pass size (MB): 0.23\n",
            "Params size (MB): 2.22\n",
            "Estimated Total Size (MB): 2.45\n",
            "----------------------------------------------------------------\n",
            "None\n"
          ],
          "name": "stdout"
        }
      ]
    },
    {
      "cell_type": "markdown",
      "metadata": {
        "id": "gf_8XEXa-gZ7"
      },
      "source": [
        "## Federated Averaging"
      ]
    },
    {
      "cell_type": "markdown",
      "metadata": {
        "id": "L-aNdQsQ-Kvp"
      },
      "source": [
        "### Local Training (Client Update)\n",
        "\n",
        "Local training for the model on client side"
      ]
    },
    {
      "cell_type": "code",
      "metadata": {
        "id": "oX6OsQyO-Gz7"
      },
      "source": [
        "class CustomDataset(Dataset):\n",
        "  def __init__(self, dataset, idxs):\n",
        "      self.dataset = dataset\n",
        "      self.idxs = list(idxs)\n",
        "\n",
        "  def __len__(self):\n",
        "      return len(self.idxs)\n",
        "\n",
        "  def __getitem__(self, item):\n",
        "      image, label = self.dataset[self.idxs[item]]\n",
        "      return image, label\n",
        "\n",
        "\n",
        "class ClientUpdate(object):\n",
        "  def __init__(self, dataset, batchSize, learning_rate, epochs, idxs):\n",
        "    self.train_loader = DataLoader(CustomDataset(dataset, idxs), batch_size=batchSize, shuffle=True)\n",
        "\n",
        "    self.learning_rate = learning_rate\n",
        "    self.epochs = epochs\n",
        "\n",
        "  def train(self, model):\n",
        "    criterion = nn.CrossEntropyLoss()\n",
        "    optimizer = torch.optim.SGD(model.parameters(), lr=self.learning_rate, momentum=0.5)\n",
        "    # optimizer = torch.optim.Adam(model.parameters(), lr=self.learning_rate)\n",
        "\n",
        "    e_loss = []\n",
        "    for epoch in range(1, self.epochs+1):\n",
        "\n",
        "      train_loss = 0.0\n",
        "      model.train()\n",
        "      for data, labels in self.train_loader:\n",
        "\n",
        "        if torch.cuda.is_available():\n",
        "          data, labels = data.cuda(), labels.cuda()\n",
        "\n",
        "        # clear the gradients\n",
        "        optimizer.zero_grad()\n",
        "        # make a forward pass\n",
        "        output = model(data)\n",
        "        # calculate the loss\n",
        "        loss = criterion(output, labels)\n",
        "        # do a backwards pass\n",
        "        loss.backward()\n",
        "        # perform a single optimization step\n",
        "        optimizer.step()\n",
        "        # update training loss\n",
        "        train_loss += loss.item()*data.size(0)\n",
        "\n",
        "      # average losses\n",
        "      train_loss = train_loss/len(self.train_loader.dataset)\n",
        "      e_loss.append(train_loss)\n",
        "\n",
        "    total_loss = sum(e_loss)/len(e_loss)\n",
        "\n",
        "    return model.state_dict(), total_loss"
      ],
      "execution_count": 53,
      "outputs": []
    },
    {
      "cell_type": "markdown",
      "metadata": {
        "id": "Ukgh1DVHE2Ds"
      },
      "source": [
        "### Server Side Training\n",
        "\n",
        "Following Algorithm 1 from the paper"
      ]
    },
    {
      "cell_type": "code",
      "metadata": {
        "id": "1NF1e33BgpeL"
      },
      "source": [
        "def training(model, rounds, batch_size, lr, ds, ds_test, data_dict, C, K, E, plt_title, plt_color, M):\n",
        "  \"\"\"\n",
        "  Function implements the Federated Averaging Algorithm from the FedAvg paper.\n",
        "  Specifically, this function is used for the server side training and weight update\n",
        "\n",
        "  Params:\n",
        "    - model:           PyTorch model to train\n",
        "    - rounds:          Number of communication rounds for the client update\n",
        "    - batch_size:      Batch size for client update training\n",
        "    - lr:              Learning rate used for client update training\n",
        "    - ds:              Dataset used for training\n",
        "    - ds_test:         Dataset used for testing\n",
        "    - data_dict:       Type of data partition used for training (IID or non-IID)\n",
        "    - C:               Fraction of clients randomly chosen to perform computation on each round\n",
        "    - K:               Total number of clients\n",
        "    - E:               Number of training passes each client makes over its local dataset per round\n",
        "    - tb_writer_name:  Directory name to save the tensorboard logs\n",
        "  Returns:\n",
        "    - model:           Trained model on the server\n",
        "  \"\"\"\n",
        "\n",
        "  # global model weights\n",
        "  global_weights = model.state_dict()\n",
        "  num_clients = K\n",
        "  pk = np.ones(num_clients) * 1.0 / num_clients\n",
        "\n",
        "  # training loss\n",
        "  # train_accuracy = []\n",
        "  train_loss = []\n",
        "  test_accuracy = []\n",
        "  test_loss = []\n",
        "\n",
        "\n",
        "  # measure time\n",
        "  start = time.time()\n",
        "\n",
        "  for curr_round in range(1, rounds+1):\n",
        "    w, local_loss = [], []\n",
        "\n",
        "    m = max(int(C*K), 1)\n",
        "    newM = max(int(M*m), 1)\n",
        "    \n",
        "    c = 0\n",
        "    S_t = np.random.choice(range(K), m, replace=False)\n",
        "\n",
        "    for i in range(len(S_t)):\n",
        "      if c == newM:\n",
        "        break\n",
        "      c += 1\n",
        "\n",
        "      local_update = ClientUpdate(dataset=ds, batchSize=batch_size, learning_rate=lr, epochs=E, idxs=data_dict[S_t[i]])\n",
        "      weights, loss = local_update.train(model=copy.deepcopy(model))\n",
        "            \n",
        "      for k in weights.keys():\n",
        "        t = torch.Tensor(weights[k].shape).cuda()\n",
        "        t.fill_(0.1)\n",
        "        weights[k] = t     \n",
        "\n",
        "      w.append(copy.deepcopy(weights))\n",
        "      local_loss.append(copy.deepcopy(loss))\n",
        "\n",
        "    for k in range(newM, len(S_t)):\n",
        "      local_update = ClientUpdate(dataset=ds, batchSize=batch_size, learning_rate=lr, epochs=E, idxs=data_dict[S_t[k]])\n",
        "      weights, loss = local_update.train(model=copy.deepcopy(model))\n",
        "      \n",
        "      w.append(copy.deepcopy(weights))\n",
        "      local_loss.append(copy.deepcopy(loss))\n",
        "\n",
        "\n",
        "    ix = 0\n",
        "    weights = []\n",
        "    new_w = w\n",
        "    for k in w[ix].keys():\n",
        "      l1 = []\n",
        "      for i in range(len(w)):\n",
        "\n",
        "          # Fixed Precision\n",
        "          x1 = w[i][k] * (10**3)\n",
        "          \n",
        "          # Flattening weight tensors to lists\n",
        "          f1 = torch.flatten(x1)\n",
        "          \n",
        "          # Converting values to int for our streaming algo \n",
        "          f1 = list(map(int, f1))\n",
        "          \n",
        "          l1.append(f1)\n",
        "          #print(len(f1))\n",
        "          \n",
        "      # Computing Median\n",
        "      j = 0\n",
        "      gl = []\n",
        "      while j < len(l1[0]):\n",
        "        nl = []\n",
        "        for i in range(len(l1)):\n",
        "          nl.append(l1[i][j])\n",
        "        m = np.median(nl)\n",
        "        gl.append(m)\n",
        "        j += 1\n",
        "\n",
        "      \n",
        "      for i in range(len(gl)):\n",
        "        gl[i] /= (10**3)\n",
        "      \n",
        "      # print(len(gl))\n",
        "      \n",
        "      newar = np.asarray(gl)\n",
        "      newar = np.reshape(gl, w[0][k].size())\n",
        "      tens = torch.from_numpy(newar)\n",
        "      weights.append(tens)\n",
        "\n",
        "      ix += 1\n",
        "\n",
        "    k = 0\n",
        "    coun = 0\n",
        "    for key, value in global_weights.items():\n",
        "      global_weights[key] = weights[k]\n",
        "      k += 1\n",
        "      coun += 1\n",
        "\n",
        "    # move the updated weights to our model state dict\n",
        "    model.load_state_dict(global_weights)\n",
        "\n",
        "    # loss\n",
        "    loss_avg = sum(local_loss) / len(local_loss)\n",
        "    print('Round: {}... \\tAverage Loss: {}'.format(curr_round, round(loss_avg, 3)))\n",
        "    train_loss.append(loss_avg)\n",
        "\n",
        "    # test\n",
        "    test_criterion = nn.CrossEntropyLoss()\n",
        "    test_accuracy_current, test_loss_current =  testing(copy.deepcopy(model), ds_test, 128, test_criterion, num_classes, classes_test)\n",
        "    test_accuracy.append(test_accuracy_current)\n",
        "    test_loss.append(test_loss_current)\n",
        "\n",
        "  end = time.time()\n",
        "  \n",
        "  fig, ax = plt.subplots()\n",
        "  x_axis = np.arange(1, rounds+1)\n",
        "  y_axis = np.array(train_loss)\n",
        "  ax.plot(x_axis, y_axis, 'tab:'+plt_color)\n",
        "\n",
        "  ax.set(xlabel='Number of Rounds', ylabel='Train Loss',\n",
        "       title=plt_title)\n",
        "  ax.grid()\n",
        "  fig.savefig(plt_title+'_Train_loss.jpg', format='jpg')\n",
        "  plt.show()\n",
        "\n",
        "  fig, ax = plt.subplots()\n",
        "  x_axis = np.arange(1, rounds+1)\n",
        "  y_axis = np.array(test_loss)\n",
        "  ax.plot(x_axis, y_axis, 'tab:'+plt_color)\n",
        "\n",
        "  ax.set(xlabel='Number of Rounds', ylabel='Test Loss',\n",
        "       title=plt_title)\n",
        "  ax.grid()\n",
        "  fig.savefig(plt_title+'_Test_loss.jpg', format='jpg')\n",
        "  plt.show()\n",
        "\n",
        "  fig, ax = plt.subplots()\n",
        "  x_axis = np.arange(1, rounds+1)\n",
        "  y_axis = np.array(test_accuracy)\n",
        "  ax.plot(x_axis, y_axis, 'tab:'+plt_color)\n",
        "\n",
        "  ax.set(xlabel='Number of Rounds', ylabel='Test Accuracy',\n",
        "       title=plt_title)\n",
        "  ax.grid()\n",
        "  fig.savefig(plt_title+'_Test_Accuracy.jpg', format='jpg')\n",
        "  plt.show()\n",
        "  \n",
        "  print(\"Training Done!\")\n",
        "  print(\"Total time taken to Train: {}\\n\\n\".format(end-start))\n",
        "  \n",
        "  return model, train_loss, test_accuracy, test_loss"
      ],
      "execution_count": 54,
      "outputs": []
    },
    {
      "cell_type": "markdown",
      "metadata": {
        "id": "tUYyb4T-uXmF"
      },
      "source": [
        "## Testing Loop"
      ]
    },
    {
      "cell_type": "code",
      "metadata": {
        "id": "uCcIZmO5uan9"
      },
      "source": [
        "def testing(model, dataset, bs, criterion, num_classes, classes, print_info=False):\n",
        "  #test loss \n",
        "  test_loss = 0.0\n",
        "  correct_class = list(0. for i in range(num_classes))\n",
        "  total_class = list(0. for i in range(num_classes))\n",
        "\n",
        "  test_loader = DataLoader(dataset, batch_size=bs)\n",
        "  l = len(test_loader)\n",
        "  model.eval()\n",
        "  for data, labels in test_loader:\n",
        "\n",
        "    if torch.cuda.is_available():\n",
        "      data, labels = data.cuda(), labels.cuda()\n",
        "\n",
        "    output = model(data)\n",
        "    loss = criterion(output, labels)\n",
        "    test_loss += loss.item()*data.size(0)\n",
        "\n",
        "    _, pred = torch.max(output, 1)\n",
        "\n",
        "    correct_tensor = pred.eq(labels.data.view_as(pred))\n",
        "    correct = np.squeeze(correct_tensor.numpy()) if not torch.cuda.is_available() else np.squeeze(correct_tensor.cpu().numpy())\n",
        "\n",
        "    #test accuracy for each object class\n",
        "    for i in range(num_classes):\n",
        "      label = labels.data[i]\n",
        "      correct_class[label] += correct[i].item()\n",
        "      total_class[label] += 1\n",
        "    \n",
        "  # avg test loss\n",
        "  test_loss = test_loss/len(test_loader.dataset)\n",
        "  test_accuracy = 100. * np.sum(correct_class) / np.sum(total_class)\n",
        "\n",
        "  if print_info:\n",
        "    print(\"Test Loss: {:.6f}\\n\".format(test_loss))\n",
        "\n",
        "    for i in range(10):\n",
        "      if total_class[i]>0:\n",
        "        print('Test Accuracy of %5s: %2d%% (%2d/%2d)' % \n",
        "              (classes[i], 100 * correct_class[i] / total_class[i],\n",
        "              np.sum(correct_class[i]), np.sum(total_class[i])))\n",
        "      else:\n",
        "        print('Test Accuracy of %5s: N/A (no training examples)' % (classes[i]))\n",
        "\n",
        "    print('\\nFinal Test  Accuracy: {:.3f} ({}/{})'.format(\n",
        "          100. * np.sum(correct_class) / np.sum(total_class),\n",
        "          np.sum(correct_class), np.sum(total_class)))\n",
        "  \n",
        "  return test_accuracy, test_loss"
      ],
      "execution_count": 55,
      "outputs": []
    },
    {
      "cell_type": "markdown",
      "metadata": {
        "id": "Ri0FqXFeHW-V"
      },
      "source": [
        "## Logger"
      ]
    },
    {
      "cell_type": "code",
      "metadata": {
        "id": "thZm2kSiHT4v"
      },
      "source": [
        "log_dict = {}\n",
        "NUM_REPEAT = 1"
      ],
      "execution_count": 56,
      "outputs": []
    },
    {
      "cell_type": "markdown",
      "metadata": {
        "id": "4hO5oV6aXqeh"
      },
      "source": [
        "## MNIST CNN on IID"
      ]
    },
    {
      "cell_type": "markdown",
      "metadata": {
        "id": "flSQv_P4zCfx"
      },
      "source": [
        "### Train\n"
      ]
    },
    {
      "cell_type": "code",
      "metadata": {
        "id": "0ZalcKZtEseA"
      },
      "source": [
        "# train_loss_multiple_runs = [None] * NUM_REPEAT\n",
        "# test_accuracy_multiple_runs = [None] * NUM_REPEAT\n",
        "# test_loss_multiple_runs = [None] * NUM_REPEAT\n",
        "\n",
        "# for exp_num in range(NUM_REPEAT):\n",
        "#   print(\"Experiment Run Number: \", exp_num)\n",
        "\n",
        "#   # number of training rounds\n",
        "#   rounds = 50\n",
        "#   # client fraction\n",
        "#   C = 0.1\n",
        "#   # number of clients\n",
        "#   K = 100\n",
        "#   # number of training passes on local dataset for each roung\n",
        "#   E = 5\n",
        "#   # batch size\n",
        "#   batch_size = 10\n",
        "#   # learning Rate\n",
        "#   lr=0.05\n",
        "#   # data partition dictionary\n",
        "#   iid_dict = iid_partition(mnist_data_train, 100)\n",
        "#   # load model\n",
        "#   mnist_cnn = MNIST_CNN()\n",
        "\n",
        "#   if torch.cuda.is_available():\n",
        "#     mnist_cnn.cuda()\n",
        "\n",
        "#   mnist_cnn_iid_trained, train_loss, test_accuracy, test_loss = training(mnist_cnn, rounds, batch_size, lr, mnist_data_train, mnist_data_test, iid_dict, C, K, E, \"MNIST CNN on IID Dataset\", \"orange\", 0.01)\n",
        "\n",
        "#   train_loss_multiple_runs[exp_num] = train_loss\n",
        "#   test_accuracy_multiple_runs[exp_num] = test_accuracy\n",
        "#   test_loss_multiple_runs[exp_num] = test_loss"
      ],
      "execution_count": 57,
      "outputs": []
    },
    {
      "cell_type": "markdown",
      "metadata": {
        "id": "wNwC82przF6G"
      },
      "source": [
        "### Test"
      ]
    },
    {
      "cell_type": "code",
      "metadata": {
        "id": "qB97BFs9we9w",
        "colab": {
          "base_uri": "https://localhost:8080/"
        },
        "outputId": "467242cd-9f18-4df8-e59f-cdf8143f71c7"
      },
      "source": [
        "criterion = nn.CrossEntropyLoss()\n",
        "acc, loss = testing(mnist_cnn_iid_trained, mnist_data_test, 128, criterion, num_classes, classes_test, True)"
      ],
      "execution_count": 58,
      "outputs": [
        {
          "output_type": "stream",
          "text": [
            "Test Loss: 0.027198\n",
            "\n",
            "Test Accuracy of     0: 100% (76/76)\n",
            "Test Accuracy of     1: 98% (89/90)\n",
            "Test Accuracy of     2: 100% (91/91)\n",
            "Test Accuracy of     3: 97% (71/73)\n",
            "Test Accuracy of     4: 100% (89/89)\n",
            "Test Accuracy of     5: 98% (67/68)\n",
            "Test Accuracy of     6: 98% (61/62)\n",
            "Test Accuracy of     7: 100% (81/81)\n",
            "Test Accuracy of     8: 100% (77/77)\n",
            "Test Accuracy of     9: 98% (82/83)\n",
            "\n",
            "Final Test  Accuracy: 99.241 (784.0/790.0)\n"
          ],
          "name": "stdout"
        }
      ]
    },
    {
      "cell_type": "code",
      "metadata": {
        "id": "gdQZEZmHHeqt"
      },
      "source": [
        "hyperparams = {'rounds': rounds,\n",
        "               'C': C,\n",
        "               'K': K,\n",
        "               'E': E,\n",
        "               'batch_size': batch_size,\n",
        "               'lr': lr,\n",
        "               }\n",
        "\n",
        "log_dict['MNIST CNN on IID'] = {'train_loss': train_loss_multiple_runs, \n",
        "                                'test_loss': test_loss_multiple_runs, \n",
        "                                'test_accuracy': test_accuracy_multiple_runs,\n",
        "                                'hyperparams': hyperparams,\n",
        "                                }"
      ],
      "execution_count": 59,
      "outputs": []
    },
    {
      "cell_type": "markdown",
      "metadata": {
        "id": "uF8MdSIUYcnl"
      },
      "source": [
        "## MNIST CNN on Non IID"
      ]
    },
    {
      "cell_type": "markdown",
      "metadata": {
        "id": "a6wXX7JW11bx"
      },
      "source": [
        "### Train\n"
      ]
    },
    {
      "cell_type": "code",
      "metadata": {
        "id": "fCD3kBCKYfBK",
        "colab": {
          "base_uri": "https://localhost:8080/",
          "height": 1000
        },
        "outputId": "f7195df5-7a0d-4b4e-ac9d-2642c2fc4155"
      },
      "source": [
        "train_loss_multiple_runs = [None] * NUM_REPEAT\n",
        "test_accuracy_multiple_runs = [None] * NUM_REPEAT\n",
        "test_loss_multiple_runs = [None] * NUM_REPEAT\n",
        "\n",
        "for exp_num in range(NUM_REPEAT):\n",
        "  print(\"Experiment Run Number: \", exp_num)\n",
        "\n",
        "  # number of training rounds\n",
        "  rounds = 50\n",
        "  # client fraction\n",
        "  C = 0.1\n",
        "  # number of clients\n",
        "  K = 100\n",
        "  # number of training passes on local dataset for each roung\n",
        "  E = 5\n",
        "  # batch size\n",
        "  batch_size = 10\n",
        "  # learning Rate\n",
        "  lr=0.05\n",
        "  # dict containing different type of data partition\n",
        "  data_dict = non_iid_partition(mnist_data_train, 100, 500, 120, 5)\n",
        "  # load model\n",
        "  mnist_cnn = MNIST_CNN()\n",
        "\n",
        "  if torch.cuda.is_available():\n",
        "    mnist_cnn.cuda()\n",
        "\n",
        "  mnist_cnn_non_iid_trained, train_loss, test_accuracy, test_loss = training(mnist_cnn, rounds, batch_size, lr, mnist_data_train, mnist_data_test, data_dict, C, K, E, \"MNIST CNN on Non-IID Dataset\", \"green\", 0.01)\n",
        "\n",
        "  train_loss_multiple_runs[exp_num] = train_loss\n",
        "  test_accuracy_multiple_runs[exp_num] = test_accuracy\n",
        "  test_loss_multiple_runs[exp_num] = test_loss"
      ],
      "execution_count": 60,
      "outputs": [
        {
          "output_type": "stream",
          "text": [
            "Experiment Run Number:  0\n",
            "Round: 1... \tAverage Loss: 0.18\n",
            "Round: 2... \tAverage Loss: 0.12\n",
            "Round: 3... \tAverage Loss: 0.08\n",
            "Round: 4... \tAverage Loss: 0.045\n",
            "Round: 5... \tAverage Loss: 0.031\n",
            "Round: 6... \tAverage Loss: 0.045\n",
            "Round: 7... \tAverage Loss: 0.044\n",
            "Round: 8... \tAverage Loss: 0.037\n",
            "Round: 9... \tAverage Loss: 0.04\n",
            "Round: 10... \tAverage Loss: 0.035\n",
            "Round: 11... \tAverage Loss: 0.031\n",
            "Round: 12... \tAverage Loss: 0.031\n",
            "Round: 13... \tAverage Loss: 0.028\n",
            "Round: 14... \tAverage Loss: 0.025\n",
            "Round: 15... \tAverage Loss: 0.026\n",
            "Round: 16... \tAverage Loss: 0.025\n",
            "Round: 17... \tAverage Loss: 0.019\n",
            "Round: 18... \tAverage Loss: 0.037\n",
            "Round: 19... \tAverage Loss: 0.02\n",
            "Round: 20... \tAverage Loss: 0.029\n",
            "Round: 21... \tAverage Loss: 0.024\n",
            "Round: 22... \tAverage Loss: 0.028\n",
            "Round: 23... \tAverage Loss: 0.033\n",
            "Round: 24... \tAverage Loss: 0.023\n",
            "Round: 25... \tAverage Loss: 0.023\n",
            "Round: 26... \tAverage Loss: 0.023\n",
            "Round: 27... \tAverage Loss: 0.023\n",
            "Round: 28... \tAverage Loss: 0.027\n",
            "Round: 29... \tAverage Loss: 0.025\n",
            "Round: 30... \tAverage Loss: 0.022\n",
            "Round: 31... \tAverage Loss: 0.022\n",
            "Round: 32... \tAverage Loss: 0.016\n",
            "Round: 33... \tAverage Loss: 0.022\n",
            "Round: 34... \tAverage Loss: 0.02\n",
            "Round: 35... \tAverage Loss: 0.024\n",
            "Round: 36... \tAverage Loss: 0.017\n",
            "Round: 37... \tAverage Loss: 0.021\n",
            "Round: 38... \tAverage Loss: 0.027\n",
            "Round: 39... \tAverage Loss: 0.015\n",
            "Round: 40... \tAverage Loss: 0.025\n",
            "Round: 41... \tAverage Loss: 0.018\n",
            "Round: 42... \tAverage Loss: 0.018\n",
            "Round: 43... \tAverage Loss: 0.016\n",
            "Round: 44... \tAverage Loss: 0.018\n",
            "Round: 45... \tAverage Loss: 0.021\n",
            "Round: 46... \tAverage Loss: 0.022\n",
            "Round: 47... \tAverage Loss: 0.014\n",
            "Round: 48... \tAverage Loss: 0.017\n",
            "Round: 49... \tAverage Loss: 0.02\n",
            "Round: 50... \tAverage Loss: 0.02\n"
          ],
          "name": "stdout"
        },
        {
          "output_type": "display_data",
          "data": {
            "image/png": "[encoded data removed]",
            "text/plain": [
              "<Figure size 432x288 with 1 Axes>"
            ]
          },
          "metadata": {
            "tags": [],
            "needs_background": "light"
          }
        },
        {
          "output_type": "display_data",
          "data": {
            "image/png": "[encoded data removed]",
            "text/plain": [
              "<Figure size 432x288 with 1 Axes>"
            ]
          },
          "metadata": {
            "tags": [],
            "needs_background": "light"
          }
        },
        {
          "output_type": "display_data",
          "data": {
            "image/png": "[encoded data removed]",
            "text/plain": [
              "<Figure size 432x288 with 1 Axes>"
            ]
          },
          "metadata": {
            "tags": [],
            "needs_background": "light"
          }
        },
        {
          "output_type": "stream",
          "text": [
            "Training Done!\n",
            "Total time taken to Train: 5413.868601799011\n",
            "\n",
            "\n"
          ],
          "name": "stdout"
        }
      ]
    },
    {
      "cell_type": "markdown",
      "metadata": {
        "id": "4C68J-Kk14dB"
      },
      "source": [
        "### Test"
      ]
    },
    {
      "cell_type": "code",
      "metadata": {
        "id": "_yQ9GiAZ15jE",
        "colab": {
          "base_uri": "https://localhost:8080/"
        },
        "outputId": "3ce19d62-f7bc-4791-df5e-02f2d43750d5"
      },
      "source": [
        "criterion = nn.CrossEntropyLoss()\n",
        "acc, loss = testing(mnist_cnn_non_iid_trained, mnist_data_test, 128, criterion, num_classes, classes_test, True)"
      ],
      "execution_count": 61,
      "outputs": [
        {
          "output_type": "stream",
          "text": [
            "Test Loss: 0.050997\n",
            "\n",
            "Test Accuracy of     0: 100% (76/76)\n",
            "Test Accuracy of     1: 97% (88/90)\n",
            "Test Accuracy of     2: 100% (91/91)\n",
            "Test Accuracy of     3: 98% (72/73)\n",
            "Test Accuracy of     4: 100% (89/89)\n",
            "Test Accuracy of     5: 97% (66/68)\n",
            "Test Accuracy of     6: 96% (60/62)\n",
            "Test Accuracy of     7: 93% (76/81)\n",
            "Test Accuracy of     8: 100% (77/77)\n",
            "Test Accuracy of     9: 100% (83/83)\n",
            "\n",
            "Final Test  Accuracy: 98.481 (778.0/790.0)\n"
          ],
          "name": "stdout"
        }
      ]
    },
    {
      "cell_type": "code",
      "metadata": {
        "id": "dxMcxgLhLvX-"
      },
      "source": [
        "hyperparams = {'rounds': rounds,\n",
        "               'C': C,\n",
        "               'K': K,\n",
        "               'E': E,\n",
        "               'batch_size': batch_size,\n",
        "               'lr': lr,\n",
        "               }\n",
        "\n",
        "log_dict['MNIST CNN on Non IID'] = {'train_loss': train_loss_multiple_runs, \n",
        "                                'test_loss': test_loss_multiple_runs, \n",
        "                                'test_accuracy': test_accuracy_multiple_runs,\n",
        "                                'hyperparams': hyperparams,\n",
        "                                }"
      ],
      "execution_count": 62,
      "outputs": []
    },
    {
      "cell_type": "markdown",
      "metadata": {
        "id": "z_jifdzniuhm"
      },
      "source": [
        "## MNIST MLP on IID"
      ]
    },
    {
      "cell_type": "markdown",
      "metadata": {
        "id": "uh-te0Od2XGO"
      },
      "source": [
        "### Train"
      ]
    },
    {
      "cell_type": "code",
      "metadata": {
        "id": "UmpWmKOQixVV"
      },
      "source": [
        "# train_loss_multiple_runs = [None] * NUM_REPEAT\n",
        "# test_accuracy_multiple_runs = [None] * NUM_REPEAT\n",
        "# test_loss_multiple_runs = [None] * NUM_REPEAT\n",
        "\n",
        "# for exp_num in range(NUM_REPEAT):\n",
        "#   print(\"Experiment Run Number: \", exp_num)\n",
        "\n",
        "#   # number of training rounds\n",
        "#   rounds = 50\n",
        "#   # client fraction\n",
        "#   C = 0.1\n",
        "#   # number of clients\n",
        "#   K = 100\n",
        "#   # number of training passes on local dataset for each round\n",
        "#   E = 5\n",
        "#   # batch size\n",
        "#   batch_size = 10\n",
        "#   # learning Rate\n",
        "#   lr=0.05\n",
        "#   # dict containing different type of data partition\n",
        "#   data_dict = iid_partition(mnist_data_train, 100)\n",
        "#   # load model\n",
        "#   mnist_mlp = MNIST_2NN()\n",
        "\n",
        "#   if torch.cuda.is_available():\n",
        "#     mnist_mlp.cuda()\n",
        "\n",
        "#   mnist_mlp_iid_trained, train_loss, test_accuracy, test_loss = training(mnist_mlp, rounds, batch_size, lr, mnist_data_train, mnist_data_test, data_dict, C, K, E, \"MNIST MLP on IID Dataset\", \"orange\", 0.01)\n",
        "  \n",
        "#   train_loss_multiple_runs[exp_num] = train_loss\n",
        "#   test_accuracy_multiple_runs[exp_num] = test_accuracy\n",
        "#   test_loss_multiple_runs[exp_num] = test_loss"
      ],
      "execution_count": 63,
      "outputs": []
    },
    {
      "cell_type": "markdown",
      "metadata": {
        "id": "aTBsL3-72PPd"
      },
      "source": [
        "### Test"
      ]
    },
    {
      "cell_type": "code",
      "metadata": {
        "id": "a9G4j5L62OrS",
        "colab": {
          "base_uri": "https://localhost:8080/"
        },
        "outputId": "9864c181-6da8-4481-f9ec-79bdfa1e7447"
      },
      "source": [
        "criterion = nn.CrossEntropyLoss()\n",
        "acc, loss = testing(mnist_mlp_iid_trained, mnist_data_test, 128, criterion, num_classes, classes_test, True)"
      ],
      "execution_count": 64,
      "outputs": [
        {
          "output_type": "stream",
          "text": [
            "Test Loss: 0.108210\n",
            "\n",
            "Test Accuracy of     0: 98% (75/76)\n",
            "Test Accuracy of     1: 97% (88/90)\n",
            "Test Accuracy of     2: 94% (86/91)\n",
            "Test Accuracy of     3: 98% (72/73)\n",
            "Test Accuracy of     4: 96% (86/89)\n",
            "Test Accuracy of     5: 94% (64/68)\n",
            "Test Accuracy of     6: 98% (61/62)\n",
            "Test Accuracy of     7: 96% (78/81)\n",
            "Test Accuracy of     8: 100% (77/77)\n",
            "Test Accuracy of     9: 98% (82/83)\n",
            "\n",
            "Final Test  Accuracy: 97.342 (769.0/790.0)\n"
          ],
          "name": "stdout"
        }
      ]
    },
    {
      "cell_type": "code",
      "metadata": {
        "id": "fWCdJFRCL_f2"
      },
      "source": [
        "hyperparams = {'rounds': rounds,\n",
        "               'C': C,\n",
        "               'K': K,\n",
        "               'E': E,\n",
        "               'batch_size': batch_size,\n",
        "               'lr': lr,\n",
        "               }\n",
        "\n",
        "log_dict['MNIST MLP on IID'] = {'train_loss': train_loss_multiple_runs, \n",
        "                                'test_loss': test_loss_multiple_runs, \n",
        "                                'test_accuracy': test_accuracy_multiple_runs,\n",
        "                                'hyperparams': hyperparams,\n",
        "                                }"
      ],
      "execution_count": 65,
      "outputs": []
    },
    {
      "cell_type": "markdown",
      "metadata": {
        "id": "J8jzEyO0iywz"
      },
      "source": [
        "## MNIST MLP on Non IID"
      ]
    },
    {
      "cell_type": "markdown",
      "metadata": {
        "id": "pJFepr3y2bF-"
      },
      "source": [
        "### Train"
      ]
    },
    {
      "cell_type": "code",
      "metadata": {
        "id": "EBKO44Hgi1Uh",
        "colab": {
          "base_uri": "https://localhost:8080/",
          "height": 1000
        },
        "outputId": "942d9110-82da-4dcd-819f-1affafeaf52c"
      },
      "source": [
        "train_loss_multiple_runs = [None] * NUM_REPEAT\n",
        "test_accuracy_multiple_runs = [None] * NUM_REPEAT\n",
        "test_loss_multiple_runs = [None] * NUM_REPEAT\n",
        "\n",
        "for exp_num in range(NUM_REPEAT):\n",
        "  print(\"Experiment Run Number: \", exp_num)\n",
        "  \n",
        "  # number of training rounds\n",
        "  rounds = 50\n",
        "  # client fraction\n",
        "  C = 0.1\n",
        "  # number of clients\n",
        "  K = 100\n",
        "  # number of training passes on local dataset for each roung\n",
        "  E = 5\n",
        "  # batch size\n",
        "  batch_size = 10\n",
        "  # learning Rate\n",
        "  lr=0.05\n",
        "  # dict containing different type of data partition\n",
        "  data_dict = non_iid_partition(mnist_data_train, 100, 500, 120, 5)\n",
        "  # load model\n",
        "  mnist_mlp = MNIST_2NN()\n",
        "\n",
        "  if torch.cuda.is_available():\n",
        "    mnist_mlp.cuda()\n",
        "\n",
        "  mnist_mlp_non_iid_trained, train_loss, test_accuracy, test_loss = training(mnist_mlp, rounds, batch_size, lr, mnist_data_train, mnist_data_test, data_dict, C, K, E, \"MNIST MLP on Non-IID Dataset\", \"green\", 0.01)\n",
        "\n",
        "  train_loss_multiple_runs[exp_num] = train_loss\n",
        "  test_accuracy_multiple_runs[exp_num] = test_accuracy\n",
        "  test_loss_multiple_runs[exp_num] = test_loss"
      ],
      "execution_count": 66,
      "outputs": [
        {
          "output_type": "stream",
          "text": [
            "Experiment Run Number:  0\n",
            "Round: 1... \tAverage Loss: 0.202\n",
            "Round: 2... \tAverage Loss: 0.142\n",
            "Round: 3... \tAverage Loss: 0.107\n",
            "Round: 4... \tAverage Loss: 0.085\n",
            "Round: 5... \tAverage Loss: 0.085\n",
            "Round: 6... \tAverage Loss: 0.092\n",
            "Round: 7... \tAverage Loss: 0.073\n",
            "Round: 8... \tAverage Loss: 0.083\n",
            "Round: 9... \tAverage Loss: 0.068\n",
            "Round: 10... \tAverage Loss: 0.064\n",
            "Round: 11... \tAverage Loss: 0.06\n",
            "Round: 12... \tAverage Loss: 0.067\n",
            "Round: 13... \tAverage Loss: 0.07\n",
            "Round: 14... \tAverage Loss: 0.062\n",
            "Round: 15... \tAverage Loss: 0.062\n",
            "Round: 16... \tAverage Loss: 0.047\n",
            "Round: 17... \tAverage Loss: 0.053\n",
            "Round: 18... \tAverage Loss: 0.054\n",
            "Round: 19... \tAverage Loss: 0.073\n",
            "Round: 20... \tAverage Loss: 0.044\n",
            "Round: 21... \tAverage Loss: 0.044\n",
            "Round: 22... \tAverage Loss: 0.049\n",
            "Round: 23... \tAverage Loss: 0.046\n",
            "Round: 24... \tAverage Loss: 0.064\n",
            "Round: 25... \tAverage Loss: 0.045\n",
            "Round: 26... \tAverage Loss: 0.047\n",
            "Round: 27... \tAverage Loss: 0.049\n",
            "Round: 28... \tAverage Loss: 0.047\n",
            "Round: 29... \tAverage Loss: 0.042\n",
            "Round: 30... \tAverage Loss: 0.052\n",
            "Round: 31... \tAverage Loss: 0.047\n",
            "Round: 32... \tAverage Loss: 0.036\n",
            "Round: 33... \tAverage Loss: 0.029\n",
            "Round: 34... \tAverage Loss: 0.057\n",
            "Round: 35... \tAverage Loss: 0.034\n",
            "Round: 36... \tAverage Loss: 0.038\n",
            "Round: 37... \tAverage Loss: 0.052\n",
            "Round: 38... \tAverage Loss: 0.043\n",
            "Round: 39... \tAverage Loss: 0.034\n",
            "Round: 40... \tAverage Loss: 0.044\n",
            "Round: 41... \tAverage Loss: 0.036\n",
            "Round: 42... \tAverage Loss: 0.053\n",
            "Round: 43... \tAverage Loss: 0.058\n",
            "Round: 44... \tAverage Loss: 0.032\n",
            "Round: 45... \tAverage Loss: 0.043\n",
            "Round: 46... \tAverage Loss: 0.044\n",
            "Round: 47... \tAverage Loss: 0.034\n",
            "Round: 48... \tAverage Loss: 0.033\n",
            "Round: 49... \tAverage Loss: 0.052\n",
            "Round: 50... \tAverage Loss: 0.032\n"
          ],
          "name": "stdout"
        },
        {
          "output_type": "display_data",
          "data": {
            "image/png": "[encoded data removed]",
            "text/plain": [
              "<Figure size 432x288 with 1 Axes>"
            ]
          },
          "metadata": {
            "tags": [],
            "needs_background": "light"
          }
        },
        {
          "output_type": "display_data",
          "data": {
            "image/png": "[encoded data removed]",
            "text/plain": [
              "<Figure size 432x288 with 1 Axes>"
            ]
          },
          "metadata": {
            "tags": [],
            "needs_background": "light"
          }
        },
        {
          "output_type": "display_data",
          "data": {
            "image/png": "[encoded data removed]",
            "text/plain": [
              "<Figure size 432x288 with 1 Axes>"
            ]
          },
          "metadata": {
            "tags": [],
            "needs_background": "light"
          }
        },
        {
          "output_type": "stream",
          "text": [
            "Training Done!\n",
            "Total time taken to Train: 2037.9627051353455\n",
            "\n",
            "\n"
          ],
          "name": "stdout"
        }
      ]
    },
    {
      "cell_type": "markdown",
      "metadata": {
        "id": "jmuQYPbF2mes"
      },
      "source": [
        "### Test"
      ]
    },
    {
      "cell_type": "code",
      "metadata": {
        "id": "0tKMlJyF2nGN",
        "colab": {
          "base_uri": "https://localhost:8080/"
        },
        "outputId": "72506f2a-755e-45a6-e820-d8a0ab78fd9c"
      },
      "source": [
        "criterion = nn.CrossEntropyLoss()\n",
        "acc, loss = testing(mnist_mlp_non_iid_trained, mnist_data_test, 128, criterion, num_classes, classes_test, True)"
      ],
      "execution_count": 67,
      "outputs": [
        {
          "output_type": "stream",
          "text": [
            "Test Loss: 0.305414\n",
            "\n",
            "Test Accuracy of     0: 98% (75/76)\n",
            "Test Accuracy of     1: 97% (88/90)\n",
            "Test Accuracy of     2: 83% (76/91)\n",
            "Test Accuracy of     3: 91% (67/73)\n",
            "Test Accuracy of     4: 61% (55/89)\n",
            "Test Accuracy of     5: 94% (64/68)\n",
            "Test Accuracy of     6: 98% (61/62)\n",
            "Test Accuracy of     7: 93% (76/81)\n",
            "Test Accuracy of     8: 96% (74/77)\n",
            "Test Accuracy of     9: 97% (81/83)\n",
            "\n",
            "Final Test  Accuracy: 90.759 (717.0/790.0)\n"
          ],
          "name": "stdout"
        }
      ]
    },
    {
      "cell_type": "code",
      "metadata": {
        "id": "1W5krYcSMQiu"
      },
      "source": [
        "hyperparams = {'rounds': rounds,\n",
        "               'C': C,\n",
        "               'K': K,\n",
        "               'E': E,\n",
        "               'batch_size': batch_size,\n",
        "               'lr': lr,\n",
        "               }\n",
        "\n",
        "log_dict['MNIST MLP on Non IID'] = {'train_loss': train_loss_multiple_runs, \n",
        "                                'test_loss': test_loss_multiple_runs, \n",
        "                                'test_accuracy': test_accuracy_multiple_runs,\n",
        "                                'hyperparams': hyperparams,\n",
        "                                }"
      ],
      "execution_count": 68,
      "outputs": []
    },
    {
      "cell_type": "markdown",
      "metadata": {
        "id": "emS_SaRAP6TZ"
      },
      "source": [
        "## Pickle Log"
      ]
    },
    {
      "cell_type": "code",
      "metadata": {
        "id": "soAN38JoP0c1"
      },
      "source": [
        "import pickle\n",
        " \n",
        "with open(path + 'FedMed_05shards.pkl', 'wb') as file:\n",
        "  pickle.dump(log_dict, file)"
      ],
      "execution_count": 69,
      "outputs": []
    },
    {
      "cell_type": "code",
      "metadata": {
        "id": "2UBy-JswSoCJ",
        "colab": {
          "base_uri": "https://localhost:8080/"
        },
        "outputId": "6133862e-8cc7-43bb-aa5c-63c74991b8e7"
      },
      "source": [
        "log_dict"
      ],
      "execution_count": 70,
      "outputs": [
        {
          "output_type": "execute_result",
          "data": {
            "text/plain": [
              "{'MNIST CNN on IID': {'hyperparams': {'C': 0.1,\n",
              "   'E': 5,\n",
              "   'K': 100,\n",
              "   'batch_size': 10,\n",
              "   'lr': 0.05,\n",
              "   'rounds': 50},\n",
              "  'test_accuracy': [[22.025316455696203,\n",
              "    32.78481012658228,\n",
              "    13.037974683544304,\n",
              "    41.392405063291136,\n",
              "    47.21518987341772,\n",
              "    25.31645569620253,\n",
              "    38.48101265822785,\n",
              "    33.79746835443038,\n",
              "    31.39240506329114,\n",
              "    44.55696202531646,\n",
              "    60.12658227848101,\n",
              "    58.734177215189874,\n",
              "    57.46835443037975,\n",
              "    22.27848101265823,\n",
              "    62.78481012658228,\n",
              "    55.063291139240505,\n",
              "    61.64556962025316,\n",
              "    47.21518987341772,\n",
              "    24.303797468354432,\n",
              "    64.55696202531645,\n",
              "    63.79746835443038,\n",
              "    61.51898734177215,\n",
              "    65.69620253164557,\n",
              "    45.949367088607595,\n",
              "    75.56962025316456,\n",
              "    74.43037974683544,\n",
              "    70.12658227848101,\n",
              "    70.75949367088607,\n",
              "    66.32911392405063,\n",
              "    70.63291139240506,\n",
              "    68.10126582278481,\n",
              "    62.278481012658226,\n",
              "    60.12658227848101,\n",
              "    67.34177215189874,\n",
              "    67.9746835443038,\n",
              "    59.74683544303797,\n",
              "    67.59493670886076,\n",
              "    71.39240506329114,\n",
              "    64.81012658227849,\n",
              "    70.88607594936708,\n",
              "    71.77215189873418,\n",
              "    61.64556962025316,\n",
              "    70.0,\n",
              "    73.0379746835443,\n",
              "    67.21518987341773,\n",
              "    68.60759493670886,\n",
              "    74.55696202531645,\n",
              "    75.18987341772151,\n",
              "    77.59493670886076,\n",
              "    81.39240506329114]],\n",
              "  'test_loss': [[4.3116066368103025,\n",
              "    3.9284378803253173,\n",
              "    4.404000183868408,\n",
              "    3.4720297134399414,\n",
              "    3.170250102996826,\n",
              "    3.77851286315918,\n",
              "    3.305629577255249,\n",
              "    3.34913772315979,\n",
              "    3.3554475021362307,\n",
              "    2.722263611984253,\n",
              "    2.7003294700622558,\n",
              "    2.409594769668579,\n",
              "    2.375011675643921,\n",
              "    3.75285937538147,\n",
              "    2.3662525367736817,\n",
              "    2.420241550064087,\n",
              "    2.311153271484375,\n",
              "    2.416670513534546,\n",
              "    3.1687986282348635,\n",
              "    2.0590084011077883,\n",
              "    2.0388049968719484,\n",
              "    2.078182282447815,\n",
              "    2.0701058906555176,\n",
              "    3.1028933818817137,\n",
              "    2.1035488784790037,\n",
              "    2.156269821166992,\n",
              "    2.034025407600403,\n",
              "    2.0149397354125975,\n",
              "    2.161093258857727,\n",
              "    1.916564623451233,\n",
              "    1.9109437845230102,\n",
              "    1.994664101600647,\n",
              "    2.125885289001465,\n",
              "    1.9514403078079223,\n",
              "    1.9523015920639037,\n",
              "    1.8899047092437744,\n",
              "    1.808165114212036,\n",
              "    1.8594976432800292,\n",
              "    1.8497796770095825,\n",
              "    1.8110695751190184,\n",
              "    1.8666496307373046,\n",
              "    2.0277445899963378,\n",
              "    2.019116990661621,\n",
              "    2.0584139053344725,\n",
              "    1.8857245435714722,\n",
              "    1.8728088649749757,\n",
              "    1.9631620050430298,\n",
              "    1.9929593090057374,\n",
              "    1.8920303718566895,\n",
              "    1.9488757204055787]],\n",
              "  'train_loss': [[0.1097293505412659,\n",
              "    0.07324895336481821,\n",
              "    0.06614458696855946,\n",
              "    0.048839646441408445,\n",
              "    0.04897313106897255,\n",
              "    0.04391280727750503,\n",
              "    0.04011893331625575,\n",
              "    0.4774039773067275,\n",
              "    0.030024367187494044,\n",
              "    0.046547211941068437,\n",
              "    0.07547357255872904,\n",
              "    0.3051600985938322,\n",
              "    0.05453099143965574,\n",
              "    0.0785105762440276,\n",
              "    0.046187412296057204,\n",
              "    0.10300082574685414,\n",
              "    0.0372084632269422,\n",
              "    0.039243981869921084,\n",
              "    0.03480549618840363,\n",
              "    0.07585715515786783,\n",
              "    0.032618543868736555,\n",
              "    0.03816920543808557,\n",
              "    0.03292350980758493,\n",
              "    0.03271267504695356,\n",
              "    0.03398678375202065,\n",
              "    0.037870005915381165,\n",
              "    0.045334842560508876,\n",
              "    0.027193418161231032,\n",
              "    0.045352872307638445,\n",
              "    0.0473883632478705,\n",
              "    0.019770151185178594,\n",
              "    0.028292986351186163,\n",
              "    0.04581450957688187,\n",
              "    0.0210696842066875,\n",
              "    0.019581710635206685,\n",
              "    0.026395138941393493,\n",
              "    0.04182162457069925,\n",
              "    0.03481144739673911,\n",
              "    0.04876256854009343,\n",
              "    0.025411287321336518,\n",
              "    0.02561246046123477,\n",
              "    0.02230215349095622,\n",
              "    0.03775583774561488,\n",
              "    0.031359582490859114,\n",
              "    0.035316431263048925,\n",
              "    0.0202061728664636,\n",
              "    0.041445982178884934,\n",
              "    0.030691570175995147,\n",
              "    0.041097100011168605,\n",
              "    0.026937172748640374]]},\n",
              " 'MNIST CNN on Non IID': {'hyperparams': {'C': 0.1,\n",
              "   'E': 5,\n",
              "   'K': 100,\n",
              "   'batch_size': 10,\n",
              "   'lr': 0.05,\n",
              "   'rounds': 50},\n",
              "  'test_accuracy': [[46.45569620253165,\n",
              "    52.65822784810127,\n",
              "    74.43037974683544,\n",
              "    79.24050632911393,\n",
              "    91.77215189873418,\n",
              "    80.88607594936708,\n",
              "    80.75949367088607,\n",
              "    92.9113924050633,\n",
              "    93.41772151898734,\n",
              "    95.82278481012658,\n",
              "    89.11392405063292,\n",
              "    95.82278481012658,\n",
              "    93.79746835443038,\n",
              "    91.77215189873418,\n",
              "    94.9367088607595,\n",
              "    94.17721518987342,\n",
              "    96.20253164556962,\n",
              "    97.9746835443038,\n",
              "    98.48101265822785,\n",
              "    97.21518987341773,\n",
              "    97.59493670886076,\n",
              "    97.84810126582279,\n",
              "    97.9746835443038,\n",
              "    96.9620253164557,\n",
              "    97.34177215189874,\n",
              "    97.84810126582279,\n",
              "    98.48101265822785,\n",
              "    98.22784810126582,\n",
              "    98.48101265822785,\n",
              "    98.48101265822785,\n",
              "    98.22784810126582,\n",
              "    98.73417721518987,\n",
              "    98.60759493670886,\n",
              "    98.48101265822785,\n",
              "    98.86075949367088,\n",
              "    98.35443037974683,\n",
              "    98.35443037974683,\n",
              "    98.10126582278481,\n",
              "    98.22784810126582,\n",
              "    98.60759493670886,\n",
              "    98.60759493670886,\n",
              "    96.20253164556962,\n",
              "    97.72151898734177,\n",
              "    98.48101265822785,\n",
              "    98.73417721518987,\n",
              "    97.21518987341773,\n",
              "    98.86075949367088,\n",
              "    98.35443037974683,\n",
              "    98.86075949367088,\n",
              "    98.48101265822785]],\n",
              "  'test_loss': [[1.73783616065979,\n",
              "    1.7012125066757202,\n",
              "    0.753856031036377,\n",
              "    0.5171886550903321,\n",
              "    0.2407276581764221,\n",
              "    0.5192780917167663,\n",
              "    0.457691424703598,\n",
              "    0.2050750568151474,\n",
              "    0.18396418466567993,\n",
              "    0.12493930393084883,\n",
              "    0.27672919766902926,\n",
              "    0.12909841300398112,\n",
              "    0.16413247958421706,\n",
              "    0.2432012627363205,\n",
              "    0.17659700741767884,\n",
              "    0.16973406824469567,\n",
              "    0.09984761878550052,\n",
              "    0.06878346553482115,\n",
              "    0.061217820867151024,\n",
              "    0.08847644447423518,\n",
              "    0.0731039228014648,\n",
              "    0.06717550899237394,\n",
              "    0.05709191817939281,\n",
              "    0.09604679444432258,\n",
              "    0.07088058696687222,\n",
              "    0.05892266857549548,\n",
              "    0.05331734221559018,\n",
              "    0.054815460503846405,\n",
              "    0.051968970031291244,\n",
              "    0.0738196438050829,\n",
              "    0.06272733507971279,\n",
              "    0.04834452715953812,\n",
              "    0.04847308273697272,\n",
              "    0.05714533877139911,\n",
              "    0.046813054998032747,\n",
              "    0.05960899755768478,\n",
              "    0.06252795199118555,\n",
              "    0.07669414237271995,\n",
              "    0.05133249873146415,\n",
              "    0.049626528561860325,\n",
              "    0.05228870778051205,\n",
              "    0.11317419471573084,\n",
              "    0.059393186372891066,\n",
              "    0.047360856675356625,\n",
              "    0.05570180754065514,\n",
              "    0.07147545860409736,\n",
              "    0.044728689587675036,\n",
              "    0.05054843561649323,\n",
              "    0.05235050637740642,\n",
              "    0.050996818068111315]],\n",
              "  'train_loss': [[0.18049569102609073,\n",
              "    0.11986339288191697,\n",
              "    0.07976250629459619,\n",
              "    0.045311187308632,\n",
              "    0.03111938158842741,\n",
              "    0.04549044331428618,\n",
              "    0.044453404236555354,\n",
              "    0.03700802306766868,\n",
              "    0.03983810956848204,\n",
              "    0.03497969932002252,\n",
              "    0.031257114488214964,\n",
              "    0.03120750776491161,\n",
              "    0.02827345900840328,\n",
              "    0.02524308420752045,\n",
              "    0.026410341834127205,\n",
              "    0.025216667481025346,\n",
              "    0.018531905701117426,\n",
              "    0.03689976584455017,\n",
              "    0.019908570919589124,\n",
              "    0.028819547992452794,\n",
              "    0.023872356444672744,\n",
              "    0.028102387320013876,\n",
              "    0.032868806193553944,\n",
              "    0.0233834401436585,\n",
              "    0.023222197858532058,\n",
              "    0.02254866467061084,\n",
              "    0.022875881771117216,\n",
              "    0.027467358004738467,\n",
              "    0.025182023017649192,\n",
              "    0.021852441428396683,\n",
              "    0.022410569271946238,\n",
              "    0.016412318178538204,\n",
              "    0.02198780660251177,\n",
              "    0.02043861701393903,\n",
              "    0.02414489163881531,\n",
              "    0.017498727986187762,\n",
              "    0.020867032504733686,\n",
              "    0.026743169155325725,\n",
              "    0.015330395639400033,\n",
              "    0.024991906101291986,\n",
              "    0.017820315330882255,\n",
              "    0.017505237814316083,\n",
              "    0.015655791147439355,\n",
              "    0.01792556560454652,\n",
              "    0.021000025871525958,\n",
              "    0.021501145085139322,\n",
              "    0.01363888940166925,\n",
              "    0.016509749826418844,\n",
              "    0.019799020331289604,\n",
              "    0.020176547509119448]]},\n",
              " 'MNIST MLP on IID': {'hyperparams': {'C': 0.1,\n",
              "   'E': 5,\n",
              "   'K': 100,\n",
              "   'batch_size': 10,\n",
              "   'lr': 0.05,\n",
              "   'rounds': 50},\n",
              "  'test_accuracy': [[46.45569620253165,\n",
              "    52.65822784810127,\n",
              "    74.43037974683544,\n",
              "    79.24050632911393,\n",
              "    91.77215189873418,\n",
              "    80.88607594936708,\n",
              "    80.75949367088607,\n",
              "    92.9113924050633,\n",
              "    93.41772151898734,\n",
              "    95.82278481012658,\n",
              "    89.11392405063292,\n",
              "    95.82278481012658,\n",
              "    93.79746835443038,\n",
              "    91.77215189873418,\n",
              "    94.9367088607595,\n",
              "    94.17721518987342,\n",
              "    96.20253164556962,\n",
              "    97.9746835443038,\n",
              "    98.48101265822785,\n",
              "    97.21518987341773,\n",
              "    97.59493670886076,\n",
              "    97.84810126582279,\n",
              "    97.9746835443038,\n",
              "    96.9620253164557,\n",
              "    97.34177215189874,\n",
              "    97.84810126582279,\n",
              "    98.48101265822785,\n",
              "    98.22784810126582,\n",
              "    98.48101265822785,\n",
              "    98.48101265822785,\n",
              "    98.22784810126582,\n",
              "    98.73417721518987,\n",
              "    98.60759493670886,\n",
              "    98.48101265822785,\n",
              "    98.86075949367088,\n",
              "    98.35443037974683,\n",
              "    98.35443037974683,\n",
              "    98.10126582278481,\n",
              "    98.22784810126582,\n",
              "    98.60759493670886,\n",
              "    98.60759493670886,\n",
              "    96.20253164556962,\n",
              "    97.72151898734177,\n",
              "    98.48101265822785,\n",
              "    98.73417721518987,\n",
              "    97.21518987341773,\n",
              "    98.86075949367088,\n",
              "    98.35443037974683,\n",
              "    98.86075949367088,\n",
              "    98.48101265822785]],\n",
              "  'test_loss': [[1.73783616065979,\n",
              "    1.7012125066757202,\n",
              "    0.753856031036377,\n",
              "    0.5171886550903321,\n",
              "    0.2407276581764221,\n",
              "    0.5192780917167663,\n",
              "    0.457691424703598,\n",
              "    0.2050750568151474,\n",
              "    0.18396418466567993,\n",
              "    0.12493930393084883,\n",
              "    0.27672919766902926,\n",
              "    0.12909841300398112,\n",
              "    0.16413247958421706,\n",
              "    0.2432012627363205,\n",
              "    0.17659700741767884,\n",
              "    0.16973406824469567,\n",
              "    0.09984761878550052,\n",
              "    0.06878346553482115,\n",
              "    0.061217820867151024,\n",
              "    0.08847644447423518,\n",
              "    0.0731039228014648,\n",
              "    0.06717550899237394,\n",
              "    0.05709191817939281,\n",
              "    0.09604679444432258,\n",
              "    0.07088058696687222,\n",
              "    0.05892266857549548,\n",
              "    0.05331734221559018,\n",
              "    0.054815460503846405,\n",
              "    0.051968970031291244,\n",
              "    0.0738196438050829,\n",
              "    0.06272733507971279,\n",
              "    0.04834452715953812,\n",
              "    0.04847308273697272,\n",
              "    0.05714533877139911,\n",
              "    0.046813054998032747,\n",
              "    0.05960899755768478,\n",
              "    0.06252795199118555,\n",
              "    0.07669414237271995,\n",
              "    0.05133249873146415,\n",
              "    0.049626528561860325,\n",
              "    0.05228870778051205,\n",
              "    0.11317419471573084,\n",
              "    0.059393186372891066,\n",
              "    0.047360856675356625,\n",
              "    0.05570180754065514,\n",
              "    0.07147545860409736,\n",
              "    0.044728689587675036,\n",
              "    0.05054843561649323,\n",
              "    0.05235050637740642,\n",
              "    0.050996818068111315]],\n",
              "  'train_loss': [[0.18049569102609073,\n",
              "    0.11986339288191697,\n",
              "    0.07976250629459619,\n",
              "    0.045311187308632,\n",
              "    0.03111938158842741,\n",
              "    0.04549044331428618,\n",
              "    0.044453404236555354,\n",
              "    0.03700802306766868,\n",
              "    0.03983810956848204,\n",
              "    0.03497969932002252,\n",
              "    0.031257114488214964,\n",
              "    0.03120750776491161,\n",
              "    0.02827345900840328,\n",
              "    0.02524308420752045,\n",
              "    0.026410341834127205,\n",
              "    0.025216667481025346,\n",
              "    0.018531905701117426,\n",
              "    0.03689976584455017,\n",
              "    0.019908570919589124,\n",
              "    0.028819547992452794,\n",
              "    0.023872356444672744,\n",
              "    0.028102387320013876,\n",
              "    0.032868806193553944,\n",
              "    0.0233834401436585,\n",
              "    0.023222197858532058,\n",
              "    0.02254866467061084,\n",
              "    0.022875881771117216,\n",
              "    0.027467358004738467,\n",
              "    0.025182023017649192,\n",
              "    0.021852441428396683,\n",
              "    0.022410569271946238,\n",
              "    0.016412318178538204,\n",
              "    0.02198780660251177,\n",
              "    0.02043861701393903,\n",
              "    0.02414489163881531,\n",
              "    0.017498727986187762,\n",
              "    0.020867032504733686,\n",
              "    0.026743169155325725,\n",
              "    0.015330395639400033,\n",
              "    0.024991906101291986,\n",
              "    0.017820315330882255,\n",
              "    0.017505237814316083,\n",
              "    0.015655791147439355,\n",
              "    0.01792556560454652,\n",
              "    0.021000025871525958,\n",
              "    0.021501145085139322,\n",
              "    0.01363888940166925,\n",
              "    0.016509749826418844,\n",
              "    0.019799020331289604,\n",
              "    0.020176547509119448]]},\n",
              " 'MNIST MLP on Non IID': {'hyperparams': {'C': 0.1,\n",
              "   'E': 5,\n",
              "   'K': 100,\n",
              "   'batch_size': 10,\n",
              "   'lr': 0.05,\n",
              "   'rounds': 50},\n",
              "  'test_accuracy': [[25.949367088607595,\n",
              "    32.91139240506329,\n",
              "    41.265822784810126,\n",
              "    64.0506329113924,\n",
              "    57.21518987341772,\n",
              "    65.0632911392405,\n",
              "    70.0,\n",
              "    85.56962025316456,\n",
              "    82.78481012658227,\n",
              "    84.68354430379746,\n",
              "    88.10126582278481,\n",
              "    88.35443037974683,\n",
              "    86.58227848101266,\n",
              "    85.0632911392405,\n",
              "    90.37974683544304,\n",
              "    88.22784810126582,\n",
              "    92.27848101265823,\n",
              "    86.9620253164557,\n",
              "    78.73417721518987,\n",
              "    88.48101265822785,\n",
              "    89.74683544303798,\n",
              "    80.25316455696202,\n",
              "    86.9620253164557,\n",
              "    82.15189873417721,\n",
              "    90.37974683544304,\n",
              "    90.0,\n",
              "    84.0506329113924,\n",
              "    87.9746835443038,\n",
              "    86.83544303797468,\n",
              "    87.0886075949367,\n",
              "    90.63291139240506,\n",
              "    88.35443037974683,\n",
              "    92.0253164556962,\n",
              "    95.0632911392405,\n",
              "    93.79746835443038,\n",
              "    94.68354430379746,\n",
              "    90.75949367088607,\n",
              "    93.29113924050633,\n",
              "    92.40506329113924,\n",
              "    88.9873417721519,\n",
              "    93.54430379746836,\n",
              "    87.72151898734177,\n",
              "    92.40506329113924,\n",
              "    91.13924050632912,\n",
              "    94.43037974683544,\n",
              "    90.37974683544304,\n",
              "    94.0506329113924,\n",
              "    92.78481012658227,\n",
              "    88.9873417721519,\n",
              "    90.75949367088607]],\n",
              "  'test_loss': [[4.787894665527344,\n",
              "    4.2474716278076174,\n",
              "    2.4492367469787597,\n",
              "    1.3471165685653685,\n",
              "    1.585076590156555,\n",
              "    1.3129691677093507,\n",
              "    1.0917447584152222,\n",
              "    0.5140063730716705,\n",
              "    0.5031352563858033,\n",
              "    0.515181123304367,\n",
              "    0.42734022374153136,\n",
              "    0.44175523467063904,\n",
              "    0.4730454391956329,\n",
              "    0.49472997438907623,\n",
              "    0.3568612610936165,\n",
              "    0.44435605540275575,\n",
              "    0.3317467434883118,\n",
              "    0.432681138086319,\n",
              "    0.6787347738265991,\n",
              "    0.3729448521614075,\n",
              "    0.3847079333782196,\n",
              "    0.6532072635650634,\n",
              "    0.4097587306499481,\n",
              "    0.5572862707138061,\n",
              "    0.3392381777763367,\n",
              "    0.3489602862596512,\n",
              "    0.5267268710136414,\n",
              "    0.42468500962257383,\n",
              "    0.4227895429134369,\n",
              "    0.4576324663162231,\n",
              "    0.3253429543733597,\n",
              "    0.32737704021930697,\n",
              "    0.31108681849241254,\n",
              "    0.21505898545980454,\n",
              "    0.24750901307463646,\n",
              "    0.2290495055913925,\n",
              "    0.354945675110817,\n",
              "    0.263226050978899,\n",
              "    0.25738317170143127,\n",
              "    0.3427658577442169,\n",
              "    0.23863651969730854,\n",
              "    0.36787077906131743,\n",
              "    0.28872892865538596,\n",
              "    0.3009247615456581,\n",
              "    0.22039266613125802,\n",
              "    0.3514652921438217,\n",
              "    0.24381105782687665,\n",
              "    0.27767130507826804,\n",
              "    0.35068893089294434,\n",
              "    0.3054136162638664]],\n",
              "  'train_loss': [[0.20194261315532605,\n",
              "    0.14195637975977662,\n",
              "    0.10714967306078871,\n",
              "    0.08496242512511012,\n",
              "    0.08455122222023345,\n",
              "    0.09204597353505262,\n",
              "    0.0732417469640649,\n",
              "    0.08336607527416859,\n",
              "    0.0678569258166229,\n",
              "    0.06368663872388879,\n",
              "    0.060457429273874666,\n",
              "    0.06693252290722702,\n",
              "    0.06989614291824923,\n",
              "    0.06222327132794212,\n",
              "    0.061798285661416874,\n",
              "    0.04713342530388527,\n",
              "    0.05347225751708114,\n",
              "    0.05406517112258219,\n",
              "    0.07307807871080392,\n",
              "    0.0437888560746533,\n",
              "    0.04388157201822486,\n",
              "    0.04879235767166466,\n",
              "    0.04625119445327326,\n",
              "    0.06444281538706015,\n",
              "    0.04510264261600056,\n",
              "    0.047491398899559514,\n",
              "    0.04934054607833908,\n",
              "    0.04743842737386312,\n",
              "    0.04153155594309101,\n",
              "    0.0522520212313663,\n",
              "    0.04679116782286802,\n",
              "    0.03553881090709403,\n",
              "    0.029033979862550807,\n",
              "    0.056808162390513416,\n",
              "    0.03369452399079502,\n",
              "    0.037856204642189875,\n",
              "    0.05182516316281829,\n",
              "    0.04340911140481565,\n",
              "    0.034102732453895494,\n",
              "    0.044499189271132736,\n",
              "    0.035617979630264036,\n",
              "    0.05340287335560322,\n",
              "    0.057604084230505004,\n",
              "    0.03174640393681081,\n",
              "    0.04344411899184018,\n",
              "    0.0436700621768753,\n",
              "    0.03384202032916871,\n",
              "    0.033093101712593734,\n",
              "    0.052067875346169155,\n",
              "    0.03247477604914338]]}}"
            ]
          },
          "metadata": {
            "tags": []
          },
          "execution_count": 70
        }
      ]
    },
    {
      "cell_type": "code",
      "metadata": {
        "id": "igaXd98pqr3N"
      },
      "source": [
        "import pickle\n",
        " \n",
        "with open(path + 'FedMed_05shards.pkl', 'rb') as file:\n",
        "  log_dict = pickle.load(file)"
      ],
      "execution_count": 71,
      "outputs": []
    },
    {
      "cell_type": "code",
      "metadata": {
        "id": "se_04JMaVJPg",
        "colab": {
          "base_uri": "https://localhost:8080/"
        },
        "outputId": "49f72035-f906-476b-e703-74a9c26c76ad"
      },
      "source": [
        "print([test_acc[-1] for test_acc in log_dict['MNIST CNN on IID']['test_accuracy']])"
      ],
      "execution_count": 72,
      "outputs": [
        {
          "output_type": "stream",
          "text": [
            "[81.39240506329114]\n"
          ],
          "name": "stdout"
        }
      ]
    },
    {
      "cell_type": "code",
      "metadata": {
        "id": "5sv0rv-G4Sqa",
        "colab": {
          "base_uri": "https://localhost:8080/"
        },
        "outputId": "00e8b53e-6349-4117-bb3f-0bea0cd77afb"
      },
      "source": [
        "print([test_acc[-1] for test_acc in log_dict['MNIST CNN on Non IID']['test_accuracy']])"
      ],
      "execution_count": 73,
      "outputs": [
        {
          "output_type": "stream",
          "text": [
            "[98.48101265822785]\n"
          ],
          "name": "stdout"
        }
      ]
    },
    {
      "cell_type": "code",
      "metadata": {
        "id": "b2a2_Az-4nal",
        "colab": {
          "base_uri": "https://localhost:8080/"
        },
        "outputId": "bae02871-c255-4547-b653-8193ad259112"
      },
      "source": [
        "print([test_acc[-1] for test_acc in log_dict['MNIST MLP on IID']['test_accuracy']])"
      ],
      "execution_count": 74,
      "outputs": [
        {
          "output_type": "stream",
          "text": [
            "[98.48101265822785]\n"
          ],
          "name": "stdout"
        }
      ]
    },
    {
      "cell_type": "code",
      "metadata": {
        "id": "YoRqZyvD4p2K",
        "colab": {
          "base_uri": "https://localhost:8080/"
        },
        "outputId": "b3a469bf-5928-4e2c-b20e-94162395bc01"
      },
      "source": [
        "print([test_acc[-1] for test_acc in log_dict['MNIST MLP on Non IID']['test_accuracy']])"
      ],
      "execution_count": 75,
      "outputs": [
        {
          "output_type": "stream",
          "text": [
            "[90.75949367088607]\n"
          ],
          "name": "stdout"
        }
      ]
    },
    {
      "cell_type": "code",
      "metadata": {
        "id": "B87eGKJnAHIh",
        "colab": {
          "base_uri": "https://localhost:8080/"
        },
        "outputId": "6eb27e55-4d86-4149-953b-ff1ccdbfba0e"
      },
      "source": [
        "output.show()"
      ],
      "execution_count": 76,
      "outputs": [
        {
          "output_type": "stream",
          "text": [
            "Drive already mounted at /content/drive; to attempt to forcibly remount, call drive.mount(\"/content/drive\", force_remount=True).\n"
          ],
          "name": "stdout"
        }
      ]
    }
  ]
}