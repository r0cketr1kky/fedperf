{
  "nbformat": 4,
  "nbformat_minor": 0,
  "metadata": {
    "accelerator": "GPU",
    "colab": {
      "name": "FederatedMedian.ipynb",
      "provenance": [],
      "collapsed_sections": [],
      "machine_shape": "hm"
    },
    "kernelspec": {
      "name": "python3",
      "display_name": "Python 3"
    },
    "language_info": {
      "name": "python"
    }
  },
  "cells": [
    {
      "cell_type": "markdown",
      "metadata": {
        "id": "view-in-github"
      },
      "source": [
        "<a href=\"https://colab.research.google.com/github/tushar-semwal/fedperf/blob/main/Vineeth/Local_Rounds/FedMed/FederatedMedian.ipynb\" target=\"_parent\"><img src=\"https://colab.research.google.com/assets/colab-badge.svg\" alt=\"Open In Colab\"/></a>"
      ]
    },
    {
      "cell_type": "code",
      "metadata": {
        "id": "yKcpjZLrQQJV"
      },
      "source": [
        "%%capture output\n",
        "try:\n",
        "    from google.colab import drive\n",
        "    drive.mount('/content/drive')\n",
        "\n",
        "    import os\n",
        "    path = '/content/drive/MyDrive/Colab Notebooks/OpenMined/'\n",
        "    os.makedirs(path, exist_ok=True)\n",
        "except:\n",
        "    path = './'"
      ],
      "execution_count": 61,
      "outputs": []
    },
    {
      "cell_type": "markdown",
      "metadata": {
        "id": "-0_nKpfq2h1R"
      },
      "source": [
        "## Imports"
      ]
    },
    {
      "cell_type": "code",
      "metadata": {
        "colab": {
          "base_uri": "https://localhost:8080/"
        },
        "id": "DLLNM9X2JbQ8",
        "outputId": "8f1d1948-a2f7-4aeb-9e4b-9e5e76797129"
      },
      "source": [
        "%load_ext tensorboard\n",
        "import os\n",
        "import numpy as np\n",
        "import matplotlib\n",
        "import matplotlib.pyplot as plt\n",
        "import copy\n",
        "import random\n",
        "import time\n",
        "\n",
        "import torch\n",
        "import torch.nn as nn\n",
        "import torch.nn.functional as F\n",
        "\n",
        "from torch.utils.data import Dataset, DataLoader\n",
        "from torch.utils.tensorboard import SummaryWriter\n",
        "from torchvision import transforms, utils, datasets\n",
        "from torchsummary import summary\n",
        "\n",
        "\n",
        "# Check assigned GPU\n",
        "gpu_info = !nvidia-smi\n",
        "gpu_info = '\\n'.join(gpu_info)\n",
        "if gpu_info.find('failed') >= 0:\n",
        "  print('Select the Runtime > \"Change runtime type\" menu to enable a GPU accelerator, ')\n",
        "  print('and then re-execute this cell.')\n",
        "else:\n",
        "  print(gpu_info)\n",
        "\n",
        "# set manual seed for reproducibility\n",
        "seed = 42\n",
        "\n",
        "# general reproducibility\n",
        "random.seed(seed)\n",
        "np.random.seed(seed)\n",
        "torch.manual_seed(seed)\n",
        "\n",
        "# gpu training specific\n",
        "torch.backends.cudnn.deterministic = True\n",
        "torch.backends.cudnn.benchmark = False"
      ],
      "execution_count": 62,
      "outputs": [
        {
          "output_type": "stream",
          "text": [
            "The tensorboard extension is already loaded. To reload it, use:\n",
            "  %reload_ext tensorboard\n",
            "Thu Apr 22 19:11:24 2021       \n",
            "+-----------------------------------------------------------------------------+\n",
            "| NVIDIA-SMI 460.67       Driver Version: 460.32.03    CUDA Version: 11.2     |\n",
            "|-------------------------------+----------------------+----------------------+\n",
            "| GPU  Name        Persistence-M| Bus-Id        Disp.A | Volatile Uncorr. ECC |\n",
            "| Fan  Temp  Perf  Pwr:Usage/Cap|         Memory-Usage | GPU-Util  Compute M. |\n",
            "|                               |                      |               MIG M. |\n",
            "|===============================+======================+======================|\n",
            "|   0  Tesla P100-PCIE...  Off  | 00000000:00:04.0 Off |                    0 |\n",
            "| N/A   46C    P0    35W / 250W |   1015MiB / 16280MiB |      0%      Default |\n",
            "|                               |                      |                  N/A |\n",
            "+-------------------------------+----------------------+----------------------+\n",
            "                                                                               \n",
            "+-----------------------------------------------------------------------------+\n",
            "| Processes:                                                                  |\n",
            "|  GPU   GI   CI        PID   Type   Process name                  GPU Memory |\n",
            "|        ID   ID                                                   Usage      |\n",
            "|=============================================================================|\n",
            "+-----------------------------------------------------------------------------+\n"
          ],
          "name": "stdout"
        }
      ]
    },
    {
      "cell_type": "markdown",
      "metadata": {
        "id": "NY4eWzGiL6Mj"
      },
      "source": [
        "## Load the MNIST Dataset"
      ]
    },
    {
      "cell_type": "code",
      "metadata": {
        "id": "G649tjTXLL8F"
      },
      "source": [
        "# create transforms\n",
        "# We will just convert to tensor and normalize since no special transforms are mentioned in the paper\n",
        "transforms_mnist = transforms.Compose([\n",
        "                                       transforms.ToTensor(),\n",
        "                                       transforms.Normalize((0.1307,), (0.3081,))\n",
        "                                       ])\n",
        "\n",
        "mnist_data_train = datasets.MNIST('./data/mnist/', train=True, download=True, transform=transforms_mnist)\n",
        "mnist_data_test = datasets.MNIST('../data/mnist/', train=False, download=True, transform=transforms_mnist)"
      ],
      "execution_count": 63,
      "outputs": []
    },
    {
      "cell_type": "code",
      "metadata": {
        "colab": {
          "base_uri": "https://localhost:8080/"
        },
        "id": "dm9usjn2vFkL",
        "outputId": "41b9a4c1-59dc-4a6d-871a-58c530dacab1"
      },
      "source": [
        "classes = np.array(list(mnist_data_train.class_to_idx.values()))\n",
        "classes_test = np.array(list(mnist_data_test.class_to_idx.values()))\n",
        "num_classes = len(classes_test)\n",
        "print(\"Classes: {} \\tType: {}\".format(classes, type(classes)))\n",
        "print(\"Classes Test: {} \\tType: {}\".format(classes_test, type(classes)))\n"
      ],
      "execution_count": 64,
      "outputs": [
        {
          "output_type": "stream",
          "text": [
            "Classes: [0 1 2 3 4 5 6 7 8 9] \tType: <class 'numpy.ndarray'>\n",
            "Classes Test: [0 1 2 3 4 5 6 7 8 9] \tType: <class 'numpy.ndarray'>\n"
          ],
          "name": "stdout"
        }
      ]
    },
    {
      "cell_type": "code",
      "metadata": {
        "colab": {
          "base_uri": "https://localhost:8080/"
        },
        "id": "9lvJt3Ofv2SO",
        "outputId": "2ca3e83e-1653-4a8c-bee4-09d433ff0e28"
      },
      "source": [
        "print(\"Image Shape: {}\".format(mnist_data_train.data[0].size()))"
      ],
      "execution_count": 65,
      "outputs": [
        {
          "output_type": "stream",
          "text": [
            "Image Shape: torch.Size([28, 28])\n"
          ],
          "name": "stdout"
        }
      ]
    },
    {
      "cell_type": "markdown",
      "metadata": {
        "id": "jCOONkg-zV7Y"
      },
      "source": [
        "## Visualize Data"
      ]
    },
    {
      "cell_type": "code",
      "metadata": {
        "id": "R9MK03TZw6Qs"
      },
      "source": [
        "def imshow(img):\n",
        "\timg = img/2 + 0.5 #unnormalize the image\n",
        "\tplt.imshow(img, cmap='gray') # convert from tensor to image"
      ],
      "execution_count": 66,
      "outputs": []
    },
    {
      "cell_type": "code",
      "metadata": {
        "id": "gMJ0Kx4Kw-_H"
      },
      "source": [
        "def visualize(dataset):\n",
        "  figure = plt.figure(figsize=(25,4))\n",
        "  for i in range(20):\n",
        "    axis = figure.add_subplot(2, 20/2, i+1, xticks=[], yticks=[])\n",
        "    data = dataset.data[i]\n",
        "    data = data.numpy()\n",
        "\n",
        "    target = dataset.targets[i]\n",
        "    target = target.numpy()\n",
        "    imshow(data)\n",
        "    axis.set_title(target)\n"
      ],
      "execution_count": 67,
      "outputs": []
    },
    {
      "cell_type": "code",
      "metadata": {
        "colab": {
          "base_uri": "https://localhost:8080/",
          "height": 249
        },
        "id": "8bPOwKg10Ro7",
        "outputId": "873de443-1105-4923-c34d-d2e4aa142fc0"
      },
      "source": [
        "visualize(mnist_data_train)"
      ],
      "execution_count": 68,
      "outputs": [
        {
          "output_type": "display_data",
          "data": {
            "image/png": "[encoded data removed]",
            "text/plain": [
              "<Figure size 1800x288 with 20 Axes>"
            ]
          },
          "metadata": {
            "tags": []
          }
        }
      ]
    },
    {
      "cell_type": "code",
      "metadata": {
        "colab": {
          "base_uri": "https://localhost:8080/",
          "height": 249
        },
        "id": "RKoh5Cf70UYu",
        "outputId": "4d98d324-e682-456f-e33d-07b5ab3315cf"
      },
      "source": [
        "visualize(mnist_data_test)"
      ],
      "execution_count": 69,
      "outputs": [
        {
          "output_type": "display_data",
          "data": {
            "image/png": "[encoded data removed]",
            "text/plain": [
              "<Figure size 1800x288 with 20 Axes>"
            ]
          },
          "metadata": {
            "tags": []
          }
        }
      ]
    },
    {
      "cell_type": "markdown",
      "metadata": {
        "id": "ctjRsETiO1qO"
      },
      "source": [
        "## Partitioning the Data (IID and non-IID)"
      ]
    },
    {
      "cell_type": "code",
      "metadata": {
        "id": "3_v8lyrgO5dD"
      },
      "source": [
        "def iid_partition(dataset, clients):\n",
        "  \"\"\"\n",
        "  I.I.D paritioning of data over clients\n",
        "  Shuffle the data\n",
        "  Split it between clients\n",
        "  \n",
        "  params:\n",
        "    - dataset (torch.utils.Dataset): Dataset containing the MNIST Images\n",
        "    - clients (int): Number of Clients to split the data between\n",
        "\n",
        "  returns:\n",
        "    - Dictionary of image indexes for each client\n",
        "  \"\"\"\n",
        "\n",
        "  num_items_per_client = int(len(dataset)/clients)\n",
        "  client_dict = {}\n",
        "  image_idxs = [i for i in range(len(dataset))]\n",
        "\n",
        "  for i in range(clients):\n",
        "    client_dict[i] = set(np.random.choice(image_idxs, num_items_per_client, replace=False))\n",
        "    image_idxs = list(set(image_idxs) - client_dict[i])\n",
        "\n",
        "  return client_dict"
      ],
      "execution_count": 70,
      "outputs": []
    },
    {
      "cell_type": "code",
      "metadata": {
        "id": "4zMdliGMQoSl"
      },
      "source": [
        "def non_iid_partition(dataset, clients, total_shards, shards_size, num_shards_per_client):\n",
        "  \"\"\"\n",
        "  non I.I.D parititioning of data over clients\n",
        "  Sort the data by the digit label\n",
        "  Divide the data into N shards of size S\n",
        "  Each of the clients will get X shards\n",
        "\n",
        "  params:\n",
        "    - dataset (torch.utils.Dataset): Dataset containing the MNIST Images\n",
        "    - clients (int): Number of Clients to split the data between\n",
        "    - total_shards (int): Number of shards to partition the data in\n",
        "    - shards_size (int): Size of each shard \n",
        "    - num_shards_per_client (int): Number of shards of size shards_size that each client receives\n",
        "\n",
        "  returns:\n",
        "    - Dictionary of image indexes for each client\n",
        "  \"\"\"\n",
        "  \n",
        "  shard_idxs = [i for i in range(total_shards)]\n",
        "  client_dict = {i: np.array([], dtype='int64') for i in range(clients)}\n",
        "  idxs = np.arange(len(dataset))\n",
        "  data_labels = dataset.targets.numpy()\n",
        "\n",
        "  # sort the labels\n",
        "  label_idxs = np.vstack((idxs, data_labels))\n",
        "  label_idxs = label_idxs[:, label_idxs[1,:].argsort()]\n",
        "  idxs = label_idxs[0,:]\n",
        "\n",
        "  # divide the data into total_shards of size shards_size\n",
        "  # assign num_shards_per_client to each client\n",
        "  for i in range(clients):\n",
        "    rand_set = set(np.random.choice(shard_idxs, num_shards_per_client, replace=False))\n",
        "    shard_idxs = list(set(shard_idxs) - rand_set)\n",
        "\n",
        "    for rand in rand_set:\n",
        "      client_dict[i] = np.concatenate((client_dict[i], idxs[rand*shards_size:(rand+1)*shards_size]), axis=0)\n",
        "  \n",
        "  return client_dict\n",
        "\n",
        "\n",
        "\n"
      ],
      "execution_count": 71,
      "outputs": []
    },
    {
      "cell_type": "markdown",
      "metadata": {
        "id": "PTfxv8kFoGAy"
      },
      "source": [
        "## Models"
      ]
    },
    {
      "cell_type": "code",
      "metadata": {
        "id": "CvoDNFKbZST5"
      },
      "source": [
        "class MNIST_2NN(nn.Module):\n",
        "  \"\"\"\n",
        "  A simple multilayer-perceptron with 2-hidden layers with 200 units each\n",
        "  using ReLu activations\n",
        "\n",
        "  Total Expected Params: 199,210\n",
        "  \"\"\"\n",
        "  def __init__(self):\n",
        "    super(MNIST_2NN, self).__init__()\n",
        "\n",
        "    self.fc1 = nn.Linear(28*28, 200)\n",
        "    self.fc2 = nn.Linear(200, 200)\n",
        "    self.fc3 = nn.Linear(200, 10)\n",
        "\n",
        "  def forward(self, x):\n",
        "    x = torch.flatten(x, 1)\n",
        "    x = F.relu(self.fc1(x))\n",
        "    x = F.relu(self.fc2(x))\n",
        "    out = self.fc3(x)\n",
        "\n",
        "    return x"
      ],
      "execution_count": 72,
      "outputs": []
    },
    {
      "cell_type": "code",
      "metadata": {
        "id": "ut1hZ8x3qYPZ"
      },
      "source": [
        "class MNIST_CNN(nn.Module):\n",
        "  \"\"\"\n",
        "  CNN with two 5x5 convolution lauers(the first with 32 channels, second with 64,\n",
        "  each followed with 2x2 max pooling), a fully connected layer with 512 uunits and \n",
        "  ReLu activation, and the final Softmax output layer\n",
        "\n",
        "  Total Expected Params: 1,663,370\n",
        "  \"\"\"\n",
        "  def __init__(self):\n",
        "    super(MNIST_CNN, self).__init__()\n",
        "\n",
        "    self.conv1 = nn.Conv2d(1, 32, kernel_size=5)\n",
        "    self.conv2 = nn.Conv2d(32, 64, kernel_size=5)\n",
        "    \n",
        "    self.pool = nn.MaxPool2d(2,2)\n",
        "    self.dropout = nn.Dropout(p=0.2)\n",
        "\n",
        "    self.fc1 = nn.Linear(1024, 512)\n",
        "    self.out = nn.Linear(512, 10)\n",
        "\n",
        "  def forward(self, x):\n",
        "    x = self.pool(F.relu(self.conv1(x)))\n",
        "    x = self.pool(F.relu(self.conv2(x)))\n",
        "    x = self.dropout(x)\n",
        "    x = torch.flatten(x, 1)\n",
        "    x = F.relu(self.fc1(x))\n",
        "    x = self.out(x)\n",
        "    out = F.log_softmax(x, dim=1)\n",
        "\n",
        "    return out"
      ],
      "execution_count": 73,
      "outputs": []
    },
    {
      "cell_type": "markdown",
      "metadata": {
        "id": "uVv4HA9HuLtr"
      },
      "source": [
        "### Print Model Summaries"
      ]
    },
    {
      "cell_type": "code",
      "metadata": {
        "colab": {
          "base_uri": "https://localhost:8080/"
        },
        "id": "I5oTH710sJEt",
        "outputId": "55be8531-8a6e-4e1f-f527-4d2c3f6bfe67"
      },
      "source": [
        "mnist_mlp = MNIST_2NN()\n",
        "mnist_cnn = MNIST_CNN()\n",
        "\n",
        "if torch.cuda.is_available():\n",
        "  mnist_mlp.cuda()\n",
        "  mnist_cnn.cuda()\n",
        "\n",
        "print(\"MNIST MLP SUMMARY\")\n",
        "print(summary(mnist_mlp, (28,28)))\n",
        "\n",
        "print(\"\\nMNIST CNN SUMMARY\")\n",
        "print(summary(mnist_cnn, (1, 28,28)))"
      ],
      "execution_count": 74,
      "outputs": [
        {
          "output_type": "stream",
          "text": [
            "MNIST MLP SUMMARY\n",
            "----------------------------------------------------------------\n",
            "        Layer (type)               Output Shape         Param #\n",
            "================================================================\n",
            "            Linear-1                  [-1, 200]         157,000\n",
            "            Linear-2                  [-1, 200]          40,200\n",
            "            Linear-3                   [-1, 10]           2,010\n",
            "================================================================\n",
            "Total params: 199,210\n",
            "Trainable params: 199,210\n",
            "Non-trainable params: 0\n",
            "----------------------------------------------------------------\n",
            "Input size (MB): 0.00\n",
            "Forward/backward pass size (MB): 0.00\n",
            "Params size (MB): 0.76\n",
            "Estimated Total Size (MB): 0.77\n",
            "----------------------------------------------------------------\n",
            "None\n",
            "\n",
            "MNIST CNN SUMMARY\n",
            "----------------------------------------------------------------\n",
            "        Layer (type)               Output Shape         Param #\n",
            "================================================================\n",
            "            Conv2d-1           [-1, 32, 24, 24]             832\n",
            "         MaxPool2d-2           [-1, 32, 12, 12]               0\n",
            "            Conv2d-3             [-1, 64, 8, 8]          51,264\n",
            "         MaxPool2d-4             [-1, 64, 4, 4]               0\n",
            "           Dropout-5             [-1, 64, 4, 4]               0\n",
            "            Linear-6                  [-1, 512]         524,800\n",
            "            Linear-7                   [-1, 10]           5,130\n",
            "================================================================\n",
            "Total params: 582,026\n",
            "Trainable params: 582,026\n",
            "Non-trainable params: 0\n",
            "----------------------------------------------------------------\n",
            "Input size (MB): 0.00\n",
            "Forward/backward pass size (MB): 0.23\n",
            "Params size (MB): 2.22\n",
            "Estimated Total Size (MB): 2.45\n",
            "----------------------------------------------------------------\n",
            "None\n"
          ],
          "name": "stdout"
        }
      ]
    },
    {
      "cell_type": "markdown",
      "metadata": {
        "id": "gf_8XEXa-gZ7"
      },
      "source": [
        "## Federated Averaging"
      ]
    },
    {
      "cell_type": "markdown",
      "metadata": {
        "id": "L-aNdQsQ-Kvp"
      },
      "source": [
        "### Local Training (Client Update)\n",
        "\n",
        "Local training for the model on client side"
      ]
    },
    {
      "cell_type": "code",
      "metadata": {
        "id": "oX6OsQyO-Gz7"
      },
      "source": [
        "class CustomDataset(Dataset):\n",
        "  def __init__(self, dataset, idxs):\n",
        "      self.dataset = dataset\n",
        "      self.idxs = list(idxs)\n",
        "\n",
        "  def __len__(self):\n",
        "      return len(self.idxs)\n",
        "\n",
        "  def __getitem__(self, item):\n",
        "      image, label = self.dataset[self.idxs[item]]\n",
        "      return image, label\n",
        "\n",
        "\n",
        "class ClientUpdate(object):\n",
        "  def __init__(self, dataset, batchSize, learning_rate, epochs, idxs):\n",
        "    self.train_loader = DataLoader(CustomDataset(dataset, idxs), batch_size=batchSize, shuffle=True)\n",
        "\n",
        "    self.learning_rate = learning_rate\n",
        "    self.epochs = epochs\n",
        "\n",
        "  def train(self, model):\n",
        "    criterion = nn.CrossEntropyLoss()\n",
        "    optimizer = torch.optim.SGD(model.parameters(), lr=self.learning_rate, momentum=0.5)\n",
        "    # optimizer = torch.optim.Adam(model.parameters(), lr=self.learning_rate)\n",
        "\n",
        "    e_loss = []\n",
        "    for epoch in range(1, self.epochs+1):\n",
        "\n",
        "      train_loss = 0.0\n",
        "      model.train()\n",
        "      for data, labels in self.train_loader:\n",
        "\n",
        "        if torch.cuda.is_available():\n",
        "          data, labels = data.cuda(), labels.cuda()\n",
        "\n",
        "        # clear the gradients\n",
        "        optimizer.zero_grad()\n",
        "        # make a forward pass\n",
        "        output = model(data)\n",
        "        # calculate the loss\n",
        "        loss = criterion(output, labels)\n",
        "        # do a backwards pass\n",
        "        loss.backward()\n",
        "        # perform a single optimization step\n",
        "        optimizer.step()\n",
        "        # update training loss\n",
        "        train_loss += loss.item()*data.size(0)\n",
        "\n",
        "      # average losses\n",
        "      train_loss = train_loss/len(self.train_loader.dataset)\n",
        "      e_loss.append(train_loss)\n",
        "\n",
        "    total_loss = sum(e_loss)/len(e_loss)\n",
        "\n",
        "    return model.state_dict(), total_loss"
      ],
      "execution_count": 75,
      "outputs": []
    },
    {
      "cell_type": "markdown",
      "metadata": {
        "id": "Ukgh1DVHE2Ds"
      },
      "source": [
        "### Server Side Training\n",
        "\n",
        "Following Algorithm 1 from the paper"
      ]
    },
    {
      "cell_type": "code",
      "metadata": {
        "id": "1NF1e33BgpeL"
      },
      "source": [
        "def training(model, rounds, batch_size, lr, ds, ds_test, data_dict, C, K, E, plt_title, plt_color, M):\n",
        "  \"\"\"\n",
        "  Function implements the Federated Averaging Algorithm from the FedAvg paper.\n",
        "  Specifically, this function is used for the server side training and weight update\n",
        "\n",
        "  Params:\n",
        "    - model:           PyTorch model to train\n",
        "    - rounds:          Number of communication rounds for the client update\n",
        "    - batch_size:      Batch size for client update training\n",
        "    - lr:              Learning rate used for client update training\n",
        "    - ds:              Dataset used for training\n",
        "    - ds_test:         Dataset used for testing\n",
        "    - data_dict:       Type of data partition used for training (IID or non-IID)\n",
        "    - C:               Fraction of clients randomly chosen to perform computation on each round\n",
        "    - K:               Total number of clients\n",
        "    - E:               Number of training passes each client makes over its local dataset per round\n",
        "    - tb_writer_name:  Directory name to save the tensorboard logs\n",
        "  Returns:\n",
        "    - model:           Trained model on the server\n",
        "  \"\"\"\n",
        "\n",
        "  # global model weights\n",
        "  global_weights = model.state_dict()\n",
        "  num_clients = K\n",
        "  pk = np.ones(num_clients) * 1.0 / num_clients\n",
        "\n",
        "  # training loss\n",
        "  # train_accuracy = []\n",
        "  train_loss = []\n",
        "  test_accuracy = []\n",
        "  test_loss = []\n",
        "\n",
        "\n",
        "  # measure time\n",
        "  start = time.time()\n",
        "\n",
        "  for curr_round in range(1, rounds+1):\n",
        "    w, local_loss = [], []\n",
        "\n",
        "    m = max(int(C*K), 1)\n",
        "    newM = max(int(M*m), 1)\n",
        "    \n",
        "    c = 0\n",
        "    S_t = np.random.choice(range(K), m, replace=False)\n",
        "\n",
        "    for i in range(len(S_t)):\n",
        "      if c == newM:\n",
        "        break\n",
        "      c += 1\n",
        "\n",
        "      local_update = ClientUpdate(dataset=ds, batchSize=batch_size, learning_rate=lr, epochs=E, idxs=data_dict[S_t[i]])\n",
        "      weights, loss = local_update.train(model=copy.deepcopy(model))\n",
        "            \n",
        "      for k in weights.keys():\n",
        "        t = torch.Tensor(weights[k].shape).cuda()\n",
        "        t.fill_(0.1)\n",
        "        weights[k] = t     \n",
        "\n",
        "      w.append(copy.deepcopy(weights))\n",
        "      local_loss.append(copy.deepcopy(loss))\n",
        "\n",
        "    for k in range(newM, len(S_t)):\n",
        "      local_update = ClientUpdate(dataset=ds, batchSize=batch_size, learning_rate=lr, epochs=E, idxs=data_dict[S_t[k]])\n",
        "      weights, loss = local_update.train(model=copy.deepcopy(model))\n",
        "      \n",
        "      w.append(copy.deepcopy(weights))\n",
        "      local_loss.append(copy.deepcopy(loss))\n",
        "\n",
        "\n",
        "    ix = 0\n",
        "    weights = []\n",
        "    new_w = w\n",
        "    for k in w[ix].keys():\n",
        "      l1 = []\n",
        "      for i in range(len(w)):\n",
        "\n",
        "          # Fixed Precision\n",
        "          x1 = w[i][k] * (10**3)\n",
        "          \n",
        "          # Flattening weight tensors to lists\n",
        "          f1 = torch.flatten(x1)\n",
        "          \n",
        "          # Converting values to int for our streaming algo \n",
        "          f1 = list(map(int, f1))\n",
        "          \n",
        "          l1.append(f1)\n",
        "          #print(len(f1))\n",
        "          \n",
        "      # Computing Median\n",
        "      j = 0\n",
        "      gl = []\n",
        "      while j < len(l1[0]):\n",
        "        nl = []\n",
        "        for i in range(len(l1)):\n",
        "          nl.append(l1[i][j])\n",
        "        m = np.median(nl)\n",
        "        gl.append(m)\n",
        "        j += 1\n",
        "\n",
        "      \n",
        "      for i in range(len(gl)):\n",
        "        gl[i] /= (10**3)\n",
        "      \n",
        "      # print(len(gl))\n",
        "      \n",
        "      newar = np.asarray(gl)\n",
        "      newar = np.reshape(gl, w[0][k].size())\n",
        "      tens = torch.from_numpy(newar)\n",
        "      weights.append(tens)\n",
        "\n",
        "      ix += 1\n",
        "\n",
        "    k = 0\n",
        "    coun = 0\n",
        "    for key, value in global_weights.items():\n",
        "      global_weights[key] = weights[k]\n",
        "      k += 1\n",
        "      coun += 1\n",
        "\n",
        "    # move the updated weights to our model state dict\n",
        "    model.load_state_dict(global_weights)\n",
        "\n",
        "    # loss\n",
        "    loss_avg = sum(local_loss) / len(local_loss)\n",
        "    print('Round: {}... \\tAverage Loss: {}'.format(curr_round, round(loss_avg, 3)))\n",
        "    train_loss.append(loss_avg)\n",
        "\n",
        "    # test\n",
        "    test_criterion = nn.CrossEntropyLoss()\n",
        "    test_accuracy_current, test_loss_current =  testing(copy.deepcopy(model), ds_test, 128, test_criterion, num_classes, classes_test)\n",
        "    test_accuracy.append(test_accuracy_current)\n",
        "    test_loss.append(test_loss_current)\n",
        "\n",
        "  end = time.time()\n",
        "  \n",
        "  fig, ax = plt.subplots()\n",
        "  x_axis = np.arange(1, rounds+1)\n",
        "  y_axis = np.array(train_loss)\n",
        "  ax.plot(x_axis, y_axis, 'tab:'+plt_color)\n",
        "\n",
        "  ax.set(xlabel='Number of Rounds', ylabel='Train Loss',\n",
        "       title=plt_title)\n",
        "  ax.grid()\n",
        "  fig.savefig(plt_title+'_Train_loss.jpg', format='jpg')\n",
        "  plt.show()\n",
        "\n",
        "  fig, ax = plt.subplots()\n",
        "  x_axis = np.arange(1, rounds+1)\n",
        "  y_axis = np.array(test_loss)\n",
        "  ax.plot(x_axis, y_axis, 'tab:'+plt_color)\n",
        "\n",
        "  ax.set(xlabel='Number of Rounds', ylabel='Test Loss',\n",
        "       title=plt_title)\n",
        "  ax.grid()\n",
        "  fig.savefig(plt_title+'_Test_loss.jpg', format='jpg')\n",
        "  plt.show()\n",
        "\n",
        "  fig, ax = plt.subplots()\n",
        "  x_axis = np.arange(1, rounds+1)\n",
        "  y_axis = np.array(test_accuracy)\n",
        "  ax.plot(x_axis, y_axis, 'tab:'+plt_color)\n",
        "\n",
        "  ax.set(xlabel='Number of Rounds', ylabel='Test Accuracy',\n",
        "       title=plt_title)\n",
        "  ax.grid()\n",
        "  fig.savefig(plt_title+'_Test_Accuracy.jpg', format='jpg')\n",
        "  plt.show()\n",
        "  \n",
        "  print(\"Training Done!\")\n",
        "  print(\"Total time taken to Train: {}\\n\\n\".format(end-start))\n",
        "  \n",
        "  return model, train_loss, test_accuracy, test_loss"
      ],
      "execution_count": 76,
      "outputs": []
    },
    {
      "cell_type": "markdown",
      "metadata": {
        "id": "tUYyb4T-uXmF"
      },
      "source": [
        "## Testing Loop"
      ]
    },
    {
      "cell_type": "code",
      "metadata": {
        "id": "uCcIZmO5uan9"
      },
      "source": [
        "def testing(model, dataset, bs, criterion, num_classes, classes, print_info=False):\n",
        "  #test loss \n",
        "  test_loss = 0.0\n",
        "  correct_class = list(0. for i in range(num_classes))\n",
        "  total_class = list(0. for i in range(num_classes))\n",
        "\n",
        "  test_loader = DataLoader(dataset, batch_size=bs)\n",
        "  l = len(test_loader)\n",
        "  model.eval()\n",
        "  for data, labels in test_loader:\n",
        "\n",
        "    if torch.cuda.is_available():\n",
        "      data, labels = data.cuda(), labels.cuda()\n",
        "\n",
        "    output = model(data)\n",
        "    loss = criterion(output, labels)\n",
        "    test_loss += loss.item()*data.size(0)\n",
        "\n",
        "    _, pred = torch.max(output, 1)\n",
        "\n",
        "    correct_tensor = pred.eq(labels.data.view_as(pred))\n",
        "    correct = np.squeeze(correct_tensor.numpy()) if not torch.cuda.is_available() else np.squeeze(correct_tensor.cpu().numpy())\n",
        "\n",
        "    #test accuracy for each object class\n",
        "    for i in range(num_classes):\n",
        "      label = labels.data[i]\n",
        "      correct_class[label] += correct[i].item()\n",
        "      total_class[label] += 1\n",
        "    \n",
        "  # avg test loss\n",
        "  test_loss = test_loss/len(test_loader.dataset)\n",
        "  test_accuracy = 100. * np.sum(correct_class) / np.sum(total_class)\n",
        "\n",
        "  if print_info:\n",
        "    print(\"Test Loss: {:.6f}\\n\".format(test_loss))\n",
        "\n",
        "    for i in range(10):\n",
        "      if total_class[i]>0:\n",
        "        print('Test Accuracy of %5s: %2d%% (%2d/%2d)' % \n",
        "              (classes[i], 100 * correct_class[i] / total_class[i],\n",
        "              np.sum(correct_class[i]), np.sum(total_class[i])))\n",
        "      else:\n",
        "        print('Test Accuracy of %5s: N/A (no training examples)' % (classes[i]))\n",
        "\n",
        "    print('\\nFinal Test  Accuracy: {:.3f} ({}/{})'.format(\n",
        "          100. * np.sum(correct_class) / np.sum(total_class),\n",
        "          np.sum(correct_class), np.sum(total_class)))\n",
        "  \n",
        "  return test_accuracy, test_loss"
      ],
      "execution_count": 77,
      "outputs": []
    },
    {
      "cell_type": "markdown",
      "metadata": {
        "id": "Ri0FqXFeHW-V"
      },
      "source": [
        "## Logger"
      ]
    },
    {
      "cell_type": "code",
      "metadata": {
        "id": "thZm2kSiHT4v"
      },
      "source": [
        "log_dict = {}\n",
        "NUM_REPEAT = 1"
      ],
      "execution_count": 78,
      "outputs": []
    },
    {
      "cell_type": "markdown",
      "metadata": {
        "id": "4hO5oV6aXqeh"
      },
      "source": [
        "## MNIST CNN on IID"
      ]
    },
    {
      "cell_type": "markdown",
      "metadata": {
        "id": "flSQv_P4zCfx"
      },
      "source": [
        "### Train\n"
      ]
    },
    {
      "cell_type": "code",
      "metadata": {
        "colab": {
          "base_uri": "https://localhost:8080/",
          "height": 1000
        },
        "id": "0ZalcKZtEseA",
        "outputId": "1c05e563-ca31-4945-a438-c4db93729478"
      },
      "source": [
        "train_loss_multiple_runs = [None] * NUM_REPEAT\n",
        "test_accuracy_multiple_runs = [None] * NUM_REPEAT\n",
        "test_loss_multiple_runs = [None] * NUM_REPEAT\n",
        "\n",
        "for exp_num in range(NUM_REPEAT):\n",
        "  print(\"Experiment Run Number: \", exp_num)\n",
        "\n",
        "  # number of training rounds\n",
        "  rounds = 50\n",
        "  # client fraction\n",
        "  C = 0.1\n",
        "  # number of clients\n",
        "  K = 10\n",
        "  # number of training passes on local dataset for each roung\n",
        "  E = 5\n",
        "  # batch size\n",
        "  batch_size = 10\n",
        "  # learning Rate\n",
        "  lr=0.05\n",
        "  # data partition dictionary\n",
        "  iid_dict = iid_partition(mnist_data_train, 100)\n",
        "  # load model\n",
        "  mnist_cnn = MNIST_CNN()\n",
        "\n",
        "  if torch.cuda.is_available():\n",
        "    mnist_cnn.cuda()\n",
        "\n",
        "  mnist_cnn_iid_trained, train_loss, test_accuracy, test_loss = training(mnist_cnn, rounds, batch_size, lr, mnist_data_train, mnist_data_test, iid_dict, C, K, E, \"MNIST CNN on IID Dataset\", \"orange\", 0.01)\n",
        "\n",
        "  train_loss_multiple_runs[exp_num] = train_loss\n",
        "  test_accuracy_multiple_runs[exp_num] = test_accuracy\n",
        "  test_loss_multiple_runs[exp_num] = test_loss"
      ],
      "execution_count": 79,
      "outputs": [
        {
          "output_type": "stream",
          "text": [
            "Experiment Run Number:  0\n",
            "Round: 1... \tAverage Loss: 0.565\n",
            "Round: 2... \tAverage Loss: 8215149.816\n",
            "Round: 3... \tAverage Loss: 5852675.571\n",
            "Round: 4... \tAverage Loss: 4061712.373\n",
            "Round: 5... \tAverage Loss: 4333119.307\n",
            "Round: 6... \tAverage Loss: 4915436.535\n",
            "Round: 7... \tAverage Loss: 3731014.133\n",
            "Round: 8... \tAverage Loss: 4558598.557\n",
            "Round: 9... \tAverage Loss: 8177266.931\n",
            "Round: 10... \tAverage Loss: 3795844.424\n",
            "Round: 11... \tAverage Loss: 3285715.574\n",
            "Round: 12... \tAverage Loss: 5597323.25\n",
            "Round: 13... \tAverage Loss: 6552552.26\n",
            "Round: 14... \tAverage Loss: 6386602.399\n",
            "Round: 15... \tAverage Loss: 7167686.56\n",
            "Round: 16... \tAverage Loss: 10011017.97\n",
            "Round: 17... \tAverage Loss: 3126136.477\n",
            "Round: 18... \tAverage Loss: 7938671.517\n",
            "Round: 19... \tAverage Loss: 8182210.294\n",
            "Round: 20... \tAverage Loss: 9964739.146\n",
            "Round: 21... \tAverage Loss: 8982179.574\n",
            "Round: 22... \tAverage Loss: 6938121.122\n",
            "Round: 23... \tAverage Loss: 5520495.092\n",
            "Round: 24... \tAverage Loss: 4758280.264\n",
            "Round: 25... \tAverage Loss: 3455232.589\n",
            "Round: 26... \tAverage Loss: 6958979.147\n",
            "Round: 27... \tAverage Loss: 7113061.278\n",
            "Round: 28... \tAverage Loss: 7318726.557\n",
            "Round: 29... \tAverage Loss: 7678379.25\n",
            "Round: 30... \tAverage Loss: 3816038.131\n",
            "Round: 31... \tAverage Loss: 5454299.893\n",
            "Round: 32... \tAverage Loss: 5270775.627\n",
            "Round: 33... \tAverage Loss: 5560008.265\n",
            "Round: 34... \tAverage Loss: 5094502.989\n",
            "Round: 35... \tAverage Loss: 6108604.746\n",
            "Round: 36... \tAverage Loss: 8564632.477\n",
            "Round: 37... \tAverage Loss: 4372189.168\n",
            "Round: 38... \tAverage Loss: 9190520.051\n",
            "Round: 39... \tAverage Loss: 4946829.386\n",
            "Round: 40... \tAverage Loss: 9325735.837\n",
            "Round: 41... \tAverage Loss: 1881985.011\n",
            "Round: 42... \tAverage Loss: 3495315.999\n",
            "Round: 43... \tAverage Loss: 5572144.371\n",
            "Round: 44... \tAverage Loss: 5380833.437\n",
            "Round: 45... \tAverage Loss: 7061853.174\n",
            "Round: 46... \tAverage Loss: 5205922.717\n",
            "Round: 47... \tAverage Loss: 7061275.467\n",
            "Round: 48... \tAverage Loss: 4003059.783\n",
            "Round: 49... \tAverage Loss: 8959720.691\n",
            "Round: 50... \tAverage Loss: 4630372.85\n"
          ],
          "name": "stdout"
        },
        {
          "output_type": "display_data",
          "data": {
            "image/png": "[encoded data removed]",
            "text/plain": [
              "<Figure size 432x288 with 1 Axes>"
            ]
          },
          "metadata": {
            "tags": [],
            "needs_background": "light"
          }
        },
        {
          "output_type": "display_data",
          "data": {
            "image/png": "[encoded data removed]",
            "text/plain": [
              "<Figure size 432x288 with 1 Axes>"
            ]
          },
          "metadata": {
            "tags": [],
            "needs_background": "light"
          }
        },
        {
          "output_type": "display_data",
          "data": {
            "image/png": "[encoded data removed]",
            "text/plain": [
              "<Figure size 432x288 with 1 Axes>"
            ]
          },
          "metadata": {
            "tags": [],
            "needs_background": "light"
          }
        },
        {
          "output_type": "stream",
          "text": [
            "Training Done!\n",
            "Total time taken to Train: 1784.2702341079712\n",
            "\n",
            "\n"
          ],
          "name": "stdout"
        }
      ]
    },
    {
      "cell_type": "markdown",
      "metadata": {
        "id": "wNwC82przF6G"
      },
      "source": [
        "### Test"
      ]
    },
    {
      "cell_type": "code",
      "metadata": {
        "id": "qB97BFs9we9w",
        "colab": {
          "base_uri": "https://localhost:8080/"
        },
        "outputId": "a77047c5-036f-4b48-d56e-974ea52dce2e"
      },
      "source": [
        "criterion = nn.CrossEntropyLoss()\n",
        "acc, loss = testing(mnist_cnn_iid_trained, mnist_data_test, 128, criterion, num_classes, classes_test, True)"
      ],
      "execution_count": 80,
      "outputs": [
        {
          "output_type": "stream",
          "text": [
            "Test Loss: 2.302585\n",
            "\n",
            "Test Accuracy of     0: 100% (76/76)\n",
            "Test Accuracy of     1:  0% ( 0/90)\n",
            "Test Accuracy of     2:  0% ( 0/91)\n",
            "Test Accuracy of     3:  0% ( 0/73)\n",
            "Test Accuracy of     4:  0% ( 0/89)\n",
            "Test Accuracy of     5:  0% ( 0/68)\n",
            "Test Accuracy of     6:  0% ( 0/62)\n",
            "Test Accuracy of     7:  0% ( 0/81)\n",
            "Test Accuracy of     8:  0% ( 0/77)\n",
            "Test Accuracy of     9:  0% ( 0/83)\n",
            "\n",
            "Final Test  Accuracy: 9.620 (76.0/790.0)\n"
          ],
          "name": "stdout"
        }
      ]
    },
    {
      "cell_type": "code",
      "metadata": {
        "id": "gdQZEZmHHeqt"
      },
      "source": [
        "hyperparams = {'rounds': rounds,\n",
        "               'C': C,\n",
        "               'K': K,\n",
        "               'E': E,\n",
        "               'batch_size': batch_size,\n",
        "               'lr': lr,\n",
        "               }\n",
        "\n",
        "log_dict['MNIST CNN on IID'] = {'train_loss': train_loss_multiple_runs, \n",
        "                                'test_loss': test_loss_multiple_runs, \n",
        "                                'test_accuracy': test_accuracy_multiple_runs,\n",
        "                                'hyperparams': hyperparams,\n",
        "                                }"
      ],
      "execution_count": 81,
      "outputs": []
    },
    {
      "cell_type": "markdown",
      "metadata": {
        "id": "uF8MdSIUYcnl"
      },
      "source": [
        "## MNIST CNN on Non IID"
      ]
    },
    {
      "cell_type": "markdown",
      "metadata": {
        "id": "a6wXX7JW11bx"
      },
      "source": [
        "### Train\n"
      ]
    },
    {
      "cell_type": "code",
      "metadata": {
        "id": "fCD3kBCKYfBK",
        "colab": {
          "base_uri": "https://localhost:8080/",
          "height": 1000
        },
        "outputId": "1dfc4938-4df2-41d0-81f6-fa4e2a9d8fc2"
      },
      "source": [
        "train_loss_multiple_runs = [None] * NUM_REPEAT\n",
        "test_accuracy_multiple_runs = [None] * NUM_REPEAT\n",
        "test_loss_multiple_runs = [None] * NUM_REPEAT\n",
        "\n",
        "for exp_num in range(NUM_REPEAT):\n",
        "  print(\"Experiment Run Number: \", exp_num)\n",
        "\n",
        "  # number of training rounds\n",
        "  rounds = 50\n",
        "  # client fraction\n",
        "  C = 0.1\n",
        "  # number of clients\n",
        "  K = 10\n",
        "  # number of training passes on local dataset for each roung\n",
        "  E = 5\n",
        "  # batch size\n",
        "  batch_size = 10\n",
        "  # learning Rate\n",
        "  lr=0.05\n",
        "  # dict containing different type of data partition\n",
        "  data_dict = non_iid_partition(mnist_data_train, 100, 200, 300, 2)\n",
        "  # load model\n",
        "  mnist_cnn = MNIST_CNN()\n",
        "\n",
        "  if torch.cuda.is_available():\n",
        "    mnist_cnn.cuda()\n",
        "\n",
        "  mnist_cnn_non_iid_trained, train_loss, test_accuracy, test_loss = training(mnist_cnn, rounds, batch_size, lr, mnist_data_train, mnist_data_test, data_dict, C, K, E, \"MNIST CNN on Non-IID Dataset\", \"green\", 0.01)\n",
        "\n",
        "  train_loss_multiple_runs[exp_num] = train_loss\n",
        "  test_accuracy_multiple_runs[exp_num] = test_accuracy\n",
        "  test_loss_multiple_runs[exp_num] = test_loss"
      ],
      "execution_count": 82,
      "outputs": [
        {
          "output_type": "stream",
          "text": [
            "Experiment Run Number:  0\n",
            "Round: 1... \tAverage Loss: 0.06\n",
            "Round: 2... \tAverage Loss: 3812092.718\n",
            "Round: 3... \tAverage Loss: 4504315.654\n",
            "Round: 4... \tAverage Loss: 0.008\n",
            "Round: 5... \tAverage Loss: 764160.825\n",
            "Round: 6... \tAverage Loss: 6172051.758\n",
            "Round: 7... \tAverage Loss: 1632774.745\n",
            "Round: 8... \tAverage Loss: 1016670.211\n",
            "Round: 9... \tAverage Loss: 7198116.825\n",
            "Round: 10... \tAverage Loss: 2707422.851\n",
            "Round: 11... \tAverage Loss: 9630529.838\n",
            "Round: 12... \tAverage Loss: 1565452.078\n",
            "Round: 13... \tAverage Loss: 2293610.158\n",
            "Round: 14... \tAverage Loss: 0.008\n",
            "Round: 15... \tAverage Loss: 1618237.892\n",
            "Round: 16... \tAverage Loss: 155018.158\n",
            "Round: 17... \tAverage Loss: 5969201.625\n",
            "Round: 18... \tAverage Loss: 0.008\n",
            "Round: 19... \tAverage Loss: 6993770.798\n",
            "Round: 20... \tAverage Loss: 2207319.812\n",
            "Round: 21... \tAverage Loss: 725166.318\n",
            "Round: 22... \tAverage Loss: 1393332.932\n",
            "Round: 23... \tAverage Loss: 1249339.332\n",
            "Round: 24... \tAverage Loss: 12228381.145\n",
            "Round: 25... \tAverage Loss: 7098936.452\n",
            "Round: 26... \tAverage Loss: 130479.145\n",
            "Round: 27... \tAverage Loss: 0.008\n",
            "Round: 28... \tAverage Loss: 0.008\n",
            "Round: 29... \tAverage Loss: 0.008\n",
            "Round: 30... \tAverage Loss: 2924480.809\n",
            "Round: 31... \tAverage Loss: 7119265.628\n",
            "Round: 32... \tAverage Loss: 5878582.962\n",
            "Round: 33... \tAverage Loss: 5405724.292\n",
            "Round: 34... \tAverage Loss: 3865030.958\n",
            "Round: 35... \tAverage Loss: 2543545.092\n",
            "Round: 36... \tAverage Loss: 3642887.385\n",
            "Round: 37... \tAverage Loss: 12218594.265\n",
            "Round: 38... \tAverage Loss: 775933.572\n",
            "Round: 39... \tAverage Loss: 8652736.985\n",
            "Round: 40... \tAverage Loss: 2704090.371\n",
            "Round: 41... \tAverage Loss: 6076440.025\n",
            "Round: 42... \tAverage Loss: 1798185.944\n",
            "Round: 43... \tAverage Loss: 516475.705\n",
            "Round: 44... \tAverage Loss: 3406247.171\n",
            "Round: 45... \tAverage Loss: 606271.598\n",
            "Round: 46... \tAverage Loss: 4414109.572\n",
            "Round: 47... \tAverage Loss: 0.008\n",
            "Round: 48... \tAverage Loss: 7090664.239\n",
            "Round: 49... \tAverage Loss: 3113232.597\n",
            "Round: 50... \tAverage Loss: 798574.372\n"
          ],
          "name": "stdout"
        },
        {
          "output_type": "display_data",
          "data": {
            "image/png": "[encoded data removed]",
            "text/plain": [
              "<Figure size 432x288 with 1 Axes>"
            ]
          },
          "metadata": {
            "tags": [],
            "needs_background": "light"
          }
        },
        {
          "output_type": "display_data",
          "data": {
            "image/png": "[encoded data removed]",
            "text/plain": [
              "<Figure size 432x288 with 1 Axes>"
            ]
          },
          "metadata": {
            "tags": [],
            "needs_background": "light"
          }
        },
        {
          "output_type": "display_data",
          "data": {
            "image/png": "[encoded data removed]",
            "text/plain": [
              "<Figure size 432x288 with 1 Axes>"
            ]
          },
          "metadata": {
            "tags": [],
            "needs_background": "light"
          }
        },
        {
          "output_type": "stream",
          "text": [
            "Training Done!\n",
            "Total time taken to Train: 1786.9009292125702\n",
            "\n",
            "\n"
          ],
          "name": "stdout"
        }
      ]
    },
    {
      "cell_type": "markdown",
      "metadata": {
        "id": "4C68J-Kk14dB"
      },
      "source": [
        "### Test"
      ]
    },
    {
      "cell_type": "code",
      "metadata": {
        "id": "_yQ9GiAZ15jE",
        "colab": {
          "base_uri": "https://localhost:8080/"
        },
        "outputId": "d32ca47e-fd93-4abb-ad08-f20472498c98"
      },
      "source": [
        "criterion = nn.CrossEntropyLoss()\n",
        "acc, loss = testing(mnist_cnn_non_iid_trained, mnist_data_test, 128, criterion, num_classes, classes_test, True)"
      ],
      "execution_count": 83,
      "outputs": [
        {
          "output_type": "stream",
          "text": [
            "Test Loss: 2.302585\n",
            "\n",
            "Test Accuracy of     0: 100% (76/76)\n",
            "Test Accuracy of     1:  0% ( 0/90)\n",
            "Test Accuracy of     2:  0% ( 0/91)\n",
            "Test Accuracy of     3:  0% ( 0/73)\n",
            "Test Accuracy of     4:  0% ( 0/89)\n",
            "Test Accuracy of     5:  0% ( 0/68)\n",
            "Test Accuracy of     6:  0% ( 0/62)\n",
            "Test Accuracy of     7:  0% ( 0/81)\n",
            "Test Accuracy of     8:  0% ( 0/77)\n",
            "Test Accuracy of     9:  0% ( 0/83)\n",
            "\n",
            "Final Test  Accuracy: 9.620 (76.0/790.0)\n"
          ],
          "name": "stdout"
        }
      ]
    },
    {
      "cell_type": "code",
      "metadata": {
        "id": "dxMcxgLhLvX-"
      },
      "source": [
        "hyperparams = {'rounds': rounds,\n",
        "               'C': C,\n",
        "               'K': K,\n",
        "               'E': E,\n",
        "               'batch_size': batch_size,\n",
        "               'lr': lr,\n",
        "               }\n",
        "\n",
        "log_dict['MNIST CNN on Non IID'] = {'train_loss': train_loss_multiple_runs, \n",
        "                                'test_loss': test_loss_multiple_runs, \n",
        "                                'test_accuracy': test_accuracy_multiple_runs,\n",
        "                                'hyperparams': hyperparams,\n",
        "                                }"
      ],
      "execution_count": 84,
      "outputs": []
    },
    {
      "cell_type": "markdown",
      "metadata": {
        "id": "z_jifdzniuhm"
      },
      "source": [
        "## MNIST MLP on IID"
      ]
    },
    {
      "cell_type": "markdown",
      "metadata": {
        "id": "uh-te0Od2XGO"
      },
      "source": [
        "### Train"
      ]
    },
    {
      "cell_type": "code",
      "metadata": {
        "id": "UmpWmKOQixVV",
        "colab": {
          "base_uri": "https://localhost:8080/",
          "height": 1000
        },
        "outputId": "b817f932-eebf-46a4-c4f1-9f6ee8e08e2c"
      },
      "source": [
        "train_loss_multiple_runs = [None] * NUM_REPEAT\n",
        "test_accuracy_multiple_runs = [None] * NUM_REPEAT\n",
        "test_loss_multiple_runs = [None] * NUM_REPEAT\n",
        "\n",
        "for exp_num in range(NUM_REPEAT):\n",
        "  print(\"Experiment Run Number: \", exp_num)\n",
        "\n",
        "  # number of training rounds\n",
        "  rounds = 50\n",
        "  # client fraction\n",
        "  C = 0.1\n",
        "  # number of clients\n",
        "  K = 10\n",
        "  # number of training passes on local dataset for each round\n",
        "  E = 5\n",
        "  # batch size\n",
        "  batch_size = 10\n",
        "  # learning Rate\n",
        "  lr=0.05\n",
        "  # dict containing different type of data partition\n",
        "  data_dict = iid_partition(mnist_data_train, 100)\n",
        "  # load model\n",
        "  mnist_mlp = MNIST_2NN()\n",
        "\n",
        "  if torch.cuda.is_available():\n",
        "    mnist_mlp.cuda()\n",
        "\n",
        "  mnist_mlp_iid_trained, train_loss, test_accuracy, test_loss = training(mnist_mlp, rounds, batch_size, lr, mnist_data_train, mnist_data_test, data_dict, C, K, E, \"MNIST MLP on IID Dataset\", \"orange\", 0.01)\n",
        "  \n",
        "  train_loss_multiple_runs[exp_num] = train_loss\n",
        "  test_accuracy_multiple_runs[exp_num] = test_accuracy\n",
        "  test_loss_multiple_runs[exp_num] = test_loss"
      ],
      "execution_count": 85,
      "outputs": [
        {
          "output_type": "stream",
          "text": [
            "Experiment Run Number:  0\n",
            "Round: 1... \tAverage Loss: 0.429\n",
            "Round: 2... \tAverage Loss: 6.832\n",
            "Round: 3... \tAverage Loss: 5.66\n",
            "Round: 4... \tAverage Loss: 6.057\n",
            "Round: 5... \tAverage Loss: 6.052\n",
            "Round: 6... \tAverage Loss: 6.525\n",
            "Round: 7... \tAverage Loss: 6.053\n",
            "Round: 8... \tAverage Loss: 6.106\n",
            "Round: 9... \tAverage Loss: 6.31\n",
            "Round: 10... \tAverage Loss: 6.157\n",
            "Round: 11... \tAverage Loss: 6.217\n",
            "Round: 12... \tAverage Loss: 6.42\n",
            "Round: 13... \tAverage Loss: 5.965\n",
            "Round: 14... \tAverage Loss: 6.536\n",
            "Round: 15... \tAverage Loss: 6.179\n",
            "Round: 16... \tAverage Loss: 6.63\n",
            "Round: 17... \tAverage Loss: 6.421\n",
            "Round: 18... \tAverage Loss: 6.377\n",
            "Round: 19... \tAverage Loss: 6.152\n",
            "Round: 20... \tAverage Loss: 5.989\n",
            "Round: 21... \tAverage Loss: 6.277\n",
            "Round: 22... \tAverage Loss: 7.29\n",
            "Round: 23... \tAverage Loss: 5.911\n",
            "Round: 24... \tAverage Loss: 5.885\n",
            "Round: 25... \tAverage Loss: 6.653\n",
            "Round: 26... \tAverage Loss: 6.773\n",
            "Round: 27... \tAverage Loss: 6.372\n",
            "Round: 28... \tAverage Loss: 6.52\n",
            "Round: 29... \tAverage Loss: 6.516\n",
            "Round: 30... \tAverage Loss: 6.799\n",
            "Round: 31... \tAverage Loss: 6.558\n",
            "Round: 32... \tAverage Loss: 6.756\n",
            "Round: 33... \tAverage Loss: 6.902\n",
            "Round: 34... \tAverage Loss: 5.903\n",
            "Round: 35... \tAverage Loss: 6.283\n",
            "Round: 36... \tAverage Loss: 6.751\n",
            "Round: 37... \tAverage Loss: 6.045\n",
            "Round: 38... \tAverage Loss: 6.207\n",
            "Round: 39... \tAverage Loss: 6.294\n",
            "Round: 40... \tAverage Loss: 6.159\n",
            "Round: 41... \tAverage Loss: 6.997\n",
            "Round: 42... \tAverage Loss: 6.109\n",
            "Round: 43... \tAverage Loss: 6.375\n",
            "Round: 44... \tAverage Loss: 6.438\n",
            "Round: 45... \tAverage Loss: 6.906\n",
            "Round: 46... \tAverage Loss: 6.364\n",
            "Round: 47... \tAverage Loss: 5.969\n",
            "Round: 48... \tAverage Loss: 5.875\n",
            "Round: 49... \tAverage Loss: 6.149\n",
            "Round: 50... \tAverage Loss: 6.489\n"
          ],
          "name": "stdout"
        },
        {
          "output_type": "display_data",
          "data": {
            "image/png": "[encoded data removed]",
            "text/plain": [
              "<Figure size 432x288 with 1 Axes>"
            ]
          },
          "metadata": {
            "tags": [],
            "needs_background": "light"
          }
        },
        {
          "output_type": "display_data",
          "data": {
            "image/png": "[encoded data removed]",
            "text/plain": [
              "<Figure size 432x288 with 1 Axes>"
            ]
          },
          "metadata": {
            "tags": [],
            "needs_background": "light"
          }
        },
        {
          "output_type": "display_data",
          "data": {
            "image/png": "[encoded data removed]",
            "text/plain": [
              "<Figure size 432x288 with 1 Axes>"
            ]
          },
          "metadata": {
            "tags": [],
            "needs_background": "light"
          }
        },
        {
          "output_type": "stream",
          "text": [
            "Training Done!\n",
            "Total time taken to Train: 703.6443319320679\n",
            "\n",
            "\n"
          ],
          "name": "stdout"
        }
      ]
    },
    {
      "cell_type": "markdown",
      "metadata": {
        "id": "aTBsL3-72PPd"
      },
      "source": [
        "### Test"
      ]
    },
    {
      "cell_type": "code",
      "metadata": {
        "id": "a9G4j5L62OrS",
        "colab": {
          "base_uri": "https://localhost:8080/"
        },
        "outputId": "ac2e08e2-ca0f-4353-a5c7-3ab864682db7"
      },
      "source": [
        "criterion = nn.CrossEntropyLoss()\n",
        "acc, loss = testing(mnist_mlp_iid_trained, mnist_data_test, 128, criterion, num_classes, classes_test, True)"
      ],
      "execution_count": 86,
      "outputs": [
        {
          "output_type": "stream",
          "text": [
            "Test Loss: 5.298319\n",
            "\n",
            "Test Accuracy of     0: 100% (76/76)\n",
            "Test Accuracy of     1:  0% ( 0/90)\n",
            "Test Accuracy of     2:  0% ( 0/91)\n",
            "Test Accuracy of     3:  0% ( 0/73)\n",
            "Test Accuracy of     4:  0% ( 0/89)\n",
            "Test Accuracy of     5:  0% ( 0/68)\n",
            "Test Accuracy of     6:  0% ( 0/62)\n",
            "Test Accuracy of     7:  0% ( 0/81)\n",
            "Test Accuracy of     8:  0% ( 0/77)\n",
            "Test Accuracy of     9:  0% ( 0/83)\n",
            "\n",
            "Final Test  Accuracy: 9.620 (76.0/790.0)\n"
          ],
          "name": "stdout"
        }
      ]
    },
    {
      "cell_type": "code",
      "metadata": {
        "id": "fWCdJFRCL_f2"
      },
      "source": [
        "hyperparams = {'rounds': rounds,\n",
        "               'C': C,\n",
        "               'K': K,\n",
        "               'E': E,\n",
        "               'batch_size': batch_size,\n",
        "               'lr': lr,\n",
        "               }\n",
        "\n",
        "log_dict['MNIST MLP on IID'] = {'train_loss': train_loss_multiple_runs, \n",
        "                                'test_loss': test_loss_multiple_runs, \n",
        "                                'test_accuracy': test_accuracy_multiple_runs,\n",
        "                                'hyperparams': hyperparams,\n",
        "                                }"
      ],
      "execution_count": 87,
      "outputs": []
    },
    {
      "cell_type": "markdown",
      "metadata": {
        "id": "J8jzEyO0iywz"
      },
      "source": [
        "## MNIST MLP on Non IID"
      ]
    },
    {
      "cell_type": "markdown",
      "metadata": {
        "id": "pJFepr3y2bF-"
      },
      "source": [
        "### Train"
      ]
    },
    {
      "cell_type": "code",
      "metadata": {
        "id": "EBKO44Hgi1Uh",
        "colab": {
          "base_uri": "https://localhost:8080/",
          "height": 1000
        },
        "outputId": "bbe06db8-cae8-456c-f921-b1b483a8a196"
      },
      "source": [
        "train_loss_multiple_runs = [None] * NUM_REPEAT\n",
        "test_accuracy_multiple_runs = [None] * NUM_REPEAT\n",
        "test_loss_multiple_runs = [None] * NUM_REPEAT\n",
        "\n",
        "for exp_num in range(NUM_REPEAT):\n",
        "  print(\"Experiment Run Number: \", exp_num)\n",
        "  \n",
        "  # number of training rounds\n",
        "  rounds = 50\n",
        "  # client fraction\n",
        "  C = 0.1\n",
        "  # number of clients\n",
        "  K = 10\n",
        "  # number of training passes on local dataset for each roung\n",
        "  E = 5\n",
        "  # batch size\n",
        "  batch_size = 10\n",
        "  # learning Rate\n",
        "  lr=0.05\n",
        "  # dict containing different type of data partition\n",
        "  data_dict = non_iid_partition(mnist_data_train, 100, 200, 300, 2)\n",
        "  # load model\n",
        "  mnist_mlp = MNIST_2NN()\n",
        "\n",
        "  if torch.cuda.is_available():\n",
        "    mnist_mlp.cuda()\n",
        "\n",
        "  mnist_mlp_non_iid_trained, train_loss, test_accuracy, test_loss = training(mnist_mlp, rounds, batch_size, lr, mnist_data_train, mnist_data_test, data_dict, C, K, E, \"MNIST MLP on Non-IID Dataset\", \"green\", 0.01)\n",
        "\n",
        "  train_loss_multiple_runs[exp_num] = train_loss\n",
        "  test_accuracy_multiple_runs[exp_num] = test_accuracy\n",
        "  test_loss_multiple_runs[exp_num] = test_loss"
      ],
      "execution_count": 88,
      "outputs": [
        {
          "output_type": "stream",
          "text": [
            "Experiment Run Number:  0\n",
            "Round: 1... \tAverage Loss: 0.513\n",
            "Round: 2... \tAverage Loss: 2.619\n",
            "Round: 3... \tAverage Loss: 4.678\n",
            "Round: 4... \tAverage Loss: 4.582\n",
            "Round: 5... \tAverage Loss: 1.177\n",
            "Round: 6... \tAverage Loss: 3.318\n",
            "Round: 7... \tAverage Loss: 3.193\n",
            "Round: 8... \tAverage Loss: 1.682\n",
            "Round: 9... \tAverage Loss: 4.86\n",
            "Round: 10... \tAverage Loss: 1.297\n",
            "Round: 11... \tAverage Loss: 2.977\n",
            "Round: 12... \tAverage Loss: 1.102\n",
            "Round: 13... \tAverage Loss: 1.186\n",
            "Round: 14... \tAverage Loss: 1.216\n",
            "Round: 15... \tAverage Loss: 1.741\n",
            "Round: 16... \tAverage Loss: 1.609\n",
            "Round: 17... \tAverage Loss: 1.115\n",
            "Round: 18... \tAverage Loss: 2.866\n",
            "Round: 19... \tAverage Loss: 1.742\n",
            "Round: 20... \tAverage Loss: 3.539\n",
            "Round: 21... \tAverage Loss: 5.438\n",
            "Round: 22... \tAverage Loss: 2.437\n",
            "Round: 23... \tAverage Loss: 1.7\n",
            "Round: 24... \tAverage Loss: 3.645\n",
            "Round: 25... \tAverage Loss: 4.327\n",
            "Round: 26... \tAverage Loss: 1.661\n",
            "Round: 27... \tAverage Loss: 4.345\n",
            "Round: 28... \tAverage Loss: 5.66\n",
            "Round: 29... \tAverage Loss: 1.176\n",
            "Round: 30... \tAverage Loss: 3.811\n",
            "Round: 31... \tAverage Loss: 1.642\n",
            "Round: 32... \tAverage Loss: 1.9\n",
            "Round: 33... \tAverage Loss: 2.961\n",
            "Round: 34... \tAverage Loss: 4.386\n",
            "Round: 35... \tAverage Loss: 4.52\n",
            "Round: 36... \tAverage Loss: 4.35\n",
            "Round: 37... \tAverage Loss: 1.603\n",
            "Round: 38... \tAverage Loss: 4.544\n",
            "Round: 39... \tAverage Loss: 3.741\n",
            "Round: 40... \tAverage Loss: 4.216\n",
            "Round: 41... \tAverage Loss: 2.512\n",
            "Round: 42... \tAverage Loss: 1.561\n",
            "Round: 43... \tAverage Loss: 1.697\n",
            "Round: 44... \tAverage Loss: 1.642\n",
            "Round: 45... \tAverage Loss: 1.05\n",
            "Round: 46... \tAverage Loss: 1.744\n",
            "Round: 47... \tAverage Loss: 3.909\n",
            "Round: 48... \tAverage Loss: 1.763\n",
            "Round: 49... \tAverage Loss: 1.138\n",
            "Round: 50... \tAverage Loss: 3.938\n"
          ],
          "name": "stdout"
        },
        {
          "output_type": "display_data",
          "data": {
            "image/png": "[encoded data removed]",
            "text/plain": [
              "<Figure size 432x288 with 1 Axes>"
            ]
          },
          "metadata": {
            "tags": [],
            "needs_background": "light"
          }
        },
        {
          "output_type": "display_data",
          "data": {
            "image/png": "[encoded data removed]",
            "text/plain": [
              "<Figure size 432x288 with 1 Axes>"
            ]
          },
          "metadata": {
            "tags": [],
            "needs_background": "light"
          }
        },
        {
          "output_type": "display_data",
          "data": {
            "image/png": "[encoded data removed]",
            "text/plain": [
              "<Figure size 432x288 with 1 Axes>"
            ]
          },
          "metadata": {
            "tags": [],
            "needs_background": "light"
          }
        },
        {
          "output_type": "stream",
          "text": [
            "Training Done!\n",
            "Total time taken to Train: 697.5372359752655\n",
            "\n",
            "\n"
          ],
          "name": "stdout"
        }
      ]
    },
    {
      "cell_type": "markdown",
      "metadata": {
        "id": "jmuQYPbF2mes"
      },
      "source": [
        "### Test"
      ]
    },
    {
      "cell_type": "code",
      "metadata": {
        "id": "0tKMlJyF2nGN",
        "colab": {
          "base_uri": "https://localhost:8080/"
        },
        "outputId": "63f36544-0511-4837-8714-4cfa009fb3cf"
      },
      "source": [
        "criterion = nn.CrossEntropyLoss()\n",
        "acc, loss = testing(mnist_mlp_non_iid_trained, mnist_data_test, 128, criterion, num_classes, classes_test, True)"
      ],
      "execution_count": 89,
      "outputs": [
        {
          "output_type": "stream",
          "text": [
            "Test Loss: 5.298319\n",
            "\n",
            "Test Accuracy of     0: 100% (76/76)\n",
            "Test Accuracy of     1:  0% ( 0/90)\n",
            "Test Accuracy of     2:  0% ( 0/91)\n",
            "Test Accuracy of     3:  0% ( 0/73)\n",
            "Test Accuracy of     4:  0% ( 0/89)\n",
            "Test Accuracy of     5:  0% ( 0/68)\n",
            "Test Accuracy of     6:  0% ( 0/62)\n",
            "Test Accuracy of     7:  0% ( 0/81)\n",
            "Test Accuracy of     8:  0% ( 0/77)\n",
            "Test Accuracy of     9:  0% ( 0/83)\n",
            "\n",
            "Final Test  Accuracy: 9.620 (76.0/790.0)\n"
          ],
          "name": "stdout"
        }
      ]
    },
    {
      "cell_type": "code",
      "metadata": {
        "id": "1W5krYcSMQiu"
      },
      "source": [
        "hyperparams = {'rounds': rounds,\n",
        "               'C': C,\n",
        "               'K': K,\n",
        "               'E': E,\n",
        "               'batch_size': batch_size,\n",
        "               'lr': lr,\n",
        "               }\n",
        "\n",
        "log_dict['MNIST MLP on Non IID'] = {'train_loss': train_loss_multiple_runs, \n",
        "                                'test_loss': test_loss_multiple_runs, \n",
        "                                'test_accuracy': test_accuracy_multiple_runs,\n",
        "                                'hyperparams': hyperparams,\n",
        "                                }"
      ],
      "execution_count": 90,
      "outputs": []
    },
    {
      "cell_type": "markdown",
      "metadata": {
        "id": "emS_SaRAP6TZ"
      },
      "source": [
        "## Pickle Log"
      ]
    },
    {
      "cell_type": "code",
      "metadata": {
        "id": "soAN38JoP0c1"
      },
      "source": [
        "import pickle\n",
        " \n",
        "with open(path + 'FedMed_k10.pkl', 'wb') as file:\n",
        "  pickle.dump(log_dict, file)"
      ],
      "execution_count": 91,
      "outputs": []
    },
    {
      "cell_type": "code",
      "metadata": {
        "id": "2UBy-JswSoCJ",
        "colab": {
          "base_uri": "https://localhost:8080/"
        },
        "outputId": "21463860-84aa-421c-8291-d262ce9f9646"
      },
      "source": [
        "log_dict"
      ],
      "execution_count": 92,
      "outputs": [
        {
          "output_type": "execute_result",
          "data": {
            "text/plain": [
              "{'MNIST CNN on IID': {'hyperparams': {'C': 0.1,\n",
              "   'E': 5,\n",
              "   'K': 10,\n",
              "   'batch_size': 10,\n",
              "   'lr': 0.05,\n",
              "   'rounds': 50},\n",
              "  'test_accuracy': [[9.620253164556962,\n",
              "    9.620253164556962,\n",
              "    9.620253164556962,\n",
              "    9.620253164556962,\n",
              "    9.620253164556962,\n",
              "    9.620253164556962,\n",
              "    9.620253164556962,\n",
              "    9.620253164556962,\n",
              "    9.620253164556962,\n",
              "    9.620253164556962,\n",
              "    9.620253164556962,\n",
              "    9.620253164556962,\n",
              "    9.620253164556962,\n",
              "    9.620253164556962,\n",
              "    9.620253164556962,\n",
              "    9.620253164556962,\n",
              "    9.620253164556962,\n",
              "    9.620253164556962,\n",
              "    9.620253164556962,\n",
              "    9.620253164556962,\n",
              "    9.620253164556962,\n",
              "    9.620253164556962,\n",
              "    9.620253164556962,\n",
              "    9.620253164556962,\n",
              "    9.620253164556962,\n",
              "    9.620253164556962,\n",
              "    9.620253164556962,\n",
              "    9.620253164556962,\n",
              "    9.620253164556962,\n",
              "    9.620253164556962,\n",
              "    9.620253164556962,\n",
              "    9.620253164556962,\n",
              "    9.620253164556962,\n",
              "    9.620253164556962,\n",
              "    9.620253164556962,\n",
              "    9.620253164556962,\n",
              "    9.620253164556962,\n",
              "    9.620253164556962,\n",
              "    9.620253164556962,\n",
              "    9.620253164556962,\n",
              "    9.620253164556962,\n",
              "    9.620253164556962,\n",
              "    9.620253164556962,\n",
              "    9.620253164556962,\n",
              "    9.620253164556962,\n",
              "    9.620253164556962,\n",
              "    9.620253164556962,\n",
              "    9.620253164556962,\n",
              "    9.620253164556962,\n",
              "    9.620253164556962]],\n",
              "  'test_loss': [[2.302584887313843,\n",
              "    2.302584887313843,\n",
              "    2.302584887313843,\n",
              "    2.302584887313843,\n",
              "    2.302584887313843,\n",
              "    2.302584887313843,\n",
              "    2.302584887313843,\n",
              "    2.302584887313843,\n",
              "    2.302584887313843,\n",
              "    2.302584887313843,\n",
              "    2.302584887313843,\n",
              "    2.302584887313843,\n",
              "    2.302584887313843,\n",
              "    2.302584887313843,\n",
              "    2.302584887313843,\n",
              "    2.302584887313843,\n",
              "    2.302584887313843,\n",
              "    2.302584887313843,\n",
              "    2.302584887313843,\n",
              "    2.302584887313843,\n",
              "    2.302584887313843,\n",
              "    2.302584887313843,\n",
              "    2.302584887313843,\n",
              "    2.302584887313843,\n",
              "    2.302584887313843,\n",
              "    2.302584887313843,\n",
              "    2.302584887313843,\n",
              "    2.302584887313843,\n",
              "    2.302584887313843,\n",
              "    2.302584887313843,\n",
              "    2.302584887313843,\n",
              "    2.302584887313843,\n",
              "    2.302584887313843,\n",
              "    2.302584887313843,\n",
              "    2.302584887313843,\n",
              "    2.302584887313843,\n",
              "    2.302584887313843,\n",
              "    2.302584887313843,\n",
              "    2.302584887313843,\n",
              "    2.302584887313843,\n",
              "    2.302584887313843,\n",
              "    2.302584887313843,\n",
              "    2.302584887313843,\n",
              "    2.302584887313843,\n",
              "    2.302584887313843,\n",
              "    2.302584887313843,\n",
              "    2.302584887313843,\n",
              "    2.302584887313843,\n",
              "    2.302584887313843,\n",
              "    2.302584887313843]],\n",
              "  'train_loss': [[0.5645000501046888,\n",
              "    8215149.815755984,\n",
              "    5852675.5708023505,\n",
              "    4061712.3730042754,\n",
              "    4333119.306630937,\n",
              "    4915436.534627337,\n",
              "    3731014.13277215,\n",
              "    4558598.557088086,\n",
              "    8177266.930678235,\n",
              "    3795844.4241583264,\n",
              "    3285715.5743037676,\n",
              "    5597323.2500247415,\n",
              "    6552552.260427227,\n",
              "    6386602.399124494,\n",
              "    7167686.559534481,\n",
              "    10011017.970371429,\n",
              "    3126136.477078383,\n",
              "    7938671.516863838,\n",
              "    8182210.294036473,\n",
              "    9964739.146271706,\n",
              "    8982179.57423275,\n",
              "    6938121.122132135,\n",
              "    5520495.0919941915,\n",
              "    4758280.263592922,\n",
              "    3455232.5887924754,\n",
              "    6958979.147488681,\n",
              "    7113061.277558597,\n",
              "    7318726.557136668,\n",
              "    7678379.250309621,\n",
              "    3816038.130561681,\n",
              "    5454299.893081939,\n",
              "    5270775.626536059,\n",
              "    5560008.26545043,\n",
              "    5094502.989046032,\n",
              "    6108604.745765342,\n",
              "    8564632.476925487,\n",
              "    4372189.1677217325,\n",
              "    9190520.050693287,\n",
              "    4946829.385854228,\n",
              "    9325735.837330665,\n",
              "    1881985.010853653,\n",
              "    3495315.9986110935,\n",
              "    5572144.371012379,\n",
              "    5380833.437241448,\n",
              "    7061853.173934002,\n",
              "    5205922.717326212,\n",
              "    7061275.467371749,\n",
              "    4003059.7834601426,\n",
              "    8959720.690772371,\n",
              "    4630372.85042093]]},\n",
              " 'MNIST CNN on Non IID': {'hyperparams': {'C': 0.1,\n",
              "   'E': 5,\n",
              "   'K': 10,\n",
              "   'batch_size': 10,\n",
              "   'lr': 0.05,\n",
              "   'rounds': 50},\n",
              "  'test_accuracy': [[9.620253164556962,\n",
              "    9.620253164556962,\n",
              "    9.620253164556962,\n",
              "    9.620253164556962,\n",
              "    9.620253164556962,\n",
              "    9.620253164556962,\n",
              "    9.620253164556962,\n",
              "    9.620253164556962,\n",
              "    9.620253164556962,\n",
              "    9.620253164556962,\n",
              "    9.620253164556962,\n",
              "    9.620253164556962,\n",
              "    9.620253164556962,\n",
              "    9.620253164556962,\n",
              "    9.620253164556962,\n",
              "    9.620253164556962,\n",
              "    9.620253164556962,\n",
              "    9.620253164556962,\n",
              "    9.620253164556962,\n",
              "    9.620253164556962,\n",
              "    9.620253164556962,\n",
              "    9.620253164556962,\n",
              "    9.620253164556962,\n",
              "    9.620253164556962,\n",
              "    9.620253164556962,\n",
              "    9.620253164556962,\n",
              "    9.620253164556962,\n",
              "    9.620253164556962,\n",
              "    9.620253164556962,\n",
              "    9.620253164556962,\n",
              "    9.620253164556962,\n",
              "    9.620253164556962,\n",
              "    9.620253164556962,\n",
              "    9.620253164556962,\n",
              "    9.620253164556962,\n",
              "    9.620253164556962,\n",
              "    9.620253164556962,\n",
              "    9.620253164556962,\n",
              "    9.620253164556962,\n",
              "    9.620253164556962,\n",
              "    9.620253164556962,\n",
              "    9.620253164556962,\n",
              "    9.620253164556962,\n",
              "    9.620253164556962,\n",
              "    9.620253164556962,\n",
              "    9.620253164556962,\n",
              "    9.620253164556962,\n",
              "    9.620253164556962,\n",
              "    9.620253164556962,\n",
              "    9.620253164556962]],\n",
              "  'test_loss': [[2.302584887313843,\n",
              "    2.302584887313843,\n",
              "    2.302584887313843,\n",
              "    2.302584887313843,\n",
              "    2.302584887313843,\n",
              "    2.302584887313843,\n",
              "    2.302584887313843,\n",
              "    2.302584887313843,\n",
              "    2.302584887313843,\n",
              "    2.302584887313843,\n",
              "    2.302584887313843,\n",
              "    2.302584887313843,\n",
              "    2.302584887313843,\n",
              "    2.302584887313843,\n",
              "    2.302584887313843,\n",
              "    2.302584887313843,\n",
              "    2.302584887313843,\n",
              "    2.302584887313843,\n",
              "    2.302584887313843,\n",
              "    2.302584887313843,\n",
              "    2.302584887313843,\n",
              "    2.302584887313843,\n",
              "    2.302584887313843,\n",
              "    2.302584887313843,\n",
              "    2.302584887313843,\n",
              "    2.302584887313843,\n",
              "    2.302584887313843,\n",
              "    2.302584887313843,\n",
              "    2.302584887313843,\n",
              "    2.302584887313843,\n",
              "    2.302584887313843,\n",
              "    2.302584887313843,\n",
              "    2.302584887313843,\n",
              "    2.302584887313843,\n",
              "    2.302584887313843,\n",
              "    2.302584887313843,\n",
              "    2.302584887313843,\n",
              "    2.302584887313843,\n",
              "    2.302584887313843,\n",
              "    2.302584887313843,\n",
              "    2.302584887313843,\n",
              "    2.302584887313843,\n",
              "    2.302584887313843,\n",
              "    2.302584887313843,\n",
              "    2.302584887313843,\n",
              "    2.302584887313843,\n",
              "    2.302584887313843,\n",
              "    2.302584887313843,\n",
              "    2.302584887313843,\n",
              "    2.302584887313843]],\n",
              "  'train_loss': [[0.059996366462937656,\n",
              "    3812092.717744472,\n",
              "    4504315.653923756,\n",
              "    0.0076752845446268715,\n",
              "    764160.825248386,\n",
              "    6172051.758067064,\n",
              "    1632774.7449606208,\n",
              "    1016670.2114260837,\n",
              "    7198116.824704738,\n",
              "    2707422.851262477,\n",
              "    9630529.838123947,\n",
              "    1565452.078178802,\n",
              "    2293610.1579033043,\n",
              "    0.0076752845446268715,\n",
              "    1618237.891568291,\n",
              "    155018.15837394577,\n",
              "    5969201.624672277,\n",
              "    0.0076752845446268715,\n",
              "    6993770.797879758,\n",
              "    2207319.811509482,\n",
              "    725166.317595688,\n",
              "    1393332.931753678,\n",
              "    1249339.3318353947,\n",
              "    12228381.14473939,\n",
              "    7098936.451508783,\n",
              "    130479.14461669982,\n",
              "    0.0076752845446268715,\n",
              "    0.0076752845446268715,\n",
              "    0.0076752845446268715,\n",
              "    2924480.8094407087,\n",
              "    7119265.628188236,\n",
              "    5878582.962260664,\n",
              "    5405724.291729418,\n",
              "    3865030.9576236694,\n",
              "    2543545.0917529594,\n",
              "    3642887.3850824437,\n",
              "    12218594.264866285,\n",
              "    775933.5719243526,\n",
              "    8652736.984531606,\n",
              "    2704090.371465589,\n",
              "    6076440.024768441,\n",
              "    1798185.944300243,\n",
              "    516475.7048924452,\n",
              "    3406247.1714023375,\n",
              "    606271.5977764332,\n",
              "    4414109.571712597,\n",
              "    0.0076752845446268715,\n",
              "    7090664.238527479,\n",
              "    3113232.5967827053,\n",
              "    798574.3717353924]]},\n",
              " 'MNIST MLP on IID': {'hyperparams': {'C': 0.1,\n",
              "   'E': 5,\n",
              "   'K': 10,\n",
              "   'batch_size': 10,\n",
              "   'lr': 0.05,\n",
              "   'rounds': 50},\n",
              "  'test_accuracy': [[9.620253164556962,\n",
              "    9.620253164556962,\n",
              "    9.620253164556962,\n",
              "    9.620253164556962,\n",
              "    9.620253164556962,\n",
              "    9.620253164556962,\n",
              "    9.620253164556962,\n",
              "    9.620253164556962,\n",
              "    9.620253164556962,\n",
              "    9.620253164556962,\n",
              "    9.620253164556962,\n",
              "    9.620253164556962,\n",
              "    9.620253164556962,\n",
              "    9.620253164556962,\n",
              "    9.620253164556962,\n",
              "    9.620253164556962,\n",
              "    9.620253164556962,\n",
              "    9.620253164556962,\n",
              "    9.620253164556962,\n",
              "    9.620253164556962,\n",
              "    9.620253164556962,\n",
              "    9.620253164556962,\n",
              "    9.620253164556962,\n",
              "    9.620253164556962,\n",
              "    9.620253164556962,\n",
              "    9.620253164556962,\n",
              "    9.620253164556962,\n",
              "    9.620253164556962,\n",
              "    9.620253164556962,\n",
              "    9.620253164556962,\n",
              "    9.620253164556962,\n",
              "    9.620253164556962,\n",
              "    9.620253164556962,\n",
              "    9.620253164556962,\n",
              "    9.620253164556962,\n",
              "    9.620253164556962,\n",
              "    9.620253164556962,\n",
              "    9.620253164556962,\n",
              "    9.620253164556962,\n",
              "    9.620253164556962,\n",
              "    9.620253164556962,\n",
              "    9.620253164556962,\n",
              "    9.620253164556962,\n",
              "    9.620253164556962,\n",
              "    9.620253164556962,\n",
              "    9.620253164556962,\n",
              "    9.620253164556962,\n",
              "    9.620253164556962,\n",
              "    9.620253164556962,\n",
              "    9.620253164556962]],\n",
              "  'test_loss': [[5.298318860626221,\n",
              "    5.298318860626221,\n",
              "    5.298318860626221,\n",
              "    5.298318860626221,\n",
              "    5.298318860626221,\n",
              "    5.298318860626221,\n",
              "    5.298318860626221,\n",
              "    5.298318860626221,\n",
              "    5.298318860626221,\n",
              "    5.298318860626221,\n",
              "    5.298318860626221,\n",
              "    5.298318860626221,\n",
              "    5.298318860626221,\n",
              "    5.298318860626221,\n",
              "    5.298318860626221,\n",
              "    5.298318860626221,\n",
              "    5.298318860626221,\n",
              "    5.298318860626221,\n",
              "    5.298318860626221,\n",
              "    5.298318860626221,\n",
              "    5.298318860626221,\n",
              "    5.298318860626221,\n",
              "    5.298318860626221,\n",
              "    5.298318860626221,\n",
              "    5.298318860626221,\n",
              "    5.298318860626221,\n",
              "    5.298318860626221,\n",
              "    5.298318860626221,\n",
              "    5.298318860626221,\n",
              "    5.298318860626221,\n",
              "    5.298318860626221,\n",
              "    5.298318860626221,\n",
              "    5.298318860626221,\n",
              "    5.298318860626221,\n",
              "    5.298318860626221,\n",
              "    5.298318860626221,\n",
              "    5.298318860626221,\n",
              "    5.298318860626221,\n",
              "    5.298318860626221,\n",
              "    5.298318860626221,\n",
              "    5.298318860626221,\n",
              "    5.298318860626221,\n",
              "    5.298318860626221,\n",
              "    5.298318860626221,\n",
              "    5.298318860626221,\n",
              "    5.298318860626221,\n",
              "    5.298318860626221,\n",
              "    5.298318860626221,\n",
              "    5.298318860626221,\n",
              "    5.298318860626221]],\n",
              "  'train_loss': [[0.42871311020377706,\n",
              "    6.832059912681579,\n",
              "    5.660226732889812,\n",
              "    6.056612063248953,\n",
              "    6.051664163271586,\n",
              "    6.5250130279858904,\n",
              "    6.053339980443319,\n",
              "    6.10574269135793,\n",
              "    6.310325357913971,\n",
              "    6.157321325937906,\n",
              "    6.217382454872132,\n",
              "    6.419741227626799,\n",
              "    5.964607721964519,\n",
              "    6.5356654795010884,\n",
              "    6.179189836978912,\n",
              "    6.629748253027598,\n",
              "    6.420610236326853,\n",
              "    6.376617752710978,\n",
              "    6.152048411369323,\n",
              "    5.989163181781769,\n",
              "    6.276886043548584,\n",
              "    7.289545978705088,\n",
              "    5.911067242622376,\n",
              "    5.885451526641846,\n",
              "    6.653134498596191,\n",
              "    6.77307914018631,\n",
              "    6.371597432295482,\n",
              "    6.519894571304322,\n",
              "    6.515901913642883,\n",
              "    6.798626422087352,\n",
              "    6.5575212550163275,\n",
              "    6.756403517723085,\n",
              "    6.901604776382446,\n",
              "    5.902801864147187,\n",
              "    6.282805430094401,\n",
              "    6.751371870835622,\n",
              "    6.044921456972757,\n",
              "    6.206733363469442,\n",
              "    6.293524321715037,\n",
              "    6.158913301626841,\n",
              "    6.99666429122289,\n",
              "    6.109043161074321,\n",
              "    6.375084391434987,\n",
              "    6.437931274573009,\n",
              "    6.905747376283012,\n",
              "    6.363998570442201,\n",
              "    5.96902103026708,\n",
              "    5.87481631120046,\n",
              "    6.148588958581288,\n",
              "    6.488869770367939]]},\n",
              " 'MNIST MLP on Non IID': {'hyperparams': {'C': 0.1,\n",
              "   'E': 5,\n",
              "   'K': 10,\n",
              "   'batch_size': 10,\n",
              "   'lr': 0.05,\n",
              "   'rounds': 50},\n",
              "  'test_accuracy': [[9.620253164556962,\n",
              "    9.620253164556962,\n",
              "    9.620253164556962,\n",
              "    9.620253164556962,\n",
              "    9.620253164556962,\n",
              "    9.620253164556962,\n",
              "    9.620253164556962,\n",
              "    9.620253164556962,\n",
              "    9.620253164556962,\n",
              "    9.620253164556962,\n",
              "    9.620253164556962,\n",
              "    9.620253164556962,\n",
              "    9.620253164556962,\n",
              "    9.620253164556962,\n",
              "    9.620253164556962,\n",
              "    9.620253164556962,\n",
              "    9.620253164556962,\n",
              "    9.620253164556962,\n",
              "    9.620253164556962,\n",
              "    9.620253164556962,\n",
              "    9.620253164556962,\n",
              "    9.620253164556962,\n",
              "    9.620253164556962,\n",
              "    9.620253164556962,\n",
              "    9.620253164556962,\n",
              "    9.620253164556962,\n",
              "    9.620253164556962,\n",
              "    9.620253164556962,\n",
              "    9.620253164556962,\n",
              "    9.620253164556962,\n",
              "    9.620253164556962,\n",
              "    9.620253164556962,\n",
              "    9.620253164556962,\n",
              "    9.620253164556962,\n",
              "    9.620253164556962,\n",
              "    9.620253164556962,\n",
              "    9.620253164556962,\n",
              "    9.620253164556962,\n",
              "    9.620253164556962,\n",
              "    9.620253164556962,\n",
              "    9.620253164556962,\n",
              "    9.620253164556962,\n",
              "    9.620253164556962,\n",
              "    9.620253164556962,\n",
              "    9.620253164556962,\n",
              "    9.620253164556962,\n",
              "    9.620253164556962,\n",
              "    9.620253164556962,\n",
              "    9.620253164556962,\n",
              "    9.620253164556962]],\n",
              "  'test_loss': [[5.298318860626221,\n",
              "    5.298318860626221,\n",
              "    5.298318860626221,\n",
              "    5.298318860626221,\n",
              "    5.298318860626221,\n",
              "    5.298318860626221,\n",
              "    5.298318860626221,\n",
              "    5.298318860626221,\n",
              "    5.298318860626221,\n",
              "    5.298318860626221,\n",
              "    5.298318860626221,\n",
              "    5.298318860626221,\n",
              "    5.298318860626221,\n",
              "    5.298318860626221,\n",
              "    5.298318860626221,\n",
              "    5.298318860626221,\n",
              "    5.298318860626221,\n",
              "    5.298318860626221,\n",
              "    5.298318860626221,\n",
              "    5.298318860626221,\n",
              "    5.298318860626221,\n",
              "    5.298318860626221,\n",
              "    5.298318860626221,\n",
              "    5.298318860626221,\n",
              "    5.298318860626221,\n",
              "    5.298318860626221,\n",
              "    5.298318860626221,\n",
              "    5.298318860626221,\n",
              "    5.298318860626221,\n",
              "    5.298318860626221,\n",
              "    5.298318860626221,\n",
              "    5.298318860626221,\n",
              "    5.298318860626221,\n",
              "    5.298318860626221,\n",
              "    5.298318860626221,\n",
              "    5.298318860626221,\n",
              "    5.298318860626221,\n",
              "    5.298318860626221,\n",
              "    5.298318860626221,\n",
              "    5.298318860626221,\n",
              "    5.298318860626221,\n",
              "    5.298318860626221,\n",
              "    5.298318860626221,\n",
              "    5.298318860626221,\n",
              "    5.298318860626221,\n",
              "    5.298318860626221,\n",
              "    5.298318860626221,\n",
              "    5.298318860626221,\n",
              "    5.298318860626221,\n",
              "    5.298318860626221]],\n",
              "  'train_loss': [[0.5125800506428793,\n",
              "    2.618679304917653,\n",
              "    4.678142842054367,\n",
              "    4.581939442555109,\n",
              "    1.1767510187625887,\n",
              "    3.317778462966283,\n",
              "    3.1928020477294927,\n",
              "    1.6817856767773627,\n",
              "    4.859666470885278,\n",
              "    1.29733879268103,\n",
              "    2.977404665152232,\n",
              "    1.102188705392182,\n",
              "    1.1857457786425951,\n",
              "    1.2160078470408917,\n",
              "    1.740688082377116,\n",
              "    1.608554292023182,\n",
              "    1.1154152006283402,\n",
              "    2.8657146437962853,\n",
              "    1.7415152884523075,\n",
              "    3.539462700486184,\n",
              "    5.4380048578977584,\n",
              "    2.4365138525764145,\n",
              "    1.6999909683068595,\n",
              "    3.6454959487915035,\n",
              "    4.327052667140961,\n",
              "    1.6610956094662348,\n",
              "    4.345301858584086,\n",
              "    5.659553209344546,\n",
              "    1.1758164275189213,\n",
              "    3.810928741693497,\n",
              "    1.642108070999384,\n",
              "    1.900295207550128,\n",
              "    2.9606645545363426,\n",
              "    4.385730384985607,\n",
              "    4.520328782200814,\n",
              "    4.350445692340534,\n",
              "    1.6025480521221955,\n",
              "    4.54433618525664,\n",
              "    3.7405840245882667,\n",
              "    4.215682908097903,\n",
              "    2.511687454581261,\n",
              "    1.561226516564687,\n",
              "    1.6965321959058444,\n",
              "    1.6419838889936607,\n",
              "    1.0500099875653783,\n",
              "    1.7440485296646753,\n",
              "    3.9090060192346576,\n",
              "    1.7631440525750322,\n",
              "    1.137632413903872,\n",
              "    3.9378787314891817]]}}"
            ]
          },
          "metadata": {
            "tags": []
          },
          "execution_count": 92
        }
      ]
    },
    {
      "cell_type": "code",
      "metadata": {
        "id": "igaXd98pqr3N"
      },
      "source": [
        "import pickle\n",
        " \n",
        "with open(path + 'FedMed_k10.pkl', 'rb') as file:\n",
        "  log_dict = pickle.load(file)"
      ],
      "execution_count": 95,
      "outputs": []
    },
    {
      "cell_type": "code",
      "metadata": {
        "id": "se_04JMaVJPg",
        "colab": {
          "base_uri": "https://localhost:8080/"
        },
        "outputId": "b913337c-b03b-456b-b776-33cc652b9307"
      },
      "source": [
        "print([test_acc[-1] for test_acc in log_dict['MNIST CNN on IID']['test_accuracy']])"
      ],
      "execution_count": 96,
      "outputs": [
        {
          "output_type": "stream",
          "text": [
            "[9.620253164556962]\n"
          ],
          "name": "stdout"
        }
      ]
    },
    {
      "cell_type": "code",
      "metadata": {
        "id": "5sv0rv-G4Sqa",
        "colab": {
          "base_uri": "https://localhost:8080/"
        },
        "outputId": "3eb76550-e7ee-49be-b12b-34f0891ad0f0"
      },
      "source": [
        "print([test_acc[-1] for test_acc in log_dict['MNIST CNN on Non IID']['test_accuracy']])"
      ],
      "execution_count": 97,
      "outputs": [
        {
          "output_type": "stream",
          "text": [
            "[9.620253164556962]\n"
          ],
          "name": "stdout"
        }
      ]
    },
    {
      "cell_type": "code",
      "metadata": {
        "id": "b2a2_Az-4nal",
        "colab": {
          "base_uri": "https://localhost:8080/"
        },
        "outputId": "49cc3afd-cf6c-4711-ac77-d3fc9dd479e8"
      },
      "source": [
        "print([test_acc[-1] for test_acc in log_dict['MNIST MLP on IID']['test_accuracy']])"
      ],
      "execution_count": 98,
      "outputs": [
        {
          "output_type": "stream",
          "text": [
            "[9.620253164556962]\n"
          ],
          "name": "stdout"
        }
      ]
    },
    {
      "cell_type": "code",
      "metadata": {
        "id": "YoRqZyvD4p2K",
        "colab": {
          "base_uri": "https://localhost:8080/"
        },
        "outputId": "ac1054f7-e10b-4d4f-d532-0b3cc55ebada"
      },
      "source": [
        "print([test_acc[-1] for test_acc in log_dict['MNIST MLP on Non IID']['test_accuracy']])"
      ],
      "execution_count": 99,
      "outputs": [
        {
          "output_type": "stream",
          "text": [
            "[9.620253164556962]\n"
          ],
          "name": "stdout"
        }
      ]
    },
    {
      "cell_type": "code",
      "metadata": {
        "id": "B87eGKJnAHIh",
        "colab": {
          "base_uri": "https://localhost:8080/"
        },
        "outputId": "b21d3900-1ca6-40f8-8ad3-1098c45845fd"
      },
      "source": [
        "output.show()"
      ],
      "execution_count": 100,
      "outputs": [
        {
          "output_type": "stream",
          "text": [
            "Drive already mounted at /content/drive; to attempt to forcibly remount, call drive.mount(\"/content/drive\", force_remount=True).\n"
          ],
          "name": "stdout"
        }
      ]
    }
  ]
}