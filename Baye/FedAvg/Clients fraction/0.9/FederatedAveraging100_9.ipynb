{
  "nbformat": 4,
  "nbformat_minor": 0,
  "metadata": {
    "accelerator": "GPU",
    "colab": {
      "name": "FederatedAveraging100.9.ipynb",
      "provenance": [],
      "collapsed_sections": [],
      "machine_shape": "hm"
    },
    "kernelspec": {
      "name": "python3",
      "display_name": "Python 3"
    },
    "language_info": {
      "name": "python"
    }
  },
  "cells": [
    {
      "cell_type": "markdown",
      "metadata": {
        "id": "view-in-github"
      },
      "source": [
        "<a href=\"https://colab.research.google.com/github/tushar-semwal/fedperf/blob/main/Vineeth/Local_Rounds/FedAvg/FederatedAveraging.ipynb\" target=\"_parent\"><img src=\"https://colab.research.google.com/assets/colab-badge.svg\" alt=\"Open In Colab\"/></a>"
      ]
    },
    {
      "cell_type": "code",
      "metadata": {
        "id": "yKcpjZLrQQJV"
      },
      "source": [
        "%%capture output\n",
        "try:\n",
        "    from google.colab import drive\n",
        "    drive.mount('/content/drive')\n",
        "\n",
        "    import os\n",
        "    path = '/content/drive/MyDrive/Colab Notebooks/FedPerf/'\n",
        "    os.makedirs(path, exist_ok=True)\n",
        "except:\n",
        "    path = './'"
      ],
      "execution_count": 58,
      "outputs": []
    },
    {
      "cell_type": "markdown",
      "metadata": {
        "id": "-0_nKpfq2h1R"
      },
      "source": [
        "## Imports"
      ]
    },
    {
      "cell_type": "code",
      "metadata": {
        "colab": {
          "base_uri": "https://localhost:8080/"
        },
        "id": "DLLNM9X2JbQ8",
        "outputId": "d092efe4-aa5b-4622-9ef8-b93611427947"
      },
      "source": [
        "%load_ext tensorboard\n",
        "import os\n",
        "import numpy as np\n",
        "import matplotlib\n",
        "import matplotlib.pyplot as plt\n",
        "import copy\n",
        "import random\n",
        "import time\n",
        "\n",
        "import torch\n",
        "import torch.nn as nn\n",
        "import torch.nn.functional as F\n",
        "\n",
        "from torch.utils.data import Dataset, DataLoader\n",
        "from torch.utils.tensorboard import SummaryWriter\n",
        "from torchvision import transforms, utils, datasets\n",
        "from torchsummary import summary\n",
        "\n",
        "\n",
        "# Check assigned GPU\n",
        "gpu_info = !nvidia-smi\n",
        "gpu_info = '\\n'.join(gpu_info)\n",
        "if gpu_info.find('failed') >= 0:\n",
        "  print('Select the Runtime > \"Change runtime type\" menu to enable a GPU accelerator, ')\n",
        "  print('and then re-execute this cell.')\n",
        "else:\n",
        "  print(gpu_info)\n",
        "\n",
        "# set manual seed for reproducibility\n",
        "seed = 42\n",
        "\n",
        "# general reproducibility\n",
        "random.seed(seed)\n",
        "np.random.seed(seed)\n",
        "torch.manual_seed(seed)\n",
        "\n",
        "# gpu training specific\n",
        "torch.backends.cudnn.deterministic = True\n",
        "torch.backends.cudnn.benchmark = False"
      ],
      "execution_count": 59,
      "outputs": [
        {
          "output_type": "stream",
          "text": [
            "The tensorboard extension is already loaded. To reload it, use:\n",
            "  %reload_ext tensorboard\n",
            "Thu Apr 22 07:53:52 2021       \n",
            "+-----------------------------------------------------------------------------+\n",
            "| NVIDIA-SMI 460.67       Driver Version: 460.32.03    CUDA Version: 11.2     |\n",
            "|-------------------------------+----------------------+----------------------+\n",
            "| GPU  Name        Persistence-M| Bus-Id        Disp.A | Volatile Uncorr. ECC |\n",
            "| Fan  Temp  Perf  Pwr:Usage/Cap|         Memory-Usage | GPU-Util  Compute M. |\n",
            "|                               |                      |               MIG M. |\n",
            "|===============================+======================+======================|\n",
            "|   0  Tesla P100-PCIE...  Off  | 00000000:00:04.0 Off |                    0 |\n",
            "| N/A   40C    P0    32W / 250W |   1235MiB / 16280MiB |      0%      Default |\n",
            "|                               |                      |                  N/A |\n",
            "+-------------------------------+----------------------+----------------------+\n",
            "                                                                               \n",
            "+-----------------------------------------------------------------------------+\n",
            "| Processes:                                                                  |\n",
            "|  GPU   GI   CI        PID   Type   Process name                  GPU Memory |\n",
            "|        ID   ID                                                   Usage      |\n",
            "|=============================================================================|\n",
            "+-----------------------------------------------------------------------------+\n"
          ],
          "name": "stdout"
        }
      ]
    },
    {
      "cell_type": "markdown",
      "metadata": {
        "id": "NY4eWzGiL6Mj"
      },
      "source": [
        "## Load the MNIST Dataset"
      ]
    },
    {
      "cell_type": "code",
      "metadata": {
        "id": "G649tjTXLL8F"
      },
      "source": [
        "# create transforms\n",
        "# We will just convert to tensor and normalize since no special transforms are mentioned in the paper\n",
        "transforms_mnist = transforms.Compose([\n",
        "                                       transforms.ToTensor(),\n",
        "                                       transforms.Normalize((0.1307,), (0.3081,))\n",
        "                                       ])\n",
        "\n",
        "mnist_data_train = datasets.MNIST('./data/mnist/', train=True, download=True, transform=transforms_mnist)\n",
        "mnist_data_test = datasets.MNIST('../data/mnist/', train=False, download=True, transform=transforms_mnist)"
      ],
      "execution_count": 60,
      "outputs": []
    },
    {
      "cell_type": "code",
      "metadata": {
        "colab": {
          "base_uri": "https://localhost:8080/"
        },
        "id": "dm9usjn2vFkL",
        "outputId": "32d6eeb1-65cc-4f58-d962-8b1f69c3e53a"
      },
      "source": [
        "classes = np.array(list(mnist_data_train.class_to_idx.values()))\n",
        "classes_test = np.array(list(mnist_data_test.class_to_idx.values()))\n",
        "num_classes = len(classes_test)\n",
        "print(\"Classes: {} \\tType: {}\".format(classes, type(classes)))\n",
        "print(\"Classes Test: {} \\tType: {}\".format(classes_test, type(classes)))\n"
      ],
      "execution_count": 61,
      "outputs": [
        {
          "output_type": "stream",
          "text": [
            "Classes: [0 1 2 3 4 5 6 7 8 9] \tType: <class 'numpy.ndarray'>\n",
            "Classes Test: [0 1 2 3 4 5 6 7 8 9] \tType: <class 'numpy.ndarray'>\n"
          ],
          "name": "stdout"
        }
      ]
    },
    {
      "cell_type": "code",
      "metadata": {
        "colab": {
          "base_uri": "https://localhost:8080/"
        },
        "id": "9lvJt3Ofv2SO",
        "outputId": "e5351974-66f2-44b2-a761-fb78d3d02a2a"
      },
      "source": [
        "print(\"Image Shape: {}\".format(mnist_data_train.data[0].size()))"
      ],
      "execution_count": 62,
      "outputs": [
        {
          "output_type": "stream",
          "text": [
            "Image Shape: torch.Size([28, 28])\n"
          ],
          "name": "stdout"
        }
      ]
    },
    {
      "cell_type": "markdown",
      "metadata": {
        "id": "jCOONkg-zV7Y"
      },
      "source": [
        "## Visualize Data"
      ]
    },
    {
      "cell_type": "code",
      "metadata": {
        "id": "R9MK03TZw6Qs"
      },
      "source": [
        "def imshow(img):\n",
        "\timg = img/2 + 0.5 #unnormalize the image\n",
        "\tplt.imshow(img, cmap='gray') # convert from tensor to image"
      ],
      "execution_count": 63,
      "outputs": []
    },
    {
      "cell_type": "code",
      "metadata": {
        "id": "gMJ0Kx4Kw-_H"
      },
      "source": [
        "def visualize(dataset):\n",
        "  figure = plt.figure(figsize=(25,4))\n",
        "  for i in range(20):\n",
        "    axis = figure.add_subplot(2, 20/2, i+1, xticks=[], yticks=[])\n",
        "    data = dataset.data[i]\n",
        "    data = data.numpy()\n",
        "\n",
        "    target = dataset.targets[i]\n",
        "    target = target.numpy()\n",
        "    imshow(data)\n",
        "    axis.set_title(target)\n"
      ],
      "execution_count": 64,
      "outputs": []
    },
    {
      "cell_type": "code",
      "metadata": {
        "colab": {
          "base_uri": "https://localhost:8080/",
          "height": 268
        },
        "id": "8bPOwKg10Ro7",
        "outputId": "2e8ff527-c63b-4bc3-9eb9-f69477f8d032"
      },
      "source": [
        "visualize(mnist_data_train)"
      ],
      "execution_count": 65,
      "outputs": [
        {
          "output_type": "display_data",
          "data": {
            "image/png": "[encoded data removed]",
            "text/plain": [
              "<Figure size 1800x288 with 20 Axes>"
            ]
          },
          "metadata": {
            "tags": []
          }
        }
      ]
    },
    {
      "cell_type": "code",
      "metadata": {
        "colab": {
          "base_uri": "https://localhost:8080/",
          "height": 268
        },
        "id": "RKoh5Cf70UYu",
        "outputId": "324e8fb0-e34f-43b8-d1ef-b66aa4251ac6"
      },
      "source": [
        "visualize(mnist_data_test)"
      ],
      "execution_count": 66,
      "outputs": [
        {
          "output_type": "display_data",
          "data": {
            "image/png": "[encoded data removed]",
            "text/plain": [
              "<Figure size 1800x288 with 20 Axes>"
            ]
          },
          "metadata": {
            "tags": []
          }
        }
      ]
    },
    {
      "cell_type": "markdown",
      "metadata": {
        "id": "ctjRsETiO1qO"
      },
      "source": [
        "## Partitioning the Data (IID and non-IID)"
      ]
    },
    {
      "cell_type": "code",
      "metadata": {
        "id": "3_v8lyrgO5dD"
      },
      "source": [
        "def iid_partition(dataset, clients):\n",
        "  \"\"\"\n",
        "  I.I.D paritioning of data over clients\n",
        "  Shuffle the data\n",
        "  Split it between clients\n",
        "  \n",
        "  params:\n",
        "    - dataset (torch.utils.Dataset): Dataset containing the MNIST Images\n",
        "    - clients (int): Number of Clients to split the data between\n",
        "\n",
        "  returns:\n",
        "    - Dictionary of image indexes for each client\n",
        "  \"\"\"\n",
        "\n",
        "  num_items_per_client = int(len(dataset)/clients)\n",
        "  client_dict = {}\n",
        "  image_idxs = [i for i in range(len(dataset))]\n",
        "\n",
        "  for i in range(clients):\n",
        "    client_dict[i] = set(np.random.choice(image_idxs, num_items_per_client, replace=False))\n",
        "    image_idxs = list(set(image_idxs) - client_dict[i])\n",
        "\n",
        "  return client_dict"
      ],
      "execution_count": 67,
      "outputs": []
    },
    {
      "cell_type": "code",
      "metadata": {
        "id": "4zMdliGMQoSl"
      },
      "source": [
        "def non_iid_partition(dataset, clients, total_shards, shards_size, num_shards_per_client):\n",
        "  \"\"\"\n",
        "  non I.I.D parititioning of data over clients\n",
        "  Sort the data by the digit label\n",
        "  Divide the data into N shards of size S\n",
        "  Each of the clients will get X shards\n",
        "\n",
        "  params:\n",
        "    - dataset (torch.utils.Dataset): Dataset containing the MNIST Images\n",
        "    - clients (int): Number of Clients to split the data between\n",
        "    - total_shards (int): Number of shards to partition the data in\n",
        "    - shards_size (int): Size of each shard \n",
        "    - num_shards_per_client (int): Number of shards of size shards_size that each client receives\n",
        "\n",
        "  returns:\n",
        "    - Dictionary of image indexes for each client\n",
        "  \"\"\"\n",
        "  \n",
        "  shard_idxs = [i for i in range(total_shards)]\n",
        "  client_dict = {i: np.array([], dtype='int64') for i in range(clients)}\n",
        "  idxs = np.arange(len(dataset))\n",
        "  data_labels = dataset.targets.numpy()\n",
        "\n",
        "  # sort the labels\n",
        "  label_idxs = np.vstack((idxs, data_labels))\n",
        "  label_idxs = label_idxs[:, label_idxs[1,:].argsort()]\n",
        "  idxs = label_idxs[0,:]\n",
        "\n",
        "  # divide the data into total_shards of size shards_size\n",
        "  # assign num_shards_per_client to each client\n",
        "  for i in range(clients):\n",
        "    rand_set = set(np.random.choice(shard_idxs, num_shards_per_client, replace=False))\n",
        "    shard_idxs = list(set(shard_idxs) - rand_set)\n",
        "\n",
        "    for rand in rand_set:\n",
        "      client_dict[i] = np.concatenate((client_dict[i], idxs[rand*shards_size:(rand+1)*shards_size]), axis=0)\n",
        "  \n",
        "  return client_dict\n",
        "\n",
        "\n",
        "\n"
      ],
      "execution_count": 68,
      "outputs": []
    },
    {
      "cell_type": "markdown",
      "metadata": {
        "id": "PTfxv8kFoGAy"
      },
      "source": [
        "## Models"
      ]
    },
    {
      "cell_type": "code",
      "metadata": {
        "id": "CvoDNFKbZST5"
      },
      "source": [
        "class MNIST_2NN(nn.Module):\n",
        "  \"\"\"\n",
        "  A simple multilayer-perceptron with 2-hidden layers with 200 units each\n",
        "  using ReLu activations\n",
        "\n",
        "  Total Expected Params: 199,210\n",
        "  \"\"\"\n",
        "  def __init__(self):\n",
        "    super(MNIST_2NN, self).__init__()\n",
        "\n",
        "    self.fc1 = nn.Linear(28*28, 200)\n",
        "    self.fc2 = nn.Linear(200, 200)\n",
        "    self.fc3 = nn.Linear(200, 10)\n",
        "\n",
        "  def forward(self, x):\n",
        "    x = torch.flatten(x, 1)\n",
        "    x = F.relu(self.fc1(x))\n",
        "    x = F.relu(self.fc2(x))\n",
        "    out = self.fc3(x)\n",
        "\n",
        "    return x"
      ],
      "execution_count": 69,
      "outputs": []
    },
    {
      "cell_type": "code",
      "metadata": {
        "id": "ut1hZ8x3qYPZ"
      },
      "source": [
        "class MNIST_CNN(nn.Module):\n",
        "  \"\"\"\n",
        "  CNN with two 5x5 convolution lauers(the first with 32 channels, second with 64,\n",
        "  each followed with 2x2 max pooling), a fully connected layer with 512 uunits and \n",
        "  ReLu activation, and the final Softmax output layer\n",
        "\n",
        "  Total Expected Params: 1,663,370\n",
        "  \"\"\"\n",
        "  def __init__(self):\n",
        "    super(MNIST_CNN, self).__init__()\n",
        "\n",
        "    self.conv1 = nn.Conv2d(1, 32, kernel_size=5)\n",
        "    self.conv2 = nn.Conv2d(32, 64, kernel_size=5)\n",
        "    \n",
        "    self.pool = nn.MaxPool2d(2,2)\n",
        "    self.dropout = nn.Dropout(p=0.2)\n",
        "\n",
        "    self.fc1 = nn.Linear(1024, 512)\n",
        "    self.out = nn.Linear(512, 10)\n",
        "\n",
        "  def forward(self, x):\n",
        "    x = self.pool(F.relu(self.conv1(x)))\n",
        "    x = self.pool(F.relu(self.conv2(x)))\n",
        "    x = self.dropout(x)\n",
        "    x = torch.flatten(x, 1)\n",
        "    x = F.relu(self.fc1(x))\n",
        "    x = self.out(x)\n",
        "    out = F.log_softmax(x, dim=1)\n",
        "\n",
        "    return out"
      ],
      "execution_count": 70,
      "outputs": []
    },
    {
      "cell_type": "markdown",
      "metadata": {
        "id": "uVv4HA9HuLtr"
      },
      "source": [
        "### Print Model Summaries"
      ]
    },
    {
      "cell_type": "code",
      "metadata": {
        "colab": {
          "base_uri": "https://localhost:8080/"
        },
        "id": "I5oTH710sJEt",
        "outputId": "3e69f4c7-c3fa-4503-b56e-5cf41c2a9e1e"
      },
      "source": [
        "mnist_mlp = MNIST_2NN()\n",
        "mnist_cnn = MNIST_CNN()\n",
        "\n",
        "if torch.cuda.is_available():\n",
        "  mnist_mlp.cuda()\n",
        "  mnist_cnn.cuda()\n",
        "\n",
        "print(\"MNIST MLP SUMMARY\")\n",
        "print(summary(mnist_mlp, (28,28)))\n",
        "\n",
        "print(\"\\nMNIST CNN SUMMARY\")\n",
        "print(summary(mnist_cnn, (1, 28,28)))"
      ],
      "execution_count": 71,
      "outputs": [
        {
          "output_type": "stream",
          "text": [
            "MNIST MLP SUMMARY\n",
            "----------------------------------------------------------------\n",
            "        Layer (type)               Output Shape         Param #\n",
            "================================================================\n",
            "            Linear-1                  [-1, 200]         157,000\n",
            "            Linear-2                  [-1, 200]          40,200\n",
            "            Linear-3                   [-1, 10]           2,010\n",
            "================================================================\n",
            "Total params: 199,210\n",
            "Trainable params: 199,210\n",
            "Non-trainable params: 0\n",
            "----------------------------------------------------------------\n",
            "Input size (MB): 0.00\n",
            "Forward/backward pass size (MB): 0.00\n",
            "Params size (MB): 0.76\n",
            "Estimated Total Size (MB): 0.77\n",
            "----------------------------------------------------------------\n",
            "None\n",
            "\n",
            "MNIST CNN SUMMARY\n",
            "----------------------------------------------------------------\n",
            "        Layer (type)               Output Shape         Param #\n",
            "================================================================\n",
            "            Conv2d-1           [-1, 32, 24, 24]             832\n",
            "         MaxPool2d-2           [-1, 32, 12, 12]               0\n",
            "            Conv2d-3             [-1, 64, 8, 8]          51,264\n",
            "         MaxPool2d-4             [-1, 64, 4, 4]               0\n",
            "           Dropout-5             [-1, 64, 4, 4]               0\n",
            "            Linear-6                  [-1, 512]         524,800\n",
            "            Linear-7                   [-1, 10]           5,130\n",
            "================================================================\n",
            "Total params: 582,026\n",
            "Trainable params: 582,026\n",
            "Non-trainable params: 0\n",
            "----------------------------------------------------------------\n",
            "Input size (MB): 0.00\n",
            "Forward/backward pass size (MB): 0.23\n",
            "Params size (MB): 2.22\n",
            "Estimated Total Size (MB): 2.45\n",
            "----------------------------------------------------------------\n",
            "None\n"
          ],
          "name": "stdout"
        }
      ]
    },
    {
      "cell_type": "markdown",
      "metadata": {
        "id": "gf_8XEXa-gZ7"
      },
      "source": [
        "## Federated Averaging"
      ]
    },
    {
      "cell_type": "markdown",
      "metadata": {
        "id": "L-aNdQsQ-Kvp"
      },
      "source": [
        "### Local Training (Client Update)\n",
        "\n",
        "Local training for the model on client side"
      ]
    },
    {
      "cell_type": "code",
      "metadata": {
        "id": "oX6OsQyO-Gz7"
      },
      "source": [
        "class CustomDataset(Dataset):\n",
        "  def __init__(self, dataset, idxs):\n",
        "      self.dataset = dataset\n",
        "      self.idxs = list(idxs)\n",
        "\n",
        "  def __len__(self):\n",
        "      return len(self.idxs)\n",
        "\n",
        "  def __getitem__(self, item):\n",
        "      image, label = self.dataset[self.idxs[item]]\n",
        "      return image, label\n",
        "\n",
        "\n",
        "class ClientUpdate(object):\n",
        "  def __init__(self, dataset, batchSize, learning_rate, epochs, idxs):\n",
        "    self.train_loader = DataLoader(CustomDataset(dataset, idxs), batch_size=batchSize, shuffle=True)\n",
        "\n",
        "    self.learning_rate = learning_rate\n",
        "    self.epochs = epochs\n",
        "\n",
        "  def train(self, model):\n",
        "    criterion = nn.CrossEntropyLoss()\n",
        "    optimizer = torch.optim.SGD(model.parameters(), lr=self.learning_rate, momentum=0.5)\n",
        "    # optimizer = torch.optim.Adam(model.parameters(), lr=self.learning_rate)\n",
        "\n",
        "    e_loss = []\n",
        "    for epoch in range(1, self.epochs+1):\n",
        "\n",
        "      train_loss = 0.0\n",
        "      model.train()\n",
        "      for data, labels in self.train_loader:\n",
        "\n",
        "        if torch.cuda.is_available():\n",
        "          data, labels = data.cuda(), labels.cuda()\n",
        "\n",
        "        # clear the gradients\n",
        "        optimizer.zero_grad()\n",
        "        # make a forward pass\n",
        "        output = model(data)\n",
        "        # calculate the loss\n",
        "        loss = criterion(output, labels)\n",
        "        # do a backwards pass\n",
        "        loss.backward()\n",
        "        # perform a single optimization step\n",
        "        optimizer.step()\n",
        "        # update training loss\n",
        "        train_loss += loss.item()*data.size(0)\n",
        "\n",
        "      # average losses\n",
        "      train_loss = train_loss/len(self.train_loader.dataset)\n",
        "      e_loss.append(train_loss)\n",
        "\n",
        "    total_loss = sum(e_loss)/len(e_loss)\n",
        "\n",
        "    return model.state_dict(), total_loss"
      ],
      "execution_count": 72,
      "outputs": []
    },
    {
      "cell_type": "markdown",
      "metadata": {
        "id": "Ukgh1DVHE2Ds"
      },
      "source": [
        "### Server Side Training\n",
        "\n",
        "Following Algorithm 1 from the paper"
      ]
    },
    {
      "cell_type": "code",
      "metadata": {
        "id": "1NF1e33BgpeL"
      },
      "source": [
        "def training(model, rounds, batch_size, lr, ds, ds_test, data_dict, C, K, E, plt_title, plt_color):\n",
        "  \"\"\"\n",
        "  Function implements the Federated Averaging Algorithm from the FedAvg paper.\n",
        "  Specifically, this function is used for the server side training and weight update\n",
        "\n",
        "  Params:\n",
        "    - model:           PyTorch model to train\n",
        "    - rounds:          Number of communication rounds for the client update\n",
        "    - batch_size:      Batch size for client update training\n",
        "    - lr:              Learning rate used for client update training\n",
        "    - ds:              Dataset used for training\n",
        "    - ds_test:         Dataset used for testing\n",
        "    - data_dict:       Type of data partition used for training (IID or non-IID)\n",
        "    - C:               Fraction of clients randomly chosen to perform computation on each round\n",
        "    - K:               Total number of clients\n",
        "    - E:               Number of training passes each client makes over its local dataset per round\n",
        "    - tb_writer_name:  Directory name to save the tensorboard logs\n",
        "  Returns:\n",
        "    - model:           Trained model on the server\n",
        "  \"\"\"\n",
        "\n",
        "  # global model weights\n",
        "  global_weights = model.state_dict()\n",
        "\n",
        "  # training loss\n",
        "  # train_accuracy = []\n",
        "  train_loss = []\n",
        "  test_accuracy = []\n",
        "  test_loss = []\n",
        "\n",
        "\n",
        "  # measure time\n",
        "  start = time.time()\n",
        "\n",
        "  for curr_round in range(1, rounds+1):\n",
        "    w, local_loss = [], []\n",
        "\n",
        "    m = max(int(C*K), 1)\n",
        "    \n",
        "    S_t = np.random.choice(range(K), m, replace=False)\n",
        "    for k in S_t:\n",
        "      local_update = ClientUpdate(dataset=ds, batchSize=batch_size, learning_rate=lr, epochs=E, idxs=data_dict[k])\n",
        "      weights, loss = local_update.train(model=copy.deepcopy(model))\n",
        "\n",
        "      w.append(copy.deepcopy(weights))\n",
        "      local_loss.append(copy.deepcopy(loss))\n",
        "\n",
        "    # updating the global weights\n",
        "    weights_avg = copy.deepcopy(w[0])\n",
        "    for k in weights_avg.keys():\n",
        "      for i in range(1, len(w)):\n",
        "        weights_avg[k] += w[i][k]\n",
        "\n",
        "      weights_avg[k] = torch.div(weights_avg[k], len(w))\n",
        "\n",
        "    global_weights = weights_avg\n",
        "\n",
        "    # move the updated weights to our model state dict\n",
        "    model.load_state_dict(global_weights)\n",
        "\n",
        "    # loss\n",
        "    loss_avg = sum(local_loss) / len(local_loss)\n",
        "    print('Round: {}... \\tAverage Loss: {}'.format(curr_round, round(loss_avg, 3)))\n",
        "    train_loss.append(loss_avg)\n",
        "\n",
        "    # test\n",
        "    test_criterion = nn.CrossEntropyLoss()\n",
        "    test_accuracy_current, test_loss_current =  testing(copy.deepcopy(model), ds_test, 128, test_criterion, num_classes, classes_test)\n",
        "    test_accuracy.append(test_accuracy_current)\n",
        "    test_loss.append(test_loss_current)\n",
        "\n",
        "  end = time.time()\n",
        "  \n",
        "  fig, ax = plt.subplots()\n",
        "  x_axis = np.arange(1, rounds+1)\n",
        "  y_axis = np.array(train_loss)\n",
        "  ax.plot(x_axis, y_axis, 'tab:'+plt_color)\n",
        "\n",
        "  ax.set(xlabel='Number of Rounds', ylabel='Train Loss',\n",
        "       title=plt_title)\n",
        "  ax.grid()\n",
        "  fig.savefig(plt_title+'_Train_loss.jpg', format='jpg')\n",
        "  plt.show()\n",
        "\n",
        "  fig, ax = plt.subplots()\n",
        "  x_axis = np.arange(1, rounds+1)\n",
        "  y_axis = np.array(test_loss)\n",
        "  ax.plot(x_axis, y_axis, 'tab:'+plt_color)\n",
        "\n",
        "  ax.set(xlabel='Number of Rounds', ylabel='Test Loss',\n",
        "       title=plt_title)\n",
        "  ax.grid()\n",
        "  fig.savefig(plt_title+'_Test_loss.jpg', format='jpg')\n",
        "  plt.show()\n",
        "\n",
        "  fig, ax = plt.subplots()\n",
        "  x_axis = np.arange(1, rounds+1)\n",
        "  y_axis = np.array(test_accuracy)\n",
        "  ax.plot(x_axis, y_axis, 'tab:'+plt_color)\n",
        "\n",
        "  ax.set(xlabel='Number of Rounds', ylabel='Test Accuracy',\n",
        "       title=plt_title)\n",
        "  ax.grid()\n",
        "  fig.savefig(plt_title+'_Test_Accuracy.jpg', format='jpg')\n",
        "  plt.show()\n",
        "  \n",
        "  print(\"Training Done!\")\n",
        "  print(\"Total time taken to Train: {}\\n\\n\".format(end-start))\n",
        "  \n",
        "  return model, train_loss, test_accuracy, test_loss"
      ],
      "execution_count": 73,
      "outputs": []
    },
    {
      "cell_type": "markdown",
      "metadata": {
        "id": "tUYyb4T-uXmF"
      },
      "source": [
        "## Testing Loop"
      ]
    },
    {
      "cell_type": "code",
      "metadata": {
        "id": "uCcIZmO5uan9"
      },
      "source": [
        "def testing(model, dataset, bs, criterion, num_classes, classes, print_info=False):\n",
        "  #test loss \n",
        "  test_loss = 0.0\n",
        "  correct_class = list(0. for i in range(num_classes))\n",
        "  total_class = list(0. for i in range(num_classes))\n",
        "\n",
        "  test_loader = DataLoader(dataset, batch_size=bs)\n",
        "  l = len(test_loader)\n",
        "  model.eval()\n",
        "  for data, labels in test_loader:\n",
        "\n",
        "    if torch.cuda.is_available():\n",
        "      data, labels = data.cuda(), labels.cuda()\n",
        "\n",
        "    output = model(data)\n",
        "    loss = criterion(output, labels)\n",
        "    test_loss += loss.item()*data.size(0)\n",
        "\n",
        "    _, pred = torch.max(output, 1)\n",
        "\n",
        "    correct_tensor = pred.eq(labels.data.view_as(pred))\n",
        "    correct = np.squeeze(correct_tensor.numpy()) if not torch.cuda.is_available() else np.squeeze(correct_tensor.cpu().numpy())\n",
        "\n",
        "    #test accuracy for each object class\n",
        "    for i in range(num_classes):\n",
        "      label = labels.data[i]\n",
        "      correct_class[label] += correct[i].item()\n",
        "      total_class[label] += 1\n",
        "    \n",
        "  # avg test loss\n",
        "  test_loss = test_loss/len(test_loader.dataset)\n",
        "  test_accuracy = 100. * np.sum(correct_class) / np.sum(total_class)\n",
        "\n",
        "  if print_info:\n",
        "    print(\"Test Loss: {:.6f}\\n\".format(test_loss))\n",
        "\n",
        "    for i in range(10):\n",
        "      if total_class[i]>0:\n",
        "        print('Test Accuracy of %5s: %2d%% (%2d/%2d)' % \n",
        "              (classes[i], 100 * correct_class[i] / total_class[i],\n",
        "              np.sum(correct_class[i]), np.sum(total_class[i])))\n",
        "      else:\n",
        "        print('Test Accuracy of %5s: N/A (no training examples)' % (classes[i]))\n",
        "\n",
        "    print('\\nFinal Test  Accuracy: {:.3f} ({}/{})'.format(\n",
        "          100. * np.sum(correct_class) / np.sum(total_class),\n",
        "          np.sum(correct_class), np.sum(total_class)))\n",
        "  \n",
        "  return test_accuracy, test_loss"
      ],
      "execution_count": 74,
      "outputs": []
    },
    {
      "cell_type": "markdown",
      "metadata": {
        "id": "Ri0FqXFeHW-V"
      },
      "source": [
        "## Logger"
      ]
    },
    {
      "cell_type": "code",
      "metadata": {
        "id": "thZm2kSiHT4v"
      },
      "source": [
        "log_dict = {}\n",
        "NUM_REPEAT = 1"
      ],
      "execution_count": 75,
      "outputs": []
    },
    {
      "cell_type": "markdown",
      "metadata": {
        "id": "4hO5oV6aXqeh"
      },
      "source": [
        "## MNIST CNN on IID"
      ]
    },
    {
      "cell_type": "markdown",
      "metadata": {
        "id": "flSQv_P4zCfx"
      },
      "source": [
        "### Train\n"
      ]
    },
    {
      "cell_type": "code",
      "metadata": {
        "colab": {
          "base_uri": "https://localhost:8080/",
          "height": 1000
        },
        "id": "0ZalcKZtEseA",
        "outputId": "6da8a160-1312-4468-aaf6-4408d86a37e3"
      },
      "source": [
        "train_loss_multiple_runs = [None] * NUM_REPEAT\n",
        "test_accuracy_multiple_runs = [None] * NUM_REPEAT\n",
        "test_loss_multiple_runs = [None] * NUM_REPEAT\n",
        "\n",
        "for exp_num in range(NUM_REPEAT):\n",
        "  print(\"Experiment Run Number: \", exp_num)\n",
        "\n",
        "  # number of training rounds\n",
        "  rounds = 50\n",
        "  # client fraction\n",
        "  C = 0.9\n",
        "  # number of clients\n",
        "  K = 100\n",
        "  # number of training passes on local dataset for each roung\n",
        "  E = 5\n",
        "  # batch size\n",
        "  batch_size = 10\n",
        "  # learning Rate\n",
        "  lr=0.05\n",
        "  # data partition dictionary\n",
        "  iid_dict = iid_partition(mnist_data_train, 100)\n",
        "  # load model\n",
        "  mnist_cnn = MNIST_CNN()\n",
        "\n",
        "  if torch.cuda.is_available():\n",
        "    mnist_cnn.cuda()\n",
        "\n",
        "  mnist_cnn_iid_trained, train_loss, test_accuracy, test_loss = training(mnist_cnn, rounds, batch_size, lr, mnist_data_train, mnist_data_test, iid_dict, C, K, E, \"MNIST CNN on IID Dataset\", \"orange\")\n",
        "\n",
        "  train_loss_multiple_runs[exp_num] = train_loss\n",
        "  test_accuracy_multiple_runs[exp_num] = test_accuracy\n",
        "  test_loss_multiple_runs[exp_num] = test_loss"
      ],
      "execution_count": 76,
      "outputs": [
        {
          "output_type": "stream",
          "text": [
            "Experiment Run Number:  0\n",
            "Round: 1... \tAverage Loss: 0.507\n",
            "Round: 2... \tAverage Loss: 0.143\n",
            "Round: 3... \tAverage Loss: 0.08\n",
            "Round: 4... \tAverage Loss: 0.062\n",
            "Round: 5... \tAverage Loss: 0.049\n",
            "Round: 6... \tAverage Loss: 0.042\n",
            "Round: 7... \tAverage Loss: 0.038\n",
            "Round: 8... \tAverage Loss: 0.034\n",
            "Round: 9... \tAverage Loss: 0.033\n",
            "Round: 10... \tAverage Loss: 0.029\n",
            "Round: 11... \tAverage Loss: 0.028\n",
            "Round: 12... \tAverage Loss: 0.024\n",
            "Round: 13... \tAverage Loss: 0.025\n",
            "Round: 14... \tAverage Loss: 0.023\n",
            "Round: 15... \tAverage Loss: 0.022\n",
            "Round: 16... \tAverage Loss: 0.02\n",
            "Round: 17... \tAverage Loss: 0.021\n",
            "Round: 18... \tAverage Loss: 0.019\n",
            "Round: 19... \tAverage Loss: 0.018\n",
            "Round: 20... \tAverage Loss: 0.017\n",
            "Round: 21... \tAverage Loss: 0.017\n",
            "Round: 22... \tAverage Loss: 0.016\n",
            "Round: 23... \tAverage Loss: 0.015\n",
            "Round: 24... \tAverage Loss: 0.016\n",
            "Round: 25... \tAverage Loss: 0.016\n",
            "Round: 26... \tAverage Loss: 0.015\n",
            "Round: 27... \tAverage Loss: 0.014\n",
            "Round: 28... \tAverage Loss: 0.013\n",
            "Round: 29... \tAverage Loss: 0.013\n",
            "Round: 30... \tAverage Loss: 0.013\n",
            "Round: 31... \tAverage Loss: 0.013\n",
            "Round: 32... \tAverage Loss: 0.013\n",
            "Round: 33... \tAverage Loss: 0.012\n",
            "Round: 34... \tAverage Loss: 0.012\n",
            "Round: 35... \tAverage Loss: 0.011\n",
            "Round: 36... \tAverage Loss: 0.011\n",
            "Round: 37... \tAverage Loss: 0.011\n",
            "Round: 38... \tAverage Loss: 0.01\n",
            "Round: 39... \tAverage Loss: 0.01\n",
            "Round: 40... \tAverage Loss: 0.01\n",
            "Round: 41... \tAverage Loss: 0.01\n",
            "Round: 42... \tAverage Loss: 0.01\n",
            "Round: 43... \tAverage Loss: 0.009\n",
            "Round: 44... \tAverage Loss: 0.009\n",
            "Round: 45... \tAverage Loss: 0.009\n",
            "Round: 46... \tAverage Loss: 0.008\n",
            "Round: 47... \tAverage Loss: 0.009\n",
            "Round: 48... \tAverage Loss: 0.009\n",
            "Round: 49... \tAverage Loss: 0.007\n",
            "Round: 50... \tAverage Loss: 0.009\n"
          ],
          "name": "stdout"
        },
        {
          "output_type": "display_data",
          "data": {
            "image/png": "[encoded data removed]",
            "text/plain": [
              "<Figure size 432x288 with 1 Axes>"
            ]
          },
          "metadata": {
            "tags": [],
            "needs_background": "light"
          }
        },
        {
          "output_type": "display_data",
          "data": {
            "image/png": "[encoded data removed]",
            "text/plain": [
              "<Figure size 432x288 with 1 Axes>"
            ]
          },
          "metadata": {
            "tags": [],
            "needs_background": "light"
          }
        },
        {
          "output_type": "display_data",
          "data": {
            "image/png": "[encoded data removed]",
            "text/plain": [
              "<Figure size 432x288 with 1 Axes>"
            ]
          },
          "metadata": {
            "tags": [],
            "needs_background": "light"
          }
        },
        {
          "output_type": "stream",
          "text": [
            "Training Done!\n",
            "Total time taken to Train: 4675.511816263199\n",
            "\n",
            "\n"
          ],
          "name": "stdout"
        }
      ]
    },
    {
      "cell_type": "markdown",
      "metadata": {
        "id": "wNwC82przF6G"
      },
      "source": [
        "### Test"
      ]
    },
    {
      "cell_type": "code",
      "metadata": {
        "colab": {
          "base_uri": "https://localhost:8080/"
        },
        "id": "qB97BFs9we9w",
        "outputId": "5250a023-7587-4c15-bc24-c381ee1a4352"
      },
      "source": [
        "criterion = nn.CrossEntropyLoss()\n",
        "acc, loss = testing(mnist_cnn_iid_trained, mnist_data_test, 128, criterion, num_classes, classes_test, True)"
      ],
      "execution_count": 77,
      "outputs": [
        {
          "output_type": "stream",
          "text": [
            "Test Loss: 0.021960\n",
            "\n",
            "Test Accuracy of     0: 100% (76/76)\n",
            "Test Accuracy of     1: 100% (90/90)\n",
            "Test Accuracy of     2: 100% (91/91)\n",
            "Test Accuracy of     3: 97% (71/73)\n",
            "Test Accuracy of     4: 100% (89/89)\n",
            "Test Accuracy of     5: 98% (67/68)\n",
            "Test Accuracy of     6: 100% (62/62)\n",
            "Test Accuracy of     7: 100% (81/81)\n",
            "Test Accuracy of     8: 100% (77/77)\n",
            "Test Accuracy of     9: 100% (83/83)\n",
            "\n",
            "Final Test  Accuracy: 99.620 (787.0/790.0)\n"
          ],
          "name": "stdout"
        }
      ]
    },
    {
      "cell_type": "code",
      "metadata": {
        "id": "gdQZEZmHHeqt"
      },
      "source": [
        "hyperparams = {'rounds': rounds,\n",
        "               'C': C,\n",
        "               'K': K,\n",
        "               'E': E,\n",
        "               'batch_size': batch_size,\n",
        "               'lr': lr,\n",
        "               }\n",
        "\n",
        "log_dict['MNIST CNN on IID'] = {'train_loss': train_loss_multiple_runs, \n",
        "                                'test_loss': test_loss_multiple_runs, \n",
        "                                'test_accuracy': test_accuracy_multiple_runs,\n",
        "                                'hyperparams': hyperparams,\n",
        "                                }"
      ],
      "execution_count": 78,
      "outputs": []
    },
    {
      "cell_type": "markdown",
      "metadata": {
        "id": "uF8MdSIUYcnl"
      },
      "source": [
        "## MNIST CNN on Non IID"
      ]
    },
    {
      "cell_type": "markdown",
      "metadata": {
        "id": "a6wXX7JW11bx"
      },
      "source": [
        "### Train\n"
      ]
    },
    {
      "cell_type": "code",
      "metadata": {
        "colab": {
          "base_uri": "https://localhost:8080/",
          "height": 1000
        },
        "id": "fCD3kBCKYfBK",
        "outputId": "7665f498-5ad3-4eee-f2ad-40b4cd8551cf"
      },
      "source": [
        "train_loss_multiple_runs = [None] * NUM_REPEAT\n",
        "test_accuracy_multiple_runs = [None] * NUM_REPEAT\n",
        "test_loss_multiple_runs = [None] * NUM_REPEAT\n",
        "\n",
        "for exp_num in range(NUM_REPEAT):\n",
        "  print(\"Experiment Run Number: \", exp_num)\n",
        "\n",
        "  # number of training rounds\n",
        "  rounds = 50\n",
        "  # client fraction\n",
        "  C = 0.9\n",
        "  # number of clients\n",
        "  K = 100\n",
        "  # number of training passes on local dataset for each roung\n",
        "  E = 5\n",
        "  # batch size\n",
        "  batch_size = 10\n",
        "  # learning Rate\n",
        "  lr=0.05\n",
        "  # dict containing different type of data partition\n",
        "  data_dict = non_iid_partition(mnist_data_train, 100, 200, 300, 2)\n",
        "  # load model\n",
        "  mnist_cnn = MNIST_CNN()\n",
        "\n",
        "  if torch.cuda.is_available():\n",
        "    mnist_cnn.cuda()\n",
        "\n",
        "  mnist_cnn_non_iid_trained, train_loss, test_accuracy, test_loss = training(mnist_cnn, rounds, batch_size, lr, mnist_data_train, mnist_data_test, data_dict, C, K, E, \"MNIST CNN on Non-IID Dataset\", \"green\")\n",
        "\n",
        "  train_loss_multiple_runs[exp_num] = train_loss\n",
        "  test_accuracy_multiple_runs[exp_num] = test_accuracy\n",
        "  test_loss_multiple_runs[exp_num] = test_loss"
      ],
      "execution_count": 79,
      "outputs": [
        {
          "output_type": "stream",
          "text": [
            "Experiment Run Number:  0\n",
            "Round: 1... \tAverage Loss: 0.11\n",
            "Round: 2... \tAverage Loss: 0.077\n",
            "Round: 3... \tAverage Loss: 0.04\n",
            "Round: 4... \tAverage Loss: 0.027\n",
            "Round: 5... \tAverage Loss: 0.025\n",
            "Round: 6... \tAverage Loss: 0.019\n",
            "Round: 7... \tAverage Loss: 0.021\n",
            "Round: 8... \tAverage Loss: 0.018\n",
            "Round: 9... \tAverage Loss: 0.016\n",
            "Round: 10... \tAverage Loss: 0.017\n",
            "Round: 11... \tAverage Loss: 0.015\n",
            "Round: 12... \tAverage Loss: 0.015\n",
            "Round: 13... \tAverage Loss: 0.014\n",
            "Round: 14... \tAverage Loss: 0.013\n",
            "Round: 15... \tAverage Loss: 0.013\n",
            "Round: 16... \tAverage Loss: 0.012\n",
            "Round: 17... \tAverage Loss: 0.012\n",
            "Round: 18... \tAverage Loss: 0.011\n",
            "Round: 19... \tAverage Loss: 0.011\n",
            "Round: 20... \tAverage Loss: 0.011\n",
            "Round: 21... \tAverage Loss: 0.011\n",
            "Round: 22... \tAverage Loss: 0.01\n",
            "Round: 23... \tAverage Loss: 0.009\n",
            "Round: 24... \tAverage Loss: 0.009\n",
            "Round: 25... \tAverage Loss: 0.008\n",
            "Round: 26... \tAverage Loss: 0.009\n",
            "Round: 27... \tAverage Loss: 0.009\n",
            "Round: 28... \tAverage Loss: 0.009\n",
            "Round: 29... \tAverage Loss: 0.01\n",
            "Round: 30... \tAverage Loss: 0.008\n",
            "Round: 31... \tAverage Loss: 0.008\n",
            "Round: 32... \tAverage Loss: 0.008\n",
            "Round: 33... \tAverage Loss: 0.008\n",
            "Round: 34... \tAverage Loss: 0.008\n",
            "Round: 35... \tAverage Loss: 0.008\n",
            "Round: 36... \tAverage Loss: 0.008\n",
            "Round: 37... \tAverage Loss: 0.008\n",
            "Round: 38... \tAverage Loss: 0.008\n",
            "Round: 39... \tAverage Loss: 0.007\n",
            "Round: 40... \tAverage Loss: 0.007\n",
            "Round: 41... \tAverage Loss: 0.007\n",
            "Round: 42... \tAverage Loss: 0.007\n",
            "Round: 43... \tAverage Loss: 0.006\n",
            "Round: 44... \tAverage Loss: 0.007\n",
            "Round: 45... \tAverage Loss: 0.008\n",
            "Round: 46... \tAverage Loss: 0.007\n",
            "Round: 47... \tAverage Loss: 0.006\n",
            "Round: 48... \tAverage Loss: 0.006\n",
            "Round: 49... \tAverage Loss: 0.006\n",
            "Round: 50... \tAverage Loss: 0.006\n"
          ],
          "name": "stdout"
        },
        {
          "output_type": "display_data",
          "data": {
            "image/png": "[encoded data removed]",
            "text/plain": [
              "<Figure size 432x288 with 1 Axes>"
            ]
          },
          "metadata": {
            "tags": [],
            "needs_background": "light"
          }
        },
        {
          "output_type": "display_data",
          "data": {
            "image/png": "[encoded data removed]",
            "text/plain": [
              "<Figure size 432x288 with 1 Axes>"
            ]
          },
          "metadata": {
            "tags": [],
            "needs_background": "light"
          }
        },
        {
          "output_type": "display_data",
          "data": {
            "image/png": "[encoded data removed]",
            "text/plain": [
              "<Figure size 432x288 with 1 Axes>"
            ]
          },
          "metadata": {
            "tags": [],
            "needs_background": "light"
          }
        },
        {
          "output_type": "stream",
          "text": [
            "Training Done!\n",
            "Total time taken to Train: 4675.133912086487\n",
            "\n",
            "\n"
          ],
          "name": "stdout"
        }
      ]
    },
    {
      "cell_type": "markdown",
      "metadata": {
        "id": "4C68J-Kk14dB"
      },
      "source": [
        "### Test"
      ]
    },
    {
      "cell_type": "code",
      "metadata": {
        "colab": {
          "base_uri": "https://localhost:8080/"
        },
        "id": "_yQ9GiAZ15jE",
        "outputId": "55e7ba84-12df-46cf-acf8-bcbf6d5a9418"
      },
      "source": [
        "criterion = nn.CrossEntropyLoss()\n",
        "acc, loss = testing(mnist_cnn_non_iid_trained, mnist_data_test, 128, criterion, num_classes, classes_test, True)"
      ],
      "execution_count": 80,
      "outputs": [
        {
          "output_type": "stream",
          "text": [
            "Test Loss: 0.035441\n",
            "\n",
            "Test Accuracy of     0: 100% (76/76)\n",
            "Test Accuracy of     1: 100% (90/90)\n",
            "Test Accuracy of     2: 100% (91/91)\n",
            "Test Accuracy of     3: 97% (71/73)\n",
            "Test Accuracy of     4: 98% (88/89)\n",
            "Test Accuracy of     5: 98% (67/68)\n",
            "Test Accuracy of     6: 98% (61/62)\n",
            "Test Accuracy of     7: 98% (80/81)\n",
            "Test Accuracy of     8: 100% (77/77)\n",
            "Test Accuracy of     9: 98% (82/83)\n",
            "\n",
            "Final Test  Accuracy: 99.114 (783.0/790.0)\n"
          ],
          "name": "stdout"
        }
      ]
    },
    {
      "cell_type": "code",
      "metadata": {
        "id": "dxMcxgLhLvX-"
      },
      "source": [
        "hyperparams = {'rounds': rounds,\n",
        "               'C': C,\n",
        "               'K': K,\n",
        "               'E': E,\n",
        "               'batch_size': batch_size,\n",
        "               'lr': lr,\n",
        "               }\n",
        "\n",
        "log_dict['MNIST CNN on Non IID'] = {'train_loss': train_loss_multiple_runs, \n",
        "                                'test_loss': test_loss_multiple_runs, \n",
        "                                'test_accuracy': test_accuracy_multiple_runs,\n",
        "                                'hyperparams': hyperparams,\n",
        "                                }"
      ],
      "execution_count": 81,
      "outputs": []
    },
    {
      "cell_type": "markdown",
      "metadata": {
        "id": "z_jifdzniuhm"
      },
      "source": [
        "## MNIST MLP on IID"
      ]
    },
    {
      "cell_type": "markdown",
      "metadata": {
        "id": "uh-te0Od2XGO"
      },
      "source": [
        "### Train"
      ]
    },
    {
      "cell_type": "code",
      "metadata": {
        "colab": {
          "base_uri": "https://localhost:8080/",
          "height": 1000
        },
        "id": "UmpWmKOQixVV",
        "outputId": "068a0868-1d9b-407f-c77c-edf3afe1ceab"
      },
      "source": [
        "train_loss_multiple_runs = [None] * NUM_REPEAT\n",
        "test_accuracy_multiple_runs = [None] * NUM_REPEAT\n",
        "test_loss_multiple_runs = [None] * NUM_REPEAT\n",
        "\n",
        "for exp_num in range(NUM_REPEAT):\n",
        "  print(\"Experiment Run Number: \", exp_num)\n",
        "\n",
        "  # number of training rounds\n",
        "  rounds = 50\n",
        "  # client fraction\n",
        "  C = 0.9\n",
        "  # number of clients\n",
        "  K = 100\n",
        "  # number of training passes on local dataset for each round\n",
        "  E = 5\n",
        "  # batch size\n",
        "  batch_size = 10\n",
        "  # learning Rate\n",
        "  lr=0.05\n",
        "  # dict containing different type of data partition\n",
        "  data_dict = iid_partition(mnist_data_train, 100)\n",
        "  # load model\n",
        "  mnist_mlp = MNIST_2NN()\n",
        "\n",
        "  if torch.cuda.is_available():\n",
        "    mnist_mlp.cuda()\n",
        "\n",
        "  mnist_mlp_iid_trained, train_loss, test_accuracy, test_loss = training(mnist_mlp, rounds, batch_size, lr, mnist_data_train, mnist_data_test, data_dict, C, K, E, \"MNIST MLP on IID Dataset\", \"orange\")\n",
        "  \n",
        "  train_loss_multiple_runs[exp_num] = train_loss\n",
        "  test_accuracy_multiple_runs[exp_num] = test_accuracy\n",
        "  test_loss_multiple_runs[exp_num] = test_loss"
      ],
      "execution_count": 82,
      "outputs": [
        {
          "output_type": "stream",
          "text": [
            "Experiment Run Number:  0\n",
            "Round: 1... \tAverage Loss: 0.558\n",
            "Round: 2... \tAverage Loss: 0.164\n",
            "Round: 3... \tAverage Loss: 0.124\n",
            "Round: 4... \tAverage Loss: 0.102\n",
            "Round: 5... \tAverage Loss: 0.087\n",
            "Round: 6... \tAverage Loss: 0.077\n",
            "Round: 7... \tAverage Loss: 0.07\n",
            "Round: 8... \tAverage Loss: 0.063\n",
            "Round: 9... \tAverage Loss: 0.059\n",
            "Round: 10... \tAverage Loss: 0.056\n",
            "Round: 11... \tAverage Loss: 0.052\n",
            "Round: 12... \tAverage Loss: 0.049\n",
            "Round: 13... \tAverage Loss: 0.045\n",
            "Round: 14... \tAverage Loss: 0.045\n",
            "Round: 15... \tAverage Loss: 0.042\n",
            "Round: 16... \tAverage Loss: 0.04\n",
            "Round: 17... \tAverage Loss: 0.038\n",
            "Round: 18... \tAverage Loss: 0.038\n",
            "Round: 19... \tAverage Loss: 0.036\n",
            "Round: 20... \tAverage Loss: 0.035\n",
            "Round: 21... \tAverage Loss: 0.034\n",
            "Round: 22... \tAverage Loss: 0.031\n",
            "Round: 23... \tAverage Loss: 0.031\n",
            "Round: 24... \tAverage Loss: 0.03\n",
            "Round: 25... \tAverage Loss: 0.029\n",
            "Round: 26... \tAverage Loss: 0.029\n",
            "Round: 27... \tAverage Loss: 0.028\n",
            "Round: 28... \tAverage Loss: 0.027\n",
            "Round: 29... \tAverage Loss: 0.026\n",
            "Round: 30... \tAverage Loss: 0.025\n",
            "Round: 31... \tAverage Loss: 0.025\n",
            "Round: 32... \tAverage Loss: 0.024\n",
            "Round: 33... \tAverage Loss: 0.024\n",
            "Round: 34... \tAverage Loss: 0.023\n",
            "Round: 35... \tAverage Loss: 0.022\n",
            "Round: 36... \tAverage Loss: 0.022\n",
            "Round: 37... \tAverage Loss: 0.022\n",
            "Round: 38... \tAverage Loss: 0.021\n",
            "Round: 39... \tAverage Loss: 0.02\n",
            "Round: 40... \tAverage Loss: 0.02\n",
            "Round: 41... \tAverage Loss: 0.02\n",
            "Round: 42... \tAverage Loss: 0.019\n",
            "Round: 43... \tAverage Loss: 0.019\n",
            "Round: 44... \tAverage Loss: 0.019\n",
            "Round: 45... \tAverage Loss: 0.018\n",
            "Round: 46... \tAverage Loss: 0.017\n",
            "Round: 47... \tAverage Loss: 0.017\n",
            "Round: 48... \tAverage Loss: 0.017\n",
            "Round: 49... \tAverage Loss: 0.017\n",
            "Round: 50... \tAverage Loss: 0.016\n"
          ],
          "name": "stdout"
        },
        {
          "output_type": "display_data",
          "data": {
            "image/png": "[encoded data removed]",
            "text/plain": [
              "<Figure size 432x288 with 1 Axes>"
            ]
          },
          "metadata": {
            "tags": [],
            "needs_background": "light"
          }
        },
        {
          "output_type": "display_data",
          "data": {
            "image/png": "[encoded data removed]",
            "text/plain": [
              "<Figure size 432x288 with 1 Axes>"
            ]
          },
          "metadata": {
            "tags": [],
            "needs_background": "light"
          }
        },
        {
          "output_type": "display_data",
          "data": {
            "image/png": "[encoded data removed]",
            "text/plain": [
              "<Figure size 432x288 with 1 Axes>"
            ]
          },
          "metadata": {
            "tags": [],
            "needs_background": "light"
          }
        },
        {
          "output_type": "stream",
          "text": [
            "Training Done!\n",
            "Total time taken to Train: 3202.6004230976105\n",
            "\n",
            "\n"
          ],
          "name": "stdout"
        }
      ]
    },
    {
      "cell_type": "markdown",
      "metadata": {
        "id": "aTBsL3-72PPd"
      },
      "source": [
        "### Test"
      ]
    },
    {
      "cell_type": "code",
      "metadata": {
        "colab": {
          "base_uri": "https://localhost:8080/"
        },
        "id": "a9G4j5L62OrS",
        "outputId": "f7ce25ff-fd9d-49d6-fecf-ec5bab02e07f"
      },
      "source": [
        "criterion = nn.CrossEntropyLoss()\n",
        "acc, loss = testing(mnist_mlp_iid_trained, mnist_data_test, 128, criterion, num_classes, classes_test, True)"
      ],
      "execution_count": 83,
      "outputs": [
        {
          "output_type": "stream",
          "text": [
            "Test Loss: 0.080323\n",
            "\n",
            "Test Accuracy of     0: 98% (75/76)\n",
            "Test Accuracy of     1: 97% (88/90)\n",
            "Test Accuracy of     2: 96% (88/91)\n",
            "Test Accuracy of     3: 98% (72/73)\n",
            "Test Accuracy of     4: 96% (86/89)\n",
            "Test Accuracy of     5: 97% (66/68)\n",
            "Test Accuracy of     6: 96% (60/62)\n",
            "Test Accuracy of     7: 97% (79/81)\n",
            "Test Accuracy of     8: 100% (77/77)\n",
            "Test Accuracy of     9: 97% (81/83)\n",
            "\n",
            "Final Test  Accuracy: 97.722 (772.0/790.0)\n"
          ],
          "name": "stdout"
        }
      ]
    },
    {
      "cell_type": "code",
      "metadata": {
        "id": "fWCdJFRCL_f2"
      },
      "source": [
        "hyperparams = {'rounds': rounds,\n",
        "               'C': C,\n",
        "               'K': K,\n",
        "               'E': E,\n",
        "               'batch_size': batch_size,\n",
        "               'lr': lr,\n",
        "               }\n",
        "\n",
        "log_dict['MNIST MLP on IID'] = {'train_loss': train_loss_multiple_runs, \n",
        "                                'test_loss': test_loss_multiple_runs, \n",
        "                                'test_accuracy': test_accuracy_multiple_runs,\n",
        "                                'hyperparams': hyperparams,\n",
        "                                }"
      ],
      "execution_count": 84,
      "outputs": []
    },
    {
      "cell_type": "markdown",
      "metadata": {
        "id": "J8jzEyO0iywz"
      },
      "source": [
        "## MNIST MLP on Non IID"
      ]
    },
    {
      "cell_type": "markdown",
      "metadata": {
        "id": "pJFepr3y2bF-"
      },
      "source": [
        "### Train"
      ]
    },
    {
      "cell_type": "code",
      "metadata": {
        "colab": {
          "base_uri": "https://localhost:8080/",
          "height": 1000
        },
        "id": "EBKO44Hgi1Uh",
        "outputId": "81d91c2e-d55f-4b15-be30-e781f9fd6172"
      },
      "source": [
        "train_loss_multiple_runs = [None] * NUM_REPEAT\n",
        "test_accuracy_multiple_runs = [None] * NUM_REPEAT\n",
        "test_loss_multiple_runs = [None] * NUM_REPEAT\n",
        "\n",
        "for exp_num in range(NUM_REPEAT):\n",
        "  print(\"Experiment Run Number: \", exp_num)\n",
        "  \n",
        "  # number of training rounds\n",
        "  rounds = 50\n",
        "  # client fraction\n",
        "  C = 0.9\n",
        "  # number of clients\n",
        "  K = 100\n",
        "  # number of training passes on local dataset for each roung\n",
        "  E = 5\n",
        "  # batch size\n",
        "  batch_size = 10\n",
        "  # learning Rate\n",
        "  lr=0.05\n",
        "  # dict containing different type of data partition\n",
        "  data_dict = non_iid_partition(mnist_data_train, 100, 200, 300, 2)\n",
        "  # load model\n",
        "  mnist_mlp = MNIST_2NN()\n",
        "\n",
        "  if torch.cuda.is_available():\n",
        "    mnist_mlp.cuda()\n",
        "\n",
        "  mnist_mlp_non_iid_trained, train_loss, test_accuracy, test_loss = training(mnist_mlp, rounds, batch_size, lr, mnist_data_train, mnist_data_test, data_dict, C, K, E, \"MNIST MLP on Non-IID Dataset\", \"green\")\n",
        "\n",
        "  train_loss_multiple_runs[exp_num] = train_loss\n",
        "  test_accuracy_multiple_runs[exp_num] = test_accuracy\n",
        "  test_loss_multiple_runs[exp_num] = test_loss"
      ],
      "execution_count": 85,
      "outputs": [
        {
          "output_type": "stream",
          "text": [
            "Experiment Run Number:  0\n",
            "Round: 1... \tAverage Loss: 0.107\n",
            "Round: 2... \tAverage Loss: 0.05\n",
            "Round: 3... \tAverage Loss: 0.037\n",
            "Round: 4... \tAverage Loss: 0.028\n",
            "Round: 5... \tAverage Loss: 0.026\n",
            "Round: 6... \tAverage Loss: 0.025\n",
            "Round: 7... \tAverage Loss: 0.023\n",
            "Round: 8... \tAverage Loss: 0.022\n",
            "Round: 9... \tAverage Loss: 0.021\n",
            "Round: 10... \tAverage Loss: 0.021\n",
            "Round: 11... \tAverage Loss: 0.018\n",
            "Round: 12... \tAverage Loss: 0.019\n",
            "Round: 13... \tAverage Loss: 0.018\n",
            "Round: 14... \tAverage Loss: 0.016\n",
            "Round: 15... \tAverage Loss: 0.016\n",
            "Round: 16... \tAverage Loss: 0.015\n",
            "Round: 17... \tAverage Loss: 0.016\n",
            "Round: 18... \tAverage Loss: 0.015\n",
            "Round: 19... \tAverage Loss: 0.013\n",
            "Round: 20... \tAverage Loss: 0.015\n",
            "Round: 21... \tAverage Loss: 0.013\n",
            "Round: 22... \tAverage Loss: 0.014\n",
            "Round: 23... \tAverage Loss: 0.013\n",
            "Round: 24... \tAverage Loss: 0.013\n",
            "Round: 25... \tAverage Loss: 0.013\n",
            "Round: 26... \tAverage Loss: 0.012\n",
            "Round: 27... \tAverage Loss: 0.012\n",
            "Round: 28... \tAverage Loss: 0.012\n",
            "Round: 29... \tAverage Loss: 0.011\n",
            "Round: 30... \tAverage Loss: 0.011\n",
            "Round: 31... \tAverage Loss: 0.011\n",
            "Round: 32... \tAverage Loss: 0.01\n",
            "Round: 33... \tAverage Loss: 0.011\n",
            "Round: 34... \tAverage Loss: 0.01\n",
            "Round: 35... \tAverage Loss: 0.009\n",
            "Round: 36... \tAverage Loss: 0.01\n",
            "Round: 37... \tAverage Loss: 0.01\n",
            "Round: 38... \tAverage Loss: 0.009\n",
            "Round: 39... \tAverage Loss: 0.01\n",
            "Round: 40... \tAverage Loss: 0.009\n",
            "Round: 41... \tAverage Loss: 0.009\n",
            "Round: 42... \tAverage Loss: 0.009\n",
            "Round: 43... \tAverage Loss: 0.008\n",
            "Round: 44... \tAverage Loss: 0.008\n",
            "Round: 45... \tAverage Loss: 0.009\n",
            "Round: 46... \tAverage Loss: 0.008\n",
            "Round: 47... \tAverage Loss: 0.008\n",
            "Round: 48... \tAverage Loss: 0.008\n",
            "Round: 49... \tAverage Loss: 0.008\n",
            "Round: 50... \tAverage Loss: 0.007\n"
          ],
          "name": "stdout"
        },
        {
          "output_type": "display_data",
          "data": {
            "image/png": "[encoded data removed]",
            "text/plain": [
              "<Figure size 432x288 with 1 Axes>"
            ]
          },
          "metadata": {
            "tags": [],
            "needs_background": "light"
          }
        },
        {
          "output_type": "display_data",
          "data": {
            "image/png": "[encoded data removed]",
            "text/plain": [
              "<Figure size 432x288 with 1 Axes>"
            ]
          },
          "metadata": {
            "tags": [],
            "needs_background": "light"
          }
        },
        {
          "output_type": "display_data",
          "data": {
            "image/png": "[encoded data removed]",
            "text/plain": [
              "<Figure size 432x288 with 1 Axes>"
            ]
          },
          "metadata": {
            "tags": [],
            "needs_background": "light"
          }
        },
        {
          "output_type": "stream",
          "text": [
            "Training Done!\n",
            "Total time taken to Train: 3228.1873817443848\n",
            "\n",
            "\n"
          ],
          "name": "stdout"
        }
      ]
    },
    {
      "cell_type": "markdown",
      "metadata": {
        "id": "jmuQYPbF2mes"
      },
      "source": [
        "### Test"
      ]
    },
    {
      "cell_type": "code",
      "metadata": {
        "colab": {
          "base_uri": "https://localhost:8080/"
        },
        "id": "0tKMlJyF2nGN",
        "outputId": "2cbd9b59-fffd-428d-973f-3bfa8efcc7f6"
      },
      "source": [
        "criterion = nn.CrossEntropyLoss()\n",
        "acc, loss = testing(mnist_mlp_non_iid_trained, mnist_data_test, 128, criterion, num_classes, classes_test, True)"
      ],
      "execution_count": 86,
      "outputs": [
        {
          "output_type": "stream",
          "text": [
            "Test Loss: 0.149145\n",
            "\n",
            "Test Accuracy of     0: 97% (74/76)\n",
            "Test Accuracy of     1: 97% (88/90)\n",
            "Test Accuracy of     2: 93% (85/91)\n",
            "Test Accuracy of     3: 95% (70/73)\n",
            "Test Accuracy of     4: 97% (87/89)\n",
            "Test Accuracy of     5: 94% (64/68)\n",
            "Test Accuracy of     6: 98% (61/62)\n",
            "Test Accuracy of     7: 96% (78/81)\n",
            "Test Accuracy of     8: 97% (75/77)\n",
            "Test Accuracy of     9: 91% (76/83)\n",
            "\n",
            "Final Test  Accuracy: 95.949 (758.0/790.0)\n"
          ],
          "name": "stdout"
        }
      ]
    },
    {
      "cell_type": "code",
      "metadata": {
        "id": "1W5krYcSMQiu"
      },
      "source": [
        "hyperparams = {'rounds': rounds,\n",
        "               'C': C,\n",
        "               'K': K,\n",
        "               'E': E,\n",
        "               'batch_size': batch_size,\n",
        "               'lr': lr,\n",
        "               }\n",
        "\n",
        "log_dict['MNIST MLP on Non IID'] = {'train_loss': train_loss_multiple_runs, \n",
        "                                'test_loss': test_loss_multiple_runs, \n",
        "                                'test_accuracy': test_accuracy_multiple_runs,\n",
        "                                'hyperparams': hyperparams,\n",
        "                                }"
      ],
      "execution_count": 87,
      "outputs": []
    },
    {
      "cell_type": "markdown",
      "metadata": {
        "id": "emS_SaRAP6TZ"
      },
      "source": [
        "## Pickle Log"
      ]
    },
    {
      "cell_type": "code",
      "metadata": {
        "id": "soAN38JoP0c1"
      },
      "source": [
        "import pickle\n",
        " \n",
        "with open(path + 'FedAvgNum_of_clients_100.9.pkl', 'wb') as file:\n",
        "  pickle.dump(log_dict, file)"
      ],
      "execution_count": 88,
      "outputs": []
    },
    {
      "cell_type": "code",
      "metadata": {
        "colab": {
          "base_uri": "https://localhost:8080/"
        },
        "id": "2UBy-JswSoCJ",
        "outputId": "cd1dd868-3258-4de2-c6da-de97f21d6cee"
      },
      "source": [
        "log_dict"
      ],
      "execution_count": 89,
      "outputs": [
        {
          "output_type": "execute_result",
          "data": {
            "text/plain": [
              "{'MNIST CNN on IID': {'hyperparams': {'C': 0.9,\n",
              "   'E': 5,\n",
              "   'K': 100,\n",
              "   'batch_size': 10,\n",
              "   'lr': 0.05,\n",
              "   'rounds': 50},\n",
              "  'test_accuracy': [[94.30379746835443,\n",
              "    96.9620253164557,\n",
              "    97.0886075949367,\n",
              "    97.9746835443038,\n",
              "    98.48101265822785,\n",
              "    98.73417721518987,\n",
              "    98.86075949367088,\n",
              "    99.24050632911393,\n",
              "    99.24050632911393,\n",
              "    99.24050632911393,\n",
              "    99.24050632911393,\n",
              "    99.24050632911393,\n",
              "    99.24050632911393,\n",
              "    99.24050632911393,\n",
              "    99.24050632911393,\n",
              "    99.24050632911393,\n",
              "    99.36708860759494,\n",
              "    99.36708860759494,\n",
              "    99.36708860759494,\n",
              "    99.36708860759494,\n",
              "    99.36708860759494,\n",
              "    99.36708860759494,\n",
              "    99.36708860759494,\n",
              "    99.36708860759494,\n",
              "    99.36708860759494,\n",
              "    99.36708860759494,\n",
              "    99.49367088607595,\n",
              "    99.36708860759494,\n",
              "    99.49367088607595,\n",
              "    99.49367088607595,\n",
              "    99.62025316455696,\n",
              "    99.62025316455696,\n",
              "    99.62025316455696,\n",
              "    99.62025316455696,\n",
              "    99.62025316455696,\n",
              "    99.62025316455696,\n",
              "    99.62025316455696,\n",
              "    99.62025316455696,\n",
              "    99.62025316455696,\n",
              "    99.62025316455696,\n",
              "    99.62025316455696,\n",
              "    99.62025316455696,\n",
              "    99.62025316455696,\n",
              "    99.62025316455696,\n",
              "    99.62025316455696,\n",
              "    99.62025316455696,\n",
              "    99.62025316455696,\n",
              "    99.62025316455696,\n",
              "    99.62025316455696,\n",
              "    99.62025316455696]],\n",
              "  'test_loss': [[0.34640593280792237,\n",
              "    0.0943915366878733,\n",
              "    0.0755306544023566,\n",
              "    0.0632381875158986,\n",
              "    0.055198491502040994,\n",
              "    0.049977783000981435,\n",
              "    0.045177578490437006,\n",
              "    0.0422962457509886,\n",
              "    0.039228517863503655,\n",
              "    0.03796787629653991,\n",
              "    0.036444481977849504,\n",
              "    0.03482333911322348,\n",
              "    0.033110492420931406,\n",
              "    0.03222001938710164,\n",
              "    0.031135294358358077,\n",
              "    0.030597390398987043,\n",
              "    0.029943145875602203,\n",
              "    0.029078517027490307,\n",
              "    0.028917102754319784,\n",
              "    0.028250233305997973,\n",
              "    0.027713380535534817,\n",
              "    0.02697715836210409,\n",
              "    0.02651834008145379,\n",
              "    0.026002963091080893,\n",
              "    0.025466428973512666,\n",
              "    0.02529364691491646,\n",
              "    0.025144255143792545,\n",
              "    0.02512945502542134,\n",
              "    0.024710733288078338,\n",
              "    0.024567644068342633,\n",
              "    0.024021033152300517,\n",
              "    0.023862228576482448,\n",
              "    0.023780135098309257,\n",
              "    0.02337589299069077,\n",
              "    0.02355692570244428,\n",
              "    0.023278034998604563,\n",
              "    0.0230734915070454,\n",
              "    0.023051422885373176,\n",
              "    0.023194397126788682,\n",
              "    0.022943936507691977,\n",
              "    0.022563910689944167,\n",
              "    0.022529880516663253,\n",
              "    0.022692366110045988,\n",
              "    0.022982554843595425,\n",
              "    0.02275512731577328,\n",
              "    0.02278058328186671,\n",
              "    0.022555360841858784,\n",
              "    0.02221330652501201,\n",
              "    0.0222225517048435,\n",
              "    0.021960396626530564]],\n",
              "  'train_loss': [[0.5072497491432764,\n",
              "    0.14293929554257417,\n",
              "    0.07952970672222895,\n",
              "    0.06208932941703421,\n",
              "    0.04929383069853577,\n",
              "    0.04244094416833348,\n",
              "    0.03832791259472521,\n",
              "    0.03371152308400465,\n",
              "    0.03250434277971033,\n",
              "    0.02910653503189725,\n",
              "    0.02811667661763053,\n",
              "    0.024299940822063406,\n",
              "    0.02511774583063054,\n",
              "    0.022761987167496313,\n",
              "    0.022260629127507255,\n",
              "    0.019599660664477676,\n",
              "    0.020619119749354684,\n",
              "    0.019312215747927335,\n",
              "    0.018474480561948257,\n",
              "    0.016928284260887376,\n",
              "    0.01740670623224816,\n",
              "    0.016298847811313917,\n",
              "    0.015007042033534148,\n",
              "    0.015939175803563906,\n",
              "    0.0159758886714992,\n",
              "    0.014503700014908421,\n",
              "    0.013807924646727983,\n",
              "    0.013240588262830845,\n",
              "    0.013464610570560523,\n",
              "    0.013218050449800744,\n",
              "    0.0129240727717397,\n",
              "    0.012695257974135815,\n",
              "    0.01216449054066828,\n",
              "    0.011780309343246734,\n",
              "    0.011351302404421282,\n",
              "    0.011382923456363684,\n",
              "    0.01070125279494134,\n",
              "    0.009987142213353062,\n",
              "    0.010265709782398528,\n",
              "    0.009836204879548428,\n",
              "    0.010339263549108087,\n",
              "    0.010068920712465,\n",
              "    0.008575366315196214,\n",
              "    0.009222567695230627,\n",
              "    0.009363683131117947,\n",
              "    0.008268823788516538,\n",
              "    0.008923726452009303,\n",
              "    0.008773043070146386,\n",
              "    0.007351102189432482,\n",
              "    0.008892073332739224]]},\n",
              " 'MNIST CNN on Non IID': {'hyperparams': {'C': 0.9,\n",
              "   'E': 5,\n",
              "   'K': 100,\n",
              "   'batch_size': 10,\n",
              "   'lr': 0.05,\n",
              "   'rounds': 50},\n",
              "  'test_accuracy': [[37.9746835443038,\n",
              "    70.88607594936708,\n",
              "    78.86075949367088,\n",
              "    92.0253164556962,\n",
              "    92.53164556962025,\n",
              "    94.68354430379746,\n",
              "    95.56962025316456,\n",
              "    95.82278481012658,\n",
              "    96.32911392405063,\n",
              "    96.20253164556962,\n",
              "    96.58227848101266,\n",
              "    96.9620253164557,\n",
              "    96.83544303797468,\n",
              "    97.34177215189874,\n",
              "    97.46835443037975,\n",
              "    97.72151898734177,\n",
              "    97.59493670886076,\n",
              "    97.72151898734177,\n",
              "    97.9746835443038,\n",
              "    98.35443037974683,\n",
              "    98.22784810126582,\n",
              "    98.10126582278481,\n",
              "    98.10126582278481,\n",
              "    97.9746835443038,\n",
              "    98.22784810126582,\n",
              "    98.35443037974683,\n",
              "    98.35443037974683,\n",
              "    98.48101265822785,\n",
              "    98.48101265822785,\n",
              "    98.60759493670886,\n",
              "    98.60759493670886,\n",
              "    98.60759493670886,\n",
              "    98.73417721518987,\n",
              "    98.73417721518987,\n",
              "    98.73417721518987,\n",
              "    98.73417721518987,\n",
              "    98.48101265822785,\n",
              "    98.86075949367088,\n",
              "    98.86075949367088,\n",
              "    98.9873417721519,\n",
              "    98.9873417721519,\n",
              "    98.86075949367088,\n",
              "    99.11392405063292,\n",
              "    99.24050632911393,\n",
              "    99.11392405063292,\n",
              "    99.11392405063292,\n",
              "    99.11392405063292,\n",
              "    99.11392405063292,\n",
              "    99.24050632911393,\n",
              "    99.11392405063292]],\n",
              "  'test_loss': [[2.244367003250122,\n",
              "    1.8001395257949828,\n",
              "    1.0172158044815063,\n",
              "    0.5725910276889801,\n",
              "    0.42793071455955506,\n",
              "    0.288613356089592,\n",
              "    0.25312040255069734,\n",
              "    0.20672132405042648,\n",
              "    0.17099026473760603,\n",
              "    0.1579983327150345,\n",
              "    0.13544513527154922,\n",
              "    0.12831078226566314,\n",
              "    0.11523246920704841,\n",
              "    0.10362994759678841,\n",
              "    0.09718607632219792,\n",
              "    0.09068382256925106,\n",
              "    0.08877039102315902,\n",
              "    0.08333157236874103,\n",
              "    0.07750570393651723,\n",
              "    0.07565326055586338,\n",
              "    0.07263641132116318,\n",
              "    0.0688154181793332,\n",
              "    0.06449958857893943,\n",
              "    0.0620704385638237,\n",
              "    0.05908084771335125,\n",
              "    0.05739101593643427,\n",
              "    0.05538557429611683,\n",
              "    0.0533309171885252,\n",
              "    0.05440448132455349,\n",
              "    0.051531522259116176,\n",
              "    0.04931753765642643,\n",
              "    0.04797312424555421,\n",
              "    0.04766799410581589,\n",
              "    0.04704561128988862,\n",
              "    0.045787418577820066,\n",
              "    0.0444753882676363,\n",
              "    0.043869808717817066,\n",
              "    0.043286991540342566,\n",
              "    0.04110822336673737,\n",
              "    0.040374387760087845,\n",
              "    0.03947926075905561,\n",
              "    0.03937832547556609,\n",
              "    0.0385722107635811,\n",
              "    0.037664659161679444,\n",
              "    0.03794402767270803,\n",
              "    0.03734024586044252,\n",
              "    0.03679006240479648,\n",
              "    0.03653619189634919,\n",
              "    0.03524864752329886,\n",
              "    0.03544080455377698]],\n",
              "  'train_loss': [[0.11036981254917008,\n",
              "    0.0774096117754345,\n",
              "    0.039754584556134634,\n",
              "    0.027292164550308223,\n",
              "    0.0250008460853577,\n",
              "    0.019225698441021892,\n",
              "    0.02081182619681282,\n",
              "    0.018282378874455312,\n",
              "    0.01597845378480775,\n",
              "    0.01711467634522353,\n",
              "    0.01472978674618272,\n",
              "    0.01533032121618568,\n",
              "    0.013924250165241516,\n",
              "    0.012717479508326555,\n",
              "    0.012917795441688274,\n",
              "    0.012111891604134487,\n",
              "    0.012343822737040688,\n",
              "    0.010919786715646203,\n",
              "    0.01055174627265946,\n",
              "    0.011255164226543385,\n",
              "    0.010849906820225788,\n",
              "    0.010360234874875966,\n",
              "    0.009100132979310456,\n",
              "    0.009187891520189924,\n",
              "    0.0083794667818603,\n",
              "    0.009194484999108181,\n",
              "    0.009367834232180553,\n",
              "    0.008555569966002794,\n",
              "    0.009637837116108865,\n",
              "    0.008316591864097575,\n",
              "    0.007869922297899649,\n",
              "    0.008283085349073132,\n",
              "    0.007573980303245403,\n",
              "    0.008475889581020735,\n",
              "    0.0076783137711202935,\n",
              "    0.00750513012884891,\n",
              "    0.00772005734629588,\n",
              "    0.0077085827561875625,\n",
              "    0.006676628466579691,\n",
              "    0.007457632903112007,\n",
              "    0.006575818753404063,\n",
              "    0.006804822120068637,\n",
              "    0.005729627756443028,\n",
              "    0.006852756968185222,\n",
              "    0.007542158647725441,\n",
              "    0.00688481674189152,\n",
              "    0.00640266097914398,\n",
              "    0.006254290051688804,\n",
              "    0.006168372683398972,\n",
              "    0.005780545507809767]]},\n",
              " 'MNIST MLP on IID': {'hyperparams': {'C': 0.9,\n",
              "   'E': 5,\n",
              "   'K': 100,\n",
              "   'batch_size': 10,\n",
              "   'lr': 0.05,\n",
              "   'rounds': 50},\n",
              "  'test_accuracy': [[92.0253164556962,\n",
              "    94.0506329113924,\n",
              "    94.68354430379746,\n",
              "    95.18987341772151,\n",
              "    95.56962025316456,\n",
              "    95.56962025316456,\n",
              "    95.82278481012658,\n",
              "    96.07594936708861,\n",
              "    96.32911392405063,\n",
              "    96.07594936708861,\n",
              "    96.45569620253164,\n",
              "    96.45569620253164,\n",
              "    96.70886075949367,\n",
              "    96.70886075949367,\n",
              "    96.58227848101266,\n",
              "    96.58227848101266,\n",
              "    96.45569620253164,\n",
              "    96.70886075949367,\n",
              "    97.0886075949367,\n",
              "    96.9620253164557,\n",
              "    97.0886075949367,\n",
              "    96.70886075949367,\n",
              "    97.0886075949367,\n",
              "    97.0886075949367,\n",
              "    96.9620253164557,\n",
              "    97.21518987341773,\n",
              "    97.34177215189874,\n",
              "    97.46835443037975,\n",
              "    97.34177215189874,\n",
              "    97.46835443037975,\n",
              "    97.46835443037975,\n",
              "    97.46835443037975,\n",
              "    97.34177215189874,\n",
              "    97.59493670886076,\n",
              "    97.46835443037975,\n",
              "    97.72151898734177,\n",
              "    97.59493670886076,\n",
              "    97.72151898734177,\n",
              "    97.72151898734177,\n",
              "    97.59493670886076,\n",
              "    97.84810126582279,\n",
              "    97.72151898734177,\n",
              "    97.84810126582279,\n",
              "    97.84810126582279,\n",
              "    97.72151898734177,\n",
              "    97.9746835443038,\n",
              "    97.84810126582279,\n",
              "    97.84810126582279,\n",
              "    97.59493670886076,\n",
              "    97.72151898734177]],\n",
              "  'test_loss': [[0.3040051968574524,\n",
              "    0.255408912679553,\n",
              "    0.21704312039613724,\n",
              "    0.19029219714254142,\n",
              "    0.17261579440161587,\n",
              "    0.1580887731604278,\n",
              "    0.14743778077960015,\n",
              "    0.13965736676044763,\n",
              "    0.1323322229117155,\n",
              "    0.12666625811494886,\n",
              "    0.12215236048623919,\n",
              "    0.11814017271511257,\n",
              "    0.11484744596779346,\n",
              "    0.11150226562898606,\n",
              "    0.10870373035632074,\n",
              "    0.10676036927103996,\n",
              "    0.1045354807626456,\n",
              "    0.10249196392334997,\n",
              "    0.10079282964449376,\n",
              "    0.09901661681458354,\n",
              "    0.09738563108816743,\n",
              "    0.09626094158776105,\n",
              "    0.09492308618221432,\n",
              "    0.09412197849163785,\n",
              "    0.09356919575082139,\n",
              "    0.09209306027945131,\n",
              "    0.09143843552814797,\n",
              "    0.09039734288193285,\n",
              "    0.08926416188767179,\n",
              "    0.08848319638855755,\n",
              "    0.08769748818725348,\n",
              "    0.08748639066298493,\n",
              "    0.08669970157435164,\n",
              "    0.08626911545991897,\n",
              "    0.08613837095187046,\n",
              "    0.08476257871906273,\n",
              "    0.08413324009277857,\n",
              "    0.0838806409320794,\n",
              "    0.08343178539369256,\n",
              "    0.08333435970488935,\n",
              "    0.08271161716710776,\n",
              "    0.08241467400016263,\n",
              "    0.0822713923941832,\n",
              "    0.08138149978034198,\n",
              "    0.08121505626675207,\n",
              "    0.08112444989529904,\n",
              "    0.08099884959042537,\n",
              "    0.08054638731316663,\n",
              "    0.08021226244028658,\n",
              "    0.08032327123405412]],\n",
              "  'train_loss': [[0.558305718587872,\n",
              "    0.1636374741543561,\n",
              "    0.12416611608903406,\n",
              "    0.10195678083044754,\n",
              "    0.08724133581068544,\n",
              "    0.07721061364775944,\n",
              "    0.07010435240882845,\n",
              "    0.06313000768383102,\n",
              "    0.05911494702227701,\n",
              "    0.05567538042230316,\n",
              "    0.05227996984447821,\n",
              "    0.04905486534013553,\n",
              "    0.04540900790443304,\n",
              "    0.04450126204976649,\n",
              "    0.04190436113599207,\n",
              "    0.04002648592397967,\n",
              "    0.03835787245076937,\n",
              "    0.03799218685148473,\n",
              "    0.03587509863932089,\n",
              "    0.035265368451791165,\n",
              "    0.03352869150271176,\n",
              "    0.031284257265547885,\n",
              "    0.031470646622035164,\n",
              "    0.029838388735712457,\n",
              "    0.02927921824895993,\n",
              "    0.02943564245550487,\n",
              "    0.028243047322288762,\n",
              "    0.027196356895971045,\n",
              "    0.02568890749503884,\n",
              "    0.025360380784055107,\n",
              "    0.024942200913216712,\n",
              "    0.024133876307994854,\n",
              "    0.02448282280393765,\n",
              "    0.02322493597348913,\n",
              "    0.022285784672383124,\n",
              "    0.022458370701136213,\n",
              "    0.02154451666194693,\n",
              "    0.020570508053637786,\n",
              "    0.020089517105102855,\n",
              "    0.01972781777140691,\n",
              "    0.019523348838718042,\n",
              "    0.018996940970845724,\n",
              "    0.019041668914770247,\n",
              "    0.018758803376413443,\n",
              "    0.017859337023869982,\n",
              "    0.016955115982750596,\n",
              "    0.01720879692545899,\n",
              "    0.016745226203281293,\n",
              "    0.017085678728295795,\n",
              "    0.015797498303219575]]},\n",
              " 'MNIST MLP on Non IID': {'hyperparams': {'C': 0.9,\n",
              "   'E': 5,\n",
              "   'K': 100,\n",
              "   'batch_size': 10,\n",
              "   'lr': 0.05,\n",
              "   'rounds': 50},\n",
              "  'test_accuracy': [[59.49367088607595,\n",
              "    75.69620253164557,\n",
              "    84.0506329113924,\n",
              "    85.56962025316456,\n",
              "    86.07594936708861,\n",
              "    88.22784810126582,\n",
              "    88.22784810126582,\n",
              "    89.24050632911393,\n",
              "    90.12658227848101,\n",
              "    90.75949367088607,\n",
              "    91.26582278481013,\n",
              "    91.51898734177215,\n",
              "    91.39240506329114,\n",
              "    92.15189873417721,\n",
              "    92.40506329113924,\n",
              "    92.78481012658227,\n",
              "    93.67088607594937,\n",
              "    93.67088607594937,\n",
              "    93.16455696202532,\n",
              "    93.92405063291139,\n",
              "    93.67088607594937,\n",
              "    93.29113924050633,\n",
              "    93.79746835443038,\n",
              "    94.0506329113924,\n",
              "    93.92405063291139,\n",
              "    94.43037974683544,\n",
              "    94.30379746835443,\n",
              "    94.43037974683544,\n",
              "    94.81012658227849,\n",
              "    94.68354430379746,\n",
              "    94.55696202531645,\n",
              "    95.0632911392405,\n",
              "    95.18987341772151,\n",
              "    94.9367088607595,\n",
              "    95.31645569620254,\n",
              "    95.44303797468355,\n",
              "    95.0632911392405,\n",
              "    95.18987341772151,\n",
              "    95.18987341772151,\n",
              "    95.44303797468355,\n",
              "    95.31645569620254,\n",
              "    95.69620253164557,\n",
              "    95.31645569620254,\n",
              "    95.69620253164557,\n",
              "    95.9493670886076,\n",
              "    95.56962025316456,\n",
              "    94.9367088607595,\n",
              "    95.56962025316456,\n",
              "    95.9493670886076,\n",
              "    95.9493670886076]],\n",
              "  'test_loss': [[3.382112794494629,\n",
              "    1.5815904825210572,\n",
              "    0.8818590686321258,\n",
              "    0.6417792103767395,\n",
              "    0.5290677416801453,\n",
              "    0.46120098006725313,\n",
              "    0.41723198325634003,\n",
              "    0.38542734854221344,\n",
              "    0.35802059137821196,\n",
              "    0.3370497041463852,\n",
              "    0.3191861914396286,\n",
              "    0.3062717651128769,\n",
              "    0.2952261088371277,\n",
              "    0.28630465393066407,\n",
              "    0.27218566584587095,\n",
              "    0.2676626419067383,\n",
              "    0.25701758623123167,\n",
              "    0.24725002386569978,\n",
              "    0.2418050060749054,\n",
              "    0.2336996298789978,\n",
              "    0.2311220770597458,\n",
              "    0.2238519868850708,\n",
              "    0.2168356744289398,\n",
              "    0.2141087476849556,\n",
              "    0.2100244313955307,\n",
              "    0.20468251949548721,\n",
              "    0.19850182485580445,\n",
              "    0.19462091064453124,\n",
              "    0.19124753613471984,\n",
              "    0.1884861070036888,\n",
              "    0.1853374195933342,\n",
              "    0.18053614778518676,\n",
              "    0.17743762716054917,\n",
              "    0.17694693422317506,\n",
              "    0.1744321083664894,\n",
              "    0.17153232905864715,\n",
              "    0.16884249861240386,\n",
              "    0.16715498291254044,\n",
              "    0.1652215914130211,\n",
              "    0.16186393373012542,\n",
              "    0.16182165390253067,\n",
              "    0.1588990390777588,\n",
              "    0.1565436585366726,\n",
              "    0.15788291226625442,\n",
              "    0.15425618962049484,\n",
              "    0.15135662881135942,\n",
              "    0.1512766496181488,\n",
              "    0.14728413084745406,\n",
              "    0.1471025026500225,\n",
              "    0.14914517009854317]],\n",
              "  'train_loss': [[0.10684920188212903,\n",
              "    0.05003874774853621,\n",
              "    0.03664140699877612,\n",
              "    0.028370556966933372,\n",
              "    0.02618787275904413,\n",
              "    0.024821285470017686,\n",
              "    0.02264934957206367,\n",
              "    0.0215231037724564,\n",
              "    0.020689536434121247,\n",
              "    0.021154742436905932,\n",
              "    0.01812258732844382,\n",
              "    0.018807061142782248,\n",
              "    0.017793725053513374,\n",
              "    0.016404979632976838,\n",
              "    0.01618036043998169,\n",
              "    0.014953770473526739,\n",
              "    0.01608127694941379,\n",
              "    0.014780561309362339,\n",
              "    0.013069261112330356,\n",
              "    0.01490413894449139,\n",
              "    0.013450784269013952,\n",
              "    0.014290717181484518,\n",
              "    0.0130168294442983,\n",
              "    0.012788881549499958,\n",
              "    0.012546825722769227,\n",
              "    0.011937499740498398,\n",
              "    0.011551198612400095,\n",
              "    0.011804403937229004,\n",
              "    0.01136526009280761,\n",
              "    0.011029164263042922,\n",
              "    0.010665821474013744,\n",
              "    0.009818081237162808,\n",
              "    0.011261637600998428,\n",
              "    0.010311106102351562,\n",
              "    0.009340549819034545,\n",
              "    0.01005480665136391,\n",
              "    0.009736232663211684,\n",
              "    0.009131711734206923,\n",
              "    0.0096281420759606,\n",
              "    0.008644994198134744,\n",
              "    0.009031119231263866,\n",
              "    0.008521255162598872,\n",
              "    0.008141878476272912,\n",
              "    0.008024666417879345,\n",
              "    0.00921538835789151,\n",
              "    0.007880438468724825,\n",
              "    0.007687160725050128,\n",
              "    0.007923195282573655,\n",
              "    0.008409116502535008,\n",
              "    0.007444165308872994]]}}"
            ]
          },
          "metadata": {
            "tags": []
          },
          "execution_count": 89
        }
      ]
    },
    {
      "cell_type": "code",
      "metadata": {
        "id": "PBTROwiHneQv"
      },
      "source": [
        "import pickle\n",
        " \n",
        "with open(path + 'FedAvgNum_of_clients_100.9.pkl', 'rb') as file:\n",
        "  log_dict = pickle.load(file)"
      ],
      "execution_count": 90,
      "outputs": []
    },
    {
      "cell_type": "code",
      "metadata": {
        "id": "se_04JMaVJPg",
        "colab": {
          "base_uri": "https://localhost:8080/"
        },
        "outputId": "4fd5b066-e3ac-4294-aedb-20eaa7bc986b"
      },
      "source": [
        "print([test_acc[-1] for test_acc in log_dict['MNIST CNN on IID']['test_accuracy']])"
      ],
      "execution_count": 91,
      "outputs": [
        {
          "output_type": "stream",
          "text": [
            "[99.62025316455696]\n"
          ],
          "name": "stdout"
        }
      ]
    },
    {
      "cell_type": "code",
      "metadata": {
        "id": "5sv0rv-G4Sqa",
        "colab": {
          "base_uri": "https://localhost:8080/"
        },
        "outputId": "5d660690-dda1-4248-ee22-4a69ab93ff6c"
      },
      "source": [
        "print([test_acc[-1] for test_acc in log_dict['MNIST CNN on Non IID']['test_accuracy']])"
      ],
      "execution_count": 92,
      "outputs": [
        {
          "output_type": "stream",
          "text": [
            "[99.11392405063292]\n"
          ],
          "name": "stdout"
        }
      ]
    },
    {
      "cell_type": "code",
      "metadata": {
        "id": "b2a2_Az-4nal",
        "colab": {
          "base_uri": "https://localhost:8080/"
        },
        "outputId": "1d21dc13-e9af-4125-b85c-fcafe8d3fa49"
      },
      "source": [
        "print([test_acc[-1] for test_acc in log_dict['MNIST MLP on IID']['test_accuracy']])"
      ],
      "execution_count": 93,
      "outputs": [
        {
          "output_type": "stream",
          "text": [
            "[97.72151898734177]\n"
          ],
          "name": "stdout"
        }
      ]
    },
    {
      "cell_type": "code",
      "metadata": {
        "id": "YoRqZyvD4p2K",
        "colab": {
          "base_uri": "https://localhost:8080/"
        },
        "outputId": "4febf9e6-0970-428f-f6a0-c06d3b3bf19f"
      },
      "source": [
        "print([test_acc[-1] for test_acc in log_dict['MNIST MLP on Non IID']['test_accuracy']])"
      ],
      "execution_count": 94,
      "outputs": [
        {
          "output_type": "stream",
          "text": [
            "[95.9493670886076]\n"
          ],
          "name": "stdout"
        }
      ]
    },
    {
      "cell_type": "code",
      "metadata": {
        "id": "B87eGKJnAHIh",
        "colab": {
          "base_uri": "https://localhost:8080/"
        },
        "outputId": "32e8525e-dd2c-4a32-c3fa-e945a915334f"
      },
      "source": [
        "output.show()"
      ],
      "execution_count": 95,
      "outputs": [
        {
          "output_type": "stream",
          "text": [
            "Drive already mounted at /content/drive; to attempt to forcibly remount, call drive.mount(\"/content/drive\", force_remount=True).\n"
          ],
          "name": "stdout"
        }
      ]
    },
    {
      "cell_type": "code",
      "metadata": {
        "id": "4wJTXta4neQy"
      },
      "source": [
        ""
      ],
      "execution_count": 95,
      "outputs": []
    }
  ]
}