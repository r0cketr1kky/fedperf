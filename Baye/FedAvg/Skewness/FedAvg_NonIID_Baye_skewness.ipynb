{
  "nbformat": 4,
  "nbformat_minor": 0,
  "metadata": {
    "colab": {
      "name": "FedAvg_NonIID_Baye_skewness.ipynb",
      "provenance": [],
      "collapsed_sections": [],
      "machine_shape": "hm"
    },
    "kernelspec": {
      "name": "python3",
      "display_name": "Python 3"
    },
    "accelerator": "GPU",
    "widgets": {
      "application/vnd.jupyter.widget-state+json": {
        "9f994a1e27de4a698d032b8e39bc3781": {
          "model_module": "@jupyter-widgets/controls",
          "model_name": "HBoxModel",
          "state": {
            "_view_name": "HBoxView",
            "_dom_classes": [],
            "_model_name": "HBoxModel",
            "_view_module": "@jupyter-widgets/controls",
            "_model_module_version": "1.5.0",
            "_view_count": null,
            "_view_module_version": "1.5.0",
            "box_style": "",
            "layout": "IPY_MODEL_8efb2de740564e5996e29348341d5b88",
            "_model_module": "@jupyter-widgets/controls",
            "children": [
              "IPY_MODEL_2da3a0ce1df94069b148fe2685f31e8e",
              "IPY_MODEL_97e1b4d3af0345d48633231eb35d2d5f"
            ]
          }
        },
        "8efb2de740564e5996e29348341d5b88": {
          "model_module": "@jupyter-widgets/base",
          "model_name": "LayoutModel",
          "state": {
            "_view_name": "LayoutView",
            "grid_template_rows": null,
            "right": null,
            "justify_content": null,
            "_view_module": "@jupyter-widgets/base",
            "overflow": null,
            "_model_module_version": "1.2.0",
            "_view_count": null,
            "flex_flow": null,
            "width": null,
            "min_width": null,
            "border": null,
            "align_items": null,
            "bottom": null,
            "_model_module": "@jupyter-widgets/base",
            "top": null,
            "grid_column": null,
            "overflow_y": null,
            "overflow_x": null,
            "grid_auto_flow": null,
            "grid_area": null,
            "grid_template_columns": null,
            "flex": null,
            "_model_name": "LayoutModel",
            "justify_items": null,
            "grid_row": null,
            "max_height": null,
            "align_content": null,
            "visibility": null,
            "align_self": null,
            "height": null,
            "min_height": null,
            "padding": null,
            "grid_auto_rows": null,
            "grid_gap": null,
            "max_width": null,
            "order": null,
            "_view_module_version": "1.2.0",
            "grid_template_areas": null,
            "object_position": null,
            "object_fit": null,
            "grid_auto_columns": null,
            "margin": null,
            "display": null,
            "left": null
          }
        },
        "2da3a0ce1df94069b148fe2685f31e8e": {
          "model_module": "@jupyter-widgets/controls",
          "model_name": "FloatProgressModel",
          "state": {
            "_view_name": "ProgressView",
            "style": "IPY_MODEL_8a210794942e4431b10dcd4ae27fb0a0",
            "_dom_classes": [],
            "description": "",
            "_model_name": "FloatProgressModel",
            "bar_style": "success",
            "max": 9912422,
            "_view_module": "@jupyter-widgets/controls",
            "_model_module_version": "1.5.0",
            "value": 9912422,
            "_view_count": null,
            "_view_module_version": "1.5.0",
            "orientation": "horizontal",
            "min": 0,
            "description_tooltip": null,
            "_model_module": "@jupyter-widgets/controls",
            "layout": "IPY_MODEL_68799fadc10041dcaf724c54adac54b9"
          }
        },
        "97e1b4d3af0345d48633231eb35d2d5f": {
          "model_module": "@jupyter-widgets/controls",
          "model_name": "HTMLModel",
          "state": {
            "_view_name": "HTMLView",
            "style": "IPY_MODEL_a51fb176a1c741bb81ad25193f21b218",
            "_dom_classes": [],
            "description": "",
            "_model_name": "HTMLModel",
            "placeholder": "​",
            "_view_module": "@jupyter-widgets/controls",
            "_model_module_version": "1.5.0",
            "value": " 9913344/? [03:48&lt;00:00, 43453.61it/s]",
            "_view_count": null,
            "_view_module_version": "1.5.0",
            "description_tooltip": null,
            "_model_module": "@jupyter-widgets/controls",
            "layout": "IPY_MODEL_0049604c138847e784d90e57c26496c2"
          }
        },
        "8a210794942e4431b10dcd4ae27fb0a0": {
          "model_module": "@jupyter-widgets/controls",
          "model_name": "ProgressStyleModel",
          "state": {
            "_view_name": "StyleView",
            "_model_name": "ProgressStyleModel",
            "description_width": "initial",
            "_view_module": "@jupyter-widgets/base",
            "_model_module_version": "1.5.0",
            "_view_count": null,
            "_view_module_version": "1.2.0",
            "bar_color": null,
            "_model_module": "@jupyter-widgets/controls"
          }
        },
        "68799fadc10041dcaf724c54adac54b9": {
          "model_module": "@jupyter-widgets/base",
          "model_name": "LayoutModel",
          "state": {
            "_view_name": "LayoutView",
            "grid_template_rows": null,
            "right": null,
            "justify_content": null,
            "_view_module": "@jupyter-widgets/base",
            "overflow": null,
            "_model_module_version": "1.2.0",
            "_view_count": null,
            "flex_flow": null,
            "width": null,
            "min_width": null,
            "border": null,
            "align_items": null,
            "bottom": null,
            "_model_module": "@jupyter-widgets/base",
            "top": null,
            "grid_column": null,
            "overflow_y": null,
            "overflow_x": null,
            "grid_auto_flow": null,
            "grid_area": null,
            "grid_template_columns": null,
            "flex": null,
            "_model_name": "LayoutModel",
            "justify_items": null,
            "grid_row": null,
            "max_height": null,
            "align_content": null,
            "visibility": null,
            "align_self": null,
            "height": null,
            "min_height": null,
            "padding": null,
            "grid_auto_rows": null,
            "grid_gap": null,
            "max_width": null,
            "order": null,
            "_view_module_version": "1.2.0",
            "grid_template_areas": null,
            "object_position": null,
            "object_fit": null,
            "grid_auto_columns": null,
            "margin": null,
            "display": null,
            "left": null
          }
        },
        "a51fb176a1c741bb81ad25193f21b218": {
          "model_module": "@jupyter-widgets/controls",
          "model_name": "DescriptionStyleModel",
          "state": {
            "_view_name": "StyleView",
            "_model_name": "DescriptionStyleModel",
            "description_width": "",
            "_view_module": "@jupyter-widgets/base",
            "_model_module_version": "1.5.0",
            "_view_count": null,
            "_view_module_version": "1.2.0",
            "_model_module": "@jupyter-widgets/controls"
          }
        },
        "0049604c138847e784d90e57c26496c2": {
          "model_module": "@jupyter-widgets/base",
          "model_name": "LayoutModel",
          "state": {
            "_view_name": "LayoutView",
            "grid_template_rows": null,
            "right": null,
            "justify_content": null,
            "_view_module": "@jupyter-widgets/base",
            "overflow": null,
            "_model_module_version": "1.2.0",
            "_view_count": null,
            "flex_flow": null,
            "width": null,
            "min_width": null,
            "border": null,
            "align_items": null,
            "bottom": null,
            "_model_module": "@jupyter-widgets/base",
            "top": null,
            "grid_column": null,
            "overflow_y": null,
            "overflow_x": null,
            "grid_auto_flow": null,
            "grid_area": null,
            "grid_template_columns": null,
            "flex": null,
            "_model_name": "LayoutModel",
            "justify_items": null,
            "grid_row": null,
            "max_height": null,
            "align_content": null,
            "visibility": null,
            "align_self": null,
            "height": null,
            "min_height": null,
            "padding": null,
            "grid_auto_rows": null,
            "grid_gap": null,
            "max_width": null,
            "order": null,
            "_view_module_version": "1.2.0",
            "grid_template_areas": null,
            "object_position": null,
            "object_fit": null,
            "grid_auto_columns": null,
            "margin": null,
            "display": null,
            "left": null
          }
        },
        "64f25e9022244907af0898b8f7d7d45c": {
          "model_module": "@jupyter-widgets/controls",
          "model_name": "HBoxModel",
          "state": {
            "_view_name": "HBoxView",
            "_dom_classes": [],
            "_model_name": "HBoxModel",
            "_view_module": "@jupyter-widgets/controls",
            "_model_module_version": "1.5.0",
            "_view_count": null,
            "_view_module_version": "1.5.0",
            "box_style": "",
            "layout": "IPY_MODEL_7291b3fb918f4062815762e6cb77053c",
            "_model_module": "@jupyter-widgets/controls",
            "children": [
              "IPY_MODEL_af3c2f8345674d30898ef3db7bfabe14",
              "IPY_MODEL_bd79577486f24a13a4a774e280d77813"
            ]
          }
        },
        "7291b3fb918f4062815762e6cb77053c": {
          "model_module": "@jupyter-widgets/base",
          "model_name": "LayoutModel",
          "state": {
            "_view_name": "LayoutView",
            "grid_template_rows": null,
            "right": null,
            "justify_content": null,
            "_view_module": "@jupyter-widgets/base",
            "overflow": null,
            "_model_module_version": "1.2.0",
            "_view_count": null,
            "flex_flow": null,
            "width": null,
            "min_width": null,
            "border": null,
            "align_items": null,
            "bottom": null,
            "_model_module": "@jupyter-widgets/base",
            "top": null,
            "grid_column": null,
            "overflow_y": null,
            "overflow_x": null,
            "grid_auto_flow": null,
            "grid_area": null,
            "grid_template_columns": null,
            "flex": null,
            "_model_name": "LayoutModel",
            "justify_items": null,
            "grid_row": null,
            "max_height": null,
            "align_content": null,
            "visibility": null,
            "align_self": null,
            "height": null,
            "min_height": null,
            "padding": null,
            "grid_auto_rows": null,
            "grid_gap": null,
            "max_width": null,
            "order": null,
            "_view_module_version": "1.2.0",
            "grid_template_areas": null,
            "object_position": null,
            "object_fit": null,
            "grid_auto_columns": null,
            "margin": null,
            "display": null,
            "left": null
          }
        },
        "af3c2f8345674d30898ef3db7bfabe14": {
          "model_module": "@jupyter-widgets/controls",
          "model_name": "FloatProgressModel",
          "state": {
            "_view_name": "ProgressView",
            "style": "IPY_MODEL_b7a9522b9a81448aaa244fbe2cc5ece3",
            "_dom_classes": [],
            "description": "",
            "_model_name": "FloatProgressModel",
            "bar_style": "success",
            "max": 28881,
            "_view_module": "@jupyter-widgets/controls",
            "_model_module_version": "1.5.0",
            "value": 28881,
            "_view_count": null,
            "_view_module_version": "1.5.0",
            "orientation": "horizontal",
            "min": 0,
            "description_tooltip": null,
            "_model_module": "@jupyter-widgets/controls",
            "layout": "IPY_MODEL_314ef6bd47f94c3686bfac12b787b745"
          }
        },
        "bd79577486f24a13a4a774e280d77813": {
          "model_module": "@jupyter-widgets/controls",
          "model_name": "HTMLModel",
          "state": {
            "_view_name": "HTMLView",
            "style": "IPY_MODEL_424ce5ed6eb04c40bb9205515e1279e7",
            "_dom_classes": [],
            "description": "",
            "_model_name": "HTMLModel",
            "placeholder": "​",
            "_view_module": "@jupyter-widgets/controls",
            "_model_module_version": "1.5.0",
            "value": " 29696/? [03:45&lt;00:00, 131.44it/s]",
            "_view_count": null,
            "_view_module_version": "1.5.0",
            "description_tooltip": null,
            "_model_module": "@jupyter-widgets/controls",
            "layout": "IPY_MODEL_e42d71bcfe0b49bba6d7dd5ff78910a2"
          }
        },
        "b7a9522b9a81448aaa244fbe2cc5ece3": {
          "model_module": "@jupyter-widgets/controls",
          "model_name": "ProgressStyleModel",
          "state": {
            "_view_name": "StyleView",
            "_model_name": "ProgressStyleModel",
            "description_width": "initial",
            "_view_module": "@jupyter-widgets/base",
            "_model_module_version": "1.5.0",
            "_view_count": null,
            "_view_module_version": "1.2.0",
            "bar_color": null,
            "_model_module": "@jupyter-widgets/controls"
          }
        },
        "314ef6bd47f94c3686bfac12b787b745": {
          "model_module": "@jupyter-widgets/base",
          "model_name": "LayoutModel",
          "state": {
            "_view_name": "LayoutView",
            "grid_template_rows": null,
            "right": null,
            "justify_content": null,
            "_view_module": "@jupyter-widgets/base",
            "overflow": null,
            "_model_module_version": "1.2.0",
            "_view_count": null,
            "flex_flow": null,
            "width": null,
            "min_width": null,
            "border": null,
            "align_items": null,
            "bottom": null,
            "_model_module": "@jupyter-widgets/base",
            "top": null,
            "grid_column": null,
            "overflow_y": null,
            "overflow_x": null,
            "grid_auto_flow": null,
            "grid_area": null,
            "grid_template_columns": null,
            "flex": null,
            "_model_name": "LayoutModel",
            "justify_items": null,
            "grid_row": null,
            "max_height": null,
            "align_content": null,
            "visibility": null,
            "align_self": null,
            "height": null,
            "min_height": null,
            "padding": null,
            "grid_auto_rows": null,
            "grid_gap": null,
            "max_width": null,
            "order": null,
            "_view_module_version": "1.2.0",
            "grid_template_areas": null,
            "object_position": null,
            "object_fit": null,
            "grid_auto_columns": null,
            "margin": null,
            "display": null,
            "left": null
          }
        },
        "424ce5ed6eb04c40bb9205515e1279e7": {
          "model_module": "@jupyter-widgets/controls",
          "model_name": "DescriptionStyleModel",
          "state": {
            "_view_name": "StyleView",
            "_model_name": "DescriptionStyleModel",
            "description_width": "",
            "_view_module": "@jupyter-widgets/base",
            "_model_module_version": "1.5.0",
            "_view_count": null,
            "_view_module_version": "1.2.0",
            "_model_module": "@jupyter-widgets/controls"
          }
        },
        "e42d71bcfe0b49bba6d7dd5ff78910a2": {
          "model_module": "@jupyter-widgets/base",
          "model_name": "LayoutModel",
          "state": {
            "_view_name": "LayoutView",
            "grid_template_rows": null,
            "right": null,
            "justify_content": null,
            "_view_module": "@jupyter-widgets/base",
            "overflow": null,
            "_model_module_version": "1.2.0",
            "_view_count": null,
            "flex_flow": null,
            "width": null,
            "min_width": null,
            "border": null,
            "align_items": null,
            "bottom": null,
            "_model_module": "@jupyter-widgets/base",
            "top": null,
            "grid_column": null,
            "overflow_y": null,
            "overflow_x": null,
            "grid_auto_flow": null,
            "grid_area": null,
            "grid_template_columns": null,
            "flex": null,
            "_model_name": "LayoutModel",
            "justify_items": null,
            "grid_row": null,
            "max_height": null,
            "align_content": null,
            "visibility": null,
            "align_self": null,
            "height": null,
            "min_height": null,
            "padding": null,
            "grid_auto_rows": null,
            "grid_gap": null,
            "max_width": null,
            "order": null,
            "_view_module_version": "1.2.0",
            "grid_template_areas": null,
            "object_position": null,
            "object_fit": null,
            "grid_auto_columns": null,
            "margin": null,
            "display": null,
            "left": null
          }
        },
        "4da8ea38e33542f9b038d376968cb679": {
          "model_module": "@jupyter-widgets/controls",
          "model_name": "HBoxModel",
          "state": {
            "_view_name": "HBoxView",
            "_dom_classes": [],
            "_model_name": "HBoxModel",
            "_view_module": "@jupyter-widgets/controls",
            "_model_module_version": "1.5.0",
            "_view_count": null,
            "_view_module_version": "1.5.0",
            "box_style": "",
            "layout": "IPY_MODEL_94d8b8468ea4402099e0987d8928b449",
            "_model_module": "@jupyter-widgets/controls",
            "children": [
              "IPY_MODEL_3ff7baad501648488e5f34a16086c6da",
              "IPY_MODEL_931ce39802d745609d275b9cf3d5e642"
            ]
          }
        },
        "94d8b8468ea4402099e0987d8928b449": {
          "model_module": "@jupyter-widgets/base",
          "model_name": "LayoutModel",
          "state": {
            "_view_name": "LayoutView",
            "grid_template_rows": null,
            "right": null,
            "justify_content": null,
            "_view_module": "@jupyter-widgets/base",
            "overflow": null,
            "_model_module_version": "1.2.0",
            "_view_count": null,
            "flex_flow": null,
            "width": null,
            "min_width": null,
            "border": null,
            "align_items": null,
            "bottom": null,
            "_model_module": "@jupyter-widgets/base",
            "top": null,
            "grid_column": null,
            "overflow_y": null,
            "overflow_x": null,
            "grid_auto_flow": null,
            "grid_area": null,
            "grid_template_columns": null,
            "flex": null,
            "_model_name": "LayoutModel",
            "justify_items": null,
            "grid_row": null,
            "max_height": null,
            "align_content": null,
            "visibility": null,
            "align_self": null,
            "height": null,
            "min_height": null,
            "padding": null,
            "grid_auto_rows": null,
            "grid_gap": null,
            "max_width": null,
            "order": null,
            "_view_module_version": "1.2.0",
            "grid_template_areas": null,
            "object_position": null,
            "object_fit": null,
            "grid_auto_columns": null,
            "margin": null,
            "display": null,
            "left": null
          }
        },
        "3ff7baad501648488e5f34a16086c6da": {
          "model_module": "@jupyter-widgets/controls",
          "model_name": "FloatProgressModel",
          "state": {
            "_view_name": "ProgressView",
            "style": "IPY_MODEL_0ee13da678e5419eb76ac0a3e11bde70",
            "_dom_classes": [],
            "description": "",
            "_model_name": "FloatProgressModel",
            "bar_style": "success",
            "max": 1648877,
            "_view_module": "@jupyter-widgets/controls",
            "_model_module_version": "1.5.0",
            "value": 1648877,
            "_view_count": null,
            "_view_module_version": "1.5.0",
            "orientation": "horizontal",
            "min": 0,
            "description_tooltip": null,
            "_model_module": "@jupyter-widgets/controls",
            "layout": "IPY_MODEL_2349dda9912a4823a0ce8e983b6b7716"
          }
        },
        "931ce39802d745609d275b9cf3d5e642": {
          "model_module": "@jupyter-widgets/controls",
          "model_name": "HTMLModel",
          "state": {
            "_view_name": "HTMLView",
            "style": "IPY_MODEL_121fbf58ea354fadab3b26ff16a54016",
            "_dom_classes": [],
            "description": "",
            "_model_name": "HTMLModel",
            "placeholder": "​",
            "_view_module": "@jupyter-widgets/controls",
            "_model_module_version": "1.5.0",
            "value": " 1649664/? [00:19&lt;00:00, 86657.66it/s]",
            "_view_count": null,
            "_view_module_version": "1.5.0",
            "description_tooltip": null,
            "_model_module": "@jupyter-widgets/controls",
            "layout": "IPY_MODEL_1b638a62ce9d4c9abc0f8396cb6512e9"
          }
        },
        "0ee13da678e5419eb76ac0a3e11bde70": {
          "model_module": "@jupyter-widgets/controls",
          "model_name": "ProgressStyleModel",
          "state": {
            "_view_name": "StyleView",
            "_model_name": "ProgressStyleModel",
            "description_width": "initial",
            "_view_module": "@jupyter-widgets/base",
            "_model_module_version": "1.5.0",
            "_view_count": null,
            "_view_module_version": "1.2.0",
            "bar_color": null,
            "_model_module": "@jupyter-widgets/controls"
          }
        },
        "2349dda9912a4823a0ce8e983b6b7716": {
          "model_module": "@jupyter-widgets/base",
          "model_name": "LayoutModel",
          "state": {
            "_view_name": "LayoutView",
            "grid_template_rows": null,
            "right": null,
            "justify_content": null,
            "_view_module": "@jupyter-widgets/base",
            "overflow": null,
            "_model_module_version": "1.2.0",
            "_view_count": null,
            "flex_flow": null,
            "width": null,
            "min_width": null,
            "border": null,
            "align_items": null,
            "bottom": null,
            "_model_module": "@jupyter-widgets/base",
            "top": null,
            "grid_column": null,
            "overflow_y": null,
            "overflow_x": null,
            "grid_auto_flow": null,
            "grid_area": null,
            "grid_template_columns": null,
            "flex": null,
            "_model_name": "LayoutModel",
            "justify_items": null,
            "grid_row": null,
            "max_height": null,
            "align_content": null,
            "visibility": null,
            "align_self": null,
            "height": null,
            "min_height": null,
            "padding": null,
            "grid_auto_rows": null,
            "grid_gap": null,
            "max_width": null,
            "order": null,
            "_view_module_version": "1.2.0",
            "grid_template_areas": null,
            "object_position": null,
            "object_fit": null,
            "grid_auto_columns": null,
            "margin": null,
            "display": null,
            "left": null
          }
        },
        "121fbf58ea354fadab3b26ff16a54016": {
          "model_module": "@jupyter-widgets/controls",
          "model_name": "DescriptionStyleModel",
          "state": {
            "_view_name": "StyleView",
            "_model_name": "DescriptionStyleModel",
            "description_width": "",
            "_view_module": "@jupyter-widgets/base",
            "_model_module_version": "1.5.0",
            "_view_count": null,
            "_view_module_version": "1.2.0",
            "_model_module": "@jupyter-widgets/controls"
          }
        },
        "1b638a62ce9d4c9abc0f8396cb6512e9": {
          "model_module": "@jupyter-widgets/base",
          "model_name": "LayoutModel",
          "state": {
            "_view_name": "LayoutView",
            "grid_template_rows": null,
            "right": null,
            "justify_content": null,
            "_view_module": "@jupyter-widgets/base",
            "overflow": null,
            "_model_module_version": "1.2.0",
            "_view_count": null,
            "flex_flow": null,
            "width": null,
            "min_width": null,
            "border": null,
            "align_items": null,
            "bottom": null,
            "_model_module": "@jupyter-widgets/base",
            "top": null,
            "grid_column": null,
            "overflow_y": null,
            "overflow_x": null,
            "grid_auto_flow": null,
            "grid_area": null,
            "grid_template_columns": null,
            "flex": null,
            "_model_name": "LayoutModel",
            "justify_items": null,
            "grid_row": null,
            "max_height": null,
            "align_content": null,
            "visibility": null,
            "align_self": null,
            "height": null,
            "min_height": null,
            "padding": null,
            "grid_auto_rows": null,
            "grid_gap": null,
            "max_width": null,
            "order": null,
            "_view_module_version": "1.2.0",
            "grid_template_areas": null,
            "object_position": null,
            "object_fit": null,
            "grid_auto_columns": null,
            "margin": null,
            "display": null,
            "left": null
          }
        },
        "3e7b27fbcc90477f87f08ced7b453aa7": {
          "model_module": "@jupyter-widgets/controls",
          "model_name": "HBoxModel",
          "state": {
            "_view_name": "HBoxView",
            "_dom_classes": [],
            "_model_name": "HBoxModel",
            "_view_module": "@jupyter-widgets/controls",
            "_model_module_version": "1.5.0",
            "_view_count": null,
            "_view_module_version": "1.5.0",
            "box_style": "",
            "layout": "IPY_MODEL_90b9e52962444006a95fd7d81454f0b0",
            "_model_module": "@jupyter-widgets/controls",
            "children": [
              "IPY_MODEL_816935175613496585c91b5726fa00db",
              "IPY_MODEL_ef577846a65043adb91a51256cfce4c8"
            ]
          }
        },
        "90b9e52962444006a95fd7d81454f0b0": {
          "model_module": "@jupyter-widgets/base",
          "model_name": "LayoutModel",
          "state": {
            "_view_name": "LayoutView",
            "grid_template_rows": null,
            "right": null,
            "justify_content": null,
            "_view_module": "@jupyter-widgets/base",
            "overflow": null,
            "_model_module_version": "1.2.0",
            "_view_count": null,
            "flex_flow": null,
            "width": null,
            "min_width": null,
            "border": null,
            "align_items": null,
            "bottom": null,
            "_model_module": "@jupyter-widgets/base",
            "top": null,
            "grid_column": null,
            "overflow_y": null,
            "overflow_x": null,
            "grid_auto_flow": null,
            "grid_area": null,
            "grid_template_columns": null,
            "flex": null,
            "_model_name": "LayoutModel",
            "justify_items": null,
            "grid_row": null,
            "max_height": null,
            "align_content": null,
            "visibility": null,
            "align_self": null,
            "height": null,
            "min_height": null,
            "padding": null,
            "grid_auto_rows": null,
            "grid_gap": null,
            "max_width": null,
            "order": null,
            "_view_module_version": "1.2.0",
            "grid_template_areas": null,
            "object_position": null,
            "object_fit": null,
            "grid_auto_columns": null,
            "margin": null,
            "display": null,
            "left": null
          }
        },
        "816935175613496585c91b5726fa00db": {
          "model_module": "@jupyter-widgets/controls",
          "model_name": "FloatProgressModel",
          "state": {
            "_view_name": "ProgressView",
            "style": "IPY_MODEL_e2da05c6df8748ecbb6e995135d84f9f",
            "_dom_classes": [],
            "description": "",
            "_model_name": "FloatProgressModel",
            "bar_style": "success",
            "max": 4542,
            "_view_module": "@jupyter-widgets/controls",
            "_model_module_version": "1.5.0",
            "value": 4542,
            "_view_count": null,
            "_view_module_version": "1.5.0",
            "orientation": "horizontal",
            "min": 0,
            "description_tooltip": null,
            "_model_module": "@jupyter-widgets/controls",
            "layout": "IPY_MODEL_57fb4de33028478a8f4d32ccf4a778da"
          }
        },
        "ef577846a65043adb91a51256cfce4c8": {
          "model_module": "@jupyter-widgets/controls",
          "model_name": "HTMLModel",
          "state": {
            "_view_name": "HTMLView",
            "style": "IPY_MODEL_8302e3455d634a579b8f51cfc25c834b",
            "_dom_classes": [],
            "description": "",
            "_model_name": "HTMLModel",
            "placeholder": "​",
            "_view_module": "@jupyter-widgets/controls",
            "_model_module_version": "1.5.0",
            "value": " 5120/? [00:17&lt;00:00, 293.37it/s]",
            "_view_count": null,
            "_view_module_version": "1.5.0",
            "description_tooltip": null,
            "_model_module": "@jupyter-widgets/controls",
            "layout": "IPY_MODEL_e2f09f16dc2649ee916ad3305b1bbd6a"
          }
        },
        "e2da05c6df8748ecbb6e995135d84f9f": {
          "model_module": "@jupyter-widgets/controls",
          "model_name": "ProgressStyleModel",
          "state": {
            "_view_name": "StyleView",
            "_model_name": "ProgressStyleModel",
            "description_width": "initial",
            "_view_module": "@jupyter-widgets/base",
            "_model_module_version": "1.5.0",
            "_view_count": null,
            "_view_module_version": "1.2.0",
            "bar_color": null,
            "_model_module": "@jupyter-widgets/controls"
          }
        },
        "57fb4de33028478a8f4d32ccf4a778da": {
          "model_module": "@jupyter-widgets/base",
          "model_name": "LayoutModel",
          "state": {
            "_view_name": "LayoutView",
            "grid_template_rows": null,
            "right": null,
            "justify_content": null,
            "_view_module": "@jupyter-widgets/base",
            "overflow": null,
            "_model_module_version": "1.2.0",
            "_view_count": null,
            "flex_flow": null,
            "width": null,
            "min_width": null,
            "border": null,
            "align_items": null,
            "bottom": null,
            "_model_module": "@jupyter-widgets/base",
            "top": null,
            "grid_column": null,
            "overflow_y": null,
            "overflow_x": null,
            "grid_auto_flow": null,
            "grid_area": null,
            "grid_template_columns": null,
            "flex": null,
            "_model_name": "LayoutModel",
            "justify_items": null,
            "grid_row": null,
            "max_height": null,
            "align_content": null,
            "visibility": null,
            "align_self": null,
            "height": null,
            "min_height": null,
            "padding": null,
            "grid_auto_rows": null,
            "grid_gap": null,
            "max_width": null,
            "order": null,
            "_view_module_version": "1.2.0",
            "grid_template_areas": null,
            "object_position": null,
            "object_fit": null,
            "grid_auto_columns": null,
            "margin": null,
            "display": null,
            "left": null
          }
        },
        "8302e3455d634a579b8f51cfc25c834b": {
          "model_module": "@jupyter-widgets/controls",
          "model_name": "DescriptionStyleModel",
          "state": {
            "_view_name": "StyleView",
            "_model_name": "DescriptionStyleModel",
            "description_width": "",
            "_view_module": "@jupyter-widgets/base",
            "_model_module_version": "1.5.0",
            "_view_count": null,
            "_view_module_version": "1.2.0",
            "_model_module": "@jupyter-widgets/controls"
          }
        },
        "e2f09f16dc2649ee916ad3305b1bbd6a": {
          "model_module": "@jupyter-widgets/base",
          "model_name": "LayoutModel",
          "state": {
            "_view_name": "LayoutView",
            "grid_template_rows": null,
            "right": null,
            "justify_content": null,
            "_view_module": "@jupyter-widgets/base",
            "overflow": null,
            "_model_module_version": "1.2.0",
            "_view_count": null,
            "flex_flow": null,
            "width": null,
            "min_width": null,
            "border": null,
            "align_items": null,
            "bottom": null,
            "_model_module": "@jupyter-widgets/base",
            "top": null,
            "grid_column": null,
            "overflow_y": null,
            "overflow_x": null,
            "grid_auto_flow": null,
            "grid_area": null,
            "grid_template_columns": null,
            "flex": null,
            "_model_name": "LayoutModel",
            "justify_items": null,
            "grid_row": null,
            "max_height": null,
            "align_content": null,
            "visibility": null,
            "align_self": null,
            "height": null,
            "min_height": null,
            "padding": null,
            "grid_auto_rows": null,
            "grid_gap": null,
            "max_width": null,
            "order": null,
            "_view_module_version": "1.2.0",
            "grid_template_areas": null,
            "object_position": null,
            "object_fit": null,
            "grid_auto_columns": null,
            "margin": null,
            "display": null,
            "left": null
          }
        }
      }
    }
  },
  "cells": [
    {
      "cell_type": "code",
      "metadata": {
        "id": "DLLNM9X2JbQ8",
        "colab": {
          "base_uri": "https://localhost:8080/"
        },
        "outputId": "9a8f97b5-937c-4f0a-9ded-f5846ac6e344"
      },
      "source": [
        "%load_ext tensorboard\n",
        "import os\n",
        "import numpy as np\n",
        "import matplotlib\n",
        "import matplotlib.pyplot as plt\n",
        "import copy\n",
        "import random\n",
        "import time\n",
        "\n",
        "import torch\n",
        "import torch.nn as nn\n",
        "import torch.nn.functional as F\n",
        "\n",
        "from torch.utils.data import Dataset, DataLoader\n",
        "from torch.utils.tensorboard import SummaryWriter\n",
        "from torchvision import transforms, utils, datasets\n",
        "from torchsummary import summary\n",
        "\n",
        "\n",
        "# Check assigned GPU\n",
        "gpu_info = !nvidia-smi\n",
        "gpu_info = '\\n'.join(gpu_info)\n",
        "if gpu_info.find('failed') >= 0:\n",
        "  print('Select the Runtime > \"Change runtime type\" menu to enable a GPU accelerator, ')\n",
        "  print('and then re-execute this cell.')\n",
        "else:\n",
        "  print(gpu_info)\n",
        "\n",
        "# set manual seed for reproducibility\n",
        "seed = 42\n",
        "\n",
        "# general reproducibility\n",
        "random.seed(seed)\n",
        "np.random.seed(seed)\n",
        "torch.manual_seed(seed)\n",
        "\n",
        "# gpu training specific\n",
        "torch.backends.cudnn.deterministic = True\n",
        "torch.backends.cudnn.benchmark = False"
      ],
      "execution_count": 1,
      "outputs": [
        {
          "output_type": "stream",
          "text": [
            "Wed Apr  7 19:20:40 2021       \n",
            "+-----------------------------------------------------------------------------+\n",
            "| NVIDIA-SMI 460.67       Driver Version: 460.32.03    CUDA Version: 11.2     |\n",
            "|-------------------------------+----------------------+----------------------+\n",
            "| GPU  Name        Persistence-M| Bus-Id        Disp.A | Volatile Uncorr. ECC |\n",
            "| Fan  Temp  Perf  Pwr:Usage/Cap|         Memory-Usage | GPU-Util  Compute M. |\n",
            "|                               |                      |               MIG M. |\n",
            "|===============================+======================+======================|\n",
            "|   0  Tesla K80           Off  | 00000000:00:04.0 Off |                    0 |\n",
            "| N/A   61C    P8    34W / 149W |      0MiB / 11441MiB |      0%      Default |\n",
            "|                               |                      |                  N/A |\n",
            "+-------------------------------+----------------------+----------------------+\n",
            "                                                                               \n",
            "+-----------------------------------------------------------------------------+\n",
            "| Processes:                                                                  |\n",
            "|  GPU   GI   CI        PID   Type   Process name                  GPU Memory |\n",
            "|        ID   ID                                                   Usage      |\n",
            "|=============================================================================|\n",
            "|  No running processes found                                                 |\n",
            "+-----------------------------------------------------------------------------+\n"
          ],
          "name": "stdout"
        }
      ]
    },
    {
      "cell_type": "code",
      "metadata": {
        "colab": {
          "base_uri": "https://localhost:8080/"
        },
        "id": "o-Ht0LyDDNeC",
        "outputId": "d6e1ff4b-3229-40f5-89d1-4ae694b80aef"
      },
      "source": [
        "from google.colab import drive\n",
        "drive.mount('/content/drive')\n",
        "\n",
        "import os\n",
        "path = '/content/drive/My Drive/FedPerf/'\n",
        "os.makedirs(path, exist_ok=True)"
      ],
      "execution_count": 2,
      "outputs": [
        {
          "output_type": "stream",
          "text": [
            "Mounted at /content/drive\n"
          ],
          "name": "stdout"
        }
      ]
    },
    {
      "cell_type": "markdown",
      "metadata": {
        "id": "NY4eWzGiL6Mj"
      },
      "source": [
        "## Load the MNIST Dataset"
      ]
    },
    {
      "cell_type": "code",
      "metadata": {
        "id": "G649tjTXLL8F",
        "colab": {
          "base_uri": "https://localhost:8080/",
          "height": 1000,
          "referenced_widgets": [
            "9f994a1e27de4a698d032b8e39bc3781",
            "8efb2de740564e5996e29348341d5b88",
            "2da3a0ce1df94069b148fe2685f31e8e",
            "97e1b4d3af0345d48633231eb35d2d5f",
            "8a210794942e4431b10dcd4ae27fb0a0",
            "68799fadc10041dcaf724c54adac54b9",
            "a51fb176a1c741bb81ad25193f21b218",
            "0049604c138847e784d90e57c26496c2",
            "64f25e9022244907af0898b8f7d7d45c",
            "7291b3fb918f4062815762e6cb77053c",
            "af3c2f8345674d30898ef3db7bfabe14",
            "bd79577486f24a13a4a774e280d77813",
            "b7a9522b9a81448aaa244fbe2cc5ece3",
            "314ef6bd47f94c3686bfac12b787b745",
            "424ce5ed6eb04c40bb9205515e1279e7",
            "e42d71bcfe0b49bba6d7dd5ff78910a2",
            "4da8ea38e33542f9b038d376968cb679",
            "94d8b8468ea4402099e0987d8928b449",
            "3ff7baad501648488e5f34a16086c6da",
            "931ce39802d745609d275b9cf3d5e642",
            "0ee13da678e5419eb76ac0a3e11bde70",
            "2349dda9912a4823a0ce8e983b6b7716",
            "121fbf58ea354fadab3b26ff16a54016",
            "1b638a62ce9d4c9abc0f8396cb6512e9",
            "3e7b27fbcc90477f87f08ced7b453aa7",
            "90b9e52962444006a95fd7d81454f0b0",
            "816935175613496585c91b5726fa00db",
            "ef577846a65043adb91a51256cfce4c8",
            "e2da05c6df8748ecbb6e995135d84f9f",
            "57fb4de33028478a8f4d32ccf4a778da",
            "8302e3455d634a579b8f51cfc25c834b",
            "e2f09f16dc2649ee916ad3305b1bbd6a"
          ]
        },
        "outputId": "6bf95ff0-69a7-4f8e-9193-5e07edf9555e"
      },
      "source": [
        "!wget www.di.ens.fr/~lelarge/MNIST.tar.gz\n",
        "!tar -zxvf MNIST.tar.gz\n",
        "\n",
        "from torchvision.datasets import MNIST\n",
        "\n",
        "transforms_mnist = transforms.Compose([\n",
        "                                       transforms.ToTensor(),\n",
        "                                       transforms.Normalize((0.1307,), (0.3081,))\n",
        "                                       ])\n",
        "\n",
        "mnist_data_train = MNIST(root = '../data/mnist/', train=True, download=True, transform=transforms_mnist)\n",
        "mnist_data_test = MNIST(root = '../data/mnist/', train=False, download=True, transform=transforms_mnist)"
      ],
      "execution_count": 3,
      "outputs": [
        {
          "output_type": "stream",
          "text": [
            "--2021-04-07 19:21:18--  http://www.di.ens.fr/~lelarge/MNIST.tar.gz\n",
            "Resolving www.di.ens.fr (www.di.ens.fr)... 129.199.99.14\n",
            "Connecting to www.di.ens.fr (www.di.ens.fr)|129.199.99.14|:80... connected.\n",
            "HTTP request sent, awaiting response... 302 Found\n",
            "Location: https://www.di.ens.fr/~lelarge/MNIST.tar.gz [following]\n",
            "--2021-04-07 19:21:18--  https://www.di.ens.fr/~lelarge/MNIST.tar.gz\n",
            "Connecting to www.di.ens.fr (www.di.ens.fr)|129.199.99.14|:443... connected.\n",
            "HTTP request sent, awaiting response... 200 OK\n",
            "Length: unspecified [application/x-gzip]\n",
            "Saving to: ‘MNIST.tar.gz’\n",
            "\n",
            "MNIST.tar.gz            [      <=>           ]  33.20M  29.7MB/s    in 1.1s    \n",
            "\n",
            "2021-04-07 19:21:19 (29.7 MB/s) - ‘MNIST.tar.gz’ saved [34813078]\n",
            "\n",
            "MNIST/\n",
            "MNIST/raw/\n",
            "MNIST/raw/train-labels-idx1-ubyte\n",
            "MNIST/raw/t10k-labels-idx1-ubyte.gz\n",
            "MNIST/raw/t10k-labels-idx1-ubyte\n",
            "MNIST/raw/t10k-images-idx3-ubyte.gz\n",
            "MNIST/raw/train-images-idx3-ubyte\n",
            "MNIST/raw/train-labels-idx1-ubyte.gz\n",
            "MNIST/raw/t10k-images-idx3-ubyte\n",
            "MNIST/raw/train-images-idx3-ubyte.gz\n",
            "MNIST/processed/\n",
            "MNIST/processed/training.pt\n",
            "MNIST/processed/test.pt\n",
            "Downloading http://yann.lecun.com/exdb/mnist/train-images-idx3-ubyte.gz\n",
            "Failed to download (trying next):\n",
            "HTTP Error 503: Service Unavailable\n",
            "\n",
            "Downloading https://ossci-datasets.s3.amazonaws.com/mnist/train-images-idx3-ubyte.gz\n",
            "Downloading https://ossci-datasets.s3.amazonaws.com/mnist/train-images-idx3-ubyte.gz to ../data/mnist/MNIST/raw/train-images-idx3-ubyte.gz\n"
          ],
          "name": "stdout"
        },
        {
          "output_type": "display_data",
          "data": {
            "application/vnd.jupyter.widget-view+json": {
              "model_id": "9f994a1e27de4a698d032b8e39bc3781",
              "version_minor": 0,
              "version_major": 2
            },
            "text/plain": [
              "HBox(children=(FloatProgress(value=0.0, max=9912422.0), HTML(value='')))"
            ]
          },
          "metadata": {
            "tags": []
          }
        },
        {
          "output_type": "stream",
          "text": [
            "\n",
            "Extracting ../data/mnist/MNIST/raw/train-images-idx3-ubyte.gz to ../data/mnist/MNIST/raw\n",
            "\n",
            "Downloading http://yann.lecun.com/exdb/mnist/train-labels-idx1-ubyte.gz\n",
            "Failed to download (trying next):\n",
            "HTTP Error 503: Service Unavailable\n",
            "\n",
            "Downloading https://ossci-datasets.s3.amazonaws.com/mnist/train-labels-idx1-ubyte.gz\n",
            "Downloading https://ossci-datasets.s3.amazonaws.com/mnist/train-labels-idx1-ubyte.gz to ../data/mnist/MNIST/raw/train-labels-idx1-ubyte.gz\n"
          ],
          "name": "stdout"
        },
        {
          "output_type": "display_data",
          "data": {
            "application/vnd.jupyter.widget-view+json": {
              "model_id": "64f25e9022244907af0898b8f7d7d45c",
              "version_minor": 0,
              "version_major": 2
            },
            "text/plain": [
              "HBox(children=(FloatProgress(value=0.0, max=28881.0), HTML(value='')))"
            ]
          },
          "metadata": {
            "tags": []
          }
        },
        {
          "output_type": "stream",
          "text": [
            "\n",
            "Extracting ../data/mnist/MNIST/raw/train-labels-idx1-ubyte.gz to ../data/mnist/MNIST/raw\n",
            "\n",
            "Downloading http://yann.lecun.com/exdb/mnist/t10k-images-idx3-ubyte.gz\n",
            "Failed to download (trying next):\n",
            "HTTP Error 503: Service Unavailable\n",
            "\n",
            "Downloading https://ossci-datasets.s3.amazonaws.com/mnist/t10k-images-idx3-ubyte.gz\n",
            "Downloading https://ossci-datasets.s3.amazonaws.com/mnist/t10k-images-idx3-ubyte.gz to ../data/mnist/MNIST/raw/t10k-images-idx3-ubyte.gz\n"
          ],
          "name": "stdout"
        },
        {
          "output_type": "display_data",
          "data": {
            "application/vnd.jupyter.widget-view+json": {
              "model_id": "4da8ea38e33542f9b038d376968cb679",
              "version_minor": 0,
              "version_major": 2
            },
            "text/plain": [
              "HBox(children=(FloatProgress(value=0.0, max=1648877.0), HTML(value='')))"
            ]
          },
          "metadata": {
            "tags": []
          }
        },
        {
          "output_type": "stream",
          "text": [
            "\n",
            "Extracting ../data/mnist/MNIST/raw/t10k-images-idx3-ubyte.gz to ../data/mnist/MNIST/raw\n",
            "\n",
            "Downloading http://yann.lecun.com/exdb/mnist/t10k-labels-idx1-ubyte.gz\n",
            "Failed to download (trying next):\n",
            "HTTP Error 503: Service Unavailable\n",
            "\n",
            "Downloading https://ossci-datasets.s3.amazonaws.com/mnist/t10k-labels-idx1-ubyte.gz\n",
            "Downloading https://ossci-datasets.s3.amazonaws.com/mnist/t10k-labels-idx1-ubyte.gz to ../data/mnist/MNIST/raw/t10k-labels-idx1-ubyte.gz\n"
          ],
          "name": "stdout"
        },
        {
          "output_type": "display_data",
          "data": {
            "application/vnd.jupyter.widget-view+json": {
              "model_id": "3e7b27fbcc90477f87f08ced7b453aa7",
              "version_minor": 0,
              "version_major": 2
            },
            "text/plain": [
              "HBox(children=(FloatProgress(value=0.0, max=4542.0), HTML(value='')))"
            ]
          },
          "metadata": {
            "tags": []
          }
        },
        {
          "output_type": "stream",
          "text": [
            "\n",
            "Extracting ../data/mnist/MNIST/raw/t10k-labels-idx1-ubyte.gz to ../data/mnist/MNIST/raw\n",
            "\n",
            "Processing...\n",
            "Done!\n"
          ],
          "name": "stdout"
        },
        {
          "output_type": "stream",
          "text": [
            "/usr/local/lib/python3.7/dist-packages/torchvision/datasets/mnist.py:502: UserWarning: The given NumPy array is not writeable, and PyTorch does not support non-writeable tensors. This means you can write to the underlying (supposedly non-writeable) NumPy array using the tensor. You may want to copy the array to protect its data or make it writeable before converting it to a tensor. This type of warning will be suppressed for the rest of this program. (Triggered internally at  /pytorch/torch/csrc/utils/tensor_numpy.cpp:143.)\n",
            "  return torch.from_numpy(parsed.astype(m[2], copy=False)).view(*s)\n"
          ],
          "name": "stderr"
        }
      ]
    },
    {
      "cell_type": "code",
      "metadata": {
        "id": "dm9usjn2vFkL",
        "colab": {
          "base_uri": "https://localhost:8080/"
        },
        "outputId": "70b54d30-e445-4c8b-89e0-4876e0a1094e"
      },
      "source": [
        "classes = np.array(list(mnist_data_train.class_to_idx.values()))\n",
        "classes_test = np.array(list(mnist_data_test.class_to_idx.values()))\n",
        "num_classes = len(classes_test)\n",
        "print(\"Classes: {} \\tType: {}\".format(classes, type(classes)))\n",
        "print(\"Classes Test: {} \\tType: {}\".format(classes_test, type(classes)))\n"
      ],
      "execution_count": 4,
      "outputs": [
        {
          "output_type": "stream",
          "text": [
            "Classes: [0 1 2 3 4 5 6 7 8 9] \tType: <class 'numpy.ndarray'>\n",
            "Classes Test: [0 1 2 3 4 5 6 7 8 9] \tType: <class 'numpy.ndarray'>\n"
          ],
          "name": "stdout"
        }
      ]
    },
    {
      "cell_type": "code",
      "metadata": {
        "id": "9lvJt3Ofv2SO",
        "colab": {
          "base_uri": "https://localhost:8080/"
        },
        "outputId": "6aa5f736-7519-4ecd-d6e3-568e6b2a26b7"
      },
      "source": [
        "print(\"Image Shape: {}\".format(mnist_data_train.data[0].size()))"
      ],
      "execution_count": 5,
      "outputs": [
        {
          "output_type": "stream",
          "text": [
            "Image Shape: torch.Size([28, 28])\n"
          ],
          "name": "stdout"
        }
      ]
    },
    {
      "cell_type": "markdown",
      "metadata": {
        "id": "jCOONkg-zV7Y"
      },
      "source": [
        "## Visualize Data"
      ]
    },
    {
      "cell_type": "code",
      "metadata": {
        "id": "R9MK03TZw6Qs"
      },
      "source": [
        "def imshow(img):\n",
        "\timg = img/2 + 0.5 #unnormalize the image\n",
        "\tplt.imshow(img, cmap='gray') # convert from tensor to image"
      ],
      "execution_count": 6,
      "outputs": []
    },
    {
      "cell_type": "code",
      "metadata": {
        "id": "gMJ0Kx4Kw-_H"
      },
      "source": [
        "def visualize(dataset):\n",
        "  figure = plt.figure(figsize=(25,4))\n",
        "  for i in range(20):\n",
        "    axis = figure.add_subplot(2, 20/2, i+1, xticks=[], yticks=[])\n",
        "    data = dataset.data[i]\n",
        "    data = data.numpy()\n",
        "\n",
        "    target = dataset.targets[i]\n",
        "    target = target.numpy()\n",
        "    imshow(data)\n",
        "    axis.set_title(target)\n"
      ],
      "execution_count": 7,
      "outputs": []
    },
    {
      "cell_type": "code",
      "metadata": {
        "id": "8bPOwKg10Ro7",
        "colab": {
          "base_uri": "https://localhost:8080/",
          "height": 268
        },
        "outputId": "feadb83b-f5a8-463a-eb9b-9e455bfc5bb8"
      },
      "source": [
        "visualize(mnist_data_train)"
      ],
      "execution_count": null,
      "outputs": [
        {
          "output_type": "display_data",
          "data": {
            "image/png": "[encoded data removed]",
            "text/plain": [
              "<Figure size 1800x288 with 20 Axes>"
            ]
          },
          "metadata": {
            "tags": []
          }
        }
      ]
    },
    {
      "cell_type": "code",
      "metadata": {
        "id": "RKoh5Cf70UYu",
        "colab": {
          "base_uri": "https://localhost:8080/",
          "height": 268
        },
        "outputId": "0b1cf9cb-9e5b-48c5-a16f-1c492b914986"
      },
      "source": [
        "visualize(mnist_data_test)"
      ],
      "execution_count": null,
      "outputs": [
        {
          "output_type": "display_data",
          "data": {
            "image/png": "[encoded data removed]",
            "text/plain": [
              "<Figure size 1800x288 with 20 Axes>"
            ]
          },
          "metadata": {
            "tags": []
          }
        }
      ]
    },
    {
      "cell_type": "markdown",
      "metadata": {
        "id": "ctjRsETiO1qO"
      },
      "source": [
        "## Partitioning the Data (IID and non-IID)"
      ]
    },
    {
      "cell_type": "code",
      "metadata": {
        "id": "3_v8lyrgO5dD"
      },
      "source": [
        "def iid_partition(dataset, clients):\n",
        "  \"\"\"\n",
        "  I.I.D paritioning of data over clients\n",
        "  Shuffle the data\n",
        "  Split it between clients\n",
        "  \n",
        "  params:\n",
        "    - dataset (torch.utils.Dataset): Dataset containing the MNIST Images\n",
        "    - clients (int): Number of Clients to split the data between\n",
        "\n",
        "  returns:\n",
        "    - Dictionary of image indexes for each client\n",
        "  \"\"\"\n",
        "\n",
        "  num_items_per_client = int(len(dataset)/clients)\n",
        "  client_dict = {}\n",
        "  image_idxs = [i for i in range(len(dataset))]\n",
        "\n",
        "  for i in range(clients):\n",
        "    client_dict[i] = set(np.random.choice(image_idxs, num_items_per_client, replace=False))\n",
        "    image_idxs = list(set(image_idxs) - client_dict[i])\n",
        "\n",
        "  return client_dict"
      ],
      "execution_count": 8,
      "outputs": []
    },
    {
      "cell_type": "code",
      "metadata": {
        "id": "4zMdliGMQoSl"
      },
      "source": [
        "def non_iid_partition(dataset, clients, total_shards, shards_size, num_shards_per_client):\n",
        "  \"\"\"\n",
        "  non I.I.D parititioning of data over clients\n",
        "  Sort the data by the digit label\n",
        "  Divide the data into N shards of size S\n",
        "  Each of the clients will get X shards\n",
        "\n",
        "  params:\n",
        "    - dataset (torch.utils.Dataset): Dataset containing the MNIST Images\n",
        "    - clients (int): Number of Clients to split the data between = 100\n",
        "    - total_shards (int): Number of shards to partition the data in = 200 \n",
        "    - shards_size (int): Size of each shard = 300\n",
        "    - num_shards_per_client (int): Number of shards of size shards_size that each client receives = 2\n",
        "\n",
        "  returns:\n",
        "    - Dictionary of image indexes for each client\n",
        "  \"\"\"\n",
        "  \n",
        "  shard_idxs = [i for i in range(total_shards)]\n",
        "  client_dict = {i: np.array([], dtype='int64') for i in range(clients)}\n",
        "  idxs = np.arange(len(dataset))\n",
        "  data_labels = dataset.targets.numpy()\n",
        "\n",
        "  # sort the labels\n",
        "  label_idxs = np.vstack((idxs, data_labels))\n",
        "  label_idxs = label_idxs[:, label_idxs[1,:].argsort()]\n",
        "  idxs = label_idxs[0,:]\n",
        "\n",
        "  # divide the data into total_shards of size shards_size\n",
        "  # assign num_shards_per_client to each client\n",
        "  for i in range(clients):\n",
        "    rand_set = set(np.random.choice(shard_idxs, num_shards_per_client, replace=False))\n",
        "    shard_idxs = list(set(shard_idxs) - rand_set)\n",
        "\n",
        "    for rand in rand_set:\n",
        "      client_dict[i] = np.concatenate((client_dict[i], idxs[rand*shards_size:(rand+1)*shards_size]), axis=0)\n",
        "  \n",
        "  return client_dict\n",
        "\n",
        "\n",
        "\n"
      ],
      "execution_count": 9,
      "outputs": []
    },
    {
      "cell_type": "markdown",
      "metadata": {
        "id": "PTfxv8kFoGAy"
      },
      "source": [
        "## Models"
      ]
    },
    {
      "cell_type": "code",
      "metadata": {
        "id": "CvoDNFKbZST5"
      },
      "source": [
        "class MNIST_2NN(nn.Module):\n",
        "  \"\"\"\n",
        "  A simple multilayer-perceptron with 2-hidden layers with 200 units each\n",
        "  using ReLu activations\n",
        "\n",
        "  Total Expected Params: 199,210\n",
        "  \"\"\"\n",
        "  def __init__(self):\n",
        "    super(MNIST_2NN, self).__init__()\n",
        "\n",
        "    self.fc1 = nn.Linear(28*28, 200)\n",
        "    self.fc2 = nn.Linear(200, 200)\n",
        "    self.fc3 = nn.Linear(200, 10)\n",
        "\n",
        "  def forward(self, x):\n",
        "    x = torch.flatten(x, 1)\n",
        "    x = F.relu(self.fc1(x))\n",
        "    x = F.relu(self.fc2(x))\n",
        "    out = self.fc3(x)\n",
        "\n",
        "    return x"
      ],
      "execution_count": 10,
      "outputs": []
    },
    {
      "cell_type": "code",
      "metadata": {
        "id": "ut1hZ8x3qYPZ"
      },
      "source": [
        "class MNIST_CNN(nn.Module):\n",
        "  \"\"\"\n",
        "  CNN with two 5x5 convolution lauers(the first with 32 channels, second with 64,\n",
        "  each followed with 2x2 max pooling), a fully connected layer with 512 uunits and \n",
        "  ReLu activation, and the final Softmax output layer\n",
        "\n",
        "  Total Expected Params: 1,663,370\n",
        "  \"\"\"\n",
        "  def __init__(self):\n",
        "    super(MNIST_CNN, self).__init__()\n",
        "\n",
        "    self.conv1 = nn.Conv2d(1, 32, kernel_size=5)\n",
        "    self.conv2 = nn.Conv2d(32, 64, kernel_size=5)\n",
        "    \n",
        "    self.pool = nn.MaxPool2d(2,2)\n",
        "    self.dropout = nn.Dropout(p=0.2)\n",
        "\n",
        "    self.fc1 = nn.Linear(1024, 512)\n",
        "    self.out = nn.Linear(512, 10)\n",
        "\n",
        "  def forward(self, x):\n",
        "    x = self.pool(F.relu(self.conv1(x)))\n",
        "    x = self.pool(F.relu(self.conv2(x)))\n",
        "    x = self.dropout(x)\n",
        "    x = torch.flatten(x, 1)\n",
        "    x = F.relu(self.fc1(x))\n",
        "    x = self.out(x)\n",
        "    out = F.log_softmax(x, dim=1)\n",
        "\n",
        "    return out"
      ],
      "execution_count": 11,
      "outputs": []
    },
    {
      "cell_type": "markdown",
      "metadata": {
        "id": "uVv4HA9HuLtr"
      },
      "source": [
        "### Print Model Summaries"
      ]
    },
    {
      "cell_type": "code",
      "metadata": {
        "id": "I5oTH710sJEt",
        "colab": {
          "base_uri": "https://localhost:8080/"
        },
        "outputId": "9560b98b-295f-4bd5-bbc6-a0cd4f178c13"
      },
      "source": [
        "mnist_mlp = MNIST_2NN()\n",
        "mnist_cnn = MNIST_CNN()\n",
        "\n",
        "if torch.cuda.is_available():\n",
        "  mnist_mlp.cuda()\n",
        "  mnist_cnn.cuda()\n",
        "\n",
        "print(\"MNIST MLP SUMMARY\")\n",
        "print(summary(mnist_mlp, (28,28)))\n",
        "\n",
        "print(\"\\nMNIST CNN SUMMARY\")\n",
        "print(summary(mnist_cnn, (1, 28,28)))"
      ],
      "execution_count": 12,
      "outputs": [
        {
          "output_type": "stream",
          "text": [
            "MNIST MLP SUMMARY\n",
            "----------------------------------------------------------------\n",
            "        Layer (type)               Output Shape         Param #\n",
            "================================================================\n",
            "            Linear-1                  [-1, 200]         157,000\n",
            "            Linear-2                  [-1, 200]          40,200\n",
            "            Linear-3                   [-1, 10]           2,010\n",
            "================================================================\n",
            "Total params: 199,210\n",
            "Trainable params: 199,210\n",
            "Non-trainable params: 0\n",
            "----------------------------------------------------------------\n",
            "Input size (MB): 0.00\n",
            "Forward/backward pass size (MB): 0.00\n",
            "Params size (MB): 0.76\n",
            "Estimated Total Size (MB): 0.77\n",
            "----------------------------------------------------------------\n",
            "None\n",
            "\n",
            "MNIST CNN SUMMARY\n",
            "----------------------------------------------------------------\n",
            "        Layer (type)               Output Shape         Param #\n",
            "================================================================\n",
            "            Conv2d-1           [-1, 32, 24, 24]             832\n",
            "         MaxPool2d-2           [-1, 32, 12, 12]               0\n",
            "            Conv2d-3             [-1, 64, 8, 8]          51,264\n",
            "         MaxPool2d-4             [-1, 64, 4, 4]               0\n",
            "           Dropout-5             [-1, 64, 4, 4]               0\n",
            "            Linear-6                  [-1, 512]         524,800\n",
            "            Linear-7                   [-1, 10]           5,130\n",
            "================================================================\n",
            "Total params: 582,026\n",
            "Trainable params: 582,026\n",
            "Non-trainable params: 0\n",
            "----------------------------------------------------------------\n",
            "Input size (MB): 0.00\n",
            "Forward/backward pass size (MB): 0.23\n",
            "Params size (MB): 2.22\n",
            "Estimated Total Size (MB): 2.45\n",
            "----------------------------------------------------------------\n",
            "None\n"
          ],
          "name": "stdout"
        }
      ]
    },
    {
      "cell_type": "markdown",
      "metadata": {
        "id": "gf_8XEXa-gZ7"
      },
      "source": [
        "## Federated Averaging"
      ]
    },
    {
      "cell_type": "markdown",
      "metadata": {
        "id": "L-aNdQsQ-Kvp"
      },
      "source": [
        "### Local Training (Client Update)\n",
        "\n",
        "Local training for the model on client side"
      ]
    },
    {
      "cell_type": "code",
      "metadata": {
        "id": "oX6OsQyO-Gz7"
      },
      "source": [
        "class CustomDataset(Dataset):\n",
        "  def __init__(self, dataset, idxs):\n",
        "      self.dataset = dataset\n",
        "      self.idxs = list(idxs)\n",
        "\n",
        "  def __len__(self):\n",
        "      return len(self.idxs)\n",
        "\n",
        "  def __getitem__(self, item):\n",
        "      image, label = self.dataset[self.idxs[item]]\n",
        "      return image, label\n",
        "\n",
        "class ClientUpdate(object):\n",
        "  def __init__(self, dataset, batchSize, learning_rate, epochs, idxs):\n",
        "    self.train_loader = DataLoader(CustomDataset(dataset, idxs), batch_size=batchSize, shuffle=True)\n",
        "\n",
        "    self.learning_rate = learning_rate\n",
        "    self.epochs = epochs\n",
        "\n",
        "  def train(self, model):\n",
        "\n",
        "    criterion = nn.CrossEntropyLoss()\n",
        "    optimizer = torch.optim.SGD(model.parameters(), lr=self.learning_rate, momentum=0.5)\n",
        "    # optimizer = torch.optim.Adam(model.parameters(), lr=self.learning_rate)\n",
        "\n",
        "    e_loss = []\n",
        "    for epoch in range(1, self.epochs+1):\n",
        "\n",
        "      train_loss = 0.0\n",
        "\n",
        "      model.train()\n",
        "      for data, labels in self.train_loader:\n",
        "\n",
        "        if torch.cuda.is_available():\n",
        "          data, labels = data.cuda(), labels.cuda()\n",
        "\n",
        "        # clear the gradients\n",
        "        optimizer.zero_grad()\n",
        "        # make a forward pass\n",
        "        output = model(data)\n",
        "        # calculate the loss\n",
        "        loss = criterion(output, labels)\n",
        "        # do a backwards pass\n",
        "        loss.backward()\n",
        "        # perform a single optimization step\n",
        "        optimizer.step()\n",
        "        # update training loss\n",
        "        train_loss += loss.item()*data.size(0)\n",
        "\n",
        "      # average losses\n",
        "      train_loss = train_loss/len(self.train_loader.dataset)\n",
        "      e_loss.append(train_loss)\n",
        "\n",
        "    total_loss = sum(e_loss)/len(e_loss)\n",
        "\n",
        "    return model.state_dict(), total_loss"
      ],
      "execution_count": 13,
      "outputs": []
    },
    {
      "cell_type": "markdown",
      "metadata": {
        "id": "Ukgh1DVHE2Ds"
      },
      "source": [
        "### Server Side Training\n",
        "\n",
        "Following Algorithm 1 from the paper"
      ]
    },
    {
      "cell_type": "code",
      "metadata": {
        "id": "1NF1e33BgpeL"
      },
      "source": [
        "def training(model, rounds, batch_size, lr, ds, ds_test, data_dict, C, K, E, plt_title, plt_color):\n",
        "  \"\"\"\n",
        "  Function implements the Federated Averaging Algorithm from the FedAvg paper.\n",
        "  Specifically, this function is used for the server side training and weight update\n",
        "\n",
        "  Params:\n",
        "    - model:           PyTorch model to train\n",
        "    - rounds:          Number of communication rounds for the client update\n",
        "    - batch_size:      Batch size for client update training\n",
        "    - lr:              Learning rate used for client update training\n",
        "    - ds:              Dataset used for training\n",
        "    - ds_test:         Dataset used for testing\n",
        "    - data_dict:       Type of data partition used for training (IID or non-IID)\n",
        "    - C:               Fraction of clients randomly chosen to perform computation on each round\n",
        "    - K:               Total number of clients\n",
        "    - E:               Number of training passes each client makes over its local dataset per round\n",
        "    - tb_writer_name:  Directory name to save the tensorboard logs\n",
        "  Returns:\n",
        "    - model:           Trained model on the server\n",
        "  \"\"\"\n",
        "\n",
        "  # global model weights\n",
        "  global_weights = model.state_dict()\n",
        "\n",
        "  # training loss\n",
        "  # train_accuracy = []\n",
        "  train_loss = []\n",
        "  test_accuracy = []\n",
        "  test_loss = []\n",
        "\n",
        "\n",
        "  # measure time\n",
        "  start = time.time()\n",
        "\n",
        "  for curr_round in range(1, rounds+1):\n",
        "    w, local_loss = [], []\n",
        "\n",
        "    m = max(int(C*K), 1)\n",
        "    \n",
        "    S_t = np.random.choice(range(K), m, replace=False)\n",
        "    for k in S_t:\n",
        "      local_update = ClientUpdate(dataset=ds, batchSize=batch_size, learning_rate=lr, epochs=E, idxs=data_dict[k])\n",
        "      weights, loss = local_update.train(model=copy.deepcopy(model))\n",
        "\n",
        "      w.append(copy.deepcopy(weights))\n",
        "      local_loss.append(copy.deepcopy(loss))\n",
        "\n",
        "    # updating the global weights\n",
        "    weights_avg = copy.deepcopy(w[0])\n",
        "    for k in weights_avg.keys():\n",
        "      for i in range(1, len(w)):\n",
        "        weights_avg[k] += w[i][k]\n",
        "\n",
        "      weights_avg[k] = torch.div(weights_avg[k], len(w))\n",
        "\n",
        "    global_weights = weights_avg\n",
        "\n",
        "    # move the updated weights to our model state dict\n",
        "    model.load_state_dict(global_weights)\n",
        "\n",
        "    # loss\n",
        "    loss_avg = sum(local_loss) / len(local_loss)\n",
        "    print('Round: {}... \\tAverage Loss: {}'.format(curr_round, round(loss_avg, 3)))\n",
        "    train_loss.append(loss_avg)\n",
        "\n",
        "    # test\n",
        "    test_criterion = nn.CrossEntropyLoss()\n",
        "    test_accuracy_current, test_loss_current =  testing(copy.deepcopy(model), ds_test, 128, test_criterion, num_classes, classes_test)\n",
        "    test_accuracy.append(test_accuracy_current)\n",
        "    test_loss.append(test_loss_current)\n",
        "\n",
        "  end = time.time()\n",
        "  \n",
        "  fig, ax = plt.subplots()\n",
        "  x_axis = np.arange(1, rounds+1)\n",
        "  y_axis = np.array(train_loss)\n",
        "  ax.plot(x_axis, y_axis, 'tab:'+plt_color)\n",
        "\n",
        "  ax.set(xlabel='Number of Rounds', ylabel='Train Loss',\n",
        "       title=plt_title)\n",
        "  ax.grid()\n",
        "  fig.savefig(plt_title+'_Train_loss.jpg', format='jpg')\n",
        "  plt.show()\n",
        "\n",
        "  fig, ax = plt.subplots()\n",
        "  x_axis = np.arange(1, rounds+1)\n",
        "  y_axis = np.array(test_loss)\n",
        "  ax.plot(x_axis, y_axis, 'tab:'+plt_color)\n",
        "\n",
        "  ax.set(xlabel='Number of Rounds', ylabel='Test Loss',\n",
        "       title=plt_title)\n",
        "  ax.grid()\n",
        "  fig.savefig(plt_title+'_Test_loss.jpg', format='jpg')\n",
        "  plt.show()\n",
        "\n",
        "  fig, ax = plt.subplots()\n",
        "  x_axis = np.arange(1, rounds+1)\n",
        "  y_axis = np.array(test_accuracy)\n",
        "  ax.plot(x_axis, y_axis, 'tab:'+plt_color)\n",
        "\n",
        "  ax.set(xlabel='Number of Rounds', ylabel='Test Accuracy',\n",
        "       title=plt_title)\n",
        "  ax.grid()\n",
        "  fig.savefig(plt_title+'_Test_Accuracy.jpg', format='jpg')\n",
        "  plt.show()\n",
        "  \n",
        "  print(\"Training Done!\")\n",
        "  print(\"Total time taken to Train: {}\\n\\n\".format(end-start))\n",
        "  \n",
        "  return model, train_loss, test_accuracy, test_loss"
      ],
      "execution_count": 14,
      "outputs": []
    },
    {
      "cell_type": "markdown",
      "metadata": {
        "id": "tUYyb4T-uXmF"
      },
      "source": [
        "## Testing Loop"
      ]
    },
    {
      "cell_type": "code",
      "metadata": {
        "id": "uCcIZmO5uan9"
      },
      "source": [
        "def testing(model, dataset, bs, criterion, num_classes, classes, print_info=False):\n",
        "  #test loss \n",
        "  test_loss = 0.0\n",
        "  correct_class = list(0. for i in range(num_classes))\n",
        "  total_class = list(0. for i in range(num_classes))\n",
        "\n",
        "  test_loader = DataLoader(dataset, batch_size=bs)\n",
        "  l = len(test_loader)\n",
        "  model.eval()\n",
        "  for data, labels in test_loader:\n",
        "\n",
        "    if torch.cuda.is_available():\n",
        "      data, labels = data.cuda(), labels.cuda()\n",
        "\n",
        "    output = model(data)\n",
        "    loss = criterion(output, labels)\n",
        "    test_loss += loss.item()*data.size(0)\n",
        "\n",
        "    _, pred = torch.max(output, 1)\n",
        "\n",
        "    correct_tensor = pred.eq(labels.data.view_as(pred))\n",
        "    correct = np.squeeze(correct_tensor.numpy()) if not torch.cuda.is_available() else np.squeeze(correct_tensor.cpu().numpy())\n",
        "\n",
        "    #test accuracy for each object class\n",
        "    for i in range(num_classes):\n",
        "      label = labels.data[i]\n",
        "      correct_class[label] += correct[i].item()\n",
        "      total_class[label] += 1\n",
        "    \n",
        "  # avg test loss\n",
        "  test_loss = test_loss/len(test_loader.dataset)\n",
        "  test_accuracy = 100. * np.sum(correct_class) / np.sum(total_class)\n",
        "\n",
        "  if print_info:\n",
        "    print(\"Test Loss: {:.6f}\\n\".format(test_loss))\n",
        "\n",
        "    for i in range(10):\n",
        "      if total_class[i]>0:\n",
        "        print('Test Accuracy of %5s: %2d%% (%2d/%2d)' % \n",
        "              (classes[i], 100 * correct_class[i] / total_class[i],\n",
        "              np.sum(correct_class[i]), np.sum(total_class[i])))\n",
        "      else:\n",
        "        print('Test Accuracy of %5s: N/A (no training examples)' % (classes[i]))\n",
        "\n",
        "    print('\\nFinal Test  Accuracy: {:.3f} ({}/{})'.format(\n",
        "          100. * np.sum(correct_class) / np.sum(total_class),\n",
        "          np.sum(correct_class), np.sum(total_class)))\n",
        "  \n",
        "  return test_accuracy, test_loss"
      ],
      "execution_count": 15,
      "outputs": []
    },
    {
      "cell_type": "code",
      "metadata": {
        "id": "Lx-fB_fi-3Ws"
      },
      "source": [
        "log_dict = {}\n",
        "NUM_REPEAT = 2"
      ],
      "execution_count": 16,
      "outputs": []
    },
    {
      "cell_type": "markdown",
      "metadata": {
        "id": "uF8MdSIUYcnl"
      },
      "source": [
        "## MNIST CNN on Non IID"
      ]
    },
    {
      "cell_type": "markdown",
      "metadata": {
        "id": "a6wXX7JW11bx"
      },
      "source": [
        "### Train\n"
      ]
    },
    {
      "cell_type": "markdown",
      "metadata": {
        "id": "KMNtp6YE_2VH"
      },
      "source": [
        "###**MNIST CNN Low**"
      ]
    },
    {
      "cell_type": "code",
      "metadata": {
        "id": "fCD3kBCKYfBK",
        "colab": {
          "base_uri": "https://localhost:8080/",
          "height": 1000
        },
        "outputId": "49e5fcf2-c17d-40b3-f07c-5c44dc7b1648"
      },
      "source": [
        "train_loss_multiple_runs = [None] * NUM_REPEAT\n",
        "test_accuracy_multiple_runs = [None] * NUM_REPEAT\n",
        "test_loss_multiple_runs = [None] * NUM_REPEAT\n",
        "\n",
        "for exp_num in range(NUM_REPEAT):\n",
        "  print(\"Experiment Run Number: \", exp_num)\n",
        "\n",
        "  # number of training rounds\n",
        "  rounds = 50\n",
        "  # client fraction\n",
        "  C = 0.1\n",
        "  # number of clients\n",
        "  K = 100\n",
        "  # number of training passes on local dataset for each roung\n",
        "  E = 5\n",
        "  # batch size\n",
        "  batch_size = 10\n",
        "  # learning Rate\n",
        "  lr=0.05\n",
        "  # dict containing different type of data partition\n",
        "  data_dict = non_iid_partition(mnist_data_train, 100, 200, 300, 2)\n",
        "  #   100, 500, 120, 5 - Medium\n",
        "  #   100, 1000, 60, 10 - High\n",
        "  # load model\n",
        "  mnist_cnn = MNIST_CNN()\n",
        "\n",
        "  if torch.cuda.is_available():\n",
        "    mnist_cnn.cuda()\n",
        "\n",
        "  mnist_cnn_non_iid_trained, train_loss, test_accuracy, test_loss = training(mnist_cnn, rounds, batch_size, lr, mnist_data_train, mnist_data_test, data_dict, C, K, E, \"MNIST CNN on Non-IID Dataset\", \"green\")\n",
        "\n",
        "  train_loss_multiple_runs[exp_num] = train_loss\n",
        "  test_accuracy_multiple_runs[exp_num] = test_accuracy\n",
        "  test_loss_multiple_runs[exp_num] = test_loss\n"
      ],
      "execution_count": null,
      "outputs": [
        {
          "output_type": "stream",
          "text": [
            "Experiment Run Number:  0\n",
            "Round: 1... \tAverage Loss: 0.104\n",
            "Round: 2... \tAverage Loss: 0.067\n",
            "Round: 3... \tAverage Loss: 0.032\n",
            "Round: 4... \tAverage Loss: 0.033\n",
            "Round: 5... \tAverage Loss: 0.015\n",
            "Round: 6... \tAverage Loss: 0.026\n",
            "Round: 7... \tAverage Loss: 0.032\n",
            "Round: 8... \tAverage Loss: 0.015\n",
            "Round: 9... \tAverage Loss: 0.014\n",
            "Round: 10... \tAverage Loss: 0.022\n",
            "Round: 11... \tAverage Loss: 0.016\n",
            "Round: 12... \tAverage Loss: 0.013\n",
            "Round: 13... \tAverage Loss: 0.011\n",
            "Round: 14... \tAverage Loss: 0.02\n",
            "Round: 15... \tAverage Loss: 0.013\n",
            "Round: 16... \tAverage Loss: 0.015\n",
            "Round: 17... \tAverage Loss: 0.011\n",
            "Round: 18... \tAverage Loss: 0.011\n",
            "Round: 19... \tAverage Loss: 0.013\n",
            "Round: 20... \tAverage Loss: 0.011\n",
            "Round: 21... \tAverage Loss: 0.01\n",
            "Round: 22... \tAverage Loss: 0.009\n",
            "Round: 23... \tAverage Loss: 0.018\n",
            "Round: 24... \tAverage Loss: 0.009\n",
            "Round: 25... \tAverage Loss: 0.013\n",
            "Round: 26... \tAverage Loss: 0.009\n",
            "Round: 27... \tAverage Loss: 0.008\n",
            "Round: 28... \tAverage Loss: 0.012\n",
            "Round: 29... \tAverage Loss: 0.009\n",
            "Round: 30... \tAverage Loss: 0.011\n",
            "Round: 31... \tAverage Loss: 0.007\n",
            "Round: 32... \tAverage Loss: 0.006\n",
            "Round: 33... \tAverage Loss: 0.006\n",
            "Round: 34... \tAverage Loss: 0.009\n",
            "Round: 35... \tAverage Loss: 0.008\n",
            "Round: 36... \tAverage Loss: 0.006\n",
            "Round: 37... \tAverage Loss: 0.006\n",
            "Round: 38... \tAverage Loss: 0.005\n",
            "Round: 39... \tAverage Loss: 0.005\n",
            "Round: 40... \tAverage Loss: 0.003\n",
            "Round: 41... \tAverage Loss: 0.012\n",
            "Round: 42... \tAverage Loss: 0.006\n",
            "Round: 43... \tAverage Loss: 0.007\n",
            "Round: 44... \tAverage Loss: 0.005\n",
            "Round: 45... \tAverage Loss: 0.008\n",
            "Round: 46... \tAverage Loss: 0.006\n",
            "Round: 47... \tAverage Loss: 0.003\n",
            "Round: 48... \tAverage Loss: 0.005\n",
            "Round: 49... \tAverage Loss: 0.006\n",
            "Round: 50... \tAverage Loss: 0.007\n"
          ],
          "name": "stdout"
        },
        {
          "output_type": "display_data",
          "data": {
            "image/png": "[encoded data removed]",
            "text/plain": [
              "<Figure size 432x288 with 1 Axes>"
            ]
          },
          "metadata": {
            "tags": [],
            "needs_background": "light"
          }
        },
        {
          "output_type": "display_data",
          "data": {
            "image/png": "[encoded data removed]",
            "text/plain": [
              "<Figure size 432x288 with 1 Axes>"
            ]
          },
          "metadata": {
            "tags": [],
            "needs_background": "light"
          }
        },
        {
          "output_type": "display_data",
          "data": {
            "image/png": "[encoded data removed]",
            "text/plain": [
              "<Figure size 432x288 with 1 Axes>"
            ]
          },
          "metadata": {
            "tags": [],
            "needs_background": "light"
          }
        },
        {
          "output_type": "stream",
          "text": [
            "Training Done!\n",
            "Total time taken to Train: 632.7394571304321\n",
            "\n",
            "\n",
            "Experiment Run Number:  1\n",
            "Round: 1... \tAverage Loss: 0.127\n",
            "Round: 2... \tAverage Loss: 0.063\n",
            "Round: 3... \tAverage Loss: 0.049\n",
            "Round: 4... \tAverage Loss: 0.039\n",
            "Round: 5... \tAverage Loss: 0.029\n",
            "Round: 6... \tAverage Loss: 0.024\n",
            "Round: 7... \tAverage Loss: 0.036\n",
            "Round: 8... \tAverage Loss: 0.025\n",
            "Round: 9... \tAverage Loss: 0.021\n",
            "Round: 10... \tAverage Loss: 0.017\n",
            "Round: 11... \tAverage Loss: 0.017\n",
            "Round: 12... \tAverage Loss: 0.022\n",
            "Round: 13... \tAverage Loss: 0.011\n",
            "Round: 14... \tAverage Loss: 0.014\n",
            "Round: 15... \tAverage Loss: 0.014\n",
            "Round: 16... \tAverage Loss: 0.014\n",
            "Round: 17... \tAverage Loss: 0.012\n",
            "Round: 18... \tAverage Loss: 0.017\n",
            "Round: 19... \tAverage Loss: 0.012\n",
            "Round: 20... \tAverage Loss: 0.01\n",
            "Round: 21... \tAverage Loss: 0.009\n",
            "Round: 22... \tAverage Loss: 0.019\n",
            "Round: 23... \tAverage Loss: 0.008\n",
            "Round: 24... \tAverage Loss: 0.01\n",
            "Round: 25... \tAverage Loss: 0.008\n",
            "Round: 26... \tAverage Loss: 0.016\n",
            "Round: 27... \tAverage Loss: 0.007\n",
            "Round: 28... \tAverage Loss: 0.012\n",
            "Round: 29... \tAverage Loss: 0.01\n",
            "Round: 30... \tAverage Loss: 0.006\n",
            "Round: 31... \tAverage Loss: 0.007\n",
            "Round: 32... \tAverage Loss: 0.008\n",
            "Round: 33... \tAverage Loss: 0.012\n",
            "Round: 34... \tAverage Loss: 0.018\n",
            "Round: 35... \tAverage Loss: 0.014\n",
            "Round: 36... \tAverage Loss: 0.009\n",
            "Round: 37... \tAverage Loss: 0.005\n",
            "Round: 38... \tAverage Loss: 0.01\n",
            "Round: 39... \tAverage Loss: 0.011\n",
            "Round: 40... \tAverage Loss: 0.009\n",
            "Round: 41... \tAverage Loss: 0.008\n",
            "Round: 42... \tAverage Loss: 0.007\n",
            "Round: 43... \tAverage Loss: 0.014\n",
            "Round: 44... \tAverage Loss: 0.011\n",
            "Round: 45... \tAverage Loss: 0.008\n",
            "Round: 46... \tAverage Loss: 0.006\n",
            "Round: 47... \tAverage Loss: 0.007\n",
            "Round: 48... \tAverage Loss: 0.012\n",
            "Round: 49... \tAverage Loss: 0.006\n",
            "Round: 50... \tAverage Loss: 0.005\n"
          ],
          "name": "stdout"
        },
        {
          "output_type": "display_data",
          "data": {
            "image/png": "[encoded data removed]",
            "text/plain": [
              "<Figure size 432x288 with 1 Axes>"
            ]
          },
          "metadata": {
            "tags": [],
            "needs_background": "light"
          }
        },
        {
          "output_type": "display_data",
          "data": {
            "image/png": "[encoded data removed]",
            "text/plain": [
              "<Figure size 432x288 with 1 Axes>"
            ]
          },
          "metadata": {
            "tags": [],
            "needs_background": "light"
          }
        },
        {
          "output_type": "display_data",
          "data": {
            "image/png": "[encoded data removed]",
            "text/plain": [
              "<Figure size 432x288 with 1 Axes>"
            ]
          },
          "metadata": {
            "tags": [],
            "needs_background": "light"
          }
        },
        {
          "output_type": "stream",
          "text": [
            "Training Done!\n",
            "Total time taken to Train: 647.9071252346039\n",
            "\n",
            "\n"
          ],
          "name": "stdout"
        }
      ]
    },
    {
      "cell_type": "markdown",
      "metadata": {
        "id": "3TOzXHap0QK-"
      },
      "source": [
        "### **MNIS CNN Medium**"
      ]
    },
    {
      "cell_type": "code",
      "metadata": {
        "colab": {
          "base_uri": "https://localhost:8080/",
          "height": 1000
        },
        "id": "5ISY7-Cb0NQn",
        "outputId": "ea03b3cc-06e5-4244-d709-f68ac22fcc74"
      },
      "source": [
        "train_loss_multiple_runs = [None] * NUM_REPEAT\n",
        "test_accuracy_multiple_runs = [None] * NUM_REPEAT\n",
        "test_loss_multiple_runs = [None] * NUM_REPEAT\n",
        "\n",
        "for exp_num in range(NUM_REPEAT):\n",
        "  print(\"Experiment Run Number: \", exp_num)\n",
        "\n",
        "  # number of training rounds\n",
        "  rounds = 50\n",
        "  # client fraction\n",
        "  C = 0.1\n",
        "  # number of clients\n",
        "  K = 100\n",
        "  # number of training passes on local dataset for each roung\n",
        "  E = 5\n",
        "  # batch size\n",
        "  batch_size = 10\n",
        "  # learning Rate\n",
        "  lr=0.05\n",
        "  # dict containing different type of data partition\n",
        "  data_dict = non_iid_partition(mnist_data_train,100, 500, 120, 5)\n",
        "  #   100, 500, 120, 5 - Medium\n",
        "  #   100, 1000, 60, 10 - High\n",
        "  # load model\n",
        "  mnist_cnn = MNIST_CNN()\n",
        "\n",
        "  if torch.cuda.is_available():\n",
        "    mnist_cnn.cuda()\n",
        "\n",
        "  mnist_cnn_non_iid_trained, train_loss, test_accuracy, test_loss = training(mnist_cnn, rounds, batch_size, lr, mnist_data_train, mnist_data_test, data_dict, C, K, E, \"MNIST CNN on Non-IID Dataset\", \"green\")\n",
        "\n",
        "  train_loss_multiple_runs[exp_num] = train_loss\n",
        "  test_accuracy_multiple_runs[exp_num] = test_accuracy\n",
        "  test_loss_multiple_runs[exp_num] = test_loss\n"
      ],
      "execution_count": null,
      "outputs": [
        {
          "output_type": "stream",
          "text": [
            "Experiment Run Number:  0\n",
            "Round: 1... \tAverage Loss: 0.236\n",
            "Round: 2... \tAverage Loss: 0.107\n",
            "Round: 3... \tAverage Loss: 0.06\n",
            "Round: 4... \tAverage Loss: 0.041\n",
            "Round: 5... \tAverage Loss: 0.038\n",
            "Round: 6... \tAverage Loss: 0.042\n",
            "Round: 7... \tAverage Loss: 0.031\n",
            "Round: 8... \tAverage Loss: 0.023\n",
            "Round: 9... \tAverage Loss: 0.028\n",
            "Round: 10... \tAverage Loss: 0.018\n",
            "Round: 11... \tAverage Loss: 0.014\n",
            "Round: 12... \tAverage Loss: 0.03\n",
            "Round: 13... \tAverage Loss: 0.019\n",
            "Round: 14... \tAverage Loss: 0.017\n",
            "Round: 15... \tAverage Loss: 0.021\n",
            "Round: 16... \tAverage Loss: 0.012\n",
            "Round: 17... \tAverage Loss: 0.025\n",
            "Round: 18... \tAverage Loss: 0.014\n",
            "Round: 19... \tAverage Loss: 0.02\n",
            "Round: 20... \tAverage Loss: 0.018\n",
            "Round: 21... \tAverage Loss: 0.016\n",
            "Round: 22... \tAverage Loss: 0.015\n",
            "Round: 23... \tAverage Loss: 0.013\n",
            "Round: 24... \tAverage Loss: 0.012\n",
            "Round: 25... \tAverage Loss: 0.014\n",
            "Round: 26... \tAverage Loss: 0.016\n",
            "Round: 27... \tAverage Loss: 0.011\n",
            "Round: 28... \tAverage Loss: 0.017\n",
            "Round: 29... \tAverage Loss: 0.011\n",
            "Round: 30... \tAverage Loss: 0.013\n",
            "Round: 31... \tAverage Loss: 0.014\n",
            "Round: 32... \tAverage Loss: 0.014\n",
            "Round: 33... \tAverage Loss: 0.01\n",
            "Round: 34... \tAverage Loss: 0.018\n",
            "Round: 35... \tAverage Loss: 0.012\n",
            "Round: 36... \tAverage Loss: 0.01\n",
            "Round: 37... \tAverage Loss: 0.008\n",
            "Round: 38... \tAverage Loss: 0.009\n",
            "Round: 39... \tAverage Loss: 0.008\n",
            "Round: 40... \tAverage Loss: 0.011\n",
            "Round: 41... \tAverage Loss: 0.01\n",
            "Round: 42... \tAverage Loss: 0.008\n",
            "Round: 43... \tAverage Loss: 0.009\n",
            "Round: 44... \tAverage Loss: 0.011\n",
            "Round: 45... \tAverage Loss: 0.014\n",
            "Round: 46... \tAverage Loss: 0.005\n",
            "Round: 47... \tAverage Loss: 0.007\n",
            "Round: 48... \tAverage Loss: 0.007\n",
            "Round: 49... \tAverage Loss: 0.008\n",
            "Round: 50... \tAverage Loss: 0.01\n"
          ],
          "name": "stdout"
        },
        {
          "output_type": "display_data",
          "data": {
            "image/png": "[encoded data removed]",
            "text/plain": [
              "<Figure size 432x288 with 1 Axes>"
            ]
          },
          "metadata": {
            "tags": [],
            "needs_background": "light"
          }
        },
        {
          "output_type": "display_data",
          "data": {
            "image/png": "[encoded data removed]",
            "text/plain": [
              "<Figure size 432x288 with 1 Axes>"
            ]
          },
          "metadata": {
            "tags": [],
            "needs_background": "light"
          }
        },
        {
          "output_type": "display_data",
          "data": {
            "image/png": "[encoded data removed]",
            "text/plain": [
              "<Figure size 432x288 with 1 Axes>"
            ]
          },
          "metadata": {
            "tags": [],
            "needs_background": "light"
          }
        },
        {
          "output_type": "stream",
          "text": [
            "Training Done!\n",
            "Total time taken to Train: 634.8248827457428\n",
            "\n",
            "\n",
            "Experiment Run Number:  1\n",
            "Round: 1... \tAverage Loss: 0.193\n",
            "Round: 2... \tAverage Loss: 0.109\n",
            "Round: 3... \tAverage Loss: 0.056\n",
            "Round: 4... \tAverage Loss: 0.041\n",
            "Round: 5... \tAverage Loss: 0.04\n",
            "Round: 6... \tAverage Loss: 0.038\n",
            "Round: 7... \tAverage Loss: 0.033\n",
            "Round: 8... \tAverage Loss: 0.027\n",
            "Round: 9... \tAverage Loss: 0.026\n",
            "Round: 10... \tAverage Loss: 0.036\n",
            "Round: 11... \tAverage Loss: 0.02\n",
            "Round: 12... \tAverage Loss: 0.021\n",
            "Round: 13... \tAverage Loss: 0.021\n",
            "Round: 14... \tAverage Loss: 0.022\n",
            "Round: 15... \tAverage Loss: 0.02\n",
            "Round: 16... \tAverage Loss: 0.017\n",
            "Round: 17... \tAverage Loss: 0.018\n",
            "Round: 18... \tAverage Loss: 0.021\n",
            "Round: 19... \tAverage Loss: 0.015\n",
            "Round: 20... \tAverage Loss: 0.013\n",
            "Round: 21... \tAverage Loss: 0.014\n",
            "Round: 22... \tAverage Loss: 0.016\n",
            "Round: 23... \tAverage Loss: 0.015\n",
            "Round: 24... \tAverage Loss: 0.018\n",
            "Round: 25... \tAverage Loss: 0.011\n",
            "Round: 26... \tAverage Loss: 0.014\n",
            "Round: 27... \tAverage Loss: 0.01\n",
            "Round: 28... \tAverage Loss: 0.016\n",
            "Round: 29... \tAverage Loss: 0.011\n",
            "Round: 30... \tAverage Loss: 0.015\n",
            "Round: 31... \tAverage Loss: 0.012\n",
            "Round: 32... \tAverage Loss: 0.013\n",
            "Round: 33... \tAverage Loss: 0.011\n",
            "Round: 34... \tAverage Loss: 0.011\n",
            "Round: 35... \tAverage Loss: 0.014\n",
            "Round: 36... \tAverage Loss: 0.013\n",
            "Round: 37... \tAverage Loss: 0.009\n",
            "Round: 38... \tAverage Loss: 0.01\n",
            "Round: 39... \tAverage Loss: 0.01\n",
            "Round: 40... \tAverage Loss: 0.008\n",
            "Round: 41... \tAverage Loss: 0.011\n",
            "Round: 42... \tAverage Loss: 0.014\n",
            "Round: 43... \tAverage Loss: 0.008\n",
            "Round: 44... \tAverage Loss: 0.009\n",
            "Round: 45... \tAverage Loss: 0.009\n",
            "Round: 46... \tAverage Loss: 0.008\n",
            "Round: 47... \tAverage Loss: 0.012\n",
            "Round: 48... \tAverage Loss: 0.01\n",
            "Round: 49... \tAverage Loss: 0.006\n",
            "Round: 50... \tAverage Loss: 0.011\n"
          ],
          "name": "stdout"
        },
        {
          "output_type": "display_data",
          "data": {
            "image/png": "[encoded data removed]",
            "text/plain": [
              "<Figure size 432x288 with 1 Axes>"
            ]
          },
          "metadata": {
            "tags": [],
            "needs_background": "light"
          }
        },
        {
          "output_type": "display_data",
          "data": {
            "image/png": "[encoded data removed]",
            "text/plain": [
              "<Figure size 432x288 with 1 Axes>"
            ]
          },
          "metadata": {
            "tags": [],
            "needs_background": "light"
          }
        },
        {
          "output_type": "display_data",
          "data": {
            "image/png": "[encoded data removed]",
            "text/plain": [
              "<Figure size 432x288 with 1 Axes>"
            ]
          },
          "metadata": {
            "tags": [],
            "needs_background": "light"
          }
        },
        {
          "output_type": "stream",
          "text": [
            "Training Done!\n",
            "Total time taken to Train: 616.8449366092682\n",
            "\n",
            "\n"
          ],
          "name": "stdout"
        }
      ]
    },
    {
      "cell_type": "markdown",
      "metadata": {
        "id": "z8EyZAXN0ero"
      },
      "source": [
        "### **MNIST CNN High**"
      ]
    },
    {
      "cell_type": "code",
      "metadata": {
        "colab": {
          "base_uri": "https://localhost:8080/",
          "height": 1000
        },
        "id": "HAaugNpJ0deh",
        "outputId": "1c1cf33a-addb-4cd8-a3e8-0f2ab9faa83e"
      },
      "source": [
        "train_loss_multiple_runs = [None] * NUM_REPEAT\n",
        "test_accuracy_multiple_runs = [None] * NUM_REPEAT\n",
        "test_loss_multiple_runs = [None] * NUM_REPEAT\n",
        "\n",
        "for exp_num in range(NUM_REPEAT):\n",
        "  print(\"Experiment Run Number: \", exp_num)\n",
        "\n",
        "  # number of training rounds\n",
        "  rounds = 50\n",
        "  # client fraction\n",
        "  C = 0.1\n",
        "  # number of clients\n",
        "  K = 100\n",
        "  # number of training passes on local dataset for each roung\n",
        "  E = 5\n",
        "  # batch size\n",
        "  batch_size = 10\n",
        "  # learning Rate\n",
        "  lr=0.05\n",
        "  # dict containing different type of data partition\n",
        "  data_dict = non_iid_partition(mnist_data_train,100, 1000, 60, 10)\n",
        "  #   100, 500, 120, 5 - Medium\n",
        "  #   100, 1000, 60, 10 - High\n",
        "  # load model\n",
        "  mnist_cnn = MNIST_CNN()\n",
        "\n",
        "  if torch.cuda.is_available():\n",
        "    mnist_cnn.cuda()\n",
        "\n",
        "  mnist_cnn_non_iid_trained, train_loss, test_accuracy, test_loss = training(mnist_cnn, rounds, batch_size, lr, mnist_data_train, mnist_data_test, data_dict, C, K, E, \"MNIST CNN on Non-IID Dataset\", \"green\")\n",
        "\n",
        "  train_loss_multiple_runs[exp_num] = train_loss\n",
        "  test_accuracy_multiple_runs[exp_num] = test_accuracy\n",
        "  test_loss_multiple_runs[exp_num] = test_loss\n"
      ],
      "execution_count": null,
      "outputs": [
        {
          "output_type": "stream",
          "text": [
            "Experiment Run Number:  0\n",
            "Round: 1... \tAverage Loss: 0.345\n",
            "Round: 2... \tAverage Loss: 0.125\n",
            "Round: 3... \tAverage Loss: 0.082\n",
            "Round: 4... \tAverage Loss: 0.059\n",
            "Round: 5... \tAverage Loss: 0.044\n",
            "Round: 6... \tAverage Loss: 0.047\n",
            "Round: 7... \tAverage Loss: 0.038\n",
            "Round: 8... \tAverage Loss: 0.032\n",
            "Round: 9... \tAverage Loss: 0.032\n",
            "Round: 10... \tAverage Loss: 0.026\n",
            "Round: 11... \tAverage Loss: 0.029\n",
            "Round: 12... \tAverage Loss: 0.023\n",
            "Round: 13... \tAverage Loss: 0.027\n",
            "Round: 14... \tAverage Loss: 0.018\n",
            "Round: 15... \tAverage Loss: 0.021\n",
            "Round: 16... \tAverage Loss: 0.018\n",
            "Round: 17... \tAverage Loss: 0.016\n",
            "Round: 18... \tAverage Loss: 0.022\n",
            "Round: 19... \tAverage Loss: 0.016\n",
            "Round: 20... \tAverage Loss: 0.019\n",
            "Round: 21... \tAverage Loss: 0.016\n",
            "Round: 22... \tAverage Loss: 0.02\n",
            "Round: 23... \tAverage Loss: 0.015\n",
            "Round: 24... \tAverage Loss: 0.015\n",
            "Round: 25... \tAverage Loss: 0.019\n",
            "Round: 26... \tAverage Loss: 0.016\n",
            "Round: 27... \tAverage Loss: 0.015\n",
            "Round: 28... \tAverage Loss: 0.013\n",
            "Round: 29... \tAverage Loss: 0.016\n",
            "Round: 30... \tAverage Loss: 0.011\n",
            "Round: 31... \tAverage Loss: 0.016\n",
            "Round: 32... \tAverage Loss: 0.015\n",
            "Round: 33... \tAverage Loss: 0.011\n",
            "Round: 34... \tAverage Loss: 0.008\n",
            "Round: 35... \tAverage Loss: 0.011\n",
            "Round: 36... \tAverage Loss: 0.012\n",
            "Round: 37... \tAverage Loss: 0.01\n",
            "Round: 38... \tAverage Loss: 0.009\n",
            "Round: 39... \tAverage Loss: 0.011\n",
            "Round: 40... \tAverage Loss: 0.013\n",
            "Round: 41... \tAverage Loss: 0.014\n",
            "Round: 42... \tAverage Loss: 0.007\n",
            "Round: 43... \tAverage Loss: 0.012\n",
            "Round: 44... \tAverage Loss: 0.007\n",
            "Round: 45... \tAverage Loss: 0.013\n",
            "Round: 46... \tAverage Loss: 0.012\n",
            "Round: 47... \tAverage Loss: 0.008\n",
            "Round: 48... \tAverage Loss: 0.007\n",
            "Round: 49... \tAverage Loss: 0.011\n",
            "Round: 50... \tAverage Loss: 0.009\n"
          ],
          "name": "stdout"
        },
        {
          "output_type": "display_data",
          "data": {
            "image/png": "[encoded data removed]",
            "text/plain": [
              "<Figure size 432x288 with 1 Axes>"
            ]
          },
          "metadata": {
            "tags": [],
            "needs_background": "light"
          }
        },
        {
          "output_type": "display_data",
          "data": {
            "image/png": "[encoded data removed]",
            "text/plain": [
              "<Figure size 432x288 with 1 Axes>"
            ]
          },
          "metadata": {
            "tags": [],
            "needs_background": "light"
          }
        },
        {
          "output_type": "display_data",
          "data": {
            "image/png": "[encoded data removed]",
            "text/plain": [
              "<Figure size 432x288 with 1 Axes>"
            ]
          },
          "metadata": {
            "tags": [],
            "needs_background": "light"
          }
        },
        {
          "output_type": "stream",
          "text": [
            "Training Done!\n",
            "Total time taken to Train: 621.8385198116302\n",
            "\n",
            "\n",
            "Experiment Run Number:  1\n",
            "Round: 1... \tAverage Loss: 0.328\n",
            "Round: 2... \tAverage Loss: 0.141\n",
            "Round: 3... \tAverage Loss: 0.079\n",
            "Round: 4... \tAverage Loss: 0.049\n",
            "Round: 5... \tAverage Loss: 0.042\n",
            "Round: 6... \tAverage Loss: 0.043\n",
            "Round: 7... \tAverage Loss: 0.029\n",
            "Round: 8... \tAverage Loss: 0.036\n",
            "Round: 9... \tAverage Loss: 0.04\n",
            "Round: 10... \tAverage Loss: 0.02\n",
            "Round: 11... \tAverage Loss: 0.031\n",
            "Round: 12... \tAverage Loss: 0.028\n",
            "Round: 13... \tAverage Loss: 0.021\n",
            "Round: 14... \tAverage Loss: 0.027\n",
            "Round: 15... \tAverage Loss: 0.026\n",
            "Round: 16... \tAverage Loss: 0.019\n",
            "Round: 17... \tAverage Loss: 0.014\n",
            "Round: 18... \tAverage Loss: 0.018\n",
            "Round: 19... \tAverage Loss: 0.019\n",
            "Round: 20... \tAverage Loss: 0.018\n",
            "Round: 21... \tAverage Loss: 0.022\n",
            "Round: 22... \tAverage Loss: 0.015\n",
            "Round: 23... \tAverage Loss: 0.02\n",
            "Round: 24... \tAverage Loss: 0.016\n",
            "Round: 25... \tAverage Loss: 0.018\n",
            "Round: 26... \tAverage Loss: 0.014\n",
            "Round: 27... \tAverage Loss: 0.012\n",
            "Round: 28... \tAverage Loss: 0.013\n",
            "Round: 29... \tAverage Loss: 0.014\n",
            "Round: 30... \tAverage Loss: 0.017\n",
            "Round: 31... \tAverage Loss: 0.018\n",
            "Round: 32... \tAverage Loss: 0.014\n",
            "Round: 33... \tAverage Loss: 0.01\n",
            "Round: 34... \tAverage Loss: 0.013\n",
            "Round: 35... \tAverage Loss: 0.012\n",
            "Round: 36... \tAverage Loss: 0.012\n",
            "Round: 37... \tAverage Loss: 0.012\n",
            "Round: 38... \tAverage Loss: 0.009\n",
            "Round: 39... \tAverage Loss: 0.012\n",
            "Round: 40... \tAverage Loss: 0.01\n",
            "Round: 41... \tAverage Loss: 0.015\n",
            "Round: 42... \tAverage Loss: 0.015\n",
            "Round: 43... \tAverage Loss: 0.007\n",
            "Round: 44... \tAverage Loss: 0.008\n",
            "Round: 45... \tAverage Loss: 0.007\n",
            "Round: 46... \tAverage Loss: 0.011\n",
            "Round: 47... \tAverage Loss: 0.007\n",
            "Round: 48... \tAverage Loss: 0.011\n",
            "Round: 49... \tAverage Loss: 0.008\n",
            "Round: 50... \tAverage Loss: 0.009\n"
          ],
          "name": "stdout"
        },
        {
          "output_type": "display_data",
          "data": {
            "image/png": "[encoded data removed]",
            "text/plain": [
              "<Figure size 432x288 with 1 Axes>"
            ]
          },
          "metadata": {
            "tags": [],
            "needs_background": "light"
          }
        },
        {
          "output_type": "display_data",
          "data": {
            "image/png": "[encoded data removed]",
            "text/plain": [
              "<Figure size 432x288 with 1 Axes>"
            ]
          },
          "metadata": {
            "tags": [],
            "needs_background": "light"
          }
        },
        {
          "output_type": "display_data",
          "data": {
            "image/png": "[encoded data removed]",
            "text/plain": [
              "<Figure size 432x288 with 1 Axes>"
            ]
          },
          "metadata": {
            "tags": [],
            "needs_background": "light"
          }
        },
        {
          "output_type": "stream",
          "text": [
            "Training Done!\n",
            "Total time taken to Train: 623.077766418457\n",
            "\n",
            "\n"
          ],
          "name": "stdout"
        }
      ]
    },
    {
      "cell_type": "markdown",
      "metadata": {
        "id": "4C68J-Kk14dB"
      },
      "source": [
        "### Test"
      ]
    },
    {
      "cell_type": "code",
      "metadata": {
        "id": "_yQ9GiAZ15jE",
        "colab": {
          "base_uri": "https://localhost:8080/",
          "height": 180
        },
        "outputId": "de967a44-f165-4628-fbcc-86b303365651"
      },
      "source": [
        "criterion = nn.CrossEntropyLoss()\n",
        "acc, loss = testing(mnist_cnn_non_iid_trained, mnist_data_test, 128, criterion, num_classes, classes_test, True)"
      ],
      "execution_count": 17,
      "outputs": [
        {
          "output_type": "error",
          "ename": "NameError",
          "evalue": "ignored",
          "traceback": [
            "\u001b[0;31m---------------------------------------------------------------------------\u001b[0m",
            "\u001b[0;31mNameError\u001b[0m                                 Traceback (most recent call last)",
            "\u001b[0;32m<ipython-input-17-693d43e7c00a>\u001b[0m in \u001b[0;36m<module>\u001b[0;34m()\u001b[0m\n\u001b[1;32m      1\u001b[0m \u001b[0mcriterion\u001b[0m \u001b[0;34m=\u001b[0m \u001b[0mnn\u001b[0m\u001b[0;34m.\u001b[0m\u001b[0mCrossEntropyLoss\u001b[0m\u001b[0;34m(\u001b[0m\u001b[0;34m)\u001b[0m\u001b[0;34m\u001b[0m\u001b[0;34m\u001b[0m\u001b[0m\n\u001b[0;32m----> 2\u001b[0;31m \u001b[0macc\u001b[0m\u001b[0;34m,\u001b[0m \u001b[0mloss\u001b[0m \u001b[0;34m=\u001b[0m \u001b[0mtesting\u001b[0m\u001b[0;34m(\u001b[0m\u001b[0mmnist_cnn_non_iid_trained\u001b[0m\u001b[0;34m,\u001b[0m \u001b[0mmnist_data_test\u001b[0m\u001b[0;34m,\u001b[0m \u001b[0;36m128\u001b[0m\u001b[0;34m,\u001b[0m \u001b[0mcriterion\u001b[0m\u001b[0;34m,\u001b[0m \u001b[0mnum_classes\u001b[0m\u001b[0;34m,\u001b[0m \u001b[0mclasses_test\u001b[0m\u001b[0;34m,\u001b[0m \u001b[0;32mTrue\u001b[0m\u001b[0;34m)\u001b[0m\u001b[0;34m\u001b[0m\u001b[0;34m\u001b[0m\u001b[0m\n\u001b[0m",
            "\u001b[0;31mNameError\u001b[0m: name 'mnist_cnn_non_iid_trained' is not defined"
          ]
        }
      ]
    },
    {
      "cell_type": "code",
      "metadata": {
        "id": "CF6k7jbF_q51"
      },
      "source": [
        "hyperparams = {'rounds': rounds,\n",
        "               'C': C,\n",
        "               'K': K,\n",
        "               'E': E,\n",
        "               'batch_size': batch_size,\n",
        "               'lr': lr,\n",
        "               }\n",
        "\n",
        "log_dict['MNIST CNN on Non IID'] = {'train_loss': train_loss_multiple_runs, \n",
        "                                'test_loss': test_loss_multiple_runs, \n",
        "                                'test_accuracy': test_accuracy_multiple_runs,\n",
        "                                'hyperparams': hyperparams,\n",
        "                                }"
      ],
      "execution_count": null,
      "outputs": []
    },
    {
      "cell_type": "markdown",
      "metadata": {
        "id": "J8jzEyO0iywz"
      },
      "source": [
        "## MNIST MLP on Non IID"
      ]
    },
    {
      "cell_type": "markdown",
      "metadata": {
        "id": "pJFepr3y2bF-"
      },
      "source": [
        "### Train"
      ]
    },
    {
      "cell_type": "markdown",
      "metadata": {
        "id": "ycjPG2LgzvIG"
      },
      "source": [
        "### **MNIST MLP Low**"
      ]
    },
    {
      "cell_type": "code",
      "metadata": {
        "colab": {
          "base_uri": "https://localhost:8080/",
          "height": 1000
        },
        "id": "gW1Z1X5ZzjT3",
        "outputId": "67b1d9cb-e42b-4a7f-9239-b1c9366aeafb"
      },
      "source": [
        "train_loss_multiple_runs = [None] * NUM_REPEAT\n",
        "test_accuracy_multiple_runs = [None] * NUM_REPEAT\n",
        "test_loss_multiple_runs = [None] * NUM_REPEAT\n",
        "\n",
        "for exp_num in range(NUM_REPEAT):\n",
        "  print(\"Experiment Run Number: \", exp_num)\n",
        "  \n",
        "  # number of training rounds\n",
        "  rounds = 50\n",
        "  # client fraction\n",
        "  C = 0.1\n",
        "  # number of clients\n",
        "  K = 100\n",
        "  # number of training passes on local dataset for each roung\n",
        "  E = 5\n",
        "  # batch size\n",
        "  batch_size = 10\n",
        "  # learning Rate\n",
        "  lr=0.05\n",
        "  # dict containing different type of data partition\n",
        "  data_dict = non_iid_partition(mnist_data_train, 100, 200, 300, 2)\n",
        "  #   100, 500, 120, 5 - Medium\n",
        "  #   100, 1000, 60, 10 - High\n",
        "  # load model\n",
        "  mnist_mlp = MNIST_2NN()\n",
        "\n",
        "  if torch.cuda.is_available():\n",
        "    mnist_mlp.cuda()\n",
        "\n",
        "  mnist_mlp_non_iid_trained, train_loss, test_accuracy, test_loss = training(mnist_mlp, rounds, batch_size, lr, mnist_data_train, mnist_data_test, data_dict, C, K, E, \"MNIST MLP on Non-IID Dataset\", \"green\")\n",
        "\n",
        "  train_loss_multiple_runs[exp_num] = train_loss\n",
        "  test_accuracy_multiple_runs[exp_num] = test_accuracy\n",
        "  test_loss_multiple_runs[exp_num] = test_loss\n"
      ],
      "execution_count": null,
      "outputs": [
        {
          "output_type": "stream",
          "text": [
            "Experiment Run Number:  0\n",
            "Round: 1... \tAverage Loss: 0.115\n",
            "Round: 2... \tAverage Loss: 0.077\n",
            "Round: 3... \tAverage Loss: 0.048\n",
            "Round: 4... \tAverage Loss: 0.034\n",
            "Round: 5... \tAverage Loss: 0.032\n",
            "Round: 6... \tAverage Loss: 0.025\n",
            "Round: 7... \tAverage Loss: 0.026\n",
            "Round: 8... \tAverage Loss: 0.022\n",
            "Round: 9... \tAverage Loss: 0.03\n",
            "Round: 10... \tAverage Loss: 0.022\n",
            "Round: 11... \tAverage Loss: 0.022\n",
            "Round: 12... \tAverage Loss: 0.029\n",
            "Round: 13... \tAverage Loss: 0.024\n",
            "Round: 14... \tAverage Loss: 0.012\n",
            "Round: 15... \tAverage Loss: 0.017\n",
            "Round: 16... \tAverage Loss: 0.014\n",
            "Round: 17... \tAverage Loss: 0.017\n",
            "Round: 18... \tAverage Loss: 0.021\n",
            "Round: 19... \tAverage Loss: 0.017\n",
            "Round: 20... \tAverage Loss: 0.017\n",
            "Round: 21... \tAverage Loss: 0.009\n",
            "Round: 22... \tAverage Loss: 0.027\n",
            "Round: 23... \tAverage Loss: 0.013\n",
            "Round: 24... \tAverage Loss: 0.025\n",
            "Round: 25... \tAverage Loss: 0.015\n",
            "Round: 26... \tAverage Loss: 0.011\n",
            "Round: 27... \tAverage Loss: 0.019\n",
            "Round: 28... \tAverage Loss: 0.011\n",
            "Round: 29... \tAverage Loss: 0.012\n",
            "Round: 30... \tAverage Loss: 0.014\n",
            "Round: 31... \tAverage Loss: 0.018\n",
            "Round: 32... \tAverage Loss: 0.009\n",
            "Round: 33... \tAverage Loss: 0.013\n",
            "Round: 34... \tAverage Loss: 0.009\n",
            "Round: 35... \tAverage Loss: 0.012\n",
            "Round: 36... \tAverage Loss: 0.008\n",
            "Round: 37... \tAverage Loss: 0.011\n",
            "Round: 38... \tAverage Loss: 0.011\n",
            "Round: 39... \tAverage Loss: 0.008\n",
            "Round: 40... \tAverage Loss: 0.01\n",
            "Round: 41... \tAverage Loss: 0.01\n",
            "Round: 42... \tAverage Loss: 0.013\n",
            "Round: 43... \tAverage Loss: 0.013\n",
            "Round: 44... \tAverage Loss: 0.011\n",
            "Round: 45... \tAverage Loss: 0.012\n",
            "Round: 46... \tAverage Loss: 0.009\n",
            "Round: 47... \tAverage Loss: 0.007\n",
            "Round: 48... \tAverage Loss: 0.005\n",
            "Round: 49... \tAverage Loss: 0.013\n",
            "Round: 50... \tAverage Loss: 0.014\n"
          ],
          "name": "stdout"
        },
        {
          "output_type": "display_data",
          "data": {
            "image/png": "[encoded data removed]",
            "text/plain": [
              "<Figure size 432x288 with 1 Axes>"
            ]
          },
          "metadata": {
            "tags": [],
            "needs_background": "light"
          }
        },
        {
          "output_type": "display_data",
          "data": {
            "image/png": "[encoded data removed]",
            "text/plain": [
              "<Figure size 432x288 with 1 Axes>"
            ]
          },
          "metadata": {
            "tags": [],
            "needs_background": "light"
          }
        },
        {
          "output_type": "display_data",
          "data": {
            "image/png": "[encoded data removed]",
            "text/plain": [
              "<Figure size 432x288 with 1 Axes>"
            ]
          },
          "metadata": {
            "tags": [],
            "needs_background": "light"
          }
        },
        {
          "output_type": "stream",
          "text": [
            "Training Done!\n",
            "Total time taken to Train: 437.55665469169617\n",
            "\n",
            "\n",
            "Experiment Run Number:  1\n",
            "Round: 1... \tAverage Loss: 0.089\n",
            "Round: 2... \tAverage Loss: 0.058\n",
            "Round: 3... \tAverage Loss: 0.04\n",
            "Round: 4... \tAverage Loss: 0.04\n",
            "Round: 5... \tAverage Loss: 0.027\n",
            "Round: 6... \tAverage Loss: 0.027\n",
            "Round: 7... \tAverage Loss: 0.023\n",
            "Round: 8... \tAverage Loss: 0.021\n",
            "Round: 9... \tAverage Loss: 0.021\n",
            "Round: 10... \tAverage Loss: 0.017\n",
            "Round: 11... \tAverage Loss: 0.018\n",
            "Round: 12... \tAverage Loss: 0.029\n",
            "Round: 13... \tAverage Loss: 0.02\n",
            "Round: 14... \tAverage Loss: 0.028\n",
            "Round: 15... \tAverage Loss: 0.022\n",
            "Round: 16... \tAverage Loss: 0.016\n",
            "Round: 17... \tAverage Loss: 0.018\n",
            "Round: 18... \tAverage Loss: 0.018\n",
            "Round: 19... \tAverage Loss: 0.015\n",
            "Round: 20... \tAverage Loss: 0.015\n",
            "Round: 21... \tAverage Loss: 0.01\n",
            "Round: 22... \tAverage Loss: 0.007\n",
            "Round: 23... \tAverage Loss: 0.021\n",
            "Round: 24... \tAverage Loss: 0.016\n",
            "Round: 25... \tAverage Loss: 0.013\n",
            "Round: 26... \tAverage Loss: 0.027\n",
            "Round: 27... \tAverage Loss: 0.015\n",
            "Round: 28... \tAverage Loss: 0.018\n",
            "Round: 29... \tAverage Loss: 0.012\n",
            "Round: 30... \tAverage Loss: 0.013\n",
            "Round: 31... \tAverage Loss: 0.009\n",
            "Round: 32... \tAverage Loss: 0.017\n",
            "Round: 33... \tAverage Loss: 0.012\n",
            "Round: 34... \tAverage Loss: 0.012\n",
            "Round: 35... \tAverage Loss: 0.012\n",
            "Round: 36... \tAverage Loss: 0.009\n",
            "Round: 37... \tAverage Loss: 0.008\n",
            "Round: 38... \tAverage Loss: 0.014\n",
            "Round: 39... \tAverage Loss: 0.011\n",
            "Round: 40... \tAverage Loss: 0.008\n",
            "Round: 41... \tAverage Loss: 0.005\n",
            "Round: 42... \tAverage Loss: 0.016\n",
            "Round: 43... \tAverage Loss: 0.012\n",
            "Round: 44... \tAverage Loss: 0.007\n",
            "Round: 45... \tAverage Loss: 0.005\n",
            "Round: 46... \tAverage Loss: 0.016\n",
            "Round: 47... \tAverage Loss: 0.007\n",
            "Round: 48... \tAverage Loss: 0.009\n",
            "Round: 49... \tAverage Loss: 0.008\n",
            "Round: 50... \tAverage Loss: 0.01\n"
          ],
          "name": "stdout"
        },
        {
          "output_type": "display_data",
          "data": {
            "image/png": "[encoded data removed]",
            "text/plain": [
              "<Figure size 432x288 with 1 Axes>"
            ]
          },
          "metadata": {
            "tags": [],
            "needs_background": "light"
          }
        },
        {
          "output_type": "display_data",
          "data": {
            "image/png": "[encoded data removed]",
            "text/plain": [
              "<Figure size 432x288 with 1 Axes>"
            ]
          },
          "metadata": {
            "tags": [],
            "needs_background": "light"
          }
        },
        {
          "output_type": "display_data",
          "data": {
            "image/png": "[encoded data removed]",
            "text/plain": [
              "<Figure size 432x288 with 1 Axes>"
            ]
          },
          "metadata": {
            "tags": [],
            "needs_background": "light"
          }
        },
        {
          "output_type": "stream",
          "text": [
            "Training Done!\n",
            "Total time taken to Train: 448.0314631462097\n",
            "\n",
            "\n"
          ],
          "name": "stdout"
        }
      ]
    },
    {
      "cell_type": "markdown",
      "metadata": {
        "id": "NyBfS4YUzTj0"
      },
      "source": [
        "### **MNIST MLP Medium**"
      ]
    },
    {
      "cell_type": "code",
      "metadata": {
        "id": "EBKO44Hgi1Uh",
        "colab": {
          "base_uri": "https://localhost:8080/",
          "height": 1000
        },
        "outputId": "c796a4c3-da7f-4c67-bc9e-0c8e49d83e31"
      },
      "source": [
        "train_loss_multiple_runs = [None] * NUM_REPEAT\n",
        "test_accuracy_multiple_runs = [None] * NUM_REPEAT\n",
        "test_loss_multiple_runs = [None] * NUM_REPEAT\n",
        "\n",
        "for exp_num in range(NUM_REPEAT):\n",
        "  print(\"Experiment Run Number: \", exp_num)\n",
        "  \n",
        "  # number of training rounds\n",
        "  rounds = 50\n",
        "  # client fraction\n",
        "  C = 0.1\n",
        "  # number of clients\n",
        "  K = 100\n",
        "  # number of training passes on local dataset for each roung\n",
        "  E = 5\n",
        "  # batch size\n",
        "  batch_size = 10\n",
        "  # learning Rate\n",
        "  lr=0.05\n",
        "  # dict containing different type of data partition\n",
        "  data_dict = non_iid_partition(mnist_data_train, 100, 500, 120, 5)\n",
        "  #   100, 500, 120, 5 - Medium\n",
        "  #   100, 1000, 60, 10 - High\n",
        "  # load model\n",
        "  mnist_mlp = MNIST_2NN()\n",
        "\n",
        "  if torch.cuda.is_available():\n",
        "    mnist_mlp.cuda()\n",
        "\n",
        "  mnist_mlp_non_iid_trained, train_loss, test_accuracy, test_loss = training(mnist_mlp, rounds, batch_size, lr, mnist_data_train, mnist_data_test, data_dict, C, K, E, \"MNIST MLP on Non-IID Dataset\", \"green\")\n",
        "\n",
        "  train_loss_multiple_runs[exp_num] = train_loss\n",
        "  test_accuracy_multiple_runs[exp_num] = test_accuracy\n",
        "  test_loss_multiple_runs[exp_num] = test_loss\n"
      ],
      "execution_count": 18,
      "outputs": [
        {
          "output_type": "stream",
          "text": [
            "Experiment Run Number:  0\n",
            "Round: 1... \tAverage Loss: 0.217\n",
            "Round: 2... \tAverage Loss: 0.111\n",
            "Round: 3... \tAverage Loss: 0.098\n",
            "Round: 4... \tAverage Loss: 0.055\n",
            "Round: 5... \tAverage Loss: 0.042\n",
            "Round: 6... \tAverage Loss: 0.051\n",
            "Round: 7... \tAverage Loss: 0.053\n",
            "Round: 8... \tAverage Loss: 0.048\n",
            "Round: 9... \tAverage Loss: 0.051\n",
            "Round: 10... \tAverage Loss: 0.046\n",
            "Round: 11... \tAverage Loss: 0.035\n",
            "Round: 12... \tAverage Loss: 0.038\n",
            "Round: 13... \tAverage Loss: 0.047\n",
            "Round: 14... \tAverage Loss: 0.041\n",
            "Round: 15... \tAverage Loss: 0.029\n",
            "Round: 16... \tAverage Loss: 0.028\n",
            "Round: 17... \tAverage Loss: 0.024\n",
            "Round: 18... \tAverage Loss: 0.036\n",
            "Round: 19... \tAverage Loss: 0.027\n",
            "Round: 20... \tAverage Loss: 0.027\n",
            "Round: 21... \tAverage Loss: 0.025\n",
            "Round: 22... \tAverage Loss: 0.032\n",
            "Round: 23... \tAverage Loss: 0.029\n",
            "Round: 24... \tAverage Loss: 0.025\n",
            "Round: 25... \tAverage Loss: 0.019\n",
            "Round: 26... \tAverage Loss: 0.019\n",
            "Round: 27... \tAverage Loss: 0.021\n",
            "Round: 28... \tAverage Loss: 0.025\n",
            "Round: 29... \tAverage Loss: 0.021\n",
            "Round: 30... \tAverage Loss: 0.023\n",
            "Round: 31... \tAverage Loss: 0.023\n",
            "Round: 32... \tAverage Loss: 0.02\n",
            "Round: 33... \tAverage Loss: 0.018\n",
            "Round: 34... \tAverage Loss: 0.018\n",
            "Round: 35... \tAverage Loss: 0.024\n",
            "Round: 36... \tAverage Loss: 0.019\n",
            "Round: 37... \tAverage Loss: 0.018\n",
            "Round: 38... \tAverage Loss: 0.019\n",
            "Round: 39... \tAverage Loss: 0.018\n",
            "Round: 40... \tAverage Loss: 0.018\n",
            "Round: 41... \tAverage Loss: 0.015\n",
            "Round: 42... \tAverage Loss: 0.016\n",
            "Round: 43... \tAverage Loss: 0.01\n",
            "Round: 44... \tAverage Loss: 0.015\n",
            "Round: 45... \tAverage Loss: 0.017\n",
            "Round: 46... \tAverage Loss: 0.017\n",
            "Round: 47... \tAverage Loss: 0.014\n",
            "Round: 48... \tAverage Loss: 0.012\n",
            "Round: 49... \tAverage Loss: 0.02\n",
            "Round: 50... \tAverage Loss: 0.013\n"
          ],
          "name": "stdout"
        },
        {
          "output_type": "display_data",
          "data": {
            "image/png": "[encoded data removed]",
            "text/plain": [
              "<Figure size 432x288 with 1 Axes>"
            ]
          },
          "metadata": {
            "tags": [],
            "needs_background": "light"
          }
        },
        {
          "output_type": "display_data",
          "data": {
            "image/png": "[encoded data removed]",
            "text/plain": [
              "<Figure size 432x288 with 1 Axes>"
            ]
          },
          "metadata": {
            "tags": [],
            "needs_background": "light"
          }
        },
        {
          "output_type": "display_data",
          "data": {
            "image/png": "[encoded data removed]",
            "text/plain": [
              "<Figure size 432x288 with 1 Axes>"
            ]
          },
          "metadata": {
            "tags": [],
            "needs_background": "light"
          }
        },
        {
          "output_type": "stream",
          "text": [
            "Training Done!\n",
            "Total time taken to Train: 639.7177486419678\n",
            "\n",
            "\n",
            "Experiment Run Number:  1\n",
            "Round: 1... \tAverage Loss: 0.215\n",
            "Round: 2... \tAverage Loss: 0.116\n",
            "Round: 3... \tAverage Loss: 0.081\n",
            "Round: 4... \tAverage Loss: 0.058\n",
            "Round: 5... \tAverage Loss: 0.059\n",
            "Round: 6... \tAverage Loss: 0.066\n",
            "Round: 7... \tAverage Loss: 0.053\n",
            "Round: 8... \tAverage Loss: 0.053\n",
            "Round: 9... \tAverage Loss: 0.041\n",
            "Round: 10... \tAverage Loss: 0.043\n",
            "Round: 11... \tAverage Loss: 0.041\n",
            "Round: 12... \tAverage Loss: 0.043\n",
            "Round: 13... \tAverage Loss: 0.046\n",
            "Round: 14... \tAverage Loss: 0.041\n",
            "Round: 15... \tAverage Loss: 0.032\n",
            "Round: 16... \tAverage Loss: 0.027\n",
            "Round: 17... \tAverage Loss: 0.029\n",
            "Round: 18... \tAverage Loss: 0.033\n",
            "Round: 19... \tAverage Loss: 0.035\n",
            "Round: 20... \tAverage Loss: 0.023\n",
            "Round: 21... \tAverage Loss: 0.026\n",
            "Round: 22... \tAverage Loss: 0.027\n",
            "Round: 23... \tAverage Loss: 0.022\n",
            "Round: 24... \tAverage Loss: 0.032\n",
            "Round: 25... \tAverage Loss: 0.024\n",
            "Round: 26... \tAverage Loss: 0.024\n",
            "Round: 27... \tAverage Loss: 0.025\n",
            "Round: 28... \tAverage Loss: 0.025\n",
            "Round: 29... \tAverage Loss: 0.022\n",
            "Round: 30... \tAverage Loss: 0.018\n",
            "Round: 31... \tAverage Loss: 0.021\n",
            "Round: 32... \tAverage Loss: 0.017\n",
            "Round: 33... \tAverage Loss: 0.015\n",
            "Round: 34... \tAverage Loss: 0.024\n",
            "Round: 35... \tAverage Loss: 0.014\n",
            "Round: 36... \tAverage Loss: 0.019\n",
            "Round: 37... \tAverage Loss: 0.019\n",
            "Round: 38... \tAverage Loss: 0.02\n",
            "Round: 39... \tAverage Loss: 0.018\n",
            "Round: 40... \tAverage Loss: 0.019\n",
            "Round: 41... \tAverage Loss: 0.012\n",
            "Round: 42... \tAverage Loss: 0.019\n",
            "Round: 43... \tAverage Loss: 0.022\n",
            "Round: 44... \tAverage Loss: 0.015\n",
            "Round: 45... \tAverage Loss: 0.014\n",
            "Round: 46... \tAverage Loss: 0.016\n",
            "Round: 47... \tAverage Loss: 0.014\n",
            "Round: 48... \tAverage Loss: 0.013\n",
            "Round: 49... \tAverage Loss: 0.018\n",
            "Round: 50... \tAverage Loss: 0.015\n"
          ],
          "name": "stdout"
        },
        {
          "output_type": "display_data",
          "data": {
            "image/png": "[encoded data removed]",
            "text/plain": [
              "<Figure size 432x288 with 1 Axes>"
            ]
          },
          "metadata": {
            "tags": [],
            "needs_background": "light"
          }
        },
        {
          "output_type": "display_data",
          "data": {
            "image/png": "[encoded data removed]",
            "text/plain": [
              "<Figure size 432x288 with 1 Axes>"
            ]
          },
          "metadata": {
            "tags": [],
            "needs_background": "light"
          }
        },
        {
          "output_type": "display_data",
          "data": {
            "image/png": "[encoded data removed]",
            "text/plain": [
              "<Figure size 432x288 with 1 Axes>"
            ]
          },
          "metadata": {
            "tags": [],
            "needs_background": "light"
          }
        },
        {
          "output_type": "stream",
          "text": [
            "Training Done!\n",
            "Total time taken to Train: 619.8946487903595\n",
            "\n",
            "\n"
          ],
          "name": "stdout"
        }
      ]
    },
    {
      "cell_type": "markdown",
      "metadata": {
        "id": "OC0QG0xDzF2L"
      },
      "source": [
        "### **MNIST MLP High**"
      ]
    },
    {
      "cell_type": "code",
      "metadata": {
        "colab": {
          "base_uri": "https://localhost:8080/",
          "height": 1000
        },
        "id": "nQSStnp-y-Cb",
        "outputId": "5e8a3eda-b637-49b7-f236-d4cda0901be4"
      },
      "source": [
        "train_loss_multiple_runs = [None] * NUM_REPEAT\n",
        "test_accuracy_multiple_runs = [None] * NUM_REPEAT\n",
        "test_loss_multiple_runs = [None] * NUM_REPEAT\n",
        "\n",
        "for exp_num in range(NUM_REPEAT):\n",
        "  print(\"Experiment Run Number: \", exp_num)\n",
        "  \n",
        "  # number of training rounds\n",
        "  rounds = 50\n",
        "  # client fraction\n",
        "  C = 0.1\n",
        "  # number of clients\n",
        "  K = 100\n",
        "  # number of training passes on local dataset for each roung\n",
        "  E = 5\n",
        "  # batch size\n",
        "  batch_size = 10\n",
        "  # learning Rate\n",
        "  lr=0.05\n",
        "  # dict containing different type of data partition\n",
        "  data_dict = non_iid_partition(mnist_data_train, 100, 1000, 60, 10)\n",
        "  #   100, 500, 120, 5 - Medium\n",
        "  #   100, 1000, 60, 10 - High\n",
        "  # load model\n",
        "  mnist_mlp = MNIST_2NN()\n",
        "\n",
        "  if torch.cuda.is_available():\n",
        "    mnist_mlp.cuda()\n",
        "\n",
        "  mnist_mlp_non_iid_trained, train_loss, test_accuracy, test_loss = training(mnist_mlp, rounds, batch_size, lr, mnist_data_train, mnist_data_test, data_dict, C, K, E, \"MNIST MLP on Non-IID Dataset\", \"green\")\n",
        "\n",
        "  train_loss_multiple_runs[exp_num] = train_loss\n",
        "  test_accuracy_multiple_runs[exp_num] = test_accuracy\n",
        "  test_loss_multiple_runs[exp_num] = test_loss\n"
      ],
      "execution_count": 19,
      "outputs": [
        {
          "output_type": "stream",
          "text": [
            "Experiment Run Number:  0\n",
            "Round: 1... \tAverage Loss: 0.466\n",
            "Round: 2... \tAverage Loss: 0.141\n",
            "Round: 3... \tAverage Loss: 0.103\n",
            "Round: 4... \tAverage Loss: 0.096\n",
            "Round: 5... \tAverage Loss: 0.067\n",
            "Round: 6... \tAverage Loss: 0.064\n",
            "Round: 7... \tAverage Loss: 0.075\n",
            "Round: 8... \tAverage Loss: 0.056\n",
            "Round: 9... \tAverage Loss: 0.044\n",
            "Round: 10... \tAverage Loss: 0.051\n",
            "Round: 11... \tAverage Loss: 0.037\n",
            "Round: 12... \tAverage Loss: 0.043\n",
            "Round: 13... \tAverage Loss: 0.038\n",
            "Round: 14... \tAverage Loss: 0.043\n",
            "Round: 15... \tAverage Loss: 0.041\n",
            "Round: 16... \tAverage Loss: 0.032\n",
            "Round: 17... \tAverage Loss: 0.04\n",
            "Round: 18... \tAverage Loss: 0.04\n",
            "Round: 19... \tAverage Loss: 0.027\n",
            "Round: 20... \tAverage Loss: 0.035\n",
            "Round: 21... \tAverage Loss: 0.033\n",
            "Round: 22... \tAverage Loss: 0.026\n",
            "Round: 23... \tAverage Loss: 0.032\n",
            "Round: 24... \tAverage Loss: 0.025\n",
            "Round: 25... \tAverage Loss: 0.031\n",
            "Round: 26... \tAverage Loss: 0.032\n",
            "Round: 27... \tAverage Loss: 0.028\n",
            "Round: 28... \tAverage Loss: 0.025\n",
            "Round: 29... \tAverage Loss: 0.021\n",
            "Round: 30... \tAverage Loss: 0.015\n",
            "Round: 31... \tAverage Loss: 0.023\n",
            "Round: 32... \tAverage Loss: 0.02\n",
            "Round: 33... \tAverage Loss: 0.022\n",
            "Round: 34... \tAverage Loss: 0.021\n",
            "Round: 35... \tAverage Loss: 0.022\n",
            "Round: 36... \tAverage Loss: 0.025\n",
            "Round: 37... \tAverage Loss: 0.015\n",
            "Round: 38... \tAverage Loss: 0.028\n",
            "Round: 39... \tAverage Loss: 0.023\n",
            "Round: 40... \tAverage Loss: 0.02\n",
            "Round: 41... \tAverage Loss: 0.024\n",
            "Round: 42... \tAverage Loss: 0.026\n",
            "Round: 43... \tAverage Loss: 0.014\n",
            "Round: 44... \tAverage Loss: 0.018\n",
            "Round: 45... \tAverage Loss: 0.019\n",
            "Round: 46... \tAverage Loss: 0.015\n",
            "Round: 47... \tAverage Loss: 0.017\n",
            "Round: 48... \tAverage Loss: 0.017\n",
            "Round: 49... \tAverage Loss: 0.021\n",
            "Round: 50... \tAverage Loss: 0.019\n"
          ],
          "name": "stdout"
        },
        {
          "output_type": "display_data",
          "data": {
            "image/png": "[encoded data removed]",
            "text/plain": [
              "<Figure size 432x288 with 1 Axes>"
            ]
          },
          "metadata": {
            "tags": [],
            "needs_background": "light"
          }
        },
        {
          "output_type": "display_data",
          "data": {
            "image/png": "[encoded data removed]",
            "text/plain": [
              "<Figure size 432x288 with 1 Axes>"
            ]
          },
          "metadata": {
            "tags": [],
            "needs_background": "light"
          }
        },
        {
          "output_type": "display_data",
          "data": {
            "image/png": "[encoded data removed]",
            "text/plain": [
              "<Figure size 432x288 with 1 Axes>"
            ]
          },
          "metadata": {
            "tags": [],
            "needs_background": "light"
          }
        },
        {
          "output_type": "stream",
          "text": [
            "Training Done!\n",
            "Total time taken to Train: 635.5394122600555\n",
            "\n",
            "\n",
            "Experiment Run Number:  1\n",
            "Round: 1... \tAverage Loss: 0.427\n",
            "Round: 2... \tAverage Loss: 0.156\n",
            "Round: 3... \tAverage Loss: 0.106\n",
            "Round: 4... \tAverage Loss: 0.096\n",
            "Round: 5... \tAverage Loss: 0.088\n",
            "Round: 6... \tAverage Loss: 0.063\n",
            "Round: 7... \tAverage Loss: 0.062\n",
            "Round: 8... \tAverage Loss: 0.056\n",
            "Round: 9... \tAverage Loss: 0.061\n",
            "Round: 10... \tAverage Loss: 0.057\n",
            "Round: 11... \tAverage Loss: 0.041\n",
            "Round: 12... \tAverage Loss: 0.05\n",
            "Round: 13... \tAverage Loss: 0.045\n",
            "Round: 14... \tAverage Loss: 0.041\n",
            "Round: 15... \tAverage Loss: 0.032\n",
            "Round: 16... \tAverage Loss: 0.042\n",
            "Round: 17... \tAverage Loss: 0.032\n",
            "Round: 18... \tAverage Loss: 0.038\n",
            "Round: 19... \tAverage Loss: 0.033\n",
            "Round: 20... \tAverage Loss: 0.029\n",
            "Round: 21... \tAverage Loss: 0.03\n",
            "Round: 22... \tAverage Loss: 0.031\n",
            "Round: 23... \tAverage Loss: 0.027\n",
            "Round: 24... \tAverage Loss: 0.025\n",
            "Round: 25... \tAverage Loss: 0.031\n",
            "Round: 26... \tAverage Loss: 0.029\n",
            "Round: 27... \tAverage Loss: 0.027\n",
            "Round: 28... \tAverage Loss: 0.026\n",
            "Round: 29... \tAverage Loss: 0.024\n",
            "Round: 30... \tAverage Loss: 0.02\n",
            "Round: 31... \tAverage Loss: 0.023\n",
            "Round: 32... \tAverage Loss: 0.025\n",
            "Round: 33... \tAverage Loss: 0.025\n",
            "Round: 34... \tAverage Loss: 0.017\n",
            "Round: 35... \tAverage Loss: 0.021\n",
            "Round: 36... \tAverage Loss: 0.028\n",
            "Round: 37... \tAverage Loss: 0.025\n",
            "Round: 38... \tAverage Loss: 0.019\n",
            "Round: 39... \tAverage Loss: 0.019\n",
            "Round: 40... \tAverage Loss: 0.024\n",
            "Round: 41... \tAverage Loss: 0.015\n",
            "Round: 42... \tAverage Loss: 0.019\n",
            "Round: 43... \tAverage Loss: 0.018\n",
            "Round: 44... \tAverage Loss: 0.016\n",
            "Round: 45... \tAverage Loss: 0.021\n",
            "Round: 46... \tAverage Loss: 0.023\n",
            "Round: 47... \tAverage Loss: 0.014\n",
            "Round: 48... \tAverage Loss: 0.021\n",
            "Round: 49... \tAverage Loss: 0.019\n",
            "Round: 50... \tAverage Loss: 0.014\n"
          ],
          "name": "stdout"
        },
        {
          "output_type": "display_data",
          "data": {
            "image/png": "[encoded data removed]",
            "text/plain": [
              "<Figure size 432x288 with 1 Axes>"
            ]
          },
          "metadata": {
            "tags": [],
            "needs_background": "light"
          }
        },
        {
          "output_type": "display_data",
          "data": {
            "image/png": "[encoded data removed]",
            "text/plain": [
              "<Figure size 432x288 with 1 Axes>"
            ]
          },
          "metadata": {
            "tags": [],
            "needs_background": "light"
          }
        },
        {
          "output_type": "display_data",
          "data": {
            "image/png": "[encoded data removed]",
            "text/plain": [
              "<Figure size 432x288 with 1 Axes>"
            ]
          },
          "metadata": {
            "tags": [],
            "needs_background": "light"
          }
        },
        {
          "output_type": "stream",
          "text": [
            "Training Done!\n",
            "Total time taken to Train: 639.328914642334\n",
            "\n",
            "\n"
          ],
          "name": "stdout"
        }
      ]
    },
    {
      "cell_type": "markdown",
      "metadata": {
        "id": "jmuQYPbF2mes"
      },
      "source": [
        "### Test"
      ]
    },
    {
      "cell_type": "code",
      "metadata": {
        "id": "0tKMlJyF2nGN",
        "colab": {
          "base_uri": "https://localhost:8080/"
        },
        "outputId": "8aa2665d-7aa7-4a91-94c5-1e4fa300a5f9"
      },
      "source": [
        "criterion = nn.CrossEntropyLoss()\n",
        "acc, loss = testing(mnist_mlp_non_iid_trained, mnist_data_test, 128, criterion, num_classes, classes_test, True)"
      ],
      "execution_count": 20,
      "outputs": [
        {
          "output_type": "stream",
          "text": [
            "Test Loss: 0.088758\n",
            "\n",
            "Test Accuracy of     0: 98% (75/76)\n",
            "Test Accuracy of     1: 95% (86/90)\n",
            "Test Accuracy of     2: 97% (89/91)\n",
            "Test Accuracy of     3: 98% (72/73)\n",
            "Test Accuracy of     4: 97% (87/89)\n",
            "Test Accuracy of     5: 95% (65/68)\n",
            "Test Accuracy of     6: 98% (61/62)\n",
            "Test Accuracy of     7: 95% (77/81)\n",
            "Test Accuracy of     8: 98% (76/77)\n",
            "Test Accuracy of     9: 97% (81/83)\n",
            "\n",
            "Final Test  Accuracy: 97.342 (769.0/790.0)\n"
          ],
          "name": "stdout"
        }
      ]
    },
    {
      "cell_type": "code",
      "metadata": {
        "id": "WEA7Q0Y3C1O0"
      },
      "source": [
        "hyperparams = {'rounds': rounds,\n",
        "               'C': C,\n",
        "               'K': K,\n",
        "               'E': E,\n",
        "               'batch_size': batch_size,\n",
        "               'lr': lr,\n",
        "               }\n",
        "\n",
        "log_dict['MNIST MLP on Non IID'] = {'train_loss': train_loss_multiple_runs, \n",
        "                                'test_loss': test_loss_multiple_runs, \n",
        "                                'test_accuracy': test_accuracy_multiple_runs,\n",
        "                                'hyperparams': hyperparams,\n",
        "                                }"
      ],
      "execution_count": 21,
      "outputs": []
    },
    {
      "cell_type": "markdown",
      "metadata": {
        "id": "X1KHL7MIC2Xn"
      },
      "source": [
        "##Pickle Log"
      ]
    },
    {
      "cell_type": "code",
      "metadata": {
        "id": "IIC4XdUHC4Jh"
      },
      "source": [
        "import pickle\n",
        " \n",
        "with open(path + 'Skewness2shards_FedAvg.pkl', 'wb') as file:\n",
        "  pickle.dump(log_dict, file)"
      ],
      "execution_count": 22,
      "outputs": []
    },
    {
      "cell_type": "code",
      "metadata": {
        "colab": {
          "base_uri": "https://localhost:8080/"
        },
        "id": "QlUgHrHjDw3z",
        "outputId": "39c098d9-70c7-4b8f-b456-ba1cab29f4aa"
      },
      "source": [
        "log_dict"
      ],
      "execution_count": 23,
      "outputs": [
        {
          "output_type": "execute_result",
          "data": {
            "text/plain": [
              "{'MNIST MLP on Non IID': {'hyperparams': {'C': 0.1,\n",
              "   'E': 5,\n",
              "   'K': 100,\n",
              "   'batch_size': 10,\n",
              "   'lr': 0.05,\n",
              "   'rounds': 50},\n",
              "  'test_accuracy': [[65.82278481012658,\n",
              "    84.43037974683544,\n",
              "    90.25316455696202,\n",
              "    91.89873417721519,\n",
              "    92.78481012658227,\n",
              "    92.9113924050633,\n",
              "    93.54430379746836,\n",
              "    94.17721518987342,\n",
              "    94.43037974683544,\n",
              "    95.9493670886076,\n",
              "    94.9367088607595,\n",
              "    95.56962025316456,\n",
              "    95.82278481012658,\n",
              "    95.18987341772151,\n",
              "    95.18987341772151,\n",
              "    95.0632911392405,\n",
              "    95.31645569620254,\n",
              "    96.20253164556962,\n",
              "    95.82278481012658,\n",
              "    95.82278481012658,\n",
              "    96.07594936708861,\n",
              "    96.20253164556962,\n",
              "    96.07594936708861,\n",
              "    96.70886075949367,\n",
              "    96.32911392405063,\n",
              "    96.9620253164557,\n",
              "    96.58227848101266,\n",
              "    96.83544303797468,\n",
              "    97.21518987341773,\n",
              "    97.34177215189874,\n",
              "    96.58227848101266,\n",
              "    97.59493670886076,\n",
              "    96.70886075949367,\n",
              "    96.70886075949367,\n",
              "    97.0886075949367,\n",
              "    96.83544303797468,\n",
              "    97.0886075949367,\n",
              "    97.46835443037975,\n",
              "    97.0886075949367,\n",
              "    96.83544303797468,\n",
              "    96.70886075949367,\n",
              "    96.9620253164557,\n",
              "    97.21518987341773,\n",
              "    97.59493670886076,\n",
              "    96.83544303797468,\n",
              "    97.21518987341773,\n",
              "    97.46835443037975,\n",
              "    97.9746835443038,\n",
              "    97.9746835443038,\n",
              "    98.35443037974683],\n",
              "   [66.20253164556962,\n",
              "    87.46835443037975,\n",
              "    92.0253164556962,\n",
              "    91.51898734177215,\n",
              "    92.40506329113924,\n",
              "    92.65822784810126,\n",
              "    92.9113924050633,\n",
              "    94.68354430379746,\n",
              "    94.9367088607595,\n",
              "    94.55696202531645,\n",
              "    95.44303797468355,\n",
              "    95.82278481012658,\n",
              "    95.56962025316456,\n",
              "    95.18987341772151,\n",
              "    95.18987341772151,\n",
              "    96.58227848101266,\n",
              "    96.83544303797468,\n",
              "    96.45569620253164,\n",
              "    96.83544303797468,\n",
              "    97.0886075949367,\n",
              "    96.58227848101266,\n",
              "    96.70886075949367,\n",
              "    96.45569620253164,\n",
              "    96.70886075949367,\n",
              "    96.9620253164557,\n",
              "    96.58227848101266,\n",
              "    96.70886075949367,\n",
              "    97.21518987341773,\n",
              "    97.34177215189874,\n",
              "    96.45569620253164,\n",
              "    97.34177215189874,\n",
              "    97.46835443037975,\n",
              "    97.84810126582279,\n",
              "    96.9620253164557,\n",
              "    97.0886075949367,\n",
              "    97.46835443037975,\n",
              "    97.72151898734177,\n",
              "    97.72151898734177,\n",
              "    97.0886075949367,\n",
              "    97.0886075949367,\n",
              "    97.0886075949367,\n",
              "    97.46835443037975,\n",
              "    97.34177215189874,\n",
              "    97.72151898734177,\n",
              "    98.10126582278481,\n",
              "    97.84810126582279,\n",
              "    97.46835443037975,\n",
              "    97.34177215189874,\n",
              "    97.34177215189874,\n",
              "    97.34177215189874]],\n",
              "  'test_loss': [[1.1768014328956604,\n",
              "    0.4642607610464096,\n",
              "    0.3128114560127258,\n",
              "    0.2565105484962463,\n",
              "    0.24149089032411575,\n",
              "    0.23273148849010467,\n",
              "    0.21991659153401852,\n",
              "    0.18921928583085537,\n",
              "    0.1798709597915411,\n",
              "    0.14890699562877416,\n",
              "    0.16320513689517974,\n",
              "    0.15424347338825464,\n",
              "    0.1470302681542933,\n",
              "    0.14550604045689106,\n",
              "    0.13573610009253026,\n",
              "    0.13810842727422715,\n",
              "    0.13383788539245725,\n",
              "    0.11987110029011964,\n",
              "    0.12574956788346173,\n",
              "    0.12014348157420754,\n",
              "    0.11884068728238344,\n",
              "    0.11577531588822604,\n",
              "    0.11021965443231166,\n",
              "    0.10633846212103963,\n",
              "    0.10262755708694458,\n",
              "    0.09820604080483318,\n",
              "    0.10669715854413807,\n",
              "    0.10351761160567403,\n",
              "    0.09951880641430616,\n",
              "    0.10385799296684563,\n",
              "    0.09796737843751907,\n",
              "    0.09726756483241916,\n",
              "    0.10159792603328824,\n",
              "    0.10341701273433865,\n",
              "    0.10491919405460358,\n",
              "    0.10095324864424765,\n",
              "    0.10420777707397938,\n",
              "    0.08974946495704353,\n",
              "    0.09409313913676888,\n",
              "    0.09377799857594073,\n",
              "    0.09596718817297369,\n",
              "    0.09063592920899391,\n",
              "    0.09186167903393506,\n",
              "    0.08998495518416166,\n",
              "    0.08579176474995912,\n",
              "    0.08802760225627572,\n",
              "    0.08630569943748415,\n",
              "    0.08219837222062051,\n",
              "    0.08127147375931963,\n",
              "    0.0808359546679072],\n",
              "   [1.118703322315216,\n",
              "    0.4087536190748215,\n",
              "    0.30391953175067904,\n",
              "    0.29317847343683245,\n",
              "    0.25532767014503477,\n",
              "    0.25985052201747894,\n",
              "    0.204871616114676,\n",
              "    0.1916870564609766,\n",
              "    0.1751239977389574,\n",
              "    0.16937950474768876,\n",
              "    0.167912284540385,\n",
              "    0.15325418335795402,\n",
              "    0.14086814881563187,\n",
              "    0.1616325352728367,\n",
              "    0.13344120826870204,\n",
              "    0.12659379221871495,\n",
              "    0.13879882242530583,\n",
              "    0.12114406321272254,\n",
              "    0.11981246596574784,\n",
              "    0.13148586080297828,\n",
              "    0.11953851953856647,\n",
              "    0.11738886756747961,\n",
              "    0.12068364394567907,\n",
              "    0.11309647917486727,\n",
              "    0.11613214040175081,\n",
              "    0.1134794589035213,\n",
              "    0.11046245252005756,\n",
              "    0.10412694267891347,\n",
              "    0.10492443700097501,\n",
              "    0.1043325911115855,\n",
              "    0.10198457970134914,\n",
              "    0.10112354142591357,\n",
              "    0.09970856530014426,\n",
              "    0.09725929378401488,\n",
              "    0.10544546621572226,\n",
              "    0.10167761134169996,\n",
              "    0.09739637278839945,\n",
              "    0.09632998498519882,\n",
              "    0.10794331568237395,\n",
              "    0.10417214204855263,\n",
              "    0.10180148955136538,\n",
              "    0.09217408715421334,\n",
              "    0.09778661387246101,\n",
              "    0.09308856167141348,\n",
              "    0.08792073870021849,\n",
              "    0.08580355672985315,\n",
              "    0.08933818166451529,\n",
              "    0.08662538182586431,\n",
              "    0.09027239417508244,\n",
              "    0.08875760778505355]],\n",
              "  'train_loss': [[0.4659717623561931,\n",
              "    0.1414808197293629,\n",
              "    0.10251922316230774,\n",
              "    0.09607372792461744,\n",
              "    0.06690717334363944,\n",
              "    0.06449354979156668,\n",
              "    0.075302659129924,\n",
              "    0.056304799599030966,\n",
              "    0.044297395500484074,\n",
              "    0.05122937690341496,\n",
              "    0.03657541186189739,\n",
              "    0.042668837989829386,\n",
              "    0.0375003917269302,\n",
              "    0.04317258227474091,\n",
              "    0.04069320381563664,\n",
              "    0.0319291917580869,\n",
              "    0.039757931365958635,\n",
              "    0.03996433769733896,\n",
              "    0.02658802983827127,\n",
              "    0.03463233689362956,\n",
              "    0.03318029223725353,\n",
              "    0.025681528422832646,\n",
              "    0.0324044399148482,\n",
              "    0.024791126147810892,\n",
              "    0.030720804673500118,\n",
              "    0.03180036059911936,\n",
              "    0.02788617982068247,\n",
              "    0.02460973284439268,\n",
              "    0.021490026631132874,\n",
              "    0.014526615711593877,\n",
              "    0.022597208555410836,\n",
              "    0.020378312972606862,\n",
              "    0.021518095547694772,\n",
              "    0.02124856937690068,\n",
              "    0.02194627737770063,\n",
              "    0.025025925867312775,\n",
              "    0.014902085670708439,\n",
              "    0.027604792131857347,\n",
              "    0.022673248452258706,\n",
              "    0.01974302307131135,\n",
              "    0.02365404343361653,\n",
              "    0.02597525319579457,\n",
              "    0.014394495468681573,\n",
              "    0.018184786824558465,\n",
              "    0.01874806408638782,\n",
              "    0.01474236243055839,\n",
              "    0.01664388996717726,\n",
              "    0.017236200762236083,\n",
              "    0.020647777931007416,\n",
              "    0.01850116833357893],\n",
              "   [0.42717485205188976,\n",
              "    0.15634933828188516,\n",
              "    0.10552974006994434,\n",
              "    0.09610996932726328,\n",
              "    0.08756945731962698,\n",
              "    0.06321913171409081,\n",
              "    0.061641079236266404,\n",
              "    0.056142420924846184,\n",
              "    0.06110191458502353,\n",
              "    0.05711408571317224,\n",
              "    0.040956478241662354,\n",
              "    0.04955475742002659,\n",
              "    0.04533753642279688,\n",
              "    0.04136834002721904,\n",
              "    0.03223298690051115,\n",
              "    0.04179188553693791,\n",
              "    0.032324163845438306,\n",
              "    0.03795084927176852,\n",
              "    0.03340348030389748,\n",
              "    0.029377458486151604,\n",
              "    0.02991534319450375,\n",
              "    0.03138111049436172,\n",
              "    0.02687864802540741,\n",
              "    0.02489383446947531,\n",
              "    0.030896867189712334,\n",
              "    0.02923849450872685,\n",
              "    0.02669110135858,\n",
              "    0.02606611185427459,\n",
              "    0.02392683354411057,\n",
              "    0.02049036874482893,\n",
              "    0.022596864022338327,\n",
              "    0.024963666226636063,\n",
              "    0.025080643654220726,\n",
              "    0.017450888231937522,\n",
              "    0.021072621908502585,\n",
              "    0.02755254815081602,\n",
              "    0.024800021469357204,\n",
              "    0.0189251624767769,\n",
              "    0.019178664555137972,\n",
              "    0.024061694932371137,\n",
              "    0.015300195825972992,\n",
              "    0.018853854554494058,\n",
              "    0.018074041426706773,\n",
              "    0.016192528475392938,\n",
              "    0.020952697611995592,\n",
              "    0.02309993963036747,\n",
              "    0.013725581424762785,\n",
              "    0.021497936358907944,\n",
              "    0.018515436477026793,\n",
              "    0.014003377986431512]]}}"
            ]
          },
          "metadata": {
            "tags": []
          },
          "execution_count": 23
        }
      ]
    },
    {
      "cell_type": "code",
      "metadata": {
        "id": "ntJddbyZD6Kh"
      },
      "source": [
        ""
      ],
      "execution_count": null,
      "outputs": []
    }
  ]
}