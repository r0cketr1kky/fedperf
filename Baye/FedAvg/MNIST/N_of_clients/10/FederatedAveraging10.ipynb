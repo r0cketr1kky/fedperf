{
  "nbformat": 4,
  "nbformat_minor": 0,
  "metadata": {
    "accelerator": "GPU",
    "colab": {
      "name": "FederatedAveraging10.ipynb",
      "provenance": [],
      "collapsed_sections": [],
      "machine_shape": "hm"
    },
    "kernelspec": {
      "name": "python3",
      "display_name": "Python 3"
    },
    "language_info": {
      "name": "python"
    }
  },
  "cells": [
    {
      "cell_type": "markdown",
      "metadata": {
        "id": "view-in-github"
      },
      "source": [
        "<a href=\"https://colab.research.google.com/github/tushar-semwal/fedperf/blob/main/Vineeth/Local_Rounds/FedAvg/FederatedAveraging.ipynb\" target=\"_parent\"><img src=\"https://colab.research.google.com/assets/colab-badge.svg\" alt=\"Open In Colab\"/></a>"
      ]
    },
    {
      "cell_type": "code",
      "metadata": {
        "id": "yKcpjZLrQQJV"
      },
      "source": [
        "%%capture output\n",
        "try:\n",
        "    from google.colab import drive\n",
        "    drive.mount('/content/drive')\n",
        "\n",
        "    import os\n",
        "    path = '/content/drive/MyDrive/Colab Notebooks/FedPerf/'\n",
        "    os.makedirs(path, exist_ok=True)\n",
        "except:\n",
        "    path = './'"
      ],
      "execution_count": 53,
      "outputs": []
    },
    {
      "cell_type": "markdown",
      "metadata": {
        "id": "-0_nKpfq2h1R"
      },
      "source": [
        "## Imports"
      ]
    },
    {
      "cell_type": "code",
      "metadata": {
        "colab": {
          "base_uri": "https://localhost:8080/"
        },
        "id": "DLLNM9X2JbQ8",
        "outputId": "2a38e58a-f54b-4c19-c270-4ec5ed2e6a60"
      },
      "source": [
        "%load_ext tensorboard\n",
        "import os\n",
        "import numpy as np\n",
        "import matplotlib\n",
        "import matplotlib.pyplot as plt\n",
        "import copy\n",
        "import random\n",
        "import time\n",
        "\n",
        "import torch\n",
        "import torch.nn as nn\n",
        "import torch.nn.functional as F\n",
        "\n",
        "from torch.utils.data import Dataset, DataLoader\n",
        "from torch.utils.tensorboard import SummaryWriter\n",
        "from torchvision import transforms, utils, datasets\n",
        "from torchsummary import summary\n",
        "\n",
        "\n",
        "# Check assigned GPU\n",
        "gpu_info = !nvidia-smi\n",
        "gpu_info = '\\n'.join(gpu_info)\n",
        "if gpu_info.find('failed') >= 0:\n",
        "  print('Select the Runtime > \"Change runtime type\" menu to enable a GPU accelerator, ')\n",
        "  print('and then re-execute this cell.')\n",
        "else:\n",
        "  print(gpu_info)\n",
        "\n",
        "# set manual seed for reproducibility\n",
        "seed = 42\n",
        "\n",
        "# general reproducibility\n",
        "random.seed(seed)\n",
        "np.random.seed(seed)\n",
        "torch.manual_seed(seed)\n",
        "\n",
        "# gpu training specific\n",
        "torch.backends.cudnn.deterministic = True\n",
        "torch.backends.cudnn.benchmark = False"
      ],
      "execution_count": 54,
      "outputs": [
        {
          "output_type": "stream",
          "text": [
            "The tensorboard extension is already loaded. To reload it, use:\n",
            "  %reload_ext tensorboard\n",
            "Wed Apr 21 10:24:50 2021       \n",
            "+-----------------------------------------------------------------------------+\n",
            "| NVIDIA-SMI 460.67       Driver Version: 460.32.03    CUDA Version: 11.2     |\n",
            "|-------------------------------+----------------------+----------------------+\n",
            "| GPU  Name        Persistence-M| Bus-Id        Disp.A | Volatile Uncorr. ECC |\n",
            "| Fan  Temp  Perf  Pwr:Usage/Cap|         Memory-Usage | GPU-Util  Compute M. |\n",
            "|                               |                      |               MIG M. |\n",
            "|===============================+======================+======================|\n",
            "|   0  Tesla T4            Off  | 00000000:00:04.0 Off |                    0 |\n",
            "| N/A   63C    P0    30W /  70W |   1214MiB / 15109MiB |      0%      Default |\n",
            "|                               |                      |                  N/A |\n",
            "+-------------------------------+----------------------+----------------------+\n",
            "                                                                               \n",
            "+-----------------------------------------------------------------------------+\n",
            "| Processes:                                                                  |\n",
            "|  GPU   GI   CI        PID   Type   Process name                  GPU Memory |\n",
            "|        ID   ID                                                   Usage      |\n",
            "|=============================================================================|\n",
            "+-----------------------------------------------------------------------------+\n"
          ],
          "name": "stdout"
        }
      ]
    },
    {
      "cell_type": "markdown",
      "metadata": {
        "id": "NY4eWzGiL6Mj"
      },
      "source": [
        "## Load the MNIST Dataset"
      ]
    },
    {
      "cell_type": "code",
      "metadata": {
        "id": "G649tjTXLL8F"
      },
      "source": [
        "# create transforms\n",
        "# We will just convert to tensor and normalize since no special transforms are mentioned in the paper\n",
        "transforms_mnist = transforms.Compose([\n",
        "                                       transforms.ToTensor(),\n",
        "                                       transforms.Normalize((0.1307,), (0.3081,))\n",
        "                                       ])\n",
        "\n",
        "mnist_data_train = datasets.MNIST('./data/mnist/', train=True, download=True, transform=transforms_mnist)\n",
        "mnist_data_test = datasets.MNIST('../data/mnist/', train=False, download=True, transform=transforms_mnist)"
      ],
      "execution_count": 55,
      "outputs": []
    },
    {
      "cell_type": "code",
      "metadata": {
        "colab": {
          "base_uri": "https://localhost:8080/"
        },
        "id": "dm9usjn2vFkL",
        "outputId": "4b61a13d-5e78-4406-b27c-7f06936b31c7"
      },
      "source": [
        "classes = np.array(list(mnist_data_train.class_to_idx.values()))\n",
        "classes_test = np.array(list(mnist_data_test.class_to_idx.values()))\n",
        "num_classes = len(classes_test)\n",
        "print(\"Classes: {} \\tType: {}\".format(classes, type(classes)))\n",
        "print(\"Classes Test: {} \\tType: {}\".format(classes_test, type(classes)))\n"
      ],
      "execution_count": 56,
      "outputs": [
        {
          "output_type": "stream",
          "text": [
            "Classes: [0 1 2 3 4 5 6 7 8 9] \tType: <class 'numpy.ndarray'>\n",
            "Classes Test: [0 1 2 3 4 5 6 7 8 9] \tType: <class 'numpy.ndarray'>\n"
          ],
          "name": "stdout"
        }
      ]
    },
    {
      "cell_type": "code",
      "metadata": {
        "colab": {
          "base_uri": "https://localhost:8080/"
        },
        "id": "9lvJt3Ofv2SO",
        "outputId": "c7a51637-8413-456b-c474-4a203459c813"
      },
      "source": [
        "print(\"Image Shape: {}\".format(mnist_data_train.data[0].size()))"
      ],
      "execution_count": 57,
      "outputs": [
        {
          "output_type": "stream",
          "text": [
            "Image Shape: torch.Size([28, 28])\n"
          ],
          "name": "stdout"
        }
      ]
    },
    {
      "cell_type": "markdown",
      "metadata": {
        "id": "jCOONkg-zV7Y"
      },
      "source": [
        "## Visualize Data"
      ]
    },
    {
      "cell_type": "code",
      "metadata": {
        "id": "R9MK03TZw6Qs"
      },
      "source": [
        "def imshow(img):\n",
        "\timg = img/2 + 0.5 #unnormalize the image\n",
        "\tplt.imshow(img, cmap='gray') # convert from tensor to image"
      ],
      "execution_count": 58,
      "outputs": []
    },
    {
      "cell_type": "code",
      "metadata": {
        "id": "gMJ0Kx4Kw-_H"
      },
      "source": [
        "def visualize(dataset):\n",
        "  figure = plt.figure(figsize=(25,4))\n",
        "  for i in range(20):\n",
        "    axis = figure.add_subplot(2, 20/2, i+1, xticks=[], yticks=[])\n",
        "    data = dataset.data[i]\n",
        "    data = data.numpy()\n",
        "\n",
        "    target = dataset.targets[i]\n",
        "    target = target.numpy()\n",
        "    imshow(data)\n",
        "    axis.set_title(target)\n"
      ],
      "execution_count": 59,
      "outputs": []
    },
    {
      "cell_type": "code",
      "metadata": {
        "colab": {
          "base_uri": "https://localhost:8080/",
          "height": 268
        },
        "id": "8bPOwKg10Ro7",
        "outputId": "83f141ad-0975-4a21-cca8-de98a732e54e"
      },
      "source": [
        "visualize(mnist_data_train)"
      ],
      "execution_count": 60,
      "outputs": [
        {
          "output_type": "display_data",
          "data": {
            "image/png": "[encoded data removed]",
            "text/plain": [
              "<Figure size 1800x288 with 20 Axes>"
            ]
          },
          "metadata": {
            "tags": []
          }
        }
      ]
    },
    {
      "cell_type": "code",
      "metadata": {
        "colab": {
          "base_uri": "https://localhost:8080/",
          "height": 268
        },
        "id": "RKoh5Cf70UYu",
        "outputId": "1b4bc658-7d4f-41d6-cb64-1974d26e3029"
      },
      "source": [
        "visualize(mnist_data_test)"
      ],
      "execution_count": 61,
      "outputs": [
        {
          "output_type": "display_data",
          "data": {
            "image/png": "[encoded data removed]",
            "text/plain": [
              "<Figure size 1800x288 with 20 Axes>"
            ]
          },
          "metadata": {
            "tags": []
          }
        }
      ]
    },
    {
      "cell_type": "markdown",
      "metadata": {
        "id": "ctjRsETiO1qO"
      },
      "source": [
        "## Partitioning the Data (IID and non-IID)"
      ]
    },
    {
      "cell_type": "code",
      "metadata": {
        "id": "3_v8lyrgO5dD"
      },
      "source": [
        "def iid_partition(dataset, clients):\n",
        "  \"\"\"\n",
        "  I.I.D paritioning of data over clients\n",
        "  Shuffle the data\n",
        "  Split it between clients\n",
        "  \n",
        "  params:\n",
        "    - dataset (torch.utils.Dataset): Dataset containing the MNIST Images\n",
        "    - clients (int): Number of Clients to split the data between\n",
        "\n",
        "  returns:\n",
        "    - Dictionary of image indexes for each client\n",
        "  \"\"\"\n",
        "\n",
        "  num_items_per_client = int(len(dataset)/clients)\n",
        "  client_dict = {}\n",
        "  image_idxs = [i for i in range(len(dataset))]\n",
        "\n",
        "  for i in range(clients):\n",
        "    client_dict[i] = set(np.random.choice(image_idxs, num_items_per_client, replace=False))\n",
        "    image_idxs = list(set(image_idxs) - client_dict[i])\n",
        "\n",
        "  return client_dict"
      ],
      "execution_count": 62,
      "outputs": []
    },
    {
      "cell_type": "code",
      "metadata": {
        "id": "4zMdliGMQoSl"
      },
      "source": [
        "def non_iid_partition(dataset, clients, total_shards, shards_size, num_shards_per_client):\n",
        "  \"\"\"\n",
        "  non I.I.D parititioning of data over clients\n",
        "  Sort the data by the digit label\n",
        "  Divide the data into N shards of size S\n",
        "  Each of the clients will get X shards\n",
        "\n",
        "  params:\n",
        "    - dataset (torch.utils.Dataset): Dataset containing the MNIST Images\n",
        "    - clients (int): Number of Clients to split the data between\n",
        "    - total_shards (int): Number of shards to partition the data in\n",
        "    - shards_size (int): Size of each shard \n",
        "    - num_shards_per_client (int): Number of shards of size shards_size that each client receives\n",
        "\n",
        "  returns:\n",
        "    - Dictionary of image indexes for each client\n",
        "  \"\"\"\n",
        "  \n",
        "  shard_idxs = [i for i in range(total_shards)]\n",
        "  client_dict = {i: np.array([], dtype='int64') for i in range(clients)}\n",
        "  idxs = np.arange(len(dataset))\n",
        "  data_labels = dataset.targets.numpy()\n",
        "\n",
        "  # sort the labels\n",
        "  label_idxs = np.vstack((idxs, data_labels))\n",
        "  label_idxs = label_idxs[:, label_idxs[1,:].argsort()]\n",
        "  idxs = label_idxs[0,:]\n",
        "\n",
        "  # divide the data into total_shards of size shards_size\n",
        "  # assign num_shards_per_client to each client\n",
        "  for i in range(clients):\n",
        "    rand_set = set(np.random.choice(shard_idxs, num_shards_per_client, replace=False))\n",
        "    shard_idxs = list(set(shard_idxs) - rand_set)\n",
        "\n",
        "    for rand in rand_set:\n",
        "      client_dict[i] = np.concatenate((client_dict[i], idxs[rand*shards_size:(rand+1)*shards_size]), axis=0)\n",
        "  \n",
        "  return client_dict\n",
        "\n",
        "\n",
        "\n"
      ],
      "execution_count": 63,
      "outputs": []
    },
    {
      "cell_type": "markdown",
      "metadata": {
        "id": "PTfxv8kFoGAy"
      },
      "source": [
        "## Models"
      ]
    },
    {
      "cell_type": "code",
      "metadata": {
        "id": "CvoDNFKbZST5"
      },
      "source": [
        "class MNIST_2NN(nn.Module):\n",
        "  \"\"\"\n",
        "  A simple multilayer-perceptron with 2-hidden layers with 200 units each\n",
        "  using ReLu activations\n",
        "\n",
        "  Total Expected Params: 199,210\n",
        "  \"\"\"\n",
        "  def __init__(self):\n",
        "    super(MNIST_2NN, self).__init__()\n",
        "\n",
        "    self.fc1 = nn.Linear(28*28, 200)\n",
        "    self.fc2 = nn.Linear(200, 200)\n",
        "    self.fc3 = nn.Linear(200, 10)\n",
        "\n",
        "  def forward(self, x):\n",
        "    x = torch.flatten(x, 1)\n",
        "    x = F.relu(self.fc1(x))\n",
        "    x = F.relu(self.fc2(x))\n",
        "    out = self.fc3(x)\n",
        "\n",
        "    return x"
      ],
      "execution_count": 64,
      "outputs": []
    },
    {
      "cell_type": "code",
      "metadata": {
        "id": "ut1hZ8x3qYPZ"
      },
      "source": [
        "class MNIST_CNN(nn.Module):\n",
        "  \"\"\"\n",
        "  CNN with two 5x5 convolution lauers(the first with 32 channels, second with 64,\n",
        "  each followed with 2x2 max pooling), a fully connected layer with 512 uunits and \n",
        "  ReLu activation, and the final Softmax output layer\n",
        "\n",
        "  Total Expected Params: 1,663,370\n",
        "  \"\"\"\n",
        "  def __init__(self):\n",
        "    super(MNIST_CNN, self).__init__()\n",
        "\n",
        "    self.conv1 = nn.Conv2d(1, 32, kernel_size=5)\n",
        "    self.conv2 = nn.Conv2d(32, 64, kernel_size=5)\n",
        "    \n",
        "    self.pool = nn.MaxPool2d(2,2)\n",
        "    self.dropout = nn.Dropout(p=0.2)\n",
        "\n",
        "    self.fc1 = nn.Linear(1024, 512)\n",
        "    self.out = nn.Linear(512, 10)\n",
        "\n",
        "  def forward(self, x):\n",
        "    x = self.pool(F.relu(self.conv1(x)))\n",
        "    x = self.pool(F.relu(self.conv2(x)))\n",
        "    x = self.dropout(x)\n",
        "    x = torch.flatten(x, 1)\n",
        "    x = F.relu(self.fc1(x))\n",
        "    x = self.out(x)\n",
        "    out = F.log_softmax(x, dim=1)\n",
        "\n",
        "    return out"
      ],
      "execution_count": 65,
      "outputs": []
    },
    {
      "cell_type": "markdown",
      "metadata": {
        "id": "uVv4HA9HuLtr"
      },
      "source": [
        "### Print Model Summaries"
      ]
    },
    {
      "cell_type": "code",
      "metadata": {
        "colab": {
          "base_uri": "https://localhost:8080/"
        },
        "id": "I5oTH710sJEt",
        "outputId": "b77eaa13-5e29-4f5d-8a7a-805e57576a8c"
      },
      "source": [
        "mnist_mlp = MNIST_2NN()\n",
        "mnist_cnn = MNIST_CNN()\n",
        "\n",
        "if torch.cuda.is_available():\n",
        "  mnist_mlp.cuda()\n",
        "  mnist_cnn.cuda()\n",
        "\n",
        "print(\"MNIST MLP SUMMARY\")\n",
        "print(summary(mnist_mlp, (28,28)))\n",
        "\n",
        "print(\"\\nMNIST CNN SUMMARY\")\n",
        "print(summary(mnist_cnn, (1, 28,28)))"
      ],
      "execution_count": 66,
      "outputs": [
        {
          "output_type": "stream",
          "text": [
            "MNIST MLP SUMMARY\n",
            "----------------------------------------------------------------\n",
            "        Layer (type)               Output Shape         Param #\n",
            "================================================================\n",
            "            Linear-1                  [-1, 200]         157,000\n",
            "            Linear-2                  [-1, 200]          40,200\n",
            "            Linear-3                   [-1, 10]           2,010\n",
            "================================================================\n",
            "Total params: 199,210\n",
            "Trainable params: 199,210\n",
            "Non-trainable params: 0\n",
            "----------------------------------------------------------------\n",
            "Input size (MB): 0.00\n",
            "Forward/backward pass size (MB): 0.00\n",
            "Params size (MB): 0.76\n",
            "Estimated Total Size (MB): 0.77\n",
            "----------------------------------------------------------------\n",
            "None\n",
            "\n",
            "MNIST CNN SUMMARY\n",
            "----------------------------------------------------------------\n",
            "        Layer (type)               Output Shape         Param #\n",
            "================================================================\n",
            "            Conv2d-1           [-1, 32, 24, 24]             832\n",
            "         MaxPool2d-2           [-1, 32, 12, 12]               0\n",
            "            Conv2d-3             [-1, 64, 8, 8]          51,264\n",
            "         MaxPool2d-4             [-1, 64, 4, 4]               0\n",
            "           Dropout-5             [-1, 64, 4, 4]               0\n",
            "            Linear-6                  [-1, 512]         524,800\n",
            "            Linear-7                   [-1, 10]           5,130\n",
            "================================================================\n",
            "Total params: 582,026\n",
            "Trainable params: 582,026\n",
            "Non-trainable params: 0\n",
            "----------------------------------------------------------------\n",
            "Input size (MB): 0.00\n",
            "Forward/backward pass size (MB): 0.23\n",
            "Params size (MB): 2.22\n",
            "Estimated Total Size (MB): 2.45\n",
            "----------------------------------------------------------------\n",
            "None\n"
          ],
          "name": "stdout"
        }
      ]
    },
    {
      "cell_type": "markdown",
      "metadata": {
        "id": "gf_8XEXa-gZ7"
      },
      "source": [
        "## Federated Averaging"
      ]
    },
    {
      "cell_type": "markdown",
      "metadata": {
        "id": "L-aNdQsQ-Kvp"
      },
      "source": [
        "### Local Training (Client Update)\n",
        "\n",
        "Local training for the model on client side"
      ]
    },
    {
      "cell_type": "code",
      "metadata": {
        "id": "oX6OsQyO-Gz7"
      },
      "source": [
        "class CustomDataset(Dataset):\n",
        "  def __init__(self, dataset, idxs):\n",
        "      self.dataset = dataset\n",
        "      self.idxs = list(idxs)\n",
        "\n",
        "  def __len__(self):\n",
        "      return len(self.idxs)\n",
        "\n",
        "  def __getitem__(self, item):\n",
        "      image, label = self.dataset[self.idxs[item]]\n",
        "      return image, label\n",
        "\n",
        "\n",
        "class ClientUpdate(object):\n",
        "  def __init__(self, dataset, batchSize, learning_rate, epochs, idxs):\n",
        "    self.train_loader = DataLoader(CustomDataset(dataset, idxs), batch_size=batchSize, shuffle=True)\n",
        "\n",
        "    self.learning_rate = learning_rate\n",
        "    self.epochs = epochs\n",
        "\n",
        "  def train(self, model):\n",
        "    criterion = nn.CrossEntropyLoss()\n",
        "    optimizer = torch.optim.SGD(model.parameters(), lr=self.learning_rate, momentum=0.5)\n",
        "    # optimizer = torch.optim.Adam(model.parameters(), lr=self.learning_rate)\n",
        "\n",
        "    e_loss = []\n",
        "    for epoch in range(1, self.epochs+1):\n",
        "\n",
        "      train_loss = 0.0\n",
        "      model.train()\n",
        "      for data, labels in self.train_loader:\n",
        "\n",
        "        if torch.cuda.is_available():\n",
        "          data, labels = data.cuda(), labels.cuda()\n",
        "\n",
        "        # clear the gradients\n",
        "        optimizer.zero_grad()\n",
        "        # make a forward pass\n",
        "        output = model(data)\n",
        "        # calculate the loss\n",
        "        loss = criterion(output, labels)\n",
        "        # do a backwards pass\n",
        "        loss.backward()\n",
        "        # perform a single optimization step\n",
        "        optimizer.step()\n",
        "        # update training loss\n",
        "        train_loss += loss.item()*data.size(0)\n",
        "\n",
        "      # average losses\n",
        "      train_loss = train_loss/len(self.train_loader.dataset)\n",
        "      e_loss.append(train_loss)\n",
        "\n",
        "    total_loss = sum(e_loss)/len(e_loss)\n",
        "\n",
        "    return model.state_dict(), total_loss"
      ],
      "execution_count": 67,
      "outputs": []
    },
    {
      "cell_type": "markdown",
      "metadata": {
        "id": "Ukgh1DVHE2Ds"
      },
      "source": [
        "### Server Side Training\n",
        "\n",
        "Following Algorithm 1 from the paper"
      ]
    },
    {
      "cell_type": "code",
      "metadata": {
        "id": "1NF1e33BgpeL"
      },
      "source": [
        "def training(model, rounds, batch_size, lr, ds, ds_test, data_dict, C, K, E, plt_title, plt_color):\n",
        "  \"\"\"\n",
        "  Function implements the Federated Averaging Algorithm from the FedAvg paper.\n",
        "  Specifically, this function is used for the server side training and weight update\n",
        "\n",
        "  Params:\n",
        "    - model:           PyTorch model to train\n",
        "    - rounds:          Number of communication rounds for the client update\n",
        "    - batch_size:      Batch size for client update training\n",
        "    - lr:              Learning rate used for client update training\n",
        "    - ds:              Dataset used for training\n",
        "    - ds_test:         Dataset used for testing\n",
        "    - data_dict:       Type of data partition used for training (IID or non-IID)\n",
        "    - C:               Fraction of clients randomly chosen to perform computation on each round\n",
        "    - K:               Total number of clients\n",
        "    - E:               Number of training passes each client makes over its local dataset per round\n",
        "    - tb_writer_name:  Directory name to save the tensorboard logs\n",
        "  Returns:\n",
        "    - model:           Trained model on the server\n",
        "  \"\"\"\n",
        "\n",
        "  # global model weights\n",
        "  global_weights = model.state_dict()\n",
        "\n",
        "  # training loss\n",
        "  # train_accuracy = []\n",
        "  train_loss = []\n",
        "  test_accuracy = []\n",
        "  test_loss = []\n",
        "\n",
        "\n",
        "  # measure time\n",
        "  start = time.time()\n",
        "\n",
        "  for curr_round in range(1, rounds+1):\n",
        "    w, local_loss = [], []\n",
        "\n",
        "    m = max(int(C*K), 1)\n",
        "    \n",
        "    S_t = np.random.choice(range(K), m, replace=False)\n",
        "    for k in S_t:\n",
        "      local_update = ClientUpdate(dataset=ds, batchSize=batch_size, learning_rate=lr, epochs=E, idxs=data_dict[k])\n",
        "      weights, loss = local_update.train(model=copy.deepcopy(model))\n",
        "\n",
        "      w.append(copy.deepcopy(weights))\n",
        "      local_loss.append(copy.deepcopy(loss))\n",
        "\n",
        "    # updating the global weights\n",
        "    weights_avg = copy.deepcopy(w[0])\n",
        "    for k in weights_avg.keys():\n",
        "      for i in range(1, len(w)):\n",
        "        weights_avg[k] += w[i][k]\n",
        "\n",
        "      weights_avg[k] = torch.div(weights_avg[k], len(w))\n",
        "\n",
        "    global_weights = weights_avg\n",
        "\n",
        "    # move the updated weights to our model state dict\n",
        "    model.load_state_dict(global_weights)\n",
        "\n",
        "    # loss\n",
        "    loss_avg = sum(local_loss) / len(local_loss)\n",
        "    print('Round: {}... \\tAverage Loss: {}'.format(curr_round, round(loss_avg, 3)))\n",
        "    train_loss.append(loss_avg)\n",
        "\n",
        "    # test\n",
        "    test_criterion = nn.CrossEntropyLoss()\n",
        "    test_accuracy_current, test_loss_current =  testing(copy.deepcopy(model), ds_test, 128, test_criterion, num_classes, classes_test)\n",
        "    test_accuracy.append(test_accuracy_current)\n",
        "    test_loss.append(test_loss_current)\n",
        "\n",
        "  end = time.time()\n",
        "  \n",
        "  fig, ax = plt.subplots()\n",
        "  x_axis = np.arange(1, rounds+1)\n",
        "  y_axis = np.array(train_loss)\n",
        "  ax.plot(x_axis, y_axis, 'tab:'+plt_color)\n",
        "\n",
        "  ax.set(xlabel='Number of Rounds', ylabel='Train Loss',\n",
        "       title=plt_title)\n",
        "  ax.grid()\n",
        "  fig.savefig(plt_title+'_Train_loss.jpg', format='jpg')\n",
        "  plt.show()\n",
        "\n",
        "  fig, ax = plt.subplots()\n",
        "  x_axis = np.arange(1, rounds+1)\n",
        "  y_axis = np.array(test_loss)\n",
        "  ax.plot(x_axis, y_axis, 'tab:'+plt_color)\n",
        "\n",
        "  ax.set(xlabel='Number of Rounds', ylabel='Test Loss',\n",
        "       title=plt_title)\n",
        "  ax.grid()\n",
        "  fig.savefig(plt_title+'_Test_loss.jpg', format='jpg')\n",
        "  plt.show()\n",
        "\n",
        "  fig, ax = plt.subplots()\n",
        "  x_axis = np.arange(1, rounds+1)\n",
        "  y_axis = np.array(test_accuracy)\n",
        "  ax.plot(x_axis, y_axis, 'tab:'+plt_color)\n",
        "\n",
        "  ax.set(xlabel='Number of Rounds', ylabel='Test Accuracy',\n",
        "       title=plt_title)\n",
        "  ax.grid()\n",
        "  fig.savefig(plt_title+'_Test_Accuracy.jpg', format='jpg')\n",
        "  plt.show()\n",
        "  \n",
        "  print(\"Training Done!\")\n",
        "  print(\"Total time taken to Train: {}\\n\\n\".format(end-start))\n",
        "  \n",
        "  return model, train_loss, test_accuracy, test_loss"
      ],
      "execution_count": 68,
      "outputs": []
    },
    {
      "cell_type": "markdown",
      "metadata": {
        "id": "tUYyb4T-uXmF"
      },
      "source": [
        "## Testing Loop"
      ]
    },
    {
      "cell_type": "code",
      "metadata": {
        "id": "uCcIZmO5uan9"
      },
      "source": [
        "def testing(model, dataset, bs, criterion, num_classes, classes, print_info=False):\n",
        "  #test loss \n",
        "  test_loss = 0.0\n",
        "  correct_class = list(0. for i in range(num_classes))\n",
        "  total_class = list(0. for i in range(num_classes))\n",
        "\n",
        "  test_loader = DataLoader(dataset, batch_size=bs)\n",
        "  l = len(test_loader)\n",
        "  model.eval()\n",
        "  for data, labels in test_loader:\n",
        "\n",
        "    if torch.cuda.is_available():\n",
        "      data, labels = data.cuda(), labels.cuda()\n",
        "\n",
        "    output = model(data)\n",
        "    loss = criterion(output, labels)\n",
        "    test_loss += loss.item()*data.size(0)\n",
        "\n",
        "    _, pred = torch.max(output, 1)\n",
        "\n",
        "    correct_tensor = pred.eq(labels.data.view_as(pred))\n",
        "    correct = np.squeeze(correct_tensor.numpy()) if not torch.cuda.is_available() else np.squeeze(correct_tensor.cpu().numpy())\n",
        "\n",
        "    #test accuracy for each object class\n",
        "    for i in range(num_classes):\n",
        "      label = labels.data[i]\n",
        "      correct_class[label] += correct[i].item()\n",
        "      total_class[label] += 1\n",
        "    \n",
        "  # avg test loss\n",
        "  test_loss = test_loss/len(test_loader.dataset)\n",
        "  test_accuracy = 100. * np.sum(correct_class) / np.sum(total_class)\n",
        "\n",
        "  if print_info:\n",
        "    print(\"Test Loss: {:.6f}\\n\".format(test_loss))\n",
        "\n",
        "    for i in range(10):\n",
        "      if total_class[i]>0:\n",
        "        print('Test Accuracy of %5s: %2d%% (%2d/%2d)' % \n",
        "              (classes[i], 100 * correct_class[i] / total_class[i],\n",
        "              np.sum(correct_class[i]), np.sum(total_class[i])))\n",
        "      else:\n",
        "        print('Test Accuracy of %5s: N/A (no training examples)' % (classes[i]))\n",
        "\n",
        "    print('\\nFinal Test  Accuracy: {:.3f} ({}/{})'.format(\n",
        "          100. * np.sum(correct_class) / np.sum(total_class),\n",
        "          np.sum(correct_class), np.sum(total_class)))\n",
        "  \n",
        "  return test_accuracy, test_loss"
      ],
      "execution_count": 69,
      "outputs": []
    },
    {
      "cell_type": "markdown",
      "metadata": {
        "id": "Ri0FqXFeHW-V"
      },
      "source": [
        "## Logger"
      ]
    },
    {
      "cell_type": "code",
      "metadata": {
        "id": "thZm2kSiHT4v"
      },
      "source": [
        "log_dict = {}\n",
        "NUM_REPEAT = 1"
      ],
      "execution_count": 70,
      "outputs": []
    },
    {
      "cell_type": "markdown",
      "metadata": {
        "id": "4hO5oV6aXqeh"
      },
      "source": [
        "## MNIST CNN on IID"
      ]
    },
    {
      "cell_type": "markdown",
      "metadata": {
        "id": "flSQv_P4zCfx"
      },
      "source": [
        "### Train\n"
      ]
    },
    {
      "cell_type": "code",
      "metadata": {
        "colab": {
          "base_uri": "https://localhost:8080/",
          "height": 1000
        },
        "id": "0ZalcKZtEseA",
        "outputId": "26f6047a-06a6-4174-f934-6cbc85982824"
      },
      "source": [
        "train_loss_multiple_runs = [None] * NUM_REPEAT\n",
        "test_accuracy_multiple_runs = [None] * NUM_REPEAT\n",
        "test_loss_multiple_runs = [None] * NUM_REPEAT\n",
        "\n",
        "for exp_num in range(NUM_REPEAT):\n",
        "  print(\"Experiment Run Number: \", exp_num)\n",
        "\n",
        "  # number of training rounds\n",
        "  rounds = 50\n",
        "  # client fraction\n",
        "  C = 0.1\n",
        "  # number of clients\n",
        "  K = 10\n",
        "  # number of training passes on local dataset for each roung\n",
        "  E = 5\n",
        "  # batch size\n",
        "  batch_size = 10\n",
        "  # learning Rate\n",
        "  lr=0.05\n",
        "  # data partition dictionary\n",
        "  iid_dict = iid_partition(mnist_data_train, 100)\n",
        "  # load model\n",
        "  mnist_cnn = MNIST_CNN()\n",
        "\n",
        "  if torch.cuda.is_available():\n",
        "    mnist_cnn.cuda()\n",
        "\n",
        "  mnist_cnn_iid_trained, train_loss, test_accuracy, test_loss = training(mnist_cnn, rounds, batch_size, lr, mnist_data_train, mnist_data_test, iid_dict, C, K, E, \"MNIST CNN on IID Dataset\", \"orange\")\n",
        "\n",
        "  train_loss_multiple_runs[exp_num] = train_loss\n",
        "  test_accuracy_multiple_runs[exp_num] = test_accuracy\n",
        "  test_loss_multiple_runs[exp_num] = test_loss"
      ],
      "execution_count": 71,
      "outputs": [
        {
          "output_type": "stream",
          "text": [
            "Experiment Run Number:  0\n",
            "Round: 1... \tAverage Loss: 0.567\n",
            "Round: 2... \tAverage Loss: 0.063\n",
            "Round: 3... \tAverage Loss: 0.155\n",
            "Round: 4... \tAverage Loss: 0.116\n",
            "Round: 5... \tAverage Loss: 0.016\n",
            "Round: 6... \tAverage Loss: 0.102\n",
            "Round: 7... \tAverage Loss: 0.019\n",
            "Round: 8... \tAverage Loss: 0.047\n",
            "Round: 9... \tAverage Loss: 0.018\n",
            "Round: 10... \tAverage Loss: 0.048\n",
            "Round: 11... \tAverage Loss: 0.077\n",
            "Round: 12... \tAverage Loss: 0.065\n",
            "Round: 13... \tAverage Loss: 0.074\n",
            "Round: 14... \tAverage Loss: 0.067\n",
            "Round: 15... \tAverage Loss: 0.031\n",
            "Round: 16... \tAverage Loss: 0.068\n",
            "Round: 17... \tAverage Loss: 0.025\n",
            "Round: 18... \tAverage Loss: 0.047\n",
            "Round: 19... \tAverage Loss: 0.036\n",
            "Round: 20... \tAverage Loss: 0.013\n",
            "Round: 21... \tAverage Loss: 0.01\n",
            "Round: 22... \tAverage Loss: 0.061\n",
            "Round: 23... \tAverage Loss: 0.038\n",
            "Round: 24... \tAverage Loss: 0.028\n",
            "Round: 25... \tAverage Loss: 0.014\n",
            "Round: 26... \tAverage Loss: 0.008\n",
            "Round: 27... \tAverage Loss: 0.022\n",
            "Round: 28... \tAverage Loss: 0.046\n",
            "Round: 29... \tAverage Loss: 0.016\n",
            "Round: 30... \tAverage Loss: 0.036\n",
            "Round: 31... \tAverage Loss: 0.011\n",
            "Round: 32... \tAverage Loss: 0.002\n",
            "Round: 33... \tAverage Loss: 0.021\n",
            "Round: 34... \tAverage Loss: 0.02\n",
            "Round: 35... \tAverage Loss: 0.005\n",
            "Round: 36... \tAverage Loss: 0.03\n",
            "Round: 37... \tAverage Loss: 0.054\n",
            "Round: 38... \tAverage Loss: 0.004\n",
            "Round: 39... \tAverage Loss: 0.007\n",
            "Round: 40... \tAverage Loss: 0.006\n",
            "Round: 41... \tAverage Loss: 0.004\n",
            "Round: 42... \tAverage Loss: 0.019\n",
            "Round: 43... \tAverage Loss: 0.019\n",
            "Round: 44... \tAverage Loss: 0.004\n",
            "Round: 45... \tAverage Loss: 0.019\n",
            "Round: 46... \tAverage Loss: 0.004\n",
            "Round: 47... \tAverage Loss: 0.051\n",
            "Round: 48... \tAverage Loss: 0.015\n",
            "Round: 49... \tAverage Loss: 0.025\n",
            "Round: 50... \tAverage Loss: 0.009\n"
          ],
          "name": "stdout"
        },
        {
          "output_type": "display_data",
          "data": {
            "image/png": "[encoded data removed]",
            "text/plain": [
              "<Figure size 432x288 with 1 Axes>"
            ]
          },
          "metadata": {
            "tags": [],
            "needs_background": "light"
          }
        },
        {
          "output_type": "display_data",
          "data": {
            "image/png": "[encoded data removed]",
            "text/plain": [
              "<Figure size 432x288 with 1 Axes>"
            ]
          },
          "metadata": {
            "tags": [],
            "needs_background": "light"
          }
        },
        {
          "output_type": "display_data",
          "data": {
            "image/png": "[encoded data removed]",
            "text/plain": [
              "<Figure size 432x288 with 1 Axes>"
            ]
          },
          "metadata": {
            "tags": [],
            "needs_background": "light"
          }
        },
        {
          "output_type": "stream",
          "text": [
            "Training Done!\n",
            "Total time taken to Train: 113.65374755859375\n",
            "\n",
            "\n"
          ],
          "name": "stdout"
        }
      ]
    },
    {
      "cell_type": "markdown",
      "metadata": {
        "id": "wNwC82przF6G"
      },
      "source": [
        "### Test"
      ]
    },
    {
      "cell_type": "code",
      "metadata": {
        "colab": {
          "base_uri": "https://localhost:8080/"
        },
        "id": "qB97BFs9we9w",
        "outputId": "a7dba21e-6813-4a85-cc07-f0133edb6f85"
      },
      "source": [
        "criterion = nn.CrossEntropyLoss()\n",
        "acc, loss = testing(mnist_cnn_iid_trained, mnist_data_test, 128, criterion, num_classes, classes_test, True)"
      ],
      "execution_count": 72,
      "outputs": [
        {
          "output_type": "stream",
          "text": [
            "Test Loss: 0.097551\n",
            "\n",
            "Test Accuracy of     0: 98% (75/76)\n",
            "Test Accuracy of     1: 97% (88/90)\n",
            "Test Accuracy of     2: 100% (91/91)\n",
            "Test Accuracy of     3: 97% (71/73)\n",
            "Test Accuracy of     4: 100% (89/89)\n",
            "Test Accuracy of     5: 98% (67/68)\n",
            "Test Accuracy of     6: 98% (61/62)\n",
            "Test Accuracy of     7: 97% (79/81)\n",
            "Test Accuracy of     8: 100% (77/77)\n",
            "Test Accuracy of     9: 98% (82/83)\n",
            "\n",
            "Final Test  Accuracy: 98.734 (780.0/790.0)\n"
          ],
          "name": "stdout"
        }
      ]
    },
    {
      "cell_type": "code",
      "metadata": {
        "id": "gdQZEZmHHeqt"
      },
      "source": [
        "hyperparams = {'rounds': rounds,\n",
        "               'C': C,\n",
        "               'K': K,\n",
        "               'E': E,\n",
        "               'batch_size': batch_size,\n",
        "               'lr': lr,\n",
        "               }\n",
        "\n",
        "log_dict['MNIST CNN on IID'] = {'train_loss': train_loss_multiple_runs, \n",
        "                                'test_loss': test_loss_multiple_runs, \n",
        "                                'test_accuracy': test_accuracy_multiple_runs,\n",
        "                                'hyperparams': hyperparams,\n",
        "                                }"
      ],
      "execution_count": 73,
      "outputs": []
    },
    {
      "cell_type": "markdown",
      "metadata": {
        "id": "uF8MdSIUYcnl"
      },
      "source": [
        "## MNIST CNN on Non IID"
      ]
    },
    {
      "cell_type": "markdown",
      "metadata": {
        "id": "a6wXX7JW11bx"
      },
      "source": [
        "### Train\n"
      ]
    },
    {
      "cell_type": "code",
      "metadata": {
        "colab": {
          "base_uri": "https://localhost:8080/",
          "height": 1000
        },
        "id": "fCD3kBCKYfBK",
        "outputId": "34ffc64a-5a28-4ffe-ba12-0e8376a6d8eb"
      },
      "source": [
        "train_loss_multiple_runs = [None] * NUM_REPEAT\n",
        "test_accuracy_multiple_runs = [None] * NUM_REPEAT\n",
        "test_loss_multiple_runs = [None] * NUM_REPEAT\n",
        "\n",
        "for exp_num in range(NUM_REPEAT):\n",
        "  print(\"Experiment Run Number: \", exp_num)\n",
        "\n",
        "  # number of training rounds\n",
        "  rounds = 50\n",
        "  # client fraction\n",
        "  C = 0.1\n",
        "  # number of clients\n",
        "  K = 10\n",
        "  # number of training passes on local dataset for each roung\n",
        "  E = 5\n",
        "  # batch size\n",
        "  batch_size = 10\n",
        "  # learning Rate\n",
        "  lr=0.05\n",
        "  # dict containing different type of data partition\n",
        "  data_dict = non_iid_partition(mnist_data_train, 100, 200, 300, 2)\n",
        "  # load model\n",
        "  mnist_cnn = MNIST_CNN()\n",
        "\n",
        "  if torch.cuda.is_available():\n",
        "    mnist_cnn.cuda()\n",
        "\n",
        "  mnist_cnn_non_iid_trained, train_loss, test_accuracy, test_loss = training(mnist_cnn, rounds, batch_size, lr, mnist_data_train, mnist_data_test, data_dict, C, K, E, \"MNIST CNN on Non-IID Dataset\", \"green\")\n",
        "\n",
        "  train_loss_multiple_runs[exp_num] = train_loss\n",
        "  test_accuracy_multiple_runs[exp_num] = test_accuracy\n",
        "  test_loss_multiple_runs[exp_num] = test_loss"
      ],
      "execution_count": 74,
      "outputs": [
        {
          "output_type": "stream",
          "text": [
            "Experiment Run Number:  0\n",
            "Round: 1... \tAverage Loss: 0.06\n",
            "Round: 2... \tAverage Loss: 0.157\n",
            "Round: 3... \tAverage Loss: 0.188\n",
            "Round: 4... \tAverage Loss: 0.071\n",
            "Round: 5... \tAverage Loss: 0.12\n",
            "Round: 6... \tAverage Loss: 0.107\n",
            "Round: 7... \tAverage Loss: 0.136\n",
            "Round: 8... \tAverage Loss: 0.013\n",
            "Round: 9... \tAverage Loss: 0.134\n",
            "Round: 10... \tAverage Loss: 0.121\n",
            "Round: 11... \tAverage Loss: 0.013\n",
            "Round: 12... \tAverage Loss: 0.09\n",
            "Round: 13... \tAverage Loss: 0.055\n",
            "Round: 14... \tAverage Loss: 0.001\n",
            "Round: 15... \tAverage Loss: 0.005\n",
            "Round: 16... \tAverage Loss: 0.003\n",
            "Round: 17... \tAverage Loss: 0.045\n",
            "Round: 18... \tAverage Loss: 0.003\n",
            "Round: 19... \tAverage Loss: 0.074\n",
            "Round: 20... \tAverage Loss: 0.004\n",
            "Round: 21... \tAverage Loss: 0.032\n",
            "Round: 22... \tAverage Loss: 0.09\n",
            "Round: 23... \tAverage Loss: 0.013\n",
            "Round: 24... \tAverage Loss: 0.093\n",
            "Round: 25... \tAverage Loss: 0.05\n",
            "Round: 26... \tAverage Loss: 0.013\n",
            "Round: 27... \tAverage Loss: 0.006\n",
            "Round: 28... \tAverage Loss: 0.001\n",
            "Round: 29... \tAverage Loss: 0.0\n",
            "Round: 30... \tAverage Loss: 0.178\n",
            "Round: 31... \tAverage Loss: 0.152\n",
            "Round: 32... \tAverage Loss: 0.043\n",
            "Round: 33... \tAverage Loss: 0.041\n",
            "Round: 34... \tAverage Loss: 0.007\n",
            "Round: 35... \tAverage Loss: 0.037\n",
            "Round: 36... \tAverage Loss: 0.03\n",
            "Round: 37... \tAverage Loss: 0.072\n",
            "Round: 38... \tAverage Loss: 0.03\n",
            "Round: 39... \tAverage Loss: 0.042\n",
            "Round: 40... \tAverage Loss: 0.004\n",
            "Round: 41... \tAverage Loss: 0.04\n",
            "Round: 42... \tAverage Loss: 0.085\n",
            "Round: 43... \tAverage Loss: 0.022\n",
            "Round: 44... \tAverage Loss: 0.044\n",
            "Round: 45... \tAverage Loss: 0.05\n",
            "Round: 46... \tAverage Loss: 0.123\n",
            "Round: 47... \tAverage Loss: 0.002\n",
            "Round: 48... \tAverage Loss: 0.021\n",
            "Round: 49... \tAverage Loss: 0.118\n",
            "Round: 50... \tAverage Loss: 0.04\n"
          ],
          "name": "stdout"
        },
        {
          "output_type": "display_data",
          "data": {
            "image/png": "[encoded data removed]",
            "text/plain": [
              "<Figure size 432x288 with 1 Axes>"
            ]
          },
          "metadata": {
            "tags": [],
            "needs_background": "light"
          }
        },
        {
          "output_type": "display_data",
          "data": {
            "image/png": "[encoded data removed]",
            "text/plain": [
              "<Figure size 432x288 with 1 Axes>"
            ]
          },
          "metadata": {
            "tags": [],
            "needs_background": "light"
          }
        },
        {
          "output_type": "display_data",
          "data": {
            "image/png": "[encoded data removed]",
            "text/plain": [
              "<Figure size 432x288 with 1 Axes>"
            ]
          },
          "metadata": {
            "tags": [],
            "needs_background": "light"
          }
        },
        {
          "output_type": "stream",
          "text": [
            "Training Done!\n",
            "Total time taken to Train: 114.34178304672241\n",
            "\n",
            "\n"
          ],
          "name": "stdout"
        }
      ]
    },
    {
      "cell_type": "markdown",
      "metadata": {
        "id": "4C68J-Kk14dB"
      },
      "source": [
        "### Test"
      ]
    },
    {
      "cell_type": "code",
      "metadata": {
        "colab": {
          "base_uri": "https://localhost:8080/"
        },
        "id": "_yQ9GiAZ15jE",
        "outputId": "8d63728e-7595-46fa-ac9c-ba255b496d49"
      },
      "source": [
        "criterion = nn.CrossEntropyLoss()\n",
        "acc, loss = testing(mnist_cnn_non_iid_trained, mnist_data_test, 128, criterion, num_classes, classes_test, True)"
      ],
      "execution_count": 75,
      "outputs": [
        {
          "output_type": "stream",
          "text": [
            "Test Loss: 3.540446\n",
            "\n",
            "Test Accuracy of     0:  1% ( 1/76)\n",
            "Test Accuracy of     1: 100% (90/90)\n",
            "Test Accuracy of     2:  0% ( 0/91)\n",
            "Test Accuracy of     3:  0% ( 0/73)\n",
            "Test Accuracy of     4:  0% ( 0/89)\n",
            "Test Accuracy of     5: 17% (12/68)\n",
            "Test Accuracy of     6: 100% (62/62)\n",
            "Test Accuracy of     7: 100% (81/81)\n",
            "Test Accuracy of     8:  0% ( 0/77)\n",
            "Test Accuracy of     9:  0% ( 0/83)\n",
            "\n",
            "Final Test  Accuracy: 31.139 (246.0/790.0)\n"
          ],
          "name": "stdout"
        }
      ]
    },
    {
      "cell_type": "code",
      "metadata": {
        "id": "dxMcxgLhLvX-"
      },
      "source": [
        "hyperparams = {'rounds': rounds,\n",
        "               'C': C,\n",
        "               'K': K,\n",
        "               'E': E,\n",
        "               'batch_size': batch_size,\n",
        "               'lr': lr,\n",
        "               }\n",
        "\n",
        "log_dict['MNIST CNN on Non IID'] = {'train_loss': train_loss_multiple_runs, \n",
        "                                'test_loss': test_loss_multiple_runs, \n",
        "                                'test_accuracy': test_accuracy_multiple_runs,\n",
        "                                'hyperparams': hyperparams,\n",
        "                                }"
      ],
      "execution_count": 76,
      "outputs": []
    },
    {
      "cell_type": "markdown",
      "metadata": {
        "id": "z_jifdzniuhm"
      },
      "source": [
        "## MNIST MLP on IID"
      ]
    },
    {
      "cell_type": "markdown",
      "metadata": {
        "id": "uh-te0Od2XGO"
      },
      "source": [
        "### Train"
      ]
    },
    {
      "cell_type": "code",
      "metadata": {
        "colab": {
          "base_uri": "https://localhost:8080/",
          "height": 1000
        },
        "id": "UmpWmKOQixVV",
        "outputId": "b34e154b-d6a1-42fd-854d-2533ff45e0fd"
      },
      "source": [
        "train_loss_multiple_runs = [None] * NUM_REPEAT\n",
        "test_accuracy_multiple_runs = [None] * NUM_REPEAT\n",
        "test_loss_multiple_runs = [None] * NUM_REPEAT\n",
        "\n",
        "for exp_num in range(NUM_REPEAT):\n",
        "  print(\"Experiment Run Number: \", exp_num)\n",
        "\n",
        "  # number of training rounds\n",
        "  rounds = 50\n",
        "  # client fraction\n",
        "  C = 0.1\n",
        "  # number of clients\n",
        "  K = 10\n",
        "  # number of training passes on local dataset for each round\n",
        "  E = 5\n",
        "  # batch size\n",
        "  batch_size = 10\n",
        "  # learning Rate\n",
        "  lr=0.05\n",
        "  # dict containing different type of data partition\n",
        "  data_dict = iid_partition(mnist_data_train, 100)\n",
        "  # load model\n",
        "  mnist_mlp = MNIST_2NN()\n",
        "\n",
        "  if torch.cuda.is_available():\n",
        "    mnist_mlp.cuda()\n",
        "\n",
        "  mnist_mlp_iid_trained, train_loss, test_accuracy, test_loss = training(mnist_mlp, rounds, batch_size, lr, mnist_data_train, mnist_data_test, data_dict, C, K, E, \"MNIST MLP on IID Dataset\", \"orange\")\n",
        "  \n",
        "  train_loss_multiple_runs[exp_num] = train_loss\n",
        "  test_accuracy_multiple_runs[exp_num] = test_accuracy\n",
        "  test_loss_multiple_runs[exp_num] = test_loss"
      ],
      "execution_count": 77,
      "outputs": [
        {
          "output_type": "stream",
          "text": [
            "Experiment Run Number:  0\n",
            "Round: 1... \tAverage Loss: 0.429\n",
            "Round: 2... \tAverage Loss: 0.157\n",
            "Round: 3... \tAverage Loss: 0.112\n",
            "Round: 4... \tAverage Loss: 0.133\n",
            "Round: 5... \tAverage Loss: 0.003\n",
            "Round: 6... \tAverage Loss: 0.002\n",
            "Round: 7... \tAverage Loss: 0.025\n",
            "Round: 8... \tAverage Loss: 0.003\n",
            "Round: 9... \tAverage Loss: 0.127\n",
            "Round: 10... \tAverage Loss: 0.051\n",
            "Round: 11... \tAverage Loss: 0.022\n",
            "Round: 12... \tAverage Loss: 0.003\n",
            "Round: 13... \tAverage Loss: 0.126\n",
            "Round: 14... \tAverage Loss: 0.099\n",
            "Round: 15... \tAverage Loss: 0.086\n",
            "Round: 16... \tAverage Loss: 0.038\n",
            "Round: 17... \tAverage Loss: 0.099\n",
            "Round: 18... \tAverage Loss: 0.027\n",
            "Round: 19... \tAverage Loss: 0.023\n",
            "Round: 20... \tAverage Loss: 0.085\n",
            "Round: 21... \tAverage Loss: 0.011\n",
            "Round: 22... \tAverage Loss: 0.018\n",
            "Round: 23... \tAverage Loss: 0.022\n",
            "Round: 24... \tAverage Loss: 0.001\n",
            "Round: 25... \tAverage Loss: 0.002\n",
            "Round: 26... \tAverage Loss: 0.022\n",
            "Round: 27... \tAverage Loss: 0.002\n",
            "Round: 28... \tAverage Loss: 0.037\n",
            "Round: 29... \tAverage Loss: 0.001\n",
            "Round: 30... \tAverage Loss: 0.001\n",
            "Round: 31... \tAverage Loss: 0.013\n",
            "Round: 32... \tAverage Loss: 0.004\n",
            "Round: 33... \tAverage Loss: 0.046\n",
            "Round: 34... \tAverage Loss: 0.021\n",
            "Round: 35... \tAverage Loss: 0.016\n",
            "Round: 36... \tAverage Loss: 0.008\n",
            "Round: 37... \tAverage Loss: 0.006\n",
            "Round: 38... \tAverage Loss: 0.005\n",
            "Round: 39... \tAverage Loss: 0.003\n",
            "Round: 40... \tAverage Loss: 0.001\n",
            "Round: 41... \tAverage Loss: 0.002\n",
            "Round: 42... \tAverage Loss: 0.009\n",
            "Round: 43... \tAverage Loss: 0.029\n",
            "Round: 44... \tAverage Loss: 0.002\n",
            "Round: 45... \tAverage Loss: 0.002\n",
            "Round: 46... \tAverage Loss: 0.021\n",
            "Round: 47... \tAverage Loss: 0.004\n",
            "Round: 48... \tAverage Loss: 0.003\n",
            "Round: 49... \tAverage Loss: 0.01\n",
            "Round: 50... \tAverage Loss: 0.0\n"
          ],
          "name": "stdout"
        },
        {
          "output_type": "display_data",
          "data": {
            "image/png": "[encoded data removed]",
            "text/plain": [
              "<Figure size 432x288 with 1 Axes>"
            ]
          },
          "metadata": {
            "tags": [],
            "needs_background": "light"
          }
        },
        {
          "output_type": "display_data",
          "data": {
            "image/png": "[encoded data removed]",
            "text/plain": [
              "<Figure size 432x288 with 1 Axes>"
            ]
          },
          "metadata": {
            "tags": [],
            "needs_background": "light"
          }
        },
        {
          "output_type": "display_data",
          "data": {
            "image/png": "[encoded data removed]",
            "text/plain": [
              "<Figure size 432x288 with 1 Axes>"
            ]
          },
          "metadata": {
            "tags": [],
            "needs_background": "light"
          }
        },
        {
          "output_type": "stream",
          "text": [
            "Training Done!\n",
            "Total time taken to Train: 93.01723432540894\n",
            "\n",
            "\n"
          ],
          "name": "stdout"
        }
      ]
    },
    {
      "cell_type": "markdown",
      "metadata": {
        "id": "aTBsL3-72PPd"
      },
      "source": [
        "### Test"
      ]
    },
    {
      "cell_type": "code",
      "metadata": {
        "colab": {
          "base_uri": "https://localhost:8080/"
        },
        "id": "a9G4j5L62OrS",
        "outputId": "491a166f-bbbf-43d6-aeb6-9307a4169cce"
      },
      "source": [
        "criterion = nn.CrossEntropyLoss()\n",
        "acc, loss = testing(mnist_mlp_iid_trained, mnist_data_test, 128, criterion, num_classes, classes_test, True)"
      ],
      "execution_count": 78,
      "outputs": [
        {
          "output_type": "stream",
          "text": [
            "Test Loss: 0.244176\n",
            "\n",
            "Test Accuracy of     0: 94% (72/76)\n",
            "Test Accuracy of     1: 97% (88/90)\n",
            "Test Accuracy of     2: 92% (84/91)\n",
            "Test Accuracy of     3: 93% (68/73)\n",
            "Test Accuracy of     4: 96% (86/89)\n",
            "Test Accuracy of     5: 91% (62/68)\n",
            "Test Accuracy of     6: 98% (61/62)\n",
            "Test Accuracy of     7: 91% (74/81)\n",
            "Test Accuracy of     8: 97% (75/77)\n",
            "Test Accuracy of     9: 90% (75/83)\n",
            "\n",
            "Final Test  Accuracy: 94.304 (745.0/790.0)\n"
          ],
          "name": "stdout"
        }
      ]
    },
    {
      "cell_type": "code",
      "metadata": {
        "id": "fWCdJFRCL_f2"
      },
      "source": [
        "hyperparams = {'rounds': rounds,\n",
        "               'C': C,\n",
        "               'K': K,\n",
        "               'E': E,\n",
        "               'batch_size': batch_size,\n",
        "               'lr': lr,\n",
        "               }\n",
        "\n",
        "log_dict['MNIST MLP on IID'] = {'train_loss': train_loss_multiple_runs, \n",
        "                                'test_loss': test_loss_multiple_runs, \n",
        "                                'test_accuracy': test_accuracy_multiple_runs,\n",
        "                                'hyperparams': hyperparams,\n",
        "                                }"
      ],
      "execution_count": 79,
      "outputs": []
    },
    {
      "cell_type": "markdown",
      "metadata": {
        "id": "J8jzEyO0iywz"
      },
      "source": [
        "## MNIST MLP on Non IID"
      ]
    },
    {
      "cell_type": "markdown",
      "metadata": {
        "id": "pJFepr3y2bF-"
      },
      "source": [
        "### Train"
      ]
    },
    {
      "cell_type": "code",
      "metadata": {
        "colab": {
          "base_uri": "https://localhost:8080/",
          "height": 1000
        },
        "id": "EBKO44Hgi1Uh",
        "outputId": "71e4c6ff-af3a-4c08-eaf8-607b18b5bfc0"
      },
      "source": [
        "train_loss_multiple_runs = [None] * NUM_REPEAT\n",
        "test_accuracy_multiple_runs = [None] * NUM_REPEAT\n",
        "test_loss_multiple_runs = [None] * NUM_REPEAT\n",
        "\n",
        "for exp_num in range(NUM_REPEAT):\n",
        "  print(\"Experiment Run Number: \", exp_num)\n",
        "  \n",
        "  # number of training rounds\n",
        "  rounds = 50\n",
        "  # client fraction\n",
        "  C = 0.1\n",
        "  # number of clients\n",
        "  K = 10\n",
        "  # number of training passes on local dataset for each roung\n",
        "  E = 5\n",
        "  # batch size\n",
        "  batch_size = 10\n",
        "  # learning Rate\n",
        "  lr=0.05\n",
        "  # dict containing different type of data partition\n",
        "  data_dict = non_iid_partition(mnist_data_train, 100, 200, 300, 2)\n",
        "  # load model\n",
        "  mnist_mlp = MNIST_2NN()\n",
        "\n",
        "  if torch.cuda.is_available():\n",
        "    mnist_mlp.cuda()\n",
        "\n",
        "  mnist_mlp_non_iid_trained, train_loss, test_accuracy, test_loss = training(mnist_mlp, rounds, batch_size, lr, mnist_data_train, mnist_data_test, data_dict, C, K, E, \"MNIST MLP on Non-IID Dataset\", \"green\")\n",
        "\n",
        "  train_loss_multiple_runs[exp_num] = train_loss\n",
        "  test_accuracy_multiple_runs[exp_num] = test_accuracy\n",
        "  test_loss_multiple_runs[exp_num] = test_loss"
      ],
      "execution_count": 80,
      "outputs": [
        {
          "output_type": "stream",
          "text": [
            "Experiment Run Number:  0\n",
            "Round: 1... \tAverage Loss: 0.513\n",
            "Round: 2... \tAverage Loss: 0.076\n",
            "Round: 3... \tAverage Loss: 0.196\n",
            "Round: 4... \tAverage Loss: 0.001\n",
            "Round: 5... \tAverage Loss: 0.031\n",
            "Round: 6... \tAverage Loss: 0.101\n",
            "Round: 7... \tAverage Loss: 0.163\n",
            "Round: 8... \tAverage Loss: 0.119\n",
            "Round: 9... \tAverage Loss: 0.12\n",
            "Round: 10... \tAverage Loss: 0.009\n",
            "Round: 11... \tAverage Loss: 0.05\n",
            "Round: 12... \tAverage Loss: 0.028\n",
            "Round: 13... \tAverage Loss: 0.0\n",
            "Round: 14... \tAverage Loss: 0.003\n",
            "Round: 15... \tAverage Loss: 0.084\n",
            "Round: 16... \tAverage Loss: 0.0\n",
            "Round: 17... \tAverage Loss: 0.007\n",
            "Round: 18... \tAverage Loss: 0.025\n",
            "Round: 19... \tAverage Loss: 0.014\n",
            "Round: 20... \tAverage Loss: 0.052\n",
            "Round: 21... \tAverage Loss: 0.037\n",
            "Round: 22... \tAverage Loss: 0.018\n",
            "Round: 23... \tAverage Loss: 0.055\n",
            "Round: 24... \tAverage Loss: 0.077\n",
            "Round: 25... \tAverage Loss: 0.031\n",
            "Round: 26... \tAverage Loss: 0.021\n",
            "Round: 27... \tAverage Loss: 0.034\n",
            "Round: 28... \tAverage Loss: 0.005\n",
            "Round: 29... \tAverage Loss: 0.005\n",
            "Round: 30... \tAverage Loss: 0.011\n",
            "Round: 31... \tAverage Loss: 0.035\n",
            "Round: 32... \tAverage Loss: 0.0\n",
            "Round: 33... \tAverage Loss: 0.035\n",
            "Round: 34... \tAverage Loss: 0.009\n",
            "Round: 35... \tAverage Loss: 0.006\n",
            "Round: 36... \tAverage Loss: 0.038\n",
            "Round: 37... \tAverage Loss: 0.038\n",
            "Round: 38... \tAverage Loss: 0.015\n",
            "Round: 39... \tAverage Loss: 0.024\n",
            "Round: 40... \tAverage Loss: 0.0\n",
            "Round: 41... \tAverage Loss: 0.01\n",
            "Round: 42... \tAverage Loss: 0.02\n",
            "Round: 43... \tAverage Loss: 0.005\n",
            "Round: 44... \tAverage Loss: 0.003\n",
            "Round: 45... \tAverage Loss: 0.007\n",
            "Round: 46... \tAverage Loss: 0.008\n",
            "Round: 47... \tAverage Loss: 0.033\n",
            "Round: 48... \tAverage Loss: 0.02\n",
            "Round: 49... \tAverage Loss: 0.009\n",
            "Round: 50... \tAverage Loss: 0.014\n"
          ],
          "name": "stdout"
        },
        {
          "output_type": "display_data",
          "data": {
            "image/png": "[encoded data removed]",
            "text/plain": [
              "<Figure size 432x288 with 1 Axes>"
            ]
          },
          "metadata": {
            "tags": [],
            "needs_background": "light"
          }
        },
        {
          "output_type": "display_data",
          "data": {
            "image/png": "[encoded data removed]",
            "text/plain": [
              "<Figure size 432x288 with 1 Axes>"
            ]
          },
          "metadata": {
            "tags": [],
            "needs_background": "light"
          }
        },
        {
          "output_type": "display_data",
          "data": {
            "image/png": "[encoded data removed]",
            "text/plain": [
              "<Figure size 432x288 with 1 Axes>"
            ]
          },
          "metadata": {
            "tags": [],
            "needs_background": "light"
          }
        },
        {
          "output_type": "stream",
          "text": [
            "Training Done!\n",
            "Total time taken to Train: 93.26813578605652\n",
            "\n",
            "\n"
          ],
          "name": "stdout"
        }
      ]
    },
    {
      "cell_type": "markdown",
      "metadata": {
        "id": "jmuQYPbF2mes"
      },
      "source": [
        "### Test"
      ]
    },
    {
      "cell_type": "code",
      "metadata": {
        "colab": {
          "base_uri": "https://localhost:8080/"
        },
        "id": "0tKMlJyF2nGN",
        "outputId": "f20919f6-57ff-4127-c29a-46b1fd8fadea"
      },
      "source": [
        "criterion = nn.CrossEntropyLoss()\n",
        "acc, loss = testing(mnist_mlp_non_iid_trained, mnist_data_test, 128, criterion, num_classes, classes_test, True)"
      ],
      "execution_count": 81,
      "outputs": [
        {
          "output_type": "stream",
          "text": [
            "Test Loss: 3.700680\n",
            "\n",
            "Test Accuracy of     0: 98% (75/76)\n",
            "Test Accuracy of     1: 97% (88/90)\n",
            "Test Accuracy of     2: 26% (24/91)\n",
            "Test Accuracy of     3: 69% (51/73)\n",
            "Test Accuracy of     4:  0% ( 0/89)\n",
            "Test Accuracy of     5:  0% ( 0/68)\n",
            "Test Accuracy of     6: 98% (61/62)\n",
            "Test Accuracy of     7: 23% (19/81)\n",
            "Test Accuracy of     8: 41% (32/77)\n",
            "Test Accuracy of     9: 51% (43/83)\n",
            "\n",
            "Final Test  Accuracy: 49.747 (393.0/790.0)\n"
          ],
          "name": "stdout"
        }
      ]
    },
    {
      "cell_type": "code",
      "metadata": {
        "id": "1W5krYcSMQiu"
      },
      "source": [
        "hyperparams = {'rounds': rounds,\n",
        "               'C': C,\n",
        "               'K': K,\n",
        "               'E': E,\n",
        "               'batch_size': batch_size,\n",
        "               'lr': lr,\n",
        "               }\n",
        "\n",
        "log_dict['MNIST MLP on Non IID'] = {'train_loss': train_loss_multiple_runs, \n",
        "                                'test_loss': test_loss_multiple_runs, \n",
        "                                'test_accuracy': test_accuracy_multiple_runs,\n",
        "                                'hyperparams': hyperparams,\n",
        "                                }"
      ],
      "execution_count": 82,
      "outputs": []
    },
    {
      "cell_type": "markdown",
      "metadata": {
        "id": "emS_SaRAP6TZ"
      },
      "source": [
        "## Pickle Log"
      ]
    },
    {
      "cell_type": "code",
      "metadata": {
        "id": "soAN38JoP0c1"
      },
      "source": [
        "import pickle\n",
        " \n",
        "with open(path + 'FedAvgNum_of_clients_10.pkl', 'wb') as file:\n",
        "  pickle.dump(log_dict, file)"
      ],
      "execution_count": 91,
      "outputs": []
    },
    {
      "cell_type": "code",
      "metadata": {
        "colab": {
          "base_uri": "https://localhost:8080/"
        },
        "id": "2UBy-JswSoCJ",
        "outputId": "254c6826-8f95-46e9-b08a-cf34c0c1e8c0"
      },
      "source": [
        "log_dict"
      ],
      "execution_count": 92,
      "outputs": [
        {
          "output_type": "execute_result",
          "data": {
            "text/plain": [
              "{'MNIST CNN on IID': {'hyperparams': {'C': 0.1,\n",
              "   'E': 5,\n",
              "   'K': 10,\n",
              "   'batch_size': 10,\n",
              "   'lr': 0.05,\n",
              "   'rounds': 50},\n",
              "  'test_accuracy': [[90.88607594936708,\n",
              "    93.92405063291139,\n",
              "    96.58227848101266,\n",
              "    96.58227848101266,\n",
              "    96.45569620253164,\n",
              "    96.07594936708861,\n",
              "    96.70886075949367,\n",
              "    97.21518987341773,\n",
              "    96.83544303797468,\n",
              "    97.72151898734177,\n",
              "    97.9746835443038,\n",
              "    97.72151898734177,\n",
              "    97.9746835443038,\n",
              "    95.9493670886076,\n",
              "    97.34177215189874,\n",
              "    98.48101265822785,\n",
              "    98.35443037974683,\n",
              "    98.35443037974683,\n",
              "    97.59493670886076,\n",
              "    97.72151898734177,\n",
              "    97.9746835443038,\n",
              "    98.22784810126582,\n",
              "    98.35443037974683,\n",
              "    98.22784810126582,\n",
              "    98.22784810126582,\n",
              "    98.48101265822785,\n",
              "    98.22784810126582,\n",
              "    97.72151898734177,\n",
              "    97.84810126582279,\n",
              "    98.35443037974683,\n",
              "    98.10126582278481,\n",
              "    98.35443037974683,\n",
              "    98.48101265822785,\n",
              "    97.59493670886076,\n",
              "    98.22784810126582,\n",
              "    96.83544303797468,\n",
              "    97.72151898734177,\n",
              "    97.59493670886076,\n",
              "    98.10126582278481,\n",
              "    97.84810126582279,\n",
              "    97.84810126582279,\n",
              "    98.10126582278481,\n",
              "    97.46835443037975,\n",
              "    98.22784810126582,\n",
              "    97.46835443037975,\n",
              "    97.34177215189874,\n",
              "    97.59493670886076,\n",
              "    98.35443037974683,\n",
              "    97.9746835443038,\n",
              "    98.73417721518987]],\n",
              "  'test_loss': [[0.2946290014743805,\n",
              "    0.22124338615145533,\n",
              "    0.13942905993051827,\n",
              "    0.16565849166111438,\n",
              "    0.15801754081569597,\n",
              "    0.12789355724407359,\n",
              "    0.14203413239350776,\n",
              "    0.1100312757478736,\n",
              "    0.11226187258324354,\n",
              "    0.11886431170054712,\n",
              "    0.09871102191110841,\n",
              "    0.09678941027503461,\n",
              "    0.09243616016171873,\n",
              "    0.1632013505153358,\n",
              "    0.10028413108078457,\n",
              "    0.0717859962733055,\n",
              "    0.06644219871129607,\n",
              "    0.07912425868776626,\n",
              "    0.1107337116314995,\n",
              "    0.07727136642853802,\n",
              "    0.08993383333370057,\n",
              "    0.10020524928702507,\n",
              "    0.10596194565562983,\n",
              "    0.08670009216463805,\n",
              "    0.10104605498507445,\n",
              "    0.09262703026207673,\n",
              "    0.08313418562854641,\n",
              "    0.09275205300662055,\n",
              "    0.08334001310088789,\n",
              "    0.07399199265547358,\n",
              "    0.07334550718532992,\n",
              "    0.08154227754825315,\n",
              "    0.07335078416200558,\n",
              "    0.10515823994354578,\n",
              "    0.07876211505496176,\n",
              "    0.1658930324660614,\n",
              "    0.0881332493267757,\n",
              "    0.08059167851519011,\n",
              "    0.0925425697074847,\n",
              "    0.1104472586031985,\n",
              "    0.09423390722133995,\n",
              "    0.09730794670894029,\n",
              "    0.11651827154408093,\n",
              "    0.08513915108902984,\n",
              "    0.08734630033630926,\n",
              "    0.09801186444339037,\n",
              "    0.11230114223855343,\n",
              "    0.08197839571319683,\n",
              "    0.14201042880558698,\n",
              "    0.09755056929537677]],\n",
              "  'train_loss': [[0.5670891316592072,\n",
              "    0.06299892529653636,\n",
              "    0.1547106768807498,\n",
              "    0.11617611982604178,\n",
              "    0.01593807771733528,\n",
              "    0.10218845450710734,\n",
              "    0.0190940090502058,\n",
              "    0.046751768683106244,\n",
              "    0.01840528156561137,\n",
              "    0.04797079055712402,\n",
              "    0.07740209484990733,\n",
              "    0.06535799112588299,\n",
              "    0.07434148632624027,\n",
              "    0.06651082306756655,\n",
              "    0.03135050074974482,\n",
              "    0.06796960667434054,\n",
              "    0.02496140171348922,\n",
              "    0.04674960555490353,\n",
              "    0.03578736531007704,\n",
              "    0.013184498880998702,\n",
              "    0.009988200365252678,\n",
              "    0.06132015616410551,\n",
              "    0.038293042094639254,\n",
              "    0.027624100942652184,\n",
              "    0.014111732850559366,\n",
              "    0.008353820912744255,\n",
              "    0.02173455328906319,\n",
              "    0.04634818491305184,\n",
              "    0.01645511236684106,\n",
              "    0.0364975632439697,\n",
              "    0.010947078187210942,\n",
              "    0.001745493919485135,\n",
              "    0.020781377883606816,\n",
              "    0.020094930651569042,\n",
              "    0.004849054681131874,\n",
              "    0.029744419154910752,\n",
              "    0.054108211712738816,\n",
              "    0.0035364259779056676,\n",
              "    0.007217776562473683,\n",
              "    0.0059071234843852535,\n",
              "    0.004039338433243067,\n",
              "    0.018589205214706382,\n",
              "    0.019131889873679774,\n",
              "    0.004389909629054642,\n",
              "    0.01906906375173349,\n",
              "    0.0036811729126450332,\n",
              "    0.05129146580751668,\n",
              "    0.015340185990330605,\n",
              "    0.02456316951113344,\n",
              "    0.008573176225982582]]},\n",
              " 'MNIST CNN on Non IID': {'hyperparams': {'C': 0.1,\n",
              "   'E': 5,\n",
              "   'K': 10,\n",
              "   'batch_size': 10,\n",
              "   'lr': 0.05,\n",
              "   'rounds': 50},\n",
              "  'test_accuracy': [[21.39240506329114,\n",
              "    18.354430379746834,\n",
              "    30.0,\n",
              "    11.39240506329114,\n",
              "    20.379746835443036,\n",
              "    18.354430379746834,\n",
              "    20.0,\n",
              "    20.0,\n",
              "    20.88607594936709,\n",
              "    21.645569620253166,\n",
              "    21.772151898734176,\n",
              "    21.518987341772153,\n",
              "    22.151898734177216,\n",
              "    23.29113924050633,\n",
              "    21.89873417721519,\n",
              "    21.89873417721519,\n",
              "    28.860759493670887,\n",
              "    26.835443037974684,\n",
              "    20.0,\n",
              "    20.0,\n",
              "    28.481012658227847,\n",
              "    29.49367088607595,\n",
              "    28.734177215189874,\n",
              "    24.556962025316455,\n",
              "    30.50632911392405,\n",
              "    33.164556962025316,\n",
              "    31.265822784810126,\n",
              "    31.265822784810126,\n",
              "    30.632911392405063,\n",
              "    34.936708860759495,\n",
              "    44.43037974683544,\n",
              "    38.9873417721519,\n",
              "    40.25316455696203,\n",
              "    36.962025316455694,\n",
              "    36.835443037974684,\n",
              "    36.45569620253165,\n",
              "    27.974683544303797,\n",
              "    33.037974683544306,\n",
              "    40.379746835443036,\n",
              "    35.69620253164557,\n",
              "    27.341772151898734,\n",
              "    28.354430379746834,\n",
              "    37.848101265822784,\n",
              "    30.0,\n",
              "    30.88607594936709,\n",
              "    24.17721518987342,\n",
              "    21.89873417721519,\n",
              "    22.151898734177216,\n",
              "    30.126582278481013,\n",
              "    31.139240506329113]],\n",
              "  'test_loss': [[8.84271197052002,\n",
              "    7.113770824432373,\n",
              "    6.454349825286865,\n",
              "    12.072992556762696,\n",
              "    10.552453366088868,\n",
              "    8.824864399719239,\n",
              "    12.85596873626709,\n",
              "    11.645631278991699,\n",
              "    8.055030065917968,\n",
              "    8.380506983947754,\n",
              "    8.540397792053223,\n",
              "    11.827780422973634,\n",
              "    9.824297323608398,\n",
              "    8.094514598083496,\n",
              "    11.203040058898926,\n",
              "    11.3629990234375,\n",
              "    7.514937858581543,\n",
              "    6.794968476867676,\n",
              "    8.31473653869629,\n",
              "    9.254885963439941,\n",
              "    5.501423888397217,\n",
              "    9.820300776672363,\n",
              "    10.216398820495606,\n",
              "    7.806073689270019,\n",
              "    5.473931716156006,\n",
              "    5.934905644226074,\n",
              "    4.765047883605957,\n",
              "    4.997500074005127,\n",
              "    5.330769194793701,\n",
              "    5.825435061645508,\n",
              "    3.9267575088500974,\n",
              "    5.80110149307251,\n",
              "    6.510936006927491,\n",
              "    8.421464202880859,\n",
              "    4.8009462036132815,\n",
              "    4.694532326507568,\n",
              "    8.303094731140137,\n",
              "    6.020111050415039,\n",
              "    6.60033053894043,\n",
              "    9.75610788421631,\n",
              "    7.242523094177246,\n",
              "    7.621399267578125,\n",
              "    4.949456831359863,\n",
              "    6.33274769744873,\n",
              "    7.318049842834473,\n",
              "    6.230342069244385,\n",
              "    6.043957956695556,\n",
              "    7.791155361175537,\n",
              "    5.580402645111084,\n",
              "    3.54044627494812]],\n",
              "  'train_loss': [[0.05999641925277501,\n",
              "    0.1572407981490111,\n",
              "    0.18780219007909182,\n",
              "    0.07055770641455658,\n",
              "    0.11985258053058298,\n",
              "    0.10713247903504208,\n",
              "    0.13645770408496846,\n",
              "    0.012865512072406488,\n",
              "    0.1340694859168548,\n",
              "    0.12083218540431517,\n",
              "    0.013110207009306471,\n",
              "    0.09028179291142843,\n",
              "    0.05457964601814032,\n",
              "    0.0012237027208403125,\n",
              "    0.005440972149047027,\n",
              "    0.003244082878763059,\n",
              "    0.04489275830281129,\n",
              "    0.00342018958290429,\n",
              "    0.07386953282349189,\n",
              "    0.0036991128619764347,\n",
              "    0.03176131728525263,\n",
              "    0.08979727814177195,\n",
              "    0.012656604096878835,\n",
              "    0.09291645539826665,\n",
              "    0.04997542008237625,\n",
              "    0.013047603256729084,\n",
              "    0.006218681234570814,\n",
              "    0.0009476630815935868,\n",
              "    0.0003191174409645707,\n",
              "    0.1775634784305415,\n",
              "    0.15187109440567537,\n",
              "    0.04271616976953207,\n",
              "    0.040717132973314474,\n",
              "    0.0072936643099792186,\n",
              "    0.037304745761477326,\n",
              "    0.03033347750558928,\n",
              "    0.07198508615967318,\n",
              "    0.029692571916411913,\n",
              "    0.04211320817933635,\n",
              "    0.003616679772309546,\n",
              "    0.04022184350413997,\n",
              "    0.08460247064163959,\n",
              "    0.02185867007512835,\n",
              "    0.04379885275988563,\n",
              "    0.04967739246144741,\n",
              "    0.12273616195054071,\n",
              "    0.0016185570727118126,\n",
              "    0.02107942036309693,\n",
              "    0.11771527738168999,\n",
              "    0.03999198500323435]]},\n",
              " 'MNIST MLP on IID': {'hyperparams': {'C': 0.1,\n",
              "   'E': 5,\n",
              "   'K': 10,\n",
              "   'batch_size': 10,\n",
              "   'lr': 0.05,\n",
              "   'rounds': 50},\n",
              "  'test_accuracy': [[87.34177215189874,\n",
              "    91.64556962025317,\n",
              "    91.77215189873418,\n",
              "    92.53164556962025,\n",
              "    92.9113924050633,\n",
              "    93.0379746835443,\n",
              "    92.0253164556962,\n",
              "    92.15189873417721,\n",
              "    92.15189873417721,\n",
              "    92.15189873417721,\n",
              "    93.29113924050633,\n",
              "    93.29113924050633,\n",
              "    92.65822784810126,\n",
              "    93.16455696202532,\n",
              "    94.55696202531645,\n",
              "    92.9113924050633,\n",
              "    93.0379746835443,\n",
              "    93.67088607594937,\n",
              "    92.9113924050633,\n",
              "    93.41772151898734,\n",
              "    93.29113924050633,\n",
              "    93.41772151898734,\n",
              "    93.67088607594937,\n",
              "    94.0506329113924,\n",
              "    94.68354430379746,\n",
              "    93.54430379746836,\n",
              "    94.43037974683544,\n",
              "    94.43037974683544,\n",
              "    94.68354430379746,\n",
              "    94.55696202531645,\n",
              "    94.43037974683544,\n",
              "    94.30379746835443,\n",
              "    93.92405063291139,\n",
              "    93.16455696202532,\n",
              "    93.54430379746836,\n",
              "    93.92405063291139,\n",
              "    93.67088607594937,\n",
              "    94.43037974683544,\n",
              "    94.55696202531645,\n",
              "    94.43037974683544,\n",
              "    94.30379746835443,\n",
              "    93.54430379746836,\n",
              "    94.30379746835443,\n",
              "    94.55696202531645,\n",
              "    94.55696202531645,\n",
              "    94.0506329113924,\n",
              "    95.0632911392405,\n",
              "    94.68354430379746,\n",
              "    94.30379746835443,\n",
              "    94.30379746835443]],\n",
              "  'test_loss': [[0.5101003111124038,\n",
              "    0.37423296447396276,\n",
              "    0.32099985072612763,\n",
              "    0.27676109247505665,\n",
              "    0.28685160504579543,\n",
              "    0.2942296842418611,\n",
              "    0.3145478266810998,\n",
              "    0.3071891076436266,\n",
              "    0.27781373198479414,\n",
              "    0.2934329282607883,\n",
              "    0.28268287126719954,\n",
              "    0.28567479434954,\n",
              "    0.30297977316714825,\n",
              "    0.2691443135812879,\n",
              "    0.262591045627743,\n",
              "    0.2573972517669201,\n",
              "    0.2368623511634767,\n",
              "    0.23825029607079923,\n",
              "    0.2622857654098421,\n",
              "    0.2633020247489214,\n",
              "    0.24955319018680602,\n",
              "    0.24597282411307098,\n",
              "    0.2421441501878202,\n",
              "    0.24314991373419761,\n",
              "    0.2450277445793152,\n",
              "    0.233115886807628,\n",
              "    0.22638120503900572,\n",
              "    0.2397483358312398,\n",
              "    0.24120643071811645,\n",
              "    0.24281399977952242,\n",
              "    0.25086264909133316,\n",
              "    0.24774030295833946,\n",
              "    0.24915962369590997,\n",
              "    0.2598674814071506,\n",
              "    0.24244527192935347,\n",
              "    0.2518124489851296,\n",
              "    0.23897514582276344,\n",
              "    0.2297656631845981,\n",
              "    0.23774060446619988,\n",
              "    0.23456171723119915,\n",
              "    0.237607260726206,\n",
              "    0.27053937700940295,\n",
              "    0.25958858766146004,\n",
              "    0.2568963240325451,\n",
              "    0.24110258994530887,\n",
              "    0.25388383173905316,\n",
              "    0.2377916675585322,\n",
              "    0.2479116253502667,\n",
              "    0.24733460942171515,\n",
              "    0.24417626184606925]],\n",
              "  'train_loss': [[0.42871312042581844,\n",
              "    0.15726225567884589,\n",
              "    0.11176444302099602,\n",
              "    0.13347083786609196,\n",
              "    0.0025880032126709314,\n",
              "    0.001538424503354084,\n",
              "    0.02506670078814447,\n",
              "    0.0034028641403347137,\n",
              "    0.12676845372883688,\n",
              "    0.050619961890661216,\n",
              "    0.0216825152344245,\n",
              "    0.0032308033196022734,\n",
              "    0.12608912328807492,\n",
              "    0.09898540664391475,\n",
              "    0.0864297778656328,\n",
              "    0.037741439777206925,\n",
              "    0.09882924512198465,\n",
              "    0.026657322784643233,\n",
              "    0.023124964529676315,\n",
              "    0.08548313827945093,\n",
              "    0.01080426490621297,\n",
              "    0.01760151171747869,\n",
              "    0.022286016725847728,\n",
              "    0.0006908445291658913,\n",
              "    0.002430533779627997,\n",
              "    0.0217783489059381,\n",
              "    0.002405383478164064,\n",
              "    0.0368910345515845,\n",
              "    0.0008722516695039909,\n",
              "    0.0006103061000370265,\n",
              "    0.012842004883375465,\n",
              "    0.0044911638407756985,\n",
              "    0.045597371771615755,\n",
              "    0.02144934050627095,\n",
              "    0.015613385572311622,\n",
              "    0.007998374754079123,\n",
              "    0.005588605602195003,\n",
              "    0.005323508948792248,\n",
              "    0.0033103256101226935,\n",
              "    0.0009256339430862681,\n",
              "    0.0020521900617302435,\n",
              "    0.008515179756332144,\n",
              "    0.028976465392054635,\n",
              "    0.0024772297725729683,\n",
              "    0.0016460775931424604,\n",
              "    0.021004843321401834,\n",
              "    0.004259063674674053,\n",
              "    0.0031717563850728915,\n",
              "    0.00991580238668424,\n",
              "    0.0003231138433248285]]},\n",
              " 'MNIST MLP on Non IID': {'hyperparams': {'C': 0.1,\n",
              "   'E': 5,\n",
              "   'K': 10,\n",
              "   'batch_size': 10,\n",
              "   'lr': 0.05,\n",
              "   'rounds': 50},\n",
              "  'test_accuracy': [[20.759493670886076,\n",
              "    18.860759493670887,\n",
              "    20.88607594936709,\n",
              "    21.0126582278481,\n",
              "    21.518987341772153,\n",
              "    18.734177215189874,\n",
              "    22.911392405063292,\n",
              "    21.89873417721519,\n",
              "    35.822784810126585,\n",
              "    31.645569620253166,\n",
              "    22.025316455696203,\n",
              "    34.177215189873415,\n",
              "    33.54430379746835,\n",
              "    32.53164556962025,\n",
              "    30.253164556962027,\n",
              "    29.11392405063291,\n",
              "    34.936708860759495,\n",
              "    36.962025316455694,\n",
              "    37.21518987341772,\n",
              "    38.35443037974684,\n",
              "    34.050632911392405,\n",
              "    41.139240506329116,\n",
              "    31.518987341772153,\n",
              "    33.54430379746835,\n",
              "    36.70886075949367,\n",
              "    37.08860759493671,\n",
              "    39.11392405063291,\n",
              "    35.56962025316456,\n",
              "    39.11392405063291,\n",
              "    38.860759493670884,\n",
              "    36.32911392405063,\n",
              "    35.56962025316456,\n",
              "    44.81012658227848,\n",
              "    42.65822784810127,\n",
              "    42.78481012658228,\n",
              "    40.0,\n",
              "    36.20253164556962,\n",
              "    42.40506329113924,\n",
              "    48.9873417721519,\n",
              "    47.59493670886076,\n",
              "    42.151898734177216,\n",
              "    41.77215189873418,\n",
              "    47.9746835443038,\n",
              "    42.65822784810127,\n",
              "    43.67088607594937,\n",
              "    46.962025316455694,\n",
              "    41.51898734177215,\n",
              "    39.49367088607595,\n",
              "    38.860759493670884,\n",
              "    49.74683544303797]],\n",
              "  'test_loss': [[11.061060926818847,\n",
              "    11.168728276062012,\n",
              "    9.414486351013183,\n",
              "    10.573838133239747,\n",
              "    7.028355869293213,\n",
              "    7.32128484954834,\n",
              "    8.806917507934571,\n",
              "    9.305617753601075,\n",
              "    5.827821036529541,\n",
              "    4.921554370117187,\n",
              "    7.941788761138916,\n",
              "    5.3337198143005375,\n",
              "    5.5035333183288575,\n",
              "    6.1127936630249025,\n",
              "    7.927623197937011,\n",
              "    8.518654359436034,\n",
              "    5.090365446472168,\n",
              "    7.239867996978759,\n",
              "    6.2238591697692875,\n",
              "    4.704223296356201,\n",
              "    5.5626169937133785,\n",
              "    7.337375101470947,\n",
              "    8.449338273620606,\n",
              "    8.53834494934082,\n",
              "    5.952311109924317,\n",
              "    5.869281927490235,\n",
              "    5.213266347503662,\n",
              "    6.789216891479493,\n",
              "    5.236440879821777,\n",
              "    5.491398303222656,\n",
              "    6.422165585327148,\n",
              "    6.738899836730957,\n",
              "    5.4310053489685055,\n",
              "    5.088620873260498,\n",
              "    5.448908570861817,\n",
              "    8.117853533935547,\n",
              "    6.91393614654541,\n",
              "    5.71588143157959,\n",
              "    4.189545207214356,\n",
              "    4.337213414764404,\n",
              "    6.347786071777343,\n",
              "    7.458778073120117,\n",
              "    5.550694892120362,\n",
              "    7.282008755493164,\n",
              "    4.939071192169189,\n",
              "    4.6277789169311525,\n",
              "    7.469178115844726,\n",
              "    6.554622024536132,\n",
              "    4.53970396118164,\n",
              "    3.7006801414489745]],\n",
              "  'train_loss': [[0.5125800678576493,\n",
              "    0.07551574836204963,\n",
              "    0.196167108058847,\n",
              "    0.0011380116341274517,\n",
              "    0.030876817442929978,\n",
              "    0.10110582313894308,\n",
              "    0.16338179205968723,\n",
              "    0.11892763542552223,\n",
              "    0.12024796494767998,\n",
              "    0.008755376984143132,\n",
              "    0.04990638981013035,\n",
              "    0.02839316588387013,\n",
              "    9.843586470011564e-05,\n",
              "    0.002753716150062993,\n",
              "    0.08442094043084442,\n",
              "    0.0002870878423038784,\n",
              "    0.007276422799458206,\n",
              "    0.0251645652608308,\n",
              "    0.014430769183599656,\n",
              "    0.051913722367451634,\n",
              "    0.03705973472034972,\n",
              "    0.01767650348028973,\n",
              "    0.054549557957208415,\n",
              "    0.07714837463052995,\n",
              "    0.031012886709492794,\n",
              "    0.020935581863281247,\n",
              "    0.03412286928682269,\n",
              "    0.004615743335493848,\n",
              "    0.004864474645109767,\n",
              "    0.011049141898682915,\n",
              "    0.03476061485558968,\n",
              "    0.0002447766528218587,\n",
              "    0.03488671662143631,\n",
              "    0.009499034305070212,\n",
              "    0.006412741846104487,\n",
              "    0.03835631347220745,\n",
              "    0.038003315243071725,\n",
              "    0.015189077801812046,\n",
              "    0.024077528944359116,\n",
              "    0.00025706336321424197,\n",
              "    0.010098400076237558,\n",
              "    0.01970342102372178,\n",
              "    0.005478725038352798,\n",
              "    0.0032024655852746346,\n",
              "    0.007227281852827701,\n",
              "    0.007928381606267305,\n",
              "    0.033266781488474506,\n",
              "    0.019578635322604034,\n",
              "    0.009272487014055404,\n",
              "    0.0140855073033764]]}}"
            ]
          },
          "metadata": {
            "tags": []
          },
          "execution_count": 92
        }
      ]
    },
    {
      "cell_type": "code",
      "metadata": {
        "id": "PBTROwiHneQv"
      },
      "source": [
        "import pickle\n",
        " \n",
        "with open(path + 'FedAvgNum_of_clients_10.pkl', 'rb') as file:\n",
        "  log_dict = pickle.load(file)"
      ],
      "execution_count": 93,
      "outputs": []
    },
    {
      "cell_type": "code",
      "metadata": {
        "id": "se_04JMaVJPg",
        "colab": {
          "base_uri": "https://localhost:8080/"
        },
        "outputId": "55039ad9-d365-46ef-ec50-f3b4e261d268"
      },
      "source": [
        "print([test_acc[-1] for test_acc in log_dict['MNIST CNN on IID']['test_accuracy']])"
      ],
      "execution_count": 94,
      "outputs": [
        {
          "output_type": "stream",
          "text": [
            "[98.73417721518987]\n"
          ],
          "name": "stdout"
        }
      ]
    },
    {
      "cell_type": "code",
      "metadata": {
        "id": "5sv0rv-G4Sqa",
        "colab": {
          "base_uri": "https://localhost:8080/"
        },
        "outputId": "202a6791-5ca6-4120-ba05-d5f70e4c76e7"
      },
      "source": [
        "print([test_acc[-1] for test_acc in log_dict['MNIST CNN on Non IID']['test_accuracy']])"
      ],
      "execution_count": 95,
      "outputs": [
        {
          "output_type": "stream",
          "text": [
            "[31.139240506329113]\n"
          ],
          "name": "stdout"
        }
      ]
    },
    {
      "cell_type": "code",
      "metadata": {
        "id": "b2a2_Az-4nal",
        "colab": {
          "base_uri": "https://localhost:8080/"
        },
        "outputId": "4942c726-02e6-4437-d4f4-fd08340f7fbd"
      },
      "source": [
        "print([test_acc[-1] for test_acc in log_dict['MNIST MLP on IID']['test_accuracy']])"
      ],
      "execution_count": 96,
      "outputs": [
        {
          "output_type": "stream",
          "text": [
            "[94.30379746835443]\n"
          ],
          "name": "stdout"
        }
      ]
    },
    {
      "cell_type": "code",
      "metadata": {
        "id": "YoRqZyvD4p2K",
        "colab": {
          "base_uri": "https://localhost:8080/"
        },
        "outputId": "6ae978af-cdc1-4890-856a-3523f176f0b6"
      },
      "source": [
        "print([test_acc[-1] for test_acc in log_dict['MNIST MLP on Non IID']['test_accuracy']])"
      ],
      "execution_count": 97,
      "outputs": [
        {
          "output_type": "stream",
          "text": [
            "[49.74683544303797]\n"
          ],
          "name": "stdout"
        }
      ]
    },
    {
      "cell_type": "code",
      "metadata": {
        "id": "B87eGKJnAHIh",
        "colab": {
          "base_uri": "https://localhost:8080/"
        },
        "outputId": "135147ac-ff47-4ae3-d812-d9b38cff7551"
      },
      "source": [
        "output.show()"
      ],
      "execution_count": 98,
      "outputs": [
        {
          "output_type": "stream",
          "text": [
            "Drive already mounted at /content/drive; to attempt to forcibly remount, call drive.mount(\"/content/drive\", force_remount=True).\n"
          ],
          "name": "stdout"
        }
      ]
    },
    {
      "cell_type": "code",
      "metadata": {
        "id": "4wJTXta4neQy"
      },
      "source": [
        ""
      ],
      "execution_count": 90,
      "outputs": []
    }
  ]
}