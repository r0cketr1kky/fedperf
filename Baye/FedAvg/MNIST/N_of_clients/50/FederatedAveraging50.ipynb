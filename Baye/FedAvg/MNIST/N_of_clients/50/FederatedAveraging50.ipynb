{
  "nbformat": 4,
  "nbformat_minor": 0,
  "metadata": {
    "accelerator": "GPU",
    "colab": {
      "name": "FederatedAveraging50.ipynb",
      "provenance": [],
      "collapsed_sections": [],
      "machine_shape": "hm"
    },
    "kernelspec": {
      "name": "python3",
      "display_name": "Python 3"
    },
    "language_info": {
      "name": "python"
    }
  },
  "cells": [
    {
      "cell_type": "markdown",
      "metadata": {
        "id": "view-in-github"
      },
      "source": [
        "<a href=\"https://colab.research.google.com/github/tushar-semwal/fedperf/blob/main/Vineeth/Local_Rounds/FedAvg/FederatedAveraging.ipynb\" target=\"_parent\"><img src=\"https://colab.research.google.com/assets/colab-badge.svg\" alt=\"Open In Colab\"/></a>"
      ]
    },
    {
      "cell_type": "code",
      "metadata": {
        "id": "yKcpjZLrQQJV"
      },
      "source": [
        "%%capture output\n",
        "try:\n",
        "    from google.colab import drive\n",
        "    drive.mount('/content/drive')\n",
        "\n",
        "    import os\n",
        "    path = '/content/drive/MyDrive/Colab Notebooks/FedPerf/'\n",
        "    os.makedirs(path, exist_ok=True)\n",
        "except:\n",
        "    path = './'"
      ],
      "execution_count": 99,
      "outputs": []
    },
    {
      "cell_type": "markdown",
      "metadata": {
        "id": "-0_nKpfq2h1R"
      },
      "source": [
        "## Imports"
      ]
    },
    {
      "cell_type": "code",
      "metadata": {
        "colab": {
          "base_uri": "https://localhost:8080/"
        },
        "id": "DLLNM9X2JbQ8",
        "outputId": "d707fc6a-c400-4da0-dec0-cb93e07dba98"
      },
      "source": [
        "%load_ext tensorboard\n",
        "import os\n",
        "import numpy as np\n",
        "import matplotlib\n",
        "import matplotlib.pyplot as plt\n",
        "import copy\n",
        "import random\n",
        "import time\n",
        "\n",
        "import torch\n",
        "import torch.nn as nn\n",
        "import torch.nn.functional as F\n",
        "\n",
        "from torch.utils.data import Dataset, DataLoader\n",
        "from torch.utils.tensorboard import SummaryWriter\n",
        "from torchvision import transforms, utils, datasets\n",
        "from torchsummary import summary\n",
        "\n",
        "\n",
        "# Check assigned GPU\n",
        "gpu_info = !nvidia-smi\n",
        "gpu_info = '\\n'.join(gpu_info)\n",
        "if gpu_info.find('failed') >= 0:\n",
        "  print('Select the Runtime > \"Change runtime type\" menu to enable a GPU accelerator, ')\n",
        "  print('and then re-execute this cell.')\n",
        "else:\n",
        "  print(gpu_info)\n",
        "\n",
        "# set manual seed for reproducibility\n",
        "seed = 42\n",
        "\n",
        "# general reproducibility\n",
        "random.seed(seed)\n",
        "np.random.seed(seed)\n",
        "torch.manual_seed(seed)\n",
        "\n",
        "# gpu training specific\n",
        "torch.backends.cudnn.deterministic = True\n",
        "torch.backends.cudnn.benchmark = False"
      ],
      "execution_count": 100,
      "outputs": [
        {
          "output_type": "stream",
          "text": [
            "The tensorboard extension is already loaded. To reload it, use:\n",
            "  %reload_ext tensorboard\n",
            "Wed Apr 21 10:58:09 2021       \n",
            "+-----------------------------------------------------------------------------+\n",
            "| NVIDIA-SMI 460.67       Driver Version: 460.32.03    CUDA Version: 11.2     |\n",
            "|-------------------------------+----------------------+----------------------+\n",
            "| GPU  Name        Persistence-M| Bus-Id        Disp.A | Volatile Uncorr. ECC |\n",
            "| Fan  Temp  Perf  Pwr:Usage/Cap|         Memory-Usage | GPU-Util  Compute M. |\n",
            "|                               |                      |               MIG M. |\n",
            "|===============================+======================+======================|\n",
            "|   0  Tesla T4            Off  | 00000000:00:04.0 Off |                    0 |\n",
            "| N/A   72C    P0    32W /  70W |   1214MiB / 15109MiB |      0%      Default |\n",
            "|                               |                      |                  N/A |\n",
            "+-------------------------------+----------------------+----------------------+\n",
            "                                                                               \n",
            "+-----------------------------------------------------------------------------+\n",
            "| Processes:                                                                  |\n",
            "|  GPU   GI   CI        PID   Type   Process name                  GPU Memory |\n",
            "|        ID   ID                                                   Usage      |\n",
            "|=============================================================================|\n",
            "+-----------------------------------------------------------------------------+\n"
          ],
          "name": "stdout"
        }
      ]
    },
    {
      "cell_type": "markdown",
      "metadata": {
        "id": "NY4eWzGiL6Mj"
      },
      "source": [
        "## Load the MNIST Dataset"
      ]
    },
    {
      "cell_type": "code",
      "metadata": {
        "id": "G649tjTXLL8F"
      },
      "source": [
        "# create transforms\n",
        "# We will just convert to tensor and normalize since no special transforms are mentioned in the paper\n",
        "transforms_mnist = transforms.Compose([\n",
        "                                       transforms.ToTensor(),\n",
        "                                       transforms.Normalize((0.1307,), (0.3081,))\n",
        "                                       ])\n",
        "\n",
        "mnist_data_train = datasets.MNIST('./data/mnist/', train=True, download=True, transform=transforms_mnist)\n",
        "mnist_data_test = datasets.MNIST('../data/mnist/', train=False, download=True, transform=transforms_mnist)"
      ],
      "execution_count": 101,
      "outputs": []
    },
    {
      "cell_type": "code",
      "metadata": {
        "colab": {
          "base_uri": "https://localhost:8080/"
        },
        "id": "dm9usjn2vFkL",
        "outputId": "1dcca62b-5ac2-4ef3-cdec-01357f5408cc"
      },
      "source": [
        "classes = np.array(list(mnist_data_train.class_to_idx.values()))\n",
        "classes_test = np.array(list(mnist_data_test.class_to_idx.values()))\n",
        "num_classes = len(classes_test)\n",
        "print(\"Classes: {} \\tType: {}\".format(classes, type(classes)))\n",
        "print(\"Classes Test: {} \\tType: {}\".format(classes_test, type(classes)))\n"
      ],
      "execution_count": 102,
      "outputs": [
        {
          "output_type": "stream",
          "text": [
            "Classes: [0 1 2 3 4 5 6 7 8 9] \tType: <class 'numpy.ndarray'>\n",
            "Classes Test: [0 1 2 3 4 5 6 7 8 9] \tType: <class 'numpy.ndarray'>\n"
          ],
          "name": "stdout"
        }
      ]
    },
    {
      "cell_type": "code",
      "metadata": {
        "colab": {
          "base_uri": "https://localhost:8080/"
        },
        "id": "9lvJt3Ofv2SO",
        "outputId": "9e4c2a61-8f62-456a-c610-b73eb118661d"
      },
      "source": [
        "print(\"Image Shape: {}\".format(mnist_data_train.data[0].size()))"
      ],
      "execution_count": 103,
      "outputs": [
        {
          "output_type": "stream",
          "text": [
            "Image Shape: torch.Size([28, 28])\n"
          ],
          "name": "stdout"
        }
      ]
    },
    {
      "cell_type": "markdown",
      "metadata": {
        "id": "jCOONkg-zV7Y"
      },
      "source": [
        "## Visualize Data"
      ]
    },
    {
      "cell_type": "code",
      "metadata": {
        "id": "R9MK03TZw6Qs"
      },
      "source": [
        "def imshow(img):\n",
        "\timg = img/2 + 0.5 #unnormalize the image\n",
        "\tplt.imshow(img, cmap='gray') # convert from tensor to image"
      ],
      "execution_count": 104,
      "outputs": []
    },
    {
      "cell_type": "code",
      "metadata": {
        "id": "gMJ0Kx4Kw-_H"
      },
      "source": [
        "def visualize(dataset):\n",
        "  figure = plt.figure(figsize=(25,4))\n",
        "  for i in range(20):\n",
        "    axis = figure.add_subplot(2, 20/2, i+1, xticks=[], yticks=[])\n",
        "    data = dataset.data[i]\n",
        "    data = data.numpy()\n",
        "\n",
        "    target = dataset.targets[i]\n",
        "    target = target.numpy()\n",
        "    imshow(data)\n",
        "    axis.set_title(target)\n"
      ],
      "execution_count": 105,
      "outputs": []
    },
    {
      "cell_type": "code",
      "metadata": {
        "colab": {
          "base_uri": "https://localhost:8080/",
          "height": 268
        },
        "id": "8bPOwKg10Ro7",
        "outputId": "024dc20e-3c88-48b7-e6c5-39976594a499"
      },
      "source": [
        "visualize(mnist_data_train)"
      ],
      "execution_count": 106,
      "outputs": [
        {
          "output_type": "display_data",
          "data": {
            "image/png": "[encoded data removed]",
            "text/plain": [
              "<Figure size 1800x288 with 20 Axes>"
            ]
          },
          "metadata": {
            "tags": []
          }
        }
      ]
    },
    {
      "cell_type": "code",
      "metadata": {
        "colab": {
          "base_uri": "https://localhost:8080/",
          "height": 268
        },
        "id": "RKoh5Cf70UYu",
        "outputId": "f62fbb40-3b8d-4edf-f098-7c0f06f3dd84"
      },
      "source": [
        "visualize(mnist_data_test)"
      ],
      "execution_count": 107,
      "outputs": [
        {
          "output_type": "display_data",
          "data": {
            "image/png": "[encoded data removed]",
            "text/plain": [
              "<Figure size 1800x288 with 20 Axes>"
            ]
          },
          "metadata": {
            "tags": []
          }
        }
      ]
    },
    {
      "cell_type": "markdown",
      "metadata": {
        "id": "ctjRsETiO1qO"
      },
      "source": [
        "## Partitioning the Data (IID and non-IID)"
      ]
    },
    {
      "cell_type": "code",
      "metadata": {
        "id": "3_v8lyrgO5dD"
      },
      "source": [
        "def iid_partition(dataset, clients):\n",
        "  \"\"\"\n",
        "  I.I.D paritioning of data over clients\n",
        "  Shuffle the data\n",
        "  Split it between clients\n",
        "  \n",
        "  params:\n",
        "    - dataset (torch.utils.Dataset): Dataset containing the MNIST Images\n",
        "    - clients (int): Number of Clients to split the data between\n",
        "\n",
        "  returns:\n",
        "    - Dictionary of image indexes for each client\n",
        "  \"\"\"\n",
        "\n",
        "  num_items_per_client = int(len(dataset)/clients)\n",
        "  client_dict = {}\n",
        "  image_idxs = [i for i in range(len(dataset))]\n",
        "\n",
        "  for i in range(clients):\n",
        "    client_dict[i] = set(np.random.choice(image_idxs, num_items_per_client, replace=False))\n",
        "    image_idxs = list(set(image_idxs) - client_dict[i])\n",
        "\n",
        "  return client_dict"
      ],
      "execution_count": 108,
      "outputs": []
    },
    {
      "cell_type": "code",
      "metadata": {
        "id": "4zMdliGMQoSl"
      },
      "source": [
        "def non_iid_partition(dataset, clients, total_shards, shards_size, num_shards_per_client):\n",
        "  \"\"\"\n",
        "  non I.I.D parititioning of data over clients\n",
        "  Sort the data by the digit label\n",
        "  Divide the data into N shards of size S\n",
        "  Each of the clients will get X shards\n",
        "\n",
        "  params:\n",
        "    - dataset (torch.utils.Dataset): Dataset containing the MNIST Images\n",
        "    - clients (int): Number of Clients to split the data between\n",
        "    - total_shards (int): Number of shards to partition the data in\n",
        "    - shards_size (int): Size of each shard \n",
        "    - num_shards_per_client (int): Number of shards of size shards_size that each client receives\n",
        "\n",
        "  returns:\n",
        "    - Dictionary of image indexes for each client\n",
        "  \"\"\"\n",
        "  \n",
        "  shard_idxs = [i for i in range(total_shards)]\n",
        "  client_dict = {i: np.array([], dtype='int64') for i in range(clients)}\n",
        "  idxs = np.arange(len(dataset))\n",
        "  data_labels = dataset.targets.numpy()\n",
        "\n",
        "  # sort the labels\n",
        "  label_idxs = np.vstack((idxs, data_labels))\n",
        "  label_idxs = label_idxs[:, label_idxs[1,:].argsort()]\n",
        "  idxs = label_idxs[0,:]\n",
        "\n",
        "  # divide the data into total_shards of size shards_size\n",
        "  # assign num_shards_per_client to each client\n",
        "  for i in range(clients):\n",
        "    rand_set = set(np.random.choice(shard_idxs, num_shards_per_client, replace=False))\n",
        "    shard_idxs = list(set(shard_idxs) - rand_set)\n",
        "\n",
        "    for rand in rand_set:\n",
        "      client_dict[i] = np.concatenate((client_dict[i], idxs[rand*shards_size:(rand+1)*shards_size]), axis=0)\n",
        "  \n",
        "  return client_dict\n",
        "\n",
        "\n",
        "\n"
      ],
      "execution_count": 109,
      "outputs": []
    },
    {
      "cell_type": "markdown",
      "metadata": {
        "id": "PTfxv8kFoGAy"
      },
      "source": [
        "## Models"
      ]
    },
    {
      "cell_type": "code",
      "metadata": {
        "id": "CvoDNFKbZST5"
      },
      "source": [
        "class MNIST_2NN(nn.Module):\n",
        "  \"\"\"\n",
        "  A simple multilayer-perceptron with 2-hidden layers with 200 units each\n",
        "  using ReLu activations\n",
        "\n",
        "  Total Expected Params: 199,210\n",
        "  \"\"\"\n",
        "  def __init__(self):\n",
        "    super(MNIST_2NN, self).__init__()\n",
        "\n",
        "    self.fc1 = nn.Linear(28*28, 200)\n",
        "    self.fc2 = nn.Linear(200, 200)\n",
        "    self.fc3 = nn.Linear(200, 10)\n",
        "\n",
        "  def forward(self, x):\n",
        "    x = torch.flatten(x, 1)\n",
        "    x = F.relu(self.fc1(x))\n",
        "    x = F.relu(self.fc2(x))\n",
        "    out = self.fc3(x)\n",
        "\n",
        "    return x"
      ],
      "execution_count": 110,
      "outputs": []
    },
    {
      "cell_type": "code",
      "metadata": {
        "id": "ut1hZ8x3qYPZ"
      },
      "source": [
        "class MNIST_CNN(nn.Module):\n",
        "  \"\"\"\n",
        "  CNN with two 5x5 convolution lauers(the first with 32 channels, second with 64,\n",
        "  each followed with 2x2 max pooling), a fully connected layer with 512 uunits and \n",
        "  ReLu activation, and the final Softmax output layer\n",
        "\n",
        "  Total Expected Params: 1,663,370\n",
        "  \"\"\"\n",
        "  def __init__(self):\n",
        "    super(MNIST_CNN, self).__init__()\n",
        "\n",
        "    self.conv1 = nn.Conv2d(1, 32, kernel_size=5)\n",
        "    self.conv2 = nn.Conv2d(32, 64, kernel_size=5)\n",
        "    \n",
        "    self.pool = nn.MaxPool2d(2,2)\n",
        "    self.dropout = nn.Dropout(p=0.2)\n",
        "\n",
        "    self.fc1 = nn.Linear(1024, 512)\n",
        "    self.out = nn.Linear(512, 10)\n",
        "\n",
        "  def forward(self, x):\n",
        "    x = self.pool(F.relu(self.conv1(x)))\n",
        "    x = self.pool(F.relu(self.conv2(x)))\n",
        "    x = self.dropout(x)\n",
        "    x = torch.flatten(x, 1)\n",
        "    x = F.relu(self.fc1(x))\n",
        "    x = self.out(x)\n",
        "    out = F.log_softmax(x, dim=1)\n",
        "\n",
        "    return out"
      ],
      "execution_count": 111,
      "outputs": []
    },
    {
      "cell_type": "markdown",
      "metadata": {
        "id": "uVv4HA9HuLtr"
      },
      "source": [
        "### Print Model Summaries"
      ]
    },
    {
      "cell_type": "code",
      "metadata": {
        "colab": {
          "base_uri": "https://localhost:8080/"
        },
        "id": "I5oTH710sJEt",
        "outputId": "85c08af8-a51f-4948-ff8f-03037dcd1a97"
      },
      "source": [
        "mnist_mlp = MNIST_2NN()\n",
        "mnist_cnn = MNIST_CNN()\n",
        "\n",
        "if torch.cuda.is_available():\n",
        "  mnist_mlp.cuda()\n",
        "  mnist_cnn.cuda()\n",
        "\n",
        "print(\"MNIST MLP SUMMARY\")\n",
        "print(summary(mnist_mlp, (28,28)))\n",
        "\n",
        "print(\"\\nMNIST CNN SUMMARY\")\n",
        "print(summary(mnist_cnn, (1, 28,28)))"
      ],
      "execution_count": 112,
      "outputs": [
        {
          "output_type": "stream",
          "text": [
            "MNIST MLP SUMMARY\n",
            "----------------------------------------------------------------\n",
            "        Layer (type)               Output Shape         Param #\n",
            "================================================================\n",
            "            Linear-1                  [-1, 200]         157,000\n",
            "            Linear-2                  [-1, 200]          40,200\n",
            "            Linear-3                   [-1, 10]           2,010\n",
            "================================================================\n",
            "Total params: 199,210\n",
            "Trainable params: 199,210\n",
            "Non-trainable params: 0\n",
            "----------------------------------------------------------------\n",
            "Input size (MB): 0.00\n",
            "Forward/backward pass size (MB): 0.00\n",
            "Params size (MB): 0.76\n",
            "Estimated Total Size (MB): 0.77\n",
            "----------------------------------------------------------------\n",
            "None\n",
            "\n",
            "MNIST CNN SUMMARY\n",
            "----------------------------------------------------------------\n",
            "        Layer (type)               Output Shape         Param #\n",
            "================================================================\n",
            "            Conv2d-1           [-1, 32, 24, 24]             832\n",
            "         MaxPool2d-2           [-1, 32, 12, 12]               0\n",
            "            Conv2d-3             [-1, 64, 8, 8]          51,264\n",
            "         MaxPool2d-4             [-1, 64, 4, 4]               0\n",
            "           Dropout-5             [-1, 64, 4, 4]               0\n",
            "            Linear-6                  [-1, 512]         524,800\n",
            "            Linear-7                   [-1, 10]           5,130\n",
            "================================================================\n",
            "Total params: 582,026\n",
            "Trainable params: 582,026\n",
            "Non-trainable params: 0\n",
            "----------------------------------------------------------------\n",
            "Input size (MB): 0.00\n",
            "Forward/backward pass size (MB): 0.23\n",
            "Params size (MB): 2.22\n",
            "Estimated Total Size (MB): 2.45\n",
            "----------------------------------------------------------------\n",
            "None\n"
          ],
          "name": "stdout"
        }
      ]
    },
    {
      "cell_type": "markdown",
      "metadata": {
        "id": "gf_8XEXa-gZ7"
      },
      "source": [
        "## Federated Averaging"
      ]
    },
    {
      "cell_type": "markdown",
      "metadata": {
        "id": "L-aNdQsQ-Kvp"
      },
      "source": [
        "### Local Training (Client Update)\n",
        "\n",
        "Local training for the model on client side"
      ]
    },
    {
      "cell_type": "code",
      "metadata": {
        "id": "oX6OsQyO-Gz7"
      },
      "source": [
        "class CustomDataset(Dataset):\n",
        "  def __init__(self, dataset, idxs):\n",
        "      self.dataset = dataset\n",
        "      self.idxs = list(idxs)\n",
        "\n",
        "  def __len__(self):\n",
        "      return len(self.idxs)\n",
        "\n",
        "  def __getitem__(self, item):\n",
        "      image, label = self.dataset[self.idxs[item]]\n",
        "      return image, label\n",
        "\n",
        "\n",
        "class ClientUpdate(object):\n",
        "  def __init__(self, dataset, batchSize, learning_rate, epochs, idxs):\n",
        "    self.train_loader = DataLoader(CustomDataset(dataset, idxs), batch_size=batchSize, shuffle=True)\n",
        "\n",
        "    self.learning_rate = learning_rate\n",
        "    self.epochs = epochs\n",
        "\n",
        "  def train(self, model):\n",
        "    criterion = nn.CrossEntropyLoss()\n",
        "    optimizer = torch.optim.SGD(model.parameters(), lr=self.learning_rate, momentum=0.5)\n",
        "    # optimizer = torch.optim.Adam(model.parameters(), lr=self.learning_rate)\n",
        "\n",
        "    e_loss = []\n",
        "    for epoch in range(1, self.epochs+1):\n",
        "\n",
        "      train_loss = 0.0\n",
        "      model.train()\n",
        "      for data, labels in self.train_loader:\n",
        "\n",
        "        if torch.cuda.is_available():\n",
        "          data, labels = data.cuda(), labels.cuda()\n",
        "\n",
        "        # clear the gradients\n",
        "        optimizer.zero_grad()\n",
        "        # make a forward pass\n",
        "        output = model(data)\n",
        "        # calculate the loss\n",
        "        loss = criterion(output, labels)\n",
        "        # do a backwards pass\n",
        "        loss.backward()\n",
        "        # perform a single optimization step\n",
        "        optimizer.step()\n",
        "        # update training loss\n",
        "        train_loss += loss.item()*data.size(0)\n",
        "\n",
        "      # average losses\n",
        "      train_loss = train_loss/len(self.train_loader.dataset)\n",
        "      e_loss.append(train_loss)\n",
        "\n",
        "    total_loss = sum(e_loss)/len(e_loss)\n",
        "\n",
        "    return model.state_dict(), total_loss"
      ],
      "execution_count": 113,
      "outputs": []
    },
    {
      "cell_type": "markdown",
      "metadata": {
        "id": "Ukgh1DVHE2Ds"
      },
      "source": [
        "### Server Side Training\n",
        "\n",
        "Following Algorithm 1 from the paper"
      ]
    },
    {
      "cell_type": "code",
      "metadata": {
        "id": "1NF1e33BgpeL"
      },
      "source": [
        "def training(model, rounds, batch_size, lr, ds, ds_test, data_dict, C, K, E, plt_title, plt_color):\n",
        "  \"\"\"\n",
        "  Function implements the Federated Averaging Algorithm from the FedAvg paper.\n",
        "  Specifically, this function is used for the server side training and weight update\n",
        "\n",
        "  Params:\n",
        "    - model:           PyTorch model to train\n",
        "    - rounds:          Number of communication rounds for the client update\n",
        "    - batch_size:      Batch size for client update training\n",
        "    - lr:              Learning rate used for client update training\n",
        "    - ds:              Dataset used for training\n",
        "    - ds_test:         Dataset used for testing\n",
        "    - data_dict:       Type of data partition used for training (IID or non-IID)\n",
        "    - C:               Fraction of clients randomly chosen to perform computation on each round\n",
        "    - K:               Total number of clients\n",
        "    - E:               Number of training passes each client makes over its local dataset per round\n",
        "    - tb_writer_name:  Directory name to save the tensorboard logs\n",
        "  Returns:\n",
        "    - model:           Trained model on the server\n",
        "  \"\"\"\n",
        "\n",
        "  # global model weights\n",
        "  global_weights = model.state_dict()\n",
        "\n",
        "  # training loss\n",
        "  # train_accuracy = []\n",
        "  train_loss = []\n",
        "  test_accuracy = []\n",
        "  test_loss = []\n",
        "\n",
        "\n",
        "  # measure time\n",
        "  start = time.time()\n",
        "\n",
        "  for curr_round in range(1, rounds+1):\n",
        "    w, local_loss = [], []\n",
        "\n",
        "    m = max(int(C*K), 1)\n",
        "    \n",
        "    S_t = np.random.choice(range(K), m, replace=False)\n",
        "    for k in S_t:\n",
        "      local_update = ClientUpdate(dataset=ds, batchSize=batch_size, learning_rate=lr, epochs=E, idxs=data_dict[k])\n",
        "      weights, loss = local_update.train(model=copy.deepcopy(model))\n",
        "\n",
        "      w.append(copy.deepcopy(weights))\n",
        "      local_loss.append(copy.deepcopy(loss))\n",
        "\n",
        "    # updating the global weights\n",
        "    weights_avg = copy.deepcopy(w[0])\n",
        "    for k in weights_avg.keys():\n",
        "      for i in range(1, len(w)):\n",
        "        weights_avg[k] += w[i][k]\n",
        "\n",
        "      weights_avg[k] = torch.div(weights_avg[k], len(w))\n",
        "\n",
        "    global_weights = weights_avg\n",
        "\n",
        "    # move the updated weights to our model state dict\n",
        "    model.load_state_dict(global_weights)\n",
        "\n",
        "    # loss\n",
        "    loss_avg = sum(local_loss) / len(local_loss)\n",
        "    print('Round: {}... \\tAverage Loss: {}'.format(curr_round, round(loss_avg, 3)))\n",
        "    train_loss.append(loss_avg)\n",
        "\n",
        "    # test\n",
        "    test_criterion = nn.CrossEntropyLoss()\n",
        "    test_accuracy_current, test_loss_current =  testing(copy.deepcopy(model), ds_test, 128, test_criterion, num_classes, classes_test)\n",
        "    test_accuracy.append(test_accuracy_current)\n",
        "    test_loss.append(test_loss_current)\n",
        "\n",
        "  end = time.time()\n",
        "  \n",
        "  fig, ax = plt.subplots()\n",
        "  x_axis = np.arange(1, rounds+1)\n",
        "  y_axis = np.array(train_loss)\n",
        "  ax.plot(x_axis, y_axis, 'tab:'+plt_color)\n",
        "\n",
        "  ax.set(xlabel='Number of Rounds', ylabel='Train Loss',\n",
        "       title=plt_title)\n",
        "  ax.grid()\n",
        "  fig.savefig(plt_title+'_Train_loss.jpg', format='jpg')\n",
        "  plt.show()\n",
        "\n",
        "  fig, ax = plt.subplots()\n",
        "  x_axis = np.arange(1, rounds+1)\n",
        "  y_axis = np.array(test_loss)\n",
        "  ax.plot(x_axis, y_axis, 'tab:'+plt_color)\n",
        "\n",
        "  ax.set(xlabel='Number of Rounds', ylabel='Test Loss',\n",
        "       title=plt_title)\n",
        "  ax.grid()\n",
        "  fig.savefig(plt_title+'_Test_loss.jpg', format='jpg')\n",
        "  plt.show()\n",
        "\n",
        "  fig, ax = plt.subplots()\n",
        "  x_axis = np.arange(1, rounds+1)\n",
        "  y_axis = np.array(test_accuracy)\n",
        "  ax.plot(x_axis, y_axis, 'tab:'+plt_color)\n",
        "\n",
        "  ax.set(xlabel='Number of Rounds', ylabel='Test Accuracy',\n",
        "       title=plt_title)\n",
        "  ax.grid()\n",
        "  fig.savefig(plt_title+'_Test_Accuracy.jpg', format='jpg')\n",
        "  plt.show()\n",
        "  \n",
        "  print(\"Training Done!\")\n",
        "  print(\"Total time taken to Train: {}\\n\\n\".format(end-start))\n",
        "  \n",
        "  return model, train_loss, test_accuracy, test_loss"
      ],
      "execution_count": 114,
      "outputs": []
    },
    {
      "cell_type": "markdown",
      "metadata": {
        "id": "tUYyb4T-uXmF"
      },
      "source": [
        "## Testing Loop"
      ]
    },
    {
      "cell_type": "code",
      "metadata": {
        "id": "uCcIZmO5uan9"
      },
      "source": [
        "def testing(model, dataset, bs, criterion, num_classes, classes, print_info=False):\n",
        "  #test loss \n",
        "  test_loss = 0.0\n",
        "  correct_class = list(0. for i in range(num_classes))\n",
        "  total_class = list(0. for i in range(num_classes))\n",
        "\n",
        "  test_loader = DataLoader(dataset, batch_size=bs)\n",
        "  l = len(test_loader)\n",
        "  model.eval()\n",
        "  for data, labels in test_loader:\n",
        "\n",
        "    if torch.cuda.is_available():\n",
        "      data, labels = data.cuda(), labels.cuda()\n",
        "\n",
        "    output = model(data)\n",
        "    loss = criterion(output, labels)\n",
        "    test_loss += loss.item()*data.size(0)\n",
        "\n",
        "    _, pred = torch.max(output, 1)\n",
        "\n",
        "    correct_tensor = pred.eq(labels.data.view_as(pred))\n",
        "    correct = np.squeeze(correct_tensor.numpy()) if not torch.cuda.is_available() else np.squeeze(correct_tensor.cpu().numpy())\n",
        "\n",
        "    #test accuracy for each object class\n",
        "    for i in range(num_classes):\n",
        "      label = labels.data[i]\n",
        "      correct_class[label] += correct[i].item()\n",
        "      total_class[label] += 1\n",
        "    \n",
        "  # avg test loss\n",
        "  test_loss = test_loss/len(test_loader.dataset)\n",
        "  test_accuracy = 100. * np.sum(correct_class) / np.sum(total_class)\n",
        "\n",
        "  if print_info:\n",
        "    print(\"Test Loss: {:.6f}\\n\".format(test_loss))\n",
        "\n",
        "    for i in range(10):\n",
        "      if total_class[i]>0:\n",
        "        print('Test Accuracy of %5s: %2d%% (%2d/%2d)' % \n",
        "              (classes[i], 100 * correct_class[i] / total_class[i],\n",
        "              np.sum(correct_class[i]), np.sum(total_class[i])))\n",
        "      else:\n",
        "        print('Test Accuracy of %5s: N/A (no training examples)' % (classes[i]))\n",
        "\n",
        "    print('\\nFinal Test  Accuracy: {:.3f} ({}/{})'.format(\n",
        "          100. * np.sum(correct_class) / np.sum(total_class),\n",
        "          np.sum(correct_class), np.sum(total_class)))\n",
        "  \n",
        "  return test_accuracy, test_loss"
      ],
      "execution_count": 115,
      "outputs": []
    },
    {
      "cell_type": "markdown",
      "metadata": {
        "id": "Ri0FqXFeHW-V"
      },
      "source": [
        "## Logger"
      ]
    },
    {
      "cell_type": "code",
      "metadata": {
        "id": "thZm2kSiHT4v"
      },
      "source": [
        "log_dict = {}\n",
        "NUM_REPEAT = 1"
      ],
      "execution_count": 116,
      "outputs": []
    },
    {
      "cell_type": "markdown",
      "metadata": {
        "id": "4hO5oV6aXqeh"
      },
      "source": [
        "## MNIST CNN on IID"
      ]
    },
    {
      "cell_type": "markdown",
      "metadata": {
        "id": "flSQv_P4zCfx"
      },
      "source": [
        "### Train\n"
      ]
    },
    {
      "cell_type": "code",
      "metadata": {
        "colab": {
          "base_uri": "https://localhost:8080/",
          "height": 1000
        },
        "id": "0ZalcKZtEseA",
        "outputId": "561cc0e2-bf46-4543-a3fe-707accd545b9"
      },
      "source": [
        "train_loss_multiple_runs = [None] * NUM_REPEAT\n",
        "test_accuracy_multiple_runs = [None] * NUM_REPEAT\n",
        "test_loss_multiple_runs = [None] * NUM_REPEAT\n",
        "\n",
        "for exp_num in range(NUM_REPEAT):\n",
        "  print(\"Experiment Run Number: \", exp_num)\n",
        "\n",
        "  # number of training rounds\n",
        "  rounds = 50\n",
        "  # client fraction\n",
        "  C = 0.1\n",
        "  # number of clients\n",
        "  K = 50\n",
        "  # number of training passes on local dataset for each roung\n",
        "  E = 5\n",
        "  # batch size\n",
        "  batch_size = 10\n",
        "  # learning Rate\n",
        "  lr=0.05\n",
        "  # data partition dictionary\n",
        "  iid_dict = iid_partition(mnist_data_train, 100)\n",
        "  # load model\n",
        "  mnist_cnn = MNIST_CNN()\n",
        "\n",
        "  if torch.cuda.is_available():\n",
        "    mnist_cnn.cuda()\n",
        "\n",
        "  mnist_cnn_iid_trained, train_loss, test_accuracy, test_loss = training(mnist_cnn, rounds, batch_size, lr, mnist_data_train, mnist_data_test, iid_dict, C, K, E, \"MNIST CNN on IID Dataset\", \"orange\")\n",
        "\n",
        "  train_loss_multiple_runs[exp_num] = train_loss\n",
        "  test_accuracy_multiple_runs[exp_num] = test_accuracy\n",
        "  test_loss_multiple_runs[exp_num] = test_loss"
      ],
      "execution_count": 117,
      "outputs": [
        {
          "output_type": "stream",
          "text": [
            "Experiment Run Number:  0\n",
            "Round: 1... \tAverage Loss: 0.527\n",
            "Round: 2... \tAverage Loss: 0.133\n",
            "Round: 3... \tAverage Loss: 0.075\n",
            "Round: 4... \tAverage Loss: 0.065\n",
            "Round: 5... \tAverage Loss: 0.05\n",
            "Round: 6... \tAverage Loss: 0.057\n",
            "Round: 7... \tAverage Loss: 0.035\n",
            "Round: 8... \tAverage Loss: 0.037\n",
            "Round: 9... \tAverage Loss: 0.043\n",
            "Round: 10... \tAverage Loss: 0.04\n",
            "Round: 11... \tAverage Loss: 0.029\n",
            "Round: 12... \tAverage Loss: 0.035\n",
            "Round: 13... \tAverage Loss: 0.02\n",
            "Round: 14... \tAverage Loss: 0.03\n",
            "Round: 15... \tAverage Loss: 0.017\n",
            "Round: 16... \tAverage Loss: 0.026\n",
            "Round: 17... \tAverage Loss: 0.02\n",
            "Round: 18... \tAverage Loss: 0.016\n",
            "Round: 19... \tAverage Loss: 0.018\n",
            "Round: 20... \tAverage Loss: 0.022\n",
            "Round: 21... \tAverage Loss: 0.016\n",
            "Round: 22... \tAverage Loss: 0.011\n",
            "Round: 23... \tAverage Loss: 0.018\n",
            "Round: 24... \tAverage Loss: 0.019\n",
            "Round: 25... \tAverage Loss: 0.014\n",
            "Round: 26... \tAverage Loss: 0.012\n",
            "Round: 27... \tAverage Loss: 0.02\n",
            "Round: 28... \tAverage Loss: 0.016\n",
            "Round: 29... \tAverage Loss: 0.016\n",
            "Round: 30... \tAverage Loss: 0.015\n",
            "Round: 31... \tAverage Loss: 0.011\n",
            "Round: 32... \tAverage Loss: 0.012\n",
            "Round: 33... \tAverage Loss: 0.008\n",
            "Round: 34... \tAverage Loss: 0.007\n",
            "Round: 35... \tAverage Loss: 0.012\n",
            "Round: 36... \tAverage Loss: 0.022\n",
            "Round: 37... \tAverage Loss: 0.008\n",
            "Round: 38... \tAverage Loss: 0.01\n",
            "Round: 39... \tAverage Loss: 0.008\n",
            "Round: 40... \tAverage Loss: 0.005\n",
            "Round: 41... \tAverage Loss: 0.007\n",
            "Round: 42... \tAverage Loss: 0.005\n",
            "Round: 43... \tAverage Loss: 0.012\n",
            "Round: 44... \tAverage Loss: 0.01\n",
            "Round: 45... \tAverage Loss: 0.01\n",
            "Round: 46... \tAverage Loss: 0.013\n",
            "Round: 47... \tAverage Loss: 0.003\n",
            "Round: 48... \tAverage Loss: 0.014\n",
            "Round: 49... \tAverage Loss: 0.012\n",
            "Round: 50... \tAverage Loss: 0.007\n"
          ],
          "name": "stdout"
        },
        {
          "output_type": "display_data",
          "data": {
            "image/png": "[encoded data removed]",
            "text/plain": [
              "<Figure size 432x288 with 1 Axes>"
            ]
          },
          "metadata": {
            "tags": [],
            "needs_background": "light"
          }
        },
        {
          "output_type": "display_data",
          "data": {
            "image/png": "[encoded data removed]",
            "text/plain": [
              "<Figure size 432x288 with 1 Axes>"
            ]
          },
          "metadata": {
            "tags": [],
            "needs_background": "light"
          }
        },
        {
          "output_type": "display_data",
          "data": {
            "image/png": "[encoded data removed]",
            "text/plain": [
              "<Figure size 432x288 with 1 Axes>"
            ]
          },
          "metadata": {
            "tags": [],
            "needs_background": "light"
          }
        },
        {
          "output_type": "stream",
          "text": [
            "Training Done!\n",
            "Total time taken to Train: 324.3692469596863\n",
            "\n",
            "\n"
          ],
          "name": "stdout"
        }
      ]
    },
    {
      "cell_type": "markdown",
      "metadata": {
        "id": "wNwC82przF6G"
      },
      "source": [
        "### Test"
      ]
    },
    {
      "cell_type": "code",
      "metadata": {
        "colab": {
          "base_uri": "https://localhost:8080/"
        },
        "id": "qB97BFs9we9w",
        "outputId": "5f96d12e-1104-476b-99a4-6055e45938a5"
      },
      "source": [
        "criterion = nn.CrossEntropyLoss()\n",
        "acc, loss = testing(mnist_cnn_iid_trained, mnist_data_test, 128, criterion, num_classes, classes_test, True)"
      ],
      "execution_count": 118,
      "outputs": [
        {
          "output_type": "stream",
          "text": [
            "Test Loss: 0.031197\n",
            "\n",
            "Test Accuracy of     0: 100% (76/76)\n",
            "Test Accuracy of     1: 100% (90/90)\n",
            "Test Accuracy of     2: 98% (90/91)\n",
            "Test Accuracy of     3: 95% (70/73)\n",
            "Test Accuracy of     4: 100% (89/89)\n",
            "Test Accuracy of     5: 98% (67/68)\n",
            "Test Accuracy of     6: 98% (61/62)\n",
            "Test Accuracy of     7: 100% (81/81)\n",
            "Test Accuracy of     8: 100% (77/77)\n",
            "Test Accuracy of     9: 98% (82/83)\n",
            "\n",
            "Final Test  Accuracy: 99.114 (783.0/790.0)\n"
          ],
          "name": "stdout"
        }
      ]
    },
    {
      "cell_type": "code",
      "metadata": {
        "id": "gdQZEZmHHeqt"
      },
      "source": [
        "hyperparams = {'rounds': rounds,\n",
        "               'C': C,\n",
        "               'K': K,\n",
        "               'E': E,\n",
        "               'batch_size': batch_size,\n",
        "               'lr': lr,\n",
        "               }\n",
        "\n",
        "log_dict['MNIST CNN on IID'] = {'train_loss': train_loss_multiple_runs, \n",
        "                                'test_loss': test_loss_multiple_runs, \n",
        "                                'test_accuracy': test_accuracy_multiple_runs,\n",
        "                                'hyperparams': hyperparams,\n",
        "                                }"
      ],
      "execution_count": 119,
      "outputs": []
    },
    {
      "cell_type": "markdown",
      "metadata": {
        "id": "uF8MdSIUYcnl"
      },
      "source": [
        "## MNIST CNN on Non IID"
      ]
    },
    {
      "cell_type": "markdown",
      "metadata": {
        "id": "a6wXX7JW11bx"
      },
      "source": [
        "### Train\n"
      ]
    },
    {
      "cell_type": "code",
      "metadata": {
        "colab": {
          "base_uri": "https://localhost:8080/",
          "height": 1000
        },
        "id": "fCD3kBCKYfBK",
        "outputId": "34eb7e60-fd22-4551-c4b2-8d42808ec6ef"
      },
      "source": [
        "train_loss_multiple_runs = [None] * NUM_REPEAT\n",
        "test_accuracy_multiple_runs = [None] * NUM_REPEAT\n",
        "test_loss_multiple_runs = [None] * NUM_REPEAT\n",
        "\n",
        "for exp_num in range(NUM_REPEAT):\n",
        "  print(\"Experiment Run Number: \", exp_num)\n",
        "\n",
        "  # number of training rounds\n",
        "  rounds = 50\n",
        "  # client fraction\n",
        "  C = 0.1\n",
        "  # number of clients\n",
        "  K = 50\n",
        "  # number of training passes on local dataset for each roung\n",
        "  E = 5\n",
        "  # batch size\n",
        "  batch_size = 10\n",
        "  # learning Rate\n",
        "  lr=0.05\n",
        "  # dict containing different type of data partition\n",
        "  data_dict = non_iid_partition(mnist_data_train, 100, 200, 300, 2)\n",
        "  # load model\n",
        "  mnist_cnn = MNIST_CNN()\n",
        "\n",
        "  if torch.cuda.is_available():\n",
        "    mnist_cnn.cuda()\n",
        "\n",
        "  mnist_cnn_non_iid_trained, train_loss, test_accuracy, test_loss = training(mnist_cnn, rounds, batch_size, lr, mnist_data_train, mnist_data_test, data_dict, C, K, E, \"MNIST CNN on Non-IID Dataset\", \"green\")\n",
        "\n",
        "  train_loss_multiple_runs[exp_num] = train_loss\n",
        "  test_accuracy_multiple_runs[exp_num] = test_accuracy\n",
        "  test_loss_multiple_runs[exp_num] = test_loss"
      ],
      "execution_count": 120,
      "outputs": [
        {
          "output_type": "stream",
          "text": [
            "Experiment Run Number:  0\n",
            "Round: 1... \tAverage Loss: 0.112\n",
            "Round: 2... \tAverage Loss: 0.082\n",
            "Round: 3... \tAverage Loss: 0.056\n",
            "Round: 4... \tAverage Loss: 0.035\n",
            "Round: 5... \tAverage Loss: 0.013\n",
            "Round: 6... \tAverage Loss: 0.03\n",
            "Round: 7... \tAverage Loss: 0.025\n",
            "Round: 8... \tAverage Loss: 0.017\n",
            "Round: 9... \tAverage Loss: 0.027\n",
            "Round: 10... \tAverage Loss: 0.02\n",
            "Round: 11... \tAverage Loss: 0.012\n",
            "Round: 12... \tAverage Loss: 0.012\n",
            "Round: 13... \tAverage Loss: 0.009\n",
            "Round: 14... \tAverage Loss: 0.033\n",
            "Round: 15... \tAverage Loss: 0.012\n",
            "Round: 16... \tAverage Loss: 0.013\n",
            "Round: 17... \tAverage Loss: 0.021\n",
            "Round: 18... \tAverage Loss: 0.014\n",
            "Round: 19... \tAverage Loss: 0.013\n",
            "Round: 20... \tAverage Loss: 0.015\n",
            "Round: 21... \tAverage Loss: 0.01\n",
            "Round: 22... \tAverage Loss: 0.011\n",
            "Round: 23... \tAverage Loss: 0.013\n",
            "Round: 24... \tAverage Loss: 0.015\n",
            "Round: 25... \tAverage Loss: 0.012\n",
            "Round: 26... \tAverage Loss: 0.014\n",
            "Round: 27... \tAverage Loss: 0.006\n",
            "Round: 28... \tAverage Loss: 0.007\n",
            "Round: 29... \tAverage Loss: 0.011\n",
            "Round: 30... \tAverage Loss: 0.012\n",
            "Round: 31... \tAverage Loss: 0.008\n",
            "Round: 32... \tAverage Loss: 0.003\n",
            "Round: 33... \tAverage Loss: 0.002\n",
            "Round: 34... \tAverage Loss: 0.007\n",
            "Round: 35... \tAverage Loss: 0.008\n",
            "Round: 36... \tAverage Loss: 0.005\n",
            "Round: 37... \tAverage Loss: 0.008\n",
            "Round: 38... \tAverage Loss: 0.007\n",
            "Round: 39... \tAverage Loss: 0.011\n",
            "Round: 40... \tAverage Loss: 0.004\n",
            "Round: 41... \tAverage Loss: 0.005\n",
            "Round: 42... \tAverage Loss: 0.005\n",
            "Round: 43... \tAverage Loss: 0.009\n",
            "Round: 44... \tAverage Loss: 0.007\n",
            "Round: 45... \tAverage Loss: 0.009\n",
            "Round: 46... \tAverage Loss: 0.005\n",
            "Round: 47... \tAverage Loss: 0.001\n",
            "Round: 48... \tAverage Loss: 0.009\n",
            "Round: 49... \tAverage Loss: 0.009\n",
            "Round: 50... \tAverage Loss: 0.002\n"
          ],
          "name": "stdout"
        },
        {
          "output_type": "display_data",
          "data": {
            "image/png": "[encoded data removed]",
            "text/plain": [
              "<Figure size 432x288 with 1 Axes>"
            ]
          },
          "metadata": {
            "tags": [],
            "needs_background": "light"
          }
        },
        {
          "output_type": "display_data",
          "data": {
            "image/png": "[encoded data removed]",
            "text/plain": [
              "<Figure size 432x288 with 1 Axes>"
            ]
          },
          "metadata": {
            "tags": [],
            "needs_background": "light"
          }
        },
        {
          "output_type": "display_data",
          "data": {
            "image/png": "[encoded data removed]",
            "text/plain": [
              "<Figure size 432x288 with 1 Axes>"
            ]
          },
          "metadata": {
            "tags": [],
            "needs_background": "light"
          }
        },
        {
          "output_type": "stream",
          "text": [
            "Training Done!\n",
            "Total time taken to Train: 325.8294894695282\n",
            "\n",
            "\n"
          ],
          "name": "stdout"
        }
      ]
    },
    {
      "cell_type": "markdown",
      "metadata": {
        "id": "4C68J-Kk14dB"
      },
      "source": [
        "### Test"
      ]
    },
    {
      "cell_type": "code",
      "metadata": {
        "colab": {
          "base_uri": "https://localhost:8080/"
        },
        "id": "_yQ9GiAZ15jE",
        "outputId": "c369c9a0-c889-4287-e02f-d7a43c35d462"
      },
      "source": [
        "criterion = nn.CrossEntropyLoss()\n",
        "acc, loss = testing(mnist_cnn_non_iid_trained, mnist_data_test, 128, criterion, num_classes, classes_test, True)"
      ],
      "execution_count": 121,
      "outputs": [
        {
          "output_type": "stream",
          "text": [
            "Test Loss: 0.066834\n",
            "\n",
            "Test Accuracy of     0: 96% (73/76)\n",
            "Test Accuracy of     1: 97% (88/90)\n",
            "Test Accuracy of     2: 100% (91/91)\n",
            "Test Accuracy of     3: 98% (72/73)\n",
            "Test Accuracy of     4: 97% (87/89)\n",
            "Test Accuracy of     5: 98% (67/68)\n",
            "Test Accuracy of     6: 96% (60/62)\n",
            "Test Accuracy of     7: 97% (79/81)\n",
            "Test Accuracy of     8: 100% (77/77)\n",
            "Test Accuracy of     9: 97% (81/83)\n",
            "\n",
            "Final Test  Accuracy: 98.101 (775.0/790.0)\n"
          ],
          "name": "stdout"
        }
      ]
    },
    {
      "cell_type": "code",
      "metadata": {
        "id": "dxMcxgLhLvX-"
      },
      "source": [
        "hyperparams = {'rounds': rounds,\n",
        "               'C': C,\n",
        "               'K': K,\n",
        "               'E': E,\n",
        "               'batch_size': batch_size,\n",
        "               'lr': lr,\n",
        "               }\n",
        "\n",
        "log_dict['MNIST CNN on Non IID'] = {'train_loss': train_loss_multiple_runs, \n",
        "                                'test_loss': test_loss_multiple_runs, \n",
        "                                'test_accuracy': test_accuracy_multiple_runs,\n",
        "                                'hyperparams': hyperparams,\n",
        "                                }"
      ],
      "execution_count": 122,
      "outputs": []
    },
    {
      "cell_type": "markdown",
      "metadata": {
        "id": "z_jifdzniuhm"
      },
      "source": [
        "## MNIST MLP on IID"
      ]
    },
    {
      "cell_type": "markdown",
      "metadata": {
        "id": "uh-te0Od2XGO"
      },
      "source": [
        "### Train"
      ]
    },
    {
      "cell_type": "code",
      "metadata": {
        "colab": {
          "base_uri": "https://localhost:8080/",
          "height": 1000
        },
        "id": "UmpWmKOQixVV",
        "outputId": "10861f27-8a58-4da2-94d1-21c3ada1ad99"
      },
      "source": [
        "train_loss_multiple_runs = [None] * NUM_REPEAT\n",
        "test_accuracy_multiple_runs = [None] * NUM_REPEAT\n",
        "test_loss_multiple_runs = [None] * NUM_REPEAT\n",
        "\n",
        "for exp_num in range(NUM_REPEAT):\n",
        "  print(\"Experiment Run Number: \", exp_num)\n",
        "\n",
        "  # number of training rounds\n",
        "  rounds = 50\n",
        "  # client fraction\n",
        "  C = 0.1\n",
        "  # number of clients\n",
        "  K = 50\n",
        "  # number of training passes on local dataset for each round\n",
        "  E = 5\n",
        "  # batch size\n",
        "  batch_size = 10\n",
        "  # learning Rate\n",
        "  lr=0.05\n",
        "  # dict containing different type of data partition\n",
        "  data_dict = iid_partition(mnist_data_train, 100)\n",
        "  # load model\n",
        "  mnist_mlp = MNIST_2NN()\n",
        "\n",
        "  if torch.cuda.is_available():\n",
        "    mnist_mlp.cuda()\n",
        "\n",
        "  mnist_mlp_iid_trained, train_loss, test_accuracy, test_loss = training(mnist_mlp, rounds, batch_size, lr, mnist_data_train, mnist_data_test, data_dict, C, K, E, \"MNIST MLP on IID Dataset\", \"orange\")\n",
        "  \n",
        "  train_loss_multiple_runs[exp_num] = train_loss\n",
        "  test_accuracy_multiple_runs[exp_num] = test_accuracy\n",
        "  test_loss_multiple_runs[exp_num] = test_loss"
      ],
      "execution_count": 123,
      "outputs": [
        {
          "output_type": "stream",
          "text": [
            "Experiment Run Number:  0\n",
            "Round: 1... \tAverage Loss: 0.543\n",
            "Round: 2... \tAverage Loss: 0.16\n",
            "Round: 3... \tAverage Loss: 0.13\n",
            "Round: 4... \tAverage Loss: 0.091\n",
            "Round: 5... \tAverage Loss: 0.081\n",
            "Round: 6... \tAverage Loss: 0.077\n",
            "Round: 7... \tAverage Loss: 0.09\n",
            "Round: 8... \tAverage Loss: 0.051\n",
            "Round: 9... \tAverage Loss: 0.066\n",
            "Round: 10... \tAverage Loss: 0.064\n",
            "Round: 11... \tAverage Loss: 0.045\n",
            "Round: 12... \tAverage Loss: 0.056\n",
            "Round: 13... \tAverage Loss: 0.042\n",
            "Round: 14... \tAverage Loss: 0.043\n",
            "Round: 15... \tAverage Loss: 0.044\n",
            "Round: 16... \tAverage Loss: 0.054\n",
            "Round: 17... \tAverage Loss: 0.05\n",
            "Round: 18... \tAverage Loss: 0.038\n",
            "Round: 19... \tAverage Loss: 0.031\n",
            "Round: 20... \tAverage Loss: 0.032\n",
            "Round: 21... \tAverage Loss: 0.03\n",
            "Round: 22... \tAverage Loss: 0.025\n",
            "Round: 23... \tAverage Loss: 0.035\n",
            "Round: 24... \tAverage Loss: 0.027\n",
            "Round: 25... \tAverage Loss: 0.029\n",
            "Round: 26... \tAverage Loss: 0.024\n",
            "Round: 27... \tAverage Loss: 0.025\n",
            "Round: 28... \tAverage Loss: 0.037\n",
            "Round: 29... \tAverage Loss: 0.032\n",
            "Round: 30... \tAverage Loss: 0.023\n",
            "Round: 31... \tAverage Loss: 0.02\n",
            "Round: 32... \tAverage Loss: 0.024\n",
            "Round: 33... \tAverage Loss: 0.02\n",
            "Round: 34... \tAverage Loss: 0.021\n",
            "Round: 35... \tAverage Loss: 0.026\n",
            "Round: 36... \tAverage Loss: 0.018\n",
            "Round: 37... \tAverage Loss: 0.026\n",
            "Round: 38... \tAverage Loss: 0.022\n",
            "Round: 39... \tAverage Loss: 0.022\n",
            "Round: 40... \tAverage Loss: 0.013\n",
            "Round: 41... \tAverage Loss: 0.014\n",
            "Round: 42... \tAverage Loss: 0.012\n",
            "Round: 43... \tAverage Loss: 0.018\n",
            "Round: 44... \tAverage Loss: 0.021\n",
            "Round: 45... \tAverage Loss: 0.019\n",
            "Round: 46... \tAverage Loss: 0.009\n",
            "Round: 47... \tAverage Loss: 0.011\n",
            "Round: 48... \tAverage Loss: 0.015\n",
            "Round: 49... \tAverage Loss: 0.018\n",
            "Round: 50... \tAverage Loss: 0.013\n"
          ],
          "name": "stdout"
        },
        {
          "output_type": "display_data",
          "data": {
            "image/png": "[encoded data removed]",
            "text/plain": [
              "<Figure size 432x288 with 1 Axes>"
            ]
          },
          "metadata": {
            "tags": [],
            "needs_background": "light"
          }
        },
        {
          "output_type": "display_data",
          "data": {
            "image/png": "[encoded data removed]",
            "text/plain": [
              "<Figure size 432x288 with 1 Axes>"
            ]
          },
          "metadata": {
            "tags": [],
            "needs_background": "light"
          }
        },
        {
          "output_type": "display_data",
          "data": {
            "image/png": "[encoded data removed]",
            "text/plain": [
              "<Figure size 432x288 with 1 Axes>"
            ]
          },
          "metadata": {
            "tags": [],
            "needs_background": "light"
          }
        },
        {
          "output_type": "stream",
          "text": [
            "Training Done!\n",
            "Total time taken to Train: 233.11125254631042\n",
            "\n",
            "\n"
          ],
          "name": "stdout"
        }
      ]
    },
    {
      "cell_type": "markdown",
      "metadata": {
        "id": "aTBsL3-72PPd"
      },
      "source": [
        "### Test"
      ]
    },
    {
      "cell_type": "code",
      "metadata": {
        "colab": {
          "base_uri": "https://localhost:8080/"
        },
        "id": "a9G4j5L62OrS",
        "outputId": "ce0596c0-2656-4352-c57a-e6fea0cd1ecb"
      },
      "source": [
        "criterion = nn.CrossEntropyLoss()\n",
        "acc, loss = testing(mnist_mlp_iid_trained, mnist_data_test, 128, criterion, num_classes, classes_test, True)"
      ],
      "execution_count": 124,
      "outputs": [
        {
          "output_type": "stream",
          "text": [
            "Test Loss: 0.105164\n",
            "\n",
            "Test Accuracy of     0: 97% (74/76)\n",
            "Test Accuracy of     1: 97% (88/90)\n",
            "Test Accuracy of     2: 98% (90/91)\n",
            "Test Accuracy of     3: 97% (71/73)\n",
            "Test Accuracy of     4: 97% (87/89)\n",
            "Test Accuracy of     5: 95% (65/68)\n",
            "Test Accuracy of     6: 96% (60/62)\n",
            "Test Accuracy of     7: 95% (77/81)\n",
            "Test Accuracy of     8: 97% (75/77)\n",
            "Test Accuracy of     9: 97% (81/83)\n",
            "\n",
            "Final Test  Accuracy: 97.215 (768.0/790.0)\n"
          ],
          "name": "stdout"
        }
      ]
    },
    {
      "cell_type": "code",
      "metadata": {
        "id": "fWCdJFRCL_f2"
      },
      "source": [
        "hyperparams = {'rounds': rounds,\n",
        "               'C': C,\n",
        "               'K': K,\n",
        "               'E': E,\n",
        "               'batch_size': batch_size,\n",
        "               'lr': lr,\n",
        "               }\n",
        "\n",
        "log_dict['MNIST MLP on IID'] = {'train_loss': train_loss_multiple_runs, \n",
        "                                'test_loss': test_loss_multiple_runs, \n",
        "                                'test_accuracy': test_accuracy_multiple_runs,\n",
        "                                'hyperparams': hyperparams,\n",
        "                                }"
      ],
      "execution_count": 125,
      "outputs": []
    },
    {
      "cell_type": "markdown",
      "metadata": {
        "id": "J8jzEyO0iywz"
      },
      "source": [
        "## MNIST MLP on Non IID"
      ]
    },
    {
      "cell_type": "markdown",
      "metadata": {
        "id": "pJFepr3y2bF-"
      },
      "source": [
        "### Train"
      ]
    },
    {
      "cell_type": "code",
      "metadata": {
        "colab": {
          "base_uri": "https://localhost:8080/",
          "height": 1000
        },
        "id": "EBKO44Hgi1Uh",
        "outputId": "85c786b1-2f82-4a42-b665-231cc1afa9db"
      },
      "source": [
        "train_loss_multiple_runs = [None] * NUM_REPEAT\n",
        "test_accuracy_multiple_runs = [None] * NUM_REPEAT\n",
        "test_loss_multiple_runs = [None] * NUM_REPEAT\n",
        "\n",
        "for exp_num in range(NUM_REPEAT):\n",
        "  print(\"Experiment Run Number: \", exp_num)\n",
        "  \n",
        "  # number of training rounds\n",
        "  rounds = 50\n",
        "  # client fraction\n",
        "  C = 0.1\n",
        "  # number of clients\n",
        "  K = 50\n",
        "  # number of training passes on local dataset for each roung\n",
        "  E = 5\n",
        "  # batch size\n",
        "  batch_size = 10\n",
        "  # learning Rate\n",
        "  lr=0.05\n",
        "  # dict containing different type of data partition\n",
        "  data_dict = non_iid_partition(mnist_data_train, 100, 200, 300, 2)\n",
        "  # load model\n",
        "  mnist_mlp = MNIST_2NN()\n",
        "\n",
        "  if torch.cuda.is_available():\n",
        "    mnist_mlp.cuda()\n",
        "\n",
        "  mnist_mlp_non_iid_trained, train_loss, test_accuracy, test_loss = training(mnist_mlp, rounds, batch_size, lr, mnist_data_train, mnist_data_test, data_dict, C, K, E, \"MNIST MLP on Non-IID Dataset\", \"green\")\n",
        "\n",
        "  train_loss_multiple_runs[exp_num] = train_loss\n",
        "  test_accuracy_multiple_runs[exp_num] = test_accuracy\n",
        "  test_loss_multiple_runs[exp_num] = test_loss"
      ],
      "execution_count": 126,
      "outputs": [
        {
          "output_type": "stream",
          "text": [
            "Experiment Run Number:  0\n",
            "Round: 1... \tAverage Loss: 0.118\n",
            "Round: 2... \tAverage Loss: 0.039\n",
            "Round: 3... \tAverage Loss: 0.045\n",
            "Round: 4... \tAverage Loss: 0.063\n",
            "Round: 5... \tAverage Loss: 0.052\n",
            "Round: 6... \tAverage Loss: 0.03\n",
            "Round: 7... \tAverage Loss: 0.05\n",
            "Round: 8... \tAverage Loss: 0.024\n",
            "Round: 9... \tAverage Loss: 0.021\n",
            "Round: 10... \tAverage Loss: 0.026\n",
            "Round: 11... \tAverage Loss: 0.013\n",
            "Round: 12... \tAverage Loss: 0.021\n",
            "Round: 13... \tAverage Loss: 0.02\n",
            "Round: 14... \tAverage Loss: 0.015\n",
            "Round: 15... \tAverage Loss: 0.011\n",
            "Round: 16... \tAverage Loss: 0.023\n",
            "Round: 17... \tAverage Loss: 0.027\n",
            "Round: 18... \tAverage Loss: 0.041\n",
            "Round: 19... \tAverage Loss: 0.013\n",
            "Round: 20... \tAverage Loss: 0.011\n",
            "Round: 21... \tAverage Loss: 0.012\n",
            "Round: 22... \tAverage Loss: 0.01\n",
            "Round: 23... \tAverage Loss: 0.026\n",
            "Round: 24... \tAverage Loss: 0.016\n",
            "Round: 25... \tAverage Loss: 0.007\n",
            "Round: 26... \tAverage Loss: 0.014\n",
            "Round: 27... \tAverage Loss: 0.012\n",
            "Round: 28... \tAverage Loss: 0.009\n",
            "Round: 29... \tAverage Loss: 0.025\n",
            "Round: 30... \tAverage Loss: 0.01\n",
            "Round: 31... \tAverage Loss: 0.022\n",
            "Round: 32... \tAverage Loss: 0.016\n",
            "Round: 33... \tAverage Loss: 0.007\n",
            "Round: 34... \tAverage Loss: 0.003\n",
            "Round: 35... \tAverage Loss: 0.028\n",
            "Round: 36... \tAverage Loss: 0.006\n",
            "Round: 37... \tAverage Loss: 0.015\n",
            "Round: 38... \tAverage Loss: 0.011\n",
            "Round: 39... \tAverage Loss: 0.008\n",
            "Round: 40... \tAverage Loss: 0.006\n",
            "Round: 41... \tAverage Loss: 0.013\n",
            "Round: 42... \tAverage Loss: 0.007\n",
            "Round: 43... \tAverage Loss: 0.008\n",
            "Round: 44... \tAverage Loss: 0.014\n",
            "Round: 45... \tAverage Loss: 0.004\n",
            "Round: 46... \tAverage Loss: 0.008\n",
            "Round: 47... \tAverage Loss: 0.009\n",
            "Round: 48... \tAverage Loss: 0.011\n",
            "Round: 49... \tAverage Loss: 0.004\n",
            "Round: 50... \tAverage Loss: 0.01\n"
          ],
          "name": "stdout"
        },
        {
          "output_type": "display_data",
          "data": {
            "image/png": "[encoded data removed]",
            "text/plain": [
              "<Figure size 432x288 with 1 Axes>"
            ]
          },
          "metadata": {
            "tags": [],
            "needs_background": "light"
          }
        },
        {
          "output_type": "display_data",
          "data": {
            "image/png": "[encoded data removed]",
            "text/plain": [
              "<Figure size 432x288 with 1 Axes>"
            ]
          },
          "metadata": {
            "tags": [],
            "needs_background": "light"
          }
        },
        {
          "output_type": "display_data",
          "data": {
            "image/png": "[encoded data removed]",
            "text/plain": [
              "<Figure size 432x288 with 1 Axes>"
            ]
          },
          "metadata": {
            "tags": [],
            "needs_background": "light"
          }
        },
        {
          "output_type": "stream",
          "text": [
            "Training Done!\n",
            "Total time taken to Train: 233.86333847045898\n",
            "\n",
            "\n"
          ],
          "name": "stdout"
        }
      ]
    },
    {
      "cell_type": "markdown",
      "metadata": {
        "id": "jmuQYPbF2mes"
      },
      "source": [
        "### Test"
      ]
    },
    {
      "cell_type": "code",
      "metadata": {
        "colab": {
          "base_uri": "https://localhost:8080/"
        },
        "id": "0tKMlJyF2nGN",
        "outputId": "ab6886fc-4138-4a86-a275-e83d0fe57ec5"
      },
      "source": [
        "criterion = nn.CrossEntropyLoss()\n",
        "acc, loss = testing(mnist_mlp_non_iid_trained, mnist_data_test, 128, criterion, num_classes, classes_test, True)"
      ],
      "execution_count": 127,
      "outputs": [
        {
          "output_type": "stream",
          "text": [
            "Test Loss: 0.448401\n",
            "\n",
            "Test Accuracy of     0: 73% (56/76)\n",
            "Test Accuracy of     1: 97% (88/90)\n",
            "Test Accuracy of     2: 92% (84/91)\n",
            "Test Accuracy of     3: 75% (55/73)\n",
            "Test Accuracy of     4: 98% (88/89)\n",
            "Test Accuracy of     5: 98% (67/68)\n",
            "Test Accuracy of     6: 79% (49/62)\n",
            "Test Accuracy of     7: 88% (72/81)\n",
            "Test Accuracy of     8: 42% (33/77)\n",
            "Test Accuracy of     9: 93% (78/83)\n",
            "\n",
            "Final Test  Accuracy: 84.810 (670.0/790.0)\n"
          ],
          "name": "stdout"
        }
      ]
    },
    {
      "cell_type": "code",
      "metadata": {
        "id": "1W5krYcSMQiu"
      },
      "source": [
        "hyperparams = {'rounds': rounds,\n",
        "               'C': C,\n",
        "               'K': K,\n",
        "               'E': E,\n",
        "               'batch_size': batch_size,\n",
        "               'lr': lr,\n",
        "               }\n",
        "\n",
        "log_dict['MNIST MLP on Non IID'] = {'train_loss': train_loss_multiple_runs, \n",
        "                                'test_loss': test_loss_multiple_runs, \n",
        "                                'test_accuracy': test_accuracy_multiple_runs,\n",
        "                                'hyperparams': hyperparams,\n",
        "                                }"
      ],
      "execution_count": 128,
      "outputs": []
    },
    {
      "cell_type": "markdown",
      "metadata": {
        "id": "emS_SaRAP6TZ"
      },
      "source": [
        "## Pickle Log"
      ]
    },
    {
      "cell_type": "code",
      "metadata": {
        "id": "soAN38JoP0c1"
      },
      "source": [
        "import pickle\n",
        " \n",
        "with open(path + 'FedAvgNum_of_clients_50.pkl', 'wb') as file:\n",
        "  pickle.dump(log_dict, file)"
      ],
      "execution_count": 129,
      "outputs": []
    },
    {
      "cell_type": "code",
      "metadata": {
        "colab": {
          "base_uri": "https://localhost:8080/"
        },
        "id": "2UBy-JswSoCJ",
        "outputId": "eb40c5b6-cef2-46bc-90ab-135a9c4d74e9"
      },
      "source": [
        "log_dict"
      ],
      "execution_count": 130,
      "outputs": [
        {
          "output_type": "execute_result",
          "data": {
            "text/plain": [
              "{'MNIST CNN on IID': {'hyperparams': {'C': 0.1,\n",
              "   'E': 5,\n",
              "   'K': 50,\n",
              "   'batch_size': 10,\n",
              "   'lr': 0.05,\n",
              "   'rounds': 50},\n",
              "  'test_accuracy': [[93.16455696202532,\n",
              "    96.83544303797468,\n",
              "    97.0886075949367,\n",
              "    97.84810126582279,\n",
              "    97.72151898734177,\n",
              "    98.10126582278481,\n",
              "    98.35443037974683,\n",
              "    98.48101265822785,\n",
              "    98.73417721518987,\n",
              "    98.86075949367088,\n",
              "    99.11392405063292,\n",
              "    99.11392405063292,\n",
              "    98.86075949367088,\n",
              "    98.86075949367088,\n",
              "    98.9873417721519,\n",
              "    98.86075949367088,\n",
              "    98.9873417721519,\n",
              "    98.9873417721519,\n",
              "    98.9873417721519,\n",
              "    99.24050632911393,\n",
              "    99.36708860759494,\n",
              "    99.36708860759494,\n",
              "    99.24050632911393,\n",
              "    99.11392405063292,\n",
              "    99.36708860759494,\n",
              "    99.24050632911393,\n",
              "    99.49367088607595,\n",
              "    99.36708860759494,\n",
              "    99.11392405063292,\n",
              "    99.24050632911393,\n",
              "    99.49367088607595,\n",
              "    99.36708860759494,\n",
              "    99.24050632911393,\n",
              "    98.86075949367088,\n",
              "    99.11392405063292,\n",
              "    98.9873417721519,\n",
              "    99.11392405063292,\n",
              "    99.36708860759494,\n",
              "    99.24050632911393,\n",
              "    99.36708860759494,\n",
              "    99.24050632911393,\n",
              "    99.49367088607595,\n",
              "    99.11392405063292,\n",
              "    99.24050632911393,\n",
              "    99.36708860759494,\n",
              "    99.24050632911393,\n",
              "    99.36708860759494,\n",
              "    99.24050632911393,\n",
              "    99.24050632911393,\n",
              "    99.11392405063292]],\n",
              "  'test_loss': [[0.3427096160411835,\n",
              "    0.11113059981316328,\n",
              "    0.08986363804708235,\n",
              "    0.08048281770679168,\n",
              "    0.07010094865439459,\n",
              "    0.06037190867955797,\n",
              "    0.05978656506387051,\n",
              "    0.05980145238573896,\n",
              "    0.054172727142111396,\n",
              "    0.05192353391754441,\n",
              "    0.04536998910069233,\n",
              "    0.04265281386685383,\n",
              "    0.04186373607507121,\n",
              "    0.04103225405492121,\n",
              "    0.03849377630406525,\n",
              "    0.03856959027245175,\n",
              "    0.03711354350769252,\n",
              "    0.03980298377221443,\n",
              "    0.04100985039002626,\n",
              "    0.037569933350266364,\n",
              "    0.03745803773450789,\n",
              "    0.037206908440617914,\n",
              "    0.035987738950808854,\n",
              "    0.035078973626764494,\n",
              "    0.036718736165941665,\n",
              "    0.037297818052425644,\n",
              "    0.0319593346620939,\n",
              "    0.03483963497043078,\n",
              "    0.03236638671874098,\n",
              "    0.030557393227668216,\n",
              "    0.03243647585585386,\n",
              "    0.03127695594505494,\n",
              "    0.03169213410740922,\n",
              "    0.03212828900629975,\n",
              "    0.03247407778076704,\n",
              "    0.03142252311292323,\n",
              "    0.03283516048291422,\n",
              "    0.033118677952429426,\n",
              "    0.03136829149520199,\n",
              "    0.030890742915422015,\n",
              "    0.03478414510191796,\n",
              "    0.032346448719409,\n",
              "    0.03313056861439272,\n",
              "    0.030436871077003342,\n",
              "    0.0307127779030674,\n",
              "    0.02903238898163145,\n",
              "    0.030277786713773458,\n",
              "    0.03195228235669365,\n",
              "    0.029963067908150332,\n",
              "    0.031196940593350153]],\n",
              "  'train_loss': [[0.5268807225354248,\n",
              "    0.13307497628742537,\n",
              "    0.07491563506700186,\n",
              "    0.06456110188646824,\n",
              "    0.04950315504503972,\n",
              "    0.05710385653621066,\n",
              "    0.03457588328362726,\n",
              "    0.037075331574951104,\n",
              "    0.042517519920742444,\n",
              "    0.04006716921688326,\n",
              "    0.028873622720065356,\n",
              "    0.03494821259454371,\n",
              "    0.019526834182631868,\n",
              "    0.029899963732882007,\n",
              "    0.01678743488391216,\n",
              "    0.02615369848674782,\n",
              "    0.020464306084796716,\n",
              "    0.016049008506340726,\n",
              "    0.017702761170440853,\n",
              "    0.022436045217345307,\n",
              "    0.01628480294630386,\n",
              "    0.010620651207727278,\n",
              "    0.01758502783652324,\n",
              "    0.01907622292639889,\n",
              "    0.013736885826314108,\n",
              "    0.012010441721654953,\n",
              "    0.02017795464942891,\n",
              "    0.016486910631200315,\n",
              "    0.01615180846359989,\n",
              "    0.015039797494276091,\n",
              "    0.011164503027589975,\n",
              "    0.012099460168874648,\n",
              "    0.007599139021818019,\n",
              "    0.0073971049957554545,\n",
              "    0.011560056700557278,\n",
              "    0.02150003430529989,\n",
              "    0.008130807625317458,\n",
              "    0.01021028207899807,\n",
              "    0.008373096719298546,\n",
              "    0.0049906289826841714,\n",
              "    0.0065364427770870205,\n",
              "    0.005025419972667941,\n",
              "    0.012152406390611667,\n",
              "    0.01010224531492354,\n",
              "    0.009522198753622816,\n",
              "    0.013422873051893358,\n",
              "    0.0031119382154225932,\n",
              "    0.013731237406306388,\n",
              "    0.012231610894476502,\n",
              "    0.007081465210350577]]},\n",
              " 'MNIST CNN on Non IID': {'hyperparams': {'C': 0.1,\n",
              "   'E': 5,\n",
              "   'K': 50,\n",
              "   'batch_size': 10,\n",
              "   'lr': 0.05,\n",
              "   'rounds': 50},\n",
              "  'test_accuracy': [[11.772151898734178,\n",
              "    30.88607594936709,\n",
              "    52.53164556962025,\n",
              "    61.51898734177215,\n",
              "    64.30379746835443,\n",
              "    65.56962025316456,\n",
              "    76.70886075949367,\n",
              "    70.37974683544304,\n",
              "    75.0632911392405,\n",
              "    85.82278481012658,\n",
              "    86.07594936708861,\n",
              "    80.25316455696202,\n",
              "    85.44303797468355,\n",
              "    83.16455696202532,\n",
              "    94.81012658227849,\n",
              "    88.35443037974683,\n",
              "    92.15189873417721,\n",
              "    94.68354430379746,\n",
              "    94.55696202531645,\n",
              "    89.11392405063292,\n",
              "    93.29113924050633,\n",
              "    96.07594936708861,\n",
              "    94.55696202531645,\n",
              "    94.43037974683544,\n",
              "    97.34177215189874,\n",
              "    97.9746835443038,\n",
              "    96.70886075949367,\n",
              "    97.34177215189874,\n",
              "    97.34177215189874,\n",
              "    97.21518987341773,\n",
              "    93.41772151898734,\n",
              "    90.75949367088607,\n",
              "    95.44303797468355,\n",
              "    98.10126582278481,\n",
              "    97.9746835443038,\n",
              "    98.35443037974683,\n",
              "    96.45569620253164,\n",
              "    96.32911392405063,\n",
              "    96.32911392405063,\n",
              "    97.9746835443038,\n",
              "    98.48101265822785,\n",
              "    98.22784810126582,\n",
              "    98.35443037974683,\n",
              "    99.24050632911393,\n",
              "    98.73417721518987,\n",
              "    98.10126582278481,\n",
              "    98.10126582278481,\n",
              "    97.46835443037975,\n",
              "    98.35443037974683,\n",
              "    98.10126582278481]],\n",
              "  'test_loss': [[2.242317935180664,\n",
              "    2.0131940727233886,\n",
              "    1.677765406036377,\n",
              "    1.130073955631256,\n",
              "    1.1969741764068604,\n",
              "    1.088851219367981,\n",
              "    0.6489327713012696,\n",
              "    0.7686244861602783,\n",
              "    0.7393189841270447,\n",
              "    0.452560649728775,\n",
              "    0.4074581586837769,\n",
              "    0.6126667727470398,\n",
              "    0.44010110249519346,\n",
              "    0.47798593587875365,\n",
              "    0.18322651643753052,\n",
              "    0.3451759795308113,\n",
              "    0.23489495296478272,\n",
              "    0.1918219829916954,\n",
              "    0.15235453597605228,\n",
              "    0.24282758156061174,\n",
              "    0.1656616382420063,\n",
              "    0.11535604737624526,\n",
              "    0.15709005777016283,\n",
              "    0.1469359588868916,\n",
              "    0.09264930249154568,\n",
              "    0.08977109942734242,\n",
              "    0.11668492003083229,\n",
              "    0.1050136619284749,\n",
              "    0.11107855855077504,\n",
              "    0.109971864259243,\n",
              "    0.18285410949885844,\n",
              "    0.235636143361032,\n",
              "    0.15508981051817536,\n",
              "    0.08093636644817889,\n",
              "    0.08324771305322647,\n",
              "    0.06917900389507413,\n",
              "    0.11887472501993179,\n",
              "    0.10252459543198347,\n",
              "    0.12816518126800655,\n",
              "    0.05904280226826668,\n",
              "    0.058158701918274165,\n",
              "    0.06020380646772683,\n",
              "    0.0555213135138154,\n",
              "    0.04985740163177252,\n",
              "    0.06187330805212259,\n",
              "    0.07197758126854896,\n",
              "    0.06564640752896667,\n",
              "    0.08060488416850567,\n",
              "    0.05869366189725697,\n",
              "    0.06683383639175444]],\n",
              "  'train_loss': [[0.11186839404752744,\n",
              "    0.08157865458527606,\n",
              "    0.055886441147538546,\n",
              "    0.034785135041361215,\n",
              "    0.012504125316098746,\n",
              "    0.030081291965865842,\n",
              "    0.02492275818025338,\n",
              "    0.016979259903011707,\n",
              "    0.026787071281377767,\n",
              "    0.02034628772475594,\n",
              "    0.012212374354799927,\n",
              "    0.011873869266071058,\n",
              "    0.008983675650612675,\n",
              "    0.03282679575986565,\n",
              "    0.011681766128106166,\n",
              "    0.012772800716725916,\n",
              "    0.020636096982768394,\n",
              "    0.014431297118507547,\n",
              "    0.013270443220492515,\n",
              "    0.015026643267530834,\n",
              "    0.01021852461563631,\n",
              "    0.010687668755830238,\n",
              "    0.012995167290646559,\n",
              "    0.015079500402126791,\n",
              "    0.012087317435189246,\n",
              "    0.01354121782900718,\n",
              "    0.006237640448549305,\n",
              "    0.007204001055573278,\n",
              "    0.010943420969817947,\n",
              "    0.012153346011361359,\n",
              "    0.008437188737128589,\n",
              "    0.002825229005833395,\n",
              "    0.0020896452262966344,\n",
              "    0.007079827200033717,\n",
              "    0.007726899677653885,\n",
              "    0.004705949651956304,\n",
              "    0.00770924209222473,\n",
              "    0.006842764571126004,\n",
              "    0.010931733864998402,\n",
              "    0.00420578674763245,\n",
              "    0.005357461838247967,\n",
              "    0.004719106979975959,\n",
              "    0.009115418090893822,\n",
              "    0.007234122849113229,\n",
              "    0.009362481256067227,\n",
              "    0.004635501273518482,\n",
              "    0.0013616537903218505,\n",
              "    0.00868841434903261,\n",
              "    0.009384974290113509,\n",
              "    0.002379533008931208]]},\n",
              " 'MNIST MLP on IID': {'hyperparams': {'C': 0.1,\n",
              "   'E': 5,\n",
              "   'K': 50,\n",
              "   'batch_size': 10,\n",
              "   'lr': 0.05,\n",
              "   'rounds': 50},\n",
              "  'test_accuracy': [[91.39240506329114,\n",
              "    93.16455696202532,\n",
              "    93.79746835443038,\n",
              "    94.0506329113924,\n",
              "    94.43037974683544,\n",
              "    94.81012658227849,\n",
              "    95.56962025316456,\n",
              "    95.0632911392405,\n",
              "    95.0632911392405,\n",
              "    95.82278481012658,\n",
              "    95.69620253164557,\n",
              "    95.82278481012658,\n",
              "    95.9493670886076,\n",
              "    96.58227848101266,\n",
              "    95.69620253164557,\n",
              "    96.07594936708861,\n",
              "    96.58227848101266,\n",
              "    96.32911392405063,\n",
              "    96.70886075949367,\n",
              "    96.9620253164557,\n",
              "    96.83544303797468,\n",
              "    97.46835443037975,\n",
              "    96.9620253164557,\n",
              "    96.9620253164557,\n",
              "    96.83544303797468,\n",
              "    97.34177215189874,\n",
              "    96.9620253164557,\n",
              "    96.70886075949367,\n",
              "    96.9620253164557,\n",
              "    96.9620253164557,\n",
              "    96.45569620253164,\n",
              "    96.70886075949367,\n",
              "    96.83544303797468,\n",
              "    96.83544303797468,\n",
              "    96.83544303797468,\n",
              "    96.70886075949367,\n",
              "    97.0886075949367,\n",
              "    96.9620253164557,\n",
              "    96.58227848101266,\n",
              "    97.0886075949367,\n",
              "    97.21518987341773,\n",
              "    97.0886075949367,\n",
              "    97.0886075949367,\n",
              "    96.9620253164557,\n",
              "    96.70886075949367,\n",
              "    97.21518987341773,\n",
              "    97.21518987341773,\n",
              "    97.46835443037975,\n",
              "    97.0886075949367,\n",
              "    97.21518987341773]],\n",
              "  'test_loss': [[0.33051588732004167,\n",
              "    0.2807203047633171,\n",
              "    0.24396520489454268,\n",
              "    0.22358753716349603,\n",
              "    0.2178230538338423,\n",
              "    0.20153702358305453,\n",
              "    0.1843204423904419,\n",
              "    0.18181484638340772,\n",
              "    0.16591496695801616,\n",
              "    0.16236217686533927,\n",
              "    0.15797320529967546,\n",
              "    0.14809779528602957,\n",
              "    0.14682058722935618,\n",
              "    0.14152738092970102,\n",
              "    0.1372697920098901,\n",
              "    0.13707369641326367,\n",
              "    0.12881604969352484,\n",
              "    0.12350155133865774,\n",
              "    0.1209368147533387,\n",
              "    0.12754923029355705,\n",
              "    0.12588342461753638,\n",
              "    0.12656957372371108,\n",
              "    0.12376080708047375,\n",
              "    0.12210928710252046,\n",
              "    0.12076845227926969,\n",
              "    0.11537457443661987,\n",
              "    0.11391016603447497,\n",
              "    0.11983386817537248,\n",
              "    0.11332670964449644,\n",
              "    0.11705602756217122,\n",
              "    0.11609920539967716,\n",
              "    0.11526670635677874,\n",
              "    0.11449689123630524,\n",
              "    0.11286213839445264,\n",
              "    0.11383889286722988,\n",
              "    0.11849634122150018,\n",
              "    0.1129037976921536,\n",
              "    0.108541893533431,\n",
              "    0.11137227938473225,\n",
              "    0.1063703820193652,\n",
              "    0.10835394991063513,\n",
              "    0.11010857029696927,\n",
              "    0.11045547797698528,\n",
              "    0.11483870610883459,\n",
              "    0.11140972893638536,\n",
              "    0.10922489169766195,\n",
              "    0.10582386643914506,\n",
              "    0.10773678052295,\n",
              "    0.106095064650313,\n",
              "    0.10516403632711153]],\n",
              "  'train_loss': [[0.5429594242721796,\n",
              "    0.16044117073223846,\n",
              "    0.12953260832755284,\n",
              "    0.09133441585557012,\n",
              "    0.08103309256665428,\n",
              "    0.07667184451023543,\n",
              "    0.08998971803697109,\n",
              "    0.0511543273153123,\n",
              "    0.06621558687731158,\n",
              "    0.06383826313011134,\n",
              "    0.04544575788904573,\n",
              "    0.05602225326571837,\n",
              "    0.041538561071509314,\n",
              "    0.042555252935475435,\n",
              "    0.04356218386457476,\n",
              "    0.05422267613065196,\n",
              "    0.050354949352939604,\n",
              "    0.03773710001528889,\n",
              "    0.0313984025959265,\n",
              "    0.03249823724672751,\n",
              "    0.02972413194894883,\n",
              "    0.025456341561051886,\n",
              "    0.03496140981437383,\n",
              "    0.02657262537606827,\n",
              "    0.029465716175091677,\n",
              "    0.02370047187596174,\n",
              "    0.025481665370763944,\n",
              "    0.03724433196292982,\n",
              "    0.03184449644463681,\n",
              "    0.02282823531842102,\n",
              "    0.01954749062339397,\n",
              "    0.02419256251195414,\n",
              "    0.02031000632090854,\n",
              "    0.020739034659286216,\n",
              "    0.025813611811298754,\n",
              "    0.017548606557847957,\n",
              "    0.02635075753712408,\n",
              "    0.022396000222242342,\n",
              "    0.02247332063228123,\n",
              "    0.012652492012325031,\n",
              "    0.013650742978458539,\n",
              "    0.01180529697738234,\n",
              "    0.01819434104299565,\n",
              "    0.021150955961853773,\n",
              "    0.019123657653619834,\n",
              "    0.009426020300028995,\n",
              "    0.011403436949514647,\n",
              "    0.01525912167082644,\n",
              "    0.018114872343112286,\n",
              "    0.01264655296298425]]},\n",
              " 'MNIST MLP on Non IID': {'hyperparams': {'C': 0.1,\n",
              "   'E': 5,\n",
              "   'K': 50,\n",
              "   'batch_size': 10,\n",
              "   'lr': 0.05,\n",
              "   'rounds': 50},\n",
              "  'test_accuracy': [[23.417721518987342,\n",
              "    38.48101265822785,\n",
              "    32.278481012658226,\n",
              "    55.44303797468354,\n",
              "    46.075949367088604,\n",
              "    51.139240506329116,\n",
              "    39.620253164556964,\n",
              "    42.91139240506329,\n",
              "    65.44303797468355,\n",
              "    78.10126582278481,\n",
              "    75.44303797468355,\n",
              "    66.58227848101266,\n",
              "    77.0886075949367,\n",
              "    78.35443037974683,\n",
              "    71.51898734177215,\n",
              "    64.55696202531645,\n",
              "    78.35443037974683,\n",
              "    73.92405063291139,\n",
              "    71.13924050632912,\n",
              "    76.9620253164557,\n",
              "    64.68354430379746,\n",
              "    74.43037974683544,\n",
              "    83.92405063291139,\n",
              "    84.81012658227849,\n",
              "    82.15189873417721,\n",
              "    87.34177215189874,\n",
              "    87.9746835443038,\n",
              "    84.68354430379746,\n",
              "    81.77215189873418,\n",
              "    63.924050632911396,\n",
              "    69.74683544303798,\n",
              "    77.59493670886076,\n",
              "    81.0126582278481,\n",
              "    83.67088607594937,\n",
              "    89.62025316455696,\n",
              "    88.48101265822785,\n",
              "    85.9493670886076,\n",
              "    85.31645569620254,\n",
              "    82.65822784810126,\n",
              "    77.9746835443038,\n",
              "    86.83544303797468,\n",
              "    84.68354430379746,\n",
              "    83.41772151898734,\n",
              "    92.78481012658227,\n",
              "    92.53164556962025,\n",
              "    90.0,\n",
              "    91.51898734177215,\n",
              "    92.53164556962025,\n",
              "    90.12658227848101,\n",
              "    84.81012658227849]],\n",
              "  'test_loss': [[4.099460055541992,\n",
              "    2.5654959995269775,\n",
              "    3.134707608795166,\n",
              "    1.8568124332427978,\n",
              "    2.1821182641983032,\n",
              "    1.72824319190979,\n",
              "    2.306808435058594,\n",
              "    2.4341683444976807,\n",
              "    1.1069628652572632,\n",
              "    0.7050120032310486,\n",
              "    0.7900313836097718,\n",
              "    0.957357161617279,\n",
              "    0.7265916574001312,\n",
              "    0.6516428719520568,\n",
              "    0.7927939748764038,\n",
              "    1.0825752255439758,\n",
              "    0.587045946264267,\n",
              "    0.757707794380188,\n",
              "    0.8533937110424041,\n",
              "    0.7215741500854492,\n",
              "    1.2393831493377685,\n",
              "    0.798281341123581,\n",
              "    0.5353352665901184,\n",
              "    0.4937113949775696,\n",
              "    0.5428022120952606,\n",
              "    0.3920460704803467,\n",
              "    0.3817849267959595,\n",
              "    0.4761164523601532,\n",
              "    0.5623696827888489,\n",
              "    1.5218715229034423,\n",
              "    0.8616859823226929,\n",
              "    0.6516800868034363,\n",
              "    0.564162551021576,\n",
              "    0.513127048778534,\n",
              "    0.35867959575653074,\n",
              "    0.38059409580230713,\n",
              "    0.4320744729042053,\n",
              "    0.45325259289741515,\n",
              "    0.5159178267002106,\n",
              "    0.6705329809188842,\n",
              "    0.3900214788913727,\n",
              "    0.43648659031391146,\n",
              "    0.4851687871456146,\n",
              "    0.24722903856039047,\n",
              "    0.23297104210853575,\n",
              "    0.2963482897400856,\n",
              "    0.29131748576164246,\n",
              "    0.24830628473758698,\n",
              "    0.2852278067588806,\n",
              "    0.44840071353912353]],\n",
              "  'train_loss': [[0.11831482033069016,\n",
              "    0.03856332716021621,\n",
              "    0.04474200796360234,\n",
              "    0.06288262755836878,\n",
              "    0.05195489339518102,\n",
              "    0.030330033228887377,\n",
              "    0.04975623705983152,\n",
              "    0.024010216226905263,\n",
              "    0.02117185655897998,\n",
              "    0.026035017193488236,\n",
              "    0.012670916590088293,\n",
              "    0.021182638505124522,\n",
              "    0.019615627535534468,\n",
              "    0.014810810370538208,\n",
              "    0.011267720962159198,\n",
              "    0.02252556489974472,\n",
              "    0.02679697343420433,\n",
              "    0.0406022213847722,\n",
              "    0.01313276073645607,\n",
              "    0.011042521744103206,\n",
              "    0.011817912531787387,\n",
              "    0.01011878528496663,\n",
              "    0.025763492783699965,\n",
              "    0.016113896357107145,\n",
              "    0.007490420489478007,\n",
              "    0.01354452550431976,\n",
              "    0.011893611143333666,\n",
              "    0.008781725219616496,\n",
              "    0.02530348722603515,\n",
              "    0.0099560829764541,\n",
              "    0.021674323285300813,\n",
              "    0.015796101732795508,\n",
              "    0.00689247062723688,\n",
              "    0.003136519800200454,\n",
              "    0.027584551107745443,\n",
              "    0.00645743119950824,\n",
              "    0.015305040113051708,\n",
              "    0.011365263732133713,\n",
              "    0.007543409840544049,\n",
              "    0.005735444106115968,\n",
              "    0.012680275136834052,\n",
              "    0.00722494294329584,\n",
              "    0.007707521853949478,\n",
              "    0.013862908942745866,\n",
              "    0.0041917222849449124,\n",
              "    0.008266935305652773,\n",
              "    0.008778137066514877,\n",
              "    0.01086807515574963,\n",
              "    0.003671499258040134,\n",
              "    0.009821732728018258]]}}"
            ]
          },
          "metadata": {
            "tags": []
          },
          "execution_count": 130
        }
      ]
    },
    {
      "cell_type": "code",
      "metadata": {
        "id": "PBTROwiHneQv"
      },
      "source": [
        "import pickle\n",
        " \n",
        "with open(path + 'FedAvgNum_of_clients_50.pkl', 'rb') as file:\n",
        "  log_dict = pickle.load(file)"
      ],
      "execution_count": 131,
      "outputs": []
    },
    {
      "cell_type": "code",
      "metadata": {
        "id": "se_04JMaVJPg",
        "colab": {
          "base_uri": "https://localhost:8080/"
        },
        "outputId": "78a85945-23bc-426d-e2be-ebaec6fd2f0a"
      },
      "source": [
        "print([test_acc[-1] for test_acc in log_dict['MNIST CNN on IID']['test_accuracy']])"
      ],
      "execution_count": 132,
      "outputs": [
        {
          "output_type": "stream",
          "text": [
            "[99.11392405063292]\n"
          ],
          "name": "stdout"
        }
      ]
    },
    {
      "cell_type": "code",
      "metadata": {
        "id": "5sv0rv-G4Sqa",
        "colab": {
          "base_uri": "https://localhost:8080/"
        },
        "outputId": "9ab4e007-4676-4ddf-f248-2ce33fb2cc4b"
      },
      "source": [
        "print([test_acc[-1] for test_acc in log_dict['MNIST CNN on Non IID']['test_accuracy']])"
      ],
      "execution_count": 133,
      "outputs": [
        {
          "output_type": "stream",
          "text": [
            "[98.10126582278481]\n"
          ],
          "name": "stdout"
        }
      ]
    },
    {
      "cell_type": "code",
      "metadata": {
        "id": "b2a2_Az-4nal",
        "colab": {
          "base_uri": "https://localhost:8080/"
        },
        "outputId": "09c1503c-0dbe-4481-9dc3-32e6bd348aa5"
      },
      "source": [
        "print([test_acc[-1] for test_acc in log_dict['MNIST MLP on IID']['test_accuracy']])"
      ],
      "execution_count": 134,
      "outputs": [
        {
          "output_type": "stream",
          "text": [
            "[97.21518987341773]\n"
          ],
          "name": "stdout"
        }
      ]
    },
    {
      "cell_type": "code",
      "metadata": {
        "id": "YoRqZyvD4p2K",
        "colab": {
          "base_uri": "https://localhost:8080/"
        },
        "outputId": "55bbd911-0bb8-477a-d910-0db447563716"
      },
      "source": [
        "print([test_acc[-1] for test_acc in log_dict['MNIST MLP on Non IID']['test_accuracy']])"
      ],
      "execution_count": 135,
      "outputs": [
        {
          "output_type": "stream",
          "text": [
            "[84.81012658227849]\n"
          ],
          "name": "stdout"
        }
      ]
    },
    {
      "cell_type": "code",
      "metadata": {
        "id": "B87eGKJnAHIh",
        "colab": {
          "base_uri": "https://localhost:8080/"
        },
        "outputId": "d971ec9c-68ea-42eb-929e-ef7e84841bea"
      },
      "source": [
        "output.show()"
      ],
      "execution_count": 136,
      "outputs": [
        {
          "output_type": "stream",
          "text": [
            "Drive already mounted at /content/drive; to attempt to forcibly remount, call drive.mount(\"/content/drive\", force_remount=True).\n"
          ],
          "name": "stdout"
        }
      ]
    },
    {
      "cell_type": "code",
      "metadata": {
        "id": "4wJTXta4neQy"
      },
      "source": [
        ""
      ],
      "execution_count": 136,
      "outputs": []
    }
  ]
}