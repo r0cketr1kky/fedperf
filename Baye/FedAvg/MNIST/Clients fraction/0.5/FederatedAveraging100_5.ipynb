{
  "nbformat": 4,
  "nbformat_minor": 0,
  "metadata": {
    "accelerator": "GPU",
    "colab": {
      "name": "FederatedAveraging100.5.ipynb",
      "provenance": [],
      "collapsed_sections": [],
      "machine_shape": "hm"
    },
    "kernelspec": {
      "name": "python3",
      "display_name": "Python 3"
    },
    "language_info": {
      "name": "python"
    }
  },
  "cells": [
    {
      "cell_type": "markdown",
      "metadata": {
        "id": "view-in-github"
      },
      "source": [
        "<a href=\"https://colab.research.google.com/github/tushar-semwal/fedperf/blob/main/Vineeth/Local_Rounds/FedAvg/FederatedAveraging.ipynb\" target=\"_parent\"><img src=\"https://colab.research.google.com/assets/colab-badge.svg\" alt=\"Open In Colab\"/></a>"
      ]
    },
    {
      "cell_type": "code",
      "metadata": {
        "id": "yKcpjZLrQQJV"
      },
      "source": [
        "%%capture output\n",
        "try:\n",
        "    from google.colab import drive\n",
        "    drive.mount('/content/drive')\n",
        "\n",
        "    import os\n",
        "    path = '/content/drive/MyDrive/Colab Notebooks/FedPerf/'\n",
        "    os.makedirs(path, exist_ok=True)\n",
        "except:\n",
        "    path = './'"
      ],
      "execution_count": 20,
      "outputs": []
    },
    {
      "cell_type": "markdown",
      "metadata": {
        "id": "-0_nKpfq2h1R"
      },
      "source": [
        "## Imports"
      ]
    },
    {
      "cell_type": "code",
      "metadata": {
        "colab": {
          "base_uri": "https://localhost:8080/"
        },
        "id": "DLLNM9X2JbQ8",
        "outputId": "c06e2373-cfbb-413e-a7a6-a572bc5f25ce"
      },
      "source": [
        "%load_ext tensorboard\n",
        "import os\n",
        "import numpy as np\n",
        "import matplotlib\n",
        "import matplotlib.pyplot as plt\n",
        "import copy\n",
        "import random\n",
        "import time\n",
        "\n",
        "import torch\n",
        "import torch.nn as nn\n",
        "import torch.nn.functional as F\n",
        "\n",
        "from torch.utils.data import Dataset, DataLoader\n",
        "from torch.utils.tensorboard import SummaryWriter\n",
        "from torchvision import transforms, utils, datasets\n",
        "from torchsummary import summary\n",
        "\n",
        "\n",
        "# Check assigned GPU\n",
        "gpu_info = !nvidia-smi\n",
        "gpu_info = '\\n'.join(gpu_info)\n",
        "if gpu_info.find('failed') >= 0:\n",
        "  print('Select the Runtime > \"Change runtime type\" menu to enable a GPU accelerator, ')\n",
        "  print('and then re-execute this cell.')\n",
        "else:\n",
        "  print(gpu_info)\n",
        "\n",
        "# set manual seed for reproducibility\n",
        "seed = 42\n",
        "\n",
        "# general reproducibility\n",
        "random.seed(seed)\n",
        "np.random.seed(seed)\n",
        "torch.manual_seed(seed)\n",
        "\n",
        "# gpu training specific\n",
        "torch.backends.cudnn.deterministic = True\n",
        "torch.backends.cudnn.benchmark = False"
      ],
      "execution_count": 21,
      "outputs": [
        {
          "output_type": "stream",
          "text": [
            "The tensorboard extension is already loaded. To reload it, use:\n",
            "  %reload_ext tensorboard\n",
            "Thu Apr 22 05:17:52 2021       \n",
            "+-----------------------------------------------------------------------------+\n",
            "| NVIDIA-SMI 460.67       Driver Version: 460.32.03    CUDA Version: 11.2     |\n",
            "|-------------------------------+----------------------+----------------------+\n",
            "| GPU  Name        Persistence-M| Bus-Id        Disp.A | Volatile Uncorr. ECC |\n",
            "| Fan  Temp  Perf  Pwr:Usage/Cap|         Memory-Usage | GPU-Util  Compute M. |\n",
            "|                               |                      |               MIG M. |\n",
            "|===============================+======================+======================|\n",
            "|   0  Tesla P100-PCIE...  Off  | 00000000:00:04.0 Off |                    0 |\n",
            "| N/A   41C    P0    33W / 250W |   1097MiB / 16280MiB |      0%      Default |\n",
            "|                               |                      |                  N/A |\n",
            "+-------------------------------+----------------------+----------------------+\n",
            "                                                                               \n",
            "+-----------------------------------------------------------------------------+\n",
            "| Processes:                                                                  |\n",
            "|  GPU   GI   CI        PID   Type   Process name                  GPU Memory |\n",
            "|        ID   ID                                                   Usage      |\n",
            "|=============================================================================|\n",
            "+-----------------------------------------------------------------------------+\n"
          ],
          "name": "stdout"
        }
      ]
    },
    {
      "cell_type": "markdown",
      "metadata": {
        "id": "NY4eWzGiL6Mj"
      },
      "source": [
        "## Load the MNIST Dataset"
      ]
    },
    {
      "cell_type": "code",
      "metadata": {
        "id": "G649tjTXLL8F"
      },
      "source": [
        "# create transforms\n",
        "# We will just convert to tensor and normalize since no special transforms are mentioned in the paper\n",
        "transforms_mnist = transforms.Compose([\n",
        "                                       transforms.ToTensor(),\n",
        "                                       transforms.Normalize((0.1307,), (0.3081,))\n",
        "                                       ])\n",
        "\n",
        "mnist_data_train = datasets.MNIST('./data/mnist/', train=True, download=True, transform=transforms_mnist)\n",
        "mnist_data_test = datasets.MNIST('../data/mnist/', train=False, download=True, transform=transforms_mnist)"
      ],
      "execution_count": 22,
      "outputs": []
    },
    {
      "cell_type": "code",
      "metadata": {
        "colab": {
          "base_uri": "https://localhost:8080/"
        },
        "id": "dm9usjn2vFkL",
        "outputId": "8602ce1f-0199-4cd3-e73e-e400855bed1d"
      },
      "source": [
        "classes = np.array(list(mnist_data_train.class_to_idx.values()))\n",
        "classes_test = np.array(list(mnist_data_test.class_to_idx.values()))\n",
        "num_classes = len(classes_test)\n",
        "print(\"Classes: {} \\tType: {}\".format(classes, type(classes)))\n",
        "print(\"Classes Test: {} \\tType: {}\".format(classes_test, type(classes)))\n"
      ],
      "execution_count": 23,
      "outputs": [
        {
          "output_type": "stream",
          "text": [
            "Classes: [0 1 2 3 4 5 6 7 8 9] \tType: <class 'numpy.ndarray'>\n",
            "Classes Test: [0 1 2 3 4 5 6 7 8 9] \tType: <class 'numpy.ndarray'>\n"
          ],
          "name": "stdout"
        }
      ]
    },
    {
      "cell_type": "code",
      "metadata": {
        "colab": {
          "base_uri": "https://localhost:8080/"
        },
        "id": "9lvJt3Ofv2SO",
        "outputId": "ee6def21-ecc3-4a0c-9a57-7840ef794654"
      },
      "source": [
        "print(\"Image Shape: {}\".format(mnist_data_train.data[0].size()))"
      ],
      "execution_count": 24,
      "outputs": [
        {
          "output_type": "stream",
          "text": [
            "Image Shape: torch.Size([28, 28])\n"
          ],
          "name": "stdout"
        }
      ]
    },
    {
      "cell_type": "markdown",
      "metadata": {
        "id": "jCOONkg-zV7Y"
      },
      "source": [
        "## Visualize Data"
      ]
    },
    {
      "cell_type": "code",
      "metadata": {
        "id": "R9MK03TZw6Qs"
      },
      "source": [
        "def imshow(img):\n",
        "\timg = img/2 + 0.5 #unnormalize the image\n",
        "\tplt.imshow(img, cmap='gray') # convert from tensor to image"
      ],
      "execution_count": 25,
      "outputs": []
    },
    {
      "cell_type": "code",
      "metadata": {
        "id": "gMJ0Kx4Kw-_H"
      },
      "source": [
        "def visualize(dataset):\n",
        "  figure = plt.figure(figsize=(25,4))\n",
        "  for i in range(20):\n",
        "    axis = figure.add_subplot(2, 20/2, i+1, xticks=[], yticks=[])\n",
        "    data = dataset.data[i]\n",
        "    data = data.numpy()\n",
        "\n",
        "    target = dataset.targets[i]\n",
        "    target = target.numpy()\n",
        "    imshow(data)\n",
        "    axis.set_title(target)\n"
      ],
      "execution_count": 26,
      "outputs": []
    },
    {
      "cell_type": "code",
      "metadata": {
        "colab": {
          "base_uri": "https://localhost:8080/",
          "height": 268
        },
        "id": "8bPOwKg10Ro7",
        "outputId": "80a4c12c-cb3b-4d1d-dee5-1e75b0edb685"
      },
      "source": [
        "visualize(mnist_data_train)"
      ],
      "execution_count": 27,
      "outputs": [
        {
          "output_type": "display_data",
          "data": {
            "image/png": "[encoded data removed]",
            "text/plain": [
              "<Figure size 1800x288 with 20 Axes>"
            ]
          },
          "metadata": {
            "tags": []
          }
        }
      ]
    },
    {
      "cell_type": "code",
      "metadata": {
        "colab": {
          "base_uri": "https://localhost:8080/",
          "height": 268
        },
        "id": "RKoh5Cf70UYu",
        "outputId": "e748a900-3f95-41f1-8b43-5d961593727c"
      },
      "source": [
        "visualize(mnist_data_test)"
      ],
      "execution_count": 28,
      "outputs": [
        {
          "output_type": "display_data",
          "data": {
            "image/png": "[encoded data removed]",
            "text/plain": [
              "<Figure size 1800x288 with 20 Axes>"
            ]
          },
          "metadata": {
            "tags": []
          }
        }
      ]
    },
    {
      "cell_type": "markdown",
      "metadata": {
        "id": "ctjRsETiO1qO"
      },
      "source": [
        "## Partitioning the Data (IID and non-IID)"
      ]
    },
    {
      "cell_type": "code",
      "metadata": {
        "id": "3_v8lyrgO5dD"
      },
      "source": [
        "def iid_partition(dataset, clients):\n",
        "  \"\"\"\n",
        "  I.I.D paritioning of data over clients\n",
        "  Shuffle the data\n",
        "  Split it between clients\n",
        "  \n",
        "  params:\n",
        "    - dataset (torch.utils.Dataset): Dataset containing the MNIST Images\n",
        "    - clients (int): Number of Clients to split the data between\n",
        "\n",
        "  returns:\n",
        "    - Dictionary of image indexes for each client\n",
        "  \"\"\"\n",
        "\n",
        "  num_items_per_client = int(len(dataset)/clients)\n",
        "  client_dict = {}\n",
        "  image_idxs = [i for i in range(len(dataset))]\n",
        "\n",
        "  for i in range(clients):\n",
        "    client_dict[i] = set(np.random.choice(image_idxs, num_items_per_client, replace=False))\n",
        "    image_idxs = list(set(image_idxs) - client_dict[i])\n",
        "\n",
        "  return client_dict"
      ],
      "execution_count": 29,
      "outputs": []
    },
    {
      "cell_type": "code",
      "metadata": {
        "id": "4zMdliGMQoSl"
      },
      "source": [
        "def non_iid_partition(dataset, clients, total_shards, shards_size, num_shards_per_client):\n",
        "  \"\"\"\n",
        "  non I.I.D parititioning of data over clients\n",
        "  Sort the data by the digit label\n",
        "  Divide the data into N shards of size S\n",
        "  Each of the clients will get X shards\n",
        "\n",
        "  params:\n",
        "    - dataset (torch.utils.Dataset): Dataset containing the MNIST Images\n",
        "    - clients (int): Number of Clients to split the data between\n",
        "    - total_shards (int): Number of shards to partition the data in\n",
        "    - shards_size (int): Size of each shard \n",
        "    - num_shards_per_client (int): Number of shards of size shards_size that each client receives\n",
        "\n",
        "  returns:\n",
        "    - Dictionary of image indexes for each client\n",
        "  \"\"\"\n",
        "  \n",
        "  shard_idxs = [i for i in range(total_shards)]\n",
        "  client_dict = {i: np.array([], dtype='int64') for i in range(clients)}\n",
        "  idxs = np.arange(len(dataset))\n",
        "  data_labels = dataset.targets.numpy()\n",
        "\n",
        "  # sort the labels\n",
        "  label_idxs = np.vstack((idxs, data_labels))\n",
        "  label_idxs = label_idxs[:, label_idxs[1,:].argsort()]\n",
        "  idxs = label_idxs[0,:]\n",
        "\n",
        "  # divide the data into total_shards of size shards_size\n",
        "  # assign num_shards_per_client to each client\n",
        "  for i in range(clients):\n",
        "    rand_set = set(np.random.choice(shard_idxs, num_shards_per_client, replace=False))\n",
        "    shard_idxs = list(set(shard_idxs) - rand_set)\n",
        "\n",
        "    for rand in rand_set:\n",
        "      client_dict[i] = np.concatenate((client_dict[i], idxs[rand*shards_size:(rand+1)*shards_size]), axis=0)\n",
        "  \n",
        "  return client_dict\n",
        "\n",
        "\n",
        "\n"
      ],
      "execution_count": 30,
      "outputs": []
    },
    {
      "cell_type": "markdown",
      "metadata": {
        "id": "PTfxv8kFoGAy"
      },
      "source": [
        "## Models"
      ]
    },
    {
      "cell_type": "code",
      "metadata": {
        "id": "CvoDNFKbZST5"
      },
      "source": [
        "class MNIST_2NN(nn.Module):\n",
        "  \"\"\"\n",
        "  A simple multilayer-perceptron with 2-hidden layers with 200 units each\n",
        "  using ReLu activations\n",
        "\n",
        "  Total Expected Params: 199,210\n",
        "  \"\"\"\n",
        "  def __init__(self):\n",
        "    super(MNIST_2NN, self).__init__()\n",
        "\n",
        "    self.fc1 = nn.Linear(28*28, 200)\n",
        "    self.fc2 = nn.Linear(200, 200)\n",
        "    self.fc3 = nn.Linear(200, 10)\n",
        "\n",
        "  def forward(self, x):\n",
        "    x = torch.flatten(x, 1)\n",
        "    x = F.relu(self.fc1(x))\n",
        "    x = F.relu(self.fc2(x))\n",
        "    out = self.fc3(x)\n",
        "\n",
        "    return x"
      ],
      "execution_count": 31,
      "outputs": []
    },
    {
      "cell_type": "code",
      "metadata": {
        "id": "ut1hZ8x3qYPZ"
      },
      "source": [
        "class MNIST_CNN(nn.Module):\n",
        "  \"\"\"\n",
        "  CNN with two 5x5 convolution lauers(the first with 32 channels, second with 64,\n",
        "  each followed with 2x2 max pooling), a fully connected layer with 512 uunits and \n",
        "  ReLu activation, and the final Softmax output layer\n",
        "\n",
        "  Total Expected Params: 1,663,370\n",
        "  \"\"\"\n",
        "  def __init__(self):\n",
        "    super(MNIST_CNN, self).__init__()\n",
        "\n",
        "    self.conv1 = nn.Conv2d(1, 32, kernel_size=5)\n",
        "    self.conv2 = nn.Conv2d(32, 64, kernel_size=5)\n",
        "    \n",
        "    self.pool = nn.MaxPool2d(2,2)\n",
        "    self.dropout = nn.Dropout(p=0.2)\n",
        "\n",
        "    self.fc1 = nn.Linear(1024, 512)\n",
        "    self.out = nn.Linear(512, 10)\n",
        "\n",
        "  def forward(self, x):\n",
        "    x = self.pool(F.relu(self.conv1(x)))\n",
        "    x = self.pool(F.relu(self.conv2(x)))\n",
        "    x = self.dropout(x)\n",
        "    x = torch.flatten(x, 1)\n",
        "    x = F.relu(self.fc1(x))\n",
        "    x = self.out(x)\n",
        "    out = F.log_softmax(x, dim=1)\n",
        "\n",
        "    return out"
      ],
      "execution_count": 32,
      "outputs": []
    },
    {
      "cell_type": "markdown",
      "metadata": {
        "id": "uVv4HA9HuLtr"
      },
      "source": [
        "### Print Model Summaries"
      ]
    },
    {
      "cell_type": "code",
      "metadata": {
        "colab": {
          "base_uri": "https://localhost:8080/"
        },
        "id": "I5oTH710sJEt",
        "outputId": "510e8f00-427a-4de4-f4ab-327445bc15f3"
      },
      "source": [
        "mnist_mlp = MNIST_2NN()\n",
        "mnist_cnn = MNIST_CNN()\n",
        "\n",
        "if torch.cuda.is_available():\n",
        "  mnist_mlp.cuda()\n",
        "  mnist_cnn.cuda()\n",
        "\n",
        "print(\"MNIST MLP SUMMARY\")\n",
        "print(summary(mnist_mlp, (28,28)))\n",
        "\n",
        "print(\"\\nMNIST CNN SUMMARY\")\n",
        "print(summary(mnist_cnn, (1, 28,28)))"
      ],
      "execution_count": 33,
      "outputs": [
        {
          "output_type": "stream",
          "text": [
            "MNIST MLP SUMMARY\n",
            "----------------------------------------------------------------\n",
            "        Layer (type)               Output Shape         Param #\n",
            "================================================================\n",
            "            Linear-1                  [-1, 200]         157,000\n",
            "            Linear-2                  [-1, 200]          40,200\n",
            "            Linear-3                   [-1, 10]           2,010\n",
            "================================================================\n",
            "Total params: 199,210\n",
            "Trainable params: 199,210\n",
            "Non-trainable params: 0\n",
            "----------------------------------------------------------------\n",
            "Input size (MB): 0.00\n",
            "Forward/backward pass size (MB): 0.00\n",
            "Params size (MB): 0.76\n",
            "Estimated Total Size (MB): 0.77\n",
            "----------------------------------------------------------------\n",
            "None\n",
            "\n",
            "MNIST CNN SUMMARY\n",
            "----------------------------------------------------------------\n",
            "        Layer (type)               Output Shape         Param #\n",
            "================================================================\n",
            "            Conv2d-1           [-1, 32, 24, 24]             832\n",
            "         MaxPool2d-2           [-1, 32, 12, 12]               0\n",
            "            Conv2d-3             [-1, 64, 8, 8]          51,264\n",
            "         MaxPool2d-4             [-1, 64, 4, 4]               0\n",
            "           Dropout-5             [-1, 64, 4, 4]               0\n",
            "            Linear-6                  [-1, 512]         524,800\n",
            "            Linear-7                   [-1, 10]           5,130\n",
            "================================================================\n",
            "Total params: 582,026\n",
            "Trainable params: 582,026\n",
            "Non-trainable params: 0\n",
            "----------------------------------------------------------------\n",
            "Input size (MB): 0.00\n",
            "Forward/backward pass size (MB): 0.23\n",
            "Params size (MB): 2.22\n",
            "Estimated Total Size (MB): 2.45\n",
            "----------------------------------------------------------------\n",
            "None\n"
          ],
          "name": "stdout"
        }
      ]
    },
    {
      "cell_type": "markdown",
      "metadata": {
        "id": "gf_8XEXa-gZ7"
      },
      "source": [
        "## Federated Averaging"
      ]
    },
    {
      "cell_type": "markdown",
      "metadata": {
        "id": "L-aNdQsQ-Kvp"
      },
      "source": [
        "### Local Training (Client Update)\n",
        "\n",
        "Local training for the model on client side"
      ]
    },
    {
      "cell_type": "code",
      "metadata": {
        "id": "oX6OsQyO-Gz7"
      },
      "source": [
        "class CustomDataset(Dataset):\n",
        "  def __init__(self, dataset, idxs):\n",
        "      self.dataset = dataset\n",
        "      self.idxs = list(idxs)\n",
        "\n",
        "  def __len__(self):\n",
        "      return len(self.idxs)\n",
        "\n",
        "  def __getitem__(self, item):\n",
        "      image, label = self.dataset[self.idxs[item]]\n",
        "      return image, label\n",
        "\n",
        "\n",
        "class ClientUpdate(object):\n",
        "  def __init__(self, dataset, batchSize, learning_rate, epochs, idxs):\n",
        "    self.train_loader = DataLoader(CustomDataset(dataset, idxs), batch_size=batchSize, shuffle=True)\n",
        "\n",
        "    self.learning_rate = learning_rate\n",
        "    self.epochs = epochs\n",
        "\n",
        "  def train(self, model):\n",
        "    criterion = nn.CrossEntropyLoss()\n",
        "    optimizer = torch.optim.SGD(model.parameters(), lr=self.learning_rate, momentum=0.5)\n",
        "    # optimizer = torch.optim.Adam(model.parameters(), lr=self.learning_rate)\n",
        "\n",
        "    e_loss = []\n",
        "    for epoch in range(1, self.epochs+1):\n",
        "\n",
        "      train_loss = 0.0\n",
        "      model.train()\n",
        "      for data, labels in self.train_loader:\n",
        "\n",
        "        if torch.cuda.is_available():\n",
        "          data, labels = data.cuda(), labels.cuda()\n",
        "\n",
        "        # clear the gradients\n",
        "        optimizer.zero_grad()\n",
        "        # make a forward pass\n",
        "        output = model(data)\n",
        "        # calculate the loss\n",
        "        loss = criterion(output, labels)\n",
        "        # do a backwards pass\n",
        "        loss.backward()\n",
        "        # perform a single optimization step\n",
        "        optimizer.step()\n",
        "        # update training loss\n",
        "        train_loss += loss.item()*data.size(0)\n",
        "\n",
        "      # average losses\n",
        "      train_loss = train_loss/len(self.train_loader.dataset)\n",
        "      e_loss.append(train_loss)\n",
        "\n",
        "    total_loss = sum(e_loss)/len(e_loss)\n",
        "\n",
        "    return model.state_dict(), total_loss"
      ],
      "execution_count": 34,
      "outputs": []
    },
    {
      "cell_type": "markdown",
      "metadata": {
        "id": "Ukgh1DVHE2Ds"
      },
      "source": [
        "### Server Side Training\n",
        "\n",
        "Following Algorithm 1 from the paper"
      ]
    },
    {
      "cell_type": "code",
      "metadata": {
        "id": "1NF1e33BgpeL"
      },
      "source": [
        "def training(model, rounds, batch_size, lr, ds, ds_test, data_dict, C, K, E, plt_title, plt_color):\n",
        "  \"\"\"\n",
        "  Function implements the Federated Averaging Algorithm from the FedAvg paper.\n",
        "  Specifically, this function is used for the server side training and weight update\n",
        "\n",
        "  Params:\n",
        "    - model:           PyTorch model to train\n",
        "    - rounds:          Number of communication rounds for the client update\n",
        "    - batch_size:      Batch size for client update training\n",
        "    - lr:              Learning rate used for client update training\n",
        "    - ds:              Dataset used for training\n",
        "    - ds_test:         Dataset used for testing\n",
        "    - data_dict:       Type of data partition used for training (IID or non-IID)\n",
        "    - C:               Fraction of clients randomly chosen to perform computation on each round\n",
        "    - K:               Total number of clients\n",
        "    - E:               Number of training passes each client makes over its local dataset per round\n",
        "    - tb_writer_name:  Directory name to save the tensorboard logs\n",
        "  Returns:\n",
        "    - model:           Trained model on the server\n",
        "  \"\"\"\n",
        "\n",
        "  # global model weights\n",
        "  global_weights = model.state_dict()\n",
        "\n",
        "  # training loss\n",
        "  # train_accuracy = []\n",
        "  train_loss = []\n",
        "  test_accuracy = []\n",
        "  test_loss = []\n",
        "\n",
        "\n",
        "  # measure time\n",
        "  start = time.time()\n",
        "\n",
        "  for curr_round in range(1, rounds+1):\n",
        "    w, local_loss = [], []\n",
        "\n",
        "    m = max(int(C*K), 1)\n",
        "    \n",
        "    S_t = np.random.choice(range(K), m, replace=False)\n",
        "    for k in S_t:\n",
        "      local_update = ClientUpdate(dataset=ds, batchSize=batch_size, learning_rate=lr, epochs=E, idxs=data_dict[k])\n",
        "      weights, loss = local_update.train(model=copy.deepcopy(model))\n",
        "\n",
        "      w.append(copy.deepcopy(weights))\n",
        "      local_loss.append(copy.deepcopy(loss))\n",
        "\n",
        "    # updating the global weights\n",
        "    weights_avg = copy.deepcopy(w[0])\n",
        "    for k in weights_avg.keys():\n",
        "      for i in range(1, len(w)):\n",
        "        weights_avg[k] += w[i][k]\n",
        "\n",
        "      weights_avg[k] = torch.div(weights_avg[k], len(w))\n",
        "\n",
        "    global_weights = weights_avg\n",
        "\n",
        "    # move the updated weights to our model state dict\n",
        "    model.load_state_dict(global_weights)\n",
        "\n",
        "    # loss\n",
        "    loss_avg = sum(local_loss) / len(local_loss)\n",
        "    print('Round: {}... \\tAverage Loss: {}'.format(curr_round, round(loss_avg, 3)))\n",
        "    train_loss.append(loss_avg)\n",
        "\n",
        "    # test\n",
        "    test_criterion = nn.CrossEntropyLoss()\n",
        "    test_accuracy_current, test_loss_current =  testing(copy.deepcopy(model), ds_test, 128, test_criterion, num_classes, classes_test)\n",
        "    test_accuracy.append(test_accuracy_current)\n",
        "    test_loss.append(test_loss_current)\n",
        "\n",
        "  end = time.time()\n",
        "  \n",
        "  fig, ax = plt.subplots()\n",
        "  x_axis = np.arange(1, rounds+1)\n",
        "  y_axis = np.array(train_loss)\n",
        "  ax.plot(x_axis, y_axis, 'tab:'+plt_color)\n",
        "\n",
        "  ax.set(xlabel='Number of Rounds', ylabel='Train Loss',\n",
        "       title=plt_title)\n",
        "  ax.grid()\n",
        "  fig.savefig(plt_title+'_Train_loss.jpg', format='jpg')\n",
        "  plt.show()\n",
        "\n",
        "  fig, ax = plt.subplots()\n",
        "  x_axis = np.arange(1, rounds+1)\n",
        "  y_axis = np.array(test_loss)\n",
        "  ax.plot(x_axis, y_axis, 'tab:'+plt_color)\n",
        "\n",
        "  ax.set(xlabel='Number of Rounds', ylabel='Test Loss',\n",
        "       title=plt_title)\n",
        "  ax.grid()\n",
        "  fig.savefig(plt_title+'_Test_loss.jpg', format='jpg')\n",
        "  plt.show()\n",
        "\n",
        "  fig, ax = plt.subplots()\n",
        "  x_axis = np.arange(1, rounds+1)\n",
        "  y_axis = np.array(test_accuracy)\n",
        "  ax.plot(x_axis, y_axis, 'tab:'+plt_color)\n",
        "\n",
        "  ax.set(xlabel='Number of Rounds', ylabel='Test Accuracy',\n",
        "       title=plt_title)\n",
        "  ax.grid()\n",
        "  fig.savefig(plt_title+'_Test_Accuracy.jpg', format='jpg')\n",
        "  plt.show()\n",
        "  \n",
        "  print(\"Training Done!\")\n",
        "  print(\"Total time taken to Train: {}\\n\\n\".format(end-start))\n",
        "  \n",
        "  return model, train_loss, test_accuracy, test_loss"
      ],
      "execution_count": 35,
      "outputs": []
    },
    {
      "cell_type": "markdown",
      "metadata": {
        "id": "tUYyb4T-uXmF"
      },
      "source": [
        "## Testing Loop"
      ]
    },
    {
      "cell_type": "code",
      "metadata": {
        "id": "uCcIZmO5uan9"
      },
      "source": [
        "def testing(model, dataset, bs, criterion, num_classes, classes, print_info=False):\n",
        "  #test loss \n",
        "  test_loss = 0.0\n",
        "  correct_class = list(0. for i in range(num_classes))\n",
        "  total_class = list(0. for i in range(num_classes))\n",
        "\n",
        "  test_loader = DataLoader(dataset, batch_size=bs)\n",
        "  l = len(test_loader)\n",
        "  model.eval()\n",
        "  for data, labels in test_loader:\n",
        "\n",
        "    if torch.cuda.is_available():\n",
        "      data, labels = data.cuda(), labels.cuda()\n",
        "\n",
        "    output = model(data)\n",
        "    loss = criterion(output, labels)\n",
        "    test_loss += loss.item()*data.size(0)\n",
        "\n",
        "    _, pred = torch.max(output, 1)\n",
        "\n",
        "    correct_tensor = pred.eq(labels.data.view_as(pred))\n",
        "    correct = np.squeeze(correct_tensor.numpy()) if not torch.cuda.is_available() else np.squeeze(correct_tensor.cpu().numpy())\n",
        "\n",
        "    #test accuracy for each object class\n",
        "    for i in range(num_classes):\n",
        "      label = labels.data[i]\n",
        "      correct_class[label] += correct[i].item()\n",
        "      total_class[label] += 1\n",
        "    \n",
        "  # avg test loss\n",
        "  test_loss = test_loss/len(test_loader.dataset)\n",
        "  test_accuracy = 100. * np.sum(correct_class) / np.sum(total_class)\n",
        "\n",
        "  if print_info:\n",
        "    print(\"Test Loss: {:.6f}\\n\".format(test_loss))\n",
        "\n",
        "    for i in range(10):\n",
        "      if total_class[i]>0:\n",
        "        print('Test Accuracy of %5s: %2d%% (%2d/%2d)' % \n",
        "              (classes[i], 100 * correct_class[i] / total_class[i],\n",
        "              np.sum(correct_class[i]), np.sum(total_class[i])))\n",
        "      else:\n",
        "        print('Test Accuracy of %5s: N/A (no training examples)' % (classes[i]))\n",
        "\n",
        "    print('\\nFinal Test  Accuracy: {:.3f} ({}/{})'.format(\n",
        "          100. * np.sum(correct_class) / np.sum(total_class),\n",
        "          np.sum(correct_class), np.sum(total_class)))\n",
        "  \n",
        "  return test_accuracy, test_loss"
      ],
      "execution_count": 36,
      "outputs": []
    },
    {
      "cell_type": "markdown",
      "metadata": {
        "id": "Ri0FqXFeHW-V"
      },
      "source": [
        "## Logger"
      ]
    },
    {
      "cell_type": "code",
      "metadata": {
        "id": "thZm2kSiHT4v"
      },
      "source": [
        "log_dict = {}\n",
        "NUM_REPEAT = 1"
      ],
      "execution_count": 37,
      "outputs": []
    },
    {
      "cell_type": "markdown",
      "metadata": {
        "id": "4hO5oV6aXqeh"
      },
      "source": [
        "## MNIST CNN on IID"
      ]
    },
    {
      "cell_type": "markdown",
      "metadata": {
        "id": "flSQv_P4zCfx"
      },
      "source": [
        "### Train\n"
      ]
    },
    {
      "cell_type": "code",
      "metadata": {
        "colab": {
          "base_uri": "https://localhost:8080/",
          "height": 1000
        },
        "id": "0ZalcKZtEseA",
        "outputId": "3675244c-3aa3-46a4-a7c1-8739215732c0"
      },
      "source": [
        "train_loss_multiple_runs = [None] * NUM_REPEAT\n",
        "test_accuracy_multiple_runs = [None] * NUM_REPEAT\n",
        "test_loss_multiple_runs = [None] * NUM_REPEAT\n",
        "\n",
        "for exp_num in range(NUM_REPEAT):\n",
        "  print(\"Experiment Run Number: \", exp_num)\n",
        "\n",
        "  # number of training rounds\n",
        "  rounds = 50\n",
        "  # client fraction\n",
        "  C = 0.5\n",
        "  # number of clients\n",
        "  K = 100\n",
        "  # number of training passes on local dataset for each roung\n",
        "  E = 5\n",
        "  # batch size\n",
        "  batch_size = 10\n",
        "  # learning Rate\n",
        "  lr=0.05\n",
        "  # data partition dictionary\n",
        "  iid_dict = iid_partition(mnist_data_train, 100)\n",
        "  # load model\n",
        "  mnist_cnn = MNIST_CNN()\n",
        "\n",
        "  if torch.cuda.is_available():\n",
        "    mnist_cnn.cuda()\n",
        "\n",
        "  mnist_cnn_iid_trained, train_loss, test_accuracy, test_loss = training(mnist_cnn, rounds, batch_size, lr, mnist_data_train, mnist_data_test, iid_dict, C, K, E, \"MNIST CNN on IID Dataset\", \"orange\")\n",
        "\n",
        "  train_loss_multiple_runs[exp_num] = train_loss\n",
        "  test_accuracy_multiple_runs[exp_num] = test_accuracy\n",
        "  test_loss_multiple_runs[exp_num] = test_loss"
      ],
      "execution_count": 38,
      "outputs": [
        {
          "output_type": "stream",
          "text": [
            "Experiment Run Number:  0\n",
            "Round: 1... \tAverage Loss: 0.508\n",
            "Round: 2... \tAverage Loss: 0.142\n",
            "Round: 3... \tAverage Loss: 0.082\n",
            "Round: 4... \tAverage Loss: 0.059\n",
            "Round: 5... \tAverage Loss: 0.052\n",
            "Round: 6... \tAverage Loss: 0.04\n",
            "Round: 7... \tAverage Loss: 0.04\n",
            "Round: 8... \tAverage Loss: 0.036\n",
            "Round: 9... \tAverage Loss: 0.031\n",
            "Round: 10... \tAverage Loss: 0.032\n",
            "Round: 11... \tAverage Loss: 0.029\n",
            "Round: 12... \tAverage Loss: 0.026\n",
            "Round: 13... \tAverage Loss: 0.024\n",
            "Round: 14... \tAverage Loss: 0.021\n",
            "Round: 15... \tAverage Loss: 0.023\n",
            "Round: 16... \tAverage Loss: 0.021\n",
            "Round: 17... \tAverage Loss: 0.02\n",
            "Round: 18... \tAverage Loss: 0.02\n",
            "Round: 19... \tAverage Loss: 0.018\n",
            "Round: 20... \tAverage Loss: 0.017\n",
            "Round: 21... \tAverage Loss: 0.019\n",
            "Round: 22... \tAverage Loss: 0.016\n",
            "Round: 23... \tAverage Loss: 0.016\n",
            "Round: 24... \tAverage Loss: 0.016\n",
            "Round: 25... \tAverage Loss: 0.018\n",
            "Round: 26... \tAverage Loss: 0.014\n",
            "Round: 27... \tAverage Loss: 0.014\n",
            "Round: 28... \tAverage Loss: 0.014\n",
            "Round: 29... \tAverage Loss: 0.014\n",
            "Round: 30... \tAverage Loss: 0.013\n",
            "Round: 31... \tAverage Loss: 0.013\n",
            "Round: 32... \tAverage Loss: 0.012\n",
            "Round: 33... \tAverage Loss: 0.012\n",
            "Round: 34... \tAverage Loss: 0.011\n",
            "Round: 35... \tAverage Loss: 0.012\n",
            "Round: 36... \tAverage Loss: 0.01\n",
            "Round: 37... \tAverage Loss: 0.011\n",
            "Round: 38... \tAverage Loss: 0.01\n",
            "Round: 39... \tAverage Loss: 0.011\n",
            "Round: 40... \tAverage Loss: 0.01\n",
            "Round: 41... \tAverage Loss: 0.011\n",
            "Round: 42... \tAverage Loss: 0.009\n",
            "Round: 43... \tAverage Loss: 0.009\n",
            "Round: 44... \tAverage Loss: 0.009\n",
            "Round: 45... \tAverage Loss: 0.01\n",
            "Round: 46... \tAverage Loss: 0.009\n",
            "Round: 47... \tAverage Loss: 0.009\n",
            "Round: 48... \tAverage Loss: 0.008\n",
            "Round: 49... \tAverage Loss: 0.008\n",
            "Round: 50... \tAverage Loss: 0.009\n"
          ],
          "name": "stdout"
        },
        {
          "output_type": "display_data",
          "data": {
            "image/png": "[encoded data removed]",
            "text/plain": [
              "<Figure size 432x288 with 1 Axes>"
            ]
          },
          "metadata": {
            "tags": [],
            "needs_background": "light"
          }
        },
        {
          "output_type": "display_data",
          "data": {
            "image/png": "[encoded data removed]",
            "text/plain": [
              "<Figure size 432x288 with 1 Axes>"
            ]
          },
          "metadata": {
            "tags": [],
            "needs_background": "light"
          }
        },
        {
          "output_type": "display_data",
          "data": {
            "image/png": "[encoded data removed]",
            "text/plain": [
              "<Figure size 432x288 with 1 Axes>"
            ]
          },
          "metadata": {
            "tags": [],
            "needs_background": "light"
          }
        },
        {
          "output_type": "stream",
          "text": [
            "Training Done!\n",
            "Total time taken to Train: 2584.383817434311\n",
            "\n",
            "\n"
          ],
          "name": "stdout"
        }
      ]
    },
    {
      "cell_type": "markdown",
      "metadata": {
        "id": "wNwC82przF6G"
      },
      "source": [
        "### Test"
      ]
    },
    {
      "cell_type": "code",
      "metadata": {
        "colab": {
          "base_uri": "https://localhost:8080/"
        },
        "id": "qB97BFs9we9w",
        "outputId": "2cd74b77-d5aa-4e51-e4f8-a79dde7d53b0"
      },
      "source": [
        "criterion = nn.CrossEntropyLoss()\n",
        "acc, loss = testing(mnist_cnn_iid_trained, mnist_data_test, 128, criterion, num_classes, classes_test, True)"
      ],
      "execution_count": 39,
      "outputs": [
        {
          "output_type": "stream",
          "text": [
            "Test Loss: 0.022307\n",
            "\n",
            "Test Accuracy of     0: 100% (76/76)\n",
            "Test Accuracy of     1: 100% (90/90)\n",
            "Test Accuracy of     2: 100% (91/91)\n",
            "Test Accuracy of     3: 97% (71/73)\n",
            "Test Accuracy of     4: 100% (89/89)\n",
            "Test Accuracy of     5: 98% (67/68)\n",
            "Test Accuracy of     6: 100% (62/62)\n",
            "Test Accuracy of     7: 100% (81/81)\n",
            "Test Accuracy of     8: 100% (77/77)\n",
            "Test Accuracy of     9: 100% (83/83)\n",
            "\n",
            "Final Test  Accuracy: 99.620 (787.0/790.0)\n"
          ],
          "name": "stdout"
        }
      ]
    },
    {
      "cell_type": "code",
      "metadata": {
        "id": "gdQZEZmHHeqt"
      },
      "source": [
        "hyperparams = {'rounds': rounds,\n",
        "               'C': C,\n",
        "               'K': K,\n",
        "               'E': E,\n",
        "               'batch_size': batch_size,\n",
        "               'lr': lr,\n",
        "               }\n",
        "\n",
        "log_dict['MNIST CNN on IID'] = {'train_loss': train_loss_multiple_runs, \n",
        "                                'test_loss': test_loss_multiple_runs, \n",
        "                                'test_accuracy': test_accuracy_multiple_runs,\n",
        "                                'hyperparams': hyperparams,\n",
        "                                }"
      ],
      "execution_count": 40,
      "outputs": []
    },
    {
      "cell_type": "markdown",
      "metadata": {
        "id": "uF8MdSIUYcnl"
      },
      "source": [
        "## MNIST CNN on Non IID"
      ]
    },
    {
      "cell_type": "markdown",
      "metadata": {
        "id": "a6wXX7JW11bx"
      },
      "source": [
        "### Train\n"
      ]
    },
    {
      "cell_type": "code",
      "metadata": {
        "colab": {
          "base_uri": "https://localhost:8080/",
          "height": 1000
        },
        "id": "fCD3kBCKYfBK",
        "outputId": "a3e9d6b6-863f-4214-9876-7483054ab508"
      },
      "source": [
        "train_loss_multiple_runs = [None] * NUM_REPEAT\n",
        "test_accuracy_multiple_runs = [None] * NUM_REPEAT\n",
        "test_loss_multiple_runs = [None] * NUM_REPEAT\n",
        "\n",
        "for exp_num in range(NUM_REPEAT):\n",
        "  print(\"Experiment Run Number: \", exp_num)\n",
        "\n",
        "  # number of training rounds\n",
        "  rounds = 50\n",
        "  # client fraction\n",
        "  C = 0.5\n",
        "  # number of clients\n",
        "  K = 100\n",
        "  # number of training passes on local dataset for each roung\n",
        "  E = 5\n",
        "  # batch size\n",
        "  batch_size = 10\n",
        "  # learning Rate\n",
        "  lr=0.05\n",
        "  # dict containing different type of data partition\n",
        "  data_dict = non_iid_partition(mnist_data_train, 100, 200, 300, 2)\n",
        "  # load model\n",
        "  mnist_cnn = MNIST_CNN()\n",
        "\n",
        "  if torch.cuda.is_available():\n",
        "    mnist_cnn.cuda()\n",
        "\n",
        "  mnist_cnn_non_iid_trained, train_loss, test_accuracy, test_loss = training(mnist_cnn, rounds, batch_size, lr, mnist_data_train, mnist_data_test, data_dict, C, K, E, \"MNIST CNN on Non-IID Dataset\", \"green\")\n",
        "\n",
        "  train_loss_multiple_runs[exp_num] = train_loss\n",
        "  test_accuracy_multiple_runs[exp_num] = test_accuracy\n",
        "  test_loss_multiple_runs[exp_num] = test_loss"
      ],
      "execution_count": 41,
      "outputs": [
        {
          "output_type": "stream",
          "text": [
            "Experiment Run Number:  0\n",
            "Round: 1... \tAverage Loss: 0.102\n",
            "Round: 2... \tAverage Loss: 0.079\n",
            "Round: 3... \tAverage Loss: 0.046\n",
            "Round: 4... \tAverage Loss: 0.03\n",
            "Round: 5... \tAverage Loss: 0.024\n",
            "Round: 6... \tAverage Loss: 0.017\n",
            "Round: 7... \tAverage Loss: 0.021\n",
            "Round: 8... \tAverage Loss: 0.016\n",
            "Round: 9... \tAverage Loss: 0.014\n",
            "Round: 10... \tAverage Loss: 0.018\n",
            "Round: 11... \tAverage Loss: 0.016\n",
            "Round: 12... \tAverage Loss: 0.016\n",
            "Round: 13... \tAverage Loss: 0.011\n",
            "Round: 14... \tAverage Loss: 0.016\n",
            "Round: 15... \tAverage Loss: 0.013\n",
            "Round: 16... \tAverage Loss: 0.013\n",
            "Round: 17... \tAverage Loss: 0.013\n",
            "Round: 18... \tAverage Loss: 0.01\n",
            "Round: 19... \tAverage Loss: 0.013\n",
            "Round: 20... \tAverage Loss: 0.012\n",
            "Round: 21... \tAverage Loss: 0.01\n",
            "Round: 22... \tAverage Loss: 0.009\n",
            "Round: 23... \tAverage Loss: 0.009\n",
            "Round: 24... \tAverage Loss: 0.008\n",
            "Round: 25... \tAverage Loss: 0.009\n",
            "Round: 26... \tAverage Loss: 0.008\n",
            "Round: 27... \tAverage Loss: 0.007\n",
            "Round: 28... \tAverage Loss: 0.01\n",
            "Round: 29... \tAverage Loss: 0.006\n",
            "Round: 30... \tAverage Loss: 0.008\n",
            "Round: 31... \tAverage Loss: 0.008\n",
            "Round: 32... \tAverage Loss: 0.009\n",
            "Round: 33... \tAverage Loss: 0.008\n",
            "Round: 34... \tAverage Loss: 0.007\n",
            "Round: 35... \tAverage Loss: 0.008\n",
            "Round: 36... \tAverage Loss: 0.008\n",
            "Round: 37... \tAverage Loss: 0.008\n",
            "Round: 38... \tAverage Loss: 0.007\n",
            "Round: 39... \tAverage Loss: 0.007\n",
            "Round: 40... \tAverage Loss: 0.006\n",
            "Round: 41... \tAverage Loss: 0.006\n",
            "Round: 42... \tAverage Loss: 0.007\n",
            "Round: 43... \tAverage Loss: 0.006\n",
            "Round: 44... \tAverage Loss: 0.007\n",
            "Round: 45... \tAverage Loss: 0.005\n",
            "Round: 46... \tAverage Loss: 0.007\n",
            "Round: 47... \tAverage Loss: 0.007\n",
            "Round: 48... \tAverage Loss: 0.007\n",
            "Round: 49... \tAverage Loss: 0.006\n",
            "Round: 50... \tAverage Loss: 0.006\n"
          ],
          "name": "stdout"
        },
        {
          "output_type": "display_data",
          "data": {
            "image/png": "[encoded data removed]",
            "text/plain": [
              "<Figure size 432x288 with 1 Axes>"
            ]
          },
          "metadata": {
            "tags": [],
            "needs_background": "light"
          }
        },
        {
          "output_type": "display_data",
          "data": {
            "image/png": "[encoded data removed]",
            "text/plain": [
              "<Figure size 432x288 with 1 Axes>"
            ]
          },
          "metadata": {
            "tags": [],
            "needs_background": "light"
          }
        },
        {
          "output_type": "display_data",
          "data": {
            "image/png": "[encoded data removed]",
            "text/plain": [
              "<Figure size 432x288 with 1 Axes>"
            ]
          },
          "metadata": {
            "tags": [],
            "needs_background": "light"
          }
        },
        {
          "output_type": "stream",
          "text": [
            "Training Done!\n",
            "Total time taken to Train: 2577.690616607666\n",
            "\n",
            "\n"
          ],
          "name": "stdout"
        }
      ]
    },
    {
      "cell_type": "markdown",
      "metadata": {
        "id": "4C68J-Kk14dB"
      },
      "source": [
        "### Test"
      ]
    },
    {
      "cell_type": "code",
      "metadata": {
        "colab": {
          "base_uri": "https://localhost:8080/"
        },
        "id": "_yQ9GiAZ15jE",
        "outputId": "0ca9e4a0-841c-496e-9f33-414b6b00c0e9"
      },
      "source": [
        "criterion = nn.CrossEntropyLoss()\n",
        "acc, loss = testing(mnist_cnn_non_iid_trained, mnist_data_test, 128, criterion, num_classes, classes_test, True)"
      ],
      "execution_count": 42,
      "outputs": [
        {
          "output_type": "stream",
          "text": [
            "Test Loss: 0.037644\n",
            "\n",
            "Test Accuracy of     0: 98% (75/76)\n",
            "Test Accuracy of     1: 100% (90/90)\n",
            "Test Accuracy of     2: 100% (91/91)\n",
            "Test Accuracy of     3: 97% (71/73)\n",
            "Test Accuracy of     4: 97% (87/89)\n",
            "Test Accuracy of     5: 98% (67/68)\n",
            "Test Accuracy of     6: 100% (62/62)\n",
            "Test Accuracy of     7: 98% (80/81)\n",
            "Test Accuracy of     8: 100% (77/77)\n",
            "Test Accuracy of     9: 98% (82/83)\n",
            "\n",
            "Final Test  Accuracy: 98.987 (782.0/790.0)\n"
          ],
          "name": "stdout"
        }
      ]
    },
    {
      "cell_type": "code",
      "metadata": {
        "id": "dxMcxgLhLvX-"
      },
      "source": [
        "hyperparams = {'rounds': rounds,\n",
        "               'C': C,\n",
        "               'K': K,\n",
        "               'E': E,\n",
        "               'batch_size': batch_size,\n",
        "               'lr': lr,\n",
        "               }\n",
        "\n",
        "log_dict['MNIST CNN on Non IID'] = {'train_loss': train_loss_multiple_runs, \n",
        "                                'test_loss': test_loss_multiple_runs, \n",
        "                                'test_accuracy': test_accuracy_multiple_runs,\n",
        "                                'hyperparams': hyperparams,\n",
        "                                }"
      ],
      "execution_count": 43,
      "outputs": []
    },
    {
      "cell_type": "markdown",
      "metadata": {
        "id": "z_jifdzniuhm"
      },
      "source": [
        "## MNIST MLP on IID"
      ]
    },
    {
      "cell_type": "markdown",
      "metadata": {
        "id": "uh-te0Od2XGO"
      },
      "source": [
        "### Train"
      ]
    },
    {
      "cell_type": "code",
      "metadata": {
        "colab": {
          "base_uri": "https://localhost:8080/",
          "height": 1000
        },
        "id": "UmpWmKOQixVV",
        "outputId": "b63f01d7-59d2-4b0c-a635-e358f6bdfd08"
      },
      "source": [
        "train_loss_multiple_runs = [None] * NUM_REPEAT\n",
        "test_accuracy_multiple_runs = [None] * NUM_REPEAT\n",
        "test_loss_multiple_runs = [None] * NUM_REPEAT\n",
        "\n",
        "for exp_num in range(NUM_REPEAT):\n",
        "  print(\"Experiment Run Number: \", exp_num)\n",
        "\n",
        "  # number of training rounds\n",
        "  rounds = 50\n",
        "  # client fraction\n",
        "  C = 0.5\n",
        "  # number of clients\n",
        "  K = 100\n",
        "  # number of training passes on local dataset for each round\n",
        "  E = 5\n",
        "  # batch size\n",
        "  batch_size = 10\n",
        "  # learning Rate\n",
        "  lr=0.05\n",
        "  # dict containing different type of data partition\n",
        "  data_dict = iid_partition(mnist_data_train, 100)\n",
        "  # load model\n",
        "  mnist_mlp = MNIST_2NN()\n",
        "\n",
        "  if torch.cuda.is_available():\n",
        "    mnist_mlp.cuda()\n",
        "\n",
        "  mnist_mlp_iid_trained, train_loss, test_accuracy, test_loss = training(mnist_mlp, rounds, batch_size, lr, mnist_data_train, mnist_data_test, data_dict, C, K, E, \"MNIST MLP on IID Dataset\", \"orange\")\n",
        "  \n",
        "  train_loss_multiple_runs[exp_num] = train_loss\n",
        "  test_accuracy_multiple_runs[exp_num] = test_accuracy\n",
        "  test_loss_multiple_runs[exp_num] = test_loss"
      ],
      "execution_count": 44,
      "outputs": [
        {
          "output_type": "stream",
          "text": [
            "Experiment Run Number:  0\n",
            "Round: 1... \tAverage Loss: 0.607\n",
            "Round: 2... \tAverage Loss: 0.167\n",
            "Round: 3... \tAverage Loss: 0.129\n",
            "Round: 4... \tAverage Loss: 0.107\n",
            "Round: 5... \tAverage Loss: 0.093\n",
            "Round: 6... \tAverage Loss: 0.078\n",
            "Round: 7... \tAverage Loss: 0.071\n",
            "Round: 8... \tAverage Loss: 0.064\n",
            "Round: 9... \tAverage Loss: 0.061\n",
            "Round: 10... \tAverage Loss: 0.057\n",
            "Round: 11... \tAverage Loss: 0.053\n",
            "Round: 12... \tAverage Loss: 0.049\n",
            "Round: 13... \tAverage Loss: 0.047\n",
            "Round: 14... \tAverage Loss: 0.043\n",
            "Round: 15... \tAverage Loss: 0.042\n",
            "Round: 16... \tAverage Loss: 0.041\n",
            "Round: 17... \tAverage Loss: 0.038\n",
            "Round: 18... \tAverage Loss: 0.039\n",
            "Round: 19... \tAverage Loss: 0.036\n",
            "Round: 20... \tAverage Loss: 0.036\n",
            "Round: 21... \tAverage Loss: 0.033\n",
            "Round: 22... \tAverage Loss: 0.033\n",
            "Round: 23... \tAverage Loss: 0.031\n",
            "Round: 24... \tAverage Loss: 0.029\n",
            "Round: 25... \tAverage Loss: 0.03\n",
            "Round: 26... \tAverage Loss: 0.029\n",
            "Round: 27... \tAverage Loss: 0.025\n",
            "Round: 28... \tAverage Loss: 0.027\n",
            "Round: 29... \tAverage Loss: 0.026\n",
            "Round: 30... \tAverage Loss: 0.024\n",
            "Round: 31... \tAverage Loss: 0.026\n",
            "Round: 32... \tAverage Loss: 0.025\n",
            "Round: 33... \tAverage Loss: 0.025\n",
            "Round: 34... \tAverage Loss: 0.023\n",
            "Round: 35... \tAverage Loss: 0.022\n",
            "Round: 36... \tAverage Loss: 0.022\n",
            "Round: 37... \tAverage Loss: 0.024\n",
            "Round: 38... \tAverage Loss: 0.019\n",
            "Round: 39... \tAverage Loss: 0.02\n",
            "Round: 40... \tAverage Loss: 0.017\n",
            "Round: 41... \tAverage Loss: 0.021\n",
            "Round: 42... \tAverage Loss: 0.019\n",
            "Round: 43... \tAverage Loss: 0.018\n",
            "Round: 44... \tAverage Loss: 0.018\n",
            "Round: 45... \tAverage Loss: 0.016\n",
            "Round: 46... \tAverage Loss: 0.015\n",
            "Round: 47... \tAverage Loss: 0.018\n",
            "Round: 48... \tAverage Loss: 0.017\n",
            "Round: 49... \tAverage Loss: 0.017\n",
            "Round: 50... \tAverage Loss: 0.017\n"
          ],
          "name": "stdout"
        },
        {
          "output_type": "display_data",
          "data": {
            "image/png": "[encoded data removed]",
            "text/plain": [
              "<Figure size 432x288 with 1 Axes>"
            ]
          },
          "metadata": {
            "tags": [],
            "needs_background": "light"
          }
        },
        {
          "output_type": "display_data",
          "data": {
            "image/png": "[encoded data removed]",
            "text/plain": [
              "<Figure size 432x288 with 1 Axes>"
            ]
          },
          "metadata": {
            "tags": [],
            "needs_background": "light"
          }
        },
        {
          "output_type": "display_data",
          "data": {
            "image/png": "[encoded data removed]",
            "text/plain": [
              "<Figure size 432x288 with 1 Axes>"
            ]
          },
          "metadata": {
            "tags": [],
            "needs_background": "light"
          }
        },
        {
          "output_type": "stream",
          "text": [
            "Training Done!\n",
            "Total time taken to Train: 1783.3690009117126\n",
            "\n",
            "\n"
          ],
          "name": "stdout"
        }
      ]
    },
    {
      "cell_type": "markdown",
      "metadata": {
        "id": "aTBsL3-72PPd"
      },
      "source": [
        "### Test"
      ]
    },
    {
      "cell_type": "code",
      "metadata": {
        "colab": {
          "base_uri": "https://localhost:8080/"
        },
        "id": "a9G4j5L62OrS",
        "outputId": "1664e248-9329-4bd8-c14c-8adc4e004f2b"
      },
      "source": [
        "criterion = nn.CrossEntropyLoss()\n",
        "acc, loss = testing(mnist_mlp_iid_trained, mnist_data_test, 128, criterion, num_classes, classes_test, True)"
      ],
      "execution_count": 45,
      "outputs": [
        {
          "output_type": "stream",
          "text": [
            "Test Loss: 0.074060\n",
            "\n",
            "Test Accuracy of     0: 100% (76/76)\n",
            "Test Accuracy of     1: 97% (88/90)\n",
            "Test Accuracy of     2: 96% (88/91)\n",
            "Test Accuracy of     3: 98% (72/73)\n",
            "Test Accuracy of     4: 97% (87/89)\n",
            "Test Accuracy of     5: 95% (65/68)\n",
            "Test Accuracy of     6: 98% (61/62)\n",
            "Test Accuracy of     7: 98% (80/81)\n",
            "Test Accuracy of     8: 100% (77/77)\n",
            "Test Accuracy of     9: 97% (81/83)\n",
            "\n",
            "Final Test  Accuracy: 98.101 (775.0/790.0)\n"
          ],
          "name": "stdout"
        }
      ]
    },
    {
      "cell_type": "code",
      "metadata": {
        "id": "fWCdJFRCL_f2"
      },
      "source": [
        "hyperparams = {'rounds': rounds,\n",
        "               'C': C,\n",
        "               'K': K,\n",
        "               'E': E,\n",
        "               'batch_size': batch_size,\n",
        "               'lr': lr,\n",
        "               }\n",
        "\n",
        "log_dict['MNIST MLP on IID'] = {'train_loss': train_loss_multiple_runs, \n",
        "                                'test_loss': test_loss_multiple_runs, \n",
        "                                'test_accuracy': test_accuracy_multiple_runs,\n",
        "                                'hyperparams': hyperparams,\n",
        "                                }"
      ],
      "execution_count": 46,
      "outputs": []
    },
    {
      "cell_type": "markdown",
      "metadata": {
        "id": "J8jzEyO0iywz"
      },
      "source": [
        "## MNIST MLP on Non IID"
      ]
    },
    {
      "cell_type": "markdown",
      "metadata": {
        "id": "pJFepr3y2bF-"
      },
      "source": [
        "### Train"
      ]
    },
    {
      "cell_type": "code",
      "metadata": {
        "colab": {
          "base_uri": "https://localhost:8080/",
          "height": 1000
        },
        "id": "EBKO44Hgi1Uh",
        "outputId": "6c83517a-a16b-4c3d-c3ac-fe74dc7b2a1f"
      },
      "source": [
        "train_loss_multiple_runs = [None] * NUM_REPEAT\n",
        "test_accuracy_multiple_runs = [None] * NUM_REPEAT\n",
        "test_loss_multiple_runs = [None] * NUM_REPEAT\n",
        "\n",
        "for exp_num in range(NUM_REPEAT):\n",
        "  print(\"Experiment Run Number: \", exp_num)\n",
        "  \n",
        "  # number of training rounds\n",
        "  rounds = 50\n",
        "  # client fraction\n",
        "  C = 0.5\n",
        "  # number of clients\n",
        "  K = 100\n",
        "  # number of training passes on local dataset for each roung\n",
        "  E = 5\n",
        "  # batch size\n",
        "  batch_size = 10\n",
        "  # learning Rate\n",
        "  lr=0.05\n",
        "  # dict containing different type of data partition\n",
        "  data_dict = non_iid_partition(mnist_data_train, 100, 200, 300, 2)\n",
        "  # load model\n",
        "  mnist_mlp = MNIST_2NN()\n",
        "\n",
        "  if torch.cuda.is_available():\n",
        "    mnist_mlp.cuda()\n",
        "\n",
        "  mnist_mlp_non_iid_trained, train_loss, test_accuracy, test_loss = training(mnist_mlp, rounds, batch_size, lr, mnist_data_train, mnist_data_test, data_dict, C, K, E, \"MNIST MLP on Non-IID Dataset\", \"green\")\n",
        "\n",
        "  train_loss_multiple_runs[exp_num] = train_loss\n",
        "  test_accuracy_multiple_runs[exp_num] = test_accuracy\n",
        "  test_loss_multiple_runs[exp_num] = test_loss"
      ],
      "execution_count": 47,
      "outputs": [
        {
          "output_type": "stream",
          "text": [
            "Experiment Run Number:  0\n",
            "Round: 1... \tAverage Loss: 0.09\n",
            "Round: 2... \tAverage Loss: 0.047\n",
            "Round: 3... \tAverage Loss: 0.039\n",
            "Round: 4... \tAverage Loss: 0.026\n",
            "Round: 5... \tAverage Loss: 0.024\n",
            "Round: 6... \tAverage Loss: 0.025\n",
            "Round: 7... \tAverage Loss: 0.026\n",
            "Round: 8... \tAverage Loss: 0.022\n",
            "Round: 9... \tAverage Loss: 0.019\n",
            "Round: 10... \tAverage Loss: 0.019\n",
            "Round: 11... \tAverage Loss: 0.02\n",
            "Round: 12... \tAverage Loss: 0.018\n",
            "Round: 13... \tAverage Loss: 0.019\n",
            "Round: 14... \tAverage Loss: 0.015\n",
            "Round: 15... \tAverage Loss: 0.016\n",
            "Round: 16... \tAverage Loss: 0.016\n",
            "Round: 17... \tAverage Loss: 0.017\n",
            "Round: 18... \tAverage Loss: 0.016\n",
            "Round: 19... \tAverage Loss: 0.012\n",
            "Round: 20... \tAverage Loss: 0.017\n",
            "Round: 21... \tAverage Loss: 0.013\n",
            "Round: 22... \tAverage Loss: 0.015\n",
            "Round: 23... \tAverage Loss: 0.012\n",
            "Round: 24... \tAverage Loss: 0.011\n",
            "Round: 25... \tAverage Loss: 0.013\n",
            "Round: 26... \tAverage Loss: 0.014\n",
            "Round: 27... \tAverage Loss: 0.012\n",
            "Round: 28... \tAverage Loss: 0.011\n",
            "Round: 29... \tAverage Loss: 0.013\n",
            "Round: 30... \tAverage Loss: 0.011\n",
            "Round: 31... \tAverage Loss: 0.008\n",
            "Round: 32... \tAverage Loss: 0.01\n",
            "Round: 33... \tAverage Loss: 0.012\n",
            "Round: 34... \tAverage Loss: 0.011\n",
            "Round: 35... \tAverage Loss: 0.009\n",
            "Round: 36... \tAverage Loss: 0.01\n",
            "Round: 37... \tAverage Loss: 0.011\n",
            "Round: 38... \tAverage Loss: 0.009\n",
            "Round: 39... \tAverage Loss: 0.009\n",
            "Round: 40... \tAverage Loss: 0.008\n",
            "Round: 41... \tAverage Loss: 0.009\n",
            "Round: 42... \tAverage Loss: 0.007\n",
            "Round: 43... \tAverage Loss: 0.009\n",
            "Round: 44... \tAverage Loss: 0.009\n",
            "Round: 45... \tAverage Loss: 0.008\n",
            "Round: 46... \tAverage Loss: 0.007\n",
            "Round: 47... \tAverage Loss: 0.008\n",
            "Round: 48... \tAverage Loss: 0.007\n",
            "Round: 49... \tAverage Loss: 0.008\n",
            "Round: 50... \tAverage Loss: 0.008\n"
          ],
          "name": "stdout"
        },
        {
          "output_type": "display_data",
          "data": {
            "image/png": "[encoded data removed]",
            "text/plain": [
              "<Figure size 432x288 with 1 Axes>"
            ]
          },
          "metadata": {
            "tags": [],
            "needs_background": "light"
          }
        },
        {
          "output_type": "display_data",
          "data": {
            "image/png": "[encoded data removed]",
            "text/plain": [
              "<Figure size 432x288 with 1 Axes>"
            ]
          },
          "metadata": {
            "tags": [],
            "needs_background": "light"
          }
        },
        {
          "output_type": "display_data",
          "data": {
            "image/png": "[encoded data removed]",
            "text/plain": [
              "<Figure size 432x288 with 1 Axes>"
            ]
          },
          "metadata": {
            "tags": [],
            "needs_background": "light"
          }
        },
        {
          "output_type": "stream",
          "text": [
            "Training Done!\n",
            "Total time taken to Train: 1782.7245717048645\n",
            "\n",
            "\n"
          ],
          "name": "stdout"
        }
      ]
    },
    {
      "cell_type": "markdown",
      "metadata": {
        "id": "jmuQYPbF2mes"
      },
      "source": [
        "### Test"
      ]
    },
    {
      "cell_type": "code",
      "metadata": {
        "colab": {
          "base_uri": "https://localhost:8080/"
        },
        "id": "0tKMlJyF2nGN",
        "outputId": "a3e5d6ed-ad8b-4800-f346-7254cade53d6"
      },
      "source": [
        "criterion = nn.CrossEntropyLoss()\n",
        "acc, loss = testing(mnist_mlp_non_iid_trained, mnist_data_test, 128, criterion, num_classes, classes_test, True)"
      ],
      "execution_count": 48,
      "outputs": [
        {
          "output_type": "stream",
          "text": [
            "Test Loss: 0.142364\n",
            "\n",
            "Test Accuracy of     0: 98% (75/76)\n",
            "Test Accuracy of     1: 97% (88/90)\n",
            "Test Accuracy of     2: 96% (88/91)\n",
            "Test Accuracy of     3: 94% (69/73)\n",
            "Test Accuracy of     4: 97% (87/89)\n",
            "Test Accuracy of     5: 95% (65/68)\n",
            "Test Accuracy of     6: 95% (59/62)\n",
            "Test Accuracy of     7: 92% (75/81)\n",
            "Test Accuracy of     8: 97% (75/77)\n",
            "Test Accuracy of     9: 93% (78/83)\n",
            "\n",
            "Final Test  Accuracy: 96.076 (759.0/790.0)\n"
          ],
          "name": "stdout"
        }
      ]
    },
    {
      "cell_type": "code",
      "metadata": {
        "id": "1W5krYcSMQiu"
      },
      "source": [
        "hyperparams = {'rounds': rounds,\n",
        "               'C': C,\n",
        "               'K': K,\n",
        "               'E': E,\n",
        "               'batch_size': batch_size,\n",
        "               'lr': lr,\n",
        "               }\n",
        "\n",
        "log_dict['MNIST MLP on Non IID'] = {'train_loss': train_loss_multiple_runs, \n",
        "                                'test_loss': test_loss_multiple_runs, \n",
        "                                'test_accuracy': test_accuracy_multiple_runs,\n",
        "                                'hyperparams': hyperparams,\n",
        "                                }"
      ],
      "execution_count": 49,
      "outputs": []
    },
    {
      "cell_type": "markdown",
      "metadata": {
        "id": "emS_SaRAP6TZ"
      },
      "source": [
        "## Pickle Log"
      ]
    },
    {
      "cell_type": "code",
      "metadata": {
        "id": "soAN38JoP0c1"
      },
      "source": [
        "import pickle\n",
        " \n",
        "with open(path + 'FedAvgNum_of_clients_100.5.pkl', 'wb') as file:\n",
        "  pickle.dump(log_dict, file)"
      ],
      "execution_count": 50,
      "outputs": []
    },
    {
      "cell_type": "code",
      "metadata": {
        "colab": {
          "base_uri": "https://localhost:8080/"
        },
        "id": "2UBy-JswSoCJ",
        "outputId": "f6319c99-bec2-48f2-bef5-1963b79ac778"
      },
      "source": [
        "log_dict"
      ],
      "execution_count": 51,
      "outputs": [
        {
          "output_type": "execute_result",
          "data": {
            "text/plain": [
              "{'MNIST CNN on IID': {'hyperparams': {'C': 0.5,\n",
              "   'E': 5,\n",
              "   'K': 100,\n",
              "   'batch_size': 10,\n",
              "   'lr': 0.05,\n",
              "   'rounds': 50},\n",
              "  'test_accuracy': [[94.68354430379746,\n",
              "    96.9620253164557,\n",
              "    96.9620253164557,\n",
              "    97.84810126582279,\n",
              "    98.22784810126582,\n",
              "    98.73417721518987,\n",
              "    98.86075949367088,\n",
              "    98.86075949367088,\n",
              "    98.9873417721519,\n",
              "    98.9873417721519,\n",
              "    98.9873417721519,\n",
              "    99.24050632911393,\n",
              "    99.24050632911393,\n",
              "    99.24050632911393,\n",
              "    99.24050632911393,\n",
              "    99.36708860759494,\n",
              "    99.36708860759494,\n",
              "    99.36708860759494,\n",
              "    99.36708860759494,\n",
              "    99.36708860759494,\n",
              "    99.36708860759494,\n",
              "    99.36708860759494,\n",
              "    99.36708860759494,\n",
              "    99.36708860759494,\n",
              "    99.36708860759494,\n",
              "    99.36708860759494,\n",
              "    99.36708860759494,\n",
              "    99.36708860759494,\n",
              "    99.49367088607595,\n",
              "    99.62025316455696,\n",
              "    99.49367088607595,\n",
              "    99.62025316455696,\n",
              "    99.62025316455696,\n",
              "    99.62025316455696,\n",
              "    99.62025316455696,\n",
              "    99.62025316455696,\n",
              "    99.62025316455696,\n",
              "    99.62025316455696,\n",
              "    99.62025316455696,\n",
              "    99.62025316455696,\n",
              "    99.62025316455696,\n",
              "    99.62025316455696,\n",
              "    99.62025316455696,\n",
              "    99.62025316455696,\n",
              "    99.62025316455696,\n",
              "    99.62025316455696,\n",
              "    99.62025316455696,\n",
              "    99.62025316455696,\n",
              "    99.62025316455696,\n",
              "    99.62025316455696]],\n",
              "  'test_loss': [[0.3484620009660721,\n",
              "    0.09769702908173203,\n",
              "    0.07728961202697829,\n",
              "    0.06459793614281807,\n",
              "    0.05794043587000342,\n",
              "    0.05149631022173271,\n",
              "    0.04574936465623323,\n",
              "    0.04428222788562416,\n",
              "    0.04089087150888517,\n",
              "    0.038415134458662945,\n",
              "    0.03697481165051577,\n",
              "    0.03586897292326612,\n",
              "    0.03375973774302256,\n",
              "    0.03256248840791959,\n",
              "    0.03282669332101214,\n",
              "    0.032174885813126455,\n",
              "    0.031115283935618937,\n",
              "    0.029828081061514966,\n",
              "    0.029352385500908712,\n",
              "    0.02895153948513471,\n",
              "    0.028263135028195392,\n",
              "    0.02809930649535381,\n",
              "    0.027295519333418634,\n",
              "    0.026947993489295188,\n",
              "    0.02752459368621712,\n",
              "    0.02708898812255429,\n",
              "    0.02634175156374913,\n",
              "    0.026191129539217945,\n",
              "    0.025413885767342437,\n",
              "    0.024734934907758726,\n",
              "    0.02440961856527938,\n",
              "    0.024682229391665898,\n",
              "    0.024231776697271563,\n",
              "    0.02433437816965161,\n",
              "    0.024123925880504247,\n",
              "    0.02411023756500508,\n",
              "    0.02399808894489106,\n",
              "    0.023938954599107092,\n",
              "    0.023308161954283424,\n",
              "    0.02314520265178726,\n",
              "    0.023308491532081827,\n",
              "    0.023176520783401794,\n",
              "    0.02283580106962181,\n",
              "    0.022863178696792965,\n",
              "    0.02302235725395876,\n",
              "    0.02272902129618269,\n",
              "    0.02271861327502047,\n",
              "    0.02233036956083997,\n",
              "    0.022352805769201223,\n",
              "    0.022307161159098907]],\n",
              "  'train_loss': [[0.5083455930093398,\n",
              "    0.14173388636996773,\n",
              "    0.08152027857792798,\n",
              "    0.059243285639207104,\n",
              "    0.05232036782432599,\n",
              "    0.0403493640746202,\n",
              "    0.03991692442120362,\n",
              "    0.03553348916449503,\n",
              "    0.031121903062456515,\n",
              "    0.03189363243288065,\n",
              "    0.028650075347816273,\n",
              "    0.02602147479667123,\n",
              "    0.023775214850693144,\n",
              "    0.02072854349133864,\n",
              "    0.02308202724154129,\n",
              "    0.02087002425316652,\n",
              "    0.020038360189294155,\n",
              "    0.020054323277916595,\n",
              "    0.01764994255142305,\n",
              "    0.01731909790157255,\n",
              "    0.018617487021596678,\n",
              "    0.016038259617707124,\n",
              "    0.01563067124705132,\n",
              "    0.015960617423299277,\n",
              "    0.01753455727810378,\n",
              "    0.013678874227290748,\n",
              "    0.013972531961813537,\n",
              "    0.013610328346710358,\n",
              "    0.014358321636599796,\n",
              "    0.013434856219112824,\n",
              "    0.0128221141521068,\n",
              "    0.012052341494480307,\n",
              "    0.011958246762000097,\n",
              "    0.010920276282638381,\n",
              "    0.011633741961696507,\n",
              "    0.009738475405265838,\n",
              "    0.011368065945835028,\n",
              "    0.010151761319247554,\n",
              "    0.010567819761775031,\n",
              "    0.009945758370011718,\n",
              "    0.010835403691399055,\n",
              "    0.009364247516723262,\n",
              "    0.009452780096279435,\n",
              "    0.008838030487575614,\n",
              "    0.009731695119746068,\n",
              "    0.008750480316447732,\n",
              "    0.009054625680483912,\n",
              "    0.008153014658866045,\n",
              "    0.00801560540196348,\n",
              "    0.008830994348822525]]},\n",
              " 'MNIST CNN on Non IID': {'hyperparams': {'C': 0.5,\n",
              "   'E': 5,\n",
              "   'K': 100,\n",
              "   'batch_size': 10,\n",
              "   'lr': 0.05,\n",
              "   'rounds': 50},\n",
              "  'test_accuracy': [[30.0,\n",
              "    69.24050632911393,\n",
              "    81.89873417721519,\n",
              "    88.73417721518987,\n",
              "    92.65822784810126,\n",
              "    92.0253164556962,\n",
              "    94.68354430379746,\n",
              "    96.07594936708861,\n",
              "    94.9367088607595,\n",
              "    95.82278481012658,\n",
              "    97.0886075949367,\n",
              "    96.9620253164557,\n",
              "    97.34177215189874,\n",
              "    97.0886075949367,\n",
              "    97.46835443037975,\n",
              "    97.59493670886076,\n",
              "    97.34177215189874,\n",
              "    97.72151898734177,\n",
              "    97.84810126582279,\n",
              "    97.72151898734177,\n",
              "    97.9746835443038,\n",
              "    98.35443037974683,\n",
              "    98.48101265822785,\n",
              "    98.10126582278481,\n",
              "    98.48101265822785,\n",
              "    98.73417721518987,\n",
              "    98.35443037974683,\n",
              "    98.22784810126582,\n",
              "    98.60759493670886,\n",
              "    98.73417721518987,\n",
              "    98.86075949367088,\n",
              "    98.60759493670886,\n",
              "    98.48101265822785,\n",
              "    98.48101265822785,\n",
              "    98.60759493670886,\n",
              "    98.60759493670886,\n",
              "    98.9873417721519,\n",
              "    98.60759493670886,\n",
              "    98.86075949367088,\n",
              "    98.9873417721519,\n",
              "    98.86075949367088,\n",
              "    98.86075949367088,\n",
              "    98.86075949367088,\n",
              "    99.24050632911393,\n",
              "    99.11392405063292,\n",
              "    99.24050632911393,\n",
              "    99.11392405063292,\n",
              "    99.11392405063292,\n",
              "    99.11392405063292,\n",
              "    98.9873417721519]],\n",
              "  'test_loss': [[2.2449052291870117,\n",
              "    1.8380312358856201,\n",
              "    1.1224869638442994,\n",
              "    0.6187815202236175,\n",
              "    0.39414096336364746,\n",
              "    0.2922902876853943,\n",
              "    0.2661775201320648,\n",
              "    0.19332089572548866,\n",
              "    0.1851447860598564,\n",
              "    0.16675225936174393,\n",
              "    0.14068557180166244,\n",
              "    0.1279162767380476,\n",
              "    0.11363440199047327,\n",
              "    0.10602273291945458,\n",
              "    0.09928854056149722,\n",
              "    0.08796868909299374,\n",
              "    0.08901358373463154,\n",
              "    0.08442005187273026,\n",
              "    0.078081289473176,\n",
              "    0.07892472506761551,\n",
              "    0.06829391362667084,\n",
              "    0.06927677068114281,\n",
              "    0.06548962516486645,\n",
              "    0.05939131837710738,\n",
              "    0.058410622560232876,\n",
              "    0.055090181548893453,\n",
              "    0.055451739694178104,\n",
              "    0.0554001933991909,\n",
              "    0.04949823286160827,\n",
              "    0.05266137643959373,\n",
              "    0.04795792517773807,\n",
              "    0.048486614234931766,\n",
              "    0.049776109266839924,\n",
              "    0.050375975866988304,\n",
              "    0.04596621986925602,\n",
              "    0.04521331954672932,\n",
              "    0.04638196532726288,\n",
              "    0.04268786316737533,\n",
              "    0.04173992087170482,\n",
              "    0.04185790985710919,\n",
              "    0.039660909973271194,\n",
              "    0.03966777568012476,\n",
              "    0.03843023665882647,\n",
              "    0.03840708783753216,\n",
              "    0.0381967872871086,\n",
              "    0.036610900307819244,\n",
              "    0.03763031359128654,\n",
              "    0.039285147479176524,\n",
              "    0.03674636707101017,\n",
              "    0.037643955996632575]],\n",
              "  'train_loss': [[0.10231073706770326,\n",
              "    0.07912972982972723,\n",
              "    0.04605942408134747,\n",
              "    0.02967948656725009,\n",
              "    0.024472259247412892,\n",
              "    0.0169638491354822,\n",
              "    0.021098788083415306,\n",
              "    0.015531047909333467,\n",
              "    0.014381151550370603,\n",
              "    0.017899830956160996,\n",
              "    0.016487566451881555,\n",
              "    0.01614508668653112,\n",
              "    0.01147800652166518,\n",
              "    0.01625998736509834,\n",
              "    0.012538448397463209,\n",
              "    0.01312239534007898,\n",
              "    0.0125610145628709,\n",
              "    0.009707923793837857,\n",
              "    0.012978488881010743,\n",
              "    0.01204071689261166,\n",
              "    0.010254005680723379,\n",
              "    0.009495563442968596,\n",
              "    0.009309180298742444,\n",
              "    0.008366717737436571,\n",
              "    0.00941190578877186,\n",
              "    0.008291566875431373,\n",
              "    0.007196513709462212,\n",
              "    0.009683006972296088,\n",
              "    0.005988326698672478,\n",
              "    0.008027281118498346,\n",
              "    0.007719833357359164,\n",
              "    0.008610860419879124,\n",
              "    0.00819232846568254,\n",
              "    0.007251723953005112,\n",
              "    0.008404454629101901,\n",
              "    0.008243696140501062,\n",
              "    0.00827697310949163,\n",
              "    0.007018971257622769,\n",
              "    0.006785905531897928,\n",
              "    0.006032676485920073,\n",
              "    0.005585579037408977,\n",
              "    0.007442886208775746,\n",
              "    0.006094448310800217,\n",
              "    0.0071677572929128705,\n",
              "    0.00515829663000322,\n",
              "    0.0067248864490839855,\n",
              "    0.007426873101231007,\n",
              "    0.00725447769965962,\n",
              "    0.005576634664441754,\n",
              "    0.006312740778339349]]},\n",
              " 'MNIST MLP on IID': {'hyperparams': {'C': 0.5,\n",
              "   'E': 5,\n",
              "   'K': 100,\n",
              "   'batch_size': 10,\n",
              "   'lr': 0.05,\n",
              "   'rounds': 50},\n",
              "  'test_accuracy': [[90.50632911392405,\n",
              "    93.41772151898734,\n",
              "    93.79746835443038,\n",
              "    94.43037974683544,\n",
              "    94.9367088607595,\n",
              "    95.31645569620254,\n",
              "    95.69620253164557,\n",
              "    96.07594936708861,\n",
              "    96.07594936708861,\n",
              "    96.32911392405063,\n",
              "    96.20253164556962,\n",
              "    96.20253164556962,\n",
              "    96.45569620253164,\n",
              "    96.45569620253164,\n",
              "    96.70886075949367,\n",
              "    96.83544303797468,\n",
              "    96.83544303797468,\n",
              "    96.70886075949367,\n",
              "    96.9620253164557,\n",
              "    96.83544303797468,\n",
              "    96.83544303797468,\n",
              "    96.9620253164557,\n",
              "    97.0886075949367,\n",
              "    96.83544303797468,\n",
              "    96.83544303797468,\n",
              "    97.0886075949367,\n",
              "    97.34177215189874,\n",
              "    97.21518987341773,\n",
              "    97.21518987341773,\n",
              "    97.0886075949367,\n",
              "    97.34177215189874,\n",
              "    97.59493670886076,\n",
              "    97.34177215189874,\n",
              "    97.46835443037975,\n",
              "    97.59493670886076,\n",
              "    97.46835443037975,\n",
              "    97.59493670886076,\n",
              "    97.59493670886076,\n",
              "    97.46835443037975,\n",
              "    97.72151898734177,\n",
              "    97.72151898734177,\n",
              "    97.9746835443038,\n",
              "    97.72151898734177,\n",
              "    97.9746835443038,\n",
              "    97.84810126582279,\n",
              "    97.9746835443038,\n",
              "    97.84810126582279,\n",
              "    98.10126582278481,\n",
              "    97.9746835443038,\n",
              "    98.10126582278481]],\n",
              "  'test_loss': [[0.3409493678331375,\n",
              "    0.259151811209321,\n",
              "    0.2213715068258345,\n",
              "    0.19330802115276455,\n",
              "    0.1741325073380023,\n",
              "    0.16063881875425579,\n",
              "    0.14801456207670272,\n",
              "    0.14022338216491043,\n",
              "    0.13180173073150217,\n",
              "    0.12496194747127592,\n",
              "    0.1199719611827284,\n",
              "    0.11588562178071589,\n",
              "    0.11203954310435801,\n",
              "    0.10937279986701906,\n",
              "    0.10655441955607385,\n",
              "    0.10524881430082023,\n",
              "    0.10254615142457187,\n",
              "    0.09906884434688837,\n",
              "    0.09712474547252059,\n",
              "    0.09482601906750351,\n",
              "    0.09333982643121853,\n",
              "    0.0927532223126851,\n",
              "    0.09056422648299485,\n",
              "    0.09059481080332771,\n",
              "    0.08964776133615524,\n",
              "    0.08815282371239737,\n",
              "    0.08726198386093602,\n",
              "    0.08607745835836977,\n",
              "    0.08485591823467985,\n",
              "    0.08421000231355429,\n",
              "    0.08344391415459104,\n",
              "    0.08145134661123156,\n",
              "    0.08160184682807885,\n",
              "    0.0803983450279571,\n",
              "    0.08015551329655572,\n",
              "    0.07919743619151413,\n",
              "    0.07887625214918517,\n",
              "    0.07815940095249098,\n",
              "    0.0774862849099096,\n",
              "    0.07789102887604385,\n",
              "    0.07682632657156792,\n",
              "    0.07742762745148503,\n",
              "    0.07620624135534745,\n",
              "    0.0758969931277912,\n",
              "    0.0749029404803412,\n",
              "    0.07568454721525777,\n",
              "    0.07480860227474477,\n",
              "    0.07432938974481076,\n",
              "    0.07454649554034695,\n",
              "    0.07406007430637256]],\n",
              "  'train_loss': [[0.6066001017264324,\n",
              "    0.16737696390596302,\n",
              "    0.12910268450923518,\n",
              "    0.10666133444691271,\n",
              "    0.09341243588373181,\n",
              "    0.07820967358797691,\n",
              "    0.07093771249473939,\n",
              "    0.06373881919419486,\n",
              "    0.06089427569088247,\n",
              "    0.05742754540342551,\n",
              "    0.052866880862772934,\n",
              "    0.049455978390583376,\n",
              "    0.04691045832884849,\n",
              "    0.04344835099203349,\n",
              "    0.04151972707415528,\n",
              "    0.04139260957106679,\n",
              "    0.038072595155953,\n",
              "    0.0388627261917165,\n",
              "    0.035541084641596,\n",
              "    0.03604529113055983,\n",
              "    0.03278031689982961,\n",
              "    0.03296143751159531,\n",
              "    0.031162121496364673,\n",
              "    0.02938042345673463,\n",
              "    0.030071505939412938,\n",
              "    0.028593498246968344,\n",
              "    0.025330819008420557,\n",
              "    0.027399058836457692,\n",
              "    0.026486437200674805,\n",
              "    0.02394777448843951,\n",
              "    0.02581068189284557,\n",
              "    0.024688083977030973,\n",
              "    0.024747336666748415,\n",
              "    0.02325824194484293,\n",
              "    0.022070947970997335,\n",
              "    0.02244700517367801,\n",
              "    0.02394739707832581,\n",
              "    0.019326926696526647,\n",
              "    0.01954289916302917,\n",
              "    0.017063405806669905,\n",
              "    0.020953700991264198,\n",
              "    0.018967148528410888,\n",
              "    0.017761583457826125,\n",
              "    0.01846823770784192,\n",
              "    0.016339176338492283,\n",
              "    0.015441502226694588,\n",
              "    0.018184545171051284,\n",
              "    0.017332302873137945,\n",
              "    0.016578789376084004,\n",
              "    0.016722613770151728]]},\n",
              " 'MNIST MLP on Non IID': {'hyperparams': {'C': 0.5,\n",
              "   'E': 5,\n",
              "   'K': 100,\n",
              "   'batch_size': 10,\n",
              "   'lr': 0.05,\n",
              "   'rounds': 50},\n",
              "  'test_accuracy': [[42.278481012658226,\n",
              "    69.24050632911393,\n",
              "    78.35443037974683,\n",
              "    82.0253164556962,\n",
              "    84.30379746835443,\n",
              "    86.20253164556962,\n",
              "    88.10126582278481,\n",
              "    88.9873417721519,\n",
              "    88.86075949367088,\n",
              "    88.9873417721519,\n",
              "    90.75949367088607,\n",
              "    91.89873417721519,\n",
              "    92.53164556962025,\n",
              "    92.27848101265823,\n",
              "    93.29113924050633,\n",
              "    93.0379746835443,\n",
              "    93.0379746835443,\n",
              "    92.78481012658227,\n",
              "    93.29113924050633,\n",
              "    93.41772151898734,\n",
              "    93.29113924050633,\n",
              "    94.0506329113924,\n",
              "    93.29113924050633,\n",
              "    93.67088607594937,\n",
              "    94.30379746835443,\n",
              "    94.17721518987342,\n",
              "    93.67088607594937,\n",
              "    94.81012658227849,\n",
              "    93.79746835443038,\n",
              "    94.9367088607595,\n",
              "    94.68354430379746,\n",
              "    93.67088607594937,\n",
              "    93.67088607594937,\n",
              "    94.0506329113924,\n",
              "    94.43037974683544,\n",
              "    94.68354430379746,\n",
              "    95.0632911392405,\n",
              "    94.9367088607595,\n",
              "    95.31645569620254,\n",
              "    94.9367088607595,\n",
              "    95.44303797468355,\n",
              "    95.82278481012658,\n",
              "    94.9367088607595,\n",
              "    94.9367088607595,\n",
              "    95.18987341772151,\n",
              "    94.17721518987342,\n",
              "    95.0632911392405,\n",
              "    95.82278481012658,\n",
              "    95.9493670886076,\n",
              "    96.07594936708861]],\n",
              "  'test_loss': [[3.119591079711914,\n",
              "    1.5369238790512085,\n",
              "    1.008975215625763,\n",
              "    0.7177571604728699,\n",
              "    0.5839755697250366,\n",
              "    0.5073177992105484,\n",
              "    0.4463159966468811,\n",
              "    0.419321968126297,\n",
              "    0.3923078095674515,\n",
              "    0.3839598695278168,\n",
              "    0.3477009009838104,\n",
              "    0.32159184577465055,\n",
              "    0.3025681920528412,\n",
              "    0.2927693526983261,\n",
              "    0.27911870659589766,\n",
              "    0.2693102625131607,\n",
              "    0.26216030066013335,\n",
              "    0.262514449596405,\n",
              "    0.24639138226509094,\n",
              "    0.24113780825138093,\n",
              "    0.24281827296018602,\n",
              "    0.22730184798240663,\n",
              "    0.22416136753559113,\n",
              "    0.21534292421340942,\n",
              "    0.20858307778835297,\n",
              "    0.20791538590192796,\n",
              "    0.2059255339384079,\n",
              "    0.20032742735147477,\n",
              "    0.2112758940219879,\n",
              "    0.18802127153873444,\n",
              "    0.18816566511392593,\n",
              "    0.20167984533309938,\n",
              "    0.20677541346549988,\n",
              "    0.18281955173015593,\n",
              "    0.178870525932312,\n",
              "    0.17480997928380967,\n",
              "    0.1652680760741234,\n",
              "    0.16915452329516412,\n",
              "    0.16546919012665748,\n",
              "    0.16111869887113572,\n",
              "    0.16017570679187776,\n",
              "    0.15991693058013917,\n",
              "    0.15977385154366494,\n",
              "    0.15850692456960677,\n",
              "    0.16312262713909148,\n",
              "    0.176433073925972,\n",
              "    0.150655284678936,\n",
              "    0.15061377292871475,\n",
              "    0.14281799037456513,\n",
              "    0.1423644274830818]],\n",
              "  'train_loss': [[0.08966755608497788,\n",
              "    0.04666617417978219,\n",
              "    0.039416204740323015,\n",
              "    0.025815957565301435,\n",
              "    0.02440594240384134,\n",
              "    0.02491256610117785,\n",
              "    0.025762097523675816,\n",
              "    0.022231460861312214,\n",
              "    0.01876009670867533,\n",
              "    0.018898992078832732,\n",
              "    0.019632473399881264,\n",
              "    0.018131579640319247,\n",
              "    0.019078477022429867,\n",
              "    0.015468611170136428,\n",
              "    0.01561141725403973,\n",
              "    0.01615943108435781,\n",
              "    0.01729291282602551,\n",
              "    0.01571994422552021,\n",
              "    0.01205059078209237,\n",
              "    0.016598668418839904,\n",
              "    0.012693744196094023,\n",
              "    0.014509113028893099,\n",
              "    0.011931542072288826,\n",
              "    0.011331722436900489,\n",
              "    0.012603425303680723,\n",
              "    0.013575726727991884,\n",
              "    0.012144028029351321,\n",
              "    0.010959497259221511,\n",
              "    0.013043790771817871,\n",
              "    0.011295549430780438,\n",
              "    0.008281022340910087,\n",
              "    0.009803589888598599,\n",
              "    0.011655956296235422,\n",
              "    0.010579709171101298,\n",
              "    0.009195680430961957,\n",
              "    0.009839086289270979,\n",
              "    0.011291110052804355,\n",
              "    0.009222658528139584,\n",
              "    0.009460558537635522,\n",
              "    0.00801607293463512,\n",
              "    0.009484576832133091,\n",
              "    0.007187230951773222,\n",
              "    0.008587437121592727,\n",
              "    0.009319186480902117,\n",
              "    0.007636769794251096,\n",
              "    0.007208180836430485,\n",
              "    0.00809332922351718,\n",
              "    0.006879343558333414,\n",
              "    0.007569383841083675,\n",
              "    0.008294768332568108]]}}"
            ]
          },
          "metadata": {
            "tags": []
          },
          "execution_count": 51
        }
      ]
    },
    {
      "cell_type": "code",
      "metadata": {
        "id": "PBTROwiHneQv"
      },
      "source": [
        "import pickle\n",
        " \n",
        "with open(path + 'FedAvgNum_of_clients_100.5.pkl', 'rb') as file:\n",
        "  log_dict = pickle.load(file)"
      ],
      "execution_count": 52,
      "outputs": []
    },
    {
      "cell_type": "code",
      "metadata": {
        "id": "se_04JMaVJPg",
        "colab": {
          "base_uri": "https://localhost:8080/"
        },
        "outputId": "8007e304-2a92-4d03-e8e2-f5ba3e72ac2d"
      },
      "source": [
        "print([test_acc[-1] for test_acc in log_dict['MNIST CNN on IID']['test_accuracy']])"
      ],
      "execution_count": 53,
      "outputs": [
        {
          "output_type": "stream",
          "text": [
            "[99.62025316455696]\n"
          ],
          "name": "stdout"
        }
      ]
    },
    {
      "cell_type": "code",
      "metadata": {
        "id": "5sv0rv-G4Sqa",
        "colab": {
          "base_uri": "https://localhost:8080/"
        },
        "outputId": "a1c30cd1-fa7c-4571-8f38-98d6512dd1cd"
      },
      "source": [
        "print([test_acc[-1] for test_acc in log_dict['MNIST CNN on Non IID']['test_accuracy']])"
      ],
      "execution_count": 54,
      "outputs": [
        {
          "output_type": "stream",
          "text": [
            "[98.9873417721519]\n"
          ],
          "name": "stdout"
        }
      ]
    },
    {
      "cell_type": "code",
      "metadata": {
        "id": "b2a2_Az-4nal",
        "colab": {
          "base_uri": "https://localhost:8080/"
        },
        "outputId": "e7f19abc-f625-4366-c719-c20baa6a2617"
      },
      "source": [
        "print([test_acc[-1] for test_acc in log_dict['MNIST MLP on IID']['test_accuracy']])"
      ],
      "execution_count": 55,
      "outputs": [
        {
          "output_type": "stream",
          "text": [
            "[98.10126582278481]\n"
          ],
          "name": "stdout"
        }
      ]
    },
    {
      "cell_type": "code",
      "metadata": {
        "id": "YoRqZyvD4p2K",
        "colab": {
          "base_uri": "https://localhost:8080/"
        },
        "outputId": "9ee8c7af-95e3-4797-8a5d-a59db8cb9ce3"
      },
      "source": [
        "print([test_acc[-1] for test_acc in log_dict['MNIST MLP on Non IID']['test_accuracy']])"
      ],
      "execution_count": 56,
      "outputs": [
        {
          "output_type": "stream",
          "text": [
            "[96.07594936708861]\n"
          ],
          "name": "stdout"
        }
      ]
    },
    {
      "cell_type": "code",
      "metadata": {
        "id": "B87eGKJnAHIh",
        "colab": {
          "base_uri": "https://localhost:8080/"
        },
        "outputId": "bef2b7ce-12de-41de-a1a0-896ee84d8c57"
      },
      "source": [
        "output.show()"
      ],
      "execution_count": 57,
      "outputs": [
        {
          "output_type": "stream",
          "text": [
            "Drive already mounted at /content/drive; to attempt to forcibly remount, call drive.mount(\"/content/drive\", force_remount=True).\n"
          ],
          "name": "stdout"
        }
      ]
    },
    {
      "cell_type": "code",
      "metadata": {
        "id": "4wJTXta4neQy"
      },
      "source": [
        ""
      ],
      "execution_count": 57,
      "outputs": []
    }
  ]
}