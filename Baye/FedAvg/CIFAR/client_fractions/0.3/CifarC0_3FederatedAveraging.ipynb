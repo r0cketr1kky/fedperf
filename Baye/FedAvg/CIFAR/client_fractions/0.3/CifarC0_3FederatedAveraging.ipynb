{
  "nbformat": 4,
  "nbformat_minor": 0,
  "metadata": {
    "accelerator": "GPU",
    "colab": {
      "name": "CifarC0.3FederatedAveraging.ipynb",
      "provenance": [],
      "collapsed_sections": [],
      "machine_shape": "hm"
    },
    "kernelspec": {
      "display_name": "Python 3",
      "name": "python3"
    },
    "language_info": {
      "name": "python"
    },
    "widgets": {
      "application/vnd.jupyter.widget-state+json": {
        "b8d29c54cee5463695428a34eb18284b": {
          "model_module": "@jupyter-widgets/controls",
          "model_name": "HBoxModel",
          "state": {
            "_view_name": "HBoxView",
            "_dom_classes": [],
            "_model_name": "HBoxModel",
            "_view_module": "@jupyter-widgets/controls",
            "_model_module_version": "1.5.0",
            "_view_count": null,
            "_view_module_version": "1.5.0",
            "box_style": "",
            "layout": "IPY_MODEL_e982b3f807c14c2a9dd68392160b1015",
            "_model_module": "@jupyter-widgets/controls",
            "children": [
              "IPY_MODEL_55e7d04e5ac44b78abfe58cd962dcb4c",
              "IPY_MODEL_339250cedec24b179b9532cfab76d49a"
            ]
          }
        },
        "e982b3f807c14c2a9dd68392160b1015": {
          "model_module": "@jupyter-widgets/base",
          "model_name": "LayoutModel",
          "state": {
            "_view_name": "LayoutView",
            "grid_template_rows": null,
            "right": null,
            "justify_content": null,
            "_view_module": "@jupyter-widgets/base",
            "overflow": null,
            "_model_module_version": "1.2.0",
            "_view_count": null,
            "flex_flow": null,
            "width": null,
            "min_width": null,
            "border": null,
            "align_items": null,
            "bottom": null,
            "_model_module": "@jupyter-widgets/base",
            "top": null,
            "grid_column": null,
            "overflow_y": null,
            "overflow_x": null,
            "grid_auto_flow": null,
            "grid_area": null,
            "grid_template_columns": null,
            "flex": null,
            "_model_name": "LayoutModel",
            "justify_items": null,
            "grid_row": null,
            "max_height": null,
            "align_content": null,
            "visibility": null,
            "align_self": null,
            "height": null,
            "min_height": null,
            "padding": null,
            "grid_auto_rows": null,
            "grid_gap": null,
            "max_width": null,
            "order": null,
            "_view_module_version": "1.2.0",
            "grid_template_areas": null,
            "object_position": null,
            "object_fit": null,
            "grid_auto_columns": null,
            "margin": null,
            "display": null,
            "left": null
          }
        },
        "55e7d04e5ac44b78abfe58cd962dcb4c": {
          "model_module": "@jupyter-widgets/controls",
          "model_name": "FloatProgressModel",
          "state": {
            "_view_name": "ProgressView",
            "style": "IPY_MODEL_8ef480145ce54989a3ef1e095bd4ed94",
            "_dom_classes": [],
            "description": "",
            "_model_name": "FloatProgressModel",
            "bar_style": "success",
            "max": 170498071,
            "_view_module": "@jupyter-widgets/controls",
            "_model_module_version": "1.5.0",
            "value": 170498071,
            "_view_count": null,
            "_view_module_version": "1.5.0",
            "orientation": "horizontal",
            "min": 0,
            "description_tooltip": null,
            "_model_module": "@jupyter-widgets/controls",
            "layout": "IPY_MODEL_80aafd3715cc44328a411ca0d0e42d97"
          }
        },
        "339250cedec24b179b9532cfab76d49a": {
          "model_module": "@jupyter-widgets/controls",
          "model_name": "HTMLModel",
          "state": {
            "_view_name": "HTMLView",
            "style": "IPY_MODEL_ea750aba56c1430a957f26135866532a",
            "_dom_classes": [],
            "description": "",
            "_model_name": "HTMLModel",
            "placeholder": "​",
            "_view_module": "@jupyter-widgets/controls",
            "_model_module_version": "1.5.0",
            "value": " 170499072/? [00:05&lt;00:00, 31977103.37it/s]",
            "_view_count": null,
            "_view_module_version": "1.5.0",
            "description_tooltip": null,
            "_model_module": "@jupyter-widgets/controls",
            "layout": "IPY_MODEL_3e31c97887bd47efbcca029a2094369e"
          }
        },
        "8ef480145ce54989a3ef1e095bd4ed94": {
          "model_module": "@jupyter-widgets/controls",
          "model_name": "ProgressStyleModel",
          "state": {
            "_view_name": "StyleView",
            "_model_name": "ProgressStyleModel",
            "description_width": "initial",
            "_view_module": "@jupyter-widgets/base",
            "_model_module_version": "1.5.0",
            "_view_count": null,
            "_view_module_version": "1.2.0",
            "bar_color": null,
            "_model_module": "@jupyter-widgets/controls"
          }
        },
        "80aafd3715cc44328a411ca0d0e42d97": {
          "model_module": "@jupyter-widgets/base",
          "model_name": "LayoutModel",
          "state": {
            "_view_name": "LayoutView",
            "grid_template_rows": null,
            "right": null,
            "justify_content": null,
            "_view_module": "@jupyter-widgets/base",
            "overflow": null,
            "_model_module_version": "1.2.0",
            "_view_count": null,
            "flex_flow": null,
            "width": null,
            "min_width": null,
            "border": null,
            "align_items": null,
            "bottom": null,
            "_model_module": "@jupyter-widgets/base",
            "top": null,
            "grid_column": null,
            "overflow_y": null,
            "overflow_x": null,
            "grid_auto_flow": null,
            "grid_area": null,
            "grid_template_columns": null,
            "flex": null,
            "_model_name": "LayoutModel",
            "justify_items": null,
            "grid_row": null,
            "max_height": null,
            "align_content": null,
            "visibility": null,
            "align_self": null,
            "height": null,
            "min_height": null,
            "padding": null,
            "grid_auto_rows": null,
            "grid_gap": null,
            "max_width": null,
            "order": null,
            "_view_module_version": "1.2.0",
            "grid_template_areas": null,
            "object_position": null,
            "object_fit": null,
            "grid_auto_columns": null,
            "margin": null,
            "display": null,
            "left": null
          }
        },
        "ea750aba56c1430a957f26135866532a": {
          "model_module": "@jupyter-widgets/controls",
          "model_name": "DescriptionStyleModel",
          "state": {
            "_view_name": "StyleView",
            "_model_name": "DescriptionStyleModel",
            "description_width": "",
            "_view_module": "@jupyter-widgets/base",
            "_model_module_version": "1.5.0",
            "_view_count": null,
            "_view_module_version": "1.2.0",
            "_model_module": "@jupyter-widgets/controls"
          }
        },
        "3e31c97887bd47efbcca029a2094369e": {
          "model_module": "@jupyter-widgets/base",
          "model_name": "LayoutModel",
          "state": {
            "_view_name": "LayoutView",
            "grid_template_rows": null,
            "right": null,
            "justify_content": null,
            "_view_module": "@jupyter-widgets/base",
            "overflow": null,
            "_model_module_version": "1.2.0",
            "_view_count": null,
            "flex_flow": null,
            "width": null,
            "min_width": null,
            "border": null,
            "align_items": null,
            "bottom": null,
            "_model_module": "@jupyter-widgets/base",
            "top": null,
            "grid_column": null,
            "overflow_y": null,
            "overflow_x": null,
            "grid_auto_flow": null,
            "grid_area": null,
            "grid_template_columns": null,
            "flex": null,
            "_model_name": "LayoutModel",
            "justify_items": null,
            "grid_row": null,
            "max_height": null,
            "align_content": null,
            "visibility": null,
            "align_self": null,
            "height": null,
            "min_height": null,
            "padding": null,
            "grid_auto_rows": null,
            "grid_gap": null,
            "max_width": null,
            "order": null,
            "_view_module_version": "1.2.0",
            "grid_template_areas": null,
            "object_position": null,
            "object_fit": null,
            "grid_auto_columns": null,
            "margin": null,
            "display": null,
            "left": null
          }
        }
      }
    }
  },
  "cells": [
    {
      "cell_type": "markdown",
      "metadata": {
        "id": "view-in-github"
      },
      "source": [
        "<a href=\"https://colab.research.google.com/github/tushar-semwal/fedperf/blob/main/Vineeth/FedAvg_CIFAR.ipynb\" target=\"_parent\"><img src=\"https://colab.research.google.com/assets/colab-badge.svg\" alt=\"Open In Colab\"/></a>"
      ]
    },
    {
      "cell_type": "code",
      "metadata": {
        "colab": {
          "base_uri": "https://localhost:8080/"
        },
        "id": "yKcpjZLrQQJV",
        "outputId": "14a4cfb6-c86b-4277-d3a9-d71711541fc8"
      },
      "source": [
        "try:\n",
        "    from google.colab import drive\n",
        "    drive.mount('/content/drive')\n",
        "\n",
        "    import os\n",
        "    path = '/content/drive/MyDrive/Colab Notebooks/OpenMined/'\n",
        "    os.makedirs(path, exist_ok=True)\n",
        "except:\n",
        "    path = './'\n",
        "    %%capture output"
      ],
      "execution_count": 1,
      "outputs": [
        {
          "output_type": "stream",
          "text": [
            "Mounted at /content/drive\n"
          ],
          "name": "stdout"
        }
      ]
    },
    {
      "cell_type": "markdown",
      "metadata": {
        "id": "-0_nKpfq2h1R"
      },
      "source": [
        "## Imports"
      ]
    },
    {
      "cell_type": "code",
      "metadata": {
        "colab": {
          "base_uri": "https://localhost:8080/"
        },
        "id": "DLLNM9X2JbQ8",
        "outputId": "1978b209-c5fb-48af-ac29-f094915e989e"
      },
      "source": [
        "%load_ext tensorboard\n",
        "import os\n",
        "import numpy as np\n",
        "import matplotlib\n",
        "import matplotlib.pyplot as plt\n",
        "import copy\n",
        "import random\n",
        "import time\n",
        "\n",
        "import torch\n",
        "import torch.nn as nn\n",
        "import torch.nn.functional as F\n",
        "\n",
        "from torch.utils.data import Dataset, DataLoader\n",
        "from torch.utils.tensorboard import SummaryWriter\n",
        "from torchvision import transforms, utils, datasets\n",
        "from torchsummary import summary\n",
        "\n",
        "\n",
        "# Check assigned GPU\n",
        "gpu_info = !nvidia-smi\n",
        "gpu_info = '\\n'.join(gpu_info)\n",
        "if gpu_info.find('failed') >= 0:\n",
        "  print('Select the Runtime > \"Change runtime type\" menu to enable a GPU accelerator, ')\n",
        "  print('and then re-execute this cell.')\n",
        "else:\n",
        "  print(gpu_info)\n",
        "\n",
        "# set manual seed for reproducibility\n",
        "seed = 42\n",
        "\n",
        "# general reproducibility\n",
        "random.seed(seed)\n",
        "np.random.seed(seed)\n",
        "torch.manual_seed(seed)\n",
        "\n",
        "# gpu training specific\n",
        "torch.backends.cudnn.deterministic = True\n",
        "torch.backends.cudnn.benchmark = False"
      ],
      "execution_count": 2,
      "outputs": [
        {
          "output_type": "stream",
          "text": [
            "Mon May  3 21:24:12 2021       \n",
            "+-----------------------------------------------------------------------------+\n",
            "| NVIDIA-SMI 465.19.01    Driver Version: 460.32.03    CUDA Version: 11.2     |\n",
            "|-------------------------------+----------------------+----------------------+\n",
            "| GPU  Name        Persistence-M| Bus-Id        Disp.A | Volatile Uncorr. ECC |\n",
            "| Fan  Temp  Perf  Pwr:Usage/Cap|         Memory-Usage | GPU-Util  Compute M. |\n",
            "|                               |                      |               MIG M. |\n",
            "|===============================+======================+======================|\n",
            "|   0  Tesla T4            Off  | 00000000:00:04.0 Off |                    0 |\n",
            "| N/A   55C    P8    11W /  70W |      0MiB / 15109MiB |      0%      Default |\n",
            "|                               |                      |                  N/A |\n",
            "+-------------------------------+----------------------+----------------------+\n",
            "                                                                               \n",
            "+-----------------------------------------------------------------------------+\n",
            "| Processes:                                                                  |\n",
            "|  GPU   GI   CI        PID   Type   Process name                  GPU Memory |\n",
            "|        ID   ID                                                   Usage      |\n",
            "|=============================================================================|\n",
            "|  No running processes found                                                 |\n",
            "+-----------------------------------------------------------------------------+\n"
          ],
          "name": "stdout"
        }
      ]
    },
    {
      "cell_type": "markdown",
      "metadata": {
        "id": "NY4eWzGiL6Mj"
      },
      "source": [
        "## Load the CIFAR Dataset"
      ]
    },
    {
      "cell_type": "code",
      "metadata": {
        "colab": {
          "base_uri": "https://localhost:8080/",
          "height": 116,
          "referenced_widgets": [
            "b8d29c54cee5463695428a34eb18284b",
            "e982b3f807c14c2a9dd68392160b1015",
            "55e7d04e5ac44b78abfe58cd962dcb4c",
            "339250cedec24b179b9532cfab76d49a",
            "8ef480145ce54989a3ef1e095bd4ed94",
            "80aafd3715cc44328a411ca0d0e42d97",
            "ea750aba56c1430a957f26135866532a",
            "3e31c97887bd47efbcca029a2094369e"
          ]
        },
        "id": "G649tjTXLL8F",
        "outputId": "f4e644fe-ec32-49ec-9189-dc59533bdc50"
      },
      "source": [
        "# create transforms\n",
        "# We will just convert to tensor and normalize since no special transforms are mentioned in the paper\n",
        "transform_train = transforms.Compose([\n",
        "    transforms.RandomCrop(32, padding=4),\n",
        "    transforms.RandomHorizontalFlip(),\n",
        "    transforms.ToTensor(),\n",
        "    transforms.Normalize((0.4914, 0.4822, 0.4465), (0.2023, 0.1994, 0.2010)),\n",
        "])\n",
        "\n",
        "# Normalize the test set same as training set without augmentation\n",
        "transform_test = transforms.Compose([\n",
        "    transforms.ToTensor(),\n",
        "    transforms.Normalize((0.4914, 0.4822, 0.4465), (0.2023, 0.1994, 0.2010)),\n",
        "])\n",
        "\n",
        "cifar_data_train = datasets.CIFAR10('../data/cifar10/', train=True, download=True, transform=transform_train)\n",
        "cifar_data_test = datasets.CIFAR10('../data/cifar10/', train=False, download=True, transform=transform_test)"
      ],
      "execution_count": 3,
      "outputs": [
        {
          "output_type": "stream",
          "text": [
            "Downloading https://www.cs.toronto.edu/~kriz/cifar-10-python.tar.gz to ../data/cifar10/cifar-10-python.tar.gz\n"
          ],
          "name": "stdout"
        },
        {
          "output_type": "display_data",
          "data": {
            "application/vnd.jupyter.widget-view+json": {
              "model_id": "b8d29c54cee5463695428a34eb18284b",
              "version_minor": 0,
              "version_major": 2
            },
            "text/plain": [
              "HBox(children=(FloatProgress(value=0.0, max=170498071.0), HTML(value='')))"
            ]
          },
          "metadata": {
            "tags": []
          }
        },
        {
          "output_type": "stream",
          "text": [
            "\n",
            "Extracting ../data/cifar10/cifar-10-python.tar.gz to ../data/cifar10/\n",
            "Files already downloaded and verified\n"
          ],
          "name": "stdout"
        }
      ]
    },
    {
      "cell_type": "code",
      "metadata": {
        "colab": {
          "base_uri": "https://localhost:8080/"
        },
        "id": "pOtLLX66b1Ad",
        "outputId": "5b41278d-ebd6-4644-f900-546e7f1337c4"
      },
      "source": [
        "classes = np.array(list(cifar_data_train.class_to_idx.values()))\n",
        "classes_test = np.array(list(cifar_data_test.class_to_idx.values()))\n",
        "num_classes = len(classes_test)\n",
        "print(\"Classes: {} \\tType: {}\".format(classes, type(classes)))\n",
        "print(\"Classes Test: {} \\tType: {}\".format(classes_test, type(classes)))\n"
      ],
      "execution_count": 4,
      "outputs": [
        {
          "output_type": "stream",
          "text": [
            "Classes: [0 1 2 3 4 5 6 7 8 9] \tType: <class 'numpy.ndarray'>\n",
            "Classes Test: [0 1 2 3 4 5 6 7 8 9] \tType: <class 'numpy.ndarray'>\n"
          ],
          "name": "stdout"
        }
      ]
    },
    {
      "cell_type": "code",
      "metadata": {
        "colab": {
          "base_uri": "https://localhost:8080/"
        },
        "id": "wa4TJs-AVJ2O",
        "outputId": "e1d3b2ca-3206-4bb7-cc6e-21c6752846b3"
      },
      "source": [
        "print(\"Image Shape: {}\".format(cifar_data_train.data[0].shape))"
      ],
      "execution_count": 5,
      "outputs": [
        {
          "output_type": "stream",
          "text": [
            "Image Shape: (32, 32, 3)\n"
          ],
          "name": "stdout"
        }
      ]
    },
    {
      "cell_type": "markdown",
      "metadata": {
        "id": "jCOONkg-zV7Y"
      },
      "source": [
        "## Visualize Data"
      ]
    },
    {
      "cell_type": "code",
      "metadata": {
        "id": "R9MK03TZw6Qs"
      },
      "source": [
        "def imshow(img):\n",
        "\t#img = img/2 + 0.5 #unnormalize the image\n",
        "\tplt.imshow(img, cmap='hsv') # convert from tensor to image"
      ],
      "execution_count": 6,
      "outputs": []
    },
    {
      "cell_type": "code",
      "metadata": {
        "id": "gMJ0Kx4Kw-_H"
      },
      "source": [
        "def visualize(dataset):\n",
        "  figure = plt.figure(figsize=(25,4))\n",
        "  for i in range(20):\n",
        "    axis = figure.add_subplot(2, 20/2, i+1, xticks=[], yticks=[])\n",
        "    data = dataset.data[i]\n",
        "    #data = data.numpy()\n",
        "\n",
        "    target = dataset.targets[i]\n",
        "    #target = target.numpy()\n",
        "    imshow(data)\n",
        "    axis.set_title(target)\n"
      ],
      "execution_count": 7,
      "outputs": []
    },
    {
      "cell_type": "code",
      "metadata": {
        "colab": {
          "base_uri": "https://localhost:8080/",
          "height": 268
        },
        "id": "8bPOwKg10Ro7",
        "outputId": "d26f5e12-fd6e-45a3-a21b-03668f34804d"
      },
      "source": [
        "visualize(cifar_data_train)"
      ],
      "execution_count": 8,
      "outputs": [
        {
          "output_type": "display_data",
          "data": {
            "image/png": "[encoded data removed]",
            "text/plain": [
              "<Figure size 1800x288 with 20 Axes>"
            ]
          },
          "metadata": {
            "tags": []
          }
        }
      ]
    },
    {
      "cell_type": "code",
      "metadata": {
        "colab": {
          "base_uri": "https://localhost:8080/",
          "height": 268
        },
        "id": "RKoh5Cf70UYu",
        "outputId": "34b4b3a5-38e9-498a-dbcd-efbcf4236acc"
      },
      "source": [
        "visualize(cifar_data_test)"
      ],
      "execution_count": 9,
      "outputs": [
        {
          "output_type": "display_data",
          "data": {
            "image/png": "[encoded data removed]",
            "text/plain": [
              "<Figure size 1800x288 with 20 Axes>"
            ]
          },
          "metadata": {
            "tags": []
          }
        }
      ]
    },
    {
      "cell_type": "markdown",
      "metadata": {
        "id": "ctjRsETiO1qO"
      },
      "source": [
        "## Partitioning the Data (IID and non-IID)"
      ]
    },
    {
      "cell_type": "code",
      "metadata": {
        "id": "3_v8lyrgO5dD"
      },
      "source": [
        "def iid_partition(dataset, clients):\n",
        "  \"\"\"\n",
        "  I.I.D paritioning of data over clients\n",
        "  Shuffle the data\n",
        "  Split it between clients\n",
        "  \n",
        "  params:\n",
        "    - dataset (torch.utils.Dataset): Dataset containing the CIFAR Images\n",
        "    - clients (int): Number of Clients to split the data between\n",
        "\n",
        "  returns:\n",
        "    - Dictionary of image indexes for each client\n",
        "  \"\"\"\n",
        "\n",
        "  num_items_per_client = int(len(dataset)/clients)\n",
        "  client_dict = {}\n",
        "  image_idxs = [i for i in range(len(dataset))]\n",
        "\n",
        "  for i in range(clients):\n",
        "    client_dict[i] = set(np.random.choice(image_idxs, num_items_per_client, replace=False))\n",
        "    image_idxs = list(set(image_idxs) - client_dict[i])\n",
        "\n",
        "  return client_dict"
      ],
      "execution_count": 10,
      "outputs": []
    },
    {
      "cell_type": "code",
      "metadata": {
        "id": "4zMdliGMQoSl"
      },
      "source": [
        "def non_iid_partition(dataset, clients, total_shards, shards_size, num_shards_per_client):\n",
        "  \"\"\"\n",
        "  non I.I.D parititioning of data over clients\n",
        "  Sort the data by the digit label\n",
        "  Divide the data into N shards of size S\n",
        "  Each of the clients will get X shards\n",
        "\n",
        "  params:\n",
        "    - dataset (torch.utils.Dataset): Dataset containing the CIFAR Images\n",
        "    - clients (int): Number of Clients to split the data between\n",
        "    - total_shards (int): Number of shards to partition the data in\n",
        "    - shards_size (int): Size of each shard \n",
        "    - num_shards_per_client (int): Number of shards of size shards_size that each client receives\n",
        "\n",
        "  returns:\n",
        "    - Dictionary of image indexes for each client\n",
        "  \"\"\"\n",
        "  \n",
        "  shard_idxs = [i for i in range(total_shards)]\n",
        "  client_dict = {i: np.array([], dtype='int64') for i in range(clients)}\n",
        "  idxs = np.arange(len(dataset))\n",
        "  data_labels = np.array(dataset.targets)\n",
        "\n",
        "  # sort the labels\n",
        "  label_idxs = np.vstack((idxs, data_labels))\n",
        "  label_idxs = label_idxs[:, label_idxs[1,:].argsort()]\n",
        "  idxs = label_idxs[0,:]\n",
        "\n",
        "  # divide the data into total_shards of size shards_size\n",
        "  # assign num_shards_per_client to each client\n",
        "  for i in range(clients):\n",
        "    rand_set = set(np.random.choice(shard_idxs, num_shards_per_client, replace=False))\n",
        "    shard_idxs = list(set(shard_idxs) - rand_set)\n",
        "\n",
        "    for rand in rand_set:\n",
        "      client_dict[i] = np.concatenate((client_dict[i], idxs[rand*shards_size:(rand+1)*shards_size]), axis=0)\n",
        "  \n",
        "  return client_dict\n",
        "\n",
        "\n",
        "\n"
      ],
      "execution_count": 11,
      "outputs": []
    },
    {
      "cell_type": "markdown",
      "metadata": {
        "id": "EUP_bcedcLwB"
      },
      "source": [
        "## Models"
      ]
    },
    {
      "cell_type": "code",
      "metadata": {
        "id": "CvoDNFKbZST5"
      },
      "source": [
        "class CIFAR_MLP(nn.Module):\n",
        "  def __init__(self):\n",
        "    super(CIFAR_MLP, self).__init__()\n",
        "    self.fc1 = nn.Linear(3 * 32 * 32, 2634)\n",
        "    self.fc2 = nn.Linear(2634, 2196) \n",
        "    self.fc3 = nn.Linear(2196, 1758)\n",
        "    self.fc4 = nn.Linear(1758, 1320)\n",
        "    self.fc5 = nn.Linear(1320, 882)\n",
        "    self.fc6 = nn.Linear(882, 444) \n",
        "    self.fc7 = nn.Linear(444, 10) \n",
        "\n",
        "  def forward(self, x):\n",
        "    x = x.view(-1, 3 * 32 * 32)\n",
        "    x = F.relu(self.fc1(x))\n",
        "    x = F.relu(self.fc2(x))\n",
        "    x = F.relu(self.fc3(x))\n",
        "    x = F.relu(self.fc4(x))\n",
        "    x = F.relu(self.fc5(x))\n",
        "    x = F.relu(self.fc6(x))\n",
        "\n",
        "    x = self.fc7(x)\n",
        "    return x"
      ],
      "execution_count": 12,
      "outputs": []
    },
    {
      "cell_type": "code",
      "metadata": {
        "id": "ut1hZ8x3qYPZ"
      },
      "source": [
        "class CIFAR_CNN(nn.Module):\n",
        "  def __init__(self):\n",
        "    super(CIFAR_CNN, self).__init__()\n",
        "\n",
        "    self.conv_layer = nn.Sequential(\n",
        "      nn.Conv2d(in_channels=3, out_channels=32, kernel_size=3, padding=1),\n",
        "      nn.BatchNorm2d(32),\n",
        "      nn.ReLU(inplace=True),\n",
        "      nn.Conv2d(in_channels=32, out_channels=64, kernel_size=3, padding=1),\n",
        "      nn.ReLU(inplace=True),\n",
        "      nn.MaxPool2d(kernel_size=2, stride=2),\n",
        "\n",
        "      nn.Conv2d(in_channels=64, out_channels=128, kernel_size=3, padding=1),\n",
        "      nn.BatchNorm2d(128),\n",
        "      nn.ReLU(inplace=True),\n",
        "      nn.Conv2d(in_channels=128, out_channels=128, kernel_size=3, padding=1),\n",
        "      nn.ReLU(inplace=True),\n",
        "      nn.MaxPool2d(kernel_size=2, stride=2),\n",
        "      nn.Dropout2d(p=0.05),\n",
        "\n",
        "      nn.Conv2d(in_channels=128, out_channels=256, kernel_size=3, padding=1),\n",
        "      nn.BatchNorm2d(256),\n",
        "      nn.ReLU(inplace=True),\n",
        "      nn.Conv2d(in_channels=256, out_channels=256, kernel_size=3, padding=1),\n",
        "      nn.ReLU(inplace=True),\n",
        "      nn.MaxPool2d(kernel_size=2, stride=2),\n",
        "    )\n",
        "\n",
        "    self.fc_layer = nn.Sequential(\n",
        "      nn.Dropout(p=0.1),\n",
        "      nn.Linear(4096, 1024),\n",
        "      nn.ReLU(inplace=True),\n",
        "      nn.Linear(1024, 512),\n",
        "      nn.ReLU(inplace=True),\n",
        "      nn.Dropout(p=0.1),\n",
        "      nn.Linear(512, 10)\n",
        "    )\n",
        "\n",
        "\n",
        "  def forward(self, x):      \n",
        "    # conv layers\n",
        "    x = self.conv_layer(x)\n",
        "    \n",
        "    # flatten\n",
        "    x = x.view(x.size(0), -1)\n",
        "    \n",
        "    # fc layer\n",
        "    x = self.fc_layer(x)\n",
        "\n",
        "    return x"
      ],
      "execution_count": 13,
      "outputs": []
    },
    {
      "cell_type": "markdown",
      "metadata": {
        "id": "uVv4HA9HuLtr"
      },
      "source": [
        "### Print Model Summaries"
      ]
    },
    {
      "cell_type": "code",
      "metadata": {
        "colab": {
          "base_uri": "https://localhost:8080/"
        },
        "id": "-H2jR2-Id4AA",
        "outputId": "1b589466-7f70-4632-809f-46d52aa18290"
      },
      "source": [
        "cifar_mlp = CIFAR_MLP()\n",
        "cifar_cnn = CIFAR_CNN()\n",
        "\n",
        "if torch.cuda.is_available():\n",
        "  cifar_mlp.cuda()\n",
        "  cifar_cnn.cuda()\n",
        "\n",
        "print(\"CIFAR MLP SUMMARY\")\n",
        "print(summary(cifar_mlp, (32,32,3)))\n",
        "\n",
        "print(\"\\nCIFAR CNN SUMMARY\")\n",
        "print(summary(cifar_cnn, (3, 32,32)))"
      ],
      "execution_count": 14,
      "outputs": [
        {
          "output_type": "stream",
          "text": [
            "CIFAR MLP SUMMARY\n",
            "----------------------------------------------------------------\n",
            "        Layer (type)               Output Shape         Param #\n",
            "================================================================\n",
            "            Linear-1                 [-1, 2634]       8,094,282\n",
            "            Linear-2                 [-1, 2196]       5,786,460\n",
            "            Linear-3                 [-1, 1758]       3,862,326\n",
            "            Linear-4                 [-1, 1320]       2,321,880\n",
            "            Linear-5                  [-1, 882]       1,165,122\n",
            "            Linear-6                  [-1, 444]         392,052\n",
            "            Linear-7                   [-1, 10]           4,450\n",
            "================================================================\n",
            "Total params: 21,626,572\n",
            "Trainable params: 21,626,572\n",
            "Non-trainable params: 0\n",
            "----------------------------------------------------------------\n",
            "Input size (MB): 0.01\n",
            "Forward/backward pass size (MB): 0.07\n",
            "Params size (MB): 82.50\n",
            "Estimated Total Size (MB): 82.58\n",
            "----------------------------------------------------------------\n",
            "None\n",
            "\n",
            "CIFAR CNN SUMMARY\n",
            "----------------------------------------------------------------\n",
            "        Layer (type)               Output Shape         Param #\n",
            "================================================================\n",
            "            Conv2d-1           [-1, 32, 32, 32]             896\n",
            "       BatchNorm2d-2           [-1, 32, 32, 32]              64\n",
            "              ReLU-3           [-1, 32, 32, 32]               0\n",
            "            Conv2d-4           [-1, 64, 32, 32]          18,496\n",
            "              ReLU-5           [-1, 64, 32, 32]               0\n",
            "         MaxPool2d-6           [-1, 64, 16, 16]               0\n",
            "            Conv2d-7          [-1, 128, 16, 16]          73,856\n",
            "       BatchNorm2d-8          [-1, 128, 16, 16]             256\n",
            "              ReLU-9          [-1, 128, 16, 16]               0\n",
            "           Conv2d-10          [-1, 128, 16, 16]         147,584\n",
            "             ReLU-11          [-1, 128, 16, 16]               0\n",
            "        MaxPool2d-12            [-1, 128, 8, 8]               0\n",
            "        Dropout2d-13            [-1, 128, 8, 8]               0\n",
            "           Conv2d-14            [-1, 256, 8, 8]         295,168\n",
            "      BatchNorm2d-15            [-1, 256, 8, 8]             512\n",
            "             ReLU-16            [-1, 256, 8, 8]               0\n",
            "           Conv2d-17            [-1, 256, 8, 8]         590,080\n",
            "             ReLU-18            [-1, 256, 8, 8]               0\n",
            "        MaxPool2d-19            [-1, 256, 4, 4]               0\n",
            "          Dropout-20                 [-1, 4096]               0\n",
            "           Linear-21                 [-1, 1024]       4,195,328\n",
            "             ReLU-22                 [-1, 1024]               0\n",
            "           Linear-23                  [-1, 512]         524,800\n",
            "             ReLU-24                  [-1, 512]               0\n",
            "          Dropout-25                  [-1, 512]               0\n",
            "           Linear-26                   [-1, 10]           5,130\n",
            "================================================================\n",
            "Total params: 5,852,170\n",
            "Trainable params: 5,852,170\n",
            "Non-trainable params: 0\n",
            "----------------------------------------------------------------\n",
            "Input size (MB): 0.01\n",
            "Forward/backward pass size (MB): 3.96\n",
            "Params size (MB): 22.32\n",
            "Estimated Total Size (MB): 26.30\n",
            "----------------------------------------------------------------\n",
            "None\n"
          ],
          "name": "stdout"
        }
      ]
    },
    {
      "cell_type": "markdown",
      "metadata": {
        "id": "gf_8XEXa-gZ7"
      },
      "source": [
        "## Federated Averaging"
      ]
    },
    {
      "cell_type": "markdown",
      "metadata": {
        "id": "L-aNdQsQ-Kvp"
      },
      "source": [
        "### Local Training (Client Update)\n",
        "\n",
        "Local training for the model on client side"
      ]
    },
    {
      "cell_type": "code",
      "metadata": {
        "id": "oX6OsQyO-Gz7"
      },
      "source": [
        "class CustomDataset(Dataset):\n",
        "  def __init__(self, dataset, idxs):\n",
        "      self.dataset = dataset\n",
        "      self.idxs = list(idxs)\n",
        "\n",
        "  def __len__(self):\n",
        "      return len(self.idxs)\n",
        "\n",
        "  def __getitem__(self, item):\n",
        "      image, label = self.dataset[self.idxs[item]]\n",
        "      return image, label\n",
        "\n",
        "\n",
        "class ClientUpdate(object):\n",
        "  def __init__(self, dataset, batchSize, learning_rate, epochs, idxs):\n",
        "    self.train_loader = DataLoader(CustomDataset(dataset, idxs), batch_size=batchSize, shuffle=True)\n",
        "\n",
        "    self.learning_rate = learning_rate\n",
        "    self.epochs = epochs\n",
        "\n",
        "  def train(self, model):\n",
        "    criterion = nn.CrossEntropyLoss()\n",
        "    optimizer = torch.optim.SGD(model.parameters(), lr=self.learning_rate, momentum=0.5)\n",
        "    # optimizer = torch.optim.Adam(model.parameters(), lr=self.learning_rate)\n",
        "\n",
        "    e_loss = []\n",
        "    for epoch in range(1, self.epochs+1):\n",
        "\n",
        "      train_loss = 0.0\n",
        "      model.train()\n",
        "      for data, labels in self.train_loader:\n",
        "\n",
        "        if torch.cuda.is_available():\n",
        "          data, labels = data.cuda(), labels.cuda()\n",
        "\n",
        "        # clear the gradients\n",
        "        optimizer.zero_grad()\n",
        "        # make a forward pass\n",
        "        output = model(data)\n",
        "        # calculate the loss\n",
        "        loss = criterion(output, labels)\n",
        "        # do a backwards pass\n",
        "        loss.backward()\n",
        "        # perform a single optimization step\n",
        "        optimizer.step()\n",
        "        # update training loss\n",
        "        train_loss += loss.item()*data.size(0)\n",
        "\n",
        "      # average losses\n",
        "      train_loss = train_loss/len(self.train_loader.dataset)\n",
        "      e_loss.append(train_loss)\n",
        "\n",
        "    total_loss = sum(e_loss)/len(e_loss)\n",
        "\n",
        "    return model.state_dict(), total_loss"
      ],
      "execution_count": 15,
      "outputs": []
    },
    {
      "cell_type": "markdown",
      "metadata": {
        "id": "Ukgh1DVHE2Ds"
      },
      "source": [
        "### Server Side Training\n",
        "\n",
        "Following Algorithm 1 from the paper"
      ]
    },
    {
      "cell_type": "code",
      "metadata": {
        "id": "1NF1e33BgpeL"
      },
      "source": [
        "def training(model, rounds, batch_size, lr, ds, ds_test, data_dict, C, K, E, plt_title, plt_color):\n",
        "  \"\"\"\n",
        "  Function implements the Federated Averaging Algorithm from the FedAvg paper.\n",
        "  Specifically, this function is used for the server side training and weight update\n",
        "\n",
        "  Params:\n",
        "    - model:           PyTorch model to train\n",
        "    - rounds:          Number of communication rounds for the client update\n",
        "    - batch_size:      Batch size for client update training\n",
        "    - lr:              Learning rate used for client update training\n",
        "    - ds:              Dataset used for training\n",
        "    - ds_test:         Dataset used for testing\n",
        "    - data_dict:       Type of data partition used for training (IID or non-IID)\n",
        "    - C:               Fraction of clients randomly chosen to perform computation on each round\n",
        "    - K:               Total number of clients\n",
        "    - E:               Number of training passes each client makes over its local dataset per round\n",
        "    - tb_writer_name:  Directory name to save the tensorboard logs\n",
        "  Returns:\n",
        "    - model:           Trained model on the server\n",
        "  \"\"\"\n",
        "\n",
        "  # global model weights\n",
        "  global_weights = model.state_dict()\n",
        "\n",
        "  # training loss\n",
        "  # train_accuracy = []\n",
        "  train_loss = []\n",
        "  test_accuracy = []\n",
        "  test_loss = []\n",
        "\n",
        "\n",
        "  # measure time\n",
        "  start = time.time()\n",
        "\n",
        "  for curr_round in range(1, rounds+1):\n",
        "    w, local_loss = [], []\n",
        "\n",
        "    m = max(int(C*K), 1)\n",
        "    \n",
        "    S_t = np.random.choice(range(K), m, replace=False)\n",
        "    for k in S_t:\n",
        "      local_update = ClientUpdate(dataset=ds, batchSize=batch_size, learning_rate=lr, epochs=E, idxs=data_dict[k])\n",
        "      weights, loss = local_update.train(model=copy.deepcopy(model))\n",
        "\n",
        "      w.append(copy.deepcopy(weights))\n",
        "      local_loss.append(copy.deepcopy(loss))\n",
        "\n",
        "    # updating the global weights\n",
        "    weights_avg = copy.deepcopy(w[0])\n",
        "    for k in weights_avg.keys():\n",
        "      for i in range(1, len(w)):\n",
        "        weights_avg[k] += w[i][k]\n",
        "\n",
        "      weights_avg[k] = torch.div(weights_avg[k], len(w))\n",
        "\n",
        "    global_weights = weights_avg\n",
        "\n",
        "    # move the updated weights to our model state dict\n",
        "    model.load_state_dict(global_weights)\n",
        "\n",
        "    # loss\n",
        "    loss_avg = sum(local_loss) / len(local_loss)\n",
        "    print('Round: {}... \\tAverage Loss: {}'.format(curr_round, round(loss_avg, 3)))\n",
        "    train_loss.append(loss_avg)\n",
        "\n",
        "    # test\n",
        "    test_criterion = nn.CrossEntropyLoss()\n",
        "    test_accuracy_current, test_loss_current =  testing(copy.deepcopy(model), ds_test, 128, test_criterion, num_classes, classes_test)\n",
        "    test_accuracy.append(test_accuracy_current)\n",
        "    test_loss.append(test_loss_current)\n",
        "\n",
        "  end = time.time()\n",
        "  \n",
        "  fig, ax = plt.subplots()\n",
        "  x_axis = np.arange(1, rounds+1)\n",
        "  y_axis = np.array(train_loss)\n",
        "  ax.plot(x_axis, y_axis, 'tab:'+plt_color)\n",
        "\n",
        "  ax.set(xlabel='Number of Rounds', ylabel='Train Loss',\n",
        "       title=plt_title)\n",
        "  ax.grid()\n",
        "  fig.savefig(plt_title+'_Train_loss.jpg', format='jpg')\n",
        "  plt.show()\n",
        "\n",
        "  fig, ax = plt.subplots()\n",
        "  x_axis = np.arange(1, rounds+1)\n",
        "  y_axis = np.array(test_loss)\n",
        "  ax.plot(x_axis, y_axis, 'tab:'+plt_color)\n",
        "\n",
        "  ax.set(xlabel='Number of Rounds', ylabel='Test Loss',\n",
        "       title=plt_title)\n",
        "  ax.grid()\n",
        "  fig.savefig(plt_title+'_Test_loss.jpg', format='jpg')\n",
        "  plt.show()\n",
        "\n",
        "  fig, ax = plt.subplots()\n",
        "  x_axis = np.arange(1, rounds+1)\n",
        "  y_axis = np.array(test_accuracy)\n",
        "  ax.plot(x_axis, y_axis, 'tab:'+plt_color)\n",
        "\n",
        "  ax.set(xlabel='Number of Rounds', ylabel='Test Accuracy',\n",
        "       title=plt_title)\n",
        "  ax.grid()\n",
        "  fig.savefig(plt_title+'_Test_Accuracy.jpg', format='jpg')\n",
        "  plt.show()\n",
        "  \n",
        "  print(\"Training Done!\")\n",
        "  print(\"Total time taken to Train: {}\\n\\n\".format(end-start))\n",
        "  \n",
        "  return model, train_loss, test_accuracy, test_loss"
      ],
      "execution_count": 16,
      "outputs": []
    },
    {
      "cell_type": "markdown",
      "metadata": {
        "id": "tUYyb4T-uXmF"
      },
      "source": [
        "## Testing Loop"
      ]
    },
    {
      "cell_type": "code",
      "metadata": {
        "id": "uCcIZmO5uan9"
      },
      "source": [
        "def testing(model, dataset, bs, criterion, num_classes, classes, print_info=False):\n",
        "  #test loss \n",
        "  test_loss = 0.0\n",
        "  correct_class = list(0. for i in range(num_classes))\n",
        "  total_class = list(0. for i in range(num_classes))\n",
        "\n",
        "  test_loader = DataLoader(dataset, batch_size=bs)\n",
        "  l = len(test_loader)\n",
        "  model.eval()\n",
        "  for data, labels in test_loader:\n",
        "\n",
        "    if torch.cuda.is_available():\n",
        "      data, labels = data.cuda(), labels.cuda()\n",
        "\n",
        "    output = model(data)\n",
        "    loss = criterion(output, labels)\n",
        "    test_loss += loss.item()*data.size(0)\n",
        "\n",
        "    _, pred = torch.max(output, 1)\n",
        "\n",
        "    correct_tensor = pred.eq(labels.data.view_as(pred))\n",
        "    correct = np.squeeze(correct_tensor.numpy()) if not torch.cuda.is_available() else np.squeeze(correct_tensor.cpu().numpy())\n",
        "\n",
        "    #test accuracy for each object class\n",
        "    for i in range(num_classes):\n",
        "      label = labels.data[i]\n",
        "      correct_class[label] += correct[i].item()\n",
        "      total_class[label] += 1\n",
        "    \n",
        "  # avg test loss\n",
        "  test_loss = test_loss/len(test_loader.dataset)\n",
        "  test_accuracy = 100. * np.sum(correct_class) / np.sum(total_class)\n",
        "\n",
        "  if print_info:\n",
        "    print(\"Test Loss: {:.6f}\\n\".format(test_loss))\n",
        "\n",
        "    for i in range(10):\n",
        "      if total_class[i]>0:\n",
        "        print('Test Accuracy of %5s: %2d%% (%2d/%2d)' % \n",
        "              (classes[i], 100 * correct_class[i] / total_class[i],\n",
        "              np.sum(correct_class[i]), np.sum(total_class[i])))\n",
        "      else:\n",
        "        print('Test Accuracy of %5s: N/A (no training examples)' % (classes[i]))\n",
        "\n",
        "    print('\\nFinal Test  Accuracy: {:.3f} ({}/{})'.format(\n",
        "          100. * np.sum(correct_class) / np.sum(total_class),\n",
        "          np.sum(correct_class), np.sum(total_class)))\n",
        "  \n",
        "  return test_accuracy, test_loss"
      ],
      "execution_count": 17,
      "outputs": []
    },
    {
      "cell_type": "markdown",
      "metadata": {
        "id": "Ri0FqXFeHW-V"
      },
      "source": [
        "## Logger"
      ]
    },
    {
      "cell_type": "code",
      "metadata": {
        "id": "cMBtx9P5c1V_"
      },
      "source": [
        "log_dict = {}\n",
        "NUM_REPEAT = 1"
      ],
      "execution_count": 18,
      "outputs": []
    },
    {
      "cell_type": "markdown",
      "metadata": {
        "id": "4hO5oV6aXqeh"
      },
      "source": [
        "## CIFAR CNN on IID"
      ]
    },
    {
      "cell_type": "markdown",
      "metadata": {
        "id": "flSQv_P4zCfx"
      },
      "source": [
        "### Train\n"
      ]
    },
    {
      "cell_type": "code",
      "metadata": {
        "colab": {
          "base_uri": "https://localhost:8080/",
          "height": 1000
        },
        "id": "0ZalcKZtEseA",
        "outputId": "a5686578-789c-40fc-d0b5-2330bc479cd2"
      },
      "source": [
        "train_loss_multiple_runs = [None] * NUM_REPEAT\n",
        "test_accuracy_multiple_runs = [None] * NUM_REPEAT\n",
        "test_loss_multiple_runs = [None] * NUM_REPEAT\n",
        "\n",
        "for exp_num in range(NUM_REPEAT):\n",
        "  print(\"Experiment Run Number: \", exp_num)\n",
        "\n",
        "  # number of training rounds\n",
        "  rounds = 50\n",
        "  # client fraction\n",
        "  C = 0.3\n",
        "  # number of clients\n",
        "  K = 100\n",
        "  # number of training passes on local dataset for each roung\n",
        "  E = 5\n",
        "  # batch size\n",
        "  batch_size = 10\n",
        "  # learning Rate\n",
        "  lr=0.05\n",
        "  # data partition dictionary\n",
        "  iid_dict = iid_partition(cifar_data_train, 100)\n",
        "  # load model\n",
        "  cifar_cnn = CIFAR_CNN()\n",
        "\n",
        "  if torch.cuda.is_available():\n",
        "    cifar_cnn.cuda()\n",
        "\n",
        "  cifar_cnn_iid_trained, train_loss, test_accuracy, test_loss = training(cifar_cnn, rounds, batch_size, lr, cifar_data_train, cifar_data_test, iid_dict, C, K, E, \"CIFAR CNN on IID Dataset\", \"orange\")\n",
        "\n",
        "  train_loss_multiple_runs[exp_num] = train_loss\n",
        "  test_accuracy_multiple_runs[exp_num] = test_accuracy\n",
        "  test_loss_multiple_runs[exp_num] = test_loss"
      ],
      "execution_count": 19,
      "outputs": [
        {
          "output_type": "stream",
          "text": [
            "Experiment Run Number:  0\n",
            "Round: 1... \tAverage Loss: 2.131\n",
            "Round: 2... \tAverage Loss: 2.003\n",
            "Round: 3... \tAverage Loss: 1.895\n",
            "Round: 4... \tAverage Loss: 1.798\n",
            "Round: 5... \tAverage Loss: 1.702\n",
            "Round: 6... \tAverage Loss: 1.635\n",
            "Round: 7... \tAverage Loss: 1.559\n",
            "Round: 8... \tAverage Loss: 1.501\n",
            "Round: 9... \tAverage Loss: 1.437\n",
            "Round: 10... \tAverage Loss: 1.371\n",
            "Round: 11... \tAverage Loss: 1.318\n",
            "Round: 12... \tAverage Loss: 1.266\n",
            "Round: 13... \tAverage Loss: 1.216\n",
            "Round: 14... \tAverage Loss: 1.151\n",
            "Round: 15... \tAverage Loss: 1.097\n",
            "Round: 16... \tAverage Loss: 1.053\n",
            "Round: 17... \tAverage Loss: 1.005\n",
            "Round: 18... \tAverage Loss: 0.957\n",
            "Round: 19... \tAverage Loss: 0.935\n",
            "Round: 20... \tAverage Loss: 0.897\n",
            "Round: 21... \tAverage Loss: 0.87\n",
            "Round: 22... \tAverage Loss: 0.823\n",
            "Round: 23... \tAverage Loss: 0.801\n",
            "Round: 24... \tAverage Loss: 0.762\n",
            "Round: 25... \tAverage Loss: 0.726\n",
            "Round: 26... \tAverage Loss: 0.701\n",
            "Round: 27... \tAverage Loss: 0.669\n",
            "Round: 28... \tAverage Loss: 0.656\n",
            "Round: 29... \tAverage Loss: 0.636\n",
            "Round: 30... \tAverage Loss: 0.61\n",
            "Round: 31... \tAverage Loss: 0.604\n",
            "Round: 32... \tAverage Loss: 0.563\n",
            "Round: 33... \tAverage Loss: 0.565\n",
            "Round: 34... \tAverage Loss: 0.536\n",
            "Round: 35... \tAverage Loss: 0.521\n",
            "Round: 36... \tAverage Loss: 0.519\n",
            "Round: 37... \tAverage Loss: 0.496\n",
            "Round: 38... \tAverage Loss: 0.485\n",
            "Round: 39... \tAverage Loss: 0.468\n",
            "Round: 40... \tAverage Loss: 0.474\n",
            "Round: 41... \tAverage Loss: 0.455\n",
            "Round: 42... \tAverage Loss: 0.436\n",
            "Round: 43... \tAverage Loss: 0.423\n",
            "Round: 44... \tAverage Loss: 0.423\n",
            "Round: 45... \tAverage Loss: 0.408\n",
            "Round: 46... \tAverage Loss: 0.395\n",
            "Round: 47... \tAverage Loss: 0.382\n",
            "Round: 48... \tAverage Loss: 0.381\n",
            "Round: 49... \tAverage Loss: 0.376\n",
            "Round: 50... \tAverage Loss: 0.367\n"
          ],
          "name": "stdout"
        },
        {
          "output_type": "display_data",
          "data": {
            "image/png": "[encoded data removed]",
            "text/plain": [
              "<Figure size 432x288 with 1 Axes>"
            ]
          },
          "metadata": {
            "tags": [],
            "needs_background": "light"
          }
        },
        {
          "output_type": "display_data",
          "data": {
            "image/png": "[encoded data removed]",
            "text/plain": [
              "<Figure size 432x288 with 1 Axes>"
            ]
          },
          "metadata": {
            "tags": [],
            "needs_background": "light"
          }
        },
        {
          "output_type": "display_data",
          "data": {
            "image/png": "[encoded data removed]",
            "text/plain": [
              "<Figure size 432x288 with 1 Axes>"
            ]
          },
          "metadata": {
            "tags": [],
            "needs_background": "light"
          }
        },
        {
          "output_type": "stream",
          "text": [
            "Training Done!\n",
            "Total time taken to Train: 3265.54150390625\n",
            "\n",
            "\n"
          ],
          "name": "stdout"
        }
      ]
    },
    {
      "cell_type": "markdown",
      "metadata": {
        "id": "wNwC82przF6G"
      },
      "source": [
        "### Test"
      ]
    },
    {
      "cell_type": "code",
      "metadata": {
        "id": "qB97BFs9we9w",
        "colab": {
          "base_uri": "https://localhost:8080/"
        },
        "outputId": "3bf1a260-4a7f-494c-80a7-04c40524e11c"
      },
      "source": [
        "criterion = nn.CrossEntropyLoss()\n",
        "acc, loss = testing(cifar_cnn_iid_trained, cifar_data_test, 128, criterion, num_classes, classes_test, True)"
      ],
      "execution_count": 20,
      "outputs": [
        {
          "output_type": "stream",
          "text": [
            "Test Loss: 0.531217\n",
            "\n",
            "Test Accuracy of     0: 81% (59/72)\n",
            "Test Accuracy of     1: 96% (75/78)\n",
            "Test Accuracy of     2: 68% (60/87)\n",
            "Test Accuracy of     3: 65% (52/80)\n",
            "Test Accuracy of     4: 90% (65/72)\n",
            "Test Accuracy of     5: 73% (54/73)\n",
            "Test Accuracy of     6: 89% (80/89)\n",
            "Test Accuracy of     7: 85% (67/78)\n",
            "Test Accuracy of     8: 93% (80/86)\n",
            "Test Accuracy of     9: 85% (64/75)\n",
            "\n",
            "Final Test  Accuracy: 83.038 (656.0/790.0)\n"
          ],
          "name": "stdout"
        }
      ]
    },
    {
      "cell_type": "code",
      "metadata": {
        "id": "gdQZEZmHHeqt"
      },
      "source": [
        "hyperparams = {'rounds': rounds,\n",
        "               'C': C,\n",
        "               'K': K,\n",
        "               'E': E,\n",
        "               'batch_size': batch_size,\n",
        "               'lr': lr,\n",
        "               }\n",
        "\n",
        "log_dict['CIFAR CNN on IID'] = {'train_loss': train_loss_multiple_runs, \n",
        "                                'test_loss': test_loss_multiple_runs, \n",
        "                                'test_accuracy': test_accuracy_multiple_runs,\n",
        "                                'hyperparams': hyperparams,\n",
        "                                }"
      ],
      "execution_count": 21,
      "outputs": []
    },
    {
      "cell_type": "markdown",
      "metadata": {
        "id": "uF8MdSIUYcnl"
      },
      "source": [
        "## CIFAR CNN on Non IID"
      ]
    },
    {
      "cell_type": "markdown",
      "metadata": {
        "id": "a6wXX7JW11bx"
      },
      "source": [
        "### Train\n"
      ]
    },
    {
      "cell_type": "code",
      "metadata": {
        "colab": {
          "base_uri": "https://localhost:8080/",
          "height": 1000
        },
        "id": "fCD3kBCKYfBK",
        "outputId": "ebd62216-5d9b-488d-f3a0-178e523cc85b"
      },
      "source": [
        "train_loss_multiple_runs = [None] * NUM_REPEAT\n",
        "test_accuracy_multiple_runs = [None] * NUM_REPEAT\n",
        "test_loss_multiple_runs = [None] * NUM_REPEAT\n",
        "\n",
        "for exp_num in range(NUM_REPEAT):\n",
        "  print(\"Experiment Run Number: \", exp_num)\n",
        "\n",
        "  # number of training rounds\n",
        "  rounds = 50\n",
        "  # client fraction\n",
        "  C = 0.3\n",
        "  # number of clients\n",
        "  K = 100\n",
        "  # number of training passes on local dataset for each roung\n",
        "  E = 5\n",
        "  # batch size\n",
        "  batch_size = 10\n",
        "  # learning Rate\n",
        "  lr=0.05\n",
        "  # dict containing different type of data partition\n",
        "  data_dict = non_iid_partition(cifar_data_train, 100, 200, 250, 2)\n",
        "  # load model\n",
        "  cifar_cnn = CIFAR_CNN()\n",
        "\n",
        "  if torch.cuda.is_available():\n",
        "    cifar_cnn.cuda()\n",
        " \n",
        "  cifar_cnn_non_iid_trained, train_loss, test_accuracy, test_loss = training(cifar_cnn, rounds, batch_size, lr, cifar_data_train, cifar_data_test, data_dict, C, K, E, \"CIFAR CNN on Non-IID Dataset\", \"green\")\n",
        "\n",
        "  train_loss_multiple_runs[exp_num] = train_loss\n",
        "  test_accuracy_multiple_runs[exp_num] = test_accuracy\n",
        "  test_loss_multiple_runs[exp_num] = test_loss"
      ],
      "execution_count": 22,
      "outputs": [
        {
          "output_type": "stream",
          "text": [
            "Experiment Run Number:  0\n",
            "Round: 1... \tAverage Loss: 0.609\n",
            "Round: 2... \tAverage Loss: 0.535\n",
            "Round: 3... \tAverage Loss: 0.558\n",
            "Round: 4... \tAverage Loss: 0.547\n",
            "Round: 5... \tAverage Loss: 0.453\n",
            "Round: 6... \tAverage Loss: 0.395\n",
            "Round: 7... \tAverage Loss: 0.365\n",
            "Round: 8... \tAverage Loss: 0.379\n",
            "Round: 9... \tAverage Loss: 0.381\n",
            "Round: 10... \tAverage Loss: 0.346\n",
            "Round: 11... \tAverage Loss: 0.37\n",
            "Round: 12... \tAverage Loss: 0.32\n",
            "Round: 13... \tAverage Loss: 0.312\n",
            "Round: 14... \tAverage Loss: 0.311\n",
            "Round: 15... \tAverage Loss: 0.33\n",
            "Round: 16... \tAverage Loss: 0.371\n",
            "Round: 17... \tAverage Loss: 0.299\n",
            "Round: 18... \tAverage Loss: 0.331\n",
            "Round: 19... \tAverage Loss: 0.26\n",
            "Round: 20... \tAverage Loss: 0.335\n",
            "Round: 21... \tAverage Loss: 0.295\n",
            "Round: 22... \tAverage Loss: 0.206\n",
            "Round: 23... \tAverage Loss: 0.249\n",
            "Round: 24... \tAverage Loss: 0.254\n",
            "Round: 25... \tAverage Loss: 0.256\n",
            "Round: 26... \tAverage Loss: 0.247\n",
            "Round: 27... \tAverage Loss: 0.249\n",
            "Round: 28... \tAverage Loss: 0.236\n",
            "Round: 29... \tAverage Loss: 0.237\n",
            "Round: 30... \tAverage Loss: 0.212\n",
            "Round: 31... \tAverage Loss: 0.193\n",
            "Round: 32... \tAverage Loss: 0.231\n",
            "Round: 33... \tAverage Loss: 0.175\n",
            "Round: 34... \tAverage Loss: 0.21\n",
            "Round: 35... \tAverage Loss: 0.258\n",
            "Round: 36... \tAverage Loss: 0.172\n",
            "Round: 37... \tAverage Loss: 0.198\n",
            "Round: 38... \tAverage Loss: 0.198\n",
            "Round: 39... \tAverage Loss: 0.189\n",
            "Round: 40... \tAverage Loss: 0.148\n",
            "Round: 41... \tAverage Loss: 0.174\n",
            "Round: 42... \tAverage Loss: 0.203\n",
            "Round: 43... \tAverage Loss: 0.198\n",
            "Round: 44... \tAverage Loss: 0.177\n",
            "Round: 45... \tAverage Loss: 0.176\n",
            "Round: 46... \tAverage Loss: 0.226\n",
            "Round: 47... \tAverage Loss: 0.201\n",
            "Round: 48... \tAverage Loss: 0.209\n",
            "Round: 49... \tAverage Loss: 0.161\n",
            "Round: 50... \tAverage Loss: 0.182\n"
          ],
          "name": "stdout"
        },
        {
          "output_type": "display_data",
          "data": {
            "image/png": "[encoded data removed]",
            "text/plain": [
              "<Figure size 432x288 with 1 Axes>"
            ]
          },
          "metadata": {
            "tags": [],
            "needs_background": "light"
          }
        },
        {
          "output_type": "display_data",
          "data": {
            "image/png": "[encoded data removed]",
            "text/plain": [
              "<Figure size 432x288 with 1 Axes>"
            ]
          },
          "metadata": {
            "tags": [],
            "needs_background": "light"
          }
        },
        {
          "output_type": "display_data",
          "data": {
            "image/png": "[encoded data removed]",
            "text/plain": [
              "<Figure size 432x288 with 1 Axes>"
            ]
          },
          "metadata": {
            "tags": [],
            "needs_background": "light"
          }
        },
        {
          "output_type": "stream",
          "text": [
            "Training Done!\n",
            "Total time taken to Train: 3251.238951444626\n",
            "\n",
            "\n"
          ],
          "name": "stdout"
        }
      ]
    },
    {
      "cell_type": "markdown",
      "metadata": {
        "id": "4C68J-Kk14dB"
      },
      "source": [
        "### Test"
      ]
    },
    {
      "cell_type": "code",
      "metadata": {
        "id": "_yQ9GiAZ15jE",
        "colab": {
          "base_uri": "https://localhost:8080/"
        },
        "outputId": "a7839bb0-6a19-41ec-a437-2fce9c7ee396"
      },
      "source": [
        "criterion = nn.CrossEntropyLoss()\n",
        "acc, loss = testing(cifar_cnn_non_iid_trained, cifar_data_test, 128, criterion, num_classes, classes_test, True)"
      ],
      "execution_count": 23,
      "outputs": [
        {
          "output_type": "stream",
          "text": [
            "Test Loss: 0.992946\n",
            "\n",
            "Test Accuracy of     0: 38% (28/72)\n",
            "Test Accuracy of     1: 87% (68/78)\n",
            "Test Accuracy of     2: 50% (44/87)\n",
            "Test Accuracy of     3: 33% (27/80)\n",
            "Test Accuracy of     4: 50% (36/72)\n",
            "Test Accuracy of     5: 72% (53/73)\n",
            "Test Accuracy of     6: 86% (77/89)\n",
            "Test Accuracy of     7: 67% (53/78)\n",
            "Test Accuracy of     8: 87% (75/86)\n",
            "Test Accuracy of     9: 64% (48/75)\n",
            "\n",
            "Final Test  Accuracy: 64.430 (509.0/790.0)\n"
          ],
          "name": "stdout"
        }
      ]
    },
    {
      "cell_type": "code",
      "metadata": {
        "id": "dxMcxgLhLvX-"
      },
      "source": [
        "hyperparams = {'rounds': rounds,\n",
        "               'C': C,\n",
        "               'K': K,\n",
        "               'E': E,\n",
        "               'batch_size': batch_size,\n",
        "               'lr': lr,\n",
        "               }\n",
        "\n",
        "log_dict['CIFAR CNN on Non IID'] = {'train_loss': train_loss_multiple_runs, \n",
        "                                'test_loss': test_loss_multiple_runs, \n",
        "                                'test_accuracy': test_accuracy_multiple_runs,\n",
        "                                'hyperparams': hyperparams,\n",
        "                                }"
      ],
      "execution_count": 24,
      "outputs": []
    },
    {
      "cell_type": "markdown",
      "metadata": {
        "id": "ptMieSimVxid"
      },
      "source": [
        "## CIFAR MLP on IID"
      ]
    },
    {
      "cell_type": "markdown",
      "metadata": {
        "id": "mz3f_fOxVxie"
      },
      "source": [
        "### Train"
      ]
    },
    {
      "cell_type": "code",
      "metadata": {
        "id": "5ZGAZPhtVxie"
      },
      "source": [
        "# train_loss_multiple_runs = [None] * NUM_REPEAT\n",
        "# test_accuracy_multiple_runs = [None] * NUM_REPEAT\n",
        "# test_loss_multiple_runs = [None] * NUM_REPEAT\n",
        "\n",
        "# for exp_num in range(NUM_REPEAT):\n",
        "#   print(\"Experiment Run Number: \", exp_num)\n",
        "\n",
        "#   # number of training rounds\n",
        "#   rounds = 50\n",
        "#   # client fraction\n",
        "#   C = 0.1\n",
        "#   # number of clients\n",
        "#   K = 100\n",
        "#   # number of training passes on local dataset for each round\n",
        "#   E = 5\n",
        "#   # batch size\n",
        "#   batch_size = 10\n",
        "#   # learning Rate\n",
        "#   lr=0.05\n",
        "#   # dict containing different type of data partition\n",
        "#   data_dict = iid_partition(cifar_data_train, 100)\n",
        "#   # load model\n",
        "#   cifar_mlp = CIFAR_MLP()\n",
        "\n",
        "#   if torch.cuda.is_available():\n",
        "#     cifar_mlp.cuda()\n",
        "\n",
        "#   cifar_mlp_iid_trained, train_loss, test_accuracy, test_loss = training(cifar_mlp, rounds, batch_size, lr, cifar_data_train, cifar_data_test, data_dict, C, K, E, \"CIFAR MLP on IID Dataset\", \"orange\")\n",
        "  \n",
        "#   train_loss_multiple_runs[exp_num] = train_loss\n",
        "#   test_accuracy_multiple_runs[exp_num] = test_accuracy\n",
        "#   test_loss_multiple_runs[exp_num] = test_loss"
      ],
      "execution_count": 25,
      "outputs": []
    },
    {
      "cell_type": "markdown",
      "metadata": {
        "id": "aTBsL3-72PPd"
      },
      "source": [
        "### Test"
      ]
    },
    {
      "cell_type": "code",
      "metadata": {
        "id": "a9G4j5L62OrS"
      },
      "source": [
        "# criterion = nn.CrossEntropyLoss()\n",
        "# acc, loss = testing(cifar_mlp_iid_trained, cifar_data_test, 128, criterion, num_classes, classes_test, True)"
      ],
      "execution_count": 26,
      "outputs": []
    },
    {
      "cell_type": "code",
      "metadata": {
        "id": "fWCdJFRCL_f2"
      },
      "source": [
        "# hyperparams = {'rounds': rounds,\n",
        "#                'C': C,\n",
        "#                'K': K,\n",
        "#                'E': E,\n",
        "#                'batch_size': batch_size,\n",
        "#                'lr': lr,\n",
        "#                }\n",
        "\n",
        "# log_dict['CIFAR MLP on IID'] = {'train_loss': train_loss_multiple_runs, \n",
        "#                                 'test_loss': test_loss_multiple_runs, \n",
        "#                                 'test_accuracy': test_accuracy_multiple_runs,\n",
        "#                                 'hyperparams': hyperparams,\n",
        "#                                 }"
      ],
      "execution_count": 27,
      "outputs": []
    },
    {
      "cell_type": "markdown",
      "metadata": {
        "id": "J8jzEyO0iywz"
      },
      "source": [
        "## CIFAR MLP on Non IID"
      ]
    },
    {
      "cell_type": "markdown",
      "metadata": {
        "id": "pJFepr3y2bF-"
      },
      "source": [
        "### Train"
      ]
    },
    {
      "cell_type": "code",
      "metadata": {
        "id": "EBKO44Hgi1Uh"
      },
      "source": [
        "# train_loss_multiple_runs = [None] * NUM_REPEAT\n",
        "# test_accuracy_multiple_runs = [None] * NUM_REPEAT\n",
        "# test_loss_multiple_runs = [None] * NUM_REPEAT\n",
        "\n",
        "# for exp_num in range(NUM_REPEAT):\n",
        "#   print(\"Experiment Run Number: \", exp_num)\n",
        "  \n",
        "#   # number of training rounds\n",
        "#   rounds = 50\n",
        "#   # client fraction\n",
        "#   C = 0.1\n",
        "#   # number of clients\n",
        "#   K = 100\n",
        "#   # number of training passes on local dataset for each roung\n",
        "#   E = 5\n",
        "#   # batch size\n",
        "#   batch_size = 10\n",
        "#   # learning Rate\n",
        "#   lr=0.05\n",
        "#   # dict containing different type of data partition\n",
        "#   data_dict = non_iid_partition(cifar_data_train, 100, 200, 300, 2)\n",
        "#   # load model\n",
        "#   cifar_mlp = CIFAR_MLP()\n",
        "\n",
        "#   if torch.cuda.is_available():\n",
        "#     cifar_mlp.cuda()\n",
        "\n",
        "#   cifar_mlp_non_iid_trained, train_loss, test_accuracy, test_loss = training(cifar_mlp, rounds, batch_size, lr, cifar_data_train, cifar_data_test, data_dict, C, K, E, \"CIFAR MLP on Non-IID Dataset\", \"green\")\n",
        "\n",
        "#   train_loss_multiple_runs[exp_num] = train_loss\n",
        "#   test_accuracy_multiple_runs[exp_num] = test_accuracy\n",
        "#   test_loss_multiple_runs[exp_num] = test_loss"
      ],
      "execution_count": 28,
      "outputs": []
    },
    {
      "cell_type": "markdown",
      "metadata": {
        "id": "jmuQYPbF2mes"
      },
      "source": [
        "### Test"
      ]
    },
    {
      "cell_type": "code",
      "metadata": {
        "id": "0tKMlJyF2nGN"
      },
      "source": [
        "# criterion = nn.CrossEntropyLoss()\n",
        "# acc, loss = testing(cifar_mlp_non_iid_trained, cifar_data_test, 128, criterion, num_classes, classes_test, True)"
      ],
      "execution_count": 29,
      "outputs": []
    },
    {
      "cell_type": "code",
      "metadata": {
        "id": "1W5krYcSMQiu"
      },
      "source": [
        "# hyperparams = {'rounds': rounds,\n",
        "#                'C': C,\n",
        "#                'K': K,\n",
        "#                'E': E,\n",
        "#                'batch_size': batch_size,\n",
        "#                'lr': lr,\n",
        "#                }\n",
        "\n",
        "# log_dict['CIFAR MLP on Non IID'] = {'train_loss': train_loss_multiple_runs, \n",
        "#                                 'test_loss': test_loss_multiple_runs, \n",
        "#                                 'test_accuracy': test_accuracy_multiple_runs,\n",
        "#                                 'hyperparams': hyperparams,\n",
        "#                                 }"
      ],
      "execution_count": 30,
      "outputs": []
    },
    {
      "cell_type": "markdown",
      "metadata": {
        "id": "emS_SaRAP6TZ"
      },
      "source": [
        "## Pickle Log"
      ]
    },
    {
      "cell_type": "code",
      "metadata": {
        "id": "soAN38JoP0c1"
      },
      "source": [
        "import pickle\n",
        "\n",
        "with open(path + '0.9.pkl', 'wb') as file:\n",
        "  pickle.dump(log_dict, file)"
      ],
      "execution_count": 31,
      "outputs": []
    },
    {
      "cell_type": "code",
      "metadata": {
        "id": "2UBy-JswSoCJ",
        "colab": {
          "base_uri": "https://localhost:8080/"
        },
        "outputId": "dcbc54dc-de45-4cb2-84d1-5515da17ed09"
      },
      "source": [
        "log_dict"
      ],
      "execution_count": 32,
      "outputs": [
        {
          "output_type": "execute_result",
          "data": {
            "text/plain": [
              "{'CIFAR CNN on IID': {'hyperparams': {'C': 0.3,\n",
              "   'E': 5,\n",
              "   'K': 100,\n",
              "   'batch_size': 10,\n",
              "   'lr': 0.05,\n",
              "   'rounds': 50},\n",
              "  'test_accuracy': [[10.126582278481013,\n",
              "    30.379746835443036,\n",
              "    38.9873417721519,\n",
              "    43.79746835443038,\n",
              "    47.08860759493671,\n",
              "    48.860759493670884,\n",
              "    51.0126582278481,\n",
              "    52.65822784810127,\n",
              "    54.050632911392405,\n",
              "    56.58227848101266,\n",
              "    59.36708860759494,\n",
              "    60.12658227848101,\n",
              "    62.78481012658228,\n",
              "    65.18987341772151,\n",
              "    65.44303797468355,\n",
              "    66.32911392405063,\n",
              "    66.70886075949367,\n",
              "    69.11392405063292,\n",
              "    70.0,\n",
              "    70.75949367088607,\n",
              "    71.13924050632912,\n",
              "    72.0253164556962,\n",
              "    73.0379746835443,\n",
              "    73.0379746835443,\n",
              "    73.54430379746836,\n",
              "    73.92405063291139,\n",
              "    75.56962025316456,\n",
              "    75.56962025316456,\n",
              "    75.69620253164557,\n",
              "    75.82278481012658,\n",
              "    76.83544303797468,\n",
              "    76.83544303797468,\n",
              "    76.58227848101266,\n",
              "    77.59493670886076,\n",
              "    80.0,\n",
              "    79.49367088607595,\n",
              "    78.9873417721519,\n",
              "    80.75949367088607,\n",
              "    80.75949367088607,\n",
              "    81.0126582278481,\n",
              "    80.75949367088607,\n",
              "    81.77215189873418,\n",
              "    81.89873417721519,\n",
              "    83.0379746835443,\n",
              "    82.65822784810126,\n",
              "    83.41772151898734,\n",
              "    83.29113924050633,\n",
              "    82.65822784810126,\n",
              "    83.0379746835443,\n",
              "    83.0379746835443]],\n",
              "  'test_loss': [[2.2736720634460448,\n",
              "    1.9636239261627197,\n",
              "    1.7515114587783813,\n",
              "    1.6118502101898193,\n",
              "    1.5123274869918824,\n",
              "    1.4125515241622926,\n",
              "    1.3339753227233886,\n",
              "    1.2802155166625977,\n",
              "    1.2235146375656127,\n",
              "    1.1812301975250243,\n",
              "    1.1248800546646118,\n",
              "    1.0766494718551636,\n",
              "    1.0190859210968017,\n",
              "    0.9989722497940063,\n",
              "    0.9596540061950684,\n",
              "    0.9210737385749816,\n",
              "    0.8988799796104431,\n",
              "    0.8822206274032592,\n",
              "    0.8560722049713134,\n",
              "    0.8234098127365113,\n",
              "    0.8037622572898865,\n",
              "    0.7894280600547791,\n",
              "    0.7670028958320617,\n",
              "    0.752227582359314,\n",
              "    0.7389947595596313,\n",
              "    0.7229085398674011,\n",
              "    0.7207264811515808,\n",
              "    0.6952671862125397,\n",
              "    0.6856548661231995,\n",
              "    0.674926537322998,\n",
              "    0.6561083310127258,\n",
              "    0.6428280401229859,\n",
              "    0.6355553359508515,\n",
              "    0.6266756682395935,\n",
              "    0.6151026377677917,\n",
              "    0.6088063424110413,\n",
              "    0.6035312139987945,\n",
              "    0.5923231621265411,\n",
              "    0.5858229552268982,\n",
              "    0.5849640750408173,\n",
              "    0.5768343821525573,\n",
              "    0.5678583317756652,\n",
              "    0.5581304782390595,\n",
              "    0.5551693271160125,\n",
              "    0.5513690103054046,\n",
              "    0.5438910448551177,\n",
              "    0.5431276551246643,\n",
              "    0.5413145926952362,\n",
              "    0.531735673379898,\n",
              "    0.5312169376850128]],\n",
              "  'train_loss': [[2.1311599376201626,\n",
              "    2.003424910847346,\n",
              "    1.8949987557729089,\n",
              "    1.798295900829633,\n",
              "    1.70191812787056,\n",
              "    1.6346146010557816,\n",
              "    1.5593720815141998,\n",
              "    1.5012429408073422,\n",
              "    1.4365094403664267,\n",
              "    1.3707310932000474,\n",
              "    1.3177641175587977,\n",
              "    1.2657232409000398,\n",
              "    1.2157970104595028,\n",
              "    1.1512356231689451,\n",
              "    1.0965750230093796,\n",
              "    1.0527080510775246,\n",
              "    1.0050212613816063,\n",
              "    0.9568537703365085,\n",
              "    0.9348048491030929,\n",
              "    0.8967770411595702,\n",
              "    0.8698506560278435,\n",
              "    0.8228138954788446,\n",
              "    0.8011681324018787,\n",
              "    0.7622701501965524,\n",
              "    0.7260528532892465,\n",
              "    0.7007665305594603,\n",
              "    0.6692677687381706,\n",
              "    0.6561485326754551,\n",
              "    0.6355732302536568,\n",
              "    0.610067119839539,\n",
              "    0.6043243880250803,\n",
              "    0.5625074473523846,\n",
              "    0.5649596114241829,\n",
              "    0.536107807468623,\n",
              "    0.5212630573676278,\n",
              "    0.5191552555262421,\n",
              "    0.49588113142990825,\n",
              "    0.48508565021573263,\n",
              "    0.46836430202995755,\n",
              "    0.4740624599145104,\n",
              "    0.4549530400471142,\n",
              "    0.4357605873743073,\n",
              "    0.42334597078311875,\n",
              "    0.4226686518927416,\n",
              "    0.40830329069110255,\n",
              "    0.39505420331551383,\n",
              "    0.38153560538301245,\n",
              "    0.3813025774971737,\n",
              "    0.37606338086199625,\n",
              "    0.3670584178054085]]},\n",
              " 'CIFAR CNN on Non IID': {'hyperparams': {'C': 0.3,\n",
              "   'E': 5,\n",
              "   'K': 100,\n",
              "   'batch_size': 10,\n",
              "   'lr': 0.05,\n",
              "   'rounds': 50},\n",
              "  'test_accuracy': [[11.265822784810126,\n",
              "    9.873417721518987,\n",
              "    15.316455696202532,\n",
              "    15.063291139240507,\n",
              "    21.772151898734176,\n",
              "    23.924050632911392,\n",
              "    25.696202531645568,\n",
              "    31.645569620253166,\n",
              "    32.151898734177216,\n",
              "    26.582278481012658,\n",
              "    34.050632911392405,\n",
              "    32.65822784810127,\n",
              "    30.759493670886076,\n",
              "    36.58227848101266,\n",
              "    41.51898734177215,\n",
              "    40.63291139240506,\n",
              "    44.55696202531646,\n",
              "    38.22784810126582,\n",
              "    36.32911392405063,\n",
              "    47.46835443037975,\n",
              "    45.822784810126585,\n",
              "    42.0253164556962,\n",
              "    41.392405063291136,\n",
              "    52.0253164556962,\n",
              "    53.54430379746835,\n",
              "    52.151898734177216,\n",
              "    53.164556962025316,\n",
              "    52.53164556962025,\n",
              "    47.34177215189873,\n",
              "    55.822784810126585,\n",
              "    51.51898734177215,\n",
              "    58.9873417721519,\n",
              "    50.50632911392405,\n",
              "    47.59493670886076,\n",
              "    56.70886075949367,\n",
              "    59.24050632911393,\n",
              "    58.48101265822785,\n",
              "    54.68354430379747,\n",
              "    57.721518987341774,\n",
              "    61.51898734177215,\n",
              "    60.12658227848101,\n",
              "    64.9367088607595,\n",
              "    63.164556962025316,\n",
              "    65.44303797468355,\n",
              "    65.31645569620254,\n",
              "    65.56962025316456,\n",
              "    61.0126582278481,\n",
              "    65.31645569620254,\n",
              "    65.44303797468355,\n",
              "    64.43037974683544]],\n",
              "  'test_loss': [[2.3041421745300292,\n",
              "    2.299461665725708,\n",
              "    2.2625293296813966,\n",
              "    2.2028094745635984,\n",
              "    2.10471318397522,\n",
              "    2.0401662200927735,\n",
              "    1.9524566749572754,\n",
              "    1.8883763298034668,\n",
              "    1.8919678884506226,\n",
              "    1.8509274742126465,\n",
              "    1.81208232421875,\n",
              "    1.787774168586731,\n",
              "    1.8037548133850099,\n",
              "    1.6933630447387695,\n",
              "    1.624713127708435,\n",
              "    1.6443315536499024,\n",
              "    1.5321244827270508,\n",
              "    1.7344865507125855,\n",
              "    1.6645183824539185,\n",
              "    1.5070210639953614,\n",
              "    1.4629594150543213,\n",
              "    1.4860080669403075,\n",
              "    1.46867188911438,\n",
              "    1.357928483581543,\n",
              "    1.3121075523376464,\n",
              "    1.3030530706405639,\n",
              "    1.2827953384399413,\n",
              "    1.3073531955718993,\n",
              "    1.4257847606658935,\n",
              "    1.2325238744735718,\n",
              "    1.327711433982849,\n",
              "    1.1724740772247315,\n",
              "    1.3278148197174073,\n",
              "    1.5654579223632812,\n",
              "    1.2238641613006591,\n",
              "    1.1202507444381713,\n",
              "    1.1584053117752076,\n",
              "    1.1881266395568848,\n",
              "    1.131607744026184,\n",
              "    1.0751339651107787,\n",
              "    1.1509906660079956,\n",
              "    1.0134852151870728,\n",
              "    1.0578965169906616,\n",
              "    0.9958339920043945,\n",
              "    1.0122255617141724,\n",
              "    1.0189019763946534,\n",
              "    1.0733795585632324,\n",
              "    0.9912311738967895,\n",
              "    0.9866902965545654,\n",
              "    0.9929464002609253]],\n",
              "  'train_loss': [[0.6089519789386568,\n",
              "    0.5351666732869892,\n",
              "    0.5581655045874727,\n",
              "    0.5471135613834358,\n",
              "    0.4531042966306885,\n",
              "    0.39478953194567573,\n",
              "    0.36451663996657413,\n",
              "    0.37927481653439554,\n",
              "    0.3806980568019989,\n",
              "    0.34605345897179823,\n",
              "    0.3696935053259289,\n",
              "    0.32013010886840654,\n",
              "    0.3123341922403836,\n",
              "    0.31068093234275646,\n",
              "    0.3299015075503132,\n",
              "    0.37071951132736014,\n",
              "    0.29850105850996606,\n",
              "    0.33139202836087844,\n",
              "    0.2597743738344135,\n",
              "    0.33534706260451425,\n",
              "    0.2946897203364117,\n",
              "    0.2057475997127218,\n",
              "    0.24861519016285757,\n",
              "    0.2535827901718584,\n",
              "    0.25574187953206506,\n",
              "    0.24677891991006215,\n",
              "    0.24874023288741506,\n",
              "    0.2356026264568233,\n",
              "    0.23654239474437494,\n",
              "    0.21181823589009202,\n",
              "    0.1932209219806143,\n",
              "    0.2307015873438165,\n",
              "    0.17472384988133555,\n",
              "    0.21025528772725863,\n",
              "    0.25820870188844997,\n",
              "    0.17246403099765223,\n",
              "    0.19763538629926133,\n",
              "    0.19785147602334857,\n",
              "    0.18876861193777064,\n",
              "    0.14771860761297925,\n",
              "    0.17419796221482858,\n",
              "    0.2025950890111792,\n",
              "    0.19766420603978313,\n",
              "    0.1768604502196896,\n",
              "    0.1761231352553455,\n",
              "    0.2255516459735628,\n",
              "    0.20105452167411725,\n",
              "    0.20864164308420158,\n",
              "    0.16139017039649053,\n",
              "    0.18175049960871378]]}}"
            ]
          },
          "metadata": {
            "tags": []
          },
          "execution_count": 32
        }
      ]
    },
    {
      "cell_type": "code",
      "metadata": {
        "id": "x1r1hcqMUCeZ"
      },
      "source": [
        "import pickle\n",
        "\n",
        "with open(path + '0.9.pkl', 'rb') as file:\n",
        "  log_dict = pickle.load(file)"
      ],
      "execution_count": 33,
      "outputs": []
    },
    {
      "cell_type": "code",
      "metadata": {
        "id": "se_04JMaVJPg",
        "colab": {
          "base_uri": "https://localhost:8080/"
        },
        "outputId": "1a0b6f7b-314a-44b4-f029-cbbe89b7968a"
      },
      "source": [
        "print([test_acc[-1] for test_acc in log_dict['CIFAR CNN on IID']['test_accuracy']])"
      ],
      "execution_count": 34,
      "outputs": [
        {
          "output_type": "stream",
          "text": [
            "[83.0379746835443]\n"
          ],
          "name": "stdout"
        }
      ]
    },
    {
      "cell_type": "code",
      "metadata": {
        "colab": {
          "base_uri": "https://localhost:8080/"
        },
        "id": "5sv0rv-G4Sqa",
        "outputId": "fef2652c-32c0-4288-b4f7-ea856cc9101e"
      },
      "source": [
        "print([test_acc[-1] for test_acc in log_dict['CIFAR CNN on Non IID']['test_accuracy']])"
      ],
      "execution_count": 35,
      "outputs": [
        {
          "output_type": "stream",
          "text": [
            "[64.43037974683544]\n"
          ],
          "name": "stdout"
        }
      ]
    },
    {
      "cell_type": "code",
      "metadata": {
        "id": "b2a2_Az-4nal"
      },
      "source": [
        "# print([test_acc[-1] for test_acc in log_dict['CIFAR MLP on IID']['test_accuracy']])"
      ],
      "execution_count": 36,
      "outputs": []
    },
    {
      "cell_type": "code",
      "metadata": {
        "id": "YoRqZyvD4p2K"
      },
      "source": [
        "# print([test_acc[-1] for test_acc in log_dict['CIFAR MLP on Non IID']['test_accuracy']])"
      ],
      "execution_count": 37,
      "outputs": []
    },
    {
      "cell_type": "code",
      "metadata": {
        "id": "mkG1kQdmVzbJ"
      },
      "source": [
        "while True:pass"
      ],
      "execution_count": null,
      "outputs": []
    }
  ]
}