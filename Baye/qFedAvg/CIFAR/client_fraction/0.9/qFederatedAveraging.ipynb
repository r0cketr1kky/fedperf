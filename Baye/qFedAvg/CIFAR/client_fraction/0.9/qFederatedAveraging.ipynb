{
  "nbformat": 4,
  "nbformat_minor": 0,
  "metadata": {
    "accelerator": "GPU",
    "colab": {
      "name": "qFederatedAveraging.ipynb",
      "provenance": [],
      "collapsed_sections": [],
      "machine_shape": "hm"
    },
    "kernelspec": {
      "name": "python3",
      "display_name": "Python 3"
    },
    "language_info": {
      "name": "python"
    }
  },
  "cells": [
    {
      "cell_type": "markdown",
      "metadata": {
        "id": "view-in-github"
      },
      "source": [
        "<a href=\"https://colab.research.google.com/github/tushar-semwal/fedperf/blob/main/Vineeth/FedAvg_CIFAR.ipynb\" target=\"_parent\"><img src=\"https://colab.research.google.com/assets/colab-badge.svg\" alt=\"Open In Colab\"/></a>"
      ]
    },
    {
      "cell_type": "code",
      "metadata": {
        "id": "yKcpjZLrQQJV"
      },
      "source": [
        "%%capture output\n",
        "try:\n",
        "    from google.colab import drive\n",
        "    drive.mount('/content/drive')\n",
        "\n",
        "    import os\n",
        "    path = '/content/drive/MyDrive/Colab Notebooks/OpenMined/'\n",
        "    os.makedirs(path, exist_ok=True)\n",
        "except:\n",
        "    path = './'"
      ],
      "execution_count": 41,
      "outputs": []
    },
    {
      "cell_type": "markdown",
      "metadata": {
        "id": "-0_nKpfq2h1R"
      },
      "source": [
        "## Imports"
      ]
    },
    {
      "cell_type": "code",
      "metadata": {
        "id": "DLLNM9X2JbQ8",
        "colab": {
          "base_uri": "https://localhost:8080/"
        },
        "outputId": "e74fceea-c20e-4ebc-cbdf-9cde319108a6"
      },
      "source": [
        "%load_ext tensorboard\n",
        "import os\n",
        "import numpy as np\n",
        "import matplotlib\n",
        "import matplotlib.pyplot as plt\n",
        "import copy\n",
        "import random\n",
        "import time\n",
        "\n",
        "import torch\n",
        "import torch.nn as nn\n",
        "import torch.nn.functional as F\n",
        "\n",
        "from torch.utils.data import Dataset, DataLoader\n",
        "from torch.utils.tensorboard import SummaryWriter\n",
        "from torchvision import transforms, utils, datasets\n",
        "from torchsummary import summary\n",
        "from sklearn.metrics import f1_score\n",
        "\n",
        "# Check assigned GPU\n",
        "gpu_info = !nvidia-smi\n",
        "gpu_info = '\\n'.join(gpu_info)\n",
        "if gpu_info.find('failed') >= 0:\n",
        "  print('Select the Runtime > \"Change runtime type\" menu to enable a GPU accelerator, ')\n",
        "  print('and then re-execute this cell.')\n",
        "else:\n",
        "  print(gpu_info)\n",
        "\n",
        "# set manual seed for reproducibility\n",
        "seed = 42\n",
        "\n",
        "# general reproducibility\n",
        "random.seed(seed)\n",
        "np.random.seed(seed)\n",
        "torch.manual_seed(seed)\n",
        "\n",
        "# gpu training specific\n",
        "torch.backends.cudnn.deterministic = True\n",
        "torch.backends.cudnn.benchmark = False"
      ],
      "execution_count": 42,
      "outputs": [
        {
          "output_type": "stream",
          "text": [
            "The tensorboard extension is already loaded. To reload it, use:\n",
            "  %reload_ext tensorboard\n",
            "Wed Apr 28 11:43:51 2021       \n",
            "+-----------------------------------------------------------------------------+\n",
            "| NVIDIA-SMI 465.19.01    Driver Version: 460.32.03    CUDA Version: 11.2     |\n",
            "|-------------------------------+----------------------+----------------------+\n",
            "| GPU  Name        Persistence-M| Bus-Id        Disp.A | Volatile Uncorr. ECC |\n",
            "| Fan  Temp  Perf  Pwr:Usage/Cap|         Memory-Usage | GPU-Util  Compute M. |\n",
            "|                               |                      |               MIG M. |\n",
            "|===============================+======================+======================|\n",
            "|   0  Tesla T4            Off  | 00000000:00:04.0 Off |                    0 |\n",
            "| N/A   77C    P0    34W /  70W |   1166MiB / 15109MiB |      0%      Default |\n",
            "|                               |                      |                  N/A |\n",
            "+-------------------------------+----------------------+----------------------+\n",
            "                                                                               \n",
            "+-----------------------------------------------------------------------------+\n",
            "| Processes:                                                                  |\n",
            "|  GPU   GI   CI        PID   Type   Process name                  GPU Memory |\n",
            "|        ID   ID                                                   Usage      |\n",
            "|=============================================================================|\n",
            "+-----------------------------------------------------------------------------+\n"
          ],
          "name": "stdout"
        }
      ]
    },
    {
      "cell_type": "markdown",
      "metadata": {
        "id": "NY4eWzGiL6Mj"
      },
      "source": [
        "## Load the CIFAR Dataset"
      ]
    },
    {
      "cell_type": "code",
      "metadata": {
        "id": "G649tjTXLL8F",
        "colab": {
          "base_uri": "https://localhost:8080/"
        },
        "outputId": "2538d3fd-6114-4ead-cfa2-4eb6713ce2f9"
      },
      "source": [
        "# create transforms\n",
        "# We will just convert to tensor and normalize since no special transforms are mentioned in the paper\n",
        "transform_train = transforms.Compose([\n",
        "    transforms.RandomCrop(32, padding=4),\n",
        "    transforms.RandomHorizontalFlip(),\n",
        "    transforms.ToTensor(),\n",
        "    transforms.Normalize((0.4914, 0.4822, 0.4465), (0.2023, 0.1994, 0.2010)),\n",
        "])\n",
        "\n",
        "# Normalize the test set same as training set without augmentation\n",
        "transform_test = transforms.Compose([\n",
        "    transforms.ToTensor(),\n",
        "    transforms.Normalize((0.4914, 0.4822, 0.4465), (0.2023, 0.1994, 0.2010)),\n",
        "])\n",
        "\n",
        "cifar_data_train = datasets.CIFAR10('../data/cifar10/', train=True, download=True, transform=transform_train)\n",
        "cifar_data_test = datasets.CIFAR10('../data/cifar10/', train=False, download=True, transform=transform_test)"
      ],
      "execution_count": 43,
      "outputs": [
        {
          "output_type": "stream",
          "text": [
            "Files already downloaded and verified\n",
            "Files already downloaded and verified\n"
          ],
          "name": "stdout"
        }
      ]
    },
    {
      "cell_type": "code",
      "metadata": {
        "id": "pOtLLX66b1Ad",
        "colab": {
          "base_uri": "https://localhost:8080/"
        },
        "outputId": "3c5a90bf-256c-473b-fa8a-23d62d75053e"
      },
      "source": [
        "classes = np.array(list(cifar_data_train.class_to_idx.values()))\n",
        "classes_test = np.array(list(cifar_data_test.class_to_idx.values()))\n",
        "num_classes = len(classes_test)\n",
        "print(\"Classes: {} \\tType: {}\".format(classes, type(classes)))\n",
        "print(\"Classes Test: {} \\tType: {}\".format(classes_test, type(classes)))\n"
      ],
      "execution_count": 44,
      "outputs": [
        {
          "output_type": "stream",
          "text": [
            "Classes: [0 1 2 3 4 5 6 7 8 9] \tType: <class 'numpy.ndarray'>\n",
            "Classes Test: [0 1 2 3 4 5 6 7 8 9] \tType: <class 'numpy.ndarray'>\n"
          ],
          "name": "stdout"
        }
      ]
    },
    {
      "cell_type": "code",
      "metadata": {
        "id": "wa4TJs-AVJ2O",
        "colab": {
          "base_uri": "https://localhost:8080/"
        },
        "outputId": "cd89cf40-31f7-443c-dd65-2d392ba02f3d"
      },
      "source": [
        "print(\"Image Shape: {}\".format(cifar_data_train.data[0].shape))"
      ],
      "execution_count": 45,
      "outputs": [
        {
          "output_type": "stream",
          "text": [
            "Image Shape: (32, 32, 3)\n"
          ],
          "name": "stdout"
        }
      ]
    },
    {
      "cell_type": "markdown",
      "metadata": {
        "id": "jCOONkg-zV7Y"
      },
      "source": [
        "## Visualize Data"
      ]
    },
    {
      "cell_type": "code",
      "metadata": {
        "id": "R9MK03TZw6Qs"
      },
      "source": [
        "def imshow(img):\n",
        "\t#img = img/2 + 0.5 #unnormalize the image\n",
        "\tplt.imshow(img, cmap='hsv') # convert from tensor to image"
      ],
      "execution_count": 46,
      "outputs": []
    },
    {
      "cell_type": "code",
      "metadata": {
        "id": "gMJ0Kx4Kw-_H"
      },
      "source": [
        "def visualize(dataset):\n",
        "  figure = plt.figure(figsize=(25,4))\n",
        "  for i in range(20):\n",
        "    axis = figure.add_subplot(2, 20/2, i+1, xticks=[], yticks=[])\n",
        "    data = dataset.data[i]\n",
        "    #data = data.numpy()\n",
        "\n",
        "    target = dataset.targets[i]\n",
        "    #target = target.numpy()\n",
        "    imshow(data)\n",
        "    axis.set_title(target)\n"
      ],
      "execution_count": 47,
      "outputs": []
    },
    {
      "cell_type": "code",
      "metadata": {
        "id": "8bPOwKg10Ro7",
        "colab": {
          "base_uri": "https://localhost:8080/",
          "height": 268
        },
        "outputId": "74013301-8f07-4cd4-8f38-ca7ba3642e19"
      },
      "source": [
        "visualize(cifar_data_train)"
      ],
      "execution_count": 48,
      "outputs": [
        {
          "output_type": "display_data",
          "data": {
            "image/png": "[encoded data removed]",
            "text/plain": [
              "<Figure size 1800x288 with 20 Axes>"
            ]
          },
          "metadata": {
            "tags": []
          }
        }
      ]
    },
    {
      "cell_type": "code",
      "metadata": {
        "id": "RKoh5Cf70UYu",
        "colab": {
          "base_uri": "https://localhost:8080/",
          "height": 268
        },
        "outputId": "04d4977d-0f5a-414b-857f-a66e1f36c78d"
      },
      "source": [
        "visualize(cifar_data_test)"
      ],
      "execution_count": 49,
      "outputs": [
        {
          "output_type": "display_data",
          "data": {
            "image/png": "[encoded data removed]",
            "text/plain": [
              "<Figure size 1800x288 with 20 Axes>"
            ]
          },
          "metadata": {
            "tags": []
          }
        }
      ]
    },
    {
      "cell_type": "markdown",
      "metadata": {
        "id": "ctjRsETiO1qO"
      },
      "source": [
        "## Partitioning the Data (IID and non-IID)"
      ]
    },
    {
      "cell_type": "code",
      "metadata": {
        "id": "3_v8lyrgO5dD"
      },
      "source": [
        "def iid_partition(dataset, clients):\n",
        "  \"\"\"\n",
        "  I.I.D paritioning of data over clients\n",
        "  Shuffle the data\n",
        "  Split it between clients\n",
        "  \n",
        "  params:\n",
        "    - dataset (torch.utils.Dataset): Dataset containing the CIFAR Images\n",
        "    - clients (int): Number of Clients to split the data between\n",
        "\n",
        "  returns:\n",
        "    - Dictionary of image indexes for each client\n",
        "  \"\"\"\n",
        "\n",
        "  num_items_per_client = int(len(dataset)/clients)\n",
        "  client_dict = {}\n",
        "  image_idxs = [i for i in range(len(dataset))]\n",
        "\n",
        "  for i in range(clients):\n",
        "    client_dict[i] = set(np.random.choice(image_idxs, num_items_per_client, replace=False))\n",
        "    image_idxs = list(set(image_idxs) - client_dict[i])\n",
        "\n",
        "  return client_dict"
      ],
      "execution_count": 50,
      "outputs": []
    },
    {
      "cell_type": "code",
      "metadata": {
        "id": "4zMdliGMQoSl"
      },
      "source": [
        "def non_iid_partition(dataset, clients, total_shards, shards_size, num_shards_per_client):\n",
        "  \"\"\"\n",
        "  non I.I.D parititioning of data over clients\n",
        "  Sort the data by the digit label\n",
        "  Divide the data into N shards of size S\n",
        "  Each of the clients will get X shards\n",
        "\n",
        "  params:\n",
        "    - dataset (torch.utils.Dataset): Dataset containing the CIFAR Images\n",
        "    - clients (int): Number of Clients to split the data between\n",
        "    - total_shards (int): Number of shards to partition the data in\n",
        "    - shards_size (int): Size of each shard \n",
        "    - num_shards_per_client (int): Number of shards of size shards_size that each client receives\n",
        "\n",
        "  returns:\n",
        "    - Dictionary of image indexes for each client\n",
        "  \"\"\"\n",
        "  \n",
        "  shard_idxs = [i for i in range(total_shards)]\n",
        "  client_dict = {i: np.array([], dtype='int64') for i in range(clients)}\n",
        "  idxs = np.arange(len(dataset))\n",
        "  data_labels = np.array(dataset.targets)\n",
        "\n",
        "  # sort the labels\n",
        "  label_idxs = np.vstack((idxs, data_labels))\n",
        "  label_idxs = label_idxs[:, label_idxs[1,:].argsort()]\n",
        "  idxs = label_idxs[0,:]\n",
        "\n",
        "  # divide the data into total_shards of size shards_size\n",
        "  # assign num_shards_per_client to each client\n",
        "  for i in range(clients):\n",
        "    rand_set = set(np.random.choice(shard_idxs, num_shards_per_client, replace=False))\n",
        "    shard_idxs = list(set(shard_idxs) - rand_set)\n",
        "\n",
        "    for rand in rand_set:\n",
        "      client_dict[i] = np.concatenate((client_dict[i], idxs[rand*shards_size:(rand+1)*shards_size]), axis=0)\n",
        "  \n",
        "  return client_dict\n",
        "\n",
        "\n",
        "\n"
      ],
      "execution_count": 51,
      "outputs": []
    },
    {
      "cell_type": "markdown",
      "metadata": {
        "id": "EUP_bcedcLwB"
      },
      "source": [
        "##Models"
      ]
    },
    {
      "cell_type": "code",
      "metadata": {
        "id": "CvoDNFKbZST5"
      },
      "source": [
        "class CIFAR_MLP(nn.Module):\n",
        "  def __init__(self):\n",
        "    super(CIFAR_MLP, self).__init__()\n",
        "    self.fc1 = nn.Linear(3 * 32 * 32, 2634)\n",
        "    self.fc2 = nn.Linear(2634, 2196) \n",
        "    self.fc3 = nn.Linear(2196, 1758)\n",
        "    self.fc4 = nn.Linear(1758, 1320)\n",
        "    self.fc5 = nn.Linear(1320, 882)\n",
        "    self.fc6 = nn.Linear(882, 444) \n",
        "    self.fc7 = nn.Linear(444, 10) \n",
        "\n",
        "  def forward(self, x):\n",
        "    x = x.view(-1, 3 * 32 * 32)\n",
        "    x = F.relu(self.fc1(x))\n",
        "    x = F.relu(self.fc2(x))\n",
        "    x = F.relu(self.fc3(x))\n",
        "    x = F.relu(self.fc4(x))\n",
        "    x = F.relu(self.fc5(x))\n",
        "    x = F.relu(self.fc6(x))\n",
        "\n",
        "    x = self.fc7(x)\n",
        "    return x"
      ],
      "execution_count": 52,
      "outputs": []
    },
    {
      "cell_type": "code",
      "metadata": {
        "id": "ut1hZ8x3qYPZ"
      },
      "source": [
        "class CIFAR_CNN(nn.Module):\n",
        "  def __init__(self):\n",
        "    super(CIFAR_CNN, self).__init__()\n",
        "\n",
        "    self.conv_layer = nn.Sequential(\n",
        "      nn.Conv2d(in_channels=3, out_channels=32, kernel_size=3, padding=1),\n",
        "      nn.BatchNorm2d(32),\n",
        "      nn.ReLU(inplace=True),\n",
        "      nn.Conv2d(in_channels=32, out_channels=64, kernel_size=3, padding=1),\n",
        "      nn.ReLU(inplace=True),\n",
        "      nn.MaxPool2d(kernel_size=2, stride=2),\n",
        "\n",
        "      nn.Conv2d(in_channels=64, out_channels=128, kernel_size=3, padding=1),\n",
        "      nn.BatchNorm2d(128),\n",
        "      nn.ReLU(inplace=True),\n",
        "      nn.Conv2d(in_channels=128, out_channels=128, kernel_size=3, padding=1),\n",
        "      nn.ReLU(inplace=True),\n",
        "      nn.MaxPool2d(kernel_size=2, stride=2),\n",
        "      nn.Dropout2d(p=0.05),\n",
        "\n",
        "      nn.Conv2d(in_channels=128, out_channels=256, kernel_size=3, padding=1),\n",
        "      nn.BatchNorm2d(256),\n",
        "      nn.ReLU(inplace=True),\n",
        "      nn.Conv2d(in_channels=256, out_channels=256, kernel_size=3, padding=1),\n",
        "      nn.ReLU(inplace=True),\n",
        "      nn.MaxPool2d(kernel_size=2, stride=2),\n",
        "    )\n",
        "\n",
        "    self.fc_layer = nn.Sequential(\n",
        "      nn.Dropout(p=0.1),\n",
        "      nn.Linear(4096, 1024),\n",
        "      nn.ReLU(inplace=True),\n",
        "      nn.Linear(1024, 512),\n",
        "      nn.ReLU(inplace=True),\n",
        "      nn.Dropout(p=0.1),\n",
        "      nn.Linear(512, 10)\n",
        "    )\n",
        "\n",
        "\n",
        "  def forward(self, x):      \n",
        "    # conv layers\n",
        "    x = self.conv_layer(x)\n",
        "    \n",
        "    # flatten\n",
        "    x = x.view(x.size(0), -1)\n",
        "    \n",
        "    # fc layer\n",
        "    x = self.fc_layer(x)\n",
        "\n",
        "    return x"
      ],
      "execution_count": 53,
      "outputs": []
    },
    {
      "cell_type": "markdown",
      "metadata": {
        "id": "uVv4HA9HuLtr"
      },
      "source": [
        "### Print Model Summaries"
      ]
    },
    {
      "cell_type": "code",
      "metadata": {
        "id": "-H2jR2-Id4AA",
        "colab": {
          "base_uri": "https://localhost:8080/"
        },
        "outputId": "8556b70d-7247-4f60-da5b-fc3eb3d5da5b"
      },
      "source": [
        "cifar_mlp = CIFAR_MLP()\n",
        "cifar_cnn = CIFAR_CNN()\n",
        "\n",
        "if torch.cuda.is_available():\n",
        "  cifar_mlp.cuda()\n",
        "  cifar_cnn.cuda()\n",
        "\n",
        "print(\"CIFAR MLP SUMMARY\")\n",
        "print(summary(cifar_mlp, (32,32,3)))\n",
        "\n",
        "print(\"\\nCIFAR CNN SUMMARY\")\n",
        "print(summary(cifar_cnn, (3, 32,32)))"
      ],
      "execution_count": 54,
      "outputs": [
        {
          "output_type": "stream",
          "text": [
            "CIFAR MLP SUMMARY\n",
            "----------------------------------------------------------------\n",
            "        Layer (type)               Output Shape         Param #\n",
            "================================================================\n",
            "            Linear-1                 [-1, 2634]       8,094,282\n",
            "            Linear-2                 [-1, 2196]       5,786,460\n",
            "            Linear-3                 [-1, 1758]       3,862,326\n",
            "            Linear-4                 [-1, 1320]       2,321,880\n",
            "            Linear-5                  [-1, 882]       1,165,122\n",
            "            Linear-6                  [-1, 444]         392,052\n",
            "            Linear-7                   [-1, 10]           4,450\n",
            "================================================================\n",
            "Total params: 21,626,572\n",
            "Trainable params: 21,626,572\n",
            "Non-trainable params: 0\n",
            "----------------------------------------------------------------\n",
            "Input size (MB): 0.01\n",
            "Forward/backward pass size (MB): 0.07\n",
            "Params size (MB): 82.50\n",
            "Estimated Total Size (MB): 82.58\n",
            "----------------------------------------------------------------\n",
            "None\n",
            "\n",
            "CIFAR CNN SUMMARY\n",
            "----------------------------------------------------------------\n",
            "        Layer (type)               Output Shape         Param #\n",
            "================================================================\n",
            "            Conv2d-1           [-1, 32, 32, 32]             896\n",
            "       BatchNorm2d-2           [-1, 32, 32, 32]              64\n",
            "              ReLU-3           [-1, 32, 32, 32]               0\n",
            "            Conv2d-4           [-1, 64, 32, 32]          18,496\n",
            "              ReLU-5           [-1, 64, 32, 32]               0\n",
            "         MaxPool2d-6           [-1, 64, 16, 16]               0\n",
            "            Conv2d-7          [-1, 128, 16, 16]          73,856\n",
            "       BatchNorm2d-8          [-1, 128, 16, 16]             256\n",
            "              ReLU-9          [-1, 128, 16, 16]               0\n",
            "           Conv2d-10          [-1, 128, 16, 16]         147,584\n",
            "             ReLU-11          [-1, 128, 16, 16]               0\n",
            "        MaxPool2d-12            [-1, 128, 8, 8]               0\n",
            "        Dropout2d-13            [-1, 128, 8, 8]               0\n",
            "           Conv2d-14            [-1, 256, 8, 8]         295,168\n",
            "      BatchNorm2d-15            [-1, 256, 8, 8]             512\n",
            "             ReLU-16            [-1, 256, 8, 8]               0\n",
            "           Conv2d-17            [-1, 256, 8, 8]         590,080\n",
            "             ReLU-18            [-1, 256, 8, 8]               0\n",
            "        MaxPool2d-19            [-1, 256, 4, 4]               0\n",
            "          Dropout-20                 [-1, 4096]               0\n",
            "           Linear-21                 [-1, 1024]       4,195,328\n",
            "             ReLU-22                 [-1, 1024]               0\n",
            "           Linear-23                  [-1, 512]         524,800\n",
            "             ReLU-24                  [-1, 512]               0\n",
            "          Dropout-25                  [-1, 512]               0\n",
            "           Linear-26                   [-1, 10]           5,130\n",
            "================================================================\n",
            "Total params: 5,852,170\n",
            "Trainable params: 5,852,170\n",
            "Non-trainable params: 0\n",
            "----------------------------------------------------------------\n",
            "Input size (MB): 0.01\n",
            "Forward/backward pass size (MB): 3.96\n",
            "Params size (MB): 22.32\n",
            "Estimated Total Size (MB): 26.30\n",
            "----------------------------------------------------------------\n",
            "None\n"
          ],
          "name": "stdout"
        }
      ]
    },
    {
      "cell_type": "markdown",
      "metadata": {
        "id": "gf_8XEXa-gZ7"
      },
      "source": [
        "## q Federated Averaging"
      ]
    },
    {
      "cell_type": "markdown",
      "metadata": {
        "id": "L-aNdQsQ-Kvp"
      },
      "source": [
        "### Local Training (Client Update)\n",
        "\n",
        "Local training for the model on client side"
      ]
    },
    {
      "cell_type": "code",
      "metadata": {
        "id": "oX6OsQyO-Gz7"
      },
      "source": [
        "class CustomDataset(Dataset):\n",
        "  def __init__(self, dataset, idxs):\n",
        "      self.dataset = dataset\n",
        "      self.idxs = list(idxs)\n",
        "\n",
        "  def __len__(self):\n",
        "      return len(self.idxs)\n",
        "\n",
        "  def __getitem__(self, item):\n",
        "      image, label = self.dataset[self.idxs[item]]\n",
        "      return image, label\n",
        "\n",
        "\n",
        "class ClientUpdate(object):\n",
        "  def __init__(self, dataset, batch_size, learning_rate, epochs, idxs, q=None):\n",
        "    if hasattr(dataset, 'dataloader'):\n",
        "        self.train_loader = dataset.dataloader(batch_size=batch_size, shuffle=True)\n",
        "    else:\n",
        "        self.train_loader = DataLoader(CustomDataset(dataset, idxs), batch_size=batch_size, shuffle=True)\n",
        "\n",
        "    self.learning_rate = learning_rate\n",
        "    self.epochs = epochs\n",
        "    self.q = q\n",
        "    if not self.q:\n",
        "        # TODO: Client itself adjust fairness \n",
        "        pass\n",
        "    self.mu = 1e-10\n",
        "\n",
        "  def train(self, model):\n",
        "    criterion = nn.CrossEntropyLoss()\n",
        "    optimizer = torch.optim.SGD(model.parameters(), lr=self.learning_rate, momentum=0.5)\n",
        "\n",
        "    e_loss = []\n",
        "\n",
        "    model_weights = copy.deepcopy(model.state_dict())\n",
        "    for epoch in range(1, self.epochs+1):\n",
        "\n",
        "      train_loss = 0.0\n",
        "\n",
        "      model.train()\n",
        "      # for data, labels in tqdm(self.train_loader):\n",
        "      for data, labels in self.train_loader:\n",
        "\n",
        "        if torch.cuda.is_available():\n",
        "          data, labels = data.cuda(), labels.cuda()\n",
        "\n",
        "        # clear the gradients\n",
        "        optimizer.zero_grad()\n",
        "        # make a forward pass\n",
        "        output = model(data)\n",
        "        # calculate the loss\n",
        "        loss = criterion(output, labels)\n",
        "        # do a backwards pass\n",
        "        loss.backward()\n",
        "        # perform a single optimization step\n",
        "        optimizer.step()\n",
        "        # update training loss\n",
        "        train_loss += loss.item()*data.size(0)\n",
        "\n",
        "      # average losses\n",
        "      train_loss = train_loss/len(self.train_loader.dataset)\n",
        "      e_loss.append(train_loss)\n",
        "\n",
        "\n",
        "    total_loss = sum(e_loss)/len(e_loss)\n",
        "\n",
        "    # delta weights\n",
        "    model_weights_new = copy.deepcopy(model.state_dict())\n",
        "    L = 1.0 / self.learning_rate\n",
        "\n",
        "    delta_weights, delta, h = {}, {}, {}\n",
        "    loss_q = np.float_power(total_loss + self.mu, self.q)\n",
        "    # updating the global weights\n",
        "    for k in model_weights_new.keys():\n",
        "      delta_weights[k] = (model_weights[k] - model_weights_new[k]) * L\n",
        "      delta[k] =  loss_q * delta_weights[k]\n",
        "      # Estimation of the local Lipchitz constant\n",
        "      h[k] = (self.q * np.float_power(total_loss + self.mu, self.q - 1) * torch.pow(torch.norm(delta_weights[k]), 2)) + (L * loss_q)\n",
        "\n",
        "    return delta, h, total_loss"
      ],
      "execution_count": 55,
      "outputs": []
    },
    {
      "cell_type": "markdown",
      "metadata": {
        "id": "Ukgh1DVHE2Ds"
      },
      "source": [
        "### Server Side Training\n",
        "\n",
        "Following Algorithm 1 from the paper"
      ]
    },
    {
      "cell_type": "code",
      "metadata": {
        "id": "wRFO75rSaXNc"
      },
      "source": [
        "def client_sampling(n, m, weights=None, with_replace=False):\n",
        "    pk = None\n",
        "    if weights:\n",
        "        total_weights = np.sum(np.asarray(weights))\n",
        "        pk = [w * 1.0 / total_weights for w in weights]\n",
        "\n",
        "    return np.random.choice(range(n), m, replace=with_replace, p=pk)"
      ],
      "execution_count": 56,
      "outputs": []
    },
    {
      "cell_type": "code",
      "metadata": {
        "id": "1NF1e33BgpeL"
      },
      "source": [
        "def training(model, rounds, batch_size, lr, ds, ds_test, data_dict, C, K, E, q, sampling, plt_title, plt_color):\n",
        "  \"\"\"\n",
        "  Function implements the Federated Averaging Algorithm from the FedAvg paper.\n",
        "  Specifically, this function is used for the server side training and weight update\n",
        "\n",
        "  Params:\n",
        "    - model:           PyTorch model to train\n",
        "    - rounds:          Number of communication rounds for the client update\n",
        "    - batch_size:      Batch size for client update training\n",
        "    - lr:              Learning rate used for client update training\n",
        "    - ds:              Dataset used for training\n",
        "    - ds_test:         Dataset used for testing\n",
        "    - data_dict:       Type of data partition used for training (IID or non-IID)\n",
        "    - C:               Fraction of clients randomly chosen to perform computation on each round\n",
        "    - K:               Total number of clients\n",
        "    - E:               Number of training passes each client makes over its local dataset per round\n",
        "    - tb_writer_name:  Directory name to save the tensorboard logs\n",
        "  Returns:\n",
        "    - model:           Trained model on the server\n",
        "  \"\"\"\n",
        "\n",
        "  # global model weights\n",
        "  global_weights = model.state_dict()\n",
        "\n",
        "  # training loss\n",
        "  # train_accuracy = []\n",
        "  train_loss = []\n",
        "  test_accuracy = []\n",
        "  test_loss = []\n",
        "  f1_macro = []\n",
        "  f1_weighted = []\n",
        "\n",
        "  # client weights by total samples\n",
        "  p_k = None\n",
        "  if sampling == 'weighted':\n",
        "    p_k = [len(data_dict[c]) for c in data_dict] if ds else [len(data_dict[c]['train_ds']) for c in data_dict]\n",
        "\n",
        "  # Time log\n",
        "  start_time = time.time()\n",
        "\n",
        "  users_id = list(data_dict.keys())\n",
        "\n",
        "  for curr_round in range(1, rounds+1):\n",
        "    deltas, hs, local_loss = [], [], []\n",
        "\n",
        "    m = max(int(C*K), 1)    \n",
        "    S_t = client_sampling(K, m, weights=p_k, with_replace=False)\n",
        "\n",
        "    print('Round: {} Picking {}/{} clients: {}'.format(curr_round, m, K, S_t))\n",
        "\n",
        "    global_weights = model.state_dict()\n",
        "\n",
        "    for k in range(len(S_t)):\n",
        "      key = users_id[k]\n",
        "      ds_ = ds if ds else data_dict[key]['train_ds']\n",
        "      idxs = data_dict[key] if ds else None\n",
        "      local_update = ClientUpdate(dataset=ds_, batch_size=batch_size, learning_rate=lr, epochs=E, idxs=idxs, q=q)\n",
        "      delta_k, h_k, loss = local_update.train(model=copy.deepcopy(model))\n",
        "\n",
        "      deltas.append(copy.deepcopy(delta_k))\n",
        "      hs.append(copy.deepcopy(h_k))\n",
        "      local_loss.append(copy.deepcopy(loss))\n",
        "\n",
        "    # Perform qFedAvg\n",
        "    h_sum = copy.deepcopy(hs[0])\n",
        "    delta_sum = copy.deepcopy(deltas[0])\n",
        "    \n",
        "    for k in h_sum.keys():\n",
        "        for i in range(1, len(hs)):\n",
        "            h_sum[k] += hs[i][k]\n",
        "            delta_sum[k] += deltas[i][k]\n",
        "\n",
        "    new_weights = {}\n",
        "    for k in delta_sum.keys():\n",
        "        for i in range(len(deltas)):\n",
        "            new_weights[k] = delta_sum[k] / h_sum[k]\n",
        "\n",
        "    # Updating global model weights\n",
        "    for k in global_weights.keys():\n",
        "        if 'num_batches_tracked' in k:\n",
        "            continue\n",
        "        global_weights[k] -= new_weights[k]\n",
        "\n",
        "    # move the updated weights to our model state dict\n",
        "    model.load_state_dict(global_weights)\n",
        "\n",
        "    # loss\n",
        "    loss_avg = sum(local_loss) / len(local_loss)\n",
        "    print('Round: {}... \\tAverage Loss: {}'.format(curr_round, round(loss_avg, 3)))\n",
        "    train_loss.append(loss_avg)\n",
        "\n",
        "    # test\n",
        "    test_criterion = nn.CrossEntropyLoss()\n",
        "    test_accuracy_current, test_loss_current, f1_macro_current, f1_weighted_current =  testing(copy.deepcopy(model), ds_test, 128, test_criterion, num_classes, classes_test)\n",
        "    test_accuracy.append(test_accuracy_current)\n",
        "    test_loss.append(test_loss_current)\n",
        "    f1_macro.append(f1_macro_current)\n",
        "    f1_weighted.append(f1_weighted_current)\n",
        "\n",
        "  end_time = time.time()\n",
        "  \n",
        "  fig, ax = plt.subplots()\n",
        "  x_axis = np.arange(1, rounds+1)\n",
        "  y_axis = np.array(train_loss)\n",
        "  ax.plot(x_axis, y_axis, 'tab:'+plt_color)\n",
        "\n",
        "  ax.set(xlabel='Number of Rounds', ylabel='Train Loss',\n",
        "       title=plt_title)\n",
        "  ax.grid()\n",
        "  fig.savefig(plt_title+'_Train_loss.jpg', format='jpg')\n",
        "  plt.show()\n",
        "\n",
        "  fig, ax = plt.subplots()\n",
        "  x_axis = np.arange(1, rounds+1)\n",
        "  y_axis = np.array(test_loss)\n",
        "  ax.plot(x_axis, y_axis, 'tab:'+plt_color)\n",
        "\n",
        "  ax.set(xlabel='Number of Rounds', ylabel='Test Loss',\n",
        "       title=plt_title)\n",
        "  ax.grid()\n",
        "  fig.savefig(plt_title+'_Test_loss.jpg', format='jpg')\n",
        "  plt.show()\n",
        "\n",
        "  fig, ax = plt.subplots()\n",
        "  x_axis = np.arange(1, rounds+1)\n",
        "  y_axis = np.array(test_accuracy)\n",
        "  ax.plot(x_axis, y_axis, 'tab:'+plt_color)\n",
        "\n",
        "  ax.set(xlabel='Number of Rounds', ylabel='Test Accuracy',\n",
        "       title=plt_title)\n",
        "  ax.grid()\n",
        "  fig.savefig(plt_title+'_Test_Accuracy.jpg', format='jpg')\n",
        "  plt.show()\n",
        "\n",
        "  fig, ax = plt.subplots()\n",
        "  x_axis = np.arange(1, rounds+1)\n",
        "  y_axis = np.array(f1_macro)\n",
        "  ax.plot(x_axis, y_axis, 'tab:'+plt_color)\n",
        "\n",
        "  ax.set(xlabel='Number of Rounds', ylabel='F1 Macro',\n",
        "       title=plt_title)\n",
        "  ax.grid()\n",
        "  fig.savefig(plt_title+'_F1_Marco.jpg', format='jpg')\n",
        "  plt.show()\n",
        "\n",
        "  fig, ax = plt.subplots()\n",
        "  x_axis = np.arange(1, rounds+1)\n",
        "  y_axis = np.array(f1_weighted)\n",
        "  ax.plot(x_axis, y_axis, 'tab:'+plt_color)\n",
        "\n",
        "  ax.set(xlabel='Number of Rounds', ylabel='F1 Weighted',\n",
        "       title=plt_title)\n",
        "  ax.grid()\n",
        "  fig.savefig(plt_title+'_F1_Weighted.jpg', format='jpg')\n",
        "  plt.show()\n",
        "\n",
        "  print(\"Training Done!\")\n",
        "  print(\"Total time taken to Train: {}\\n\\n\".format(end_time-start_time))\n",
        "  \n",
        "  return model, train_loss, test_accuracy, test_loss, f1_macro, f1_weighted"
      ],
      "execution_count": 57,
      "outputs": []
    },
    {
      "cell_type": "markdown",
      "metadata": {
        "id": "tUYyb4T-uXmF"
      },
      "source": [
        "## Testing Loop"
      ]
    },
    {
      "cell_type": "code",
      "metadata": {
        "id": "uCcIZmO5uan9"
      },
      "source": [
        "def testing(model, dataset, bs, criterion, num_classes, classes, print_info=False):\n",
        "  #test loss \n",
        "  test_loss = 0.0\n",
        "  y_true, y_hat = None, None\n",
        "\n",
        "  correct_class = list(0 for i in range(num_classes))\n",
        "  total_class = list(0 for i in range(num_classes))\n",
        "\n",
        "  if hasattr(dataset, 'dataloader'):\n",
        "    test_loader = dataset.dataloader(batch_size=bs, shuffle=False)\n",
        "  else:\n",
        "    test_loader = DataLoader(dataset, batch_size=bs, shuffle=False)\n",
        "\n",
        "  l = len(test_loader)\n",
        "\n",
        "  model.eval()\n",
        "  for i, (data, labels) in enumerate(test_loader):\n",
        "\n",
        "    if torch.cuda.is_available():\n",
        "      data, labels = data.cuda(), labels.cuda()\n",
        "\n",
        "    output = model(data)\n",
        "    loss = criterion(output, labels)\n",
        "    test_loss += loss.item()*data.size(0)\n",
        "\n",
        "    _, pred = torch.max(output, dim=1)\n",
        "\n",
        "    # For F1Score\n",
        "    y_true = np.append(y_true, labels.data.view_as(pred).cpu().numpy()) if i != 0 else labels.data.view_as(pred).cpu().numpy()\n",
        "    y_hat = np.append(y_hat, pred.cpu().numpy()) if i != 0 else pred.cpu().numpy()\n",
        "\n",
        "    correct_tensor = pred.eq(labels.data.view_as(pred))\n",
        "    correct = np.squeeze(correct_tensor.numpy()) if not torch.cuda.is_available() else np.squeeze(correct_tensor.cpu().numpy())\n",
        "\n",
        "    for i, lbl in enumerate(labels.data):\n",
        "      try:\n",
        "        correct_class[lbl.item()] += correct[i]\n",
        "        total_class[lbl.item()] += 1\n",
        "      except:\n",
        "          print('Error', lbl, i)\n",
        "    \n",
        "  # avg test loss\n",
        "  test_loss = test_loss/len(test_loader.dataset)\n",
        "  test_accuracy = 100. * np.sum(correct_class) / np.sum(total_class)\n",
        "  # Avg F1 Score\n",
        "  f1_macro = f1_score(y_true, y_hat, average='macro')\n",
        "  # F1-Score -> weigthed to consider class imbalance\n",
        "  f1_weighted =  f1_score(y_true, y_hat, average='weighted')\n",
        "\n",
        "  if print_info:\n",
        "    print(\"Test Loss: {:.6f}\\n\".format(test_loss))\n",
        "\n",
        "    for i in range(10):\n",
        "      if total_class[i]>0:\n",
        "        print('Test Accuracy of %5s: %2d%% (%2d/%2d)' % \n",
        "              (classes[i], 100 * correct_class[i] / total_class[i],\n",
        "              np.sum(correct_class[i]), np.sum(total_class[i])))\n",
        "      else:\n",
        "        print('Test Accuracy of %5s: N/A (no training examples)' % (classes[i]))\n",
        "\n",
        "    print('\\nFinal Test  Accuracy: {:.3f} ({}/{})'.format(\n",
        "          100. * np.sum(correct_class) / np.sum(total_class),\n",
        "          np.sum(correct_class), np.sum(total_class)))\n",
        "\n",
        "    print(\"F1 Score: {:.6f} (macro) {:.6f} (weighted) %\\n\".format(f1_macro, f1_weighted))\n",
        "  \n",
        "  return test_accuracy, test_loss, f1_macro, f1_weighted"
      ],
      "execution_count": 58,
      "outputs": []
    },
    {
      "cell_type": "markdown",
      "metadata": {
        "id": "Ri0FqXFeHW-V"
      },
      "source": [
        "## Logger"
      ]
    },
    {
      "cell_type": "code",
      "metadata": {
        "id": "cMBtx9P5c1V_"
      },
      "source": [
        "log_dict = {}\n",
        "NUM_REPEAT = 1"
      ],
      "execution_count": 59,
      "outputs": []
    },
    {
      "cell_type": "markdown",
      "metadata": {
        "id": "4hO5oV6aXqeh"
      },
      "source": [
        "## CIFAR CNN on IID"
      ]
    },
    {
      "cell_type": "markdown",
      "metadata": {
        "id": "flSQv_P4zCfx"
      },
      "source": [
        "### Train\n"
      ]
    },
    {
      "cell_type": "code",
      "metadata": {
        "id": "0ZalcKZtEseA",
        "colab": {
          "base_uri": "https://localhost:8080/",
          "height": 1000
        },
        "outputId": "fef17d8c-08a5-4806-a23d-612e6333fac2"
      },
      "source": [
        "train_loss_multiple_runs = [None] * NUM_REPEAT\n",
        "test_accuracy_multiple_runs = [None] * NUM_REPEAT\n",
        "test_loss_multiple_runs = [None] * NUM_REPEAT\n",
        "f1_macro_multiple_runs = [None] * NUM_REPEAT\n",
        "f1_weighted_multiple_runs = [None] * NUM_REPEAT\n",
        "\n",
        "for exp_num in range(NUM_REPEAT):\n",
        "  print(\"Experiment Run Number: \", exp_num)\n",
        "\n",
        "  # number of training rounds\n",
        "  rounds = 50\n",
        "  # client fraction\n",
        "  C = 0.9\n",
        "  # number of clients\n",
        "  K = 100\n",
        "  # number of training passes on local dataset for each roung\n",
        "  E = 5\n",
        "  # batch size\n",
        "  batch_size = 10\n",
        "  # learning Rate\n",
        "  lr=0.05\n",
        "  # fairness\n",
        "  q = 0.001\n",
        "  # sampling\n",
        "  # sampling = 'uniform'\n",
        "  sampling = 'weighted'\n",
        "  \n",
        "  # data partition dictionary\n",
        "  iid_dict = iid_partition(cifar_data_train, 100)\n",
        "  # load model\n",
        "  cifar_cnn = CIFAR_CNN()\n",
        "\n",
        "  if torch.cuda.is_available():\n",
        "    cifar_cnn.cuda()\n",
        "\n",
        "  cifar_cnn_iid_trained, train_loss, test_accuracy, test_loss, f1_macro, f1_weighted = training(cifar_cnn, rounds, batch_size, lr, cifar_data_train, cifar_data_test, iid_dict, C, K, E, q, sampling, \"CIFAR CNN on IID Dataset\", \"orange\")\n",
        "\n",
        "  train_loss_multiple_runs[exp_num] = train_loss\n",
        "  test_accuracy_multiple_runs[exp_num] = test_accuracy\n",
        "  test_loss_multiple_runs[exp_num] = test_loss\n",
        "  f1_macro_multiple_runs[exp_num] = f1_macro\n",
        "  f1_weighted_multiple_runs[exp_num] = f1_weighted\n",
        "    \n",
        "  del cifar_cnn_iid_trained\n",
        "  torch.cuda.empty_cache()"
      ],
      "execution_count": 60,
      "outputs": [
        {
          "output_type": "stream",
          "text": [
            "Experiment Run Number:  0\n",
            "Round: 1 Picking 90/100 clients: [62 95 33 39  3 35 97 42 19 85 70 49 71 94  4 68 92 99 53 13  2 76 26 31\n",
            " 72 83 51 66 82 87 24 40  8 59 28 14 23 25 30 81 48  7 47 74 56 91 16 18\n",
            " 63 60 84 44 15 17 78 22  0 89 52 45 73 11  6 98  9 21 64 67  1 20 57 29\n",
            " 36 10 75 34 79 50 61 46 37 77 55  5 65 12 96 90 80 58]\n",
            "Round: 1... \tAverage Loss: 2.127\n",
            "Round: 2 Picking 90/100 clients: [31 58 51 64 76 50 81 74 93 69 98 33 28 23 40 25 46  1 68 86 94  6 57 95\n",
            " 49 90 85 24 63 61 82 18 83 45 53 37 55  9 84 97 80 17 44 19 96 77 10 36\n",
            " 47 20 91 88 32 14 26  5 59  2  8 42 73  3 99 16 38  4 56 66 79 54 15 29\n",
            " 39 71 72 13 65 89 87 92  0 35  7 12 27 34 70 78 11 41]\n",
            "Round: 2... \tAverage Loss: 2.009\n",
            "Round: 3 Picking 90/100 clients: [92 89 69 64 47 79 14 88 86  7 81  6 29 59 45 44 37 90 57 77 39  9 16 83\n",
            " 73 10 72 27 65  1 75  2 60 70 91 63 17 76 31 21 30 19 38 97  4 95 54 56\n",
            " 25 23 40 41 58 78 42 84 85 74 66 98 46 22 48 62 71 94 49 87 34 67 11 28\n",
            " 80 51 33 43  0 61 36  3 32 99 52 82 15 96 55 50  8 20]\n",
            "Round: 3... \tAverage Loss: 1.893\n",
            "Round: 4 Picking 90/100 clients: [10 34 43 66 86 82 36  9 28 45 52 88 67 14 70 73 92 25 47 81 13 39 71 22\n",
            " 26 59 64 37 38 78 42 55 72 61 65  6  0 91 27 23 97 63 68 46 98 51  3 32\n",
            "  2 18 54 15 16 24 85  4 58 90 33 77 80 69 95 87 20 11 44  8 50 12 79 76\n",
            " 53 99  7 56 48 57 19  1 74 83 31 29 41 30 93 62 21 89]\n",
            "Round: 4... \tAverage Loss: 1.8\n",
            "Round: 5 Picking 90/100 clients: [46 71 52 78 72 34 18 65  9 57 29 31 23 33 84 27 64 80 40 93 89 12 74 25\n",
            " 11 63 86 81 15 83 77 36 16 24 75  6 19 45 37 55  1 17 49 51 92 99 42 28\n",
            " 79 53 67 66 10 87  3 43 70 22 58 14 60 91 85 41 38  0 32 97 30  2 56 73\n",
            " 95 39 76 68  4 98 82 26  7 21  8 90 54  5 47 44 62 96]\n",
            "Round: 5... \tAverage Loss: 1.719\n",
            "Round: 6 Picking 90/100 clients: [12 96 61 56 82  0 52 46  5 19 51 25 41 14 44 54 36 78 48 94 35 87 26 28\n",
            " 43  3 32 84 93 18 79  1 70 63 69 64 99 97 92 11 59 75 38 76 53 74 37 45\n",
            " 90  2 47 89 17 86 58 31 85 10 72 67 22 60 42 30 98  4 34 71 23 24 83 15\n",
            "  8 40 49 20 27 16 91 13 55 33 57 50  7  9 80 65 29 39]\n",
            "Round: 6... \tAverage Loss: 1.648\n",
            "Round: 7 Picking 90/100 clients: [40 25  3 34 50 85 96 31 47 21 61 32 81 67 86 82 68 27 97 78 12 66 33 29\n",
            "  4 38 24 62 10 64 79 84 90  2 22 49 45 44 51 87 37 54 89 46 74 93  0 18\n",
            "  1 35 76 36 39 55 11 59 28 26 19 60  9 53 58 98 63 13 69 91 95 65 42 92\n",
            " 20 16 17 72 43 77  5 52 23 83 75 88  8 56 15 57 14 73]\n",
            "Round: 7... \tAverage Loss: 1.578\n",
            "Round: 8 Picking 90/100 clients: [19 26 13 66 14  6 54 30 18 98  0 31 61 58 86  2 85 73 35 75 76 34 82 39\n",
            " 43 41 28 50 72 57 12 51 33 93  9 92 97 11 16 40 23 15 83 78 60 38 36 20\n",
            "  7 24 37 68  5  1 21 17 55 89 99 63 42 67 53  8 95 74  4 91 10 80 62 22\n",
            " 45 65 96  3 29 48 79 46 69 81 47 71 90 70 59 49 77 27]\n",
            "Round: 8... \tAverage Loss: 1.513\n",
            "Round: 9 Picking 90/100 clients: [51 90 68 97 16 43 24 52 12 61 56 30 58 67 86  1 23 70 89 19 74 59 99 31\n",
            " 40 18  0 65 50 76 46 92 21 53 72 78 13  3 27 96 73 15 85 49 10 83 48  5\n",
            " 79 84 60 20 44 34 98 57 22 29  6 28  4 87 54 45 14 39 93 33  7 91 63 66\n",
            " 38 55 95 82 47 88  9 17  8 64 37 25  2 26 77 11 69 71]\n",
            "Round: 9... \tAverage Loss: 1.451\n",
            "Round: 10 Picking 90/100 clients: [30 47  1  8 67 39 40  7 50 96 79 81 34 72 18 76 20 87 55 83 19 65 69  4\n",
            " 31 94 12 41 97  2 80 70 95 86 27 68 33 99 15  3 22 46 29 16 85 56 77 93\n",
            " 62 35 13 37  6 45 73 49 90 25 43  0 61 64 10 78 32 89 60 63  9 44 66 75\n",
            " 88 51 28 52 57 23 82  5 26 36 48 92 58 74 59 98 53 14]\n",
            "Round: 10... \tAverage Loss: 1.392\n",
            "Round: 11 Picking 90/100 clients: [20  8  5 18 33 43 29 59 37 42 58 23 12 52 71 26 51  2 46 63 72 28 39 27\n",
            " 69 81 15 49 48 68 91 14 94 21 36 17 98 53 22  9 55 56 75 73 38 41 30 65\n",
            " 61 11 99 84 80 67 96 57 76 45  4 24 40 79 62  3 93 32 34 50 90 16  0  6\n",
            " 85 35 19 92 13 89 31 10  1 66 25 74 47 86 77 95 87 60]\n",
            "Round: 11... \tAverage Loss: 1.337\n",
            "Round: 12 Picking 90/100 clients: [28 65 29 59 46 92 43 22 42 38 12 77 23 50 10 84  0 39 16  9 60 30 55 58\n",
            " 66 82 83 41 72 37 95 48 15 51 69  7  3 62 57 56  2 14 47  1 13 18 11 64\n",
            " 53 63 93 74 79 40 71 54 61 19 75  8 85 98 96 89 94 68 91  5 87 36 78 26\n",
            " 86 20 99 52 88 49 17 90 67  4 70 80 24 34 33 76 32 35]\n",
            "Round: 12... \tAverage Loss: 1.286\n",
            "Round: 13 Picking 90/100 clients: [41 88 71 60  0 53  1 80 81  7 19 95 20 24 39 84 64 38  9 34  6 16 49 14\n",
            " 32 87 44 42 90 66 47 93 75 56 59 70 86 40 79 62 50 35 58 63 99 26 45 92\n",
            " 91 17 74 72 67  3 27 15 69 89 23  5 77 33 98 30 61 37 52 96 51 43 29 94\n",
            " 18 36 22 73 13 97 54 11 31 85 76 82 57 78 21 10 12 68]\n",
            "Round: 13... \tAverage Loss: 1.234\n",
            "Round: 14 Picking 90/100 clients: [69 78  9 75 35 25 12 71 64 91  4 88 43 80 76 36 68 62 56 53 95 38 73 51\n",
            " 27 99 49 50 18  5  1 81 30 60 34 70 86 37 84 89 96 23 26  2 74 98 77 20\n",
            " 48 97 93 39 83 90  7 10 21 66 41  8 40 33  6 13 65 94 92 15 11 28 87 32\n",
            " 14 16 58 47 24  3 22 46 79 17 82 29  0 42 31 52 44 72]\n",
            "Round: 14... \tAverage Loss: 1.185\n",
            "Round: 15 Picking 90/100 clients: [18  3 48 73 66 36 40  4 97 10 13 19 30 84 64 56 34 12 23 25  6 98 99 63\n",
            " 29 28  5 27 61 55 45 94 15 21  0 58 49 33 41 86 37 82 72 92 87 59 67 11\n",
            " 83 77 32 91 14 75 70 43 44 96 69 38 17  9 95  2 89 80 60 52 53  1 31  8\n",
            " 65 50 88 51 74 93  7 47 68 62 46 78 39 16 81 79 22 20]\n",
            "Round: 15... \tAverage Loss: 1.136\n",
            "Round: 16 Picking 90/100 clients: [33 25 96 71 61 86 32 27 95  6 41 89 46 20 78 55 98 60 12 83 37 22  2 74\n",
            "  3 53  5 90 14 21  7 13 58 97 92 82 40 39  0 63 62 38 81 36  1 69 59  8\n",
            " 67  9 79 64 45 48 84 15 11 73 87 72 94 42 18 28 85 44 65 47 23 68  4 29\n",
            " 80 49 16 76 54 93 30 91 75 52 99 50 26 35 43 56 19 24]\n",
            "Round: 16... \tAverage Loss: 1.087\n",
            "Round: 17 Picking 90/100 clients: [78 58 64 48 22 81  1 77 92 85 91 18 68 95 52 72 36 69  3 83 49 32 96 37\n",
            " 66 61 46 12  9  0 93 29 15 45 19 14  7 30 16 80 53  5 67 97 23 75 84 59\n",
            " 62 56 88 79 10 35 65 73 71 40 13 90  4  2  8 41 51 43 47 87 17 57 20 94\n",
            " 25 27 74 76 26 42 60 11 63 54 33 98 44  6 28 86 34 55]\n",
            "Round: 17... \tAverage Loss: 1.046\n",
            "Round: 18 Picking 90/100 clients: [15 58 60 50 59 14 82 49 52 18 22 79 63 96 51 24 67 90 16 33 11 68 37 13\n",
            " 64 20 98 89 85 78 71 32 86 44 84 72 21 55 92 62 97 17 56 69 23 87 73 99\n",
            " 80  2  9 27 36  5 77  8 26  3 12 35 74 57 39 31  4 81 66  1 76 53  0 94\n",
            " 45 47 83 65 19 29  6 10 34 28 48  7 54 38 88 93 95 46]\n",
            "Round: 18... \tAverage Loss: 1.003\n",
            "Round: 19 Picking 90/100 clients: [41  9 44 59 68 30  3 64 70 58 89 36  6 67 65 62 16 80 87 66 51 81 29 31\n",
            " 52 63 60 61 43 26 33 85 74 27 19  8 20 83 99 11 37 90 94  7 79 32 91 39\n",
            " 77  1 72 57 28 22 95 88 71 15 97 38 40 92 14 24 55 10 12 93 76 98 54 56\n",
            " 13 35 50 21 53 25 17 23 34 86 73  2 48 84 18 96  5  4]\n",
            "Round: 19... \tAverage Loss: 0.965\n",
            "Round: 20 Picking 90/100 clients: [91 46 47 22  0 69 51 39 97 17 72 81  2 79 13 35 50 20  8 18 26 32  3 29\n",
            " 76 53 52 33 37  9 60 42 71  4 12  6 84 30 58 55 27 61 54 43 34 56 11  7\n",
            " 87 49 75 68 64 36 45 48 38 65 16 70 88 83 98 15 80 82 89 73 77 57 44 25\n",
            " 59 10 66 31 67 92 24 95 99  1 62 85 90 28 21 40 23 93]\n",
            "Round: 20... \tAverage Loss: 0.927\n",
            "Round: 21 Picking 90/100 clients: [ 2 53 61 13 85 88  0 27 31 76 10 90  3 80 62 91 30 34 50 63 12 83 45 18\n",
            " 98 97 54 51 58 28 77 23 47 25 46 84 99 11 17 21 68 70 37 87 38 74 92 69\n",
            " 52 16 71  1 86 72 81 33 32 35  4 94  5 19  9 14 55 43 73 29 56 36 42 48\n",
            " 65 22  6  7 20 93 89 60 24 41 96 75 15 82 79 44 26  8]\n",
            "Round: 21... \tAverage Loss: 0.898\n",
            "Round: 22 Picking 90/100 clients: [53 43 10 81 15 46 57 31  9 20  2 45 92 84 52 60 74 63 85 11  5 13 28 98\n",
            " 54 86 97 21 16 69 29 50 47 34 18 33 12  4 27 38 30 58 22 91 35 49 32 19\n",
            " 68 24 87 76 48 73 71 51 37  8 39 66  6 89 79 93 99 14 59 80 62 23 72 42\n",
            " 82 78  7 36 67 41 25  0 70 75 65 26  1 83 64 96 94 44]\n",
            "Round: 22... \tAverage Loss: 0.863\n",
            "Round: 23 Picking 90/100 clients: [ 1  4 36 97 94 81 77 99 74  3  0 18 25 88 43 69 14 49 70 79 56 12 86 21\n",
            " 50 90 15 75 52 41 68 65 58 78 28 76 11  7 24 39 47 33 55 83 48 10 91 51\n",
            " 27 16 89  8 53 93  6 46 84 87  9 63 29 38 30 92 23 35 72 31 19 71 61 96\n",
            "  5 54 40 26 98 20 59 66 44 37 22 85 60 13 73 32 67 95]\n",
            "Round: 23... \tAverage Loss: 0.832\n",
            "Round: 24 Picking 90/100 clients: [77 35  4 20  0 43  6 76 12 54 22 52 88 87 81 84 51 47  1 16 24 37 46 66\n",
            " 65 61  5 55 36 31 48 93 60 95 85 62 67  8 82 72 74 34 49 57 14 19 56 26\n",
            "  9 86  3 11 13 18  2 23 53 64 25 68 42 39  7 73 30 29 96 80 79 98 27 40\n",
            " 70 44 99 75 90 58 50 69 21 91 32 97 33 78 45 41 71 89]\n",
            "Round: 24... \tAverage Loss: 0.808\n",
            "Round: 25 Picking 90/100 clients: [ 7 48 43 40 92 32 25 49 28 16 21 94  9 51 64 36 27  0  1 98 79 31 37 75\n",
            " 72 63 90 66 34 23 29 45 80 10 85 69 78 20  8 47 35 97 55 52 12 59 14 76\n",
            " 30 44 46 15 88 62 19 84 58 38 99 73 77 39 18 83 42 68 93 74  4  2 95 33\n",
            " 87 53 82 65  5 70 50 41 67  6 57 24  3 56 11 81 22 71]\n",
            "Round: 25... \tAverage Loss: 0.78\n",
            "Round: 26 Picking 90/100 clients: [20  1 18 69 39 93 40 84 22 95 61  0 55 65 78 80 12 11 70 42 72 41  2 56\n",
            " 36 62 86 43 34 57 79 45  9 82 74 38 91  3  5 32 15 60 31 28 94 37  4  8\n",
            " 89 30 83 35 90 17 46 71 97 67 64 29 63 47 26 54 14 44 48 21 88 77 24 27\n",
            " 10 33 75 96 68 81  6 85  7 87 49 73 25 13 16 52 50 23]\n",
            "Round: 26... \tAverage Loss: 0.758\n",
            "Round: 27 Picking 90/100 clients: [63  7 51  9 43 41 21 50 47 39 53 32  4 77 57 97 17 31 96 90  3 75 38 64\n",
            " 62 68 82  5 92 84  6 74 42 19  8 44  0 27 70 91 60 61 86 95 52 40  2 13\n",
            " 80 25 56 98 26 65 33 35 81 76 46 88  1 14 85 29 37 87 72 83 22 30 78 15\n",
            " 58 67 69 48 16 45 49 89 36 59 18 12 94 28 99 93 34 79]\n",
            "Round: 27... \tAverage Loss: 0.734\n",
            "Round: 28 Picking 90/100 clients: [59 42 65 51  0 60 81  5 89 23 91  2 74 66 35 73 55  9 18 90  8 82 28 26\n",
            " 21 39 71 84 30 96 77 37 78  4  6 56 36 14  1 48 40 38 32 99 88 80 22 67\n",
            " 33 85 98  7 54 20 43 94 57 93 61 11 12 92 49 34 63 24 97  3 79 86 44 87\n",
            " 75 70 52 83 69 45 68 17 19 50 95 41 53 72 27 46 47 31]\n",
            "Round: 28... \tAverage Loss: 0.711\n",
            "Round: 29 Picking 90/100 clients: [84 80 96 32 24 91  7 18 25 74 83 55 39 49 17 47 72 11 99 35 85 30  5 44\n",
            " 10 90 81 65 40 98  3 48 45 12 41 63 29 82 54 38 36 50 67 87 77 95 78 51\n",
            " 88 70 37 73 31 94  2 62 75 66 20 52 22 64 58 57  4 46 34 19 13 53 76 23\n",
            "  9  0 89  8 16 27 33  6 59 97 93 14 28 71 21 42 61 86]\n",
            "Round: 29... \tAverage Loss: 0.69\n",
            "Round: 30 Picking 90/100 clients: [46 83  5 56 12 75  3 87 27 45 41 20 86 71 60 24 16  1 97 49 23 35 10 34\n",
            " 22 69 84 73 82 39 25 64 31 77 14  8 52 18 66 94 61 58 29 62 92 95 93 21\n",
            " 37 30 15 72 43 42 13 79 36  2 44  4 96 78 59 47 54 32  7 88 65 68  6 40\n",
            " 38 26 70  9 17 63 80 50  0 89 91 76 53 99 67 19 55 85]\n",
            "Round: 30... \tAverage Loss: 0.671\n",
            "Round: 31 Picking 90/100 clients: [ 8 88 32 15 81 72 35 42 92 68 80 76 82  6 20 13 96 50 10 78 16 41 31 59\n",
            " 24 71  7 83 99 58 79 49 61 12 21 17 28 27 37 19 90 91 45 34 95 48 85 52\n",
            " 14 70 94 30  3  0 69 40 18 86 56 87 63 74  2 51 44 54 66  5 77 36 64 26\n",
            " 93 97 53 60 62 55 39 73 46 25 47 38 22 89 23 65 84 57]\n",
            "Round: 31... \tAverage Loss: 0.652\n",
            "Round: 32 Picking 90/100 clients: [43 76  2 70 94 77 38 91 61 52 85  4 10 51 36 23 55 56 78 80 13 62 27 12\n",
            " 81 75 16 71 90 17 98 88 60 18 21  5 65 54 84 68 25 66 64 33 37 40 30 22\n",
            " 89 49 20 69 46 92 15 39 63 59 72 24 34 42 53 83 97 31 58 44 73 47 79  6\n",
            "  8 99 96 26 28 41 48  9 11 35 74 95  1 14 87 50 82 57]\n",
            "Round: 32... \tAverage Loss: 0.633\n",
            "Round: 33 Picking 90/100 clients: [69 58 17 45 98 78 15 71 76 30 61 84 90 62 67 65 56 11 77 25 86  8  1 72\n",
            " 51 32 99 88 48 31 23 27 94 63 97 26 14 44  5 66 57 10 96 18 33 80 68 87\n",
            " 74  2 82 20 41 81 19  9 55  7 13 85 64  0  6 24 91 22 89 50 93 12 70 59\n",
            "  4 83 79 36 53 39 42 92 75 38 49 47 29 37  3 40 73 35]\n",
            "Round: 33... \tAverage Loss: 0.619\n",
            "Round: 34 Picking 90/100 clients: [53 35 41 21 17  7 48 60 63 49 68 76  6 18 67 64 70 19 98 52 40 54 79 91\n",
            " 77 33 83 69 84 94 65  2 24 92 89 74 80 26 43 95 15  8 71 59 55 88  4 31\n",
            " 44 20 45 34 14 75 46 85 73 78 50 28 36 10 57 86 90 11 47 66 62 32 42 29\n",
            " 23  5 16 61 39 30 96 87 38 22 82 72 93 13 25 56 99  3]\n",
            "Round: 34... \tAverage Loss: 0.602\n",
            "Round: 35 Picking 90/100 clients: [97 99 28 19 58  7 20 92 22 34 63 10 84 94  9 88 21 55 32 23 68 89 79 59\n",
            " 83 96  3 70 71 30 74 45 15  8 85  2 53 33 40  6 76 25 31 86 81  0 77 26\n",
            " 17  5 54 73 56 60 18 87 37 52 39 67 14 44 90 80 49 48 66 62 51 12 16 11\n",
            " 57 36 61 95 47 13 27 43 50 82 78 65 93 35 38 46 91 64]\n",
            "Round: 35... \tAverage Loss: 0.587\n",
            "Round: 36 Picking 90/100 clients: [15 38 89 25 72 22 92 96  4 88 27 51 49 97 53 37  6 11 80 73 28 63 90 24\n",
            " 62  2 85 32 82  7 79 20 70 55 61 31 52 81 83 18 21 65 60 23 13 71 40 76\n",
            "  9 33 36 12 58  1 47 93 35 87 74 30 44 19 17 67 66 98 16  8 95 10 26 77\n",
            " 45 78 41  0 39 75  5 91 59 99 29 54 94 14  3 56 46 43]\n",
            "Round: 36... \tAverage Loss: 0.578\n",
            "Round: 37 Picking 90/100 clients: [ 6 20  7 17 88 25 83 68  4 21 91 85 73 56 15 90 28 37 40 84 18 65 55 23\n",
            "  2 30 36 41 76 43 97  8 77 54 87 34 89 39 86  0 19 12 69 61 50 95 72 64\n",
            " 70 47 51 99 81 35 66  5 49 78 62 98 59 71 57 10 93 24 45 67 53 13 79 96\n",
            " 29 31 16 63 52 27  3 60 42  9 58 82 22 92 33 74 26 44]\n",
            "Round: 37... \tAverage Loss: 0.558\n",
            "Round: 38 Picking 90/100 clients: [91 79 72 93 83 94 84 45 69 65 97 25 75 46 44 22 36 43  9  5 90 70 23 13\n",
            " 54 77  0 17 78 48 63 16 18 21 55 15 24  8 73  3 99 58 81 12 92  7 39 61\n",
            " 67 37 49 62 59 31 85 27 76 51 26 32 40 30 86 11 52 38 88  1 66 60  6  2\n",
            " 47 80 71 87 10 53 29 95 50 34 28 56 33 74 64 82 98 96]\n",
            "Round: 38... \tAverage Loss: 0.544\n",
            "Round: 39 Picking 90/100 clients: [80 95 17 50 38 57 53 74 61 44 91 45 76 51 85  2 39 90 15 37 78 33 97 19\n",
            " 22 18  9 67  6  8 34 41  3 25 58 43 79 24 66 92 71 36 93 70 81 28 12 14\n",
            " 47 23  7 16 11 35 83 89 77 30 56 63 52  4 48 46  0 31 55 86 26 84 27 88\n",
            " 82 87 42 99 72 10  1 60 29 98 40 59 73 21 75  5 94 49]\n",
            "Round: 39... \tAverage Loss: 0.535\n",
            "Round: 40 Picking 90/100 clients: [72  6 76 12 82 86 47 73 98 21 16 24  4 36 85 39 67 65 38 70 83 93 64 43\n",
            "  9 74 51 63 68 25 48 45 32 33 41 22 69 90 31 80 19 88 27 95 77 11 13 75\n",
            " 10 20 92 40 79 46 28 44 17 81 30 52 97 59 94  8 55 34 99 84 96 56 61 15\n",
            " 71  7 58 57 18 29 66 53 78 87 54  3  1 14 60 49  5 35]\n",
            "Round: 40... \tAverage Loss: 0.522\n",
            "Round: 41 Picking 90/100 clients: [26 54 81 21 75 47 97 45 96 83  2  7 42 61 40 27 13 36 64  8 66 82 25  6\n",
            "  4 17 91  9 57 19 33 11 62 59 71 55 60 51 89 39 14 56 63 65 12 85 20 95\n",
            "  5 79 88 74 24 31 34 23 93 22 10 69 68 53 90 76 43 73 16 28 38 44 49 15\n",
            " 80 48 78 58  0 52  1 72 30 50 18 98 37 87 70 77 41 99]\n",
            "Round: 41... \tAverage Loss: 0.513\n",
            "Round: 42 Picking 90/100 clients: [57 59 83 23 22 91 47 98 34 76 86 92 85 54 58 66 60  1 14 61 94 12 28 33\n",
            " 37  8 35  3 15 41 29 56 40 72 52 78 46 77 26 48  6 16 89 63 30 84  5 13\n",
            " 19 32 79 73 81 62 96 53 20 25 17  9 93 88 71 87 44 55 70 11 97 38 51 39\n",
            " 74 67 31 45 69 42 90 50 64 10 43 65  0 21  2 82  7 27]\n",
            "Round: 42... \tAverage Loss: 0.503\n",
            "Round: 43 Picking 90/100 clients: [74 36  9 41 78 40 11  6 21 54 22  2 51 65 91 53 66 77  1 18 45 55 69 16\n",
            " 64 76 46 52 44 84 12 13 63 61 68 14 10 98 20 27 26 59 43 33 92 30 62 15\n",
            " 50 57 23 29  5 38 97 42 47 94 34 24 89 93 87  7 81 79 25 96 31  4 80  8\n",
            " 85 82 28  3 35 99 58 48 17 75 70 67 86 49 19 72 95 83]\n",
            "Round: 43... \tAverage Loss: 0.491\n",
            "Round: 44 Picking 90/100 clients: [38 79 71  2 23 12 28 77 49 72 67 41 68 94 13 19 60 97 14 16 25 91 78 84\n",
            " 45 85 54 56 95 35 82 37 81  9  4  7 65 10 42 93  0 43 86 34 52 90 80 46\n",
            " 11 20 83 87 69 89 55 53 66 24 40 62 98 30 31 73 99 61 88 22 48 27 18 74\n",
            " 70 39 92 63  1 58 51 29 17 15  8  3  6 26 50 57 21 75]\n",
            "Round: 44... \tAverage Loss: 0.484\n",
            "Round: 45 Picking 90/100 clients: [32 91 80 89 93 76 94  6 10 73 53 20 37 66 24 25 65 27 78  0 59 30  3 60\n",
            " 67 47 96 64 35 63 74 55 17 31 26 58 33 50 13 43 48  9 72 46 86 62 15  8\n",
            " 41 51 90 68 57  1 61 18 81 14  2 83 21 28 29 16 49 42 84 98 39 45 82 11\n",
            " 54 12  7  5 38 44 99 92 97 56 19 52 85 70 34 36 77 87]\n",
            "Round: 45... \tAverage Loss: 0.473\n",
            "Round: 46 Picking 90/100 clients: [ 3 83 40 24 58 77 27 50 38 81 91 96 63 88  8 47  6  5 16 86 12 74 48 93\n",
            " 32 37 55 57 67 39 20 85 17 80 64 73 89 72 41 42  2 60 31 95 52 25 69 82\n",
            " 14 75 90 54 15 19 61 26 49 28 43 34 98 30 13 35 78 94 21  1 46 71 99 97\n",
            "  9 65 62 44 23 53 79 11 87 29 33 45 22 66 68  0 84 36]\n",
            "Round: 46... \tAverage Loss: 0.465\n",
            "Round: 47 Picking 90/100 clients: [25 77 97 72 27 64 68 53 81 56 10 57 70 74 99 59  3 96 98 65  6 94 16 20\n",
            " 35 90 39  8 13 44 34 48 23 46 28  4 58  0 33 36 37  2 43  7 62 42 22 31\n",
            " 88 54  5 18 91 14  1 92  9 47 12 71 83 52 29 17 51 85 75 67 86 55 82 15\n",
            " 87 79 30 40 26 69 78 45 38 84 76 93 66 49 95 73 60 19]\n",
            "Round: 47... \tAverage Loss: 0.455\n",
            "Round: 48 Picking 90/100 clients: [76 58 45 91 51 16 85 49 74 64 18 90 69 67 14 96  5 28 24 39  0 22  7 62\n",
            " 65 87 43 31 13 40 60 92  1 68 75  6 41  8 50 52 25 17 94 48 63 84 42 82\n",
            " 47 57 81 20 73  3 95 97 80 33 19 35 66 79 15 38 29 86 59 36 78 27 55 32\n",
            " 12 71 89 30  4 83 61 37 77 46 70 34 54  2 98 21 88 99]\n",
            "Round: 48... \tAverage Loss: 0.449\n",
            "Round: 49 Picking 90/100 clients: [30 83 67 74 17 82 11 35  7 88 90 44 68 29 93 45 26 42 19 32 65 43  2 85\n",
            " 86 56 53 10 14 78 60 24 72 92 95 80 28  1 66 87 98 76 21 97 75 41 31  4\n",
            " 51  0 33 91 38 40 59 27 73 94 96  5 15 64 12 89 49 34  6 99 71 57 23 63\n",
            " 55  3 62 39 47 16 61 84 79 58 50 69 48 20 22 81 77  9]\n",
            "Round: 49... \tAverage Loss: 0.441\n",
            "Round: 50 Picking 90/100 clients: [ 4 48 52 55 96 43 63 46 10 40 71 12 32 78 24 25 66 67 21 30 88 17 97 38\n",
            " 86 51 92 94 53 61 59 73 81 49 50 74  8 14 77 80  6 42 41 87 39 60 64 29\n",
            " 58 20 99 23 31 37 47 27 91  2 36 15 28 18 83 54  7 75 11 65 22 13 19 33\n",
            "  3 45 70 76 26 35 16 56  1 68 89 62 79 93 84 85 82  5]\n",
            "Round: 50... \tAverage Loss: 0.432\n"
          ],
          "name": "stdout"
        },
        {
          "output_type": "display_data",
          "data": {
            "image/png": "[encoded data removed]",
            "text/plain": [
              "<Figure size 432x288 with 1 Axes>"
            ]
          },
          "metadata": {
            "tags": [],
            "needs_background": "light"
          }
        },
        {
          "output_type": "display_data",
          "data": {
            "image/png": "[encoded data removed]",
            "text/plain": [
              "<Figure size 432x288 with 1 Axes>"
            ]
          },
          "metadata": {
            "tags": [],
            "needs_background": "light"
          }
        },
        {
          "output_type": "display_data",
          "data": {
            "image/png": "[encoded data removed]",
            "text/plain": [
              "<Figure size 432x288 with 1 Axes>"
            ]
          },
          "metadata": {
            "tags": [],
            "needs_background": "light"
          }
        },
        {
          "output_type": "display_data",
          "data": {
            "image/png": "[encoded data removed]",
            "text/plain": [
              "<Figure size 432x288 with 1 Axes>"
            ]
          },
          "metadata": {
            "tags": [],
            "needs_background": "light"
          }
        },
        {
          "output_type": "display_data",
          "data": {
            "image/png": "[encoded data removed]",
            "text/plain": [
              "<Figure size 432x288 with 1 Axes>"
            ]
          },
          "metadata": {
            "tags": [],
            "needs_background": "light"
          }
        },
        {
          "output_type": "stream",
          "text": [
            "Training Done!\n",
            "Total time taken to Train: 9804.947349309921\n",
            "\n",
            "\n"
          ],
          "name": "stdout"
        }
      ]
    },
    {
      "cell_type": "markdown",
      "metadata": {
        "id": "wNwC82przF6G"
      },
      "source": [
        "### Test"
      ]
    },
    {
      "cell_type": "code",
      "metadata": {
        "id": "qB97BFs9we9w"
      },
      "source": [
        "# criterion = nn.CrossEntropyLoss()\n",
        "# acc, loss, f1_macro, f1_weighted = testing(cifar_cnn_iid_trained, cifar_data_test, 128, criterion, num_classes, classes_test, True)"
      ],
      "execution_count": 61,
      "outputs": []
    },
    {
      "cell_type": "code",
      "metadata": {
        "id": "gdQZEZmHHeqt"
      },
      "source": [
        "hyperparams = {'rounds': rounds,\n",
        "               'C': C,\n",
        "               'K': K,\n",
        "               'E': E,\n",
        "               'batch_size': batch_size,\n",
        "               'lr': lr,\n",
        "               'q': q,\n",
        "               'sampling': sampling\n",
        "               }\n",
        "\n",
        "log_dict['CIFAR CNN on IID'] = {'train_loss': train_loss_multiple_runs, \n",
        "                                'test_loss': test_loss_multiple_runs, \n",
        "                                'test_accuracy': test_accuracy_multiple_runs,\n",
        "                                'f1_macro': f1_macro_multiple_runs,\n",
        "                                'f1_weighted': f1_weighted_multiple_runs,\n",
        "                                'hyperparams': hyperparams,\n",
        "                                }"
      ],
      "execution_count": 62,
      "outputs": []
    },
    {
      "cell_type": "markdown",
      "metadata": {
        "id": "uF8MdSIUYcnl"
      },
      "source": [
        "## CIFAR CNN on Non IID"
      ]
    },
    {
      "cell_type": "markdown",
      "metadata": {
        "id": "a6wXX7JW11bx"
      },
      "source": [
        "### Train\n"
      ]
    },
    {
      "cell_type": "code",
      "metadata": {
        "id": "fCD3kBCKYfBK",
        "colab": {
          "base_uri": "https://localhost:8080/",
          "height": 1000
        },
        "outputId": "07695f9b-70f4-4772-d7c3-13fd69b649db"
      },
      "source": [
        "train_loss_multiple_runs = [None] * NUM_REPEAT\n",
        "test_accuracy_multiple_runs = [None] * NUM_REPEAT\n",
        "test_loss_multiple_runs = [None] * NUM_REPEAT\n",
        "f1_macro_multiple_runs = [None] * NUM_REPEAT\n",
        "f1_weighted_multiple_runs = [None] * NUM_REPEAT\n",
        "\n",
        "for exp_num in range(NUM_REPEAT):\n",
        "  print(\"Experiment Run Number: \", exp_num)\n",
        "\n",
        "  # number of training rounds\n",
        "  rounds = 50\n",
        "  # client fraction\n",
        "  C = 0.9\n",
        "  # number of clients\n",
        "  K = 100\n",
        "  # number of training passes on local dataset for each roung\n",
        "  E = 5\n",
        "  # batch size\n",
        "  batch_size = 10\n",
        "  # learning Rate\n",
        "  lr=0.05\n",
        "  # fairness\n",
        "  q = 0.001\n",
        "  # sampling\n",
        "  # sampling = 'uniform'\n",
        "  sampling = 'weighted'\n",
        "  \n",
        "  # dict containing different type of data partition\n",
        "  data_dict = non_iid_partition(cifar_data_train, 100, 200, 250, 2)\n",
        "  # load model\n",
        "  cifar_cnn = CIFAR_CNN()\n",
        "\n",
        "  if torch.cuda.is_available():\n",
        "    cifar_cnn.cuda()\n",
        " \n",
        "  cifar_cnn_non_iid_trained, train_loss, test_accuracy, test_loss, f1_macro, f1_weighted = training(cifar_cnn, rounds, batch_size, lr, cifar_data_train, cifar_data_test, data_dict, C, K, E, q, sampling, \"CIFAR CNN on Non-IID Dataset\", \"green\")\n",
        "\n",
        "  train_loss_multiple_runs[exp_num] = train_loss\n",
        "  test_accuracy_multiple_runs[exp_num] = test_accuracy\n",
        "  test_loss_multiple_runs[exp_num] = test_loss\n",
        "  f1_macro_multiple_runs[exp_num] = f1_macro\n",
        "  f1_weighted_multiple_runs[exp_num] = f1_weighted\n",
        "\n",
        "  del cifar_cnn_non_iid_trained\n",
        "  torch.cuda.empty_cache()"
      ],
      "execution_count": 63,
      "outputs": [
        {
          "output_type": "stream",
          "text": [
            "Experiment Run Number:  0\n",
            "Round: 1 Picking 90/100 clients: [94  1 80 16 82 41 69 22 59 91 83 28 43 15  5 49 42 93  8 17 14 13 26 99\n",
            " 31 76 12 33 50 75 29 47 55 95 46 81 20 54 23 92  9 40 51 52 27  6 89 60\n",
            " 58  4 79 87 39 64 70 38 48  0 30 72 74 18 24 97 77 90 56 53 44 36 35 96\n",
            " 32  7 62 78 10 88 25 21 37 11 45 63 71 61 84  2 19 68]\n",
            "Round: 1... \tAverage Loss: 0.619\n",
            "Round: 2 Picking 90/100 clients: [19 72 79  8 70 10 66 28 83 98 95 38 29 87 36 92 33 39 34 17 51 47  2 96\n",
            " 46 86 37 85 65 58 60 13 48  6 57 82 63 64 49 76 97 14 89 71 25 24  0  9\n",
            " 12 43 75 62 81 42 41 53 45 90 67 91 68 52  4  3  1 88 56 77 99 74 50  7\n",
            " 20 69 27 78 21 23 11 73 32 54 61 26 55 94 22 18 84  5]\n",
            "Round: 2... \tAverage Loss: 0.585\n",
            "Round: 3 Picking 90/100 clients: [26 82 17 70 72 10 14 84  6 30 50 11 56 49 19 33 83 37 22 16 67 35 43  2\n",
            " 21 63  3 77 69  5 13 20 61 60 27 91 54 31 23 57  8 94 38 74 34 12 53 85\n",
            " 29 39 73 40 45 44 98 93 68 75 81 95  1 88 65 46 86 71 90 76 66 99 41 28\n",
            " 42 47 62  0 36  7 87 80 24 59 51  4 79 97 89 18 78  9]\n",
            "Round: 3... \tAverage Loss: 0.536\n",
            "Round: 4 Picking 90/100 clients: [88 14 16 49 57 71 85  8 56 29 48 78 23 68 30 67  3 27 84 28 60 35 55 95\n",
            " 73 47 51  1 26 58 46 96 90 83  9 18 21 59 77 61 81 98 87  6 41  5 93 54\n",
            " 63  2 13 89 92 15 40 99 64 70 97 24 80 37 17 39 65 52 33  7 25 79  0 43\n",
            " 69 22 42 66 34 50 72 62 32 91  4 19 74 82 94 53 76 45]\n",
            "Round: 4... \tAverage Loss: 0.499\n",
            "Round: 5 Picking 90/100 clients: [35 57 28  7 88 58 65 16 17 31 51 33 76 18 20 89 74 85 64 53 80  5 19 22\n",
            " 66  4 39  2 95 23 15 38 55 41 21 63  6 94 97 69 59 47 52 91 29 36  9 60\n",
            " 11 82 83 62 71 40 67 77 78 61 13 12 34 24 68 44 48 46 93 25 26 30 50 43\n",
            " 37 54 56 84 86  0 45 14 72 73 70  8 90 87 81 27 49 79]\n",
            "Round: 5... \tAverage Loss: 0.469\n",
            "Round: 6 Picking 90/100 clients: [48 86 52 97 30 88 58  8 55 17 12 28 43 18 44 91 68 22 40 73  3 42 61 24\n",
            " 35 67 33 16 84 29 53 63 94 11 51 66 79 34 81 99  2  9 13 49 10  5 59 71\n",
            " 98 62 83 21 46 82 41 96 90  0  6 65 45 38 93 25 77 74 80 23 26 50 39 70\n",
            " 76 92 47 36 15 64 95  7 19 37  1 89 14 69 87  4 32 20]\n",
            "Round: 6... \tAverage Loss: 0.443\n",
            "Round: 7 Picking 90/100 clients: [66 12 42 87 46 40  2 80 31 97 58 81 68 64 15 19  6 30 59 26 70 89 83 51\n",
            " 63 86 95 73  5 13 47 54 90 32  9 49 14 60  4  1 10 99 34 23 48 29  0 82\n",
            " 93 28 41 57 72 85 39 24 77 45 21 18 50 27 17 88 22 44  3 94 52 91  7 11\n",
            " 33 67 75 65 84 56 69 96 37 43 16 76 61 55 53 74 20 92]\n",
            "Round: 7... \tAverage Loss: 0.425\n",
            "Round: 8 Picking 90/100 clients: [74 61 20 41 15 38 42 43 16 50  9 22 69 82 23 83 45 93 31 95 11 39 73 64\n",
            " 57 88 30 86  4 55 94  8 89 92  0 90 33 63 60 18 44 99 17 13 47 70 10 76\n",
            " 26 46 59 87 81 79 72 40 35 48 52 77 34 53 51 49  5 14 54 71 67 37  7 58\n",
            "  6 98 78 24 36 96 25 27 32  3  1 97 62 65 85 28 91 12]\n",
            "Round: 8... \tAverage Loss: 0.403\n",
            "Round: 9 Picking 90/100 clients: [57 67  0 32 13 59  7 90  5 63 83 17 28 96 40  9 27 70 26 12 62 80 35 36\n",
            "  3 87  8 61 60 76 55 74  2 95 94 58  6 48 73 82 10 50 25 34 20 29 21 77\n",
            " 15 85 14 22 66 98 45 86 19 43 39 65 99 84 38 78 92 24 49 53 46 44 47 68\n",
            " 93 71  4 23 37 56 16 18 91 51 11 75 33 54 79 64 88 69]\n",
            "Round: 9... \tAverage Loss: 0.387\n",
            "Round: 10 Picking 90/100 clients: [87 74 29 79 91 17  7 65 98 35 96 24 16 25 37 75 48 22 71 47 73 59 46 95\n",
            " 67 63 43 97  0 54 64 39 14 77 15 72 10  2 49 38 13 68 70 23  3 58 19 69\n",
            " 81 78  1 80 57  5 42  9 56 82 28 51 94 33 32 83 50 45 21 90 84 20 89 12\n",
            " 40 26 55 31  4 86 66 62 61 52 53 76  6 41 18 30 36 27]\n",
            "Round: 10... \tAverage Loss: 0.373\n",
            "Round: 11 Picking 90/100 clients: [36 49  9  4 35 77 29 32 27 84 89 23 56  2 57 71 64 20 86 17 80 25 48 38\n",
            " 26 83 51 50 37  3 63 79 30 10 42  6 55 85 21 15 95 19 60 99 33 75 74 16\n",
            " 45 78 31  8 53 87 65 88 11 41 94 76  5 81 40 69 97 44 70 66 90 82 91 22\n",
            " 24 12  7 43 52 47 18 54 46 39 96 59 98 13 61  1 14 62]\n",
            "Round: 11... \tAverage Loss: 0.361\n",
            "Round: 12 Picking 90/100 clients: [10 58 91 18 20 48 98 31 62 16 55 99 33  5 22  8  9 19 76 74 15 34 64 70\n",
            " 94 24  3 40 81  7 27 13 69 97 71  4 80 93 92 89 68  2 21 43 11 67 50 79\n",
            " 29 82 51 57 87 53 42 63 39 30 25 54 41 95 88 86 84 96 65 61 75 73 59 26\n",
            " 49 72 83 23 60 35 90 46 77 47 44 85 28  6 45  1  0 78]\n",
            "Round: 12... \tAverage Loss: 0.349\n",
            "Round: 13 Picking 90/100 clients: [26 88 59 73 22 57 75 76 60  9 55 94  4  6 84 33 25 36 20 24 83 70 97 58\n",
            " 46 62 40  2  7 32 21 82 71 61 19 10 47  5 30  8 38 15 13 96  1 78 77 67\n",
            " 28 39 29 41 45 12 23 16 27 31 98 85 93 37 87 92 95 48 11 53 90 65 49 43\n",
            " 50 89 52 72 44 34 91 17 56 35  3 79 66 18 64 69 68 51]\n",
            "Round: 13... \tAverage Loss: 0.338\n",
            "Round: 14 Picking 90/100 clients: [34 70  1  3  7 59 85 27 79 62 80 55 92 39 67 74 29 38 66  8 76 44 86 99\n",
            " 16 32  9 98 88 12 73 35 33 43 36 60 15 50 25 71 42 83 47 82 48 90 19 49\n",
            "  4 61  0 54 95 72 20 64 26 28 57 84 96  2 81 11 51 21 52 24 58 94 69 18\n",
            " 75 23 78 89 87 45 10 63 93 31 22  6 41 40 68 97 17 91]\n",
            "Round: 14... \tAverage Loss: 0.328\n",
            "Round: 15 Picking 90/100 clients: [42 53 71 27  7 64 96  5 40 43 12 87 25 76 56 48 54 51 19 33 14 61 88 86\n",
            " 15  4 75 26  6 31 60  0 45 69 35 93 49 84 74 38 32 44 99 52 77 20 98  8\n",
            " 80 11 72 16 67 29 22  9 73 94 23 91  2  1 62 50 92 46 81 39 66 13 85 78\n",
            " 58 21 55 70 47 82 24 90 83 10 65 68 57 30 18 63 79 41]\n",
            "Round: 15... \tAverage Loss: 0.318\n",
            "Round: 16 Picking 90/100 clients: [59 19  3 98 16 90 92 47 43 23 95 99  0 74 58 85 64 25 10 57  1 96  2 78\n",
            " 32 71 35 94  7 14 82 63 51 24 28 80 73 83 75 15 66 41 54 93  6 36  5 89\n",
            " 87 76 45 56 40  9 62 31 27 79 30 81 91 72 67 68 44 22 69 18 39  8 26  4\n",
            " 29 55 21 97 11 50 52 61 49 12 42 46 70 77 88 34 53 20]\n",
            "Round: 16... \tAverage Loss: 0.309\n",
            "Round: 17 Picking 90/100 clients: [ 6 17 26 80 66 54 92 39 15 43  8 85 28 47 52  4 51 77 97 10 29 91 70  7\n",
            " 82 11 23 16 62 35  3 31  0 81 53 42 88 89 60 45  1 98 90 32 83 57 84 72\n",
            " 59 69 87 21 27  2 30 78 96 93 24 95 79 63 99 13 94 50 41 36 48 37  9 12\n",
            " 19 34 56 65 46  5 75 22 58 33 61 68 55 44 38 74 25 67]\n",
            "Round: 17... \tAverage Loss: 0.3\n",
            "Round: 18 Picking 90/100 clients: [98 45 26 44 48 64 51 43  8 67 53 33 99 89 97 17 46 34 57 11 25 94 59 83\n",
            " 88 24 80 29 52 76 22 86 19 93 58  3  5 12 81  7 49  9 70 32 41 75 77 15\n",
            " 55 66 65 73 14 74 38 16 23 62 92 27 91 21 63 71 47 68 50  0 95 18 31 61\n",
            " 42 37 60 56 10 13 54 82 84 40  4 96 36 87 72  6 90 35]\n",
            "Round: 18... \tAverage Loss: 0.292\n",
            "Round: 19 Picking 90/100 clients: [87 98 19 90 11 80 78 59 22 94 97 15 10 42 77 55 18 39 31 70 35 36 50  7\n",
            " 96  5 45 68  6 57 17 14  2 29 71 89 63 84 66 12 60  4  9 47  8 30 56 34\n",
            " 53 82 23 32 43 51 40 26 54 27 72 13 25 20 65 61 69  1 41 21  3 48 58 85\n",
            " 24 62 75 16 46 83 73 88 91 79 93 28 74 81 67 37 76 92]\n",
            "Round: 19... \tAverage Loss: 0.287\n",
            "Round: 20 Picking 90/100 clients: [83  9 70 47 98 62 21 94 39 52 23 91 95 40 15 85 50 30 69 46 81 54 49 48\n",
            " 60 32 51  4 26 61 65 56 87 19 33 96 53 72 57 73 71 14  5 37 84 34 86 55\n",
            " 29 64 90 77 22 10  8 25 88 66 42 80 12 27  2 36  0 38 92  1  3 93 82  7\n",
            " 75 31 78 97 43 41 89 11 17 44 68 13 16 45 24 79 76 99]\n",
            "Round: 20... \tAverage Loss: 0.279\n",
            "Round: 21 Picking 90/100 clients: [80 66 82 74 65 34 89 18 92 95 50 73 69 56  3 87 16 13 84  2 40 90 79 38\n",
            " 72 17 42 75 57  6 30  4  9 19 24 52 86 88 53 49 78 81 54 41 26 28 29 10\n",
            " 76 15 61 51 59 12 33 46 36 63 48 91  1 25 58 97 47 32 14 39 77  0 37 93\n",
            " 11 68  5 27 31 44  8 67 35 96 55 70 43 94 64 23 21 62]\n",
            "Round: 21... \tAverage Loss: 0.27\n",
            "Round: 22 Picking 90/100 clients: [34 74 73 76  8 92 41 29 53 54 84 60 95  3 24 93 67 72 65 99 27 57  7 98\n",
            " 12 32 22 38 83 62 82 88 87 31 35 59 44 14 94 36 11 71 40 61  6 55 75 46\n",
            " 91 58 77 51 33 64 10 26 85 15 89  5  1 66 50  2 48 80  9 23 96 37 97  4\n",
            " 81 17 39 52 16 28 13 90 25 19 21 86 63 78 43 68 18 79]\n",
            "Round: 22... \tAverage Loss: 0.264\n",
            "Round: 23 Picking 90/100 clients: [ 1 67 47 75 36 44  5 25 79 90 14 58 63 97 99 43 86 91 35 17 81 26 49 29\n",
            " 80 98 19 18 56 42  0 85 61 11 94 89 37 53  6 83 15 50 54 40 64 33 96 24\n",
            " 30 55  8  3 51 74 39 93 23 60  4 12 66 65 38 28 48 71 78 57 95 52 88  9\n",
            " 82 87 72 62 69 13 21 45 46 84 20  7 32 27 76 92 22  2]\n",
            "Round: 23... \tAverage Loss: 0.259\n",
            "Round: 24 Picking 90/100 clients: [34  5 25 62 77 72 59 98 66 94 70 99 63  1 65 82 76 88 45 86 80 95 53 20\n",
            " 32 79  2 52 49 21 78 51 54 61  3 73 16 67  4 64 50 38 56 35 17 87 29 15\n",
            " 46 91 27 85 36 47 90 30 58 28 22 68  6 60 26  8 48 97 71 43 37  7 74 18\n",
            "  0 42 89  9 33 39 92 23 75 14 12 57 83 81 40 10 11 55]\n",
            "Round: 24... \tAverage Loss: 0.255\n",
            "Round: 25 Picking 90/100 clients: [69 20 32 75 95 17  3 14 81 73 16 54 63 43 62 84 13 53 77 96 39 68 79 46\n",
            " 52 94 22 64 45 98 30 25 85 37 35 27 88 57 29 48  8 15 58 76 21 10  1 12\n",
            " 93 82 67 42 86 61 91 28 31 47 33 50  5 65 26 18 66 49 56 97 87 59 83  0\n",
            " 24 60 55 44  2 92 19 74 99  4 40 36 80  6 11 90 23  7]\n",
            "Round: 25... \tAverage Loss: 0.248\n",
            "Round: 26 Picking 90/100 clients: [73  2 24 38 63 39 40 21 31 69 92 91 44 15 26 49 61 12 25 75 11 35 55 99\n",
            " 90 37 58 52 32 57 74 76 27 19 84 43 65  5 82 85  8 72 48 10  9 67 20 94\n",
            " 79 36 51 14 83  7  4 80 89 62 68 97  1 46 28 60 33 47 34 18 77 59  0 50\n",
            " 16 87  3 81 45 42 17 22 98 88 70 66 41 64 23 95 13  6]\n",
            "Round: 26... \tAverage Loss: 0.244\n",
            "Round: 27 Picking 90/100 clients: [74 45 37 25 85 60 56 32 53 27 11 68 88 31 36 71 73  3 33 16 76 10 51 61\n",
            " 43 92 64 79 21 24 81 59 39 65 26 20 62 14  8 58 78 15 46 12 72 44  4 55\n",
            " 90 63 52 97 96 34 47 19 23 38 49 99 67 29 93 95 84 13 28 42 87 82 35 89\n",
            " 40  5 66  2 50 54 17 75 91 80 86 22  9 98 18 69  1  7]\n",
            "Round: 27... \tAverage Loss: 0.241\n",
            "Round: 28 Picking 90/100 clients: [75 88 23 41 43 55 15  1 90 80 71 78 44 47 12 94 82 60 38 21 87 53 37 58\n",
            " 50 61 76 59 40  2 98 39 26  6 69 13 95 73 35 52  9 66 42 89 99 36 67 56\n",
            " 93 92 64 20 30  5  3 11 22 46 65 32 14 16 68 83 54 57 62 72  8 51 10 17\n",
            " 33 24 45 25 29  7 96 77 63 74 28 81 85 49 48 19 86 18]\n",
            "Round: 28... \tAverage Loss: 0.235\n",
            "Round: 29 Picking 90/100 clients: [32 44 96 22 38 36 73 98 48 95 60 46 47 17 27 11 92  3 20 87 14 10 59 30\n",
            " 23 77 79 33 18 45 62 29 49  9 15 54 71 37 52 93 42  5 25 19 55 21 40 83\n",
            " 72 76 34 97 94 65 89 69 35 75 80 91  7  1 13 70 28 51 66 53 12 85 74 90\n",
            "  6 31  2 86  4 63 78 67 43 84 68 64 39 41 56 50  8 58]\n",
            "Round: 29... \tAverage Loss: 0.231\n",
            "Round: 30 Picking 90/100 clients: [ 6  0 96 33 18 72 46 17 27 26 37 52 30 42  1 73 92 75 68  7 15 32 98 84\n",
            " 91 10 70 62 40 78 43 67 29 85 82 39 21 95 12 71 13 57 31 93 74 20 58 49\n",
            " 65 23 53 28 69 36 66 56 25 16 55 61 90 14 51 80 44  9  8 34 38 47 97 99\n",
            " 79  4 48 59  3 45 89 87 83 60 19 64 88 63 35 94 76 77]\n",
            "Round: 30... \tAverage Loss: 0.228\n",
            "Round: 31 Picking 90/100 clients: [17 35 57 15 32 49 41 95 44 93 85 78 71 70 87 42 38 45 74 10 27 26 80 66\n",
            " 69 31 47 68 61 13 83 37 22  5 63 50 34 55 91 73 54 76 11 64 23  1 19 82\n",
            " 92 86 28 84 25 67 39 60 72 97 24 81 20 29 88 65 18  4 94  6  8  2 99 48\n",
            " 52 16 53 30 51 56  3 58  7 75 90 46 43 36 62 59 21 77]\n",
            "Round: 31... \tAverage Loss: 0.223\n",
            "Round: 32 Picking 90/100 clients: [71  4 76  7 22 96 56 91 72 14 99 43 40 69  6 28  3 20  8 64 48 50 36  2\n",
            " 18 11  5  1 87 86 75 46 77 25 90 19 80 44 67 29 62 33 97 57 83 65 82 93\n",
            " 73 52 45 13 54 95 60 12 78 59 15 89 35 51 16 10 17 42 70 88 81 63 38  9\n",
            " 79 37  0 74 34 39 27 24 92 84 66 41 58 21 94 53 32 98]\n",
            "Round: 32... \tAverage Loss: 0.221\n",
            "Round: 33 Picking 90/100 clients: [ 3 54 73 91 50 53 82 31 77 83 32 47 14 30 57 21 24 13 19 72  9 78 36 44\n",
            " 61 92 63 15 97 27 96 85  8 35 60 20 59 79 48 41  2 80 18 26 87  4 89 51\n",
            " 68 55 84 81 25 23 38 22 98 42 45 40 37 70 29  5 43 90 66 16 56 67 33 46\n",
            " 75 71 34  7 49 64 39 52 95 62 17 11 88 58 86  6 65 94]\n",
            "Round: 33... \tAverage Loss: 0.216\n",
            "Round: 34 Picking 90/100 clients: [33 21 96 11 78 36 68 38 22 95 79 45 13  1 37 44 97  8 82 76 99 28 17 41\n",
            " 48 14 62 84 64 73 83 52 56 50 53 34 65 16 60 20 93 42 31 91 98 90 54 43\n",
            " 67  3 35 18 57 72  4 10 81 30 55 61 66 23 25 46 40 87 86 39 47 85 12 29\n",
            " 19 58 75  2 59 89 24 70 63 80  5 71 26 94  0 32 74 92]\n",
            "Round: 34... \tAverage Loss: 0.212\n",
            "Round: 35 Picking 90/100 clients: [20 59 63 18 48 62 72 29 92 98 31 71 15  9 60 40 54 32 46 49 35 95 78 88\n",
            "  3 47 83 13 58 44 57 87  0 24 10 99 85 76 89 96 27 93 91 52 36 84 11 42\n",
            " 14 81 66  5 56 25  2 21 65 86 80 55 45  1 16 77 34 30  6 61 17 19 51 28\n",
            " 33 26 12 37 70 79 82  8 69 38 53 97 67 90 41 68 75 22]\n",
            "Round: 35... \tAverage Loss: 0.21\n",
            "Round: 36 Picking 90/100 clients: [ 6 95 39 45 52 25 14 63 86 77 81  8 78 64 94 60 59 65 69 54 99 67 27 85\n",
            " 15 74 16 21 91 79 23 96 82 58 49 38  1 98 31 66 11 43 22 83 18 29 19 30\n",
            " 48 20 84 13  7 37 32 75 80 68 70 92 10 53 42  9  0  5 28 87 40 72 41 71\n",
            " 26 44  2 76 12 97 89 93 50 90 47 34 73 24 62  4 17 51]\n",
            "Round: 36... \tAverage Loss: 0.205\n",
            "Round: 37 Picking 90/100 clients: [77 97 49 88 46 55 57 28 63 23 85 17 67 15 21 44 19 38 95 41 27 48 42 60\n",
            " 56 25 12 89 32  3 20  6 98 90 80 61 72 91 47 59  7 51 31 45 74 92 53 62\n",
            " 83 99 30 69 64 35 40 39 94 76  0  4 14 75 10 54  5 43 82 33 70 16 78  1\n",
            " 79 96 52 58 93 11 34  9 26 24 22 73 29 68  2 65 13 36]\n",
            "Round: 37... \tAverage Loss: 0.204\n",
            "Round: 38 Picking 90/100 clients: [55 11 44 22 94 81 87 52 89 34 82 51  1 49 99 69 33 45 67  0  9 18 20 60\n",
            " 59  5 26 92 76 13 72 29 37 58  3 63 23 66 25 16 74 61 62 96 14 93 64 47\n",
            " 80 28 24 57 48 75 71 10 35  4 68 41 30 12 83 43 73 42 97 17 98 90 84 50\n",
            " 53 77 38 31 32 88 95 65 19 39 86 15 36  2 79 21 56 78]\n",
            "Round: 38... \tAverage Loss: 0.2\n",
            "Round: 39 Picking 90/100 clients: [ 1 35 16 66 17 51 92 80  7 52  2 24 22 89 32 78 94  3 93 44 77 79 31 54\n",
            " 41 34 87 38 74 10 36 23 72 30 68 96 76 15 12 97 26 50 47 65 25  9 33 21\n",
            " 71 69 43 84 13 59 64 58 18 11 88 82  4 20 56 46 37 55 85 49 62 40 91 83\n",
            " 86 29 27 63 70 61 45 60 73 53  0 28 19 90  8 14 48 95]\n",
            "Round: 39... \tAverage Loss: 0.198\n",
            "Round: 40 Picking 90/100 clients: [37 83 60 71 89 31 97 45 41 80 72 44 49 75 99 47 69 21 39 10 58 86 16 88\n",
            " 30 85 22 28 77 91 55 27 65  6 54 74  0 26 56 96 23 24 94 84 82 14  7 63\n",
            " 33 12 66 78 43 81 35  9 11 61 50 95 51 98 79 19 38 76 17 13 90  3 59 62\n",
            " 18 92 25 36 52 20 57  1 15 48 46  4 68 87 67 70 29  2]\n",
            "Round: 40... \tAverage Loss: 0.196\n",
            "Round: 41 Picking 90/100 clients: [46 99  3 85 26 94 86 60 88 55 43 95 27 56 74 20 57 59 44 68 77 19  8 76\n",
            " 29 49 65 93  6 50 35 38 96 33 53  5 75 16 37 82 83 78 40 41  2 58 17 92\n",
            "  4 23  7 47 80 42 52 32 71 13 39 97 10 25 34 31 48  0 12 51 61 69 18 89\n",
            " 81 90 24 84 63 67 91 98 45 72 14 11  1 64 54 66 28 36]\n",
            "Round: 41... \tAverage Loss: 0.193\n",
            "Round: 42 Picking 90/100 clients: [19 62 68 86 14 95 11 67 89 85 32  8 58 71 40 87 93 60  3  7 20 53 61 12\n",
            " 65  5 29 96 98  9 77 49 73 72 76 92 39 46 56 43 78 82 28 25  1 97 23 10\n",
            " 52 48 59 13 27  0 38 21 63 33 37 75 74 79 51 42 50 90 18 55 35 80 66  4\n",
            " 99 70 41 54 30  2 26 44 22 91 88 16 57 69 24 47 84 94]\n",
            "Round: 42... \tAverage Loss: 0.189\n",
            "Round: 43 Picking 90/100 clients: [ 6 51 30 28  1 39 27 58 36 94 85 34 24 29 45 84  2 92 99 93 52 82 78 32\n",
            " 50 11 38 63  3 47 98 57 88 14 46 87 64 54  4 17 89  9 59 21 12 26 77 76\n",
            " 41 80  5 71  0 15 86 83 31 70 75 13 22 69 74 91 65 44 20 72 35 19 55 95\n",
            " 79 66 97  8 37 43 48 40 73 90 42 53 67  7 23 16 96 25]\n",
            "Round: 43... \tAverage Loss: 0.187\n",
            "Round: 44 Picking 90/100 clients: [68 96  1 97 82 12 81 40 39 60 14 22 56 30 98 53 17 57 86 78 58 85  6 69\n",
            "  2 59 43 49 18 33 44 50 27 51 11 15 77 19 34 94 64 42 24 79 55 41 89  9\n",
            " 20  8 80 29 31 65 95 36 10 88 87 13 25 54 38 72 92 84 76 66 62 63 32 67\n",
            " 48 75 26 99 23  0 73 16 52 83 91 70 74  4 37 45 90  7]\n",
            "Round: 44... \tAverage Loss: 0.187\n",
            "Round: 45 Picking 90/100 clients: [82 87 53  1 52 45  8 89 42 36 77 37 16 78 71 54 66 25 30 64 46  9 63 19\n",
            " 10 22  2 11 65 75 93 70 90 51 27 49 13  6 28 44 74 55 15 47  5 73 29 17\n",
            " 67 97 83 50 79 59 38 48 58 12 34  4 88 61 39 99 95 56 41  0 86 14 24 32\n",
            " 33 98 69 21 72  7 92 40 31 81 57 26 68 84  3 43 20 35]\n",
            "Round: 45... \tAverage Loss: 0.182\n",
            "Round: 46 Picking 90/100 clients: [ 4 51 52 65 38 29  7 25 43 90 94  6 33 77 39 56 22 50 84  3 67 32 58 27\n",
            " 64 10 83 12 68  5 42 53 48 30 92 11 35 41 57 95 59 81 98 31 26 75 78 69\n",
            "  1 71 23 87 79 16 45 61 40 17 60 18 73 62 93 66 21 72 34 36 88 28 97  2\n",
            " 44 46 85 49 91 82  8  9 89 63 86  0 70 80 24 74 13 14]\n",
            "Round: 46... \tAverage Loss: 0.18\n",
            "Round: 47 Picking 90/100 clients: [ 9 27 14 11 91 69  1 16 24 72 25 32  2 94 42 84 95 60 22 81 50 87 29 54\n",
            " 13 88 86 51 65 68 71 12 49  5 67 97 10 99  3  7 89 36 46 38 85 53 61 31\n",
            "  0 73 44 28 74 33 82 20 45 15 76 39 63 41 62 43 23 92 90 58 37 19 78 59\n",
            " 80 64 70 83 79 47 18 55 98  6 26 17 21 93 75 52 30 34]\n",
            "Round: 47... \tAverage Loss: 0.179\n",
            "Round: 48 Picking 90/100 clients: [31 19 89 46 51 76 58 72 15 18 62 57 52 12 47 66 34 59 28 38 22 44 45 16\n",
            " 88 55 71 25 79 61 93  6 40 84 37 69  3 39 78 75 86 49 41 64  7 85  4 53\n",
            " 74 67 20 92 70 98 94 90 50 73 29 24 11 13 35 43 80 32 27 87 54 95 23 77\n",
            " 82 99  9 56 63 91 83 65 97  2  5 26  1 48 81 42 30 36]\n",
            "Round: 48... \tAverage Loss: 0.175\n",
            "Round: 49 Picking 90/100 clients: [32 61 12 55 47 45  8 35 30 71 63 59 24 93 58 70 94 44 57 40  4 56 81 11\n",
            " 77 13 64 52 46 96 15 51 87 89 27  0 80 72 95 25 73 88 23 75 69 49 68  6\n",
            " 31 92 60 14 82 65  5 48 78 17 83 50 79 21  3  2  1 86 74 66 91 10 37 99\n",
            " 16 26 53 42 43 84 76 18 97 98 67 85 20 41  7 54 22 29]\n",
            "Round: 49... \tAverage Loss: 0.174\n",
            "Round: 50 Picking 90/100 clients: [17 73 36 69 80 58 14 39 61 59 89  7 56 42 37 77 13 19  3 23 83 16 28  9\n",
            " 57 50  4 24 71 60 49 41 94 51 10 20 38  5 98 99 68 96 33  6 40 22 35 91\n",
            " 11 72 67 32 95 15 92 85 53 76  1 97 54 82 84 74 87 29 31 48 93 43 27 66\n",
            " 12 86 21 65 63 45  2 46 78  0 81 88 75 26 64 25 90  8]\n",
            "Round: 50... \tAverage Loss: 0.173\n"
          ],
          "name": "stdout"
        },
        {
          "output_type": "display_data",
          "data": {
            "image/png": "[encoded data removed]",
            "text/plain": [
              "<Figure size 432x288 with 1 Axes>"
            ]
          },
          "metadata": {
            "tags": [],
            "needs_background": "light"
          }
        },
        {
          "output_type": "display_data",
          "data": {
            "image/png": "[encoded data removed]",
            "text/plain": [
              "<Figure size 432x288 with 1 Axes>"
            ]
          },
          "metadata": {
            "tags": [],
            "needs_background": "light"
          }
        },
        {
          "output_type": "display_data",
          "data": {
            "image/png": "[encoded data removed]",
            "text/plain": [
              "<Figure size 432x288 with 1 Axes>"
            ]
          },
          "metadata": {
            "tags": [],
            "needs_background": "light"
          }
        },
        {
          "output_type": "display_data",
          "data": {
            "image/png": "[encoded data removed]",
            "text/plain": [
              "<Figure size 432x288 with 1 Axes>"
            ]
          },
          "metadata": {
            "tags": [],
            "needs_background": "light"
          }
        },
        {
          "output_type": "display_data",
          "data": {
            "image/png": "[encoded data removed]",
            "text/plain": [
              "<Figure size 432x288 with 1 Axes>"
            ]
          },
          "metadata": {
            "tags": [],
            "needs_background": "light"
          }
        },
        {
          "output_type": "stream",
          "text": [
            "Training Done!\n",
            "Total time taken to Train: 9705.695639133453\n",
            "\n",
            "\n"
          ],
          "name": "stdout"
        }
      ]
    },
    {
      "cell_type": "markdown",
      "metadata": {
        "id": "4C68J-Kk14dB"
      },
      "source": [
        "### Test"
      ]
    },
    {
      "cell_type": "code",
      "metadata": {
        "id": "_yQ9GiAZ15jE"
      },
      "source": [
        "# criterion = nn.CrossEntropyLoss()\n",
        "# acc, loss, f1_macro, f1_weighted = testing(cifar_cnn_non_iid_trained, cifar_data_test, 128, criterion, num_classes, classes_test, True)"
      ],
      "execution_count": 64,
      "outputs": []
    },
    {
      "cell_type": "code",
      "metadata": {
        "id": "dxMcxgLhLvX-"
      },
      "source": [
        "hyperparams = {'rounds': rounds,\n",
        "               'C': C,\n",
        "               'K': K,\n",
        "               'E': E,\n",
        "               'batch_size': batch_size,\n",
        "               'lr': lr,\n",
        "               'q': q,\n",
        "               'sampling': sampling\n",
        "               }\n",
        "\n",
        "log_dict['CIFAR CNN on Non IID'] = {'train_loss': train_loss_multiple_runs, \n",
        "                                'test_loss': test_loss_multiple_runs, \n",
        "                                'test_accuracy': test_accuracy_multiple_runs,\n",
        "                                'f1_macro': f1_macro_multiple_runs,\n",
        "                                'f1_weighted': f1_weighted_multiple_runs,\n",
        "                                'hyperparams': hyperparams,\n",
        "                                }"
      ],
      "execution_count": 65,
      "outputs": []
    },
    {
      "cell_type": "markdown",
      "metadata": {
        "id": "ptMieSimVxid"
      },
      "source": [
        "## CIFAR MLP on IID"
      ]
    },
    {
      "cell_type": "markdown",
      "metadata": {
        "id": "mz3f_fOxVxie"
      },
      "source": [
        "### Train"
      ]
    },
    {
      "cell_type": "code",
      "metadata": {
        "id": "5ZGAZPhtVxie"
      },
      "source": [
        "# train_loss_multiple_runs = [None] * NUM_REPEAT\n",
        "# test_accuracy_multiple_runs = [None] * NUM_REPEAT\n",
        "# test_loss_multiple_runs = [None] * NUM_REPEAT\n",
        "# f1_macro_multiple_runs = [None] * NUM_REPEAT\n",
        "# f1_weighted_multiple_runs = [None] * NUM_REPEAT\n",
        "\n",
        "# for exp_num in range(NUM_REPEAT):\n",
        "#   print(\"Experiment Run Number: \", exp_num)\n",
        "\n",
        "#   # number of training rounds\n",
        "#   rounds = 50\n",
        "#   # client fraction\n",
        "#   C = 0.1\n",
        "#   # number of clients\n",
        "#   K = 100\n",
        "#   # number of training passes on local dataset for each round\n",
        "#   E = 1\n",
        "#   # batch size\n",
        "#   batch_size = 10\n",
        "#   # learning Rate\n",
        "#   lr=0.05\n",
        "#   # fairness\n",
        "#   q = 0.001\n",
        "#   # sampling\n",
        "#   # sampling = 'uniform'\n",
        "#   sampling = 'weighted'\n",
        "  \n",
        "#   # dict containing different type of data partition\n",
        "#   data_dict = iid_partition(cifar_data_train, 100)\n",
        "#   # load model\n",
        "#   cifar_mlp = CIFAR_MLP()\n",
        "\n",
        "#   if torch.cuda.is_available():\n",
        "#     cifar_mlp.cuda()\n",
        "\n",
        "#   cifar_mlp_iid_trained, train_loss, test_accuracy, test_loss, f1_macro, f1_weighted = training(cifar_mlp, rounds, batch_size, lr, cifar_data_train, cifar_data_test, data_dict, C, K, E, q, sampling, \"CIFAR MLP on IID Dataset\", \"orange\")\n",
        "  \n",
        "#   train_loss_multiple_runs[exp_num] = train_loss\n",
        "#   test_accuracy_multiple_runs[exp_num] = test_accuracy\n",
        "#   test_loss_multiple_runs[exp_num] = test_loss\n",
        "#   f1_macro_multiple_runs[exp_num] = f1_macro\n",
        "#   f1_weighted_multiple_runs[exp_num] = f1_weighted\n",
        "\n",
        "#   del cifar_mlp_iid_trained\n",
        "#   torch.cuda.empty_cache()"
      ],
      "execution_count": 66,
      "outputs": []
    },
    {
      "cell_type": "markdown",
      "metadata": {
        "id": "aTBsL3-72PPd"
      },
      "source": [
        "### Test"
      ]
    },
    {
      "cell_type": "code",
      "metadata": {
        "id": "a9G4j5L62OrS"
      },
      "source": [
        "# criterion = nn.CrossEntropyLoss()\n",
        "# acc, loss, f1_macro, f1_weighted = testing(cifar_mlp_iid_trained, cifar_data_test, 128, criterion, num_classes, classes_test, True)"
      ],
      "execution_count": 67,
      "outputs": []
    },
    {
      "cell_type": "code",
      "metadata": {
        "id": "fWCdJFRCL_f2"
      },
      "source": [
        "# hyperparams = {'rounds': rounds,\n",
        "#                'C': C,\n",
        "#                'K': K,\n",
        "#                'E': E,\n",
        "#                'batch_size': batch_size,\n",
        "#                'lr': lr,\n",
        "#                'q': q,\n",
        "#                'sampling': sampling\n",
        "#                }\n",
        "\n",
        "# log_dict['CIFAR MLP on IID'] = {'train_loss': train_loss_multiple_runs, \n",
        "#                                 'test_loss': test_loss_multiple_runs, \n",
        "#                                 'test_accuracy': test_accuracy_multiple_runs,\n",
        "#                                 'f1_macro': f1_macro_multiple_runs,\n",
        "#                                 'f1_weighted': f1_weighted_multiple_runs,\n",
        "#                                 'hyperparams': hyperparams,\n",
        "#                                 }"
      ],
      "execution_count": 68,
      "outputs": []
    },
    {
      "cell_type": "markdown",
      "metadata": {
        "id": "J8jzEyO0iywz"
      },
      "source": [
        "## CIFAR MLP on Non IID"
      ]
    },
    {
      "cell_type": "markdown",
      "metadata": {
        "id": "pJFepr3y2bF-"
      },
      "source": [
        "### Train"
      ]
    },
    {
      "cell_type": "code",
      "metadata": {
        "id": "EBKO44Hgi1Uh"
      },
      "source": [
        "# train_loss_multiple_runs = [None] * NUM_REPEAT\n",
        "# test_accuracy_multiple_runs = [None] * NUM_REPEAT\n",
        "# test_loss_multiple_runs = [None] * NUM_REPEAT\n",
        "# f1_macro_multiple_runs = [None] * NUM_REPEAT\n",
        "# f1_weighted_multiple_runs = [None] * NUM_REPEAT\n",
        "\n",
        "# for exp_num in range(NUM_REPEAT):\n",
        "#   print(\"Experiment Run Number: \", exp_num)\n",
        "  \n",
        "#   # number of training rounds\n",
        "#   rounds = 50\n",
        "#   # client fraction\n",
        "#   C = 0.1\n",
        "#   # number of clients\n",
        "#   K = 100\n",
        "#   # number of training passes on local dataset for each roung\n",
        "#   E = 1\n",
        "#   # batch size\n",
        "#   batch_size = 10\n",
        "#   # learning Rate\n",
        "#   lr=0.05\n",
        "#   # fairness\n",
        "#   q = 0.001\n",
        "#   # sampling\n",
        "#   # sampling = 'uniform'\n",
        "#   sampling = 'weighted'\n",
        "  \n",
        "#   # dict containing different type of data partition\n",
        "#   data_dict = non_iid_partition(cifar_data_train, 100, 200, 250, 2)\n",
        "#   # load model\n",
        "#   cifar_mlp = CIFAR_MLP()\n",
        "\n",
        "#   if torch.cuda.is_available():\n",
        "#     cifar_mlp.cuda()\n",
        "\n",
        "#   cifar_mlp_non_iid_trained, train_loss, test_accuracy, test_loss, f1_macro, f1_weighted = training(cifar_mlp, rounds, batch_size, lr, cifar_data_train, cifar_data_test, data_dict, C, K, E, q, sampling, \"CIFAR MLP on Non-IID Dataset\", \"green\")\n",
        "\n",
        "#   train_loss_multiple_runs[exp_num] = train_loss\n",
        "#   test_accuracy_multiple_runs[exp_num] = test_accuracy\n",
        "#   test_loss_multiple_runs[exp_num] = test_loss\n",
        "#   f1_macro_multiple_runs[exp_num] = f1_macro\n",
        "#   f1_weighted_multiple_runs[exp_num] = f1_weighted\n",
        "    \n",
        "#   del cifar_mlp_non_iid_trained\n",
        "#   torch.cuda.empty_cache()"
      ],
      "execution_count": 69,
      "outputs": []
    },
    {
      "cell_type": "markdown",
      "metadata": {
        "id": "jmuQYPbF2mes"
      },
      "source": [
        "### Test"
      ]
    },
    {
      "cell_type": "code",
      "metadata": {
        "id": "0tKMlJyF2nGN"
      },
      "source": [
        "# criterion = nn.CrossEntropyLoss()\n",
        "# acc, loss, f1_macro, f1_weighted = testing(cifar_mlp_non_iid_trained, cifar_data_test, 128, criterion, num_classes, classes_test, True)"
      ],
      "execution_count": 70,
      "outputs": []
    },
    {
      "cell_type": "code",
      "metadata": {
        "id": "1W5krYcSMQiu"
      },
      "source": [
        "# hyperparams = {'rounds': rounds,\n",
        "#                'C': C,\n",
        "#                'K': K,\n",
        "#                'E': E,\n",
        "#                'batch_size': batch_size,\n",
        "#                'lr': lr,\n",
        "#                'q': q,\n",
        "#                'sampling': sampling\n",
        "#                }\n",
        "\n",
        "# log_dict['CIFAR MLP on Non IID'] = {'train_loss': train_loss_multiple_runs, \n",
        "#                                 'test_loss': test_loss_multiple_runs, \n",
        "#                                 'test_accuracy': test_accuracy_multiple_runs,\n",
        "#                                 'f1_macro': f1_macro_multiple_runs,\n",
        "#                                 'f1_weighted': f1_weighted_multiple_runs,\n",
        "#                                 'hyperparams': hyperparams,\n",
        "#                                 }"
      ],
      "execution_count": 71,
      "outputs": []
    },
    {
      "cell_type": "markdown",
      "metadata": {
        "id": "emS_SaRAP6TZ"
      },
      "source": [
        "## Pickle Log"
      ]
    },
    {
      "cell_type": "code",
      "metadata": {
        "id": "soAN38JoP0c1"
      },
      "source": [
        "import pickle\n",
        "\n",
        "with open(path + 'qFedAvgk10.pkl', 'wb') as file:\n",
        "  pickle.dump(log_dict, file)"
      ],
      "execution_count": 72,
      "outputs": []
    },
    {
      "cell_type": "code",
      "metadata": {
        "id": "2UBy-JswSoCJ",
        "colab": {
          "base_uri": "https://localhost:8080/"
        },
        "outputId": "e2553dcf-6497-46e0-c853-a619c683ec16"
      },
      "source": [
        "log_dict"
      ],
      "execution_count": 73,
      "outputs": [
        {
          "output_type": "execute_result",
          "data": {
            "text/plain": [
              "{'CIFAR CNN on IID': {'f1_macro': [[0.018186778212239702,\n",
              "    0.2879341364232018,\n",
              "    0.38303607648249804,\n",
              "    0.42370039292542383,\n",
              "    0.4617279122378545,\n",
              "    0.48183767741389616,\n",
              "    0.5097645545976841,\n",
              "    0.5388722261762549,\n",
              "    0.5546622195238867,\n",
              "    0.5751582211911562,\n",
              "    0.5894871533064092,\n",
              "    0.6111547821621195,\n",
              "    0.627449801048014,\n",
              "    0.6384430275901982,\n",
              "    0.6528212390854156,\n",
              "    0.6623013628685492,\n",
              "    0.673663599491394,\n",
              "    0.6800728967407587,\n",
              "    0.6870623904520269,\n",
              "    0.6953985707267969,\n",
              "    0.7016830380118565,\n",
              "    0.7088110640334259,\n",
              "    0.710231648390976,\n",
              "    0.7135560967126164,\n",
              "    0.7182854013670783,\n",
              "    0.7180610462770364,\n",
              "    0.7222865847082403,\n",
              "    0.7236329455546843,\n",
              "    0.7247335467514343,\n",
              "    0.728220089873101,\n",
              "    0.730587158050018,\n",
              "    0.7287208443477335,\n",
              "    0.7247264554112989,\n",
              "    0.7244723986762469,\n",
              "    0.7279524848590815,\n",
              "    0.7289590174499043,\n",
              "    0.7267986659930833,\n",
              "    0.7294721502863977,\n",
              "    0.7272443277425015,\n",
              "    0.7270536459210037,\n",
              "    0.7263355745242109,\n",
              "    0.7280173955914355,\n",
              "    0.7269795531935002,\n",
              "    0.723962579181858,\n",
              "    0.7207536890723913,\n",
              "    0.7206039091132123,\n",
              "    0.7263050210556066,\n",
              "    0.7206376678384175,\n",
              "    0.7200908778415552,\n",
              "    0.7169619186041964]],\n",
              "  'f1_weighted': [[0.018186778212239702,\n",
              "    0.2879341364232018,\n",
              "    0.38303607648249804,\n",
              "    0.4237003929254239,\n",
              "    0.4617279122378544,\n",
              "    0.48183767741389627,\n",
              "    0.509764554597684,\n",
              "    0.538872226176255,\n",
              "    0.5546622195238865,\n",
              "    0.5751582211911562,\n",
              "    0.5894871533064091,\n",
              "    0.6111547821621196,\n",
              "    0.627449801048014,\n",
              "    0.6384430275901982,\n",
              "    0.6528212390854155,\n",
              "    0.6623013628685492,\n",
              "    0.673663599491394,\n",
              "    0.6800728967407585,\n",
              "    0.687062390452027,\n",
              "    0.6953985707267969,\n",
              "    0.7016830380118564,\n",
              "    0.7088110640334259,\n",
              "    0.7102316483909759,\n",
              "    0.7135560967126165,\n",
              "    0.7182854013670782,\n",
              "    0.7180610462770365,\n",
              "    0.7222865847082403,\n",
              "    0.7236329455546843,\n",
              "    0.7247335467514343,\n",
              "    0.728220089873101,\n",
              "    0.730587158050018,\n",
              "    0.7287208443477337,\n",
              "    0.7247264554112989,\n",
              "    0.7244723986762469,\n",
              "    0.7279524848590815,\n",
              "    0.7289590174499043,\n",
              "    0.7267986659930833,\n",
              "    0.7294721502863977,\n",
              "    0.7272443277425016,\n",
              "    0.7270536459210036,\n",
              "    0.7263355745242109,\n",
              "    0.7280173955914355,\n",
              "    0.7269795531935002,\n",
              "    0.723962579181858,\n",
              "    0.7207536890723915,\n",
              "    0.7206039091132123,\n",
              "    0.7263050210556067,\n",
              "    0.7206376678384174,\n",
              "    0.7200908778415551,\n",
              "    0.7169619186041964]],\n",
              "  'hyperparams': {'C': 0.9,\n",
              "   'E': 5,\n",
              "   'K': 100,\n",
              "   'batch_size': 10,\n",
              "   'lr': 0.05,\n",
              "   'q': 0.001,\n",
              "   'rounds': 50,\n",
              "   'sampling': 'weighted'},\n",
              "  'test_accuracy': [[10.0,\n",
              "    31.03,\n",
              "    39.68,\n",
              "    43.11,\n",
              "    46.44,\n",
              "    48.5,\n",
              "    51.19,\n",
              "    54.02,\n",
              "    55.69,\n",
              "    57.79,\n",
              "    59.29,\n",
              "    61.25,\n",
              "    62.87,\n",
              "    64.1,\n",
              "    65.47,\n",
              "    66.57,\n",
              "    67.67,\n",
              "    68.33,\n",
              "    69.09,\n",
              "    69.95,\n",
              "    70.64,\n",
              "    71.32,\n",
              "    71.43,\n",
              "    71.86,\n",
              "    72.33,\n",
              "    72.34,\n",
              "    72.78,\n",
              "    72.85,\n",
              "    72.95,\n",
              "    73.32,\n",
              "    73.54,\n",
              "    73.33,\n",
              "    72.96,\n",
              "    72.98,\n",
              "    73.28,\n",
              "    73.36,\n",
              "    73.12,\n",
              "    73.32,\n",
              "    73.12,\n",
              "    73.03,\n",
              "    73.0,\n",
              "    73.11,\n",
              "    73.01,\n",
              "    72.7,\n",
              "    72.34,\n",
              "    72.4,\n",
              "    72.96,\n",
              "    72.29,\n",
              "    72.25,\n",
              "    71.87]],\n",
              "  'test_loss': [[2.2944382888793946,\n",
              "    2.0081053676605225,\n",
              "    1.7458582239151001,\n",
              "    1.6130991746902466,\n",
              "    1.5025089897155761,\n",
              "    1.4183831722259521,\n",
              "    1.3457781215667726,\n",
              "    1.2846076049804687,\n",
              "    1.2293566822052002,\n",
              "    1.1813215105056762,\n",
              "    1.131500019645691,\n",
              "    1.089604822731018,\n",
              "    1.0433828897476196,\n",
              "    1.0048516458511352,\n",
              "    0.9697213456153869,\n",
              "    0.9380268555641175,\n",
              "    0.9100123275756836,\n",
              "    0.8879588837623597,\n",
              "    0.8680877926826477,\n",
              "    0.8499578967094421,\n",
              "    0.8375456075668335,\n",
              "    0.8321371795654297,\n",
              "    0.8270086065292358,\n",
              "    0.8190895160675049,\n",
              "    0.8193839968681336,\n",
              "    0.821918500328064,\n",
              "    0.8180988585472107,\n",
              "    0.8219826108455658,\n",
              "    0.8286059557437897,\n",
              "    0.8126714313030243,\n",
              "    0.8216769235610962,\n",
              "    0.8258383206367492,\n",
              "    0.8471274023532868,\n",
              "    0.854796186542511,\n",
              "    0.8507440680980682,\n",
              "    0.8484299373149872,\n",
              "    0.8637747766494751,\n",
              "    0.8624858364105225,\n",
              "    0.8770952221393585,\n",
              "    0.8841089646816254,\n",
              "    0.8967311851024627,\n",
              "    0.8874455078601837,\n",
              "    0.8969283622264862,\n",
              "    0.9099258640766144,\n",
              "    0.9307113399982453,\n",
              "    0.9412237874031066,\n",
              "    0.9179854451179504,\n",
              "    0.9467383652210236,\n",
              "    0.9598678472042084,\n",
              "    0.9940923717021942]],\n",
              "  'train_loss': [[2.1265501845253847,\n",
              "    2.008794870360692,\n",
              "    1.8933625097672147,\n",
              "    1.8002921168221357,\n",
              "    1.7188731529845134,\n",
              "    1.6482281745354328,\n",
              "    1.5776813284344138,\n",
              "    1.512725977218151,\n",
              "    1.451142444180118,\n",
              "    1.3922669154233405,\n",
              "    1.3372575379014016,\n",
              "    1.2859393045332692,\n",
              "    1.2336390489326583,\n",
              "    1.1848360239889881,\n",
              "    1.1362309548377985,\n",
              "    1.0865111666275395,\n",
              "    1.0458443931119303,\n",
              "    1.0025185047053626,\n",
              "    0.9651135552253985,\n",
              "    0.9266217315110895,\n",
              "    0.8981528227296142,\n",
              "    0.862924880036215,\n",
              "    0.832018342610697,\n",
              "    0.8084318712684848,\n",
              "    0.7802285544853245,\n",
              "    0.7576318224076594,\n",
              "    0.7336232201078703,\n",
              "    0.7105191998093489,\n",
              "    0.6896647632128662,\n",
              "    0.6706450222344038,\n",
              "    0.6519402619322139,\n",
              "    0.6331793272450567,\n",
              "    0.6190654763761907,\n",
              "    0.6022127581563258,\n",
              "    0.5868528864445165,\n",
              "    0.577778593082395,\n",
              "    0.5582959087657016,\n",
              "    0.543875286715188,\n",
              "    0.5351137460382447,\n",
              "    0.5220188620376506,\n",
              "    0.5130248203007091,\n",
              "    0.5029199670244422,\n",
              "    0.4909117594889466,\n",
              "    0.48366326155705996,\n",
              "    0.47336133844243994,\n",
              "    0.46482008597490654,\n",
              "    0.4554254649982994,\n",
              "    0.44923124841114304,\n",
              "    0.44101599357359933,\n",
              "    0.43156222157802754]]},\n",
              " 'CIFAR CNN on Non IID': {'f1_macro': [[0.01818181818181818,\n",
              "    0.01818181818181818,\n",
              "    0.019192450893093058,\n",
              "    0.07506640499747383,\n",
              "    0.17878404469130987,\n",
              "    0.2802980326308423,\n",
              "    0.35564972987204946,\n",
              "    0.38552906198949094,\n",
              "    0.4052915182200986,\n",
              "    0.42332969855265096,\n",
              "    0.4468733557404477,\n",
              "    0.46249356139546693,\n",
              "    0.47353022895596997,\n",
              "    0.49057441924481104,\n",
              "    0.4985121079374335,\n",
              "    0.5037772264045028,\n",
              "    0.5208852498077654,\n",
              "    0.5312620791173838,\n",
              "    0.534612116884505,\n",
              "    0.5430503008601961,\n",
              "    0.548316763041794,\n",
              "    0.5519973872743896,\n",
              "    0.5702227855408027,\n",
              "    0.5817470869456189,\n",
              "    0.5867742939359457,\n",
              "    0.5966737101504535,\n",
              "    0.6047050164802623,\n",
              "    0.6042497921293856,\n",
              "    0.6101363193958165,\n",
              "    0.6196740575021845,\n",
              "    0.6286701185273256,\n",
              "    0.6328974474501693,\n",
              "    0.6379958069688845,\n",
              "    0.6422927517209349,\n",
              "    0.6509070178549629,\n",
              "    0.6518688563886037,\n",
              "    0.6567687768499235,\n",
              "    0.6641219307133953,\n",
              "    0.668969856695441,\n",
              "    0.6692881008793946,\n",
              "    0.6732353238211686,\n",
              "    0.6751326655261294,\n",
              "    0.6827962886652413,\n",
              "    0.6799620629253755,\n",
              "    0.6855129035295539,\n",
              "    0.6899176618705518,\n",
              "    0.691791910720357,\n",
              "    0.6916656931314552,\n",
              "    0.6897706591552512,\n",
              "    0.6918421697178812]],\n",
              "  'f1_weighted': [[0.01818181818181818,\n",
              "    0.01818181818181818,\n",
              "    0.019192450893093058,\n",
              "    0.07506640499747386,\n",
              "    0.17878404469130985,\n",
              "    0.2802980326308423,\n",
              "    0.35564972987204946,\n",
              "    0.3855290619894909,\n",
              "    0.4052915182200986,\n",
              "    0.4233296985526509,\n",
              "    0.4468733557404476,\n",
              "    0.4624935613954668,\n",
              "    0.4735302289559701,\n",
              "    0.490574419244811,\n",
              "    0.4985121079374335,\n",
              "    0.5037772264045027,\n",
              "    0.5208852498077654,\n",
              "    0.5312620791173839,\n",
              "    0.5346121168845052,\n",
              "    0.5430503008601961,\n",
              "    0.548316763041794,\n",
              "    0.5519973872743896,\n",
              "    0.5702227855408025,\n",
              "    0.5817470869456189,\n",
              "    0.5867742939359456,\n",
              "    0.5966737101504536,\n",
              "    0.6047050164802624,\n",
              "    0.6042497921293856,\n",
              "    0.6101363193958167,\n",
              "    0.6196740575021844,\n",
              "    0.6286701185273257,\n",
              "    0.6328974474501693,\n",
              "    0.6379958069688845,\n",
              "    0.6422927517209348,\n",
              "    0.6509070178549627,\n",
              "    0.6518688563886037,\n",
              "    0.6567687768499234,\n",
              "    0.6641219307133953,\n",
              "    0.6689698566954411,\n",
              "    0.6692881008793945,\n",
              "    0.6732353238211687,\n",
              "    0.6751326655261294,\n",
              "    0.6827962886652416,\n",
              "    0.6799620629253758,\n",
              "    0.6855129035295539,\n",
              "    0.689917661870552,\n",
              "    0.691791910720357,\n",
              "    0.6916656931314552,\n",
              "    0.6897706591552513,\n",
              "    0.6918421697178813]],\n",
              "  'hyperparams': {'C': 0.9,\n",
              "   'E': 5,\n",
              "   'K': 100,\n",
              "   'batch_size': 10,\n",
              "   'lr': 0.05,\n",
              "   'q': 0.001,\n",
              "   'rounds': 50,\n",
              "   'sampling': 'weighted'},\n",
              "  'test_accuracy': [[10.0,\n",
              "    10.0,\n",
              "    10.05,\n",
              "    13.78,\n",
              "    23.66,\n",
              "    31.21,\n",
              "    37.44,\n",
              "    39.92,\n",
              "    41.55,\n",
              "    43.21,\n",
              "    45.8,\n",
              "    47.31,\n",
              "    48.38,\n",
              "    49.97,\n",
              "    50.7,\n",
              "    51.18,\n",
              "    52.84,\n",
              "    53.88,\n",
              "    54.28,\n",
              "    55.17,\n",
              "    55.66,\n",
              "    56.07,\n",
              "    57.77,\n",
              "    58.82,\n",
              "    59.32,\n",
              "    60.26,\n",
              "    61.0,\n",
              "    61.1,\n",
              "    61.64,\n",
              "    62.54,\n",
              "    63.31,\n",
              "    63.78,\n",
              "    64.28,\n",
              "    64.66,\n",
              "    65.49,\n",
              "    65.74,\n",
              "    66.16,\n",
              "    66.79,\n",
              "    67.29,\n",
              "    67.26,\n",
              "    67.7,\n",
              "    67.91,\n",
              "    68.6,\n",
              "    68.44,\n",
              "    68.94,\n",
              "    69.38,\n",
              "    69.5,\n",
              "    69.43,\n",
              "    69.41,\n",
              "    69.63]],\n",
              "  'test_loss': [[2.302860196685791,\n",
              "    2.3006375102996826,\n",
              "    2.2889098346710206,\n",
              "    2.2525994789123533,\n",
              "    2.1740765056610107,\n",
              "    2.067688301086426,\n",
              "    1.9525705352783203,\n",
              "    1.87113733253479,\n",
              "    1.7918428804397584,\n",
              "    1.7303876111984253,\n",
              "    1.6607140596389771,\n",
              "    1.6026890171051025,\n",
              "    1.5548379144668578,\n",
              "    1.516786219406128,\n",
              "    1.4762394510269166,\n",
              "    1.4443713973999024,\n",
              "    1.3989995544433593,\n",
              "    1.3716815412521361,\n",
              "    1.3479135587692261,\n",
              "    1.3112590322494506,\n",
              "    1.2892937244415283,\n",
              "    1.2666174488067627,\n",
              "    1.24376939868927,\n",
              "    1.221498529624939,\n",
              "    1.1988224435806274,\n",
              "    1.172912202835083,\n",
              "    1.1514792810440064,\n",
              "    1.1407518903732299,\n",
              "    1.1213727193832397,\n",
              "    1.099013244819641,\n",
              "    1.0807953830718995,\n",
              "    1.0670750621795655,\n",
              "    1.052134439086914,\n",
              "    1.040417468070984,\n",
              "    1.0212732336044312,\n",
              "    1.006255181121826,\n",
              "    0.9944693958282471,\n",
              "    0.9809819492340088,\n",
              "    0.9728795038223267,\n",
              "    0.9657372362136841,\n",
              "    0.9518411577224731,\n",
              "    0.9411580005645752,\n",
              "    0.9281974388122558,\n",
              "    0.9267746641159058,\n",
              "    0.9164146688461303,\n",
              "    0.904250601387024,\n",
              "    0.8979667591094971,\n",
              "    0.8957957838058471,\n",
              "    0.8950003503799439,\n",
              "    0.8858125233650207]],\n",
              "  'train_loss': [[0.6188831702669255,\n",
              "    0.585110385170441,\n",
              "    0.5360645438731375,\n",
              "    0.4990191289439224,\n",
              "    0.4690522092757474,\n",
              "    0.44312544916381175,\n",
              "    0.424740246433829,\n",
              "    0.40299428760102085,\n",
              "    0.3873466747979477,\n",
              "    0.3726497775680313,\n",
              "    0.3608988921135775,\n",
              "    0.34852331376766504,\n",
              "    0.3382197515292828,\n",
              "    0.327838761045092,\n",
              "    0.31835799536658954,\n",
              "    0.30850125645330645,\n",
              "    0.2999255376814738,\n",
              "    0.29194446565234455,\n",
              "    0.2868706770594492,\n",
              "    0.2789989706565918,\n",
              "    0.26992500944166375,\n",
              "    0.2636013850080049,\n",
              "    0.2590554975007524,\n",
              "    0.2548985727187588,\n",
              "    0.2482880281109419,\n",
              "    0.24399477515155396,\n",
              "    0.24051246235261456,\n",
              "    0.23472994553669776,\n",
              "    0.23060617193561067,\n",
              "    0.2281295355863747,\n",
              "    0.22334236199626956,\n",
              "    0.22059963600689195,\n",
              "    0.21626506468049997,\n",
              "    0.21217197425002368,\n",
              "    0.20951766834920715,\n",
              "    0.20537345282972694,\n",
              "    0.20375025925852622,\n",
              "    0.20048577342685414,\n",
              "    0.19755185432895475,\n",
              "    0.1964610535224402,\n",
              "    0.19284366278786705,\n",
              "    0.18909770605163795,\n",
              "    0.1866129729062211,\n",
              "    0.18693676224232975,\n",
              "    0.1824933554984356,\n",
              "    0.17954637467506265,\n",
              "    0.1786433409893042,\n",
              "    0.17531087589850758,\n",
              "    0.17446928700923317,\n",
              "    0.17288409571549337]]}}"
            ]
          },
          "metadata": {
            "tags": []
          },
          "execution_count": 73
        }
      ]
    },
    {
      "cell_type": "code",
      "metadata": {
        "id": "prKIn0TnERPG"
      },
      "source": [
        "while True:pass"
      ],
      "execution_count": null,
      "outputs": []
    },
    {
      "cell_type": "code",
      "metadata": {
        "id": "x1r1hcqMUCeZ"
      },
      "source": [
        "import pickle\n",
        "\n",
        "with open(path + 'qFedAvgk10.pkl', 'rb') as file:\n",
        "  log_dict = pickle.load(file)"
      ],
      "execution_count": null,
      "outputs": []
    },
    {
      "cell_type": "code",
      "metadata": {
        "id": "se_04JMaVJPg"
      },
      "source": [
        "print([test_acc[-1] for test_acc in log_dict['CIFAR CNN on IID']['test_accuracy']])"
      ],
      "execution_count": null,
      "outputs": []
    },
    {
      "cell_type": "code",
      "metadata": {
        "id": "5sv0rv-G4Sqa"
      },
      "source": [
        "print([test_acc[-1] for test_acc in log_dict['CIFAR CNN on Non IID']['test_accuracy']])"
      ],
      "execution_count": null,
      "outputs": []
    },
    {
      "cell_type": "code",
      "metadata": {
        "id": "b2a2_Az-4nal"
      },
      "source": [
        "# print([test_acc[-1] for test_acc in log_dict['CIFAR MLP on IID']['test_accuracy']])"
      ],
      "execution_count": null,
      "outputs": []
    },
    {
      "cell_type": "code",
      "metadata": {
        "id": "YoRqZyvD4p2K"
      },
      "source": [
        "# print([test_acc[-1] for test_acc in log_dict['CIFAR MLP on Non IID']['test_accuracy']])"
      ],
      "execution_count": null,
      "outputs": []
    },
    {
      "cell_type": "code",
      "metadata": {
        "id": "mkG1kQdmVzbJ"
      },
      "source": [
        ""
      ],
      "execution_count": null,
      "outputs": []
    }
  ]
}