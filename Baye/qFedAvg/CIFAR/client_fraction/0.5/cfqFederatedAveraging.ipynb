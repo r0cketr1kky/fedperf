{
  "nbformat": 4,
  "nbformat_minor": 0,
  "metadata": {
    "accelerator": "GPU",
    "colab": {
      "name": "cfqFederatedAveraging.ipynb",
      "provenance": [],
      "collapsed_sections": [],
      "machine_shape": "hm"
    },
    "kernelspec": {
      "name": "python3",
      "display_name": "Python 3"
    },
    "language_info": {
      "name": "python"
    }
  },
  "cells": [
    {
      "cell_type": "markdown",
      "metadata": {
        "id": "view-in-github"
      },
      "source": [
        "<a href=\"https://colab.research.google.com/github/tushar-semwal/fedperf/blob/main/Vineeth/FedAvg_CIFAR.ipynb\" target=\"_parent\"><img src=\"https://colab.research.google.com/assets/colab-badge.svg\" alt=\"Open In Colab\"/></a>"
      ]
    },
    {
      "cell_type": "code",
      "metadata": {
        "id": "yKcpjZLrQQJV"
      },
      "source": [
        "%%capture output\n",
        "try:\n",
        "    from google.colab import drive\n",
        "    drive.mount('/content/drive')\n",
        "\n",
        "    import os\n",
        "    path = '/content/drive/MyDrive/Colab Notebooks/OpenMined/'\n",
        "    os.makedirs(path, exist_ok=True)\n",
        "except:\n",
        "    path = './'"
      ],
      "execution_count": 21,
      "outputs": []
    },
    {
      "cell_type": "markdown",
      "metadata": {
        "id": "-0_nKpfq2h1R"
      },
      "source": [
        "## Imports"
      ]
    },
    {
      "cell_type": "code",
      "metadata": {
        "id": "DLLNM9X2JbQ8",
        "colab": {
          "base_uri": "https://localhost:8080/"
        },
        "outputId": "90e034ec-f261-469a-9b2d-e6bd37cf750c"
      },
      "source": [
        "%load_ext tensorboard\n",
        "import os\n",
        "import numpy as np\n",
        "import matplotlib\n",
        "import matplotlib.pyplot as plt\n",
        "import copy\n",
        "import random\n",
        "import time\n",
        "\n",
        "import torch\n",
        "import torch.nn as nn\n",
        "import torch.nn.functional as F\n",
        "\n",
        "from torch.utils.data import Dataset, DataLoader\n",
        "from torch.utils.tensorboard import SummaryWriter\n",
        "from torchvision import transforms, utils, datasets\n",
        "from torchsummary import summary\n",
        "from sklearn.metrics import f1_score\n",
        "\n",
        "# Check assigned GPU\n",
        "gpu_info = !nvidia-smi\n",
        "gpu_info = '\\n'.join(gpu_info)\n",
        "if gpu_info.find('failed') >= 0:\n",
        "  print('Select the Runtime > \"Change runtime type\" menu to enable a GPU accelerator, ')\n",
        "  print('and then re-execute this cell.')\n",
        "else:\n",
        "  print(gpu_info)\n",
        "\n",
        "# set manual seed for reproducibility\n",
        "seed = 42\n",
        "\n",
        "# general reproducibility\n",
        "random.seed(seed)\n",
        "np.random.seed(seed)\n",
        "torch.manual_seed(seed)\n",
        "\n",
        "# gpu training specific\n",
        "torch.backends.cudnn.deterministic = True\n",
        "torch.backends.cudnn.benchmark = False"
      ],
      "execution_count": 22,
      "outputs": [
        {
          "output_type": "stream",
          "text": [
            "The tensorboard extension is already loaded. To reload it, use:\n",
            "  %reload_ext tensorboard\n",
            "Mon Apr 26 09:13:44 2021       \n",
            "+-----------------------------------------------------------------------------+\n",
            "| NVIDIA-SMI 465.19.01    Driver Version: 460.32.03    CUDA Version: 11.2     |\n",
            "|-------------------------------+----------------------+----------------------+\n",
            "| GPU  Name        Persistence-M| Bus-Id        Disp.A | Volatile Uncorr. ECC |\n",
            "| Fan  Temp  Perf  Pwr:Usage/Cap|         Memory-Usage | GPU-Util  Compute M. |\n",
            "|                               |                      |               MIG M. |\n",
            "|===============================+======================+======================|\n",
            "|   0  Tesla T4            Off  | 00000000:00:04.0 Off |                    0 |\n",
            "| N/A   53C    P0    29W /  70W |   2806MiB / 15109MiB |      0%      Default |\n",
            "|                               |                      |                  N/A |\n",
            "+-------------------------------+----------------------+----------------------+\n",
            "                                                                               \n",
            "+-----------------------------------------------------------------------------+\n",
            "| Processes:                                                                  |\n",
            "|  GPU   GI   CI        PID   Type   Process name                  GPU Memory |\n",
            "|        ID   ID                                                   Usage      |\n",
            "|=============================================================================|\n",
            "+-----------------------------------------------------------------------------+\n"
          ],
          "name": "stdout"
        }
      ]
    },
    {
      "cell_type": "markdown",
      "metadata": {
        "id": "NY4eWzGiL6Mj"
      },
      "source": [
        "## Load the CIFAR Dataset"
      ]
    },
    {
      "cell_type": "code",
      "metadata": {
        "id": "G649tjTXLL8F",
        "colab": {
          "base_uri": "https://localhost:8080/"
        },
        "outputId": "11d3654f-0199-41a8-8cd6-e189e80035ff"
      },
      "source": [
        "# create transforms\n",
        "# We will just convert to tensor and normalize since no special transforms are mentioned in the paper\n",
        "transform_train = transforms.Compose([\n",
        "    transforms.RandomCrop(32, padding=4),\n",
        "    transforms.RandomHorizontalFlip(),\n",
        "    transforms.ToTensor(),\n",
        "    transforms.Normalize((0.4914, 0.4822, 0.4465), (0.2023, 0.1994, 0.2010)),\n",
        "])\n",
        "\n",
        "# Normalize the test set same as training set without augmentation\n",
        "transform_test = transforms.Compose([\n",
        "    transforms.ToTensor(),\n",
        "    transforms.Normalize((0.4914, 0.4822, 0.4465), (0.2023, 0.1994, 0.2010)),\n",
        "])\n",
        "\n",
        "cifar_data_train = datasets.CIFAR10('../data/cifar10/', train=True, download=True, transform=transform_train)\n",
        "cifar_data_test = datasets.CIFAR10('../data/cifar10/', train=False, download=True, transform=transform_test)"
      ],
      "execution_count": 23,
      "outputs": [
        {
          "output_type": "stream",
          "text": [
            "Files already downloaded and verified\n",
            "Files already downloaded and verified\n"
          ],
          "name": "stdout"
        }
      ]
    },
    {
      "cell_type": "code",
      "metadata": {
        "id": "pOtLLX66b1Ad",
        "colab": {
          "base_uri": "https://localhost:8080/"
        },
        "outputId": "935f092b-3ef2-4cfd-9272-f1e02a05818a"
      },
      "source": [
        "classes = np.array(list(cifar_data_train.class_to_idx.values()))\n",
        "classes_test = np.array(list(cifar_data_test.class_to_idx.values()))\n",
        "num_classes = len(classes_test)\n",
        "print(\"Classes: {} \\tType: {}\".format(classes, type(classes)))\n",
        "print(\"Classes Test: {} \\tType: {}\".format(classes_test, type(classes)))\n"
      ],
      "execution_count": 24,
      "outputs": [
        {
          "output_type": "stream",
          "text": [
            "Classes: [0 1 2 3 4 5 6 7 8 9] \tType: <class 'numpy.ndarray'>\n",
            "Classes Test: [0 1 2 3 4 5 6 7 8 9] \tType: <class 'numpy.ndarray'>\n"
          ],
          "name": "stdout"
        }
      ]
    },
    {
      "cell_type": "code",
      "metadata": {
        "id": "wa4TJs-AVJ2O",
        "colab": {
          "base_uri": "https://localhost:8080/"
        },
        "outputId": "26925482-f5e6-4558-df39-7d158c7c7210"
      },
      "source": [
        "print(\"Image Shape: {}\".format(cifar_data_train.data[0].shape))"
      ],
      "execution_count": 25,
      "outputs": [
        {
          "output_type": "stream",
          "text": [
            "Image Shape: (32, 32, 3)\n"
          ],
          "name": "stdout"
        }
      ]
    },
    {
      "cell_type": "markdown",
      "metadata": {
        "id": "jCOONkg-zV7Y"
      },
      "source": [
        "## Visualize Data"
      ]
    },
    {
      "cell_type": "code",
      "metadata": {
        "id": "R9MK03TZw6Qs"
      },
      "source": [
        "def imshow(img):\n",
        "\t#img = img/2 + 0.5 #unnormalize the image\n",
        "\tplt.imshow(img, cmap='hsv') # convert from tensor to image"
      ],
      "execution_count": 26,
      "outputs": []
    },
    {
      "cell_type": "code",
      "metadata": {
        "id": "gMJ0Kx4Kw-_H"
      },
      "source": [
        "def visualize(dataset):\n",
        "  figure = plt.figure(figsize=(25,4))\n",
        "  for i in range(20):\n",
        "    axis = figure.add_subplot(2, 20/2, i+1, xticks=[], yticks=[])\n",
        "    data = dataset.data[i]\n",
        "    #data = data.numpy()\n",
        "\n",
        "    target = dataset.targets[i]\n",
        "    #target = target.numpy()\n",
        "    imshow(data)\n",
        "    axis.set_title(target)\n"
      ],
      "execution_count": 27,
      "outputs": []
    },
    {
      "cell_type": "code",
      "metadata": {
        "id": "8bPOwKg10Ro7",
        "colab": {
          "base_uri": "https://localhost:8080/",
          "height": 268
        },
        "outputId": "cb391169-8564-433f-c832-a59a1519b342"
      },
      "source": [
        "visualize(cifar_data_train)"
      ],
      "execution_count": 28,
      "outputs": [
        {
          "output_type": "display_data",
          "data": {
            "image/png": "[encoded data removed]",
            "text/plain": [
              "<Figure size 1800x288 with 20 Axes>"
            ]
          },
          "metadata": {
            "tags": []
          }
        }
      ]
    },
    {
      "cell_type": "code",
      "metadata": {
        "id": "RKoh5Cf70UYu",
        "colab": {
          "base_uri": "https://localhost:8080/",
          "height": 268
        },
        "outputId": "330d1b22-94cc-4c4e-80da-ddb02b17b329"
      },
      "source": [
        "visualize(cifar_data_test)"
      ],
      "execution_count": 29,
      "outputs": [
        {
          "output_type": "display_data",
          "data": {
            "image/png": "[encoded data removed]",
            "text/plain": [
              "<Figure size 1800x288 with 20 Axes>"
            ]
          },
          "metadata": {
            "tags": []
          }
        }
      ]
    },
    {
      "cell_type": "markdown",
      "metadata": {
        "id": "ctjRsETiO1qO"
      },
      "source": [
        "## Partitioning the Data (IID and non-IID)"
      ]
    },
    {
      "cell_type": "code",
      "metadata": {
        "id": "3_v8lyrgO5dD"
      },
      "source": [
        "def iid_partition(dataset, clients):\n",
        "  \"\"\"\n",
        "  I.I.D paritioning of data over clients\n",
        "  Shuffle the data\n",
        "  Split it between clients\n",
        "  \n",
        "  params:\n",
        "    - dataset (torch.utils.Dataset): Dataset containing the CIFAR Images\n",
        "    - clients (int): Number of Clients to split the data between\n",
        "\n",
        "  returns:\n",
        "    - Dictionary of image indexes for each client\n",
        "  \"\"\"\n",
        "\n",
        "  num_items_per_client = int(len(dataset)/clients)\n",
        "  client_dict = {}\n",
        "  image_idxs = [i for i in range(len(dataset))]\n",
        "\n",
        "  for i in range(clients):\n",
        "    client_dict[i] = set(np.random.choice(image_idxs, num_items_per_client, replace=False))\n",
        "    image_idxs = list(set(image_idxs) - client_dict[i])\n",
        "\n",
        "  return client_dict"
      ],
      "execution_count": 30,
      "outputs": []
    },
    {
      "cell_type": "code",
      "metadata": {
        "id": "4zMdliGMQoSl"
      },
      "source": [
        "def non_iid_partition(dataset, clients, total_shards, shards_size, num_shards_per_client):\n",
        "  \"\"\"\n",
        "  non I.I.D parititioning of data over clients\n",
        "  Sort the data by the digit label\n",
        "  Divide the data into N shards of size S\n",
        "  Each of the clients will get X shards\n",
        "\n",
        "  params:\n",
        "    - dataset (torch.utils.Dataset): Dataset containing the CIFAR Images\n",
        "    - clients (int): Number of Clients to split the data between\n",
        "    - total_shards (int): Number of shards to partition the data in\n",
        "    - shards_size (int): Size of each shard \n",
        "    - num_shards_per_client (int): Number of shards of size shards_size that each client receives\n",
        "\n",
        "  returns:\n",
        "    - Dictionary of image indexes for each client\n",
        "  \"\"\"\n",
        "  \n",
        "  shard_idxs = [i for i in range(total_shards)]\n",
        "  client_dict = {i: np.array([], dtype='int64') for i in range(clients)}\n",
        "  idxs = np.arange(len(dataset))\n",
        "  data_labels = np.array(dataset.targets)\n",
        "\n",
        "  # sort the labels\n",
        "  label_idxs = np.vstack((idxs, data_labels))\n",
        "  label_idxs = label_idxs[:, label_idxs[1,:].argsort()]\n",
        "  idxs = label_idxs[0,:]\n",
        "\n",
        "  # divide the data into total_shards of size shards_size\n",
        "  # assign num_shards_per_client to each client\n",
        "  for i in range(clients):\n",
        "    rand_set = set(np.random.choice(shard_idxs, num_shards_per_client, replace=False))\n",
        "    shard_idxs = list(set(shard_idxs) - rand_set)\n",
        "\n",
        "    for rand in rand_set:\n",
        "      client_dict[i] = np.concatenate((client_dict[i], idxs[rand*shards_size:(rand+1)*shards_size]), axis=0)\n",
        "  \n",
        "  return client_dict\n",
        "\n",
        "\n",
        "\n"
      ],
      "execution_count": 31,
      "outputs": []
    },
    {
      "cell_type": "markdown",
      "metadata": {
        "id": "EUP_bcedcLwB"
      },
      "source": [
        "##Models"
      ]
    },
    {
      "cell_type": "code",
      "metadata": {
        "id": "CvoDNFKbZST5"
      },
      "source": [
        "class CIFAR_MLP(nn.Module):\n",
        "  def __init__(self):\n",
        "    super(CIFAR_MLP, self).__init__()\n",
        "    self.fc1 = nn.Linear(3 * 32 * 32, 2634)\n",
        "    self.fc2 = nn.Linear(2634, 2196) \n",
        "    self.fc3 = nn.Linear(2196, 1758)\n",
        "    self.fc4 = nn.Linear(1758, 1320)\n",
        "    self.fc5 = nn.Linear(1320, 882)\n",
        "    self.fc6 = nn.Linear(882, 444) \n",
        "    self.fc7 = nn.Linear(444, 10) \n",
        "\n",
        "  def forward(self, x):\n",
        "    x = x.view(-1, 3 * 32 * 32)\n",
        "    x = F.relu(self.fc1(x))\n",
        "    x = F.relu(self.fc2(x))\n",
        "    x = F.relu(self.fc3(x))\n",
        "    x = F.relu(self.fc4(x))\n",
        "    x = F.relu(self.fc5(x))\n",
        "    x = F.relu(self.fc6(x))\n",
        "\n",
        "    x = self.fc7(x)\n",
        "    return x"
      ],
      "execution_count": 32,
      "outputs": []
    },
    {
      "cell_type": "code",
      "metadata": {
        "id": "ut1hZ8x3qYPZ"
      },
      "source": [
        "class CIFAR_CNN(nn.Module):\n",
        "  def __init__(self):\n",
        "    super(CIFAR_CNN, self).__init__()\n",
        "\n",
        "    self.conv_layer = nn.Sequential(\n",
        "      nn.Conv2d(in_channels=3, out_channels=32, kernel_size=3, padding=1),\n",
        "      nn.BatchNorm2d(32),\n",
        "      nn.ReLU(inplace=True),\n",
        "      nn.Conv2d(in_channels=32, out_channels=64, kernel_size=3, padding=1),\n",
        "      nn.ReLU(inplace=True),\n",
        "      nn.MaxPool2d(kernel_size=2, stride=2),\n",
        "\n",
        "      nn.Conv2d(in_channels=64, out_channels=128, kernel_size=3, padding=1),\n",
        "      nn.BatchNorm2d(128),\n",
        "      nn.ReLU(inplace=True),\n",
        "      nn.Conv2d(in_channels=128, out_channels=128, kernel_size=3, padding=1),\n",
        "      nn.ReLU(inplace=True),\n",
        "      nn.MaxPool2d(kernel_size=2, stride=2),\n",
        "      nn.Dropout2d(p=0.05),\n",
        "\n",
        "      nn.Conv2d(in_channels=128, out_channels=256, kernel_size=3, padding=1),\n",
        "      nn.BatchNorm2d(256),\n",
        "      nn.ReLU(inplace=True),\n",
        "      nn.Conv2d(in_channels=256, out_channels=256, kernel_size=3, padding=1),\n",
        "      nn.ReLU(inplace=True),\n",
        "      nn.MaxPool2d(kernel_size=2, stride=2),\n",
        "    )\n",
        "\n",
        "    self.fc_layer = nn.Sequential(\n",
        "      nn.Dropout(p=0.1),\n",
        "      nn.Linear(4096, 1024),\n",
        "      nn.ReLU(inplace=True),\n",
        "      nn.Linear(1024, 512),\n",
        "      nn.ReLU(inplace=True),\n",
        "      nn.Dropout(p=0.1),\n",
        "      nn.Linear(512, 10)\n",
        "    )\n",
        "\n",
        "\n",
        "  def forward(self, x):      \n",
        "    # conv layers\n",
        "    x = self.conv_layer(x)\n",
        "    \n",
        "    # flatten\n",
        "    x = x.view(x.size(0), -1)\n",
        "    \n",
        "    # fc layer\n",
        "    x = self.fc_layer(x)\n",
        "\n",
        "    return x"
      ],
      "execution_count": 33,
      "outputs": []
    },
    {
      "cell_type": "markdown",
      "metadata": {
        "id": "uVv4HA9HuLtr"
      },
      "source": [
        "### Print Model Summaries"
      ]
    },
    {
      "cell_type": "code",
      "metadata": {
        "id": "-H2jR2-Id4AA",
        "colab": {
          "base_uri": "https://localhost:8080/"
        },
        "outputId": "dddd3e73-9b4d-4760-ed2e-a8a3ea1af58f"
      },
      "source": [
        "cifar_mlp = CIFAR_MLP()\n",
        "cifar_cnn = CIFAR_CNN()\n",
        "\n",
        "if torch.cuda.is_available():\n",
        "  cifar_mlp.cuda()\n",
        "  cifar_cnn.cuda()\n",
        "\n",
        "print(\"CIFAR MLP SUMMARY\")\n",
        "print(summary(cifar_mlp, (32,32,3)))\n",
        "\n",
        "print(\"\\nCIFAR CNN SUMMARY\")\n",
        "print(summary(cifar_cnn, (3, 32,32)))"
      ],
      "execution_count": 34,
      "outputs": [
        {
          "output_type": "stream",
          "text": [
            "CIFAR MLP SUMMARY\n",
            "----------------------------------------------------------------\n",
            "        Layer (type)               Output Shape         Param #\n",
            "================================================================\n",
            "            Linear-1                 [-1, 2634]       8,094,282\n",
            "            Linear-2                 [-1, 2196]       5,786,460\n",
            "            Linear-3                 [-1, 1758]       3,862,326\n",
            "            Linear-4                 [-1, 1320]       2,321,880\n",
            "            Linear-5                  [-1, 882]       1,165,122\n",
            "            Linear-6                  [-1, 444]         392,052\n",
            "            Linear-7                   [-1, 10]           4,450\n",
            "================================================================\n",
            "Total params: 21,626,572\n",
            "Trainable params: 21,626,572\n",
            "Non-trainable params: 0\n",
            "----------------------------------------------------------------\n",
            "Input size (MB): 0.01\n",
            "Forward/backward pass size (MB): 0.07\n",
            "Params size (MB): 82.50\n",
            "Estimated Total Size (MB): 82.58\n",
            "----------------------------------------------------------------\n",
            "None\n",
            "\n",
            "CIFAR CNN SUMMARY\n",
            "----------------------------------------------------------------\n",
            "        Layer (type)               Output Shape         Param #\n",
            "================================================================\n",
            "            Conv2d-1           [-1, 32, 32, 32]             896\n",
            "       BatchNorm2d-2           [-1, 32, 32, 32]              64\n",
            "              ReLU-3           [-1, 32, 32, 32]               0\n",
            "            Conv2d-4           [-1, 64, 32, 32]          18,496\n",
            "              ReLU-5           [-1, 64, 32, 32]               0\n",
            "         MaxPool2d-6           [-1, 64, 16, 16]               0\n",
            "            Conv2d-7          [-1, 128, 16, 16]          73,856\n",
            "       BatchNorm2d-8          [-1, 128, 16, 16]             256\n",
            "              ReLU-9          [-1, 128, 16, 16]               0\n",
            "           Conv2d-10          [-1, 128, 16, 16]         147,584\n",
            "             ReLU-11          [-1, 128, 16, 16]               0\n",
            "        MaxPool2d-12            [-1, 128, 8, 8]               0\n",
            "        Dropout2d-13            [-1, 128, 8, 8]               0\n",
            "           Conv2d-14            [-1, 256, 8, 8]         295,168\n",
            "      BatchNorm2d-15            [-1, 256, 8, 8]             512\n",
            "             ReLU-16            [-1, 256, 8, 8]               0\n",
            "           Conv2d-17            [-1, 256, 8, 8]         590,080\n",
            "             ReLU-18            [-1, 256, 8, 8]               0\n",
            "        MaxPool2d-19            [-1, 256, 4, 4]               0\n",
            "          Dropout-20                 [-1, 4096]               0\n",
            "           Linear-21                 [-1, 1024]       4,195,328\n",
            "             ReLU-22                 [-1, 1024]               0\n",
            "           Linear-23                  [-1, 512]         524,800\n",
            "             ReLU-24                  [-1, 512]               0\n",
            "          Dropout-25                  [-1, 512]               0\n",
            "           Linear-26                   [-1, 10]           5,130\n",
            "================================================================\n",
            "Total params: 5,852,170\n",
            "Trainable params: 5,852,170\n",
            "Non-trainable params: 0\n",
            "----------------------------------------------------------------\n",
            "Input size (MB): 0.01\n",
            "Forward/backward pass size (MB): 3.96\n",
            "Params size (MB): 22.32\n",
            "Estimated Total Size (MB): 26.30\n",
            "----------------------------------------------------------------\n",
            "None\n"
          ],
          "name": "stdout"
        }
      ]
    },
    {
      "cell_type": "markdown",
      "metadata": {
        "id": "gf_8XEXa-gZ7"
      },
      "source": [
        "## q Federated Averaging"
      ]
    },
    {
      "cell_type": "markdown",
      "metadata": {
        "id": "L-aNdQsQ-Kvp"
      },
      "source": [
        "### Local Training (Client Update)\n",
        "\n",
        "Local training for the model on client side"
      ]
    },
    {
      "cell_type": "code",
      "metadata": {
        "id": "oX6OsQyO-Gz7"
      },
      "source": [
        "class CustomDataset(Dataset):\n",
        "  def __init__(self, dataset, idxs):\n",
        "      self.dataset = dataset\n",
        "      self.idxs = list(idxs)\n",
        "\n",
        "  def __len__(self):\n",
        "      return len(self.idxs)\n",
        "\n",
        "  def __getitem__(self, item):\n",
        "      image, label = self.dataset[self.idxs[item]]\n",
        "      return image, label\n",
        "\n",
        "\n",
        "class ClientUpdate(object):\n",
        "  def __init__(self, dataset, batch_size, learning_rate, epochs, idxs, q=None):\n",
        "    if hasattr(dataset, 'dataloader'):\n",
        "        self.train_loader = dataset.dataloader(batch_size=batch_size, shuffle=True)\n",
        "    else:\n",
        "        self.train_loader = DataLoader(CustomDataset(dataset, idxs), batch_size=batch_size, shuffle=True)\n",
        "\n",
        "    self.learning_rate = learning_rate\n",
        "    self.epochs = epochs\n",
        "    self.q = q\n",
        "    if not self.q:\n",
        "        # TODO: Client itself adjust fairness \n",
        "        pass\n",
        "    self.mu = 1e-10\n",
        "\n",
        "  def train(self, model):\n",
        "    criterion = nn.CrossEntropyLoss()\n",
        "    optimizer = torch.optim.SGD(model.parameters(), lr=self.learning_rate, momentum=0.5)\n",
        "\n",
        "    e_loss = []\n",
        "\n",
        "    model_weights = copy.deepcopy(model.state_dict())\n",
        "    for epoch in range(1, self.epochs+1):\n",
        "\n",
        "      train_loss = 0.0\n",
        "\n",
        "      model.train()\n",
        "      # for data, labels in tqdm(self.train_loader):\n",
        "      for data, labels in self.train_loader:\n",
        "\n",
        "        if torch.cuda.is_available():\n",
        "          data, labels = data.cuda(), labels.cuda()\n",
        "\n",
        "        # clear the gradients\n",
        "        optimizer.zero_grad()\n",
        "        # make a forward pass\n",
        "        output = model(data)\n",
        "        # calculate the loss\n",
        "        loss = criterion(output, labels)\n",
        "        # do a backwards pass\n",
        "        loss.backward()\n",
        "        # perform a single optimization step\n",
        "        optimizer.step()\n",
        "        # update training loss\n",
        "        train_loss += loss.item()*data.size(0)\n",
        "\n",
        "      # average losses\n",
        "      train_loss = train_loss/len(self.train_loader.dataset)\n",
        "      e_loss.append(train_loss)\n",
        "\n",
        "\n",
        "    total_loss = sum(e_loss)/len(e_loss)\n",
        "\n",
        "    # delta weights\n",
        "    model_weights_new = copy.deepcopy(model.state_dict())\n",
        "    L = 1.0 / self.learning_rate\n",
        "\n",
        "    delta_weights, delta, h = {}, {}, {}\n",
        "    loss_q = np.float_power(total_loss + self.mu, self.q)\n",
        "    # updating the global weights\n",
        "    for k in model_weights_new.keys():\n",
        "      delta_weights[k] = (model_weights[k] - model_weights_new[k]) * L\n",
        "      delta[k] =  loss_q * delta_weights[k]\n",
        "      # Estimation of the local Lipchitz constant\n",
        "      h[k] = (self.q * np.float_power(total_loss + self.mu, self.q - 1) * torch.pow(torch.norm(delta_weights[k]), 2)) + (L * loss_q)\n",
        "\n",
        "    return delta, h, total_loss"
      ],
      "execution_count": 35,
      "outputs": []
    },
    {
      "cell_type": "markdown",
      "metadata": {
        "id": "Ukgh1DVHE2Ds"
      },
      "source": [
        "### Server Side Training\n",
        "\n",
        "Following Algorithm 1 from the paper"
      ]
    },
    {
      "cell_type": "code",
      "metadata": {
        "id": "qrcxVP4QcbWs"
      },
      "source": [
        "def client_sampling(n, m, weights=None, with_replace=False):\n",
        "    pk = None\n",
        "    if weights:\n",
        "        total_weights = np.sum(np.asarray(weights))\n",
        "        pk = [w * 1.0 / total_weights for w in weights]\n",
        "\n",
        "    return np.random.choice(range(n), m, replace=with_replace, p=pk)"
      ],
      "execution_count": 36,
      "outputs": []
    },
    {
      "cell_type": "code",
      "metadata": {
        "id": "1NF1e33BgpeL"
      },
      "source": [
        "def training(model, rounds, batch_size, lr, ds, ds_test, data_dict, C, K, E, q, sampling, plt_title, plt_color):\n",
        "  \"\"\"\n",
        "  Function implements the Federated Averaging Algorithm from the FedAvg paper.\n",
        "  Specifically, this function is used for the server side training and weight update\n",
        "\n",
        "  Params:\n",
        "    - model:           PyTorch model to train\n",
        "    - rounds:          Number of communication rounds for the client update\n",
        "    - batch_size:      Batch size for client update training\n",
        "    - lr:              Learning rate used for client update training\n",
        "    - ds:              Dataset used for training\n",
        "    - ds_test:         Dataset used for testing\n",
        "    - data_dict:       Type of data partition used for training (IID or non-IID)\n",
        "    - C:               Fraction of clients randomly chosen to perform computation on each round\n",
        "    - K:               Total number of clients\n",
        "    - E:               Number of training passes each client makes over its local dataset per round\n",
        "    - tb_writer_name:  Directory name to save the tensorboard logs\n",
        "  Returns:\n",
        "    - model:           Trained model on the server\n",
        "  \"\"\"\n",
        "\n",
        "  # global model weights\n",
        "  global_weights = model.state_dict()\n",
        "\n",
        "  # training loss\n",
        "  # train_accuracy = []\n",
        "  train_loss = []\n",
        "  test_accuracy = []\n",
        "  test_loss = []\n",
        "  f1_macro = []\n",
        "  f1_weighted = []\n",
        "\n",
        "  # client weights by total samples\n",
        "  p_k = None\n",
        "  if sampling == 'weighted':\n",
        "    p_k = [len(data_dict[c]) for c in data_dict] if ds else [len(data_dict[c]['train_ds']) for c in data_dict]\n",
        "\n",
        "  # Time log\n",
        "  start_time = time.time()\n",
        "\n",
        "  users_id = list(data_dict.keys())\n",
        "\n",
        "  for curr_round in range(1, rounds+1):\n",
        "    deltas, hs, local_loss = [], [], []\n",
        "\n",
        "    m = max(int(C*K), 1)    \n",
        "    S_t = client_sampling(K, m, weights=p_k, with_replace=False)\n",
        "\n",
        "    print('Round: {} Picking {}/{} clients: {}'.format(curr_round, m, K, S_t))\n",
        "\n",
        "    global_weights = model.state_dict()\n",
        "\n",
        "    for k in range(len(S_t)):\n",
        "      key = users_id[k]\n",
        "      ds_ = ds if ds else data_dict[key]['train_ds']\n",
        "      idxs = data_dict[key] if ds else None\n",
        "      local_update = ClientUpdate(dataset=ds_, batch_size=batch_size, learning_rate=lr, epochs=E, idxs=idxs, q=q)\n",
        "      delta_k, h_k, loss = local_update.train(model=copy.deepcopy(model))\n",
        "\n",
        "      deltas.append(copy.deepcopy(delta_k))\n",
        "      hs.append(copy.deepcopy(h_k))\n",
        "      local_loss.append(copy.deepcopy(loss))\n",
        "\n",
        "    # Perform qFedAvg\n",
        "    h_sum = copy.deepcopy(hs[0])\n",
        "    delta_sum = copy.deepcopy(deltas[0])\n",
        "    \n",
        "    for k in h_sum.keys():\n",
        "        for i in range(1, len(hs)):\n",
        "            h_sum[k] += hs[i][k]\n",
        "            delta_sum[k] += deltas[i][k]\n",
        "\n",
        "    new_weights = {}\n",
        "    for k in delta_sum.keys():\n",
        "        for i in range(len(deltas)):\n",
        "            new_weights[k] = delta_sum[k] / h_sum[k]\n",
        "\n",
        "    # Updating global model weights\n",
        "    for k in global_weights.keys():\n",
        "        if 'num_batches_tracked' in k:\n",
        "            continue\n",
        "        global_weights[k] -= new_weights[k]\n",
        "\n",
        "    # move the updated weights to our model state dict\n",
        "    model.load_state_dict(global_weights)\n",
        "\n",
        "    # loss\n",
        "    loss_avg = sum(local_loss) / len(local_loss)\n",
        "    print('Round: {}... \\tAverage Loss: {}'.format(curr_round, round(loss_avg, 3)))\n",
        "    train_loss.append(loss_avg)\n",
        "\n",
        "    # test\n",
        "    test_criterion = nn.CrossEntropyLoss()\n",
        "    test_accuracy_current, test_loss_current, f1_macro_current, f1_weighted_current =  testing(copy.deepcopy(model), ds_test, 128, test_criterion, num_classes, classes_test)\n",
        "    test_accuracy.append(test_accuracy_current)\n",
        "    test_loss.append(test_loss_current)\n",
        "    f1_macro.append(f1_macro_current)\n",
        "    f1_weighted.append(f1_weighted_current)\n",
        "\n",
        "  end_time = time.time()\n",
        "  \n",
        "  fig, ax = plt.subplots()\n",
        "  x_axis = np.arange(1, rounds+1)\n",
        "  y_axis = np.array(train_loss)\n",
        "  ax.plot(x_axis, y_axis, 'tab:'+plt_color)\n",
        "\n",
        "  ax.set(xlabel='Number of Rounds', ylabel='Train Loss',\n",
        "       title=plt_title)\n",
        "  ax.grid()\n",
        "  fig.savefig(plt_title+'_Train_loss.jpg', format='jpg')\n",
        "  plt.show()\n",
        "\n",
        "  fig, ax = plt.subplots()\n",
        "  x_axis = np.arange(1, rounds+1)\n",
        "  y_axis = np.array(test_loss)\n",
        "  ax.plot(x_axis, y_axis, 'tab:'+plt_color)\n",
        "\n",
        "  ax.set(xlabel='Number of Rounds', ylabel='Test Loss',\n",
        "       title=plt_title)\n",
        "  ax.grid()\n",
        "  fig.savefig(plt_title+'_Test_loss.jpg', format='jpg')\n",
        "  plt.show()\n",
        "\n",
        "  fig, ax = plt.subplots()\n",
        "  x_axis = np.arange(1, rounds+1)\n",
        "  y_axis = np.array(test_accuracy)\n",
        "  ax.plot(x_axis, y_axis, 'tab:'+plt_color)\n",
        "\n",
        "  ax.set(xlabel='Number of Rounds', ylabel='Test Accuracy',\n",
        "       title=plt_title)\n",
        "  ax.grid()\n",
        "  fig.savefig(plt_title+'_Test_Accuracy.jpg', format='jpg')\n",
        "  plt.show()\n",
        "\n",
        "  fig, ax = plt.subplots()\n",
        "  x_axis = np.arange(1, rounds+1)\n",
        "  y_axis = np.array(f1_macro)\n",
        "  ax.plot(x_axis, y_axis, 'tab:'+plt_color)\n",
        "\n",
        "  ax.set(xlabel='Number of Rounds', ylabel='F1 Macro',\n",
        "       title=plt_title)\n",
        "  ax.grid()\n",
        "  fig.savefig(plt_title+'_F1_Marco.jpg', format='jpg')\n",
        "  plt.show()\n",
        "\n",
        "  fig, ax = plt.subplots()\n",
        "  x_axis = np.arange(1, rounds+1)\n",
        "  y_axis = np.array(f1_weighted)\n",
        "  ax.plot(x_axis, y_axis, 'tab:'+plt_color)\n",
        "\n",
        "  ax.set(xlabel='Number of Rounds', ylabel='F1 Weighted',\n",
        "       title=plt_title)\n",
        "  ax.grid()\n",
        "  fig.savefig(plt_title+'_F1_Weighted.jpg', format='jpg')\n",
        "  plt.show()\n",
        "\n",
        "  print(\"Training Done!\")\n",
        "  print(\"Total time taken to Train: {}\\n\\n\".format(end_time-start_time))\n",
        "  \n",
        "  return model, train_loss, test_accuracy, test_loss, f1_macro, f1_weighted"
      ],
      "execution_count": 37,
      "outputs": []
    },
    {
      "cell_type": "markdown",
      "metadata": {
        "id": "tUYyb4T-uXmF"
      },
      "source": [
        "## Testing Loop"
      ]
    },
    {
      "cell_type": "code",
      "metadata": {
        "id": "uCcIZmO5uan9"
      },
      "source": [
        "def testing(model, dataset, bs, criterion, num_classes, classes, print_info=False):\n",
        "  #test loss \n",
        "  test_loss = 0.0\n",
        "  y_true, y_hat = None, None\n",
        "\n",
        "  correct_class = list(0 for i in range(num_classes))\n",
        "  total_class = list(0 for i in range(num_classes))\n",
        "\n",
        "  if hasattr(dataset, 'dataloader'):\n",
        "    test_loader = dataset.dataloader(batch_size=bs, shuffle=False)\n",
        "  else:\n",
        "    test_loader = DataLoader(dataset, batch_size=bs, shuffle=False)\n",
        "\n",
        "  l = len(test_loader)\n",
        "\n",
        "  model.eval()\n",
        "  for i, (data, labels) in enumerate(test_loader):\n",
        "\n",
        "    if torch.cuda.is_available():\n",
        "      data, labels = data.cuda(), labels.cuda()\n",
        "\n",
        "    output = model(data)\n",
        "    loss = criterion(output, labels)\n",
        "    test_loss += loss.item()*data.size(0)\n",
        "\n",
        "    _, pred = torch.max(output, dim=1)\n",
        "\n",
        "    # For F1Score\n",
        "    y_true = np.append(y_true, labels.data.view_as(pred).cpu().numpy()) if i != 0 else labels.data.view_as(pred).cpu().numpy()\n",
        "    y_hat = np.append(y_hat, pred.cpu().numpy()) if i != 0 else pred.cpu().numpy()\n",
        "\n",
        "    correct_tensor = pred.eq(labels.data.view_as(pred))\n",
        "    correct = np.squeeze(correct_tensor.numpy()) if not torch.cuda.is_available() else np.squeeze(correct_tensor.cpu().numpy())\n",
        "\n",
        "    for i, lbl in enumerate(labels.data):\n",
        "      try:\n",
        "        correct_class[lbl.item()] += correct[i]\n",
        "        total_class[lbl.item()] += 1\n",
        "      except:\n",
        "          print('Error', lbl, i)\n",
        "    \n",
        "  # avg test loss\n",
        "  test_loss = test_loss/len(test_loader.dataset)\n",
        "  test_accuracy = 100. * np.sum(correct_class) / np.sum(total_class)\n",
        "  # Avg F1 Score\n",
        "  f1_macro = f1_score(y_true, y_hat, average='macro')\n",
        "  # F1-Score -> weigthed to consider class imbalance\n",
        "  f1_weighted =  f1_score(y_true, y_hat, average='weighted')\n",
        "\n",
        "  if print_info:\n",
        "    print(\"Test Loss: {:.6f}\\n\".format(test_loss))\n",
        "\n",
        "    for i in range(10):\n",
        "      if total_class[i]>0:\n",
        "        print('Test Accuracy of %5s: %2d%% (%2d/%2d)' % \n",
        "              (classes[i], 100 * correct_class[i] / total_class[i],\n",
        "              np.sum(correct_class[i]), np.sum(total_class[i])))\n",
        "      else:\n",
        "        print('Test Accuracy of %5s: N/A (no training examples)' % (classes[i]))\n",
        "\n",
        "    print('\\nFinal Test  Accuracy: {:.3f} ({}/{})'.format(\n",
        "          100. * np.sum(correct_class) / np.sum(total_class),\n",
        "          np.sum(correct_class), np.sum(total_class)))\n",
        "\n",
        "    print(\"F1 Score: {:.6f} (macro) {:.6f} (weighted) %\\n\".format(f1_macro, f1_weighted))\n",
        "  \n",
        "  return test_accuracy, test_loss, f1_macro, f1_weighted"
      ],
      "execution_count": 38,
      "outputs": []
    },
    {
      "cell_type": "markdown",
      "metadata": {
        "id": "Ri0FqXFeHW-V"
      },
      "source": [
        "## Logger"
      ]
    },
    {
      "cell_type": "code",
      "metadata": {
        "id": "cMBtx9P5c1V_"
      },
      "source": [
        "log_dict = {}\n",
        "NUM_REPEAT = 1"
      ],
      "execution_count": 39,
      "outputs": []
    },
    {
      "cell_type": "markdown",
      "metadata": {
        "id": "4hO5oV6aXqeh"
      },
      "source": [
        "## CIFAR CNN on IID"
      ]
    },
    {
      "cell_type": "markdown",
      "metadata": {
        "id": "flSQv_P4zCfx"
      },
      "source": [
        "### Train\n"
      ]
    },
    {
      "cell_type": "code",
      "metadata": {
        "id": "0ZalcKZtEseA",
        "colab": {
          "base_uri": "https://localhost:8080/",
          "height": 1000
        },
        "outputId": "c53a43ec-6624-4a36-c41b-41b5075e50f7"
      },
      "source": [
        "train_loss_multiple_runs = [None] * NUM_REPEAT\n",
        "test_accuracy_multiple_runs = [None] * NUM_REPEAT\n",
        "test_loss_multiple_runs = [None] * NUM_REPEAT\n",
        "f1_macro_multiple_runs = [None] * NUM_REPEAT\n",
        "f1_weighted_multiple_runs = [None] * NUM_REPEAT\n",
        "\n",
        "for exp_num in range(NUM_REPEAT):\n",
        "  print(\"Experiment Run Number: \", exp_num)\n",
        "\n",
        "  # number of training rounds\n",
        "  rounds = 50\n",
        "  # client fraction\n",
        "  C = 0.5\n",
        "  # number of clients\n",
        "  K = 100\n",
        "  # number of training passes on local dataset for each roung\n",
        "  E = 5\n",
        "  # batch size\n",
        "  batch_size = 10\n",
        "  # learning Rate\n",
        "  lr=0.05\n",
        "  # fairness\n",
        "  q = 0.001\n",
        "  # sampling\n",
        "  # sampling = 'uniform'\n",
        "  sampling = 'weighted'\n",
        "  \n",
        "  # data partition dictionary\n",
        "  iid_dict = iid_partition(cifar_data_train, 100)\n",
        "  # load model\n",
        "  cifar_cnn = CIFAR_CNN()\n",
        "\n",
        "  if torch.cuda.is_available():\n",
        "    cifar_cnn.cuda()\n",
        "\n",
        "  cifar_cnn_iid_trained, train_loss, test_accuracy, test_loss, f1_macro, f1_weighted = training(cifar_cnn, rounds, batch_size, lr, cifar_data_train, cifar_data_test, iid_dict, C, K, E, q, sampling, \"CIFAR CNN on IID Dataset\", \"orange\")\n",
        "\n",
        "  train_loss_multiple_runs[exp_num] = train_loss\n",
        "  test_accuracy_multiple_runs[exp_num] = test_accuracy\n",
        "  test_loss_multiple_runs[exp_num] = test_loss\n",
        "  f1_macro_multiple_runs[exp_num] = f1_macro\n",
        "  f1_weighted_multiple_runs[exp_num] = f1_weighted\n",
        "    \n",
        "  del cifar_cnn_iid_trained\n",
        "  torch.cuda.empty_cache()"
      ],
      "execution_count": 40,
      "outputs": [
        {
          "output_type": "stream",
          "text": [
            "Experiment Run Number:  0\n",
            "Round: 1 Picking 50/100 clients: [62 95 33 39  3 35 97 42 19 85 70 49 71 94  4 68 92 99 53 13  2 76 26 31\n",
            " 72 83 51 66 82 87 24 40  8 59 28 14 23 25 30 79 65 47  7 69 21 74 27 55\n",
            " 52 90]\n",
            "Round: 1... \tAverage Loss: 2.127\n",
            "Round: 2 Picking 50/100 clients: [76 16 51 18 39 63 85  4 31 60 84 44 53 30 71 15 17 23  7 78 87 22  0 89\n",
            " 43 73 14  6 98  9 21 64 69  3 57 25 32 11 10 83 13 80 50 54 67 52 42 82\n",
            " 28 56]\n",
            "Round: 2... \tAverage Loss: 2.006\n",
            "Round: 3 Picking 50/100 clients: [45  3 57  9 97  2 88 73 52 31 58 51 64 76 50 81 74 93 69 98 33 28 23 40\n",
            " 25 46  1 68 86 94  6 95 49 90 85 24 63 61 82 16 41 79 38 44 32 47 10 35\n",
            "  7 96]\n",
            "Round: 3... \tAverage Loss: 1.889\n",
            "Round: 4 Picking 50/100 clients: [46 80 17 37 94 44 19 96 77 10 36 97 47 57 85 20 91  6 98  1 88 32 49 14\n",
            " 61 24 53 26  5 59 69 55  4 13 82 99 42  8 60 71 90 58 25 33 45 74 63 76\n",
            " 23 78]\n",
            "Round: 4... \tAverage Loss: 1.793\n",
            "Round: 5 Picking 50/100 clients: [24 69 50 95 92 96 25  2 40 10 99  9 29 37 36 84 94  3 27 89 64 47 79 14\n",
            " 88 86  7 81  6 59 45 44 90 57 77 39 16 83 73 72 65  1 87 68  4 82 56 17\n",
            " 63 80]\n",
            "Round: 5... \tAverage Loss: 1.712\n",
            "Round: 6 Picking 50/100 clients: [ 1 69 91 75 63 17 76 39 31 21 30 88 19 79 57 38 97  4 95 54 56 25 23 40\n",
            " 72 41 58 60 78 89 42 83 37 29 70 84 85 77 66 96 45 16 47 65 73 92 48 87\n",
            " 33 64]\n",
            "Round: 6... \tAverage Loss: 1.638\n",
            "Round: 7 Picking 50/100 clients: [10 31 69 83 97 57 35 44 70 79 47 76 51  0 65 43  4 50 95 63 81 28 94 82\n",
            " 62 73 74  8 45 34 66 86 36  9 52 88 67 14 92 85 29 21 39 78 87 91 61 13\n",
            " 32 64]\n",
            "Round: 7... \tAverage Loss: 1.568\n",
            "Round: 8 Picking 50/100 clients: [22 66 26 10 13 81 59 64 37 38 78 42 55 72 61 65  6  0 91 27 23 47 97 63\n",
            " 68 46 98 51 25 34  3 88 32 73 52 82  2 18 54 15 24 43 16  5 96 69 67  9\n",
            " 87  7]\n",
            "Round: 8... \tAverage Loss: 1.503\n",
            "Round: 9 Picking 50/100 clients: [54 88 29 72 76 61 93 82 19 10 40  8 47 11 73 86 68 48 30 98  5 51 41 71\n",
            " 49 95 18 16  0 63 70 25 43 20 23 85 55 22 79 46 52 80 75 34 15 65  7 59\n",
            " 31 32]\n",
            "Round: 9... \tAverage Loss: 1.443\n",
            "Round: 10 Picking 50/100 clients: [52 23 33 84 27 64 80 40 93 89 57 12 74 25 11 63 86 29 81 15 83 77 36 16\n",
            " 24 75  6 19 45 37 55  1 17 49 51 92 99 42 28 79 56 67  9  8 88  3 30 44\n",
            " 69 22]\n",
            "Round: 10... \tAverage Loss: 1.387\n",
            "Round: 11 Picking 50/100 clients: [83 36 58 17 14 60 33 91 87 51 53 19 84 85 41 38  0 32 96 31  4 56 94 74\n",
            " 90 39 66  7 98 79 28 73 12 97 25 27 16 82 13 76 54  2 26 30 65 10 93 61\n",
            " 55 78]\n",
            "Round: 11... \tAverage Loss: 1.327\n",
            "Round: 12 Picking 50/100 clients: [ 0 52 46  5 19 51 25 41 14 44 54 36 78 48 94 35 87 26 28 43  3 32 84 93\n",
            " 18 79  1 70 63 69 64 99 97 61 92 11 59 75 38 82 76 53 74 31  6 33 29 42\n",
            " 55 81]\n",
            "Round: 12... \tAverage Loss: 1.274\n",
            "Round: 13 Picking 50/100 clients: [90 51  2 69 47 89  3 17 52 86 58 31 85 26 10 74 92 72 67 22 61 82 60 38\n",
            " 99  0 42 76 50 28  1 98 88 15  9 54 18 94 93  4 16 57 39 37 35 12 14 79\n",
            " 53  8]\n",
            "Round: 13... \tAverage Loss: 1.224\n",
            "Round: 14 Picking 50/100 clients: [25 22 40  3 34 50 85 96 31 47 21 61 32 81 67 86 82 68 27 97 78 12 66 33\n",
            " 29  4 38 24 62 10 64 79 84 90  2 49 45 44 53 98 89  5 39 55 91 18 48 74\n",
            " 93 95]\n",
            "Round: 14... \tAverage Loss: 1.168\n",
            "Round: 15 Picking 50/100 clients: [ 0 18 86  1 35 51 76 36 67 66 39 55 11 61 25 21 59 28 74 26 82  2 24 56\n",
            "  9 46 53 95 57 13 63 94 60 90 27 19 58 23 70 22 29 64 42 80  4 45 75 32\n",
            " 14 97]\n",
            "Round: 15... \tAverage Loss: 1.122\n",
            "Round: 16 Picking 50/100 clients: [27 83 73 88 10 49 87 23 74 54 17 66 19 26 13 14  6 30 18 98  0 31 61 58\n",
            " 86  2 85 35 75 76 34 82 39 43 41 28 50 72 57 12 51 33 95 62 99  8 94 97\n",
            "  9 16]\n",
            "Round: 16... \tAverage Loss: 1.074\n",
            "Round: 17 Picking 50/100 clients: [40 57 23 86 85 15 83 78 76 54 60 19 14 51 35 50 38 36 20 72 33  7 24 82\n",
            " 37 31 68  9  5 98 58 61 34 92 39 12  0 11 46 99 62 27 65 48  6 95 16 73\n",
            " 28  3]\n",
            "Round: 17... \tAverage Loss: 1.031\n",
            "Round: 18 Picking 50/100 clients: [60 90 55  2  9 75 51 99 11 16 30 76 15 44 43 58 97  3 21 29 71 18 52 25\n",
            " 64 95 59 94 47 31 68 24 12 61 56 67 86  1 33 26 73 88 57 22 78  0 63 98\n",
            " 35 40]\n",
            "Round: 18... \tAverage Loss: 0.988\n",
            "Round: 19 Picking 50/100 clients: [18 51  0 65 68 50 76 46 89 61 92 21 53 72 24 78 13  3 27 96 73 15 85 49\n",
            " 10 83 48  5 79 84 60 20 44 58 34 98 57 99 22 19 29 59 25 38  6 31 45  1\n",
            " 14  4]\n",
            "Round: 19... \tAverage Loss: 0.954\n",
            "Round: 20 Picking 50/100 clients: [85 53 47 14 39 93 27  4 91 60 65 36 55 98 82 40 51 87  8 17  6 89 62 33\n",
            " 12  2 19 81  5  7 18 52 30  1 67 50 96 79 78 37 73 23 75  0 24 86 58 80\n",
            " 56 64]\n",
            "Round: 20... \tAverage Loss: 0.916\n",
            "Round: 21 Picking 50/100 clients: [69  4 31 94 12  8 41 79 97  2 80 70 95 86 96 39 27 68 33 99 15 55 76  3\n",
            "  7 22 46 29 30 16 85 56 77 93 62 35 13 37  6 45 73 49 90 25 44 83  0 59\n",
            " 98 61]\n",
            "Round: 21... \tAverage Loss: 0.881\n",
            "Round: 22 Picking 50/100 clients: [10 78 32 39 81 88 64 67  3 37 70 79 85 43 26 38 77 48 55 18  2 23 29 30\n",
            " 42 54 71 62 92 95 45 12 20  8  5 33 59 58 22 13 53 74 25  1 49 66 75 27\n",
            " 17 46]\n",
            "Round: 22... \tAverage Loss: 0.855\n",
            "Round: 23 Picking 50/100 clients: [29 39 27 69 81 58 15 42 49 48 68 91 14 94 21 63 36 17  8 98 46 53 22 59\n",
            "  9 55 72 56 75 73 38 41 30 65 61 11 99 18  2 84 80 57 70 10 95 24 28 79\n",
            " 44  7]\n",
            "Round: 23... \tAverage Loss: 0.822\n",
            "Round: 24 Picking 50/100 clients: [ 5  4 42 33 23 38 70 52 93 30 31 45 89 17  1  8 77 29 36 21 91 16 85 87\n",
            " 27 13  0 43 10 54 20 14 57 92 82 28 65 64 55 95 51 32 50 48 18 78 58 12\n",
            " 84  2]\n",
            "Round: 24... \tAverage Loss: 0.791\n",
            "Round: 25 Picking 50/100 clients: [39 12 16  9 60 30 55 58 66 46 82 83 41 72 65 37 95 48 42 15 51 50 69  7\n",
            "  3 62 92 57 56  2 14 47  1 13 18 11 64 53 63 93 74 10 84 79 36 19 76 54\n",
            " 68 73]\n",
            "Round: 25... \tAverage Loss: 0.766\n",
            "Round: 26 Picking 50/100 clients: [38 19 15 75  8 56 74 28 85 60 98 23 96 89 72 93 59 90  5  4 81 41 70 22\n",
            " 78 11 97 52 86 50 87 69 55  2 54 13 48 43 79 37 49 35 84 65 57  0 47 76\n",
            "  9 18]\n",
            "Round: 26... \tAverage Loss: 0.744\n",
            "Round: 27 Picking 50/100 clients: [95 20 24 39 84 64 38  9 34  6 53 16  1 49 14 32 87 44 42 90 66 47 93 75\n",
            " 56 59 70 86 40 79 80  0 62 50 35 58 81 63 99 26 45 92 67 21 33 91 77 15\n",
            " 65 73]\n",
            "Round: 27... \tAverage Loss: 0.72\n",
            "Round: 28 Picking 50/100 clients: [71 72 67  3 27 15 35 69 89 23 50  5 77 33 95 98 53 36 44 58 96 54 48 37\n",
            " 92 19 42 56 26 75 41 17 97 59 11 38 34 82 80 81 88 63 87 28 13 24 66 76\n",
            "  7 73]\n",
            "Round: 28... \tAverage Loss: 0.698\n",
            "Round: 29 Picking 50/100 clients: [35 25 12 71 64 75 91  4 88 43 80 76 36 68 62 56 53 95 38 73 51 27 99 49\n",
            " 50 18  5  1 81 30 60 34 70 86 37 84 89 96 23 26  2 72 61 98 74  9 54 16\n",
            " 32 44]\n",
            "Round: 29... \tAverage Loss: 0.673\n",
            "Round: 30 Picking 50/100 clients: [98 97 93 39 83 90 48 76  7 10 21 66 38 41 37 80 86  2 60  8 40 88 42 11\n",
            " 77 94 16 95  9 31 92 14 18 67 55  5 29  3 30 53 23  6 81 13 89 22  0  1\n",
            " 32 27]\n",
            "Round: 30... \tAverage Loss: 0.653\n",
            "Round: 31 Picking 50/100 clients: [24  0 29  7 92 18  3 48 73 66 36 40  4 97 10 13 19 30 84 64 56 34 12 23\n",
            " 25  6 98 99 63 28  5 27 61 55 45 94 15 21 58 57 43 50 32 86 47 72 83 91\n",
            " 67 65]\n",
            "Round: 31... \tAverage Loss: 0.635\n",
            "Round: 32 Picking 50/100 clients: [72 10 92 13 87 59 67 94 30 11 83 61 84 77 32  5 56 91 45 86 14 75 21 70\n",
            " 43 44 58 96  6 69  3 33 17 98  4 90 81 48 99 53  0 28 34 78  9 60 42 82\n",
            " 46 65]\n",
            "Round: 32... \tAverage Loss: 0.62\n",
            "Round: 33 Picking 50/100 clients: [96 95  5  3 43 64 67 81 58 76 36 74  1 88 80 11  8 33 25 71 61 86 32 27\n",
            "  6 41 89 46 20 78 55 98 60 12 83 37 22  2 53 90 14 23 10 17 56 97  9 92\n",
            " 24 77]\n",
            "Round: 33... \tAverage Loss: 0.606\n",
            "Round: 34 Picking 50/100 clients: [40 27 39  0 60 63 89 62 38 61  3 21 20 81 36 14 82  1 69 59  8 67  9 79\n",
            " 96 95 12 46 25 64 45  2 48 84 15 11 78 73 98 86 72 97 35 17 71 26 85 87\n",
            " 43 65]\n",
            "Round: 34... \tAverage Loss: 0.584\n",
            "Round: 35 Picking 50/100 clients: [43 16 68 87 86  1 25 10 81 84 47  5 76 69 14 85 56 93 27 91 78 53 94 96\n",
            " 21 36 41 60 58 64 48 22 77 92 18 95 52 72 97 32 63  0  2 75 42 29 33 61\n",
            " 54 39]\n",
            "Round: 35... \tAverage Loss: 0.573\n",
            "Round: 36 Picking 50/100 clients: [69 37 12  9  0 72 93 29  3 15 45 92 19 95 14  7 77 61 30 16 80 53  5 67\n",
            " 32 52 97 23 75 91 84 59 62 83 56 88 79 10 35 65 46 17 71 70 78 41 57 22\n",
            " 89  2]\n",
            "Round: 36... \tAverage Loss: 0.56\n",
            "Round: 37 Picking 50/100 clients: [ 1  9 45 60 50 56 88 13 68 16 94 24 46 69 27 78 89  0 80  2 55 66  6 72\n",
            " 28 92 51 57 44 14 79 33 61 15 58 62 18 84 47 52 21 23 20 82 65 97 49 26\n",
            " 70 93]\n",
            "Round: 37... \tAverage Loss: 0.543\n",
            "Round: 38 Picking 50/100 clients: [16 33 11 68 37 13 64 20 63 98 89 85 78 71 32 79 86 44 84 72 21 58 55 92\n",
            " 62 97 17 56 69 23 87 73 99 80 59  2  9 24 52 27 45 34  8 95  1 66 81 19\n",
            " 54 91]\n",
            "Round: 38... \tAverage Loss: 0.529\n",
            "Round: 39 Picking 50/100 clients: [87 84 68  5 77 62  8 26 73  6 16 35 66 40 30  2 81 85 95 53 56  7 88 78\n",
            " 71  3 20 10  9 24 18 58  4 64 29 89 94 98 59 57 45 15 47 69 36 11 63 70\n",
            " 91 61]\n",
            "Round: 39... \tAverage Loss: 0.518\n",
            "Round: 40 Picking 50/100 clients: [44 36  6 67 65 62 16 80 87 66 51 41 81 29 31 52 63 60 61 43 26 33 85 74\n",
            " 27 19  8 20 83 99 11 37 90 94 68  7 79 89 58 59 28 92 91 38 76 69  0 72\n",
            " 34 77]\n",
            "Round: 40... \tAverage Loss: 0.506\n",
            "Round: 41 Picking 50/100 clients: [87 60 57 27 28  9 61 22 95 52 88 71 80 94 81 19 96 39 42 90 18 31 41 66\n",
            " 10 13 17 91 78 98 64 69 15 38 59 62 34 29 92 67 85  4 49 83 21 89 25 20\n",
            " 14  7]\n",
            "Round: 41... \tAverage Loss: 0.496\n",
            "Round: 42 Picking 50/100 clients: [91 46 47 22  0 69 51 39 97 17 72 81  2 79 13 35 50 20  8 18 26 32  3 29\n",
            " 76 53 52 33 37  9 60 42 71  4 12  6 84 30 58 55 34 27 67 63 54 41 65 16\n",
            " 49 11]\n",
            "Round: 42... \tAverage Loss: 0.481\n",
            "Round: 43 Picking 50/100 clients: [54 87  4 49 75 33 35 61 68 64 39 26 36 45 48  7 38 91 65 16 70 76 88 83\n",
            " 98 27 51 12 72 79 57 62 42 25 71  5 32 80 85 22 93  0 44 66 73 10 43 78\n",
            " 28 19]\n",
            "Round: 43... \tAverage Loss: 0.472\n",
            "Round: 44 Picking 50/100 clients: [76 38 77 32  2 53 61 13 85 88  0 27 31 10 90  3 80 62 91 30 34 50 63 12\n",
            " 83 45 18 98 97 54 51 58 28 23 47 24 46 82 99 11 17 21 74 56 87 69 22 71\n",
            " 39 14]\n",
            "Round: 44... \tAverage Loss: 0.463\n",
            "Round: 45 Picking 50/100 clients: [87 38 74 23 51 92 69 77 52 83 68 16 85 71  1 54 30 86 72 13 81 33 32 35\n",
            "  4 94 17 11 14 56 46 79 58 44 57  3  6 21 90 65 25  5 41 99 40 82 18 91\n",
            " 31 89]\n",
            "Round: 45... \tAverage Loss: 0.454\n",
            "Round: 46 Picking 50/100 clients: [32  7  4 53 43 10 81 15 46 57 31  9 20  2 45 92 84 52 60 74 63 85 11  5\n",
            " 13 28 98 54 86 97 21 16 69 29 50 47 34 18 33 12 36 44 37 19 38 99 66 55\n",
            " 23 27]\n",
            "Round: 46... \tAverage Loss: 0.441\n",
            "Round: 47 Picking 50/100 clients: [91 69 35 74 46 49 32 15 19 68 11 20 24 87 76 31 58 48 73 71 54 51 37  8\n",
            " 27 39 33 66 18  9 82 70 88 99 98 14 43 84 60 75 97 65  6 23 55 28 21 47\n",
            "  0 61]\n",
            "Round: 47... \tAverage Loss: 0.435\n",
            "Round: 48 Picking 50/100 clients: [64 59 17  4 71 20 21 53 70 97 78 93 29  1 36 94 81 77 99 74  3  0 18 25\n",
            " 88 43 69 14 49 79 56 12 86 50 90 15 75 52 41 68 46 39 61 55 76 30 73 10\n",
            "  8 65]\n",
            "Round: 48... \tAverage Loss: 0.426\n",
            "Round: 49 Picking 50/100 clients: [24 39 47 12 70 33 78 55 83 48 10 79 97 91 50 51 86 49 27 16 89 88 68  8\n",
            " 53 93  6 15 18 46 84 99 87 28 81  9 63 22 40 25 90 17 37 77 30 85  7 71\n",
            " 62 95]\n",
            "Round: 49... \tAverage Loss: 0.419\n",
            "Round: 50 Picking 50/100 clients: [18  3 54 42 21 77 99 14 59 71 49 78 20 38 16 35 89 47 10 72 69  4  0 43\n",
            "  6 76 12 22 52 88 87 81 84 51  1 24 37 46 66 15 67 63  8 58 39 33 53 94\n",
            " 23 62]\n",
            "Round: 50... \tAverage Loss: 0.412\n"
          ],
          "name": "stdout"
        },
        {
          "output_type": "display_data",
          "data": {
            "image/png": "[encoded data removed]",
            "text/plain": [
              "<Figure size 432x288 with 1 Axes>"
            ]
          },
          "metadata": {
            "tags": [],
            "needs_background": "light"
          }
        },
        {
          "output_type": "display_data",
          "data": {
            "image/png": "[encoded data removed]",
            "text/plain": [
              "<Figure size 432x288 with 1 Axes>"
            ]
          },
          "metadata": {
            "tags": [],
            "needs_background": "light"
          }
        },
        {
          "output_type": "display_data",
          "data": {
            "image/png": "[encoded data removed]",
            "text/plain": [
              "<Figure size 432x288 with 1 Axes>"
            ]
          },
          "metadata": {
            "tags": [],
            "needs_background": "light"
          }
        },
        {
          "output_type": "display_data",
          "data": {
            "image/png": "[encoded data removed]",
            "text/plain": [
              "<Figure size 432x288 with 1 Axes>"
            ]
          },
          "metadata": {
            "tags": [],
            "needs_background": "light"
          }
        },
        {
          "output_type": "display_data",
          "data": {
            "image/png": "[encoded data removed]",
            "text/plain": [
              "<Figure size 432x288 with 1 Axes>"
            ]
          },
          "metadata": {
            "tags": [],
            "needs_background": "light"
          }
        },
        {
          "output_type": "stream",
          "text": [
            "Training Done!\n",
            "Total time taken to Train: 5484.1574556827545\n",
            "\n",
            "\n"
          ],
          "name": "stdout"
        }
      ]
    },
    {
      "cell_type": "markdown",
      "metadata": {
        "id": "wNwC82przF6G"
      },
      "source": [
        "### Test"
      ]
    },
    {
      "cell_type": "code",
      "metadata": {
        "id": "qB97BFs9we9w"
      },
      "source": [
        "criterion = nn.CrossEntropyLoss()\n",
        "acc, loss, f1_macro, f1_weighted = testing(cifar_cnn_iid_trained, cifar_data_test, 128, criterion, num_classes, classes_test, True)"
      ],
      "execution_count": 41,
      "outputs": []
    },
    {
      "cell_type": "code",
      "metadata": {
        "id": "gdQZEZmHHeqt"
      },
      "source": [
        "hyperparams = {'rounds': rounds,\n",
        "               'C': C,\n",
        "               'K': K,\n",
        "               'E': E,\n",
        "               'batch_size': batch_size,\n",
        "               'lr': lr,\n",
        "               'q': q,\n",
        "               'sampling': sampling\n",
        "               }\n",
        "\n",
        "log_dict['CIFAR CNN on IID'] = {'train_loss': train_loss_multiple_runs, \n",
        "                                'test_loss': test_loss_multiple_runs, \n",
        "                                'test_accuracy': test_accuracy_multiple_runs,\n",
        "                                'f1_macro': f1_macro_multiple_runs,\n",
        "                                'f1_weighted': f1_weighted_multiple_runs,\n",
        "                                'hyperparams': hyperparams,\n",
        "                                }"
      ],
      "execution_count": 42,
      "outputs": []
    },
    {
      "cell_type": "markdown",
      "metadata": {
        "id": "uF8MdSIUYcnl"
      },
      "source": [
        "## CIFAR CNN on Non IID"
      ]
    },
    {
      "cell_type": "markdown",
      "metadata": {
        "id": "a6wXX7JW11bx"
      },
      "source": [
        "### Train\n"
      ]
    },
    {
      "cell_type": "code",
      "metadata": {
        "id": "fCD3kBCKYfBK",
        "colab": {
          "base_uri": "https://localhost:8080/",
          "height": 1000
        },
        "outputId": "fd0bcb79-24f5-499f-cac8-8df331471f14"
      },
      "source": [
        "train_loss_multiple_runs = [None] * NUM_REPEAT\n",
        "test_accuracy_multiple_runs = [None] * NUM_REPEAT\n",
        "test_loss_multiple_runs = [None] * NUM_REPEAT\n",
        "f1_macro_multiple_runs = [None] * NUM_REPEAT\n",
        "f1_weighted_multiple_runs = [None] * NUM_REPEAT\n",
        "\n",
        "for exp_num in range(NUM_REPEAT):\n",
        "  print(\"Experiment Run Number: \", exp_num)\n",
        "\n",
        "  # number of training rounds\n",
        "  rounds = 50\n",
        "  # client fraction\n",
        "  C = 0.5\n",
        "  # number of clients\n",
        "  K = 100\n",
        "  # number of training passes on local dataset for each roung\n",
        "  E = 1\n",
        "  # batch size\n",
        "  batch_size = 10\n",
        "  # learning Rate\n",
        "  lr=0.05\n",
        "  # fairness\n",
        "  q = 0.001\n",
        "  # sampling\n",
        "  # sampling = 'uniform'\n",
        "  sampling = 'weighted'\n",
        "  \n",
        "  # dict containing different type of data partition\n",
        "  data_dict = non_iid_partition(cifar_data_train, 100, 200, 250, 2)\n",
        "  # load model\n",
        "  cifar_cnn = CIFAR_CNN()\n",
        "\n",
        "  if torch.cuda.is_available():\n",
        "    cifar_cnn.cuda()\n",
        " \n",
        "  cifar_cnn_non_iid_trained, train_loss, test_accuracy, test_loss, f1_macro, f1_weighted = training(cifar_cnn, rounds, batch_size, lr, cifar_data_train, cifar_data_test, data_dict, C, K, E, q, sampling, \"CIFAR CNN on Non-IID Dataset\", \"green\")\n",
        "\n",
        "  train_loss_multiple_runs[exp_num] = train_loss\n",
        "  test_accuracy_multiple_runs[exp_num] = test_accuracy\n",
        "  test_loss_multiple_runs[exp_num] = test_loss\n",
        "  f1_macro_multiple_runs[exp_num] = f1_macro\n",
        "  f1_weighted_multiple_runs[exp_num] = f1_weighted\n",
        "\n",
        "  del cifar_cnn_non_iid_trained\n",
        "  torch.cuda.empty_cache()"
      ],
      "execution_count": 43,
      "outputs": [
        {
          "output_type": "stream",
          "text": [
            "Experiment Run Number:  0\n",
            "Round: 1 Picking 50/100 clients: [36 25 82 45 26 31 90 93 19 56 59  5  4 14 18 72 24 53 40 80 49 85 13 70\n",
            " 12  3 46 83 38 41 88 42 10 23 96 62 86 20 44 30 27 81  1 34 98 74  8 99\n",
            " 21 73]\n",
            "Round: 1... \tAverage Loss: 0.871\n",
            "Round: 2 Picking 50/100 clients: [68 60 92 36 89 54 12 45  9 55 98 15 14 70 62 41 91 94 39 87 72 34 53 30\n",
            " 85 13 37 82  5 26 24 93 49 88 61 33 28 10 44 90  8  4 21 84 57 64  7 11\n",
            " 56 79]\n",
            "Round: 2... \tAverage Loss: 0.846\n",
            "Round: 3 Picking 50/100 clients: [62 56 92 17 76 82 55 13 43 47 32 40 15 25 59 44 60 72 23 16 71 64 22 18\n",
            " 19 58 86 98 42  3 70 34 38  1 51 10 11 27 89 85 30 63 87 20 29 50 35  8\n",
            " 66 54]\n",
            "Round: 3... \tAverage Loss: 0.798\n",
            "Round: 4 Picking 50/100 clients: [ 9 99 84 73 40 79 47 88 16 85  5 67 74 90 33 15 43 42 31 76 92 54 35 28\n",
            " 41 27 59 21 89 29 61 19 45 58  2 39  8  7 46 49 80 11 78 98 95 64 34 14\n",
            "  0 63]\n",
            "Round: 4... \tAverage Loss: 0.711\n",
            "Round: 5 Picking 50/100 clients: [49 75 63 83 90 73 28 20 14 32 33 69  8 95  6 57 19 35  1 74 59 27 39 47\n",
            "  7 21 71 34 88 18 26 17 87 70 31 76 65 66 60 53 37 15 41 30 42 50 16 44\n",
            " 11 38]\n",
            "Round: 5... \tAverage Loss: 0.692\n",
            "Round: 6 Picking 50/100 clients: [76 32 45 26 97  6 81 54 35 72 57 82 16  9  1 87 31 83 73 52 92 66 49 48\n",
            " 63 77  8 56 91 90 89  3 95 13 79 33 70 46 59 34 68 37  2 94  5 78 41 18\n",
            " 74  7]\n",
            "Round: 6... \tAverage Loss: 0.654\n",
            "Round: 7 Picking 50/100 clients: [61 31 50 81 15 87 20 85 72 58 11 63 51 35 73 66 37 48  2 45 64  9 60 19\n",
            "  1 67 27 25 95 22 92 46 79 33 44 16 38 83  0 99 26 56 12 78 57 21 43 40\n",
            " 54 17]\n",
            "Round: 7... \tAverage Loss: 0.627\n",
            "Round: 8 Picking 50/100 clients: [72  3 80 76 85 20 10 91 52 40 65 71 32  8 56 18 12 34 84 83 61 26 54 82\n",
            " 45 37 24  0 35 50 19 41  1 29 93 55 48 67  5 44 64 14 21 86 60 98 43 33\n",
            " 88 47]\n",
            "Round: 8... \tAverage Loss: 0.606\n",
            "Round: 9 Picking 50/100 clients: [77 80 16 68 70 67  0 40 37 62 33  9 51 53 10 85 43 66 98 47 79  3 22 97\n",
            " 81  8 31 50 36 60 92 78 29 61  2 83 35  1 87 55 25  5 45  6 19 13 58 54\n",
            " 39 44]\n",
            "Round: 9... \tAverage Loss: 0.606\n",
            "Round: 10 Picking 50/100 clients: [96  7 45 82 36 91 56 17  9 12 26  2  5  8 74 98 76 27 89 41 30 21 95 72\n",
            " 29 50 86 99 60 34  4 83 97 33 43 23  3 42  6 16 18 14 81 51 69 47 79 44\n",
            " 22 32]\n",
            "Round: 10... \tAverage Loss: 0.587\n",
            "Round: 11 Picking 50/100 clients: [36 42 89 77 86 32 85 66 59 27 60 12 35 81  7 23 58 45 84 17 75 29 96 46\n",
            " 15 78 18 43 71 51 67 99 24 39 93 56  8 20 82 37 14 31 62 21  1 65 80 61\n",
            " 25 72]\n",
            "Round: 11... \tAverage Loss: 0.569\n",
            "Round: 12 Picking 50/100 clients: [78 64 38 90 34 21 19 16 50 43 71 58 74 77 55 33 67 28 51 54 85 30 94 47\n",
            "  9 97  1 37 88 98 57 39 68 25 72 52 63  5 60 32 44 91 95 53 79 69 59  6\n",
            " 56 13]\n",
            "Round: 12... \tAverage Loss: 0.574\n",
            "Round: 13 Picking 50/100 clients: [31 86 57 43 47 17 18 25 78 90 70 80 71 93 21 87 30 26 83 44 67 49 81 40\n",
            "  5 53 48 20 24 65 82 32 77 94 66 64 33 88 68 69 19 99 34 11 56 61 85 97\n",
            " 22 41]\n",
            "Round: 13... \tAverage Loss: 0.555\n",
            "Round: 14 Picking 50/100 clients: [95  5 73 49 58 48 21  8 53 59 57 11 69  1 93 89 45 68 32 66 35 65 94 39\n",
            "  0 33 42 10 84  4 64 26 62 79 22 47 46 12 41 55 61 98 27 52 71 83 87 86\n",
            "  7 17]\n",
            "Round: 14... \tAverage Loss: 0.542\n",
            "Round: 15 Picking 50/100 clients: [ 7 22 21 32 70 64 43 35 49 61 73 20 89 59 66 50 53 86 33 91  4 13 14  8\n",
            " 52 17 80 77 15 63 27 39 25 98 19 97 37 67 69 99 92 28 30  2 12 96 51 54\n",
            " 16 90]\n",
            "Round: 15... \tAverage Loss: 0.528\n",
            "Round: 16 Picking 50/100 clients: [ 4  7 21 71 84 75 12 83 35 20 95 78 31 44  6 68 96 48 15 85 45 61 50  1\n",
            " 65 73 30 43 62 56 91 63 67 42 88 57  3 55 36 97 33 24  2  0 49 23 52 14\n",
            " 70 17]\n",
            "Round: 16... \tAverage Loss: 0.531\n",
            "Round: 17 Picking 50/100 clients: [79 81 28 84 70 74 54 49 95 53  2 61 77 88 38 10 45 89 91  5 43 99 29 26\n",
            " 76 37 94 19 36 34 11 92 47 12  9 65 55 68 50 41 17 87 98 23 60  4 25 78\n",
            " 62 44]\n",
            "Round: 17... \tAverage Loss: 0.529\n",
            "Round: 18 Picking 50/100 clients: [94 35 76 49  6 71 30 39 36 56 14 62 20 46 75 21 34  8 24  5 37 92 99 66\n",
            " 45 95  7 12 87  1 80 72 41 98 40 68 74 70 10 84 11  9 96 82  0 15 63 57\n",
            " 81 60]\n",
            "Round: 18... \tAverage Loss: 0.518\n",
            "Round: 19 Picking 50/100 clients: [48 50 52 11 76 74 29 83 82 67 53  8 33 72 79 99 27 85 80 47 62 57  4 69\n",
            " 90 77  0 31 40 86 22 13 42 61 32 46 97 39 56 30 26 84 95 78 93 65 28 92\n",
            " 94  5]\n",
            "Round: 19... \tAverage Loss: 0.514\n",
            "Round: 20 Picking 50/100 clients: [21 18 19 84 39 41  1 61 70 66 34 67 74 13 38 24 55 56 69  4 50 83 37 62\n",
            " 90 48 72 53 77 31 16 57 80 63 49 96 15 25 29 46 58 93 94 11 98 59 87 43\n",
            " 95 88]\n",
            "Round: 20... \tAverage Loss: 0.507\n",
            "Round: 21 Picking 50/100 clients: [78 89 75 55 28 97 23 26  8 83 95 88 77 80 60 93 36 11 82  1  6 31 48 71\n",
            " 66 25 46 59  0 24 79 10 22 91 50 68 16 51 94 14 44 90  7 63  2  5 61 53\n",
            " 41 64]\n",
            "Round: 21... \tAverage Loss: 0.505\n",
            "Round: 22 Picking 50/100 clients: [95 16 81 89 79 73 57 39 43 59 88 58  4 45 68 12 46 77 35 15 26 31 49 98\n",
            " 19  1 42 86 78 20 14 60 32  5 37 53 34 51 55 75 33 69 22 28 13 87 99 72\n",
            "  2 96]\n",
            "Round: 22... \tAverage Loss: 0.506\n",
            "Round: 23 Picking 50/100 clients: [43 26 88 11 51 68 84 13 10  0  4 86 49 19 46  2 37 72 28 48 52 99 42 87\n",
            " 54  6  5 80 62 30 74 60 41 65 31 93 22 96 97 21 12  7  1 67 39  9  8 92\n",
            " 75 47]\n",
            "Round: 23... \tAverage Loss: 0.489\n",
            "Round: 24 Picking 50/100 clients: [76 88  9 95 75  4 48 55 27 68 99 97  8 36 45  7 62 74 38 72 81 80 40 47\n",
            " 26 91 53 32  2 24  3 67 83 21 37 30 33 64 66 92 16 41 84 63 90 71 52 79\n",
            " 13 98]\n",
            "Round: 24... \tAverage Loss: 0.489\n",
            "Round: 25 Picking 50/100 clients: [11 97 14 12 54 29  8 94 40 33 92 23 56 13 89 66  3 31 36  1  9 87  6 26\n",
            " 73 60 82 81 30 25 51 63 45 86 46 48 43 69  2 42 65 75 62 49 18 78 38 85\n",
            " 22 99]\n",
            "Round: 25... \tAverage Loss: 0.482\n",
            "Round: 26 Picking 50/100 clients: [ 8 49 66 69  3 55 68 47 84 35 61 21 17 30 86 92 37 24 23 38 18 73  7 76\n",
            " 15 50 97 77 34 48 27 71 56 62 80  1 81 64 94 32 53 36 83 11 12 41 70 26\n",
            " 54 20]\n",
            "Round: 26... \tAverage Loss: 0.484\n",
            "Round: 27 Picking 50/100 clients: [64 17  1 61 67 81 84 25 76 68 70  5 48 74 55 87 47 72 90 58 34 24 69 60\n",
            " 21 41 80 27  2 15 79 92 40 16 77 91  3 28 52  6 36 38  7  9 86 95 39 57\n",
            " 85 98]\n",
            "Round: 27... \tAverage Loss: 0.479\n",
            "Round: 28 Picking 50/100 clients: [88 63 67 34 71 95 41 92 14 79 93 83 56 33 36 19 60 86 65 29  8 17 31 30\n",
            "  2 70 28 26 66 47 11 46 22 13 61 44 94 98  7 50 38 54 16 97 21 15 87 35\n",
            " 42 45]\n",
            "Round: 28... \tAverage Loss: 0.475\n",
            "Round: 29 Picking 50/100 clients: [ 9 26 97 49 14 99 68 31  2 39 30 13 51 35 36 19  6 18 29 17 56 72 96 59\n",
            " 75 45 11 66 37 16 80 52  1 77 46 50 33 47 44 10 74  5 64 65  7 20  3 25\n",
            " 73 32]\n",
            "Round: 29... \tAverage Loss: 0.461\n",
            "Round: 30 Picking 50/100 clients: [46 56 69 19 68 47 88 90 51 82 71 76 83 80 36  2 63 11 67 58 78 77 59 72\n",
            " 48 40 53 60 50 85 41 65 91 18 16 86 96 39 31 38  0 70 20 64  3 26 61 24\n",
            " 92 28]\n",
            "Round: 30... \tAverage Loss: 0.458\n",
            "Round: 31 Picking 50/100 clients: [ 0 21 62  1 27 85 78 79 55 92 59 37 16 56 22 36 40 46 81 12  4 61 64 29\n",
            " 96  7 87 49 32 18 25 70 67 63 43 30 91 35 42 57 66 88 54 65 28  3 95 60\n",
            " 39  2]\n",
            "Round: 31... \tAverage Loss: 0.459\n",
            "Round: 32 Picking 50/100 clients: [39 14 11 50  4 97 52 90 43  7 57 58 13 40 67 16 48 15 63 36 83 12 88 89\n",
            " 35 72 44 78 77 32 69 31 49  5 24 94 86 45 56  1 65 98 74  8 20 75 73 95\n",
            " 21 38]\n",
            "Round: 32... \tAverage Loss: 0.456\n",
            "Round: 33 Picking 50/100 clients: [92 62 91 21 58 57  6 18 22 43 87  0 85 16 83 60  1 29 80 72 81 19 44 89\n",
            " 32  8 54 20 70  9 55 75 50 51 47 38 98 67 65 40 31 34 14 25 48 93 84  3\n",
            " 17 53]\n",
            "Round: 33... \tAverage Loss: 0.447\n",
            "Round: 34 Picking 50/100 clients: [52  3 78 66 28 80 72 34 57 61 27 71 90 85 54 96  7 20 13 15 37 73 19 42\n",
            " 93  6 33 65  4 58 91 46 70 97 43 55 45 29 12  8 40 75  5  2 89 94 84 23\n",
            " 21 56]\n",
            "Round: 34... \tAverage Loss: 0.451\n",
            "Round: 35 Picking 50/100 clients: [ 7 79 59 47 51  5 71 95  4 64  8 44 13 99 22 90 96 15 74 35 75 23 84 46\n",
            " 48 31 77 54 89 94 97 16 92 29 58 93 11  1 25 78 10 18 41 12 73 91 52 80\n",
            " 55 82]\n",
            "Round: 35... \tAverage Loss: 0.437\n",
            "Round: 36 Picking 50/100 clients: [79 76 56 51  4 69 81 87 83  7 16 60 86 27 95 19 22 74 40 94 47 18 17 53\n",
            " 35 70 34 90 44 42 46 98 68 62 92 25 45 80 21 26 63 50 88 36 24 99 33 28\n",
            " 89 48]\n",
            "Round: 36... \tAverage Loss: 0.443\n",
            "Round: 37 Picking 50/100 clients: [89 29 10  3 33 98 13 14  0 19 61 38 65 71 23 62  6 58 28 34 90 12 30 64\n",
            " 24 32 92 69 25 72 22 54 97 55 36 44 93  2 52 95 99 59  5 31  8 49 88 94\n",
            " 67 56]\n",
            "Round: 37... \tAverage Loss: 0.438\n",
            "Round: 38 Picking 50/100 clients: [55 17 32 43 88 23 22 15 96 30 75 56 42 65 39 72 47 57 11 83 87 52 81  8\n",
            " 84 12 85 49 59 38 27 98 80 10  5 89 62  6 76  4 68 70 58 25 53 73 54 21\n",
            " 14 51]\n",
            "Round: 38... \tAverage Loss: 0.425\n",
            "Round: 39 Picking 50/100 clients: [93 92 26 77 47 88 69 48 62  2 76 82 68 25 11 96 63 40  6 32 87 95 58 44\n",
            " 73 42 91  8 55 22 36 79 41 80 84 83 27 94 18  9  1 81 61 38 64 66 30 14\n",
            " 56 29]\n",
            "Round: 39... \tAverage Loss: 0.423\n",
            "Round: 40 Picking 50/100 clients: [60 28 48 20 91 93 40 73 71 70 89 52 39 43  4 74  1 68  3 29  2 18 14 76\n",
            " 49 92 37  5 26 45 65 10 83 85 17 30 36 13 55 62 15 81 67 47 82 44  7  9\n",
            " 21 16]\n",
            "Round: 40... \tAverage Loss: 0.42\n",
            "Round: 41 Picking 50/100 clients: [65 36 13 29 49 64 73 75 80 40 59 72 42 71 98 20 41 23 60 69 86 76 53 38\n",
            " 91 31 50 62 35  2 32 27 47 56 66 95 88 10 18 74 51 55 17  4 94 67 24 37\n",
            " 52  7]\n",
            "Round: 41... \tAverage Loss: 0.433\n",
            "Round: 42 Picking 50/100 clients: [54 35 14 37  9 23 55 80 18 79 65 27 40 61  1 22 88 83  5 84 99 11 33 36\n",
            " 42 73  8 16 89 92 78 77 34 12 60 75 68 21 71 70 29 52 47 15 98 57 67 86\n",
            " 91 49]\n",
            "Round: 42... \tAverage Loss: 0.42\n",
            "Round: 43 Picking 50/100 clients: [37 16 87 54  1 45 23 75 77 42  5 71 85 66 31 67  7 65 86 15  0 82 21  4\n",
            " 88 57 79  6 34 25 26 33 97 32 29 63 50 68 13 22 18 24  8  3 46 60 56 43\n",
            " 11 19]\n",
            "Round: 43... \tAverage Loss: 0.417\n",
            "Round: 44 Picking 50/100 clients: [59 86 16 52 47 74 92  3 61 78 57 10 85 26 77 96 50 99 34 30 63 53 44 75\n",
            " 62 79 60 71 20  4  0  2 54 91 48  5  8 43 28 22 89  6  9 87 83 35 76 82\n",
            " 94 13]\n",
            "Round: 44... \tAverage Loss: 0.406\n",
            "Round: 45 Picking 50/100 clients: [68 76 11 59 79 94 72 89 56 12 14 63 19 95 15  5 84 40 41 51 21 45 24 74\n",
            " 35 73 42 48 27  7 70  8 65 47 46 55  3 53 32 77 26 80 10 29 78 81 16 18\n",
            " 52 13]\n",
            "Round: 45... \tAverage Loss: 0.405\n",
            "Round: 46 Picking 50/100 clients: [43 52 90 86 73 97 95 15 80 58 77 51 48 26 62 17 36 55 85 74 59 13 87 34\n",
            " 72 67  2 99 66 98  9 92 46 57 10 25 65 23 39 35 79  0 82 83 93 56 20 49\n",
            " 89 24]\n",
            "Round: 46... \tAverage Loss: 0.414\n",
            "Round: 47 Picking 50/100 clients: [75 17 53 82 20 21  2 60 36 96 44 89 34 31 69 30 90 48  8 72 74 88 97 33\n",
            " 32 37 67 81 25 86 18 26 55 99 43 76 73 49 38  1 65 56 19 27 70  6  9 12\n",
            " 91 51]\n",
            "Round: 47... \tAverage Loss: 0.401\n",
            "Round: 48 Picking 50/100 clients: [43  8  5 64 32 29 92 26 74 22 34  1 80 75 59 68 71 98 55 14  7 78 77 42\n",
            " 76 65 24  6 21 36 69 61 86 49 31 15 16 28 73 18 56 23 99 91 51 70 12 79\n",
            " 30 50]\n",
            "Round: 48... \tAverage Loss: 0.403\n",
            "Round: 49 Picking 50/100 clients: [98 86 70 65 83 54 95 58 69 35 30 42 12 40 77 79 91 44 43 56  8  2 34 85\n",
            " 36 63 88 25 64 66  0 33  5  1 15 49 97 38 13 14 50 31 60 61 19 11 46 26\n",
            " 45 55]\n",
            "Round: 49... \tAverage Loss: 0.397\n",
            "Round: 50 Picking 50/100 clients: [90 71 18 21 83 45 37 65 53 60 15 79 55 22 27 34 62 36 51 46 43 52 56  3\n",
            " 13 66 20 93 86  7 70 48 75 38 89 33 72 80  6 42 95 63 81 32 12 97 29 40\n",
            " 67  1]\n",
            "Round: 50... \tAverage Loss: 0.395\n"
          ],
          "name": "stdout"
        },
        {
          "output_type": "display_data",
          "data": {
            "image/png": "[encoded data removed]",
            "text/plain": [
              "<Figure size 432x288 with 1 Axes>"
            ]
          },
          "metadata": {
            "tags": [],
            "needs_background": "light"
          }
        },
        {
          "output_type": "display_data",
          "data": {
            "image/png": "[encoded data removed]",
            "text/plain": [
              "<Figure size 432x288 with 1 Axes>"
            ]
          },
          "metadata": {
            "tags": [],
            "needs_background": "light"
          }
        },
        {
          "output_type": "display_data",
          "data": {
            "image/png": "[encoded data removed]",
            "text/plain": [
              "<Figure size 432x288 with 1 Axes>"
            ]
          },
          "metadata": {
            "tags": [],
            "needs_background": "light"
          }
        },
        {
          "output_type": "display_data",
          "data": {
            "image/png": "[encoded data removed]",
            "text/plain": [
              "<Figure size 432x288 with 1 Axes>"
            ]
          },
          "metadata": {
            "tags": [],
            "needs_background": "light"
          }
        },
        {
          "output_type": "display_data",
          "data": {
            "image/png": "[encoded data removed]",
            "text/plain": [
              "<Figure size 432x288 with 1 Axes>"
            ]
          },
          "metadata": {
            "tags": [],
            "needs_background": "light"
          }
        },
        {
          "output_type": "stream",
          "text": [
            "Training Done!\n",
            "Total time taken to Train: 1222.2283554077148\n",
            "\n",
            "\n"
          ],
          "name": "stdout"
        }
      ]
    },
    {
      "cell_type": "markdown",
      "metadata": {
        "id": "4C68J-Kk14dB"
      },
      "source": [
        "### Test"
      ]
    },
    {
      "cell_type": "code",
      "metadata": {
        "id": "_yQ9GiAZ15jE"
      },
      "source": [
        "criterion = nn.CrossEntropyLoss()\n",
        "acc, loss, f1_macro, f1_weighted = testing(cifar_cnn_non_iid_trained, cifar_data_test, 128, criterion, num_classes, classes_test, True)"
      ],
      "execution_count": 44,
      "outputs": []
    },
    {
      "cell_type": "code",
      "metadata": {
        "id": "dxMcxgLhLvX-"
      },
      "source": [
        "hyperparams = {'rounds': rounds,\n",
        "               'C': C,\n",
        "               'K': K,\n",
        "               'E': E,\n",
        "               'batch_size': batch_size,\n",
        "               'lr': lr,\n",
        "               'q': q,\n",
        "               'sampling': sampling\n",
        "               }\n",
        "\n",
        "log_dict['CIFAR CNN on Non IID'] = {'train_loss': train_loss_multiple_runs, \n",
        "                                'test_loss': test_loss_multiple_runs, \n",
        "                                'test_accuracy': test_accuracy_multiple_runs,\n",
        "                                'f1_macro': f1_macro_multiple_runs,\n",
        "                                'f1_weighted': f1_weighted_multiple_runs,\n",
        "                                'hyperparams': hyperparams,\n",
        "                                }"
      ],
      "execution_count": 45,
      "outputs": []
    },
    {
      "cell_type": "markdown",
      "metadata": {
        "id": "ptMieSimVxid"
      },
      "source": [
        "## CIFAR MLP on IID"
      ]
    },
    {
      "cell_type": "markdown",
      "metadata": {
        "id": "mz3f_fOxVxie"
      },
      "source": [
        "### Train"
      ]
    },
    {
      "cell_type": "code",
      "metadata": {
        "id": "5ZGAZPhtVxie"
      },
      "source": [
        "# train_loss_multiple_runs = [None] * NUM_REPEAT\n",
        "# test_accuracy_multiple_runs = [None] * NUM_REPEAT\n",
        "# test_loss_multiple_runs = [None] * NUM_REPEAT\n",
        "# f1_macro_multiple_runs = [None] * NUM_REPEAT\n",
        "# f1_weighted_multiple_runs = [None] * NUM_REPEAT\n",
        "\n",
        "# for exp_num in range(NUM_REPEAT):\n",
        "#   print(\"Experiment Run Number: \", exp_num)\n",
        "\n",
        "#   # number of training rounds\n",
        "#   rounds = 50\n",
        "#   # client fraction\n",
        "#   C = 0.1\n",
        "#   # number of clients\n",
        "#   K = 100\n",
        "#   # number of training passes on local dataset for each round\n",
        "#   E = 1\n",
        "#   # batch size\n",
        "#   batch_size = 10\n",
        "#   # learning Rate\n",
        "#   lr=0.05\n",
        "#   # fairness\n",
        "#   q = 0.001\n",
        "#   # sampling\n",
        "#   # sampling = 'uniform'\n",
        "#   sampling = 'weighted'\n",
        "  \n",
        "#   # dict containing different type of data partition\n",
        "#   data_dict = iid_partition(cifar_data_train, 100)\n",
        "#   # load model\n",
        "#   cifar_mlp = CIFAR_MLP()\n",
        "\n",
        "#   if torch.cuda.is_available():\n",
        "#     cifar_mlp.cuda()\n",
        "\n",
        "#   cifar_mlp_iid_trained, train_loss, test_accuracy, test_loss, f1_macro, f1_weighted = training(cifar_mlp, rounds, batch_size, lr, cifar_data_train, cifar_data_test, data_dict, C, K, E, q, sampling, \"CIFAR MLP on IID Dataset\", \"orange\")\n",
        "  \n",
        "#   train_loss_multiple_runs[exp_num] = train_loss\n",
        "#   test_accuracy_multiple_runs[exp_num] = test_accuracy\n",
        "#   test_loss_multiple_runs[exp_num] = test_loss\n",
        "#   f1_macro_multiple_runs[exp_num] = f1_macro\n",
        "#   f1_weighted_multiple_runs[exp_num] = f1_weighted\n",
        "\n",
        "#   del cifar_mlp_iid_trained\n",
        "#   torch.cuda.empty_cache()"
      ],
      "execution_count": 46,
      "outputs": []
    },
    {
      "cell_type": "markdown",
      "metadata": {
        "id": "aTBsL3-72PPd"
      },
      "source": [
        "### Test"
      ]
    },
    {
      "cell_type": "code",
      "metadata": {
        "id": "a9G4j5L62OrS"
      },
      "source": [
        "# criterion = nn.CrossEntropyLoss()\n",
        "# acc, loss, f1_macro, f1_weighted = testing(cifar_mlp_iid_trained, cifar_data_test, 128, criterion, num_classes, classes_test, True)"
      ],
      "execution_count": 47,
      "outputs": []
    },
    {
      "cell_type": "code",
      "metadata": {
        "id": "fWCdJFRCL_f2"
      },
      "source": [
        "# hyperparams = {'rounds': rounds,\n",
        "#                'C': C,\n",
        "#                'K': K,\n",
        "#                'E': E,\n",
        "#                'batch_size': batch_size,\n",
        "#                'lr': lr,\n",
        "#                'q': q,\n",
        "#                'sampling': sampling\n",
        "#                }\n",
        "\n",
        "# log_dict['CIFAR MLP on IID'] = {'train_loss': train_loss_multiple_runs, \n",
        "#                                 'test_loss': test_loss_multiple_runs, \n",
        "#                                 'test_accuracy': test_accuracy_multiple_runs,\n",
        "#                                 'f1_macro': f1_macro_multiple_runs,\n",
        "#                                 'f1_weighted': f1_weighted_multiple_runs,\n",
        "#                                 'hyperparams': hyperparams,\n",
        "#                                 }"
      ],
      "execution_count": 48,
      "outputs": []
    },
    {
      "cell_type": "markdown",
      "metadata": {
        "id": "J8jzEyO0iywz"
      },
      "source": [
        "## CIFAR MLP on Non IID"
      ]
    },
    {
      "cell_type": "markdown",
      "metadata": {
        "id": "pJFepr3y2bF-"
      },
      "source": [
        "### Train"
      ]
    },
    {
      "cell_type": "code",
      "metadata": {
        "id": "EBKO44Hgi1Uh"
      },
      "source": [
        "# train_loss_multiple_runs = [None] * NUM_REPEAT\n",
        "# test_accuracy_multiple_runs = [None] * NUM_REPEAT\n",
        "# test_loss_multiple_runs = [None] * NUM_REPEAT\n",
        "# f1_macro_multiple_runs = [None] * NUM_REPEAT\n",
        "# f1_weighted_multiple_runs = [None] * NUM_REPEAT\n",
        "\n",
        "# for exp_num in range(NUM_REPEAT):\n",
        "#   print(\"Experiment Run Number: \", exp_num)\n",
        "  \n",
        "#   # number of training rounds\n",
        "#   rounds = 50\n",
        "#   # client fraction\n",
        "#   C = 0.1\n",
        "#   # number of clients\n",
        "#   K = 100\n",
        "#   # number of training passes on local dataset for each roung\n",
        "#   E = 1\n",
        "#   # batch size\n",
        "#   batch_size = 10\n",
        "#   # learning Rate\n",
        "#   lr=0.05\n",
        "#   # fairness\n",
        "#   q = 0.001\n",
        "#   # sampling\n",
        "#   # sampling = 'uniform'\n",
        "#   sampling = 'weighted'\n",
        "  \n",
        "#   # dict containing different type of data partition\n",
        "#   data_dict = non_iid_partition(cifar_data_train, 100, 200, 250, 2)\n",
        "#   # load model\n",
        "#   cifar_mlp = CIFAR_MLP()\n",
        "\n",
        "#   if torch.cuda.is_available():\n",
        "#     cifar_mlp.cuda()\n",
        "\n",
        "#   cifar_mlp_non_iid_trained, train_loss, test_accuracy, test_loss, f1_macro, f1_weighted = training(cifar_mlp, rounds, batch_size, lr, cifar_data_train, cifar_data_test, data_dict, C, K, E, q, sampling, \"CIFAR MLP on Non-IID Dataset\", \"green\")\n",
        "\n",
        "#   train_loss_multiple_runs[exp_num] = train_loss\n",
        "#   test_accuracy_multiple_runs[exp_num] = test_accuracy\n",
        "#   test_loss_multiple_runs[exp_num] = test_loss\n",
        "#   f1_macro_multiple_runs[exp_num] = f1_macro\n",
        "#   f1_weighted_multiple_runs[exp_num] = f1_weighted\n",
        "    \n",
        "#   del cifar_mlp_non_iid_trained\n",
        "#   torch.cuda.empty_cache()"
      ],
      "execution_count": 49,
      "outputs": []
    },
    {
      "cell_type": "markdown",
      "metadata": {
        "id": "jmuQYPbF2mes"
      },
      "source": [
        "### Test"
      ]
    },
    {
      "cell_type": "code",
      "metadata": {
        "id": "0tKMlJyF2nGN"
      },
      "source": [
        "# criterion = nn.CrossEntropyLoss()\n",
        "# acc, loss, f1_macro, f1_weighted = testing(cifar_mlp_non_iid_trained, cifar_data_test, 128, criterion, num_classes, classes_test, True)"
      ],
      "execution_count": 50,
      "outputs": []
    },
    {
      "cell_type": "code",
      "metadata": {
        "id": "1W5krYcSMQiu"
      },
      "source": [
        "# hyperparams = {'rounds': rounds,\n",
        "#                'C': C,\n",
        "#                'K': K,\n",
        "#                'E': E,\n",
        "#                'batch_size': batch_size,\n",
        "#                'lr': lr,\n",
        "#                'q': q,\n",
        "#                'sampling': sampling\n",
        "#                }\n",
        "\n",
        "# log_dict['CIFAR MLP on Non IID'] = {'train_loss': train_loss_multiple_runs, \n",
        "#                                 'test_loss': test_loss_multiple_runs, \n",
        "#                                 'test_accuracy': test_accuracy_multiple_runs,\n",
        "#                                 'f1_macro': f1_macro_multiple_runs,\n",
        "#                                 'f1_weighted': f1_weighted_multiple_runs,\n",
        "#                                 'hyperparams': hyperparams,\n",
        "#                                 }"
      ],
      "execution_count": 51,
      "outputs": []
    },
    {
      "cell_type": "markdown",
      "metadata": {
        "id": "emS_SaRAP6TZ"
      },
      "source": [
        "## Pickle Log"
      ]
    },
    {
      "cell_type": "code",
      "metadata": {
        "id": "soAN38JoP0c1"
      },
      "source": [
        "import pickle\n",
        "\n",
        "with open(path + 'Local_Round_qFedAvg.pkl', 'wb') as file:\n",
        "  pickle.dump(log_dict, file)"
      ],
      "execution_count": 52,
      "outputs": []
    },
    {
      "cell_type": "code",
      "metadata": {
        "id": "2UBy-JswSoCJ",
        "colab": {
          "base_uri": "https://localhost:8080/"
        },
        "outputId": "7edf3362-011d-44cb-ad69-30934cf16b44"
      },
      "source": [
        "log_dict"
      ],
      "execution_count": 53,
      "outputs": [
        {
          "output_type": "execute_result",
          "data": {
            "text/plain": [
              "{'CIFAR CNN on IID': {'f1_macro': [[0.01818181818181818,\n",
              "    0.28716197977079866,\n",
              "    0.37880046441847703,\n",
              "    0.4200199057974271,\n",
              "    0.4557752075692304,\n",
              "    0.4847939510749903,\n",
              "    0.5110614012102113,\n",
              "    0.5295338677395315,\n",
              "    0.5540462824473267,\n",
              "    0.5735161394645788,\n",
              "    0.5944687624212973,\n",
              "    0.6089847981295011,\n",
              "    0.6259592476376069,\n",
              "    0.6368918017230506,\n",
              "    0.6474187374393306,\n",
              "    0.6605367358175378,\n",
              "    0.6686467246952252,\n",
              "    0.6757845828747103,\n",
              "    0.6803752965106027,\n",
              "    0.6888377476636866,\n",
              "    0.6946616169763351,\n",
              "    0.701919341911912,\n",
              "    0.7012514542730587,\n",
              "    0.7078317040157674,\n",
              "    0.7068023455682828,\n",
              "    0.7082697107564954,\n",
              "    0.7128210502249857,\n",
              "    0.7057933452945582,\n",
              "    0.7076207359019949,\n",
              "    0.7054312285315041,\n",
              "    0.7063966931206263,\n",
              "    0.7040666323115029,\n",
              "    0.7068992513499363,\n",
              "    0.7051857989207537,\n",
              "    0.7087660163698122,\n",
              "    0.7022509070670017,\n",
              "    0.7071936842949593,\n",
              "    0.6994636986840361,\n",
              "    0.7027966273797991,\n",
              "    0.6974804994418253,\n",
              "    0.7082902567010148,\n",
              "    0.6987897804544569,\n",
              "    0.7016408355643883,\n",
              "    0.6975467227776483,\n",
              "    0.6951819568477474,\n",
              "    0.6908316265542569,\n",
              "    0.6935952334860953,\n",
              "    0.6940550947399984,\n",
              "    0.6863005387100508,\n",
              "    0.6895461185877133]],\n",
              "  'f1_weighted': [[0.01818181818181818,\n",
              "    0.28716197977079866,\n",
              "    0.378800464418477,\n",
              "    0.42001990579742704,\n",
              "    0.4557752075692304,\n",
              "    0.4847939510749904,\n",
              "    0.5110614012102112,\n",
              "    0.5295338677395315,\n",
              "    0.5540462824473267,\n",
              "    0.5735161394645787,\n",
              "    0.5944687624212973,\n",
              "    0.6089847981295011,\n",
              "    0.6259592476376069,\n",
              "    0.6368918017230506,\n",
              "    0.6474187374393306,\n",
              "    0.6605367358175377,\n",
              "    0.6686467246952252,\n",
              "    0.6757845828747104,\n",
              "    0.6803752965106027,\n",
              "    0.6888377476636866,\n",
              "    0.6946616169763351,\n",
              "    0.7019193419119119,\n",
              "    0.7012514542730587,\n",
              "    0.7078317040157673,\n",
              "    0.7068023455682829,\n",
              "    0.7082697107564954,\n",
              "    0.7128210502249858,\n",
              "    0.7057933452945582,\n",
              "    0.7076207359019949,\n",
              "    0.7054312285315039,\n",
              "    0.7063966931206261,\n",
              "    0.7040666323115029,\n",
              "    0.7068992513499364,\n",
              "    0.7051857989207537,\n",
              "    0.7087660163698122,\n",
              "    0.7022509070670016,\n",
              "    0.7071936842949594,\n",
              "    0.6994636986840361,\n",
              "    0.7027966273797992,\n",
              "    0.6974804994418253,\n",
              "    0.7082902567010149,\n",
              "    0.698789780454457,\n",
              "    0.7016408355643883,\n",
              "    0.6975467227776484,\n",
              "    0.6951819568477475,\n",
              "    0.690831626554257,\n",
              "    0.6935952334860953,\n",
              "    0.6940550947399984,\n",
              "    0.6863005387100508,\n",
              "    0.6895461185877133]],\n",
              "  'hyperparams': {'C': 0.5,\n",
              "   'E': 5,\n",
              "   'K': 100,\n",
              "   'batch_size': 10,\n",
              "   'lr': 0.05,\n",
              "   'q': 0.001,\n",
              "   'rounds': 50,\n",
              "   'sampling': 'weighted'},\n",
              "  'test_accuracy': [[10.0,\n",
              "    31.55,\n",
              "    39.54,\n",
              "    43.32,\n",
              "    46.28,\n",
              "    48.7,\n",
              "    51.46,\n",
              "    53.69,\n",
              "    55.69,\n",
              "    57.75,\n",
              "    59.78,\n",
              "    61.21,\n",
              "    62.95,\n",
              "    64.07,\n",
              "    64.99,\n",
              "    66.41,\n",
              "    67.22,\n",
              "    68.02,\n",
              "    68.57,\n",
              "    69.32,\n",
              "    69.87,\n",
              "    70.65,\n",
              "    70.57,\n",
              "    71.33,\n",
              "    71.24,\n",
              "    71.36,\n",
              "    71.79,\n",
              "    71.14,\n",
              "    71.41,\n",
              "    71.2,\n",
              "    71.21,\n",
              "    70.94,\n",
              "    71.22,\n",
              "    71.09,\n",
              "    71.43,\n",
              "    70.91,\n",
              "    71.27,\n",
              "    70.5,\n",
              "    70.72,\n",
              "    70.23,\n",
              "    71.34,\n",
              "    70.45,\n",
              "    70.63,\n",
              "    70.22,\n",
              "    70.15,\n",
              "    69.6,\n",
              "    69.82,\n",
              "    69.98,\n",
              "    69.16,\n",
              "    69.43]],\n",
              "  'test_loss': [[2.2936707466125488,\n",
              "    2.0073342384338377,\n",
              "    1.7424219207763672,\n",
              "    1.5973595609664917,\n",
              "    1.4838192588806152,\n",
              "    1.4127689350128174,\n",
              "    1.3416869190216065,\n",
              "    1.2776734239578247,\n",
              "    1.2305646705627442,\n",
              "    1.1805275928497314,\n",
              "    1.1318277215957642,\n",
              "    1.0892460409164428,\n",
              "    1.0487423330307006,\n",
              "    1.0088199348449707,\n",
              "    0.9760116123199463,\n",
              "    0.9456589560508728,\n",
              "    0.9208378339767456,\n",
              "    0.903835674571991,\n",
              "    0.885893080329895,\n",
              "    0.8759261276245117,\n",
              "    0.8681626865386963,\n",
              "    0.8581962574005126,\n",
              "    0.8528603841781616,\n",
              "    0.8455355648994446,\n",
              "    0.848917932510376,\n",
              "    0.861691044998169,\n",
              "    0.8633319549560546,\n",
              "    0.8838060594558715,\n",
              "    0.8857280399799347,\n",
              "    0.89055296292305,\n",
              "    0.8978235651969909,\n",
              "    0.9228591564655304,\n",
              "    0.9177679021835328,\n",
              "    0.9334318115234375,\n",
              "    0.9211371620178223,\n",
              "    0.9482227249145507,\n",
              "    0.9464849412441254,\n",
              "    0.9840910969257355,\n",
              "    0.9808843054771423,\n",
              "    1.0033229771614074,\n",
              "    0.9706315286636352,\n",
              "    1.0266477633476256,\n",
              "    1.0161038599967958,\n",
              "    1.046041017103195,\n",
              "    1.0488884072780609,\n",
              "    1.0976574602603912,\n",
              "    1.1050460236549378,\n",
              "    1.0864943867206573,\n",
              "    1.1232771093845368,\n",
              "    1.135646877336502]],\n",
              "  'train_loss': [[2.1265923961639412,\n",
              "    2.006121623563766,\n",
              "    1.8890814883422857,\n",
              "    1.7929281097936627,\n",
              "    1.7117083338403702,\n",
              "    1.6378507691144943,\n",
              "    1.5678806018495564,\n",
              "    1.5027129627823828,\n",
              "    1.442761205005646,\n",
              "    1.3866261734533307,\n",
              "    1.3272282539057734,\n",
              "    1.2742808333992959,\n",
              "    1.2241095569658278,\n",
              "    1.1681355493354795,\n",
              "    1.122234453196525,\n",
              "    1.0742682662522791,\n",
              "    1.0306441912060975,\n",
              "    0.9875387281835082,\n",
              "    0.9535155520921944,\n",
              "    0.9158188852894306,\n",
              "    0.8805609044069052,\n",
              "    0.8545930701589585,\n",
              "    0.8217905606928472,\n",
              "    0.7908189419400687,\n",
              "    0.7658701671110094,\n",
              "    0.7440914068534972,\n",
              "    0.720277660408765,\n",
              "    0.6976152465856075,\n",
              "    0.672536872653067,\n",
              "    0.65298607951425,\n",
              "    0.6348573689951003,\n",
              "    0.6201819549177587,\n",
              "    0.6057528351875392,\n",
              "    0.5838932554533333,\n",
              "    0.5728822841413318,\n",
              "    0.5598035771416314,\n",
              "    0.5426672628060727,\n",
              "    0.5290095686127991,\n",
              "    0.5184219612419605,\n",
              "    0.5058481196339428,\n",
              "    0.49646271589599544,\n",
              "    0.48138415843103083,\n",
              "    0.47196374237613725,\n",
              "    0.4629047062690182,\n",
              "    0.45362606693509966,\n",
              "    0.4407081182290986,\n",
              "    0.4352042858123034,\n",
              "    0.4260619199675881,\n",
              "    0.4190871875784733,\n",
              "    0.4122625720438734]]},\n",
              " 'CIFAR CNN on Non IID': {'f1_macro': [[0.01818181818181818,\n",
              "    0.02074406774766398,\n",
              "    0.03287514994137265,\n",
              "    0.044203895149114505,\n",
              "    0.1235144516161473,\n",
              "    0.15202501414892494,\n",
              "    0.2025539558878123,\n",
              "    0.20510957156881204,\n",
              "    0.21723169890574107,\n",
              "    0.23563210165759313,\n",
              "    0.25234372060429494,\n",
              "    0.2616622444594702,\n",
              "    0.2668674130040934,\n",
              "    0.27332643410641894,\n",
              "    0.2839481822059315,\n",
              "    0.2939832887001882,\n",
              "    0.28909869233524615,\n",
              "    0.2913857164981768,\n",
              "    0.30693830087601603,\n",
              "    0.3046856188212391,\n",
              "    0.3110590722991596,\n",
              "    0.310044435806156,\n",
              "    0.3167201239237052,\n",
              "    0.3164971134909147,\n",
              "    0.3229800640813877,\n",
              "    0.32922366085910537,\n",
              "    0.32489795652567766,\n",
              "    0.3277139189769602,\n",
              "    0.33975240734881146,\n",
              "    0.34251444016674387,\n",
              "    0.3436418393076619,\n",
              "    0.3466571437600355,\n",
              "    0.35254075211471714,\n",
              "    0.3535232356055788,\n",
              "    0.3658875284539893,\n",
              "    0.36064011095001186,\n",
              "    0.3744221978402861,\n",
              "    0.374472752495488,\n",
              "    0.39222970655399664,\n",
              "    0.37749433957120887,\n",
              "    0.3872129893287426,\n",
              "    0.3913842216243776,\n",
              "    0.4028822173612879,\n",
              "    0.4094689983251586,\n",
              "    0.40100202658612705,\n",
              "    0.4126143844482925,\n",
              "    0.4171326039865906,\n",
              "    0.4166206246563515,\n",
              "    0.41473058659455814,\n",
              "    0.4282678587683731]],\n",
              "  'f1_weighted': [[0.01818181818181818,\n",
              "    0.02074406774766398,\n",
              "    0.032875149941372646,\n",
              "    0.044203895149114505,\n",
              "    0.12351445161614727,\n",
              "    0.15202501414892494,\n",
              "    0.20255395588781233,\n",
              "    0.20510957156881204,\n",
              "    0.21723169890574104,\n",
              "    0.2356321016575931,\n",
              "    0.2523437206042949,\n",
              "    0.2616622444594702,\n",
              "    0.2668674130040934,\n",
              "    0.27332643410641894,\n",
              "    0.28394818220593154,\n",
              "    0.29398328870018825,\n",
              "    0.2890986923352461,\n",
              "    0.2913857164981768,\n",
              "    0.306938300876016,\n",
              "    0.3046856188212392,\n",
              "    0.3110590722991596,\n",
              "    0.31004443580615604,\n",
              "    0.31672012392370513,\n",
              "    0.3164971134909147,\n",
              "    0.32298006408138774,\n",
              "    0.32922366085910537,\n",
              "    0.32489795652567766,\n",
              "    0.3277139189769601,\n",
              "    0.3397524073488114,\n",
              "    0.34251444016674387,\n",
              "    0.3436418393076619,\n",
              "    0.34665714376003554,\n",
              "    0.3525407521147172,\n",
              "    0.35352323560557886,\n",
              "    0.3658875284539893,\n",
              "    0.36064011095001186,\n",
              "    0.374422197840286,\n",
              "    0.374472752495488,\n",
              "    0.3922297065539966,\n",
              "    0.37749433957120887,\n",
              "    0.3872129893287426,\n",
              "    0.3913842216243776,\n",
              "    0.4028822173612879,\n",
              "    0.40946899832515854,\n",
              "    0.40100202658612705,\n",
              "    0.41261438444829257,\n",
              "    0.4171326039865907,\n",
              "    0.4166206246563515,\n",
              "    0.4147305865945582,\n",
              "    0.42826785876837303]],\n",
              "  'hyperparams': {'C': 0.5,\n",
              "   'E': 1,\n",
              "   'K': 100,\n",
              "   'batch_size': 10,\n",
              "   'lr': 0.05,\n",
              "   'q': 0.001,\n",
              "   'rounds': 50,\n",
              "   'sampling': 'weighted'},\n",
              "  'test_accuracy': [[10.0,\n",
              "    10.12,\n",
              "    10.83,\n",
              "    11.87,\n",
              "    19.16,\n",
              "    23.46,\n",
              "    26.56,\n",
              "    28.45,\n",
              "    27.86,\n",
              "    29.82,\n",
              "    31.02,\n",
              "    31.16,\n",
              "    32.65,\n",
              "    33.15,\n",
              "    34.66,\n",
              "    34.94,\n",
              "    34.4,\n",
              "    34.8,\n",
              "    36.2,\n",
              "    36.41,\n",
              "    36.93,\n",
              "    36.8,\n",
              "    37.6,\n",
              "    37.53,\n",
              "    38.11,\n",
              "    38.77,\n",
              "    38.05,\n",
              "    38.54,\n",
              "    39.82,\n",
              "    39.84,\n",
              "    40.25,\n",
              "    40.47,\n",
              "    41.33,\n",
              "    40.75,\n",
              "    42.0,\n",
              "    41.64,\n",
              "    42.34,\n",
              "    42.82,\n",
              "    44.0,\n",
              "    42.99,\n",
              "    43.76,\n",
              "    44.32,\n",
              "    45.07,\n",
              "    45.4,\n",
              "    45.27,\n",
              "    45.69,\n",
              "    46.12,\n",
              "    46.19,\n",
              "    46.33,\n",
              "    46.96]],\n",
              "  'test_loss': [[2.304110414123535,\n",
              "    2.305403977584839,\n",
              "    2.305181776046753,\n",
              "    2.2947882259368897,\n",
              "    2.2636268802642823,\n",
              "    2.201171725463867,\n",
              "    2.14831921081543,\n",
              "    2.0868053394317627,\n",
              "    2.071012139892578,\n",
              "    2.0303636554718016,\n",
              "    1.9912033828735352,\n",
              "    1.9662565059661865,\n",
              "    1.9488969703674317,\n",
              "    1.9189025825500488,\n",
              "    1.889216637992859,\n",
              "    1.8837748365402223,\n",
              "    1.8866233436584472,\n",
              "    1.8654773094177246,\n",
              "    1.8445507270812989,\n",
              "    1.8285846166610717,\n",
              "    1.8164567712783815,\n",
              "    1.808912420272827,\n",
              "    1.7906334087371827,\n",
              "    1.7802701034545898,\n",
              "    1.76905281791687,\n",
              "    1.7602858823776246,\n",
              "    1.753066951560974,\n",
              "    1.7476376970291139,\n",
              "    1.7195273105621338,\n",
              "    1.6967728065490724,\n",
              "    1.6900649549484252,\n",
              "    1.6826061180114746,\n",
              "    1.6711955940246581,\n",
              "    1.665957798576355,\n",
              "    1.6444943237304688,\n",
              "    1.6373750288009643,\n",
              "    1.637988123703003,\n",
              "    1.6233518241882323,\n",
              "    1.5969762186050416,\n",
              "    1.6027950366973878,\n",
              "    1.5886761350631713,\n",
              "    1.5831738739013672,\n",
              "    1.5603977249145509,\n",
              "    1.5498372884750367,\n",
              "    1.5546316665649413,\n",
              "    1.5481329990386963,\n",
              "    1.5263845863342285,\n",
              "    1.527445624923706,\n",
              "    1.5176365901947022,\n",
              "    1.5093906085968019]],\n",
              "  'train_loss': [[0.8710705103497222,\n",
              "    0.8458129948136559,\n",
              "    0.7977535694195923,\n",
              "    0.7110473755345181,\n",
              "    0.6924007751732071,\n",
              "    0.6541599238808382,\n",
              "    0.6270507816058023,\n",
              "    0.6055741594910239,\n",
              "    0.6056562483294674,\n",
              "    0.5874451780332143,\n",
              "    0.5686907114307607,\n",
              "    0.573540052092757,\n",
              "    0.555027375293576,\n",
              "    0.542049759931883,\n",
              "    0.5279008233300019,\n",
              "    0.5308091352225791,\n",
              "    0.5291353455925977,\n",
              "    0.5181023677862353,\n",
              "    0.5136202891242978,\n",
              "    0.5072178167695403,\n",
              "    0.5050500184812111,\n",
              "    0.5062969517454465,\n",
              "    0.4894260743618415,\n",
              "    0.48854481335914535,\n",
              "    0.4819809977512189,\n",
              "    0.4840403046957596,\n",
              "    0.47911474125197573,\n",
              "    0.4750396818022966,\n",
              "    0.4605336779140472,\n",
              "    0.4582636003695973,\n",
              "    0.45861594886569457,\n",
              "    0.45644509233097247,\n",
              "    0.4468109703400645,\n",
              "    0.4506681955963351,\n",
              "    0.43688520967531924,\n",
              "    0.4430331823694989,\n",
              "    0.4379521714551723,\n",
              "    0.42462366581339883,\n",
              "    0.4228474751288814,\n",
              "    0.4197010128084515,\n",
              "    0.4329125053474524,\n",
              "    0.4196338640225946,\n",
              "    0.41737351523922067,\n",
              "    0.40578374087838703,\n",
              "    0.4051568217509761,\n",
              "    0.41376564791012344,\n",
              "    0.4013169065024495,\n",
              "    0.4028248382961463,\n",
              "    0.39709613428921875,\n",
              "    0.39506466017733466]]}}"
            ]
          },
          "metadata": {
            "tags": []
          },
          "execution_count": 53
        }
      ]
    },
    {
      "cell_type": "code",
      "metadata": {
        "id": "x1r1hcqMUCeZ"
      },
      "source": [
        "import pickle\n",
        "\n",
        "with open(path + 'Local_Round_qFedAvg.pkl', 'rb') as file:\n",
        "  log_dict = pickle.load(file)"
      ],
      "execution_count": 54,
      "outputs": []
    },
    {
      "cell_type": "code",
      "metadata": {
        "id": "se_04JMaVJPg",
        "colab": {
          "base_uri": "https://localhost:8080/"
        },
        "outputId": "1c886170-88c5-4198-a268-2749d174daf5"
      },
      "source": [
        "print([test_acc[-1] for test_acc in log_dict['CIFAR CNN on IID']['test_accuracy']])"
      ],
      "execution_count": 55,
      "outputs": [
        {
          "output_type": "stream",
          "text": [
            "[69.43]\n"
          ],
          "name": "stdout"
        }
      ]
    },
    {
      "cell_type": "code",
      "metadata": {
        "id": "5sv0rv-G4Sqa",
        "colab": {
          "base_uri": "https://localhost:8080/"
        },
        "outputId": "28f04051-3781-4c18-8e0b-c4a72feafa90"
      },
      "source": [
        "print([test_acc[-1] for test_acc in log_dict['CIFAR CNN on Non IID']['test_accuracy']])"
      ],
      "execution_count": 56,
      "outputs": [
        {
          "output_type": "stream",
          "text": [
            "[46.96]\n"
          ],
          "name": "stdout"
        }
      ]
    },
    {
      "cell_type": "code",
      "metadata": {
        "id": "b2a2_Az-4nal"
      },
      "source": [
        "# print([test_acc[-1] for test_acc in log_dict['CIFAR MLP on IID']['test_accuracy']])"
      ],
      "execution_count": 57,
      "outputs": []
    },
    {
      "cell_type": "code",
      "metadata": {
        "id": "YoRqZyvD4p2K"
      },
      "source": [
        "# print([test_acc[-1] for test_acc in log_dict['CIFAR MLP on Non IID']['test_accuracy']])"
      ],
      "execution_count": 58,
      "outputs": []
    },
    {
      "cell_type": "code",
      "metadata": {
        "id": "mkG1kQdmVzbJ"
      },
      "source": [
        ""
      ],
      "execution_count": 58,
      "outputs": []
    }
  ]
}