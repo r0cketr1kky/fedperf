{
  "nbformat": 4,
  "nbformat_minor": 0,
  "metadata": {
    "accelerator": "GPU",
    "colab": {
      "name": "ncqFederatedAveraging.ipynb",
      "provenance": [],
      "collapsed_sections": [],
      "machine_shape": "hm"
    },
    "kernelspec": {
      "display_name": "Python 3",
      "name": "python3"
    },
    "language_info": {
      "name": "python"
    }
  },
  "cells": [
    {
      "cell_type": "markdown",
      "metadata": {
        "id": "view-in-github"
      },
      "source": [
        "<a href=\"https://colab.research.google.com/github/tushar-semwal/fedperf/blob/main/Vineeth/FedAvg_CIFAR.ipynb\" target=\"_parent\"><img src=\"https://colab.research.google.com/assets/colab-badge.svg\" alt=\"Open In Colab\"/></a>"
      ]
    },
    {
      "cell_type": "code",
      "metadata": {
        "id": "yKcpjZLrQQJV"
      },
      "source": [
        "%%capture output\n",
        "try:\n",
        "    from google.colab import drive\n",
        "    drive.mount('/content/drive')\n",
        "\n",
        "    import os\n",
        "    path = '/content/drive/MyDrive/Colab Notebooks/OpenMined/'\n",
        "    os.makedirs(path, exist_ok=True)\n",
        "except:\n",
        "    path = './'"
      ],
      "execution_count": 36,
      "outputs": []
    },
    {
      "cell_type": "markdown",
      "metadata": {
        "id": "-0_nKpfq2h1R"
      },
      "source": [
        "## Imports"
      ]
    },
    {
      "cell_type": "code",
      "metadata": {
        "colab": {
          "base_uri": "https://localhost:8080/"
        },
        "id": "DLLNM9X2JbQ8",
        "outputId": "d25f4b28-0052-4bcc-f0f7-790e5cbdfbb2"
      },
      "source": [
        "%load_ext tensorboard\n",
        "import os\n",
        "import numpy as np\n",
        "import matplotlib\n",
        "import matplotlib.pyplot as plt\n",
        "import copy\n",
        "import random\n",
        "import time\n",
        "\n",
        "import torch\n",
        "import torch.nn as nn\n",
        "import torch.nn.functional as F\n",
        "\n",
        "from torch.utils.data import Dataset, DataLoader\n",
        "from torch.utils.tensorboard import SummaryWriter\n",
        "from torchvision import transforms, utils, datasets\n",
        "from torchsummary import summary\n",
        "from sklearn.metrics import f1_score\n",
        "\n",
        "# Check assigned GPU\n",
        "gpu_info = !nvidia-smi\n",
        "gpu_info = '\\n'.join(gpu_info)\n",
        "if gpu_info.find('failed') >= 0:\n",
        "  print('Select the Runtime > \"Change runtime type\" menu to enable a GPU accelerator, ')\n",
        "  print('and then re-execute this cell.')\n",
        "else:\n",
        "  print(gpu_info)\n",
        "\n",
        "# set manual seed for reproducibility\n",
        "seed = 42\n",
        "\n",
        "# general reproducibility\n",
        "random.seed(seed)\n",
        "np.random.seed(seed)\n",
        "torch.manual_seed(seed)\n",
        "\n",
        "# gpu training specific\n",
        "torch.backends.cudnn.deterministic = True\n",
        "torch.backends.cudnn.benchmark = False"
      ],
      "execution_count": 37,
      "outputs": [
        {
          "output_type": "stream",
          "text": [
            "The tensorboard extension is already loaded. To reload it, use:\n",
            "  %reload_ext tensorboard\n",
            "Mon Apr 26 09:20:55 2021       \n",
            "+-----------------------------------------------------------------------------+\n",
            "| NVIDIA-SMI 465.19.01    Driver Version: 460.32.03    CUDA Version: 11.2     |\n",
            "|-------------------------------+----------------------+----------------------+\n",
            "| GPU  Name        Persistence-M| Bus-Id        Disp.A | Volatile Uncorr. ECC |\n",
            "| Fan  Temp  Perf  Pwr:Usage/Cap|         Memory-Usage | GPU-Util  Compute M. |\n",
            "|                               |                      |               MIG M. |\n",
            "|===============================+======================+======================|\n",
            "|   0  Tesla T4            Off  | 00000000:00:04.0 Off |                    0 |\n",
            "| N/A   71C    P0    31W /  70W |   1792MiB / 15109MiB |      0%      Default |\n",
            "|                               |                      |                  N/A |\n",
            "+-------------------------------+----------------------+----------------------+\n",
            "                                                                               \n",
            "+-----------------------------------------------------------------------------+\n",
            "| Processes:                                                                  |\n",
            "|  GPU   GI   CI        PID   Type   Process name                  GPU Memory |\n",
            "|        ID   ID                                                   Usage      |\n",
            "|=============================================================================|\n",
            "+-----------------------------------------------------------------------------+\n"
          ],
          "name": "stdout"
        }
      ]
    },
    {
      "cell_type": "markdown",
      "metadata": {
        "id": "NY4eWzGiL6Mj"
      },
      "source": [
        "## Load the CIFAR Dataset"
      ]
    },
    {
      "cell_type": "code",
      "metadata": {
        "colab": {
          "base_uri": "https://localhost:8080/"
        },
        "id": "G649tjTXLL8F",
        "outputId": "30a43078-ba2f-4c07-ab49-9dd6dcc7dd8a"
      },
      "source": [
        "# create transforms\n",
        "# We will just convert to tensor and normalize since no special transforms are mentioned in the paper\n",
        "transform_train = transforms.Compose([\n",
        "    transforms.RandomCrop(32, padding=4),\n",
        "    transforms.RandomHorizontalFlip(),\n",
        "    transforms.ToTensor(),\n",
        "    transforms.Normalize((0.4914, 0.4822, 0.4465), (0.2023, 0.1994, 0.2010)),\n",
        "])\n",
        "\n",
        "# Normalize the test set same as training set without augmentation\n",
        "transform_test = transforms.Compose([\n",
        "    transforms.ToTensor(),\n",
        "    transforms.Normalize((0.4914, 0.4822, 0.4465), (0.2023, 0.1994, 0.2010)),\n",
        "])\n",
        "\n",
        "cifar_data_train = datasets.CIFAR10('../data/cifar10/', train=True, download=True, transform=transform_train)\n",
        "cifar_data_test = datasets.CIFAR10('../data/cifar10/', train=False, download=True, transform=transform_test)"
      ],
      "execution_count": 38,
      "outputs": [
        {
          "output_type": "stream",
          "text": [
            "Files already downloaded and verified\n",
            "Files already downloaded and verified\n"
          ],
          "name": "stdout"
        }
      ]
    },
    {
      "cell_type": "code",
      "metadata": {
        "colab": {
          "base_uri": "https://localhost:8080/"
        },
        "id": "pOtLLX66b1Ad",
        "outputId": "90a42bdc-6e11-4d47-8c41-18d4d0718f4d"
      },
      "source": [
        "classes = np.array(list(cifar_data_train.class_to_idx.values()))\n",
        "classes_test = np.array(list(cifar_data_test.class_to_idx.values()))\n",
        "num_classes = len(classes_test)\n",
        "print(\"Classes: {} \\tType: {}\".format(classes, type(classes)))\n",
        "print(\"Classes Test: {} \\tType: {}\".format(classes_test, type(classes)))\n"
      ],
      "execution_count": 39,
      "outputs": [
        {
          "output_type": "stream",
          "text": [
            "Classes: [0 1 2 3 4 5 6 7 8 9] \tType: <class 'numpy.ndarray'>\n",
            "Classes Test: [0 1 2 3 4 5 6 7 8 9] \tType: <class 'numpy.ndarray'>\n"
          ],
          "name": "stdout"
        }
      ]
    },
    {
      "cell_type": "code",
      "metadata": {
        "colab": {
          "base_uri": "https://localhost:8080/"
        },
        "id": "wa4TJs-AVJ2O",
        "outputId": "7a2abfe0-8e00-4778-ec2f-ac7593908ab8"
      },
      "source": [
        "print(\"Image Shape: {}\".format(cifar_data_train.data[0].shape))"
      ],
      "execution_count": 40,
      "outputs": [
        {
          "output_type": "stream",
          "text": [
            "Image Shape: (32, 32, 3)\n"
          ],
          "name": "stdout"
        }
      ]
    },
    {
      "cell_type": "markdown",
      "metadata": {
        "id": "jCOONkg-zV7Y"
      },
      "source": [
        "## Visualize Data"
      ]
    },
    {
      "cell_type": "code",
      "metadata": {
        "id": "R9MK03TZw6Qs"
      },
      "source": [
        "def imshow(img):\n",
        "\t#img = img/2 + 0.5 #unnormalize the image\n",
        "\tplt.imshow(img, cmap='hsv') # convert from tensor to image"
      ],
      "execution_count": 41,
      "outputs": []
    },
    {
      "cell_type": "code",
      "metadata": {
        "id": "gMJ0Kx4Kw-_H"
      },
      "source": [
        "def visualize(dataset):\n",
        "  figure = plt.figure(figsize=(25,4))\n",
        "  for i in range(20):\n",
        "    axis = figure.add_subplot(2, 20/2, i+1, xticks=[], yticks=[])\n",
        "    data = dataset.data[i]\n",
        "    #data = data.numpy()\n",
        "\n",
        "    target = dataset.targets[i]\n",
        "    #target = target.numpy()\n",
        "    imshow(data)\n",
        "    axis.set_title(target)\n"
      ],
      "execution_count": 42,
      "outputs": []
    },
    {
      "cell_type": "code",
      "metadata": {
        "colab": {
          "base_uri": "https://localhost:8080/",
          "height": 130
        },
        "id": "8bPOwKg10Ro7",
        "outputId": "79513502-60d5-49bd-a50c-5561d5d966c0"
      },
      "source": [
        "visualize(cifar_data_train)"
      ],
      "execution_count": 43,
      "outputs": [
        {
          "output_type": "display_data",
          "data": {
            "image/png": "[encoded data removed]",
            "text/plain": [
              "<Figure size 1800x288 with 20 Axes>"
            ]
          },
          "metadata": {
            "tags": []
          }
        }
      ]
    },
    {
      "cell_type": "code",
      "metadata": {
        "colab": {
          "base_uri": "https://localhost:8080/",
          "height": 130
        },
        "id": "RKoh5Cf70UYu",
        "outputId": "81c059b9-79e7-4e7e-a9c5-08dc7d58bc48"
      },
      "source": [
        "visualize(cifar_data_test)"
      ],
      "execution_count": 44,
      "outputs": [
        {
          "output_type": "display_data",
          "data": {
            "image/png": "[encoded data removed]",
            "text/plain": [
              "<Figure size 1800x288 with 20 Axes>"
            ]
          },
          "metadata": {
            "tags": []
          }
        }
      ]
    },
    {
      "cell_type": "markdown",
      "metadata": {
        "id": "ctjRsETiO1qO"
      },
      "source": [
        "## Partitioning the Data (IID and non-IID)"
      ]
    },
    {
      "cell_type": "code",
      "metadata": {
        "id": "3_v8lyrgO5dD"
      },
      "source": [
        "def iid_partition(dataset, clients):\n",
        "  \"\"\"\n",
        "  I.I.D paritioning of data over clients\n",
        "  Shuffle the data\n",
        "  Split it between clients\n",
        "  \n",
        "  params:\n",
        "    - dataset (torch.utils.Dataset): Dataset containing the CIFAR Images\n",
        "    - clients (int): Number of Clients to split the data between\n",
        "\n",
        "  returns:\n",
        "    - Dictionary of image indexes for each client\n",
        "  \"\"\"\n",
        "\n",
        "  num_items_per_client = int(len(dataset)/clients)\n",
        "  client_dict = {}\n",
        "  image_idxs = [i for i in range(len(dataset))]\n",
        "\n",
        "  for i in range(clients):\n",
        "    client_dict[i] = set(np.random.choice(image_idxs, num_items_per_client, replace=False))\n",
        "    image_idxs = list(set(image_idxs) - client_dict[i])\n",
        "\n",
        "  return client_dict"
      ],
      "execution_count": 45,
      "outputs": []
    },
    {
      "cell_type": "code",
      "metadata": {
        "id": "4zMdliGMQoSl"
      },
      "source": [
        "def non_iid_partition(dataset, clients, total_shards, shards_size, num_shards_per_client):\n",
        "  \"\"\"\n",
        "  non I.I.D parititioning of data over clients\n",
        "  Sort the data by the digit label\n",
        "  Divide the data into N shards of size S\n",
        "  Each of the clients will get X shards\n",
        "\n",
        "  params:\n",
        "    - dataset (torch.utils.Dataset): Dataset containing the CIFAR Images\n",
        "    - clients (int): Number of Clients to split the data between\n",
        "    - total_shards (int): Number of shards to partition the data in\n",
        "    - shards_size (int): Size of each shard \n",
        "    - num_shards_per_client (int): Number of shards of size shards_size that each client receives\n",
        "\n",
        "  returns:\n",
        "    - Dictionary of image indexes for each client\n",
        "  \"\"\"\n",
        "  \n",
        "  shard_idxs = [i for i in range(total_shards)]\n",
        "  client_dict = {i: np.array([], dtype='int64') for i in range(clients)}\n",
        "  idxs = np.arange(len(dataset))\n",
        "  data_labels = np.array(dataset.targets)\n",
        "\n",
        "  # sort the labels\n",
        "  label_idxs = np.vstack((idxs, data_labels))\n",
        "  label_idxs = label_idxs[:, label_idxs[1,:].argsort()]\n",
        "  idxs = label_idxs[0,:]\n",
        "\n",
        "  # divide the data into total_shards of size shards_size\n",
        "  # assign num_shards_per_client to each client\n",
        "  for i in range(clients):\n",
        "    rand_set = set(np.random.choice(shard_idxs, num_shards_per_client, replace=False))\n",
        "    shard_idxs = list(set(shard_idxs) - rand_set)\n",
        "\n",
        "    for rand in rand_set:\n",
        "      client_dict[i] = np.concatenate((client_dict[i], idxs[rand*shards_size:(rand+1)*shards_size]), axis=0)\n",
        "  \n",
        "  return client_dict\n",
        "\n",
        "\n",
        "\n"
      ],
      "execution_count": 46,
      "outputs": []
    },
    {
      "cell_type": "markdown",
      "metadata": {
        "id": "EUP_bcedcLwB"
      },
      "source": [
        "##Models"
      ]
    },
    {
      "cell_type": "code",
      "metadata": {
        "id": "CvoDNFKbZST5"
      },
      "source": [
        "class CIFAR_MLP(nn.Module):\n",
        "  def __init__(self):\n",
        "    super(CIFAR_MLP, self).__init__()\n",
        "    self.fc1 = nn.Linear(3 * 32 * 32, 2634)\n",
        "    self.fc2 = nn.Linear(2634, 2196) \n",
        "    self.fc3 = nn.Linear(2196, 1758)\n",
        "    self.fc4 = nn.Linear(1758, 1320)\n",
        "    self.fc5 = nn.Linear(1320, 882)\n",
        "    self.fc6 = nn.Linear(882, 444) \n",
        "    self.fc7 = nn.Linear(444, 10) \n",
        "\n",
        "  def forward(self, x):\n",
        "    x = x.view(-1, 3 * 32 * 32)\n",
        "    x = F.relu(self.fc1(x))\n",
        "    x = F.relu(self.fc2(x))\n",
        "    x = F.relu(self.fc3(x))\n",
        "    x = F.relu(self.fc4(x))\n",
        "    x = F.relu(self.fc5(x))\n",
        "    x = F.relu(self.fc6(x))\n",
        "\n",
        "    x = self.fc7(x)\n",
        "    return x"
      ],
      "execution_count": 47,
      "outputs": []
    },
    {
      "cell_type": "code",
      "metadata": {
        "id": "ut1hZ8x3qYPZ"
      },
      "source": [
        "class CIFAR_CNN(nn.Module):\n",
        "  def __init__(self):\n",
        "    super(CIFAR_CNN, self).__init__()\n",
        "\n",
        "    self.conv_layer = nn.Sequential(\n",
        "      nn.Conv2d(in_channels=3, out_channels=32, kernel_size=3, padding=1),\n",
        "      nn.BatchNorm2d(32),\n",
        "      nn.ReLU(inplace=True),\n",
        "      nn.Conv2d(in_channels=32, out_channels=64, kernel_size=3, padding=1),\n",
        "      nn.ReLU(inplace=True),\n",
        "      nn.MaxPool2d(kernel_size=2, stride=2),\n",
        "\n",
        "      nn.Conv2d(in_channels=64, out_channels=128, kernel_size=3, padding=1),\n",
        "      nn.BatchNorm2d(128),\n",
        "      nn.ReLU(inplace=True),\n",
        "      nn.Conv2d(in_channels=128, out_channels=128, kernel_size=3, padding=1),\n",
        "      nn.ReLU(inplace=True),\n",
        "      nn.MaxPool2d(kernel_size=2, stride=2),\n",
        "      nn.Dropout2d(p=0.05),\n",
        "\n",
        "      nn.Conv2d(in_channels=128, out_channels=256, kernel_size=3, padding=1),\n",
        "      nn.BatchNorm2d(256),\n",
        "      nn.ReLU(inplace=True),\n",
        "      nn.Conv2d(in_channels=256, out_channels=256, kernel_size=3, padding=1),\n",
        "      nn.ReLU(inplace=True),\n",
        "      nn.MaxPool2d(kernel_size=2, stride=2),\n",
        "    )\n",
        "\n",
        "    self.fc_layer = nn.Sequential(\n",
        "      nn.Dropout(p=0.1),\n",
        "      nn.Linear(4096, 1024),\n",
        "      nn.ReLU(inplace=True),\n",
        "      nn.Linear(1024, 512),\n",
        "      nn.ReLU(inplace=True),\n",
        "      nn.Dropout(p=0.1),\n",
        "      nn.Linear(512, 10)\n",
        "    )\n",
        "\n",
        "\n",
        "  def forward(self, x):      \n",
        "    # conv layers\n",
        "    x = self.conv_layer(x)\n",
        "    \n",
        "    # flatten\n",
        "    x = x.view(x.size(0), -1)\n",
        "    \n",
        "    # fc layer\n",
        "    x = self.fc_layer(x)\n",
        "\n",
        "    return x"
      ],
      "execution_count": 48,
      "outputs": []
    },
    {
      "cell_type": "markdown",
      "metadata": {
        "id": "uVv4HA9HuLtr"
      },
      "source": [
        "### Print Model Summaries"
      ]
    },
    {
      "cell_type": "code",
      "metadata": {
        "colab": {
          "base_uri": "https://localhost:8080/"
        },
        "id": "-H2jR2-Id4AA",
        "outputId": "64bd98d4-3444-4b4b-eadd-89515c15bca9"
      },
      "source": [
        "cifar_mlp = CIFAR_MLP()\n",
        "cifar_cnn = CIFAR_CNN()\n",
        "\n",
        "if torch.cuda.is_available():\n",
        "  cifar_mlp.cuda()\n",
        "  cifar_cnn.cuda()\n",
        "\n",
        "print(\"CIFAR MLP SUMMARY\")\n",
        "print(summary(cifar_mlp, (32,32,3)))\n",
        "\n",
        "print(\"\\nCIFAR CNN SUMMARY\")\n",
        "print(summary(cifar_cnn, (3, 32,32)))"
      ],
      "execution_count": 49,
      "outputs": [
        {
          "output_type": "stream",
          "text": [
            "CIFAR MLP SUMMARY\n",
            "----------------------------------------------------------------\n",
            "        Layer (type)               Output Shape         Param #\n",
            "================================================================\n",
            "            Linear-1                 [-1, 2634]       8,094,282\n",
            "            Linear-2                 [-1, 2196]       5,786,460\n",
            "            Linear-3                 [-1, 1758]       3,862,326\n",
            "            Linear-4                 [-1, 1320]       2,321,880\n",
            "            Linear-5                  [-1, 882]       1,165,122\n",
            "            Linear-6                  [-1, 444]         392,052\n",
            "            Linear-7                   [-1, 10]           4,450\n",
            "================================================================\n",
            "Total params: 21,626,572\n",
            "Trainable params: 21,626,572\n",
            "Non-trainable params: 0\n",
            "----------------------------------------------------------------\n",
            "Input size (MB): 0.01\n",
            "Forward/backward pass size (MB): 0.07\n",
            "Params size (MB): 82.50\n",
            "Estimated Total Size (MB): 82.58\n",
            "----------------------------------------------------------------\n",
            "None\n",
            "\n",
            "CIFAR CNN SUMMARY\n",
            "----------------------------------------------------------------\n",
            "        Layer (type)               Output Shape         Param #\n",
            "================================================================\n",
            "            Conv2d-1           [-1, 32, 32, 32]             896\n",
            "       BatchNorm2d-2           [-1, 32, 32, 32]              64\n",
            "              ReLU-3           [-1, 32, 32, 32]               0\n",
            "            Conv2d-4           [-1, 64, 32, 32]          18,496\n",
            "              ReLU-5           [-1, 64, 32, 32]               0\n",
            "         MaxPool2d-6           [-1, 64, 16, 16]               0\n",
            "            Conv2d-7          [-1, 128, 16, 16]          73,856\n",
            "       BatchNorm2d-8          [-1, 128, 16, 16]             256\n",
            "              ReLU-9          [-1, 128, 16, 16]               0\n",
            "           Conv2d-10          [-1, 128, 16, 16]         147,584\n",
            "             ReLU-11          [-1, 128, 16, 16]               0\n",
            "        MaxPool2d-12            [-1, 128, 8, 8]               0\n",
            "        Dropout2d-13            [-1, 128, 8, 8]               0\n",
            "           Conv2d-14            [-1, 256, 8, 8]         295,168\n",
            "      BatchNorm2d-15            [-1, 256, 8, 8]             512\n",
            "             ReLU-16            [-1, 256, 8, 8]               0\n",
            "           Conv2d-17            [-1, 256, 8, 8]         590,080\n",
            "             ReLU-18            [-1, 256, 8, 8]               0\n",
            "        MaxPool2d-19            [-1, 256, 4, 4]               0\n",
            "          Dropout-20                 [-1, 4096]               0\n",
            "           Linear-21                 [-1, 1024]       4,195,328\n",
            "             ReLU-22                 [-1, 1024]               0\n",
            "           Linear-23                  [-1, 512]         524,800\n",
            "             ReLU-24                  [-1, 512]               0\n",
            "          Dropout-25                  [-1, 512]               0\n",
            "           Linear-26                   [-1, 10]           5,130\n",
            "================================================================\n",
            "Total params: 5,852,170\n",
            "Trainable params: 5,852,170\n",
            "Non-trainable params: 0\n",
            "----------------------------------------------------------------\n",
            "Input size (MB): 0.01\n",
            "Forward/backward pass size (MB): 3.96\n",
            "Params size (MB): 22.32\n",
            "Estimated Total Size (MB): 26.30\n",
            "----------------------------------------------------------------\n",
            "None\n"
          ],
          "name": "stdout"
        }
      ]
    },
    {
      "cell_type": "markdown",
      "metadata": {
        "id": "gf_8XEXa-gZ7"
      },
      "source": [
        "## q Federated Averaging"
      ]
    },
    {
      "cell_type": "markdown",
      "metadata": {
        "id": "L-aNdQsQ-Kvp"
      },
      "source": [
        "### Local Training (Client Update)\n",
        "\n",
        "Local training for the model on client side"
      ]
    },
    {
      "cell_type": "code",
      "metadata": {
        "id": "oX6OsQyO-Gz7"
      },
      "source": [
        "class CustomDataset(Dataset):\n",
        "  def __init__(self, dataset, idxs):\n",
        "      self.dataset = dataset\n",
        "      self.idxs = list(idxs)\n",
        "\n",
        "  def __len__(self):\n",
        "      return len(self.idxs)\n",
        "\n",
        "  def __getitem__(self, item):\n",
        "      image, label = self.dataset[self.idxs[item]]\n",
        "      return image, label\n",
        "\n",
        "\n",
        "class ClientUpdate(object):\n",
        "  def __init__(self, dataset, batch_size, learning_rate, epochs, idxs, q=None):\n",
        "    if hasattr(dataset, 'dataloader'):\n",
        "        self.train_loader = dataset.dataloader(batch_size=batch_size, shuffle=True)\n",
        "    else:\n",
        "        self.train_loader = DataLoader(CustomDataset(dataset, idxs), batch_size=batch_size, shuffle=True)\n",
        "\n",
        "    self.learning_rate = learning_rate\n",
        "    self.epochs = epochs\n",
        "    self.q = q\n",
        "    if not self.q:\n",
        "        # TODO: Client itself adjust fairness \n",
        "        pass\n",
        "    self.mu = 1e-10\n",
        "\n",
        "  def train(self, model):\n",
        "    criterion = nn.CrossEntropyLoss()\n",
        "    optimizer = torch.optim.SGD(model.parameters(), lr=self.learning_rate, momentum=0.5)\n",
        "\n",
        "    e_loss = []\n",
        "\n",
        "    model_weights = copy.deepcopy(model.state_dict())\n",
        "    for epoch in range(1, self.epochs+1):\n",
        "\n",
        "      train_loss = 0.0\n",
        "\n",
        "      model.train()\n",
        "      # for data, labels in tqdm(self.train_loader):\n",
        "      for data, labels in self.train_loader:\n",
        "\n",
        "        if torch.cuda.is_available():\n",
        "          data, labels = data.cuda(), labels.cuda()\n",
        "\n",
        "        # clear the gradients\n",
        "        optimizer.zero_grad()\n",
        "        # make a forward pass\n",
        "        output = model(data)\n",
        "        # calculate the loss\n",
        "        loss = criterion(output, labels)\n",
        "        # do a backwards pass\n",
        "        loss.backward()\n",
        "        # perform a single optimization step\n",
        "        optimizer.step()\n",
        "        # update training loss\n",
        "        train_loss += loss.item()*data.size(0)\n",
        "\n",
        "      # average losses\n",
        "      train_loss = train_loss/len(self.train_loader.dataset)\n",
        "      e_loss.append(train_loss)\n",
        "\n",
        "\n",
        "    total_loss = sum(e_loss)/len(e_loss)\n",
        "\n",
        "    # delta weights\n",
        "    model_weights_new = copy.deepcopy(model.state_dict())\n",
        "    L = 1.0 / self.learning_rate\n",
        "\n",
        "    delta_weights, delta, h = {}, {}, {}\n",
        "    loss_q = np.float_power(total_loss + self.mu, self.q)\n",
        "    # updating the global weights\n",
        "    for k in model_weights_new.keys():\n",
        "      delta_weights[k] = (model_weights[k] - model_weights_new[k]) * L\n",
        "      delta[k] =  loss_q * delta_weights[k]\n",
        "      # Estimation of the local Lipchitz constant\n",
        "      h[k] = (self.q * np.float_power(total_loss + self.mu, self.q - 1) * torch.pow(torch.norm(delta_weights[k]), 2)) + (L * loss_q)\n",
        "\n",
        "    return delta, h, total_loss"
      ],
      "execution_count": 50,
      "outputs": []
    },
    {
      "cell_type": "markdown",
      "metadata": {
        "id": "Ukgh1DVHE2Ds"
      },
      "source": [
        "### Server Side Training\n",
        "\n",
        "Following Algorithm 1 from the paper"
      ]
    },
    {
      "cell_type": "code",
      "metadata": {
        "id": "17y4Gxq0dBuN"
      },
      "source": [
        "def client_sampling(n, m, weights=None, with_replace=False):\n",
        "    pk = None\n",
        "    if weights:\n",
        "        total_weights = np.sum(np.asarray(weights))\n",
        "        pk = [w * 1.0 / total_weights for w in weights]\n",
        "\n",
        "    return np.random.choice(range(n), m, replace=with_replace, p=pk)"
      ],
      "execution_count": 51,
      "outputs": []
    },
    {
      "cell_type": "code",
      "metadata": {
        "id": "1NF1e33BgpeL"
      },
      "source": [
        "def training(model, rounds, batch_size, lr, ds, ds_test, data_dict, C, K, E, q, sampling, plt_title, plt_color):\n",
        "  \"\"\"\n",
        "  Function implements the Federated Averaging Algorithm from the FedAvg paper.\n",
        "  Specifically, this function is used for the server side training and weight update\n",
        "\n",
        "  Params:\n",
        "    - model:           PyTorch model to train\n",
        "    - rounds:          Number of communication rounds for the client update\n",
        "    - batch_size:      Batch size for client update training\n",
        "    - lr:              Learning rate used for client update training\n",
        "    - ds:              Dataset used for training\n",
        "    - ds_test:         Dataset used for testing\n",
        "    - data_dict:       Type of data partition used for training (IID or non-IID)\n",
        "    - C:               Fraction of clients randomly chosen to perform computation on each round\n",
        "    - K:               Total number of clients\n",
        "    - E:               Number of training passes each client makes over its local dataset per round\n",
        "    - tb_writer_name:  Directory name to save the tensorboard logs\n",
        "  Returns:\n",
        "    - model:           Trained model on the server\n",
        "  \"\"\"\n",
        "\n",
        "  # global model weights\n",
        "  global_weights = model.state_dict()\n",
        "\n",
        "  # training loss\n",
        "  # train_accuracy = []\n",
        "  train_loss = []\n",
        "  test_accuracy = []\n",
        "  test_loss = []\n",
        "  f1_macro = []\n",
        "  f1_weighted = []\n",
        "\n",
        "  # client weights by total samples\n",
        "  p_k = None\n",
        "  if sampling == 'weighted':\n",
        "    p_k = [len(data_dict[c]) for c in data_dict] if ds else [len(data_dict[c]['train_ds']) for c in data_dict]\n",
        "\n",
        "  # Time log\n",
        "  start_time = time.time()\n",
        "\n",
        "  users_id = list(data_dict.keys())\n",
        "\n",
        "  for curr_round in range(1, rounds+1):\n",
        "    deltas, hs, local_loss = [], [], []\n",
        "\n",
        "    m = max(int(C*K), 1)    \n",
        "    S_t = client_sampling(K, m, weights=p_k, with_replace=False)\n",
        "\n",
        "    print('Round: {} Picking {}/{} clients: {}'.format(curr_round, m, K, S_t))\n",
        "\n",
        "    global_weights = model.state_dict()\n",
        "\n",
        "    for k in range(len(S_t)):\n",
        "      key = users_id[k]\n",
        "      ds_ = ds if ds else data_dict[key]['train_ds']\n",
        "      idxs = data_dict[key] if ds else None\n",
        "      local_update = ClientUpdate(dataset=ds_, batch_size=batch_size, learning_rate=lr, epochs=E, idxs=idxs, q=q)\n",
        "      delta_k, h_k, loss = local_update.train(model=copy.deepcopy(model))\n",
        "\n",
        "      deltas.append(copy.deepcopy(delta_k))\n",
        "      hs.append(copy.deepcopy(h_k))\n",
        "      local_loss.append(copy.deepcopy(loss))\n",
        "\n",
        "    # Perform qFedAvg\n",
        "    h_sum = copy.deepcopy(hs[0])\n",
        "    delta_sum = copy.deepcopy(deltas[0])\n",
        "    \n",
        "    for k in h_sum.keys():\n",
        "        for i in range(1, len(hs)):\n",
        "            h_sum[k] += hs[i][k]\n",
        "            delta_sum[k] += deltas[i][k]\n",
        "\n",
        "    new_weights = {}\n",
        "    for k in delta_sum.keys():\n",
        "        for i in range(len(deltas)):\n",
        "            new_weights[k] = delta_sum[k] / h_sum[k]\n",
        "\n",
        "    # Updating global model weights\n",
        "    for k in global_weights.keys():\n",
        "        if 'num_batches_tracked' in k:\n",
        "            continue\n",
        "        global_weights[k] -= new_weights[k]\n",
        "\n",
        "    # move the updated weights to our model state dict\n",
        "    model.load_state_dict(global_weights)\n",
        "\n",
        "    # loss\n",
        "    loss_avg = sum(local_loss) / len(local_loss)\n",
        "    print('Round: {}... \\tAverage Loss: {}'.format(curr_round, round(loss_avg, 3)))\n",
        "    train_loss.append(loss_avg)\n",
        "\n",
        "    # test\n",
        "    test_criterion = nn.CrossEntropyLoss()\n",
        "    test_accuracy_current, test_loss_current, f1_macro_current, f1_weighted_current =  testing(copy.deepcopy(model), ds_test, 128, test_criterion, num_classes, classes_test)\n",
        "    test_accuracy.append(test_accuracy_current)\n",
        "    test_loss.append(test_loss_current)\n",
        "    f1_macro.append(f1_macro_current)\n",
        "    f1_weighted.append(f1_weighted_current)\n",
        "\n",
        "  end_time = time.time()\n",
        "  \n",
        "  fig, ax = plt.subplots()\n",
        "  x_axis = np.arange(1, rounds+1)\n",
        "  y_axis = np.array(train_loss)\n",
        "  ax.plot(x_axis, y_axis, 'tab:'+plt_color)\n",
        "\n",
        "  ax.set(xlabel='Number of Rounds', ylabel='Train Loss',\n",
        "       title=plt_title)\n",
        "  ax.grid()\n",
        "  fig.savefig(plt_title+'_Train_loss.jpg', format='jpg')\n",
        "  plt.show()\n",
        "\n",
        "  fig, ax = plt.subplots()\n",
        "  x_axis = np.arange(1, rounds+1)\n",
        "  y_axis = np.array(test_loss)\n",
        "  ax.plot(x_axis, y_axis, 'tab:'+plt_color)\n",
        "\n",
        "  ax.set(xlabel='Number of Rounds', ylabel='Test Loss',\n",
        "       title=plt_title)\n",
        "  ax.grid()\n",
        "  fig.savefig(plt_title+'_Test_loss.jpg', format='jpg')\n",
        "  plt.show()\n",
        "\n",
        "  fig, ax = plt.subplots()\n",
        "  x_axis = np.arange(1, rounds+1)\n",
        "  y_axis = np.array(test_accuracy)\n",
        "  ax.plot(x_axis, y_axis, 'tab:'+plt_color)\n",
        "\n",
        "  ax.set(xlabel='Number of Rounds', ylabel='Test Accuracy',\n",
        "       title=plt_title)\n",
        "  ax.grid()\n",
        "  fig.savefig(plt_title+'_Test_Accuracy.jpg', format='jpg')\n",
        "  plt.show()\n",
        "\n",
        "  fig, ax = plt.subplots()\n",
        "  x_axis = np.arange(1, rounds+1)\n",
        "  y_axis = np.array(f1_macro)\n",
        "  ax.plot(x_axis, y_axis, 'tab:'+plt_color)\n",
        "\n",
        "  ax.set(xlabel='Number of Rounds', ylabel='F1 Macro',\n",
        "       title=plt_title)\n",
        "  ax.grid()\n",
        "  fig.savefig(plt_title+'_F1_Marco.jpg', format='jpg')\n",
        "  plt.show()\n",
        "\n",
        "  fig, ax = plt.subplots()\n",
        "  x_axis = np.arange(1, rounds+1)\n",
        "  y_axis = np.array(f1_weighted)\n",
        "  ax.plot(x_axis, y_axis, 'tab:'+plt_color)\n",
        "\n",
        "  ax.set(xlabel='Number of Rounds', ylabel='F1 Weighted',\n",
        "       title=plt_title)\n",
        "  ax.grid()\n",
        "  fig.savefig(plt_title+'_F1_Weighted.jpg', format='jpg')\n",
        "  plt.show()\n",
        "\n",
        "  print(\"Training Done!\")\n",
        "  print(\"Total time taken to Train: {}\\n\\n\".format(end_time-start_time))\n",
        "  \n",
        "  return model, train_loss, test_accuracy, test_loss, f1_macro, f1_weighted"
      ],
      "execution_count": 52,
      "outputs": []
    },
    {
      "cell_type": "markdown",
      "metadata": {
        "id": "tUYyb4T-uXmF"
      },
      "source": [
        "## Testing Loop"
      ]
    },
    {
      "cell_type": "code",
      "metadata": {
        "id": "uCcIZmO5uan9"
      },
      "source": [
        "def testing(model, dataset, bs, criterion, num_classes, classes, print_info=False):\n",
        "  #test loss \n",
        "  test_loss = 0.0\n",
        "  y_true, y_hat = None, None\n",
        "\n",
        "  correct_class = list(0 for i in range(num_classes))\n",
        "  total_class = list(0 for i in range(num_classes))\n",
        "\n",
        "  if hasattr(dataset, 'dataloader'):\n",
        "    test_loader = dataset.dataloader(batch_size=bs, shuffle=False)\n",
        "  else:\n",
        "    test_loader = DataLoader(dataset, batch_size=bs, shuffle=False)\n",
        "\n",
        "  l = len(test_loader)\n",
        "\n",
        "  model.eval()\n",
        "  for i, (data, labels) in enumerate(test_loader):\n",
        "\n",
        "    if torch.cuda.is_available():\n",
        "      data, labels = data.cuda(), labels.cuda()\n",
        "\n",
        "    output = model(data)\n",
        "    loss = criterion(output, labels)\n",
        "    test_loss += loss.item()*data.size(0)\n",
        "\n",
        "    _, pred = torch.max(output, dim=1)\n",
        "\n",
        "    # For F1Score\n",
        "    y_true = np.append(y_true, labels.data.view_as(pred).cpu().numpy()) if i != 0 else labels.data.view_as(pred).cpu().numpy()\n",
        "    y_hat = np.append(y_hat, pred.cpu().numpy()) if i != 0 else pred.cpu().numpy()\n",
        "\n",
        "    correct_tensor = pred.eq(labels.data.view_as(pred))\n",
        "    correct = np.squeeze(correct_tensor.numpy()) if not torch.cuda.is_available() else np.squeeze(correct_tensor.cpu().numpy())\n",
        "\n",
        "    for i, lbl in enumerate(labels.data):\n",
        "      try:\n",
        "        correct_class[lbl.item()] += correct[i]\n",
        "        total_class[lbl.item()] += 1\n",
        "      except:\n",
        "          print('Error', lbl, i)\n",
        "    \n",
        "  # avg test loss\n",
        "  test_loss = test_loss/len(test_loader.dataset)\n",
        "  test_accuracy = 100. * np.sum(correct_class) / np.sum(total_class)\n",
        "  # Avg F1 Score\n",
        "  f1_macro = f1_score(y_true, y_hat, average='macro')\n",
        "  # F1-Score -> weigthed to consider class imbalance\n",
        "  f1_weighted =  f1_score(y_true, y_hat, average='weighted')\n",
        "\n",
        "  if print_info:\n",
        "    print(\"Test Loss: {:.6f}\\n\".format(test_loss))\n",
        "\n",
        "    for i in range(10):\n",
        "      if total_class[i]>0:\n",
        "        print('Test Accuracy of %5s: %2d%% (%2d/%2d)' % \n",
        "              (classes[i], 100 * correct_class[i] / total_class[i],\n",
        "              np.sum(correct_class[i]), np.sum(total_class[i])))\n",
        "      else:\n",
        "        print('Test Accuracy of %5s: N/A (no training examples)' % (classes[i]))\n",
        "\n",
        "    print('\\nFinal Test  Accuracy: {:.3f} ({}/{})'.format(\n",
        "          100. * np.sum(correct_class) / np.sum(total_class),\n",
        "          np.sum(correct_class), np.sum(total_class)))\n",
        "\n",
        "    print(\"F1 Score: {:.6f} (macro) {:.6f} (weighted) %\\n\".format(f1_macro, f1_weighted))\n",
        "  \n",
        "  return test_accuracy, test_loss, f1_macro, f1_weighted"
      ],
      "execution_count": 53,
      "outputs": []
    },
    {
      "cell_type": "markdown",
      "metadata": {
        "id": "Ri0FqXFeHW-V"
      },
      "source": [
        "## Logger"
      ]
    },
    {
      "cell_type": "code",
      "metadata": {
        "id": "cMBtx9P5c1V_"
      },
      "source": [
        "log_dict = {}\n",
        "NUM_REPEAT = 1"
      ],
      "execution_count": 54,
      "outputs": []
    },
    {
      "cell_type": "markdown",
      "metadata": {
        "id": "4hO5oV6aXqeh"
      },
      "source": [
        "## CIFAR CNN on IID"
      ]
    },
    {
      "cell_type": "markdown",
      "metadata": {
        "id": "flSQv_P4zCfx"
      },
      "source": [
        "### Train\n"
      ]
    },
    {
      "cell_type": "code",
      "metadata": {
        "colab": {
          "base_uri": "https://localhost:8080/",
          "height": 1000
        },
        "id": "0ZalcKZtEseA",
        "outputId": "377b3ca8-169e-48eb-b391-7b2f375a599f"
      },
      "source": [
        "train_loss_multiple_runs = [None] * NUM_REPEAT\n",
        "test_accuracy_multiple_runs = [None] * NUM_REPEAT\n",
        "test_loss_multiple_runs = [None] * NUM_REPEAT\n",
        "f1_macro_multiple_runs = [None] * NUM_REPEAT\n",
        "f1_weighted_multiple_runs = [None] * NUM_REPEAT\n",
        "\n",
        "for exp_num in range(NUM_REPEAT):\n",
        "  print(\"Experiment Run Number: \", exp_num)\n",
        "\n",
        "  # number of training rounds\n",
        "  rounds = 50\n",
        "  # client fraction\n",
        "  C = 0.1\n",
        "  # number of clients\n",
        "  K = 50\n",
        "  # number of training passes on local dataset for each roung\n",
        "  E = 5\n",
        "  # batch size\n",
        "  batch_size = 10\n",
        "  # learning Rate\n",
        "  lr=0.05\n",
        "  # fairness\n",
        "  q = 0.001\n",
        "  # sampling\n",
        "  # sampling = 'uniform'\n",
        "  sampling = 'weighted'\n",
        "  \n",
        "  # data partition dictionary\n",
        "  iid_dict = iid_partition(cifar_data_train, 50)\n",
        "  # load model\n",
        "  cifar_cnn = CIFAR_CNN()\n",
        "\n",
        "  if torch.cuda.is_available():\n",
        "    cifar_cnn.cuda()\n",
        "\n",
        "  cifar_cnn_iid_trained, train_loss, test_accuracy, test_loss, f1_macro, f1_weighted = training(cifar_cnn, rounds, batch_size, lr, cifar_data_train, cifar_data_test, iid_dict, C, K, E, q, sampling, \"CIFAR CNN on IID Dataset\", \"orange\")\n",
        "\n",
        "  train_loss_multiple_runs[exp_num] = train_loss\n",
        "  test_accuracy_multiple_runs[exp_num] = test_accuracy\n",
        "  test_loss_multiple_runs[exp_num] = test_loss\n",
        "  f1_macro_multiple_runs[exp_num] = f1_macro\n",
        "  f1_weighted_multiple_runs[exp_num] = f1_weighted\n",
        "    \n",
        "  del cifar_cnn_iid_trained\n",
        "  torch.cuda.empty_cache()"
      ],
      "execution_count": 55,
      "outputs": [
        {
          "output_type": "stream",
          "text": [
            "Experiment Run Number:  0\n",
            "Round: 1 Picking 5/50 clients: [32 16 24  0 46]\n",
            "Round: 1... \tAverage Loss: 2.062\n",
            "Round: 2 Picking 5/50 clients: [20 23 41 30 49]\n",
            "Round: 2... \tAverage Loss: 1.915\n",
            "Round: 3 Picking 5/50 clients: [ 1 35 47  6 39]\n",
            "Round: 3... \tAverage Loss: 1.779\n",
            "Round: 4 Picking 5/50 clients: [ 5 27  9  1 23]\n",
            "Round: 4... \tAverage Loss: 1.648\n",
            "Round: 5 Picking 5/50 clients: [ 0 41 18 10 19]\n",
            "Round: 5... \tAverage Loss: 1.552\n",
            "Round: 6 Picking 5/50 clients: [41 20  6 23 24]\n",
            "Round: 6... \tAverage Loss: 1.455\n",
            "Round: 7 Picking 5/50 clients: [15 12 32 25 34]\n",
            "Round: 7... \tAverage Loss: 1.36\n",
            "Round: 8 Picking 5/50 clients: [44 23 18 48 32]\n",
            "Round: 8... \tAverage Loss: 1.274\n",
            "Round: 9 Picking 5/50 clients: [45 49 43 14 40]\n",
            "Round: 9... \tAverage Loss: 1.186\n",
            "Round: 10 Picking 5/50 clients: [15 40 33 21 17]\n",
            "Round: 10... \tAverage Loss: 1.106\n",
            "Round: 11 Picking 5/50 clients: [33  7 49  3 39]\n",
            "Round: 11... \tAverage Loss: 1.03\n",
            "Round: 12 Picking 5/50 clients: [45 37 40 10 38]\n",
            "Round: 12... \tAverage Loss: 0.962\n",
            "Round: 13 Picking 5/50 clients: [48 23  7  6 36]\n",
            "Round: 13... \tAverage Loss: 0.904\n",
            "Round: 14 Picking 5/50 clients: [34  7 44 45  6]\n",
            "Round: 14... \tAverage Loss: 0.838\n",
            "Round: 15 Picking 5/50 clients: [46 25 35 47 10]\n",
            "Round: 15... \tAverage Loss: 0.789\n",
            "Round: 16 Picking 5/50 clients: [ 6 39 45 16 24]\n",
            "Round: 16... \tAverage Loss: 0.735\n",
            "Round: 17 Picking 5/50 clients: [17 14 41 38 24]\n",
            "Round: 17... \tAverage Loss: 0.687\n",
            "Round: 18 Picking 5/50 clients: [34 48 39 42 46]\n",
            "Round: 18... \tAverage Loss: 0.651\n",
            "Round: 19 Picking 5/50 clients: [42 15 45 31 39]\n",
            "Round: 19... \tAverage Loss: 0.608\n",
            "Round: 20 Picking 5/50 clients: [ 4  7  3 43 10]\n",
            "Round: 20... \tAverage Loss: 0.583\n",
            "Round: 21 Picking 5/50 clients: [46 21  0 10 15]\n",
            "Round: 21... \tAverage Loss: 0.539\n",
            "Round: 22 Picking 5/50 clients: [33 27 48 20 17]\n",
            "Round: 22... \tAverage Loss: 0.513\n",
            "Round: 23 Picking 5/50 clients: [ 3 14 23 40 19]\n",
            "Round: 23... \tAverage Loss: 0.484\n",
            "Round: 24 Picking 5/50 clients: [18 14 43 32 38]\n",
            "Round: 24... \tAverage Loss: 0.466\n",
            "Round: 25 Picking 5/50 clients: [16 18 41 23 21]\n",
            "Round: 25... \tAverage Loss: 0.44\n",
            "Round: 26 Picking 5/50 clients: [27 32 22 37 41]\n",
            "Round: 26... \tAverage Loss: 0.406\n",
            "Round: 27 Picking 5/50 clients: [ 2 23 45 37 21]\n",
            "Round: 27... \tAverage Loss: 0.394\n",
            "Round: 28 Picking 5/50 clients: [32  3 43  8 36]\n",
            "Round: 28... \tAverage Loss: 0.375\n",
            "Round: 29 Picking 5/50 clients: [37 10 35 12  4]\n",
            "Round: 29... \tAverage Loss: 0.357\n",
            "Round: 30 Picking 5/50 clients: [26 24 19 33 49]\n",
            "Round: 30... \tAverage Loss: 0.346\n",
            "Round: 31 Picking 5/50 clients: [49 36 29 14 11]\n",
            "Round: 31... \tAverage Loss: 0.332\n",
            "Round: 32 Picking 5/50 clients: [11 38 47  4 19]\n",
            "Round: 32... \tAverage Loss: 0.322\n",
            "Round: 33 Picking 5/50 clients: [17 28 18  4 39]\n",
            "Round: 33... \tAverage Loss: 0.296\n",
            "Round: 34 Picking 5/50 clients: [26  3 48 17 22]\n",
            "Round: 34... \tAverage Loss: 0.297\n",
            "Round: 35 Picking 5/50 clients: [11 15 28 49 31]\n",
            "Round: 35... \tAverage Loss: 0.271\n",
            "Round: 36 Picking 5/50 clients: [15 11  2  0 30]\n",
            "Round: 36... \tAverage Loss: 0.268\n",
            "Round: 37 Picking 5/50 clients: [28 10 33 31 27]\n",
            "Round: 37... \tAverage Loss: 0.249\n",
            "Round: 38 Picking 5/50 clients: [27  5 12 25  4]\n",
            "Round: 38... \tAverage Loss: 0.254\n",
            "Round: 39 Picking 5/50 clients: [43 23 17 38 16]\n",
            "Round: 39... \tAverage Loss: 0.257\n",
            "Round: 40 Picking 5/50 clients: [12 49 16 44 23]\n",
            "Round: 40... \tAverage Loss: 0.231\n",
            "Round: 41 Picking 5/50 clients: [30 31 23 32 20]\n",
            "Round: 41... \tAverage Loss: 0.236\n",
            "Round: 42 Picking 5/50 clients: [ 9 19  3 35  8]\n",
            "Round: 42... \tAverage Loss: 0.223\n",
            "Round: 43 Picking 5/50 clients: [19 40 29 33 30]\n",
            "Round: 43... \tAverage Loss: 0.199\n",
            "Round: 44 Picking 5/50 clients: [18 42 21 29  7]\n",
            "Round: 44... \tAverage Loss: 0.208\n",
            "Round: 45 Picking 5/50 clients: [33 48  4 15 14]\n",
            "Round: 45... \tAverage Loss: 0.186\n",
            "Round: 46 Picking 5/50 clients: [34 19  4 33  7]\n",
            "Round: 46... \tAverage Loss: 0.189\n",
            "Round: 47 Picking 5/50 clients: [ 6 29 10  3 48]\n",
            "Round: 47... \tAverage Loss: 0.179\n",
            "Round: 48 Picking 5/50 clients: [ 9 25 49 10 45]\n",
            "Round: 48... \tAverage Loss: 0.179\n",
            "Round: 49 Picking 5/50 clients: [20 48 39 30 44]\n",
            "Round: 49... \tAverage Loss: 0.166\n",
            "Round: 50 Picking 5/50 clients: [39 47  1 25 18]\n",
            "Round: 50... \tAverage Loss: 0.167\n"
          ],
          "name": "stdout"
        },
        {
          "output_type": "display_data",
          "data": {
            "image/png": "[encoded data removed]",
            "text/plain": [
              "<Figure size 432x288 with 1 Axes>"
            ]
          },
          "metadata": {
            "tags": [],
            "needs_background": "light"
          }
        },
        {
          "output_type": "display_data",
          "data": {
            "image/png": "[encoded data removed]",
            "text/plain": [
              "<Figure size 432x288 with 1 Axes>"
            ]
          },
          "metadata": {
            "tags": [],
            "needs_background": "light"
          }
        },
        {
          "output_type": "display_data",
          "data": {
            "image/png": "[encoded data removed]",
            "text/plain": [
              "<Figure size 432x288 with 1 Axes>"
            ]
          },
          "metadata": {
            "tags": [],
            "needs_background": "light"
          }
        },
        {
          "output_type": "display_data",
          "data": {
            "image/png": "[encoded data removed]",
            "text/plain": [
              "<Figure size 432x288 with 1 Axes>"
            ]
          },
          "metadata": {
            "tags": [],
            "needs_background": "light"
          }
        },
        {
          "output_type": "display_data",
          "data": {
            "image/png": "[encoded data removed]",
            "text/plain": [
              "<Figure size 432x288 with 1 Axes>"
            ]
          },
          "metadata": {
            "tags": [],
            "needs_background": "light"
          }
        },
        {
          "output_type": "stream",
          "text": [
            "Training Done!\n",
            "Total time taken to Train: 1186.3058743476868\n",
            "\n",
            "\n"
          ],
          "name": "stdout"
        }
      ]
    },
    {
      "cell_type": "markdown",
      "metadata": {
        "id": "wNwC82przF6G"
      },
      "source": [
        "### Test"
      ]
    },
    {
      "cell_type": "code",
      "metadata": {
        "id": "qB97BFs9we9w"
      },
      "source": [
        "criterion = nn.CrossEntropyLoss()\n",
        "acc, loss, f1_macro, f1_weighted = testing(cifar_cnn_iid_trained, cifar_data_test, 128, criterion, num_classes, classes_test, True)"
      ],
      "execution_count": 56,
      "outputs": []
    },
    {
      "cell_type": "code",
      "metadata": {
        "id": "gdQZEZmHHeqt"
      },
      "source": [
        "hyperparams = {'rounds': rounds,\n",
        "               'C': C,\n",
        "               'K': K,\n",
        "               'E': E,\n",
        "               'batch_size': batch_size,\n",
        "               'lr': lr,\n",
        "               'q': q,\n",
        "               'sampling': sampling\n",
        "               }\n",
        "\n",
        "log_dict['CIFAR CNN on IID'] = {'train_loss': train_loss_multiple_runs, \n",
        "                                'test_loss': test_loss_multiple_runs, \n",
        "                                'test_accuracy': test_accuracy_multiple_runs,\n",
        "                                'f1_macro': f1_macro_multiple_runs,\n",
        "                                'f1_weighted': f1_weighted_multiple_runs,\n",
        "                                'hyperparams': hyperparams,\n",
        "                                }"
      ],
      "execution_count": 57,
      "outputs": []
    },
    {
      "cell_type": "markdown",
      "metadata": {
        "id": "uF8MdSIUYcnl"
      },
      "source": [
        "## CIFAR CNN on Non IID"
      ]
    },
    {
      "cell_type": "markdown",
      "metadata": {
        "id": "a6wXX7JW11bx"
      },
      "source": [
        "### Train\n"
      ]
    },
    {
      "cell_type": "code",
      "metadata": {
        "id": "fCD3kBCKYfBK",
        "colab": {
          "base_uri": "https://localhost:8080/",
          "height": 1000
        },
        "outputId": "f6a3150c-7bba-40b2-ca69-492c5187c1b0"
      },
      "source": [
        "train_loss_multiple_runs = [None] * NUM_REPEAT\n",
        "test_accuracy_multiple_runs = [None] * NUM_REPEAT\n",
        "test_loss_multiple_runs = [None] * NUM_REPEAT\n",
        "f1_macro_multiple_runs = [None] * NUM_REPEAT\n",
        "f1_weighted_multiple_runs = [None] * NUM_REPEAT\n",
        "\n",
        "for exp_num in range(NUM_REPEAT):\n",
        "  print(\"Experiment Run Number: \", exp_num)\n",
        "\n",
        "  # number of training rounds\n",
        "  rounds = 50\n",
        "  # client fraction\n",
        "  C = 0.1\n",
        "  # number of clients\n",
        "  K = 50\n",
        "  # number of training passes on local dataset for each roung\n",
        "  E = 5\n",
        "  # batch size\n",
        "  batch_size = 10\n",
        "  # learning Rate\n",
        "  lr=0.05\n",
        "  # fairness\n",
        "  q = 0.001\n",
        "  # sampling\n",
        "  # sampling = 'uniform'\n",
        "  sampling = 'weighted'\n",
        "  \n",
        "  # dict containing different type of data partition\n",
        "  data_dict = non_iid_partition(cifar_data_train, 50, 100, 500, 2)\n",
        "  # load model\n",
        "  cifar_cnn = CIFAR_CNN()\n",
        "\n",
        "  if torch.cuda.is_available():\n",
        "    cifar_cnn.cuda()\n",
        " \n",
        "  cifar_cnn_non_iid_trained, train_loss, test_accuracy, test_loss, f1_macro, f1_weighted = training(cifar_cnn, rounds, batch_size, lr, cifar_data_train, cifar_data_test, data_dict, C, K, E, q, sampling, \"CIFAR CNN on Non-IID Dataset\", \"green\")\n",
        "\n",
        "  train_loss_multiple_runs[exp_num] = train_loss\n",
        "  test_accuracy_multiple_runs[exp_num] = test_accuracy\n",
        "  test_loss_multiple_runs[exp_num] = test_loss\n",
        "  f1_macro_multiple_runs[exp_num] = f1_macro\n",
        "  f1_weighted_multiple_runs[exp_num] = f1_weighted\n",
        "\n",
        "  del cifar_cnn_non_iid_trained\n",
        "  torch.cuda.empty_cache()"
      ],
      "execution_count": 58,
      "outputs": [
        {
          "output_type": "stream",
          "text": [
            "Experiment Run Number:  0\n",
            "Round: 1 Picking 5/50 clients: [47  6 28  8 18]\n",
            "Round: 1... \tAverage Loss: 0.554\n",
            "Round: 2 Picking 5/50 clients: [13  5  7  1 10]\n",
            "Round: 2... \tAverage Loss: 0.46\n",
            "Round: 3 Picking 5/50 clients: [37 28 27  6 24]\n",
            "Round: 3... \tAverage Loss: 0.387\n",
            "Round: 4 Picking 5/50 clients: [28 19 36 21 40]\n",
            "Round: 4... \tAverage Loss: 0.346\n",
            "Round: 5 Picking 5/50 clients: [18 34  6 31  0]\n",
            "Round: 5... \tAverage Loss: 0.313\n",
            "Round: 6 Picking 5/50 clients: [49 23 22 12  4]\n",
            "Round: 6... \tAverage Loss: 0.28\n",
            "Round: 7 Picking 5/50 clients: [31 37 39 25  0]\n",
            "Round: 7... \tAverage Loss: 0.258\n",
            "Round: 8 Picking 5/50 clients: [13 33 38 23 44]\n",
            "Round: 8... \tAverage Loss: 0.243\n",
            "Round: 9 Picking 5/50 clients: [30 28 18 31  2]\n",
            "Round: 9... \tAverage Loss: 0.224\n",
            "Round: 10 Picking 5/50 clients: [ 7 13 44 34 49]\n",
            "Round: 10... \tAverage Loss: 0.211\n",
            "Round: 11 Picking 5/50 clients: [25 38 42 43 49]\n",
            "Round: 11... \tAverage Loss: 0.198\n",
            "Round: 12 Picking 5/50 clients: [17 35 48  1  0]\n",
            "Round: 12... \tAverage Loss: 0.185\n",
            "Round: 13 Picking 5/50 clients: [18  9 46 19  8]\n",
            "Round: 13... \tAverage Loss: 0.174\n",
            "Round: 14 Picking 5/50 clients: [30 25 10  5 20]\n",
            "Round: 14... \tAverage Loss: 0.167\n",
            "Round: 15 Picking 5/50 clients: [13 18 48  0 49]\n",
            "Round: 15... \tAverage Loss: 0.155\n",
            "Round: 16 Picking 5/50 clients: [46 20 14 18 32]\n",
            "Round: 16... \tAverage Loss: 0.153\n",
            "Round: 17 Picking 5/50 clients: [40 32 44 43 35]\n",
            "Round: 17... \tAverage Loss: 0.143\n",
            "Round: 18 Picking 5/50 clients: [48 14 25  0 17]\n",
            "Round: 18... \tAverage Loss: 0.139\n",
            "Round: 19 Picking 5/50 clients: [41 12 36 22  8]\n",
            "Round: 19... \tAverage Loss: 0.135\n",
            "Round: 20 Picking 5/50 clients: [47 16 17 33  8]\n",
            "Round: 20... \tAverage Loss: 0.125\n",
            "Round: 21 Picking 5/50 clients: [ 3  9 24 35  8]\n",
            "Round: 21... \tAverage Loss: 0.118\n",
            "Round: 22 Picking 5/50 clients: [12 11 31 43 13]\n",
            "Round: 22... \tAverage Loss: 0.113\n",
            "Round: 23 Picking 5/50 clients: [ 8 11 18 10 20]\n",
            "Round: 23... \tAverage Loss: 0.109\n",
            "Round: 24 Picking 5/50 clients: [19 18  8 38 20]\n",
            "Round: 24... \tAverage Loss: 0.103\n",
            "Round: 25 Picking 5/50 clients: [42 41 44 19 13]\n",
            "Round: 25... \tAverage Loss: 0.102\n",
            "Round: 26 Picking 5/50 clients: [ 6 20 30 40  2]\n",
            "Round: 26... \tAverage Loss: 0.097\n",
            "Round: 27 Picking 5/50 clients: [48  7 46 40 47]\n",
            "Round: 27... \tAverage Loss: 0.092\n",
            "Round: 28 Picking 5/50 clients: [14 41 29 21 44]\n",
            "Round: 28... \tAverage Loss: 0.09\n",
            "Round: 29 Picking 5/50 clients: [32 21 45 47 43]\n",
            "Round: 29... \tAverage Loss: 0.091\n",
            "Round: 30 Picking 5/50 clients: [43  6 42 38 36]\n",
            "Round: 30... \tAverage Loss: 0.085\n",
            "Round: 31 Picking 5/50 clients: [10  0 46 27  6]\n",
            "Round: 31... \tAverage Loss: 0.08\n",
            "Round: 32 Picking 5/50 clients: [ 8 23 41 22 10]\n",
            "Round: 32... \tAverage Loss: 0.077\n",
            "Round: 33 Picking 5/50 clients: [46 34 23 14 31]\n",
            "Round: 33... \tAverage Loss: 0.076\n",
            "Round: 34 Picking 5/50 clients: [ 3 37 23 24 43]\n",
            "Round: 34... \tAverage Loss: 0.072\n",
            "Round: 35 Picking 5/50 clients: [35  1  3 37 20]\n",
            "Round: 35... \tAverage Loss: 0.073\n",
            "Round: 36 Picking 5/50 clients: [24 23 34 15 44]\n",
            "Round: 36... \tAverage Loss: 0.068\n",
            "Round: 37 Picking 5/50 clients: [ 9 11 18 15 46]\n",
            "Round: 37... \tAverage Loss: 0.065\n",
            "Round: 38 Picking 5/50 clients: [ 8 45 24 41  7]\n",
            "Round: 38... \tAverage Loss: 0.068\n",
            "Round: 39 Picking 5/50 clients: [46 13 43 41 33]\n",
            "Round: 39... \tAverage Loss: 0.059\n",
            "Round: 40 Picking 5/50 clients: [ 0 30 28 46  2]\n",
            "Round: 40... \tAverage Loss: 0.063\n",
            "Round: 41 Picking 5/50 clients: [49 31  9  7 44]\n",
            "Round: 41... \tAverage Loss: 0.058\n",
            "Round: 42 Picking 5/50 clients: [ 2 11  4 14 47]\n",
            "Round: 42... \tAverage Loss: 0.057\n",
            "Round: 43 Picking 5/50 clients: [36 22 21 31  9]\n",
            "Round: 43... \tAverage Loss: 0.058\n",
            "Round: 44 Picking 5/50 clients: [26  7 12 35 28]\n",
            "Round: 44... \tAverage Loss: 0.049\n",
            "Round: 45 Picking 5/50 clients: [47  6 49 17 16]\n",
            "Round: 45... \tAverage Loss: 0.055\n",
            "Round: 46 Picking 5/50 clients: [35 36 46  8 42]\n",
            "Round: 46... \tAverage Loss: 0.052\n",
            "Round: 47 Picking 5/50 clients: [27 35 20  9 40]\n",
            "Round: 47... \tAverage Loss: 0.051\n",
            "Round: 48 Picking 5/50 clients: [26 22 25  5  3]\n",
            "Round: 48... \tAverage Loss: 0.049\n",
            "Round: 49 Picking 5/50 clients: [19 21  9 41 30]\n",
            "Round: 49... \tAverage Loss: 0.046\n",
            "Round: 50 Picking 5/50 clients: [36 42  5  9 35]\n",
            "Round: 50... \tAverage Loss: 0.05\n"
          ],
          "name": "stdout"
        },
        {
          "output_type": "display_data",
          "data": {
            "image/png": "[encoded data removed]",
            "text/plain": [
              "<Figure size 432x288 with 1 Axes>"
            ]
          },
          "metadata": {
            "tags": [],
            "needs_background": "light"
          }
        },
        {
          "output_type": "display_data",
          "data": {
            "image/png": "[encoded data removed]",
            "text/plain": [
              "<Figure size 432x288 with 1 Axes>"
            ]
          },
          "metadata": {
            "tags": [],
            "needs_background": "light"
          }
        },
        {
          "output_type": "display_data",
          "data": {
            "image/png": "[encoded data removed]",
            "text/plain": [
              "<Figure size 432x288 with 1 Axes>"
            ]
          },
          "metadata": {
            "tags": [],
            "needs_background": "light"
          }
        },
        {
          "output_type": "display_data",
          "data": {
            "image/png": "[encoded data removed]",
            "text/plain": [
              "<Figure size 432x288 with 1 Axes>"
            ]
          },
          "metadata": {
            "tags": [],
            "needs_background": "light"
          }
        },
        {
          "output_type": "display_data",
          "data": {
            "image/png": "[encoded data removed]",
            "text/plain": [
              "<Figure size 432x288 with 1 Axes>"
            ]
          },
          "metadata": {
            "tags": [],
            "needs_background": "light"
          }
        },
        {
          "output_type": "stream",
          "text": [
            "Training Done!\n",
            "Total time taken to Train: 1183.0832710266113\n",
            "\n",
            "\n"
          ],
          "name": "stdout"
        }
      ]
    },
    {
      "cell_type": "markdown",
      "metadata": {
        "id": "4C68J-Kk14dB"
      },
      "source": [
        "### Test"
      ]
    },
    {
      "cell_type": "code",
      "metadata": {
        "id": "_yQ9GiAZ15jE"
      },
      "source": [
        "# criterion = nn.CrossEntropyLoss()\n",
        "# acc, loss, f1_macro, f1_weighted = testing(cifar_cnn_non_iid_trained, cifar_data_test, 128, criterion, num_classes, classes_test, True)"
      ],
      "execution_count": 76,
      "outputs": []
    },
    {
      "cell_type": "code",
      "metadata": {
        "id": "dxMcxgLhLvX-"
      },
      "source": [
        "hyperparams = {'rounds': rounds,\n",
        "               'C': C,\n",
        "               'K': K,\n",
        "               'E': E,\n",
        "               'batch_size': batch_size,\n",
        "               'lr': lr,\n",
        "               'q': q,\n",
        "               'sampling': sampling\n",
        "               }\n",
        "\n",
        "log_dict['CIFAR CNN on Non IID'] = {'train_loss': train_loss_multiple_runs, \n",
        "                                'test_loss': test_loss_multiple_runs, \n",
        "                                'test_accuracy': test_accuracy_multiple_runs,\n",
        "                                'f1_macro': f1_macro_multiple_runs,\n",
        "                                'f1_weighted': f1_weighted_multiple_runs,\n",
        "                                'hyperparams': hyperparams,\n",
        "                                }"
      ],
      "execution_count": 77,
      "outputs": []
    },
    {
      "cell_type": "markdown",
      "metadata": {
        "id": "ptMieSimVxid"
      },
      "source": [
        "## CIFAR MLP on IID"
      ]
    },
    {
      "cell_type": "markdown",
      "metadata": {
        "id": "mz3f_fOxVxie"
      },
      "source": [
        "### Train"
      ]
    },
    {
      "cell_type": "code",
      "metadata": {
        "id": "5ZGAZPhtVxie"
      },
      "source": [
        "# train_loss_multiple_runs = [None] * NUM_REPEAT\n",
        "# test_accuracy_multiple_runs = [None] * NUM_REPEAT\n",
        "# test_loss_multiple_runs = [None] * NUM_REPEAT\n",
        "# f1_macro_multiple_runs = [None] * NUM_REPEAT\n",
        "# f1_weighted_multiple_runs = [None] * NUM_REPEAT\n",
        "\n",
        "# for exp_num in range(NUM_REPEAT):\n",
        "#   print(\"Experiment Run Number: \", exp_num)\n",
        "\n",
        "#   # number of training rounds\n",
        "#   rounds = 50\n",
        "#   # client fraction\n",
        "#   C = 0.1\n",
        "#   # number of clients\n",
        "#   K = 100\n",
        "#   # number of training passes on local dataset for each round\n",
        "#   E = 1\n",
        "#   # batch size\n",
        "#   batch_size = 10\n",
        "#   # learning Rate\n",
        "#   lr=0.05\n",
        "#   # fairness\n",
        "#   q = 0.001\n",
        "#   # sampling\n",
        "#   # sampling = 'uniform'\n",
        "#   sampling = 'weighted'\n",
        "  \n",
        "#   # dict containing different type of data partition\n",
        "#   data_dict = iid_partition(cifar_data_train, 100)\n",
        "#   # load model\n",
        "#   cifar_mlp = CIFAR_MLP()\n",
        "\n",
        "#   if torch.cuda.is_available():\n",
        "#     cifar_mlp.cuda()\n",
        "\n",
        "#   cifar_mlp_iid_trained, train_loss, test_accuracy, test_loss, f1_macro, f1_weighted = training(cifar_mlp, rounds, batch_size, lr, cifar_data_train, cifar_data_test, data_dict, C, K, E, q, sampling, \"CIFAR MLP on IID Dataset\", \"orange\")\n",
        "  \n",
        "#   train_loss_multiple_runs[exp_num] = train_loss\n",
        "#   test_accuracy_multiple_runs[exp_num] = test_accuracy\n",
        "#   test_loss_multiple_runs[exp_num] = test_loss\n",
        "#   f1_macro_multiple_runs[exp_num] = f1_macro\n",
        "#   f1_weighted_multiple_runs[exp_num] = f1_weighted\n",
        "\n",
        "#   del cifar_mlp_iid_trained\n",
        "#   torch.cuda.empty_cache()"
      ],
      "execution_count": 78,
      "outputs": []
    },
    {
      "cell_type": "markdown",
      "metadata": {
        "id": "aTBsL3-72PPd"
      },
      "source": [
        "### Test"
      ]
    },
    {
      "cell_type": "code",
      "metadata": {
        "id": "a9G4j5L62OrS"
      },
      "source": [
        "# criterion = nn.CrossEntropyLoss()\n",
        "# acc, loss, f1_macro, f1_weighted = testing(cifar_mlp_iid_trained, cifar_data_test, 128, criterion, num_classes, classes_test, True)"
      ],
      "execution_count": 79,
      "outputs": []
    },
    {
      "cell_type": "code",
      "metadata": {
        "id": "fWCdJFRCL_f2"
      },
      "source": [
        "# hyperparams = {'rounds': rounds,\n",
        "#                'C': C,\n",
        "#                'K': K,\n",
        "#                'E': E,\n",
        "#                'batch_size': batch_size,\n",
        "#                'lr': lr,\n",
        "#                'q': q,\n",
        "#                'sampling': sampling\n",
        "#                }\n",
        "\n",
        "# log_dict['CIFAR MLP on IID'] = {'train_loss': train_loss_multiple_runs, \n",
        "#                                 'test_loss': test_loss_multiple_runs, \n",
        "#                                 'test_accuracy': test_accuracy_multiple_runs,\n",
        "#                                 'f1_macro': f1_macro_multiple_runs,\n",
        "#                                 'f1_weighted': f1_weighted_multiple_runs,\n",
        "#                                 'hyperparams': hyperparams,\n",
        "#                                 }"
      ],
      "execution_count": 80,
      "outputs": []
    },
    {
      "cell_type": "markdown",
      "metadata": {
        "id": "J8jzEyO0iywz"
      },
      "source": [
        "## CIFAR MLP on Non IID"
      ]
    },
    {
      "cell_type": "markdown",
      "metadata": {
        "id": "pJFepr3y2bF-"
      },
      "source": [
        "### Train"
      ]
    },
    {
      "cell_type": "code",
      "metadata": {
        "id": "EBKO44Hgi1Uh"
      },
      "source": [
        "# train_loss_multiple_runs = [None] * NUM_REPEAT\n",
        "# test_accuracy_multiple_runs = [None] * NUM_REPEAT\n",
        "# test_loss_multiple_runs = [None] * NUM_REPEAT\n",
        "# f1_macro_multiple_runs = [None] * NUM_REPEAT\n",
        "# f1_weighted_multiple_runs = [None] * NUM_REPEAT\n",
        "\n",
        "# for exp_num in range(NUM_REPEAT):\n",
        "#   print(\"Experiment Run Number: \", exp_num)\n",
        "  \n",
        "#   # number of training rounds\n",
        "#   rounds = 50\n",
        "#   # client fraction\n",
        "#   C = 0.1\n",
        "#   # number of clients\n",
        "#   K = 100\n",
        "#   # number of training passes on local dataset for each roung\n",
        "#   E = 1\n",
        "#   # batch size\n",
        "#   batch_size = 10\n",
        "#   # learning Rate\n",
        "#   lr=0.05\n",
        "#   # fairness\n",
        "#   q = 0.001\n",
        "#   # sampling\n",
        "#   # sampling = 'uniform'\n",
        "#   sampling = 'weighted'\n",
        "  \n",
        "#   # dict containing different type of data partition\n",
        "#   data_dict = non_iid_partition(cifar_data_train, 100, 200, 250, 2)\n",
        "#   # load model\n",
        "#   cifar_mlp = CIFAR_MLP()\n",
        "\n",
        "#   if torch.cuda.is_available():\n",
        "#     cifar_mlp.cuda()\n",
        "\n",
        "#   cifar_mlp_non_iid_trained, train_loss, test_accuracy, test_loss, f1_macro, f1_weighted = training(cifar_mlp, rounds, batch_size, lr, cifar_data_train, cifar_data_test, data_dict, C, K, E, q, sampling, \"CIFAR MLP on Non-IID Dataset\", \"green\")\n",
        "\n",
        "#   train_loss_multiple_runs[exp_num] = train_loss\n",
        "#   test_accuracy_multiple_runs[exp_num] = test_accuracy\n",
        "#   test_loss_multiple_runs[exp_num] = test_loss\n",
        "#   f1_macro_multiple_runs[exp_num] = f1_macro\n",
        "#   f1_weighted_multiple_runs[exp_num] = f1_weighted\n",
        "    \n",
        "#   del cifar_mlp_non_iid_trained\n",
        "#   torch.cuda.empty_cache()"
      ],
      "execution_count": 81,
      "outputs": []
    },
    {
      "cell_type": "markdown",
      "metadata": {
        "id": "jmuQYPbF2mes"
      },
      "source": [
        "### Test"
      ]
    },
    {
      "cell_type": "code",
      "metadata": {
        "id": "0tKMlJyF2nGN"
      },
      "source": [
        "# criterion = nn.CrossEntropyLoss()\n",
        "# acc, loss, f1_macro, f1_weighted = testing(cifar_mlp_non_iid_trained, cifar_data_test, 128, criterion, num_classes, classes_test, True)"
      ],
      "execution_count": 82,
      "outputs": []
    },
    {
      "cell_type": "code",
      "metadata": {
        "id": "1W5krYcSMQiu"
      },
      "source": [
        "# hyperparams = {'rounds': rounds,\n",
        "#                'C': C,\n",
        "#                'K': K,\n",
        "#                'E': E,\n",
        "#                'batch_size': batch_size,\n",
        "#                'lr': lr,\n",
        "#                'q': q,\n",
        "#                'sampling': sampling\n",
        "#                }\n",
        "\n",
        "# log_dict['CIFAR MLP on Non IID'] = {'train_loss': train_loss_multiple_runs, \n",
        "#                                 'test_loss': test_loss_multiple_runs, \n",
        "#                                 'test_accuracy': test_accuracy_multiple_runs,\n",
        "#                                 'f1_macro': f1_macro_multiple_runs,\n",
        "#                                 'f1_weighted': f1_weighted_multiple_runs,\n",
        "#                                 'hyperparams': hyperparams,\n",
        "#                                 }"
      ],
      "execution_count": 83,
      "outputs": []
    },
    {
      "cell_type": "markdown",
      "metadata": {
        "id": "emS_SaRAP6TZ"
      },
      "source": [
        "## Pickle Log"
      ]
    },
    {
      "cell_type": "code",
      "metadata": {
        "id": "soAN38JoP0c1"
      },
      "source": [
        "import pickle\n",
        "\n",
        "with open(path + 'Local_Round_qFedAvg.pkl', 'wb') as file:\n",
        "  pickle.dump(log_dict, file)"
      ],
      "execution_count": 84,
      "outputs": []
    },
    {
      "cell_type": "code",
      "metadata": {
        "colab": {
          "base_uri": "https://localhost:8080/"
        },
        "id": "2UBy-JswSoCJ",
        "outputId": "902f5441-e2ad-4158-dbe7-3700ad9c3e7c"
      },
      "source": [
        "log_dict"
      ],
      "execution_count": 85,
      "outputs": [
        {
          "output_type": "execute_result",
          "data": {
            "text/plain": [
              "{'CIFAR CNN on IID': {'f1_macro': [[0.01818512456810329,\n",
              "    0.3127952199004311,\n",
              "    0.38347774989881095,\n",
              "    0.4353511810655153,\n",
              "    0.42340327620872076,\n",
              "    0.4880060590907999,\n",
              "    0.49554850678313295,\n",
              "    0.5195956091643728,\n",
              "    0.5272866884209428,\n",
              "    0.5426636221153602,\n",
              "    0.5425324381814092,\n",
              "    0.5163970920384899,\n",
              "    0.5289723359364941,\n",
              "    0.5507028125874206,\n",
              "    0.5473173041987733,\n",
              "    0.5412369830332314,\n",
              "    0.5491201235806863,\n",
              "    0.5126698524586525,\n",
              "    0.4948817573203265,\n",
              "    0.5074199374905131,\n",
              "    0.5070783581593107,\n",
              "    0.4918988195453128,\n",
              "    0.5057950191052026,\n",
              "    0.4962382171636269,\n",
              "    0.5203534942542477,\n",
              "    0.5209682943957171,\n",
              "    0.511950747242883,\n",
              "    0.48847839472058857,\n",
              "    0.5202646000319864,\n",
              "    0.5314072568589323,\n",
              "    0.5333158371533291,\n",
              "    0.5211339409489701,\n",
              "    0.5202113387955947,\n",
              "    0.5087158404659198,\n",
              "    0.5100367116355536,\n",
              "    0.5113084215674434,\n",
              "    0.5275358364632806,\n",
              "    0.5220762306575153,\n",
              "    0.4914578841830542,\n",
              "    0.49082959368061563,\n",
              "    0.49403674277705784,\n",
              "    0.4828528414127916,\n",
              "    0.5043849054432468,\n",
              "    0.5119162277414597,\n",
              "    0.5112528278659134,\n",
              "    0.5018237865961505,\n",
              "    0.5043097816874532,\n",
              "    0.5090818990616819,\n",
              "    0.4839700831454408,\n",
              "    0.4939074452496565]],\n",
              "  'f1_weighted': [[0.01818512456810329,\n",
              "    0.3127952199004311,\n",
              "    0.383477749898811,\n",
              "    0.43535118106551535,\n",
              "    0.42340327620872076,\n",
              "    0.48800605909079997,\n",
              "    0.49554850678313295,\n",
              "    0.5195956091643728,\n",
              "    0.5272866884209427,\n",
              "    0.5426636221153603,\n",
              "    0.5425324381814093,\n",
              "    0.5163970920384899,\n",
              "    0.528972335936494,\n",
              "    0.5507028125874206,\n",
              "    0.5473173041987733,\n",
              "    0.5412369830332314,\n",
              "    0.5491201235806864,\n",
              "    0.5126698524586525,\n",
              "    0.4948817573203265,\n",
              "    0.5074199374905131,\n",
              "    0.5070783581593108,\n",
              "    0.4918988195453127,\n",
              "    0.5057950191052026,\n",
              "    0.4962382171636269,\n",
              "    0.5203534942542477,\n",
              "    0.5209682943957173,\n",
              "    0.5119507472428829,\n",
              "    0.48847839472058857,\n",
              "    0.5202646000319864,\n",
              "    0.5314072568589323,\n",
              "    0.533315837153329,\n",
              "    0.5211339409489703,\n",
              "    0.5202113387955948,\n",
              "    0.5087158404659196,\n",
              "    0.5100367116355536,\n",
              "    0.5113084215674434,\n",
              "    0.5275358364632807,\n",
              "    0.5220762306575152,\n",
              "    0.4914578841830541,\n",
              "    0.4908295936806156,\n",
              "    0.4940367427770578,\n",
              "    0.4828528414127917,\n",
              "    0.5043849054432469,\n",
              "    0.5119162277414598,\n",
              "    0.5112528278659135,\n",
              "    0.5018237865961505,\n",
              "    0.5043097816874531,\n",
              "    0.5090818990616818,\n",
              "    0.48397008314544093,\n",
              "    0.4939074452496566]],\n",
              "  'hyperparams': {'C': 0.1,\n",
              "   'E': 5,\n",
              "   'K': 50,\n",
              "   'batch_size': 10,\n",
              "   'lr': 0.05,\n",
              "   'q': 0.001,\n",
              "   'rounds': 50,\n",
              "   'sampling': 'weighted'},\n",
              "  'test_accuracy': [[10.0,\n",
              "    35.99,\n",
              "    40.82,\n",
              "    44.58,\n",
              "    44.91,\n",
              "    50.48,\n",
              "    51.5,\n",
              "    53.69,\n",
              "    54.46,\n",
              "    55.45,\n",
              "    56.38,\n",
              "    53.64,\n",
              "    55.35,\n",
              "    57.32,\n",
              "    57.08,\n",
              "    56.63,\n",
              "    57.27,\n",
              "    54.22,\n",
              "    52.21,\n",
              "    54.29,\n",
              "    53.44,\n",
              "    52.59,\n",
              "    54.07,\n",
              "    53.62,\n",
              "    54.93,\n",
              "    55.02,\n",
              "    54.87,\n",
              "    52.44,\n",
              "    55.06,\n",
              "    55.69,\n",
              "    56.5,\n",
              "    55.18,\n",
              "    54.95,\n",
              "    54.05,\n",
              "    53.63,\n",
              "    54.52,\n",
              "    55.67,\n",
              "    55.4,\n",
              "    52.57,\n",
              "    52.86,\n",
              "    52.91,\n",
              "    51.89,\n",
              "    54.07,\n",
              "    54.39,\n",
              "    54.24,\n",
              "    53.35,\n",
              "    53.62,\n",
              "    53.81,\n",
              "    51.96,\n",
              "    52.78]],\n",
              "  'test_loss': [[2.2700330593109133,\n",
              "    1.8849796030044557,\n",
              "    1.6703852348327637,\n",
              "    1.549697611427307,\n",
              "    1.4955448205947877,\n",
              "    1.3575313440322876,\n",
              "    1.3580107059478759,\n",
              "    1.3484869720458985,\n",
              "    1.3659386302947998,\n",
              "    1.4314095893859864,\n",
              "    1.493566141319275,\n",
              "    1.7761315044403077,\n",
              "    1.7628719064712524,\n",
              "    1.8206714374542237,\n",
              "    1.8352160339355468,\n",
              "    2.0717978857040404,\n",
              "    2.1928935888290404,\n",
              "    2.6016403091430664,\n",
              "    3.203552375793457,\n",
              "    2.9694874660491943,\n",
              "    3.268720353126526,\n",
              "    3.7055621768951417,\n",
              "    3.6144994382858275,\n",
              "    3.659674902534485,\n",
              "    3.810207793045044,\n",
              "    4.0287726858139035,\n",
              "    4.198835941886902,\n",
              "    4.873323568725586,\n",
              "    4.3140265647888185,\n",
              "    4.304027708816529,\n",
              "    4.466559612846375,\n",
              "    4.641217565917969,\n",
              "    4.930648637962341,\n",
              "    5.061878399467468,\n",
              "    5.244516244506836,\n",
              "    5.158295694732666,\n",
              "    5.015312071609497,\n",
              "    5.053394338226318,\n",
              "    5.837706275939942,\n",
              "    5.928221288299561,\n",
              "    6.087874029922485,\n",
              "    6.41372972946167,\n",
              "    6.023966137313843,\n",
              "    5.935666481399537,\n",
              "    6.1156942054748535,\n",
              "    6.68808934135437,\n",
              "    6.3114378456115725,\n",
              "    5.908411371994019,\n",
              "    6.756192226028443,\n",
              "    7.109412656021118]],\n",
              "  'train_loss': [[2.062346733093262,\n",
              "    1.9148751911163333,\n",
              "    1.7785961487531665,\n",
              "    1.648416021347046,\n",
              "    1.5522452743053434,\n",
              "    1.4549162610530852,\n",
              "    1.3601987896561623,\n",
              "    1.2739555853247642,\n",
              "    1.185808374106884,\n",
              "    1.1061126095890998,\n",
              "    1.0298556093335152,\n",
              "    0.9616535758972168,\n",
              "    0.9039358512848615,\n",
              "    0.838002921372652,\n",
              "    0.7893271388173103,\n",
              "    0.735101527956128,\n",
              "    0.6868258050143718,\n",
              "    0.6506993874162437,\n",
              "    0.6080804968386888,\n",
              "    0.5826195920556783,\n",
              "    0.5388504324872047,\n",
              "    0.5125753626033663,\n",
              "    0.484208718636632,\n",
              "    0.4662143803950398,\n",
              "    0.4400225587371736,\n",
              "    0.40611957174614066,\n",
              "    0.3939255620094016,\n",
              "    0.3750911117373034,\n",
              "    0.3573546024086885,\n",
              "    0.34618582459427416,\n",
              "    0.33186082971747966,\n",
              "    0.32226172070214526,\n",
              "    0.29615158522184937,\n",
              "    0.29749704817533495,\n",
              "    0.2707208571617026,\n",
              "    0.2677511078975629,\n",
              "    0.24933447036060968,\n",
              "    0.2542452591028996,\n",
              "    0.25694321001707576,\n",
              "    0.23077835931880397,\n",
              "    0.23582277386365455,\n",
              "    0.22287756559248084,\n",
              "    0.1990096590576461,\n",
              "    0.20832751884832978,\n",
              "    0.1860308317947667,\n",
              "    0.1887681169406278,\n",
              "    0.1785524595908937,\n",
              "    0.17926472328252857,\n",
              "    0.16551885393001142,\n",
              "    0.16680129158447962]]},\n",
              " 'CIFAR CNN on Non IID': {'f1_macro': [[0.01818181818181818,\n",
              "    0.01818181818181818,\n",
              "    0.04333144375725891,\n",
              "    0.06841188744714241,\n",
              "    0.0830541046670308,\n",
              "    0.1307335155040885,\n",
              "    0.15664844736579883,\n",
              "    0.1859540768289456,\n",
              "    0.19670421252064232,\n",
              "    0.20061294915823624,\n",
              "    0.21009014209042465,\n",
              "    0.19823256250325802,\n",
              "    0.21302537230677498,\n",
              "    0.20611694176519935,\n",
              "    0.2246990083774849,\n",
              "    0.21538749906418184,\n",
              "    0.19884304059661606,\n",
              "    0.21686985492425032,\n",
              "    0.21256686023771948,\n",
              "    0.22277852278381335,\n",
              "    0.22059093670547392,\n",
              "    0.23801943331469344,\n",
              "    0.23719572463960983,\n",
              "    0.23852244990771082,\n",
              "    0.24629383749841485,\n",
              "    0.23641071491550414,\n",
              "    0.25056226454171354,\n",
              "    0.2488261435471287,\n",
              "    0.24348970781442097,\n",
              "    0.2404803825207608,\n",
              "    0.24333997255846285,\n",
              "    0.22337139402701994,\n",
              "    0.23567703147306845,\n",
              "    0.23777033388228616,\n",
              "    0.22822193663909002,\n",
              "    0.2397426401587671,\n",
              "    0.2413372259538477,\n",
              "    0.23845280510407946,\n",
              "    0.26696563505750126,\n",
              "    0.25730565164542785,\n",
              "    0.24825479305559242,\n",
              "    0.21987866373853454,\n",
              "    0.27257356464231697,\n",
              "    0.26885712954254315,\n",
              "    0.2632195510245071,\n",
              "    0.2589886624078671,\n",
              "    0.27340140539089575,\n",
              "    0.24711492941197957,\n",
              "    0.2468459024370006,\n",
              "    0.23457840897978038]],\n",
              "  'f1_weighted': [[0.01818181818181818,\n",
              "    0.01818181818181818,\n",
              "    0.04333144375725891,\n",
              "    0.06841188744714241,\n",
              "    0.08305410466703078,\n",
              "    0.13073351550408846,\n",
              "    0.15664844736579883,\n",
              "    0.1859540768289456,\n",
              "    0.19670421252064235,\n",
              "    0.20061294915823624,\n",
              "    0.21009014209042465,\n",
              "    0.19823256250325802,\n",
              "    0.21302537230677498,\n",
              "    0.20611694176519937,\n",
              "    0.22469900837748488,\n",
              "    0.21538749906418184,\n",
              "    0.19884304059661603,\n",
              "    0.21686985492425034,\n",
              "    0.21256686023771948,\n",
              "    0.22277852278381333,\n",
              "    0.22059093670547392,\n",
              "    0.23801943331469347,\n",
              "    0.23719572463960986,\n",
              "    0.23852244990771082,\n",
              "    0.24629383749841485,\n",
              "    0.2364107149155041,\n",
              "    0.2505622645417136,\n",
              "    0.24882614354712873,\n",
              "    0.24348970781442095,\n",
              "    0.24048038252076082,\n",
              "    0.24333997255846285,\n",
              "    0.22337139402701997,\n",
              "    0.23567703147306848,\n",
              "    0.23777033388228616,\n",
              "    0.22822193663909002,\n",
              "    0.23974264015876712,\n",
              "    0.24133722595384774,\n",
              "    0.23845280510407946,\n",
              "    0.26696563505750126,\n",
              "    0.25730565164542785,\n",
              "    0.24825479305559242,\n",
              "    0.21987866373853457,\n",
              "    0.2725735646423169,\n",
              "    0.26885712954254315,\n",
              "    0.2632195510245071,\n",
              "    0.2589886624078672,\n",
              "    0.2734014053908958,\n",
              "    0.24711492941197957,\n",
              "    0.24684590243700058,\n",
              "    0.23457840897978038]],\n",
              "  'hyperparams': {'C': 0.1,\n",
              "   'E': 5,\n",
              "   'K': 50,\n",
              "   'batch_size': 10,\n",
              "   'lr': 0.05,\n",
              "   'q': 0.001,\n",
              "   'rounds': 50,\n",
              "   'sampling': 'weighted'},\n",
              "  'test_accuracy': [[10.0,\n",
              "    10.0,\n",
              "    11.51,\n",
              "    13.4,\n",
              "    14.64,\n",
              "    19.95,\n",
              "    22.23,\n",
              "    25.48,\n",
              "    27.94,\n",
              "    29.65,\n",
              "    29.74,\n",
              "    29.22,\n",
              "    29.9,\n",
              "    29.89,\n",
              "    31.52,\n",
              "    31.61,\n",
              "    28.02,\n",
              "    32.11,\n",
              "    30.65,\n",
              "    33.02,\n",
              "    29.96,\n",
              "    33.16,\n",
              "    32.17,\n",
              "    33.77,\n",
              "    33.99,\n",
              "    33.46,\n",
              "    33.92,\n",
              "    34.83,\n",
              "    34.14,\n",
              "    33.61,\n",
              "    33.09,\n",
              "    32.23,\n",
              "    32.75,\n",
              "    33.83,\n",
              "    32.48,\n",
              "    34.46,\n",
              "    34.41,\n",
              "    34.22,\n",
              "    36.47,\n",
              "    34.86,\n",
              "    35.05,\n",
              "    32.12,\n",
              "    37.12,\n",
              "    36.51,\n",
              "    36.59,\n",
              "    36.05,\n",
              "    37.47,\n",
              "    35.47,\n",
              "    33.33,\n",
              "    34.42]],\n",
              "  'test_loss': [[2.3408989276885985,\n",
              "    2.4633209209442137,\n",
              "    2.5417796451568604,\n",
              "    2.6348632453918457,\n",
              "    2.732327400970459,\n",
              "    2.7639875900268556,\n",
              "    2.8387836265563964,\n",
              "    2.833441876220703,\n",
              "    2.799919746398926,\n",
              "    2.702437224960327,\n",
              "    2.8976339515686034,\n",
              "    2.916072501373291,\n",
              "    2.839683010864258,\n",
              "    3.035036680984497,\n",
              "    2.8923600090026858,\n",
              "    3.000666830444336,\n",
              "    3.082668994522095,\n",
              "    3.206690731048584,\n",
              "    3.1448046894073487,\n",
              "    3.1048647716522217,\n",
              "    3.2746413806915284,\n",
              "    3.228325184631348,\n",
              "    3.3269091728210447,\n",
              "    3.3374397453308107,\n",
              "    3.412212438964844,\n",
              "    3.457889770126343,\n",
              "    3.456083982849121,\n",
              "    3.536742366409302,\n",
              "    3.541848369979858,\n",
              "    3.4420357734680174,\n",
              "    3.4900522388458253,\n",
              "    3.6063530475616457,\n",
              "    3.582867208099365,\n",
              "    3.659075636291504,\n",
              "    3.697680453491211,\n",
              "    3.7564174392700194,\n",
              "    3.5984047080993653,\n",
              "    3.6395793338775633,\n",
              "    3.775588623046875,\n",
              "    3.9170112995147703,\n",
              "    4.006284600067139,\n",
              "    4.096098086929321,\n",
              "    3.6709016929626466,\n",
              "    3.711501830291748,\n",
              "    3.8723505088806154,\n",
              "    3.9126804039001466,\n",
              "    3.75463659286499,\n",
              "    4.012989761352539,\n",
              "    4.164022111511231,\n",
              "    4.2153309703826904]],\n",
              "  'train_loss': [[0.55366117849797,\n",
              "    0.4603507513739169,\n",
              "    0.38744418821576987,\n",
              "    0.3455253976080567,\n",
              "    0.3133658127227798,\n",
              "    0.2802000849823584,\n",
              "    0.2579239041036635,\n",
              "    0.24315767194821386,\n",
              "    0.2236936256700603,\n",
              "    0.21142153962467564,\n",
              "    0.19832125503429565,\n",
              "    0.18507608652363416,\n",
              "    0.1737544874602143,\n",
              "    0.16740279966416277,\n",
              "    0.154845875620094,\n",
              "    0.15258762446435864,\n",
              "    0.14317180148661662,\n",
              "    0.1387463324339649,\n",
              "    0.1353488449790173,\n",
              "    0.12476606173485014,\n",
              "    0.11815098182748078,\n",
              "    0.11272768937974968,\n",
              "    0.10942649699461279,\n",
              "    0.10345497569279231,\n",
              "    0.10229864175499163,\n",
              "    0.09737565227502983,\n",
              "    0.09150570247324333,\n",
              "    0.0896119918081961,\n",
              "    0.09061391087086468,\n",
              "    0.08536567267868571,\n",
              "    0.0795500301297072,\n",
              "    0.07664818779597567,\n",
              "    0.07572348522834804,\n",
              "    0.07227461234325049,\n",
              "    0.07310095880480935,\n",
              "    0.06849626867924637,\n",
              "    0.06474672248657617,\n",
              "    0.06754851641809007,\n",
              "    0.05866835121516297,\n",
              "    0.06299122128432269,\n",
              "    0.05791767496139719,\n",
              "    0.057131082303629274,\n",
              "    0.05841236633258597,\n",
              "    0.04889852732720838,\n",
              "    0.0548242324054372,\n",
              "    0.05208088181651862,\n",
              "    0.05057096118658984,\n",
              "    0.04889091492553509,\n",
              "    0.04559237239996959,\n",
              "    0.04992378551574237]]}}"
            ]
          },
          "metadata": {
            "tags": []
          },
          "execution_count": 85
        }
      ]
    },
    {
      "cell_type": "code",
      "metadata": {
        "id": "x1r1hcqMUCeZ"
      },
      "source": [
        "import pickle\n",
        "\n",
        "with open(path + 'Local_Round_qFedAvg.pkl', 'rb') as file:\n",
        "  log_dict = pickle.load(file)"
      ],
      "execution_count": 86,
      "outputs": []
    },
    {
      "cell_type": "code",
      "metadata": {
        "colab": {
          "base_uri": "https://localhost:8080/"
        },
        "id": "se_04JMaVJPg",
        "outputId": "bf05c62d-52b5-4d3d-f642-8355fab47147"
      },
      "source": [
        "print([test_acc[-1] for test_acc in log_dict['CIFAR CNN on IID']['test_accuracy']])"
      ],
      "execution_count": 87,
      "outputs": [
        {
          "output_type": "stream",
          "text": [
            "[52.78]\n"
          ],
          "name": "stdout"
        }
      ]
    },
    {
      "cell_type": "code",
      "metadata": {
        "id": "5sv0rv-G4Sqa",
        "colab": {
          "base_uri": "https://localhost:8080/"
        },
        "outputId": "c25e7335-d351-49da-a7eb-80ce206d882f"
      },
      "source": [
        "print([test_acc[-1] for test_acc in log_dict['CIFAR CNN on Non IID']['test_accuracy']])"
      ],
      "execution_count": 88,
      "outputs": [
        {
          "output_type": "stream",
          "text": [
            "[34.42]\n"
          ],
          "name": "stdout"
        }
      ]
    },
    {
      "cell_type": "code",
      "metadata": {
        "id": "b2a2_Az-4nal"
      },
      "source": [
        "# print([test_acc[-1] for test_acc in log_dict['CIFAR MLP on IID']['test_accuracy']])"
      ],
      "execution_count": 89,
      "outputs": []
    },
    {
      "cell_type": "code",
      "metadata": {
        "id": "YoRqZyvD4p2K"
      },
      "source": [
        "# print([test_acc[-1] for test_acc in log_dict['CIFAR MLP on Non IID']['test_accuracy']])"
      ],
      "execution_count": 90,
      "outputs": []
    },
    {
      "cell_type": "code",
      "metadata": {
        "id": "mkG1kQdmVzbJ"
      },
      "source": [
        ""
      ],
      "execution_count": 90,
      "outputs": []
    }
  ]
}