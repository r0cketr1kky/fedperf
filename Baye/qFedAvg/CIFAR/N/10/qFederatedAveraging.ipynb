{
  "nbformat": 4,
  "nbformat_minor": 0,
  "metadata": {
    "accelerator": "GPU",
    "colab": {
      "name": "qFederatedAveraging.ipynb",
      "provenance": [],
      "collapsed_sections": [],
      "machine_shape": "hm"
    },
    "kernelspec": {
      "name": "python3",
      "display_name": "Python 3"
    },
    "language_info": {
      "name": "python"
    },
    "widgets": {
      "application/vnd.jupyter.widget-state+json": {
        "9db2f52b1692409c91734282637458bd": {
          "model_module": "@jupyter-widgets/controls",
          "model_name": "HBoxModel",
          "state": {
            "_view_name": "HBoxView",
            "_dom_classes": [],
            "_model_name": "HBoxModel",
            "_view_module": "@jupyter-widgets/controls",
            "_model_module_version": "1.5.0",
            "_view_count": null,
            "_view_module_version": "1.5.0",
            "box_style": "",
            "layout": "IPY_MODEL_00e70590a1b34c3fb64cc0a4120930a0",
            "_model_module": "@jupyter-widgets/controls",
            "children": [
              "IPY_MODEL_9d16426608a143e3ae2f2392bbd3e3c1",
              "IPY_MODEL_98ece5a76cb7464da1dc7deb621a047d"
            ]
          }
        },
        "00e70590a1b34c3fb64cc0a4120930a0": {
          "model_module": "@jupyter-widgets/base",
          "model_name": "LayoutModel",
          "state": {
            "_view_name": "LayoutView",
            "grid_template_rows": null,
            "right": null,
            "justify_content": null,
            "_view_module": "@jupyter-widgets/base",
            "overflow": null,
            "_model_module_version": "1.2.0",
            "_view_count": null,
            "flex_flow": null,
            "width": null,
            "min_width": null,
            "border": null,
            "align_items": null,
            "bottom": null,
            "_model_module": "@jupyter-widgets/base",
            "top": null,
            "grid_column": null,
            "overflow_y": null,
            "overflow_x": null,
            "grid_auto_flow": null,
            "grid_area": null,
            "grid_template_columns": null,
            "flex": null,
            "_model_name": "LayoutModel",
            "justify_items": null,
            "grid_row": null,
            "max_height": null,
            "align_content": null,
            "visibility": null,
            "align_self": null,
            "height": null,
            "min_height": null,
            "padding": null,
            "grid_auto_rows": null,
            "grid_gap": null,
            "max_width": null,
            "order": null,
            "_view_module_version": "1.2.0",
            "grid_template_areas": null,
            "object_position": null,
            "object_fit": null,
            "grid_auto_columns": null,
            "margin": null,
            "display": null,
            "left": null
          }
        },
        "9d16426608a143e3ae2f2392bbd3e3c1": {
          "model_module": "@jupyter-widgets/controls",
          "model_name": "FloatProgressModel",
          "state": {
            "_view_name": "ProgressView",
            "style": "IPY_MODEL_2f7a7283322e4943a83b03cd676ea18c",
            "_dom_classes": [],
            "description": "",
            "_model_name": "FloatProgressModel",
            "bar_style": "success",
            "max": 170498071,
            "_view_module": "@jupyter-widgets/controls",
            "_model_module_version": "1.5.0",
            "value": 170498071,
            "_view_count": null,
            "_view_module_version": "1.5.0",
            "orientation": "horizontal",
            "min": 0,
            "description_tooltip": null,
            "_model_module": "@jupyter-widgets/controls",
            "layout": "IPY_MODEL_d1743bca3e4b4db084a5d6d466ef279a"
          }
        },
        "98ece5a76cb7464da1dc7deb621a047d": {
          "model_module": "@jupyter-widgets/controls",
          "model_name": "HTMLModel",
          "state": {
            "_view_name": "HTMLView",
            "style": "IPY_MODEL_7bf11a65ef3740ecb357939022f6c4bf",
            "_dom_classes": [],
            "description": "",
            "_model_name": "HTMLModel",
            "placeholder": "​",
            "_view_module": "@jupyter-widgets/controls",
            "_model_module_version": "1.5.0",
            "value": " 170499072/? [00:06&lt;00:00, 26251446.23it/s]",
            "_view_count": null,
            "_view_module_version": "1.5.0",
            "description_tooltip": null,
            "_model_module": "@jupyter-widgets/controls",
            "layout": "IPY_MODEL_eccd307f31e34e71ac624d03f9092e35"
          }
        },
        "2f7a7283322e4943a83b03cd676ea18c": {
          "model_module": "@jupyter-widgets/controls",
          "model_name": "ProgressStyleModel",
          "state": {
            "_view_name": "StyleView",
            "_model_name": "ProgressStyleModel",
            "description_width": "initial",
            "_view_module": "@jupyter-widgets/base",
            "_model_module_version": "1.5.0",
            "_view_count": null,
            "_view_module_version": "1.2.0",
            "bar_color": null,
            "_model_module": "@jupyter-widgets/controls"
          }
        },
        "d1743bca3e4b4db084a5d6d466ef279a": {
          "model_module": "@jupyter-widgets/base",
          "model_name": "LayoutModel",
          "state": {
            "_view_name": "LayoutView",
            "grid_template_rows": null,
            "right": null,
            "justify_content": null,
            "_view_module": "@jupyter-widgets/base",
            "overflow": null,
            "_model_module_version": "1.2.0",
            "_view_count": null,
            "flex_flow": null,
            "width": null,
            "min_width": null,
            "border": null,
            "align_items": null,
            "bottom": null,
            "_model_module": "@jupyter-widgets/base",
            "top": null,
            "grid_column": null,
            "overflow_y": null,
            "overflow_x": null,
            "grid_auto_flow": null,
            "grid_area": null,
            "grid_template_columns": null,
            "flex": null,
            "_model_name": "LayoutModel",
            "justify_items": null,
            "grid_row": null,
            "max_height": null,
            "align_content": null,
            "visibility": null,
            "align_self": null,
            "height": null,
            "min_height": null,
            "padding": null,
            "grid_auto_rows": null,
            "grid_gap": null,
            "max_width": null,
            "order": null,
            "_view_module_version": "1.2.0",
            "grid_template_areas": null,
            "object_position": null,
            "object_fit": null,
            "grid_auto_columns": null,
            "margin": null,
            "display": null,
            "left": null
          }
        },
        "7bf11a65ef3740ecb357939022f6c4bf": {
          "model_module": "@jupyter-widgets/controls",
          "model_name": "DescriptionStyleModel",
          "state": {
            "_view_name": "StyleView",
            "_model_name": "DescriptionStyleModel",
            "description_width": "",
            "_view_module": "@jupyter-widgets/base",
            "_model_module_version": "1.5.0",
            "_view_count": null,
            "_view_module_version": "1.2.0",
            "_model_module": "@jupyter-widgets/controls"
          }
        },
        "eccd307f31e34e71ac624d03f9092e35": {
          "model_module": "@jupyter-widgets/base",
          "model_name": "LayoutModel",
          "state": {
            "_view_name": "LayoutView",
            "grid_template_rows": null,
            "right": null,
            "justify_content": null,
            "_view_module": "@jupyter-widgets/base",
            "overflow": null,
            "_model_module_version": "1.2.0",
            "_view_count": null,
            "flex_flow": null,
            "width": null,
            "min_width": null,
            "border": null,
            "align_items": null,
            "bottom": null,
            "_model_module": "@jupyter-widgets/base",
            "top": null,
            "grid_column": null,
            "overflow_y": null,
            "overflow_x": null,
            "grid_auto_flow": null,
            "grid_area": null,
            "grid_template_columns": null,
            "flex": null,
            "_model_name": "LayoutModel",
            "justify_items": null,
            "grid_row": null,
            "max_height": null,
            "align_content": null,
            "visibility": null,
            "align_self": null,
            "height": null,
            "min_height": null,
            "padding": null,
            "grid_auto_rows": null,
            "grid_gap": null,
            "max_width": null,
            "order": null,
            "_view_module_version": "1.2.0",
            "grid_template_areas": null,
            "object_position": null,
            "object_fit": null,
            "grid_auto_columns": null,
            "margin": null,
            "display": null,
            "left": null
          }
        }
      }
    }
  },
  "cells": [
    {
      "cell_type": "markdown",
      "metadata": {
        "id": "view-in-github"
      },
      "source": [
        "<a href=\"https://colab.research.google.com/github/tushar-semwal/fedperf/blob/main/Vineeth/FedAvg_CIFAR.ipynb\" target=\"_parent\"><img src=\"https://colab.research.google.com/assets/colab-badge.svg\" alt=\"Open In Colab\"/></a>"
      ]
    },
    {
      "cell_type": "code",
      "metadata": {
        "id": "yKcpjZLrQQJV",
        "colab": {
          "base_uri": "https://localhost:8080/"
        },
        "outputId": "aa04101f-dcbb-4937-f795-748172615a2f"
      },
      "source": [
        "%%capture output\n",
        "try:\n",
        "    from google.colab import drive\n",
        "    drive.mount('/content/drive')\n",
        "\n",
        "    import os\n",
        "    path = '/content/drive/MyDrive/Colab Notebooks/OpenMined/'\n",
        "    os.makedirs(path, exist_ok=True)\n",
        "except:\n",
        "    path = './'"
      ],
      "execution_count": 1,
      "outputs": [
        {
          "output_type": "stream",
          "text": [
            "Go to this URL in a browser: https://accounts.google.com/o/oauth2/auth?client_id=947318989803-6bn6qk8qdgf4n4g3pfee6491hc0brc4i.apps.googleusercontent.com&redirect_uri=urn%3aietf%3awg%3aoauth%3a2.0%3aoob&scope=email%20https%3a%2f%2fwww.googleapis.com%2fauth%2fdocs.test%20https%3a%2f%2fwww.googleapis.com%2fauth%2fdrive%20https%3a%2f%2fwww.googleapis.com%2fauth%2fdrive.photos.readonly%20https%3a%2f%2fwww.googleapis.com%2fauth%2fpeopleapi.readonly%20https%3a%2f%2fwww.googleapis.com%2fauth%2fdrive.activity.readonly%20https%3a%2f%2fwww.googleapis.com%2fauth%2fexperimentsandconfigs%20https%3a%2f%2fwww.googleapis.com%2fauth%2fphotos.native&response_type=code\n",
            "\n",
            "Enter your authorization code:\n",
            "4/1AY0e-g70q4FRmCIf7mdcXl3IQ-9zkQmryBngmeJmro4tEX1ekkMxj9TPIEU\n"
          ],
          "name": "stdout"
        }
      ]
    },
    {
      "cell_type": "markdown",
      "metadata": {
        "id": "-0_nKpfq2h1R"
      },
      "source": [
        "## Imports"
      ]
    },
    {
      "cell_type": "code",
      "metadata": {
        "id": "DLLNM9X2JbQ8",
        "colab": {
          "base_uri": "https://localhost:8080/"
        },
        "outputId": "06aa2da0-44fe-4d6b-863f-4ab0bf3f07e9"
      },
      "source": [
        "%load_ext tensorboard\n",
        "import os\n",
        "import numpy as np\n",
        "import matplotlib\n",
        "import matplotlib.pyplot as plt\n",
        "import copy\n",
        "import random\n",
        "import time\n",
        "\n",
        "import torch\n",
        "import torch.nn as nn\n",
        "import torch.nn.functional as F\n",
        "\n",
        "from torch.utils.data import Dataset, DataLoader\n",
        "from torch.utils.tensorboard import SummaryWriter\n",
        "from torchvision import transforms, utils, datasets\n",
        "from torchsummary import summary\n",
        "from sklearn.metrics import f1_score\n",
        "\n",
        "# Check assigned GPU\n",
        "gpu_info = !nvidia-smi\n",
        "gpu_info = '\\n'.join(gpu_info)\n",
        "if gpu_info.find('failed') >= 0:\n",
        "  print('Select the Runtime > \"Change runtime type\" menu to enable a GPU accelerator, ')\n",
        "  print('and then re-execute this cell.')\n",
        "else:\n",
        "  print(gpu_info)\n",
        "\n",
        "# set manual seed for reproducibility\n",
        "seed = 42\n",
        "\n",
        "# general reproducibility\n",
        "random.seed(seed)\n",
        "np.random.seed(seed)\n",
        "torch.manual_seed(seed)\n",
        "\n",
        "# gpu training specific\n",
        "torch.backends.cudnn.deterministic = True\n",
        "torch.backends.cudnn.benchmark = False"
      ],
      "execution_count": 2,
      "outputs": [
        {
          "output_type": "stream",
          "text": [
            "Wed Apr 28 10:24:07 2021       \n",
            "+-----------------------------------------------------------------------------+\n",
            "| NVIDIA-SMI 465.19.01    Driver Version: 460.32.03    CUDA Version: 11.2     |\n",
            "|-------------------------------+----------------------+----------------------+\n",
            "| GPU  Name        Persistence-M| Bus-Id        Disp.A | Volatile Uncorr. ECC |\n",
            "| Fan  Temp  Perf  Pwr:Usage/Cap|         Memory-Usage | GPU-Util  Compute M. |\n",
            "|                               |                      |               MIG M. |\n",
            "|===============================+======================+======================|\n",
            "|   0  Tesla T4            Off  | 00000000:00:04.0 Off |                    0 |\n",
            "| N/A   46C    P8    10W /  70W |      0MiB / 15109MiB |      0%      Default |\n",
            "|                               |                      |                  N/A |\n",
            "+-------------------------------+----------------------+----------------------+\n",
            "                                                                               \n",
            "+-----------------------------------------------------------------------------+\n",
            "| Processes:                                                                  |\n",
            "|  GPU   GI   CI        PID   Type   Process name                  GPU Memory |\n",
            "|        ID   ID                                                   Usage      |\n",
            "|=============================================================================|\n",
            "|  No running processes found                                                 |\n",
            "+-----------------------------------------------------------------------------+\n"
          ],
          "name": "stdout"
        }
      ]
    },
    {
      "cell_type": "markdown",
      "metadata": {
        "id": "NY4eWzGiL6Mj"
      },
      "source": [
        "## Load the CIFAR Dataset"
      ]
    },
    {
      "cell_type": "code",
      "metadata": {
        "id": "G649tjTXLL8F",
        "colab": {
          "base_uri": "https://localhost:8080/",
          "height": 118,
          "referenced_widgets": [
            "9db2f52b1692409c91734282637458bd",
            "00e70590a1b34c3fb64cc0a4120930a0",
            "9d16426608a143e3ae2f2392bbd3e3c1",
            "98ece5a76cb7464da1dc7deb621a047d",
            "2f7a7283322e4943a83b03cd676ea18c",
            "d1743bca3e4b4db084a5d6d466ef279a",
            "7bf11a65ef3740ecb357939022f6c4bf",
            "eccd307f31e34e71ac624d03f9092e35"
          ]
        },
        "outputId": "523f3612-1ec0-46c4-efd3-a10087bc46d6"
      },
      "source": [
        "# create transforms\n",
        "# We will just convert to tensor and normalize since no special transforms are mentioned in the paper\n",
        "transform_train = transforms.Compose([\n",
        "    transforms.RandomCrop(32, padding=4),\n",
        "    transforms.RandomHorizontalFlip(),\n",
        "    transforms.ToTensor(),\n",
        "    transforms.Normalize((0.4914, 0.4822, 0.4465), (0.2023, 0.1994, 0.2010)),\n",
        "])\n",
        "\n",
        "# Normalize the test set same as training set without augmentation\n",
        "transform_test = transforms.Compose([\n",
        "    transforms.ToTensor(),\n",
        "    transforms.Normalize((0.4914, 0.4822, 0.4465), (0.2023, 0.1994, 0.2010)),\n",
        "])\n",
        "\n",
        "cifar_data_train = datasets.CIFAR10('../data/cifar10/', train=True, download=True, transform=transform_train)\n",
        "cifar_data_test = datasets.CIFAR10('../data/cifar10/', train=False, download=True, transform=transform_test)"
      ],
      "execution_count": 3,
      "outputs": [
        {
          "output_type": "stream",
          "text": [
            "Downloading https://www.cs.toronto.edu/~kriz/cifar-10-python.tar.gz to ../data/cifar10/cifar-10-python.tar.gz\n"
          ],
          "name": "stdout"
        },
        {
          "output_type": "display_data",
          "data": {
            "application/vnd.jupyter.widget-view+json": {
              "model_id": "9db2f52b1692409c91734282637458bd",
              "version_minor": 0,
              "version_major": 2
            },
            "text/plain": [
              "HBox(children=(FloatProgress(value=0.0, max=170498071.0), HTML(value='')))"
            ]
          },
          "metadata": {
            "tags": []
          }
        },
        {
          "output_type": "stream",
          "text": [
            "\n",
            "Extracting ../data/cifar10/cifar-10-python.tar.gz to ../data/cifar10/\n",
            "Files already downloaded and verified\n"
          ],
          "name": "stdout"
        }
      ]
    },
    {
      "cell_type": "code",
      "metadata": {
        "id": "pOtLLX66b1Ad",
        "colab": {
          "base_uri": "https://localhost:8080/"
        },
        "outputId": "0feb4966-68a8-404e-dfc5-106706806f40"
      },
      "source": [
        "classes = np.array(list(cifar_data_train.class_to_idx.values()))\n",
        "classes_test = np.array(list(cifar_data_test.class_to_idx.values()))\n",
        "num_classes = len(classes_test)\n",
        "print(\"Classes: {} \\tType: {}\".format(classes, type(classes)))\n",
        "print(\"Classes Test: {} \\tType: {}\".format(classes_test, type(classes)))\n"
      ],
      "execution_count": 4,
      "outputs": [
        {
          "output_type": "stream",
          "text": [
            "Classes: [0 1 2 3 4 5 6 7 8 9] \tType: <class 'numpy.ndarray'>\n",
            "Classes Test: [0 1 2 3 4 5 6 7 8 9] \tType: <class 'numpy.ndarray'>\n"
          ],
          "name": "stdout"
        }
      ]
    },
    {
      "cell_type": "code",
      "metadata": {
        "id": "wa4TJs-AVJ2O",
        "colab": {
          "base_uri": "https://localhost:8080/"
        },
        "outputId": "60a84992-3427-4430-9447-17663f8db9bb"
      },
      "source": [
        "print(\"Image Shape: {}\".format(cifar_data_train.data[0].shape))"
      ],
      "execution_count": 5,
      "outputs": [
        {
          "output_type": "stream",
          "text": [
            "Image Shape: (32, 32, 3)\n"
          ],
          "name": "stdout"
        }
      ]
    },
    {
      "cell_type": "markdown",
      "metadata": {
        "id": "jCOONkg-zV7Y"
      },
      "source": [
        "## Visualize Data"
      ]
    },
    {
      "cell_type": "code",
      "metadata": {
        "id": "R9MK03TZw6Qs"
      },
      "source": [
        "def imshow(img):\n",
        "\t#img = img/2 + 0.5 #unnormalize the image\n",
        "\tplt.imshow(img, cmap='hsv') # convert from tensor to image"
      ],
      "execution_count": 6,
      "outputs": []
    },
    {
      "cell_type": "code",
      "metadata": {
        "id": "gMJ0Kx4Kw-_H"
      },
      "source": [
        "def visualize(dataset):\n",
        "  figure = plt.figure(figsize=(25,4))\n",
        "  for i in range(20):\n",
        "    axis = figure.add_subplot(2, 20/2, i+1, xticks=[], yticks=[])\n",
        "    data = dataset.data[i]\n",
        "    #data = data.numpy()\n",
        "\n",
        "    target = dataset.targets[i]\n",
        "    #target = target.numpy()\n",
        "    imshow(data)\n",
        "    axis.set_title(target)\n"
      ],
      "execution_count": 7,
      "outputs": []
    },
    {
      "cell_type": "code",
      "metadata": {
        "id": "8bPOwKg10Ro7",
        "colab": {
          "base_uri": "https://localhost:8080/",
          "height": 268
        },
        "outputId": "67865cc9-5b3c-4a70-b071-cef6a27b7d8d"
      },
      "source": [
        "visualize(cifar_data_train)"
      ],
      "execution_count": 8,
      "outputs": [
        {
          "output_type": "display_data",
          "data": {
            "image/png": "[encoded data removed]",
            "text/plain": [
              "<Figure size 1800x288 with 20 Axes>"
            ]
          },
          "metadata": {
            "tags": []
          }
        }
      ]
    },
    {
      "cell_type": "code",
      "metadata": {
        "id": "RKoh5Cf70UYu",
        "colab": {
          "base_uri": "https://localhost:8080/",
          "height": 268
        },
        "outputId": "7dba9c2e-6b19-4766-c83f-db8014e27ae7"
      },
      "source": [
        "visualize(cifar_data_test)"
      ],
      "execution_count": 9,
      "outputs": [
        {
          "output_type": "display_data",
          "data": {
            "image/png": "[encoded data removed]",
            "text/plain": [
              "<Figure size 1800x288 with 20 Axes>"
            ]
          },
          "metadata": {
            "tags": []
          }
        }
      ]
    },
    {
      "cell_type": "markdown",
      "metadata": {
        "id": "ctjRsETiO1qO"
      },
      "source": [
        "## Partitioning the Data (IID and non-IID)"
      ]
    },
    {
      "cell_type": "code",
      "metadata": {
        "id": "3_v8lyrgO5dD"
      },
      "source": [
        "def iid_partition(dataset, clients):\n",
        "  \"\"\"\n",
        "  I.I.D paritioning of data over clients\n",
        "  Shuffle the data\n",
        "  Split it between clients\n",
        "  \n",
        "  params:\n",
        "    - dataset (torch.utils.Dataset): Dataset containing the CIFAR Images\n",
        "    - clients (int): Number of Clients to split the data between\n",
        "\n",
        "  returns:\n",
        "    - Dictionary of image indexes for each client\n",
        "  \"\"\"\n",
        "\n",
        "  num_items_per_client = int(len(dataset)/clients)\n",
        "  client_dict = {}\n",
        "  image_idxs = [i for i in range(len(dataset))]\n",
        "\n",
        "  for i in range(clients):\n",
        "    client_dict[i] = set(np.random.choice(image_idxs, num_items_per_client, replace=False))\n",
        "    image_idxs = list(set(image_idxs) - client_dict[i])\n",
        "\n",
        "  return client_dict"
      ],
      "execution_count": 10,
      "outputs": []
    },
    {
      "cell_type": "code",
      "metadata": {
        "id": "4zMdliGMQoSl"
      },
      "source": [
        "def non_iid_partition(dataset, clients, total_shards, shards_size, num_shards_per_client):\n",
        "  \"\"\"\n",
        "  non I.I.D parititioning of data over clients\n",
        "  Sort the data by the digit label\n",
        "  Divide the data into N shards of size S\n",
        "  Each of the clients will get X shards\n",
        "\n",
        "  params:\n",
        "    - dataset (torch.utils.Dataset): Dataset containing the CIFAR Images\n",
        "    - clients (int): Number of Clients to split the data between\n",
        "    - total_shards (int): Number of shards to partition the data in\n",
        "    - shards_size (int): Size of each shard \n",
        "    - num_shards_per_client (int): Number of shards of size shards_size that each client receives\n",
        "\n",
        "  returns:\n",
        "    - Dictionary of image indexes for each client\n",
        "  \"\"\"\n",
        "  \n",
        "  shard_idxs = [i for i in range(total_shards)]\n",
        "  client_dict = {i: np.array([], dtype='int64') for i in range(clients)}\n",
        "  idxs = np.arange(len(dataset))\n",
        "  data_labels = np.array(dataset.targets)\n",
        "\n",
        "  # sort the labels\n",
        "  label_idxs = np.vstack((idxs, data_labels))\n",
        "  label_idxs = label_idxs[:, label_idxs[1,:].argsort()]\n",
        "  idxs = label_idxs[0,:]\n",
        "\n",
        "  # divide the data into total_shards of size shards_size\n",
        "  # assign num_shards_per_client to each client\n",
        "  for i in range(clients):\n",
        "    rand_set = set(np.random.choice(shard_idxs, num_shards_per_client, replace=False))\n",
        "    shard_idxs = list(set(shard_idxs) - rand_set)\n",
        "\n",
        "    for rand in rand_set:\n",
        "      client_dict[i] = np.concatenate((client_dict[i], idxs[rand*shards_size:(rand+1)*shards_size]), axis=0)\n",
        "  \n",
        "  return client_dict\n",
        "\n",
        "\n",
        "\n"
      ],
      "execution_count": 11,
      "outputs": []
    },
    {
      "cell_type": "markdown",
      "metadata": {
        "id": "EUP_bcedcLwB"
      },
      "source": [
        "##Models"
      ]
    },
    {
      "cell_type": "code",
      "metadata": {
        "id": "CvoDNFKbZST5"
      },
      "source": [
        "class CIFAR_MLP(nn.Module):\n",
        "  def __init__(self):\n",
        "    super(CIFAR_MLP, self).__init__()\n",
        "    self.fc1 = nn.Linear(3 * 32 * 32, 2634)\n",
        "    self.fc2 = nn.Linear(2634, 2196) \n",
        "    self.fc3 = nn.Linear(2196, 1758)\n",
        "    self.fc4 = nn.Linear(1758, 1320)\n",
        "    self.fc5 = nn.Linear(1320, 882)\n",
        "    self.fc6 = nn.Linear(882, 444) \n",
        "    self.fc7 = nn.Linear(444, 10) \n",
        "\n",
        "  def forward(self, x):\n",
        "    x = x.view(-1, 3 * 32 * 32)\n",
        "    x = F.relu(self.fc1(x))\n",
        "    x = F.relu(self.fc2(x))\n",
        "    x = F.relu(self.fc3(x))\n",
        "    x = F.relu(self.fc4(x))\n",
        "    x = F.relu(self.fc5(x))\n",
        "    x = F.relu(self.fc6(x))\n",
        "\n",
        "    x = self.fc7(x)\n",
        "    return x"
      ],
      "execution_count": 12,
      "outputs": []
    },
    {
      "cell_type": "code",
      "metadata": {
        "id": "ut1hZ8x3qYPZ"
      },
      "source": [
        "class CIFAR_CNN(nn.Module):\n",
        "  def __init__(self):\n",
        "    super(CIFAR_CNN, self).__init__()\n",
        "\n",
        "    self.conv_layer = nn.Sequential(\n",
        "      nn.Conv2d(in_channels=3, out_channels=32, kernel_size=3, padding=1),\n",
        "      nn.BatchNorm2d(32),\n",
        "      nn.ReLU(inplace=True),\n",
        "      nn.Conv2d(in_channels=32, out_channels=64, kernel_size=3, padding=1),\n",
        "      nn.ReLU(inplace=True),\n",
        "      nn.MaxPool2d(kernel_size=2, stride=2),\n",
        "\n",
        "      nn.Conv2d(in_channels=64, out_channels=128, kernel_size=3, padding=1),\n",
        "      nn.BatchNorm2d(128),\n",
        "      nn.ReLU(inplace=True),\n",
        "      nn.Conv2d(in_channels=128, out_channels=128, kernel_size=3, padding=1),\n",
        "      nn.ReLU(inplace=True),\n",
        "      nn.MaxPool2d(kernel_size=2, stride=2),\n",
        "      nn.Dropout2d(p=0.05),\n",
        "\n",
        "      nn.Conv2d(in_channels=128, out_channels=256, kernel_size=3, padding=1),\n",
        "      nn.BatchNorm2d(256),\n",
        "      nn.ReLU(inplace=True),\n",
        "      nn.Conv2d(in_channels=256, out_channels=256, kernel_size=3, padding=1),\n",
        "      nn.ReLU(inplace=True),\n",
        "      nn.MaxPool2d(kernel_size=2, stride=2),\n",
        "    )\n",
        "\n",
        "    self.fc_layer = nn.Sequential(\n",
        "      nn.Dropout(p=0.1),\n",
        "      nn.Linear(4096, 1024),\n",
        "      nn.ReLU(inplace=True),\n",
        "      nn.Linear(1024, 512),\n",
        "      nn.ReLU(inplace=True),\n",
        "      nn.Dropout(p=0.1),\n",
        "      nn.Linear(512, 10)\n",
        "    )\n",
        "\n",
        "\n",
        "  def forward(self, x):      \n",
        "    # conv layers\n",
        "    x = self.conv_layer(x)\n",
        "    \n",
        "    # flatten\n",
        "    x = x.view(x.size(0), -1)\n",
        "    \n",
        "    # fc layer\n",
        "    x = self.fc_layer(x)\n",
        "\n",
        "    return x"
      ],
      "execution_count": 13,
      "outputs": []
    },
    {
      "cell_type": "markdown",
      "metadata": {
        "id": "uVv4HA9HuLtr"
      },
      "source": [
        "### Print Model Summaries"
      ]
    },
    {
      "cell_type": "code",
      "metadata": {
        "id": "-H2jR2-Id4AA",
        "colab": {
          "base_uri": "https://localhost:8080/"
        },
        "outputId": "fa4ce665-3dd4-4641-a2dc-1fdc73a0726d"
      },
      "source": [
        "cifar_mlp = CIFAR_MLP()\n",
        "cifar_cnn = CIFAR_CNN()\n",
        "\n",
        "if torch.cuda.is_available():\n",
        "  cifar_mlp.cuda()\n",
        "  cifar_cnn.cuda()\n",
        "\n",
        "print(\"CIFAR MLP SUMMARY\")\n",
        "print(summary(cifar_mlp, (32,32,3)))\n",
        "\n",
        "print(\"\\nCIFAR CNN SUMMARY\")\n",
        "print(summary(cifar_cnn, (3, 32,32)))"
      ],
      "execution_count": 14,
      "outputs": [
        {
          "output_type": "stream",
          "text": [
            "CIFAR MLP SUMMARY\n",
            "----------------------------------------------------------------\n",
            "        Layer (type)               Output Shape         Param #\n",
            "================================================================\n",
            "            Linear-1                 [-1, 2634]       8,094,282\n",
            "            Linear-2                 [-1, 2196]       5,786,460\n",
            "            Linear-3                 [-1, 1758]       3,862,326\n",
            "            Linear-4                 [-1, 1320]       2,321,880\n",
            "            Linear-5                  [-1, 882]       1,165,122\n",
            "            Linear-6                  [-1, 444]         392,052\n",
            "            Linear-7                   [-1, 10]           4,450\n",
            "================================================================\n",
            "Total params: 21,626,572\n",
            "Trainable params: 21,626,572\n",
            "Non-trainable params: 0\n",
            "----------------------------------------------------------------\n",
            "Input size (MB): 0.01\n",
            "Forward/backward pass size (MB): 0.07\n",
            "Params size (MB): 82.50\n",
            "Estimated Total Size (MB): 82.58\n",
            "----------------------------------------------------------------\n",
            "None\n",
            "\n",
            "CIFAR CNN SUMMARY\n",
            "----------------------------------------------------------------\n",
            "        Layer (type)               Output Shape         Param #\n",
            "================================================================\n",
            "            Conv2d-1           [-1, 32, 32, 32]             896\n",
            "       BatchNorm2d-2           [-1, 32, 32, 32]              64\n",
            "              ReLU-3           [-1, 32, 32, 32]               0\n",
            "            Conv2d-4           [-1, 64, 32, 32]          18,496\n",
            "              ReLU-5           [-1, 64, 32, 32]               0\n",
            "         MaxPool2d-6           [-1, 64, 16, 16]               0\n",
            "            Conv2d-7          [-1, 128, 16, 16]          73,856\n",
            "       BatchNorm2d-8          [-1, 128, 16, 16]             256\n",
            "              ReLU-9          [-1, 128, 16, 16]               0\n",
            "           Conv2d-10          [-1, 128, 16, 16]         147,584\n",
            "             ReLU-11          [-1, 128, 16, 16]               0\n",
            "        MaxPool2d-12            [-1, 128, 8, 8]               0\n",
            "        Dropout2d-13            [-1, 128, 8, 8]               0\n",
            "           Conv2d-14            [-1, 256, 8, 8]         295,168\n",
            "      BatchNorm2d-15            [-1, 256, 8, 8]             512\n",
            "             ReLU-16            [-1, 256, 8, 8]               0\n",
            "           Conv2d-17            [-1, 256, 8, 8]         590,080\n",
            "             ReLU-18            [-1, 256, 8, 8]               0\n",
            "        MaxPool2d-19            [-1, 256, 4, 4]               0\n",
            "          Dropout-20                 [-1, 4096]               0\n",
            "           Linear-21                 [-1, 1024]       4,195,328\n",
            "             ReLU-22                 [-1, 1024]               0\n",
            "           Linear-23                  [-1, 512]         524,800\n",
            "             ReLU-24                  [-1, 512]               0\n",
            "          Dropout-25                  [-1, 512]               0\n",
            "           Linear-26                   [-1, 10]           5,130\n",
            "================================================================\n",
            "Total params: 5,852,170\n",
            "Trainable params: 5,852,170\n",
            "Non-trainable params: 0\n",
            "----------------------------------------------------------------\n",
            "Input size (MB): 0.01\n",
            "Forward/backward pass size (MB): 3.96\n",
            "Params size (MB): 22.32\n",
            "Estimated Total Size (MB): 26.30\n",
            "----------------------------------------------------------------\n",
            "None\n"
          ],
          "name": "stdout"
        }
      ]
    },
    {
      "cell_type": "markdown",
      "metadata": {
        "id": "gf_8XEXa-gZ7"
      },
      "source": [
        "## q Federated Averaging"
      ]
    },
    {
      "cell_type": "markdown",
      "metadata": {
        "id": "L-aNdQsQ-Kvp"
      },
      "source": [
        "### Local Training (Client Update)\n",
        "\n",
        "Local training for the model on client side"
      ]
    },
    {
      "cell_type": "code",
      "metadata": {
        "id": "oX6OsQyO-Gz7"
      },
      "source": [
        "class CustomDataset(Dataset):\n",
        "  def __init__(self, dataset, idxs):\n",
        "      self.dataset = dataset\n",
        "      self.idxs = list(idxs)\n",
        "\n",
        "  def __len__(self):\n",
        "      return len(self.idxs)\n",
        "\n",
        "  def __getitem__(self, item):\n",
        "      image, label = self.dataset[self.idxs[item]]\n",
        "      return image, label\n",
        "\n",
        "\n",
        "class ClientUpdate(object):\n",
        "  def __init__(self, dataset, batch_size, learning_rate, epochs, idxs, q=None):\n",
        "    if hasattr(dataset, 'dataloader'):\n",
        "        self.train_loader = dataset.dataloader(batch_size=batch_size, shuffle=True)\n",
        "    else:\n",
        "        self.train_loader = DataLoader(CustomDataset(dataset, idxs), batch_size=batch_size, shuffle=True)\n",
        "\n",
        "    self.learning_rate = learning_rate\n",
        "    self.epochs = epochs\n",
        "    self.q = q\n",
        "    if not self.q:\n",
        "        # TODO: Client itself adjust fairness \n",
        "        pass\n",
        "    self.mu = 1e-10\n",
        "\n",
        "  def train(self, model):\n",
        "    criterion = nn.CrossEntropyLoss()\n",
        "    optimizer = torch.optim.SGD(model.parameters(), lr=self.learning_rate, momentum=0.5)\n",
        "\n",
        "    e_loss = []\n",
        "\n",
        "    model_weights = copy.deepcopy(model.state_dict())\n",
        "    for epoch in range(1, self.epochs+1):\n",
        "\n",
        "      train_loss = 0.0\n",
        "\n",
        "      model.train()\n",
        "      # for data, labels in tqdm(self.train_loader):\n",
        "      for data, labels in self.train_loader:\n",
        "\n",
        "        if torch.cuda.is_available():\n",
        "          data, labels = data.cuda(), labels.cuda()\n",
        "\n",
        "        # clear the gradients\n",
        "        optimizer.zero_grad()\n",
        "        # make a forward pass\n",
        "        output = model(data)\n",
        "        # calculate the loss\n",
        "        loss = criterion(output, labels)\n",
        "        # do a backwards pass\n",
        "        loss.backward()\n",
        "        # perform a single optimization step\n",
        "        optimizer.step()\n",
        "        # update training loss\n",
        "        train_loss += loss.item()*data.size(0)\n",
        "\n",
        "      # average losses\n",
        "      train_loss = train_loss/len(self.train_loader.dataset)\n",
        "      e_loss.append(train_loss)\n",
        "\n",
        "\n",
        "    total_loss = sum(e_loss)/len(e_loss)\n",
        "\n",
        "    # delta weights\n",
        "    model_weights_new = copy.deepcopy(model.state_dict())\n",
        "    L = 1.0 / self.learning_rate\n",
        "\n",
        "    delta_weights, delta, h = {}, {}, {}\n",
        "    loss_q = np.float_power(total_loss + self.mu, self.q)\n",
        "    # updating the global weights\n",
        "    for k in model_weights_new.keys():\n",
        "      delta_weights[k] = (model_weights[k] - model_weights_new[k]) * L\n",
        "      delta[k] =  loss_q * delta_weights[k]\n",
        "      # Estimation of the local Lipchitz constant\n",
        "      h[k] = (self.q * np.float_power(total_loss + self.mu, self.q - 1) * torch.pow(torch.norm(delta_weights[k]), 2)) + (L * loss_q)\n",
        "\n",
        "    return delta, h, total_loss"
      ],
      "execution_count": 15,
      "outputs": []
    },
    {
      "cell_type": "markdown",
      "metadata": {
        "id": "Ukgh1DVHE2Ds"
      },
      "source": [
        "### Server Side Training\n",
        "\n",
        "Following Algorithm 1 from the paper"
      ]
    },
    {
      "cell_type": "code",
      "metadata": {
        "id": "wRFO75rSaXNc"
      },
      "source": [
        "def client_sampling(n, m, weights=None, with_replace=False):\n",
        "    pk = None\n",
        "    if weights:\n",
        "        total_weights = np.sum(np.asarray(weights))\n",
        "        pk = [w * 1.0 / total_weights for w in weights]\n",
        "\n",
        "    return np.random.choice(range(n), m, replace=with_replace, p=pk)"
      ],
      "execution_count": 16,
      "outputs": []
    },
    {
      "cell_type": "code",
      "metadata": {
        "id": "1NF1e33BgpeL"
      },
      "source": [
        "def training(model, rounds, batch_size, lr, ds, ds_test, data_dict, C, K, E, q, sampling, plt_title, plt_color):\n",
        "  \"\"\"\n",
        "  Function implements the Federated Averaging Algorithm from the FedAvg paper.\n",
        "  Specifically, this function is used for the server side training and weight update\n",
        "\n",
        "  Params:\n",
        "    - model:           PyTorch model to train\n",
        "    - rounds:          Number of communication rounds for the client update\n",
        "    - batch_size:      Batch size for client update training\n",
        "    - lr:              Learning rate used for client update training\n",
        "    - ds:              Dataset used for training\n",
        "    - ds_test:         Dataset used for testing\n",
        "    - data_dict:       Type of data partition used for training (IID or non-IID)\n",
        "    - C:               Fraction of clients randomly chosen to perform computation on each round\n",
        "    - K:               Total number of clients\n",
        "    - E:               Number of training passes each client makes over its local dataset per round\n",
        "    - tb_writer_name:  Directory name to save the tensorboard logs\n",
        "  Returns:\n",
        "    - model:           Trained model on the server\n",
        "  \"\"\"\n",
        "\n",
        "  # global model weights\n",
        "  global_weights = model.state_dict()\n",
        "\n",
        "  # training loss\n",
        "  # train_accuracy = []\n",
        "  train_loss = []\n",
        "  test_accuracy = []\n",
        "  test_loss = []\n",
        "  f1_macro = []\n",
        "  f1_weighted = []\n",
        "\n",
        "  # client weights by total samples\n",
        "  p_k = None\n",
        "  if sampling == 'weighted':\n",
        "    p_k = [len(data_dict[c]) for c in data_dict] if ds else [len(data_dict[c]['train_ds']) for c in data_dict]\n",
        "\n",
        "  # Time log\n",
        "  start_time = time.time()\n",
        "\n",
        "  users_id = list(data_dict.keys())\n",
        "\n",
        "  for curr_round in range(1, rounds+1):\n",
        "    deltas, hs, local_loss = [], [], []\n",
        "\n",
        "    m = max(int(C*K), 1)    \n",
        "    S_t = client_sampling(K, m, weights=p_k, with_replace=False)\n",
        "\n",
        "    print('Round: {} Picking {}/{} clients: {}'.format(curr_round, m, K, S_t))\n",
        "\n",
        "    global_weights = model.state_dict()\n",
        "\n",
        "    for k in range(len(S_t)):\n",
        "      key = users_id[k]\n",
        "      ds_ = ds if ds else data_dict[key]['train_ds']\n",
        "      idxs = data_dict[key] if ds else None\n",
        "      local_update = ClientUpdate(dataset=ds_, batch_size=batch_size, learning_rate=lr, epochs=E, idxs=idxs, q=q)\n",
        "      delta_k, h_k, loss = local_update.train(model=copy.deepcopy(model))\n",
        "\n",
        "      deltas.append(copy.deepcopy(delta_k))\n",
        "      hs.append(copy.deepcopy(h_k))\n",
        "      local_loss.append(copy.deepcopy(loss))\n",
        "\n",
        "    # Perform qFedAvg\n",
        "    h_sum = copy.deepcopy(hs[0])\n",
        "    delta_sum = copy.deepcopy(deltas[0])\n",
        "    \n",
        "    for k in h_sum.keys():\n",
        "        for i in range(1, len(hs)):\n",
        "            h_sum[k] += hs[i][k]\n",
        "            delta_sum[k] += deltas[i][k]\n",
        "\n",
        "    new_weights = {}\n",
        "    for k in delta_sum.keys():\n",
        "        for i in range(len(deltas)):\n",
        "            new_weights[k] = delta_sum[k] / h_sum[k]\n",
        "\n",
        "    # Updating global model weights\n",
        "    for k in global_weights.keys():\n",
        "        if 'num_batches_tracked' in k:\n",
        "            continue\n",
        "        global_weights[k] -= new_weights[k]\n",
        "\n",
        "    # move the updated weights to our model state dict\n",
        "    model.load_state_dict(global_weights)\n",
        "\n",
        "    # loss\n",
        "    loss_avg = sum(local_loss) / len(local_loss)\n",
        "    print('Round: {}... \\tAverage Loss: {}'.format(curr_round, round(loss_avg, 3)))\n",
        "    train_loss.append(loss_avg)\n",
        "\n",
        "    # test\n",
        "    test_criterion = nn.CrossEntropyLoss()\n",
        "    test_accuracy_current, test_loss_current, f1_macro_current, f1_weighted_current =  testing(copy.deepcopy(model), ds_test, 128, test_criterion, num_classes, classes_test)\n",
        "    test_accuracy.append(test_accuracy_current)\n",
        "    test_loss.append(test_loss_current)\n",
        "    f1_macro.append(f1_macro_current)\n",
        "    f1_weighted.append(f1_weighted_current)\n",
        "\n",
        "  end_time = time.time()\n",
        "  \n",
        "  fig, ax = plt.subplots()\n",
        "  x_axis = np.arange(1, rounds+1)\n",
        "  y_axis = np.array(train_loss)\n",
        "  ax.plot(x_axis, y_axis, 'tab:'+plt_color)\n",
        "\n",
        "  ax.set(xlabel='Number of Rounds', ylabel='Train Loss',\n",
        "       title=plt_title)\n",
        "  ax.grid()\n",
        "  fig.savefig(plt_title+'_Train_loss.jpg', format='jpg')\n",
        "  plt.show()\n",
        "\n",
        "  fig, ax = plt.subplots()\n",
        "  x_axis = np.arange(1, rounds+1)\n",
        "  y_axis = np.array(test_loss)\n",
        "  ax.plot(x_axis, y_axis, 'tab:'+plt_color)\n",
        "\n",
        "  ax.set(xlabel='Number of Rounds', ylabel='Test Loss',\n",
        "       title=plt_title)\n",
        "  ax.grid()\n",
        "  fig.savefig(plt_title+'_Test_loss.jpg', format='jpg')\n",
        "  plt.show()\n",
        "\n",
        "  fig, ax = plt.subplots()\n",
        "  x_axis = np.arange(1, rounds+1)\n",
        "  y_axis = np.array(test_accuracy)\n",
        "  ax.plot(x_axis, y_axis, 'tab:'+plt_color)\n",
        "\n",
        "  ax.set(xlabel='Number of Rounds', ylabel='Test Accuracy',\n",
        "       title=plt_title)\n",
        "  ax.grid()\n",
        "  fig.savefig(plt_title+'_Test_Accuracy.jpg', format='jpg')\n",
        "  plt.show()\n",
        "\n",
        "  fig, ax = plt.subplots()\n",
        "  x_axis = np.arange(1, rounds+1)\n",
        "  y_axis = np.array(f1_macro)\n",
        "  ax.plot(x_axis, y_axis, 'tab:'+plt_color)\n",
        "\n",
        "  ax.set(xlabel='Number of Rounds', ylabel='F1 Macro',\n",
        "       title=plt_title)\n",
        "  ax.grid()\n",
        "  fig.savefig(plt_title+'_F1_Marco.jpg', format='jpg')\n",
        "  plt.show()\n",
        "\n",
        "  fig, ax = plt.subplots()\n",
        "  x_axis = np.arange(1, rounds+1)\n",
        "  y_axis = np.array(f1_weighted)\n",
        "  ax.plot(x_axis, y_axis, 'tab:'+plt_color)\n",
        "\n",
        "  ax.set(xlabel='Number of Rounds', ylabel='F1 Weighted',\n",
        "       title=plt_title)\n",
        "  ax.grid()\n",
        "  fig.savefig(plt_title+'_F1_Weighted.jpg', format='jpg')\n",
        "  plt.show()\n",
        "\n",
        "  print(\"Training Done!\")\n",
        "  print(\"Total time taken to Train: {}\\n\\n\".format(end_time-start_time))\n",
        "  \n",
        "  return model, train_loss, test_accuracy, test_loss, f1_macro, f1_weighted"
      ],
      "execution_count": 17,
      "outputs": []
    },
    {
      "cell_type": "markdown",
      "metadata": {
        "id": "tUYyb4T-uXmF"
      },
      "source": [
        "## Testing Loop"
      ]
    },
    {
      "cell_type": "code",
      "metadata": {
        "id": "uCcIZmO5uan9"
      },
      "source": [
        "def testing(model, dataset, bs, criterion, num_classes, classes, print_info=False):\n",
        "  #test loss \n",
        "  test_loss = 0.0\n",
        "  y_true, y_hat = None, None\n",
        "\n",
        "  correct_class = list(0 for i in range(num_classes))\n",
        "  total_class = list(0 for i in range(num_classes))\n",
        "\n",
        "  if hasattr(dataset, 'dataloader'):\n",
        "    test_loader = dataset.dataloader(batch_size=bs, shuffle=False)\n",
        "  else:\n",
        "    test_loader = DataLoader(dataset, batch_size=bs, shuffle=False)\n",
        "\n",
        "  l = len(test_loader)\n",
        "\n",
        "  model.eval()\n",
        "  for i, (data, labels) in enumerate(test_loader):\n",
        "\n",
        "    if torch.cuda.is_available():\n",
        "      data, labels = data.cuda(), labels.cuda()\n",
        "\n",
        "    output = model(data)\n",
        "    loss = criterion(output, labels)\n",
        "    test_loss += loss.item()*data.size(0)\n",
        "\n",
        "    _, pred = torch.max(output, dim=1)\n",
        "\n",
        "    # For F1Score\n",
        "    y_true = np.append(y_true, labels.data.view_as(pred).cpu().numpy()) if i != 0 else labels.data.view_as(pred).cpu().numpy()\n",
        "    y_hat = np.append(y_hat, pred.cpu().numpy()) if i != 0 else pred.cpu().numpy()\n",
        "\n",
        "    correct_tensor = pred.eq(labels.data.view_as(pred))\n",
        "    correct = np.squeeze(correct_tensor.numpy()) if not torch.cuda.is_available() else np.squeeze(correct_tensor.cpu().numpy())\n",
        "\n",
        "    for i, lbl in enumerate(labels.data):\n",
        "      try:\n",
        "        correct_class[lbl.item()] += correct[i]\n",
        "        total_class[lbl.item()] += 1\n",
        "      except:\n",
        "          print('Error', lbl, i)\n",
        "    \n",
        "  # avg test loss\n",
        "  test_loss = test_loss/len(test_loader.dataset)\n",
        "  test_accuracy = 100. * np.sum(correct_class) / np.sum(total_class)\n",
        "  # Avg F1 Score\n",
        "  f1_macro = f1_score(y_true, y_hat, average='macro')\n",
        "  # F1-Score -> weigthed to consider class imbalance\n",
        "  f1_weighted =  f1_score(y_true, y_hat, average='weighted')\n",
        "\n",
        "  if print_info:\n",
        "    print(\"Test Loss: {:.6f}\\n\".format(test_loss))\n",
        "\n",
        "    for i in range(10):\n",
        "      if total_class[i]>0:\n",
        "        print('Test Accuracy of %5s: %2d%% (%2d/%2d)' % \n",
        "              (classes[i], 100 * correct_class[i] / total_class[i],\n",
        "              np.sum(correct_class[i]), np.sum(total_class[i])))\n",
        "      else:\n",
        "        print('Test Accuracy of %5s: N/A (no training examples)' % (classes[i]))\n",
        "\n",
        "    print('\\nFinal Test  Accuracy: {:.3f} ({}/{})'.format(\n",
        "          100. * np.sum(correct_class) / np.sum(total_class),\n",
        "          np.sum(correct_class), np.sum(total_class)))\n",
        "\n",
        "    print(\"F1 Score: {:.6f} (macro) {:.6f} (weighted) %\\n\".format(f1_macro, f1_weighted))\n",
        "  \n",
        "  return test_accuracy, test_loss, f1_macro, f1_weighted"
      ],
      "execution_count": 18,
      "outputs": []
    },
    {
      "cell_type": "markdown",
      "metadata": {
        "id": "Ri0FqXFeHW-V"
      },
      "source": [
        "## Logger"
      ]
    },
    {
      "cell_type": "code",
      "metadata": {
        "id": "cMBtx9P5c1V_"
      },
      "source": [
        "log_dict = {}\n",
        "NUM_REPEAT = 1"
      ],
      "execution_count": 19,
      "outputs": []
    },
    {
      "cell_type": "markdown",
      "metadata": {
        "id": "4hO5oV6aXqeh"
      },
      "source": [
        "## CIFAR CNN on IID"
      ]
    },
    {
      "cell_type": "markdown",
      "metadata": {
        "id": "flSQv_P4zCfx"
      },
      "source": [
        "### Train\n"
      ]
    },
    {
      "cell_type": "code",
      "metadata": {
        "id": "0ZalcKZtEseA",
        "colab": {
          "base_uri": "https://localhost:8080/",
          "height": 1000
        },
        "outputId": "0586af7a-c285-4434-b525-093b044d3a58"
      },
      "source": [
        "train_loss_multiple_runs = [None] * NUM_REPEAT\n",
        "test_accuracy_multiple_runs = [None] * NUM_REPEAT\n",
        "test_loss_multiple_runs = [None] * NUM_REPEAT\n",
        "f1_macro_multiple_runs = [None] * NUM_REPEAT\n",
        "f1_weighted_multiple_runs = [None] * NUM_REPEAT\n",
        "\n",
        "for exp_num in range(NUM_REPEAT):\n",
        "  print(\"Experiment Run Number: \", exp_num)\n",
        "\n",
        "  # number of training rounds\n",
        "  rounds = 50\n",
        "  # client fraction\n",
        "  C = 0.1\n",
        "  # number of clients\n",
        "  K = 10\n",
        "  # number of training passes on local dataset for each roung\n",
        "  E = 5\n",
        "  # batch size\n",
        "  batch_size = 10\n",
        "  # learning Rate\n",
        "  lr=0.05\n",
        "  # fairness\n",
        "  q = 0.001\n",
        "  # sampling\n",
        "  # sampling = 'uniform'\n",
        "  sampling = 'weighted'\n",
        "  \n",
        "  # data partition dictionary\n",
        "  iid_dict = iid_partition(cifar_data_train, 10)\n",
        "  # load model\n",
        "  cifar_cnn = CIFAR_CNN()\n",
        "\n",
        "  if torch.cuda.is_available():\n",
        "    cifar_cnn.cuda()\n",
        "\n",
        "  cifar_cnn_iid_trained, train_loss, test_accuracy, test_loss, f1_macro, f1_weighted = training(cifar_cnn, rounds, batch_size, lr, cifar_data_train, cifar_data_test, iid_dict, C, K, E, q, sampling, \"CIFAR CNN on IID Dataset\", \"orange\")\n",
        "\n",
        "  train_loss_multiple_runs[exp_num] = train_loss\n",
        "  test_accuracy_multiple_runs[exp_num] = test_accuracy\n",
        "  test_loss_multiple_runs[exp_num] = test_loss\n",
        "  f1_macro_multiple_runs[exp_num] = f1_macro\n",
        "  f1_weighted_multiple_runs[exp_num] = f1_weighted\n",
        "    \n",
        "  del cifar_cnn_iid_trained\n",
        "  torch.cuda.empty_cache()"
      ],
      "execution_count": 20,
      "outputs": [
        {
          "output_type": "stream",
          "text": [
            "Experiment Run Number:  0\n",
            "Round: 1 Picking 1/10 clients: [2]\n",
            "Round: 1... \tAverage Loss: 1.825\n",
            "Round: 2 Picking 1/10 clients: [0]\n",
            "Round: 2... \tAverage Loss: 1.458\n",
            "Round: 3 Picking 1/10 clients: [6]\n",
            "Round: 3... \tAverage Loss: 1.201\n",
            "Round: 4 Picking 1/10 clients: [1]\n",
            "Round: 4... \tAverage Loss: 1.011\n",
            "Round: 5 Picking 1/10 clients: [2]\n",
            "Round: 5... \tAverage Loss: 0.872\n",
            "Round: 6 Picking 1/10 clients: [1]\n",
            "Round: 6... \tAverage Loss: 0.756\n",
            "Round: 7 Picking 1/10 clients: [5]\n",
            "Round: 7... \tAverage Loss: 0.675\n",
            "Round: 8 Picking 1/10 clients: [5]\n",
            "Round: 8... \tAverage Loss: 0.606\n",
            "Round: 9 Picking 1/10 clients: [9]\n",
            "Round: 9... \tAverage Loss: 0.549\n",
            "Round: 10 Picking 1/10 clients: [5]\n",
            "Round: 10... \tAverage Loss: 0.5\n",
            "Round: 11 Picking 1/10 clients: [2]\n",
            "Round: 11... \tAverage Loss: 0.459\n",
            "Round: 12 Picking 1/10 clients: [2]\n",
            "Round: 12... \tAverage Loss: 0.423\n",
            "Round: 13 Picking 1/10 clients: [0]\n",
            "Round: 13... \tAverage Loss: 0.386\n",
            "Round: 14 Picking 1/10 clients: [7]\n",
            "Round: 14... \tAverage Loss: 0.365\n",
            "Round: 15 Picking 1/10 clients: [6]\n",
            "Round: 15... \tAverage Loss: 0.342\n",
            "Round: 16 Picking 1/10 clients: [2]\n",
            "Round: 16... \tAverage Loss: 0.322\n",
            "Round: 17 Picking 1/10 clients: [2]\n",
            "Round: 17... \tAverage Loss: 0.301\n",
            "Round: 18 Picking 1/10 clients: [2]\n",
            "Round: 18... \tAverage Loss: 0.288\n",
            "Round: 19 Picking 1/10 clients: [8]\n",
            "Round: 19... \tAverage Loss: 0.279\n",
            "Round: 20 Picking 1/10 clients: [8]\n",
            "Round: 20... \tAverage Loss: 0.245\n",
            "Round: 21 Picking 1/10 clients: [6]\n",
            "Round: 21... \tAverage Loss: 0.234\n",
            "Round: 22 Picking 1/10 clients: [9]\n",
            "Round: 22... \tAverage Loss: 0.226\n",
            "Round: 23 Picking 1/10 clients: [9]\n",
            "Round: 23... \tAverage Loss: 0.212\n",
            "Round: 24 Picking 1/10 clients: [9]\n",
            "Round: 24... \tAverage Loss: 0.204\n",
            "Round: 25 Picking 1/10 clients: [2]\n",
            "Round: 25... \tAverage Loss: 0.193\n",
            "Round: 26 Picking 1/10 clients: [7]\n",
            "Round: 26... \tAverage Loss: 0.186\n",
            "Round: 27 Picking 1/10 clients: [9]\n",
            "Round: 27... \tAverage Loss: 0.174\n",
            "Round: 28 Picking 1/10 clients: [8]\n",
            "Round: 28... \tAverage Loss: 0.172\n",
            "Round: 29 Picking 1/10 clients: [9]\n",
            "Round: 29... \tAverage Loss: 0.166\n",
            "Round: 30 Picking 1/10 clients: [6]\n",
            "Round: 30... \tAverage Loss: 0.141\n",
            "Round: 31 Picking 1/10 clients: [1]\n",
            "Round: 31... \tAverage Loss: 0.151\n",
            "Round: 32 Picking 1/10 clients: [8]\n",
            "Round: 32... \tAverage Loss: 0.143\n",
            "Round: 33 Picking 1/10 clients: [0]\n",
            "Round: 33... \tAverage Loss: 0.142\n",
            "Round: 34 Picking 1/10 clients: [9]\n",
            "Round: 34... \tAverage Loss: 0.132\n",
            "Round: 35 Picking 1/10 clients: [6]\n",
            "Round: 35... \tAverage Loss: 0.135\n",
            "Round: 36 Picking 1/10 clients: [1]\n",
            "Round: 36... \tAverage Loss: 0.118\n",
            "Round: 37 Picking 1/10 clients: [8]\n",
            "Round: 37... \tAverage Loss: 0.108\n",
            "Round: 38 Picking 1/10 clients: [1]\n",
            "Round: 38... \tAverage Loss: 0.115\n",
            "Round: 39 Picking 1/10 clients: [1]\n",
            "Round: 39... \tAverage Loss: 0.112\n",
            "Round: 40 Picking 1/10 clients: [9]\n",
            "Round: 40... \tAverage Loss: 0.115\n",
            "Round: 41 Picking 1/10 clients: [6]\n",
            "Round: 41... \tAverage Loss: 0.096\n",
            "Round: 42 Picking 1/10 clients: [1]\n",
            "Round: 42... \tAverage Loss: 0.104\n",
            "Round: 43 Picking 1/10 clients: [6]\n",
            "Round: 43... \tAverage Loss: 0.081\n",
            "Round: 44 Picking 1/10 clients: [2]\n",
            "Round: 44... \tAverage Loss: 0.088\n",
            "Round: 45 Picking 1/10 clients: [2]\n",
            "Round: 45... \tAverage Loss: 0.093\n",
            "Round: 46 Picking 1/10 clients: [4]\n",
            "Round: 46... \tAverage Loss: 0.075\n",
            "Round: 47 Picking 1/10 clients: [4]\n",
            "Round: 47... \tAverage Loss: 0.079\n",
            "Round: 48 Picking 1/10 clients: [7]\n",
            "Round: 48... \tAverage Loss: 0.085\n",
            "Round: 49 Picking 1/10 clients: [7]\n",
            "Round: 49... \tAverage Loss: 0.07\n",
            "Round: 50 Picking 1/10 clients: [4]\n",
            "Round: 50... \tAverage Loss: 0.073\n"
          ],
          "name": "stdout"
        },
        {
          "output_type": "display_data",
          "data": {
            "image/png": "[encoded data removed]",
            "text/plain": [
              "<Figure size 432x288 with 1 Axes>"
            ]
          },
          "metadata": {
            "tags": [],
            "needs_background": "light"
          }
        },
        {
          "output_type": "display_data",
          "data": {
            "image/png": "[encoded data removed]",
            "text/plain": [
              "<Figure size 432x288 with 1 Axes>"
            ]
          },
          "metadata": {
            "tags": [],
            "needs_background": "light"
          }
        },
        {
          "output_type": "display_data",
          "data": {
            "image/png": "[encoded data removed]",
            "text/plain": [
              "<Figure size 432x288 with 1 Axes>"
            ]
          },
          "metadata": {
            "tags": [],
            "needs_background": "light"
          }
        },
        {
          "output_type": "display_data",
          "data": {
            "image/png": "[encoded data removed]",
            "text/plain": [
              "<Figure size 432x288 with 1 Axes>"
            ]
          },
          "metadata": {
            "tags": [],
            "needs_background": "light"
          }
        },
        {
          "output_type": "display_data",
          "data": {
            "image/png": "[encoded data removed]",
            "text/plain": [
              "<Figure size 432x288 with 1 Axes>"
            ]
          },
          "metadata": {
            "tags": [],
            "needs_background": "light"
          }
        },
        {
          "output_type": "stream",
          "text": [
            "Training Done!\n",
            "Total time taken to Train: 1189.2904913425446\n",
            "\n",
            "\n"
          ],
          "name": "stdout"
        }
      ]
    },
    {
      "cell_type": "markdown",
      "metadata": {
        "id": "wNwC82przF6G"
      },
      "source": [
        "### Test"
      ]
    },
    {
      "cell_type": "code",
      "metadata": {
        "id": "qB97BFs9we9w"
      },
      "source": [
        "# criterion = nn.CrossEntropyLoss()\n",
        "# acc, loss, f1_macro, f1_weighted = testing(cifar_cnn_iid_trained, cifar_data_test, 128, criterion, num_classes, classes_test, True)"
      ],
      "execution_count": 22,
      "outputs": []
    },
    {
      "cell_type": "code",
      "metadata": {
        "id": "gdQZEZmHHeqt"
      },
      "source": [
        "hyperparams = {'rounds': rounds,\n",
        "               'C': C,\n",
        "               'K': K,\n",
        "               'E': E,\n",
        "               'batch_size': batch_size,\n",
        "               'lr': lr,\n",
        "               'q': q,\n",
        "               'sampling': sampling\n",
        "               }\n",
        "\n",
        "log_dict['CIFAR CNN on IID'] = {'train_loss': train_loss_multiple_runs, \n",
        "                                'test_loss': test_loss_multiple_runs, \n",
        "                                'test_accuracy': test_accuracy_multiple_runs,\n",
        "                                'f1_macro': f1_macro_multiple_runs,\n",
        "                                'f1_weighted': f1_weighted_multiple_runs,\n",
        "                                'hyperparams': hyperparams,\n",
        "                                }"
      ],
      "execution_count": 23,
      "outputs": []
    },
    {
      "cell_type": "markdown",
      "metadata": {
        "id": "uF8MdSIUYcnl"
      },
      "source": [
        "## CIFAR CNN on Non IID"
      ]
    },
    {
      "cell_type": "markdown",
      "metadata": {
        "id": "a6wXX7JW11bx"
      },
      "source": [
        "### Train\n"
      ]
    },
    {
      "cell_type": "code",
      "metadata": {
        "id": "fCD3kBCKYfBK",
        "colab": {
          "base_uri": "https://localhost:8080/",
          "height": 1000
        },
        "outputId": "f98f2a7f-e0a9-4cf4-fe9e-83c1afcbdea3"
      },
      "source": [
        "train_loss_multiple_runs = [None] * NUM_REPEAT\n",
        "test_accuracy_multiple_runs = [None] * NUM_REPEAT\n",
        "test_loss_multiple_runs = [None] * NUM_REPEAT\n",
        "f1_macro_multiple_runs = [None] * NUM_REPEAT\n",
        "f1_weighted_multiple_runs = [None] * NUM_REPEAT\n",
        "\n",
        "for exp_num in range(NUM_REPEAT):\n",
        "  print(\"Experiment Run Number: \", exp_num)\n",
        "\n",
        "  # number of training rounds\n",
        "  rounds = 50\n",
        "  # client fraction\n",
        "  C = 0.1\n",
        "  # number of clients\n",
        "  K = 10\n",
        "  # number of training passes on local dataset for each roung\n",
        "  E = 5\n",
        "  # batch size\n",
        "  batch_size = 10\n",
        "  # learning Rate\n",
        "  lr=0.05\n",
        "  # fairness\n",
        "  q = 0.001\n",
        "  # sampling\n",
        "  # sampling = 'uniform'\n",
        "  sampling = 'weighted'\n",
        "  \n",
        "  # dict containing different type of data partition\n",
        "  data_dict = non_iid_partition(cifar_data_train, 10, 20, 2500, 2)\n",
        "  # load model\n",
        "  cifar_cnn = CIFAR_CNN()\n",
        "\n",
        "  if torch.cuda.is_available():\n",
        "    cifar_cnn.cuda()\n",
        " \n",
        "  cifar_cnn_non_iid_trained, train_loss, test_accuracy, test_loss, f1_macro, f1_weighted = training(cifar_cnn, rounds, batch_size, lr, cifar_data_train, cifar_data_test, data_dict, C, K, E, q, sampling, \"CIFAR CNN on Non-IID Dataset\", \"green\")\n",
        "\n",
        "  train_loss_multiple_runs[exp_num] = train_loss\n",
        "  test_accuracy_multiple_runs[exp_num] = test_accuracy\n",
        "  test_loss_multiple_runs[exp_num] = test_loss\n",
        "  f1_macro_multiple_runs[exp_num] = f1_macro\n",
        "  f1_weighted_multiple_runs[exp_num] = f1_weighted\n",
        "\n",
        "  del cifar_cnn_non_iid_trained\n",
        "  torch.cuda.empty_cache()"
      ],
      "execution_count": 24,
      "outputs": [
        {
          "output_type": "stream",
          "text": [
            "Experiment Run Number:  0\n",
            "Round: 1 Picking 1/10 clients: [8]\n",
            "Round: 1... \tAverage Loss: 0.442\n",
            "Round: 2 Picking 1/10 clients: [3]\n",
            "Round: 2... \tAverage Loss: 0.295\n",
            "Round: 3 Picking 1/10 clients: [8]\n",
            "Round: 3... \tAverage Loss: 0.239\n",
            "Round: 4 Picking 1/10 clients: [1]\n",
            "Round: 4... \tAverage Loss: 0.204\n",
            "Round: 5 Picking 1/10 clients: [9]\n",
            "Round: 5... \tAverage Loss: 0.171\n",
            "Round: 6 Picking 1/10 clients: [6]\n",
            "Round: 6... \tAverage Loss: 0.152\n",
            "Round: 7 Picking 1/10 clients: [6]\n",
            "Round: 7... \tAverage Loss: 0.132\n",
            "Round: 8 Picking 1/10 clients: [0]\n",
            "Round: 8... \tAverage Loss: 0.119\n",
            "Round: 9 Picking 1/10 clients: [9]\n",
            "Round: 9... \tAverage Loss: 0.108\n",
            "Round: 10 Picking 1/10 clients: [6]\n",
            "Round: 10... \tAverage Loss: 0.095\n",
            "Round: 11 Picking 1/10 clients: [2]\n",
            "Round: 11... \tAverage Loss: 0.088\n",
            "Round: 12 Picking 1/10 clients: [4]\n",
            "Round: 12... \tAverage Loss: 0.077\n",
            "Round: 13 Picking 1/10 clients: [8]\n",
            "Round: 13... \tAverage Loss: 0.072\n",
            "Round: 14 Picking 1/10 clients: [8]\n",
            "Round: 14... \tAverage Loss: 0.067\n",
            "Round: 15 Picking 1/10 clients: [0]\n",
            "Round: 15... \tAverage Loss: 0.065\n",
            "Round: 16 Picking 1/10 clients: [2]\n",
            "Round: 16... \tAverage Loss: 0.057\n",
            "Round: 17 Picking 1/10 clients: [3]\n",
            "Round: 17... \tAverage Loss: 0.05\n",
            "Round: 18 Picking 1/10 clients: [1]\n",
            "Round: 18... \tAverage Loss: 0.048\n",
            "Round: 19 Picking 1/10 clients: [8]\n",
            "Round: 19... \tAverage Loss: 0.047\n",
            "Round: 20 Picking 1/10 clients: [1]\n",
            "Round: 20... \tAverage Loss: 0.044\n",
            "Round: 21 Picking 1/10 clients: [1]\n",
            "Round: 21... \tAverage Loss: 0.042\n",
            "Round: 22 Picking 1/10 clients: [8]\n",
            "Round: 22... \tAverage Loss: 0.04\n",
            "Round: 23 Picking 1/10 clients: [7]\n",
            "Round: 23... \tAverage Loss: 0.035\n",
            "Round: 24 Picking 1/10 clients: [5]\n",
            "Round: 24... \tAverage Loss: 0.035\n",
            "Round: 25 Picking 1/10 clients: [6]\n",
            "Round: 25... \tAverage Loss: 0.032\n",
            "Round: 26 Picking 1/10 clients: [5]\n",
            "Round: 26... \tAverage Loss: 0.028\n",
            "Round: 27 Picking 1/10 clients: [8]\n",
            "Round: 27... \tAverage Loss: 0.03\n",
            "Round: 28 Picking 1/10 clients: [3]\n",
            "Round: 28... \tAverage Loss: 0.03\n",
            "Round: 29 Picking 1/10 clients: [9]\n",
            "Round: 29... \tAverage Loss: 0.026\n",
            "Round: 30 Picking 1/10 clients: [7]\n",
            "Round: 30... \tAverage Loss: 0.027\n",
            "Round: 31 Picking 1/10 clients: [1]\n",
            "Round: 31... \tAverage Loss: 0.026\n",
            "Round: 32 Picking 1/10 clients: [2]\n",
            "Round: 32... \tAverage Loss: 0.02\n",
            "Round: 33 Picking 1/10 clients: [5]\n",
            "Round: 33... \tAverage Loss: 0.019\n",
            "Round: 34 Picking 1/10 clients: [3]\n",
            "Round: 34... \tAverage Loss: 0.019\n",
            "Round: 35 Picking 1/10 clients: [6]\n",
            "Round: 35... \tAverage Loss: 0.021\n",
            "Round: 36 Picking 1/10 clients: [7]\n",
            "Round: 36... \tAverage Loss: 0.018\n",
            "Round: 37 Picking 1/10 clients: [9]\n",
            "Round: 37... \tAverage Loss: 0.018\n",
            "Round: 38 Picking 1/10 clients: [0]\n",
            "Round: 38... \tAverage Loss: 0.018\n",
            "Round: 39 Picking 1/10 clients: [2]\n",
            "Round: 39... \tAverage Loss: 0.014\n",
            "Round: 40 Picking 1/10 clients: [1]\n",
            "Round: 40... \tAverage Loss: 0.011\n",
            "Round: 41 Picking 1/10 clients: [2]\n",
            "Round: 41... \tAverage Loss: 0.014\n",
            "Round: 42 Picking 1/10 clients: [8]\n",
            "Round: 42... \tAverage Loss: 0.012\n",
            "Round: 43 Picking 1/10 clients: [8]\n",
            "Round: 43... \tAverage Loss: 0.016\n",
            "Round: 44 Picking 1/10 clients: [1]\n",
            "Round: 44... \tAverage Loss: 0.015\n",
            "Round: 45 Picking 1/10 clients: [4]\n",
            "Round: 45... \tAverage Loss: 0.01\n",
            "Round: 46 Picking 1/10 clients: [2]\n",
            "Round: 46... \tAverage Loss: 0.013\n",
            "Round: 47 Picking 1/10 clients: [1]\n",
            "Round: 47... \tAverage Loss: 0.012\n",
            "Round: 48 Picking 1/10 clients: [8]\n",
            "Round: 48... \tAverage Loss: 0.015\n",
            "Round: 49 Picking 1/10 clients: [2]\n",
            "Round: 49... \tAverage Loss: 0.014\n",
            "Round: 50 Picking 1/10 clients: [4]\n",
            "Round: 50... \tAverage Loss: 0.014\n"
          ],
          "name": "stdout"
        },
        {
          "output_type": "display_data",
          "data": {
            "image/png": "[encoded data removed]",
            "text/plain": [
              "<Figure size 432x288 with 1 Axes>"
            ]
          },
          "metadata": {
            "tags": [],
            "needs_background": "light"
          }
        },
        {
          "output_type": "display_data",
          "data": {
            "image/png": "[encoded data removed]",
            "text/plain": [
              "<Figure size 432x288 with 1 Axes>"
            ]
          },
          "metadata": {
            "tags": [],
            "needs_background": "light"
          }
        },
        {
          "output_type": "display_data",
          "data": {
            "image/png": "[encoded data removed]",
            "text/plain": [
              "<Figure size 432x288 with 1 Axes>"
            ]
          },
          "metadata": {
            "tags": [],
            "needs_background": "light"
          }
        },
        {
          "output_type": "display_data",
          "data": {
            "image/png": "[encoded data removed]",
            "text/plain": [
              "<Figure size 432x288 with 1 Axes>"
            ]
          },
          "metadata": {
            "tags": [],
            "needs_background": "light"
          }
        },
        {
          "output_type": "display_data",
          "data": {
            "image/png": "[encoded data removed]",
            "text/plain": [
              "<Figure size 432x288 with 1 Axes>"
            ]
          },
          "metadata": {
            "tags": [],
            "needs_background": "light"
          }
        },
        {
          "output_type": "stream",
          "text": [
            "Training Done!\n",
            "Total time taken to Train: 1186.458827972412\n",
            "\n",
            "\n"
          ],
          "name": "stdout"
        }
      ]
    },
    {
      "cell_type": "markdown",
      "metadata": {
        "id": "4C68J-Kk14dB"
      },
      "source": [
        "### Test"
      ]
    },
    {
      "cell_type": "code",
      "metadata": {
        "id": "_yQ9GiAZ15jE"
      },
      "source": [
        "# criterion = nn.CrossEntropyLoss()\n",
        "# acc, loss, f1_macro, f1_weighted = testing(cifar_cnn_non_iid_trained, cifar_data_test, 128, criterion, num_classes, classes_test, True)"
      ],
      "execution_count": 27,
      "outputs": []
    },
    {
      "cell_type": "code",
      "metadata": {
        "id": "dxMcxgLhLvX-"
      },
      "source": [
        "hyperparams = {'rounds': rounds,\n",
        "               'C': C,\n",
        "               'K': K,\n",
        "               'E': E,\n",
        "               'batch_size': batch_size,\n",
        "               'lr': lr,\n",
        "               'q': q,\n",
        "               'sampling': sampling\n",
        "               }\n",
        "\n",
        "log_dict['CIFAR CNN on Non IID'] = {'train_loss': train_loss_multiple_runs, \n",
        "                                'test_loss': test_loss_multiple_runs, \n",
        "                                'test_accuracy': test_accuracy_multiple_runs,\n",
        "                                'f1_macro': f1_macro_multiple_runs,\n",
        "                                'f1_weighted': f1_weighted_multiple_runs,\n",
        "                                'hyperparams': hyperparams,\n",
        "                                }"
      ],
      "execution_count": 28,
      "outputs": []
    },
    {
      "cell_type": "markdown",
      "metadata": {
        "id": "ptMieSimVxid"
      },
      "source": [
        "## CIFAR MLP on IID"
      ]
    },
    {
      "cell_type": "markdown",
      "metadata": {
        "id": "mz3f_fOxVxie"
      },
      "source": [
        "### Train"
      ]
    },
    {
      "cell_type": "code",
      "metadata": {
        "id": "5ZGAZPhtVxie"
      },
      "source": [
        "# train_loss_multiple_runs = [None] * NUM_REPEAT\n",
        "# test_accuracy_multiple_runs = [None] * NUM_REPEAT\n",
        "# test_loss_multiple_runs = [None] * NUM_REPEAT\n",
        "# f1_macro_multiple_runs = [None] * NUM_REPEAT\n",
        "# f1_weighted_multiple_runs = [None] * NUM_REPEAT\n",
        "\n",
        "# for exp_num in range(NUM_REPEAT):\n",
        "#   print(\"Experiment Run Number: \", exp_num)\n",
        "\n",
        "#   # number of training rounds\n",
        "#   rounds = 50\n",
        "#   # client fraction\n",
        "#   C = 0.1\n",
        "#   # number of clients\n",
        "#   K = 100\n",
        "#   # number of training passes on local dataset for each round\n",
        "#   E = 1\n",
        "#   # batch size\n",
        "#   batch_size = 10\n",
        "#   # learning Rate\n",
        "#   lr=0.05\n",
        "#   # fairness\n",
        "#   q = 0.001\n",
        "#   # sampling\n",
        "#   # sampling = 'uniform'\n",
        "#   sampling = 'weighted'\n",
        "  \n",
        "#   # dict containing different type of data partition\n",
        "#   data_dict = iid_partition(cifar_data_train, 100)\n",
        "#   # load model\n",
        "#   cifar_mlp = CIFAR_MLP()\n",
        "\n",
        "#   if torch.cuda.is_available():\n",
        "#     cifar_mlp.cuda()\n",
        "\n",
        "#   cifar_mlp_iid_trained, train_loss, test_accuracy, test_loss, f1_macro, f1_weighted = training(cifar_mlp, rounds, batch_size, lr, cifar_data_train, cifar_data_test, data_dict, C, K, E, q, sampling, \"CIFAR MLP on IID Dataset\", \"orange\")\n",
        "  \n",
        "#   train_loss_multiple_runs[exp_num] = train_loss\n",
        "#   test_accuracy_multiple_runs[exp_num] = test_accuracy\n",
        "#   test_loss_multiple_runs[exp_num] = test_loss\n",
        "#   f1_macro_multiple_runs[exp_num] = f1_macro\n",
        "#   f1_weighted_multiple_runs[exp_num] = f1_weighted\n",
        "\n",
        "#   del cifar_mlp_iid_trained\n",
        "#   torch.cuda.empty_cache()"
      ],
      "execution_count": 29,
      "outputs": []
    },
    {
      "cell_type": "markdown",
      "metadata": {
        "id": "aTBsL3-72PPd"
      },
      "source": [
        "### Test"
      ]
    },
    {
      "cell_type": "code",
      "metadata": {
        "id": "a9G4j5L62OrS"
      },
      "source": [
        "# criterion = nn.CrossEntropyLoss()\n",
        "# acc, loss, f1_macro, f1_weighted = testing(cifar_mlp_iid_trained, cifar_data_test, 128, criterion, num_classes, classes_test, True)"
      ],
      "execution_count": 30,
      "outputs": []
    },
    {
      "cell_type": "code",
      "metadata": {
        "id": "fWCdJFRCL_f2"
      },
      "source": [
        "# hyperparams = {'rounds': rounds,\n",
        "#                'C': C,\n",
        "#                'K': K,\n",
        "#                'E': E,\n",
        "#                'batch_size': batch_size,\n",
        "#                'lr': lr,\n",
        "#                'q': q,\n",
        "#                'sampling': sampling\n",
        "#                }\n",
        "\n",
        "# log_dict['CIFAR MLP on IID'] = {'train_loss': train_loss_multiple_runs, \n",
        "#                                 'test_loss': test_loss_multiple_runs, \n",
        "#                                 'test_accuracy': test_accuracy_multiple_runs,\n",
        "#                                 'f1_macro': f1_macro_multiple_runs,\n",
        "#                                 'f1_weighted': f1_weighted_multiple_runs,\n",
        "#                                 'hyperparams': hyperparams,\n",
        "#                                 }"
      ],
      "execution_count": 31,
      "outputs": []
    },
    {
      "cell_type": "markdown",
      "metadata": {
        "id": "J8jzEyO0iywz"
      },
      "source": [
        "## CIFAR MLP on Non IID"
      ]
    },
    {
      "cell_type": "markdown",
      "metadata": {
        "id": "pJFepr3y2bF-"
      },
      "source": [
        "### Train"
      ]
    },
    {
      "cell_type": "code",
      "metadata": {
        "id": "EBKO44Hgi1Uh"
      },
      "source": [
        "# train_loss_multiple_runs = [None] * NUM_REPEAT\n",
        "# test_accuracy_multiple_runs = [None] * NUM_REPEAT\n",
        "# test_loss_multiple_runs = [None] * NUM_REPEAT\n",
        "# f1_macro_multiple_runs = [None] * NUM_REPEAT\n",
        "# f1_weighted_multiple_runs = [None] * NUM_REPEAT\n",
        "\n",
        "# for exp_num in range(NUM_REPEAT):\n",
        "#   print(\"Experiment Run Number: \", exp_num)\n",
        "  \n",
        "#   # number of training rounds\n",
        "#   rounds = 50\n",
        "#   # client fraction\n",
        "#   C = 0.1\n",
        "#   # number of clients\n",
        "#   K = 100\n",
        "#   # number of training passes on local dataset for each roung\n",
        "#   E = 1\n",
        "#   # batch size\n",
        "#   batch_size = 10\n",
        "#   # learning Rate\n",
        "#   lr=0.05\n",
        "#   # fairness\n",
        "#   q = 0.001\n",
        "#   # sampling\n",
        "#   # sampling = 'uniform'\n",
        "#   sampling = 'weighted'\n",
        "  \n",
        "#   # dict containing different type of data partition\n",
        "#   data_dict = non_iid_partition(cifar_data_train, 100, 200, 250, 2)\n",
        "#   # load model\n",
        "#   cifar_mlp = CIFAR_MLP()\n",
        "\n",
        "#   if torch.cuda.is_available():\n",
        "#     cifar_mlp.cuda()\n",
        "\n",
        "#   cifar_mlp_non_iid_trained, train_loss, test_accuracy, test_loss, f1_macro, f1_weighted = training(cifar_mlp, rounds, batch_size, lr, cifar_data_train, cifar_data_test, data_dict, C, K, E, q, sampling, \"CIFAR MLP on Non-IID Dataset\", \"green\")\n",
        "\n",
        "#   train_loss_multiple_runs[exp_num] = train_loss\n",
        "#   test_accuracy_multiple_runs[exp_num] = test_accuracy\n",
        "#   test_loss_multiple_runs[exp_num] = test_loss\n",
        "#   f1_macro_multiple_runs[exp_num] = f1_macro\n",
        "#   f1_weighted_multiple_runs[exp_num] = f1_weighted\n",
        "    \n",
        "#   del cifar_mlp_non_iid_trained\n",
        "#   torch.cuda.empty_cache()"
      ],
      "execution_count": 32,
      "outputs": []
    },
    {
      "cell_type": "markdown",
      "metadata": {
        "id": "jmuQYPbF2mes"
      },
      "source": [
        "### Test"
      ]
    },
    {
      "cell_type": "code",
      "metadata": {
        "id": "0tKMlJyF2nGN"
      },
      "source": [
        "# criterion = nn.CrossEntropyLoss()\n",
        "# acc, loss, f1_macro, f1_weighted = testing(cifar_mlp_non_iid_trained, cifar_data_test, 128, criterion, num_classes, classes_test, True)"
      ],
      "execution_count": 33,
      "outputs": []
    },
    {
      "cell_type": "code",
      "metadata": {
        "id": "1W5krYcSMQiu"
      },
      "source": [
        "# hyperparams = {'rounds': rounds,\n",
        "#                'C': C,\n",
        "#                'K': K,\n",
        "#                'E': E,\n",
        "#                'batch_size': batch_size,\n",
        "#                'lr': lr,\n",
        "#                'q': q,\n",
        "#                'sampling': sampling\n",
        "#                }\n",
        "\n",
        "# log_dict['CIFAR MLP on Non IID'] = {'train_loss': train_loss_multiple_runs, \n",
        "#                                 'test_loss': test_loss_multiple_runs, \n",
        "#                                 'test_accuracy': test_accuracy_multiple_runs,\n",
        "#                                 'f1_macro': f1_macro_multiple_runs,\n",
        "#                                 'f1_weighted': f1_weighted_multiple_runs,\n",
        "#                                 'hyperparams': hyperparams,\n",
        "#                                 }"
      ],
      "execution_count": 34,
      "outputs": []
    },
    {
      "cell_type": "markdown",
      "metadata": {
        "id": "emS_SaRAP6TZ"
      },
      "source": [
        "## Pickle Log"
      ]
    },
    {
      "cell_type": "code",
      "metadata": {
        "id": "soAN38JoP0c1"
      },
      "source": [
        "import pickle\n",
        "\n",
        "with open(path + 'qFedAvgk10.pkl', 'wb') as file:\n",
        "  pickle.dump(log_dict, file)"
      ],
      "execution_count": 35,
      "outputs": []
    },
    {
      "cell_type": "code",
      "metadata": {
        "id": "2UBy-JswSoCJ",
        "colab": {
          "base_uri": "https://localhost:8080/"
        },
        "outputId": "f5a20876-4134-474d-93a1-569d81109e11"
      },
      "source": [
        "log_dict"
      ],
      "execution_count": 36,
      "outputs": [
        {
          "output_type": "execute_result",
          "data": {
            "text/plain": [
              "{'CIFAR CNN on IID': {'f1_macro': [[0.25805070887809534,\n",
              "    0.23825112301749005,\n",
              "    0.27928233118754286,\n",
              "    0.23696673425255893,\n",
              "    0.23088481534459215,\n",
              "    0.2639271029936611,\n",
              "    0.29318917277059414,\n",
              "    0.30272525533355704,\n",
              "    0.2535564805535274,\n",
              "    0.28395721942411317,\n",
              "    0.2922125120253304,\n",
              "    0.2844930053912314,\n",
              "    0.31444518207258554,\n",
              "    0.3081611649878667,\n",
              "    0.3389448086501631,\n",
              "    0.31543873173798814,\n",
              "    0.28809662823021137,\n",
              "    0.2943945671298147,\n",
              "    0.31154592105610457,\n",
              "    0.31186322016537255,\n",
              "    0.3062419563292525,\n",
              "    0.300088451043442,\n",
              "    0.2570957575530241,\n",
              "    0.2757789525234969,\n",
              "    0.25434789670674557,\n",
              "    0.2548633736513636,\n",
              "    0.2613073952565993,\n",
              "    0.2612779857095016,\n",
              "    0.2758487833871667,\n",
              "    0.28722300487393637,\n",
              "    0.30047346627921967,\n",
              "    0.30285617026129025,\n",
              "    0.3114263788023154,\n",
              "    0.30357316114997135,\n",
              "    0.28228558849321617,\n",
              "    0.2748378922553033,\n",
              "    0.2911449877078027,\n",
              "    0.27217956352677874,\n",
              "    0.2734508825771188,\n",
              "    0.26153234417551496,\n",
              "    0.2644599677137228,\n",
              "    0.2610499630331514,\n",
              "    0.27775734001034447,\n",
              "    0.27101001487231485,\n",
              "    0.26977052692336323,\n",
              "    0.2579668009238546,\n",
              "    0.26331448157130516,\n",
              "    0.25981345298693886,\n",
              "    0.24992430518746828,\n",
              "    0.26673595150970897]],\n",
              "  'f1_weighted': [[0.25805070887809534,\n",
              "    0.23825112301749005,\n",
              "    0.27928233118754286,\n",
              "    0.23696673425255896,\n",
              "    0.23088481534459215,\n",
              "    0.2639271029936611,\n",
              "    0.29318917277059414,\n",
              "    0.30272525533355704,\n",
              "    0.25355648055352736,\n",
              "    0.28395721942411317,\n",
              "    0.29221251202533033,\n",
              "    0.28449300539123135,\n",
              "    0.3144451820725854,\n",
              "    0.3081611649878667,\n",
              "    0.3389448086501631,\n",
              "    0.31543873173798814,\n",
              "    0.2880966282302114,\n",
              "    0.2943945671298147,\n",
              "    0.3115459210561045,\n",
              "    0.3118632201653726,\n",
              "    0.3062419563292525,\n",
              "    0.300088451043442,\n",
              "    0.2570957575530241,\n",
              "    0.2757789525234968,\n",
              "    0.25434789670674557,\n",
              "    0.2548633736513636,\n",
              "    0.2613073952565993,\n",
              "    0.2612779857095016,\n",
              "    0.27584878338716673,\n",
              "    0.28722300487393637,\n",
              "    0.3004734662792196,\n",
              "    0.3028561702612902,\n",
              "    0.3114263788023153,\n",
              "    0.3035731611499714,\n",
              "    0.28228558849321617,\n",
              "    0.27483789225530336,\n",
              "    0.2911449877078027,\n",
              "    0.27217956352677874,\n",
              "    0.27345088257711875,\n",
              "    0.26153234417551496,\n",
              "    0.26445996771372277,\n",
              "    0.26104996303315137,\n",
              "    0.2777573400103444,\n",
              "    0.27101001487231485,\n",
              "    0.26977052692336323,\n",
              "    0.25796680092385466,\n",
              "    0.26331448157130516,\n",
              "    0.2598134529869389,\n",
              "    0.24992430518746828,\n",
              "    0.26673595150970897]],\n",
              "  'hyperparams': {'C': 0.1,\n",
              "   'E': 5,\n",
              "   'K': 10,\n",
              "   'batch_size': 10,\n",
              "   'lr': 0.05,\n",
              "   'q': 0.001,\n",
              "   'rounds': 50,\n",
              "   'sampling': 'weighted'},\n",
              "  'test_accuracy': [[32.69,\n",
              "    32.48,\n",
              "    36.31,\n",
              "    32.39,\n",
              "    29.25,\n",
              "    33.2,\n",
              "    36.76,\n",
              "    37.99,\n",
              "    32.24,\n",
              "    35.38,\n",
              "    35.46,\n",
              "    34.38,\n",
              "    37.11,\n",
              "    34.81,\n",
              "    38.88,\n",
              "    36.49,\n",
              "    35.38,\n",
              "    35.71,\n",
              "    36.52,\n",
              "    35.58,\n",
              "    36.29,\n",
              "    35.14,\n",
              "    31.46,\n",
              "    32.61,\n",
              "    30.29,\n",
              "    30.45,\n",
              "    31.24,\n",
              "    28.75,\n",
              "    31.02,\n",
              "    31.52,\n",
              "    32.51,\n",
              "    35.03,\n",
              "    36.06,\n",
              "    35.12,\n",
              "    33.96,\n",
              "    32.72,\n",
              "    33.61,\n",
              "    32.44,\n",
              "    32.7,\n",
              "    31.16,\n",
              "    31.56,\n",
              "    31.44,\n",
              "    33.17,\n",
              "    33.18,\n",
              "    32.9,\n",
              "    31.61,\n",
              "    31.48,\n",
              "    31.73,\n",
              "    30.97,\n",
              "    32.13]],\n",
              "  'test_loss': [[1.866819737625122,\n",
              "    2.0515346311569216,\n",
              "    2.0603976903915404,\n",
              "    2.8558740661621096,\n",
              "    3.920545774078369,\n",
              "    3.943326015472412,\n",
              "    4.340253065490723,\n",
              "    4.845892462539672,\n",
              "    6.707324948120117,\n",
              "    6.038847731018066,\n",
              "    6.385499787139892,\n",
              "    7.205822972106934,\n",
              "    6.989446168518066,\n",
              "    6.451660273742676,\n",
              "    7.7146316864013675,\n",
              "    8.474777436828614,\n",
              "    10.290837606811523,\n",
              "    9.413625692749024,\n",
              "    10.07876414642334,\n",
              "    10.360606727600098,\n",
              "    12.375048428344726,\n",
              "    12.137098190307617,\n",
              "    14.730450695800782,\n",
              "    15.91521745300293,\n",
              "    17.681286529541016,\n",
              "    16.699440740966796,\n",
              "    17.4086418548584,\n",
              "    19.113228207397462,\n",
              "    19.72524320678711,\n",
              "    20.947853634643554,\n",
              "    19.72809044494629,\n",
              "    19.78120566101074,\n",
              "    21.704617932128905,\n",
              "    21.66898428039551,\n",
              "    23.744236526489257,\n",
              "    26.247631225585938,\n",
              "    22.625888632202148,\n",
              "    28.06315273742676,\n",
              "    29.107303662109373,\n",
              "    27.72262854003906,\n",
              "    28.66824612426758,\n",
              "    30.758669146728515,\n",
              "    28.5201723236084,\n",
              "    35.47586342163086,\n",
              "    32.31004037475586,\n",
              "    32.80129069213867,\n",
              "    34.74818060913086,\n",
              "    32.9563693359375,\n",
              "    39.348448968505856,\n",
              "    41.30690104980469]],\n",
              "  'train_loss': [[1.8248885267019272,\n",
              "    1.457730913388729,\n",
              "    1.200594528055191,\n",
              "    1.010537577921152,\n",
              "    0.8720332473158836,\n",
              "    0.7558417947649956,\n",
              "    0.6750807838037611,\n",
              "    0.6055604831330478,\n",
              "    0.549214534344524,\n",
              "    0.5001335930533707,\n",
              "    0.45943748465515666,\n",
              "    0.4231534380262718,\n",
              "    0.38561150115877385,\n",
              "    0.36532013568505645,\n",
              "    0.34164365339670333,\n",
              "    0.3215973478320986,\n",
              "    0.30124088059659115,\n",
              "    0.2877017868210096,\n",
              "    0.27892050365046595,\n",
              "    0.24500517669396943,\n",
              "    0.2344649717839901,\n",
              "    0.22628126032622534,\n",
              "    0.21198333918731657,\n",
              "    0.2037904752456816,\n",
              "    0.1927810656087473,\n",
              "    0.1856524767499999,\n",
              "    0.17434335141257615,\n",
              "    0.1716852936577343,\n",
              "    0.16591699731526893,\n",
              "    0.14086901706499338,\n",
              "    0.15082349020796246,\n",
              "    0.14309479520927454,\n",
              "    0.14163624828009924,\n",
              "    0.13172838704515596,\n",
              "    0.13533053870748843,\n",
              "    0.11809311685714638,\n",
              "    0.10844390532156394,\n",
              "    0.11520725495234727,\n",
              "    0.11194718322019499,\n",
              "    0.11538513088056206,\n",
              "    0.09581413031608207,\n",
              "    0.10362134777329302,\n",
              "    0.08126404554604397,\n",
              "    0.087853888379196,\n",
              "    0.09334509075528112,\n",
              "    0.07533374598316005,\n",
              "    0.07904170923137935,\n",
              "    0.08461731109439861,\n",
              "    0.0697658111261866,\n",
              "    0.07327466021249325]]},\n",
              " 'CIFAR CNN on Non IID': {'f1_macro': [[0.04914608424198741,\n",
              "    0.05436442015952993,\n",
              "    0.05404912447475894,\n",
              "    0.05616251957923153,\n",
              "    0.057252998624904114,\n",
              "    0.060389165420154135,\n",
              "    0.05984964737179872,\n",
              "    0.05942463008767964,\n",
              "    0.05976595430434304,\n",
              "    0.05974774702198349,\n",
              "    0.060127795977173396,\n",
              "    0.059569579723147525,\n",
              "    0.060009854428567724,\n",
              "    0.06082669075152993,\n",
              "    0.0611556395195431,\n",
              "    0.06041140319567051,\n",
              "    0.06030522914321832,\n",
              "    0.06007322503530173,\n",
              "    0.06039354839167901,\n",
              "    0.05998361765341929,\n",
              "    0.0606424169040109,\n",
              "    0.0601913700799825,\n",
              "    0.06023143017349101,\n",
              "    0.06006147216280806,\n",
              "    0.058741109339477904,\n",
              "    0.059400386335370856,\n",
              "    0.05945040519838489,\n",
              "    0.06004406679290253,\n",
              "    0.06036702273349768,\n",
              "    0.059275037355355956,\n",
              "    0.05888249863283483,\n",
              "    0.05979997155993744,\n",
              "    0.060029663371446815,\n",
              "    0.059740936581479845,\n",
              "    0.059891253372339026,\n",
              "    0.059974075331235666,\n",
              "    0.05960603018084443,\n",
              "    0.059377547255716534,\n",
              "    0.05960707099119371,\n",
              "    0.059520460006532716,\n",
              "    0.059383450952812486,\n",
              "    0.0596142770723956,\n",
              "    0.0592562050184635,\n",
              "    0.058847452598804875,\n",
              "    0.05932192579934661,\n",
              "    0.058708601828548146,\n",
              "    0.059155620865715464,\n",
              "    0.05975508995996579,\n",
              "    0.05966538641686183,\n",
              "    0.05915632000175839]],\n",
              "  'f1_weighted': [[0.04914608424198741,\n",
              "    0.05436442015952993,\n",
              "    0.05404912447475894,\n",
              "    0.05616251957923154,\n",
              "    0.0572529986249041,\n",
              "    0.06038916542015413,\n",
              "    0.05984964737179872,\n",
              "    0.059424630087679634,\n",
              "    0.05976595430434304,\n",
              "    0.05974774702198349,\n",
              "    0.0601277959771734,\n",
              "    0.05956957972314753,\n",
              "    0.060009854428567724,\n",
              "    0.06082669075152994,\n",
              "    0.0611556395195431,\n",
              "    0.06041140319567052,\n",
              "    0.06030522914321832,\n",
              "    0.060073225035301735,\n",
              "    0.06039354839167902,\n",
              "    0.05998361765341927,\n",
              "    0.0606424169040109,\n",
              "    0.060191370079982494,\n",
              "    0.060231430173491,\n",
              "    0.06006147216280807,\n",
              "    0.058741109339477904,\n",
              "    0.059400386335370856,\n",
              "    0.0594504051983849,\n",
              "    0.06004406679290253,\n",
              "    0.06036702273349767,\n",
              "    0.05927503735535595,\n",
              "    0.05888249863283484,\n",
              "    0.05979997155993742,\n",
              "    0.060029663371446815,\n",
              "    0.059740936581479845,\n",
              "    0.05989125337233902,\n",
              "    0.059974075331235666,\n",
              "    0.05960603018084441,\n",
              "    0.059377547255716534,\n",
              "    0.05960707099119371,\n",
              "    0.05952046000653272,\n",
              "    0.05938345095281249,\n",
              "    0.059614277072395604,\n",
              "    0.0592562050184635,\n",
              "    0.058847452598804875,\n",
              "    0.05932192579934661,\n",
              "    0.058708601828548146,\n",
              "    0.05915562086571547,\n",
              "    0.0597550899599658,\n",
              "    0.059665386416861824,\n",
              "    0.0591563200017584]],\n",
              "  'hyperparams': {'C': 0.1,\n",
              "   'E': 5,\n",
              "   'K': 10,\n",
              "   'batch_size': 10,\n",
              "   'lr': 0.05,\n",
              "   'q': 0.001,\n",
              "   'rounds': 50,\n",
              "   'sampling': 'weighted'},\n",
              "  'test_accuracy': [[12.78,\n",
              "    15.23,\n",
              "    15.57,\n",
              "    16.16,\n",
              "    16.69,\n",
              "    18.14,\n",
              "    17.92,\n",
              "    17.36,\n",
              "    17.34,\n",
              "    17.69,\n",
              "    16.93,\n",
              "    17.25,\n",
              "    16.86,\n",
              "    17.33,\n",
              "    17.81,\n",
              "    17.07,\n",
              "    16.91,\n",
              "    17.78,\n",
              "    17.97,\n",
              "    17.67,\n",
              "    18.18,\n",
              "    17.6,\n",
              "    17.91,\n",
              "    17.67,\n",
              "    16.73,\n",
              "    17.4,\n",
              "    17.33,\n",
              "    17.83,\n",
              "    17.7,\n",
              "    17.06,\n",
              "    16.76,\n",
              "    17.28,\n",
              "    17.79,\n",
              "    17.81,\n",
              "    17.92,\n",
              "    17.64,\n",
              "    17.39,\n",
              "    17.21,\n",
              "    16.99,\n",
              "    17.25,\n",
              "    17.37,\n",
              "    17.27,\n",
              "    17.03,\n",
              "    16.72,\n",
              "    17.03,\n",
              "    16.94,\n",
              "    17.18,\n",
              "    16.89,\n",
              "    17.28,\n",
              "    16.71]],\n",
              "  'test_loss': [[3.670593058013916,\n",
              "    5.50484376373291,\n",
              "    6.725404051208496,\n",
              "    7.306917454528809,\n",
              "    7.769672639465332,\n",
              "    8.527138006591796,\n",
              "    9.340342877197266,\n",
              "    9.947042912292481,\n",
              "    10.403135792541503,\n",
              "    10.510864378356933,\n",
              "    11.936879684448241,\n",
              "    12.202537376403809,\n",
              "    14.27692865600586,\n",
              "    14.01670456237793,\n",
              "    12.957049938964843,\n",
              "    15.837318402099609,\n",
              "    17.057291522216797,\n",
              "    15.231095816040039,\n",
              "    14.45835610961914,\n",
              "    15.964942639160157,\n",
              "    15.13904635925293,\n",
              "    16.84386410217285,\n",
              "    16.75486703186035,\n",
              "    16.741558029174804,\n",
              "    18.48184171447754,\n",
              "    18.356737145996092,\n",
              "    19.404450396728517,\n",
              "    17.85205134887695,\n",
              "    19.458122311401368,\n",
              "    21.885536761474608,\n",
              "    22.671283367919923,\n",
              "    22.38377865600586,\n",
              "    19.55749497680664,\n",
              "    19.34377180480957,\n",
              "    17.720935260009767,\n",
              "    20.000900091552733,\n",
              "    21.07401501159668,\n",
              "    21.540149380493165,\n",
              "    24.131436352539062,\n",
              "    22.678941662597655,\n",
              "    23.008303735351564,\n",
              "    23.86324052734375,\n",
              "    24.208617279052735,\n",
              "    26.40343792114258,\n",
              "    25.33312448120117,\n",
              "    26.466045513916015,\n",
              "    27.418827368164063,\n",
              "    29.48284699707031,\n",
              "    25.80240075073242,\n",
              "    27.784430834960936]],\n",
              "  'train_loss': [[0.442163327319175,\n",
              "    0.29545417597107587,\n",
              "    0.23921165292840452,\n",
              "    0.20420578239471654,\n",
              "    0.17051342888998336,\n",
              "    0.15209017493221907,\n",
              "    0.1322179519487312,\n",
              "    0.11938726684547726,\n",
              "    0.10849135009956226,\n",
              "    0.09538291759107159,\n",
              "    0.08816187695093614,\n",
              "    0.07726956506210644,\n",
              "    0.07226601955484957,\n",
              "    0.06689000733296224,\n",
              "    0.06454724744297992,\n",
              "    0.05686071758964382,\n",
              "    0.04998262333980993,\n",
              "    0.04792697741377747,\n",
              "    0.04687499499802477,\n",
              "    0.04352356536725551,\n",
              "    0.04239106541372203,\n",
              "    0.040032112061299335,\n",
              "    0.03547025876399093,\n",
              "    0.03506212893419297,\n",
              "    0.03239761277300053,\n",
              "    0.028064838744870924,\n",
              "    0.029776582840340488,\n",
              "    0.02967715401940272,\n",
              "    0.025602762648825543,\n",
              "    0.02657099397849143,\n",
              "    0.026091335618582956,\n",
              "    0.02009332012086748,\n",
              "    0.01877384904516387,\n",
              "    0.01884663666473762,\n",
              "    0.021372299248377313,\n",
              "    0.01811122345410032,\n",
              "    0.018267010679427015,\n",
              "    0.01753648713248783,\n",
              "    0.01362201080843108,\n",
              "    0.011091367601533739,\n",
              "    0.014354735949604718,\n",
              "    0.011945476606441768,\n",
              "    0.015653479722883012,\n",
              "    0.014782097765964276,\n",
              "    0.01006268864314017,\n",
              "    0.013342979540691233,\n",
              "    0.011679269387831698,\n",
              "    0.015108191460664841,\n",
              "    0.013812437766867604,\n",
              "    0.013597542089043773]]}}"
            ]
          },
          "metadata": {
            "tags": []
          },
          "execution_count": 36
        }
      ]
    },
    {
      "cell_type": "code",
      "metadata": {
        "colab": {
          "base_uri": "https://localhost:8080/",
          "height": 167
        },
        "id": "prKIn0TnERPG",
        "outputId": "2f371506-f024-4a2c-c804-125ee73d0aec"
      },
      "source": [
        "while True:pass"
      ],
      "execution_count": 37,
      "outputs": [
        {
          "output_type": "error",
          "ename": "KeyboardInterrupt",
          "evalue": "ignored",
          "traceback": [
            "\u001b[0;31m---------------------------------------------------------------------------\u001b[0m",
            "\u001b[0;31mKeyboardInterrupt\u001b[0m                         Traceback (most recent call last)",
            "\u001b[0;32m<ipython-input-37-534b7a74019f>\u001b[0m in \u001b[0;36m<module>\u001b[0;34m()\u001b[0m\n\u001b[0;32m----> 1\u001b[0;31m \u001b[0;32mwhile\u001b[0m \u001b[0;32mTrue\u001b[0m\u001b[0;34m:\u001b[0m\u001b[0;32mpass\u001b[0m\u001b[0;34m\u001b[0m\u001b[0;34m\u001b[0m\u001b[0m\n\u001b[0m",
            "\u001b[0;31mKeyboardInterrupt\u001b[0m: "
          ]
        }
      ]
    },
    {
      "cell_type": "code",
      "metadata": {
        "id": "x1r1hcqMUCeZ"
      },
      "source": [
        "import pickle\n",
        "\n",
        "with open(path + 'qFedAvgk10.pkl', 'rb') as file:\n",
        "  log_dict = pickle.load(file)"
      ],
      "execution_count": 38,
      "outputs": []
    },
    {
      "cell_type": "code",
      "metadata": {
        "id": "se_04JMaVJPg",
        "colab": {
          "base_uri": "https://localhost:8080/"
        },
        "outputId": "0f59b3e2-1836-4462-ad36-9727e3780c41"
      },
      "source": [
        "print([test_acc[-1] for test_acc in log_dict['CIFAR CNN on IID']['test_accuracy']])"
      ],
      "execution_count": 39,
      "outputs": [
        {
          "output_type": "stream",
          "text": [
            "[32.13]\n"
          ],
          "name": "stdout"
        }
      ]
    },
    {
      "cell_type": "code",
      "metadata": {
        "id": "5sv0rv-G4Sqa",
        "colab": {
          "base_uri": "https://localhost:8080/"
        },
        "outputId": "da29740c-4aaa-43fe-9c0e-7063a1174aba"
      },
      "source": [
        "print([test_acc[-1] for test_acc in log_dict['CIFAR CNN on Non IID']['test_accuracy']])"
      ],
      "execution_count": 40,
      "outputs": [
        {
          "output_type": "stream",
          "text": [
            "[16.71]\n"
          ],
          "name": "stdout"
        }
      ]
    },
    {
      "cell_type": "code",
      "metadata": {
        "id": "b2a2_Az-4nal"
      },
      "source": [
        "# print([test_acc[-1] for test_acc in log_dict['CIFAR MLP on IID']['test_accuracy']])"
      ],
      "execution_count": null,
      "outputs": []
    },
    {
      "cell_type": "code",
      "metadata": {
        "id": "YoRqZyvD4p2K"
      },
      "source": [
        "# print([test_acc[-1] for test_acc in log_dict['CIFAR MLP on Non IID']['test_accuracy']])"
      ],
      "execution_count": null,
      "outputs": []
    },
    {
      "cell_type": "code",
      "metadata": {
        "id": "mkG1kQdmVzbJ"
      },
      "source": [
        ""
      ],
      "execution_count": null,
      "outputs": []
    }
  ]
}