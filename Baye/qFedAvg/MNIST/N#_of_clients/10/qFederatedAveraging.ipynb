{
  "nbformat": 4,
  "nbformat_minor": 0,
  "metadata": {
    "accelerator": "GPU",
    "colab": {
      "name": "qFederatedAveraging.ipynb",
      "provenance": [],
      "collapsed_sections": [],
      "machine_shape": "hm"
    },
    "kernelspec": {
      "name": "python3",
      "display_name": "Python 3"
    },
    "language_info": {
      "name": "python"
    }
  },
  "cells": [
    {
      "cell_type": "markdown",
      "metadata": {
        "id": "view-in-github"
      },
      "source": [
        "<a href=\"https://colab.research.google.com/github/tushar-semwal/fedperf/blob/main/Vineeth/Local_Rounds/qFedAvg/qFederatedAveraging.ipynb\" target=\"_parent\"><img src=\"https://colab.research.google.com/assets/colab-badge.svg\" alt=\"Open In Colab\"/></a>"
      ]
    },
    {
      "cell_type": "code",
      "metadata": {
        "id": "yKcpjZLrQQJV"
      },
      "source": [
        "%%capture output\n",
        "try:\n",
        "    from google.colab import drive\n",
        "    drive.mount('/content/drive')\n",
        "\n",
        "    import os\n",
        "    path = '/content/drive/MyDrive/Colab Notebooks/OpenMined/'\n",
        "    os.makedirs(path, exist_ok=True)\n",
        "except:\n",
        "    path = './'"
      ],
      "execution_count": 80,
      "outputs": []
    },
    {
      "cell_type": "markdown",
      "metadata": {
        "id": "-0_nKpfq2h1R"
      },
      "source": [
        "## Imports"
      ]
    },
    {
      "cell_type": "code",
      "metadata": {
        "colab": {
          "base_uri": "https://localhost:8080/"
        },
        "id": "DLLNM9X2JbQ8",
        "outputId": "39e8e46b-6756-415d-a8a8-114abf6d15f2"
      },
      "source": [
        "%load_ext tensorboard\n",
        "import os\n",
        "import numpy as np\n",
        "import matplotlib\n",
        "import matplotlib.pyplot as plt\n",
        "import copy\n",
        "import random\n",
        "import time\n",
        "\n",
        "import torch\n",
        "import torch.nn as nn\n",
        "import torch.nn.functional as F\n",
        "\n",
        "from torch.utils.data import Dataset, DataLoader\n",
        "from torch.utils.tensorboard import SummaryWriter\n",
        "from torchvision import transforms, utils, datasets\n",
        "from torchsummary import summary\n",
        "from sklearn.metrics import f1_score\n",
        "\n",
        "# Check assigned GPU\n",
        "gpu_info = !nvidia-smi\n",
        "gpu_info = '\\n'.join(gpu_info)\n",
        "if gpu_info.find('failed') >= 0:\n",
        "  print('Select the Runtime > \"Change runtime type\" menu to enable a GPU accelerator, ')\n",
        "  print('and then re-execute this cell.')\n",
        "else:\n",
        "  print(gpu_info)\n",
        "\n",
        "# set manual seed for reproducibility\n",
        "seed = 42\n",
        "\n",
        "# general reproducibility\n",
        "random.seed(seed)\n",
        "np.random.seed(seed)\n",
        "torch.manual_seed(seed)\n",
        "\n",
        "# gpu training specific\n",
        "torch.backends.cudnn.deterministic = True\n",
        "torch.backends.cudnn.benchmark = False"
      ],
      "execution_count": 42,
      "outputs": [
        {
          "output_type": "stream",
          "text": [
            "The tensorboard extension is already loaded. To reload it, use:\n",
            "  %reload_ext tensorboard\n",
            "Sat Apr 24 13:17:44 2021       \n",
            "+-----------------------------------------------------------------------------+\n",
            "| NVIDIA-SMI 465.19.01    Driver Version: 460.32.03    CUDA Version: 11.2     |\n",
            "|-------------------------------+----------------------+----------------------+\n",
            "| GPU  Name        Persistence-M| Bus-Id        Disp.A | Volatile Uncorr. ECC |\n",
            "| Fan  Temp  Perf  Pwr:Usage/Cap|         Memory-Usage | GPU-Util  Compute M. |\n",
            "|                               |                      |               MIG M. |\n",
            "|===============================+======================+======================|\n",
            "|   0  Tesla K80           Off  | 00000000:00:04.0 Off |                    0 |\n",
            "| N/A   43C    P0    58W / 149W |    556MiB / 11441MiB |      0%      Default |\n",
            "|                               |                      |                  N/A |\n",
            "+-------------------------------+----------------------+----------------------+\n",
            "                                                                               \n",
            "+-----------------------------------------------------------------------------+\n",
            "| Processes:                                                                  |\n",
            "|  GPU   GI   CI        PID   Type   Process name                  GPU Memory |\n",
            "|        ID   ID                                                   Usage      |\n",
            "|=============================================================================|\n",
            "+-----------------------------------------------------------------------------+\n"
          ],
          "name": "stdout"
        }
      ]
    },
    {
      "cell_type": "markdown",
      "metadata": {
        "id": "NY4eWzGiL6Mj"
      },
      "source": [
        "## Load the MNIST Dataset"
      ]
    },
    {
      "cell_type": "code",
      "metadata": {
        "id": "AjVlQmNxNER3"
      },
      "source": [
        "torch.cuda.set_device('cuda:0')"
      ],
      "execution_count": 43,
      "outputs": []
    },
    {
      "cell_type": "code",
      "metadata": {
        "id": "G649tjTXLL8F"
      },
      "source": [
        "# create transforms\n",
        "# We will just convert to tensor and normalize since no special transforms are mentioned in the paper\n",
        "transforms_mnist = transforms.Compose([\n",
        "                                       transforms.ToTensor(),\n",
        "                                       transforms.Normalize((0.1307,), (0.3081,))\n",
        "                                       ])\n",
        "\n",
        "mnist_data_train = datasets.MNIST('./data/mnist/', train=True, download=True, transform=transforms_mnist)\n",
        "mnist_data_test = datasets.MNIST('../data/mnist/', train=False, download=True, transform=transforms_mnist)"
      ],
      "execution_count": 44,
      "outputs": []
    },
    {
      "cell_type": "code",
      "metadata": {
        "colab": {
          "base_uri": "https://localhost:8080/"
        },
        "id": "dm9usjn2vFkL",
        "outputId": "9aeb03a4-e68e-448d-9a2a-664b66af465c"
      },
      "source": [
        "classes = np.array(list(mnist_data_train.class_to_idx.values()))\n",
        "classes_test = np.array(list(mnist_data_test.class_to_idx.values()))\n",
        "num_classes = len(classes_test)\n",
        "print(\"Classes: {} \\tType: {}\".format(classes, type(classes)))\n",
        "print(\"Classes Test: {} \\tType: {}\".format(classes_test, type(classes)))\n"
      ],
      "execution_count": 45,
      "outputs": [
        {
          "output_type": "stream",
          "text": [
            "Classes: [0 1 2 3 4 5 6 7 8 9] \tType: <class 'numpy.ndarray'>\n",
            "Classes Test: [0 1 2 3 4 5 6 7 8 9] \tType: <class 'numpy.ndarray'>\n"
          ],
          "name": "stdout"
        }
      ]
    },
    {
      "cell_type": "code",
      "metadata": {
        "colab": {
          "base_uri": "https://localhost:8080/"
        },
        "id": "9lvJt3Ofv2SO",
        "outputId": "7cedd98d-772b-4b5d-ebcf-f7328adc1a9b"
      },
      "source": [
        "print(\"Image Shape: {}\".format(mnist_data_train.data[0].size()))"
      ],
      "execution_count": 46,
      "outputs": [
        {
          "output_type": "stream",
          "text": [
            "Image Shape: torch.Size([28, 28])\n"
          ],
          "name": "stdout"
        }
      ]
    },
    {
      "cell_type": "markdown",
      "metadata": {
        "id": "jCOONkg-zV7Y"
      },
      "source": [
        "## Visualize Data"
      ]
    },
    {
      "cell_type": "code",
      "metadata": {
        "id": "R9MK03TZw6Qs"
      },
      "source": [
        "def imshow(img):\n",
        "\timg = img/2 + 0.5 #unnormalize the image\n",
        "\tplt.imshow(img, cmap='gray') # convert from tensor to image"
      ],
      "execution_count": 47,
      "outputs": []
    },
    {
      "cell_type": "code",
      "metadata": {
        "id": "gMJ0Kx4Kw-_H"
      },
      "source": [
        "def visualize(dataset):\n",
        "  figure = plt.figure(figsize=(25,4))\n",
        "  for i in range(20):\n",
        "    axis = figure.add_subplot(2, 20/2, i+1, xticks=[], yticks=[])\n",
        "    data = dataset.data[i]\n",
        "    data = data.numpy()\n",
        "\n",
        "    target = dataset.targets[i]\n",
        "    target = target.numpy()\n",
        "    imshow(data)\n",
        "    axis.set_title(target)\n"
      ],
      "execution_count": 48,
      "outputs": []
    },
    {
      "cell_type": "code",
      "metadata": {
        "colab": {
          "base_uri": "https://localhost:8080/",
          "height": 268
        },
        "id": "8bPOwKg10Ro7",
        "outputId": "5d0d9fbe-00f5-4f62-e5f1-71f585e7ca9a"
      },
      "source": [
        "visualize(mnist_data_train)"
      ],
      "execution_count": 49,
      "outputs": [
        {
          "output_type": "display_data",
          "data": {
            "image/png": "[encoded data removed]",
            "text/plain": [
              "<Figure size 1800x288 with 20 Axes>"
            ]
          },
          "metadata": {
            "tags": []
          }
        }
      ]
    },
    {
      "cell_type": "code",
      "metadata": {
        "colab": {
          "base_uri": "https://localhost:8080/",
          "height": 268
        },
        "id": "RKoh5Cf70UYu",
        "outputId": "fedd8d0b-9d5d-4d18-d188-54369b6944b6"
      },
      "source": [
        "visualize(mnist_data_test)"
      ],
      "execution_count": 50,
      "outputs": [
        {
          "output_type": "display_data",
          "data": {
            "image/png": "[encoded data removed]",
            "text/plain": [
              "<Figure size 1800x288 with 20 Axes>"
            ]
          },
          "metadata": {
            "tags": []
          }
        }
      ]
    },
    {
      "cell_type": "markdown",
      "metadata": {
        "id": "ctjRsETiO1qO"
      },
      "source": [
        "## Partitioning the Data (IID and non-IID)"
      ]
    },
    {
      "cell_type": "code",
      "metadata": {
        "id": "3_v8lyrgO5dD"
      },
      "source": [
        "def iid_partition(dataset, clients):\n",
        "  \"\"\"\n",
        "  I.I.D paritioning of data over clients\n",
        "  Shuffle the data\n",
        "  Split it between clients\n",
        "  \n",
        "  params:\n",
        "    - dataset (torch.utils.Dataset): Dataset containing the MNIST Images\n",
        "    - clients (int): Number of Clients to split the data between\n",
        "\n",
        "  returns:\n",
        "    - Dictionary of image indexes for each client\n",
        "  \"\"\"\n",
        "\n",
        "  num_items_per_client = int(len(dataset)/clients)\n",
        "  client_dict = {}\n",
        "  image_idxs = [i for i in range(len(dataset))]\n",
        "\n",
        "  for i in range(clients):\n",
        "    client_dict[i] = set(np.random.choice(image_idxs, num_items_per_client, replace=False))\n",
        "    image_idxs = list(set(image_idxs) - client_dict[i])\n",
        "\n",
        "  return client_dict"
      ],
      "execution_count": 51,
      "outputs": []
    },
    {
      "cell_type": "code",
      "metadata": {
        "id": "4zMdliGMQoSl"
      },
      "source": [
        "def non_iid_partition(dataset, clients, total_shards, shards_size, num_shards_per_client):\n",
        "  \"\"\"\n",
        "  non I.I.D parititioning of data over clients\n",
        "  Sort the data by the digit label\n",
        "  Divide the data into N shards of size S\n",
        "  Each of the clients will get X shards\n",
        "\n",
        "  params:\n",
        "    - dataset (torch.utils.Dataset): Dataset containing the MNIST Images\n",
        "    - clients (int): Number of Clients to split the data between\n",
        "    - total_shards (int): Number of shards to partition the data in\n",
        "    - shards_size (int): Size of each shard \n",
        "    - num_shards_per_client (int): Number of shards of size shards_size that each client receives\n",
        "\n",
        "  returns:\n",
        "    - Dictionary of image indexes for each client\n",
        "  \"\"\"\n",
        "  \n",
        "  shard_idxs = [i for i in range(total_shards)]\n",
        "  client_dict = {i: np.array([], dtype='int64') for i in range(clients)}\n",
        "  idxs = np.arange(len(dataset))\n",
        "  data_labels = dataset.targets.numpy()\n",
        "\n",
        "  # sort the labels\n",
        "  label_idxs = np.vstack((idxs, data_labels))\n",
        "  label_idxs = label_idxs[:, label_idxs[1,:].argsort()]\n",
        "  idxs = label_idxs[0,:]\n",
        "\n",
        "  # divide the data into total_shards of size shards_size\n",
        "  # assign num_shards_per_client to each client\n",
        "  for i in range(clients):\n",
        "    rand_set = set(np.random.choice(shard_idxs, num_shards_per_client, replace=False))\n",
        "    shard_idxs = list(set(shard_idxs) - rand_set)\n",
        "\n",
        "    for rand in rand_set:\n",
        "      client_dict[i] = np.concatenate((client_dict[i], idxs[rand*shards_size:(rand+1)*shards_size]), axis=0)\n",
        "  \n",
        "  return client_dict\n"
      ],
      "execution_count": 52,
      "outputs": []
    },
    {
      "cell_type": "markdown",
      "metadata": {
        "id": "PTfxv8kFoGAy"
      },
      "source": [
        "## Models"
      ]
    },
    {
      "cell_type": "code",
      "metadata": {
        "id": "CvoDNFKbZST5"
      },
      "source": [
        "class MNIST_2NN(nn.Module):\n",
        "  \"\"\"\n",
        "  A simple multilayer-perceptron with 2-hidden layers with 200 units each\n",
        "  using ReLu activations\n",
        "\n",
        "  Total Expected Params: 199,210\n",
        "  \"\"\"\n",
        "  def __init__(self):\n",
        "    super(MNIST_2NN, self).__init__()\n",
        "\n",
        "    self.fc1 = nn.Linear(28*28, 200)\n",
        "    self.fc2 = nn.Linear(200, 200)\n",
        "    self.fc3 = nn.Linear(200, 10)\n",
        "\n",
        "  def forward(self, x):\n",
        "    x = torch.flatten(x, 1)\n",
        "    x = F.relu(self.fc1(x))\n",
        "    x = F.relu(self.fc2(x))\n",
        "    out = self.fc3(x)\n",
        "\n",
        "    return x"
      ],
      "execution_count": 53,
      "outputs": []
    },
    {
      "cell_type": "code",
      "metadata": {
        "id": "ut1hZ8x3qYPZ"
      },
      "source": [
        "class MNIST_CNN(nn.Module):\n",
        "  \"\"\"\n",
        "  CNN with two 5x5 convolution lauers(the first with 32 channels, second with 64,\n",
        "  each followed with 2x2 max pooling), a fully connected layer with 512 uunits and \n",
        "  ReLu activation, and the final Softmax output layer\n",
        "\n",
        "  Total Expected Params: 1,663,370\n",
        "  \"\"\"\n",
        "  def __init__(self):\n",
        "    super(MNIST_CNN, self).__init__()\n",
        "\n",
        "    self.conv1 = nn.Conv2d(1, 32, kernel_size=5)\n",
        "    self.conv2 = nn.Conv2d(32, 64, kernel_size=5)\n",
        "    \n",
        "    self.pool = nn.MaxPool2d(2,2)\n",
        "    self.dropout = nn.Dropout(p=0.2)\n",
        "\n",
        "    self.fc1 = nn.Linear(1024, 512)\n",
        "    self.out = nn.Linear(512, 10)\n",
        "\n",
        "  def forward(self, x):\n",
        "    x = self.pool(F.relu(self.conv1(x)))\n",
        "    x = self.pool(F.relu(self.conv2(x)))\n",
        "    x = self.dropout(x)\n",
        "    x = torch.flatten(x, 1)\n",
        "    x = F.relu(self.fc1(x))\n",
        "    x = self.out(x)\n",
        "    out = F.log_softmax(x, dim=1)\n",
        "\n",
        "    return out"
      ],
      "execution_count": 54,
      "outputs": []
    },
    {
      "cell_type": "markdown",
      "metadata": {
        "id": "uVv4HA9HuLtr"
      },
      "source": [
        "### Print Model Summaries"
      ]
    },
    {
      "cell_type": "code",
      "metadata": {
        "colab": {
          "base_uri": "https://localhost:8080/"
        },
        "id": "I5oTH710sJEt",
        "outputId": "4d7f1e65-02c5-4bf4-d665-c58ed72dfc9a"
      },
      "source": [
        "mnist_mlp = MNIST_2NN()\n",
        "mnist_cnn = MNIST_CNN()\n",
        "\n",
        "if torch.cuda.is_available():\n",
        "  mnist_mlp.cuda()\n",
        "  mnist_cnn.cuda()\n",
        "\n",
        "print(\"MNIST MLP SUMMARY\")\n",
        "print(summary(mnist_mlp, (28,28)))\n",
        "\n",
        "print(\"\\nMNIST CNN SUMMARY\")\n",
        "print(summary(mnist_cnn, (1, 28,28)))"
      ],
      "execution_count": 55,
      "outputs": [
        {
          "output_type": "stream",
          "text": [
            "MNIST MLP SUMMARY\n",
            "----------------------------------------------------------------\n",
            "        Layer (type)               Output Shape         Param #\n",
            "================================================================\n",
            "            Linear-1                  [-1, 200]         157,000\n",
            "            Linear-2                  [-1, 200]          40,200\n",
            "            Linear-3                   [-1, 10]           2,010\n",
            "================================================================\n",
            "Total params: 199,210\n",
            "Trainable params: 199,210\n",
            "Non-trainable params: 0\n",
            "----------------------------------------------------------------\n",
            "Input size (MB): 0.00\n",
            "Forward/backward pass size (MB): 0.00\n",
            "Params size (MB): 0.76\n",
            "Estimated Total Size (MB): 0.77\n",
            "----------------------------------------------------------------\n",
            "None\n",
            "\n",
            "MNIST CNN SUMMARY\n",
            "----------------------------------------------------------------\n",
            "        Layer (type)               Output Shape         Param #\n",
            "================================================================\n",
            "            Conv2d-1           [-1, 32, 24, 24]             832\n",
            "         MaxPool2d-2           [-1, 32, 12, 12]               0\n",
            "            Conv2d-3             [-1, 64, 8, 8]          51,264\n",
            "         MaxPool2d-4             [-1, 64, 4, 4]               0\n",
            "           Dropout-5             [-1, 64, 4, 4]               0\n",
            "            Linear-6                  [-1, 512]         524,800\n",
            "            Linear-7                   [-1, 10]           5,130\n",
            "================================================================\n",
            "Total params: 582,026\n",
            "Trainable params: 582,026\n",
            "Non-trainable params: 0\n",
            "----------------------------------------------------------------\n",
            "Input size (MB): 0.00\n",
            "Forward/backward pass size (MB): 0.23\n",
            "Params size (MB): 2.22\n",
            "Estimated Total Size (MB): 2.45\n",
            "----------------------------------------------------------------\n",
            "None\n"
          ],
          "name": "stdout"
        }
      ]
    },
    {
      "cell_type": "markdown",
      "metadata": {
        "id": "gf_8XEXa-gZ7"
      },
      "source": [
        "## q Federated Averaging"
      ]
    },
    {
      "cell_type": "markdown",
      "metadata": {
        "id": "L-aNdQsQ-Kvp"
      },
      "source": [
        "### Local Training (Client Update)\n",
        "\n",
        "Local training for the model on client side"
      ]
    },
    {
      "cell_type": "code",
      "metadata": {
        "id": "oX6OsQyO-Gz7"
      },
      "source": [
        "class CustomDataset(Dataset):\n",
        "  def __init__(self, dataset, idxs):\n",
        "      self.dataset = dataset\n",
        "      self.idxs = list(idxs)\n",
        "\n",
        "  def __len__(self):\n",
        "      return len(self.idxs)\n",
        "\n",
        "  def __getitem__(self, item):\n",
        "      image, label = self.dataset[self.idxs[item]]\n",
        "      return image, label\n",
        "\n",
        "\n",
        "class ClientUpdate(object):\n",
        "  def __init__(self, dataset, batch_size, learning_rate, epochs, idxs, q=None):\n",
        "    if hasattr(dataset, 'dataloader'):\n",
        "        self.train_loader = dataset.dataloader(batch_size=batch_size, shuffle=True)\n",
        "    else:\n",
        "        self.train_loader = DataLoader(CustomDataset(dataset, idxs), batch_size=batch_size, shuffle=True)\n",
        "\n",
        "    self.learning_rate = learning_rate\n",
        "    self.epochs = epochs\n",
        "    self.q = q\n",
        "    if not self.q:\n",
        "        # TODO: Client itself adjust fairness \n",
        "        pass\n",
        "    self.mu = 1e-10\n",
        "\n",
        "  def train(self, model):\n",
        "    criterion = nn.CrossEntropyLoss()\n",
        "    optimizer = torch.optim.SGD(model.parameters(), lr=self.learning_rate, momentum=0.5)\n",
        "\n",
        "    e_loss = []\n",
        "\n",
        "    model_weights = copy.deepcopy(model.state_dict())\n",
        "    for epoch in range(1, self.epochs+1):\n",
        "\n",
        "      train_loss = 0.0\n",
        "\n",
        "      model.train()\n",
        "      # for data, labels in tqdm(self.train_loader):\n",
        "      for data, labels in self.train_loader:\n",
        "\n",
        "        if torch.cuda.is_available():\n",
        "          data, labels = data.cuda(), labels.cuda()\n",
        "\n",
        "        # clear the gradients\n",
        "        optimizer.zero_grad()\n",
        "        # make a forward pass\n",
        "        output = model(data)\n",
        "        # calculate the loss\n",
        "        loss = criterion(output, labels)\n",
        "        # do a backwards pass\n",
        "        loss.backward()\n",
        "        # perform a single optimization step\n",
        "        optimizer.step()\n",
        "        # update training loss\n",
        "        train_loss += loss.item()*data.size(0)\n",
        "\n",
        "      # average losses\n",
        "      train_loss = train_loss/len(self.train_loader.dataset)\n",
        "      e_loss.append(train_loss)\n",
        "\n",
        "\n",
        "    total_loss = sum(e_loss)/len(e_loss)\n",
        "\n",
        "    # delta weights\n",
        "    model_weights_new = copy.deepcopy(model.state_dict())\n",
        "    L = 1.0 / self.learning_rate\n",
        "\n",
        "    delta_weights, delta, h = {}, {}, {}\n",
        "    loss_q = np.float_power(total_loss + self.mu, self.q)\n",
        "    # updating the global weights\n",
        "    for k in model_weights_new.keys():\n",
        "      delta_weights[k] = (model_weights[k] - model_weights_new[k]) * L\n",
        "      delta[k] =  loss_q * delta_weights[k]\n",
        "      # Estimation of the local Lipchitz constant\n",
        "      h[k] = (self.q * np.float_power(total_loss + self.mu, self.q - 1) * torch.pow(torch.norm(delta_weights[k]), 2)) + (L * loss_q)\n",
        "\n",
        "    return delta, h, total_loss"
      ],
      "execution_count": 56,
      "outputs": []
    },
    {
      "cell_type": "markdown",
      "metadata": {
        "id": "Ukgh1DVHE2Ds"
      },
      "source": [
        "### Server Side Training\n"
      ]
    },
    {
      "cell_type": "code",
      "metadata": {
        "id": "vIHBbaX18k0j"
      },
      "source": [
        "def client_sampling(n, m, weights=None, with_replace=False):\n",
        "    pk = None\n",
        "    if weights:\n",
        "        total_weights = np.sum(np.asarray(weights))\n",
        "        pk = [w * 1.0 / total_weights for w in weights]\n",
        "\n",
        "    return np.random.choice(range(n), m, replace=with_replace, p=pk)"
      ],
      "execution_count": 57,
      "outputs": []
    },
    {
      "cell_type": "code",
      "metadata": {
        "id": "1NF1e33BgpeL"
      },
      "source": [
        "def training(model, rounds, batch_size, lr, ds, ds_test, data_dict, C, K, E, q, sampling, plt_title, plt_color):\n",
        "  \"\"\"\n",
        "  Function implements the Federated Averaging Algorithm from the FedAvg paper.\n",
        "  Specifically, this function is used for the server side training and weight update\n",
        "\n",
        "  Params:\n",
        "    - model:           PyTorch model to train\n",
        "    - rounds:          Number of communication rounds for the client update\n",
        "    - batch_size:      Batch size for client update training\n",
        "    - lr:              Learning rate used for client update training\n",
        "    - ds:              Dataset used for training\n",
        "    - ds_test:         Dataset used for testing\n",
        "    - data_dict:       Type of data partition used for training (IID or non-IID)\n",
        "    - C:               Fraction of clients randomly chosen to perform computation on each round\n",
        "    - K:               Total number of clients\n",
        "    - E:               Number of training passes each client makes over its local dataset per round\n",
        "    - tb_writer_name:  Directory name to save the tensorboard logs\n",
        "  Returns:\n",
        "    - model:           Trained model on the server\n",
        "  \"\"\"\n",
        "\n",
        "  # global model weights\n",
        "  global_weights = model.state_dict()\n",
        "\n",
        "  # training loss\n",
        "  # train_accuracy = []\n",
        "  train_loss = []\n",
        "  test_accuracy = []\n",
        "  test_loss = []\n",
        "  f1_macro = []\n",
        "  f1_weighted = []\n",
        "\n",
        "  # client weights by total samples\n",
        "  p_k = None\n",
        "  if sampling == 'weighted':\n",
        "    p_k = [len(data_dict[c]) for c in data_dict] if ds else [len(data_dict[c]['train_ds']) for c in data_dict]\n",
        "\n",
        "  # Time log\n",
        "  start_time = time.time()\n",
        "\n",
        "  users_id = list(data_dict.keys())\n",
        "\n",
        "  for curr_round in range(1, rounds+1):\n",
        "    deltas, hs, local_loss = [], [], []\n",
        "\n",
        "    m = max(int(C*K), 1)    \n",
        "    S_t = client_sampling(K, m, weights=p_k, with_replace=False)\n",
        "\n",
        "    print('Round: {} Picking {}/{} clients: {}'.format(curr_round, m, K, S_t))\n",
        "\n",
        "    global_weights = model.state_dict()\n",
        "\n",
        "    for k in range(len(S_t)):\n",
        "      key = users_id[k]\n",
        "      ds_ = ds if ds else data_dict[key]['train_ds']\n",
        "      idxs = data_dict[key] if ds else None\n",
        "      local_update = ClientUpdate(dataset=ds_, batch_size=batch_size, learning_rate=lr, epochs=E, idxs=idxs, q=q)\n",
        "      delta_k, h_k, loss = local_update.train(model=copy.deepcopy(model))\n",
        "\n",
        "      deltas.append(copy.deepcopy(delta_k))\n",
        "      hs.append(copy.deepcopy(h_k))\n",
        "      local_loss.append(copy.deepcopy(loss))\n",
        "\n",
        "    # Perform qFedAvg\n",
        "    h_sum = copy.deepcopy(hs[0])\n",
        "    delta_sum = copy.deepcopy(deltas[0])\n",
        "    \n",
        "    for k in h_sum.keys():\n",
        "        for i in range(1, len(hs)):\n",
        "            h_sum[k] += hs[i][k]\n",
        "            delta_sum[k] += deltas[i][k]\n",
        "\n",
        "    new_weights = {}\n",
        "    for k in delta_sum.keys():\n",
        "        for i in range(len(deltas)):\n",
        "            new_weights[k] = delta_sum[k] / h_sum[k]\n",
        "\n",
        "    # Updating global model weights\n",
        "    for k in global_weights.keys():\n",
        "        global_weights[k] -= new_weights[k]\n",
        "\n",
        "    # move the updated weights to our model state dict\n",
        "    model.load_state_dict(global_weights)\n",
        "\n",
        "    # loss\n",
        "    loss_avg = sum(local_loss) / len(local_loss)\n",
        "    print('Round: {}... \\tAverage Loss: {}'.format(curr_round, round(loss_avg, 3)))\n",
        "    train_loss.append(loss_avg)\n",
        "\n",
        "    # test\n",
        "    test_criterion = nn.CrossEntropyLoss()\n",
        "    test_accuracy_current, test_loss_current, f1_macro_current, f1_weighted_current =  testing(copy.deepcopy(model), ds_test, 128, test_criterion, num_classes, classes_test)\n",
        "    test_accuracy.append(test_accuracy_current)\n",
        "    test_loss.append(test_loss_current)\n",
        "    f1_macro.append(f1_macro_current)\n",
        "    f1_weighted.append(f1_weighted_current)\n",
        "\n",
        "  end_time = time.time()\n",
        "  \n",
        "  fig, ax = plt.subplots()\n",
        "  x_axis = np.arange(1, rounds+1)\n",
        "  y_axis = np.array(train_loss)\n",
        "  ax.plot(x_axis, y_axis, 'tab:'+plt_color)\n",
        "\n",
        "  ax.set(xlabel='Number of Rounds', ylabel='Train Loss',\n",
        "       title=plt_title)\n",
        "  ax.grid()\n",
        "  fig.savefig(plt_title+'_Train_loss.jpg', format='jpg')\n",
        "  plt.show()\n",
        "\n",
        "  fig, ax = plt.subplots()\n",
        "  x_axis = np.arange(1, rounds+1)\n",
        "  y_axis = np.array(test_loss)\n",
        "  ax.plot(x_axis, y_axis, 'tab:'+plt_color)\n",
        "\n",
        "  ax.set(xlabel='Number of Rounds', ylabel='Test Loss',\n",
        "       title=plt_title)\n",
        "  ax.grid()\n",
        "  fig.savefig(plt_title+'_Test_loss.jpg', format='jpg')\n",
        "  plt.show()\n",
        "\n",
        "  fig, ax = plt.subplots()\n",
        "  x_axis = np.arange(1, rounds+1)\n",
        "  y_axis = np.array(test_accuracy)\n",
        "  ax.plot(x_axis, y_axis, 'tab:'+plt_color)\n",
        "\n",
        "  ax.set(xlabel='Number of Rounds', ylabel='Test Accuracy',\n",
        "       title=plt_title)\n",
        "  ax.grid()\n",
        "  fig.savefig(plt_title+'_Test_Accuracy.jpg', format='jpg')\n",
        "  plt.show()\n",
        "\n",
        "  fig, ax = plt.subplots()\n",
        "  x_axis = np.arange(1, rounds+1)\n",
        "  y_axis = np.array(f1_macro)\n",
        "  ax.plot(x_axis, y_axis, 'tab:'+plt_color)\n",
        "\n",
        "  ax.set(xlabel='Number of Rounds', ylabel='F1 Macro',\n",
        "       title=plt_title)\n",
        "  ax.grid()\n",
        "  fig.savefig(plt_title+'_F1_Marco.jpg', format='jpg')\n",
        "  plt.show()\n",
        "\n",
        "  fig, ax = plt.subplots()\n",
        "  x_axis = np.arange(1, rounds+1)\n",
        "  y_axis = np.array(f1_weighted)\n",
        "  ax.plot(x_axis, y_axis, 'tab:'+plt_color)\n",
        "\n",
        "  ax.set(xlabel='Number of Rounds', ylabel='F1 Weighted',\n",
        "       title=plt_title)\n",
        "  ax.grid()\n",
        "  fig.savefig(plt_title+'_F1_Weighted.jpg', format='jpg')\n",
        "  plt.show()\n",
        "\n",
        "  print(\"Training Done!\")\n",
        "  print(\"Total time taken to Train: {}\\n\\n\".format(end_time-start_time))\n",
        "  \n",
        "  return model, train_loss, test_accuracy, test_loss, f1_macro, f1_weighted"
      ],
      "execution_count": 58,
      "outputs": []
    },
    {
      "cell_type": "markdown",
      "metadata": {
        "id": "tUYyb4T-uXmF"
      },
      "source": [
        "## Testing Loop"
      ]
    },
    {
      "cell_type": "code",
      "metadata": {
        "id": "uCcIZmO5uan9"
      },
      "source": [
        "def testing(model, dataset, bs, criterion, num_classes, classes, print_info=False):\n",
        "  #test loss \n",
        "  test_loss = 0.0\n",
        "  y_true, y_hat = None, None\n",
        "\n",
        "  correct_class = list(0 for i in range(num_classes))\n",
        "  total_class = list(0 for i in range(num_classes))\n",
        "\n",
        "  if hasattr(dataset, 'dataloader'):\n",
        "    test_loader = dataset.dataloader(batch_size=bs, shuffle=False)\n",
        "  else:\n",
        "    test_loader = DataLoader(dataset, batch_size=bs, shuffle=False)\n",
        "\n",
        "  l = len(test_loader)\n",
        "\n",
        "  model.eval()\n",
        "  for i, (data, labels) in enumerate(test_loader):\n",
        "\n",
        "    if torch.cuda.is_available():\n",
        "      data, labels = data.cuda(), labels.cuda()\n",
        "\n",
        "    output = model(data)\n",
        "    loss = criterion(output, labels)\n",
        "    test_loss += loss.item()*data.size(0)\n",
        "\n",
        "    _, pred = torch.max(output, dim=1)\n",
        "\n",
        "    # For F1Score\n",
        "    y_true = np.append(y_true, labels.data.view_as(pred).cpu().numpy()) if i != 0 else labels.data.view_as(pred).cpu().numpy()\n",
        "    y_hat = np.append(y_hat, pred.cpu().numpy()) if i != 0 else pred.cpu().numpy()\n",
        "\n",
        "    correct_tensor = pred.eq(labels.data.view_as(pred))\n",
        "    correct = np.squeeze(correct_tensor.numpy()) if not torch.cuda.is_available() else np.squeeze(correct_tensor.cpu().numpy())\n",
        "\n",
        "    for i, lbl in enumerate(labels.data):\n",
        "      try:\n",
        "        correct_class[lbl.item()] += correct[i]\n",
        "        total_class[lbl.item()] += 1\n",
        "      except:\n",
        "          print('Error', lbl, i)\n",
        "    \n",
        "  # avg test loss\n",
        "  test_loss = test_loss/len(test_loader.dataset)\n",
        "  test_accuracy = 100. * np.sum(correct_class) / np.sum(total_class)\n",
        "  # Avg F1 Score\n",
        "  f1_macro = f1_score(y_true, y_hat, average='macro')\n",
        "  # F1-Score -> weigthed to consider class imbalance\n",
        "  f1_weighted =  f1_score(y_true, y_hat, average='weighted')\n",
        "\n",
        "  if print_info:\n",
        "    print(\"Test Loss: {:.6f}\\n\".format(test_loss))\n",
        "\n",
        "    for i in range(10):\n",
        "      if total_class[i]>0:\n",
        "        print('Test Accuracy of %5s: %2d%% (%2d/%2d)' % \n",
        "              (classes[i], 100 * correct_class[i] / total_class[i],\n",
        "              np.sum(correct_class[i]), np.sum(total_class[i])))\n",
        "      else:\n",
        "        print('Test Accuracy of %5s: N/A (no training examples)' % (classes[i]))\n",
        "\n",
        "    print('\\nFinal Test  Accuracy: {:.3f} ({}/{})'.format(\n",
        "          100. * np.sum(correct_class) / np.sum(total_class),\n",
        "          np.sum(correct_class), np.sum(total_class)))\n",
        "\n",
        "    print(\"F1 Score: {:.6f} (macro) {:.6f} (weighted) %\\n\".format(f1_macro, f1_weighted))\n",
        "  \n",
        "  return test_accuracy, test_loss, f1_macro, f1_weighted"
      ],
      "execution_count": 59,
      "outputs": []
    },
    {
      "cell_type": "markdown",
      "metadata": {
        "id": "Ri0FqXFeHW-V"
      },
      "source": [
        "## Logger"
      ]
    },
    {
      "cell_type": "code",
      "metadata": {
        "id": "thZm2kSiHT4v"
      },
      "source": [
        "log_dict = {}\n",
        "NUM_REPEAT = 1"
      ],
      "execution_count": 60,
      "outputs": []
    },
    {
      "cell_type": "markdown",
      "metadata": {
        "id": "4hO5oV6aXqeh"
      },
      "source": [
        "## MNIST CNN on IID"
      ]
    },
    {
      "cell_type": "markdown",
      "metadata": {
        "id": "flSQv_P4zCfx"
      },
      "source": [
        "### Train\n"
      ]
    },
    {
      "cell_type": "code",
      "metadata": {
        "id": "0ZalcKZtEseA",
        "colab": {
          "base_uri": "https://localhost:8080/",
          "height": 1000
        },
        "outputId": "c562fc64-0bb0-4d88-b5c4-a66513fd38ea"
      },
      "source": [
        "train_loss_multiple_runs = [None] * NUM_REPEAT\n",
        "test_accuracy_multiple_runs = [None] * NUM_REPEAT\n",
        "test_loss_multiple_runs = [None] * NUM_REPEAT\n",
        "f1_macro_multiple_runs = [None] * NUM_REPEAT\n",
        "f1_weighted_multiple_runs = [None] * NUM_REPEAT\n",
        "\n",
        "for exp_num in range(NUM_REPEAT):\n",
        "  print(\"Experiment Run Number: \", exp_num)\n",
        "\n",
        "  # number of training rounds\n",
        "  rounds = 50\n",
        "  # client fraction\n",
        "  C = 0.1\n",
        "  # number of clients\n",
        "  K = 10\n",
        "  # number of training passes on local dataset for each roung\n",
        "  E = 5\n",
        "  # batch size\n",
        "  batch_size = 10\n",
        "  # learning Rate\n",
        "  lr=0.05\n",
        "  # fairness\n",
        "  q = 0.001\n",
        "  # sampling\n",
        "  # sampling = 'uniform'\n",
        "  sampling = 'weighted'\n",
        "  # data partition dictionary\n",
        "  iid_dict = iid_partition(mnist_data_train, 10)\n",
        "  # load model\n",
        "  mnist_cnn = MNIST_CNN()\n",
        "\n",
        "  if torch.cuda.is_available():\n",
        "    mnist_cnn.cuda()\n",
        "\n",
        "  mnist_cnn_iid_trained, train_loss, test_accuracy, test_loss, f1_macro, f1_weighted = training(mnist_cnn, rounds, batch_size, lr, mnist_data_train, mnist_data_test, iid_dict, C, K, E, q, sampling, \"MNIST CNN on IID Dataset\", \"orange\")\n",
        "\n",
        "  train_loss_multiple_runs[exp_num] = train_loss\n",
        "  test_accuracy_multiple_runs[exp_num] = test_accuracy\n",
        "  test_loss_multiple_runs[exp_num] = test_loss\n",
        "  f1_macro_multiple_runs[exp_num] = f1_macro\n",
        "  f1_weighted_multiple_runs[exp_num] = f1_weighted"
      ],
      "execution_count": 61,
      "outputs": [
        {
          "output_type": "stream",
          "text": [
            "Experiment Run Number:  0\n",
            "Round: 1 Picking 1/10 clients: [8]\n",
            "Round: 1... \tAverage Loss: 0.148\n",
            "Round: 2 Picking 1/10 clients: [4]\n",
            "Round: 2... \tAverage Loss: 0.084\n",
            "Round: 3 Picking 1/10 clients: [3]\n",
            "Round: 3... \tAverage Loss: 0.076\n",
            "Round: 4 Picking 1/10 clients: [3]\n",
            "Round: 4... \tAverage Loss: 0.062\n",
            "Round: 5 Picking 1/10 clients: [6]\n",
            "Round: 5... \tAverage Loss: 0.059\n",
            "Round: 6 Picking 1/10 clients: [7]\n",
            "Round: 6... \tAverage Loss: 0.051\n",
            "Round: 7 Picking 1/10 clients: [7]\n",
            "Round: 7... \tAverage Loss: 0.047\n",
            "Round: 8 Picking 1/10 clients: [6]\n",
            "Round: 8... \tAverage Loss: 0.036\n",
            "Round: 9 Picking 1/10 clients: [5]\n",
            "Round: 9... \tAverage Loss: 0.041\n",
            "Round: 10 Picking 1/10 clients: [8]\n",
            "Round: 10... \tAverage Loss: 0.036\n",
            "Round: 11 Picking 1/10 clients: [2]\n",
            "Round: 11... \tAverage Loss: 0.037\n",
            "Round: 12 Picking 1/10 clients: [4]\n",
            "Round: 12... \tAverage Loss: 0.035\n",
            "Round: 13 Picking 1/10 clients: [2]\n",
            "Round: 13... \tAverage Loss: 0.031\n",
            "Round: 14 Picking 1/10 clients: [3]\n",
            "Round: 14... \tAverage Loss: 0.028\n",
            "Round: 15 Picking 1/10 clients: [3]\n",
            "Round: 15... \tAverage Loss: 0.024\n",
            "Round: 16 Picking 1/10 clients: [5]\n",
            "Round: 16... \tAverage Loss: 0.022\n",
            "Round: 17 Picking 1/10 clients: [8]\n",
            "Round: 17... \tAverage Loss: 0.013\n",
            "Round: 18 Picking 1/10 clients: [3]\n",
            "Round: 18... \tAverage Loss: 0.021\n",
            "Round: 19 Picking 1/10 clients: [8]\n",
            "Round: 19... \tAverage Loss: 0.019\n",
            "Round: 20 Picking 1/10 clients: [7]\n",
            "Round: 20... \tAverage Loss: 0.002\n",
            "Round: 21 Picking 1/10 clients: [9]\n",
            "Round: 21... \tAverage Loss: 0.001\n",
            "Round: 22 Picking 1/10 clients: [9]\n",
            "Round: 22... \tAverage Loss: 0.001\n",
            "Round: 23 Picking 1/10 clients: [1]\n",
            "Round: 23... \tAverage Loss: 0.002\n",
            "Round: 24 Picking 1/10 clients: [6]\n",
            "Round: 24... \tAverage Loss: 0.001\n",
            "Round: 25 Picking 1/10 clients: [5]\n",
            "Round: 25... \tAverage Loss: 0.02\n",
            "Round: 26 Picking 1/10 clients: [1]\n",
            "Round: 26... \tAverage Loss: 0.0\n",
            "Round: 27 Picking 1/10 clients: [1]\n",
            "Round: 27... \tAverage Loss: 0.0\n",
            "Round: 28 Picking 1/10 clients: [3]\n",
            "Round: 28... \tAverage Loss: 0.0\n",
            "Round: 29 Picking 1/10 clients: [9]\n",
            "Round: 29... \tAverage Loss: 0.0\n",
            "Round: 30 Picking 1/10 clients: [3]\n",
            "Round: 30... \tAverage Loss: 0.0\n",
            "Round: 31 Picking 1/10 clients: [7]\n",
            "Round: 31... \tAverage Loss: 0.0\n",
            "Round: 32 Picking 1/10 clients: [2]\n",
            "Round: 32... \tAverage Loss: 0.0\n",
            "Round: 33 Picking 1/10 clients: [8]\n",
            "Round: 33... \tAverage Loss: 0.0\n",
            "Round: 34 Picking 1/10 clients: [6]\n",
            "Round: 34... \tAverage Loss: 0.0\n",
            "Round: 35 Picking 1/10 clients: [4]\n",
            "Round: 35... \tAverage Loss: 0.0\n",
            "Round: 36 Picking 1/10 clients: [5]\n",
            "Round: 36... \tAverage Loss: 0.0\n",
            "Round: 37 Picking 1/10 clients: [0]\n",
            "Round: 37... \tAverage Loss: 0.0\n",
            "Round: 38 Picking 1/10 clients: [4]\n",
            "Round: 38... \tAverage Loss: 0.0\n",
            "Round: 39 Picking 1/10 clients: [8]\n",
            "Round: 39... \tAverage Loss: 0.005\n",
            "Round: 40 Picking 1/10 clients: [0]\n",
            "Round: 40... \tAverage Loss: 0.002\n",
            "Round: 41 Picking 1/10 clients: [8]\n",
            "Round: 41... \tAverage Loss: 0.0\n",
            "Round: 42 Picking 1/10 clients: [9]\n",
            "Round: 42... \tAverage Loss: 0.0\n",
            "Round: 43 Picking 1/10 clients: [6]\n",
            "Round: 43... \tAverage Loss: 0.0\n",
            "Round: 44 Picking 1/10 clients: [8]\n",
            "Round: 44... \tAverage Loss: 0.0\n",
            "Round: 45 Picking 1/10 clients: [2]\n",
            "Round: 45... \tAverage Loss: 0.0\n",
            "Round: 46 Picking 1/10 clients: [7]\n",
            "Round: 46... \tAverage Loss: 0.0\n",
            "Round: 47 Picking 1/10 clients: [4]\n",
            "Round: 47... \tAverage Loss: 0.0\n",
            "Round: 48 Picking 1/10 clients: [2]\n",
            "Round: 48... \tAverage Loss: 0.0\n",
            "Round: 49 Picking 1/10 clients: [9]\n",
            "Round: 49... \tAverage Loss: 0.0\n",
            "Round: 50 Picking 1/10 clients: [3]\n",
            "Round: 50... \tAverage Loss: 0.0\n"
          ],
          "name": "stdout"
        },
        {
          "output_type": "display_data",
          "data": {
            "image/png": "[encoded data removed]",
            "text/plain": [
              "<Figure size 432x288 with 1 Axes>"
            ]
          },
          "metadata": {
            "tags": [],
            "needs_background": "light"
          }
        },
        {
          "output_type": "display_data",
          "data": {
            "image/png": "[encoded data removed]",
            "text/plain": [
              "<Figure size 432x288 with 1 Axes>"
            ]
          },
          "metadata": {
            "tags": [],
            "needs_background": "light"
          }
        },
        {
          "output_type": "display_data",
          "data": {
            "image/png": "[encoded data removed]",
            "text/plain": [
              "<Figure size 432x288 with 1 Axes>"
            ]
          },
          "metadata": {
            "tags": [],
            "needs_background": "light"
          }
        },
        {
          "output_type": "display_data",
          "data": {
            "image/png": "[encoded data removed]",
            "text/plain": [
              "<Figure size 432x288 with 1 Axes>"
            ]
          },
          "metadata": {
            "tags": [],
            "needs_background": "light"
          }
        },
        {
          "output_type": "display_data",
          "data": {
            "image/png": "[encoded data removed]",
            "text/plain": [
              "<Figure size 432x288 with 1 Axes>"
            ]
          },
          "metadata": {
            "tags": [],
            "needs_background": "light"
          }
        },
        {
          "output_type": "stream",
          "text": [
            "Training Done!\n",
            "Total time taken to Train: 1270.0920906066895\n",
            "\n",
            "\n"
          ],
          "name": "stdout"
        }
      ]
    },
    {
      "cell_type": "markdown",
      "metadata": {
        "id": "wNwC82przF6G"
      },
      "source": [
        "### Test"
      ]
    },
    {
      "cell_type": "code",
      "metadata": {
        "id": "qB97BFs9we9w",
        "colab": {
          "base_uri": "https://localhost:8080/"
        },
        "outputId": "0f3f3719-74a4-4865-bb72-c311b7a0c055"
      },
      "source": [
        "criterion = nn.CrossEntropyLoss()\n",
        "acc, loss, f1_macro, f1_weighted = testing(mnist_cnn_iid_trained, mnist_data_test, 128, criterion, num_classes, classes_test, True)"
      ],
      "execution_count": 62,
      "outputs": [
        {
          "output_type": "stream",
          "text": [
            "Test Loss: 0.051524\n",
            "\n",
            "Test Accuracy of     0: 99% (976/980)\n",
            "Test Accuracy of     1: 99% (1131/1135)\n",
            "Test Accuracy of     2: 98% (1019/1032)\n",
            "Test Accuracy of     3: 99% (1001/1010)\n",
            "Test Accuracy of     4: 98% (972/982)\n",
            "Test Accuracy of     5: 99% (884/892)\n",
            "Test Accuracy of     6: 98% (945/958)\n",
            "Test Accuracy of     7: 98% (1012/1028)\n",
            "Test Accuracy of     8: 97% (953/974)\n",
            "Test Accuracy of     9: 98% (989/1009)\n",
            "\n",
            "Final Test  Accuracy: 98.820 (9882/10000)\n",
            "F1 Score: 0.988140 (macro) 0.988195 (weighted) %\n",
            "\n"
          ],
          "name": "stdout"
        }
      ]
    },
    {
      "cell_type": "code",
      "metadata": {
        "id": "gdQZEZmHHeqt"
      },
      "source": [
        "hyperparams = {'rounds': rounds,\n",
        "               'C': C,\n",
        "               'K': K,\n",
        "               'E': E,\n",
        "               'batch_size': batch_size,\n",
        "               'lr': lr,\n",
        "               'q': q,\n",
        "               'sampling': sampling\n",
        "               }\n",
        "\n",
        "log_dict['MNIST CNN on IID'] = {'train_loss': train_loss_multiple_runs, \n",
        "                                'test_loss': test_loss_multiple_runs, \n",
        "                                'test_accuracy': test_accuracy_multiple_runs,\n",
        "                                'f1_macro': f1_macro_multiple_runs,\n",
        "                                'f1_weighted': f1_weighted_multiple_runs,\n",
        "                                'hyperparams': hyperparams,\n",
        "                                }"
      ],
      "execution_count": 63,
      "outputs": []
    },
    {
      "cell_type": "markdown",
      "metadata": {
        "id": "uF8MdSIUYcnl"
      },
      "source": [
        "## MNIST CNN on Non IID"
      ]
    },
    {
      "cell_type": "markdown",
      "metadata": {
        "id": "a6wXX7JW11bx"
      },
      "source": [
        "### Train\n"
      ]
    },
    {
      "cell_type": "code",
      "metadata": {
        "id": "fCD3kBCKYfBK",
        "colab": {
          "base_uri": "https://localhost:8080/",
          "height": 1000
        },
        "outputId": "d58617e1-7cbe-48e9-ff8d-4b4af582935c"
      },
      "source": [
        "train_loss_multiple_runs = [None] * NUM_REPEAT\n",
        "test_accuracy_multiple_runs = [None] * NUM_REPEAT\n",
        "test_loss_multiple_runs = [None] * NUM_REPEAT\n",
        "f1_macro_multiple_runs = [None] * NUM_REPEAT\n",
        "f1_weighted_multiple_runs = [None] * NUM_REPEAT\n",
        "\n",
        "for exp_num in range(NUM_REPEAT):\n",
        "  print(\"Experiment Run Number: \", exp_num)\n",
        "\n",
        "  # number of training rounds\n",
        "  rounds = 50\n",
        "  # client fraction\n",
        "  C = 0.1\n",
        "  # number of clients\n",
        "  K = 10\n",
        "  # number of training passes on local dataset for each roung\n",
        "  E = 5\n",
        "  # batch size\n",
        "  batch_size = 10\n",
        "  # learning Rate\n",
        "  lr=0.05\n",
        "  # fairness\n",
        "  q = 0.001\n",
        "  # sampling\n",
        "  # sampling = 'uniform'\n",
        "  sampling = 'weighted'\n",
        "  # dict containing different type of data partition\n",
        "  data_dict = non_iid_partition(mnist_data_train, 10, 20, 3000, 2)\n",
        "  # load model\n",
        "  mnist_cnn = MNIST_CNN()\n",
        "\n",
        "  if torch.cuda.is_available():\n",
        "    mnist_cnn.cuda()\n",
        "\n",
        "  mnist_cnn_non_iid_trained, train_loss, test_accuracy, test_loss, f1_macro, f1_weighted = training(mnist_cnn, rounds, batch_size, lr, mnist_data_train, mnist_data_test, data_dict, C, K, E, q, sampling, \"MNIST CNN on Non-IID Dataset\", \"green\")\n",
        "\n",
        "  train_loss_multiple_runs[exp_num] = train_loss\n",
        "  test_accuracy_multiple_runs[exp_num] = test_accuracy\n",
        "  test_loss_multiple_runs[exp_num] = test_loss\n",
        "  f1_macro_multiple_runs[exp_num] = f1_macro\n",
        "  f1_weighted_multiple_runs[exp_num] = f1_weighted"
      ],
      "execution_count": 64,
      "outputs": [
        {
          "output_type": "stream",
          "text": [
            "Experiment Run Number:  0\n",
            "Round: 1 Picking 1/10 clients: [3]\n",
            "Round: 1... \tAverage Loss: 0.024\n",
            "Round: 2 Picking 1/10 clients: [6]\n",
            "Round: 2... \tAverage Loss: 0.014\n",
            "Round: 3 Picking 1/10 clients: [4]\n",
            "Round: 3... \tAverage Loss: 0.01\n",
            "Round: 4 Picking 1/10 clients: [4]\n",
            "Round: 4... \tAverage Loss: 0.007\n",
            "Round: 5 Picking 1/10 clients: [3]\n",
            "Round: 5... \tAverage Loss: 0.006\n",
            "Round: 6 Picking 1/10 clients: [1]\n",
            "Round: 6... \tAverage Loss: 0.006\n",
            "Round: 7 Picking 1/10 clients: [4]\n",
            "Round: 7... \tAverage Loss: 0.006\n",
            "Round: 8 Picking 1/10 clients: [4]\n",
            "Round: 8... \tAverage Loss: 0.006\n",
            "Round: 9 Picking 1/10 clients: [2]\n",
            "Round: 9... \tAverage Loss: 0.006\n",
            "Round: 10 Picking 1/10 clients: [5]\n",
            "Round: 10... \tAverage Loss: 0.003\n",
            "Round: 11 Picking 1/10 clients: [0]\n",
            "Round: 11... \tAverage Loss: 0.004\n",
            "Round: 12 Picking 1/10 clients: [2]\n",
            "Round: 12... \tAverage Loss: 0.003\n",
            "Round: 13 Picking 1/10 clients: [8]\n",
            "Round: 13... \tAverage Loss: 0.003\n",
            "Round: 14 Picking 1/10 clients: [8]\n",
            "Round: 14... \tAverage Loss: 0.001\n",
            "Round: 15 Picking 1/10 clients: [1]\n",
            "Round: 15... \tAverage Loss: 0.0\n",
            "Round: 16 Picking 1/10 clients: [9]\n",
            "Round: 16... \tAverage Loss: 0.001\n",
            "Round: 17 Picking 1/10 clients: [2]\n",
            "Round: 17... \tAverage Loss: 0.003\n",
            "Round: 18 Picking 1/10 clients: [6]\n",
            "Round: 18... \tAverage Loss: 0.0\n",
            "Round: 19 Picking 1/10 clients: [6]\n",
            "Round: 19... \tAverage Loss: 0.0\n",
            "Round: 20 Picking 1/10 clients: [6]\n",
            "Round: 20... \tAverage Loss: 0.0\n",
            "Round: 21 Picking 1/10 clients: [5]\n",
            "Round: 21... \tAverage Loss: 0.0\n",
            "Round: 22 Picking 1/10 clients: [5]\n",
            "Round: 22... \tAverage Loss: 0.0\n",
            "Round: 23 Picking 1/10 clients: [3]\n",
            "Round: 23... \tAverage Loss: 0.0\n",
            "Round: 24 Picking 1/10 clients: [6]\n",
            "Round: 24... \tAverage Loss: 0.0\n",
            "Round: 25 Picking 1/10 clients: [2]\n",
            "Round: 25... \tAverage Loss: 0.0\n",
            "Round: 26 Picking 1/10 clients: [6]\n",
            "Round: 26... \tAverage Loss: 0.0\n",
            "Round: 27 Picking 1/10 clients: [5]\n",
            "Round: 27... \tAverage Loss: 0.0\n",
            "Round: 28 Picking 1/10 clients: [3]\n",
            "Round: 28... \tAverage Loss: 0.0\n",
            "Round: 29 Picking 1/10 clients: [6]\n",
            "Round: 29... \tAverage Loss: 0.0\n",
            "Round: 30 Picking 1/10 clients: [7]\n",
            "Round: 30... \tAverage Loss: 0.0\n",
            "Round: 31 Picking 1/10 clients: [8]\n",
            "Round: 31... \tAverage Loss: 0.0\n",
            "Round: 32 Picking 1/10 clients: [0]\n",
            "Round: 32... \tAverage Loss: 0.0\n",
            "Round: 33 Picking 1/10 clients: [3]\n",
            "Round: 33... \tAverage Loss: 0.0\n",
            "Round: 34 Picking 1/10 clients: [9]\n",
            "Round: 34... \tAverage Loss: 0.0\n",
            "Round: 35 Picking 1/10 clients: [6]\n",
            "Round: 35... \tAverage Loss: 0.0\n",
            "Round: 36 Picking 1/10 clients: [4]\n",
            "Round: 36... \tAverage Loss: 0.0\n",
            "Round: 37 Picking 1/10 clients: [3]\n",
            "Round: 37... \tAverage Loss: 0.0\n",
            "Round: 38 Picking 1/10 clients: [2]\n",
            "Round: 38... \tAverage Loss: 0.0\n",
            "Round: 39 Picking 1/10 clients: [4]\n",
            "Round: 39... \tAverage Loss: 0.0\n",
            "Round: 40 Picking 1/10 clients: [7]\n",
            "Round: 40... \tAverage Loss: 0.0\n",
            "Round: 41 Picking 1/10 clients: [9]\n",
            "Round: 41... \tAverage Loss: 0.0\n",
            "Round: 42 Picking 1/10 clients: [7]\n",
            "Round: 42... \tAverage Loss: 0.0\n",
            "Round: 43 Picking 1/10 clients: [3]\n",
            "Round: 43... \tAverage Loss: 0.0\n",
            "Round: 44 Picking 1/10 clients: [0]\n",
            "Round: 44... \tAverage Loss: 0.0\n",
            "Round: 45 Picking 1/10 clients: [2]\n",
            "Round: 45... \tAverage Loss: 0.0\n",
            "Round: 46 Picking 1/10 clients: [8]\n",
            "Round: 46... \tAverage Loss: 0.0\n",
            "Round: 47 Picking 1/10 clients: [8]\n",
            "Round: 47... \tAverage Loss: 0.0\n",
            "Round: 48 Picking 1/10 clients: [5]\n",
            "Round: 48... \tAverage Loss: 0.0\n",
            "Round: 49 Picking 1/10 clients: [9]\n",
            "Round: 49... \tAverage Loss: 0.0\n",
            "Round: 50 Picking 1/10 clients: [3]\n",
            "Round: 50... \tAverage Loss: 0.006\n"
          ],
          "name": "stdout"
        },
        {
          "output_type": "display_data",
          "data": {
            "image/png": "[encoded data removed]",
            "text/plain": [
              "<Figure size 432x288 with 1 Axes>"
            ]
          },
          "metadata": {
            "tags": [],
            "needs_background": "light"
          }
        },
        {
          "output_type": "display_data",
          "data": {
            "image/png": "[encoded data removed]",
            "text/plain": [
              "<Figure size 432x288 with 1 Axes>"
            ]
          },
          "metadata": {
            "tags": [],
            "needs_background": "light"
          }
        },
        {
          "output_type": "display_data",
          "data": {
            "image/png": "[encoded data removed]",
            "text/plain": [
              "<Figure size 432x288 with 1 Axes>"
            ]
          },
          "metadata": {
            "tags": [],
            "needs_background": "light"
          }
        },
        {
          "output_type": "display_data",
          "data": {
            "image/png": "[encoded data removed]",
            "text/plain": [
              "<Figure size 432x288 with 1 Axes>"
            ]
          },
          "metadata": {
            "tags": [],
            "needs_background": "light"
          }
        },
        {
          "output_type": "display_data",
          "data": {
            "image/png": "[encoded data removed]",
            "text/plain": [
              "<Figure size 432x288 with 1 Axes>"
            ]
          },
          "metadata": {
            "tags": [],
            "needs_background": "light"
          }
        },
        {
          "output_type": "stream",
          "text": [
            "Training Done!\n",
            "Total time taken to Train: 1254.577995300293\n",
            "\n",
            "\n"
          ],
          "name": "stdout"
        }
      ]
    },
    {
      "cell_type": "markdown",
      "metadata": {
        "id": "4C68J-Kk14dB"
      },
      "source": [
        "### Test"
      ]
    },
    {
      "cell_type": "code",
      "metadata": {
        "id": "_yQ9GiAZ15jE",
        "colab": {
          "base_uri": "https://localhost:8080/"
        },
        "outputId": "7ea492a6-e0db-4028-f3c3-fff2702191a8"
      },
      "source": [
        "criterion = nn.CrossEntropyLoss()\n",
        "acc, loss, f1_macro, f1_weighted = testing(mnist_cnn_non_iid_trained, mnist_data_test, 128, criterion, num_classes, classes_test, True)"
      ],
      "execution_count": 65,
      "outputs": [
        {
          "output_type": "stream",
          "text": [
            "Test Loss: 12.488706\n",
            "\n",
            "Test Accuracy of     0:  0% ( 0/980)\n",
            "Test Accuracy of     1: 99% (1134/1135)\n",
            "Test Accuracy of     2: 99% (1031/1032)\n",
            "Test Accuracy of     3:  0% ( 0/1010)\n",
            "Test Accuracy of     4:  0% ( 0/982)\n",
            "Test Accuracy of     5:  0% ( 0/892)\n",
            "Test Accuracy of     6:  0% ( 0/958)\n",
            "Test Accuracy of     7:  0% ( 0/1028)\n",
            "Test Accuracy of     8:  0% ( 0/974)\n",
            "Test Accuracy of     9:  0% ( 0/1009)\n",
            "\n",
            "Final Test  Accuracy: 21.650 (2165/10000)\n",
            "F1 Score: 0.088247 (macro) 0.097704 (weighted) %\n",
            "\n"
          ],
          "name": "stdout"
        }
      ]
    },
    {
      "cell_type": "code",
      "metadata": {
        "id": "dxMcxgLhLvX-"
      },
      "source": [
        "hyperparams = {'rounds': rounds,\n",
        "               'C': C,\n",
        "               'K': K,\n",
        "               'E': E,\n",
        "               'batch_size': batch_size,\n",
        "               'lr': lr,\n",
        "               'q': q,\n",
        "               'sampling': sampling\n",
        "               }\n",
        "\n",
        "log_dict['MNIST CNN on Non IID'] = {'train_loss': train_loss_multiple_runs, \n",
        "                                'test_loss': test_loss_multiple_runs, \n",
        "                                'test_accuracy': test_accuracy_multiple_runs,\n",
        "                                'f1_macro': f1_macro_multiple_runs,\n",
        "                                'f1_weighted': f1_weighted_multiple_runs,\n",
        "                                'hyperparams': hyperparams,\n",
        "                                }"
      ],
      "execution_count": 66,
      "outputs": []
    },
    {
      "cell_type": "markdown",
      "metadata": {
        "id": "z_jifdzniuhm"
      },
      "source": [
        "## MNIST MLP on IID"
      ]
    },
    {
      "cell_type": "markdown",
      "metadata": {
        "id": "uh-te0Od2XGO"
      },
      "source": [
        "### Train"
      ]
    },
    {
      "cell_type": "code",
      "metadata": {
        "id": "UmpWmKOQixVV",
        "colab": {
          "base_uri": "https://localhost:8080/",
          "height": 1000
        },
        "outputId": "614280bb-ced7-4da9-f58e-3b558ea70b67"
      },
      "source": [
        "train_loss_multiple_runs = [None] * NUM_REPEAT\n",
        "test_accuracy_multiple_runs = [None] * NUM_REPEAT\n",
        "test_loss_multiple_runs = [None] * NUM_REPEAT\n",
        "f1_macro_multiple_runs = [None] * NUM_REPEAT\n",
        "f1_weighted_multiple_runs = [None] * NUM_REPEAT\n",
        "\n",
        "for exp_num in range(NUM_REPEAT):\n",
        "  print(\"Experiment Run Number: \", exp_num)\n",
        "\n",
        "  # number of training rounds\n",
        "  rounds = 50\n",
        "  # client fraction\n",
        "  C = 0.1\n",
        "  # number of clients\n",
        "  K = 10\n",
        "  # number of training passes on local dataset for each round\n",
        "  E = 5\n",
        "  # batch size\n",
        "  batch_size = 10\n",
        "  # learning Rate\n",
        "  lr=0.05\n",
        "  # fairness\n",
        "  q = 0.001\n",
        "  # sampling\n",
        "  # sampling = 'uniform'\n",
        "  sampling = 'weighted'\n",
        "  # dict containing different type of data partition\n",
        "  data_dict = iid_partition(mnist_data_train, 10)\n",
        "  # load model\n",
        "  mnist_mlp = MNIST_2NN()\n",
        "\n",
        "  if torch.cuda.is_available():\n",
        "    mnist_mlp.cuda()\n",
        "\n",
        "  mnist_mlp_iid_trained, train_loss, test_accuracy, test_loss, f1_macro, f1_weighted = training(mnist_mlp, rounds, batch_size, lr, mnist_data_train, mnist_data_test, data_dict, C, K, E, q, sampling, \"MNIST MLP on IID Dataset\", \"orange\")\n",
        "  \n",
        "  train_loss_multiple_runs[exp_num] = train_loss\n",
        "  test_accuracy_multiple_runs[exp_num] = test_accuracy\n",
        "  test_loss_multiple_runs[exp_num] = test_loss\n",
        "  f1_macro_multiple_runs[exp_num] = f1_macro\n",
        "  f1_weighted_multiple_runs[exp_num] = f1_weighted"
      ],
      "execution_count": 67,
      "outputs": [
        {
          "output_type": "stream",
          "text": [
            "Experiment Run Number:  0\n",
            "Round: 1 Picking 1/10 clients: [9]\n",
            "Round: 1... \tAverage Loss: 0.209\n",
            "Round: 2 Picking 1/10 clients: [3]\n",
            "Round: 2... \tAverage Loss: 0.162\n",
            "Round: 3 Picking 1/10 clients: [5]\n",
            "Round: 3... \tAverage Loss: 0.132\n",
            "Round: 4 Picking 1/10 clients: [8]\n",
            "Round: 4... \tAverage Loss: 0.114\n",
            "Round: 5 Picking 1/10 clients: [3]\n",
            "Round: 5... \tAverage Loss: 0.106\n",
            "Round: 6 Picking 1/10 clients: [2]\n",
            "Round: 6... \tAverage Loss: 0.097\n",
            "Round: 7 Picking 1/10 clients: [7]\n",
            "Round: 7... \tAverage Loss: 0.093\n",
            "Round: 8 Picking 1/10 clients: [4]\n",
            "Round: 8... \tAverage Loss: 0.093\n",
            "Round: 9 Picking 1/10 clients: [4]\n",
            "Round: 9... \tAverage Loss: 0.086\n",
            "Round: 10 Picking 1/10 clients: [5]\n",
            "Round: 10... \tAverage Loss: 0.081\n",
            "Round: 11 Picking 1/10 clients: [3]\n",
            "Round: 11... \tAverage Loss: 0.092\n",
            "Round: 12 Picking 1/10 clients: [1]\n",
            "Round: 12... \tAverage Loss: 0.087\n",
            "Round: 13 Picking 1/10 clients: [1]\n",
            "Round: 13... \tAverage Loss: 0.082\n",
            "Round: 14 Picking 1/10 clients: [2]\n",
            "Round: 14... \tAverage Loss: 0.079\n",
            "Round: 15 Picking 1/10 clients: [0]\n",
            "Round: 15... \tAverage Loss: 0.085\n",
            "Round: 16 Picking 1/10 clients: [7]\n",
            "Round: 16... \tAverage Loss: 0.073\n",
            "Round: 17 Picking 1/10 clients: [8]\n",
            "Round: 17... \tAverage Loss: 0.062\n",
            "Round: 18 Picking 1/10 clients: [4]\n",
            "Round: 18... \tAverage Loss: 0.059\n",
            "Round: 19 Picking 1/10 clients: [9]\n",
            "Round: 19... \tAverage Loss: 0.073\n",
            "Round: 20 Picking 1/10 clients: [0]\n",
            "Round: 20... \tAverage Loss: 0.045\n",
            "Round: 21 Picking 1/10 clients: [0]\n",
            "Round: 21... \tAverage Loss: 0.038\n",
            "Round: 22 Picking 1/10 clients: [0]\n",
            "Round: 22... \tAverage Loss: 0.001\n",
            "Round: 23 Picking 1/10 clients: [2]\n",
            "Round: 23... \tAverage Loss: 0.001\n",
            "Round: 24 Picking 1/10 clients: [5]\n",
            "Round: 24... \tAverage Loss: 0.02\n",
            "Round: 25 Picking 1/10 clients: [2]\n",
            "Round: 25... \tAverage Loss: 0.002\n",
            "Round: 26 Picking 1/10 clients: [6]\n",
            "Round: 26... \tAverage Loss: 0.001\n",
            "Round: 27 Picking 1/10 clients: [9]\n",
            "Round: 27... \tAverage Loss: 0.001\n",
            "Round: 28 Picking 1/10 clients: [1]\n",
            "Round: 28... \tAverage Loss: 0.001\n",
            "Round: 29 Picking 1/10 clients: [6]\n",
            "Round: 29... \tAverage Loss: 0.0\n",
            "Round: 30 Picking 1/10 clients: [0]\n",
            "Round: 30... \tAverage Loss: 0.0\n",
            "Round: 31 Picking 1/10 clients: [6]\n",
            "Round: 31... \tAverage Loss: 0.0\n",
            "Round: 32 Picking 1/10 clients: [1]\n",
            "Round: 32... \tAverage Loss: 0.0\n",
            "Round: 33 Picking 1/10 clients: [7]\n",
            "Round: 33... \tAverage Loss: 0.0\n",
            "Round: 34 Picking 1/10 clients: [6]\n",
            "Round: 34... \tAverage Loss: 0.0\n",
            "Round: 35 Picking 1/10 clients: [5]\n",
            "Round: 35... \tAverage Loss: 0.0\n",
            "Round: 36 Picking 1/10 clients: [8]\n",
            "Round: 36... \tAverage Loss: 0.0\n",
            "Round: 37 Picking 1/10 clients: [3]\n",
            "Round: 37... \tAverage Loss: 0.0\n",
            "Round: 38 Picking 1/10 clients: [1]\n",
            "Round: 38... \tAverage Loss: 0.0\n",
            "Round: 39 Picking 1/10 clients: [0]\n",
            "Round: 39... \tAverage Loss: 0.0\n",
            "Round: 40 Picking 1/10 clients: [6]\n",
            "Round: 40... \tAverage Loss: 0.0\n",
            "Round: 41 Picking 1/10 clients: [9]\n",
            "Round: 41... \tAverage Loss: 0.0\n",
            "Round: 42 Picking 1/10 clients: [8]\n",
            "Round: 42... \tAverage Loss: 0.0\n",
            "Round: 43 Picking 1/10 clients: [5]\n",
            "Round: 43... \tAverage Loss: 0.0\n",
            "Round: 44 Picking 1/10 clients: [3]\n",
            "Round: 44... \tAverage Loss: 0.0\n",
            "Round: 45 Picking 1/10 clients: [8]\n",
            "Round: 45... \tAverage Loss: 0.0\n",
            "Round: 46 Picking 1/10 clients: [9]\n",
            "Round: 46... \tAverage Loss: 0.0\n",
            "Round: 47 Picking 1/10 clients: [4]\n",
            "Round: 47... \tAverage Loss: 0.0\n",
            "Round: 48 Picking 1/10 clients: [8]\n",
            "Round: 48... \tAverage Loss: 0.0\n",
            "Round: 49 Picking 1/10 clients: [5]\n",
            "Round: 49... \tAverage Loss: 0.0\n",
            "Round: 50 Picking 1/10 clients: [1]\n",
            "Round: 50... \tAverage Loss: 0.0\n"
          ],
          "name": "stdout"
        },
        {
          "output_type": "display_data",
          "data": {
            "image/png": "[encoded data removed]",
            "text/plain": [
              "<Figure size 432x288 with 1 Axes>"
            ]
          },
          "metadata": {
            "tags": [],
            "needs_background": "light"
          }
        },
        {
          "output_type": "display_data",
          "data": {
            "image/png": "[encoded data removed]",
            "text/plain": [
              "<Figure size 432x288 with 1 Axes>"
            ]
          },
          "metadata": {
            "tags": [],
            "needs_background": "light"
          }
        },
        {
          "output_type": "display_data",
          "data": {
            "image/png": "[encoded data removed]",
            "text/plain": [
              "<Figure size 432x288 with 1 Axes>"
            ]
          },
          "metadata": {
            "tags": [],
            "needs_background": "light"
          }
        },
        {
          "output_type": "display_data",
          "data": {
            "image/png": "[encoded data removed]",
            "text/plain": [
              "<Figure size 432x288 with 1 Axes>"
            ]
          },
          "metadata": {
            "tags": [],
            "needs_background": "light"
          }
        },
        {
          "output_type": "display_data",
          "data": {
            "image/png": "[encoded data removed]",
            "text/plain": [
              "<Figure size 432x288 with 1 Axes>"
            ]
          },
          "metadata": {
            "tags": [],
            "needs_background": "light"
          }
        },
        {
          "output_type": "stream",
          "text": [
            "Training Done!\n",
            "Total time taken to Train: 701.1010475158691\n",
            "\n",
            "\n"
          ],
          "name": "stdout"
        }
      ]
    },
    {
      "cell_type": "markdown",
      "metadata": {
        "id": "aTBsL3-72PPd"
      },
      "source": [
        "### Test"
      ]
    },
    {
      "cell_type": "code",
      "metadata": {
        "id": "a9G4j5L62OrS",
        "colab": {
          "base_uri": "https://localhost:8080/"
        },
        "outputId": "8d0e8d92-d9cb-40ac-f9b5-a5b35457177f"
      },
      "source": [
        "criterion = nn.CrossEntropyLoss()\n",
        "acc, loss, f1_macro, f1_weighted = testing(mnist_mlp_iid_trained, mnist_data_test, 128, criterion, num_classes, classes_test, True)"
      ],
      "execution_count": 68,
      "outputs": [
        {
          "output_type": "stream",
          "text": [
            "Test Loss: 0.179961\n",
            "\n",
            "Test Accuracy of     0: 98% (963/980)\n",
            "Test Accuracy of     1: 98% (1122/1135)\n",
            "Test Accuracy of     2: 95% (990/1032)\n",
            "Test Accuracy of     3: 96% (973/1010)\n",
            "Test Accuracy of     4: 96% (949/982)\n",
            "Test Accuracy of     5: 96% (860/892)\n",
            "Test Accuracy of     6: 97% (930/958)\n",
            "Test Accuracy of     7: 95% (986/1028)\n",
            "Test Accuracy of     8: 96% (937/974)\n",
            "Test Accuracy of     9: 95% (960/1009)\n",
            "\n",
            "Final Test  Accuracy: 96.700 (9670/10000)\n",
            "F1 Score: 0.966756 (macro) 0.966980 (weighted) %\n",
            "\n"
          ],
          "name": "stdout"
        }
      ]
    },
    {
      "cell_type": "code",
      "metadata": {
        "id": "fWCdJFRCL_f2"
      },
      "source": [
        "hyperparams = {'rounds': rounds,\n",
        "               'C': C,\n",
        "               'K': K,\n",
        "               'E': E,\n",
        "               'batch_size': batch_size,\n",
        "               'lr': lr,\n",
        "               'q': q,\n",
        "               'sampling': sampling\n",
        "               }\n",
        "\n",
        "log_dict['MNIST MLP on IID'] = {'train_loss': train_loss_multiple_runs, \n",
        "                                'test_loss': test_loss_multiple_runs, \n",
        "                                'test_accuracy': test_accuracy_multiple_runs,\n",
        "                                'f1_macro': f1_macro_multiple_runs,\n",
        "                                'f1_weighted': f1_weighted_multiple_runs,\n",
        "                                'hyperparams': hyperparams,\n",
        "                                }"
      ],
      "execution_count": 69,
      "outputs": []
    },
    {
      "cell_type": "markdown",
      "metadata": {
        "id": "J8jzEyO0iywz"
      },
      "source": [
        "## MNIST MLP on Non IID"
      ]
    },
    {
      "cell_type": "markdown",
      "metadata": {
        "id": "pJFepr3y2bF-"
      },
      "source": [
        "### Train"
      ]
    },
    {
      "cell_type": "code",
      "metadata": {
        "id": "EBKO44Hgi1Uh",
        "colab": {
          "base_uri": "https://localhost:8080/",
          "height": 1000
        },
        "outputId": "31b4c821-a4eb-4640-f09e-075e353d021e"
      },
      "source": [
        "train_loss_multiple_runs = [None] * NUM_REPEAT\n",
        "test_accuracy_multiple_runs = [None] * NUM_REPEAT\n",
        "test_loss_multiple_runs = [None] * NUM_REPEAT\n",
        "f1_macro_multiple_runs = [None] * NUM_REPEAT\n",
        "f1_weighted_multiple_runs = [None] * NUM_REPEAT\n",
        "\n",
        "for exp_num in range(NUM_REPEAT):\n",
        "  print(\"Experiment Run Number: \", exp_num)\n",
        "  \n",
        "  # number of training rounds\n",
        "  rounds = 50\n",
        "  # client fraction\n",
        "  C = 0.1\n",
        "  # number of clients\n",
        "  K = 10\n",
        "  # number of training passes on local dataset for each roung\n",
        "  E = 5\n",
        "  # batch size\n",
        "  batch_size = 10\n",
        "  # learning Rate\n",
        "  lr=0.05\n",
        "  # fairness\n",
        "  q = 0.001\n",
        "  # sampling\n",
        "  # sampling = 'uniform'\n",
        "  sampling = 'weighted'\n",
        "\n",
        "  # dict containing different type of data partition\n",
        "  data_dict = non_iid_partition(mnist_data_train, 10, 20, 3000, 2)\n",
        "  # load model\n",
        "  mnist_mlp = MNIST_2NN()\n",
        "\n",
        "  if torch.cuda.is_available():\n",
        "    mnist_mlp.cuda()\n",
        "\n",
        "  mnist_mlp_non_iid_trained, train_loss, test_accuracy, test_loss, f1_macro, f1_weighted = training(mnist_mlp, rounds, batch_size, lr, mnist_data_train, mnist_data_test, data_dict, C, K, E, q, sampling, \"MNIST MLP on Non-IID Dataset\", \"green\")\n",
        "\n",
        "  train_loss_multiple_runs[exp_num] = train_loss\n",
        "  test_accuracy_multiple_runs[exp_num] = test_accuracy\n",
        "  test_loss_multiple_runs[exp_num] = test_loss\n",
        "  f1_macro_multiple_runs[exp_num] = f1_macro\n",
        "  f1_weighted_multiple_runs[exp_num] = f1_weighted"
      ],
      "execution_count": 70,
      "outputs": [
        {
          "output_type": "stream",
          "text": [
            "Experiment Run Number:  0\n",
            "Round: 1 Picking 1/10 clients: [4]\n",
            "Round: 1... \tAverage Loss: 0.015\n",
            "Round: 2 Picking 1/10 clients: [1]\n",
            "Round: 2... \tAverage Loss: 0.011\n",
            "Round: 3 Picking 1/10 clients: [7]\n",
            "Round: 3... \tAverage Loss: 0.009\n",
            "Round: 4 Picking 1/10 clients: [2]\n",
            "Round: 4... \tAverage Loss: 0.006\n",
            "Round: 5 Picking 1/10 clients: [6]\n",
            "Round: 5... \tAverage Loss: 0.005\n",
            "Round: 6 Picking 1/10 clients: [0]\n",
            "Round: 6... \tAverage Loss: 0.004\n",
            "Round: 7 Picking 1/10 clients: [6]\n",
            "Round: 7... \tAverage Loss: 0.004\n",
            "Round: 8 Picking 1/10 clients: [5]\n",
            "Round: 8... \tAverage Loss: 0.003\n",
            "Round: 9 Picking 1/10 clients: [6]\n",
            "Round: 9... \tAverage Loss: 0.004\n",
            "Round: 10 Picking 1/10 clients: [8]\n",
            "Round: 10... \tAverage Loss: 0.004\n",
            "Round: 11 Picking 1/10 clients: [9]\n",
            "Round: 11... \tAverage Loss: 0.003\n",
            "Round: 12 Picking 1/10 clients: [1]\n",
            "Round: 12... \tAverage Loss: 0.005\n",
            "Round: 13 Picking 1/10 clients: [0]\n",
            "Round: 13... \tAverage Loss: 0.001\n",
            "Round: 14 Picking 1/10 clients: [3]\n",
            "Round: 14... \tAverage Loss: 0.004\n",
            "Round: 15 Picking 1/10 clients: [0]\n",
            "Round: 15... \tAverage Loss: 0.0\n",
            "Round: 16 Picking 1/10 clients: [3]\n",
            "Round: 16... \tAverage Loss: 0.0\n",
            "Round: 17 Picking 1/10 clients: [3]\n",
            "Round: 17... \tAverage Loss: 0.0\n",
            "Round: 18 Picking 1/10 clients: [5]\n",
            "Round: 18... \tAverage Loss: 0.0\n",
            "Round: 19 Picking 1/10 clients: [3]\n",
            "Round: 19... \tAverage Loss: 0.0\n",
            "Round: 20 Picking 1/10 clients: [4]\n",
            "Round: 20... \tAverage Loss: 0.0\n",
            "Round: 21 Picking 1/10 clients: [0]\n",
            "Round: 21... \tAverage Loss: 0.0\n",
            "Round: 22 Picking 1/10 clients: [6]\n",
            "Round: 22... \tAverage Loss: 0.0\n",
            "Round: 23 Picking 1/10 clients: [4]\n",
            "Round: 23... \tAverage Loss: 0.0\n",
            "Round: 24 Picking 1/10 clients: [0]\n",
            "Round: 24... \tAverage Loss: 0.0\n",
            "Round: 25 Picking 1/10 clients: [1]\n",
            "Round: 25... \tAverage Loss: 0.0\n",
            "Round: 26 Picking 1/10 clients: [2]\n",
            "Round: 26... \tAverage Loss: 0.0\n",
            "Round: 27 Picking 1/10 clients: [3]\n",
            "Round: 27... \tAverage Loss: 0.0\n",
            "Round: 28 Picking 1/10 clients: [0]\n",
            "Round: 28... \tAverage Loss: 0.0\n",
            "Round: 29 Picking 1/10 clients: [8]\n",
            "Round: 29... \tAverage Loss: 0.0\n",
            "Round: 30 Picking 1/10 clients: [6]\n",
            "Round: 30... \tAverage Loss: 0.0\n",
            "Round: 31 Picking 1/10 clients: [8]\n",
            "Round: 31... \tAverage Loss: 0.0\n",
            "Round: 32 Picking 1/10 clients: [2]\n",
            "Round: 32... \tAverage Loss: 0.0\n",
            "Round: 33 Picking 1/10 clients: [5]\n",
            "Round: 33... \tAverage Loss: 0.0\n",
            "Round: 34 Picking 1/10 clients: [5]\n",
            "Round: 34... \tAverage Loss: 0.0\n",
            "Round: 35 Picking 1/10 clients: [7]\n",
            "Round: 35... \tAverage Loss: 0.0\n",
            "Round: 36 Picking 1/10 clients: [1]\n",
            "Round: 36... \tAverage Loss: 0.0\n",
            "Round: 37 Picking 1/10 clients: [0]\n",
            "Round: 37... \tAverage Loss: 0.0\n",
            "Round: 38 Picking 1/10 clients: [0]\n",
            "Round: 38... \tAverage Loss: 0.0\n",
            "Round: 39 Picking 1/10 clients: [4]\n",
            "Round: 39... \tAverage Loss: 0.0\n",
            "Round: 40 Picking 1/10 clients: [6]\n",
            "Round: 40... \tAverage Loss: 0.0\n",
            "Round: 41 Picking 1/10 clients: [8]\n",
            "Round: 41... \tAverage Loss: 0.0\n",
            "Round: 42 Picking 1/10 clients: [8]\n",
            "Round: 42... \tAverage Loss: 0.0\n",
            "Round: 43 Picking 1/10 clients: [0]\n",
            "Round: 43... \tAverage Loss: 0.0\n",
            "Round: 44 Picking 1/10 clients: [9]\n",
            "Round: 44... \tAverage Loss: 0.0\n",
            "Round: 45 Picking 1/10 clients: [6]\n",
            "Round: 45... \tAverage Loss: 0.0\n",
            "Round: 46 Picking 1/10 clients: [6]\n",
            "Round: 46... \tAverage Loss: 0.0\n",
            "Round: 47 Picking 1/10 clients: [2]\n",
            "Round: 47... \tAverage Loss: 0.0\n",
            "Round: 48 Picking 1/10 clients: [7]\n",
            "Round: 48... \tAverage Loss: 0.0\n",
            "Round: 49 Picking 1/10 clients: [6]\n",
            "Round: 49... \tAverage Loss: 0.0\n",
            "Round: 50 Picking 1/10 clients: [7]\n",
            "Round: 50... \tAverage Loss: 0.0\n"
          ],
          "name": "stdout"
        },
        {
          "output_type": "display_data",
          "data": {
            "image/png": "[encoded data removed]",
            "text/plain": [
              "<Figure size 432x288 with 1 Axes>"
            ]
          },
          "metadata": {
            "tags": [],
            "needs_background": "light"
          }
        },
        {
          "output_type": "display_data",
          "data": {
            "image/png": "[encoded data removed]",
            "text/plain": [
              "<Figure size 432x288 with 1 Axes>"
            ]
          },
          "metadata": {
            "tags": [],
            "needs_background": "light"
          }
        },
        {
          "output_type": "display_data",
          "data": {
            "image/png": "[encoded data removed]",
            "text/plain": [
              "<Figure size 432x288 with 1 Axes>"
            ]
          },
          "metadata": {
            "tags": [],
            "needs_background": "light"
          }
        },
        {
          "output_type": "display_data",
          "data": {
            "image/png": "[encoded data removed]",
            "text/plain": [
              "<Figure size 432x288 with 1 Axes>"
            ]
          },
          "metadata": {
            "tags": [],
            "needs_background": "light"
          }
        },
        {
          "output_type": "display_data",
          "data": {
            "image/png": "[encoded data removed]",
            "text/plain": [
              "<Figure size 432x288 with 1 Axes>"
            ]
          },
          "metadata": {
            "tags": [],
            "needs_background": "light"
          }
        },
        {
          "output_type": "stream",
          "text": [
            "Training Done!\n",
            "Total time taken to Train: 707.8289461135864\n",
            "\n",
            "\n"
          ],
          "name": "stdout"
        }
      ]
    },
    {
      "cell_type": "markdown",
      "metadata": {
        "id": "jmuQYPbF2mes"
      },
      "source": [
        "### Test"
      ]
    },
    {
      "cell_type": "code",
      "metadata": {
        "id": "0tKMlJyF2nGN",
        "colab": {
          "base_uri": "https://localhost:8080/"
        },
        "outputId": "0367188d-4c87-494f-bd1d-a479a8144b70"
      },
      "source": [
        "criterion = nn.CrossEntropyLoss()\n",
        "acc, loss, f1_macro, f1_weighted = testing(mnist_mlp_non_iid_trained, mnist_data_test, 128, criterion, num_classes, classes_test, True)"
      ],
      "execution_count": 71,
      "outputs": [
        {
          "output_type": "stream",
          "text": [
            "Test Loss: 16.643208\n",
            "\n",
            "Test Accuracy of     0:  0% ( 0/980)\n",
            "Test Accuracy of     1:  0% ( 0/1135)\n",
            "Test Accuracy of     2:  0% ( 0/1032)\n",
            "Test Accuracy of     3: 99% (1008/1010)\n",
            "Test Accuracy of     4: 100% (982/982)\n",
            "Test Accuracy of     5:  0% ( 0/892)\n",
            "Test Accuracy of     6:  0% ( 0/958)\n",
            "Test Accuracy of     7:  0% ( 0/1028)\n",
            "Test Accuracy of     8:  0% ( 0/974)\n",
            "Test Accuracy of     9:  0% ( 0/1009)\n",
            "\n",
            "Final Test  Accuracy: 19.900 (1990/10000)\n",
            "F1 Score: 0.071898 (macro) 0.071337 (weighted) %\n",
            "\n"
          ],
          "name": "stdout"
        }
      ]
    },
    {
      "cell_type": "code",
      "metadata": {
        "id": "1W5krYcSMQiu"
      },
      "source": [
        "hyperparams = {'rounds': rounds,\n",
        "               'C': C,\n",
        "               'K': K,\n",
        "               'E': E,\n",
        "               'batch_size': batch_size,\n",
        "               'lr': lr,\n",
        "               'q': q,\n",
        "               'sampling': sampling\n",
        "               }\n",
        "\n",
        "log_dict['MNIST MLP on Non IID'] = {'train_loss': train_loss_multiple_runs, \n",
        "                                'test_loss': test_loss_multiple_runs, \n",
        "                                'test_accuracy': test_accuracy_multiple_runs,\n",
        "                                'f1_macro': f1_macro_multiple_runs,\n",
        "                                'f1_weighted': f1_weighted_multiple_runs,\n",
        "                                'hyperparams': hyperparams,\n",
        "                                }"
      ],
      "execution_count": 72,
      "outputs": []
    },
    {
      "cell_type": "markdown",
      "metadata": {
        "id": "emS_SaRAP6TZ"
      },
      "source": [
        "## Pickle Log"
      ]
    },
    {
      "cell_type": "code",
      "metadata": {
        "id": "soAN38JoP0c1"
      },
      "source": [
        "import pickle\n",
        " \n",
        "with open(path + 'qFedAvg_k10shards.pkl', 'wb') as file:\n",
        "  pickle.dump(log_dict, file)"
      ],
      "execution_count": 86,
      "outputs": []
    },
    {
      "cell_type": "code",
      "metadata": {
        "id": "2UBy-JswSoCJ",
        "colab": {
          "base_uri": "https://localhost:8080/"
        },
        "outputId": "e1a2a92a-1564-4c4c-9d6c-8fc3120235f1"
      },
      "source": [
        "log_dict"
      ],
      "execution_count": 82,
      "outputs": [
        {
          "output_type": "execute_result",
          "data": {
            "text/plain": [
              "{'MNIST CNN on IID': {'f1_macro': [[0.48618587538092317,\n",
              "    0.8032570685175481,\n",
              "    0.8957474309633401,\n",
              "    0.9384614197895068,\n",
              "    0.947693882360379,\n",
              "    0.9651938744392355,\n",
              "    0.9686321241799639,\n",
              "    0.9800020017326275,\n",
              "    0.9785740246097655,\n",
              "    0.9799951337893271,\n",
              "    0.9799981120192388,\n",
              "    0.9777336983800431,\n",
              "    0.979154095248405,\n",
              "    0.9776044984421215,\n",
              "    0.9798914639852907,\n",
              "    0.9818381305874352,\n",
              "    0.9826851064343274,\n",
              "    0.980102897434108,\n",
              "    0.9799004006135604,\n",
              "    0.9832049996679417,\n",
              "    0.9849407305995619,\n",
              "    0.9856977259361427,\n",
              "    0.9866138424824895,\n",
              "    0.9869095501139966,\n",
              "    0.9842822338679875,\n",
              "    0.9853828206701415,\n",
              "    0.9862919526325099,\n",
              "    0.9870756350170996,\n",
              "    0.9871745789696534,\n",
              "    0.9873946887626348,\n",
              "    0.9880825011896752,\n",
              "    0.9881550538612949,\n",
              "    0.9878477520502573,\n",
              "    0.9882485340003335,\n",
              "    0.988151112355494,\n",
              "    0.9885470456120174,\n",
              "    0.9885392325580599,\n",
              "    0.9884388996016517,\n",
              "    0.9880578691740263,\n",
              "    0.9878382381062106,\n",
              "    0.9879447873334183,\n",
              "    0.9884415866353506,\n",
              "    0.9884415866353506,\n",
              "    0.9882416672420279,\n",
              "    0.9881420523940518,\n",
              "    0.9881420523940518,\n",
              "    0.98814391218049,\n",
              "    0.9882427708592154,\n",
              "    0.9882408324722313,\n",
              "    0.9881402848292857]],\n",
              "  'f1_weighted': [[0.49634421086685004,\n",
              "    0.8057642248334909,\n",
              "    0.894262374360778,\n",
              "    0.9367759213989122,\n",
              "    0.9464584159370548,\n",
              "    0.9642466355935643,\n",
              "    0.9678030723422315,\n",
              "    0.9797600460552196,\n",
              "    0.9783600081877943,\n",
              "    0.9799286164913282,\n",
              "    0.9798399207273811,\n",
              "    0.9775536215534505,\n",
              "    0.9789364447603508,\n",
              "    0.977348979931037,\n",
              "    0.9796528474839686,\n",
              "    0.9817176174325271,\n",
              "    0.982605002394706,\n",
              "    0.9799183544467777,\n",
              "    0.9797354113760668,\n",
              "    0.9831114128060322,\n",
              "    0.984901889246242,\n",
              "    0.9856983821044453,\n",
              "    0.9865976012649751,\n",
              "    0.9868964926065126,\n",
              "    0.9842988776581073,\n",
              "    0.9853986964249445,\n",
              "    0.986297994741326,\n",
              "    0.9870966643871505,\n",
              "    0.9871953886763295,\n",
              "    0.9873952823151388,\n",
              "    0.9880953031456984,\n",
              "    0.9881942004610933,\n",
              "    0.9878950074615539,\n",
              "    0.988295268692729,\n",
              "    0.9881949272319853,\n",
              "    0.9885958817671774,\n",
              "    0.9885962369728793,\n",
              "    0.9884959258347453,\n",
              "    0.9880963923447816,\n",
              "    0.9878945001801396,\n",
              "    0.9879950202442606,\n",
              "    0.9884955162344123,\n",
              "    0.9884955162344123,\n",
              "    0.9882954442706566,\n",
              "    0.9881951706530392,\n",
              "    0.9881951706530392,\n",
              "    0.98819572473259,\n",
              "    0.9882955231110967,\n",
              "    0.9882945486979641,\n",
              "    0.988194653980135]],\n",
              "  'hyperparams': {'C': 0.1,\n",
              "   'E': 5,\n",
              "   'K': 10,\n",
              "   'batch_size': 10,\n",
              "   'lr': 0.05,\n",
              "   'q': 0.001,\n",
              "   'rounds': 50,\n",
              "   'sampling': 'weighted'},\n",
              "  'test_accuracy': [[49.94,\n",
              "    78.96,\n",
              "    89.11,\n",
              "    93.54,\n",
              "    94.52,\n",
              "    96.38,\n",
              "    96.74,\n",
              "    97.97,\n",
              "    97.83,\n",
              "    97.99,\n",
              "    97.98,\n",
              "    97.75,\n",
              "    97.89,\n",
              "    97.73,\n",
              "    97.96,\n",
              "    98.17,\n",
              "    98.26,\n",
              "    97.99,\n",
              "    97.97,\n",
              "    98.31,\n",
              "    98.49,\n",
              "    98.57,\n",
              "    98.66,\n",
              "    98.69,\n",
              "    98.43,\n",
              "    98.54,\n",
              "    98.63,\n",
              "    98.71,\n",
              "    98.72,\n",
              "    98.74,\n",
              "    98.81,\n",
              "    98.82,\n",
              "    98.79,\n",
              "    98.83,\n",
              "    98.82,\n",
              "    98.86,\n",
              "    98.86,\n",
              "    98.85,\n",
              "    98.81,\n",
              "    98.79,\n",
              "    98.8,\n",
              "    98.85,\n",
              "    98.85,\n",
              "    98.83,\n",
              "    98.82,\n",
              "    98.82,\n",
              "    98.82,\n",
              "    98.83,\n",
              "    98.83,\n",
              "    98.82]],\n",
              "  'test_loss': [[2.0414256046295165,\n",
              "    1.6957729421615602,\n",
              "    1.2805162445068359,\n",
              "    0.9330688503265381,\n",
              "    0.7466398336410522,\n",
              "    0.4763758189201355,\n",
              "    0.33508572669029235,\n",
              "    0.18576531314849853,\n",
              "    0.16671140830516815,\n",
              "    0.12684474927186967,\n",
              "    0.11831079753637314,\n",
              "    0.11119758840799332,\n",
              "    0.10864988495111466,\n",
              "    0.10364279297590255,\n",
              "    0.0906794236779213,\n",
              "    0.07256179341077805,\n",
              "    0.06355423387885094,\n",
              "    0.07319783255457878,\n",
              "    0.07598932944536209,\n",
              "    0.05777857611477375,\n",
              "    0.050429662734270096,\n",
              "    0.046415637156553564,\n",
              "    0.04409698704173788,\n",
              "    0.04241499094832689,\n",
              "    0.05109111537486315,\n",
              "    0.04704656706666574,\n",
              "    0.04453383952574804,\n",
              "    0.04338214689879678,\n",
              "    0.04315399626905564,\n",
              "    0.04319143887784448,\n",
              "    0.04372098511602671,\n",
              "    0.04464868901742448,\n",
              "    0.0451753757142149,\n",
              "    0.04539554431791003,\n",
              "    0.04633818446575205,\n",
              "    0.04696199125587991,\n",
              "    0.04731668499328989,\n",
              "    0.0482140116748531,\n",
              "    0.04674183317557072,\n",
              "    0.045573719777857694,\n",
              "    0.04655026718045683,\n",
              "    0.04686194015604997,\n",
              "    0.04699085060970237,\n",
              "    0.04780482051390773,\n",
              "    0.04849813064269288,\n",
              "    0.049093629545741396,\n",
              "    0.049830310043025246,\n",
              "    0.05039382327701885,\n",
              "    0.05091869250976042,\n",
              "    0.05152387833104215]],\n",
              "  'train_loss': [[0.14824956760108002,\n",
              "    0.08428432139402131,\n",
              "    0.07593677397128391,\n",
              "    0.062025734033485005,\n",
              "    0.058742593980801436,\n",
              "    0.050931215302480425,\n",
              "    0.046808966450185126,\n",
              "    0.036138403870314244,\n",
              "    0.04108942030792593,\n",
              "    0.03586177705515618,\n",
              "    0.03729572648738772,\n",
              "    0.03527399994618625,\n",
              "    0.03130711058585038,\n",
              "    0.028189056886345286,\n",
              "    0.024173069470226776,\n",
              "    0.022103543871610176,\n",
              "    0.013319789803700539,\n",
              "    0.02108218835269034,\n",
              "    0.019227695335536497,\n",
              "    0.002215611611729089,\n",
              "    0.0007697643235386274,\n",
              "    0.0007416848230890801,\n",
              "    0.002154908222052413,\n",
              "    0.0005769152174865452,\n",
              "    0.019870964044238503,\n",
              "    0.00046895102493765015,\n",
              "    0.00044010805830389246,\n",
              "    0.0003603432753369405,\n",
              "    0.000318797292022273,\n",
              "    0.0002518764048455869,\n",
              "    0.00023424508427857303,\n",
              "    0.00015934510638587973,\n",
              "    0.00016274183989770327,\n",
              "    0.00015768803460383354,\n",
              "    0.00011195694483462877,\n",
              "    0.0001290343219938072,\n",
              "    0.00016731700720795277,\n",
              "    8.742294112107452e-05,\n",
              "    0.005287969929860018,\n",
              "    0.001870788575793167,\n",
              "    8.465612116078999e-05,\n",
              "    6.501205721102287e-05,\n",
              "    0.00032457107644465503,\n",
              "    8.072794436560334e-05,\n",
              "    4.9353331931110134e-05,\n",
              "    5.586501729517223e-05,\n",
              "    3.9851392626583625e-05,\n",
              "    4.55143961878773e-05,\n",
              "    3.9274519128710495e-05,\n",
              "    3.5965343034051264e-05]]},\n",
              " 'MNIST CNN on Non IID': {'f1_macro': [[0.0736890595592253,\n",
              "    0.0787530557503107,\n",
              "    0.08071854635960489,\n",
              "    0.08231800259094682,\n",
              "    0.08406705084900107,\n",
              "    0.08517008709318649,\n",
              "    0.08391656556857137,\n",
              "    0.08615279239636324,\n",
              "    0.08832749874541246,\n",
              "    0.08662153574784587,\n",
              "    0.08471869143944566,\n",
              "    0.08406585111209366,\n",
              "    0.08559902764552613,\n",
              "    0.0884912395712904,\n",
              "    0.08982102422212865,\n",
              "    0.0888777407592916,\n",
              "    0.08555454812675603,\n",
              "    0.08674579183385445,\n",
              "    0.08784265475574239,\n",
              "    0.08842863345449327,\n",
              "    0.08926370086694253,\n",
              "    0.09020897009059689,\n",
              "    0.09048132224265629,\n",
              "    0.09173305416573803,\n",
              "    0.09229751281478547,\n",
              "    0.0925008816539106,\n",
              "    0.09291254414730245,\n",
              "    0.09268718202041512,\n",
              "    0.09293141363514806,\n",
              "    0.09308286719993365,\n",
              "    0.0927246054105736,\n",
              "    0.09259386205840796,\n",
              "    0.09259386205840796,\n",
              "    0.09227910534774039,\n",
              "    0.09135291729135434,\n",
              "    0.09175106502158469,\n",
              "    0.09218726855680111,\n",
              "    0.09255662923178928,\n",
              "    0.09240823934484224,\n",
              "    0.09295029691886494,\n",
              "    0.09302596825284981,\n",
              "    0.09259386205840796,\n",
              "    0.09279961626292606,\n",
              "    0.09255662923178928,\n",
              "    0.09310186128421401,\n",
              "    0.09306388700802046,\n",
              "    0.09255662923178928,\n",
              "    0.09205925649329667,\n",
              "    0.09257523885982606,\n",
              "    0.0882471675191123]],\n",
              "  'f1_weighted': [[0.08082721996235809,\n",
              "    0.08670959756503976,\n",
              "    0.08898619824330674,\n",
              "    0.09084902608873731,\n",
              "    0.09287627525135883,\n",
              "    0.09415382752470808,\n",
              "    0.0927018173990902,\n",
              "    0.09528747771594921,\n",
              "    0.09779819581239835,\n",
              "    0.09582915294022175,\n",
              "    0.09362825796423539,\n",
              "    0.09287183593073062,\n",
              "    0.09464715497594658,\n",
              "    0.09798421279882526,\n",
              "    0.09951390300481915,\n",
              "    0.09842701917193422,\n",
              "    0.09459275176436006,\n",
              "    0.09596980940640432,\n",
              "    0.09723610844666489,\n",
              "    0.0979120207552021,\n",
              "    0.09887560488172922,\n",
              "    0.09996434281417817,\n",
              "    0.10027787669622334,\n",
              "    0.10171538972709596,\n",
              "    0.1023644315196211,\n",
              "    0.10259821509140035,\n",
              "    0.10307134998942247,\n",
              "    0.10281235051500405,\n",
              "    0.10309303425608818,\n",
              "    0.10326707107864738,\n",
              "    0.10285536224093367,\n",
              "    0.10270509085847529,\n",
              "    0.10270509085847529,\n",
              "    0.1023432695955804,\n",
              "    0.10128082833583209,\n",
              "    0.10173610332677752,\n",
              "    0.10223768668253364,\n",
              "    0.10266229457821571,\n",
              "    0.10249172155177225,\n",
              "    0.10311473412109964,\n",
              "    0.1032016898378655,\n",
              "    0.10270509085847529,\n",
              "    0.10294157119242782,\n",
              "    0.10266229457821571,\n",
              "    0.10328889622327861,\n",
              "    0.10324526164204585,\n",
              "    0.10266229457821571,\n",
              "    0.1020905030195535,\n",
              "    0.10268368504723771,\n",
              "    0.0977037855679692]],\n",
              "  'hyperparams': {'C': 0.1,\n",
              "   'E': 5,\n",
              "   'K': 10,\n",
              "   'batch_size': 10,\n",
              "   'lr': 0.05,\n",
              "   'q': 0.001,\n",
              "   'rounds': 50,\n",
              "   'sampling': 'weighted'},\n",
              "  'test_accuracy': [[21.27,\n",
              "    21.56,\n",
              "    21.63,\n",
              "    21.63,\n",
              "    21.64,\n",
              "    21.64,\n",
              "    21.64,\n",
              "    21.65,\n",
              "    21.65,\n",
              "    21.65,\n",
              "    21.65,\n",
              "    21.65,\n",
              "    21.65,\n",
              "    21.66,\n",
              "    21.67,\n",
              "    21.67,\n",
              "    21.66,\n",
              "    21.66,\n",
              "    21.66,\n",
              "    21.66,\n",
              "    21.65,\n",
              "    21.65,\n",
              "    21.65,\n",
              "    21.66,\n",
              "    21.66,\n",
              "    21.66,\n",
              "    21.66,\n",
              "    21.66,\n",
              "    21.66,\n",
              "    21.66,\n",
              "    21.66,\n",
              "    21.66,\n",
              "    21.66,\n",
              "    21.66,\n",
              "    21.65,\n",
              "    21.66,\n",
              "    21.66,\n",
              "    21.66,\n",
              "    21.66,\n",
              "    21.66,\n",
              "    21.66,\n",
              "    21.66,\n",
              "    21.66,\n",
              "    21.66,\n",
              "    21.66,\n",
              "    21.66,\n",
              "    21.66,\n",
              "    21.66,\n",
              "    21.66,\n",
              "    21.65]],\n",
              "  'test_loss': [[2.348992249298096,\n",
              "    2.465752498626709,\n",
              "    2.7216577102661135,\n",
              "    3.0924112785339357,\n",
              "    3.4793738090515136,\n",
              "    4.155502557373047,\n",
              "    4.2591845973968505,\n",
              "    4.716815346908569,\n",
              "    5.115521357727051,\n",
              "    5.507613932037353,\n",
              "    5.7247041015625,\n",
              "    6.0364813812255855,\n",
              "    6.420887004089355,\n",
              "    7.1844795684814455,\n",
              "    7.752259692382813,\n",
              "    7.8483044662475585,\n",
              "    7.342141654968262,\n",
              "    8.020053826141357,\n",
              "    8.670079356384278,\n",
              "    9.257697409820556,\n",
              "    9.899393388366699,\n",
              "    10.39801762008667,\n",
              "    10.909736087036134,\n",
              "    11.455377041625976,\n",
              "    11.92952190093994,\n",
              "    12.336409967041016,\n",
              "    12.6014660446167,\n",
              "    12.826883389282226,\n",
              "    13.158024114990233,\n",
              "    13.473490995788573,\n",
              "    13.552355224609375,\n",
              "    13.784228717041016,\n",
              "    13.83557102508545,\n",
              "    14.000951615905763,\n",
              "    13.962622091674804,\n",
              "    14.201179147338868,\n",
              "    14.452612557983398,\n",
              "    14.688876484680176,\n",
              "    14.781268032836914,\n",
              "    14.985425395202636,\n",
              "    15.064034577941895,\n",
              "    15.046677000427247,\n",
              "    15.21402989501953,\n",
              "    15.247844096374513,\n",
              "    15.38096796875,\n",
              "    15.495779214477539,\n",
              "    15.441970259094239,\n",
              "    15.432416018676758,\n",
              "    15.543399104309081,\n",
              "    12.488706369018555]],\n",
              "  'train_loss': [[0.023975358786711108,\n",
              "    0.014181763765079933,\n",
              "    0.010326360921676138,\n",
              "    0.0074971722978509694,\n",
              "    0.0058175284855355325,\n",
              "    0.0056013296191588235,\n",
              "    0.006364267971176792,\n",
              "    0.0059488386241613655,\n",
              "    0.006460274089835174,\n",
              "    0.003448296009519123,\n",
              "    0.003945883416719847,\n",
              "    0.003374431806495679,\n",
              "    0.002804115127038639,\n",
              "    0.0009005998146481477,\n",
              "    0.0004502710571169075,\n",
              "    0.001071129621088973,\n",
              "    0.0029605730401300176,\n",
              "    0.00018928906875288534,\n",
              "    0.00016840559678595507,\n",
              "    0.00011715960367753848,\n",
              "    7.653781902258494e-05,\n",
              "    0.00014541145347762865,\n",
              "    5.217094564150197e-05,\n",
              "    3.901441669624125e-05,\n",
              "    3.0856826431360084e-05,\n",
              "    2.9385109968803985e-05,\n",
              "    6.380571401249272e-05,\n",
              "    3.932923221553549e-05,\n",
              "    1.5770780961839038e-05,\n",
              "    1.512712990896148e-05,\n",
              "    2.6237665367197255e-05,\n",
              "    1.0083930978279197e-05,\n",
              "    5.825076203589377e-05,\n",
              "    1.0460480457547067e-05,\n",
              "    1.815301484495831e-05,\n",
              "    7.971758387913159e-06,\n",
              "    7.60639395172428e-06,\n",
              "    8.730484789387205e-06,\n",
              "    6.1036909444940335e-06,\n",
              "    4.7372828531919714e-06,\n",
              "    6.1003243391445734e-06,\n",
              "    5.837931489479568e-06,\n",
              "    4.996069949134707e-06,\n",
              "    7.573487545774546e-06,\n",
              "    6.869079159283586e-06,\n",
              "    3.6318044212494033e-06,\n",
              "    5.960973458003356e-06,\n",
              "    4.967901953862134e-06,\n",
              "    3.837373022623917e-06,\n",
              "    0.006293566144143485]]},\n",
              " 'MNIST MLP on IID': {'f1_macro': [[0.6561535414080807,\n",
              "    0.8538910315883363,\n",
              "    0.9034529223043309,\n",
              "    0.9266305534543718,\n",
              "    0.9354136407519029,\n",
              "    0.9466464502906632,\n",
              "    0.9496180612343108,\n",
              "    0.9511048119377191,\n",
              "    0.953841406296668,\n",
              "    0.9559675879345697,\n",
              "    0.9582487055195319,\n",
              "    0.9598807489359584,\n",
              "    0.9597350553045135,\n",
              "    0.9609871215143796,\n",
              "    0.9592454740410907,\n",
              "    0.9605152325143272,\n",
              "    0.9602328971792733,\n",
              "    0.9606138967573837,\n",
              "    0.9616307746186404,\n",
              "    0.9619436671251969,\n",
              "    0.9626240492925933,\n",
              "    0.9625388926390819,\n",
              "    0.9630506962978538,\n",
              "    0.9630379504596289,\n",
              "    0.9633325074756293,\n",
              "    0.963429652677721,\n",
              "    0.9641416229653916,\n",
              "    0.9643352509119831,\n",
              "    0.9642448774746842,\n",
              "    0.9649516076605551,\n",
              "    0.9649267273455946,\n",
              "    0.9656415769929252,\n",
              "    0.9660289326525989,\n",
              "    0.9663315476380655,\n",
              "    0.9664385968633316,\n",
              "    0.9662474949409866,\n",
              "    0.9660365852395149,\n",
              "    0.9661498441439293,\n",
              "    0.9660541456275599,\n",
              "    0.9661596753308078,\n",
              "    0.9660526524596555,\n",
              "    0.9663520037290002,\n",
              "    0.9663453114798317,\n",
              "    0.9663453114798317,\n",
              "    0.9663453114798317,\n",
              "    0.9663489890653665,\n",
              "    0.9662501366436119,\n",
              "    0.9663509972857419,\n",
              "    0.9666545814403745,\n",
              "    0.966756080614454]],\n",
              "  'f1_weighted': [[0.6524591074569698,\n",
              "    0.8541726227458254,\n",
              "    0.9041950301129764,\n",
              "    0.9273063328834632,\n",
              "    0.9360177057200133,\n",
              "    0.9471899518201126,\n",
              "    0.950142289094682,\n",
              "    0.95161896255221,\n",
              "    0.954268981613324,\n",
              "    0.9563498923173401,\n",
              "    0.9585847489427766,\n",
              "    0.9601777484920305,\n",
              "    0.9600660507560657,\n",
              "    0.9612578671935458,\n",
              "    0.9596491993592293,\n",
              "    0.9608521659337704,\n",
              "    0.9605489236049755,\n",
              "    0.9609499852816534,\n",
              "    0.9619247436308231,\n",
              "    0.9622175150231714,\n",
              "    0.9629145950892647,\n",
              "    0.9628143210720315,\n",
              "    0.9633131970531665,\n",
              "    0.9633074501036928,\n",
              "    0.9635959101819428,\n",
              "    0.9636950722017118,\n",
              "    0.9643925583216882,\n",
              "    0.9645905272269294,\n",
              "    0.9644874965572442,\n",
              "    0.9651858135979392,\n",
              "    0.9651866974083201,\n",
              "    0.9658900430765667,\n",
              "    0.9662826739632834,\n",
              "    0.9665836926787158,\n",
              "    0.9666812752058624,\n",
              "    0.9664801722749129,\n",
              "    0.9662805240360435,\n",
              "    0.9663781718418933,\n",
              "    0.9662791338933373,\n",
              "    0.9663799537249652,\n",
              "    0.9662794479396031,\n",
              "    0.9665808177743207,\n",
              "    0.9665813582734347,\n",
              "    0.9665813582734347,\n",
              "    0.9665813582734347,\n",
              "    0.9665805138649284,\n",
              "    0.9664798806415307,\n",
              "    0.9665797814050169,\n",
              "    0.9668789390623981,\n",
              "    0.9669795341375602]],\n",
              "  'hyperparams': {'C': 0.1,\n",
              "   'E': 5,\n",
              "   'K': 10,\n",
              "   'batch_size': 10,\n",
              "   'lr': 0.05,\n",
              "   'q': 0.001,\n",
              "   'rounds': 50,\n",
              "   'sampling': 'weighted'},\n",
              "  'test_accuracy': [[65.26,\n",
              "    84.68,\n",
              "    90.18,\n",
              "    92.6,\n",
              "    93.52,\n",
              "    94.7,\n",
              "    95.0,\n",
              "    95.16,\n",
              "    95.42,\n",
              "    95.63,\n",
              "    95.85,\n",
              "    96.01,\n",
              "    96.0,\n",
              "    96.12,\n",
              "    95.96,\n",
              "    96.08,\n",
              "    96.05,\n",
              "    96.09,\n",
              "    96.19,\n",
              "    96.22,\n",
              "    96.29,\n",
              "    96.28,\n",
              "    96.33,\n",
              "    96.33,\n",
              "    96.36,\n",
              "    96.37,\n",
              "    96.44,\n",
              "    96.46,\n",
              "    96.45,\n",
              "    96.52,\n",
              "    96.52,\n",
              "    96.59,\n",
              "    96.63,\n",
              "    96.66,\n",
              "    96.67,\n",
              "    96.65,\n",
              "    96.63,\n",
              "    96.64,\n",
              "    96.63,\n",
              "    96.64,\n",
              "    96.63,\n",
              "    96.66,\n",
              "    96.66,\n",
              "    96.66,\n",
              "    96.66,\n",
              "    96.66,\n",
              "    96.65,\n",
              "    96.66,\n",
              "    96.69,\n",
              "    96.7]],\n",
              "  'test_loss': [[4.080420141601563,\n",
              "    2.837318991088867,\n",
              "    1.765188451194763,\n",
              "    1.0145711050987243,\n",
              "    0.603041786813736,\n",
              "    0.36752749376296995,\n",
              "    0.25761368211507796,\n",
              "    0.20571297345161438,\n",
              "    0.17622624500989914,\n",
              "    0.15932720576524734,\n",
              "    0.14927135031223296,\n",
              "    0.14384752359986305,\n",
              "    0.14198623257279397,\n",
              "    0.13993029199689627,\n",
              "    0.13968023331314325,\n",
              "    0.13820063850358127,\n",
              "    0.14045105509012937,\n",
              "    0.14265444953516127,\n",
              "    0.13933181046545506,\n",
              "    0.14135403332859278,\n",
              "    0.13912404111921786,\n",
              "    0.1384417255230248,\n",
              "    0.1381925784930587,\n",
              "    0.13954769810065626,\n",
              "    0.13936371713932605,\n",
              "    0.13974353187009692,\n",
              "    0.14074246860174464,\n",
              "    0.14218697681874037,\n",
              "    0.14414926942153833,\n",
              "    0.14640308279064485,\n",
              "    0.14908675496894866,\n",
              "    0.15176463573207147,\n",
              "    0.15453544063074515,\n",
              "    0.1574255900186021,\n",
              "    0.16013270058988127,\n",
              "    0.16258137919721194,\n",
              "    0.16483730680623557,\n",
              "    0.16691093639899046,\n",
              "    0.168704459782457,\n",
              "    0.17029091948140412,\n",
              "    0.17169835175946355,\n",
              "    0.17292018282175994,\n",
              "    0.17403880030149593,\n",
              "    0.17507341392075176,\n",
              "    0.17603304692171515,\n",
              "    0.17691774506892544,\n",
              "    0.17784885421858634,\n",
              "    0.1785609481573105,\n",
              "    0.17927858373351627,\n",
              "    0.17996143554365263]],\n",
              "  'train_loss': [[0.20898439069091515,\n",
              "    0.16220143708101142,\n",
              "    0.131875553379254,\n",
              "    0.11445626001591283,\n",
              "    0.1061684082472875,\n",
              "    0.09703038015620874,\n",
              "    0.09273690785762179,\n",
              "    0.09304698622539642,\n",
              "    0.0860357984031679,\n",
              "    0.08098844182921708,\n",
              "    0.0922984300150825,\n",
              "    0.08744483074541638,\n",
              "    0.08199896503102086,\n",
              "    0.07935922099163514,\n",
              "    0.0847752981694931,\n",
              "    0.07256823636902965,\n",
              "    0.06162350263412797,\n",
              "    0.05887036141391895,\n",
              "    0.07273979363390574,\n",
              "    0.045472621786721526,\n",
              "    0.03829897577454585,\n",
              "    0.001305688068364494,\n",
              "    0.0010191650569171503,\n",
              "    0.02027117338610962,\n",
              "    0.001657778539419913,\n",
              "    0.0010954625017420955,\n",
              "    0.0006010342832697309,\n",
              "    0.0005307105575724525,\n",
              "    0.00047127193804588315,\n",
              "    0.0004144467495556891,\n",
              "    0.0003664653583158663,\n",
              "    0.00032292007249706486,\n",
              "    0.00028550566431171135,\n",
              "    0.0002522180883821529,\n",
              "    0.00022417333582195435,\n",
              "    0.00019979817583972212,\n",
              "    0.00017858212161340602,\n",
              "    0.00016084516973783282,\n",
              "    0.0001457228255728336,\n",
              "    0.0001328213913953184,\n",
              "    0.0001217646811282241,\n",
              "    0.0001121036532566476,\n",
              "    0.00010377910134979314,\n",
              "    9.645532311794963e-05,\n",
              "    9.008890483698668e-05,\n",
              "    8.442965030555527e-05,\n",
              "    7.94035525241803e-05,\n",
              "    7.49201688255532e-05,\n",
              "    7.088253316062893e-05,\n",
              "    6.723252710895858e-05]]},\n",
              " 'MNIST MLP on Non IID': {'f1_macro': [[0.021895123764454086,\n",
              "    0.07215083811115161,\n",
              "    0.07244237910047678,\n",
              "    0.07299899430103922,\n",
              "    0.07313230378345234,\n",
              "    0.07291924824881109,\n",
              "    0.07312368887807787,\n",
              "    0.07314014554075314,\n",
              "    0.07266530398239482,\n",
              "    0.07288814341743963,\n",
              "    0.0729123649565984,\n",
              "    0.07311642890376714,\n",
              "    0.07298483605423992,\n",
              "    0.07285582151104822,\n",
              "    0.07276831409426718,\n",
              "    0.0725180845486684,\n",
              "    0.07241058081293213,\n",
              "    0.07219912478462409,\n",
              "    0.07204360468322715,\n",
              "    0.07194137083792256,\n",
              "    0.07185465496365698,\n",
              "    0.07189790791395832,\n",
              "    0.07181161131786665,\n",
              "    0.07176165738210952,\n",
              "    0.07169078516229727,\n",
              "    0.07164151654913448,\n",
              "    0.07161348902504505,\n",
              "    0.07176877631180512,\n",
              "    0.07184028385858847,\n",
              "    0.07176877631180512,\n",
              "    0.07175454422656075,\n",
              "    0.07179016777624873,\n",
              "    0.07179730983302413,\n",
              "    0.07185465496365698,\n",
              "    0.07184028385858847,\n",
              "    0.0718259359848655,\n",
              "    0.07179730983302413,\n",
              "    0.07186904932474628,\n",
              "    0.07186904932474628,\n",
              "    0.07194137083792256,\n",
              "    0.07185465496365698,\n",
              "    0.07188346696658562,\n",
              "    0.07186904932474628,\n",
              "    0.07186904932474628,\n",
              "    0.07188346696658562,\n",
              "    0.07189790791395832,\n",
              "    0.07187625523402452,\n",
              "    0.07190513713497926,\n",
              "    0.07187625523402452,\n",
              "    0.07189790791395832]],\n",
              "  'f1_weighted': [[0.06956645656271382,\n",
              "    0.07157922679386539,\n",
              "    0.07186252938720804,\n",
              "    0.07240266845457592,\n",
              "    0.07253255721177923,\n",
              "    0.07232571236301769,\n",
              "    0.0725257217987967,\n",
              "    0.07254169950160731,\n",
              "    0.07208083530384168,\n",
              "    0.07229652437038206,\n",
              "    0.0723200342358297,\n",
              "    0.07251813582846373,\n",
              "    0.07239092537863774,\n",
              "    0.07226570473816062,\n",
              "    0.07218134268106212,\n",
              "    0.07193859161005069,\n",
              "    0.07183433192728042,\n",
              "    0.07162931429415698,\n",
              "    0.07147858023450075,\n",
              "    0.07137951707193085,\n",
              "    0.07129550634600729,\n",
              "    0.07133740816573633,\n",
              "    0.07125381095772743,\n",
              "    0.07120542637659309,\n",
              "    0.0711367893855403,\n",
              "    0.07108908076861752,\n",
              "    0.07106194295632823,\n",
              "    0.07121232135017803,\n",
              "    0.07128158497864207,\n",
              "    0.07121232135017803,\n",
              "    0.0711985370981918,\n",
              "    0.07123304047186423,\n",
              "    0.07123995825602969,\n",
              "    0.07129550634600729,\n",
              "    0.07128158497864207,\n",
              "    0.07126768652391566,\n",
              "    0.07123995825602969,\n",
              "    0.07130945065016484,\n",
              "    0.07130945065016484,\n",
              "    0.07137951707193085,\n",
              "    0.07129550634600729,\n",
              "    0.07132341791532126,\n",
              "    0.07130945065016484,\n",
              "    0.07130945065016484,\n",
              "    0.07132341791532126,\n",
              "    0.07133740816573633,\n",
              "    0.07131643141110319,\n",
              "    0.07134441191801161,\n",
              "    0.07131643141110319,\n",
              "    0.07133740816573633]],\n",
              "  'hyperparams': {'C': 0.1,\n",
              "   'E': 5,\n",
              "   'K': 10,\n",
              "   'batch_size': 10,\n",
              "   'lr': 0.05,\n",
              "   'q': 0.001,\n",
              "   'rounds': 50,\n",
              "   'sampling': 'weighted'},\n",
              "  'test_accuracy': [[19.66,\n",
              "    19.86,\n",
              "    19.87,\n",
              "    19.87,\n",
              "    19.87,\n",
              "    19.87,\n",
              "    19.89,\n",
              "    19.89,\n",
              "    19.89,\n",
              "    19.88,\n",
              "    19.88,\n",
              "    19.88,\n",
              "    19.89,\n",
              "    19.89,\n",
              "    19.9,\n",
              "    19.9,\n",
              "    19.9,\n",
              "    19.9,\n",
              "    19.9,\n",
              "    19.9,\n",
              "    19.9,\n",
              "    19.9,\n",
              "    19.9,\n",
              "    19.9,\n",
              "    19.9,\n",
              "    19.9,\n",
              "    19.9,\n",
              "    19.9,\n",
              "    19.9,\n",
              "    19.9,\n",
              "    19.9,\n",
              "    19.9,\n",
              "    19.9,\n",
              "    19.9,\n",
              "    19.9,\n",
              "    19.9,\n",
              "    19.9,\n",
              "    19.9,\n",
              "    19.9,\n",
              "    19.9,\n",
              "    19.9,\n",
              "    19.9,\n",
              "    19.9,\n",
              "    19.9,\n",
              "    19.9,\n",
              "    19.9,\n",
              "    19.9,\n",
              "    19.9,\n",
              "    19.9,\n",
              "    19.9]],\n",
              "  'test_loss': [[5.069875802612304,\n",
              "    4.822034494018554,\n",
              "    4.693919588470459,\n",
              "    4.836786630249024,\n",
              "    5.206985020446777,\n",
              "    5.760189630889893,\n",
              "    6.403799957275391,\n",
              "    7.04215806274414,\n",
              "    7.7192684921264645,\n",
              "    8.399348092651367,\n",
              "    8.962971939086914,\n",
              "    9.523270269775391,\n",
              "    9.931242401123047,\n",
              "    10.326926194763184,\n",
              "    10.731909312438965,\n",
              "    11.119215573120117,\n",
              "    11.504417269897461,\n",
              "    11.86779253692627,\n",
              "    12.217889060974121,\n",
              "    12.556147131347656,\n",
              "    12.879108361816407,\n",
              "    13.190821885681153,\n",
              "    13.475049180603028,\n",
              "    13.737950596618653,\n",
              "    13.981407376098632,\n",
              "    14.208339701843261,\n",
              "    14.413172451782227,\n",
              "    14.61211810913086,\n",
              "    14.791173181152343,\n",
              "    14.945810333251954,\n",
              "    15.09131319885254,\n",
              "    15.230612677001954,\n",
              "    15.355748733520509,\n",
              "    15.47689916381836,\n",
              "    15.584373223876954,\n",
              "    15.686472961425782,\n",
              "    15.777421282958985,\n",
              "    15.874824032592773,\n",
              "    15.959576272583007,\n",
              "    16.044363473510742,\n",
              "    16.108952612304687,\n",
              "    16.183777407836914,\n",
              "    16.247708834838868,\n",
              "    16.314309704589842,\n",
              "    16.378591549682618,\n",
              "    16.437867086791993,\n",
              "    16.48918652648926,\n",
              "    16.54414635925293,\n",
              "    16.592516317749023,\n",
              "    16.643207928466797]],\n",
              "  'train_loss': [[0.015224111425074313,\n",
              "    0.0112955921805903,\n",
              "    0.008968392402660393,\n",
              "    0.006356679960680417,\n",
              "    0.005279845271738601,\n",
              "    0.004366439617772476,\n",
              "    0.003943183064036369,\n",
              "    0.003469460377625408,\n",
              "    0.003997298569742807,\n",
              "    0.004440646927361292,\n",
              "    0.003455454797582129,\n",
              "    0.004696163502155368,\n",
              "    0.0005561117011789321,\n",
              "    0.003608122195709891,\n",
              "    0.0003149085159392951,\n",
              "    0.00027697955364003714,\n",
              "    0.0002324186257754744,\n",
              "    0.0002005055767407313,\n",
              "    0.00017183181454506584,\n",
              "    0.00014514928021972176,\n",
              "    0.00012399561837954089,\n",
              "    0.000105989011834336,\n",
              "    9.034026001791595e-05,\n",
              "    7.68935833467997e-05,\n",
              "    6.603807530394809e-05,\n",
              "    5.684273311732705e-05,\n",
              "    4.916180181022038e-05,\n",
              "    4.264355289094842e-05,\n",
              "    3.745193882580307e-05,\n",
              "    3.297591678606438e-05,\n",
              "    2.9241285575678807e-05,\n",
              "    2.6071438232997696e-05,\n",
              "    2.346552627022073e-05,\n",
              "    2.113261648725384e-05,\n",
              "    1.9231884475621777e-05,\n",
              "    1.755855806039423e-05,\n",
              "    1.6105801384065664e-05,\n",
              "    1.4838603361732558e-05,\n",
              "    1.3724111986990786e-05,\n",
              "    1.2739297619003055e-05,\n",
              "    1.1873318978062505e-05,\n",
              "    1.110361050686374e-05,\n",
              "    1.0413910442658528e-05,\n",
              "    9.793198483134684e-06,\n",
              "    9.227909019494736e-06,\n",
              "    8.726706274209424e-06,\n",
              "    8.266278471266967e-06,\n",
              "    7.844953551809178e-06,\n",
              "    7.461781762586383e-06,\n",
              "    7.111645885501025e-06]]}}"
            ]
          },
          "metadata": {
            "tags": []
          },
          "execution_count": 82
        }
      ]
    },
    {
      "cell_type": "code",
      "metadata": {
        "id": "WvspM-_WNESI",
        "colab": {
          "base_uri": "https://localhost:8080/",
          "height": 219
        },
        "outputId": "2c0f4a77-67b1-4716-fb0f-9859dd8b72fa"
      },
      "source": [
        "import pickle\n",
        "\n",
        "with open(path + 'qFedAvg_k10shards', 'rb') as file:\n",
        "  log_dict = pickle.load(file)"
      ],
      "execution_count": 85,
      "outputs": [
        {
          "output_type": "error",
          "ename": "FileNotFoundError",
          "evalue": "ignored",
          "traceback": [
            "\u001b[0;31m---------------------------------------------------------------------------\u001b[0m",
            "\u001b[0;31mFileNotFoundError\u001b[0m                         Traceback (most recent call last)",
            "\u001b[0;32m<ipython-input-85-c3137c5b882c>\u001b[0m in \u001b[0;36m<module>\u001b[0;34m()\u001b[0m\n\u001b[1;32m      1\u001b[0m \u001b[0;32mimport\u001b[0m \u001b[0mpickle\u001b[0m\u001b[0;34m\u001b[0m\u001b[0;34m\u001b[0m\u001b[0m\n\u001b[1;32m      2\u001b[0m \u001b[0;34m\u001b[0m\u001b[0m\n\u001b[0;32m----> 3\u001b[0;31m \u001b[0;32mwith\u001b[0m \u001b[0mopen\u001b[0m\u001b[0;34m(\u001b[0m\u001b[0mpath\u001b[0m \u001b[0;34m+\u001b[0m \u001b[0;34m'qFedAvg_k10.pkl'\u001b[0m\u001b[0;34m,\u001b[0m \u001b[0;34m'rb'\u001b[0m\u001b[0;34m)\u001b[0m \u001b[0;32mas\u001b[0m \u001b[0mfile\u001b[0m\u001b[0;34m:\u001b[0m\u001b[0;34m\u001b[0m\u001b[0;34m\u001b[0m\u001b[0m\n\u001b[0m\u001b[1;32m      4\u001b[0m   \u001b[0mlog_dict\u001b[0m \u001b[0;34m=\u001b[0m \u001b[0mpickle\u001b[0m\u001b[0;34m.\u001b[0m\u001b[0mload\u001b[0m\u001b[0;34m(\u001b[0m\u001b[0mfile\u001b[0m\u001b[0;34m)\u001b[0m\u001b[0;34m\u001b[0m\u001b[0;34m\u001b[0m\u001b[0m\n",
            "\u001b[0;31mFileNotFoundError\u001b[0m: [Errno 2] No such file or directory: '/content/drive/MyDrive/Colab Notebooks/OpenMined/qFedAvg_k10.pkl'"
          ]
        }
      ]
    },
    {
      "cell_type": "code",
      "metadata": {
        "id": "se_04JMaVJPg"
      },
      "source": [
        "print([test_acc[-1] for test_acc in log_dict['MNIST CNN on IID']['test_accuracy']])"
      ],
      "execution_count": null,
      "outputs": []
    },
    {
      "cell_type": "code",
      "metadata": {
        "id": "5sv0rv-G4Sqa"
      },
      "source": [
        "print([test_acc[-1] for test_acc in log_dict['MNIST CNN on Non IID']['test_accuracy']])"
      ],
      "execution_count": null,
      "outputs": []
    },
    {
      "cell_type": "code",
      "metadata": {
        "id": "b2a2_Az-4nal"
      },
      "source": [
        "print([test_acc[-1] for test_acc in log_dict['MNIST MLP on IID']['test_accuracy']])"
      ],
      "execution_count": null,
      "outputs": []
    },
    {
      "cell_type": "code",
      "metadata": {
        "id": "YoRqZyvD4p2K"
      },
      "source": [
        "print([test_acc[-1] for test_acc in log_dict['MNIST MLP on Non IID']['test_accuracy']])"
      ],
      "execution_count": null,
      "outputs": []
    },
    {
      "cell_type": "code",
      "metadata": {
        "id": "B87eGKJnAHIh"
      },
      "source": [
        "output.show()"
      ],
      "execution_count": null,
      "outputs": []
    },
    {
      "cell_type": "code",
      "metadata": {
        "id": "yymrwAyqNESK"
      },
      "source": [
        ""
      ],
      "execution_count": null,
      "outputs": []
    }
  ]
}