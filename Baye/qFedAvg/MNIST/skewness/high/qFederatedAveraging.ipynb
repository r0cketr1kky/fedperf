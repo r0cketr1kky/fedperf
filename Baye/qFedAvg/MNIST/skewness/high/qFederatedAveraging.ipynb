{
  "nbformat": 4,
  "nbformat_minor": 0,
  "metadata": {
    "accelerator": "GPU",
    "colab": {
      "name": "qFederatedAveraging.ipynb",
      "provenance": [],
      "collapsed_sections": [],
      "machine_shape": "hm"
    },
    "kernelspec": {
      "name": "python3",
      "display_name": "Python 3"
    },
    "language_info": {
      "name": "python"
    }
  },
  "cells": [
    {
      "cell_type": "markdown",
      "metadata": {
        "id": "view-in-github"
      },
      "source": [
        "<a href=\"https://colab.research.google.com/github/tushar-semwal/fedperf/blob/main/Vineeth/Local_Rounds/qFedAvg/qFederatedAveraging.ipynb\" target=\"_parent\"><img src=\"https://colab.research.google.com/assets/colab-badge.svg\" alt=\"Open In Colab\"/></a>"
      ]
    },
    {
      "cell_type": "code",
      "metadata": {
        "id": "yKcpjZLrQQJV"
      },
      "source": [
        "%%capture output\n",
        "try:\n",
        "    from google.colab import drive\n",
        "    drive.mount('/content/drive')\n",
        "\n",
        "    import os\n",
        "    path = '/content/drive/MyDrive/Colab Notebooks/OpenMined/'\n",
        "    os.makedirs(path, exist_ok=True)\n",
        "except:\n",
        "    path = './'"
      ],
      "execution_count": 70,
      "outputs": []
    },
    {
      "cell_type": "markdown",
      "metadata": {
        "id": "-0_nKpfq2h1R"
      },
      "source": [
        "## Imports"
      ]
    },
    {
      "cell_type": "code",
      "metadata": {
        "colab": {
          "base_uri": "https://localhost:8080/"
        },
        "id": "DLLNM9X2JbQ8",
        "outputId": "6eec952e-40ad-4ab8-9710-212407d84bf9"
      },
      "source": [
        "%load_ext tensorboard\n",
        "import os\n",
        "import numpy as np\n",
        "import matplotlib\n",
        "import matplotlib.pyplot as plt\n",
        "import copy\n",
        "import random\n",
        "import time\n",
        "\n",
        "import torch\n",
        "import torch.nn as nn\n",
        "import torch.nn.functional as F\n",
        "\n",
        "from torch.utils.data import Dataset, DataLoader\n",
        "from torch.utils.tensorboard import SummaryWriter\n",
        "from torchvision import transforms, utils, datasets\n",
        "from torchsummary import summary\n",
        "from sklearn.metrics import f1_score\n",
        "\n",
        "# Check assigned GPU\n",
        "gpu_info = !nvidia-smi\n",
        "gpu_info = '\\n'.join(gpu_info)\n",
        "if gpu_info.find('failed') >= 0:\n",
        "  print('Select the Runtime > \"Change runtime type\" menu to enable a GPU accelerator, ')\n",
        "  print('and then re-execute this cell.')\n",
        "else:\n",
        "  print(gpu_info)\n",
        "\n",
        "# set manual seed for reproducibility\n",
        "seed = 42\n",
        "\n",
        "# general reproducibility\n",
        "random.seed(seed)\n",
        "np.random.seed(seed)\n",
        "torch.manual_seed(seed)\n",
        "\n",
        "# gpu training specific\n",
        "torch.backends.cudnn.deterministic = True\n",
        "torch.backends.cudnn.benchmark = False"
      ],
      "execution_count": 71,
      "outputs": [
        {
          "output_type": "stream",
          "text": [
            "The tensorboard extension is already loaded. To reload it, use:\n",
            "  %reload_ext tensorboard\n",
            "Sat Apr 24 12:55:54 2021       \n",
            "+-----------------------------------------------------------------------------+\n",
            "| NVIDIA-SMI 465.19.01    Driver Version: 460.32.03    CUDA Version: 11.2     |\n",
            "|-------------------------------+----------------------+----------------------+\n",
            "| GPU  Name        Persistence-M| Bus-Id        Disp.A | Volatile Uncorr. ECC |\n",
            "| Fan  Temp  Perf  Pwr:Usage/Cap|         Memory-Usage | GPU-Util  Compute M. |\n",
            "|                               |                      |               MIG M. |\n",
            "|===============================+======================+======================|\n",
            "|   0  Tesla T4            Off  | 00000000:00:04.0 Off |                    0 |\n",
            "| N/A   78C    P0    35W /  70W |   1286MiB / 15109MiB |      0%      Default |\n",
            "|                               |                      |                  N/A |\n",
            "+-------------------------------+----------------------+----------------------+\n",
            "                                                                               \n",
            "+-----------------------------------------------------------------------------+\n",
            "| Processes:                                                                  |\n",
            "|  GPU   GI   CI        PID   Type   Process name                  GPU Memory |\n",
            "|        ID   ID                                                   Usage      |\n",
            "|=============================================================================|\n",
            "+-----------------------------------------------------------------------------+\n"
          ],
          "name": "stdout"
        }
      ]
    },
    {
      "cell_type": "markdown",
      "metadata": {
        "id": "NY4eWzGiL6Mj"
      },
      "source": [
        "## Load the MNIST Dataset"
      ]
    },
    {
      "cell_type": "code",
      "metadata": {
        "id": "d8maYlW3RYtj"
      },
      "source": [
        "torch.cuda.set_device('cuda:0')"
      ],
      "execution_count": 72,
      "outputs": []
    },
    {
      "cell_type": "code",
      "metadata": {
        "id": "G649tjTXLL8F"
      },
      "source": [
        "# create transforms\n",
        "# We will just convert to tensor and normalize since no special transforms are mentioned in the paper\n",
        "transforms_mnist = transforms.Compose([\n",
        "                                       transforms.ToTensor(),\n",
        "                                       transforms.Normalize((0.1307,), (0.3081,))\n",
        "                                       ])\n",
        "\n",
        "mnist_data_train = datasets.MNIST('./data/mnist/', train=True, download=True, transform=transforms_mnist)\n",
        "mnist_data_test = datasets.MNIST('../data/mnist/', train=False, download=True, transform=transforms_mnist)"
      ],
      "execution_count": 73,
      "outputs": []
    },
    {
      "cell_type": "code",
      "metadata": {
        "colab": {
          "base_uri": "https://localhost:8080/"
        },
        "id": "dm9usjn2vFkL",
        "outputId": "f055c507-7ce2-44b9-89ab-8902e084276d"
      },
      "source": [
        "classes = np.array(list(mnist_data_train.class_to_idx.values()))\n",
        "classes_test = np.array(list(mnist_data_test.class_to_idx.values()))\n",
        "num_classes = len(classes_test)\n",
        "print(\"Classes: {} \\tType: {}\".format(classes, type(classes)))\n",
        "print(\"Classes Test: {} \\tType: {}\".format(classes_test, type(classes)))\n"
      ],
      "execution_count": 74,
      "outputs": [
        {
          "output_type": "stream",
          "text": [
            "Classes: [0 1 2 3 4 5 6 7 8 9] \tType: <class 'numpy.ndarray'>\n",
            "Classes Test: [0 1 2 3 4 5 6 7 8 9] \tType: <class 'numpy.ndarray'>\n"
          ],
          "name": "stdout"
        }
      ]
    },
    {
      "cell_type": "code",
      "metadata": {
        "colab": {
          "base_uri": "https://localhost:8080/"
        },
        "id": "9lvJt3Ofv2SO",
        "outputId": "63595f5a-385f-4224-c280-18e19adbe7f1"
      },
      "source": [
        "print(\"Image Shape: {}\".format(mnist_data_train.data[0].size()))"
      ],
      "execution_count": 75,
      "outputs": [
        {
          "output_type": "stream",
          "text": [
            "Image Shape: torch.Size([28, 28])\n"
          ],
          "name": "stdout"
        }
      ]
    },
    {
      "cell_type": "markdown",
      "metadata": {
        "id": "jCOONkg-zV7Y"
      },
      "source": [
        "## Visualize Data"
      ]
    },
    {
      "cell_type": "code",
      "metadata": {
        "id": "R9MK03TZw6Qs"
      },
      "source": [
        "def imshow(img):\n",
        "\timg = img/2 + 0.5 #unnormalize the image\n",
        "\tplt.imshow(img, cmap='gray') # convert from tensor to image"
      ],
      "execution_count": 76,
      "outputs": []
    },
    {
      "cell_type": "code",
      "metadata": {
        "id": "gMJ0Kx4Kw-_H"
      },
      "source": [
        "def visualize(dataset):\n",
        "  figure = plt.figure(figsize=(25,4))\n",
        "  for i in range(20):\n",
        "    axis = figure.add_subplot(2, 20/2, i+1, xticks=[], yticks=[])\n",
        "    data = dataset.data[i]\n",
        "    data = data.numpy()\n",
        "\n",
        "    target = dataset.targets[i]\n",
        "    target = target.numpy()\n",
        "    imshow(data)\n",
        "    axis.set_title(target)\n"
      ],
      "execution_count": 77,
      "outputs": []
    },
    {
      "cell_type": "code",
      "metadata": {
        "colab": {
          "base_uri": "https://localhost:8080/",
          "height": 268
        },
        "id": "8bPOwKg10Ro7",
        "outputId": "3b03fcd9-985b-4269-a623-9b4ce603f990"
      },
      "source": [
        "visualize(mnist_data_train)"
      ],
      "execution_count": 78,
      "outputs": [
        {
          "output_type": "display_data",
          "data": {
            "image/png": "[encoded data removed]",
            "text/plain": [
              "<Figure size 1800x288 with 20 Axes>"
            ]
          },
          "metadata": {
            "tags": []
          }
        }
      ]
    },
    {
      "cell_type": "code",
      "metadata": {
        "colab": {
          "base_uri": "https://localhost:8080/",
          "height": 268
        },
        "id": "RKoh5Cf70UYu",
        "outputId": "ed066f47-5361-4a41-fb73-67f84128518f"
      },
      "source": [
        "visualize(mnist_data_test)"
      ],
      "execution_count": 79,
      "outputs": [
        {
          "output_type": "display_data",
          "data": {
            "image/png": "[encoded data removed]",
            "text/plain": [
              "<Figure size 1800x288 with 20 Axes>"
            ]
          },
          "metadata": {
            "tags": []
          }
        }
      ]
    },
    {
      "cell_type": "markdown",
      "metadata": {
        "id": "ctjRsETiO1qO"
      },
      "source": [
        "## Partitioning the Data (IID and non-IID)"
      ]
    },
    {
      "cell_type": "code",
      "metadata": {
        "id": "3_v8lyrgO5dD"
      },
      "source": [
        "def iid_partition(dataset, clients):\n",
        "  \"\"\"\n",
        "  I.I.D paritioning of data over clients\n",
        "  Shuffle the data\n",
        "  Split it between clients\n",
        "  \n",
        "  params:\n",
        "    - dataset (torch.utils.Dataset): Dataset containing the MNIST Images\n",
        "    - clients (int): Number of Clients to split the data between\n",
        "\n",
        "  returns:\n",
        "    - Dictionary of image indexes for each client\n",
        "  \"\"\"\n",
        "\n",
        "  num_items_per_client = int(len(dataset)/clients)\n",
        "  client_dict = {}\n",
        "  image_idxs = [i for i in range(len(dataset))]\n",
        "\n",
        "  for i in range(clients):\n",
        "    client_dict[i] = set(np.random.choice(image_idxs, num_items_per_client, replace=False))\n",
        "    image_idxs = list(set(image_idxs) - client_dict[i])\n",
        "\n",
        "  return client_dict"
      ],
      "execution_count": 80,
      "outputs": []
    },
    {
      "cell_type": "code",
      "metadata": {
        "id": "4zMdliGMQoSl"
      },
      "source": [
        "def non_iid_partition(dataset, clients, total_shards, shards_size, num_shards_per_client):\n",
        "  \"\"\"\n",
        "  non I.I.D parititioning of data over clients\n",
        "  Sort the data by the digit label\n",
        "  Divide the data into N shards of size S\n",
        "  Each of the clients will get X shards\n",
        "\n",
        "  params:\n",
        "    - dataset (torch.utils.Dataset): Dataset containing the MNIST Images\n",
        "    - clients (int): Number of Clients to split the data between\n",
        "    - total_shards (int): Number of shards to partition the data in\n",
        "    - shards_size (int): Size of each shard \n",
        "    - num_shards_per_client (int): Number of shards of size shards_size that each client receives\n",
        "\n",
        "  returns:\n",
        "    - Dictionary of image indexes for each client\n",
        "  \"\"\"\n",
        "  \n",
        "  shard_idxs = [i for i in range(total_shards)]\n",
        "  client_dict = {i: np.array([], dtype='int64') for i in range(clients)}\n",
        "  idxs = np.arange(len(dataset))\n",
        "  data_labels = dataset.targets.numpy()\n",
        "\n",
        "  # sort the labels\n",
        "  label_idxs = np.vstack((idxs, data_labels))\n",
        "  label_idxs = label_idxs[:, label_idxs[1,:].argsort()]\n",
        "  idxs = label_idxs[0,:]\n",
        "\n",
        "  # divide the data into total_shards of size shards_size\n",
        "  # assign num_shards_per_client to each client\n",
        "  for i in range(clients):\n",
        "    rand_set = set(np.random.choice(shard_idxs, num_shards_per_client, replace=False))\n",
        "    shard_idxs = list(set(shard_idxs) - rand_set)\n",
        "\n",
        "    for rand in rand_set:\n",
        "      client_dict[i] = np.concatenate((client_dict[i], idxs[rand*shards_size:(rand+1)*shards_size]), axis=0)\n",
        "  \n",
        "  return client_dict\n"
      ],
      "execution_count": 81,
      "outputs": []
    },
    {
      "cell_type": "markdown",
      "metadata": {
        "id": "PTfxv8kFoGAy"
      },
      "source": [
        "## Models"
      ]
    },
    {
      "cell_type": "code",
      "metadata": {
        "id": "CvoDNFKbZST5"
      },
      "source": [
        "class MNIST_2NN(nn.Module):\n",
        "  \"\"\"\n",
        "  A simple multilayer-perceptron with 2-hidden layers with 200 units each\n",
        "  using ReLu activations\n",
        "\n",
        "  Total Expected Params: 199,210\n",
        "  \"\"\"\n",
        "  def __init__(self):\n",
        "    super(MNIST_2NN, self).__init__()\n",
        "\n",
        "    self.fc1 = nn.Linear(28*28, 200)\n",
        "    self.fc2 = nn.Linear(200, 200)\n",
        "    self.fc3 = nn.Linear(200, 10)\n",
        "\n",
        "  def forward(self, x):\n",
        "    x = torch.flatten(x, 1)\n",
        "    x = F.relu(self.fc1(x))\n",
        "    x = F.relu(self.fc2(x))\n",
        "    out = self.fc3(x)\n",
        "\n",
        "    return x"
      ],
      "execution_count": 82,
      "outputs": []
    },
    {
      "cell_type": "code",
      "metadata": {
        "id": "ut1hZ8x3qYPZ"
      },
      "source": [
        "class MNIST_CNN(nn.Module):\n",
        "  \"\"\"\n",
        "  CNN with two 5x5 convolution lauers(the first with 32 channels, second with 64,\n",
        "  each followed with 2x2 max pooling), a fully connected layer with 512 uunits and \n",
        "  ReLu activation, and the final Softmax output layer\n",
        "\n",
        "  Total Expected Params: 1,663,370\n",
        "  \"\"\"\n",
        "  def __init__(self):\n",
        "    super(MNIST_CNN, self).__init__()\n",
        "\n",
        "    self.conv1 = nn.Conv2d(1, 32, kernel_size=5)\n",
        "    self.conv2 = nn.Conv2d(32, 64, kernel_size=5)\n",
        "    \n",
        "    self.pool = nn.MaxPool2d(2,2)\n",
        "    self.dropout = nn.Dropout(p=0.2)\n",
        "\n",
        "    self.fc1 = nn.Linear(1024, 512)\n",
        "    self.out = nn.Linear(512, 10)\n",
        "\n",
        "  def forward(self, x):\n",
        "    x = self.pool(F.relu(self.conv1(x)))\n",
        "    x = self.pool(F.relu(self.conv2(x)))\n",
        "    x = self.dropout(x)\n",
        "    x = torch.flatten(x, 1)\n",
        "    x = F.relu(self.fc1(x))\n",
        "    x = self.out(x)\n",
        "    out = F.log_softmax(x, dim=1)\n",
        "\n",
        "    return out"
      ],
      "execution_count": 83,
      "outputs": []
    },
    {
      "cell_type": "markdown",
      "metadata": {
        "id": "uVv4HA9HuLtr"
      },
      "source": [
        "### Print Model Summaries"
      ]
    },
    {
      "cell_type": "code",
      "metadata": {
        "colab": {
          "base_uri": "https://localhost:8080/"
        },
        "id": "I5oTH710sJEt",
        "outputId": "aad8e3b6-6e4e-49cf-f8f7-bf7c072e6f2b"
      },
      "source": [
        "mnist_mlp = MNIST_2NN()\n",
        "mnist_cnn = MNIST_CNN()\n",
        "\n",
        "if torch.cuda.is_available():\n",
        "  mnist_mlp.cuda()\n",
        "  mnist_cnn.cuda()\n",
        "\n",
        "print(\"MNIST MLP SUMMARY\")\n",
        "print(summary(mnist_mlp, (28,28)))\n",
        "\n",
        "print(\"\\nMNIST CNN SUMMARY\")\n",
        "print(summary(mnist_cnn, (1, 28,28)))"
      ],
      "execution_count": 84,
      "outputs": [
        {
          "output_type": "stream",
          "text": [
            "MNIST MLP SUMMARY\n",
            "----------------------------------------------------------------\n",
            "        Layer (type)               Output Shape         Param #\n",
            "================================================================\n",
            "            Linear-1                  [-1, 200]         157,000\n",
            "            Linear-2                  [-1, 200]          40,200\n",
            "            Linear-3                   [-1, 10]           2,010\n",
            "================================================================\n",
            "Total params: 199,210\n",
            "Trainable params: 199,210\n",
            "Non-trainable params: 0\n",
            "----------------------------------------------------------------\n",
            "Input size (MB): 0.00\n",
            "Forward/backward pass size (MB): 0.00\n",
            "Params size (MB): 0.76\n",
            "Estimated Total Size (MB): 0.77\n",
            "----------------------------------------------------------------\n",
            "None\n",
            "\n",
            "MNIST CNN SUMMARY\n",
            "----------------------------------------------------------------\n",
            "        Layer (type)               Output Shape         Param #\n",
            "================================================================\n",
            "            Conv2d-1           [-1, 32, 24, 24]             832\n",
            "         MaxPool2d-2           [-1, 32, 12, 12]               0\n",
            "            Conv2d-3             [-1, 64, 8, 8]          51,264\n",
            "         MaxPool2d-4             [-1, 64, 4, 4]               0\n",
            "           Dropout-5             [-1, 64, 4, 4]               0\n",
            "            Linear-6                  [-1, 512]         524,800\n",
            "            Linear-7                   [-1, 10]           5,130\n",
            "================================================================\n",
            "Total params: 582,026\n",
            "Trainable params: 582,026\n",
            "Non-trainable params: 0\n",
            "----------------------------------------------------------------\n",
            "Input size (MB): 0.00\n",
            "Forward/backward pass size (MB): 0.23\n",
            "Params size (MB): 2.22\n",
            "Estimated Total Size (MB): 2.45\n",
            "----------------------------------------------------------------\n",
            "None\n"
          ],
          "name": "stdout"
        }
      ]
    },
    {
      "cell_type": "markdown",
      "metadata": {
        "id": "gf_8XEXa-gZ7"
      },
      "source": [
        "## q Federated Averaging"
      ]
    },
    {
      "cell_type": "markdown",
      "metadata": {
        "id": "L-aNdQsQ-Kvp"
      },
      "source": [
        "### Local Training (Client Update)\n",
        "\n",
        "Local training for the model on client side"
      ]
    },
    {
      "cell_type": "code",
      "metadata": {
        "id": "oX6OsQyO-Gz7"
      },
      "source": [
        "class CustomDataset(Dataset):\n",
        "  def __init__(self, dataset, idxs):\n",
        "      self.dataset = dataset\n",
        "      self.idxs = list(idxs)\n",
        "\n",
        "  def __len__(self):\n",
        "      return len(self.idxs)\n",
        "\n",
        "  def __getitem__(self, item):\n",
        "      image, label = self.dataset[self.idxs[item]]\n",
        "      return image, label\n",
        "\n",
        "\n",
        "class ClientUpdate(object):\n",
        "  def __init__(self, dataset, batch_size, learning_rate, epochs, idxs, q=None):\n",
        "    if hasattr(dataset, 'dataloader'):\n",
        "        self.train_loader = dataset.dataloader(batch_size=batch_size, shuffle=True)\n",
        "    else:\n",
        "        self.train_loader = DataLoader(CustomDataset(dataset, idxs), batch_size=batch_size, shuffle=True)\n",
        "\n",
        "    self.learning_rate = learning_rate\n",
        "    self.epochs = epochs\n",
        "    self.q = q\n",
        "    if not self.q:\n",
        "        # TODO: Client itself adjust fairness \n",
        "        pass\n",
        "    self.mu = 1e-10\n",
        "\n",
        "  def train(self, model):\n",
        "    criterion = nn.CrossEntropyLoss()\n",
        "    optimizer = torch.optim.SGD(model.parameters(), lr=self.learning_rate, momentum=0.5)\n",
        "\n",
        "    e_loss = []\n",
        "\n",
        "    model_weights = copy.deepcopy(model.state_dict())\n",
        "    for epoch in range(1, self.epochs+1):\n",
        "\n",
        "      train_loss = 0.0\n",
        "\n",
        "      model.train()\n",
        "      # for data, labels in tqdm(self.train_loader):\n",
        "      for data, labels in self.train_loader:\n",
        "\n",
        "        if torch.cuda.is_available():\n",
        "          data, labels = data.cuda(), labels.cuda()\n",
        "\n",
        "        # clear the gradients\n",
        "        optimizer.zero_grad()\n",
        "        # make a forward pass\n",
        "        output = model(data)\n",
        "        # calculate the loss\n",
        "        loss = criterion(output, labels)\n",
        "        # do a backwards pass\n",
        "        loss.backward()\n",
        "        # perform a single optimization step\n",
        "        optimizer.step()\n",
        "        # update training loss\n",
        "        train_loss += loss.item()*data.size(0)\n",
        "\n",
        "      # average losses\n",
        "      train_loss = train_loss/len(self.train_loader.dataset)\n",
        "      e_loss.append(train_loss)\n",
        "\n",
        "\n",
        "    total_loss = sum(e_loss)/len(e_loss)\n",
        "\n",
        "    # delta weights\n",
        "    model_weights_new = copy.deepcopy(model.state_dict())\n",
        "    L = 1.0 / self.learning_rate\n",
        "\n",
        "    delta_weights, delta, h = {}, {}, {}\n",
        "    loss_q = np.float_power(total_loss + self.mu, self.q)\n",
        "    # updating the global weights\n",
        "    for k in model_weights_new.keys():\n",
        "      delta_weights[k] = (model_weights[k] - model_weights_new[k]) * L\n",
        "      delta[k] =  loss_q * delta_weights[k]\n",
        "      # Estimation of the local Lipchitz constant\n",
        "      h[k] = (self.q * np.float_power(total_loss + self.mu, self.q - 1) * torch.pow(torch.norm(delta_weights[k]), 2)) + (L * loss_q)\n",
        "\n",
        "    return delta, h, total_loss"
      ],
      "execution_count": 85,
      "outputs": []
    },
    {
      "cell_type": "markdown",
      "metadata": {
        "id": "Ukgh1DVHE2Ds"
      },
      "source": [
        "### Server Side Training\n"
      ]
    },
    {
      "cell_type": "code",
      "metadata": {
        "id": "vIHBbaX18k0j"
      },
      "source": [
        "def client_sampling(n, m, weights=None, with_replace=False):\n",
        "    pk = None\n",
        "    if weights:\n",
        "        total_weights = np.sum(np.asarray(weights))\n",
        "        pk = [w * 1.0 / total_weights for w in weights]\n",
        "\n",
        "    return np.random.choice(range(n), m, replace=with_replace, p=pk)"
      ],
      "execution_count": 86,
      "outputs": []
    },
    {
      "cell_type": "code",
      "metadata": {
        "id": "1NF1e33BgpeL"
      },
      "source": [
        "def training(model, rounds, batch_size, lr, ds, ds_test, data_dict, C, K, E, q, sampling, plt_title, plt_color):\n",
        "  \"\"\"\n",
        "  Function implements the Federated Averaging Algorithm from the FedAvg paper.\n",
        "  Specifically, this function is used for the server side training and weight update\n",
        "\n",
        "  Params:\n",
        "    - model:           PyTorch model to train\n",
        "    - rounds:          Number of communication rounds for the client update\n",
        "    - batch_size:      Batch size for client update training\n",
        "    - lr:              Learning rate used for client update training\n",
        "    - ds:              Dataset used for training\n",
        "    - ds_test:         Dataset used for testing\n",
        "    - data_dict:       Type of data partition used for training (IID or non-IID)\n",
        "    - C:               Fraction of clients randomly chosen to perform computation on each round\n",
        "    - K:               Total number of clients\n",
        "    - E:               Number of training passes each client makes over its local dataset per round\n",
        "    - tb_writer_name:  Directory name to save the tensorboard logs\n",
        "  Returns:\n",
        "    - model:           Trained model on the server\n",
        "  \"\"\"\n",
        "\n",
        "  # global model weights\n",
        "  global_weights = model.state_dict()\n",
        "\n",
        "  # training loss\n",
        "  # train_accuracy = []\n",
        "  train_loss = []\n",
        "  test_accuracy = []\n",
        "  test_loss = []\n",
        "  f1_macro = []\n",
        "  f1_weighted = []\n",
        "\n",
        "  # client weights by total samples\n",
        "  p_k = None\n",
        "  if sampling == 'weighted':\n",
        "    p_k = [len(data_dict[c]) for c in data_dict] if ds else [len(data_dict[c]['train_ds']) for c in data_dict]\n",
        "\n",
        "  # Time log\n",
        "  start_time = time.time()\n",
        "\n",
        "  users_id = list(data_dict.keys())\n",
        "\n",
        "  for curr_round in range(1, rounds+1):\n",
        "    deltas, hs, local_loss = [], [], []\n",
        "\n",
        "    m = max(int(C*K), 1)    \n",
        "    S_t = client_sampling(K, m, weights=p_k, with_replace=False)\n",
        "\n",
        "    print('Round: {} Picking {}/{} clients: {}'.format(curr_round, m, K, S_t))\n",
        "\n",
        "    global_weights = model.state_dict()\n",
        "\n",
        "    for k in range(len(S_t)):\n",
        "      key = users_id[k]\n",
        "      ds_ = ds if ds else data_dict[key]['train_ds']\n",
        "      idxs = data_dict[key] if ds else None\n",
        "      local_update = ClientUpdate(dataset=ds_, batch_size=batch_size, learning_rate=lr, epochs=E, idxs=idxs, q=q)\n",
        "      delta_k, h_k, loss = local_update.train(model=copy.deepcopy(model))\n",
        "\n",
        "      deltas.append(copy.deepcopy(delta_k))\n",
        "      hs.append(copy.deepcopy(h_k))\n",
        "      local_loss.append(copy.deepcopy(loss))\n",
        "\n",
        "    # Perform qFedAvg\n",
        "    h_sum = copy.deepcopy(hs[0])\n",
        "    delta_sum = copy.deepcopy(deltas[0])\n",
        "    \n",
        "    for k in h_sum.keys():\n",
        "        for i in range(1, len(hs)):\n",
        "            h_sum[k] += hs[i][k]\n",
        "            delta_sum[k] += deltas[i][k]\n",
        "\n",
        "    new_weights = {}\n",
        "    for k in delta_sum.keys():\n",
        "        for i in range(len(deltas)):\n",
        "            new_weights[k] = delta_sum[k] / h_sum[k]\n",
        "\n",
        "    # Updating global model weights\n",
        "    for k in global_weights.keys():\n",
        "        global_weights[k] -= new_weights[k]\n",
        "\n",
        "    # move the updated weights to our model state dict\n",
        "    model.load_state_dict(global_weights)\n",
        "\n",
        "    # loss\n",
        "    loss_avg = sum(local_loss) / len(local_loss)\n",
        "    print('Round: {}... \\tAverage Loss: {}'.format(curr_round, round(loss_avg, 3)))\n",
        "    train_loss.append(loss_avg)\n",
        "\n",
        "    # test\n",
        "    test_criterion = nn.CrossEntropyLoss()\n",
        "    test_accuracy_current, test_loss_current, f1_macro_current, f1_weighted_current =  testing(copy.deepcopy(model), ds_test, 128, test_criterion, num_classes, classes_test)\n",
        "    test_accuracy.append(test_accuracy_current)\n",
        "    test_loss.append(test_loss_current)\n",
        "    f1_macro.append(f1_macro_current)\n",
        "    f1_weighted.append(f1_weighted_current)\n",
        "\n",
        "  end_time = time.time()\n",
        "  \n",
        "  fig, ax = plt.subplots()\n",
        "  x_axis = np.arange(1, rounds+1)\n",
        "  y_axis = np.array(train_loss)\n",
        "  ax.plot(x_axis, y_axis, 'tab:'+plt_color)\n",
        "\n",
        "  ax.set(xlabel='Number of Rounds', ylabel='Train Loss',\n",
        "       title=plt_title)\n",
        "  ax.grid()\n",
        "  fig.savefig(plt_title+'_Train_loss.jpg', format='jpg')\n",
        "  plt.show()\n",
        "\n",
        "  fig, ax = plt.subplots()\n",
        "  x_axis = np.arange(1, rounds+1)\n",
        "  y_axis = np.array(test_loss)\n",
        "  ax.plot(x_axis, y_axis, 'tab:'+plt_color)\n",
        "\n",
        "  ax.set(xlabel='Number of Rounds', ylabel='Test Loss',\n",
        "       title=plt_title)\n",
        "  ax.grid()\n",
        "  fig.savefig(plt_title+'_Test_loss.jpg', format='jpg')\n",
        "  plt.show()\n",
        "\n",
        "  fig, ax = plt.subplots()\n",
        "  x_axis = np.arange(1, rounds+1)\n",
        "  y_axis = np.array(test_accuracy)\n",
        "  ax.plot(x_axis, y_axis, 'tab:'+plt_color)\n",
        "\n",
        "  ax.set(xlabel='Number of Rounds', ylabel='Test Accuracy',\n",
        "       title=plt_title)\n",
        "  ax.grid()\n",
        "  fig.savefig(plt_title+'_Test_Accuracy.jpg', format='jpg')\n",
        "  plt.show()\n",
        "\n",
        "  fig, ax = plt.subplots()\n",
        "  x_axis = np.arange(1, rounds+1)\n",
        "  y_axis = np.array(f1_macro)\n",
        "  ax.plot(x_axis, y_axis, 'tab:'+plt_color)\n",
        "\n",
        "  ax.set(xlabel='Number of Rounds', ylabel='F1 Macro',\n",
        "       title=plt_title)\n",
        "  ax.grid()\n",
        "  fig.savefig(plt_title+'_F1_Marco.jpg', format='jpg')\n",
        "  plt.show()\n",
        "\n",
        "  fig, ax = plt.subplots()\n",
        "  x_axis = np.arange(1, rounds+1)\n",
        "  y_axis = np.array(f1_weighted)\n",
        "  ax.plot(x_axis, y_axis, 'tab:'+plt_color)\n",
        "\n",
        "  ax.set(xlabel='Number of Rounds', ylabel='F1 Weighted',\n",
        "       title=plt_title)\n",
        "  ax.grid()\n",
        "  fig.savefig(plt_title+'_F1_Weighted.jpg', format='jpg')\n",
        "  plt.show()\n",
        "\n",
        "  print(\"Training Done!\")\n",
        "  print(\"Total time taken to Train: {}\\n\\n\".format(end_time-start_time))\n",
        "  \n",
        "  return model, train_loss, test_accuracy, test_loss, f1_macro, f1_weighted"
      ],
      "execution_count": 87,
      "outputs": []
    },
    {
      "cell_type": "markdown",
      "metadata": {
        "id": "tUYyb4T-uXmF"
      },
      "source": [
        "## Testing Loop"
      ]
    },
    {
      "cell_type": "code",
      "metadata": {
        "id": "uCcIZmO5uan9"
      },
      "source": [
        "def testing(model, dataset, bs, criterion, num_classes, classes, print_info=False):\n",
        "  #test loss \n",
        "  test_loss = 0.0\n",
        "  y_true, y_hat = None, None\n",
        "\n",
        "  correct_class = list(0 for i in range(num_classes))\n",
        "  total_class = list(0 for i in range(num_classes))\n",
        "\n",
        "  if hasattr(dataset, 'dataloader'):\n",
        "    test_loader = dataset.dataloader(batch_size=bs, shuffle=False)\n",
        "  else:\n",
        "    test_loader = DataLoader(dataset, batch_size=bs, shuffle=False)\n",
        "\n",
        "  l = len(test_loader)\n",
        "\n",
        "  model.eval()\n",
        "  for i, (data, labels) in enumerate(test_loader):\n",
        "\n",
        "    if torch.cuda.is_available():\n",
        "      data, labels = data.cuda(), labels.cuda()\n",
        "\n",
        "    output = model(data)\n",
        "    loss = criterion(output, labels)\n",
        "    test_loss += loss.item()*data.size(0)\n",
        "\n",
        "    _, pred = torch.max(output, dim=1)\n",
        "\n",
        "    # For F1Score\n",
        "    y_true = np.append(y_true, labels.data.view_as(pred).cpu().numpy()) if i != 0 else labels.data.view_as(pred).cpu().numpy()\n",
        "    y_hat = np.append(y_hat, pred.cpu().numpy()) if i != 0 else pred.cpu().numpy()\n",
        "\n",
        "    correct_tensor = pred.eq(labels.data.view_as(pred))\n",
        "    correct = np.squeeze(correct_tensor.numpy()) if not torch.cuda.is_available() else np.squeeze(correct_tensor.cpu().numpy())\n",
        "\n",
        "    for i, lbl in enumerate(labels.data):\n",
        "      try:\n",
        "        correct_class[lbl.item()] += correct[i]\n",
        "        total_class[lbl.item()] += 1\n",
        "      except:\n",
        "          print('Error', lbl, i)\n",
        "    \n",
        "  # avg test loss\n",
        "  test_loss = test_loss/len(test_loader.dataset)\n",
        "  test_accuracy = 100. * np.sum(correct_class) / np.sum(total_class)\n",
        "  # Avg F1 Score\n",
        "  f1_macro = f1_score(y_true, y_hat, average='macro')\n",
        "  # F1-Score -> weigthed to consider class imbalance\n",
        "  f1_weighted =  f1_score(y_true, y_hat, average='weighted')\n",
        "\n",
        "  if print_info:\n",
        "    print(\"Test Loss: {:.6f}\\n\".format(test_loss))\n",
        "\n",
        "    for i in range(10):\n",
        "      if total_class[i]>0:\n",
        "        print('Test Accuracy of %5s: %2d%% (%2d/%2d)' % \n",
        "              (classes[i], 100 * correct_class[i] / total_class[i],\n",
        "              np.sum(correct_class[i]), np.sum(total_class[i])))\n",
        "      else:\n",
        "        print('Test Accuracy of %5s: N/A (no training examples)' % (classes[i]))\n",
        "\n",
        "    print('\\nFinal Test  Accuracy: {:.3f} ({}/{})'.format(\n",
        "          100. * np.sum(correct_class) / np.sum(total_class),\n",
        "          np.sum(correct_class), np.sum(total_class)))\n",
        "\n",
        "    print(\"F1 Score: {:.6f} (macro) {:.6f} (weighted) %\\n\".format(f1_macro, f1_weighted))\n",
        "  \n",
        "  return test_accuracy, test_loss, f1_macro, f1_weighted"
      ],
      "execution_count": 88,
      "outputs": []
    },
    {
      "cell_type": "markdown",
      "metadata": {
        "id": "Ri0FqXFeHW-V"
      },
      "source": [
        "## Logger"
      ]
    },
    {
      "cell_type": "code",
      "metadata": {
        "id": "thZm2kSiHT4v"
      },
      "source": [
        "log_dict = {}\n",
        "NUM_REPEAT = 1"
      ],
      "execution_count": 89,
      "outputs": []
    },
    {
      "cell_type": "markdown",
      "metadata": {
        "id": "4hO5oV6aXqeh"
      },
      "source": [
        "## MNIST CNN on IID"
      ]
    },
    {
      "cell_type": "markdown",
      "metadata": {
        "id": "flSQv_P4zCfx"
      },
      "source": [
        "### Train\n"
      ]
    },
    {
      "cell_type": "code",
      "metadata": {
        "id": "0ZalcKZtEseA"
      },
      "source": [
        "# train_loss_multiple_runs = [None] * NUM_REPEAT\n",
        "# test_accuracy_multiple_runs = [None] * NUM_REPEAT\n",
        "# test_loss_multiple_runs = [None] * NUM_REPEAT\n",
        "# f1_macro_multiple_runs = [None] * NUM_REPEAT\n",
        "# f1_weighted_multiple_runs = [None] * NUM_REPEAT\n",
        "\n",
        "# for exp_num in range(NUM_REPEAT):\n",
        "#   print(\"Experiment Run Number: \", exp_num)\n",
        "\n",
        "#   # number of training rounds\n",
        "#   rounds = 50\n",
        "#   # client fraction\n",
        "#   C = 0.5\n",
        "#   # number of clients\n",
        "#   K = 100\n",
        "#   # number of training passes on local dataset for each roung\n",
        "#   E = 5\n",
        "#   # batch size\n",
        "#   batch_size = 10\n",
        "#   # learning Rate\n",
        "#   lr=0.05\n",
        "#   # fairness\n",
        "#   q = 0.001\n",
        "#   # sampling\n",
        "#   # sampling = 'uniform'\n",
        "#   sampling = 'weighted'\n",
        "#   # data partition dictionary\n",
        "#   iid_dict = iid_partition(mnist_data_train, 100)\n",
        "#   # load model\n",
        "#   mnist_cnn = MNIST_CNN()\n",
        "\n",
        "#   if torch.cuda.is_available():\n",
        "#     mnist_cnn.cuda()\n",
        "\n",
        "#   mnist_cnn_iid_trained, train_loss, test_accuracy, test_loss, f1_macro, f1_weighted = training(mnist_cnn, rounds, batch_size, lr, mnist_data_train, mnist_data_test, iid_dict, C, K, E, q, sampling, \"MNIST CNN on IID Dataset\", \"orange\")\n",
        "\n",
        "#   train_loss_multiple_runs[exp_num] = train_loss\n",
        "#   test_accuracy_multiple_runs[exp_num] = test_accuracy\n",
        "#   test_loss_multiple_runs[exp_num] = test_loss\n",
        "#   f1_macro_multiple_runs[exp_num] = f1_macro\n",
        "#   f1_weighted_multiple_runs[exp_num] = f1_weighted"
      ],
      "execution_count": 90,
      "outputs": []
    },
    {
      "cell_type": "markdown",
      "metadata": {
        "id": "wNwC82przF6G"
      },
      "source": [
        "### Test"
      ]
    },
    {
      "cell_type": "code",
      "metadata": {
        "id": "qB97BFs9we9w"
      },
      "source": [
        "# criterion = nn.CrossEntropyLoss()\n",
        "# acc, loss, f1_macro, f1_weighted = testing(mnist_cnn_iid_trained, mnist_data_test, 128, criterion, num_classes, classes_test, True)"
      ],
      "execution_count": 91,
      "outputs": []
    },
    {
      "cell_type": "code",
      "metadata": {
        "id": "gdQZEZmHHeqt"
      },
      "source": [
        "# hyperparams = {'rounds': rounds,\n",
        "#                'C': C,\n",
        "#                'K': K,\n",
        "#                'E': E,\n",
        "#                'batch_size': batch_size,\n",
        "#                'lr': lr,\n",
        "#                'q': q,\n",
        "#                'sampling': sampling\n",
        "#                }\n",
        "\n",
        "# log_dict['MNIST CNN on IID'] = {'train_loss': train_loss_multiple_runs, \n",
        "#                                 'test_loss': test_loss_multiple_runs, \n",
        "#                                 'test_accuracy': test_accuracy_multiple_runs,\n",
        "#                                 'f1_macro': f1_macro_multiple_runs,\n",
        "#                                 'f1_weighted': f1_weighted_multiple_runs,\n",
        "#                                 'hyperparams': hyperparams,\n",
        "#                                 }"
      ],
      "execution_count": 92,
      "outputs": []
    },
    {
      "cell_type": "markdown",
      "metadata": {
        "id": "uF8MdSIUYcnl"
      },
      "source": [
        "## MNIST CNN on Non IID"
      ]
    },
    {
      "cell_type": "markdown",
      "metadata": {
        "id": "a6wXX7JW11bx"
      },
      "source": [
        "### Train\n"
      ]
    },
    {
      "cell_type": "code",
      "metadata": {
        "id": "fCD3kBCKYfBK",
        "colab": {
          "base_uri": "https://localhost:8080/",
          "height": 1000
        },
        "outputId": "d2ca5ebd-295a-489c-a541-4e969eed4555"
      },
      "source": [
        "train_loss_multiple_runs = [None] * NUM_REPEAT\n",
        "test_accuracy_multiple_runs = [None] * NUM_REPEAT\n",
        "test_loss_multiple_runs = [None] * NUM_REPEAT\n",
        "f1_macro_multiple_runs = [None] * NUM_REPEAT\n",
        "f1_weighted_multiple_runs = [None] * NUM_REPEAT\n",
        "\n",
        "for exp_num in range(NUM_REPEAT):\n",
        "  print(\"Experiment Run Number: \", exp_num)\n",
        "\n",
        "  # number of training rounds\n",
        "  rounds = 50\n",
        "  # client fraction\n",
        "  C = 0.1\n",
        "  # number of clients\n",
        "  K = 100\n",
        "  # number of training passes on local dataset for each roung\n",
        "  E = 5\n",
        "  # batch size\n",
        "  batch_size = 10\n",
        "  # learning Rate\n",
        "  lr=0.05\n",
        "  # fairness\n",
        "  q = 0.001\n",
        "  # sampling\n",
        "  # sampling = 'uniform'\n",
        "  sampling = 'weighted'\n",
        "  # dict containing different type of data partition\n",
        "  data_dict = non_iid_partition(mnist_data_train,100, 1000, 60, 10)\n",
        "  # load model\n",
        "  mnist_cnn = MNIST_CNN()\n",
        "\n",
        "  if torch.cuda.is_available():\n",
        "    mnist_cnn.cuda()\n",
        "\n",
        "  mnist_cnn_non_iid_trained, train_loss, test_accuracy, test_loss, f1_macro, f1_weighted = training(mnist_cnn, rounds, batch_size, lr, mnist_data_train, mnist_data_test, data_dict, C, K, E, q, sampling, \"MNIST CNN on Non-IID Dataset\", \"green\")\n",
        "\n",
        "  train_loss_multiple_runs[exp_num] = train_loss\n",
        "  test_accuracy_multiple_runs[exp_num] = test_accuracy\n",
        "  test_loss_multiple_runs[exp_num] = test_loss\n",
        "  f1_macro_multiple_runs[exp_num] = f1_macro\n",
        "  f1_weighted_multiple_runs[exp_num] = f1_weighted"
      ],
      "execution_count": 93,
      "outputs": [
        {
          "output_type": "stream",
          "text": [
            "Experiment Run Number:  0\n",
            "Round: 1 Picking 10/100 clients: [49 39 21 37 98 72 29 60 24 61]\n",
            "Round: 1... \tAverage Loss: 0.32\n",
            "Round: 2 Picking 10/100 clients: [89 55 73 45 52 69 81 65 97 76]\n",
            "Round: 2... \tAverage Loss: 0.156\n",
            "Round: 3 Picking 10/100 clients: [84 28 43 56 46  2 20 88  5 23]\n",
            "Round: 3... \tAverage Loss: 0.091\n",
            "Round: 4 Picking 10/100 clients: [35 75 56 95 22 87 28 24 49  7]\n",
            "Round: 4... \tAverage Loss: 0.072\n",
            "Round: 5 Picking 10/100 clients: [38 35 16 86 98 89 19 50 60 80]\n",
            "Round: 5... \tAverage Loss: 0.057\n",
            "Round: 6 Picking 10/100 clients: [88 62  3 48 71 87 67  4 96 91]\n",
            "Round: 6... \tAverage Loss: 0.052\n",
            "Round: 7 Picking 10/100 clients: [12 11 53 75 38 13 51 33 35 64]\n",
            "Round: 7... \tAverage Loss: 0.046\n",
            "Round: 8 Picking 10/100 clients: [88 55 68 65 31 37 91 82 56 90]\n",
            "Round: 8... \tAverage Loss: 0.043\n",
            "Round: 9 Picking 10/100 clients: [88 92 22 71 60 73 26 69 40 83]\n",
            "Round: 9... \tAverage Loss: 0.037\n",
            "Round: 10 Picking 10/100 clients: [79 21 18 71 55 75 85 23 83 88]\n",
            "Round: 10... \tAverage Loss: 0.024\n",
            "Round: 11 Picking 10/100 clients: [28 10 23 94 46 41  1  5 66 58]\n",
            "Round: 11... \tAverage Loss: 0.027\n",
            "Round: 12 Picking 10/100 clients: [57 11 35 81 17 88 12 16 47 94]\n",
            "Round: 12... \tAverage Loss: 0.025\n",
            "Round: 13 Picking 10/100 clients: [32 65 58 14 24 93 18 69 96 11]\n",
            "Round: 13... \tAverage Loss: 0.019\n",
            "Round: 14 Picking 10/100 clients: [39 22 11 64 74 67 92 14 31 35]\n",
            "Round: 14... \tAverage Loss: 0.02\n",
            "Round: 15 Picking 10/100 clients: [23 14 48 83 95 12 82 38 11 99]\n",
            "Round: 15... \tAverage Loss: 0.017\n",
            "Round: 16 Picking 10/100 clients: [65 98 48 39 24 25  2 51 37 26]\n",
            "Round: 16... \tAverage Loss: 0.022\n",
            "Round: 17 Picking 10/100 clients: [63 36 40  2 58 12 21 71 31 16]\n",
            "Round: 17... \tAverage Loss: 0.015\n",
            "Round: 18 Picking 10/100 clients: [57 21 27 62 73 48 45 78 19 13]\n",
            "Round: 18... \tAverage Loss: 0.017\n",
            "Round: 19 Picking 10/100 clients: [66 40 70 25 32 89 42 59 10 17]\n",
            "Round: 19... \tAverage Loss: 0.013\n",
            "Round: 20 Picking 10/100 clients: [ 3 42 98 87 63 86 59 36 17 65]\n",
            "Round: 20... \tAverage Loss: 0.013\n",
            "Round: 21 Picking 10/100 clients: [19 41 82 12 22 55 25 50 30 53]\n",
            "Round: 21... \tAverage Loss: 0.013\n",
            "Round: 22 Picking 10/100 clients: [27 98 49 74 70 23 51 68 45  7]\n",
            "Round: 22... \tAverage Loss: 0.009\n",
            "Round: 23 Picking 10/100 clients: [ 1 32 15 90 17 39 71 81 47 18]\n",
            "Round: 23... \tAverage Loss: 0.014\n",
            "Round: 24 Picking 10/100 clients: [27 41 36 34 13 91  2 44 98 65]\n",
            "Round: 24... \tAverage Loss: 0.009\n",
            "Round: 25 Picking 10/100 clients: [35 14 96  1 68 88  2 72 99 63]\n",
            "Round: 25... \tAverage Loss: 0.01\n",
            "Round: 26 Picking 10/100 clients: [41 87 55 74 58  3 21  7 10  1]\n",
            "Round: 26... \tAverage Loss: 0.005\n",
            "Round: 27 Picking 10/100 clients: [42 17 85 75 57 48 25 47 64 78]\n",
            "Round: 27... \tAverage Loss: 0.012\n",
            "Round: 28 Picking 10/100 clients: [ 8 70 74 55 21 53 50 47 46 11]\n",
            "Round: 28... \tAverage Loss: 0.004\n",
            "Round: 29 Picking 10/100 clients: [18  9 24 26 21 73 81 32 30 85]\n",
            "Round: 29... \tAverage Loss: 0.006\n",
            "Round: 30 Picking 10/100 clients: [62 29 71 34 58 99 30 93 32 54]\n",
            "Round: 30... \tAverage Loss: 0.008\n",
            "Round: 31 Picking 10/100 clients: [45 78  6 62 76 47 10 24 67 89]\n",
            "Round: 31... \tAverage Loss: 0.005\n",
            "Round: 32 Picking 10/100 clients: [42 56 22 41 33 65 98 81 19 57]\n",
            "Round: 32... \tAverage Loss: 0.005\n",
            "Round: 33 Picking 10/100 clients: [ 6 24 17 33 67 49 93 21 36 32]\n",
            "Round: 33... \tAverage Loss: 0.005\n",
            "Round: 34 Picking 10/100 clients: [23 99 38 94 39 20 11 85  3 96]\n",
            "Round: 34... \tAverage Loss: 0.011\n",
            "Round: 35 Picking 10/100 clients: [41 24 61 13  7 82 42 51 17  6]\n",
            "Round: 35... \tAverage Loss: 0.003\n",
            "Round: 36 Picking 10/100 clients: [36 50 76 78 11  6 15 77 75 14]\n",
            "Round: 36... \tAverage Loss: 0.006\n",
            "Round: 37 Picking 10/100 clients: [ 3 68 85 75 20 58 25 52 31 22]\n",
            "Round: 37... \tAverage Loss: 0.015\n",
            "Round: 38 Picking 10/100 clients: [96 91 44 13 72 25 16 38 52  9]\n",
            "Round: 38... \tAverage Loss: 0.003\n",
            "Round: 39 Picking 10/100 clients: [57  1 89 92 73 46 25 74 93 15]\n",
            "Round: 39... \tAverage Loss: 0.004\n",
            "Round: 40 Picking 10/100 clients: [46 31 35 40 95 25 49 47 86  5]\n",
            "Round: 40... \tAverage Loss: 0.004\n",
            "Round: 41 Picking 10/100 clients: [95 18 97 17 44 30 43 25 96 65]\n",
            "Round: 41... \tAverage Loss: 0.002\n",
            "Round: 42 Picking 10/100 clients: [13 82 54 97 42 19 34 73 65 77]\n",
            "Round: 42... \tAverage Loss: 0.006\n",
            "Round: 43 Picking 10/100 clients: [ 7 58 93 10  9 71 31 65 54 98]\n",
            "Round: 43... \tAverage Loss: 0.003\n",
            "Round: 44 Picking 10/100 clients: [88 67 26 58 78 44 10 33 15 77]\n",
            "Round: 44... \tAverage Loss: 0.007\n",
            "Round: 45 Picking 10/100 clients: [70  8 62 87 69 51 31 88 42 85]\n",
            "Round: 45... \tAverage Loss: 0.003\n",
            "Round: 46 Picking 10/100 clients: [78 81 98 74  3 20 18  6 50  2]\n",
            "Round: 46... \tAverage Loss: 0.013\n",
            "Round: 47 Picking 10/100 clients: [47 89 74 94 22 53 31 49 55  3]\n",
            "Round: 47... \tAverage Loss: 0.002\n",
            "Round: 48 Picking 10/100 clients: [23 70 77 56 27 40  9 95 86  6]\n",
            "Round: 48... \tAverage Loss: 0.001\n",
            "Round: 49 Picking 10/100 clients: [16 58 23 93 75 27  0 79 42 64]\n",
            "Round: 49... \tAverage Loss: 0.001\n",
            "Round: 50 Picking 10/100 clients: [28 14 67 45 23 13 58 72 73 18]\n",
            "Round: 50... \tAverage Loss: 0.002\n"
          ],
          "name": "stdout"
        },
        {
          "output_type": "display_data",
          "data": {
            "image/png": "[encoded data removed]",
            "text/plain": [
              "<Figure size 432x288 with 1 Axes>"
            ]
          },
          "metadata": {
            "tags": [],
            "needs_background": "light"
          }
        },
        {
          "output_type": "display_data",
          "data": {
            "image/png": "[encoded data removed]",
            "text/plain": [
              "<Figure size 432x288 with 1 Axes>"
            ]
          },
          "metadata": {
            "tags": [],
            "needs_background": "light"
          }
        },
        {
          "output_type": "display_data",
          "data": {
            "image/png": "[encoded data removed]",
            "text/plain": [
              "<Figure size 432x288 with 1 Axes>"
            ]
          },
          "metadata": {
            "tags": [],
            "needs_background": "light"
          }
        },
        {
          "output_type": "display_data",
          "data": {
            "image/png": "[encoded data removed]",
            "text/plain": [
              "<Figure size 432x288 with 1 Axes>"
            ]
          },
          "metadata": {
            "tags": [],
            "needs_background": "light"
          }
        },
        {
          "output_type": "display_data",
          "data": {
            "image/png": "[encoded data removed]",
            "text/plain": [
              "<Figure size 432x288 with 1 Axes>"
            ]
          },
          "metadata": {
            "tags": [],
            "needs_background": "light"
          }
        },
        {
          "output_type": "stream",
          "text": [
            "Training Done!\n",
            "Total time taken to Train: 619.1506669521332\n",
            "\n",
            "\n"
          ],
          "name": "stdout"
        }
      ]
    },
    {
      "cell_type": "markdown",
      "metadata": {
        "id": "4C68J-Kk14dB"
      },
      "source": [
        "### Test"
      ]
    },
    {
      "cell_type": "code",
      "metadata": {
        "id": "_yQ9GiAZ15jE",
        "colab": {
          "base_uri": "https://localhost:8080/"
        },
        "outputId": "e805be8a-fdfb-4328-b69f-1c1f06fad466"
      },
      "source": [
        "criterion = nn.CrossEntropyLoss()\n",
        "acc, loss, f1_macro, f1_weighted = testing(mnist_cnn_non_iid_trained, mnist_data_test, 128, criterion, num_classes, classes_test, True)"
      ],
      "execution_count": 94,
      "outputs": [
        {
          "output_type": "stream",
          "text": [
            "Test Loss: 0.054303\n",
            "\n",
            "Test Accuracy of     0: 99% (977/980)\n",
            "Test Accuracy of     1: 99% (1129/1135)\n",
            "Test Accuracy of     2: 98% (1019/1032)\n",
            "Test Accuracy of     3: 99% (1001/1010)\n",
            "Test Accuracy of     4: 98% (972/982)\n",
            "Test Accuracy of     5: 98% (881/892)\n",
            "Test Accuracy of     6: 98% (946/958)\n",
            "Test Accuracy of     7: 97% (1005/1028)\n",
            "Test Accuracy of     8: 98% (958/974)\n",
            "Test Accuracy of     9: 96% (977/1009)\n",
            "\n",
            "Final Test  Accuracy: 98.650 (9865/10000)\n",
            "F1 Score: 0.986439 (macro) 0.986492 (weighted) %\n",
            "\n"
          ],
          "name": "stdout"
        }
      ]
    },
    {
      "cell_type": "code",
      "metadata": {
        "id": "dxMcxgLhLvX-"
      },
      "source": [
        "hyperparams = {'rounds': rounds,\n",
        "               'C': C,\n",
        "               'K': K,\n",
        "               'E': E,\n",
        "               'batch_size': batch_size,\n",
        "               'lr': lr,\n",
        "               'q': q,\n",
        "               'sampling': sampling\n",
        "               }\n",
        "\n",
        "log_dict['MNIST CNN on Non IID'] = {'train_loss': train_loss_multiple_runs, \n",
        "                                'test_loss': test_loss_multiple_runs, \n",
        "                                'test_accuracy': test_accuracy_multiple_runs,\n",
        "                                'f1_macro': f1_macro_multiple_runs,\n",
        "                                'f1_weighted': f1_weighted_multiple_runs,\n",
        "                                'hyperparams': hyperparams,\n",
        "                                }"
      ],
      "execution_count": 95,
      "outputs": []
    },
    {
      "cell_type": "markdown",
      "metadata": {
        "id": "z_jifdzniuhm"
      },
      "source": [
        "## MNIST MLP on IID"
      ]
    },
    {
      "cell_type": "markdown",
      "metadata": {
        "id": "uh-te0Od2XGO"
      },
      "source": [
        "### Train"
      ]
    },
    {
      "cell_type": "code",
      "metadata": {
        "id": "UmpWmKOQixVV"
      },
      "source": [
        "# train_loss_multiple_runs = [None] * NUM_REPEAT\n",
        "# test_accuracy_multiple_runs = [None] * NUM_REPEAT\n",
        "# test_loss_multiple_runs = [None] * NUM_REPEAT\n",
        "# f1_macro_multiple_runs = [None] * NUM_REPEAT\n",
        "# f1_weighted_multiple_runs = [None] * NUM_REPEAT\n",
        "\n",
        "# for exp_num in range(NUM_REPEAT):\n",
        "#   print(\"Experiment Run Number: \", exp_num)\n",
        "\n",
        "#   # number of training rounds\n",
        "#   rounds = 50\n",
        "#   # client fraction\n",
        "#   C = 0.5\n",
        "#   # number of clients\n",
        "#   K = 100\n",
        "#   # number of training passes on local dataset for each round\n",
        "#   E = 5\n",
        "#   # batch size\n",
        "#   batch_size = 10\n",
        "#   # learning Rate\n",
        "#   lr=0.05\n",
        "#   # fairness\n",
        "#   q = 0.001\n",
        "#   # sampling\n",
        "#   # sampling = 'uniform'\n",
        "#   sampling = 'weighted'\n",
        "#   # dict containing different type of data partition\n",
        "#   data_dict = iid_partition(mnist_data_train, 100)\n",
        "#   # load model\n",
        "#   mnist_mlp = MNIST_2NN()\n",
        "\n",
        "#   if torch.cuda.is_available():\n",
        "#     mnist_mlp.cuda()\n",
        "\n",
        "#   mnist_mlp_iid_trained, train_loss, test_accuracy, test_loss, f1_macro, f1_weighted = training(mnist_mlp, rounds, batch_size, lr, mnist_data_train, mnist_data_test, data_dict, C, K, E, q, sampling, \"MNIST MLP on IID Dataset\", \"orange\")\n",
        "  \n",
        "#   train_loss_multiple_runs[exp_num] = train_loss\n",
        "#   test_accuracy_multiple_runs[exp_num] = test_accuracy\n",
        "#   test_loss_multiple_runs[exp_num] = test_loss\n",
        "#   f1_macro_multiple_runs[exp_num] = f1_macro\n",
        "#   f1_weighted_multiple_runs[exp_num] = f1_weighted"
      ],
      "execution_count": 96,
      "outputs": []
    },
    {
      "cell_type": "markdown",
      "metadata": {
        "id": "aTBsL3-72PPd"
      },
      "source": [
        "### Test"
      ]
    },
    {
      "cell_type": "code",
      "metadata": {
        "id": "a9G4j5L62OrS"
      },
      "source": [
        "# criterion = nn.CrossEntropyLoss()\n",
        "# acc, loss, f1_macro, f1_weighted = testing(mnist_mlp_iid_trained, mnist_data_test, 128, criterion, num_classes, classes_test, True)"
      ],
      "execution_count": 97,
      "outputs": []
    },
    {
      "cell_type": "code",
      "metadata": {
        "id": "fWCdJFRCL_f2"
      },
      "source": [
        "# hyperparams = {'rounds': rounds,\n",
        "#                'C': C,\n",
        "#                'K': K,\n",
        "#                'E': E,\n",
        "#                'batch_size': batch_size,\n",
        "#                'lr': lr,\n",
        "#                'q': q,\n",
        "#                'sampling': sampling\n",
        "#                }\n",
        "\n",
        "# log_dict['MNIST MLP on IID'] = {'train_loss': train_loss_multiple_runs, \n",
        "#                                 'test_loss': test_loss_multiple_runs, \n",
        "#                                 'test_accuracy': test_accuracy_multiple_runs,\n",
        "#                                 'f1_macro': f1_macro_multiple_runs,\n",
        "#                                 'f1_weighted': f1_weighted_multiple_runs,\n",
        "#                                 'hyperparams': hyperparams,\n",
        "#                                 }"
      ],
      "execution_count": 98,
      "outputs": []
    },
    {
      "cell_type": "markdown",
      "metadata": {
        "id": "J8jzEyO0iywz"
      },
      "source": [
        "## MNIST MLP on Non IID"
      ]
    },
    {
      "cell_type": "markdown",
      "metadata": {
        "id": "pJFepr3y2bF-"
      },
      "source": [
        "### Train"
      ]
    },
    {
      "cell_type": "code",
      "metadata": {
        "id": "EBKO44Hgi1Uh",
        "colab": {
          "base_uri": "https://localhost:8080/",
          "height": 1000
        },
        "outputId": "3bc50064-0113-449b-e075-d7251f918fb4"
      },
      "source": [
        "train_loss_multiple_runs = [None] * NUM_REPEAT\n",
        "test_accuracy_multiple_runs = [None] * NUM_REPEAT\n",
        "test_loss_multiple_runs = [None] * NUM_REPEAT\n",
        "f1_macro_multiple_runs = [None] * NUM_REPEAT\n",
        "f1_weighted_multiple_runs = [None] * NUM_REPEAT\n",
        "\n",
        "for exp_num in range(NUM_REPEAT):\n",
        "  print(\"Experiment Run Number: \", exp_num)\n",
        "  \n",
        "  # number of training rounds\n",
        "  rounds = 50\n",
        "  # client fraction\n",
        "  C = 0.1\n",
        "  # number of clients\n",
        "  K = 100\n",
        "  # number of training passes on local dataset for each roung\n",
        "  E = 5\n",
        "  # batch size\n",
        "  batch_size = 10\n",
        "  # learning Rate\n",
        "  lr=0.05\n",
        "  # fairness\n",
        "  q = 0.001\n",
        "  # sampling\n",
        "  # sampling = 'uniform'\n",
        "  sampling = 'weighted'\n",
        "\n",
        "  # dict containing different type of data partition\n",
        "  data_dict = non_iid_partition(mnist_data_train, 100, 1000, 60, 10)\n",
        "  # load model\n",
        "  mnist_mlp = MNIST_2NN()\n",
        "\n",
        "  if torch.cuda.is_available():\n",
        "    mnist_mlp.cuda()\n",
        "\n",
        "  mnist_mlp_non_iid_trained, train_loss, test_accuracy, test_loss, f1_macro, f1_weighted = training(mnist_mlp, rounds, batch_size, lr, mnist_data_train, mnist_data_test, data_dict, C, K, E, q, sampling, \"MNIST MLP on Non-IID Dataset\", \"green\")\n",
        "\n",
        "  train_loss_multiple_runs[exp_num] = train_loss\n",
        "  test_accuracy_multiple_runs[exp_num] = test_accuracy\n",
        "  test_loss_multiple_runs[exp_num] = test_loss\n",
        "  f1_macro_multiple_runs[exp_num] = f1_macro\n",
        "  f1_weighted_multiple_runs[exp_num] = f1_weighted"
      ],
      "execution_count": 99,
      "outputs": [
        {
          "output_type": "stream",
          "text": [
            "Experiment Run Number:  0\n",
            "Round: 1 Picking 10/100 clients: [62 90 18 43 40 11 16 33 73 15]\n",
            "Round: 1... \tAverage Loss: 0.347\n",
            "Round: 2 Picking 10/100 clients: [26 67 59 10 94 14  6 30  2  3]\n",
            "Round: 2... \tAverage Loss: 0.164\n",
            "Round: 3 Picking 10/100 clients: [57 89 40 30 91  6 47 25 38 41]\n",
            "Round: 3... \tAverage Loss: 0.123\n",
            "Round: 4 Picking 10/100 clients: [54 45 98  2 75  5 43 20 94 72]\n",
            "Round: 4... \tAverage Loss: 0.104\n",
            "Round: 5 Picking 10/100 clients: [46 95 72 70  7 61 98 21 79 17]\n",
            "Round: 5... \tAverage Loss: 0.083\n",
            "Round: 6 Picking 10/100 clients: [45  8 34 77  4 32 62 94 24 17]\n",
            "Round: 6... \tAverage Loss: 0.073\n",
            "Round: 7 Picking 10/100 clients: [20 23 63 99 52 27 74 15  3 60]\n",
            "Round: 7... \tAverage Loss: 0.068\n",
            "Round: 8 Picking 10/100 clients: [21 39 23 91 33 44  8 51 86 36]\n",
            "Round: 8... \tAverage Loss: 0.059\n",
            "Round: 9 Picking 10/100 clients: [78  3 23 13 40 89 37 60 35 38]\n",
            "Round: 9... \tAverage Loss: 0.055\n",
            "Round: 10 Picking 10/100 clients: [ 8 34 74 84 72  0 11 73 94 69]\n",
            "Round: 10... \tAverage Loss: 0.051\n",
            "Round: 11 Picking 10/100 clients: [22 10 87  9 15 59 18 14 94 13]\n",
            "Round: 11... \tAverage Loss: 0.05\n",
            "Round: 12 Picking 10/100 clients: [93 32 82 94 51 77 26 38 55 85]\n",
            "Round: 12... \tAverage Loss: 0.042\n",
            "Round: 13 Picking 10/100 clients: [62  2 30 86 24 36 38 15 34 81]\n",
            "Round: 13... \tAverage Loss: 0.037\n",
            "Round: 14 Picking 10/100 clients: [84 58 67 53  4 69 99 22 98 13]\n",
            "Round: 14... \tAverage Loss: 0.039\n",
            "Round: 15 Picking 10/100 clients: [92 67 46 34 62 84  3 53 65  2]\n",
            "Round: 15... \tAverage Loss: 0.03\n",
            "Round: 16 Picking 10/100 clients: [88 95 61 11 93 80  2 57 14 20]\n",
            "Round: 16... \tAverage Loss: 0.031\n",
            "Round: 17 Picking 10/100 clients: [39 87  3 68 96 64 81 90 71 65]\n",
            "Round: 17... \tAverage Loss: 0.031\n",
            "Round: 18 Picking 10/100 clients: [ 1 51 46 52 43 90 88 12 53 95]\n",
            "Round: 18... \tAverage Loss: 0.024\n",
            "Round: 19 Picking 10/100 clients: [59 80 37 32  2 92 34 36 75 52]\n",
            "Round: 19... \tAverage Loss: 0.024\n",
            "Round: 20 Picking 10/100 clients: [36 88 82 97 64 69 32  9 10 12]\n",
            "Round: 20... \tAverage Loss: 0.023\n",
            "Round: 21 Picking 10/100 clients: [90 70 22 27 82 83 60 15 81 77]\n",
            "Round: 21... \tAverage Loss: 0.022\n",
            "Round: 22 Picking 10/100 clients: [83 15 68 96 25 71 30 48 89  3]\n",
            "Round: 22... \tAverage Loss: 0.024\n",
            "Round: 23 Picking 10/100 clients: [98 77 35 48 87  1 54  5 11 68]\n",
            "Round: 23... \tAverage Loss: 0.023\n",
            "Round: 24 Picking 10/100 clients: [23  4 16 20 76 62 73 36 11 80]\n",
            "Round: 24... \tAverage Loss: 0.016\n",
            "Round: 25 Picking 10/100 clients: [14 38 26 29 60 16 44 63 86 37]\n",
            "Round: 25... \tAverage Loss: 0.019\n",
            "Round: 26 Picking 10/100 clients: [31 36 50 25 37 77 84 28 61 97]\n",
            "Round: 26... \tAverage Loss: 0.012\n",
            "Round: 27 Picking 10/100 clients: [95 43  6 90 12 92 73 93 66 99]\n",
            "Round: 27... \tAverage Loss: 0.012\n",
            "Round: 28 Picking 10/100 clients: [46 32 39 35 40 88 59 72 28 98]\n",
            "Round: 28... \tAverage Loss: 0.013\n",
            "Round: 29 Picking 10/100 clients: [28 15 77 83 39 54 41 29 81 75]\n",
            "Round: 29... \tAverage Loss: 0.013\n",
            "Round: 30 Picking 10/100 clients: [48 45 18 63 92 71 50  3 93 30]\n",
            "Round: 30... \tAverage Loss: 0.01\n",
            "Round: 31 Picking 10/100 clients: [29 46 42 96 16 68 10 27 72 80]\n",
            "Round: 31... \tAverage Loss: 0.01\n",
            "Round: 32 Picking 10/100 clients: [46 78 93 34 31 72 65 39 22 61]\n",
            "Round: 32... \tAverage Loss: 0.01\n",
            "Round: 33 Picking 10/100 clients: [43 13 63 69 36 83  7 49 95 19]\n",
            "Round: 33... \tAverage Loss: 0.013\n",
            "Round: 34 Picking 10/100 clients: [17 37 26 22 94 34  5 89 44 73]\n",
            "Round: 34... \tAverage Loss: 0.006\n",
            "Round: 35 Picking 10/100 clients: [36 93 28 66 82 23 80 79 96 92]\n",
            "Round: 35... \tAverage Loss: 0.006\n",
            "Round: 36 Picking 10/100 clients: [38 59 92  0 62 21 73 79 71 99]\n",
            "Round: 36... \tAverage Loss: 0.008\n",
            "Round: 37 Picking 10/100 clients: [47 56 40 97 92 98 89 93 11 16]\n",
            "Round: 37... \tAverage Loss: 0.005\n",
            "Round: 38 Picking 10/100 clients: [88 72 87 77 13 91 57 53 36 78]\n",
            "Round: 38... \tAverage Loss: 0.005\n",
            "Round: 39 Picking 10/100 clients: [90 25  3 20 75 86 34 15 85 21]\n",
            "Round: 39... \tAverage Loss: 0.005\n",
            "Round: 40 Picking 10/100 clients: [24  9 91 32 17 95 33 74 23 72]\n",
            "Round: 40... \tAverage Loss: 0.005\n",
            "Round: 41 Picking 10/100 clients: [23 63 44 79 73 93 37 75 96 33]\n",
            "Round: 41... \tAverage Loss: 0.006\n",
            "Round: 42 Picking 10/100 clients: [29 76 44 39 54 93  8 46 11 88]\n",
            "Round: 42... \tAverage Loss: 0.006\n",
            "Round: 43 Picking 10/100 clients: [13  8 96 56 82 47 43 91 98 61]\n",
            "Round: 43... \tAverage Loss: 0.005\n",
            "Round: 44 Picking 10/100 clients: [91 86 54 94 21 88 30  3 78 93]\n",
            "Round: 44... \tAverage Loss: 0.005\n",
            "Round: 45 Picking 10/100 clients: [21 53 74 33 14 39 45 19 81 51]\n",
            "Round: 45... \tAverage Loss: 0.005\n",
            "Round: 46 Picking 10/100 clients: [90 56 44 28 10 37 41 85 46 30]\n",
            "Round: 46... \tAverage Loss: 0.004\n",
            "Round: 47 Picking 10/100 clients: [87 73 30 16 29 12 90 61 86 82]\n",
            "Round: 47... \tAverage Loss: 0.003\n",
            "Round: 48 Picking 10/100 clients: [15 44 97 23  5 34 51 42 25 21]\n",
            "Round: 48... \tAverage Loss: 0.005\n",
            "Round: 49 Picking 10/100 clients: [26 10  7 59 94 80 83 73 95 75]\n",
            "Round: 49... \tAverage Loss: 0.006\n",
            "Round: 50 Picking 10/100 clients: [71 30  9 73  2 81 36 19 40 69]\n",
            "Round: 50... \tAverage Loss: 0.003\n"
          ],
          "name": "stdout"
        },
        {
          "output_type": "display_data",
          "data": {
            "image/png": "[encoded data removed]",
            "text/plain": [
              "<Figure size 432x288 with 1 Axes>"
            ]
          },
          "metadata": {
            "tags": [],
            "needs_background": "light"
          }
        },
        {
          "output_type": "display_data",
          "data": {
            "image/png": "[encoded data removed]",
            "text/plain": [
              "<Figure size 432x288 with 1 Axes>"
            ]
          },
          "metadata": {
            "tags": [],
            "needs_background": "light"
          }
        },
        {
          "output_type": "display_data",
          "data": {
            "image/png": "[encoded data removed]",
            "text/plain": [
              "<Figure size 432x288 with 1 Axes>"
            ]
          },
          "metadata": {
            "tags": [],
            "needs_background": "light"
          }
        },
        {
          "output_type": "display_data",
          "data": {
            "image/png": "[encoded data removed]",
            "text/plain": [
              "<Figure size 432x288 with 1 Axes>"
            ]
          },
          "metadata": {
            "tags": [],
            "needs_background": "light"
          }
        },
        {
          "output_type": "display_data",
          "data": {
            "image/png": "[encoded data removed]",
            "text/plain": [
              "<Figure size 432x288 with 1 Axes>"
            ]
          },
          "metadata": {
            "tags": [],
            "needs_background": "light"
          }
        },
        {
          "output_type": "stream",
          "text": [
            "Training Done!\n",
            "Total time taken to Train: 431.30663228034973\n",
            "\n",
            "\n"
          ],
          "name": "stdout"
        }
      ]
    },
    {
      "cell_type": "markdown",
      "metadata": {
        "id": "jmuQYPbF2mes"
      },
      "source": [
        "### Test"
      ]
    },
    {
      "cell_type": "code",
      "metadata": {
        "id": "0tKMlJyF2nGN",
        "colab": {
          "base_uri": "https://localhost:8080/"
        },
        "outputId": "c82dc759-de90-48b0-a507-bdc12b232dac"
      },
      "source": [
        "criterion = nn.CrossEntropyLoss()\n",
        "acc, loss, f1_macro, f1_weighted = testing(mnist_mlp_non_iid_trained, mnist_data_test, 128, criterion, num_classes, classes_test, True)"
      ],
      "execution_count": 100,
      "outputs": [
        {
          "output_type": "stream",
          "text": [
            "Test Loss: 0.233186\n",
            "\n",
            "Test Accuracy of     0: 98% (964/980)\n",
            "Test Accuracy of     1: 99% (1125/1135)\n",
            "Test Accuracy of     2: 94% (978/1032)\n",
            "Test Accuracy of     3: 94% (958/1010)\n",
            "Test Accuracy of     4: 97% (954/982)\n",
            "Test Accuracy of     5: 87% (777/892)\n",
            "Test Accuracy of     6: 86% (832/958)\n",
            "Test Accuracy of     7: 93% (960/1028)\n",
            "Test Accuracy of     8: 95% (932/974)\n",
            "Test Accuracy of     9: 92% (930/1009)\n",
            "\n",
            "Final Test  Accuracy: 94.100 (9410/10000)\n",
            "F1 Score: 0.939791 (macro) 0.940715 (weighted) %\n",
            "\n"
          ],
          "name": "stdout"
        }
      ]
    },
    {
      "cell_type": "code",
      "metadata": {
        "id": "1W5krYcSMQiu"
      },
      "source": [
        "hyperparams = {'rounds': rounds,\n",
        "               'C': C,\n",
        "               'K': K,\n",
        "               'E': E,\n",
        "               'batch_size': batch_size,\n",
        "               'lr': lr,\n",
        "               'q': q,\n",
        "               'sampling': sampling\n",
        "               }\n",
        "\n",
        "log_dict['MNIST MLP on Non IID'] = {'train_loss': train_loss_multiple_runs, \n",
        "                                'test_loss': test_loss_multiple_runs, \n",
        "                                'test_accuracy': test_accuracy_multiple_runs,\n",
        "                                'f1_macro': f1_macro_multiple_runs,\n",
        "                                'f1_weighted': f1_weighted_multiple_runs,\n",
        "                                'hyperparams': hyperparams,\n",
        "                                }"
      ],
      "execution_count": 101,
      "outputs": []
    },
    {
      "cell_type": "markdown",
      "metadata": {
        "id": "emS_SaRAP6TZ"
      },
      "source": [
        "## Pickle Log"
      ]
    },
    {
      "cell_type": "code",
      "metadata": {
        "id": "soAN38JoP0c1"
      },
      "source": [
        "import pickle\n",
        " \n",
        "with open(path + 'qFedAvg_10shards.pkl', 'wb') as file:\n",
        "  pickle.dump(log_dict, file)"
      ],
      "execution_count": 102,
      "outputs": []
    },
    {
      "cell_type": "code",
      "metadata": {
        "id": "2UBy-JswSoCJ",
        "colab": {
          "base_uri": "https://localhost:8080/"
        },
        "outputId": "2364e019-75dc-481c-8745-cae39e6b4342"
      },
      "source": [
        "log_dict"
      ],
      "execution_count": 103,
      "outputs": [
        {
          "output_type": "execute_result",
          "data": {
            "text/plain": [
              "{'MNIST CNN on Non IID': {'f1_macro': [[0.8029825720826741,\n",
              "    0.9220020159780796,\n",
              "    0.9518745566643105,\n",
              "    0.9592471202676913,\n",
              "    0.9659700325931609,\n",
              "    0.968742872894728,\n",
              "    0.9709288347295116,\n",
              "    0.9735145901721036,\n",
              "    0.9748152014780613,\n",
              "    0.9778381454630571,\n",
              "    0.9788351752791264,\n",
              "    0.9790652105579996,\n",
              "    0.9795546331760019,\n",
              "    0.9803649232714367,\n",
              "    0.980583331116421,\n",
              "    0.9815731039088316,\n",
              "    0.9814607397749786,\n",
              "    0.9821448617542332,\n",
              "    0.9825937750073879,\n",
              "    0.9838506078548213,\n",
              "    0.9825720426170547,\n",
              "    0.9828662886069232,\n",
              "    0.9831465690574968,\n",
              "    0.982765954053033,\n",
              "    0.983625658959028,\n",
              "    0.9839197553084944,\n",
              "    0.9842262192675865,\n",
              "    0.984409155647796,\n",
              "    0.9842393032120065,\n",
              "    0.9846393478651848,\n",
              "    0.9843395600632053,\n",
              "    0.9846387365175602,\n",
              "    0.9851315489517128,\n",
              "    0.9845662220976605,\n",
              "    0.9844531716794431,\n",
              "    0.9847575962589203,\n",
              "    0.9843800153178062,\n",
              "    0.9846373118075313,\n",
              "    0.9849304588693428,\n",
              "    0.98573477253446,\n",
              "    0.985928593578149,\n",
              "    0.9854208662738684,\n",
              "    0.9853373331868633,\n",
              "    0.985850905366663,\n",
              "    0.9857484837050231,\n",
              "    0.9862436782656356,\n",
              "    0.9862369378994249,\n",
              "    0.9859109189679229,\n",
              "    0.9860275218382197,\n",
              "    0.9864394730449544]],\n",
              "  'f1_weighted': [[0.8026352426747834,\n",
              "    0.9219249226276306,\n",
              "    0.9519701630382545,\n",
              "    0.9592495175267475,\n",
              "    0.9659999884278102,\n",
              "    0.9687379325646649,\n",
              "    0.970955274863338,\n",
              "    0.9735737580659677,\n",
              "    0.9748725001421078,\n",
              "    0.9778855518872529,\n",
              "    0.9788829514573993,\n",
              "    0.9790836178083008,\n",
              "    0.9795804213608664,\n",
              "    0.9803835212611716,\n",
              "    0.9805804635257555,\n",
              "    0.9815846170951589,\n",
              "    0.9814882491635164,\n",
              "    0.9821885321932393,\n",
              "    0.9825876012021781,\n",
              "    0.9838893985476741,\n",
              "    0.9825856387922568,\n",
              "    0.9828878066476187,\n",
              "    0.9831920488531416,\n",
              "    0.9827879308436382,\n",
              "    0.9836885162317148,\n",
              "    0.9839908537895627,\n",
              "    0.984295126884351,\n",
              "    0.9844958199174633,\n",
              "    0.9842931974108926,\n",
              "    0.9846932490143306,\n",
              "    0.9843904097602865,\n",
              "    0.9846900473113761,\n",
              "    0.9851939861773978,\n",
              "    0.9845916042056506,\n",
              "    0.9844897589872235,\n",
              "    0.9847859391917362,\n",
              "    0.9843915140067114,\n",
              "    0.9846905900781092,\n",
              "    0.9849910405286193,\n",
              "    0.9857930503595337,\n",
              "    0.985993934442054,\n",
              "    0.9854923548169449,\n",
              "    0.9853920429171863,\n",
              "    0.9858890921179775,\n",
              "    0.9857908801042872,\n",
              "    0.9862927341922878,\n",
              "    0.9862930791026043,\n",
              "    0.9859929637864309,\n",
              "    0.9860938742697685,\n",
              "    0.9864922256362577]],\n",
              "  'hyperparams': {'C': 0.1,\n",
              "   'E': 5,\n",
              "   'K': 100,\n",
              "   'batch_size': 10,\n",
              "   'lr': 0.05,\n",
              "   'q': 0.001,\n",
              "   'rounds': 50,\n",
              "   'sampling': 'weighted'},\n",
              "  'test_accuracy': [[80.84,\n",
              "    92.25,\n",
              "    95.22,\n",
              "    95.94,\n",
              "    96.61,\n",
              "    96.88,\n",
              "    97.1,\n",
              "    97.36,\n",
              "    97.49,\n",
              "    97.79,\n",
              "    97.89,\n",
              "    97.91,\n",
              "    97.96,\n",
              "    98.04,\n",
              "    98.06,\n",
              "    98.16,\n",
              "    98.15,\n",
              "    98.22,\n",
              "    98.26,\n",
              "    98.39,\n",
              "    98.26,\n",
              "    98.29,\n",
              "    98.32,\n",
              "    98.28,\n",
              "    98.37,\n",
              "    98.4,\n",
              "    98.43,\n",
              "    98.45,\n",
              "    98.43,\n",
              "    98.47,\n",
              "    98.44,\n",
              "    98.47,\n",
              "    98.52,\n",
              "    98.46,\n",
              "    98.45,\n",
              "    98.48,\n",
              "    98.44,\n",
              "    98.47,\n",
              "    98.5,\n",
              "    98.58,\n",
              "    98.6,\n",
              "    98.55,\n",
              "    98.54,\n",
              "    98.59,\n",
              "    98.58,\n",
              "    98.63,\n",
              "    98.63,\n",
              "    98.6,\n",
              "    98.61,\n",
              "    98.65]],\n",
              "  'test_loss': [[1.6008381887435914,\n",
              "    0.5260115521430969,\n",
              "    0.19557092646360397,\n",
              "    0.1369373267799616,\n",
              "    0.11053555596470833,\n",
              "    0.09638613592535257,\n",
              "    0.09147851615846157,\n",
              "    0.0835929212179035,\n",
              "    0.07944382180776446,\n",
              "    0.07311355601539836,\n",
              "    0.06934492037552409,\n",
              "    0.06908499714131466,\n",
              "    0.06612625564136543,\n",
              "    0.06381775912637823,\n",
              "    0.06316750227264128,\n",
              "    0.061726794985146265,\n",
              "    0.06108879719743272,\n",
              "    0.05834308156424085,\n",
              "    0.0576624100560206,\n",
              "    0.05611884285407723,\n",
              "    0.05724501520924968,\n",
              "    0.057809960110171234,\n",
              "    0.05705227166578988,\n",
              "    0.057543114924192194,\n",
              "    0.05481264976908569,\n",
              "    0.05519255126277567,\n",
              "    0.05274956573365198,\n",
              "    0.053175318438639804,\n",
              "    0.05419897369056125,\n",
              "    0.05370301756323752,\n",
              "    0.05336093546900447,\n",
              "    0.05289244746523982,\n",
              "    0.052899279505575394,\n",
              "    0.05327688532328102,\n",
              "    0.05391329679281989,\n",
              "    0.05441746033489908,\n",
              "    0.05498611420984671,\n",
              "    0.05374973935555172,\n",
              "    0.054518964675585445,\n",
              "    0.05232625924726599,\n",
              "    0.05262589769623228,\n",
              "    0.05320689116007852,\n",
              "    0.05321968255512438,\n",
              "    0.051468137813729116,\n",
              "    0.0520188696039786,\n",
              "    0.052056121045059266,\n",
              "    0.05255668923363701,\n",
              "    0.05276786187264661,\n",
              "    0.053669123003234925,\n",
              "    0.054303339455624516]],\n",
              "  'train_loss': [[0.3204323511050252,\n",
              "    0.15626666561503338,\n",
              "    0.0912497449874642,\n",
              "    0.07211138398957831,\n",
              "    0.05719804858809543,\n",
              "    0.05214581913489395,\n",
              "    0.046143070685422026,\n",
              "    0.04335389197585576,\n",
              "    0.037092786499349835,\n",
              "    0.024161908601148713,\n",
              "    0.027005306436178232,\n",
              "    0.02489277171625736,\n",
              "    0.019436885886007133,\n",
              "    0.019691689045886876,\n",
              "    0.0174074014156889,\n",
              "    0.02158753747777858,\n",
              "    0.014555512833345292,\n",
              "    0.016768788716230894,\n",
              "    0.01336547400525558,\n",
              "    0.01296847313243687,\n",
              "    0.013146076198331627,\n",
              "    0.009408765260750834,\n",
              "    0.013739063137455935,\n",
              "    0.009144483119302988,\n",
              "    0.0104082627741371,\n",
              "    0.005051976062799848,\n",
              "    0.012189997870626725,\n",
              "    0.004104906401702887,\n",
              "    0.006111536415366991,\n",
              "    0.008430927136768835,\n",
              "    0.0049261765001490255,\n",
              "    0.004883553263004571,\n",
              "    0.0052637953756059985,\n",
              "    0.010620028228867286,\n",
              "    0.0025241390931568406,\n",
              "    0.006355355174959694,\n",
              "    0.015041187737604472,\n",
              "    0.0029060717976679817,\n",
              "    0.003957822063816627,\n",
              "    0.004080155178024264,\n",
              "    0.0018325053484891344,\n",
              "    0.006431808453403175,\n",
              "    0.003291069949808688,\n",
              "    0.00676886536072701,\n",
              "    0.0029804316947075844,\n",
              "    0.012811736625796846,\n",
              "    0.0023311704064331714,\n",
              "    0.000707744733244042,\n",
              "    0.0010482336633785088,\n",
              "    0.0020986955445136675]]},\n",
              " 'MNIST MLP on Non IID': {'f1_macro': [[0.5866304595510774,\n",
              "    0.6644646117203197,\n",
              "    0.7122693485276164,\n",
              "    0.7493462457317592,\n",
              "    0.7782417275115807,\n",
              "    0.8031577182993503,\n",
              "    0.8366383783652097,\n",
              "    0.8647568329538233,\n",
              "    0.8754026705583471,\n",
              "    0.8867662512911894,\n",
              "    0.8958631918314147,\n",
              "    0.900780075396552,\n",
              "    0.9057739223110882,\n",
              "    0.9087258914733696,\n",
              "    0.9140517806274294,\n",
              "    0.9185325013912502,\n",
              "    0.9199498835023576,\n",
              "    0.9215589673998833,\n",
              "    0.9233173489403228,\n",
              "    0.9253080131098919,\n",
              "    0.925842203616595,\n",
              "    0.9278031616249299,\n",
              "    0.9298943905244889,\n",
              "    0.92991085883356,\n",
              "    0.9314429855190282,\n",
              "    0.9330684751168853,\n",
              "    0.9329807358887183,\n",
              "    0.9329935273838312,\n",
              "    0.934798377219345,\n",
              "    0.9355338637653826,\n",
              "    0.936292275138172,\n",
              "    0.9367187457047477,\n",
              "    0.936601968831735,\n",
              "    0.9369860606342482,\n",
              "    0.9375309104672143,\n",
              "    0.9373899797682924,\n",
              "    0.9375106614407442,\n",
              "    0.9374052665663621,\n",
              "    0.937506466209277,\n",
              "    0.9386667967833604,\n",
              "    0.9390755738751724,\n",
              "    0.9391755368436652,\n",
              "    0.9394092775574414,\n",
              "    0.9395991578465116,\n",
              "    0.9396403215559929,\n",
              "    0.9400260020101345,\n",
              "    0.9395305614006147,\n",
              "    0.939136856017665,\n",
              "    0.9392163179465864,\n",
              "    0.939790619623529]],\n",
              "  'f1_weighted': [[0.596508575612886,\n",
              "    0.6750508704347652,\n",
              "    0.72137960772756,\n",
              "    0.7565273109702892,\n",
              "    0.7840914574964305,\n",
              "    0.8080658292251752,\n",
              "    0.8403327099323479,\n",
              "    0.86762900003074,\n",
              "    0.877991962795197,\n",
              "    0.8889525674996417,\n",
              "    0.8978246690589388,\n",
              "    0.9025961044800437,\n",
              "    0.9074547543593758,\n",
              "    0.9103349123286162,\n",
              "    0.9155369019320154,\n",
              "    0.9198860226922049,\n",
              "    0.9212680600444298,\n",
              "    0.9228522610120519,\n",
              "    0.9245710866587573,\n",
              "    0.9265183543255254,\n",
              "    0.9270398480611454,\n",
              "    0.9289461074906296,\n",
              "    0.9310388343306863,\n",
              "    0.9310593837058943,\n",
              "    0.9325070458252794,\n",
              "    0.9341150199325837,\n",
              "    0.9340229277991681,\n",
              "    0.9340249034473125,\n",
              "    0.9357828929964785,\n",
              "    0.9364940678070883,\n",
              "    0.9372180124963403,\n",
              "    0.9376359245866961,\n",
              "    0.9375343148224163,\n",
              "    0.9379409903478548,\n",
              "    0.9384589158387647,\n",
              "    0.9383347610187437,\n",
              "    0.9384372430062141,\n",
              "    0.9383406812135346,\n",
              "    0.9384412473985665,\n",
              "    0.9395714547852767,\n",
              "    0.9399911033626329,\n",
              "    0.9400952840680756,\n",
              "    0.9403247696474532,\n",
              "    0.940509165443416,\n",
              "    0.940513212149109,\n",
              "    0.9409185888086385,\n",
              "    0.9404299351108805,\n",
              "    0.9400307271515305,\n",
              "    0.9401118765130052,\n",
              "    0.9407147270908266]],\n",
              "  'hyperparams': {'C': 0.1,\n",
              "   'E': 5,\n",
              "   'K': 100,\n",
              "   'batch_size': 10,\n",
              "   'lr': 0.05,\n",
              "   'q': 0.001,\n",
              "   'rounds': 50,\n",
              "   'sampling': 'weighted'},\n",
              "  'test_accuracy': [[67.06,\n",
              "    73.51,\n",
              "    77.15,\n",
              "    79.89,\n",
              "    81.92,\n",
              "    83.54,\n",
              "    85.64,\n",
              "    87.57,\n",
              "    88.39,\n",
              "    89.31,\n",
              "    90.09,\n",
              "    90.51,\n",
              "    90.95,\n",
              "    91.21,\n",
              "    91.69,\n",
              "    92.1,\n",
              "    92.23,\n",
              "    92.38,\n",
              "    92.54,\n",
              "    92.73,\n",
              "    92.78,\n",
              "    92.96,\n",
              "    93.16,\n",
              "    93.16,\n",
              "    93.3,\n",
              "    93.46,\n",
              "    93.45,\n",
              "    93.45,\n",
              "    93.62,\n",
              "    93.69,\n",
              "    93.76,\n",
              "    93.8,\n",
              "    93.79,\n",
              "    93.83,\n",
              "    93.88,\n",
              "    93.87,\n",
              "    93.88,\n",
              "    93.87,\n",
              "    93.88,\n",
              "    93.99,\n",
              "    94.03,\n",
              "    94.04,\n",
              "    94.06,\n",
              "    94.08,\n",
              "    94.08,\n",
              "    94.12,\n",
              "    94.07,\n",
              "    94.03,\n",
              "    94.04,\n",
              "    94.1]],\n",
              "  'test_loss': [[2.027868067550659,\n",
              "    1.04637243309021,\n",
              "    0.8482631860733032,\n",
              "    0.7329487498283386,\n",
              "    0.6190579851150513,\n",
              "    0.5409030636787414,\n",
              "    0.46872611773014067,\n",
              "    0.4106878301382065,\n",
              "    0.38611844737529755,\n",
              "    0.36181685057878493,\n",
              "    0.3396078560471535,\n",
              "    0.32611323407888415,\n",
              "    0.3135533817768097,\n",
              "    0.304666977596283,\n",
              "    0.2928818965911865,\n",
              "    0.2797741061449051,\n",
              "    0.2771913124203682,\n",
              "    0.27111653988361356,\n",
              "    0.2670472401738167,\n",
              "    0.2639937273025513,\n",
              "    0.262222193557024,\n",
              "    0.2571507629454136,\n",
              "    0.2543588922381401,\n",
              "    0.25254822319447995,\n",
              "    0.24852320487499238,\n",
              "    0.24389379317164422,\n",
              "    0.24401881844103337,\n",
              "    0.2456443138450384,\n",
              "    0.2420353132367134,\n",
              "    0.24076440084725617,\n",
              "    0.2384700872540474,\n",
              "    0.23612050463706255,\n",
              "    0.2362799848228693,\n",
              "    0.2347842237636447,\n",
              "    0.23345447863787414,\n",
              "    0.23615876319110393,\n",
              "    0.23685304043740035,\n",
              "    0.2346260840535164,\n",
              "    0.23588351574465632,\n",
              "    0.2320743780978024,\n",
              "    0.23135538219958543,\n",
              "    0.23125044196397065,\n",
              "    0.23093803272545338,\n",
              "    0.23276454623118042,\n",
              "    0.23211935968101025,\n",
              "    0.23121163327470423,\n",
              "    0.23095159893259407,\n",
              "    0.2318444902870804,\n",
              "    0.23390093952417373,\n",
              "    0.23318645059652626]],\n",
              "  'train_loss': [[0.34689252873354415,\n",
              "    0.16367478697636398,\n",
              "    0.12298298672223366,\n",
              "    0.10352783981589164,\n",
              "    0.0826260539038091,\n",
              "    0.07299848911050746,\n",
              "    0.06809213514287664,\n",
              "    0.058987857993898926,\n",
              "    0.05523495666377616,\n",
              "    0.0514872979990602,\n",
              "    0.04984120778895037,\n",
              "    0.042418157788056084,\n",
              "    0.03738673810905706,\n",
              "    0.03883062971307799,\n",
              "    0.02965572329118853,\n",
              "    0.03136729604660317,\n",
              "    0.030630581985447252,\n",
              "    0.024377207065017805,\n",
              "    0.023948659290367002,\n",
              "    0.02297601736407675,\n",
              "    0.02175861758031707,\n",
              "    0.02414959463151089,\n",
              "    0.02330423379138165,\n",
              "    0.015999957157888958,\n",
              "    0.019232238979215256,\n",
              "    0.012442083006552064,\n",
              "    0.011686174264596198,\n",
              "    0.012835442881186371,\n",
              "    0.012597417365822877,\n",
              "    0.009970298714201438,\n",
              "    0.00999367065373561,\n",
              "    0.00978650514696695,\n",
              "    0.012883742814765505,\n",
              "    0.006457896293900376,\n",
              "    0.006378730650215328,\n",
              "    0.008064025079896132,\n",
              "    0.005224573111531015,\n",
              "    0.004810522977754848,\n",
              "    0.004686023862431133,\n",
              "    0.005304565009528498,\n",
              "    0.006220812728562957,\n",
              "    0.005751066125713123,\n",
              "    0.005021790274826571,\n",
              "    0.004562731750605469,\n",
              "    0.004764922807308116,\n",
              "    0.004374935000471813,\n",
              "    0.0033906871318756656,\n",
              "    0.005438926086084392,\n",
              "    0.0060073178915520005,\n",
              "    0.0028844986555518893]]}}"
            ]
          },
          "metadata": {
            "tags": []
          },
          "execution_count": 103
        }
      ]
    },
    {
      "cell_type": "code",
      "metadata": {
        "id": "ODyhlJgHRYtz"
      },
      "source": [
        "import pickle\n",
        "\n",
        "with open(path + 'qFedAvg_10shards.pkl', 'rb') as file:\n",
        "  log_dict = pickle.load(file)"
      ],
      "execution_count": 104,
      "outputs": []
    },
    {
      "cell_type": "code",
      "metadata": {
        "id": "se_04JMaVJPg"
      },
      "source": [
        "print([test_acc[-1] for test_acc in log_dict['MNIST CNN on IID']['test_accuracy']])"
      ],
      "execution_count": null,
      "outputs": []
    },
    {
      "cell_type": "code",
      "metadata": {
        "id": "5sv0rv-G4Sqa",
        "colab": {
          "base_uri": "https://localhost:8080/"
        },
        "outputId": "f9db6021-b738-4eb8-f4d9-0dba6e98225e"
      },
      "source": [
        "print([test_acc[-1] for test_acc in log_dict['MNIST CNN on Non IID']['test_accuracy']])"
      ],
      "execution_count": 106,
      "outputs": [
        {
          "output_type": "stream",
          "text": [
            "[98.65]\n"
          ],
          "name": "stdout"
        }
      ]
    },
    {
      "cell_type": "code",
      "metadata": {
        "id": "b2a2_Az-4nal"
      },
      "source": [
        "print([test_acc[-1] for test_acc in log_dict['MNIST MLP on IID']['test_accuracy']])"
      ],
      "execution_count": null,
      "outputs": []
    },
    {
      "cell_type": "code",
      "metadata": {
        "id": "YoRqZyvD4p2K",
        "colab": {
          "base_uri": "https://localhost:8080/"
        },
        "outputId": "6add53ed-081a-4bbf-a1ff-ee2eb8128897"
      },
      "source": [
        "print([test_acc[-1] for test_acc in log_dict['MNIST MLP on Non IID']['test_accuracy']])"
      ],
      "execution_count": 107,
      "outputs": [
        {
          "output_type": "stream",
          "text": [
            "[94.1]\n"
          ],
          "name": "stdout"
        }
      ]
    },
    {
      "cell_type": "code",
      "metadata": {
        "id": "B87eGKJnAHIh",
        "colab": {
          "base_uri": "https://localhost:8080/"
        },
        "outputId": "0699dea4-98fe-4d54-90c2-6de1f1855d43"
      },
      "source": [
        "output.show()"
      ],
      "execution_count": 108,
      "outputs": [
        {
          "output_type": "stream",
          "text": [
            "Drive already mounted at /content/drive; to attempt to forcibly remount, call drive.mount(\"/content/drive\", force_remount=True).\n"
          ],
          "name": "stdout"
        }
      ]
    },
    {
      "cell_type": "code",
      "metadata": {
        "id": "c_IQNJU3RYt0"
      },
      "source": [
        ""
      ],
      "execution_count": null,
      "outputs": []
    }
  ]
}