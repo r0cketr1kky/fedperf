{
  "nbformat": 4,
  "nbformat_minor": 0,
  "metadata": {
    "accelerator": "GPU",
    "colab": {
      "name": "qFederatedAveraging.ipynb",
      "provenance": [],
      "collapsed_sections": [],
      "machine_shape": "hm"
    },
    "kernelspec": {
      "name": "python3",
      "display_name": "Python 3"
    },
    "widgets": {
      "application/vnd.jupyter.widget-state+json": {
        "4f4fe6b5d0d7493f8f16a86f88c262d5": {
          "model_module": "@jupyter-widgets/controls",
          "model_name": "HBoxModel",
          "state": {
            "_view_name": "HBoxView",
            "_dom_classes": [],
            "_model_name": "HBoxModel",
            "_view_module": "@jupyter-widgets/controls",
            "_model_module_version": "1.5.0",
            "_view_count": null,
            "_view_module_version": "1.5.0",
            "box_style": "",
            "layout": "IPY_MODEL_b854673071064ad6bc17754e40139e9e",
            "_model_module": "@jupyter-widgets/controls",
            "children": [
              "IPY_MODEL_53320cb5a809462f9942d3953e0f15de",
              "IPY_MODEL_dbfc725dd48a43aaa2a4b838d2940909"
            ]
          }
        },
        "b854673071064ad6bc17754e40139e9e": {
          "model_module": "@jupyter-widgets/base",
          "model_name": "LayoutModel",
          "state": {
            "_view_name": "LayoutView",
            "grid_template_rows": null,
            "right": null,
            "justify_content": null,
            "_view_module": "@jupyter-widgets/base",
            "overflow": null,
            "_model_module_version": "1.2.0",
            "_view_count": null,
            "flex_flow": null,
            "width": null,
            "min_width": null,
            "border": null,
            "align_items": null,
            "bottom": null,
            "_model_module": "@jupyter-widgets/base",
            "top": null,
            "grid_column": null,
            "overflow_y": null,
            "overflow_x": null,
            "grid_auto_flow": null,
            "grid_area": null,
            "grid_template_columns": null,
            "flex": null,
            "_model_name": "LayoutModel",
            "justify_items": null,
            "grid_row": null,
            "max_height": null,
            "align_content": null,
            "visibility": null,
            "align_self": null,
            "height": null,
            "min_height": null,
            "padding": null,
            "grid_auto_rows": null,
            "grid_gap": null,
            "max_width": null,
            "order": null,
            "_view_module_version": "1.2.0",
            "grid_template_areas": null,
            "object_position": null,
            "object_fit": null,
            "grid_auto_columns": null,
            "margin": null,
            "display": null,
            "left": null
          }
        },
        "53320cb5a809462f9942d3953e0f15de": {
          "model_module": "@jupyter-widgets/controls",
          "model_name": "FloatProgressModel",
          "state": {
            "_view_name": "ProgressView",
            "style": "IPY_MODEL_a52a5c19085840299b6ad83956527c32",
            "_dom_classes": [],
            "description": "",
            "_model_name": "FloatProgressModel",
            "bar_style": "success",
            "max": 9912422,
            "_view_module": "@jupyter-widgets/controls",
            "_model_module_version": "1.5.0",
            "value": 9912422,
            "_view_count": null,
            "_view_module_version": "1.5.0",
            "orientation": "horizontal",
            "min": 0,
            "description_tooltip": null,
            "_model_module": "@jupyter-widgets/controls",
            "layout": "IPY_MODEL_97c41c4aed314b518b93290e39a3043a"
          }
        },
        "dbfc725dd48a43aaa2a4b838d2940909": {
          "model_module": "@jupyter-widgets/controls",
          "model_name": "HTMLModel",
          "state": {
            "_view_name": "HTMLView",
            "style": "IPY_MODEL_6364d05c0a3a456aa503c5689346024a",
            "_dom_classes": [],
            "description": "",
            "_model_name": "HTMLModel",
            "placeholder": "​",
            "_view_module": "@jupyter-widgets/controls",
            "_model_module_version": "1.5.0",
            "value": " 9913344/? [00:22&lt;00:00, 449571.65it/s]",
            "_view_count": null,
            "_view_module_version": "1.5.0",
            "description_tooltip": null,
            "_model_module": "@jupyter-widgets/controls",
            "layout": "IPY_MODEL_7b866ffa2c4545aa921e34fc2b9f678f"
          }
        },
        "a52a5c19085840299b6ad83956527c32": {
          "model_module": "@jupyter-widgets/controls",
          "model_name": "ProgressStyleModel",
          "state": {
            "_view_name": "StyleView",
            "_model_name": "ProgressStyleModel",
            "description_width": "initial",
            "_view_module": "@jupyter-widgets/base",
            "_model_module_version": "1.5.0",
            "_view_count": null,
            "_view_module_version": "1.2.0",
            "bar_color": null,
            "_model_module": "@jupyter-widgets/controls"
          }
        },
        "97c41c4aed314b518b93290e39a3043a": {
          "model_module": "@jupyter-widgets/base",
          "model_name": "LayoutModel",
          "state": {
            "_view_name": "LayoutView",
            "grid_template_rows": null,
            "right": null,
            "justify_content": null,
            "_view_module": "@jupyter-widgets/base",
            "overflow": null,
            "_model_module_version": "1.2.0",
            "_view_count": null,
            "flex_flow": null,
            "width": null,
            "min_width": null,
            "border": null,
            "align_items": null,
            "bottom": null,
            "_model_module": "@jupyter-widgets/base",
            "top": null,
            "grid_column": null,
            "overflow_y": null,
            "overflow_x": null,
            "grid_auto_flow": null,
            "grid_area": null,
            "grid_template_columns": null,
            "flex": null,
            "_model_name": "LayoutModel",
            "justify_items": null,
            "grid_row": null,
            "max_height": null,
            "align_content": null,
            "visibility": null,
            "align_self": null,
            "height": null,
            "min_height": null,
            "padding": null,
            "grid_auto_rows": null,
            "grid_gap": null,
            "max_width": null,
            "order": null,
            "_view_module_version": "1.2.0",
            "grid_template_areas": null,
            "object_position": null,
            "object_fit": null,
            "grid_auto_columns": null,
            "margin": null,
            "display": null,
            "left": null
          }
        },
        "6364d05c0a3a456aa503c5689346024a": {
          "model_module": "@jupyter-widgets/controls",
          "model_name": "DescriptionStyleModel",
          "state": {
            "_view_name": "StyleView",
            "_model_name": "DescriptionStyleModel",
            "description_width": "",
            "_view_module": "@jupyter-widgets/base",
            "_model_module_version": "1.5.0",
            "_view_count": null,
            "_view_module_version": "1.2.0",
            "_model_module": "@jupyter-widgets/controls"
          }
        },
        "7b866ffa2c4545aa921e34fc2b9f678f": {
          "model_module": "@jupyter-widgets/base",
          "model_name": "LayoutModel",
          "state": {
            "_view_name": "LayoutView",
            "grid_template_rows": null,
            "right": null,
            "justify_content": null,
            "_view_module": "@jupyter-widgets/base",
            "overflow": null,
            "_model_module_version": "1.2.0",
            "_view_count": null,
            "flex_flow": null,
            "width": null,
            "min_width": null,
            "border": null,
            "align_items": null,
            "bottom": null,
            "_model_module": "@jupyter-widgets/base",
            "top": null,
            "grid_column": null,
            "overflow_y": null,
            "overflow_x": null,
            "grid_auto_flow": null,
            "grid_area": null,
            "grid_template_columns": null,
            "flex": null,
            "_model_name": "LayoutModel",
            "justify_items": null,
            "grid_row": null,
            "max_height": null,
            "align_content": null,
            "visibility": null,
            "align_self": null,
            "height": null,
            "min_height": null,
            "padding": null,
            "grid_auto_rows": null,
            "grid_gap": null,
            "max_width": null,
            "order": null,
            "_view_module_version": "1.2.0",
            "grid_template_areas": null,
            "object_position": null,
            "object_fit": null,
            "grid_auto_columns": null,
            "margin": null,
            "display": null,
            "left": null
          }
        },
        "8236aaabe8e5472290c275cafa831117": {
          "model_module": "@jupyter-widgets/controls",
          "model_name": "HBoxModel",
          "state": {
            "_view_name": "HBoxView",
            "_dom_classes": [],
            "_model_name": "HBoxModel",
            "_view_module": "@jupyter-widgets/controls",
            "_model_module_version": "1.5.0",
            "_view_count": null,
            "_view_module_version": "1.5.0",
            "box_style": "",
            "layout": "IPY_MODEL_a1bf9340fdd94bdfa0f6c8551dde6f23",
            "_model_module": "@jupyter-widgets/controls",
            "children": [
              "IPY_MODEL_c7a24e9fa2db4e5c89590fa69fa0522d",
              "IPY_MODEL_9d113648fab24858bcf6baa5665cdb0e"
            ]
          }
        },
        "a1bf9340fdd94bdfa0f6c8551dde6f23": {
          "model_module": "@jupyter-widgets/base",
          "model_name": "LayoutModel",
          "state": {
            "_view_name": "LayoutView",
            "grid_template_rows": null,
            "right": null,
            "justify_content": null,
            "_view_module": "@jupyter-widgets/base",
            "overflow": null,
            "_model_module_version": "1.2.0",
            "_view_count": null,
            "flex_flow": null,
            "width": null,
            "min_width": null,
            "border": null,
            "align_items": null,
            "bottom": null,
            "_model_module": "@jupyter-widgets/base",
            "top": null,
            "grid_column": null,
            "overflow_y": null,
            "overflow_x": null,
            "grid_auto_flow": null,
            "grid_area": null,
            "grid_template_columns": null,
            "flex": null,
            "_model_name": "LayoutModel",
            "justify_items": null,
            "grid_row": null,
            "max_height": null,
            "align_content": null,
            "visibility": null,
            "align_self": null,
            "height": null,
            "min_height": null,
            "padding": null,
            "grid_auto_rows": null,
            "grid_gap": null,
            "max_width": null,
            "order": null,
            "_view_module_version": "1.2.0",
            "grid_template_areas": null,
            "object_position": null,
            "object_fit": null,
            "grid_auto_columns": null,
            "margin": null,
            "display": null,
            "left": null
          }
        },
        "c7a24e9fa2db4e5c89590fa69fa0522d": {
          "model_module": "@jupyter-widgets/controls",
          "model_name": "FloatProgressModel",
          "state": {
            "_view_name": "ProgressView",
            "style": "IPY_MODEL_fb53280eb82e4732965becd0723d557d",
            "_dom_classes": [],
            "description": "",
            "_model_name": "FloatProgressModel",
            "bar_style": "success",
            "max": 28881,
            "_view_module": "@jupyter-widgets/controls",
            "_model_module_version": "1.5.0",
            "value": 28881,
            "_view_count": null,
            "_view_module_version": "1.5.0",
            "orientation": "horizontal",
            "min": 0,
            "description_tooltip": null,
            "_model_module": "@jupyter-widgets/controls",
            "layout": "IPY_MODEL_2ca73b9b81fc4eb7bc62dd900527e1d3"
          }
        },
        "9d113648fab24858bcf6baa5665cdb0e": {
          "model_module": "@jupyter-widgets/controls",
          "model_name": "HTMLModel",
          "state": {
            "_view_name": "HTMLView",
            "style": "IPY_MODEL_2ba0b36f6f2041d299a97b129d0ad443",
            "_dom_classes": [],
            "description": "",
            "_model_name": "HTMLModel",
            "placeholder": "​",
            "_view_module": "@jupyter-widgets/controls",
            "_model_module_version": "1.5.0",
            "value": " 29696/? [00:00&lt;00:00, 60271.99it/s]",
            "_view_count": null,
            "_view_module_version": "1.5.0",
            "description_tooltip": null,
            "_model_module": "@jupyter-widgets/controls",
            "layout": "IPY_MODEL_a718980c746a45c7a24e801babf1b23c"
          }
        },
        "fb53280eb82e4732965becd0723d557d": {
          "model_module": "@jupyter-widgets/controls",
          "model_name": "ProgressStyleModel",
          "state": {
            "_view_name": "StyleView",
            "_model_name": "ProgressStyleModel",
            "description_width": "initial",
            "_view_module": "@jupyter-widgets/base",
            "_model_module_version": "1.5.0",
            "_view_count": null,
            "_view_module_version": "1.2.0",
            "bar_color": null,
            "_model_module": "@jupyter-widgets/controls"
          }
        },
        "2ca73b9b81fc4eb7bc62dd900527e1d3": {
          "model_module": "@jupyter-widgets/base",
          "model_name": "LayoutModel",
          "state": {
            "_view_name": "LayoutView",
            "grid_template_rows": null,
            "right": null,
            "justify_content": null,
            "_view_module": "@jupyter-widgets/base",
            "overflow": null,
            "_model_module_version": "1.2.0",
            "_view_count": null,
            "flex_flow": null,
            "width": null,
            "min_width": null,
            "border": null,
            "align_items": null,
            "bottom": null,
            "_model_module": "@jupyter-widgets/base",
            "top": null,
            "grid_column": null,
            "overflow_y": null,
            "overflow_x": null,
            "grid_auto_flow": null,
            "grid_area": null,
            "grid_template_columns": null,
            "flex": null,
            "_model_name": "LayoutModel",
            "justify_items": null,
            "grid_row": null,
            "max_height": null,
            "align_content": null,
            "visibility": null,
            "align_self": null,
            "height": null,
            "min_height": null,
            "padding": null,
            "grid_auto_rows": null,
            "grid_gap": null,
            "max_width": null,
            "order": null,
            "_view_module_version": "1.2.0",
            "grid_template_areas": null,
            "object_position": null,
            "object_fit": null,
            "grid_auto_columns": null,
            "margin": null,
            "display": null,
            "left": null
          }
        },
        "2ba0b36f6f2041d299a97b129d0ad443": {
          "model_module": "@jupyter-widgets/controls",
          "model_name": "DescriptionStyleModel",
          "state": {
            "_view_name": "StyleView",
            "_model_name": "DescriptionStyleModel",
            "description_width": "",
            "_view_module": "@jupyter-widgets/base",
            "_model_module_version": "1.5.0",
            "_view_count": null,
            "_view_module_version": "1.2.0",
            "_model_module": "@jupyter-widgets/controls"
          }
        },
        "a718980c746a45c7a24e801babf1b23c": {
          "model_module": "@jupyter-widgets/base",
          "model_name": "LayoutModel",
          "state": {
            "_view_name": "LayoutView",
            "grid_template_rows": null,
            "right": null,
            "justify_content": null,
            "_view_module": "@jupyter-widgets/base",
            "overflow": null,
            "_model_module_version": "1.2.0",
            "_view_count": null,
            "flex_flow": null,
            "width": null,
            "min_width": null,
            "border": null,
            "align_items": null,
            "bottom": null,
            "_model_module": "@jupyter-widgets/base",
            "top": null,
            "grid_column": null,
            "overflow_y": null,
            "overflow_x": null,
            "grid_auto_flow": null,
            "grid_area": null,
            "grid_template_columns": null,
            "flex": null,
            "_model_name": "LayoutModel",
            "justify_items": null,
            "grid_row": null,
            "max_height": null,
            "align_content": null,
            "visibility": null,
            "align_self": null,
            "height": null,
            "min_height": null,
            "padding": null,
            "grid_auto_rows": null,
            "grid_gap": null,
            "max_width": null,
            "order": null,
            "_view_module_version": "1.2.0",
            "grid_template_areas": null,
            "object_position": null,
            "object_fit": null,
            "grid_auto_columns": null,
            "margin": null,
            "display": null,
            "left": null
          }
        },
        "5100b5dd93e149eeb724c64961a9d164": {
          "model_module": "@jupyter-widgets/controls",
          "model_name": "HBoxModel",
          "state": {
            "_view_name": "HBoxView",
            "_dom_classes": [],
            "_model_name": "HBoxModel",
            "_view_module": "@jupyter-widgets/controls",
            "_model_module_version": "1.5.0",
            "_view_count": null,
            "_view_module_version": "1.5.0",
            "box_style": "",
            "layout": "IPY_MODEL_21e95a24ac7e49a1b3df2883280a0fae",
            "_model_module": "@jupyter-widgets/controls",
            "children": [
              "IPY_MODEL_aefa1023fdb3411ea43d16fee656200c",
              "IPY_MODEL_0c3591c0102b44f3a4be6098996483b8"
            ]
          }
        },
        "21e95a24ac7e49a1b3df2883280a0fae": {
          "model_module": "@jupyter-widgets/base",
          "model_name": "LayoutModel",
          "state": {
            "_view_name": "LayoutView",
            "grid_template_rows": null,
            "right": null,
            "justify_content": null,
            "_view_module": "@jupyter-widgets/base",
            "overflow": null,
            "_model_module_version": "1.2.0",
            "_view_count": null,
            "flex_flow": null,
            "width": null,
            "min_width": null,
            "border": null,
            "align_items": null,
            "bottom": null,
            "_model_module": "@jupyter-widgets/base",
            "top": null,
            "grid_column": null,
            "overflow_y": null,
            "overflow_x": null,
            "grid_auto_flow": null,
            "grid_area": null,
            "grid_template_columns": null,
            "flex": null,
            "_model_name": "LayoutModel",
            "justify_items": null,
            "grid_row": null,
            "max_height": null,
            "align_content": null,
            "visibility": null,
            "align_self": null,
            "height": null,
            "min_height": null,
            "padding": null,
            "grid_auto_rows": null,
            "grid_gap": null,
            "max_width": null,
            "order": null,
            "_view_module_version": "1.2.0",
            "grid_template_areas": null,
            "object_position": null,
            "object_fit": null,
            "grid_auto_columns": null,
            "margin": null,
            "display": null,
            "left": null
          }
        },
        "aefa1023fdb3411ea43d16fee656200c": {
          "model_module": "@jupyter-widgets/controls",
          "model_name": "FloatProgressModel",
          "state": {
            "_view_name": "ProgressView",
            "style": "IPY_MODEL_79f172a4f1cb4b94965da29835853a84",
            "_dom_classes": [],
            "description": "",
            "_model_name": "FloatProgressModel",
            "bar_style": "success",
            "max": 1648877,
            "_view_module": "@jupyter-widgets/controls",
            "_model_module_version": "1.5.0",
            "value": 1648877,
            "_view_count": null,
            "_view_module_version": "1.5.0",
            "orientation": "horizontal",
            "min": 0,
            "description_tooltip": null,
            "_model_module": "@jupyter-widgets/controls",
            "layout": "IPY_MODEL_d02001ec93be4955977a1aeb5de147c3"
          }
        },
        "0c3591c0102b44f3a4be6098996483b8": {
          "model_module": "@jupyter-widgets/controls",
          "model_name": "HTMLModel",
          "state": {
            "_view_name": "HTMLView",
            "style": "IPY_MODEL_85e0864c977f4d51bf1dd2ccdf5aeaba",
            "_dom_classes": [],
            "description": "",
            "_model_name": "HTMLModel",
            "placeholder": "​",
            "_view_module": "@jupyter-widgets/controls",
            "_model_module_version": "1.5.0",
            "value": " 1649664/? [00:05&lt;00:00, 299832.67it/s]",
            "_view_count": null,
            "_view_module_version": "1.5.0",
            "description_tooltip": null,
            "_model_module": "@jupyter-widgets/controls",
            "layout": "IPY_MODEL_d419f8c19186409aa377e3eba52ef1eb"
          }
        },
        "79f172a4f1cb4b94965da29835853a84": {
          "model_module": "@jupyter-widgets/controls",
          "model_name": "ProgressStyleModel",
          "state": {
            "_view_name": "StyleView",
            "_model_name": "ProgressStyleModel",
            "description_width": "initial",
            "_view_module": "@jupyter-widgets/base",
            "_model_module_version": "1.5.0",
            "_view_count": null,
            "_view_module_version": "1.2.0",
            "bar_color": null,
            "_model_module": "@jupyter-widgets/controls"
          }
        },
        "d02001ec93be4955977a1aeb5de147c3": {
          "model_module": "@jupyter-widgets/base",
          "model_name": "LayoutModel",
          "state": {
            "_view_name": "LayoutView",
            "grid_template_rows": null,
            "right": null,
            "justify_content": null,
            "_view_module": "@jupyter-widgets/base",
            "overflow": null,
            "_model_module_version": "1.2.0",
            "_view_count": null,
            "flex_flow": null,
            "width": null,
            "min_width": null,
            "border": null,
            "align_items": null,
            "bottom": null,
            "_model_module": "@jupyter-widgets/base",
            "top": null,
            "grid_column": null,
            "overflow_y": null,
            "overflow_x": null,
            "grid_auto_flow": null,
            "grid_area": null,
            "grid_template_columns": null,
            "flex": null,
            "_model_name": "LayoutModel",
            "justify_items": null,
            "grid_row": null,
            "max_height": null,
            "align_content": null,
            "visibility": null,
            "align_self": null,
            "height": null,
            "min_height": null,
            "padding": null,
            "grid_auto_rows": null,
            "grid_gap": null,
            "max_width": null,
            "order": null,
            "_view_module_version": "1.2.0",
            "grid_template_areas": null,
            "object_position": null,
            "object_fit": null,
            "grid_auto_columns": null,
            "margin": null,
            "display": null,
            "left": null
          }
        },
        "85e0864c977f4d51bf1dd2ccdf5aeaba": {
          "model_module": "@jupyter-widgets/controls",
          "model_name": "DescriptionStyleModel",
          "state": {
            "_view_name": "StyleView",
            "_model_name": "DescriptionStyleModel",
            "description_width": "",
            "_view_module": "@jupyter-widgets/base",
            "_model_module_version": "1.5.0",
            "_view_count": null,
            "_view_module_version": "1.2.0",
            "_model_module": "@jupyter-widgets/controls"
          }
        },
        "d419f8c19186409aa377e3eba52ef1eb": {
          "model_module": "@jupyter-widgets/base",
          "model_name": "LayoutModel",
          "state": {
            "_view_name": "LayoutView",
            "grid_template_rows": null,
            "right": null,
            "justify_content": null,
            "_view_module": "@jupyter-widgets/base",
            "overflow": null,
            "_model_module_version": "1.2.0",
            "_view_count": null,
            "flex_flow": null,
            "width": null,
            "min_width": null,
            "border": null,
            "align_items": null,
            "bottom": null,
            "_model_module": "@jupyter-widgets/base",
            "top": null,
            "grid_column": null,
            "overflow_y": null,
            "overflow_x": null,
            "grid_auto_flow": null,
            "grid_area": null,
            "grid_template_columns": null,
            "flex": null,
            "_model_name": "LayoutModel",
            "justify_items": null,
            "grid_row": null,
            "max_height": null,
            "align_content": null,
            "visibility": null,
            "align_self": null,
            "height": null,
            "min_height": null,
            "padding": null,
            "grid_auto_rows": null,
            "grid_gap": null,
            "max_width": null,
            "order": null,
            "_view_module_version": "1.2.0",
            "grid_template_areas": null,
            "object_position": null,
            "object_fit": null,
            "grid_auto_columns": null,
            "margin": null,
            "display": null,
            "left": null
          }
        },
        "0e7c61e96e2b42fb992686bea7117c47": {
          "model_module": "@jupyter-widgets/controls",
          "model_name": "HBoxModel",
          "state": {
            "_view_name": "HBoxView",
            "_dom_classes": [],
            "_model_name": "HBoxModel",
            "_view_module": "@jupyter-widgets/controls",
            "_model_module_version": "1.5.0",
            "_view_count": null,
            "_view_module_version": "1.5.0",
            "box_style": "",
            "layout": "IPY_MODEL_9d4ca617fd3b4ce790b9274b67031908",
            "_model_module": "@jupyter-widgets/controls",
            "children": [
              "IPY_MODEL_bed2c7358d56400a8915dde339017eff",
              "IPY_MODEL_37652a0578974686b42d62e5c5ff5c9a"
            ]
          }
        },
        "9d4ca617fd3b4ce790b9274b67031908": {
          "model_module": "@jupyter-widgets/base",
          "model_name": "LayoutModel",
          "state": {
            "_view_name": "LayoutView",
            "grid_template_rows": null,
            "right": null,
            "justify_content": null,
            "_view_module": "@jupyter-widgets/base",
            "overflow": null,
            "_model_module_version": "1.2.0",
            "_view_count": null,
            "flex_flow": null,
            "width": null,
            "min_width": null,
            "border": null,
            "align_items": null,
            "bottom": null,
            "_model_module": "@jupyter-widgets/base",
            "top": null,
            "grid_column": null,
            "overflow_y": null,
            "overflow_x": null,
            "grid_auto_flow": null,
            "grid_area": null,
            "grid_template_columns": null,
            "flex": null,
            "_model_name": "LayoutModel",
            "justify_items": null,
            "grid_row": null,
            "max_height": null,
            "align_content": null,
            "visibility": null,
            "align_self": null,
            "height": null,
            "min_height": null,
            "padding": null,
            "grid_auto_rows": null,
            "grid_gap": null,
            "max_width": null,
            "order": null,
            "_view_module_version": "1.2.0",
            "grid_template_areas": null,
            "object_position": null,
            "object_fit": null,
            "grid_auto_columns": null,
            "margin": null,
            "display": null,
            "left": null
          }
        },
        "bed2c7358d56400a8915dde339017eff": {
          "model_module": "@jupyter-widgets/controls",
          "model_name": "FloatProgressModel",
          "state": {
            "_view_name": "ProgressView",
            "style": "IPY_MODEL_152c57b9f2244d23a6fac33e01184c91",
            "_dom_classes": [],
            "description": "",
            "_model_name": "FloatProgressModel",
            "bar_style": "success",
            "max": 4542,
            "_view_module": "@jupyter-widgets/controls",
            "_model_module_version": "1.5.0",
            "value": 4542,
            "_view_count": null,
            "_view_module_version": "1.5.0",
            "orientation": "horizontal",
            "min": 0,
            "description_tooltip": null,
            "_model_module": "@jupyter-widgets/controls",
            "layout": "IPY_MODEL_1ba756b3a1c44a798adb43d9c06e698e"
          }
        },
        "37652a0578974686b42d62e5c5ff5c9a": {
          "model_module": "@jupyter-widgets/controls",
          "model_name": "HTMLModel",
          "state": {
            "_view_name": "HTMLView",
            "style": "IPY_MODEL_cb680f1e51d841528d2e48ee8616723b",
            "_dom_classes": [],
            "description": "",
            "_model_name": "HTMLModel",
            "placeholder": "​",
            "_view_module": "@jupyter-widgets/controls",
            "_model_module_version": "1.5.0",
            "value": " 5120/? [00:02&lt;00:00, 2315.46it/s]",
            "_view_count": null,
            "_view_module_version": "1.5.0",
            "description_tooltip": null,
            "_model_module": "@jupyter-widgets/controls",
            "layout": "IPY_MODEL_cc94ad51550542c28d20ad1ad63cced5"
          }
        },
        "152c57b9f2244d23a6fac33e01184c91": {
          "model_module": "@jupyter-widgets/controls",
          "model_name": "ProgressStyleModel",
          "state": {
            "_view_name": "StyleView",
            "_model_name": "ProgressStyleModel",
            "description_width": "initial",
            "_view_module": "@jupyter-widgets/base",
            "_model_module_version": "1.5.0",
            "_view_count": null,
            "_view_module_version": "1.2.0",
            "bar_color": null,
            "_model_module": "@jupyter-widgets/controls"
          }
        },
        "1ba756b3a1c44a798adb43d9c06e698e": {
          "model_module": "@jupyter-widgets/base",
          "model_name": "LayoutModel",
          "state": {
            "_view_name": "LayoutView",
            "grid_template_rows": null,
            "right": null,
            "justify_content": null,
            "_view_module": "@jupyter-widgets/base",
            "overflow": null,
            "_model_module_version": "1.2.0",
            "_view_count": null,
            "flex_flow": null,
            "width": null,
            "min_width": null,
            "border": null,
            "align_items": null,
            "bottom": null,
            "_model_module": "@jupyter-widgets/base",
            "top": null,
            "grid_column": null,
            "overflow_y": null,
            "overflow_x": null,
            "grid_auto_flow": null,
            "grid_area": null,
            "grid_template_columns": null,
            "flex": null,
            "_model_name": "LayoutModel",
            "justify_items": null,
            "grid_row": null,
            "max_height": null,
            "align_content": null,
            "visibility": null,
            "align_self": null,
            "height": null,
            "min_height": null,
            "padding": null,
            "grid_auto_rows": null,
            "grid_gap": null,
            "max_width": null,
            "order": null,
            "_view_module_version": "1.2.0",
            "grid_template_areas": null,
            "object_position": null,
            "object_fit": null,
            "grid_auto_columns": null,
            "margin": null,
            "display": null,
            "left": null
          }
        },
        "cb680f1e51d841528d2e48ee8616723b": {
          "model_module": "@jupyter-widgets/controls",
          "model_name": "DescriptionStyleModel",
          "state": {
            "_view_name": "StyleView",
            "_model_name": "DescriptionStyleModel",
            "description_width": "",
            "_view_module": "@jupyter-widgets/base",
            "_model_module_version": "1.5.0",
            "_view_count": null,
            "_view_module_version": "1.2.0",
            "_model_module": "@jupyter-widgets/controls"
          }
        },
        "cc94ad51550542c28d20ad1ad63cced5": {
          "model_module": "@jupyter-widgets/base",
          "model_name": "LayoutModel",
          "state": {
            "_view_name": "LayoutView",
            "grid_template_rows": null,
            "right": null,
            "justify_content": null,
            "_view_module": "@jupyter-widgets/base",
            "overflow": null,
            "_model_module_version": "1.2.0",
            "_view_count": null,
            "flex_flow": null,
            "width": null,
            "min_width": null,
            "border": null,
            "align_items": null,
            "bottom": null,
            "_model_module": "@jupyter-widgets/base",
            "top": null,
            "grid_column": null,
            "overflow_y": null,
            "overflow_x": null,
            "grid_auto_flow": null,
            "grid_area": null,
            "grid_template_columns": null,
            "flex": null,
            "_model_name": "LayoutModel",
            "justify_items": null,
            "grid_row": null,
            "max_height": null,
            "align_content": null,
            "visibility": null,
            "align_self": null,
            "height": null,
            "min_height": null,
            "padding": null,
            "grid_auto_rows": null,
            "grid_gap": null,
            "max_width": null,
            "order": null,
            "_view_module_version": "1.2.0",
            "grid_template_areas": null,
            "object_position": null,
            "object_fit": null,
            "grid_auto_columns": null,
            "margin": null,
            "display": null,
            "left": null
          }
        },
        "21d371ef42c24b8c971bda90e470f466": {
          "model_module": "@jupyter-widgets/controls",
          "model_name": "HBoxModel",
          "state": {
            "_view_name": "HBoxView",
            "_dom_classes": [],
            "_model_name": "HBoxModel",
            "_view_module": "@jupyter-widgets/controls",
            "_model_module_version": "1.5.0",
            "_view_count": null,
            "_view_module_version": "1.5.0",
            "box_style": "",
            "layout": "IPY_MODEL_52b54669f39442a499779d2ed3b587dd",
            "_model_module": "@jupyter-widgets/controls",
            "children": [
              "IPY_MODEL_a521b1e98e8b4d6ab32027fb5c0ee9e1",
              "IPY_MODEL_603a14ad1aa74d16a10a755f3d30ae8e"
            ]
          }
        },
        "52b54669f39442a499779d2ed3b587dd": {
          "model_module": "@jupyter-widgets/base",
          "model_name": "LayoutModel",
          "state": {
            "_view_name": "LayoutView",
            "grid_template_rows": null,
            "right": null,
            "justify_content": null,
            "_view_module": "@jupyter-widgets/base",
            "overflow": null,
            "_model_module_version": "1.2.0",
            "_view_count": null,
            "flex_flow": null,
            "width": null,
            "min_width": null,
            "border": null,
            "align_items": null,
            "bottom": null,
            "_model_module": "@jupyter-widgets/base",
            "top": null,
            "grid_column": null,
            "overflow_y": null,
            "overflow_x": null,
            "grid_auto_flow": null,
            "grid_area": null,
            "grid_template_columns": null,
            "flex": null,
            "_model_name": "LayoutModel",
            "justify_items": null,
            "grid_row": null,
            "max_height": null,
            "align_content": null,
            "visibility": null,
            "align_self": null,
            "height": null,
            "min_height": null,
            "padding": null,
            "grid_auto_rows": null,
            "grid_gap": null,
            "max_width": null,
            "order": null,
            "_view_module_version": "1.2.0",
            "grid_template_areas": null,
            "object_position": null,
            "object_fit": null,
            "grid_auto_columns": null,
            "margin": null,
            "display": null,
            "left": null
          }
        },
        "a521b1e98e8b4d6ab32027fb5c0ee9e1": {
          "model_module": "@jupyter-widgets/controls",
          "model_name": "FloatProgressModel",
          "state": {
            "_view_name": "ProgressView",
            "style": "IPY_MODEL_ef16c5ef60454eb8a5486d36fba19465",
            "_dom_classes": [],
            "description": "",
            "_model_name": "FloatProgressModel",
            "bar_style": "success",
            "max": 9912422,
            "_view_module": "@jupyter-widgets/controls",
            "_model_module_version": "1.5.0",
            "value": 9912422,
            "_view_count": null,
            "_view_module_version": "1.5.0",
            "orientation": "horizontal",
            "min": 0,
            "description_tooltip": null,
            "_model_module": "@jupyter-widgets/controls",
            "layout": "IPY_MODEL_6faaddfd7e224a3ca156026ab0fb5609"
          }
        },
        "603a14ad1aa74d16a10a755f3d30ae8e": {
          "model_module": "@jupyter-widgets/controls",
          "model_name": "HTMLModel",
          "state": {
            "_view_name": "HTMLView",
            "style": "IPY_MODEL_8c8866237dc646eb9f9df99cf8ff04ff",
            "_dom_classes": [],
            "description": "",
            "_model_name": "HTMLModel",
            "placeholder": "​",
            "_view_module": "@jupyter-widgets/controls",
            "_model_module_version": "1.5.0",
            "value": " 9913344/? [00:10&lt;00:00, 967618.57it/s]",
            "_view_count": null,
            "_view_module_version": "1.5.0",
            "description_tooltip": null,
            "_model_module": "@jupyter-widgets/controls",
            "layout": "IPY_MODEL_1deaa65f7fd54993a9c95debc9ade5f6"
          }
        },
        "ef16c5ef60454eb8a5486d36fba19465": {
          "model_module": "@jupyter-widgets/controls",
          "model_name": "ProgressStyleModel",
          "state": {
            "_view_name": "StyleView",
            "_model_name": "ProgressStyleModel",
            "description_width": "initial",
            "_view_module": "@jupyter-widgets/base",
            "_model_module_version": "1.5.0",
            "_view_count": null,
            "_view_module_version": "1.2.0",
            "bar_color": null,
            "_model_module": "@jupyter-widgets/controls"
          }
        },
        "6faaddfd7e224a3ca156026ab0fb5609": {
          "model_module": "@jupyter-widgets/base",
          "model_name": "LayoutModel",
          "state": {
            "_view_name": "LayoutView",
            "grid_template_rows": null,
            "right": null,
            "justify_content": null,
            "_view_module": "@jupyter-widgets/base",
            "overflow": null,
            "_model_module_version": "1.2.0",
            "_view_count": null,
            "flex_flow": null,
            "width": null,
            "min_width": null,
            "border": null,
            "align_items": null,
            "bottom": null,
            "_model_module": "@jupyter-widgets/base",
            "top": null,
            "grid_column": null,
            "overflow_y": null,
            "overflow_x": null,
            "grid_auto_flow": null,
            "grid_area": null,
            "grid_template_columns": null,
            "flex": null,
            "_model_name": "LayoutModel",
            "justify_items": null,
            "grid_row": null,
            "max_height": null,
            "align_content": null,
            "visibility": null,
            "align_self": null,
            "height": null,
            "min_height": null,
            "padding": null,
            "grid_auto_rows": null,
            "grid_gap": null,
            "max_width": null,
            "order": null,
            "_view_module_version": "1.2.0",
            "grid_template_areas": null,
            "object_position": null,
            "object_fit": null,
            "grid_auto_columns": null,
            "margin": null,
            "display": null,
            "left": null
          }
        },
        "8c8866237dc646eb9f9df99cf8ff04ff": {
          "model_module": "@jupyter-widgets/controls",
          "model_name": "DescriptionStyleModel",
          "state": {
            "_view_name": "StyleView",
            "_model_name": "DescriptionStyleModel",
            "description_width": "",
            "_view_module": "@jupyter-widgets/base",
            "_model_module_version": "1.5.0",
            "_view_count": null,
            "_view_module_version": "1.2.0",
            "_model_module": "@jupyter-widgets/controls"
          }
        },
        "1deaa65f7fd54993a9c95debc9ade5f6": {
          "model_module": "@jupyter-widgets/base",
          "model_name": "LayoutModel",
          "state": {
            "_view_name": "LayoutView",
            "grid_template_rows": null,
            "right": null,
            "justify_content": null,
            "_view_module": "@jupyter-widgets/base",
            "overflow": null,
            "_model_module_version": "1.2.0",
            "_view_count": null,
            "flex_flow": null,
            "width": null,
            "min_width": null,
            "border": null,
            "align_items": null,
            "bottom": null,
            "_model_module": "@jupyter-widgets/base",
            "top": null,
            "grid_column": null,
            "overflow_y": null,
            "overflow_x": null,
            "grid_auto_flow": null,
            "grid_area": null,
            "grid_template_columns": null,
            "flex": null,
            "_model_name": "LayoutModel",
            "justify_items": null,
            "grid_row": null,
            "max_height": null,
            "align_content": null,
            "visibility": null,
            "align_self": null,
            "height": null,
            "min_height": null,
            "padding": null,
            "grid_auto_rows": null,
            "grid_gap": null,
            "max_width": null,
            "order": null,
            "_view_module_version": "1.2.0",
            "grid_template_areas": null,
            "object_position": null,
            "object_fit": null,
            "grid_auto_columns": null,
            "margin": null,
            "display": null,
            "left": null
          }
        },
        "53e12e6aa0e74e4fa2848a483bc1b4de": {
          "model_module": "@jupyter-widgets/controls",
          "model_name": "HBoxModel",
          "state": {
            "_view_name": "HBoxView",
            "_dom_classes": [],
            "_model_name": "HBoxModel",
            "_view_module": "@jupyter-widgets/controls",
            "_model_module_version": "1.5.0",
            "_view_count": null,
            "_view_module_version": "1.5.0",
            "box_style": "",
            "layout": "IPY_MODEL_d0b0369823e042828b2f71c255276583",
            "_model_module": "@jupyter-widgets/controls",
            "children": [
              "IPY_MODEL_1a2a0128fa824a56b8f26e18fee66776",
              "IPY_MODEL_3e2bb7b07b6c4e0f9b6dc1c8c1f4a3a2"
            ]
          }
        },
        "d0b0369823e042828b2f71c255276583": {
          "model_module": "@jupyter-widgets/base",
          "model_name": "LayoutModel",
          "state": {
            "_view_name": "LayoutView",
            "grid_template_rows": null,
            "right": null,
            "justify_content": null,
            "_view_module": "@jupyter-widgets/base",
            "overflow": null,
            "_model_module_version": "1.2.0",
            "_view_count": null,
            "flex_flow": null,
            "width": null,
            "min_width": null,
            "border": null,
            "align_items": null,
            "bottom": null,
            "_model_module": "@jupyter-widgets/base",
            "top": null,
            "grid_column": null,
            "overflow_y": null,
            "overflow_x": null,
            "grid_auto_flow": null,
            "grid_area": null,
            "grid_template_columns": null,
            "flex": null,
            "_model_name": "LayoutModel",
            "justify_items": null,
            "grid_row": null,
            "max_height": null,
            "align_content": null,
            "visibility": null,
            "align_self": null,
            "height": null,
            "min_height": null,
            "padding": null,
            "grid_auto_rows": null,
            "grid_gap": null,
            "max_width": null,
            "order": null,
            "_view_module_version": "1.2.0",
            "grid_template_areas": null,
            "object_position": null,
            "object_fit": null,
            "grid_auto_columns": null,
            "margin": null,
            "display": null,
            "left": null
          }
        },
        "1a2a0128fa824a56b8f26e18fee66776": {
          "model_module": "@jupyter-widgets/controls",
          "model_name": "FloatProgressModel",
          "state": {
            "_view_name": "ProgressView",
            "style": "IPY_MODEL_8762b68a4abf460ca0f57cf9d2ac2ea3",
            "_dom_classes": [],
            "description": "",
            "_model_name": "FloatProgressModel",
            "bar_style": "success",
            "max": 28881,
            "_view_module": "@jupyter-widgets/controls",
            "_model_module_version": "1.5.0",
            "value": 28881,
            "_view_count": null,
            "_view_module_version": "1.5.0",
            "orientation": "horizontal",
            "min": 0,
            "description_tooltip": null,
            "_model_module": "@jupyter-widgets/controls",
            "layout": "IPY_MODEL_3f662a18e36c4d5dbe9dfd54bbb1a6ac"
          }
        },
        "3e2bb7b07b6c4e0f9b6dc1c8c1f4a3a2": {
          "model_module": "@jupyter-widgets/controls",
          "model_name": "HTMLModel",
          "state": {
            "_view_name": "HTMLView",
            "style": "IPY_MODEL_6d75588c0d3540a28a2f95c553fa3293",
            "_dom_classes": [],
            "description": "",
            "_model_name": "HTMLModel",
            "placeholder": "​",
            "_view_module": "@jupyter-widgets/controls",
            "_model_module_version": "1.5.0",
            "value": " 29696/? [00:05&lt;00:00, 5300.07it/s]",
            "_view_count": null,
            "_view_module_version": "1.5.0",
            "description_tooltip": null,
            "_model_module": "@jupyter-widgets/controls",
            "layout": "IPY_MODEL_580c44811eec47598073bc1bf5758cd4"
          }
        },
        "8762b68a4abf460ca0f57cf9d2ac2ea3": {
          "model_module": "@jupyter-widgets/controls",
          "model_name": "ProgressStyleModel",
          "state": {
            "_view_name": "StyleView",
            "_model_name": "ProgressStyleModel",
            "description_width": "initial",
            "_view_module": "@jupyter-widgets/base",
            "_model_module_version": "1.5.0",
            "_view_count": null,
            "_view_module_version": "1.2.0",
            "bar_color": null,
            "_model_module": "@jupyter-widgets/controls"
          }
        },
        "3f662a18e36c4d5dbe9dfd54bbb1a6ac": {
          "model_module": "@jupyter-widgets/base",
          "model_name": "LayoutModel",
          "state": {
            "_view_name": "LayoutView",
            "grid_template_rows": null,
            "right": null,
            "justify_content": null,
            "_view_module": "@jupyter-widgets/base",
            "overflow": null,
            "_model_module_version": "1.2.0",
            "_view_count": null,
            "flex_flow": null,
            "width": null,
            "min_width": null,
            "border": null,
            "align_items": null,
            "bottom": null,
            "_model_module": "@jupyter-widgets/base",
            "top": null,
            "grid_column": null,
            "overflow_y": null,
            "overflow_x": null,
            "grid_auto_flow": null,
            "grid_area": null,
            "grid_template_columns": null,
            "flex": null,
            "_model_name": "LayoutModel",
            "justify_items": null,
            "grid_row": null,
            "max_height": null,
            "align_content": null,
            "visibility": null,
            "align_self": null,
            "height": null,
            "min_height": null,
            "padding": null,
            "grid_auto_rows": null,
            "grid_gap": null,
            "max_width": null,
            "order": null,
            "_view_module_version": "1.2.0",
            "grid_template_areas": null,
            "object_position": null,
            "object_fit": null,
            "grid_auto_columns": null,
            "margin": null,
            "display": null,
            "left": null
          }
        },
        "6d75588c0d3540a28a2f95c553fa3293": {
          "model_module": "@jupyter-widgets/controls",
          "model_name": "DescriptionStyleModel",
          "state": {
            "_view_name": "StyleView",
            "_model_name": "DescriptionStyleModel",
            "description_width": "",
            "_view_module": "@jupyter-widgets/base",
            "_model_module_version": "1.5.0",
            "_view_count": null,
            "_view_module_version": "1.2.0",
            "_model_module": "@jupyter-widgets/controls"
          }
        },
        "580c44811eec47598073bc1bf5758cd4": {
          "model_module": "@jupyter-widgets/base",
          "model_name": "LayoutModel",
          "state": {
            "_view_name": "LayoutView",
            "grid_template_rows": null,
            "right": null,
            "justify_content": null,
            "_view_module": "@jupyter-widgets/base",
            "overflow": null,
            "_model_module_version": "1.2.0",
            "_view_count": null,
            "flex_flow": null,
            "width": null,
            "min_width": null,
            "border": null,
            "align_items": null,
            "bottom": null,
            "_model_module": "@jupyter-widgets/base",
            "top": null,
            "grid_column": null,
            "overflow_y": null,
            "overflow_x": null,
            "grid_auto_flow": null,
            "grid_area": null,
            "grid_template_columns": null,
            "flex": null,
            "_model_name": "LayoutModel",
            "justify_items": null,
            "grid_row": null,
            "max_height": null,
            "align_content": null,
            "visibility": null,
            "align_self": null,
            "height": null,
            "min_height": null,
            "padding": null,
            "grid_auto_rows": null,
            "grid_gap": null,
            "max_width": null,
            "order": null,
            "_view_module_version": "1.2.0",
            "grid_template_areas": null,
            "object_position": null,
            "object_fit": null,
            "grid_auto_columns": null,
            "margin": null,
            "display": null,
            "left": null
          }
        },
        "67c2a975dece461cb1731ba109710ada": {
          "model_module": "@jupyter-widgets/controls",
          "model_name": "HBoxModel",
          "state": {
            "_view_name": "HBoxView",
            "_dom_classes": [],
            "_model_name": "HBoxModel",
            "_view_module": "@jupyter-widgets/controls",
            "_model_module_version": "1.5.0",
            "_view_count": null,
            "_view_module_version": "1.5.0",
            "box_style": "",
            "layout": "IPY_MODEL_cc67732ab0814159a48fb4b0873a21ce",
            "_model_module": "@jupyter-widgets/controls",
            "children": [
              "IPY_MODEL_1f5d92e473664e5190bf81381423db42",
              "IPY_MODEL_e1b7d2b4283a4aa7a73c050a8b8c1366"
            ]
          }
        },
        "cc67732ab0814159a48fb4b0873a21ce": {
          "model_module": "@jupyter-widgets/base",
          "model_name": "LayoutModel",
          "state": {
            "_view_name": "LayoutView",
            "grid_template_rows": null,
            "right": null,
            "justify_content": null,
            "_view_module": "@jupyter-widgets/base",
            "overflow": null,
            "_model_module_version": "1.2.0",
            "_view_count": null,
            "flex_flow": null,
            "width": null,
            "min_width": null,
            "border": null,
            "align_items": null,
            "bottom": null,
            "_model_module": "@jupyter-widgets/base",
            "top": null,
            "grid_column": null,
            "overflow_y": null,
            "overflow_x": null,
            "grid_auto_flow": null,
            "grid_area": null,
            "grid_template_columns": null,
            "flex": null,
            "_model_name": "LayoutModel",
            "justify_items": null,
            "grid_row": null,
            "max_height": null,
            "align_content": null,
            "visibility": null,
            "align_self": null,
            "height": null,
            "min_height": null,
            "padding": null,
            "grid_auto_rows": null,
            "grid_gap": null,
            "max_width": null,
            "order": null,
            "_view_module_version": "1.2.0",
            "grid_template_areas": null,
            "object_position": null,
            "object_fit": null,
            "grid_auto_columns": null,
            "margin": null,
            "display": null,
            "left": null
          }
        },
        "1f5d92e473664e5190bf81381423db42": {
          "model_module": "@jupyter-widgets/controls",
          "model_name": "FloatProgressModel",
          "state": {
            "_view_name": "ProgressView",
            "style": "IPY_MODEL_c31c8596411b441dacfdf0128fc96678",
            "_dom_classes": [],
            "description": "",
            "_model_name": "FloatProgressModel",
            "bar_style": "success",
            "max": 1648877,
            "_view_module": "@jupyter-widgets/controls",
            "_model_module_version": "1.5.0",
            "value": 1648877,
            "_view_count": null,
            "_view_module_version": "1.5.0",
            "orientation": "horizontal",
            "min": 0,
            "description_tooltip": null,
            "_model_module": "@jupyter-widgets/controls",
            "layout": "IPY_MODEL_5ee4aebc941b44119566ff0bf8681431"
          }
        },
        "e1b7d2b4283a4aa7a73c050a8b8c1366": {
          "model_module": "@jupyter-widgets/controls",
          "model_name": "HTMLModel",
          "state": {
            "_view_name": "HTMLView",
            "style": "IPY_MODEL_8749a5d7be594ce18fd678bfaefa6276",
            "_dom_classes": [],
            "description": "",
            "_model_name": "HTMLModel",
            "placeholder": "​",
            "_view_module": "@jupyter-widgets/controls",
            "_model_module_version": "1.5.0",
            "value": " 1649664/? [00:03&lt;00:00, 472737.12it/s]",
            "_view_count": null,
            "_view_module_version": "1.5.0",
            "description_tooltip": null,
            "_model_module": "@jupyter-widgets/controls",
            "layout": "IPY_MODEL_c841e76dad6e40b9ac11c836e8dcc743"
          }
        },
        "c31c8596411b441dacfdf0128fc96678": {
          "model_module": "@jupyter-widgets/controls",
          "model_name": "ProgressStyleModel",
          "state": {
            "_view_name": "StyleView",
            "_model_name": "ProgressStyleModel",
            "description_width": "initial",
            "_view_module": "@jupyter-widgets/base",
            "_model_module_version": "1.5.0",
            "_view_count": null,
            "_view_module_version": "1.2.0",
            "bar_color": null,
            "_model_module": "@jupyter-widgets/controls"
          }
        },
        "5ee4aebc941b44119566ff0bf8681431": {
          "model_module": "@jupyter-widgets/base",
          "model_name": "LayoutModel",
          "state": {
            "_view_name": "LayoutView",
            "grid_template_rows": null,
            "right": null,
            "justify_content": null,
            "_view_module": "@jupyter-widgets/base",
            "overflow": null,
            "_model_module_version": "1.2.0",
            "_view_count": null,
            "flex_flow": null,
            "width": null,
            "min_width": null,
            "border": null,
            "align_items": null,
            "bottom": null,
            "_model_module": "@jupyter-widgets/base",
            "top": null,
            "grid_column": null,
            "overflow_y": null,
            "overflow_x": null,
            "grid_auto_flow": null,
            "grid_area": null,
            "grid_template_columns": null,
            "flex": null,
            "_model_name": "LayoutModel",
            "justify_items": null,
            "grid_row": null,
            "max_height": null,
            "align_content": null,
            "visibility": null,
            "align_self": null,
            "height": null,
            "min_height": null,
            "padding": null,
            "grid_auto_rows": null,
            "grid_gap": null,
            "max_width": null,
            "order": null,
            "_view_module_version": "1.2.0",
            "grid_template_areas": null,
            "object_position": null,
            "object_fit": null,
            "grid_auto_columns": null,
            "margin": null,
            "display": null,
            "left": null
          }
        },
        "8749a5d7be594ce18fd678bfaefa6276": {
          "model_module": "@jupyter-widgets/controls",
          "model_name": "DescriptionStyleModel",
          "state": {
            "_view_name": "StyleView",
            "_model_name": "DescriptionStyleModel",
            "description_width": "",
            "_view_module": "@jupyter-widgets/base",
            "_model_module_version": "1.5.0",
            "_view_count": null,
            "_view_module_version": "1.2.0",
            "_model_module": "@jupyter-widgets/controls"
          }
        },
        "c841e76dad6e40b9ac11c836e8dcc743": {
          "model_module": "@jupyter-widgets/base",
          "model_name": "LayoutModel",
          "state": {
            "_view_name": "LayoutView",
            "grid_template_rows": null,
            "right": null,
            "justify_content": null,
            "_view_module": "@jupyter-widgets/base",
            "overflow": null,
            "_model_module_version": "1.2.0",
            "_view_count": null,
            "flex_flow": null,
            "width": null,
            "min_width": null,
            "border": null,
            "align_items": null,
            "bottom": null,
            "_model_module": "@jupyter-widgets/base",
            "top": null,
            "grid_column": null,
            "overflow_y": null,
            "overflow_x": null,
            "grid_auto_flow": null,
            "grid_area": null,
            "grid_template_columns": null,
            "flex": null,
            "_model_name": "LayoutModel",
            "justify_items": null,
            "grid_row": null,
            "max_height": null,
            "align_content": null,
            "visibility": null,
            "align_self": null,
            "height": null,
            "min_height": null,
            "padding": null,
            "grid_auto_rows": null,
            "grid_gap": null,
            "max_width": null,
            "order": null,
            "_view_module_version": "1.2.0",
            "grid_template_areas": null,
            "object_position": null,
            "object_fit": null,
            "grid_auto_columns": null,
            "margin": null,
            "display": null,
            "left": null
          }
        },
        "77d0641c5c71479fb16db5fa0a5485a0": {
          "model_module": "@jupyter-widgets/controls",
          "model_name": "HBoxModel",
          "state": {
            "_view_name": "HBoxView",
            "_dom_classes": [],
            "_model_name": "HBoxModel",
            "_view_module": "@jupyter-widgets/controls",
            "_model_module_version": "1.5.0",
            "_view_count": null,
            "_view_module_version": "1.5.0",
            "box_style": "",
            "layout": "IPY_MODEL_8630dcb7cece434691b728d7f6d414c3",
            "_model_module": "@jupyter-widgets/controls",
            "children": [
              "IPY_MODEL_44eaaed0ace74d438bfc94c50600262d",
              "IPY_MODEL_7b2ae7b866f14feb86e35843a27aab10"
            ]
          }
        },
        "8630dcb7cece434691b728d7f6d414c3": {
          "model_module": "@jupyter-widgets/base",
          "model_name": "LayoutModel",
          "state": {
            "_view_name": "LayoutView",
            "grid_template_rows": null,
            "right": null,
            "justify_content": null,
            "_view_module": "@jupyter-widgets/base",
            "overflow": null,
            "_model_module_version": "1.2.0",
            "_view_count": null,
            "flex_flow": null,
            "width": null,
            "min_width": null,
            "border": null,
            "align_items": null,
            "bottom": null,
            "_model_module": "@jupyter-widgets/base",
            "top": null,
            "grid_column": null,
            "overflow_y": null,
            "overflow_x": null,
            "grid_auto_flow": null,
            "grid_area": null,
            "grid_template_columns": null,
            "flex": null,
            "_model_name": "LayoutModel",
            "justify_items": null,
            "grid_row": null,
            "max_height": null,
            "align_content": null,
            "visibility": null,
            "align_self": null,
            "height": null,
            "min_height": null,
            "padding": null,
            "grid_auto_rows": null,
            "grid_gap": null,
            "max_width": null,
            "order": null,
            "_view_module_version": "1.2.0",
            "grid_template_areas": null,
            "object_position": null,
            "object_fit": null,
            "grid_auto_columns": null,
            "margin": null,
            "display": null,
            "left": null
          }
        },
        "44eaaed0ace74d438bfc94c50600262d": {
          "model_module": "@jupyter-widgets/controls",
          "model_name": "FloatProgressModel",
          "state": {
            "_view_name": "ProgressView",
            "style": "IPY_MODEL_b677e620493543e3b2879690a32d0f17",
            "_dom_classes": [],
            "description": "",
            "_model_name": "FloatProgressModel",
            "bar_style": "success",
            "max": 4542,
            "_view_module": "@jupyter-widgets/controls",
            "_model_module_version": "1.5.0",
            "value": 4542,
            "_view_count": null,
            "_view_module_version": "1.5.0",
            "orientation": "horizontal",
            "min": 0,
            "description_tooltip": null,
            "_model_module": "@jupyter-widgets/controls",
            "layout": "IPY_MODEL_2ecdac3faed74c3db4c1950002308713"
          }
        },
        "7b2ae7b866f14feb86e35843a27aab10": {
          "model_module": "@jupyter-widgets/controls",
          "model_name": "HTMLModel",
          "state": {
            "_view_name": "HTMLView",
            "style": "IPY_MODEL_b3049439f2254d29a7b75af6efc48919",
            "_dom_classes": [],
            "description": "",
            "_model_name": "HTMLModel",
            "placeholder": "​",
            "_view_module": "@jupyter-widgets/controls",
            "_model_module_version": "1.5.0",
            "value": " 5120/? [00:00&lt;00:00, 14493.09it/s]",
            "_view_count": null,
            "_view_module_version": "1.5.0",
            "description_tooltip": null,
            "_model_module": "@jupyter-widgets/controls",
            "layout": "IPY_MODEL_026899a4998a4d73bfd0cb80ed77acd9"
          }
        },
        "b677e620493543e3b2879690a32d0f17": {
          "model_module": "@jupyter-widgets/controls",
          "model_name": "ProgressStyleModel",
          "state": {
            "_view_name": "StyleView",
            "_model_name": "ProgressStyleModel",
            "description_width": "initial",
            "_view_module": "@jupyter-widgets/base",
            "_model_module_version": "1.5.0",
            "_view_count": null,
            "_view_module_version": "1.2.0",
            "bar_color": null,
            "_model_module": "@jupyter-widgets/controls"
          }
        },
        "2ecdac3faed74c3db4c1950002308713": {
          "model_module": "@jupyter-widgets/base",
          "model_name": "LayoutModel",
          "state": {
            "_view_name": "LayoutView",
            "grid_template_rows": null,
            "right": null,
            "justify_content": null,
            "_view_module": "@jupyter-widgets/base",
            "overflow": null,
            "_model_module_version": "1.2.0",
            "_view_count": null,
            "flex_flow": null,
            "width": null,
            "min_width": null,
            "border": null,
            "align_items": null,
            "bottom": null,
            "_model_module": "@jupyter-widgets/base",
            "top": null,
            "grid_column": null,
            "overflow_y": null,
            "overflow_x": null,
            "grid_auto_flow": null,
            "grid_area": null,
            "grid_template_columns": null,
            "flex": null,
            "_model_name": "LayoutModel",
            "justify_items": null,
            "grid_row": null,
            "max_height": null,
            "align_content": null,
            "visibility": null,
            "align_self": null,
            "height": null,
            "min_height": null,
            "padding": null,
            "grid_auto_rows": null,
            "grid_gap": null,
            "max_width": null,
            "order": null,
            "_view_module_version": "1.2.0",
            "grid_template_areas": null,
            "object_position": null,
            "object_fit": null,
            "grid_auto_columns": null,
            "margin": null,
            "display": null,
            "left": null
          }
        },
        "b3049439f2254d29a7b75af6efc48919": {
          "model_module": "@jupyter-widgets/controls",
          "model_name": "DescriptionStyleModel",
          "state": {
            "_view_name": "StyleView",
            "_model_name": "DescriptionStyleModel",
            "description_width": "",
            "_view_module": "@jupyter-widgets/base",
            "_model_module_version": "1.5.0",
            "_view_count": null,
            "_view_module_version": "1.2.0",
            "_model_module": "@jupyter-widgets/controls"
          }
        },
        "026899a4998a4d73bfd0cb80ed77acd9": {
          "model_module": "@jupyter-widgets/base",
          "model_name": "LayoutModel",
          "state": {
            "_view_name": "LayoutView",
            "grid_template_rows": null,
            "right": null,
            "justify_content": null,
            "_view_module": "@jupyter-widgets/base",
            "overflow": null,
            "_model_module_version": "1.2.0",
            "_view_count": null,
            "flex_flow": null,
            "width": null,
            "min_width": null,
            "border": null,
            "align_items": null,
            "bottom": null,
            "_model_module": "@jupyter-widgets/base",
            "top": null,
            "grid_column": null,
            "overflow_y": null,
            "overflow_x": null,
            "grid_auto_flow": null,
            "grid_area": null,
            "grid_template_columns": null,
            "flex": null,
            "_model_name": "LayoutModel",
            "justify_items": null,
            "grid_row": null,
            "max_height": null,
            "align_content": null,
            "visibility": null,
            "align_self": null,
            "height": null,
            "min_height": null,
            "padding": null,
            "grid_auto_rows": null,
            "grid_gap": null,
            "max_width": null,
            "order": null,
            "_view_module_version": "1.2.0",
            "grid_template_areas": null,
            "object_position": null,
            "object_fit": null,
            "grid_auto_columns": null,
            "margin": null,
            "display": null,
            "left": null
          }
        }
      }
    },
    "language_info": {
      "name": "python"
    }
  },
  "cells": [
    {
      "cell_type": "markdown",
      "metadata": {
        "id": "view-in-github"
      },
      "source": [
        "<a href=\"https://colab.research.google.com/github/tushar-semwal/fedperf/blob/main/Vineeth/Local_Rounds/qFedAvg/qFederatedAveraging.ipynb\" target=\"_parent\"><img src=\"https://colab.research.google.com/assets/colab-badge.svg\" alt=\"Open In Colab\"/></a>"
      ]
    },
    {
      "cell_type": "code",
      "metadata": {
        "id": "yKcpjZLrQQJV",
        "colab": {
          "base_uri": "https://localhost:8080/"
        },
        "outputId": "94587b23-4f2c-4d78-ea46-328db83d7779"
      },
      "source": [
        "%%capture output\n",
        "try:\n",
        "    from google.colab import drive\n",
        "    drive.mount('/content/drive')\n",
        "\n",
        "    import os\n",
        "    path = '/content/drive/MyDrive/Colab Notebooks/OpenMined/'\n",
        "    os.makedirs(path, exist_ok=True)\n",
        "except:\n",
        "    path = './'"
      ],
      "execution_count": 1,
      "outputs": [
        {
          "output_type": "stream",
          "text": [
            "Go to this URL in a browser: https://accounts.google.com/o/oauth2/auth?client_id=947318989803-6bn6qk8qdgf4n4g3pfee6491hc0brc4i.apps.googleusercontent.com&redirect_uri=urn%3aietf%3awg%3aoauth%3a2.0%3aoob&scope=email%20https%3a%2f%2fwww.googleapis.com%2fauth%2fdocs.test%20https%3a%2f%2fwww.googleapis.com%2fauth%2fdrive%20https%3a%2f%2fwww.googleapis.com%2fauth%2fdrive.photos.readonly%20https%3a%2f%2fwww.googleapis.com%2fauth%2fpeopleapi.readonly%20https%3a%2f%2fwww.googleapis.com%2fauth%2fdrive.activity.readonly%20https%3a%2f%2fwww.googleapis.com%2fauth%2fexperimentsandconfigs%20https%3a%2f%2fwww.googleapis.com%2fauth%2fphotos.native&response_type=code\n",
            "\n",
            "Enter your authorization code:\n",
            "4/1AY0e-g61Jeye0i4FrFGuA-D1qfllSNIDxGPRctkzOyh6Fbl8MqvEQ_quiRE\n"
          ],
          "name": "stdout"
        }
      ]
    },
    {
      "cell_type": "markdown",
      "metadata": {
        "id": "-0_nKpfq2h1R"
      },
      "source": [
        "## Imports"
      ]
    },
    {
      "cell_type": "code",
      "metadata": {
        "colab": {
          "base_uri": "https://localhost:8080/"
        },
        "id": "DLLNM9X2JbQ8",
        "outputId": "59b6c3d7-c061-425b-b903-1a111738d537"
      },
      "source": [
        "%load_ext tensorboard\n",
        "import os\n",
        "import numpy as np\n",
        "import matplotlib\n",
        "import matplotlib.pyplot as plt\n",
        "import copy\n",
        "import random\n",
        "import time\n",
        "\n",
        "import torch\n",
        "import torch.nn as nn\n",
        "import torch.nn.functional as F\n",
        "\n",
        "from torch.utils.data import Dataset, DataLoader\n",
        "from torch.utils.tensorboard import SummaryWriter\n",
        "from torchvision import transforms, utils, datasets\n",
        "from torchsummary import summary\n",
        "from sklearn.metrics import f1_score\n",
        "\n",
        "# Check assigned GPU\n",
        "gpu_info = !nvidia-smi\n",
        "gpu_info = '\\n'.join(gpu_info)\n",
        "if gpu_info.find('failed') >= 0:\n",
        "  print('Select the Runtime > \"Change runtime type\" menu to enable a GPU accelerator, ')\n",
        "  print('and then re-execute this cell.')\n",
        "else:\n",
        "  print(gpu_info)\n",
        "\n",
        "# set manual seed for reproducibility\n",
        "seed = 42\n",
        "\n",
        "# general reproducibility\n",
        "random.seed(seed)\n",
        "np.random.seed(seed)\n",
        "torch.manual_seed(seed)\n",
        "\n",
        "# gpu training specific\n",
        "torch.backends.cudnn.deterministic = True\n",
        "torch.backends.cudnn.benchmark = False"
      ],
      "execution_count": 2,
      "outputs": [
        {
          "output_type": "stream",
          "text": [
            "Sat Apr 24 12:11:33 2021       \n",
            "+-----------------------------------------------------------------------------+\n",
            "| NVIDIA-SMI 465.19.01    Driver Version: 460.32.03    CUDA Version: 11.2     |\n",
            "|-------------------------------+----------------------+----------------------+\n",
            "| GPU  Name        Persistence-M| Bus-Id        Disp.A | Volatile Uncorr. ECC |\n",
            "| Fan  Temp  Perf  Pwr:Usage/Cap|         Memory-Usage | GPU-Util  Compute M. |\n",
            "|                               |                      |               MIG M. |\n",
            "|===============================+======================+======================|\n",
            "|   0  Tesla K80           Off  | 00000000:00:04.0 Off |                    0 |\n",
            "| N/A   32C    P8    29W / 149W |      0MiB / 11441MiB |      0%      Default |\n",
            "|                               |                      |                  N/A |\n",
            "+-------------------------------+----------------------+----------------------+\n",
            "                                                                               \n",
            "+-----------------------------------------------------------------------------+\n",
            "| Processes:                                                                  |\n",
            "|  GPU   GI   CI        PID   Type   Process name                  GPU Memory |\n",
            "|        ID   ID                                                   Usage      |\n",
            "|=============================================================================|\n",
            "|  No running processes found                                                 |\n",
            "+-----------------------------------------------------------------------------+\n"
          ],
          "name": "stdout"
        }
      ]
    },
    {
      "cell_type": "markdown",
      "metadata": {
        "id": "NY4eWzGiL6Mj"
      },
      "source": [
        "## Load the MNIST Dataset"
      ]
    },
    {
      "cell_type": "code",
      "metadata": {
        "id": "AjVlQmNxNER3"
      },
      "source": [
        "torch.cuda.set_device('cuda:0')"
      ],
      "execution_count": 3,
      "outputs": []
    },
    {
      "cell_type": "code",
      "metadata": {
        "colab": {
          "base_uri": "https://localhost:8080/",
          "height": 1000,
          "referenced_widgets": [
            "4f4fe6b5d0d7493f8f16a86f88c262d5",
            "b854673071064ad6bc17754e40139e9e",
            "53320cb5a809462f9942d3953e0f15de",
            "dbfc725dd48a43aaa2a4b838d2940909",
            "a52a5c19085840299b6ad83956527c32",
            "97c41c4aed314b518b93290e39a3043a",
            "6364d05c0a3a456aa503c5689346024a",
            "7b866ffa2c4545aa921e34fc2b9f678f",
            "8236aaabe8e5472290c275cafa831117",
            "a1bf9340fdd94bdfa0f6c8551dde6f23",
            "c7a24e9fa2db4e5c89590fa69fa0522d",
            "9d113648fab24858bcf6baa5665cdb0e",
            "fb53280eb82e4732965becd0723d557d",
            "2ca73b9b81fc4eb7bc62dd900527e1d3",
            "2ba0b36f6f2041d299a97b129d0ad443",
            "a718980c746a45c7a24e801babf1b23c",
            "5100b5dd93e149eeb724c64961a9d164",
            "21e95a24ac7e49a1b3df2883280a0fae",
            "aefa1023fdb3411ea43d16fee656200c",
            "0c3591c0102b44f3a4be6098996483b8",
            "79f172a4f1cb4b94965da29835853a84",
            "d02001ec93be4955977a1aeb5de147c3",
            "85e0864c977f4d51bf1dd2ccdf5aeaba",
            "d419f8c19186409aa377e3eba52ef1eb",
            "0e7c61e96e2b42fb992686bea7117c47",
            "9d4ca617fd3b4ce790b9274b67031908",
            "bed2c7358d56400a8915dde339017eff",
            "37652a0578974686b42d62e5c5ff5c9a",
            "152c57b9f2244d23a6fac33e01184c91",
            "1ba756b3a1c44a798adb43d9c06e698e",
            "cb680f1e51d841528d2e48ee8616723b",
            "cc94ad51550542c28d20ad1ad63cced5",
            "21d371ef42c24b8c971bda90e470f466",
            "52b54669f39442a499779d2ed3b587dd",
            "a521b1e98e8b4d6ab32027fb5c0ee9e1",
            "603a14ad1aa74d16a10a755f3d30ae8e",
            "ef16c5ef60454eb8a5486d36fba19465",
            "6faaddfd7e224a3ca156026ab0fb5609",
            "8c8866237dc646eb9f9df99cf8ff04ff",
            "1deaa65f7fd54993a9c95debc9ade5f6",
            "53e12e6aa0e74e4fa2848a483bc1b4de",
            "d0b0369823e042828b2f71c255276583",
            "1a2a0128fa824a56b8f26e18fee66776",
            "3e2bb7b07b6c4e0f9b6dc1c8c1f4a3a2",
            "8762b68a4abf460ca0f57cf9d2ac2ea3",
            "3f662a18e36c4d5dbe9dfd54bbb1a6ac",
            "6d75588c0d3540a28a2f95c553fa3293",
            "580c44811eec47598073bc1bf5758cd4",
            "67c2a975dece461cb1731ba109710ada",
            "cc67732ab0814159a48fb4b0873a21ce",
            "1f5d92e473664e5190bf81381423db42",
            "e1b7d2b4283a4aa7a73c050a8b8c1366",
            "c31c8596411b441dacfdf0128fc96678",
            "5ee4aebc941b44119566ff0bf8681431",
            "8749a5d7be594ce18fd678bfaefa6276",
            "c841e76dad6e40b9ac11c836e8dcc743",
            "77d0641c5c71479fb16db5fa0a5485a0",
            "8630dcb7cece434691b728d7f6d414c3",
            "44eaaed0ace74d438bfc94c50600262d",
            "7b2ae7b866f14feb86e35843a27aab10",
            "b677e620493543e3b2879690a32d0f17",
            "2ecdac3faed74c3db4c1950002308713",
            "b3049439f2254d29a7b75af6efc48919",
            "026899a4998a4d73bfd0cb80ed77acd9"
          ]
        },
        "id": "G649tjTXLL8F",
        "outputId": "28d93cca-42ba-4235-aa56-48c2f7c82dbd"
      },
      "source": [
        "# create transforms\n",
        "# We will just convert to tensor and normalize since no special transforms are mentioned in the paper\n",
        "transforms_mnist = transforms.Compose([\n",
        "                                       transforms.ToTensor(),\n",
        "                                       transforms.Normalize((0.1307,), (0.3081,))\n",
        "                                       ])\n",
        "\n",
        "mnist_data_train = datasets.MNIST('./data/mnist/', train=True, download=True, transform=transforms_mnist)\n",
        "mnist_data_test = datasets.MNIST('../data/mnist/', train=False, download=True, transform=transforms_mnist)"
      ],
      "execution_count": 4,
      "outputs": [
        {
          "output_type": "stream",
          "text": [
            "Downloading http://yann.lecun.com/exdb/mnist/train-images-idx3-ubyte.gz\n",
            "Failed to download (trying next):\n",
            "HTTP Error 503: Service Unavailable\n",
            "\n",
            "Downloading https://ossci-datasets.s3.amazonaws.com/mnist/train-images-idx3-ubyte.gz\n",
            "Downloading https://ossci-datasets.s3.amazonaws.com/mnist/train-images-idx3-ubyte.gz to ./data/mnist/MNIST/raw/train-images-idx3-ubyte.gz\n"
          ],
          "name": "stdout"
        },
        {
          "output_type": "display_data",
          "data": {
            "application/vnd.jupyter.widget-view+json": {
              "model_id": "4f4fe6b5d0d7493f8f16a86f88c262d5",
              "version_minor": 0,
              "version_major": 2
            },
            "text/plain": [
              "HBox(children=(FloatProgress(value=0.0, max=9912422.0), HTML(value='')))"
            ]
          },
          "metadata": {
            "tags": []
          }
        },
        {
          "output_type": "stream",
          "text": [
            "\n",
            "Extracting ./data/mnist/MNIST/raw/train-images-idx3-ubyte.gz to ./data/mnist/MNIST/raw\n",
            "\n",
            "Downloading http://yann.lecun.com/exdb/mnist/train-labels-idx1-ubyte.gz\n",
            "Failed to download (trying next):\n",
            "HTTP Error 503: Service Unavailable\n",
            "\n",
            "Downloading https://ossci-datasets.s3.amazonaws.com/mnist/train-labels-idx1-ubyte.gz\n",
            "Downloading https://ossci-datasets.s3.amazonaws.com/mnist/train-labels-idx1-ubyte.gz to ./data/mnist/MNIST/raw/train-labels-idx1-ubyte.gz\n"
          ],
          "name": "stdout"
        },
        {
          "output_type": "display_data",
          "data": {
            "application/vnd.jupyter.widget-view+json": {
              "model_id": "8236aaabe8e5472290c275cafa831117",
              "version_minor": 0,
              "version_major": 2
            },
            "text/plain": [
              "HBox(children=(FloatProgress(value=0.0, max=28881.0), HTML(value='')))"
            ]
          },
          "metadata": {
            "tags": []
          }
        },
        {
          "output_type": "stream",
          "text": [
            "\n",
            "Extracting ./data/mnist/MNIST/raw/train-labels-idx1-ubyte.gz to ./data/mnist/MNIST/raw\n",
            "\n",
            "Downloading http://yann.lecun.com/exdb/mnist/t10k-images-idx3-ubyte.gz\n",
            "Failed to download (trying next):\n",
            "HTTP Error 503: Service Unavailable\n",
            "\n",
            "Downloading https://ossci-datasets.s3.amazonaws.com/mnist/t10k-images-idx3-ubyte.gz\n",
            "Downloading https://ossci-datasets.s3.amazonaws.com/mnist/t10k-images-idx3-ubyte.gz to ./data/mnist/MNIST/raw/t10k-images-idx3-ubyte.gz\n"
          ],
          "name": "stdout"
        },
        {
          "output_type": "display_data",
          "data": {
            "application/vnd.jupyter.widget-view+json": {
              "model_id": "5100b5dd93e149eeb724c64961a9d164",
              "version_minor": 0,
              "version_major": 2
            },
            "text/plain": [
              "HBox(children=(FloatProgress(value=0.0, max=1648877.0), HTML(value='')))"
            ]
          },
          "metadata": {
            "tags": []
          }
        },
        {
          "output_type": "stream",
          "text": [
            "\n",
            "Extracting ./data/mnist/MNIST/raw/t10k-images-idx3-ubyte.gz to ./data/mnist/MNIST/raw\n",
            "\n",
            "Downloading http://yann.lecun.com/exdb/mnist/t10k-labels-idx1-ubyte.gz\n",
            "Failed to download (trying next):\n",
            "HTTP Error 503: Service Unavailable\n",
            "\n",
            "Downloading https://ossci-datasets.s3.amazonaws.com/mnist/t10k-labels-idx1-ubyte.gz\n",
            "Downloading https://ossci-datasets.s3.amazonaws.com/mnist/t10k-labels-idx1-ubyte.gz to ./data/mnist/MNIST/raw/t10k-labels-idx1-ubyte.gz\n"
          ],
          "name": "stdout"
        },
        {
          "output_type": "display_data",
          "data": {
            "application/vnd.jupyter.widget-view+json": {
              "model_id": "0e7c61e96e2b42fb992686bea7117c47",
              "version_minor": 0,
              "version_major": 2
            },
            "text/plain": [
              "HBox(children=(FloatProgress(value=0.0, max=4542.0), HTML(value='')))"
            ]
          },
          "metadata": {
            "tags": []
          }
        },
        {
          "output_type": "stream",
          "text": [
            "\n",
            "Extracting ./data/mnist/MNIST/raw/t10k-labels-idx1-ubyte.gz to ./data/mnist/MNIST/raw\n",
            "\n",
            "Processing...\n",
            "Done!\n"
          ],
          "name": "stdout"
        },
        {
          "output_type": "stream",
          "text": [
            "/usr/local/lib/python3.7/dist-packages/torchvision/datasets/mnist.py:502: UserWarning: The given NumPy array is not writeable, and PyTorch does not support non-writeable tensors. This means you can write to the underlying (supposedly non-writeable) NumPy array using the tensor. You may want to copy the array to protect its data or make it writeable before converting it to a tensor. This type of warning will be suppressed for the rest of this program. (Triggered internally at  /pytorch/torch/csrc/utils/tensor_numpy.cpp:143.)\n",
            "  return torch.from_numpy(parsed.astype(m[2], copy=False)).view(*s)\n"
          ],
          "name": "stderr"
        },
        {
          "output_type": "stream",
          "text": [
            "Downloading http://yann.lecun.com/exdb/mnist/train-images-idx3-ubyte.gz\n",
            "Failed to download (trying next):\n",
            "HTTP Error 503: Service Unavailable\n",
            "\n",
            "Downloading https://ossci-datasets.s3.amazonaws.com/mnist/train-images-idx3-ubyte.gz\n",
            "Downloading https://ossci-datasets.s3.amazonaws.com/mnist/train-images-idx3-ubyte.gz to ../data/mnist/MNIST/raw/train-images-idx3-ubyte.gz\n"
          ],
          "name": "stdout"
        },
        {
          "output_type": "display_data",
          "data": {
            "application/vnd.jupyter.widget-view+json": {
              "model_id": "21d371ef42c24b8c971bda90e470f466",
              "version_minor": 0,
              "version_major": 2
            },
            "text/plain": [
              "HBox(children=(FloatProgress(value=0.0, max=9912422.0), HTML(value='')))"
            ]
          },
          "metadata": {
            "tags": []
          }
        },
        {
          "output_type": "stream",
          "text": [
            "\n",
            "Extracting ../data/mnist/MNIST/raw/train-images-idx3-ubyte.gz to ../data/mnist/MNIST/raw\n",
            "\n",
            "Downloading http://yann.lecun.com/exdb/mnist/train-labels-idx1-ubyte.gz\n",
            "Failed to download (trying next):\n",
            "HTTP Error 503: Service Unavailable\n",
            "\n",
            "Downloading https://ossci-datasets.s3.amazonaws.com/mnist/train-labels-idx1-ubyte.gz\n",
            "Downloading https://ossci-datasets.s3.amazonaws.com/mnist/train-labels-idx1-ubyte.gz to ../data/mnist/MNIST/raw/train-labels-idx1-ubyte.gz\n"
          ],
          "name": "stdout"
        },
        {
          "output_type": "display_data",
          "data": {
            "application/vnd.jupyter.widget-view+json": {
              "model_id": "53e12e6aa0e74e4fa2848a483bc1b4de",
              "version_minor": 0,
              "version_major": 2
            },
            "text/plain": [
              "HBox(children=(FloatProgress(value=0.0, max=28881.0), HTML(value='')))"
            ]
          },
          "metadata": {
            "tags": []
          }
        },
        {
          "output_type": "stream",
          "text": [
            "\n",
            "Extracting ../data/mnist/MNIST/raw/train-labels-idx1-ubyte.gz to ../data/mnist/MNIST/raw\n",
            "\n",
            "Downloading http://yann.lecun.com/exdb/mnist/t10k-images-idx3-ubyte.gz\n",
            "Failed to download (trying next):\n",
            "HTTP Error 503: Service Unavailable\n",
            "\n",
            "Downloading https://ossci-datasets.s3.amazonaws.com/mnist/t10k-images-idx3-ubyte.gz\n",
            "Downloading https://ossci-datasets.s3.amazonaws.com/mnist/t10k-images-idx3-ubyte.gz to ../data/mnist/MNIST/raw/t10k-images-idx3-ubyte.gz\n"
          ],
          "name": "stdout"
        },
        {
          "output_type": "display_data",
          "data": {
            "application/vnd.jupyter.widget-view+json": {
              "model_id": "67c2a975dece461cb1731ba109710ada",
              "version_minor": 0,
              "version_major": 2
            },
            "text/plain": [
              "HBox(children=(FloatProgress(value=0.0, max=1648877.0), HTML(value='')))"
            ]
          },
          "metadata": {
            "tags": []
          }
        },
        {
          "output_type": "stream",
          "text": [
            "\n",
            "Extracting ../data/mnist/MNIST/raw/t10k-images-idx3-ubyte.gz to ../data/mnist/MNIST/raw\n",
            "\n",
            "Downloading http://yann.lecun.com/exdb/mnist/t10k-labels-idx1-ubyte.gz\n",
            "Failed to download (trying next):\n",
            "HTTP Error 503: Service Unavailable\n",
            "\n",
            "Downloading https://ossci-datasets.s3.amazonaws.com/mnist/t10k-labels-idx1-ubyte.gz\n",
            "Downloading https://ossci-datasets.s3.amazonaws.com/mnist/t10k-labels-idx1-ubyte.gz to ../data/mnist/MNIST/raw/t10k-labels-idx1-ubyte.gz\n"
          ],
          "name": "stdout"
        },
        {
          "output_type": "display_data",
          "data": {
            "application/vnd.jupyter.widget-view+json": {
              "model_id": "77d0641c5c71479fb16db5fa0a5485a0",
              "version_minor": 0,
              "version_major": 2
            },
            "text/plain": [
              "HBox(children=(FloatProgress(value=0.0, max=4542.0), HTML(value='')))"
            ]
          },
          "metadata": {
            "tags": []
          }
        },
        {
          "output_type": "stream",
          "text": [
            "\n",
            "Extracting ../data/mnist/MNIST/raw/t10k-labels-idx1-ubyte.gz to ../data/mnist/MNIST/raw\n",
            "\n",
            "Processing...\n",
            "Done!\n"
          ],
          "name": "stdout"
        }
      ]
    },
    {
      "cell_type": "code",
      "metadata": {
        "colab": {
          "base_uri": "https://localhost:8080/"
        },
        "id": "dm9usjn2vFkL",
        "outputId": "7d5cc7c1-a28e-4e71-bc5f-25e8bee89be0"
      },
      "source": [
        "classes = np.array(list(mnist_data_train.class_to_idx.values()))\n",
        "classes_test = np.array(list(mnist_data_test.class_to_idx.values()))\n",
        "num_classes = len(classes_test)\n",
        "print(\"Classes: {} \\tType: {}\".format(classes, type(classes)))\n",
        "print(\"Classes Test: {} \\tType: {}\".format(classes_test, type(classes)))\n"
      ],
      "execution_count": 5,
      "outputs": [
        {
          "output_type": "stream",
          "text": [
            "Classes: [0 1 2 3 4 5 6 7 8 9] \tType: <class 'numpy.ndarray'>\n",
            "Classes Test: [0 1 2 3 4 5 6 7 8 9] \tType: <class 'numpy.ndarray'>\n"
          ],
          "name": "stdout"
        }
      ]
    },
    {
      "cell_type": "code",
      "metadata": {
        "colab": {
          "base_uri": "https://localhost:8080/"
        },
        "id": "9lvJt3Ofv2SO",
        "outputId": "b18d4152-e445-45d3-9af8-74535c363568"
      },
      "source": [
        "print(\"Image Shape: {}\".format(mnist_data_train.data[0].size()))"
      ],
      "execution_count": 6,
      "outputs": [
        {
          "output_type": "stream",
          "text": [
            "Image Shape: torch.Size([28, 28])\n"
          ],
          "name": "stdout"
        }
      ]
    },
    {
      "cell_type": "markdown",
      "metadata": {
        "id": "jCOONkg-zV7Y"
      },
      "source": [
        "## Visualize Data"
      ]
    },
    {
      "cell_type": "code",
      "metadata": {
        "id": "R9MK03TZw6Qs"
      },
      "source": [
        "def imshow(img):\n",
        "\timg = img/2 + 0.5 #unnormalize the image\n",
        "\tplt.imshow(img, cmap='gray') # convert from tensor to image"
      ],
      "execution_count": 7,
      "outputs": []
    },
    {
      "cell_type": "code",
      "metadata": {
        "id": "gMJ0Kx4Kw-_H"
      },
      "source": [
        "def visualize(dataset):\n",
        "  figure = plt.figure(figsize=(25,4))\n",
        "  for i in range(20):\n",
        "    axis = figure.add_subplot(2, 20/2, i+1, xticks=[], yticks=[])\n",
        "    data = dataset.data[i]\n",
        "    data = data.numpy()\n",
        "\n",
        "    target = dataset.targets[i]\n",
        "    target = target.numpy()\n",
        "    imshow(data)\n",
        "    axis.set_title(target)\n"
      ],
      "execution_count": 8,
      "outputs": []
    },
    {
      "cell_type": "code",
      "metadata": {
        "colab": {
          "base_uri": "https://localhost:8080/",
          "height": 268
        },
        "id": "8bPOwKg10Ro7",
        "outputId": "e48948c6-5f42-4b0f-a5b3-0bd04f0b241d"
      },
      "source": [
        "visualize(mnist_data_train)"
      ],
      "execution_count": 9,
      "outputs": [
        {
          "output_type": "display_data",
          "data": {
            "image/png": "[encoded data removed]",
            "text/plain": [
              "<Figure size 1800x288 with 20 Axes>"
            ]
          },
          "metadata": {
            "tags": []
          }
        }
      ]
    },
    {
      "cell_type": "code",
      "metadata": {
        "colab": {
          "base_uri": "https://localhost:8080/",
          "height": 268
        },
        "id": "RKoh5Cf70UYu",
        "outputId": "2042221d-3214-4b31-d21b-fa5752b59611"
      },
      "source": [
        "visualize(mnist_data_test)"
      ],
      "execution_count": 10,
      "outputs": [
        {
          "output_type": "display_data",
          "data": {
            "image/png": "[encoded data removed]",
            "text/plain": [
              "<Figure size 1800x288 with 20 Axes>"
            ]
          },
          "metadata": {
            "tags": []
          }
        }
      ]
    },
    {
      "cell_type": "markdown",
      "metadata": {
        "id": "ctjRsETiO1qO"
      },
      "source": [
        "## Partitioning the Data (IID and non-IID)"
      ]
    },
    {
      "cell_type": "code",
      "metadata": {
        "id": "3_v8lyrgO5dD"
      },
      "source": [
        "def iid_partition(dataset, clients):\n",
        "  \"\"\"\n",
        "  I.I.D paritioning of data over clients\n",
        "  Shuffle the data\n",
        "  Split it between clients\n",
        "  \n",
        "  params:\n",
        "    - dataset (torch.utils.Dataset): Dataset containing the MNIST Images\n",
        "    - clients (int): Number of Clients to split the data between\n",
        "\n",
        "  returns:\n",
        "    - Dictionary of image indexes for each client\n",
        "  \"\"\"\n",
        "\n",
        "  num_items_per_client = int(len(dataset)/clients)\n",
        "  client_dict = {}\n",
        "  image_idxs = [i for i in range(len(dataset))]\n",
        "\n",
        "  for i in range(clients):\n",
        "    client_dict[i] = set(np.random.choice(image_idxs, num_items_per_client, replace=False))\n",
        "    image_idxs = list(set(image_idxs) - client_dict[i])\n",
        "\n",
        "  return client_dict"
      ],
      "execution_count": 11,
      "outputs": []
    },
    {
      "cell_type": "code",
      "metadata": {
        "id": "4zMdliGMQoSl"
      },
      "source": [
        "def non_iid_partition(dataset, clients, total_shards, shards_size, num_shards_per_client):\n",
        "  \"\"\"\n",
        "  non I.I.D parititioning of data over clients\n",
        "  Sort the data by the digit label\n",
        "  Divide the data into N shards of size S\n",
        "  Each of the clients will get X shards\n",
        "\n",
        "  params:\n",
        "    - dataset (torch.utils.Dataset): Dataset containing the MNIST Images\n",
        "    - clients (int): Number of Clients to split the data between\n",
        "    - total_shards (int): Number of shards to partition the data in\n",
        "    - shards_size (int): Size of each shard \n",
        "    - num_shards_per_client (int): Number of shards of size shards_size that each client receives\n",
        "\n",
        "  returns:\n",
        "    - Dictionary of image indexes for each client\n",
        "  \"\"\"\n",
        "  \n",
        "  shard_idxs = [i for i in range(total_shards)]\n",
        "  client_dict = {i: np.array([], dtype='int64') for i in range(clients)}\n",
        "  idxs = np.arange(len(dataset))\n",
        "  data_labels = dataset.targets.numpy()\n",
        "\n",
        "  # sort the labels\n",
        "  label_idxs = np.vstack((idxs, data_labels))\n",
        "  label_idxs = label_idxs[:, label_idxs[1,:].argsort()]\n",
        "  idxs = label_idxs[0,:]\n",
        "\n",
        "  # divide the data into total_shards of size shards_size\n",
        "  # assign num_shards_per_client to each client\n",
        "  for i in range(clients):\n",
        "    rand_set = set(np.random.choice(shard_idxs, num_shards_per_client, replace=False))\n",
        "    shard_idxs = list(set(shard_idxs) - rand_set)\n",
        "\n",
        "    for rand in rand_set:\n",
        "      client_dict[i] = np.concatenate((client_dict[i], idxs[rand*shards_size:(rand+1)*shards_size]), axis=0)\n",
        "  \n",
        "  return client_dict\n"
      ],
      "execution_count": 12,
      "outputs": []
    },
    {
      "cell_type": "markdown",
      "metadata": {
        "id": "PTfxv8kFoGAy"
      },
      "source": [
        "## Models"
      ]
    },
    {
      "cell_type": "code",
      "metadata": {
        "id": "CvoDNFKbZST5"
      },
      "source": [
        "class MNIST_2NN(nn.Module):\n",
        "  \"\"\"\n",
        "  A simple multilayer-perceptron with 2-hidden layers with 200 units each\n",
        "  using ReLu activations\n",
        "\n",
        "  Total Expected Params: 199,210\n",
        "  \"\"\"\n",
        "  def __init__(self):\n",
        "    super(MNIST_2NN, self).__init__()\n",
        "\n",
        "    self.fc1 = nn.Linear(28*28, 200)\n",
        "    self.fc2 = nn.Linear(200, 200)\n",
        "    self.fc3 = nn.Linear(200, 10)\n",
        "\n",
        "  def forward(self, x):\n",
        "    x = torch.flatten(x, 1)\n",
        "    x = F.relu(self.fc1(x))\n",
        "    x = F.relu(self.fc2(x))\n",
        "    out = self.fc3(x)\n",
        "\n",
        "    return x"
      ],
      "execution_count": 13,
      "outputs": []
    },
    {
      "cell_type": "code",
      "metadata": {
        "id": "ut1hZ8x3qYPZ"
      },
      "source": [
        "class MNIST_CNN(nn.Module):\n",
        "  \"\"\"\n",
        "  CNN with two 5x5 convolution lauers(the first with 32 channels, second with 64,\n",
        "  each followed with 2x2 max pooling), a fully connected layer with 512 uunits and \n",
        "  ReLu activation, and the final Softmax output layer\n",
        "\n",
        "  Total Expected Params: 1,663,370\n",
        "  \"\"\"\n",
        "  def __init__(self):\n",
        "    super(MNIST_CNN, self).__init__()\n",
        "\n",
        "    self.conv1 = nn.Conv2d(1, 32, kernel_size=5)\n",
        "    self.conv2 = nn.Conv2d(32, 64, kernel_size=5)\n",
        "    \n",
        "    self.pool = nn.MaxPool2d(2,2)\n",
        "    self.dropout = nn.Dropout(p=0.2)\n",
        "\n",
        "    self.fc1 = nn.Linear(1024, 512)\n",
        "    self.out = nn.Linear(512, 10)\n",
        "\n",
        "  def forward(self, x):\n",
        "    x = self.pool(F.relu(self.conv1(x)))\n",
        "    x = self.pool(F.relu(self.conv2(x)))\n",
        "    x = self.dropout(x)\n",
        "    x = torch.flatten(x, 1)\n",
        "    x = F.relu(self.fc1(x))\n",
        "    x = self.out(x)\n",
        "    out = F.log_softmax(x, dim=1)\n",
        "\n",
        "    return out"
      ],
      "execution_count": 14,
      "outputs": []
    },
    {
      "cell_type": "markdown",
      "metadata": {
        "id": "uVv4HA9HuLtr"
      },
      "source": [
        "### Print Model Summaries"
      ]
    },
    {
      "cell_type": "code",
      "metadata": {
        "colab": {
          "base_uri": "https://localhost:8080/"
        },
        "id": "I5oTH710sJEt",
        "outputId": "e231ef85-6c7b-496e-b90c-72bd3d04030a"
      },
      "source": [
        "mnist_mlp = MNIST_2NN()\n",
        "mnist_cnn = MNIST_CNN()\n",
        "\n",
        "if torch.cuda.is_available():\n",
        "  mnist_mlp.cuda()\n",
        "  mnist_cnn.cuda()\n",
        "\n",
        "print(\"MNIST MLP SUMMARY\")\n",
        "print(summary(mnist_mlp, (28,28)))\n",
        "\n",
        "print(\"\\nMNIST CNN SUMMARY\")\n",
        "print(summary(mnist_cnn, (1, 28,28)))"
      ],
      "execution_count": 15,
      "outputs": [
        {
          "output_type": "stream",
          "text": [
            "MNIST MLP SUMMARY\n",
            "----------------------------------------------------------------\n",
            "        Layer (type)               Output Shape         Param #\n",
            "================================================================\n",
            "            Linear-1                  [-1, 200]         157,000\n",
            "            Linear-2                  [-1, 200]          40,200\n",
            "            Linear-3                   [-1, 10]           2,010\n",
            "================================================================\n",
            "Total params: 199,210\n",
            "Trainable params: 199,210\n",
            "Non-trainable params: 0\n",
            "----------------------------------------------------------------\n",
            "Input size (MB): 0.00\n",
            "Forward/backward pass size (MB): 0.00\n",
            "Params size (MB): 0.76\n",
            "Estimated Total Size (MB): 0.77\n",
            "----------------------------------------------------------------\n",
            "None\n",
            "\n",
            "MNIST CNN SUMMARY\n",
            "----------------------------------------------------------------\n",
            "        Layer (type)               Output Shape         Param #\n",
            "================================================================\n",
            "            Conv2d-1           [-1, 32, 24, 24]             832\n",
            "         MaxPool2d-2           [-1, 32, 12, 12]               0\n",
            "            Conv2d-3             [-1, 64, 8, 8]          51,264\n",
            "         MaxPool2d-4             [-1, 64, 4, 4]               0\n",
            "           Dropout-5             [-1, 64, 4, 4]               0\n",
            "            Linear-6                  [-1, 512]         524,800\n",
            "            Linear-7                   [-1, 10]           5,130\n",
            "================================================================\n",
            "Total params: 582,026\n",
            "Trainable params: 582,026\n",
            "Non-trainable params: 0\n",
            "----------------------------------------------------------------\n",
            "Input size (MB): 0.00\n",
            "Forward/backward pass size (MB): 0.23\n",
            "Params size (MB): 2.22\n",
            "Estimated Total Size (MB): 2.45\n",
            "----------------------------------------------------------------\n",
            "None\n"
          ],
          "name": "stdout"
        }
      ]
    },
    {
      "cell_type": "markdown",
      "metadata": {
        "id": "gf_8XEXa-gZ7"
      },
      "source": [
        "## q Federated Averaging"
      ]
    },
    {
      "cell_type": "markdown",
      "metadata": {
        "id": "L-aNdQsQ-Kvp"
      },
      "source": [
        "### Local Training (Client Update)\n",
        "\n",
        "Local training for the model on client side"
      ]
    },
    {
      "cell_type": "code",
      "metadata": {
        "id": "oX6OsQyO-Gz7"
      },
      "source": [
        "class CustomDataset(Dataset):\n",
        "  def __init__(self, dataset, idxs):\n",
        "      self.dataset = dataset\n",
        "      self.idxs = list(idxs)\n",
        "\n",
        "  def __len__(self):\n",
        "      return len(self.idxs)\n",
        "\n",
        "  def __getitem__(self, item):\n",
        "      image, label = self.dataset[self.idxs[item]]\n",
        "      return image, label\n",
        "\n",
        "\n",
        "class ClientUpdate(object):\n",
        "  def __init__(self, dataset, batch_size, learning_rate, epochs, idxs, q=None):\n",
        "    if hasattr(dataset, 'dataloader'):\n",
        "        self.train_loader = dataset.dataloader(batch_size=batch_size, shuffle=True)\n",
        "    else:\n",
        "        self.train_loader = DataLoader(CustomDataset(dataset, idxs), batch_size=batch_size, shuffle=True)\n",
        "\n",
        "    self.learning_rate = learning_rate\n",
        "    self.epochs = epochs\n",
        "    self.q = q\n",
        "    if not self.q:\n",
        "        # TODO: Client itself adjust fairness \n",
        "        pass\n",
        "    self.mu = 1e-10\n",
        "\n",
        "  def train(self, model):\n",
        "    criterion = nn.CrossEntropyLoss()\n",
        "    optimizer = torch.optim.SGD(model.parameters(), lr=self.learning_rate, momentum=0.5)\n",
        "\n",
        "    e_loss = []\n",
        "\n",
        "    model_weights = copy.deepcopy(model.state_dict())\n",
        "    for epoch in range(1, self.epochs+1):\n",
        "\n",
        "      train_loss = 0.0\n",
        "\n",
        "      model.train()\n",
        "      # for data, labels in tqdm(self.train_loader):\n",
        "      for data, labels in self.train_loader:\n",
        "\n",
        "        if torch.cuda.is_available():\n",
        "          data, labels = data.cuda(), labels.cuda()\n",
        "\n",
        "        # clear the gradients\n",
        "        optimizer.zero_grad()\n",
        "        # make a forward pass\n",
        "        output = model(data)\n",
        "        # calculate the loss\n",
        "        loss = criterion(output, labels)\n",
        "        # do a backwards pass\n",
        "        loss.backward()\n",
        "        # perform a single optimization step\n",
        "        optimizer.step()\n",
        "        # update training loss\n",
        "        train_loss += loss.item()*data.size(0)\n",
        "\n",
        "      # average losses\n",
        "      train_loss = train_loss/len(self.train_loader.dataset)\n",
        "      e_loss.append(train_loss)\n",
        "\n",
        "\n",
        "    total_loss = sum(e_loss)/len(e_loss)\n",
        "\n",
        "    # delta weights\n",
        "    model_weights_new = copy.deepcopy(model.state_dict())\n",
        "    L = 1.0 / self.learning_rate\n",
        "\n",
        "    delta_weights, delta, h = {}, {}, {}\n",
        "    loss_q = np.float_power(total_loss + self.mu, self.q)\n",
        "    # updating the global weights\n",
        "    for k in model_weights_new.keys():\n",
        "      delta_weights[k] = (model_weights[k] - model_weights_new[k]) * L\n",
        "      delta[k] =  loss_q * delta_weights[k]\n",
        "      # Estimation of the local Lipchitz constant\n",
        "      h[k] = (self.q * np.float_power(total_loss + self.mu, self.q - 1) * torch.pow(torch.norm(delta_weights[k]), 2)) + (L * loss_q)\n",
        "\n",
        "    return delta, h, total_loss"
      ],
      "execution_count": 16,
      "outputs": []
    },
    {
      "cell_type": "markdown",
      "metadata": {
        "id": "Ukgh1DVHE2Ds"
      },
      "source": [
        "### Server Side Training\n"
      ]
    },
    {
      "cell_type": "code",
      "metadata": {
        "id": "vIHBbaX18k0j"
      },
      "source": [
        "def client_sampling(n, m, weights=None, with_replace=False):\n",
        "    pk = None\n",
        "    if weights:\n",
        "        total_weights = np.sum(np.asarray(weights))\n",
        "        pk = [w * 1.0 / total_weights for w in weights]\n",
        "\n",
        "    return np.random.choice(range(n), m, replace=with_replace, p=pk)"
      ],
      "execution_count": 17,
      "outputs": []
    },
    {
      "cell_type": "code",
      "metadata": {
        "id": "1NF1e33BgpeL"
      },
      "source": [
        "def training(model, rounds, batch_size, lr, ds, ds_test, data_dict, C, K, E, q, sampling, plt_title, plt_color):\n",
        "  \"\"\"\n",
        "  Function implements the Federated Averaging Algorithm from the FedAvg paper.\n",
        "  Specifically, this function is used for the server side training and weight update\n",
        "\n",
        "  Params:\n",
        "    - model:           PyTorch model to train\n",
        "    - rounds:          Number of communication rounds for the client update\n",
        "    - batch_size:      Batch size for client update training\n",
        "    - lr:              Learning rate used for client update training\n",
        "    - ds:              Dataset used for training\n",
        "    - ds_test:         Dataset used for testing\n",
        "    - data_dict:       Type of data partition used for training (IID or non-IID)\n",
        "    - C:               Fraction of clients randomly chosen to perform computation on each round\n",
        "    - K:               Total number of clients\n",
        "    - E:               Number of training passes each client makes over its local dataset per round\n",
        "    - tb_writer_name:  Directory name to save the tensorboard logs\n",
        "  Returns:\n",
        "    - model:           Trained model on the server\n",
        "  \"\"\"\n",
        "\n",
        "  # global model weights\n",
        "  global_weights = model.state_dict()\n",
        "\n",
        "  # training loss\n",
        "  # train_accuracy = []\n",
        "  train_loss = []\n",
        "  test_accuracy = []\n",
        "  test_loss = []\n",
        "  f1_macro = []\n",
        "  f1_weighted = []\n",
        "\n",
        "  # client weights by total samples\n",
        "  p_k = None\n",
        "  if sampling == 'weighted':\n",
        "    p_k = [len(data_dict[c]) for c in data_dict] if ds else [len(data_dict[c]['train_ds']) for c in data_dict]\n",
        "\n",
        "  # Time log\n",
        "  start_time = time.time()\n",
        "\n",
        "  users_id = list(data_dict.keys())\n",
        "\n",
        "  for curr_round in range(1, rounds+1):\n",
        "    deltas, hs, local_loss = [], [], []\n",
        "\n",
        "    m = max(int(C*K), 1)    \n",
        "    S_t = client_sampling(K, m, weights=p_k, with_replace=False)\n",
        "\n",
        "    print('Round: {} Picking {}/{} clients: {}'.format(curr_round, m, K, S_t))\n",
        "\n",
        "    global_weights = model.state_dict()\n",
        "\n",
        "    for k in range(len(S_t)):\n",
        "      key = users_id[k]\n",
        "      ds_ = ds if ds else data_dict[key]['train_ds']\n",
        "      idxs = data_dict[key] if ds else None\n",
        "      local_update = ClientUpdate(dataset=ds_, batch_size=batch_size, learning_rate=lr, epochs=E, idxs=idxs, q=q)\n",
        "      delta_k, h_k, loss = local_update.train(model=copy.deepcopy(model))\n",
        "\n",
        "      deltas.append(copy.deepcopy(delta_k))\n",
        "      hs.append(copy.deepcopy(h_k))\n",
        "      local_loss.append(copy.deepcopy(loss))\n",
        "\n",
        "    # Perform qFedAvg\n",
        "    h_sum = copy.deepcopy(hs[0])\n",
        "    delta_sum = copy.deepcopy(deltas[0])\n",
        "    \n",
        "    for k in h_sum.keys():\n",
        "        for i in range(1, len(hs)):\n",
        "            h_sum[k] += hs[i][k]\n",
        "            delta_sum[k] += deltas[i][k]\n",
        "\n",
        "    new_weights = {}\n",
        "    for k in delta_sum.keys():\n",
        "        for i in range(len(deltas)):\n",
        "            new_weights[k] = delta_sum[k] / h_sum[k]\n",
        "\n",
        "    # Updating global model weights\n",
        "    for k in global_weights.keys():\n",
        "        global_weights[k] -= new_weights[k]\n",
        "\n",
        "    # move the updated weights to our model state dict\n",
        "    model.load_state_dict(global_weights)\n",
        "\n",
        "    # loss\n",
        "    loss_avg = sum(local_loss) / len(local_loss)\n",
        "    print('Round: {}... \\tAverage Loss: {}'.format(curr_round, round(loss_avg, 3)))\n",
        "    train_loss.append(loss_avg)\n",
        "\n",
        "    # test\n",
        "    test_criterion = nn.CrossEntropyLoss()\n",
        "    test_accuracy_current, test_loss_current, f1_macro_current, f1_weighted_current =  testing(copy.deepcopy(model), ds_test, 128, test_criterion, num_classes, classes_test)\n",
        "    test_accuracy.append(test_accuracy_current)\n",
        "    test_loss.append(test_loss_current)\n",
        "    f1_macro.append(f1_macro_current)\n",
        "    f1_weighted.append(f1_weighted_current)\n",
        "\n",
        "  end_time = time.time()\n",
        "  \n",
        "  fig, ax = plt.subplots()\n",
        "  x_axis = np.arange(1, rounds+1)\n",
        "  y_axis = np.array(train_loss)\n",
        "  ax.plot(x_axis, y_axis, 'tab:'+plt_color)\n",
        "\n",
        "  ax.set(xlabel='Number of Rounds', ylabel='Train Loss',\n",
        "       title=plt_title)\n",
        "  ax.grid()\n",
        "  fig.savefig(plt_title+'_Train_loss.jpg', format='jpg')\n",
        "  plt.show()\n",
        "\n",
        "  fig, ax = plt.subplots()\n",
        "  x_axis = np.arange(1, rounds+1)\n",
        "  y_axis = np.array(test_loss)\n",
        "  ax.plot(x_axis, y_axis, 'tab:'+plt_color)\n",
        "\n",
        "  ax.set(xlabel='Number of Rounds', ylabel='Test Loss',\n",
        "       title=plt_title)\n",
        "  ax.grid()\n",
        "  fig.savefig(plt_title+'_Test_loss.jpg', format='jpg')\n",
        "  plt.show()\n",
        "\n",
        "  fig, ax = plt.subplots()\n",
        "  x_axis = np.arange(1, rounds+1)\n",
        "  y_axis = np.array(test_accuracy)\n",
        "  ax.plot(x_axis, y_axis, 'tab:'+plt_color)\n",
        "\n",
        "  ax.set(xlabel='Number of Rounds', ylabel='Test Accuracy',\n",
        "       title=plt_title)\n",
        "  ax.grid()\n",
        "  fig.savefig(plt_title+'_Test_Accuracy.jpg', format='jpg')\n",
        "  plt.show()\n",
        "\n",
        "  fig, ax = plt.subplots()\n",
        "  x_axis = np.arange(1, rounds+1)\n",
        "  y_axis = np.array(f1_macro)\n",
        "  ax.plot(x_axis, y_axis, 'tab:'+plt_color)\n",
        "\n",
        "  ax.set(xlabel='Number of Rounds', ylabel='F1 Macro',\n",
        "       title=plt_title)\n",
        "  ax.grid()\n",
        "  fig.savefig(plt_title+'_F1_Marco.jpg', format='jpg')\n",
        "  plt.show()\n",
        "\n",
        "  fig, ax = plt.subplots()\n",
        "  x_axis = np.arange(1, rounds+1)\n",
        "  y_axis = np.array(f1_weighted)\n",
        "  ax.plot(x_axis, y_axis, 'tab:'+plt_color)\n",
        "\n",
        "  ax.set(xlabel='Number of Rounds', ylabel='F1 Weighted',\n",
        "       title=plt_title)\n",
        "  ax.grid()\n",
        "  fig.savefig(plt_title+'_F1_Weighted.jpg', format='jpg')\n",
        "  plt.show()\n",
        "\n",
        "  print(\"Training Done!\")\n",
        "  print(\"Total time taken to Train: {}\\n\\n\".format(end_time-start_time))\n",
        "  \n",
        "  return model, train_loss, test_accuracy, test_loss, f1_macro, f1_weighted"
      ],
      "execution_count": 18,
      "outputs": []
    },
    {
      "cell_type": "markdown",
      "metadata": {
        "id": "tUYyb4T-uXmF"
      },
      "source": [
        "## Testing Loop"
      ]
    },
    {
      "cell_type": "code",
      "metadata": {
        "id": "uCcIZmO5uan9"
      },
      "source": [
        "def testing(model, dataset, bs, criterion, num_classes, classes, print_info=False):\n",
        "  #test loss \n",
        "  test_loss = 0.0\n",
        "  y_true, y_hat = None, None\n",
        "\n",
        "  correct_class = list(0 for i in range(num_classes))\n",
        "  total_class = list(0 for i in range(num_classes))\n",
        "\n",
        "  if hasattr(dataset, 'dataloader'):\n",
        "    test_loader = dataset.dataloader(batch_size=bs, shuffle=False)\n",
        "  else:\n",
        "    test_loader = DataLoader(dataset, batch_size=bs, shuffle=False)\n",
        "\n",
        "  l = len(test_loader)\n",
        "\n",
        "  model.eval()\n",
        "  for i, (data, labels) in enumerate(test_loader):\n",
        "\n",
        "    if torch.cuda.is_available():\n",
        "      data, labels = data.cuda(), labels.cuda()\n",
        "\n",
        "    output = model(data)\n",
        "    loss = criterion(output, labels)\n",
        "    test_loss += loss.item()*data.size(0)\n",
        "\n",
        "    _, pred = torch.max(output, dim=1)\n",
        "\n",
        "    # For F1Score\n",
        "    y_true = np.append(y_true, labels.data.view_as(pred).cpu().numpy()) if i != 0 else labels.data.view_as(pred).cpu().numpy()\n",
        "    y_hat = np.append(y_hat, pred.cpu().numpy()) if i != 0 else pred.cpu().numpy()\n",
        "\n",
        "    correct_tensor = pred.eq(labels.data.view_as(pred))\n",
        "    correct = np.squeeze(correct_tensor.numpy()) if not torch.cuda.is_available() else np.squeeze(correct_tensor.cpu().numpy())\n",
        "\n",
        "    for i, lbl in enumerate(labels.data):\n",
        "      try:\n",
        "        correct_class[lbl.item()] += correct[i]\n",
        "        total_class[lbl.item()] += 1\n",
        "      except:\n",
        "          print('Error', lbl, i)\n",
        "    \n",
        "  # avg test loss\n",
        "  test_loss = test_loss/len(test_loader.dataset)\n",
        "  test_accuracy = 100. * np.sum(correct_class) / np.sum(total_class)\n",
        "  # Avg F1 Score\n",
        "  f1_macro = f1_score(y_true, y_hat, average='macro')\n",
        "  # F1-Score -> weigthed to consider class imbalance\n",
        "  f1_weighted =  f1_score(y_true, y_hat, average='weighted')\n",
        "\n",
        "  if print_info:\n",
        "    print(\"Test Loss: {:.6f}\\n\".format(test_loss))\n",
        "\n",
        "    for i in range(10):\n",
        "      if total_class[i]>0:\n",
        "        print('Test Accuracy of %5s: %2d%% (%2d/%2d)' % \n",
        "              (classes[i], 100 * correct_class[i] / total_class[i],\n",
        "              np.sum(correct_class[i]), np.sum(total_class[i])))\n",
        "      else:\n",
        "        print('Test Accuracy of %5s: N/A (no training examples)' % (classes[i]))\n",
        "\n",
        "    print('\\nFinal Test  Accuracy: {:.3f} ({}/{})'.format(\n",
        "          100. * np.sum(correct_class) / np.sum(total_class),\n",
        "          np.sum(correct_class), np.sum(total_class)))\n",
        "\n",
        "    print(\"F1 Score: {:.6f} (macro) {:.6f} (weighted) %\\n\".format(f1_macro, f1_weighted))\n",
        "  \n",
        "  return test_accuracy, test_loss, f1_macro, f1_weighted"
      ],
      "execution_count": 19,
      "outputs": []
    },
    {
      "cell_type": "markdown",
      "metadata": {
        "id": "Ri0FqXFeHW-V"
      },
      "source": [
        "## Logger"
      ]
    },
    {
      "cell_type": "code",
      "metadata": {
        "id": "thZm2kSiHT4v"
      },
      "source": [
        "log_dict = {}\n",
        "NUM_REPEAT = 1"
      ],
      "execution_count": 20,
      "outputs": []
    },
    {
      "cell_type": "markdown",
      "metadata": {
        "id": "4hO5oV6aXqeh"
      },
      "source": [
        "## MNIST CNN on IID"
      ]
    },
    {
      "cell_type": "markdown",
      "metadata": {
        "id": "flSQv_P4zCfx"
      },
      "source": [
        "### Train\n"
      ]
    },
    {
      "cell_type": "code",
      "metadata": {
        "id": "0ZalcKZtEseA"
      },
      "source": [
        "# train_loss_multiple_runs = [None] * NUM_REPEAT\n",
        "# test_accuracy_multiple_runs = [None] * NUM_REPEAT\n",
        "# test_loss_multiple_runs = [None] * NUM_REPEAT\n",
        "# f1_macro_multiple_runs = [None] * NUM_REPEAT\n",
        "# f1_weighted_multiple_runs = [None] * NUM_REPEAT\n",
        "\n",
        "# for exp_num in range(NUM_REPEAT):\n",
        "#   print(\"Experiment Run Number: \", exp_num)\n",
        "\n",
        "#   # number of training rounds\n",
        "#   rounds = 50\n",
        "#   # client fraction\n",
        "#   C = 0.1\n",
        "#   # number of clients\n",
        "#   K = 100\n",
        "#   # number of training passes on local dataset for each roung\n",
        "#   E = 5\n",
        "#   # batch size\n",
        "#   batch_size = 10\n",
        "#   # learning Rate\n",
        "#   lr=0.05\n",
        "#   # fairness\n",
        "#   q = 0.001\n",
        "#   # sampling\n",
        "#   # sampling = 'uniform'\n",
        "#   sampling = 'weighted'\n",
        "#   # data partition dictionary\n",
        "#   iid_dict = iid_partition(mnist_data_train, 100)\n",
        "#   # load model\n",
        "#   mnist_cnn = MNIST_CNN()\n",
        "\n",
        "#   if torch.cuda.is_available():\n",
        "#     mnist_cnn.cuda()\n",
        "\n",
        "#   mnist_cnn_iid_trained, train_loss, test_accuracy, test_loss, f1_macro, f1_weighted = training(mnist_cnn, rounds, batch_size, lr, mnist_data_train, mnist_data_test, iid_dict, C, K, E, q, sampling, \"MNIST CNN on IID Dataset\", \"orange\")\n",
        "\n",
        "#   train_loss_multiple_runs[exp_num] = train_loss\n",
        "#   test_accuracy_multiple_runs[exp_num] = test_accuracy\n",
        "#   test_loss_multiple_runs[exp_num] = test_loss\n",
        "#   f1_macro_multiple_runs[exp_num] = f1_macro\n",
        "#   f1_weighted_multiple_runs[exp_num] = f1_weighted"
      ],
      "execution_count": 21,
      "outputs": []
    },
    {
      "cell_type": "markdown",
      "metadata": {
        "id": "wNwC82przF6G"
      },
      "source": [
        "### Test"
      ]
    },
    {
      "cell_type": "code",
      "metadata": {
        "id": "qB97BFs9we9w"
      },
      "source": [
        "# criterion = nn.CrossEntropyLoss()\n",
        "# acc, loss, f1_macro, f1_weighted = testing(mnist_cnn_iid_trained, mnist_data_test, 128, criterion, num_classes, classes_test, True)"
      ],
      "execution_count": 22,
      "outputs": []
    },
    {
      "cell_type": "code",
      "metadata": {
        "id": "gdQZEZmHHeqt"
      },
      "source": [
        "# hyperparams = {'rounds': rounds,\n",
        "#                'C': C,\n",
        "#                'K': K,\n",
        "#                'E': E,\n",
        "#                'batch_size': batch_size,\n",
        "#                'lr': lr,\n",
        "#                'q': q,\n",
        "#                'sampling': sampling\n",
        "#                }\n",
        "\n",
        "# log_dict['MNIST CNN on IID'] = {'train_loss': train_loss_multiple_runs, \n",
        "#                                 'test_loss': test_loss_multiple_runs, \n",
        "#                                 'test_accuracy': test_accuracy_multiple_runs,\n",
        "#                                 'f1_macro': f1_macro_multiple_runs,\n",
        "#                                 'f1_weighted': f1_weighted_multiple_runs,\n",
        "#                                 'hyperparams': hyperparams,\n",
        "#                                 }"
      ],
      "execution_count": 23,
      "outputs": []
    },
    {
      "cell_type": "markdown",
      "metadata": {
        "id": "uF8MdSIUYcnl"
      },
      "source": [
        "## MNIST CNN on Non IID"
      ]
    },
    {
      "cell_type": "markdown",
      "metadata": {
        "id": "a6wXX7JW11bx"
      },
      "source": [
        "### Train\n"
      ]
    },
    {
      "cell_type": "code",
      "metadata": {
        "id": "fCD3kBCKYfBK",
        "colab": {
          "base_uri": "https://localhost:8080/",
          "height": 1000
        },
        "outputId": "82b5b59c-3a49-4c5e-c384-31e618d7ffc4"
      },
      "source": [
        "train_loss_multiple_runs = [None] * NUM_REPEAT\n",
        "test_accuracy_multiple_runs = [None] * NUM_REPEAT\n",
        "test_loss_multiple_runs = [None] * NUM_REPEAT\n",
        "f1_macro_multiple_runs = [None] * NUM_REPEAT\n",
        "f1_weighted_multiple_runs = [None] * NUM_REPEAT\n",
        "\n",
        "for exp_num in range(NUM_REPEAT):\n",
        "  print(\"Experiment Run Number: \", exp_num)\n",
        "\n",
        "  # number of training rounds\n",
        "  rounds = 50\n",
        "  # client fraction\n",
        "  C = 0.1\n",
        "  # number of clients\n",
        "  K = 100\n",
        "  # number of training passes on local dataset for each roung\n",
        "  E = 5\n",
        "  # batch size\n",
        "  batch_size = 10\n",
        "  # learning Rate\n",
        "  lr=0.05\n",
        "  # fairness\n",
        "  q = 0.001\n",
        "  # sampling\n",
        "  # sampling = 'uniform'\n",
        "  sampling = 'weighted'\n",
        "  # dict containing different type of data partition\n",
        "  data_dict = non_iid_partition(mnist_data_train, 100, 500, 120, 5)\n",
        "  # load model\n",
        "  mnist_cnn = MNIST_CNN()\n",
        "\n",
        "  if torch.cuda.is_available():\n",
        "    mnist_cnn.cuda()\n",
        "\n",
        "  mnist_cnn_non_iid_trained, train_loss, test_accuracy, test_loss, f1_macro, f1_weighted = training(mnist_cnn, rounds, batch_size, lr, mnist_data_train, mnist_data_test, data_dict, C, K, E, q, sampling, \"MNIST CNN on Non-IID Dataset\", \"green\")\n",
        "\n",
        "  train_loss_multiple_runs[exp_num] = train_loss\n",
        "  test_accuracy_multiple_runs[exp_num] = test_accuracy\n",
        "  test_loss_multiple_runs[exp_num] = test_loss\n",
        "  f1_macro_multiple_runs[exp_num] = f1_macro\n",
        "  f1_weighted_multiple_runs[exp_num] = f1_weighted"
      ],
      "execution_count": 24,
      "outputs": [
        {
          "output_type": "stream",
          "text": [
            "Experiment Run Number:  0\n",
            "Round: 1 Picking 10/100 clients: [42 14  4 64  6 73 53 19 18 45]\n",
            "Round: 1... \tAverage Loss: 0.209\n",
            "Round: 2 Picking 10/100 clients: [79 46 14 72 18 73 47 45 85 70]\n",
            "Round: 2... \tAverage Loss: 0.108\n",
            "Round: 3 Picking 10/100 clients: [ 3 29 87  1 54 72 62 76 69 82]\n",
            "Round: 3... \tAverage Loss: 0.068\n",
            "Round: 4 Picking 10/100 clients: [64 40 47 71 87 27 34 93 57 17]\n",
            "Round: 4... \tAverage Loss: 0.056\n",
            "Round: 5 Picking 10/100 clients: [66 99 82 74 20 87 52 88 32  6]\n",
            "Round: 5... \tAverage Loss: 0.044\n",
            "Round: 6 Picking 10/100 clients: [47 26 71 95 69 88 45 77 84 49]\n",
            "Round: 6... \tAverage Loss: 0.04\n",
            "Round: 7 Picking 10/100 clients: [62 70 25 80 95 46 73 66 54 88]\n",
            "Round: 7... \tAverage Loss: 0.033\n",
            "Round: 8 Picking 10/100 clients: [44  6 84 67 13  3 93 14 80 81]\n",
            "Round: 8... \tAverage Loss: 0.029\n",
            "Round: 9 Picking 10/100 clients: [70 13 66 88 42 41 44  8 89 86]\n",
            "Round: 9... \tAverage Loss: 0.027\n",
            "Round: 10 Picking 10/100 clients: [99 58 75 20 66 64 90 83 93 86]\n",
            "Round: 10... \tAverage Loss: 0.025\n",
            "Round: 11 Picking 10/100 clients: [86  6 84 60 38  5 67 32 46 68]\n",
            "Round: 11... \tAverage Loss: 0.025\n",
            "Round: 12 Picking 10/100 clients: [91 82 45 38 23 37 11 97 57 12]\n",
            "Round: 12... \tAverage Loss: 0.018\n",
            "Round: 13 Picking 10/100 clients: [35 54 53  3 95 27  1  7 58 13]\n",
            "Round: 13... \tAverage Loss: 0.022\n",
            "Round: 14 Picking 10/100 clients: [ 4 37 62 11 31 41 15 50  8 55]\n",
            "Round: 14... \tAverage Loss: 0.014\n",
            "Round: 15 Picking 10/100 clients: [24  9 42 91 72 81 87 97 76 60]\n",
            "Round: 15... \tAverage Loss: 0.014\n",
            "Round: 16 Picking 10/100 clients: [36 18 68 99 46 72 49 43 41 50]\n",
            "Round: 16... \tAverage Loss: 0.015\n",
            "Round: 17 Picking 10/100 clients: [36 74 87 88 22 89 34 30 72  4]\n",
            "Round: 17... \tAverage Loss: 0.016\n",
            "Round: 18 Picking 10/100 clients: [37 72 32 62 66 73 89 43 16 31]\n",
            "Round: 18... \tAverage Loss: 0.014\n",
            "Round: 19 Picking 10/100 clients: [43 71  1 31 77 67 73 81 78 68]\n",
            "Round: 19... \tAverage Loss: 0.016\n",
            "Round: 20 Picking 10/100 clients: [43 98 56 20 29 69 92 17  8 88]\n",
            "Round: 20... \tAverage Loss: 0.009\n",
            "Round: 21 Picking 10/100 clients: [91 27 37 66 32 87 10  3 20 28]\n",
            "Round: 21... \tAverage Loss: 0.013\n",
            "Round: 22 Picking 10/100 clients: [11  6 75 16 91 36 67 22 24 57]\n",
            "Round: 22... \tAverage Loss: 0.008\n",
            "Round: 23 Picking 10/100 clients: [56 76 75 67 44 89 62 99 81  4]\n",
            "Round: 23... \tAverage Loss: 0.011\n",
            "Round: 24 Picking 10/100 clients: [32 57 72 55 78 28 18  5 68 33]\n",
            "Round: 24... \tAverage Loss: 0.012\n",
            "Round: 25 Picking 10/100 clients: [61  5  9 70 36 67 83 85 17 48]\n",
            "Round: 25... \tAverage Loss: 0.007\n",
            "Round: 26 Picking 10/100 clients: [73 77 78 22 19 59 74 31 10 71]\n",
            "Round: 26... \tAverage Loss: 0.013\n",
            "Round: 27 Picking 10/100 clients: [29 16 14 31 59 35  2  9 65 10]\n",
            "Round: 27... \tAverage Loss: 0.009\n",
            "Round: 28 Picking 10/100 clients: [56 11 21 17  6 67 46 83  9 14]\n",
            "Round: 28... \tAverage Loss: 0.008\n",
            "Round: 29 Picking 10/100 clients: [30 76 40  8 93 54 78 65 50  9]\n",
            "Round: 29... \tAverage Loss: 0.008\n",
            "Round: 30 Picking 10/100 clients: [64 15 41 62 78 68 67 14 34  4]\n",
            "Round: 30... \tAverage Loss: 0.006\n",
            "Round: 31 Picking 10/100 clients: [71 95 26  8 47 85 55  4 97 82]\n",
            "Round: 31... \tAverage Loss: 0.013\n",
            "Round: 32 Picking 10/100 clients: [13 92 45 37 46 83 65  5 95 14]\n",
            "Round: 32... \tAverage Loss: 0.007\n",
            "Round: 33 Picking 10/100 clients: [74 63 18 17 87 41 65 50 72 47]\n",
            "Round: 33... \tAverage Loss: 0.005\n",
            "Round: 34 Picking 10/100 clients: [28 36 85 46 21 93 79  5 99 69]\n",
            "Round: 34... \tAverage Loss: 0.005\n",
            "Round: 35 Picking 10/100 clients: [16 23 69 77 25 30 59 17 10 68]\n",
            "Round: 35... \tAverage Loss: 0.004\n",
            "Round: 36 Picking 10/100 clients: [77 50 36 43 38 95 76 20 54 61]\n",
            "Round: 36... \tAverage Loss: 0.007\n",
            "Round: 37 Picking 10/100 clients: [46 81 76 50 85 75 77 95 26 88]\n",
            "Round: 37... \tAverage Loss: 0.007\n",
            "Round: 38 Picking 10/100 clients: [77 92  6 62 14 50 15 12  1 63]\n",
            "Round: 38... \tAverage Loss: 0.003\n",
            "Round: 39 Picking 10/100 clients: [35 10 32 16 94 33 83 64 71 62]\n",
            "Round: 39... \tAverage Loss: 0.005\n",
            "Round: 40 Picking 10/100 clients: [94 20 98 83 58 66 64  5 21 96]\n",
            "Round: 40... \tAverage Loss: 0.004\n",
            "Round: 41 Picking 10/100 clients: [53 37 76 52  1 73 16 95 22 45]\n",
            "Round: 41... \tAverage Loss: 0.006\n",
            "Round: 42 Picking 10/100 clients: [11 60 37 35 82  0 79 57 98 58]\n",
            "Round: 42... \tAverage Loss: 0.004\n",
            "Round: 43 Picking 10/100 clients: [ 5 88 84 34 61 48 96 94 98 82]\n",
            "Round: 43... \tAverage Loss: 0.002\n",
            "Round: 44 Picking 10/100 clients: [90 21 83 70 96 57  8 59 68 22]\n",
            "Round: 44... \tAverage Loss: 0.007\n",
            "Round: 45 Picking 10/100 clients: [39 59 37 13 94 75  0 76 73  1]\n",
            "Round: 45... \tAverage Loss: 0.002\n",
            "Round: 46 Picking 10/100 clients: [36 60 45 77 42 15 97 24 71 14]\n",
            "Round: 46... \tAverage Loss: 0.002\n",
            "Round: 47 Picking 10/100 clients: [32 44 19 15 55 66  6 87 18 24]\n",
            "Round: 47... \tAverage Loss: 0.004\n",
            "Round: 48 Picking 10/100 clients: [66 46 49 12 80 61 13 37 81 56]\n",
            "Round: 48... \tAverage Loss: 0.011\n",
            "Round: 49 Picking 10/100 clients: [10 37 24 51 84 43 90 57 56 25]\n",
            "Round: 49... \tAverage Loss: 0.002\n",
            "Round: 50 Picking 10/100 clients: [60 57 39 99 88 74 53 46 18 30]\n",
            "Round: 50... \tAverage Loss: 0.007\n"
          ],
          "name": "stdout"
        },
        {
          "output_type": "display_data",
          "data": {
            "image/png": "[encoded data removed]",
            "text/plain": [
              "<Figure size 432x288 with 1 Axes>"
            ]
          },
          "metadata": {
            "tags": [],
            "needs_background": "light"
          }
        },
        {
          "output_type": "display_data",
          "data": {
            "image/png": "[encoded data removed]",
            "text/plain": [
              "<Figure size 432x288 with 1 Axes>"
            ]
          },
          "metadata": {
            "tags": [],
            "needs_background": "light"
          }
        },
        {
          "output_type": "display_data",
          "data": {
            "image/png": "[encoded data removed]",
            "text/plain": [
              "<Figure size 432x288 with 1 Axes>"
            ]
          },
          "metadata": {
            "tags": [],
            "needs_background": "light"
          }
        },
        {
          "output_type": "display_data",
          "data": {
            "image/png": "[encoded data removed]",
            "text/plain": [
              "<Figure size 432x288 with 1 Axes>"
            ]
          },
          "metadata": {
            "tags": [],
            "needs_background": "light"
          }
        },
        {
          "output_type": "display_data",
          "data": {
            "image/png": "[encoded data removed]",
            "text/plain": [
              "<Figure size 432x288 with 1 Axes>"
            ]
          },
          "metadata": {
            "tags": [],
            "needs_background": "light"
          }
        },
        {
          "output_type": "stream",
          "text": [
            "Training Done!\n",
            "Total time taken to Train: 1262.3922235965729\n",
            "\n",
            "\n"
          ],
          "name": "stdout"
        }
      ]
    },
    {
      "cell_type": "markdown",
      "metadata": {
        "id": "4C68J-Kk14dB"
      },
      "source": [
        "### Test"
      ]
    },
    {
      "cell_type": "code",
      "metadata": {
        "id": "_yQ9GiAZ15jE",
        "colab": {
          "base_uri": "https://localhost:8080/"
        },
        "outputId": "41534589-ad87-4fc9-c417-8d9b87f5f9ee"
      },
      "source": [
        "criterion = nn.CrossEntropyLoss()\n",
        "acc, loss, f1_macro, f1_weighted = testing(mnist_cnn_non_iid_trained, mnist_data_test, 128, criterion, num_classes, classes_test, True)"
      ],
      "execution_count": 25,
      "outputs": [
        {
          "output_type": "stream",
          "text": [
            "Test Loss: 0.159355\n",
            "\n",
            "Test Accuracy of     0: 99% (976/980)\n",
            "Test Accuracy of     1: 99% (1132/1135)\n",
            "Test Accuracy of     2: 95% (984/1032)\n",
            "Test Accuracy of     3: 91% (926/1010)\n",
            "Test Accuracy of     4: 76% (747/982)\n",
            "Test Accuracy of     5: 99% (884/892)\n",
            "Test Accuracy of     6: 98% (945/958)\n",
            "Test Accuracy of     7: 98% (1015/1028)\n",
            "Test Accuracy of     8: 96% (937/974)\n",
            "Test Accuracy of     9: 98% (992/1009)\n",
            "\n",
            "Final Test  Accuracy: 95.380 (9538/10000)\n",
            "F1 Score: 0.952905 (macro) 0.953285 (weighted) %\n",
            "\n"
          ],
          "name": "stdout"
        }
      ]
    },
    {
      "cell_type": "code",
      "metadata": {
        "id": "dxMcxgLhLvX-"
      },
      "source": [
        "hyperparams = {'rounds': rounds,\n",
        "               'C': C,\n",
        "               'K': K,\n",
        "               'E': E,\n",
        "               'batch_size': batch_size,\n",
        "               'lr': lr,\n",
        "               'q': q,\n",
        "               'sampling': sampling\n",
        "               }\n",
        "\n",
        "log_dict['MNIST CNN on Non IID'] = {'train_loss': train_loss_multiple_runs, \n",
        "                                'test_loss': test_loss_multiple_runs, \n",
        "                                'test_accuracy': test_accuracy_multiple_runs,\n",
        "                                'f1_macro': f1_macro_multiple_runs,\n",
        "                                'f1_weighted': f1_weighted_multiple_runs,\n",
        "                                'hyperparams': hyperparams,\n",
        "                                }"
      ],
      "execution_count": 26,
      "outputs": []
    },
    {
      "cell_type": "markdown",
      "metadata": {
        "id": "z_jifdzniuhm"
      },
      "source": [
        "## MNIST MLP on IID"
      ]
    },
    {
      "cell_type": "markdown",
      "metadata": {
        "id": "uh-te0Od2XGO"
      },
      "source": [
        "### Train"
      ]
    },
    {
      "cell_type": "code",
      "metadata": {
        "id": "UmpWmKOQixVV"
      },
      "source": [
        "# train_loss_multiple_runs = [None] * NUM_REPEAT\n",
        "# test_accuracy_multiple_runs = [None] * NUM_REPEAT\n",
        "# test_loss_multiple_runs = [None] * NUM_REPEAT\n",
        "# f1_macro_multiple_runs = [None] * NUM_REPEAT\n",
        "# f1_weighted_multiple_runs = [None] * NUM_REPEAT\n",
        "\n",
        "# for exp_num in range(NUM_REPEAT):\n",
        "#   print(\"Experiment Run Number: \", exp_num)\n",
        "\n",
        "#   # number of training rounds\n",
        "#   rounds = 50\n",
        "#   # client fraction\n",
        "#   C = 0.1\n",
        "#   # number of clients\n",
        "#   K = 100\n",
        "#   # number of training passes on local dataset for each round\n",
        "#   E = 5\n",
        "#   # batch size\n",
        "#   batch_size = 10\n",
        "#   # learning Rate\n",
        "#   lr=0.05\n",
        "#   # fairness\n",
        "#   q = 0.001\n",
        "#   # sampling\n",
        "#   # sampling = 'uniform'\n",
        "#   sampling = 'weighted'\n",
        "#   # dict containing different type of data partition\n",
        "#   data_dict = iid_partition(mnist_data_train, 100)\n",
        "#   # load model\n",
        "#   mnist_mlp = MNIST_2NN()\n",
        "\n",
        "#   if torch.cuda.is_available():\n",
        "#     mnist_mlp.cuda()\n",
        "\n",
        "#   mnist_mlp_iid_trained, train_loss, test_accuracy, test_loss, f1_macro, f1_weighted = training(mnist_mlp, rounds, batch_size, lr, mnist_data_train, mnist_data_test, data_dict, C, K, E, q, sampling, \"MNIST MLP on IID Dataset\", \"orange\")\n",
        "  \n",
        "#   train_loss_multiple_runs[exp_num] = train_loss\n",
        "#   test_accuracy_multiple_runs[exp_num] = test_accuracy\n",
        "#   test_loss_multiple_runs[exp_num] = test_loss\n",
        "#   f1_macro_multiple_runs[exp_num] = f1_macro\n",
        "#   f1_weighted_multiple_runs[exp_num] = f1_weighted"
      ],
      "execution_count": 27,
      "outputs": []
    },
    {
      "cell_type": "markdown",
      "metadata": {
        "id": "aTBsL3-72PPd"
      },
      "source": [
        "### Test"
      ]
    },
    {
      "cell_type": "code",
      "metadata": {
        "id": "a9G4j5L62OrS"
      },
      "source": [
        "# criterion = nn.CrossEntropyLoss()\n",
        "# acc, loss, f1_macro, f1_weighted = testing(mnist_mlp_iid_trained, mnist_data_test, 128, criterion, num_classes, classes_test, True)"
      ],
      "execution_count": 28,
      "outputs": []
    },
    {
      "cell_type": "code",
      "metadata": {
        "id": "fWCdJFRCL_f2"
      },
      "source": [
        "# hyperparams = {'rounds': rounds,\n",
        "#                'C': C,\n",
        "#                'K': K,\n",
        "#                'E': E,\n",
        "#                'batch_size': batch_size,\n",
        "#                'lr': lr,\n",
        "#                'q': q,\n",
        "#                'sampling': sampling\n",
        "#                }\n",
        "\n",
        "# log_dict['MNIST MLP on IID'] = {'train_loss': train_loss_multiple_runs, \n",
        "#                                 'test_loss': test_loss_multiple_runs, \n",
        "#                                 'test_accuracy': test_accuracy_multiple_runs,\n",
        "#                                 'f1_macro': f1_macro_multiple_runs,\n",
        "#                                 'f1_weighted': f1_weighted_multiple_runs,\n",
        "#                                 'hyperparams': hyperparams,\n",
        "#                                 }"
      ],
      "execution_count": 29,
      "outputs": []
    },
    {
      "cell_type": "markdown",
      "metadata": {
        "id": "J8jzEyO0iywz"
      },
      "source": [
        "## MNIST MLP on Non IID"
      ]
    },
    {
      "cell_type": "markdown",
      "metadata": {
        "id": "pJFepr3y2bF-"
      },
      "source": [
        "### Train"
      ]
    },
    {
      "cell_type": "code",
      "metadata": {
        "id": "EBKO44Hgi1Uh",
        "colab": {
          "base_uri": "https://localhost:8080/",
          "height": 1000
        },
        "outputId": "14604e5d-c53c-44a3-9364-d0a23fdd75ef"
      },
      "source": [
        "train_loss_multiple_runs = [None] * NUM_REPEAT\n",
        "test_accuracy_multiple_runs = [None] * NUM_REPEAT\n",
        "test_loss_multiple_runs = [None] * NUM_REPEAT\n",
        "f1_macro_multiple_runs = [None] * NUM_REPEAT\n",
        "f1_weighted_multiple_runs = [None] * NUM_REPEAT\n",
        "\n",
        "for exp_num in range(NUM_REPEAT):\n",
        "  print(\"Experiment Run Number: \", exp_num)\n",
        "  \n",
        "  # number of training rounds\n",
        "  rounds = 50\n",
        "  # client fraction\n",
        "  C = 0.1\n",
        "  # number of clients\n",
        "  K = 100\n",
        "  # number of training passes on local dataset for each roung\n",
        "  E = 5\n",
        "  # batch size\n",
        "  batch_size = 10\n",
        "  # learning Rate\n",
        "  lr=0.05\n",
        "  # fairness\n",
        "  q = 0.001\n",
        "  # sampling\n",
        "  # sampling = 'uniform'\n",
        "  sampling = 'weighted'\n",
        "\n",
        "  # dict containing different type of data partition\n",
        "  data_dict = non_iid_partition(mnist_data_train, 100, 500, 120, 5)\n",
        "  # load model\n",
        "  mnist_mlp = MNIST_2NN()\n",
        "\n",
        "  if torch.cuda.is_available():\n",
        "    mnist_mlp.cuda()\n",
        "\n",
        "  mnist_mlp_non_iid_trained, train_loss, test_accuracy, test_loss, f1_macro, f1_weighted = training(mnist_mlp, rounds, batch_size, lr, mnist_data_train, mnist_data_test, data_dict, C, K, E, q, sampling, \"MNIST MLP on Non-IID Dataset\", \"green\")\n",
        "\n",
        "  train_loss_multiple_runs[exp_num] = train_loss\n",
        "  test_accuracy_multiple_runs[exp_num] = test_accuracy\n",
        "  test_loss_multiple_runs[exp_num] = test_loss\n",
        "  f1_macro_multiple_runs[exp_num] = f1_macro\n",
        "  f1_weighted_multiple_runs[exp_num] = f1_weighted"
      ],
      "execution_count": 30,
      "outputs": [
        {
          "output_type": "stream",
          "text": [
            "Experiment Run Number:  0\n",
            "Round: 1 Picking 10/100 clients: [81 32 30 84 62 29 71 34 58 99]\n",
            "Round: 1... \tAverage Loss: 0.248\n",
            "Round: 2 Picking 10/100 clients: [30 93 32 54 45 78  6 62 76 47]\n",
            "Round: 2... \tAverage Loss: 0.132\n",
            "Round: 3 Picking 10/100 clients: [10 24 67 89 42 56 22 41 33 65]\n",
            "Round: 3... \tAverage Loss: 0.096\n",
            "Round: 4 Picking 10/100 clients: [98 81 19 57  6 24 17 33 67 49]\n",
            "Round: 4... \tAverage Loss: 0.079\n",
            "Round: 5 Picking 10/100 clients: [93 21 36 32 23 99 38 94 39 20]\n",
            "Round: 5... \tAverage Loss: 0.067\n",
            "Round: 6 Picking 10/100 clients: [11 85  3 96 41 24 61 13  7 82]\n",
            "Round: 6... \tAverage Loss: 0.058\n",
            "Round: 7 Picking 10/100 clients: [42 51 17  6 36 50 76 78 11  5]\n",
            "Round: 7... \tAverage Loss: 0.058\n",
            "Round: 8 Picking 10/100 clients: [15 77 75 14  3 68 85 20 58 74]\n",
            "Round: 8... \tAverage Loss: 0.052\n",
            "Round: 9 Picking 10/100 clients: [25 52 31 22 96 91 44 13 72 16]\n",
            "Round: 9... \tAverage Loss: 0.05\n",
            "Round: 10 Picking 10/100 clients: [38 52  9 57  1 89 92 73 46 25]\n",
            "Round: 10... \tAverage Loss: 0.045\n",
            "Round: 11 Picking 10/100 clients: [74 93 15 46 31 35 40 95 25 49]\n",
            "Round: 11... \tAverage Loss: 0.041\n",
            "Round: 12 Picking 10/100 clients: [95 47 86  5 18 97 17 44 30 43]\n",
            "Round: 12... \tAverage Loss: 0.038\n",
            "Round: 13 Picking 10/100 clients: [25 96 30 65 13 82 54 97 42 19]\n",
            "Round: 13... \tAverage Loss: 0.033\n",
            "Round: 14 Picking 10/100 clients: [34 73 65 77  7 58 93 10  9 71]\n",
            "Round: 14... \tAverage Loss: 0.029\n",
            "Round: 15 Picking 10/100 clients: [31 65 54 98 88 67 26 58 78 43]\n",
            "Round: 15... \tAverage Loss: 0.026\n",
            "Round: 16 Picking 10/100 clients: [10 33 16 78 70  8 62 87 69 51]\n",
            "Round: 16... \tAverage Loss: 0.026\n",
            "Round: 17 Picking 10/100 clients: [31 88 42 85 78 81 98 74  3 20]\n",
            "Round: 17... \tAverage Loss: 0.027\n",
            "Round: 18 Picking 10/100 clients: [ 3 18  6 50  2 47 89 74 94 22]\n",
            "Round: 18... \tAverage Loss: 0.02\n",
            "Round: 19 Picking 10/100 clients: [53 31 49 55  3 23 70 77 56 27]\n",
            "Round: 19... \tAverage Loss: 0.02\n",
            "Round: 20 Picking 10/100 clients: [40  9 95 86  6 16 58 23 93 75]\n",
            "Round: 20... \tAverage Loss: 0.019\n",
            "Round: 21 Picking 10/100 clients: [27  0 79 42 64 28 14 67 45 23]\n",
            "Round: 21... \tAverage Loss: 0.02\n",
            "Round: 22 Picking 10/100 clients: [13 58 72 28 73 18 33 74 66 27]\n",
            "Round: 22... \tAverage Loss: 0.018\n",
            "Round: 23 Picking 10/100 clients: [12  4 83  7 11 23 44 78 24 54]\n",
            "Round: 23... \tAverage Loss: 0.014\n",
            "Round: 24 Picking 10/100 clients: [ 9 46 17 21 36 76 74 41 11 28]\n",
            "Round: 24... \tAverage Loss: 0.013\n",
            "Round: 25 Picking 10/100 clients: [50 86 96 63 35 69 33 62 24 26]\n",
            "Round: 25... \tAverage Loss: 0.015\n",
            "Round: 26 Picking 10/100 clients: [ 7 42 61 78 81 99  8 49 52 80]\n",
            "Round: 26... \tAverage Loss: 0.017\n",
            "Round: 27 Picking 10/100 clients: [26  6 31 98 89 39 87  3 72 22]\n",
            "Round: 27... \tAverage Loss: 0.011\n",
            "Round: 28 Picking 10/100 clients: [19 86 61 98 13 35 31 88 25 12]\n",
            "Round: 28... \tAverage Loss: 0.012\n",
            "Round: 29 Picking 10/100 clients: [77 23  6 43 39 17 13 89  9 27]\n",
            "Round: 29... \tAverage Loss: 0.012\n",
            "Round: 30 Picking 10/100 clients: [95  8 81 89 37 29 67 70 77 83]\n",
            "Round: 30... \tAverage Loss: 0.01\n",
            "Round: 31 Picking 10/100 clients: [26 68 13 51 61 16  7 19 42 88]\n",
            "Round: 31... \tAverage Loss: 0.007\n",
            "Round: 32 Picking 10/100 clients: [53 74 17 10 23 31 54 88 42 51]\n",
            "Round: 32... \tAverage Loss: 0.011\n",
            "Round: 33 Picking 10/100 clients: [ 0  3  8 69 48 19 59 54 64 78]\n",
            "Round: 33... \tAverage Loss: 0.009\n",
            "Round: 34 Picking 10/100 clients: [28 68 19 75 91 44 24 39 25  0]\n",
            "Round: 34... \tAverage Loss: 0.009\n",
            "Round: 35 Picking 10/100 clients: [65  4 21 72 66  7 93 41 74 67]\n",
            "Round: 35... \tAverage Loss: 0.005\n",
            "Round: 36 Picking 10/100 clients: [22 16 78 95 76 96 60 92 69 90]\n",
            "Round: 36... \tAverage Loss: 0.007\n",
            "Round: 37 Picking 10/100 clients: [16 81 19  2 51 31  4 98 66 90]\n",
            "Round: 37... \tAverage Loss: 0.007\n",
            "Round: 38 Picking 10/100 clients: [99 39 25 18 51 60 47 38 16 44]\n",
            "Round: 38... \tAverage Loss: 0.004\n",
            "Round: 39 Picking 10/100 clients: [ 8 86  4 38 10 77 31 11 53 91]\n",
            "Round: 39... \tAverage Loss: 0.005\n",
            "Round: 40 Picking 10/100 clients: [90 24 71  3 13 49 22 79 93  0]\n",
            "Round: 40... \tAverage Loss: 0.005\n",
            "Round: 41 Picking 10/100 clients: [23 43 56 91 89 63 25 78 20 96]\n",
            "Round: 41... \tAverage Loss: 0.005\n",
            "Round: 42 Picking 10/100 clients: [ 0 56  8 40 63 68 78 59 25 88]\n",
            "Round: 42... \tAverage Loss: 0.006\n",
            "Round: 43 Picking 10/100 clients: [81 16 82 97 63 28 60 34 67 54]\n",
            "Round: 43... \tAverage Loss: 0.006\n",
            "Round: 44 Picking 10/100 clients: [92 61 21 72 30 27 39  1 96 53]\n",
            "Round: 44... \tAverage Loss: 0.005\n",
            "Round: 45 Picking 10/100 clients: [77 25 74 56 42 97 49 65  1 30]\n",
            "Round: 45... \tAverage Loss: 0.004\n",
            "Round: 46 Picking 10/100 clients: [88 75 53 90 48 56 38 62 31 96]\n",
            "Round: 46... \tAverage Loss: 0.004\n",
            "Round: 47 Picking 10/100 clients: [11 10  4 32 39  9 54 58 75 97]\n",
            "Round: 47... \tAverage Loss: 0.003\n",
            "Round: 48 Picking 10/100 clients: [61 11  8 77 65 16 25 75 56 58]\n",
            "Round: 48... \tAverage Loss: 0.003\n",
            "Round: 49 Picking 10/100 clients: [21 62 77 88 73 57 67 48 22 51]\n",
            "Round: 49... \tAverage Loss: 0.006\n",
            "Round: 50 Picking 10/100 clients: [59 99 98 58  3 39 93 28  8 55]\n",
            "Round: 50... \tAverage Loss: 0.003\n"
          ],
          "name": "stdout"
        },
        {
          "output_type": "display_data",
          "data": {
            "image/png": "[encoded data removed]",
            "text/plain": [
              "<Figure size 432x288 with 1 Axes>"
            ]
          },
          "metadata": {
            "tags": [],
            "needs_background": "light"
          }
        },
        {
          "output_type": "display_data",
          "data": {
            "image/png": "[encoded data removed]",
            "text/plain": [
              "<Figure size 432x288 with 1 Axes>"
            ]
          },
          "metadata": {
            "tags": [],
            "needs_background": "light"
          }
        },
        {
          "output_type": "display_data",
          "data": {
            "image/png": "[encoded data removed]",
            "text/plain": [
              "<Figure size 432x288 with 1 Axes>"
            ]
          },
          "metadata": {
            "tags": [],
            "needs_background": "light"
          }
        },
        {
          "output_type": "display_data",
          "data": {
            "image/png": "[encoded data removed]",
            "text/plain": [
              "<Figure size 432x288 with 1 Axes>"
            ]
          },
          "metadata": {
            "tags": [],
            "needs_background": "light"
          }
        },
        {
          "output_type": "display_data",
          "data": {
            "image/png": "[encoded data removed]",
            "text/plain": [
              "<Figure size 432x288 with 1 Axes>"
            ]
          },
          "metadata": {
            "tags": [],
            "needs_background": "light"
          }
        },
        {
          "output_type": "stream",
          "text": [
            "Training Done!\n",
            "Total time taken to Train: 707.7872462272644\n",
            "\n",
            "\n"
          ],
          "name": "stdout"
        }
      ]
    },
    {
      "cell_type": "markdown",
      "metadata": {
        "id": "jmuQYPbF2mes"
      },
      "source": [
        "### Test"
      ]
    },
    {
      "cell_type": "code",
      "metadata": {
        "id": "0tKMlJyF2nGN",
        "colab": {
          "base_uri": "https://localhost:8080/"
        },
        "outputId": "8c29ddde-8500-489f-b151-cca23e1da988"
      },
      "source": [
        "criterion = nn.CrossEntropyLoss()\n",
        "acc, loss, f1_macro, f1_weighted = testing(mnist_mlp_non_iid_trained, mnist_data_test, 128, criterion, num_classes, classes_test, True)"
      ],
      "execution_count": 31,
      "outputs": [
        {
          "output_type": "stream",
          "text": [
            "Test Loss: 1.806738\n",
            "\n",
            "Test Accuracy of     0: 98% (966/980)\n",
            "Test Accuracy of     1: 98% (1114/1135)\n",
            "Test Accuracy of     2:  0% ( 0/1032)\n",
            "Test Accuracy of     3: 96% (970/1010)\n",
            "Test Accuracy of     4: 91% (894/982)\n",
            "Test Accuracy of     5: 93% (831/892)\n",
            "Test Accuracy of     6: 96% (921/958)\n",
            "Test Accuracy of     7: 96% (996/1028)\n",
            "Test Accuracy of     8: 89% (872/974)\n",
            "Test Accuracy of     9: 93% (943/1009)\n",
            "\n",
            "Final Test  Accuracy: 85.070 (8507/10000)\n",
            "F1 Score: 0.809164 (macro) 0.806572 (weighted) %\n",
            "\n"
          ],
          "name": "stdout"
        }
      ]
    },
    {
      "cell_type": "code",
      "metadata": {
        "id": "1W5krYcSMQiu"
      },
      "source": [
        "hyperparams = {'rounds': rounds,\n",
        "               'C': C,\n",
        "               'K': K,\n",
        "               'E': E,\n",
        "               'batch_size': batch_size,\n",
        "               'lr': lr,\n",
        "               'q': q,\n",
        "               'sampling': sampling\n",
        "               }\n",
        "\n",
        "log_dict['MNIST MLP on Non IID'] = {'train_loss': train_loss_multiple_runs, \n",
        "                                'test_loss': test_loss_multiple_runs, \n",
        "                                'test_accuracy': test_accuracy_multiple_runs,\n",
        "                                'f1_macro': f1_macro_multiple_runs,\n",
        "                                'f1_weighted': f1_weighted_multiple_runs,\n",
        "                                'hyperparams': hyperparams,\n",
        "                                }"
      ],
      "execution_count": 32,
      "outputs": []
    },
    {
      "cell_type": "markdown",
      "metadata": {
        "id": "emS_SaRAP6TZ"
      },
      "source": [
        "## Pickle Log"
      ]
    },
    {
      "cell_type": "code",
      "metadata": {
        "id": "soAN38JoP0c1"
      },
      "source": [
        "import pickle\n",
        " \n",
        "with open(path + 'qFedAvg_5shards.pkl', 'wb') as file:\n",
        "  pickle.dump(log_dict, file)"
      ],
      "execution_count": 33,
      "outputs": []
    },
    {
      "cell_type": "code",
      "metadata": {
        "id": "2UBy-JswSoCJ",
        "colab": {
          "base_uri": "https://localhost:8080/"
        },
        "outputId": "939e50b4-4740-4514-f1c3-c09e4f76b37f"
      },
      "source": [
        "log_dict"
      ],
      "execution_count": 34,
      "outputs": [
        {
          "output_type": "execute_result",
          "data": {
            "text/plain": [
              "{'MNIST CNN on Non IID': {'f1_macro': [[0.4357179148780929,\n",
              "    0.5318339165071148,\n",
              "    0.5912123410610978,\n",
              "    0.6336198102698939,\n",
              "    0.6639355390713606,\n",
              "    0.7088322099559241,\n",
              "    0.7434010180840531,\n",
              "    0.7734826264136447,\n",
              "    0.796443944317803,\n",
              "    0.8059371718860608,\n",
              "    0.8139178315018162,\n",
              "    0.8300288232628675,\n",
              "    0.8364271801640554,\n",
              "    0.8513424275090655,\n",
              "    0.8636459328102909,\n",
              "    0.8711804393980156,\n",
              "    0.8787644231929091,\n",
              "    0.8781082593061689,\n",
              "    0.8815938165356705,\n",
              "    0.8886192922764689,\n",
              "    0.8965339284456636,\n",
              "    0.9056876544758821,\n",
              "    0.9134366708161235,\n",
              "    0.9149949304312166,\n",
              "    0.9170920913899121,\n",
              "    0.9184649164398755,\n",
              "    0.9216187643259705,\n",
              "    0.925657895306536,\n",
              "    0.9281136477018406,\n",
              "    0.9310878553875341,\n",
              "    0.9301546569384165,\n",
              "    0.9335952017462782,\n",
              "    0.9376454804531844,\n",
              "    0.9401094420454126,\n",
              "    0.9421823280951139,\n",
              "    0.9444939146602621,\n",
              "    0.9424059208464861,\n",
              "    0.9446614522577235,\n",
              "    0.9453564016695173,\n",
              "    0.9471418980497089,\n",
              "    0.947252688210764,\n",
              "    0.9502431204103006,\n",
              "    0.9533216470963468,\n",
              "    0.9525097815678498,\n",
              "    0.9533556631190162,\n",
              "    0.9553657288383459,\n",
              "    0.9541577716113068,\n",
              "    0.9506034573670148,\n",
              "    0.9509228635290189,\n",
              "    0.9529046382881751]],\n",
              "  'f1_weighted': [[0.4367133577826137,\n",
              "    0.5335453993002933,\n",
              "    0.5938146650148961,\n",
              "    0.6365256486014026,\n",
              "    0.6665650716031628,\n",
              "    0.711390719152353,\n",
              "    0.746301955230139,\n",
              "    0.776153719281624,\n",
              "    0.7987375881381649,\n",
              "    0.8080249147532876,\n",
              "    0.8158706677989278,\n",
              "    0.8318957289859676,\n",
              "    0.8381505701372062,\n",
              "    0.8528389746704883,\n",
              "    0.8649031833946563,\n",
              "    0.8722168524138251,\n",
              "    0.8798006726305477,\n",
              "    0.8791312728361447,\n",
              "    0.882577400677832,\n",
              "    0.8895681743999685,\n",
              "    0.8973945940390197,\n",
              "    0.9064242609469593,\n",
              "    0.9140675911074508,\n",
              "    0.9156383189853541,\n",
              "    0.9176802924181098,\n",
              "    0.9189830861597855,\n",
              "    0.9221546909586646,\n",
              "    0.9261568437996555,\n",
              "    0.9285955717307348,\n",
              "    0.9316712289716921,\n",
              "    0.9307545033155897,\n",
              "    0.9341438600157477,\n",
              "    0.9381603569550026,\n",
              "    0.9406099459206806,\n",
              "    0.942674657710657,\n",
              "    0.9449740259922921,\n",
              "    0.9429185097750782,\n",
              "    0.9451241372460046,\n",
              "    0.9458302989319384,\n",
              "    0.9476601490026986,\n",
              "    0.9477313997142531,\n",
              "    0.9506579178828147,\n",
              "    0.9536949364586842,\n",
              "    0.9529340432767949,\n",
              "    0.9537090252795075,\n",
              "    0.9557020057014659,\n",
              "    0.9544961389465123,\n",
              "    0.9509838363980317,\n",
              "    0.9513157832902982,\n",
              "    0.953284981699444]],\n",
              "  'hyperparams': {'C': 0.1,\n",
              "   'E': 5,\n",
              "   'K': 100,\n",
              "   'batch_size': 10,\n",
              "   'lr': 0.05,\n",
              "   'q': 0.001,\n",
              "   'rounds': 50,\n",
              "   'sampling': 'weighted'},\n",
              "  'test_accuracy': [[55.49,\n",
              "    62.19,\n",
              "    66.86,\n",
              "    70.44,\n",
              "    72.82,\n",
              "    75.97,\n",
              "    78.7,\n",
              "    81.25,\n",
              "    83.21,\n",
              "    84.0,\n",
              "    84.63,\n",
              "    85.86,\n",
              "    86.24,\n",
              "    87.29,\n",
              "    88.13,\n",
              "    88.73,\n",
              "    89.2,\n",
              "    89.06,\n",
              "    89.36,\n",
              "    89.93,\n",
              "    90.5,\n",
              "    91.23,\n",
              "    91.86,\n",
              "    91.95,\n",
              "    92.13,\n",
              "    92.28,\n",
              "    92.56,\n",
              "    92.89,\n",
              "    93.08,\n",
              "    93.35,\n",
              "    93.27,\n",
              "    93.58,\n",
              "    93.95,\n",
              "    94.17,\n",
              "    94.36,\n",
              "    94.58,\n",
              "    94.38,\n",
              "    94.6,\n",
              "    94.66,\n",
              "    94.84,\n",
              "    94.85,\n",
              "    95.13,\n",
              "    95.42,\n",
              "    95.35,\n",
              "    95.43,\n",
              "    95.62,\n",
              "    95.5,\n",
              "    95.16,\n",
              "    95.19,\n",
              "    95.38]],\n",
              "  'test_loss': [[1.9689415954589844,\n",
              "    1.302354454803467,\n",
              "    1.120368924331665,\n",
              "    1.0712615772247314,\n",
              "    1.0055898462295532,\n",
              "    0.8948829839706421,\n",
              "    0.8376639260292054,\n",
              "    0.776940149307251,\n",
              "    0.6961443181037903,\n",
              "    0.6361762921333313,\n",
              "    0.606647123670578,\n",
              "    0.554144731426239,\n",
              "    0.5207301386356353,\n",
              "    0.49231346073150634,\n",
              "    0.4496725627183914,\n",
              "    0.4187841581106186,\n",
              "    0.3775278206586838,\n",
              "    0.3752957359433174,\n",
              "    0.36150468022823334,\n",
              "    0.354440330517292,\n",
              "    0.32413541692495346,\n",
              "    0.2982116891205311,\n",
              "    0.2694329680025578,\n",
              "    0.2608351600691676,\n",
              "    0.2610510337218642,\n",
              "    0.25668116820007564,\n",
              "    0.2498777971342206,\n",
              "    0.22849653262346983,\n",
              "    0.22522202530279756,\n",
              "    0.21904325141981243,\n",
              "    0.2210455881424248,\n",
              "    0.21227908989302813,\n",
              "    0.20393979175947607,\n",
              "    0.19499596998523921,\n",
              "    0.1934853947315365,\n",
              "    0.1798302103497088,\n",
              "    0.18907132453471423,\n",
              "    0.18489681466380134,\n",
              "    0.18104542806250976,\n",
              "    0.17686824762336908,\n",
              "    0.17508340487536042,\n",
              "    0.16797870806669815,\n",
              "    0.15862945843725465,\n",
              "    0.15860198864913547,\n",
              "    0.1597897571620997,\n",
              "    0.1558305504632881,\n",
              "    0.16018058019131423,\n",
              "    0.16606450264137237,\n",
              "    0.1671127605881542,\n",
              "    0.15935473152957857]],\n",
              "  'train_loss': [[0.20855362970180233,\n",
              "    0.1075370160401535,\n",
              "    0.06802079258420463,\n",
              "    0.05645831395168477,\n",
              "    0.04449774604194545,\n",
              "    0.040490304031493146,\n",
              "    0.03305451861422075,\n",
              "    0.029057349489127766,\n",
              "    0.027496626911136496,\n",
              "    0.02452691760002051,\n",
              "    0.02460898029473694,\n",
              "    0.01846746550603784,\n",
              "    0.022377674091973856,\n",
              "    0.01405716250401296,\n",
              "    0.014097625615306456,\n",
              "    0.015336757926836492,\n",
              "    0.016201185160643415,\n",
              "    0.014005682355816123,\n",
              "    0.015959207470153967,\n",
              "    0.009392728628238398,\n",
              "    0.012665413097564023,\n",
              "    0.00823175100162261,\n",
              "    0.010615774428454372,\n",
              "    0.012277211372556279,\n",
              "    0.00672487003500844,\n",
              "    0.012540742045974232,\n",
              "    0.009218646946933588,\n",
              "    0.008134642523271979,\n",
              "    0.008282709953481059,\n",
              "    0.005948654878424659,\n",
              "    0.01303498000704452,\n",
              "    0.007397664245194249,\n",
              "    0.005050283414953385,\n",
              "    0.004675530666078111,\n",
              "    0.003933892906777177,\n",
              "    0.007412673069964367,\n",
              "    0.006999448040106065,\n",
              "    0.0032628759163753343,\n",
              "    0.005230230788766157,\n",
              "    0.003993940033246367,\n",
              "    0.005631655029461288,\n",
              "    0.0037284846588853484,\n",
              "    0.0018801275245516641,\n",
              "    0.007441654831235862,\n",
              "    0.001814777054429948,\n",
              "    0.0023157199305354295,\n",
              "    0.004204915069347676,\n",
              "    0.010575797101550214,\n",
              "    0.0019876133847676293,\n",
              "    0.006512242988386613]]},\n",
              " 'MNIST MLP on Non IID': {'f1_macro': [[0.6027323584811956,\n",
              "    0.6775404392963168,\n",
              "    0.7264590371105897,\n",
              "    0.7531007612482583,\n",
              "    0.7673550059615386,\n",
              "    0.7766563177573055,\n",
              "    0.7824022811720313,\n",
              "    0.7871532770869464,\n",
              "    0.7894119531443524,\n",
              "    0.7907906417449766,\n",
              "    0.7929857053426085,\n",
              "    0.7952339299692294,\n",
              "    0.7961270979881594,\n",
              "    0.7966027056914865,\n",
              "    0.7980548299979223,\n",
              "    0.7987609991496258,\n",
              "    0.8005597657694304,\n",
              "    0.7998979156416953,\n",
              "    0.8013374769138567,\n",
              "    0.8021271395645158,\n",
              "    0.8023767837695152,\n",
              "    0.8030502309349226,\n",
              "    0.8035131383618802,\n",
              "    0.803866865719581,\n",
              "    0.8039925814829013,\n",
              "    0.804149726548939,\n",
              "    0.8044452881547184,\n",
              "    0.80459435560431,\n",
              "    0.8050355971623082,\n",
              "    0.8053944298010689,\n",
              "    0.8059829071602967,\n",
              "    0.806264501964427,\n",
              "    0.8070354325778938,\n",
              "    0.8062926977170235,\n",
              "    0.807262405956702,\n",
              "    0.8072626509448767,\n",
              "    0.8079784295079258,\n",
              "    0.8082005515331568,\n",
              "    0.8086326601539724,\n",
              "    0.8087329810219007,\n",
              "    0.8084608786657386,\n",
              "    0.8085192429282417,\n",
              "    0.8083076535230005,\n",
              "    0.8081894275752152,\n",
              "    0.8083917039143923,\n",
              "    0.8092695505725477,\n",
              "    0.8086176571356036,\n",
              "    0.8091199784271259,\n",
              "    0.8089947258385592,\n",
              "    0.8091635095950995]],\n",
              "  'f1_weighted': [[0.5981447606795215,\n",
              "    0.6767685703444992,\n",
              "    0.7262059118014134,\n",
              "    0.7522966553940744,\n",
              "    0.7660697232258286,\n",
              "    0.7751315520275854,\n",
              "    0.7806385766227741,\n",
              "    0.7852027671418594,\n",
              "    0.7873909554270024,\n",
              "    0.7887599017471907,\n",
              "    0.7907281548867268,\n",
              "    0.7929468911156655,\n",
              "    0.7937851418110453,\n",
              "    0.7942748699171946,\n",
              "    0.7956761705149302,\n",
              "    0.7963460296475403,\n",
              "    0.7981270240358265,\n",
              "    0.7974484432653913,\n",
              "    0.7989181371230168,\n",
              "    0.7997011949005355,\n",
              "    0.7998583501529303,\n",
              "    0.8006249811593611,\n",
              "    0.8010372233356463,\n",
              "    0.8013993782465471,\n",
              "    0.8015478945705916,\n",
              "    0.8016768783407019,\n",
              "    0.8019743048382123,\n",
              "    0.8020906231762364,\n",
              "    0.8025198821242857,\n",
              "    0.8028840169296375,\n",
              "    0.8034782010350675,\n",
              "    0.8037492783342556,\n",
              "    0.8044891831829105,\n",
              "    0.8037509805876293,\n",
              "    0.8047019615532006,\n",
              "    0.8047266141116275,\n",
              "    0.8054068180899814,\n",
              "    0.8056587900258112,\n",
              "    0.806065814840889,\n",
              "    0.8062043731285619,\n",
              "    0.8058850751993942,\n",
              "    0.8059564549069976,\n",
              "    0.8057271578750598,\n",
              "    0.8056125714616335,\n",
              "    0.8058290340391124,\n",
              "    0.8066991593496259,\n",
              "    0.8060766823529846,\n",
              "    0.8065109940861009,\n",
              "    0.8064325875577704,\n",
              "    0.8065724329127301]],\n",
              "  'hyperparams': {'C': 0.1,\n",
              "   'E': 5,\n",
              "   'K': 100,\n",
              "   'batch_size': 10,\n",
              "   'lr': 0.05,\n",
              "   'q': 0.001,\n",
              "   'rounds': 50,\n",
              "   'sampling': 'weighted'},\n",
              "  'test_accuracy': [[61.69,\n",
              "    70.44,\n",
              "    76.18,\n",
              "    79.16,\n",
              "    80.68,\n",
              "    81.7,\n",
              "    82.32,\n",
              "    82.81,\n",
              "    83.06,\n",
              "    83.2,\n",
              "    83.44,\n",
              "    83.66,\n",
              "    83.73,\n",
              "    83.78,\n",
              "    83.94,\n",
              "    84.01,\n",
              "    84.16,\n",
              "    84.1,\n",
              "    84.28,\n",
              "    84.35,\n",
              "    84.36,\n",
              "    84.45,\n",
              "    84.51,\n",
              "    84.54,\n",
              "    84.54,\n",
              "    84.56,\n",
              "    84.59,\n",
              "    84.61,\n",
              "    84.66,\n",
              "    84.68,\n",
              "    84.75,\n",
              "    84.78,\n",
              "    84.86,\n",
              "    84.78,\n",
              "    84.86,\n",
              "    84.86,\n",
              "    84.94,\n",
              "    84.95,\n",
              "    85.0,\n",
              "    85.0,\n",
              "    84.98,\n",
              "    84.99,\n",
              "    84.97,\n",
              "    84.96,\n",
              "    84.98,\n",
              "    85.06,\n",
              "    85.0,\n",
              "    85.06,\n",
              "    85.05,\n",
              "    85.07]],\n",
              "  'test_loss': [[3.0723842460632325,\n",
              "    1.6848324337005616,\n",
              "    1.3360807249069213,\n",
              "    1.284307989692688,\n",
              "    1.3058676742553712,\n",
              "    1.3328467754364013,\n",
              "    1.3527365423202515,\n",
              "    1.3741094455718994,\n",
              "    1.3865688821792603,\n",
              "    1.4031441709518433,\n",
              "    1.4141532981872558,\n",
              "    1.4281319349288941,\n",
              "    1.4499855030059814,\n",
              "    1.4617378482818604,\n",
              "    1.4785948652267455,\n",
              "    1.4850806735992432,\n",
              "    1.4981447723388672,\n",
              "    1.513123869895935,\n",
              "    1.5179956192016602,\n",
              "    1.536679591369629,\n",
              "    1.5494215335845947,\n",
              "    1.5599015157699585,\n",
              "    1.564707908630371,\n",
              "    1.5808379650115967,\n",
              "    1.600592424583435,\n",
              "    1.6064240524291993,\n",
              "    1.6160453041076661,\n",
              "    1.6240591527938844,\n",
              "    1.6304520708084107,\n",
              "    1.6462869567871095,\n",
              "    1.6551769994735719,\n",
              "    1.666401783180237,\n",
              "    1.673624457359314,\n",
              "    1.6812492000579835,\n",
              "    1.700428960418701,\n",
              "    1.7064787836074828,\n",
              "    1.7115907373428345,\n",
              "    1.7217928853988647,\n",
              "    1.7315526767730713,\n",
              "    1.7450485584259032,\n",
              "    1.747058009338379,\n",
              "    1.7535663581848144,\n",
              "    1.7574405414581298,\n",
              "    1.7615333015441894,\n",
              "    1.7722538879394532,\n",
              "    1.7831653461456298,\n",
              "    1.7909657566070556,\n",
              "    1.794378903579712,\n",
              "    1.7987563549041747,\n",
              "    1.806737677383423]],\n",
              "  'train_loss': [[0.24847036962623076,\n",
              "    0.132066762451499,\n",
              "    0.09599375368337434,\n",
              "    0.0793022326724976,\n",
              "    0.0673166784652179,\n",
              "    0.057890599526130515,\n",
              "    0.05807179534895446,\n",
              "    0.051619389276278224,\n",
              "    0.05008867935741947,\n",
              "    0.04456919843442271,\n",
              "    0.04077548430324792,\n",
              "    0.03750438353180564,\n",
              "    0.03326480755347595,\n",
              "    0.029253454649326632,\n",
              "    0.025797976969557913,\n",
              "    0.026144974603365363,\n",
              "    0.026976676240202842,\n",
              "    0.020194000396262783,\n",
              "    0.020090459732813183,\n",
              "    0.019097228278441895,\n",
              "    0.019511899307891673,\n",
              "    0.018260138224175805,\n",
              "    0.014450651225485011,\n",
              "    0.01336049955175643,\n",
              "    0.015221974081856165,\n",
              "    0.016624969575939744,\n",
              "    0.010990426887323932,\n",
              "    0.012470654350157115,\n",
              "    0.011670617972559196,\n",
              "    0.010277779296383042,\n",
              "    0.006807988670116322,\n",
              "    0.010551350097436137,\n",
              "    0.008549969088325839,\n",
              "    0.009305756906527218,\n",
              "    0.0053848684708884455,\n",
              "    0.007275703995509597,\n",
              "    0.007448140632290612,\n",
              "    0.004183248156018877,\n",
              "    0.004914802253265276,\n",
              "    0.0046692508156135305,\n",
              "    0.00454548153100954,\n",
              "    0.005956634844231583,\n",
              "    0.005682864828886664,\n",
              "    0.00541840694667599,\n",
              "    0.0036051226175103654,\n",
              "    0.004088923527164283,\n",
              "    0.0028405009857601217,\n",
              "    0.00304359846188907,\n",
              "    0.005616471174484833,\n",
              "    0.0026860662218252435]]}}"
            ]
          },
          "metadata": {
            "tags": []
          },
          "execution_count": 34
        }
      ]
    },
    {
      "cell_type": "code",
      "metadata": {
        "id": "WvspM-_WNESI"
      },
      "source": [
        "import pickle\n",
        "\n",
        "with open(path + 'qFedAvg_5shards.pkl', 'rb') as file:\n",
        "  log_dict = pickle.load(file)"
      ],
      "execution_count": 35,
      "outputs": []
    },
    {
      "cell_type": "code",
      "metadata": {
        "id": "se_04JMaVJPg"
      },
      "source": [
        "print([test_acc[-1] for test_acc in log_dict['MNIST CNN on IID']['test_accuracy']])"
      ],
      "execution_count": null,
      "outputs": []
    },
    {
      "cell_type": "code",
      "metadata": {
        "id": "5sv0rv-G4Sqa",
        "colab": {
          "base_uri": "https://localhost:8080/"
        },
        "outputId": "72fef249-5e18-4d73-a171-4cafdc9db671"
      },
      "source": [
        "print([test_acc[-1] for test_acc in log_dict['MNIST CNN on Non IID']['test_accuracy']])"
      ],
      "execution_count": 37,
      "outputs": [
        {
          "output_type": "stream",
          "text": [
            "[95.38]\n"
          ],
          "name": "stdout"
        }
      ]
    },
    {
      "cell_type": "code",
      "metadata": {
        "id": "b2a2_Az-4nal"
      },
      "source": [
        "print([test_acc[-1] for test_acc in log_dict['MNIST MLP on IID']['test_accuracy']])"
      ],
      "execution_count": null,
      "outputs": []
    },
    {
      "cell_type": "code",
      "metadata": {
        "id": "YoRqZyvD4p2K",
        "colab": {
          "base_uri": "https://localhost:8080/"
        },
        "outputId": "fab59a55-458c-4d40-95ff-3fa7306cf6d0"
      },
      "source": [
        "print([test_acc[-1] for test_acc in log_dict['MNIST MLP on Non IID']['test_accuracy']])"
      ],
      "execution_count": 39,
      "outputs": [
        {
          "output_type": "stream",
          "text": [
            "[85.07]\n"
          ],
          "name": "stdout"
        }
      ]
    },
    {
      "cell_type": "code",
      "metadata": {
        "id": "B87eGKJnAHIh",
        "colab": {
          "base_uri": "https://localhost:8080/"
        },
        "outputId": "d718604b-bff5-46dc-95c3-4b22f010cc4b"
      },
      "source": [
        "output.show()"
      ],
      "execution_count": 40,
      "outputs": [
        {
          "output_type": "stream",
          "text": [
            "Mounted at /content/drive\n"
          ],
          "name": "stdout"
        }
      ]
    },
    {
      "cell_type": "code",
      "metadata": {
        "id": "yymrwAyqNESK"
      },
      "source": [
        ""
      ],
      "execution_count": null,
      "outputs": []
    }
  ]
}