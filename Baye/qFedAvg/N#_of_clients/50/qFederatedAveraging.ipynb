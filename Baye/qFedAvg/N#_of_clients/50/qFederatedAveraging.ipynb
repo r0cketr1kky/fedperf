{
  "nbformat": 4,
  "nbformat_minor": 0,
  "metadata": {
    "accelerator": "GPU",
    "colab": {
      "name": "qFederatedAveraging.ipynb",
      "provenance": [],
      "collapsed_sections": [],
      "machine_shape": "hm"
    },
    "kernelspec": {
      "name": "python3",
      "display_name": "Python 3"
    },
    "language_info": {
      "name": "python"
    }
  },
  "cells": [
    {
      "cell_type": "markdown",
      "metadata": {
        "id": "view-in-github"
      },
      "source": [
        "<a href=\"https://colab.research.google.com/github/tushar-semwal/fedperf/blob/main/Vineeth/Local_Rounds/qFedAvg/qFederatedAveraging.ipynb\" target=\"_parent\"><img src=\"https://colab.research.google.com/assets/colab-badge.svg\" alt=\"Open In Colab\"/></a>"
      ]
    },
    {
      "cell_type": "code",
      "metadata": {
        "id": "yKcpjZLrQQJV"
      },
      "source": [
        "%%capture output\n",
        "try:\n",
        "    from google.colab import drive\n",
        "    drive.mount('/content/drive')\n",
        "\n",
        "    import os\n",
        "    path = '/content/drive/MyDrive/Colab Notebooks/OpenMined/'\n",
        "    os.makedirs(path, exist_ok=True)\n",
        "except:\n",
        "    path = './'"
      ],
      "execution_count": 109,
      "outputs": []
    },
    {
      "cell_type": "markdown",
      "metadata": {
        "id": "-0_nKpfq2h1R"
      },
      "source": [
        "## Imports"
      ]
    },
    {
      "cell_type": "code",
      "metadata": {
        "colab": {
          "base_uri": "https://localhost:8080/"
        },
        "id": "DLLNM9X2JbQ8",
        "outputId": "932b4ed7-9a34-43d4-d807-c183b43d2efd"
      },
      "source": [
        "%load_ext tensorboard\n",
        "import os\n",
        "import numpy as np\n",
        "import matplotlib\n",
        "import matplotlib.pyplot as plt\n",
        "import copy\n",
        "import random\n",
        "import time\n",
        "\n",
        "import torch\n",
        "import torch.nn as nn\n",
        "import torch.nn.functional as F\n",
        "\n",
        "from torch.utils.data import Dataset, DataLoader\n",
        "from torch.utils.tensorboard import SummaryWriter\n",
        "from torchvision import transforms, utils, datasets\n",
        "from torchsummary import summary\n",
        "from sklearn.metrics import f1_score\n",
        "\n",
        "# Check assigned GPU\n",
        "gpu_info = !nvidia-smi\n",
        "gpu_info = '\\n'.join(gpu_info)\n",
        "if gpu_info.find('failed') >= 0:\n",
        "  print('Select the Runtime > \"Change runtime type\" menu to enable a GPU accelerator, ')\n",
        "  print('and then re-execute this cell.')\n",
        "else:\n",
        "  print(gpu_info)\n",
        "\n",
        "# set manual seed for reproducibility\n",
        "seed = 42\n",
        "\n",
        "# general reproducibility\n",
        "random.seed(seed)\n",
        "np.random.seed(seed)\n",
        "torch.manual_seed(seed)\n",
        "\n",
        "# gpu training specific\n",
        "torch.backends.cudnn.deterministic = True\n",
        "torch.backends.cudnn.benchmark = False"
      ],
      "execution_count": 110,
      "outputs": [
        {
          "output_type": "stream",
          "text": [
            "The tensorboard extension is already loaded. To reload it, use:\n",
            "  %reload_ext tensorboard\n",
            "Sat Apr 24 13:30:10 2021       \n",
            "+-----------------------------------------------------------------------------+\n",
            "| NVIDIA-SMI 465.19.01    Driver Version: 460.32.03    CUDA Version: 11.2     |\n",
            "|-------------------------------+----------------------+----------------------+\n",
            "| GPU  Name        Persistence-M| Bus-Id        Disp.A | Volatile Uncorr. ECC |\n",
            "| Fan  Temp  Perf  Pwr:Usage/Cap|         Memory-Usage | GPU-Util  Compute M. |\n",
            "|                               |                      |               MIG M. |\n",
            "|===============================+======================+======================|\n",
            "|   0  Tesla T4            Off  | 00000000:00:04.0 Off |                    0 |\n",
            "| N/A   77C    P0    35W /  70W |   1286MiB / 15109MiB |      0%      Default |\n",
            "|                               |                      |                  N/A |\n",
            "+-------------------------------+----------------------+----------------------+\n",
            "                                                                               \n",
            "+-----------------------------------------------------------------------------+\n",
            "| Processes:                                                                  |\n",
            "|  GPU   GI   CI        PID   Type   Process name                  GPU Memory |\n",
            "|        ID   ID                                                   Usage      |\n",
            "|=============================================================================|\n",
            "+-----------------------------------------------------------------------------+\n"
          ],
          "name": "stdout"
        }
      ]
    },
    {
      "cell_type": "markdown",
      "metadata": {
        "id": "NY4eWzGiL6Mj"
      },
      "source": [
        "## Load the MNIST Dataset"
      ]
    },
    {
      "cell_type": "code",
      "metadata": {
        "id": "d8maYlW3RYtj"
      },
      "source": [
        "torch.cuda.set_device('cuda:0')"
      ],
      "execution_count": 111,
      "outputs": []
    },
    {
      "cell_type": "code",
      "metadata": {
        "id": "G649tjTXLL8F"
      },
      "source": [
        "# create transforms\n",
        "# We will just convert to tensor and normalize since no special transforms are mentioned in the paper\n",
        "transforms_mnist = transforms.Compose([\n",
        "                                       transforms.ToTensor(),\n",
        "                                       transforms.Normalize((0.1307,), (0.3081,))\n",
        "                                       ])\n",
        "\n",
        "mnist_data_train = datasets.MNIST('./data/mnist/', train=True, download=True, transform=transforms_mnist)\n",
        "mnist_data_test = datasets.MNIST('../data/mnist/', train=False, download=True, transform=transforms_mnist)"
      ],
      "execution_count": 112,
      "outputs": []
    },
    {
      "cell_type": "code",
      "metadata": {
        "colab": {
          "base_uri": "https://localhost:8080/"
        },
        "id": "dm9usjn2vFkL",
        "outputId": "2ef8a612-1006-4162-f07c-08b64ac370ad"
      },
      "source": [
        "classes = np.array(list(mnist_data_train.class_to_idx.values()))\n",
        "classes_test = np.array(list(mnist_data_test.class_to_idx.values()))\n",
        "num_classes = len(classes_test)\n",
        "print(\"Classes: {} \\tType: {}\".format(classes, type(classes)))\n",
        "print(\"Classes Test: {} \\tType: {}\".format(classes_test, type(classes)))\n"
      ],
      "execution_count": 113,
      "outputs": [
        {
          "output_type": "stream",
          "text": [
            "Classes: [0 1 2 3 4 5 6 7 8 9] \tType: <class 'numpy.ndarray'>\n",
            "Classes Test: [0 1 2 3 4 5 6 7 8 9] \tType: <class 'numpy.ndarray'>\n"
          ],
          "name": "stdout"
        }
      ]
    },
    {
      "cell_type": "code",
      "metadata": {
        "colab": {
          "base_uri": "https://localhost:8080/"
        },
        "id": "9lvJt3Ofv2SO",
        "outputId": "40c32037-54b3-45b5-a088-cca082fe7408"
      },
      "source": [
        "print(\"Image Shape: {}\".format(mnist_data_train.data[0].size()))"
      ],
      "execution_count": 114,
      "outputs": [
        {
          "output_type": "stream",
          "text": [
            "Image Shape: torch.Size([28, 28])\n"
          ],
          "name": "stdout"
        }
      ]
    },
    {
      "cell_type": "markdown",
      "metadata": {
        "id": "jCOONkg-zV7Y"
      },
      "source": [
        "## Visualize Data"
      ]
    },
    {
      "cell_type": "code",
      "metadata": {
        "id": "R9MK03TZw6Qs"
      },
      "source": [
        "def imshow(img):\n",
        "\timg = img/2 + 0.5 #unnormalize the image\n",
        "\tplt.imshow(img, cmap='gray') # convert from tensor to image"
      ],
      "execution_count": 115,
      "outputs": []
    },
    {
      "cell_type": "code",
      "metadata": {
        "id": "gMJ0Kx4Kw-_H"
      },
      "source": [
        "def visualize(dataset):\n",
        "  figure = plt.figure(figsize=(25,4))\n",
        "  for i in range(20):\n",
        "    axis = figure.add_subplot(2, 20/2, i+1, xticks=[], yticks=[])\n",
        "    data = dataset.data[i]\n",
        "    data = data.numpy()\n",
        "\n",
        "    target = dataset.targets[i]\n",
        "    target = target.numpy()\n",
        "    imshow(data)\n",
        "    axis.set_title(target)\n"
      ],
      "execution_count": 116,
      "outputs": []
    },
    {
      "cell_type": "code",
      "metadata": {
        "colab": {
          "base_uri": "https://localhost:8080/",
          "height": 130
        },
        "id": "8bPOwKg10Ro7",
        "outputId": "b47a7e76-c7c9-4f8c-cf2f-0ad6ce4de9d0"
      },
      "source": [
        "visualize(mnist_data_train)"
      ],
      "execution_count": 117,
      "outputs": [
        {
          "output_type": "display_data",
          "data": {
            "image/png": "[encoded data removed]",
            "text/plain": [
              "<Figure size 1800x288 with 20 Axes>"
            ]
          },
          "metadata": {
            "tags": []
          }
        }
      ]
    },
    {
      "cell_type": "code",
      "metadata": {
        "colab": {
          "base_uri": "https://localhost:8080/",
          "height": 130
        },
        "id": "RKoh5Cf70UYu",
        "outputId": "bfb7e8ca-e97f-49d0-e945-6cd2423926ac"
      },
      "source": [
        "visualize(mnist_data_test)"
      ],
      "execution_count": 118,
      "outputs": [
        {
          "output_type": "display_data",
          "data": {
            "image/png": "[encoded data removed]",
            "text/plain": [
              "<Figure size 1800x288 with 20 Axes>"
            ]
          },
          "metadata": {
            "tags": []
          }
        }
      ]
    },
    {
      "cell_type": "markdown",
      "metadata": {
        "id": "ctjRsETiO1qO"
      },
      "source": [
        "## Partitioning the Data (IID and non-IID)"
      ]
    },
    {
      "cell_type": "code",
      "metadata": {
        "id": "3_v8lyrgO5dD"
      },
      "source": [
        "def iid_partition(dataset, clients):\n",
        "  \"\"\"\n",
        "  I.I.D paritioning of data over clients\n",
        "  Shuffle the data\n",
        "  Split it between clients\n",
        "  \n",
        "  params:\n",
        "    - dataset (torch.utils.Dataset): Dataset containing the MNIST Images\n",
        "    - clients (int): Number of Clients to split the data between\n",
        "\n",
        "  returns:\n",
        "    - Dictionary of image indexes for each client\n",
        "  \"\"\"\n",
        "\n",
        "  num_items_per_client = int(len(dataset)/clients)\n",
        "  client_dict = {}\n",
        "  image_idxs = [i for i in range(len(dataset))]\n",
        "\n",
        "  for i in range(clients):\n",
        "    client_dict[i] = set(np.random.choice(image_idxs, num_items_per_client, replace=False))\n",
        "    image_idxs = list(set(image_idxs) - client_dict[i])\n",
        "\n",
        "  return client_dict"
      ],
      "execution_count": 119,
      "outputs": []
    },
    {
      "cell_type": "code",
      "metadata": {
        "id": "4zMdliGMQoSl"
      },
      "source": [
        "def non_iid_partition(dataset, clients, total_shards, shards_size, num_shards_per_client):\n",
        "  \"\"\"\n",
        "  non I.I.D parititioning of data over clients\n",
        "  Sort the data by the digit label\n",
        "  Divide the data into N shards of size S\n",
        "  Each of the clients will get X shards\n",
        "\n",
        "  params:\n",
        "    - dataset (torch.utils.Dataset): Dataset containing the MNIST Images\n",
        "    - clients (int): Number of Clients to split the data between\n",
        "    - total_shards (int): Number of shards to partition the data in\n",
        "    - shards_size (int): Size of each shard \n",
        "    - num_shards_per_client (int): Number of shards of size shards_size that each client receives\n",
        "\n",
        "  returns:\n",
        "    - Dictionary of image indexes for each client\n",
        "  \"\"\"\n",
        "  \n",
        "  shard_idxs = [i for i in range(total_shards)]\n",
        "  client_dict = {i: np.array([], dtype='int64') for i in range(clients)}\n",
        "  idxs = np.arange(len(dataset))\n",
        "  data_labels = dataset.targets.numpy()\n",
        "\n",
        "  # sort the labels\n",
        "  label_idxs = np.vstack((idxs, data_labels))\n",
        "  label_idxs = label_idxs[:, label_idxs[1,:].argsort()]\n",
        "  idxs = label_idxs[0,:]\n",
        "\n",
        "  # divide the data into total_shards of size shards_size\n",
        "  # assign num_shards_per_client to each client\n",
        "  for i in range(clients):\n",
        "    rand_set = set(np.random.choice(shard_idxs, num_shards_per_client, replace=False))\n",
        "    shard_idxs = list(set(shard_idxs) - rand_set)\n",
        "\n",
        "    for rand in rand_set:\n",
        "      client_dict[i] = np.concatenate((client_dict[i], idxs[rand*shards_size:(rand+1)*shards_size]), axis=0)\n",
        "  \n",
        "  return client_dict\n"
      ],
      "execution_count": 120,
      "outputs": []
    },
    {
      "cell_type": "markdown",
      "metadata": {
        "id": "PTfxv8kFoGAy"
      },
      "source": [
        "## Models"
      ]
    },
    {
      "cell_type": "code",
      "metadata": {
        "id": "CvoDNFKbZST5"
      },
      "source": [
        "class MNIST_2NN(nn.Module):\n",
        "  \"\"\"\n",
        "  A simple multilayer-perceptron with 2-hidden layers with 200 units each\n",
        "  using ReLu activations\n",
        "\n",
        "  Total Expected Params: 199,210\n",
        "  \"\"\"\n",
        "  def __init__(self):\n",
        "    super(MNIST_2NN, self).__init__()\n",
        "\n",
        "    self.fc1 = nn.Linear(28*28, 200)\n",
        "    self.fc2 = nn.Linear(200, 200)\n",
        "    self.fc3 = nn.Linear(200, 10)\n",
        "\n",
        "  def forward(self, x):\n",
        "    x = torch.flatten(x, 1)\n",
        "    x = F.relu(self.fc1(x))\n",
        "    x = F.relu(self.fc2(x))\n",
        "    out = self.fc3(x)\n",
        "\n",
        "    return x"
      ],
      "execution_count": 121,
      "outputs": []
    },
    {
      "cell_type": "code",
      "metadata": {
        "id": "ut1hZ8x3qYPZ"
      },
      "source": [
        "class MNIST_CNN(nn.Module):\n",
        "  \"\"\"\n",
        "  CNN with two 5x5 convolution lauers(the first with 32 channels, second with 64,\n",
        "  each followed with 2x2 max pooling), a fully connected layer with 512 uunits and \n",
        "  ReLu activation, and the final Softmax output layer\n",
        "\n",
        "  Total Expected Params: 1,663,370\n",
        "  \"\"\"\n",
        "  def __init__(self):\n",
        "    super(MNIST_CNN, self).__init__()\n",
        "\n",
        "    self.conv1 = nn.Conv2d(1, 32, kernel_size=5)\n",
        "    self.conv2 = nn.Conv2d(32, 64, kernel_size=5)\n",
        "    \n",
        "    self.pool = nn.MaxPool2d(2,2)\n",
        "    self.dropout = nn.Dropout(p=0.2)\n",
        "\n",
        "    self.fc1 = nn.Linear(1024, 512)\n",
        "    self.out = nn.Linear(512, 10)\n",
        "\n",
        "  def forward(self, x):\n",
        "    x = self.pool(F.relu(self.conv1(x)))\n",
        "    x = self.pool(F.relu(self.conv2(x)))\n",
        "    x = self.dropout(x)\n",
        "    x = torch.flatten(x, 1)\n",
        "    x = F.relu(self.fc1(x))\n",
        "    x = self.out(x)\n",
        "    out = F.log_softmax(x, dim=1)\n",
        "\n",
        "    return out"
      ],
      "execution_count": 122,
      "outputs": []
    },
    {
      "cell_type": "markdown",
      "metadata": {
        "id": "uVv4HA9HuLtr"
      },
      "source": [
        "### Print Model Summaries"
      ]
    },
    {
      "cell_type": "code",
      "metadata": {
        "colab": {
          "base_uri": "https://localhost:8080/"
        },
        "id": "I5oTH710sJEt",
        "outputId": "ad34db09-cac9-4c6c-a45c-cc3f2b9eeb62"
      },
      "source": [
        "mnist_mlp = MNIST_2NN()\n",
        "mnist_cnn = MNIST_CNN()\n",
        "\n",
        "if torch.cuda.is_available():\n",
        "  mnist_mlp.cuda()\n",
        "  mnist_cnn.cuda()\n",
        "\n",
        "print(\"MNIST MLP SUMMARY\")\n",
        "print(summary(mnist_mlp, (28,28)))\n",
        "\n",
        "print(\"\\nMNIST CNN SUMMARY\")\n",
        "print(summary(mnist_cnn, (1, 28,28)))"
      ],
      "execution_count": 123,
      "outputs": [
        {
          "output_type": "stream",
          "text": [
            "MNIST MLP SUMMARY\n",
            "----------------------------------------------------------------\n",
            "        Layer (type)               Output Shape         Param #\n",
            "================================================================\n",
            "            Linear-1                  [-1, 200]         157,000\n",
            "            Linear-2                  [-1, 200]          40,200\n",
            "            Linear-3                   [-1, 10]           2,010\n",
            "================================================================\n",
            "Total params: 199,210\n",
            "Trainable params: 199,210\n",
            "Non-trainable params: 0\n",
            "----------------------------------------------------------------\n",
            "Input size (MB): 0.00\n",
            "Forward/backward pass size (MB): 0.00\n",
            "Params size (MB): 0.76\n",
            "Estimated Total Size (MB): 0.77\n",
            "----------------------------------------------------------------\n",
            "None\n",
            "\n",
            "MNIST CNN SUMMARY\n",
            "----------------------------------------------------------------\n",
            "        Layer (type)               Output Shape         Param #\n",
            "================================================================\n",
            "            Conv2d-1           [-1, 32, 24, 24]             832\n",
            "         MaxPool2d-2           [-1, 32, 12, 12]               0\n",
            "            Conv2d-3             [-1, 64, 8, 8]          51,264\n",
            "         MaxPool2d-4             [-1, 64, 4, 4]               0\n",
            "           Dropout-5             [-1, 64, 4, 4]               0\n",
            "            Linear-6                  [-1, 512]         524,800\n",
            "            Linear-7                   [-1, 10]           5,130\n",
            "================================================================\n",
            "Total params: 582,026\n",
            "Trainable params: 582,026\n",
            "Non-trainable params: 0\n",
            "----------------------------------------------------------------\n",
            "Input size (MB): 0.00\n",
            "Forward/backward pass size (MB): 0.23\n",
            "Params size (MB): 2.22\n",
            "Estimated Total Size (MB): 2.45\n",
            "----------------------------------------------------------------\n",
            "None\n"
          ],
          "name": "stdout"
        }
      ]
    },
    {
      "cell_type": "markdown",
      "metadata": {
        "id": "gf_8XEXa-gZ7"
      },
      "source": [
        "## q Federated Averaging"
      ]
    },
    {
      "cell_type": "markdown",
      "metadata": {
        "id": "L-aNdQsQ-Kvp"
      },
      "source": [
        "### Local Training (Client Update)\n",
        "\n",
        "Local training for the model on client side"
      ]
    },
    {
      "cell_type": "code",
      "metadata": {
        "id": "oX6OsQyO-Gz7"
      },
      "source": [
        "class CustomDataset(Dataset):\n",
        "  def __init__(self, dataset, idxs):\n",
        "      self.dataset = dataset\n",
        "      self.idxs = list(idxs)\n",
        "\n",
        "  def __len__(self):\n",
        "      return len(self.idxs)\n",
        "\n",
        "  def __getitem__(self, item):\n",
        "      image, label = self.dataset[self.idxs[item]]\n",
        "      return image, label\n",
        "\n",
        "\n",
        "class ClientUpdate(object):\n",
        "  def __init__(self, dataset, batch_size, learning_rate, epochs, idxs, q=None):\n",
        "    if hasattr(dataset, 'dataloader'):\n",
        "        self.train_loader = dataset.dataloader(batch_size=batch_size, shuffle=True)\n",
        "    else:\n",
        "        self.train_loader = DataLoader(CustomDataset(dataset, idxs), batch_size=batch_size, shuffle=True)\n",
        "\n",
        "    self.learning_rate = learning_rate\n",
        "    self.epochs = epochs\n",
        "    self.q = q\n",
        "    if not self.q:\n",
        "        # TODO: Client itself adjust fairness \n",
        "        pass\n",
        "    self.mu = 1e-10\n",
        "\n",
        "  def train(self, model):\n",
        "    criterion = nn.CrossEntropyLoss()\n",
        "    optimizer = torch.optim.SGD(model.parameters(), lr=self.learning_rate, momentum=0.5)\n",
        "\n",
        "    e_loss = []\n",
        "\n",
        "    model_weights = copy.deepcopy(model.state_dict())\n",
        "    for epoch in range(1, self.epochs+1):\n",
        "\n",
        "      train_loss = 0.0\n",
        "\n",
        "      model.train()\n",
        "      # for data, labels in tqdm(self.train_loader):\n",
        "      for data, labels in self.train_loader:\n",
        "\n",
        "        if torch.cuda.is_available():\n",
        "          data, labels = data.cuda(), labels.cuda()\n",
        "\n",
        "        # clear the gradients\n",
        "        optimizer.zero_grad()\n",
        "        # make a forward pass\n",
        "        output = model(data)\n",
        "        # calculate the loss\n",
        "        loss = criterion(output, labels)\n",
        "        # do a backwards pass\n",
        "        loss.backward()\n",
        "        # perform a single optimization step\n",
        "        optimizer.step()\n",
        "        # update training loss\n",
        "        train_loss += loss.item()*data.size(0)\n",
        "\n",
        "      # average losses\n",
        "      train_loss = train_loss/len(self.train_loader.dataset)\n",
        "      e_loss.append(train_loss)\n",
        "\n",
        "\n",
        "    total_loss = sum(e_loss)/len(e_loss)\n",
        "\n",
        "    # delta weights\n",
        "    model_weights_new = copy.deepcopy(model.state_dict())\n",
        "    L = 1.0 / self.learning_rate\n",
        "\n",
        "    delta_weights, delta, h = {}, {}, {}\n",
        "    loss_q = np.float_power(total_loss + self.mu, self.q)\n",
        "    # updating the global weights\n",
        "    for k in model_weights_new.keys():\n",
        "      delta_weights[k] = (model_weights[k] - model_weights_new[k]) * L\n",
        "      delta[k] =  loss_q * delta_weights[k]\n",
        "      # Estimation of the local Lipchitz constant\n",
        "      h[k] = (self.q * np.float_power(total_loss + self.mu, self.q - 1) * torch.pow(torch.norm(delta_weights[k]), 2)) + (L * loss_q)\n",
        "\n",
        "    return delta, h, total_loss"
      ],
      "execution_count": 124,
      "outputs": []
    },
    {
      "cell_type": "markdown",
      "metadata": {
        "id": "Ukgh1DVHE2Ds"
      },
      "source": [
        "### Server Side Training\n"
      ]
    },
    {
      "cell_type": "code",
      "metadata": {
        "id": "vIHBbaX18k0j"
      },
      "source": [
        "def client_sampling(n, m, weights=None, with_replace=False):\n",
        "    pk = None\n",
        "    if weights:\n",
        "        total_weights = np.sum(np.asarray(weights))\n",
        "        pk = [w * 1.0 / total_weights for w in weights]\n",
        "\n",
        "    return np.random.choice(range(n), m, replace=with_replace, p=pk)"
      ],
      "execution_count": 125,
      "outputs": []
    },
    {
      "cell_type": "code",
      "metadata": {
        "id": "1NF1e33BgpeL"
      },
      "source": [
        "def training(model, rounds, batch_size, lr, ds, ds_test, data_dict, C, K, E, q, sampling, plt_title, plt_color):\n",
        "  \"\"\"\n",
        "  Function implements the Federated Averaging Algorithm from the FedAvg paper.\n",
        "  Specifically, this function is used for the server side training and weight update\n",
        "\n",
        "  Params:\n",
        "    - model:           PyTorch model to train\n",
        "    - rounds:          Number of communication rounds for the client update\n",
        "    - batch_size:      Batch size for client update training\n",
        "    - lr:              Learning rate used for client update training\n",
        "    - ds:              Dataset used for training\n",
        "    - ds_test:         Dataset used for testing\n",
        "    - data_dict:       Type of data partition used for training (IID or non-IID)\n",
        "    - C:               Fraction of clients randomly chosen to perform computation on each round\n",
        "    - K:               Total number of clients\n",
        "    - E:               Number of training passes each client makes over its local dataset per round\n",
        "    - tb_writer_name:  Directory name to save the tensorboard logs\n",
        "  Returns:\n",
        "    - model:           Trained model on the server\n",
        "  \"\"\"\n",
        "\n",
        "  # global model weights\n",
        "  global_weights = model.state_dict()\n",
        "\n",
        "  # training loss\n",
        "  # train_accuracy = []\n",
        "  train_loss = []\n",
        "  test_accuracy = []\n",
        "  test_loss = []\n",
        "  f1_macro = []\n",
        "  f1_weighted = []\n",
        "\n",
        "  # client weights by total samples\n",
        "  p_k = None\n",
        "  if sampling == 'weighted':\n",
        "    p_k = [len(data_dict[c]) for c in data_dict] if ds else [len(data_dict[c]['train_ds']) for c in data_dict]\n",
        "\n",
        "  # Time log\n",
        "  start_time = time.time()\n",
        "\n",
        "  users_id = list(data_dict.keys())\n",
        "\n",
        "  for curr_round in range(1, rounds+1):\n",
        "    deltas, hs, local_loss = [], [], []\n",
        "\n",
        "    m = max(int(C*K), 1)    \n",
        "    S_t = client_sampling(K, m, weights=p_k, with_replace=False)\n",
        "\n",
        "    print('Round: {} Picking {}/{} clients: {}'.format(curr_round, m, K, S_t))\n",
        "\n",
        "    global_weights = model.state_dict()\n",
        "\n",
        "    for k in range(len(S_t)):\n",
        "      key = users_id[k]\n",
        "      ds_ = ds if ds else data_dict[key]['train_ds']\n",
        "      idxs = data_dict[key] if ds else None\n",
        "      local_update = ClientUpdate(dataset=ds_, batch_size=batch_size, learning_rate=lr, epochs=E, idxs=idxs, q=q)\n",
        "      delta_k, h_k, loss = local_update.train(model=copy.deepcopy(model))\n",
        "\n",
        "      deltas.append(copy.deepcopy(delta_k))\n",
        "      hs.append(copy.deepcopy(h_k))\n",
        "      local_loss.append(copy.deepcopy(loss))\n",
        "\n",
        "    # Perform qFedAvg\n",
        "    h_sum = copy.deepcopy(hs[0])\n",
        "    delta_sum = copy.deepcopy(deltas[0])\n",
        "    \n",
        "    for k in h_sum.keys():\n",
        "        for i in range(1, len(hs)):\n",
        "            h_sum[k] += hs[i][k]\n",
        "            delta_sum[k] += deltas[i][k]\n",
        "\n",
        "    new_weights = {}\n",
        "    for k in delta_sum.keys():\n",
        "        for i in range(len(deltas)):\n",
        "            new_weights[k] = delta_sum[k] / h_sum[k]\n",
        "\n",
        "    # Updating global model weights\n",
        "    for k in global_weights.keys():\n",
        "        global_weights[k] -= new_weights[k]\n",
        "\n",
        "    # move the updated weights to our model state dict\n",
        "    model.load_state_dict(global_weights)\n",
        "\n",
        "    # loss\n",
        "    loss_avg = sum(local_loss) / len(local_loss)\n",
        "    print('Round: {}... \\tAverage Loss: {}'.format(curr_round, round(loss_avg, 3)))\n",
        "    train_loss.append(loss_avg)\n",
        "\n",
        "    # test\n",
        "    test_criterion = nn.CrossEntropyLoss()\n",
        "    test_accuracy_current, test_loss_current, f1_macro_current, f1_weighted_current =  testing(copy.deepcopy(model), ds_test, 128, test_criterion, num_classes, classes_test)\n",
        "    test_accuracy.append(test_accuracy_current)\n",
        "    test_loss.append(test_loss_current)\n",
        "    f1_macro.append(f1_macro_current)\n",
        "    f1_weighted.append(f1_weighted_current)\n",
        "\n",
        "  end_time = time.time()\n",
        "  \n",
        "  fig, ax = plt.subplots()\n",
        "  x_axis = np.arange(1, rounds+1)\n",
        "  y_axis = np.array(train_loss)\n",
        "  ax.plot(x_axis, y_axis, 'tab:'+plt_color)\n",
        "\n",
        "  ax.set(xlabel='Number of Rounds', ylabel='Train Loss',\n",
        "       title=plt_title)\n",
        "  ax.grid()\n",
        "  fig.savefig(plt_title+'_Train_loss.jpg', format='jpg')\n",
        "  plt.show()\n",
        "\n",
        "  fig, ax = plt.subplots()\n",
        "  x_axis = np.arange(1, rounds+1)\n",
        "  y_axis = np.array(test_loss)\n",
        "  ax.plot(x_axis, y_axis, 'tab:'+plt_color)\n",
        "\n",
        "  ax.set(xlabel='Number of Rounds', ylabel='Test Loss',\n",
        "       title=plt_title)\n",
        "  ax.grid()\n",
        "  fig.savefig(plt_title+'_Test_loss.jpg', format='jpg')\n",
        "  plt.show()\n",
        "\n",
        "  fig, ax = plt.subplots()\n",
        "  x_axis = np.arange(1, rounds+1)\n",
        "  y_axis = np.array(test_accuracy)\n",
        "  ax.plot(x_axis, y_axis, 'tab:'+plt_color)\n",
        "\n",
        "  ax.set(xlabel='Number of Rounds', ylabel='Test Accuracy',\n",
        "       title=plt_title)\n",
        "  ax.grid()\n",
        "  fig.savefig(plt_title+'_Test_Accuracy.jpg', format='jpg')\n",
        "  plt.show()\n",
        "\n",
        "  fig, ax = plt.subplots()\n",
        "  x_axis = np.arange(1, rounds+1)\n",
        "  y_axis = np.array(f1_macro)\n",
        "  ax.plot(x_axis, y_axis, 'tab:'+plt_color)\n",
        "\n",
        "  ax.set(xlabel='Number of Rounds', ylabel='F1 Macro',\n",
        "       title=plt_title)\n",
        "  ax.grid()\n",
        "  fig.savefig(plt_title+'_F1_Marco.jpg', format='jpg')\n",
        "  plt.show()\n",
        "\n",
        "  fig, ax = plt.subplots()\n",
        "  x_axis = np.arange(1, rounds+1)\n",
        "  y_axis = np.array(f1_weighted)\n",
        "  ax.plot(x_axis, y_axis, 'tab:'+plt_color)\n",
        "\n",
        "  ax.set(xlabel='Number of Rounds', ylabel='F1 Weighted',\n",
        "       title=plt_title)\n",
        "  ax.grid()\n",
        "  fig.savefig(plt_title+'_F1_Weighted.jpg', format='jpg')\n",
        "  plt.show()\n",
        "\n",
        "  print(\"Training Done!\")\n",
        "  print(\"Total time taken to Train: {}\\n\\n\".format(end_time-start_time))\n",
        "  \n",
        "  return model, train_loss, test_accuracy, test_loss, f1_macro, f1_weighted"
      ],
      "execution_count": 126,
      "outputs": []
    },
    {
      "cell_type": "markdown",
      "metadata": {
        "id": "tUYyb4T-uXmF"
      },
      "source": [
        "## Testing Loop"
      ]
    },
    {
      "cell_type": "code",
      "metadata": {
        "id": "uCcIZmO5uan9"
      },
      "source": [
        "def testing(model, dataset, bs, criterion, num_classes, classes, print_info=False):\n",
        "  #test loss \n",
        "  test_loss = 0.0\n",
        "  y_true, y_hat = None, None\n",
        "\n",
        "  correct_class = list(0 for i in range(num_classes))\n",
        "  total_class = list(0 for i in range(num_classes))\n",
        "\n",
        "  if hasattr(dataset, 'dataloader'):\n",
        "    test_loader = dataset.dataloader(batch_size=bs, shuffle=False)\n",
        "  else:\n",
        "    test_loader = DataLoader(dataset, batch_size=bs, shuffle=False)\n",
        "\n",
        "  l = len(test_loader)\n",
        "\n",
        "  model.eval()\n",
        "  for i, (data, labels) in enumerate(test_loader):\n",
        "\n",
        "    if torch.cuda.is_available():\n",
        "      data, labels = data.cuda(), labels.cuda()\n",
        "\n",
        "    output = model(data)\n",
        "    loss = criterion(output, labels)\n",
        "    test_loss += loss.item()*data.size(0)\n",
        "\n",
        "    _, pred = torch.max(output, dim=1)\n",
        "\n",
        "    # For F1Score\n",
        "    y_true = np.append(y_true, labels.data.view_as(pred).cpu().numpy()) if i != 0 else labels.data.view_as(pred).cpu().numpy()\n",
        "    y_hat = np.append(y_hat, pred.cpu().numpy()) if i != 0 else pred.cpu().numpy()\n",
        "\n",
        "    correct_tensor = pred.eq(labels.data.view_as(pred))\n",
        "    correct = np.squeeze(correct_tensor.numpy()) if not torch.cuda.is_available() else np.squeeze(correct_tensor.cpu().numpy())\n",
        "\n",
        "    for i, lbl in enumerate(labels.data):\n",
        "      try:\n",
        "        correct_class[lbl.item()] += correct[i]\n",
        "        total_class[lbl.item()] += 1\n",
        "      except:\n",
        "          print('Error', lbl, i)\n",
        "    \n",
        "  # avg test loss\n",
        "  test_loss = test_loss/len(test_loader.dataset)\n",
        "  test_accuracy = 100. * np.sum(correct_class) / np.sum(total_class)\n",
        "  # Avg F1 Score\n",
        "  f1_macro = f1_score(y_true, y_hat, average='macro')\n",
        "  # F1-Score -> weigthed to consider class imbalance\n",
        "  f1_weighted =  f1_score(y_true, y_hat, average='weighted')\n",
        "\n",
        "  if print_info:\n",
        "    print(\"Test Loss: {:.6f}\\n\".format(test_loss))\n",
        "\n",
        "    for i in range(10):\n",
        "      if total_class[i]>0:\n",
        "        print('Test Accuracy of %5s: %2d%% (%2d/%2d)' % \n",
        "              (classes[i], 100 * correct_class[i] / total_class[i],\n",
        "              np.sum(correct_class[i]), np.sum(total_class[i])))\n",
        "      else:\n",
        "        print('Test Accuracy of %5s: N/A (no training examples)' % (classes[i]))\n",
        "\n",
        "    print('\\nFinal Test  Accuracy: {:.3f} ({}/{})'.format(\n",
        "          100. * np.sum(correct_class) / np.sum(total_class),\n",
        "          np.sum(correct_class), np.sum(total_class)))\n",
        "\n",
        "    print(\"F1 Score: {:.6f} (macro) {:.6f} (weighted) %\\n\".format(f1_macro, f1_weighted))\n",
        "  \n",
        "  return test_accuracy, test_loss, f1_macro, f1_weighted"
      ],
      "execution_count": 127,
      "outputs": []
    },
    {
      "cell_type": "markdown",
      "metadata": {
        "id": "Ri0FqXFeHW-V"
      },
      "source": [
        "## Logger"
      ]
    },
    {
      "cell_type": "code",
      "metadata": {
        "id": "thZm2kSiHT4v"
      },
      "source": [
        "log_dict = {}\n",
        "NUM_REPEAT = 1"
      ],
      "execution_count": 128,
      "outputs": []
    },
    {
      "cell_type": "markdown",
      "metadata": {
        "id": "4hO5oV6aXqeh"
      },
      "source": [
        "## MNIST CNN on IID"
      ]
    },
    {
      "cell_type": "markdown",
      "metadata": {
        "id": "flSQv_P4zCfx"
      },
      "source": [
        "### Train\n"
      ]
    },
    {
      "cell_type": "code",
      "metadata": {
        "colab": {
          "base_uri": "https://localhost:8080/",
          "height": 1000
        },
        "id": "0ZalcKZtEseA",
        "outputId": "7a3b9652-1115-4155-e9a8-84419aa49a5b"
      },
      "source": [
        "train_loss_multiple_runs = [None] * NUM_REPEAT\n",
        "test_accuracy_multiple_runs = [None] * NUM_REPEAT\n",
        "test_loss_multiple_runs = [None] * NUM_REPEAT\n",
        "f1_macro_multiple_runs = [None] * NUM_REPEAT\n",
        "f1_weighted_multiple_runs = [None] * NUM_REPEAT\n",
        "\n",
        "for exp_num in range(NUM_REPEAT):\n",
        "  print(\"Experiment Run Number: \", exp_num)\n",
        "\n",
        "  # number of training rounds\n",
        "  rounds = 50\n",
        "  # client fraction\n",
        "  C = 0.1\n",
        "  # number of clients\n",
        "  K = 50\n",
        "  # number of training passes on local dataset for each roung\n",
        "  E = 5\n",
        "  # batch size\n",
        "  batch_size = 10\n",
        "  # learning Rate\n",
        "  lr=0.05\n",
        "  # fairness\n",
        "  q = 0.001\n",
        "  # sampling\n",
        "  # sampling = 'uniform'\n",
        "  sampling = 'weighted'\n",
        "  # data partition dictionary\n",
        "  iid_dict = iid_partition(mnist_data_train, 50)\n",
        "  # load model\n",
        "  mnist_cnn = MNIST_CNN()\n",
        "\n",
        "  if torch.cuda.is_available():\n",
        "    mnist_cnn.cuda()\n",
        "\n",
        "  mnist_cnn_iid_trained, train_loss, test_accuracy, test_loss, f1_macro, f1_weighted = training(mnist_cnn, rounds, batch_size, lr, mnist_data_train, mnist_data_test, iid_dict, C, K, E, q, sampling, \"MNIST CNN on IID Dataset\", \"orange\")\n",
        "\n",
        "  train_loss_multiple_runs[exp_num] = train_loss\n",
        "  test_accuracy_multiple_runs[exp_num] = test_accuracy\n",
        "  test_loss_multiple_runs[exp_num] = test_loss\n",
        "  f1_macro_multiple_runs[exp_num] = f1_macro\n",
        "  f1_weighted_multiple_runs[exp_num] = f1_weighted"
      ],
      "execution_count": 129,
      "outputs": [
        {
          "output_type": "stream",
          "text": [
            "Experiment Run Number:  0\n",
            "Round: 1 Picking 5/50 clients: [27 13 43 12  1]\n",
            "Round: 1... \tAverage Loss: 0.355\n",
            "Round: 2 Picking 5/50 clients: [26 21  9  0 48]\n",
            "Round: 2... \tAverage Loss: 0.156\n",
            "Round: 3 Picking 5/50 clients: [17 44  3 16  6]\n",
            "Round: 3... \tAverage Loss: 0.107\n",
            "Round: 4 Picking 5/50 clients: [28 47 26 46 14]\n",
            "Round: 4... \tAverage Loss: 0.082\n",
            "Round: 5 Picking 5/50 clients: [ 4 22 24 47 19]\n",
            "Round: 5... \tAverage Loss: 0.068\n",
            "Round: 6 Picking 5/50 clients: [45 14 32 25 18]\n",
            "Round: 6... \tAverage Loss: 0.05\n",
            "Round: 7 Picking 5/50 clients: [35 25 20 10 46]\n",
            "Round: 7... \tAverage Loss: 0.037\n",
            "Round: 8 Picking 5/50 clients: [13 45 38 17 48]\n",
            "Round: 8... \tAverage Loss: 0.04\n",
            "Round: 9 Picking 5/50 clients: [17  7 43 37 33]\n",
            "Round: 9... \tAverage Loss: 0.041\n",
            "Round: 10 Picking 5/50 clients: [29 22 31 45 28]\n",
            "Round: 10... \tAverage Loss: 0.027\n",
            "Round: 11 Picking 5/50 clients: [21 10 36 11 18]\n",
            "Round: 11... \tAverage Loss: 0.022\n",
            "Round: 12 Picking 5/50 clients: [ 1 31 36 40 43]\n",
            "Round: 12... \tAverage Loss: 0.023\n",
            "Round: 13 Picking 5/50 clients: [27  5 38 17 45]\n",
            "Round: 13... \tAverage Loss: 0.022\n",
            "Round: 14 Picking 5/50 clients: [12  1 42 49 27]\n",
            "Round: 14... \tAverage Loss: 0.017\n",
            "Round: 15 Picking 5/50 clients: [36 19 16 25 42]\n",
            "Round: 15... \tAverage Loss: 0.018\n",
            "Round: 16 Picking 5/50 clients: [40 22 24 48  1]\n",
            "Round: 16... \tAverage Loss: 0.02\n",
            "Round: 17 Picking 5/50 clients: [34 39 31 40 49]\n",
            "Round: 17... \tAverage Loss: 0.013\n",
            "Round: 18 Picking 5/50 clients: [39 45 49 32 26]\n",
            "Round: 18... \tAverage Loss: 0.009\n",
            "Round: 19 Picking 5/50 clients: [23 18  9 22 48]\n",
            "Round: 19... \tAverage Loss: 0.018\n",
            "Round: 20 Picking 5/50 clients: [36  0  2  6 13]\n",
            "Round: 20... \tAverage Loss: 0.013\n",
            "Round: 21 Picking 5/50 clients: [ 6 26  9 28 21]\n",
            "Round: 21... \tAverage Loss: 0.006\n",
            "Round: 22 Picking 5/50 clients: [10 44  5 32 19]\n",
            "Round: 22... \tAverage Loss: 0.009\n",
            "Round: 23 Picking 5/50 clients: [33  2 39 38 28]\n",
            "Round: 23... \tAverage Loss: 0.011\n",
            "Round: 24 Picking 5/50 clients: [44 26 24 18 17]\n",
            "Round: 24... \tAverage Loss: 0.005\n",
            "Round: 25 Picking 5/50 clients: [25 20  9 12 15]\n",
            "Round: 25... \tAverage Loss: 0.005\n",
            "Round: 26 Picking 5/50 clients: [ 5  7  2  4 27]\n",
            "Round: 26... \tAverage Loss: 0.01\n",
            "Round: 27 Picking 5/50 clients: [45 44  8 34 14]\n",
            "Round: 27... \tAverage Loss: 0.008\n",
            "Round: 28 Picking 5/50 clients: [10 21 49 29 11]\n",
            "Round: 28... \tAverage Loss: 0.003\n",
            "Round: 29 Picking 5/50 clients: [40 47 45 14 42]\n",
            "Round: 29... \tAverage Loss: 0.003\n",
            "Round: 30 Picking 5/50 clients: [38 49 15 13  7]\n",
            "Round: 30... \tAverage Loss: 0.004\n",
            "Round: 31 Picking 5/50 clients: [17 42 33 25  5]\n",
            "Round: 31... \tAverage Loss: 0.002\n",
            "Round: 32 Picking 5/50 clients: [ 4 34 46 26 35]\n",
            "Round: 32... \tAverage Loss: 0.008\n",
            "Round: 33 Picking 5/50 clients: [43 45 17  5 40]\n",
            "Round: 33... \tAverage Loss: 0.001\n",
            "Round: 34 Picking 5/50 clients: [ 9  4 10  0 38]\n",
            "Round: 34... \tAverage Loss: 0.006\n",
            "Round: 35 Picking 5/50 clients: [39 21 25  5 37]\n",
            "Round: 35... \tAverage Loss: 0.011\n",
            "Round: 36 Picking 5/50 clients: [30 41 35 42 32]\n",
            "Round: 36... \tAverage Loss: 0.001\n",
            "Round: 37 Picking 5/50 clients: [40  9 35 13 22]\n",
            "Round: 37... \tAverage Loss: 0.003\n",
            "Round: 38 Picking 5/50 clients: [46  7 25  6 39]\n",
            "Round: 38... \tAverage Loss: 0.001\n",
            "Round: 39 Picking 5/50 clients: [27  2 20  1 28]\n",
            "Round: 39... \tAverage Loss: 0.002\n",
            "Round: 40 Picking 5/50 clients: [36 33 49 34 43]\n",
            "Round: 40... \tAverage Loss: 0.001\n",
            "Round: 41 Picking 5/50 clients: [18  7  9 42  5]\n",
            "Round: 41... \tAverage Loss: 0.001\n",
            "Round: 42 Picking 5/50 clients: [32 14 21 24 33]\n",
            "Round: 42... \tAverage Loss: 0.003\n",
            "Round: 43 Picking 5/50 clients: [ 7 28 42 10 18]\n",
            "Round: 43... \tAverage Loss: 0.0\n",
            "Round: 44 Picking 5/50 clients: [ 1 17 38 40 19]\n",
            "Round: 44... \tAverage Loss: 0.008\n",
            "Round: 45 Picking 5/50 clients: [17 19 49 29 46]\n",
            "Round: 45... \tAverage Loss: 0.006\n",
            "Round: 46 Picking 5/50 clients: [13 37 18 24 28]\n",
            "Round: 46... \tAverage Loss: 0.0\n",
            "Round: 47 Picking 5/50 clients: [23  1 20 27 48]\n",
            "Round: 47... \tAverage Loss: 0.002\n",
            "Round: 48 Picking 5/50 clients: [48 33 26 35  8]\n",
            "Round: 48... \tAverage Loss: 0.0\n",
            "Round: 49 Picking 5/50 clients: [26  3 30 34 33]\n",
            "Round: 49... \tAverage Loss: 0.0\n",
            "Round: 50 Picking 5/50 clients: [ 9 29 14 21 16]\n",
            "Round: 50... \tAverage Loss: 0.006\n"
          ],
          "name": "stdout"
        },
        {
          "output_type": "display_data",
          "data": {
            "image/png": "[encoded data removed]",
            "text/plain": [
              "<Figure size 432x288 with 1 Axes>"
            ]
          },
          "metadata": {
            "tags": [],
            "needs_background": "light"
          }
        },
        {
          "output_type": "display_data",
          "data": {
            "image/png": "[encoded data removed]",
            "text/plain": [
              "<Figure size 432x288 with 1 Axes>"
            ]
          },
          "metadata": {
            "tags": [],
            "needs_background": "light"
          }
        },
        {
          "output_type": "display_data",
          "data": {
            "image/png": "[encoded data removed]",
            "text/plain": [
              "<Figure size 432x288 with 1 Axes>"
            ]
          },
          "metadata": {
            "tags": [],
            "needs_background": "light"
          }
        },
        {
          "output_type": "display_data",
          "data": {
            "image/png": "[encoded data removed]",
            "text/plain": [
              "<Figure size 432x288 with 1 Axes>"
            ]
          },
          "metadata": {
            "tags": [],
            "needs_background": "light"
          }
        },
        {
          "output_type": "display_data",
          "data": {
            "image/png": "[encoded data removed]",
            "text/plain": [
              "<Figure size 432x288 with 1 Axes>"
            ]
          },
          "metadata": {
            "tags": [],
            "needs_background": "light"
          }
        },
        {
          "output_type": "stream",
          "text": [
            "Training Done!\n",
            "Total time taken to Train: 624.9632308483124\n",
            "\n",
            "\n"
          ],
          "name": "stdout"
        }
      ]
    },
    {
      "cell_type": "markdown",
      "metadata": {
        "id": "wNwC82przF6G"
      },
      "source": [
        "### Test"
      ]
    },
    {
      "cell_type": "code",
      "metadata": {
        "id": "qB97BFs9we9w",
        "colab": {
          "base_uri": "https://localhost:8080/"
        },
        "outputId": "f3673c54-33ed-4506-cae9-d2a9c843b7ec"
      },
      "source": [
        "criterion = nn.CrossEntropyLoss()\n",
        "acc, loss, f1_macro, f1_weighted = testing(mnist_cnn_iid_trained, mnist_data_test, 128, criterion, num_classes, classes_test, True)"
      ],
      "execution_count": 130,
      "outputs": [
        {
          "output_type": "stream",
          "text": [
            "Test Loss: 0.047819\n",
            "\n",
            "Test Accuracy of     0: 99% (976/980)\n",
            "Test Accuracy of     1: 99% (1133/1135)\n",
            "Test Accuracy of     2: 99% (1024/1032)\n",
            "Test Accuracy of     3: 98% (996/1010)\n",
            "Test Accuracy of     4: 99% (973/982)\n",
            "Test Accuracy of     5: 99% (885/892)\n",
            "Test Accuracy of     6: 98% (948/958)\n",
            "Test Accuracy of     7: 98% (1013/1028)\n",
            "Test Accuracy of     8: 98% (960/974)\n",
            "Test Accuracy of     9: 96% (977/1009)\n",
            "\n",
            "Final Test  Accuracy: 98.850 (9885/10000)\n",
            "F1 Score: 0.988400 (macro) 0.988488 (weighted) %\n",
            "\n"
          ],
          "name": "stdout"
        }
      ]
    },
    {
      "cell_type": "code",
      "metadata": {
        "id": "gdQZEZmHHeqt"
      },
      "source": [
        "hyperparams = {'rounds': rounds,\n",
        "               'C': C,\n",
        "               'K': K,\n",
        "               'E': E,\n",
        "               'batch_size': batch_size,\n",
        "               'lr': lr,\n",
        "               'q': q,\n",
        "               'sampling': sampling\n",
        "               }\n",
        "\n",
        "log_dict['MNIST CNN on IID'] = {'train_loss': train_loss_multiple_runs, \n",
        "                                'test_loss': test_loss_multiple_runs, \n",
        "                                'test_accuracy': test_accuracy_multiple_runs,\n",
        "                                'f1_macro': f1_macro_multiple_runs,\n",
        "                                'f1_weighted': f1_weighted_multiple_runs,\n",
        "                                'hyperparams': hyperparams,\n",
        "                                }"
      ],
      "execution_count": 131,
      "outputs": []
    },
    {
      "cell_type": "markdown",
      "metadata": {
        "id": "uF8MdSIUYcnl"
      },
      "source": [
        "## MNIST CNN on Non IID"
      ]
    },
    {
      "cell_type": "markdown",
      "metadata": {
        "id": "a6wXX7JW11bx"
      },
      "source": [
        "### Train\n"
      ]
    },
    {
      "cell_type": "code",
      "metadata": {
        "id": "fCD3kBCKYfBK",
        "colab": {
          "base_uri": "https://localhost:8080/",
          "height": 1000
        },
        "outputId": "e81088ff-7b00-48f5-a075-33d71650e54b"
      },
      "source": [
        "train_loss_multiple_runs = [None] * NUM_REPEAT\n",
        "test_accuracy_multiple_runs = [None] * NUM_REPEAT\n",
        "test_loss_multiple_runs = [None] * NUM_REPEAT\n",
        "f1_macro_multiple_runs = [None] * NUM_REPEAT\n",
        "f1_weighted_multiple_runs = [None] * NUM_REPEAT\n",
        "\n",
        "for exp_num in range(NUM_REPEAT):\n",
        "  print(\"Experiment Run Number: \", exp_num)\n",
        "\n",
        "  # number of training rounds\n",
        "  rounds = 50\n",
        "  # client fraction\n",
        "  C = 0.1\n",
        "  # number of clients\n",
        "  K = 50\n",
        "  # number of training passes on local dataset for each roung\n",
        "  E = 5\n",
        "  # batch size\n",
        "  batch_size = 10\n",
        "  # learning Rate\n",
        "  lr=0.05\n",
        "  # fairness\n",
        "  q = 0.001\n",
        "  # sampling\n",
        "  # sampling = 'uniform'\n",
        "  sampling = 'weighted'\n",
        "  # dict containing different type of data partition\n",
        "  data_dict = non_iid_partition(mnist_data_train,50, 100, 600, 2)\n",
        "  # load model\n",
        "  mnist_cnn = MNIST_CNN()\n",
        "\n",
        "  if torch.cuda.is_available():\n",
        "    mnist_cnn.cuda()\n",
        "\n",
        "  mnist_cnn_non_iid_trained, train_loss, test_accuracy, test_loss, f1_macro, f1_weighted = training(mnist_cnn, rounds, batch_size, lr, mnist_data_train, mnist_data_test, data_dict, C, K, E, q, sampling, \"MNIST CNN on Non-IID Dataset\", \"green\")\n",
        "\n",
        "  train_loss_multiple_runs[exp_num] = train_loss\n",
        "  test_accuracy_multiple_runs[exp_num] = test_accuracy\n",
        "  test_loss_multiple_runs[exp_num] = test_loss\n",
        "  f1_macro_multiple_runs[exp_num] = f1_macro\n",
        "  f1_weighted_multiple_runs[exp_num] = f1_weighted"
      ],
      "execution_count": 132,
      "outputs": [
        {
          "output_type": "stream",
          "text": [
            "Experiment Run Number:  0\n",
            "Round: 1 Picking 5/50 clients: [ 2 11 23 41  3]\n",
            "Round: 1... \tAverage Loss: 0.074\n",
            "Round: 2 Picking 5/50 clients: [40 41  5 19 10]\n",
            "Round: 2... \tAverage Loss: 0.04\n",
            "Round: 3 Picking 5/50 clients: [10 20 32 40 33]\n",
            "Round: 3... \tAverage Loss: 0.024\n",
            "Round: 4 Picking 5/50 clients: [20 34 43 37 47]\n",
            "Round: 4... \tAverage Loss: 0.017\n",
            "Round: 5 Picking 5/50 clients: [31 35 44 16 36]\n",
            "Round: 5... \tAverage Loss: 0.015\n",
            "Round: 6 Picking 5/50 clients: [29 36 22 48 42]\n",
            "Round: 6... \tAverage Loss: 0.014\n",
            "Round: 7 Picking 5/50 clients: [13 12 37 30 16]\n",
            "Round: 7... \tAverage Loss: 0.012\n",
            "Round: 8 Picking 5/50 clients: [45 34 26 37 33]\n",
            "Round: 8... \tAverage Loss: 0.01\n",
            "Round: 9 Picking 5/50 clients: [13 38 36 10 32]\n",
            "Round: 9... \tAverage Loss: 0.009\n",
            "Round: 10 Picking 5/50 clients: [ 3 44 32 20 35]\n",
            "Round: 10... \tAverage Loss: 0.007\n",
            "Round: 11 Picking 5/50 clients: [ 7 26 38 20 43]\n",
            "Round: 11... \tAverage Loss: 0.009\n",
            "Round: 12 Picking 5/50 clients: [43 18 17  9 38]\n",
            "Round: 12... \tAverage Loss: 0.008\n",
            "Round: 13 Picking 5/50 clients: [10 38 40 45 39]\n",
            "Round: 13... \tAverage Loss: 0.004\n",
            "Round: 14 Picking 5/50 clients: [43 12 46 13 45]\n",
            "Round: 14... \tAverage Loss: 0.007\n",
            "Round: 15 Picking 5/50 clients: [10 41 18 13 15]\n",
            "Round: 15... \tAverage Loss: 0.006\n",
            "Round: 16 Picking 5/50 clients: [28 15 39 46  0]\n",
            "Round: 16... \tAverage Loss: 0.005\n",
            "Round: 17 Picking 5/50 clients: [21 27  5  9 12]\n",
            "Round: 17... \tAverage Loss: 0.006\n",
            "Round: 18 Picking 5/50 clients: [38 30 40  9 14]\n",
            "Round: 18... \tAverage Loss: 0.004\n",
            "Round: 19 Picking 5/50 clients: [ 3 20 24 29 21]\n",
            "Round: 19... \tAverage Loss: 0.005\n",
            "Round: 20 Picking 5/50 clients: [14  8  5 23 33]\n",
            "Round: 20... \tAverage Loss: 0.006\n",
            "Round: 21 Picking 5/50 clients: [ 8 20  1 22 41]\n",
            "Round: 21... \tAverage Loss: 0.004\n",
            "Round: 22 Picking 5/50 clients: [30 24 49 37 21]\n",
            "Round: 22... \tAverage Loss: 0.005\n",
            "Round: 23 Picking 5/50 clients: [ 5 24 14 35  7]\n",
            "Round: 23... \tAverage Loss: 0.002\n",
            "Round: 24 Picking 5/50 clients: [ 5  4  3 14 43]\n",
            "Round: 24... \tAverage Loss: 0.005\n",
            "Round: 25 Picking 5/50 clients: [32 31  9 40 30]\n",
            "Round: 25... \tAverage Loss: 0.001\n",
            "Round: 26 Picking 5/50 clients: [25 35 36 43 39]\n",
            "Round: 26... \tAverage Loss: 0.003\n",
            "Round: 27 Picking 5/50 clients: [ 0  5  9 23  8]\n",
            "Round: 27... \tAverage Loss: 0.001\n",
            "Round: 28 Picking 5/50 clients: [32 26 25 24  7]\n",
            "Round: 28... \tAverage Loss: 0.006\n",
            "Round: 29 Picking 5/50 clients: [30 49 41  3 29]\n",
            "Round: 29... \tAverage Loss: 0.002\n",
            "Round: 30 Picking 5/50 clients: [28 44 23 15  0]\n",
            "Round: 30... \tAverage Loss: 0.001\n",
            "Round: 31 Picking 5/50 clients: [13 22  5  1 32]\n",
            "Round: 31... \tAverage Loss: 0.004\n",
            "Round: 32 Picking 5/50 clients: [20 33 47 27 39]\n",
            "Round: 32... \tAverage Loss: 0.003\n",
            "Round: 33 Picking 5/50 clients: [25  7 27 13 26]\n",
            "Round: 33... \tAverage Loss: 0.002\n",
            "Round: 34 Picking 5/50 clients: [31 34 18 45 21]\n",
            "Round: 34... \tAverage Loss: 0.004\n",
            "Round: 35 Picking 5/50 clients: [37 38 47  9 31]\n",
            "Round: 35... \tAverage Loss: 0.001\n",
            "Round: 36 Picking 5/50 clients: [15 13  6 16 34]\n",
            "Round: 36... \tAverage Loss: 0.002\n",
            "Round: 37 Picking 5/50 clients: [ 7 20  0 32 17]\n",
            "Round: 37... \tAverage Loss: 0.001\n",
            "Round: 38 Picking 5/50 clients: [44 40 37  9 36]\n",
            "Round: 38... \tAverage Loss: 0.001\n",
            "Round: 39 Picking 5/50 clients: [40 24 32 16 36]\n",
            "Round: 39... \tAverage Loss: 0.002\n",
            "Round: 40 Picking 5/50 clients: [40 42 35 33 31]\n",
            "Round: 40... \tAverage Loss: 0.002\n",
            "Round: 41 Picking 5/50 clients: [ 4 42 13 37 16]\n",
            "Round: 41... \tAverage Loss: 0.002\n",
            "Round: 42 Picking 5/50 clients: [17 46  5  2 36]\n",
            "Round: 42... \tAverage Loss: 0.0\n",
            "Round: 43 Picking 5/50 clients: [36 11  7  8 27]\n",
            "Round: 43... \tAverage Loss: 0.003\n",
            "Round: 44 Picking 5/50 clients: [44 15 27 48 47]\n",
            "Round: 44... \tAverage Loss: 0.001\n",
            "Round: 45 Picking 5/50 clients: [33  2 40 49 42]\n",
            "Round: 45... \tAverage Loss: 0.001\n",
            "Round: 46 Picking 5/50 clients: [32 36 12 14 45]\n",
            "Round: 46... \tAverage Loss: 0.001\n",
            "Round: 47 Picking 5/50 clients: [14  8 34 29 38]\n",
            "Round: 47... \tAverage Loss: 0.003\n",
            "Round: 48 Picking 5/50 clients: [26  7 34 43  2]\n",
            "Round: 48... \tAverage Loss: 0.001\n",
            "Round: 49 Picking 5/50 clients: [36 21 10  0 42]\n",
            "Round: 49... \tAverage Loss: 0.002\n",
            "Round: 50 Picking 5/50 clients: [31 32 25 45  0]\n",
            "Round: 50... \tAverage Loss: 0.002\n"
          ],
          "name": "stdout"
        },
        {
          "output_type": "display_data",
          "data": {
            "image/png": "[encoded data removed]",
            "text/plain": [
              "<Figure size 432x288 with 1 Axes>"
            ]
          },
          "metadata": {
            "tags": [],
            "needs_background": "light"
          }
        },
        {
          "output_type": "display_data",
          "data": {
            "image/png": "[encoded data removed]",
            "text/plain": [
              "<Figure size 432x288 with 1 Axes>"
            ]
          },
          "metadata": {
            "tags": [],
            "needs_background": "light"
          }
        },
        {
          "output_type": "display_data",
          "data": {
            "image/png": "[encoded data removed]",
            "text/plain": [
              "<Figure size 432x288 with 1 Axes>"
            ]
          },
          "metadata": {
            "tags": [],
            "needs_background": "light"
          }
        },
        {
          "output_type": "display_data",
          "data": {
            "image/png": "[encoded data removed]",
            "text/plain": [
              "<Figure size 432x288 with 1 Axes>"
            ]
          },
          "metadata": {
            "tags": [],
            "needs_background": "light"
          }
        },
        {
          "output_type": "display_data",
          "data": {
            "image/png": "[encoded data removed]",
            "text/plain": [
              "<Figure size 432x288 with 1 Axes>"
            ]
          },
          "metadata": {
            "tags": [],
            "needs_background": "light"
          }
        },
        {
          "output_type": "stream",
          "text": [
            "Training Done!\n",
            "Total time taken to Train: 624.436972618103\n",
            "\n",
            "\n"
          ],
          "name": "stdout"
        }
      ]
    },
    {
      "cell_type": "markdown",
      "metadata": {
        "id": "4C68J-Kk14dB"
      },
      "source": [
        "### Test"
      ]
    },
    {
      "cell_type": "code",
      "metadata": {
        "id": "_yQ9GiAZ15jE",
        "colab": {
          "base_uri": "https://localhost:8080/"
        },
        "outputId": "9a8006c1-ba4d-42ac-9925-b497627550e3"
      },
      "source": [
        "criterion = nn.CrossEntropyLoss()\n",
        "acc, loss, f1_macro, f1_weighted = testing(mnist_cnn_non_iid_trained, mnist_data_test, 128, criterion, num_classes, classes_test, True)"
      ],
      "execution_count": 133,
      "outputs": [
        {
          "output_type": "stream",
          "text": [
            "Test Loss: 3.809066\n",
            "\n",
            "Test Accuracy of     0: 99% (978/980)\n",
            "Test Accuracy of     1: 99% (1134/1135)\n",
            "Test Accuracy of     2: 90% (933/1032)\n",
            "Test Accuracy of     3: 93% (943/1010)\n",
            "Test Accuracy of     4:  0% ( 0/982)\n",
            "Test Accuracy of     5: 95% (853/892)\n",
            "Test Accuracy of     6:  0% ( 0/958)\n",
            "Test Accuracy of     7:  0% ( 0/1028)\n",
            "Test Accuracy of     8: 98% (957/974)\n",
            "Test Accuracy of     9:  0% ( 0/1009)\n",
            "\n",
            "Final Test  Accuracy: 57.980 (5798/10000)\n",
            "F1 Score: 0.442017 (macro) 0.444731 (weighted) %\n",
            "\n"
          ],
          "name": "stdout"
        }
      ]
    },
    {
      "cell_type": "code",
      "metadata": {
        "id": "dxMcxgLhLvX-"
      },
      "source": [
        "hyperparams = {'rounds': rounds,\n",
        "               'C': C,\n",
        "               'K': K,\n",
        "               'E': E,\n",
        "               'batch_size': batch_size,\n",
        "               'lr': lr,\n",
        "               'q': q,\n",
        "               'sampling': sampling\n",
        "               }\n",
        "\n",
        "log_dict['MNIST CNN on Non IID'] = {'train_loss': train_loss_multiple_runs, \n",
        "                                'test_loss': test_loss_multiple_runs, \n",
        "                                'test_accuracy': test_accuracy_multiple_runs,\n",
        "                                'f1_macro': f1_macro_multiple_runs,\n",
        "                                'f1_weighted': f1_weighted_multiple_runs,\n",
        "                                'hyperparams': hyperparams,\n",
        "                                }"
      ],
      "execution_count": 134,
      "outputs": []
    },
    {
      "cell_type": "markdown",
      "metadata": {
        "id": "z_jifdzniuhm"
      },
      "source": [
        "## MNIST MLP on IID"
      ]
    },
    {
      "cell_type": "markdown",
      "metadata": {
        "id": "uh-te0Od2XGO"
      },
      "source": [
        "### Train"
      ]
    },
    {
      "cell_type": "code",
      "metadata": {
        "id": "UmpWmKOQixVV",
        "colab": {
          "base_uri": "https://localhost:8080/",
          "height": 1000
        },
        "outputId": "62402332-7f03-44b9-87ae-a5e46200cc16"
      },
      "source": [
        "train_loss_multiple_runs = [None] * NUM_REPEAT\n",
        "test_accuracy_multiple_runs = [None] * NUM_REPEAT\n",
        "test_loss_multiple_runs = [None] * NUM_REPEAT\n",
        "f1_macro_multiple_runs = [None] * NUM_REPEAT\n",
        "f1_weighted_multiple_runs = [None] * NUM_REPEAT\n",
        "\n",
        "for exp_num in range(NUM_REPEAT):\n",
        "  print(\"Experiment Run Number: \", exp_num)\n",
        "\n",
        "  # number of training rounds\n",
        "  rounds = 50\n",
        "  # client fraction\n",
        "  C = 0.1\n",
        "  # number of clients\n",
        "  K = 50\n",
        "  # number of training passes on local dataset for each round\n",
        "  E = 5\n",
        "  # batch size\n",
        "  batch_size = 10\n",
        "  # learning Rate\n",
        "  lr=0.05\n",
        "  # fairness\n",
        "  q = 0.001\n",
        "  # sampling\n",
        "  # sampling = 'uniform'\n",
        "  sampling = 'weighted'\n",
        "  # dict containing different type of data partition\n",
        "  data_dict = iid_partition(mnist_data_train, 50)\n",
        "  # load model\n",
        "  mnist_mlp = MNIST_2NN()\n",
        "\n",
        "  if torch.cuda.is_available():\n",
        "    mnist_mlp.cuda()\n",
        "\n",
        "  mnist_mlp_iid_trained, train_loss, test_accuracy, test_loss, f1_macro, f1_weighted = training(mnist_mlp, rounds, batch_size, lr, mnist_data_train, mnist_data_test, data_dict, C, K, E, q, sampling, \"MNIST MLP on IID Dataset\", \"orange\")\n",
        "  \n",
        "  train_loss_multiple_runs[exp_num] = train_loss\n",
        "  test_accuracy_multiple_runs[exp_num] = test_accuracy\n",
        "  test_loss_multiple_runs[exp_num] = test_loss\n",
        "  f1_macro_multiple_runs[exp_num] = f1_macro\n",
        "  f1_weighted_multiple_runs[exp_num] = f1_weighted"
      ],
      "execution_count": 135,
      "outputs": [
        {
          "output_type": "stream",
          "text": [
            "Experiment Run Number:  0\n",
            "Round: 1 Picking 5/50 clients: [33 18 36 19 23]\n",
            "Round: 1... \tAverage Loss: 0.357\n",
            "Round: 2 Picking 5/50 clients: [48 32 24 22  9]\n",
            "Round: 2... \tAverage Loss: 0.194\n",
            "Round: 3 Picking 5/50 clients: [32 34  3 21 26]\n",
            "Round: 3... \tAverage Loss: 0.139\n",
            "Round: 4 Picking 5/50 clients: [48 40 16 22 38]\n",
            "Round: 4... \tAverage Loss: 0.116\n",
            "Round: 5 Picking 5/50 clients: [ 5 16 36 13 45]\n",
            "Round: 5... \tAverage Loss: 0.095\n",
            "Round: 6 Picking 5/50 clients: [30 48  2 28 25]\n",
            "Round: 6... \tAverage Loss: 0.084\n",
            "Round: 7 Picking 5/50 clients: [41 17  0 49 20]\n",
            "Round: 7... \tAverage Loss: 0.077\n",
            "Round: 8 Picking 5/50 clients: [27  4 46 33 15]\n",
            "Round: 8... \tAverage Loss: 0.068\n",
            "Round: 9 Picking 5/50 clients: [42 14 49 30  8]\n",
            "Round: 9... \tAverage Loss: 0.061\n",
            "Round: 10 Picking 5/50 clients: [26 49 37 40  1]\n",
            "Round: 10... \tAverage Loss: 0.055\n",
            "Round: 11 Picking 5/50 clients: [28 19 24  4 32]\n",
            "Round: 11... \tAverage Loss: 0.051\n",
            "Round: 12 Picking 5/50 clients: [29 22  4 19 20]\n",
            "Round: 12... \tAverage Loss: 0.048\n",
            "Round: 13 Picking 5/50 clients: [41 40 20  7 19]\n",
            "Round: 13... \tAverage Loss: 0.039\n",
            "Round: 14 Picking 5/50 clients: [32 34  8 22 19]\n",
            "Round: 14... \tAverage Loss: 0.026\n",
            "Round: 15 Picking 5/50 clients: [23 43 11 12  6]\n",
            "Round: 15... \tAverage Loss: 0.033\n",
            "Round: 16 Picking 5/50 clients: [29 24 16  0 48]\n",
            "Round: 16... \tAverage Loss: 0.032\n",
            "Round: 17 Picking 5/50 clients: [ 5 13 37 28 43]\n",
            "Round: 17... \tAverage Loss: 0.023\n",
            "Round: 18 Picking 5/50 clients: [ 8 44 26 35 25]\n",
            "Round: 18... \tAverage Loss: 0.024\n",
            "Round: 19 Picking 5/50 clients: [43 23  9 34 11]\n",
            "Round: 19... \tAverage Loss: 0.019\n",
            "Round: 20 Picking 5/50 clients: [ 0 21 11 12 26]\n",
            "Round: 20... \tAverage Loss: 0.022\n",
            "Round: 21 Picking 5/50 clients: [15 29 38  2 25]\n",
            "Round: 21... \tAverage Loss: 0.018\n",
            "Round: 22 Picking 5/50 clients: [41 10 21 31 32]\n",
            "Round: 22... \tAverage Loss: 0.01\n",
            "Round: 23 Picking 5/50 clients: [19 34 21 10 42]\n",
            "Round: 23... \tAverage Loss: 0.01\n",
            "Round: 24 Picking 5/50 clients: [22  3 10  0 33]\n",
            "Round: 24... \tAverage Loss: 0.012\n",
            "Round: 25 Picking 5/50 clients: [36 11 41  9 42]\n",
            "Round: 25... \tAverage Loss: 0.007\n",
            "Round: 26 Picking 5/50 clients: [11 34 13  3  6]\n",
            "Round: 26... \tAverage Loss: 0.004\n",
            "Round: 27 Picking 5/50 clients: [ 8 47 15 36 19]\n",
            "Round: 27... \tAverage Loss: 0.003\n",
            "Round: 28 Picking 5/50 clients: [45 25 29 14 11]\n",
            "Round: 28... \tAverage Loss: 0.003\n",
            "Round: 29 Picking 5/50 clients: [19 25 43 34 37]\n",
            "Round: 29... \tAverage Loss: 0.002\n",
            "Round: 30 Picking 5/50 clients: [13 42 39 17 43]\n",
            "Round: 30... \tAverage Loss: 0.003\n",
            "Round: 31 Picking 5/50 clients: [40 26 12 30 41]\n",
            "Round: 31... \tAverage Loss: 0.001\n",
            "Round: 32 Picking 5/50 clients: [35 49  8 20  2]\n",
            "Round: 32... \tAverage Loss: 0.002\n",
            "Round: 33 Picking 5/50 clients: [ 5 20 36 37 41]\n",
            "Round: 33... \tAverage Loss: 0.001\n",
            "Round: 34 Picking 5/50 clients: [42 15 25 43  7]\n",
            "Round: 34... \tAverage Loss: 0.001\n",
            "Round: 35 Picking 5/50 clients: [48 21 49 33 43]\n",
            "Round: 35... \tAverage Loss: 0.001\n",
            "Round: 36 Picking 5/50 clients: [25 48 15 21 22]\n",
            "Round: 36... \tAverage Loss: 0.001\n",
            "Round: 37 Picking 5/50 clients: [40 14  9 28 20]\n",
            "Round: 37... \tAverage Loss: 0.001\n",
            "Round: 38 Picking 5/50 clients: [31 40 11  7 36]\n",
            "Round: 38... \tAverage Loss: 0.001\n",
            "Round: 39 Picking 5/50 clients: [39 11 28 18 19]\n",
            "Round: 39... \tAverage Loss: 0.001\n",
            "Round: 40 Picking 5/50 clients: [ 4 16 21 12 13]\n",
            "Round: 40... \tAverage Loss: 0.001\n",
            "Round: 41 Picking 5/50 clients: [39  9 12 46 43]\n",
            "Round: 41... \tAverage Loss: 0.001\n",
            "Round: 42 Picking 5/50 clients: [33 47 28 46 40]\n",
            "Round: 42... \tAverage Loss: 0.001\n",
            "Round: 43 Picking 5/50 clients: [20  1 36 26  5]\n",
            "Round: 43... \tAverage Loss: 0.001\n",
            "Round: 44 Picking 5/50 clients: [24 11 44  7 22]\n",
            "Round: 44... \tAverage Loss: 0.001\n",
            "Round: 45 Picking 5/50 clients: [21  0 30 34 48]\n",
            "Round: 45... \tAverage Loss: 0.001\n",
            "Round: 46 Picking 5/50 clients: [34 10 47  7 24]\n",
            "Round: 46... \tAverage Loss: 0.001\n",
            "Round: 47 Picking 5/50 clients: [12 48 25 30 36]\n",
            "Round: 47... \tAverage Loss: 0.001\n",
            "Round: 48 Picking 5/50 clients: [34 26  9  8  5]\n",
            "Round: 48... \tAverage Loss: 0.001\n",
            "Round: 49 Picking 5/50 clients: [21 29 13 41  1]\n",
            "Round: 49... \tAverage Loss: 0.001\n",
            "Round: 50 Picking 5/50 clients: [ 9 39 40 17 30]\n",
            "Round: 50... \tAverage Loss: 0.001\n"
          ],
          "name": "stdout"
        },
        {
          "output_type": "display_data",
          "data": {
            "image/png": "[encoded data removed]",
            "text/plain": [
              "<Figure size 432x288 with 1 Axes>"
            ]
          },
          "metadata": {
            "tags": [],
            "needs_background": "light"
          }
        },
        {
          "output_type": "display_data",
          "data": {
            "image/png": "[encoded data removed]",
            "text/plain": [
              "<Figure size 432x288 with 1 Axes>"
            ]
          },
          "metadata": {
            "tags": [],
            "needs_background": "light"
          }
        },
        {
          "output_type": "display_data",
          "data": {
            "image/png": "[encoded data removed]",
            "text/plain": [
              "<Figure size 432x288 with 1 Axes>"
            ]
          },
          "metadata": {
            "tags": [],
            "needs_background": "light"
          }
        },
        {
          "output_type": "display_data",
          "data": {
            "image/png": "[encoded data removed]",
            "text/plain": [
              "<Figure size 432x288 with 1 Axes>"
            ]
          },
          "metadata": {
            "tags": [],
            "needs_background": "light"
          }
        },
        {
          "output_type": "display_data",
          "data": {
            "image/png": "[encoded data removed]",
            "text/plain": [
              "<Figure size 432x288 with 1 Axes>"
            ]
          },
          "metadata": {
            "tags": [],
            "needs_background": "light"
          }
        },
        {
          "output_type": "stream",
          "text": [
            "Training Done!\n",
            "Total time taken to Train: 454.47695565223694\n",
            "\n",
            "\n"
          ],
          "name": "stdout"
        }
      ]
    },
    {
      "cell_type": "markdown",
      "metadata": {
        "id": "aTBsL3-72PPd"
      },
      "source": [
        "### Test"
      ]
    },
    {
      "cell_type": "code",
      "metadata": {
        "id": "a9G4j5L62OrS",
        "colab": {
          "base_uri": "https://localhost:8080/"
        },
        "outputId": "f1efdab1-30e5-46c0-895e-7e4e30a954b6"
      },
      "source": [
        "criterion = nn.CrossEntropyLoss()\n",
        "acc, loss, f1_macro, f1_weighted = testing(mnist_mlp_iid_trained, mnist_data_test, 128, criterion, num_classes, classes_test, True)"
      ],
      "execution_count": 136,
      "outputs": [
        {
          "output_type": "stream",
          "text": [
            "Test Loss: 0.185056\n",
            "\n",
            "Test Accuracy of     0: 98% (967/980)\n",
            "Test Accuracy of     1: 99% (1125/1135)\n",
            "Test Accuracy of     2: 93% (966/1032)\n",
            "Test Accuracy of     3: 96% (971/1010)\n",
            "Test Accuracy of     4: 96% (948/982)\n",
            "Test Accuracy of     5: 93% (833/892)\n",
            "Test Accuracy of     6: 96% (926/958)\n",
            "Test Accuracy of     7: 95% (984/1028)\n",
            "Test Accuracy of     8: 93% (911/974)\n",
            "Test Accuracy of     9: 94% (952/1009)\n",
            "\n",
            "Final Test  Accuracy: 95.830 (9583/10000)\n",
            "F1 Score: 0.957801 (macro) 0.958229 (weighted) %\n",
            "\n"
          ],
          "name": "stdout"
        }
      ]
    },
    {
      "cell_type": "code",
      "metadata": {
        "id": "fWCdJFRCL_f2"
      },
      "source": [
        "hyperparams = {'rounds': rounds,\n",
        "               'C': C,\n",
        "               'K': K,\n",
        "               'E': E,\n",
        "               'batch_size': batch_size,\n",
        "               'lr': lr,\n",
        "               'q': q,\n",
        "               'sampling': sampling\n",
        "               }\n",
        "\n",
        "log_dict['MNIST MLP on IID'] = {'train_loss': train_loss_multiple_runs, \n",
        "                                'test_loss': test_loss_multiple_runs, \n",
        "                                'test_accuracy': test_accuracy_multiple_runs,\n",
        "                                'f1_macro': f1_macro_multiple_runs,\n",
        "                                'f1_weighted': f1_weighted_multiple_runs,\n",
        "                                'hyperparams': hyperparams,\n",
        "                                }"
      ],
      "execution_count": 137,
      "outputs": []
    },
    {
      "cell_type": "markdown",
      "metadata": {
        "id": "J8jzEyO0iywz"
      },
      "source": [
        "## MNIST MLP on Non IID"
      ]
    },
    {
      "cell_type": "markdown",
      "metadata": {
        "id": "pJFepr3y2bF-"
      },
      "source": [
        "### Train"
      ]
    },
    {
      "cell_type": "code",
      "metadata": {
        "id": "EBKO44Hgi1Uh",
        "colab": {
          "base_uri": "https://localhost:8080/",
          "height": 1000
        },
        "outputId": "bfdf309d-b89e-4c87-8907-f3f981934a3c"
      },
      "source": [
        "train_loss_multiple_runs = [None] * NUM_REPEAT\n",
        "test_accuracy_multiple_runs = [None] * NUM_REPEAT\n",
        "test_loss_multiple_runs = [None] * NUM_REPEAT\n",
        "f1_macro_multiple_runs = [None] * NUM_REPEAT\n",
        "f1_weighted_multiple_runs = [None] * NUM_REPEAT\n",
        "\n",
        "for exp_num in range(NUM_REPEAT):\n",
        "  print(\"Experiment Run Number: \", exp_num)\n",
        "  \n",
        "  # number of training rounds\n",
        "  rounds = 50\n",
        "  # client fraction\n",
        "  C = 0.1\n",
        "  # number of clients\n",
        "  K = 50\n",
        "  # number of training passes on local dataset for each roung\n",
        "  E = 5\n",
        "  # batch size\n",
        "  batch_size = 10\n",
        "  # learning Rate\n",
        "  lr=0.05\n",
        "  # fairness\n",
        "  q = 0.001\n",
        "  # sampling\n",
        "  # sampling = 'uniform'\n",
        "  sampling = 'weighted'\n",
        "\n",
        "  # dict containing different type of data partition\n",
        "  data_dict = non_iid_partition(mnist_data_train, 50, 100, 600, 2)\n",
        "  # load model\n",
        "  mnist_mlp = MNIST_2NN()\n",
        "\n",
        "  if torch.cuda.is_available():\n",
        "    mnist_mlp.cuda()\n",
        "\n",
        "  mnist_mlp_non_iid_trained, train_loss, test_accuracy, test_loss, f1_macro, f1_weighted = training(mnist_mlp, rounds, batch_size, lr, mnist_data_train, mnist_data_test, data_dict, C, K, E, q, sampling, \"MNIST MLP on Non-IID Dataset\", \"green\")\n",
        "\n",
        "  train_loss_multiple_runs[exp_num] = train_loss\n",
        "  test_accuracy_multiple_runs[exp_num] = test_accuracy\n",
        "  test_loss_multiple_runs[exp_num] = test_loss\n",
        "  f1_macro_multiple_runs[exp_num] = f1_macro\n",
        "  f1_weighted_multiple_runs[exp_num] = f1_weighted"
      ],
      "execution_count": 138,
      "outputs": [
        {
          "output_type": "stream",
          "text": [
            "Experiment Run Number:  0\n",
            "Round: 1 Picking 5/50 clients: [ 3  7  2 23 14]\n",
            "Round: 1... \tAverage Loss: 0.077\n",
            "Round: 2 Picking 5/50 clients: [39  0 42 18 44]\n",
            "Round: 2... \tAverage Loss: 0.037\n",
            "Round: 3 Picking 5/50 clients: [ 5  0 14 28 30]\n",
            "Round: 3... \tAverage Loss: 0.032\n",
            "Round: 4 Picking 5/50 clients: [ 7  5 47 16 33]\n",
            "Round: 4... \tAverage Loss: 0.025\n",
            "Round: 5 Picking 5/50 clients: [34 27 18  3 12]\n",
            "Round: 5... \tAverage Loss: 0.023\n",
            "Round: 6 Picking 5/50 clients: [39  0 33 34 25]\n",
            "Round: 6... \tAverage Loss: 0.021\n",
            "Round: 7 Picking 5/50 clients: [28 35  6  5 49]\n",
            "Round: 7... \tAverage Loss: 0.02\n",
            "Round: 8 Picking 5/50 clients: [39 49 15 37  3]\n",
            "Round: 8... \tAverage Loss: 0.018\n",
            "Round: 9 Picking 5/50 clients: [ 7 38 34 31 45]\n",
            "Round: 9... \tAverage Loss: 0.016\n",
            "Round: 10 Picking 5/50 clients: [33 21 18  0 24]\n",
            "Round: 10... \tAverage Loss: 0.015\n",
            "Round: 11 Picking 5/50 clients: [24 20 43 47 12]\n",
            "Round: 11... \tAverage Loss: 0.014\n",
            "Round: 12 Picking 5/50 clients: [ 8 33  5 44 43]\n",
            "Round: 12... \tAverage Loss: 0.015\n",
            "Round: 13 Picking 5/50 clients: [12 38 46 27 40]\n",
            "Round: 13... \tAverage Loss: 0.012\n",
            "Round: 14 Picking 5/50 clients: [ 9  3  0  4 25]\n",
            "Round: 14... \tAverage Loss: 0.013\n",
            "Round: 15 Picking 5/50 clients: [18 43 34 12 30]\n",
            "Round: 15... \tAverage Loss: 0.013\n",
            "Round: 16 Picking 5/50 clients: [22  5 39  2 32]\n",
            "Round: 16... \tAverage Loss: 0.01\n",
            "Round: 17 Picking 5/50 clients: [10 37 13 28 18]\n",
            "Round: 17... \tAverage Loss: 0.008\n",
            "Round: 18 Picking 5/50 clients: [40  5  7 46 42]\n",
            "Round: 18... \tAverage Loss: 0.008\n",
            "Round: 19 Picking 5/50 clients: [37 13 25 34  8]\n",
            "Round: 19... \tAverage Loss: 0.008\n",
            "Round: 20 Picking 5/50 clients: [49 42 14 31 43]\n",
            "Round: 20... \tAverage Loss: 0.01\n",
            "Round: 21 Picking 5/50 clients: [15 48 23  9 41]\n",
            "Round: 21... \tAverage Loss: 0.009\n",
            "Round: 22 Picking 5/50 clients: [ 9 38 49 35 41]\n",
            "Round: 22... \tAverage Loss: 0.007\n",
            "Round: 23 Picking 5/50 clients: [39 20 36 33 14]\n",
            "Round: 23... \tAverage Loss: 0.008\n",
            "Round: 24 Picking 5/50 clients: [29  3 38 49 10]\n",
            "Round: 24... \tAverage Loss: 0.004\n",
            "Round: 25 Picking 5/50 clients: [33 17 47 18 12]\n",
            "Round: 25... \tAverage Loss: 0.007\n",
            "Round: 26 Picking 5/50 clients: [ 6  0 28 42  7]\n",
            "Round: 26... \tAverage Loss: 0.003\n",
            "Round: 27 Picking 5/50 clients: [10 20 25 14 16]\n",
            "Round: 27... \tAverage Loss: 0.006\n",
            "Round: 28 Picking 5/50 clients: [ 8  7 15 31 35]\n",
            "Round: 28... \tAverage Loss: 0.003\n",
            "Round: 29 Picking 5/50 clients: [20 29 12 48 40]\n",
            "Round: 29... \tAverage Loss: 0.004\n",
            "Round: 30 Picking 5/50 clients: [31 10 43 49 15]\n",
            "Round: 30... \tAverage Loss: 0.004\n",
            "Round: 31 Picking 5/50 clients: [47 35 49 19 29]\n",
            "Round: 31... \tAverage Loss: 0.003\n",
            "Round: 32 Picking 5/50 clients: [33  0  9 32 24]\n",
            "Round: 32... \tAverage Loss: 0.003\n",
            "Round: 33 Picking 5/50 clients: [39 33 20 15 23]\n",
            "Round: 33... \tAverage Loss: 0.002\n",
            "Round: 34 Picking 5/50 clients: [47 49 22  9 43]\n",
            "Round: 34... \tAverage Loss: 0.002\n",
            "Round: 35 Picking 5/50 clients: [ 0  3 27 36 47]\n",
            "Round: 35... \tAverage Loss: 0.002\n",
            "Round: 36 Picking 5/50 clients: [47 21 40 18 36]\n",
            "Round: 36... \tAverage Loss: 0.003\n",
            "Round: 37 Picking 5/50 clients: [10 29 12 16 19]\n",
            "Round: 37... \tAverage Loss: 0.002\n",
            "Round: 38 Picking 5/50 clients: [16 49  4 20 23]\n",
            "Round: 38... \tAverage Loss: 0.008\n",
            "Round: 39 Picking 5/50 clients: [45  0 24 22 10]\n",
            "Round: 39... \tAverage Loss: 0.002\n",
            "Round: 40 Picking 5/50 clients: [43 42 45  3 17]\n",
            "Round: 40... \tAverage Loss: 0.001\n",
            "Round: 41 Picking 5/50 clients: [16 27 21 41  8]\n",
            "Round: 41... \tAverage Loss: 0.001\n",
            "Round: 42 Picking 5/50 clients: [30  5  6 43 28]\n",
            "Round: 42... \tAverage Loss: 0.002\n",
            "Round: 43 Picking 5/50 clients: [35  9 18  2 17]\n",
            "Round: 43... \tAverage Loss: 0.001\n",
            "Round: 44 Picking 5/50 clients: [39  8 20 35 14]\n",
            "Round: 44... \tAverage Loss: 0.001\n",
            "Round: 45 Picking 5/50 clients: [21 12 23 33 14]\n",
            "Round: 45... \tAverage Loss: 0.006\n",
            "Round: 46 Picking 5/50 clients: [14 19 42 35 44]\n",
            "Round: 46... \tAverage Loss: 0.001\n",
            "Round: 47 Picking 5/50 clients: [49 47 28 11 20]\n",
            "Round: 47... \tAverage Loss: 0.001\n",
            "Round: 48 Picking 5/50 clients: [28  8 47 27 26]\n",
            "Round: 48... \tAverage Loss: 0.002\n",
            "Round: 49 Picking 5/50 clients: [31 23 46 41 27]\n",
            "Round: 49... \tAverage Loss: 0.002\n",
            "Round: 50 Picking 5/50 clients: [39 20 32 42 45]\n",
            "Round: 50... \tAverage Loss: 0.001\n"
          ],
          "name": "stdout"
        },
        {
          "output_type": "display_data",
          "data": {
            "image/png": "[encoded data removed]",
            "text/plain": [
              "<Figure size 432x288 with 1 Axes>"
            ]
          },
          "metadata": {
            "tags": [],
            "needs_background": "light"
          }
        },
        {
          "output_type": "display_data",
          "data": {
            "image/png": "[encoded data removed]",
            "text/plain": [
              "<Figure size 432x288 with 1 Axes>"
            ]
          },
          "metadata": {
            "tags": [],
            "needs_background": "light"
          }
        },
        {
          "output_type": "display_data",
          "data": {
            "image/png": "[encoded data removed]",
            "text/plain": [
              "<Figure size 432x288 with 1 Axes>"
            ]
          },
          "metadata": {
            "tags": [],
            "needs_background": "light"
          }
        },
        {
          "output_type": "display_data",
          "data": {
            "image/png": "[encoded data removed]",
            "text/plain": [
              "<Figure size 432x288 with 1 Axes>"
            ]
          },
          "metadata": {
            "tags": [],
            "needs_background": "light"
          }
        },
        {
          "output_type": "display_data",
          "data": {
            "image/png": "[encoded data removed]",
            "text/plain": [
              "<Figure size 432x288 with 1 Axes>"
            ]
          },
          "metadata": {
            "tags": [],
            "needs_background": "light"
          }
        },
        {
          "output_type": "stream",
          "text": [
            "Training Done!\n",
            "Total time taken to Train: 462.1409180164337\n",
            "\n",
            "\n"
          ],
          "name": "stdout"
        }
      ]
    },
    {
      "cell_type": "markdown",
      "metadata": {
        "id": "jmuQYPbF2mes"
      },
      "source": [
        "### Test"
      ]
    },
    {
      "cell_type": "code",
      "metadata": {
        "id": "0tKMlJyF2nGN",
        "colab": {
          "base_uri": "https://localhost:8080/"
        },
        "outputId": "03ff6bc2-032c-4e68-8a7f-1faa208c4fa3"
      },
      "source": [
        "criterion = nn.CrossEntropyLoss()\n",
        "acc, loss, f1_macro, f1_weighted = testing(mnist_mlp_non_iid_trained, mnist_data_test, 128, criterion, num_classes, classes_test, True)"
      ],
      "execution_count": 139,
      "outputs": [
        {
          "output_type": "stream",
          "text": [
            "Test Loss: 4.120694\n",
            "\n",
            "Test Accuracy of     0: 91% (894/980)\n",
            "Test Accuracy of     1: 92% (1049/1135)\n",
            "Test Accuracy of     2:  0% ( 0/1032)\n",
            "Test Accuracy of     3: 97% (987/1010)\n",
            "Test Accuracy of     4: 87% (857/982)\n",
            "Test Accuracy of     5: 95% (854/892)\n",
            "Test Accuracy of     6: 91% (872/958)\n",
            "Test Accuracy of     7: 80% (827/1028)\n",
            "Test Accuracy of     8:  0% ( 0/974)\n",
            "Test Accuracy of     9:  0% ( 0/1009)\n",
            "\n",
            "Final Test  Accuracy: 63.400 (6340/10000)\n",
            "F1 Score: 0.541223 (macro) 0.541023 (weighted) %\n",
            "\n"
          ],
          "name": "stdout"
        }
      ]
    },
    {
      "cell_type": "code",
      "metadata": {
        "id": "1W5krYcSMQiu"
      },
      "source": [
        "hyperparams = {'rounds': rounds,\n",
        "               'C': C,\n",
        "               'K': K,\n",
        "               'E': E,\n",
        "               'batch_size': batch_size,\n",
        "               'lr': lr,\n",
        "               'q': q,\n",
        "               'sampling': sampling\n",
        "               }\n",
        "\n",
        "log_dict['MNIST MLP on Non IID'] = {'train_loss': train_loss_multiple_runs, \n",
        "                                'test_loss': test_loss_multiple_runs, \n",
        "                                'test_accuracy': test_accuracy_multiple_runs,\n",
        "                                'f1_macro': f1_macro_multiple_runs,\n",
        "                                'f1_weighted': f1_weighted_multiple_runs,\n",
        "                                'hyperparams': hyperparams,\n",
        "                                }"
      ],
      "execution_count": 140,
      "outputs": []
    },
    {
      "cell_type": "markdown",
      "metadata": {
        "id": "emS_SaRAP6TZ"
      },
      "source": [
        "## Pickle Log"
      ]
    },
    {
      "cell_type": "code",
      "metadata": {
        "id": "soAN38JoP0c1"
      },
      "source": [
        "import pickle\n",
        " \n",
        "with open(path + 'qFedAvg_k50.pkl', 'wb') as file:\n",
        "  pickle.dump(log_dict, file)"
      ],
      "execution_count": 141,
      "outputs": []
    },
    {
      "cell_type": "code",
      "metadata": {
        "id": "2UBy-JswSoCJ",
        "colab": {
          "base_uri": "https://localhost:8080/"
        },
        "outputId": "fb28f82b-80ee-4a46-f5d8-a8090349243b"
      },
      "source": [
        "log_dict"
      ],
      "execution_count": 142,
      "outputs": [
        {
          "output_type": "execute_result",
          "data": {
            "text/plain": [
              "{'MNIST CNN on IID': {'f1_macro': [[0.9467840139073734,\n",
              "    0.9715463584930475,\n",
              "    0.9739783557574094,\n",
              "    0.9783546334939015,\n",
              "    0.9802355501498763,\n",
              "    0.9823368681192562,\n",
              "    0.9823346745894377,\n",
              "    0.9831502488009622,\n",
              "    0.9837377554975266,\n",
              "    0.9839336699511104,\n",
              "    0.9851360319785678,\n",
              "    0.9854217649377265,\n",
              "    0.98650943450485,\n",
              "    0.9856088363879028,\n",
              "    0.9866275421397438,\n",
              "    0.9866601661391053,\n",
              "    0.9868577181574075,\n",
              "    0.9875537079966925,\n",
              "    0.9874092168682121,\n",
              "    0.987410744651845,\n",
              "    0.987800050370215,\n",
              "    0.9869132558761828,\n",
              "    0.9871245848061744,\n",
              "    0.9881342496048182,\n",
              "    0.9884376886827466,\n",
              "    0.9885505932412011,\n",
              "    0.9883441729445485,\n",
              "    0.9887508197958825,\n",
              "    0.9888531713453785,\n",
              "    0.9879206796031121,\n",
              "    0.9883203556679284,\n",
              "    0.9888178117214071,\n",
              "    0.9884247693248003,\n",
              "    0.988615611361592,\n",
              "    0.9885159632650355,\n",
              "    0.988317547946816,\n",
              "    0.9885232553146917,\n",
              "    0.9886315446154775,\n",
              "    0.9887225599404866,\n",
              "    0.9884228590099674,\n",
              "    0.9882149440885218,\n",
              "    0.9886127942405911,\n",
              "    0.9884195962037724,\n",
              "    0.9882030105654678,\n",
              "    0.9884952364273649,\n",
              "    0.988206166719447,\n",
              "    0.9886056082592919,\n",
              "    0.9885173883989022,\n",
              "    0.9884975142448906,\n",
              "    0.9884000729067477]],\n",
              "  'f1_weighted': [[0.9467924299311354,\n",
              "    0.9715690635909141,\n",
              "    0.9740783285796302,\n",
              "    0.9783717881063203,\n",
              "    0.9802873410061597,\n",
              "    0.9823822390781485,\n",
              "    0.9823883817915772,\n",
              "    0.9831892935207596,\n",
              "    0.9837847931673438,\n",
              "    0.9839803569612686,\n",
              "    0.9851845096092305,\n",
              "    0.9854853667678668,\n",
              "    0.9865901982503456,\n",
              "    0.9856880674453152,\n",
              "    0.98668579316703,\n",
              "    0.9866869072942851,\n",
              "    0.9868867128177017,\n",
              "    0.9875893326418776,\n",
              "    0.9874892143929163,\n",
              "    0.9874872951844511,\n",
              "    0.9878897587280211,\n",
              "    0.9869812157939485,\n",
              "    0.9871830162905649,\n",
              "    0.9881862325157094,\n",
              "    0.9884877130544688,\n",
              "    0.9885896603573121,\n",
              "    0.9883890602135723,\n",
              "    0.988788315700271,\n",
              "    0.9888871165826171,\n",
              "    0.9879852529565482,\n",
              "    0.9883855741095614,\n",
              "    0.9888868266646885,\n",
              "    0.9884859517244998,\n",
              "    0.9886856025048167,\n",
              "    0.9885859638800888,\n",
              "    0.9883848007620935,\n",
              "    0.988583140080297,\n",
              "    0.9886836209775843,\n",
              "    0.9887865222745259,\n",
              "    0.9884868965987578,\n",
              "    0.9882852976155216,\n",
              "    0.9886910116235716,\n",
              "    0.9884891298857886,\n",
              "    0.9882909140811859,\n",
              "    0.9885865108885112,\n",
              "    0.9882861289128563,\n",
              "    0.9886885411454829,\n",
              "    0.9885868500138455,\n",
              "    0.9885870588030937,\n",
              "    0.9884878538511289]],\n",
              "  'hyperparams': {'C': 0.1,\n",
              "   'E': 5,\n",
              "   'K': 50,\n",
              "   'batch_size': 10,\n",
              "   'lr': 0.05,\n",
              "   'q': 0.001,\n",
              "   'rounds': 50,\n",
              "   'sampling': 'weighted'},\n",
              "  'test_accuracy': [[94.69,\n",
              "    97.16,\n",
              "    97.41,\n",
              "    97.84,\n",
              "    98.03,\n",
              "    98.24,\n",
              "    98.24,\n",
              "    98.32,\n",
              "    98.38,\n",
              "    98.4,\n",
              "    98.52,\n",
              "    98.55,\n",
              "    98.66,\n",
              "    98.57,\n",
              "    98.67,\n",
              "    98.67,\n",
              "    98.69,\n",
              "    98.76,\n",
              "    98.75,\n",
              "    98.75,\n",
              "    98.79,\n",
              "    98.7,\n",
              "    98.72,\n",
              "    98.82,\n",
              "    98.85,\n",
              "    98.86,\n",
              "    98.84,\n",
              "    98.88,\n",
              "    98.89,\n",
              "    98.8,\n",
              "    98.84,\n",
              "    98.89,\n",
              "    98.85,\n",
              "    98.87,\n",
              "    98.86,\n",
              "    98.84,\n",
              "    98.86,\n",
              "    98.87,\n",
              "    98.88,\n",
              "    98.85,\n",
              "    98.83,\n",
              "    98.87,\n",
              "    98.85,\n",
              "    98.83,\n",
              "    98.86,\n",
              "    98.83,\n",
              "    98.87,\n",
              "    98.86,\n",
              "    98.86,\n",
              "    98.85]],\n",
              "  'test_loss': [[1.386062661933899,\n",
              "    0.2825937856197357,\n",
              "    0.10901542285382748,\n",
              "    0.07570022791922093,\n",
              "    0.060662964781373736,\n",
              "    0.05492045627832413,\n",
              "    0.052945916779246184,\n",
              "    0.05055640307040885,\n",
              "    0.0498075356090907,\n",
              "    0.050463300241390244,\n",
              "    0.05028928369348869,\n",
              "    0.048730484254984184,\n",
              "    0.04595634508332005,\n",
              "    0.0470849195191171,\n",
              "    0.046492923663862165,\n",
              "    0.045686851827858484,\n",
              "    0.04513644501232775,\n",
              "    0.04353337410420354,\n",
              "    0.04354929825029685,\n",
              "    0.04455828937331098,\n",
              "    0.043953207416497754,\n",
              "    0.046096712950439545,\n",
              "    0.046671775070047446,\n",
              "    0.044964802581784896,\n",
              "    0.043787275347719694,\n",
              "    0.04251025877778484,\n",
              "    0.042200444390849585,\n",
              "    0.0421758816554262,\n",
              "    0.04261415318452491,\n",
              "    0.0438007694880127,\n",
              "    0.04404790437523625,\n",
              "    0.04304969929950221,\n",
              "    0.04383278817774544,\n",
              "    0.044587701268610634,\n",
              "    0.04339921208422747,\n",
              "    0.04398120158627135,\n",
              "    0.04432173687891718,\n",
              "    0.044590075202790465,\n",
              "    0.04464087201900966,\n",
              "    0.04477484053429325,\n",
              "    0.04574811074638219,\n",
              "    0.04543814455792681,\n",
              "    0.04662176375164545,\n",
              "    0.04664508185809609,\n",
              "    0.0462609053272985,\n",
              "    0.046993279502335734,\n",
              "    0.04654618578363279,\n",
              "    0.04744259650068061,\n",
              "    0.04845322019953037,\n",
              "    0.047819238702424396]],\n",
              "  'train_loss': [[0.3546623130476352,\n",
              "    0.1557647814427666,\n",
              "    0.10669496431867173,\n",
              "    0.08209526796532046,\n",
              "    0.06782545194670517,\n",
              "    0.0496566780045135,\n",
              "    0.036701098161215764,\n",
              "    0.040194280631894765,\n",
              "    0.04140939194484149,\n",
              "    0.02706386511199514,\n",
              "    0.021570404506586795,\n",
              "    0.022591235542909805,\n",
              "    0.022163037545147812,\n",
              "    0.016919129341663425,\n",
              "    0.017509960711835193,\n",
              "    0.020381928528824988,\n",
              "    0.012589438716756182,\n",
              "    0.009454714311843346,\n",
              "    0.017738077946425915,\n",
              "    0.013189279546147065,\n",
              "    0.005641521101381916,\n",
              "    0.008793980683938413,\n",
              "    0.010975722619226396,\n",
              "    0.005202848933715843,\n",
              "    0.005427574986214612,\n",
              "    0.009655129540897808,\n",
              "    0.007987227897381034,\n",
              "    0.002867337152615174,\n",
              "    0.0031677464505417683,\n",
              "    0.004377483258948872,\n",
              "    0.0016573580574602645,\n",
              "    0.007733628554842456,\n",
              "    0.0006669812541028784,\n",
              "    0.006205966654962751,\n",
              "    0.010653543516998714,\n",
              "    0.0009014956365244615,\n",
              "    0.002919394408536702,\n",
              "    0.0008292354216045195,\n",
              "    0.0016286792068439062,\n",
              "    0.000856341437254177,\n",
              "    0.0008710204553554325,\n",
              "    0.002526548715620522,\n",
              "    0.00028035834932843253,\n",
              "    0.007531246484334753,\n",
              "    0.005947827938541704,\n",
              "    0.0004350898802837999,\n",
              "    0.0015275301679304352,\n",
              "    0.00020523069286358658,\n",
              "    0.00025279375700047464,\n",
              "    0.00640609224914457]]},\n",
              " 'MNIST CNN on Non IID': {'f1_macro': [[0.021829360402422216,\n",
              "    0.15434141511537405,\n",
              "    0.17944069474553911,\n",
              "    0.2228826810222578,\n",
              "    0.2736016472413337,\n",
              "    0.32057263992650215,\n",
              "    0.35289770077612576,\n",
              "    0.37391080329058834,\n",
              "    0.3811759538546232,\n",
              "    0.3931492047102211,\n",
              "    0.3948876654121694,\n",
              "    0.3996612914306964,\n",
              "    0.4058836684913215,\n",
              "    0.4108566966217387,\n",
              "    0.41409376061750863,\n",
              "    0.41654520444581494,\n",
              "    0.41922075973436945,\n",
              "    0.4222480041118294,\n",
              "    0.4254142093881311,\n",
              "    0.4233884441829006,\n",
              "    0.4237499656311514,\n",
              "    0.42679160759187285,\n",
              "    0.43043328908655837,\n",
              "    0.4275225183714257,\n",
              "    0.4305600248481839,\n",
              "    0.43040681118637714,\n",
              "    0.43189897071780575,\n",
              "    0.4346801323555619,\n",
              "    0.43432762360367255,\n",
              "    0.4355158176203678,\n",
              "    0.4367746919556067,\n",
              "    0.4368913341493975,\n",
              "    0.436998800472921,\n",
              "    0.43635398450267876,\n",
              "    0.4367096958537623,\n",
              "    0.43688363183417867,\n",
              "    0.4383428177704206,\n",
              "    0.43982570684032113,\n",
              "    0.4391764740243169,\n",
              "    0.43973627069860005,\n",
              "    0.44027284742047834,\n",
              "    0.4406174473299685,\n",
              "    0.4410667251217452,\n",
              "    0.4402446962320683,\n",
              "    0.4407104199511694,\n",
              "    0.4408367696085259,\n",
              "    0.44016552076979487,\n",
              "    0.4410697814515648,\n",
              "    0.4415994099000876,\n",
              "    0.44201671028663503]],\n",
              "  'f1_weighted': [[0.024549069353850345,\n",
              "    0.1563647115135035,\n",
              "    0.18403960775013578,\n",
              "    0.22702882022722712,\n",
              "    0.2762415185862607,\n",
              "    0.32286312261733463,\n",
              "    0.35447543603990406,\n",
              "    0.37551236725007137,\n",
              "    0.38316799786635786,\n",
              "    0.3950602098075212,\n",
              "    0.39744180074010255,\n",
              "    0.4019759035875966,\n",
              "    0.4081156057134518,\n",
              "    0.4132642737098664,\n",
              "    0.41653795223378265,\n",
              "    0.41920798198325365,\n",
              "    0.4216703603341683,\n",
              "    0.4248040835552393,\n",
              "    0.42816256747817194,\n",
              "    0.425711335447488,\n",
              "    0.42625578092517774,\n",
              "    0.4293401422851093,\n",
              "    0.4329545414971179,\n",
              "    0.43012691149898985,\n",
              "    0.4331095780533113,\n",
              "    0.4331562025971946,\n",
              "    0.4345606348584483,\n",
              "    0.4367732968893709,\n",
              "    0.4364011513267882,\n",
              "    0.43795661443195294,\n",
              "    0.4391472840523651,\n",
              "    0.4394272769767114,\n",
              "    0.43991262168413076,\n",
              "    0.4390292456557711,\n",
              "    0.439445443199509,\n",
              "    0.43946643488753573,\n",
              "    0.44076914185118504,\n",
              "    0.44224400135552133,\n",
              "    0.4420530585772129,\n",
              "    0.44250543301304535,\n",
              "    0.443193317107734,\n",
              "    0.4435805731749019,\n",
              "    0.4441155000093222,\n",
              "    0.44313901502810166,\n",
              "    0.4437334609446022,\n",
              "    0.4439564864355504,\n",
              "    0.4433644164103237,\n",
              "    0.44406014329846083,\n",
              "    0.444423161065005,\n",
              "    0.4447309771866254]],\n",
              "  'hyperparams': {'C': 0.1,\n",
              "   'E': 5,\n",
              "   'K': 50,\n",
              "   'batch_size': 10,\n",
              "   'lr': 0.05,\n",
              "   'q': 0.001,\n",
              "   'rounds': 50,\n",
              "   'sampling': 'weighted'},\n",
              "  'test_accuracy': [[11.42,\n",
              "    28.44,\n",
              "    31.84,\n",
              "    34.31,\n",
              "    38.03,\n",
              "    42.0,\n",
              "    45.28,\n",
              "    48.15,\n",
              "    48.78,\n",
              "    50.46,\n",
              "    50.91,\n",
              "    51.24,\n",
              "    51.86,\n",
              "    52.89,\n",
              "    53.57,\n",
              "    53.7,\n",
              "    54.16,\n",
              "    54.63,\n",
              "    55.08,\n",
              "    54.89,\n",
              "    54.65,\n",
              "    55.22,\n",
              "    55.7,\n",
              "    55.47,\n",
              "    56.19,\n",
              "    56.19,\n",
              "    56.24,\n",
              "    57.16,\n",
              "    56.98,\n",
              "    57.2,\n",
              "    56.92,\n",
              "    56.8,\n",
              "    56.77,\n",
              "    57.11,\n",
              "    57.05,\n",
              "    57.35,\n",
              "    57.6,\n",
              "    57.38,\n",
              "    57.33,\n",
              "    57.43,\n",
              "    57.32,\n",
              "    57.32,\n",
              "    57.47,\n",
              "    57.4,\n",
              "    57.25,\n",
              "    57.21,\n",
              "    57.01,\n",
              "    57.62,\n",
              "    57.82,\n",
              "    57.98]],\n",
              "  'test_loss': [[2.2623399532318116,\n",
              "    2.1497744842529296,\n",
              "    2.0563560794830322,\n",
              "    2.0910266750335693,\n",
              "    2.149236929702759,\n",
              "    2.196166561508179,\n",
              "    2.277369853210449,\n",
              "    2.3498961654663084,\n",
              "    2.423167527770996,\n",
              "    2.4952765365600587,\n",
              "    2.5649848918914797,\n",
              "    2.644487937927246,\n",
              "    2.846111167526245,\n",
              "    2.823843701171875,\n",
              "    2.8539905990600585,\n",
              "    2.941076279067993,\n",
              "    2.9832110904693603,\n",
              "    3.0132919467926027,\n",
              "    3.014995722198486,\n",
              "    2.982262243270874,\n",
              "    3.1216767337799074,\n",
              "    3.0936171295166015,\n",
              "    3.2490640335083008,\n",
              "    3.2187767669677734,\n",
              "    3.316190274810791,\n",
              "    3.3306397121429443,\n",
              "    3.4349650512695313,\n",
              "    3.1952673843383788,\n",
              "    3.313317586517334,\n",
              "    3.362272587585449,\n",
              "    3.3682100242614745,\n",
              "    3.440354286193848,\n",
              "    3.519243398284912,\n",
              "    3.382073089599609,\n",
              "    3.5670609313964845,\n",
              "    3.586195281982422,\n",
              "    3.6304595584869386,\n",
              "    3.708116650390625,\n",
              "    3.7042412342071533,\n",
              "    3.6905072326660155,\n",
              "    3.7459848999023437,\n",
              "    3.903114465713501,\n",
              "    3.7807712902069093,\n",
              "    3.8576579467773437,\n",
              "    3.9714496017456056,\n",
              "    3.9955853359222413,\n",
              "    3.957920909500122,\n",
              "    3.870393355560303,\n",
              "    3.8119718002319334,\n",
              "    3.8090655883789064]],\n",
              "  'train_loss': [[0.07398521448520476,\n",
              "    0.04038278349685614,\n",
              "    0.023878170136017958,\n",
              "    0.017466061114313668,\n",
              "    0.01526763903088521,\n",
              "    0.013698898281673203,\n",
              "    0.01248850916040975,\n",
              "    0.00974216208998746,\n",
              "    0.009405846588615667,\n",
              "    0.007353988695944278,\n",
              "    0.008602787256853397,\n",
              "    0.008089955606299128,\n",
              "    0.0040051119170064564,\n",
              "    0.007426117759346843,\n",
              "    0.00578951964961087,\n",
              "    0.005074763984001287,\n",
              "    0.005724919814180376,\n",
              "    0.003592147614069127,\n",
              "    0.004580994658895116,\n",
              "    0.006241395344985177,\n",
              "    0.0035366729956417806,\n",
              "    0.005003650052596186,\n",
              "    0.0016926107272035866,\n",
              "    0.005176136547461392,\n",
              "    0.001115400638915061,\n",
              "    0.0033187381927966527,\n",
              "    0.001480774125166606,\n",
              "    0.005790385237042644,\n",
              "    0.0020236165753515323,\n",
              "    0.001462691943240926,\n",
              "    0.003959255243652758,\n",
              "    0.0028159337625513897,\n",
              "    0.001778574391027216,\n",
              "    0.004026999609717516,\n",
              "    0.0006221202741345238,\n",
              "    0.0016257728910425626,\n",
              "    0.0010064195949514771,\n",
              "    0.0014715759017783837,\n",
              "    0.0018360749246272346,\n",
              "    0.002088845977983694,\n",
              "    0.0017367656593558721,\n",
              "    0.0004434838070158425,\n",
              "    0.0031904467688979713,\n",
              "    0.0006843040836948523,\n",
              "    0.0006046718495946764,\n",
              "    0.0014378606004894997,\n",
              "    0.0028340455888974086,\n",
              "    0.0012623267369238239,\n",
              "    0.0022318047490897854,\n",
              "    0.0017153570891378569]]},\n",
              " 'MNIST MLP on IID': {'f1_macro': [[0.8962441509167351,\n",
              "    0.9231597365397317,\n",
              "    0.9317502954482068,\n",
              "    0.9381774100463964,\n",
              "    0.9416563259347571,\n",
              "    0.9446110493409364,\n",
              "    0.946743240541114,\n",
              "    0.9483758867312801,\n",
              "    0.9507991666540269,\n",
              "    0.9516011207387594,\n",
              "    0.9518340177725623,\n",
              "    0.9523322258081792,\n",
              "    0.9530337439354868,\n",
              "    0.9526383190056981,\n",
              "    0.9525700192426436,\n",
              "    0.9535882246051581,\n",
              "    0.9550632456027411,\n",
              "    0.9546192282764749,\n",
              "    0.955121365919187,\n",
              "    0.9553242113478058,\n",
              "    0.9553770540128766,\n",
              "    0.9553712543061288,\n",
              "    0.9560136941335668,\n",
              "    0.9566959207767723,\n",
              "    0.956896476498468,\n",
              "    0.9571370006769289,\n",
              "    0.9576358377370212,\n",
              "    0.9576283192669433,\n",
              "    0.957736382657755,\n",
              "    0.958025235470302,\n",
              "    0.9584442686215289,\n",
              "    0.9578208962353301,\n",
              "    0.9582112623266035,\n",
              "    0.9584267905770611,\n",
              "    0.9581341274896527,\n",
              "    0.958025793483419,\n",
              "    0.958320476257736,\n",
              "    0.9582192470971966,\n",
              "    0.9581211130719807,\n",
              "    0.9585239205085389,\n",
              "    0.9581243149810945,\n",
              "    0.9581243149810945,\n",
              "    0.9582183572553422,\n",
              "    0.9581051024571456,\n",
              "    0.9581009871130476,\n",
              "    0.957803980138635,\n",
              "    0.957803980138635,\n",
              "    0.9579025585563947,\n",
              "    0.9578009193947954,\n",
              "    0.9578009193947954]],\n",
              "  'f1_weighted': [[0.8967374932150284,\n",
              "    0.9237333119504614,\n",
              "    0.9323091585795946,\n",
              "    0.9387096774793763,\n",
              "    0.9421518638996169,\n",
              "    0.9450761972384697,\n",
              "    0.9471874359427468,\n",
              "    0.9487931721667372,\n",
              "    0.9512083857533993,\n",
              "    0.9520240632094336,\n",
              "    0.9522187324016138,\n",
              "    0.9527271610278895,\n",
              "    0.9534227004198418,\n",
              "    0.9530384422918411,\n",
              "    0.9530384375186571,\n",
              "    0.95403497326122,\n",
              "    0.9554426859131403,\n",
              "    0.9550375108197084,\n",
              "    0.9555407597940093,\n",
              "    0.9557459396392624,\n",
              "    0.9558318809389325,\n",
              "    0.9558361906016664,\n",
              "    0.9564409620854545,\n",
              "    0.957135736640343,\n",
              "    0.9573362129479015,\n",
              "    0.9575438547492641,\n",
              "    0.9580430311336928,\n",
              "    0.9580431849911937,\n",
              "    0.9581421645256595,\n",
              "    0.9584408645656894,\n",
              "    0.9588405612447135,\n",
              "    0.9582380044085743,\n",
              "    0.9586363280425847,\n",
              "    0.9588377714491391,\n",
              "    0.9585396866529836,\n",
              "    0.9584385871114665,\n",
              "    0.9587416581404957,\n",
              "    0.9586405385278843,\n",
              "    0.9585394508769547,\n",
              "    0.9589417980135803,\n",
              "    0.9585395016034923,\n",
              "    0.9585395016034923,\n",
              "    0.9586404872855244,\n",
              "    0.9585360194810548,\n",
              "    0.9585332311196795,\n",
              "    0.9582287515109629,\n",
              "    0.9582287515109629,\n",
              "    0.9583282685149327,\n",
              "    0.9582288507797546,\n",
              "    0.9582288507797546]],\n",
              "  'hyperparams': {'C': 0.1,\n",
              "   'E': 5,\n",
              "   'K': 50,\n",
              "   'batch_size': 10,\n",
              "   'lr': 0.05,\n",
              "   'q': 0.001,\n",
              "   'rounds': 50,\n",
              "   'sampling': 'weighted'},\n",
              "  'test_accuracy': [[89.78,\n",
              "    92.42,\n",
              "    93.26,\n",
              "    93.89,\n",
              "    94.23,\n",
              "    94.52,\n",
              "    94.73,\n",
              "    94.89,\n",
              "    95.13,\n",
              "    95.21,\n",
              "    95.23,\n",
              "    95.28,\n",
              "    95.35,\n",
              "    95.31,\n",
              "    95.31,\n",
              "    95.41,\n",
              "    95.55,\n",
              "    95.51,\n",
              "    95.56,\n",
              "    95.58,\n",
              "    95.59,\n",
              "    95.59,\n",
              "    95.65,\n",
              "    95.72,\n",
              "    95.74,\n",
              "    95.76,\n",
              "    95.81,\n",
              "    95.81,\n",
              "    95.82,\n",
              "    95.85,\n",
              "    95.89,\n",
              "    95.83,\n",
              "    95.87,\n",
              "    95.89,\n",
              "    95.86,\n",
              "    95.85,\n",
              "    95.88,\n",
              "    95.87,\n",
              "    95.86,\n",
              "    95.9,\n",
              "    95.86,\n",
              "    95.86,\n",
              "    95.87,\n",
              "    95.86,\n",
              "    95.86,\n",
              "    95.83,\n",
              "    95.83,\n",
              "    95.84,\n",
              "    95.83,\n",
              "    95.83]],\n",
              "  'test_loss': [[1.70827942237854,\n",
              "    0.3705756322145462,\n",
              "    0.22713739465475083,\n",
              "    0.20473628924190998,\n",
              "    0.19711028797328473,\n",
              "    0.19142622866258024,\n",
              "    0.18775688061825932,\n",
              "    0.1836697984751314,\n",
              "    0.17987451393306256,\n",
              "    0.17826950188949703,\n",
              "    0.1762558108922094,\n",
              "    0.17471067643910645,\n",
              "    0.1721777023848146,\n",
              "    0.17178151170536876,\n",
              "    0.17249431090690195,\n",
              "    0.17007150403345003,\n",
              "    0.1686799547644332,\n",
              "    0.16947648159242235,\n",
              "    0.168949614961911,\n",
              "    0.16996636335630902,\n",
              "    0.17039790040352382,\n",
              "    0.1694913729641121,\n",
              "    0.168274947427772,\n",
              "    0.16851984192701056,\n",
              "    0.16848189774525818,\n",
              "    0.16875083047947848,\n",
              "    0.1688019083318766,\n",
              "    0.16945951874046586,\n",
              "    0.16978756861072034,\n",
              "    0.1703615721357055,\n",
              "    0.1714671335602412,\n",
              "    0.17230058555330616,\n",
              "    0.17315512808929198,\n",
              "    0.1742853216055315,\n",
              "    0.17534628487834708,\n",
              "    0.17626286478135736,\n",
              "    0.177182317365543,\n",
              "    0.17798441388309003,\n",
              "    0.1787700793811702,\n",
              "    0.17941954332512106,\n",
              "    0.1802380835114047,\n",
              "    0.18086345644841204,\n",
              "    0.18150848346932325,\n",
              "    0.18211503644126933,\n",
              "    0.18266934675691882,\n",
              "    0.18317935380592243,\n",
              "    0.18368391840645346,\n",
              "    0.18414581787376666,\n",
              "    0.1846001224598731,\n",
              "    0.18505588685983093]],\n",
              "  'train_loss': [[0.356899958559797,\n",
              "    0.1936414640072083,\n",
              "    0.13932982749538012,\n",
              "    0.1163154528018143,\n",
              "    0.09516981279557209,\n",
              "    0.08394394559237117,\n",
              "    0.0772588372281328,\n",
              "    0.06755381255567712,\n",
              "    0.06072045352969143,\n",
              "    0.05485013842172187,\n",
              "    0.05115939672325119,\n",
              "    0.04782925955368985,\n",
              "    0.0391375806112413,\n",
              "    0.02580117614988679,\n",
              "    0.03311227810870757,\n",
              "    0.031886647762617334,\n",
              "    0.023316098282008167,\n",
              "    0.02406746683583712,\n",
              "    0.018960773222397243,\n",
              "    0.021609568978286614,\n",
              "    0.017549905942089255,\n",
              "    0.01030843200169905,\n",
              "    0.009980517307073418,\n",
              "    0.011523493235315905,\n",
              "    0.0068231988646958435,\n",
              "    0.003685882585468941,\n",
              "    0.0027564162662422212,\n",
              "    0.0033708475256055406,\n",
              "    0.0023197566857848526,\n",
              "    0.002752082884465873,\n",
              "    0.0014787328517980615,\n",
              "    0.0015357215937925018,\n",
              "    0.001275796660624034,\n",
              "    0.0011017931361729555,\n",
              "    0.0010420121162049822,\n",
              "    0.0009828266329546741,\n",
              "    0.0009340699456337328,\n",
              "    0.000885299804681201,\n",
              "    0.0008268463016768047,\n",
              "    0.0007959591780991153,\n",
              "    0.0007595834636606469,\n",
              "    0.0007272022979571489,\n",
              "    0.0006987056785748546,\n",
              "    0.000662697566964295,\n",
              "    0.0006459343055786064,\n",
              "    0.0006185357435376842,\n",
              "    0.0005929505412116309,\n",
              "    0.0005732320883711565,\n",
              "    0.0005522696769235107,\n",
              "    0.0005342916210596537]]},\n",
              " 'MNIST MLP on Non IID': {'f1_macro': [[0.0747530176703209,\n",
              "    0.07448438167248514,\n",
              "    0.08071556869420757,\n",
              "    0.10480213454681493,\n",
              "    0.14268247155460628,\n",
              "    0.18152039797107217,\n",
              "    0.26934220915982066,\n",
              "    0.3159546912127464,\n",
              "    0.3512463979282442,\n",
              "    0.38240598500422174,\n",
              "    0.45428964571808905,\n",
              "    0.46054799907256305,\n",
              "    0.46549132787565684,\n",
              "    0.46848961438333686,\n",
              "    0.472685118137961,\n",
              "    0.47677564328004784,\n",
              "    0.4879171810074734,\n",
              "    0.49640721447560676,\n",
              "    0.5023468576773024,\n",
              "    0.50849969709669,\n",
              "    0.511966869127302,\n",
              "    0.5168312606595724,\n",
              "    0.5156440591579214,\n",
              "    0.521370085101786,\n",
              "    0.5198665535537875,\n",
              "    0.5215959064956123,\n",
              "    0.5175969966861478,\n",
              "    0.5199574446968267,\n",
              "    0.5201547529196549,\n",
              "    0.5234041398412265,\n",
              "    0.5294799142929485,\n",
              "    0.5319831491751452,\n",
              "    0.5333550229156087,\n",
              "    0.5327095939863324,\n",
              "    0.5325570774581916,\n",
              "    0.5330168722638515,\n",
              "    0.5329026254774704,\n",
              "    0.5319540942055084,\n",
              "    0.532335433041845,\n",
              "    0.5323336443054971,\n",
              "    0.5339594667290287,\n",
              "    0.536050081099824,\n",
              "    0.536533425093331,\n",
              "    0.5383125175208657,\n",
              "    0.5351234960868743,\n",
              "    0.5360630239034553,\n",
              "    0.5383240376083679,\n",
              "    0.5389144739850218,\n",
              "    0.5404132805033235,\n",
              "    0.5412226096871708]],\n",
              "  'f1_weighted': [[0.07315526915772129,\n",
              "    0.07234554527772812,\n",
              "    0.07769039684255517,\n",
              "    0.10056186407198085,\n",
              "    0.1369503890418477,\n",
              "    0.1748952291631401,\n",
              "    0.261310634467426,\n",
              "    0.30768314243037903,\n",
              "    0.3424461362267883,\n",
              "    0.3754145349668055,\n",
              "    0.45505443496493553,\n",
              "    0.4605045777350485,\n",
              "    0.46493279393437625,\n",
              "    0.4684785014259725,\n",
              "    0.47269666276068995,\n",
              "    0.47695257508144384,\n",
              "    0.4878417991991459,\n",
              "    0.49660525166034003,\n",
              "    0.5020590143667462,\n",
              "    0.5084195013623776,\n",
              "    0.5122800795016533,\n",
              "    0.517227818719954,\n",
              "    0.5161066128611663,\n",
              "    0.5218820775861034,\n",
              "    0.5202291618334642,\n",
              "    0.52189300218534,\n",
              "    0.5176911706653664,\n",
              "    0.5200837080212088,\n",
              "    0.5202392373904995,\n",
              "    0.5235224701866631,\n",
              "    0.5294778861377697,\n",
              "    0.5320912756271753,\n",
              "    0.5335753627523905,\n",
              "    0.5329674895499842,\n",
              "    0.5329480263682916,\n",
              "    0.5334452193265209,\n",
              "    0.5333649306273935,\n",
              "    0.5324135863151502,\n",
              "    0.5328141149092839,\n",
              "    0.5327601046617936,\n",
              "    0.534316793015066,\n",
              "    0.5363836684162219,\n",
              "    0.5367544793132207,\n",
              "    0.5383261092465204,\n",
              "    0.5351881015382209,\n",
              "    0.5361602348989934,\n",
              "    0.5383169630542316,\n",
              "    0.5389861186917566,\n",
              "    0.54043843098106,\n",
              "    0.5410234318315077]],\n",
              "  'hyperparams': {'C': 0.1,\n",
              "   'E': 5,\n",
              "   'K': 50,\n",
              "   'batch_size': 10,\n",
              "   'lr': 0.05,\n",
              "   'q': 0.001,\n",
              "   'rounds': 50,\n",
              "   'sampling': 'weighted'},\n",
              "  'test_accuracy': [[15.51,\n",
              "    17.51,\n",
              "    18.88,\n",
              "    20.54,\n",
              "    23.18,\n",
              "    26.11,\n",
              "    32.56,\n",
              "    37.06,\n",
              "    40.79,\n",
              "    44.29,\n",
              "    51.61,\n",
              "    52.38,\n",
              "    53.01,\n",
              "    53.46,\n",
              "    54.13,\n",
              "    54.59,\n",
              "    55.93,\n",
              "    57.14,\n",
              "    57.6,\n",
              "    58.56,\n",
              "    59.27,\n",
              "    60.08,\n",
              "    59.82,\n",
              "    60.82,\n",
              "    60.45,\n",
              "    60.67,\n",
              "    59.9,\n",
              "    60.29,\n",
              "    60.23,\n",
              "    60.83,\n",
              "    61.74,\n",
              "    62.27,\n",
              "    62.89,\n",
              "    62.69,\n",
              "    62.74,\n",
              "    62.77,\n",
              "    62.65,\n",
              "    62.55,\n",
              "    62.65,\n",
              "    62.5,\n",
              "    62.69,\n",
              "    63.04,\n",
              "    63.0,\n",
              "    63.15,\n",
              "    62.57,\n",
              "    62.84,\n",
              "    63.13,\n",
              "    63.2,\n",
              "    63.5,\n",
              "    63.4]],\n",
              "  'test_loss': [[4.546546649169922,\n",
              "    3.998399764251709,\n",
              "    3.723298011016846,\n",
              "    3.5721602264404297,\n",
              "    3.4581036392211915,\n",
              "    3.3541207050323485,\n",
              "    3.2374876934051513,\n",
              "    3.163786008453369,\n",
              "    3.153210151672363,\n",
              "    3.090864052581787,\n",
              "    2.9933763153076174,\n",
              "    3.0496120719909667,\n",
              "    3.115743076324463,\n",
              "    3.177842383956909,\n",
              "    3.2113273750305176,\n",
              "    3.259526920700073,\n",
              "    3.297145932006836,\n",
              "    3.3243235931396486,\n",
              "    3.385458966064453,\n",
              "    3.3964383880615236,\n",
              "    3.4207422370910643,\n",
              "    3.4376859672546387,\n",
              "    3.484940156555176,\n",
              "    3.4886533557891846,\n",
              "    3.541288957977295,\n",
              "    3.5834088535308837,\n",
              "    3.6531321754455566,\n",
              "    3.680442269515991,\n",
              "    3.73253102684021,\n",
              "    3.731350175476074,\n",
              "    3.7341114345550537,\n",
              "    3.7484450366973876,\n",
              "    3.717555986404419,\n",
              "    3.7775273483276366,\n",
              "    3.7984982723236085,\n",
              "    3.8227925498962403,\n",
              "    3.8685385452270507,\n",
              "    3.857770361328125,\n",
              "    3.8743456169128416,\n",
              "    3.9237636322021485,\n",
              "    3.95096798248291,\n",
              "    3.959067465209961,\n",
              "    4.006798489379883,\n",
              "    4.035850325012207,\n",
              "    4.065838493347168,\n",
              "    4.069754704284668,\n",
              "    4.075738133239746,\n",
              "    4.090388372802734,\n",
              "    4.079583517456054,\n",
              "    4.120694145965576]],\n",
              "  'train_loss': [[0.07717763402912392,\n",
              "    0.03725320350163079,\n",
              "    0.03236045242318203,\n",
              "    0.02523500508672798,\n",
              "    0.02290374592351877,\n",
              "    0.020826286535394298,\n",
              "    0.020383574797867832,\n",
              "    0.018379605820652338,\n",
              "    0.015858568087576602,\n",
              "    0.01460297380133981,\n",
              "    0.01351510823809025,\n",
              "    0.014551898588557183,\n",
              "    0.012054633022690678,\n",
              "    0.012723078226844231,\n",
              "    0.012790544842400622,\n",
              "    0.009926047094565885,\n",
              "    0.007867822695798155,\n",
              "    0.008005103451168255,\n",
              "    0.008261166129926282,\n",
              "    0.01038435629268406,\n",
              "    0.008708308477411513,\n",
              "    0.007062476531075239,\n",
              "    0.008337878168486032,\n",
              "    0.0036599668049169505,\n",
              "    0.006547234526058906,\n",
              "    0.0028240884164835002,\n",
              "    0.005840410188121969,\n",
              "    0.0030043367968344437,\n",
              "    0.0038027030340590587,\n",
              "    0.004033817853689715,\n",
              "    0.003445598207273609,\n",
              "    0.0027814757754323293,\n",
              "    0.0023672772773218943,\n",
              "    0.0018253278588678755,\n",
              "    0.0018121474561317373,\n",
              "    0.003046208402955277,\n",
              "    0.001648368723860189,\n",
              "    0.00813445684270634,\n",
              "    0.0015776687828287013,\n",
              "    0.0014448488620807836,\n",
              "    0.0014681799196404205,\n",
              "    0.0017737783237656035,\n",
              "    0.0012495191045766756,\n",
              "    0.001462925667154705,\n",
              "    0.006274890635853854,\n",
              "    0.0013831084372540718,\n",
              "    0.0013954380514663918,\n",
              "    0.001558652777719789,\n",
              "    0.0018714951479856753,\n",
              "    0.0013610494575256005]]}}"
            ]
          },
          "metadata": {
            "tags": []
          },
          "execution_count": 142
        }
      ]
    },
    {
      "cell_type": "code",
      "metadata": {
        "id": "ODyhlJgHRYtz"
      },
      "source": [
        "import pickle\n",
        "\n",
        "with open(path + 'qFedAvg_k50.pkl', 'rb') as file:\n",
        "  log_dict = pickle.load(file)"
      ],
      "execution_count": 143,
      "outputs": []
    },
    {
      "cell_type": "code",
      "metadata": {
        "id": "se_04JMaVJPg",
        "colab": {
          "base_uri": "https://localhost:8080/"
        },
        "outputId": "54e0f810-b779-4573-ee2e-b0cde7089ee1"
      },
      "source": [
        "print([test_acc[-1] for test_acc in log_dict['MNIST CNN on IID']['test_accuracy']])"
      ],
      "execution_count": 144,
      "outputs": [
        {
          "output_type": "stream",
          "text": [
            "[98.85]\n"
          ],
          "name": "stdout"
        }
      ]
    },
    {
      "cell_type": "code",
      "metadata": {
        "id": "5sv0rv-G4Sqa",
        "colab": {
          "base_uri": "https://localhost:8080/"
        },
        "outputId": "5c5ecbc0-a6b3-4c00-f8ac-eac4aefd1235"
      },
      "source": [
        "print([test_acc[-1] for test_acc in log_dict['MNIST CNN on Non IID']['test_accuracy']])"
      ],
      "execution_count": 145,
      "outputs": [
        {
          "output_type": "stream",
          "text": [
            "[57.98]\n"
          ],
          "name": "stdout"
        }
      ]
    },
    {
      "cell_type": "code",
      "metadata": {
        "id": "b2a2_Az-4nal",
        "colab": {
          "base_uri": "https://localhost:8080/"
        },
        "outputId": "85b00e78-5e0a-46c4-8c81-fd0a0d427459"
      },
      "source": [
        "print([test_acc[-1] for test_acc in log_dict['MNIST MLP on IID']['test_accuracy']])"
      ],
      "execution_count": 146,
      "outputs": [
        {
          "output_type": "stream",
          "text": [
            "[95.83]\n"
          ],
          "name": "stdout"
        }
      ]
    },
    {
      "cell_type": "code",
      "metadata": {
        "id": "YoRqZyvD4p2K",
        "colab": {
          "base_uri": "https://localhost:8080/"
        },
        "outputId": "3557ce92-162e-4488-dfb1-d35e3ac4eb32"
      },
      "source": [
        "print([test_acc[-1] for test_acc in log_dict['MNIST MLP on Non IID']['test_accuracy']])"
      ],
      "execution_count": 147,
      "outputs": [
        {
          "output_type": "stream",
          "text": [
            "[63.4]\n"
          ],
          "name": "stdout"
        }
      ]
    },
    {
      "cell_type": "code",
      "metadata": {
        "id": "B87eGKJnAHIh",
        "colab": {
          "base_uri": "https://localhost:8080/"
        },
        "outputId": "9acd9bc6-0122-4397-fc12-8cb7119702fd"
      },
      "source": [
        "output.show()"
      ],
      "execution_count": 148,
      "outputs": [
        {
          "output_type": "stream",
          "text": [
            "Drive already mounted at /content/drive; to attempt to forcibly remount, call drive.mount(\"/content/drive\", force_remount=True).\n"
          ],
          "name": "stdout"
        }
      ]
    },
    {
      "cell_type": "code",
      "metadata": {
        "id": "c_IQNJU3RYt0"
      },
      "source": [
        ""
      ],
      "execution_count": 148,
      "outputs": []
    }
  ]
}