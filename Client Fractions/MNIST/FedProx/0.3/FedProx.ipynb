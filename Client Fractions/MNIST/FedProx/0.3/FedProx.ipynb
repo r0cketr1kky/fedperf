{
  "nbformat": 4,
  "nbformat_minor": 0,
  "metadata": {
    "accelerator": "GPU",
    "colab": {
      "name": "FedProx.ipynb",
      "provenance": [],
      "collapsed_sections": [],
      "machine_shape": "hm"
    },
    "kernelspec": {
      "name": "python3",
      "display_name": "Python 3"
    },
    "language_info": {
      "name": "python"
    },
    "widgets": {
      "application/vnd.jupyter.widget-state+json": {
        "ec9c465704b84ae685cf2a117e1481bf": {
          "model_module": "@jupyter-widgets/controls",
          "model_name": "HBoxModel",
          "state": {
            "_view_name": "HBoxView",
            "_dom_classes": [],
            "_model_name": "HBoxModel",
            "_view_module": "@jupyter-widgets/controls",
            "_model_module_version": "1.5.0",
            "_view_count": null,
            "_view_module_version": "1.5.0",
            "box_style": "",
            "layout": "IPY_MODEL_e972956dae824e419fc3e59411b5e11c",
            "_model_module": "@jupyter-widgets/controls",
            "children": [
              "IPY_MODEL_abbfec24072f44afa0186375d9b8d3d8",
              "IPY_MODEL_834a0eb9ed46415abd0ff032394ab620"
            ]
          }
        },
        "e972956dae824e419fc3e59411b5e11c": {
          "model_module": "@jupyter-widgets/base",
          "model_name": "LayoutModel",
          "state": {
            "_view_name": "LayoutView",
            "grid_template_rows": null,
            "right": null,
            "justify_content": null,
            "_view_module": "@jupyter-widgets/base",
            "overflow": null,
            "_model_module_version": "1.2.0",
            "_view_count": null,
            "flex_flow": null,
            "width": null,
            "min_width": null,
            "border": null,
            "align_items": null,
            "bottom": null,
            "_model_module": "@jupyter-widgets/base",
            "top": null,
            "grid_column": null,
            "overflow_y": null,
            "overflow_x": null,
            "grid_auto_flow": null,
            "grid_area": null,
            "grid_template_columns": null,
            "flex": null,
            "_model_name": "LayoutModel",
            "justify_items": null,
            "grid_row": null,
            "max_height": null,
            "align_content": null,
            "visibility": null,
            "align_self": null,
            "height": null,
            "min_height": null,
            "padding": null,
            "grid_auto_rows": null,
            "grid_gap": null,
            "max_width": null,
            "order": null,
            "_view_module_version": "1.2.0",
            "grid_template_areas": null,
            "object_position": null,
            "object_fit": null,
            "grid_auto_columns": null,
            "margin": null,
            "display": null,
            "left": null
          }
        },
        "abbfec24072f44afa0186375d9b8d3d8": {
          "model_module": "@jupyter-widgets/controls",
          "model_name": "FloatProgressModel",
          "state": {
            "_view_name": "ProgressView",
            "style": "IPY_MODEL_acf5a46373ff40da9e2deb743724e496",
            "_dom_classes": [],
            "description": "",
            "_model_name": "FloatProgressModel",
            "bar_style": "success",
            "max": 9912422,
            "_view_module": "@jupyter-widgets/controls",
            "_model_module_version": "1.5.0",
            "value": 9912422,
            "_view_count": null,
            "_view_module_version": "1.5.0",
            "orientation": "horizontal",
            "min": 0,
            "description_tooltip": null,
            "_model_module": "@jupyter-widgets/controls",
            "layout": "IPY_MODEL_a12b45b48b914cc5a07c1cf66a5ed7c3"
          }
        },
        "834a0eb9ed46415abd0ff032394ab620": {
          "model_module": "@jupyter-widgets/controls",
          "model_name": "HTMLModel",
          "state": {
            "_view_name": "HTMLView",
            "style": "IPY_MODEL_f74f6fd62ff84535850356e0748f7ea2",
            "_dom_classes": [],
            "description": "",
            "_model_name": "HTMLModel",
            "placeholder": "​",
            "_view_module": "@jupyter-widgets/controls",
            "_model_module_version": "1.5.0",
            "value": " 9913344/? [00:11&lt;00:00, 893002.72it/s]",
            "_view_count": null,
            "_view_module_version": "1.5.0",
            "description_tooltip": null,
            "_model_module": "@jupyter-widgets/controls",
            "layout": "IPY_MODEL_66400b94e71f493cb690c82020758a4c"
          }
        },
        "acf5a46373ff40da9e2deb743724e496": {
          "model_module": "@jupyter-widgets/controls",
          "model_name": "ProgressStyleModel",
          "state": {
            "_view_name": "StyleView",
            "_model_name": "ProgressStyleModel",
            "description_width": "initial",
            "_view_module": "@jupyter-widgets/base",
            "_model_module_version": "1.5.0",
            "_view_count": null,
            "_view_module_version": "1.2.0",
            "bar_color": null,
            "_model_module": "@jupyter-widgets/controls"
          }
        },
        "a12b45b48b914cc5a07c1cf66a5ed7c3": {
          "model_module": "@jupyter-widgets/base",
          "model_name": "LayoutModel",
          "state": {
            "_view_name": "LayoutView",
            "grid_template_rows": null,
            "right": null,
            "justify_content": null,
            "_view_module": "@jupyter-widgets/base",
            "overflow": null,
            "_model_module_version": "1.2.0",
            "_view_count": null,
            "flex_flow": null,
            "width": null,
            "min_width": null,
            "border": null,
            "align_items": null,
            "bottom": null,
            "_model_module": "@jupyter-widgets/base",
            "top": null,
            "grid_column": null,
            "overflow_y": null,
            "overflow_x": null,
            "grid_auto_flow": null,
            "grid_area": null,
            "grid_template_columns": null,
            "flex": null,
            "_model_name": "LayoutModel",
            "justify_items": null,
            "grid_row": null,
            "max_height": null,
            "align_content": null,
            "visibility": null,
            "align_self": null,
            "height": null,
            "min_height": null,
            "padding": null,
            "grid_auto_rows": null,
            "grid_gap": null,
            "max_width": null,
            "order": null,
            "_view_module_version": "1.2.0",
            "grid_template_areas": null,
            "object_position": null,
            "object_fit": null,
            "grid_auto_columns": null,
            "margin": null,
            "display": null,
            "left": null
          }
        },
        "f74f6fd62ff84535850356e0748f7ea2": {
          "model_module": "@jupyter-widgets/controls",
          "model_name": "DescriptionStyleModel",
          "state": {
            "_view_name": "StyleView",
            "_model_name": "DescriptionStyleModel",
            "description_width": "",
            "_view_module": "@jupyter-widgets/base",
            "_model_module_version": "1.5.0",
            "_view_count": null,
            "_view_module_version": "1.2.0",
            "_model_module": "@jupyter-widgets/controls"
          }
        },
        "66400b94e71f493cb690c82020758a4c": {
          "model_module": "@jupyter-widgets/base",
          "model_name": "LayoutModel",
          "state": {
            "_view_name": "LayoutView",
            "grid_template_rows": null,
            "right": null,
            "justify_content": null,
            "_view_module": "@jupyter-widgets/base",
            "overflow": null,
            "_model_module_version": "1.2.0",
            "_view_count": null,
            "flex_flow": null,
            "width": null,
            "min_width": null,
            "border": null,
            "align_items": null,
            "bottom": null,
            "_model_module": "@jupyter-widgets/base",
            "top": null,
            "grid_column": null,
            "overflow_y": null,
            "overflow_x": null,
            "grid_auto_flow": null,
            "grid_area": null,
            "grid_template_columns": null,
            "flex": null,
            "_model_name": "LayoutModel",
            "justify_items": null,
            "grid_row": null,
            "max_height": null,
            "align_content": null,
            "visibility": null,
            "align_self": null,
            "height": null,
            "min_height": null,
            "padding": null,
            "grid_auto_rows": null,
            "grid_gap": null,
            "max_width": null,
            "order": null,
            "_view_module_version": "1.2.0",
            "grid_template_areas": null,
            "object_position": null,
            "object_fit": null,
            "grid_auto_columns": null,
            "margin": null,
            "display": null,
            "left": null
          }
        },
        "e889078aff9441569559a6c280bd4ddb": {
          "model_module": "@jupyter-widgets/controls",
          "model_name": "HBoxModel",
          "state": {
            "_view_name": "HBoxView",
            "_dom_classes": [],
            "_model_name": "HBoxModel",
            "_view_module": "@jupyter-widgets/controls",
            "_model_module_version": "1.5.0",
            "_view_count": null,
            "_view_module_version": "1.5.0",
            "box_style": "",
            "layout": "IPY_MODEL_6dd23590da7f4fdbaaeacfb475b8439f",
            "_model_module": "@jupyter-widgets/controls",
            "children": [
              "IPY_MODEL_ab3e87942fb34965aafa34c697ba3467",
              "IPY_MODEL_42564f2db11c4e40bf7d2bc818c33b05"
            ]
          }
        },
        "6dd23590da7f4fdbaaeacfb475b8439f": {
          "model_module": "@jupyter-widgets/base",
          "model_name": "LayoutModel",
          "state": {
            "_view_name": "LayoutView",
            "grid_template_rows": null,
            "right": null,
            "justify_content": null,
            "_view_module": "@jupyter-widgets/base",
            "overflow": null,
            "_model_module_version": "1.2.0",
            "_view_count": null,
            "flex_flow": null,
            "width": null,
            "min_width": null,
            "border": null,
            "align_items": null,
            "bottom": null,
            "_model_module": "@jupyter-widgets/base",
            "top": null,
            "grid_column": null,
            "overflow_y": null,
            "overflow_x": null,
            "grid_auto_flow": null,
            "grid_area": null,
            "grid_template_columns": null,
            "flex": null,
            "_model_name": "LayoutModel",
            "justify_items": null,
            "grid_row": null,
            "max_height": null,
            "align_content": null,
            "visibility": null,
            "align_self": null,
            "height": null,
            "min_height": null,
            "padding": null,
            "grid_auto_rows": null,
            "grid_gap": null,
            "max_width": null,
            "order": null,
            "_view_module_version": "1.2.0",
            "grid_template_areas": null,
            "object_position": null,
            "object_fit": null,
            "grid_auto_columns": null,
            "margin": null,
            "display": null,
            "left": null
          }
        },
        "ab3e87942fb34965aafa34c697ba3467": {
          "model_module": "@jupyter-widgets/controls",
          "model_name": "FloatProgressModel",
          "state": {
            "_view_name": "ProgressView",
            "style": "IPY_MODEL_feab584e51b6460aa131484dca2fd8bf",
            "_dom_classes": [],
            "description": "",
            "_model_name": "FloatProgressModel",
            "bar_style": "success",
            "max": 28881,
            "_view_module": "@jupyter-widgets/controls",
            "_model_module_version": "1.5.0",
            "value": 28881,
            "_view_count": null,
            "_view_module_version": "1.5.0",
            "orientation": "horizontal",
            "min": 0,
            "description_tooltip": null,
            "_model_module": "@jupyter-widgets/controls",
            "layout": "IPY_MODEL_1884855faa7647faa14f7e770e9d89d2"
          }
        },
        "42564f2db11c4e40bf7d2bc818c33b05": {
          "model_module": "@jupyter-widgets/controls",
          "model_name": "HTMLModel",
          "state": {
            "_view_name": "HTMLView",
            "style": "IPY_MODEL_6d166264f39b4681b402b62467d17a26",
            "_dom_classes": [],
            "description": "",
            "_model_name": "HTMLModel",
            "placeholder": "​",
            "_view_module": "@jupyter-widgets/controls",
            "_model_module_version": "1.5.0",
            "value": " 29696/? [00:02&lt;00:00, 11425.22it/s]",
            "_view_count": null,
            "_view_module_version": "1.5.0",
            "description_tooltip": null,
            "_model_module": "@jupyter-widgets/controls",
            "layout": "IPY_MODEL_2c559c66252343e5b28829ef213d7952"
          }
        },
        "feab584e51b6460aa131484dca2fd8bf": {
          "model_module": "@jupyter-widgets/controls",
          "model_name": "ProgressStyleModel",
          "state": {
            "_view_name": "StyleView",
            "_model_name": "ProgressStyleModel",
            "description_width": "initial",
            "_view_module": "@jupyter-widgets/base",
            "_model_module_version": "1.5.0",
            "_view_count": null,
            "_view_module_version": "1.2.0",
            "bar_color": null,
            "_model_module": "@jupyter-widgets/controls"
          }
        },
        "1884855faa7647faa14f7e770e9d89d2": {
          "model_module": "@jupyter-widgets/base",
          "model_name": "LayoutModel",
          "state": {
            "_view_name": "LayoutView",
            "grid_template_rows": null,
            "right": null,
            "justify_content": null,
            "_view_module": "@jupyter-widgets/base",
            "overflow": null,
            "_model_module_version": "1.2.0",
            "_view_count": null,
            "flex_flow": null,
            "width": null,
            "min_width": null,
            "border": null,
            "align_items": null,
            "bottom": null,
            "_model_module": "@jupyter-widgets/base",
            "top": null,
            "grid_column": null,
            "overflow_y": null,
            "overflow_x": null,
            "grid_auto_flow": null,
            "grid_area": null,
            "grid_template_columns": null,
            "flex": null,
            "_model_name": "LayoutModel",
            "justify_items": null,
            "grid_row": null,
            "max_height": null,
            "align_content": null,
            "visibility": null,
            "align_self": null,
            "height": null,
            "min_height": null,
            "padding": null,
            "grid_auto_rows": null,
            "grid_gap": null,
            "max_width": null,
            "order": null,
            "_view_module_version": "1.2.0",
            "grid_template_areas": null,
            "object_position": null,
            "object_fit": null,
            "grid_auto_columns": null,
            "margin": null,
            "display": null,
            "left": null
          }
        },
        "6d166264f39b4681b402b62467d17a26": {
          "model_module": "@jupyter-widgets/controls",
          "model_name": "DescriptionStyleModel",
          "state": {
            "_view_name": "StyleView",
            "_model_name": "DescriptionStyleModel",
            "description_width": "",
            "_view_module": "@jupyter-widgets/base",
            "_model_module_version": "1.5.0",
            "_view_count": null,
            "_view_module_version": "1.2.0",
            "_model_module": "@jupyter-widgets/controls"
          }
        },
        "2c559c66252343e5b28829ef213d7952": {
          "model_module": "@jupyter-widgets/base",
          "model_name": "LayoutModel",
          "state": {
            "_view_name": "LayoutView",
            "grid_template_rows": null,
            "right": null,
            "justify_content": null,
            "_view_module": "@jupyter-widgets/base",
            "overflow": null,
            "_model_module_version": "1.2.0",
            "_view_count": null,
            "flex_flow": null,
            "width": null,
            "min_width": null,
            "border": null,
            "align_items": null,
            "bottom": null,
            "_model_module": "@jupyter-widgets/base",
            "top": null,
            "grid_column": null,
            "overflow_y": null,
            "overflow_x": null,
            "grid_auto_flow": null,
            "grid_area": null,
            "grid_template_columns": null,
            "flex": null,
            "_model_name": "LayoutModel",
            "justify_items": null,
            "grid_row": null,
            "max_height": null,
            "align_content": null,
            "visibility": null,
            "align_self": null,
            "height": null,
            "min_height": null,
            "padding": null,
            "grid_auto_rows": null,
            "grid_gap": null,
            "max_width": null,
            "order": null,
            "_view_module_version": "1.2.0",
            "grid_template_areas": null,
            "object_position": null,
            "object_fit": null,
            "grid_auto_columns": null,
            "margin": null,
            "display": null,
            "left": null
          }
        },
        "e351ca4351104df5814dd8f6f3a72b7b": {
          "model_module": "@jupyter-widgets/controls",
          "model_name": "HBoxModel",
          "state": {
            "_view_name": "HBoxView",
            "_dom_classes": [],
            "_model_name": "HBoxModel",
            "_view_module": "@jupyter-widgets/controls",
            "_model_module_version": "1.5.0",
            "_view_count": null,
            "_view_module_version": "1.5.0",
            "box_style": "",
            "layout": "IPY_MODEL_d994dcd402f64524aee47a94aee11c24",
            "_model_module": "@jupyter-widgets/controls",
            "children": [
              "IPY_MODEL_c56d6ff73ed647cabdadf5230e826153",
              "IPY_MODEL_d84f6f7184f048c4b9fbaf8b182af399"
            ]
          }
        },
        "d994dcd402f64524aee47a94aee11c24": {
          "model_module": "@jupyter-widgets/base",
          "model_name": "LayoutModel",
          "state": {
            "_view_name": "LayoutView",
            "grid_template_rows": null,
            "right": null,
            "justify_content": null,
            "_view_module": "@jupyter-widgets/base",
            "overflow": null,
            "_model_module_version": "1.2.0",
            "_view_count": null,
            "flex_flow": null,
            "width": null,
            "min_width": null,
            "border": null,
            "align_items": null,
            "bottom": null,
            "_model_module": "@jupyter-widgets/base",
            "top": null,
            "grid_column": null,
            "overflow_y": null,
            "overflow_x": null,
            "grid_auto_flow": null,
            "grid_area": null,
            "grid_template_columns": null,
            "flex": null,
            "_model_name": "LayoutModel",
            "justify_items": null,
            "grid_row": null,
            "max_height": null,
            "align_content": null,
            "visibility": null,
            "align_self": null,
            "height": null,
            "min_height": null,
            "padding": null,
            "grid_auto_rows": null,
            "grid_gap": null,
            "max_width": null,
            "order": null,
            "_view_module_version": "1.2.0",
            "grid_template_areas": null,
            "object_position": null,
            "object_fit": null,
            "grid_auto_columns": null,
            "margin": null,
            "display": null,
            "left": null
          }
        },
        "c56d6ff73ed647cabdadf5230e826153": {
          "model_module": "@jupyter-widgets/controls",
          "model_name": "FloatProgressModel",
          "state": {
            "_view_name": "ProgressView",
            "style": "IPY_MODEL_dc3db4d2dd3846b8bd37dda9401bfe9d",
            "_dom_classes": [],
            "description": "",
            "_model_name": "FloatProgressModel",
            "bar_style": "success",
            "max": 1648877,
            "_view_module": "@jupyter-widgets/controls",
            "_model_module_version": "1.5.0",
            "value": 1648877,
            "_view_count": null,
            "_view_module_version": "1.5.0",
            "orientation": "horizontal",
            "min": 0,
            "description_tooltip": null,
            "_model_module": "@jupyter-widgets/controls",
            "layout": "IPY_MODEL_589c611a345c4bd0b7973702bf09d44f"
          }
        },
        "d84f6f7184f048c4b9fbaf8b182af399": {
          "model_module": "@jupyter-widgets/controls",
          "model_name": "HTMLModel",
          "state": {
            "_view_name": "HTMLView",
            "style": "IPY_MODEL_f9283c40229840b9a18170c4eaff0465",
            "_dom_classes": [],
            "description": "",
            "_model_name": "HTMLModel",
            "placeholder": "​",
            "_view_module": "@jupyter-widgets/controls",
            "_model_module_version": "1.5.0",
            "value": " 1649664/? [00:01&lt;00:00, 1073158.78it/s]",
            "_view_count": null,
            "_view_module_version": "1.5.0",
            "description_tooltip": null,
            "_model_module": "@jupyter-widgets/controls",
            "layout": "IPY_MODEL_c8684feabaa542deb7e8f7b9b5ab735b"
          }
        },
        "dc3db4d2dd3846b8bd37dda9401bfe9d": {
          "model_module": "@jupyter-widgets/controls",
          "model_name": "ProgressStyleModel",
          "state": {
            "_view_name": "StyleView",
            "_model_name": "ProgressStyleModel",
            "description_width": "initial",
            "_view_module": "@jupyter-widgets/base",
            "_model_module_version": "1.5.0",
            "_view_count": null,
            "_view_module_version": "1.2.0",
            "bar_color": null,
            "_model_module": "@jupyter-widgets/controls"
          }
        },
        "589c611a345c4bd0b7973702bf09d44f": {
          "model_module": "@jupyter-widgets/base",
          "model_name": "LayoutModel",
          "state": {
            "_view_name": "LayoutView",
            "grid_template_rows": null,
            "right": null,
            "justify_content": null,
            "_view_module": "@jupyter-widgets/base",
            "overflow": null,
            "_model_module_version": "1.2.0",
            "_view_count": null,
            "flex_flow": null,
            "width": null,
            "min_width": null,
            "border": null,
            "align_items": null,
            "bottom": null,
            "_model_module": "@jupyter-widgets/base",
            "top": null,
            "grid_column": null,
            "overflow_y": null,
            "overflow_x": null,
            "grid_auto_flow": null,
            "grid_area": null,
            "grid_template_columns": null,
            "flex": null,
            "_model_name": "LayoutModel",
            "justify_items": null,
            "grid_row": null,
            "max_height": null,
            "align_content": null,
            "visibility": null,
            "align_self": null,
            "height": null,
            "min_height": null,
            "padding": null,
            "grid_auto_rows": null,
            "grid_gap": null,
            "max_width": null,
            "order": null,
            "_view_module_version": "1.2.0",
            "grid_template_areas": null,
            "object_position": null,
            "object_fit": null,
            "grid_auto_columns": null,
            "margin": null,
            "display": null,
            "left": null
          }
        },
        "f9283c40229840b9a18170c4eaff0465": {
          "model_module": "@jupyter-widgets/controls",
          "model_name": "DescriptionStyleModel",
          "state": {
            "_view_name": "StyleView",
            "_model_name": "DescriptionStyleModel",
            "description_width": "",
            "_view_module": "@jupyter-widgets/base",
            "_model_module_version": "1.5.0",
            "_view_count": null,
            "_view_module_version": "1.2.0",
            "_model_module": "@jupyter-widgets/controls"
          }
        },
        "c8684feabaa542deb7e8f7b9b5ab735b": {
          "model_module": "@jupyter-widgets/base",
          "model_name": "LayoutModel",
          "state": {
            "_view_name": "LayoutView",
            "grid_template_rows": null,
            "right": null,
            "justify_content": null,
            "_view_module": "@jupyter-widgets/base",
            "overflow": null,
            "_model_module_version": "1.2.0",
            "_view_count": null,
            "flex_flow": null,
            "width": null,
            "min_width": null,
            "border": null,
            "align_items": null,
            "bottom": null,
            "_model_module": "@jupyter-widgets/base",
            "top": null,
            "grid_column": null,
            "overflow_y": null,
            "overflow_x": null,
            "grid_auto_flow": null,
            "grid_area": null,
            "grid_template_columns": null,
            "flex": null,
            "_model_name": "LayoutModel",
            "justify_items": null,
            "grid_row": null,
            "max_height": null,
            "align_content": null,
            "visibility": null,
            "align_self": null,
            "height": null,
            "min_height": null,
            "padding": null,
            "grid_auto_rows": null,
            "grid_gap": null,
            "max_width": null,
            "order": null,
            "_view_module_version": "1.2.0",
            "grid_template_areas": null,
            "object_position": null,
            "object_fit": null,
            "grid_auto_columns": null,
            "margin": null,
            "display": null,
            "left": null
          }
        },
        "364d708327f049658d00f1698af29674": {
          "model_module": "@jupyter-widgets/controls",
          "model_name": "HBoxModel",
          "state": {
            "_view_name": "HBoxView",
            "_dom_classes": [],
            "_model_name": "HBoxModel",
            "_view_module": "@jupyter-widgets/controls",
            "_model_module_version": "1.5.0",
            "_view_count": null,
            "_view_module_version": "1.5.0",
            "box_style": "",
            "layout": "IPY_MODEL_4105447ab651463dbd93a9e7d1b0e05c",
            "_model_module": "@jupyter-widgets/controls",
            "children": [
              "IPY_MODEL_752976f33c0b453cabde56a7523ac896",
              "IPY_MODEL_b711fa7666dc4cf4963465f9eba0614c"
            ]
          }
        },
        "4105447ab651463dbd93a9e7d1b0e05c": {
          "model_module": "@jupyter-widgets/base",
          "model_name": "LayoutModel",
          "state": {
            "_view_name": "LayoutView",
            "grid_template_rows": null,
            "right": null,
            "justify_content": null,
            "_view_module": "@jupyter-widgets/base",
            "overflow": null,
            "_model_module_version": "1.2.0",
            "_view_count": null,
            "flex_flow": null,
            "width": null,
            "min_width": null,
            "border": null,
            "align_items": null,
            "bottom": null,
            "_model_module": "@jupyter-widgets/base",
            "top": null,
            "grid_column": null,
            "overflow_y": null,
            "overflow_x": null,
            "grid_auto_flow": null,
            "grid_area": null,
            "grid_template_columns": null,
            "flex": null,
            "_model_name": "LayoutModel",
            "justify_items": null,
            "grid_row": null,
            "max_height": null,
            "align_content": null,
            "visibility": null,
            "align_self": null,
            "height": null,
            "min_height": null,
            "padding": null,
            "grid_auto_rows": null,
            "grid_gap": null,
            "max_width": null,
            "order": null,
            "_view_module_version": "1.2.0",
            "grid_template_areas": null,
            "object_position": null,
            "object_fit": null,
            "grid_auto_columns": null,
            "margin": null,
            "display": null,
            "left": null
          }
        },
        "752976f33c0b453cabde56a7523ac896": {
          "model_module": "@jupyter-widgets/controls",
          "model_name": "FloatProgressModel",
          "state": {
            "_view_name": "ProgressView",
            "style": "IPY_MODEL_869f2489b7db40dea76ff0d1427231c1",
            "_dom_classes": [],
            "description": "",
            "_model_name": "FloatProgressModel",
            "bar_style": "success",
            "max": 4542,
            "_view_module": "@jupyter-widgets/controls",
            "_model_module_version": "1.5.0",
            "value": 4542,
            "_view_count": null,
            "_view_module_version": "1.5.0",
            "orientation": "horizontal",
            "min": 0,
            "description_tooltip": null,
            "_model_module": "@jupyter-widgets/controls",
            "layout": "IPY_MODEL_93b4230ed9984eff88c4cb74f888cf10"
          }
        },
        "b711fa7666dc4cf4963465f9eba0614c": {
          "model_module": "@jupyter-widgets/controls",
          "model_name": "HTMLModel",
          "state": {
            "_view_name": "HTMLView",
            "style": "IPY_MODEL_5df45b2252f34adebbeef885a6f82d42",
            "_dom_classes": [],
            "description": "",
            "_model_name": "HTMLModel",
            "placeholder": "​",
            "_view_module": "@jupyter-widgets/controls",
            "_model_module_version": "1.5.0",
            "value": " 5120/? [00:06&lt;00:00, 802.89it/s]",
            "_view_count": null,
            "_view_module_version": "1.5.0",
            "description_tooltip": null,
            "_model_module": "@jupyter-widgets/controls",
            "layout": "IPY_MODEL_1fc4b575bb8c47888e08de5a27fc101b"
          }
        },
        "869f2489b7db40dea76ff0d1427231c1": {
          "model_module": "@jupyter-widgets/controls",
          "model_name": "ProgressStyleModel",
          "state": {
            "_view_name": "StyleView",
            "_model_name": "ProgressStyleModel",
            "description_width": "initial",
            "_view_module": "@jupyter-widgets/base",
            "_model_module_version": "1.5.0",
            "_view_count": null,
            "_view_module_version": "1.2.0",
            "bar_color": null,
            "_model_module": "@jupyter-widgets/controls"
          }
        },
        "93b4230ed9984eff88c4cb74f888cf10": {
          "model_module": "@jupyter-widgets/base",
          "model_name": "LayoutModel",
          "state": {
            "_view_name": "LayoutView",
            "grid_template_rows": null,
            "right": null,
            "justify_content": null,
            "_view_module": "@jupyter-widgets/base",
            "overflow": null,
            "_model_module_version": "1.2.0",
            "_view_count": null,
            "flex_flow": null,
            "width": null,
            "min_width": null,
            "border": null,
            "align_items": null,
            "bottom": null,
            "_model_module": "@jupyter-widgets/base",
            "top": null,
            "grid_column": null,
            "overflow_y": null,
            "overflow_x": null,
            "grid_auto_flow": null,
            "grid_area": null,
            "grid_template_columns": null,
            "flex": null,
            "_model_name": "LayoutModel",
            "justify_items": null,
            "grid_row": null,
            "max_height": null,
            "align_content": null,
            "visibility": null,
            "align_self": null,
            "height": null,
            "min_height": null,
            "padding": null,
            "grid_auto_rows": null,
            "grid_gap": null,
            "max_width": null,
            "order": null,
            "_view_module_version": "1.2.0",
            "grid_template_areas": null,
            "object_position": null,
            "object_fit": null,
            "grid_auto_columns": null,
            "margin": null,
            "display": null,
            "left": null
          }
        },
        "5df45b2252f34adebbeef885a6f82d42": {
          "model_module": "@jupyter-widgets/controls",
          "model_name": "DescriptionStyleModel",
          "state": {
            "_view_name": "StyleView",
            "_model_name": "DescriptionStyleModel",
            "description_width": "",
            "_view_module": "@jupyter-widgets/base",
            "_model_module_version": "1.5.0",
            "_view_count": null,
            "_view_module_version": "1.2.0",
            "_model_module": "@jupyter-widgets/controls"
          }
        },
        "1fc4b575bb8c47888e08de5a27fc101b": {
          "model_module": "@jupyter-widgets/base",
          "model_name": "LayoutModel",
          "state": {
            "_view_name": "LayoutView",
            "grid_template_rows": null,
            "right": null,
            "justify_content": null,
            "_view_module": "@jupyter-widgets/base",
            "overflow": null,
            "_model_module_version": "1.2.0",
            "_view_count": null,
            "flex_flow": null,
            "width": null,
            "min_width": null,
            "border": null,
            "align_items": null,
            "bottom": null,
            "_model_module": "@jupyter-widgets/base",
            "top": null,
            "grid_column": null,
            "overflow_y": null,
            "overflow_x": null,
            "grid_auto_flow": null,
            "grid_area": null,
            "grid_template_columns": null,
            "flex": null,
            "_model_name": "LayoutModel",
            "justify_items": null,
            "grid_row": null,
            "max_height": null,
            "align_content": null,
            "visibility": null,
            "align_self": null,
            "height": null,
            "min_height": null,
            "padding": null,
            "grid_auto_rows": null,
            "grid_gap": null,
            "max_width": null,
            "order": null,
            "_view_module_version": "1.2.0",
            "grid_template_areas": null,
            "object_position": null,
            "object_fit": null,
            "grid_auto_columns": null,
            "margin": null,
            "display": null,
            "left": null
          }
        },
        "8754089a7c654a16b9e843c8cd8080df": {
          "model_module": "@jupyter-widgets/controls",
          "model_name": "HBoxModel",
          "state": {
            "_view_name": "HBoxView",
            "_dom_classes": [],
            "_model_name": "HBoxModel",
            "_view_module": "@jupyter-widgets/controls",
            "_model_module_version": "1.5.0",
            "_view_count": null,
            "_view_module_version": "1.5.0",
            "box_style": "",
            "layout": "IPY_MODEL_0e1eaed04d334e4c96b23c3b8c088de5",
            "_model_module": "@jupyter-widgets/controls",
            "children": [
              "IPY_MODEL_5b6bfb0ca68f4227a10ba424b2d44492",
              "IPY_MODEL_8e3f0fd673d94922b8877b4c71d39265"
            ]
          }
        },
        "0e1eaed04d334e4c96b23c3b8c088de5": {
          "model_module": "@jupyter-widgets/base",
          "model_name": "LayoutModel",
          "state": {
            "_view_name": "LayoutView",
            "grid_template_rows": null,
            "right": null,
            "justify_content": null,
            "_view_module": "@jupyter-widgets/base",
            "overflow": null,
            "_model_module_version": "1.2.0",
            "_view_count": null,
            "flex_flow": null,
            "width": null,
            "min_width": null,
            "border": null,
            "align_items": null,
            "bottom": null,
            "_model_module": "@jupyter-widgets/base",
            "top": null,
            "grid_column": null,
            "overflow_y": null,
            "overflow_x": null,
            "grid_auto_flow": null,
            "grid_area": null,
            "grid_template_columns": null,
            "flex": null,
            "_model_name": "LayoutModel",
            "justify_items": null,
            "grid_row": null,
            "max_height": null,
            "align_content": null,
            "visibility": null,
            "align_self": null,
            "height": null,
            "min_height": null,
            "padding": null,
            "grid_auto_rows": null,
            "grid_gap": null,
            "max_width": null,
            "order": null,
            "_view_module_version": "1.2.0",
            "grid_template_areas": null,
            "object_position": null,
            "object_fit": null,
            "grid_auto_columns": null,
            "margin": null,
            "display": null,
            "left": null
          }
        },
        "5b6bfb0ca68f4227a10ba424b2d44492": {
          "model_module": "@jupyter-widgets/controls",
          "model_name": "FloatProgressModel",
          "state": {
            "_view_name": "ProgressView",
            "style": "IPY_MODEL_abacb82e4b864822a504f74ca9094499",
            "_dom_classes": [],
            "description": "",
            "_model_name": "FloatProgressModel",
            "bar_style": "success",
            "max": 9912422,
            "_view_module": "@jupyter-widgets/controls",
            "_model_module_version": "1.5.0",
            "value": 9912422,
            "_view_count": null,
            "_view_module_version": "1.5.0",
            "orientation": "horizontal",
            "min": 0,
            "description_tooltip": null,
            "_model_module": "@jupyter-widgets/controls",
            "layout": "IPY_MODEL_d328fee954af4b40a048b489c5b40b82"
          }
        },
        "8e3f0fd673d94922b8877b4c71d39265": {
          "model_module": "@jupyter-widgets/controls",
          "model_name": "HTMLModel",
          "state": {
            "_view_name": "HTMLView",
            "style": "IPY_MODEL_5521cf9c657c444e881f19edc1cc6fd5",
            "_dom_classes": [],
            "description": "",
            "_model_name": "HTMLModel",
            "placeholder": "​",
            "_view_module": "@jupyter-widgets/controls",
            "_model_module_version": "1.5.0",
            "value": " 9913344/? [00:03&lt;00:00, 3175995.34it/s]",
            "_view_count": null,
            "_view_module_version": "1.5.0",
            "description_tooltip": null,
            "_model_module": "@jupyter-widgets/controls",
            "layout": "IPY_MODEL_5d5ed6cd191e455a90798e4c64b49faa"
          }
        },
        "abacb82e4b864822a504f74ca9094499": {
          "model_module": "@jupyter-widgets/controls",
          "model_name": "ProgressStyleModel",
          "state": {
            "_view_name": "StyleView",
            "_model_name": "ProgressStyleModel",
            "description_width": "initial",
            "_view_module": "@jupyter-widgets/base",
            "_model_module_version": "1.5.0",
            "_view_count": null,
            "_view_module_version": "1.2.0",
            "bar_color": null,
            "_model_module": "@jupyter-widgets/controls"
          }
        },
        "d328fee954af4b40a048b489c5b40b82": {
          "model_module": "@jupyter-widgets/base",
          "model_name": "LayoutModel",
          "state": {
            "_view_name": "LayoutView",
            "grid_template_rows": null,
            "right": null,
            "justify_content": null,
            "_view_module": "@jupyter-widgets/base",
            "overflow": null,
            "_model_module_version": "1.2.0",
            "_view_count": null,
            "flex_flow": null,
            "width": null,
            "min_width": null,
            "border": null,
            "align_items": null,
            "bottom": null,
            "_model_module": "@jupyter-widgets/base",
            "top": null,
            "grid_column": null,
            "overflow_y": null,
            "overflow_x": null,
            "grid_auto_flow": null,
            "grid_area": null,
            "grid_template_columns": null,
            "flex": null,
            "_model_name": "LayoutModel",
            "justify_items": null,
            "grid_row": null,
            "max_height": null,
            "align_content": null,
            "visibility": null,
            "align_self": null,
            "height": null,
            "min_height": null,
            "padding": null,
            "grid_auto_rows": null,
            "grid_gap": null,
            "max_width": null,
            "order": null,
            "_view_module_version": "1.2.0",
            "grid_template_areas": null,
            "object_position": null,
            "object_fit": null,
            "grid_auto_columns": null,
            "margin": null,
            "display": null,
            "left": null
          }
        },
        "5521cf9c657c444e881f19edc1cc6fd5": {
          "model_module": "@jupyter-widgets/controls",
          "model_name": "DescriptionStyleModel",
          "state": {
            "_view_name": "StyleView",
            "_model_name": "DescriptionStyleModel",
            "description_width": "",
            "_view_module": "@jupyter-widgets/base",
            "_model_module_version": "1.5.0",
            "_view_count": null,
            "_view_module_version": "1.2.0",
            "_model_module": "@jupyter-widgets/controls"
          }
        },
        "5d5ed6cd191e455a90798e4c64b49faa": {
          "model_module": "@jupyter-widgets/base",
          "model_name": "LayoutModel",
          "state": {
            "_view_name": "LayoutView",
            "grid_template_rows": null,
            "right": null,
            "justify_content": null,
            "_view_module": "@jupyter-widgets/base",
            "overflow": null,
            "_model_module_version": "1.2.0",
            "_view_count": null,
            "flex_flow": null,
            "width": null,
            "min_width": null,
            "border": null,
            "align_items": null,
            "bottom": null,
            "_model_module": "@jupyter-widgets/base",
            "top": null,
            "grid_column": null,
            "overflow_y": null,
            "overflow_x": null,
            "grid_auto_flow": null,
            "grid_area": null,
            "grid_template_columns": null,
            "flex": null,
            "_model_name": "LayoutModel",
            "justify_items": null,
            "grid_row": null,
            "max_height": null,
            "align_content": null,
            "visibility": null,
            "align_self": null,
            "height": null,
            "min_height": null,
            "padding": null,
            "grid_auto_rows": null,
            "grid_gap": null,
            "max_width": null,
            "order": null,
            "_view_module_version": "1.2.0",
            "grid_template_areas": null,
            "object_position": null,
            "object_fit": null,
            "grid_auto_columns": null,
            "margin": null,
            "display": null,
            "left": null
          }
        },
        "ed046151efb54d368b3b3391b5137c42": {
          "model_module": "@jupyter-widgets/controls",
          "model_name": "HBoxModel",
          "state": {
            "_view_name": "HBoxView",
            "_dom_classes": [],
            "_model_name": "HBoxModel",
            "_view_module": "@jupyter-widgets/controls",
            "_model_module_version": "1.5.0",
            "_view_count": null,
            "_view_module_version": "1.5.0",
            "box_style": "",
            "layout": "IPY_MODEL_857cd775b221473b86bc2f78af52475b",
            "_model_module": "@jupyter-widgets/controls",
            "children": [
              "IPY_MODEL_914819e6d0d84e6eafd9d694e2a73cc5",
              "IPY_MODEL_ec587251be3543b5ac5303d3f71a3757"
            ]
          }
        },
        "857cd775b221473b86bc2f78af52475b": {
          "model_module": "@jupyter-widgets/base",
          "model_name": "LayoutModel",
          "state": {
            "_view_name": "LayoutView",
            "grid_template_rows": null,
            "right": null,
            "justify_content": null,
            "_view_module": "@jupyter-widgets/base",
            "overflow": null,
            "_model_module_version": "1.2.0",
            "_view_count": null,
            "flex_flow": null,
            "width": null,
            "min_width": null,
            "border": null,
            "align_items": null,
            "bottom": null,
            "_model_module": "@jupyter-widgets/base",
            "top": null,
            "grid_column": null,
            "overflow_y": null,
            "overflow_x": null,
            "grid_auto_flow": null,
            "grid_area": null,
            "grid_template_columns": null,
            "flex": null,
            "_model_name": "LayoutModel",
            "justify_items": null,
            "grid_row": null,
            "max_height": null,
            "align_content": null,
            "visibility": null,
            "align_self": null,
            "height": null,
            "min_height": null,
            "padding": null,
            "grid_auto_rows": null,
            "grid_gap": null,
            "max_width": null,
            "order": null,
            "_view_module_version": "1.2.0",
            "grid_template_areas": null,
            "object_position": null,
            "object_fit": null,
            "grid_auto_columns": null,
            "margin": null,
            "display": null,
            "left": null
          }
        },
        "914819e6d0d84e6eafd9d694e2a73cc5": {
          "model_module": "@jupyter-widgets/controls",
          "model_name": "FloatProgressModel",
          "state": {
            "_view_name": "ProgressView",
            "style": "IPY_MODEL_5a4bd05fae494a3fbe2f3dc18b4ee3eb",
            "_dom_classes": [],
            "description": "",
            "_model_name": "FloatProgressModel",
            "bar_style": "success",
            "max": 28881,
            "_view_module": "@jupyter-widgets/controls",
            "_model_module_version": "1.5.0",
            "value": 28881,
            "_view_count": null,
            "_view_module_version": "1.5.0",
            "orientation": "horizontal",
            "min": 0,
            "description_tooltip": null,
            "_model_module": "@jupyter-widgets/controls",
            "layout": "IPY_MODEL_46292030d94145f8af3e9cc4fd0324e3"
          }
        },
        "ec587251be3543b5ac5303d3f71a3757": {
          "model_module": "@jupyter-widgets/controls",
          "model_name": "HTMLModel",
          "state": {
            "_view_name": "HTMLView",
            "style": "IPY_MODEL_09ac912168394c57be7b3119056dc6e6",
            "_dom_classes": [],
            "description": "",
            "_model_name": "HTMLModel",
            "placeholder": "​",
            "_view_module": "@jupyter-widgets/controls",
            "_model_module_version": "1.5.0",
            "value": " 29696/? [00:01&lt;00:00, 29594.03it/s]",
            "_view_count": null,
            "_view_module_version": "1.5.0",
            "description_tooltip": null,
            "_model_module": "@jupyter-widgets/controls",
            "layout": "IPY_MODEL_1ef56c77c9d446889e25ec33d825be21"
          }
        },
        "5a4bd05fae494a3fbe2f3dc18b4ee3eb": {
          "model_module": "@jupyter-widgets/controls",
          "model_name": "ProgressStyleModel",
          "state": {
            "_view_name": "StyleView",
            "_model_name": "ProgressStyleModel",
            "description_width": "initial",
            "_view_module": "@jupyter-widgets/base",
            "_model_module_version": "1.5.0",
            "_view_count": null,
            "_view_module_version": "1.2.0",
            "bar_color": null,
            "_model_module": "@jupyter-widgets/controls"
          }
        },
        "46292030d94145f8af3e9cc4fd0324e3": {
          "model_module": "@jupyter-widgets/base",
          "model_name": "LayoutModel",
          "state": {
            "_view_name": "LayoutView",
            "grid_template_rows": null,
            "right": null,
            "justify_content": null,
            "_view_module": "@jupyter-widgets/base",
            "overflow": null,
            "_model_module_version": "1.2.0",
            "_view_count": null,
            "flex_flow": null,
            "width": null,
            "min_width": null,
            "border": null,
            "align_items": null,
            "bottom": null,
            "_model_module": "@jupyter-widgets/base",
            "top": null,
            "grid_column": null,
            "overflow_y": null,
            "overflow_x": null,
            "grid_auto_flow": null,
            "grid_area": null,
            "grid_template_columns": null,
            "flex": null,
            "_model_name": "LayoutModel",
            "justify_items": null,
            "grid_row": null,
            "max_height": null,
            "align_content": null,
            "visibility": null,
            "align_self": null,
            "height": null,
            "min_height": null,
            "padding": null,
            "grid_auto_rows": null,
            "grid_gap": null,
            "max_width": null,
            "order": null,
            "_view_module_version": "1.2.0",
            "grid_template_areas": null,
            "object_position": null,
            "object_fit": null,
            "grid_auto_columns": null,
            "margin": null,
            "display": null,
            "left": null
          }
        },
        "09ac912168394c57be7b3119056dc6e6": {
          "model_module": "@jupyter-widgets/controls",
          "model_name": "DescriptionStyleModel",
          "state": {
            "_view_name": "StyleView",
            "_model_name": "DescriptionStyleModel",
            "description_width": "",
            "_view_module": "@jupyter-widgets/base",
            "_model_module_version": "1.5.0",
            "_view_count": null,
            "_view_module_version": "1.2.0",
            "_model_module": "@jupyter-widgets/controls"
          }
        },
        "1ef56c77c9d446889e25ec33d825be21": {
          "model_module": "@jupyter-widgets/base",
          "model_name": "LayoutModel",
          "state": {
            "_view_name": "LayoutView",
            "grid_template_rows": null,
            "right": null,
            "justify_content": null,
            "_view_module": "@jupyter-widgets/base",
            "overflow": null,
            "_model_module_version": "1.2.0",
            "_view_count": null,
            "flex_flow": null,
            "width": null,
            "min_width": null,
            "border": null,
            "align_items": null,
            "bottom": null,
            "_model_module": "@jupyter-widgets/base",
            "top": null,
            "grid_column": null,
            "overflow_y": null,
            "overflow_x": null,
            "grid_auto_flow": null,
            "grid_area": null,
            "grid_template_columns": null,
            "flex": null,
            "_model_name": "LayoutModel",
            "justify_items": null,
            "grid_row": null,
            "max_height": null,
            "align_content": null,
            "visibility": null,
            "align_self": null,
            "height": null,
            "min_height": null,
            "padding": null,
            "grid_auto_rows": null,
            "grid_gap": null,
            "max_width": null,
            "order": null,
            "_view_module_version": "1.2.0",
            "grid_template_areas": null,
            "object_position": null,
            "object_fit": null,
            "grid_auto_columns": null,
            "margin": null,
            "display": null,
            "left": null
          }
        },
        "e590ab16a906440d9b6e06911d52785d": {
          "model_module": "@jupyter-widgets/controls",
          "model_name": "HBoxModel",
          "state": {
            "_view_name": "HBoxView",
            "_dom_classes": [],
            "_model_name": "HBoxModel",
            "_view_module": "@jupyter-widgets/controls",
            "_model_module_version": "1.5.0",
            "_view_count": null,
            "_view_module_version": "1.5.0",
            "box_style": "",
            "layout": "IPY_MODEL_071a52ee72624c27a82c51c287500ee9",
            "_model_module": "@jupyter-widgets/controls",
            "children": [
              "IPY_MODEL_7e0d0f46592a451eb9c79adeced5f025",
              "IPY_MODEL_e1472fd12d454bb1abc50fb5952d0e98"
            ]
          }
        },
        "071a52ee72624c27a82c51c287500ee9": {
          "model_module": "@jupyter-widgets/base",
          "model_name": "LayoutModel",
          "state": {
            "_view_name": "LayoutView",
            "grid_template_rows": null,
            "right": null,
            "justify_content": null,
            "_view_module": "@jupyter-widgets/base",
            "overflow": null,
            "_model_module_version": "1.2.0",
            "_view_count": null,
            "flex_flow": null,
            "width": null,
            "min_width": null,
            "border": null,
            "align_items": null,
            "bottom": null,
            "_model_module": "@jupyter-widgets/base",
            "top": null,
            "grid_column": null,
            "overflow_y": null,
            "overflow_x": null,
            "grid_auto_flow": null,
            "grid_area": null,
            "grid_template_columns": null,
            "flex": null,
            "_model_name": "LayoutModel",
            "justify_items": null,
            "grid_row": null,
            "max_height": null,
            "align_content": null,
            "visibility": null,
            "align_self": null,
            "height": null,
            "min_height": null,
            "padding": null,
            "grid_auto_rows": null,
            "grid_gap": null,
            "max_width": null,
            "order": null,
            "_view_module_version": "1.2.0",
            "grid_template_areas": null,
            "object_position": null,
            "object_fit": null,
            "grid_auto_columns": null,
            "margin": null,
            "display": null,
            "left": null
          }
        },
        "7e0d0f46592a451eb9c79adeced5f025": {
          "model_module": "@jupyter-widgets/controls",
          "model_name": "FloatProgressModel",
          "state": {
            "_view_name": "ProgressView",
            "style": "IPY_MODEL_e5ba67aecb42498ea4ae537f51777f8b",
            "_dom_classes": [],
            "description": "",
            "_model_name": "FloatProgressModel",
            "bar_style": "success",
            "max": 1648877,
            "_view_module": "@jupyter-widgets/controls",
            "_model_module_version": "1.5.0",
            "value": 1648877,
            "_view_count": null,
            "_view_module_version": "1.5.0",
            "orientation": "horizontal",
            "min": 0,
            "description_tooltip": null,
            "_model_module": "@jupyter-widgets/controls",
            "layout": "IPY_MODEL_33ee9f52bd5e4edda08b34603b3f9640"
          }
        },
        "e1472fd12d454bb1abc50fb5952d0e98": {
          "model_module": "@jupyter-widgets/controls",
          "model_name": "HTMLModel",
          "state": {
            "_view_name": "HTMLView",
            "style": "IPY_MODEL_0e4693d6fa9b4d5ea476b7e4f9335d5e",
            "_dom_classes": [],
            "description": "",
            "_model_name": "HTMLModel",
            "placeholder": "​",
            "_view_module": "@jupyter-widgets/controls",
            "_model_module_version": "1.5.0",
            "value": " 1649664/? [00:02&lt;00:00, 786615.91it/s]",
            "_view_count": null,
            "_view_module_version": "1.5.0",
            "description_tooltip": null,
            "_model_module": "@jupyter-widgets/controls",
            "layout": "IPY_MODEL_0bb82cb297f245d8a713f91ab9d5b8c1"
          }
        },
        "e5ba67aecb42498ea4ae537f51777f8b": {
          "model_module": "@jupyter-widgets/controls",
          "model_name": "ProgressStyleModel",
          "state": {
            "_view_name": "StyleView",
            "_model_name": "ProgressStyleModel",
            "description_width": "initial",
            "_view_module": "@jupyter-widgets/base",
            "_model_module_version": "1.5.0",
            "_view_count": null,
            "_view_module_version": "1.2.0",
            "bar_color": null,
            "_model_module": "@jupyter-widgets/controls"
          }
        },
        "33ee9f52bd5e4edda08b34603b3f9640": {
          "model_module": "@jupyter-widgets/base",
          "model_name": "LayoutModel",
          "state": {
            "_view_name": "LayoutView",
            "grid_template_rows": null,
            "right": null,
            "justify_content": null,
            "_view_module": "@jupyter-widgets/base",
            "overflow": null,
            "_model_module_version": "1.2.0",
            "_view_count": null,
            "flex_flow": null,
            "width": null,
            "min_width": null,
            "border": null,
            "align_items": null,
            "bottom": null,
            "_model_module": "@jupyter-widgets/base",
            "top": null,
            "grid_column": null,
            "overflow_y": null,
            "overflow_x": null,
            "grid_auto_flow": null,
            "grid_area": null,
            "grid_template_columns": null,
            "flex": null,
            "_model_name": "LayoutModel",
            "justify_items": null,
            "grid_row": null,
            "max_height": null,
            "align_content": null,
            "visibility": null,
            "align_self": null,
            "height": null,
            "min_height": null,
            "padding": null,
            "grid_auto_rows": null,
            "grid_gap": null,
            "max_width": null,
            "order": null,
            "_view_module_version": "1.2.0",
            "grid_template_areas": null,
            "object_position": null,
            "object_fit": null,
            "grid_auto_columns": null,
            "margin": null,
            "display": null,
            "left": null
          }
        },
        "0e4693d6fa9b4d5ea476b7e4f9335d5e": {
          "model_module": "@jupyter-widgets/controls",
          "model_name": "DescriptionStyleModel",
          "state": {
            "_view_name": "StyleView",
            "_model_name": "DescriptionStyleModel",
            "description_width": "",
            "_view_module": "@jupyter-widgets/base",
            "_model_module_version": "1.5.0",
            "_view_count": null,
            "_view_module_version": "1.2.0",
            "_model_module": "@jupyter-widgets/controls"
          }
        },
        "0bb82cb297f245d8a713f91ab9d5b8c1": {
          "model_module": "@jupyter-widgets/base",
          "model_name": "LayoutModel",
          "state": {
            "_view_name": "LayoutView",
            "grid_template_rows": null,
            "right": null,
            "justify_content": null,
            "_view_module": "@jupyter-widgets/base",
            "overflow": null,
            "_model_module_version": "1.2.0",
            "_view_count": null,
            "flex_flow": null,
            "width": null,
            "min_width": null,
            "border": null,
            "align_items": null,
            "bottom": null,
            "_model_module": "@jupyter-widgets/base",
            "top": null,
            "grid_column": null,
            "overflow_y": null,
            "overflow_x": null,
            "grid_auto_flow": null,
            "grid_area": null,
            "grid_template_columns": null,
            "flex": null,
            "_model_name": "LayoutModel",
            "justify_items": null,
            "grid_row": null,
            "max_height": null,
            "align_content": null,
            "visibility": null,
            "align_self": null,
            "height": null,
            "min_height": null,
            "padding": null,
            "grid_auto_rows": null,
            "grid_gap": null,
            "max_width": null,
            "order": null,
            "_view_module_version": "1.2.0",
            "grid_template_areas": null,
            "object_position": null,
            "object_fit": null,
            "grid_auto_columns": null,
            "margin": null,
            "display": null,
            "left": null
          }
        },
        "10e8517c7cda420abe7d5455d5f48da4": {
          "model_module": "@jupyter-widgets/controls",
          "model_name": "HBoxModel",
          "state": {
            "_view_name": "HBoxView",
            "_dom_classes": [],
            "_model_name": "HBoxModel",
            "_view_module": "@jupyter-widgets/controls",
            "_model_module_version": "1.5.0",
            "_view_count": null,
            "_view_module_version": "1.5.0",
            "box_style": "",
            "layout": "IPY_MODEL_6d81319158da4b208d49d0487bb37882",
            "_model_module": "@jupyter-widgets/controls",
            "children": [
              "IPY_MODEL_93796433f18b42e3b130e5d6c9ddfa03",
              "IPY_MODEL_812ee7669a73451e9a48a0fc72709a12"
            ]
          }
        },
        "6d81319158da4b208d49d0487bb37882": {
          "model_module": "@jupyter-widgets/base",
          "model_name": "LayoutModel",
          "state": {
            "_view_name": "LayoutView",
            "grid_template_rows": null,
            "right": null,
            "justify_content": null,
            "_view_module": "@jupyter-widgets/base",
            "overflow": null,
            "_model_module_version": "1.2.0",
            "_view_count": null,
            "flex_flow": null,
            "width": null,
            "min_width": null,
            "border": null,
            "align_items": null,
            "bottom": null,
            "_model_module": "@jupyter-widgets/base",
            "top": null,
            "grid_column": null,
            "overflow_y": null,
            "overflow_x": null,
            "grid_auto_flow": null,
            "grid_area": null,
            "grid_template_columns": null,
            "flex": null,
            "_model_name": "LayoutModel",
            "justify_items": null,
            "grid_row": null,
            "max_height": null,
            "align_content": null,
            "visibility": null,
            "align_self": null,
            "height": null,
            "min_height": null,
            "padding": null,
            "grid_auto_rows": null,
            "grid_gap": null,
            "max_width": null,
            "order": null,
            "_view_module_version": "1.2.0",
            "grid_template_areas": null,
            "object_position": null,
            "object_fit": null,
            "grid_auto_columns": null,
            "margin": null,
            "display": null,
            "left": null
          }
        },
        "93796433f18b42e3b130e5d6c9ddfa03": {
          "model_module": "@jupyter-widgets/controls",
          "model_name": "FloatProgressModel",
          "state": {
            "_view_name": "ProgressView",
            "style": "IPY_MODEL_7fd219fbf1d84e94b7b4f73c62425a81",
            "_dom_classes": [],
            "description": "",
            "_model_name": "FloatProgressModel",
            "bar_style": "success",
            "max": 4542,
            "_view_module": "@jupyter-widgets/controls",
            "_model_module_version": "1.5.0",
            "value": 4542,
            "_view_count": null,
            "_view_module_version": "1.5.0",
            "orientation": "horizontal",
            "min": 0,
            "description_tooltip": null,
            "_model_module": "@jupyter-widgets/controls",
            "layout": "IPY_MODEL_0a17e79ddb5e46939aa83b094b25e7db"
          }
        },
        "812ee7669a73451e9a48a0fc72709a12": {
          "model_module": "@jupyter-widgets/controls",
          "model_name": "HTMLModel",
          "state": {
            "_view_name": "HTMLView",
            "style": "IPY_MODEL_fa45ae01d1ca4f31b5997a3581f59147",
            "_dom_classes": [],
            "description": "",
            "_model_name": "HTMLModel",
            "placeholder": "​",
            "_view_module": "@jupyter-widgets/controls",
            "_model_module_version": "1.5.0",
            "value": " 5120/? [00:00&lt;00:00, 9803.97it/s]",
            "_view_count": null,
            "_view_module_version": "1.5.0",
            "description_tooltip": null,
            "_model_module": "@jupyter-widgets/controls",
            "layout": "IPY_MODEL_f9d064638027459a81ae193311661fa1"
          }
        },
        "7fd219fbf1d84e94b7b4f73c62425a81": {
          "model_module": "@jupyter-widgets/controls",
          "model_name": "ProgressStyleModel",
          "state": {
            "_view_name": "StyleView",
            "_model_name": "ProgressStyleModel",
            "description_width": "initial",
            "_view_module": "@jupyter-widgets/base",
            "_model_module_version": "1.5.0",
            "_view_count": null,
            "_view_module_version": "1.2.0",
            "bar_color": null,
            "_model_module": "@jupyter-widgets/controls"
          }
        },
        "0a17e79ddb5e46939aa83b094b25e7db": {
          "model_module": "@jupyter-widgets/base",
          "model_name": "LayoutModel",
          "state": {
            "_view_name": "LayoutView",
            "grid_template_rows": null,
            "right": null,
            "justify_content": null,
            "_view_module": "@jupyter-widgets/base",
            "overflow": null,
            "_model_module_version": "1.2.0",
            "_view_count": null,
            "flex_flow": null,
            "width": null,
            "min_width": null,
            "border": null,
            "align_items": null,
            "bottom": null,
            "_model_module": "@jupyter-widgets/base",
            "top": null,
            "grid_column": null,
            "overflow_y": null,
            "overflow_x": null,
            "grid_auto_flow": null,
            "grid_area": null,
            "grid_template_columns": null,
            "flex": null,
            "_model_name": "LayoutModel",
            "justify_items": null,
            "grid_row": null,
            "max_height": null,
            "align_content": null,
            "visibility": null,
            "align_self": null,
            "height": null,
            "min_height": null,
            "padding": null,
            "grid_auto_rows": null,
            "grid_gap": null,
            "max_width": null,
            "order": null,
            "_view_module_version": "1.2.0",
            "grid_template_areas": null,
            "object_position": null,
            "object_fit": null,
            "grid_auto_columns": null,
            "margin": null,
            "display": null,
            "left": null
          }
        },
        "fa45ae01d1ca4f31b5997a3581f59147": {
          "model_module": "@jupyter-widgets/controls",
          "model_name": "DescriptionStyleModel",
          "state": {
            "_view_name": "StyleView",
            "_model_name": "DescriptionStyleModel",
            "description_width": "",
            "_view_module": "@jupyter-widgets/base",
            "_model_module_version": "1.5.0",
            "_view_count": null,
            "_view_module_version": "1.2.0",
            "_model_module": "@jupyter-widgets/controls"
          }
        },
        "f9d064638027459a81ae193311661fa1": {
          "model_module": "@jupyter-widgets/base",
          "model_name": "LayoutModel",
          "state": {
            "_view_name": "LayoutView",
            "grid_template_rows": null,
            "right": null,
            "justify_content": null,
            "_view_module": "@jupyter-widgets/base",
            "overflow": null,
            "_model_module_version": "1.2.0",
            "_view_count": null,
            "flex_flow": null,
            "width": null,
            "min_width": null,
            "border": null,
            "align_items": null,
            "bottom": null,
            "_model_module": "@jupyter-widgets/base",
            "top": null,
            "grid_column": null,
            "overflow_y": null,
            "overflow_x": null,
            "grid_auto_flow": null,
            "grid_area": null,
            "grid_template_columns": null,
            "flex": null,
            "_model_name": "LayoutModel",
            "justify_items": null,
            "grid_row": null,
            "max_height": null,
            "align_content": null,
            "visibility": null,
            "align_self": null,
            "height": null,
            "min_height": null,
            "padding": null,
            "grid_auto_rows": null,
            "grid_gap": null,
            "max_width": null,
            "order": null,
            "_view_module_version": "1.2.0",
            "grid_template_areas": null,
            "object_position": null,
            "object_fit": null,
            "grid_auto_columns": null,
            "margin": null,
            "display": null,
            "left": null
          }
        }
      }
    }
  },
  "cells": [
    {
      "cell_type": "markdown",
      "metadata": {
        "id": "view-in-github"
      },
      "source": [
        "<a href=\"https://colab.research.google.com/github/tushar-semwal/fedperf/blob/main/Vineeth/Local_Rounds/FedProx/FedProx.ipynb\" target=\"_parent\"><img src=\"https://colab.research.google.com/assets/colab-badge.svg\" alt=\"Open In Colab\"/></a>"
      ]
    },
    {
      "cell_type": "code",
      "metadata": {
        "id": "yKcpjZLrQQJV",
        "colab": {
          "base_uri": "https://localhost:8080/"
        },
        "outputId": "760addef-4fde-4869-cde3-25e0df739158"
      },
      "source": [
        "%%capture output\n",
        "try:\n",
        "    from google.colab import drive\n",
        "    drive.mount('/content/drive')\n",
        "\n",
        "    import os\n",
        "    path = '/content/drive/MyDrive/Colab Notebooks/OpenMined/'\n",
        "    os.makedirs(path, exist_ok=True)\n",
        "except:\n",
        "    path = './'"
      ],
      "execution_count": 1,
      "outputs": [
        {
          "output_type": "stream",
          "text": [
            "Go to this URL in a browser: https://accounts.google.com/o/oauth2/auth?client_id=947318989803-6bn6qk8qdgf4n4g3pfee6491hc0brc4i.apps.googleusercontent.com&redirect_uri=urn%3aietf%3awg%3aoauth%3a2.0%3aoob&scope=email%20https%3a%2f%2fwww.googleapis.com%2fauth%2fdocs.test%20https%3a%2f%2fwww.googleapis.com%2fauth%2fdrive%20https%3a%2f%2fwww.googleapis.com%2fauth%2fdrive.photos.readonly%20https%3a%2f%2fwww.googleapis.com%2fauth%2fpeopleapi.readonly%20https%3a%2f%2fwww.googleapis.com%2fauth%2fdrive.activity.readonly%20https%3a%2f%2fwww.googleapis.com%2fauth%2fexperimentsandconfigs%20https%3a%2f%2fwww.googleapis.com%2fauth%2fphotos.native&response_type=code\n",
            "\n",
            "Enter your authorization code:\n",
            "4/1AY0e-g6jZ0pt-lr15zgDZUa4qxgL7ulph3-TG5NO1ZRyUJ-Iy9YNo9zC2VY\n"
          ],
          "name": "stdout"
        }
      ]
    },
    {
      "cell_type": "markdown",
      "metadata": {
        "id": "-0_nKpfq2h1R"
      },
      "source": [
        "## Imports"
      ]
    },
    {
      "cell_type": "code",
      "metadata": {
        "id": "DLLNM9X2JbQ8",
        "colab": {
          "base_uri": "https://localhost:8080/"
        },
        "outputId": "596669b0-6d37-41fa-96b0-93b09fb6f28c"
      },
      "source": [
        "%load_ext tensorboard\n",
        "import os\n",
        "import numpy as np\n",
        "import matplotlib\n",
        "import matplotlib.pyplot as plt\n",
        "import copy\n",
        "import random\n",
        "import time\n",
        "\n",
        "import torch\n",
        "import torch.nn as nn\n",
        "import torch.nn.functional as F\n",
        "\n",
        "from torch.utils.data import Dataset, DataLoader\n",
        "from torch.utils.tensorboard import SummaryWriter\n",
        "from torchvision import transforms, utils, datasets\n",
        "from torchsummary import summary\n",
        "\n",
        "\n",
        "# Check assigned GPU\n",
        "gpu_info = !nvidia-smi\n",
        "gpu_info = '\\n'.join(gpu_info)\n",
        "if gpu_info.find('failed') >= 0:\n",
        "  print('Select the Runtime > \"Change runtime type\" menu to enable a GPU accelerator, ')\n",
        "  print('and then re-execute this cell.')\n",
        "else:\n",
        "  print(gpu_info)\n",
        "\n",
        "# set manual seed for reproducibility\n",
        "seed = 42\n",
        "\n",
        "# general reproducibility\n",
        "random.seed(seed)\n",
        "np.random.seed(seed)\n",
        "torch.manual_seed(seed)\n",
        "\n",
        "# gpu training specific\n",
        "torch.backends.cudnn.deterministic = True\n",
        "torch.backends.cudnn.benchmark = False"
      ],
      "execution_count": 2,
      "outputs": [
        {
          "output_type": "stream",
          "text": [
            "Tue May  4 06:04:15 2021       \n",
            "+-----------------------------------------------------------------------------+\n",
            "| NVIDIA-SMI 465.19.01    Driver Version: 460.32.03    CUDA Version: 11.2     |\n",
            "|-------------------------------+----------------------+----------------------+\n",
            "| GPU  Name        Persistence-M| Bus-Id        Disp.A | Volatile Uncorr. ECC |\n",
            "| Fan  Temp  Perf  Pwr:Usage/Cap|         Memory-Usage | GPU-Util  Compute M. |\n",
            "|                               |                      |               MIG M. |\n",
            "|===============================+======================+======================|\n",
            "|   0  Tesla K80           Off  | 00000000:00:04.0 Off |                    0 |\n",
            "| N/A   50C    P8    31W / 149W |      0MiB / 11441MiB |      0%      Default |\n",
            "|                               |                      |                  N/A |\n",
            "+-------------------------------+----------------------+----------------------+\n",
            "                                                                               \n",
            "+-----------------------------------------------------------------------------+\n",
            "| Processes:                                                                  |\n",
            "|  GPU   GI   CI        PID   Type   Process name                  GPU Memory |\n",
            "|        ID   ID                                                   Usage      |\n",
            "|=============================================================================|\n",
            "|  No running processes found                                                 |\n",
            "+-----------------------------------------------------------------------------+\n"
          ],
          "name": "stdout"
        }
      ]
    },
    {
      "cell_type": "markdown",
      "metadata": {
        "id": "NY4eWzGiL6Mj"
      },
      "source": [
        "## Load the MNIST Dataset"
      ]
    },
    {
      "cell_type": "code",
      "metadata": {
        "id": "41lWlknqo3pI"
      },
      "source": [
        "torch.cuda.set_device('cuda:0')"
      ],
      "execution_count": 3,
      "outputs": []
    },
    {
      "cell_type": "code",
      "metadata": {
        "id": "G649tjTXLL8F",
        "colab": {
          "base_uri": "https://localhost:8080/",
          "height": 1000,
          "referenced_widgets": [
            "ec9c465704b84ae685cf2a117e1481bf",
            "e972956dae824e419fc3e59411b5e11c",
            "abbfec24072f44afa0186375d9b8d3d8",
            "834a0eb9ed46415abd0ff032394ab620",
            "acf5a46373ff40da9e2deb743724e496",
            "a12b45b48b914cc5a07c1cf66a5ed7c3",
            "f74f6fd62ff84535850356e0748f7ea2",
            "66400b94e71f493cb690c82020758a4c",
            "e889078aff9441569559a6c280bd4ddb",
            "6dd23590da7f4fdbaaeacfb475b8439f",
            "ab3e87942fb34965aafa34c697ba3467",
            "42564f2db11c4e40bf7d2bc818c33b05",
            "feab584e51b6460aa131484dca2fd8bf",
            "1884855faa7647faa14f7e770e9d89d2",
            "6d166264f39b4681b402b62467d17a26",
            "2c559c66252343e5b28829ef213d7952",
            "e351ca4351104df5814dd8f6f3a72b7b",
            "d994dcd402f64524aee47a94aee11c24",
            "c56d6ff73ed647cabdadf5230e826153",
            "d84f6f7184f048c4b9fbaf8b182af399",
            "dc3db4d2dd3846b8bd37dda9401bfe9d",
            "589c611a345c4bd0b7973702bf09d44f",
            "f9283c40229840b9a18170c4eaff0465",
            "c8684feabaa542deb7e8f7b9b5ab735b",
            "364d708327f049658d00f1698af29674",
            "4105447ab651463dbd93a9e7d1b0e05c",
            "752976f33c0b453cabde56a7523ac896",
            "b711fa7666dc4cf4963465f9eba0614c",
            "869f2489b7db40dea76ff0d1427231c1",
            "93b4230ed9984eff88c4cb74f888cf10",
            "5df45b2252f34adebbeef885a6f82d42",
            "1fc4b575bb8c47888e08de5a27fc101b",
            "8754089a7c654a16b9e843c8cd8080df",
            "0e1eaed04d334e4c96b23c3b8c088de5",
            "5b6bfb0ca68f4227a10ba424b2d44492",
            "8e3f0fd673d94922b8877b4c71d39265",
            "abacb82e4b864822a504f74ca9094499",
            "d328fee954af4b40a048b489c5b40b82",
            "5521cf9c657c444e881f19edc1cc6fd5",
            "5d5ed6cd191e455a90798e4c64b49faa",
            "ed046151efb54d368b3b3391b5137c42",
            "857cd775b221473b86bc2f78af52475b",
            "914819e6d0d84e6eafd9d694e2a73cc5",
            "ec587251be3543b5ac5303d3f71a3757",
            "5a4bd05fae494a3fbe2f3dc18b4ee3eb",
            "46292030d94145f8af3e9cc4fd0324e3",
            "09ac912168394c57be7b3119056dc6e6",
            "1ef56c77c9d446889e25ec33d825be21",
            "e590ab16a906440d9b6e06911d52785d",
            "071a52ee72624c27a82c51c287500ee9",
            "7e0d0f46592a451eb9c79adeced5f025",
            "e1472fd12d454bb1abc50fb5952d0e98",
            "e5ba67aecb42498ea4ae537f51777f8b",
            "33ee9f52bd5e4edda08b34603b3f9640",
            "0e4693d6fa9b4d5ea476b7e4f9335d5e",
            "0bb82cb297f245d8a713f91ab9d5b8c1",
            "10e8517c7cda420abe7d5455d5f48da4",
            "6d81319158da4b208d49d0487bb37882",
            "93796433f18b42e3b130e5d6c9ddfa03",
            "812ee7669a73451e9a48a0fc72709a12",
            "7fd219fbf1d84e94b7b4f73c62425a81",
            "0a17e79ddb5e46939aa83b094b25e7db",
            "fa45ae01d1ca4f31b5997a3581f59147",
            "f9d064638027459a81ae193311661fa1"
          ]
        },
        "outputId": "c4fdb406-aa10-44d6-c6f1-77a4d88e6165"
      },
      "source": [
        "# create transforms\n",
        "# We will just convert to tensor and normalize since no special transforms are mentioned in the paper\n",
        "transforms_mnist = transforms.Compose([\n",
        "                                       transforms.ToTensor(),\n",
        "                                       transforms.Normalize((0.1307,), (0.3081,))\n",
        "                                       ])\n",
        "\n",
        "mnist_data_train = datasets.MNIST('./data/mnist/', train=True, download=True, transform=transforms_mnist)\n",
        "mnist_data_test = datasets.MNIST('../data/mnist/', train=False, download=True, transform=transforms_mnist)"
      ],
      "execution_count": 4,
      "outputs": [
        {
          "output_type": "stream",
          "text": [
            "Downloading http://yann.lecun.com/exdb/mnist/train-images-idx3-ubyte.gz\n",
            "Failed to download (trying next):\n",
            "HTTP Error 503: Service Unavailable\n",
            "\n",
            "Downloading https://ossci-datasets.s3.amazonaws.com/mnist/train-images-idx3-ubyte.gz\n",
            "Downloading https://ossci-datasets.s3.amazonaws.com/mnist/train-images-idx3-ubyte.gz to ./data/mnist/MNIST/raw/train-images-idx3-ubyte.gz\n"
          ],
          "name": "stdout"
        },
        {
          "output_type": "display_data",
          "data": {
            "application/vnd.jupyter.widget-view+json": {
              "model_id": "ec9c465704b84ae685cf2a117e1481bf",
              "version_minor": 0,
              "version_major": 2
            },
            "text/plain": [
              "HBox(children=(FloatProgress(value=0.0, max=9912422.0), HTML(value='')))"
            ]
          },
          "metadata": {
            "tags": []
          }
        },
        {
          "output_type": "stream",
          "text": [
            "\n",
            "Extracting ./data/mnist/MNIST/raw/train-images-idx3-ubyte.gz to ./data/mnist/MNIST/raw\n",
            "\n",
            "Downloading http://yann.lecun.com/exdb/mnist/train-labels-idx1-ubyte.gz\n",
            "Failed to download (trying next):\n",
            "HTTP Error 503: Service Unavailable\n",
            "\n",
            "Downloading https://ossci-datasets.s3.amazonaws.com/mnist/train-labels-idx1-ubyte.gz\n",
            "Downloading https://ossci-datasets.s3.amazonaws.com/mnist/train-labels-idx1-ubyte.gz to ./data/mnist/MNIST/raw/train-labels-idx1-ubyte.gz\n"
          ],
          "name": "stdout"
        },
        {
          "output_type": "display_data",
          "data": {
            "application/vnd.jupyter.widget-view+json": {
              "model_id": "e889078aff9441569559a6c280bd4ddb",
              "version_minor": 0,
              "version_major": 2
            },
            "text/plain": [
              "HBox(children=(FloatProgress(value=0.0, max=28881.0), HTML(value='')))"
            ]
          },
          "metadata": {
            "tags": []
          }
        },
        {
          "output_type": "stream",
          "text": [
            "\n",
            "Extracting ./data/mnist/MNIST/raw/train-labels-idx1-ubyte.gz to ./data/mnist/MNIST/raw\n",
            "\n",
            "Downloading http://yann.lecun.com/exdb/mnist/t10k-images-idx3-ubyte.gz\n",
            "Failed to download (trying next):\n",
            "HTTP Error 503: Service Unavailable\n",
            "\n",
            "Downloading https://ossci-datasets.s3.amazonaws.com/mnist/t10k-images-idx3-ubyte.gz\n",
            "Downloading https://ossci-datasets.s3.amazonaws.com/mnist/t10k-images-idx3-ubyte.gz to ./data/mnist/MNIST/raw/t10k-images-idx3-ubyte.gz\n"
          ],
          "name": "stdout"
        },
        {
          "output_type": "display_data",
          "data": {
            "application/vnd.jupyter.widget-view+json": {
              "model_id": "e351ca4351104df5814dd8f6f3a72b7b",
              "version_minor": 0,
              "version_major": 2
            },
            "text/plain": [
              "HBox(children=(FloatProgress(value=0.0, max=1648877.0), HTML(value='')))"
            ]
          },
          "metadata": {
            "tags": []
          }
        },
        {
          "output_type": "stream",
          "text": [
            "\n",
            "Extracting ./data/mnist/MNIST/raw/t10k-images-idx3-ubyte.gz to ./data/mnist/MNIST/raw\n",
            "\n",
            "Downloading http://yann.lecun.com/exdb/mnist/t10k-labels-idx1-ubyte.gz\n",
            "Failed to download (trying next):\n",
            "HTTP Error 503: Service Unavailable\n",
            "\n",
            "Downloading https://ossci-datasets.s3.amazonaws.com/mnist/t10k-labels-idx1-ubyte.gz\n",
            "Downloading https://ossci-datasets.s3.amazonaws.com/mnist/t10k-labels-idx1-ubyte.gz to ./data/mnist/MNIST/raw/t10k-labels-idx1-ubyte.gz\n"
          ],
          "name": "stdout"
        },
        {
          "output_type": "display_data",
          "data": {
            "application/vnd.jupyter.widget-view+json": {
              "model_id": "364d708327f049658d00f1698af29674",
              "version_minor": 0,
              "version_major": 2
            },
            "text/plain": [
              "HBox(children=(FloatProgress(value=0.0, max=4542.0), HTML(value='')))"
            ]
          },
          "metadata": {
            "tags": []
          }
        },
        {
          "output_type": "stream",
          "text": [
            "\n",
            "Extracting ./data/mnist/MNIST/raw/t10k-labels-idx1-ubyte.gz to ./data/mnist/MNIST/raw\n",
            "\n",
            "Processing...\n",
            "Done!\n"
          ],
          "name": "stdout"
        },
        {
          "output_type": "stream",
          "text": [
            "/usr/local/lib/python3.7/dist-packages/torchvision/datasets/mnist.py:502: UserWarning: The given NumPy array is not writeable, and PyTorch does not support non-writeable tensors. This means you can write to the underlying (supposedly non-writeable) NumPy array using the tensor. You may want to copy the array to protect its data or make it writeable before converting it to a tensor. This type of warning will be suppressed for the rest of this program. (Triggered internally at  /pytorch/torch/csrc/utils/tensor_numpy.cpp:143.)\n",
            "  return torch.from_numpy(parsed.astype(m[2], copy=False)).view(*s)\n"
          ],
          "name": "stderr"
        },
        {
          "output_type": "stream",
          "text": [
            "Downloading http://yann.lecun.com/exdb/mnist/train-images-idx3-ubyte.gz\n",
            "Failed to download (trying next):\n",
            "HTTP Error 503: Service Unavailable\n",
            "\n",
            "Downloading https://ossci-datasets.s3.amazonaws.com/mnist/train-images-idx3-ubyte.gz\n",
            "Downloading https://ossci-datasets.s3.amazonaws.com/mnist/train-images-idx3-ubyte.gz to ../data/mnist/MNIST/raw/train-images-idx3-ubyte.gz\n"
          ],
          "name": "stdout"
        },
        {
          "output_type": "display_data",
          "data": {
            "application/vnd.jupyter.widget-view+json": {
              "model_id": "8754089a7c654a16b9e843c8cd8080df",
              "version_minor": 0,
              "version_major": 2
            },
            "text/plain": [
              "HBox(children=(FloatProgress(value=0.0, max=9912422.0), HTML(value='')))"
            ]
          },
          "metadata": {
            "tags": []
          }
        },
        {
          "output_type": "stream",
          "text": [
            "\n",
            "Extracting ../data/mnist/MNIST/raw/train-images-idx3-ubyte.gz to ../data/mnist/MNIST/raw\n",
            "\n",
            "Downloading http://yann.lecun.com/exdb/mnist/train-labels-idx1-ubyte.gz\n",
            "Failed to download (trying next):\n",
            "HTTP Error 503: Service Unavailable\n",
            "\n",
            "Downloading https://ossci-datasets.s3.amazonaws.com/mnist/train-labels-idx1-ubyte.gz\n",
            "Downloading https://ossci-datasets.s3.amazonaws.com/mnist/train-labels-idx1-ubyte.gz to ../data/mnist/MNIST/raw/train-labels-idx1-ubyte.gz\n"
          ],
          "name": "stdout"
        },
        {
          "output_type": "display_data",
          "data": {
            "application/vnd.jupyter.widget-view+json": {
              "model_id": "ed046151efb54d368b3b3391b5137c42",
              "version_minor": 0,
              "version_major": 2
            },
            "text/plain": [
              "HBox(children=(FloatProgress(value=0.0, max=28881.0), HTML(value='')))"
            ]
          },
          "metadata": {
            "tags": []
          }
        },
        {
          "output_type": "stream",
          "text": [
            "\n",
            "Extracting ../data/mnist/MNIST/raw/train-labels-idx1-ubyte.gz to ../data/mnist/MNIST/raw\n",
            "\n",
            "Downloading http://yann.lecun.com/exdb/mnist/t10k-images-idx3-ubyte.gz\n",
            "Failed to download (trying next):\n",
            "HTTP Error 503: Service Unavailable\n",
            "\n",
            "Downloading https://ossci-datasets.s3.amazonaws.com/mnist/t10k-images-idx3-ubyte.gz\n",
            "Downloading https://ossci-datasets.s3.amazonaws.com/mnist/t10k-images-idx3-ubyte.gz to ../data/mnist/MNIST/raw/t10k-images-idx3-ubyte.gz\n"
          ],
          "name": "stdout"
        },
        {
          "output_type": "display_data",
          "data": {
            "application/vnd.jupyter.widget-view+json": {
              "model_id": "e590ab16a906440d9b6e06911d52785d",
              "version_minor": 0,
              "version_major": 2
            },
            "text/plain": [
              "HBox(children=(FloatProgress(value=0.0, max=1648877.0), HTML(value='')))"
            ]
          },
          "metadata": {
            "tags": []
          }
        },
        {
          "output_type": "stream",
          "text": [
            "\n",
            "Extracting ../data/mnist/MNIST/raw/t10k-images-idx3-ubyte.gz to ../data/mnist/MNIST/raw\n",
            "\n",
            "Downloading http://yann.lecun.com/exdb/mnist/t10k-labels-idx1-ubyte.gz\n",
            "Failed to download (trying next):\n",
            "HTTP Error 503: Service Unavailable\n",
            "\n",
            "Downloading https://ossci-datasets.s3.amazonaws.com/mnist/t10k-labels-idx1-ubyte.gz\n",
            "Downloading https://ossci-datasets.s3.amazonaws.com/mnist/t10k-labels-idx1-ubyte.gz to ../data/mnist/MNIST/raw/t10k-labels-idx1-ubyte.gz\n"
          ],
          "name": "stdout"
        },
        {
          "output_type": "display_data",
          "data": {
            "application/vnd.jupyter.widget-view+json": {
              "model_id": "10e8517c7cda420abe7d5455d5f48da4",
              "version_minor": 0,
              "version_major": 2
            },
            "text/plain": [
              "HBox(children=(FloatProgress(value=0.0, max=4542.0), HTML(value='')))"
            ]
          },
          "metadata": {
            "tags": []
          }
        },
        {
          "output_type": "stream",
          "text": [
            "\n",
            "Extracting ../data/mnist/MNIST/raw/t10k-labels-idx1-ubyte.gz to ../data/mnist/MNIST/raw\n",
            "\n",
            "Processing...\n",
            "Done!\n"
          ],
          "name": "stdout"
        }
      ]
    },
    {
      "cell_type": "code",
      "metadata": {
        "id": "dm9usjn2vFkL",
        "colab": {
          "base_uri": "https://localhost:8080/"
        },
        "outputId": "ec59b37e-246a-47ea-fbe8-a97b9b314559"
      },
      "source": [
        "classes = np.array(list(mnist_data_train.class_to_idx.values()))\n",
        "classes_test = np.array(list(mnist_data_test.class_to_idx.values()))\n",
        "num_classes = len(classes_test)\n",
        "print(\"Classes: {} \\tType: {}\".format(classes, type(classes)))\n",
        "print(\"Classes Test: {} \\tType: {}\".format(classes_test, type(classes)))\n"
      ],
      "execution_count": 5,
      "outputs": [
        {
          "output_type": "stream",
          "text": [
            "Classes: [0 1 2 3 4 5 6 7 8 9] \tType: <class 'numpy.ndarray'>\n",
            "Classes Test: [0 1 2 3 4 5 6 7 8 9] \tType: <class 'numpy.ndarray'>\n"
          ],
          "name": "stdout"
        }
      ]
    },
    {
      "cell_type": "code",
      "metadata": {
        "id": "9lvJt3Ofv2SO",
        "colab": {
          "base_uri": "https://localhost:8080/"
        },
        "outputId": "73c8a970-7963-4dd3-e208-ee6da7389145"
      },
      "source": [
        "print(\"Image Shape: {}\".format(mnist_data_train.data[0].size()))"
      ],
      "execution_count": 6,
      "outputs": [
        {
          "output_type": "stream",
          "text": [
            "Image Shape: torch.Size([28, 28])\n"
          ],
          "name": "stdout"
        }
      ]
    },
    {
      "cell_type": "markdown",
      "metadata": {
        "id": "jCOONkg-zV7Y"
      },
      "source": [
        "## Visualize Data"
      ]
    },
    {
      "cell_type": "code",
      "metadata": {
        "id": "R9MK03TZw6Qs"
      },
      "source": [
        "def imshow(img):\n",
        "\timg = img/2 + 0.5 #unnormalize the image\n",
        "\tplt.imshow(img, cmap='gray') # convert from tensor to image"
      ],
      "execution_count": 7,
      "outputs": []
    },
    {
      "cell_type": "code",
      "metadata": {
        "id": "gMJ0Kx4Kw-_H"
      },
      "source": [
        "def visualize(dataset):\n",
        "  figure = plt.figure(figsize=(25,4))\n",
        "  for i in range(20):\n",
        "    axis = figure.add_subplot(2, 20/2, i+1, xticks=[], yticks=[])\n",
        "    data = dataset.data[i]\n",
        "    data = data.numpy()\n",
        "\n",
        "    target = dataset.targets[i]\n",
        "    target = target.numpy()\n",
        "    imshow(data)\n",
        "    axis.set_title(target)\n"
      ],
      "execution_count": 8,
      "outputs": []
    },
    {
      "cell_type": "code",
      "metadata": {
        "id": "8bPOwKg10Ro7",
        "colab": {
          "base_uri": "https://localhost:8080/",
          "height": 254
        },
        "outputId": "9e5a42b1-71ea-463c-8f7b-72c89b6123fa"
      },
      "source": [
        "visualize(mnist_data_train)"
      ],
      "execution_count": 9,
      "outputs": [
        {
          "output_type": "display_data",
          "data": {
            "image/png": "[encoded data removed]",
            "text/plain": [
              "<Figure size 1800x288 with 20 Axes>"
            ]
          },
          "metadata": {
            "tags": []
          }
        }
      ]
    },
    {
      "cell_type": "code",
      "metadata": {
        "id": "RKoh5Cf70UYu",
        "colab": {
          "base_uri": "https://localhost:8080/",
          "height": 254
        },
        "outputId": "5feacca4-9aad-45b8-c380-13cf61a0e456"
      },
      "source": [
        "visualize(mnist_data_test)"
      ],
      "execution_count": 10,
      "outputs": [
        {
          "output_type": "display_data",
          "data": {
            "image/png": "[encoded data removed]",
            "text/plain": [
              "<Figure size 1800x288 with 20 Axes>"
            ]
          },
          "metadata": {
            "tags": []
          }
        }
      ]
    },
    {
      "cell_type": "markdown",
      "metadata": {
        "id": "ctjRsETiO1qO"
      },
      "source": [
        "## Partitioning the Data (IID and non-IID)"
      ]
    },
    {
      "cell_type": "code",
      "metadata": {
        "id": "3_v8lyrgO5dD"
      },
      "source": [
        "def iid_partition(dataset, clients):\n",
        "  \"\"\"\n",
        "  I.I.D paritioning of data over clients\n",
        "  Shuffle the data\n",
        "  Split it between clients\n",
        "  \n",
        "  params:\n",
        "    - dataset (torch.utils.Dataset): Dataset containing the MNIST Images\n",
        "    - clients (int): Number of Clients to split the data between\n",
        "\n",
        "  returns:\n",
        "    - Dictionary of image indexes for each client\n",
        "  \"\"\"\n",
        "\n",
        "  num_items_per_client = int(len(dataset)/clients)\n",
        "  client_dict = {}\n",
        "  image_idxs = [i for i in range(len(dataset))]\n",
        "\n",
        "  for i in range(clients):\n",
        "    client_dict[i] = set(np.random.choice(image_idxs, num_items_per_client, replace=False))\n",
        "    image_idxs = list(set(image_idxs) - client_dict[i])\n",
        "\n",
        "  return client_dict"
      ],
      "execution_count": 11,
      "outputs": []
    },
    {
      "cell_type": "code",
      "metadata": {
        "id": "4zMdliGMQoSl"
      },
      "source": [
        "def non_iid_partition(dataset, clients, total_shards, shards_size, num_shards_per_client):\n",
        "  \"\"\"\n",
        "  non I.I.D parititioning of data over clients\n",
        "  Sort the data by the digit label\n",
        "  Divide the data into N shards of size S\n",
        "  Each of the clients will get X shards\n",
        "\n",
        "  params:\n",
        "    - dataset (torch.utils.Dataset): Dataset containing the MNIST Images\n",
        "    - clients (int): Number of Clients to split the data between\n",
        "    - total_shards (int): Number of shards to partition the data in\n",
        "    - shards_size (int): Size of each shard \n",
        "    - num_shards_per_client (int): Number of shards of size shards_size that each client receives\n",
        "\n",
        "  returns:\n",
        "    - Dictionary of image indexes for each client\n",
        "  \"\"\"\n",
        "  \n",
        "  shard_idxs = [i for i in range(total_shards)]\n",
        "  client_dict = {i: np.array([], dtype='int64') for i in range(clients)}\n",
        "  idxs = np.arange(len(dataset))\n",
        "  data_labels = dataset.targets.numpy()\n",
        "\n",
        "  # sort the labels\n",
        "  label_idxs = np.vstack((idxs, data_labels))\n",
        "  label_idxs = label_idxs[:, label_idxs[1,:].argsort()]\n",
        "  idxs = label_idxs[0,:]\n",
        "\n",
        "  # divide the data into total_shards of size shards_size\n",
        "  # assign num_shards_per_client to each client\n",
        "  for i in range(clients):\n",
        "    rand_set = set(np.random.choice(shard_idxs, num_shards_per_client, replace=False))\n",
        "    shard_idxs = list(set(shard_idxs) - rand_set)\n",
        "\n",
        "    for rand in rand_set:\n",
        "      client_dict[i] = np.concatenate((client_dict[i], idxs[rand*shards_size:(rand+1)*shards_size]), axis=0)\n",
        "  \n",
        "  return client_dict\n",
        "\n",
        "\n",
        "\n"
      ],
      "execution_count": 12,
      "outputs": []
    },
    {
      "cell_type": "markdown",
      "metadata": {
        "id": "PTfxv8kFoGAy"
      },
      "source": [
        "## Models"
      ]
    },
    {
      "cell_type": "code",
      "metadata": {
        "id": "CvoDNFKbZST5"
      },
      "source": [
        "class MNIST_2NN(nn.Module):\n",
        "  \"\"\"\n",
        "  A simple multilayer-perceptron with 2-hidden layers with 200 units each\n",
        "  using ReLu activations\n",
        "\n",
        "  Total Expected Params: 199,210\n",
        "  \"\"\"\n",
        "  def __init__(self):\n",
        "    super(MNIST_2NN, self).__init__()\n",
        "\n",
        "    self.fc1 = nn.Linear(28*28, 200)\n",
        "    self.fc2 = nn.Linear(200, 200)\n",
        "    self.fc3 = nn.Linear(200, 10)\n",
        "\n",
        "  def forward(self, x):\n",
        "    x = torch.flatten(x, 1)\n",
        "    x = F.relu(self.fc1(x))\n",
        "    x = F.relu(self.fc2(x))\n",
        "    out = self.fc3(x)\n",
        "\n",
        "    return x"
      ],
      "execution_count": 13,
      "outputs": []
    },
    {
      "cell_type": "code",
      "metadata": {
        "id": "ut1hZ8x3qYPZ"
      },
      "source": [
        "class MNIST_CNN(nn.Module):\n",
        "  \"\"\"\n",
        "  CNN with two 5x5 convolution lauers(the first with 32 channels, second with 64,\n",
        "  each followed with 2x2 max pooling), a fully connected layer with 512 uunits and \n",
        "  ReLu activation, and the final Softmax output layer\n",
        "\n",
        "  Total Expected Params: 1,663,370\n",
        "  \"\"\"\n",
        "  def __init__(self):\n",
        "    super(MNIST_CNN, self).__init__()\n",
        "\n",
        "    self.conv1 = nn.Conv2d(1, 32, kernel_size=5)\n",
        "    self.conv2 = nn.Conv2d(32, 64, kernel_size=5)\n",
        "    \n",
        "    self.pool = nn.MaxPool2d(2,2)\n",
        "    self.dropout = nn.Dropout(p=0.2)\n",
        "\n",
        "    self.fc1 = nn.Linear(1024, 512)\n",
        "    self.out = nn.Linear(512, 10)\n",
        "\n",
        "  def forward(self, x):\n",
        "    x = self.pool(F.relu(self.conv1(x)))\n",
        "    x = self.pool(F.relu(self.conv2(x)))\n",
        "    x = self.dropout(x)\n",
        "    x = torch.flatten(x, 1)\n",
        "    x = F.relu(self.fc1(x))\n",
        "    x = self.out(x)\n",
        "    out = F.log_softmax(x, dim=1)\n",
        "\n",
        "    return out"
      ],
      "execution_count": 14,
      "outputs": []
    },
    {
      "cell_type": "markdown",
      "metadata": {
        "id": "uVv4HA9HuLtr"
      },
      "source": [
        "### Print Model Summaries"
      ]
    },
    {
      "cell_type": "code",
      "metadata": {
        "id": "I5oTH710sJEt",
        "colab": {
          "base_uri": "https://localhost:8080/"
        },
        "outputId": "8331c867-cea0-451a-cc87-1634c6864b92"
      },
      "source": [
        "mnist_mlp = MNIST_2NN()\n",
        "mnist_cnn = MNIST_CNN()\n",
        "\n",
        "if torch.cuda.is_available():\n",
        "  mnist_mlp.cuda()\n",
        "  mnist_cnn.cuda()\n",
        "\n",
        "print(\"MNIST MLP SUMMARY\")\n",
        "print(summary(mnist_mlp, (28,28)))\n",
        "\n",
        "print(\"\\nMNIST CNN SUMMARY\")\n",
        "print(summary(mnist_cnn, (1, 28,28)))"
      ],
      "execution_count": 15,
      "outputs": [
        {
          "output_type": "stream",
          "text": [
            "MNIST MLP SUMMARY\n",
            "----------------------------------------------------------------\n",
            "        Layer (type)               Output Shape         Param #\n",
            "================================================================\n",
            "            Linear-1                  [-1, 200]         157,000\n",
            "            Linear-2                  [-1, 200]          40,200\n",
            "            Linear-3                   [-1, 10]           2,010\n",
            "================================================================\n",
            "Total params: 199,210\n",
            "Trainable params: 199,210\n",
            "Non-trainable params: 0\n",
            "----------------------------------------------------------------\n",
            "Input size (MB): 0.00\n",
            "Forward/backward pass size (MB): 0.00\n",
            "Params size (MB): 0.76\n",
            "Estimated Total Size (MB): 0.77\n",
            "----------------------------------------------------------------\n",
            "None\n",
            "\n",
            "MNIST CNN SUMMARY\n",
            "----------------------------------------------------------------\n",
            "        Layer (type)               Output Shape         Param #\n",
            "================================================================\n",
            "            Conv2d-1           [-1, 32, 24, 24]             832\n",
            "         MaxPool2d-2           [-1, 32, 12, 12]               0\n",
            "            Conv2d-3             [-1, 64, 8, 8]          51,264\n",
            "         MaxPool2d-4             [-1, 64, 4, 4]               0\n",
            "           Dropout-5             [-1, 64, 4, 4]               0\n",
            "            Linear-6                  [-1, 512]         524,800\n",
            "            Linear-7                   [-1, 10]           5,130\n",
            "================================================================\n",
            "Total params: 582,026\n",
            "Trainable params: 582,026\n",
            "Non-trainable params: 0\n",
            "----------------------------------------------------------------\n",
            "Input size (MB): 0.00\n",
            "Forward/backward pass size (MB): 0.23\n",
            "Params size (MB): 2.22\n",
            "Estimated Total Size (MB): 2.45\n",
            "----------------------------------------------------------------\n",
            "None\n"
          ],
          "name": "stdout"
        }
      ]
    },
    {
      "cell_type": "markdown",
      "metadata": {
        "id": "JYXicM_FjSv6"
      },
      "source": [
        "## FedProx"
      ]
    },
    {
      "cell_type": "markdown",
      "metadata": {
        "id": "cjGMTWxAOsf1"
      },
      "source": [
        "### Systems Heterogeneity Simulations\n",
        "\n",
        "Generate epochs for selected clients based on percentage of devices that corresponds to heterogeneity. \n",
        "\n",
        "Assign x number of epochs (chosen unifirmly at random between [1, E]) to 0%, 50% or 90% of the selected devices, respectively. Settings where 0% devices perform fewer than E epochs of work correspond to the environments without system heterogeneity, while 90% of the devices sending their partial solutions corresponds to highly heterogenous system."
      ]
    },
    {
      "cell_type": "code",
      "metadata": {
        "id": "i-WTHuT3OpFD"
      },
      "source": [
        "def GenerateLocalEpochs(percentage, size, max_epochs):\n",
        "  ''' Method generates list of epochs for selected clients\n",
        "  to replicate system heteroggeneity\n",
        "\n",
        "  Params:\n",
        "    percentage: percentage of clients to have fewer than E epochs\n",
        "    size:       total size of the list\n",
        "    max_epochs: maximum value for local epochs\n",
        "  \n",
        "  Returns:\n",
        "    List of size epochs for each Client Update\n",
        "\n",
        "  '''\n",
        "\n",
        "  # if percentage is 0 then each client runs for E epochs\n",
        "  if percentage == 0:\n",
        "      return np.array([max_epochs]*size)\n",
        "  else:\n",
        "    # get the number of clients to have fewer than E epochs\n",
        "    heterogenous_size = int((percentage/100) * size)\n",
        "\n",
        "    # generate random uniform epochs of heterogenous size between 1 and E\n",
        "    epoch_list = np.random.randint(1, max_epochs, heterogenous_size)\n",
        "\n",
        "    # the rest of the clients will have E epochs\n",
        "    remaining_size = size - heterogenous_size\n",
        "    rem_list = [max_epochs]*remaining_size\n",
        "\n",
        "    epoch_list = np.append(epoch_list, rem_list, axis=0)\n",
        "    \n",
        "    # shuffle the list and return\n",
        "    np.random.shuffle(epoch_list)\n",
        "\n",
        "    return epoch_list"
      ],
      "execution_count": 16,
      "outputs": []
    },
    {
      "cell_type": "markdown",
      "metadata": {
        "id": "gf_8XEXa-gZ7"
      },
      "source": [
        "## Federated Averaging"
      ]
    },
    {
      "cell_type": "markdown",
      "metadata": {
        "id": "L-aNdQsQ-Kvp"
      },
      "source": [
        "### Local Training (Client Update)\n",
        "\n",
        "Local training for the model on client side"
      ]
    },
    {
      "cell_type": "code",
      "metadata": {
        "id": "oX6OsQyO-Gz7"
      },
      "source": [
        "class CustomDataset(Dataset):\n",
        "  def __init__(self, dataset, idxs):\n",
        "      self.dataset = dataset\n",
        "      self.idxs = list(idxs)\n",
        "\n",
        "  def __len__(self):\n",
        "      return len(self.idxs)\n",
        "\n",
        "  def __getitem__(self, item):\n",
        "      image, label = self.dataset[self.idxs[item]]\n",
        "      return image, label\n",
        "\n",
        "\n",
        "class ClientUpdate(object):\n",
        "  def __init__(self, dataset, batchSize, learning_rate, epochs, idxs, mu, algorithm):\n",
        "    self.train_loader = DataLoader(CustomDataset(dataset, idxs), batch_size=batchSize, shuffle=True)\n",
        "    self.algorithm = algorithm\n",
        "    self.learning_rate = learning_rate\n",
        "    self.epochs = epochs\n",
        "\n",
        "  def train(self, model):\n",
        "    criterion = nn.CrossEntropyLoss()\n",
        "    proximal_criterion = nn.MSELoss(reduction='mean')\n",
        "    optimizer = torch.optim.SGD(model.parameters(), lr=self.learning_rate, momentum=0.5)\n",
        "\n",
        "    # use the weights of global model for proximal term calculation\n",
        "    global_model = copy.deepcopy(model)\n",
        "\n",
        "    # calculate local training time\n",
        "    start_time = time.time()\n",
        "\n",
        "\n",
        "    e_loss = []\n",
        "    for epoch in range(1, self.epochs+1):\n",
        "\n",
        "      train_loss = 0.0\n",
        "\n",
        "      model.train()\n",
        "      for data, labels in self.train_loader:\n",
        "\n",
        "        if torch.cuda.is_available():\n",
        "          data, labels = data.cuda(), labels.cuda()\n",
        "\n",
        "        # clear the gradients\n",
        "        optimizer.zero_grad()\n",
        "        # make a forward pass\n",
        "        output = model(data)\n",
        "\n",
        "        # calculate the loss + the proximal term\n",
        "        _, pred = torch.max(output, 1)\n",
        "\n",
        "        if self.algorithm == 'fedprox':\n",
        "          proximal_term = 0.0\n",
        "\n",
        "          # iterate through the current and global model parameters\n",
        "          for w, w_t in zip(model.parameters(), global_model.parameters()) :\n",
        "            # update the proximal term \n",
        "            #proximal_term += torch.sum(torch.abs((w-w_t)**2))\n",
        "            proximal_term += (w-w_t).norm(2)\n",
        "\n",
        "          loss = criterion(output, labels) + (mu/2)*proximal_term\n",
        "        else:\n",
        "          loss = criterion(output, labels)\n",
        "    \n",
        "        # do a backwards pass\n",
        "        loss.backward()\n",
        "        # perform a single optimization step\n",
        "        optimizer.step()\n",
        "        # update training loss\n",
        "        train_loss += loss.item()*data.size(0)\n",
        "\n",
        "      # average losses\n",
        "      train_loss = train_loss/len(self.train_loader.dataset)\n",
        "      e_loss.append(train_loss)\n",
        "\n",
        "    total_loss = sum(e_loss)/len(e_loss)\n",
        "\n",
        "    return model.state_dict(), total_loss, (time.time() - start_time)"
      ],
      "execution_count": 17,
      "outputs": []
    },
    {
      "cell_type": "markdown",
      "metadata": {
        "id": "Ukgh1DVHE2Ds"
      },
      "source": [
        "### Server Side Training\n",
        "\n",
        "Following Algorithm 1 from the paper"
      ]
    },
    {
      "cell_type": "code",
      "metadata": {
        "id": "1NF1e33BgpeL"
      },
      "source": [
        "def training(model, rounds, batch_size, lr, ds, ds_test, data_dict, C, K, E, mu, percentage, plt_title, plt_color, target_test_accuracy, algorithm=\"fedprox\"):\n",
        "  \"\"\"\n",
        "  Function implements the Federated Averaging Algorithm from the FedAvg paper.\n",
        "  Specifically, this function is used for the server side training and weight update\n",
        "\n",
        "  Params:\n",
        "    - model:           PyTorch model to train\n",
        "    - rounds:          Number of communication rounds for the client update\n",
        "    - batch_size:      Batch size for client update training\n",
        "    - lr:              Learning rate used for client update training\n",
        "    - ds:              Dataset used for training\n",
        "    - ds_test:         Dataset used for testing\n",
        "    - data_dict:       Type of data partition used for training (IID or non-IID)\n",
        "    - C:               Fraction of clients randomly chosen to perform computation on each round\n",
        "    - K:               Total number of clients\n",
        "    - E:               Number of training passes each client makes over its local dataset per round\n",
        "    - tb_writer_name:  Directory name to save the tensorboard logs\n",
        "  Returns:\n",
        "    - model:           Trained model on the server\n",
        "  \"\"\"\n",
        "\n",
        "  # global model weights\n",
        "  global_weights = model.state_dict()\n",
        "\n",
        "  # training loss\n",
        "  # train_accuracy = []\n",
        "  train_loss = []\n",
        "  test_accuracy = []\n",
        "  test_loss = []\n",
        "\n",
        "  # store last loss for convergence\n",
        "  last_loss = 0.0\n",
        "\n",
        "  # total time taken \n",
        "  total_time = 0\n",
        "  start = time.time()\n",
        "    \n",
        "  print(f\"System heterogeneity set to {percentage}% stragglers.\\n\")\n",
        "  print(f\"Picking {max(int(C*K),1 )} random clients per round.\\n\")\n",
        "\n",
        "  for curr_round in range(1, rounds+1):\n",
        "    w, local_loss, lst_local_train_time = [], [], []\n",
        "\n",
        "    m = max(int(C*K), 1)\n",
        "\n",
        "    heterogenous_epoch_list = GenerateLocalEpochs(percentage, size=m, max_epochs=E)\n",
        "    heterogenous_epoch_list = np.array(heterogenous_epoch_list)\n",
        "\n",
        "    S_t = np.random.choice(range(K), m, replace=False)\n",
        "    S_t = np.array(S_t)\n",
        "    \n",
        "    # For Federated Averaging, drop all the clients that are stragglers\n",
        "    if algorithm == 'fedavg':\n",
        "      stragglers_indices = np.argwhere(heterogenous_epoch_list < E)\n",
        "      heterogenous_epoch_list = np.delete(heterogenous_epoch_list, stragglers_indices)\n",
        "      S_t = np.delete(S_t, stragglers_indices)\n",
        "\n",
        "    for k, epoch in zip(S_t, heterogenous_epoch_list):\n",
        "      local_update = ClientUpdate(dataset=ds, batchSize=batch_size, learning_rate=lr, epochs=epoch, idxs=data_dict[k], mu=mu, algorithm=algorithm)\n",
        "      weights, loss, local_train_time = local_update.train(model=copy.deepcopy(model))\n",
        "\n",
        "      w.append(copy.deepcopy(weights))\n",
        "      local_loss.append(copy.deepcopy(loss))\n",
        "      lst_local_train_time.append(local_train_time)\n",
        "\n",
        "    # calculate time to update the global weights\n",
        "    global_start_time = time.time()\n",
        "\n",
        "    # updating the global weights\n",
        "    weights_avg = copy.deepcopy(w[0])\n",
        "    for k in weights_avg.keys():\n",
        "      for i in range(1, len(w)):\n",
        "        weights_avg[k] += w[i][k]\n",
        "\n",
        "      weights_avg[k] = torch.div(weights_avg[k], len(w))\n",
        "\n",
        "    global_weights = weights_avg\n",
        "    global_end_time = time.time()\n",
        "\n",
        "    # calculate total time \n",
        "    total_time += (global_end_time - global_start_time) + sum(lst_local_train_time)/len(lst_local_train_time)\n",
        "\n",
        "    # move the updated weights to our model state dict\n",
        "    model.load_state_dict(global_weights)\n",
        "\n",
        "    # loss\n",
        "    loss_avg = sum(local_loss) / len(local_loss)\n",
        "\n",
        "    # test accuracy\n",
        "    criterion = nn.CrossEntropyLoss()\n",
        "    test_accuracy_current, test_loss_current = testing(copy.deepcopy(model), ds_test, 128, criterion, num_classes, classes_test)\n",
        "    test_accuracy.append(test_accuracy_current)\n",
        "    test_loss.append(test_loss_current)\n",
        "\n",
        "    print(f\"Round: {curr_round}... \\tAverage Train Loss: {round(loss_avg, 3)}... \\tTest Loss: {test_loss_current}... \\tTest Accuracy: {test_accuracy_current}\")\n",
        "    train_loss.append(loss_avg)\n",
        "\n",
        "#     # break if we achieve the target test accuracy\n",
        "#     if test_accuracy_current >= target_test_accuracy:\n",
        "#       rounds = curr_round\n",
        "#       break\n",
        "\n",
        "    # # break if we achieve convergence, i.e., loss between two consecutive rounds is <0.0001\n",
        "    # if algorithm == 'fedprox' and abs(loss_avg - last_loss) < 0.0001:\n",
        "    #   rounds = curr_round\n",
        "    #   break\n",
        "    \n",
        "    # update the last loss\n",
        "    last_loss = loss_avg\n",
        "\n",
        "  end = time.time()\n",
        "\n",
        "  # plot train loss\n",
        "  fig, ax = plt.subplots()\n",
        "  x_axis = np.arange(1, rounds+1)\n",
        "  y_axis = np.array(train_loss)\n",
        "  ax.plot(x_axis, y_axis)\n",
        "\n",
        "  ax.set(xlabel='Number of Rounds', ylabel='Train Loss', title=plt_title)\n",
        "  ax.grid()\n",
        "  fig.savefig(plt_title+'_Train_loss.jpg', format='jpg')\n",
        "  plt.show()\n",
        "\n",
        "  fig, ax = plt.subplots()\n",
        "  x_axis = np.arange(1, rounds+1)\n",
        "  y_axis = np.array(test_loss)\n",
        "  ax.plot(x_axis, y_axis, 'tab:'+plt_color)\n",
        "\n",
        "  ax.set(xlabel='Number of Rounds', ylabel='Test Loss', title=plt_title)\n",
        "  ax.grid()\n",
        "  fig.savefig(plt_title+'_Test_loss.jpg', format='jpg')\n",
        "  plt.show()\n",
        "\n",
        "\n",
        "  fig, ax = plt.subplots()\n",
        "  x_axis = np.arange(1, rounds+1)\n",
        "  y_axis = np.array(test_accuracy)\n",
        "  ax.plot(x_axis, y_axis, 'tab:'+plt_color)\n",
        "\n",
        "  ax.set(xlabel='Number of Rounds', ylabel='Test Accuracy', title=plt_title)\n",
        "  ax.grid()\n",
        "  fig.savefig(plt_title+'_Test_Accuracy.jpg', format='jpg')\n",
        "  plt.show()\n",
        "  \n",
        "  print(\"Training Done!\")\n",
        "  print(\"Total time taken to Train: {}\\n\\n\".format(end-start))\n",
        "  \n",
        "  return model, train_loss, test_accuracy, test_loss"
      ],
      "execution_count": 18,
      "outputs": []
    },
    {
      "cell_type": "markdown",
      "metadata": {
        "id": "tUYyb4T-uXmF"
      },
      "source": [
        "## Testing Loop"
      ]
    },
    {
      "cell_type": "code",
      "metadata": {
        "id": "uCcIZmO5uan9"
      },
      "source": [
        "def testing(model, dataset, bs, criterion, num_classes, classes, print_info=False):\n",
        "  #test loss \n",
        "  test_loss = 0.0\n",
        "  correct_class = list(0. for i in range(num_classes))\n",
        "  total_class = list(0. for i in range(num_classes))\n",
        "\n",
        "  test_loader = DataLoader(dataset, batch_size=bs)\n",
        "  l = len(test_loader)\n",
        "  model.eval()\n",
        "  for data, labels in test_loader:\n",
        "\n",
        "    if torch.cuda.is_available():\n",
        "      data, labels = data.cuda(), labels.cuda()\n",
        "\n",
        "    output = model(data)\n",
        "    loss = criterion(output, labels)\n",
        "    test_loss += loss.item()*data.size(0)\n",
        "\n",
        "    _, pred = torch.max(output, 1)\n",
        "\n",
        "    correct_tensor = pred.eq(labels.data.view_as(pred))\n",
        "    correct = np.squeeze(correct_tensor.numpy()) if not torch.cuda.is_available() else np.squeeze(correct_tensor.cpu().numpy())\n",
        "\n",
        "    #test accuracy for each object class\n",
        "    for i in range(num_classes):\n",
        "      label = labels.data[i]\n",
        "      correct_class[label] += correct[i].item()\n",
        "      total_class[label] += 1\n",
        "    \n",
        "  # avg test loss\n",
        "  test_loss = test_loss/len(test_loader.dataset)\n",
        "  test_accuracy = 100. * np.sum(correct_class) / np.sum(total_class)\n",
        "\n",
        "  if print_info:\n",
        "    print(\"Test Loss: {:.6f}\\n\".format(test_loss))\n",
        "\n",
        "    for i in range(10):\n",
        "      if total_class[i]>0:\n",
        "        print('Test Accuracy of %5s: %2d%% (%2d/%2d)' % \n",
        "              (classes[i], 100 * correct_class[i] / total_class[i],\n",
        "              np.sum(correct_class[i]), np.sum(total_class[i])))\n",
        "      else:\n",
        "        print('Test Accuracy of %5s: N/A (no training examples)' % (classes[i]))\n",
        "\n",
        "    print('\\nFinal Test  Accuracy: {:.3f} ({}/{})'.format(\n",
        "          100. * np.sum(correct_class) / np.sum(total_class),\n",
        "          np.sum(correct_class), np.sum(total_class)))\n",
        "  \n",
        "  return test_accuracy, test_loss"
      ],
      "execution_count": 19,
      "outputs": []
    },
    {
      "cell_type": "markdown",
      "metadata": {
        "id": "Ri0FqXFeHW-V"
      },
      "source": [
        "## Logger"
      ]
    },
    {
      "cell_type": "code",
      "metadata": {
        "id": "thZm2kSiHT4v"
      },
      "source": [
        "log_dict = {}\n",
        "NUM_REPEAT = 1"
      ],
      "execution_count": 20,
      "outputs": []
    },
    {
      "cell_type": "markdown",
      "metadata": {
        "id": "4hO5oV6aXqeh"
      },
      "source": [
        "## MNIST CNN on IID"
      ]
    },
    {
      "cell_type": "markdown",
      "metadata": {
        "id": "flSQv_P4zCfx"
      },
      "source": [
        "### Train\n"
      ]
    },
    {
      "cell_type": "code",
      "metadata": {
        "id": "0ZalcKZtEseA",
        "colab": {
          "base_uri": "https://localhost:8080/",
          "height": 1000
        },
        "outputId": "73b152a2-0b2b-42a7-98f3-8eb5e34d4c72"
      },
      "source": [
        "train_loss_multiple_runs = [None] * NUM_REPEAT\n",
        "test_accuracy_multiple_runs = [None] * NUM_REPEAT\n",
        "test_loss_multiple_runs = [None] * NUM_REPEAT\n",
        "\n",
        "for exp_num in range(NUM_REPEAT):\n",
        "  print(\"Experiment Run Number: \", exp_num)\n",
        "\n",
        "  # number of training rounds\n",
        "  rounds = 50\n",
        "  # client fraction\n",
        "  C = 0.3\n",
        "  # number of clients\n",
        "  K = 100\n",
        "  # number of training passes on local dataset for each roung\n",
        "  E = 5\n",
        "  # batch size\n",
        "  batch_size = 10\n",
        "  # learning Rate\n",
        "  lr = 0.05\n",
        "  # proximal term constant\n",
        "  mu = 0.01\n",
        "  # percentage of clients to have fewer than E epochs\n",
        "  percentage = 50\n",
        "\n",
        "  # target_test_accuracy\n",
        "  target_test_accuracy=99.0\n",
        "  # data partition dictionary\n",
        "  iid_dict = iid_partition(mnist_data_train, 100)\n",
        "  # load model\n",
        "  mnist_cnn = MNIST_CNN()\n",
        "\n",
        "  if torch.cuda.is_available():\n",
        "    mnist_cnn.cuda()\n",
        "\n",
        "  mnist_cnn_iid_trained, train_loss, test_accuracy, test_loss = training(mnist_cnn, rounds, batch_size, lr, mnist_data_train, mnist_data_test, iid_dict, C, K, E, mu, percentage, \"MNIST CNN on IID Dataset\", \"orange\", target_test_accuracy)\n",
        "\n",
        "  train_loss_multiple_runs[exp_num] = train_loss\n",
        "  test_accuracy_multiple_runs[exp_num] = test_accuracy\n",
        "  test_loss_multiple_runs[exp_num] = test_loss"
      ],
      "execution_count": 21,
      "outputs": [
        {
          "output_type": "stream",
          "text": [
            "Experiment Run Number:  0\n",
            "System heterogeneity set to 50% stragglers.\n",
            "\n",
            "Picking 30 random clients per round.\n",
            "\n",
            "Round: 1... \tAverage Train Loss: 0.801... \tTest Loss: 0.4614148241996765... \tTest Accuracy: 93.41772151898734\n",
            "Round: 2... \tAverage Train Loss: 0.251... \tTest Loss: 0.10835887831151486... \tTest Accuracy: 96.70886075949367\n",
            "Round: 3... \tAverage Train Loss: 0.142... \tTest Loss: 0.08369324769936502... \tTest Accuracy: 96.83544303797468\n",
            "Round: 4... \tAverage Train Loss: 0.124... \tTest Loss: 0.06846045334236696... \tTest Accuracy: 97.59493670886076\n",
            "Round: 5... \tAverage Train Loss: 0.093... \tTest Loss: 0.06171341358828358... \tTest Accuracy: 97.72151898734177\n",
            "Round: 6... \tAverage Train Loss: 0.093... \tTest Loss: 0.053362115450925195... \tTest Accuracy: 98.22784810126582\n",
            "Round: 7... \tAverage Train Loss: 0.083... \tTest Loss: 0.050047161325044... \tTest Accuracy: 98.35443037974683\n",
            "Round: 8... \tAverage Train Loss: 0.071... \tTest Loss: 0.044040473295585254... \tTest Accuracy: 98.73417721518987\n",
            "Round: 9... \tAverage Train Loss: 0.069... \tTest Loss: 0.041069902427855416... \tTest Accuracy: 98.73417721518987\n",
            "Round: 10... \tAverage Train Loss: 0.059... \tTest Loss: 0.039871007075102535... \tTest Accuracy: 99.11392405063292\n",
            "Round: 11... \tAverage Train Loss: 0.062... \tTest Loss: 0.037525780121888966... \tTest Accuracy: 99.24050632911393\n",
            "Round: 12... \tAverage Train Loss: 0.063... \tTest Loss: 0.03677927676178515... \tTest Accuracy: 99.11392405063292\n",
            "Round: 13... \tAverage Train Loss: 0.054... \tTest Loss: 0.03561970307624142... \tTest Accuracy: 99.24050632911393\n",
            "Round: 14... \tAverage Train Loss: 0.054... \tTest Loss: 0.03421998048375535... \tTest Accuracy: 99.24050632911393\n",
            "Round: 15... \tAverage Train Loss: 0.05... \tTest Loss: 0.033127791536552834... \tTest Accuracy: 99.24050632911393\n",
            "Round: 16... \tAverage Train Loss: 0.045... \tTest Loss: 0.033056634239121925... \tTest Accuracy: 99.24050632911393\n",
            "Round: 17... \tAverage Train Loss: 0.048... \tTest Loss: 0.031551634547510185... \tTest Accuracy: 99.36708860759494\n",
            "Round: 18... \tAverage Train Loss: 0.048... \tTest Loss: 0.030177817368967227... \tTest Accuracy: 99.36708860759494\n",
            "Round: 19... \tAverage Train Loss: 0.039... \tTest Loss: 0.03048449767081038... \tTest Accuracy: 99.36708860759494\n",
            "Round: 20... \tAverage Train Loss: 0.039... \tTest Loss: 0.029747944235242903... \tTest Accuracy: 99.36708860759494\n",
            "Round: 21... \tAverage Train Loss: 0.042... \tTest Loss: 0.029168558966662386... \tTest Accuracy: 99.36708860759494\n",
            "Round: 22... \tAverage Train Loss: 0.046... \tTest Loss: 0.029345965966247604... \tTest Accuracy: 99.36708860759494\n",
            "Round: 23... \tAverage Train Loss: 0.038... \tTest Loss: 0.026906342327114544... \tTest Accuracy: 99.36708860759494\n",
            "Round: 24... \tAverage Train Loss: 0.04... \tTest Loss: 0.026702277646263248... \tTest Accuracy: 99.36708860759494\n",
            "Round: 25... \tAverage Train Loss: 0.033... \tTest Loss: 0.026530481847994086... \tTest Accuracy: 99.36708860759494\n",
            "Round: 26... \tAverage Train Loss: 0.035... \tTest Loss: 0.026487922018182872... \tTest Accuracy: 99.36708860759494\n",
            "Round: 27... \tAverage Train Loss: 0.039... \tTest Loss: 0.026323695463317563... \tTest Accuracy: 99.36708860759494\n",
            "Round: 28... \tAverage Train Loss: 0.034... \tTest Loss: 0.025812426363919803... \tTest Accuracy: 99.49367088607595\n",
            "Round: 29... \tAverage Train Loss: 0.029... \tTest Loss: 0.025147972751920315... \tTest Accuracy: 99.49367088607595\n",
            "Round: 30... \tAverage Train Loss: 0.033... \tTest Loss: 0.025135046013070678... \tTest Accuracy: 99.36708860759494\n",
            "Round: 31... \tAverage Train Loss: 0.028... \tTest Loss: 0.02494516384226008... \tTest Accuracy: 99.36708860759494\n",
            "Round: 32... \tAverage Train Loss: 0.037... \tTest Loss: 0.024344551730141394... \tTest Accuracy: 99.36708860759494\n",
            "Round: 33... \tAverage Train Loss: 0.027... \tTest Loss: 0.02372430984685707... \tTest Accuracy: 99.36708860759494\n",
            "Round: 34... \tAverage Train Loss: 0.03... \tTest Loss: 0.02357699455215552... \tTest Accuracy: 99.49367088607595\n",
            "Round: 35... \tAverage Train Loss: 0.029... \tTest Loss: 0.024033027226359263... \tTest Accuracy: 99.49367088607595\n",
            "Round: 36... \tAverage Train Loss: 0.028... \tTest Loss: 0.023751891542803424... \tTest Accuracy: 99.49367088607595\n",
            "Round: 37... \tAverage Train Loss: 0.026... \tTest Loss: 0.023714605109042896... \tTest Accuracy: 99.49367088607595\n",
            "Round: 38... \tAverage Train Loss: 0.029... \tTest Loss: 0.023704187978494155... \tTest Accuracy: 99.49367088607595\n",
            "Round: 39... \tAverage Train Loss: 0.029... \tTest Loss: 0.02340165134367562... \tTest Accuracy: 99.62025316455696\n",
            "Round: 40... \tAverage Train Loss: 0.027... \tTest Loss: 0.023004663657263155... \tTest Accuracy: 99.49367088607595\n",
            "Round: 41... \tAverage Train Loss: 0.026... \tTest Loss: 0.023072388249001232... \tTest Accuracy: 99.49367088607595\n",
            "Round: 42... \tAverage Train Loss: 0.031... \tTest Loss: 0.023048183901567244... \tTest Accuracy: 99.49367088607595\n",
            "Round: 43... \tAverage Train Loss: 0.025... \tTest Loss: 0.0228724449795096... \tTest Accuracy: 99.49367088607595\n",
            "Round: 44... \tAverage Train Loss: 0.025... \tTest Loss: 0.022641942315067717... \tTest Accuracy: 99.49367088607595\n",
            "Round: 45... \tAverage Train Loss: 0.025... \tTest Loss: 0.02173804865085258... \tTest Accuracy: 99.62025316455696\n",
            "Round: 46... \tAverage Train Loss: 0.025... \tTest Loss: 0.021384675947001962... \tTest Accuracy: 99.62025316455696\n",
            "Round: 47... \tAverage Train Loss: 0.025... \tTest Loss: 0.021369785111800592... \tTest Accuracy: 99.62025316455696\n",
            "Round: 48... \tAverage Train Loss: 0.02... \tTest Loss: 0.021772637383602706... \tTest Accuracy: 99.62025316455696\n",
            "Round: 49... \tAverage Train Loss: 0.021... \tTest Loss: 0.02233932503877768... \tTest Accuracy: 99.62025316455696\n",
            "Round: 50... \tAverage Train Loss: 0.023... \tTest Loss: 0.022292711571539985... \tTest Accuracy: 99.62025316455696\n"
          ],
          "name": "stdout"
        },
        {
          "output_type": "display_data",
          "data": {
            "image/png": "[encoded data removed]",
            "text/plain": [
              "<Figure size 432x288 with 1 Axes>"
            ]
          },
          "metadata": {
            "tags": [],
            "needs_background": "light"
          }
        },
        {
          "output_type": "display_data",
          "data": {
            "image/png": "[encoded data removed]",
            "text/plain": [
              "<Figure size 432x288 with 1 Axes>"
            ]
          },
          "metadata": {
            "tags": [],
            "needs_background": "light"
          }
        },
        {
          "output_type": "display_data",
          "data": {
            "image/png": "[encoded data removed]",
            "text/plain": [
              "<Figure size 432x288 with 1 Axes>"
            ]
          },
          "metadata": {
            "tags": [],
            "needs_background": "light"
          }
        },
        {
          "output_type": "stream",
          "text": [
            "Training Done!\n",
            "Total time taken to Train: 3240.095915555954\n",
            "\n",
            "\n"
          ],
          "name": "stdout"
        }
      ]
    },
    {
      "cell_type": "markdown",
      "metadata": {
        "id": "wNwC82przF6G"
      },
      "source": [
        "### Test"
      ]
    },
    {
      "cell_type": "code",
      "metadata": {
        "id": "qB97BFs9we9w",
        "colab": {
          "base_uri": "https://localhost:8080/"
        },
        "outputId": "3445b245-71de-49b5-8b3f-f7564559e598"
      },
      "source": [
        "criterion = nn.CrossEntropyLoss()\n",
        "acc, loss = testing(mnist_cnn_iid_trained, mnist_data_test, 128, criterion, num_classes, classes_test, True)"
      ],
      "execution_count": 22,
      "outputs": [
        {
          "output_type": "stream",
          "text": [
            "Test Loss: 0.022293\n",
            "\n",
            "Test Accuracy of     0: 100% (76/76)\n",
            "Test Accuracy of     1: 100% (90/90)\n",
            "Test Accuracy of     2: 100% (91/91)\n",
            "Test Accuracy of     3: 97% (71/73)\n",
            "Test Accuracy of     4: 100% (89/89)\n",
            "Test Accuracy of     5: 98% (67/68)\n",
            "Test Accuracy of     6: 100% (62/62)\n",
            "Test Accuracy of     7: 100% (81/81)\n",
            "Test Accuracy of     8: 100% (77/77)\n",
            "Test Accuracy of     9: 100% (83/83)\n",
            "\n",
            "Final Test  Accuracy: 99.620 (787.0/790.0)\n"
          ],
          "name": "stdout"
        }
      ]
    },
    {
      "cell_type": "code",
      "metadata": {
        "id": "gdQZEZmHHeqt"
      },
      "source": [
        "hyperparams = {'rounds': rounds,\n",
        "               'C': C,\n",
        "               'K': K,\n",
        "               'E': E,\n",
        "               'batch_size': batch_size,\n",
        "               'lr': lr,\n",
        "               'mu': mu,\n",
        "               'percentage': percentage,\n",
        "               'target_test_accuracy': target_test_accuracy,\n",
        "               }\n",
        "\n",
        "log_dict['MNIST CNN on IID'] = {'train_loss': train_loss_multiple_runs, \n",
        "                                'test_loss': test_loss_multiple_runs, \n",
        "                                'test_accuracy': test_accuracy_multiple_runs,\n",
        "                                'hyperparams': hyperparams,\n",
        "                                }"
      ],
      "execution_count": 23,
      "outputs": []
    },
    {
      "cell_type": "markdown",
      "metadata": {
        "id": "uF8MdSIUYcnl"
      },
      "source": [
        "## MNIST CNN on Non IID"
      ]
    },
    {
      "cell_type": "markdown",
      "metadata": {
        "id": "a6wXX7JW11bx"
      },
      "source": [
        "### Train\n"
      ]
    },
    {
      "cell_type": "code",
      "metadata": {
        "id": "fCD3kBCKYfBK",
        "colab": {
          "base_uri": "https://localhost:8080/",
          "height": 1000
        },
        "outputId": "e313fedf-7e01-48a3-d8d7-a4a38e961dec"
      },
      "source": [
        "train_loss_multiple_runs = [None] * NUM_REPEAT\n",
        "test_accuracy_multiple_runs = [None] * NUM_REPEAT\n",
        "test_loss_multiple_runs = [None] * NUM_REPEAT\n",
        "\n",
        "for exp_num in range(NUM_REPEAT):\n",
        "  print(\"Experiment Run Number: \", exp_num)\n",
        "\n",
        "  # number of training rounds\n",
        "  rounds = 50\n",
        "  # client fraction\n",
        "  C = 0.3\n",
        "  # number of clients\n",
        "  K = 100\n",
        "  # number of training passes on local dataset for each roung\n",
        "  E = 5\n",
        "  # batch size\n",
        "  batch_size = 10\n",
        "  # learning Rate\n",
        "  lr=0.05\n",
        "  # proximal term constant\n",
        "  mu = 0.01\n",
        "  # percentage of clients to have fewer than E epochs\n",
        "  percentage = 50\n",
        "  # target_test_accuracy\n",
        "  target_test_accuracy=99.0\n",
        "\n",
        "  # dict containing different type of data partition\n",
        "  data_dict = non_iid_partition(mnist_data_train, 100, 200, 300, 2)\n",
        "  # load model\n",
        "  mnist_cnn = MNIST_CNN()\n",
        "\n",
        "  if torch.cuda.is_available():\n",
        "    mnist_cnn.cuda()\n",
        "\n",
        "  mnist_cnn_non_iid_trained, train_loss, test_accuracy, test_loss = training(mnist_cnn, rounds, batch_size, lr, mnist_data_train, mnist_data_test, data_dict, C, K, E,mu, percentage, \"MNIST CNN on Non-IID Dataset\", \"green\", target_test_accuracy)\n",
        "\n",
        "  train_loss_multiple_runs[exp_num] = train_loss\n",
        "  test_accuracy_multiple_runs[exp_num] = test_accuracy\n",
        "  test_loss_multiple_runs[exp_num] = test_loss"
      ],
      "execution_count": 24,
      "outputs": [
        {
          "output_type": "stream",
          "text": [
            "Experiment Run Number:  0\n",
            "System heterogeneity set to 50% stragglers.\n",
            "\n",
            "Picking 30 random clients per round.\n",
            "\n",
            "Round: 1... \tAverage Train Loss: 0.194... \tTest Loss: 2.245468831253052... \tTest Accuracy: 37.08860759493671\n",
            "Round: 2... \tAverage Train Loss: 0.142... \tTest Loss: 1.814681000328064... \tTest Accuracy: 66.70886075949367\n",
            "Round: 3... \tAverage Train Loss: 0.095... \tTest Loss: 1.1615619646072388... \tTest Accuracy: 77.46835443037975\n",
            "Round: 4... \tAverage Train Loss: 0.071... \tTest Loss: 0.6787096236228943... \tTest Accuracy: 83.41772151898734\n",
            "Round: 5... \tAverage Train Loss: 0.057... \tTest Loss: 0.4988177677154541... \tTest Accuracy: 91.39240506329114\n",
            "Round: 6... \tAverage Train Loss: 0.059... \tTest Loss: 0.3576599153757095... \tTest Accuracy: 92.65822784810126\n",
            "Round: 7... \tAverage Train Loss: 0.055... \tTest Loss: 0.2847545941829681... \tTest Accuracy: 94.55696202531645\n",
            "Round: 8... \tAverage Train Loss: 0.042... \tTest Loss: 0.22469844360351562... \tTest Accuracy: 95.18987341772151\n",
            "Round: 9... \tAverage Train Loss: 0.043... \tTest Loss: 0.2169097255587578... \tTest Accuracy: 94.43037974683544\n",
            "Round: 10... \tAverage Train Loss: 0.036... \tTest Loss: 0.20058654156923295... \tTest Accuracy: 94.0506329113924\n",
            "Round: 11... \tAverage Train Loss: 0.032... \tTest Loss: 0.17879178750514985... \tTest Accuracy: 94.9367088607595\n",
            "Round: 12... \tAverage Train Loss: 0.035... \tTest Loss: 0.14922727253437043... \tTest Accuracy: 96.32911392405063\n",
            "Round: 13... \tAverage Train Loss: 0.044... \tTest Loss: 0.1565853355050087... \tTest Accuracy: 95.9493670886076\n",
            "Round: 14... \tAverage Train Loss: 0.03... \tTest Loss: 0.13864442843198777... \tTest Accuracy: 96.58227848101266\n",
            "Round: 15... \tAverage Train Loss: 0.035... \tTest Loss: 0.11994733815193176... \tTest Accuracy: 96.32911392405063\n",
            "Round: 16... \tAverage Train Loss: 0.032... \tTest Loss: 0.1205027420759201... \tTest Accuracy: 96.45569620253164\n",
            "Round: 17... \tAverage Train Loss: 0.036... \tTest Loss: 0.09939818258285522... \tTest Accuracy: 97.34177215189874\n",
            "Round: 18... \tAverage Train Loss: 0.03... \tTest Loss: 0.09092801798731089... \tTest Accuracy: 97.72151898734177\n",
            "Round: 19... \tAverage Train Loss: 0.033... \tTest Loss: 0.09496262447535991... \tTest Accuracy: 97.46835443037975\n",
            "Round: 20... \tAverage Train Loss: 0.025... \tTest Loss: 0.087120831592381... \tTest Accuracy: 97.59493670886076\n",
            "Round: 21... \tAverage Train Loss: 0.024... \tTest Loss: 0.08614888459295035... \tTest Accuracy: 97.34177215189874\n",
            "Round: 22... \tAverage Train Loss: 0.032... \tTest Loss: 0.08606377393007278... \tTest Accuracy: 97.46835443037975\n",
            "Round: 23... \tAverage Train Loss: 0.036... \tTest Loss: 0.08180256938189268... \tTest Accuracy: 98.10126582278481\n",
            "Round: 24... \tAverage Train Loss: 0.03... \tTest Loss: 0.07905624971240759... \tTest Accuracy: 97.84810126582279\n",
            "Round: 25... \tAverage Train Loss: 0.02... \tTest Loss: 0.0698788372632116... \tTest Accuracy: 98.35443037974683\n",
            "Round: 26... \tAverage Train Loss: 0.034... \tTest Loss: 0.07112437368407845... \tTest Accuracy: 98.10126582278481\n",
            "Round: 27... \tAverage Train Loss: 0.026... \tTest Loss: 0.06321593100205064... \tTest Accuracy: 98.48101265822785\n",
            "Round: 28... \tAverage Train Loss: 0.023... \tTest Loss: 0.0613450457893312... \tTest Accuracy: 98.86075949367088\n",
            "Round: 29... \tAverage Train Loss: 0.03... \tTest Loss: 0.06555202955454588... \tTest Accuracy: 98.35443037974683\n",
            "Round: 30... \tAverage Train Loss: 0.02... \tTest Loss: 0.05808038912937045... \tTest Accuracy: 98.86075949367088\n",
            "Round: 31... \tAverage Train Loss: 0.022... \tTest Loss: 0.057122003307938575... \tTest Accuracy: 98.86075949367088\n",
            "Round: 32... \tAverage Train Loss: 0.024... \tTest Loss: 0.056102915427088736... \tTest Accuracy: 98.86075949367088\n",
            "Round: 33... \tAverage Train Loss: 0.021... \tTest Loss: 0.05436666249558329... \tTest Accuracy: 99.11392405063292\n",
            "Round: 34... \tAverage Train Loss: 0.023... \tTest Loss: 0.054023430161923174... \tTest Accuracy: 99.24050632911393\n",
            "Round: 35... \tAverage Train Loss: 0.019... \tTest Loss: 0.0530169681712985... \tTest Accuracy: 98.86075949367088\n",
            "Round: 36... \tAverage Train Loss: 0.018... \tTest Loss: 0.055500507790595295... \tTest Accuracy: 98.35443037974683\n",
            "Round: 37... \tAverage Train Loss: 0.025... \tTest Loss: 0.05566838304065168... \tTest Accuracy: 98.9873417721519\n",
            "Round: 38... \tAverage Train Loss: 0.021... \tTest Loss: 0.05408629071712494... \tTest Accuracy: 98.73417721518987\n",
            "Round: 39... \tAverage Train Loss: 0.018... \tTest Loss: 0.048914268003031613... \tTest Accuracy: 99.11392405063292\n",
            "Round: 40... \tAverage Train Loss: 0.023... \tTest Loss: 0.04964434755593538... \tTest Accuracy: 98.60759493670886\n",
            "Round: 41... \tAverage Train Loss: 0.021... \tTest Loss: 0.048840191319212314... \tTest Accuracy: 98.86075949367088\n",
            "Round: 42... \tAverage Train Loss: 0.019... \tTest Loss: 0.04654996553510427... \tTest Accuracy: 99.24050632911393\n",
            "Round: 43... \tAverage Train Loss: 0.024... \tTest Loss: 0.04449175819680095... \tTest Accuracy: 98.9873417721519\n",
            "Round: 44... \tAverage Train Loss: 0.023... \tTest Loss: 0.04705925337187946... \tTest Accuracy: 98.86075949367088\n",
            "Round: 45... \tAverage Train Loss: 0.02... \tTest Loss: 0.047525948677212... \tTest Accuracy: 98.9873417721519\n",
            "Round: 46... \tAverage Train Loss: 0.017... \tTest Loss: 0.041920296247303486... \tTest Accuracy: 99.11392405063292\n",
            "Round: 47... \tAverage Train Loss: 0.018... \tTest Loss: 0.044145425032265484... \tTest Accuracy: 98.9873417721519\n",
            "Round: 48... \tAverage Train Loss: 0.015... \tTest Loss: 0.04095081373974681... \tTest Accuracy: 98.9873417721519\n",
            "Round: 49... \tAverage Train Loss: 0.018... \tTest Loss: 0.04214821873176843... \tTest Accuracy: 99.11392405063292\n",
            "Round: 50... \tAverage Train Loss: 0.019... \tTest Loss: 0.0407083189163357... \tTest Accuracy: 98.86075949367088\n"
          ],
          "name": "stdout"
        },
        {
          "output_type": "display_data",
          "data": {
            "image/png": "[encoded data removed]",
            "text/plain": [
              "<Figure size 432x288 with 1 Axes>"
            ]
          },
          "metadata": {
            "tags": [],
            "needs_background": "light"
          }
        },
        {
          "output_type": "display_data",
          "data": {
            "image/png": "[encoded data removed]",
            "text/plain": [
              "<Figure size 432x288 with 1 Axes>"
            ]
          },
          "metadata": {
            "tags": [],
            "needs_background": "light"
          }
        },
        {
          "output_type": "display_data",
          "data": {
            "image/png": "[encoded data removed]",
            "text/plain": [
              "<Figure size 432x288 with 1 Axes>"
            ]
          },
          "metadata": {
            "tags": [],
            "needs_background": "light"
          }
        },
        {
          "output_type": "stream",
          "text": [
            "Training Done!\n",
            "Total time taken to Train: 3231.292068719864\n",
            "\n",
            "\n"
          ],
          "name": "stdout"
        }
      ]
    },
    {
      "cell_type": "markdown",
      "metadata": {
        "id": "4C68J-Kk14dB"
      },
      "source": [
        "### Test"
      ]
    },
    {
      "cell_type": "code",
      "metadata": {
        "id": "_yQ9GiAZ15jE",
        "colab": {
          "base_uri": "https://localhost:8080/"
        },
        "outputId": "90650bc9-bacd-4433-e689-00b547cc4e18"
      },
      "source": [
        "criterion = nn.CrossEntropyLoss()\n",
        "acc, loss = testing(mnist_cnn_non_iid_trained, mnist_data_test, 128, criterion, num_classes, classes_test, True)"
      ],
      "execution_count": 25,
      "outputs": [
        {
          "output_type": "stream",
          "text": [
            "Test Loss: 0.040708\n",
            "\n",
            "Test Accuracy of     0: 98% (75/76)\n",
            "Test Accuracy of     1: 98% (89/90)\n",
            "Test Accuracy of     2: 98% (90/91)\n",
            "Test Accuracy of     3: 97% (71/73)\n",
            "Test Accuracy of     4: 100% (89/89)\n",
            "Test Accuracy of     5: 98% (67/68)\n",
            "Test Accuracy of     6: 98% (61/62)\n",
            "Test Accuracy of     7: 98% (80/81)\n",
            "Test Accuracy of     8: 98% (76/77)\n",
            "Test Accuracy of     9: 100% (83/83)\n",
            "\n",
            "Final Test  Accuracy: 98.861 (781.0/790.0)\n"
          ],
          "name": "stdout"
        }
      ]
    },
    {
      "cell_type": "code",
      "metadata": {
        "id": "dxMcxgLhLvX-"
      },
      "source": [
        "hyperparams = {'rounds': rounds,\n",
        "               'C': C,\n",
        "               'K': K,\n",
        "               'E': E,\n",
        "               'batch_size': batch_size,\n",
        "               'lr': lr,\n",
        "               'mu': mu,\n",
        "               'percentage': percentage,\n",
        "               'target_test_accuracy': target_test_accuracy,\n",
        "               }\n",
        "\n",
        "log_dict['MNIST CNN on Non IID'] = {'train_loss': train_loss_multiple_runs, \n",
        "                                'test_loss': test_loss_multiple_runs, \n",
        "                                'test_accuracy': test_accuracy_multiple_runs,\n",
        "                                'hyperparams': hyperparams,\n",
        "                                }"
      ],
      "execution_count": 26,
      "outputs": []
    },
    {
      "cell_type": "markdown",
      "metadata": {
        "id": "z_jifdzniuhm"
      },
      "source": [
        "## MNIST MLP on IID"
      ]
    },
    {
      "cell_type": "markdown",
      "metadata": {
        "id": "uh-te0Od2XGO"
      },
      "source": [
        "### Train"
      ]
    },
    {
      "cell_type": "code",
      "metadata": {
        "id": "UmpWmKOQixVV",
        "colab": {
          "base_uri": "https://localhost:8080/",
          "height": 1000
        },
        "outputId": "0a5657df-4cef-4c1e-ff85-2bb645bd9b55"
      },
      "source": [
        "train_loss_multiple_runs = [None] * NUM_REPEAT\n",
        "test_accuracy_multiple_runs = [None] * NUM_REPEAT\n",
        "test_loss_multiple_runs = [None] * NUM_REPEAT\n",
        "\n",
        "for exp_num in range(NUM_REPEAT):\n",
        "  print(\"Experiment Run Number: \", exp_num)\n",
        "\n",
        "  # number of training rounds\n",
        "  rounds = 50\n",
        "  # client fraction\n",
        "  C = 0.3\n",
        "  # number of clients\n",
        "  K = 100\n",
        "  # number of training passes on local dataset for each round\n",
        "  E = 5\n",
        "  # batch size\n",
        "  batch_size = 10\n",
        "  # learning Rate\n",
        "  lr = 0.05\n",
        "  # proximal term constant\n",
        "  mu = 0.01\n",
        "  # percentage of clients to have fewer than E epochs\n",
        "  percentage = 50\n",
        "  # target_test_accuracy\n",
        "  target_test_accuracy=94.0\n",
        "  # dict containing different type of data partition\n",
        "  data_dict = iid_partition(mnist_data_train, 100)\n",
        "  # load model\n",
        "  mnist_mlp = MNIST_2NN()\n",
        "\n",
        "  if torch.cuda.is_available():\n",
        "    mnist_mlp.cuda()\n",
        "\n",
        "  mnist_mlp_iid_trained, train_loss, test_accuracy, test_loss = training(mnist_mlp, rounds, batch_size, lr, mnist_data_train, mnist_data_test, data_dict, C, K, E, mu, percentage, \"MNIST MLP on IID Dataset\", \"orange\", target_test_accuracy)\n",
        "  \n",
        "  train_loss_multiple_runs[exp_num] = train_loss\n",
        "  test_accuracy_multiple_runs[exp_num] = test_accuracy\n",
        "  test_loss_multiple_runs[exp_num] = test_loss"
      ],
      "execution_count": 27,
      "outputs": [
        {
          "output_type": "stream",
          "text": [
            "Experiment Run Number:  0\n",
            "System heterogeneity set to 50% stragglers.\n",
            "\n",
            "Picking 30 random clients per round.\n",
            "\n",
            "Round: 1... \tAverage Train Loss: 1.225... \tTest Loss: 0.3777488114595413... \tTest Accuracy: 89.62025316455696\n",
            "Round: 2... \tAverage Train Loss: 0.311... \tTest Loss: 0.2600337513118982... \tTest Accuracy: 94.0506329113924\n",
            "Round: 3... \tAverage Train Loss: 0.23... \tTest Loss: 0.22052291072607041... \tTest Accuracy: 94.30379746835443\n",
            "Round: 4... \tAverage Train Loss: 0.175... \tTest Loss: 0.19899342161864042... \tTest Accuracy: 94.43037974683544\n",
            "Round: 5... \tAverage Train Loss: 0.167... \tTest Loss: 0.18152517988532782... \tTest Accuracy: 94.68354430379746\n",
            "Round: 6... \tAverage Train Loss: 0.155... \tTest Loss: 0.1646440198622644... \tTest Accuracy: 95.31645569620254\n",
            "Round: 7... \tAverage Train Loss: 0.129... \tTest Loss: 0.15533309479430318... \tTest Accuracy: 95.56962025316456\n",
            "Round: 8... \tAverage Train Loss: 0.119... \tTest Loss: 0.1449660497702658... \tTest Accuracy: 96.07594936708861\n",
            "Round: 9... \tAverage Train Loss: 0.106... \tTest Loss: 0.13943768349774183... \tTest Accuracy: 96.20253164556962\n",
            "Round: 10... \tAverage Train Loss: 0.11... \tTest Loss: 0.1337206384409219... \tTest Accuracy: 96.07594936708861\n",
            "Round: 11... \tAverage Train Loss: 0.108... \tTest Loss: 0.12762366866022348... \tTest Accuracy: 96.07594936708861\n",
            "Round: 12... \tAverage Train Loss: 0.094... \tTest Loss: 0.12218832527250051... \tTest Accuracy: 96.07594936708861\n",
            "Round: 13... \tAverage Train Loss: 0.089... \tTest Loss: 0.11751270975209772... \tTest Accuracy: 96.20253164556962\n",
            "Round: 14... \tAverage Train Loss: 0.084... \tTest Loss: 0.11423796976599843... \tTest Accuracy: 96.07594936708861\n",
            "Round: 15... \tAverage Train Loss: 0.085... \tTest Loss: 0.11053770758211613... \tTest Accuracy: 96.07594936708861\n",
            "Round: 16... \tAverage Train Loss: 0.073... \tTest Loss: 0.10903954467922448... \tTest Accuracy: 96.20253164556962\n",
            "Round: 17... \tAverage Train Loss: 0.081... \tTest Loss: 0.10463809689674526... \tTest Accuracy: 96.07594936708861\n",
            "Round: 18... \tAverage Train Loss: 0.074... \tTest Loss: 0.1040007495123893... \tTest Accuracy: 96.58227848101266\n",
            "Round: 19... \tAverage Train Loss: 0.067... \tTest Loss: 0.10169376845248043... \tTest Accuracy: 96.58227848101266\n",
            "Round: 20... \tAverage Train Loss: 0.071... \tTest Loss: 0.09943566676173358... \tTest Accuracy: 96.70886075949367\n",
            "Round: 21... \tAverage Train Loss: 0.072... \tTest Loss: 0.09714884114265442... \tTest Accuracy: 96.58227848101266\n",
            "Round: 22... \tAverage Train Loss: 0.06... \tTest Loss: 0.09731183214606717... \tTest Accuracy: 96.58227848101266\n",
            "Round: 23... \tAverage Train Loss: 0.059... \tTest Loss: 0.09522667544586584... \tTest Accuracy: 96.83544303797468\n",
            "Round: 24... \tAverage Train Loss: 0.064... \tTest Loss: 0.09409521588357166... \tTest Accuracy: 97.34177215189874\n",
            "Round: 25... \tAverage Train Loss: 0.052... \tTest Loss: 0.09337015316076577... \tTest Accuracy: 96.9620253164557\n",
            "Round: 26... \tAverage Train Loss: 0.066... \tTest Loss: 0.09159531653029844... \tTest Accuracy: 97.34177215189874\n",
            "Round: 27... \tAverage Train Loss: 0.057... \tTest Loss: 0.0895898303007707... \tTest Accuracy: 97.46835443037975\n",
            "Round: 28... \tAverage Train Loss: 0.058... \tTest Loss: 0.08865828714761884... \tTest Accuracy: 97.0886075949367\n",
            "Round: 29... \tAverage Train Loss: 0.06... \tTest Loss: 0.08802829613927751... \tTest Accuracy: 97.46835443037975\n",
            "Round: 30... \tAverage Train Loss: 0.048... \tTest Loss: 0.0880143336225301... \tTest Accuracy: 97.34177215189874\n",
            "Round: 31... \tAverage Train Loss: 0.058... \tTest Loss: 0.08685721821961924... \tTest Accuracy: 97.59493670886076\n",
            "Round: 32... \tAverage Train Loss: 0.046... \tTest Loss: 0.08716055546379649... \tTest Accuracy: 97.46835443037975\n",
            "Round: 33... \tAverage Train Loss: 0.049... \tTest Loss: 0.08629295752067119... \tTest Accuracy: 97.46835443037975\n",
            "Round: 34... \tAverage Train Loss: 0.052... \tTest Loss: 0.08539439921453595... \tTest Accuracy: 97.59493670886076\n",
            "Round: 35... \tAverage Train Loss: 0.046... \tTest Loss: 0.08528639934537932... \tTest Accuracy: 97.46835443037975\n",
            "Round: 36... \tAverage Train Loss: 0.052... \tTest Loss: 0.08376334983240813... \tTest Accuracy: 97.84810126582279\n",
            "Round: 37... \tAverage Train Loss: 0.044... \tTest Loss: 0.08314400271060876... \tTest Accuracy: 98.10126582278481\n",
            "Round: 38... \tAverage Train Loss: 0.047... \tTest Loss: 0.08207566247833893... \tTest Accuracy: 97.72151898734177\n",
            "Round: 39... \tAverage Train Loss: 0.046... \tTest Loss: 0.08195740524465218... \tTest Accuracy: 97.84810126582279\n",
            "Round: 40... \tAverage Train Loss: 0.038... \tTest Loss: 0.08156975964996964... \tTest Accuracy: 97.72151898734177\n",
            "Round: 41... \tAverage Train Loss: 0.041... \tTest Loss: 0.08037268899325281... \tTest Accuracy: 97.84810126582279\n",
            "Round: 42... \tAverage Train Loss: 0.042... \tTest Loss: 0.08048042158575262... \tTest Accuracy: 97.72151898734177\n",
            "Round: 43... \tAverage Train Loss: 0.037... \tTest Loss: 0.07916791937572416... \tTest Accuracy: 98.10126582278481\n",
            "Round: 44... \tAverage Train Loss: 0.04... \tTest Loss: 0.08039244241635315... \tTest Accuracy: 97.84810126582279\n",
            "Round: 45... \tAverage Train Loss: 0.036... \tTest Loss: 0.08016489002755843... \tTest Accuracy: 98.10126582278481\n",
            "Round: 46... \tAverage Train Loss: 0.048... \tTest Loss: 0.0795265178134665... \tTest Accuracy: 98.10126582278481\n",
            "Round: 47... \tAverage Train Loss: 0.037... \tTest Loss: 0.0782938592430437... \tTest Accuracy: 98.35443037974683\n",
            "Round: 48... \tAverage Train Loss: 0.043... \tTest Loss: 0.07817189847917762... \tTest Accuracy: 97.9746835443038\n",
            "Round: 49... \tAverage Train Loss: 0.035... \tTest Loss: 0.07771779229007661... \tTest Accuracy: 98.10126582278481\n",
            "Round: 50... \tAverage Train Loss: 0.04... \tTest Loss: 0.07639354888179806... \tTest Accuracy: 98.48101265822785\n"
          ],
          "name": "stdout"
        },
        {
          "output_type": "display_data",
          "data": {
            "image/png": "[encoded data removed]",
            "text/plain": [
              "<Figure size 432x288 with 1 Axes>"
            ]
          },
          "metadata": {
            "tags": [],
            "needs_background": "light"
          }
        },
        {
          "output_type": "display_data",
          "data": {
            "image/png": "[encoded data removed]",
            "text/plain": [
              "<Figure size 432x288 with 1 Axes>"
            ]
          },
          "metadata": {
            "tags": [],
            "needs_background": "light"
          }
        },
        {
          "output_type": "display_data",
          "data": {
            "image/png": "[encoded data removed]",
            "text/plain": [
              "<Figure size 432x288 with 1 Axes>"
            ]
          },
          "metadata": {
            "tags": [],
            "needs_background": "light"
          }
        },
        {
          "output_type": "stream",
          "text": [
            "Training Done!\n",
            "Total time taken to Train: 1880.7498681545258\n",
            "\n",
            "\n"
          ],
          "name": "stdout"
        }
      ]
    },
    {
      "cell_type": "markdown",
      "metadata": {
        "id": "aTBsL3-72PPd"
      },
      "source": [
        "### Test"
      ]
    },
    {
      "cell_type": "code",
      "metadata": {
        "id": "a9G4j5L62OrS",
        "colab": {
          "base_uri": "https://localhost:8080/"
        },
        "outputId": "c316edc2-db80-4968-d1bf-8cb68fd56191"
      },
      "source": [
        "criterion = nn.CrossEntropyLoss()\n",
        "acc, loss = testing(mnist_mlp_iid_trained, mnist_data_test, 128, criterion, num_classes, classes_test, True)"
      ],
      "execution_count": 28,
      "outputs": [
        {
          "output_type": "stream",
          "text": [
            "Test Loss: 0.076394\n",
            "\n",
            "Test Accuracy of     0: 98% (75/76)\n",
            "Test Accuracy of     1: 97% (88/90)\n",
            "Test Accuracy of     2: 100% (91/91)\n",
            "Test Accuracy of     3: 98% (72/73)\n",
            "Test Accuracy of     4: 98% (88/89)\n",
            "Test Accuracy of     5: 97% (66/68)\n",
            "Test Accuracy of     6: 98% (61/62)\n",
            "Test Accuracy of     7: 97% (79/81)\n",
            "Test Accuracy of     8: 100% (77/77)\n",
            "Test Accuracy of     9: 97% (81/83)\n",
            "\n",
            "Final Test  Accuracy: 98.481 (778.0/790.0)\n"
          ],
          "name": "stdout"
        }
      ]
    },
    {
      "cell_type": "code",
      "metadata": {
        "id": "fWCdJFRCL_f2"
      },
      "source": [
        "hyperparams = {'rounds': rounds,\n",
        "               'C': C,\n",
        "               'K': K,\n",
        "               'E': E,\n",
        "               'batch_size': batch_size,\n",
        "               'lr': lr,\n",
        "               'mu': mu,\n",
        "               'percentage': percentage,\n",
        "               'target_test_accuracy': target_test_accuracy,\n",
        "               }\n",
        "\n",
        "log_dict['MNIST MLP on IID'] = {'train_loss': train_loss_multiple_runs, \n",
        "                                'test_loss': test_loss_multiple_runs, \n",
        "                                'test_accuracy': test_accuracy_multiple_runs,\n",
        "                                'hyperparams': hyperparams,\n",
        "                                }"
      ],
      "execution_count": 29,
      "outputs": []
    },
    {
      "cell_type": "markdown",
      "metadata": {
        "id": "J8jzEyO0iywz"
      },
      "source": [
        "## MNIST MLP on Non IID"
      ]
    },
    {
      "cell_type": "markdown",
      "metadata": {
        "id": "pJFepr3y2bF-"
      },
      "source": [
        "### Train"
      ]
    },
    {
      "cell_type": "code",
      "metadata": {
        "id": "EBKO44Hgi1Uh",
        "colab": {
          "base_uri": "https://localhost:8080/",
          "height": 1000
        },
        "outputId": "3c362b4f-4268-4318-c2c3-2b821eb5ba03"
      },
      "source": [
        "train_loss_multiple_runs = [None] * NUM_REPEAT\n",
        "test_accuracy_multiple_runs = [None] * NUM_REPEAT\n",
        "test_loss_multiple_runs = [None] * NUM_REPEAT\n",
        "\n",
        "for exp_num in range(NUM_REPEAT):\n",
        "  print(\"Experiment Run Number: \", exp_num)\n",
        "  \n",
        "  # number of training rounds\n",
        "  rounds = 50\n",
        "  # client fraction\n",
        "  C = 0.3\n",
        "  # number of clients\n",
        "  K = 100\n",
        "  # number of training passes on local dataset for each roung\n",
        "  E = 5\n",
        "  # batch size\n",
        "  batch_size = 10\n",
        "  # learning Rate\n",
        "  lr=0.05\n",
        "  # proximal term constant\n",
        "  mu = 0.01\n",
        "  # percentage of clients to have fewer than E epochs\n",
        "  percentage = 50\n",
        "  # target_test_accuracy\n",
        "  target_test_accuracy=94.0\n",
        "  # dict containing different type of data partition\n",
        "  data_dict = non_iid_partition(mnist_data_train, 100, 200, 300, 2)\n",
        "  # load model\n",
        "  mnist_mlp = MNIST_2NN()\n",
        "\n",
        "  if torch.cuda.is_available():\n",
        "    mnist_mlp.cuda()\n",
        "\n",
        "  mnist_mlp_non_iid_trained, train_loss, test_accuracy, test_loss = training(mnist_mlp, rounds, batch_size, lr, mnist_data_train, mnist_data_test, data_dict, C, K, E, mu, percentage, \"MNIST MLP on Non-IID Dataset\", \"green\", target_test_accuracy)\n",
        "\n",
        "  train_loss_multiple_runs[exp_num] = train_loss\n",
        "  test_accuracy_multiple_runs[exp_num] = test_accuracy\n",
        "  test_loss_multiple_runs[exp_num] = test_loss"
      ],
      "execution_count": 30,
      "outputs": [
        {
          "output_type": "stream",
          "text": [
            "Experiment Run Number:  0\n",
            "System heterogeneity set to 50% stragglers.\n",
            "\n",
            "Picking 30 random clients per round.\n",
            "\n",
            "Round: 1... \tAverage Train Loss: 0.182... \tTest Loss: 3.4429881271362306... \tTest Accuracy: 30.126582278481013\n",
            "Round: 2... \tAverage Train Loss: 0.124... \tTest Loss: 1.7554676628112793... \tTest Accuracy: 74.0506329113924\n",
            "Round: 3... \tAverage Train Loss: 0.081... \tTest Loss: 1.0236889791488648... \tTest Accuracy: 77.21518987341773\n",
            "Round: 4... \tAverage Train Loss: 0.077... \tTest Loss: 0.7399276345252991... \tTest Accuracy: 80.63291139240506\n",
            "Round: 5... \tAverage Train Loss: 0.06... \tTest Loss: 0.6132731339931488... \tTest Accuracy: 83.67088607594937\n",
            "Round: 6... \tAverage Train Loss: 0.054... \tTest Loss: 0.5179018081188201... \tTest Accuracy: 85.69620253164557\n",
            "Round: 7... \tAverage Train Loss: 0.052... \tTest Loss: 0.41909310464859006... \tTest Accuracy: 89.11392405063292\n",
            "Round: 8... \tAverage Train Loss: 0.053... \tTest Loss: 0.38232488288879396... \tTest Accuracy: 90.75949367088607\n",
            "Round: 9... \tAverage Train Loss: 0.045... \tTest Loss: 0.3566735936164856... \tTest Accuracy: 89.87341772151899\n",
            "Round: 10... \tAverage Train Loss: 0.043... \tTest Loss: 0.35469099719524383... \tTest Accuracy: 90.25316455696202\n",
            "Round: 11... \tAverage Train Loss: 0.044... \tTest Loss: 0.31170928716659546... \tTest Accuracy: 91.64556962025317\n",
            "Round: 12... \tAverage Train Loss: 0.039... \tTest Loss: 0.3113716721534729... \tTest Accuracy: 91.0126582278481\n",
            "Round: 13... \tAverage Train Loss: 0.045... \tTest Loss: 0.29614781901836396... \tTest Accuracy: 91.77215189873418\n",
            "Round: 14... \tAverage Train Loss: 0.037... \tTest Loss: 0.2982711993455887... \tTest Accuracy: 91.51898734177215\n",
            "Round: 15... \tAverage Train Loss: 0.038... \tTest Loss: 0.30688522453308104... \tTest Accuracy: 91.77215189873418\n",
            "Round: 16... \tAverage Train Loss: 0.041... \tTest Loss: 0.2639719960689545... \tTest Accuracy: 93.41772151898734\n",
            "Round: 17... \tAverage Train Loss: 0.036... \tTest Loss: 0.2610010914325714... \tTest Accuracy: 92.78481012658227\n",
            "Round: 18... \tAverage Train Loss: 0.04... \tTest Loss: 0.24746848993301393... \tTest Accuracy: 93.79746835443038\n",
            "Round: 19... \tAverage Train Loss: 0.033... \tTest Loss: 0.25011239842176436... \tTest Accuracy: 92.9113924050633\n",
            "Round: 20... \tAverage Train Loss: 0.031... \tTest Loss: 0.24022143932580947... \tTest Accuracy: 93.79746835443038\n",
            "Round: 21... \tAverage Train Loss: 0.033... \tTest Loss: 0.24354837468862534... \tTest Accuracy: 93.29113924050633\n",
            "Round: 22... \tAverage Train Loss: 0.038... \tTest Loss: 0.22192037591934205... \tTest Accuracy: 93.92405063291139\n",
            "Round: 23... \tAverage Train Loss: 0.036... \tTest Loss: 0.22374867186546327... \tTest Accuracy: 93.41772151898734\n",
            "Round: 24... \tAverage Train Loss: 0.024... \tTest Loss: 0.21190769280195237... \tTest Accuracy: 93.92405063291139\n",
            "Round: 25... \tAverage Train Loss: 0.03... \tTest Loss: 0.21006072579622267... \tTest Accuracy: 94.17721518987342\n",
            "Round: 26... \tAverage Train Loss: 0.029... \tTest Loss: 0.20480126861333847... \tTest Accuracy: 93.92405063291139\n",
            "Round: 27... \tAverage Train Loss: 0.027... \tTest Loss: 0.20572501499652862... \tTest Accuracy: 93.41772151898734\n",
            "Round: 28... \tAverage Train Loss: 0.029... \tTest Loss: 0.19308370205163955... \tTest Accuracy: 94.81012658227849\n",
            "Round: 29... \tAverage Train Loss: 0.026... \tTest Loss: 0.19956470044851304... \tTest Accuracy: 94.68354430379746\n",
            "Round: 30... \tAverage Train Loss: 0.029... \tTest Loss: 0.21983985920548438... \tTest Accuracy: 93.67088607594937\n",
            "Round: 31... \tAverage Train Loss: 0.029... \tTest Loss: 0.19509273804426194... \tTest Accuracy: 94.43037974683544\n",
            "Round: 32... \tAverage Train Loss: 0.026... \tTest Loss: 0.19702752705812454... \tTest Accuracy: 94.43037974683544\n",
            "Round: 33... \tAverage Train Loss: 0.032... \tTest Loss: 0.1907625880718231... \tTest Accuracy: 95.0632911392405\n",
            "Round: 34... \tAverage Train Loss: 0.034... \tTest Loss: 0.18289959520101548... \tTest Accuracy: 95.44303797468355\n",
            "Round: 35... \tAverage Train Loss: 0.021... \tTest Loss: 0.17427581725120544... \tTest Accuracy: 95.69620253164557\n",
            "Round: 36... \tAverage Train Loss: 0.03... \tTest Loss: 0.17614415266513825... \tTest Accuracy: 95.18987341772151\n",
            "Round: 37... \tAverage Train Loss: 0.028... \tTest Loss: 0.17209345158338546... \tTest Accuracy: 95.31645569620254\n",
            "Round: 38... \tAverage Train Loss: 0.035... \tTest Loss: 0.17912159595489502... \tTest Accuracy: 95.56962025316456\n",
            "Round: 39... \tAverage Train Loss: 0.019... \tTest Loss: 0.16387005477547645... \tTest Accuracy: 95.9493670886076\n",
            "Round: 40... \tAverage Train Loss: 0.026... \tTest Loss: 0.1655006892502308... \tTest Accuracy: 95.69620253164557\n",
            "Round: 41... \tAverage Train Loss: 0.019... \tTest Loss: 0.1606121812403202... \tTest Accuracy: 95.69620253164557\n",
            "Round: 42... \tAverage Train Loss: 0.024... \tTest Loss: 0.17670655871629715... \tTest Accuracy: 95.0632911392405\n",
            "Round: 43... \tAverage Train Loss: 0.023... \tTest Loss: 0.15807508248090743... \tTest Accuracy: 95.9493670886076\n",
            "Round: 44... \tAverage Train Loss: 0.023... \tTest Loss: 0.15917117057442665... \tTest Accuracy: 95.69620253164557\n",
            "Round: 45... \tAverage Train Loss: 0.027... \tTest Loss: 0.17307372279763222... \tTest Accuracy: 94.68354430379746\n",
            "Round: 46... \tAverage Train Loss: 0.021... \tTest Loss: 0.16026144525408745... \tTest Accuracy: 95.44303797468355\n",
            "Round: 47... \tAverage Train Loss: 0.021... \tTest Loss: 0.1471343809813261... \tTest Accuracy: 96.20253164556962\n",
            "Round: 48... \tAverage Train Loss: 0.017... \tTest Loss: 0.1504118695616722... \tTest Accuracy: 96.32911392405063\n",
            "Round: 49... \tAverage Train Loss: 0.022... \tTest Loss: 0.1466474619090557... \tTest Accuracy: 96.32911392405063\n",
            "Round: 50... \tAverage Train Loss: 0.019... \tTest Loss: 0.15508226154446603... \tTest Accuracy: 96.45569620253164\n"
          ],
          "name": "stdout"
        },
        {
          "output_type": "display_data",
          "data": {
            "image/png": "[encoded data removed]",
            "text/plain": [
              "<Figure size 432x288 with 1 Axes>"
            ]
          },
          "metadata": {
            "tags": [],
            "needs_background": "light"
          }
        },
        {
          "output_type": "display_data",
          "data": {
            "image/png": "[encoded data removed]",
            "text/plain": [
              "<Figure size 432x288 with 1 Axes>"
            ]
          },
          "metadata": {
            "tags": [],
            "needs_background": "light"
          }
        },
        {
          "output_type": "display_data",
          "data": {
            "image/png": "[encoded data removed]",
            "text/plain": [
              "<Figure size 432x288 with 1 Axes>"
            ]
          },
          "metadata": {
            "tags": [],
            "needs_background": "light"
          }
        },
        {
          "output_type": "stream",
          "text": [
            "Training Done!\n",
            "Total time taken to Train: 1885.3616285324097\n",
            "\n",
            "\n"
          ],
          "name": "stdout"
        }
      ]
    },
    {
      "cell_type": "markdown",
      "metadata": {
        "id": "jmuQYPbF2mes"
      },
      "source": [
        "### Test"
      ]
    },
    {
      "cell_type": "code",
      "metadata": {
        "id": "0tKMlJyF2nGN",
        "colab": {
          "base_uri": "https://localhost:8080/"
        },
        "outputId": "21f29f6f-7a28-47fa-abde-2c883e70192a"
      },
      "source": [
        "criterion = nn.CrossEntropyLoss()\n",
        "acc, loss = testing(mnist_mlp_non_iid_trained, mnist_data_test, 128, criterion, num_classes, classes_test, True)"
      ],
      "execution_count": 31,
      "outputs": [
        {
          "output_type": "stream",
          "text": [
            "Test Loss: 0.155082\n",
            "\n",
            "Test Accuracy of     0: 98% (75/76)\n",
            "Test Accuracy of     1: 96% (87/90)\n",
            "Test Accuracy of     2: 92% (84/91)\n",
            "Test Accuracy of     3: 94% (69/73)\n",
            "Test Accuracy of     4: 95% (85/89)\n",
            "Test Accuracy of     5: 94% (64/68)\n",
            "Test Accuracy of     6: 98% (61/62)\n",
            "Test Accuracy of     7: 98% (80/81)\n",
            "Test Accuracy of     8: 98% (76/77)\n",
            "Test Accuracy of     9: 97% (81/83)\n",
            "\n",
            "Final Test  Accuracy: 96.456 (762.0/790.0)\n"
          ],
          "name": "stdout"
        }
      ]
    },
    {
      "cell_type": "code",
      "metadata": {
        "id": "1W5krYcSMQiu"
      },
      "source": [
        "hyperparams = {'rounds': rounds,\n",
        "               'C': C,\n",
        "               'K': K,\n",
        "               'E': E,\n",
        "               'batch_size': batch_size,\n",
        "               'lr': lr,\n",
        "               'mu': mu,\n",
        "               'percentage': percentage,\n",
        "               'target_test_accuracy': target_test_accuracy,\n",
        "               }\n",
        "\n",
        "log_dict['MNIST MLP on Non IID'] = {'train_loss': train_loss_multiple_runs, \n",
        "                                'test_loss': test_loss_multiple_runs, \n",
        "                                'test_accuracy': test_accuracy_multiple_runs,\n",
        "                                'hyperparams': hyperparams,\n",
        "                                }"
      ],
      "execution_count": 32,
      "outputs": []
    },
    {
      "cell_type": "markdown",
      "metadata": {
        "id": "emS_SaRAP6TZ"
      },
      "source": [
        "## Pickle Log"
      ]
    },
    {
      "cell_type": "code",
      "metadata": {
        "id": "soAN38JoP0c1"
      },
      "source": [
        "import pickle\n",
        " \n",
        "with open(path + 'FedProx_0.3.pkl', 'wb') as file:\n",
        "  pickle.dump(log_dict, file)"
      ],
      "execution_count": 33,
      "outputs": []
    },
    {
      "cell_type": "code",
      "metadata": {
        "id": "2UBy-JswSoCJ",
        "colab": {
          "base_uri": "https://localhost:8080/"
        },
        "outputId": "621e2052-8c10-4ed7-a9f0-0c3e4d4dd6e7"
      },
      "source": [
        "log_dict"
      ],
      "execution_count": 34,
      "outputs": [
        {
          "output_type": "execute_result",
          "data": {
            "text/plain": [
              "{'MNIST CNN on IID': {'hyperparams': {'C': 0.3,\n",
              "   'E': 5,\n",
              "   'K': 100,\n",
              "   'batch_size': 10,\n",
              "   'lr': 0.05,\n",
              "   'mu': 0.01,\n",
              "   'percentage': 50,\n",
              "   'rounds': 50,\n",
              "   'target_test_accuracy': 99.0},\n",
              "  'test_accuracy': [[93.41772151898734,\n",
              "    96.70886075949367,\n",
              "    96.83544303797468,\n",
              "    97.59493670886076,\n",
              "    97.72151898734177,\n",
              "    98.22784810126582,\n",
              "    98.35443037974683,\n",
              "    98.73417721518987,\n",
              "    98.73417721518987,\n",
              "    99.11392405063292,\n",
              "    99.24050632911393,\n",
              "    99.11392405063292,\n",
              "    99.24050632911393,\n",
              "    99.24050632911393,\n",
              "    99.24050632911393,\n",
              "    99.24050632911393,\n",
              "    99.36708860759494,\n",
              "    99.36708860759494,\n",
              "    99.36708860759494,\n",
              "    99.36708860759494,\n",
              "    99.36708860759494,\n",
              "    99.36708860759494,\n",
              "    99.36708860759494,\n",
              "    99.36708860759494,\n",
              "    99.36708860759494,\n",
              "    99.36708860759494,\n",
              "    99.36708860759494,\n",
              "    99.49367088607595,\n",
              "    99.49367088607595,\n",
              "    99.36708860759494,\n",
              "    99.36708860759494,\n",
              "    99.36708860759494,\n",
              "    99.36708860759494,\n",
              "    99.49367088607595,\n",
              "    99.49367088607595,\n",
              "    99.49367088607595,\n",
              "    99.49367088607595,\n",
              "    99.49367088607595,\n",
              "    99.62025316455696,\n",
              "    99.49367088607595,\n",
              "    99.49367088607595,\n",
              "    99.49367088607595,\n",
              "    99.49367088607595,\n",
              "    99.49367088607595,\n",
              "    99.62025316455696,\n",
              "    99.62025316455696,\n",
              "    99.62025316455696,\n",
              "    99.62025316455696,\n",
              "    99.62025316455696,\n",
              "    99.62025316455696]],\n",
              "  'test_loss': [[0.4614148241996765,\n",
              "    0.10835887831151486,\n",
              "    0.08369324769936502,\n",
              "    0.06846045334236696,\n",
              "    0.06171341358828358,\n",
              "    0.053362115450925195,\n",
              "    0.050047161325044,\n",
              "    0.044040473295585254,\n",
              "    0.041069902427855416,\n",
              "    0.039871007075102535,\n",
              "    0.037525780121888966,\n",
              "    0.03677927676178515,\n",
              "    0.03561970307624142,\n",
              "    0.03421998048375535,\n",
              "    0.033127791536552834,\n",
              "    0.033056634239121925,\n",
              "    0.031551634547510185,\n",
              "    0.030177817368967227,\n",
              "    0.03048449767081038,\n",
              "    0.029747944235242903,\n",
              "    0.029168558966662386,\n",
              "    0.029345965966247604,\n",
              "    0.026906342327114544,\n",
              "    0.026702277646263248,\n",
              "    0.026530481847994086,\n",
              "    0.026487922018182872,\n",
              "    0.026323695463317563,\n",
              "    0.025812426363919803,\n",
              "    0.025147972751920315,\n",
              "    0.025135046013070678,\n",
              "    0.02494516384226008,\n",
              "    0.024344551730141394,\n",
              "    0.02372430984685707,\n",
              "    0.02357699455215552,\n",
              "    0.024033027226359263,\n",
              "    0.023751891542803424,\n",
              "    0.023714605109042896,\n",
              "    0.023704187978494155,\n",
              "    0.02340165134367562,\n",
              "    0.023004663657263155,\n",
              "    0.023072388249001232,\n",
              "    0.023048183901567244,\n",
              "    0.0228724449795096,\n",
              "    0.022641942315067717,\n",
              "    0.02173804865085258,\n",
              "    0.021384675947001962,\n",
              "    0.021369785111800592,\n",
              "    0.021772637383602706,\n",
              "    0.02233932503877768,\n",
              "    0.022292711571539985]],\n",
              "  'train_loss': [[0.8005817916390174,\n",
              "    0.25095213799475247,\n",
              "    0.14152693767502422,\n",
              "    0.12351570864328122,\n",
              "    0.0932607117143645,\n",
              "    0.09268328632271207,\n",
              "    0.0834163586509348,\n",
              "    0.07122718258696809,\n",
              "    0.06927130026962412,\n",
              "    0.05850352396011392,\n",
              "    0.06238960552033708,\n",
              "    0.06254628277624777,\n",
              "    0.053794059306894924,\n",
              "    0.05426113807792201,\n",
              "    0.04982473271532934,\n",
              "    0.04466485919416021,\n",
              "    0.048253233613592836,\n",
              "    0.048039238933652154,\n",
              "    0.03892684646088051,\n",
              "    0.03906550665307885,\n",
              "    0.04240109792458762,\n",
              "    0.04562572072593057,\n",
              "    0.038281478888519266,\n",
              "    0.04025399307763975,\n",
              "    0.03265349948937734,\n",
              "    0.034955595536629844,\n",
              "    0.03931754204311257,\n",
              "    0.0342895293210379,\n",
              "    0.029362920091352777,\n",
              "    0.0328761807900521,\n",
              "    0.02803644432257217,\n",
              "    0.03710184757305142,\n",
              "    0.0269236363310502,\n",
              "    0.029931940199592905,\n",
              "    0.02852612260164086,\n",
              "    0.028105556199539725,\n",
              "    0.025958029585730198,\n",
              "    0.029173768723844806,\n",
              "    0.029121672420196906,\n",
              "    0.02680798120076702,\n",
              "    0.02564947923095445,\n",
              "    0.030618697911913184,\n",
              "    0.024573339327062047,\n",
              "    0.025301203974975046,\n",
              "    0.02454652411628573,\n",
              "    0.024598273598136787,\n",
              "    0.025197381412001965,\n",
              "    0.020049071471401347,\n",
              "    0.021102025710599163,\n",
              "    0.023353223131820856]]},\n",
              " 'MNIST CNN on Non IID': {'hyperparams': {'C': 0.3,\n",
              "   'E': 5,\n",
              "   'K': 100,\n",
              "   'batch_size': 10,\n",
              "   'lr': 0.05,\n",
              "   'mu': 0.01,\n",
              "   'percentage': 50,\n",
              "   'rounds': 50,\n",
              "   'target_test_accuracy': 99.0},\n",
              "  'test_accuracy': [[37.08860759493671,\n",
              "    66.70886075949367,\n",
              "    77.46835443037975,\n",
              "    83.41772151898734,\n",
              "    91.39240506329114,\n",
              "    92.65822784810126,\n",
              "    94.55696202531645,\n",
              "    95.18987341772151,\n",
              "    94.43037974683544,\n",
              "    94.0506329113924,\n",
              "    94.9367088607595,\n",
              "    96.32911392405063,\n",
              "    95.9493670886076,\n",
              "    96.58227848101266,\n",
              "    96.32911392405063,\n",
              "    96.45569620253164,\n",
              "    97.34177215189874,\n",
              "    97.72151898734177,\n",
              "    97.46835443037975,\n",
              "    97.59493670886076,\n",
              "    97.34177215189874,\n",
              "    97.46835443037975,\n",
              "    98.10126582278481,\n",
              "    97.84810126582279,\n",
              "    98.35443037974683,\n",
              "    98.10126582278481,\n",
              "    98.48101265822785,\n",
              "    98.86075949367088,\n",
              "    98.35443037974683,\n",
              "    98.86075949367088,\n",
              "    98.86075949367088,\n",
              "    98.86075949367088,\n",
              "    99.11392405063292,\n",
              "    99.24050632911393,\n",
              "    98.86075949367088,\n",
              "    98.35443037974683,\n",
              "    98.9873417721519,\n",
              "    98.73417721518987,\n",
              "    99.11392405063292,\n",
              "    98.60759493670886,\n",
              "    98.86075949367088,\n",
              "    99.24050632911393,\n",
              "    98.9873417721519,\n",
              "    98.86075949367088,\n",
              "    98.9873417721519,\n",
              "    99.11392405063292,\n",
              "    98.9873417721519,\n",
              "    98.9873417721519,\n",
              "    99.11392405063292,\n",
              "    98.86075949367088]],\n",
              "  'test_loss': [[2.245468831253052,\n",
              "    1.814681000328064,\n",
              "    1.1615619646072388,\n",
              "    0.6787096236228943,\n",
              "    0.4988177677154541,\n",
              "    0.3576599153757095,\n",
              "    0.2847545941829681,\n",
              "    0.22469844360351562,\n",
              "    0.2169097255587578,\n",
              "    0.20058654156923295,\n",
              "    0.17879178750514985,\n",
              "    0.14922727253437043,\n",
              "    0.1565853355050087,\n",
              "    0.13864442843198777,\n",
              "    0.11994733815193176,\n",
              "    0.1205027420759201,\n",
              "    0.09939818258285522,\n",
              "    0.09092801798731089,\n",
              "    0.09496262447535991,\n",
              "    0.087120831592381,\n",
              "    0.08614888459295035,\n",
              "    0.08606377393007278,\n",
              "    0.08180256938189268,\n",
              "    0.07905624971240759,\n",
              "    0.0698788372632116,\n",
              "    0.07112437368407845,\n",
              "    0.06321593100205064,\n",
              "    0.0613450457893312,\n",
              "    0.06555202955454588,\n",
              "    0.05808038912937045,\n",
              "    0.057122003307938575,\n",
              "    0.056102915427088736,\n",
              "    0.05436666249558329,\n",
              "    0.054023430161923174,\n",
              "    0.0530169681712985,\n",
              "    0.055500507790595295,\n",
              "    0.05566838304065168,\n",
              "    0.05408629071712494,\n",
              "    0.048914268003031613,\n",
              "    0.04964434755593538,\n",
              "    0.048840191319212314,\n",
              "    0.04654996553510427,\n",
              "    0.04449175819680095,\n",
              "    0.04705925337187946,\n",
              "    0.047525948677212,\n",
              "    0.041920296247303486,\n",
              "    0.044145425032265484,\n",
              "    0.04095081373974681,\n",
              "    0.04214821873176843,\n",
              "    0.0407083189163357]],\n",
              "  'train_loss': [[0.1937567408613826,\n",
              "    0.1418038342021216,\n",
              "    0.094937615969546,\n",
              "    0.07094034885730664,\n",
              "    0.05721789537383571,\n",
              "    0.05856748161946112,\n",
              "    0.05495667293639768,\n",
              "    0.042401519682370464,\n",
              "    0.04324268432270685,\n",
              "    0.03565678773772108,\n",
              "    0.032485707258939296,\n",
              "    0.03466623081083633,\n",
              "    0.044291345393914654,\n",
              "    0.02995489881324574,\n",
              "    0.03539956861859646,\n",
              "    0.032495719499821364,\n",
              "    0.036305413920378435,\n",
              "    0.03026173915760808,\n",
              "    0.03260559328521075,\n",
              "    0.024591954068621368,\n",
              "    0.023500758687758617,\n",
              "    0.031883505167904155,\n",
              "    0.03585989374137932,\n",
              "    0.029703428634955488,\n",
              "    0.020417837076764377,\n",
              "    0.03388608070730482,\n",
              "    0.025667051324256507,\n",
              "    0.023149531408633472,\n",
              "    0.03041019592343623,\n",
              "    0.019833527810257188,\n",
              "    0.022240062591718956,\n",
              "    0.024212889494842207,\n",
              "    0.020901016670992787,\n",
              "    0.02297334297364836,\n",
              "    0.019323263535767587,\n",
              "    0.01788641612861775,\n",
              "    0.024551630147924667,\n",
              "    0.02108913034472735,\n",
              "    0.017972681920837473,\n",
              "    0.022885316311804304,\n",
              "    0.020571350822473137,\n",
              "    0.01909101298978526,\n",
              "    0.023591976276838168,\n",
              "    0.02267320706471111,\n",
              "    0.020403678853238325,\n",
              "    0.016560334144297043,\n",
              "    0.01753928832077751,\n",
              "    0.015006855052531777,\n",
              "    0.017926977789738747,\n",
              "    0.018702071750474312]]},\n",
              " 'MNIST MLP on IID': {'hyperparams': {'C': 0.3,\n",
              "   'E': 5,\n",
              "   'K': 100,\n",
              "   'batch_size': 10,\n",
              "   'lr': 0.05,\n",
              "   'mu': 0.01,\n",
              "   'percentage': 50,\n",
              "   'rounds': 50,\n",
              "   'target_test_accuracy': 94.0},\n",
              "  'test_accuracy': [[89.62025316455696,\n",
              "    94.0506329113924,\n",
              "    94.30379746835443,\n",
              "    94.43037974683544,\n",
              "    94.68354430379746,\n",
              "    95.31645569620254,\n",
              "    95.56962025316456,\n",
              "    96.07594936708861,\n",
              "    96.20253164556962,\n",
              "    96.07594936708861,\n",
              "    96.07594936708861,\n",
              "    96.07594936708861,\n",
              "    96.20253164556962,\n",
              "    96.07594936708861,\n",
              "    96.07594936708861,\n",
              "    96.20253164556962,\n",
              "    96.07594936708861,\n",
              "    96.58227848101266,\n",
              "    96.58227848101266,\n",
              "    96.70886075949367,\n",
              "    96.58227848101266,\n",
              "    96.58227848101266,\n",
              "    96.83544303797468,\n",
              "    97.34177215189874,\n",
              "    96.9620253164557,\n",
              "    97.34177215189874,\n",
              "    97.46835443037975,\n",
              "    97.0886075949367,\n",
              "    97.46835443037975,\n",
              "    97.34177215189874,\n",
              "    97.59493670886076,\n",
              "    97.46835443037975,\n",
              "    97.46835443037975,\n",
              "    97.59493670886076,\n",
              "    97.46835443037975,\n",
              "    97.84810126582279,\n",
              "    98.10126582278481,\n",
              "    97.72151898734177,\n",
              "    97.84810126582279,\n",
              "    97.72151898734177,\n",
              "    97.84810126582279,\n",
              "    97.72151898734177,\n",
              "    98.10126582278481,\n",
              "    97.84810126582279,\n",
              "    98.10126582278481,\n",
              "    98.10126582278481,\n",
              "    98.35443037974683,\n",
              "    97.9746835443038,\n",
              "    98.10126582278481,\n",
              "    98.48101265822785]],\n",
              "  'test_loss': [[0.3777488114595413,\n",
              "    0.2600337513118982,\n",
              "    0.22052291072607041,\n",
              "    0.19899342161864042,\n",
              "    0.18152517988532782,\n",
              "    0.1646440198622644,\n",
              "    0.15533309479430318,\n",
              "    0.1449660497702658,\n",
              "    0.13943768349774183,\n",
              "    0.1337206384409219,\n",
              "    0.12762366866022348,\n",
              "    0.12218832527250051,\n",
              "    0.11751270975209772,\n",
              "    0.11423796976599843,\n",
              "    0.11053770758211613,\n",
              "    0.10903954467922448,\n",
              "    0.10463809689674526,\n",
              "    0.1040007495123893,\n",
              "    0.10169376845248043,\n",
              "    0.09943566676173358,\n",
              "    0.09714884114265442,\n",
              "    0.09731183214606717,\n",
              "    0.09522667544586584,\n",
              "    0.09409521588357166,\n",
              "    0.09337015316076577,\n",
              "    0.09159531653029844,\n",
              "    0.0895898303007707,\n",
              "    0.08865828714761884,\n",
              "    0.08802829613927751,\n",
              "    0.0880143336225301,\n",
              "    0.08685721821961924,\n",
              "    0.08716055546379649,\n",
              "    0.08629295752067119,\n",
              "    0.08539439921453595,\n",
              "    0.08528639934537932,\n",
              "    0.08376334983240813,\n",
              "    0.08314400271060876,\n",
              "    0.08207566247833893,\n",
              "    0.08195740524465218,\n",
              "    0.08156975964996964,\n",
              "    0.08037268899325281,\n",
              "    0.08048042158575262,\n",
              "    0.07916791937572416,\n",
              "    0.08039244241635315,\n",
              "    0.08016489002755843,\n",
              "    0.0795265178134665,\n",
              "    0.0782938592430437,\n",
              "    0.07817189847917762,\n",
              "    0.07771779229007661,\n",
              "    0.07639354888179806]],\n",
              "  'train_loss': [[1.224990751187938,\n",
              "    0.31106614580057135,\n",
              "    0.22965378866239483,\n",
              "    0.17502753352729555,\n",
              "    0.1665874185467309,\n",
              "    0.15477563925627222,\n",
              "    0.12901112002000018,\n",
              "    0.1187633045303675,\n",
              "    0.10607688350542838,\n",
              "    0.11031339377024549,\n",
              "    0.10842934081680627,\n",
              "    0.09440105519954417,\n",
              "    0.08899035880572746,\n",
              "    0.08401272756221038,\n",
              "    0.08456283845729463,\n",
              "    0.07256940703956664,\n",
              "    0.08105147477372061,\n",
              "    0.07423546144557648,\n",
              "    0.06658173965675222,\n",
              "    0.070704934395591,\n",
              "    0.07150266466164937,\n",
              "    0.06040617464654441,\n",
              "    0.05927190141073638,\n",
              "    0.06359161640206704,\n",
              "    0.05167089341699656,\n",
              "    0.06566985803789618,\n",
              "    0.057479872521583916,\n",
              "    0.05822637947089823,\n",
              "    0.06016609829874668,\n",
              "    0.04813168768914107,\n",
              "    0.057539598038312004,\n",
              "    0.04640631341783814,\n",
              "    0.04905595991873122,\n",
              "    0.0523185207775553,\n",
              "    0.04551277571588583,\n",
              "    0.05193853260186787,\n",
              "    0.04356646856703436,\n",
              "    0.047397902796202596,\n",
              "    0.04586525375268624,\n",
              "    0.03773314614001962,\n",
              "    0.04057423575924408,\n",
              "    0.042432620363816405,\n",
              "    0.03748202862765605,\n",
              "    0.04007653345796205,\n",
              "    0.03630644403669862,\n",
              "    0.04825378245323763,\n",
              "    0.03697758689893737,\n",
              "    0.042946902822764164,\n",
              "    0.0350676666455184,\n",
              "    0.03975713122084286]]},\n",
              " 'MNIST MLP on Non IID': {'hyperparams': {'C': 0.3,\n",
              "   'E': 5,\n",
              "   'K': 100,\n",
              "   'batch_size': 10,\n",
              "   'lr': 0.05,\n",
              "   'mu': 0.01,\n",
              "   'percentage': 50,\n",
              "   'rounds': 50,\n",
              "   'target_test_accuracy': 94.0},\n",
              "  'test_accuracy': [[30.126582278481013,\n",
              "    74.0506329113924,\n",
              "    77.21518987341773,\n",
              "    80.63291139240506,\n",
              "    83.67088607594937,\n",
              "    85.69620253164557,\n",
              "    89.11392405063292,\n",
              "    90.75949367088607,\n",
              "    89.87341772151899,\n",
              "    90.25316455696202,\n",
              "    91.64556962025317,\n",
              "    91.0126582278481,\n",
              "    91.77215189873418,\n",
              "    91.51898734177215,\n",
              "    91.77215189873418,\n",
              "    93.41772151898734,\n",
              "    92.78481012658227,\n",
              "    93.79746835443038,\n",
              "    92.9113924050633,\n",
              "    93.79746835443038,\n",
              "    93.29113924050633,\n",
              "    93.92405063291139,\n",
              "    93.41772151898734,\n",
              "    93.92405063291139,\n",
              "    94.17721518987342,\n",
              "    93.92405063291139,\n",
              "    93.41772151898734,\n",
              "    94.81012658227849,\n",
              "    94.68354430379746,\n",
              "    93.67088607594937,\n",
              "    94.43037974683544,\n",
              "    94.43037974683544,\n",
              "    95.0632911392405,\n",
              "    95.44303797468355,\n",
              "    95.69620253164557,\n",
              "    95.18987341772151,\n",
              "    95.31645569620254,\n",
              "    95.56962025316456,\n",
              "    95.9493670886076,\n",
              "    95.69620253164557,\n",
              "    95.69620253164557,\n",
              "    95.0632911392405,\n",
              "    95.9493670886076,\n",
              "    95.69620253164557,\n",
              "    94.68354430379746,\n",
              "    95.44303797468355,\n",
              "    96.20253164556962,\n",
              "    96.32911392405063,\n",
              "    96.32911392405063,\n",
              "    96.45569620253164]],\n",
              "  'test_loss': [[3.4429881271362306,\n",
              "    1.7554676628112793,\n",
              "    1.0236889791488648,\n",
              "    0.7399276345252991,\n",
              "    0.6132731339931488,\n",
              "    0.5179018081188201,\n",
              "    0.41909310464859006,\n",
              "    0.38232488288879396,\n",
              "    0.3566735936164856,\n",
              "    0.35469099719524383,\n",
              "    0.31170928716659546,\n",
              "    0.3113716721534729,\n",
              "    0.29614781901836396,\n",
              "    0.2982711993455887,\n",
              "    0.30688522453308104,\n",
              "    0.2639719960689545,\n",
              "    0.2610010914325714,\n",
              "    0.24746848993301393,\n",
              "    0.25011239842176436,\n",
              "    0.24022143932580947,\n",
              "    0.24354837468862534,\n",
              "    0.22192037591934205,\n",
              "    0.22374867186546327,\n",
              "    0.21190769280195237,\n",
              "    0.21006072579622267,\n",
              "    0.20480126861333847,\n",
              "    0.20572501499652862,\n",
              "    0.19308370205163955,\n",
              "    0.19956470044851304,\n",
              "    0.21983985920548438,\n",
              "    0.19509273804426194,\n",
              "    0.19702752705812454,\n",
              "    0.1907625880718231,\n",
              "    0.18289959520101548,\n",
              "    0.17427581725120544,\n",
              "    0.17614415266513825,\n",
              "    0.17209345158338546,\n",
              "    0.17912159595489502,\n",
              "    0.16387005477547645,\n",
              "    0.1655006892502308,\n",
              "    0.1606121812403202,\n",
              "    0.17670655871629715,\n",
              "    0.15807508248090743,\n",
              "    0.15917117057442665,\n",
              "    0.17307372279763222,\n",
              "    0.16026144525408745,\n",
              "    0.1471343809813261,\n",
              "    0.1504118695616722,\n",
              "    0.1466474619090557,\n",
              "    0.15508226154446603]],\n",
              "  'train_loss': [[0.18165258331959036,\n",
              "    0.12381061038265385,\n",
              "    0.08132120565361674,\n",
              "    0.07652465835113201,\n",
              "    0.06037037483943817,\n",
              "    0.05385754756015484,\n",
              "    0.05240779279373775,\n",
              "    0.052950207447189056,\n",
              "    0.04521558275381621,\n",
              "    0.043390058274132934,\n",
              "    0.04378353090524777,\n",
              "    0.039116033676175256,\n",
              "    0.045002206974498984,\n",
              "    0.036923997225666735,\n",
              "    0.03841369037695782,\n",
              "    0.04082039646207166,\n",
              "    0.036376978846068525,\n",
              "    0.03977073982311628,\n",
              "    0.03287522870119816,\n",
              "    0.0306166614066029,\n",
              "    0.03277285994362104,\n",
              "    0.038351644065037056,\n",
              "    0.03630701553456796,\n",
              "    0.024170009015347913,\n",
              "    0.029988219527113773,\n",
              "    0.029496430712346748,\n",
              "    0.026770264908705876,\n",
              "    0.028761494297698077,\n",
              "    0.02631944321823539,\n",
              "    0.029415947142123953,\n",
              "    0.029357475541810143,\n",
              "    0.02616817339912868,\n",
              "    0.03195618172531465,\n",
              "    0.03368851006364759,\n",
              "    0.02126905853842187,\n",
              "    0.030402167280204586,\n",
              "    0.02753538676729875,\n",
              "    0.0348659367240767,\n",
              "    0.019200428795933942,\n",
              "    0.026460594203886873,\n",
              "    0.018939416550647438,\n",
              "    0.024377561514041628,\n",
              "    0.02262506574407625,\n",
              "    0.02256094923017642,\n",
              "    0.02661196235384085,\n",
              "    0.020817426275345493,\n",
              "    0.020526837322334932,\n",
              "    0.017044519682654125,\n",
              "    0.022335648562668616,\n",
              "    0.019497252445586057]]}}"
            ]
          },
          "metadata": {
            "tags": []
          },
          "execution_count": 34
        }
      ]
    },
    {
      "cell_type": "code",
      "metadata": {
        "id": "BXa1-CbFo3pX"
      },
      "source": [
        "import pickle\n",
        "\n",
        "with open(path + 'FedProx_0.3.pkl', 'rb') as file:\n",
        "  log_dict = pickle.load(file)"
      ],
      "execution_count": 35,
      "outputs": []
    },
    {
      "cell_type": "code",
      "metadata": {
        "id": "se_04JMaVJPg",
        "colab": {
          "base_uri": "https://localhost:8080/"
        },
        "outputId": "0a06cf3f-6eda-46be-bff6-ff2560b02666"
      },
      "source": [
        "print([test_acc[-1] for test_acc in log_dict['MNIST CNN on IID']['test_accuracy']])"
      ],
      "execution_count": 36,
      "outputs": [
        {
          "output_type": "stream",
          "text": [
            "[99.62025316455696]\n"
          ],
          "name": "stdout"
        }
      ]
    },
    {
      "cell_type": "code",
      "metadata": {
        "id": "5sv0rv-G4Sqa",
        "colab": {
          "base_uri": "https://localhost:8080/"
        },
        "outputId": "862aa583-cb47-4518-bb71-48c1beca9f08"
      },
      "source": [
        "print([test_acc[-1] for test_acc in log_dict['MNIST CNN on Non IID']['test_accuracy']])"
      ],
      "execution_count": 37,
      "outputs": [
        {
          "output_type": "stream",
          "text": [
            "[98.86075949367088]\n"
          ],
          "name": "stdout"
        }
      ]
    },
    {
      "cell_type": "code",
      "metadata": {
        "id": "b2a2_Az-4nal",
        "colab": {
          "base_uri": "https://localhost:8080/"
        },
        "outputId": "2e23907e-b2d9-48d5-8553-ffcfd9622e95"
      },
      "source": [
        "print([test_acc[-1] for test_acc in log_dict['MNIST MLP on IID']['test_accuracy']])"
      ],
      "execution_count": 38,
      "outputs": [
        {
          "output_type": "stream",
          "text": [
            "[98.48101265822785]\n"
          ],
          "name": "stdout"
        }
      ]
    },
    {
      "cell_type": "code",
      "metadata": {
        "id": "YoRqZyvD4p2K",
        "colab": {
          "base_uri": "https://localhost:8080/"
        },
        "outputId": "90ec8ce3-fa5a-43c1-cf60-9bef61a0e2ee"
      },
      "source": [
        "print([test_acc[-1] for test_acc in log_dict['MNIST MLP on Non IID']['test_accuracy']])"
      ],
      "execution_count": 39,
      "outputs": [
        {
          "output_type": "stream",
          "text": [
            "[96.45569620253164]\n"
          ],
          "name": "stdout"
        }
      ]
    },
    {
      "cell_type": "code",
      "metadata": {
        "id": "B87eGKJnAHIh",
        "colab": {
          "base_uri": "https://localhost:8080/"
        },
        "outputId": "d88d94fe-0834-4894-d607-722490904243"
      },
      "source": [
        "output.show()"
      ],
      "execution_count": 40,
      "outputs": [
        {
          "output_type": "stream",
          "text": [
            "Mounted at /content/drive\n"
          ],
          "name": "stdout"
        }
      ]
    }
  ]
}