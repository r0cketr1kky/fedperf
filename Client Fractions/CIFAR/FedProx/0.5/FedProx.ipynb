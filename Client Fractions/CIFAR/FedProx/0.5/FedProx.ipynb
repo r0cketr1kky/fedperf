{
  "nbformat": 4,
  "nbformat_minor": 0,
  "metadata": {
    "accelerator": "GPU",
    "colab": {
      "name": "FedProx.ipynb",
      "provenance": [],
      "collapsed_sections": [],
      "machine_shape": "hm"
    },
    "kernelspec": {
      "name": "python3",
      "display_name": "Python 3"
    },
    "language_info": {
      "name": "python"
    },
    "widgets": {
      "application/vnd.jupyter.widget-state+json": {
        "5a5eceea79144c55a42f3fffffd14a81": {
          "model_module": "@jupyter-widgets/controls",
          "model_name": "HBoxModel",
          "state": {
            "_view_name": "HBoxView",
            "_dom_classes": [],
            "_model_name": "HBoxModel",
            "_view_module": "@jupyter-widgets/controls",
            "_model_module_version": "1.5.0",
            "_view_count": null,
            "_view_module_version": "1.5.0",
            "box_style": "",
            "layout": "IPY_MODEL_ba62d42ebd7a4c25a293a5a7c3df9c9f",
            "_model_module": "@jupyter-widgets/controls",
            "children": [
              "IPY_MODEL_4b8eec6a55cc41b0a951f393e3c21cb6",
              "IPY_MODEL_d70c7aee59e747b08e549151554645f6"
            ]
          }
        },
        "ba62d42ebd7a4c25a293a5a7c3df9c9f": {
          "model_module": "@jupyter-widgets/base",
          "model_name": "LayoutModel",
          "state": {
            "_view_name": "LayoutView",
            "grid_template_rows": null,
            "right": null,
            "justify_content": null,
            "_view_module": "@jupyter-widgets/base",
            "overflow": null,
            "_model_module_version": "1.2.0",
            "_view_count": null,
            "flex_flow": null,
            "width": null,
            "min_width": null,
            "border": null,
            "align_items": null,
            "bottom": null,
            "_model_module": "@jupyter-widgets/base",
            "top": null,
            "grid_column": null,
            "overflow_y": null,
            "overflow_x": null,
            "grid_auto_flow": null,
            "grid_area": null,
            "grid_template_columns": null,
            "flex": null,
            "_model_name": "LayoutModel",
            "justify_items": null,
            "grid_row": null,
            "max_height": null,
            "align_content": null,
            "visibility": null,
            "align_self": null,
            "height": null,
            "min_height": null,
            "padding": null,
            "grid_auto_rows": null,
            "grid_gap": null,
            "max_width": null,
            "order": null,
            "_view_module_version": "1.2.0",
            "grid_template_areas": null,
            "object_position": null,
            "object_fit": null,
            "grid_auto_columns": null,
            "margin": null,
            "display": null,
            "left": null
          }
        },
        "4b8eec6a55cc41b0a951f393e3c21cb6": {
          "model_module": "@jupyter-widgets/controls",
          "model_name": "FloatProgressModel",
          "state": {
            "_view_name": "ProgressView",
            "style": "IPY_MODEL_1096c4bdc48a460db98aa4ca535a4db2",
            "_dom_classes": [],
            "description": "",
            "_model_name": "FloatProgressModel",
            "bar_style": "success",
            "max": 170498071,
            "_view_module": "@jupyter-widgets/controls",
            "_model_module_version": "1.5.0",
            "value": 170498071,
            "_view_count": null,
            "_view_module_version": "1.5.0",
            "orientation": "horizontal",
            "min": 0,
            "description_tooltip": null,
            "_model_module": "@jupyter-widgets/controls",
            "layout": "IPY_MODEL_9b746bef6c3943b5961ca7f217f3dc02"
          }
        },
        "d70c7aee59e747b08e549151554645f6": {
          "model_module": "@jupyter-widgets/controls",
          "model_name": "HTMLModel",
          "state": {
            "_view_name": "HTMLView",
            "style": "IPY_MODEL_79002cb31afe4283996237450f102b7a",
            "_dom_classes": [],
            "description": "",
            "_model_name": "HTMLModel",
            "placeholder": "​",
            "_view_module": "@jupyter-widgets/controls",
            "_model_module_version": "1.5.0",
            "value": " 170499072/? [00:06&lt;00:00, 24539315.04it/s]",
            "_view_count": null,
            "_view_module_version": "1.5.0",
            "description_tooltip": null,
            "_model_module": "@jupyter-widgets/controls",
            "layout": "IPY_MODEL_ee838f14733d4501b8f7147aa703d49c"
          }
        },
        "1096c4bdc48a460db98aa4ca535a4db2": {
          "model_module": "@jupyter-widgets/controls",
          "model_name": "ProgressStyleModel",
          "state": {
            "_view_name": "StyleView",
            "_model_name": "ProgressStyleModel",
            "description_width": "initial",
            "_view_module": "@jupyter-widgets/base",
            "_model_module_version": "1.5.0",
            "_view_count": null,
            "_view_module_version": "1.2.0",
            "bar_color": null,
            "_model_module": "@jupyter-widgets/controls"
          }
        },
        "9b746bef6c3943b5961ca7f217f3dc02": {
          "model_module": "@jupyter-widgets/base",
          "model_name": "LayoutModel",
          "state": {
            "_view_name": "LayoutView",
            "grid_template_rows": null,
            "right": null,
            "justify_content": null,
            "_view_module": "@jupyter-widgets/base",
            "overflow": null,
            "_model_module_version": "1.2.0",
            "_view_count": null,
            "flex_flow": null,
            "width": null,
            "min_width": null,
            "border": null,
            "align_items": null,
            "bottom": null,
            "_model_module": "@jupyter-widgets/base",
            "top": null,
            "grid_column": null,
            "overflow_y": null,
            "overflow_x": null,
            "grid_auto_flow": null,
            "grid_area": null,
            "grid_template_columns": null,
            "flex": null,
            "_model_name": "LayoutModel",
            "justify_items": null,
            "grid_row": null,
            "max_height": null,
            "align_content": null,
            "visibility": null,
            "align_self": null,
            "height": null,
            "min_height": null,
            "padding": null,
            "grid_auto_rows": null,
            "grid_gap": null,
            "max_width": null,
            "order": null,
            "_view_module_version": "1.2.0",
            "grid_template_areas": null,
            "object_position": null,
            "object_fit": null,
            "grid_auto_columns": null,
            "margin": null,
            "display": null,
            "left": null
          }
        },
        "79002cb31afe4283996237450f102b7a": {
          "model_module": "@jupyter-widgets/controls",
          "model_name": "DescriptionStyleModel",
          "state": {
            "_view_name": "StyleView",
            "_model_name": "DescriptionStyleModel",
            "description_width": "",
            "_view_module": "@jupyter-widgets/base",
            "_model_module_version": "1.5.0",
            "_view_count": null,
            "_view_module_version": "1.2.0",
            "_model_module": "@jupyter-widgets/controls"
          }
        },
        "ee838f14733d4501b8f7147aa703d49c": {
          "model_module": "@jupyter-widgets/base",
          "model_name": "LayoutModel",
          "state": {
            "_view_name": "LayoutView",
            "grid_template_rows": null,
            "right": null,
            "justify_content": null,
            "_view_module": "@jupyter-widgets/base",
            "overflow": null,
            "_model_module_version": "1.2.0",
            "_view_count": null,
            "flex_flow": null,
            "width": null,
            "min_width": null,
            "border": null,
            "align_items": null,
            "bottom": null,
            "_model_module": "@jupyter-widgets/base",
            "top": null,
            "grid_column": null,
            "overflow_y": null,
            "overflow_x": null,
            "grid_auto_flow": null,
            "grid_area": null,
            "grid_template_columns": null,
            "flex": null,
            "_model_name": "LayoutModel",
            "justify_items": null,
            "grid_row": null,
            "max_height": null,
            "align_content": null,
            "visibility": null,
            "align_self": null,
            "height": null,
            "min_height": null,
            "padding": null,
            "grid_auto_rows": null,
            "grid_gap": null,
            "max_width": null,
            "order": null,
            "_view_module_version": "1.2.0",
            "grid_template_areas": null,
            "object_position": null,
            "object_fit": null,
            "grid_auto_columns": null,
            "margin": null,
            "display": null,
            "left": null
          }
        }
      }
    }
  },
  "cells": [
    {
      "cell_type": "markdown",
      "metadata": {
        "id": "view-in-github"
      },
      "source": [
        "<a href=\"https://colab.research.google.com/github/tushar-semwal/fedperf/blob/main/Vineeth/FedAvg_CIFAR.ipynb\" target=\"_parent\"><img src=\"https://colab.research.google.com/assets/colab-badge.svg\" alt=\"Open In Colab\"/></a>"
      ]
    },
    {
      "cell_type": "code",
      "metadata": {
        "id": "yKcpjZLrQQJV",
        "colab": {
          "base_uri": "https://localhost:8080/"
        },
        "outputId": "d38304a2-50bb-4b9c-9550-7b6e650d8d4b"
      },
      "source": [
        "%%capture output\n",
        "try:\n",
        "    from google.colab import drive\n",
        "    drive.mount('/content/drive')\n",
        "\n",
        "    import os\n",
        "    path = '/content/drive/MyDrive/Colab Notebooks/OpenMined/'\n",
        "    os.makedirs(path, exist_ok=True)\n",
        "except:\n",
        "    path = './'"
      ],
      "execution_count": 1,
      "outputs": [
        {
          "output_type": "stream",
          "text": [
            "Go to this URL in a browser: https://accounts.google.com/o/oauth2/auth?client_id=947318989803-6bn6qk8qdgf4n4g3pfee6491hc0brc4i.apps.googleusercontent.com&redirect_uri=urn%3aietf%3awg%3aoauth%3a2.0%3aoob&scope=email%20https%3a%2f%2fwww.googleapis.com%2fauth%2fdocs.test%20https%3a%2f%2fwww.googleapis.com%2fauth%2fdrive%20https%3a%2f%2fwww.googleapis.com%2fauth%2fdrive.photos.readonly%20https%3a%2f%2fwww.googleapis.com%2fauth%2fpeopleapi.readonly%20https%3a%2f%2fwww.googleapis.com%2fauth%2fdrive.activity.readonly%20https%3a%2f%2fwww.googleapis.com%2fauth%2fexperimentsandconfigs%20https%3a%2f%2fwww.googleapis.com%2fauth%2fphotos.native&response_type=code\n",
            "\n",
            "Enter your authorization code:\n",
            "4/1AY0e-g4Me2Mkxlhi5GHSuXooXx798NKmetT6KK5Prqkyv4Gj02unnJiKivo\n"
          ],
          "name": "stdout"
        }
      ]
    },
    {
      "cell_type": "markdown",
      "metadata": {
        "id": "-0_nKpfq2h1R"
      },
      "source": [
        "## Imports"
      ]
    },
    {
      "cell_type": "code",
      "metadata": {
        "id": "DLLNM9X2JbQ8",
        "colab": {
          "base_uri": "https://localhost:8080/"
        },
        "outputId": "dbb9e32a-67cd-4c82-afd9-7d98e131e93c"
      },
      "source": [
        "%load_ext tensorboard\n",
        "import os\n",
        "import numpy as np\n",
        "import matplotlib\n",
        "import matplotlib.pyplot as plt\n",
        "import copy\n",
        "import random\n",
        "import time\n",
        "\n",
        "import torch\n",
        "import torch.nn as nn\n",
        "import torch.nn.functional as F\n",
        "\n",
        "from torch.utils.data import Dataset, DataLoader\n",
        "from torch.utils.tensorboard import SummaryWriter\n",
        "from torchvision import transforms, utils, datasets\n",
        "from torchsummary import summary\n",
        "\n",
        "\n",
        "# Check assigned GPU\n",
        "gpu_info = !nvidia-smi\n",
        "gpu_info = '\\n'.join(gpu_info)\n",
        "if gpu_info.find('failed') >= 0:\n",
        "  print('Select the Runtime > \"Change runtime type\" menu to enable a GPU accelerator, ')\n",
        "  print('and then re-execute this cell.')\n",
        "else:\n",
        "  print(gpu_info)\n",
        "\n",
        "# set manual seed for reproducibility\n",
        "seed = 42\n",
        "\n",
        "# general reproducibility\n",
        "random.seed(seed)\n",
        "np.random.seed(seed)\n",
        "torch.manual_seed(seed)\n",
        "\n",
        "# gpu training specific\n",
        "torch.backends.cudnn.deterministic = True\n",
        "torch.backends.cudnn.benchmark = False"
      ],
      "execution_count": 2,
      "outputs": [
        {
          "output_type": "stream",
          "text": [
            "Wed Apr 28 14:22:14 2021       \n",
            "+-----------------------------------------------------------------------------+\n",
            "| NVIDIA-SMI 465.19.01    Driver Version: 460.32.03    CUDA Version: 11.2     |\n",
            "|-------------------------------+----------------------+----------------------+\n",
            "| GPU  Name        Persistence-M| Bus-Id        Disp.A | Volatile Uncorr. ECC |\n",
            "| Fan  Temp  Perf  Pwr:Usage/Cap|         Memory-Usage | GPU-Util  Compute M. |\n",
            "|                               |                      |               MIG M. |\n",
            "|===============================+======================+======================|\n",
            "|   0  Tesla T4            Off  | 00000000:00:04.0 Off |                    0 |\n",
            "| N/A   63C    P8    11W /  70W |      0MiB / 15109MiB |      0%      Default |\n",
            "|                               |                      |                  N/A |\n",
            "+-------------------------------+----------------------+----------------------+\n",
            "                                                                               \n",
            "+-----------------------------------------------------------------------------+\n",
            "| Processes:                                                                  |\n",
            "|  GPU   GI   CI        PID   Type   Process name                  GPU Memory |\n",
            "|        ID   ID                                                   Usage      |\n",
            "|=============================================================================|\n",
            "|  No running processes found                                                 |\n",
            "+-----------------------------------------------------------------------------+\n"
          ],
          "name": "stdout"
        }
      ]
    },
    {
      "cell_type": "markdown",
      "metadata": {
        "id": "NY4eWzGiL6Mj"
      },
      "source": [
        "## Load the CIFAR Dataset"
      ]
    },
    {
      "cell_type": "code",
      "metadata": {
        "id": "Nc-HQXANvV_u"
      },
      "source": [
        "# torch.cuda.set_device('cuda:1')"
      ],
      "execution_count": 3,
      "outputs": []
    },
    {
      "cell_type": "code",
      "metadata": {
        "id": "G649tjTXLL8F",
        "colab": {
          "base_uri": "https://localhost:8080/",
          "height": 138,
          "referenced_widgets": [
            "5a5eceea79144c55a42f3fffffd14a81",
            "ba62d42ebd7a4c25a293a5a7c3df9c9f",
            "4b8eec6a55cc41b0a951f393e3c21cb6",
            "d70c7aee59e747b08e549151554645f6",
            "1096c4bdc48a460db98aa4ca535a4db2",
            "9b746bef6c3943b5961ca7f217f3dc02",
            "79002cb31afe4283996237450f102b7a",
            "ee838f14733d4501b8f7147aa703d49c"
          ]
        },
        "outputId": "4b5142ab-eb44-4694-e92e-232409f15ec3"
      },
      "source": [
        "# create transforms\n",
        "# We will just convert to tensor and normalize since no special transforms are mentioned in the paper\n",
        "transform_train = transforms.Compose([\n",
        "    transforms.RandomCrop(32, padding=4),\n",
        "    transforms.RandomHorizontalFlip(),\n",
        "    transforms.ToTensor(),\n",
        "    transforms.Normalize((0.4914, 0.4822, 0.4465), (0.2023, 0.1994, 0.2010)),\n",
        "])\n",
        "\n",
        "# Normalize the test set same as training set without augmentation\n",
        "transform_test = transforms.Compose([\n",
        "    transforms.ToTensor(),\n",
        "    transforms.Normalize((0.4914, 0.4822, 0.4465), (0.2023, 0.1994, 0.2010)),\n",
        "])\n",
        "\n",
        "cifar_data_train = datasets.CIFAR10('../data/cifar10/', train=True, download=True, transform=transform_train)\n",
        "cifar_data_test = datasets.CIFAR10('../data/cifar10/', train=False, download=True, transform=transform_test)"
      ],
      "execution_count": 4,
      "outputs": [
        {
          "output_type": "stream",
          "text": [
            "Downloading https://www.cs.toronto.edu/~kriz/cifar-10-python.tar.gz to ../data/cifar10/cifar-10-python.tar.gz\n"
          ],
          "name": "stdout"
        },
        {
          "output_type": "display_data",
          "data": {
            "application/vnd.jupyter.widget-view+json": {
              "model_id": "5a5eceea79144c55a42f3fffffd14a81",
              "version_minor": 0,
              "version_major": 2
            },
            "text/plain": [
              "HBox(children=(FloatProgress(value=0.0, max=170498071.0), HTML(value='')))"
            ]
          },
          "metadata": {
            "tags": []
          }
        },
        {
          "output_type": "stream",
          "text": [
            "\n",
            "Extracting ../data/cifar10/cifar-10-python.tar.gz to ../data/cifar10/\n",
            "Files already downloaded and verified\n"
          ],
          "name": "stdout"
        }
      ]
    },
    {
      "cell_type": "code",
      "metadata": {
        "id": "pOtLLX66b1Ad",
        "colab": {
          "base_uri": "https://localhost:8080/"
        },
        "outputId": "f999a768-6421-41b5-ec79-fd75a198911a"
      },
      "source": [
        "classes = np.array(list(cifar_data_train.class_to_idx.values()))\n",
        "classes_test = np.array(list(cifar_data_test.class_to_idx.values()))\n",
        "num_classes = len(classes_test)\n",
        "print(\"Classes: {} \\tType: {}\".format(classes, type(classes)))\n",
        "print(\"Classes Test: {} \\tType: {}\".format(classes_test, type(classes)))\n"
      ],
      "execution_count": 5,
      "outputs": [
        {
          "output_type": "stream",
          "text": [
            "Classes: [0 1 2 3 4 5 6 7 8 9] \tType: <class 'numpy.ndarray'>\n",
            "Classes Test: [0 1 2 3 4 5 6 7 8 9] \tType: <class 'numpy.ndarray'>\n"
          ],
          "name": "stdout"
        }
      ]
    },
    {
      "cell_type": "code",
      "metadata": {
        "id": "wa4TJs-AVJ2O",
        "colab": {
          "base_uri": "https://localhost:8080/"
        },
        "outputId": "f92e166c-0ee4-4481-a80d-34e4a90aaceb"
      },
      "source": [
        "print(\"Image Shape: {}\".format(cifar_data_train.data[0].shape))"
      ],
      "execution_count": 6,
      "outputs": [
        {
          "output_type": "stream",
          "text": [
            "Image Shape: (32, 32, 3)\n"
          ],
          "name": "stdout"
        }
      ]
    },
    {
      "cell_type": "markdown",
      "metadata": {
        "id": "jCOONkg-zV7Y"
      },
      "source": [
        "## Visualize Data"
      ]
    },
    {
      "cell_type": "code",
      "metadata": {
        "id": "R9MK03TZw6Qs"
      },
      "source": [
        "def imshow(img):\n",
        "\t#img = img/2 + 0.5 #unnormalize the image\n",
        "\tplt.imshow(img, cmap='hsv') # convert from tensor to image"
      ],
      "execution_count": 7,
      "outputs": []
    },
    {
      "cell_type": "code",
      "metadata": {
        "id": "gMJ0Kx4Kw-_H"
      },
      "source": [
        "def visualize(dataset):\n",
        "  figure = plt.figure(figsize=(25,4))\n",
        "  for i in range(20):\n",
        "    axis = figure.add_subplot(2, 20/2, i+1, xticks=[], yticks=[])\n",
        "    data = dataset.data[i]\n",
        "    #data = data.numpy()\n",
        "\n",
        "    target = dataset.targets[i]\n",
        "    #target = target.numpy()\n",
        "    imshow(data)\n",
        "    axis.set_title(target)\n"
      ],
      "execution_count": 8,
      "outputs": []
    },
    {
      "cell_type": "code",
      "metadata": {
        "id": "8bPOwKg10Ro7",
        "colab": {
          "base_uri": "https://localhost:8080/",
          "height": 143
        },
        "outputId": "dd119ecc-8159-4526-a7e5-c8bde3f70d19"
      },
      "source": [
        "visualize(cifar_data_train)"
      ],
      "execution_count": 9,
      "outputs": [
        {
          "output_type": "display_data",
          "data": {
            "image/png": "[encoded data removed]",
            "text/plain": [
              "<Figure size 1800x288 with 20 Axes>"
            ]
          },
          "metadata": {
            "tags": []
          }
        }
      ]
    },
    {
      "cell_type": "code",
      "metadata": {
        "id": "RKoh5Cf70UYu",
        "colab": {
          "base_uri": "https://localhost:8080/",
          "height": 143
        },
        "outputId": "d1c23d33-66d9-462e-b151-7fe8e9032571"
      },
      "source": [
        "visualize(cifar_data_test)"
      ],
      "execution_count": 10,
      "outputs": [
        {
          "output_type": "display_data",
          "data": {
            "image/png": "[encoded data removed]",
            "text/plain": [
              "<Figure size 1800x288 with 20 Axes>"
            ]
          },
          "metadata": {
            "tags": []
          }
        }
      ]
    },
    {
      "cell_type": "markdown",
      "metadata": {
        "id": "ctjRsETiO1qO"
      },
      "source": [
        "## Partitioning the Data (IID and non-IID)"
      ]
    },
    {
      "cell_type": "code",
      "metadata": {
        "id": "3_v8lyrgO5dD"
      },
      "source": [
        "def iid_partition(dataset, clients):\n",
        "  \"\"\"\n",
        "  I.I.D paritioning of data over clients\n",
        "  Shuffle the data\n",
        "  Split it between clients\n",
        "  \n",
        "  params:\n",
        "    - dataset (torch.utils.Dataset): Dataset containing the CIFAR Images\n",
        "    - clients (int): Number of Clients to split the data between\n",
        "\n",
        "  returns:\n",
        "    - Dictionary of image indexes for each client\n",
        "  \"\"\"\n",
        "\n",
        "  num_items_per_client = int(len(dataset)/clients)\n",
        "  client_dict = {}\n",
        "  image_idxs = [i for i in range(len(dataset))]\n",
        "\n",
        "  for i in range(clients):\n",
        "    client_dict[i] = set(np.random.choice(image_idxs, num_items_per_client, replace=False))\n",
        "    image_idxs = list(set(image_idxs) - client_dict[i])\n",
        "\n",
        "  return client_dict"
      ],
      "execution_count": 11,
      "outputs": []
    },
    {
      "cell_type": "code",
      "metadata": {
        "id": "4zMdliGMQoSl"
      },
      "source": [
        "def non_iid_partition(dataset, clients, total_shards, shards_size, num_shards_per_client):\n",
        "  \"\"\"\n",
        "  non I.I.D parititioning of data over clients\n",
        "  Sort the data by the digit label\n",
        "  Divide the data into N shards of size S\n",
        "  Each of the clients will get X shards\n",
        "\n",
        "  params:\n",
        "    - dataset (torch.utils.Dataset): Dataset containing the CIFAR Images\n",
        "    - clients (int): Number of Clients to split the data between\n",
        "    - total_shards (int): Number of shards to partition the data in\n",
        "    - shards_size (int): Size of each shard \n",
        "    - num_shards_per_client (int): Number of shards of size shards_size that each client receives\n",
        "\n",
        "  returns:\n",
        "    - Dictionary of image indexes for each client\n",
        "  \"\"\"\n",
        "  \n",
        "  shard_idxs = [i for i in range(total_shards)]\n",
        "  client_dict = {i: np.array([], dtype='int64') for i in range(clients)}\n",
        "  idxs = np.arange(len(dataset))\n",
        "  data_labels = np.array(dataset.targets)\n",
        "\n",
        "  # sort the labels\n",
        "  label_idxs = np.vstack((idxs, data_labels))\n",
        "  label_idxs = label_idxs[:, label_idxs[1,:].argsort()]\n",
        "  idxs = label_idxs[0,:]\n",
        "\n",
        "  # divide the data into total_shards of size shards_size\n",
        "  # assign num_shards_per_client to each client\n",
        "  for i in range(clients):\n",
        "    rand_set = set(np.random.choice(shard_idxs, num_shards_per_client, replace=False))\n",
        "    shard_idxs = list(set(shard_idxs) - rand_set)\n",
        "\n",
        "    for rand in rand_set:\n",
        "      client_dict[i] = np.concatenate((client_dict[i], idxs[rand*shards_size:(rand+1)*shards_size]), axis=0)\n",
        "  \n",
        "  return client_dict\n",
        "\n",
        "\n",
        "\n"
      ],
      "execution_count": 12,
      "outputs": []
    },
    {
      "cell_type": "markdown",
      "metadata": {
        "id": "EUP_bcedcLwB"
      },
      "source": [
        "## Models"
      ]
    },
    {
      "cell_type": "code",
      "metadata": {
        "id": "CvoDNFKbZST5"
      },
      "source": [
        "class CIFAR_MLP(nn.Module):\n",
        "  def __init__(self):\n",
        "    super(CIFAR_MLP, self).__init__()\n",
        "    self.fc1 = nn.Linear(3 * 32 * 32, 2634)\n",
        "    self.fc2 = nn.Linear(2634, 2196) \n",
        "    self.fc3 = nn.Linear(2196, 1758)\n",
        "    self.fc4 = nn.Linear(1758, 1320)\n",
        "    self.fc5 = nn.Linear(1320, 882)\n",
        "    self.fc6 = nn.Linear(882, 444) \n",
        "    self.fc7 = nn.Linear(444, 10) \n",
        "\n",
        "  def forward(self, x):\n",
        "    x = x.view(-1, 3 * 32 * 32)\n",
        "    x = F.relu(self.fc1(x))\n",
        "    x = F.relu(self.fc2(x))\n",
        "    x = F.relu(self.fc3(x))\n",
        "    x = F.relu(self.fc4(x))\n",
        "    x = F.relu(self.fc5(x))\n",
        "    x = F.relu(self.fc6(x))\n",
        "\n",
        "    x = self.fc7(x)\n",
        "    return x"
      ],
      "execution_count": 13,
      "outputs": []
    },
    {
      "cell_type": "code",
      "metadata": {
        "id": "ut1hZ8x3qYPZ"
      },
      "source": [
        "class CIFAR_CNN(nn.Module):\n",
        "  def __init__(self):\n",
        "    super(CIFAR_CNN, self).__init__()\n",
        "\n",
        "    self.conv_layer = nn.Sequential(\n",
        "      nn.Conv2d(in_channels=3, out_channels=32, kernel_size=3, padding=1),\n",
        "      nn.BatchNorm2d(32),\n",
        "      nn.ReLU(inplace=True),\n",
        "      nn.Conv2d(in_channels=32, out_channels=64, kernel_size=3, padding=1),\n",
        "      nn.ReLU(inplace=True),\n",
        "      nn.MaxPool2d(kernel_size=2, stride=2),\n",
        "\n",
        "      nn.Conv2d(in_channels=64, out_channels=128, kernel_size=3, padding=1),\n",
        "      nn.BatchNorm2d(128),\n",
        "      nn.ReLU(inplace=True),\n",
        "      nn.Conv2d(in_channels=128, out_channels=128, kernel_size=3, padding=1),\n",
        "      nn.ReLU(inplace=True),\n",
        "      nn.MaxPool2d(kernel_size=2, stride=2),\n",
        "      nn.Dropout2d(p=0.05),\n",
        "\n",
        "      nn.Conv2d(in_channels=128, out_channels=256, kernel_size=3, padding=1),\n",
        "      nn.BatchNorm2d(256),\n",
        "      nn.ReLU(inplace=True),\n",
        "      nn.Conv2d(in_channels=256, out_channels=256, kernel_size=3, padding=1),\n",
        "      nn.ReLU(inplace=True),\n",
        "      nn.MaxPool2d(kernel_size=2, stride=2),\n",
        "    )\n",
        "\n",
        "    self.fc_layer = nn.Sequential(\n",
        "      nn.Dropout(p=0.1),\n",
        "      nn.Linear(4096, 1024),\n",
        "      nn.ReLU(inplace=True),\n",
        "      nn.Linear(1024, 512),\n",
        "      nn.ReLU(inplace=True),\n",
        "      nn.Dropout(p=0.1),\n",
        "      nn.Linear(512, 10)\n",
        "    )\n",
        "\n",
        "\n",
        "  def forward(self, x):      \n",
        "    # conv layers\n",
        "    x = self.conv_layer(x)\n",
        "    \n",
        "    # flatten\n",
        "    x = x.view(x.size(0), -1)\n",
        "    \n",
        "    # fc layer\n",
        "    x = self.fc_layer(x)\n",
        "\n",
        "    return x"
      ],
      "execution_count": 14,
      "outputs": []
    },
    {
      "cell_type": "markdown",
      "metadata": {
        "id": "uVv4HA9HuLtr"
      },
      "source": [
        "### Print Model Summaries"
      ]
    },
    {
      "cell_type": "code",
      "metadata": {
        "id": "-H2jR2-Id4AA",
        "colab": {
          "base_uri": "https://localhost:8080/"
        },
        "outputId": "da854a5b-1af9-44a0-b25f-1c771572e3df"
      },
      "source": [
        "cifar_mlp = CIFAR_MLP()\n",
        "cifar_cnn = CIFAR_CNN()\n",
        "\n",
        "if torch.cuda.is_available():\n",
        "  cifar_mlp.cuda()\n",
        "  cifar_cnn.cuda()\n",
        "\n",
        "print(\"CIFAR MLP SUMMARY\")\n",
        "print(summary(cifar_mlp, (32,32,3)))\n",
        "\n",
        "print(\"\\nCIFAR CNN SUMMARY\")\n",
        "print(summary(cifar_cnn, (3, 32,32)))"
      ],
      "execution_count": 15,
      "outputs": [
        {
          "output_type": "stream",
          "text": [
            "CIFAR MLP SUMMARY\n",
            "----------------------------------------------------------------\n",
            "        Layer (type)               Output Shape         Param #\n",
            "================================================================\n",
            "            Linear-1                 [-1, 2634]       8,094,282\n",
            "            Linear-2                 [-1, 2196]       5,786,460\n",
            "            Linear-3                 [-1, 1758]       3,862,326\n",
            "            Linear-4                 [-1, 1320]       2,321,880\n",
            "            Linear-5                  [-1, 882]       1,165,122\n",
            "            Linear-6                  [-1, 444]         392,052\n",
            "            Linear-7                   [-1, 10]           4,450\n",
            "================================================================\n",
            "Total params: 21,626,572\n",
            "Trainable params: 21,626,572\n",
            "Non-trainable params: 0\n",
            "----------------------------------------------------------------\n",
            "Input size (MB): 0.01\n",
            "Forward/backward pass size (MB): 0.07\n",
            "Params size (MB): 82.50\n",
            "Estimated Total Size (MB): 82.58\n",
            "----------------------------------------------------------------\n",
            "None\n",
            "\n",
            "CIFAR CNN SUMMARY\n",
            "----------------------------------------------------------------\n",
            "        Layer (type)               Output Shape         Param #\n",
            "================================================================\n",
            "            Conv2d-1           [-1, 32, 32, 32]             896\n",
            "       BatchNorm2d-2           [-1, 32, 32, 32]              64\n",
            "              ReLU-3           [-1, 32, 32, 32]               0\n",
            "            Conv2d-4           [-1, 64, 32, 32]          18,496\n",
            "              ReLU-5           [-1, 64, 32, 32]               0\n",
            "         MaxPool2d-6           [-1, 64, 16, 16]               0\n",
            "            Conv2d-7          [-1, 128, 16, 16]          73,856\n",
            "       BatchNorm2d-8          [-1, 128, 16, 16]             256\n",
            "              ReLU-9          [-1, 128, 16, 16]               0\n",
            "           Conv2d-10          [-1, 128, 16, 16]         147,584\n",
            "             ReLU-11          [-1, 128, 16, 16]               0\n",
            "        MaxPool2d-12            [-1, 128, 8, 8]               0\n",
            "        Dropout2d-13            [-1, 128, 8, 8]               0\n",
            "           Conv2d-14            [-1, 256, 8, 8]         295,168\n",
            "      BatchNorm2d-15            [-1, 256, 8, 8]             512\n",
            "             ReLU-16            [-1, 256, 8, 8]               0\n",
            "           Conv2d-17            [-1, 256, 8, 8]         590,080\n",
            "             ReLU-18            [-1, 256, 8, 8]               0\n",
            "        MaxPool2d-19            [-1, 256, 4, 4]               0\n",
            "          Dropout-20                 [-1, 4096]               0\n",
            "           Linear-21                 [-1, 1024]       4,195,328\n",
            "             ReLU-22                 [-1, 1024]               0\n",
            "           Linear-23                  [-1, 512]         524,800\n",
            "             ReLU-24                  [-1, 512]               0\n",
            "          Dropout-25                  [-1, 512]               0\n",
            "           Linear-26                   [-1, 10]           5,130\n",
            "================================================================\n",
            "Total params: 5,852,170\n",
            "Trainable params: 5,852,170\n",
            "Non-trainable params: 0\n",
            "----------------------------------------------------------------\n",
            "Input size (MB): 0.01\n",
            "Forward/backward pass size (MB): 3.96\n",
            "Params size (MB): 22.32\n",
            "Estimated Total Size (MB): 26.30\n",
            "----------------------------------------------------------------\n",
            "None\n"
          ],
          "name": "stdout"
        }
      ]
    },
    {
      "cell_type": "markdown",
      "metadata": {
        "id": "gf_8XEXa-gZ7"
      },
      "source": [
        "## FedProx"
      ]
    },
    {
      "cell_type": "markdown",
      "metadata": {
        "id": "XOchMapqvV_7"
      },
      "source": [
        "### Systems Heterogeneity Simulations\n",
        "\n",
        "Generate epochs for selected clients based on percentage of devices that corresponds to heterogeneity. \n",
        "\n",
        "Assign x number of epochs (chosen unifirmly at random between [1, E]) to 0%, 50% or 90% of the selected devices, respectively. Settings where 0% devices perform fewer than E epochs of work correspond to the environments without system heterogeneity, while 90% of the devices sending their partial solutions corresponds to highly heterogenous system."
      ]
    },
    {
      "cell_type": "code",
      "metadata": {
        "id": "qRQZRPaZvV_7"
      },
      "source": [
        "def GenerateLocalEpochs(percentage, size, max_epochs):\n",
        "  ''' Method generates list of epochs for selected clients\n",
        "  to replicate system heteroggeneity\n",
        "\n",
        "  Params:\n",
        "    percentage: percentage of clients to have fewer than E epochs\n",
        "    size:       total size of the list\n",
        "    max_epochs: maximum value for local epochs\n",
        "  \n",
        "  Returns:\n",
        "    List of size epochs for each Client Update\n",
        "\n",
        "  '''\n",
        "\n",
        "  # if percentage is 0 then each client runs for E epochs\n",
        "  if percentage == 0:\n",
        "      return np.array([max_epochs]*size)\n",
        "  else:\n",
        "    # get the number of clients to have fewer than E epochs\n",
        "    heterogenous_size = int((percentage/100) * size)\n",
        "\n",
        "    # generate random uniform epochs of heterogenous size between 1 and E\n",
        "    epoch_list = np.random.randint(1, max_epochs, heterogenous_size)\n",
        "\n",
        "    # the rest of the clients will have E epochs\n",
        "    remaining_size = size - heterogenous_size\n",
        "    rem_list = [max_epochs]*remaining_size\n",
        "\n",
        "    epoch_list = np.append(epoch_list, rem_list, axis=0)\n",
        "    \n",
        "    # shuffle the list and return\n",
        "    np.random.shuffle(epoch_list)\n",
        "\n",
        "    return epoch_list"
      ],
      "execution_count": 16,
      "outputs": []
    },
    {
      "cell_type": "markdown",
      "metadata": {
        "id": "hGqruzfzvV_8"
      },
      "source": [
        "## Federated Averaging"
      ]
    },
    {
      "cell_type": "markdown",
      "metadata": {
        "id": "L-aNdQsQ-Kvp"
      },
      "source": [
        "### Local Training (Client Update)\n",
        "\n",
        "Local training for the model on client side"
      ]
    },
    {
      "cell_type": "code",
      "metadata": {
        "id": "oX6OsQyO-Gz7"
      },
      "source": [
        "class CustomDataset(Dataset):\n",
        "  def __init__(self, dataset, idxs):\n",
        "      self.dataset = dataset\n",
        "      self.idxs = list(idxs)\n",
        "\n",
        "  def __len__(self):\n",
        "      return len(self.idxs)\n",
        "\n",
        "  def __getitem__(self, item):\n",
        "      image, label = self.dataset[self.idxs[item]]\n",
        "      return image, label\n",
        "\n",
        "\n",
        "class ClientUpdate(object):\n",
        "  def __init__(self, dataset, batchSize, learning_rate, epochs, idxs, mu, algorithm):\n",
        "    self.train_loader = DataLoader(CustomDataset(dataset, idxs), batch_size=batchSize, shuffle=True)\n",
        "    self.algorithm = algorithm\n",
        "    self.learning_rate = learning_rate\n",
        "    self.epochs = epochs\n",
        "\n",
        "  def train(self, model):\n",
        "    criterion = nn.CrossEntropyLoss()\n",
        "    proximal_criterion = nn.MSELoss(reduction='mean')\n",
        "    optimizer = torch.optim.SGD(model.parameters(), lr=self.learning_rate, momentum=0.5)\n",
        "\n",
        "    # use the weights of global model for proximal term calculation\n",
        "    global_model = copy.deepcopy(model)\n",
        "\n",
        "    # calculate local training time\n",
        "    start_time = time.time()\n",
        "\n",
        "\n",
        "    e_loss = []\n",
        "    for epoch in range(1, self.epochs+1):\n",
        "\n",
        "      train_loss = 0.0\n",
        "\n",
        "      model.train()\n",
        "      for data, labels in self.train_loader:\n",
        "\n",
        "        if torch.cuda.is_available():\n",
        "          data, labels = data.cuda(), labels.cuda()\n",
        "\n",
        "        # clear the gradients\n",
        "        optimizer.zero_grad()\n",
        "        # make a forward pass\n",
        "        output = model(data)\n",
        "\n",
        "        # calculate the loss + the proximal term\n",
        "        _, pred = torch.max(output, 1)\n",
        "\n",
        "        if self.algorithm == 'fedprox':\n",
        "          proximal_term = 0.0\n",
        "\n",
        "          # iterate through the current and global model parameters\n",
        "          for w, w_t in zip(model.parameters(), global_model.parameters()) :\n",
        "            # update the proximal term \n",
        "            #proximal_term += torch.sum(torch.abs((w-w_t)**2))\n",
        "            proximal_term += (w-w_t).norm(2)\n",
        "\n",
        "          loss = criterion(output, labels) + (mu/2)*proximal_term\n",
        "        else:\n",
        "          loss = criterion(output, labels)\n",
        "    \n",
        "        # do a backwards pass\n",
        "        loss.backward()\n",
        "        # perform a single optimization step\n",
        "        optimizer.step()\n",
        "        # update training loss\n",
        "        train_loss += loss.item()*data.size(0)\n",
        "\n",
        "      # average losses\n",
        "      train_loss = train_loss/len(self.train_loader.dataset)\n",
        "      e_loss.append(train_loss)\n",
        "\n",
        "    total_loss = sum(e_loss)/len(e_loss)\n",
        "\n",
        "    return model.state_dict(), total_loss, (time.time() - start_time)"
      ],
      "execution_count": 17,
      "outputs": []
    },
    {
      "cell_type": "markdown",
      "metadata": {
        "id": "Ukgh1DVHE2Ds"
      },
      "source": [
        "### Server Side Training\n",
        "\n",
        "Following Algorithm 1 from the paper"
      ]
    },
    {
      "cell_type": "code",
      "metadata": {
        "id": "1NF1e33BgpeL"
      },
      "source": [
        "def training(model, rounds, batch_size, lr, ds, ds_test, data_dict, C, K, E, mu, percentage, plt_title, plt_color, target_test_accuracy, algorithm=\"fedprox\"):\n",
        "  \"\"\"\n",
        "  Function implements the Federated Averaging Algorithm from the FedAvg paper.\n",
        "  Specifically, this function is used for the server side training and weight update\n",
        "\n",
        "  Params:\n",
        "    - model:           PyTorch model to train\n",
        "    - rounds:          Number of communication rounds for the client update\n",
        "    - batch_size:      Batch size for client update training\n",
        "    - lr:              Learning rate used for client update training\n",
        "    - ds:              Dataset used for training\n",
        "    - ds_test:         Dataset used for testing\n",
        "    - data_dict:       Type of data partition used for training (IID or non-IID)\n",
        "    - C:               Fraction of clients randomly chosen to perform computation on each round\n",
        "    - K:               Total number of clients\n",
        "    - E:               Number of training passes each client makes over its local dataset per round\n",
        "    - tb_writer_name:  Directory name to save the tensorboard logs\n",
        "  Returns:\n",
        "    - model:           Trained model on the server\n",
        "  \"\"\"\n",
        "\n",
        "  # global model weights\n",
        "  global_weights = model.state_dict()\n",
        "\n",
        "  # training loss\n",
        "  # train_accuracy = []\n",
        "  train_loss = []\n",
        "  test_accuracy = []\n",
        "  test_loss = []\n",
        "\n",
        "  # store last loss for convergence\n",
        "  last_loss = 0.0\n",
        "\n",
        "  # total time taken \n",
        "  total_time = 0\n",
        "  start = time.time()\n",
        "\n",
        "  print(f\"System heterogeneity set to {percentage}% stragglers.\\n\")\n",
        "  print(f\"Picking {max(int(C*K),1 )} random clients per round.\\n\")\n",
        "\n",
        "  for curr_round in range(1, rounds+1):\n",
        "    w, local_loss, lst_local_train_time = [], [], []\n",
        "\n",
        "    m = max(int(C*K), 1)\n",
        "\n",
        "    heterogenous_epoch_list = GenerateLocalEpochs(percentage, size=m, max_epochs=E)\n",
        "    heterogenous_epoch_list = np.array(heterogenous_epoch_list)\n",
        "\n",
        "    S_t = np.random.choice(range(K), m, replace=False)\n",
        "    S_t = np.array(S_t)\n",
        "    \n",
        "    # For Federated Averaging, drop all the clients that are stragglers\n",
        "    if algorithm == 'fedavg':\n",
        "      stragglers_indices = np.argwhere(heterogenous_epoch_list < E)\n",
        "      heterogenous_epoch_list = np.delete(heterogenous_epoch_list, stragglers_indices)\n",
        "      S_t = np.delete(S_t, stragglers_indices)\n",
        "\n",
        "    for k, epoch in zip(S_t, heterogenous_epoch_list):\n",
        "      local_update = ClientUpdate(dataset=ds, batchSize=batch_size, learning_rate=lr, epochs=epoch, idxs=data_dict[k], mu=mu, algorithm=algorithm)\n",
        "      weights, loss, local_train_time = local_update.train(model=copy.deepcopy(model))\n",
        "\n",
        "      w.append(copy.deepcopy(weights))\n",
        "      local_loss.append(copy.deepcopy(loss))\n",
        "      lst_local_train_time.append(local_train_time)\n",
        "\n",
        "    # calculate time to update the global weights\n",
        "    global_start_time = time.time()\n",
        "\n",
        "    # updating the global weights\n",
        "    weights_avg = copy.deepcopy(w[0])\n",
        "    for k in weights_avg.keys():\n",
        "      for i in range(1, len(w)):\n",
        "        weights_avg[k] += w[i][k]\n",
        "\n",
        "      weights_avg[k] = torch.div(weights_avg[k], len(w))\n",
        "\n",
        "    global_weights = weights_avg\n",
        "    global_end_time = time.time()\n",
        "\n",
        "    # calculate total time \n",
        "    total_time += (global_end_time - global_start_time) + sum(lst_local_train_time)/len(lst_local_train_time)\n",
        "\n",
        "    # move the updated weights to our model state dict\n",
        "    model.load_state_dict(global_weights)\n",
        "\n",
        "    # loss\n",
        "    loss_avg = sum(local_loss) / len(local_loss)\n",
        "\n",
        "    # test accuracy\n",
        "    criterion = nn.CrossEntropyLoss()\n",
        "    test_accuracy_current, test_loss_current = testing(copy.deepcopy(model), ds_test, 128, criterion, num_classes, classes_test)\n",
        "    test_accuracy.append(test_accuracy_current)\n",
        "    test_loss.append(test_loss_current)\n",
        "\n",
        "    print(f\"Round: {curr_round}... \\tAverage Train Loss: {round(loss_avg, 3)}... \\tTest Loss: {test_loss_current}... \\tTest Accuracy: {test_accuracy_current}\")\n",
        "    train_loss.append(loss_avg)\n",
        "\n",
        "    # break if we achieve the target test accuracy\n",
        "#     if test_accuracy_current >= target_test_accuracy:\n",
        "#       rounds = curr_round\n",
        "#       break\n",
        "\n",
        "    # break if we achieve convergence, i.e., loss between two consecutive rounds is <0.0001\n",
        "    if algorithm == 'fedprox' and abs(loss_avg - last_loss) < 0.0001:\n",
        "      rounds = curr_round\n",
        "      break\n",
        "    \n",
        "    # update the last loss\n",
        "    last_loss = loss_avg\n",
        "\n",
        "  end = time.time()\n",
        "  # plot train loss\n",
        "  fig, ax = plt.subplots()\n",
        "  x_axis = np.arange(1, rounds+1)\n",
        "  y_axis = np.array(train_loss)\n",
        "  ax.plot(x_axis, y_axis)\n",
        "\n",
        "  ax.set(xlabel='Number of Rounds', ylabel='Train Loss', title=plt_title)\n",
        "  ax.grid()\n",
        "  fig.savefig(plt_title+'_Train_loss.jpg', format='jpg')\n",
        "  plt.show()\n",
        "\n",
        "  fig, ax = plt.subplots()\n",
        "  x_axis = np.arange(1, rounds+1)\n",
        "  y_axis = np.array(test_loss)\n",
        "  ax.plot(x_axis, y_axis, 'tab:'+plt_color)\n",
        "\n",
        "  ax.set(xlabel='Number of Rounds', ylabel='Test Loss', title=plt_title)\n",
        "  ax.grid()\n",
        "  fig.savefig(plt_title+'_Test_loss.jpg', format='jpg')\n",
        "  plt.show()\n",
        "\n",
        "\n",
        "  fig, ax = plt.subplots()\n",
        "  x_axis = np.arange(1, rounds+1)\n",
        "  y_axis = np.array(test_accuracy)\n",
        "  ax.plot(x_axis, y_axis, 'tab:'+plt_color)\n",
        "\n",
        "  ax.set(xlabel='Number of Rounds', ylabel='Test Accuracy', title=plt_title)\n",
        "  ax.grid()\n",
        "  fig.savefig(plt_title+'_Test_Accuracy.jpg', format='jpg')\n",
        "  plt.show()\n",
        "  \n",
        "  print(\"Training Done!\")\n",
        "  print(\"Total time taken to Train: {}\\n\\n\".format(end-start))\n",
        "  \n",
        "  return model, train_loss, test_accuracy, test_loss"
      ],
      "execution_count": 18,
      "outputs": []
    },
    {
      "cell_type": "markdown",
      "metadata": {
        "id": "tUYyb4T-uXmF"
      },
      "source": [
        "## Testing Loop"
      ]
    },
    {
      "cell_type": "code",
      "metadata": {
        "id": "uCcIZmO5uan9"
      },
      "source": [
        "def testing(model, dataset, bs, criterion, num_classes, classes, print_info=False):\n",
        "  #test loss \n",
        "  test_loss = 0.0\n",
        "  correct_class = list(0. for i in range(num_classes))\n",
        "  total_class = list(0. for i in range(num_classes))\n",
        "\n",
        "  test_loader = DataLoader(dataset, batch_size=bs)\n",
        "  l = len(test_loader)\n",
        "  model.eval()\n",
        "  for data, labels in test_loader:\n",
        "\n",
        "    if torch.cuda.is_available():\n",
        "      data, labels = data.cuda(), labels.cuda()\n",
        "\n",
        "    output = model(data)\n",
        "    loss = criterion(output, labels)\n",
        "    test_loss += loss.item()*data.size(0)\n",
        "\n",
        "    _, pred = torch.max(output, 1)\n",
        "\n",
        "    correct_tensor = pred.eq(labels.data.view_as(pred))\n",
        "    correct = np.squeeze(correct_tensor.numpy()) if not torch.cuda.is_available() else np.squeeze(correct_tensor.cpu().numpy())\n",
        "\n",
        "    #test accuracy for each object class\n",
        "    for i in range(num_classes):\n",
        "      label = labels.data[i]\n",
        "      correct_class[label] += correct[i].item()\n",
        "      total_class[label] += 1\n",
        "    \n",
        "  # avg test loss\n",
        "  test_loss = test_loss/len(test_loader.dataset)\n",
        "  test_accuracy = 100. * np.sum(correct_class) / np.sum(total_class)\n",
        "\n",
        "  if print_info:\n",
        "    print(\"Test Loss: {:.6f}\\n\".format(test_loss))\n",
        "\n",
        "    for i in range(10):\n",
        "      if total_class[i]>0:\n",
        "        print('Test Accuracy of %5s: %2d%% (%2d/%2d)' % \n",
        "              (classes[i], 100 * correct_class[i] / total_class[i],\n",
        "              np.sum(correct_class[i]), np.sum(total_class[i])))\n",
        "      else:\n",
        "        print('Test Accuracy of %5s: N/A (no training examples)' % (classes[i]))\n",
        "\n",
        "    print('\\nFinal Test  Accuracy: {:.3f} ({}/{})'.format(\n",
        "          100. * np.sum(correct_class) / np.sum(total_class),\n",
        "          np.sum(correct_class), np.sum(total_class)))\n",
        "  \n",
        "  return test_accuracy, test_loss"
      ],
      "execution_count": 19,
      "outputs": []
    },
    {
      "cell_type": "markdown",
      "metadata": {
        "id": "Ri0FqXFeHW-V"
      },
      "source": [
        "## Logger"
      ]
    },
    {
      "cell_type": "code",
      "metadata": {
        "id": "cMBtx9P5c1V_"
      },
      "source": [
        "log_dict = {}\n",
        "NUM_REPEAT = 1"
      ],
      "execution_count": 20,
      "outputs": []
    },
    {
      "cell_type": "markdown",
      "metadata": {
        "id": "4hO5oV6aXqeh"
      },
      "source": [
        "## CIFAR CNN on IID"
      ]
    },
    {
      "cell_type": "markdown",
      "metadata": {
        "id": "flSQv_P4zCfx"
      },
      "source": [
        "### Train\n"
      ]
    },
    {
      "cell_type": "code",
      "metadata": {
        "id": "0ZalcKZtEseA",
        "colab": {
          "base_uri": "https://localhost:8080/",
          "height": 1000
        },
        "outputId": "bed95e3b-f30b-4422-c150-c914891b05ce"
      },
      "source": [
        "train_loss_multiple_runs = [None] * NUM_REPEAT\n",
        "test_accuracy_multiple_runs = [None] * NUM_REPEAT\n",
        "test_loss_multiple_runs = [None] * NUM_REPEAT\n",
        "\n",
        "for exp_num in range(NUM_REPEAT):\n",
        "  print(\"Experiment Run Number: \", exp_num)\n",
        "\n",
        "  # number of training rounds\n",
        "  rounds = 50\n",
        "  # client fraction\n",
        "  C = 0.5\n",
        "  # number of clients\n",
        "  K = 100\n",
        "  # number of training passes on local dataset for each roung\n",
        "  E = 5\n",
        "  # batch size\n",
        "  batch_size = 10\n",
        "  # learning Rate\n",
        "  lr=0.05\n",
        "  # proximal term constant\n",
        "  mu = 0.01\n",
        "  # percentage of clients to have fewer than E epochs\n",
        "  percentage = 50\n",
        "\n",
        "  # target_test_accuracy\n",
        "  target_test_accuracy=80.0\n",
        "  # data partition dictionary\n",
        "  iid_dict = iid_partition(cifar_data_train, 100)\n",
        "  # load model\n",
        "  cifar_cnn = CIFAR_CNN()\n",
        "\n",
        "  if torch.cuda.is_available():\n",
        "    cifar_cnn.cuda()\n",
        "\n",
        "  cifar_cnn_iid_trained, train_loss, test_accuracy, test_loss = training(cifar_cnn, rounds, batch_size, lr, cifar_data_train, cifar_data_test, iid_dict, C, K, E, mu, percentage, \"CIFAR CNN on IID Dataset\", \"orange\", target_test_accuracy)\n",
        "\n",
        "  train_loss_multiple_runs[exp_num] = train_loss\n",
        "  test_accuracy_multiple_runs[exp_num] = test_accuracy\n",
        "  test_loss_multiple_runs[exp_num] = test_loss\n",
        "        \n",
        "  del cifar_cnn_iid_trained\n",
        "  torch.cuda.empty_cache()"
      ],
      "execution_count": 21,
      "outputs": [
        {
          "output_type": "stream",
          "text": [
            "Experiment Run Number:  0\n",
            "System heterogeneity set to 50% stragglers.\n",
            "\n",
            "Picking 50 random clients per round.\n",
            "\n",
            "Round: 1... \tAverage Train Loss: 2.195... \tTest Loss: 2.2682533657073973... \tTest Accuracy: 9.746835443037975\n",
            "Round: 2... \tAverage Train Loss: 2.081... \tTest Loss: 1.9971106712341309... \tTest Accuracy: 25.949367088607595\n",
            "Round: 3... \tAverage Train Loss: 1.98... \tTest Loss: 1.8145871913909912... \tTest Accuracy: 36.075949367088604\n",
            "Round: 4... \tAverage Train Loss: 1.905... \tTest Loss: 1.7072949548721315... \tTest Accuracy: 39.24050632911393\n",
            "Round: 5... \tAverage Train Loss: 1.844... \tTest Loss: 1.5934121295928956... \tTest Accuracy: 44.050632911392405\n",
            "Round: 6... \tAverage Train Loss: 1.781... \tTest Loss: 1.5256343503952026... \tTest Accuracy: 45.822784810126585\n",
            "Round: 7... \tAverage Train Loss: 1.724... \tTest Loss: 1.4707565000534057... \tTest Accuracy: 48.607594936708864\n",
            "Round: 8... \tAverage Train Loss: 1.674... \tTest Loss: 1.3981496635437012... \tTest Accuracy: 50.0\n",
            "Round: 9... \tAverage Train Loss: 1.629... \tTest Loss: 1.3593385915756226... \tTest Accuracy: 49.87341772151899\n",
            "Round: 10... \tAverage Train Loss: 1.581... \tTest Loss: 1.318955504989624... \tTest Accuracy: 52.40506329113924\n",
            "Round: 11... \tAverage Train Loss: 1.537... \tTest Loss: 1.2628622816085815... \tTest Accuracy: 52.91139240506329\n",
            "Round: 12... \tAverage Train Loss: 1.498... \tTest Loss: 1.218609168624878... \tTest Accuracy: 54.936708860759495\n",
            "Round: 13... \tAverage Train Loss: 1.459... \tTest Loss: 1.1892898601531983... \tTest Accuracy: 58.35443037974684\n",
            "Round: 14... \tAverage Train Loss: 1.429... \tTest Loss: 1.147379081916809... \tTest Accuracy: 58.734177215189874\n",
            "Round: 15... \tAverage Train Loss: 1.392... \tTest Loss: 1.1155801919937134... \tTest Accuracy: 60.88607594936709\n",
            "Round: 16... \tAverage Train Loss: 1.346... \tTest Loss: 1.082554541015625... \tTest Accuracy: 61.0126582278481\n",
            "Round: 17... \tAverage Train Loss: 1.305... \tTest Loss: 1.0493277015686036... \tTest Accuracy: 62.0253164556962\n",
            "Round: 18... \tAverage Train Loss: 1.276... \tTest Loss: 1.0118913206100464... \tTest Accuracy: 62.278481012658226\n",
            "Round: 19... \tAverage Train Loss: 1.243... \tTest Loss: 0.9908210713386536... \tTest Accuracy: 63.79746835443038\n",
            "Round: 20... \tAverage Train Loss: 1.207... \tTest Loss: 0.9590419719696045... \tTest Accuracy: 66.32911392405063\n",
            "Round: 21... \tAverage Train Loss: 1.165... \tTest Loss: 0.9335452376365662... \tTest Accuracy: 65.9493670886076\n",
            "Round: 22... \tAverage Train Loss: 1.134... \tTest Loss: 0.9054248999595642... \tTest Accuracy: 68.10126582278481\n",
            "Round: 23... \tAverage Train Loss: 1.106... \tTest Loss: 0.8875158405303956... \tTest Accuracy: 68.9873417721519\n",
            "Round: 24... \tAverage Train Loss: 1.082... \tTest Loss: 0.872380277633667... \tTest Accuracy: 69.62025316455696\n",
            "Round: 25... \tAverage Train Loss: 1.053... \tTest Loss: 0.845114077091217... \tTest Accuracy: 70.0\n",
            "Round: 26... \tAverage Train Loss: 1.024... \tTest Loss: 0.8307716520309448... \tTest Accuracy: 70.75949367088607\n",
            "Round: 27... \tAverage Train Loss: 1.001... \tTest Loss: 0.8094605159759521... \tTest Accuracy: 71.39240506329114\n",
            "Round: 28... \tAverage Train Loss: 0.963... \tTest Loss: 0.8014381407737732... \tTest Accuracy: 71.26582278481013\n",
            "Round: 29... \tAverage Train Loss: 0.953... \tTest Loss: 0.7797282610893249... \tTest Accuracy: 72.15189873417721\n",
            "Round: 30... \tAverage Train Loss: 0.917... \tTest Loss: 0.7620218234062195... \tTest Accuracy: 72.9113924050633\n",
            "Round: 31... \tAverage Train Loss: 0.905... \tTest Loss: 0.7514052632331848... \tTest Accuracy: 72.40506329113924\n",
            "Round: 32... \tAverage Train Loss: 0.871... \tTest Loss: 0.7366519433975219... \tTest Accuracy: 74.0506329113924\n",
            "Round: 33... \tAverage Train Loss: 0.852... \tTest Loss: 0.7222690448760987... \tTest Accuracy: 73.79746835443038\n",
            "Round: 34... \tAverage Train Loss: 0.836... \tTest Loss: 0.7132127680778504... \tTest Accuracy: 73.92405063291139\n",
            "Round: 35... \tAverage Train Loss: 0.824... \tTest Loss: 0.7028758850097656... \tTest Accuracy: 74.9367088607595\n",
            "Round: 36... \tAverage Train Loss: 0.806... \tTest Loss: 0.6853550084114075... \tTest Accuracy: 75.82278481012658\n",
            "Round: 37... \tAverage Train Loss: 0.782... \tTest Loss: 0.6794551050662995... \tTest Accuracy: 76.32911392405063\n",
            "Round: 38... \tAverage Train Loss: 0.776... \tTest Loss: 0.6649833772659302... \tTest Accuracy: 76.20253164556962\n",
            "Round: 39... \tAverage Train Loss: 0.756... \tTest Loss: 0.653193155670166... \tTest Accuracy: 77.0886075949367\n",
            "Round: 40... \tAverage Train Loss: 0.747... \tTest Loss: 0.6445082653045654... \tTest Accuracy: 76.9620253164557\n",
            "Round: 41... \tAverage Train Loss: 0.724... \tTest Loss: 0.636678421497345... \tTest Accuracy: 77.59493670886076\n",
            "Round: 42... \tAverage Train Loss: 0.705... \tTest Loss: 0.6303701698303222... \tTest Accuracy: 77.34177215189874\n",
            "Round: 43... \tAverage Train Loss: 0.701... \tTest Loss: 0.6226528653144836... \tTest Accuracy: 77.21518987341773\n",
            "Round: 44... \tAverage Train Loss: 0.688... \tTest Loss: 0.6156805607795716... \tTest Accuracy: 77.9746835443038\n",
            "Round: 45... \tAverage Train Loss: 0.678... \tTest Loss: 0.6061280708312988... \tTest Accuracy: 78.73417721518987\n",
            "Round: 46... \tAverage Train Loss: 0.654... \tTest Loss: 0.5984979577541352... \tTest Accuracy: 78.48101265822785\n",
            "Round: 47... \tAverage Train Loss: 0.651... \tTest Loss: 0.5901494317054748... \tTest Accuracy: 78.73417721518987\n",
            "Round: 48... \tAverage Train Loss: 0.635... \tTest Loss: 0.5831286975383758... \tTest Accuracy: 79.24050632911393\n",
            "Round: 49... \tAverage Train Loss: 0.627... \tTest Loss: 0.5735442718029022... \tTest Accuracy: 80.50632911392405\n",
            "Round: 50... \tAverage Train Loss: 0.631... \tTest Loss: 0.5660870144367218... \tTest Accuracy: 79.74683544303798\n"
          ],
          "name": "stdout"
        },
        {
          "output_type": "display_data",
          "data": {
            "image/png": "[encoded data removed]",
            "text/plain": [
              "<Figure size 432x288 with 1 Axes>"
            ]
          },
          "metadata": {
            "tags": [],
            "needs_background": "light"
          }
        },
        {
          "output_type": "display_data",
          "data": {
            "image/png": "[encoded data removed]",
            "text/plain": [
              "<Figure size 432x288 with 1 Axes>"
            ]
          },
          "metadata": {
            "tags": [],
            "needs_background": "light"
          }
        },
        {
          "output_type": "display_data",
          "data": {
            "image/png": "[encoded data removed]",
            "text/plain": [
              "<Figure size 432x288 with 1 Axes>"
            ]
          },
          "metadata": {
            "tags": [],
            "needs_background": "light"
          }
        },
        {
          "output_type": "stream",
          "text": [
            "Training Done!\n",
            "Total time taken to Train: 5626.770602226257\n",
            "\n",
            "\n"
          ],
          "name": "stdout"
        }
      ]
    },
    {
      "cell_type": "markdown",
      "metadata": {
        "id": "wNwC82przF6G"
      },
      "source": [
        "### Test"
      ]
    },
    {
      "cell_type": "code",
      "metadata": {
        "id": "qB97BFs9we9w"
      },
      "source": [
        "# criterion = nn.CrossEntropyLoss()\n",
        "# acc, loss = testing(cifar_cnn_iid_trained, cifar_data_test, 128, criterion, num_classes, classes_test, True)"
      ],
      "execution_count": 22,
      "outputs": []
    },
    {
      "cell_type": "code",
      "metadata": {
        "id": "gdQZEZmHHeqt"
      },
      "source": [
        "hyperparams = {'rounds': rounds,\n",
        "               'C': C,\n",
        "               'K': K,\n",
        "               'E': E,\n",
        "               'batch_size': batch_size,\n",
        "               'lr': lr,\n",
        "               'mu': mu,\n",
        "               'percentage': percentage,\n",
        "               'target_test_accuracy': target_test_accuracy,\n",
        "               }\n",
        "\n",
        "log_dict['CIFAR CNN on IID'] = {'train_loss': train_loss_multiple_runs, \n",
        "                                'test_loss': test_loss_multiple_runs, \n",
        "                                'test_accuracy': test_accuracy_multiple_runs,\n",
        "                                'hyperparams': hyperparams,\n",
        "                                }"
      ],
      "execution_count": 23,
      "outputs": []
    },
    {
      "cell_type": "markdown",
      "metadata": {
        "id": "uF8MdSIUYcnl"
      },
      "source": [
        "## CIFAR CNN on Non IID"
      ]
    },
    {
      "cell_type": "markdown",
      "metadata": {
        "id": "a6wXX7JW11bx"
      },
      "source": [
        "### Train\n"
      ]
    },
    {
      "cell_type": "code",
      "metadata": {
        "id": "fCD3kBCKYfBK",
        "colab": {
          "base_uri": "https://localhost:8080/",
          "height": 1000
        },
        "outputId": "a152a7fc-c197-4daa-fd74-bee7d250bdf5"
      },
      "source": [
        "train_loss_multiple_runs = [None] * NUM_REPEAT\n",
        "test_accuracy_multiple_runs = [None] * NUM_REPEAT\n",
        "test_loss_multiple_runs = [None] * NUM_REPEAT\n",
        "\n",
        "for exp_num in range(NUM_REPEAT):\n",
        "  print(\"Experiment Run Number: \", exp_num)\n",
        "\n",
        "  # number of training rounds\n",
        "  rounds = 50\n",
        "  # client fraction\n",
        "  C = 0.5\n",
        "  # number of clients\n",
        "  K = 100\n",
        "  # number of training passes on local dataset for each roung\n",
        "  E = 5\n",
        "  # batch size\n",
        "  batch_size = 10\n",
        "  # learning Rate\n",
        "  lr=0.05\n",
        "  # proximal term constant\n",
        "  mu = 0.01\n",
        "  # percentage of clients to have fewer than E epochs\n",
        "  percentage = 50\n",
        "  # target_test_accuracy\n",
        "  target_test_accuracy=80.0\n",
        "\n",
        "  # dict containing different type of data partition\n",
        "  data_dict = non_iid_partition(cifar_data_train, 100, 200, 250, 2)\n",
        "  # load model\n",
        "  cifar_cnn = CIFAR_CNN()\n",
        "\n",
        "  if torch.cuda.is_available():\n",
        "    cifar_cnn.cuda()\n",
        " \n",
        "  cifar_cnn_non_iid_trained, train_loss, test_accuracy, test_loss = training(cifar_cnn, rounds, batch_size, lr, cifar_data_train, cifar_data_test, data_dict, C, K, E, mu, percentage, \"CIFAR CNN on Non-IID Dataset\", \"green\", target_test_accuracy)\n",
        "\n",
        "  train_loss_multiple_runs[exp_num] = train_loss\n",
        "  test_accuracy_multiple_runs[exp_num] = test_accuracy\n",
        "  test_loss_multiple_runs[exp_num] = test_loss\n",
        "\n",
        "  del cifar_cnn_non_iid_trained\n",
        "  torch.cuda.empty_cache()"
      ],
      "execution_count": 25,
      "outputs": [
        {
          "output_type": "stream",
          "text": [
            "Experiment Run Number:  0\n",
            "System heterogeneity set to 50% stragglers.\n",
            "\n",
            "Picking 50 random clients per round.\n",
            "\n",
            "Round: 1... \tAverage Train Loss: 0.634... \tTest Loss: 2.302568268585205... \tTest Accuracy: 9.367088607594937\n",
            "Round: 2... \tAverage Train Loss: 0.612... \tTest Loss: 2.3040789558410646... \tTest Accuracy: 11.012658227848101\n",
            "Round: 3... \tAverage Train Loss: 0.55... \tTest Loss: 2.273592491531372... \tTest Accuracy: 11.012658227848101\n",
            "Round: 4... \tAverage Train Loss: 0.536... \tTest Loss: 2.203592448806763... \tTest Accuracy: 18.860759493670887\n",
            "Round: 5... \tAverage Train Loss: 0.549... \tTest Loss: 2.13028581161499... \tTest Accuracy: 21.645569620253166\n",
            "Round: 6... \tAverage Train Loss: 0.505... \tTest Loss: 2.0604058334350586... \tTest Accuracy: 27.21518987341772\n",
            "Round: 7... \tAverage Train Loss: 0.484... \tTest Loss: 2.0053443840026857... \tTest Accuracy: 28.10126582278481\n",
            "Round: 8... \tAverage Train Loss: 0.444... \tTest Loss: 1.928455369567871... \tTest Accuracy: 31.265822784810126\n",
            "Round: 9... \tAverage Train Loss: 0.493... \tTest Loss: 1.948880189704895... \tTest Accuracy: 28.60759493670886\n",
            "Round: 10... \tAverage Train Loss: 0.453... \tTest Loss: 1.8671367017745972... \tTest Accuracy: 32.65822784810127\n",
            "Round: 11... \tAverage Train Loss: 0.431... \tTest Loss: 1.8237211807250977... \tTest Accuracy: 35.44303797468354\n",
            "Round: 12... \tAverage Train Loss: 0.418... \tTest Loss: 1.798328263282776... \tTest Accuracy: 36.45569620253165\n",
            "Round: 13... \tAverage Train Loss: 0.411... \tTest Loss: 1.8079586206436158... \tTest Accuracy: 31.772151898734176\n",
            "Round: 14... \tAverage Train Loss: 0.402... \tTest Loss: 1.7242982944488525... \tTest Accuracy: 38.607594936708864\n",
            "Round: 15... \tAverage Train Loss: 0.387... \tTest Loss: 1.6845860683441163... \tTest Accuracy: 42.151898734177216\n",
            "Round: 16... \tAverage Train Loss: 0.368... \tTest Loss: 1.6730687202453614... \tTest Accuracy: 41.89873417721519\n",
            "Round: 17... \tAverage Train Loss: 0.399... \tTest Loss: 1.6596040615081786... \tTest Accuracy: 40.379746835443036\n",
            "Round: 18... \tAverage Train Loss: 0.398... \tTest Loss: 1.5975302402496339... \tTest Accuracy: 44.177215189873415\n",
            "Round: 19... \tAverage Train Loss: 0.378... \tTest Loss: 1.5858044384002685... \tTest Accuracy: 43.67088607594937\n",
            "Round: 20... \tAverage Train Loss: 0.38... \tTest Loss: 1.5350491594314575... \tTest Accuracy: 46.45569620253165\n",
            "Round: 21... \tAverage Train Loss: 0.333... \tTest Loss: 1.508050144958496... \tTest Accuracy: 44.68354430379747\n",
            "Round: 22... \tAverage Train Loss: 0.37... \tTest Loss: 1.5186684595108033... \tTest Accuracy: 45.063291139240505\n",
            "Round: 23... \tAverage Train Loss: 0.367... \tTest Loss: 1.478792725944519... \tTest Accuracy: 48.35443037974684\n",
            "Round: 24... \tAverage Train Loss: 0.329... \tTest Loss: 1.409069870185852... \tTest Accuracy: 52.65822784810127\n",
            "Round: 25... \tAverage Train Loss: 0.349... \tTest Loss: 1.406347993850708... \tTest Accuracy: 53.79746835443038\n",
            "Round: 26... \tAverage Train Loss: 0.349... \tTest Loss: 1.4783363948822021... \tTest Accuracy: 44.050632911392405\n"
          ],
          "name": "stdout"
        },
        {
          "output_type": "display_data",
          "data": {
            "image/png": "[encoded data removed]",
            "text/plain": [
              "<Figure size 432x288 with 1 Axes>"
            ]
          },
          "metadata": {
            "tags": [],
            "needs_background": "light"
          }
        },
        {
          "output_type": "display_data",
          "data": {
            "image/png": "[encoded data removed]",
            "text/plain": [
              "<Figure size 432x288 with 1 Axes>"
            ]
          },
          "metadata": {
            "tags": [],
            "needs_background": "light"
          }
        },
        {
          "output_type": "display_data",
          "data": {
            "image/png": "[encoded data removed]",
            "text/plain": [
              "<Figure size 432x288 with 1 Axes>"
            ]
          },
          "metadata": {
            "tags": [],
            "needs_background": "light"
          }
        },
        {
          "output_type": "stream",
          "text": [
            "Training Done!\n",
            "Total time taken to Train: 2933.641804456711\n",
            "\n",
            "\n"
          ],
          "name": "stdout"
        }
      ]
    },
    {
      "cell_type": "markdown",
      "metadata": {
        "id": "4C68J-Kk14dB"
      },
      "source": [
        "### Test"
      ]
    },
    {
      "cell_type": "code",
      "metadata": {
        "id": "_yQ9GiAZ15jE"
      },
      "source": [
        "# criterion = nn.CrossEntropyLoss()\n",
        "# acc, loss = testing(cifar_cnn_non_iid_trained, cifar_data_test, 128, criterion, num_classes, classes_test, True)"
      ],
      "execution_count": 26,
      "outputs": []
    },
    {
      "cell_type": "code",
      "metadata": {
        "id": "dxMcxgLhLvX-"
      },
      "source": [
        "hyperparams = {'rounds': rounds,\n",
        "               'C': C,\n",
        "               'K': K,\n",
        "               'E': E,\n",
        "               'batch_size': batch_size,\n",
        "               'lr': lr,\n",
        "               'mu': mu,\n",
        "               'percentage': percentage,\n",
        "               'target_test_accuracy': target_test_accuracy,\n",
        "               }\n",
        "\n",
        "log_dict['CIFAR CNN on Non IID'] = {'train_loss': train_loss_multiple_runs, \n",
        "                                'test_loss': test_loss_multiple_runs, \n",
        "                                'test_accuracy': test_accuracy_multiple_runs,\n",
        "                                'hyperparams': hyperparams,\n",
        "                                }"
      ],
      "execution_count": 27,
      "outputs": []
    },
    {
      "cell_type": "markdown",
      "metadata": {
        "id": "ptMieSimVxid"
      },
      "source": [
        "## CIFAR MLP on IID"
      ]
    },
    {
      "cell_type": "markdown",
      "metadata": {
        "id": "mz3f_fOxVxie"
      },
      "source": [
        "### Train"
      ]
    },
    {
      "cell_type": "code",
      "metadata": {
        "id": "5ZGAZPhtVxie"
      },
      "source": [
        "# train_loss_multiple_runs = [None] * NUM_REPEAT\n",
        "# test_accuracy_multiple_runs = [None] * NUM_REPEAT\n",
        "# test_loss_multiple_runs = [None] * NUM_REPEAT\n",
        "\n",
        "# for exp_num in range(NUM_REPEAT):\n",
        "#   print(\"Experiment Run Number: \", exp_num)\n",
        "\n",
        "#   # number of training rounds\n",
        "#   rounds = 50\n",
        "#   # client fraction\n",
        "#   C = 0.1\n",
        "#   # number of clients\n",
        "#   K = 100\n",
        "#   # number of training passes on local dataset for each round\n",
        "#   E = 5\n",
        "#   # batch size\n",
        "#   batch_size = 10\n",
        "#   # learning Rate\n",
        "#   lr=0.05\n",
        "#   # proximal term constant\n",
        "#   mu = 0.01\n",
        "#   # percentage of clients to have fewer than E epochs\n",
        "#   percentage = 50\n",
        "#   # target_test_accuracy\n",
        "#   target_test_accuracy=50.0\n",
        "\n",
        "#   # dict containing different type of data partition\n",
        "#   data_dict = iid_partition(cifar_data_train, 100)\n",
        "#   # load model\n",
        "#   cifar_mlp = CIFAR_MLP()\n",
        "\n",
        "#   if torch.cuda.is_available():\n",
        "#     cifar_mlp.cuda()\n",
        "\n",
        "#   cifar_mlp_iid_trained, train_loss, test_accuracy, test_loss = training(cifar_mlp, rounds, batch_size, lr, cifar_data_train, cifar_data_test, data_dict, C, K, E, mu, percentage, \"CIFAR MLP on IID Dataset\", \"orange\", target_test_accuracy)\n",
        "  \n",
        "#   train_loss_multiple_runs[exp_num] = train_loss\n",
        "#   test_accuracy_multiple_runs[exp_num] = test_accuracy\n",
        "#   test_loss_multiple_runs[exp_num] = test_loss\n",
        "\n",
        "#   del cifar_mlp_iid_trained\n",
        "#   torch.cuda.empty_cache()"
      ],
      "execution_count": 28,
      "outputs": []
    },
    {
      "cell_type": "markdown",
      "metadata": {
        "id": "aTBsL3-72PPd"
      },
      "source": [
        "### Test"
      ]
    },
    {
      "cell_type": "code",
      "metadata": {
        "id": "a9G4j5L62OrS"
      },
      "source": [
        "# criterion = nn.CrossEntropyLoss()\n",
        "# acc, loss = testing(cifar_mlp_iid_trained, cifar_data_test, 128, criterion, num_classes, classes_test, True)"
      ],
      "execution_count": 29,
      "outputs": []
    },
    {
      "cell_type": "code",
      "metadata": {
        "id": "fWCdJFRCL_f2"
      },
      "source": [
        "# hyperparams = {'rounds': rounds,\n",
        "#                'C': C,\n",
        "#                'K': K,\n",
        "#                'E': E,\n",
        "#                'batch_size': batch_size,\n",
        "#                'lr': lr,\n",
        "#                'mu': mu,\n",
        "#                'percentage': percentage,\n",
        "#                'target_test_accuracy': target_test_accuracy,\n",
        "#                }\n",
        "\n",
        "# log_dict['CIFAR MLP on IID'] = {'train_loss': train_loss_multiple_runs, \n",
        "#                                 'test_loss': test_loss_multiple_runs, \n",
        "#                                 'test_accuracy': test_accuracy_multiple_runs,\n",
        "#                                 'hyperparams': hyperparams,\n",
        "#                                 }"
      ],
      "execution_count": 30,
      "outputs": []
    },
    {
      "cell_type": "markdown",
      "metadata": {
        "id": "J8jzEyO0iywz"
      },
      "source": [
        "## CIFAR MLP on Non IID"
      ]
    },
    {
      "cell_type": "markdown",
      "metadata": {
        "id": "pJFepr3y2bF-"
      },
      "source": [
        "### Train"
      ]
    },
    {
      "cell_type": "code",
      "metadata": {
        "id": "EBKO44Hgi1Uh"
      },
      "source": [
        "# train_loss_multiple_runs = [None] * NUM_REPEAT\n",
        "# test_accuracy_multiple_runs = [None] * NUM_REPEAT\n",
        "# test_loss_multiple_runs = [None] * NUM_REPEAT\n",
        "\n",
        "# for exp_num in range(NUM_REPEAT):\n",
        "#   print(\"Experiment Run Number: \", exp_num)\n",
        "  \n",
        "#   # number of training rounds\n",
        "#   rounds = 50\n",
        "#   # client fraction\n",
        "#   C = 0.1\n",
        "#   # number of clients\n",
        "#   K = 100\n",
        "#   # number of training passes on local dataset for each roung\n",
        "#   E = 5\n",
        "#   # batch size\n",
        "#   batch_size = 10\n",
        "#   # learning Rate\n",
        "#   lr=0.05\n",
        "#   # proximal term constant\n",
        "#   mu = 0.01\n",
        "#   # percentage of clients to have fewer than E epochs\n",
        "#   percentage = 50\n",
        "#   # target_test_accuracy\n",
        "#   target_test_accuracy=50.0\n",
        "\n",
        "#   # dict containing different type of data partition\n",
        "#   data_dict = non_iid_partition(cifar_data_train, 100, 200, 250, 2)\n",
        "#   # load model\n",
        "#   cifar_mlp = CIFAR_MLP()\n",
        "\n",
        "#   if torch.cuda.is_available():\n",
        "#     cifar_mlp.cuda()\n",
        "\n",
        "#   cifar_mlp_non_iid_trained, train_loss, test_accuracy, test_loss = training(cifar_mlp, rounds, batch_size, lr, cifar_data_train, cifar_data_test, data_dict, C, K, E, mu, percentage, \"CIFAR MLP on Non-IID Dataset\", \"green\", target_test_accuracy)\n",
        "\n",
        "#   train_loss_multiple_runs[exp_num] = train_loss\n",
        "#   test_accuracy_multiple_runs[exp_num] = test_accuracy\n",
        "#   test_loss_multiple_runs[exp_num] = test_loss\n",
        "\n",
        "#   del cifar_mlp_non_iid_trained\n",
        "#   torch.cuda.empty_cache()"
      ],
      "execution_count": 31,
      "outputs": []
    },
    {
      "cell_type": "markdown",
      "metadata": {
        "id": "jmuQYPbF2mes"
      },
      "source": [
        "### Test"
      ]
    },
    {
      "cell_type": "code",
      "metadata": {
        "id": "0tKMlJyF2nGN"
      },
      "source": [
        "# criterion = nn.CrossEntropyLoss()\n",
        "# acc, loss = testing(cifar_mlp_non_iid_trained, cifar_data_test, 128, criterion, num_classes, classes_test, True)"
      ],
      "execution_count": 32,
      "outputs": []
    },
    {
      "cell_type": "code",
      "metadata": {
        "id": "1W5krYcSMQiu"
      },
      "source": [
        "# hyperparams = {'rounds': rounds,\n",
        "#                'C': C,\n",
        "#                'K': K,\n",
        "#                'E': E,\n",
        "#                'batch_size': batch_size,\n",
        "#                'lr': lr,\n",
        "#                'mu': mu,\n",
        "#                'percentage': percentage,\n",
        "#                'target_test_accuracy': target_test_accuracy,\n",
        "#                }\n",
        "\n",
        "# log_dict['CIFAR MLP on Non IID'] = {'train_loss': train_loss_multiple_runs, \n",
        "#                                 'test_loss': test_loss_multiple_runs, \n",
        "#                                 'test_accuracy': test_accuracy_multiple_runs,\n",
        "#                                 'hyperparams': hyperparams,\n",
        "#                                 }"
      ],
      "execution_count": 33,
      "outputs": []
    },
    {
      "cell_type": "markdown",
      "metadata": {
        "id": "emS_SaRAP6TZ"
      },
      "source": [
        "## Pickle Log"
      ]
    },
    {
      "cell_type": "code",
      "metadata": {
        "id": "soAN38JoP0c1"
      },
      "source": [
        "import pickle\n",
        "\n",
        "with open(path + 'FedProx0.5.pkl', 'wb') as file:\n",
        "  pickle.dump(log_dict, file)"
      ],
      "execution_count": 34,
      "outputs": []
    },
    {
      "cell_type": "code",
      "metadata": {
        "id": "2UBy-JswSoCJ",
        "colab": {
          "base_uri": "https://localhost:8080/"
        },
        "outputId": "6a469098-3fd5-4aca-c43c-71adef58e332"
      },
      "source": [
        "log_dict"
      ],
      "execution_count": 35,
      "outputs": [
        {
          "output_type": "execute_result",
          "data": {
            "text/plain": [
              "{'CIFAR CNN on IID': {'hyperparams': {'C': 0.5,\n",
              "   'E': 5,\n",
              "   'K': 100,\n",
              "   'batch_size': 10,\n",
              "   'lr': 0.05,\n",
              "   'mu': 0.01,\n",
              "   'percentage': 50,\n",
              "   'rounds': 50,\n",
              "   'target_test_accuracy': 80.0},\n",
              "  'test_accuracy': [[9.746835443037975,\n",
              "    25.949367088607595,\n",
              "    36.075949367088604,\n",
              "    39.24050632911393,\n",
              "    44.050632911392405,\n",
              "    45.822784810126585,\n",
              "    48.607594936708864,\n",
              "    50.0,\n",
              "    49.87341772151899,\n",
              "    52.40506329113924,\n",
              "    52.91139240506329,\n",
              "    54.936708860759495,\n",
              "    58.35443037974684,\n",
              "    58.734177215189874,\n",
              "    60.88607594936709,\n",
              "    61.0126582278481,\n",
              "    62.0253164556962,\n",
              "    62.278481012658226,\n",
              "    63.79746835443038,\n",
              "    66.32911392405063,\n",
              "    65.9493670886076,\n",
              "    68.10126582278481,\n",
              "    68.9873417721519,\n",
              "    69.62025316455696,\n",
              "    70.0,\n",
              "    70.75949367088607,\n",
              "    71.39240506329114,\n",
              "    71.26582278481013,\n",
              "    72.15189873417721,\n",
              "    72.9113924050633,\n",
              "    72.40506329113924,\n",
              "    74.0506329113924,\n",
              "    73.79746835443038,\n",
              "    73.92405063291139,\n",
              "    74.9367088607595,\n",
              "    75.82278481012658,\n",
              "    76.32911392405063,\n",
              "    76.20253164556962,\n",
              "    77.0886075949367,\n",
              "    76.9620253164557,\n",
              "    77.59493670886076,\n",
              "    77.34177215189874,\n",
              "    77.21518987341773,\n",
              "    77.9746835443038,\n",
              "    78.73417721518987,\n",
              "    78.48101265822785,\n",
              "    78.73417721518987,\n",
              "    79.24050632911393,\n",
              "    80.50632911392405,\n",
              "    79.74683544303798]],\n",
              "  'test_loss': [[2.2682533657073973,\n",
              "    1.9971106712341309,\n",
              "    1.8145871913909912,\n",
              "    1.7072949548721315,\n",
              "    1.5934121295928956,\n",
              "    1.5256343503952026,\n",
              "    1.4707565000534057,\n",
              "    1.3981496635437012,\n",
              "    1.3593385915756226,\n",
              "    1.318955504989624,\n",
              "    1.2628622816085815,\n",
              "    1.218609168624878,\n",
              "    1.1892898601531983,\n",
              "    1.147379081916809,\n",
              "    1.1155801919937134,\n",
              "    1.082554541015625,\n",
              "    1.0493277015686036,\n",
              "    1.0118913206100464,\n",
              "    0.9908210713386536,\n",
              "    0.9590419719696045,\n",
              "    0.9335452376365662,\n",
              "    0.9054248999595642,\n",
              "    0.8875158405303956,\n",
              "    0.872380277633667,\n",
              "    0.845114077091217,\n",
              "    0.8307716520309448,\n",
              "    0.8094605159759521,\n",
              "    0.8014381407737732,\n",
              "    0.7797282610893249,\n",
              "    0.7620218234062195,\n",
              "    0.7514052632331848,\n",
              "    0.7366519433975219,\n",
              "    0.7222690448760987,\n",
              "    0.7132127680778504,\n",
              "    0.7028758850097656,\n",
              "    0.6853550084114075,\n",
              "    0.6794551050662995,\n",
              "    0.6649833772659302,\n",
              "    0.653193155670166,\n",
              "    0.6445082653045654,\n",
              "    0.636678421497345,\n",
              "    0.6303701698303222,\n",
              "    0.6226528653144836,\n",
              "    0.6156805607795716,\n",
              "    0.6061280708312988,\n",
              "    0.5984979577541352,\n",
              "    0.5901494317054748,\n",
              "    0.5831286975383758,\n",
              "    0.5735442718029022,\n",
              "    0.5660870144367218]],\n",
              "  'train_loss': [[2.194504353131453,\n",
              "    2.081269463324546,\n",
              "    1.9803715540353464,\n",
              "    1.905041986372471,\n",
              "    1.8444841610900562,\n",
              "    1.781339659048717,\n",
              "    1.7239274644164242,\n",
              "    1.6740191493046286,\n",
              "    1.6294314576820534,\n",
              "    1.5808780845872556,\n",
              "    1.536638602582812,\n",
              "    1.4981006486757602,\n",
              "    1.4587728582549095,\n",
              "    1.4290753452523552,\n",
              "    1.392029800186952,\n",
              "    1.3457107287172476,\n",
              "    1.3046183092292147,\n",
              "    1.2762812776633101,\n",
              "    1.2430426671210923,\n",
              "    1.2072978085764248,\n",
              "    1.1647891264816126,\n",
              "    1.1335846198704835,\n",
              "    1.1056244233971833,\n",
              "    1.0816443696681657,\n",
              "    1.0526733304168778,\n",
              "    1.0239640960107246,\n",
              "    1.0007293615331252,\n",
              "    0.9633735236483812,\n",
              "    0.9526240262902779,\n",
              "    0.9174555597663919,\n",
              "    0.9047363872261844,\n",
              "    0.8709154744649923,\n",
              "    0.8519097455943623,\n",
              "    0.8362667106644315,\n",
              "    0.8243273287069798,\n",
              "    0.8061011768415569,\n",
              "    0.7818324249695737,\n",
              "    0.7755213844074311,\n",
              "    0.7560599267201126,\n",
              "    0.7466119138287504,\n",
              "    0.724174547223846,\n",
              "    0.7049008276546499,\n",
              "    0.7005808414462209,\n",
              "    0.6883125544884304,\n",
              "    0.6777426602212587,\n",
              "    0.654096299972435,\n",
              "    0.6514607422718902,\n",
              "    0.6345416420324146,\n",
              "    0.6270091263184946,\n",
              "    0.6314757434765995]]},\n",
              " 'CIFAR CNN on Non IID': {'hyperparams': {'C': 0.5,\n",
              "   'E': 5,\n",
              "   'K': 100,\n",
              "   'batch_size': 10,\n",
              "   'lr': 0.05,\n",
              "   'mu': 0.01,\n",
              "   'percentage': 50,\n",
              "   'rounds': 50,\n",
              "   'target_test_accuracy': 80.0},\n",
              "  'test_accuracy': [[9.367088607594937,\n",
              "    11.012658227848101,\n",
              "    11.012658227848101,\n",
              "    18.860759493670887,\n",
              "    21.645569620253166,\n",
              "    27.21518987341772,\n",
              "    28.10126582278481,\n",
              "    31.265822784810126,\n",
              "    28.60759493670886,\n",
              "    32.65822784810127,\n",
              "    35.44303797468354,\n",
              "    36.45569620253165,\n",
              "    31.772151898734176,\n",
              "    38.607594936708864,\n",
              "    42.151898734177216,\n",
              "    41.89873417721519,\n",
              "    40.379746835443036,\n",
              "    44.177215189873415,\n",
              "    43.67088607594937,\n",
              "    46.45569620253165,\n",
              "    44.68354430379747,\n",
              "    45.063291139240505,\n",
              "    48.35443037974684,\n",
              "    52.65822784810127,\n",
              "    53.79746835443038,\n",
              "    44.050632911392405]],\n",
              "  'test_loss': [[2.302568268585205,\n",
              "    2.3040789558410646,\n",
              "    2.273592491531372,\n",
              "    2.203592448806763,\n",
              "    2.13028581161499,\n",
              "    2.0604058334350586,\n",
              "    2.0053443840026857,\n",
              "    1.928455369567871,\n",
              "    1.948880189704895,\n",
              "    1.8671367017745972,\n",
              "    1.8237211807250977,\n",
              "    1.798328263282776,\n",
              "    1.8079586206436158,\n",
              "    1.7242982944488525,\n",
              "    1.6845860683441163,\n",
              "    1.6730687202453614,\n",
              "    1.6596040615081786,\n",
              "    1.5975302402496339,\n",
              "    1.5858044384002685,\n",
              "    1.5350491594314575,\n",
              "    1.508050144958496,\n",
              "    1.5186684595108033,\n",
              "    1.478792725944519,\n",
              "    1.409069870185852,\n",
              "    1.406347993850708,\n",
              "    1.4783363948822021]],\n",
              "  'train_loss': [[0.634169950797974,\n",
              "    0.6117811896544323,\n",
              "    0.5496047534004351,\n",
              "    0.5357601852870113,\n",
              "    0.5487993283003694,\n",
              "    0.5047173283763354,\n",
              "    0.48388953562973697,\n",
              "    0.4440307306457684,\n",
              "    0.49338191460385294,\n",
              "    0.4527388348698432,\n",
              "    0.4310859740538336,\n",
              "    0.4180414261245105,\n",
              "    0.4111314732571318,\n",
              "    0.40230240699401115,\n",
              "    0.38736246889999765,\n",
              "    0.3682828793244932,\n",
              "    0.39907048942860207,\n",
              "    0.39834092463401455,\n",
              "    0.37767023970736197,\n",
              "    0.3796724158196089,\n",
              "    0.33250782959080005,\n",
              "    0.37049244636273015,\n",
              "    0.3669931982436777,\n",
              "    0.3285961857677872,\n",
              "    0.34875588167220345,\n",
              "    0.3488158009893448]]}}"
            ]
          },
          "metadata": {
            "tags": []
          },
          "execution_count": 35
        }
      ]
    },
    {
      "cell_type": "code",
      "metadata": {
        "id": "x1r1hcqMUCeZ"
      },
      "source": [
        "import pickle\n",
        "\n",
        "with open(path + 'FedProx0.5.pkl', 'rb') as file:\n",
        "  log_dict = pickle.load(file)"
      ],
      "execution_count": 36,
      "outputs": []
    },
    {
      "cell_type": "code",
      "metadata": {
        "id": "se_04JMaVJPg",
        "colab": {
          "base_uri": "https://localhost:8080/"
        },
        "outputId": "1d4af808-145b-412e-f8d1-a73b0ed50e24"
      },
      "source": [
        "print([test_acc[-1] for test_acc in log_dict['CIFAR CNN on IID']['test_accuracy']])"
      ],
      "execution_count": 37,
      "outputs": [
        {
          "output_type": "stream",
          "text": [
            "[79.74683544303798]\n"
          ],
          "name": "stdout"
        }
      ]
    },
    {
      "cell_type": "code",
      "metadata": {
        "id": "5sv0rv-G4Sqa",
        "colab": {
          "base_uri": "https://localhost:8080/"
        },
        "outputId": "04ae8085-f9d5-4a26-f300-10dc3b58a1c3"
      },
      "source": [
        "print([test_acc[-1] for test_acc in log_dict['CIFAR CNN on Non IID']['test_accuracy']])"
      ],
      "execution_count": 38,
      "outputs": [
        {
          "output_type": "stream",
          "text": [
            "[44.050632911392405]\n"
          ],
          "name": "stdout"
        }
      ]
    },
    {
      "cell_type": "code",
      "metadata": {
        "id": "b2a2_Az-4nal"
      },
      "source": [
        "# print([test_acc[-1] for test_acc in log_dict['CIFAR MLP on IID']['test_accuracy']])"
      ],
      "execution_count": 39,
      "outputs": []
    },
    {
      "cell_type": "code",
      "metadata": {
        "id": "YoRqZyvD4p2K"
      },
      "source": [
        "# print([test_acc[-1] for test_acc in log_dict['CIFAR MLP on Non IID']['test_accuracy']])"
      ],
      "execution_count": 40,
      "outputs": []
    },
    {
      "cell_type": "code",
      "metadata": {
        "id": "mkG1kQdmVzbJ",
        "colab": {
          "base_uri": "https://localhost:8080/",
          "height": 165
        },
        "outputId": "34a46563-5010-474d-907f-05e44472348f"
      },
      "source": [
        "while True:pass"
      ],
      "execution_count": 41,
      "outputs": [
        {
          "output_type": "error",
          "ename": "KeyboardInterrupt",
          "evalue": "ignored",
          "traceback": [
            "\u001b[0;31m---------------------------------------------------------------------------\u001b[0m",
            "\u001b[0;31mKeyboardInterrupt\u001b[0m                         Traceback (most recent call last)",
            "\u001b[0;32m<ipython-input-41-534b7a74019f>\u001b[0m in \u001b[0;36m<module>\u001b[0;34m()\u001b[0m\n\u001b[0;32m----> 1\u001b[0;31m \u001b[0;32mwhile\u001b[0m \u001b[0;32mTrue\u001b[0m\u001b[0;34m:\u001b[0m\u001b[0;32mpass\u001b[0m\u001b[0;34m\u001b[0m\u001b[0;34m\u001b[0m\u001b[0m\n\u001b[0m",
            "\u001b[0;31mKeyboardInterrupt\u001b[0m: "
          ]
        }
      ]
    }
  ]
}